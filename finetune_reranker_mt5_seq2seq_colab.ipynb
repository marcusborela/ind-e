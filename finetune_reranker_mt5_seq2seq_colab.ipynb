{
  "cells": [
    {
      "cell_type": "markdown",
      "metadata": {
        "id": "view-in-github",
        "colab_type": "text"
      },
      "source": [
        "<a href=\"https://colab.research.google.com/github/marcusborela/ind-ir/blob/main/finetune_reranker_mt5_seq2seq_colab.ipynb\" target=\"_parent\"><img src=\"https://colab.research.google.com/assets/colab-badge.svg\" alt=\"Open In Colab\"/></a>"
      ]
    },
    {
      "cell_type": "markdown",
      "metadata": {
        "id": "CcN_5-RDWeqV"
      },
      "source": [
        "# Finetuning Ranker"
      ]
    },
    {
      "cell_type": "markdown",
      "metadata": {
        "id": "fPNvc27A6WFj"
      },
      "source": [
        "# Installs"
      ]
    },
    {
      "cell_type": "code",
      "execution_count": 71,
      "metadata": {
        "colab": {
          "base_uri": "https://localhost:8080/"
        },
        "id": "yAoPEGKQpLAN",
        "outputId": "1bc58779-aa03-4fd6-e042-43671d3600ea"
      },
      "outputs": [
        {
          "output_type": "stream",
          "name": "stdout",
          "text": [
            "Requirement already satisfied: bitsandbytes in /usr/local/lib/python3.10/dist-packages (0.39.1)\n"
          ]
        }
      ],
      "source": [
        "pip install bitsandbytes"
      ]
    },
    {
      "cell_type": "code",
      "execution_count": 72,
      "metadata": {
        "colab": {
          "base_uri": "https://localhost:8080/"
        },
        "id": "DWn-7w2WstVF",
        "outputId": "db6b52c2-57f9-4968-d8ea-b560c9a34117"
      },
      "outputs": [
        {
          "output_type": "stream",
          "name": "stdout",
          "text": [
            "Requirement already satisfied: accelerate in /usr/local/lib/python3.10/dist-packages (0.20.3)\n",
            "Requirement already satisfied: numpy>=1.17 in /usr/local/lib/python3.10/dist-packages (from accelerate) (1.22.4)\n",
            "Requirement already satisfied: packaging>=20.0 in /usr/local/lib/python3.10/dist-packages (from accelerate) (23.1)\n",
            "Requirement already satisfied: psutil in /usr/local/lib/python3.10/dist-packages (from accelerate) (5.9.5)\n",
            "Requirement already satisfied: pyyaml in /usr/local/lib/python3.10/dist-packages (from accelerate) (6.0)\n",
            "Requirement already satisfied: torch>=1.6.0 in /usr/local/lib/python3.10/dist-packages (from accelerate) (2.0.1+cu118)\n",
            "Requirement already satisfied: filelock in /usr/local/lib/python3.10/dist-packages (from torch>=1.6.0->accelerate) (3.12.2)\n",
            "Requirement already satisfied: typing-extensions in /usr/local/lib/python3.10/dist-packages (from torch>=1.6.0->accelerate) (4.6.3)\n",
            "Requirement already satisfied: sympy in /usr/local/lib/python3.10/dist-packages (from torch>=1.6.0->accelerate) (1.11.1)\n",
            "Requirement already satisfied: networkx in /usr/local/lib/python3.10/dist-packages (from torch>=1.6.0->accelerate) (3.1)\n",
            "Requirement already satisfied: jinja2 in /usr/local/lib/python3.10/dist-packages (from torch>=1.6.0->accelerate) (3.1.2)\n",
            "Requirement already satisfied: triton==2.0.0 in /usr/local/lib/python3.10/dist-packages (from torch>=1.6.0->accelerate) (2.0.0)\n",
            "Requirement already satisfied: cmake in /usr/local/lib/python3.10/dist-packages (from triton==2.0.0->torch>=1.6.0->accelerate) (3.25.2)\n",
            "Requirement already satisfied: lit in /usr/local/lib/python3.10/dist-packages (from triton==2.0.0->torch>=1.6.0->accelerate) (16.0.6)\n",
            "Requirement already satisfied: MarkupSafe>=2.0 in /usr/local/lib/python3.10/dist-packages (from jinja2->torch>=1.6.0->accelerate) (2.1.3)\n",
            "Requirement already satisfied: mpmath>=0.19 in /usr/local/lib/python3.10/dist-packages (from sympy->torch>=1.6.0->accelerate) (1.3.0)\n"
          ]
        }
      ],
      "source": [
        "pip install accelerate -U"
      ]
    },
    {
      "cell_type": "code",
      "execution_count": 73,
      "metadata": {
        "colab": {
          "base_uri": "https://localhost:8080/"
        },
        "id": "6XEO_Or8ul18",
        "outputId": "1b57ee7a-0c65-450a-86da-4ce21e45e946"
      },
      "outputs": [
        {
          "output_type": "stream",
          "name": "stdout",
          "text": [
            "Requirement already satisfied: sentencepiece in /usr/local/lib/python3.10/dist-packages (0.1.99)\n"
          ]
        }
      ],
      "source": [
        "pip install sentencepiece"
      ]
    },
    {
      "cell_type": "code",
      "execution_count": 74,
      "metadata": {
        "colab": {
          "base_uri": "https://localhost:8080/"
        },
        "id": "umVQVnSBxnKT",
        "outputId": "1e4662e4-2adc-4d45-a5a6-69c40210ed32"
      },
      "outputs": [
        {
          "output_type": "stream",
          "name": "stdout",
          "text": [
            "Requirement already satisfied: transformers[torch] in /usr/local/lib/python3.10/dist-packages (4.30.2)\n",
            "Requirement already satisfied: filelock in /usr/local/lib/python3.10/dist-packages (from transformers[torch]) (3.12.2)\n",
            "Requirement already satisfied: huggingface-hub<1.0,>=0.14.1 in /usr/local/lib/python3.10/dist-packages (from transformers[torch]) (0.15.1)\n",
            "Requirement already satisfied: numpy>=1.17 in /usr/local/lib/python3.10/dist-packages (from transformers[torch]) (1.22.4)\n",
            "Requirement already satisfied: packaging>=20.0 in /usr/local/lib/python3.10/dist-packages (from transformers[torch]) (23.1)\n",
            "Requirement already satisfied: pyyaml>=5.1 in /usr/local/lib/python3.10/dist-packages (from transformers[torch]) (6.0)\n",
            "Requirement already satisfied: regex!=2019.12.17 in /usr/local/lib/python3.10/dist-packages (from transformers[torch]) (2022.10.31)\n",
            "Requirement already satisfied: requests in /usr/local/lib/python3.10/dist-packages (from transformers[torch]) (2.27.1)\n",
            "Requirement already satisfied: tokenizers!=0.11.3,<0.14,>=0.11.1 in /usr/local/lib/python3.10/dist-packages (from transformers[torch]) (0.13.3)\n",
            "Requirement already satisfied: safetensors>=0.3.1 in /usr/local/lib/python3.10/dist-packages (from transformers[torch]) (0.3.1)\n",
            "Requirement already satisfied: tqdm>=4.27 in /usr/local/lib/python3.10/dist-packages (from transformers[torch]) (4.65.0)\n",
            "Requirement already satisfied: torch!=1.12.0,>=1.9 in /usr/local/lib/python3.10/dist-packages (from transformers[torch]) (2.0.1+cu118)\n",
            "Requirement already satisfied: accelerate>=0.20.2 in /usr/local/lib/python3.10/dist-packages (from transformers[torch]) (0.20.3)\n",
            "Requirement already satisfied: psutil in /usr/local/lib/python3.10/dist-packages (from accelerate>=0.20.2->transformers[torch]) (5.9.5)\n",
            "Requirement already satisfied: fsspec in /usr/local/lib/python3.10/dist-packages (from huggingface-hub<1.0,>=0.14.1->transformers[torch]) (2023.6.0)\n",
            "Requirement already satisfied: typing-extensions>=3.7.4.3 in /usr/local/lib/python3.10/dist-packages (from huggingface-hub<1.0,>=0.14.1->transformers[torch]) (4.6.3)\n",
            "Requirement already satisfied: sympy in /usr/local/lib/python3.10/dist-packages (from torch!=1.12.0,>=1.9->transformers[torch]) (1.11.1)\n",
            "Requirement already satisfied: networkx in /usr/local/lib/python3.10/dist-packages (from torch!=1.12.0,>=1.9->transformers[torch]) (3.1)\n",
            "Requirement already satisfied: jinja2 in /usr/local/lib/python3.10/dist-packages (from torch!=1.12.0,>=1.9->transformers[torch]) (3.1.2)\n",
            "Requirement already satisfied: triton==2.0.0 in /usr/local/lib/python3.10/dist-packages (from torch!=1.12.0,>=1.9->transformers[torch]) (2.0.0)\n",
            "Requirement already satisfied: cmake in /usr/local/lib/python3.10/dist-packages (from triton==2.0.0->torch!=1.12.0,>=1.9->transformers[torch]) (3.25.2)\n",
            "Requirement already satisfied: lit in /usr/local/lib/python3.10/dist-packages (from triton==2.0.0->torch!=1.12.0,>=1.9->transformers[torch]) (16.0.6)\n",
            "Requirement already satisfied: urllib3<1.27,>=1.21.1 in /usr/local/lib/python3.10/dist-packages (from requests->transformers[torch]) (1.26.16)\n",
            "Requirement already satisfied: certifi>=2017.4.17 in /usr/local/lib/python3.10/dist-packages (from requests->transformers[torch]) (2023.5.7)\n",
            "Requirement already satisfied: charset-normalizer~=2.0.0 in /usr/local/lib/python3.10/dist-packages (from requests->transformers[torch]) (2.0.12)\n",
            "Requirement already satisfied: idna<4,>=2.5 in /usr/local/lib/python3.10/dist-packages (from requests->transformers[torch]) (3.4)\n",
            "Requirement already satisfied: MarkupSafe>=2.0 in /usr/local/lib/python3.10/dist-packages (from jinja2->torch!=1.12.0,>=1.9->transformers[torch]) (2.1.3)\n",
            "Requirement already satisfied: mpmath>=0.19 in /usr/local/lib/python3.10/dist-packages (from sympy->torch!=1.12.0,>=1.9->transformers[torch]) (1.3.0)\n"
          ]
        }
      ],
      "source": [
        "!pip install transformers[torch]"
      ]
    },
    {
      "cell_type": "code",
      "execution_count": 75,
      "metadata": {
        "colab": {
          "base_uri": "https://localhost:8080/"
        },
        "id": "Lld08iM0uzuL",
        "outputId": "68111ea5-e6d0-4e06-d93e-7480ffea7d45"
      },
      "outputs": [
        {
          "output_type": "stream",
          "name": "stdout",
          "text": [
            "Requirement already satisfied: datasets in /usr/local/lib/python3.10/dist-packages (2.13.1)\n",
            "Requirement already satisfied: numpy>=1.17 in /usr/local/lib/python3.10/dist-packages (from datasets) (1.22.4)\n",
            "Requirement already satisfied: pyarrow>=8.0.0 in /usr/local/lib/python3.10/dist-packages (from datasets) (9.0.0)\n",
            "Requirement already satisfied: dill<0.3.7,>=0.3.0 in /usr/local/lib/python3.10/dist-packages (from datasets) (0.3.6)\n",
            "Requirement already satisfied: pandas in /usr/local/lib/python3.10/dist-packages (from datasets) (1.5.3)\n",
            "Requirement already satisfied: requests>=2.19.0 in /usr/local/lib/python3.10/dist-packages (from datasets) (2.27.1)\n",
            "Requirement already satisfied: tqdm>=4.62.1 in /usr/local/lib/python3.10/dist-packages (from datasets) (4.65.0)\n",
            "Requirement already satisfied: xxhash in /usr/local/lib/python3.10/dist-packages (from datasets) (3.2.0)\n",
            "Requirement already satisfied: multiprocess in /usr/local/lib/python3.10/dist-packages (from datasets) (0.70.14)\n",
            "Requirement already satisfied: fsspec[http]>=2021.11.1 in /usr/local/lib/python3.10/dist-packages (from datasets) (2023.6.0)\n",
            "Requirement already satisfied: aiohttp in /usr/local/lib/python3.10/dist-packages (from datasets) (3.8.4)\n",
            "Requirement already satisfied: huggingface-hub<1.0.0,>=0.11.0 in /usr/local/lib/python3.10/dist-packages (from datasets) (0.15.1)\n",
            "Requirement already satisfied: packaging in /usr/local/lib/python3.10/dist-packages (from datasets) (23.1)\n",
            "Requirement already satisfied: pyyaml>=5.1 in /usr/local/lib/python3.10/dist-packages (from datasets) (6.0)\n",
            "Requirement already satisfied: attrs>=17.3.0 in /usr/local/lib/python3.10/dist-packages (from aiohttp->datasets) (23.1.0)\n",
            "Requirement already satisfied: charset-normalizer<4.0,>=2.0 in /usr/local/lib/python3.10/dist-packages (from aiohttp->datasets) (2.0.12)\n",
            "Requirement already satisfied: multidict<7.0,>=4.5 in /usr/local/lib/python3.10/dist-packages (from aiohttp->datasets) (6.0.4)\n",
            "Requirement already satisfied: async-timeout<5.0,>=4.0.0a3 in /usr/local/lib/python3.10/dist-packages (from aiohttp->datasets) (4.0.2)\n",
            "Requirement already satisfied: yarl<2.0,>=1.0 in /usr/local/lib/python3.10/dist-packages (from aiohttp->datasets) (1.9.2)\n",
            "Requirement already satisfied: frozenlist>=1.1.1 in /usr/local/lib/python3.10/dist-packages (from aiohttp->datasets) (1.3.3)\n",
            "Requirement already satisfied: aiosignal>=1.1.2 in /usr/local/lib/python3.10/dist-packages (from aiohttp->datasets) (1.3.1)\n",
            "Requirement already satisfied: filelock in /usr/local/lib/python3.10/dist-packages (from huggingface-hub<1.0.0,>=0.11.0->datasets) (3.12.2)\n",
            "Requirement already satisfied: typing-extensions>=3.7.4.3 in /usr/local/lib/python3.10/dist-packages (from huggingface-hub<1.0.0,>=0.11.0->datasets) (4.6.3)\n",
            "Requirement already satisfied: urllib3<1.27,>=1.21.1 in /usr/local/lib/python3.10/dist-packages (from requests>=2.19.0->datasets) (1.26.16)\n",
            "Requirement already satisfied: certifi>=2017.4.17 in /usr/local/lib/python3.10/dist-packages (from requests>=2.19.0->datasets) (2023.5.7)\n",
            "Requirement already satisfied: idna<4,>=2.5 in /usr/local/lib/python3.10/dist-packages (from requests>=2.19.0->datasets) (3.4)\n",
            "Requirement already satisfied: python-dateutil>=2.8.1 in /usr/local/lib/python3.10/dist-packages (from pandas->datasets) (2.8.2)\n",
            "Requirement already satisfied: pytz>=2020.1 in /usr/local/lib/python3.10/dist-packages (from pandas->datasets) (2022.7.1)\n",
            "Requirement already satisfied: six>=1.5 in /usr/local/lib/python3.10/dist-packages (from python-dateutil>=2.8.1->pandas->datasets) (1.16.0)\n"
          ]
        }
      ],
      "source": [
        "!pip install datasets"
      ]
    },
    {
      "cell_type": "markdown",
      "metadata": {
        "id": "OhMngMsq6ZIV"
      },
      "source": [
        "# Infra"
      ]
    },
    {
      "cell_type": "markdown",
      "metadata": {
        "id": "sD6YYInN6G1u"
      },
      "source": [
        "## Paths"
      ]
    },
    {
      "cell_type": "code",
      "execution_count": 76,
      "metadata": {
        "id": "b3f4qXjB6HMm"
      },
      "outputs": [],
      "source": [
        "PATH_TRAIN_MODEL_LOCAL = \"/content/drive/MyDrive/temp/ind-ir\""
      ]
    },
    {
      "cell_type": "code",
      "execution_count": 77,
      "metadata": {
        "colab": {
          "base_uri": "https://localhost:8080/"
        },
        "id": "CQMx7k0_4jqe",
        "outputId": "d4e40687-5c74-41c1-baa2-fe56b786e71b"
      },
      "outputs": [
        {
          "output_type": "stream",
          "name": "stdout",
          "text": [
            "Drive already mounted at /content/drive; to attempt to forcibly remount, call drive.mount(\"/content/drive\", force_remount=True).\n"
          ]
        }
      ],
      "source": [
        "from google.colab import drive\n",
        "drive.mount('/content/drive')"
      ]
    },
    {
      "cell_type": "markdown",
      "metadata": {
        "id": "hNOEKGtZ55uU"
      },
      "source": [
        "## Função de verificação de memória"
      ]
    },
    {
      "cell_type": "code",
      "execution_count": 78,
      "metadata": {
        "id": "2C0W0RMyx2yu"
      },
      "outputs": [],
      "source": [
        "from psutil import virtual_memory"
      ]
    },
    {
      "cell_type": "code",
      "execution_count": 79,
      "metadata": {
        "colab": {
          "base_uri": "https://localhost:8080/"
        },
        "id": "Ns_pq59lAHke",
        "outputId": "facb50a4-591e-47ff-d273-80656da28006"
      },
      "outputs": [
        {
          "output_type": "stream",
          "name": "stdout",
          "text": [
            "Thu Jun 29 01:45:59 2023       \n",
            "+-----------------------------------------------------------------------------+\n",
            "| NVIDIA-SMI 525.85.12    Driver Version: 525.85.12    CUDA Version: 12.0     |\n",
            "|-------------------------------+----------------------+----------------------+\n",
            "| GPU  Name        Persistence-M| Bus-Id        Disp.A | Volatile Uncorr. ECC |\n",
            "| Fan  Temp  Perf  Pwr:Usage/Cap|         Memory-Usage | GPU-Util  Compute M. |\n",
            "|                               |                      |               MIG M. |\n",
            "|===============================+======================+======================|\n",
            "|   0  NVIDIA A100-SXM...  Off  | 00000000:00:04.0 Off |                    0 |\n",
            "| N/A   33C    P0    52W / 400W |   9293MiB / 40960MiB |      0%      Default |\n",
            "|                               |                      |             Disabled |\n",
            "+-------------------------------+----------------------+----------------------+\n",
            "                                                                               \n",
            "+-----------------------------------------------------------------------------+\n",
            "| Processes:                                                                  |\n",
            "|  GPU   GI   CI        PID   Type   Process name                  GPU Memory |\n",
            "|        ID   ID                                                   Usage      |\n",
            "|=============================================================================|\n",
            "+-----------------------------------------------------------------------------+\n"
          ]
        }
      ],
      "source": [
        "gpu_info = !nvidia-smi\n",
        "gpu_info = '\\n'.join(gpu_info)\n",
        "if gpu_info.find('failed') >= 0:\n",
        "  print('Not connected to a GPU')\n",
        "else:\n",
        "  print(gpu_info)"
      ]
    },
    {
      "cell_type": "code",
      "execution_count": 80,
      "metadata": {
        "id": "9XgIWvkkH-kn"
      },
      "outputs": [],
      "source": [
        "def mostra_memoria(lista_mem=['cpu']):\n",
        "  \"\"\"\n",
        "  Esta função exibe informações de memória da CPU e/ou GPU, conforme parâmetros fornecidos.\n",
        "\n",
        "  Parâmetros:\n",
        "  -----------\n",
        "  lista_mem : list, opcional\n",
        "      Lista com strings 'cpu' e/ou 'gpu'.\n",
        "      'cpu' - exibe informações de memória da CPU.\n",
        "      'gpu' - exibe informações de memória da GPU (se disponível).\n",
        "      O valor padrão é ['cpu'].\n",
        "\n",
        "  Saída:\n",
        "  -------\n",
        "  A função não retorna nada, apenas exibe as informações na tela.\n",
        "\n",
        "  Exemplo de uso:\n",
        "  ---------------\n",
        "  Para exibir informações de memória da CPU:\n",
        "      mostra_memoria(['cpu'])\n",
        "\n",
        "  Para exibir informações de memória da CPU e GPU:\n",
        "      mostra_memoria(['cpu', 'gpu'])\n",
        "\n",
        "  Autor: Marcus Vinícius Borela de Castro\n",
        "\n",
        "  \"\"\"\n",
        "  if 'cpu' in lista_mem:\n",
        "    vm = virtual_memory()\n",
        "    ram={}\n",
        "    ram['total']=round(vm.total / 1e9,2)\n",
        "    ram['available']=round(virtual_memory().available / 1e9,2)\n",
        "    # ram['percent']=round(virtual_memory().percent / 1e9,2)\n",
        "    ram['used']=round(virtual_memory().used / 1e9,2)\n",
        "    ram['free']=round(virtual_memory().free / 1e9,2)\n",
        "    ram['active']=round(virtual_memory().active / 1e9,2)\n",
        "    ram['inactive']=round(virtual_memory().inactive / 1e9,2)\n",
        "    ram['buffers']=round(virtual_memory().buffers / 1e9,2)\n",
        "    ram['cached']=round(virtual_memory().cached/1e9 ,2)\n",
        "    print(f\"Your runtime RAM in gb: \\n total {ram['total']}\\n available {ram['available']}\\n used {ram['used']}\\n free {ram['free']}\\n cached {ram['cached']}\\n buffers {ram['buffers']}\")\n",
        "    print('/nGPU')\n",
        "    gpu_info = !nvidia-smi\n",
        "  if 'gpu' in lista_mem:\n",
        "    gpu_info = '\\n'.join(gpu_info)\n",
        "    if gpu_info.find('failed') >= 0:\n",
        "      print('Not connected to a GPU')\n",
        "    else:\n",
        "      print(gpu_info)\n"
      ]
    },
    {
      "cell_type": "code",
      "execution_count": 81,
      "metadata": {
        "colab": {
          "base_uri": "https://localhost:8080/"
        },
        "id": "3dri9iiMAvCT",
        "outputId": "30bb3028-099d-4ac6-e4de-1a40799bcdc2"
      },
      "outputs": [
        {
          "output_type": "stream",
          "name": "stdout",
          "text": [
            "Your runtime RAM in gb: \n",
            " total 89.64\n",
            " available 82.52\n",
            " used 6.17\n",
            " free 35.53\n",
            " cached 47.76\n",
            " buffers 0.18\n",
            "/nGPU\n",
            "Thu Jun 29 01:45:59 2023       \n",
            "+-----------------------------------------------------------------------------+\n",
            "| NVIDIA-SMI 525.85.12    Driver Version: 525.85.12    CUDA Version: 12.0     |\n",
            "|-------------------------------+----------------------+----------------------+\n",
            "| GPU  Name        Persistence-M| Bus-Id        Disp.A | Volatile Uncorr. ECC |\n",
            "| Fan  Temp  Perf  Pwr:Usage/Cap|         Memory-Usage | GPU-Util  Compute M. |\n",
            "|                               |                      |               MIG M. |\n",
            "|===============================+======================+======================|\n",
            "|   0  NVIDIA A100-SXM...  Off  | 00000000:00:04.0 Off |                    0 |\n",
            "| N/A   33C    P0    53W / 400W |   9293MiB / 40960MiB |      0%      Default |\n",
            "|                               |                      |             Disabled |\n",
            "+-------------------------------+----------------------+----------------------+\n",
            "                                                                               \n",
            "+-----------------------------------------------------------------------------+\n",
            "| Processes:                                                                  |\n",
            "|  GPU   GI   CI        PID   Type   Process name                  GPU Memory |\n",
            "|        ID   ID                                                   Usage      |\n",
            "|=============================================================================|\n",
            "+-----------------------------------------------------------------------------+\n"
          ]
        }
      ],
      "source": [
        "mostra_memoria(['cpu','gpu'])"
      ]
    },
    {
      "cell_type": "markdown",
      "metadata": {
        "id": "cpPSgRGQ5wJv"
      },
      "source": [
        "## Imports"
      ]
    },
    {
      "cell_type": "code",
      "execution_count": 82,
      "metadata": {
        "id": "aGDjEcJ_bawK"
      },
      "outputs": [],
      "source": [
        "import os"
      ]
    },
    {
      "cell_type": "code",
      "execution_count": 83,
      "metadata": {
        "id": "MV8a69JaiEn9"
      },
      "outputs": [],
      "source": [
        "from transformers import Trainer\n",
        "import numpy as np\n",
        "import torch\n"
      ]
    },
    {
      "cell_type": "code",
      "execution_count": 84,
      "metadata": {
        "id": "TfI-DLjRbTzF"
      },
      "outputs": [],
      "source": [
        "import pandas as pd"
      ]
    },
    {
      "cell_type": "code",
      "execution_count": 85,
      "metadata": {
        "id": "CB1vojvvlt0v"
      },
      "outputs": [],
      "source": [
        "from dataclasses import dataclass, field"
      ]
    },
    {
      "cell_type": "code",
      "execution_count": 86,
      "metadata": {
        "id": "f2b7k0tOuv_L"
      },
      "outputs": [],
      "source": [
        "from datasets import Dataset"
      ]
    },
    {
      "cell_type": "code",
      "execution_count": 87,
      "metadata": {
        "id": "ZYqAt-NimJH5"
      },
      "outputs": [],
      "source": [
        "import json\n",
        "from transformers import (\n",
        "    AutoTokenizer,\n",
        "    AutoConfig,\n",
        "    MT5Tokenizer,\n",
        "    AutoModelForSeq2SeqLM,\n",
        "    AutoModelForSequenceClassification,\n",
        "    Trainer,\n",
        "    Seq2SeqTrainer,\n",
        "    Seq2SeqTrainingArguments,\n",
        "    DataCollatorWithPadding,\n",
        "    DataCollatorForSeq2Seq,\n",
        ")\n",
        "from tqdm.auto import tqdm\n",
        "from datasets import Dataset\n",
        "from dataclasses import dataclass, field\n"
      ]
    },
    {
      "cell_type": "markdown",
      "metadata": {
        "id": "8v2gtkEPhA0t"
      },
      "source": [
        "## Preparando para debug e display"
      ]
    },
    {
      "cell_type": "code",
      "execution_count": 88,
      "metadata": {
        "id": "wQ5pmlOHxHhk"
      },
      "outputs": [],
      "source": [
        "def config_display():\n",
        "  \"\"\"\n",
        "  Esta função configura as opções de display do Pandas.\n",
        "  \"\"\"\n",
        "\n",
        "  # Configurando formato saída Pandas\n",
        "  # define o número máximo de colunas que serão exibidas\n",
        "  pd.options.display.max_columns = None\n",
        "\n",
        "  # define a largura máxima de uma linha\n",
        "  pd.options.display.width = 1000\n",
        "\n",
        "  # define o número máximo de linhas que serão exibidas\n",
        "  pd.options.display.max_rows = 100\n",
        "\n",
        "  # define o número máximo de caracteres por coluna\n",
        "  pd.options.display.max_colwidth = 50\n",
        "\n",
        "  # se deve exibir o número de linhas e colunas de um DataFrame.\n",
        "  pd.options.display.show_dimensions = True\n",
        "\n",
        "  # número de dígitos após a vírgula decimal a serem exibidos para floats.\n",
        "  pd.options.display.precision = 7\n"
      ]
    },
    {
      "cell_type": "code",
      "execution_count": 89,
      "metadata": {
        "id": "b2tDy72ATNHs"
      },
      "outputs": [],
      "source": [
        "def config_debug():\n",
        "  \"\"\"\n",
        "  Esta função configura as opções de debug do PyTorch e dos pacotes\n",
        "  transformers e datasets.\n",
        "  \"\"\"\n",
        "\n",
        "  # Define opções de impressão de tensores para o modo científico\n",
        "  torch.set_printoptions(sci_mode=True)\n",
        "  \"\"\"\n",
        "    Significa que valores muito grandes ou muito pequenos são mostrados em notação científica.\n",
        "    Por exemplo, em vez de imprimir o número 0.0000012345 como 0.0000012345,\n",
        "    ele seria impresso como 1.2345e-06. Isso é útil em situações em que os valores dos tensores\n",
        "    envolvidos nas operações são muito grandes ou pequenos, e a notação científica permite\n",
        "    uma melhor compreensão dos números envolvidos.\n",
        "  \"\"\"\n",
        "\n",
        "  # Habilita detecção de anomalias no autograd do PyTorch\n",
        "  torch.autograd.set_detect_anomaly(True)\n",
        "  \"\"\"\n",
        "    Permite identificar operações que podem causar problemas de estabilidade numérica,\n",
        "    como gradientes explodindo ou desaparecendo. Quando essa opção é ativada,\n",
        "    o PyTorch verifica se há operações que geram valores NaN ou infinitos nos tensores\n",
        "    envolvidos no cálculo do gradiente. Se for detectado um valor anômalo, o PyTorch\n",
        "    interrompe a execução e gera uma exceção, permitindo que o erro seja corrigido\n",
        "    antes que se torne um problema maior.\n",
        "\n",
        "    É importante notar que a detecção de anomalias pode ter um impacto significativo\n",
        "    no desempenho, especialmente em modelos grandes e complexos. Por esse motivo,\n",
        "    ela deve ser usada com cautela e apenas para depuração.\n",
        "  \"\"\"\n",
        "\n",
        "  # Configura variável de ambiente para habilitar a execução síncrona (bloqueante) das chamadas da API do CUDA.\n",
        "  os.environ['CUDA_LAUNCH_BLOCKING'] = '1'\n",
        "  \"\"\"\n",
        "    o Python aguarda o término da execução de uma chamada da API do CUDA antes de executar a próxima chamada.\n",
        "    Isso é útil para depurar erros no código que envolve operações na GPU, pois permite que o erro seja capturado\n",
        "    no momento em que ocorre, e não depois de uma sequência de operações que pode tornar a origem do erro mais difícil de determinar.\n",
        "    No entanto, é importante lembrar que esse modo de execução é significativamente mais lento do que a execução assíncrona,\n",
        "    que é o comportamento padrão do CUDA. Por isso, é recomendado utilizar esse comando apenas em situações de depuração\n",
        "    e removê-lo após a solução do problema.\n",
        "  \"\"\"\n",
        "\n",
        "  # Define o nível de verbosity do pacote transformers para info\n",
        "  # transformers.utils.logging.set_verbosity_info()\n",
        "\n",
        "\n",
        "  \"\"\"\n",
        "    Define o nível de detalhamento das mensagens de log geradas pela biblioteca Hugging Face Transformers\n",
        "    para o nível info. Isso significa que a biblioteca irá imprimir mensagens de log informativas sobre\n",
        "    o andamento da execução, tais como tempo de execução, tamanho de batches, etc.\n",
        "\n",
        "    Essas informações podem ser úteis para entender o que está acontecendo durante a execução da tarefa\n",
        "    e auxiliar no processo de debug. É importante notar que, em alguns casos, a quantidade de informações\n",
        "    geradas pode ser muito grande, o que pode afetar o desempenho do sistema e dificultar a visualização\n",
        "    das informações relevantes. Por isso, é importante ajustar o nível de detalhamento de acordo com a\n",
        "    necessidade de cada tarefa.\n",
        "\n",
        "    Caso queira reduzir a quantidade de mensagens, comentar a linha acima e\n",
        "      descomentar as duas linhas abaixo, para definir o nível de verbosity como error ou warning\n",
        "\n",
        "    transformers.utils.logging.set_verbosity_error()\n",
        "    transformers.utils.logging.set_verbosity_warning()\n",
        "  \"\"\"\n",
        "\n",
        "\n",
        "  # Define o modo verbose do xmode, que é utilizado no debug\n",
        "  # %xmode Verbose\n",
        "\n",
        "  \"\"\"\n",
        "    Comando usado no Jupyter Notebook para controlar o modo de exibição das informações de exceções.\n",
        "    O modo verbose é um modo detalhado que exibe informações adicionais ao imprimir as exceções.\n",
        "    Ele inclui as informações de pilha de chamadas completa e valores de variáveis locais e globais\n",
        "    no momento da exceção. Isso pode ser útil para depurar e encontrar a causa de exceções em seu código.\n",
        "    Ao usar %xmode Verbose, as informações de exceção serão impressas com mais detalhes e informações adicionais serão incluídas.\n",
        "\n",
        "    Caso queira desabilitar o modo verbose e utilizar o modo plain,\n",
        "    comentar a linha acima e descomentar a linha abaixo:\n",
        "    %xmode Plain\n",
        "  \"\"\"\n",
        "\n",
        "  \"\"\"\n",
        "    Dica:\n",
        "    1.  pdb (Python Debugger)\n",
        "      Quando ocorre uma exceção em uma parte do código, o programa para a execução e exibe uma mensagem de erro\n",
        "      com informações sobre a exceção, como a linha do código em que ocorreu o erro e o tipo da exceção.\n",
        "\n",
        "      Se você estiver depurando o código e quiser examinar o estado das variáveis ​​e executar outras operações\n",
        "      no momento em que a exceção ocorreu, pode usar o pdb (Python Debugger). Para isso, é preciso colocar o comando %debug\n",
        "      logo após ocorrer a exceção. Isso fará com que o programa pare na linha em que ocorreu a exceção e abra o pdb,\n",
        "      permitindo que você explore o estado das variáveis, examine a pilha de chamadas e execute outras operações para depurar o código.\n",
        "\n",
        "\n",
        "    2. ipdb\n",
        "      O ipdb é um depurador interativo para o Python que oferece recursos mais avançados do que o pdb,\n",
        "      incluindo a capacidade de navegar pelo código fonte enquanto depura.\n",
        "\n",
        "      Você pode começar a depurar seu código inserindo o comando ipdb.set_trace() em qualquer lugar do\n",
        "      seu código onde deseja pausar a execução e começar a depurar. Quando a execução chegar nessa linha,\n",
        "      o depurador entrará em ação, permitindo que você examine o estado atual do seu programa e execute\n",
        "      comandos para investigar o comportamento.\n",
        "\n",
        "      Durante a depuração, você pode usar comandos:\n",
        "        next (para executar a próxima linha de código),\n",
        "        step (para entrar em uma função chamada na próxima linha de código)\n",
        "        continue (para continuar a execução normalmente até o próximo ponto de interrupção).\n",
        "\n",
        "      Ao contrário do pdb, o ipdb é um depurador interativo que permite navegar pelo código fonte em que\n",
        "      está trabalhando enquanto depura, permitindo que você inspecione variáveis, defina pontos de interrupção\n",
        "      adicionais e até mesmo execute expressões Python no contexto do seu programa.\n",
        "  \"\"\"\n"
      ]
    },
    {
      "cell_type": "code",
      "execution_count": 90,
      "metadata": {
        "id": "Tb4aqtcExR84"
      },
      "outputs": [],
      "source": [
        "config_display()"
      ]
    },
    {
      "cell_type": "code",
      "execution_count": 91,
      "metadata": {
        "id": "-5Bq4043fkfh"
      },
      "outputs": [],
      "source": [
        "config_debug()"
      ]
    },
    {
      "cell_type": "markdown",
      "metadata": {
        "id": "r9xRdgUGMPgh"
      },
      "source": [
        "## Vinculando pasta do google drive para salvar dados"
      ]
    },
    {
      "cell_type": "code",
      "execution_count": 92,
      "metadata": {
        "colab": {
          "base_uri": "https://localhost:8080/"
        },
        "id": "ae-Iy2oz_9os",
        "outputId": "e174633c-c47d-4026-e7ca-b0a31d8cbc05"
      },
      "outputs": [
        {
          "output_type": "stream",
          "name": "stdout",
          "text": [
            "Mounted at /content/drive\n"
          ]
        }
      ],
      "source": [
        "from google.colab import drive\n",
        "drive.mount('/content/drive', force_remount=True)"
      ]
    },
    {
      "cell_type": "code",
      "execution_count": 93,
      "metadata": {
        "colab": {
          "base_uri": "https://localhost:8080/"
        },
        "id": "7GYGL4MV_yhQ",
        "outputId": "02b5f3ff-09de-413e-c157-54dad7a97dbb"
      },
      "outputs": [
        {
          "output_type": "stream",
          "name": "stdout",
          "text": [
            "Current directory: /content\n"
          ]
        }
      ],
      "source": [
        "current_dir = os.getcwd()\n",
        "print(\"Current directory:\", current_dir)"
      ]
    },
    {
      "cell_type": "markdown",
      "metadata": {
        "id": "UPlzXHONq9BC"
      },
      "source": [
        "## Constants"
      ]
    },
    {
      "cell_type": "code",
      "execution_count": 94,
      "metadata": {
        "id": "fEod2-Fjl6fB"
      },
      "outputs": [],
      "source": [
        "TOKEN_FALSE = '▁não'\n",
        "TOKEN_TRUE = '▁sim'"
      ]
    },
    {
      "cell_type": "code",
      "execution_count": 95,
      "metadata": {
        "id": "wc5FqYFQrNrE"
      },
      "outputs": [],
      "source": [
        "MODEL_NAME = 'unicamp-dl/ptt5-base-pt-msmarco-100k-v2'\n",
        "# 'unicamp-dl/mt5-3B-mmarco-en-pt'"
      ]
    },
    {
      "cell_type": "markdown",
      "metadata": {
        "id": "lMrTcbJN55ue"
      },
      "source": [
        "# Carga dos dados"
      ]
    },
    {
      "cell_type": "code",
      "execution_count": 96,
      "metadata": {
        "id": "hUm-kyDBEHEL"
      },
      "outputs": [],
      "source": [
        "PATH_LOCAL_DATA = PATH_TRAIN_MODEL_LOCAL"
      ]
    },
    {
      "cell_type": "code",
      "execution_count": 97,
      "metadata": {
        "id": "3KdgJPyrEBzr"
      },
      "outputs": [],
      "source": [
        "# path_data = '/content/drive/MyDrive/treinamento/202301_IA368DD/indir/data/train_data_juris_tcu_index_bm25.csv'\n",
        "# PATH_TRAIN_DATA_ZIP = f\"{PATH_LOCAL_DATA}/train_data_juris_tcu_index_limit_50_per_doc.zip\"\n",
        "PATH_TRAIN_DATA = f\"{PATH_LOCAL_DATA}/train_data_juris_tcu_index.csv\""
      ]
    },
    {
      "cell_type": "code",
      "execution_count": 98,
      "metadata": {
        "colab": {
          "base_uri": "https://localhost:8080/"
        },
        "id": "ZrF4PpSvlrcU",
        "outputId": "3abce44e-ba86-45bc-cb19-e2ebe834414c"
      },
      "outputs": [
        {
          "output_type": "execute_result",
          "data": {
            "text/plain": [
              "True"
            ]
          },
          "metadata": {},
          "execution_count": 98
        }
      ],
      "source": [
        "os.path.exists(PATH_TRAIN_DATA)"
      ]
    },
    {
      "cell_type": "code",
      "execution_count": 99,
      "metadata": {
        "colab": {
          "base_uri": "https://localhost:8080/",
          "height": 105
        },
        "id": "4uFTIlqVHhUR",
        "outputId": "41a5338c-c712-426d-f0d6-fd5037346c39"
      },
      "outputs": [
        {
          "output_type": "execute_result",
          "data": {
            "text/plain": [
              "'\\n%%time\\nif not os.path.exists(PATH_TRAIN_DATA):\\n  import zipfile\\n  !wget https://github.com/marcusborela/ind-ir/raw/main/data/train_juris_tcu_index/train_data_juris_tcu_index_limit_{alt_aqui}_per_doc.zip -O {PATH_TRAIN_DATA_ZIP}\\n\\n  # Extrair o arquivo zip\\n  with zipfile.ZipFile(PATH_TRAIN_DATA_ZIP, \\'r\\') as zip_ref:\\n      zip_ref.extractall(PATH_LOCAL_DATA)\\n\\n  # Listar os arquivos extraídos\\n  arquivos_extraidos = zip_ref.namelist()\\n  # Exibir os arquivos extraídos\\n  for arquivo in arquivos_extraidos:\\n      print(arquivo)\\n  print(\"File loaded\")\\nelse:\\n  print(\"File already there!\")\\n  '"
            ],
            "application/vnd.google.colaboratory.intrinsic+json": {
              "type": "string"
            }
          },
          "metadata": {},
          "execution_count": 99
        }
      ],
      "source": [
        "'''\n",
        "%%time\n",
        "if not os.path.exists(PATH_TRAIN_DATA):\n",
        "  import zipfile\n",
        "  !wget https://github.com/marcusborela/ind-ir/raw/main/data/train_juris_tcu_index/train_data_juris_tcu_index_limit_{alt_aqui}_per_doc.zip -O {PATH_TRAIN_DATA_ZIP}\n",
        "\n",
        "  # Extrair o arquivo zip\n",
        "  with zipfile.ZipFile(PATH_TRAIN_DATA_ZIP, 'r') as zip_ref:\n",
        "      zip_ref.extractall(PATH_LOCAL_DATA)\n",
        "\n",
        "  # Listar os arquivos extraídos\n",
        "  arquivos_extraidos = zip_ref.namelist()\n",
        "  # Exibir os arquivos extraídos\n",
        "  for arquivo in arquivos_extraidos:\n",
        "      print(arquivo)\n",
        "  print(\"File loaded\")\n",
        "else:\n",
        "  print(\"File already there!\")\n",
        "  '''"
      ]
    },
    {
      "cell_type": "code",
      "execution_count": 100,
      "metadata": {
        "id": "r0igqAcT55ue"
      },
      "outputs": [],
      "source": [
        "df = pd.read_csv(PATH_TRAIN_DATA)"
      ]
    },
    {
      "cell_type": "code",
      "execution_count": 101,
      "metadata": {
        "colab": {
          "base_uri": "https://localhost:8080/",
          "height": 641
        },
        "id": "-86s7rdn6SdS",
        "outputId": "d86a2244-c238-4f92-c7f5-2d99adf7b68d"
      },
      "outputs": [
        {
          "output_type": "execute_result",
          "data": {
            "text/plain": [
              "        QUERY_ID   DOC_ID  RELEVANCE  SCORE                                          TYPE                                           DOC_TEXT                                         QUERY_TEXT\n",
              "0         151655     1943          1  0.897                                          TEMA  O termo é \"Agente público\".\\nAgente público te...  O dever de observância à hierarquia militar nã...\n",
              "1         151655    15441          0  0.732             relevant:TEMA, not relevant:TOTAL  O termo é \"Reforma-prêmio\".\\nReforma-prêmio te...  O dever de observância à hierarquia militar nã...\n",
              "2         151655     6373          0  0.717             relevant:TEMA, not relevant:TOTAL  O termo é \"Exercício financeiro anterior\".\\nEx...  O dever de observância à hierarquia militar nã...\n",
              "3         151655     6973          0  0.680             relevant:TEMA, not relevant:TOTAL  O termo é \"CJF\".\\nCJF é classificado como uma ...  O dever de observância à hierarquia militar nã...\n",
              "4         151655     7201          0  0.751             relevant:TEMA, not relevant:TOTAL  O termo é \"Embratur\".\\nEmbratur é classificado...  O dever de observância à hierarquia militar nã...\n",
              "...          ...      ...        ...    ...                                           ...                                                ...                                                ...\n",
              "402733         5     1049          0  0.756  relevant:INDEXACAO_EXTRA, not relevant:TOTAL  O termo é \"Oitiva\".\\nOitiva tem definição: \"Co...  SÚMULA TCU 1: Não se compreendem como vencimen...\n",
              "402734         5    15613          0  0.819  relevant:INDEXACAO_EXTRA, not relevant:TOTAL  O termo é \"Derrogação\".\\nDerrogação tem nota d...  SÚMULA TCU 1: Não se compreendem como vencimen...\n",
              "402735         5  1100488          0  0.852  relevant:INDEXACAO_EXTRA, not relevant:TOTAL  O termo é \"Presunção relativa\".\\nPresunção rel...  SÚMULA TCU 1: Não se compreendem como vencimen...\n",
              "402736         5    14944          0  0.939  relevant:INDEXACAO_EXTRA, not relevant:TOTAL  O termo é \"Contas extraordinárias\".\\nContas ex...  SÚMULA TCU 1: Não se compreendem como vencimen...\n",
              "402737         5     1302          0  0.776  relevant:INDEXACAO_EXTRA, not relevant:TOTAL  O termo é \"Publicação\".\\nPublicação tem nota d...  SÚMULA TCU 1: Não se compreendem como vencimen...\n",
              "\n",
              "[402738 rows x 7 columns]"
            ],
            "text/html": [
              "\n",
              "  <div id=\"df-decaa783-bb17-40fd-8dc8-c0e6e9636fba\">\n",
              "    <div class=\"colab-df-container\">\n",
              "      <div>\n",
              "<style scoped>\n",
              "    .dataframe tbody tr th:only-of-type {\n",
              "        vertical-align: middle;\n",
              "    }\n",
              "\n",
              "    .dataframe tbody tr th {\n",
              "        vertical-align: top;\n",
              "    }\n",
              "\n",
              "    .dataframe thead th {\n",
              "        text-align: right;\n",
              "    }\n",
              "</style>\n",
              "<table border=\"1\" class=\"dataframe\">\n",
              "  <thead>\n",
              "    <tr style=\"text-align: right;\">\n",
              "      <th></th>\n",
              "      <th>QUERY_ID</th>\n",
              "      <th>DOC_ID</th>\n",
              "      <th>RELEVANCE</th>\n",
              "      <th>SCORE</th>\n",
              "      <th>TYPE</th>\n",
              "      <th>DOC_TEXT</th>\n",
              "      <th>QUERY_TEXT</th>\n",
              "    </tr>\n",
              "  </thead>\n",
              "  <tbody>\n",
              "    <tr>\n",
              "      <th>0</th>\n",
              "      <td>151655</td>\n",
              "      <td>1943</td>\n",
              "      <td>1</td>\n",
              "      <td>0.897</td>\n",
              "      <td>TEMA</td>\n",
              "      <td>O termo é \"Agente público\".\\nAgente público te...</td>\n",
              "      <td>O dever de observância à hierarquia militar nã...</td>\n",
              "    </tr>\n",
              "    <tr>\n",
              "      <th>1</th>\n",
              "      <td>151655</td>\n",
              "      <td>15441</td>\n",
              "      <td>0</td>\n",
              "      <td>0.732</td>\n",
              "      <td>relevant:TEMA, not relevant:TOTAL</td>\n",
              "      <td>O termo é \"Reforma-prêmio\".\\nReforma-prêmio te...</td>\n",
              "      <td>O dever de observância à hierarquia militar nã...</td>\n",
              "    </tr>\n",
              "    <tr>\n",
              "      <th>2</th>\n",
              "      <td>151655</td>\n",
              "      <td>6373</td>\n",
              "      <td>0</td>\n",
              "      <td>0.717</td>\n",
              "      <td>relevant:TEMA, not relevant:TOTAL</td>\n",
              "      <td>O termo é \"Exercício financeiro anterior\".\\nEx...</td>\n",
              "      <td>O dever de observância à hierarquia militar nã...</td>\n",
              "    </tr>\n",
              "    <tr>\n",
              "      <th>3</th>\n",
              "      <td>151655</td>\n",
              "      <td>6973</td>\n",
              "      <td>0</td>\n",
              "      <td>0.680</td>\n",
              "      <td>relevant:TEMA, not relevant:TOTAL</td>\n",
              "      <td>O termo é \"CJF\".\\nCJF é classificado como uma ...</td>\n",
              "      <td>O dever de observância à hierarquia militar nã...</td>\n",
              "    </tr>\n",
              "    <tr>\n",
              "      <th>4</th>\n",
              "      <td>151655</td>\n",
              "      <td>7201</td>\n",
              "      <td>0</td>\n",
              "      <td>0.751</td>\n",
              "      <td>relevant:TEMA, not relevant:TOTAL</td>\n",
              "      <td>O termo é \"Embratur\".\\nEmbratur é classificado...</td>\n",
              "      <td>O dever de observância à hierarquia militar nã...</td>\n",
              "    </tr>\n",
              "    <tr>\n",
              "      <th>...</th>\n",
              "      <td>...</td>\n",
              "      <td>...</td>\n",
              "      <td>...</td>\n",
              "      <td>...</td>\n",
              "      <td>...</td>\n",
              "      <td>...</td>\n",
              "      <td>...</td>\n",
              "    </tr>\n",
              "    <tr>\n",
              "      <th>402733</th>\n",
              "      <td>5</td>\n",
              "      <td>1049</td>\n",
              "      <td>0</td>\n",
              "      <td>0.756</td>\n",
              "      <td>relevant:INDEXACAO_EXTRA, not relevant:TOTAL</td>\n",
              "      <td>O termo é \"Oitiva\".\\nOitiva tem definição: \"Co...</td>\n",
              "      <td>SÚMULA TCU 1: Não se compreendem como vencimen...</td>\n",
              "    </tr>\n",
              "    <tr>\n",
              "      <th>402734</th>\n",
              "      <td>5</td>\n",
              "      <td>15613</td>\n",
              "      <td>0</td>\n",
              "      <td>0.819</td>\n",
              "      <td>relevant:INDEXACAO_EXTRA, not relevant:TOTAL</td>\n",
              "      <td>O termo é \"Derrogação\".\\nDerrogação tem nota d...</td>\n",
              "      <td>SÚMULA TCU 1: Não se compreendem como vencimen...</td>\n",
              "    </tr>\n",
              "    <tr>\n",
              "      <th>402735</th>\n",
              "      <td>5</td>\n",
              "      <td>1100488</td>\n",
              "      <td>0</td>\n",
              "      <td>0.852</td>\n",
              "      <td>relevant:INDEXACAO_EXTRA, not relevant:TOTAL</td>\n",
              "      <td>O termo é \"Presunção relativa\".\\nPresunção rel...</td>\n",
              "      <td>SÚMULA TCU 1: Não se compreendem como vencimen...</td>\n",
              "    </tr>\n",
              "    <tr>\n",
              "      <th>402736</th>\n",
              "      <td>5</td>\n",
              "      <td>14944</td>\n",
              "      <td>0</td>\n",
              "      <td>0.939</td>\n",
              "      <td>relevant:INDEXACAO_EXTRA, not relevant:TOTAL</td>\n",
              "      <td>O termo é \"Contas extraordinárias\".\\nContas ex...</td>\n",
              "      <td>SÚMULA TCU 1: Não se compreendem como vencimen...</td>\n",
              "    </tr>\n",
              "    <tr>\n",
              "      <th>402737</th>\n",
              "      <td>5</td>\n",
              "      <td>1302</td>\n",
              "      <td>0</td>\n",
              "      <td>0.776</td>\n",
              "      <td>relevant:INDEXACAO_EXTRA, not relevant:TOTAL</td>\n",
              "      <td>O termo é \"Publicação\".\\nPublicação tem nota d...</td>\n",
              "      <td>SÚMULA TCU 1: Não se compreendem como vencimen...</td>\n",
              "    </tr>\n",
              "  </tbody>\n",
              "</table>\n",
              "<p>402738 rows × 7 columns</p>\n",
              "</div>\n",
              "      <button class=\"colab-df-convert\" onclick=\"convertToInteractive('df-decaa783-bb17-40fd-8dc8-c0e6e9636fba')\"\n",
              "              title=\"Convert this dataframe to an interactive table.\"\n",
              "              style=\"display:none;\">\n",
              "        \n",
              "  <svg xmlns=\"http://www.w3.org/2000/svg\" height=\"24px\"viewBox=\"0 0 24 24\"\n",
              "       width=\"24px\">\n",
              "    <path d=\"M0 0h24v24H0V0z\" fill=\"none\"/>\n",
              "    <path d=\"M18.56 5.44l.94 2.06.94-2.06 2.06-.94-2.06-.94-.94-2.06-.94 2.06-2.06.94zm-11 1L8.5 8.5l.94-2.06 2.06-.94-2.06-.94L8.5 2.5l-.94 2.06-2.06.94zm10 10l.94 2.06.94-2.06 2.06-.94-2.06-.94-.94-2.06-.94 2.06-2.06.94z\"/><path d=\"M17.41 7.96l-1.37-1.37c-.4-.4-.92-.59-1.43-.59-.52 0-1.04.2-1.43.59L10.3 9.45l-7.72 7.72c-.78.78-.78 2.05 0 2.83L4 21.41c.39.39.9.59 1.41.59.51 0 1.02-.2 1.41-.59l7.78-7.78 2.81-2.81c.8-.78.8-2.07 0-2.86zM5.41 20L4 18.59l7.72-7.72 1.47 1.35L5.41 20z\"/>\n",
              "  </svg>\n",
              "      </button>\n",
              "      \n",
              "  <style>\n",
              "    .colab-df-container {\n",
              "      display:flex;\n",
              "      flex-wrap:wrap;\n",
              "      gap: 12px;\n",
              "    }\n",
              "\n",
              "    .colab-df-convert {\n",
              "      background-color: #E8F0FE;\n",
              "      border: none;\n",
              "      border-radius: 50%;\n",
              "      cursor: pointer;\n",
              "      display: none;\n",
              "      fill: #1967D2;\n",
              "      height: 32px;\n",
              "      padding: 0 0 0 0;\n",
              "      width: 32px;\n",
              "    }\n",
              "\n",
              "    .colab-df-convert:hover {\n",
              "      background-color: #E2EBFA;\n",
              "      box-shadow: 0px 1px 2px rgba(60, 64, 67, 0.3), 0px 1px 3px 1px rgba(60, 64, 67, 0.15);\n",
              "      fill: #174EA6;\n",
              "    }\n",
              "\n",
              "    [theme=dark] .colab-df-convert {\n",
              "      background-color: #3B4455;\n",
              "      fill: #D2E3FC;\n",
              "    }\n",
              "\n",
              "    [theme=dark] .colab-df-convert:hover {\n",
              "      background-color: #434B5C;\n",
              "      box-shadow: 0px 1px 3px 1px rgba(0, 0, 0, 0.15);\n",
              "      filter: drop-shadow(0px 1px 2px rgba(0, 0, 0, 0.3));\n",
              "      fill: #FFFFFF;\n",
              "    }\n",
              "  </style>\n",
              "\n",
              "      <script>\n",
              "        const buttonEl =\n",
              "          document.querySelector('#df-decaa783-bb17-40fd-8dc8-c0e6e9636fba button.colab-df-convert');\n",
              "        buttonEl.style.display =\n",
              "          google.colab.kernel.accessAllowed ? 'block' : 'none';\n",
              "\n",
              "        async function convertToInteractive(key) {\n",
              "          const element = document.querySelector('#df-decaa783-bb17-40fd-8dc8-c0e6e9636fba');\n",
              "          const dataTable =\n",
              "            await google.colab.kernel.invokeFunction('convertToInteractive',\n",
              "                                                     [key], {});\n",
              "          if (!dataTable) return;\n",
              "\n",
              "          const docLinkHtml = 'Like what you see? Visit the ' +\n",
              "            '<a target=\"_blank\" href=https://colab.research.google.com/notebooks/data_table.ipynb>data table notebook</a>'\n",
              "            + ' to learn more about interactive tables.';\n",
              "          element.innerHTML = '';\n",
              "          dataTable['output_type'] = 'display_data';\n",
              "          await google.colab.output.renderOutput(dataTable, element);\n",
              "          const docLink = document.createElement('div');\n",
              "          docLink.innerHTML = docLinkHtml;\n",
              "          element.appendChild(docLink);\n",
              "        }\n",
              "      </script>\n",
              "    </div>\n",
              "  </div>\n",
              "  "
            ]
          },
          "metadata": {},
          "execution_count": 101
        }
      ],
      "source": [
        "df"
      ]
    },
    {
      "cell_type": "code",
      "execution_count": 102,
      "metadata": {
        "colab": {
          "base_uri": "https://localhost:8080/"
        },
        "id": "nGRYa-JT55ue",
        "outputId": "cf57cea1-d4ca-4064-c97f-ba9b083660f9"
      },
      "outputs": [
        {
          "output_type": "execute_result",
          "data": {
            "text/plain": [
              "(402738, 7)"
            ]
          },
          "metadata": {},
          "execution_count": 102
        }
      ],
      "source": [
        "df.shape\n",
        "# lim 100(111852, 6)"
      ]
    },
    {
      "cell_type": "markdown",
      "metadata": {
        "id": "bQ3S90BBTrKJ"
      },
      "source": [
        "Verificando correção do arquivo!"
      ]
    },
    {
      "cell_type": "code",
      "execution_count": 103,
      "metadata": {
        "colab": {
          "base_uri": "https://localhost:8080/"
        },
        "id": "Qm7ss2BfTlOu",
        "outputId": "4721b076-32a2-4061-c073-88a414a32e71"
      },
      "outputs": [
        {
          "output_type": "stream",
          "name": "stdout",
          "text": [
            "QUERY_ID      0\n",
            "DOC_ID        0\n",
            "RELEVANCE     0\n",
            "SCORE         0\n",
            "TYPE          0\n",
            "DOC_TEXT      0\n",
            "QUERY_TEXT    0\n",
            "Length: 7, dtype: int64\n"
          ]
        }
      ],
      "source": [
        "print(df.isnull().sum())"
      ]
    },
    {
      "cell_type": "code",
      "execution_count": 104,
      "metadata": {
        "colab": {
          "base_uri": "https://localhost:8080/",
          "height": 330
        },
        "id": "kxK8j_na55uh",
        "outputId": "4e2f1d72-3f9f-4e4c-e3c3-cb753a338985"
      },
      "outputs": [
        {
          "output_type": "execute_result",
          "data": {
            "text/plain": [
              "           QUERY_TEXT        DOC_TEXT\n",
              "count  402738.0000000  402738.0000000\n",
              "mean      322.8252313     830.6957451\n",
              "std       165.8299958     398.1844365\n",
              "min        41.0000000      86.0000000\n",
              "25%       217.0000000     572.0000000\n",
              "50%       294.0000000     759.0000000\n",
              "75%       391.0000000    1020.0000000\n",
              "max      4212.0000000    3739.0000000\n",
              "\n",
              "[8 rows x 2 columns]"
            ],
            "text/html": [
              "\n",
              "  <div id=\"df-bfca7d89-4523-4598-9a44-4b6e6f43da6d\">\n",
              "    <div class=\"colab-df-container\">\n",
              "      <div>\n",
              "<style scoped>\n",
              "    .dataframe tbody tr th:only-of-type {\n",
              "        vertical-align: middle;\n",
              "    }\n",
              "\n",
              "    .dataframe tbody tr th {\n",
              "        vertical-align: top;\n",
              "    }\n",
              "\n",
              "    .dataframe thead th {\n",
              "        text-align: right;\n",
              "    }\n",
              "</style>\n",
              "<table border=\"1\" class=\"dataframe\">\n",
              "  <thead>\n",
              "    <tr style=\"text-align: right;\">\n",
              "      <th></th>\n",
              "      <th>QUERY_TEXT</th>\n",
              "      <th>DOC_TEXT</th>\n",
              "    </tr>\n",
              "  </thead>\n",
              "  <tbody>\n",
              "    <tr>\n",
              "      <th>count</th>\n",
              "      <td>402738.0000000</td>\n",
              "      <td>402738.0000000</td>\n",
              "    </tr>\n",
              "    <tr>\n",
              "      <th>mean</th>\n",
              "      <td>322.8252313</td>\n",
              "      <td>830.6957451</td>\n",
              "    </tr>\n",
              "    <tr>\n",
              "      <th>std</th>\n",
              "      <td>165.8299958</td>\n",
              "      <td>398.1844365</td>\n",
              "    </tr>\n",
              "    <tr>\n",
              "      <th>min</th>\n",
              "      <td>41.0000000</td>\n",
              "      <td>86.0000000</td>\n",
              "    </tr>\n",
              "    <tr>\n",
              "      <th>25%</th>\n",
              "      <td>217.0000000</td>\n",
              "      <td>572.0000000</td>\n",
              "    </tr>\n",
              "    <tr>\n",
              "      <th>50%</th>\n",
              "      <td>294.0000000</td>\n",
              "      <td>759.0000000</td>\n",
              "    </tr>\n",
              "    <tr>\n",
              "      <th>75%</th>\n",
              "      <td>391.0000000</td>\n",
              "      <td>1020.0000000</td>\n",
              "    </tr>\n",
              "    <tr>\n",
              "      <th>max</th>\n",
              "      <td>4212.0000000</td>\n",
              "      <td>3739.0000000</td>\n",
              "    </tr>\n",
              "  </tbody>\n",
              "</table>\n",
              "<p>8 rows × 2 columns</p>\n",
              "</div>\n",
              "      <button class=\"colab-df-convert\" onclick=\"convertToInteractive('df-bfca7d89-4523-4598-9a44-4b6e6f43da6d')\"\n",
              "              title=\"Convert this dataframe to an interactive table.\"\n",
              "              style=\"display:none;\">\n",
              "        \n",
              "  <svg xmlns=\"http://www.w3.org/2000/svg\" height=\"24px\"viewBox=\"0 0 24 24\"\n",
              "       width=\"24px\">\n",
              "    <path d=\"M0 0h24v24H0V0z\" fill=\"none\"/>\n",
              "    <path d=\"M18.56 5.44l.94 2.06.94-2.06 2.06-.94-2.06-.94-.94-2.06-.94 2.06-2.06.94zm-11 1L8.5 8.5l.94-2.06 2.06-.94-2.06-.94L8.5 2.5l-.94 2.06-2.06.94zm10 10l.94 2.06.94-2.06 2.06-.94-2.06-.94-.94-2.06-.94 2.06-2.06.94z\"/><path d=\"M17.41 7.96l-1.37-1.37c-.4-.4-.92-.59-1.43-.59-.52 0-1.04.2-1.43.59L10.3 9.45l-7.72 7.72c-.78.78-.78 2.05 0 2.83L4 21.41c.39.39.9.59 1.41.59.51 0 1.02-.2 1.41-.59l7.78-7.78 2.81-2.81c.8-.78.8-2.07 0-2.86zM5.41 20L4 18.59l7.72-7.72 1.47 1.35L5.41 20z\"/>\n",
              "  </svg>\n",
              "      </button>\n",
              "      \n",
              "  <style>\n",
              "    .colab-df-container {\n",
              "      display:flex;\n",
              "      flex-wrap:wrap;\n",
              "      gap: 12px;\n",
              "    }\n",
              "\n",
              "    .colab-df-convert {\n",
              "      background-color: #E8F0FE;\n",
              "      border: none;\n",
              "      border-radius: 50%;\n",
              "      cursor: pointer;\n",
              "      display: none;\n",
              "      fill: #1967D2;\n",
              "      height: 32px;\n",
              "      padding: 0 0 0 0;\n",
              "      width: 32px;\n",
              "    }\n",
              "\n",
              "    .colab-df-convert:hover {\n",
              "      background-color: #E2EBFA;\n",
              "      box-shadow: 0px 1px 2px rgba(60, 64, 67, 0.3), 0px 1px 3px 1px rgba(60, 64, 67, 0.15);\n",
              "      fill: #174EA6;\n",
              "    }\n",
              "\n",
              "    [theme=dark] .colab-df-convert {\n",
              "      background-color: #3B4455;\n",
              "      fill: #D2E3FC;\n",
              "    }\n",
              "\n",
              "    [theme=dark] .colab-df-convert:hover {\n",
              "      background-color: #434B5C;\n",
              "      box-shadow: 0px 1px 3px 1px rgba(0, 0, 0, 0.15);\n",
              "      filter: drop-shadow(0px 1px 2px rgba(0, 0, 0, 0.3));\n",
              "      fill: #FFFFFF;\n",
              "    }\n",
              "  </style>\n",
              "\n",
              "      <script>\n",
              "        const buttonEl =\n",
              "          document.querySelector('#df-bfca7d89-4523-4598-9a44-4b6e6f43da6d button.colab-df-convert');\n",
              "        buttonEl.style.display =\n",
              "          google.colab.kernel.accessAllowed ? 'block' : 'none';\n",
              "\n",
              "        async function convertToInteractive(key) {\n",
              "          const element = document.querySelector('#df-bfca7d89-4523-4598-9a44-4b6e6f43da6d');\n",
              "          const dataTable =\n",
              "            await google.colab.kernel.invokeFunction('convertToInteractive',\n",
              "                                                     [key], {});\n",
              "          if (!dataTable) return;\n",
              "\n",
              "          const docLinkHtml = 'Like what you see? Visit the ' +\n",
              "            '<a target=\"_blank\" href=https://colab.research.google.com/notebooks/data_table.ipynb>data table notebook</a>'\n",
              "            + ' to learn more about interactive tables.';\n",
              "          element.innerHTML = '';\n",
              "          dataTable['output_type'] = 'display_data';\n",
              "          await google.colab.output.renderOutput(dataTable, element);\n",
              "          const docLink = document.createElement('div');\n",
              "          docLink.innerHTML = docLinkHtml;\n",
              "          element.appendChild(docLink);\n",
              "        }\n",
              "      </script>\n",
              "    </div>\n",
              "  </div>\n",
              "  "
            ]
          },
          "metadata": {},
          "execution_count": 104
        }
      ],
      "source": [
        "df[['QUERY_TEXT','DOC_TEXT']].applymap(len).describe()"
      ]
    },
    {
      "cell_type": "markdown",
      "metadata": {
        "id": "gBvMP8ma55uh"
      },
      "source": [
        "Para cada positivo, tem 5 negativos"
      ]
    },
    {
      "cell_type": "code",
      "execution_count": 105,
      "metadata": {
        "colab": {
          "base_uri": "https://localhost:8080/"
        },
        "id": "bH49RPhY55uh",
        "outputId": "676ac0be-70a2-41f7-aa23-6bae64678b5c"
      },
      "outputs": [
        {
          "output_type": "execute_result",
          "data": {
            "text/plain": [
              "count    402738.0000000\n",
              "mean          0.1666667\n",
              "std           0.3726785\n",
              "min           0.0000000\n",
              "25%           0.0000000\n",
              "50%           0.0000000\n",
              "75%           0.0000000\n",
              "max           1.0000000\n",
              "Name: RELEVANCE, Length: 8, dtype: float64"
            ]
          },
          "metadata": {},
          "execution_count": 105
        }
      ],
      "source": [
        "df['RELEVANCE'].describe()"
      ]
    },
    {
      "cell_type": "code",
      "execution_count": 106,
      "metadata": {
        "colab": {
          "base_uri": "https://localhost:8080/",
          "height": 366
        },
        "id": "9hx3q_TOy6QB",
        "outputId": "a665e5b5-eca5-453b-c541-49e356940114"
      },
      "outputs": [
        {
          "output_type": "execute_result",
          "data": {
            "text/plain": [
              "   QUERY_ID  DOC_ID  RELEVANCE  SCORE                               TYPE                                           DOC_TEXT                                         QUERY_TEXT\n",
              "0    151655    1943          1  0.897                               TEMA  O termo é \"Agente público\".\\nAgente público te...  O dever de observância à hierarquia militar nã...\n",
              "1    151655   15441          0  0.732  relevant:TEMA, not relevant:TOTAL  O termo é \"Reforma-prêmio\".\\nReforma-prêmio te...  O dever de observância à hierarquia militar nã...\n",
              "2    151655    6373          0  0.717  relevant:TEMA, not relevant:TOTAL  O termo é \"Exercício financeiro anterior\".\\nEx...  O dever de observância à hierarquia militar nã...\n",
              "3    151655    6973          0  0.680  relevant:TEMA, not relevant:TOTAL  O termo é \"CJF\".\\nCJF é classificado como uma ...  O dever de observância à hierarquia militar nã...\n",
              "4    151655    7201          0  0.751  relevant:TEMA, not relevant:TOTAL  O termo é \"Embratur\".\\nEmbratur é classificado...  O dever de observância à hierarquia militar nã...\n",
              "\n",
              "[5 rows x 7 columns]"
            ],
            "text/html": [
              "\n",
              "  <div id=\"df-a9d88b5d-588a-48ef-940f-481168e3f223\">\n",
              "    <div class=\"colab-df-container\">\n",
              "      <div>\n",
              "<style scoped>\n",
              "    .dataframe tbody tr th:only-of-type {\n",
              "        vertical-align: middle;\n",
              "    }\n",
              "\n",
              "    .dataframe tbody tr th {\n",
              "        vertical-align: top;\n",
              "    }\n",
              "\n",
              "    .dataframe thead th {\n",
              "        text-align: right;\n",
              "    }\n",
              "</style>\n",
              "<table border=\"1\" class=\"dataframe\">\n",
              "  <thead>\n",
              "    <tr style=\"text-align: right;\">\n",
              "      <th></th>\n",
              "      <th>QUERY_ID</th>\n",
              "      <th>DOC_ID</th>\n",
              "      <th>RELEVANCE</th>\n",
              "      <th>SCORE</th>\n",
              "      <th>TYPE</th>\n",
              "      <th>DOC_TEXT</th>\n",
              "      <th>QUERY_TEXT</th>\n",
              "    </tr>\n",
              "  </thead>\n",
              "  <tbody>\n",
              "    <tr>\n",
              "      <th>0</th>\n",
              "      <td>151655</td>\n",
              "      <td>1943</td>\n",
              "      <td>1</td>\n",
              "      <td>0.897</td>\n",
              "      <td>TEMA</td>\n",
              "      <td>O termo é \"Agente público\".\\nAgente público te...</td>\n",
              "      <td>O dever de observância à hierarquia militar nã...</td>\n",
              "    </tr>\n",
              "    <tr>\n",
              "      <th>1</th>\n",
              "      <td>151655</td>\n",
              "      <td>15441</td>\n",
              "      <td>0</td>\n",
              "      <td>0.732</td>\n",
              "      <td>relevant:TEMA, not relevant:TOTAL</td>\n",
              "      <td>O termo é \"Reforma-prêmio\".\\nReforma-prêmio te...</td>\n",
              "      <td>O dever de observância à hierarquia militar nã...</td>\n",
              "    </tr>\n",
              "    <tr>\n",
              "      <th>2</th>\n",
              "      <td>151655</td>\n",
              "      <td>6373</td>\n",
              "      <td>0</td>\n",
              "      <td>0.717</td>\n",
              "      <td>relevant:TEMA, not relevant:TOTAL</td>\n",
              "      <td>O termo é \"Exercício financeiro anterior\".\\nEx...</td>\n",
              "      <td>O dever de observância à hierarquia militar nã...</td>\n",
              "    </tr>\n",
              "    <tr>\n",
              "      <th>3</th>\n",
              "      <td>151655</td>\n",
              "      <td>6973</td>\n",
              "      <td>0</td>\n",
              "      <td>0.680</td>\n",
              "      <td>relevant:TEMA, not relevant:TOTAL</td>\n",
              "      <td>O termo é \"CJF\".\\nCJF é classificado como uma ...</td>\n",
              "      <td>O dever de observância à hierarquia militar nã...</td>\n",
              "    </tr>\n",
              "    <tr>\n",
              "      <th>4</th>\n",
              "      <td>151655</td>\n",
              "      <td>7201</td>\n",
              "      <td>0</td>\n",
              "      <td>0.751</td>\n",
              "      <td>relevant:TEMA, not relevant:TOTAL</td>\n",
              "      <td>O termo é \"Embratur\".\\nEmbratur é classificado...</td>\n",
              "      <td>O dever de observância à hierarquia militar nã...</td>\n",
              "    </tr>\n",
              "  </tbody>\n",
              "</table>\n",
              "<p>5 rows × 7 columns</p>\n",
              "</div>\n",
              "      <button class=\"colab-df-convert\" onclick=\"convertToInteractive('df-a9d88b5d-588a-48ef-940f-481168e3f223')\"\n",
              "              title=\"Convert this dataframe to an interactive table.\"\n",
              "              style=\"display:none;\">\n",
              "        \n",
              "  <svg xmlns=\"http://www.w3.org/2000/svg\" height=\"24px\"viewBox=\"0 0 24 24\"\n",
              "       width=\"24px\">\n",
              "    <path d=\"M0 0h24v24H0V0z\" fill=\"none\"/>\n",
              "    <path d=\"M18.56 5.44l.94 2.06.94-2.06 2.06-.94-2.06-.94-.94-2.06-.94 2.06-2.06.94zm-11 1L8.5 8.5l.94-2.06 2.06-.94-2.06-.94L8.5 2.5l-.94 2.06-2.06.94zm10 10l.94 2.06.94-2.06 2.06-.94-2.06-.94-.94-2.06-.94 2.06-2.06.94z\"/><path d=\"M17.41 7.96l-1.37-1.37c-.4-.4-.92-.59-1.43-.59-.52 0-1.04.2-1.43.59L10.3 9.45l-7.72 7.72c-.78.78-.78 2.05 0 2.83L4 21.41c.39.39.9.59 1.41.59.51 0 1.02-.2 1.41-.59l7.78-7.78 2.81-2.81c.8-.78.8-2.07 0-2.86zM5.41 20L4 18.59l7.72-7.72 1.47 1.35L5.41 20z\"/>\n",
              "  </svg>\n",
              "      </button>\n",
              "      \n",
              "  <style>\n",
              "    .colab-df-container {\n",
              "      display:flex;\n",
              "      flex-wrap:wrap;\n",
              "      gap: 12px;\n",
              "    }\n",
              "\n",
              "    .colab-df-convert {\n",
              "      background-color: #E8F0FE;\n",
              "      border: none;\n",
              "      border-radius: 50%;\n",
              "      cursor: pointer;\n",
              "      display: none;\n",
              "      fill: #1967D2;\n",
              "      height: 32px;\n",
              "      padding: 0 0 0 0;\n",
              "      width: 32px;\n",
              "    }\n",
              "\n",
              "    .colab-df-convert:hover {\n",
              "      background-color: #E2EBFA;\n",
              "      box-shadow: 0px 1px 2px rgba(60, 64, 67, 0.3), 0px 1px 3px 1px rgba(60, 64, 67, 0.15);\n",
              "      fill: #174EA6;\n",
              "    }\n",
              "\n",
              "    [theme=dark] .colab-df-convert {\n",
              "      background-color: #3B4455;\n",
              "      fill: #D2E3FC;\n",
              "    }\n",
              "\n",
              "    [theme=dark] .colab-df-convert:hover {\n",
              "      background-color: #434B5C;\n",
              "      box-shadow: 0px 1px 3px 1px rgba(0, 0, 0, 0.15);\n",
              "      filter: drop-shadow(0px 1px 2px rgba(0, 0, 0, 0.3));\n",
              "      fill: #FFFFFF;\n",
              "    }\n",
              "  </style>\n",
              "\n",
              "      <script>\n",
              "        const buttonEl =\n",
              "          document.querySelector('#df-a9d88b5d-588a-48ef-940f-481168e3f223 button.colab-df-convert');\n",
              "        buttonEl.style.display =\n",
              "          google.colab.kernel.accessAllowed ? 'block' : 'none';\n",
              "\n",
              "        async function convertToInteractive(key) {\n",
              "          const element = document.querySelector('#df-a9d88b5d-588a-48ef-940f-481168e3f223');\n",
              "          const dataTable =\n",
              "            await google.colab.kernel.invokeFunction('convertToInteractive',\n",
              "                                                     [key], {});\n",
              "          if (!dataTable) return;\n",
              "\n",
              "          const docLinkHtml = 'Like what you see? Visit the ' +\n",
              "            '<a target=\"_blank\" href=https://colab.research.google.com/notebooks/data_table.ipynb>data table notebook</a>'\n",
              "            + ' to learn more about interactive tables.';\n",
              "          element.innerHTML = '';\n",
              "          dataTable['output_type'] = 'display_data';\n",
              "          await google.colab.output.renderOutput(dataTable, element);\n",
              "          const docLink = document.createElement('div');\n",
              "          docLink.innerHTML = docLinkHtml;\n",
              "          element.appendChild(docLink);\n",
              "        }\n",
              "      </script>\n",
              "    </div>\n",
              "  </div>\n",
              "  "
            ]
          },
          "metadata": {},
          "execution_count": 106
        }
      ],
      "source": [
        "df.head()"
      ]
    },
    {
      "cell_type": "code",
      "execution_count": 107,
      "metadata": {
        "id": "wN-H7_d54tPY"
      },
      "outputs": [],
      "source": [
        "df[\"label\"] = [TOKEN_FALSE if relevance == 0 else TOKEN_TRUE for relevance in df[\"RELEVANCE\"]]"
      ]
    },
    {
      "cell_type": "code",
      "execution_count": 108,
      "metadata": {
        "colab": {
          "base_uri": "https://localhost:8080/",
          "height": 366
        },
        "id": "aEHO3ZjL42tA",
        "outputId": "8c1482e7-b009-4bfa-9cf8-ce78c8f1c05c"
      },
      "outputs": [
        {
          "output_type": "execute_result",
          "data": {
            "text/plain": [
              "   QUERY_ID  DOC_ID  RELEVANCE  SCORE                               TYPE                                           DOC_TEXT                                         QUERY_TEXT label\n",
              "0    151655    1943          1  0.897                               TEMA  O termo é \"Agente público\".\\nAgente público te...  O dever de observância à hierarquia militar nã...  ▁sim\n",
              "1    151655   15441          0  0.732  relevant:TEMA, not relevant:TOTAL  O termo é \"Reforma-prêmio\".\\nReforma-prêmio te...  O dever de observância à hierarquia militar nã...  ▁não\n",
              "2    151655    6373          0  0.717  relevant:TEMA, not relevant:TOTAL  O termo é \"Exercício financeiro anterior\".\\nEx...  O dever de observância à hierarquia militar nã...  ▁não\n",
              "3    151655    6973          0  0.680  relevant:TEMA, not relevant:TOTAL  O termo é \"CJF\".\\nCJF é classificado como uma ...  O dever de observância à hierarquia militar nã...  ▁não\n",
              "4    151655    7201          0  0.751  relevant:TEMA, not relevant:TOTAL  O termo é \"Embratur\".\\nEmbratur é classificado...  O dever de observância à hierarquia militar nã...  ▁não\n",
              "\n",
              "[5 rows x 8 columns]"
            ],
            "text/html": [
              "\n",
              "  <div id=\"df-050ea91a-a45a-48ff-abfa-786d9c2e85d1\">\n",
              "    <div class=\"colab-df-container\">\n",
              "      <div>\n",
              "<style scoped>\n",
              "    .dataframe tbody tr th:only-of-type {\n",
              "        vertical-align: middle;\n",
              "    }\n",
              "\n",
              "    .dataframe tbody tr th {\n",
              "        vertical-align: top;\n",
              "    }\n",
              "\n",
              "    .dataframe thead th {\n",
              "        text-align: right;\n",
              "    }\n",
              "</style>\n",
              "<table border=\"1\" class=\"dataframe\">\n",
              "  <thead>\n",
              "    <tr style=\"text-align: right;\">\n",
              "      <th></th>\n",
              "      <th>QUERY_ID</th>\n",
              "      <th>DOC_ID</th>\n",
              "      <th>RELEVANCE</th>\n",
              "      <th>SCORE</th>\n",
              "      <th>TYPE</th>\n",
              "      <th>DOC_TEXT</th>\n",
              "      <th>QUERY_TEXT</th>\n",
              "      <th>label</th>\n",
              "    </tr>\n",
              "  </thead>\n",
              "  <tbody>\n",
              "    <tr>\n",
              "      <th>0</th>\n",
              "      <td>151655</td>\n",
              "      <td>1943</td>\n",
              "      <td>1</td>\n",
              "      <td>0.897</td>\n",
              "      <td>TEMA</td>\n",
              "      <td>O termo é \"Agente público\".\\nAgente público te...</td>\n",
              "      <td>O dever de observância à hierarquia militar nã...</td>\n",
              "      <td>▁sim</td>\n",
              "    </tr>\n",
              "    <tr>\n",
              "      <th>1</th>\n",
              "      <td>151655</td>\n",
              "      <td>15441</td>\n",
              "      <td>0</td>\n",
              "      <td>0.732</td>\n",
              "      <td>relevant:TEMA, not relevant:TOTAL</td>\n",
              "      <td>O termo é \"Reforma-prêmio\".\\nReforma-prêmio te...</td>\n",
              "      <td>O dever de observância à hierarquia militar nã...</td>\n",
              "      <td>▁não</td>\n",
              "    </tr>\n",
              "    <tr>\n",
              "      <th>2</th>\n",
              "      <td>151655</td>\n",
              "      <td>6373</td>\n",
              "      <td>0</td>\n",
              "      <td>0.717</td>\n",
              "      <td>relevant:TEMA, not relevant:TOTAL</td>\n",
              "      <td>O termo é \"Exercício financeiro anterior\".\\nEx...</td>\n",
              "      <td>O dever de observância à hierarquia militar nã...</td>\n",
              "      <td>▁não</td>\n",
              "    </tr>\n",
              "    <tr>\n",
              "      <th>3</th>\n",
              "      <td>151655</td>\n",
              "      <td>6973</td>\n",
              "      <td>0</td>\n",
              "      <td>0.680</td>\n",
              "      <td>relevant:TEMA, not relevant:TOTAL</td>\n",
              "      <td>O termo é \"CJF\".\\nCJF é classificado como uma ...</td>\n",
              "      <td>O dever de observância à hierarquia militar nã...</td>\n",
              "      <td>▁não</td>\n",
              "    </tr>\n",
              "    <tr>\n",
              "      <th>4</th>\n",
              "      <td>151655</td>\n",
              "      <td>7201</td>\n",
              "      <td>0</td>\n",
              "      <td>0.751</td>\n",
              "      <td>relevant:TEMA, not relevant:TOTAL</td>\n",
              "      <td>O termo é \"Embratur\".\\nEmbratur é classificado...</td>\n",
              "      <td>O dever de observância à hierarquia militar nã...</td>\n",
              "      <td>▁não</td>\n",
              "    </tr>\n",
              "  </tbody>\n",
              "</table>\n",
              "<p>5 rows × 8 columns</p>\n",
              "</div>\n",
              "      <button class=\"colab-df-convert\" onclick=\"convertToInteractive('df-050ea91a-a45a-48ff-abfa-786d9c2e85d1')\"\n",
              "              title=\"Convert this dataframe to an interactive table.\"\n",
              "              style=\"display:none;\">\n",
              "        \n",
              "  <svg xmlns=\"http://www.w3.org/2000/svg\" height=\"24px\"viewBox=\"0 0 24 24\"\n",
              "       width=\"24px\">\n",
              "    <path d=\"M0 0h24v24H0V0z\" fill=\"none\"/>\n",
              "    <path d=\"M18.56 5.44l.94 2.06.94-2.06 2.06-.94-2.06-.94-.94-2.06-.94 2.06-2.06.94zm-11 1L8.5 8.5l.94-2.06 2.06-.94-2.06-.94L8.5 2.5l-.94 2.06-2.06.94zm10 10l.94 2.06.94-2.06 2.06-.94-2.06-.94-.94-2.06-.94 2.06-2.06.94z\"/><path d=\"M17.41 7.96l-1.37-1.37c-.4-.4-.92-.59-1.43-.59-.52 0-1.04.2-1.43.59L10.3 9.45l-7.72 7.72c-.78.78-.78 2.05 0 2.83L4 21.41c.39.39.9.59 1.41.59.51 0 1.02-.2 1.41-.59l7.78-7.78 2.81-2.81c.8-.78.8-2.07 0-2.86zM5.41 20L4 18.59l7.72-7.72 1.47 1.35L5.41 20z\"/>\n",
              "  </svg>\n",
              "      </button>\n",
              "      \n",
              "  <style>\n",
              "    .colab-df-container {\n",
              "      display:flex;\n",
              "      flex-wrap:wrap;\n",
              "      gap: 12px;\n",
              "    }\n",
              "\n",
              "    .colab-df-convert {\n",
              "      background-color: #E8F0FE;\n",
              "      border: none;\n",
              "      border-radius: 50%;\n",
              "      cursor: pointer;\n",
              "      display: none;\n",
              "      fill: #1967D2;\n",
              "      height: 32px;\n",
              "      padding: 0 0 0 0;\n",
              "      width: 32px;\n",
              "    }\n",
              "\n",
              "    .colab-df-convert:hover {\n",
              "      background-color: #E2EBFA;\n",
              "      box-shadow: 0px 1px 2px rgba(60, 64, 67, 0.3), 0px 1px 3px 1px rgba(60, 64, 67, 0.15);\n",
              "      fill: #174EA6;\n",
              "    }\n",
              "\n",
              "    [theme=dark] .colab-df-convert {\n",
              "      background-color: #3B4455;\n",
              "      fill: #D2E3FC;\n",
              "    }\n",
              "\n",
              "    [theme=dark] .colab-df-convert:hover {\n",
              "      background-color: #434B5C;\n",
              "      box-shadow: 0px 1px 3px 1px rgba(0, 0, 0, 0.15);\n",
              "      filter: drop-shadow(0px 1px 2px rgba(0, 0, 0, 0.3));\n",
              "      fill: #FFFFFF;\n",
              "    }\n",
              "  </style>\n",
              "\n",
              "      <script>\n",
              "        const buttonEl =\n",
              "          document.querySelector('#df-050ea91a-a45a-48ff-abfa-786d9c2e85d1 button.colab-df-convert');\n",
              "        buttonEl.style.display =\n",
              "          google.colab.kernel.accessAllowed ? 'block' : 'none';\n",
              "\n",
              "        async function convertToInteractive(key) {\n",
              "          const element = document.querySelector('#df-050ea91a-a45a-48ff-abfa-786d9c2e85d1');\n",
              "          const dataTable =\n",
              "            await google.colab.kernel.invokeFunction('convertToInteractive',\n",
              "                                                     [key], {});\n",
              "          if (!dataTable) return;\n",
              "\n",
              "          const docLinkHtml = 'Like what you see? Visit the ' +\n",
              "            '<a target=\"_blank\" href=https://colab.research.google.com/notebooks/data_table.ipynb>data table notebook</a>'\n",
              "            + ' to learn more about interactive tables.';\n",
              "          element.innerHTML = '';\n",
              "          dataTable['output_type'] = 'display_data';\n",
              "          await google.colab.output.renderOutput(dataTable, element);\n",
              "          const docLink = document.createElement('div');\n",
              "          docLink.innerHTML = docLinkHtml;\n",
              "          element.appendChild(docLink);\n",
              "        }\n",
              "      </script>\n",
              "    </div>\n",
              "  </div>\n",
              "  "
            ]
          },
          "metadata": {},
          "execution_count": 108
        }
      ],
      "source": [
        "df.head()"
      ]
    },
    {
      "cell_type": "code",
      "execution_count": 109,
      "metadata": {
        "id": "YwZra1Tu2j92"
      },
      "outputs": [],
      "source": [
        "df.rename(columns={'DOC_TEXT': 'text', 'QUERY_TEXT':'query'},inplace=True)"
      ]
    },
    {
      "cell_type": "code",
      "execution_count": 110,
      "metadata": {
        "colab": {
          "base_uri": "https://localhost:8080/",
          "height": 366
        },
        "id": "L6VTWWEI23LA",
        "outputId": "d6d477d9-6a29-4218-916a-564ba17cfb7d"
      },
      "outputs": [
        {
          "output_type": "execute_result",
          "data": {
            "text/plain": [
              "   QUERY_ID  DOC_ID  RELEVANCE  SCORE                               TYPE                                               text                                              query label\n",
              "0    151655    1943          1  0.897                               TEMA  O termo é \"Agente público\".\\nAgente público te...  O dever de observância à hierarquia militar nã...  ▁sim\n",
              "1    151655   15441          0  0.732  relevant:TEMA, not relevant:TOTAL  O termo é \"Reforma-prêmio\".\\nReforma-prêmio te...  O dever de observância à hierarquia militar nã...  ▁não\n",
              "2    151655    6373          0  0.717  relevant:TEMA, not relevant:TOTAL  O termo é \"Exercício financeiro anterior\".\\nEx...  O dever de observância à hierarquia militar nã...  ▁não\n",
              "3    151655    6973          0  0.680  relevant:TEMA, not relevant:TOTAL  O termo é \"CJF\".\\nCJF é classificado como uma ...  O dever de observância à hierarquia militar nã...  ▁não\n",
              "4    151655    7201          0  0.751  relevant:TEMA, not relevant:TOTAL  O termo é \"Embratur\".\\nEmbratur é classificado...  O dever de observância à hierarquia militar nã...  ▁não\n",
              "\n",
              "[5 rows x 8 columns]"
            ],
            "text/html": [
              "\n",
              "  <div id=\"df-a54ae274-e07e-4548-b5dd-cd7212ded21a\">\n",
              "    <div class=\"colab-df-container\">\n",
              "      <div>\n",
              "<style scoped>\n",
              "    .dataframe tbody tr th:only-of-type {\n",
              "        vertical-align: middle;\n",
              "    }\n",
              "\n",
              "    .dataframe tbody tr th {\n",
              "        vertical-align: top;\n",
              "    }\n",
              "\n",
              "    .dataframe thead th {\n",
              "        text-align: right;\n",
              "    }\n",
              "</style>\n",
              "<table border=\"1\" class=\"dataframe\">\n",
              "  <thead>\n",
              "    <tr style=\"text-align: right;\">\n",
              "      <th></th>\n",
              "      <th>QUERY_ID</th>\n",
              "      <th>DOC_ID</th>\n",
              "      <th>RELEVANCE</th>\n",
              "      <th>SCORE</th>\n",
              "      <th>TYPE</th>\n",
              "      <th>text</th>\n",
              "      <th>query</th>\n",
              "      <th>label</th>\n",
              "    </tr>\n",
              "  </thead>\n",
              "  <tbody>\n",
              "    <tr>\n",
              "      <th>0</th>\n",
              "      <td>151655</td>\n",
              "      <td>1943</td>\n",
              "      <td>1</td>\n",
              "      <td>0.897</td>\n",
              "      <td>TEMA</td>\n",
              "      <td>O termo é \"Agente público\".\\nAgente público te...</td>\n",
              "      <td>O dever de observância à hierarquia militar nã...</td>\n",
              "      <td>▁sim</td>\n",
              "    </tr>\n",
              "    <tr>\n",
              "      <th>1</th>\n",
              "      <td>151655</td>\n",
              "      <td>15441</td>\n",
              "      <td>0</td>\n",
              "      <td>0.732</td>\n",
              "      <td>relevant:TEMA, not relevant:TOTAL</td>\n",
              "      <td>O termo é \"Reforma-prêmio\".\\nReforma-prêmio te...</td>\n",
              "      <td>O dever de observância à hierarquia militar nã...</td>\n",
              "      <td>▁não</td>\n",
              "    </tr>\n",
              "    <tr>\n",
              "      <th>2</th>\n",
              "      <td>151655</td>\n",
              "      <td>6373</td>\n",
              "      <td>0</td>\n",
              "      <td>0.717</td>\n",
              "      <td>relevant:TEMA, not relevant:TOTAL</td>\n",
              "      <td>O termo é \"Exercício financeiro anterior\".\\nEx...</td>\n",
              "      <td>O dever de observância à hierarquia militar nã...</td>\n",
              "      <td>▁não</td>\n",
              "    </tr>\n",
              "    <tr>\n",
              "      <th>3</th>\n",
              "      <td>151655</td>\n",
              "      <td>6973</td>\n",
              "      <td>0</td>\n",
              "      <td>0.680</td>\n",
              "      <td>relevant:TEMA, not relevant:TOTAL</td>\n",
              "      <td>O termo é \"CJF\".\\nCJF é classificado como uma ...</td>\n",
              "      <td>O dever de observância à hierarquia militar nã...</td>\n",
              "      <td>▁não</td>\n",
              "    </tr>\n",
              "    <tr>\n",
              "      <th>4</th>\n",
              "      <td>151655</td>\n",
              "      <td>7201</td>\n",
              "      <td>0</td>\n",
              "      <td>0.751</td>\n",
              "      <td>relevant:TEMA, not relevant:TOTAL</td>\n",
              "      <td>O termo é \"Embratur\".\\nEmbratur é classificado...</td>\n",
              "      <td>O dever de observância à hierarquia militar nã...</td>\n",
              "      <td>▁não</td>\n",
              "    </tr>\n",
              "  </tbody>\n",
              "</table>\n",
              "<p>5 rows × 8 columns</p>\n",
              "</div>\n",
              "      <button class=\"colab-df-convert\" onclick=\"convertToInteractive('df-a54ae274-e07e-4548-b5dd-cd7212ded21a')\"\n",
              "              title=\"Convert this dataframe to an interactive table.\"\n",
              "              style=\"display:none;\">\n",
              "        \n",
              "  <svg xmlns=\"http://www.w3.org/2000/svg\" height=\"24px\"viewBox=\"0 0 24 24\"\n",
              "       width=\"24px\">\n",
              "    <path d=\"M0 0h24v24H0V0z\" fill=\"none\"/>\n",
              "    <path d=\"M18.56 5.44l.94 2.06.94-2.06 2.06-.94-2.06-.94-.94-2.06-.94 2.06-2.06.94zm-11 1L8.5 8.5l.94-2.06 2.06-.94-2.06-.94L8.5 2.5l-.94 2.06-2.06.94zm10 10l.94 2.06.94-2.06 2.06-.94-2.06-.94-.94-2.06-.94 2.06-2.06.94z\"/><path d=\"M17.41 7.96l-1.37-1.37c-.4-.4-.92-.59-1.43-.59-.52 0-1.04.2-1.43.59L10.3 9.45l-7.72 7.72c-.78.78-.78 2.05 0 2.83L4 21.41c.39.39.9.59 1.41.59.51 0 1.02-.2 1.41-.59l7.78-7.78 2.81-2.81c.8-.78.8-2.07 0-2.86zM5.41 20L4 18.59l7.72-7.72 1.47 1.35L5.41 20z\"/>\n",
              "  </svg>\n",
              "      </button>\n",
              "      \n",
              "  <style>\n",
              "    .colab-df-container {\n",
              "      display:flex;\n",
              "      flex-wrap:wrap;\n",
              "      gap: 12px;\n",
              "    }\n",
              "\n",
              "    .colab-df-convert {\n",
              "      background-color: #E8F0FE;\n",
              "      border: none;\n",
              "      border-radius: 50%;\n",
              "      cursor: pointer;\n",
              "      display: none;\n",
              "      fill: #1967D2;\n",
              "      height: 32px;\n",
              "      padding: 0 0 0 0;\n",
              "      width: 32px;\n",
              "    }\n",
              "\n",
              "    .colab-df-convert:hover {\n",
              "      background-color: #E2EBFA;\n",
              "      box-shadow: 0px 1px 2px rgba(60, 64, 67, 0.3), 0px 1px 3px 1px rgba(60, 64, 67, 0.15);\n",
              "      fill: #174EA6;\n",
              "    }\n",
              "\n",
              "    [theme=dark] .colab-df-convert {\n",
              "      background-color: #3B4455;\n",
              "      fill: #D2E3FC;\n",
              "    }\n",
              "\n",
              "    [theme=dark] .colab-df-convert:hover {\n",
              "      background-color: #434B5C;\n",
              "      box-shadow: 0px 1px 3px 1px rgba(0, 0, 0, 0.15);\n",
              "      filter: drop-shadow(0px 1px 2px rgba(0, 0, 0, 0.3));\n",
              "      fill: #FFFFFF;\n",
              "    }\n",
              "  </style>\n",
              "\n",
              "      <script>\n",
              "        const buttonEl =\n",
              "          document.querySelector('#df-a54ae274-e07e-4548-b5dd-cd7212ded21a button.colab-df-convert');\n",
              "        buttonEl.style.display =\n",
              "          google.colab.kernel.accessAllowed ? 'block' : 'none';\n",
              "\n",
              "        async function convertToInteractive(key) {\n",
              "          const element = document.querySelector('#df-a54ae274-e07e-4548-b5dd-cd7212ded21a');\n",
              "          const dataTable =\n",
              "            await google.colab.kernel.invokeFunction('convertToInteractive',\n",
              "                                                     [key], {});\n",
              "          if (!dataTable) return;\n",
              "\n",
              "          const docLinkHtml = 'Like what you see? Visit the ' +\n",
              "            '<a target=\"_blank\" href=https://colab.research.google.com/notebooks/data_table.ipynb>data table notebook</a>'\n",
              "            + ' to learn more about interactive tables.';\n",
              "          element.innerHTML = '';\n",
              "          dataTable['output_type'] = 'display_data';\n",
              "          await google.colab.output.renderOutput(dataTable, element);\n",
              "          const docLink = document.createElement('div');\n",
              "          docLink.innerHTML = docLinkHtml;\n",
              "          element.appendChild(docLink);\n",
              "        }\n",
              "      </script>\n",
              "    </div>\n",
              "  </div>\n",
              "  "
            ]
          },
          "metadata": {},
          "execution_count": 110
        }
      ],
      "source": [
        "df.head()"
      ]
    },
    {
      "cell_type": "code",
      "execution_count": 111,
      "metadata": {
        "id": "byw95g1KzUP7"
      },
      "outputs": [],
      "source": [
        "df = df[['query', 'text', 'label']]\n"
      ]
    },
    {
      "cell_type": "code",
      "execution_count": 112,
      "metadata": {
        "colab": {
          "base_uri": "https://localhost:8080/"
        },
        "id": "zF4iu3DMztPX",
        "outputId": "0579971f-8e08-4c0f-f500-743b2224dc12"
      },
      "outputs": [
        {
          "output_type": "execute_result",
          "data": {
            "text/plain": [
              "(402738, 3)"
            ]
          },
          "metadata": {},
          "execution_count": 112
        }
      ],
      "source": [
        "\n",
        "df.shape"
      ]
    },
    {
      "cell_type": "code",
      "execution_count": 113,
      "metadata": {
        "colab": {
          "base_uri": "https://localhost:8080/"
        },
        "id": "itVdwg9tz8Rs",
        "outputId": "9692de0f-cbe0-449c-e55b-749fd7221851"
      },
      "outputs": [
        {
          "output_type": "execute_result",
          "data": {
            "text/plain": [
              "0"
            ]
          },
          "metadata": {},
          "execution_count": 113
        }
      ],
      "source": [
        "import gc\n",
        "\n",
        "# ... código anterior ...\n",
        "\n",
        "# Liberar memória utilizando gc.collect()\n",
        "gc.collect()"
      ]
    },
    {
      "cell_type": "markdown",
      "metadata": {
        "id": "KUDBUOWmyzrf"
      },
      "source": [
        "# Separating evaluation data and prepare dataset tokenized"
      ]
    },
    {
      "cell_type": "code",
      "execution_count": 114,
      "metadata": {
        "id": "wH4Tx1cGy3HR"
      },
      "outputs": [],
      "source": [
        "from sklearn.model_selection import train_test_split"
      ]
    },
    {
      "cell_type": "code",
      "execution_count": 115,
      "metadata": {
        "id": "s7qRU31pzNnT"
      },
      "outputs": [],
      "source": [
        "train_df, valid_df = train_test_split(df, test_size=0.005,\n",
        "                                      stratify=df['label'].values, random_state=123)\n",
        "# Definir os argumentos de treinamento"
      ]
    },
    {
      "cell_type": "code",
      "execution_count": 116,
      "metadata": {
        "colab": {
          "base_uri": "https://localhost:8080/"
        },
        "id": "sVFFx-bhzNj4",
        "outputId": "f9ab53de-a1c3-439a-90a0-d281f3782b8f"
      },
      "outputs": [
        {
          "output_type": "execute_result",
          "data": {
            "text/plain": [
              "((400724, 3), (2014, 3))"
            ]
          },
          "metadata": {},
          "execution_count": 116
        }
      ],
      "source": [
        "train_df.shape, valid_df.shape"
      ]
    },
    {
      "cell_type": "code",
      "execution_count": 117,
      "metadata": {
        "colab": {
          "base_uri": "https://localhost:8080/",
          "height": 141
        },
        "id": "G6kwqr6Cz0X9",
        "outputId": "a76e8bc4-7f79-4814-f5d3-c7b25db9732e"
      },
      "outputs": [
        {
          "output_type": "execute_result",
          "data": {
            "text/plain": [
              "                                                    query                                               text label\n",
              "391682  O início de obra pública sem a contratação de ...  O termo é \"TCU\".\\nTCU é classificado como uma ...  ▁não\n",
              "153097  Os efeitos de decisão judicial em ação ordinár...  O termo é \"CCHA\".\\nCCHA é classificado como um...  ▁não\n",
              "\n",
              "[2 rows x 3 columns]"
            ],
            "text/html": [
              "\n",
              "  <div id=\"df-300b44ca-6fba-4b06-95f6-6053252c1217\">\n",
              "    <div class=\"colab-df-container\">\n",
              "      <div>\n",
              "<style scoped>\n",
              "    .dataframe tbody tr th:only-of-type {\n",
              "        vertical-align: middle;\n",
              "    }\n",
              "\n",
              "    .dataframe tbody tr th {\n",
              "        vertical-align: top;\n",
              "    }\n",
              "\n",
              "    .dataframe thead th {\n",
              "        text-align: right;\n",
              "    }\n",
              "</style>\n",
              "<table border=\"1\" class=\"dataframe\">\n",
              "  <thead>\n",
              "    <tr style=\"text-align: right;\">\n",
              "      <th></th>\n",
              "      <th>query</th>\n",
              "      <th>text</th>\n",
              "      <th>label</th>\n",
              "    </tr>\n",
              "  </thead>\n",
              "  <tbody>\n",
              "    <tr>\n",
              "      <th>391682</th>\n",
              "      <td>O início de obra pública sem a contratação de ...</td>\n",
              "      <td>O termo é \"TCU\".\\nTCU é classificado como uma ...</td>\n",
              "      <td>▁não</td>\n",
              "    </tr>\n",
              "    <tr>\n",
              "      <th>153097</th>\n",
              "      <td>Os efeitos de decisão judicial em ação ordinár...</td>\n",
              "      <td>O termo é \"CCHA\".\\nCCHA é classificado como um...</td>\n",
              "      <td>▁não</td>\n",
              "    </tr>\n",
              "  </tbody>\n",
              "</table>\n",
              "<p>2 rows × 3 columns</p>\n",
              "</div>\n",
              "      <button class=\"colab-df-convert\" onclick=\"convertToInteractive('df-300b44ca-6fba-4b06-95f6-6053252c1217')\"\n",
              "              title=\"Convert this dataframe to an interactive table.\"\n",
              "              style=\"display:none;\">\n",
              "        \n",
              "  <svg xmlns=\"http://www.w3.org/2000/svg\" height=\"24px\"viewBox=\"0 0 24 24\"\n",
              "       width=\"24px\">\n",
              "    <path d=\"M0 0h24v24H0V0z\" fill=\"none\"/>\n",
              "    <path d=\"M18.56 5.44l.94 2.06.94-2.06 2.06-.94-2.06-.94-.94-2.06-.94 2.06-2.06.94zm-11 1L8.5 8.5l.94-2.06 2.06-.94-2.06-.94L8.5 2.5l-.94 2.06-2.06.94zm10 10l.94 2.06.94-2.06 2.06-.94-2.06-.94-.94-2.06-.94 2.06-2.06.94z\"/><path d=\"M17.41 7.96l-1.37-1.37c-.4-.4-.92-.59-1.43-.59-.52 0-1.04.2-1.43.59L10.3 9.45l-7.72 7.72c-.78.78-.78 2.05 0 2.83L4 21.41c.39.39.9.59 1.41.59.51 0 1.02-.2 1.41-.59l7.78-7.78 2.81-2.81c.8-.78.8-2.07 0-2.86zM5.41 20L4 18.59l7.72-7.72 1.47 1.35L5.41 20z\"/>\n",
              "  </svg>\n",
              "      </button>\n",
              "      \n",
              "  <style>\n",
              "    .colab-df-container {\n",
              "      display:flex;\n",
              "      flex-wrap:wrap;\n",
              "      gap: 12px;\n",
              "    }\n",
              "\n",
              "    .colab-df-convert {\n",
              "      background-color: #E8F0FE;\n",
              "      border: none;\n",
              "      border-radius: 50%;\n",
              "      cursor: pointer;\n",
              "      display: none;\n",
              "      fill: #1967D2;\n",
              "      height: 32px;\n",
              "      padding: 0 0 0 0;\n",
              "      width: 32px;\n",
              "    }\n",
              "\n",
              "    .colab-df-convert:hover {\n",
              "      background-color: #E2EBFA;\n",
              "      box-shadow: 0px 1px 2px rgba(60, 64, 67, 0.3), 0px 1px 3px 1px rgba(60, 64, 67, 0.15);\n",
              "      fill: #174EA6;\n",
              "    }\n",
              "\n",
              "    [theme=dark] .colab-df-convert {\n",
              "      background-color: #3B4455;\n",
              "      fill: #D2E3FC;\n",
              "    }\n",
              "\n",
              "    [theme=dark] .colab-df-convert:hover {\n",
              "      background-color: #434B5C;\n",
              "      box-shadow: 0px 1px 3px 1px rgba(0, 0, 0, 0.15);\n",
              "      filter: drop-shadow(0px 1px 2px rgba(0, 0, 0, 0.3));\n",
              "      fill: #FFFFFF;\n",
              "    }\n",
              "  </style>\n",
              "\n",
              "      <script>\n",
              "        const buttonEl =\n",
              "          document.querySelector('#df-300b44ca-6fba-4b06-95f6-6053252c1217 button.colab-df-convert');\n",
              "        buttonEl.style.display =\n",
              "          google.colab.kernel.accessAllowed ? 'block' : 'none';\n",
              "\n",
              "        async function convertToInteractive(key) {\n",
              "          const element = document.querySelector('#df-300b44ca-6fba-4b06-95f6-6053252c1217');\n",
              "          const dataTable =\n",
              "            await google.colab.kernel.invokeFunction('convertToInteractive',\n",
              "                                                     [key], {});\n",
              "          if (!dataTable) return;\n",
              "\n",
              "          const docLinkHtml = 'Like what you see? Visit the ' +\n",
              "            '<a target=\"_blank\" href=https://colab.research.google.com/notebooks/data_table.ipynb>data table notebook</a>'\n",
              "            + ' to learn more about interactive tables.';\n",
              "          element.innerHTML = '';\n",
              "          dataTable['output_type'] = 'display_data';\n",
              "          await google.colab.output.renderOutput(dataTable, element);\n",
              "          const docLink = document.createElement('div');\n",
              "          docLink.innerHTML = docLinkHtml;\n",
              "          element.appendChild(docLink);\n",
              "        }\n",
              "      </script>\n",
              "    </div>\n",
              "  </div>\n",
              "  "
            ]
          },
          "metadata": {},
          "execution_count": 117
        }
      ],
      "source": [
        "valid_df[:2]"
      ]
    },
    {
      "cell_type": "code",
      "execution_count": 118,
      "metadata": {
        "colab": {
          "base_uri": "https://localhost:8080/"
        },
        "id": "egkeJ5Lxz7O_",
        "outputId": "d85671ad-cf8a-47ae-cc13-28c799cc7802"
      },
      "outputs": [
        {
          "output_type": "stream",
          "name": "stdout",
          "text": [
            "(array(['▁não', '▁sim'], dtype=object), array([333937,  66787])) \n",
            " (array(['▁não', '▁sim'], dtype=object), array([1678,  336]))\n"
          ]
        }
      ],
      "source": [
        "print(np.unique(train_df['label'], return_counts=True), '\\n', np.unique(valid_df['label'], return_counts=True))"
      ]
    },
    {
      "cell_type": "code",
      "execution_count": 119,
      "metadata": {
        "id": "RyDkS1BHz7M3"
      },
      "outputs": [],
      "source": [
        "train_dataset = Dataset.from_pandas(train_df[[\"query\", \"text\", \"label\"]].reset_index(drop=True))\n",
        "valid_dataset = Dataset.from_pandas(valid_df[[\"query\", \"text\", \"label\"]].reset_index(drop=True))"
      ]
    },
    {
      "cell_type": "code",
      "execution_count": 120,
      "metadata": {
        "colab": {
          "base_uri": "https://localhost:8080/"
        },
        "id": "Iyhn6oozz7JZ",
        "outputId": "8e09bc37-b41d-4cbe-b2bd-70ac24c9cb12"
      },
      "outputs": [
        {
          "output_type": "execute_result",
          "data": {
            "text/plain": [
              "(400724, 2014)"
            ]
          },
          "metadata": {},
          "execution_count": 120
        }
      ],
      "source": [
        "len(train_dataset), len(valid_dataset)"
      ]
    },
    {
      "cell_type": "code",
      "execution_count": 121,
      "metadata": {
        "colab": {
          "base_uri": "https://localhost:8080/"
        },
        "id": "zBMIhR4-1AsW",
        "outputId": "efacb9b8-e403-41af-802b-72a17ee437e9"
      },
      "outputs": [
        {
          "output_type": "execute_result",
          "data": {
            "text/plain": [
              "{'query': 'O início de obra pública sem a contratação de empresa supervisora para subsidiar o acompanhamento e a fiscalização da execução contratual, nos casos em que a complexidade e a importância do empreendimento o exijam, afronta o art. 67 da Lei 8.666/1993 e enseja a responsabilização do gestor omisso por eventuais irregularidades verificadas no contrato.',\n",
              " 'text': 'O termo é \"TCU\".\\nTCU é classificado como uma organização.\\nTCU tem nota de escopo: \"Em 7 de novembro de 1890, por iniciativa do então Ministro da Fazenda, Rui Barbosa, o Decreto nº 966-A criou o Tribunal de Contas da União, norteado pelos princípios da autonomia, fiscalização, julgamento, vigilância e energia.\".\\nTCU tem sinônimo: \"Tribunal de Contas da União\", \"EFS Tribunal de Contas da União\", \"EFS Brasil\", \"Tribunal de Contas do Brasil\", \"Tribunal da União\", \"Tribunal de Cuentas de Brasil\", \"Federal Court of Accounts\", \"Tribunal de Cuentas de la Unión\", \"Tribunal de Cuentas de la Union Brasil\", \"Tribunal de Contas Federal\", \"Tribunal de Contas da União\" e \"Tribunal de Contas Nacional\".\\nTCU tem termo relacionado: \"Brasil\".',\n",
              " 'label': '▁não'}"
            ]
          },
          "metadata": {},
          "execution_count": 121
        }
      ],
      "source": [
        "valid_dataset[0]"
      ]
    },
    {
      "cell_type": "code",
      "execution_count": 122,
      "metadata": {
        "id": "zZVBeVB_0Onw"
      },
      "outputs": [],
      "source": [
        "del df, train_df, valid_df\n"
      ]
    },
    {
      "cell_type": "code",
      "execution_count": 123,
      "metadata": {
        "colab": {
          "base_uri": "https://localhost:8080/"
        },
        "id": "wh-EzCpA0cqZ",
        "outputId": "28efed00-9792-41fb-878b-29a85318b77d"
      },
      "outputs": [
        {
          "output_type": "execute_result",
          "data": {
            "text/plain": [
              "20"
            ]
          },
          "metadata": {},
          "execution_count": 123
        }
      ],
      "source": [
        "gc.collect()"
      ]
    },
    {
      "cell_type": "code",
      "execution_count": 124,
      "metadata": {
        "id": "0ULDoMS7rkXT"
      },
      "outputs": [],
      "source": [
        "# tokenizer = MT5Tokenizer.from_pretrained(MODEL_NAME)\n",
        "tokenizer = AutoTokenizer.from_pretrained(MODEL_NAME)"
      ]
    },
    {
      "cell_type": "code",
      "execution_count": 125,
      "metadata": {
        "id": "7JUJQQuW7bCA"
      },
      "outputs": [],
      "source": [
        "def tokenize(batch):\n",
        "    queries_documents = [f\"Query: {query} Document: {text} Relevant:\" for query, text in zip(batch[\"query\"], batch[\"text\"])]\n",
        "    print(f\"Chamado tokenize len(queries_documents): {len(queries_documents)}\")\n",
        "    tokenized = tokenizer(\n",
        "        queries_documents,\n",
        "        padding=True, # \"max_length\",\n",
        "        truncation=True,\n",
        "        # return_tensors=\"pt\",\n",
        "        max_length= 512\n",
        "    )\n",
        "    # tokenized[\"labels\"] = [[label] for label in batch[\"label\"]]\n",
        "    # tokenized['label'] = [[token_false, token_true][int(pairs[\"label\"][i])]\n",
        "    tokenized[\"labels\"] = tokenizer(batch['label'])['input_ids']\n",
        "    # tokenized[\"labels\"] = [tokenizer.get_vocab()[token] for token in batch['label']]\n",
        "    # tokenized[\"labels\"] = [token_id_true if label == 'true' else token_id_false for label in batch[\"label\"]]\n",
        "    return tokenized\n"
      ]
    },
    {
      "cell_type": "code",
      "execution_count": 126,
      "metadata": {
        "colab": {
          "base_uri": "https://localhost:8080/",
          "height": 104,
          "referenced_widgets": [
            "67fe84903baa440b977a7007d1498fd4",
            "d63b82dd89dd4543821dba02eface80d",
            "f1c8112b34d44ba88c2694dc822be77a",
            "3597a93221a0430fa74220cf5421f178",
            "d94cf723fc2d4ba8847342bd67c2e7b1",
            "5cd6398a27c04a0e8d5f0b2dccf3054b",
            "94794bb729fb4191b449ab88bf709eae",
            "fcc9c8b1b5fe47a6b8f1f09fe6ab1f83",
            "53969328df5c49e69b9c7a2d7a7ebcf1",
            "4bd04100c2554dcaa7cdc56eda2b2d08",
            "3dd6cfbb872e4be68d9eb5d021ef5262"
          ]
        },
        "id": "YOaxhRfM3css",
        "outputId": "7ab066d2-38d8-4cdd-a1a2-4a6524922376"
      },
      "outputs": [
        {
          "output_type": "display_data",
          "data": {
            "text/plain": [
              "Tokenizing:   0%|          | 0/2014 [00:00<?, ? examples/s]"
            ],
            "application/vnd.jupyter.widget-view+json": {
              "version_major": 2,
              "version_minor": 0,
              "model_id": "67fe84903baa440b977a7007d1498fd4"
            }
          },
          "metadata": {}
        },
        {
          "output_type": "stream",
          "name": "stdout",
          "text": [
            "Chamado tokenize len(queries_documents): 1000\n",
            "Chamado tokenize len(queries_documents): 1000\n",
            "Chamado tokenize len(queries_documents): 14\n",
            "CPU times: user 2.9 s, sys: 61 ms, total: 2.96 s\n",
            "Wall time: 603 ms\n"
          ]
        }
      ],
      "source": [
        "%%time\n",
        "# valid_dataset.set_transform(tokenize)\n",
        "valid_dataset = valid_dataset.map(\n",
        "        tokenize,\n",
        "        remove_columns=('query', 'text', 'label'),\n",
        "        batched=True,\n",
        "        desc='Tokenizing',\n",
        "    )"
      ]
    },
    {
      "cell_type": "code",
      "execution_count": 127,
      "metadata": {
        "colab": {
          "base_uri": "https://localhost:8080/",
          "height": 1000,
          "referenced_widgets": [
            "d21f7b6c31414e1a875e2f8b9e861b23",
            "96292a013dd14d97bfcbc5ce64b779e3",
            "2bc7ef649896451f9fa5363eb175b209",
            "82dcb22a03504460b102cadb0eebd702",
            "e691a1d75b4b4f73851aa5e75a8d67c4",
            "ed5c0cc521e14427b785da4e3579957b",
            "4ac83a0c77e14e64b85f20b12a99e3b6",
            "551761ff205744878a9287d219edb326",
            "373488bda301478eb9b14b72b3f4e203",
            "df4e1637133d42658d012332c319556c",
            "e0868a54ef6d4ef2bac82477146c179b"
          ]
        },
        "id": "S49luVi-5bFG",
        "outputId": "aa125ad2-3f53-4a57-c91f-876b904986f3"
      },
      "outputs": [
        {
          "output_type": "display_data",
          "data": {
            "text/plain": [
              "Tokenizing:   0%|          | 0/400724 [00:00<?, ? examples/s]"
            ],
            "application/vnd.jupyter.widget-view+json": {
              "version_major": 2,
              "version_minor": 0,
              "model_id": "d21f7b6c31414e1a875e2f8b9e861b23"
            }
          },
          "metadata": {}
        },
        {
          "output_type": "stream",
          "name": "stdout",
          "text": [
            "Chamado tokenize len(queries_documents): 1000\n",
            "Chamado tokenize len(queries_documents): 1000\n",
            "Chamado tokenize len(queries_documents): 1000\n",
            "Chamado tokenize len(queries_documents): 1000\n",
            "Chamado tokenize len(queries_documents): 1000\n",
            "Chamado tokenize len(queries_documents): 1000\n",
            "Chamado tokenize len(queries_documents): 1000\n",
            "Chamado tokenize len(queries_documents): 1000\n",
            "Chamado tokenize len(queries_documents): 1000\n",
            "Chamado tokenize len(queries_documents): 1000\n",
            "Chamado tokenize len(queries_documents): 1000\n",
            "Chamado tokenize len(queries_documents): 1000\n",
            "Chamado tokenize len(queries_documents): 1000\n",
            "Chamado tokenize len(queries_documents): 1000\n",
            "Chamado tokenize len(queries_documents): 1000\n",
            "Chamado tokenize len(queries_documents): 1000\n",
            "Chamado tokenize len(queries_documents): 1000\n",
            "Chamado tokenize len(queries_documents): 1000\n",
            "Chamado tokenize len(queries_documents): 1000\n",
            "Chamado tokenize len(queries_documents): 1000\n",
            "Chamado tokenize len(queries_documents): 1000\n",
            "Chamado tokenize len(queries_documents): 1000\n",
            "Chamado tokenize len(queries_documents): 1000\n",
            "Chamado tokenize len(queries_documents): 1000\n",
            "Chamado tokenize len(queries_documents): 1000\n",
            "Chamado tokenize len(queries_documents): 1000\n",
            "Chamado tokenize len(queries_documents): 1000\n",
            "Chamado tokenize len(queries_documents): 1000\n",
            "Chamado tokenize len(queries_documents): 1000\n",
            "Chamado tokenize len(queries_documents): 1000\n",
            "Chamado tokenize len(queries_documents): 1000\n",
            "Chamado tokenize len(queries_documents): 1000\n",
            "Chamado tokenize len(queries_documents): 1000\n",
            "Chamado tokenize len(queries_documents): 1000\n",
            "Chamado tokenize len(queries_documents): 1000\n",
            "Chamado tokenize len(queries_documents): 1000\n",
            "Chamado tokenize len(queries_documents): 1000\n",
            "Chamado tokenize len(queries_documents): 1000\n",
            "Chamado tokenize len(queries_documents): 1000\n",
            "Chamado tokenize len(queries_documents): 1000\n",
            "Chamado tokenize len(queries_documents): 1000\n",
            "Chamado tokenize len(queries_documents): 1000\n",
            "Chamado tokenize len(queries_documents): 1000\n",
            "Chamado tokenize len(queries_documents): 1000\n",
            "Chamado tokenize len(queries_documents): 1000\n",
            "Chamado tokenize len(queries_documents): 1000\n",
            "Chamado tokenize len(queries_documents): 1000\n",
            "Chamado tokenize len(queries_documents): 1000\n",
            "Chamado tokenize len(queries_documents): 1000\n",
            "Chamado tokenize len(queries_documents): 1000\n",
            "Chamado tokenize len(queries_documents): 1000\n",
            "Chamado tokenize len(queries_documents): 1000\n",
            "Chamado tokenize len(queries_documents): 1000\n",
            "Chamado tokenize len(queries_documents): 1000\n",
            "Chamado tokenize len(queries_documents): 1000\n",
            "Chamado tokenize len(queries_documents): 1000\n",
            "Chamado tokenize len(queries_documents): 1000\n",
            "Chamado tokenize len(queries_documents): 1000\n",
            "Chamado tokenize len(queries_documents): 1000\n",
            "Chamado tokenize len(queries_documents): 1000\n",
            "Chamado tokenize len(queries_documents): 1000\n",
            "Chamado tokenize len(queries_documents): 1000\n",
            "Chamado tokenize len(queries_documents): 1000\n",
            "Chamado tokenize len(queries_documents): 1000\n",
            "Chamado tokenize len(queries_documents): 1000\n",
            "Chamado tokenize len(queries_documents): 1000\n",
            "Chamado tokenize len(queries_documents): 1000\n",
            "Chamado tokenize len(queries_documents): 1000\n",
            "Chamado tokenize len(queries_documents): 1000\n",
            "Chamado tokenize len(queries_documents): 1000\n",
            "Chamado tokenize len(queries_documents): 1000\n",
            "Chamado tokenize len(queries_documents): 1000\n",
            "Chamado tokenize len(queries_documents): 1000\n",
            "Chamado tokenize len(queries_documents): 1000\n",
            "Chamado tokenize len(queries_documents): 1000\n",
            "Chamado tokenize len(queries_documents): 1000\n",
            "Chamado tokenize len(queries_documents): 1000\n",
            "Chamado tokenize len(queries_documents): 1000\n",
            "Chamado tokenize len(queries_documents): 1000\n",
            "Chamado tokenize len(queries_documents): 1000\n",
            "Chamado tokenize len(queries_documents): 1000\n",
            "Chamado tokenize len(queries_documents): 1000\n",
            "Chamado tokenize len(queries_documents): 1000\n",
            "Chamado tokenize len(queries_documents): 1000\n",
            "Chamado tokenize len(queries_documents): 1000\n",
            "Chamado tokenize len(queries_documents): 1000\n",
            "Chamado tokenize len(queries_documents): 1000\n",
            "Chamado tokenize len(queries_documents): 1000\n",
            "Chamado tokenize len(queries_documents): 1000\n",
            "Chamado tokenize len(queries_documents): 1000\n",
            "Chamado tokenize len(queries_documents): 1000\n",
            "Chamado tokenize len(queries_documents): 1000\n",
            "Chamado tokenize len(queries_documents): 1000\n",
            "Chamado tokenize len(queries_documents): 1000\n",
            "Chamado tokenize len(queries_documents): 1000\n",
            "Chamado tokenize len(queries_documents): 1000\n",
            "Chamado tokenize len(queries_documents): 1000\n",
            "Chamado tokenize len(queries_documents): 1000\n",
            "Chamado tokenize len(queries_documents): 1000\n",
            "Chamado tokenize len(queries_documents): 1000\n",
            "Chamado tokenize len(queries_documents): 1000\n",
            "Chamado tokenize len(queries_documents): 1000\n",
            "Chamado tokenize len(queries_documents): 1000\n",
            "Chamado tokenize len(queries_documents): 1000\n",
            "Chamado tokenize len(queries_documents): 1000\n",
            "Chamado tokenize len(queries_documents): 1000\n",
            "Chamado tokenize len(queries_documents): 1000\n",
            "Chamado tokenize len(queries_documents): 1000\n",
            "Chamado tokenize len(queries_documents): 1000\n",
            "Chamado tokenize len(queries_documents): 1000\n",
            "Chamado tokenize len(queries_documents): 1000\n",
            "Chamado tokenize len(queries_documents): 1000\n",
            "Chamado tokenize len(queries_documents): 1000\n",
            "Chamado tokenize len(queries_documents): 1000\n",
            "Chamado tokenize len(queries_documents): 1000\n",
            "Chamado tokenize len(queries_documents): 1000\n",
            "Chamado tokenize len(queries_documents): 1000\n",
            "Chamado tokenize len(queries_documents): 1000\n",
            "Chamado tokenize len(queries_documents): 1000\n",
            "Chamado tokenize len(queries_documents): 1000\n",
            "Chamado tokenize len(queries_documents): 1000\n",
            "Chamado tokenize len(queries_documents): 1000\n",
            "Chamado tokenize len(queries_documents): 1000\n",
            "Chamado tokenize len(queries_documents): 1000\n",
            "Chamado tokenize len(queries_documents): 1000\n",
            "Chamado tokenize len(queries_documents): 1000\n",
            "Chamado tokenize len(queries_documents): 1000\n",
            "Chamado tokenize len(queries_documents): 1000\n",
            "Chamado tokenize len(queries_documents): 1000\n",
            "Chamado tokenize len(queries_documents): 1000\n",
            "Chamado tokenize len(queries_documents): 1000\n",
            "Chamado tokenize len(queries_documents): 1000\n",
            "Chamado tokenize len(queries_documents): 1000\n",
            "Chamado tokenize len(queries_documents): 1000\n",
            "Chamado tokenize len(queries_documents): 1000\n",
            "Chamado tokenize len(queries_documents): 1000\n",
            "Chamado tokenize len(queries_documents): 1000\n",
            "Chamado tokenize len(queries_documents): 1000\n",
            "Chamado tokenize len(queries_documents): 1000\n",
            "Chamado tokenize len(queries_documents): 1000\n",
            "Chamado tokenize len(queries_documents): 1000\n",
            "Chamado tokenize len(queries_documents): 1000\n",
            "Chamado tokenize len(queries_documents): 1000\n",
            "Chamado tokenize len(queries_documents): 1000\n",
            "Chamado tokenize len(queries_documents): 1000\n",
            "Chamado tokenize len(queries_documents): 1000\n",
            "Chamado tokenize len(queries_documents): 1000\n",
            "Chamado tokenize len(queries_documents): 1000\n",
            "Chamado tokenize len(queries_documents): 1000\n",
            "Chamado tokenize len(queries_documents): 1000\n",
            "Chamado tokenize len(queries_documents): 1000\n",
            "Chamado tokenize len(queries_documents): 1000\n",
            "Chamado tokenize len(queries_documents): 1000\n",
            "Chamado tokenize len(queries_documents): 1000\n",
            "Chamado tokenize len(queries_documents): 1000\n",
            "Chamado tokenize len(queries_documents): 1000\n",
            "Chamado tokenize len(queries_documents): 1000\n",
            "Chamado tokenize len(queries_documents): 1000\n",
            "Chamado tokenize len(queries_documents): 1000\n",
            "Chamado tokenize len(queries_documents): 1000\n",
            "Chamado tokenize len(queries_documents): 1000\n",
            "Chamado tokenize len(queries_documents): 1000\n",
            "Chamado tokenize len(queries_documents): 1000\n",
            "Chamado tokenize len(queries_documents): 1000\n",
            "Chamado tokenize len(queries_documents): 1000\n",
            "Chamado tokenize len(queries_documents): 1000\n",
            "Chamado tokenize len(queries_documents): 1000\n",
            "Chamado tokenize len(queries_documents): 1000\n",
            "Chamado tokenize len(queries_documents): 1000\n",
            "Chamado tokenize len(queries_documents): 1000\n",
            "Chamado tokenize len(queries_documents): 1000\n",
            "Chamado tokenize len(queries_documents): 1000\n",
            "Chamado tokenize len(queries_documents): 1000\n",
            "Chamado tokenize len(queries_documents): 1000\n",
            "Chamado tokenize len(queries_documents): 1000\n",
            "Chamado tokenize len(queries_documents): 1000\n",
            "Chamado tokenize len(queries_documents): 1000\n",
            "Chamado tokenize len(queries_documents): 1000\n",
            "Chamado tokenize len(queries_documents): 1000\n",
            "Chamado tokenize len(queries_documents): 1000\n",
            "Chamado tokenize len(queries_documents): 1000\n",
            "Chamado tokenize len(queries_documents): 1000\n",
            "Chamado tokenize len(queries_documents): 1000\n",
            "Chamado tokenize len(queries_documents): 1000\n",
            "Chamado tokenize len(queries_documents): 1000\n",
            "Chamado tokenize len(queries_documents): 1000\n",
            "Chamado tokenize len(queries_documents): 1000\n",
            "Chamado tokenize len(queries_documents): 1000\n",
            "Chamado tokenize len(queries_documents): 1000\n",
            "Chamado tokenize len(queries_documents): 1000\n",
            "Chamado tokenize len(queries_documents): 1000\n",
            "Chamado tokenize len(queries_documents): 1000\n",
            "Chamado tokenize len(queries_documents): 1000\n",
            "Chamado tokenize len(queries_documents): 1000\n",
            "Chamado tokenize len(queries_documents): 1000\n",
            "Chamado tokenize len(queries_documents): 1000\n",
            "Chamado tokenize len(queries_documents): 1000\n",
            "Chamado tokenize len(queries_documents): 1000\n",
            "Chamado tokenize len(queries_documents): 1000\n",
            "Chamado tokenize len(queries_documents): 1000\n",
            "Chamado tokenize len(queries_documents): 1000\n",
            "Chamado tokenize len(queries_documents): 1000\n",
            "Chamado tokenize len(queries_documents): 1000\n",
            "Chamado tokenize len(queries_documents): 1000\n",
            "Chamado tokenize len(queries_documents): 1000\n",
            "Chamado tokenize len(queries_documents): 1000\n",
            "Chamado tokenize len(queries_documents): 1000\n",
            "Chamado tokenize len(queries_documents): 1000\n",
            "Chamado tokenize len(queries_documents): 1000\n",
            "Chamado tokenize len(queries_documents): 1000\n",
            "Chamado tokenize len(queries_documents): 1000\n",
            "Chamado tokenize len(queries_documents): 1000\n",
            "Chamado tokenize len(queries_documents): 1000\n",
            "Chamado tokenize len(queries_documents): 1000\n",
            "Chamado tokenize len(queries_documents): 1000\n",
            "Chamado tokenize len(queries_documents): 1000\n",
            "Chamado tokenize len(queries_documents): 1000\n",
            "Chamado tokenize len(queries_documents): 1000\n",
            "Chamado tokenize len(queries_documents): 1000\n",
            "Chamado tokenize len(queries_documents): 1000\n",
            "Chamado tokenize len(queries_documents): 1000\n",
            "Chamado tokenize len(queries_documents): 1000\n",
            "Chamado tokenize len(queries_documents): 1000\n",
            "Chamado tokenize len(queries_documents): 1000\n",
            "Chamado tokenize len(queries_documents): 1000\n",
            "Chamado tokenize len(queries_documents): 1000\n",
            "Chamado tokenize len(queries_documents): 1000\n",
            "Chamado tokenize len(queries_documents): 1000\n",
            "Chamado tokenize len(queries_documents): 1000\n",
            "Chamado tokenize len(queries_documents): 1000\n",
            "Chamado tokenize len(queries_documents): 1000\n",
            "Chamado tokenize len(queries_documents): 1000\n",
            "Chamado tokenize len(queries_documents): 1000\n",
            "Chamado tokenize len(queries_documents): 1000\n",
            "Chamado tokenize len(queries_documents): 1000\n",
            "Chamado tokenize len(queries_documents): 1000\n",
            "Chamado tokenize len(queries_documents): 1000\n",
            "Chamado tokenize len(queries_documents): 1000\n",
            "Chamado tokenize len(queries_documents): 1000\n",
            "Chamado tokenize len(queries_documents): 1000\n",
            "Chamado tokenize len(queries_documents): 1000\n",
            "Chamado tokenize len(queries_documents): 1000\n",
            "Chamado tokenize len(queries_documents): 1000\n",
            "Chamado tokenize len(queries_documents): 1000\n",
            "Chamado tokenize len(queries_documents): 1000\n",
            "Chamado tokenize len(queries_documents): 1000\n",
            "Chamado tokenize len(queries_documents): 1000\n",
            "Chamado tokenize len(queries_documents): 1000\n",
            "Chamado tokenize len(queries_documents): 1000\n",
            "Chamado tokenize len(queries_documents): 1000\n",
            "Chamado tokenize len(queries_documents): 1000\n",
            "Chamado tokenize len(queries_documents): 1000\n",
            "Chamado tokenize len(queries_documents): 1000\n",
            "Chamado tokenize len(queries_documents): 1000\n",
            "Chamado tokenize len(queries_documents): 1000\n",
            "Chamado tokenize len(queries_documents): 1000\n",
            "Chamado tokenize len(queries_documents): 1000\n",
            "Chamado tokenize len(queries_documents): 1000\n",
            "Chamado tokenize len(queries_documents): 1000\n",
            "Chamado tokenize len(queries_documents): 1000\n",
            "Chamado tokenize len(queries_documents): 1000\n",
            "Chamado tokenize len(queries_documents): 1000\n",
            "Chamado tokenize len(queries_documents): 1000\n",
            "Chamado tokenize len(queries_documents): 1000\n",
            "Chamado tokenize len(queries_documents): 1000\n",
            "Chamado tokenize len(queries_documents): 1000\n",
            "Chamado tokenize len(queries_documents): 1000\n",
            "Chamado tokenize len(queries_documents): 1000\n",
            "Chamado tokenize len(queries_documents): 1000\n",
            "Chamado tokenize len(queries_documents): 1000\n",
            "Chamado tokenize len(queries_documents): 1000\n",
            "Chamado tokenize len(queries_documents): 1000\n",
            "Chamado tokenize len(queries_documents): 1000\n",
            "Chamado tokenize len(queries_documents): 1000\n",
            "Chamado tokenize len(queries_documents): 1000\n",
            "Chamado tokenize len(queries_documents): 1000\n",
            "Chamado tokenize len(queries_documents): 1000\n",
            "Chamado tokenize len(queries_documents): 1000\n",
            "Chamado tokenize len(queries_documents): 1000\n",
            "Chamado tokenize len(queries_documents): 1000\n",
            "Chamado tokenize len(queries_documents): 1000\n",
            "Chamado tokenize len(queries_documents): 1000\n",
            "Chamado tokenize len(queries_documents): 1000\n",
            "Chamado tokenize len(queries_documents): 1000\n",
            "Chamado tokenize len(queries_documents): 1000\n",
            "Chamado tokenize len(queries_documents): 1000\n",
            "Chamado tokenize len(queries_documents): 1000\n",
            "Chamado tokenize len(queries_documents): 1000\n",
            "Chamado tokenize len(queries_documents): 1000\n",
            "Chamado tokenize len(queries_documents): 1000\n",
            "Chamado tokenize len(queries_documents): 1000\n",
            "Chamado tokenize len(queries_documents): 1000\n",
            "Chamado tokenize len(queries_documents): 1000\n",
            "Chamado tokenize len(queries_documents): 1000\n",
            "Chamado tokenize len(queries_documents): 1000\n",
            "Chamado tokenize len(queries_documents): 1000\n",
            "Chamado tokenize len(queries_documents): 1000\n",
            "Chamado tokenize len(queries_documents): 1000\n",
            "Chamado tokenize len(queries_documents): 1000\n",
            "Chamado tokenize len(queries_documents): 1000\n",
            "Chamado tokenize len(queries_documents): 1000\n",
            "Chamado tokenize len(queries_documents): 1000\n",
            "Chamado tokenize len(queries_documents): 1000\n",
            "Chamado tokenize len(queries_documents): 1000\n",
            "Chamado tokenize len(queries_documents): 1000\n",
            "Chamado tokenize len(queries_documents): 1000\n",
            "Chamado tokenize len(queries_documents): 1000\n",
            "Chamado tokenize len(queries_documents): 1000\n",
            "Chamado tokenize len(queries_documents): 1000\n",
            "Chamado tokenize len(queries_documents): 1000\n",
            "Chamado tokenize len(queries_documents): 1000\n",
            "Chamado tokenize len(queries_documents): 1000\n",
            "Chamado tokenize len(queries_documents): 1000\n",
            "Chamado tokenize len(queries_documents): 1000\n",
            "Chamado tokenize len(queries_documents): 1000\n",
            "Chamado tokenize len(queries_documents): 1000\n",
            "Chamado tokenize len(queries_documents): 1000\n",
            "Chamado tokenize len(queries_documents): 1000\n",
            "Chamado tokenize len(queries_documents): 1000\n",
            "Chamado tokenize len(queries_documents): 1000\n",
            "Chamado tokenize len(queries_documents): 1000\n",
            "Chamado tokenize len(queries_documents): 1000\n",
            "Chamado tokenize len(queries_documents): 1000\n",
            "Chamado tokenize len(queries_documents): 1000\n",
            "Chamado tokenize len(queries_documents): 1000\n",
            "Chamado tokenize len(queries_documents): 1000\n",
            "Chamado tokenize len(queries_documents): 1000\n",
            "Chamado tokenize len(queries_documents): 1000\n",
            "Chamado tokenize len(queries_documents): 1000\n",
            "Chamado tokenize len(queries_documents): 1000\n",
            "Chamado tokenize len(queries_documents): 1000\n",
            "Chamado tokenize len(queries_documents): 1000\n",
            "Chamado tokenize len(queries_documents): 1000\n",
            "Chamado tokenize len(queries_documents): 1000\n",
            "Chamado tokenize len(queries_documents): 1000\n",
            "Chamado tokenize len(queries_documents): 1000\n",
            "Chamado tokenize len(queries_documents): 1000\n",
            "Chamado tokenize len(queries_documents): 1000\n",
            "Chamado tokenize len(queries_documents): 1000\n",
            "Chamado tokenize len(queries_documents): 1000\n",
            "Chamado tokenize len(queries_documents): 1000\n",
            "Chamado tokenize len(queries_documents): 1000\n",
            "Chamado tokenize len(queries_documents): 1000\n",
            "Chamado tokenize len(queries_documents): 1000\n",
            "Chamado tokenize len(queries_documents): 1000\n",
            "Chamado tokenize len(queries_documents): 1000\n",
            "Chamado tokenize len(queries_documents): 1000\n",
            "Chamado tokenize len(queries_documents): 1000\n",
            "Chamado tokenize len(queries_documents): 1000\n",
            "Chamado tokenize len(queries_documents): 1000\n",
            "Chamado tokenize len(queries_documents): 1000\n",
            "Chamado tokenize len(queries_documents): 1000\n",
            "Chamado tokenize len(queries_documents): 1000\n",
            "Chamado tokenize len(queries_documents): 1000\n",
            "Chamado tokenize len(queries_documents): 1000\n",
            "Chamado tokenize len(queries_documents): 1000\n",
            "Chamado tokenize len(queries_documents): 1000\n",
            "Chamado tokenize len(queries_documents): 1000\n",
            "Chamado tokenize len(queries_documents): 1000\n",
            "Chamado tokenize len(queries_documents): 1000\n",
            "Chamado tokenize len(queries_documents): 1000\n",
            "Chamado tokenize len(queries_documents): 1000\n",
            "Chamado tokenize len(queries_documents): 1000\n",
            "Chamado tokenize len(queries_documents): 1000\n",
            "Chamado tokenize len(queries_documents): 1000\n",
            "Chamado tokenize len(queries_documents): 1000\n",
            "Chamado tokenize len(queries_documents): 1000\n",
            "Chamado tokenize len(queries_documents): 1000\n",
            "Chamado tokenize len(queries_documents): 1000\n",
            "Chamado tokenize len(queries_documents): 1000\n",
            "Chamado tokenize len(queries_documents): 1000\n",
            "Chamado tokenize len(queries_documents): 1000\n",
            "Chamado tokenize len(queries_documents): 1000\n",
            "Chamado tokenize len(queries_documents): 1000\n",
            "Chamado tokenize len(queries_documents): 1000\n",
            "Chamado tokenize len(queries_documents): 1000\n",
            "Chamado tokenize len(queries_documents): 1000\n",
            "Chamado tokenize len(queries_documents): 1000\n",
            "Chamado tokenize len(queries_documents): 1000\n",
            "Chamado tokenize len(queries_documents): 1000\n",
            "Chamado tokenize len(queries_documents): 1000\n",
            "Chamado tokenize len(queries_documents): 1000\n",
            "Chamado tokenize len(queries_documents): 1000\n",
            "Chamado tokenize len(queries_documents): 1000\n",
            "Chamado tokenize len(queries_documents): 1000\n",
            "Chamado tokenize len(queries_documents): 1000\n",
            "Chamado tokenize len(queries_documents): 1000\n",
            "Chamado tokenize len(queries_documents): 1000\n",
            "Chamado tokenize len(queries_documents): 1000\n",
            "Chamado tokenize len(queries_documents): 1000\n",
            "Chamado tokenize len(queries_documents): 1000\n",
            "Chamado tokenize len(queries_documents): 1000\n",
            "Chamado tokenize len(queries_documents): 1000\n",
            "Chamado tokenize len(queries_documents): 1000\n",
            "Chamado tokenize len(queries_documents): 1000\n",
            "Chamado tokenize len(queries_documents): 1000\n",
            "Chamado tokenize len(queries_documents): 1000\n",
            "Chamado tokenize len(queries_documents): 1000\n",
            "Chamado tokenize len(queries_documents): 1000\n",
            "Chamado tokenize len(queries_documents): 1000\n",
            "Chamado tokenize len(queries_documents): 724\n",
            "CPU times: user 9min 26s, sys: 5.06 s, total: 9min 31s\n",
            "Wall time: 1min 54s\n"
          ]
        }
      ],
      "source": [
        "%%time\n",
        "# train_dataset.set_transform(tokenize)\n",
        "train_dataset = train_dataset.map(\n",
        "        tokenize,\n",
        "        remove_columns=('query', 'text', 'label'),\n",
        "        batched=True,\n",
        "        desc='Tokenizing',\n",
        "    )"
      ]
    },
    {
      "cell_type": "code",
      "execution_count": 128,
      "metadata": {
        "colab": {
          "base_uri": "https://localhost:8080/"
        },
        "id": "LFHMQrDr5XKD",
        "outputId": "fc256a06-00e5-49f6-99ee-90390f95bce0"
      },
      "outputs": [
        {
          "output_type": "stream",
          "name": "stdout",
          "text": [
            "{'input_ids': [2094, 540, 46, 28, 291, 4, 516, 1450, 203, 7, 10483, 4, 449, 19475, 44, 20, 575, 6, 6334, 256, 9, 11911, 8, 7, 18522, 11, 3221, 132, 6935, 3, 84, 1261, 12, 13, 7, 9213, 8, 7, 1567, 10, 9738, 9, 239, 11544, 41, 3, 6833, 1459, 9, 7904, 5, 8966, 11, 1090, 290, 5, 975, 2994, 113, 21916, 8, 833, 32, 570, 7, 21581, 93, 10, 18666, 9, 12159, 43, 26, 20868, 20156, 7972, 178, 19, 1170, 5, 745, 797, 1806, 46, 28, 762, 21, 15, 12422, 746, 64, 299, 165, 746, 21, 3823, 29, 17, 1001, 5, 299, 165, 746, 87, 2649, 4, 19414, 46, 15, 4169, 280, 4, 362, 4, 5963, 3, 26, 3985, 10, 174, 3596, 11, 5679, 3, 6991, 5640, 3, 9, 4635, 19, 351, 2994, 14, 89, 1682, 9, 2330, 4, 3908, 6, 11, 842, 3, 220, 338, 210, 3862, 11, 6700, 3, 18522, 3, 4424, 3, 14263, 8, 1033, 5, 64, 299, 165, 746, 87, 13059, 46, 15, 22502, 77, 4, 3908, 6, 11, 842, 49, 15, 15962, 207, 2330, 4, 3908, 6, 11, 842, 49, 15, 15962, 207, 112, 49, 15, 22502, 77, 4, 3908, 6, 10, 112, 49, 15, 22502, 77, 11, 842, 49, 15, 22502, 77, 4, 1397, 4814, 6, 4, 112, 49, 15, 7001, 86, 2057, 13476, 224, 4958, 3510, 1004, 6, 49, 15, 22502, 77, 4, 1397, 4814, 6, 4, 532, 4256, 2196, 49, 15, 22502, 77, 4, 1397, 4814, 6, 4, 532, 9678, 112, 49, 15, 22502, 77, 4, 3908, 6, 836, 49, 15, 22502, 77, 4, 3908, 6, 11, 842, 27, 8, 15, 22502, 77, 4, 3908, 6, 381, 64, 299, 165, 746, 87, 762, 5993, 46, 15, 7888, 64, 294, 8985, 5572, 46, 1, 0, 0, 0, 0, 0, 0, 0, 0, 0, 0, 0, 0, 0, 0, 0, 0, 0, 0, 0, 0, 0, 0, 0, 0, 0, 0, 0, 0, 0, 0, 0, 0, 0, 0, 0, 0, 0, 0, 0, 0, 0, 0, 0, 0, 0, 0, 0, 0, 0, 0, 0, 0, 0, 0, 0, 0, 0, 0, 0, 0, 0, 0, 0, 0, 0, 0, 0, 0, 0, 0, 0, 0, 0, 0, 0, 0, 0, 0, 0, 0, 0, 0, 0, 0, 0, 0, 0, 0, 0, 0, 0, 0, 0, 0, 0, 0, 0, 0, 0, 0, 0, 0, 0, 0, 0, 0, 0, 0, 0, 0, 0, 0, 0, 0, 0, 0, 0, 0, 0, 0, 0, 0, 0, 0, 0, 0, 0, 0, 0, 0, 0, 0, 0, 0, 0, 0, 0, 0, 0, 0, 0, 0, 0, 0, 0, 0, 0, 0, 0, 0, 0, 0, 0, 0, 0, 0, 0, 0, 0, 0, 0, 0, 0, 0, 0, 0, 0, 0, 0, 0, 0, 0, 0, 0, 0, 0, 0, 0, 0, 0, 0, 0, 0, 0, 0, 0, 0, 0, 0, 0, 0, 0, 0, 0, 0, 0, 0, 0, 0, 0, 0, 0, 0, 0, 0, 0, 0, 0, 0, 0, 0, 0, 0, 0, 0, 0, 0, 0, 0, 0, 0, 0], 'attention_mask': [1, 1, 1, 1, 1, 1, 1, 1, 1, 1, 1, 1, 1, 1, 1, 1, 1, 1, 1, 1, 1, 1, 1, 1, 1, 1, 1, 1, 1, 1, 1, 1, 1, 1, 1, 1, 1, 1, 1, 1, 1, 1, 1, 1, 1, 1, 1, 1, 1, 1, 1, 1, 1, 1, 1, 1, 1, 1, 1, 1, 1, 1, 1, 1, 1, 1, 1, 1, 1, 1, 1, 1, 1, 1, 1, 1, 1, 1, 1, 1, 1, 1, 1, 1, 1, 1, 1, 1, 1, 1, 1, 1, 1, 1, 1, 1, 1, 1, 1, 1, 1, 1, 1, 1, 1, 1, 1, 1, 1, 1, 1, 1, 1, 1, 1, 1, 1, 1, 1, 1, 1, 1, 1, 1, 1, 1, 1, 1, 1, 1, 1, 1, 1, 1, 1, 1, 1, 1, 1, 1, 1, 1, 1, 1, 1, 1, 1, 1, 1, 1, 1, 1, 1, 1, 1, 1, 1, 1, 1, 1, 1, 1, 1, 1, 1, 1, 1, 1, 1, 1, 1, 1, 1, 1, 1, 1, 1, 1, 1, 1, 1, 1, 1, 1, 1, 1, 1, 1, 1, 1, 1, 1, 1, 1, 1, 1, 1, 1, 1, 1, 1, 1, 1, 1, 1, 1, 1, 1, 1, 1, 1, 1, 1, 1, 1, 1, 1, 1, 1, 1, 1, 1, 1, 1, 1, 1, 1, 1, 1, 1, 1, 1, 1, 1, 1, 1, 1, 1, 1, 1, 1, 1, 1, 1, 1, 1, 1, 1, 1, 1, 1, 1, 1, 1, 1, 1, 1, 1, 1, 1, 1, 1, 1, 1, 1, 1, 1, 1, 1, 1, 1, 1, 1, 1, 1, 1, 1, 1, 1, 1, 1, 1, 1, 1, 1, 1, 1, 1, 1, 1, 0, 0, 0, 0, 0, 0, 0, 0, 0, 0, 0, 0, 0, 0, 0, 0, 0, 0, 0, 0, 0, 0, 0, 0, 0, 0, 0, 0, 0, 0, 0, 0, 0, 0, 0, 0, 0, 0, 0, 0, 0, 0, 0, 0, 0, 0, 0, 0, 0, 0, 0, 0, 0, 0, 0, 0, 0, 0, 0, 0, 0, 0, 0, 0, 0, 0, 0, 0, 0, 0, 0, 0, 0, 0, 0, 0, 0, 0, 0, 0, 0, 0, 0, 0, 0, 0, 0, 0, 0, 0, 0, 0, 0, 0, 0, 0, 0, 0, 0, 0, 0, 0, 0, 0, 0, 0, 0, 0, 0, 0, 0, 0, 0, 0, 0, 0, 0, 0, 0, 0, 0, 0, 0, 0, 0, 0, 0, 0, 0, 0, 0, 0, 0, 0, 0, 0, 0, 0, 0, 0, 0, 0, 0, 0, 0, 0, 0, 0, 0, 0, 0, 0, 0, 0, 0, 0, 0, 0, 0, 0, 0, 0, 0, 0, 0, 0, 0, 0, 0, 0, 0, 0, 0, 0, 0, 0, 0, 0, 0, 0, 0, 0, 0, 0, 0, 0, 0, 0, 0, 0, 0, 0, 0, 0, 0, 0, 0, 0, 0, 0, 0, 0, 0, 0, 0, 0, 0, 0, 0, 0, 0, 0, 0, 0, 0, 0, 0, 0, 0, 0, 0, 0], 'labels': [47, 1]}\n"
          ]
        }
      ],
      "source": [
        "print(valid_dataset[0])"
      ]
    },
    {
      "cell_type": "markdown",
      "metadata": {
        "id": "-uipa1K06isE"
      },
      "source": [
        "# Train"
      ]
    },
    {
      "cell_type": "markdown",
      "metadata": {
        "id": "Hig02oOb580I"
      },
      "source": [
        "## setup"
      ]
    },
    {
      "cell_type": "code",
      "execution_count": 129,
      "metadata": {
        "colab": {
          "base_uri": "https://localhost:8080/",
          "height": 35
        },
        "id": "t9-bawPr57P4",
        "outputId": "a61307d2-b256-49d7-8378-27febabd5c2b"
      },
      "outputs": [
        {
          "output_type": "execute_result",
          "data": {
            "text/plain": [
              "'/content/drive/MyDrive/temp/ind-ir'"
            ],
            "application/vnd.google.colaboratory.intrinsic+json": {
              "type": "string"
            }
          },
          "metadata": {},
          "execution_count": 129
        }
      ],
      "source": [
        "PATH_TRAIN_MODEL_LOCAL"
      ]
    },
    {
      "cell_type": "code",
      "execution_count": 130,
      "metadata": {
        "id": "bGJOtzX4FhnF"
      },
      "outputs": [],
      "source": [
        "num_step_alert = 200\n",
        "training_args = Seq2SeqTrainingArguments(output_dir=PATH_TRAIN_MODEL_LOCAL)\n",
        "# Needed to make the Trainer work with an on-the-fly transformation on the dataset\n",
        "# training_args.remove_unused_columns = False\n",
        "training_args.output_dir = PATH_TRAIN_MODEL_LOCAL\n",
        "training_args.warmup_steps=400 # Alterar!\n",
        "training_args.num_train_epochs=4.0 # Alterar!\n",
        "training_args.logging_steps=num_step_alert # Alterar!\n",
        "training_args.save_strategy=\"steps\"\n",
        "training_args.save_steps=num_step_alert\n",
        "training_args.save_total_limit=5\n",
        "training_args.learning_rate=5e-5\n",
        "training_args.per_device_train_batch_size=32 # t4: 8, a100-40: 32\n",
        "training_args.gradient_accumulation_steps=2 # t4: 4, a100-40: 2\n",
        "#training_args._n_gpu = 1\n",
        "training_args.bf16 = True # se for usar a100, 3090, 4090 -> usar\n",
        "training_args.ignore_data_skip = True\n",
        "training_args.load_best_model_at_end = True\n",
        "training_args.evaluation_strategy='steps'\n",
        "training_args.eval_steps=num_step_alert\n",
        "training_args.do_eval = True\n",
        "# training_args.optim='adamw_hf' #default\n",
        "training_args.gradient_checkpointing = False # True\n",
        "# se precisar economizar gpu\n",
        "# training_args.optim='adamw_bnb_8bit'\n",
        "training_args.gradient_checkpointing = True\n",
        "# training_args.report_to=\"none\""
      ]
    },
    {
      "cell_type": "code",
      "execution_count": 131,
      "metadata": {
        "colab": {
          "base_uri": "https://localhost:8080/"
        },
        "id": "nxFMX-y4ZkLF",
        "outputId": "89d66d20-096b-4a8a-9de8-c7f0057c62f4"
      },
      "outputs": [
        {
          "output_type": "stream",
          "name": "stdout",
          "text": [
            "drive  sample_data\n"
          ]
        }
      ],
      "source": [
        "!ls"
      ]
    },
    {
      "cell_type": "code",
      "execution_count": 132,
      "metadata": {
        "colab": {
          "base_uri": "https://localhost:8080/"
        },
        "id": "8mMQw6ra63Xk",
        "outputId": "b4816bc9-f3af-4913-8673-b142128da442"
      },
      "outputs": [
        {
          "output_type": "stream",
          "name": "stdout",
          "text": [
            "Seq2SeqTrainingArguments(\n",
            "_n_gpu=1,\n",
            "adafactor=False,\n",
            "adam_beta1=0.9,\n",
            "adam_beta2=0.999,\n",
            "adam_epsilon=1e-08,\n",
            "auto_find_batch_size=False,\n",
            "bf16=True,\n",
            "bf16_full_eval=False,\n",
            "data_seed=None,\n",
            "dataloader_drop_last=False,\n",
            "dataloader_num_workers=0,\n",
            "dataloader_pin_memory=True,\n",
            "ddp_backend=None,\n",
            "ddp_bucket_cap_mb=None,\n",
            "ddp_find_unused_parameters=None,\n",
            "ddp_timeout=1800,\n",
            "debug=[],\n",
            "deepspeed=None,\n",
            "disable_tqdm=False,\n",
            "do_eval=True,\n",
            "do_predict=False,\n",
            "do_train=False,\n",
            "eval_accumulation_steps=None,\n",
            "eval_delay=0,\n",
            "eval_steps=200,\n",
            "evaluation_strategy=steps,\n",
            "fp16=False,\n",
            "fp16_backend=auto,\n",
            "fp16_full_eval=False,\n",
            "fp16_opt_level=O1,\n",
            "fsdp=[],\n",
            "fsdp_config={'fsdp_min_num_params': 0, 'xla': False, 'xla_fsdp_grad_ckpt': False},\n",
            "fsdp_min_num_params=0,\n",
            "fsdp_transformer_layer_cls_to_wrap=None,\n",
            "full_determinism=False,\n",
            "generation_config=None,\n",
            "generation_max_length=None,\n",
            "generation_num_beams=None,\n",
            "gradient_accumulation_steps=2,\n",
            "gradient_checkpointing=True,\n",
            "greater_is_better=None,\n",
            "group_by_length=False,\n",
            "half_precision_backend=auto,\n",
            "hub_model_id=None,\n",
            "hub_private_repo=False,\n",
            "hub_strategy=every_save,\n",
            "hub_token=<HUB_TOKEN>,\n",
            "ignore_data_skip=True,\n",
            "include_inputs_for_metrics=False,\n",
            "jit_mode_eval=False,\n",
            "label_names=None,\n",
            "label_smoothing_factor=0.0,\n",
            "learning_rate=5e-05,\n",
            "length_column_name=length,\n",
            "load_best_model_at_end=True,\n",
            "local_rank=0,\n",
            "log_level=passive,\n",
            "log_level_replica=warning,\n",
            "log_on_each_node=True,\n",
            "logging_dir=/content/drive/MyDrive/temp/ind-ir/runs/Jun29_01-48-08_4628e6b22b59,\n",
            "logging_first_step=False,\n",
            "logging_nan_inf_filter=True,\n",
            "logging_steps=200,\n",
            "logging_strategy=steps,\n",
            "lr_scheduler_type=linear,\n",
            "max_grad_norm=1.0,\n",
            "max_steps=-1,\n",
            "metric_for_best_model=None,\n",
            "mp_parameters=,\n",
            "no_cuda=False,\n",
            "num_train_epochs=4.0,\n",
            "optim=adamw_hf,\n",
            "optim_args=None,\n",
            "output_dir=/content/drive/MyDrive/temp/ind-ir,\n",
            "overwrite_output_dir=False,\n",
            "past_index=-1,\n",
            "per_device_eval_batch_size=8,\n",
            "per_device_train_batch_size=32,\n",
            "predict_with_generate=False,\n",
            "prediction_loss_only=False,\n",
            "push_to_hub=False,\n",
            "push_to_hub_model_id=None,\n",
            "push_to_hub_organization=None,\n",
            "push_to_hub_token=<PUSH_TO_HUB_TOKEN>,\n",
            "ray_scope=last,\n",
            "remove_unused_columns=True,\n",
            "report_to=['tensorboard'],\n",
            "resume_from_checkpoint=None,\n",
            "run_name=/content/drive/MyDrive/temp/ind-ir,\n",
            "save_on_each_node=False,\n",
            "save_safetensors=False,\n",
            "save_steps=200,\n",
            "save_strategy=steps,\n",
            "save_total_limit=5,\n",
            "seed=42,\n",
            "sharded_ddp=[],\n",
            "skip_memory_metrics=True,\n",
            "sortish_sampler=False,\n",
            "tf32=None,\n",
            "torch_compile=False,\n",
            "torch_compile_backend=None,\n",
            "torch_compile_mode=None,\n",
            "torchdynamo=None,\n",
            "tpu_metrics_debug=False,\n",
            "tpu_num_cores=None,\n",
            "use_ipex=False,\n",
            "use_legacy_prediction_loop=False,\n",
            "use_mps_device=False,\n",
            "warmup_ratio=0.0,\n",
            "warmup_steps=400,\n",
            "weight_decay=0.0,\n",
            "xpu_backend=None,\n",
            ")\n"
          ]
        }
      ],
      "source": [
        "print(training_args)"
      ]
    },
    {
      "cell_type": "code",
      "execution_count": 133,
      "metadata": {
        "id": "nBRTbzhSW7hF"
      },
      "outputs": [],
      "source": [
        "# from transformers.integrations import NeptuneCallback\n",
        "# rastro_neptune = NeptuneRastroRun(hparam, parm_lista_tag= tag_contexto_rastro)\n",
        "# neptune_callback = NeptuneCallback(run=rastro_neptune)"
      ]
    },
    {
      "cell_type": "code",
      "execution_count": 134,
      "metadata": {
        "colab": {
          "base_uri": "https://localhost:8080/"
        },
        "id": "qJt67cC8u7XO",
        "outputId": "6a2efbae-6bd2-499b-87ef-6909c33af5e1"
      },
      "outputs": [
        {
          "output_type": "stream",
          "name": "stdout",
          "text": [
            "CPU times: user 2.58 s, sys: 581 ms, total: 3.16 s\n",
            "Wall time: 3.8 s\n"
          ]
        }
      ],
      "source": [
        "%%time\n",
        "model = AutoModelForSeq2SeqLM.from_pretrained(MODEL_NAME)\n"
      ]
    },
    {
      "cell_type": "code",
      "execution_count": 135,
      "metadata": {
        "id": "rrK0NBIV2GjX"
      },
      "outputs": [],
      "source": [
        "trainer_cls = Seq2SeqTrainer\n",
        "data_collator = DataCollatorForSeq2Seq(tokenizer)"
      ]
    },
    {
      "cell_type": "code",
      "execution_count": 136,
      "metadata": {
        "id": "Srq3KA_ZlWPD"
      },
      "outputs": [],
      "source": [
        "# Limpa o cache da memória da GPU\n",
        "# del trainer\n",
        "torch.cuda.empty_cache()"
      ]
    },
    {
      "cell_type": "code",
      "execution_count": 137,
      "metadata": {
        "colab": {
          "base_uri": "https://localhost:8080/"
        },
        "id": "cWdCbovj25Sh",
        "outputId": "ebbecc0d-5d7b-42ee-a0e4-bc962ec456d4"
      },
      "outputs": [
        {
          "output_type": "execute_result",
          "data": {
            "text/plain": [
              "73"
            ]
          },
          "metadata": {},
          "execution_count": 137
        }
      ],
      "source": [
        "gc.collect()"
      ]
    },
    {
      "cell_type": "markdown",
      "metadata": {
        "id": "aoik0K8sX3Jg"
      },
      "source": [
        "## Train"
      ]
    },
    {
      "cell_type": "code",
      "execution_count": 138,
      "metadata": {
        "colab": {
          "base_uri": "https://localhost:8080/",
          "height": 85
        },
        "id": "XhSrqbj-tgFm",
        "outputId": "8bbd2a10-4129-4c07-cfc2-4dc4aa895be0"
      },
      "outputs": [
        {
          "output_type": "display_data",
          "data": {
            "text/plain": [
              "\u001b[31m╭─\u001b[0m\u001b[31m──────────────────────────────\u001b[0m\u001b[31m \u001b[0m\u001b[1;31mTraceback \u001b[0m\u001b[1;2;31m(most recent call last)\u001b[0m\u001b[31m \u001b[0m\u001b[31m───────────────────────────────\u001b[0m\u001b[31m─╮\u001b[0m\n",
              "\u001b[31m│\u001b[0m in \u001b[92m<cell line: 1>\u001b[0m:\u001b[94m1\u001b[0m                                                                              \u001b[31m│\u001b[0m\n",
              "\u001b[31m╰──────────────────────────────────────────────────────────────────────────────────────────────────╯\u001b[0m\n",
              "\u001b[1;91mException: \u001b[0mParar aqui reinício!\n"
            ],
            "text/html": [
              "<pre style=\"white-space:pre;overflow-x:auto;line-height:normal;font-family:Menlo,'DejaVu Sans Mono',consolas,'Courier New',monospace\"><span style=\"color: #800000; text-decoration-color: #800000\">╭─────────────────────────────── </span><span style=\"color: #800000; text-decoration-color: #800000; font-weight: bold\">Traceback </span><span style=\"color: #bf7f7f; text-decoration-color: #bf7f7f; font-weight: bold\">(most recent call last)</span><span style=\"color: #800000; text-decoration-color: #800000\"> ────────────────────────────────╮</span>\n",
              "<span style=\"color: #800000; text-decoration-color: #800000\">│</span> in <span style=\"color: #00ff00; text-decoration-color: #00ff00\">&lt;cell line: 1&gt;</span>:<span style=\"color: #0000ff; text-decoration-color: #0000ff\">1</span>                                                                              <span style=\"color: #800000; text-decoration-color: #800000\">│</span>\n",
              "<span style=\"color: #800000; text-decoration-color: #800000\">╰──────────────────────────────────────────────────────────────────────────────────────────────────╯</span>\n",
              "<span style=\"color: #ff0000; text-decoration-color: #ff0000; font-weight: bold\">Exception: </span>Parar aqui reinício!\n",
              "</pre>\n"
            ]
          },
          "metadata": {}
        }
      ],
      "source": [
        "raise Exception('Parar aqui reinício!')"
      ]
    },
    {
      "cell_type": "code",
      "execution_count": null,
      "metadata": {
        "id": "bN0YTTdP_ePg"
      },
      "outputs": [],
      "source": []
    },
    {
      "cell_type": "code",
      "execution_count": 139,
      "metadata": {
        "id": "jqrhQxd3E55t"
      },
      "outputs": [],
      "source": [
        "trainer = trainer_cls(\n",
        "    model=model,\n",
        "    args=training_args,\n",
        "    train_dataset=train_dataset,\n",
        "    eval_dataset=valid_dataset,\n",
        "    tokenizer=tokenizer,\n",
        "    data_collator=data_collator,\n",
        ")"
      ]
    },
    {
      "cell_type": "code",
      "execution_count": null,
      "metadata": {
        "colab": {
          "base_uri": "https://localhost:8080/",
          "height": 712
        },
        "id": "9uz-o2_H3Bfm",
        "outputId": "a9924b69-62ef-4d6e-b343-1a57310bee57"
      },
      "outputs": [
        {
          "output_type": "stream",
          "name": "stderr",
          "text": [
            "/usr/local/lib/python3.10/dist-packages/transformers/optimization.py:411: FutureWarning: This implementation of AdamW is deprecated and will be removed in a future version. Use the PyTorch implementation torch.optim.AdamW instead, or set `no_deprecation_warning=True` to disable this warning\n",
            "  warnings.warn(\n",
            "You're using a T5TokenizerFast tokenizer. Please note that with a fast tokenizer, using the `__call__` method is faster than using a method to encode the text followed by a call to the `pad` method to get a padded encoding.\n"
          ]
        },
        {
          "output_type": "display_data",
          "data": {
            "text/plain": [
              "<IPython.core.display.HTML object>"
            ],
            "text/html": [
              "\n",
              "    <div>\n",
              "      \n",
              "      <progress value='11017' max='25044' style='width:300px; height:20px; vertical-align: middle;'></progress>\n",
              "      [11017/25044 3:59:39 < 15:29:57, 0.25 it/s, Epoch 1.58/4]\n",
              "    </div>\n",
              "    <table border=\"1\" class=\"dataframe\">\n",
              "  <thead>\n",
              " <tr style=\"text-align: left;\">\n",
              "      <th>Step</th>\n",
              "      <th>Training Loss</th>\n",
              "      <th>Validation Loss</th>\n",
              "    </tr>\n",
              "  </thead>\n",
              "  <tbody>\n",
              "    <tr>\n",
              "      <td>7600</td>\n",
              "      <td>0.027800</td>\n",
              "      <td>0.041857</td>\n",
              "    </tr>\n",
              "    <tr>\n",
              "      <td>7800</td>\n",
              "      <td>0.025100</td>\n",
              "      <td>0.040853</td>\n",
              "    </tr>\n",
              "    <tr>\n",
              "      <td>8000</td>\n",
              "      <td>0.024000</td>\n",
              "      <td>0.045982</td>\n",
              "    </tr>\n",
              "    <tr>\n",
              "      <td>8200</td>\n",
              "      <td>0.024900</td>\n",
              "      <td>0.041812</td>\n",
              "    </tr>\n",
              "    <tr>\n",
              "      <td>8400</td>\n",
              "      <td>0.020000</td>\n",
              "      <td>0.044564</td>\n",
              "    </tr>\n",
              "    <tr>\n",
              "      <td>8600</td>\n",
              "      <td>0.027900</td>\n",
              "      <td>0.045424</td>\n",
              "    </tr>\n",
              "    <tr>\n",
              "      <td>8800</td>\n",
              "      <td>0.028800</td>\n",
              "      <td>0.040555</td>\n",
              "    </tr>\n",
              "    <tr>\n",
              "      <td>9000</td>\n",
              "      <td>0.029800</td>\n",
              "      <td>0.042746</td>\n",
              "    </tr>\n",
              "    <tr>\n",
              "      <td>9200</td>\n",
              "      <td>0.024600</td>\n",
              "      <td>0.040463</td>\n",
              "    </tr>\n",
              "    <tr>\n",
              "      <td>9400</td>\n",
              "      <td>0.026900</td>\n",
              "      <td>0.040429</td>\n",
              "    </tr>\n",
              "    <tr>\n",
              "      <td>9600</td>\n",
              "      <td>0.027200</td>\n",
              "      <td>0.041169</td>\n",
              "    </tr>\n",
              "    <tr>\n",
              "      <td>9800</td>\n",
              "      <td>0.029800</td>\n",
              "      <td>0.042142</td>\n",
              "    </tr>\n",
              "    <tr>\n",
              "      <td>10000</td>\n",
              "      <td>0.030100</td>\n",
              "      <td>0.040390</td>\n",
              "    </tr>\n",
              "    <tr>\n",
              "      <td>10200</td>\n",
              "      <td>0.026200</td>\n",
              "      <td>0.043375</td>\n",
              "    </tr>\n",
              "    <tr>\n",
              "      <td>10400</td>\n",
              "      <td>0.025500</td>\n",
              "      <td>0.044201</td>\n",
              "    </tr>\n",
              "    <tr>\n",
              "      <td>10600</td>\n",
              "      <td>0.033800</td>\n",
              "      <td>0.040272</td>\n",
              "    </tr>\n",
              "    <tr>\n",
              "      <td>10800</td>\n",
              "      <td>0.034700</td>\n",
              "      <td>0.041421</td>\n",
              "    </tr>\n",
              "    <tr>\n",
              "      <td>11000</td>\n",
              "      <td>0.042100</td>\n",
              "      <td>0.039512</td>\n",
              "    </tr>\n",
              "  </tbody>\n",
              "</table><p>"
            ]
          },
          "metadata": {}
        }
      ],
      "source": [
        "train_metrics = trainer.train(resume_from_checkpoint=True)"
      ]
    },
    {
      "cell_type": "code",
      "execution_count": null,
      "metadata": {
        "id": "3jKfDvjb3BcU"
      },
      "outputs": [],
      "source": [
        "train_metrics"
      ]
    },
    {
      "cell_type": "code",
      "execution_count": null,
      "metadata": {
        "id": "OCkjjXJq-aM-"
      },
      "outputs": [],
      "source": []
    },
    {
      "cell_type": "code",
      "execution_count": null,
      "metadata": {
        "id": "8CTpjx8V-aGb"
      },
      "outputs": [],
      "source": []
    },
    {
      "cell_type": "code",
      "execution_count": null,
      "metadata": {
        "id": "HcjNusQs3BZP"
      },
      "outputs": [],
      "source": []
    },
    {
      "cell_type": "code",
      "execution_count": null,
      "metadata": {
        "id": "q1qE7f2L3BVn"
      },
      "outputs": [],
      "source": [
        "EXECUÇÕES ANTERIORES"
      ]
    },
    {
      "cell_type": "code",
      "execution_count": null,
      "metadata": {
        "id": "dAP47M6XSVW-"
      },
      "outputs": [],
      "source": [
        "%%time\n",
        "train_metrics = trainer.train(resume_from_checkpoint=True)"
      ]
    },
    {
      "cell_type": "code",
      "execution_count": null,
      "metadata": {
        "id": "YhejNQYISWKJ"
      },
      "outputs": [],
      "source": [
        "print(train_metrics )"
      ]
    },
    {
      "cell_type": "code",
      "execution_count": null,
      "metadata": {
        "id": "ZC0aZ7jrSWG3"
      },
      "outputs": [],
      "source": []
    },
    {
      "cell_type": "code",
      "execution_count": null,
      "metadata": {
        "id": "VMFVAAj7SWDH"
      },
      "outputs": [],
      "source": []
    }
  ],
  "metadata": {
    "accelerator": "GPU",
    "colab": {
      "machine_shape": "hm",
      "provenance": [],
      "gpuType": "T4",
      "include_colab_link": true
    },
    "kernelspec": {
      "display_name": "Python 3",
      "name": "python3"
    },
    "language_info": {
      "codemirror_mode": {
        "name": "ipython",
        "version": 3
      },
      "file_extension": ".py",
      "mimetype": "text/x-python",
      "name": "python",
      "nbconvert_exporter": "python",
      "pygments_lexer": "ipython3",
      "version": "3.9.16"
    },
    "vscode": {
      "interpreter": {
        "hash": "e431eb1d856c426fade2a694f8536bd46c4e9c4bd47cb4afd3fb4d2c61122b03"
      }
    },
    "widgets": {
      "application/vnd.jupyter.widget-state+json": {
        "67fe84903baa440b977a7007d1498fd4": {
          "model_module": "@jupyter-widgets/controls",
          "model_name": "HBoxModel",
          "model_module_version": "1.5.0",
          "state": {
            "_dom_classes": [],
            "_model_module": "@jupyter-widgets/controls",
            "_model_module_version": "1.5.0",
            "_model_name": "HBoxModel",
            "_view_count": null,
            "_view_module": "@jupyter-widgets/controls",
            "_view_module_version": "1.5.0",
            "_view_name": "HBoxView",
            "box_style": "",
            "children": [
              "IPY_MODEL_d63b82dd89dd4543821dba02eface80d",
              "IPY_MODEL_f1c8112b34d44ba88c2694dc822be77a",
              "IPY_MODEL_3597a93221a0430fa74220cf5421f178"
            ],
            "layout": "IPY_MODEL_d94cf723fc2d4ba8847342bd67c2e7b1"
          }
        },
        "d63b82dd89dd4543821dba02eface80d": {
          "model_module": "@jupyter-widgets/controls",
          "model_name": "HTMLModel",
          "model_module_version": "1.5.0",
          "state": {
            "_dom_classes": [],
            "_model_module": "@jupyter-widgets/controls",
            "_model_module_version": "1.5.0",
            "_model_name": "HTMLModel",
            "_view_count": null,
            "_view_module": "@jupyter-widgets/controls",
            "_view_module_version": "1.5.0",
            "_view_name": "HTMLView",
            "description": "",
            "description_tooltip": null,
            "layout": "IPY_MODEL_5cd6398a27c04a0e8d5f0b2dccf3054b",
            "placeholder": "​",
            "style": "IPY_MODEL_94794bb729fb4191b449ab88bf709eae",
            "value": "Tokenizing:  99%"
          }
        },
        "f1c8112b34d44ba88c2694dc822be77a": {
          "model_module": "@jupyter-widgets/controls",
          "model_name": "FloatProgressModel",
          "model_module_version": "1.5.0",
          "state": {
            "_dom_classes": [],
            "_model_module": "@jupyter-widgets/controls",
            "_model_module_version": "1.5.0",
            "_model_name": "FloatProgressModel",
            "_view_count": null,
            "_view_module": "@jupyter-widgets/controls",
            "_view_module_version": "1.5.0",
            "_view_name": "ProgressView",
            "bar_style": "",
            "description": "",
            "description_tooltip": null,
            "layout": "IPY_MODEL_fcc9c8b1b5fe47a6b8f1f09fe6ab1f83",
            "max": 2014,
            "min": 0,
            "orientation": "horizontal",
            "style": "IPY_MODEL_53969328df5c49e69b9c7a2d7a7ebcf1",
            "value": 2014
          }
        },
        "3597a93221a0430fa74220cf5421f178": {
          "model_module": "@jupyter-widgets/controls",
          "model_name": "HTMLModel",
          "model_module_version": "1.5.0",
          "state": {
            "_dom_classes": [],
            "_model_module": "@jupyter-widgets/controls",
            "_model_module_version": "1.5.0",
            "_model_name": "HTMLModel",
            "_view_count": null,
            "_view_module": "@jupyter-widgets/controls",
            "_view_module_version": "1.5.0",
            "_view_name": "HTMLView",
            "description": "",
            "description_tooltip": null,
            "layout": "IPY_MODEL_4bd04100c2554dcaa7cdc56eda2b2d08",
            "placeholder": "​",
            "style": "IPY_MODEL_3dd6cfbb872e4be68d9eb5d021ef5262",
            "value": " 2000/2014 [00:00&lt;00:00, 3476.53 examples/s]"
          }
        },
        "d94cf723fc2d4ba8847342bd67c2e7b1": {
          "model_module": "@jupyter-widgets/base",
          "model_name": "LayoutModel",
          "model_module_version": "1.2.0",
          "state": {
            "_model_module": "@jupyter-widgets/base",
            "_model_module_version": "1.2.0",
            "_model_name": "LayoutModel",
            "_view_count": null,
            "_view_module": "@jupyter-widgets/base",
            "_view_module_version": "1.2.0",
            "_view_name": "LayoutView",
            "align_content": null,
            "align_items": null,
            "align_self": null,
            "border": null,
            "bottom": null,
            "display": null,
            "flex": null,
            "flex_flow": null,
            "grid_area": null,
            "grid_auto_columns": null,
            "grid_auto_flow": null,
            "grid_auto_rows": null,
            "grid_column": null,
            "grid_gap": null,
            "grid_row": null,
            "grid_template_areas": null,
            "grid_template_columns": null,
            "grid_template_rows": null,
            "height": null,
            "justify_content": null,
            "justify_items": null,
            "left": null,
            "margin": null,
            "max_height": null,
            "max_width": null,
            "min_height": null,
            "min_width": null,
            "object_fit": null,
            "object_position": null,
            "order": null,
            "overflow": null,
            "overflow_x": null,
            "overflow_y": null,
            "padding": null,
            "right": null,
            "top": null,
            "visibility": "hidden",
            "width": null
          }
        },
        "5cd6398a27c04a0e8d5f0b2dccf3054b": {
          "model_module": "@jupyter-widgets/base",
          "model_name": "LayoutModel",
          "model_module_version": "1.2.0",
          "state": {
            "_model_module": "@jupyter-widgets/base",
            "_model_module_version": "1.2.0",
            "_model_name": "LayoutModel",
            "_view_count": null,
            "_view_module": "@jupyter-widgets/base",
            "_view_module_version": "1.2.0",
            "_view_name": "LayoutView",
            "align_content": null,
            "align_items": null,
            "align_self": null,
            "border": null,
            "bottom": null,
            "display": null,
            "flex": null,
            "flex_flow": null,
            "grid_area": null,
            "grid_auto_columns": null,
            "grid_auto_flow": null,
            "grid_auto_rows": null,
            "grid_column": null,
            "grid_gap": null,
            "grid_row": null,
            "grid_template_areas": null,
            "grid_template_columns": null,
            "grid_template_rows": null,
            "height": null,
            "justify_content": null,
            "justify_items": null,
            "left": null,
            "margin": null,
            "max_height": null,
            "max_width": null,
            "min_height": null,
            "min_width": null,
            "object_fit": null,
            "object_position": null,
            "order": null,
            "overflow": null,
            "overflow_x": null,
            "overflow_y": null,
            "padding": null,
            "right": null,
            "top": null,
            "visibility": null,
            "width": null
          }
        },
        "94794bb729fb4191b449ab88bf709eae": {
          "model_module": "@jupyter-widgets/controls",
          "model_name": "DescriptionStyleModel",
          "model_module_version": "1.5.0",
          "state": {
            "_model_module": "@jupyter-widgets/controls",
            "_model_module_version": "1.5.0",
            "_model_name": "DescriptionStyleModel",
            "_view_count": null,
            "_view_module": "@jupyter-widgets/base",
            "_view_module_version": "1.2.0",
            "_view_name": "StyleView",
            "description_width": ""
          }
        },
        "fcc9c8b1b5fe47a6b8f1f09fe6ab1f83": {
          "model_module": "@jupyter-widgets/base",
          "model_name": "LayoutModel",
          "model_module_version": "1.2.0",
          "state": {
            "_model_module": "@jupyter-widgets/base",
            "_model_module_version": "1.2.0",
            "_model_name": "LayoutModel",
            "_view_count": null,
            "_view_module": "@jupyter-widgets/base",
            "_view_module_version": "1.2.0",
            "_view_name": "LayoutView",
            "align_content": null,
            "align_items": null,
            "align_self": null,
            "border": null,
            "bottom": null,
            "display": null,
            "flex": null,
            "flex_flow": null,
            "grid_area": null,
            "grid_auto_columns": null,
            "grid_auto_flow": null,
            "grid_auto_rows": null,
            "grid_column": null,
            "grid_gap": null,
            "grid_row": null,
            "grid_template_areas": null,
            "grid_template_columns": null,
            "grid_template_rows": null,
            "height": null,
            "justify_content": null,
            "justify_items": null,
            "left": null,
            "margin": null,
            "max_height": null,
            "max_width": null,
            "min_height": null,
            "min_width": null,
            "object_fit": null,
            "object_position": null,
            "order": null,
            "overflow": null,
            "overflow_x": null,
            "overflow_y": null,
            "padding": null,
            "right": null,
            "top": null,
            "visibility": null,
            "width": null
          }
        },
        "53969328df5c49e69b9c7a2d7a7ebcf1": {
          "model_module": "@jupyter-widgets/controls",
          "model_name": "ProgressStyleModel",
          "model_module_version": "1.5.0",
          "state": {
            "_model_module": "@jupyter-widgets/controls",
            "_model_module_version": "1.5.0",
            "_model_name": "ProgressStyleModel",
            "_view_count": null,
            "_view_module": "@jupyter-widgets/base",
            "_view_module_version": "1.2.0",
            "_view_name": "StyleView",
            "bar_color": null,
            "description_width": ""
          }
        },
        "4bd04100c2554dcaa7cdc56eda2b2d08": {
          "model_module": "@jupyter-widgets/base",
          "model_name": "LayoutModel",
          "model_module_version": "1.2.0",
          "state": {
            "_model_module": "@jupyter-widgets/base",
            "_model_module_version": "1.2.0",
            "_model_name": "LayoutModel",
            "_view_count": null,
            "_view_module": "@jupyter-widgets/base",
            "_view_module_version": "1.2.0",
            "_view_name": "LayoutView",
            "align_content": null,
            "align_items": null,
            "align_self": null,
            "border": null,
            "bottom": null,
            "display": null,
            "flex": null,
            "flex_flow": null,
            "grid_area": null,
            "grid_auto_columns": null,
            "grid_auto_flow": null,
            "grid_auto_rows": null,
            "grid_column": null,
            "grid_gap": null,
            "grid_row": null,
            "grid_template_areas": null,
            "grid_template_columns": null,
            "grid_template_rows": null,
            "height": null,
            "justify_content": null,
            "justify_items": null,
            "left": null,
            "margin": null,
            "max_height": null,
            "max_width": null,
            "min_height": null,
            "min_width": null,
            "object_fit": null,
            "object_position": null,
            "order": null,
            "overflow": null,
            "overflow_x": null,
            "overflow_y": null,
            "padding": null,
            "right": null,
            "top": null,
            "visibility": null,
            "width": null
          }
        },
        "3dd6cfbb872e4be68d9eb5d021ef5262": {
          "model_module": "@jupyter-widgets/controls",
          "model_name": "DescriptionStyleModel",
          "model_module_version": "1.5.0",
          "state": {
            "_model_module": "@jupyter-widgets/controls",
            "_model_module_version": "1.5.0",
            "_model_name": "DescriptionStyleModel",
            "_view_count": null,
            "_view_module": "@jupyter-widgets/base",
            "_view_module_version": "1.2.0",
            "_view_name": "StyleView",
            "description_width": ""
          }
        },
        "d21f7b6c31414e1a875e2f8b9e861b23": {
          "model_module": "@jupyter-widgets/controls",
          "model_name": "HBoxModel",
          "model_module_version": "1.5.0",
          "state": {
            "_dom_classes": [],
            "_model_module": "@jupyter-widgets/controls",
            "_model_module_version": "1.5.0",
            "_model_name": "HBoxModel",
            "_view_count": null,
            "_view_module": "@jupyter-widgets/controls",
            "_view_module_version": "1.5.0",
            "_view_name": "HBoxView",
            "box_style": "",
            "children": [
              "IPY_MODEL_96292a013dd14d97bfcbc5ce64b779e3",
              "IPY_MODEL_2bc7ef649896451f9fa5363eb175b209",
              "IPY_MODEL_82dcb22a03504460b102cadb0eebd702"
            ],
            "layout": "IPY_MODEL_e691a1d75b4b4f73851aa5e75a8d67c4"
          }
        },
        "96292a013dd14d97bfcbc5ce64b779e3": {
          "model_module": "@jupyter-widgets/controls",
          "model_name": "HTMLModel",
          "model_module_version": "1.5.0",
          "state": {
            "_dom_classes": [],
            "_model_module": "@jupyter-widgets/controls",
            "_model_module_version": "1.5.0",
            "_model_name": "HTMLModel",
            "_view_count": null,
            "_view_module": "@jupyter-widgets/controls",
            "_view_module_version": "1.5.0",
            "_view_name": "HTMLView",
            "description": "",
            "description_tooltip": null,
            "layout": "IPY_MODEL_ed5c0cc521e14427b785da4e3579957b",
            "placeholder": "​",
            "style": "IPY_MODEL_4ac83a0c77e14e64b85f20b12a99e3b6",
            "value": "Tokenizing: 100%"
          }
        },
        "2bc7ef649896451f9fa5363eb175b209": {
          "model_module": "@jupyter-widgets/controls",
          "model_name": "FloatProgressModel",
          "model_module_version": "1.5.0",
          "state": {
            "_dom_classes": [],
            "_model_module": "@jupyter-widgets/controls",
            "_model_module_version": "1.5.0",
            "_model_name": "FloatProgressModel",
            "_view_count": null,
            "_view_module": "@jupyter-widgets/controls",
            "_view_module_version": "1.5.0",
            "_view_name": "ProgressView",
            "bar_style": "",
            "description": "",
            "description_tooltip": null,
            "layout": "IPY_MODEL_551761ff205744878a9287d219edb326",
            "max": 400724,
            "min": 0,
            "orientation": "horizontal",
            "style": "IPY_MODEL_373488bda301478eb9b14b72b3f4e203",
            "value": 400724
          }
        },
        "82dcb22a03504460b102cadb0eebd702": {
          "model_module": "@jupyter-widgets/controls",
          "model_name": "HTMLModel",
          "model_module_version": "1.5.0",
          "state": {
            "_dom_classes": [],
            "_model_module": "@jupyter-widgets/controls",
            "_model_module_version": "1.5.0",
            "_model_name": "HTMLModel",
            "_view_count": null,
            "_view_module": "@jupyter-widgets/controls",
            "_view_module_version": "1.5.0",
            "_view_name": "HTMLView",
            "description": "",
            "description_tooltip": null,
            "layout": "IPY_MODEL_df4e1637133d42658d012332c319556c",
            "placeholder": "​",
            "style": "IPY_MODEL_e0868a54ef6d4ef2bac82477146c179b",
            "value": " 400724/400724 [01:54&lt;00:00, 3560.63 examples/s]"
          }
        },
        "e691a1d75b4b4f73851aa5e75a8d67c4": {
          "model_module": "@jupyter-widgets/base",
          "model_name": "LayoutModel",
          "model_module_version": "1.2.0",
          "state": {
            "_model_module": "@jupyter-widgets/base",
            "_model_module_version": "1.2.0",
            "_model_name": "LayoutModel",
            "_view_count": null,
            "_view_module": "@jupyter-widgets/base",
            "_view_module_version": "1.2.0",
            "_view_name": "LayoutView",
            "align_content": null,
            "align_items": null,
            "align_self": null,
            "border": null,
            "bottom": null,
            "display": null,
            "flex": null,
            "flex_flow": null,
            "grid_area": null,
            "grid_auto_columns": null,
            "grid_auto_flow": null,
            "grid_auto_rows": null,
            "grid_column": null,
            "grid_gap": null,
            "grid_row": null,
            "grid_template_areas": null,
            "grid_template_columns": null,
            "grid_template_rows": null,
            "height": null,
            "justify_content": null,
            "justify_items": null,
            "left": null,
            "margin": null,
            "max_height": null,
            "max_width": null,
            "min_height": null,
            "min_width": null,
            "object_fit": null,
            "object_position": null,
            "order": null,
            "overflow": null,
            "overflow_x": null,
            "overflow_y": null,
            "padding": null,
            "right": null,
            "top": null,
            "visibility": "hidden",
            "width": null
          }
        },
        "ed5c0cc521e14427b785da4e3579957b": {
          "model_module": "@jupyter-widgets/base",
          "model_name": "LayoutModel",
          "model_module_version": "1.2.0",
          "state": {
            "_model_module": "@jupyter-widgets/base",
            "_model_module_version": "1.2.0",
            "_model_name": "LayoutModel",
            "_view_count": null,
            "_view_module": "@jupyter-widgets/base",
            "_view_module_version": "1.2.0",
            "_view_name": "LayoutView",
            "align_content": null,
            "align_items": null,
            "align_self": null,
            "border": null,
            "bottom": null,
            "display": null,
            "flex": null,
            "flex_flow": null,
            "grid_area": null,
            "grid_auto_columns": null,
            "grid_auto_flow": null,
            "grid_auto_rows": null,
            "grid_column": null,
            "grid_gap": null,
            "grid_row": null,
            "grid_template_areas": null,
            "grid_template_columns": null,
            "grid_template_rows": null,
            "height": null,
            "justify_content": null,
            "justify_items": null,
            "left": null,
            "margin": null,
            "max_height": null,
            "max_width": null,
            "min_height": null,
            "min_width": null,
            "object_fit": null,
            "object_position": null,
            "order": null,
            "overflow": null,
            "overflow_x": null,
            "overflow_y": null,
            "padding": null,
            "right": null,
            "top": null,
            "visibility": null,
            "width": null
          }
        },
        "4ac83a0c77e14e64b85f20b12a99e3b6": {
          "model_module": "@jupyter-widgets/controls",
          "model_name": "DescriptionStyleModel",
          "model_module_version": "1.5.0",
          "state": {
            "_model_module": "@jupyter-widgets/controls",
            "_model_module_version": "1.5.0",
            "_model_name": "DescriptionStyleModel",
            "_view_count": null,
            "_view_module": "@jupyter-widgets/base",
            "_view_module_version": "1.2.0",
            "_view_name": "StyleView",
            "description_width": ""
          }
        },
        "551761ff205744878a9287d219edb326": {
          "model_module": "@jupyter-widgets/base",
          "model_name": "LayoutModel",
          "model_module_version": "1.2.0",
          "state": {
            "_model_module": "@jupyter-widgets/base",
            "_model_module_version": "1.2.0",
            "_model_name": "LayoutModel",
            "_view_count": null,
            "_view_module": "@jupyter-widgets/base",
            "_view_module_version": "1.2.0",
            "_view_name": "LayoutView",
            "align_content": null,
            "align_items": null,
            "align_self": null,
            "border": null,
            "bottom": null,
            "display": null,
            "flex": null,
            "flex_flow": null,
            "grid_area": null,
            "grid_auto_columns": null,
            "grid_auto_flow": null,
            "grid_auto_rows": null,
            "grid_column": null,
            "grid_gap": null,
            "grid_row": null,
            "grid_template_areas": null,
            "grid_template_columns": null,
            "grid_template_rows": null,
            "height": null,
            "justify_content": null,
            "justify_items": null,
            "left": null,
            "margin": null,
            "max_height": null,
            "max_width": null,
            "min_height": null,
            "min_width": null,
            "object_fit": null,
            "object_position": null,
            "order": null,
            "overflow": null,
            "overflow_x": null,
            "overflow_y": null,
            "padding": null,
            "right": null,
            "top": null,
            "visibility": null,
            "width": null
          }
        },
        "373488bda301478eb9b14b72b3f4e203": {
          "model_module": "@jupyter-widgets/controls",
          "model_name": "ProgressStyleModel",
          "model_module_version": "1.5.0",
          "state": {
            "_model_module": "@jupyter-widgets/controls",
            "_model_module_version": "1.5.0",
            "_model_name": "ProgressStyleModel",
            "_view_count": null,
            "_view_module": "@jupyter-widgets/base",
            "_view_module_version": "1.2.0",
            "_view_name": "StyleView",
            "bar_color": null,
            "description_width": ""
          }
        },
        "df4e1637133d42658d012332c319556c": {
          "model_module": "@jupyter-widgets/base",
          "model_name": "LayoutModel",
          "model_module_version": "1.2.0",
          "state": {
            "_model_module": "@jupyter-widgets/base",
            "_model_module_version": "1.2.0",
            "_model_name": "LayoutModel",
            "_view_count": null,
            "_view_module": "@jupyter-widgets/base",
            "_view_module_version": "1.2.0",
            "_view_name": "LayoutView",
            "align_content": null,
            "align_items": null,
            "align_self": null,
            "border": null,
            "bottom": null,
            "display": null,
            "flex": null,
            "flex_flow": null,
            "grid_area": null,
            "grid_auto_columns": null,
            "grid_auto_flow": null,
            "grid_auto_rows": null,
            "grid_column": null,
            "grid_gap": null,
            "grid_row": null,
            "grid_template_areas": null,
            "grid_template_columns": null,
            "grid_template_rows": null,
            "height": null,
            "justify_content": null,
            "justify_items": null,
            "left": null,
            "margin": null,
            "max_height": null,
            "max_width": null,
            "min_height": null,
            "min_width": null,
            "object_fit": null,
            "object_position": null,
            "order": null,
            "overflow": null,
            "overflow_x": null,
            "overflow_y": null,
            "padding": null,
            "right": null,
            "top": null,
            "visibility": null,
            "width": null
          }
        },
        "e0868a54ef6d4ef2bac82477146c179b": {
          "model_module": "@jupyter-widgets/controls",
          "model_name": "DescriptionStyleModel",
          "model_module_version": "1.5.0",
          "state": {
            "_model_module": "@jupyter-widgets/controls",
            "_model_module_version": "1.5.0",
            "_model_name": "DescriptionStyleModel",
            "_view_count": null,
            "_view_module": "@jupyter-widgets/base",
            "_view_module_version": "1.2.0",
            "_view_name": "StyleView",
            "description_width": ""
          }
        }
      }
    }
  },
  "nbformat": 4,
  "nbformat_minor": 0
}