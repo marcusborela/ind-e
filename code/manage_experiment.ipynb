{
 "cells": [
  {
   "cell_type": "code",
   "execution_count": 1,
   "id": "5720cb62",
   "metadata": {},
   "outputs": [],
   "source": [
    "import pandas as pd"
   ]
  },
  {
   "cell_type": "code",
   "execution_count": 2,
   "id": "568b56f3",
   "metadata": {},
   "outputs": [],
   "source": [
    "import matplotlib.pyplot as plt"
   ]
  },
  {
   "cell_type": "code",
   "execution_count": 3,
   "id": "d1782541",
   "metadata": {},
   "outputs": [],
   "source": [
    "import seaborn as sns\n"
   ]
  },
  {
   "cell_type": "code",
   "execution_count": 4,
   "id": "b42aeb76",
   "metadata": {},
   "outputs": [],
   "source": [
    "#from util import util_experiment_juris_tcu_index as util_experiment \n",
    "from util import util_experiment_juris_tcu as util_experiment "
   ]
  },
  {
   "cell_type": "code",
   "execution_count": 5,
   "id": "12410db0",
   "metadata": {},
   "outputs": [
    {
     "name": "stderr",
     "output_type": "stream",
     "text": [
      "OpenAI tiktoken module is not available for Python < 3.8,Linux ARM64 and AARCH64. Falling back to GPT2TokenizerFast.\n",
      "WARNING:haystack.nodes.answer_generator.openai:OpenAI tiktoken module is not available for Python < 3.8,Linux ARM64 and AARCH64. Falling back to GPT2TokenizerFast.\n"
     ]
    }
   ],
   "source": [
    "from util import util_pipeline"
   ]
  },
  {
   "cell_type": "code",
   "execution_count": 4,
   "id": "b42aeb76",
   "metadata": {},
   "outputs": [],
   "source": [
    "import importlib"
   ]
  },
  {
   "cell_type": "code",
   "execution_count": 6,
   "id": "9b5a4c3c",
   "metadata": {},
   "outputs": [],
   "source": [
    "# DATASET = 'juris_tcu_index'\n",
    "DATASET = 'juris_tcu'"
   ]
  },
  {
   "cell_type": "code",
   "execution_count": 6,
   "id": "75791e3e",
   "metadata": {},
   "outputs": [
    {
     "data": {
      "text/plain": [
       "<module 'util.util_experiment_juris_tcu_index' from '/home/borela/fontes/ind-ir/code/util/util_experiment_juris_tcu_index.py'>"
      ]
     },
     "execution_count": 6,
     "metadata": {},
     "output_type": "execute_result"
    }
   ],
   "source": [
    "importlib.reload(util_experiment)"
   ]
  },
  {
   "cell_type": "code",
   "execution_count": 7,
   "id": "3ea45c38",
   "metadata": {},
   "outputs": [],
   "source": [
    "path_search_experiment =  f'../data/search/{DATASET}/search_experiment_{DATASET}.csv'\n",
    "path_search_result =  f'../data/search/{DATASET}/search_experiment_result_{DATASET}.csv'"
   ]
  },
  {
   "attachments": {},
   "cell_type": "markdown",
   "id": "6bd12138",
   "metadata": {},
   "source": [
    "# Del experiments"
   ]
  },
  {
   "cell_type": "code",
   "execution_count": 10,
   "id": "f42bab3f",
   "metadata": {},
   "outputs": [
    {
     "name": "stdout",
     "output_type": "stream",
     "text": [
      "Excluindo INDEX_NAME = indir_juris_tcu_term\n",
      "Records to be deleted in df_experiment: 135\n",
      "Records to be deleted in df_experiment_result: 20250\n",
      "Records successfully deleted.\n",
      "Excluindo INDEX_NAME = indir_juris_tcu_synonym\n",
      "Records to be deleted in df_experiment: 135\n",
      "Records to be deleted in df_experiment_result: 20250\n",
      "Records successfully deleted.\n",
      "Excluindo INDEX_NAME = indir_juris_tcu_related_term\n",
      "Records to be deleted in df_experiment: 135\n",
      "Records to be deleted in df_experiment_result: 20250\n",
      "Records successfully deleted.\n",
      "Excluindo INDEX_NAME = indir_juris_tcu_synonym_related_term\n",
      "Records to be deleted in df_experiment: 135\n",
      "Records to be deleted in df_experiment_result: 20250\n",
      "Records successfully deleted.\n"
     ]
    }
   ],
   "source": [
    "for index_name in ['indir_juris_tcu_term', 'indir_juris_tcu_synonym', 'indir_juris_tcu_related_term', 'indir_juris_tcu_synonym_related_term']:\n",
    "    util_experiment.del_experiment_value_column(column_name='INDEX_NAME',column_value=index_name, parm_dataset=DATASET)"
   ]
  },
  {
   "cell_type": "code",
   "execution_count": 12,
   "id": "f42bab3f",
   "metadata": {},
   "outputs": [
    {
     "name": "stdout",
     "output_type": "stream",
     "text": [
      "Excluindo EXPANSOR_CRITERIA = join_30_ptt5_indir_83\n",
      "Records to be deleted in df_experiment: 20\n",
      "Records to be deleted in df_experiment_result: 3000\n",
      "Records successfully deleted.\n"
     ]
    }
   ],
   "source": [
    "util_experiment.del_experiment_value_column(column_name='EXPANSOR_CRITERIA',column_value='join_30_ptt5_indir_83', parm_dataset=DATASET)"
   ]
  },
  {
   "cell_type": "code",
   "execution_count": null,
   "id": "84f2bf80",
   "metadata": {},
   "outputs": [
    {
     "name": "stdout",
     "output_type": "stream",
     "text": [
      "Records to be deleted in df_experiment: 1\n",
      "Records to be deleted in df_experiment_result: 100\n",
      "Records successfully deleted.\n"
     ]
    }
   ],
   "source": [
    "# util_experiment.del_experiment_result(time_key='2023-Jun-16 19:49:19', parm_dataset='juris_tcu_index')"
   ]
  },
  {
   "cell_type": "code",
   "execution_count": 4,
   "id": "5fcb568d",
   "metadata": {},
   "outputs": [],
   "source": [
    "# for value in valores_time_com_query_id_invalido:\n",
    "#    util_experiment.del_experiment_value_column(column_name='TIME',column_value=value, parm_dataset='juris_tcu_index',parm_confirm=False)\n",
    "    "
   ]
  },
  {
   "attachments": {},
   "cell_type": "markdown",
   "id": "6b8398c8",
   "metadata": {},
   "source": [
    "reorder columns of experiments"
   ]
  },
  {
   "cell_type": "code",
   "execution_count": 8,
   "id": "ba202025",
   "metadata": {},
   "outputs": [],
   "source": [
    "\n",
    "# Leitura do arquivo CSV existente\n",
    "df_experiment = pd.read_csv(path_search_experiment)\n"
   ]
  },
  {
   "cell_type": "code",
   "execution_count": 69,
   "id": "502efb9b",
   "metadata": {},
   "outputs": [],
   "source": [
    "df_experiment_result = pd.read_csv(path_search_result)"
   ]
  },
  {
   "cell_type": "code",
   "execution_count": 70,
   "id": "7e5b188e",
   "metadata": {},
   "outputs": [
    {
     "data": {
      "text/plain": [
       "(217, 14)"
      ]
     },
     "execution_count": 70,
     "metadata": {},
     "output_type": "execute_result"
    }
   ],
   "source": [
    "df_experiment.shape"
   ]
  },
  {
   "cell_type": "code",
   "execution_count": 71,
   "id": "aa9f1eb1",
   "metadata": {},
   "outputs": [
    {
     "data": {
      "text/html": [
       "<div>\n",
       "<style scoped>\n",
       "    .dataframe tbody tr th:only-of-type {\n",
       "        vertical-align: middle;\n",
       "    }\n",
       "\n",
       "    .dataframe tbody tr th {\n",
       "        vertical-align: top;\n",
       "    }\n",
       "\n",
       "    .dataframe thead th {\n",
       "        text-align: right;\n",
       "    }\n",
       "</style>\n",
       "<table border=\"1\" class=\"dataframe\">\n",
       "  <thead>\n",
       "    <tr style=\"text-align: right;\">\n",
       "      <th></th>\n",
       "      <th>TIME</th>\n",
       "      <th>COUNT_QUERY_RUN</th>\n",
       "      <th>COUNT_QUERY_WITHOUT_RESULT</th>\n",
       "      <th>COUNT_QUERY_NOT_FOUND</th>\n",
       "      <th>TOPK_RETRIEVER</th>\n",
       "      <th>TOPK_RANKER</th>\n",
       "      <th>RANK1_MEAN</th>\n",
       "      <th>NDCG_LIMIT</th>\n",
       "      <th>NDCG_MEAN</th>\n",
       "      <th>TIME_SPENT_MEAN</th>\n",
       "      <th>CRITERIA</th>\n",
       "      <th>RETRIEVER_TYPE</th>\n",
       "      <th>RETRIEVER_MODEL_NAME</th>\n",
       "      <th>RANKER_MODEL_NAME</th>\n",
       "    </tr>\n",
       "  </thead>\n",
       "  <tbody>\n",
       "    <tr>\n",
       "      <th>0</th>\n",
       "      <td>2023-Jun-24 00:05:01</td>\n",
       "      <td>100</td>\n",
       "      <td>0.0</td>\n",
       "      <td>0.0</td>\n",
       "      <td>300</td>\n",
       "      <td>0.0</td>\n",
       "      <td>3.75</td>\n",
       "      <td>12</td>\n",
       "      <td>62.094</td>\n",
       "      <td>0.693</td>\n",
       "      <td>area</td>\n",
       "      <td>bm25</td>\n",
       "      <td>NaN</td>\n",
       "      <td>unicamp-dl/mt5-3B-mmarco-en-pt</td>\n",
       "    </tr>\n",
       "    <tr>\n",
       "      <th>1</th>\n",
       "      <td>2023-Jun-24 00:06:13</td>\n",
       "      <td>100</td>\n",
       "      <td>0.0</td>\n",
       "      <td>0.0</td>\n",
       "      <td>300</td>\n",
       "      <td>0.0</td>\n",
       "      <td>3.75</td>\n",
       "      <td>12</td>\n",
       "      <td>62.094</td>\n",
       "      <td>0.719</td>\n",
       "      <td>area</td>\n",
       "      <td>sts</td>\n",
       "      <td>rufimelo/Legal-BERTimbau-sts-large-ma-v3</td>\n",
       "      <td>unicamp-dl/mt5-3B-mmarco-en-pt</td>\n",
       "    </tr>\n",
       "    <tr>\n",
       "      <th>2</th>\n",
       "      <td>2023-Jun-24 00:06:16</td>\n",
       "      <td>100</td>\n",
       "      <td>0.0</td>\n",
       "      <td>0.0</td>\n",
       "      <td>300</td>\n",
       "      <td>0.0</td>\n",
       "      <td>3.62</td>\n",
       "      <td>12</td>\n",
       "      <td>61.063</td>\n",
       "      <td>0.024</td>\n",
       "      <td>area</td>\n",
       "      <td>sts</td>\n",
       "      <td>rufimelo/Legal-BERTimbau-sts-large-ma-v3</td>\n",
       "      <td>NaN</td>\n",
       "    </tr>\n",
       "    <tr>\n",
       "      <th>3</th>\n",
       "      <td>2023-Jun-24 00:06:18</td>\n",
       "      <td>100</td>\n",
       "      <td>0.0</td>\n",
       "      <td>0.0</td>\n",
       "      <td>300</td>\n",
       "      <td>0.0</td>\n",
       "      <td>5.48</td>\n",
       "      <td>12</td>\n",
       "      <td>50.063</td>\n",
       "      <td>0.013</td>\n",
       "      <td>area</td>\n",
       "      <td>bm25</td>\n",
       "      <td>NaN</td>\n",
       "      <td>NaN</td>\n",
       "    </tr>\n",
       "    <tr>\n",
       "      <th>4</th>\n",
       "      <td>2023-Jun-24 00:06:21</td>\n",
       "      <td>100</td>\n",
       "      <td>0.0</td>\n",
       "      <td>0.0</td>\n",
       "      <td>300</td>\n",
       "      <td>0.0</td>\n",
       "      <td>3.62</td>\n",
       "      <td>12</td>\n",
       "      <td>61.063</td>\n",
       "      <td>0.033</td>\n",
       "      <td>area</td>\n",
       "      <td>join_sts_bm25</td>\n",
       "      <td>rufimelo/Legal-BERTimbau-sts-large-ma-v3</td>\n",
       "      <td>NaN</td>\n",
       "    </tr>\n",
       "  </tbody>\n",
       "</table>\n",
       "</div>"
      ],
      "text/plain": [
       "                   TIME  COUNT_QUERY_RUN  COUNT_QUERY_WITHOUT_RESULT  \\\n",
       "0  2023-Jun-24 00:05:01              100                         0.0   \n",
       "1  2023-Jun-24 00:06:13              100                         0.0   \n",
       "2  2023-Jun-24 00:06:16              100                         0.0   \n",
       "3  2023-Jun-24 00:06:18              100                         0.0   \n",
       "4  2023-Jun-24 00:06:21              100                         0.0   \n",
       "\n",
       "   COUNT_QUERY_NOT_FOUND  TOPK_RETRIEVER  TOPK_RANKER  RANK1_MEAN  NDCG_LIMIT  \\\n",
       "0                    0.0             300          0.0        3.75          12   \n",
       "1                    0.0             300          0.0        3.75          12   \n",
       "2                    0.0             300          0.0        3.62          12   \n",
       "3                    0.0             300          0.0        5.48          12   \n",
       "4                    0.0             300          0.0        3.62          12   \n",
       "\n",
       "   NDCG_MEAN  TIME_SPENT_MEAN CRITERIA RETRIEVER_TYPE  \\\n",
       "0     62.094            0.693     area           bm25   \n",
       "1     62.094            0.719     area            sts   \n",
       "2     61.063            0.024     area            sts   \n",
       "3     50.063            0.013     area           bm25   \n",
       "4     61.063            0.033     area  join_sts_bm25   \n",
       "\n",
       "                       RETRIEVER_MODEL_NAME               RANKER_MODEL_NAME  \n",
       "0                                       NaN  unicamp-dl/mt5-3B-mmarco-en-pt  \n",
       "1  rufimelo/Legal-BERTimbau-sts-large-ma-v3  unicamp-dl/mt5-3B-mmarco-en-pt  \n",
       "2  rufimelo/Legal-BERTimbau-sts-large-ma-v3                             NaN  \n",
       "3                                       NaN                             NaN  \n",
       "4  rufimelo/Legal-BERTimbau-sts-large-ma-v3                             NaN  "
      ]
     },
     "execution_count": 71,
     "metadata": {},
     "output_type": "execute_result"
    }
   ],
   "source": [
    "df_experiment.head()"
   ]
  },
  {
   "cell_type": "code",
   "execution_count": 15,
   "id": "5df7e1d4",
   "metadata": {},
   "outputs": [
    {
     "data": {
      "text/html": [
       "<div>\n",
       "<style scoped>\n",
       "    .dataframe tbody tr th:only-of-type {\n",
       "        vertical-align: middle;\n",
       "    }\n",
       "\n",
       "    .dataframe tbody tr th {\n",
       "        vertical-align: top;\n",
       "    }\n",
       "\n",
       "    .dataframe thead th {\n",
       "        text-align: right;\n",
       "    }\n",
       "</style>\n",
       "<table border=\"1\" class=\"dataframe\">\n",
       "  <thead>\n",
       "    <tr style=\"text-align: right;\">\n",
       "      <th></th>\n",
       "      <th>TIME</th>\n",
       "      <th>QUERY_ID</th>\n",
       "      <th>TIME_SPENT</th>\n",
       "      <th>NDCG</th>\n",
       "      <th>COUNT_DOCTO_FOUND</th>\n",
       "      <th>COUNT_DOCTO_RELEVANT</th>\n",
       "      <th>GROUND_TRUTH</th>\n",
       "      <th>RANK1</th>\n",
       "      <th>LIST_RANK</th>\n",
       "      <th>LIST_DOCTO_RETURNED</th>\n",
       "    </tr>\n",
       "  </thead>\n",
       "  <tbody>\n",
       "    <tr>\n",
       "      <th>0</th>\n",
       "      <td>2023-Jun-26 20:44:08</td>\n",
       "      <td>1</td>\n",
       "      <td>0.1427</td>\n",
       "      <td>43.07</td>\n",
       "      <td>300</td>\n",
       "      <td>15</td>\n",
       "      <td>{21064: 3, 42166: 3, 13702: 3, 20592: 3, 15740...</td>\n",
       "      <td>2</td>\n",
       "      <td>[35, 21, 15, 5, 3, 2, 16, 57, 22, 12, 52, 250,...</td>\n",
       "      <td>[20870, 53641, 15740, 20971, 20592, 21229, 183...</td>\n",
       "    </tr>\n",
       "    <tr>\n",
       "      <th>1</th>\n",
       "      <td>2023-Jun-26 20:44:08</td>\n",
       "      <td>2</td>\n",
       "      <td>0.1241</td>\n",
       "      <td>62.58</td>\n",
       "      <td>300</td>\n",
       "      <td>15</td>\n",
       "      <td>{31437: 3, 19340: 3, 77959: 3, 17289: 2, 18452...</td>\n",
       "      <td>2</td>\n",
       "      <td>[9, 8, 2, 3, 6, 183, 283, 191, 226]</td>\n",
       "      <td>[32869, 77959, 17289, 19084, 18432, 18452, 564...</td>\n",
       "    </tr>\n",
       "    <tr>\n",
       "      <th>2</th>\n",
       "      <td>2023-Jun-26 20:44:08</td>\n",
       "      <td>3</td>\n",
       "      <td>0.1284</td>\n",
       "      <td>24.41</td>\n",
       "      <td>300</td>\n",
       "      <td>15</td>\n",
       "      <td>{18380: 3, 31102: 3, 17240: 3, 20511: 3, 32589...</td>\n",
       "      <td>6</td>\n",
       "      <td>[22, 6, 19, 25, 10, 11, 38, 7, 27, 55, 267]</td>\n",
       "      <td>[17218, 42262, 31118, 18955, 17219, 31102, 172...</td>\n",
       "    </tr>\n",
       "    <tr>\n",
       "      <th>3</th>\n",
       "      <td>2023-Jun-26 20:44:08</td>\n",
       "      <td>4</td>\n",
       "      <td>0.1220</td>\n",
       "      <td>36.36</td>\n",
       "      <td>300</td>\n",
       "      <td>15</td>\n",
       "      <td>{16895: 3, 45015: 3, 14526: 3, 62306: 3, 6237:...</td>\n",
       "      <td>4</td>\n",
       "      <td>[5, 6, 18, 19, 15, 25, 12, 50, 20, 4, 97, 268]</td>\n",
       "      <td>[17195, 20860, 20841, 84935, 16895, 45015, 423...</td>\n",
       "    </tr>\n",
       "    <tr>\n",
       "      <th>4</th>\n",
       "      <td>2023-Jun-26 20:44:08</td>\n",
       "      <td>5</td>\n",
       "      <td>0.1254</td>\n",
       "      <td>26.67</td>\n",
       "      <td>300</td>\n",
       "      <td>15</td>\n",
       "      <td>{21172: 3, 17816: 3, 4066: 3, 53003: 3, 94290:...</td>\n",
       "      <td>3</td>\n",
       "      <td>[3, 7, 16, 4, 94, 95, 96, 97, 105, 19, 90, 295]</td>\n",
       "      <td>[16932, 32590, 21172, 53003, 16262, 21793, 178...</td>\n",
       "    </tr>\n",
       "  </tbody>\n",
       "</table>\n",
       "</div>"
      ],
      "text/plain": [
       "                   TIME  QUERY_ID  TIME_SPENT   NDCG  COUNT_DOCTO_FOUND  \\\n",
       "0  2023-Jun-26 20:44:08         1      0.1427  43.07                300   \n",
       "1  2023-Jun-26 20:44:08         2      0.1241  62.58                300   \n",
       "2  2023-Jun-26 20:44:08         3      0.1284  24.41                300   \n",
       "3  2023-Jun-26 20:44:08         4      0.1220  36.36                300   \n",
       "4  2023-Jun-26 20:44:08         5      0.1254  26.67                300   \n",
       "\n",
       "   COUNT_DOCTO_RELEVANT                                       GROUND_TRUTH  \\\n",
       "0                    15  {21064: 3, 42166: 3, 13702: 3, 20592: 3, 15740...   \n",
       "1                    15  {31437: 3, 19340: 3, 77959: 3, 17289: 2, 18452...   \n",
       "2                    15  {18380: 3, 31102: 3, 17240: 3, 20511: 3, 32589...   \n",
       "3                    15  {16895: 3, 45015: 3, 14526: 3, 62306: 3, 6237:...   \n",
       "4                    15  {21172: 3, 17816: 3, 4066: 3, 53003: 3, 94290:...   \n",
       "\n",
       "   RANK1                                          LIST_RANK  \\\n",
       "0      2  [35, 21, 15, 5, 3, 2, 16, 57, 22, 12, 52, 250,...   \n",
       "1      2                [9, 8, 2, 3, 6, 183, 283, 191, 226]   \n",
       "2      6        [22, 6, 19, 25, 10, 11, 38, 7, 27, 55, 267]   \n",
       "3      4     [5, 6, 18, 19, 15, 25, 12, 50, 20, 4, 97, 268]   \n",
       "4      3    [3, 7, 16, 4, 94, 95, 96, 97, 105, 19, 90, 295]   \n",
       "\n",
       "                                 LIST_DOCTO_RETURNED  \n",
       "0  [20870, 53641, 15740, 20971, 20592, 21229, 183...  \n",
       "1  [32869, 77959, 17289, 19084, 18432, 18452, 564...  \n",
       "2  [17218, 42262, 31118, 18955, 17219, 31102, 172...  \n",
       "3  [17195, 20860, 20841, 84935, 16895, 45015, 423...  \n",
       "4  [16932, 32590, 21172, 53003, 16262, 21793, 178...  "
      ]
     },
     "execution_count": 15,
     "metadata": {},
     "output_type": "execute_result"
    }
   ],
   "source": [
    "df_experiment_result.head()"
   ]
  },
  {
   "cell_type": "code",
   "execution_count": 23,
   "id": "106f82e7",
   "metadata": {},
   "outputs": [
    {
     "data": {
      "text/plain": [
       "Index(['TIME', 'QUERY_ID', 'TIME_SPENT', 'NDCG', 'COUNT_DOCTO_FOUND',\n",
       "       'COUNT_DOCTO_RELEVANT', 'GROUND_TRUTH', 'RANK1', 'LIST_RANK',\n",
       "       'LIST_DOCTO_RETURNED'],\n",
       "      dtype='object')"
      ]
     },
     "execution_count": 23,
     "metadata": {},
     "output_type": "execute_result"
    }
   ],
   "source": [
    "df_experiment_result.columns"
   ]
  },
  {
   "cell_type": "code",
   "execution_count": 16,
   "id": "bbdbd068",
   "metadata": {},
   "outputs": [],
   "source": [
    "\n",
    "# Salvando o dataframe concatenado no arquivo CSV\n",
    "## se precisar ajustar a ordem\n",
    "column_order = ['TIME', 'QUERY_ID', 'TIME_SPENT', 'NDCG', 'COUNT_DOCTO_FOUND',\n",
    "       'COUNT_DOCTO_RELEVANT', 'GROUND_TRUTH', 'RANK1', 'LIST_RANK',\n",
    "       'LIST_DOCTO_RETURNED']"
   ]
  },
  {
   "cell_type": "code",
   "execution_count": 18,
   "id": "17c7d099",
   "metadata": {},
   "outputs": [
    {
     "data": {
      "text/plain": [
       "(37, 14)"
      ]
     },
     "execution_count": 18,
     "metadata": {},
     "output_type": "execute_result"
    }
   ],
   "source": [
    "df_experiment[column_order].shape"
   ]
  },
  {
   "cell_type": "code",
   "execution_count": 19,
   "id": "fc054ba1",
   "metadata": {},
   "outputs": [],
   "source": [
    "df_experiment[column_order].to_csv(path_search_experiment, sep = ',', index=False)"
   ]
  },
  {
   "cell_type": "code",
   "execution_count": null,
   "id": "44686434",
   "metadata": {},
   "outputs": [],
   "source": []
  }
 ],
 "metadata": {
  "kernelspec": {
   "display_name": "Python (relevar-busca)",
   "language": "python",
   "name": "relevar-busca"
  },
  "language_info": {
   "codemirror_mode": {
    "name": "ipython",
    "version": 3
   },
   "file_extension": ".py",
   "mimetype": "text/x-python",
   "name": "python",
   "nbconvert_exporter": "python",
   "pygments_lexer": "ipython3",
   "version": "3.7.13"
  }
 },
 "nbformat": 4,
 "nbformat_minor": 5
}
