{
 "cells": [
  {
   "attachments": {},
   "cell_type": "markdown",
   "id": "6bd12138",
   "metadata": {},
   "source": [
    "# Del experiments"
   ]
  },
  {
   "cell_type": "code",
   "execution_count": 1,
   "id": "b42aeb76",
   "metadata": {},
   "outputs": [],
   "source": [
    "from util import util_experiment_juris_tcu as util_experiment "
   ]
  },
  {
   "cell_type": "code",
   "execution_count": 2,
   "id": "b42aeb76",
   "metadata": {},
   "outputs": [],
   "source": [
    "import importlib"
   ]
  },
  {
   "cell_type": "code",
   "execution_count": 3,
   "id": "9b5a4c3c",
   "metadata": {},
   "outputs": [],
   "source": [
    "DATASET = 'juris_tcu'"
   ]
  },
  {
   "cell_type": "code",
   "execution_count": 4,
   "id": "75791e3e",
   "metadata": {},
   "outputs": [
    {
     "data": {
      "text/plain": [
       "<module 'util.util_experiment_juris_tcu' from '/home/borela/fontes/ind-ir/code/util/util_experiment_juris_tcu.py'>"
      ]
     },
     "execution_count": 4,
     "metadata": {},
     "output_type": "execute_result"
    }
   ],
   "source": [
    "importlib.reload(util_experiment)"
   ]
  },
  {
   "cell_type": "code",
   "execution_count": 2,
   "id": "f42bab3f",
   "metadata": {},
   "outputs": [
    {
     "name": "stdout",
     "output_type": "stream",
     "text": [
      "Excluindo CRITERIA = total_gte_5\n",
      "Records to be deleted in df_experiment: 7\n",
      "Records to be deleted in df_experiment_result: 700\n",
      "Records successfully deleted.\n"
     ]
    }
   ],
   "source": [
    "# util_experiment.del_experiment_value_column(column_name='CRITERIA',column_value='total_gte_5', parm_dataset='juris_tcu_index')"
   ]
  },
  {
   "cell_type": "code",
   "execution_count": null,
   "id": "84f2bf80",
   "metadata": {},
   "outputs": [
    {
     "name": "stdout",
     "output_type": "stream",
     "text": [
      "Records to be deleted in df_experiment: 1\n",
      "Records to be deleted in df_experiment_result: 100\n",
      "Records successfully deleted.\n"
     ]
    }
   ],
   "source": [
    "# util_experiment.del_experiment_result(time_key='2023-Jun-16 19:49:19', parm_dataset='juris_tcu_index')"
   ]
  },
  {
   "cell_type": "code",
   "execution_count": null,
   "id": "5fcb568d",
   "metadata": {},
   "outputs": [],
   "source": [
    "for value in valores_time_com_query_id_invalido:\n",
    "    util_experiment.del_experiment_value_column(column_name='TIME',column_value=value, parm_dataset='juris_tcu_index',parm_confirm=False)\n",
    "    "
   ]
  },
  {
   "attachments": {},
   "cell_type": "markdown",
   "id": "6b8398c8",
   "metadata": {},
   "source": [
    "reorder columns of experiments"
   ]
  },
  {
   "cell_type": "code",
   "execution_count": 5,
   "id": "5720cb62",
   "metadata": {},
   "outputs": [],
   "source": [
    "import pandas as pd"
   ]
  },
  {
   "cell_type": "code",
   "execution_count": 6,
   "id": "3ea45c38",
   "metadata": {},
   "outputs": [],
   "source": [
    "path_search_experiment =  f'../data/search/{DATASET}/search_experiment_{DATASET}.csv'\n",
    "path_search_result =  f'../data/search/{DATASET}/search_experiment_result_{DATASET}.csv'"
   ]
  },
  {
   "cell_type": "code",
   "execution_count": 9,
   "id": "ba202025",
   "metadata": {},
   "outputs": [],
   "source": [
    "\n",
    "# Leitura do arquivo CSV existente\n",
    "df_experiment = pd.read_csv(path_search_experiment)\n"
   ]
  },
  {
   "cell_type": "code",
   "execution_count": 10,
   "id": "502efb9b",
   "metadata": {},
   "outputs": [],
   "source": [
    "df_experiment_result = pd.read_csv(path_search_result)"
   ]
  },
  {
   "cell_type": "code",
   "execution_count": 12,
   "id": "7e5b188e",
   "metadata": {},
   "outputs": [
    {
     "data": {
      "text/plain": [
       "(5, 14)"
      ]
     },
     "execution_count": 12,
     "metadata": {},
     "output_type": "execute_result"
    }
   ],
   "source": [
    "df_experiment.shape"
   ]
  },
  {
   "cell_type": "code",
   "execution_count": 13,
   "id": "aa9f1eb1",
   "metadata": {},
   "outputs": [
    {
     "data": {
      "text/html": [
       "<div>\n",
       "<style scoped>\n",
       "    .dataframe tbody tr th:only-of-type {\n",
       "        vertical-align: middle;\n",
       "    }\n",
       "\n",
       "    .dataframe tbody tr th {\n",
       "        vertical-align: top;\n",
       "    }\n",
       "\n",
       "    .dataframe thead th {\n",
       "        text-align: right;\n",
       "    }\n",
       "</style>\n",
       "<table border=\"1\" class=\"dataframe\">\n",
       "  <thead>\n",
       "    <tr style=\"text-align: right;\">\n",
       "      <th></th>\n",
       "      <th>TIME</th>\n",
       "      <th>INDEX_NAME</th>\n",
       "      <th>RETRIEVER_TYPE</th>\n",
       "      <th>COUNT_QUERY_RUN</th>\n",
       "      <th>TOPK_RETRIEVER</th>\n",
       "      <th>TOPK_RANKER</th>\n",
       "      <th>COUNT_QUERY_WITHOUT_RESULT</th>\n",
       "      <th>COUNT_QUERY_NOT_FOUND</th>\n",
       "      <th>RANK1_MEAN</th>\n",
       "      <th>NDCG_MEAN</th>\n",
       "      <th>NDCG_LIMIT</th>\n",
       "      <th>TIME_SPENT_MEAN</th>\n",
       "      <th>RETRIEVER_MODEL_NAME</th>\n",
       "      <th>RANKER_MODEL_NAME</th>\n",
       "    </tr>\n",
       "  </thead>\n",
       "  <tbody>\n",
       "    <tr>\n",
       "      <th>0</th>\n",
       "      <td>2023-Jun-26 20:44:08</td>\n",
       "      <td>indir_juris_tcu</td>\n",
       "      <td>bm25</td>\n",
       "      <td>150</td>\n",
       "      <td>300</td>\n",
       "      <td>0</td>\n",
       "      <td>0</td>\n",
       "      <td>0</td>\n",
       "      <td>2.367</td>\n",
       "      <td>58.502</td>\n",
       "      <td>15</td>\n",
       "      <td>0.122</td>\n",
       "      <td>NaN</td>\n",
       "      <td>NaN</td>\n",
       "    </tr>\n",
       "    <tr>\n",
       "      <th>1</th>\n",
       "      <td>2023-Jun-26 20:44:27</td>\n",
       "      <td>indir_juris_tcu_term</td>\n",
       "      <td>bm25</td>\n",
       "      <td>150</td>\n",
       "      <td>300</td>\n",
       "      <td>0</td>\n",
       "      <td>0</td>\n",
       "      <td>0</td>\n",
       "      <td>2.133</td>\n",
       "      <td>58.925</td>\n",
       "      <td>15</td>\n",
       "      <td>0.123</td>\n",
       "      <td>NaN</td>\n",
       "      <td>NaN</td>\n",
       "    </tr>\n",
       "    <tr>\n",
       "      <th>2</th>\n",
       "      <td>2023-Jun-26 20:44:46</td>\n",
       "      <td>indir_juris_tcu_synonym</td>\n",
       "      <td>bm25</td>\n",
       "      <td>150</td>\n",
       "      <td>300</td>\n",
       "      <td>0</td>\n",
       "      <td>0</td>\n",
       "      <td>0</td>\n",
       "      <td>2.300</td>\n",
       "      <td>57.717</td>\n",
       "      <td>15</td>\n",
       "      <td>0.124</td>\n",
       "      <td>NaN</td>\n",
       "      <td>NaN</td>\n",
       "    </tr>\n",
       "    <tr>\n",
       "      <th>3</th>\n",
       "      <td>2023-Jun-26 20:45:05</td>\n",
       "      <td>indir_juris_tcu_related_term</td>\n",
       "      <td>bm25</td>\n",
       "      <td>150</td>\n",
       "      <td>300</td>\n",
       "      <td>0</td>\n",
       "      <td>0</td>\n",
       "      <td>0</td>\n",
       "      <td>2.940</td>\n",
       "      <td>53.283</td>\n",
       "      <td>15</td>\n",
       "      <td>0.127</td>\n",
       "      <td>NaN</td>\n",
       "      <td>NaN</td>\n",
       "    </tr>\n",
       "    <tr>\n",
       "      <th>4</th>\n",
       "      <td>2023-Jun-26 20:45:25</td>\n",
       "      <td>indir_juris_tcu_synonym_related_term</td>\n",
       "      <td>bm25</td>\n",
       "      <td>150</td>\n",
       "      <td>300</td>\n",
       "      <td>0</td>\n",
       "      <td>0</td>\n",
       "      <td>0</td>\n",
       "      <td>2.420</td>\n",
       "      <td>54.757</td>\n",
       "      <td>15</td>\n",
       "      <td>0.129</td>\n",
       "      <td>NaN</td>\n",
       "      <td>NaN</td>\n",
       "    </tr>\n",
       "  </tbody>\n",
       "</table>\n",
       "</div>"
      ],
      "text/plain": [
       "                   TIME                            INDEX_NAME RETRIEVER_TYPE  \\\n",
       "0  2023-Jun-26 20:44:08                       indir_juris_tcu           bm25   \n",
       "1  2023-Jun-26 20:44:27                  indir_juris_tcu_term           bm25   \n",
       "2  2023-Jun-26 20:44:46               indir_juris_tcu_synonym           bm25   \n",
       "3  2023-Jun-26 20:45:05          indir_juris_tcu_related_term           bm25   \n",
       "4  2023-Jun-26 20:45:25  indir_juris_tcu_synonym_related_term           bm25   \n",
       "\n",
       "   COUNT_QUERY_RUN  TOPK_RETRIEVER  TOPK_RANKER  COUNT_QUERY_WITHOUT_RESULT  \\\n",
       "0              150             300            0                           0   \n",
       "1              150             300            0                           0   \n",
       "2              150             300            0                           0   \n",
       "3              150             300            0                           0   \n",
       "4              150             300            0                           0   \n",
       "\n",
       "   COUNT_QUERY_NOT_FOUND  RANK1_MEAN  NDCG_MEAN  NDCG_LIMIT  TIME_SPENT_MEAN  \\\n",
       "0                      0       2.367     58.502          15            0.122   \n",
       "1                      0       2.133     58.925          15            0.123   \n",
       "2                      0       2.300     57.717          15            0.124   \n",
       "3                      0       2.940     53.283          15            0.127   \n",
       "4                      0       2.420     54.757          15            0.129   \n",
       "\n",
       "   RETRIEVER_MODEL_NAME  RANKER_MODEL_NAME  \n",
       "0                   NaN                NaN  \n",
       "1                   NaN                NaN  \n",
       "2                   NaN                NaN  \n",
       "3                   NaN                NaN  \n",
       "4                   NaN                NaN  "
      ]
     },
     "execution_count": 13,
     "metadata": {},
     "output_type": "execute_result"
    }
   ],
   "source": [
    "df_experiment.head()"
   ]
  },
  {
   "cell_type": "code",
   "execution_count": null,
   "id": "ce781e97",
   "metadata": {},
   "outputs": [],
   "source": []
  },
  {
   "cell_type": "code",
   "execution_count": 14,
   "id": "7e5b188e",
   "metadata": {},
   "outputs": [
    {
     "data": {
      "text/plain": [
       "(750, 10)"
      ]
     },
     "execution_count": 14,
     "metadata": {},
     "output_type": "execute_result"
    }
   ],
   "source": [
    "df_experiment_result.shape"
   ]
  },
  {
   "cell_type": "code",
   "execution_count": 15,
   "id": "5df7e1d4",
   "metadata": {},
   "outputs": [
    {
     "data": {
      "text/html": [
       "<div>\n",
       "<style scoped>\n",
       "    .dataframe tbody tr th:only-of-type {\n",
       "        vertical-align: middle;\n",
       "    }\n",
       "\n",
       "    .dataframe tbody tr th {\n",
       "        vertical-align: top;\n",
       "    }\n",
       "\n",
       "    .dataframe thead th {\n",
       "        text-align: right;\n",
       "    }\n",
       "</style>\n",
       "<table border=\"1\" class=\"dataframe\">\n",
       "  <thead>\n",
       "    <tr style=\"text-align: right;\">\n",
       "      <th></th>\n",
       "      <th>TIME</th>\n",
       "      <th>QUERY_ID</th>\n",
       "      <th>TIME_SPENT</th>\n",
       "      <th>NDCG</th>\n",
       "      <th>COUNT_DOCTO_FOUND</th>\n",
       "      <th>COUNT_DOCTO_RELEVANT</th>\n",
       "      <th>GROUND_TRUTH</th>\n",
       "      <th>RANK1</th>\n",
       "      <th>LIST_RANK</th>\n",
       "      <th>LIST_DOCTO_RETURNED</th>\n",
       "    </tr>\n",
       "  </thead>\n",
       "  <tbody>\n",
       "    <tr>\n",
       "      <th>0</th>\n",
       "      <td>2023-Jun-26 20:44:08</td>\n",
       "      <td>1</td>\n",
       "      <td>0.1427</td>\n",
       "      <td>43.07</td>\n",
       "      <td>300</td>\n",
       "      <td>15</td>\n",
       "      <td>{21064: 3, 42166: 3, 13702: 3, 20592: 3, 15740...</td>\n",
       "      <td>2</td>\n",
       "      <td>[35, 21, 15, 5, 3, 2, 16, 57, 22, 12, 52, 250,...</td>\n",
       "      <td>[20870, 53641, 15740, 20971, 20592, 21229, 183...</td>\n",
       "    </tr>\n",
       "    <tr>\n",
       "      <th>1</th>\n",
       "      <td>2023-Jun-26 20:44:08</td>\n",
       "      <td>2</td>\n",
       "      <td>0.1241</td>\n",
       "      <td>62.58</td>\n",
       "      <td>300</td>\n",
       "      <td>15</td>\n",
       "      <td>{31437: 3, 19340: 3, 77959: 3, 17289: 2, 18452...</td>\n",
       "      <td>2</td>\n",
       "      <td>[9, 8, 2, 3, 6, 183, 283, 191, 226]</td>\n",
       "      <td>[32869, 77959, 17289, 19084, 18432, 18452, 564...</td>\n",
       "    </tr>\n",
       "    <tr>\n",
       "      <th>2</th>\n",
       "      <td>2023-Jun-26 20:44:08</td>\n",
       "      <td>3</td>\n",
       "      <td>0.1284</td>\n",
       "      <td>24.41</td>\n",
       "      <td>300</td>\n",
       "      <td>15</td>\n",
       "      <td>{18380: 3, 31102: 3, 17240: 3, 20511: 3, 32589...</td>\n",
       "      <td>6</td>\n",
       "      <td>[22, 6, 19, 25, 10, 11, 38, 7, 27, 55, 267]</td>\n",
       "      <td>[17218, 42262, 31118, 18955, 17219, 31102, 172...</td>\n",
       "    </tr>\n",
       "    <tr>\n",
       "      <th>3</th>\n",
       "      <td>2023-Jun-26 20:44:08</td>\n",
       "      <td>4</td>\n",
       "      <td>0.1220</td>\n",
       "      <td>36.36</td>\n",
       "      <td>300</td>\n",
       "      <td>15</td>\n",
       "      <td>{16895: 3, 45015: 3, 14526: 3, 62306: 3, 6237:...</td>\n",
       "      <td>4</td>\n",
       "      <td>[5, 6, 18, 19, 15, 25, 12, 50, 20, 4, 97, 268]</td>\n",
       "      <td>[17195, 20860, 20841, 84935, 16895, 45015, 423...</td>\n",
       "    </tr>\n",
       "    <tr>\n",
       "      <th>4</th>\n",
       "      <td>2023-Jun-26 20:44:08</td>\n",
       "      <td>5</td>\n",
       "      <td>0.1254</td>\n",
       "      <td>26.67</td>\n",
       "      <td>300</td>\n",
       "      <td>15</td>\n",
       "      <td>{21172: 3, 17816: 3, 4066: 3, 53003: 3, 94290:...</td>\n",
       "      <td>3</td>\n",
       "      <td>[3, 7, 16, 4, 94, 95, 96, 97, 105, 19, 90, 295]</td>\n",
       "      <td>[16932, 32590, 21172, 53003, 16262, 21793, 178...</td>\n",
       "    </tr>\n",
       "  </tbody>\n",
       "</table>\n",
       "</div>"
      ],
      "text/plain": [
       "                   TIME  QUERY_ID  TIME_SPENT   NDCG  COUNT_DOCTO_FOUND  \\\n",
       "0  2023-Jun-26 20:44:08         1      0.1427  43.07                300   \n",
       "1  2023-Jun-26 20:44:08         2      0.1241  62.58                300   \n",
       "2  2023-Jun-26 20:44:08         3      0.1284  24.41                300   \n",
       "3  2023-Jun-26 20:44:08         4      0.1220  36.36                300   \n",
       "4  2023-Jun-26 20:44:08         5      0.1254  26.67                300   \n",
       "\n",
       "   COUNT_DOCTO_RELEVANT                                       GROUND_TRUTH  \\\n",
       "0                    15  {21064: 3, 42166: 3, 13702: 3, 20592: 3, 15740...   \n",
       "1                    15  {31437: 3, 19340: 3, 77959: 3, 17289: 2, 18452...   \n",
       "2                    15  {18380: 3, 31102: 3, 17240: 3, 20511: 3, 32589...   \n",
       "3                    15  {16895: 3, 45015: 3, 14526: 3, 62306: 3, 6237:...   \n",
       "4                    15  {21172: 3, 17816: 3, 4066: 3, 53003: 3, 94290:...   \n",
       "\n",
       "   RANK1                                          LIST_RANK  \\\n",
       "0      2  [35, 21, 15, 5, 3, 2, 16, 57, 22, 12, 52, 250,...   \n",
       "1      2                [9, 8, 2, 3, 6, 183, 283, 191, 226]   \n",
       "2      6        [22, 6, 19, 25, 10, 11, 38, 7, 27, 55, 267]   \n",
       "3      4     [5, 6, 18, 19, 15, 25, 12, 50, 20, 4, 97, 268]   \n",
       "4      3    [3, 7, 16, 4, 94, 95, 96, 97, 105, 19, 90, 295]   \n",
       "\n",
       "                                 LIST_DOCTO_RETURNED  \n",
       "0  [20870, 53641, 15740, 20971, 20592, 21229, 183...  \n",
       "1  [32869, 77959, 17289, 19084, 18432, 18452, 564...  \n",
       "2  [17218, 42262, 31118, 18955, 17219, 31102, 172...  \n",
       "3  [17195, 20860, 20841, 84935, 16895, 45015, 423...  \n",
       "4  [16932, 32590, 21172, 53003, 16262, 21793, 178...  "
      ]
     },
     "execution_count": 15,
     "metadata": {},
     "output_type": "execute_result"
    }
   ],
   "source": [
    "df_experiment_result.head()"
   ]
  },
  {
   "cell_type": "code",
   "execution_count": 23,
   "id": "106f82e7",
   "metadata": {},
   "outputs": [
    {
     "data": {
      "text/plain": [
       "Index(['TIME', 'QUERY_ID', 'TIME_SPENT', 'NDCG', 'COUNT_DOCTO_FOUND',\n",
       "       'COUNT_DOCTO_RELEVANT', 'GROUND_TRUTH', 'RANK1', 'LIST_RANK',\n",
       "       'LIST_DOCTO_RETURNED'],\n",
       "      dtype='object')"
      ]
     },
     "execution_count": 23,
     "metadata": {},
     "output_type": "execute_result"
    }
   ],
   "source": [
    "df_experiment_result.columns"
   ]
  },
  {
   "cell_type": "code",
   "execution_count": 16,
   "id": "bbdbd068",
   "metadata": {},
   "outputs": [],
   "source": [
    "\n",
    "# Salvando o dataframe concatenado no arquivo CSV\n",
    "## se precisar ajustar a ordem\n",
    "column_order = ['TIME', 'QUERY_ID', 'TIME_SPENT', 'NDCG', 'COUNT_DOCTO_FOUND',\n",
    "       'COUNT_DOCTO_RELEVANT', 'GROUND_TRUTH', 'RANK1', 'LIST_RANK',\n",
    "       'LIST_DOCTO_RETURNED']"
   ]
  },
  {
   "cell_type": "code",
   "execution_count": 18,
   "id": "17c7d099",
   "metadata": {},
   "outputs": [
    {
     "data": {
      "text/plain": [
       "(37, 14)"
      ]
     },
     "execution_count": 18,
     "metadata": {},
     "output_type": "execute_result"
    }
   ],
   "source": [
    "df_experiment[column_order].shape"
   ]
  },
  {
   "cell_type": "code",
   "execution_count": 19,
   "id": "fc054ba1",
   "metadata": {},
   "outputs": [],
   "source": [
    "df_experiment[column_order].to_csv(path_search_experiment, sep = ',', index=False)"
   ]
  },
  {
   "cell_type": "code",
   "execution_count": null,
   "id": "44686434",
   "metadata": {},
   "outputs": [],
   "source": []
  }
 ],
 "metadata": {
  "kernelspec": {
   "display_name": "Python (relevar-busca)",
   "language": "python",
   "name": "relevar-busca"
  },
  "language_info": {
   "codemirror_mode": {
    "name": "ipython",
    "version": 3
   },
   "file_extension": ".py",
   "mimetype": "text/x-python",
   "name": "python",
   "nbconvert_exporter": "python",
   "pygments_lexer": "ipython3",
   "version": "3.7.13"
  }
 },
 "nbformat": 4,
 "nbformat_minor": 5
}
