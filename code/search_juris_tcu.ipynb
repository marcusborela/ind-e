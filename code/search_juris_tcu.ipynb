{
 "cells": [
  {
   "attachments": {},
   "cell_type": "markdown",
   "id": "998a4011",
   "metadata": {},
   "source": [
    "# Imports and preparation"
   ]
  },
  {
   "cell_type": "code",
   "execution_count": 1,
   "metadata": {},
   "outputs": [],
   "source": [
    "import os"
   ]
  },
  {
   "cell_type": "code",
   "execution_count": 2,
   "metadata": {},
   "outputs": [],
   "source": [
    "import torch"
   ]
  },
  {
   "cell_type": "code",
   "execution_count": 3,
   "metadata": {},
   "outputs": [],
   "source": [
    "import numpy as np"
   ]
  },
  {
   "cell_type": "code",
   "execution_count": 4,
   "id": "37d4165c",
   "metadata": {},
   "outputs": [],
   "source": [
    "import pandas as pd"
   ]
  },
  {
   "cell_type": "code",
   "execution_count": 5,
   "metadata": {},
   "outputs": [],
   "source": [
    "from tqdm import tqdm"
   ]
  },
  {
   "cell_type": "code",
   "execution_count": 6,
   "metadata": {},
   "outputs": [],
   "source": [
    "import time, gc"
   ]
  },
  {
   "cell_type": "code",
   "execution_count": 7,
   "metadata": {},
   "outputs": [],
   "source": [
    "import importlib"
   ]
  },
  {
   "cell_type": "code",
   "execution_count": 8,
   "metadata": {},
   "outputs": [],
   "source": [
    "from itertools import product\n"
   ]
  },
  {
   "cell_type": "code",
   "execution_count": 9,
   "metadata": {},
   "outputs": [
    {
     "name": "stderr",
     "output_type": "stream",
     "text": [
      "OpenAI tiktoken module is not available for Python < 3.8,Linux ARM64 and AARCH64. Falling back to GPT2TokenizerFast.\n",
      "WARNING:haystack.nodes.answer_generator.openai:OpenAI tiktoken module is not available for Python < 3.8,Linux ARM64 and AARCH64. Falling back to GPT2TokenizerFast.\n"
     ]
    }
   ],
   "source": [
    "from util import util_elastic"
   ]
  },
  {
   "cell_type": "code",
   "execution_count": 10,
   "metadata": {},
   "outputs": [],
   "source": [
    "from util import util_pipeline_v2 as util_pipeline"
   ]
  },
  {
   "cell_type": "code",
   "execution_count": 11,
   "metadata": {},
   "outputs": [],
   "source": [
    "from util import util_experiment_juris_tcu as util_experiment"
   ]
  },
  {
   "cell_type": "code",
   "execution_count": 12,
   "id": "f911fcf2",
   "metadata": {},
   "outputs": [],
   "source": [
    "# Para ter repetibilidade nos resultados\n",
    "random_state = 1\n",
    "\n",
    "# Tratar valores infinitos (+ e -) como np.NaN\n",
    "pd.options.mode.use_inf_as_na = True\n",
    "\n",
    "# IMPORTANTE para tornar figuras interativas\n",
    "# %matplotlib notebook\n",
    "\n",
    "# Tamanho padrão das figuras\n",
    "figsize=(10,6)\n",
    "\n",
    "pd.set_option('display.max_row', 1000)\n",
    "\n",
    "pd.set_option('display.max_columns', 50)\n",
    "\n",
    "pd.set_option('display.column_space', 100)\n",
    "pd.set_option('display.max_colwidth', 200)\n",
    "pd.set_option('display.width', 200)\n"
   ]
  },
  {
   "cell_type": "code",
   "execution_count": 13,
   "metadata": {},
   "outputs": [],
   "source": [
    "DATASET_NAME = 'juris_tcu'"
   ]
  },
  {
   "cell_type": "code",
   "execution_count": 14,
   "id": "6e05b9a6",
   "metadata": {},
   "outputs": [],
   "source": [
    "\n",
    "PATH_QREL =  f'../data/{DATASET_NAME}/qrel.csv'"
   ]
  },
  {
   "cell_type": "code",
   "execution_count": 15,
   "metadata": {},
   "outputs": [],
   "source": [
    "EXPANSOR_CRITERIA = 'join_30_ptt5_base' # 'join_30_ptt5_indir' #  'join_30_ptt5_base' #'join_30_ptt5_indir'"
   ]
  },
  {
   "cell_type": "code",
   "execution_count": 16,
   "metadata": {},
   "outputs": [],
   "source": [
    "consider_query_expanded = True\n",
    "\n",
    "if consider_query_expanded:\n",
    "    PATH_QUERY =  f'../data/juris_tcu_expanded_query/query_10_expansion_{EXPANSOR_CRITERIA}.csv' \n",
    "else:\n",
    "    PATH_QUERY = f'../data/{DATASET_NAME}/query.csv'"
   ]
  },
  {
   "attachments": {},
   "cell_type": "markdown",
   "metadata": {},
   "source": [
    "# Data load"
   ]
  },
  {
   "attachments": {},
   "cell_type": "markdown",
   "metadata": {},
   "source": [
    "## Query data load"
   ]
  },
  {
   "cell_type": "code",
   "execution_count": 17,
   "id": "1cf03f22",
   "metadata": {},
   "outputs": [],
   "source": [
    "df_query = pd.read_csv(PATH_QUERY)"
   ]
  },
  {
   "cell_type": "code",
   "execution_count": 18,
   "metadata": {},
   "outputs": [
    {
     "data": {
      "text/plain": [
       "(150, 13)"
      ]
     },
     "execution_count": 18,
     "metadata": {},
     "output_type": "execute_result"
    }
   ],
   "source": [
    "df_query.shape"
   ]
  },
  {
   "cell_type": "code",
   "execution_count": 19,
   "metadata": {},
   "outputs": [
    {
     "data": {
      "text/html": [
       "<div>\n",
       "<style scoped>\n",
       "    .dataframe tbody tr th:only-of-type {\n",
       "        vertical-align: middle;\n",
       "    }\n",
       "\n",
       "    .dataframe tbody tr th {\n",
       "        vertical-align: top;\n",
       "    }\n",
       "\n",
       "    .dataframe thead th {\n",
       "        text-align: right;\n",
       "    }\n",
       "</style>\n",
       "<table border=\"1\" class=\"dataframe\">\n",
       "  <thead>\n",
       "    <tr style=\"text-align: right;\">\n",
       "      <th></th>\n",
       "      <th>ID</th>\n",
       "      <th>TEXT</th>\n",
       "      <th>SOURCE</th>\n",
       "      <th>1</th>\n",
       "      <th>2</th>\n",
       "      <th>3</th>\n",
       "      <th>4</th>\n",
       "      <th>5</th>\n",
       "      <th>6</th>\n",
       "      <th>7</th>\n",
       "      <th>8</th>\n",
       "      <th>9</th>\n",
       "      <th>10</th>\n",
       "    </tr>\n",
       "  </thead>\n",
       "  <tbody>\n",
       "    <tr>\n",
       "      <th>0</th>\n",
       "      <td>1</td>\n",
       "      <td>técnica e preço</td>\n",
       "      <td>search log</td>\n",
       "      <td>técnica e preço - Licitação de técnica e preço</td>\n",
       "      <td>técnica e preço - Licitação de técnica e preço, Proposta técnica</td>\n",
       "      <td>técnica e preço - Licitação de técnica e preço, Proposta técnica, Tipo de licitação</td>\n",
       "      <td>técnica e preço - Licitação de técnica e preço, Proposta técnica, Tipo de licitação, Proposta</td>\n",
       "      <td>técnica e preço - Licitação de técnica e preço, Proposta técnica, Tipo de licitação, Proposta, Licitação de melhor técnica</td>\n",
       "      <td>técnica e preço - Licitação de técnica e preço, Proposta técnica, Tipo de licitação, Proposta, Licitação de melhor técnica, Proposta de preço</td>\n",
       "      <td>técnica e preço - Licitação de técnica e preço, Proposta técnica, Tipo de licitação, Proposta, Licitação de melhor técnica, Proposta de preço, Preço médio</td>\n",
       "      <td>técnica e preço - Licitação de técnica e preço, Proposta técnica, Tipo de licitação, Proposta, Licitação de melhor técnica, Proposta de preço, Preço médio, Eficiência de custos</td>\n",
       "      <td>técnica e preço - Licitação de técnica e preço, Proposta técnica, Tipo de licitação, Proposta, Licitação de melhor técnica, Proposta de preço, Preço médio, Eficiência de custos, Índice de preços</td>\n",
       "      <td>técnica e preço - Licitação de técnica e preço, Proposta técnica, Tipo de licitação, Proposta, Licitação de melhor técnica, Proposta de preço, Preço médio, Eficiência de custos, Índice de preços</td>\n",
       "    </tr>\n",
       "    <tr>\n",
       "      <th>1</th>\n",
       "      <td>2</td>\n",
       "      <td>restos a pagar</td>\n",
       "      <td>search log</td>\n",
       "      <td>restos a pagar - Cota-parte</td>\n",
       "      <td>restos a pagar - Cota-parte, Recolhimento</td>\n",
       "      <td>restos a pagar - Cota-parte, Recolhimento, Quitação</td>\n",
       "      <td>restos a pagar - Cota-parte, Recolhimento, Quitação, Passivo compensado</td>\n",
       "      <td>restos a pagar - Cota-parte, Recolhimento, Quitação, Passivo compensado, Passivo circulante</td>\n",
       "      <td>restos a pagar - Cota-parte, Recolhimento, Quitação, Passivo compensado, Passivo circulante, Despesas de exercícios anteriores</td>\n",
       "      <td>restos a pagar - Cota-parte, Recolhimento, Quitação, Passivo compensado, Passivo circulante, Despesas de exercícios anteriores, Ativo compensado</td>\n",
       "      <td>restos a pagar - Cota-parte, Recolhimento, Quitação, Passivo compensado, Passivo circulante, Despesas de exercícios anteriores, Ativo compensado, Dívida</td>\n",
       "      <td>restos a pagar - Cota-parte, Recolhimento, Quitação, Passivo compensado, Passivo circulante, Despesas de exercícios anteriores, Ativo compensado, Dívida, Despesa empenhada</td>\n",
       "      <td>restos a pagar - Cota-parte, Recolhimento, Quitação, Passivo compensado, Passivo circulante, Despesas de exercícios anteriores, Ativo compensado, Dívida, Despesa empenhada</td>\n",
       "    </tr>\n",
       "    <tr>\n",
       "      <th>2</th>\n",
       "      <td>3</td>\n",
       "      <td>aditivo a contrato</td>\n",
       "      <td>search log</td>\n",
       "      <td>aditivo a contrato - Termo aditivo</td>\n",
       "      <td>aditivo a contrato - Termo aditivo, Aditivo qualitativo</td>\n",
       "      <td>aditivo a contrato - Termo aditivo, Aditivo qualitativo, Aditivo quantitativo</td>\n",
       "      <td>aditivo a contrato - Termo aditivo, Aditivo qualitativo, Aditivo quantitativo, Apostila (Licitação)</td>\n",
       "      <td>aditivo a contrato - Termo aditivo, Aditivo qualitativo, Aditivo quantitativo, Apostila (Licitação), Alteração contratual</td>\n",
       "      <td>aditivo a contrato - Termo aditivo, Aditivo qualitativo, Aditivo quantitativo, Apostila (Licitação), Alteração contratual, Ajuste</td>\n",
       "      <td>aditivo a contrato - Termo aditivo, Aditivo qualitativo, Aditivo quantitativo, Apostila (Licitação), Alteração contratual, Ajuste, Jogo de planilhas</td>\n",
       "      <td>aditivo a contrato - Termo aditivo, Aditivo qualitativo, Aditivo quantitativo, Apostila (Licitação), Alteração contratual, Ajuste, Jogo de planilhas, Acréscimo</td>\n",
       "      <td>aditivo a contrato - Termo aditivo, Aditivo qualitativo, Aditivo quantitativo, Apostila (Licitação), Alteração contratual, Ajuste, Jogo de planilhas, Acréscimo, Apostilamento</td>\n",
       "      <td>aditivo a contrato - Termo aditivo, Aditivo qualitativo, Aditivo quantitativo, Apostila (Licitação), Alteração contratual, Ajuste, Jogo de planilhas, Acréscimo, Apostilamento</td>\n",
       "    </tr>\n",
       "    <tr>\n",
       "      <th>3</th>\n",
       "      <td>4</td>\n",
       "      <td>adesão a ata de registro de preços</td>\n",
       "      <td>search log</td>\n",
       "      <td>adesão a ata de registro de preços - Sistema de Registro de Preços</td>\n",
       "      <td>adesão a ata de registro de preços - Sistema de Registro de Preços, Princípio da vinculação ao instrumento convocatório</td>\n",
       "      <td>adesão a ata de registro de preços - Sistema de Registro de Preços, Princípio da vinculação ao instrumento convocatório, Intenção de Registro de Preços</td>\n",
       "      <td>adesão a ata de registro de preços - Sistema de Registro de Preços, Princípio da vinculação ao instrumento convocatório, Intenção de Registro de Preços, Contrato de adesão</td>\n",
       "      <td>adesão a ata de registro de preços - Sistema de Registro de Preços, Princípio da vinculação ao instrumento convocatório, Intenção de Registro de Preços, Contrato de adesão, Impugnação de preço</td>\n",
       "      <td>adesão a ata de registro de preços - Sistema de Registro de Preços, Princípio da vinculação ao instrumento convocatório, Intenção de Registro de Preços, Contrato de adesão, Impugnação de preço</td>\n",
       "      <td>adesão a ata de registro de preços - Sistema de Registro de Preços, Princípio da vinculação ao instrumento convocatório, Intenção de Registro de Preços, Contrato de adesão, Impugnação de preço</td>\n",
       "      <td>adesão a ata de registro de preços - Sistema de Registro de Preços, Princípio da vinculação ao instrumento convocatório, Intenção de Registro de Preços, Contrato de adesão, Impugnação de preço</td>\n",
       "      <td>adesão a ata de registro de preços - Sistema de Registro de Preços, Princípio da vinculação ao instrumento convocatório, Intenção de Registro de Preços, Contrato de adesão, Impugnação de preço</td>\n",
       "      <td>adesão a ata de registro de preços - Sistema de Registro de Preços, Princípio da vinculação ao instrumento convocatório, Intenção de Registro de Preços, Contrato de adesão, Impugnação de preço</td>\n",
       "    </tr>\n",
       "    <tr>\n",
       "      <th>4</th>\n",
       "      <td>5</td>\n",
       "      <td>sobrepreço e superfaturamento</td>\n",
       "      <td>search log</td>\n",
       "      <td>sobrepreço e superfaturamento - Faturamento</td>\n",
       "      <td>sobrepreço e superfaturamento - Faturamento, Licitação</td>\n",
       "      <td>sobrepreço e superfaturamento - Faturamento, Licitação, Enriquecimento ilícito</td>\n",
       "      <td>sobrepreço e superfaturamento - Faturamento, Licitação, Enriquecimento ilícito, Irregularidade grave</td>\n",
       "      <td>sobrepreço e superfaturamento - Faturamento, Licitação, Enriquecimento ilícito, Irregularidade grave, Indício de irregularidade grave</td>\n",
       "      <td>sobrepreço e superfaturamento - Faturamento, Licitação, Enriquecimento ilícito, Irregularidade grave, Indício de irregularidade grave, Obras, serviços ou compras de grande vulto</td>\n",
       "      <td>sobrepreço e superfaturamento - Faturamento, Licitação, Enriquecimento ilícito, Irregularidade grave, Indício de irregularidade grave, Obras, serviços ou compras de grande vulto, Preço</td>\n",
       "      <td>sobrepreço e superfaturamento - Faturamento, Licitação, Enriquecimento ilícito, Irregularidade grave, Indício de irregularidade grave, Obras, serviços ou compras de grande vulto, Preço, Excesso de...</td>\n",
       "      <td>sobrepreço e superfaturamento - Faturamento, Licitação, Enriquecimento ilícito, Irregularidade grave, Indício de irregularidade grave, Obras, serviços ou compras de grande vulto, Preço, Excesso de...</td>\n",
       "      <td>sobrepreço e superfaturamento - Faturamento, Licitação, Enriquecimento ilícito, Irregularidade grave, Indício de irregularidade grave, Obras, serviços ou compras de grande vulto, Preço, Excesso de...</td>\n",
       "    </tr>\n",
       "  </tbody>\n",
       "</table>\n",
       "</div>"
      ],
      "text/plain": [
       "   ID                                TEXT      SOURCE                                                                   1  \\\n",
       "0   1                     técnica e preço  search log                      técnica e preço - Licitação de técnica e preço   \n",
       "1   2                      restos a pagar  search log                                         restos a pagar - Cota-parte   \n",
       "2   3                  aditivo a contrato  search log                                  aditivo a contrato - Termo aditivo   \n",
       "3   4  adesão a ata de registro de preços  search log  adesão a ata de registro de preços - Sistema de Registro de Preços   \n",
       "4   5       sobrepreço e superfaturamento  search log                         sobrepreço e superfaturamento - Faturamento   \n",
       "\n",
       "                                                                                                                         2  \\\n",
       "0                                                         técnica e preço - Licitação de técnica e preço, Proposta técnica   \n",
       "1                                                                                restos a pagar - Cota-parte, Recolhimento   \n",
       "2                                                                  aditivo a contrato - Termo aditivo, Aditivo qualitativo   \n",
       "3  adesão a ata de registro de preços - Sistema de Registro de Preços, Princípio da vinculação ao instrumento convocatório   \n",
       "4                                                                   sobrepreço e superfaturamento - Faturamento, Licitação   \n",
       "\n",
       "                                                                                                                                                         3  \\\n",
       "0                                                                      técnica e preço - Licitação de técnica e preço, Proposta técnica, Tipo de licitação   \n",
       "1                                                                                                      restos a pagar - Cota-parte, Recolhimento, Quitação   \n",
       "2                                                                            aditivo a contrato - Termo aditivo, Aditivo qualitativo, Aditivo quantitativo   \n",
       "3  adesão a ata de registro de preços - Sistema de Registro de Preços, Princípio da vinculação ao instrumento convocatório, Intenção de Registro de Preços   \n",
       "4                                                                           sobrepreço e superfaturamento - Faturamento, Licitação, Enriquecimento ilícito   \n",
       "\n",
       "                                                                                                                                                                             4  \\\n",
       "0                                                                                técnica e preço - Licitação de técnica e preço, Proposta técnica, Tipo de licitação, Proposta   \n",
       "1                                                                                                      restos a pagar - Cota-parte, Recolhimento, Quitação, Passivo compensado   \n",
       "2                                                                          aditivo a contrato - Termo aditivo, Aditivo qualitativo, Aditivo quantitativo, Apostila (Licitação)   \n",
       "3  adesão a ata de registro de preços - Sistema de Registro de Preços, Princípio da vinculação ao instrumento convocatório, Intenção de Registro de Preços, Contrato de adesão   \n",
       "4                                                                         sobrepreço e superfaturamento - Faturamento, Licitação, Enriquecimento ilícito, Irregularidade grave   \n",
       "\n",
       "                                                                                                                                                                                                  5  \\\n",
       "0                                                                        técnica e preço - Licitação de técnica e preço, Proposta técnica, Tipo de licitação, Proposta, Licitação de melhor técnica   \n",
       "1                                                                                                       restos a pagar - Cota-parte, Recolhimento, Quitação, Passivo compensado, Passivo circulante   \n",
       "2                                                                         aditivo a contrato - Termo aditivo, Aditivo qualitativo, Aditivo quantitativo, Apostila (Licitação), Alteração contratual   \n",
       "3  adesão a ata de registro de preços - Sistema de Registro de Preços, Princípio da vinculação ao instrumento convocatório, Intenção de Registro de Preços, Contrato de adesão, Impugnação de preço   \n",
       "4                                                             sobrepreço e superfaturamento - Faturamento, Licitação, Enriquecimento ilícito, Irregularidade grave, Indício de irregularidade grave   \n",
       "\n",
       "                                                                                                                                                                                                  6  \\\n",
       "0                                                     técnica e preço - Licitação de técnica e preço, Proposta técnica, Tipo de licitação, Proposta, Licitação de melhor técnica, Proposta de preço   \n",
       "1                                                                    restos a pagar - Cota-parte, Recolhimento, Quitação, Passivo compensado, Passivo circulante, Despesas de exercícios anteriores   \n",
       "2                                                                 aditivo a contrato - Termo aditivo, Aditivo qualitativo, Aditivo quantitativo, Apostila (Licitação), Alteração contratual, Ajuste   \n",
       "3  adesão a ata de registro de preços - Sistema de Registro de Preços, Princípio da vinculação ao instrumento convocatório, Intenção de Registro de Preços, Contrato de adesão, Impugnação de preço   \n",
       "4                 sobrepreço e superfaturamento - Faturamento, Licitação, Enriquecimento ilícito, Irregularidade grave, Indício de irregularidade grave, Obras, serviços ou compras de grande vulto   \n",
       "\n",
       "                                                                                                                                                                                                  7  \\\n",
       "0                                        técnica e preço - Licitação de técnica e preço, Proposta técnica, Tipo de licitação, Proposta, Licitação de melhor técnica, Proposta de preço, Preço médio   \n",
       "1                                                  restos a pagar - Cota-parte, Recolhimento, Quitação, Passivo compensado, Passivo circulante, Despesas de exercícios anteriores, Ativo compensado   \n",
       "2                                              aditivo a contrato - Termo aditivo, Aditivo qualitativo, Aditivo quantitativo, Apostila (Licitação), Alteração contratual, Ajuste, Jogo de planilhas   \n",
       "3  adesão a ata de registro de preços - Sistema de Registro de Preços, Princípio da vinculação ao instrumento convocatório, Intenção de Registro de Preços, Contrato de adesão, Impugnação de preço   \n",
       "4          sobrepreço e superfaturamento - Faturamento, Licitação, Enriquecimento ilícito, Irregularidade grave, Indício de irregularidade grave, Obras, serviços ou compras de grande vulto, Preço   \n",
       "\n",
       "                                                                                                                                                                                                         8  \\\n",
       "0                         técnica e preço - Licitação de técnica e preço, Proposta técnica, Tipo de licitação, Proposta, Licitação de melhor técnica, Proposta de preço, Preço médio, Eficiência de custos   \n",
       "1                                                 restos a pagar - Cota-parte, Recolhimento, Quitação, Passivo compensado, Passivo circulante, Despesas de exercícios anteriores, Ativo compensado, Dívida   \n",
       "2                                          aditivo a contrato - Termo aditivo, Aditivo qualitativo, Aditivo quantitativo, Apostila (Licitação), Alteração contratual, Ajuste, Jogo de planilhas, Acréscimo   \n",
       "3         adesão a ata de registro de preços - Sistema de Registro de Preços, Princípio da vinculação ao instrumento convocatório, Intenção de Registro de Preços, Contrato de adesão, Impugnação de preço   \n",
       "4  sobrepreço e superfaturamento - Faturamento, Licitação, Enriquecimento ilícito, Irregularidade grave, Indício de irregularidade grave, Obras, serviços ou compras de grande vulto, Preço, Excesso de...   \n",
       "\n",
       "                                                                                                                                                                                                         9  \\\n",
       "0       técnica e preço - Licitação de técnica e preço, Proposta técnica, Tipo de licitação, Proposta, Licitação de melhor técnica, Proposta de preço, Preço médio, Eficiência de custos, Índice de preços   \n",
       "1                              restos a pagar - Cota-parte, Recolhimento, Quitação, Passivo compensado, Passivo circulante, Despesas de exercícios anteriores, Ativo compensado, Dívida, Despesa empenhada   \n",
       "2                           aditivo a contrato - Termo aditivo, Aditivo qualitativo, Aditivo quantitativo, Apostila (Licitação), Alteração contratual, Ajuste, Jogo de planilhas, Acréscimo, Apostilamento   \n",
       "3         adesão a ata de registro de preços - Sistema de Registro de Preços, Princípio da vinculação ao instrumento convocatório, Intenção de Registro de Preços, Contrato de adesão, Impugnação de preço   \n",
       "4  sobrepreço e superfaturamento - Faturamento, Licitação, Enriquecimento ilícito, Irregularidade grave, Indício de irregularidade grave, Obras, serviços ou compras de grande vulto, Preço, Excesso de...   \n",
       "\n",
       "                                                                                                                                                                                                        10  \n",
       "0       técnica e preço - Licitação de técnica e preço, Proposta técnica, Tipo de licitação, Proposta, Licitação de melhor técnica, Proposta de preço, Preço médio, Eficiência de custos, Índice de preços  \n",
       "1                              restos a pagar - Cota-parte, Recolhimento, Quitação, Passivo compensado, Passivo circulante, Despesas de exercícios anteriores, Ativo compensado, Dívida, Despesa empenhada  \n",
       "2                           aditivo a contrato - Termo aditivo, Aditivo qualitativo, Aditivo quantitativo, Apostila (Licitação), Alteração contratual, Ajuste, Jogo de planilhas, Acréscimo, Apostilamento  \n",
       "3         adesão a ata de registro de preços - Sistema de Registro de Preços, Princípio da vinculação ao instrumento convocatório, Intenção de Registro de Preços, Contrato de adesão, Impugnação de preço  \n",
       "4  sobrepreço e superfaturamento - Faturamento, Licitação, Enriquecimento ilícito, Irregularidade grave, Indício de irregularidade grave, Obras, serviços ou compras de grande vulto, Preço, Excesso de...  "
      ]
     },
     "execution_count": 19,
     "metadata": {},
     "output_type": "execute_result"
    }
   ],
   "source": [
    "df_query.head()"
   ]
  },
  {
   "cell_type": "code",
   "execution_count": 20,
   "metadata": {},
   "outputs": [],
   "source": [
    "df_query = df_query.reset_index(drop=True)"
   ]
  },
  {
   "cell_type": "markdown",
   "metadata": {},
   "source": []
  },
  {
   "attachments": {},
   "cell_type": "markdown",
   "metadata": {},
   "source": [
    "## Qrel data load"
   ]
  },
  {
   "cell_type": "code",
   "execution_count": 21,
   "id": "1cf03f22",
   "metadata": {},
   "outputs": [],
   "source": [
    "df_qrel = pd.read_csv(PATH_QREL)"
   ]
  },
  {
   "cell_type": "code",
   "execution_count": 22,
   "metadata": {},
   "outputs": [
    {
     "data": {
      "text/plain": [
       "(2250, 5)"
      ]
     },
     "execution_count": 22,
     "metadata": {},
     "output_type": "execute_result"
    }
   ],
   "source": [
    "df_qrel.shape"
   ]
  },
  {
   "cell_type": "code",
   "execution_count": 23,
   "id": "a75dd812",
   "metadata": {},
   "outputs": [
    {
     "data": {
      "text/html": [
       "<div>\n",
       "<style scoped>\n",
       "    .dataframe tbody tr th:only-of-type {\n",
       "        vertical-align: middle;\n",
       "    }\n",
       "\n",
       "    .dataframe tbody tr th {\n",
       "        vertical-align: top;\n",
       "    }\n",
       "\n",
       "    .dataframe thead th {\n",
       "        text-align: right;\n",
       "    }\n",
       "</style>\n",
       "<table border=\"1\" class=\"dataframe\">\n",
       "  <thead>\n",
       "    <tr style=\"text-align: right;\">\n",
       "      <th></th>\n",
       "      <th>QUERY_ID</th>\n",
       "      <th>DOC_ID</th>\n",
       "      <th>SCORE</th>\n",
       "      <th>ENGINE</th>\n",
       "      <th>RANK</th>\n",
       "    </tr>\n",
       "  </thead>\n",
       "  <tbody>\n",
       "    <tr>\n",
       "      <th>0</th>\n",
       "      <td>1</td>\n",
       "      <td>21064</td>\n",
       "      <td>3</td>\n",
       "      <td>(BM25|STS)+Reranker+LLM</td>\n",
       "      <td>1</td>\n",
       "    </tr>\n",
       "    <tr>\n",
       "      <th>1</th>\n",
       "      <td>1</td>\n",
       "      <td>42166</td>\n",
       "      <td>3</td>\n",
       "      <td>(BM25|STS)+Reranker+LLM</td>\n",
       "      <td>2</td>\n",
       "    </tr>\n",
       "    <tr>\n",
       "      <th>2</th>\n",
       "      <td>1</td>\n",
       "      <td>13702</td>\n",
       "      <td>3</td>\n",
       "      <td>(BM25|STS)+Reranker+LLM</td>\n",
       "      <td>3</td>\n",
       "    </tr>\n",
       "    <tr>\n",
       "      <th>3</th>\n",
       "      <td>1</td>\n",
       "      <td>20592</td>\n",
       "      <td>3</td>\n",
       "      <td>(BM25|STS)+Reranker+LLM</td>\n",
       "      <td>4</td>\n",
       "    </tr>\n",
       "    <tr>\n",
       "      <th>4</th>\n",
       "      <td>1</td>\n",
       "      <td>15740</td>\n",
       "      <td>3</td>\n",
       "      <td>(BM25|STS)+Reranker+LLM</td>\n",
       "      <td>5</td>\n",
       "    </tr>\n",
       "    <tr>\n",
       "      <th>5</th>\n",
       "      <td>1</td>\n",
       "      <td>53641</td>\n",
       "      <td>3</td>\n",
       "      <td>(BM25|STS)+Reranker+LLM</td>\n",
       "      <td>6</td>\n",
       "    </tr>\n",
       "    <tr>\n",
       "      <th>6</th>\n",
       "      <td>1</td>\n",
       "      <td>31601</td>\n",
       "      <td>3</td>\n",
       "      <td>(BM25|STS)+Reranker+LLM</td>\n",
       "      <td>7</td>\n",
       "    </tr>\n",
       "    <tr>\n",
       "      <th>7</th>\n",
       "      <td>1</td>\n",
       "      <td>54765</td>\n",
       "      <td>3</td>\n",
       "      <td>(BM25|STS)+Reranker+LLM</td>\n",
       "      <td>8</td>\n",
       "    </tr>\n",
       "    <tr>\n",
       "      <th>8</th>\n",
       "      <td>1</td>\n",
       "      <td>20506</td>\n",
       "      <td>3</td>\n",
       "      <td>(BM25|STS)+Reranker+LLM</td>\n",
       "      <td>9</td>\n",
       "    </tr>\n",
       "    <tr>\n",
       "      <th>9</th>\n",
       "      <td>1</td>\n",
       "      <td>47161</td>\n",
       "      <td>3</td>\n",
       "      <td>(BM25|STS)+Reranker+LLM</td>\n",
       "      <td>10</td>\n",
       "    </tr>\n",
       "    <tr>\n",
       "      <th>10</th>\n",
       "      <td>1</td>\n",
       "      <td>161</td>\n",
       "      <td>1</td>\n",
       "      <td>BM25+LLM</td>\n",
       "      <td>52</td>\n",
       "    </tr>\n",
       "    <tr>\n",
       "      <th>11</th>\n",
       "      <td>1</td>\n",
       "      <td>11595</td>\n",
       "      <td>1</td>\n",
       "      <td>BM25+LLM</td>\n",
       "      <td>250</td>\n",
       "    </tr>\n",
       "    <tr>\n",
       "      <th>12</th>\n",
       "      <td>1</td>\n",
       "      <td>40647</td>\n",
       "      <td>1</td>\n",
       "      <td>BM25+LLM</td>\n",
       "      <td>283</td>\n",
       "    </tr>\n",
       "    <tr>\n",
       "      <th>13</th>\n",
       "      <td>1</td>\n",
       "      <td>22155</td>\n",
       "      <td>1</td>\n",
       "      <td>BM25+LLM</td>\n",
       "      <td>474</td>\n",
       "    </tr>\n",
       "    <tr>\n",
       "      <th>14</th>\n",
       "      <td>1</td>\n",
       "      <td>18435</td>\n",
       "      <td>1</td>\n",
       "      <td>BM25+LLM</td>\n",
       "      <td>905</td>\n",
       "    </tr>\n",
       "  </tbody>\n",
       "</table>\n",
       "</div>"
      ],
      "text/plain": [
       "    QUERY_ID  DOC_ID  SCORE                   ENGINE  RANK\n",
       "0          1   21064      3  (BM25|STS)+Reranker+LLM     1\n",
       "1          1   42166      3  (BM25|STS)+Reranker+LLM     2\n",
       "2          1   13702      3  (BM25|STS)+Reranker+LLM     3\n",
       "3          1   20592      3  (BM25|STS)+Reranker+LLM     4\n",
       "4          1   15740      3  (BM25|STS)+Reranker+LLM     5\n",
       "5          1   53641      3  (BM25|STS)+Reranker+LLM     6\n",
       "6          1   31601      3  (BM25|STS)+Reranker+LLM     7\n",
       "7          1   54765      3  (BM25|STS)+Reranker+LLM     8\n",
       "8          1   20506      3  (BM25|STS)+Reranker+LLM     9\n",
       "9          1   47161      3  (BM25|STS)+Reranker+LLM    10\n",
       "10         1     161      1                 BM25+LLM    52\n",
       "11         1   11595      1                 BM25+LLM   250\n",
       "12         1   40647      1                 BM25+LLM   283\n",
       "13         1   22155      1                 BM25+LLM   474\n",
       "14         1   18435      1                 BM25+LLM   905"
      ]
     },
     "execution_count": 23,
     "metadata": {},
     "output_type": "execute_result"
    }
   ],
   "source": [
    "df_qrel.head(15)"
   ]
  },
  {
   "cell_type": "code",
   "execution_count": 24,
   "metadata": {},
   "outputs": [
    {
     "data": {
      "text/plain": [
       "2250"
      ]
     },
     "execution_count": 24,
     "metadata": {},
     "output_type": "execute_result"
    }
   ],
   "source": [
    "df_qrel.shape[0]"
   ]
  },
  {
   "cell_type": "code",
   "execution_count": 25,
   "metadata": {},
   "outputs": [],
   "source": [
    "df_search_data = df_query.merge(df_qrel, how='left', left_on='ID', right_on='QUERY_ID').drop('QUERY_ID', axis=1)"
   ]
  },
  {
   "cell_type": "code",
   "execution_count": 26,
   "metadata": {},
   "outputs": [
    {
     "data": {
      "text/plain": [
       "(2250, 17)"
      ]
     },
     "execution_count": 26,
     "metadata": {},
     "output_type": "execute_result"
    }
   ],
   "source": [
    "df_search_data.shape\n"
   ]
  },
  {
   "cell_type": "code",
   "execution_count": 27,
   "metadata": {},
   "outputs": [],
   "source": [
    "# Agrupar os dados pelo ID e criar a coluna 'RELEVANCE_LIST' com a lista de tuplas\n",
    "# df_new = df_search_data.groupby('ID').apply(lambda x: list(zip(x['DOC_ID'], x['TYPE']))).reset_index(name='RELEVANCE_LIST')\n",
    "# df_new['RELEVANCE_LIST'] = df_new['RELEVANCE_LIST'].apply(lambda x: sorted(x, key=lambda tup: ('AREA', 'TEMA', 'SUBTEMA', 'INDEXACAO_EXTRA').index(tup[1])))\n",
    "df_new = df_search_data.groupby('ID').apply(lambda x: dict(zip(x['DOC_ID'], x['SCORE']))).reset_index(name='RELEVANCE_DICT')\n"
   ]
  },
  {
   "cell_type": "code",
   "execution_count": 28,
   "metadata": {},
   "outputs": [
    {
     "data": {
      "text/html": [
       "<div>\n",
       "<style scoped>\n",
       "    .dataframe tbody tr th:only-of-type {\n",
       "        vertical-align: middle;\n",
       "    }\n",
       "\n",
       "    .dataframe tbody tr th {\n",
       "        vertical-align: top;\n",
       "    }\n",
       "\n",
       "    .dataframe thead th {\n",
       "        text-align: right;\n",
       "    }\n",
       "</style>\n",
       "<table border=\"1\" class=\"dataframe\">\n",
       "  <thead>\n",
       "    <tr style=\"text-align: right;\">\n",
       "      <th></th>\n",
       "      <th>ID</th>\n",
       "      <th>RELEVANCE_DICT</th>\n",
       "    </tr>\n",
       "  </thead>\n",
       "  <tbody>\n",
       "    <tr>\n",
       "      <th>0</th>\n",
       "      <td>1</td>\n",
       "      <td>{21064: 3, 42166: 3, 13702: 3, 20592: 3, 15740: 3, 53641: 3, 31601: 3, 54765: 3, 20506: 3, 47161: 3, 161: 1, 11595: 1, 40647: 1, 22155: 1, 18435: 1}</td>\n",
       "    </tr>\n",
       "    <tr>\n",
       "      <th>1</th>\n",
       "      <td>2</td>\n",
       "      <td>{31437: 3, 19340: 3, 77959: 3, 17289: 2, 18452: 2, 18105: 1, 19636: 1, 31274: 0, 17258: 0, 32865: 0, 19738: 0, 104484: 0, 90647: 0, 21876: 0, 33096: 0}</td>\n",
       "    </tr>\n",
       "    <tr>\n",
       "      <th>2</th>\n",
       "      <td>3</td>\n",
       "      <td>{18380: 3, 31102: 3, 17240: 3, 20511: 3, 32589: 3, 20510: 3, 17816: 3, 18058: 2, 17225: 2, 57354: 2, 18003: 2, 3881: 2, 31096: 1, 20901: 1, 11621: 1}</td>\n",
       "    </tr>\n",
       "    <tr>\n",
       "      <th>3</th>\n",
       "      <td>4</td>\n",
       "      <td>{16895: 3, 45015: 3, 14526: 3, 62306: 3, 6237: 3, 50537: 3, 16981: 3, 21201: 3, 77927: 3, 84935: 3, 22098: 1, 18410: 1, 8858: 1, 60811: 0, 42906: 0}</td>\n",
       "    </tr>\n",
       "    <tr>\n",
       "      <th>4</th>\n",
       "      <td>5</td>\n",
       "      <td>{21172: 3, 17816: 3, 4066: 3, 53003: 3, 94290: 3, 114656: 3, 50616: 3, 144170: 3, 16277: 3, 59226: 3, 18047: 2, 31612: 1, 18036: 1, 42583: 0, 29387: 0}</td>\n",
       "    </tr>\n",
       "  </tbody>\n",
       "</table>\n",
       "</div>"
      ],
      "text/plain": [
       "   ID                                                                                                                                           RELEVANCE_DICT\n",
       "0   1     {21064: 3, 42166: 3, 13702: 3, 20592: 3, 15740: 3, 53641: 3, 31601: 3, 54765: 3, 20506: 3, 47161: 3, 161: 1, 11595: 1, 40647: 1, 22155: 1, 18435: 1}\n",
       "1   2  {31437: 3, 19340: 3, 77959: 3, 17289: 2, 18452: 2, 18105: 1, 19636: 1, 31274: 0, 17258: 0, 32865: 0, 19738: 0, 104484: 0, 90647: 0, 21876: 0, 33096: 0}\n",
       "2   3    {18380: 3, 31102: 3, 17240: 3, 20511: 3, 32589: 3, 20510: 3, 17816: 3, 18058: 2, 17225: 2, 57354: 2, 18003: 2, 3881: 2, 31096: 1, 20901: 1, 11621: 1}\n",
       "3   4     {16895: 3, 45015: 3, 14526: 3, 62306: 3, 6237: 3, 50537: 3, 16981: 3, 21201: 3, 77927: 3, 84935: 3, 22098: 1, 18410: 1, 8858: 1, 60811: 0, 42906: 0}\n",
       "4   5  {21172: 3, 17816: 3, 4066: 3, 53003: 3, 94290: 3, 114656: 3, 50616: 3, 144170: 3, 16277: 3, 59226: 3, 18047: 2, 31612: 1, 18036: 1, 42583: 0, 29387: 0}"
      ]
     },
     "execution_count": 28,
     "metadata": {},
     "output_type": "execute_result"
    }
   ],
   "source": [
    "df_new.head()"
   ]
  },
  {
   "cell_type": "code",
   "execution_count": 29,
   "metadata": {},
   "outputs": [],
   "source": [
    "# Unir o resultado com as demais colunas únicas\n",
    "df_new = pd.merge(df_new, df_search_data.drop_duplicates('ID'), on='ID', how='left')"
   ]
  },
  {
   "cell_type": "code",
   "execution_count": 30,
   "metadata": {},
   "outputs": [
    {
     "data": {
      "text/plain": [
       "Index(['ID', 'RELEVANCE_DICT', 'TEXT', 'SOURCE', '1', '2', '3', '4', '5', '6', '7', '8', '9', '10', 'DOC_ID', 'SCORE', 'ENGINE', 'RANK'], dtype='object')"
      ]
     },
     "execution_count": 30,
     "metadata": {},
     "output_type": "execute_result"
    }
   ],
   "source": [
    "df_new.columns"
   ]
  },
  {
   "cell_type": "code",
   "execution_count": 31,
   "metadata": {},
   "outputs": [],
   "source": [
    "df_search_data = df_new.drop(['DOC_ID', 'SCORE', 'ENGINE', 'RANK'], axis=1)"
   ]
  },
  {
   "cell_type": "code",
   "execution_count": 32,
   "metadata": {},
   "outputs": [
    {
     "data": {
      "text/plain": [
       "(150, 14)"
      ]
     },
     "execution_count": 32,
     "metadata": {},
     "output_type": "execute_result"
    }
   ],
   "source": [
    "df_search_data.shape"
   ]
  },
  {
   "cell_type": "code",
   "execution_count": 33,
   "metadata": {},
   "outputs": [
    {
     "data": {
      "text/html": [
       "<div>\n",
       "<style scoped>\n",
       "    .dataframe tbody tr th:only-of-type {\n",
       "        vertical-align: middle;\n",
       "    }\n",
       "\n",
       "    .dataframe tbody tr th {\n",
       "        vertical-align: top;\n",
       "    }\n",
       "\n",
       "    .dataframe thead th {\n",
       "        text-align: right;\n",
       "    }\n",
       "</style>\n",
       "<table border=\"1\" class=\"dataframe\">\n",
       "  <thead>\n",
       "    <tr style=\"text-align: right;\">\n",
       "      <th></th>\n",
       "      <th>ID</th>\n",
       "      <th>RELEVANCE_DICT</th>\n",
       "      <th>TEXT</th>\n",
       "      <th>SOURCE</th>\n",
       "      <th>1</th>\n",
       "      <th>2</th>\n",
       "      <th>3</th>\n",
       "      <th>4</th>\n",
       "      <th>5</th>\n",
       "      <th>6</th>\n",
       "      <th>7</th>\n",
       "      <th>8</th>\n",
       "      <th>9</th>\n",
       "      <th>10</th>\n",
       "    </tr>\n",
       "  </thead>\n",
       "  <tbody>\n",
       "    <tr>\n",
       "      <th>0</th>\n",
       "      <td>1</td>\n",
       "      <td>{21064: 3, 42166: 3, 13702: 3, 20592: 3, 15740: 3, 53641: 3, 31601: 3, 54765: 3, 20506: 3, 47161: 3, 161: 1, 11595: 1, 40647: 1, 22155: 1, 18435: 1}</td>\n",
       "      <td>técnica e preço</td>\n",
       "      <td>search log</td>\n",
       "      <td>técnica e preço - Licitação de técnica e preço</td>\n",
       "      <td>técnica e preço - Licitação de técnica e preço, Proposta técnica</td>\n",
       "      <td>técnica e preço - Licitação de técnica e preço, Proposta técnica, Tipo de licitação</td>\n",
       "      <td>técnica e preço - Licitação de técnica e preço, Proposta técnica, Tipo de licitação, Proposta</td>\n",
       "      <td>técnica e preço - Licitação de técnica e preço, Proposta técnica, Tipo de licitação, Proposta, Licitação de melhor técnica</td>\n",
       "      <td>técnica e preço - Licitação de técnica e preço, Proposta técnica, Tipo de licitação, Proposta, Licitação de melhor técnica, Proposta de preço</td>\n",
       "      <td>técnica e preço - Licitação de técnica e preço, Proposta técnica, Tipo de licitação, Proposta, Licitação de melhor técnica, Proposta de preço, Preço médio</td>\n",
       "      <td>técnica e preço - Licitação de técnica e preço, Proposta técnica, Tipo de licitação, Proposta, Licitação de melhor técnica, Proposta de preço, Preço médio, Eficiência de custos</td>\n",
       "      <td>técnica e preço - Licitação de técnica e preço, Proposta técnica, Tipo de licitação, Proposta, Licitação de melhor técnica, Proposta de preço, Preço médio, Eficiência de custos, Índice de preços</td>\n",
       "      <td>técnica e preço - Licitação de técnica e preço, Proposta técnica, Tipo de licitação, Proposta, Licitação de melhor técnica, Proposta de preço, Preço médio, Eficiência de custos, Índice de preços</td>\n",
       "    </tr>\n",
       "    <tr>\n",
       "      <th>1</th>\n",
       "      <td>2</td>\n",
       "      <td>{31437: 3, 19340: 3, 77959: 3, 17289: 2, 18452: 2, 18105: 1, 19636: 1, 31274: 0, 17258: 0, 32865: 0, 19738: 0, 104484: 0, 90647: 0, 21876: 0, 33096: 0}</td>\n",
       "      <td>restos a pagar</td>\n",
       "      <td>search log</td>\n",
       "      <td>restos a pagar - Cota-parte</td>\n",
       "      <td>restos a pagar - Cota-parte, Recolhimento</td>\n",
       "      <td>restos a pagar - Cota-parte, Recolhimento, Quitação</td>\n",
       "      <td>restos a pagar - Cota-parte, Recolhimento, Quitação, Passivo compensado</td>\n",
       "      <td>restos a pagar - Cota-parte, Recolhimento, Quitação, Passivo compensado, Passivo circulante</td>\n",
       "      <td>restos a pagar - Cota-parte, Recolhimento, Quitação, Passivo compensado, Passivo circulante, Despesas de exercícios anteriores</td>\n",
       "      <td>restos a pagar - Cota-parte, Recolhimento, Quitação, Passivo compensado, Passivo circulante, Despesas de exercícios anteriores, Ativo compensado</td>\n",
       "      <td>restos a pagar - Cota-parte, Recolhimento, Quitação, Passivo compensado, Passivo circulante, Despesas de exercícios anteriores, Ativo compensado, Dívida</td>\n",
       "      <td>restos a pagar - Cota-parte, Recolhimento, Quitação, Passivo compensado, Passivo circulante, Despesas de exercícios anteriores, Ativo compensado, Dívida, Despesa empenhada</td>\n",
       "      <td>restos a pagar - Cota-parte, Recolhimento, Quitação, Passivo compensado, Passivo circulante, Despesas de exercícios anteriores, Ativo compensado, Dívida, Despesa empenhada</td>\n",
       "    </tr>\n",
       "    <tr>\n",
       "      <th>2</th>\n",
       "      <td>3</td>\n",
       "      <td>{18380: 3, 31102: 3, 17240: 3, 20511: 3, 32589: 3, 20510: 3, 17816: 3, 18058: 2, 17225: 2, 57354: 2, 18003: 2, 3881: 2, 31096: 1, 20901: 1, 11621: 1}</td>\n",
       "      <td>aditivo a contrato</td>\n",
       "      <td>search log</td>\n",
       "      <td>aditivo a contrato - Termo aditivo</td>\n",
       "      <td>aditivo a contrato - Termo aditivo, Aditivo qualitativo</td>\n",
       "      <td>aditivo a contrato - Termo aditivo, Aditivo qualitativo, Aditivo quantitativo</td>\n",
       "      <td>aditivo a contrato - Termo aditivo, Aditivo qualitativo, Aditivo quantitativo, Apostila (Licitação)</td>\n",
       "      <td>aditivo a contrato - Termo aditivo, Aditivo qualitativo, Aditivo quantitativo, Apostila (Licitação), Alteração contratual</td>\n",
       "      <td>aditivo a contrato - Termo aditivo, Aditivo qualitativo, Aditivo quantitativo, Apostila (Licitação), Alteração contratual, Ajuste</td>\n",
       "      <td>aditivo a contrato - Termo aditivo, Aditivo qualitativo, Aditivo quantitativo, Apostila (Licitação), Alteração contratual, Ajuste, Jogo de planilhas</td>\n",
       "      <td>aditivo a contrato - Termo aditivo, Aditivo qualitativo, Aditivo quantitativo, Apostila (Licitação), Alteração contratual, Ajuste, Jogo de planilhas, Acréscimo</td>\n",
       "      <td>aditivo a contrato - Termo aditivo, Aditivo qualitativo, Aditivo quantitativo, Apostila (Licitação), Alteração contratual, Ajuste, Jogo de planilhas, Acréscimo, Apostilamento</td>\n",
       "      <td>aditivo a contrato - Termo aditivo, Aditivo qualitativo, Aditivo quantitativo, Apostila (Licitação), Alteração contratual, Ajuste, Jogo de planilhas, Acréscimo, Apostilamento</td>\n",
       "    </tr>\n",
       "    <tr>\n",
       "      <th>3</th>\n",
       "      <td>4</td>\n",
       "      <td>{16895: 3, 45015: 3, 14526: 3, 62306: 3, 6237: 3, 50537: 3, 16981: 3, 21201: 3, 77927: 3, 84935: 3, 22098: 1, 18410: 1, 8858: 1, 60811: 0, 42906: 0}</td>\n",
       "      <td>adesão a ata de registro de preços</td>\n",
       "      <td>search log</td>\n",
       "      <td>adesão a ata de registro de preços - Sistema de Registro de Preços</td>\n",
       "      <td>adesão a ata de registro de preços - Sistema de Registro de Preços, Princípio da vinculação ao instrumento convocatório</td>\n",
       "      <td>adesão a ata de registro de preços - Sistema de Registro de Preços, Princípio da vinculação ao instrumento convocatório, Intenção de Registro de Preços</td>\n",
       "      <td>adesão a ata de registro de preços - Sistema de Registro de Preços, Princípio da vinculação ao instrumento convocatório, Intenção de Registro de Preços, Contrato de adesão</td>\n",
       "      <td>adesão a ata de registro de preços - Sistema de Registro de Preços, Princípio da vinculação ao instrumento convocatório, Intenção de Registro de Preços, Contrato de adesão, Impugnação de preço</td>\n",
       "      <td>adesão a ata de registro de preços - Sistema de Registro de Preços, Princípio da vinculação ao instrumento convocatório, Intenção de Registro de Preços, Contrato de adesão, Impugnação de preço</td>\n",
       "      <td>adesão a ata de registro de preços - Sistema de Registro de Preços, Princípio da vinculação ao instrumento convocatório, Intenção de Registro de Preços, Contrato de adesão, Impugnação de preço</td>\n",
       "      <td>adesão a ata de registro de preços - Sistema de Registro de Preços, Princípio da vinculação ao instrumento convocatório, Intenção de Registro de Preços, Contrato de adesão, Impugnação de preço</td>\n",
       "      <td>adesão a ata de registro de preços - Sistema de Registro de Preços, Princípio da vinculação ao instrumento convocatório, Intenção de Registro de Preços, Contrato de adesão, Impugnação de preço</td>\n",
       "      <td>adesão a ata de registro de preços - Sistema de Registro de Preços, Princípio da vinculação ao instrumento convocatório, Intenção de Registro de Preços, Contrato de adesão, Impugnação de preço</td>\n",
       "    </tr>\n",
       "    <tr>\n",
       "      <th>4</th>\n",
       "      <td>5</td>\n",
       "      <td>{21172: 3, 17816: 3, 4066: 3, 53003: 3, 94290: 3, 114656: 3, 50616: 3, 144170: 3, 16277: 3, 59226: 3, 18047: 2, 31612: 1, 18036: 1, 42583: 0, 29387: 0}</td>\n",
       "      <td>sobrepreço e superfaturamento</td>\n",
       "      <td>search log</td>\n",
       "      <td>sobrepreço e superfaturamento - Faturamento</td>\n",
       "      <td>sobrepreço e superfaturamento - Faturamento, Licitação</td>\n",
       "      <td>sobrepreço e superfaturamento - Faturamento, Licitação, Enriquecimento ilícito</td>\n",
       "      <td>sobrepreço e superfaturamento - Faturamento, Licitação, Enriquecimento ilícito, Irregularidade grave</td>\n",
       "      <td>sobrepreço e superfaturamento - Faturamento, Licitação, Enriquecimento ilícito, Irregularidade grave, Indício de irregularidade grave</td>\n",
       "      <td>sobrepreço e superfaturamento - Faturamento, Licitação, Enriquecimento ilícito, Irregularidade grave, Indício de irregularidade grave, Obras, serviços ou compras de grande vulto</td>\n",
       "      <td>sobrepreço e superfaturamento - Faturamento, Licitação, Enriquecimento ilícito, Irregularidade grave, Indício de irregularidade grave, Obras, serviços ou compras de grande vulto, Preço</td>\n",
       "      <td>sobrepreço e superfaturamento - Faturamento, Licitação, Enriquecimento ilícito, Irregularidade grave, Indício de irregularidade grave, Obras, serviços ou compras de grande vulto, Preço, Excesso de...</td>\n",
       "      <td>sobrepreço e superfaturamento - Faturamento, Licitação, Enriquecimento ilícito, Irregularidade grave, Indício de irregularidade grave, Obras, serviços ou compras de grande vulto, Preço, Excesso de...</td>\n",
       "      <td>sobrepreço e superfaturamento - Faturamento, Licitação, Enriquecimento ilícito, Irregularidade grave, Indício de irregularidade grave, Obras, serviços ou compras de grande vulto, Preço, Excesso de...</td>\n",
       "    </tr>\n",
       "  </tbody>\n",
       "</table>\n",
       "</div>"
      ],
      "text/plain": [
       "   ID                                                                                                                                           RELEVANCE_DICT                                TEXT  \\\n",
       "0   1     {21064: 3, 42166: 3, 13702: 3, 20592: 3, 15740: 3, 53641: 3, 31601: 3, 54765: 3, 20506: 3, 47161: 3, 161: 1, 11595: 1, 40647: 1, 22155: 1, 18435: 1}                     técnica e preço   \n",
       "1   2  {31437: 3, 19340: 3, 77959: 3, 17289: 2, 18452: 2, 18105: 1, 19636: 1, 31274: 0, 17258: 0, 32865: 0, 19738: 0, 104484: 0, 90647: 0, 21876: 0, 33096: 0}                      restos a pagar   \n",
       "2   3    {18380: 3, 31102: 3, 17240: 3, 20511: 3, 32589: 3, 20510: 3, 17816: 3, 18058: 2, 17225: 2, 57354: 2, 18003: 2, 3881: 2, 31096: 1, 20901: 1, 11621: 1}                  aditivo a contrato   \n",
       "3   4     {16895: 3, 45015: 3, 14526: 3, 62306: 3, 6237: 3, 50537: 3, 16981: 3, 21201: 3, 77927: 3, 84935: 3, 22098: 1, 18410: 1, 8858: 1, 60811: 0, 42906: 0}  adesão a ata de registro de preços   \n",
       "4   5  {21172: 3, 17816: 3, 4066: 3, 53003: 3, 94290: 3, 114656: 3, 50616: 3, 144170: 3, 16277: 3, 59226: 3, 18047: 2, 31612: 1, 18036: 1, 42583: 0, 29387: 0}       sobrepreço e superfaturamento   \n",
       "\n",
       "       SOURCE                                                                   1  \\\n",
       "0  search log                      técnica e preço - Licitação de técnica e preço   \n",
       "1  search log                                         restos a pagar - Cota-parte   \n",
       "2  search log                                  aditivo a contrato - Termo aditivo   \n",
       "3  search log  adesão a ata de registro de preços - Sistema de Registro de Preços   \n",
       "4  search log                         sobrepreço e superfaturamento - Faturamento   \n",
       "\n",
       "                                                                                                                         2  \\\n",
       "0                                                         técnica e preço - Licitação de técnica e preço, Proposta técnica   \n",
       "1                                                                                restos a pagar - Cota-parte, Recolhimento   \n",
       "2                                                                  aditivo a contrato - Termo aditivo, Aditivo qualitativo   \n",
       "3  adesão a ata de registro de preços - Sistema de Registro de Preços, Princípio da vinculação ao instrumento convocatório   \n",
       "4                                                                   sobrepreço e superfaturamento - Faturamento, Licitação   \n",
       "\n",
       "                                                                                                                                                         3  \\\n",
       "0                                                                      técnica e preço - Licitação de técnica e preço, Proposta técnica, Tipo de licitação   \n",
       "1                                                                                                      restos a pagar - Cota-parte, Recolhimento, Quitação   \n",
       "2                                                                            aditivo a contrato - Termo aditivo, Aditivo qualitativo, Aditivo quantitativo   \n",
       "3  adesão a ata de registro de preços - Sistema de Registro de Preços, Princípio da vinculação ao instrumento convocatório, Intenção de Registro de Preços   \n",
       "4                                                                           sobrepreço e superfaturamento - Faturamento, Licitação, Enriquecimento ilícito   \n",
       "\n",
       "                                                                                                                                                                             4  \\\n",
       "0                                                                                técnica e preço - Licitação de técnica e preço, Proposta técnica, Tipo de licitação, Proposta   \n",
       "1                                                                                                      restos a pagar - Cota-parte, Recolhimento, Quitação, Passivo compensado   \n",
       "2                                                                          aditivo a contrato - Termo aditivo, Aditivo qualitativo, Aditivo quantitativo, Apostila (Licitação)   \n",
       "3  adesão a ata de registro de preços - Sistema de Registro de Preços, Princípio da vinculação ao instrumento convocatório, Intenção de Registro de Preços, Contrato de adesão   \n",
       "4                                                                         sobrepreço e superfaturamento - Faturamento, Licitação, Enriquecimento ilícito, Irregularidade grave   \n",
       "\n",
       "                                                                                                                                                                                                  5  \\\n",
       "0                                                                        técnica e preço - Licitação de técnica e preço, Proposta técnica, Tipo de licitação, Proposta, Licitação de melhor técnica   \n",
       "1                                                                                                       restos a pagar - Cota-parte, Recolhimento, Quitação, Passivo compensado, Passivo circulante   \n",
       "2                                                                         aditivo a contrato - Termo aditivo, Aditivo qualitativo, Aditivo quantitativo, Apostila (Licitação), Alteração contratual   \n",
       "3  adesão a ata de registro de preços - Sistema de Registro de Preços, Princípio da vinculação ao instrumento convocatório, Intenção de Registro de Preços, Contrato de adesão, Impugnação de preço   \n",
       "4                                                             sobrepreço e superfaturamento - Faturamento, Licitação, Enriquecimento ilícito, Irregularidade grave, Indício de irregularidade grave   \n",
       "\n",
       "                                                                                                                                                                                                  6  \\\n",
       "0                                                     técnica e preço - Licitação de técnica e preço, Proposta técnica, Tipo de licitação, Proposta, Licitação de melhor técnica, Proposta de preço   \n",
       "1                                                                    restos a pagar - Cota-parte, Recolhimento, Quitação, Passivo compensado, Passivo circulante, Despesas de exercícios anteriores   \n",
       "2                                                                 aditivo a contrato - Termo aditivo, Aditivo qualitativo, Aditivo quantitativo, Apostila (Licitação), Alteração contratual, Ajuste   \n",
       "3  adesão a ata de registro de preços - Sistema de Registro de Preços, Princípio da vinculação ao instrumento convocatório, Intenção de Registro de Preços, Contrato de adesão, Impugnação de preço   \n",
       "4                 sobrepreço e superfaturamento - Faturamento, Licitação, Enriquecimento ilícito, Irregularidade grave, Indício de irregularidade grave, Obras, serviços ou compras de grande vulto   \n",
       "\n",
       "                                                                                                                                                                                                  7  \\\n",
       "0                                        técnica e preço - Licitação de técnica e preço, Proposta técnica, Tipo de licitação, Proposta, Licitação de melhor técnica, Proposta de preço, Preço médio   \n",
       "1                                                  restos a pagar - Cota-parte, Recolhimento, Quitação, Passivo compensado, Passivo circulante, Despesas de exercícios anteriores, Ativo compensado   \n",
       "2                                              aditivo a contrato - Termo aditivo, Aditivo qualitativo, Aditivo quantitativo, Apostila (Licitação), Alteração contratual, Ajuste, Jogo de planilhas   \n",
       "3  adesão a ata de registro de preços - Sistema de Registro de Preços, Princípio da vinculação ao instrumento convocatório, Intenção de Registro de Preços, Contrato de adesão, Impugnação de preço   \n",
       "4          sobrepreço e superfaturamento - Faturamento, Licitação, Enriquecimento ilícito, Irregularidade grave, Indício de irregularidade grave, Obras, serviços ou compras de grande vulto, Preço   \n",
       "\n",
       "                                                                                                                                                                                                         8  \\\n",
       "0                         técnica e preço - Licitação de técnica e preço, Proposta técnica, Tipo de licitação, Proposta, Licitação de melhor técnica, Proposta de preço, Preço médio, Eficiência de custos   \n",
       "1                                                 restos a pagar - Cota-parte, Recolhimento, Quitação, Passivo compensado, Passivo circulante, Despesas de exercícios anteriores, Ativo compensado, Dívida   \n",
       "2                                          aditivo a contrato - Termo aditivo, Aditivo qualitativo, Aditivo quantitativo, Apostila (Licitação), Alteração contratual, Ajuste, Jogo de planilhas, Acréscimo   \n",
       "3         adesão a ata de registro de preços - Sistema de Registro de Preços, Princípio da vinculação ao instrumento convocatório, Intenção de Registro de Preços, Contrato de adesão, Impugnação de preço   \n",
       "4  sobrepreço e superfaturamento - Faturamento, Licitação, Enriquecimento ilícito, Irregularidade grave, Indício de irregularidade grave, Obras, serviços ou compras de grande vulto, Preço, Excesso de...   \n",
       "\n",
       "                                                                                                                                                                                                         9  \\\n",
       "0       técnica e preço - Licitação de técnica e preço, Proposta técnica, Tipo de licitação, Proposta, Licitação de melhor técnica, Proposta de preço, Preço médio, Eficiência de custos, Índice de preços   \n",
       "1                              restos a pagar - Cota-parte, Recolhimento, Quitação, Passivo compensado, Passivo circulante, Despesas de exercícios anteriores, Ativo compensado, Dívida, Despesa empenhada   \n",
       "2                           aditivo a contrato - Termo aditivo, Aditivo qualitativo, Aditivo quantitativo, Apostila (Licitação), Alteração contratual, Ajuste, Jogo de planilhas, Acréscimo, Apostilamento   \n",
       "3         adesão a ata de registro de preços - Sistema de Registro de Preços, Princípio da vinculação ao instrumento convocatório, Intenção de Registro de Preços, Contrato de adesão, Impugnação de preço   \n",
       "4  sobrepreço e superfaturamento - Faturamento, Licitação, Enriquecimento ilícito, Irregularidade grave, Indício de irregularidade grave, Obras, serviços ou compras de grande vulto, Preço, Excesso de...   \n",
       "\n",
       "                                                                                                                                                                                                        10  \n",
       "0       técnica e preço - Licitação de técnica e preço, Proposta técnica, Tipo de licitação, Proposta, Licitação de melhor técnica, Proposta de preço, Preço médio, Eficiência de custos, Índice de preços  \n",
       "1                              restos a pagar - Cota-parte, Recolhimento, Quitação, Passivo compensado, Passivo circulante, Despesas de exercícios anteriores, Ativo compensado, Dívida, Despesa empenhada  \n",
       "2                           aditivo a contrato - Termo aditivo, Aditivo qualitativo, Aditivo quantitativo, Apostila (Licitação), Alteração contratual, Ajuste, Jogo de planilhas, Acréscimo, Apostilamento  \n",
       "3         adesão a ata de registro de preços - Sistema de Registro de Preços, Princípio da vinculação ao instrumento convocatório, Intenção de Registro de Preços, Contrato de adesão, Impugnação de preço  \n",
       "4  sobrepreço e superfaturamento - Faturamento, Licitação, Enriquecimento ilícito, Irregularidade grave, Indício de irregularidade grave, Obras, serviços ou compras de grande vulto, Preço, Excesso de...  "
      ]
     },
     "execution_count": 33,
     "metadata": {},
     "output_type": "execute_result"
    }
   ],
   "source": [
    "df_search_data.head()"
   ]
  },
  {
   "cell_type": "code",
   "execution_count": 34,
   "metadata": {},
   "outputs": [],
   "source": [
    "del df_new"
   ]
  },
  {
   "attachments": {},
   "cell_type": "markdown",
   "metadata": {},
   "source": [
    "# Create reference to index (elastic search)"
   ]
  },
  {
   "attachments": {},
   "cell_type": "markdown",
   "metadata": {},
   "source": [
    "Documentation https://docs.haystack.deepset.ai/docs\n",
    "https://haystack.deepset.ai/tutorials/09_dpr_training \n"
   ]
  },
  {
   "cell_type": "code",
   "execution_count": 35,
   "metadata": {},
   "outputs": [
    {
     "name": "stdout",
     "output_type": "stream",
     "text": [
      "Index: indir_juris_tcu\n",
      "{'health': 'yellow', 'status': 'open', 'index': 'indir_juris_tcu', 'uuid': 'RD_aAWppQH6vjNxKUdL_0w', 'pri': '1', 'rep': '1', 'docs.count': '16045', 'docs.deleted': '16045', 'store.size': '334.9mb', 'pri.store.size': '334.9mb'}\n",
      "\n",
      "Index: indir_juris_tcu_term\n",
      "{'health': 'yellow', 'status': 'open', 'index': 'indir_juris_tcu_term', 'uuid': 'S5WlNGiqSXC-79WaqfsddA', 'pri': '1', 'rep': '1', 'docs.count': '16045', 'docs.deleted': '16045', 'store.size': '337.5mb', 'pri.store.size': '337.5mb'}\n",
      "\n",
      "Index: indir_juris_tcu_related_term\n",
      "{'health': 'yellow', 'status': 'open', 'index': 'indir_juris_tcu_related_term', 'uuid': 'i9nzlBQrREyEC7MGT79GBQ', 'pri': '1', 'rep': '1', 'docs.count': '16045', 'docs.deleted': '3651', 'store.size': '346.3mb', 'pri.store.size': '346.3mb'}\n",
      "\n",
      "Index: indir_juris_tcu_synonym_related_term\n",
      "{'health': 'yellow', 'status': 'open', 'index': 'indir_juris_tcu_synonym_related_term', 'uuid': 'OJIJ0P2XQo-s4NRuaT4W_w', 'pri': '1', 'rep': '1', 'docs.count': '16045', 'docs.deleted': '3045', 'store.size': '348.4mb', 'pri.store.size': '348.4mb'}\n",
      "\n",
      "Index: indir_juris_tcu_synonym\n",
      "{'health': 'yellow', 'status': 'open', 'index': 'indir_juris_tcu_synonym', 'uuid': 'nuMe_BWiQNG3r0lHCaeGeg', 'pri': '1', 'rep': '1', 'docs.count': '16045', 'docs.deleted': '5638', 'store.size': '334.5mb', 'pri.store.size': '334.5mb'}\n",
      "\n",
      "Index: indir_juris_tcu_index\n",
      "{'health': 'yellow', 'status': 'open', 'index': 'indir_juris_tcu_index', 'uuid': 'fGjzBrQzRUWTZ6KlnbfLqw', 'pri': '1', 'rep': '1', 'docs.count': '13255', 'docs.deleted': '2755', 'store.size': '281.7mb', 'pri.store.size': '281.7mb'}\n",
      "\n"
     ]
    }
   ],
   "source": [
    "index_dict = util_elastic.return_indexes('indir', parm_print=True)"
   ]
  },
  {
   "cell_type": "code",
   "execution_count": 36,
   "metadata": {},
   "outputs": [
    {
     "data": {
      "text/plain": [
       "{'indir_juris_tcu': {'health': 'yellow',\n",
       "  'status': 'open',\n",
       "  'index': 'indir_juris_tcu',\n",
       "  'uuid': 'RD_aAWppQH6vjNxKUdL_0w',\n",
       "  'pri': '1',\n",
       "  'rep': '1',\n",
       "  'docs.count': '16045',\n",
       "  'docs.deleted': '16045',\n",
       "  'store.size': '334.9mb',\n",
       "  'pri.store.size': '334.9mb'},\n",
       " 'indir_juris_tcu_term': {'health': 'yellow',\n",
       "  'status': 'open',\n",
       "  'index': 'indir_juris_tcu_term',\n",
       "  'uuid': 'S5WlNGiqSXC-79WaqfsddA',\n",
       "  'pri': '1',\n",
       "  'rep': '1',\n",
       "  'docs.count': '16045',\n",
       "  'docs.deleted': '16045',\n",
       "  'store.size': '337.5mb',\n",
       "  'pri.store.size': '337.5mb'},\n",
       " 'indir_juris_tcu_related_term': {'health': 'yellow',\n",
       "  'status': 'open',\n",
       "  'index': 'indir_juris_tcu_related_term',\n",
       "  'uuid': 'i9nzlBQrREyEC7MGT79GBQ',\n",
       "  'pri': '1',\n",
       "  'rep': '1',\n",
       "  'docs.count': '16045',\n",
       "  'docs.deleted': '3651',\n",
       "  'store.size': '346.3mb',\n",
       "  'pri.store.size': '346.3mb'},\n",
       " 'indir_juris_tcu_synonym_related_term': {'health': 'yellow',\n",
       "  'status': 'open',\n",
       "  'index': 'indir_juris_tcu_synonym_related_term',\n",
       "  'uuid': 'OJIJ0P2XQo-s4NRuaT4W_w',\n",
       "  'pri': '1',\n",
       "  'rep': '1',\n",
       "  'docs.count': '16045',\n",
       "  'docs.deleted': '3045',\n",
       "  'store.size': '348.4mb',\n",
       "  'pri.store.size': '348.4mb'},\n",
       " 'indir_juris_tcu_synonym': {'health': 'yellow',\n",
       "  'status': 'open',\n",
       "  'index': 'indir_juris_tcu_synonym',\n",
       "  'uuid': 'nuMe_BWiQNG3r0lHCaeGeg',\n",
       "  'pri': '1',\n",
       "  'rep': '1',\n",
       "  'docs.count': '16045',\n",
       "  'docs.deleted': '5638',\n",
       "  'store.size': '334.5mb',\n",
       "  'pri.store.size': '334.5mb'},\n",
       " 'indir_juris_tcu_index': {'health': 'yellow',\n",
       "  'status': 'open',\n",
       "  'index': 'indir_juris_tcu_index',\n",
       "  'uuid': 'fGjzBrQzRUWTZ6KlnbfLqw',\n",
       "  'pri': '1',\n",
       "  'rep': '1',\n",
       "  'docs.count': '13255',\n",
       "  'docs.deleted': '2755',\n",
       "  'store.size': '281.7mb',\n",
       "  'pri.store.size': '281.7mb'}}"
      ]
     },
     "execution_count": 36,
     "metadata": {},
     "output_type": "execute_result"
    }
   ],
   "source": [
    "index_dict"
   ]
  },
  {
   "cell_type": "code",
   "execution_count": 37,
   "metadata": {},
   "outputs": [],
   "source": [
    "list_name_index = ['indir_juris_tcu', 'indir_juris_tcu_term', 'indir_juris_tcu_synonym', 'indir_juris_tcu_related_term', 'indir_juris_tcu_synonym_related_term' ]"
   ]
  },
  {
   "cell_type": "code",
   "execution_count": 38,
   "metadata": {},
   "outputs": [],
   "source": [
    "reference_data_index = {}"
   ]
  },
  {
   "cell_type": "code",
   "execution_count": 39,
   "metadata": {},
   "outputs": [
    {
     "name": "stdout",
     "output_type": "stream",
     "text": [
      "\n",
      "Qtd de documentos 16045\n",
      "\n",
      "Qtd de embeddings 16045\n",
      "\n",
      "Documento.id=5: <Document: id=5, content='SÚMULA TCU 1: Não se compreendem como vencimento, para efeito de concessão da pensão especial com fu...'>\n",
      "\n",
      "Qtd de documentos 16045\n",
      "\n",
      "Qtd de embeddings 16045\n",
      "\n",
      "Documento.id=5: <Document: id=5, content='SÚMULA TCU 1: Não se compreendem como vencimento, para efeito de concessão da pensão especial com fu...'>\n",
      "\n",
      "Qtd de documentos 16045\n",
      "\n",
      "Qtd de embeddings 16045\n",
      "\n",
      "Documento.id=5: <Document: id=5, content='SÚMULA TCU 1: Não se compreendem como vencimento, para efeito de concessão da pensão especial com fu...'>\n",
      "\n",
      "Qtd de documentos 16045\n",
      "\n",
      "Qtd de embeddings 16045\n",
      "\n",
      "Documento.id=5: <Document: id=5, content='SÚMULA TCU 1: Não se compreendem como vencimento, para efeito de concessão da pensão especial com fu...'>\n",
      "\n",
      "Qtd de documentos 16045\n",
      "\n",
      "Qtd de embeddings 16045\n",
      "\n",
      "Documento.id=5: <Document: id=5, content='SÚMULA TCU 1: Não se compreendem como vencimento, para efeito de concessão da pensão especial com fu...'>\n",
      "CPU times: user 16 ms, sys: 16.4 ms, total: 32.4 ms\n",
      "Wall time: 73.5 ms\n"
     ]
    }
   ],
   "source": [
    "%%time\n",
    "for index_name in list_name_index:\n",
    "    reference_data_index[index_name] = util_elastic.return_index(parm_index_name=index_name, parm_embedding_dim=1024)"
   ]
  },
  {
   "attachments": {},
   "cell_type": "markdown",
   "metadata": {},
   "source": [
    "# Pipelines creation"
   ]
  },
  {
   "cell_type": "code",
   "execution_count": 40,
   "metadata": {},
   "outputs": [],
   "source": [
    "# Test query\n",
    "# parm_query = \"trata-se de uma denúncia contra o prefeito de Manhuaçu por não haver pago os funcionários da área de limpeza urbana\"\n",
    "parm_query = \"despesa sem cobertura contratual\""
   ]
  },
  {
   "cell_type": "code",
   "execution_count": 41,
   "metadata": {},
   "outputs": [],
   "source": [
    "pipes = {}\n",
    "for index_name in list_name_index:\n",
    "    pipes[index_name] = []\n"
   ]
  },
  {
   "cell_type": "code",
   "execution_count": 42,
   "metadata": {},
   "outputs": [],
   "source": [
    "ranker_type = 'PTT5_BASE' # 'PTT5_INDIR_83' # 'MT5_3B' # 'MT5_TRAINED_LIM50_800' # 'MINILM_TRAINED_19000'"
   ]
  },
  {
   "cell_type": "code",
   "execution_count": 43,
   "metadata": {},
   "outputs": [],
   "source": [
    "limit_query_size_expanded = 100"
   ]
  },
  {
   "cell_type": "code",
   "execution_count": 44,
   "metadata": {},
   "outputs": [
    {
     "ename": "Exception",
     "evalue": "Stop here",
     "output_type": "error",
     "traceback": [
      "\u001b[0;31m---------------------------------------------------------------------------\u001b[0m",
      "\u001b[0;31mException\u001b[0m                                 Traceback (most recent call last)",
      "\u001b[0;32m/tmp/ipykernel_1314156/3405283682.py\u001b[0m in \u001b[0;36m<module>\u001b[0;34m\u001b[0m\n\u001b[0;32m----> 1\u001b[0;31m \u001b[0;32mraise\u001b[0m \u001b[0mException\u001b[0m\u001b[0;34m(\u001b[0m\u001b[0;34m\"Stop here\"\u001b[0m\u001b[0;34m)\u001b[0m\u001b[0;34m\u001b[0m\u001b[0;34m\u001b[0m\u001b[0m\n\u001b[0m",
      "\u001b[0;31mException\u001b[0m: Stop here"
     ]
    }
   ],
   "source": [
    "raise Exception(\"Stop here\")"
   ]
  },
  {
   "cell_type": "code",
   "execution_count": null,
   "metadata": {},
   "outputs": [],
   "source": [
    "torch.cuda.empty_cache()"
   ]
  },
  {
   "cell_type": "code",
   "execution_count": 46,
   "metadata": {},
   "outputs": [
    {
     "data": {
      "text/plain": [
       "('PTT5_BASE',\n",
       " 'join_30_ptt5_base',\n",
       " {'indir_juris_tcu': [],\n",
       "  'indir_juris_tcu_term': [],\n",
       "  'indir_juris_tcu_synonym': [],\n",
       "  'indir_juris_tcu_related_term': [],\n",
       "  'indir_juris_tcu_synonym_related_term': []})"
      ]
     },
     "execution_count": 46,
     "metadata": {},
     "output_type": "execute_result"
    }
   ],
   "source": [
    "ranker_type, EXPANSOR_CRITERIA, pipes"
   ]
  },
  {
   "attachments": {},
   "cell_type": "markdown",
   "metadata": {},
   "source": [
    "## Only retrievers"
   ]
  },
  {
   "attachments": {},
   "cell_type": "markdown",
   "metadata": {},
   "source": [
    "### bm25"
   ]
  },
  {
   "cell_type": "code",
   "execution_count": null,
   "metadata": {},
   "outputs": [
    {
     "name": "stdout",
     "output_type": "stream",
     "text": [
      "CPU times: user 683 µs, sys: 546 µs, total: 1.23 ms\n",
      "Wall time: 1.23 ms\n"
     ]
    }
   ],
   "source": [
    "%%time\n",
    "for index_name in list_name_index:\n",
    "    pipe = {}\n",
    "    pipe['PIPE_OBJECT'] = util_pipeline.return_pipeline_bm25(reference_data_index[index_name])\n",
    "    pipe['RETRIEVER_TYPE'] = 'bm25'\n",
    "    pipe['RANKER_TYPE'] = 'none'\n",
    "    pipe['RETRIEVER_MODEL_NAME'] = ''\n",
    "    pipes[index_name].append(pipe)\n"
   ]
  },
  {
   "cell_type": "code",
   "execution_count": null,
   "metadata": {},
   "outputs": [
    {
     "name": "stdout",
     "output_type": "stream",
     "text": [
      "\n",
      "index_name indir_juris_tcu\n",
      "*** retriever:bm25 / ranker:none\n",
      "\n",
      "Index: indir_juris_tcu\n",
      "Parâmetros usados: {'Retriever': {'top_k': 100}}\n",
      "Consulta: despesa sem cobertura contratual\n",
      "Qtd documentos retornados: 100\n",
      "Seguem os nomes dos termos recuperados em ordem de score\n",
      "0 : [0.9497785738073338, '18384', 'A realização de pagamentos em data anterior à celebração do contrato caracteriza despesa sem cobertura contratual.']\n",
      "1 : [0.9172683438466377, '17993', 'O pagamento pela realização de serviços novos, não contidos no projeto originalmente licitado, utilizando-se para faturamento serviços constantes na planilha de preços original, sem a respectiva execução, é despesa sem cobertura contratual, a justificar aplicação de multa aos responsáveis envolvidos.']\n",
      "2 : [0.8962556736040861, '18905', 'A execução de serviços sem cobertura contratual, mas autorizados pela Administração, gera o dever de indenizar.']\n",
      "3 : [0.889172123906067, '18950', 'A realização de pagamentos previamente à assinatura dos respectivos instrumentos contratuais configura a realização de despesas sem cobertura contratual.']\n",
      "4 : [0.8802496867482822, '18089', 'Nos casos de reconhecimento de dívida por serviços realizados sem cobertura contratual válida deve ser verificado se o valor a ser pago está em conformidade com os praticados pelo mercado, se foi apresentado documento fiscal da contratada interessada, assim como providenciado o atesto à despesa por servidor que tenha condições de reconhecer que os serviços foram efetivamente prestados.']\n",
      "5 : [0.8730238803175955, '19451', 'A realização de despesas sem cobertura contratual é irregularidade grave, que justifica a aplicação de multa aos responsáveis, bem como julgamento pela irregularidade de suas contas']\n",
      "\n",
      "index_name indir_juris_tcu_term\n",
      "*** retriever:bm25 / ranker:none\n",
      "\n",
      "Index: indir_juris_tcu_term\n",
      "Parâmetros usados: {'Retriever': {'top_k': 100}}\n",
      "Consulta: despesa sem cobertura contratual\n",
      "Qtd documentos retornados: 100\n",
      "Seguem os nomes dos termos recuperados em ordem de score\n",
      "0 : [0.9321431305099888, '18384', 'A realização de pagamentos em data anterior à celebração do contrato caracteriza despesa sem cobertura contratual.\\nAssinatura, Contrato administrativo, Formalização do contrato, Contrato verbal.']\n",
      "1 : [0.9052066284576652, '17993', 'O pagamento pela realização de serviços novos, não contidos no projeto originalmente licitado, utilizando-se para faturamento serviços constantes na planilha de preços original, sem a respectiva execução, é despesa sem cobertura contratual, a justificar aplicação de multa aos responsáveis envolvidos.\\nMulta, Responsabilidade, Contrato verbal, Serviço novo, Contrato administrativo.']\n",
      "2 : [0.879401762108269, '18089', 'Nos casos de reconhecimento de dívida por serviços realizados sem cobertura contratual válida deve ser verificado se o valor a ser pago está em conformidade com os praticados pelo mercado, se foi apresentado documento fiscal da contratada interessada, assim como providenciado o atesto à despesa por servidor que tenha condições de reconhecer que os serviços foram efetivamente prestados.\\nReconhecimento, Contrato administrativo, Liquidação da despesa, Atestação, Pagamento, Contrato verbal, Dívida, Preço de mercado.']\n",
      "3 : [0.877860648709494, '18950', 'A realização de pagamentos previamente à assinatura dos respectivos instrumentos contratuais configura a realização de despesas sem cobertura contratual.\\nContrato verbal, Contrato administrativo, Formalização do contrato.']\n",
      "4 : [0.8759338844188369, '18905', 'A execução de serviços sem cobertura contratual, mas autorizados pela Administração, gera o dever de indenizar.\\nFormalização do contrato, Contrato administrativo, Contrato verbal, Indenização, Execução de contrato.']\n",
      "5 : [0.8627165294733645, '19451', 'A realização de despesas sem cobertura contratual é irregularidade grave, que justifica a aplicação de multa aos responsáveis, bem como julgamento pela irregularidade de suas contas\\nContas irregulares, Contrato administrativo, Contrato verbal, Responsabilidade, Multa.']\n",
      "\n",
      "index_name indir_juris_tcu_synonym\n",
      "*** retriever:bm25 / ranker:none\n",
      "\n",
      "Index: indir_juris_tcu_synonym\n",
      "Parâmetros usados: {'Retriever': {'top_k': 100}}\n",
      "Consulta: despesa sem cobertura contratual\n",
      "Qtd documentos retornados: 100\n",
      "Seguem os nomes dos termos recuperados em ordem de score\n",
      "0 : [0.9392426259481879, '18384', 'A realização de pagamentos em data anterior à celebração do contrato caracteriza despesa sem cobertura contratual.\\nAssinatura - Subscrição. Contrato administrativo - Contratos administrativos.']\n",
      "1 : [0.90195523675644, '17993', 'O pagamento pela realização de serviços novos, não contidos no projeto originalmente licitado, utilizando-se para faturamento serviços constantes na planilha de preços original, sem a respectiva execução, é despesa sem cobertura contratual, a justificar aplicação de multa aos responsáveis envolvidos.\\nMulta - Multas. Responsabilidade - Responsabilidades. Serviço novo - Serviços novos, Serviços adicionais, Serviços não contemplados, Serviço não previsto e Serviço não contemplado. Contrato administrativo - Contratos administrativos.']\n",
      "2 : [0.8833955887370857, '18950', 'A realização de pagamentos previamente à assinatura dos respectivos instrumentos contratuais configura a realização de despesas sem cobertura contratual.\\nContrato administrativo - Contratos administrativos.']\n",
      "3 : [0.8804965349055768, '18905', 'A execução de serviços sem cobertura contratual, mas autorizados pela Administração, gera o dever de indenizar.\\nContrato administrativo - Contratos administrativos. Indenização - Vantagem indenizatória e Indenizações.']\n",
      "4 : [0.8665960404029213, '18089', 'Nos casos de reconhecimento de dívida por serviços realizados sem cobertura contratual válida deve ser verificado se o valor a ser pago está em conformidade com os praticados pelo mercado, se foi apresentado documento fiscal da contratada interessada, assim como providenciado o atesto à despesa por servidor que tenha condições de reconhecer que os serviços foram efetivamente prestados.\\nReconhecimento - Práticas de reconhecimento. Contrato administrativo - Contratos administrativos. Dívida - Obrigação em dinheiro, Dívida de dinheiro, Dívida em dinheiro e Obrigação pecuniária. Preço de mercado - Valor de mercado, Preços de mercado e Preço de equilíbrio.']\n",
      "5 : [0.856698792093163, '19451', 'A realização de despesas sem cobertura contratual é irregularidade grave, que justifica a aplicação de multa aos responsáveis, bem como julgamento pela irregularidade de suas contas\\nContas irregulares - Rejeição das contas e Contas julgadas irregulares. Contrato administrativo - Contratos administrativos. Responsabilidade - Responsabilidades. Multa - Multas.']\n",
      "\n",
      "index_name indir_juris_tcu_related_term\n",
      "*** retriever:bm25 / ranker:none\n",
      "\n",
      "Index: indir_juris_tcu_related_term\n",
      "Parâmetros usados: {'Retriever': {'top_k': 100}}\n",
      "Consulta: despesa sem cobertura contratual\n",
      "Qtd documentos retornados: 100\n",
      "Seguem os nomes dos termos recuperados em ordem de score\n",
      "0 : [0.8413750624211767, '18384', 'A realização de pagamentos em data anterior à celebração do contrato caracteriza despesa sem cobertura contratual.\\nAssinatura -- Endosso, Assinatura digital, Procuração e Termo de compromisso. Contrato administrativo -- Pedido de reexame, Renovação de contrato, Objeto do contrato, Reajuste, Revisão contratual, Fato do príncipe, Contratante, Correção monetária, Rescisão contratual, Remanescente de contrato, Contratações públicas, Consórcio público, Cadastro de Empresas Inidôneas e Suspensas, Alocação de riscos, Cadastro Integrado de Condenações por Ilícitos Administrativos, Lei do Pregão Eletrônico, Reconhecimento de dívida, Lei de Licitações e Contratos, Relicitação, Contrato de gestão, Equilíbrio econômico-financeiro, Termo aditivo, Contratado, Terceirização, Subcontratação, Prestação de serviço, Facilities, Cláusula, Licitação e Contratação direta. Formalização do contrato -- Contrato. Contrato verbal -- Suprimento de fundos.']\n",
      "1 : [0.8331103269449515, '17993', 'O pagamento pela realização de serviços novos, não contidos no projeto originalmente licitado, utilizando-se para faturamento serviços constantes na planilha de preços original, sem a respectiva execução, é despesa sem cobertura contratual, a justificar aplicação de multa aos responsáveis envolvidos.\\nMulta -- Sonegação de informação, Cláusula penal, Advertência (Licitação), Declaração de inidoneidade, Recurso administrativo, Suspensão temporária e Inadimplência. Responsabilidade -- Prejuízo, Dever de lealdade, Termo de responsabilidade, Perdas e danos, Caso fortuito, Omissão, Deveres, Responsável, Accountability pública e Imputação. Contrato verbal -- Suprimento de fundos. Contrato administrativo -- Pedido de reexame, Renovação de contrato, Objeto do contrato, Reajuste, Revisão contratual, Fato do príncipe, Contratante, Correção monetária, Rescisão contratual, Remanescente de contrato, Contratações públicas, Consórcio público, Cadastro de Empresas Inidôneas e Suspensas, Alocação de riscos, Cadastro Integrado de Condenações por Ilícitos Administrativos, Lei do Pregão Eletrônico, Reconhecimento de dívida, Lei de Licitações e Contratos, Relicitação, Contrato de gestão, Equilíbrio econômico-financeiro, Termo aditivo, Contratado, Terceirização, Subcontratação, Prestação de serviço, Facilities, Cláusula, Licitação e Contratação direta.']\n",
      "2 : [0.8285164893281375, '18950', 'A realização de pagamentos previamente à assinatura dos respectivos instrumentos contratuais configura a realização de despesas sem cobertura contratual.\\nContrato verbal -- Suprimento de fundos. Contrato administrativo -- Pedido de reexame, Renovação de contrato, Objeto do contrato, Reajuste, Revisão contratual, Fato do príncipe, Contratante, Correção monetária, Rescisão contratual, Remanescente de contrato, Contratações públicas, Consórcio público, Cadastro de Empresas Inidôneas e Suspensas, Alocação de riscos, Cadastro Integrado de Condenações por Ilícitos Administrativos, Lei do Pregão Eletrônico, Reconhecimento de dívida, Lei de Licitações e Contratos, Relicitação, Contrato de gestão, Equilíbrio econômico-financeiro, Termo aditivo, Contratado, Terceirização, Subcontratação, Prestação de serviço, Facilities, Cláusula, Licitação e Contratação direta. Formalização do contrato -- Contrato.']\n",
      "3 : [0.8141400356717412, '73790', 'Os órgãos e entidades da Administração Pública Federal podem aceitar apólice de seguro - apresentada por empresa vencedora de certame licitatório para garantir o fiel cumprimento das obrigações assumidas no contrato - que contenha cláusula que exclua de cobertura prejuízos e demais penalidades causados ou relacionados a atos ou fatos violadores de normas de anticorrupção que tenham sido provocados pelo segurado ou seu representante, seja isoladamente, seja em concurso com o tomador ou seu representante. Por outro lado, devem recusar apólice de seguro que contenha cláusula que exclua de cobertura prejuízos e demais penalidades causados ou relacionados a atos ou fatos violadores de normas de anticorrupção que tenham sido provocados exclusivamente pelo tomador ou seu representante, sem o concurso do segurado ou seu representante.\\nCorrupção -- Laranja, Operação Lava Jato, Combate à corrupção, Acordo de leniência, Suborno, Concussão, Prevaricação, Empresa fictícia, Improbidade administrativa, Crime contra as finanças públicas, Anticorrupção, Lei Anticorrupção, Programa de integridade, Enriquecimento ilícito e Fraude. Seguro garantia -- Garantia contratual, Caução, Fiança bancária, Avalista, Aval, Fiança e Garantia fidejussória. Contrato administrativo -- Pedido de reexame, Renovação de contrato, Objeto do contrato, Reajuste, Revisão contratual, Fato do príncipe, Contratante, Correção monetária, Rescisão contratual, Remanescente de contrato, Contratações públicas, Consórcio público, Cadastro de Empresas Inidôneas e Suspensas, Alocação de riscos, Cadastro Integrado de Condenações por Ilícitos Administrativos, Lei do Pregão Eletrônico, Reconhecimento de dívida, Lei de Licitações e Contratos, Relicitação, Contrato de gestão, Equilíbrio econômico-financeiro, Termo aditivo, Contratado, Terceirização, Subcontratação, Prestação de serviço, Facilities, Cláusula, Licitação e Contratação direta. Garantia contratual -- Rescisão contratual, Alteração por acordo, Garantia adicional, Concessão de garantia, Seguro garantia e Garantia da proposta.']\n",
      "4 : [0.8083457255240123, '18059', 'A aquisição de bens ou serviços sem cobertura de termo contratual, bem assim sua celebração com cláusula de vigência retroativa, caracteriza a existência de contrato verbal antes de sua formalização, o que é vedado pelo art. 60, parágrafo único, Lei 8.666/1993.\\nFormalização do contrato -- Contrato. Ilegalidade -- Representação, Mandado de segurança, Manifesta ilegalidade, Eficácia da lei, Abuso de autoridade, Habeas corpus e Princípio da legalidade. Contrato verbal -- Suprimento de fundos. Contrato administrativo -- Pedido de reexame, Renovação de contrato, Objeto do contrato, Reajuste, Revisão contratual, Fato do príncipe, Contratante, Correção monetária, Rescisão contratual, Remanescente de contrato, Contratações públicas, Consórcio público, Cadastro de Empresas Inidôneas e Suspensas, Alocação de riscos, Cadastro Integrado de Condenações por Ilícitos Administrativos, Lei do Pregão Eletrônico, Reconhecimento de dívida, Lei de Licitações e Contratos, Relicitação, Contrato de gestão, Equilíbrio econômico-financeiro, Termo aditivo, Contratado, Terceirização, Subcontratação, Prestação de serviço, Facilities, Cláusula, Licitação e Contratação direta.']\n",
      "5 : [0.8083457255240123, '18060', 'A formalização de contrato em momento posterior em nada muda a ilegalidade da prévia contratação verbal, constituindo-se, com relação aos pagamentos realizados à empresa prestadora de serviços nesse período, despesas sem cobertura contratual, a serem sopesadas no julgamento das contas do responsável.\\nIlegalidade -- Representação, Mandado de segurança, Manifesta ilegalidade, Eficácia da lei, Abuso de autoridade, Habeas corpus e Princípio da legalidade. Formalização do contrato -- Contrato. Contrato administrativo -- Pedido de reexame, Renovação de contrato, Objeto do contrato, Reajuste, Revisão contratual, Fato do príncipe, Contratante, Correção monetária, Rescisão contratual, Remanescente de contrato, Contratações públicas, Consórcio público, Cadastro de Empresas Inidôneas e Suspensas, Alocação de riscos, Cadastro Integrado de Condenações por Ilícitos Administrativos, Lei do Pregão Eletrônico, Reconhecimento de dívida, Lei de Licitações e Contratos, Relicitação, Contrato de gestão, Equilíbrio econômico-financeiro, Termo aditivo, Contratado, Terceirização, Subcontratação, Prestação de serviço, Facilities, Cláusula, Licitação e Contratação direta. Contrato verbal -- Suprimento de fundos.']\n",
      "\n",
      "index_name indir_juris_tcu_synonym_related_term\n",
      "*** retriever:bm25 / ranker:none\n",
      "\n",
      "Index: indir_juris_tcu_synonym_related_term\n",
      "Parâmetros usados: {'Retriever': {'top_k': 100}}\n",
      "Consulta: despesa sem cobertura contratual\n",
      "Qtd documentos retornados: 100\n",
      "Seguem os nomes dos termos recuperados em ordem de score\n",
      "0 : [0.8458018958217431, '18384', 'A realização de pagamentos em data anterior à celebração do contrato caracteriza despesa sem cobertura contratual.\\nAssinatura - Subscrição. -- Endosso, Assinatura digital, Procuração e Termo de compromisso. Contrato administrativo - Contratos administrativos. -- Pedido de reexame, Renovação de contrato, Objeto do contrato, Reajuste, Revisão contratual, Fato do príncipe, Contratante, Correção monetária, Rescisão contratual, Remanescente de contrato, Contratações públicas, Consórcio público, Cadastro de Empresas Inidôneas e Suspensas, Alocação de riscos, Cadastro Integrado de Condenações por Ilícitos Administrativos, Lei do Pregão Eletrônico, Reconhecimento de dívida, Lei de Licitações e Contratos, Relicitação, Contrato de gestão, Equilíbrio econômico-financeiro, Termo aditivo, Contratado, Terceirização, Subcontratação, Prestação de serviço, Facilities, Cláusula, Licitação e Contratação direta. Formalização do contrato -- Contrato. Contrato verbal -- Suprimento de fundos.']\n",
      "1 : [0.8321492856090513, '18950', 'A realização de pagamentos previamente à assinatura dos respectivos instrumentos contratuais configura a realização de despesas sem cobertura contratual.\\nContrato verbal -- Suprimento de fundos. Contrato administrativo - Contratos administrativos. -- Pedido de reexame, Renovação de contrato, Objeto do contrato, Reajuste, Revisão contratual, Fato do príncipe, Contratante, Correção monetária, Rescisão contratual, Remanescente de contrato, Contratações públicas, Consórcio público, Cadastro de Empresas Inidôneas e Suspensas, Alocação de riscos, Cadastro Integrado de Condenações por Ilícitos Administrativos, Lei do Pregão Eletrônico, Reconhecimento de dívida, Lei de Licitações e Contratos, Relicitação, Contrato de gestão, Equilíbrio econômico-financeiro, Termo aditivo, Contratado, Terceirização, Subcontratação, Prestação de serviço, Facilities, Cláusula, Licitação e Contratação direta. Formalização do contrato -- Contrato.']\n",
      "2 : [0.8320695499320697, '17993', 'O pagamento pela realização de serviços novos, não contidos no projeto originalmente licitado, utilizando-se para faturamento serviços constantes na planilha de preços original, sem a respectiva execução, é despesa sem cobertura contratual, a justificar aplicação de multa aos responsáveis envolvidos.\\nMulta - Multas. -- Sonegação de informação, Cláusula penal, Advertência (Licitação), Declaração de inidoneidade, Recurso administrativo, Suspensão temporária e Inadimplência. Responsabilidade - Responsabilidades. -- Prejuízo, Dever de lealdade, Termo de responsabilidade, Perdas e danos, Caso fortuito, Omissão, Deveres, Responsável, Accountability pública e Imputação. Contrato verbal -- Suprimento de fundos. Serviço novo - Serviços novos, Serviços adicionais, Serviços não contemplados, Serviço não previsto e Serviço não contemplado. Contrato administrativo - Contratos administrativos. -- Pedido de reexame, Renovação de contrato, Objeto do contrato, Reajuste, Revisão contratual, Fato do príncipe, Contratante, Correção monetária, Rescisão contratual, Remanescente de contrato, Contratações públicas, Consórcio público, Cadastro de Empresas Inidôneas e Suspensas, Alocação de riscos, Cadastro Integrado de Condenações por Ilícitos Administrativos, Lei do Pregão Eletrônico, Reconhecimento de dívida, Lei de Licitações e Contratos, Relicitação, Contrato de gestão, Equilíbrio econômico-financeiro, Termo aditivo, Contratado, Terceirização, Subcontratação, Prestação de serviço, Facilities, Cláusula, Licitação e Contratação direta.']\n",
      "3 : [0.8217057005881437, '73790', 'Os órgãos e entidades da Administração Pública Federal podem aceitar apólice de seguro - apresentada por empresa vencedora de certame licitatório para garantir o fiel cumprimento das obrigações assumidas no contrato - que contenha cláusula que exclua de cobertura prejuízos e demais penalidades causados ou relacionados a atos ou fatos violadores de normas de anticorrupção que tenham sido provocados pelo segurado ou seu representante, seja isoladamente, seja em concurso com o tomador ou seu representante. Por outro lado, devem recusar apólice de seguro que contenha cláusula que exclua de cobertura prejuízos e demais penalidades causados ou relacionados a atos ou fatos violadores de normas de anticorrupção que tenham sido provocados exclusivamente pelo tomador ou seu representante, sem o concurso do segurado ou seu representante.\\nCorrupção - Corrupção na política. -- Laranja, Operação Lava Jato, Combate à corrupção, Acordo de leniência, Suborno, Concussão, Prevaricação, Empresa fictícia, Improbidade administrativa, Crime contra as finanças públicas, Anticorrupção, Lei Anticorrupção, Programa de integridade, Enriquecimento ilícito e Fraude. Seguro garantia - Seguro-garantia. -- Garantia contratual, Caução, Fiança bancária, Avalista, Aval, Fiança e Garantia fidejussória. Contrato administrativo - Contratos administrativos. -- Pedido de reexame, Renovação de contrato, Objeto do contrato, Reajuste, Revisão contratual, Fato do príncipe, Contratante, Correção monetária, Rescisão contratual, Remanescente de contrato, Contratações públicas, Consórcio público, Cadastro de Empresas Inidôneas e Suspensas, Alocação de riscos, Cadastro Integrado de Condenações por Ilícitos Administrativos, Lei do Pregão Eletrônico, Reconhecimento de dívida, Lei de Licitações e Contratos, Relicitação, Contrato de gestão, Equilíbrio econômico-financeiro, Termo aditivo, Contratado, Terceirização, Subcontratação, Prestação de serviço, Facilities, Cláusula, Licitação e Contratação direta. Garantia contratual - Garantia de execução contratual, Garantia contratual básica e Garantia legal. -- Rescisão contratual, Alteração por acordo, Garantia adicional, Concessão de garantia, Seguro garantia e Garantia da proposta.']\n",
      "4 : [0.813921313134301, '18059', 'A aquisição de bens ou serviços sem cobertura de termo contratual, bem assim sua celebração com cláusula de vigência retroativa, caracteriza a existência de contrato verbal antes de sua formalização, o que é vedado pelo art. 60, parágrafo único, Lei 8.666/1993.\\nFormalização do contrato -- Contrato. Ilegalidade -- Representação, Mandado de segurança, Manifesta ilegalidade, Eficácia da lei, Abuso de autoridade, Habeas corpus e Princípio da legalidade. Contrato verbal -- Suprimento de fundos. Contrato administrativo - Contratos administrativos. -- Pedido de reexame, Renovação de contrato, Objeto do contrato, Reajuste, Revisão contratual, Fato do príncipe, Contratante, Correção monetária, Rescisão contratual, Remanescente de contrato, Contratações públicas, Consórcio público, Cadastro de Empresas Inidôneas e Suspensas, Alocação de riscos, Cadastro Integrado de Condenações por Ilícitos Administrativos, Lei do Pregão Eletrônico, Reconhecimento de dívida, Lei de Licitações e Contratos, Relicitação, Contrato de gestão, Equilíbrio econômico-financeiro, Termo aditivo, Contratado, Terceirização, Subcontratação, Prestação de serviço, Facilities, Cláusula, Licitação e Contratação direta.']\n",
      "5 : [0.813921313134301, '18060', 'A formalização de contrato em momento posterior em nada muda a ilegalidade da prévia contratação verbal, constituindo-se, com relação aos pagamentos realizados à empresa prestadora de serviços nesse período, despesas sem cobertura contratual, a serem sopesadas no julgamento das contas do responsável.\\nIlegalidade -- Representação, Mandado de segurança, Manifesta ilegalidade, Eficácia da lei, Abuso de autoridade, Habeas corpus e Princípio da legalidade. Formalização do contrato -- Contrato. Contrato administrativo - Contratos administrativos. -- Pedido de reexame, Renovação de contrato, Objeto do contrato, Reajuste, Revisão contratual, Fato do príncipe, Contratante, Correção monetária, Rescisão contratual, Remanescente de contrato, Contratações públicas, Consórcio público, Cadastro de Empresas Inidôneas e Suspensas, Alocação de riscos, Cadastro Integrado de Condenações por Ilícitos Administrativos, Lei do Pregão Eletrônico, Reconhecimento de dívida, Lei de Licitações e Contratos, Relicitação, Contrato de gestão, Equilíbrio econômico-financeiro, Termo aditivo, Contratado, Terceirização, Subcontratação, Prestação de serviço, Facilities, Cláusula, Licitação e Contratação direta. Contrato verbal -- Suprimento de fundos.']\n",
      "CPU times: user 17.7 ms, sys: 0 ns, total: 17.7 ms\n",
      "Wall time: 235 ms\n"
     ]
    }
   ],
   "source": [
    "%%time\n",
    "for index_name in pipes:\n",
    "    print(f\"\\nindex_name {index_name}\")\n",
    "    for pipe in pipes[index_name]:\n",
    "        print(f\"*** retriever:{pipe['RETRIEVER_TYPE']} / ranker:{pipe['RANKER_TYPE']}\")\n",
    "        doctos_retornados_ranker =  pipe['PIPE_OBJECT'].run(query=parm_query, \n",
    "        params={\"Retriever\": {\"top_k\": 100}})\n",
    "        print(f'\\nIndex: {index_name}')\n",
    "        util_pipeline.detail_document_found(doctos_retornados_ranker,5)"
   ]
  },
  {
   "attachments": {},
   "cell_type": "markdown",
   "metadata": {},
   "source": [
    "## With rankers"
   ]
  },
  {
   "cell_type": "code",
   "execution_count": null,
   "metadata": {},
   "outputs": [
    {
     "data": {
      "text/plain": [
       "<module 'util.util_pipeline_v2' from '/home/borela/fontes/ind-ir/code/util/util_pipeline_v2.py'>"
      ]
     },
     "execution_count": 44,
     "metadata": {},
     "output_type": "execute_result"
    }
   ],
   "source": [
    "importlib.reload(util_pipeline)"
   ]
  },
  {
   "cell_type": "code",
   "execution_count": null,
   "metadata": {},
   "outputs": [
    {
     "ename": "Exception",
     "evalue": "Padrão é usar BM25",
     "output_type": "error",
     "traceback": [
      "\u001b[0;31m---------------------------------------------------------------------------\u001b[0m",
      "\u001b[0;31mException\u001b[0m                                 Traceback (most recent call last)",
      "\u001b[0;32m/tmp/ipykernel_1313851/317172678.py\u001b[0m in \u001b[0;36m<module>\u001b[0;34m\u001b[0m\n\u001b[0;32m----> 1\u001b[0;31m \u001b[0;32mraise\u001b[0m \u001b[0mException\u001b[0m\u001b[0;34m(\u001b[0m\u001b[0;34m'Padrão é usar BM25'\u001b[0m\u001b[0;34m)\u001b[0m\u001b[0;34m\u001b[0m\u001b[0;34m\u001b[0m\u001b[0m\n\u001b[0m",
      "\u001b[0;31mException\u001b[0m: Padrão é usar BM25"
     ]
    }
   ],
   "source": [
    "raise Exception('Padrão é usar BM25')"
   ]
  },
  {
   "attachments": {},
   "cell_type": "markdown",
   "metadata": {},
   "source": [
    "### First stage = BM25"
   ]
  },
  {
   "cell_type": "code",
   "execution_count": 47,
   "metadata": {},
   "outputs": [
    {
     "name": "stdout",
     "output_type": "stream",
     "text": [
      "Loading PTT5_BASE with limit_query_size=100\n",
      "CPU times: user 4.75 s, sys: 1.38 s, total: 6.13 s\n",
      "Wall time: 5.53 s\n"
     ]
    }
   ],
   "source": [
    "%%time\n",
    "for index_name in list_name_index:\n",
    "    pipe = {}\n",
    "    pipe['PIPE_OBJECT'] = util_pipeline.return_pipeline_bm25_reranker(reference_data_index[index_name], ranker_type, \n",
    "                                parm_limit_query_size=limit_query_size_expanded)\n",
    "    pipe['RETRIEVER_TYPE'] = 'bm25'\n",
    "    pipe['RANKER_TYPE'] = ranker_type\n",
    "    pipe['RETRIEVER_MODEL_NAME'] = ''\n",
    "    pipes[index_name].append(pipe)\n"
   ]
  },
  {
   "cell_type": "code",
   "execution_count": 48,
   "metadata": {},
   "outputs": [
    {
     "name": "stdout",
     "output_type": "stream",
     "text": [
      "\n",
      "index_name indir_juris_tcu\n",
      "*** retriever:bm25 / ranker:PTT5_BASE\n",
      "\n",
      "Index: indir_juris_tcu\n",
      "Parâmetros usados: {'Retriever': {'top_k': 100}}\n",
      "Consulta: despesa sem cobertura contratual\n",
      "Qtd documentos retornados: 100\n",
      "Seguem os nomes dos termos recuperados em ordem de score\n",
      "0 : [-0.006676154211163521, '18950', 'A realização de pagamentos previamente à assinatura dos respectivos instrumentos contratuais configura a realização de despesas sem cobertura contratual.']\n",
      "1 : [-0.008143909275531769, '19451', 'A realização de despesas sem cobertura contratual é irregularidade grave, que justifica a aplicação de multa aos responsáveis, bem como julgamento pela irregularidade de suas contas']\n",
      "2 : [-0.009357050061225891, '18384', 'A realização de pagamentos em data anterior à celebração do contrato caracteriza despesa sem cobertura contratual.']\n",
      "3 : [-0.01179011631757021, '17993', 'O pagamento pela realização de serviços novos, não contidos no projeto originalmente licitado, utilizando-se para faturamento serviços constantes na planilha de preços original, sem a respectiva execução, é despesa sem cobertura contratual, a justificar aplicação de multa aos responsáveis envolvidos.']\n",
      "4 : [-0.03434772044420242, '44083', 'A execução e o pagamento de serviços sem o devido respaldo contratual constituem ofensa ao art. 60 da Lei 8.666/1993.']\n",
      "5 : [-0.03676562011241913, '18060', 'A formalização de contrato em momento posterior em nada muda a ilegalidade da prévia contratação verbal, constituindo-se, com relação aos pagamentos realizados à empresa prestadora de serviços nesse período, despesas sem cobertura contratual, a serem sopesadas no julgamento das contas do responsável.']\n",
      "\n",
      "index_name indir_juris_tcu_term\n",
      "*** retriever:bm25 / ranker:PTT5_BASE\n",
      "\n",
      "Index: indir_juris_tcu_term\n",
      "Parâmetros usados: {'Retriever': {'top_k': 100}}\n",
      "Consulta: despesa sem cobertura contratual\n",
      "Qtd documentos retornados: 100\n",
      "Seguem os nomes dos termos recuperados em ordem de score\n",
      "0 : [-0.006020150613039732, '18950', 'A realização de pagamentos previamente à assinatura dos respectivos instrumentos contratuais configura a realização de despesas sem cobertura contratual.\\nContrato verbal, Contrato administrativo, Formalização do contrato.']\n",
      "1 : [-0.006324633490294218, '19451', 'A realização de despesas sem cobertura contratual é irregularidade grave, que justifica a aplicação de multa aos responsáveis, bem como julgamento pela irregularidade de suas contas\\nContas irregulares, Contrato administrativo, Contrato verbal, Responsabilidade, Multa.']\n",
      "2 : [-0.009583892300724983, '18384', 'A realização de pagamentos em data anterior à celebração do contrato caracteriza despesa sem cobertura contratual.\\nAssinatura, Contrato administrativo, Formalização do contrato, Contrato verbal.']\n",
      "3 : [-0.010816986672580242, '17993', 'O pagamento pela realização de serviços novos, não contidos no projeto originalmente licitado, utilizando-se para faturamento serviços constantes na planilha de preços original, sem a respectiva execução, é despesa sem cobertura contratual, a justificar aplicação de multa aos responsáveis envolvidos.\\nMulta, Responsabilidade, Contrato verbal, Serviço novo, Contrato administrativo.']\n",
      "4 : [-0.03862617164850235, '22174', 'Não havendo dano ao erário, a aquisição de bens e serviços sem cobertura contratual é considerada falha de natureza formal, resultando em ressalvas às contas dos responsáveis.\\nContas regulares com ressalva, Erro formal, Contrato verbal, Responsabilidade, Contrato administrativo.']\n",
      "5 : [-0.040047235786914825, '34996', 'A formalização dos contratos administrativos é indispensável, pois visa assegurar, dentre outras coisas, o exercício da fiscalização sobre o cumprimento de dispositivos legais. A formalização de contrato em momento posterior em nada muda a ilegalidade cometida, de forma que os pagamentos realizados à contratada nesse período caracterizam despesas sem cobertura contratual, a serem sopesadas no julgamento das contas do responsável.\\nAusência, Formalização, Contrato administrativo, Responsabilidade.']\n",
      "\n",
      "index_name indir_juris_tcu_synonym\n",
      "*** retriever:bm25 / ranker:PTT5_BASE\n",
      "\n",
      "Index: indir_juris_tcu_synonym\n",
      "Parâmetros usados: {'Retriever': {'top_k': 100}}\n",
      "Consulta: despesa sem cobertura contratual\n",
      "Qtd documentos retornados: 100\n",
      "Seguem os nomes dos termos recuperados em ordem de score\n",
      "0 : [-0.006969664245843887, '18950', 'A realização de pagamentos previamente à assinatura dos respectivos instrumentos contratuais configura a realização de despesas sem cobertura contratual.\\nContrato administrativo - Contratos administrativos.']\n",
      "1 : [-0.009086920879781246, '19451', 'A realização de despesas sem cobertura contratual é irregularidade grave, que justifica a aplicação de multa aos responsáveis, bem como julgamento pela irregularidade de suas contas\\nContas irregulares - Rejeição das contas e Contas julgadas irregulares. Contrato administrativo - Contratos administrativos. Responsabilidade - Responsabilidades. Multa - Multas.']\n",
      "2 : [-0.01004698220640421, '18384', 'A realização de pagamentos em data anterior à celebração do contrato caracteriza despesa sem cobertura contratual.\\nAssinatura - Subscrição. Contrato administrativo - Contratos administrativos.']\n",
      "3 : [-0.01666482351720333, '17993', 'O pagamento pela realização de serviços novos, não contidos no projeto originalmente licitado, utilizando-se para faturamento serviços constantes na planilha de preços original, sem a respectiva execução, é despesa sem cobertura contratual, a justificar aplicação de multa aos responsáveis envolvidos.\\nMulta - Multas. Responsabilidade - Responsabilidades. Serviço novo - Serviços novos, Serviços adicionais, Serviços não contemplados, Serviço não previsto e Serviço não contemplado. Contrato administrativo - Contratos administrativos.']\n",
      "4 : [-0.03501763567328453, '34996', 'A formalização dos contratos administrativos é indispensável, pois visa assegurar, dentre outras coisas, o exercício da fiscalização sobre o cumprimento de dispositivos legais. A formalização de contrato em momento posterior em nada muda a ilegalidade cometida, de forma que os pagamentos realizados à contratada nesse período caracterizam despesas sem cobertura contratual, a serem sopesadas no julgamento das contas do responsável.\\nAusência - Falta. Contrato administrativo - Contratos administrativos. Responsabilidade - Responsabilidades.']\n",
      "5 : [-0.03701068460941315, '17825', 'Pagamentos sem cobertura contratual ou prévio empenho constituem afronta à legislação ordinária, ressalvando-se, no que diz respeito à Lei 8.666/1993, os contratos verbais destinados às compras de pronto pagamento, feitas em regime de adiantamento, em valores não superiores ao estabelecido na norma (parágrafo único do art. 60) .\\nExceção - Excepcionalidade. Contrato administrativo - Contratos administrativos.']\n",
      "\n",
      "index_name indir_juris_tcu_related_term\n",
      "*** retriever:bm25 / ranker:PTT5_BASE\n",
      "\n",
      "Index: indir_juris_tcu_related_term\n",
      "Parâmetros usados: {'Retriever': {'top_k': 100}}\n",
      "Consulta: despesa sem cobertura contratual\n",
      "Qtd documentos retornados: 100\n",
      "Seguem os nomes dos termos recuperados em ordem de score\n",
      "0 : [-0.008825580589473248, '18950', 'A realização de pagamentos previamente à assinatura dos respectivos instrumentos contratuais configura a realização de despesas sem cobertura contratual.\\nContrato verbal -- Suprimento de fundos. Contrato administrativo -- Pedido de reexame, Renovação de contrato, Objeto do contrato, Reajuste, Revisão contratual, Fato do príncipe, Contratante, Correção monetária, Rescisão contratual, Remanescente de contrato, Contratações públicas, Consórcio público, Cadastro de Empresas Inidôneas e Suspensas, Alocação de riscos, Cadastro Integrado de Condenações por Ilícitos Administrativos, Lei do Pregão Eletrônico, Reconhecimento de dívida, Lei de Licitações e Contratos, Relicitação, Contrato de gestão, Equilíbrio econômico-financeiro, Termo aditivo, Contratado, Terceirização, Subcontratação, Prestação de serviço, Facilities, Cláusula, Licitação e Contratação direta. Formalização do contrato -- Contrato.']\n",
      "1 : [-0.01141988206654787, '19451', 'A realização de despesas sem cobertura contratual é irregularidade grave, que justifica a aplicação de multa aos responsáveis, bem como julgamento pela irregularidade de suas contas\\nContas irregulares -- Juros de mora, Título executivo, Decisão definitiva, Julgamento de contas, Prestação de contas, Tomada de contas e Cadirreg. Contrato administrativo -- Pedido de reexame, Renovação de contrato, Objeto do contrato, Reajuste, Revisão contratual, Fato do príncipe, Contratante, Correção monetária, Rescisão contratual, Remanescente de contrato, Contratações públicas, Consórcio público, Cadastro de Empresas Inidôneas e Suspensas, Alocação de riscos, Cadastro Integrado de Condenações por Ilícitos Administrativos, Lei do Pregão Eletrônico, Reconhecimento de dívida, Lei de Licitações e Contratos, Relicitação, Contrato de gestão, Equilíbrio econômico-financeiro, Termo aditivo, Contratado, Terceirização, Subcontratação, Prestação de serviço, Facilities, Cláusula, Licitação e Contratação direta. Contrato verbal -- Suprimento de fundos. Responsabilidade -- Prejuízo, Dever de lealdade, Termo de responsabilidade, Perdas e danos, Caso fortuito, Omissão, Deveres, Responsável, Accountability pública e Imputação. Multa -- Sonegação de informação, Cláusula penal, Advertência (Licitação), Declaração de inidoneidade, Recurso administrativo, Suspensão temporária e Inadimplência.']\n",
      "2 : [-0.01756165362894535, '17993', 'O pagamento pela realização de serviços novos, não contidos no projeto originalmente licitado, utilizando-se para faturamento serviços constantes na planilha de preços original, sem a respectiva execução, é despesa sem cobertura contratual, a justificar aplicação de multa aos responsáveis envolvidos.\\nMulta -- Sonegação de informação, Cláusula penal, Advertência (Licitação), Declaração de inidoneidade, Recurso administrativo, Suspensão temporária e Inadimplência. Responsabilidade -- Prejuízo, Dever de lealdade, Termo de responsabilidade, Perdas e danos, Caso fortuito, Omissão, Deveres, Responsável, Accountability pública e Imputação. Contrato verbal -- Suprimento de fundos. Contrato administrativo -- Pedido de reexame, Renovação de contrato, Objeto do contrato, Reajuste, Revisão contratual, Fato do príncipe, Contratante, Correção monetária, Rescisão contratual, Remanescente de contrato, Contratações públicas, Consórcio público, Cadastro de Empresas Inidôneas e Suspensas, Alocação de riscos, Cadastro Integrado de Condenações por Ilícitos Administrativos, Lei do Pregão Eletrônico, Reconhecimento de dívida, Lei de Licitações e Contratos, Relicitação, Contrato de gestão, Equilíbrio econômico-financeiro, Termo aditivo, Contratado, Terceirização, Subcontratação, Prestação de serviço, Facilities, Cláusula, Licitação e Contratação direta.']\n",
      "3 : [-0.019696950912475586, '18384', 'A realização de pagamentos em data anterior à celebração do contrato caracteriza despesa sem cobertura contratual.\\nAssinatura -- Endosso, Assinatura digital, Procuração e Termo de compromisso. Contrato administrativo -- Pedido de reexame, Renovação de contrato, Objeto do contrato, Reajuste, Revisão contratual, Fato do príncipe, Contratante, Correção monetária, Rescisão contratual, Remanescente de contrato, Contratações públicas, Consórcio público, Cadastro de Empresas Inidôneas e Suspensas, Alocação de riscos, Cadastro Integrado de Condenações por Ilícitos Administrativos, Lei do Pregão Eletrônico, Reconhecimento de dívida, Lei de Licitações e Contratos, Relicitação, Contrato de gestão, Equilíbrio econômico-financeiro, Termo aditivo, Contratado, Terceirização, Subcontratação, Prestação de serviço, Facilities, Cláusula, Licitação e Contratação direta. Formalização do contrato -- Contrato. Contrato verbal -- Suprimento de fundos.']\n",
      "4 : [-0.04267806559801102, '34996', 'A formalização dos contratos administrativos é indispensável, pois visa assegurar, dentre outras coisas, o exercício da fiscalização sobre o cumprimento de dispositivos legais. A formalização de contrato em momento posterior em nada muda a ilegalidade cometida, de forma que os pagamentos realizados à contratada nesse período caracterizam despesas sem cobertura contratual, a serem sopesadas no julgamento das contas do responsável.\\nAusência -- Lacuna da lei. Contrato administrativo -- Pedido de reexame, Renovação de contrato, Objeto do contrato, Reajuste, Revisão contratual, Fato do príncipe, Contratante, Correção monetária, Rescisão contratual, Remanescente de contrato, Contratações públicas, Consórcio público, Cadastro de Empresas Inidôneas e Suspensas, Alocação de riscos, Cadastro Integrado de Condenações por Ilícitos Administrativos, Lei do Pregão Eletrônico, Reconhecimento de dívida, Lei de Licitações e Contratos, Relicitação, Contrato de gestão, Equilíbrio econômico-financeiro, Termo aditivo, Contratado, Terceirização, Subcontratação, Prestação de serviço, Facilities, Cláusula, Licitação e Contratação direta. Responsabilidade -- Prejuízo, Dever de lealdade, Termo de responsabilidade, Perdas e danos, Caso fortuito, Omissão, Deveres, Responsável, Accountability pública e Imputação.']\n",
      "5 : [-0.04827431961894035, '17825', 'Pagamentos sem cobertura contratual ou prévio empenho constituem afronta à legislação ordinária, ressalvando-se, no que diz respeito à Lei 8.666/1993, os contratos verbais destinados às compras de pronto pagamento, feitas em regime de adiantamento, em valores não superiores ao estabelecido na norma (parágrafo único do art. 60) .\\nIlegalidade -- Representação, Mandado de segurança, Manifesta ilegalidade, Eficácia da lei, Abuso de autoridade, Habeas corpus e Princípio da legalidade. Formalização do contrato -- Contrato. Contrato administrativo -- Pedido de reexame, Renovação de contrato, Objeto do contrato, Reajuste, Revisão contratual, Fato do príncipe, Contratante, Correção monetária, Rescisão contratual, Remanescente de contrato, Contratações públicas, Consórcio público, Cadastro de Empresas Inidôneas e Suspensas, Alocação de riscos, Cadastro Integrado de Condenações por Ilícitos Administrativos, Lei do Pregão Eletrônico, Reconhecimento de dívida, Lei de Licitações e Contratos, Relicitação, Contrato de gestão, Equilíbrio econômico-financeiro, Termo aditivo, Contratado, Terceirização, Subcontratação, Prestação de serviço, Facilities, Cláusula, Licitação e Contratação direta. Contrato verbal -- Suprimento de fundos.']\n",
      "\n",
      "index_name indir_juris_tcu_synonym_related_term\n",
      "*** retriever:bm25 / ranker:PTT5_BASE\n",
      "\n",
      "Index: indir_juris_tcu_synonym_related_term\n",
      "Parâmetros usados: {'Retriever': {'top_k': 100}}\n",
      "Consulta: despesa sem cobertura contratual\n",
      "Qtd documentos retornados: 100\n",
      "Seguem os nomes dos termos recuperados em ordem de score\n",
      "0 : [-0.011631646193563938, '18950', 'A realização de pagamentos previamente à assinatura dos respectivos instrumentos contratuais configura a realização de despesas sem cobertura contratual.\\nContrato verbal -- Suprimento de fundos. Contrato administrativo - Contratos administrativos. -- Pedido de reexame, Renovação de contrato, Objeto do contrato, Reajuste, Revisão contratual, Fato do príncipe, Contratante, Correção monetária, Rescisão contratual, Remanescente de contrato, Contratações públicas, Consórcio público, Cadastro de Empresas Inidôneas e Suspensas, Alocação de riscos, Cadastro Integrado de Condenações por Ilícitos Administrativos, Lei do Pregão Eletrônico, Reconhecimento de dívida, Lei de Licitações e Contratos, Relicitação, Contrato de gestão, Equilíbrio econômico-financeiro, Termo aditivo, Contratado, Terceirização, Subcontratação, Prestação de serviço, Facilities, Cláusula, Licitação e Contratação direta. Formalização do contrato -- Contrato.']\n",
      "1 : [-0.014702308923006058, '19451', 'A realização de despesas sem cobertura contratual é irregularidade grave, que justifica a aplicação de multa aos responsáveis, bem como julgamento pela irregularidade de suas contas\\nContas irregulares - Rejeição das contas e Contas julgadas irregulares. -- Juros de mora, Título executivo, Decisão definitiva, Julgamento de contas, Prestação de contas, Tomada de contas e Cadirreg. Contrato administrativo - Contratos administrativos. -- Pedido de reexame, Renovação de contrato, Objeto do contrato, Reajuste, Revisão contratual, Fato do príncipe, Contratante, Correção monetária, Rescisão contratual, Remanescente de contrato, Contratações públicas, Consórcio público, Cadastro de Empresas Inidôneas e Suspensas, Alocação de riscos, Cadastro Integrado de Condenações por Ilícitos Administrativos, Lei do Pregão Eletrônico, Reconhecimento de dívida, Lei de Licitações e Contratos, Relicitação, Contrato de gestão, Equilíbrio econômico-financeiro, Termo aditivo, Contratado, Terceirização, Subcontratação, Prestação de serviço, Facilities, Cláusula, Licitação e Contratação direta. Contrato verbal -- Suprimento de fundos. Responsabilidade - Responsabilidades. -- Prejuízo, Dever de lealdade, Termo de responsabilidade, Perdas e danos, Caso fortuito, Omissão, Deveres, Responsável, Accountability pública e Imputação. Multa - Multas. -- Sonegação de informação, Cláusula penal, Advertência (Licitação), Declaração de inidoneidade, Recurso administrativo, Suspensão temporária e Inadimplência.']\n",
      "2 : [-0.02331218123435974, '17993', 'O pagamento pela realização de serviços novos, não contidos no projeto originalmente licitado, utilizando-se para faturamento serviços constantes na planilha de preços original, sem a respectiva execução, é despesa sem cobertura contratual, a justificar aplicação de multa aos responsáveis envolvidos.\\nMulta - Multas. -- Sonegação de informação, Cláusula penal, Advertência (Licitação), Declaração de inidoneidade, Recurso administrativo, Suspensão temporária e Inadimplência. Responsabilidade - Responsabilidades. -- Prejuízo, Dever de lealdade, Termo de responsabilidade, Perdas e danos, Caso fortuito, Omissão, Deveres, Responsável, Accountability pública e Imputação. Contrato verbal -- Suprimento de fundos. Serviço novo - Serviços novos, Serviços adicionais, Serviços não contemplados, Serviço não previsto e Serviço não contemplado. Contrato administrativo - Contratos administrativos. -- Pedido de reexame, Renovação de contrato, Objeto do contrato, Reajuste, Revisão contratual, Fato do príncipe, Contratante, Correção monetária, Rescisão contratual, Remanescente de contrato, Contratações públicas, Consórcio público, Cadastro de Empresas Inidôneas e Suspensas, Alocação de riscos, Cadastro Integrado de Condenações por Ilícitos Administrativos, Lei do Pregão Eletrônico, Reconhecimento de dívida, Lei de Licitações e Contratos, Relicitação, Contrato de gestão, Equilíbrio econômico-financeiro, Termo aditivo, Contratado, Terceirização, Subcontratação, Prestação de serviço, Facilities, Cláusula, Licitação e Contratação direta.']\n",
      "3 : [-0.028355540707707405, '18384', 'A realização de pagamentos em data anterior à celebração do contrato caracteriza despesa sem cobertura contratual.\\nAssinatura - Subscrição. -- Endosso, Assinatura digital, Procuração e Termo de compromisso. Contrato administrativo - Contratos administrativos. -- Pedido de reexame, Renovação de contrato, Objeto do contrato, Reajuste, Revisão contratual, Fato do príncipe, Contratante, Correção monetária, Rescisão contratual, Remanescente de contrato, Contratações públicas, Consórcio público, Cadastro de Empresas Inidôneas e Suspensas, Alocação de riscos, Cadastro Integrado de Condenações por Ilícitos Administrativos, Lei do Pregão Eletrônico, Reconhecimento de dívida, Lei de Licitações e Contratos, Relicitação, Contrato de gestão, Equilíbrio econômico-financeiro, Termo aditivo, Contratado, Terceirização, Subcontratação, Prestação de serviço, Facilities, Cláusula, Licitação e Contratação direta. Formalização do contrato -- Contrato. Contrato verbal -- Suprimento de fundos.']\n",
      "4 : [-0.043593306094408035, '34996', 'A formalização dos contratos administrativos é indispensável, pois visa assegurar, dentre outras coisas, o exercício da fiscalização sobre o cumprimento de dispositivos legais. A formalização de contrato em momento posterior em nada muda a ilegalidade cometida, de forma que os pagamentos realizados à contratada nesse período caracterizam despesas sem cobertura contratual, a serem sopesadas no julgamento das contas do responsável.\\nAusência - Falta. -- Lacuna da lei. Contrato administrativo - Contratos administrativos. -- Pedido de reexame, Renovação de contrato, Objeto do contrato, Reajuste, Revisão contratual, Fato do príncipe, Contratante, Correção monetária, Rescisão contratual, Remanescente de contrato, Contratações públicas, Consórcio público, Cadastro de Empresas Inidôneas e Suspensas, Alocação de riscos, Cadastro Integrado de Condenações por Ilícitos Administrativos, Lei do Pregão Eletrônico, Reconhecimento de dívida, Lei de Licitações e Contratos, Relicitação, Contrato de gestão, Equilíbrio econômico-financeiro, Termo aditivo, Contratado, Terceirização, Subcontratação, Prestação de serviço, Facilities, Cláusula, Licitação e Contratação direta. Responsabilidade - Responsabilidades. -- Prejuízo, Dever de lealdade, Termo de responsabilidade, Perdas e danos, Caso fortuito, Omissão, Deveres, Responsável, Accountability pública e Imputação.']\n",
      "5 : [-0.047789737582206726, '17825', 'Pagamentos sem cobertura contratual ou prévio empenho constituem afronta à legislação ordinária, ressalvando-se, no que diz respeito à Lei 8.666/1993, os contratos verbais destinados às compras de pronto pagamento, feitas em regime de adiantamento, em valores não superiores ao estabelecido na norma (parágrafo único do art. 60) .\\nIlegalidade -- Representação, Mandado de segurança, Manifesta ilegalidade, Eficácia da lei, Abuso de autoridade, Habeas corpus e Princípio da legalidade. Exceção - Excepcionalidade. Formalização do contrato -- Contrato. Contrato administrativo - Contratos administrativos. -- Pedido de reexame, Renovação de contrato, Objeto do contrato, Reajuste, Revisão contratual, Fato do príncipe, Contratante, Correção monetária, Rescisão contratual, Remanescente de contrato, Contratações públicas, Consórcio público, Cadastro de Empresas Inidôneas e Suspensas, Alocação de riscos, Cadastro Integrado de Condenações por Ilícitos Administrativos, Lei do Pregão Eletrônico, Reconhecimento de dívida, Lei de Licitações e Contratos, Relicitação, Contrato de gestão, Equilíbrio econômico-financeiro, Termo aditivo, Contratado, Terceirização, Subcontratação, Prestação de serviço, Facilities, Cláusula, Licitação e Contratação direta. Contrato verbal -- Suprimento de fundos.']\n",
      "CPU times: user 3.29 s, sys: 59.8 ms, total: 3.35 s\n",
      "Wall time: 3.54 s\n"
     ]
    }
   ],
   "source": [
    "\n",
    "%%time\n",
    "for index_name in pipes:\n",
    "    print(f\"\\nindex_name {index_name}\")\n",
    "    for pipe in pipes[index_name]:\n",
    "        print(f\"*** retriever:{pipe['RETRIEVER_TYPE']} / ranker:{pipe['RANKER_TYPE']}\")\n",
    "        doctos_retornados_ranker =  pipe['PIPE_OBJECT'].run(query=parm_query, \n",
    "        params={\"Retriever\": {\"top_k\": 100}})\n",
    "        print(f'\\nIndex: {index_name}')\n",
    "        util_pipeline.detail_document_found(doctos_retornados_ranker,5)\n",
    "        torch.cuda.empty_cache()"
   ]
  },
  {
   "attachments": {},
   "cell_type": "markdown",
   "metadata": {},
   "source": [
    "### First stage = join"
   ]
  },
  {
   "cell_type": "code",
   "execution_count": null,
   "metadata": {},
   "outputs": [
    {
     "data": {
      "text/plain": [
       "100"
      ]
     },
     "execution_count": 48,
     "metadata": {},
     "output_type": "execute_result"
    }
   ],
   "source": [
    "limit_query_size_expanded"
   ]
  },
  {
   "cell_type": "code",
   "execution_count": null,
   "metadata": {},
   "outputs": [
    {
     "name": "stdout",
     "output_type": "stream",
     "text": [
      "Loading PTT5_BASE with limit_query_size=100\n",
      "CPU times: user 20.1 s, sys: 3.58 s, total: 23.6 s\n",
      "Wall time: 15.1 s\n"
     ]
    }
   ],
   "source": [
    "%%time\n",
    "for index_name in list_name_index:\n",
    "    pipe = {}\n",
    "    pipe['PIPE_OBJECT'] = util_pipeline.return_pipeline_join_bm25_sts_reranker(reference_data_index[index_name], ranker_type, \n",
    "                                parm_limit_query_size=limit_query_size_expanded)\n",
    "    pipe['RETRIEVER_TYPE'] = 'join'\n",
    "    pipe['RANKER_TYPE'] = ranker_type\n",
    "    pipe['RETRIEVER_MODEL_NAME'] = ''\n",
    "    pipes[index_name].append(pipe)\n"
   ]
  },
  {
   "cell_type": "code",
   "execution_count": null,
   "metadata": {},
   "outputs": [
    {
     "name": "stdout",
     "output_type": "stream",
     "text": [
      "\n",
      "index_name indir_juris_tcu\n",
      "*** retriever:join / ranker:PTT5_BASE\n",
      "\n",
      "Index: indir_juris_tcu\n",
      "Parâmetros usados: {'Bm25Retriever': {'top_k': 100}, 'StsRetriever': {'top_k': 100}}\n",
      "Consulta: despesa sem cobertura contratual\n",
      "Qtd documentos retornados: 188\n",
      "Seguem os nomes dos termos recuperados em ordem de score\n",
      "0 : [-0.006675917189568281, '18950', 'A realização de pagamentos previamente à assinatura dos respectivos instrumentos contratuais configura a realização de despesas sem cobertura contratual.']\n",
      "1 : [-0.00814509205520153, '19451', 'A realização de despesas sem cobertura contratual é irregularidade grave, que justifica a aplicação de multa aos responsáveis, bem como julgamento pela irregularidade de suas contas']\n",
      "2 : [-0.009357640519738197, '18384', 'A realização de pagamentos em data anterior à celebração do contrato caracteriza despesa sem cobertura contratual.']\n",
      "3 : [-0.011789292097091675, '17993', 'O pagamento pela realização de serviços novos, não contidos no projeto originalmente licitado, utilizando-se para faturamento serviços constantes na planilha de preços original, sem a respectiva execução, é despesa sem cobertura contratual, a justificar aplicação de multa aos responsáveis envolvidos.']\n",
      "4 : [-0.03434772044420242, '44083', 'A execução e o pagamento de serviços sem o devido respaldo contratual constituem ofensa ao art. 60 da Lei 8.666/1993.']\n",
      "5 : [-0.03676562011241913, '18060', 'A formalização de contrato em momento posterior em nada muda a ilegalidade da prévia contratação verbal, constituindo-se, com relação aos pagamentos realizados à empresa prestadora de serviços nesse período, despesas sem cobertura contratual, a serem sopesadas no julgamento das contas do responsável.']\n",
      "\n",
      "index_name indir_juris_tcu_term\n",
      "*** retriever:join / ranker:PTT5_BASE\n",
      "\n",
      "Index: indir_juris_tcu_term\n",
      "Parâmetros usados: {'Bm25Retriever': {'top_k': 100}, 'StsRetriever': {'top_k': 100}}\n",
      "Consulta: despesa sem cobertura contratual\n",
      "Qtd documentos retornados: 189\n",
      "Seguem os nomes dos termos recuperados em ordem de score\n",
      "0 : [-0.006020150613039732, '18950', 'A realização de pagamentos previamente à assinatura dos respectivos instrumentos contratuais configura a realização de despesas sem cobertura contratual.\\nContrato verbal, Contrato administrativo, Formalização do contrato.']\n",
      "1 : [-0.006328897550702095, '19451', 'A realização de despesas sem cobertura contratual é irregularidade grave, que justifica a aplicação de multa aos responsáveis, bem como julgamento pela irregularidade de suas contas\\nContas irregulares, Contrato administrativo, Contrato verbal, Responsabilidade, Multa.']\n",
      "2 : [-0.009587198495864868, '18384', 'A realização de pagamentos em data anterior à celebração do contrato caracteriza despesa sem cobertura contratual.\\nAssinatura, Contrato administrativo, Formalização do contrato, Contrato verbal.']\n",
      "3 : [-0.010821232572197914, '17993', 'O pagamento pela realização de serviços novos, não contidos no projeto originalmente licitado, utilizando-se para faturamento serviços constantes na planilha de preços original, sem a respectiva execução, é despesa sem cobertura contratual, a justificar aplicação de multa aos responsáveis envolvidos.\\nMulta, Responsabilidade, Contrato verbal, Serviço novo, Contrato administrativo.']\n",
      "4 : [-0.0386262871325016, '22174', 'Não havendo dano ao erário, a aquisição de bens e serviços sem cobertura contratual é considerada falha de natureza formal, resultando em ressalvas às contas dos responsáveis.\\nContas regulares com ressalva, Erro formal, Contrato verbal, Responsabilidade, Contrato administrativo.']\n",
      "5 : [-0.04004162177443504, '34996', 'A formalização dos contratos administrativos é indispensável, pois visa assegurar, dentre outras coisas, o exercício da fiscalização sobre o cumprimento de dispositivos legais. A formalização de contrato em momento posterior em nada muda a ilegalidade cometida, de forma que os pagamentos realizados à contratada nesse período caracterizam despesas sem cobertura contratual, a serem sopesadas no julgamento das contas do responsável.\\nAusência, Formalização, Contrato administrativo, Responsabilidade.']\n",
      "\n",
      "index_name indir_juris_tcu_synonym\n",
      "*** retriever:join / ranker:PTT5_BASE\n",
      "\n",
      "Index: indir_juris_tcu_synonym\n",
      "Parâmetros usados: {'Bm25Retriever': {'top_k': 100}, 'StsRetriever': {'top_k': 100}}\n",
      "Consulta: despesa sem cobertura contratual\n",
      "Qtd documentos retornados: 190\n",
      "Seguem os nomes dos termos recuperados em ordem de score\n",
      "0 : [-0.006968954112380743, '18950', 'A realização de pagamentos previamente à assinatura dos respectivos instrumentos contratuais configura a realização de despesas sem cobertura contratual.\\nContrato administrativo - Contratos administrativos.']\n",
      "1 : [-0.009084203280508518, '19451', 'A realização de despesas sem cobertura contratual é irregularidade grave, que justifica a aplicação de multa aos responsáveis, bem como julgamento pela irregularidade de suas contas\\nContas irregulares - Rejeição das contas e Contas julgadas irregulares. Contrato administrativo - Contratos administrativos. Responsabilidade - Responsabilidades. Multa - Multas.']\n",
      "2 : [-0.010048163123428822, '18384', 'A realização de pagamentos em data anterior à celebração do contrato caracteriza despesa sem cobertura contratual.\\nAssinatura - Subscrição. Contrato administrativo - Contratos administrativos.']\n",
      "3 : [-0.016666816547513008, '17993', 'O pagamento pela realização de serviços novos, não contidos no projeto originalmente licitado, utilizando-se para faturamento serviços constantes na planilha de preços original, sem a respectiva execução, é despesa sem cobertura contratual, a justificar aplicação de multa aos responsáveis envolvidos.\\nMulta - Multas. Responsabilidade - Responsabilidades. Serviço novo - Serviços novos, Serviços adicionais, Serviços não contemplados, Serviço não previsto e Serviço não contemplado. Contrato administrativo - Contratos administrativos.']\n",
      "4 : [-0.03502868860960007, '34996', 'A formalização dos contratos administrativos é indispensável, pois visa assegurar, dentre outras coisas, o exercício da fiscalização sobre o cumprimento de dispositivos legais. A formalização de contrato em momento posterior em nada muda a ilegalidade cometida, de forma que os pagamentos realizados à contratada nesse período caracterizam despesas sem cobertura contratual, a serem sopesadas no julgamento das contas do responsável.\\nAusência - Falta. Contrato administrativo - Contratos administrativos. Responsabilidade - Responsabilidades.']\n",
      "5 : [-0.037027228623628616, '17825', 'Pagamentos sem cobertura contratual ou prévio empenho constituem afronta à legislação ordinária, ressalvando-se, no que diz respeito à Lei 8.666/1993, os contratos verbais destinados às compras de pronto pagamento, feitas em regime de adiantamento, em valores não superiores ao estabelecido na norma (parágrafo único do art. 60) .\\nExceção - Excepcionalidade. Contrato administrativo - Contratos administrativos.']\n",
      "\n",
      "index_name indir_juris_tcu_related_term\n",
      "*** retriever:join / ranker:PTT5_BASE\n",
      "\n",
      "Index: indir_juris_tcu_related_term\n",
      "Parâmetros usados: {'Bm25Retriever': {'top_k': 100}, 'StsRetriever': {'top_k': 100}}\n",
      "Consulta: despesa sem cobertura contratual\n",
      "Qtd documentos retornados: 190\n",
      "Seguem os nomes dos termos recuperados em ordem de score\n",
      "0 : [-0.0088234543800354, '18950', 'A realização de pagamentos previamente à assinatura dos respectivos instrumentos contratuais configura a realização de despesas sem cobertura contratual.\\nContrato verbal -- Suprimento de fundos. Contrato administrativo -- Pedido de reexame, Renovação de contrato, Objeto do contrato, Reajuste, Revisão contratual, Fato do príncipe, Contratante, Correção monetária, Rescisão contratual, Remanescente de contrato, Contratações públicas, Consórcio público, Cadastro de Empresas Inidôneas e Suspensas, Alocação de riscos, Cadastro Integrado de Condenações por Ilícitos Administrativos, Lei do Pregão Eletrônico, Reconhecimento de dívida, Lei de Licitações e Contratos, Relicitação, Contrato de gestão, Equilíbrio econômico-financeiro, Termo aditivo, Contratado, Terceirização, Subcontratação, Prestação de serviço, Facilities, Cláusula, Licitação e Contratação direta. Formalização do contrato -- Contrato.']\n",
      "1 : [-0.01141988206654787, '19451', 'A realização de despesas sem cobertura contratual é irregularidade grave, que justifica a aplicação de multa aos responsáveis, bem como julgamento pela irregularidade de suas contas\\nContas irregulares -- Juros de mora, Título executivo, Decisão definitiva, Julgamento de contas, Prestação de contas, Tomada de contas e Cadirreg. Contrato administrativo -- Pedido de reexame, Renovação de contrato, Objeto do contrato, Reajuste, Revisão contratual, Fato do príncipe, Contratante, Correção monetária, Rescisão contratual, Remanescente de contrato, Contratações públicas, Consórcio público, Cadastro de Empresas Inidôneas e Suspensas, Alocação de riscos, Cadastro Integrado de Condenações por Ilícitos Administrativos, Lei do Pregão Eletrônico, Reconhecimento de dívida, Lei de Licitações e Contratos, Relicitação, Contrato de gestão, Equilíbrio econômico-financeiro, Termo aditivo, Contratado, Terceirização, Subcontratação, Prestação de serviço, Facilities, Cláusula, Licitação e Contratação direta. Contrato verbal -- Suprimento de fundos. Responsabilidade -- Prejuízo, Dever de lealdade, Termo de responsabilidade, Perdas e danos, Caso fortuito, Omissão, Deveres, Responsável, Accountability pública e Imputação. Multa -- Sonegação de informação, Cláusula penal, Advertência (Licitação), Declaração de inidoneidade, Recurso administrativo, Suspensão temporária e Inadimplência.']\n",
      "2 : [-0.01756165362894535, '17993', 'O pagamento pela realização de serviços novos, não contidos no projeto originalmente licitado, utilizando-se para faturamento serviços constantes na planilha de preços original, sem a respectiva execução, é despesa sem cobertura contratual, a justificar aplicação de multa aos responsáveis envolvidos.\\nMulta -- Sonegação de informação, Cláusula penal, Advertência (Licitação), Declaração de inidoneidade, Recurso administrativo, Suspensão temporária e Inadimplência. Responsabilidade -- Prejuízo, Dever de lealdade, Termo de responsabilidade, Perdas e danos, Caso fortuito, Omissão, Deveres, Responsável, Accountability pública e Imputação. Contrato verbal -- Suprimento de fundos. Contrato administrativo -- Pedido de reexame, Renovação de contrato, Objeto do contrato, Reajuste, Revisão contratual, Fato do príncipe, Contratante, Correção monetária, Rescisão contratual, Remanescente de contrato, Contratações públicas, Consórcio público, Cadastro de Empresas Inidôneas e Suspensas, Alocação de riscos, Cadastro Integrado de Condenações por Ilícitos Administrativos, Lei do Pregão Eletrônico, Reconhecimento de dívida, Lei de Licitações e Contratos, Relicitação, Contrato de gestão, Equilíbrio econômico-financeiro, Termo aditivo, Contratado, Terceirização, Subcontratação, Prestação de serviço, Facilities, Cláusula, Licitação e Contratação direta.']\n",
      "3 : [-0.01970934122800827, '18384', 'A realização de pagamentos em data anterior à celebração do contrato caracteriza despesa sem cobertura contratual.\\nAssinatura -- Endosso, Assinatura digital, Procuração e Termo de compromisso. Contrato administrativo -- Pedido de reexame, Renovação de contrato, Objeto do contrato, Reajuste, Revisão contratual, Fato do príncipe, Contratante, Correção monetária, Rescisão contratual, Remanescente de contrato, Contratações públicas, Consórcio público, Cadastro de Empresas Inidôneas e Suspensas, Alocação de riscos, Cadastro Integrado de Condenações por Ilícitos Administrativos, Lei do Pregão Eletrônico, Reconhecimento de dívida, Lei de Licitações e Contratos, Relicitação, Contrato de gestão, Equilíbrio econômico-financeiro, Termo aditivo, Contratado, Terceirização, Subcontratação, Prestação de serviço, Facilities, Cláusula, Licitação e Contratação direta. Formalização do contrato -- Contrato. Contrato verbal -- Suprimento de fundos.']\n",
      "4 : [-0.04267806559801102, '34996', 'A formalização dos contratos administrativos é indispensável, pois visa assegurar, dentre outras coisas, o exercício da fiscalização sobre o cumprimento de dispositivos legais. A formalização de contrato em momento posterior em nada muda a ilegalidade cometida, de forma que os pagamentos realizados à contratada nesse período caracterizam despesas sem cobertura contratual, a serem sopesadas no julgamento das contas do responsável.\\nAusência -- Lacuna da lei. Contrato administrativo -- Pedido de reexame, Renovação de contrato, Objeto do contrato, Reajuste, Revisão contratual, Fato do príncipe, Contratante, Correção monetária, Rescisão contratual, Remanescente de contrato, Contratações públicas, Consórcio público, Cadastro de Empresas Inidôneas e Suspensas, Alocação de riscos, Cadastro Integrado de Condenações por Ilícitos Administrativos, Lei do Pregão Eletrônico, Reconhecimento de dívida, Lei de Licitações e Contratos, Relicitação, Contrato de gestão, Equilíbrio econômico-financeiro, Termo aditivo, Contratado, Terceirização, Subcontratação, Prestação de serviço, Facilities, Cláusula, Licitação e Contratação direta. Responsabilidade -- Prejuízo, Dever de lealdade, Termo de responsabilidade, Perdas e danos, Caso fortuito, Omissão, Deveres, Responsável, Accountability pública e Imputação.']\n",
      "5 : [-0.04827431961894035, '17825', 'Pagamentos sem cobertura contratual ou prévio empenho constituem afronta à legislação ordinária, ressalvando-se, no que diz respeito à Lei 8.666/1993, os contratos verbais destinados às compras de pronto pagamento, feitas em regime de adiantamento, em valores não superiores ao estabelecido na norma (parágrafo único do art. 60) .\\nIlegalidade -- Representação, Mandado de segurança, Manifesta ilegalidade, Eficácia da lei, Abuso de autoridade, Habeas corpus e Princípio da legalidade. Formalização do contrato -- Contrato. Contrato administrativo -- Pedido de reexame, Renovação de contrato, Objeto do contrato, Reajuste, Revisão contratual, Fato do príncipe, Contratante, Correção monetária, Rescisão contratual, Remanescente de contrato, Contratações públicas, Consórcio público, Cadastro de Empresas Inidôneas e Suspensas, Alocação de riscos, Cadastro Integrado de Condenações por Ilícitos Administrativos, Lei do Pregão Eletrônico, Reconhecimento de dívida, Lei de Licitações e Contratos, Relicitação, Contrato de gestão, Equilíbrio econômico-financeiro, Termo aditivo, Contratado, Terceirização, Subcontratação, Prestação de serviço, Facilities, Cláusula, Licitação e Contratação direta. Contrato verbal -- Suprimento de fundos.']\n",
      "\n",
      "index_name indir_juris_tcu_synonym_related_term\n",
      "*** retriever:join / ranker:PTT5_BASE\n",
      "\n",
      "Index: indir_juris_tcu_synonym_related_term\n",
      "Parâmetros usados: {'Bm25Retriever': {'top_k': 100}, 'StsRetriever': {'top_k': 100}}\n",
      "Consulta: despesa sem cobertura contratual\n",
      "Qtd documentos retornados: 188\n",
      "Seguem os nomes dos termos recuperados em ordem de score\n",
      "0 : [-0.011631646193563938, '18950', 'A realização de pagamentos previamente à assinatura dos respectivos instrumentos contratuais configura a realização de despesas sem cobertura contratual.\\nContrato verbal -- Suprimento de fundos. Contrato administrativo - Contratos administrativos. -- Pedido de reexame, Renovação de contrato, Objeto do contrato, Reajuste, Revisão contratual, Fato do príncipe, Contratante, Correção monetária, Rescisão contratual, Remanescente de contrato, Contratações públicas, Consórcio público, Cadastro de Empresas Inidôneas e Suspensas, Alocação de riscos, Cadastro Integrado de Condenações por Ilícitos Administrativos, Lei do Pregão Eletrônico, Reconhecimento de dívida, Lei de Licitações e Contratos, Relicitação, Contrato de gestão, Equilíbrio econômico-financeiro, Termo aditivo, Contratado, Terceirização, Subcontratação, Prestação de serviço, Facilities, Cláusula, Licitação e Contratação direta. Formalização do contrato -- Contrato.']\n",
      "1 : [-0.014702308923006058, '19451', 'A realização de despesas sem cobertura contratual é irregularidade grave, que justifica a aplicação de multa aos responsáveis, bem como julgamento pela irregularidade de suas contas\\nContas irregulares - Rejeição das contas e Contas julgadas irregulares. -- Juros de mora, Título executivo, Decisão definitiva, Julgamento de contas, Prestação de contas, Tomada de contas e Cadirreg. Contrato administrativo - Contratos administrativos. -- Pedido de reexame, Renovação de contrato, Objeto do contrato, Reajuste, Revisão contratual, Fato do príncipe, Contratante, Correção monetária, Rescisão contratual, Remanescente de contrato, Contratações públicas, Consórcio público, Cadastro de Empresas Inidôneas e Suspensas, Alocação de riscos, Cadastro Integrado de Condenações por Ilícitos Administrativos, Lei do Pregão Eletrônico, Reconhecimento de dívida, Lei de Licitações e Contratos, Relicitação, Contrato de gestão, Equilíbrio econômico-financeiro, Termo aditivo, Contratado, Terceirização, Subcontratação, Prestação de serviço, Facilities, Cláusula, Licitação e Contratação direta. Contrato verbal -- Suprimento de fundos. Responsabilidade - Responsabilidades. -- Prejuízo, Dever de lealdade, Termo de responsabilidade, Perdas e danos, Caso fortuito, Omissão, Deveres, Responsável, Accountability pública e Imputação. Multa - Multas. -- Sonegação de informação, Cláusula penal, Advertência (Licitação), Declaração de inidoneidade, Recurso administrativo, Suspensão temporária e Inadimplência.']\n",
      "2 : [-0.02331218123435974, '17993', 'O pagamento pela realização de serviços novos, não contidos no projeto originalmente licitado, utilizando-se para faturamento serviços constantes na planilha de preços original, sem a respectiva execução, é despesa sem cobertura contratual, a justificar aplicação de multa aos responsáveis envolvidos.\\nMulta - Multas. -- Sonegação de informação, Cláusula penal, Advertência (Licitação), Declaração de inidoneidade, Recurso administrativo, Suspensão temporária e Inadimplência. Responsabilidade - Responsabilidades. -- Prejuízo, Dever de lealdade, Termo de responsabilidade, Perdas e danos, Caso fortuito, Omissão, Deveres, Responsável, Accountability pública e Imputação. Contrato verbal -- Suprimento de fundos. Serviço novo - Serviços novos, Serviços adicionais, Serviços não contemplados, Serviço não previsto e Serviço não contemplado. Contrato administrativo - Contratos administrativos. -- Pedido de reexame, Renovação de contrato, Objeto do contrato, Reajuste, Revisão contratual, Fato do príncipe, Contratante, Correção monetária, Rescisão contratual, Remanescente de contrato, Contratações públicas, Consórcio público, Cadastro de Empresas Inidôneas e Suspensas, Alocação de riscos, Cadastro Integrado de Condenações por Ilícitos Administrativos, Lei do Pregão Eletrônico, Reconhecimento de dívida, Lei de Licitações e Contratos, Relicitação, Contrato de gestão, Equilíbrio econômico-financeiro, Termo aditivo, Contratado, Terceirização, Subcontratação, Prestação de serviço, Facilities, Cláusula, Licitação e Contratação direta.']\n",
      "3 : [-0.028355540707707405, '18384', 'A realização de pagamentos em data anterior à celebração do contrato caracteriza despesa sem cobertura contratual.\\nAssinatura - Subscrição. -- Endosso, Assinatura digital, Procuração e Termo de compromisso. Contrato administrativo - Contratos administrativos. -- Pedido de reexame, Renovação de contrato, Objeto do contrato, Reajuste, Revisão contratual, Fato do príncipe, Contratante, Correção monetária, Rescisão contratual, Remanescente de contrato, Contratações públicas, Consórcio público, Cadastro de Empresas Inidôneas e Suspensas, Alocação de riscos, Cadastro Integrado de Condenações por Ilícitos Administrativos, Lei do Pregão Eletrônico, Reconhecimento de dívida, Lei de Licitações e Contratos, Relicitação, Contrato de gestão, Equilíbrio econômico-financeiro, Termo aditivo, Contratado, Terceirização, Subcontratação, Prestação de serviço, Facilities, Cláusula, Licitação e Contratação direta. Formalização do contrato -- Contrato. Contrato verbal -- Suprimento de fundos.']\n",
      "4 : [-0.043593306094408035, '34996', 'A formalização dos contratos administrativos é indispensável, pois visa assegurar, dentre outras coisas, o exercício da fiscalização sobre o cumprimento de dispositivos legais. A formalização de contrato em momento posterior em nada muda a ilegalidade cometida, de forma que os pagamentos realizados à contratada nesse período caracterizam despesas sem cobertura contratual, a serem sopesadas no julgamento das contas do responsável.\\nAusência - Falta. -- Lacuna da lei. Contrato administrativo - Contratos administrativos. -- Pedido de reexame, Renovação de contrato, Objeto do contrato, Reajuste, Revisão contratual, Fato do príncipe, Contratante, Correção monetária, Rescisão contratual, Remanescente de contrato, Contratações públicas, Consórcio público, Cadastro de Empresas Inidôneas e Suspensas, Alocação de riscos, Cadastro Integrado de Condenações por Ilícitos Administrativos, Lei do Pregão Eletrônico, Reconhecimento de dívida, Lei de Licitações e Contratos, Relicitação, Contrato de gestão, Equilíbrio econômico-financeiro, Termo aditivo, Contratado, Terceirização, Subcontratação, Prestação de serviço, Facilities, Cláusula, Licitação e Contratação direta. Responsabilidade - Responsabilidades. -- Prejuízo, Dever de lealdade, Termo de responsabilidade, Perdas e danos, Caso fortuito, Omissão, Deveres, Responsável, Accountability pública e Imputação.']\n",
      "5 : [-0.047789737582206726, '17825', 'Pagamentos sem cobertura contratual ou prévio empenho constituem afronta à legislação ordinária, ressalvando-se, no que diz respeito à Lei 8.666/1993, os contratos verbais destinados às compras de pronto pagamento, feitas em regime de adiantamento, em valores não superiores ao estabelecido na norma (parágrafo único do art. 60) .\\nIlegalidade -- Representação, Mandado de segurança, Manifesta ilegalidade, Eficácia da lei, Abuso de autoridade, Habeas corpus e Princípio da legalidade. Exceção - Excepcionalidade. Formalização do contrato -- Contrato. Contrato administrativo - Contratos administrativos. -- Pedido de reexame, Renovação de contrato, Objeto do contrato, Reajuste, Revisão contratual, Fato do príncipe, Contratante, Correção monetária, Rescisão contratual, Remanescente de contrato, Contratações públicas, Consórcio público, Cadastro de Empresas Inidôneas e Suspensas, Alocação de riscos, Cadastro Integrado de Condenações por Ilícitos Administrativos, Lei do Pregão Eletrônico, Reconhecimento de dívida, Lei de Licitações e Contratos, Relicitação, Contrato de gestão, Equilíbrio econômico-financeiro, Termo aditivo, Contratado, Terceirização, Subcontratação, Prestação de serviço, Facilities, Cláusula, Licitação e Contratação direta. Contrato verbal -- Suprimento de fundos.']\n",
      "CPU times: user 7.82 s, sys: 268 ms, total: 8.08 s\n",
      "Wall time: 8.55 s\n"
     ]
    }
   ],
   "source": [
    "\n",
    "%%time\n",
    "for index_name in pipes:\n",
    "    print(f\"\\nindex_name {index_name}\")\n",
    "    for pipe in pipes[index_name]:\n",
    "        if  pipe['RETRIEVER_TYPE'] == 'join':\n",
    "            print(f\"*** retriever:{pipe['RETRIEVER_TYPE']} / ranker:{pipe['RANKER_TYPE']}\")\n",
    "            doctos_retornados_ranker =  pipe['PIPE_OBJECT'].run(query=parm_query, \n",
    "            params={\n",
    "            \"Bm25Retriever\":{\"top_k\": 100},\n",
    "            \"StsRetriever\": {\"top_k\": 100}\n",
    "            })\n",
    "            print(f'\\nIndex: {index_name}')\n",
    "            util_pipeline.detail_document_found(doctos_retornados_ranker,5)\n",
    "            torch.cuda.empty_cache()"
   ]
  },
  {
   "attachments": {},
   "cell_type": "markdown",
   "metadata": {},
   "source": [
    "### First stage = Sentence Similarity"
   ]
  },
  {
   "cell_type": "code",
   "execution_count": null,
   "metadata": {},
   "outputs": [
    {
     "name": "stdout",
     "output_type": "stream",
     "text": [
      "CPU times: user 14.9 s, sys: 2.05 s, total: 16.9 s\n",
      "Wall time: 9.21 s\n"
     ]
    }
   ],
   "source": [
    "%%time\n",
    "for index_name in list_name_index:\n",
    "    pipe = {}\n",
    "    pipe['PIPE_OBJECT'] = util_pipeline.return_pipeline_sts_reranker(reference_data_index[index_name], ranker_type, \n",
    "                                parm_limit_query_size=limit_query_size_expanded)\n",
    "    pipe['RETRIEVER_TYPE'] = 'sts'\n",
    "    pipe['RANKER_TYPE'] = ranker_type\n",
    "    pipe['RETRIEVER_MODEL_NAME'] = ''\n",
    "    pipes[index_name].append(pipe)\n"
   ]
  },
  {
   "cell_type": "code",
   "execution_count": null,
   "metadata": {},
   "outputs": [
    {
     "name": "stdout",
     "output_type": "stream",
     "text": [
      "\n",
      "index_name indir_juris_tcu\n",
      "*** retriever:bm25 / ranker:none\n",
      "\n",
      "Index: indir_juris_tcu\n",
      "Parâmetros usados: {'Retriever': {'top_k': 100}}\n",
      "Consulta: despesa sem cobertura contratual\n",
      "Qtd documentos retornados: 100\n",
      "Seguem os nomes dos termos recuperados em ordem de score\n",
      "0 : [0.9497785738073338, '18384', 'A realização de pagamentos em data anterior à celebração do contrato caracteriza despesa sem cobertura contratual.']\n",
      "1 : [0.9172683438466377, '17993', 'O pagamento pela realização de serviços novos, não contidos no projeto originalmente licitado, utilizando-se para faturamento serviços constantes na planilha de preços original, sem a respectiva execução, é despesa sem cobertura contratual, a justificar aplicação de multa aos responsáveis envolvidos.']\n",
      "2 : [0.8962556736040861, '18905', 'A execução de serviços sem cobertura contratual, mas autorizados pela Administração, gera o dever de indenizar.']\n",
      "3 : [0.889172123906067, '18950', 'A realização de pagamentos previamente à assinatura dos respectivos instrumentos contratuais configura a realização de despesas sem cobertura contratual.']\n",
      "4 : [0.8802496867482822, '18089', 'Nos casos de reconhecimento de dívida por serviços realizados sem cobertura contratual válida deve ser verificado se o valor a ser pago está em conformidade com os praticados pelo mercado, se foi apresentado documento fiscal da contratada interessada, assim como providenciado o atesto à despesa por servidor que tenha condições de reconhecer que os serviços foram efetivamente prestados.']\n",
      "5 : [0.8730238803175955, '19451', 'A realização de despesas sem cobertura contratual é irregularidade grave, que justifica a aplicação de multa aos responsáveis, bem como julgamento pela irregularidade de suas contas']\n",
      "*** retriever:bm25 / ranker:MINILM_INDIR_400\n",
      "\n",
      "Index: indir_juris_tcu\n",
      "Parâmetros usados: {'Retriever': {'top_k': 100}}\n",
      "Consulta: despesa sem cobertura contratual\n",
      "Qtd documentos retornados: 100\n",
      "Seguem os nomes dos termos recuperados em ordem de score\n",
      "0 : [0.7853959798812866, '19451', 'A realização de despesas sem cobertura contratual é irregularidade grave, que justifica a aplicação de multa aos responsáveis, bem como julgamento pela irregularidade de suas contas']\n",
      "1 : [0.7202020883560181, '17825', 'Pagamentos sem cobertura contratual ou prévio empenho constituem afronta à legislação ordinária, ressalvando-se, no que diz respeito à Lei 8.666/1993, os contratos verbais destinados às compras de pronto pagamento, feitas em regime de adiantamento, em valores não superiores ao estabelecido na norma (parágrafo único do art. 60) .']\n",
      "2 : [0.6971409916877747, '18384', 'A realização de pagamentos em data anterior à celebração do contrato caracteriza despesa sem cobertura contratual.']\n",
      "3 : [0.6939610242843628, '18905', 'A execução de serviços sem cobertura contratual, mas autorizados pela Administração, gera o dever de indenizar.']\n",
      "4 : [0.6920106410980225, '32631', 'O regime contratual de administração contratada não encontra amparo legal.']\n",
      "5 : [0.6762628555297852, '18950', 'A realização de pagamentos previamente à assinatura dos respectivos instrumentos contratuais configura a realização de despesas sem cobertura contratual.']\n",
      "*** retriever:sts / ranker:MINILM_INDIR_400\n",
      "\n",
      "Index: indir_juris_tcu\n",
      "Parâmetros usados: {'Retriever': {'top_k': 100}}\n",
      "Consulta: despesa sem cobertura contratual\n",
      "Qtd documentos retornados: 100\n",
      "Seguem os nomes dos termos recuperados em ordem de score\n",
      "0 : [0.7853272557258606, '19451', 'A realização de despesas sem cobertura contratual é irregularidade grave, que justifica a aplicação de multa aos responsáveis, bem como julgamento pela irregularidade de suas contas']\n",
      "1 : [0.6972715258598328, '18384', 'A realização de pagamentos em data anterior à celebração do contrato caracteriza despesa sem cobertura contratual.']\n",
      "2 : [0.6939517259597778, '18905', 'A execução de serviços sem cobertura contratual, mas autorizados pela Administração, gera o dever de indenizar.']\n",
      "3 : [0.6762726902961731, '18950', 'A realização de pagamentos previamente à assinatura dos respectivos instrumentos contratuais configura a realização de despesas sem cobertura contratual.']\n",
      "4 : [0.6732677221298218, '22174', 'Não havendo dano ao erário, a aquisição de bens e serviços sem cobertura contratual é considerada falha de natureza formal, resultando em ressalvas às contas dos responsáveis.']\n",
      "5 : [0.6621299982070923, '17993', 'O pagamento pela realização de serviços novos, não contidos no projeto originalmente licitado, utilizando-se para faturamento serviços constantes na planilha de preços original, sem a respectiva execução, é despesa sem cobertura contratual, a justificar aplicação de multa aos responsáveis envolvidos.']\n",
      "\n",
      "index_name indir_juris_tcu_term\n",
      "*** retriever:bm25 / ranker:none\n",
      "\n",
      "Index: indir_juris_tcu_term\n",
      "Parâmetros usados: {'Retriever': {'top_k': 100}}\n",
      "Consulta: despesa sem cobertura contratual\n",
      "Qtd documentos retornados: 100\n",
      "Seguem os nomes dos termos recuperados em ordem de score\n",
      "0 : [0.9321431305099888, '18384', 'A realização de pagamentos em data anterior à celebração do contrato caracteriza despesa sem cobertura contratual.\\nAssinatura, Contrato administrativo, Formalização do contrato, Contrato verbal.']\n",
      "1 : [0.9052066284576652, '17993', 'O pagamento pela realização de serviços novos, não contidos no projeto originalmente licitado, utilizando-se para faturamento serviços constantes na planilha de preços original, sem a respectiva execução, é despesa sem cobertura contratual, a justificar aplicação de multa aos responsáveis envolvidos.\\nMulta, Responsabilidade, Contrato verbal, Serviço novo, Contrato administrativo.']\n",
      "2 : [0.879401762108269, '18089', 'Nos casos de reconhecimento de dívida por serviços realizados sem cobertura contratual válida deve ser verificado se o valor a ser pago está em conformidade com os praticados pelo mercado, se foi apresentado documento fiscal da contratada interessada, assim como providenciado o atesto à despesa por servidor que tenha condições de reconhecer que os serviços foram efetivamente prestados.\\nReconhecimento, Contrato administrativo, Liquidação da despesa, Atestação, Pagamento, Contrato verbal, Dívida, Preço de mercado.']\n",
      "3 : [0.877860648709494, '18950', 'A realização de pagamentos previamente à assinatura dos respectivos instrumentos contratuais configura a realização de despesas sem cobertura contratual.\\nContrato verbal, Contrato administrativo, Formalização do contrato.']\n",
      "4 : [0.8759338844188369, '18905', 'A execução de serviços sem cobertura contratual, mas autorizados pela Administração, gera o dever de indenizar.\\nFormalização do contrato, Contrato administrativo, Contrato verbal, Indenização, Execução de contrato.']\n",
      "5 : [0.8627165294733645, '19451', 'A realização de despesas sem cobertura contratual é irregularidade grave, que justifica a aplicação de multa aos responsáveis, bem como julgamento pela irregularidade de suas contas\\nContas irregulares, Contrato administrativo, Contrato verbal, Responsabilidade, Multa.']\n",
      "*** retriever:bm25 / ranker:MINILM_INDIR_400\n",
      "\n",
      "Index: indir_juris_tcu_term\n",
      "Parâmetros usados: {'Retriever': {'top_k': 100}}\n",
      "Consulta: despesa sem cobertura contratual\n",
      "Qtd documentos retornados: 100\n",
      "Seguem os nomes dos termos recuperados em ordem de score\n",
      "0 : [0.8080602288246155, '19451', 'A realização de despesas sem cobertura contratual é irregularidade grave, que justifica a aplicação de multa aos responsáveis, bem como julgamento pela irregularidade de suas contas\\nContas irregulares, Contrato administrativo, Contrato verbal, Responsabilidade, Multa.']\n",
      "1 : [0.7307995557785034, '18384', 'A realização de pagamentos em data anterior à celebração do contrato caracteriza despesa sem cobertura contratual.\\nAssinatura, Contrato administrativo, Formalização do contrato, Contrato verbal.']\n",
      "2 : [0.7133083939552307, '17825', 'Pagamentos sem cobertura contratual ou prévio empenho constituem afronta à legislação ordinária, ressalvando-se, no que diz respeito à Lei 8.666/1993, os contratos verbais destinados às compras de pronto pagamento, feitas em regime de adiantamento, em valores não superiores ao estabelecido na norma (parágrafo único do art. 60) .\\nIlegalidade, Exceção, Formalização do contrato, Contrato administrativo, Contrato verbal.']\n",
      "3 : [0.6801782250404358, '18905', 'A execução de serviços sem cobertura contratual, mas autorizados pela Administração, gera o dever de indenizar.\\nFormalização do contrato, Contrato administrativo, Contrato verbal, Indenização, Execução de contrato.']\n",
      "4 : [0.6770056486129761, '18950', 'A realização de pagamentos previamente à assinatura dos respectivos instrumentos contratuais configura a realização de despesas sem cobertura contratual.\\nContrato verbal, Contrato administrativo, Formalização do contrato.']\n",
      "5 : [0.660430371761322, '22174', 'Não havendo dano ao erário, a aquisição de bens e serviços sem cobertura contratual é considerada falha de natureza formal, resultando em ressalvas às contas dos responsáveis.\\nContas regulares com ressalva, Erro formal, Contrato verbal, Responsabilidade, Contrato administrativo.']\n",
      "*** retriever:sts / ranker:MINILM_INDIR_400\n",
      "\n",
      "Index: indir_juris_tcu_term\n",
      "Parâmetros usados: {'Retriever': {'top_k': 100}}\n",
      "Consulta: despesa sem cobertura contratual\n",
      "Qtd documentos retornados: 100\n",
      "Seguem os nomes dos termos recuperados em ordem de score\n",
      "0 : [0.808113694190979, '19451', 'A realização de despesas sem cobertura contratual é irregularidade grave, que justifica a aplicação de multa aos responsáveis, bem como julgamento pela irregularidade de suas contas\\nContas irregulares, Contrato administrativo, Contrato verbal, Responsabilidade, Multa.']\n",
      "1 : [0.7307783961296082, '18384', 'A realização de pagamentos em data anterior à celebração do contrato caracteriza despesa sem cobertura contratual.\\nAssinatura, Contrato administrativo, Formalização do contrato, Contrato verbal.']\n",
      "2 : [0.6770735383033752, '18950', 'A realização de pagamentos previamente à assinatura dos respectivos instrumentos contratuais configura a realização de despesas sem cobertura contratual.\\nContrato verbal, Contrato administrativo, Formalização do contrato.']\n",
      "3 : [0.6590002179145813, '17993', 'O pagamento pela realização de serviços novos, não contidos no projeto originalmente licitado, utilizando-se para faturamento serviços constantes na planilha de preços original, sem a respectiva execução, é despesa sem cobertura contratual, a justificar aplicação de multa aos responsáveis envolvidos.\\nMulta, Responsabilidade, Contrato verbal, Serviço novo, Contrato administrativo.']\n",
      "4 : [0.6517744064331055, '18089', 'Nos casos de reconhecimento de dívida por serviços realizados sem cobertura contratual válida deve ser verificado se o valor a ser pago está em conformidade com os praticados pelo mercado, se foi apresentado documento fiscal da contratada interessada, assim como providenciado o atesto à despesa por servidor que tenha condições de reconhecer que os serviços foram efetivamente prestados.\\nReconhecimento, Contrato administrativo, Liquidação da despesa, Atestação, Pagamento, Contrato verbal, Dívida, Preço de mercado.']\n",
      "5 : [0.6409463882446289, '15096', 'É irregular a realização de despesas antes de o convênio entrar em vigor.\\nResponsabilidade, Execução financeira, Vigência, Despesa, Convênio.']\n",
      "\n",
      "index_name indir_juris_tcu_synonym\n",
      "*** retriever:bm25 / ranker:none\n",
      "\n",
      "Index: indir_juris_tcu_synonym\n",
      "Parâmetros usados: {'Retriever': {'top_k': 100}}\n",
      "Consulta: despesa sem cobertura contratual\n",
      "Qtd documentos retornados: 100\n",
      "Seguem os nomes dos termos recuperados em ordem de score\n",
      "0 : [0.9392426259481879, '18384', 'A realização de pagamentos em data anterior à celebração do contrato caracteriza despesa sem cobertura contratual.\\nAssinatura - Subscrição. Contrato administrativo - Contratos administrativos.']\n",
      "1 : [0.90195523675644, '17993', 'O pagamento pela realização de serviços novos, não contidos no projeto originalmente licitado, utilizando-se para faturamento serviços constantes na planilha de preços original, sem a respectiva execução, é despesa sem cobertura contratual, a justificar aplicação de multa aos responsáveis envolvidos.\\nMulta - Multas. Responsabilidade - Responsabilidades. Serviço novo - Serviços novos, Serviços adicionais, Serviços não contemplados, Serviço não previsto e Serviço não contemplado. Contrato administrativo - Contratos administrativos.']\n",
      "2 : [0.8833955887370857, '18950', 'A realização de pagamentos previamente à assinatura dos respectivos instrumentos contratuais configura a realização de despesas sem cobertura contratual.\\nContrato administrativo - Contratos administrativos.']\n",
      "3 : [0.8804965349055768, '18905', 'A execução de serviços sem cobertura contratual, mas autorizados pela Administração, gera o dever de indenizar.\\nContrato administrativo - Contratos administrativos. Indenização - Vantagem indenizatória e Indenizações.']\n",
      "4 : [0.8665960404029213, '18089', 'Nos casos de reconhecimento de dívida por serviços realizados sem cobertura contratual válida deve ser verificado se o valor a ser pago está em conformidade com os praticados pelo mercado, se foi apresentado documento fiscal da contratada interessada, assim como providenciado o atesto à despesa por servidor que tenha condições de reconhecer que os serviços foram efetivamente prestados.\\nReconhecimento - Práticas de reconhecimento. Contrato administrativo - Contratos administrativos. Dívida - Obrigação em dinheiro, Dívida de dinheiro, Dívida em dinheiro e Obrigação pecuniária. Preço de mercado - Valor de mercado, Preços de mercado e Preço de equilíbrio.']\n",
      "5 : [0.856698792093163, '19451', 'A realização de despesas sem cobertura contratual é irregularidade grave, que justifica a aplicação de multa aos responsáveis, bem como julgamento pela irregularidade de suas contas\\nContas irregulares - Rejeição das contas e Contas julgadas irregulares. Contrato administrativo - Contratos administrativos. Responsabilidade - Responsabilidades. Multa - Multas.']\n",
      "*** retriever:bm25 / ranker:MINILM_INDIR_400\n",
      "\n",
      "Index: indir_juris_tcu_synonym\n",
      "Parâmetros usados: {'Retriever': {'top_k': 100}}\n",
      "Consulta: despesa sem cobertura contratual\n",
      "Qtd documentos retornados: 100\n",
      "Seguem os nomes dos termos recuperados em ordem de score\n",
      "0 : [0.7882546782493591, '19451', 'A realização de despesas sem cobertura contratual é irregularidade grave, que justifica a aplicação de multa aos responsáveis, bem como julgamento pela irregularidade de suas contas\\nContas irregulares - Rejeição das contas e Contas julgadas irregulares. Contrato administrativo - Contratos administrativos. Responsabilidade - Responsabilidades. Multa - Multas.']\n",
      "1 : [0.6987608075141907, '18384', 'A realização de pagamentos em data anterior à celebração do contrato caracteriza despesa sem cobertura contratual.\\nAssinatura - Subscrição. Contrato administrativo - Contratos administrativos.']\n",
      "2 : [0.6911421418190002, '17825', 'Pagamentos sem cobertura contratual ou prévio empenho constituem afronta à legislação ordinária, ressalvando-se, no que diz respeito à Lei 8.666/1993, os contratos verbais destinados às compras de pronto pagamento, feitas em regime de adiantamento, em valores não superiores ao estabelecido na norma (parágrafo único do art. 60) .\\nExceção - Excepcionalidade. Contrato administrativo - Contratos administrativos.']\n",
      "3 : [0.6902667284011841, '31618', 'As compras devem ser planejadas por exercício, mediante processo licitatório, evitando-se compras diretas com dispensa de licitação, a partir de fracionamento da despesa.\\nContratação direta - Compras diretas, Compra direta e Contratações diretas. Dispensa de licitação - Licitação dispensada, Licitação dispensável, Compra sem licitação, Compra por dispensa, Procedimento de dispensa de licitação, Procedimento para dispensa de licitação e Dispensa por valor. Licitação - Certame licitatório, Procedimento licitatório, Procedimentos licitatórios, Licitação pública, Licitações públicas e Licitações. Valor - Valores. Fracionamento da despesa - Fragmentação de despesa, Fracionamento de despesa e Fracionamento de licitação.']\n",
      "4 : [0.6896656155586243, '35654', 'Cada ato de prorrogação equivale a uma renovação contratual, motivo pelo qual a decisão pela prorrogação de contratação direta deve ser devidamente planejada e motivada, principalmente mediante a indicação da hipótese legal ensejadora da dispensa ou da inexigibilidade de licitação, válida no momento do ato de prorrogação contratual.\\nPrincípio da motivação - Motivação da sentença e Fundamento da sentença. Prorrogação de contrato - Prorrogação contratual. Requisito - Requisitos. Inexigibilidade de licitação - Inexigibilidade e Licitação inexigível. Contrato administrativo - Contratos administrativos. Dispensa de licitação - Licitação dispensada, Licitação dispensável, Compra sem licitação, Compra por dispensa, Procedimento de dispensa de licitação, Procedimento para dispensa de licitação e Dispensa por valor.']\n",
      "5 : [0.6850815415382385, '18905', 'A execução de serviços sem cobertura contratual, mas autorizados pela Administração, gera o dever de indenizar.\\nContrato administrativo - Contratos administrativos. Indenização - Vantagem indenizatória e Indenizações.']\n",
      "*** retriever:sts / ranker:MINILM_INDIR_400\n",
      "\n",
      "Index: indir_juris_tcu_synonym\n",
      "Parâmetros usados: {'Retriever': {'top_k': 100}}\n",
      "Consulta: despesa sem cobertura contratual\n",
      "Qtd documentos retornados: 100\n",
      "Seguem os nomes dos termos recuperados em ordem de score\n",
      "0 : [0.7883528470993042, '19451', 'A realização de despesas sem cobertura contratual é irregularidade grave, que justifica a aplicação de multa aos responsáveis, bem como julgamento pela irregularidade de suas contas\\nContas irregulares - Rejeição das contas e Contas julgadas irregulares. Contrato administrativo - Contratos administrativos. Responsabilidade - Responsabilidades. Multa - Multas.']\n",
      "1 : [0.6986792087554932, '18384', 'A realização de pagamentos em data anterior à celebração do contrato caracteriza despesa sem cobertura contratual.\\nAssinatura - Subscrição. Contrato administrativo - Contratos administrativos.']\n",
      "2 : [0.6929539442062378, '44889', 'A impugnação da totalidade das despesas realizadas com os recursos repassados pelo concedente afasta a obrigatoriedade de restituição da parcela referente à contrapartida do convenente, sob pena de enriquecimento sem causa da União.\\nResponsabilidade - Responsabilidades. Convênio - Convênios e congêneres, Convênio de colaboração, Convênio de cooperação, Convênio da Administração Pública, Convênio administrativo e Convênio público. Débito - Débitos. Ausência - Falta. Contrapartida - Contrapartida financeira.']\n",
      "3 : [0.6921679973602295, '49862', 'O saque em espécie da totalidade dos recursos da conta específica do convênio enseja débito, face à inexistência do correspondente e necessário nexo causal entre o desembolso e a despesa efetuada.\\nConta corrente específica - Conta específica, Conta de convênio, Conta do convênio, Conta específica do convênio, Conta específica de convênio e Conta corrente de convênio. Débito - Débitos. Convênio - Convênios e congêneres, Convênio de colaboração, Convênio de cooperação, Convênio da Administração Pública, Convênio administrativo e Convênio público. Nexo de causalidade - Relação de causalidade, Relação causal e Nexo causal.']\n",
      "4 : [0.6893569827079773, '58132', 'A impugnação da totalidade das despesas realizadas com os recursos repassados pelo concedente afasta a obrigatoriedade de restituição da parcela referente à contrapartida do convenente, sob pena de enriquecimento sem causa da União.\\nResponsabilidade - Responsabilidades. Convênio - Convênios e congêneres, Convênio de colaboração, Convênio de cooperação, Convênio da Administração Pública, Convênio administrativo e Convênio público. Débito - Débitos. Contrapartida - Contrapartida financeira.']\n",
      "5 : [0.6887829303741455, '68267', 'Quando configurada ausência de aplicação de contrapartida prevista em instrumento de convênio, cabe ao ente federado convenente o ressarcimento, vez que incorporou a seu patrimônio a vantagem financeira correspondente à parcela da contrapartida que deixou de ser aplicada.\\nDébito - Débitos. Ente da Federação - Entes federados, Ente federativo, Unidade da Federação, UF, Ente federado, Entidade federada e Entidade federativa. Convênio - Convênios e congêneres, Convênio de colaboração, Convênio de cooperação, Convênio da Administração Pública, Convênio administrativo e Convênio público. Responsabilidade - Responsabilidades. Contrapartida - Contrapartida financeira.']\n",
      "\n",
      "index_name indir_juris_tcu_related_term\n",
      "*** retriever:bm25 / ranker:none\n",
      "\n",
      "Index: indir_juris_tcu_related_term\n",
      "Parâmetros usados: {'Retriever': {'top_k': 100}}\n",
      "Consulta: despesa sem cobertura contratual\n",
      "Qtd documentos retornados: 100\n",
      "Seguem os nomes dos termos recuperados em ordem de score\n",
      "0 : [0.8413750624211767, '18384', 'A realização de pagamentos em data anterior à celebração do contrato caracteriza despesa sem cobertura contratual.\\nAssinatura -- Endosso, Assinatura digital, Procuração e Termo de compromisso. Contrato administrativo -- Pedido de reexame, Renovação de contrato, Objeto do contrato, Reajuste, Revisão contratual, Fato do príncipe, Contratante, Correção monetária, Rescisão contratual, Remanescente de contrato, Contratações públicas, Consórcio público, Cadastro de Empresas Inidôneas e Suspensas, Alocação de riscos, Cadastro Integrado de Condenações por Ilícitos Administrativos, Lei do Pregão Eletrônico, Reconhecimento de dívida, Lei de Licitações e Contratos, Relicitação, Contrato de gestão, Equilíbrio econômico-financeiro, Termo aditivo, Contratado, Terceirização, Subcontratação, Prestação de serviço, Facilities, Cláusula, Licitação e Contratação direta. Formalização do contrato -- Contrato. Contrato verbal -- Suprimento de fundos.']\n",
      "1 : [0.8331103269449515, '17993', 'O pagamento pela realização de serviços novos, não contidos no projeto originalmente licitado, utilizando-se para faturamento serviços constantes na planilha de preços original, sem a respectiva execução, é despesa sem cobertura contratual, a justificar aplicação de multa aos responsáveis envolvidos.\\nMulta -- Sonegação de informação, Cláusula penal, Advertência (Licitação), Declaração de inidoneidade, Recurso administrativo, Suspensão temporária e Inadimplência. Responsabilidade -- Prejuízo, Dever de lealdade, Termo de responsabilidade, Perdas e danos, Caso fortuito, Omissão, Deveres, Responsável, Accountability pública e Imputação. Contrato verbal -- Suprimento de fundos. Contrato administrativo -- Pedido de reexame, Renovação de contrato, Objeto do contrato, Reajuste, Revisão contratual, Fato do príncipe, Contratante, Correção monetária, Rescisão contratual, Remanescente de contrato, Contratações públicas, Consórcio público, Cadastro de Empresas Inidôneas e Suspensas, Alocação de riscos, Cadastro Integrado de Condenações por Ilícitos Administrativos, Lei do Pregão Eletrônico, Reconhecimento de dívida, Lei de Licitações e Contratos, Relicitação, Contrato de gestão, Equilíbrio econômico-financeiro, Termo aditivo, Contratado, Terceirização, Subcontratação, Prestação de serviço, Facilities, Cláusula, Licitação e Contratação direta.']\n",
      "2 : [0.8285164893281375, '18950', 'A realização de pagamentos previamente à assinatura dos respectivos instrumentos contratuais configura a realização de despesas sem cobertura contratual.\\nContrato verbal -- Suprimento de fundos. Contrato administrativo -- Pedido de reexame, Renovação de contrato, Objeto do contrato, Reajuste, Revisão contratual, Fato do príncipe, Contratante, Correção monetária, Rescisão contratual, Remanescente de contrato, Contratações públicas, Consórcio público, Cadastro de Empresas Inidôneas e Suspensas, Alocação de riscos, Cadastro Integrado de Condenações por Ilícitos Administrativos, Lei do Pregão Eletrônico, Reconhecimento de dívida, Lei de Licitações e Contratos, Relicitação, Contrato de gestão, Equilíbrio econômico-financeiro, Termo aditivo, Contratado, Terceirização, Subcontratação, Prestação de serviço, Facilities, Cláusula, Licitação e Contratação direta. Formalização do contrato -- Contrato.']\n",
      "3 : [0.8141400356717412, '73790', 'Os órgãos e entidades da Administração Pública Federal podem aceitar apólice de seguro - apresentada por empresa vencedora de certame licitatório para garantir o fiel cumprimento das obrigações assumidas no contrato - que contenha cláusula que exclua de cobertura prejuízos e demais penalidades causados ou relacionados a atos ou fatos violadores de normas de anticorrupção que tenham sido provocados pelo segurado ou seu representante, seja isoladamente, seja em concurso com o tomador ou seu representante. Por outro lado, devem recusar apólice de seguro que contenha cláusula que exclua de cobertura prejuízos e demais penalidades causados ou relacionados a atos ou fatos violadores de normas de anticorrupção que tenham sido provocados exclusivamente pelo tomador ou seu representante, sem o concurso do segurado ou seu representante.\\nCorrupção -- Laranja, Operação Lava Jato, Combate à corrupção, Acordo de leniência, Suborno, Concussão, Prevaricação, Empresa fictícia, Improbidade administrativa, Crime contra as finanças públicas, Anticorrupção, Lei Anticorrupção, Programa de integridade, Enriquecimento ilícito e Fraude. Seguro garantia -- Garantia contratual, Caução, Fiança bancária, Avalista, Aval, Fiança e Garantia fidejussória. Contrato administrativo -- Pedido de reexame, Renovação de contrato, Objeto do contrato, Reajuste, Revisão contratual, Fato do príncipe, Contratante, Correção monetária, Rescisão contratual, Remanescente de contrato, Contratações públicas, Consórcio público, Cadastro de Empresas Inidôneas e Suspensas, Alocação de riscos, Cadastro Integrado de Condenações por Ilícitos Administrativos, Lei do Pregão Eletrônico, Reconhecimento de dívida, Lei de Licitações e Contratos, Relicitação, Contrato de gestão, Equilíbrio econômico-financeiro, Termo aditivo, Contratado, Terceirização, Subcontratação, Prestação de serviço, Facilities, Cláusula, Licitação e Contratação direta. Garantia contratual -- Rescisão contratual, Alteração por acordo, Garantia adicional, Concessão de garantia, Seguro garantia e Garantia da proposta.']\n",
      "4 : [0.8083457255240123, '18059', 'A aquisição de bens ou serviços sem cobertura de termo contratual, bem assim sua celebração com cláusula de vigência retroativa, caracteriza a existência de contrato verbal antes de sua formalização, o que é vedado pelo art. 60, parágrafo único, Lei 8.666/1993.\\nFormalização do contrato -- Contrato. Ilegalidade -- Representação, Mandado de segurança, Manifesta ilegalidade, Eficácia da lei, Abuso de autoridade, Habeas corpus e Princípio da legalidade. Contrato verbal -- Suprimento de fundos. Contrato administrativo -- Pedido de reexame, Renovação de contrato, Objeto do contrato, Reajuste, Revisão contratual, Fato do príncipe, Contratante, Correção monetária, Rescisão contratual, Remanescente de contrato, Contratações públicas, Consórcio público, Cadastro de Empresas Inidôneas e Suspensas, Alocação de riscos, Cadastro Integrado de Condenações por Ilícitos Administrativos, Lei do Pregão Eletrônico, Reconhecimento de dívida, Lei de Licitações e Contratos, Relicitação, Contrato de gestão, Equilíbrio econômico-financeiro, Termo aditivo, Contratado, Terceirização, Subcontratação, Prestação de serviço, Facilities, Cláusula, Licitação e Contratação direta.']\n",
      "5 : [0.8083457255240123, '18060', 'A formalização de contrato em momento posterior em nada muda a ilegalidade da prévia contratação verbal, constituindo-se, com relação aos pagamentos realizados à empresa prestadora de serviços nesse período, despesas sem cobertura contratual, a serem sopesadas no julgamento das contas do responsável.\\nIlegalidade -- Representação, Mandado de segurança, Manifesta ilegalidade, Eficácia da lei, Abuso de autoridade, Habeas corpus e Princípio da legalidade. Formalização do contrato -- Contrato. Contrato administrativo -- Pedido de reexame, Renovação de contrato, Objeto do contrato, Reajuste, Revisão contratual, Fato do príncipe, Contratante, Correção monetária, Rescisão contratual, Remanescente de contrato, Contratações públicas, Consórcio público, Cadastro de Empresas Inidôneas e Suspensas, Alocação de riscos, Cadastro Integrado de Condenações por Ilícitos Administrativos, Lei do Pregão Eletrônico, Reconhecimento de dívida, Lei de Licitações e Contratos, Relicitação, Contrato de gestão, Equilíbrio econômico-financeiro, Termo aditivo, Contratado, Terceirização, Subcontratação, Prestação de serviço, Facilities, Cláusula, Licitação e Contratação direta. Contrato verbal -- Suprimento de fundos.']\n",
      "*** retriever:bm25 / ranker:MINILM_INDIR_400\n",
      "\n",
      "Index: indir_juris_tcu_related_term\n",
      "Parâmetros usados: {'Retriever': {'top_k': 100}}\n",
      "Consulta: despesa sem cobertura contratual\n",
      "Qtd documentos retornados: 100\n",
      "Seguem os nomes dos termos recuperados em ordem de score\n",
      "0 : [0.6719428300857544, '19451', 'A realização de despesas sem cobertura contratual é irregularidade grave, que justifica a aplicação de multa aos responsáveis, bem como julgamento pela irregularidade de suas contas\\nContas irregulares -- Juros de mora, Título executivo, Decisão definitiva, Julgamento de contas, Prestação de contas, Tomada de contas e Cadirreg. Contrato administrativo -- Pedido de reexame, Renovação de contrato, Objeto do contrato, Reajuste, Revisão contratual, Fato do príncipe, Contratante, Correção monetária, Rescisão contratual, Remanescente de contrato, Contratações públicas, Consórcio público, Cadastro de Empresas Inidôneas e Suspensas, Alocação de riscos, Cadastro Integrado de Condenações por Ilícitos Administrativos, Lei do Pregão Eletrônico, Reconhecimento de dívida, Lei de Licitações e Contratos, Relicitação, Contrato de gestão, Equilíbrio econômico-financeiro, Termo aditivo, Contratado, Terceirização, Subcontratação, Prestação de serviço, Facilities, Cláusula, Licitação e Contratação direta. Contrato verbal -- Suprimento de fundos. Responsabilidade -- Prejuízo, Dever de lealdade, Termo de responsabilidade, Perdas e danos, Caso fortuito, Omissão, Deveres, Responsável, Accountability pública e Imputação. Multa -- Sonegação de informação, Cláusula penal, Advertência (Licitação), Declaração de inidoneidade, Recurso administrativo, Suspensão temporária e Inadimplência.']\n",
      "1 : [0.6717435717582703, '20547', 'Todos os fatores de risco entendidos como pertinentes pela contratada devem estar previstos no BDI, em item único e próprio, e não no campo para custos diretos. O BDI é o elemento orçamentário destinado a cobrir as despesas classificadas como custo indireto, ou seja, as não diretamente relacionadas à execução do objeto contratado, como a cobertura de riscos eventuais ou imprevisíveis. Risco -- Gestão de risco, Medida de contingência, Fonte de risco, Tolerância a risco, Gerenciamento de riscos, Gerenciamento de riscos corporativos, Nível de risco, Plano de contingência, Risco de segurança da informação, Risco de tecnologia da informação e Exame sumário. Contratado -- Encargos sociais, Contrato administrativo, Contratante, Medidas de compensação, Gestão contratual e Contrato. BDI -- Custo indireto, Prestação de serviço, Bonificação e Obras e serviços de engenharia. Licitação -- Sobrepreço, Superfaturamento, Margem de preferência, Equipe de apoio, Princípio da padronização, Extrato de licitação, Contrato de concessão, Garantia da proposta, Orçamento sigiloso, Contrato administrativo, Contratações públicas, Aproveitamento de licitação, Lei de Licitações e Contratos, Pregão, Preço estimado, Parcela de maior relevância, Planilha de custos e formação de preços, Robô de lances, Cadastro de Empresas Inidôneas e Suspensas, Cadastro Integrado de Condenações por Ilícitos Administrativos, Pesquisa de preço, Lei do Pregão Eletrônico, Dispensa de licitação, Portal Nacional de Contratações Públicas, Inexigibilidade de licitação, Ajuste, Relicitação, Concessão de garantia, Diálogo competitivo, Contratação indireta, Modalidade de licitação, Tipo de licitação, Vistoria, Objeto da licitação e Contratação direta. Proposta -- Pregão, Licitação de melhor técnica, Licitação de maior lance ou oferta, Licitação de menor preço, Licitação de técnica e preço, Pregão eletrônico, Pregão presencial, Empate, Licitação fracassada, Diligência, Princípio do julgamento objetivo, Coelho']\n",
      "2 : [0.6609123945236206, '18951', 'Não há respaldo legal para que o pagamento de serviços contratados pela Administração Pública fique condicionado à comprovação da regularidade fiscal ou à quitação dos encargos trabalhistas, previdenciários e comerciais relacionados à execução da avença, uma vez que o contratado deve ser remunerado pelos serviços que efetivamente executou, sob pena de caracterizar enriquecimento sem causa da Administração. Encargos trabalhistas -- Encargos sociais, Execução trabalhista, Ponto facultativo, Gratificação natalina, Férias, Repouso semanal remunerado, Salário família, Vale-transporte, Feriado, Adicional, Verba rescisória e Indenização. Contratado -- Encargos sociais, Contrato administrativo, Contratante, Medidas de compensação, Gestão contratual e Contrato. Regularidade trabalhista -- Regularidade fiscal, Habilitação de licitante, Seguridade social e FGTS. Enriquecimento ilícito -- Operação Lava Jato, Corrupção, Improbidade administrativa, Lavagem de dinheiro, Peculato, Anticorrupção, Ação de repetição do indébito, Combate à corrupção e Princípio da vedação ao enriquecimento sem causa. Execução de contrato -- Execução física, Recebimento provisório, Recebimento definitivo, Fornecimento e prestação de serviço associado, Recebimento do objeto, Execução parcial, Regime de execução contratual, Execução de obras e serviços e Fiscal. Regularidade fiscal -- Dispensa de licitação, Inexigibilidade de licitação, Habilitação de licitante, FGTS, Seguridade social e Regularidade trabalhista. Pagamento -- Quitação, Suspensão de pagamento, Ordenador de despesas, Ordenação de despesa, Cobrança, Consignação em pagamento, Cronograma de desembolso, Cronograma físico-financeiro e Execução da despesa. Contrato administrativo -- Pedido de reexame, Renovação de contrato, Objeto do contrato, Reajuste, Revisão contratual, Fato do príncipe, Contratante, Correção monetária, Rescisão contratual, Remanescente de contrato, Contratações públicas, Consórcio público']\n",
      "3 : [0.6604936122894287, '18952', 'Devem ser evitadas antecipações de pagamento sem previsão licitatória ou contratual e desprovidas de garantias ou cautelas.\\nContrato administrativo -- Pedido de reexame, Renovação de contrato, Objeto do contrato, Reajuste, Revisão contratual, Fato do príncipe, Contratante, Correção monetária, Rescisão contratual, Remanescente de contrato, Contratações públicas, Consórcio público, Cadastro de Empresas Inidôneas e Suspensas, Alocação de riscos, Cadastro Integrado de Condenações por Ilícitos Administrativos, Lei do Pregão Eletrônico, Reconhecimento de dívida, Lei de Licitações e Contratos, Relicitação, Contrato de gestão, Equilíbrio econômico-financeiro, Termo aditivo, Contratado, Terceirização, Subcontratação, Prestação de serviço, Facilities, Cláusula, Licitação e Contratação direta. Pagamento antecipado -- Pagamento indevido. Garantia contratual -- Rescisão contratual, Alteração por acordo, Garantia adicional, Concessão de garantia, Seguro garantia e Garantia da proposta.']\n",
      "4 : [0.6545817852020264, '18042', 'O pagamento por serviços não contemplados no contrato originário, sem a elaboração do necessário aditamento contratual, caracteriza contratação verbal.\\nAditivo -- Termo aditivo e Alteração contratual. Contrato administrativo -- Pedido de reexame, Renovação de contrato, Objeto do contrato, Reajuste, Revisão contratual, Fato do príncipe, Contratante, Correção monetária, Rescisão contratual, Remanescente de contrato, Contratações públicas, Consórcio público, Cadastro de Empresas Inidôneas e Suspensas, Alocação de riscos, Cadastro Integrado de Condenações por Ilícitos Administrativos, Lei do Pregão Eletrônico, Reconhecimento de dívida, Lei de Licitações e Contratos, Relicitação, Contrato de gestão, Equilíbrio econômico-financeiro, Termo aditivo, Contratado, Terceirização, Subcontratação, Prestação de serviço, Facilities, Cláusula, Licitação e Contratação direta. Contrato verbal -- Suprimento de fundos.']\n",
      "5 : [0.6523497104644775, '17091', 'Para fins de alteração contratual, o conjunto de reduções e o conjunto de acréscimos devem ser sempre calculados sobre o valor original do contrato, aplicando-se a cada um desses conjuntos, individualmente e sem nenhum tipo de compensação entre eles, os limites de alteração estabelecidos na Lei 8.666/1993.\\nCálculo -- Média aritmética, Redutor, Recálculo e Base de cálculo. Acréscimo -- Termo aditivo. Aditivo -- Termo aditivo e Alteração contratual. Base de cálculo -- Cálculo. Contrato administrativo -- Pedido de reexame, Renovação de contrato, Objeto do contrato, Reajuste, Revisão contratual, Fato do príncipe, Contratante, Correção monetária, Rescisão contratual, Remanescente de contrato, Contratações públicas, Consórcio público, Cadastro de Empresas Inidôneas e Suspensas, Alocação de riscos, Cadastro Integrado de Condenações por Ilícitos Administrativos, Lei do Pregão Eletrônico, Reconhecimento de dívida, Lei de Licitações e Contratos, Relicitação, Contrato de gestão, Equilíbrio econômico-financeiro, Termo aditivo, Contratado, Terceirização, Subcontratação, Prestação de serviço, Facilities, Cláusula, Licitação e Contratação direta.']\n",
      "*** retriever:sts / ranker:MINILM_INDIR_400\n",
      "\n",
      "Index: indir_juris_tcu_related_term\n",
      "Parâmetros usados: {'Retriever': {'top_k': 100}}\n",
      "Consulta: despesa sem cobertura contratual\n",
      "Qtd documentos retornados: 100\n",
      "Seguem os nomes dos termos recuperados em ordem de score\n",
      "0 : [0.6719428300857544, '19451', 'A realização de despesas sem cobertura contratual é irregularidade grave, que justifica a aplicação de multa aos responsáveis, bem como julgamento pela irregularidade de suas contas\\nContas irregulares -- Juros de mora, Título executivo, Decisão definitiva, Julgamento de contas, Prestação de contas, Tomada de contas e Cadirreg. Contrato administrativo -- Pedido de reexame, Renovação de contrato, Objeto do contrato, Reajuste, Revisão contratual, Fato do príncipe, Contratante, Correção monetária, Rescisão contratual, Remanescente de contrato, Contratações públicas, Consórcio público, Cadastro de Empresas Inidôneas e Suspensas, Alocação de riscos, Cadastro Integrado de Condenações por Ilícitos Administrativos, Lei do Pregão Eletrônico, Reconhecimento de dívida, Lei de Licitações e Contratos, Relicitação, Contrato de gestão, Equilíbrio econômico-financeiro, Termo aditivo, Contratado, Terceirização, Subcontratação, Prestação de serviço, Facilities, Cláusula, Licitação e Contratação direta. Contrato verbal -- Suprimento de fundos. Responsabilidade -- Prejuízo, Dever de lealdade, Termo de responsabilidade, Perdas e danos, Caso fortuito, Omissão, Deveres, Responsável, Accountability pública e Imputação. Multa -- Sonegação de informação, Cláusula penal, Advertência (Licitação), Declaração de inidoneidade, Recurso administrativo, Suspensão temporária e Inadimplência.']\n",
      "1 : [0.6609123945236206, '18951', 'Não há respaldo legal para que o pagamento de serviços contratados pela Administração Pública fique condicionado à comprovação da regularidade fiscal ou à quitação dos encargos trabalhistas, previdenciários e comerciais relacionados à execução da avença, uma vez que o contratado deve ser remunerado pelos serviços que efetivamente executou, sob pena de caracterizar enriquecimento sem causa da Administração. Encargos trabalhistas -- Encargos sociais, Execução trabalhista, Ponto facultativo, Gratificação natalina, Férias, Repouso semanal remunerado, Salário família, Vale-transporte, Feriado, Adicional, Verba rescisória e Indenização. Contratado -- Encargos sociais, Contrato administrativo, Contratante, Medidas de compensação, Gestão contratual e Contrato. Regularidade trabalhista -- Regularidade fiscal, Habilitação de licitante, Seguridade social e FGTS. Enriquecimento ilícito -- Operação Lava Jato, Corrupção, Improbidade administrativa, Lavagem de dinheiro, Peculato, Anticorrupção, Ação de repetição do indébito, Combate à corrupção e Princípio da vedação ao enriquecimento sem causa. Execução de contrato -- Execução física, Recebimento provisório, Recebimento definitivo, Fornecimento e prestação de serviço associado, Recebimento do objeto, Execução parcial, Regime de execução contratual, Execução de obras e serviços e Fiscal. Regularidade fiscal -- Dispensa de licitação, Inexigibilidade de licitação, Habilitação de licitante, FGTS, Seguridade social e Regularidade trabalhista. Pagamento -- Quitação, Suspensão de pagamento, Ordenador de despesas, Ordenação de despesa, Cobrança, Consignação em pagamento, Cronograma de desembolso, Cronograma físico-financeiro e Execução da despesa. Contrato administrativo -- Pedido de reexame, Renovação de contrato, Objeto do contrato, Reajuste, Revisão contratual, Fato do príncipe, Contratante, Correção monetária, Rescisão contratual, Remanescente de contrato, Contratações públicas, Consórcio público']\n",
      "2 : [0.6604936122894287, '18952', 'Devem ser evitadas antecipações de pagamento sem previsão licitatória ou contratual e desprovidas de garantias ou cautelas.\\nContrato administrativo -- Pedido de reexame, Renovação de contrato, Objeto do contrato, Reajuste, Revisão contratual, Fato do príncipe, Contratante, Correção monetária, Rescisão contratual, Remanescente de contrato, Contratações públicas, Consórcio público, Cadastro de Empresas Inidôneas e Suspensas, Alocação de riscos, Cadastro Integrado de Condenações por Ilícitos Administrativos, Lei do Pregão Eletrônico, Reconhecimento de dívida, Lei de Licitações e Contratos, Relicitação, Contrato de gestão, Equilíbrio econômico-financeiro, Termo aditivo, Contratado, Terceirização, Subcontratação, Prestação de serviço, Facilities, Cláusula, Licitação e Contratação direta. Pagamento antecipado -- Pagamento indevido. Garantia contratual -- Rescisão contratual, Alteração por acordo, Garantia adicional, Concessão de garantia, Seguro garantia e Garantia da proposta.']\n",
      "3 : [0.6596090197563171, '34965', 'Nas hipóteses de inexistência de débito (dano quantificado) , não é possível aplicar multa, com base no disposto no art. 58, inciso I, da Lei 8.443/1992, à entidade privada contratada.\\nDébito -- Cessão de débito, Devedor, Financiamento, Dívida ativa, Crédito, Debênture, Cobrança, Corrupção passiva, Vencimento da dívida, Compromisso de dívida, Inscrição em dívida ativa, Credor privado, Credor público, Credor, Refinanciamento, Despesa sem prévio empenho, Saldo devedor, Empenho, Correção monetária, Dívida, Quitação, Banco, Ressarcimento, Recolhimento, Inadimplência e Empréstimo. Pessoa jurídica -- Pessoa física, Contrato social, Ato constitutivo, Autarquia, Sociedade de economia mista, CNPJ, Personalidade jurídica e IRPJ. Contratado -- Encargos sociais, Contrato administrativo, Contratante, Medidas de compensação, Gestão contratual e Contrato. Responsabilidade -- Prejuízo, Dever de lealdade, Termo de responsabilidade, Perdas e danos, Caso fortuito, Omissão, Deveres, Responsável, Accountability pública e Imputação. Multa -- Sonegação de informação, Cláusula penal, Advertência (Licitação), Declaração de inidoneidade, Recurso administrativo, Suspensão temporária e Inadimplência.']\n",
      "4 : [0.649125874042511, '71714', 'Eventual dificuldade em realizar procedimentos licitatórios, bem como a existência de certames fracassados ou desertos, não autorizam a realização de despesas mediante suprimento de fundos.\\nFinanças públicas -- Conta única, Administração tributária, Sistema de custos, Política financeira, Arrecadação da receita, Responsabilidade fiscal, Gestão fiscal, Novo regime fiscal, Índice de governança municipal, Gestão tributária, Reforma tributária, Sustentabilidade fiscal, Finanças públicas, Tributo, Receita pública, Despesa pública, Orçamento público, Bens públicos, Crime contra as finanças públicas e Finanças públicas. Licitação fracassada -- Proposta. Licitação deserta -- Dispensa de licitação. Suprimento de fundos -- Despesa pública, Contrato verbal, Ordenação de despesa e Ordenador de despesas.']\n",
      "5 : [0.647149920463562, '22948', 'Com a ausência de débito, afasta-se a responsabilidade da empresa contratada, não existindo pressuposto para a sua submissão à jurisdição do TCU.\\nResponsabilidade -- Prejuízo, Dever de lealdade, Termo de responsabilidade, Perdas e danos, Caso fortuito, Omissão, Deveres, Responsável, Accountability pública e Imputação. Contratado -- Encargos sociais, Contrato administrativo, Contratante, Medidas de compensação, Gestão contratual e Contrato. Débito -- Cessão de débito, Devedor, Financiamento, Dívida ativa, Crédito, Debênture, Cobrança, Corrupção passiva, Vencimento da dívida, Compromisso de dívida, Inscrição em dívida ativa, Credor privado, Credor público, Credor, Refinanciamento, Despesa sem prévio empenho, Saldo devedor, Empenho, Correção monetária, Dívida, Quitação, Banco, Ressarcimento, Recolhimento, Inadimplência e Empréstimo.']\n",
      "\n",
      "index_name indir_juris_tcu_synonym_related_term\n",
      "*** retriever:bm25 / ranker:none\n",
      "\n",
      "Index: indir_juris_tcu_synonym_related_term\n",
      "Parâmetros usados: {'Retriever': {'top_k': 100}}\n",
      "Consulta: despesa sem cobertura contratual\n",
      "Qtd documentos retornados: 100\n",
      "Seguem os nomes dos termos recuperados em ordem de score\n",
      "0 : [0.8458018958217431, '18384', 'A realização de pagamentos em data anterior à celebração do contrato caracteriza despesa sem cobertura contratual.\\nAssinatura - Subscrição. -- Endosso, Assinatura digital, Procuração e Termo de compromisso. Contrato administrativo - Contratos administrativos. -- Pedido de reexame, Renovação de contrato, Objeto do contrato, Reajuste, Revisão contratual, Fato do príncipe, Contratante, Correção monetária, Rescisão contratual, Remanescente de contrato, Contratações públicas, Consórcio público, Cadastro de Empresas Inidôneas e Suspensas, Alocação de riscos, Cadastro Integrado de Condenações por Ilícitos Administrativos, Lei do Pregão Eletrônico, Reconhecimento de dívida, Lei de Licitações e Contratos, Relicitação, Contrato de gestão, Equilíbrio econômico-financeiro, Termo aditivo, Contratado, Terceirização, Subcontratação, Prestação de serviço, Facilities, Cláusula, Licitação e Contratação direta. Formalização do contrato -- Contrato. Contrato verbal -- Suprimento de fundos.']\n",
      "1 : [0.8321492856090513, '18950', 'A realização de pagamentos previamente à assinatura dos respectivos instrumentos contratuais configura a realização de despesas sem cobertura contratual.\\nContrato verbal -- Suprimento de fundos. Contrato administrativo - Contratos administrativos. -- Pedido de reexame, Renovação de contrato, Objeto do contrato, Reajuste, Revisão contratual, Fato do príncipe, Contratante, Correção monetária, Rescisão contratual, Remanescente de contrato, Contratações públicas, Consórcio público, Cadastro de Empresas Inidôneas e Suspensas, Alocação de riscos, Cadastro Integrado de Condenações por Ilícitos Administrativos, Lei do Pregão Eletrônico, Reconhecimento de dívida, Lei de Licitações e Contratos, Relicitação, Contrato de gestão, Equilíbrio econômico-financeiro, Termo aditivo, Contratado, Terceirização, Subcontratação, Prestação de serviço, Facilities, Cláusula, Licitação e Contratação direta. Formalização do contrato -- Contrato.']\n",
      "2 : [0.8320695499320697, '17993', 'O pagamento pela realização de serviços novos, não contidos no projeto originalmente licitado, utilizando-se para faturamento serviços constantes na planilha de preços original, sem a respectiva execução, é despesa sem cobertura contratual, a justificar aplicação de multa aos responsáveis envolvidos.\\nMulta - Multas. -- Sonegação de informação, Cláusula penal, Advertência (Licitação), Declaração de inidoneidade, Recurso administrativo, Suspensão temporária e Inadimplência. Responsabilidade - Responsabilidades. -- Prejuízo, Dever de lealdade, Termo de responsabilidade, Perdas e danos, Caso fortuito, Omissão, Deveres, Responsável, Accountability pública e Imputação. Contrato verbal -- Suprimento de fundos. Serviço novo - Serviços novos, Serviços adicionais, Serviços não contemplados, Serviço não previsto e Serviço não contemplado. Contrato administrativo - Contratos administrativos. -- Pedido de reexame, Renovação de contrato, Objeto do contrato, Reajuste, Revisão contratual, Fato do príncipe, Contratante, Correção monetária, Rescisão contratual, Remanescente de contrato, Contratações públicas, Consórcio público, Cadastro de Empresas Inidôneas e Suspensas, Alocação de riscos, Cadastro Integrado de Condenações por Ilícitos Administrativos, Lei do Pregão Eletrônico, Reconhecimento de dívida, Lei de Licitações e Contratos, Relicitação, Contrato de gestão, Equilíbrio econômico-financeiro, Termo aditivo, Contratado, Terceirização, Subcontratação, Prestação de serviço, Facilities, Cláusula, Licitação e Contratação direta.']\n",
      "3 : [0.8217057005881437, '73790', 'Os órgãos e entidades da Administração Pública Federal podem aceitar apólice de seguro - apresentada por empresa vencedora de certame licitatório para garantir o fiel cumprimento das obrigações assumidas no contrato - que contenha cláusula que exclua de cobertura prejuízos e demais penalidades causados ou relacionados a atos ou fatos violadores de normas de anticorrupção que tenham sido provocados pelo segurado ou seu representante, seja isoladamente, seja em concurso com o tomador ou seu representante. Por outro lado, devem recusar apólice de seguro que contenha cláusula que exclua de cobertura prejuízos e demais penalidades causados ou relacionados a atos ou fatos violadores de normas de anticorrupção que tenham sido provocados exclusivamente pelo tomador ou seu representante, sem o concurso do segurado ou seu representante.\\nCorrupção - Corrupção na política. -- Laranja, Operação Lava Jato, Combate à corrupção, Acordo de leniência, Suborno, Concussão, Prevaricação, Empresa fictícia, Improbidade administrativa, Crime contra as finanças públicas, Anticorrupção, Lei Anticorrupção, Programa de integridade, Enriquecimento ilícito e Fraude. Seguro garantia - Seguro-garantia. -- Garantia contratual, Caução, Fiança bancária, Avalista, Aval, Fiança e Garantia fidejussória. Contrato administrativo - Contratos administrativos. -- Pedido de reexame, Renovação de contrato, Objeto do contrato, Reajuste, Revisão contratual, Fato do príncipe, Contratante, Correção monetária, Rescisão contratual, Remanescente de contrato, Contratações públicas, Consórcio público, Cadastro de Empresas Inidôneas e Suspensas, Alocação de riscos, Cadastro Integrado de Condenações por Ilícitos Administrativos, Lei do Pregão Eletrônico, Reconhecimento de dívida, Lei de Licitações e Contratos, Relicitação, Contrato de gestão, Equilíbrio econômico-financeiro, Termo aditivo, Contratado, Terceirização, Subcontratação, Prestação de serviço, Facilities, Cláusula, Licitação e Contratação direta. Garantia contratual - Garantia de execução contratual, Garantia contratual básica e Garantia legal. -- Rescisão contratual, Alteração por acordo, Garantia adicional, Concessão de garantia, Seguro garantia e Garantia da proposta.']\n",
      "4 : [0.813921313134301, '18059', 'A aquisição de bens ou serviços sem cobertura de termo contratual, bem assim sua celebração com cláusula de vigência retroativa, caracteriza a existência de contrato verbal antes de sua formalização, o que é vedado pelo art. 60, parágrafo único, Lei 8.666/1993.\\nFormalização do contrato -- Contrato. Ilegalidade -- Representação, Mandado de segurança, Manifesta ilegalidade, Eficácia da lei, Abuso de autoridade, Habeas corpus e Princípio da legalidade. Contrato verbal -- Suprimento de fundos. Contrato administrativo - Contratos administrativos. -- Pedido de reexame, Renovação de contrato, Objeto do contrato, Reajuste, Revisão contratual, Fato do príncipe, Contratante, Correção monetária, Rescisão contratual, Remanescente de contrato, Contratações públicas, Consórcio público, Cadastro de Empresas Inidôneas e Suspensas, Alocação de riscos, Cadastro Integrado de Condenações por Ilícitos Administrativos, Lei do Pregão Eletrônico, Reconhecimento de dívida, Lei de Licitações e Contratos, Relicitação, Contrato de gestão, Equilíbrio econômico-financeiro, Termo aditivo, Contratado, Terceirização, Subcontratação, Prestação de serviço, Facilities, Cláusula, Licitação e Contratação direta.']\n",
      "5 : [0.813921313134301, '18060', 'A formalização de contrato em momento posterior em nada muda a ilegalidade da prévia contratação verbal, constituindo-se, com relação aos pagamentos realizados à empresa prestadora de serviços nesse período, despesas sem cobertura contratual, a serem sopesadas no julgamento das contas do responsável.\\nIlegalidade -- Representação, Mandado de segurança, Manifesta ilegalidade, Eficácia da lei, Abuso de autoridade, Habeas corpus e Princípio da legalidade. Formalização do contrato -- Contrato. Contrato administrativo - Contratos administrativos. -- Pedido de reexame, Renovação de contrato, Objeto do contrato, Reajuste, Revisão contratual, Fato do príncipe, Contratante, Correção monetária, Rescisão contratual, Remanescente de contrato, Contratações públicas, Consórcio público, Cadastro de Empresas Inidôneas e Suspensas, Alocação de riscos, Cadastro Integrado de Condenações por Ilícitos Administrativos, Lei do Pregão Eletrônico, Reconhecimento de dívida, Lei de Licitações e Contratos, Relicitação, Contrato de gestão, Equilíbrio econômico-financeiro, Termo aditivo, Contratado, Terceirização, Subcontratação, Prestação de serviço, Facilities, Cláusula, Licitação e Contratação direta. Contrato verbal -- Suprimento de fundos.']\n",
      "*** retriever:bm25 / ranker:MINILM_INDIR_400\n",
      "\n",
      "Index: indir_juris_tcu_synonym_related_term\n",
      "Parâmetros usados: {'Retriever': {'top_k': 100}}\n",
      "Consulta: despesa sem cobertura contratual\n",
      "Qtd documentos retornados: 100\n",
      "Seguem os nomes dos termos recuperados em ordem de score\n",
      "0 : [0.6701269745826721, '18952', 'Devem ser evitadas antecipações de pagamento sem previsão licitatória ou contratual e desprovidas de garantias ou cautelas.\\nContrato administrativo - Contratos administrativos. -- Pedido de reexame, Renovação de contrato, Objeto do contrato, Reajuste, Revisão contratual, Fato do príncipe, Contratante, Correção monetária, Rescisão contratual, Remanescente de contrato, Contratações públicas, Consórcio público, Cadastro de Empresas Inidôneas e Suspensas, Alocação de riscos, Cadastro Integrado de Condenações por Ilícitos Administrativos, Lei do Pregão Eletrônico, Reconhecimento de dívida, Lei de Licitações e Contratos, Relicitação, Contrato de gestão, Equilíbrio econômico-financeiro, Termo aditivo, Contratado, Terceirização, Subcontratação, Prestação de serviço, Facilities, Cláusula, Licitação e Contratação direta. Pagamento antecipado - Pagamento prévio e Liquidação antecipada. -- Pagamento indevido. Vedação - Proibição e Vedações. Garantia contratual - Garantia de execução contratual, Garantia contratual básica e Garantia legal. -- Rescisão contratual, Alteração por acordo, Garantia adicional, Concessão de garantia, Seguro garantia e Garantia da proposta.']\n",
      "1 : [0.669380784034729, '31072', 'São injustificáveis a realização de serviços e o fornecimento de bens sem cobertura contratual, bem como conferir a contratos administrativos efeitos financeiros retroativos, a não ser em casos excepcionais, tais como situações emergenciais ou quando se examina direitos a serem avaliados pela administração que demanda período de tempo significativo, como no caso de reequilíbrio econômico-financeiro de contrato.\\nContrato verbal -- Suprimento de fundos. Emergência - Estado de emergência. -- Contratação emergencial, Resgate, Estado de sítio, Estado de exceção, Auxílio emergencial, Hospital de campanha, Calamidade pública e Dispensa de licitação. Equilíbrio econômico-financeiro - Equação econômico-financeiro, Equação econômico financeira, Equilíbrio econômico financeiro, Equilíbrio financeiro, Equilíbrio econômico, Desequilíbrio econômico-financeiro, Ajuste econômico-financeiro e Desajuste econômico-financeiro. -- Contrato administrativo, Teoria da imprevisão, Revisão tarifária extraordinária, Alteração por acordo, Revisão tarifária periódica, Reposicionamento tarifário, Jogo de cronograma, Caso fortuito, Força maior, Fato do príncipe, Repactuação, Reajuste e Jogo de planilhas. Formalização do contrato -- Contrato. Contrato administrativo - Contratos administrativos. -- Pedido de reexame, Renovação de contrato, Objeto do contrato, Reajuste, Revisão contratual, Fato do príncipe, Contratante, Correção monetária, Rescisão contratual, Remanescente de contrato, Contratações públicas, Consórcio público, Cadastro de Empresas Inidôneas e Suspensas, Alocação de riscos, Cadastro Integrado de Condenações por Ilícitos Administrativos, Lei do Pregão Eletrônico, Reconhecimento de dívida, Lei de Licitações e Contratos, Relicitação, Contrato de gestão, Equilíbrio econômico-financeiro, Termo aditivo, Contratado, Terceirização, Subcontratação, Prestação de serviço, Facilities, Cláusula, Licitação e Contratação direta. Exceção - Excepcionalidade.']\n",
      "2 : [0.6667909622192383, '22948', 'Com a ausência de débito, afasta-se a responsabilidade da empresa contratada, não existindo pressuposto para a sua submissão à jurisdição do TCU.\\nResponsabilidade - Responsabilidades. -- Prejuízo, Dever de lealdade, Termo de responsabilidade, Perdas e danos, Caso fortuito, Omissão, Deveres, Responsável, Accountability pública e Imputação. Requisito - Requisitos. Contratado -- Encargos sociais, Contrato administrativo, Contratante, Medidas de compensação, Gestão contratual e Contrato. Débito - Débitos. -- Cessão de débito, Devedor, Financiamento, Dívida ativa, Crédito, Debênture, Cobrança, Corrupção passiva, Vencimento da dívida, Compromisso de dívida, Inscrição em dívida ativa, Credor privado, Credor público, Credor, Refinanciamento, Despesa sem prévio empenho, Saldo devedor, Empenho, Correção monetária, Dívida, Quitação, Banco, Ressarcimento, Recolhimento, Inadimplência e Empréstimo.']\n",
      "3 : [0.6657454967498779, '23569', 'São ilegais os atos de admissão relativos a contratações temporárias realizadas antes da publicação da homologação do resultado final do processo seletivo e com a entrada em exercício sem a assinatura dos respectivos contratos.\\nAdmissão de pessoal - Admissão, Ato de admissão de pessoal, Contratação de pessoal, Atos de admissão e Ato de admissão. -- Sisac, Negativa de registro, Provimento do cargo, Pedido de reexame, Registro tácito, Concurso público e Contratação temporária. Contratação temporária - Contratação de temporários e Admissão temporária. -- Função pública, Pessoal temporário, Cargo temporário, Admissão de pessoal e Empresa de trabalho temporário. Homologação -- Adjudicação. Assinatura - Subscrição. -- Endosso, Assinatura digital, Procuração e Termo de compromisso. Pessoal -- Sisac, Despesa com pessoal e HCAAF. Contrato -- Cláusula, Declaração de nulidade, EPC, Renovação de contrato, Contratado, Locação (Licitação), Contratante, Resilição, Comodato, Ato constitutivo, Cláusula penal, Factoring, Rescisão contratual, Formalização do contrato, Fiança bancária, Suspensão de pagamento, Obrigação, Prestação de serviço, Compra e venda, Cláusula compromissória, Nulidade do contrato, Foro de eleição, Evicção, Fiador, Princípio da autonomia privada, Avalista, Risco de renovação, Gestão contratual, Custo não renovável, Ajuste, Alteração contratual, Terceirização, Subcontratação, Caução, Termo aditivo, Vício, Contratação e Extrato de contrato. Publicação -- Publicação periódica, Publicação oficial, Agenda de compromissos públicos, Republicação e Publicação científica.']\n",
      "4 : [0.6640639305114746, '20547', 'Todos os fatores de risco entendidos como pertinentes pela contratada devem estar previstos no BDI, em item único e próprio, e não no campo para custos diretos. O BDI é o elemento orçamentário destinado a cobrir as despesas classificadas como custo indireto, ou seja, as não diretamente relacionadas à execução do objeto contratado, como a cobertura de riscos eventuais ou imprevisíveis. Risco -- Gestão de risco, Medida de contingência, Fonte de risco, Tolerância a risco, Gerenciamento de riscos, Gerenciamento de riscos corporativos, Nível de risco, Plano de contingência, Risco de segurança da informação, Risco de tecnologia da informação e Exame sumário. Contratado -- Encargos sociais, Contrato administrativo, Contratante, Medidas de compensação, Gestão contratual e Contrato. BDI - Benefícios e despesas indiretas, Bonificação de Despesas Indiretas, Taxa de bonificações indiretas, Bonificações e Despesas Indiretas (BDI), LDI, Lucros e Despesas Indiretas e Lucros e Despesas Indiretas (LDI). -- Custo indireto, Prestação de serviço, Bonificação e Obras e serviços de engenharia. Licitação - Certame licitatório, Procedimento licitatório, Procedimentos licitatórios, Licitação pública, Licitações públicas e Licitações. -- Sobrepreço, Superfaturamento, Margem de preferência, Equipe de apoio, Princípio da padronização, Extrato de licitação, Contrato de concessão, Garantia da proposta, Orçamento sigiloso, Contrato administrativo, Contratações públicas, Aproveitamento de licitação, Lei de Licitações e Contratos, Pregão, Preço estimado, Parcela de maior relevância, Planilha de custos e formação de preços, Robô de lances, Cadastro de Empresas Inidôneas e Suspensas, Cadastro Integrado de Condenações por Ilícitos Administrativos, Pesquisa de preço, Lei do Pregão Eletrônico, Dispensa de licitação, Portal Nacional de Contratações Públicas, Inexigibilidade de licitação, Ajuste, Relicitação, Concessão de garantia, Diálogo competitivo']\n",
      "5 : [0.6610417366027832, '75109', 'O risco de prejuízos para a Administração pode excepcionalmente justificar a convalidação de atos irregulares ocorridos na licitação, a exemplo de dispensa indevida de licitação, e a continuidade da execução do contrato, em razão da prevalência do interesse público. Anulação - Tornar sem efeito, Tornar nulo e Invalidação. -- Efeito ex tunc, Nulidade absoluta, Nulidade relativa, Erro essencial, Revogação, Nulidade e Efeito ex nunc. Dispensa de licitação - Licitação dispensada, Licitação dispensável, Compra sem licitação, Compra por dispensa, Procedimento de dispensa de licitação, Procedimento para dispensa de licitação e Dispensa por valor. -- Calamidade pública, Licitação deserta, Energia elétrica, Termo de contrato, Desenvolvimento institucional, Emergência, Contratação emergencial, Fracionamento da despesa, Locação de imóveis, Contratação direta, Cotação eletrônica, Remanescente de contrato, Inaplicabilidade de licitação, Inexigibilidade de licitação, Regularidade fiscal, Alienação de bens e Licitação. Prejuízo - Dano e Dano contratual. -- Reparação do dano, Perdas e danos, Crime, Crime contra o patrimônio, Indenização, Responsabilidade e Coação. Contrato administrativo - Contratos administrativos. -- Pedido de reexame, Renovação de contrato, Objeto do contrato, Reajuste, Revisão contratual, Fato do príncipe, Contratante, Correção monetária, Rescisão contratual, Remanescente de contrato, Contratações públicas, Consórcio público, Cadastro de Empresas Inidôneas e Suspensas, Alocação de riscos, Cadastro Integrado de Condenações por Ilícitos Administrativos, Lei do Pregão Eletrônico, Reconhecimento de dívida, Lei de Licitações e Contratos, Relicitação, Contrato de gestão, Equilíbrio econômico-financeiro, Termo aditivo, Contratado, Terceirização, Subcontratação, Prestação de serviço, Facilities, Cláusula, Licitação e Contratação direta. Interesse público -- Contribuição parafiscal, Matéria de ordem pública']\n",
      "*** retriever:sts / ranker:MINILM_INDIR_400\n",
      "\n",
      "Index: indir_juris_tcu_synonym_related_term\n",
      "Parâmetros usados: {'Retriever': {'top_k': 100}}\n",
      "Consulta: despesa sem cobertura contratual\n",
      "Qtd documentos retornados: 100\n",
      "Seguem os nomes dos termos recuperados em ordem de score\n",
      "0 : [0.6749240159988403, '34965', 'Nas hipóteses de inexistência de débito (dano quantificado) , não é possível aplicar multa, com base no disposto no art. 58, inciso I, da Lei 8.443/1992, à entidade privada contratada.\\nDébito - Débitos. -- Cessão de débito, Devedor, Financiamento, Dívida ativa, Crédito, Debênture, Cobrança, Corrupção passiva, Vencimento da dívida, Compromisso de dívida, Inscrição em dívida ativa, Credor privado, Credor público, Credor, Refinanciamento, Despesa sem prévio empenho, Saldo devedor, Empenho, Correção monetária, Dívida, Quitação, Banco, Ressarcimento, Recolhimento, Inadimplência e Empréstimo. Pessoa jurídica -- Pessoa física, Contrato social, Ato constitutivo, Autarquia, Sociedade de economia mista, CNPJ, Personalidade jurídica e IRPJ. Contratado -- Encargos sociais, Contrato administrativo, Contratante, Medidas de compensação, Gestão contratual e Contrato. Responsabilidade - Responsabilidades. -- Prejuízo, Dever de lealdade, Termo de responsabilidade, Perdas e danos, Caso fortuito, Omissão, Deveres, Responsável, Accountability pública e Imputação. Multa - Multas. -- Sonegação de informação, Cláusula penal, Advertência (Licitação), Declaração de inidoneidade, Recurso administrativo, Suspensão temporária e Inadimplência.']\n",
      "1 : [0.6701269745826721, '18952', 'Devem ser evitadas antecipações de pagamento sem previsão licitatória ou contratual e desprovidas de garantias ou cautelas.\\nContrato administrativo - Contratos administrativos. -- Pedido de reexame, Renovação de contrato, Objeto do contrato, Reajuste, Revisão contratual, Fato do príncipe, Contratante, Correção monetária, Rescisão contratual, Remanescente de contrato, Contratações públicas, Consórcio público, Cadastro de Empresas Inidôneas e Suspensas, Alocação de riscos, Cadastro Integrado de Condenações por Ilícitos Administrativos, Lei do Pregão Eletrônico, Reconhecimento de dívida, Lei de Licitações e Contratos, Relicitação, Contrato de gestão, Equilíbrio econômico-financeiro, Termo aditivo, Contratado, Terceirização, Subcontratação, Prestação de serviço, Facilities, Cláusula, Licitação e Contratação direta. Pagamento antecipado - Pagamento prévio e Liquidação antecipada. -- Pagamento indevido. Vedação - Proibição e Vedações. Garantia contratual - Garantia de execução contratual, Garantia contratual básica e Garantia legal. -- Rescisão contratual, Alteração por acordo, Garantia adicional, Concessão de garantia, Seguro garantia e Garantia da proposta.']\n",
      "2 : [0.6667909622192383, '22948', 'Com a ausência de débito, afasta-se a responsabilidade da empresa contratada, não existindo pressuposto para a sua submissão à jurisdição do TCU.\\nResponsabilidade - Responsabilidades. -- Prejuízo, Dever de lealdade, Termo de responsabilidade, Perdas e danos, Caso fortuito, Omissão, Deveres, Responsável, Accountability pública e Imputação. Requisito - Requisitos. Contratado -- Encargos sociais, Contrato administrativo, Contratante, Medidas de compensação, Gestão contratual e Contrato. Débito - Débitos. -- Cessão de débito, Devedor, Financiamento, Dívida ativa, Crédito, Debênture, Cobrança, Corrupção passiva, Vencimento da dívida, Compromisso de dívida, Inscrição em dívida ativa, Credor privado, Credor público, Credor, Refinanciamento, Despesa sem prévio empenho, Saldo devedor, Empenho, Correção monetária, Dívida, Quitação, Banco, Ressarcimento, Recolhimento, Inadimplência e Empréstimo.']\n",
      "3 : [0.6616172194480896, '13634', 'A apólice que assegura o contrato contra inadimplementos na execução dos serviços não é hábil a proteger o erário no caso de dano decorrente do pagamento de preços superfaturados e, por isso, não pode ser utilizada como alternativa à retenção de valores. \\nValor - Valores. Garantia contratual - Garantia de execução contratual, Garantia contratual básica e Garantia legal. -- Rescisão contratual, Alteração por acordo, Garantia adicional, Concessão de garantia, Seguro garantia e Garantia da proposta. Superfaturamento - Preço superfaturado, Superfaturamento  por reajustamento irregular de preço, Superfaturamento de quantidade, Superfaturamento por alteração de cláusulas financeiras, Superfaturamento por distorção do cronograma físico-financeiro, Superfaturamento por execução de serviços com qualidade deficiente, Superfaturamento por jogo de planilha, Superfaturamento por pagamentos antecipados e Superfaturamento por preço excessivo. -- Sobrepreço, Faturamento, Licitação e Preço. Contrato administrativo - Contratos administrativos. -- Pedido de reexame, Renovação de contrato, Objeto do contrato, Reajuste, Revisão contratual, Fato do príncipe, Contratante, Correção monetária, Rescisão contratual, Remanescente de contrato, Contratações públicas, Consórcio público, Cadastro de Empresas Inidôneas e Suspensas, Alocação de riscos, Cadastro Integrado de Condenações por Ilícitos Administrativos, Lei do Pregão Eletrônico, Reconhecimento de dívida, Lei de Licitações e Contratos, Relicitação, Contrato de gestão, Equilíbrio econômico-financeiro, Termo aditivo, Contratado, Terceirização, Subcontratação, Prestação de serviço, Facilities, Cláusula, Licitação e Contratação direta.']\n",
      "4 : [0.6597926616668701, '6301', 'É legal a cobrança de débito pela ausência de aplicação dos recursos do convênio no mercado financeiro, sem que se caracterize bis in idem, quando o período em que se deixou de auferir renda com a aplicação financeira for anterior à data de ocorrência do débito principal.\\nResponsabilidade - Responsabilidades. -- Prejuízo, Dever de lealdade, Termo de responsabilidade, Perdas e danos, Caso fortuito, Omissão, Deveres, Responsável, Accountability pública e Imputação. Execução financeira -- Liquidação da despesa, Fiscalização patrimonial, Execução orçamentária, Conformidade de registro de gestão e Responsabilidade fiscal. Aplicação financeira - Aplicação de recursos. -- Fundo de investimento, Independência financeira e Rendimento financeiro. Ausência - Falta. -- Lacuna da lei. Débito - Débitos. -- Cessão de débito, Devedor, Financiamento, Dívida ativa, Crédito, Debênture, Cobrança, Corrupção passiva, Vencimento da dívida, Compromisso de dívida, Inscrição em dívida ativa, Credor privado, Credor público, Credor, Refinanciamento, Despesa sem prévio empenho, Saldo devedor, Empenho, Correção monetária, Dívida, Quitação, Banco, Ressarcimento, Recolhimento, Inadimplência e Empréstimo. Convênio - Convênios e congêneres, Convênio de colaboração, Convênio de cooperação, Convênio da Administração Pública, Convênio administrativo e Convênio público. -- Contrapartida, Objeto do convênio, Fiscalização in loco, Qualificação técnica, Capacidade operacional, Mandatário, Plano de trabalho, Chamamento público, Concedente, Convenente, Transferências voluntárias, Glosa, Desvio de objeto, Desvio de finalidade, Acordo de cooperação, Favorecido, Proponente, Conta corrente específica, Subconvênio, Acordo, Ajuste, Pregão, CEPIM, Siconv, Lei de Convênios, Prestação de contas e Consórcio público.']\n",
      "5 : [0.6495738625526428, '71714', 'Eventual dificuldade em realizar procedimentos licitatórios, bem como a existência de certames fracassados ou desertos, não autorizam a realização de despesas mediante suprimento de fundos.\\nRequisito - Requisitos. Finanças públicas -- Conta única, Administração tributária, Sistema de custos, Política financeira, Arrecadação da receita, Responsabilidade fiscal, Gestão fiscal, Novo regime fiscal, Índice de governança municipal, Gestão tributária, Reforma tributária, Sustentabilidade fiscal, Finanças públicas, Tributo, Receita pública, Despesa pública, Orçamento público, Bens públicos, Crime contra as finanças públicas e Finanças públicas. Licitação fracassada -- Proposta. Licitação deserta -- Dispensa de licitação. Suprimento de fundos - Regime de adiantamento. -- Despesa pública, Contrato verbal, Ordenação de despesa e Ordenador de despesas.']\n",
      "CPU times: user 4.53 s, sys: 270 ms, total: 4.8 s\n",
      "Wall time: 5.03 s\n"
     ]
    }
   ],
   "source": [
    "\n",
    "%%time\n",
    "for index_name in pipes:\n",
    "    print(f\"\\nindex_name {index_name}\")\n",
    "    for pipe in pipes[index_name]:\n",
    "        print(f\"*** retriever:{pipe['RETRIEVER_TYPE']} / ranker:{pipe['RANKER_TYPE']}\")\n",
    "        doctos_retornados_ranker =  pipe['PIPE_OBJECT'].run(query=parm_query, \n",
    "        params={\"Retriever\": {\"top_k\": 100}})\n",
    "        print(f'\\nIndex: {index_name}')\n",
    "        util_pipeline.detail_document_found(doctos_retornados_ranker,5)\n",
    "        torch.cuda.empty_cache()"
   ]
  },
  {
   "attachments": {},
   "cell_type": "markdown",
   "metadata": {},
   "source": [
    "## Impressão de pipe"
   ]
  },
  {
   "cell_type": "code",
   "execution_count": null,
   "metadata": {},
   "outputs": [
    {
     "name": "stdout",
     "output_type": "stream",
     "text": [
      "huggingface/tokenizers: The current process just got forked, after parallelism has already been used. Disabling parallelism to avoid deadlocks...\n",
      "To disable this warning, you can either:\n",
      "\t- Avoid using `tokenizers` before the fork if possible\n",
      "\t- Explicitly set the environment variable TOKENIZERS_PARALLELISM=(true | false)\n",
      "huggingface/tokenizers: The current process just got forked, after parallelism has already been used. Disabling parallelism to avoid deadlocks...\n",
      "To disable this warning, you can either:\n",
      "\t- Avoid using `tokenizers` before the fork if possible\n",
      "\t- Explicitly set the environment variable TOKENIZERS_PARALLELISM=(true | false)\n"
     ]
    },
    {
     "data": {
      "image/png": "[encoded data removed]",
      "text/plain": [
       "<Figure size 432x288 with 1 Axes>"
      ]
     },
     "metadata": {
      "needs_background": "light"
     },
     "output_type": "display_data"
    }
   ],
   "source": [
    "util_pipeline.imprime_pipe(pipe_join_sts_multihop_bm25)"
   ]
  },
  {
   "attachments": {},
   "cell_type": "markdown",
   "metadata": {},
   "source": [
    "# Experiments"
   ]
  },
  {
   "cell_type": "code",
   "execution_count": 49,
   "metadata": {},
   "outputs": [
    {
     "data": {
      "text/plain": [
       "{'indir_juris_tcu': [{'PIPE_OBJECT': <haystack.pipelines.base.Pipeline at 0x7f376ae80b50>,\n",
       "   'RETRIEVER_TYPE': 'bm25',\n",
       "   'RANKER_TYPE': 'PTT5_BASE',\n",
       "   'RETRIEVER_MODEL_NAME': ''}],\n",
       " 'indir_juris_tcu_term': [{'PIPE_OBJECT': <haystack.pipelines.base.Pipeline at 0x7f37611d9450>,\n",
       "   'RETRIEVER_TYPE': 'bm25',\n",
       "   'RANKER_TYPE': 'PTT5_BASE',\n",
       "   'RETRIEVER_MODEL_NAME': ''}],\n",
       " 'indir_juris_tcu_synonym': [{'PIPE_OBJECT': <haystack.pipelines.base.Pipeline at 0x7f376b1c6c10>,\n",
       "   'RETRIEVER_TYPE': 'bm25',\n",
       "   'RANKER_TYPE': 'PTT5_BASE',\n",
       "   'RETRIEVER_MODEL_NAME': ''}],\n",
       " 'indir_juris_tcu_related_term': [{'PIPE_OBJECT': <haystack.pipelines.base.Pipeline at 0x7f37607f1710>,\n",
       "   'RETRIEVER_TYPE': 'bm25',\n",
       "   'RANKER_TYPE': 'PTT5_BASE',\n",
       "   'RETRIEVER_MODEL_NAME': ''}],\n",
       " 'indir_juris_tcu_synonym_related_term': [{'PIPE_OBJECT': <haystack.pipelines.base.Pipeline at 0x7f37607f18d0>,\n",
       "   'RETRIEVER_TYPE': 'bm25',\n",
       "   'RANKER_TYPE': 'PTT5_BASE',\n",
       "   'RETRIEVER_MODEL_NAME': ''}]}"
      ]
     },
     "execution_count": 49,
     "metadata": {},
     "output_type": "execute_result"
    }
   ],
   "source": [
    "pipes"
   ]
  },
  {
   "cell_type": "code",
   "execution_count": 50,
   "metadata": {},
   "outputs": [],
   "source": [
    "grid_experiment = { \n",
    "             'TOPK_RETRIEVER' : [300],\n",
    "             'TOPK_RANKER' : [0],\n",
    "}"
   ]
  },
  {
   "cell_type": "code",
   "execution_count": 51,
   "metadata": {},
   "outputs": [],
   "source": [
    "list_experiment = [dict(zip(grid_experiment.keys(), values)) for values in product(*grid_experiment.values())]\n"
   ]
  },
  {
   "cell_type": "code",
   "execution_count": 52,
   "metadata": {},
   "outputs": [
    {
     "name": "stdout",
     "output_type": "stream",
     "text": [
      "1\n"
     ]
    },
    {
     "data": {
      "text/plain": [
       "84"
      ]
     },
     "execution_count": 52,
     "metadata": {},
     "output_type": "execute_result"
    }
   ],
   "source": [
    "print(len(list_experiment))\n",
    "gc.collect()"
   ]
  },
  {
   "cell_type": "code",
   "execution_count": 53,
   "metadata": {},
   "outputs": [
    {
     "data": {
      "text/plain": [
       "1"
      ]
     },
     "execution_count": 53,
     "metadata": {},
     "output_type": "execute_result"
    }
   ],
   "source": [
    "len(pipes['indir_juris_tcu'])"
   ]
  },
  {
   "cell_type": "code",
   "execution_count": 54,
   "metadata": {},
   "outputs": [
    {
     "data": {
      "text/html": [
       "<div>\n",
       "<style scoped>\n",
       "    .dataframe tbody tr th:only-of-type {\n",
       "        vertical-align: middle;\n",
       "    }\n",
       "\n",
       "    .dataframe tbody tr th {\n",
       "        vertical-align: top;\n",
       "    }\n",
       "\n",
       "    .dataframe thead th {\n",
       "        text-align: right;\n",
       "    }\n",
       "</style>\n",
       "<table border=\"1\" class=\"dataframe\">\n",
       "  <thead>\n",
       "    <tr style=\"text-align: right;\">\n",
       "      <th></th>\n",
       "      <th>ID</th>\n",
       "      <th>RELEVANCE_DICT</th>\n",
       "      <th>TEXT</th>\n",
       "      <th>SOURCE</th>\n",
       "      <th>1</th>\n",
       "      <th>2</th>\n",
       "      <th>3</th>\n",
       "      <th>4</th>\n",
       "      <th>5</th>\n",
       "      <th>6</th>\n",
       "      <th>7</th>\n",
       "      <th>8</th>\n",
       "      <th>9</th>\n",
       "      <th>10</th>\n",
       "    </tr>\n",
       "  </thead>\n",
       "  <tbody>\n",
       "    <tr>\n",
       "      <th>0</th>\n",
       "      <td>1</td>\n",
       "      <td>{21064: 3, 42166: 3, 13702: 3, 20592: 3, 15740: 3, 53641: 3, 31601: 3, 54765: 3, 20506: 3, 47161: 3, 161: 1, 11595: 1, 40647: 1, 22155: 1, 18435: 1}</td>\n",
       "      <td>técnica e preço</td>\n",
       "      <td>search log</td>\n",
       "      <td>técnica e preço - Licitação de técnica e preço</td>\n",
       "      <td>técnica e preço - Licitação de técnica e preço, Proposta técnica</td>\n",
       "      <td>técnica e preço - Licitação de técnica e preço, Proposta técnica, Tipo de licitação</td>\n",
       "      <td>técnica e preço - Licitação de técnica e preço, Proposta técnica, Tipo de licitação, Proposta</td>\n",
       "      <td>técnica e preço - Licitação de técnica e preço, Proposta técnica, Tipo de licitação, Proposta, Licitação de melhor técnica</td>\n",
       "      <td>técnica e preço - Licitação de técnica e preço, Proposta técnica, Tipo de licitação, Proposta, Licitação de melhor técnica, Proposta de preço</td>\n",
       "      <td>técnica e preço - Licitação de técnica e preço, Proposta técnica, Tipo de licitação, Proposta, Licitação de melhor técnica, Proposta de preço, Preço médio</td>\n",
       "      <td>técnica e preço - Licitação de técnica e preço, Proposta técnica, Tipo de licitação, Proposta, Licitação de melhor técnica, Proposta de preço, Preço médio, Eficiência de custos</td>\n",
       "      <td>técnica e preço - Licitação de técnica e preço, Proposta técnica, Tipo de licitação, Proposta, Licitação de melhor técnica, Proposta de preço, Preço médio, Eficiência de custos, Índice de preços</td>\n",
       "      <td>técnica e preço - Licitação de técnica e preço, Proposta técnica, Tipo de licitação, Proposta, Licitação de melhor técnica, Proposta de preço, Preço médio, Eficiência de custos, Índice de preços</td>\n",
       "    </tr>\n",
       "    <tr>\n",
       "      <th>1</th>\n",
       "      <td>2</td>\n",
       "      <td>{31437: 3, 19340: 3, 77959: 3, 17289: 2, 18452: 2, 18105: 1, 19636: 1, 31274: 0, 17258: 0, 32865: 0, 19738: 0, 104484: 0, 90647: 0, 21876: 0, 33096: 0}</td>\n",
       "      <td>restos a pagar</td>\n",
       "      <td>search log</td>\n",
       "      <td>restos a pagar - Cota-parte</td>\n",
       "      <td>restos a pagar - Cota-parte, Recolhimento</td>\n",
       "      <td>restos a pagar - Cota-parte, Recolhimento, Quitação</td>\n",
       "      <td>restos a pagar - Cota-parte, Recolhimento, Quitação, Passivo compensado</td>\n",
       "      <td>restos a pagar - Cota-parte, Recolhimento, Quitação, Passivo compensado, Passivo circulante</td>\n",
       "      <td>restos a pagar - Cota-parte, Recolhimento, Quitação, Passivo compensado, Passivo circulante, Despesas de exercícios anteriores</td>\n",
       "      <td>restos a pagar - Cota-parte, Recolhimento, Quitação, Passivo compensado, Passivo circulante, Despesas de exercícios anteriores, Ativo compensado</td>\n",
       "      <td>restos a pagar - Cota-parte, Recolhimento, Quitação, Passivo compensado, Passivo circulante, Despesas de exercícios anteriores, Ativo compensado, Dívida</td>\n",
       "      <td>restos a pagar - Cota-parte, Recolhimento, Quitação, Passivo compensado, Passivo circulante, Despesas de exercícios anteriores, Ativo compensado, Dívida, Despesa empenhada</td>\n",
       "      <td>restos a pagar - Cota-parte, Recolhimento, Quitação, Passivo compensado, Passivo circulante, Despesas de exercícios anteriores, Ativo compensado, Dívida, Despesa empenhada</td>\n",
       "    </tr>\n",
       "    <tr>\n",
       "      <th>2</th>\n",
       "      <td>3</td>\n",
       "      <td>{18380: 3, 31102: 3, 17240: 3, 20511: 3, 32589: 3, 20510: 3, 17816: 3, 18058: 2, 17225: 2, 57354: 2, 18003: 2, 3881: 2, 31096: 1, 20901: 1, 11621: 1}</td>\n",
       "      <td>aditivo a contrato</td>\n",
       "      <td>search log</td>\n",
       "      <td>aditivo a contrato - Termo aditivo</td>\n",
       "      <td>aditivo a contrato - Termo aditivo, Aditivo qualitativo</td>\n",
       "      <td>aditivo a contrato - Termo aditivo, Aditivo qualitativo, Aditivo quantitativo</td>\n",
       "      <td>aditivo a contrato - Termo aditivo, Aditivo qualitativo, Aditivo quantitativo, Apostila (Licitação)</td>\n",
       "      <td>aditivo a contrato - Termo aditivo, Aditivo qualitativo, Aditivo quantitativo, Apostila (Licitação), Alteração contratual</td>\n",
       "      <td>aditivo a contrato - Termo aditivo, Aditivo qualitativo, Aditivo quantitativo, Apostila (Licitação), Alteração contratual, Ajuste</td>\n",
       "      <td>aditivo a contrato - Termo aditivo, Aditivo qualitativo, Aditivo quantitativo, Apostila (Licitação), Alteração contratual, Ajuste, Jogo de planilhas</td>\n",
       "      <td>aditivo a contrato - Termo aditivo, Aditivo qualitativo, Aditivo quantitativo, Apostila (Licitação), Alteração contratual, Ajuste, Jogo de planilhas, Acréscimo</td>\n",
       "      <td>aditivo a contrato - Termo aditivo, Aditivo qualitativo, Aditivo quantitativo, Apostila (Licitação), Alteração contratual, Ajuste, Jogo de planilhas, Acréscimo, Apostilamento</td>\n",
       "      <td>aditivo a contrato - Termo aditivo, Aditivo qualitativo, Aditivo quantitativo, Apostila (Licitação), Alteração contratual, Ajuste, Jogo de planilhas, Acréscimo, Apostilamento</td>\n",
       "    </tr>\n",
       "    <tr>\n",
       "      <th>3</th>\n",
       "      <td>4</td>\n",
       "      <td>{16895: 3, 45015: 3, 14526: 3, 62306: 3, 6237: 3, 50537: 3, 16981: 3, 21201: 3, 77927: 3, 84935: 3, 22098: 1, 18410: 1, 8858: 1, 60811: 0, 42906: 0}</td>\n",
       "      <td>adesão a ata de registro de preços</td>\n",
       "      <td>search log</td>\n",
       "      <td>adesão a ata de registro de preços - Sistema de Registro de Preços</td>\n",
       "      <td>adesão a ata de registro de preços - Sistema de Registro de Preços, Princípio da vinculação ao instrumento convocatório</td>\n",
       "      <td>adesão a ata de registro de preços - Sistema de Registro de Preços, Princípio da vinculação ao instrumento convocatório, Intenção de Registro de Preços</td>\n",
       "      <td>adesão a ata de registro de preços - Sistema de Registro de Preços, Princípio da vinculação ao instrumento convocatório, Intenção de Registro de Preços, Contrato de adesão</td>\n",
       "      <td>adesão a ata de registro de preços - Sistema de Registro de Preços, Princípio da vinculação ao instrumento convocatório, Intenção de Registro de Preços, Contrato de adesão, Impugnação de preço</td>\n",
       "      <td>adesão a ata de registro de preços - Sistema de Registro de Preços, Princípio da vinculação ao instrumento convocatório, Intenção de Registro de Preços, Contrato de adesão, Impugnação de preço</td>\n",
       "      <td>adesão a ata de registro de preços - Sistema de Registro de Preços, Princípio da vinculação ao instrumento convocatório, Intenção de Registro de Preços, Contrato de adesão, Impugnação de preço</td>\n",
       "      <td>adesão a ata de registro de preços - Sistema de Registro de Preços, Princípio da vinculação ao instrumento convocatório, Intenção de Registro de Preços, Contrato de adesão, Impugnação de preço</td>\n",
       "      <td>adesão a ata de registro de preços - Sistema de Registro de Preços, Princípio da vinculação ao instrumento convocatório, Intenção de Registro de Preços, Contrato de adesão, Impugnação de preço</td>\n",
       "      <td>adesão a ata de registro de preços - Sistema de Registro de Preços, Princípio da vinculação ao instrumento convocatório, Intenção de Registro de Preços, Contrato de adesão, Impugnação de preço</td>\n",
       "    </tr>\n",
       "    <tr>\n",
       "      <th>4</th>\n",
       "      <td>5</td>\n",
       "      <td>{21172: 3, 17816: 3, 4066: 3, 53003: 3, 94290: 3, 114656: 3, 50616: 3, 144170: 3, 16277: 3, 59226: 3, 18047: 2, 31612: 1, 18036: 1, 42583: 0, 29387: 0}</td>\n",
       "      <td>sobrepreço e superfaturamento</td>\n",
       "      <td>search log</td>\n",
       "      <td>sobrepreço e superfaturamento - Faturamento</td>\n",
       "      <td>sobrepreço e superfaturamento - Faturamento, Licitação</td>\n",
       "      <td>sobrepreço e superfaturamento - Faturamento, Licitação, Enriquecimento ilícito</td>\n",
       "      <td>sobrepreço e superfaturamento - Faturamento, Licitação, Enriquecimento ilícito, Irregularidade grave</td>\n",
       "      <td>sobrepreço e superfaturamento - Faturamento, Licitação, Enriquecimento ilícito, Irregularidade grave, Indício de irregularidade grave</td>\n",
       "      <td>sobrepreço e superfaturamento - Faturamento, Licitação, Enriquecimento ilícito, Irregularidade grave, Indício de irregularidade grave, Obras, serviços ou compras de grande vulto</td>\n",
       "      <td>sobrepreço e superfaturamento - Faturamento, Licitação, Enriquecimento ilícito, Irregularidade grave, Indício de irregularidade grave, Obras, serviços ou compras de grande vulto, Preço</td>\n",
       "      <td>sobrepreço e superfaturamento - Faturamento, Licitação, Enriquecimento ilícito, Irregularidade grave, Indício de irregularidade grave, Obras, serviços ou compras de grande vulto, Preço, Excesso de...</td>\n",
       "      <td>sobrepreço e superfaturamento - Faturamento, Licitação, Enriquecimento ilícito, Irregularidade grave, Indício de irregularidade grave, Obras, serviços ou compras de grande vulto, Preço, Excesso de...</td>\n",
       "      <td>sobrepreço e superfaturamento - Faturamento, Licitação, Enriquecimento ilícito, Irregularidade grave, Indício de irregularidade grave, Obras, serviços ou compras de grande vulto, Preço, Excesso de...</td>\n",
       "    </tr>\n",
       "  </tbody>\n",
       "</table>\n",
       "</div>"
      ],
      "text/plain": [
       "   ID                                                                                                                                           RELEVANCE_DICT                                TEXT  \\\n",
       "0   1     {21064: 3, 42166: 3, 13702: 3, 20592: 3, 15740: 3, 53641: 3, 31601: 3, 54765: 3, 20506: 3, 47161: 3, 161: 1, 11595: 1, 40647: 1, 22155: 1, 18435: 1}                     técnica e preço   \n",
       "1   2  {31437: 3, 19340: 3, 77959: 3, 17289: 2, 18452: 2, 18105: 1, 19636: 1, 31274: 0, 17258: 0, 32865: 0, 19738: 0, 104484: 0, 90647: 0, 21876: 0, 33096: 0}                      restos a pagar   \n",
       "2   3    {18380: 3, 31102: 3, 17240: 3, 20511: 3, 32589: 3, 20510: 3, 17816: 3, 18058: 2, 17225: 2, 57354: 2, 18003: 2, 3881: 2, 31096: 1, 20901: 1, 11621: 1}                  aditivo a contrato   \n",
       "3   4     {16895: 3, 45015: 3, 14526: 3, 62306: 3, 6237: 3, 50537: 3, 16981: 3, 21201: 3, 77927: 3, 84935: 3, 22098: 1, 18410: 1, 8858: 1, 60811: 0, 42906: 0}  adesão a ata de registro de preços   \n",
       "4   5  {21172: 3, 17816: 3, 4066: 3, 53003: 3, 94290: 3, 114656: 3, 50616: 3, 144170: 3, 16277: 3, 59226: 3, 18047: 2, 31612: 1, 18036: 1, 42583: 0, 29387: 0}       sobrepreço e superfaturamento   \n",
       "\n",
       "       SOURCE                                                                   1  \\\n",
       "0  search log                      técnica e preço - Licitação de técnica e preço   \n",
       "1  search log                                         restos a pagar - Cota-parte   \n",
       "2  search log                                  aditivo a contrato - Termo aditivo   \n",
       "3  search log  adesão a ata de registro de preços - Sistema de Registro de Preços   \n",
       "4  search log                         sobrepreço e superfaturamento - Faturamento   \n",
       "\n",
       "                                                                                                                         2  \\\n",
       "0                                                         técnica e preço - Licitação de técnica e preço, Proposta técnica   \n",
       "1                                                                                restos a pagar - Cota-parte, Recolhimento   \n",
       "2                                                                  aditivo a contrato - Termo aditivo, Aditivo qualitativo   \n",
       "3  adesão a ata de registro de preços - Sistema de Registro de Preços, Princípio da vinculação ao instrumento convocatório   \n",
       "4                                                                   sobrepreço e superfaturamento - Faturamento, Licitação   \n",
       "\n",
       "                                                                                                                                                         3  \\\n",
       "0                                                                      técnica e preço - Licitação de técnica e preço, Proposta técnica, Tipo de licitação   \n",
       "1                                                                                                      restos a pagar - Cota-parte, Recolhimento, Quitação   \n",
       "2                                                                            aditivo a contrato - Termo aditivo, Aditivo qualitativo, Aditivo quantitativo   \n",
       "3  adesão a ata de registro de preços - Sistema de Registro de Preços, Princípio da vinculação ao instrumento convocatório, Intenção de Registro de Preços   \n",
       "4                                                                           sobrepreço e superfaturamento - Faturamento, Licitação, Enriquecimento ilícito   \n",
       "\n",
       "                                                                                                                                                                             4  \\\n",
       "0                                                                                técnica e preço - Licitação de técnica e preço, Proposta técnica, Tipo de licitação, Proposta   \n",
       "1                                                                                                      restos a pagar - Cota-parte, Recolhimento, Quitação, Passivo compensado   \n",
       "2                                                                          aditivo a contrato - Termo aditivo, Aditivo qualitativo, Aditivo quantitativo, Apostila (Licitação)   \n",
       "3  adesão a ata de registro de preços - Sistema de Registro de Preços, Princípio da vinculação ao instrumento convocatório, Intenção de Registro de Preços, Contrato de adesão   \n",
       "4                                                                         sobrepreço e superfaturamento - Faturamento, Licitação, Enriquecimento ilícito, Irregularidade grave   \n",
       "\n",
       "                                                                                                                                                                                                  5  \\\n",
       "0                                                                        técnica e preço - Licitação de técnica e preço, Proposta técnica, Tipo de licitação, Proposta, Licitação de melhor técnica   \n",
       "1                                                                                                       restos a pagar - Cota-parte, Recolhimento, Quitação, Passivo compensado, Passivo circulante   \n",
       "2                                                                         aditivo a contrato - Termo aditivo, Aditivo qualitativo, Aditivo quantitativo, Apostila (Licitação), Alteração contratual   \n",
       "3  adesão a ata de registro de preços - Sistema de Registro de Preços, Princípio da vinculação ao instrumento convocatório, Intenção de Registro de Preços, Contrato de adesão, Impugnação de preço   \n",
       "4                                                             sobrepreço e superfaturamento - Faturamento, Licitação, Enriquecimento ilícito, Irregularidade grave, Indício de irregularidade grave   \n",
       "\n",
       "                                                                                                                                                                                                  6  \\\n",
       "0                                                     técnica e preço - Licitação de técnica e preço, Proposta técnica, Tipo de licitação, Proposta, Licitação de melhor técnica, Proposta de preço   \n",
       "1                                                                    restos a pagar - Cota-parte, Recolhimento, Quitação, Passivo compensado, Passivo circulante, Despesas de exercícios anteriores   \n",
       "2                                                                 aditivo a contrato - Termo aditivo, Aditivo qualitativo, Aditivo quantitativo, Apostila (Licitação), Alteração contratual, Ajuste   \n",
       "3  adesão a ata de registro de preços - Sistema de Registro de Preços, Princípio da vinculação ao instrumento convocatório, Intenção de Registro de Preços, Contrato de adesão, Impugnação de preço   \n",
       "4                 sobrepreço e superfaturamento - Faturamento, Licitação, Enriquecimento ilícito, Irregularidade grave, Indício de irregularidade grave, Obras, serviços ou compras de grande vulto   \n",
       "\n",
       "                                                                                                                                                                                                  7  \\\n",
       "0                                        técnica e preço - Licitação de técnica e preço, Proposta técnica, Tipo de licitação, Proposta, Licitação de melhor técnica, Proposta de preço, Preço médio   \n",
       "1                                                  restos a pagar - Cota-parte, Recolhimento, Quitação, Passivo compensado, Passivo circulante, Despesas de exercícios anteriores, Ativo compensado   \n",
       "2                                              aditivo a contrato - Termo aditivo, Aditivo qualitativo, Aditivo quantitativo, Apostila (Licitação), Alteração contratual, Ajuste, Jogo de planilhas   \n",
       "3  adesão a ata de registro de preços - Sistema de Registro de Preços, Princípio da vinculação ao instrumento convocatório, Intenção de Registro de Preços, Contrato de adesão, Impugnação de preço   \n",
       "4          sobrepreço e superfaturamento - Faturamento, Licitação, Enriquecimento ilícito, Irregularidade grave, Indício de irregularidade grave, Obras, serviços ou compras de grande vulto, Preço   \n",
       "\n",
       "                                                                                                                                                                                                         8  \\\n",
       "0                         técnica e preço - Licitação de técnica e preço, Proposta técnica, Tipo de licitação, Proposta, Licitação de melhor técnica, Proposta de preço, Preço médio, Eficiência de custos   \n",
       "1                                                 restos a pagar - Cota-parte, Recolhimento, Quitação, Passivo compensado, Passivo circulante, Despesas de exercícios anteriores, Ativo compensado, Dívida   \n",
       "2                                          aditivo a contrato - Termo aditivo, Aditivo qualitativo, Aditivo quantitativo, Apostila (Licitação), Alteração contratual, Ajuste, Jogo de planilhas, Acréscimo   \n",
       "3         adesão a ata de registro de preços - Sistema de Registro de Preços, Princípio da vinculação ao instrumento convocatório, Intenção de Registro de Preços, Contrato de adesão, Impugnação de preço   \n",
       "4  sobrepreço e superfaturamento - Faturamento, Licitação, Enriquecimento ilícito, Irregularidade grave, Indício de irregularidade grave, Obras, serviços ou compras de grande vulto, Preço, Excesso de...   \n",
       "\n",
       "                                                                                                                                                                                                         9  \\\n",
       "0       técnica e preço - Licitação de técnica e preço, Proposta técnica, Tipo de licitação, Proposta, Licitação de melhor técnica, Proposta de preço, Preço médio, Eficiência de custos, Índice de preços   \n",
       "1                              restos a pagar - Cota-parte, Recolhimento, Quitação, Passivo compensado, Passivo circulante, Despesas de exercícios anteriores, Ativo compensado, Dívida, Despesa empenhada   \n",
       "2                           aditivo a contrato - Termo aditivo, Aditivo qualitativo, Aditivo quantitativo, Apostila (Licitação), Alteração contratual, Ajuste, Jogo de planilhas, Acréscimo, Apostilamento   \n",
       "3         adesão a ata de registro de preços - Sistema de Registro de Preços, Princípio da vinculação ao instrumento convocatório, Intenção de Registro de Preços, Contrato de adesão, Impugnação de preço   \n",
       "4  sobrepreço e superfaturamento - Faturamento, Licitação, Enriquecimento ilícito, Irregularidade grave, Indício de irregularidade grave, Obras, serviços ou compras de grande vulto, Preço, Excesso de...   \n",
       "\n",
       "                                                                                                                                                                                                        10  \n",
       "0       técnica e preço - Licitação de técnica e preço, Proposta técnica, Tipo de licitação, Proposta, Licitação de melhor técnica, Proposta de preço, Preço médio, Eficiência de custos, Índice de preços  \n",
       "1                              restos a pagar - Cota-parte, Recolhimento, Quitação, Passivo compensado, Passivo circulante, Despesas de exercícios anteriores, Ativo compensado, Dívida, Despesa empenhada  \n",
       "2                           aditivo a contrato - Termo aditivo, Aditivo qualitativo, Aditivo quantitativo, Apostila (Licitação), Alteração contratual, Ajuste, Jogo de planilhas, Acréscimo, Apostilamento  \n",
       "3         adesão a ata de registro de preços - Sistema de Registro de Preços, Princípio da vinculação ao instrumento convocatório, Intenção de Registro de Preços, Contrato de adesão, Impugnação de preço  \n",
       "4  sobrepreço e superfaturamento - Faturamento, Licitação, Enriquecimento ilícito, Irregularidade grave, Indício de irregularidade grave, Obras, serviços ou compras de grande vulto, Preço, Excesso de...  "
      ]
     },
     "execution_count": 54,
     "metadata": {},
     "output_type": "execute_result"
    }
   ],
   "source": [
    "df_search_data.head()"
   ]
  },
  {
   "cell_type": "code",
   "execution_count": null,
   "metadata": {},
   "outputs": [
    {
     "ename": "Exception",
     "evalue": "Stop execution - create only desired pipelines in code below ",
     "output_type": "error",
     "traceback": [
      "\u001b[0;31m---------------------------------------------------------------------------\u001b[0m",
      "\u001b[0;31mException\u001b[0m                                 Traceback (most recent call last)",
      "\u001b[0;32m/tmp/ipykernel_1211546/2302163279.py\u001b[0m in \u001b[0;36m<module>\u001b[0;34m\u001b[0m\n\u001b[0;32m----> 1\u001b[0;31m \u001b[0;32mraise\u001b[0m \u001b[0mException\u001b[0m \u001b[0;34m(\u001b[0m\u001b[0;34m'Stop execution - create only desired pipelines in code below '\u001b[0m\u001b[0;34m)\u001b[0m\u001b[0;34m\u001b[0m\u001b[0;34m\u001b[0m\u001b[0m\n\u001b[0m",
      "\u001b[0;31mException\u001b[0m: Stop execution - create only desired pipelines in code below "
     ]
    }
   ],
   "source": [
    "raise Exception ('Stop execution - create only desired pipelines in code below ')"
   ]
  },
  {
   "cell_type": "code",
   "execution_count": null,
   "metadata": {},
   "outputs": [
    {
     "data": {
      "text/plain": [
       "<module 'util.util_experiment_juris_tcu' from '/home/borela/fontes/ind-ir/code/util/util_experiment_juris_tcu.py'>"
      ]
     },
     "execution_count": 53,
     "metadata": {},
     "output_type": "execute_result"
    }
   ],
   "source": [
    "importlib.reload(util_experiment)"
   ]
  },
  {
   "cell_type": "code",
   "execution_count": 55,
   "metadata": {},
   "outputs": [],
   "source": [
    "consider_run_all = True"
   ]
  },
  {
   "cell_type": "code",
   "execution_count": 56,
   "metadata": {},
   "outputs": [
    {
     "data": {
      "text/plain": [
       "('join_30_ptt5_base', 'PTT5_BASE')"
      ]
     },
     "execution_count": 56,
     "metadata": {},
     "output_type": "execute_result"
    }
   ],
   "source": [
    "EXPANSOR_CRITERIA, ranker_type"
   ]
  },
  {
   "cell_type": "code",
   "execution_count": 57,
   "metadata": {},
   "outputs": [
    {
     "data": {
      "text/plain": [
       "[{'PIPE_OBJECT': <haystack.pipelines.base.Pipeline at 0x7f376ae80b50>,\n",
       "  'RETRIEVER_TYPE': 'bm25',\n",
       "  'RANKER_TYPE': 'PTT5_BASE',\n",
       "  'RETRIEVER_MODEL_NAME': ''}]"
      ]
     },
     "execution_count": 57,
     "metadata": {},
     "output_type": "execute_result"
    }
   ],
   "source": [
    "pipes['indir_juris_tcu']"
   ]
  },
  {
   "cell_type": "code",
   "execution_count": 58,
   "metadata": {},
   "outputs": [],
   "source": [
    "assert pipes['indir_juris_tcu'][0]['RETRIEVER_TYPE']=='bm25', \"For comparison, use bm25\""
   ]
  },
  {
   "cell_type": "code",
   "execution_count": 59,
   "metadata": {},
   "outputs": [
    {
     "name": "stdout",
     "output_type": "stream",
     "text": [
      "target_columns Index(['1', '10', '2', '3', '4', '5', '6', '7', '8', '9', 'TEXT'], dtype='object')\n",
      "==1== SKIPED ==  2023-Jun-30 10:08:43 \n",
      "Experiment: {'TOPK_RETRIEVER': 300, 'TOPK_RANKER': 0}\n",
      "==2== SKIPED ==  2023-Jun-30 10:08:43 \n",
      "Experiment: {'TOPK_RETRIEVER': 300, 'TOPK_RANKER': 0}\n",
      "==3== SKIPED ==  2023-Jun-30 10:08:43 \n",
      "Experiment: {'TOPK_RETRIEVER': 300, 'TOPK_RANKER': 0}\n",
      "==4== SKIPED ==  2023-Jun-30 10:08:43 \n",
      "Experiment: {'TOPK_RETRIEVER': 300, 'TOPK_RANKER': 0}\n",
      "==5== SKIPED ==  2023-Jun-30 10:08:43 \n",
      "Experiment: {'TOPK_RETRIEVER': 300, 'TOPK_RANKER': 0}\n",
      "==6== SKIPED ==  2023-Jun-30 10:08:43 \n",
      "Experiment: {'TOPK_RETRIEVER': 300, 'TOPK_RANKER': 0}\n",
      "==7== SKIPED ==  2023-Jun-30 10:08:43 \n",
      "Experiment: {'TOPK_RETRIEVER': 300, 'TOPK_RANKER': 0}\n",
      "==8== SKIPED ==  2023-Jun-30 10:08:43 \n",
      "Experiment: {'TOPK_RETRIEVER': 300, 'TOPK_RANKER': 0}\n",
      "==9== SKIPED ==  2023-Jun-30 10:08:43 \n",
      "Experiment: {'TOPK_RETRIEVER': 300, 'TOPK_RANKER': 0}\n",
      "==10== SKIPED ==  2023-Jun-30 10:08:43 \n",
      "Experiment: {'TOPK_RETRIEVER': 300, 'TOPK_RANKER': 0}\n",
      "==11== SKIPED ==  2023-Jun-30 10:08:43 \n",
      "Experiment: {'TOPK_RETRIEVER': 300, 'TOPK_RANKER': 0}\n",
      "==12== SKIPED ==  2023-Jun-30 10:08:43 \n",
      "Experiment: {'TOPK_RETRIEVER': 300, 'TOPK_RANKER': 0}\n",
      "==13==  2023-Jun-30 10:08:43 \n",
      "Experiment: {'TOPK_RETRIEVER': 300, 'TOPK_RANKER': 0, 'EXPANSOR_CRITERIA': 'join_30_ptt5_base', 'INDEX_NAME': 'indir_juris_tcu_term', 'PIPE': {'PIPE_OBJECT': <haystack.pipelines.base.Pipeline object at 0x7f37611d9450>, 'RETRIEVER_TYPE': 'bm25', 'RANKER_TYPE': 'PTT5_BASE', 'RETRIEVER_MODEL_NAME': ''}, 'COLUMN_NAME': '10'}\n",
      "Experimento envolverá 150 registros, toda a base de dados\n"
     ]
    },
    {
     "name": "stderr",
     "output_type": "stream",
     "text": [
      "100%|██████████| 150/150 [03:09<00:00,  1.26s/it]\n"
     ]
    },
    {
     "name": "stdout",
     "output_type": "stream",
     "text": [
      "COLUMN_NAME: 10\n",
      "COUNT_QUERY_RUN: 150\n",
      "EXPANSOR_CRITERIA: join_30_ptt5_base\n",
      "COUNT_QUERY_WITHOUT_RESULT: 0\n",
      "COUNT_QUERY_NOT_FOUND: 1\n",
      "RANK1_MEAN: 1.805\n",
      "NDCG@5_MEAN: 67.243\n",
      "NDCG@10_MEAN: 63.7\n",
      "NDCG@15_MEAN: 66.491\n",
      "NDCG@20_MEAN: 69.033\n",
      "PRECISION@50_MEAN: 14.827\n",
      "PRECISION@100_MEAN: 7.68\n",
      "RECALL@50_MEAN: 87.064\n",
      "RECALL@100_MEAN: 90.066\n",
      "TIME_SPENT_MEAN: 1.263\n",
      "==14==  2023-Jun-30 10:11:55 \n",
      "Experiment: {'TOPK_RETRIEVER': 300, 'TOPK_RANKER': 0, 'EXPANSOR_CRITERIA': 'join_30_ptt5_base', 'INDEX_NAME': 'indir_juris_tcu_term', 'PIPE': {'PIPE_OBJECT': <haystack.pipelines.base.Pipeline object at 0x7f37611d9450>, 'RETRIEVER_TYPE': 'bm25', 'RANKER_TYPE': 'PTT5_BASE', 'RETRIEVER_MODEL_NAME': ''}, 'COLUMN_NAME': '2'}\n",
      "Experimento envolverá 150 registros, toda a base de dados\n"
     ]
    },
    {
     "name": "stderr",
     "output_type": "stream",
     "text": [
      "100%|██████████| 150/150 [02:42<00:00,  1.08s/it]\n"
     ]
    },
    {
     "name": "stdout",
     "output_type": "stream",
     "text": [
      "COLUMN_NAME: 2\n",
      "COUNT_QUERY_RUN: 150\n",
      "EXPANSOR_CRITERIA: join_30_ptt5_base\n",
      "COUNT_QUERY_WITHOUT_RESULT: 0\n",
      "COUNT_QUERY_NOT_FOUND: 0\n",
      "RANK1_MEAN: 2.46\n",
      "NDCG@5_MEAN: 65.648\n",
      "NDCG@10_MEAN: 61.948\n",
      "NDCG@15_MEAN: 65.256\n",
      "NDCG@20_MEAN: 68.11\n",
      "PRECISION@50_MEAN: 14.747\n",
      "PRECISION@100_MEAN: 7.787\n",
      "RECALL@50_MEAN: 86.536\n",
      "RECALL@100_MEAN: 90.981\n",
      "TIME_SPENT_MEAN: 1.082\n",
      "==15==  2023-Jun-30 10:14:39 \n",
      "Experiment: {'TOPK_RETRIEVER': 300, 'TOPK_RANKER': 0, 'EXPANSOR_CRITERIA': 'join_30_ptt5_base', 'INDEX_NAME': 'indir_juris_tcu_term', 'PIPE': {'PIPE_OBJECT': <haystack.pipelines.base.Pipeline object at 0x7f37611d9450>, 'RETRIEVER_TYPE': 'bm25', 'RANKER_TYPE': 'PTT5_BASE', 'RETRIEVER_MODEL_NAME': ''}, 'COLUMN_NAME': '3'}\n",
      "Experimento envolverá 150 registros, toda a base de dados\n"
     ]
    },
    {
     "name": "stderr",
     "output_type": "stream",
     "text": [
      "100%|██████████| 150/150 [02:47<00:00,  1.11s/it]\n"
     ]
    },
    {
     "name": "stdout",
     "output_type": "stream",
     "text": [
      "COLUMN_NAME: 3\n",
      "COUNT_QUERY_RUN: 150\n",
      "EXPANSOR_CRITERIA: join_30_ptt5_base\n",
      "COUNT_QUERY_WITHOUT_RESULT: 0\n",
      "COUNT_QUERY_NOT_FOUND: 0\n",
      "RANK1_MEAN: 2.073\n",
      "NDCG@5_MEAN: 67.146\n",
      "NDCG@10_MEAN: 63.572\n",
      "NDCG@15_MEAN: 66.21\n",
      "NDCG@20_MEAN: 69.081\n",
      "PRECISION@50_MEAN: 14.707\n",
      "PRECISION@100_MEAN: 7.753\n",
      "RECALL@50_MEAN: 86.466\n",
      "RECALL@100_MEAN: 90.788\n",
      "TIME_SPENT_MEAN: 1.113\n",
      "==16==  2023-Jun-30 10:17:29 \n",
      "Experiment: {'TOPK_RETRIEVER': 300, 'TOPK_RANKER': 0, 'EXPANSOR_CRITERIA': 'join_30_ptt5_base', 'INDEX_NAME': 'indir_juris_tcu_term', 'PIPE': {'PIPE_OBJECT': <haystack.pipelines.base.Pipeline object at 0x7f37611d9450>, 'RETRIEVER_TYPE': 'bm25', 'RANKER_TYPE': 'PTT5_BASE', 'RETRIEVER_MODEL_NAME': ''}, 'COLUMN_NAME': '4'}\n",
      "Experimento envolverá 150 registros, toda a base de dados\n"
     ]
    },
    {
     "name": "stderr",
     "output_type": "stream",
     "text": [
      "100%|██████████| 150/150 [02:50<00:00,  1.14s/it]\n"
     ]
    },
    {
     "name": "stdout",
     "output_type": "stream",
     "text": [
      "COLUMN_NAME: 4\n",
      "COUNT_QUERY_RUN: 150\n",
      "EXPANSOR_CRITERIA: join_30_ptt5_base\n",
      "COUNT_QUERY_WITHOUT_RESULT: 0\n",
      "COUNT_QUERY_NOT_FOUND: 0\n",
      "RANK1_MEAN: 2.207\n",
      "NDCG@5_MEAN: 67.333\n",
      "NDCG@10_MEAN: 63.385\n",
      "NDCG@15_MEAN: 66.423\n",
      "NDCG@20_MEAN: 69.127\n",
      "PRECISION@50_MEAN: 14.707\n",
      "PRECISION@100_MEAN: 7.747\n",
      "RECALL@50_MEAN: 86.601\n",
      "RECALL@100_MEAN: 90.864\n",
      "TIME_SPENT_MEAN: 1.139\n",
      "==17==  2023-Jun-30 10:20:22 \n",
      "Experiment: {'TOPK_RETRIEVER': 300, 'TOPK_RANKER': 0, 'EXPANSOR_CRITERIA': 'join_30_ptt5_base', 'INDEX_NAME': 'indir_juris_tcu_term', 'PIPE': {'PIPE_OBJECT': <haystack.pipelines.base.Pipeline object at 0x7f37611d9450>, 'RETRIEVER_TYPE': 'bm25', 'RANKER_TYPE': 'PTT5_BASE', 'RETRIEVER_MODEL_NAME': ''}, 'COLUMN_NAME': '5'}\n",
      "Experimento envolverá 150 registros, toda a base de dados\n"
     ]
    },
    {
     "name": "stderr",
     "output_type": "stream",
     "text": [
      "100%|██████████| 150/150 [02:55<00:00,  1.17s/it]\n"
     ]
    },
    {
     "name": "stdout",
     "output_type": "stream",
     "text": [
      "COLUMN_NAME: 5\n",
      "COUNT_QUERY_RUN: 150\n",
      "EXPANSOR_CRITERIA: join_30_ptt5_base\n",
      "COUNT_QUERY_WITHOUT_RESULT: 0\n",
      "COUNT_QUERY_NOT_FOUND: 0\n",
      "RANK1_MEAN: 1.787\n",
      "NDCG@5_MEAN: 67.996\n",
      "NDCG@10_MEAN: 64.27\n",
      "NDCG@15_MEAN: 66.955\n",
      "NDCG@20_MEAN: 69.969\n",
      "PRECISION@50_MEAN: 14.907\n",
      "PRECISION@100_MEAN: 7.8\n",
      "RECALL@50_MEAN: 87.533\n",
      "RECALL@100_MEAN: 91.451\n",
      "TIME_SPENT_MEAN: 1.172\n",
      "==18==  2023-Jun-30 10:23:20 \n",
      "Experiment: {'TOPK_RETRIEVER': 300, 'TOPK_RANKER': 0, 'EXPANSOR_CRITERIA': 'join_30_ptt5_base', 'INDEX_NAME': 'indir_juris_tcu_term', 'PIPE': {'PIPE_OBJECT': <haystack.pipelines.base.Pipeline object at 0x7f37611d9450>, 'RETRIEVER_TYPE': 'bm25', 'RANKER_TYPE': 'PTT5_BASE', 'RETRIEVER_MODEL_NAME': ''}, 'COLUMN_NAME': '6'}\n",
      "Experimento envolverá 150 registros, toda a base de dados\n"
     ]
    },
    {
     "name": "stderr",
     "output_type": "stream",
     "text": [
      "100%|██████████| 150/150 [02:59<00:00,  1.20s/it]\n"
     ]
    },
    {
     "name": "stdout",
     "output_type": "stream",
     "text": [
      "COLUMN_NAME: 6\n",
      "COUNT_QUERY_RUN: 150\n",
      "EXPANSOR_CRITERIA: join_30_ptt5_base\n",
      "COUNT_QUERY_WITHOUT_RESULT: 0\n",
      "COUNT_QUERY_NOT_FOUND: 0\n",
      "RANK1_MEAN: 1.8\n",
      "NDCG@5_MEAN: 68.603\n",
      "NDCG@10_MEAN: 64.255\n",
      "NDCG@15_MEAN: 67.66\n",
      "NDCG@20_MEAN: 70.325\n",
      "PRECISION@50_MEAN: 14.96\n",
      "PRECISION@100_MEAN: 7.8\n",
      "RECALL@50_MEAN: 87.947\n",
      "RECALL@100_MEAN: 91.572\n",
      "TIME_SPENT_MEAN: 1.199\n",
      "==19==  2023-Jun-30 10:26:22 \n",
      "Experiment: {'TOPK_RETRIEVER': 300, 'TOPK_RANKER': 0, 'EXPANSOR_CRITERIA': 'join_30_ptt5_base', 'INDEX_NAME': 'indir_juris_tcu_term', 'PIPE': {'PIPE_OBJECT': <haystack.pipelines.base.Pipeline object at 0x7f37611d9450>, 'RETRIEVER_TYPE': 'bm25', 'RANKER_TYPE': 'PTT5_BASE', 'RETRIEVER_MODEL_NAME': ''}, 'COLUMN_NAME': '7'}\n",
      "Experimento envolverá 150 registros, toda a base de dados\n"
     ]
    },
    {
     "name": "stderr",
     "output_type": "stream",
     "text": [
      "100%|██████████| 150/150 [03:04<00:00,  1.23s/it]\n"
     ]
    },
    {
     "name": "stdout",
     "output_type": "stream",
     "text": [
      "COLUMN_NAME: 7\n",
      "COUNT_QUERY_RUN: 150\n",
      "EXPANSOR_CRITERIA: join_30_ptt5_base\n",
      "COUNT_QUERY_WITHOUT_RESULT: 0\n",
      "COUNT_QUERY_NOT_FOUND: 1\n",
      "RANK1_MEAN: 1.758\n",
      "NDCG@5_MEAN: 68.392\n",
      "NDCG@10_MEAN: 63.899\n",
      "NDCG@15_MEAN: 67.392\n",
      "NDCG@20_MEAN: 69.873\n",
      "PRECISION@50_MEAN: 14.88\n",
      "PRECISION@100_MEAN: 7.787\n",
      "RECALL@50_MEAN: 87.578\n",
      "RECALL@100_MEAN: 91.302\n",
      "TIME_SPENT_MEAN: 1.227\n",
      "==20==  2023-Jun-30 10:29:28 \n",
      "Experiment: {'TOPK_RETRIEVER': 300, 'TOPK_RANKER': 0, 'EXPANSOR_CRITERIA': 'join_30_ptt5_base', 'INDEX_NAME': 'indir_juris_tcu_term', 'PIPE': {'PIPE_OBJECT': <haystack.pipelines.base.Pipeline object at 0x7f37611d9450>, 'RETRIEVER_TYPE': 'bm25', 'RANKER_TYPE': 'PTT5_BASE', 'RETRIEVER_MODEL_NAME': ''}, 'COLUMN_NAME': '8'}\n",
      "Experimento envolverá 150 registros, toda a base de dados\n"
     ]
    },
    {
     "name": "stderr",
     "output_type": "stream",
     "text": [
      "100%|██████████| 150/150 [03:07<00:00,  1.25s/it]\n"
     ]
    },
    {
     "name": "stdout",
     "output_type": "stream",
     "text": [
      "COLUMN_NAME: 8\n",
      "COUNT_QUERY_RUN: 150\n",
      "EXPANSOR_CRITERIA: join_30_ptt5_base\n",
      "COUNT_QUERY_WITHOUT_RESULT: 0\n",
      "COUNT_QUERY_NOT_FOUND: 1\n",
      "RANK1_MEAN: 1.886\n",
      "NDCG@5_MEAN: 68.504\n",
      "NDCG@10_MEAN: 63.738\n",
      "NDCG@15_MEAN: 66.929\n",
      "NDCG@20_MEAN: 69.486\n",
      "PRECISION@50_MEAN: 14.867\n",
      "PRECISION@100_MEAN: 7.72\n",
      "RECALL@50_MEAN: 87.28\n",
      "RECALL@100_MEAN: 90.486\n",
      "TIME_SPENT_MEAN: 1.248\n",
      "==21==  2023-Jun-30 10:32:38 \n",
      "Experiment: {'TOPK_RETRIEVER': 300, 'TOPK_RANKER': 0, 'EXPANSOR_CRITERIA': 'join_30_ptt5_base', 'INDEX_NAME': 'indir_juris_tcu_term', 'PIPE': {'PIPE_OBJECT': <haystack.pipelines.base.Pipeline object at 0x7f37611d9450>, 'RETRIEVER_TYPE': 'bm25', 'RANKER_TYPE': 'PTT5_BASE', 'RETRIEVER_MODEL_NAME': ''}, 'COLUMN_NAME': '9'}\n",
      "Experimento envolverá 150 registros, toda a base de dados\n"
     ]
    },
    {
     "name": "stderr",
     "output_type": "stream",
     "text": [
      "100%|██████████| 150/150 [03:10<00:00,  1.27s/it]\n"
     ]
    },
    {
     "name": "stdout",
     "output_type": "stream",
     "text": [
      "COLUMN_NAME: 9\n",
      "COUNT_QUERY_RUN: 150\n",
      "EXPANSOR_CRITERIA: join_30_ptt5_base\n",
      "COUNT_QUERY_WITHOUT_RESULT: 0\n",
      "COUNT_QUERY_NOT_FOUND: 1\n",
      "RANK1_MEAN: 1.805\n",
      "NDCG@5_MEAN: 67.75\n",
      "NDCG@10_MEAN: 63.567\n",
      "NDCG@15_MEAN: 66.767\n",
      "NDCG@20_MEAN: 69.498\n",
      "PRECISION@50_MEAN: 14.827\n",
      "PRECISION@100_MEAN: 7.7\n",
      "RECALL@50_MEAN: 87.077\n",
      "RECALL@100_MEAN: 90.281\n",
      "TIME_SPENT_MEAN: 1.269\n",
      "==22==  2023-Jun-30 10:35:50 \n",
      "Experiment: {'TOPK_RETRIEVER': 300, 'TOPK_RANKER': 0, 'EXPANSOR_CRITERIA': '', 'INDEX_NAME': 'indir_juris_tcu_term', 'PIPE': {'PIPE_OBJECT': <haystack.pipelines.base.Pipeline object at 0x7f37611d9450>, 'RETRIEVER_TYPE': 'bm25', 'RANKER_TYPE': 'PTT5_BASE', 'RETRIEVER_MODEL_NAME': ''}, 'COLUMN_NAME': 'TEXT'}\n",
      "Experimento envolverá 150 registros, toda a base de dados\n"
     ]
    },
    {
     "name": "stderr",
     "output_type": "stream",
     "text": [
      "100%|██████████| 150/150 [02:33<00:00,  1.02s/it]\n"
     ]
    },
    {
     "name": "stdout",
     "output_type": "stream",
     "text": [
      "COLUMN_NAME: TEXT\n",
      "COUNT_QUERY_RUN: 150\n",
      "EXPANSOR_CRITERIA: \n",
      "COUNT_QUERY_WITHOUT_RESULT: 0\n",
      "COUNT_QUERY_NOT_FOUND: 0\n",
      "RANK1_MEAN: 1.267\n",
      "NDCG@5_MEAN: 74.089\n",
      "NDCG@10_MEAN: 70.659\n",
      "NDCG@15_MEAN: 74.363\n",
      "NDCG@20_MEAN: 76.604\n",
      "PRECISION@50_MEAN: 15.787\n",
      "PRECISION@100_MEAN: 8.02\n",
      "RECALL@50_MEAN: 91.546\n",
      "RECALL@100_MEAN: 93.003\n",
      "TIME_SPENT_MEAN: 1.024\n",
      "==23==  2023-Jun-30 10:38:26 \n",
      "Experiment: {'TOPK_RETRIEVER': 300, 'TOPK_RANKER': 0, 'EXPANSOR_CRITERIA': 'join_30_ptt5_base', 'INDEX_NAME': 'indir_juris_tcu_synonym', 'PIPE': {'PIPE_OBJECT': <haystack.pipelines.base.Pipeline object at 0x7f376b1c6c10>, 'RETRIEVER_TYPE': 'bm25', 'RANKER_TYPE': 'PTT5_BASE', 'RETRIEVER_MODEL_NAME': ''}, 'COLUMN_NAME': '1'}\n",
      "Experimento envolverá 150 registros, toda a base de dados\n"
     ]
    },
    {
     "name": "stderr",
     "output_type": "stream",
     "text": [
      "100%|██████████| 150/150 [03:50<00:00,  1.53s/it]\n"
     ]
    },
    {
     "name": "stdout",
     "output_type": "stream",
     "text": [
      "COLUMN_NAME: 1\n",
      "COUNT_QUERY_RUN: 150\n",
      "EXPANSOR_CRITERIA: join_30_ptt5_base\n",
      "COUNT_QUERY_WITHOUT_RESULT: 0\n",
      "COUNT_QUERY_NOT_FOUND: 0\n",
      "RANK1_MEAN: 3.387\n",
      "NDCG@5_MEAN: 59.509\n",
      "NDCG@10_MEAN: 56.893\n",
      "NDCG@15_MEAN: 60.442\n",
      "NDCG@20_MEAN: 63.236\n",
      "PRECISION@50_MEAN: 14.08\n",
      "PRECISION@100_MEAN: 7.62\n",
      "RECALL@50_MEAN: 82.83\n",
      "RECALL@100_MEAN: 89.029\n",
      "TIME_SPENT_MEAN: 1.534\n",
      "==24==  2023-Jun-30 10:42:19 \n",
      "Experiment: {'TOPK_RETRIEVER': 300, 'TOPK_RANKER': 0, 'EXPANSOR_CRITERIA': 'join_30_ptt5_base', 'INDEX_NAME': 'indir_juris_tcu_synonym', 'PIPE': {'PIPE_OBJECT': <haystack.pipelines.base.Pipeline object at 0x7f376b1c6c10>, 'RETRIEVER_TYPE': 'bm25', 'RANKER_TYPE': 'PTT5_BASE', 'RETRIEVER_MODEL_NAME': ''}, 'COLUMN_NAME': '10'}\n",
      "Experimento envolverá 150 registros, toda a base de dados\n"
     ]
    },
    {
     "name": "stderr",
     "output_type": "stream",
     "text": [
      "100%|██████████| 150/150 [04:38<00:00,  1.86s/it]\n"
     ]
    },
    {
     "name": "stdout",
     "output_type": "stream",
     "text": [
      "COLUMN_NAME: 10\n",
      "COUNT_QUERY_RUN: 150\n",
      "EXPANSOR_CRITERIA: join_30_ptt5_base\n",
      "COUNT_QUERY_WITHOUT_RESULT: 0\n",
      "COUNT_QUERY_NOT_FOUND: 1\n",
      "RANK1_MEAN: 2.624\n",
      "NDCG@5_MEAN: 64.519\n",
      "NDCG@10_MEAN: 61.359\n",
      "NDCG@15_MEAN: 64.439\n",
      "NDCG@20_MEAN: 66.55\n",
      "PRECISION@50_MEAN: 14.0\n",
      "PRECISION@100_MEAN: 7.307\n",
      "RECALL@50_MEAN: 82.944\n",
      "RECALL@100_MEAN: 86.158\n",
      "TIME_SPENT_MEAN: 1.856\n",
      "==25==  2023-Jun-30 10:46:59 \n",
      "Experiment: {'TOPK_RETRIEVER': 300, 'TOPK_RANKER': 0, 'EXPANSOR_CRITERIA': 'join_30_ptt5_base', 'INDEX_NAME': 'indir_juris_tcu_synonym', 'PIPE': {'PIPE_OBJECT': <haystack.pipelines.base.Pipeline object at 0x7f376b1c6c10>, 'RETRIEVER_TYPE': 'bm25', 'RANKER_TYPE': 'PTT5_BASE', 'RETRIEVER_MODEL_NAME': ''}, 'COLUMN_NAME': '2'}\n",
      "Experimento envolverá 150 registros, toda a base de dados\n"
     ]
    },
    {
     "name": "stderr",
     "output_type": "stream",
     "text": [
      "100%|██████████| 150/150 [03:59<00:00,  1.59s/it]\n"
     ]
    },
    {
     "name": "stdout",
     "output_type": "stream",
     "text": [
      "COLUMN_NAME: 2\n",
      "COUNT_QUERY_RUN: 150\n",
      "EXPANSOR_CRITERIA: join_30_ptt5_base\n",
      "COUNT_QUERY_WITHOUT_RESULT: 0\n",
      "COUNT_QUERY_NOT_FOUND: 0\n",
      "RANK1_MEAN: 3.18\n",
      "NDCG@5_MEAN: 61.589\n",
      "NDCG@10_MEAN: 57.42\n",
      "NDCG@15_MEAN: 61.054\n",
      "NDCG@20_MEAN: 63.789\n",
      "PRECISION@50_MEAN: 14.04\n",
      "PRECISION@100_MEAN: 7.593\n",
      "RECALL@50_MEAN: 82.634\n",
      "RECALL@100_MEAN: 88.57\n",
      "TIME_SPENT_MEAN: 1.593\n",
      "==26==  2023-Jun-30 10:51:01 \n",
      "Experiment: {'TOPK_RETRIEVER': 300, 'TOPK_RANKER': 0, 'EXPANSOR_CRITERIA': 'join_30_ptt5_base', 'INDEX_NAME': 'indir_juris_tcu_synonym', 'PIPE': {'PIPE_OBJECT': <haystack.pipelines.base.Pipeline object at 0x7f376b1c6c10>, 'RETRIEVER_TYPE': 'bm25', 'RANKER_TYPE': 'PTT5_BASE', 'RETRIEVER_MODEL_NAME': ''}, 'COLUMN_NAME': '3'}\n",
      "Experimento envolverá 150 registros, toda a base de dados\n"
     ]
    },
    {
     "name": "stderr",
     "output_type": "stream",
     "text": [
      "100%|██████████| 150/150 [04:05<00:00,  1.64s/it]\n"
     ]
    },
    {
     "name": "stdout",
     "output_type": "stream",
     "text": [
      "COLUMN_NAME: 3\n",
      "COUNT_QUERY_RUN: 150\n",
      "EXPANSOR_CRITERIA: join_30_ptt5_base\n",
      "COUNT_QUERY_WITHOUT_RESULT: 0\n",
      "COUNT_QUERY_NOT_FOUND: 0\n",
      "RANK1_MEAN: 3.067\n",
      "NDCG@5_MEAN: 62.286\n",
      "NDCG@10_MEAN: 59.612\n",
      "NDCG@15_MEAN: 62.791\n",
      "NDCG@20_MEAN: 65.198\n",
      "PRECISION@50_MEAN: 14.133\n",
      "PRECISION@100_MEAN: 7.56\n",
      "RECALL@50_MEAN: 83.025\n",
      "RECALL@100_MEAN: 88.162\n",
      "TIME_SPENT_MEAN: 1.638\n",
      "==27==  2023-Jun-30 10:55:09 \n",
      "Experiment: {'TOPK_RETRIEVER': 300, 'TOPK_RANKER': 0, 'EXPANSOR_CRITERIA': 'join_30_ptt5_base', 'INDEX_NAME': 'indir_juris_tcu_synonym', 'PIPE': {'PIPE_OBJECT': <haystack.pipelines.base.Pipeline object at 0x7f376b1c6c10>, 'RETRIEVER_TYPE': 'bm25', 'RANKER_TYPE': 'PTT5_BASE', 'RETRIEVER_MODEL_NAME': ''}, 'COLUMN_NAME': '4'}\n",
      "Experimento envolverá 150 registros, toda a base de dados\n"
     ]
    },
    {
     "name": "stderr",
     "output_type": "stream",
     "text": [
      "100%|██████████| 150/150 [04:10<00:00,  1.67s/it]\n"
     ]
    },
    {
     "name": "stdout",
     "output_type": "stream",
     "text": [
      "COLUMN_NAME: 4\n",
      "COUNT_QUERY_RUN: 150\n",
      "EXPANSOR_CRITERIA: join_30_ptt5_base\n",
      "COUNT_QUERY_WITHOUT_RESULT: 0\n",
      "COUNT_QUERY_NOT_FOUND: 0\n",
      "RANK1_MEAN: 3.033\n",
      "NDCG@5_MEAN: 63.767\n",
      "NDCG@10_MEAN: 60.316\n",
      "NDCG@15_MEAN: 63.588\n",
      "NDCG@20_MEAN: 66.245\n",
      "PRECISION@50_MEAN: 14.453\n",
      "PRECISION@100_MEAN: 7.613\n",
      "RECALL@50_MEAN: 85.079\n",
      "RECALL@100_MEAN: 89.31\n",
      "TIME_SPENT_MEAN: 1.672\n",
      "==28==  2023-Jun-30 10:59:22 \n",
      "Experiment: {'TOPK_RETRIEVER': 300, 'TOPK_RANKER': 0, 'EXPANSOR_CRITERIA': 'join_30_ptt5_base', 'INDEX_NAME': 'indir_juris_tcu_synonym', 'PIPE': {'PIPE_OBJECT': <haystack.pipelines.base.Pipeline object at 0x7f376b1c6c10>, 'RETRIEVER_TYPE': 'bm25', 'RANKER_TYPE': 'PTT5_BASE', 'RETRIEVER_MODEL_NAME': ''}, 'COLUMN_NAME': '5'}\n",
      "Experimento envolverá 150 registros, toda a base de dados\n"
     ]
    },
    {
     "name": "stderr",
     "output_type": "stream",
     "text": [
      "100%|██████████| 150/150 [04:18<00:00,  1.72s/it]\n"
     ]
    },
    {
     "name": "stdout",
     "output_type": "stream",
     "text": [
      "COLUMN_NAME: 5\n",
      "COUNT_QUERY_RUN: 150\n",
      "EXPANSOR_CRITERIA: join_30_ptt5_base\n",
      "COUNT_QUERY_WITHOUT_RESULT: 0\n",
      "COUNT_QUERY_NOT_FOUND: 1\n",
      "RANK1_MEAN: 2.195\n",
      "NDCG@5_MEAN: 64.594\n",
      "NDCG@10_MEAN: 61.062\n",
      "NDCG@15_MEAN: 64.64\n",
      "NDCG@20_MEAN: 66.953\n",
      "PRECISION@50_MEAN: 14.373\n",
      "PRECISION@100_MEAN: 7.507\n",
      "RECALL@50_MEAN: 84.933\n",
      "RECALL@100_MEAN: 88.324\n",
      "TIME_SPENT_MEAN: 1.724\n",
      "==29==  2023-Jun-30 11:03:43 \n",
      "Experiment: {'TOPK_RETRIEVER': 300, 'TOPK_RANKER': 0, 'EXPANSOR_CRITERIA': 'join_30_ptt5_base', 'INDEX_NAME': 'indir_juris_tcu_synonym', 'PIPE': {'PIPE_OBJECT': <haystack.pipelines.base.Pipeline object at 0x7f376b1c6c10>, 'RETRIEVER_TYPE': 'bm25', 'RANKER_TYPE': 'PTT5_BASE', 'RETRIEVER_MODEL_NAME': ''}, 'COLUMN_NAME': '6'}\n",
      "Experimento envolverá 150 registros, toda a base de dados\n"
     ]
    },
    {
     "name": "stderr",
     "output_type": "stream",
     "text": [
      "100%|██████████| 150/150 [04:23<00:00,  1.76s/it]\n"
     ]
    },
    {
     "name": "stdout",
     "output_type": "stream",
     "text": [
      "COLUMN_NAME: 6\n",
      "COUNT_QUERY_RUN: 150\n",
      "EXPANSOR_CRITERIA: join_30_ptt5_base\n",
      "COUNT_QUERY_WITHOUT_RESULT: 0\n",
      "COUNT_QUERY_NOT_FOUND: 1\n",
      "RANK1_MEAN: 2.517\n",
      "NDCG@5_MEAN: 65.231\n",
      "NDCG@10_MEAN: 61.111\n",
      "NDCG@15_MEAN: 65.113\n",
      "NDCG@20_MEAN: 67.362\n",
      "PRECISION@50_MEAN: 14.293\n",
      "PRECISION@100_MEAN: 7.507\n",
      "RECALL@50_MEAN: 84.56\n",
      "RECALL@100_MEAN: 88.489\n",
      "TIME_SPENT_MEAN: 1.758\n",
      "==30==  2023-Jun-30 11:08:09 \n",
      "Experiment: {'TOPK_RETRIEVER': 300, 'TOPK_RANKER': 0, 'EXPANSOR_CRITERIA': 'join_30_ptt5_base', 'INDEX_NAME': 'indir_juris_tcu_synonym', 'PIPE': {'PIPE_OBJECT': <haystack.pipelines.base.Pipeline object at 0x7f376b1c6c10>, 'RETRIEVER_TYPE': 'bm25', 'RANKER_TYPE': 'PTT5_BASE', 'RETRIEVER_MODEL_NAME': ''}, 'COLUMN_NAME': '7'}\n",
      "Experimento envolverá 150 registros, toda a base de dados\n"
     ]
    },
    {
     "name": "stderr",
     "output_type": "stream",
     "text": [
      "100%|██████████| 150/150 [04:29<00:00,  1.79s/it]\n"
     ]
    },
    {
     "name": "stdout",
     "output_type": "stream",
     "text": [
      "COLUMN_NAME: 7\n",
      "COUNT_QUERY_RUN: 150\n",
      "EXPANSOR_CRITERIA: join_30_ptt5_base\n",
      "COUNT_QUERY_WITHOUT_RESULT: 0\n",
      "COUNT_QUERY_NOT_FOUND: 1\n",
      "RANK1_MEAN: 2.55\n",
      "NDCG@5_MEAN: 66.155\n",
      "NDCG@10_MEAN: 61.667\n",
      "NDCG@15_MEAN: 65.613\n",
      "NDCG@20_MEAN: 67.815\n",
      "PRECISION@50_MEAN: 14.36\n",
      "PRECISION@100_MEAN: 7.507\n",
      "RECALL@50_MEAN: 84.937\n",
      "RECALL@100_MEAN: 88.381\n",
      "TIME_SPENT_MEAN: 1.794\n",
      "==31==  2023-Jun-30 11:12:40 \n",
      "Experiment: {'TOPK_RETRIEVER': 300, 'TOPK_RANKER': 0, 'EXPANSOR_CRITERIA': 'join_30_ptt5_base', 'INDEX_NAME': 'indir_juris_tcu_synonym', 'PIPE': {'PIPE_OBJECT': <haystack.pipelines.base.Pipeline object at 0x7f376b1c6c10>, 'RETRIEVER_TYPE': 'bm25', 'RANKER_TYPE': 'PTT5_BASE', 'RETRIEVER_MODEL_NAME': ''}, 'COLUMN_NAME': '8'}\n",
      "Experimento envolverá 150 registros, toda a base de dados\n"
     ]
    },
    {
     "name": "stderr",
     "output_type": "stream",
     "text": [
      "100%|██████████| 150/150 [04:33<00:00,  1.82s/it]\n"
     ]
    },
    {
     "name": "stdout",
     "output_type": "stream",
     "text": [
      "COLUMN_NAME: 8\n",
      "COUNT_QUERY_RUN: 150\n",
      "EXPANSOR_CRITERIA: join_30_ptt5_base\n",
      "COUNT_QUERY_WITHOUT_RESULT: 0\n",
      "COUNT_QUERY_NOT_FOUND: 1\n",
      "RANK1_MEAN: 2.785\n",
      "NDCG@5_MEAN: 65.89\n",
      "NDCG@10_MEAN: 61.863\n",
      "NDCG@15_MEAN: 64.96\n",
      "NDCG@20_MEAN: 67.326\n",
      "PRECISION@50_MEAN: 14.12\n",
      "PRECISION@100_MEAN: 7.4\n",
      "RECALL@50_MEAN: 83.704\n",
      "RECALL@100_MEAN: 87.194\n",
      "TIME_SPENT_MEAN: 1.821\n",
      "==32==  2023-Jun-30 11:17:16 \n",
      "Experiment: {'TOPK_RETRIEVER': 300, 'TOPK_RANKER': 0, 'EXPANSOR_CRITERIA': 'join_30_ptt5_base', 'INDEX_NAME': 'indir_juris_tcu_synonym', 'PIPE': {'PIPE_OBJECT': <haystack.pipelines.base.Pipeline object at 0x7f376b1c6c10>, 'RETRIEVER_TYPE': 'bm25', 'RANKER_TYPE': 'PTT5_BASE', 'RETRIEVER_MODEL_NAME': ''}, 'COLUMN_NAME': '9'}\n",
      "Experimento envolverá 150 registros, toda a base de dados\n"
     ]
    },
    {
     "name": "stderr",
     "output_type": "stream",
     "text": [
      "100%|██████████| 150/150 [04:36<00:00,  1.84s/it]\n"
     ]
    },
    {
     "name": "stdout",
     "output_type": "stream",
     "text": [
      "COLUMN_NAME: 9\n",
      "COUNT_QUERY_RUN: 150\n",
      "EXPANSOR_CRITERIA: join_30_ptt5_base\n",
      "COUNT_QUERY_WITHOUT_RESULT: 0\n",
      "COUNT_QUERY_NOT_FOUND: 1\n",
      "RANK1_MEAN: 2.658\n",
      "NDCG@5_MEAN: 65.279\n",
      "NDCG@10_MEAN: 61.74\n",
      "NDCG@15_MEAN: 65.147\n",
      "NDCG@20_MEAN: 67.057\n",
      "PRECISION@50_MEAN: 14.16\n",
      "PRECISION@100_MEAN: 7.373\n",
      "RECALL@50_MEAN: 83.791\n",
      "RECALL@100_MEAN: 86.893\n",
      "TIME_SPENT_MEAN: 1.843\n",
      "==33==  2023-Jun-30 11:21:55 \n",
      "Experiment: {'TOPK_RETRIEVER': 300, 'TOPK_RANKER': 0, 'EXPANSOR_CRITERIA': '', 'INDEX_NAME': 'indir_juris_tcu_synonym', 'PIPE': {'PIPE_OBJECT': <haystack.pipelines.base.Pipeline object at 0x7f376b1c6c10>, 'RETRIEVER_TYPE': 'bm25', 'RANKER_TYPE': 'PTT5_BASE', 'RETRIEVER_MODEL_NAME': ''}, 'COLUMN_NAME': 'TEXT'}\n",
      "Experimento envolverá 150 registros, toda a base de dados\n"
     ]
    },
    {
     "name": "stderr",
     "output_type": "stream",
     "text": [
      "100%|██████████| 150/150 [03:41<00:00,  1.48s/it]\n"
     ]
    },
    {
     "name": "stdout",
     "output_type": "stream",
     "text": [
      "COLUMN_NAME: TEXT\n",
      "COUNT_QUERY_RUN: 150\n",
      "EXPANSOR_CRITERIA: \n",
      "COUNT_QUERY_WITHOUT_RESULT: 0\n",
      "COUNT_QUERY_NOT_FOUND: 0\n",
      "RANK1_MEAN: 1.34\n",
      "NDCG@5_MEAN: 71.497\n",
      "NDCG@10_MEAN: 67.387\n",
      "NDCG@15_MEAN: 70.536\n",
      "NDCG@20_MEAN: 73.291\n",
      "PRECISION@50_MEAN: 15.347\n",
      "PRECISION@100_MEAN: 7.96\n",
      "RECALL@50_MEAN: 89.255\n",
      "RECALL@100_MEAN: 92.337\n",
      "TIME_SPENT_MEAN: 1.479\n",
      "==34==  2023-Jun-30 11:25:39 \n",
      "Experiment: {'TOPK_RETRIEVER': 300, 'TOPK_RANKER': 0, 'EXPANSOR_CRITERIA': 'join_30_ptt5_base', 'INDEX_NAME': 'indir_juris_tcu_related_term', 'PIPE': {'PIPE_OBJECT': <haystack.pipelines.base.Pipeline object at 0x7f37607f1710>, 'RETRIEVER_TYPE': 'bm25', 'RANKER_TYPE': 'PTT5_BASE', 'RETRIEVER_MODEL_NAME': ''}, 'COLUMN_NAME': '1'}\n",
      "Experimento envolverá 150 registros, toda a base de dados\n"
     ]
    },
    {
     "name": "stderr",
     "output_type": "stream",
     "text": [
      "100%|██████████| 150/150 [08:39<00:00,  3.46s/it]\n"
     ]
    },
    {
     "name": "stdout",
     "output_type": "stream",
     "text": [
      "COLUMN_NAME: 1\n",
      "COUNT_QUERY_RUN: 150\n",
      "EXPANSOR_CRITERIA: join_30_ptt5_base\n",
      "COUNT_QUERY_WITHOUT_RESULT: 0\n",
      "COUNT_QUERY_NOT_FOUND: 1\n",
      "RANK1_MEAN: 2.537\n",
      "NDCG@5_MEAN: 60.466\n",
      "NDCG@10_MEAN: 56.976\n",
      "NDCG@15_MEAN: 59.809\n",
      "NDCG@20_MEAN: 62.229\n",
      "PRECISION@50_MEAN: 13.88\n",
      "PRECISION@100_MEAN: 7.48\n",
      "RECALL@50_MEAN: 81.421\n",
      "RECALL@100_MEAN: 86.912\n",
      "TIME_SPENT_MEAN: 3.463\n",
      "==35==  2023-Jun-30 11:34:20 \n",
      "Experiment: {'TOPK_RETRIEVER': 300, 'TOPK_RANKER': 0, 'EXPANSOR_CRITERIA': 'join_30_ptt5_base', 'INDEX_NAME': 'indir_juris_tcu_related_term', 'PIPE': {'PIPE_OBJECT': <haystack.pipelines.base.Pipeline object at 0x7f37607f1710>, 'RETRIEVER_TYPE': 'bm25', 'RANKER_TYPE': 'PTT5_BASE', 'RETRIEVER_MODEL_NAME': ''}, 'COLUMN_NAME': '10'}\n",
      "Experimento envolverá 150 registros, toda a base de dados\n"
     ]
    },
    {
     "name": "stderr",
     "output_type": "stream",
     "text": [
      "100%|██████████| 150/150 [09:50<00:00,  3.94s/it]\n"
     ]
    },
    {
     "name": "stdout",
     "output_type": "stream",
     "text": [
      "COLUMN_NAME: 10\n",
      "COUNT_QUERY_RUN: 150\n",
      "EXPANSOR_CRITERIA: join_30_ptt5_base\n",
      "COUNT_QUERY_WITHOUT_RESULT: 0\n",
      "COUNT_QUERY_NOT_FOUND: 2\n",
      "RANK1_MEAN: 2.02\n",
      "NDCG@5_MEAN: 64.464\n",
      "NDCG@10_MEAN: 60.205\n",
      "NDCG@15_MEAN: 63.122\n",
      "NDCG@20_MEAN: 65.389\n",
      "PRECISION@50_MEAN: 13.587\n",
      "PRECISION@100_MEAN: 7.127\n",
      "RECALL@50_MEAN: 80.83\n",
      "RECALL@100_MEAN: 84.335\n",
      "TIME_SPENT_MEAN: 3.935\n",
      "==36==  2023-Jun-30 11:44:13 \n",
      "Experiment: {'TOPK_RETRIEVER': 300, 'TOPK_RANKER': 0, 'EXPANSOR_CRITERIA': 'join_30_ptt5_base', 'INDEX_NAME': 'indir_juris_tcu_related_term', 'PIPE': {'PIPE_OBJECT': <haystack.pipelines.base.Pipeline object at 0x7f37607f1710>, 'RETRIEVER_TYPE': 'bm25', 'RANKER_TYPE': 'PTT5_BASE', 'RETRIEVER_MODEL_NAME': ''}, 'COLUMN_NAME': '2'}\n",
      "Experimento envolverá 150 registros, toda a base de dados\n"
     ]
    },
    {
     "name": "stderr",
     "output_type": "stream",
     "text": [
      "100%|██████████| 150/150 [08:55<00:00,  3.57s/it]\n"
     ]
    },
    {
     "name": "stdout",
     "output_type": "stream",
     "text": [
      "COLUMN_NAME: 2\n",
      "COUNT_QUERY_RUN: 150\n",
      "EXPANSOR_CRITERIA: join_30_ptt5_base\n",
      "COUNT_QUERY_WITHOUT_RESULT: 0\n",
      "COUNT_QUERY_NOT_FOUND: 2\n",
      "RANK1_MEAN: 2.608\n",
      "NDCG@5_MEAN: 58.876\n",
      "NDCG@10_MEAN: 55.848\n",
      "NDCG@15_MEAN: 58.49\n",
      "NDCG@20_MEAN: 60.655\n",
      "PRECISION@50_MEAN: 13.693\n",
      "PRECISION@100_MEAN: 7.42\n",
      "RECALL@50_MEAN: 80.647\n",
      "RECALL@100_MEAN: 86.626\n",
      "TIME_SPENT_MEAN: 3.567\n",
      "==37==  2023-Jun-30 11:53:10 \n",
      "Experiment: {'TOPK_RETRIEVER': 300, 'TOPK_RANKER': 0, 'EXPANSOR_CRITERIA': 'join_30_ptt5_base', 'INDEX_NAME': 'indir_juris_tcu_related_term', 'PIPE': {'PIPE_OBJECT': <haystack.pipelines.base.Pipeline object at 0x7f37607f1710>, 'RETRIEVER_TYPE': 'bm25', 'RANKER_TYPE': 'PTT5_BASE', 'RETRIEVER_MODEL_NAME': ''}, 'COLUMN_NAME': '3'}\n",
      "Experimento envolverá 150 registros, toda a base de dados\n"
     ]
    },
    {
     "name": "stderr",
     "output_type": "stream",
     "text": [
      "100%|██████████| 150/150 [09:05<00:00,  3.64s/it]\n"
     ]
    },
    {
     "name": "stdout",
     "output_type": "stream",
     "text": [
      "COLUMN_NAME: 3\n",
      "COUNT_QUERY_RUN: 150\n",
      "EXPANSOR_CRITERIA: join_30_ptt5_base\n",
      "COUNT_QUERY_WITHOUT_RESULT: 0\n",
      "COUNT_QUERY_NOT_FOUND: 2\n",
      "RANK1_MEAN: 2.277\n",
      "NDCG@5_MEAN: 60.255\n",
      "NDCG@10_MEAN: 57.115\n",
      "NDCG@15_MEAN: 60.291\n",
      "NDCG@20_MEAN: 62.482\n",
      "PRECISION@50_MEAN: 13.68\n",
      "PRECISION@100_MEAN: 7.393\n",
      "RECALL@50_MEAN: 80.813\n",
      "RECALL@100_MEAN: 86.573\n",
      "TIME_SPENT_MEAN: 3.637\n",
      "==38==  2023-Jun-30 12:02:18 \n",
      "Experiment: {'TOPK_RETRIEVER': 300, 'TOPK_RANKER': 0, 'EXPANSOR_CRITERIA': 'join_30_ptt5_base', 'INDEX_NAME': 'indir_juris_tcu_related_term', 'PIPE': {'PIPE_OBJECT': <haystack.pipelines.base.Pipeline object at 0x7f37607f1710>, 'RETRIEVER_TYPE': 'bm25', 'RANKER_TYPE': 'PTT5_BASE', 'RETRIEVER_MODEL_NAME': ''}, 'COLUMN_NAME': '4'}\n",
      "Experimento envolverá 150 registros, toda a base de dados\n"
     ]
    },
    {
     "name": "stderr",
     "output_type": "stream",
     "text": [
      "100%|██████████| 150/150 [09:14<00:00,  3.70s/it]\n"
     ]
    },
    {
     "name": "stdout",
     "output_type": "stream",
     "text": [
      "COLUMN_NAME: 4\n",
      "COUNT_QUERY_RUN: 150\n",
      "EXPANSOR_CRITERIA: join_30_ptt5_base\n",
      "COUNT_QUERY_WITHOUT_RESULT: 0\n",
      "COUNT_QUERY_NOT_FOUND: 2\n",
      "RANK1_MEAN: 2.223\n",
      "NDCG@5_MEAN: 60.424\n",
      "NDCG@10_MEAN: 56.808\n",
      "NDCG@15_MEAN: 60.27\n",
      "NDCG@20_MEAN: 62.79\n",
      "PRECISION@50_MEAN: 13.6\n",
      "PRECISION@100_MEAN: 7.36\n",
      "RECALL@50_MEAN: 80.366\n",
      "RECALL@100_MEAN: 85.997\n",
      "TIME_SPENT_MEAN: 3.695\n",
      "==39==  2023-Jun-30 12:11:35 \n",
      "Experiment: {'TOPK_RETRIEVER': 300, 'TOPK_RANKER': 0, 'EXPANSOR_CRITERIA': 'join_30_ptt5_base', 'INDEX_NAME': 'indir_juris_tcu_related_term', 'PIPE': {'PIPE_OBJECT': <haystack.pipelines.base.Pipeline object at 0x7f37607f1710>, 'RETRIEVER_TYPE': 'bm25', 'RANKER_TYPE': 'PTT5_BASE', 'RETRIEVER_MODEL_NAME': ''}, 'COLUMN_NAME': '5'}\n",
      "Experimento envolverá 150 registros, toda a base de dados\n"
     ]
    },
    {
     "name": "stderr",
     "output_type": "stream",
     "text": [
      "100%|██████████| 150/150 [09:24<00:00,  3.76s/it]\n"
     ]
    },
    {
     "name": "stdout",
     "output_type": "stream",
     "text": [
      "COLUMN_NAME: 5\n",
      "COUNT_QUERY_RUN: 150\n",
      "EXPANSOR_CRITERIA: join_30_ptt5_base\n",
      "COUNT_QUERY_WITHOUT_RESULT: 0\n",
      "COUNT_QUERY_NOT_FOUND: 2\n",
      "RANK1_MEAN: 1.676\n",
      "NDCG@5_MEAN: 62.288\n",
      "NDCG@10_MEAN: 58.345\n",
      "NDCG@15_MEAN: 61.426\n",
      "NDCG@20_MEAN: 64.107\n",
      "PRECISION@50_MEAN: 13.827\n",
      "PRECISION@100_MEAN: 7.367\n",
      "RECALL@50_MEAN: 81.651\n",
      "RECALL@100_MEAN: 86.15\n",
      "TIME_SPENT_MEAN: 3.764\n",
      "==40==  2023-Jun-30 12:21:02 \n",
      "Experiment: {'TOPK_RETRIEVER': 300, 'TOPK_RANKER': 0, 'EXPANSOR_CRITERIA': 'join_30_ptt5_base', 'INDEX_NAME': 'indir_juris_tcu_related_term', 'PIPE': {'PIPE_OBJECT': <haystack.pipelines.base.Pipeline object at 0x7f37607f1710>, 'RETRIEVER_TYPE': 'bm25', 'RANKER_TYPE': 'PTT5_BASE', 'RETRIEVER_MODEL_NAME': ''}, 'COLUMN_NAME': '6'}\n",
      "Experimento envolverá 150 registros, toda a base de dados\n"
     ]
    },
    {
     "name": "stderr",
     "output_type": "stream",
     "text": [
      "100%|██████████| 150/150 [09:31<00:00,  3.81s/it]\n"
     ]
    },
    {
     "name": "stdout",
     "output_type": "stream",
     "text": [
      "COLUMN_NAME: 6\n",
      "COUNT_QUERY_RUN: 150\n",
      "EXPANSOR_CRITERIA: join_30_ptt5_base\n",
      "COUNT_QUERY_WITHOUT_RESULT: 0\n",
      "COUNT_QUERY_NOT_FOUND: 3\n",
      "RANK1_MEAN: 1.741\n",
      "NDCG@5_MEAN: 61.593\n",
      "NDCG@10_MEAN: 58.175\n",
      "NDCG@15_MEAN: 61.16\n",
      "NDCG@20_MEAN: 63.721\n",
      "PRECISION@50_MEAN: 13.68\n",
      "PRECISION@100_MEAN: 7.24\n",
      "RECALL@50_MEAN: 81.052\n",
      "RECALL@100_MEAN: 85.237\n",
      "TIME_SPENT_MEAN: 3.813\n",
      "==41==  2023-Jun-30 12:30:36 \n",
      "Experiment: {'TOPK_RETRIEVER': 300, 'TOPK_RANKER': 0, 'EXPANSOR_CRITERIA': 'join_30_ptt5_base', 'INDEX_NAME': 'indir_juris_tcu_related_term', 'PIPE': {'PIPE_OBJECT': <haystack.pipelines.base.Pipeline object at 0x7f37607f1710>, 'RETRIEVER_TYPE': 'bm25', 'RANKER_TYPE': 'PTT5_BASE', 'RETRIEVER_MODEL_NAME': ''}, 'COLUMN_NAME': '7'}\n",
      "Experimento envolverá 150 registros, toda a base de dados\n"
     ]
    },
    {
     "name": "stderr",
     "output_type": "stream",
     "text": [
      "100%|██████████| 150/150 [09:42<00:00,  3.88s/it]\n"
     ]
    },
    {
     "name": "stdout",
     "output_type": "stream",
     "text": [
      "COLUMN_NAME: 7\n",
      "COUNT_QUERY_RUN: 150\n",
      "EXPANSOR_CRITERIA: join_30_ptt5_base\n",
      "COUNT_QUERY_WITHOUT_RESULT: 0\n",
      "COUNT_QUERY_NOT_FOUND: 2\n",
      "RANK1_MEAN: 2.405\n",
      "NDCG@5_MEAN: 61.54\n",
      "NDCG@10_MEAN: 58.136\n",
      "NDCG@15_MEAN: 61.217\n",
      "NDCG@20_MEAN: 63.591\n",
      "PRECISION@50_MEAN: 13.533\n",
      "PRECISION@100_MEAN: 7.133\n",
      "RECALL@50_MEAN: 80.391\n",
      "RECALL@100_MEAN: 84.306\n",
      "TIME_SPENT_MEAN: 3.883\n",
      "==42==  2023-Jun-30 12:40:22 \n",
      "Experiment: {'TOPK_RETRIEVER': 300, 'TOPK_RANKER': 0, 'EXPANSOR_CRITERIA': 'join_30_ptt5_base', 'INDEX_NAME': 'indir_juris_tcu_related_term', 'PIPE': {'PIPE_OBJECT': <haystack.pipelines.base.Pipeline object at 0x7f37607f1710>, 'RETRIEVER_TYPE': 'bm25', 'RANKER_TYPE': 'PTT5_BASE', 'RETRIEVER_MODEL_NAME': ''}, 'COLUMN_NAME': '8'}\n",
      "Experimento envolverá 150 registros, toda a base de dados\n"
     ]
    },
    {
     "name": "stderr",
     "output_type": "stream",
     "text": [
      "100%|██████████| 150/150 [09:52<00:00,  3.95s/it]\n"
     ]
    },
    {
     "name": "stdout",
     "output_type": "stream",
     "text": [
      "COLUMN_NAME: 8\n",
      "COUNT_QUERY_RUN: 150\n",
      "EXPANSOR_CRITERIA: join_30_ptt5_base\n",
      "COUNT_QUERY_WITHOUT_RESULT: 0\n",
      "COUNT_QUERY_NOT_FOUND: 2\n",
      "RANK1_MEAN: 2.047\n",
      "NDCG@5_MEAN: 64.363\n",
      "NDCG@10_MEAN: 59.493\n",
      "NDCG@15_MEAN: 62.374\n",
      "NDCG@20_MEAN: 64.945\n",
      "PRECISION@50_MEAN: 13.507\n",
      "PRECISION@100_MEAN: 7.147\n",
      "RECALL@50_MEAN: 80.387\n",
      "RECALL@100_MEAN: 84.6\n",
      "TIME_SPENT_MEAN: 3.949\n",
      "==43==  2023-Jun-30 12:50:17 \n",
      "Experiment: {'TOPK_RETRIEVER': 300, 'TOPK_RANKER': 0, 'EXPANSOR_CRITERIA': 'join_30_ptt5_base', 'INDEX_NAME': 'indir_juris_tcu_related_term', 'PIPE': {'PIPE_OBJECT': <haystack.pipelines.base.Pipeline object at 0x7f37607f1710>, 'RETRIEVER_TYPE': 'bm25', 'RANKER_TYPE': 'PTT5_BASE', 'RETRIEVER_MODEL_NAME': ''}, 'COLUMN_NAME': '9'}\n",
      "Experimento envolverá 150 registros, toda a base de dados\n"
     ]
    },
    {
     "name": "stderr",
     "output_type": "stream",
     "text": [
      " 71%|███████▏  | 107/150 [10:12<04:18,  6.01s/it]"
     ]
    }
   ],
   "source": [
    "%%time\n",
    "cnt_restart=13\n",
    "# colocar pequeno só para testes, depois voltar para 9999999 (número maior do que o número de termos a pesquisar)\n",
    "if consider_run_all:\n",
    "    target_columns = df_search_data.columns.difference(['ID', 'RELEVANCE_DICT', 'SOURCE'])\n",
    "elif consider_query_expanded:\n",
    "    target_columns = df_search_data.columns.difference(['ID', 'RELEVANCE_DICT', 'SOURCE', 'TEXT'])\n",
    "else:\n",
    "    target_columns = ['TEXT']\n",
    "limit_query =  9999999 # 100 # \n",
    "cnt_exec = 0\n",
    "print('target_columns', target_columns)\n",
    "for index_name in pipes.keys():\n",
    "    for pipe in pipes[index_name]:\n",
    "        for cnt, experiment in enumerate(list_experiment):\n",
    "            # raise Exception('false break')            \n",
    "            for column_name in target_columns:\n",
    "                cnt_exec += 1\n",
    "                if cnt_exec < cnt_restart:\n",
    "                    print(f\"=={cnt_exec}== SKIPED ==  {time.strftime('%Y-%b-%d %H:%M:%S')} \\nExperiment: {experiment}\")\n",
    "                    continue\n",
    "                if column_name == 'TEXT':\n",
    "                    experiment['EXPANSOR_CRITERIA'] = \"\"\n",
    "                else:\n",
    "                    experiment['EXPANSOR_CRITERIA'] = EXPANSOR_CRITERIA\n",
    "                experiment['INDEX_NAME'] = index_name\n",
    "                experiment['PIPE'] = pipe\n",
    "                experiment['COLUMN_NAME'] = column_name\n",
    "                print(f\"=={cnt_exec}==  {time.strftime('%Y-%b-%d %H:%M:%S')} \\nExperiment: {experiment}\")\n",
    "                list_result_experiment = [] # por experiment\n",
    "                result_run = util_experiment.experiment_run(parm_df=df_search_data, \n",
    "                                                        parm_experiment=experiment,\n",
    "                                                        parm_limit_query=limit_query,\n",
    "                                                        parm_print=True)\n",
    "                # raise Exception('false break')\n",
    "                list_result_experiment.append(result_run)\n",
    "                # print(f\"qtd_encontrado sim:{result_run['qtd_encontrado']}, não:{result_run['qtd_nao_encontrado']} ({result_run['percent_nao_encontrado']}%)\")\n",
    "                util_experiment.add_experiment_result(parm_list_result=list_result_experiment, parm_dataset='juris_tcu')\n",
    "                torch.cuda.empty_cache()"
   ]
  },
  {
   "cell_type": "markdown",
   "metadata": {},
   "source": []
  },
  {
   "cell_type": "markdown",
   "metadata": {},
   "source": []
  },
  {
   "cell_type": "markdown",
   "metadata": {},
   "source": []
  },
  {
   "cell_type": "code",
   "execution_count": null,
   "metadata": {},
   "outputs": [
    {
     "name": "stdout",
     "output_type": "stream",
     "text": [
      "target_columns Index(['1', '10', '2', '3', '4', '5', '6', '7', '8', '9', 'TEXT'], dtype='object')\n",
      "==1==  2023-Jun-29 08:50:43 \n",
      "Experiment: {'TOPK_RETRIEVER': 300, 'TOPK_RANKER': 0, 'EXPANSOR_CRITERIA': 'join_30_ptt5_indir', 'INDEX_NAME': 'indir_juris_tcu', 'PIPE': {'PIPE_OBJECT': <haystack.pipelines.base.Pipeline object at 0x7fe9b4bc5390>, 'RETRIEVER_TYPE': 'bm25', 'RANKER_TYPE': 'PTT5_BASE', 'RETRIEVER_MODEL_NAME': ''}, 'COLUMN_NAME': '1'}\n",
      "Experimento envolverá 150 registros, toda a base de dados\n"
     ]
    },
    {
     "name": "stderr",
     "output_type": "stream",
     "text": [
      "100%|██████████| 150/150 [02:15<00:00,  1.11it/s]\n"
     ]
    },
    {
     "name": "stdout",
     "output_type": "stream",
     "text": [
      "COLUMN_NAME: 1\n",
      "COUNT_QUERY_RUN: 150\n",
      "EXPANSOR_CRITERIA: join_30_ptt5_indir\n",
      "COUNT_QUERY_WITHOUT_RESULT: 0\n",
      "COUNT_QUERY_NOT_FOUND: 1\n",
      "RANK1_MEAN: 1.738\n",
      "NDCG@5_MEAN: 69.853\n",
      "NDCG@10_MEAN: 66.112\n",
      "NDCG@15_MEAN: 69.227\n",
      "NDCG@20_MEAN: 70.955\n",
      "PRECISION@50_MEAN: 14.653\n",
      "PRECISION@100_MEAN: 7.607\n",
      "RECALL@50_MEAN: 85.706\n",
      "RECALL@100_MEAN: 88.677\n",
      "TIME_SPENT_MEAN: 0.9\n",
      "==2==  2023-Jun-29 08:53:01 \n",
      "Experiment: {'TOPK_RETRIEVER': 300, 'TOPK_RANKER': 0, 'EXPANSOR_CRITERIA': 'join_30_ptt5_indir', 'INDEX_NAME': 'indir_juris_tcu', 'PIPE': {'PIPE_OBJECT': <haystack.pipelines.base.Pipeline object at 0x7fe9b4bc5390>, 'RETRIEVER_TYPE': 'bm25', 'RANKER_TYPE': 'PTT5_BASE', 'RETRIEVER_MODEL_NAME': ''}, 'COLUMN_NAME': '10'}\n",
      "Experimento envolverá 150 registros, toda a base de dados\n"
     ]
    },
    {
     "name": "stderr",
     "output_type": "stream",
     "text": [
      "100%|██████████| 150/150 [02:41<00:00,  1.08s/it]\n"
     ]
    },
    {
     "name": "stdout",
     "output_type": "stream",
     "text": [
      "COLUMN_NAME: 10\n",
      "COUNT_QUERY_RUN: 150\n",
      "EXPANSOR_CRITERIA: join_30_ptt5_indir\n",
      "COUNT_QUERY_WITHOUT_RESULT: 0\n",
      "COUNT_QUERY_NOT_FOUND: 0\n",
      "RANK1_MEAN: 1.373\n",
      "NDCG@5_MEAN: 67.483\n",
      "NDCG@10_MEAN: 64.078\n",
      "NDCG@15_MEAN: 66.877\n",
      "NDCG@20_MEAN: 69.53\n",
      "PRECISION@50_MEAN: 14.48\n",
      "PRECISION@100_MEAN: 7.44\n",
      "RECALL@50_MEAN: 84.898\n",
      "RECALL@100_MEAN: 87.138\n",
      "TIME_SPENT_MEAN: 1.079\n",
      "==3==  2023-Jun-29 08:55:45 \n",
      "Experiment: {'TOPK_RETRIEVER': 300, 'TOPK_RANKER': 0, 'EXPANSOR_CRITERIA': 'join_30_ptt5_indir', 'INDEX_NAME': 'indir_juris_tcu', 'PIPE': {'PIPE_OBJECT': <haystack.pipelines.base.Pipeline object at 0x7fe9b4bc5390>, 'RETRIEVER_TYPE': 'bm25', 'RANKER_TYPE': 'PTT5_BASE', 'RETRIEVER_MODEL_NAME': ''}, 'COLUMN_NAME': '2'}\n",
      "Experimento envolverá 150 registros, toda a base de dados\n"
     ]
    },
    {
     "name": "stderr",
     "output_type": "stream",
     "text": [
      "100%|██████████| 150/150 [02:20<00:00,  1.07it/s]\n"
     ]
    },
    {
     "name": "stdout",
     "output_type": "stream",
     "text": [
      "COLUMN_NAME: 2\n",
      "COUNT_QUERY_RUN: 150\n",
      "EXPANSOR_CRITERIA: join_30_ptt5_indir\n",
      "COUNT_QUERY_WITHOUT_RESULT: 0\n",
      "COUNT_QUERY_NOT_FOUND: 0\n",
      "RANK1_MEAN: 1.867\n",
      "NDCG@5_MEAN: 69.144\n",
      "NDCG@10_MEAN: 64.72\n",
      "NDCG@15_MEAN: 67.199\n",
      "NDCG@20_MEAN: 69.725\n",
      "PRECISION@50_MEAN: 14.267\n",
      "PRECISION@100_MEAN: 7.493\n",
      "RECALL@50_MEAN: 83.601\n",
      "RECALL@100_MEAN: 87.608\n",
      "TIME_SPENT_MEAN: 0.939\n",
      "==4==  2023-Jun-29 08:58:08 \n",
      "Experiment: {'TOPK_RETRIEVER': 300, 'TOPK_RANKER': 0, 'EXPANSOR_CRITERIA': 'join_30_ptt5_indir', 'INDEX_NAME': 'indir_juris_tcu', 'PIPE': {'PIPE_OBJECT': <haystack.pipelines.base.Pipeline object at 0x7fe9b4bc5390>, 'RETRIEVER_TYPE': 'bm25', 'RANKER_TYPE': 'PTT5_BASE', 'RETRIEVER_MODEL_NAME': ''}, 'COLUMN_NAME': '3'}\n",
      "Experimento envolverá 150 registros, toda a base de dados\n"
     ]
    },
    {
     "name": "stderr",
     "output_type": "stream",
     "text": [
      "100%|██████████| 150/150 [02:25<00:00,  1.03it/s]\n"
     ]
    },
    {
     "name": "stdout",
     "output_type": "stream",
     "text": [
      "COLUMN_NAME: 3\n",
      "COUNT_QUERY_RUN: 150\n",
      "EXPANSOR_CRITERIA: join_30_ptt5_indir\n",
      "COUNT_QUERY_WITHOUT_RESULT: 0\n",
      "COUNT_QUERY_NOT_FOUND: 0\n",
      "RANK1_MEAN: 1.74\n",
      "NDCG@5_MEAN: 67.434\n",
      "NDCG@10_MEAN: 63.166\n",
      "NDCG@15_MEAN: 66.446\n",
      "NDCG@20_MEAN: 68.698\n",
      "PRECISION@50_MEAN: 14.48\n",
      "PRECISION@100_MEAN: 7.473\n",
      "RECALL@50_MEAN: 84.474\n",
      "RECALL@100_MEAN: 87.013\n",
      "TIME_SPENT_MEAN: 0.967\n",
      "==5==  2023-Jun-29 09:00:36 \n",
      "Experiment: {'TOPK_RETRIEVER': 300, 'TOPK_RANKER': 0, 'EXPANSOR_CRITERIA': 'join_30_ptt5_indir', 'INDEX_NAME': 'indir_juris_tcu', 'PIPE': {'PIPE_OBJECT': <haystack.pipelines.base.Pipeline object at 0x7fe9b4bc5390>, 'RETRIEVER_TYPE': 'bm25', 'RANKER_TYPE': 'PTT5_BASE', 'RETRIEVER_MODEL_NAME': ''}, 'COLUMN_NAME': '4'}\n",
      "Experimento envolverá 150 registros, toda a base de dados\n"
     ]
    },
    {
     "name": "stderr",
     "output_type": "stream",
     "text": [
      "100%|██████████| 150/150 [02:28<00:00,  1.01it/s]\n"
     ]
    },
    {
     "name": "stdout",
     "output_type": "stream",
     "text": [
      "COLUMN_NAME: 4\n",
      "COUNT_QUERY_RUN: 150\n",
      "EXPANSOR_CRITERIA: join_30_ptt5_indir\n",
      "COUNT_QUERY_WITHOUT_RESULT: 0\n",
      "COUNT_QUERY_NOT_FOUND: 0\n",
      "RANK1_MEAN: 1.64\n",
      "NDCG@5_MEAN: 68.007\n",
      "NDCG@10_MEAN: 63.846\n",
      "NDCG@15_MEAN: 66.695\n",
      "NDCG@20_MEAN: 68.998\n",
      "PRECISION@50_MEAN: 14.56\n",
      "PRECISION@100_MEAN: 7.533\n",
      "RECALL@50_MEAN: 84.884\n",
      "RECALL@100_MEAN: 87.439\n",
      "TIME_SPENT_MEAN: 0.992\n",
      "==6==  2023-Jun-29 09:03:07 \n",
      "Experiment: {'TOPK_RETRIEVER': 300, 'TOPK_RANKER': 0, 'EXPANSOR_CRITERIA': 'join_30_ptt5_indir', 'INDEX_NAME': 'indir_juris_tcu', 'PIPE': {'PIPE_OBJECT': <haystack.pipelines.base.Pipeline object at 0x7fe9b4bc5390>, 'RETRIEVER_TYPE': 'bm25', 'RANKER_TYPE': 'PTT5_BASE', 'RETRIEVER_MODEL_NAME': ''}, 'COLUMN_NAME': '5'}\n",
      "Experimento envolverá 150 registros, toda a base de dados\n"
     ]
    },
    {
     "name": "stderr",
     "output_type": "stream",
     "text": [
      "100%|██████████| 150/150 [02:32<00:00,  1.02s/it]\n"
     ]
    },
    {
     "name": "stdout",
     "output_type": "stream",
     "text": [
      "COLUMN_NAME: 5\n",
      "COUNT_QUERY_RUN: 150\n",
      "EXPANSOR_CRITERIA: join_30_ptt5_indir\n",
      "COUNT_QUERY_WITHOUT_RESULT: 0\n",
      "COUNT_QUERY_NOT_FOUND: 1\n",
      "RANK1_MEAN: 1.47\n",
      "NDCG@5_MEAN: 66.289\n",
      "NDCG@10_MEAN: 63.024\n",
      "NDCG@15_MEAN: 66.142\n",
      "NDCG@20_MEAN: 68.544\n",
      "PRECISION@50_MEAN: 14.427\n",
      "PRECISION@100_MEAN: 7.48\n",
      "RECALL@50_MEAN: 84.242\n",
      "RECALL@100_MEAN: 87.067\n",
      "TIME_SPENT_MEAN: 1.018\n",
      "==7==  2023-Jun-29 09:05:42 \n",
      "Experiment: {'TOPK_RETRIEVER': 300, 'TOPK_RANKER': 0, 'EXPANSOR_CRITERIA': 'join_30_ptt5_indir', 'INDEX_NAME': 'indir_juris_tcu', 'PIPE': {'PIPE_OBJECT': <haystack.pipelines.base.Pipeline object at 0x7fe9b4bc5390>, 'RETRIEVER_TYPE': 'bm25', 'RANKER_TYPE': 'PTT5_BASE', 'RETRIEVER_MODEL_NAME': ''}, 'COLUMN_NAME': '6'}\n",
      "Experimento envolverá 150 registros, toda a base de dados\n"
     ]
    },
    {
     "name": "stderr",
     "output_type": "stream",
     "text": [
      "100%|██████████| 150/150 [02:35<00:00,  1.04s/it]\n"
     ]
    },
    {
     "name": "stdout",
     "output_type": "stream",
     "text": [
      "COLUMN_NAME: 6\n",
      "COUNT_QUERY_RUN: 150\n",
      "EXPANSOR_CRITERIA: join_30_ptt5_indir\n",
      "COUNT_QUERY_WITHOUT_RESULT: 0\n",
      "COUNT_QUERY_NOT_FOUND: 0\n",
      "RANK1_MEAN: 1.393\n",
      "NDCG@5_MEAN: 66.991\n",
      "NDCG@10_MEAN: 63.437\n",
      "NDCG@15_MEAN: 66.343\n",
      "NDCG@20_MEAN: 68.898\n",
      "PRECISION@50_MEAN: 14.307\n",
      "PRECISION@100_MEAN: 7.407\n",
      "RECALL@50_MEAN: 83.509\n",
      "RECALL@100_MEAN: 86.305\n",
      "TIME_SPENT_MEAN: 1.038\n",
      "==8==  2023-Jun-29 09:08:21 \n",
      "Experiment: {'TOPK_RETRIEVER': 300, 'TOPK_RANKER': 0, 'EXPANSOR_CRITERIA': 'join_30_ptt5_indir', 'INDEX_NAME': 'indir_juris_tcu', 'PIPE': {'PIPE_OBJECT': <haystack.pipelines.base.Pipeline object at 0x7fe9b4bc5390>, 'RETRIEVER_TYPE': 'bm25', 'RANKER_TYPE': 'PTT5_BASE', 'RETRIEVER_MODEL_NAME': ''}, 'COLUMN_NAME': '7'}\n",
      "Experimento envolverá 150 registros, toda a base de dados\n"
     ]
    },
    {
     "name": "stderr",
     "output_type": "stream",
     "text": [
      "100%|██████████| 150/150 [02:39<00:00,  1.06s/it]\n"
     ]
    },
    {
     "name": "stdout",
     "output_type": "stream",
     "text": [
      "COLUMN_NAME: 7\n",
      "COUNT_QUERY_RUN: 150\n",
      "EXPANSOR_CRITERIA: join_30_ptt5_indir\n",
      "COUNT_QUERY_WITHOUT_RESULT: 0\n",
      "COUNT_QUERY_NOT_FOUND: 1\n",
      "RANK1_MEAN: 1.342\n",
      "NDCG@5_MEAN: 67.661\n",
      "NDCG@10_MEAN: 64.481\n",
      "NDCG@15_MEAN: 66.837\n",
      "NDCG@20_MEAN: 69.295\n",
      "PRECISION@50_MEAN: 14.36\n",
      "PRECISION@100_MEAN: 7.42\n",
      "RECALL@50_MEAN: 84.26\n",
      "RECALL@100_MEAN: 86.759\n",
      "TIME_SPENT_MEAN: 1.062\n",
      "==9==  2023-Jun-29 09:11:02 \n",
      "Experiment: {'TOPK_RETRIEVER': 300, 'TOPK_RANKER': 0, 'EXPANSOR_CRITERIA': 'join_30_ptt5_indir', 'INDEX_NAME': 'indir_juris_tcu', 'PIPE': {'PIPE_OBJECT': <haystack.pipelines.base.Pipeline object at 0x7fe9b4bc5390>, 'RETRIEVER_TYPE': 'bm25', 'RANKER_TYPE': 'PTT5_BASE', 'RETRIEVER_MODEL_NAME': ''}, 'COLUMN_NAME': '8'}\n",
      "Experimento envolverá 150 registros, toda a base de dados\n"
     ]
    },
    {
     "name": "stderr",
     "output_type": "stream",
     "text": [
      "100%|██████████| 150/150 [02:41<00:00,  1.08s/it]\n"
     ]
    },
    {
     "name": "stdout",
     "output_type": "stream",
     "text": [
      "COLUMN_NAME: 8\n",
      "COUNT_QUERY_RUN: 150\n",
      "EXPANSOR_CRITERIA: join_30_ptt5_indir\n",
      "COUNT_QUERY_WITHOUT_RESULT: 0\n",
      "COUNT_QUERY_NOT_FOUND: 0\n",
      "RANK1_MEAN: 1.28\n",
      "NDCG@5_MEAN: 68.149\n",
      "NDCG@10_MEAN: 64.829\n",
      "NDCG@15_MEAN: 67.326\n",
      "NDCG@20_MEAN: 69.665\n",
      "PRECISION@50_MEAN: 14.48\n",
      "PRECISION@100_MEAN: 7.46\n",
      "RECALL@50_MEAN: 84.952\n",
      "RECALL@100_MEAN: 87.346\n",
      "TIME_SPENT_MEAN: 1.079\n",
      "==10==  2023-Jun-29 09:13:47 \n",
      "Experiment: {'TOPK_RETRIEVER': 300, 'TOPK_RANKER': 0, 'EXPANSOR_CRITERIA': 'join_30_ptt5_indir', 'INDEX_NAME': 'indir_juris_tcu', 'PIPE': {'PIPE_OBJECT': <haystack.pipelines.base.Pipeline object at 0x7fe9b4bc5390>, 'RETRIEVER_TYPE': 'bm25', 'RANKER_TYPE': 'PTT5_BASE', 'RETRIEVER_MODEL_NAME': ''}, 'COLUMN_NAME': '9'}\n",
      "Experimento envolverá 150 registros, toda a base de dados\n"
     ]
    },
    {
     "name": "stderr",
     "output_type": "stream",
     "text": [
      "100%|██████████| 150/150 [02:43<00:00,  1.09s/it]\n"
     ]
    },
    {
     "name": "stdout",
     "output_type": "stream",
     "text": [
      "COLUMN_NAME: 9\n",
      "COUNT_QUERY_RUN: 150\n",
      "EXPANSOR_CRITERIA: join_30_ptt5_indir\n",
      "COUNT_QUERY_WITHOUT_RESULT: 0\n",
      "COUNT_QUERY_NOT_FOUND: 0\n",
      "RANK1_MEAN: 1.287\n",
      "NDCG@5_MEAN: 67.363\n",
      "NDCG@10_MEAN: 64.269\n",
      "NDCG@15_MEAN: 67.071\n",
      "NDCG@20_MEAN: 69.672\n",
      "PRECISION@50_MEAN: 14.493\n",
      "PRECISION@100_MEAN: 7.467\n",
      "RECALL@50_MEAN: 84.976\n",
      "RECALL@100_MEAN: 87.398\n",
      "TIME_SPENT_MEAN: 1.09\n",
      "==11==  2023-Jun-29 09:16:33 \n",
      "Experiment: {'TOPK_RETRIEVER': 300, 'TOPK_RANKER': 0, 'EXPANSOR_CRITERIA': '', 'INDEX_NAME': 'indir_juris_tcu', 'PIPE': {'PIPE_OBJECT': <haystack.pipelines.base.Pipeline object at 0x7fe9b4bc5390>, 'RETRIEVER_TYPE': 'bm25', 'RANKER_TYPE': 'PTT5_BASE', 'RETRIEVER_MODEL_NAME': ''}, 'COLUMN_NAME': 'TEXT'}\n",
      "Experimento envolverá 150 registros, toda a base de dados\n"
     ]
    },
    {
     "name": "stderr",
     "output_type": "stream",
     "text": [
      "100%|██████████| 150/150 [02:11<00:00,  1.14it/s]\n"
     ]
    },
    {
     "name": "stdout",
     "output_type": "stream",
     "text": [
      "COLUMN_NAME: TEXT\n",
      "COUNT_QUERY_RUN: 150\n",
      "EXPANSOR_CRITERIA: \n",
      "COUNT_QUERY_WITHOUT_RESULT: 0\n",
      "COUNT_QUERY_NOT_FOUND: 0\n",
      "RANK1_MEAN: 1.147\n",
      "NDCG@5_MEAN: 76.271\n",
      "NDCG@10_MEAN: 72.957\n",
      "NDCG@15_MEAN: 75.535\n",
      "NDCG@20_MEAN: 77.81\n",
      "PRECISION@50_MEAN: 15.507\n",
      "PRECISION@100_MEAN: 7.827\n",
      "RECALL@50_MEAN: 90.356\n",
      "RECALL@100_MEAN: 91.082\n",
      "TIME_SPENT_MEAN: 0.874\n",
      "==12==  2023-Jun-29 09:18:47 \n",
      "Experiment: {'TOPK_RETRIEVER': 300, 'TOPK_RANKER': 0, 'EXPANSOR_CRITERIA': 'join_30_ptt5_indir', 'INDEX_NAME': 'indir_juris_tcu_term', 'PIPE': {'PIPE_OBJECT': <haystack.pipelines.base.Pipeline object at 0x7fe9b6241b10>, 'RETRIEVER_TYPE': 'bm25', 'RANKER_TYPE': 'PTT5_BASE', 'RETRIEVER_MODEL_NAME': ''}, 'COLUMN_NAME': '1'}\n",
      "Experimento envolverá 150 registros, toda a base de dados\n"
     ]
    },
    {
     "name": "stderr",
     "output_type": "stream",
     "text": [
      "100%|██████████| 150/150 [02:35<00:00,  1.04s/it]\n"
     ]
    },
    {
     "name": "stdout",
     "output_type": "stream",
     "text": [
      "COLUMN_NAME: 1\n",
      "COUNT_QUERY_RUN: 150\n",
      "EXPANSOR_CRITERIA: join_30_ptt5_indir\n",
      "COUNT_QUERY_WITHOUT_RESULT: 0\n",
      "COUNT_QUERY_NOT_FOUND: 0\n",
      "RANK1_MEAN: 1.853\n",
      "NDCG@5_MEAN: 69.617\n",
      "NDCG@10_MEAN: 65.404\n",
      "NDCG@15_MEAN: 68.297\n",
      "NDCG@20_MEAN: 71.113\n",
      "PRECISION@50_MEAN: 15.027\n",
      "PRECISION@100_MEAN: 7.84\n",
      "RECALL@50_MEAN: 87.641\n",
      "RECALL@100_MEAN: 91.235\n",
      "TIME_SPENT_MEAN: 1.04\n",
      "==13==  2023-Jun-29 09:21:25 \n",
      "Experiment: {'TOPK_RETRIEVER': 300, 'TOPK_RANKER': 0, 'EXPANSOR_CRITERIA': 'join_30_ptt5_indir', 'INDEX_NAME': 'indir_juris_tcu_term', 'PIPE': {'PIPE_OBJECT': <haystack.pipelines.base.Pipeline object at 0x7fe9b6241b10>, 'RETRIEVER_TYPE': 'bm25', 'RANKER_TYPE': 'PTT5_BASE', 'RETRIEVER_MODEL_NAME': ''}, 'COLUMN_NAME': '10'}\n",
      "Experimento envolverá 150 registros, toda a base de dados\n"
     ]
    },
    {
     "name": "stderr",
     "output_type": "stream",
     "text": [
      "100%|██████████| 150/150 [03:02<00:00,  1.22s/it]\n"
     ]
    },
    {
     "name": "stdout",
     "output_type": "stream",
     "text": [
      "COLUMN_NAME: 10\n",
      "COUNT_QUERY_RUN: 150\n",
      "EXPANSOR_CRITERIA: join_30_ptt5_indir\n",
      "COUNT_QUERY_WITHOUT_RESULT: 0\n",
      "COUNT_QUERY_NOT_FOUND: 0\n",
      "RANK1_MEAN: 1.547\n",
      "NDCG@5_MEAN: 66.079\n",
      "NDCG@10_MEAN: 63.743\n",
      "NDCG@15_MEAN: 66.998\n",
      "NDCG@20_MEAN: 69.487\n",
      "PRECISION@50_MEAN: 15.093\n",
      "PRECISION@100_MEAN: 7.82\n",
      "RECALL@50_MEAN: 88.021\n",
      "RECALL@100_MEAN: 91.036\n",
      "TIME_SPENT_MEAN: 1.219\n",
      "==14==  2023-Jun-29 09:24:31 \n",
      "Experiment: {'TOPK_RETRIEVER': 300, 'TOPK_RANKER': 0, 'EXPANSOR_CRITERIA': 'join_30_ptt5_indir', 'INDEX_NAME': 'indir_juris_tcu_term', 'PIPE': {'PIPE_OBJECT': <haystack.pipelines.base.Pipeline object at 0x7fe9b6241b10>, 'RETRIEVER_TYPE': 'bm25', 'RANKER_TYPE': 'PTT5_BASE', 'RETRIEVER_MODEL_NAME': ''}, 'COLUMN_NAME': '2'}\n",
      "Experimento envolverá 150 registros, toda a base de dados\n"
     ]
    },
    {
     "name": "stderr",
     "output_type": "stream",
     "text": [
      "100%|██████████| 150/150 [02:40<00:00,  1.07s/it]\n"
     ]
    },
    {
     "name": "stdout",
     "output_type": "stream",
     "text": [
      "COLUMN_NAME: 2\n",
      "COUNT_QUERY_RUN: 150\n",
      "EXPANSOR_CRITERIA: join_30_ptt5_indir\n",
      "COUNT_QUERY_WITHOUT_RESULT: 0\n",
      "COUNT_QUERY_NOT_FOUND: 0\n",
      "RANK1_MEAN: 2.547\n",
      "NDCG@5_MEAN: 67.323\n",
      "NDCG@10_MEAN: 64.016\n",
      "NDCG@15_MEAN: 66.72\n",
      "NDCG@20_MEAN: 69.449\n",
      "PRECISION@50_MEAN: 14.8\n",
      "PRECISION@100_MEAN: 7.713\n",
      "RECALL@50_MEAN: 86.735\n",
      "RECALL@100_MEAN: 90.338\n",
      "TIME_SPENT_MEAN: 1.071\n",
      "==15==  2023-Jun-29 09:27:14 \n",
      "Experiment: {'TOPK_RETRIEVER': 300, 'TOPK_RANKER': 0, 'EXPANSOR_CRITERIA': 'join_30_ptt5_indir', 'INDEX_NAME': 'indir_juris_tcu_term', 'PIPE': {'PIPE_OBJECT': <haystack.pipelines.base.Pipeline object at 0x7fe9b6241b10>, 'RETRIEVER_TYPE': 'bm25', 'RANKER_TYPE': 'PTT5_BASE', 'RETRIEVER_MODEL_NAME': ''}, 'COLUMN_NAME': '3'}\n",
      "Experimento envolverá 150 registros, toda a base de dados\n"
     ]
    },
    {
     "name": "stderr",
     "output_type": "stream",
     "text": [
      "100%|██████████| 150/150 [02:44<00:00,  1.10s/it]\n"
     ]
    },
    {
     "name": "stdout",
     "output_type": "stream",
     "text": [
      "COLUMN_NAME: 3\n",
      "COUNT_QUERY_RUN: 150\n",
      "EXPANSOR_CRITERIA: join_30_ptt5_indir\n",
      "COUNT_QUERY_WITHOUT_RESULT: 0\n",
      "COUNT_QUERY_NOT_FOUND: 0\n",
      "RANK1_MEAN: 2.18\n",
      "NDCG@5_MEAN: 65.778\n",
      "NDCG@10_MEAN: 63.052\n",
      "NDCG@15_MEAN: 65.753\n",
      "NDCG@20_MEAN: 68.794\n",
      "PRECISION@50_MEAN: 14.867\n",
      "PRECISION@100_MEAN: 7.787\n",
      "RECALL@50_MEAN: 86.836\n",
      "RECALL@100_MEAN: 90.726\n",
      "TIME_SPENT_MEAN: 1.097\n",
      "==16==  2023-Jun-29 09:30:01 \n",
      "Experiment: {'TOPK_RETRIEVER': 300, 'TOPK_RANKER': 0, 'EXPANSOR_CRITERIA': 'join_30_ptt5_indir', 'INDEX_NAME': 'indir_juris_tcu_term', 'PIPE': {'PIPE_OBJECT': <haystack.pipelines.base.Pipeline object at 0x7fe9b6241b10>, 'RETRIEVER_TYPE': 'bm25', 'RANKER_TYPE': 'PTT5_BASE', 'RETRIEVER_MODEL_NAME': ''}, 'COLUMN_NAME': '4'}\n",
      "Experimento envolverá 150 registros, toda a base de dados\n"
     ]
    },
    {
     "name": "stderr",
     "output_type": "stream",
     "text": [
      "100%|██████████| 150/150 [02:47<00:00,  1.11s/it]\n"
     ]
    },
    {
     "name": "stdout",
     "output_type": "stream",
     "text": [
      "COLUMN_NAME: 4\n",
      "COUNT_QUERY_RUN: 150\n",
      "EXPANSOR_CRITERIA: join_30_ptt5_indir\n",
      "COUNT_QUERY_WITHOUT_RESULT: 0\n",
      "COUNT_QUERY_NOT_FOUND: 0\n",
      "RANK1_MEAN: 2.26\n",
      "NDCG@5_MEAN: 66.737\n",
      "NDCG@10_MEAN: 63.264\n",
      "NDCG@15_MEAN: 65.605\n",
      "NDCG@20_MEAN: 69.024\n",
      "PRECISION@50_MEAN: 14.84\n",
      "PRECISION@100_MEAN: 7.747\n",
      "RECALL@50_MEAN: 87.111\n",
      "RECALL@100_MEAN: 90.542\n",
      "TIME_SPENT_MEAN: 1.114\n",
      "==17==  2023-Jun-29 09:32:51 \n",
      "Experiment: {'TOPK_RETRIEVER': 300, 'TOPK_RANKER': 0, 'EXPANSOR_CRITERIA': 'join_30_ptt5_indir', 'INDEX_NAME': 'indir_juris_tcu_term', 'PIPE': {'PIPE_OBJECT': <haystack.pipelines.base.Pipeline object at 0x7fe9b6241b10>, 'RETRIEVER_TYPE': 'bm25', 'RANKER_TYPE': 'PTT5_BASE', 'RETRIEVER_MODEL_NAME': ''}, 'COLUMN_NAME': '5'}\n",
      "Experimento envolverá 150 registros, toda a base de dados\n"
     ]
    },
    {
     "name": "stderr",
     "output_type": "stream",
     "text": [
      "100%|██████████| 150/150 [02:51<00:00,  1.14s/it]\n"
     ]
    },
    {
     "name": "stdout",
     "output_type": "stream",
     "text": [
      "COLUMN_NAME: 5\n",
      "COUNT_QUERY_RUN: 150\n",
      "EXPANSOR_CRITERIA: join_30_ptt5_indir\n",
      "COUNT_QUERY_WITHOUT_RESULT: 0\n",
      "COUNT_QUERY_NOT_FOUND: 1\n",
      "RANK1_MEAN: 1.987\n",
      "NDCG@5_MEAN: 65.995\n",
      "NDCG@10_MEAN: 62.74\n",
      "NDCG@15_MEAN: 65.913\n",
      "NDCG@20_MEAN: 68.742\n",
      "PRECISION@50_MEAN: 14.88\n",
      "PRECISION@100_MEAN: 7.773\n",
      "RECALL@50_MEAN: 87.257\n",
      "RECALL@100_MEAN: 90.809\n",
      "TIME_SPENT_MEAN: 1.14\n",
      "==18==  2023-Jun-29 09:35:44 \n",
      "Experiment: {'TOPK_RETRIEVER': 300, 'TOPK_RANKER': 0, 'EXPANSOR_CRITERIA': 'join_30_ptt5_indir', 'INDEX_NAME': 'indir_juris_tcu_term', 'PIPE': {'PIPE_OBJECT': <haystack.pipelines.base.Pipeline object at 0x7fe9b6241b10>, 'RETRIEVER_TYPE': 'bm25', 'RANKER_TYPE': 'PTT5_BASE', 'RETRIEVER_MODEL_NAME': ''}, 'COLUMN_NAME': '6'}\n",
      "Experimento envolverá 150 registros, toda a base de dados\n"
     ]
    },
    {
     "name": "stderr",
     "output_type": "stream",
     "text": [
      "100%|██████████| 150/150 [02:54<00:00,  1.16s/it]\n"
     ]
    },
    {
     "name": "stdout",
     "output_type": "stream",
     "text": [
      "COLUMN_NAME: 6\n",
      "COUNT_QUERY_RUN: 150\n",
      "EXPANSOR_CRITERIA: join_30_ptt5_indir\n",
      "COUNT_QUERY_WITHOUT_RESULT: 0\n",
      "COUNT_QUERY_NOT_FOUND: 0\n",
      "RANK1_MEAN: 1.613\n",
      "NDCG@5_MEAN: 66.641\n",
      "NDCG@10_MEAN: 63.562\n",
      "NDCG@15_MEAN: 66.534\n",
      "NDCG@20_MEAN: 69.182\n",
      "PRECISION@50_MEAN: 15.067\n",
      "PRECISION@100_MEAN: 7.82\n",
      "RECALL@50_MEAN: 88.365\n",
      "RECALL@100_MEAN: 91.309\n",
      "TIME_SPENT_MEAN: 1.162\n",
      "==19==  2023-Jun-29 09:38:41 \n",
      "Experiment: {'TOPK_RETRIEVER': 300, 'TOPK_RANKER': 0, 'EXPANSOR_CRITERIA': 'join_30_ptt5_indir', 'INDEX_NAME': 'indir_juris_tcu_term', 'PIPE': {'PIPE_OBJECT': <haystack.pipelines.base.Pipeline object at 0x7fe9b6241b10>, 'RETRIEVER_TYPE': 'bm25', 'RANKER_TYPE': 'PTT5_BASE', 'RETRIEVER_MODEL_NAME': ''}, 'COLUMN_NAME': '7'}\n",
      "Experimento envolverá 150 registros, toda a base de dados\n"
     ]
    },
    {
     "name": "stderr",
     "output_type": "stream",
     "text": [
      "100%|██████████| 150/150 [02:58<00:00,  1.19s/it]\n"
     ]
    },
    {
     "name": "stdout",
     "output_type": "stream",
     "text": [
      "COLUMN_NAME: 7\n",
      "COUNT_QUERY_RUN: 150\n",
      "EXPANSOR_CRITERIA: join_30_ptt5_indir\n",
      "COUNT_QUERY_WITHOUT_RESULT: 0\n",
      "COUNT_QUERY_NOT_FOUND: 0\n",
      "RANK1_MEAN: 1.6\n",
      "NDCG@5_MEAN: 66.443\n",
      "NDCG@10_MEAN: 64.051\n",
      "NDCG@15_MEAN: 67.225\n",
      "NDCG@20_MEAN: 69.725\n",
      "PRECISION@50_MEAN: 14.96\n",
      "PRECISION@100_MEAN: 7.793\n",
      "RECALL@50_MEAN: 87.386\n",
      "RECALL@100_MEAN: 90.806\n",
      "TIME_SPENT_MEAN: 1.189\n",
      "==20==  2023-Jun-29 09:41:42 \n",
      "Experiment: {'TOPK_RETRIEVER': 300, 'TOPK_RANKER': 0, 'EXPANSOR_CRITERIA': 'join_30_ptt5_indir', 'INDEX_NAME': 'indir_juris_tcu_term', 'PIPE': {'PIPE_OBJECT': <haystack.pipelines.base.Pipeline object at 0x7fe9b6241b10>, 'RETRIEVER_TYPE': 'bm25', 'RANKER_TYPE': 'PTT5_BASE', 'RETRIEVER_MODEL_NAME': ''}, 'COLUMN_NAME': '8'}\n",
      "Experimento envolverá 150 registros, toda a base de dados\n"
     ]
    },
    {
     "name": "stderr",
     "output_type": "stream",
     "text": [
      "100%|██████████| 150/150 [03:00<00:00,  1.20s/it]\n"
     ]
    },
    {
     "name": "stdout",
     "output_type": "stream",
     "text": [
      "COLUMN_NAME: 8\n",
      "COUNT_QUERY_RUN: 150\n",
      "EXPANSOR_CRITERIA: join_30_ptt5_indir\n",
      "COUNT_QUERY_WITHOUT_RESULT: 0\n",
      "COUNT_QUERY_NOT_FOUND: 0\n",
      "RANK1_MEAN: 1.58\n",
      "NDCG@5_MEAN: 66.523\n",
      "NDCG@10_MEAN: 63.86\n",
      "NDCG@15_MEAN: 67.123\n",
      "NDCG@20_MEAN: 69.552\n",
      "PRECISION@50_MEAN: 14.987\n",
      "PRECISION@100_MEAN: 7.8\n",
      "RECALL@50_MEAN: 87.538\n",
      "RECALL@100_MEAN: 90.835\n",
      "TIME_SPENT_MEAN: 1.202\n",
      "==21==  2023-Jun-29 09:44:45 \n",
      "Experiment: {'TOPK_RETRIEVER': 300, 'TOPK_RANKER': 0, 'EXPANSOR_CRITERIA': 'join_30_ptt5_indir', 'INDEX_NAME': 'indir_juris_tcu_term', 'PIPE': {'PIPE_OBJECT': <haystack.pipelines.base.Pipeline object at 0x7fe9b6241b10>, 'RETRIEVER_TYPE': 'bm25', 'RANKER_TYPE': 'PTT5_BASE', 'RETRIEVER_MODEL_NAME': ''}, 'COLUMN_NAME': '9'}\n",
      "Experimento envolverá 150 registros, toda a base de dados\n"
     ]
    },
    {
     "name": "stderr",
     "output_type": "stream",
     "text": [
      "100%|██████████| 150/150 [03:01<00:00,  1.21s/it]\n"
     ]
    },
    {
     "name": "stdout",
     "output_type": "stream",
     "text": [
      "COLUMN_NAME: 9\n",
      "COUNT_QUERY_RUN: 150\n",
      "EXPANSOR_CRITERIA: join_30_ptt5_indir\n",
      "COUNT_QUERY_WITHOUT_RESULT: 0\n",
      "COUNT_QUERY_NOT_FOUND: 0\n",
      "RANK1_MEAN: 1.56\n",
      "NDCG@5_MEAN: 66.196\n",
      "NDCG@10_MEAN: 63.773\n",
      "NDCG@15_MEAN: 67.147\n",
      "NDCG@20_MEAN: 69.57\n",
      "PRECISION@50_MEAN: 15.053\n",
      "PRECISION@100_MEAN: 7.813\n",
      "RECALL@50_MEAN: 87.833\n",
      "RECALL@100_MEAN: 90.969\n",
      "TIME_SPENT_MEAN: 1.213\n",
      "==22==  2023-Jun-29 09:47:50 \n",
      "Experiment: {'TOPK_RETRIEVER': 300, 'TOPK_RANKER': 0, 'EXPANSOR_CRITERIA': '', 'INDEX_NAME': 'indir_juris_tcu_term', 'PIPE': {'PIPE_OBJECT': <haystack.pipelines.base.Pipeline object at 0x7fe9b6241b10>, 'RETRIEVER_TYPE': 'bm25', 'RANKER_TYPE': 'PTT5_BASE', 'RETRIEVER_MODEL_NAME': ''}, 'COLUMN_NAME': 'TEXT'}\n",
      "Experimento envolverá 150 registros, toda a base de dados\n"
     ]
    },
    {
     "name": "stderr",
     "output_type": "stream",
     "text": [
      "100%|██████████| 150/150 [02:32<00:00,  1.02s/it]\n"
     ]
    },
    {
     "name": "stdout",
     "output_type": "stream",
     "text": [
      "COLUMN_NAME: TEXT\n",
      "COUNT_QUERY_RUN: 150\n",
      "EXPANSOR_CRITERIA: \n",
      "COUNT_QUERY_WITHOUT_RESULT: 0\n",
      "COUNT_QUERY_NOT_FOUND: 0\n",
      "RANK1_MEAN: 1.267\n",
      "NDCG@5_MEAN: 74.089\n",
      "NDCG@10_MEAN: 70.659\n",
      "NDCG@15_MEAN: 74.363\n",
      "NDCG@20_MEAN: 76.604\n",
      "PRECISION@50_MEAN: 15.787\n",
      "PRECISION@100_MEAN: 8.02\n",
      "RECALL@50_MEAN: 91.546\n",
      "RECALL@100_MEAN: 93.003\n",
      "TIME_SPENT_MEAN: 1.018\n",
      "==23==  2023-Jun-29 09:50:25 \n",
      "Experiment: {'TOPK_RETRIEVER': 300, 'TOPK_RANKER': 0, 'EXPANSOR_CRITERIA': 'join_30_ptt5_indir', 'INDEX_NAME': 'indir_juris_tcu_synonym', 'PIPE': {'PIPE_OBJECT': <haystack.pipelines.base.Pipeline object at 0x7fe9b62b6390>, 'RETRIEVER_TYPE': 'bm25', 'RANKER_TYPE': 'PTT5_BASE', 'RETRIEVER_MODEL_NAME': ''}, 'COLUMN_NAME': '1'}\n",
      "Experimento envolverá 150 registros, toda a base de dados\n"
     ]
    },
    {
     "name": "stderr",
     "output_type": "stream",
     "text": [
      "100%|██████████| 150/150 [03:49<00:00,  1.53s/it]\n"
     ]
    },
    {
     "name": "stdout",
     "output_type": "stream",
     "text": [
      "COLUMN_NAME: 1\n",
      "COUNT_QUERY_RUN: 150\n",
      "EXPANSOR_CRITERIA: join_30_ptt5_indir\n",
      "COUNT_QUERY_WITHOUT_RESULT: 0\n",
      "COUNT_QUERY_NOT_FOUND: 0\n",
      "RANK1_MEAN: 2.607\n",
      "NDCG@5_MEAN: 62.594\n",
      "NDCG@10_MEAN: 59.43\n",
      "NDCG@15_MEAN: 62.923\n",
      "NDCG@20_MEAN: 65.577\n",
      "PRECISION@50_MEAN: 14.427\n",
      "PRECISION@100_MEAN: 7.68\n",
      "RECALL@50_MEAN: 84.7\n",
      "RECALL@100_MEAN: 89.543\n",
      "TIME_SPENT_MEAN: 1.531\n",
      "==24==  2023-Jun-29 09:54:17 \n",
      "Experiment: {'TOPK_RETRIEVER': 300, 'TOPK_RANKER': 0, 'EXPANSOR_CRITERIA': 'join_30_ptt5_indir', 'INDEX_NAME': 'indir_juris_tcu_synonym', 'PIPE': {'PIPE_OBJECT': <haystack.pipelines.base.Pipeline object at 0x7fe9b62b6390>, 'RETRIEVER_TYPE': 'bm25', 'RANKER_TYPE': 'PTT5_BASE', 'RETRIEVER_MODEL_NAME': ''}, 'COLUMN_NAME': '10'}\n",
      "Experimento envolverá 150 registros, toda a base de dados\n"
     ]
    },
    {
     "name": "stderr",
     "output_type": "stream",
     "text": [
      "100%|██████████| 150/150 [04:28<00:00,  1.79s/it]\n"
     ]
    },
    {
     "name": "stdout",
     "output_type": "stream",
     "text": [
      "COLUMN_NAME: 10\n",
      "COUNT_QUERY_RUN: 150\n",
      "EXPANSOR_CRITERIA: join_30_ptt5_indir\n",
      "COUNT_QUERY_WITHOUT_RESULT: 0\n",
      "COUNT_QUERY_NOT_FOUND: 0\n",
      "RANK1_MEAN: 1.593\n",
      "NDCG@5_MEAN: 65.552\n",
      "NDCG@10_MEAN: 62.073\n",
      "NDCG@15_MEAN: 64.858\n",
      "NDCG@20_MEAN: 67.24\n",
      "PRECISION@50_MEAN: 13.92\n",
      "PRECISION@100_MEAN: 7.347\n",
      "RECALL@50_MEAN: 81.899\n",
      "RECALL@100_MEAN: 86.35\n",
      "TIME_SPENT_MEAN: 1.793\n",
      "==25==  2023-Jun-29 09:58:49 \n",
      "Experiment: {'TOPK_RETRIEVER': 300, 'TOPK_RANKER': 0, 'EXPANSOR_CRITERIA': 'join_30_ptt5_indir', 'INDEX_NAME': 'indir_juris_tcu_synonym', 'PIPE': {'PIPE_OBJECT': <haystack.pipelines.base.Pipeline object at 0x7fe9b62b6390>, 'RETRIEVER_TYPE': 'bm25', 'RANKER_TYPE': 'PTT5_BASE', 'RETRIEVER_MODEL_NAME': ''}, 'COLUMN_NAME': '2'}\n",
      "Experimento envolverá 150 registros, toda a base de dados\n"
     ]
    },
    {
     "name": "stderr",
     "output_type": "stream",
     "text": [
      "100%|██████████| 150/150 [03:56<00:00,  1.58s/it]\n"
     ]
    },
    {
     "name": "stdout",
     "output_type": "stream",
     "text": [
      "COLUMN_NAME: 2\n",
      "COUNT_QUERY_RUN: 150\n",
      "EXPANSOR_CRITERIA: join_30_ptt5_indir\n",
      "COUNT_QUERY_WITHOUT_RESULT: 0\n",
      "COUNT_QUERY_NOT_FOUND: 0\n",
      "RANK1_MEAN: 3.213\n",
      "NDCG@5_MEAN: 61.51\n",
      "NDCG@10_MEAN: 57.925\n",
      "NDCG@15_MEAN: 61.553\n",
      "NDCG@20_MEAN: 64.07\n",
      "PRECISION@50_MEAN: 14.133\n",
      "PRECISION@100_MEAN: 7.513\n",
      "RECALL@50_MEAN: 83.118\n",
      "RECALL@100_MEAN: 87.964\n",
      "TIME_SPENT_MEAN: 1.578\n",
      "==26==  2023-Jun-29 10:02:48 \n",
      "Experiment: {'TOPK_RETRIEVER': 300, 'TOPK_RANKER': 0, 'EXPANSOR_CRITERIA': 'join_30_ptt5_indir', 'INDEX_NAME': 'indir_juris_tcu_synonym', 'PIPE': {'PIPE_OBJECT': <haystack.pipelines.base.Pipeline object at 0x7fe9b62b6390>, 'RETRIEVER_TYPE': 'bm25', 'RANKER_TYPE': 'PTT5_BASE', 'RETRIEVER_MODEL_NAME': ''}, 'COLUMN_NAME': '3'}\n",
      "Experimento envolverá 150 registros, toda a base de dados\n"
     ]
    },
    {
     "name": "stderr",
     "output_type": "stream",
     "text": [
      "100%|██████████| 150/150 [04:01<00:00,  1.61s/it]\n"
     ]
    },
    {
     "name": "stdout",
     "output_type": "stream",
     "text": [
      "COLUMN_NAME: 3\n",
      "COUNT_QUERY_RUN: 150\n",
      "EXPANSOR_CRITERIA: join_30_ptt5_indir\n",
      "COUNT_QUERY_WITHOUT_RESULT: 0\n",
      "COUNT_QUERY_NOT_FOUND: 0\n",
      "RANK1_MEAN: 2.647\n",
      "NDCG@5_MEAN: 61.374\n",
      "NDCG@10_MEAN: 58.337\n",
      "NDCG@15_MEAN: 61.94\n",
      "NDCG@20_MEAN: 64.913\n",
      "PRECISION@50_MEAN: 14.147\n",
      "PRECISION@100_MEAN: 7.507\n",
      "RECALL@50_MEAN: 83.316\n",
      "RECALL@100_MEAN: 88.023\n",
      "TIME_SPENT_MEAN: 1.611\n",
      "==27==  2023-Jun-29 10:06:53 \n",
      "Experiment: {'TOPK_RETRIEVER': 300, 'TOPK_RANKER': 0, 'EXPANSOR_CRITERIA': 'join_30_ptt5_indir', 'INDEX_NAME': 'indir_juris_tcu_synonym', 'PIPE': {'PIPE_OBJECT': <haystack.pipelines.base.Pipeline object at 0x7fe9b62b6390>, 'RETRIEVER_TYPE': 'bm25', 'RANKER_TYPE': 'PTT5_BASE', 'RETRIEVER_MODEL_NAME': ''}, 'COLUMN_NAME': '4'}\n",
      "Experimento envolverá 150 registros, toda a base de dados\n"
     ]
    },
    {
     "name": "stderr",
     "output_type": "stream",
     "text": [
      "100%|██████████| 150/150 [04:06<00:00,  1.64s/it]\n"
     ]
    },
    {
     "name": "stdout",
     "output_type": "stream",
     "text": [
      "COLUMN_NAME: 4\n",
      "COUNT_QUERY_RUN: 150\n",
      "EXPANSOR_CRITERIA: join_30_ptt5_indir\n",
      "COUNT_QUERY_WITHOUT_RESULT: 0\n",
      "COUNT_QUERY_NOT_FOUND: 0\n",
      "RANK1_MEAN: 2.667\n",
      "NDCG@5_MEAN: 63.273\n",
      "NDCG@10_MEAN: 59.703\n",
      "NDCG@15_MEAN: 63.125\n",
      "NDCG@20_MEAN: 65.945\n",
      "PRECISION@50_MEAN: 14.2\n",
      "PRECISION@100_MEAN: 7.493\n",
      "RECALL@50_MEAN: 83.797\n",
      "RECALL@100_MEAN: 87.816\n",
      "TIME_SPENT_MEAN: 1.642\n",
      "==28==  2023-Jun-29 10:11:02 \n",
      "Experiment: {'TOPK_RETRIEVER': 300, 'TOPK_RANKER': 0, 'EXPANSOR_CRITERIA': 'join_30_ptt5_indir', 'INDEX_NAME': 'indir_juris_tcu_synonym', 'PIPE': {'PIPE_OBJECT': <haystack.pipelines.base.Pipeline object at 0x7fe9b62b6390>, 'RETRIEVER_TYPE': 'bm25', 'RANKER_TYPE': 'PTT5_BASE', 'RETRIEVER_MODEL_NAME': ''}, 'COLUMN_NAME': '5'}\n",
      "Experimento envolverá 150 registros, toda a base de dados\n"
     ]
    },
    {
     "name": "stderr",
     "output_type": "stream",
     "text": [
      "100%|██████████| 150/150 [04:12<00:00,  1.68s/it]\n"
     ]
    },
    {
     "name": "stdout",
     "output_type": "stream",
     "text": [
      "COLUMN_NAME: 5\n",
      "COUNT_QUERY_RUN: 150\n",
      "EXPANSOR_CRITERIA: join_30_ptt5_indir\n",
      "COUNT_QUERY_WITHOUT_RESULT: 0\n",
      "COUNT_QUERY_NOT_FOUND: 1\n",
      "RANK1_MEAN: 2.047\n",
      "NDCG@5_MEAN: 64.541\n",
      "NDCG@10_MEAN: 60.396\n",
      "NDCG@15_MEAN: 63.855\n",
      "NDCG@20_MEAN: 66.342\n",
      "PRECISION@50_MEAN: 14.2\n",
      "PRECISION@100_MEAN: 7.48\n",
      "RECALL@50_MEAN: 83.805\n",
      "RECALL@100_MEAN: 87.859\n",
      "TIME_SPENT_MEAN: 1.684\n",
      "==29==  2023-Jun-29 10:15:17 \n",
      "Experiment: {'TOPK_RETRIEVER': 300, 'TOPK_RANKER': 0, 'EXPANSOR_CRITERIA': 'join_30_ptt5_indir', 'INDEX_NAME': 'indir_juris_tcu_synonym', 'PIPE': {'PIPE_OBJECT': <haystack.pipelines.base.Pipeline object at 0x7fe9b62b6390>, 'RETRIEVER_TYPE': 'bm25', 'RANKER_TYPE': 'PTT5_BASE', 'RETRIEVER_MODEL_NAME': ''}, 'COLUMN_NAME': '6'}\n",
      "Experimento envolverá 150 registros, toda a base de dados\n"
     ]
    },
    {
     "name": "stderr",
     "output_type": "stream",
     "text": [
      "100%|██████████| 150/150 [04:17<00:00,  1.72s/it]\n"
     ]
    },
    {
     "name": "stdout",
     "output_type": "stream",
     "text": [
      "COLUMN_NAME: 6\n",
      "COUNT_QUERY_RUN: 150\n",
      "EXPANSOR_CRITERIA: join_30_ptt5_indir\n",
      "COUNT_QUERY_WITHOUT_RESULT: 0\n",
      "COUNT_QUERY_NOT_FOUND: 0\n",
      "RANK1_MEAN: 1.64\n",
      "NDCG@5_MEAN: 63.867\n",
      "NDCG@10_MEAN: 60.904\n",
      "NDCG@15_MEAN: 63.783\n",
      "NDCG@20_MEAN: 66.415\n",
      "PRECISION@50_MEAN: 14.24\n",
      "PRECISION@100_MEAN: 7.433\n",
      "RECALL@50_MEAN: 83.788\n",
      "RECALL@100_MEAN: 87.139\n",
      "TIME_SPENT_MEAN: 1.717\n",
      "==30==  2023-Jun-29 10:19:37 \n",
      "Experiment: {'TOPK_RETRIEVER': 300, 'TOPK_RANKER': 0, 'EXPANSOR_CRITERIA': 'join_30_ptt5_indir', 'INDEX_NAME': 'indir_juris_tcu_synonym', 'PIPE': {'PIPE_OBJECT': <haystack.pipelines.base.Pipeline object at 0x7fe9b62b6390>, 'RETRIEVER_TYPE': 'bm25', 'RANKER_TYPE': 'PTT5_BASE', 'RETRIEVER_MODEL_NAME': ''}, 'COLUMN_NAME': '7'}\n",
      "Experimento envolverá 150 registros, toda a base de dados\n"
     ]
    },
    {
     "name": "stderr",
     "output_type": "stream",
     "text": [
      "100%|██████████| 150/150 [04:22<00:00,  1.75s/it]\n"
     ]
    },
    {
     "name": "stdout",
     "output_type": "stream",
     "text": [
      "COLUMN_NAME: 7\n",
      "COUNT_QUERY_RUN: 150\n",
      "EXPANSOR_CRITERIA: join_30_ptt5_indir\n",
      "COUNT_QUERY_WITHOUT_RESULT: 0\n",
      "COUNT_QUERY_NOT_FOUND: 0\n",
      "RANK1_MEAN: 1.693\n",
      "NDCG@5_MEAN: 63.843\n",
      "NDCG@10_MEAN: 60.879\n",
      "NDCG@15_MEAN: 63.889\n",
      "NDCG@20_MEAN: 66.296\n",
      "PRECISION@50_MEAN: 13.973\n",
      "PRECISION@100_MEAN: 7.4\n",
      "RECALL@50_MEAN: 81.944\n",
      "RECALL@100_MEAN: 86.757\n",
      "TIME_SPENT_MEAN: 1.749\n",
      "==31==  2023-Jun-29 10:24:03 \n",
      "Experiment: {'TOPK_RETRIEVER': 300, 'TOPK_RANKER': 0, 'EXPANSOR_CRITERIA': 'join_30_ptt5_indir', 'INDEX_NAME': 'indir_juris_tcu_synonym', 'PIPE': {'PIPE_OBJECT': <haystack.pipelines.base.Pipeline object at 0x7fe9b62b6390>, 'RETRIEVER_TYPE': 'bm25', 'RANKER_TYPE': 'PTT5_BASE', 'RETRIEVER_MODEL_NAME': ''}, 'COLUMN_NAME': '8'}\n",
      "Experimento envolverá 150 registros, toda a base de dados\n"
     ]
    },
    {
     "name": "stderr",
     "output_type": "stream",
     "text": [
      "100%|██████████| 150/150 [04:26<00:00,  1.78s/it]\n"
     ]
    },
    {
     "name": "stdout",
     "output_type": "stream",
     "text": [
      "COLUMN_NAME: 8\n",
      "COUNT_QUERY_RUN: 150\n",
      "EXPANSOR_CRITERIA: join_30_ptt5_indir\n",
      "COUNT_QUERY_WITHOUT_RESULT: 0\n",
      "COUNT_QUERY_NOT_FOUND: 0\n",
      "RANK1_MEAN: 1.547\n",
      "NDCG@5_MEAN: 66.087\n",
      "NDCG@10_MEAN: 62.097\n",
      "NDCG@15_MEAN: 64.78\n",
      "NDCG@20_MEAN: 67.145\n",
      "PRECISION@50_MEAN: 13.947\n",
      "PRECISION@100_MEAN: 7.373\n",
      "RECALL@50_MEAN: 81.987\n",
      "RECALL@100_MEAN: 86.538\n",
      "TIME_SPENT_MEAN: 1.775\n",
      "==32==  2023-Jun-29 10:28:31 \n",
      "Experiment: {'TOPK_RETRIEVER': 300, 'TOPK_RANKER': 0, 'EXPANSOR_CRITERIA': 'join_30_ptt5_indir', 'INDEX_NAME': 'indir_juris_tcu_synonym', 'PIPE': {'PIPE_OBJECT': <haystack.pipelines.base.Pipeline object at 0x7fe9b62b6390>, 'RETRIEVER_TYPE': 'bm25', 'RANKER_TYPE': 'PTT5_BASE', 'RETRIEVER_MODEL_NAME': ''}, 'COLUMN_NAME': '9'}\n",
      "Experimento envolverá 150 registros, toda a base de dados\n"
     ]
    },
    {
     "name": "stderr",
     "output_type": "stream",
     "text": [
      "100%|██████████| 150/150 [04:29<00:00,  1.80s/it]\n"
     ]
    },
    {
     "name": "stdout",
     "output_type": "stream",
     "text": [
      "COLUMN_NAME: 9\n",
      "COUNT_QUERY_RUN: 150\n",
      "EXPANSOR_CRITERIA: join_30_ptt5_indir\n",
      "COUNT_QUERY_WITHOUT_RESULT: 0\n",
      "COUNT_QUERY_NOT_FOUND: 0\n",
      "RANK1_MEAN: 1.587\n",
      "NDCG@5_MEAN: 65.637\n",
      "NDCG@10_MEAN: 61.969\n",
      "NDCG@15_MEAN: 64.791\n",
      "NDCG@20_MEAN: 67.157\n",
      "PRECISION@50_MEAN: 13.92\n",
      "PRECISION@100_MEAN: 7.347\n",
      "RECALL@50_MEAN: 81.899\n",
      "RECALL@100_MEAN: 86.35\n",
      "TIME_SPENT_MEAN: 1.797\n",
      "==33==  2023-Jun-29 10:33:03 \n",
      "Experiment: {'TOPK_RETRIEVER': 300, 'TOPK_RANKER': 0, 'EXPANSOR_CRITERIA': '', 'INDEX_NAME': 'indir_juris_tcu_synonym', 'PIPE': {'PIPE_OBJECT': <haystack.pipelines.base.Pipeline object at 0x7fe9b62b6390>, 'RETRIEVER_TYPE': 'bm25', 'RANKER_TYPE': 'PTT5_BASE', 'RETRIEVER_MODEL_NAME': ''}, 'COLUMN_NAME': 'TEXT'}\n",
      "Experimento envolverá 150 registros, toda a base de dados\n"
     ]
    },
    {
     "name": "stderr",
     "output_type": "stream",
     "text": [
      "100%|██████████| 150/150 [03:41<00:00,  1.48s/it]\n"
     ]
    },
    {
     "name": "stdout",
     "output_type": "stream",
     "text": [
      "COLUMN_NAME: TEXT\n",
      "COUNT_QUERY_RUN: 150\n",
      "EXPANSOR_CRITERIA: \n",
      "COUNT_QUERY_WITHOUT_RESULT: 0\n",
      "COUNT_QUERY_NOT_FOUND: 0\n",
      "RANK1_MEAN: 1.34\n",
      "NDCG@5_MEAN: 71.497\n",
      "NDCG@10_MEAN: 67.387\n",
      "NDCG@15_MEAN: 70.536\n",
      "NDCG@20_MEAN: 73.291\n",
      "PRECISION@50_MEAN: 15.347\n",
      "PRECISION@100_MEAN: 7.96\n",
      "RECALL@50_MEAN: 89.255\n",
      "RECALL@100_MEAN: 92.337\n",
      "TIME_SPENT_MEAN: 1.476\n",
      "==34==  2023-Jun-29 10:36:47 \n",
      "Experiment: {'TOPK_RETRIEVER': 300, 'TOPK_RANKER': 0, 'EXPANSOR_CRITERIA': 'join_30_ptt5_indir', 'INDEX_NAME': 'indir_juris_tcu_related_term', 'PIPE': {'PIPE_OBJECT': <haystack.pipelines.base.Pipeline object at 0x7fe9b62e1d50>, 'RETRIEVER_TYPE': 'bm25', 'RANKER_TYPE': 'PTT5_BASE', 'RETRIEVER_MODEL_NAME': ''}, 'COLUMN_NAME': '1'}\n",
      "Experimento envolverá 150 registros, toda a base de dados\n"
     ]
    },
    {
     "name": "stderr",
     "output_type": "stream",
     "text": [
      "100%|██████████| 150/150 [08:35<00:00,  3.44s/it]\n"
     ]
    },
    {
     "name": "stdout",
     "output_type": "stream",
     "text": [
      "COLUMN_NAME: 1\n",
      "COUNT_QUERY_RUN: 150\n",
      "EXPANSOR_CRITERIA: join_30_ptt5_indir\n",
      "COUNT_QUERY_WITHOUT_RESULT: 0\n",
      "COUNT_QUERY_NOT_FOUND: 0\n",
      "RANK1_MEAN: 3.087\n",
      "NDCG@5_MEAN: 63.693\n",
      "NDCG@10_MEAN: 60.13\n",
      "NDCG@15_MEAN: 62.645\n",
      "NDCG@20_MEAN: 65.351\n",
      "PRECISION@50_MEAN: 14.187\n",
      "PRECISION@100_MEAN: 7.52\n",
      "RECALL@50_MEAN: 83.257\n",
      "RECALL@100_MEAN: 87.544\n",
      "TIME_SPENT_MEAN: 3.437\n",
      "==35==  2023-Jun-29 10:45:25 \n",
      "Experiment: {'TOPK_RETRIEVER': 300, 'TOPK_RANKER': 0, 'EXPANSOR_CRITERIA': 'join_30_ptt5_indir', 'INDEX_NAME': 'indir_juris_tcu_related_term', 'PIPE': {'PIPE_OBJECT': <haystack.pipelines.base.Pipeline object at 0x7fe9b62e1d50>, 'RETRIEVER_TYPE': 'bm25', 'RANKER_TYPE': 'PTT5_BASE', 'RETRIEVER_MODEL_NAME': ''}, 'COLUMN_NAME': '10'}\n",
      "Experimento envolverá 150 registros, toda a base de dados\n"
     ]
    },
    {
     "name": "stderr",
     "output_type": "stream",
     "text": [
      "100%|██████████| 150/150 [09:39<00:00,  3.86s/it]\n"
     ]
    },
    {
     "name": "stdout",
     "output_type": "stream",
     "text": [
      "COLUMN_NAME: 10\n",
      "COUNT_QUERY_RUN: 150\n",
      "EXPANSOR_CRITERIA: join_30_ptt5_indir\n",
      "COUNT_QUERY_WITHOUT_RESULT: 0\n",
      "COUNT_QUERY_NOT_FOUND: 3\n",
      "RANK1_MEAN: 1.789\n",
      "NDCG@5_MEAN: 64.949\n",
      "NDCG@10_MEAN: 61.379\n",
      "NDCG@15_MEAN: 63.627\n",
      "NDCG@20_MEAN: 66.084\n",
      "PRECISION@50_MEAN: 13.893\n",
      "PRECISION@100_MEAN: 7.26\n",
      "RECALL@50_MEAN: 81.711\n",
      "RECALL@100_MEAN: 85.089\n",
      "TIME_SPENT_MEAN: 3.863\n",
      "==36==  2023-Jun-29 10:55:08 \n",
      "Experiment: {'TOPK_RETRIEVER': 300, 'TOPK_RANKER': 0, 'EXPANSOR_CRITERIA': 'join_30_ptt5_indir', 'INDEX_NAME': 'indir_juris_tcu_related_term', 'PIPE': {'PIPE_OBJECT': <haystack.pipelines.base.Pipeline object at 0x7fe9b62e1d50>, 'RETRIEVER_TYPE': 'bm25', 'RANKER_TYPE': 'PTT5_BASE', 'RETRIEVER_MODEL_NAME': ''}, 'COLUMN_NAME': '2'}\n",
      "Experimento envolverá 150 registros, toda a base de dados\n"
     ]
    },
    {
     "name": "stderr",
     "output_type": "stream",
     "text": [
      "100%|██████████| 150/150 [08:47<00:00,  3.52s/it]\n"
     ]
    },
    {
     "name": "stdout",
     "output_type": "stream",
     "text": [
      "COLUMN_NAME: 2\n",
      "COUNT_QUERY_RUN: 150\n",
      "EXPANSOR_CRITERIA: join_30_ptt5_indir\n",
      "COUNT_QUERY_WITHOUT_RESULT: 0\n",
      "COUNT_QUERY_NOT_FOUND: 4\n",
      "RANK1_MEAN: 1.884\n",
      "NDCG@5_MEAN: 60.601\n",
      "NDCG@10_MEAN: 57.522\n",
      "NDCG@15_MEAN: 60.657\n",
      "NDCG@20_MEAN: 63.242\n",
      "PRECISION@50_MEAN: 13.667\n",
      "PRECISION@100_MEAN: 7.267\n",
      "RECALL@50_MEAN: 80.709\n",
      "RECALL@100_MEAN: 85.12\n",
      "TIME_SPENT_MEAN: 3.516\n",
      "==37==  2023-Jun-29 11:03:58 \n",
      "Experiment: {'TOPK_RETRIEVER': 300, 'TOPK_RANKER': 0, 'EXPANSOR_CRITERIA': 'join_30_ptt5_indir', 'INDEX_NAME': 'indir_juris_tcu_related_term', 'PIPE': {'PIPE_OBJECT': <haystack.pipelines.base.Pipeline object at 0x7fe9b62e1d50>, 'RETRIEVER_TYPE': 'bm25', 'RANKER_TYPE': 'PTT5_BASE', 'RETRIEVER_MODEL_NAME': ''}, 'COLUMN_NAME': '3'}\n",
      "Experimento envolverá 150 registros, toda a base de dados\n"
     ]
    },
    {
     "name": "stderr",
     "output_type": "stream",
     "text": [
      "100%|██████████| 150/150 [08:52<00:00,  3.55s/it]\n"
     ]
    },
    {
     "name": "stdout",
     "output_type": "stream",
     "text": [
      "COLUMN_NAME: 3\n",
      "COUNT_QUERY_RUN: 150\n",
      "EXPANSOR_CRITERIA: join_30_ptt5_indir\n",
      "COUNT_QUERY_WITHOUT_RESULT: 0\n",
      "COUNT_QUERY_NOT_FOUND: 4\n",
      "RANK1_MEAN: 1.849\n",
      "NDCG@5_MEAN: 60.031\n",
      "NDCG@10_MEAN: 57.757\n",
      "NDCG@15_MEAN: 60.11\n",
      "NDCG@20_MEAN: 62.55\n",
      "PRECISION@50_MEAN: 13.613\n",
      "PRECISION@100_MEAN: 7.22\n",
      "RECALL@50_MEAN: 80.568\n",
      "RECALL@100_MEAN: 84.815\n",
      "TIME_SPENT_MEAN: 3.547\n",
      "==38==  2023-Jun-29 11:12:53 \n",
      "Experiment: {'TOPK_RETRIEVER': 300, 'TOPK_RANKER': 0, 'EXPANSOR_CRITERIA': 'join_30_ptt5_indir', 'INDEX_NAME': 'indir_juris_tcu_related_term', 'PIPE': {'PIPE_OBJECT': <haystack.pipelines.base.Pipeline object at 0x7fe9b62e1d50>, 'RETRIEVER_TYPE': 'bm25', 'RANKER_TYPE': 'PTT5_BASE', 'RETRIEVER_MODEL_NAME': ''}, 'COLUMN_NAME': '4'}\n",
      "Experimento envolverá 150 registros, toda a base de dados\n"
     ]
    },
    {
     "name": "stderr",
     "output_type": "stream",
     "text": [
      "100%|██████████| 150/150 [08:58<00:00,  3.59s/it]\n"
     ]
    },
    {
     "name": "stdout",
     "output_type": "stream",
     "text": [
      "COLUMN_NAME: 4\n",
      "COUNT_QUERY_RUN: 150\n",
      "EXPANSOR_CRITERIA: join_30_ptt5_indir\n",
      "COUNT_QUERY_WITHOUT_RESULT: 0\n",
      "COUNT_QUERY_NOT_FOUND: 3\n",
      "RANK1_MEAN: 1.707\n",
      "NDCG@5_MEAN: 61.564\n",
      "NDCG@10_MEAN: 58.401\n",
      "NDCG@15_MEAN: 61.313\n",
      "NDCG@20_MEAN: 63.882\n",
      "PRECISION@50_MEAN: 13.72\n",
      "PRECISION@100_MEAN: 7.24\n",
      "RECALL@50_MEAN: 81.022\n",
      "RECALL@100_MEAN: 84.882\n",
      "TIME_SPENT_MEAN: 3.591\n",
      "==39==  2023-Jun-29 11:21:54 \n",
      "Experiment: {'TOPK_RETRIEVER': 300, 'TOPK_RANKER': 0, 'EXPANSOR_CRITERIA': 'join_30_ptt5_indir', 'INDEX_NAME': 'indir_juris_tcu_related_term', 'PIPE': {'PIPE_OBJECT': <haystack.pipelines.base.Pipeline object at 0x7fe9b62e1d50>, 'RETRIEVER_TYPE': 'bm25', 'RANKER_TYPE': 'PTT5_BASE', 'RETRIEVER_MODEL_NAME': ''}, 'COLUMN_NAME': '5'}\n",
      "Experimento envolverá 150 registros, toda a base de dados\n"
     ]
    },
    {
     "name": "stderr",
     "output_type": "stream",
     "text": [
      "100%|██████████| 150/150 [09:08<00:00,  3.66s/it]\n"
     ]
    },
    {
     "name": "stdout",
     "output_type": "stream",
     "text": [
      "COLUMN_NAME: 5\n",
      "COUNT_QUERY_RUN: 150\n",
      "EXPANSOR_CRITERIA: join_30_ptt5_indir\n",
      "COUNT_QUERY_WITHOUT_RESULT: 0\n",
      "COUNT_QUERY_NOT_FOUND: 3\n",
      "RANK1_MEAN: 1.741\n",
      "NDCG@5_MEAN: 60.993\n",
      "NDCG@10_MEAN: 58.18\n",
      "NDCG@15_MEAN: 61.521\n",
      "NDCG@20_MEAN: 64.012\n",
      "PRECISION@50_MEAN: 13.813\n",
      "PRECISION@100_MEAN: 7.293\n",
      "RECALL@50_MEAN: 81.492\n",
      "RECALL@100_MEAN: 85.429\n",
      "TIME_SPENT_MEAN: 3.656\n",
      "==40==  2023-Jun-29 11:31:05 \n",
      "Experiment: {'TOPK_RETRIEVER': 300, 'TOPK_RANKER': 0, 'EXPANSOR_CRITERIA': 'join_30_ptt5_indir', 'INDEX_NAME': 'indir_juris_tcu_related_term', 'PIPE': {'PIPE_OBJECT': <haystack.pipelines.base.Pipeline object at 0x7fe9b62e1d50>, 'RETRIEVER_TYPE': 'bm25', 'RANKER_TYPE': 'PTT5_BASE', 'RETRIEVER_MODEL_NAME': ''}, 'COLUMN_NAME': '6'}\n",
      "Experimento envolverá 150 registros, toda a base de dados\n"
     ]
    },
    {
     "name": "stderr",
     "output_type": "stream",
     "text": [
      "100%|██████████| 150/150 [09:19<00:00,  3.73s/it]\n"
     ]
    },
    {
     "name": "stdout",
     "output_type": "stream",
     "text": [
      "COLUMN_NAME: 6\n",
      "COUNT_QUERY_RUN: 150\n",
      "EXPANSOR_CRITERIA: join_30_ptt5_indir\n",
      "COUNT_QUERY_WITHOUT_RESULT: 0\n",
      "COUNT_QUERY_NOT_FOUND: 3\n",
      "RANK1_MEAN: 1.782\n",
      "NDCG@5_MEAN: 63.557\n",
      "NDCG@10_MEAN: 59.78\n",
      "NDCG@15_MEAN: 63.032\n",
      "NDCG@20_MEAN: 65.477\n",
      "PRECISION@50_MEAN: 13.813\n",
      "PRECISION@100_MEAN: 7.313\n",
      "RECALL@50_MEAN: 81.395\n",
      "RECALL@100_MEAN: 85.529\n",
      "TIME_SPENT_MEAN: 3.731\n",
      "==41==  2023-Jun-29 11:40:28 \n",
      "Experiment: {'TOPK_RETRIEVER': 300, 'TOPK_RANKER': 0, 'EXPANSOR_CRITERIA': 'join_30_ptt5_indir', 'INDEX_NAME': 'indir_juris_tcu_related_term', 'PIPE': {'PIPE_OBJECT': <haystack.pipelines.base.Pipeline object at 0x7fe9b62e1d50>, 'RETRIEVER_TYPE': 'bm25', 'RANKER_TYPE': 'PTT5_BASE', 'RETRIEVER_MODEL_NAME': ''}, 'COLUMN_NAME': '7'}\n",
      "Experimento envolverá 150 registros, toda a base de dados\n"
     ]
    },
    {
     "name": "stderr",
     "output_type": "stream",
     "text": [
      "100%|██████████| 150/150 [09:28<00:00,  3.79s/it]\n"
     ]
    },
    {
     "name": "stdout",
     "output_type": "stream",
     "text": [
      "COLUMN_NAME: 7\n",
      "COUNT_QUERY_RUN: 150\n",
      "EXPANSOR_CRITERIA: join_30_ptt5_indir\n",
      "COUNT_QUERY_WITHOUT_RESULT: 0\n",
      "COUNT_QUERY_NOT_FOUND: 3\n",
      "RANK1_MEAN: 1.803\n",
      "NDCG@5_MEAN: 63.816\n",
      "NDCG@10_MEAN: 59.86\n",
      "NDCG@15_MEAN: 62.773\n",
      "NDCG@20_MEAN: 65.207\n",
      "PRECISION@50_MEAN: 13.707\n",
      "PRECISION@100_MEAN: 7.22\n",
      "RECALL@50_MEAN: 80.757\n",
      "RECALL@100_MEAN: 84.624\n",
      "TIME_SPENT_MEAN: 3.788\n",
      "==42==  2023-Jun-29 11:49:59 \n",
      "Experiment: {'TOPK_RETRIEVER': 300, 'TOPK_RANKER': 0, 'EXPANSOR_CRITERIA': 'join_30_ptt5_indir', 'INDEX_NAME': 'indir_juris_tcu_related_term', 'PIPE': {'PIPE_OBJECT': <haystack.pipelines.base.Pipeline object at 0x7fe9b62e1d50>, 'RETRIEVER_TYPE': 'bm25', 'RANKER_TYPE': 'PTT5_BASE', 'RETRIEVER_MODEL_NAME': ''}, 'COLUMN_NAME': '8'}\n",
      "Experimento envolverá 150 registros, toda a base de dados\n"
     ]
    },
    {
     "name": "stderr",
     "output_type": "stream",
     "text": [
      "100%|██████████| 150/150 [09:32<00:00,  3.82s/it]\n"
     ]
    },
    {
     "name": "stdout",
     "output_type": "stream",
     "text": [
      "COLUMN_NAME: 8\n",
      "COUNT_QUERY_RUN: 150\n",
      "EXPANSOR_CRITERIA: join_30_ptt5_indir\n",
      "COUNT_QUERY_WITHOUT_RESULT: 0\n",
      "COUNT_QUERY_NOT_FOUND: 3\n",
      "RANK1_MEAN: 1.823\n",
      "NDCG@5_MEAN: 64.134\n",
      "NDCG@10_MEAN: 60.964\n",
      "NDCG@15_MEAN: 63.293\n",
      "NDCG@20_MEAN: 65.655\n",
      "PRECISION@50_MEAN: 13.8\n",
      "PRECISION@100_MEAN: 7.247\n",
      "RECALL@50_MEAN: 81.288\n",
      "RECALL@100_MEAN: 84.946\n",
      "TIME_SPENT_MEAN: 3.815\n",
      "==43==  2023-Jun-29 11:59:33 \n",
      "Experiment: {'TOPK_RETRIEVER': 300, 'TOPK_RANKER': 0, 'EXPANSOR_CRITERIA': 'join_30_ptt5_indir', 'INDEX_NAME': 'indir_juris_tcu_related_term', 'PIPE': {'PIPE_OBJECT': <haystack.pipelines.base.Pipeline object at 0x7fe9b62e1d50>, 'RETRIEVER_TYPE': 'bm25', 'RANKER_TYPE': 'PTT5_BASE', 'RETRIEVER_MODEL_NAME': ''}, 'COLUMN_NAME': '9'}\n",
      "Experimento envolverá 150 registros, toda a base de dados\n"
     ]
    },
    {
     "name": "stderr",
     "output_type": "stream",
     "text": [
      "100%|██████████| 150/150 [09:35<00:00,  3.84s/it]\n"
     ]
    },
    {
     "name": "stdout",
     "output_type": "stream",
     "text": [
      "COLUMN_NAME: 9\n",
      "COUNT_QUERY_RUN: 150\n",
      "EXPANSOR_CRITERIA: join_30_ptt5_indir\n",
      "COUNT_QUERY_WITHOUT_RESULT: 0\n",
      "COUNT_QUERY_NOT_FOUND: 3\n",
      "RANK1_MEAN: 1.782\n",
      "NDCG@5_MEAN: 64.815\n",
      "NDCG@10_MEAN: 61.256\n",
      "NDCG@15_MEAN: 63.562\n",
      "NDCG@20_MEAN: 66.039\n",
      "PRECISION@50_MEAN: 13.893\n",
      "PRECISION@100_MEAN: 7.267\n",
      "RECALL@50_MEAN: 81.711\n",
      "RECALL@100_MEAN: 85.155\n",
      "TIME_SPENT_MEAN: 3.836\n",
      "==44==  2023-Jun-29 12:09:11 \n",
      "Experiment: {'TOPK_RETRIEVER': 300, 'TOPK_RANKER': 0, 'EXPANSOR_CRITERIA': '', 'INDEX_NAME': 'indir_juris_tcu_related_term', 'PIPE': {'PIPE_OBJECT': <haystack.pipelines.base.Pipeline object at 0x7fe9b62e1d50>, 'RETRIEVER_TYPE': 'bm25', 'RANKER_TYPE': 'PTT5_BASE', 'RETRIEVER_MODEL_NAME': ''}, 'COLUMN_NAME': 'TEXT'}\n",
      "Experimento envolverá 150 registros, toda a base de dados\n"
     ]
    },
    {
     "name": "stderr",
     "output_type": "stream",
     "text": [
      "100%|██████████| 150/150 [08:25<00:00,  3.37s/it]\n"
     ]
    },
    {
     "name": "stdout",
     "output_type": "stream",
     "text": [
      "COLUMN_NAME: TEXT\n",
      "COUNT_QUERY_RUN: 150\n",
      "EXPANSOR_CRITERIA: \n",
      "COUNT_QUERY_WITHOUT_RESULT: 0\n",
      "COUNT_QUERY_NOT_FOUND: 0\n",
      "RANK1_MEAN: 1.513\n",
      "NDCG@5_MEAN: 68.856\n",
      "NDCG@10_MEAN: 64.611\n",
      "NDCG@15_MEAN: 67.713\n",
      "NDCG@20_MEAN: 70.457\n",
      "PRECISION@50_MEAN: 14.933\n",
      "PRECISION@100_MEAN: 7.713\n",
      "RECALL@50_MEAN: 87.151\n",
      "RECALL@100_MEAN: 89.746\n",
      "TIME_SPENT_MEAN: 3.373\n",
      "==45==  2023-Jun-29 12:17:40 \n",
      "Experiment: {'TOPK_RETRIEVER': 300, 'TOPK_RANKER': 0, 'EXPANSOR_CRITERIA': 'join_30_ptt5_indir', 'INDEX_NAME': 'indir_juris_tcu_synonym_related_term', 'PIPE': {'PIPE_OBJECT': <haystack.pipelines.base.Pipeline object at 0x7fe9ac5e4bd0>, 'RETRIEVER_TYPE': 'bm25', 'RANKER_TYPE': 'PTT5_BASE', 'RETRIEVER_MODEL_NAME': ''}, 'COLUMN_NAME': '1'}\n",
      "Experimento envolverá 150 registros, toda a base de dados\n"
     ]
    },
    {
     "name": "stderr",
     "output_type": "stream",
     "text": [
      "100%|██████████| 150/150 [10:30<00:00,  4.20s/it]\n"
     ]
    },
    {
     "name": "stdout",
     "output_type": "stream",
     "text": [
      "COLUMN_NAME: 1\n",
      "COUNT_QUERY_RUN: 150\n",
      "EXPANSOR_CRITERIA: join_30_ptt5_indir\n",
      "COUNT_QUERY_WITHOUT_RESULT: 0\n",
      "COUNT_QUERY_NOT_FOUND: 0\n",
      "RANK1_MEAN: 3.267\n",
      "NDCG@5_MEAN: 59.003\n",
      "NDCG@10_MEAN: 56.13\n",
      "NDCG@15_MEAN: 59.028\n",
      "NDCG@20_MEAN: 61.921\n",
      "PRECISION@50_MEAN: 13.813\n",
      "PRECISION@100_MEAN: 7.393\n",
      "RECALL@50_MEAN: 81.423\n",
      "RECALL@100_MEAN: 86.117\n",
      "TIME_SPENT_MEAN: 4.201\n",
      "==46==  2023-Jun-29 12:28:13 \n",
      "Experiment: {'TOPK_RETRIEVER': 300, 'TOPK_RANKER': 0, 'EXPANSOR_CRITERIA': 'join_30_ptt5_indir', 'INDEX_NAME': 'indir_juris_tcu_synonym_related_term', 'PIPE': {'PIPE_OBJECT': <haystack.pipelines.base.Pipeline object at 0x7fe9ac5e4bd0>, 'RETRIEVER_TYPE': 'bm25', 'RANKER_TYPE': 'PTT5_BASE', 'RETRIEVER_MODEL_NAME': ''}, 'COLUMN_NAME': '10'}\n",
      "Experimento envolverá 150 registros, toda a base de dados\n"
     ]
    },
    {
     "name": "stderr",
     "output_type": "stream",
     "text": [
      "100%|██████████| 150/150 [11:26<00:00,  4.58s/it]\n"
     ]
    },
    {
     "name": "stdout",
     "output_type": "stream",
     "text": [
      "COLUMN_NAME: 10\n",
      "COUNT_QUERY_RUN: 150\n",
      "EXPANSOR_CRITERIA: join_30_ptt5_indir\n",
      "COUNT_QUERY_WITHOUT_RESULT: 0\n",
      "COUNT_QUERY_NOT_FOUND: 3\n",
      "RANK1_MEAN: 1.864\n",
      "NDCG@5_MEAN: 60.454\n",
      "NDCG@10_MEAN: 57.27\n",
      "NDCG@15_MEAN: 60.003\n",
      "NDCG@20_MEAN: 62.962\n",
      "PRECISION@50_MEAN: 13.587\n",
      "PRECISION@100_MEAN: 7.127\n",
      "RECALL@50_MEAN: 80.025\n",
      "RECALL@100_MEAN: 83.549\n",
      "TIME_SPENT_MEAN: 4.579\n",
      "==47==  2023-Jun-29 12:39:42 \n",
      "Experiment: {'TOPK_RETRIEVER': 300, 'TOPK_RANKER': 0, 'EXPANSOR_CRITERIA': 'join_30_ptt5_indir', 'INDEX_NAME': 'indir_juris_tcu_synonym_related_term', 'PIPE': {'PIPE_OBJECT': <haystack.pipelines.base.Pipeline object at 0x7fe9ac5e4bd0>, 'RETRIEVER_TYPE': 'bm25', 'RANKER_TYPE': 'PTT5_BASE', 'RETRIEVER_MODEL_NAME': ''}, 'COLUMN_NAME': '2'}\n",
      "Experimento envolverá 150 registros, toda a base de dados\n"
     ]
    },
    {
     "name": "stderr",
     "output_type": "stream",
     "text": [
      "100%|██████████| 150/150 [10:41<00:00,  4.28s/it]\n"
     ]
    },
    {
     "name": "stdout",
     "output_type": "stream",
     "text": [
      "COLUMN_NAME: 2\n",
      "COUNT_QUERY_RUN: 150\n",
      "EXPANSOR_CRITERIA: join_30_ptt5_indir\n",
      "COUNT_QUERY_WITHOUT_RESULT: 0\n",
      "COUNT_QUERY_NOT_FOUND: 3\n",
      "RANK1_MEAN: 2.15\n",
      "NDCG@5_MEAN: 57.021\n",
      "NDCG@10_MEAN: 54.122\n",
      "NDCG@15_MEAN: 57.469\n",
      "NDCG@20_MEAN: 60.418\n",
      "PRECISION@50_MEAN: 13.52\n",
      "PRECISION@100_MEAN: 7.253\n",
      "RECALL@50_MEAN: 79.925\n",
      "RECALL@100_MEAN: 84.957\n",
      "TIME_SPENT_MEAN: 4.279\n",
      "==48==  2023-Jun-29 12:50:27 \n",
      "Experiment: {'TOPK_RETRIEVER': 300, 'TOPK_RANKER': 0, 'EXPANSOR_CRITERIA': 'join_30_ptt5_indir', 'INDEX_NAME': 'indir_juris_tcu_synonym_related_term', 'PIPE': {'PIPE_OBJECT': <haystack.pipelines.base.Pipeline object at 0x7fe9ac5e4bd0>, 'RETRIEVER_TYPE': 'bm25', 'RANKER_TYPE': 'PTT5_BASE', 'RETRIEVER_MODEL_NAME': ''}, 'COLUMN_NAME': '3'}\n",
      "Experimento envolverá 150 registros, toda a base de dados\n"
     ]
    },
    {
     "name": "stderr",
     "output_type": "stream",
     "text": [
      "100%|██████████| 150/150 [10:47<00:00,  4.32s/it]\n"
     ]
    },
    {
     "name": "stdout",
     "output_type": "stream",
     "text": [
      "COLUMN_NAME: 3\n",
      "COUNT_QUERY_RUN: 150\n",
      "EXPANSOR_CRITERIA: join_30_ptt5_indir\n",
      "COUNT_QUERY_WITHOUT_RESULT: 0\n",
      "COUNT_QUERY_NOT_FOUND: 3\n",
      "RANK1_MEAN: 1.973\n",
      "NDCG@5_MEAN: 58.344\n",
      "NDCG@10_MEAN: 54.774\n",
      "NDCG@15_MEAN: 57.959\n",
      "NDCG@20_MEAN: 60.72\n",
      "PRECISION@50_MEAN: 13.493\n",
      "PRECISION@100_MEAN: 7.213\n",
      "RECALL@50_MEAN: 80.054\n",
      "RECALL@100_MEAN: 84.618\n",
      "TIME_SPENT_MEAN: 4.319\n",
      "==49==  2023-Jun-29 13:01:17 \n",
      "Experiment: {'TOPK_RETRIEVER': 300, 'TOPK_RANKER': 0, 'EXPANSOR_CRITERIA': 'join_30_ptt5_indir', 'INDEX_NAME': 'indir_juris_tcu_synonym_related_term', 'PIPE': {'PIPE_OBJECT': <haystack.pipelines.base.Pipeline object at 0x7fe9ac5e4bd0>, 'RETRIEVER_TYPE': 'bm25', 'RANKER_TYPE': 'PTT5_BASE', 'RETRIEVER_MODEL_NAME': ''}, 'COLUMN_NAME': '4'}\n",
      "Experimento envolverá 150 registros, toda a base de dados\n"
     ]
    },
    {
     "name": "stderr",
     "output_type": "stream",
     "text": [
      "100%|██████████| 150/150 [10:56<00:00,  4.38s/it]\n"
     ]
    },
    {
     "name": "stdout",
     "output_type": "stream",
     "text": [
      "COLUMN_NAME: 4\n",
      "COUNT_QUERY_RUN: 150\n",
      "EXPANSOR_CRITERIA: join_30_ptt5_indir\n",
      "COUNT_QUERY_WITHOUT_RESULT: 0\n",
      "COUNT_QUERY_NOT_FOUND: 2\n",
      "RANK1_MEAN: 1.939\n",
      "NDCG@5_MEAN: 59.012\n",
      "NDCG@10_MEAN: 56.076\n",
      "NDCG@15_MEAN: 59.216\n",
      "NDCG@20_MEAN: 62.018\n",
      "PRECISION@50_MEAN: 13.493\n",
      "PRECISION@100_MEAN: 7.187\n",
      "RECALL@50_MEAN: 79.671\n",
      "RECALL@100_MEAN: 84.367\n",
      "TIME_SPENT_MEAN: 4.378\n",
      "==50==  2023-Jun-29 13:12:16 \n",
      "Experiment: {'TOPK_RETRIEVER': 300, 'TOPK_RANKER': 0, 'EXPANSOR_CRITERIA': 'join_30_ptt5_indir', 'INDEX_NAME': 'indir_juris_tcu_synonym_related_term', 'PIPE': {'PIPE_OBJECT': <haystack.pipelines.base.Pipeline object at 0x7fe9ac5e4bd0>, 'RETRIEVER_TYPE': 'bm25', 'RANKER_TYPE': 'PTT5_BASE', 'RETRIEVER_MODEL_NAME': ''}, 'COLUMN_NAME': '5'}\n",
      "Experimento envolverá 150 registros, toda a base de dados\n"
     ]
    },
    {
     "name": "stderr",
     "output_type": "stream",
     "text": [
      "100%|██████████| 150/150 [11:03<00:00,  4.42s/it]\n"
     ]
    },
    {
     "name": "stdout",
     "output_type": "stream",
     "text": [
      "COLUMN_NAME: 5\n",
      "COUNT_QUERY_RUN: 150\n",
      "EXPANSOR_CRITERIA: join_30_ptt5_indir\n",
      "COUNT_QUERY_WITHOUT_RESULT: 0\n",
      "COUNT_QUERY_NOT_FOUND: 3\n",
      "RANK1_MEAN: 1.918\n",
      "NDCG@5_MEAN: 59.07\n",
      "NDCG@10_MEAN: 56.409\n",
      "NDCG@15_MEAN: 59.612\n",
      "NDCG@20_MEAN: 62.269\n",
      "PRECISION@50_MEAN: 13.573\n",
      "PRECISION@100_MEAN: 7.213\n",
      "RECALL@50_MEAN: 80.257\n",
      "RECALL@100_MEAN: 84.693\n",
      "TIME_SPENT_MEAN: 4.424\n",
      "==51==  2023-Jun-29 13:23:23 \n",
      "Experiment: {'TOPK_RETRIEVER': 300, 'TOPK_RANKER': 0, 'EXPANSOR_CRITERIA': 'join_30_ptt5_indir', 'INDEX_NAME': 'indir_juris_tcu_synonym_related_term', 'PIPE': {'PIPE_OBJECT': <haystack.pipelines.base.Pipeline object at 0x7fe9ac5e4bd0>, 'RETRIEVER_TYPE': 'bm25', 'RANKER_TYPE': 'PTT5_BASE', 'RETRIEVER_MODEL_NAME': ''}, 'COLUMN_NAME': '6'}\n",
      "Experimento envolverá 150 registros, toda a base de dados\n"
     ]
    },
    {
     "name": "stderr",
     "output_type": "stream",
     "text": [
      "100%|██████████| 150/150 [11:12<00:00,  4.48s/it]\n"
     ]
    },
    {
     "name": "stdout",
     "output_type": "stream",
     "text": [
      "COLUMN_NAME: 6\n",
      "COUNT_QUERY_RUN: 150\n",
      "EXPANSOR_CRITERIA: join_30_ptt5_indir\n",
      "COUNT_QUERY_WITHOUT_RESULT: 0\n",
      "COUNT_QUERY_NOT_FOUND: 2\n",
      "RANK1_MEAN: 1.939\n",
      "NDCG@5_MEAN: 59.451\n",
      "NDCG@10_MEAN: 57.052\n",
      "NDCG@15_MEAN: 60.061\n",
      "NDCG@20_MEAN: 62.869\n",
      "PRECISION@50_MEAN: 13.493\n",
      "PRECISION@100_MEAN: 7.2\n",
      "RECALL@50_MEAN: 79.605\n",
      "RECALL@100_MEAN: 84.258\n",
      "TIME_SPENT_MEAN: 4.483\n",
      "==52==  2023-Jun-29 13:34:38 \n",
      "Experiment: {'TOPK_RETRIEVER': 300, 'TOPK_RANKER': 0, 'EXPANSOR_CRITERIA': 'join_30_ptt5_indir', 'INDEX_NAME': 'indir_juris_tcu_synonym_related_term', 'PIPE': {'PIPE_OBJECT': <haystack.pipelines.base.Pipeline object at 0x7fe9ac5e4bd0>, 'RETRIEVER_TYPE': 'bm25', 'RANKER_TYPE': 'PTT5_BASE', 'RETRIEVER_MODEL_NAME': ''}, 'COLUMN_NAME': '7'}\n",
      "Experimento envolverá 150 registros, toda a base de dados\n"
     ]
    },
    {
     "name": "stderr",
     "output_type": "stream",
     "text": [
      "100%|██████████| 150/150 [11:15<00:00,  4.50s/it]\n"
     ]
    },
    {
     "name": "stdout",
     "output_type": "stream",
     "text": [
      "COLUMN_NAME: 7\n",
      "COUNT_QUERY_RUN: 150\n",
      "EXPANSOR_CRITERIA: join_30_ptt5_indir\n",
      "COUNT_QUERY_WITHOUT_RESULT: 0\n",
      "COUNT_QUERY_NOT_FOUND: 2\n",
      "RANK1_MEAN: 1.919\n",
      "NDCG@5_MEAN: 59.345\n",
      "NDCG@10_MEAN: 57.264\n",
      "NDCG@15_MEAN: 59.968\n",
      "NDCG@20_MEAN: 62.488\n",
      "PRECISION@50_MEAN: 13.52\n",
      "PRECISION@100_MEAN: 7.173\n",
      "RECALL@50_MEAN: 79.659\n",
      "RECALL@100_MEAN: 84.037\n",
      "TIME_SPENT_MEAN: 4.503\n",
      "==53==  2023-Jun-29 13:45:56 \n",
      "Experiment: {'TOPK_RETRIEVER': 300, 'TOPK_RANKER': 0, 'EXPANSOR_CRITERIA': 'join_30_ptt5_indir', 'INDEX_NAME': 'indir_juris_tcu_synonym_related_term', 'PIPE': {'PIPE_OBJECT': <haystack.pipelines.base.Pipeline object at 0x7fe9ac5e4bd0>, 'RETRIEVER_TYPE': 'bm25', 'RANKER_TYPE': 'PTT5_BASE', 'RETRIEVER_MODEL_NAME': ''}, 'COLUMN_NAME': '8'}\n",
      "Experimento envolverá 150 registros, toda a base de dados\n"
     ]
    },
    {
     "name": "stderr",
     "output_type": "stream",
     "text": [
      "100%|██████████| 150/150 [11:26<00:00,  4.58s/it]\n"
     ]
    },
    {
     "name": "stdout",
     "output_type": "stream",
     "text": [
      "COLUMN_NAME: 8\n",
      "COUNT_QUERY_RUN: 150\n",
      "EXPANSOR_CRITERIA: join_30_ptt5_indir\n",
      "COUNT_QUERY_WITHOUT_RESULT: 0\n",
      "COUNT_QUERY_NOT_FOUND: 3\n",
      "RANK1_MEAN: 1.83\n",
      "NDCG@5_MEAN: 60.2\n",
      "NDCG@10_MEAN: 57.247\n",
      "NDCG@15_MEAN: 60.347\n",
      "NDCG@20_MEAN: 63.171\n",
      "PRECISION@50_MEAN: 13.533\n",
      "PRECISION@100_MEAN: 7.153\n",
      "RECALL@50_MEAN: 79.697\n",
      "RECALL@100_MEAN: 83.791\n",
      "TIME_SPENT_MEAN: 4.575\n",
      "==54==  2023-Jun-29 13:57:24 \n",
      "Experiment: {'TOPK_RETRIEVER': 300, 'TOPK_RANKER': 0, 'EXPANSOR_CRITERIA': 'join_30_ptt5_indir', 'INDEX_NAME': 'indir_juris_tcu_synonym_related_term', 'PIPE': {'PIPE_OBJECT': <haystack.pipelines.base.Pipeline object at 0x7fe9ac5e4bd0>, 'RETRIEVER_TYPE': 'bm25', 'RANKER_TYPE': 'PTT5_BASE', 'RETRIEVER_MODEL_NAME': ''}, 'COLUMN_NAME': '9'}\n",
      "Experimento envolverá 150 registros, toda a base de dados\n"
     ]
    },
    {
     "name": "stderr",
     "output_type": "stream",
     "text": [
      "100%|██████████| 150/150 [11:28<00:00,  4.59s/it]\n"
     ]
    },
    {
     "name": "stdout",
     "output_type": "stream",
     "text": [
      "COLUMN_NAME: 9\n",
      "COUNT_QUERY_RUN: 150\n",
      "EXPANSOR_CRITERIA: join_30_ptt5_indir\n",
      "COUNT_QUERY_WITHOUT_RESULT: 0\n",
      "COUNT_QUERY_NOT_FOUND: 3\n",
      "RANK1_MEAN: 1.884\n",
      "NDCG@5_MEAN: 60.052\n",
      "NDCG@10_MEAN: 57.174\n",
      "NDCG@15_MEAN: 60.02\n",
      "NDCG@20_MEAN: 62.832\n",
      "PRECISION@50_MEAN: 13.613\n",
      "PRECISION@100_MEAN: 7.14\n",
      "RECALL@50_MEAN: 80.159\n",
      "RECALL@100_MEAN: 83.682\n",
      "TIME_SPENT_MEAN: 4.592\n",
      "==55==  2023-Jun-29 14:08:56 \n",
      "Experiment: {'TOPK_RETRIEVER': 300, 'TOPK_RANKER': 0, 'EXPANSOR_CRITERIA': '', 'INDEX_NAME': 'indir_juris_tcu_synonym_related_term', 'PIPE': {'PIPE_OBJECT': <haystack.pipelines.base.Pipeline object at 0x7fe9ac5e4bd0>, 'RETRIEVER_TYPE': 'bm25', 'RANKER_TYPE': 'PTT5_BASE', 'RETRIEVER_MODEL_NAME': ''}, 'COLUMN_NAME': 'TEXT'}\n",
      "Experimento envolverá 150 registros, toda a base de dados\n"
     ]
    },
    {
     "name": "stderr",
     "output_type": "stream",
     "text": [
      "100%|██████████| 150/150 [10:22<00:00,  4.15s/it]\n"
     ]
    },
    {
     "name": "stdout",
     "output_type": "stream",
     "text": [
      "COLUMN_NAME: TEXT\n",
      "COUNT_QUERY_RUN: 150\n",
      "EXPANSOR_CRITERIA: \n",
      "COUNT_QUERY_WITHOUT_RESULT: 0\n",
      "COUNT_QUERY_NOT_FOUND: 0\n",
      "RANK1_MEAN: 1.5\n",
      "NDCG@5_MEAN: 65.84\n",
      "NDCG@10_MEAN: 62.107\n",
      "NDCG@15_MEAN: 65.561\n",
      "NDCG@20_MEAN: 67.919\n",
      "PRECISION@50_MEAN: 14.76\n",
      "PRECISION@100_MEAN: 7.713\n",
      "RECALL@50_MEAN: 86.118\n",
      "RECALL@100_MEAN: 89.605\n",
      "TIME_SPENT_MEAN: 4.147\n",
      "CPU times: user 5h 11min 49s, sys: 13.5 s, total: 5h 12min 2s\n",
      "Wall time: 5h 28min 36s\n"
     ]
    }
   ],
   "source": [
    "%%time\n",
    "# colocar pequeno só para testes, depois voltar para 9999999 (número maior do que o número de termos a pesquisar)\n",
    "if consider_run_all:\n",
    "    target_columns = df_search_data.columns.difference(['ID', 'RELEVANCE_DICT', 'SOURCE'])\n",
    "elif consider_query_expanded:\n",
    "    target_columns = df_search_data.columns.difference(['ID', 'RELEVANCE_DICT', 'SOURCE', 'TEXT'])\n",
    "else:\n",
    "    target_columns = ['TEXT']\n",
    "limit_query =  9999999 # 100 # \n",
    "cnt_exec = 0\n",
    "print('target_columns', target_columns)\n",
    "for index_name in pipes.keys():\n",
    "    for pipe in pipes[index_name]:\n",
    "        for cnt, experiment in enumerate(list_experiment):\n",
    "            # raise Exception('false break')            \n",
    "            for column_name in target_columns:\n",
    "                cnt_exec += 1\n",
    "                if column_name == 'TEXT':\n",
    "                    experiment['EXPANSOR_CRITERIA'] = \"\"\n",
    "                else:\n",
    "                    experiment['EXPANSOR_CRITERIA'] = EXPANSOR_CRITERIA\n",
    "                experiment['INDEX_NAME'] = index_name\n",
    "                experiment['PIPE'] = pipe\n",
    "                experiment['COLUMN_NAME'] = column_name\n",
    "                print(f\"=={cnt_exec}==  {time.strftime('%Y-%b-%d %H:%M:%S')} \\nExperiment: {experiment}\")\n",
    "                list_result_experiment = [] # por experiment\n",
    "                result_run = util_experiment.experiment_run(parm_df=df_search_data, \n",
    "                                                        parm_experiment=experiment,\n",
    "                                                        parm_limit_query=limit_query,\n",
    "                                                        parm_print=True)\n",
    "                # raise Exception('false break')\n",
    "                list_result_experiment.append(result_run)\n",
    "                # print(f\"qtd_encontrado sim:{result_run['qtd_encontrado']}, não:{result_run['qtd_nao_encontrado']} ({result_run['percent_nao_encontrado']}%)\")\n",
    "                util_experiment.add_experiment_result(parm_list_result=list_result_experiment, parm_dataset='juris_tcu')\n",
    "                torch.cuda.empty_cache()"
   ]
  },
  {
   "cell_type": "code",
   "execution_count": null,
   "metadata": {},
   "outputs": [
    {
     "data": {
      "text/plain": [
       "'join_30_ptt5_indir'"
      ]
     },
     "metadata": {},
     "output_type": "display_data"
    }
   ],
   "source": [
    "EXPANSOR_CRITERIA"
   ]
  },
  {
   "cell_type": "code",
   "execution_count": null,
   "metadata": {},
   "outputs": [
    {
     "data": {
      "text/plain": [
       "[{'PIPE_OBJECT': <haystack.pipelines.base.Pipeline at 0x7fe9b4bc5390>,\n",
       "  'RETRIEVER_TYPE': 'bm25',\n",
       "  'RANKER_TYPE': 'PTT5_BASE',\n",
       "  'RETRIEVER_MODEL_NAME': ''}]"
      ]
     },
     "metadata": {},
     "output_type": "display_data"
    }
   ],
   "source": [
    "pipes['indir_juris_tcu']"
   ]
  },
  {
   "cell_type": "code",
   "execution_count": null,
   "metadata": {},
   "outputs": [
    {
     "data": {
      "text/plain": [
       "'join_30_ptt5_indir'"
      ]
     },
     "execution_count": 57,
     "metadata": {},
     "output_type": "execute_result"
    }
   ],
   "source": [
    "EXPANSOR_CRITERIA"
   ]
  },
  {
   "cell_type": "code",
   "execution_count": null,
   "metadata": {},
   "outputs": [
    {
     "name": "stdout",
     "output_type": "stream",
     "text": [
      "target_columns Index(['1', '10', '2', '3', '4', '5', '6', '7', '8', '9', 'TEXT'], dtype='object')\n",
      "==1==  2023-Jun-29 07:13:53 \n",
      "Experiment: {'TOPK_RETRIEVER': 300, 'TOPK_RANKER': 0, 'EXPANSOR_CRITERIA': 'join_30_ptt5_base', 'INDEX_NAME': 'indir_juris_tcu', 'PIPE': {'PIPE_OBJECT': <haystack.pipelines.base.Pipeline object at 0x7f67bec96610>, 'RETRIEVER_TYPE': 'bm25', 'RANKER_TYPE': 'PTT5_BASE', 'RETRIEVER_MODEL_NAME': ''}, 'COLUMN_NAME': '1'}\n",
      "Experimento envolverá 150 registros, toda a base de dados\n"
     ]
    },
    {
     "name": "stderr",
     "output_type": "stream",
     "text": [
      "100%|██████████| 150/150 [02:16<00:00,  1.10it/s]\n"
     ]
    },
    {
     "name": "stdout",
     "output_type": "stream",
     "text": [
      "COLUMN_NAME: 1\n",
      "COUNT_QUERY_RUN: 150\n",
      "EXPANSOR_CRITERIA: join_30_ptt5_base\n",
      "COUNT_QUERY_WITHOUT_RESULT: 0\n",
      "COUNT_QUERY_NOT_FOUND: 0\n",
      "RANK1_MEAN: 1.887\n",
      "NDCG@5_MEAN: 67.251\n",
      "NDCG@10_MEAN: 64.017\n",
      "NDCG@15_MEAN: 67.089\n",
      "NDCG@20_MEAN: 69.533\n",
      "PRECISION@50_MEAN: 14.373\n",
      "PRECISION@100_MEAN: 7.573\n",
      "RECALL@50_MEAN: 84.596\n",
      "RECALL@100_MEAN: 88.744\n",
      "TIME_SPENT_MEAN: 0.908\n",
      "==2==  2023-Jun-29 07:16:12 \n",
      "Experiment: {'TOPK_RETRIEVER': 300, 'TOPK_RANKER': 0, 'EXPANSOR_CRITERIA': 'join_30_ptt5_base', 'INDEX_NAME': 'indir_juris_tcu', 'PIPE': {'PIPE_OBJECT': <haystack.pipelines.base.Pipeline object at 0x7f67bec96610>, 'RETRIEVER_TYPE': 'bm25', 'RANKER_TYPE': 'PTT5_BASE', 'RETRIEVER_MODEL_NAME': ''}, 'COLUMN_NAME': '10'}\n",
      "Experimento envolverá 150 registros, toda a base de dados\n"
     ]
    },
    {
     "name": "stderr",
     "output_type": "stream",
     "text": [
      "100%|██████████| 150/150 [02:50<00:00,  1.14s/it]\n"
     ]
    },
    {
     "name": "stdout",
     "output_type": "stream",
     "text": [
      "COLUMN_NAME: 10\n",
      "COUNT_QUERY_RUN: 150\n",
      "EXPANSOR_CRITERIA: join_30_ptt5_base\n",
      "COUNT_QUERY_WITHOUT_RESULT: 0\n",
      "COUNT_QUERY_NOT_FOUND: 1\n",
      "RANK1_MEAN: 1.678\n",
      "NDCG@5_MEAN: 65.189\n",
      "NDCG@10_MEAN: 62.825\n",
      "NDCG@15_MEAN: 66.005\n",
      "NDCG@20_MEAN: 68.07\n",
      "PRECISION@50_MEAN: 14.053\n",
      "PRECISION@100_MEAN: 7.273\n",
      "RECALL@50_MEAN: 82.609\n",
      "RECALL@100_MEAN: 85.781\n",
      "TIME_SPENT_MEAN: 1.138\n",
      "==3==  2023-Jun-29 07:19:05 \n",
      "Experiment: {'TOPK_RETRIEVER': 300, 'TOPK_RANKER': 0, 'EXPANSOR_CRITERIA': 'join_30_ptt5_base', 'INDEX_NAME': 'indir_juris_tcu', 'PIPE': {'PIPE_OBJECT': <haystack.pipelines.base.Pipeline object at 0x7f67bec96610>, 'RETRIEVER_TYPE': 'bm25', 'RANKER_TYPE': 'PTT5_BASE', 'RETRIEVER_MODEL_NAME': ''}, 'COLUMN_NAME': '2'}\n",
      "Experimento envolverá 150 registros, toda a base de dados\n"
     ]
    },
    {
     "name": "stderr",
     "output_type": "stream",
     "text": [
      "100%|██████████| 150/150 [02:23<00:00,  1.05it/s]\n"
     ]
    },
    {
     "name": "stdout",
     "output_type": "stream",
     "text": [
      "COLUMN_NAME: 2\n",
      "COUNT_QUERY_RUN: 150\n",
      "EXPANSOR_CRITERIA: join_30_ptt5_base\n",
      "COUNT_QUERY_WITHOUT_RESULT: 0\n",
      "COUNT_QUERY_NOT_FOUND: 0\n",
      "RANK1_MEAN: 2.1\n",
      "NDCG@5_MEAN: 68.562\n",
      "NDCG@10_MEAN: 64.248\n",
      "NDCG@15_MEAN: 66.855\n",
      "NDCG@20_MEAN: 69.633\n",
      "PRECISION@50_MEAN: 14.267\n",
      "PRECISION@100_MEAN: 7.433\n",
      "RECALL@50_MEAN: 83.51\n",
      "RECALL@100_MEAN: 87.13\n",
      "TIME_SPENT_MEAN: 0.956\n",
      "==4==  2023-Jun-29 07:21:31 \n",
      "Experiment: {'TOPK_RETRIEVER': 300, 'TOPK_RANKER': 0, 'EXPANSOR_CRITERIA': 'join_30_ptt5_base', 'INDEX_NAME': 'indir_juris_tcu', 'PIPE': {'PIPE_OBJECT': <haystack.pipelines.base.Pipeline object at 0x7f67bec96610>, 'RETRIEVER_TYPE': 'bm25', 'RANKER_TYPE': 'PTT5_BASE', 'RETRIEVER_MODEL_NAME': ''}, 'COLUMN_NAME': '3'}\n",
      "Experimento envolverá 150 registros, toda a base de dados\n"
     ]
    },
    {
     "name": "stderr",
     "output_type": "stream",
     "text": [
      "100%|██████████| 150/150 [02:27<00:00,  1.02it/s]\n"
     ]
    },
    {
     "name": "stdout",
     "output_type": "stream",
     "text": [
      "COLUMN_NAME: 3\n",
      "COUNT_QUERY_RUN: 150\n",
      "EXPANSOR_CRITERIA: join_30_ptt5_base\n",
      "COUNT_QUERY_WITHOUT_RESULT: 0\n",
      "COUNT_QUERY_NOT_FOUND: 0\n",
      "RANK1_MEAN: 1.947\n",
      "NDCG@5_MEAN: 69.22\n",
      "NDCG@10_MEAN: 64.237\n",
      "NDCG@15_MEAN: 67.74\n",
      "NDCG@20_MEAN: 70.247\n",
      "PRECISION@50_MEAN: 14.373\n",
      "PRECISION@100_MEAN: 7.453\n",
      "RECALL@50_MEAN: 84.45\n",
      "RECALL@100_MEAN: 87.291\n",
      "TIME_SPENT_MEAN: 0.981\n",
      "==5==  2023-Jun-29 07:24:00 \n",
      "Experiment: {'TOPK_RETRIEVER': 300, 'TOPK_RANKER': 0, 'EXPANSOR_CRITERIA': 'join_30_ptt5_base', 'INDEX_NAME': 'indir_juris_tcu', 'PIPE': {'PIPE_OBJECT': <haystack.pipelines.base.Pipeline object at 0x7f67bec96610>, 'RETRIEVER_TYPE': 'bm25', 'RANKER_TYPE': 'PTT5_BASE', 'RETRIEVER_MODEL_NAME': ''}, 'COLUMN_NAME': '4'}\n",
      "Experimento envolverá 150 registros, toda a base de dados\n"
     ]
    },
    {
     "name": "stderr",
     "output_type": "stream",
     "text": [
      "100%|██████████| 150/150 [02:30<00:00,  1.00s/it]\n"
     ]
    },
    {
     "name": "stdout",
     "output_type": "stream",
     "text": [
      "COLUMN_NAME: 4\n",
      "COUNT_QUERY_RUN: 150\n",
      "EXPANSOR_CRITERIA: join_30_ptt5_base\n",
      "COUNT_QUERY_WITHOUT_RESULT: 0\n",
      "COUNT_QUERY_NOT_FOUND: 0\n",
      "RANK1_MEAN: 2.0\n",
      "NDCG@5_MEAN: 68.273\n",
      "NDCG@10_MEAN: 64.436\n",
      "NDCG@15_MEAN: 67.328\n",
      "NDCG@20_MEAN: 69.856\n",
      "PRECISION@50_MEAN: 14.36\n",
      "PRECISION@100_MEAN: 7.453\n",
      "RECALL@50_MEAN: 84.674\n",
      "RECALL@100_MEAN: 87.423\n",
      "TIME_SPENT_MEAN: 1.002\n",
      "==6==  2023-Jun-29 07:26:33 \n",
      "Experiment: {'TOPK_RETRIEVER': 300, 'TOPK_RANKER': 0, 'EXPANSOR_CRITERIA': 'join_30_ptt5_base', 'INDEX_NAME': 'indir_juris_tcu', 'PIPE': {'PIPE_OBJECT': <haystack.pipelines.base.Pipeline object at 0x7f67bec96610>, 'RETRIEVER_TYPE': 'bm25', 'RANKER_TYPE': 'PTT5_BASE', 'RETRIEVER_MODEL_NAME': ''}, 'COLUMN_NAME': '5'}\n",
      "Experimento envolverá 150 registros, toda a base de dados\n"
     ]
    },
    {
     "name": "stderr",
     "output_type": "stream",
     "text": [
      "100%|██████████| 150/150 [02:35<00:00,  1.04s/it]\n"
     ]
    },
    {
     "name": "stdout",
     "output_type": "stream",
     "text": [
      "COLUMN_NAME: 5\n",
      "COUNT_QUERY_RUN: 150\n",
      "EXPANSOR_CRITERIA: join_30_ptt5_base\n",
      "COUNT_QUERY_WITHOUT_RESULT: 0\n",
      "COUNT_QUERY_NOT_FOUND: 0\n",
      "RANK1_MEAN: 1.68\n",
      "NDCG@5_MEAN: 68.791\n",
      "NDCG@10_MEAN: 64.431\n",
      "NDCG@15_MEAN: 67.37\n",
      "NDCG@20_MEAN: 70.097\n",
      "PRECISION@50_MEAN: 14.48\n",
      "PRECISION@100_MEAN: 7.5\n",
      "RECALL@50_MEAN: 85.043\n",
      "RECALL@100_MEAN: 88.079\n",
      "TIME_SPENT_MEAN: 1.037\n",
      "==7==  2023-Jun-29 07:29:11 \n",
      "Experiment: {'TOPK_RETRIEVER': 300, 'TOPK_RANKER': 0, 'EXPANSOR_CRITERIA': 'join_30_ptt5_base', 'INDEX_NAME': 'indir_juris_tcu', 'PIPE': {'PIPE_OBJECT': <haystack.pipelines.base.Pipeline object at 0x7f67bec96610>, 'RETRIEVER_TYPE': 'bm25', 'RANKER_TYPE': 'PTT5_BASE', 'RETRIEVER_MODEL_NAME': ''}, 'COLUMN_NAME': '6'}\n",
      "Experimento envolverá 150 registros, toda a base de dados\n"
     ]
    },
    {
     "name": "stderr",
     "output_type": "stream",
     "text": [
      "100%|██████████| 150/150 [02:39<00:00,  1.06s/it]\n"
     ]
    },
    {
     "name": "stdout",
     "output_type": "stream",
     "text": [
      "COLUMN_NAME: 6\n",
      "COUNT_QUERY_RUN: 150\n",
      "EXPANSOR_CRITERIA: join_30_ptt5_base\n",
      "COUNT_QUERY_WITHOUT_RESULT: 0\n",
      "COUNT_QUERY_NOT_FOUND: 0\n",
      "RANK1_MEAN: 1.5\n",
      "NDCG@5_MEAN: 67.961\n",
      "NDCG@10_MEAN: 63.607\n",
      "NDCG@15_MEAN: 67.196\n",
      "NDCG@20_MEAN: 69.585\n",
      "PRECISION@50_MEAN: 14.44\n",
      "PRECISION@100_MEAN: 7.46\n",
      "RECALL@50_MEAN: 84.765\n",
      "RECALL@100_MEAN: 87.668\n",
      "TIME_SPENT_MEAN: 1.062\n",
      "==8==  2023-Jun-29 07:31:53 \n",
      "Experiment: {'TOPK_RETRIEVER': 300, 'TOPK_RANKER': 0, 'EXPANSOR_CRITERIA': 'join_30_ptt5_base', 'INDEX_NAME': 'indir_juris_tcu', 'PIPE': {'PIPE_OBJECT': <haystack.pipelines.base.Pipeline object at 0x7f67bec96610>, 'RETRIEVER_TYPE': 'bm25', 'RANKER_TYPE': 'PTT5_BASE', 'RETRIEVER_MODEL_NAME': ''}, 'COLUMN_NAME': '7'}\n",
      "Experimento envolverá 150 registros, toda a base de dados\n"
     ]
    },
    {
     "name": "stderr",
     "output_type": "stream",
     "text": [
      "100%|██████████| 150/150 [02:42<00:00,  1.08s/it]\n"
     ]
    },
    {
     "name": "stdout",
     "output_type": "stream",
     "text": [
      "COLUMN_NAME: 7\n",
      "COUNT_QUERY_RUN: 150\n",
      "EXPANSOR_CRITERIA: join_30_ptt5_base\n",
      "COUNT_QUERY_WITHOUT_RESULT: 0\n",
      "COUNT_QUERY_NOT_FOUND: 1\n",
      "RANK1_MEAN: 1.503\n",
      "NDCG@5_MEAN: 67.763\n",
      "NDCG@10_MEAN: 63.493\n",
      "NDCG@15_MEAN: 67.006\n",
      "NDCG@20_MEAN: 69.212\n",
      "PRECISION@50_MEAN: 14.187\n",
      "PRECISION@100_MEAN: 7.36\n",
      "RECALL@50_MEAN: 83.468\n",
      "RECALL@100_MEAN: 86.667\n",
      "TIME_SPENT_MEAN: 1.083\n",
      "==9==  2023-Jun-29 07:34:38 \n",
      "Experiment: {'TOPK_RETRIEVER': 300, 'TOPK_RANKER': 0, 'EXPANSOR_CRITERIA': 'join_30_ptt5_base', 'INDEX_NAME': 'indir_juris_tcu', 'PIPE': {'PIPE_OBJECT': <haystack.pipelines.base.Pipeline object at 0x7f67bec96610>, 'RETRIEVER_TYPE': 'bm25', 'RANKER_TYPE': 'PTT5_BASE', 'RETRIEVER_MODEL_NAME': ''}, 'COLUMN_NAME': '8'}\n",
      "Experimento envolverá 150 registros, toda a base de dados\n"
     ]
    },
    {
     "name": "stderr",
     "output_type": "stream",
     "text": [
      "100%|██████████| 150/150 [02:46<00:00,  1.11s/it]\n"
     ]
    },
    {
     "name": "stdout",
     "output_type": "stream",
     "text": [
      "COLUMN_NAME: 8\n",
      "COUNT_QUERY_RUN: 150\n",
      "EXPANSOR_CRITERIA: join_30_ptt5_base\n",
      "COUNT_QUERY_WITHOUT_RESULT: 0\n",
      "COUNT_QUERY_NOT_FOUND: 1\n",
      "RANK1_MEAN: 1.691\n",
      "NDCG@5_MEAN: 65.789\n",
      "NDCG@10_MEAN: 62.886\n",
      "NDCG@15_MEAN: 66.404\n",
      "NDCG@20_MEAN: 68.265\n",
      "PRECISION@50_MEAN: 14.107\n",
      "PRECISION@100_MEAN: 7.3\n",
      "RECALL@50_MEAN: 83.086\n",
      "RECALL@100_MEAN: 86.133\n",
      "TIME_SPENT_MEAN: 1.108\n",
      "==10==  2023-Jun-29 07:37:27 \n",
      "Experiment: {'TOPK_RETRIEVER': 300, 'TOPK_RANKER': 0, 'EXPANSOR_CRITERIA': 'join_30_ptt5_base', 'INDEX_NAME': 'indir_juris_tcu', 'PIPE': {'PIPE_OBJECT': <haystack.pipelines.base.Pipeline object at 0x7f67bec96610>, 'RETRIEVER_TYPE': 'bm25', 'RANKER_TYPE': 'PTT5_BASE', 'RETRIEVER_MODEL_NAME': ''}, 'COLUMN_NAME': '9'}\n",
      "Experimento envolverá 150 registros, toda a base de dados\n"
     ]
    },
    {
     "name": "stderr",
     "output_type": "stream",
     "text": [
      "100%|██████████| 150/150 [02:49<00:00,  1.13s/it]\n"
     ]
    },
    {
     "name": "stdout",
     "output_type": "stream",
     "text": [
      "COLUMN_NAME: 9\n",
      "COUNT_QUERY_RUN: 150\n",
      "EXPANSOR_CRITERIA: join_30_ptt5_base\n",
      "COUNT_QUERY_WITHOUT_RESULT: 0\n",
      "COUNT_QUERY_NOT_FOUND: 1\n",
      "RANK1_MEAN: 1.658\n",
      "NDCG@5_MEAN: 65.182\n",
      "NDCG@10_MEAN: 62.634\n",
      "NDCG@15_MEAN: 66.05\n",
      "NDCG@20_MEAN: 68.279\n",
      "PRECISION@50_MEAN: 14.067\n",
      "PRECISION@100_MEAN: 7.287\n",
      "RECALL@50_MEAN: 82.78\n",
      "RECALL@100_MEAN: 85.908\n",
      "TIME_SPENT_MEAN: 1.133\n",
      "==11==  2023-Jun-29 07:40:19 \n",
      "Experiment: {'TOPK_RETRIEVER': 300, 'TOPK_RANKER': 0, 'EXPANSOR_CRITERIA': '', 'INDEX_NAME': 'indir_juris_tcu', 'PIPE': {'PIPE_OBJECT': <haystack.pipelines.base.Pipeline object at 0x7f67bec96610>, 'RETRIEVER_TYPE': 'bm25', 'RANKER_TYPE': 'PTT5_BASE', 'RETRIEVER_MODEL_NAME': ''}, 'COLUMN_NAME': 'TEXT'}\n",
      "Experimento envolverá 150 registros, toda a base de dados\n"
     ]
    },
    {
     "name": "stderr",
     "output_type": "stream",
     "text": [
      "100%|██████████| 150/150 [02:11<00:00,  1.14it/s]\n"
     ]
    },
    {
     "name": "stdout",
     "output_type": "stream",
     "text": [
      "COLUMN_NAME: TEXT\n",
      "COUNT_QUERY_RUN: 150\n",
      "EXPANSOR_CRITERIA: \n",
      "COUNT_QUERY_WITHOUT_RESULT: 0\n",
      "COUNT_QUERY_NOT_FOUND: 0\n",
      "RANK1_MEAN: 1.147\n",
      "NDCG@5_MEAN: 76.271\n",
      "NDCG@10_MEAN: 72.957\n",
      "NDCG@15_MEAN: 75.535\n",
      "NDCG@20_MEAN: 77.81\n",
      "PRECISION@50_MEAN: 15.507\n",
      "PRECISION@100_MEAN: 7.827\n",
      "RECALL@50_MEAN: 90.356\n",
      "RECALL@100_MEAN: 91.082\n",
      "TIME_SPENT_MEAN: 0.875\n",
      "==12==  2023-Jun-29 07:42:33 \n",
      "Experiment: {'TOPK_RETRIEVER': 300, 'TOPK_RANKER': 0, 'EXPANSOR_CRITERIA': 'join_30_ptt5_base', 'INDEX_NAME': 'indir_juris_tcu_term', 'PIPE': {'PIPE_OBJECT': <haystack.pipelines.base.Pipeline object at 0x7f67c8014110>, 'RETRIEVER_TYPE': 'bm25', 'RANKER_TYPE': 'PTT5_BASE', 'RETRIEVER_MODEL_NAME': ''}, 'COLUMN_NAME': '1'}\n",
      "Experimento envolverá 150 registros, toda a base de dados\n"
     ]
    },
    {
     "name": "stderr",
     "output_type": "stream",
     "text": [
      "100%|██████████| 150/150 [02:36<00:00,  1.04s/it]\n"
     ]
    },
    {
     "name": "stdout",
     "output_type": "stream",
     "text": [
      "COLUMN_NAME: 1\n",
      "COUNT_QUERY_RUN: 150\n",
      "EXPANSOR_CRITERIA: join_30_ptt5_base\n",
      "COUNT_QUERY_WITHOUT_RESULT: 0\n",
      "COUNT_QUERY_NOT_FOUND: 0\n",
      "RANK1_MEAN: 2.187\n",
      "NDCG@5_MEAN: 65.146\n",
      "NDCG@10_MEAN: 62.037\n",
      "NDCG@15_MEAN: 65.509\n",
      "NDCG@20_MEAN: 68.145\n",
      "PRECISION@50_MEAN: 14.88\n",
      "PRECISION@100_MEAN: 7.827\n",
      "RECALL@50_MEAN: 86.908\n",
      "RECALL@100_MEAN: 91.097\n",
      "TIME_SPENT_MEAN: 1.044\n",
      "==13==  2023-Jun-29 07:45:12 \n",
      "Experiment: {'TOPK_RETRIEVER': 300, 'TOPK_RANKER': 0, 'EXPANSOR_CRITERIA': 'join_30_ptt5_base', 'INDEX_NAME': 'indir_juris_tcu_term', 'PIPE': {'PIPE_OBJECT': <haystack.pipelines.base.Pipeline object at 0x7f67c8014110>, 'RETRIEVER_TYPE': 'bm25', 'RANKER_TYPE': 'PTT5_BASE', 'RETRIEVER_MODEL_NAME': ''}, 'COLUMN_NAME': '10'}\n",
      "Experimento envolverá 150 registros, toda a base de dados\n"
     ]
    },
    {
     "name": "stderr",
     "output_type": "stream",
     "text": [
      " 85%|████████▌ | 128/150 [02:42<00:29,  1.34s/it]"
     ]
    }
   ],
   "source": [
    "%%time\n",
    "# colocar pequeno só para testes, depois voltar para 9999999 (número maior do que o número de termos a pesquisar)\n",
    "if consider_run_all:\n",
    "    target_columns = df_search_data.columns.difference(['ID', 'RELEVANCE_DICT', 'SOURCE'])\n",
    "elif consider_query_expanded:\n",
    "    target_columns = df_search_data.columns.difference(['ID', 'RELEVANCE_DICT', 'SOURCE', 'TEXT'])\n",
    "else:\n",
    "    target_columns = ['TEXT']\n",
    "limit_query =  9999999 # 100 # \n",
    "cnt_exec = 0\n",
    "print('target_columns', target_columns)\n",
    "for index_name in pipes.keys():\n",
    "    for pipe in pipes[index_name]:\n",
    "        for cnt, experiment in enumerate(list_experiment):\n",
    "            # raise Exception('false break')            \n",
    "            for column_name in target_columns:\n",
    "                cnt_exec += 1\n",
    "                if column_name == 'TEXT':\n",
    "                    experiment['EXPANSOR_CRITERIA'] = \"\"\n",
    "                else:\n",
    "                    experiment['EXPANSOR_CRITERIA'] = EXPANSOR_CRITERIA\n",
    "                experiment['INDEX_NAME'] = index_name\n",
    "                experiment['PIPE'] = pipe\n",
    "                experiment['COLUMN_NAME'] = column_name\n",
    "                print(f\"=={cnt_exec}==  {time.strftime('%Y-%b-%d %H:%M:%S')} \\nExperiment: {experiment}\")\n",
    "                list_result_experiment = [] # por experiment\n",
    "                result_run = util_experiment.experiment_run(parm_df=df_search_data, \n",
    "                                                        parm_experiment=experiment,\n",
    "                                                        parm_limit_query=limit_query,\n",
    "                                                        parm_print=True)\n",
    "                # raise Exception('false break')\n",
    "                list_result_experiment.append(result_run)\n",
    "                # print(f\"qtd_encontrado sim:{result_run['qtd_encontrado']}, não:{result_run['qtd_nao_encontrado']} ({result_run['percent_nao_encontrado']}%)\")\n",
    "                util_experiment.add_experiment_result(parm_list_result=list_result_experiment, parm_dataset='juris_tcu')\n",
    "                torch.cuda.empty_cache()"
   ]
  },
  {
   "cell_type": "code",
   "execution_count": null,
   "metadata": {},
   "outputs": [],
   "source": []
  },
  {
   "cell_type": "code",
   "execution_count": null,
   "metadata": {},
   "outputs": [
    {
     "name": "stdout",
     "output_type": "stream",
     "text": [
      "target_columns Index(['1', '10', '2', '3', '4', '5', '6', '7', '8', '9', 'TEXT'], dtype='object')\n",
      "==1==  2023-Jun-28 20:24:54 \n",
      "Experiment: {'TOPK_RETRIEVER': 300, 'TOPK_RANKER': 0, 'EXPANSOR_CRITERIA': 'join_30_ptt5_indir', 'INDEX_NAME': 'indir_juris_tcu', 'PIPE': {'PIPE_OBJECT': <haystack.pipelines.base.Pipeline object at 0x7f9828865d90>, 'RETRIEVER_TYPE': 'bm25', 'RANKER_TYPE': 'PTT5_INDIR_83', 'RETRIEVER_MODEL_NAME': ''}, 'COLUMN_NAME': '1'}\n",
      "Experimento envolverá 150 registros, toda a base de dados\n"
     ]
    },
    {
     "name": "stderr",
     "output_type": "stream",
     "text": [
      "100%|██████████| 150/150 [02:17<00:00,  1.09it/s]\n"
     ]
    },
    {
     "name": "stdout",
     "output_type": "stream",
     "text": [
      "COLUMN_NAME: 1\n",
      "COUNT_QUERY_RUN: 150\n",
      "EXPANSOR_CRITERIA: join_30_ptt5_indir\n",
      "COUNT_QUERY_WITHOUT_RESULT: 0\n",
      "COUNT_QUERY_NOT_FOUND: 1\n",
      "RANK1_MEAN: 1.577\n",
      "NDCG@5_MEAN: 67.617\n",
      "NDCG@10_MEAN: 62.691\n",
      "NDCG@15_MEAN: 66.16\n",
      "NDCG@20_MEAN: 69.095\n",
      "PRECISION@50_MEAN: 14.4\n",
      "PRECISION@100_MEAN: 7.58\n",
      "RECALL@50_MEAN: 84.134\n",
      "RECALL@100_MEAN: 88.212\n",
      "TIME_SPENT_MEAN: 0.919\n",
      "==2==  2023-Jun-28 20:27:14 \n",
      "Experiment: {'TOPK_RETRIEVER': 300, 'TOPK_RANKER': 0, 'EXPANSOR_CRITERIA': 'join_30_ptt5_indir', 'INDEX_NAME': 'indir_juris_tcu', 'PIPE': {'PIPE_OBJECT': <haystack.pipelines.base.Pipeline object at 0x7f9828865d90>, 'RETRIEVER_TYPE': 'bm25', 'RANKER_TYPE': 'PTT5_INDIR_83', 'RETRIEVER_MODEL_NAME': ''}, 'COLUMN_NAME': '10'}\n",
      "Experimento envolverá 150 registros, toda a base de dados\n"
     ]
    },
    {
     "name": "stderr",
     "output_type": "stream",
     "text": [
      "100%|██████████| 150/150 [02:43<00:00,  1.09s/it]\n"
     ]
    },
    {
     "name": "stdout",
     "output_type": "stream",
     "text": [
      "COLUMN_NAME: 10\n",
      "COUNT_QUERY_RUN: 150\n",
      "EXPANSOR_CRITERIA: join_30_ptt5_indir\n",
      "COUNT_QUERY_WITHOUT_RESULT: 0\n",
      "COUNT_QUERY_NOT_FOUND: 0\n",
      "RANK1_MEAN: 1.733\n",
      "NDCG@5_MEAN: 64.612\n",
      "NDCG@10_MEAN: 59.627\n",
      "NDCG@15_MEAN: 62.644\n",
      "NDCG@20_MEAN: 65.607\n",
      "PRECISION@50_MEAN: 13.733\n",
      "PRECISION@100_MEAN: 7.32\n",
      "RECALL@50_MEAN: 80.457\n",
      "RECALL@100_MEAN: 85.552\n",
      "TIME_SPENT_MEAN: 1.093\n",
      "==3==  2023-Jun-28 20:30:00 \n",
      "Experiment: {'TOPK_RETRIEVER': 300, 'TOPK_RANKER': 0, 'EXPANSOR_CRITERIA': 'join_30_ptt5_indir', 'INDEX_NAME': 'indir_juris_tcu', 'PIPE': {'PIPE_OBJECT': <haystack.pipelines.base.Pipeline object at 0x7f9828865d90>, 'RETRIEVER_TYPE': 'bm25', 'RANKER_TYPE': 'PTT5_INDIR_83', 'RETRIEVER_MODEL_NAME': ''}, 'COLUMN_NAME': '2'}\n",
      "Experimento envolverá 150 registros, toda a base de dados\n"
     ]
    },
    {
     "name": "stderr",
     "output_type": "stream",
     "text": [
      "100%|██████████| 150/150 [02:23<00:00,  1.05it/s]\n"
     ]
    },
    {
     "name": "stdout",
     "output_type": "stream",
     "text": [
      "COLUMN_NAME: 2\n",
      "COUNT_QUERY_RUN: 150\n",
      "EXPANSOR_CRITERIA: join_30_ptt5_indir\n",
      "COUNT_QUERY_WITHOUT_RESULT: 0\n",
      "COUNT_QUERY_NOT_FOUND: 0\n",
      "RANK1_MEAN: 1.68\n",
      "NDCG@5_MEAN: 66.236\n",
      "NDCG@10_MEAN: 60.85\n",
      "NDCG@15_MEAN: 64.203\n",
      "NDCG@20_MEAN: 67.211\n",
      "PRECISION@50_MEAN: 14.147\n",
      "PRECISION@100_MEAN: 7.453\n",
      "RECALL@50_MEAN: 83.069\n",
      "RECALL@100_MEAN: 87.207\n",
      "TIME_SPENT_MEAN: 0.954\n",
      "==4==  2023-Jun-28 20:32:25 \n",
      "Experiment: {'TOPK_RETRIEVER': 300, 'TOPK_RANKER': 0, 'EXPANSOR_CRITERIA': 'join_30_ptt5_indir', 'INDEX_NAME': 'indir_juris_tcu', 'PIPE': {'PIPE_OBJECT': <haystack.pipelines.base.Pipeline object at 0x7f9828865d90>, 'RETRIEVER_TYPE': 'bm25', 'RANKER_TYPE': 'PTT5_INDIR_83', 'RETRIEVER_MODEL_NAME': ''}, 'COLUMN_NAME': '3'}\n",
      "Experimento envolverá 150 registros, toda a base de dados\n"
     ]
    },
    {
     "name": "stderr",
     "output_type": "stream",
     "text": [
      "100%|██████████| 150/150 [02:27<00:00,  1.02it/s]\n"
     ]
    },
    {
     "name": "stdout",
     "output_type": "stream",
     "text": [
      "COLUMN_NAME: 3\n",
      "COUNT_QUERY_RUN: 150\n",
      "EXPANSOR_CRITERIA: join_30_ptt5_indir\n",
      "COUNT_QUERY_WITHOUT_RESULT: 0\n",
      "COUNT_QUERY_NOT_FOUND: 0\n",
      "RANK1_MEAN: 1.7\n",
      "NDCG@5_MEAN: 65.371\n",
      "NDCG@10_MEAN: 60.989\n",
      "NDCG@15_MEAN: 63.594\n",
      "NDCG@20_MEAN: 66.498\n",
      "PRECISION@50_MEAN: 14.027\n",
      "PRECISION@100_MEAN: 7.413\n",
      "RECALL@50_MEAN: 82.524\n",
      "RECALL@100_MEAN: 86.679\n",
      "TIME_SPENT_MEAN: 0.982\n",
      "==5==  2023-Jun-28 20:34:54 \n",
      "Experiment: {'TOPK_RETRIEVER': 300, 'TOPK_RANKER': 0, 'EXPANSOR_CRITERIA': 'join_30_ptt5_indir', 'INDEX_NAME': 'indir_juris_tcu', 'PIPE': {'PIPE_OBJECT': <haystack.pipelines.base.Pipeline object at 0x7f9828865d90>, 'RETRIEVER_TYPE': 'bm25', 'RANKER_TYPE': 'PTT5_INDIR_83', 'RETRIEVER_MODEL_NAME': ''}, 'COLUMN_NAME': '4'}\n",
      "Experimento envolverá 150 registros, toda a base de dados\n"
     ]
    },
    {
     "name": "stderr",
     "output_type": "stream",
     "text": [
      "100%|██████████| 150/150 [02:30<00:00,  1.00s/it]\n"
     ]
    },
    {
     "name": "stdout",
     "output_type": "stream",
     "text": [
      "COLUMN_NAME: 4\n",
      "COUNT_QUERY_RUN: 150\n",
      "EXPANSOR_CRITERIA: join_30_ptt5_indir\n",
      "COUNT_QUERY_WITHOUT_RESULT: 0\n",
      "COUNT_QUERY_NOT_FOUND: 0\n",
      "RANK1_MEAN: 1.653\n",
      "NDCG@5_MEAN: 65.202\n",
      "NDCG@10_MEAN: 60.844\n",
      "NDCG@15_MEAN: 63.563\n",
      "NDCG@20_MEAN: 65.846\n",
      "PRECISION@50_MEAN: 14.107\n",
      "PRECISION@100_MEAN: 7.453\n",
      "RECALL@50_MEAN: 82.389\n",
      "RECALL@100_MEAN: 86.504\n",
      "TIME_SPENT_MEAN: 1.003\n",
      "==6==  2023-Jun-28 20:37:27 \n",
      "Experiment: {'TOPK_RETRIEVER': 300, 'TOPK_RANKER': 0, 'EXPANSOR_CRITERIA': 'join_30_ptt5_indir', 'INDEX_NAME': 'indir_juris_tcu', 'PIPE': {'PIPE_OBJECT': <haystack.pipelines.base.Pipeline object at 0x7f9828865d90>, 'RETRIEVER_TYPE': 'bm25', 'RANKER_TYPE': 'PTT5_INDIR_83', 'RETRIEVER_MODEL_NAME': ''}, 'COLUMN_NAME': '5'}\n",
      "Experimento envolverá 150 registros, toda a base de dados\n"
     ]
    },
    {
     "name": "stderr",
     "output_type": "stream",
     "text": [
      "100%|██████████| 150/150 [02:33<00:00,  1.03s/it]\n"
     ]
    },
    {
     "name": "stdout",
     "output_type": "stream",
     "text": [
      "COLUMN_NAME: 5\n",
      "COUNT_QUERY_RUN: 150\n",
      "EXPANSOR_CRITERIA: join_30_ptt5_indir\n",
      "COUNT_QUERY_WITHOUT_RESULT: 0\n",
      "COUNT_QUERY_NOT_FOUND: 1\n",
      "RANK1_MEAN: 1.678\n",
      "NDCG@5_MEAN: 64.524\n",
      "NDCG@10_MEAN: 59.71\n",
      "NDCG@15_MEAN: 63.188\n",
      "NDCG@20_MEAN: 65.417\n",
      "PRECISION@50_MEAN: 13.907\n",
      "PRECISION@100_MEAN: 7.38\n",
      "RECALL@50_MEAN: 81.115\n",
      "RECALL@100_MEAN: 86.029\n",
      "TIME_SPENT_MEAN: 1.026\n",
      "==7==  2023-Jun-28 20:40:03 \n",
      "Experiment: {'TOPK_RETRIEVER': 300, 'TOPK_RANKER': 0, 'EXPANSOR_CRITERIA': 'join_30_ptt5_indir', 'INDEX_NAME': 'indir_juris_tcu', 'PIPE': {'PIPE_OBJECT': <haystack.pipelines.base.Pipeline object at 0x7f9828865d90>, 'RETRIEVER_TYPE': 'bm25', 'RANKER_TYPE': 'PTT5_INDIR_83', 'RETRIEVER_MODEL_NAME': ''}, 'COLUMN_NAME': '6'}\n",
      "Experimento envolverá 150 registros, toda a base de dados\n"
     ]
    },
    {
     "name": "stderr",
     "output_type": "stream",
     "text": [
      "100%|██████████| 150/150 [02:36<00:00,  1.04s/it]\n"
     ]
    },
    {
     "name": "stdout",
     "output_type": "stream",
     "text": [
      "COLUMN_NAME: 6\n",
      "COUNT_QUERY_RUN: 150\n",
      "EXPANSOR_CRITERIA: join_30_ptt5_indir\n",
      "COUNT_QUERY_WITHOUT_RESULT: 0\n",
      "COUNT_QUERY_NOT_FOUND: 0\n",
      "RANK1_MEAN: 1.593\n",
      "NDCG@5_MEAN: 63.757\n",
      "NDCG@10_MEAN: 59.62\n",
      "NDCG@15_MEAN: 62.12\n",
      "NDCG@20_MEAN: 65.284\n",
      "PRECISION@50_MEAN: 13.747\n",
      "PRECISION@100_MEAN: 7.24\n",
      "RECALL@50_MEAN: 80.105\n",
      "RECALL@100_MEAN: 84.426\n",
      "TIME_SPENT_MEAN: 1.043\n",
      "==8==  2023-Jun-28 20:42:41 \n",
      "Experiment: {'TOPK_RETRIEVER': 300, 'TOPK_RANKER': 0, 'EXPANSOR_CRITERIA': 'join_30_ptt5_indir', 'INDEX_NAME': 'indir_juris_tcu', 'PIPE': {'PIPE_OBJECT': <haystack.pipelines.base.Pipeline object at 0x7f9828865d90>, 'RETRIEVER_TYPE': 'bm25', 'RANKER_TYPE': 'PTT5_INDIR_83', 'RETRIEVER_MODEL_NAME': ''}, 'COLUMN_NAME': '7'}\n",
      "Experimento envolverá 150 registros, toda a base de dados\n"
     ]
    },
    {
     "name": "stderr",
     "output_type": "stream",
     "text": [
      "100%|██████████| 150/150 [02:40<00:00,  1.07s/it]\n"
     ]
    },
    {
     "name": "stdout",
     "output_type": "stream",
     "text": [
      "COLUMN_NAME: 7\n",
      "COUNT_QUERY_RUN: 150\n",
      "EXPANSOR_CRITERIA: join_30_ptt5_indir\n",
      "COUNT_QUERY_WITHOUT_RESULT: 0\n",
      "COUNT_QUERY_NOT_FOUND: 1\n",
      "RANK1_MEAN: 1.812\n",
      "NDCG@5_MEAN: 63.786\n",
      "NDCG@10_MEAN: 59.759\n",
      "NDCG@15_MEAN: 62.472\n",
      "NDCG@20_MEAN: 65.144\n",
      "PRECISION@50_MEAN: 13.787\n",
      "PRECISION@100_MEAN: 7.293\n",
      "RECALL@50_MEAN: 80.641\n",
      "RECALL@100_MEAN: 85.203\n",
      "TIME_SPENT_MEAN: 1.069\n",
      "==9==  2023-Jun-28 20:45:24 \n",
      "Experiment: {'TOPK_RETRIEVER': 300, 'TOPK_RANKER': 0, 'EXPANSOR_CRITERIA': 'join_30_ptt5_indir', 'INDEX_NAME': 'indir_juris_tcu', 'PIPE': {'PIPE_OBJECT': <haystack.pipelines.base.Pipeline object at 0x7f9828865d90>, 'RETRIEVER_TYPE': 'bm25', 'RANKER_TYPE': 'PTT5_INDIR_83', 'RETRIEVER_MODEL_NAME': ''}, 'COLUMN_NAME': '8'}\n",
      "Experimento envolverá 150 registros, toda a base de dados\n"
     ]
    },
    {
     "name": "stderr",
     "output_type": "stream",
     "text": [
      "100%|██████████| 150/150 [02:42<00:00,  1.08s/it]\n"
     ]
    },
    {
     "name": "stdout",
     "output_type": "stream",
     "text": [
      "COLUMN_NAME: 8\n",
      "COUNT_QUERY_RUN: 150\n",
      "EXPANSOR_CRITERIA: join_30_ptt5_indir\n",
      "COUNT_QUERY_WITHOUT_RESULT: 0\n",
      "COUNT_QUERY_NOT_FOUND: 0\n",
      "RANK1_MEAN: 1.833\n",
      "NDCG@5_MEAN: 64.141\n",
      "NDCG@10_MEAN: 59.738\n",
      "NDCG@15_MEAN: 62.713\n",
      "NDCG@20_MEAN: 65.492\n",
      "PRECISION@50_MEAN: 13.853\n",
      "PRECISION@100_MEAN: 7.333\n",
      "RECALL@50_MEAN: 81.082\n",
      "RECALL@100_MEAN: 85.703\n",
      "TIME_SPENT_MEAN: 1.083\n",
      "==10==  2023-Jun-28 20:48:08 \n",
      "Experiment: {'TOPK_RETRIEVER': 300, 'TOPK_RANKER': 0, 'EXPANSOR_CRITERIA': 'join_30_ptt5_indir', 'INDEX_NAME': 'indir_juris_tcu', 'PIPE': {'PIPE_OBJECT': <haystack.pipelines.base.Pipeline object at 0x7f9828865d90>, 'RETRIEVER_TYPE': 'bm25', 'RANKER_TYPE': 'PTT5_INDIR_83', 'RETRIEVER_MODEL_NAME': ''}, 'COLUMN_NAME': '9'}\n",
      "Experimento envolverá 150 registros, toda a base de dados\n"
     ]
    },
    {
     "name": "stderr",
     "output_type": "stream",
     "text": [
      "100%|██████████| 150/150 [02:44<00:00,  1.09s/it]\n"
     ]
    },
    {
     "name": "stdout",
     "output_type": "stream",
     "text": [
      "COLUMN_NAME: 9\n",
      "COUNT_QUERY_RUN: 150\n",
      "EXPANSOR_CRITERIA: join_30_ptt5_indir\n",
      "COUNT_QUERY_WITHOUT_RESULT: 0\n",
      "COUNT_QUERY_NOT_FOUND: 0\n",
      "RANK1_MEAN: 1.72\n",
      "NDCG@5_MEAN: 64.552\n",
      "NDCG@10_MEAN: 59.741\n",
      "NDCG@15_MEAN: 62.839\n",
      "NDCG@20_MEAN: 65.758\n",
      "PRECISION@50_MEAN: 13.773\n",
      "PRECISION@100_MEAN: 7.347\n",
      "RECALL@50_MEAN: 80.645\n",
      "RECALL@100_MEAN: 85.812\n",
      "TIME_SPENT_MEAN: 1.095\n",
      "==11==  2023-Jun-28 20:50:55 \n",
      "Experiment: {'TOPK_RETRIEVER': 300, 'TOPK_RANKER': 0, 'EXPANSOR_CRITERIA': '', 'INDEX_NAME': 'indir_juris_tcu', 'PIPE': {'PIPE_OBJECT': <haystack.pipelines.base.Pipeline object at 0x7f9828865d90>, 'RETRIEVER_TYPE': 'bm25', 'RANKER_TYPE': 'PTT5_INDIR_83', 'RETRIEVER_MODEL_NAME': ''}, 'COLUMN_NAME': 'TEXT'}\n",
      "Experimento envolverá 150 registros, toda a base de dados\n"
     ]
    },
    {
     "name": "stderr",
     "output_type": "stream",
     "text": [
      "100%|██████████| 150/150 [02:12<00:00,  1.13it/s]\n"
     ]
    },
    {
     "name": "stdout",
     "output_type": "stream",
     "text": [
      "COLUMN_NAME: TEXT\n",
      "COUNT_QUERY_RUN: 150\n",
      "EXPANSOR_CRITERIA: \n",
      "COUNT_QUERY_WITHOUT_RESULT: 0\n",
      "COUNT_QUERY_NOT_FOUND: 0\n",
      "RANK1_MEAN: 1.22\n",
      "NDCG@5_MEAN: 71.636\n",
      "NDCG@10_MEAN: 67.377\n",
      "NDCG@15_MEAN: 70.425\n",
      "NDCG@20_MEAN: 73.013\n",
      "PRECISION@50_MEAN: 15.173\n",
      "PRECISION@100_MEAN: 7.833\n",
      "RECALL@50_MEAN: 88.377\n",
      "RECALL@100_MEAN: 91.108\n",
      "TIME_SPENT_MEAN: 0.881\n",
      "==12==  2023-Jun-28 20:53:09 \n",
      "Experiment: {'TOPK_RETRIEVER': 300, 'TOPK_RANKER': 0, 'EXPANSOR_CRITERIA': 'join_30_ptt5_indir', 'INDEX_NAME': 'indir_juris_tcu_term', 'PIPE': {'PIPE_OBJECT': <haystack.pipelines.base.Pipeline object at 0x7f9829596490>, 'RETRIEVER_TYPE': 'bm25', 'RANKER_TYPE': 'PTT5_INDIR_83', 'RETRIEVER_MODEL_NAME': ''}, 'COLUMN_NAME': '1'}\n",
      "Experimento envolverá 150 registros, toda a base de dados\n"
     ]
    },
    {
     "name": "stderr",
     "output_type": "stream",
     "text": [
      "100%|██████████| 150/150 [02:38<00:00,  1.05s/it]\n"
     ]
    },
    {
     "name": "stdout",
     "output_type": "stream",
     "text": [
      "COLUMN_NAME: 1\n",
      "COUNT_QUERY_RUN: 150\n",
      "EXPANSOR_CRITERIA: join_30_ptt5_indir\n",
      "COUNT_QUERY_WITHOUT_RESULT: 0\n",
      "COUNT_QUERY_NOT_FOUND: 0\n",
      "RANK1_MEAN: 2.167\n",
      "NDCG@5_MEAN: 63.984\n",
      "NDCG@10_MEAN: 60.213\n",
      "NDCG@15_MEAN: 63.686\n",
      "NDCG@20_MEAN: 66.139\n",
      "PRECISION@50_MEAN: 14.413\n",
      "PRECISION@100_MEAN: 7.753\n",
      "RECALL@50_MEAN: 84.24\n",
      "RECALL@100_MEAN: 90.147\n",
      "TIME_SPENT_MEAN: 1.054\n",
      "==13==  2023-Jun-28 20:55:49 \n",
      "Experiment: {'TOPK_RETRIEVER': 300, 'TOPK_RANKER': 0, 'EXPANSOR_CRITERIA': 'join_30_ptt5_indir', 'INDEX_NAME': 'indir_juris_tcu_term', 'PIPE': {'PIPE_OBJECT': <haystack.pipelines.base.Pipeline object at 0x7f9829596490>, 'RETRIEVER_TYPE': 'bm25', 'RANKER_TYPE': 'PTT5_INDIR_83', 'RETRIEVER_MODEL_NAME': ''}, 'COLUMN_NAME': '10'}\n",
      "Experimento envolverá 150 registros, toda a base de dados\n"
     ]
    },
    {
     "name": "stderr",
     "output_type": "stream",
     "text": [
      "100%|██████████| 150/150 [03:05<00:00,  1.24s/it]\n"
     ]
    },
    {
     "name": "stdout",
     "output_type": "stream",
     "text": [
      "COLUMN_NAME: 10\n",
      "COUNT_QUERY_RUN: 150\n",
      "EXPANSOR_CRITERIA: join_30_ptt5_indir\n",
      "COUNT_QUERY_WITHOUT_RESULT: 0\n",
      "COUNT_QUERY_NOT_FOUND: 0\n",
      "RANK1_MEAN: 2.24\n",
      "NDCG@5_MEAN: 61.288\n",
      "NDCG@10_MEAN: 56.704\n",
      "NDCG@15_MEAN: 59.481\n",
      "NDCG@20_MEAN: 61.852\n",
      "PRECISION@50_MEAN: 13.987\n",
      "PRECISION@100_MEAN: 7.547\n",
      "RECALL@50_MEAN: 82.224\n",
      "RECALL@100_MEAN: 88.184\n",
      "TIME_SPENT_MEAN: 1.237\n",
      "==14==  2023-Jun-28 20:58:57 \n",
      "Experiment: {'TOPK_RETRIEVER': 300, 'TOPK_RANKER': 0, 'EXPANSOR_CRITERIA': 'join_30_ptt5_indir', 'INDEX_NAME': 'indir_juris_tcu_term', 'PIPE': {'PIPE_OBJECT': <haystack.pipelines.base.Pipeline object at 0x7f9829596490>, 'RETRIEVER_TYPE': 'bm25', 'RANKER_TYPE': 'PTT5_INDIR_83', 'RETRIEVER_MODEL_NAME': ''}, 'COLUMN_NAME': '2'}\n",
      "Experimento envolverá 150 registros, toda a base de dados\n"
     ]
    },
    {
     "name": "stderr",
     "output_type": "stream",
     "text": [
      "100%|██████████| 150/150 [02:43<00:00,  1.09s/it]\n"
     ]
    },
    {
     "name": "stdout",
     "output_type": "stream",
     "text": [
      "COLUMN_NAME: 2\n",
      "COUNT_QUERY_RUN: 150\n",
      "EXPANSOR_CRITERIA: join_30_ptt5_indir\n",
      "COUNT_QUERY_WITHOUT_RESULT: 0\n",
      "COUNT_QUERY_NOT_FOUND: 0\n",
      "RANK1_MEAN: 2.107\n",
      "NDCG@5_MEAN: 63.585\n",
      "NDCG@10_MEAN: 59.331\n",
      "NDCG@15_MEAN: 62.212\n",
      "NDCG@20_MEAN: 64.876\n",
      "PRECISION@50_MEAN: 14.16\n",
      "PRECISION@100_MEAN: 7.567\n",
      "RECALL@50_MEAN: 83.395\n",
      "RECALL@100_MEAN: 88.728\n",
      "TIME_SPENT_MEAN: 1.087\n",
      "==15==  2023-Jun-28 21:01:43 \n",
      "Experiment: {'TOPK_RETRIEVER': 300, 'TOPK_RANKER': 0, 'EXPANSOR_CRITERIA': 'join_30_ptt5_indir', 'INDEX_NAME': 'indir_juris_tcu_term', 'PIPE': {'PIPE_OBJECT': <haystack.pipelines.base.Pipeline object at 0x7f9829596490>, 'RETRIEVER_TYPE': 'bm25', 'RANKER_TYPE': 'PTT5_INDIR_83', 'RETRIEVER_MODEL_NAME': ''}, 'COLUMN_NAME': '3'}\n",
      "Experimento envolverá 150 registros, toda a base de dados\n"
     ]
    },
    {
     "name": "stderr",
     "output_type": "stream",
     "text": [
      "100%|██████████| 150/150 [02:46<00:00,  1.11s/it]\n"
     ]
    },
    {
     "name": "stdout",
     "output_type": "stream",
     "text": [
      "COLUMN_NAME: 3\n",
      "COUNT_QUERY_RUN: 150\n",
      "EXPANSOR_CRITERIA: join_30_ptt5_indir\n",
      "COUNT_QUERY_WITHOUT_RESULT: 0\n",
      "COUNT_QUERY_NOT_FOUND: 0\n",
      "RANK1_MEAN: 2.093\n",
      "NDCG@5_MEAN: 62.675\n",
      "NDCG@10_MEAN: 57.796\n",
      "NDCG@15_MEAN: 61.535\n",
      "NDCG@20_MEAN: 64.05\n",
      "PRECISION@50_MEAN: 14.0\n",
      "PRECISION@100_MEAN: 7.547\n",
      "RECALL@50_MEAN: 82.306\n",
      "RECALL@100_MEAN: 88.413\n",
      "TIME_SPENT_MEAN: 1.111\n",
      "==16==  2023-Jun-28 21:04:31 \n",
      "Experiment: {'TOPK_RETRIEVER': 300, 'TOPK_RANKER': 0, 'EXPANSOR_CRITERIA': 'join_30_ptt5_indir', 'INDEX_NAME': 'indir_juris_tcu_term', 'PIPE': {'PIPE_OBJECT': <haystack.pipelines.base.Pipeline object at 0x7f9829596490>, 'RETRIEVER_TYPE': 'bm25', 'RANKER_TYPE': 'PTT5_INDIR_83', 'RETRIEVER_MODEL_NAME': ''}, 'COLUMN_NAME': '4'}\n",
      "Experimento envolverá 150 registros, toda a base de dados\n"
     ]
    },
    {
     "name": "stderr",
     "output_type": "stream",
     "text": [
      "100%|██████████| 150/150 [02:50<00:00,  1.13s/it]\n"
     ]
    },
    {
     "name": "stdout",
     "output_type": "stream",
     "text": [
      "COLUMN_NAME: 4\n",
      "COUNT_QUERY_RUN: 150\n",
      "EXPANSOR_CRITERIA: join_30_ptt5_indir\n",
      "COUNT_QUERY_WITHOUT_RESULT: 0\n",
      "COUNT_QUERY_NOT_FOUND: 0\n",
      "RANK1_MEAN: 2.02\n",
      "NDCG@5_MEAN: 62.199\n",
      "NDCG@10_MEAN: 57.418\n",
      "NDCG@15_MEAN: 60.699\n",
      "NDCG@20_MEAN: 63.836\n",
      "PRECISION@50_MEAN: 14.0\n",
      "PRECISION@100_MEAN: 7.473\n",
      "RECALL@50_MEAN: 82.45\n",
      "RECALL@100_MEAN: 87.64\n",
      "TIME_SPENT_MEAN: 1.133\n",
      "==17==  2023-Jun-28 21:07:24 \n",
      "Experiment: {'TOPK_RETRIEVER': 300, 'TOPK_RANKER': 0, 'EXPANSOR_CRITERIA': 'join_30_ptt5_indir', 'INDEX_NAME': 'indir_juris_tcu_term', 'PIPE': {'PIPE_OBJECT': <haystack.pipelines.base.Pipeline object at 0x7f9829596490>, 'RETRIEVER_TYPE': 'bm25', 'RANKER_TYPE': 'PTT5_INDIR_83', 'RETRIEVER_MODEL_NAME': ''}, 'COLUMN_NAME': '5'}\n",
      "Experimento envolverá 150 registros, toda a base de dados\n"
     ]
    },
    {
     "name": "stderr",
     "output_type": "stream",
     "text": [
      "100%|██████████| 150/150 [02:53<00:00,  1.16s/it]\n"
     ]
    },
    {
     "name": "stdout",
     "output_type": "stream",
     "text": [
      "COLUMN_NAME: 5\n",
      "COUNT_QUERY_RUN: 150\n",
      "EXPANSOR_CRITERIA: join_30_ptt5_indir\n",
      "COUNT_QUERY_WITHOUT_RESULT: 0\n",
      "COUNT_QUERY_NOT_FOUND: 1\n",
      "RANK1_MEAN: 2.181\n",
      "NDCG@5_MEAN: 60.483\n",
      "NDCG@10_MEAN: 56.305\n",
      "NDCG@15_MEAN: 59.128\n",
      "NDCG@20_MEAN: 62.349\n",
      "PRECISION@50_MEAN: 13.84\n",
      "PRECISION@100_MEAN: 7.493\n",
      "RECALL@50_MEAN: 81.339\n",
      "RECALL@100_MEAN: 87.929\n",
      "TIME_SPENT_MEAN: 1.157\n",
      "==18==  2023-Jun-28 21:10:19 \n",
      "Experiment: {'TOPK_RETRIEVER': 300, 'TOPK_RANKER': 0, 'EXPANSOR_CRITERIA': 'join_30_ptt5_indir', 'INDEX_NAME': 'indir_juris_tcu_term', 'PIPE': {'PIPE_OBJECT': <haystack.pipelines.base.Pipeline object at 0x7f9829596490>, 'RETRIEVER_TYPE': 'bm25', 'RANKER_TYPE': 'PTT5_INDIR_83', 'RETRIEVER_MODEL_NAME': ''}, 'COLUMN_NAME': '6'}\n",
      "Experimento envolverá 150 registros, toda a base de dados\n"
     ]
    },
    {
     "name": "stderr",
     "output_type": "stream",
     "text": [
      "100%|██████████| 150/150 [02:57<00:00,  1.18s/it]\n"
     ]
    },
    {
     "name": "stdout",
     "output_type": "stream",
     "text": [
      "COLUMN_NAME: 6\n",
      "COUNT_QUERY_RUN: 150\n",
      "EXPANSOR_CRITERIA: join_30_ptt5_indir\n",
      "COUNT_QUERY_WITHOUT_RESULT: 0\n",
      "COUNT_QUERY_NOT_FOUND: 0\n",
      "RANK1_MEAN: 1.98\n",
      "NDCG@5_MEAN: 60.526\n",
      "NDCG@10_MEAN: 56.451\n",
      "NDCG@15_MEAN: 59.359\n",
      "NDCG@20_MEAN: 62.437\n",
      "PRECISION@50_MEAN: 13.96\n",
      "PRECISION@100_MEAN: 7.507\n",
      "RECALL@50_MEAN: 82.037\n",
      "RECALL@100_MEAN: 87.762\n",
      "TIME_SPENT_MEAN: 1.184\n",
      "==19==  2023-Jun-28 21:13:19 \n",
      "Experiment: {'TOPK_RETRIEVER': 300, 'TOPK_RANKER': 0, 'EXPANSOR_CRITERIA': 'join_30_ptt5_indir', 'INDEX_NAME': 'indir_juris_tcu_term', 'PIPE': {'PIPE_OBJECT': <haystack.pipelines.base.Pipeline object at 0x7f9829596490>, 'RETRIEVER_TYPE': 'bm25', 'RANKER_TYPE': 'PTT5_INDIR_83', 'RETRIEVER_MODEL_NAME': ''}, 'COLUMN_NAME': '7'}\n",
      "Experimento envolverá 150 registros, toda a base de dados\n"
     ]
    },
    {
     "name": "stderr",
     "output_type": "stream",
     "text": [
      "100%|██████████| 150/150 [03:01<00:00,  1.21s/it]\n"
     ]
    },
    {
     "name": "stdout",
     "output_type": "stream",
     "text": [
      "COLUMN_NAME: 7\n",
      "COUNT_QUERY_RUN: 150\n",
      "EXPANSOR_CRITERIA: join_30_ptt5_indir\n",
      "COUNT_QUERY_WITHOUT_RESULT: 0\n",
      "COUNT_QUERY_NOT_FOUND: 0\n",
      "RANK1_MEAN: 2.013\n",
      "NDCG@5_MEAN: 60.919\n",
      "NDCG@10_MEAN: 56.815\n",
      "NDCG@15_MEAN: 59.688\n",
      "NDCG@20_MEAN: 62.163\n",
      "PRECISION@50_MEAN: 13.893\n",
      "PRECISION@100_MEAN: 7.527\n",
      "RECALL@50_MEAN: 81.625\n",
      "RECALL@100_MEAN: 87.908\n",
      "TIME_SPENT_MEAN: 1.208\n",
      "==20==  2023-Jun-28 21:16:22 \n",
      "Experiment: {'TOPK_RETRIEVER': 300, 'TOPK_RANKER': 0, 'EXPANSOR_CRITERIA': 'join_30_ptt5_indir', 'INDEX_NAME': 'indir_juris_tcu_term', 'PIPE': {'PIPE_OBJECT': <haystack.pipelines.base.Pipeline object at 0x7f9829596490>, 'RETRIEVER_TYPE': 'bm25', 'RANKER_TYPE': 'PTT5_INDIR_83', 'RETRIEVER_MODEL_NAME': ''}, 'COLUMN_NAME': '8'}\n",
      "Experimento envolverá 150 registros, toda a base de dados\n"
     ]
    },
    {
     "name": "stderr",
     "output_type": "stream",
     "text": [
      "100%|██████████| 150/150 [03:03<00:00,  1.22s/it]\n"
     ]
    },
    {
     "name": "stdout",
     "output_type": "stream",
     "text": [
      "COLUMN_NAME: 8\n",
      "COUNT_QUERY_RUN: 150\n",
      "EXPANSOR_CRITERIA: join_30_ptt5_indir\n",
      "COUNT_QUERY_WITHOUT_RESULT: 0\n",
      "COUNT_QUERY_NOT_FOUND: 0\n",
      "RANK1_MEAN: 2.027\n",
      "NDCG@5_MEAN: 61.613\n",
      "NDCG@10_MEAN: 57.228\n",
      "NDCG@15_MEAN: 59.973\n",
      "NDCG@20_MEAN: 62.626\n",
      "PRECISION@50_MEAN: 13.973\n",
      "PRECISION@100_MEAN: 7.513\n",
      "RECALL@50_MEAN: 82.128\n",
      "RECALL@100_MEAN: 87.827\n",
      "TIME_SPENT_MEAN: 1.225\n",
      "==21==  2023-Jun-28 21:19:28 \n",
      "Experiment: {'TOPK_RETRIEVER': 300, 'TOPK_RANKER': 0, 'EXPANSOR_CRITERIA': 'join_30_ptt5_indir', 'INDEX_NAME': 'indir_juris_tcu_term', 'PIPE': {'PIPE_OBJECT': <haystack.pipelines.base.Pipeline object at 0x7f9829596490>, 'RETRIEVER_TYPE': 'bm25', 'RANKER_TYPE': 'PTT5_INDIR_83', 'RETRIEVER_MODEL_NAME': ''}, 'COLUMN_NAME': '9'}\n",
      "Experimento envolverá 150 registros, toda a base de dados\n"
     ]
    },
    {
     "name": "stderr",
     "output_type": "stream",
     "text": [
      "100%|██████████| 150/150 [03:05<00:00,  1.24s/it]\n"
     ]
    },
    {
     "name": "stdout",
     "output_type": "stream",
     "text": [
      "COLUMN_NAME: 9\n",
      "COUNT_QUERY_RUN: 150\n",
      "EXPANSOR_CRITERIA: join_30_ptt5_indir\n",
      "COUNT_QUERY_WITHOUT_RESULT: 0\n",
      "COUNT_QUERY_NOT_FOUND: 0\n",
      "RANK1_MEAN: 2.227\n",
      "NDCG@5_MEAN: 61.27\n",
      "NDCG@10_MEAN: 56.758\n",
      "NDCG@15_MEAN: 59.423\n",
      "NDCG@20_MEAN: 62.015\n",
      "PRECISION@50_MEAN: 14.0\n",
      "PRECISION@100_MEAN: 7.527\n",
      "RECALL@50_MEAN: 82.285\n",
      "RECALL@100_MEAN: 87.989\n",
      "TIME_SPENT_MEAN: 1.236\n",
      "==22==  2023-Jun-28 21:22:36 \n",
      "Experiment: {'TOPK_RETRIEVER': 300, 'TOPK_RANKER': 0, 'EXPANSOR_CRITERIA': '', 'INDEX_NAME': 'indir_juris_tcu_term', 'PIPE': {'PIPE_OBJECT': <haystack.pipelines.base.Pipeline object at 0x7f9829596490>, 'RETRIEVER_TYPE': 'bm25', 'RANKER_TYPE': 'PTT5_INDIR_83', 'RETRIEVER_MODEL_NAME': ''}, 'COLUMN_NAME': 'TEXT'}\n",
      "Experimento envolverá 150 registros, toda a base de dados\n"
     ]
    },
    {
     "name": "stderr",
     "output_type": "stream",
     "text": [
      "100%|██████████| 150/150 [02:35<00:00,  1.03s/it]\n"
     ]
    },
    {
     "name": "stdout",
     "output_type": "stream",
     "text": [
      "COLUMN_NAME: TEXT\n",
      "COUNT_QUERY_RUN: 150\n",
      "EXPANSOR_CRITERIA: \n",
      "COUNT_QUERY_WITHOUT_RESULT: 0\n",
      "COUNT_QUERY_NOT_FOUND: 0\n",
      "RANK1_MEAN: 1.413\n",
      "NDCG@5_MEAN: 67.473\n",
      "NDCG@10_MEAN: 64.212\n",
      "NDCG@15_MEAN: 67.684\n",
      "NDCG@20_MEAN: 70.266\n",
      "PRECISION@50_MEAN: 15.28\n",
      "PRECISION@100_MEAN: 7.94\n",
      "RECALL@50_MEAN: 88.869\n",
      "RECALL@100_MEAN: 92.176\n",
      "TIME_SPENT_MEAN: 1.035\n",
      "==23==  2023-Jun-28 21:25:13 \n",
      "Experiment: {'TOPK_RETRIEVER': 300, 'TOPK_RANKER': 0, 'EXPANSOR_CRITERIA': 'join_30_ptt5_indir', 'INDEX_NAME': 'indir_juris_tcu_synonym', 'PIPE': {'PIPE_OBJECT': <haystack.pipelines.base.Pipeline object at 0x7f982947b3d0>, 'RETRIEVER_TYPE': 'bm25', 'RANKER_TYPE': 'PTT5_INDIR_83', 'RETRIEVER_MODEL_NAME': ''}, 'COLUMN_NAME': '1'}\n",
      "Experimento envolverá 150 registros, toda a base de dados\n"
     ]
    },
    {
     "name": "stderr",
     "output_type": "stream",
     "text": [
      "100%|██████████| 150/150 [03:53<00:00,  1.56s/it]\n"
     ]
    },
    {
     "name": "stdout",
     "output_type": "stream",
     "text": [
      "COLUMN_NAME: 1\n",
      "COUNT_QUERY_RUN: 150\n",
      "EXPANSOR_CRITERIA: join_30_ptt5_indir\n",
      "COUNT_QUERY_WITHOUT_RESULT: 0\n",
      "COUNT_QUERY_NOT_FOUND: 0\n",
      "RANK1_MEAN: 3.1\n",
      "NDCG@5_MEAN: 55.303\n",
      "NDCG@10_MEAN: 52.403\n",
      "NDCG@15_MEAN: 56.076\n",
      "NDCG@20_MEAN: 58.833\n",
      "PRECISION@50_MEAN: 13.4\n",
      "PRECISION@100_MEAN: 7.407\n",
      "RECALL@50_MEAN: 78.632\n",
      "RECALL@100_MEAN: 86.542\n",
      "TIME_SPENT_MEAN: 1.56\n",
      "==24==  2023-Jun-28 21:29:09 \n",
      "Experiment: {'TOPK_RETRIEVER': 300, 'TOPK_RANKER': 0, 'EXPANSOR_CRITERIA': 'join_30_ptt5_indir', 'INDEX_NAME': 'indir_juris_tcu_synonym', 'PIPE': {'PIPE_OBJECT': <haystack.pipelines.base.Pipeline object at 0x7f982947b3d0>, 'RETRIEVER_TYPE': 'bm25', 'RANKER_TYPE': 'PTT5_INDIR_83', 'RETRIEVER_MODEL_NAME': ''}, 'COLUMN_NAME': '10'}\n",
      "Experimento envolverá 150 registros, toda a base de dados\n"
     ]
    },
    {
     "name": "stderr",
     "output_type": "stream",
     "text": [
      "100%|██████████| 150/150 [04:41<00:00,  1.87s/it]\n"
     ]
    },
    {
     "name": "stdout",
     "output_type": "stream",
     "text": [
      "COLUMN_NAME: 10\n",
      "COUNT_QUERY_RUN: 150\n",
      "EXPANSOR_CRITERIA: join_30_ptt5_indir\n",
      "COUNT_QUERY_WITHOUT_RESULT: 0\n",
      "COUNT_QUERY_NOT_FOUND: 0\n",
      "RANK1_MEAN: 3.673\n",
      "NDCG@5_MEAN: 53.952\n",
      "NDCG@10_MEAN: 50.301\n",
      "NDCG@15_MEAN: 53.049\n",
      "NDCG@20_MEAN: 56.263\n",
      "PRECISION@50_MEAN: 12.667\n",
      "PRECISION@100_MEAN: 7.0\n",
      "RECALL@50_MEAN: 74.015\n",
      "RECALL@100_MEAN: 82.438\n",
      "TIME_SPENT_MEAN: 1.874\n",
      "==25==  2023-Jun-28 21:33:53 \n",
      "Experiment: {'TOPK_RETRIEVER': 300, 'TOPK_RANKER': 0, 'EXPANSOR_CRITERIA': 'join_30_ptt5_indir', 'INDEX_NAME': 'indir_juris_tcu_synonym', 'PIPE': {'PIPE_OBJECT': <haystack.pipelines.base.Pipeline object at 0x7f982947b3d0>, 'RETRIEVER_TYPE': 'bm25', 'RANKER_TYPE': 'PTT5_INDIR_83', 'RETRIEVER_MODEL_NAME': ''}, 'COLUMN_NAME': '2'}\n",
      "Experimento envolverá 150 registros, toda a base de dados\n"
     ]
    },
    {
     "name": "stderr",
     "output_type": "stream",
     "text": [
      "100%|██████████| 150/150 [04:05<00:00,  1.64s/it]\n"
     ]
    },
    {
     "name": "stdout",
     "output_type": "stream",
     "text": [
      "COLUMN_NAME: 2\n",
      "COUNT_QUERY_RUN: 150\n",
      "EXPANSOR_CRITERIA: join_30_ptt5_indir\n",
      "COUNT_QUERY_WITHOUT_RESULT: 0\n",
      "COUNT_QUERY_NOT_FOUND: 0\n",
      "RANK1_MEAN: 3.04\n",
      "NDCG@5_MEAN: 54.398\n",
      "NDCG@10_MEAN: 51.622\n",
      "NDCG@15_MEAN: 54.756\n",
      "NDCG@20_MEAN: 57.636\n",
      "PRECISION@50_MEAN: 13.16\n",
      "PRECISION@100_MEAN: 7.24\n",
      "RECALL@50_MEAN: 77.838\n",
      "RECALL@100_MEAN: 85.064\n",
      "TIME_SPENT_MEAN: 1.638\n",
      "==26==  2023-Jun-28 21:38:01 \n",
      "Experiment: {'TOPK_RETRIEVER': 300, 'TOPK_RANKER': 0, 'EXPANSOR_CRITERIA': 'join_30_ptt5_indir', 'INDEX_NAME': 'indir_juris_tcu_synonym', 'PIPE': {'PIPE_OBJECT': <haystack.pipelines.base.Pipeline object at 0x7f982947b3d0>, 'RETRIEVER_TYPE': 'bm25', 'RANKER_TYPE': 'PTT5_INDIR_83', 'RETRIEVER_MODEL_NAME': ''}, 'COLUMN_NAME': '3'}\n",
      "Experimento envolverá 150 registros, toda a base de dados\n"
     ]
    },
    {
     "name": "stderr",
     "output_type": "stream",
     "text": [
      "100%|██████████| 150/150 [04:07<00:00,  1.65s/it]\n"
     ]
    },
    {
     "name": "stdout",
     "output_type": "stream",
     "text": [
      "COLUMN_NAME: 3\n",
      "COUNT_QUERY_RUN: 150\n",
      "EXPANSOR_CRITERIA: join_30_ptt5_indir\n",
      "COUNT_QUERY_WITHOUT_RESULT: 0\n",
      "COUNT_QUERY_NOT_FOUND: 0\n",
      "RANK1_MEAN: 3.4\n",
      "NDCG@5_MEAN: 53.797\n",
      "NDCG@10_MEAN: 50.836\n",
      "NDCG@15_MEAN: 54.131\n",
      "NDCG@20_MEAN: 56.931\n",
      "PRECISION@50_MEAN: 13.027\n",
      "PRECISION@100_MEAN: 7.173\n",
      "RECALL@50_MEAN: 76.643\n",
      "RECALL@100_MEAN: 84.346\n",
      "TIME_SPENT_MEAN: 1.648\n",
      "==27==  2023-Jun-28 21:42:10 \n",
      "Experiment: {'TOPK_RETRIEVER': 300, 'TOPK_RANKER': 0, 'EXPANSOR_CRITERIA': 'join_30_ptt5_indir', 'INDEX_NAME': 'indir_juris_tcu_synonym', 'PIPE': {'PIPE_OBJECT': <haystack.pipelines.base.Pipeline object at 0x7f982947b3d0>, 'RETRIEVER_TYPE': 'bm25', 'RANKER_TYPE': 'PTT5_INDIR_83', 'RETRIEVER_MODEL_NAME': ''}, 'COLUMN_NAME': '4'}\n",
      "Experimento envolverá 150 registros, toda a base de dados\n"
     ]
    },
    {
     "name": "stderr",
     "output_type": "stream",
     "text": [
      "100%|██████████| 150/150 [04:11<00:00,  1.68s/it]\n"
     ]
    },
    {
     "name": "stdout",
     "output_type": "stream",
     "text": [
      "COLUMN_NAME: 4\n",
      "COUNT_QUERY_RUN: 150\n",
      "EXPANSOR_CRITERIA: join_30_ptt5_indir\n",
      "COUNT_QUERY_WITHOUT_RESULT: 0\n",
      "COUNT_QUERY_NOT_FOUND: 0\n",
      "RANK1_MEAN: 4.107\n",
      "NDCG@5_MEAN: 53.512\n",
      "NDCG@10_MEAN: 50.774\n",
      "NDCG@15_MEAN: 53.904\n",
      "NDCG@20_MEAN: 56.417\n",
      "PRECISION@50_MEAN: 12.947\n",
      "PRECISION@100_MEAN: 7.167\n",
      "RECALL@50_MEAN: 76.132\n",
      "RECALL@100_MEAN: 84.286\n",
      "TIME_SPENT_MEAN: 1.679\n",
      "==28==  2023-Jun-28 21:46:24 \n",
      "Experiment: {'TOPK_RETRIEVER': 300, 'TOPK_RANKER': 0, 'EXPANSOR_CRITERIA': 'join_30_ptt5_indir', 'INDEX_NAME': 'indir_juris_tcu_synonym', 'PIPE': {'PIPE_OBJECT': <haystack.pipelines.base.Pipeline object at 0x7f982947b3d0>, 'RETRIEVER_TYPE': 'bm25', 'RANKER_TYPE': 'PTT5_INDIR_83', 'RETRIEVER_MODEL_NAME': ''}, 'COLUMN_NAME': '5'}\n",
      "Experimento envolverá 150 registros, toda a base de dados\n"
     ]
    },
    {
     "name": "stderr",
     "output_type": "stream",
     "text": [
      "100%|██████████| 150/150 [04:20<00:00,  1.74s/it]\n"
     ]
    },
    {
     "name": "stdout",
     "output_type": "stream",
     "text": [
      "COLUMN_NAME: 5\n",
      "COUNT_QUERY_RUN: 150\n",
      "EXPANSOR_CRITERIA: join_30_ptt5_indir\n",
      "COUNT_QUERY_WITHOUT_RESULT: 0\n",
      "COUNT_QUERY_NOT_FOUND: 1\n",
      "RANK1_MEAN: 3.899\n",
      "NDCG@5_MEAN: 52.874\n",
      "NDCG@10_MEAN: 50.551\n",
      "NDCG@15_MEAN: 53.456\n",
      "NDCG@20_MEAN: 55.673\n",
      "PRECISION@50_MEAN: 12.813\n",
      "PRECISION@100_MEAN: 7.02\n",
      "RECALL@50_MEAN: 75.609\n",
      "RECALL@100_MEAN: 82.609\n",
      "TIME_SPENT_MEAN: 1.736\n",
      "==29==  2023-Jun-28 21:50:47 \n",
      "Experiment: {'TOPK_RETRIEVER': 300, 'TOPK_RANKER': 0, 'EXPANSOR_CRITERIA': 'join_30_ptt5_indir', 'INDEX_NAME': 'indir_juris_tcu_synonym', 'PIPE': {'PIPE_OBJECT': <haystack.pipelines.base.Pipeline object at 0x7f982947b3d0>, 'RETRIEVER_TYPE': 'bm25', 'RANKER_TYPE': 'PTT5_INDIR_83', 'RETRIEVER_MODEL_NAME': ''}, 'COLUMN_NAME': '6'}\n",
      "Experimento envolverá 150 registros, toda a base de dados\n"
     ]
    },
    {
     "name": "stderr",
     "output_type": "stream",
     "text": [
      "100%|██████████| 150/150 [04:22<00:00,  1.75s/it]\n"
     ]
    },
    {
     "name": "stdout",
     "output_type": "stream",
     "text": [
      "COLUMN_NAME: 6\n",
      "COUNT_QUERY_RUN: 150\n",
      "EXPANSOR_CRITERIA: join_30_ptt5_indir\n",
      "COUNT_QUERY_WITHOUT_RESULT: 0\n",
      "COUNT_QUERY_NOT_FOUND: 0\n",
      "RANK1_MEAN: 3.7\n",
      "NDCG@5_MEAN: 53.374\n",
      "NDCG@10_MEAN: 50.43\n",
      "NDCG@15_MEAN: 52.918\n",
      "NDCG@20_MEAN: 55.964\n",
      "PRECISION@50_MEAN: 12.787\n",
      "PRECISION@100_MEAN: 7.033\n",
      "RECALL@50_MEAN: 75.109\n",
      "RECALL@100_MEAN: 82.714\n",
      "TIME_SPENT_MEAN: 1.747\n",
      "==30==  2023-Jun-28 21:55:11 \n",
      "Experiment: {'TOPK_RETRIEVER': 300, 'TOPK_RANKER': 0, 'EXPANSOR_CRITERIA': 'join_30_ptt5_indir', 'INDEX_NAME': 'indir_juris_tcu_synonym', 'PIPE': {'PIPE_OBJECT': <haystack.pipelines.base.Pipeline object at 0x7f982947b3d0>, 'RETRIEVER_TYPE': 'bm25', 'RANKER_TYPE': 'PTT5_INDIR_83', 'RETRIEVER_MODEL_NAME': ''}, 'COLUMN_NAME': '7'}\n",
      "Experimento envolverá 150 registros, toda a base de dados\n"
     ]
    },
    {
     "name": "stderr",
     "output_type": "stream",
     "text": [
      "100%|██████████| 150/150 [04:29<00:00,  1.80s/it]\n"
     ]
    },
    {
     "name": "stdout",
     "output_type": "stream",
     "text": [
      "COLUMN_NAME: 7\n",
      "COUNT_QUERY_RUN: 150\n",
      "EXPANSOR_CRITERIA: join_30_ptt5_indir\n",
      "COUNT_QUERY_WITHOUT_RESULT: 0\n",
      "COUNT_QUERY_NOT_FOUND: 0\n",
      "RANK1_MEAN: 4.073\n",
      "NDCG@5_MEAN: 53.162\n",
      "NDCG@10_MEAN: 50.122\n",
      "NDCG@15_MEAN: 52.677\n",
      "NDCG@20_MEAN: 55.357\n",
      "PRECISION@50_MEAN: 12.667\n",
      "PRECISION@100_MEAN: 7.013\n",
      "RECALL@50_MEAN: 74.563\n",
      "RECALL@100_MEAN: 82.357\n",
      "TIME_SPENT_MEAN: 1.8\n",
      "==31==  2023-Jun-28 21:59:43 \n",
      "Experiment: {'TOPK_RETRIEVER': 300, 'TOPK_RANKER': 0, 'EXPANSOR_CRITERIA': 'join_30_ptt5_indir', 'INDEX_NAME': 'indir_juris_tcu_synonym', 'PIPE': {'PIPE_OBJECT': <haystack.pipelines.base.Pipeline object at 0x7f982947b3d0>, 'RETRIEVER_TYPE': 'bm25', 'RANKER_TYPE': 'PTT5_INDIR_83', 'RETRIEVER_MODEL_NAME': ''}, 'COLUMN_NAME': '8'}\n",
      "Experimento envolverá 150 registros, toda a base de dados\n"
     ]
    },
    {
     "name": "stderr",
     "output_type": "stream",
     "text": [
      "100%|██████████| 150/150 [04:34<00:00,  1.83s/it]\n"
     ]
    },
    {
     "name": "stdout",
     "output_type": "stream",
     "text": [
      "COLUMN_NAME: 8\n",
      "COUNT_QUERY_RUN: 150\n",
      "EXPANSOR_CRITERIA: join_30_ptt5_indir\n",
      "COUNT_QUERY_WITHOUT_RESULT: 0\n",
      "COUNT_QUERY_NOT_FOUND: 0\n",
      "RANK1_MEAN: 3.8\n",
      "NDCG@5_MEAN: 54.853\n",
      "NDCG@10_MEAN: 50.807\n",
      "NDCG@15_MEAN: 53.662\n",
      "NDCG@20_MEAN: 56.879\n",
      "PRECISION@50_MEAN: 12.733\n",
      "PRECISION@100_MEAN: 7.013\n",
      "RECALL@50_MEAN: 74.268\n",
      "RECALL@100_MEAN: 82.476\n",
      "TIME_SPENT_MEAN: 1.831\n",
      "==32==  2023-Jun-28 22:04:20 \n",
      "Experiment: {'TOPK_RETRIEVER': 300, 'TOPK_RANKER': 0, 'EXPANSOR_CRITERIA': 'join_30_ptt5_indir', 'INDEX_NAME': 'indir_juris_tcu_synonym', 'PIPE': {'PIPE_OBJECT': <haystack.pipelines.base.Pipeline object at 0x7f982947b3d0>, 'RETRIEVER_TYPE': 'bm25', 'RANKER_TYPE': 'PTT5_INDIR_83', 'RETRIEVER_MODEL_NAME': ''}, 'COLUMN_NAME': '9'}\n",
      "Experimento envolverá 150 registros, toda a base de dados\n"
     ]
    },
    {
     "name": "stderr",
     "output_type": "stream",
     "text": [
      "100%|██████████| 150/150 [04:35<00:00,  1.84s/it]\n"
     ]
    },
    {
     "name": "stdout",
     "output_type": "stream",
     "text": [
      "COLUMN_NAME: 9\n",
      "COUNT_QUERY_RUN: 150\n",
      "EXPANSOR_CRITERIA: join_30_ptt5_indir\n",
      "COUNT_QUERY_WITHOUT_RESULT: 0\n",
      "COUNT_QUERY_NOT_FOUND: 0\n",
      "RANK1_MEAN: 3.693\n",
      "NDCG@5_MEAN: 53.735\n",
      "NDCG@10_MEAN: 50.298\n",
      "NDCG@15_MEAN: 52.907\n",
      "NDCG@20_MEAN: 56.192\n",
      "PRECISION@50_MEAN: 12.627\n",
      "PRECISION@100_MEAN: 7.007\n",
      "RECALL@50_MEAN: 73.815\n",
      "RECALL@100_MEAN: 82.493\n",
      "TIME_SPENT_MEAN: 1.836\n",
      "==33==  2023-Jun-28 22:08:58 \n",
      "Experiment: {'TOPK_RETRIEVER': 300, 'TOPK_RANKER': 0, 'EXPANSOR_CRITERIA': '', 'INDEX_NAME': 'indir_juris_tcu_synonym', 'PIPE': {'PIPE_OBJECT': <haystack.pipelines.base.Pipeline object at 0x7f982947b3d0>, 'RETRIEVER_TYPE': 'bm25', 'RANKER_TYPE': 'PTT5_INDIR_83', 'RETRIEVER_MODEL_NAME': ''}, 'COLUMN_NAME': 'TEXT'}\n",
      "Experimento envolverá 150 registros, toda a base de dados\n"
     ]
    },
    {
     "name": "stderr",
     "output_type": "stream",
     "text": [
      "100%|██████████| 150/150 [03:45<00:00,  1.50s/it]\n"
     ]
    },
    {
     "name": "stdout",
     "output_type": "stream",
     "text": [
      "COLUMN_NAME: TEXT\n",
      "COUNT_QUERY_RUN: 150\n",
      "EXPANSOR_CRITERIA: \n",
      "COUNT_QUERY_WITHOUT_RESULT: 0\n",
      "COUNT_QUERY_NOT_FOUND: 0\n",
      "RANK1_MEAN: 1.807\n",
      "NDCG@5_MEAN: 61.502\n",
      "NDCG@10_MEAN: 58.559\n",
      "NDCG@15_MEAN: 61.426\n",
      "NDCG@20_MEAN: 64.677\n",
      "PRECISION@50_MEAN: 14.613\n",
      "PRECISION@100_MEAN: 7.78\n",
      "RECALL@50_MEAN: 85.595\n",
      "RECALL@100_MEAN: 90.705\n",
      "TIME_SPENT_MEAN: 1.505\n",
      "==34==  2023-Jun-28 22:12:46 \n",
      "Experiment: {'TOPK_RETRIEVER': 300, 'TOPK_RANKER': 0, 'EXPANSOR_CRITERIA': 'join_30_ptt5_indir', 'INDEX_NAME': 'indir_juris_tcu_related_term', 'PIPE': {'PIPE_OBJECT': <haystack.pipelines.base.Pipeline object at 0x7f97c86b7c90>, 'RETRIEVER_TYPE': 'bm25', 'RANKER_TYPE': 'PTT5_INDIR_83', 'RETRIEVER_MODEL_NAME': ''}, 'COLUMN_NAME': '1'}\n",
      "Experimento envolverá 150 registros, toda a base de dados\n"
     ]
    },
    {
     "name": "stderr",
     "output_type": "stream",
     "text": [
      "100%|██████████| 150/150 [08:44<00:00,  3.50s/it]\n"
     ]
    },
    {
     "name": "stdout",
     "output_type": "stream",
     "text": [
      "COLUMN_NAME: 1\n",
      "COUNT_QUERY_RUN: 150\n",
      "EXPANSOR_CRITERIA: join_30_ptt5_indir\n",
      "COUNT_QUERY_WITHOUT_RESULT: 0\n",
      "COUNT_QUERY_NOT_FOUND: 0\n",
      "RANK1_MEAN: 2.207\n",
      "NDCG@5_MEAN: 54.274\n",
      "NDCG@10_MEAN: 52.171\n",
      "NDCG@15_MEAN: 54.974\n",
      "NDCG@20_MEAN: 57.809\n",
      "PRECISION@50_MEAN: 13.427\n",
      "PRECISION@100_MEAN: 7.4\n",
      "RECALL@50_MEAN: 79.139\n",
      "RECALL@100_MEAN: 85.979\n",
      "TIME_SPENT_MEAN: 3.497\n",
      "==35==  2023-Jun-28 22:21:33 \n",
      "Experiment: {'TOPK_RETRIEVER': 300, 'TOPK_RANKER': 0, 'EXPANSOR_CRITERIA': 'join_30_ptt5_indir', 'INDEX_NAME': 'indir_juris_tcu_related_term', 'PIPE': {'PIPE_OBJECT': <haystack.pipelines.base.Pipeline object at 0x7f97c86b7c90>, 'RETRIEVER_TYPE': 'bm25', 'RANKER_TYPE': 'PTT5_INDIR_83', 'RETRIEVER_MODEL_NAME': ''}, 'COLUMN_NAME': '10'}\n",
      "Experimento envolverá 150 registros, toda a base de dados\n"
     ]
    },
    {
     "name": "stderr",
     "output_type": "stream",
     "text": [
      "100%|██████████| 150/150 [09:50<00:00,  3.94s/it]\n"
     ]
    },
    {
     "name": "stdout",
     "output_type": "stream",
     "text": [
      "COLUMN_NAME: 10\n",
      "COUNT_QUERY_RUN: 150\n",
      "EXPANSOR_CRITERIA: join_30_ptt5_indir\n",
      "COUNT_QUERY_WITHOUT_RESULT: 0\n",
      "COUNT_QUERY_NOT_FOUND: 3\n",
      "RANK1_MEAN: 4.503\n",
      "NDCG@5_MEAN: 50.662\n",
      "NDCG@10_MEAN: 47.912\n",
      "NDCG@15_MEAN: 50.969\n",
      "NDCG@20_MEAN: 52.979\n",
      "PRECISION@50_MEAN: 12.187\n",
      "PRECISION@100_MEAN: 6.793\n",
      "RECALL@50_MEAN: 72.737\n",
      "RECALL@100_MEAN: 80.039\n",
      "TIME_SPENT_MEAN: 3.938\n",
      "==36==  2023-Jun-28 22:31:26 \n",
      "Experiment: {'TOPK_RETRIEVER': 300, 'TOPK_RANKER': 0, 'EXPANSOR_CRITERIA': 'join_30_ptt5_indir', 'INDEX_NAME': 'indir_juris_tcu_related_term', 'PIPE': {'PIPE_OBJECT': <haystack.pipelines.base.Pipeline object at 0x7f97c86b7c90>, 'RETRIEVER_TYPE': 'bm25', 'RANKER_TYPE': 'PTT5_INDIR_83', 'RETRIEVER_MODEL_NAME': ''}, 'COLUMN_NAME': '2'}\n",
      "Experimento envolverá 150 registros, toda a base de dados\n"
     ]
    },
    {
     "name": "stderr",
     "output_type": "stream",
     "text": [
      "100%|██████████| 150/150 [08:54<00:00,  3.56s/it]\n"
     ]
    },
    {
     "name": "stdout",
     "output_type": "stream",
     "text": [
      "COLUMN_NAME: 2\n",
      "COUNT_QUERY_RUN: 150\n",
      "EXPANSOR_CRITERIA: join_30_ptt5_indir\n",
      "COUNT_QUERY_WITHOUT_RESULT: 0\n",
      "COUNT_QUERY_NOT_FOUND: 4\n",
      "RANK1_MEAN: 2.247\n",
      "NDCG@5_MEAN: 52.222\n",
      "NDCG@10_MEAN: 49.587\n",
      "NDCG@15_MEAN: 51.99\n",
      "NDCG@20_MEAN: 54.662\n",
      "PRECISION@50_MEAN: 12.52\n",
      "PRECISION@100_MEAN: 7.047\n",
      "RECALL@50_MEAN: 74.32\n",
      "RECALL@100_MEAN: 82.821\n",
      "TIME_SPENT_MEAN: 3.563\n",
      "==37==  2023-Jun-28 22:40:22 \n",
      "Experiment: {'TOPK_RETRIEVER': 300, 'TOPK_RANKER': 0, 'EXPANSOR_CRITERIA': 'join_30_ptt5_indir', 'INDEX_NAME': 'indir_juris_tcu_related_term', 'PIPE': {'PIPE_OBJECT': <haystack.pipelines.base.Pipeline object at 0x7f97c86b7c90>, 'RETRIEVER_TYPE': 'bm25', 'RANKER_TYPE': 'PTT5_INDIR_83', 'RETRIEVER_MODEL_NAME': ''}, 'COLUMN_NAME': '3'}\n",
      "Experimento envolverá 150 registros, toda a base de dados\n"
     ]
    },
    {
     "name": "stderr",
     "output_type": "stream",
     "text": [
      "100%|██████████| 150/150 [09:03<00:00,  3.62s/it]\n"
     ]
    },
    {
     "name": "stdout",
     "output_type": "stream",
     "text": [
      "COLUMN_NAME: 3\n",
      "COUNT_QUERY_RUN: 150\n",
      "EXPANSOR_CRITERIA: join_30_ptt5_indir\n",
      "COUNT_QUERY_WITHOUT_RESULT: 0\n",
      "COUNT_QUERY_NOT_FOUND: 4\n",
      "RANK1_MEAN: 2.774\n",
      "NDCG@5_MEAN: 50.917\n",
      "NDCG@10_MEAN: 48.58\n",
      "NDCG@15_MEAN: 51.286\n",
      "NDCG@20_MEAN: 54.143\n",
      "PRECISION@50_MEAN: 12.467\n",
      "PRECISION@100_MEAN: 6.973\n",
      "RECALL@50_MEAN: 74.079\n",
      "RECALL@100_MEAN: 82.156\n",
      "TIME_SPENT_MEAN: 3.623\n",
      "==38==  2023-Jun-28 22:49:28 \n",
      "Experiment: {'TOPK_RETRIEVER': 300, 'TOPK_RANKER': 0, 'EXPANSOR_CRITERIA': 'join_30_ptt5_indir', 'INDEX_NAME': 'indir_juris_tcu_related_term', 'PIPE': {'PIPE_OBJECT': <haystack.pipelines.base.Pipeline object at 0x7f97c86b7c90>, 'RETRIEVER_TYPE': 'bm25', 'RANKER_TYPE': 'PTT5_INDIR_83', 'RETRIEVER_MODEL_NAME': ''}, 'COLUMN_NAME': '4'}\n",
      "Experimento envolverá 150 registros, toda a base de dados\n"
     ]
    },
    {
     "name": "stderr",
     "output_type": "stream",
     "text": [
      "100%|██████████| 150/150 [09:09<00:00,  3.66s/it]\n"
     ]
    },
    {
     "name": "stdout",
     "output_type": "stream",
     "text": [
      "COLUMN_NAME: 4\n",
      "COUNT_QUERY_RUN: 150\n",
      "EXPANSOR_CRITERIA: join_30_ptt5_indir\n",
      "COUNT_QUERY_WITHOUT_RESULT: 0\n",
      "COUNT_QUERY_NOT_FOUND: 3\n",
      "RANK1_MEAN: 2.605\n",
      "NDCG@5_MEAN: 52.622\n",
      "NDCG@10_MEAN: 50.25\n",
      "NDCG@15_MEAN: 52.347\n",
      "NDCG@20_MEAN: 54.921\n",
      "PRECISION@50_MEAN: 12.48\n",
      "PRECISION@100_MEAN: 6.88\n",
      "RECALL@50_MEAN: 74.191\n",
      "RECALL@100_MEAN: 81.025\n",
      "TIME_SPENT_MEAN: 3.662\n",
      "==39==  2023-Jun-28 22:58:39 \n",
      "Experiment: {'TOPK_RETRIEVER': 300, 'TOPK_RANKER': 0, 'EXPANSOR_CRITERIA': 'join_30_ptt5_indir', 'INDEX_NAME': 'indir_juris_tcu_related_term', 'PIPE': {'PIPE_OBJECT': <haystack.pipelines.base.Pipeline object at 0x7f97c86b7c90>, 'RETRIEVER_TYPE': 'bm25', 'RANKER_TYPE': 'PTT5_INDIR_83', 'RETRIEVER_MODEL_NAME': ''}, 'COLUMN_NAME': '5'}\n",
      "Experimento envolverá 150 registros, toda a base de dados\n"
     ]
    },
    {
     "name": "stderr",
     "output_type": "stream",
     "text": [
      "100%|██████████| 150/150 [09:18<00:00,  3.72s/it]\n"
     ]
    },
    {
     "name": "stdout",
     "output_type": "stream",
     "text": [
      "COLUMN_NAME: 5\n",
      "COUNT_QUERY_RUN: 150\n",
      "EXPANSOR_CRITERIA: join_30_ptt5_indir\n",
      "COUNT_QUERY_WITHOUT_RESULT: 0\n",
      "COUNT_QUERY_NOT_FOUND: 3\n",
      "RANK1_MEAN: 2.517\n",
      "NDCG@5_MEAN: 51.523\n",
      "NDCG@10_MEAN: 49.362\n",
      "NDCG@15_MEAN: 51.587\n",
      "NDCG@20_MEAN: 54.089\n",
      "PRECISION@50_MEAN: 12.253\n",
      "PRECISION@100_MEAN: 6.92\n",
      "RECALL@50_MEAN: 73.217\n",
      "RECALL@100_MEAN: 81.462\n",
      "TIME_SPENT_MEAN: 3.724\n",
      "==40==  2023-Jun-28 23:08:00 \n",
      "Experiment: {'TOPK_RETRIEVER': 300, 'TOPK_RANKER': 0, 'EXPANSOR_CRITERIA': 'join_30_ptt5_indir', 'INDEX_NAME': 'indir_juris_tcu_related_term', 'PIPE': {'PIPE_OBJECT': <haystack.pipelines.base.Pipeline object at 0x7f97c86b7c90>, 'RETRIEVER_TYPE': 'bm25', 'RANKER_TYPE': 'PTT5_INDIR_83', 'RETRIEVER_MODEL_NAME': ''}, 'COLUMN_NAME': '6'}\n",
      "Experimento envolverá 150 registros, toda a base de dados\n"
     ]
    },
    {
     "name": "stderr",
     "output_type": "stream",
     "text": [
      "100%|██████████| 150/150 [09:31<00:00,  3.81s/it]\n"
     ]
    },
    {
     "name": "stdout",
     "output_type": "stream",
     "text": [
      "COLUMN_NAME: 6\n",
      "COUNT_QUERY_RUN: 150\n",
      "EXPANSOR_CRITERIA: join_30_ptt5_indir\n",
      "COUNT_QUERY_WITHOUT_RESULT: 0\n",
      "COUNT_QUERY_NOT_FOUND: 3\n",
      "RANK1_MEAN: 2.98\n",
      "NDCG@5_MEAN: 51.093\n",
      "NDCG@10_MEAN: 49.185\n",
      "NDCG@15_MEAN: 51.582\n",
      "NDCG@20_MEAN: 53.72\n",
      "PRECISION@50_MEAN: 12.307\n",
      "PRECISION@100_MEAN: 6.92\n",
      "RECALL@50_MEAN: 73.337\n",
      "RECALL@100_MEAN: 81.397\n",
      "TIME_SPENT_MEAN: 3.809\n",
      "==41==  2023-Jun-28 23:17:34 \n",
      "Experiment: {'TOPK_RETRIEVER': 300, 'TOPK_RANKER': 0, 'EXPANSOR_CRITERIA': 'join_30_ptt5_indir', 'INDEX_NAME': 'indir_juris_tcu_related_term', 'PIPE': {'PIPE_OBJECT': <haystack.pipelines.base.Pipeline object at 0x7f97c86b7c90>, 'RETRIEVER_TYPE': 'bm25', 'RANKER_TYPE': 'PTT5_INDIR_83', 'RETRIEVER_MODEL_NAME': ''}, 'COLUMN_NAME': '7'}\n",
      "Experimento envolverá 150 registros, toda a base de dados\n"
     ]
    },
    {
     "name": "stderr",
     "output_type": "stream",
     "text": [
      "100%|██████████| 150/150 [09:38<00:00,  3.86s/it]\n"
     ]
    },
    {
     "name": "stdout",
     "output_type": "stream",
     "text": [
      "COLUMN_NAME: 7\n",
      "COUNT_QUERY_RUN: 150\n",
      "EXPANSOR_CRITERIA: join_30_ptt5_indir\n",
      "COUNT_QUERY_WITHOUT_RESULT: 0\n",
      "COUNT_QUERY_NOT_FOUND: 3\n",
      "RANK1_MEAN: 3.361\n",
      "NDCG@5_MEAN: 49.572\n",
      "NDCG@10_MEAN: 47.897\n",
      "NDCG@15_MEAN: 50.623\n",
      "NDCG@20_MEAN: 52.688\n",
      "PRECISION@50_MEAN: 12.067\n",
      "PRECISION@100_MEAN: 6.807\n",
      "RECALL@50_MEAN: 72.017\n",
      "RECALL@100_MEAN: 80.161\n",
      "TIME_SPENT_MEAN: 3.858\n",
      "==42==  2023-Jun-28 23:27:15 \n",
      "Experiment: {'TOPK_RETRIEVER': 300, 'TOPK_RANKER': 0, 'EXPANSOR_CRITERIA': 'join_30_ptt5_indir', 'INDEX_NAME': 'indir_juris_tcu_related_term', 'PIPE': {'PIPE_OBJECT': <haystack.pipelines.base.Pipeline object at 0x7f97c86b7c90>, 'RETRIEVER_TYPE': 'bm25', 'RANKER_TYPE': 'PTT5_INDIR_83', 'RETRIEVER_MODEL_NAME': ''}, 'COLUMN_NAME': '8'}\n",
      "Experimento envolverá 150 registros, toda a base de dados\n"
     ]
    },
    {
     "name": "stderr",
     "output_type": "stream",
     "text": [
      "100%|██████████| 150/150 [09:45<00:00,  3.90s/it]\n"
     ]
    },
    {
     "name": "stdout",
     "output_type": "stream",
     "text": [
      "COLUMN_NAME: 8\n",
      "COUNT_QUERY_RUN: 150\n",
      "EXPANSOR_CRITERIA: join_30_ptt5_indir\n",
      "COUNT_QUERY_WITHOUT_RESULT: 0\n",
      "COUNT_QUERY_NOT_FOUND: 3\n",
      "RANK1_MEAN: 3.946\n",
      "NDCG@5_MEAN: 51.121\n",
      "NDCG@10_MEAN: 48.311\n",
      "NDCG@15_MEAN: 51.258\n",
      "NDCG@20_MEAN: 53.121\n",
      "PRECISION@50_MEAN: 12.24\n",
      "PRECISION@100_MEAN: 6.787\n",
      "RECALL@50_MEAN: 72.959\n",
      "RECALL@100_MEAN: 80.021\n",
      "TIME_SPENT_MEAN: 3.9\n",
      "==43==  2023-Jun-28 23:37:02 \n",
      "Experiment: {'TOPK_RETRIEVER': 300, 'TOPK_RANKER': 0, 'EXPANSOR_CRITERIA': 'join_30_ptt5_indir', 'INDEX_NAME': 'indir_juris_tcu_related_term', 'PIPE': {'PIPE_OBJECT': <haystack.pipelines.base.Pipeline object at 0x7f97c86b7c90>, 'RETRIEVER_TYPE': 'bm25', 'RANKER_TYPE': 'PTT5_INDIR_83', 'RETRIEVER_MODEL_NAME': ''}, 'COLUMN_NAME': '9'}\n",
      "Experimento envolverá 150 registros, toda a base de dados\n"
     ]
    },
    {
     "name": "stderr",
     "output_type": "stream",
     "text": [
      "100%|██████████| 150/150 [09:49<00:00,  3.93s/it]\n"
     ]
    },
    {
     "name": "stdout",
     "output_type": "stream",
     "text": [
      "COLUMN_NAME: 9\n",
      "COUNT_QUERY_RUN: 150\n",
      "EXPANSOR_CRITERIA: join_30_ptt5_indir\n",
      "COUNT_QUERY_WITHOUT_RESULT: 0\n",
      "COUNT_QUERY_NOT_FOUND: 3\n",
      "RANK1_MEAN: 4.537\n",
      "NDCG@5_MEAN: 50.8\n",
      "NDCG@10_MEAN: 47.98\n",
      "NDCG@15_MEAN: 50.996\n",
      "NDCG@20_MEAN: 53.106\n",
      "PRECISION@50_MEAN: 12.187\n",
      "PRECISION@100_MEAN: 6.78\n",
      "RECALL@50_MEAN: 72.737\n",
      "RECALL@100_MEAN: 79.905\n",
      "TIME_SPENT_MEAN: 3.931\n",
      "==44==  2023-Jun-28 23:46:54 \n",
      "Experiment: {'TOPK_RETRIEVER': 300, 'TOPK_RANKER': 0, 'EXPANSOR_CRITERIA': '', 'INDEX_NAME': 'indir_juris_tcu_related_term', 'PIPE': {'PIPE_OBJECT': <haystack.pipelines.base.Pipeline object at 0x7f97c86b7c90>, 'RETRIEVER_TYPE': 'bm25', 'RANKER_TYPE': 'PTT5_INDIR_83', 'RETRIEVER_MODEL_NAME': ''}, 'COLUMN_NAME': 'TEXT'}\n",
      "Experimento envolverá 150 registros, toda a base de dados\n"
     ]
    },
    {
     "name": "stderr",
     "output_type": "stream",
     "text": [
      "100%|██████████| 150/150 [08:36<00:00,  3.44s/it]\n"
     ]
    },
    {
     "name": "stdout",
     "output_type": "stream",
     "text": [
      "COLUMN_NAME: TEXT\n",
      "COUNT_QUERY_RUN: 150\n",
      "EXPANSOR_CRITERIA: \n",
      "COUNT_QUERY_WITHOUT_RESULT: 0\n",
      "COUNT_QUERY_NOT_FOUND: 0\n",
      "RANK1_MEAN: 1.673\n",
      "NDCG@5_MEAN: 60.798\n",
      "NDCG@10_MEAN: 57.044\n",
      "NDCG@15_MEAN: 60.299\n",
      "NDCG@20_MEAN: 63.202\n",
      "PRECISION@50_MEAN: 14.04\n",
      "PRECISION@100_MEAN: 7.547\n",
      "RECALL@50_MEAN: 82.02\n",
      "RECALL@100_MEAN: 87.965\n",
      "TIME_SPENT_MEAN: 3.441\n",
      "==45==  2023-Jun-28 23:55:32 \n",
      "Experiment: {'TOPK_RETRIEVER': 300, 'TOPK_RANKER': 0, 'EXPANSOR_CRITERIA': 'join_30_ptt5_indir', 'INDEX_NAME': 'indir_juris_tcu_synonym_related_term', 'PIPE': {'PIPE_OBJECT': <haystack.pipelines.base.Pipeline object at 0x7f97c86b7d50>, 'RETRIEVER_TYPE': 'bm25', 'RANKER_TYPE': 'PTT5_INDIR_83', 'RETRIEVER_MODEL_NAME': ''}, 'COLUMN_NAME': '1'}\n",
      "Experimento envolverá 150 registros, toda a base de dados\n"
     ]
    },
    {
     "name": "stderr",
     "output_type": "stream",
     "text": [
      "100%|██████████| 150/150 [10:45<00:00,  4.31s/it]\n"
     ]
    },
    {
     "name": "stdout",
     "output_type": "stream",
     "text": [
      "COLUMN_NAME: 1\n",
      "COUNT_QUERY_RUN: 150\n",
      "EXPANSOR_CRITERIA: join_30_ptt5_indir\n",
      "COUNT_QUERY_WITHOUT_RESULT: 0\n",
      "COUNT_QUERY_NOT_FOUND: 0\n",
      "RANK1_MEAN: 2.64\n",
      "NDCG@5_MEAN: 51.292\n",
      "NDCG@10_MEAN: 48.953\n",
      "NDCG@15_MEAN: 52.406\n",
      "NDCG@20_MEAN: 55.674\n",
      "PRECISION@50_MEAN: 12.88\n",
      "PRECISION@100_MEAN: 7.187\n",
      "RECALL@50_MEAN: 75.745\n",
      "RECALL@100_MEAN: 83.694\n",
      "TIME_SPENT_MEAN: 4.305\n",
      "==46==  2023-Jun-29 00:06:20 \n",
      "Experiment: {'TOPK_RETRIEVER': 300, 'TOPK_RANKER': 0, 'EXPANSOR_CRITERIA': 'join_30_ptt5_indir', 'INDEX_NAME': 'indir_juris_tcu_synonym_related_term', 'PIPE': {'PIPE_OBJECT': <haystack.pipelines.base.Pipeline object at 0x7f97c86b7d50>, 'RETRIEVER_TYPE': 'bm25', 'RANKER_TYPE': 'PTT5_INDIR_83', 'RETRIEVER_MODEL_NAME': ''}, 'COLUMN_NAME': '10'}\n",
      "Experimento envolverá 150 registros, toda a base de dados\n"
     ]
    },
    {
     "name": "stderr",
     "output_type": "stream",
     "text": [
      "100%|██████████| 150/150 [11:41<00:00,  4.68s/it]\n"
     ]
    },
    {
     "name": "stdout",
     "output_type": "stream",
     "text": [
      "COLUMN_NAME: 10\n",
      "COUNT_QUERY_RUN: 150\n",
      "EXPANSOR_CRITERIA: join_30_ptt5_indir\n",
      "COUNT_QUERY_WITHOUT_RESULT: 0\n",
      "COUNT_QUERY_NOT_FOUND: 3\n",
      "RANK1_MEAN: 3.857\n",
      "NDCG@5_MEAN: 48.084\n",
      "NDCG@10_MEAN: 45.085\n",
      "NDCG@15_MEAN: 48.294\n",
      "NDCG@20_MEAN: 50.818\n",
      "PRECISION@50_MEAN: 11.827\n",
      "PRECISION@100_MEAN: 6.647\n",
      "RECALL@50_MEAN: 70.722\n",
      "RECALL@100_MEAN: 78.409\n",
      "TIME_SPENT_MEAN: 4.679\n",
      "==47==  2023-Jun-29 00:18:04 \n",
      "Experiment: {'TOPK_RETRIEVER': 300, 'TOPK_RANKER': 0, 'EXPANSOR_CRITERIA': 'join_30_ptt5_indir', 'INDEX_NAME': 'indir_juris_tcu_synonym_related_term', 'PIPE': {'PIPE_OBJECT': <haystack.pipelines.base.Pipeline object at 0x7f97c86b7d50>, 'RETRIEVER_TYPE': 'bm25', 'RANKER_TYPE': 'PTT5_INDIR_83', 'RETRIEVER_MODEL_NAME': ''}, 'COLUMN_NAME': '2'}\n",
      "Experimento envolverá 150 registros, toda a base de dados\n"
     ]
    },
    {
     "name": "stderr",
     "output_type": "stream",
     "text": [
      "100%|██████████| 150/150 [10:58<00:00,  4.39s/it]\n"
     ]
    },
    {
     "name": "stdout",
     "output_type": "stream",
     "text": [
      "COLUMN_NAME: 2\n",
      "COUNT_QUERY_RUN: 150\n",
      "EXPANSOR_CRITERIA: join_30_ptt5_indir\n",
      "COUNT_QUERY_WITHOUT_RESULT: 0\n",
      "COUNT_QUERY_NOT_FOUND: 3\n",
      "RANK1_MEAN: 2.639\n",
      "NDCG@5_MEAN: 48.951\n",
      "NDCG@10_MEAN: 47.072\n",
      "NDCG@15_MEAN: 50.359\n",
      "NDCG@20_MEAN: 52.849\n",
      "PRECISION@50_MEAN: 12.333\n",
      "PRECISION@100_MEAN: 6.927\n",
      "RECALL@50_MEAN: 73.554\n",
      "RECALL@100_MEAN: 81.428\n",
      "TIME_SPENT_MEAN: 4.389\n",
      "==48==  2023-Jun-29 00:29:04 \n",
      "Experiment: {'TOPK_RETRIEVER': 300, 'TOPK_RANKER': 0, 'EXPANSOR_CRITERIA': 'join_30_ptt5_indir', 'INDEX_NAME': 'indir_juris_tcu_synonym_related_term', 'PIPE': {'PIPE_OBJECT': <haystack.pipelines.base.Pipeline object at 0x7f97c86b7d50>, 'RETRIEVER_TYPE': 'bm25', 'RANKER_TYPE': 'PTT5_INDIR_83', 'RETRIEVER_MODEL_NAME': ''}, 'COLUMN_NAME': '3'}\n",
      "Experimento envolverá 150 registros, toda a base de dados\n"
     ]
    },
    {
     "name": "stderr",
     "output_type": "stream",
     "text": [
      "100%|██████████| 150/150 [11:02<00:00,  4.42s/it]\n"
     ]
    },
    {
     "name": "stdout",
     "output_type": "stream",
     "text": [
      "COLUMN_NAME: 3\n",
      "COUNT_QUERY_RUN: 150\n",
      "EXPANSOR_CRITERIA: join_30_ptt5_indir\n",
      "COUNT_QUERY_WITHOUT_RESULT: 0\n",
      "COUNT_QUERY_NOT_FOUND: 3\n",
      "RANK1_MEAN: 2.932\n",
      "NDCG@5_MEAN: 49.142\n",
      "NDCG@10_MEAN: 46.8\n",
      "NDCG@15_MEAN: 50.368\n",
      "NDCG@20_MEAN: 53.088\n",
      "PRECISION@50_MEAN: 12.373\n",
      "PRECISION@100_MEAN: 6.927\n",
      "RECALL@50_MEAN: 73.758\n",
      "RECALL@100_MEAN: 81.685\n",
      "TIME_SPENT_MEAN: 4.418\n",
      "==49==  2023-Jun-29 00:40:09 \n",
      "Experiment: {'TOPK_RETRIEVER': 300, 'TOPK_RANKER': 0, 'EXPANSOR_CRITERIA': 'join_30_ptt5_indir', 'INDEX_NAME': 'indir_juris_tcu_synonym_related_term', 'PIPE': {'PIPE_OBJECT': <haystack.pipelines.base.Pipeline object at 0x7f97c86b7d50>, 'RETRIEVER_TYPE': 'bm25', 'RANKER_TYPE': 'PTT5_INDIR_83', 'RETRIEVER_MODEL_NAME': ''}, 'COLUMN_NAME': '4'}\n",
      "Experimento envolverá 150 registros, toda a base de dados\n"
     ]
    },
    {
     "name": "stderr",
     "output_type": "stream",
     "text": [
      "100%|██████████| 150/150 [11:08<00:00,  4.45s/it]\n"
     ]
    },
    {
     "name": "stdout",
     "output_type": "stream",
     "text": [
      "COLUMN_NAME: 4\n",
      "COUNT_QUERY_RUN: 150\n",
      "EXPANSOR_CRITERIA: join_30_ptt5_indir\n",
      "COUNT_QUERY_WITHOUT_RESULT: 0\n",
      "COUNT_QUERY_NOT_FOUND: 2\n",
      "RANK1_MEAN: 2.811\n",
      "NDCG@5_MEAN: 49.986\n",
      "NDCG@10_MEAN: 47.724\n",
      "NDCG@15_MEAN: 50.539\n",
      "NDCG@20_MEAN: 53.188\n",
      "PRECISION@50_MEAN: 12.333\n",
      "PRECISION@100_MEAN: 6.82\n",
      "RECALL@50_MEAN: 73.429\n",
      "RECALL@100_MEAN: 80.38\n",
      "TIME_SPENT_MEAN: 4.454\n",
      "==50==  2023-Jun-29 00:51:19 \n",
      "Experiment: {'TOPK_RETRIEVER': 300, 'TOPK_RANKER': 0, 'EXPANSOR_CRITERIA': 'join_30_ptt5_indir', 'INDEX_NAME': 'indir_juris_tcu_synonym_related_term', 'PIPE': {'PIPE_OBJECT': <haystack.pipelines.base.Pipeline object at 0x7f97c86b7d50>, 'RETRIEVER_TYPE': 'bm25', 'RANKER_TYPE': 'PTT5_INDIR_83', 'RETRIEVER_MODEL_NAME': ''}, 'COLUMN_NAME': '5'}\n",
      "Experimento envolverá 150 registros, toda a base de dados\n"
     ]
    },
    {
     "name": "stderr",
     "output_type": "stream",
     "text": [
      "100%|██████████| 150/150 [11:18<00:00,  4.52s/it]\n"
     ]
    },
    {
     "name": "stdout",
     "output_type": "stream",
     "text": [
      "COLUMN_NAME: 5\n",
      "COUNT_QUERY_RUN: 150\n",
      "EXPANSOR_CRITERIA: join_30_ptt5_indir\n",
      "COUNT_QUERY_WITHOUT_RESULT: 0\n",
      "COUNT_QUERY_NOT_FOUND: 3\n",
      "RANK1_MEAN: 2.789\n",
      "NDCG@5_MEAN: 49.83\n",
      "NDCG@10_MEAN: 47.442\n",
      "NDCG@15_MEAN: 50.107\n",
      "NDCG@20_MEAN: 52.519\n",
      "PRECISION@50_MEAN: 12.12\n",
      "PRECISION@100_MEAN: 6.787\n",
      "RECALL@50_MEAN: 72.492\n",
      "RECALL@100_MEAN: 80.125\n",
      "TIME_SPENT_MEAN: 4.521\n",
      "==51==  2023-Jun-29 01:02:40 \n",
      "Experiment: {'TOPK_RETRIEVER': 300, 'TOPK_RANKER': 0, 'EXPANSOR_CRITERIA': 'join_30_ptt5_indir', 'INDEX_NAME': 'indir_juris_tcu_synonym_related_term', 'PIPE': {'PIPE_OBJECT': <haystack.pipelines.base.Pipeline object at 0x7f97c86b7d50>, 'RETRIEVER_TYPE': 'bm25', 'RANKER_TYPE': 'PTT5_INDIR_83', 'RETRIEVER_MODEL_NAME': ''}, 'COLUMN_NAME': '6'}\n",
      "Experimento envolverá 150 registros, toda a base de dados\n"
     ]
    },
    {
     "name": "stderr",
     "output_type": "stream",
     "text": [
      "100%|██████████| 150/150 [11:29<00:00,  4.60s/it]\n"
     ]
    },
    {
     "name": "stdout",
     "output_type": "stream",
     "text": [
      "COLUMN_NAME: 6\n",
      "COUNT_QUERY_RUN: 150\n",
      "EXPANSOR_CRITERIA: join_30_ptt5_indir\n",
      "COUNT_QUERY_WITHOUT_RESULT: 0\n",
      "COUNT_QUERY_NOT_FOUND: 2\n",
      "RANK1_MEAN: 3.169\n",
      "NDCG@5_MEAN: 49.927\n",
      "NDCG@10_MEAN: 46.729\n",
      "NDCG@15_MEAN: 49.635\n",
      "NDCG@20_MEAN: 52.26\n",
      "PRECISION@50_MEAN: 12.0\n",
      "PRECISION@100_MEAN: 6.74\n",
      "RECALL@50_MEAN: 71.491\n",
      "RECALL@100_MEAN: 79.421\n",
      "TIME_SPENT_MEAN: 4.6\n",
      "==52==  2023-Jun-29 01:14:12 \n",
      "Experiment: {'TOPK_RETRIEVER': 300, 'TOPK_RANKER': 0, 'EXPANSOR_CRITERIA': 'join_30_ptt5_indir', 'INDEX_NAME': 'indir_juris_tcu_synonym_related_term', 'PIPE': {'PIPE_OBJECT': <haystack.pipelines.base.Pipeline object at 0x7f97c86b7d50>, 'RETRIEVER_TYPE': 'bm25', 'RANKER_TYPE': 'PTT5_INDIR_83', 'RETRIEVER_MODEL_NAME': ''}, 'COLUMN_NAME': '7'}\n",
      "Experimento envolverá 150 registros, toda a base de dados\n"
     ]
    },
    {
     "name": "stderr",
     "output_type": "stream",
     "text": [
      "100%|██████████| 150/150 [11:38<00:00,  4.66s/it]\n"
     ]
    },
    {
     "name": "stdout",
     "output_type": "stream",
     "text": [
      "COLUMN_NAME: 7\n",
      "COUNT_QUERY_RUN: 150\n",
      "EXPANSOR_CRITERIA: join_30_ptt5_indir\n",
      "COUNT_QUERY_WITHOUT_RESULT: 0\n",
      "COUNT_QUERY_NOT_FOUND: 2\n",
      "RANK1_MEAN: 3.399\n",
      "NDCG@5_MEAN: 48.402\n",
      "NDCG@10_MEAN: 45.686\n",
      "NDCG@15_MEAN: 49.177\n",
      "NDCG@20_MEAN: 51.814\n",
      "PRECISION@50_MEAN: 11.907\n",
      "PRECISION@100_MEAN: 6.673\n",
      "RECALL@50_MEAN: 71.059\n",
      "RECALL@100_MEAN: 78.671\n",
      "TIME_SPENT_MEAN: 4.66\n",
      "==53==  2023-Jun-29 01:25:53 \n",
      "Experiment: {'TOPK_RETRIEVER': 300, 'TOPK_RANKER': 0, 'EXPANSOR_CRITERIA': 'join_30_ptt5_indir', 'INDEX_NAME': 'indir_juris_tcu_synonym_related_term', 'PIPE': {'PIPE_OBJECT': <haystack.pipelines.base.Pipeline object at 0x7f97c86b7d50>, 'RETRIEVER_TYPE': 'bm25', 'RANKER_TYPE': 'PTT5_INDIR_83', 'RETRIEVER_MODEL_NAME': ''}, 'COLUMN_NAME': '8'}\n",
      "Experimento envolverá 150 registros, toda a base de dados\n"
     ]
    },
    {
     "name": "stderr",
     "output_type": "stream",
     "text": [
      "100%|██████████| 150/150 [11:44<00:00,  4.70s/it]\n"
     ]
    },
    {
     "name": "stdout",
     "output_type": "stream",
     "text": [
      "COLUMN_NAME: 8\n",
      "COUNT_QUERY_RUN: 150\n",
      "EXPANSOR_CRITERIA: join_30_ptt5_indir\n",
      "COUNT_QUERY_WITHOUT_RESULT: 0\n",
      "COUNT_QUERY_NOT_FOUND: 3\n",
      "RANK1_MEAN: 3.333\n",
      "NDCG@5_MEAN: 48.546\n",
      "NDCG@10_MEAN: 45.348\n",
      "NDCG@15_MEAN: 48.997\n",
      "NDCG@20_MEAN: 51.533\n",
      "PRECISION@50_MEAN: 11.933\n",
      "PRECISION@100_MEAN: 6.667\n",
      "RECALL@50_MEAN: 71.3\n",
      "RECALL@100_MEAN: 78.637\n",
      "TIME_SPENT_MEAN: 4.699\n",
      "==54==  2023-Jun-29 01:37:40 \n",
      "Experiment: {'TOPK_RETRIEVER': 300, 'TOPK_RANKER': 0, 'EXPANSOR_CRITERIA': 'join_30_ptt5_indir', 'INDEX_NAME': 'indir_juris_tcu_synonym_related_term', 'PIPE': {'PIPE_OBJECT': <haystack.pipelines.base.Pipeline object at 0x7f97c86b7d50>, 'RETRIEVER_TYPE': 'bm25', 'RANKER_TYPE': 'PTT5_INDIR_83', 'RETRIEVER_MODEL_NAME': ''}, 'COLUMN_NAME': '9'}\n",
      "Experimento envolverá 150 registros, toda a base de dados\n"
     ]
    },
    {
     "name": "stderr",
     "output_type": "stream",
     "text": [
      "100%|██████████| 150/150 [11:41<00:00,  4.68s/it]\n"
     ]
    },
    {
     "name": "stdout",
     "output_type": "stream",
     "text": [
      "COLUMN_NAME: 9\n",
      "COUNT_QUERY_RUN: 150\n",
      "EXPANSOR_CRITERIA: join_30_ptt5_indir\n",
      "COUNT_QUERY_WITHOUT_RESULT: 0\n",
      "COUNT_QUERY_NOT_FOUND: 3\n",
      "RANK1_MEAN: 3.844\n",
      "NDCG@5_MEAN: 48.143\n",
      "NDCG@10_MEAN: 45.19\n",
      "NDCG@15_MEAN: 48.294\n",
      "NDCG@20_MEAN: 50.899\n",
      "PRECISION@50_MEAN: 11.84\n",
      "PRECISION@100_MEAN: 6.647\n",
      "RECALL@50_MEAN: 70.788\n",
      "RECALL@100_MEAN: 78.416\n",
      "TIME_SPENT_MEAN: 4.678\n",
      "==55==  2023-Jun-29 01:49:24 \n",
      "Experiment: {'TOPK_RETRIEVER': 300, 'TOPK_RANKER': 0, 'EXPANSOR_CRITERIA': '', 'INDEX_NAME': 'indir_juris_tcu_synonym_related_term', 'PIPE': {'PIPE_OBJECT': <haystack.pipelines.base.Pipeline object at 0x7f97c86b7d50>, 'RETRIEVER_TYPE': 'bm25', 'RANKER_TYPE': 'PTT5_INDIR_83', 'RETRIEVER_MODEL_NAME': ''}, 'COLUMN_NAME': 'TEXT'}\n",
      "Experimento envolverá 150 registros, toda a base de dados\n"
     ]
    },
    {
     "name": "stderr",
     "output_type": "stream",
     "text": [
      "100%|██████████| 150/150 [10:34<00:00,  4.23s/it]\n"
     ]
    },
    {
     "name": "stdout",
     "output_type": "stream",
     "text": [
      "COLUMN_NAME: TEXT\n",
      "COUNT_QUERY_RUN: 150\n",
      "EXPANSOR_CRITERIA: \n",
      "COUNT_QUERY_WITHOUT_RESULT: 0\n",
      "COUNT_QUERY_NOT_FOUND: 0\n",
      "RANK1_MEAN: 1.933\n",
      "NDCG@5_MEAN: 56.631\n",
      "NDCG@10_MEAN: 53.607\n",
      "NDCG@15_MEAN: 57.14\n",
      "NDCG@20_MEAN: 60.796\n",
      "PRECISION@50_MEAN: 13.76\n",
      "PRECISION@100_MEAN: 7.487\n",
      "RECALL@50_MEAN: 80.441\n",
      "RECALL@100_MEAN: 87.461\n",
      "TIME_SPENT_MEAN: 4.228\n",
      "CPU times: user 5h 18min 14s, sys: 11.4 s, total: 5h 18min 26s\n",
      "Wall time: 5h 35min 7s\n"
     ]
    }
   ],
   "source": [
    "%%time\n",
    "# colocar pequeno só para testes, depois voltar para 9999999 (número maior do que o número de termos a pesquisar)\n",
    "if consider_run_all:\n",
    "    target_columns = df_search_data.columns.difference(['ID', 'RELEVANCE_DICT', 'SOURCE'])\n",
    "elif consider_query_expanded:\n",
    "    target_columns = df_search_data.columns.difference(['ID', 'RELEVANCE_DICT', 'SOURCE', 'TEXT'])\n",
    "else:\n",
    "    target_columns = ['TEXT']\n",
    "limit_query =  9999999 # 100 # \n",
    "cnt_exec = 0\n",
    "print('target_columns', target_columns)\n",
    "for index_name in pipes.keys():\n",
    "    for pipe in pipes[index_name]:\n",
    "        for cnt, experiment in enumerate(list_experiment):\n",
    "            # raise Exception('false break')            \n",
    "            for column_name in target_columns:\n",
    "                cnt_exec += 1\n",
    "                if column_name == 'TEXT':\n",
    "                    experiment['EXPANSOR_CRITERIA'] = \"\"\n",
    "                else:\n",
    "                    experiment['EXPANSOR_CRITERIA'] = EXPANSOR_CRITERIA\n",
    "                experiment['INDEX_NAME'] = index_name\n",
    "                experiment['PIPE'] = pipe\n",
    "                experiment['COLUMN_NAME'] = column_name\n",
    "                print(f\"=={cnt_exec}==  {time.strftime('%Y-%b-%d %H:%M:%S')} \\nExperiment: {experiment}\")\n",
    "                list_result_experiment = [] # por experiment\n",
    "                result_run = util_experiment.experiment_run(parm_df=df_search_data, \n",
    "                                                        parm_experiment=experiment,\n",
    "                                                        parm_limit_query=limit_query,\n",
    "                                                        parm_print=True)\n",
    "                # raise Exception('false break')\n",
    "                list_result_experiment.append(result_run)\n",
    "                # print(f\"qtd_encontrado sim:{result_run['qtd_encontrado']}, não:{result_run['qtd_nao_encontrado']} ({result_run['percent_nao_encontrado']}%)\")\n",
    "                util_experiment.add_experiment_result(parm_list_result=list_result_experiment, parm_dataset='juris_tcu')\n",
    "                torch.cuda.empty_cache()"
   ]
  },
  {
   "cell_type": "code",
   "execution_count": null,
   "metadata": {},
   "outputs": [],
   "source": []
  },
  {
   "cell_type": "code",
   "execution_count": null,
   "metadata": {},
   "outputs": [
    {
     "name": "stdout",
     "output_type": "stream",
     "text": [
      "target_columns Index(['1', '10', '2', '3', '4', '5', '6', '7', '8', '9', 'TEXT'], dtype='object')\n",
      "==1==  2023-Jun-28 17:04:09 \n",
      "Experiment: {'TOPK_RETRIEVER': 300, 'TOPK_RANKER': 0, 'EXPANSOR_CRITERIA': 'join_bm25_sts_30_minilm_indir', 'INDEX_NAME': 'indir_juris_tcu', 'PIPE': {'PIPE_OBJECT': <haystack.pipelines.base.Pipeline object at 0x7f604d3c7e50>, 'RETRIEVER_TYPE': 'join', 'RANKER_TYPE': 'MINILM_INDIR_400', 'RETRIEVER_MODEL_NAME': ''}, 'COLUMN_NAME': '1'}\n",
      "Experimento envolverá 150 registros, toda a base de dados\n"
     ]
    },
    {
     "name": "stderr",
     "output_type": "stream",
     "text": [
      "100%|██████████| 150/150 [01:06<00:00,  2.25it/s]\n"
     ]
    },
    {
     "name": "stdout",
     "output_type": "stream",
     "text": [
      "COLUMN_NAME: 1\n",
      "COUNT_QUERY_RUN: 150\n",
      "COUNT_QUERY_WITHOUT_RESULT: 0\n",
      "COUNT_QUERY_NOT_FOUND: 0\n",
      "RANK1_MEAN: 4.54\n",
      "NDCG@5_MEAN: 46.697\n",
      "NDCG@10_MEAN: 43.747\n",
      "NDCG@15_MEAN: 46.538\n",
      "NDCG@20_MEAN: 48.743\n",
      "PRECISION@50_MEAN: 12.24\n",
      "PRECISION@100_MEAN: 7.013\n",
      "RECALL@50_MEAN: 70.178\n",
      "RECALL@100_MEAN: 81.37\n",
      "TIME_SPENT_MEAN: 0.444\n",
      "==2==  2023-Jun-28 17:05:18 \n",
      "Experiment: {'TOPK_RETRIEVER': 300, 'TOPK_RANKER': 0, 'EXPANSOR_CRITERIA': 'join_bm25_sts_30_minilm_indir', 'INDEX_NAME': 'indir_juris_tcu', 'PIPE': {'PIPE_OBJECT': <haystack.pipelines.base.Pipeline object at 0x7f604d3c7e50>, 'RETRIEVER_TYPE': 'join', 'RANKER_TYPE': 'MINILM_INDIR_400', 'RETRIEVER_MODEL_NAME': ''}, 'COLUMN_NAME': '10'}\n",
      "Experimento envolverá 150 registros, toda a base de dados\n"
     ]
    },
    {
     "name": "stderr",
     "output_type": "stream",
     "text": [
      "100%|██████████| 150/150 [01:17<00:00,  1.93it/s]\n"
     ]
    },
    {
     "name": "stdout",
     "output_type": "stream",
     "text": [
      "COLUMN_NAME: 10\n",
      "COUNT_QUERY_RUN: 150\n",
      "COUNT_QUERY_WITHOUT_RESULT: 0\n",
      "COUNT_QUERY_NOT_FOUND: 1\n",
      "RANK1_MEAN: 3.711\n",
      "NDCG@5_MEAN: 51.804\n",
      "NDCG@10_MEAN: 48.376\n",
      "NDCG@15_MEAN: 50.98\n",
      "NDCG@20_MEAN: 53.627\n",
      "PRECISION@50_MEAN: 12.44\n",
      "PRECISION@100_MEAN: 6.907\n",
      "RECALL@50_MEAN: 72.865\n",
      "RECALL@100_MEAN: 80.539\n",
      "TIME_SPENT_MEAN: 0.517\n",
      "==3==  2023-Jun-28 17:06:37 \n",
      "Experiment: {'TOPK_RETRIEVER': 300, 'TOPK_RANKER': 0, 'EXPANSOR_CRITERIA': 'join_bm25_sts_30_minilm_indir', 'INDEX_NAME': 'indir_juris_tcu', 'PIPE': {'PIPE_OBJECT': <haystack.pipelines.base.Pipeline object at 0x7f604d3c7e50>, 'RETRIEVER_TYPE': 'join', 'RANKER_TYPE': 'MINILM_INDIR_400', 'RETRIEVER_MODEL_NAME': ''}, 'COLUMN_NAME': '2'}\n",
      "Experimento envolverá 150 registros, toda a base de dados\n"
     ]
    },
    {
     "name": "stderr",
     "output_type": "stream",
     "text": [
      "100%|██████████| 150/150 [01:07<00:00,  2.21it/s]\n"
     ]
    },
    {
     "name": "stdout",
     "output_type": "stream",
     "text": [
      "COLUMN_NAME: 2\n",
      "COUNT_QUERY_RUN: 150\n",
      "COUNT_QUERY_WITHOUT_RESULT: 0\n",
      "COUNT_QUERY_NOT_FOUND: 0\n",
      "RANK1_MEAN: 4.433\n",
      "NDCG@5_MEAN: 47.636\n",
      "NDCG@10_MEAN: 44.962\n",
      "NDCG@15_MEAN: 47.054\n",
      "NDCG@20_MEAN: 49.88\n",
      "PRECISION@50_MEAN: 12.493\n",
      "PRECISION@100_MEAN: 7.027\n",
      "RECALL@50_MEAN: 72.422\n",
      "RECALL@100_MEAN: 81.555\n",
      "TIME_SPENT_MEAN: 0.452\n",
      "==4==  2023-Jun-28 17:07:47 \n",
      "Experiment: {'TOPK_RETRIEVER': 300, 'TOPK_RANKER': 0, 'EXPANSOR_CRITERIA': 'join_bm25_sts_30_minilm_indir', 'INDEX_NAME': 'indir_juris_tcu', 'PIPE': {'PIPE_OBJECT': <haystack.pipelines.base.Pipeline object at 0x7f604d3c7e50>, 'RETRIEVER_TYPE': 'join', 'RANKER_TYPE': 'MINILM_INDIR_400', 'RETRIEVER_MODEL_NAME': ''}, 'COLUMN_NAME': '3'}\n",
      "Experimento envolverá 150 registros, toda a base de dados\n"
     ]
    },
    {
     "name": "stderr",
     "output_type": "stream",
     "text": [
      "100%|██████████| 150/150 [01:10<00:00,  2.13it/s]\n"
     ]
    },
    {
     "name": "stdout",
     "output_type": "stream",
     "text": [
      "COLUMN_NAME: 3\n",
      "COUNT_QUERY_RUN: 150\n",
      "COUNT_QUERY_WITHOUT_RESULT: 0\n",
      "COUNT_QUERY_NOT_FOUND: 0\n",
      "RANK1_MEAN: 4.653\n",
      "NDCG@5_MEAN: 47.019\n",
      "NDCG@10_MEAN: 44.435\n",
      "NDCG@15_MEAN: 46.521\n",
      "NDCG@20_MEAN: 49.096\n",
      "PRECISION@50_MEAN: 12.107\n",
      "PRECISION@100_MEAN: 6.873\n",
      "RECALL@50_MEAN: 70.541\n",
      "RECALL@100_MEAN: 79.75\n",
      "TIME_SPENT_MEAN: 0.47\n",
      "==5==  2023-Jun-28 17:08:59 \n",
      "Experiment: {'TOPK_RETRIEVER': 300, 'TOPK_RANKER': 0, 'EXPANSOR_CRITERIA': 'join_bm25_sts_30_minilm_indir', 'INDEX_NAME': 'indir_juris_tcu', 'PIPE': {'PIPE_OBJECT': <haystack.pipelines.base.Pipeline object at 0x7f604d3c7e50>, 'RETRIEVER_TYPE': 'join', 'RANKER_TYPE': 'MINILM_INDIR_400', 'RETRIEVER_MODEL_NAME': ''}, 'COLUMN_NAME': '4'}\n",
      "Experimento envolverá 150 registros, toda a base de dados\n"
     ]
    },
    {
     "name": "stderr",
     "output_type": "stream",
     "text": [
      "100%|██████████| 150/150 [01:11<00:00,  2.11it/s]\n"
     ]
    },
    {
     "name": "stdout",
     "output_type": "stream",
     "text": [
      "COLUMN_NAME: 4\n",
      "COUNT_QUERY_RUN: 150\n",
      "COUNT_QUERY_WITHOUT_RESULT: 0\n",
      "COUNT_QUERY_NOT_FOUND: 0\n",
      "RANK1_MEAN: 4.52\n",
      "NDCG@5_MEAN: 48.154\n",
      "NDCG@10_MEAN: 45.427\n",
      "NDCG@15_MEAN: 47.753\n",
      "NDCG@20_MEAN: 50.203\n",
      "PRECISION@50_MEAN: 12.213\n",
      "PRECISION@100_MEAN: 6.973\n",
      "RECALL@50_MEAN: 71.773\n",
      "RECALL@100_MEAN: 81.063\n",
      "TIME_SPENT_MEAN: 0.475\n",
      "==6==  2023-Jun-28 17:10:12 \n",
      "Experiment: {'TOPK_RETRIEVER': 300, 'TOPK_RANKER': 0, 'EXPANSOR_CRITERIA': 'join_bm25_sts_30_minilm_indir', 'INDEX_NAME': 'indir_juris_tcu', 'PIPE': {'PIPE_OBJECT': <haystack.pipelines.base.Pipeline object at 0x7f604d3c7e50>, 'RETRIEVER_TYPE': 'join', 'RANKER_TYPE': 'MINILM_INDIR_400', 'RETRIEVER_MODEL_NAME': ''}, 'COLUMN_NAME': '5'}\n",
      "Experimento envolverá 150 registros, toda a base de dados\n"
     ]
    },
    {
     "name": "stderr",
     "output_type": "stream",
     "text": [
      "100%|██████████| 150/150 [01:12<00:00,  2.06it/s]\n"
     ]
    },
    {
     "name": "stdout",
     "output_type": "stream",
     "text": [
      "COLUMN_NAME: 5\n",
      "COUNT_QUERY_RUN: 150\n",
      "COUNT_QUERY_WITHOUT_RESULT: 0\n",
      "COUNT_QUERY_NOT_FOUND: 0\n",
      "RANK1_MEAN: 4.173\n",
      "NDCG@5_MEAN: 50.238\n",
      "NDCG@10_MEAN: 46.724\n",
      "NDCG@15_MEAN: 49.406\n",
      "NDCG@20_MEAN: 51.766\n",
      "PRECISION@50_MEAN: 12.44\n",
      "PRECISION@100_MEAN: 7.053\n",
      "RECALL@50_MEAN: 73.047\n",
      "RECALL@100_MEAN: 82.168\n",
      "TIME_SPENT_MEAN: 0.486\n",
      "==7==  2023-Jun-28 17:11:27 \n",
      "Experiment: {'TOPK_RETRIEVER': 300, 'TOPK_RANKER': 0, 'EXPANSOR_CRITERIA': 'join_bm25_sts_30_minilm_indir', 'INDEX_NAME': 'indir_juris_tcu', 'PIPE': {'PIPE_OBJECT': <haystack.pipelines.base.Pipeline object at 0x7f604d3c7e50>, 'RETRIEVER_TYPE': 'join', 'RANKER_TYPE': 'MINILM_INDIR_400', 'RETRIEVER_MODEL_NAME': ''}, 'COLUMN_NAME': '6'}\n",
      "Experimento envolverá 150 registros, toda a base de dados\n"
     ]
    },
    {
     "name": "stderr",
     "output_type": "stream",
     "text": [
      "100%|██████████| 150/150 [01:14<00:00,  2.01it/s]\n"
     ]
    },
    {
     "name": "stdout",
     "output_type": "stream",
     "text": [
      "COLUMN_NAME: 6\n",
      "COUNT_QUERY_RUN: 150\n",
      "COUNT_QUERY_WITHOUT_RESULT: 0\n",
      "COUNT_QUERY_NOT_FOUND: 0\n",
      "RANK1_MEAN: 4.713\n",
      "NDCG@5_MEAN: 49.285\n",
      "NDCG@10_MEAN: 46.826\n",
      "NDCG@15_MEAN: 49.207\n",
      "NDCG@20_MEAN: 52.164\n",
      "PRECISION@50_MEAN: 12.707\n",
      "PRECISION@100_MEAN: 7.107\n",
      "RECALL@50_MEAN: 73.849\n",
      "RECALL@100_MEAN: 82.507\n",
      "TIME_SPENT_MEAN: 0.497\n",
      "==8==  2023-Jun-28 17:12:43 \n",
      "Experiment: {'TOPK_RETRIEVER': 300, 'TOPK_RANKER': 0, 'EXPANSOR_CRITERIA': 'join_bm25_sts_30_minilm_indir', 'INDEX_NAME': 'indir_juris_tcu', 'PIPE': {'PIPE_OBJECT': <haystack.pipelines.base.Pipeline object at 0x7f604d3c7e50>, 'RETRIEVER_TYPE': 'join', 'RANKER_TYPE': 'MINILM_INDIR_400', 'RETRIEVER_MODEL_NAME': ''}, 'COLUMN_NAME': '7'}\n",
      "Experimento envolverá 150 registros, toda a base de dados\n"
     ]
    },
    {
     "name": "stderr",
     "output_type": "stream",
     "text": [
      "100%|██████████| 150/150 [01:15<00:00,  2.00it/s]\n"
     ]
    },
    {
     "name": "stdout",
     "output_type": "stream",
     "text": [
      "COLUMN_NAME: 7\n",
      "COUNT_QUERY_RUN: 150\n",
      "COUNT_QUERY_WITHOUT_RESULT: 0\n",
      "COUNT_QUERY_NOT_FOUND: 0\n",
      "RANK1_MEAN: 4.967\n",
      "NDCG@5_MEAN: 50.664\n",
      "NDCG@10_MEAN: 47.373\n",
      "NDCG@15_MEAN: 50.327\n",
      "NDCG@20_MEAN: 53.147\n",
      "PRECISION@50_MEAN: 12.573\n",
      "PRECISION@100_MEAN: 7.087\n",
      "RECALL@50_MEAN: 73.418\n",
      "RECALL@100_MEAN: 82.142\n",
      "TIME_SPENT_MEAN: 0.501\n",
      "==9==  2023-Jun-28 17:14:00 \n",
      "Experiment: {'TOPK_RETRIEVER': 300, 'TOPK_RANKER': 0, 'EXPANSOR_CRITERIA': 'join_bm25_sts_30_minilm_indir', 'INDEX_NAME': 'indir_juris_tcu', 'PIPE': {'PIPE_OBJECT': <haystack.pipelines.base.Pipeline object at 0x7f604d3c7e50>, 'RETRIEVER_TYPE': 'join', 'RANKER_TYPE': 'MINILM_INDIR_400', 'RETRIEVER_MODEL_NAME': ''}, 'COLUMN_NAME': '8'}\n",
      "Experimento envolverá 150 registros, toda a base de dados\n"
     ]
    },
    {
     "name": "stderr",
     "output_type": "stream",
     "text": [
      "100%|██████████| 150/150 [01:16<00:00,  1.96it/s]\n"
     ]
    },
    {
     "name": "stdout",
     "output_type": "stream",
     "text": [
      "COLUMN_NAME: 8\n",
      "COUNT_QUERY_RUN: 150\n",
      "COUNT_QUERY_WITHOUT_RESULT: 0\n",
      "COUNT_QUERY_NOT_FOUND: 1\n",
      "RANK1_MEAN: 4.094\n",
      "NDCG@5_MEAN: 51.691\n",
      "NDCG@10_MEAN: 48.345\n",
      "NDCG@15_MEAN: 51.05\n",
      "NDCG@20_MEAN: 53.579\n",
      "PRECISION@50_MEAN: 12.493\n",
      "PRECISION@100_MEAN: 6.96\n",
      "RECALL@50_MEAN: 73.023\n",
      "RECALL@100_MEAN: 80.322\n",
      "TIME_SPENT_MEAN: 0.509\n",
      "==10==  2023-Jun-28 17:15:18 \n",
      "Experiment: {'TOPK_RETRIEVER': 300, 'TOPK_RANKER': 0, 'EXPANSOR_CRITERIA': 'join_bm25_sts_30_minilm_indir', 'INDEX_NAME': 'indir_juris_tcu', 'PIPE': {'PIPE_OBJECT': <haystack.pipelines.base.Pipeline object at 0x7f604d3c7e50>, 'RETRIEVER_TYPE': 'join', 'RANKER_TYPE': 'MINILM_INDIR_400', 'RETRIEVER_MODEL_NAME': ''}, 'COLUMN_NAME': '9'}\n",
      "Experimento envolverá 150 registros, toda a base de dados\n"
     ]
    },
    {
     "name": "stderr",
     "output_type": "stream",
     "text": [
      "100%|██████████| 150/150 [01:16<00:00,  1.95it/s]\n"
     ]
    },
    {
     "name": "stdout",
     "output_type": "stream",
     "text": [
      "COLUMN_NAME: 9\n",
      "COUNT_QUERY_RUN: 150\n",
      "COUNT_QUERY_WITHOUT_RESULT: 0\n",
      "COUNT_QUERY_NOT_FOUND: 1\n",
      "RANK1_MEAN: 3.987\n",
      "NDCG@5_MEAN: 51.638\n",
      "NDCG@10_MEAN: 48.357\n",
      "NDCG@15_MEAN: 50.86\n",
      "NDCG@20_MEAN: 53.588\n",
      "PRECISION@50_MEAN: 12.48\n",
      "PRECISION@100_MEAN: 6.933\n",
      "RECALL@50_MEAN: 73.03\n",
      "RECALL@100_MEAN: 80.756\n",
      "TIME_SPENT_MEAN: 0.512\n",
      "==11==  2023-Jun-28 17:16:37 \n",
      "Experiment: {'TOPK_RETRIEVER': 300, 'TOPK_RANKER': 0, 'EXPANSOR_CRITERIA': '', 'INDEX_NAME': 'indir_juris_tcu', 'PIPE': {'PIPE_OBJECT': <haystack.pipelines.base.Pipeline object at 0x7f604d3c7e50>, 'RETRIEVER_TYPE': 'join', 'RANKER_TYPE': 'MINILM_INDIR_400', 'RETRIEVER_MODEL_NAME': ''}, 'COLUMN_NAME': 'TEXT'}\n",
      "Experimento envolverá 150 registros, toda a base de dados\n"
     ]
    },
    {
     "name": "stderr",
     "output_type": "stream",
     "text": [
      "100%|██████████| 150/150 [01:04<00:00,  2.32it/s]\n"
     ]
    },
    {
     "name": "stdout",
     "output_type": "stream",
     "text": [
      "COLUMN_NAME: TEXT\n",
      "COUNT_QUERY_RUN: 150\n",
      "COUNT_QUERY_WITHOUT_RESULT: 0\n",
      "COUNT_QUERY_NOT_FOUND: 0\n",
      "RANK1_MEAN: 3.587\n",
      "NDCG@5_MEAN: 46.359\n",
      "NDCG@10_MEAN: 44.504\n",
      "NDCG@15_MEAN: 47.482\n",
      "NDCG@20_MEAN: 50.301\n",
      "PRECISION@50_MEAN: 12.787\n",
      "PRECISION@100_MEAN: 7.373\n",
      "RECALL@50_MEAN: 72.871\n",
      "RECALL@100_MEAN: 85.409\n",
      "TIME_SPENT_MEAN: 0.432\n",
      "==12==  2023-Jun-28 17:17:44 \n",
      "Experiment: {'TOPK_RETRIEVER': 300, 'TOPK_RANKER': 0, 'EXPANSOR_CRITERIA': 'join_bm25_sts_30_minilm_indir', 'INDEX_NAME': 'indir_juris_tcu_term', 'PIPE': {'PIPE_OBJECT': <haystack.pipelines.base.Pipeline object at 0x7f604db602d0>, 'RETRIEVER_TYPE': 'join', 'RANKER_TYPE': 'MINILM_INDIR_400', 'RETRIEVER_MODEL_NAME': ''}, 'COLUMN_NAME': '1'}\n",
      "Experimento envolverá 150 registros, toda a base de dados\n"
     ]
    },
    {
     "name": "stderr",
     "output_type": "stream",
     "text": [
      "100%|██████████| 150/150 [01:10<00:00,  2.13it/s]\n"
     ]
    },
    {
     "name": "stdout",
     "output_type": "stream",
     "text": [
      "COLUMN_NAME: 1\n",
      "COUNT_QUERY_RUN: 150\n",
      "COUNT_QUERY_WITHOUT_RESULT: 0\n",
      "COUNT_QUERY_NOT_FOUND: 0\n",
      "RANK1_MEAN: 3.44\n",
      "NDCG@5_MEAN: 52.046\n",
      "NDCG@10_MEAN: 48.597\n",
      "NDCG@15_MEAN: 51.871\n",
      "NDCG@20_MEAN: 54.117\n",
      "PRECISION@50_MEAN: 12.987\n",
      "PRECISION@100_MEAN: 7.447\n",
      "RECALL@50_MEAN: 75.469\n",
      "RECALL@100_MEAN: 86.578\n",
      "TIME_SPENT_MEAN: 0.469\n",
      "==13==  2023-Jun-28 17:18:56 \n",
      "Experiment: {'TOPK_RETRIEVER': 300, 'TOPK_RANKER': 0, 'EXPANSOR_CRITERIA': 'join_bm25_sts_30_minilm_indir', 'INDEX_NAME': 'indir_juris_tcu_term', 'PIPE': {'PIPE_OBJECT': <haystack.pipelines.base.Pipeline object at 0x7f604db602d0>, 'RETRIEVER_TYPE': 'join', 'RANKER_TYPE': 'MINILM_INDIR_400', 'RETRIEVER_MODEL_NAME': ''}, 'COLUMN_NAME': '10'}\n",
      "Experimento envolverá 150 registros, toda a base de dados\n"
     ]
    },
    {
     "name": "stderr",
     "output_type": "stream",
     "text": [
      "100%|██████████| 150/150 [01:17<00:00,  1.94it/s]\n"
     ]
    },
    {
     "name": "stdout",
     "output_type": "stream",
     "text": [
      "COLUMN_NAME: 10\n",
      "COUNT_QUERY_RUN: 150\n",
      "COUNT_QUERY_WITHOUT_RESULT: 0\n",
      "COUNT_QUERY_NOT_FOUND: 0\n",
      "RANK1_MEAN: 4.393\n",
      "NDCG@5_MEAN: 52.331\n",
      "NDCG@10_MEAN: 48.798\n",
      "NDCG@15_MEAN: 51.946\n",
      "NDCG@20_MEAN: 54.367\n",
      "PRECISION@50_MEAN: 12.6\n",
      "PRECISION@100_MEAN: 7.167\n",
      "RECALL@50_MEAN: 74.014\n",
      "RECALL@100_MEAN: 83.665\n",
      "TIME_SPENT_MEAN: 0.515\n",
      "==14==  2023-Jun-28 17:20:15 \n",
      "Experiment: {'TOPK_RETRIEVER': 300, 'TOPK_RANKER': 0, 'EXPANSOR_CRITERIA': 'join_bm25_sts_30_minilm_indir', 'INDEX_NAME': 'indir_juris_tcu_term', 'PIPE': {'PIPE_OBJECT': <haystack.pipelines.base.Pipeline object at 0x7f604db602d0>, 'RETRIEVER_TYPE': 'join', 'RANKER_TYPE': 'MINILM_INDIR_400', 'RETRIEVER_MODEL_NAME': ''}, 'COLUMN_NAME': '2'}\n",
      "Experimento envolverá 150 registros, toda a base de dados\n"
     ]
    },
    {
     "name": "stderr",
     "output_type": "stream",
     "text": [
      "100%|██████████| 150/150 [01:10<00:00,  2.12it/s]\n"
     ]
    },
    {
     "name": "stdout",
     "output_type": "stream",
     "text": [
      "COLUMN_NAME: 2\n",
      "COUNT_QUERY_RUN: 150\n",
      "COUNT_QUERY_WITHOUT_RESULT: 0\n",
      "COUNT_QUERY_NOT_FOUND: 0\n",
      "RANK1_MEAN: 3.52\n",
      "NDCG@5_MEAN: 53.315\n",
      "NDCG@10_MEAN: 49.484\n",
      "NDCG@15_MEAN: 52.407\n",
      "NDCG@20_MEAN: 54.93\n",
      "PRECISION@50_MEAN: 13.227\n",
      "PRECISION@100_MEAN: 7.467\n",
      "RECALL@50_MEAN: 76.903\n",
      "RECALL@100_MEAN: 86.217\n",
      "TIME_SPENT_MEAN: 0.472\n",
      "==15==  2023-Jun-28 17:21:28 \n",
      "Experiment: {'TOPK_RETRIEVER': 300, 'TOPK_RANKER': 0, 'EXPANSOR_CRITERIA': 'join_bm25_sts_30_minilm_indir', 'INDEX_NAME': 'indir_juris_tcu_term', 'PIPE': {'PIPE_OBJECT': <haystack.pipelines.base.Pipeline object at 0x7f604db602d0>, 'RETRIEVER_TYPE': 'join', 'RANKER_TYPE': 'MINILM_INDIR_400', 'RETRIEVER_MODEL_NAME': ''}, 'COLUMN_NAME': '3'}\n",
      "Experimento envolverá 150 registros, toda a base de dados\n"
     ]
    },
    {
     "name": "stderr",
     "output_type": "stream",
     "text": [
      "100%|██████████| 150/150 [01:12<00:00,  2.06it/s]\n"
     ]
    },
    {
     "name": "stdout",
     "output_type": "stream",
     "text": [
      "COLUMN_NAME: 3\n",
      "COUNT_QUERY_RUN: 150\n",
      "COUNT_QUERY_WITHOUT_RESULT: 0\n",
      "COUNT_QUERY_NOT_FOUND: 0\n",
      "RANK1_MEAN: 4.0\n",
      "NDCG@5_MEAN: 52.043\n",
      "NDCG@10_MEAN: 49.077\n",
      "NDCG@15_MEAN: 52.105\n",
      "NDCG@20_MEAN: 54.164\n",
      "PRECISION@50_MEAN: 12.813\n",
      "PRECISION@100_MEAN: 7.353\n",
      "RECALL@50_MEAN: 74.297\n",
      "RECALL@100_MEAN: 85.673\n",
      "TIME_SPENT_MEAN: 0.486\n",
      "==16==  2023-Jun-28 17:22:43 \n",
      "Experiment: {'TOPK_RETRIEVER': 300, 'TOPK_RANKER': 0, 'EXPANSOR_CRITERIA': 'join_bm25_sts_30_minilm_indir', 'INDEX_NAME': 'indir_juris_tcu_term', 'PIPE': {'PIPE_OBJECT': <haystack.pipelines.base.Pipeline object at 0x7f604db602d0>, 'RETRIEVER_TYPE': 'join', 'RANKER_TYPE': 'MINILM_INDIR_400', 'RETRIEVER_MODEL_NAME': ''}, 'COLUMN_NAME': '4'}\n",
      "Experimento envolverá 150 registros, toda a base de dados\n"
     ]
    },
    {
     "name": "stderr",
     "output_type": "stream",
     "text": [
      "100%|██████████| 150/150 [01:12<00:00,  2.06it/s]\n"
     ]
    },
    {
     "name": "stdout",
     "output_type": "stream",
     "text": [
      "COLUMN_NAME: 4\n",
      "COUNT_QUERY_RUN: 150\n",
      "COUNT_QUERY_WITHOUT_RESULT: 0\n",
      "COUNT_QUERY_NOT_FOUND: 0\n",
      "RANK1_MEAN: 3.907\n",
      "NDCG@5_MEAN: 52.996\n",
      "NDCG@10_MEAN: 49.865\n",
      "NDCG@15_MEAN: 52.682\n",
      "NDCG@20_MEAN: 54.88\n",
      "PRECISION@50_MEAN: 12.867\n",
      "PRECISION@100_MEAN: 7.387\n",
      "RECALL@50_MEAN: 75.324\n",
      "RECALL@100_MEAN: 85.753\n",
      "TIME_SPENT_MEAN: 0.486\n",
      "==17==  2023-Jun-28 17:23:57 \n",
      "Experiment: {'TOPK_RETRIEVER': 300, 'TOPK_RANKER': 0, 'EXPANSOR_CRITERIA': 'join_bm25_sts_30_minilm_indir', 'INDEX_NAME': 'indir_juris_tcu_term', 'PIPE': {'PIPE_OBJECT': <haystack.pipelines.base.Pipeline object at 0x7f604db602d0>, 'RETRIEVER_TYPE': 'join', 'RANKER_TYPE': 'MINILM_INDIR_400', 'RETRIEVER_MODEL_NAME': ''}, 'COLUMN_NAME': '5'}\n",
      "Experimento envolverá 150 registros, toda a base de dados\n"
     ]
    },
    {
     "name": "stderr",
     "output_type": "stream",
     "text": [
      "100%|██████████| 150/150 [01:14<00:00,  2.02it/s]\n"
     ]
    },
    {
     "name": "stdout",
     "output_type": "stream",
     "text": [
      "COLUMN_NAME: 5\n",
      "COUNT_QUERY_RUN: 150\n",
      "COUNT_QUERY_WITHOUT_RESULT: 0\n",
      "COUNT_QUERY_NOT_FOUND: 0\n",
      "RANK1_MEAN: 3.88\n",
      "NDCG@5_MEAN: 53.291\n",
      "NDCG@10_MEAN: 49.425\n",
      "NDCG@15_MEAN: 52.395\n",
      "NDCG@20_MEAN: 55.078\n",
      "PRECISION@50_MEAN: 12.92\n",
      "PRECISION@100_MEAN: 7.353\n",
      "RECALL@50_MEAN: 75.923\n",
      "RECALL@100_MEAN: 85.363\n",
      "TIME_SPENT_MEAN: 0.495\n",
      "==18==  2023-Jun-28 17:25:13 \n",
      "Experiment: {'TOPK_RETRIEVER': 300, 'TOPK_RANKER': 0, 'EXPANSOR_CRITERIA': 'join_bm25_sts_30_minilm_indir', 'INDEX_NAME': 'indir_juris_tcu_term', 'PIPE': {'PIPE_OBJECT': <haystack.pipelines.base.Pipeline object at 0x7f604db602d0>, 'RETRIEVER_TYPE': 'join', 'RANKER_TYPE': 'MINILM_INDIR_400', 'RETRIEVER_MODEL_NAME': ''}, 'COLUMN_NAME': '6'}\n",
      "Experimento envolverá 150 registros, toda a base de dados\n"
     ]
    },
    {
     "name": "stderr",
     "output_type": "stream",
     "text": [
      "100%|██████████| 150/150 [01:14<00:00,  2.00it/s]\n"
     ]
    },
    {
     "name": "stdout",
     "output_type": "stream",
     "text": [
      "COLUMN_NAME: 6\n",
      "COUNT_QUERY_RUN: 150\n",
      "COUNT_QUERY_WITHOUT_RESULT: 0\n",
      "COUNT_QUERY_NOT_FOUND: 0\n",
      "RANK1_MEAN: 3.793\n",
      "NDCG@5_MEAN: 53.56\n",
      "NDCG@10_MEAN: 49.422\n",
      "NDCG@15_MEAN: 52.191\n",
      "NDCG@20_MEAN: 54.887\n",
      "PRECISION@50_MEAN: 13.067\n",
      "PRECISION@100_MEAN: 7.32\n",
      "RECALL@50_MEAN: 76.846\n",
      "RECALL@100_MEAN: 85.209\n",
      "TIME_SPENT_MEAN: 0.5\n",
      "==19==  2023-Jun-28 17:26:30 \n",
      "Experiment: {'TOPK_RETRIEVER': 300, 'TOPK_RANKER': 0, 'EXPANSOR_CRITERIA': 'join_bm25_sts_30_minilm_indir', 'INDEX_NAME': 'indir_juris_tcu_term', 'PIPE': {'PIPE_OBJECT': <haystack.pipelines.base.Pipeline object at 0x7f604db602d0>, 'RETRIEVER_TYPE': 'join', 'RANKER_TYPE': 'MINILM_INDIR_400', 'RETRIEVER_MODEL_NAME': ''}, 'COLUMN_NAME': '7'}\n",
      "Experimento envolverá 150 registros, toda a base de dados\n"
     ]
    },
    {
     "name": "stderr",
     "output_type": "stream",
     "text": [
      "100%|██████████| 150/150 [01:15<00:00,  1.98it/s]\n"
     ]
    },
    {
     "name": "stdout",
     "output_type": "stream",
     "text": [
      "COLUMN_NAME: 7\n",
      "COUNT_QUERY_RUN: 150\n",
      "COUNT_QUERY_WITHOUT_RESULT: 0\n",
      "COUNT_QUERY_NOT_FOUND: 0\n",
      "RANK1_MEAN: 4.28\n",
      "NDCG@5_MEAN: 52.815\n",
      "NDCG@10_MEAN: 49.338\n",
      "NDCG@15_MEAN: 52.065\n",
      "NDCG@20_MEAN: 54.41\n",
      "PRECISION@50_MEAN: 12.8\n",
      "PRECISION@100_MEAN: 7.233\n",
      "RECALL@50_MEAN: 75.014\n",
      "RECALL@100_MEAN: 84.388\n",
      "TIME_SPENT_MEAN: 0.506\n",
      "==20==  2023-Jun-28 17:27:48 \n",
      "Experiment: {'TOPK_RETRIEVER': 300, 'TOPK_RANKER': 0, 'EXPANSOR_CRITERIA': 'join_bm25_sts_30_minilm_indir', 'INDEX_NAME': 'indir_juris_tcu_term', 'PIPE': {'PIPE_OBJECT': <haystack.pipelines.base.Pipeline object at 0x7f604db602d0>, 'RETRIEVER_TYPE': 'join', 'RANKER_TYPE': 'MINILM_INDIR_400', 'RETRIEVER_MODEL_NAME': ''}, 'COLUMN_NAME': '8'}\n",
      "Experimento envolverá 150 registros, toda a base de dados\n"
     ]
    },
    {
     "name": "stderr",
     "output_type": "stream",
     "text": [
      "100%|██████████| 150/150 [01:16<00:00,  1.95it/s]\n"
     ]
    },
    {
     "name": "stdout",
     "output_type": "stream",
     "text": [
      "COLUMN_NAME: 8\n",
      "COUNT_QUERY_RUN: 150\n",
      "COUNT_QUERY_WITHOUT_RESULT: 0\n",
      "COUNT_QUERY_NOT_FOUND: 0\n",
      "RANK1_MEAN: 4.493\n",
      "NDCG@5_MEAN: 52.741\n",
      "NDCG@10_MEAN: 49.095\n",
      "NDCG@15_MEAN: 52.0\n",
      "NDCG@20_MEAN: 54.135\n",
      "PRECISION@50_MEAN: 12.707\n",
      "PRECISION@100_MEAN: 7.187\n",
      "RECALL@50_MEAN: 74.604\n",
      "RECALL@100_MEAN: 83.844\n",
      "TIME_SPENT_MEAN: 0.512\n",
      "==21==  2023-Jun-28 17:29:07 \n",
      "Experiment: {'TOPK_RETRIEVER': 300, 'TOPK_RANKER': 0, 'EXPANSOR_CRITERIA': 'join_bm25_sts_30_minilm_indir', 'INDEX_NAME': 'indir_juris_tcu_term', 'PIPE': {'PIPE_OBJECT': <haystack.pipelines.base.Pipeline object at 0x7f604db602d0>, 'RETRIEVER_TYPE': 'join', 'RANKER_TYPE': 'MINILM_INDIR_400', 'RETRIEVER_MODEL_NAME': ''}, 'COLUMN_NAME': '9'}\n",
      "Experimento envolverá 150 registros, toda a base de dados\n"
     ]
    },
    {
     "name": "stderr",
     "output_type": "stream",
     "text": [
      "100%|██████████| 150/150 [01:17<00:00,  1.93it/s]\n"
     ]
    },
    {
     "name": "stdout",
     "output_type": "stream",
     "text": [
      "COLUMN_NAME: 9\n",
      "COUNT_QUERY_RUN: 150\n",
      "COUNT_QUERY_WITHOUT_RESULT: 0\n",
      "COUNT_QUERY_NOT_FOUND: 0\n",
      "RANK1_MEAN: 4.42\n",
      "NDCG@5_MEAN: 52.072\n",
      "NDCG@10_MEAN: 48.672\n",
      "NDCG@15_MEAN: 51.897\n",
      "NDCG@20_MEAN: 54.212\n",
      "PRECISION@50_MEAN: 12.627\n",
      "PRECISION@100_MEAN: 7.16\n",
      "RECALL@50_MEAN: 74.177\n",
      "RECALL@100_MEAN: 83.608\n",
      "TIME_SPENT_MEAN: 0.518\n",
      "==22==  2023-Jun-28 17:30:27 \n",
      "Experiment: {'TOPK_RETRIEVER': 300, 'TOPK_RANKER': 0, 'EXPANSOR_CRITERIA': '', 'INDEX_NAME': 'indir_juris_tcu_term', 'PIPE': {'PIPE_OBJECT': <haystack.pipelines.base.Pipeline object at 0x7f604db602d0>, 'RETRIEVER_TYPE': 'join', 'RANKER_TYPE': 'MINILM_INDIR_400', 'RETRIEVER_MODEL_NAME': ''}, 'COLUMN_NAME': 'TEXT'}\n",
      "Experimento envolverá 150 registros, toda a base de dados\n"
     ]
    },
    {
     "name": "stderr",
     "output_type": "stream",
     "text": [
      "100%|██████████| 150/150 [01:09<00:00,  2.14it/s]\n"
     ]
    },
    {
     "name": "stdout",
     "output_type": "stream",
     "text": [
      "COLUMN_NAME: TEXT\n",
      "COUNT_QUERY_RUN: 150\n",
      "COUNT_QUERY_WITHOUT_RESULT: 0\n",
      "COUNT_QUERY_NOT_FOUND: 0\n",
      "RANK1_MEAN: 3.153\n",
      "NDCG@5_MEAN: 51.283\n",
      "NDCG@10_MEAN: 49.168\n",
      "NDCG@15_MEAN: 51.722\n",
      "NDCG@20_MEAN: 54.814\n",
      "PRECISION@50_MEAN: 13.427\n",
      "PRECISION@100_MEAN: 7.573\n",
      "RECALL@50_MEAN: 77.778\n",
      "RECALL@100_MEAN: 87.915\n",
      "TIME_SPENT_MEAN: 0.466\n",
      "==23==  2023-Jun-28 17:31:38 \n",
      "Experiment: {'TOPK_RETRIEVER': 300, 'TOPK_RANKER': 0, 'EXPANSOR_CRITERIA': 'join_bm25_sts_30_minilm_indir', 'INDEX_NAME': 'indir_juris_tcu_synonym', 'PIPE': {'PIPE_OBJECT': <haystack.pipelines.base.Pipeline object at 0x7f604d576750>, 'RETRIEVER_TYPE': 'join', 'RANKER_TYPE': 'MINILM_INDIR_400', 'RETRIEVER_MODEL_NAME': ''}, 'COLUMN_NAME': '1'}\n",
      "Experimento envolverá 150 registros, toda a base de dados\n"
     ]
    },
    {
     "name": "stderr",
     "output_type": "stream",
     "text": [
      "100%|██████████| 150/150 [01:29<00:00,  1.67it/s]\n"
     ]
    },
    {
     "name": "stdout",
     "output_type": "stream",
     "text": [
      "COLUMN_NAME: 1\n",
      "COUNT_QUERY_RUN: 150\n",
      "COUNT_QUERY_WITHOUT_RESULT: 0\n",
      "COUNT_QUERY_NOT_FOUND: 0\n",
      "RANK1_MEAN: 8.26\n",
      "NDCG@5_MEAN: 37.611\n",
      "NDCG@10_MEAN: 34.931\n",
      "NDCG@15_MEAN: 37.258\n",
      "NDCG@20_MEAN: 39.702\n",
      "PRECISION@50_MEAN: 10.627\n",
      "PRECISION@100_MEAN: 6.667\n",
      "RECALL@50_MEAN: 62.069\n",
      "RECALL@100_MEAN: 76.74\n",
      "TIME_SPENT_MEAN: 0.598\n",
      "==24==  2023-Jun-28 17:33:10 \n",
      "Experiment: {'TOPK_RETRIEVER': 300, 'TOPK_RANKER': 0, 'EXPANSOR_CRITERIA': 'join_bm25_sts_30_minilm_indir', 'INDEX_NAME': 'indir_juris_tcu_synonym', 'PIPE': {'PIPE_OBJECT': <haystack.pipelines.base.Pipeline object at 0x7f604d576750>, 'RETRIEVER_TYPE': 'join', 'RANKER_TYPE': 'MINILM_INDIR_400', 'RETRIEVER_MODEL_NAME': ''}, 'COLUMN_NAME': '10'}\n",
      "Experimento envolverá 150 registros, toda a base de dados\n"
     ]
    },
    {
     "name": "stderr",
     "output_type": "stream",
     "text": [
      "100%|██████████| 150/150 [01:37<00:00,  1.54it/s]\n"
     ]
    },
    {
     "name": "stdout",
     "output_type": "stream",
     "text": [
      "COLUMN_NAME: 10\n",
      "COUNT_QUERY_RUN: 150\n",
      "COUNT_QUERY_WITHOUT_RESULT: 0\n",
      "COUNT_QUERY_NOT_FOUND: 1\n",
      "RANK1_MEAN: 9.423\n",
      "NDCG@5_MEAN: 39.733\n",
      "NDCG@10_MEAN: 37.458\n",
      "NDCG@15_MEAN: 40.371\n",
      "NDCG@20_MEAN: 42.918\n",
      "PRECISION@50_MEAN: 10.653\n",
      "PRECISION@100_MEAN: 6.34\n",
      "RECALL@50_MEAN: 63.217\n",
      "RECALL@100_MEAN: 73.975\n",
      "TIME_SPENT_MEAN: 0.649\n",
      "==25==  2023-Jun-28 17:34:49 \n",
      "Experiment: {'TOPK_RETRIEVER': 300, 'TOPK_RANKER': 0, 'EXPANSOR_CRITERIA': 'join_bm25_sts_30_minilm_indir', 'INDEX_NAME': 'indir_juris_tcu_synonym', 'PIPE': {'PIPE_OBJECT': <haystack.pipelines.base.Pipeline object at 0x7f604d576750>, 'RETRIEVER_TYPE': 'join', 'RANKER_TYPE': 'MINILM_INDIR_400', 'RETRIEVER_MODEL_NAME': ''}, 'COLUMN_NAME': '2'}\n",
      "Experimento envolverá 150 registros, toda a base de dados\n"
     ]
    },
    {
     "name": "stderr",
     "output_type": "stream",
     "text": [
      "100%|██████████| 150/150 [01:29<00:00,  1.68it/s]\n"
     ]
    },
    {
     "name": "stdout",
     "output_type": "stream",
     "text": [
      "COLUMN_NAME: 2\n",
      "COUNT_QUERY_RUN: 150\n",
      "COUNT_QUERY_WITHOUT_RESULT: 0\n",
      "COUNT_QUERY_NOT_FOUND: 0\n",
      "RANK1_MEAN: 8.547\n",
      "NDCG@5_MEAN: 39.926\n",
      "NDCG@10_MEAN: 36.909\n",
      "NDCG@15_MEAN: 39.221\n",
      "NDCG@20_MEAN: 41.802\n",
      "PRECISION@50_MEAN: 10.627\n",
      "PRECISION@100_MEAN: 6.593\n",
      "RECALL@50_MEAN: 62.168\n",
      "RECALL@100_MEAN: 76.576\n",
      "TIME_SPENT_MEAN: 0.597\n",
      "==26==  2023-Jun-28 17:36:21 \n",
      "Experiment: {'TOPK_RETRIEVER': 300, 'TOPK_RANKER': 0, 'EXPANSOR_CRITERIA': 'join_bm25_sts_30_minilm_indir', 'INDEX_NAME': 'indir_juris_tcu_synonym', 'PIPE': {'PIPE_OBJECT': <haystack.pipelines.base.Pipeline object at 0x7f604d576750>, 'RETRIEVER_TYPE': 'join', 'RANKER_TYPE': 'MINILM_INDIR_400', 'RETRIEVER_MODEL_NAME': ''}, 'COLUMN_NAME': '3'}\n",
      "Experimento envolverá 150 registros, toda a base de dados\n"
     ]
    },
    {
     "name": "stderr",
     "output_type": "stream",
     "text": [
      "100%|██████████| 150/150 [01:31<00:00,  1.64it/s]\n"
     ]
    },
    {
     "name": "stdout",
     "output_type": "stream",
     "text": [
      "COLUMN_NAME: 3\n",
      "COUNT_QUERY_RUN: 150\n",
      "COUNT_QUERY_WITHOUT_RESULT: 0\n",
      "COUNT_QUERY_NOT_FOUND: 0\n",
      "RANK1_MEAN: 9.527\n",
      "NDCG@5_MEAN: 41.591\n",
      "NDCG@10_MEAN: 37.602\n",
      "NDCG@15_MEAN: 39.869\n",
      "NDCG@20_MEAN: 42.932\n",
      "PRECISION@50_MEAN: 10.587\n",
      "PRECISION@100_MEAN: 6.493\n",
      "RECALL@50_MEAN: 62.056\n",
      "RECALL@100_MEAN: 75.512\n",
      "TIME_SPENT_MEAN: 0.61\n",
      "==27==  2023-Jun-28 17:37:54 \n",
      "Experiment: {'TOPK_RETRIEVER': 300, 'TOPK_RANKER': 0, 'EXPANSOR_CRITERIA': 'join_bm25_sts_30_minilm_indir', 'INDEX_NAME': 'indir_juris_tcu_synonym', 'PIPE': {'PIPE_OBJECT': <haystack.pipelines.base.Pipeline object at 0x7f604d576750>, 'RETRIEVER_TYPE': 'join', 'RANKER_TYPE': 'MINILM_INDIR_400', 'RETRIEVER_MODEL_NAME': ''}, 'COLUMN_NAME': '4'}\n",
      "Experimento envolverá 150 registros, toda a base de dados\n"
     ]
    },
    {
     "name": "stderr",
     "output_type": "stream",
     "text": [
      "100%|██████████| 150/150 [01:33<00:00,  1.60it/s]\n"
     ]
    },
    {
     "name": "stdout",
     "output_type": "stream",
     "text": [
      "COLUMN_NAME: 4\n",
      "COUNT_QUERY_RUN: 150\n",
      "COUNT_QUERY_WITHOUT_RESULT: 0\n",
      "COUNT_QUERY_NOT_FOUND: 0\n",
      "RANK1_MEAN: 10.113\n",
      "NDCG@5_MEAN: 42.31\n",
      "NDCG@10_MEAN: 39.062\n",
      "NDCG@15_MEAN: 40.821\n",
      "NDCG@20_MEAN: 44.208\n",
      "PRECISION@50_MEAN: 10.587\n",
      "PRECISION@100_MEAN: 6.373\n",
      "RECALL@50_MEAN: 61.991\n",
      "RECALL@100_MEAN: 74.658\n",
      "TIME_SPENT_MEAN: 0.625\n",
      "==28==  2023-Jun-28 17:39:30 \n",
      "Experiment: {'TOPK_RETRIEVER': 300, 'TOPK_RANKER': 0, 'EXPANSOR_CRITERIA': 'join_bm25_sts_30_minilm_indir', 'INDEX_NAME': 'indir_juris_tcu_synonym', 'PIPE': {'PIPE_OBJECT': <haystack.pipelines.base.Pipeline object at 0x7f604d576750>, 'RETRIEVER_TYPE': 'join', 'RANKER_TYPE': 'MINILM_INDIR_400', 'RETRIEVER_MODEL_NAME': ''}, 'COLUMN_NAME': '5'}\n",
      "Experimento envolverá 150 registros, toda a base de dados\n"
     ]
    },
    {
     "name": "stderr",
     "output_type": "stream",
     "text": [
      "100%|██████████| 150/150 [01:34<00:00,  1.59it/s]\n"
     ]
    },
    {
     "name": "stdout",
     "output_type": "stream",
     "text": [
      "COLUMN_NAME: 5\n",
      "COUNT_QUERY_RUN: 150\n",
      "COUNT_QUERY_WITHOUT_RESULT: 0\n",
      "COUNT_QUERY_NOT_FOUND: 0\n",
      "RANK1_MEAN: 10.773\n",
      "NDCG@5_MEAN: 42.28\n",
      "NDCG@10_MEAN: 38.942\n",
      "NDCG@15_MEAN: 41.676\n",
      "NDCG@20_MEAN: 44.53\n",
      "PRECISION@50_MEAN: 10.733\n",
      "PRECISION@100_MEAN: 6.373\n",
      "RECALL@50_MEAN: 63.06\n",
      "RECALL@100_MEAN: 74.154\n",
      "TIME_SPENT_MEAN: 0.631\n",
      "==29==  2023-Jun-28 17:41:06 \n",
      "Experiment: {'TOPK_RETRIEVER': 300, 'TOPK_RANKER': 0, 'EXPANSOR_CRITERIA': 'join_bm25_sts_30_minilm_indir', 'INDEX_NAME': 'indir_juris_tcu_synonym', 'PIPE': {'PIPE_OBJECT': <haystack.pipelines.base.Pipeline object at 0x7f604d576750>, 'RETRIEVER_TYPE': 'join', 'RANKER_TYPE': 'MINILM_INDIR_400', 'RETRIEVER_MODEL_NAME': ''}, 'COLUMN_NAME': '6'}\n",
      "Experimento envolverá 150 registros, toda a base de dados\n"
     ]
    },
    {
     "name": "stderr",
     "output_type": "stream",
     "text": [
      "100%|██████████| 150/150 [01:34<00:00,  1.59it/s]\n"
     ]
    },
    {
     "name": "stdout",
     "output_type": "stream",
     "text": [
      "COLUMN_NAME: 6\n",
      "COUNT_QUERY_RUN: 150\n",
      "COUNT_QUERY_WITHOUT_RESULT: 0\n",
      "COUNT_QUERY_NOT_FOUND: 1\n",
      "RANK1_MEAN: 9.275\n",
      "NDCG@5_MEAN: 41.431\n",
      "NDCG@10_MEAN: 39.191\n",
      "NDCG@15_MEAN: 42.109\n",
      "NDCG@20_MEAN: 44.801\n",
      "PRECISION@50_MEAN: 10.973\n",
      "PRECISION@100_MEAN: 6.46\n",
      "RECALL@50_MEAN: 64.673\n",
      "RECALL@100_MEAN: 75.619\n",
      "TIME_SPENT_MEAN: 0.627\n",
      "==30==  2023-Jun-28 17:42:42 \n",
      "Experiment: {'TOPK_RETRIEVER': 300, 'TOPK_RANKER': 0, 'EXPANSOR_CRITERIA': 'join_bm25_sts_30_minilm_indir', 'INDEX_NAME': 'indir_juris_tcu_synonym', 'PIPE': {'PIPE_OBJECT': <haystack.pipelines.base.Pipeline object at 0x7f604d576750>, 'RETRIEVER_TYPE': 'join', 'RANKER_TYPE': 'MINILM_INDIR_400', 'RETRIEVER_MODEL_NAME': ''}, 'COLUMN_NAME': '7'}\n",
      "Experimento envolverá 150 registros, toda a base de dados\n"
     ]
    },
    {
     "name": "stderr",
     "output_type": "stream",
     "text": [
      "100%|██████████| 150/150 [01:36<00:00,  1.56it/s]\n"
     ]
    },
    {
     "name": "stdout",
     "output_type": "stream",
     "text": [
      "COLUMN_NAME: 7\n",
      "COUNT_QUERY_RUN: 150\n",
      "COUNT_QUERY_WITHOUT_RESULT: 0\n",
      "COUNT_QUERY_NOT_FOUND: 0\n",
      "RANK1_MEAN: 10.213\n",
      "NDCG@5_MEAN: 40.866\n",
      "NDCG@10_MEAN: 38.781\n",
      "NDCG@15_MEAN: 41.737\n",
      "NDCG@20_MEAN: 44.123\n",
      "PRECISION@50_MEAN: 10.72\n",
      "PRECISION@100_MEAN: 6.347\n",
      "RECALL@50_MEAN: 63.0\n",
      "RECALL@100_MEAN: 73.673\n",
      "TIME_SPENT_MEAN: 0.642\n",
      "==31==  2023-Jun-28 17:44:20 \n",
      "Experiment: {'TOPK_RETRIEVER': 300, 'TOPK_RANKER': 0, 'EXPANSOR_CRITERIA': 'join_bm25_sts_30_minilm_indir', 'INDEX_NAME': 'indir_juris_tcu_synonym', 'PIPE': {'PIPE_OBJECT': <haystack.pipelines.base.Pipeline object at 0x7f604d576750>, 'RETRIEVER_TYPE': 'join', 'RANKER_TYPE': 'MINILM_INDIR_400', 'RETRIEVER_MODEL_NAME': ''}, 'COLUMN_NAME': '8'}\n",
      "Experimento envolverá 150 registros, toda a base de dados\n"
     ]
    },
    {
     "name": "stderr",
     "output_type": "stream",
     "text": [
      "100%|██████████| 150/150 [01:37<00:00,  1.53it/s]\n"
     ]
    },
    {
     "name": "stdout",
     "output_type": "stream",
     "text": [
      "COLUMN_NAME: 8\n",
      "COUNT_QUERY_RUN: 150\n",
      "COUNT_QUERY_WITHOUT_RESULT: 0\n",
      "COUNT_QUERY_NOT_FOUND: 1\n",
      "RANK1_MEAN: 9.087\n",
      "NDCG@5_MEAN: 41.178\n",
      "NDCG@10_MEAN: 38.48\n",
      "NDCG@15_MEAN: 41.472\n",
      "NDCG@20_MEAN: 43.824\n",
      "PRECISION@50_MEAN: 10.627\n",
      "PRECISION@100_MEAN: 6.327\n",
      "RECALL@50_MEAN: 62.372\n",
      "RECALL@100_MEAN: 73.772\n",
      "TIME_SPENT_MEAN: 0.652\n",
      "==32==  2023-Jun-28 17:46:00 \n",
      "Experiment: {'TOPK_RETRIEVER': 300, 'TOPK_RANKER': 0, 'EXPANSOR_CRITERIA': 'join_bm25_sts_30_minilm_indir', 'INDEX_NAME': 'indir_juris_tcu_synonym', 'PIPE': {'PIPE_OBJECT': <haystack.pipelines.base.Pipeline object at 0x7f604d576750>, 'RETRIEVER_TYPE': 'join', 'RANKER_TYPE': 'MINILM_INDIR_400', 'RETRIEVER_MODEL_NAME': ''}, 'COLUMN_NAME': '9'}\n",
      "Experimento envolverá 150 registros, toda a base de dados\n"
     ]
    },
    {
     "name": "stderr",
     "output_type": "stream",
     "text": [
      "100%|██████████| 150/150 [01:37<00:00,  1.54it/s]\n"
     ]
    },
    {
     "name": "stdout",
     "output_type": "stream",
     "text": [
      "COLUMN_NAME: 9\n",
      "COUNT_QUERY_RUN: 150\n",
      "COUNT_QUERY_WITHOUT_RESULT: 0\n",
      "COUNT_QUERY_NOT_FOUND: 1\n",
      "RANK1_MEAN: 8.732\n",
      "NDCG@5_MEAN: 39.9\n",
      "NDCG@10_MEAN: 37.546\n",
      "NDCG@15_MEAN: 40.525\n",
      "NDCG@20_MEAN: 43.158\n",
      "PRECISION@50_MEAN: 10.68\n",
      "PRECISION@100_MEAN: 6.36\n",
      "RECALL@50_MEAN: 63.192\n",
      "RECALL@100_MEAN: 74.098\n",
      "TIME_SPENT_MEAN: 0.649\n",
      "==33==  2023-Jun-28 17:47:39 \n",
      "Experiment: {'TOPK_RETRIEVER': 300, 'TOPK_RANKER': 0, 'EXPANSOR_CRITERIA': '', 'INDEX_NAME': 'indir_juris_tcu_synonym', 'PIPE': {'PIPE_OBJECT': <haystack.pipelines.base.Pipeline object at 0x7f604d576750>, 'RETRIEVER_TYPE': 'join', 'RANKER_TYPE': 'MINILM_INDIR_400', 'RETRIEVER_MODEL_NAME': ''}, 'COLUMN_NAME': 'TEXT'}\n",
      "Experimento envolverá 150 registros, toda a base de dados\n"
     ]
    },
    {
     "name": "stderr",
     "output_type": "stream",
     "text": [
      "100%|██████████| 150/150 [01:30<00:00,  1.65it/s]\n"
     ]
    },
    {
     "name": "stdout",
     "output_type": "stream",
     "text": [
      "COLUMN_NAME: TEXT\n",
      "COUNT_QUERY_RUN: 150\n",
      "COUNT_QUERY_WITHOUT_RESULT: 0\n",
      "COUNT_QUERY_NOT_FOUND: 0\n",
      "RANK1_MEAN: 7.76\n",
      "NDCG@5_MEAN: 39.445\n",
      "NDCG@10_MEAN: 36.893\n",
      "NDCG@15_MEAN: 38.884\n",
      "NDCG@20_MEAN: 41.316\n",
      "PRECISION@50_MEAN: 10.987\n",
      "PRECISION@100_MEAN: 6.8\n",
      "RECALL@50_MEAN: 64.079\n",
      "RECALL@100_MEAN: 78.477\n",
      "TIME_SPENT_MEAN: 0.605\n",
      "==34==  2023-Jun-28 17:49:11 \n",
      "Experiment: {'TOPK_RETRIEVER': 300, 'TOPK_RANKER': 0, 'EXPANSOR_CRITERIA': 'join_bm25_sts_30_minilm_indir', 'INDEX_NAME': 'indir_juris_tcu_related_term', 'PIPE': {'PIPE_OBJECT': <haystack.pipelines.base.Pipeline object at 0x7f604d3c2950>, 'RETRIEVER_TYPE': 'join', 'RANKER_TYPE': 'MINILM_INDIR_400', 'RETRIEVER_MODEL_NAME': ''}, 'COLUMN_NAME': '1'}\n",
      "Experimento envolverá 150 registros, toda a base de dados\n"
     ]
    },
    {
     "name": "stderr",
     "output_type": "stream",
     "text": [
      "100%|██████████| 150/150 [02:08<00:00,  1.17it/s]\n"
     ]
    },
    {
     "name": "stdout",
     "output_type": "stream",
     "text": [
      "COLUMN_NAME: 1\n",
      "COUNT_QUERY_RUN: 150\n",
      "COUNT_QUERY_WITHOUT_RESULT: 0\n",
      "COUNT_QUERY_NOT_FOUND: 1\n",
      "RANK1_MEAN: 12.188\n",
      "NDCG@5_MEAN: 24.777\n",
      "NDCG@10_MEAN: 24.482\n",
      "NDCG@15_MEAN: 26.659\n",
      "NDCG@20_MEAN: 28.711\n",
      "PRECISION@50_MEAN: 9.333\n",
      "PRECISION@100_MEAN: 6.133\n",
      "RECALL@50_MEAN: 54.769\n",
      "RECALL@100_MEAN: 71.879\n",
      "TIME_SPENT_MEAN: 0.857\n",
      "==35==  2023-Jun-28 17:51:22 \n",
      "Experiment: {'TOPK_RETRIEVER': 300, 'TOPK_RANKER': 0, 'EXPANSOR_CRITERIA': 'join_bm25_sts_30_minilm_indir', 'INDEX_NAME': 'indir_juris_tcu_related_term', 'PIPE': {'PIPE_OBJECT': <haystack.pipelines.base.Pipeline object at 0x7f604d3c2950>, 'RETRIEVER_TYPE': 'join', 'RANKER_TYPE': 'MINILM_INDIR_400', 'RETRIEVER_MODEL_NAME': ''}, 'COLUMN_NAME': '10'}\n",
      "Experimento envolverá 150 registros, toda a base de dados\n"
     ]
    },
    {
     "name": "stderr",
     "output_type": "stream",
     "text": [
      "100%|██████████| 150/150 [02:12<00:00,  1.13it/s]\n"
     ]
    },
    {
     "name": "stdout",
     "output_type": "stream",
     "text": [
      "COLUMN_NAME: 10\n",
      "COUNT_QUERY_RUN: 150\n",
      "COUNT_QUERY_WITHOUT_RESULT: 0\n",
      "COUNT_QUERY_NOT_FOUND: 2\n",
      "RANK1_MEAN: 12.318\n",
      "NDCG@5_MEAN: 28.785\n",
      "NDCG@10_MEAN: 26.879\n",
      "NDCG@15_MEAN: 29.456\n",
      "NDCG@20_MEAN: 31.621\n",
      "PRECISION@50_MEAN: 9.253\n",
      "PRECISION@100_MEAN: 5.82\n",
      "RECALL@50_MEAN: 54.73\n",
      "RECALL@100_MEAN: 68.191\n",
      "TIME_SPENT_MEAN: 0.885\n",
      "==36==  2023-Jun-28 17:53:37 \n",
      "Experiment: {'TOPK_RETRIEVER': 300, 'TOPK_RANKER': 0, 'EXPANSOR_CRITERIA': 'join_bm25_sts_30_minilm_indir', 'INDEX_NAME': 'indir_juris_tcu_related_term', 'PIPE': {'PIPE_OBJECT': <haystack.pipelines.base.Pipeline object at 0x7f604d3c2950>, 'RETRIEVER_TYPE': 'join', 'RANKER_TYPE': 'MINILM_INDIR_400', 'RETRIEVER_MODEL_NAME': ''}, 'COLUMN_NAME': '2'}\n",
      "Experimento envolverá 150 registros, toda a base de dados\n"
     ]
    },
    {
     "name": "stderr",
     "output_type": "stream",
     "text": [
      "100%|██████████| 150/150 [02:07<00:00,  1.17it/s]\n"
     ]
    },
    {
     "name": "stdout",
     "output_type": "stream",
     "text": [
      "COLUMN_NAME: 2\n",
      "COUNT_QUERY_RUN: 150\n",
      "COUNT_QUERY_WITHOUT_RESULT: 0\n",
      "COUNT_QUERY_NOT_FOUND: 2\n",
      "RANK1_MEAN: 12.351\n",
      "NDCG@5_MEAN: 27.53\n",
      "NDCG@10_MEAN: 25.636\n",
      "NDCG@15_MEAN: 27.308\n",
      "NDCG@20_MEAN: 29.751\n",
      "PRECISION@50_MEAN: 9.293\n",
      "PRECISION@100_MEAN: 6.033\n",
      "RECALL@50_MEAN: 54.506\n",
      "RECALL@100_MEAN: 70.256\n",
      "TIME_SPENT_MEAN: 0.853\n",
      "==37==  2023-Jun-28 17:55:47 \n",
      "Experiment: {'TOPK_RETRIEVER': 300, 'TOPK_RANKER': 0, 'EXPANSOR_CRITERIA': 'join_bm25_sts_30_minilm_indir', 'INDEX_NAME': 'indir_juris_tcu_related_term', 'PIPE': {'PIPE_OBJECT': <haystack.pipelines.base.Pipeline object at 0x7f604d3c2950>, 'RETRIEVER_TYPE': 'join', 'RANKER_TYPE': 'MINILM_INDIR_400', 'RETRIEVER_MODEL_NAME': ''}, 'COLUMN_NAME': '3'}\n",
      "Experimento envolverá 150 registros, toda a base de dados\n"
     ]
    },
    {
     "name": "stderr",
     "output_type": "stream",
     "text": [
      "100%|██████████| 150/150 [02:09<00:00,  1.16it/s]\n"
     ]
    },
    {
     "name": "stdout",
     "output_type": "stream",
     "text": [
      "COLUMN_NAME: 3\n",
      "COUNT_QUERY_RUN: 150\n",
      "COUNT_QUERY_WITHOUT_RESULT: 0\n",
      "COUNT_QUERY_NOT_FOUND: 1\n",
      "RANK1_MEAN: 12.208\n",
      "NDCG@5_MEAN: 27.719\n",
      "NDCG@10_MEAN: 26.319\n",
      "NDCG@15_MEAN: 29.048\n",
      "NDCG@20_MEAN: 31.371\n",
      "PRECISION@50_MEAN: 9.293\n",
      "PRECISION@100_MEAN: 5.96\n",
      "RECALL@50_MEAN: 55.184\n",
      "RECALL@100_MEAN: 69.494\n",
      "TIME_SPENT_MEAN: 0.862\n",
      "==38==  2023-Jun-28 17:57:58 \n",
      "Experiment: {'TOPK_RETRIEVER': 300, 'TOPK_RANKER': 0, 'EXPANSOR_CRITERIA': 'join_bm25_sts_30_minilm_indir', 'INDEX_NAME': 'indir_juris_tcu_related_term', 'PIPE': {'PIPE_OBJECT': <haystack.pipelines.base.Pipeline object at 0x7f604d3c2950>, 'RETRIEVER_TYPE': 'join', 'RANKER_TYPE': 'MINILM_INDIR_400', 'RETRIEVER_MODEL_NAME': ''}, 'COLUMN_NAME': '4'}\n",
      "Experimento envolverá 150 registros, toda a base de dados\n"
     ]
    },
    {
     "name": "stderr",
     "output_type": "stream",
     "text": [
      "100%|██████████| 150/150 [02:09<00:00,  1.16it/s]\n"
     ]
    },
    {
     "name": "stdout",
     "output_type": "stream",
     "text": [
      "COLUMN_NAME: 4\n",
      "COUNT_QUERY_RUN: 150\n",
      "COUNT_QUERY_WITHOUT_RESULT: 0\n",
      "COUNT_QUERY_NOT_FOUND: 2\n",
      "RANK1_MEAN: 12.128\n",
      "NDCG@5_MEAN: 29.156\n",
      "NDCG@10_MEAN: 27.378\n",
      "NDCG@15_MEAN: 29.708\n",
      "NDCG@20_MEAN: 32.316\n",
      "PRECISION@50_MEAN: 9.413\n",
      "PRECISION@100_MEAN: 5.993\n",
      "RECALL@50_MEAN: 55.81\n",
      "RECALL@100_MEAN: 70.159\n",
      "TIME_SPENT_MEAN: 0.863\n",
      "==39==  2023-Jun-28 18:00:09 \n",
      "Experiment: {'TOPK_RETRIEVER': 300, 'TOPK_RANKER': 0, 'EXPANSOR_CRITERIA': 'join_bm25_sts_30_minilm_indir', 'INDEX_NAME': 'indir_juris_tcu_related_term', 'PIPE': {'PIPE_OBJECT': <haystack.pipelines.base.Pipeline object at 0x7f604d3c2950>, 'RETRIEVER_TYPE': 'join', 'RANKER_TYPE': 'MINILM_INDIR_400', 'RETRIEVER_MODEL_NAME': ''}, 'COLUMN_NAME': '5'}\n",
      "Experimento envolverá 150 registros, toda a base de dados\n"
     ]
    },
    {
     "name": "stderr",
     "output_type": "stream",
     "text": [
      "100%|██████████| 150/150 [02:10<00:00,  1.15it/s]\n"
     ]
    },
    {
     "name": "stdout",
     "output_type": "stream",
     "text": [
      "COLUMN_NAME: 5\n",
      "COUNT_QUERY_RUN: 150\n",
      "COUNT_QUERY_WITHOUT_RESULT: 0\n",
      "COUNT_QUERY_NOT_FOUND: 3\n",
      "RANK1_MEAN: 10.707\n",
      "NDCG@5_MEAN: 30.601\n",
      "NDCG@10_MEAN: 28.84\n",
      "NDCG@15_MEAN: 31.017\n",
      "NDCG@20_MEAN: 33.629\n",
      "PRECISION@50_MEAN: 9.227\n",
      "PRECISION@100_MEAN: 5.913\n",
      "RECALL@50_MEAN: 55.109\n",
      "RECALL@100_MEAN: 69.261\n",
      "TIME_SPENT_MEAN: 0.872\n",
      "==40==  2023-Jun-28 18:02:22 \n",
      "Experiment: {'TOPK_RETRIEVER': 300, 'TOPK_RANKER': 0, 'EXPANSOR_CRITERIA': 'join_bm25_sts_30_minilm_indir', 'INDEX_NAME': 'indir_juris_tcu_related_term', 'PIPE': {'PIPE_OBJECT': <haystack.pipelines.base.Pipeline object at 0x7f604d3c2950>, 'RETRIEVER_TYPE': 'join', 'RANKER_TYPE': 'MINILM_INDIR_400', 'RETRIEVER_MODEL_NAME': ''}, 'COLUMN_NAME': '6'}\n",
      "Experimento envolverá 150 registros, toda a base de dados\n"
     ]
    },
    {
     "name": "stderr",
     "output_type": "stream",
     "text": [
      "100%|██████████| 150/150 [02:12<00:00,  1.14it/s]\n"
     ]
    },
    {
     "name": "stdout",
     "output_type": "stream",
     "text": [
      "COLUMN_NAME: 6\n",
      "COUNT_QUERY_RUN: 150\n",
      "COUNT_QUERY_WITHOUT_RESULT: 0\n",
      "COUNT_QUERY_NOT_FOUND: 2\n",
      "RANK1_MEAN: 12.372\n",
      "NDCG@5_MEAN: 28.808\n",
      "NDCG@10_MEAN: 27.918\n",
      "NDCG@15_MEAN: 29.793\n",
      "NDCG@20_MEAN: 32.376\n",
      "PRECISION@50_MEAN: 9.133\n",
      "PRECISION@100_MEAN: 5.88\n",
      "RECALL@50_MEAN: 54.724\n",
      "RECALL@100_MEAN: 68.843\n",
      "TIME_SPENT_MEAN: 0.881\n",
      "==41==  2023-Jun-28 18:04:36 \n",
      "Experiment: {'TOPK_RETRIEVER': 300, 'TOPK_RANKER': 0, 'EXPANSOR_CRITERIA': 'join_bm25_sts_30_minilm_indir', 'INDEX_NAME': 'indir_juris_tcu_related_term', 'PIPE': {'PIPE_OBJECT': <haystack.pipelines.base.Pipeline object at 0x7f604d3c2950>, 'RETRIEVER_TYPE': 'join', 'RANKER_TYPE': 'MINILM_INDIR_400', 'RETRIEVER_MODEL_NAME': ''}, 'COLUMN_NAME': '7'}\n",
      "Experimento envolverá 150 registros, toda a base de dados\n"
     ]
    },
    {
     "name": "stderr",
     "output_type": "stream",
     "text": [
      "100%|██████████| 150/150 [02:13<00:00,  1.13it/s]\n"
     ]
    },
    {
     "name": "stdout",
     "output_type": "stream",
     "text": [
      "COLUMN_NAME: 7\n",
      "COUNT_QUERY_RUN: 150\n",
      "COUNT_QUERY_WITHOUT_RESULT: 0\n",
      "COUNT_QUERY_NOT_FOUND: 2\n",
      "RANK1_MEAN: 11.23\n",
      "NDCG@5_MEAN: 28.239\n",
      "NDCG@10_MEAN: 27.332\n",
      "NDCG@15_MEAN: 29.398\n",
      "NDCG@20_MEAN: 32.003\n",
      "PRECISION@50_MEAN: 9.187\n",
      "PRECISION@100_MEAN: 5.873\n",
      "RECALL@50_MEAN: 54.914\n",
      "RECALL@100_MEAN: 68.622\n",
      "TIME_SPENT_MEAN: 0.888\n",
      "==42==  2023-Jun-28 18:06:51 \n",
      "Experiment: {'TOPK_RETRIEVER': 300, 'TOPK_RANKER': 0, 'EXPANSOR_CRITERIA': 'join_bm25_sts_30_minilm_indir', 'INDEX_NAME': 'indir_juris_tcu_related_term', 'PIPE': {'PIPE_OBJECT': <haystack.pipelines.base.Pipeline object at 0x7f604d3c2950>, 'RETRIEVER_TYPE': 'join', 'RANKER_TYPE': 'MINILM_INDIR_400', 'RETRIEVER_MODEL_NAME': ''}, 'COLUMN_NAME': '8'}\n",
      "Experimento envolverá 150 registros, toda a base de dados\n"
     ]
    },
    {
     "name": "stderr",
     "output_type": "stream",
     "text": [
      "100%|██████████| 150/150 [02:13<00:00,  1.13it/s]\n"
     ]
    },
    {
     "name": "stdout",
     "output_type": "stream",
     "text": [
      "COLUMN_NAME: 8\n",
      "COUNT_QUERY_RUN: 150\n",
      "COUNT_QUERY_WITHOUT_RESULT: 0\n",
      "COUNT_QUERY_NOT_FOUND: 1\n",
      "RANK1_MEAN: 12.047\n",
      "NDCG@5_MEAN: 28.97\n",
      "NDCG@10_MEAN: 26.969\n",
      "NDCG@15_MEAN: 29.404\n",
      "NDCG@20_MEAN: 31.95\n",
      "PRECISION@50_MEAN: 9.333\n",
      "PRECISION@100_MEAN: 5.873\n",
      "RECALL@50_MEAN: 55.905\n",
      "RECALL@100_MEAN: 68.586\n",
      "TIME_SPENT_MEAN: 0.887\n",
      "==43==  2023-Jun-28 18:09:06 \n",
      "Experiment: {'TOPK_RETRIEVER': 300, 'TOPK_RANKER': 0, 'EXPANSOR_CRITERIA': 'join_bm25_sts_30_minilm_indir', 'INDEX_NAME': 'indir_juris_tcu_related_term', 'PIPE': {'PIPE_OBJECT': <haystack.pipelines.base.Pipeline object at 0x7f604d3c2950>, 'RETRIEVER_TYPE': 'join', 'RANKER_TYPE': 'MINILM_INDIR_400', 'RETRIEVER_MODEL_NAME': ''}, 'COLUMN_NAME': '9'}\n",
      "Experimento envolverá 150 registros, toda a base de dados\n"
     ]
    },
    {
     "name": "stderr",
     "output_type": "stream",
     "text": [
      "100%|██████████| 150/150 [02:13<00:00,  1.13it/s]\n"
     ]
    },
    {
     "name": "stdout",
     "output_type": "stream",
     "text": [
      "COLUMN_NAME: 9\n",
      "COUNT_QUERY_RUN: 150\n",
      "COUNT_QUERY_WITHOUT_RESULT: 0\n",
      "COUNT_QUERY_NOT_FOUND: 1\n",
      "RANK1_MEAN: 11.933\n",
      "NDCG@5_MEAN: 29.135\n",
      "NDCG@10_MEAN: 27.275\n",
      "NDCG@15_MEAN: 29.551\n",
      "NDCG@20_MEAN: 31.893\n",
      "PRECISION@50_MEAN: 9.293\n",
      "PRECISION@100_MEAN: 5.827\n",
      "RECALL@50_MEAN: 55.606\n",
      "RECALL@100_MEAN: 68.213\n",
      "TIME_SPENT_MEAN: 0.888\n",
      "==44==  2023-Jun-28 18:11:22 \n",
      "Experiment: {'TOPK_RETRIEVER': 300, 'TOPK_RANKER': 0, 'EXPANSOR_CRITERIA': '', 'INDEX_NAME': 'indir_juris_tcu_related_term', 'PIPE': {'PIPE_OBJECT': <haystack.pipelines.base.Pipeline object at 0x7f604d3c2950>, 'RETRIEVER_TYPE': 'join', 'RANKER_TYPE': 'MINILM_INDIR_400', 'RETRIEVER_MODEL_NAME': ''}, 'COLUMN_NAME': 'TEXT'}\n",
      "Experimento envolverá 150 registros, toda a base de dados\n"
     ]
    },
    {
     "name": "stderr",
     "output_type": "stream",
     "text": [
      "100%|██████████| 150/150 [02:07<00:00,  1.18it/s]\n"
     ]
    },
    {
     "name": "stdout",
     "output_type": "stream",
     "text": [
      "COLUMN_NAME: TEXT\n",
      "COUNT_QUERY_RUN: 150\n",
      "COUNT_QUERY_WITHOUT_RESULT: 0\n",
      "COUNT_QUERY_NOT_FOUND: 0\n",
      "RANK1_MEAN: 10.96\n",
      "NDCG@5_MEAN: 23.042\n",
      "NDCG@10_MEAN: 23.805\n",
      "NDCG@15_MEAN: 26.313\n",
      "NDCG@20_MEAN: 28.71\n",
      "PRECISION@50_MEAN: 9.173\n",
      "PRECISION@100_MEAN: 6.2\n",
      "RECALL@50_MEAN: 53.192\n",
      "RECALL@100_MEAN: 72.062\n",
      "TIME_SPENT_MEAN: 0.848\n",
      "==45==  2023-Jun-28 18:13:30 \n",
      "Experiment: {'TOPK_RETRIEVER': 300, 'TOPK_RANKER': 0, 'EXPANSOR_CRITERIA': 'join_bm25_sts_30_minilm_indir', 'INDEX_NAME': 'indir_juris_tcu_synonym_related_term', 'PIPE': {'PIPE_OBJECT': <haystack.pipelines.base.Pipeline object at 0x7f6040095590>, 'RETRIEVER_TYPE': 'join', 'RANKER_TYPE': 'MINILM_INDIR_400', 'RETRIEVER_MODEL_NAME': ''}, 'COLUMN_NAME': '1'}\n",
      "Experimento envolverá 150 registros, toda a base de dados\n"
     ]
    },
    {
     "name": "stderr",
     "output_type": "stream",
     "text": [
      "100%|██████████| 150/150 [02:19<00:00,  1.08it/s]\n"
     ]
    },
    {
     "name": "stdout",
     "output_type": "stream",
     "text": [
      "COLUMN_NAME: 1\n",
      "COUNT_QUERY_RUN: 150\n",
      "COUNT_QUERY_WITHOUT_RESULT: 0\n",
      "COUNT_QUERY_NOT_FOUND: 1\n",
      "RANK1_MEAN: 14.101\n",
      "NDCG@5_MEAN: 21.702\n",
      "NDCG@10_MEAN: 21.086\n",
      "NDCG@15_MEAN: 23.349\n",
      "NDCG@20_MEAN: 25.521\n",
      "PRECISION@50_MEAN: 8.267\n",
      "PRECISION@100_MEAN: 5.873\n",
      "RECALL@50_MEAN: 49.099\n",
      "RECALL@100_MEAN: 68.761\n",
      "TIME_SPENT_MEAN: 0.929\n",
      "==46==  2023-Jun-28 18:15:52 \n",
      "Experiment: {'TOPK_RETRIEVER': 300, 'TOPK_RANKER': 0, 'EXPANSOR_CRITERIA': 'join_bm25_sts_30_minilm_indir', 'INDEX_NAME': 'indir_juris_tcu_synonym_related_term', 'PIPE': {'PIPE_OBJECT': <haystack.pipelines.base.Pipeline object at 0x7f6040095590>, 'RETRIEVER_TYPE': 'join', 'RANKER_TYPE': 'MINILM_INDIR_400', 'RETRIEVER_MODEL_NAME': ''}, 'COLUMN_NAME': '10'}\n",
      "Experimento envolverá 150 registros, toda a base de dados\n"
     ]
    },
    {
     "name": "stderr",
     "output_type": "stream",
     "text": [
      "100%|██████████| 150/150 [02:25<00:00,  1.03it/s]\n"
     ]
    },
    {
     "name": "stdout",
     "output_type": "stream",
     "text": [
      "COLUMN_NAME: 10\n",
      "COUNT_QUERY_RUN: 150\n",
      "COUNT_QUERY_WITHOUT_RESULT: 0\n",
      "COUNT_QUERY_NOT_FOUND: 2\n",
      "RANK1_MEAN: 13.5\n",
      "NDCG@5_MEAN: 29.343\n",
      "NDCG@10_MEAN: 26.743\n",
      "NDCG@15_MEAN: 28.18\n",
      "NDCG@20_MEAN: 30.435\n",
      "PRECISION@50_MEAN: 8.547\n",
      "PRECISION@100_MEAN: 5.713\n",
      "RECALL@50_MEAN: 50.915\n",
      "RECALL@100_MEAN: 67.268\n",
      "TIME_SPENT_MEAN: 0.968\n",
      "==47==  2023-Jun-28 18:18:19 \n",
      "Experiment: {'TOPK_RETRIEVER': 300, 'TOPK_RANKER': 0, 'EXPANSOR_CRITERIA': 'join_bm25_sts_30_minilm_indir', 'INDEX_NAME': 'indir_juris_tcu_synonym_related_term', 'PIPE': {'PIPE_OBJECT': <haystack.pipelines.base.Pipeline object at 0x7f6040095590>, 'RETRIEVER_TYPE': 'join', 'RANKER_TYPE': 'MINILM_INDIR_400', 'RETRIEVER_MODEL_NAME': ''}, 'COLUMN_NAME': '2'}\n",
      "Experimento envolverá 150 registros, toda a base de dados\n"
     ]
    },
    {
     "name": "stderr",
     "output_type": "stream",
     "text": [
      "100%|██████████| 150/150 [02:20<00:00,  1.07it/s]\n"
     ]
    },
    {
     "name": "stdout",
     "output_type": "stream",
     "text": [
      "COLUMN_NAME: 2\n",
      "COUNT_QUERY_RUN: 150\n",
      "COUNT_QUERY_WITHOUT_RESULT: 0\n",
      "COUNT_QUERY_NOT_FOUND: 2\n",
      "RANK1_MEAN: 14.25\n",
      "NDCG@5_MEAN: 25.427\n",
      "NDCG@10_MEAN: 23.143\n",
      "NDCG@15_MEAN: 25.186\n",
      "NDCG@20_MEAN: 26.907\n",
      "PRECISION@50_MEAN: 8.427\n",
      "PRECISION@100_MEAN: 5.693\n",
      "RECALL@50_MEAN: 50.24\n",
      "RECALL@100_MEAN: 67.318\n",
      "TIME_SPENT_MEAN: 0.935\n",
      "==48==  2023-Jun-28 18:20:41 \n",
      "Experiment: {'TOPK_RETRIEVER': 300, 'TOPK_RANKER': 0, 'EXPANSOR_CRITERIA': 'join_bm25_sts_30_minilm_indir', 'INDEX_NAME': 'indir_juris_tcu_synonym_related_term', 'PIPE': {'PIPE_OBJECT': <haystack.pipelines.base.Pipeline object at 0x7f6040095590>, 'RETRIEVER_TYPE': 'join', 'RANKER_TYPE': 'MINILM_INDIR_400', 'RETRIEVER_MODEL_NAME': ''}, 'COLUMN_NAME': '3'}\n",
      "Experimento envolverá 150 registros, toda a base de dados\n"
     ]
    },
    {
     "name": "stderr",
     "output_type": "stream",
     "text": [
      "100%|██████████| 150/150 [02:20<00:00,  1.07it/s]\n"
     ]
    },
    {
     "name": "stdout",
     "output_type": "stream",
     "text": [
      "COLUMN_NAME: 3\n",
      "COUNT_QUERY_RUN: 150\n",
      "COUNT_QUERY_WITHOUT_RESULT: 0\n",
      "COUNT_QUERY_NOT_FOUND: 1\n",
      "RANK1_MEAN: 14.275\n",
      "NDCG@5_MEAN: 26.029\n",
      "NDCG@10_MEAN: 24.679\n",
      "NDCG@15_MEAN: 26.885\n",
      "NDCG@20_MEAN: 29.023\n",
      "PRECISION@50_MEAN: 8.707\n",
      "PRECISION@100_MEAN: 5.78\n",
      "RECALL@50_MEAN: 51.427\n",
      "RECALL@100_MEAN: 68.173\n",
      "TIME_SPENT_MEAN: 0.939\n",
      "==49==  2023-Jun-28 18:23:03 \n",
      "Experiment: {'TOPK_RETRIEVER': 300, 'TOPK_RANKER': 0, 'EXPANSOR_CRITERIA': 'join_bm25_sts_30_minilm_indir', 'INDEX_NAME': 'indir_juris_tcu_synonym_related_term', 'PIPE': {'PIPE_OBJECT': <haystack.pipelines.base.Pipeline object at 0x7f6040095590>, 'RETRIEVER_TYPE': 'join', 'RANKER_TYPE': 'MINILM_INDIR_400', 'RETRIEVER_MODEL_NAME': ''}, 'COLUMN_NAME': '4'}\n",
      "Experimento envolverá 150 registros, toda a base de dados\n"
     ]
    },
    {
     "name": "stderr",
     "output_type": "stream",
     "text": [
      "100%|██████████| 150/150 [02:22<00:00,  1.05it/s]\n"
     ]
    },
    {
     "name": "stdout",
     "output_type": "stream",
     "text": [
      "COLUMN_NAME: 4\n",
      "COUNT_QUERY_RUN: 150\n",
      "COUNT_QUERY_WITHOUT_RESULT: 0\n",
      "COUNT_QUERY_NOT_FOUND: 2\n",
      "RANK1_MEAN: 11.845\n",
      "NDCG@5_MEAN: 27.577\n",
      "NDCG@10_MEAN: 25.937\n",
      "NDCG@15_MEAN: 27.805\n",
      "NDCG@20_MEAN: 29.979\n",
      "PRECISION@50_MEAN: 8.707\n",
      "PRECISION@100_MEAN: 5.813\n",
      "RECALL@50_MEAN: 51.268\n",
      "RECALL@100_MEAN: 68.591\n",
      "TIME_SPENT_MEAN: 0.951\n",
      "==50==  2023-Jun-28 18:25:28 \n",
      "Experiment: {'TOPK_RETRIEVER': 300, 'TOPK_RANKER': 0, 'EXPANSOR_CRITERIA': 'join_bm25_sts_30_minilm_indir', 'INDEX_NAME': 'indir_juris_tcu_synonym_related_term', 'PIPE': {'PIPE_OBJECT': <haystack.pipelines.base.Pipeline object at 0x7f6040095590>, 'RETRIEVER_TYPE': 'join', 'RANKER_TYPE': 'MINILM_INDIR_400', 'RETRIEVER_MODEL_NAME': ''}, 'COLUMN_NAME': '5'}\n",
      "Experimento envolverá 150 registros, toda a base de dados\n"
     ]
    },
    {
     "name": "stderr",
     "output_type": "stream",
     "text": [
      "100%|██████████| 150/150 [02:23<00:00,  1.05it/s]\n"
     ]
    },
    {
     "name": "stdout",
     "output_type": "stream",
     "text": [
      "COLUMN_NAME: 5\n",
      "COUNT_QUERY_RUN: 150\n",
      "COUNT_QUERY_WITHOUT_RESULT: 0\n",
      "COUNT_QUERY_NOT_FOUND: 2\n",
      "RANK1_MEAN: 12.601\n",
      "NDCG@5_MEAN: 28.702\n",
      "NDCG@10_MEAN: 26.266\n",
      "NDCG@15_MEAN: 28.299\n",
      "NDCG@20_MEAN: 30.429\n",
      "PRECISION@50_MEAN: 8.64\n",
      "PRECISION@100_MEAN: 5.693\n",
      "RECALL@50_MEAN: 51.682\n",
      "RECALL@100_MEAN: 67.328\n",
      "TIME_SPENT_MEAN: 0.956\n",
      "==51==  2023-Jun-28 18:27:53 \n",
      "Experiment: {'TOPK_RETRIEVER': 300, 'TOPK_RANKER': 0, 'EXPANSOR_CRITERIA': 'join_bm25_sts_30_minilm_indir', 'INDEX_NAME': 'indir_juris_tcu_synonym_related_term', 'PIPE': {'PIPE_OBJECT': <haystack.pipelines.base.Pipeline object at 0x7f6040095590>, 'RETRIEVER_TYPE': 'join', 'RANKER_TYPE': 'MINILM_INDIR_400', 'RETRIEVER_MODEL_NAME': ''}, 'COLUMN_NAME': '6'}\n",
      "Experimento envolverá 150 registros, toda a base de dados\n"
     ]
    },
    {
     "name": "stderr",
     "output_type": "stream",
     "text": [
      "100%|██████████| 150/150 [02:24<00:00,  1.04it/s]\n"
     ]
    },
    {
     "name": "stdout",
     "output_type": "stream",
     "text": [
      "COLUMN_NAME: 6\n",
      "COUNT_QUERY_RUN: 150\n",
      "COUNT_QUERY_WITHOUT_RESULT: 0\n",
      "COUNT_QUERY_NOT_FOUND: 2\n",
      "RANK1_MEAN: 12.912\n",
      "NDCG@5_MEAN: 28.917\n",
      "NDCG@10_MEAN: 26.828\n",
      "NDCG@15_MEAN: 28.606\n",
      "NDCG@20_MEAN: 30.849\n",
      "PRECISION@50_MEAN: 8.667\n",
      "PRECISION@100_MEAN: 5.667\n",
      "RECALL@50_MEAN: 51.854\n",
      "RECALL@100_MEAN: 66.384\n",
      "TIME_SPENT_MEAN: 0.965\n",
      "==52==  2023-Jun-28 18:30:20 \n",
      "Experiment: {'TOPK_RETRIEVER': 300, 'TOPK_RANKER': 0, 'EXPANSOR_CRITERIA': 'join_bm25_sts_30_minilm_indir', 'INDEX_NAME': 'indir_juris_tcu_synonym_related_term', 'PIPE': {'PIPE_OBJECT': <haystack.pipelines.base.Pipeline object at 0x7f6040095590>, 'RETRIEVER_TYPE': 'join', 'RANKER_TYPE': 'MINILM_INDIR_400', 'RETRIEVER_MODEL_NAME': ''}, 'COLUMN_NAME': '7'}\n",
      "Experimento envolverá 150 registros, toda a base de dados\n"
     ]
    },
    {
     "name": "stderr",
     "output_type": "stream",
     "text": [
      "100%|██████████| 150/150 [02:25<00:00,  1.03it/s]\n"
     ]
    },
    {
     "name": "stdout",
     "output_type": "stream",
     "text": [
      "COLUMN_NAME: 7\n",
      "COUNT_QUERY_RUN: 150\n",
      "COUNT_QUERY_WITHOUT_RESULT: 0\n",
      "COUNT_QUERY_NOT_FOUND: 2\n",
      "RANK1_MEAN: 12.331\n",
      "NDCG@5_MEAN: 29.622\n",
      "NDCG@10_MEAN: 27.355\n",
      "NDCG@15_MEAN: 29.012\n",
      "NDCG@20_MEAN: 31.508\n",
      "PRECISION@50_MEAN: 8.8\n",
      "PRECISION@100_MEAN: 5.68\n",
      "RECALL@50_MEAN: 52.882\n",
      "RECALL@100_MEAN: 66.731\n",
      "TIME_SPENT_MEAN: 0.969\n",
      "==53==  2023-Jun-28 18:32:47 \n",
      "Experiment: {'TOPK_RETRIEVER': 300, 'TOPK_RANKER': 0, 'EXPANSOR_CRITERIA': 'join_bm25_sts_30_minilm_indir', 'INDEX_NAME': 'indir_juris_tcu_synonym_related_term', 'PIPE': {'PIPE_OBJECT': <haystack.pipelines.base.Pipeline object at 0x7f6040095590>, 'RETRIEVER_TYPE': 'join', 'RANKER_TYPE': 'MINILM_INDIR_400', 'RETRIEVER_MODEL_NAME': ''}, 'COLUMN_NAME': '8'}\n",
      "Experimento envolverá 150 registros, toda a base de dados\n"
     ]
    },
    {
     "name": "stderr",
     "output_type": "stream",
     "text": [
      "100%|██████████| 150/150 [02:25<00:00,  1.03it/s]\n"
     ]
    },
    {
     "name": "stdout",
     "output_type": "stream",
     "text": [
      "COLUMN_NAME: 8\n",
      "COUNT_QUERY_RUN: 150\n",
      "COUNT_QUERY_WITHOUT_RESULT: 0\n",
      "COUNT_QUERY_NOT_FOUND: 1\n",
      "RANK1_MEAN: 13.396\n",
      "NDCG@5_MEAN: 29.487\n",
      "NDCG@10_MEAN: 27.012\n",
      "NDCG@15_MEAN: 28.615\n",
      "NDCG@20_MEAN: 30.966\n",
      "PRECISION@50_MEAN: 8.72\n",
      "PRECISION@100_MEAN: 5.653\n",
      "RECALL@50_MEAN: 51.874\n",
      "RECALL@100_MEAN: 66.515\n",
      "TIME_SPENT_MEAN: 0.972\n",
      "==54==  2023-Jun-28 18:35:15 \n",
      "Experiment: {'TOPK_RETRIEVER': 300, 'TOPK_RANKER': 0, 'EXPANSOR_CRITERIA': 'join_bm25_sts_30_minilm_indir', 'INDEX_NAME': 'indir_juris_tcu_synonym_related_term', 'PIPE': {'PIPE_OBJECT': <haystack.pipelines.base.Pipeline object at 0x7f6040095590>, 'RETRIEVER_TYPE': 'join', 'RANKER_TYPE': 'MINILM_INDIR_400', 'RETRIEVER_MODEL_NAME': ''}, 'COLUMN_NAME': '9'}\n",
      "Experimento envolverá 150 registros, toda a base de dados\n"
     ]
    },
    {
     "name": "stderr",
     "output_type": "stream",
     "text": [
      "100%|██████████| 150/150 [02:26<00:00,  1.02it/s]\n"
     ]
    },
    {
     "name": "stdout",
     "output_type": "stream",
     "text": [
      "COLUMN_NAME: 9\n",
      "COUNT_QUERY_RUN: 150\n",
      "COUNT_QUERY_WITHOUT_RESULT: 0\n",
      "COUNT_QUERY_NOT_FOUND: 1\n",
      "RANK1_MEAN: 13.544\n",
      "NDCG@5_MEAN: 29.093\n",
      "NDCG@10_MEAN: 26.831\n",
      "NDCG@15_MEAN: 28.155\n",
      "NDCG@20_MEAN: 30.341\n",
      "PRECISION@50_MEAN: 8.533\n",
      "PRECISION@100_MEAN: 5.713\n",
      "RECALL@50_MEAN: 51.405\n",
      "RECALL@100_MEAN: 67.792\n",
      "TIME_SPENT_MEAN: 0.978\n",
      "==55==  2023-Jun-28 18:37:44 \n",
      "Experiment: {'TOPK_RETRIEVER': 300, 'TOPK_RANKER': 0, 'EXPANSOR_CRITERIA': '', 'INDEX_NAME': 'indir_juris_tcu_synonym_related_term', 'PIPE': {'PIPE_OBJECT': <haystack.pipelines.base.Pipeline object at 0x7f6040095590>, 'RETRIEVER_TYPE': 'join', 'RANKER_TYPE': 'MINILM_INDIR_400', 'RETRIEVER_MODEL_NAME': ''}, 'COLUMN_NAME': 'TEXT'}\n",
      "Experimento envolverá 150 registros, toda a base de dados\n"
     ]
    },
    {
     "name": "stderr",
     "output_type": "stream",
     "text": [
      "100%|██████████| 150/150 [02:20<00:00,  1.07it/s]\n"
     ]
    },
    {
     "name": "stdout",
     "output_type": "stream",
     "text": [
      "COLUMN_NAME: TEXT\n",
      "COUNT_QUERY_RUN: 150\n",
      "COUNT_QUERY_WITHOUT_RESULT: 0\n",
      "COUNT_QUERY_NOT_FOUND: 0\n",
      "RANK1_MEAN: 11.713\n",
      "NDCG@5_MEAN: 20.613\n",
      "NDCG@10_MEAN: 20.808\n",
      "NDCG@15_MEAN: 22.821\n",
      "NDCG@20_MEAN: 25.408\n",
      "PRECISION@50_MEAN: 8.6\n",
      "PRECISION@100_MEAN: 5.993\n",
      "RECALL@50_MEAN: 51.011\n",
      "RECALL@100_MEAN: 69.974\n",
      "TIME_SPENT_MEAN: 0.937\n",
      "CPU times: user 1h 38min 5s, sys: 36.7 s, total: 1h 38min 41s\n",
      "Wall time: 1h 35min 57s\n"
     ]
    }
   ],
   "source": [
    "%%time\n",
    "# colocar pequeno só para testes, depois voltar para 9999999 (número maior do que o número de termos a pesquisar)\n",
    "if consider_run_all:\n",
    "    target_columns = df_search_data.columns.difference(['ID', 'RELEVANCE_DICT', 'SOURCE'])\n",
    "elif consider_query_expanded:\n",
    "    target_columns = df_search_data.columns.difference(['ID', 'RELEVANCE_DICT', 'SOURCE', 'TEXT'])\n",
    "else:\n",
    "    target_columns = ['TEXT']\n",
    "limit_query =  9999999 # 100 # \n",
    "cnt_exec = 0\n",
    "print('target_columns', target_columns)\n",
    "for index_name in pipes.keys():\n",
    "    for pipe in pipes[index_name]:\n",
    "        for cnt, experiment in enumerate(list_experiment):\n",
    "            # raise Exception('false break')            \n",
    "            for column_name in target_columns:\n",
    "                cnt_exec += 1\n",
    "                if column_name == 'TEXT':\n",
    "                    experiment['EXPANSOR_CRITERIA'] = \"\"\n",
    "                else:\n",
    "                    experiment['EXPANSOR_CRITERIA'] = EXPANSOR_CRITERIA\n",
    "                experiment['INDEX_NAME'] = index_name\n",
    "                experiment['PIPE'] = pipe\n",
    "                experiment['COLUMN_NAME'] = column_name\n",
    "                print(f\"=={cnt_exec}==  {time.strftime('%Y-%b-%d %H:%M:%S')} \\nExperiment: {experiment}\")\n",
    "                list_result_experiment = [] # por experiment\n",
    "                result_run = util_experiment.experiment_run(parm_df=df_search_data, \n",
    "                                                        parm_experiment=experiment,\n",
    "                                                        parm_limit_query=limit_query,\n",
    "                                                        parm_print=True)\n",
    "                # raise Exception('false break')\n",
    "                list_result_experiment.append(result_run)\n",
    "                # print(f\"qtd_encontrado sim:{result_run['qtd_encontrado']}, não:{result_run['qtd_nao_encontrado']} ({result_run['percent_nao_encontrado']}%)\")\n",
    "                util_experiment.add_experiment_result(parm_list_result=list_result_experiment, parm_dataset='juris_tcu')\n",
    "                torch.cuda.empty_cache()"
   ]
  },
  {
   "cell_type": "code",
   "execution_count": null,
   "metadata": {},
   "outputs": [],
   "source": []
  },
  {
   "cell_type": "code",
   "execution_count": null,
   "metadata": {},
   "outputs": [
    {
     "name": "stdout",
     "output_type": "stream",
     "text": [
      "target_columns Index(['1', '10', '2', '3', '4', '5', '6', '7', '8', '9', 'TEXT'], dtype='object')\n",
      "==1==  2023-Jun-28 11:14:16 \n",
      "Experiment: {'TOPK_RETRIEVER': 300, 'TOPK_RANKER': 0, 'EXPANSOR_CRITERIA': 'join_bm25_sts_30_minilm_indir', 'INDEX_NAME': 'indir_juris_tcu', 'PIPE': {'PIPE_OBJECT': <haystack.pipelines.standard_pipelines.DocumentSearchPipeline object at 0x7fb60ad86b90>, 'RETRIEVER_TYPE': 'bm25', 'RANKER_TYPE': 'none', 'RETRIEVER_MODEL_NAME': ''}, 'COLUMN_NAME': '1'}\n",
      "Experimento envolverá 150 registros, toda a base de dados\n"
     ]
    },
    {
     "name": "stderr",
     "output_type": "stream",
     "text": [
      "100%|██████████| 150/150 [00:18<00:00,  8.32it/s]\n"
     ]
    },
    {
     "name": "stdout",
     "output_type": "stream",
     "text": [
      "COLUMN_NAME: 1\n",
      "COUNT_QUERY_RUN: 150\n",
      "COUNT_QUERY_WITHOUT_RESULT: 0\n",
      "COUNT_QUERY_NOT_FOUND: 0\n",
      "RANK1_MEAN: 2.873\n",
      "NDCG@5_MEAN: 56.202\n",
      "NDCG@10_MEAN: 52.261\n",
      "NDCG@15_MEAN: 54.66\n",
      "NDCG@20_MEAN: 57.599\n",
      "PRECISION@50_MEAN: 12.627\n",
      "PRECISION@100_MEAN: 6.973\n",
      "RECALL@50_MEAN: 74.063\n",
      "RECALL@100_MEAN: 81.196\n",
      "TIME_SPENT_MEAN: 0.12\n",
      "==2==  2023-Jun-28 11:14:35 \n",
      "Experiment: {'TOPK_RETRIEVER': 300, 'TOPK_RANKER': 0, 'EXPANSOR_CRITERIA': 'join_bm25_sts_30_minilm_indir', 'INDEX_NAME': 'indir_juris_tcu', 'PIPE': {'PIPE_OBJECT': <haystack.pipelines.standard_pipelines.DocumentSearchPipeline object at 0x7fb60ad86b90>, 'RETRIEVER_TYPE': 'bm25', 'RANKER_TYPE': 'none', 'RETRIEVER_MODEL_NAME': ''}, 'COLUMN_NAME': '10'}\n",
      "Experimento envolverá 150 registros, toda a base de dados\n"
     ]
    },
    {
     "name": "stderr",
     "output_type": "stream",
     "text": [
      "100%|██████████| 150/150 [00:18<00:00,  8.13it/s]\n"
     ]
    },
    {
     "name": "stdout",
     "output_type": "stream",
     "text": [
      "COLUMN_NAME: 10\n",
      "COUNT_QUERY_RUN: 150\n",
      "COUNT_QUERY_WITHOUT_RESULT: 0\n",
      "COUNT_QUERY_NOT_FOUND: 0\n",
      "RANK1_MEAN: 6.427\n",
      "NDCG@5_MEAN: 48.434\n",
      "NDCG@10_MEAN: 45.663\n",
      "NDCG@15_MEAN: 48.025\n",
      "NDCG@20_MEAN: 50.368\n",
      "PRECISION@50_MEAN: 11.067\n",
      "PRECISION@100_MEAN: 6.473\n",
      "RECALL@50_MEAN: 66.205\n",
      "RECALL@100_MEAN: 76.139\n",
      "TIME_SPENT_MEAN: 0.123\n",
      "==3==  2023-Jun-28 11:14:53 \n",
      "Experiment: {'TOPK_RETRIEVER': 300, 'TOPK_RANKER': 0, 'EXPANSOR_CRITERIA': 'join_bm25_sts_30_minilm_indir', 'INDEX_NAME': 'indir_juris_tcu', 'PIPE': {'PIPE_OBJECT': <haystack.pipelines.standard_pipelines.DocumentSearchPipeline object at 0x7fb60ad86b90>, 'RETRIEVER_TYPE': 'bm25', 'RANKER_TYPE': 'none', 'RETRIEVER_MODEL_NAME': ''}, 'COLUMN_NAME': '2'}\n",
      "Experimento envolverá 150 registros, toda a base de dados\n"
     ]
    },
    {
     "name": "stderr",
     "output_type": "stream",
     "text": [
      "100%|██████████| 150/150 [00:18<00:00,  8.24it/s]\n"
     ]
    },
    {
     "name": "stdout",
     "output_type": "stream",
     "text": [
      "COLUMN_NAME: 2\n",
      "COUNT_QUERY_RUN: 150\n",
      "COUNT_QUERY_WITHOUT_RESULT: 0\n",
      "COUNT_QUERY_NOT_FOUND: 0\n",
      "RANK1_MEAN: 3.907\n",
      "NDCG@5_MEAN: 56.274\n",
      "NDCG@10_MEAN: 52.205\n",
      "NDCG@15_MEAN: 54.46\n",
      "NDCG@20_MEAN: 56.592\n",
      "PRECISION@50_MEAN: 12.147\n",
      "PRECISION@100_MEAN: 6.84\n",
      "RECALL@50_MEAN: 71.632\n",
      "RECALL@100_MEAN: 79.864\n",
      "TIME_SPENT_MEAN: 0.121\n",
      "==4==  2023-Jun-28 11:15:12 \n",
      "Experiment: {'TOPK_RETRIEVER': 300, 'TOPK_RANKER': 0, 'EXPANSOR_CRITERIA': 'join_bm25_sts_30_minilm_indir', 'INDEX_NAME': 'indir_juris_tcu', 'PIPE': {'PIPE_OBJECT': <haystack.pipelines.standard_pipelines.DocumentSearchPipeline object at 0x7fb60ad86b90>, 'RETRIEVER_TYPE': 'bm25', 'RANKER_TYPE': 'none', 'RETRIEVER_MODEL_NAME': ''}, 'COLUMN_NAME': '3'}\n",
      "Experimento envolverá 150 registros, toda a base de dados\n"
     ]
    },
    {
     "name": "stderr",
     "output_type": "stream",
     "text": [
      "100%|██████████| 150/150 [00:17<00:00,  8.36it/s]\n"
     ]
    },
    {
     "name": "stdout",
     "output_type": "stream",
     "text": [
      "COLUMN_NAME: 3\n",
      "COUNT_QUERY_RUN: 150\n",
      "COUNT_QUERY_WITHOUT_RESULT: 0\n",
      "COUNT_QUERY_NOT_FOUND: 0\n",
      "RANK1_MEAN: 3.62\n",
      "NDCG@5_MEAN: 54.357\n",
      "NDCG@10_MEAN: 50.502\n",
      "NDCG@15_MEAN: 52.255\n",
      "NDCG@20_MEAN: 54.836\n",
      "PRECISION@50_MEAN: 11.867\n",
      "PRECISION@100_MEAN: 6.84\n",
      "RECALL@50_MEAN: 70.16\n",
      "RECALL@100_MEAN: 80.144\n",
      "TIME_SPENT_MEAN: 0.12\n",
      "==5==  2023-Jun-28 11:15:30 \n",
      "Experiment: {'TOPK_RETRIEVER': 300, 'TOPK_RANKER': 0, 'EXPANSOR_CRITERIA': 'join_bm25_sts_30_minilm_indir', 'INDEX_NAME': 'indir_juris_tcu', 'PIPE': {'PIPE_OBJECT': <haystack.pipelines.standard_pipelines.DocumentSearchPipeline object at 0x7fb60ad86b90>, 'RETRIEVER_TYPE': 'bm25', 'RANKER_TYPE': 'none', 'RETRIEVER_MODEL_NAME': ''}, 'COLUMN_NAME': '4'}\n",
      "Experimento envolverá 150 registros, toda a base de dados\n"
     ]
    },
    {
     "name": "stderr",
     "output_type": "stream",
     "text": [
      "100%|██████████| 150/150 [00:18<00:00,  8.29it/s]\n"
     ]
    },
    {
     "name": "stdout",
     "output_type": "stream",
     "text": [
      "COLUMN_NAME: 4\n",
      "COUNT_QUERY_RUN: 150\n",
      "COUNT_QUERY_WITHOUT_RESULT: 0\n",
      "COUNT_QUERY_NOT_FOUND: 0\n",
      "RANK1_MEAN: 3.96\n",
      "NDCG@5_MEAN: 54.226\n",
      "NDCG@10_MEAN: 50.383\n",
      "NDCG@15_MEAN: 52.372\n",
      "NDCG@20_MEAN: 54.614\n",
      "PRECISION@50_MEAN: 11.64\n",
      "PRECISION@100_MEAN: 6.68\n",
      "RECALL@50_MEAN: 69.142\n",
      "RECALL@100_MEAN: 78.193\n",
      "TIME_SPENT_MEAN: 0.121\n",
      "==6==  2023-Jun-28 11:15:49 \n",
      "Experiment: {'TOPK_RETRIEVER': 300, 'TOPK_RANKER': 0, 'EXPANSOR_CRITERIA': 'join_bm25_sts_30_minilm_indir', 'INDEX_NAME': 'indir_juris_tcu', 'PIPE': {'PIPE_OBJECT': <haystack.pipelines.standard_pipelines.DocumentSearchPipeline object at 0x7fb60ad86b90>, 'RETRIEVER_TYPE': 'bm25', 'RANKER_TYPE': 'none', 'RETRIEVER_MODEL_NAME': ''}, 'COLUMN_NAME': '5'}\n",
      "Experimento envolverá 150 registros, toda a base de dados\n"
     ]
    },
    {
     "name": "stderr",
     "output_type": "stream",
     "text": [
      "100%|██████████| 150/150 [00:18<00:00,  8.19it/s]\n"
     ]
    },
    {
     "name": "stdout",
     "output_type": "stream",
     "text": [
      "COLUMN_NAME: 5\n",
      "COUNT_QUERY_RUN: 150\n",
      "COUNT_QUERY_WITHOUT_RESULT: 0\n",
      "COUNT_QUERY_NOT_FOUND: 0\n",
      "RANK1_MEAN: 5.0\n",
      "NDCG@5_MEAN: 52.515\n",
      "NDCG@10_MEAN: 48.485\n",
      "NDCG@15_MEAN: 50.803\n",
      "NDCG@20_MEAN: 53.095\n",
      "PRECISION@50_MEAN: 11.387\n",
      "PRECISION@100_MEAN: 6.66\n",
      "RECALL@50_MEAN: 67.625\n",
      "RECALL@100_MEAN: 78.304\n",
      "TIME_SPENT_MEAN: 0.122\n",
      "==7==  2023-Jun-28 11:16:07 \n",
      "Experiment: {'TOPK_RETRIEVER': 300, 'TOPK_RANKER': 0, 'EXPANSOR_CRITERIA': 'join_bm25_sts_30_minilm_indir', 'INDEX_NAME': 'indir_juris_tcu', 'PIPE': {'PIPE_OBJECT': <haystack.pipelines.standard_pipelines.DocumentSearchPipeline object at 0x7fb60ad86b90>, 'RETRIEVER_TYPE': 'bm25', 'RANKER_TYPE': 'none', 'RETRIEVER_MODEL_NAME': ''}, 'COLUMN_NAME': '6'}\n",
      "Experimento envolverá 150 registros, toda a base de dados\n"
     ]
    },
    {
     "name": "stderr",
     "output_type": "stream",
     "text": [
      "100%|██████████| 150/150 [00:18<00:00,  8.22it/s]\n"
     ]
    },
    {
     "name": "stdout",
     "output_type": "stream",
     "text": [
      "COLUMN_NAME: 6\n",
      "COUNT_QUERY_RUN: 150\n",
      "COUNT_QUERY_WITHOUT_RESULT: 0\n",
      "COUNT_QUERY_NOT_FOUND: 0\n",
      "RANK1_MEAN: 5.74\n",
      "NDCG@5_MEAN: 51.222\n",
      "NDCG@10_MEAN: 47.231\n",
      "NDCG@15_MEAN: 49.235\n",
      "NDCG@20_MEAN: 51.636\n",
      "PRECISION@50_MEAN: 11.187\n",
      "PRECISION@100_MEAN: 6.567\n",
      "RECALL@50_MEAN: 66.637\n",
      "RECALL@100_MEAN: 77.282\n",
      "TIME_SPENT_MEAN: 0.122\n",
      "==8==  2023-Jun-28 11:16:26 \n",
      "Experiment: {'TOPK_RETRIEVER': 300, 'TOPK_RANKER': 0, 'EXPANSOR_CRITERIA': 'join_bm25_sts_30_minilm_indir', 'INDEX_NAME': 'indir_juris_tcu', 'PIPE': {'PIPE_OBJECT': <haystack.pipelines.standard_pipelines.DocumentSearchPipeline object at 0x7fb60ad86b90>, 'RETRIEVER_TYPE': 'bm25', 'RANKER_TYPE': 'none', 'RETRIEVER_MODEL_NAME': ''}, 'COLUMN_NAME': '7'}\n",
      "Experimento envolverá 150 registros, toda a base de dados\n"
     ]
    },
    {
     "name": "stderr",
     "output_type": "stream",
     "text": [
      "100%|██████████| 150/150 [00:18<00:00,  8.23it/s]\n"
     ]
    },
    {
     "name": "stdout",
     "output_type": "stream",
     "text": [
      "COLUMN_NAME: 7\n",
      "COUNT_QUERY_RUN: 150\n",
      "COUNT_QUERY_WITHOUT_RESULT: 0\n",
      "COUNT_QUERY_NOT_FOUND: 0\n",
      "RANK1_MEAN: 5.36\n",
      "NDCG@5_MEAN: 50.741\n",
      "NDCG@10_MEAN: 47.334\n",
      "NDCG@15_MEAN: 49.312\n",
      "NDCG@20_MEAN: 51.636\n",
      "PRECISION@50_MEAN: 11.067\n",
      "PRECISION@100_MEAN: 6.487\n",
      "RECALL@50_MEAN: 66.13\n",
      "RECALL@100_MEAN: 76.326\n",
      "TIME_SPENT_MEAN: 0.122\n",
      "==9==  2023-Jun-28 11:16:45 \n",
      "Experiment: {'TOPK_RETRIEVER': 300, 'TOPK_RANKER': 0, 'EXPANSOR_CRITERIA': 'join_bm25_sts_30_minilm_indir', 'INDEX_NAME': 'indir_juris_tcu', 'PIPE': {'PIPE_OBJECT': <haystack.pipelines.standard_pipelines.DocumentSearchPipeline object at 0x7fb60ad86b90>, 'RETRIEVER_TYPE': 'bm25', 'RANKER_TYPE': 'none', 'RETRIEVER_MODEL_NAME': ''}, 'COLUMN_NAME': '8'}\n",
      "Experimento envolverá 150 registros, toda a base de dados\n"
     ]
    },
    {
     "name": "stderr",
     "output_type": "stream",
     "text": [
      "100%|██████████| 150/150 [00:18<00:00,  8.22it/s]\n"
     ]
    },
    {
     "name": "stdout",
     "output_type": "stream",
     "text": [
      "COLUMN_NAME: 8\n",
      "COUNT_QUERY_RUN: 150\n",
      "COUNT_QUERY_WITHOUT_RESULT: 0\n",
      "COUNT_QUERY_NOT_FOUND: 0\n",
      "RANK1_MEAN: 6.267\n",
      "NDCG@5_MEAN: 49.353\n",
      "NDCG@10_MEAN: 46.664\n",
      "NDCG@15_MEAN: 48.968\n",
      "NDCG@20_MEAN: 51.228\n",
      "PRECISION@50_MEAN: 11.213\n",
      "PRECISION@100_MEAN: 6.473\n",
      "RECALL@50_MEAN: 66.951\n",
      "RECALL@100_MEAN: 76.177\n",
      "TIME_SPENT_MEAN: 0.122\n",
      "==10==  2023-Jun-28 11:17:03 \n",
      "Experiment: {'TOPK_RETRIEVER': 300, 'TOPK_RANKER': 0, 'EXPANSOR_CRITERIA': 'join_bm25_sts_30_minilm_indir', 'INDEX_NAME': 'indir_juris_tcu', 'PIPE': {'PIPE_OBJECT': <haystack.pipelines.standard_pipelines.DocumentSearchPipeline object at 0x7fb60ad86b90>, 'RETRIEVER_TYPE': 'bm25', 'RANKER_TYPE': 'none', 'RETRIEVER_MODEL_NAME': ''}, 'COLUMN_NAME': '9'}\n",
      "Experimento envolverá 150 registros, toda a base de dados\n"
     ]
    },
    {
     "name": "stderr",
     "output_type": "stream",
     "text": [
      "100%|██████████| 150/150 [00:18<00:00,  8.18it/s]\n"
     ]
    },
    {
     "name": "stdout",
     "output_type": "stream",
     "text": [
      "COLUMN_NAME: 9\n",
      "COUNT_QUERY_RUN: 150\n",
      "COUNT_QUERY_WITHOUT_RESULT: 0\n",
      "COUNT_QUERY_NOT_FOUND: 0\n",
      "RANK1_MEAN: 6.56\n",
      "NDCG@5_MEAN: 48.675\n",
      "NDCG@10_MEAN: 45.926\n",
      "NDCG@15_MEAN: 48.31\n",
      "NDCG@20_MEAN: 50.65\n",
      "PRECISION@50_MEAN: 11.067\n",
      "PRECISION@100_MEAN: 6.453\n",
      "RECALL@50_MEAN: 66.187\n",
      "RECALL@100_MEAN: 75.966\n",
      "TIME_SPENT_MEAN: 0.122\n",
      "==11==  2023-Jun-28 11:17:22 \n",
      "Experiment: {'TOPK_RETRIEVER': 300, 'TOPK_RANKER': 0, 'EXPANSOR_CRITERIA': '', 'INDEX_NAME': 'indir_juris_tcu', 'PIPE': {'PIPE_OBJECT': <haystack.pipelines.standard_pipelines.DocumentSearchPipeline object at 0x7fb60ad86b90>, 'RETRIEVER_TYPE': 'bm25', 'RANKER_TYPE': 'none', 'RETRIEVER_MODEL_NAME': ''}, 'COLUMN_NAME': 'TEXT'}\n",
      "Experimento envolverá 150 registros, toda a base de dados\n"
     ]
    },
    {
     "name": "stderr",
     "output_type": "stream",
     "text": [
      "100%|██████████| 150/150 [00:17<00:00,  8.45it/s]\n"
     ]
    },
    {
     "name": "stdout",
     "output_type": "stream",
     "text": [
      "COLUMN_NAME: TEXT\n",
      "COUNT_QUERY_RUN: 150\n",
      "COUNT_QUERY_WITHOUT_RESULT: 0\n",
      "COUNT_QUERY_NOT_FOUND: 0\n",
      "RANK1_MEAN: 2.853\n",
      "NDCG@5_MEAN: 59.411\n",
      "NDCG@10_MEAN: 55.158\n",
      "NDCG@15_MEAN: 58.502\n",
      "NDCG@20_MEAN: 61.256\n",
      "PRECISION@50_MEAN: 12.92\n",
      "PRECISION@100_MEAN: 7.127\n",
      "RECALL@50_MEAN: 75.593\n",
      "RECALL@100_MEAN: 82.94\n",
      "TIME_SPENT_MEAN: 0.118\n",
      "==12==  2023-Jun-28 11:17:40 \n",
      "Experiment: {'TOPK_RETRIEVER': 300, 'TOPK_RANKER': 0, 'EXPANSOR_CRITERIA': 'join_bm25_sts_30_minilm_indir', 'INDEX_NAME': 'indir_juris_tcu', 'PIPE': {'PIPE_OBJECT': <haystack.pipelines.base.Pipeline object at 0x7fb613f6eb90>, 'RETRIEVER_TYPE': 'bm25', 'RANKER_TYPE': 'MINILM_INDIR_400', 'RETRIEVER_MODEL_NAME': ''}, 'COLUMN_NAME': '1'}\n",
      "Experimento envolverá 150 registros, toda a base de dados\n"
     ]
    },
    {
     "name": "stderr",
     "output_type": "stream",
     "text": [
      "100%|██████████| 150/150 [01:08<00:00,  2.19it/s]\n"
     ]
    },
    {
     "name": "stdout",
     "output_type": "stream",
     "text": [
      "COLUMN_NAME: 1\n",
      "COUNT_QUERY_RUN: 150\n",
      "COUNT_QUERY_WITHOUT_RESULT: 0\n",
      "COUNT_QUERY_NOT_FOUND: 0\n",
      "RANK1_MEAN: 5.067\n",
      "NDCG@5_MEAN: 46.252\n",
      "NDCG@10_MEAN: 43.285\n",
      "NDCG@15_MEAN: 45.699\n",
      "NDCG@20_MEAN: 48.549\n",
      "PRECISION@50_MEAN: 12.053\n",
      "PRECISION@100_MEAN: 6.933\n",
      "RECALL@50_MEAN: 69.936\n",
      "RECALL@100_MEAN: 80.496\n",
      "TIME_SPENT_MEAN: 0.457\n",
      "==13==  2023-Jun-28 11:18:49 \n",
      "Experiment: {'TOPK_RETRIEVER': 300, 'TOPK_RANKER': 0, 'EXPANSOR_CRITERIA': 'join_bm25_sts_30_minilm_indir', 'INDEX_NAME': 'indir_juris_tcu', 'PIPE': {'PIPE_OBJECT': <haystack.pipelines.base.Pipeline object at 0x7fb613f6eb90>, 'RETRIEVER_TYPE': 'bm25', 'RANKER_TYPE': 'MINILM_INDIR_400', 'RETRIEVER_MODEL_NAME': ''}, 'COLUMN_NAME': '10'}\n",
      "Experimento envolverá 150 registros, toda a base de dados\n"
     ]
    },
    {
     "name": "stderr",
     "output_type": "stream",
     "text": [
      "100%|██████████| 150/150 [01:17<00:00,  1.93it/s]\n"
     ]
    },
    {
     "name": "stdout",
     "output_type": "stream",
     "text": [
      "COLUMN_NAME: 10\n",
      "COUNT_QUERY_RUN: 150\n",
      "COUNT_QUERY_WITHOUT_RESULT: 0\n",
      "COUNT_QUERY_NOT_FOUND: 0\n",
      "RANK1_MEAN: 5.08\n",
      "NDCG@5_MEAN: 51.33\n",
      "NDCG@10_MEAN: 48.085\n",
      "NDCG@15_MEAN: 50.832\n",
      "NDCG@20_MEAN: 52.832\n",
      "PRECISION@50_MEAN: 12.333\n",
      "PRECISION@100_MEAN: 6.833\n",
      "RECALL@50_MEAN: 72.25\n",
      "RECALL@100_MEAN: 80.045\n",
      "TIME_SPENT_MEAN: 0.519\n",
      "==14==  2023-Jun-28 11:20:07 \n",
      "Experiment: {'TOPK_RETRIEVER': 300, 'TOPK_RANKER': 0, 'EXPANSOR_CRITERIA': 'join_bm25_sts_30_minilm_indir', 'INDEX_NAME': 'indir_juris_tcu', 'PIPE': {'PIPE_OBJECT': <haystack.pipelines.base.Pipeline object at 0x7fb613f6eb90>, 'RETRIEVER_TYPE': 'bm25', 'RANKER_TYPE': 'MINILM_INDIR_400', 'RETRIEVER_MODEL_NAME': ''}, 'COLUMN_NAME': '2'}\n",
      "Experimento envolverá 150 registros, toda a base de dados\n"
     ]
    },
    {
     "name": "stderr",
     "output_type": "stream",
     "text": [
      "100%|██████████| 150/150 [01:09<00:00,  2.16it/s]\n"
     ]
    },
    {
     "name": "stdout",
     "output_type": "stream",
     "text": [
      "COLUMN_NAME: 2\n",
      "COUNT_QUERY_RUN: 150\n",
      "COUNT_QUERY_WITHOUT_RESULT: 0\n",
      "COUNT_QUERY_NOT_FOUND: 0\n",
      "RANK1_MEAN: 4.233\n",
      "NDCG@5_MEAN: 47.199\n",
      "NDCG@10_MEAN: 44.072\n",
      "NDCG@15_MEAN: 46.498\n",
      "NDCG@20_MEAN: 49.219\n",
      "PRECISION@50_MEAN: 12.173\n",
      "PRECISION@100_MEAN: 6.853\n",
      "RECALL@50_MEAN: 70.394\n",
      "RECALL@100_MEAN: 79.416\n",
      "TIME_SPENT_MEAN: 0.463\n",
      "==15==  2023-Jun-28 11:21:17 \n",
      "Experiment: {'TOPK_RETRIEVER': 300, 'TOPK_RANKER': 0, 'EXPANSOR_CRITERIA': 'join_bm25_sts_30_minilm_indir', 'INDEX_NAME': 'indir_juris_tcu', 'PIPE': {'PIPE_OBJECT': <haystack.pipelines.base.Pipeline object at 0x7fb613f6eb90>, 'RETRIEVER_TYPE': 'bm25', 'RANKER_TYPE': 'MINILM_INDIR_400', 'RETRIEVER_MODEL_NAME': ''}, 'COLUMN_NAME': '3'}\n",
      "Experimento envolverá 150 registros, toda a base de dados\n"
     ]
    },
    {
     "name": "stderr",
     "output_type": "stream",
     "text": [
      "100%|██████████| 150/150 [01:11<00:00,  2.11it/s]\n"
     ]
    },
    {
     "name": "stdout",
     "output_type": "stream",
     "text": [
      "COLUMN_NAME: 3\n",
      "COUNT_QUERY_RUN: 150\n",
      "COUNT_QUERY_WITHOUT_RESULT: 0\n",
      "COUNT_QUERY_NOT_FOUND: 0\n",
      "RANK1_MEAN: 5.44\n",
      "NDCG@5_MEAN: 45.809\n",
      "NDCG@10_MEAN: 43.273\n",
      "NDCG@15_MEAN: 45.856\n",
      "NDCG@20_MEAN: 48.29\n",
      "PRECISION@50_MEAN: 11.853\n",
      "PRECISION@100_MEAN: 6.833\n",
      "RECALL@50_MEAN: 68.6\n",
      "RECALL@100_MEAN: 79.289\n",
      "TIME_SPENT_MEAN: 0.474\n",
      "==16==  2023-Jun-28 11:22:29 \n",
      "Experiment: {'TOPK_RETRIEVER': 300, 'TOPK_RANKER': 0, 'EXPANSOR_CRITERIA': 'join_bm25_sts_30_minilm_indir', 'INDEX_NAME': 'indir_juris_tcu', 'PIPE': {'PIPE_OBJECT': <haystack.pipelines.base.Pipeline object at 0x7fb613f6eb90>, 'RETRIEVER_TYPE': 'bm25', 'RANKER_TYPE': 'MINILM_INDIR_400', 'RETRIEVER_MODEL_NAME': ''}, 'COLUMN_NAME': '4'}\n",
      "Experimento envolverá 150 registros, toda a base de dados\n"
     ]
    },
    {
     "name": "stderr",
     "output_type": "stream",
     "text": [
      "100%|██████████| 150/150 [01:13<00:00,  2.04it/s]\n"
     ]
    },
    {
     "name": "stdout",
     "output_type": "stream",
     "text": [
      "COLUMN_NAME: 4\n",
      "COUNT_QUERY_RUN: 150\n",
      "COUNT_QUERY_WITHOUT_RESULT: 0\n",
      "COUNT_QUERY_NOT_FOUND: 0\n",
      "RANK1_MEAN: 4.813\n",
      "NDCG@5_MEAN: 48.607\n",
      "NDCG@10_MEAN: 45.789\n",
      "NDCG@15_MEAN: 48.699\n",
      "NDCG@20_MEAN: 50.656\n",
      "PRECISION@50_MEAN: 12.107\n",
      "PRECISION@100_MEAN: 6.927\n",
      "RECALL@50_MEAN: 70.815\n",
      "RECALL@100_MEAN: 80.431\n",
      "TIME_SPENT_MEAN: 0.489\n",
      "==17==  2023-Jun-28 11:23:43 \n",
      "Experiment: {'TOPK_RETRIEVER': 300, 'TOPK_RANKER': 0, 'EXPANSOR_CRITERIA': 'join_bm25_sts_30_minilm_indir', 'INDEX_NAME': 'indir_juris_tcu', 'PIPE': {'PIPE_OBJECT': <haystack.pipelines.base.Pipeline object at 0x7fb613f6eb90>, 'RETRIEVER_TYPE': 'bm25', 'RANKER_TYPE': 'MINILM_INDIR_400', 'RETRIEVER_MODEL_NAME': ''}, 'COLUMN_NAME': '5'}\n",
      "Experimento envolverá 150 registros, toda a base de dados\n"
     ]
    },
    {
     "name": "stderr",
     "output_type": "stream",
     "text": [
      "100%|██████████| 150/150 [01:14<00:00,  2.02it/s]\n"
     ]
    },
    {
     "name": "stdout",
     "output_type": "stream",
     "text": [
      "COLUMN_NAME: 5\n",
      "COUNT_QUERY_RUN: 150\n",
      "COUNT_QUERY_WITHOUT_RESULT: 0\n",
      "COUNT_QUERY_NOT_FOUND: 0\n",
      "RANK1_MEAN: 4.393\n",
      "NDCG@5_MEAN: 50.004\n",
      "NDCG@10_MEAN: 46.48\n",
      "NDCG@15_MEAN: 49.128\n",
      "NDCG@20_MEAN: 51.493\n",
      "PRECISION@50_MEAN: 12.307\n",
      "PRECISION@100_MEAN: 6.9\n",
      "RECALL@50_MEAN: 71.476\n",
      "RECALL@100_MEAN: 80.388\n",
      "TIME_SPENT_MEAN: 0.496\n",
      "==18==  2023-Jun-28 11:24:58 \n",
      "Experiment: {'TOPK_RETRIEVER': 300, 'TOPK_RANKER': 0, 'EXPANSOR_CRITERIA': 'join_bm25_sts_30_minilm_indir', 'INDEX_NAME': 'indir_juris_tcu', 'PIPE': {'PIPE_OBJECT': <haystack.pipelines.base.Pipeline object at 0x7fb613f6eb90>, 'RETRIEVER_TYPE': 'bm25', 'RANKER_TYPE': 'MINILM_INDIR_400', 'RETRIEVER_MODEL_NAME': ''}, 'COLUMN_NAME': '6'}\n",
      "Experimento envolverá 150 registros, toda a base de dados\n"
     ]
    },
    {
     "name": "stderr",
     "output_type": "stream",
     "text": [
      "100%|██████████| 150/150 [01:15<00:00,  1.99it/s]\n"
     ]
    },
    {
     "name": "stdout",
     "output_type": "stream",
     "text": [
      "COLUMN_NAME: 6\n",
      "COUNT_QUERY_RUN: 150\n",
      "COUNT_QUERY_WITHOUT_RESULT: 0\n",
      "COUNT_QUERY_NOT_FOUND: 0\n",
      "RANK1_MEAN: 4.427\n",
      "NDCG@5_MEAN: 48.483\n",
      "NDCG@10_MEAN: 46.428\n",
      "NDCG@15_MEAN: 49.053\n",
      "NDCG@20_MEAN: 51.613\n",
      "PRECISION@50_MEAN: 12.347\n",
      "PRECISION@100_MEAN: 6.887\n",
      "RECALL@50_MEAN: 71.809\n",
      "RECALL@100_MEAN: 80.357\n",
      "TIME_SPENT_MEAN: 0.501\n",
      "==19==  2023-Jun-28 11:26:13 \n",
      "Experiment: {'TOPK_RETRIEVER': 300, 'TOPK_RANKER': 0, 'EXPANSOR_CRITERIA': 'join_bm25_sts_30_minilm_indir', 'INDEX_NAME': 'indir_juris_tcu', 'PIPE': {'PIPE_OBJECT': <haystack.pipelines.base.Pipeline object at 0x7fb613f6eb90>, 'RETRIEVER_TYPE': 'bm25', 'RANKER_TYPE': 'MINILM_INDIR_400', 'RETRIEVER_MODEL_NAME': ''}, 'COLUMN_NAME': '7'}\n",
      "Experimento envolverá 150 registros, toda a base de dados\n"
     ]
    },
    {
     "name": "stderr",
     "output_type": "stream",
     "text": [
      "100%|██████████| 150/150 [01:16<00:00,  1.96it/s]\n"
     ]
    },
    {
     "name": "stdout",
     "output_type": "stream",
     "text": [
      "COLUMN_NAME: 7\n",
      "COUNT_QUERY_RUN: 150\n",
      "COUNT_QUERY_WITHOUT_RESULT: 0\n",
      "COUNT_QUERY_NOT_FOUND: 0\n",
      "RANK1_MEAN: 4.56\n",
      "NDCG@5_MEAN: 49.601\n",
      "NDCG@10_MEAN: 46.851\n",
      "NDCG@15_MEAN: 49.648\n",
      "NDCG@20_MEAN: 51.873\n",
      "PRECISION@50_MEAN: 12.48\n",
      "PRECISION@100_MEAN: 6.907\n",
      "RECALL@50_MEAN: 72.975\n",
      "RECALL@100_MEAN: 80.495\n",
      "TIME_SPENT_MEAN: 0.511\n",
      "==20==  2023-Jun-28 11:27:30 \n",
      "Experiment: {'TOPK_RETRIEVER': 300, 'TOPK_RANKER': 0, 'EXPANSOR_CRITERIA': 'join_bm25_sts_30_minilm_indir', 'INDEX_NAME': 'indir_juris_tcu', 'PIPE': {'PIPE_OBJECT': <haystack.pipelines.base.Pipeline object at 0x7fb613f6eb90>, 'RETRIEVER_TYPE': 'bm25', 'RANKER_TYPE': 'MINILM_INDIR_400', 'RETRIEVER_MODEL_NAME': ''}, 'COLUMN_NAME': '8'}\n",
      "Experimento envolverá 150 registros, toda a base de dados\n"
     ]
    },
    {
     "name": "stderr",
     "output_type": "stream",
     "text": [
      "100%|██████████| 150/150 [01:17<00:00,  1.92it/s]\n"
     ]
    },
    {
     "name": "stdout",
     "output_type": "stream",
     "text": [
      "COLUMN_NAME: 8\n",
      "COUNT_QUERY_RUN: 150\n",
      "COUNT_QUERY_WITHOUT_RESULT: 0\n",
      "COUNT_QUERY_NOT_FOUND: 0\n",
      "RANK1_MEAN: 5.307\n",
      "NDCG@5_MEAN: 51.474\n",
      "NDCG@10_MEAN: 48.147\n",
      "NDCG@15_MEAN: 50.724\n",
      "NDCG@20_MEAN: 53.044\n",
      "PRECISION@50_MEAN: 12.44\n",
      "PRECISION@100_MEAN: 6.853\n",
      "RECALL@50_MEAN: 72.823\n",
      "RECALL@100_MEAN: 79.651\n",
      "TIME_SPENT_MEAN: 0.52\n",
      "==21==  2023-Jun-28 11:28:49 \n",
      "Experiment: {'TOPK_RETRIEVER': 300, 'TOPK_RANKER': 0, 'EXPANSOR_CRITERIA': 'join_bm25_sts_30_minilm_indir', 'INDEX_NAME': 'indir_juris_tcu', 'PIPE': {'PIPE_OBJECT': <haystack.pipelines.base.Pipeline object at 0x7fb613f6eb90>, 'RETRIEVER_TYPE': 'bm25', 'RANKER_TYPE': 'MINILM_INDIR_400', 'RETRIEVER_MODEL_NAME': ''}, 'COLUMN_NAME': '9'}\n",
      "Experimento envolverá 150 registros, toda a base de dados\n"
     ]
    },
    {
     "name": "stderr",
     "output_type": "stream",
     "text": [
      "100%|██████████| 150/150 [01:18<00:00,  1.92it/s]\n"
     ]
    },
    {
     "name": "stdout",
     "output_type": "stream",
     "text": [
      "COLUMN_NAME: 9\n",
      "COUNT_QUERY_RUN: 150\n",
      "COUNT_QUERY_WITHOUT_RESULT: 0\n",
      "COUNT_QUERY_NOT_FOUND: 0\n",
      "RANK1_MEAN: 5.047\n",
      "NDCG@5_MEAN: 50.9\n",
      "NDCG@10_MEAN: 47.719\n",
      "NDCG@15_MEAN: 50.291\n",
      "NDCG@20_MEAN: 52.485\n",
      "PRECISION@50_MEAN: 12.333\n",
      "PRECISION@100_MEAN: 6.827\n",
      "RECALL@50_MEAN: 72.26\n",
      "RECALL@100_MEAN: 79.966\n",
      "TIME_SPENT_MEAN: 0.521\n",
      "==22==  2023-Jun-28 11:30:08 \n",
      "Experiment: {'TOPK_RETRIEVER': 300, 'TOPK_RANKER': 0, 'EXPANSOR_CRITERIA': '', 'INDEX_NAME': 'indir_juris_tcu', 'PIPE': {'PIPE_OBJECT': <haystack.pipelines.base.Pipeline object at 0x7fb613f6eb90>, 'RETRIEVER_TYPE': 'bm25', 'RANKER_TYPE': 'MINILM_INDIR_400', 'RETRIEVER_MODEL_NAME': ''}, 'COLUMN_NAME': 'TEXT'}\n",
      "Experimento envolverá 150 registros, toda a base de dados\n"
     ]
    },
    {
     "name": "stderr",
     "output_type": "stream",
     "text": [
      "100%|██████████| 150/150 [01:08<00:00,  2.19it/s]\n"
     ]
    },
    {
     "name": "stdout",
     "output_type": "stream",
     "text": [
      "COLUMN_NAME: TEXT\n",
      "COUNT_QUERY_RUN: 150\n",
      "COUNT_QUERY_WITHOUT_RESULT: 0\n",
      "COUNT_QUERY_NOT_FOUND: 0\n",
      "RANK1_MEAN: 3.513\n",
      "NDCG@5_MEAN: 46.229\n",
      "NDCG@10_MEAN: 43.832\n",
      "NDCG@15_MEAN: 47.097\n",
      "NDCG@20_MEAN: 49.708\n",
      "PRECISION@50_MEAN: 12.333\n",
      "PRECISION@100_MEAN: 7.16\n",
      "RECALL@50_MEAN: 71.723\n",
      "RECALL@100_MEAN: 83.146\n",
      "TIME_SPENT_MEAN: 0.456\n",
      "==23==  2023-Jun-28 11:31:16 \n",
      "Experiment: {'TOPK_RETRIEVER': 300, 'TOPK_RANKER': 0, 'EXPANSOR_CRITERIA': 'join_bm25_sts_30_minilm_indir', 'INDEX_NAME': 'indir_juris_tcu', 'PIPE': {'PIPE_OBJECT': <haystack.pipelines.base.Pipeline object at 0x7fb614018290>, 'RETRIEVER_TYPE': 'sts', 'RANKER_TYPE': 'MINILM_INDIR_400', 'RETRIEVER_MODEL_NAME': ''}, 'COLUMN_NAME': '1'}\n",
      "Experimento envolverá 150 registros, toda a base de dados\n"
     ]
    },
    {
     "name": "stderr",
     "output_type": "stream",
     "text": [
      "100%|██████████| 150/150 [01:06<00:00,  2.27it/s]\n"
     ]
    },
    {
     "name": "stdout",
     "output_type": "stream",
     "text": [
      "COLUMN_NAME: 1\n",
      "COUNT_QUERY_RUN: 150\n",
      "COUNT_QUERY_WITHOUT_RESULT: 0\n",
      "COUNT_QUERY_NOT_FOUND: 8\n",
      "RANK1_MEAN: 4.472\n",
      "NDCG@5_MEAN: 41.488\n",
      "NDCG@10_MEAN: 37.75\n",
      "NDCG@15_MEAN: 39.477\n",
      "NDCG@20_MEAN: 41.11\n",
      "PRECISION@50_MEAN: 8.707\n",
      "PRECISION@100_MEAN: 4.9\n",
      "RECALL@50_MEAN: 51.476\n",
      "RECALL@100_MEAN: 57.909\n",
      "TIME_SPENT_MEAN: 0.441\n",
      "==24==  2023-Jun-28 11:32:23 \n",
      "Experiment: {'TOPK_RETRIEVER': 300, 'TOPK_RANKER': 0, 'EXPANSOR_CRITERIA': 'join_bm25_sts_30_minilm_indir', 'INDEX_NAME': 'indir_juris_tcu', 'PIPE': {'PIPE_OBJECT': <haystack.pipelines.base.Pipeline object at 0x7fb614018290>, 'RETRIEVER_TYPE': 'sts', 'RANKER_TYPE': 'MINILM_INDIR_400', 'RETRIEVER_MODEL_NAME': ''}, 'COLUMN_NAME': '10'}\n",
      "Experimento envolverá 150 registros, toda a base de dados\n"
     ]
    },
    {
     "name": "stderr",
     "output_type": "stream",
     "text": [
      "100%|██████████| 150/150 [01:21<00:00,  1.84it/s]\n"
     ]
    },
    {
     "name": "stdout",
     "output_type": "stream",
     "text": [
      "COLUMN_NAME: 10\n",
      "COUNT_QUERY_RUN: 150\n",
      "COUNT_QUERY_WITHOUT_RESULT: 0\n",
      "COUNT_QUERY_NOT_FOUND: 9\n",
      "RANK1_MEAN: 4.553\n",
      "NDCG@5_MEAN: 46.636\n",
      "NDCG@10_MEAN: 42.5\n",
      "NDCG@15_MEAN: 44.393\n",
      "NDCG@20_MEAN: 46.26\n",
      "PRECISION@50_MEAN: 9.213\n",
      "PRECISION@100_MEAN: 4.987\n",
      "RECALL@50_MEAN: 55.609\n",
      "RECALL@100_MEAN: 59.48\n",
      "TIME_SPENT_MEAN: 0.543\n",
      "==25==  2023-Jun-28 11:33:45 \n",
      "Experiment: {'TOPK_RETRIEVER': 300, 'TOPK_RANKER': 0, 'EXPANSOR_CRITERIA': 'join_bm25_sts_30_minilm_indir', 'INDEX_NAME': 'indir_juris_tcu', 'PIPE': {'PIPE_OBJECT': <haystack.pipelines.base.Pipeline object at 0x7fb614018290>, 'RETRIEVER_TYPE': 'sts', 'RANKER_TYPE': 'MINILM_INDIR_400', 'RETRIEVER_MODEL_NAME': ''}, 'COLUMN_NAME': '2'}\n",
      "Experimento envolverá 150 registros, toda a base de dados\n"
     ]
    },
    {
     "name": "stderr",
     "output_type": "stream",
     "text": [
      "100%|██████████| 150/150 [01:08<00:00,  2.18it/s]\n"
     ]
    },
    {
     "name": "stdout",
     "output_type": "stream",
     "text": [
      "COLUMN_NAME: 2\n",
      "COUNT_QUERY_RUN: 150\n",
      "COUNT_QUERY_WITHOUT_RESULT: 0\n",
      "COUNT_QUERY_NOT_FOUND: 10\n",
      "RANK1_MEAN: 4.25\n",
      "NDCG@5_MEAN: 42.983\n",
      "NDCG@10_MEAN: 38.722\n",
      "NDCG@15_MEAN: 40.325\n",
      "NDCG@20_MEAN: 42.177\n",
      "PRECISION@50_MEAN: 8.853\n",
      "PRECISION@100_MEAN: 4.893\n",
      "RECALL@50_MEAN: 52.484\n",
      "RECALL@100_MEAN: 57.729\n",
      "TIME_SPENT_MEAN: 0.459\n",
      "==26==  2023-Jun-28 11:34:54 \n",
      "Experiment: {'TOPK_RETRIEVER': 300, 'TOPK_RANKER': 0, 'EXPANSOR_CRITERIA': 'join_bm25_sts_30_minilm_indir', 'INDEX_NAME': 'indir_juris_tcu', 'PIPE': {'PIPE_OBJECT': <haystack.pipelines.base.Pipeline object at 0x7fb614018290>, 'RETRIEVER_TYPE': 'sts', 'RANKER_TYPE': 'MINILM_INDIR_400', 'RETRIEVER_MODEL_NAME': ''}, 'COLUMN_NAME': '3'}\n",
      "Experimento envolverá 150 registros, toda a base de dados\n"
     ]
    },
    {
     "name": "stderr",
     "output_type": "stream",
     "text": [
      "100%|██████████| 150/150 [01:11<00:00,  2.09it/s]\n"
     ]
    },
    {
     "name": "stdout",
     "output_type": "stream",
     "text": [
      "COLUMN_NAME: 3\n",
      "COUNT_QUERY_RUN: 150\n",
      "COUNT_QUERY_WITHOUT_RESULT: 0\n",
      "COUNT_QUERY_NOT_FOUND: 9\n",
      "RANK1_MEAN: 5.277\n",
      "NDCG@5_MEAN: 43.305\n",
      "NDCG@10_MEAN: 39.173\n",
      "NDCG@15_MEAN: 40.786\n",
      "NDCG@20_MEAN: 42.201\n",
      "PRECISION@50_MEAN: 8.613\n",
      "PRECISION@100_MEAN: 4.74\n",
      "RECALL@50_MEAN: 51.638\n",
      "RECALL@100_MEAN: 56.22\n",
      "TIME_SPENT_MEAN: 0.479\n",
      "==27==  2023-Jun-28 11:36:07 \n",
      "Experiment: {'TOPK_RETRIEVER': 300, 'TOPK_RANKER': 0, 'EXPANSOR_CRITERIA': 'join_bm25_sts_30_minilm_indir', 'INDEX_NAME': 'indir_juris_tcu', 'PIPE': {'PIPE_OBJECT': <haystack.pipelines.base.Pipeline object at 0x7fb614018290>, 'RETRIEVER_TYPE': 'sts', 'RANKER_TYPE': 'MINILM_INDIR_400', 'RETRIEVER_MODEL_NAME': ''}, 'COLUMN_NAME': '4'}\n",
      "Experimento envolverá 150 registros, toda a base de dados\n"
     ]
    },
    {
     "name": "stderr",
     "output_type": "stream",
     "text": [
      "100%|██████████| 150/150 [01:14<00:00,  2.03it/s]\n"
     ]
    },
    {
     "name": "stdout",
     "output_type": "stream",
     "text": [
      "COLUMN_NAME: 4\n",
      "COUNT_QUERY_RUN: 150\n",
      "COUNT_QUERY_WITHOUT_RESULT: 0\n",
      "COUNT_QUERY_NOT_FOUND: 7\n",
      "RANK1_MEAN: 4.517\n",
      "NDCG@5_MEAN: 44.831\n",
      "NDCG@10_MEAN: 40.596\n",
      "NDCG@15_MEAN: 42.273\n",
      "NDCG@20_MEAN: 43.587\n",
      "PRECISION@50_MEAN: 8.947\n",
      "PRECISION@100_MEAN: 4.947\n",
      "RECALL@50_MEAN: 53.266\n",
      "RECALL@100_MEAN: 58.488\n",
      "TIME_SPENT_MEAN: 0.493\n",
      "==28==  2023-Jun-28 11:37:21 \n",
      "Experiment: {'TOPK_RETRIEVER': 300, 'TOPK_RANKER': 0, 'EXPANSOR_CRITERIA': 'join_bm25_sts_30_minilm_indir', 'INDEX_NAME': 'indir_juris_tcu', 'PIPE': {'PIPE_OBJECT': <haystack.pipelines.base.Pipeline object at 0x7fb614018290>, 'RETRIEVER_TYPE': 'sts', 'RANKER_TYPE': 'MINILM_INDIR_400', 'RETRIEVER_MODEL_NAME': ''}, 'COLUMN_NAME': '5'}\n",
      "Experimento envolverá 150 registros, toda a base de dados\n"
     ]
    },
    {
     "name": "stderr",
     "output_type": "stream",
     "text": [
      "100%|██████████| 150/150 [01:15<00:00,  1.98it/s]\n"
     ]
    },
    {
     "name": "stdout",
     "output_type": "stream",
     "text": [
      "COLUMN_NAME: 5\n",
      "COUNT_QUERY_RUN: 150\n",
      "COUNT_QUERY_WITHOUT_RESULT: 0\n",
      "COUNT_QUERY_NOT_FOUND: 10\n",
      "RANK1_MEAN: 4.2\n",
      "NDCG@5_MEAN: 45.871\n",
      "NDCG@10_MEAN: 41.044\n",
      "NDCG@15_MEAN: 42.54\n",
      "NDCG@20_MEAN: 44.449\n",
      "PRECISION@50_MEAN: 9.173\n",
      "PRECISION@100_MEAN: 4.993\n",
      "RECALL@50_MEAN: 54.073\n",
      "RECALL@100_MEAN: 58.341\n",
      "TIME_SPENT_MEAN: 0.504\n",
      "==29==  2023-Jun-28 11:38:37 \n",
      "Experiment: {'TOPK_RETRIEVER': 300, 'TOPK_RANKER': 0, 'EXPANSOR_CRITERIA': 'join_bm25_sts_30_minilm_indir', 'INDEX_NAME': 'indir_juris_tcu', 'PIPE': {'PIPE_OBJECT': <haystack.pipelines.base.Pipeline object at 0x7fb614018290>, 'RETRIEVER_TYPE': 'sts', 'RANKER_TYPE': 'MINILM_INDIR_400', 'RETRIEVER_MODEL_NAME': ''}, 'COLUMN_NAME': '6'}\n",
      "Experimento envolverá 150 registros, toda a base de dados\n"
     ]
    },
    {
     "name": "stderr",
     "output_type": "stream",
     "text": [
      "100%|██████████| 150/150 [01:17<00:00,  1.94it/s]\n"
     ]
    },
    {
     "name": "stdout",
     "output_type": "stream",
     "text": [
      "COLUMN_NAME: 6\n",
      "COUNT_QUERY_RUN: 150\n",
      "COUNT_QUERY_WITHOUT_RESULT: 0\n",
      "COUNT_QUERY_NOT_FOUND: 10\n",
      "RANK1_MEAN: 3.636\n",
      "NDCG@5_MEAN: 46.137\n",
      "NDCG@10_MEAN: 42.226\n",
      "NDCG@15_MEAN: 43.847\n",
      "NDCG@20_MEAN: 45.575\n",
      "PRECISION@50_MEAN: 9.307\n",
      "PRECISION@100_MEAN: 4.987\n",
      "RECALL@50_MEAN: 55.127\n",
      "RECALL@100_MEAN: 58.709\n",
      "TIME_SPENT_MEAN: 0.515\n",
      "==30==  2023-Jun-28 11:39:55 \n",
      "Experiment: {'TOPK_RETRIEVER': 300, 'TOPK_RANKER': 0, 'EXPANSOR_CRITERIA': 'join_bm25_sts_30_minilm_indir', 'INDEX_NAME': 'indir_juris_tcu', 'PIPE': {'PIPE_OBJECT': <haystack.pipelines.base.Pipeline object at 0x7fb614018290>, 'RETRIEVER_TYPE': 'sts', 'RANKER_TYPE': 'MINILM_INDIR_400', 'RETRIEVER_MODEL_NAME': ''}, 'COLUMN_NAME': '7'}\n",
      "Experimento envolverá 150 registros, toda a base de dados\n"
     ]
    },
    {
     "name": "stderr",
     "output_type": "stream",
     "text": [
      "100%|██████████| 150/150 [01:19<00:00,  1.90it/s]\n"
     ]
    },
    {
     "name": "stdout",
     "output_type": "stream",
     "text": [
      "COLUMN_NAME: 7\n",
      "COUNT_QUERY_RUN: 150\n",
      "COUNT_QUERY_WITHOUT_RESULT: 0\n",
      "COUNT_QUERY_NOT_FOUND: 9\n",
      "RANK1_MEAN: 3.454\n",
      "NDCG@5_MEAN: 47.866\n",
      "NDCG@10_MEAN: 43.45\n",
      "NDCG@15_MEAN: 45.346\n",
      "NDCG@20_MEAN: 46.822\n",
      "PRECISION@50_MEAN: 9.36\n",
      "PRECISION@100_MEAN: 5.087\n",
      "RECALL@50_MEAN: 55.575\n",
      "RECALL@100_MEAN: 59.768\n",
      "TIME_SPENT_MEAN: 0.528\n",
      "==31==  2023-Jun-28 11:41:15 \n",
      "Experiment: {'TOPK_RETRIEVER': 300, 'TOPK_RANKER': 0, 'EXPANSOR_CRITERIA': 'join_bm25_sts_30_minilm_indir', 'INDEX_NAME': 'indir_juris_tcu', 'PIPE': {'PIPE_OBJECT': <haystack.pipelines.base.Pipeline object at 0x7fb614018290>, 'RETRIEVER_TYPE': 'sts', 'RANKER_TYPE': 'MINILM_INDIR_400', 'RETRIEVER_MODEL_NAME': ''}, 'COLUMN_NAME': '8'}\n",
      "Experimento envolverá 150 registros, toda a base de dados\n"
     ]
    },
    {
     "name": "stderr",
     "output_type": "stream",
     "text": [
      "100%|██████████| 150/150 [01:20<00:00,  1.87it/s]\n"
     ]
    },
    {
     "name": "stdout",
     "output_type": "stream",
     "text": [
      "COLUMN_NAME: 8\n",
      "COUNT_QUERY_RUN: 150\n",
      "COUNT_QUERY_WITHOUT_RESULT: 0\n",
      "COUNT_QUERY_NOT_FOUND: 7\n",
      "RANK1_MEAN: 4.301\n",
      "NDCG@5_MEAN: 47.611\n",
      "NDCG@10_MEAN: 43.632\n",
      "NDCG@15_MEAN: 45.075\n",
      "NDCG@20_MEAN: 47.013\n",
      "PRECISION@50_MEAN: 9.467\n",
      "PRECISION@100_MEAN: 5.107\n",
      "RECALL@50_MEAN: 56.887\n",
      "RECALL@100_MEAN: 60.71\n",
      "TIME_SPENT_MEAN: 0.534\n",
      "==32==  2023-Jun-28 11:42:35 \n",
      "Experiment: {'TOPK_RETRIEVER': 300, 'TOPK_RANKER': 0, 'EXPANSOR_CRITERIA': 'join_bm25_sts_30_minilm_indir', 'INDEX_NAME': 'indir_juris_tcu', 'PIPE': {'PIPE_OBJECT': <haystack.pipelines.base.Pipeline object at 0x7fb614018290>, 'RETRIEVER_TYPE': 'sts', 'RANKER_TYPE': 'MINILM_INDIR_400', 'RETRIEVER_MODEL_NAME': ''}, 'COLUMN_NAME': '9'}\n",
      "Experimento envolverá 150 registros, toda a base de dados\n"
     ]
    },
    {
     "name": "stderr",
     "output_type": "stream",
     "text": [
      "100%|██████████| 150/150 [01:21<00:00,  1.84it/s]\n"
     ]
    },
    {
     "name": "stdout",
     "output_type": "stream",
     "text": [
      "COLUMN_NAME: 9\n",
      "COUNT_QUERY_RUN: 150\n",
      "COUNT_QUERY_WITHOUT_RESULT: 0\n",
      "COUNT_QUERY_NOT_FOUND: 9\n",
      "RANK1_MEAN: 4.411\n",
      "NDCG@5_MEAN: 47.131\n",
      "NDCG@10_MEAN: 42.899\n",
      "NDCG@15_MEAN: 44.68\n",
      "NDCG@20_MEAN: 46.632\n",
      "PRECISION@50_MEAN: 9.44\n",
      "PRECISION@100_MEAN: 5.093\n",
      "RECALL@50_MEAN: 56.729\n",
      "RECALL@100_MEAN: 60.53\n",
      "TIME_SPENT_MEAN: 0.542\n",
      "==33==  2023-Jun-28 11:43:57 \n",
      "Experiment: {'TOPK_RETRIEVER': 300, 'TOPK_RANKER': 0, 'EXPANSOR_CRITERIA': '', 'INDEX_NAME': 'indir_juris_tcu', 'PIPE': {'PIPE_OBJECT': <haystack.pipelines.base.Pipeline object at 0x7fb614018290>, 'RETRIEVER_TYPE': 'sts', 'RANKER_TYPE': 'MINILM_INDIR_400', 'RETRIEVER_MODEL_NAME': ''}, 'COLUMN_NAME': 'TEXT'}\n",
      "Experimento envolverá 150 registros, toda a base de dados\n"
     ]
    },
    {
     "name": "stderr",
     "output_type": "stream",
     "text": [
      "100%|██████████| 150/150 [01:04<00:00,  2.34it/s]\n"
     ]
    },
    {
     "name": "stdout",
     "output_type": "stream",
     "text": [
      "COLUMN_NAME: TEXT\n",
      "COUNT_QUERY_RUN: 150\n",
      "COUNT_QUERY_WITHOUT_RESULT: 0\n",
      "COUNT_QUERY_NOT_FOUND: 4\n",
      "RANK1_MEAN: 3.562\n",
      "NDCG@5_MEAN: 43.275\n",
      "NDCG@10_MEAN: 40.034\n",
      "NDCG@15_MEAN: 41.465\n",
      "NDCG@20_MEAN: 43.489\n",
      "PRECISION@50_MEAN: 9.2\n",
      "PRECISION@100_MEAN: 5.113\n",
      "RECALL@50_MEAN: 54.053\n",
      "RECALL@100_MEAN: 60.202\n",
      "TIME_SPENT_MEAN: 0.427\n",
      "==34==  2023-Jun-28 11:45:02 \n",
      "Experiment: {'TOPK_RETRIEVER': 300, 'TOPK_RANKER': 0, 'EXPANSOR_CRITERIA': 'join_bm25_sts_30_minilm_indir', 'INDEX_NAME': 'indir_juris_tcu_term', 'PIPE': {'PIPE_OBJECT': <haystack.pipelines.standard_pipelines.DocumentSearchPipeline object at 0x7fb614019890>, 'RETRIEVER_TYPE': 'bm25', 'RANKER_TYPE': 'none', 'RETRIEVER_MODEL_NAME': ''}, 'COLUMN_NAME': '1'}\n",
      "Experimento envolverá 150 registros, toda a base de dados\n"
     ]
    },
    {
     "name": "stderr",
     "output_type": "stream",
     "text": [
      "100%|██████████| 150/150 [00:18<00:00,  8.31it/s]\n"
     ]
    },
    {
     "name": "stdout",
     "output_type": "stream",
     "text": [
      "COLUMN_NAME: 1\n",
      "COUNT_QUERY_RUN: 150\n",
      "COUNT_QUERY_WITHOUT_RESULT: 0\n",
      "COUNT_QUERY_NOT_FOUND: 0\n",
      "RANK1_MEAN: 2.627\n",
      "NDCG@5_MEAN: 56.884\n",
      "NDCG@10_MEAN: 53.318\n",
      "NDCG@15_MEAN: 56.183\n",
      "NDCG@20_MEAN: 59.084\n",
      "PRECISION@50_MEAN: 13.333\n",
      "PRECISION@100_MEAN: 7.307\n",
      "RECALL@50_MEAN: 78.113\n",
      "RECALL@100_MEAN: 85.186\n",
      "TIME_SPENT_MEAN: 0.12\n",
      "==35==  2023-Jun-28 11:45:20 \n",
      "Experiment: {'TOPK_RETRIEVER': 300, 'TOPK_RANKER': 0, 'EXPANSOR_CRITERIA': 'join_bm25_sts_30_minilm_indir', 'INDEX_NAME': 'indir_juris_tcu_term', 'PIPE': {'PIPE_OBJECT': <haystack.pipelines.standard_pipelines.DocumentSearchPipeline object at 0x7fb614019890>, 'RETRIEVER_TYPE': 'bm25', 'RANKER_TYPE': 'none', 'RETRIEVER_MODEL_NAME': ''}, 'COLUMN_NAME': '10'}\n",
      "Experimento envolverá 150 registros, toda a base de dados\n"
     ]
    },
    {
     "name": "stderr",
     "output_type": "stream",
     "text": [
      "100%|██████████| 150/150 [00:18<00:00,  8.17it/s]\n"
     ]
    },
    {
     "name": "stdout",
     "output_type": "stream",
     "text": [
      "COLUMN_NAME: 10\n",
      "COUNT_QUERY_RUN: 150\n",
      "COUNT_QUERY_WITHOUT_RESULT: 0\n",
      "COUNT_QUERY_NOT_FOUND: 0\n",
      "RANK1_MEAN: 5.713\n",
      "NDCG@5_MEAN: 49.144\n",
      "NDCG@10_MEAN: 45.793\n",
      "NDCG@15_MEAN: 48.498\n",
      "NDCG@20_MEAN: 51.198\n",
      "PRECISION@50_MEAN: 11.68\n",
      "PRECISION@100_MEAN: 6.773\n",
      "RECALL@50_MEAN: 69.493\n",
      "RECALL@100_MEAN: 79.642\n",
      "TIME_SPENT_MEAN: 0.122\n",
      "==36==  2023-Jun-28 11:45:39 \n",
      "Experiment: {'TOPK_RETRIEVER': 300, 'TOPK_RANKER': 0, 'EXPANSOR_CRITERIA': 'join_bm25_sts_30_minilm_indir', 'INDEX_NAME': 'indir_juris_tcu_term', 'PIPE': {'PIPE_OBJECT': <haystack.pipelines.standard_pipelines.DocumentSearchPipeline object at 0x7fb614019890>, 'RETRIEVER_TYPE': 'bm25', 'RANKER_TYPE': 'none', 'RETRIEVER_MODEL_NAME': ''}, 'COLUMN_NAME': '2'}\n",
      "Experimento envolverá 150 registros, toda a base de dados\n"
     ]
    },
    {
     "name": "stderr",
     "output_type": "stream",
     "text": [
      "100%|██████████| 150/150 [00:18<00:00,  8.32it/s]\n"
     ]
    },
    {
     "name": "stdout",
     "output_type": "stream",
     "text": [
      "COLUMN_NAME: 2\n",
      "COUNT_QUERY_RUN: 150\n",
      "COUNT_QUERY_WITHOUT_RESULT: 0\n",
      "COUNT_QUERY_NOT_FOUND: 0\n",
      "RANK1_MEAN: 3.32\n",
      "NDCG@5_MEAN: 54.906\n",
      "NDCG@10_MEAN: 51.835\n",
      "NDCG@15_MEAN: 54.4\n",
      "NDCG@20_MEAN: 57.644\n",
      "PRECISION@50_MEAN: 13.013\n",
      "PRECISION@100_MEAN: 7.287\n",
      "RECALL@50_MEAN: 76.745\n",
      "RECALL@100_MEAN: 84.906\n",
      "TIME_SPENT_MEAN: 0.12\n",
      "==37==  2023-Jun-28 11:45:58 \n",
      "Experiment: {'TOPK_RETRIEVER': 300, 'TOPK_RANKER': 0, 'EXPANSOR_CRITERIA': 'join_bm25_sts_30_minilm_indir', 'INDEX_NAME': 'indir_juris_tcu_term', 'PIPE': {'PIPE_OBJECT': <haystack.pipelines.standard_pipelines.DocumentSearchPipeline object at 0x7fb614019890>, 'RETRIEVER_TYPE': 'bm25', 'RANKER_TYPE': 'none', 'RETRIEVER_MODEL_NAME': ''}, 'COLUMN_NAME': '3'}\n",
      "Experimento envolverá 150 registros, toda a base de dados\n"
     ]
    },
    {
     "name": "stderr",
     "output_type": "stream",
     "text": [
      "100%|██████████| 150/150 [00:18<00:00,  8.25it/s]\n"
     ]
    },
    {
     "name": "stdout",
     "output_type": "stream",
     "text": [
      "COLUMN_NAME: 3\n",
      "COUNT_QUERY_RUN: 150\n",
      "COUNT_QUERY_WITHOUT_RESULT: 0\n",
      "COUNT_QUERY_NOT_FOUND: 0\n",
      "RANK1_MEAN: 3.727\n",
      "NDCG@5_MEAN: 53.81\n",
      "NDCG@10_MEAN: 50.53\n",
      "NDCG@15_MEAN: 53.632\n",
      "NDCG@20_MEAN: 56.395\n",
      "PRECISION@50_MEAN: 12.64\n",
      "PRECISION@100_MEAN: 7.267\n",
      "RECALL@50_MEAN: 74.732\n",
      "RECALL@100_MEAN: 84.933\n",
      "TIME_SPENT_MEAN: 0.121\n",
      "==38==  2023-Jun-28 11:46:17 \n",
      "Experiment: {'TOPK_RETRIEVER': 300, 'TOPK_RANKER': 0, 'EXPANSOR_CRITERIA': 'join_bm25_sts_30_minilm_indir', 'INDEX_NAME': 'indir_juris_tcu_term', 'PIPE': {'PIPE_OBJECT': <haystack.pipelines.standard_pipelines.DocumentSearchPipeline object at 0x7fb614019890>, 'RETRIEVER_TYPE': 'bm25', 'RANKER_TYPE': 'none', 'RETRIEVER_MODEL_NAME': ''}, 'COLUMN_NAME': '4'}\n",
      "Experimento envolverá 150 registros, toda a base de dados\n"
     ]
    },
    {
     "name": "stderr",
     "output_type": "stream",
     "text": [
      "100%|██████████| 150/150 [00:18<00:00,  8.25it/s]\n"
     ]
    },
    {
     "name": "stdout",
     "output_type": "stream",
     "text": [
      "COLUMN_NAME: 4\n",
      "COUNT_QUERY_RUN: 150\n",
      "COUNT_QUERY_WITHOUT_RESULT: 0\n",
      "COUNT_QUERY_NOT_FOUND: 0\n",
      "RANK1_MEAN: 4.367\n",
      "NDCG@5_MEAN: 53.886\n",
      "NDCG@10_MEAN: 50.681\n",
      "NDCG@15_MEAN: 53.298\n",
      "NDCG@20_MEAN: 55.533\n",
      "PRECISION@50_MEAN: 12.267\n",
      "PRECISION@100_MEAN: 7.16\n",
      "RECALL@50_MEAN: 72.888\n",
      "RECALL@100_MEAN: 83.982\n",
      "TIME_SPENT_MEAN: 0.121\n",
      "==39==  2023-Jun-28 11:46:36 \n",
      "Experiment: {'TOPK_RETRIEVER': 300, 'TOPK_RANKER': 0, 'EXPANSOR_CRITERIA': 'join_bm25_sts_30_minilm_indir', 'INDEX_NAME': 'indir_juris_tcu_term', 'PIPE': {'PIPE_OBJECT': <haystack.pipelines.standard_pipelines.DocumentSearchPipeline object at 0x7fb614019890>, 'RETRIEVER_TYPE': 'bm25', 'RANKER_TYPE': 'none', 'RETRIEVER_MODEL_NAME': ''}, 'COLUMN_NAME': '5'}\n",
      "Experimento envolverá 150 registros, toda a base de dados\n"
     ]
    },
    {
     "name": "stderr",
     "output_type": "stream",
     "text": [
      "100%|██████████| 150/150 [00:18<00:00,  8.21it/s]\n"
     ]
    },
    {
     "name": "stdout",
     "output_type": "stream",
     "text": [
      "COLUMN_NAME: 5\n",
      "COUNT_QUERY_RUN: 150\n",
      "COUNT_QUERY_WITHOUT_RESULT: 0\n",
      "COUNT_QUERY_NOT_FOUND: 0\n",
      "RANK1_MEAN: 5.427\n",
      "NDCG@5_MEAN: 51.561\n",
      "NDCG@10_MEAN: 48.703\n",
      "NDCG@15_MEAN: 51.039\n",
      "NDCG@20_MEAN: 54.063\n",
      "PRECISION@50_MEAN: 12.053\n",
      "PRECISION@100_MEAN: 7.0\n",
      "RECALL@50_MEAN: 71.625\n",
      "RECALL@100_MEAN: 82.261\n",
      "TIME_SPENT_MEAN: 0.122\n",
      "==40==  2023-Jun-28 11:46:54 \n",
      "Experiment: {'TOPK_RETRIEVER': 300, 'TOPK_RANKER': 0, 'EXPANSOR_CRITERIA': 'join_bm25_sts_30_minilm_indir', 'INDEX_NAME': 'indir_juris_tcu_term', 'PIPE': {'PIPE_OBJECT': <haystack.pipelines.standard_pipelines.DocumentSearchPipeline object at 0x7fb614019890>, 'RETRIEVER_TYPE': 'bm25', 'RANKER_TYPE': 'none', 'RETRIEVER_MODEL_NAME': ''}, 'COLUMN_NAME': '6'}\n",
      "Experimento envolverá 150 registros, toda a base de dados\n"
     ]
    },
    {
     "name": "stderr",
     "output_type": "stream",
     "text": [
      "100%|██████████| 150/150 [00:18<00:00,  8.12it/s]\n"
     ]
    },
    {
     "name": "stdout",
     "output_type": "stream",
     "text": [
      "COLUMN_NAME: 6\n",
      "COUNT_QUERY_RUN: 150\n",
      "COUNT_QUERY_WITHOUT_RESULT: 0\n",
      "COUNT_QUERY_NOT_FOUND: 0\n",
      "RANK1_MEAN: 5.707\n",
      "NDCG@5_MEAN: 51.072\n",
      "NDCG@10_MEAN: 47.216\n",
      "NDCG@15_MEAN: 50.038\n",
      "NDCG@20_MEAN: 52.932\n",
      "PRECISION@50_MEAN: 11.76\n",
      "PRECISION@100_MEAN: 6.96\n",
      "RECALL@50_MEAN: 69.889\n",
      "RECALL@100_MEAN: 81.94\n",
      "TIME_SPENT_MEAN: 0.123\n",
      "==41==  2023-Jun-28 11:47:13 \n",
      "Experiment: {'TOPK_RETRIEVER': 300, 'TOPK_RANKER': 0, 'EXPANSOR_CRITERIA': 'join_bm25_sts_30_minilm_indir', 'INDEX_NAME': 'indir_juris_tcu_term', 'PIPE': {'PIPE_OBJECT': <haystack.pipelines.standard_pipelines.DocumentSearchPipeline object at 0x7fb614019890>, 'RETRIEVER_TYPE': 'bm25', 'RANKER_TYPE': 'none', 'RETRIEVER_MODEL_NAME': ''}, 'COLUMN_NAME': '7'}\n",
      "Experimento envolverá 150 registros, toda a base de dados\n"
     ]
    },
    {
     "name": "stderr",
     "output_type": "stream",
     "text": [
      "100%|██████████| 150/150 [00:18<00:00,  8.20it/s]\n"
     ]
    },
    {
     "name": "stdout",
     "output_type": "stream",
     "text": [
      "COLUMN_NAME: 7\n",
      "COUNT_QUERY_RUN: 150\n",
      "COUNT_QUERY_WITHOUT_RESULT: 0\n",
      "COUNT_QUERY_NOT_FOUND: 0\n",
      "RANK1_MEAN: 5.673\n",
      "NDCG@5_MEAN: 49.76\n",
      "NDCG@10_MEAN: 46.712\n",
      "NDCG@15_MEAN: 49.655\n",
      "NDCG@20_MEAN: 52.397\n",
      "PRECISION@50_MEAN: 11.653\n",
      "PRECISION@100_MEAN: 6.853\n",
      "RECALL@50_MEAN: 69.337\n",
      "RECALL@100_MEAN: 80.713\n",
      "TIME_SPENT_MEAN: 0.122\n",
      "==42==  2023-Jun-28 11:47:32 \n",
      "Experiment: {'TOPK_RETRIEVER': 300, 'TOPK_RANKER': 0, 'EXPANSOR_CRITERIA': 'join_bm25_sts_30_minilm_indir', 'INDEX_NAME': 'indir_juris_tcu_term', 'PIPE': {'PIPE_OBJECT': <haystack.pipelines.standard_pipelines.DocumentSearchPipeline object at 0x7fb614019890>, 'RETRIEVER_TYPE': 'bm25', 'RANKER_TYPE': 'none', 'RETRIEVER_MODEL_NAME': ''}, 'COLUMN_NAME': '8'}\n",
      "Experimento envolverá 150 registros, toda a base de dados\n"
     ]
    },
    {
     "name": "stderr",
     "output_type": "stream",
     "text": [
      "100%|██████████| 150/150 [00:18<00:00,  8.15it/s]\n"
     ]
    },
    {
     "name": "stdout",
     "output_type": "stream",
     "text": [
      "COLUMN_NAME: 8\n",
      "COUNT_QUERY_RUN: 150\n",
      "COUNT_QUERY_WITHOUT_RESULT: 0\n",
      "COUNT_QUERY_NOT_FOUND: 0\n",
      "RANK1_MEAN: 5.827\n",
      "NDCG@5_MEAN: 49.741\n",
      "NDCG@10_MEAN: 46.248\n",
      "NDCG@15_MEAN: 49.367\n",
      "NDCG@20_MEAN: 52.055\n",
      "PRECISION@50_MEAN: 11.6\n",
      "PRECISION@100_MEAN: 6.793\n",
      "RECALL@50_MEAN: 69.07\n",
      "RECALL@100_MEAN: 80.101\n",
      "TIME_SPENT_MEAN: 0.123\n",
      "==43==  2023-Jun-28 11:47:51 \n",
      "Experiment: {'TOPK_RETRIEVER': 300, 'TOPK_RANKER': 0, 'EXPANSOR_CRITERIA': 'join_bm25_sts_30_minilm_indir', 'INDEX_NAME': 'indir_juris_tcu_term', 'PIPE': {'PIPE_OBJECT': <haystack.pipelines.standard_pipelines.DocumentSearchPipeline object at 0x7fb614019890>, 'RETRIEVER_TYPE': 'bm25', 'RANKER_TYPE': 'none', 'RETRIEVER_MODEL_NAME': ''}, 'COLUMN_NAME': '9'}\n",
      "Experimento envolverá 150 registros, toda a base de dados\n"
     ]
    },
    {
     "name": "stderr",
     "output_type": "stream",
     "text": [
      "100%|██████████| 150/150 [00:18<00:00,  8.12it/s]\n"
     ]
    },
    {
     "name": "stdout",
     "output_type": "stream",
     "text": [
      "COLUMN_NAME: 9\n",
      "COUNT_QUERY_RUN: 150\n",
      "COUNT_QUERY_WITHOUT_RESULT: 0\n",
      "COUNT_QUERY_NOT_FOUND: 0\n",
      "RANK1_MEAN: 5.973\n",
      "NDCG@5_MEAN: 49.215\n",
      "NDCG@10_MEAN: 45.793\n",
      "NDCG@15_MEAN: 48.551\n",
      "NDCG@20_MEAN: 51.136\n",
      "PRECISION@50_MEAN: 11.6\n",
      "PRECISION@100_MEAN: 6.767\n",
      "RECALL@50_MEAN: 69.114\n",
      "RECALL@100_MEAN: 79.836\n",
      "TIME_SPENT_MEAN: 0.123\n",
      "==44==  2023-Jun-28 11:48:10 \n",
      "Experiment: {'TOPK_RETRIEVER': 300, 'TOPK_RANKER': 0, 'EXPANSOR_CRITERIA': '', 'INDEX_NAME': 'indir_juris_tcu_term', 'PIPE': {'PIPE_OBJECT': <haystack.pipelines.standard_pipelines.DocumentSearchPipeline object at 0x7fb614019890>, 'RETRIEVER_TYPE': 'bm25', 'RANKER_TYPE': 'none', 'RETRIEVER_MODEL_NAME': ''}, 'COLUMN_NAME': 'TEXT'}\n",
      "Experimento envolverá 150 registros, toda a base de dados\n"
     ]
    },
    {
     "name": "stderr",
     "output_type": "stream",
     "text": [
      "100%|██████████| 150/150 [00:17<00:00,  8.41it/s]\n"
     ]
    },
    {
     "name": "stdout",
     "output_type": "stream",
     "text": [
      "COLUMN_NAME: TEXT\n",
      "COUNT_QUERY_RUN: 150\n",
      "COUNT_QUERY_WITHOUT_RESULT: 0\n",
      "COUNT_QUERY_NOT_FOUND: 0\n",
      "RANK1_MEAN: 2.58\n",
      "NDCG@5_MEAN: 59.011\n",
      "NDCG@10_MEAN: 55.707\n",
      "NDCG@15_MEAN: 58.925\n",
      "NDCG@20_MEAN: 61.785\n",
      "PRECISION@50_MEAN: 13.533\n",
      "PRECISION@100_MEAN: 7.373\n",
      "RECALL@50_MEAN: 79.387\n",
      "RECALL@100_MEAN: 85.738\n",
      "TIME_SPENT_MEAN: 0.119\n",
      "==45==  2023-Jun-28 11:48:29 \n",
      "Experiment: {'TOPK_RETRIEVER': 300, 'TOPK_RANKER': 0, 'EXPANSOR_CRITERIA': 'join_bm25_sts_30_minilm_indir', 'INDEX_NAME': 'indir_juris_tcu_term', 'PIPE': {'PIPE_OBJECT': <haystack.pipelines.base.Pipeline object at 0x7fb6141eb1d0>, 'RETRIEVER_TYPE': 'bm25', 'RANKER_TYPE': 'MINILM_INDIR_400', 'RETRIEVER_MODEL_NAME': ''}, 'COLUMN_NAME': '1'}\n",
      "Experimento envolverá 150 registros, toda a base de dados\n"
     ]
    },
    {
     "name": "stderr",
     "output_type": "stream",
     "text": [
      "100%|██████████| 150/150 [01:13<00:00,  2.03it/s]\n"
     ]
    },
    {
     "name": "stdout",
     "output_type": "stream",
     "text": [
      "COLUMN_NAME: 1\n",
      "COUNT_QUERY_RUN: 150\n",
      "COUNT_QUERY_WITHOUT_RESULT: 0\n",
      "COUNT_QUERY_NOT_FOUND: 0\n",
      "RANK1_MEAN: 3.447\n",
      "NDCG@5_MEAN: 51.293\n",
      "NDCG@10_MEAN: 48.103\n",
      "NDCG@15_MEAN: 50.898\n",
      "NDCG@20_MEAN: 53.303\n",
      "PRECISION@50_MEAN: 12.88\n",
      "PRECISION@100_MEAN: 7.293\n",
      "RECALL@50_MEAN: 73.832\n",
      "RECALL@100_MEAN: 84.635\n",
      "TIME_SPENT_MEAN: 0.493\n",
      "==46==  2023-Jun-28 11:49:43 \n",
      "Experiment: {'TOPK_RETRIEVER': 300, 'TOPK_RANKER': 0, 'EXPANSOR_CRITERIA': 'join_bm25_sts_30_minilm_indir', 'INDEX_NAME': 'indir_juris_tcu_term', 'PIPE': {'PIPE_OBJECT': <haystack.pipelines.base.Pipeline object at 0x7fb6141eb1d0>, 'RETRIEVER_TYPE': 'bm25', 'RANKER_TYPE': 'MINILM_INDIR_400', 'RETRIEVER_MODEL_NAME': ''}, 'COLUMN_NAME': '10'}\n",
      "Experimento envolverá 150 registros, toda a base de dados\n"
     ]
    },
    {
     "name": "stderr",
     "output_type": "stream",
     "text": [
      "100%|██████████| 150/150 [01:19<00:00,  1.89it/s]\n"
     ]
    },
    {
     "name": "stdout",
     "output_type": "stream",
     "text": [
      "COLUMN_NAME: 10\n",
      "COUNT_QUERY_RUN: 150\n",
      "COUNT_QUERY_WITHOUT_RESULT: 0\n",
      "COUNT_QUERY_NOT_FOUND: 0\n",
      "RANK1_MEAN: 4.347\n",
      "NDCG@5_MEAN: 52.196\n",
      "NDCG@10_MEAN: 48.941\n",
      "NDCG@15_MEAN: 51.672\n",
      "NDCG@20_MEAN: 53.839\n",
      "PRECISION@50_MEAN: 12.627\n",
      "PRECISION@100_MEAN: 7.127\n",
      "RECALL@50_MEAN: 74.126\n",
      "RECALL@100_MEAN: 83.258\n",
      "TIME_SPENT_MEAN: 0.53\n",
      "==47==  2023-Jun-28 11:51:04 \n",
      "Experiment: {'TOPK_RETRIEVER': 300, 'TOPK_RANKER': 0, 'EXPANSOR_CRITERIA': 'join_bm25_sts_30_minilm_indir', 'INDEX_NAME': 'indir_juris_tcu_term', 'PIPE': {'PIPE_OBJECT': <haystack.pipelines.base.Pipeline object at 0x7fb6141eb1d0>, 'RETRIEVER_TYPE': 'bm25', 'RANKER_TYPE': 'MINILM_INDIR_400', 'RETRIEVER_MODEL_NAME': ''}, 'COLUMN_NAME': '2'}\n",
      "Experimento envolverá 150 registros, toda a base de dados\n"
     ]
    },
    {
     "name": "stderr",
     "output_type": "stream",
     "text": [
      "100%|██████████| 150/150 [01:14<00:00,  2.00it/s]\n"
     ]
    },
    {
     "name": "stdout",
     "output_type": "stream",
     "text": [
      "COLUMN_NAME: 2\n",
      "COUNT_QUERY_RUN: 150\n",
      "COUNT_QUERY_WITHOUT_RESULT: 0\n",
      "COUNT_QUERY_NOT_FOUND: 0\n",
      "RANK1_MEAN: 3.34\n",
      "NDCG@5_MEAN: 52.599\n",
      "NDCG@10_MEAN: 49.07\n",
      "NDCG@15_MEAN: 51.631\n",
      "NDCG@20_MEAN: 54.486\n",
      "PRECISION@50_MEAN: 13.013\n",
      "PRECISION@100_MEAN: 7.36\n",
      "RECALL@50_MEAN: 75.207\n",
      "RECALL@100_MEAN: 85.084\n",
      "TIME_SPENT_MEAN: 0.499\n",
      "==48==  2023-Jun-28 11:52:19 \n",
      "Experiment: {'TOPK_RETRIEVER': 300, 'TOPK_RANKER': 0, 'EXPANSOR_CRITERIA': 'join_bm25_sts_30_minilm_indir', 'INDEX_NAME': 'indir_juris_tcu_term', 'PIPE': {'PIPE_OBJECT': <haystack.pipelines.base.Pipeline object at 0x7fb6141eb1d0>, 'RETRIEVER_TYPE': 'bm25', 'RANKER_TYPE': 'MINILM_INDIR_400', 'RETRIEVER_MODEL_NAME': ''}, 'COLUMN_NAME': '3'}\n",
      "Experimento envolverá 150 registros, toda a base de dados\n"
     ]
    },
    {
     "name": "stderr",
     "output_type": "stream",
     "text": [
      "100%|██████████| 150/150 [01:14<00:00,  2.00it/s]\n"
     ]
    },
    {
     "name": "stdout",
     "output_type": "stream",
     "text": [
      "COLUMN_NAME: 3\n",
      "COUNT_QUERY_RUN: 150\n",
      "COUNT_QUERY_WITHOUT_RESULT: 0\n",
      "COUNT_QUERY_NOT_FOUND: 0\n",
      "RANK1_MEAN: 4.747\n",
      "NDCG@5_MEAN: 52.241\n",
      "NDCG@10_MEAN: 49.144\n",
      "NDCG@15_MEAN: 51.996\n",
      "NDCG@20_MEAN: 54.039\n",
      "PRECISION@50_MEAN: 12.627\n",
      "PRECISION@100_MEAN: 7.307\n",
      "RECALL@50_MEAN: 73.903\n",
      "RECALL@100_MEAN: 84.914\n",
      "TIME_SPENT_MEAN: 0.499\n",
      "==49==  2023-Jun-28 11:53:35 \n",
      "Experiment: {'TOPK_RETRIEVER': 300, 'TOPK_RANKER': 0, 'EXPANSOR_CRITERIA': 'join_bm25_sts_30_minilm_indir', 'INDEX_NAME': 'indir_juris_tcu_term', 'PIPE': {'PIPE_OBJECT': <haystack.pipelines.base.Pipeline object at 0x7fb6141eb1d0>, 'RETRIEVER_TYPE': 'bm25', 'RANKER_TYPE': 'MINILM_INDIR_400', 'RETRIEVER_MODEL_NAME': ''}, 'COLUMN_NAME': '4'}\n",
      "Experimento envolverá 150 registros, toda a base de dados\n"
     ]
    },
    {
     "name": "stderr",
     "output_type": "stream",
     "text": [
      "100%|██████████| 150/150 [01:16<00:00,  1.97it/s]\n"
     ]
    },
    {
     "name": "stdout",
     "output_type": "stream",
     "text": [
      "COLUMN_NAME: 4\n",
      "COUNT_QUERY_RUN: 150\n",
      "COUNT_QUERY_WITHOUT_RESULT: 0\n",
      "COUNT_QUERY_NOT_FOUND: 0\n",
      "RANK1_MEAN: 4.027\n",
      "NDCG@5_MEAN: 53.356\n",
      "NDCG@10_MEAN: 50.296\n",
      "NDCG@15_MEAN: 52.864\n",
      "NDCG@20_MEAN: 55.224\n",
      "PRECISION@50_MEAN: 12.813\n",
      "PRECISION@100_MEAN: 7.307\n",
      "RECALL@50_MEAN: 74.701\n",
      "RECALL@100_MEAN: 84.782\n",
      "TIME_SPENT_MEAN: 0.507\n",
      "==50==  2023-Jun-28 11:54:51 \n",
      "Experiment: {'TOPK_RETRIEVER': 300, 'TOPK_RANKER': 0, 'EXPANSOR_CRITERIA': 'join_bm25_sts_30_minilm_indir', 'INDEX_NAME': 'indir_juris_tcu_term', 'PIPE': {'PIPE_OBJECT': <haystack.pipelines.base.Pipeline object at 0x7fb6141eb1d0>, 'RETRIEVER_TYPE': 'bm25', 'RANKER_TYPE': 'MINILM_INDIR_400', 'RETRIEVER_MODEL_NAME': ''}, 'COLUMN_NAME': '5'}\n",
      "Experimento envolverá 150 registros, toda a base de dados\n"
     ]
    },
    {
     "name": "stderr",
     "output_type": "stream",
     "text": [
      "100%|██████████| 150/150 [01:17<00:00,  1.94it/s]\n"
     ]
    },
    {
     "name": "stdout",
     "output_type": "stream",
     "text": [
      "COLUMN_NAME: 5\n",
      "COUNT_QUERY_RUN: 150\n",
      "COUNT_QUERY_WITHOUT_RESULT: 0\n",
      "COUNT_QUERY_NOT_FOUND: 0\n",
      "RANK1_MEAN: 3.893\n",
      "NDCG@5_MEAN: 52.83\n",
      "NDCG@10_MEAN: 49.45\n",
      "NDCG@15_MEAN: 52.34\n",
      "NDCG@20_MEAN: 54.815\n",
      "PRECISION@50_MEAN: 12.88\n",
      "PRECISION@100_MEAN: 7.307\n",
      "RECALL@50_MEAN: 75.692\n",
      "RECALL@100_MEAN: 84.806\n",
      "TIME_SPENT_MEAN: 0.516\n",
      "==51==  2023-Jun-28 11:56:09 \n",
      "Experiment: {'TOPK_RETRIEVER': 300, 'TOPK_RANKER': 0, 'EXPANSOR_CRITERIA': 'join_bm25_sts_30_minilm_indir', 'INDEX_NAME': 'indir_juris_tcu_term', 'PIPE': {'PIPE_OBJECT': <haystack.pipelines.base.Pipeline object at 0x7fb6141eb1d0>, 'RETRIEVER_TYPE': 'bm25', 'RANKER_TYPE': 'MINILM_INDIR_400', 'RETRIEVER_MODEL_NAME': ''}, 'COLUMN_NAME': '6'}\n",
      "Experimento envolverá 150 registros, toda a base de dados\n"
     ]
    },
    {
     "name": "stderr",
     "output_type": "stream",
     "text": [
      "100%|██████████| 150/150 [01:18<00:00,  1.92it/s]\n"
     ]
    },
    {
     "name": "stdout",
     "output_type": "stream",
     "text": [
      "COLUMN_NAME: 6\n",
      "COUNT_QUERY_RUN: 150\n",
      "COUNT_QUERY_WITHOUT_RESULT: 0\n",
      "COUNT_QUERY_NOT_FOUND: 0\n",
      "RANK1_MEAN: 3.753\n",
      "NDCG@5_MEAN: 53.612\n",
      "NDCG@10_MEAN: 49.656\n",
      "NDCG@15_MEAN: 52.145\n",
      "NDCG@20_MEAN: 54.83\n",
      "PRECISION@50_MEAN: 12.973\n",
      "PRECISION@100_MEAN: 7.32\n",
      "RECALL@50_MEAN: 76.287\n",
      "RECALL@100_MEAN: 85.394\n",
      "TIME_SPENT_MEAN: 0.522\n",
      "==52==  2023-Jun-28 11:57:28 \n",
      "Experiment: {'TOPK_RETRIEVER': 300, 'TOPK_RANKER': 0, 'EXPANSOR_CRITERIA': 'join_bm25_sts_30_minilm_indir', 'INDEX_NAME': 'indir_juris_tcu_term', 'PIPE': {'PIPE_OBJECT': <haystack.pipelines.base.Pipeline object at 0x7fb6141eb1d0>, 'RETRIEVER_TYPE': 'bm25', 'RANKER_TYPE': 'MINILM_INDIR_400', 'RETRIEVER_MODEL_NAME': ''}, 'COLUMN_NAME': '7'}\n",
      "Experimento envolverá 150 registros, toda a base de dados\n"
     ]
    },
    {
     "name": "stderr",
     "output_type": "stream",
     "text": [
      "100%|██████████| 150/150 [01:19<00:00,  1.90it/s]\n"
     ]
    },
    {
     "name": "stdout",
     "output_type": "stream",
     "text": [
      "COLUMN_NAME: 7\n",
      "COUNT_QUERY_RUN: 150\n",
      "COUNT_QUERY_WITHOUT_RESULT: 0\n",
      "COUNT_QUERY_NOT_FOUND: 0\n",
      "RANK1_MEAN: 4.28\n",
      "NDCG@5_MEAN: 52.387\n",
      "NDCG@10_MEAN: 48.87\n",
      "NDCG@15_MEAN: 51.715\n",
      "NDCG@20_MEAN: 53.897\n",
      "PRECISION@50_MEAN: 12.813\n",
      "PRECISION@100_MEAN: 7.26\n",
      "RECALL@50_MEAN: 74.834\n",
      "RECALL@100_MEAN: 84.626\n",
      "TIME_SPENT_MEAN: 0.527\n",
      "==53==  2023-Jun-28 11:58:48 \n",
      "Experiment: {'TOPK_RETRIEVER': 300, 'TOPK_RANKER': 0, 'EXPANSOR_CRITERIA': 'join_bm25_sts_30_minilm_indir', 'INDEX_NAME': 'indir_juris_tcu_term', 'PIPE': {'PIPE_OBJECT': <haystack.pipelines.base.Pipeline object at 0x7fb6141eb1d0>, 'RETRIEVER_TYPE': 'bm25', 'RANKER_TYPE': 'MINILM_INDIR_400', 'RETRIEVER_MODEL_NAME': ''}, 'COLUMN_NAME': '8'}\n",
      "Experimento envolverá 150 registros, toda a base de dados\n"
     ]
    },
    {
     "name": "stderr",
     "output_type": "stream",
     "text": [
      "100%|██████████| 150/150 [01:19<00:00,  1.88it/s]\n"
     ]
    },
    {
     "name": "stdout",
     "output_type": "stream",
     "text": [
      "COLUMN_NAME: 8\n",
      "COUNT_QUERY_RUN: 150\n",
      "COUNT_QUERY_WITHOUT_RESULT: 0\n",
      "COUNT_QUERY_NOT_FOUND: 0\n",
      "RANK1_MEAN: 4.433\n",
      "NDCG@5_MEAN: 52.682\n",
      "NDCG@10_MEAN: 49.088\n",
      "NDCG@15_MEAN: 51.88\n",
      "NDCG@20_MEAN: 53.997\n",
      "PRECISION@50_MEAN: 12.76\n",
      "PRECISION@100_MEAN: 7.153\n",
      "RECALL@50_MEAN: 74.812\n",
      "RECALL@100_MEAN: 83.53\n",
      "TIME_SPENT_MEAN: 0.531\n",
      "==54==  2023-Jun-28 12:00:08 \n",
      "Experiment: {'TOPK_RETRIEVER': 300, 'TOPK_RANKER': 0, 'EXPANSOR_CRITERIA': 'join_bm25_sts_30_minilm_indir', 'INDEX_NAME': 'indir_juris_tcu_term', 'PIPE': {'PIPE_OBJECT': <haystack.pipelines.base.Pipeline object at 0x7fb6141eb1d0>, 'RETRIEVER_TYPE': 'bm25', 'RANKER_TYPE': 'MINILM_INDIR_400', 'RETRIEVER_MODEL_NAME': ''}, 'COLUMN_NAME': '9'}\n",
      "Experimento envolverá 150 registros, toda a base de dados\n"
     ]
    },
    {
     "name": "stderr",
     "output_type": "stream",
     "text": [
      "100%|██████████| 150/150 [01:19<00:00,  1.88it/s]\n"
     ]
    },
    {
     "name": "stdout",
     "output_type": "stream",
     "text": [
      "COLUMN_NAME: 9\n",
      "COUNT_QUERY_RUN: 150\n",
      "COUNT_QUERY_WITHOUT_RESULT: 0\n",
      "COUNT_QUERY_NOT_FOUND: 0\n",
      "RANK1_MEAN: 4.427\n",
      "NDCG@5_MEAN: 52.173\n",
      "NDCG@10_MEAN: 48.871\n",
      "NDCG@15_MEAN: 51.785\n",
      "NDCG@20_MEAN: 53.858\n",
      "PRECISION@50_MEAN: 12.667\n",
      "PRECISION@100_MEAN: 7.147\n",
      "RECALL@50_MEAN: 74.304\n",
      "RECALL@100_MEAN: 83.443\n",
      "TIME_SPENT_MEAN: 0.532\n",
      "==55==  2023-Jun-28 12:01:29 \n",
      "Experiment: {'TOPK_RETRIEVER': 300, 'TOPK_RANKER': 0, 'EXPANSOR_CRITERIA': '', 'INDEX_NAME': 'indir_juris_tcu_term', 'PIPE': {'PIPE_OBJECT': <haystack.pipelines.base.Pipeline object at 0x7fb6141eb1d0>, 'RETRIEVER_TYPE': 'bm25', 'RANKER_TYPE': 'MINILM_INDIR_400', 'RETRIEVER_MODEL_NAME': ''}, 'COLUMN_NAME': 'TEXT'}\n",
      "Experimento envolverá 150 registros, toda a base de dados\n"
     ]
    },
    {
     "name": "stderr",
     "output_type": "stream",
     "text": [
      "100%|██████████| 150/150 [01:14<00:00,  2.00it/s]\n"
     ]
    },
    {
     "name": "stdout",
     "output_type": "stream",
     "text": [
      "COLUMN_NAME: TEXT\n",
      "COUNT_QUERY_RUN: 150\n",
      "COUNT_QUERY_WITHOUT_RESULT: 0\n",
      "COUNT_QUERY_NOT_FOUND: 0\n",
      "RANK1_MEAN: 2.987\n",
      "NDCG@5_MEAN: 51.656\n",
      "NDCG@10_MEAN: 49.246\n",
      "NDCG@15_MEAN: 51.426\n",
      "NDCG@20_MEAN: 54.309\n",
      "PRECISION@50_MEAN: 13.213\n",
      "PRECISION@100_MEAN: 7.407\n",
      "RECALL@50_MEAN: 76.212\n",
      "RECALL@100_MEAN: 85.774\n",
      "TIME_SPENT_MEAN: 0.499\n",
      "==56==  2023-Jun-28 12:02:44 \n",
      "Experiment: {'TOPK_RETRIEVER': 300, 'TOPK_RANKER': 0, 'EXPANSOR_CRITERIA': 'join_bm25_sts_30_minilm_indir', 'INDEX_NAME': 'indir_juris_tcu_term', 'PIPE': {'PIPE_OBJECT': <haystack.pipelines.base.Pipeline object at 0x7fb614b827d0>, 'RETRIEVER_TYPE': 'sts', 'RANKER_TYPE': 'MINILM_INDIR_400', 'RETRIEVER_MODEL_NAME': ''}, 'COLUMN_NAME': '1'}\n",
      "Experimento envolverá 150 registros, toda a base de dados\n"
     ]
    },
    {
     "name": "stderr",
     "output_type": "stream",
     "text": [
      "100%|██████████| 150/150 [01:12<00:00,  2.08it/s]\n"
     ]
    },
    {
     "name": "stdout",
     "output_type": "stream",
     "text": [
      "COLUMN_NAME: 1\n",
      "COUNT_QUERY_RUN: 150\n",
      "COUNT_QUERY_WITHOUT_RESULT: 0\n",
      "COUNT_QUERY_NOT_FOUND: 5\n",
      "RANK1_MEAN: 3.848\n",
      "NDCG@5_MEAN: 49.161\n",
      "NDCG@10_MEAN: 44.933\n",
      "NDCG@15_MEAN: 47.198\n",
      "NDCG@20_MEAN: 49.294\n",
      "PRECISION@50_MEAN: 10.293\n",
      "PRECISION@100_MEAN: 5.613\n",
      "RECALL@50_MEAN: 60.573\n",
      "RECALL@100_MEAN: 65.643\n",
      "TIME_SPENT_MEAN: 0.48\n",
      "==57==  2023-Jun-28 12:03:57 \n",
      "Experiment: {'TOPK_RETRIEVER': 300, 'TOPK_RANKER': 0, 'EXPANSOR_CRITERIA': 'join_bm25_sts_30_minilm_indir', 'INDEX_NAME': 'indir_juris_tcu_term', 'PIPE': {'PIPE_OBJECT': <haystack.pipelines.base.Pipeline object at 0x7fb614b827d0>, 'RETRIEVER_TYPE': 'sts', 'RANKER_TYPE': 'MINILM_INDIR_400', 'RETRIEVER_MODEL_NAME': ''}, 'COLUMN_NAME': '10'}\n",
      "Experimento envolverá 150 registros, toda a base de dados\n"
     ]
    },
    {
     "name": "stderr",
     "output_type": "stream",
     "text": [
      "100%|██████████| 150/150 [01:24<00:00,  1.77it/s]\n"
     ]
    },
    {
     "name": "stdout",
     "output_type": "stream",
     "text": [
      "COLUMN_NAME: 10\n",
      "COUNT_QUERY_RUN: 150\n",
      "COUNT_QUERY_WITHOUT_RESULT: 0\n",
      "COUNT_QUERY_NOT_FOUND: 5\n",
      "RANK1_MEAN: 4.517\n",
      "NDCG@5_MEAN: 51.348\n",
      "NDCG@10_MEAN: 46.633\n",
      "NDCG@15_MEAN: 48.661\n",
      "NDCG@20_MEAN: 50.276\n",
      "PRECISION@50_MEAN: 10.24\n",
      "PRECISION@100_MEAN: 5.513\n",
      "RECALL@50_MEAN: 60.403\n",
      "RECALL@100_MEAN: 64.799\n",
      "TIME_SPENT_MEAN: 0.566\n",
      "==58==  2023-Jun-28 12:05:23 \n",
      "Experiment: {'TOPK_RETRIEVER': 300, 'TOPK_RANKER': 0, 'EXPANSOR_CRITERIA': 'join_bm25_sts_30_minilm_indir', 'INDEX_NAME': 'indir_juris_tcu_term', 'PIPE': {'PIPE_OBJECT': <haystack.pipelines.base.Pipeline object at 0x7fb614b827d0>, 'RETRIEVER_TYPE': 'sts', 'RANKER_TYPE': 'MINILM_INDIR_400', 'RETRIEVER_MODEL_NAME': ''}, 'COLUMN_NAME': '2'}\n",
      "Experimento envolverá 150 registros, toda a base de dados\n"
     ]
    },
    {
     "name": "stderr",
     "output_type": "stream",
     "text": [
      "100%|██████████| 150/150 [01:15<00:00,  1.99it/s]\n"
     ]
    },
    {
     "name": "stdout",
     "output_type": "stream",
     "text": [
      "COLUMN_NAME: 2\n",
      "COUNT_QUERY_RUN: 150\n",
      "COUNT_QUERY_WITHOUT_RESULT: 0\n",
      "COUNT_QUERY_NOT_FOUND: 7\n",
      "RANK1_MEAN: 2.545\n",
      "NDCG@5_MEAN: 51.335\n",
      "NDCG@10_MEAN: 46.246\n",
      "NDCG@15_MEAN: 48.345\n",
      "NDCG@20_MEAN: 50.486\n",
      "PRECISION@50_MEAN: 10.467\n",
      "PRECISION@100_MEAN: 5.607\n",
      "RECALL@50_MEAN: 61.217\n",
      "RECALL@100_MEAN: 65.37\n",
      "TIME_SPENT_MEAN: 0.501\n",
      "==59==  2023-Jun-28 12:06:39 \n",
      "Experiment: {'TOPK_RETRIEVER': 300, 'TOPK_RANKER': 0, 'EXPANSOR_CRITERIA': 'join_bm25_sts_30_minilm_indir', 'INDEX_NAME': 'indir_juris_tcu_term', 'PIPE': {'PIPE_OBJECT': <haystack.pipelines.base.Pipeline object at 0x7fb614b827d0>, 'RETRIEVER_TYPE': 'sts', 'RANKER_TYPE': 'MINILM_INDIR_400', 'RETRIEVER_MODEL_NAME': ''}, 'COLUMN_NAME': '3'}\n",
      "Experimento envolverá 150 registros, toda a base de dados\n"
     ]
    },
    {
     "name": "stderr",
     "output_type": "stream",
     "text": [
      "100%|██████████| 150/150 [01:16<00:00,  1.95it/s]\n"
     ]
    },
    {
     "name": "stdout",
     "output_type": "stream",
     "text": [
      "COLUMN_NAME: 3\n",
      "COUNT_QUERY_RUN: 150\n",
      "COUNT_QUERY_WITHOUT_RESULT: 0\n",
      "COUNT_QUERY_NOT_FOUND: 6\n",
      "RANK1_MEAN: 3.514\n",
      "NDCG@5_MEAN: 50.819\n",
      "NDCG@10_MEAN: 46.494\n",
      "NDCG@15_MEAN: 48.504\n",
      "NDCG@20_MEAN: 50.515\n",
      "PRECISION@50_MEAN: 10.293\n",
      "PRECISION@100_MEAN: 5.573\n",
      "RECALL@50_MEAN: 60.875\n",
      "RECALL@100_MEAN: 65.604\n",
      "TIME_SPENT_MEAN: 0.512\n",
      "==60==  2023-Jun-28 12:07:56 \n",
      "Experiment: {'TOPK_RETRIEVER': 300, 'TOPK_RANKER': 0, 'EXPANSOR_CRITERIA': 'join_bm25_sts_30_minilm_indir', 'INDEX_NAME': 'indir_juris_tcu_term', 'PIPE': {'PIPE_OBJECT': <haystack.pipelines.base.Pipeline object at 0x7fb614b827d0>, 'RETRIEVER_TYPE': 'sts', 'RANKER_TYPE': 'MINILM_INDIR_400', 'RETRIEVER_MODEL_NAME': ''}, 'COLUMN_NAME': '4'}\n",
      "Experimento envolverá 150 registros, toda a base de dados\n"
     ]
    },
    {
     "name": "stderr",
     "output_type": "stream",
     "text": [
      "100%|██████████| 150/150 [01:17<00:00,  1.92it/s]\n"
     ]
    },
    {
     "name": "stdout",
     "output_type": "stream",
     "text": [
      "COLUMN_NAME: 4\n",
      "COUNT_QUERY_RUN: 150\n",
      "COUNT_QUERY_WITHOUT_RESULT: 0\n",
      "COUNT_QUERY_NOT_FOUND: 5\n",
      "RANK1_MEAN: 3.131\n",
      "NDCG@5_MEAN: 52.28\n",
      "NDCG@10_MEAN: 47.395\n",
      "NDCG@15_MEAN: 49.2\n",
      "NDCG@20_MEAN: 51.368\n",
      "PRECISION@50_MEAN: 10.373\n",
      "PRECISION@100_MEAN: 5.633\n",
      "RECALL@50_MEAN: 61.238\n",
      "RECALL@100_MEAN: 66.185\n",
      "TIME_SPENT_MEAN: 0.52\n",
      "==61==  2023-Jun-28 12:09:15 \n",
      "Experiment: {'TOPK_RETRIEVER': 300, 'TOPK_RANKER': 0, 'EXPANSOR_CRITERIA': 'join_bm25_sts_30_minilm_indir', 'INDEX_NAME': 'indir_juris_tcu_term', 'PIPE': {'PIPE_OBJECT': <haystack.pipelines.base.Pipeline object at 0x7fb614b827d0>, 'RETRIEVER_TYPE': 'sts', 'RANKER_TYPE': 'MINILM_INDIR_400', 'RETRIEVER_MODEL_NAME': ''}, 'COLUMN_NAME': '5'}\n",
      "Experimento envolverá 150 registros, toda a base de dados\n"
     ]
    },
    {
     "name": "stderr",
     "output_type": "stream",
     "text": [
      "100%|██████████| 150/150 [01:18<00:00,  1.90it/s]\n"
     ]
    },
    {
     "name": "stdout",
     "output_type": "stream",
     "text": [
      "COLUMN_NAME: 5\n",
      "COUNT_QUERY_RUN: 150\n",
      "COUNT_QUERY_WITHOUT_RESULT: 0\n",
      "COUNT_QUERY_NOT_FOUND: 5\n",
      "RANK1_MEAN: 3.248\n",
      "NDCG@5_MEAN: 51.224\n",
      "NDCG@10_MEAN: 46.279\n",
      "NDCG@15_MEAN: 48.301\n",
      "NDCG@20_MEAN: 50.367\n",
      "PRECISION@50_MEAN: 10.4\n",
      "PRECISION@100_MEAN: 5.573\n",
      "RECALL@50_MEAN: 61.426\n",
      "RECALL@100_MEAN: 65.722\n",
      "TIME_SPENT_MEAN: 0.525\n",
      "==62==  2023-Jun-28 12:10:35 \n",
      "Experiment: {'TOPK_RETRIEVER': 300, 'TOPK_RANKER': 0, 'EXPANSOR_CRITERIA': 'join_bm25_sts_30_minilm_indir', 'INDEX_NAME': 'indir_juris_tcu_term', 'PIPE': {'PIPE_OBJECT': <haystack.pipelines.base.Pipeline object at 0x7fb614b827d0>, 'RETRIEVER_TYPE': 'sts', 'RANKER_TYPE': 'MINILM_INDIR_400', 'RETRIEVER_MODEL_NAME': ''}, 'COLUMN_NAME': '6'}\n",
      "Experimento envolverá 150 registros, toda a base de dados\n"
     ]
    },
    {
     "name": "stderr",
     "output_type": "stream",
     "text": [
      "100%|██████████| 150/150 [01:20<00:00,  1.86it/s]\n"
     ]
    },
    {
     "name": "stdout",
     "output_type": "stream",
     "text": [
      "COLUMN_NAME: 6\n",
      "COUNT_QUERY_RUN: 150\n",
      "COUNT_QUERY_WITHOUT_RESULT: 0\n",
      "COUNT_QUERY_NOT_FOUND: 5\n",
      "RANK1_MEAN: 4.055\n",
      "NDCG@5_MEAN: 51.622\n",
      "NDCG@10_MEAN: 46.392\n",
      "NDCG@15_MEAN: 48.411\n",
      "NDCG@20_MEAN: 50.771\n",
      "PRECISION@50_MEAN: 10.467\n",
      "PRECISION@100_MEAN: 5.613\n",
      "RECALL@50_MEAN: 61.862\n",
      "RECALL@100_MEAN: 66.288\n",
      "TIME_SPENT_MEAN: 0.536\n",
      "==63==  2023-Jun-28 12:11:56 \n",
      "Experiment: {'TOPK_RETRIEVER': 300, 'TOPK_RANKER': 0, 'EXPANSOR_CRITERIA': 'join_bm25_sts_30_minilm_indir', 'INDEX_NAME': 'indir_juris_tcu_term', 'PIPE': {'PIPE_OBJECT': <haystack.pipelines.base.Pipeline object at 0x7fb614b827d0>, 'RETRIEVER_TYPE': 'sts', 'RANKER_TYPE': 'MINILM_INDIR_400', 'RETRIEVER_MODEL_NAME': ''}, 'COLUMN_NAME': '7'}\n",
      "Experimento envolverá 150 registros, toda a base de dados\n"
     ]
    },
    {
     "name": "stderr",
     "output_type": "stream",
     "text": [
      "100%|██████████| 150/150 [01:22<00:00,  1.82it/s]\n"
     ]
    },
    {
     "name": "stdout",
     "output_type": "stream",
     "text": [
      "COLUMN_NAME: 7\n",
      "COUNT_QUERY_RUN: 150\n",
      "COUNT_QUERY_WITHOUT_RESULT: 0\n",
      "COUNT_QUERY_NOT_FOUND: 5\n",
      "RANK1_MEAN: 3.779\n",
      "NDCG@5_MEAN: 52.008\n",
      "NDCG@10_MEAN: 47.199\n",
      "NDCG@15_MEAN: 49.01\n",
      "NDCG@20_MEAN: 51.023\n",
      "PRECISION@50_MEAN: 10.413\n",
      "PRECISION@100_MEAN: 5.693\n",
      "RECALL@50_MEAN: 61.367\n",
      "RECALL@100_MEAN: 66.689\n",
      "TIME_SPENT_MEAN: 0.549\n",
      "==64==  2023-Jun-28 12:13:19 \n",
      "Experiment: {'TOPK_RETRIEVER': 300, 'TOPK_RANKER': 0, 'EXPANSOR_CRITERIA': 'join_bm25_sts_30_minilm_indir', 'INDEX_NAME': 'indir_juris_tcu_term', 'PIPE': {'PIPE_OBJECT': <haystack.pipelines.base.Pipeline object at 0x7fb614b827d0>, 'RETRIEVER_TYPE': 'sts', 'RANKER_TYPE': 'MINILM_INDIR_400', 'RETRIEVER_MODEL_NAME': ''}, 'COLUMN_NAME': '8'}\n",
      "Experimento envolverá 150 registros, toda a base de dados\n"
     ]
    },
    {
     "name": "stderr",
     "output_type": "stream",
     "text": [
      "100%|██████████| 150/150 [01:23<00:00,  1.80it/s]\n"
     ]
    },
    {
     "name": "stdout",
     "output_type": "stream",
     "text": [
      "COLUMN_NAME: 8\n",
      "COUNT_QUERY_RUN: 150\n",
      "COUNT_QUERY_WITHOUT_RESULT: 0\n",
      "COUNT_QUERY_NOT_FOUND: 5\n",
      "RANK1_MEAN: 4.372\n",
      "NDCG@5_MEAN: 52.282\n",
      "NDCG@10_MEAN: 47.056\n",
      "NDCG@15_MEAN: 49.139\n",
      "NDCG@20_MEAN: 51.031\n",
      "PRECISION@50_MEAN: 10.4\n",
      "PRECISION@100_MEAN: 5.613\n",
      "RECALL@50_MEAN: 61.307\n",
      "RECALL@100_MEAN: 65.832\n",
      "TIME_SPENT_MEAN: 0.556\n",
      "==65==  2023-Jun-28 12:14:43 \n",
      "Experiment: {'TOPK_RETRIEVER': 300, 'TOPK_RANKER': 0, 'EXPANSOR_CRITERIA': 'join_bm25_sts_30_minilm_indir', 'INDEX_NAME': 'indir_juris_tcu_term', 'PIPE': {'PIPE_OBJECT': <haystack.pipelines.base.Pipeline object at 0x7fb614b827d0>, 'RETRIEVER_TYPE': 'sts', 'RANKER_TYPE': 'MINILM_INDIR_400', 'RETRIEVER_MODEL_NAME': ''}, 'COLUMN_NAME': '9'}\n",
      "Experimento envolverá 150 registros, toda a base de dados\n"
     ]
    },
    {
     "name": "stderr",
     "output_type": "stream",
     "text": [
      "100%|██████████| 150/150 [01:24<00:00,  1.78it/s]\n"
     ]
    },
    {
     "name": "stdout",
     "output_type": "stream",
     "text": [
      "COLUMN_NAME: 9\n",
      "COUNT_QUERY_RUN: 150\n",
      "COUNT_QUERY_WITHOUT_RESULT: 0\n",
      "COUNT_QUERY_NOT_FOUND: 5\n",
      "RANK1_MEAN: 4.641\n",
      "NDCG@5_MEAN: 51.032\n",
      "NDCG@10_MEAN: 46.392\n",
      "NDCG@15_MEAN: 48.323\n",
      "NDCG@20_MEAN: 50.077\n",
      "PRECISION@50_MEAN: 10.307\n",
      "PRECISION@100_MEAN: 5.567\n",
      "RECALL@50_MEAN: 60.716\n",
      "RECALL@100_MEAN: 65.317\n",
      "TIME_SPENT_MEAN: 0.562\n",
      "==66==  2023-Jun-28 12:16:08 \n",
      "Experiment: {'TOPK_RETRIEVER': 300, 'TOPK_RANKER': 0, 'EXPANSOR_CRITERIA': '', 'INDEX_NAME': 'indir_juris_tcu_term', 'PIPE': {'PIPE_OBJECT': <haystack.pipelines.base.Pipeline object at 0x7fb614b827d0>, 'RETRIEVER_TYPE': 'sts', 'RANKER_TYPE': 'MINILM_INDIR_400', 'RETRIEVER_MODEL_NAME': ''}, 'COLUMN_NAME': 'TEXT'}\n",
      "Experimento envolverá 150 registros, toda a base de dados\n"
     ]
    },
    {
     "name": "stderr",
     "output_type": "stream",
     "text": [
      "100%|██████████| 150/150 [01:11<00:00,  2.11it/s]\n"
     ]
    },
    {
     "name": "stdout",
     "output_type": "stream",
     "text": [
      "COLUMN_NAME: TEXT\n",
      "COUNT_QUERY_RUN: 150\n",
      "COUNT_QUERY_WITHOUT_RESULT: 0\n",
      "COUNT_QUERY_NOT_FOUND: 2\n",
      "RANK1_MEAN: 4.277\n",
      "NDCG@5_MEAN: 49.559\n",
      "NDCG@10_MEAN: 45.35\n",
      "NDCG@15_MEAN: 47.768\n",
      "NDCG@20_MEAN: 50.23\n",
      "PRECISION@50_MEAN: 10.6\n",
      "PRECISION@100_MEAN: 5.7\n",
      "RECALL@50_MEAN: 61.894\n",
      "RECALL@100_MEAN: 66.959\n",
      "TIME_SPENT_MEAN: 0.475\n",
      "==67==  2023-Jun-28 12:17:20 \n",
      "Experiment: {'TOPK_RETRIEVER': 300, 'TOPK_RANKER': 0, 'EXPANSOR_CRITERIA': 'join_bm25_sts_30_minilm_indir', 'INDEX_NAME': 'indir_juris_tcu_synonym', 'PIPE': {'PIPE_OBJECT': <haystack.pipelines.standard_pipelines.DocumentSearchPipeline object at 0x7fb614256b10>, 'RETRIEVER_TYPE': 'bm25', 'RANKER_TYPE': 'none', 'RETRIEVER_MODEL_NAME': ''}, 'COLUMN_NAME': '1'}\n",
      "Experimento envolverá 150 registros, toda a base de dados\n"
     ]
    },
    {
     "name": "stderr",
     "output_type": "stream",
     "text": [
      "100%|██████████| 150/150 [00:18<00:00,  8.32it/s]\n"
     ]
    },
    {
     "name": "stdout",
     "output_type": "stream",
     "text": [
      "COLUMN_NAME: 1\n",
      "COUNT_QUERY_RUN: 150\n",
      "COUNT_QUERY_WITHOUT_RESULT: 0\n",
      "COUNT_QUERY_NOT_FOUND: 0\n",
      "RANK1_MEAN: 3.707\n",
      "NDCG@5_MEAN: 54.748\n",
      "NDCG@10_MEAN: 52.149\n",
      "NDCG@15_MEAN: 54.626\n",
      "NDCG@20_MEAN: 57.22\n",
      "PRECISION@50_MEAN: 12.907\n",
      "PRECISION@100_MEAN: 7.16\n",
      "RECALL@50_MEAN: 75.615\n",
      "RECALL@100_MEAN: 83.211\n",
      "TIME_SPENT_MEAN: 0.12\n",
      "==68==  2023-Jun-28 12:17:39 \n",
      "Experiment: {'TOPK_RETRIEVER': 300, 'TOPK_RANKER': 0, 'EXPANSOR_CRITERIA': 'join_bm25_sts_30_minilm_indir', 'INDEX_NAME': 'indir_juris_tcu_synonym', 'PIPE': {'PIPE_OBJECT': <haystack.pipelines.standard_pipelines.DocumentSearchPipeline object at 0x7fb614256b10>, 'RETRIEVER_TYPE': 'bm25', 'RANKER_TYPE': 'none', 'RETRIEVER_MODEL_NAME': ''}, 'COLUMN_NAME': '10'}\n",
      "Experimento envolverá 150 registros, toda a base de dados\n"
     ]
    },
    {
     "name": "stderr",
     "output_type": "stream",
     "text": [
      "100%|██████████| 150/150 [00:18<00:00,  8.11it/s]\n"
     ]
    },
    {
     "name": "stdout",
     "output_type": "stream",
     "text": [
      "COLUMN_NAME: 10\n",
      "COUNT_QUERY_RUN: 150\n",
      "COUNT_QUERY_WITHOUT_RESULT: 0\n",
      "COUNT_QUERY_NOT_FOUND: 1\n",
      "RANK1_MEAN: 8.423\n",
      "NDCG@5_MEAN: 44.343\n",
      "NDCG@10_MEAN: 41.86\n",
      "NDCG@15_MEAN: 44.937\n",
      "NDCG@20_MEAN: 47.458\n",
      "PRECISION@50_MEAN: 11.147\n",
      "PRECISION@100_MEAN: 6.413\n",
      "RECALL@50_MEAN: 66.198\n",
      "RECALL@100_MEAN: 75.928\n",
      "TIME_SPENT_MEAN: 0.123\n",
      "==69==  2023-Jun-28 12:17:58 \n",
      "Experiment: {'TOPK_RETRIEVER': 300, 'TOPK_RANKER': 0, 'EXPANSOR_CRITERIA': 'join_bm25_sts_30_minilm_indir', 'INDEX_NAME': 'indir_juris_tcu_synonym', 'PIPE': {'PIPE_OBJECT': <haystack.pipelines.standard_pipelines.DocumentSearchPipeline object at 0x7fb614256b10>, 'RETRIEVER_TYPE': 'bm25', 'RANKER_TYPE': 'none', 'RETRIEVER_MODEL_NAME': ''}, 'COLUMN_NAME': '2'}\n",
      "Experimento envolverá 150 registros, toda a base de dados\n"
     ]
    },
    {
     "name": "stderr",
     "output_type": "stream",
     "text": [
      "100%|██████████| 150/150 [00:18<00:00,  8.25it/s]\n"
     ]
    },
    {
     "name": "stdout",
     "output_type": "stream",
     "text": [
      "COLUMN_NAME: 2\n",
      "COUNT_QUERY_RUN: 150\n",
      "COUNT_QUERY_WITHOUT_RESULT: 0\n",
      "COUNT_QUERY_NOT_FOUND: 0\n",
      "RANK1_MEAN: 4.793\n",
      "NDCG@5_MEAN: 52.719\n",
      "NDCG@10_MEAN: 49.361\n",
      "NDCG@15_MEAN: 52.418\n",
      "NDCG@20_MEAN: 54.659\n",
      "PRECISION@50_MEAN: 12.453\n",
      "PRECISION@100_MEAN: 6.987\n",
      "RECALL@50_MEAN: 73.765\n",
      "RECALL@100_MEAN: 81.819\n",
      "TIME_SPENT_MEAN: 0.121\n",
      "==70==  2023-Jun-28 12:18:17 \n",
      "Experiment: {'TOPK_RETRIEVER': 300, 'TOPK_RANKER': 0, 'EXPANSOR_CRITERIA': 'join_bm25_sts_30_minilm_indir', 'INDEX_NAME': 'indir_juris_tcu_synonym', 'PIPE': {'PIPE_OBJECT': <haystack.pipelines.standard_pipelines.DocumentSearchPipeline object at 0x7fb614256b10>, 'RETRIEVER_TYPE': 'bm25', 'RANKER_TYPE': 'none', 'RETRIEVER_MODEL_NAME': ''}, 'COLUMN_NAME': '3'}\n",
      "Experimento envolverá 150 registros, toda a base de dados\n"
     ]
    },
    {
     "name": "stderr",
     "output_type": "stream",
     "text": [
      "100%|██████████| 150/150 [00:18<00:00,  8.30it/s]\n"
     ]
    },
    {
     "name": "stdout",
     "output_type": "stream",
     "text": [
      "COLUMN_NAME: 3\n",
      "COUNT_QUERY_RUN: 150\n",
      "COUNT_QUERY_WITHOUT_RESULT: 0\n",
      "COUNT_QUERY_NOT_FOUND: 0\n",
      "RANK1_MEAN: 5.9\n",
      "NDCG@5_MEAN: 50.788\n",
      "NDCG@10_MEAN: 47.459\n",
      "NDCG@15_MEAN: 50.118\n",
      "NDCG@20_MEAN: 52.545\n",
      "PRECISION@50_MEAN: 12.013\n",
      "PRECISION@100_MEAN: 6.807\n",
      "RECALL@50_MEAN: 70.976\n",
      "RECALL@100_MEAN: 79.748\n",
      "TIME_SPENT_MEAN: 0.121\n",
      "==71==  2023-Jun-28 12:18:36 \n",
      "Experiment: {'TOPK_RETRIEVER': 300, 'TOPK_RANKER': 0, 'EXPANSOR_CRITERIA': 'join_bm25_sts_30_minilm_indir', 'INDEX_NAME': 'indir_juris_tcu_synonym', 'PIPE': {'PIPE_OBJECT': <haystack.pipelines.standard_pipelines.DocumentSearchPipeline object at 0x7fb614256b10>, 'RETRIEVER_TYPE': 'bm25', 'RANKER_TYPE': 'none', 'RETRIEVER_MODEL_NAME': ''}, 'COLUMN_NAME': '4'}\n",
      "Experimento envolverá 150 registros, toda a base de dados\n"
     ]
    },
    {
     "name": "stderr",
     "output_type": "stream",
     "text": [
      "100%|██████████| 150/150 [00:18<00:00,  8.22it/s]\n"
     ]
    },
    {
     "name": "stdout",
     "output_type": "stream",
     "text": [
      "COLUMN_NAME: 4\n",
      "COUNT_QUERY_RUN: 150\n",
      "COUNT_QUERY_WITHOUT_RESULT: 0\n",
      "COUNT_QUERY_NOT_FOUND: 0\n",
      "RANK1_MEAN: 7.0\n",
      "NDCG@5_MEAN: 48.901\n",
      "NDCG@10_MEAN: 45.723\n",
      "NDCG@15_MEAN: 48.853\n",
      "NDCG@20_MEAN: 51.187\n",
      "PRECISION@50_MEAN: 11.707\n",
      "PRECISION@100_MEAN: 6.693\n",
      "RECALL@50_MEAN: 69.397\n",
      "RECALL@100_MEAN: 78.868\n",
      "TIME_SPENT_MEAN: 0.122\n",
      "==72==  2023-Jun-28 12:18:55 \n",
      "Experiment: {'TOPK_RETRIEVER': 300, 'TOPK_RANKER': 0, 'EXPANSOR_CRITERIA': 'join_bm25_sts_30_minilm_indir', 'INDEX_NAME': 'indir_juris_tcu_synonym', 'PIPE': {'PIPE_OBJECT': <haystack.pipelines.standard_pipelines.DocumentSearchPipeline object at 0x7fb614256b10>, 'RETRIEVER_TYPE': 'bm25', 'RANKER_TYPE': 'none', 'RETRIEVER_MODEL_NAME': ''}, 'COLUMN_NAME': '5'}\n",
      "Experimento envolverá 150 registros, toda a base de dados\n"
     ]
    },
    {
     "name": "stderr",
     "output_type": "stream",
     "text": [
      "100%|██████████| 150/150 [00:18<00:00,  8.20it/s]\n"
     ]
    },
    {
     "name": "stdout",
     "output_type": "stream",
     "text": [
      "COLUMN_NAME: 5\n",
      "COUNT_QUERY_RUN: 150\n",
      "COUNT_QUERY_WITHOUT_RESULT: 0\n",
      "COUNT_QUERY_NOT_FOUND: 0\n",
      "RANK1_MEAN: 7.96\n",
      "NDCG@5_MEAN: 47.584\n",
      "NDCG@10_MEAN: 44.69\n",
      "NDCG@15_MEAN: 47.444\n",
      "NDCG@20_MEAN: 49.77\n",
      "PRECISION@50_MEAN: 11.533\n",
      "PRECISION@100_MEAN: 6.567\n",
      "RECALL@50_MEAN: 68.485\n",
      "RECALL@100_MEAN: 77.617\n",
      "TIME_SPENT_MEAN: 0.122\n",
      "==73==  2023-Jun-28 12:19:14 \n",
      "Experiment: {'TOPK_RETRIEVER': 300, 'TOPK_RANKER': 0, 'EXPANSOR_CRITERIA': 'join_bm25_sts_30_minilm_indir', 'INDEX_NAME': 'indir_juris_tcu_synonym', 'PIPE': {'PIPE_OBJECT': <haystack.pipelines.standard_pipelines.DocumentSearchPipeline object at 0x7fb614256b10>, 'RETRIEVER_TYPE': 'bm25', 'RANKER_TYPE': 'none', 'RETRIEVER_MODEL_NAME': ''}, 'COLUMN_NAME': '6'}\n",
      "Experimento envolverá 150 registros, toda a base de dados\n"
     ]
    },
    {
     "name": "stderr",
     "output_type": "stream",
     "text": [
      "100%|██████████| 150/150 [00:18<00:00,  8.18it/s]\n"
     ]
    },
    {
     "name": "stdout",
     "output_type": "stream",
     "text": [
      "COLUMN_NAME: 6\n",
      "COUNT_QUERY_RUN: 150\n",
      "COUNT_QUERY_WITHOUT_RESULT: 0\n",
      "COUNT_QUERY_NOT_FOUND: 0\n",
      "RANK1_MEAN: 8.907\n",
      "NDCG@5_MEAN: 46.345\n",
      "NDCG@10_MEAN: 43.379\n",
      "NDCG@15_MEAN: 46.572\n",
      "NDCG@20_MEAN: 48.989\n",
      "PRECISION@50_MEAN: 11.347\n",
      "PRECISION@100_MEAN: 6.493\n",
      "RECALL@50_MEAN: 67.392\n",
      "RECALL@100_MEAN: 76.807\n",
      "TIME_SPENT_MEAN: 0.122\n",
      "==74==  2023-Jun-28 12:19:33 \n",
      "Experiment: {'TOPK_RETRIEVER': 300, 'TOPK_RANKER': 0, 'EXPANSOR_CRITERIA': 'join_bm25_sts_30_minilm_indir', 'INDEX_NAME': 'indir_juris_tcu_synonym', 'PIPE': {'PIPE_OBJECT': <haystack.pipelines.standard_pipelines.DocumentSearchPipeline object at 0x7fb614256b10>, 'RETRIEVER_TYPE': 'bm25', 'RANKER_TYPE': 'none', 'RETRIEVER_MODEL_NAME': ''}, 'COLUMN_NAME': '7'}\n",
      "Experimento envolverá 150 registros, toda a base de dados\n"
     ]
    },
    {
     "name": "stderr",
     "output_type": "stream",
     "text": [
      "100%|██████████| 150/150 [00:18<00:00,  8.12it/s]\n"
     ]
    },
    {
     "name": "stdout",
     "output_type": "stream",
     "text": [
      "COLUMN_NAME: 7\n",
      "COUNT_QUERY_RUN: 150\n",
      "COUNT_QUERY_WITHOUT_RESULT: 0\n",
      "COUNT_QUERY_NOT_FOUND: 0\n",
      "RANK1_MEAN: 9.247\n",
      "NDCG@5_MEAN: 46.068\n",
      "NDCG@10_MEAN: 43.126\n",
      "NDCG@15_MEAN: 45.799\n",
      "NDCG@20_MEAN: 48.4\n",
      "PRECISION@50_MEAN: 11.413\n",
      "PRECISION@100_MEAN: 6.427\n",
      "RECALL@50_MEAN: 67.989\n",
      "RECALL@100_MEAN: 75.966\n",
      "TIME_SPENT_MEAN: 0.123\n",
      "==75==  2023-Jun-28 12:19:53 \n",
      "Experiment: {'TOPK_RETRIEVER': 300, 'TOPK_RANKER': 0, 'EXPANSOR_CRITERIA': 'join_bm25_sts_30_minilm_indir', 'INDEX_NAME': 'indir_juris_tcu_synonym', 'PIPE': {'PIPE_OBJECT': <haystack.pipelines.standard_pipelines.DocumentSearchPipeline object at 0x7fb614256b10>, 'RETRIEVER_TYPE': 'bm25', 'RANKER_TYPE': 'none', 'RETRIEVER_MODEL_NAME': ''}, 'COLUMN_NAME': '8'}\n",
      "Experimento envolverá 150 registros, toda a base de dados\n"
     ]
    },
    {
     "name": "stderr",
     "output_type": "stream",
     "text": [
      "100%|██████████| 150/150 [00:18<00:00,  8.18it/s]\n"
     ]
    },
    {
     "name": "stdout",
     "output_type": "stream",
     "text": [
      "COLUMN_NAME: 8\n",
      "COUNT_QUERY_RUN: 150\n",
      "COUNT_QUERY_WITHOUT_RESULT: 0\n",
      "COUNT_QUERY_NOT_FOUND: 1\n",
      "RANK1_MEAN: 9.262\n",
      "NDCG@5_MEAN: 45.438\n",
      "NDCG@10_MEAN: 42.639\n",
      "NDCG@15_MEAN: 45.819\n",
      "NDCG@20_MEAN: 48.276\n",
      "PRECISION@50_MEAN: 11.213\n",
      "PRECISION@100_MEAN: 6.453\n",
      "RECALL@50_MEAN: 66.746\n",
      "RECALL@100_MEAN: 76.441\n",
      "TIME_SPENT_MEAN: 0.122\n",
      "==76==  2023-Jun-28 12:20:12 \n",
      "Experiment: {'TOPK_RETRIEVER': 300, 'TOPK_RANKER': 0, 'EXPANSOR_CRITERIA': 'join_bm25_sts_30_minilm_indir', 'INDEX_NAME': 'indir_juris_tcu_synonym', 'PIPE': {'PIPE_OBJECT': <haystack.pipelines.standard_pipelines.DocumentSearchPipeline object at 0x7fb614256b10>, 'RETRIEVER_TYPE': 'bm25', 'RANKER_TYPE': 'none', 'RETRIEVER_MODEL_NAME': ''}, 'COLUMN_NAME': '9'}\n",
      "Experimento envolverá 150 registros, toda a base de dados\n"
     ]
    },
    {
     "name": "stderr",
     "output_type": "stream",
     "text": [
      "100%|██████████| 150/150 [00:18<00:00,  8.16it/s]\n"
     ]
    },
    {
     "name": "stdout",
     "output_type": "stream",
     "text": [
      "COLUMN_NAME: 9\n",
      "COUNT_QUERY_RUN: 150\n",
      "COUNT_QUERY_WITHOUT_RESULT: 0\n",
      "COUNT_QUERY_NOT_FOUND: 1\n",
      "RANK1_MEAN: 8.765\n",
      "NDCG@5_MEAN: 44.505\n",
      "NDCG@10_MEAN: 41.902\n",
      "NDCG@15_MEAN: 45.121\n",
      "NDCG@20_MEAN: 47.53\n",
      "PRECISION@50_MEAN: 11.16\n",
      "PRECISION@100_MEAN: 6.42\n",
      "RECALL@50_MEAN: 66.375\n",
      "RECALL@100_MEAN: 76.095\n",
      "TIME_SPENT_MEAN: 0.123\n",
      "==77==  2023-Jun-28 12:20:31 \n",
      "Experiment: {'TOPK_RETRIEVER': 300, 'TOPK_RANKER': 0, 'EXPANSOR_CRITERIA': '', 'INDEX_NAME': 'indir_juris_tcu_synonym', 'PIPE': {'PIPE_OBJECT': <haystack.pipelines.standard_pipelines.DocumentSearchPipeline object at 0x7fb614256b10>, 'RETRIEVER_TYPE': 'bm25', 'RANKER_TYPE': 'none', 'RETRIEVER_MODEL_NAME': ''}, 'COLUMN_NAME': 'TEXT'}\n",
      "Experimento envolverá 150 registros, toda a base de dados\n"
     ]
    },
    {
     "name": "stderr",
     "output_type": "stream",
     "text": [
      "100%|██████████| 150/150 [00:17<00:00,  8.35it/s]\n"
     ]
    },
    {
     "name": "stdout",
     "output_type": "stream",
     "text": [
      "COLUMN_NAME: TEXT\n",
      "COUNT_QUERY_RUN: 150\n",
      "COUNT_QUERY_WITHOUT_RESULT: 0\n",
      "COUNT_QUERY_NOT_FOUND: 0\n",
      "RANK1_MEAN: 2.647\n",
      "NDCG@5_MEAN: 58.332\n",
      "NDCG@10_MEAN: 55.239\n",
      "NDCG@15_MEAN: 57.717\n",
      "NDCG@20_MEAN: 60.345\n",
      "PRECISION@50_MEAN: 13.533\n",
      "PRECISION@100_MEAN: 7.373\n",
      "RECALL@50_MEAN: 79.136\n",
      "RECALL@100_MEAN: 85.823\n",
      "TIME_SPENT_MEAN: 0.12\n",
      "==78==  2023-Jun-28 12:20:50 \n",
      "Experiment: {'TOPK_RETRIEVER': 300, 'TOPK_RANKER': 0, 'EXPANSOR_CRITERIA': 'join_bm25_sts_30_minilm_indir', 'INDEX_NAME': 'indir_juris_tcu_synonym', 'PIPE': {'PIPE_OBJECT': <haystack.pipelines.base.Pipeline object at 0x7fb614061350>, 'RETRIEVER_TYPE': 'bm25', 'RANKER_TYPE': 'MINILM_INDIR_400', 'RETRIEVER_MODEL_NAME': ''}, 'COLUMN_NAME': '1'}\n",
      "Experimento envolverá 150 registros, toda a base de dados\n"
     ]
    },
    {
     "name": "stderr",
     "output_type": "stream",
     "text": [
      "100%|██████████| 150/150 [01:34<00:00,  1.58it/s]\n"
     ]
    },
    {
     "name": "stdout",
     "output_type": "stream",
     "text": [
      "COLUMN_NAME: 1\n",
      "COUNT_QUERY_RUN: 150\n",
      "COUNT_QUERY_WITHOUT_RESULT: 0\n",
      "COUNT_QUERY_NOT_FOUND: 0\n",
      "RANK1_MEAN: 10.733\n",
      "NDCG@5_MEAN: 36.336\n",
      "NDCG@10_MEAN: 33.595\n",
      "NDCG@15_MEAN: 35.848\n",
      "NDCG@20_MEAN: 38.392\n",
      "PRECISION@50_MEAN: 10.133\n",
      "PRECISION@100_MEAN: 6.373\n",
      "RECALL@50_MEAN: 58.745\n",
      "RECALL@100_MEAN: 73.201\n",
      "TIME_SPENT_MEAN: 0.632\n",
      "==79==  2023-Jun-28 12:22:26 \n",
      "Experiment: {'TOPK_RETRIEVER': 300, 'TOPK_RANKER': 0, 'EXPANSOR_CRITERIA': 'join_bm25_sts_30_minilm_indir', 'INDEX_NAME': 'indir_juris_tcu_synonym', 'PIPE': {'PIPE_OBJECT': <haystack.pipelines.base.Pipeline object at 0x7fb614061350>, 'RETRIEVER_TYPE': 'bm25', 'RANKER_TYPE': 'MINILM_INDIR_400', 'RETRIEVER_MODEL_NAME': ''}, 'COLUMN_NAME': '10'}\n",
      "Experimento envolverá 150 registros, toda a base de dados\n"
     ]
    },
    {
     "name": "stderr",
     "output_type": "stream",
     "text": [
      "100%|██████████| 150/150 [01:41<00:00,  1.47it/s]\n"
     ]
    },
    {
     "name": "stdout",
     "output_type": "stream",
     "text": [
      "COLUMN_NAME: 10\n",
      "COUNT_QUERY_RUN: 150\n",
      "COUNT_QUERY_WITHOUT_RESULT: 0\n",
      "COUNT_QUERY_NOT_FOUND: 1\n",
      "RANK1_MEAN: 10.168\n",
      "NDCG@5_MEAN: 39.758\n",
      "NDCG@10_MEAN: 37.451\n",
      "NDCG@15_MEAN: 40.107\n",
      "NDCG@20_MEAN: 42.606\n",
      "PRECISION@50_MEAN: 10.507\n",
      "PRECISION@100_MEAN: 6.187\n",
      "RECALL@50_MEAN: 62.174\n",
      "RECALL@100_MEAN: 72.298\n",
      "TIME_SPENT_MEAN: 0.678\n",
      "==80==  2023-Jun-28 12:24:08 \n",
      "Experiment: {'TOPK_RETRIEVER': 300, 'TOPK_RANKER': 0, 'EXPANSOR_CRITERIA': 'join_bm25_sts_30_minilm_indir', 'INDEX_NAME': 'indir_juris_tcu_synonym', 'PIPE': {'PIPE_OBJECT': <haystack.pipelines.base.Pipeline object at 0x7fb614061350>, 'RETRIEVER_TYPE': 'bm25', 'RANKER_TYPE': 'MINILM_INDIR_400', 'RETRIEVER_MODEL_NAME': ''}, 'COLUMN_NAME': '2'}\n",
      "Experimento envolverá 150 registros, toda a base de dados\n"
     ]
    },
    {
     "name": "stderr",
     "output_type": "stream",
     "text": [
      "100%|██████████| 150/150 [01:37<00:00,  1.54it/s]\n"
     ]
    },
    {
     "name": "stdout",
     "output_type": "stream",
     "text": [
      "COLUMN_NAME: 2\n",
      "COUNT_QUERY_RUN: 150\n",
      "COUNT_QUERY_WITHOUT_RESULT: 0\n",
      "COUNT_QUERY_NOT_FOUND: 0\n",
      "RANK1_MEAN: 10.407\n",
      "NDCG@5_MEAN: 39.252\n",
      "NDCG@10_MEAN: 35.805\n",
      "NDCG@15_MEAN: 38.126\n",
      "NDCG@20_MEAN: 40.776\n",
      "PRECISION@50_MEAN: 10.347\n",
      "PRECISION@100_MEAN: 6.467\n",
      "RECALL@50_MEAN: 59.906\n",
      "RECALL@100_MEAN: 74.719\n",
      "TIME_SPENT_MEAN: 0.647\n",
      "==81==  2023-Jun-28 12:25:46 \n",
      "Experiment: {'TOPK_RETRIEVER': 300, 'TOPK_RANKER': 0, 'EXPANSOR_CRITERIA': 'join_bm25_sts_30_minilm_indir', 'INDEX_NAME': 'indir_juris_tcu_synonym', 'PIPE': {'PIPE_OBJECT': <haystack.pipelines.base.Pipeline object at 0x7fb614061350>, 'RETRIEVER_TYPE': 'bm25', 'RANKER_TYPE': 'MINILM_INDIR_400', 'RETRIEVER_MODEL_NAME': ''}, 'COLUMN_NAME': '3'}\n",
      "Experimento envolverá 150 registros, toda a base de dados\n"
     ]
    },
    {
     "name": "stderr",
     "output_type": "stream",
     "text": [
      "100%|██████████| 150/150 [01:36<00:00,  1.55it/s]\n"
     ]
    },
    {
     "name": "stdout",
     "output_type": "stream",
     "text": [
      "COLUMN_NAME: 3\n",
      "COUNT_QUERY_RUN: 150\n",
      "COUNT_QUERY_WITHOUT_RESULT: 0\n",
      "COUNT_QUERY_NOT_FOUND: 0\n",
      "RANK1_MEAN: 11.253\n",
      "NDCG@5_MEAN: 41.332\n",
      "NDCG@10_MEAN: 37.285\n",
      "NDCG@15_MEAN: 39.168\n",
      "NDCG@20_MEAN: 42.342\n",
      "PRECISION@50_MEAN: 10.587\n",
      "PRECISION@100_MEAN: 6.447\n",
      "RECALL@50_MEAN: 61.677\n",
      "RECALL@100_MEAN: 74.719\n",
      "TIME_SPENT_MEAN: 0.645\n",
      "==82==  2023-Jun-28 12:27:24 \n",
      "Experiment: {'TOPK_RETRIEVER': 300, 'TOPK_RANKER': 0, 'EXPANSOR_CRITERIA': 'join_bm25_sts_30_minilm_indir', 'INDEX_NAME': 'indir_juris_tcu_synonym', 'PIPE': {'PIPE_OBJECT': <haystack.pipelines.base.Pipeline object at 0x7fb614061350>, 'RETRIEVER_TYPE': 'bm25', 'RANKER_TYPE': 'MINILM_INDIR_400', 'RETRIEVER_MODEL_NAME': ''}, 'COLUMN_NAME': '4'}\n",
      "Experimento envolverá 150 registros, toda a base de dados\n"
     ]
    },
    {
     "name": "stderr",
     "output_type": "stream",
     "text": [
      "100%|██████████| 150/150 [01:38<00:00,  1.52it/s]\n"
     ]
    },
    {
     "name": "stdout",
     "output_type": "stream",
     "text": [
      "COLUMN_NAME: 4\n",
      "COUNT_QUERY_RUN: 150\n",
      "COUNT_QUERY_WITHOUT_RESULT: 0\n",
      "COUNT_QUERY_NOT_FOUND: 0\n",
      "RANK1_MEAN: 11.167\n",
      "NDCG@5_MEAN: 41.483\n",
      "NDCG@10_MEAN: 38.52\n",
      "NDCG@15_MEAN: 40.551\n",
      "NDCG@20_MEAN: 43.248\n",
      "PRECISION@50_MEAN: 10.467\n",
      "PRECISION@100_MEAN: 6.173\n",
      "RECALL@50_MEAN: 61.321\n",
      "RECALL@100_MEAN: 72.004\n",
      "TIME_SPENT_MEAN: 0.656\n",
      "==83==  2023-Jun-28 12:29:03 \n",
      "Experiment: {'TOPK_RETRIEVER': 300, 'TOPK_RANKER': 0, 'EXPANSOR_CRITERIA': 'join_bm25_sts_30_minilm_indir', 'INDEX_NAME': 'indir_juris_tcu_synonym', 'PIPE': {'PIPE_OBJECT': <haystack.pipelines.base.Pipeline object at 0x7fb614061350>, 'RETRIEVER_TYPE': 'bm25', 'RANKER_TYPE': 'MINILM_INDIR_400', 'RETRIEVER_MODEL_NAME': ''}, 'COLUMN_NAME': '5'}\n",
      "Experimento envolverá 150 registros, toda a base de dados\n"
     ]
    },
    {
     "name": "stderr",
     "output_type": "stream",
     "text": [
      "100%|██████████| 150/150 [01:40<00:00,  1.50it/s]\n"
     ]
    },
    {
     "name": "stdout",
     "output_type": "stream",
     "text": [
      "COLUMN_NAME: 5\n",
      "COUNT_QUERY_RUN: 150\n",
      "COUNT_QUERY_WITHOUT_RESULT: 0\n",
      "COUNT_QUERY_NOT_FOUND: 0\n",
      "RANK1_MEAN: 11.42\n",
      "NDCG@5_MEAN: 41.828\n",
      "NDCG@10_MEAN: 38.801\n",
      "NDCG@15_MEAN: 41.164\n",
      "NDCG@20_MEAN: 43.799\n",
      "PRECISION@50_MEAN: 10.667\n",
      "PRECISION@100_MEAN: 6.18\n",
      "RECALL@50_MEAN: 62.541\n",
      "RECALL@100_MEAN: 71.748\n",
      "TIME_SPENT_MEAN: 0.667\n",
      "==84==  2023-Jun-28 12:30:44 \n",
      "Experiment: {'TOPK_RETRIEVER': 300, 'TOPK_RANKER': 0, 'EXPANSOR_CRITERIA': 'join_bm25_sts_30_minilm_indir', 'INDEX_NAME': 'indir_juris_tcu_synonym', 'PIPE': {'PIPE_OBJECT': <haystack.pipelines.base.Pipeline object at 0x7fb614061350>, 'RETRIEVER_TYPE': 'bm25', 'RANKER_TYPE': 'MINILM_INDIR_400', 'RETRIEVER_MODEL_NAME': ''}, 'COLUMN_NAME': '6'}\n",
      "Experimento envolverá 150 registros, toda a base de dados\n"
     ]
    },
    {
     "name": "stderr",
     "output_type": "stream",
     "text": [
      "100%|██████████| 150/150 [01:40<00:00,  1.49it/s]\n"
     ]
    },
    {
     "name": "stdout",
     "output_type": "stream",
     "text": [
      "COLUMN_NAME: 6\n",
      "COUNT_QUERY_RUN: 150\n",
      "COUNT_QUERY_WITHOUT_RESULT: 0\n",
      "COUNT_QUERY_NOT_FOUND: 0\n",
      "RANK1_MEAN: 11.027\n",
      "NDCG@5_MEAN: 40.967\n",
      "NDCG@10_MEAN: 38.834\n",
      "NDCG@15_MEAN: 41.594\n",
      "NDCG@20_MEAN: 44.456\n",
      "PRECISION@50_MEAN: 10.827\n",
      "PRECISION@100_MEAN: 6.293\n",
      "RECALL@50_MEAN: 63.509\n",
      "RECALL@100_MEAN: 73.631\n",
      "TIME_SPENT_MEAN: 0.672\n",
      "==85==  2023-Jun-28 12:32:26 \n",
      "Experiment: {'TOPK_RETRIEVER': 300, 'TOPK_RANKER': 0, 'EXPANSOR_CRITERIA': 'join_bm25_sts_30_minilm_indir', 'INDEX_NAME': 'indir_juris_tcu_synonym', 'PIPE': {'PIPE_OBJECT': <haystack.pipelines.base.Pipeline object at 0x7fb614061350>, 'RETRIEVER_TYPE': 'bm25', 'RANKER_TYPE': 'MINILM_INDIR_400', 'RETRIEVER_MODEL_NAME': ''}, 'COLUMN_NAME': '7'}\n",
      "Experimento envolverá 150 registros, toda a base de dados\n"
     ]
    },
    {
     "name": "stderr",
     "output_type": "stream",
     "text": [
      "100%|██████████| 150/150 [01:41<00:00,  1.48it/s]\n"
     ]
    },
    {
     "name": "stdout",
     "output_type": "stream",
     "text": [
      "COLUMN_NAME: 7\n",
      "COUNT_QUERY_RUN: 150\n",
      "COUNT_QUERY_WITHOUT_RESULT: 0\n",
      "COUNT_QUERY_NOT_FOUND: 0\n",
      "RANK1_MEAN: 11.367\n",
      "NDCG@5_MEAN: 40.692\n",
      "NDCG@10_MEAN: 38.76\n",
      "NDCG@15_MEAN: 41.38\n",
      "NDCG@20_MEAN: 43.812\n",
      "PRECISION@50_MEAN: 10.667\n",
      "PRECISION@100_MEAN: 6.26\n",
      "RECALL@50_MEAN: 62.405\n",
      "RECALL@100_MEAN: 72.628\n",
      "TIME_SPENT_MEAN: 0.678\n",
      "==86==  2023-Jun-28 12:34:09 \n",
      "Experiment: {'TOPK_RETRIEVER': 300, 'TOPK_RANKER': 0, 'EXPANSOR_CRITERIA': 'join_bm25_sts_30_minilm_indir', 'INDEX_NAME': 'indir_juris_tcu_synonym', 'PIPE': {'PIPE_OBJECT': <haystack.pipelines.base.Pipeline object at 0x7fb614061350>, 'RETRIEVER_TYPE': 'bm25', 'RANKER_TYPE': 'MINILM_INDIR_400', 'RETRIEVER_MODEL_NAME': ''}, 'COLUMN_NAME': '8'}\n",
      "Experimento envolverá 150 registros, toda a base de dados\n"
     ]
    },
    {
     "name": "stderr",
     "output_type": "stream",
     "text": [
      "100%|██████████| 150/150 [01:42<00:00,  1.46it/s]\n"
     ]
    },
    {
     "name": "stdout",
     "output_type": "stream",
     "text": [
      "COLUMN_NAME: 8\n",
      "COUNT_QUERY_RUN: 150\n",
      "COUNT_QUERY_WITHOUT_RESULT: 0\n",
      "COUNT_QUERY_NOT_FOUND: 1\n",
      "RANK1_MEAN: 9.638\n",
      "NDCG@5_MEAN: 41.401\n",
      "NDCG@10_MEAN: 38.665\n",
      "NDCG@15_MEAN: 41.4\n",
      "NDCG@20_MEAN: 43.64\n",
      "PRECISION@50_MEAN: 10.587\n",
      "PRECISION@100_MEAN: 6.207\n",
      "RECALL@50_MEAN: 62.531\n",
      "RECALL@100_MEAN: 72.466\n",
      "TIME_SPENT_MEAN: 0.683\n",
      "==87==  2023-Jun-28 12:35:52 \n",
      "Experiment: {'TOPK_RETRIEVER': 300, 'TOPK_RANKER': 0, 'EXPANSOR_CRITERIA': 'join_bm25_sts_30_minilm_indir', 'INDEX_NAME': 'indir_juris_tcu_synonym', 'PIPE': {'PIPE_OBJECT': <haystack.pipelines.base.Pipeline object at 0x7fb614061350>, 'RETRIEVER_TYPE': 'bm25', 'RANKER_TYPE': 'MINILM_INDIR_400', 'RETRIEVER_MODEL_NAME': ''}, 'COLUMN_NAME': '9'}\n",
      "Experimento envolverá 150 registros, toda a base de dados\n"
     ]
    },
    {
     "name": "stderr",
     "output_type": "stream",
     "text": [
      "100%|██████████| 150/150 [01:41<00:00,  1.47it/s]\n"
     ]
    },
    {
     "name": "stdout",
     "output_type": "stream",
     "text": [
      "COLUMN_NAME: 9\n",
      "COUNT_QUERY_RUN: 150\n",
      "COUNT_QUERY_WITHOUT_RESULT: 0\n",
      "COUNT_QUERY_NOT_FOUND: 1\n",
      "RANK1_MEAN: 9.899\n",
      "NDCG@5_MEAN: 39.829\n",
      "NDCG@10_MEAN: 37.477\n",
      "NDCG@15_MEAN: 39.985\n",
      "NDCG@20_MEAN: 42.789\n",
      "PRECISION@50_MEAN: 10.493\n",
      "PRECISION@100_MEAN: 6.16\n",
      "RECALL@50_MEAN: 62.139\n",
      "RECALL@100_MEAN: 72.073\n",
      "TIME_SPENT_MEAN: 0.68\n",
      "==88==  2023-Jun-28 12:37:35 \n",
      "Experiment: {'TOPK_RETRIEVER': 300, 'TOPK_RANKER': 0, 'EXPANSOR_CRITERIA': '', 'INDEX_NAME': 'indir_juris_tcu_synonym', 'PIPE': {'PIPE_OBJECT': <haystack.pipelines.base.Pipeline object at 0x7fb614061350>, 'RETRIEVER_TYPE': 'bm25', 'RANKER_TYPE': 'MINILM_INDIR_400', 'RETRIEVER_MODEL_NAME': ''}, 'COLUMN_NAME': 'TEXT'}\n",
      "Experimento envolverá 150 registros, toda a base de dados\n"
     ]
    },
    {
     "name": "stderr",
     "output_type": "stream",
     "text": [
      "100%|██████████| 150/150 [01:33<00:00,  1.61it/s]\n"
     ]
    },
    {
     "name": "stdout",
     "output_type": "stream",
     "text": [
      "COLUMN_NAME: TEXT\n",
      "COUNT_QUERY_RUN: 150\n",
      "COUNT_QUERY_WITHOUT_RESULT: 0\n",
      "COUNT_QUERY_NOT_FOUND: 0\n",
      "RANK1_MEAN: 10.66\n",
      "NDCG@5_MEAN: 38.415\n",
      "NDCG@10_MEAN: 36.067\n",
      "NDCG@15_MEAN: 37.738\n",
      "NDCG@20_MEAN: 40.002\n",
      "PRECISION@50_MEAN: 10.613\n",
      "PRECISION@100_MEAN: 6.553\n",
      "RECALL@50_MEAN: 61.226\n",
      "RECALL@100_MEAN: 75.39\n",
      "TIME_SPENT_MEAN: 0.621\n",
      "==89==  2023-Jun-28 12:39:09 \n",
      "Experiment: {'TOPK_RETRIEVER': 300, 'TOPK_RANKER': 0, 'EXPANSOR_CRITERIA': 'join_bm25_sts_30_minilm_indir', 'INDEX_NAME': 'indir_juris_tcu_synonym', 'PIPE': {'PIPE_OBJECT': <haystack.pipelines.base.Pipeline object at 0x7fb6140fa610>, 'RETRIEVER_TYPE': 'sts', 'RANKER_TYPE': 'MINILM_INDIR_400', 'RETRIEVER_MODEL_NAME': ''}, 'COLUMN_NAME': '1'}\n",
      "Experimento envolverá 150 registros, toda a base de dados\n"
     ]
    },
    {
     "name": "stderr",
     "output_type": "stream",
     "text": [
      "100%|██████████| 150/150 [01:32<00:00,  1.62it/s]\n"
     ]
    },
    {
     "name": "stdout",
     "output_type": "stream",
     "text": [
      "COLUMN_NAME: 1\n",
      "COUNT_QUERY_RUN: 150\n",
      "COUNT_QUERY_WITHOUT_RESULT: 0\n",
      "COUNT_QUERY_NOT_FOUND: 6\n",
      "RANK1_MEAN: 7.944\n",
      "NDCG@5_MEAN: 38.235\n",
      "NDCG@10_MEAN: 34.446\n",
      "NDCG@15_MEAN: 36.614\n",
      "NDCG@20_MEAN: 38.443\n",
      "PRECISION@50_MEAN: 8.56\n",
      "PRECISION@100_MEAN: 5.013\n",
      "RECALL@50_MEAN: 50.228\n",
      "RECALL@100_MEAN: 58.268\n",
      "TIME_SPENT_MEAN: 0.618\n",
      "==90==  2023-Jun-28 12:40:43 \n",
      "Experiment: {'TOPK_RETRIEVER': 300, 'TOPK_RANKER': 0, 'EXPANSOR_CRITERIA': 'join_bm25_sts_30_minilm_indir', 'INDEX_NAME': 'indir_juris_tcu_synonym', 'PIPE': {'PIPE_OBJECT': <haystack.pipelines.base.Pipeline object at 0x7fb6140fa610>, 'RETRIEVER_TYPE': 'sts', 'RANKER_TYPE': 'MINILM_INDIR_400', 'RETRIEVER_MODEL_NAME': ''}, 'COLUMN_NAME': '10'}\n",
      "Experimento envolverá 150 registros, toda a base de dados\n"
     ]
    },
    {
     "name": "stderr",
     "output_type": "stream",
     "text": [
      "100%|██████████| 150/150 [01:44<00:00,  1.43it/s]\n"
     ]
    },
    {
     "name": "stdout",
     "output_type": "stream",
     "text": [
      "COLUMN_NAME: 10\n",
      "COUNT_QUERY_RUN: 150\n",
      "COUNT_QUERY_WITHOUT_RESULT: 0\n",
      "COUNT_QUERY_NOT_FOUND: 4\n",
      "RANK1_MEAN: 8.548\n",
      "NDCG@5_MEAN: 40.032\n",
      "NDCG@10_MEAN: 37.163\n",
      "NDCG@15_MEAN: 39.473\n",
      "NDCG@20_MEAN: 41.312\n",
      "PRECISION@50_MEAN: 9.16\n",
      "PRECISION@100_MEAN: 5.16\n",
      "RECALL@50_MEAN: 53.648\n",
      "RECALL@100_MEAN: 60.809\n",
      "TIME_SPENT_MEAN: 0.697\n",
      "==91==  2023-Jun-28 12:42:28 \n",
      "Experiment: {'TOPK_RETRIEVER': 300, 'TOPK_RANKER': 0, 'EXPANSOR_CRITERIA': 'join_bm25_sts_30_minilm_indir', 'INDEX_NAME': 'indir_juris_tcu_synonym', 'PIPE': {'PIPE_OBJECT': <haystack.pipelines.base.Pipeline object at 0x7fb6140fa610>, 'RETRIEVER_TYPE': 'sts', 'RANKER_TYPE': 'MINILM_INDIR_400', 'RETRIEVER_MODEL_NAME': ''}, 'COLUMN_NAME': '2'}\n",
      "Experimento envolverá 150 registros, toda a base de dados\n"
     ]
    },
    {
     "name": "stderr",
     "output_type": "stream",
     "text": [
      "100%|██████████| 150/150 [01:34<00:00,  1.58it/s]\n"
     ]
    },
    {
     "name": "stdout",
     "output_type": "stream",
     "text": [
      "COLUMN_NAME: 2\n",
      "COUNT_QUERY_RUN: 150\n",
      "COUNT_QUERY_WITHOUT_RESULT: 0\n",
      "COUNT_QUERY_NOT_FOUND: 9\n",
      "RANK1_MEAN: 6.177\n",
      "NDCG@5_MEAN: 40.226\n",
      "NDCG@10_MEAN: 36.064\n",
      "NDCG@15_MEAN: 38.004\n",
      "NDCG@20_MEAN: 40.011\n",
      "PRECISION@50_MEAN: 9.04\n",
      "PRECISION@100_MEAN: 5.12\n",
      "RECALL@50_MEAN: 52.578\n",
      "RECALL@100_MEAN: 59.903\n",
      "TIME_SPENT_MEAN: 0.632\n",
      "==92==  2023-Jun-28 12:44:04 \n",
      "Experiment: {'TOPK_RETRIEVER': 300, 'TOPK_RANKER': 0, 'EXPANSOR_CRITERIA': 'join_bm25_sts_30_minilm_indir', 'INDEX_NAME': 'indir_juris_tcu_synonym', 'PIPE': {'PIPE_OBJECT': <haystack.pipelines.base.Pipeline object at 0x7fb6140fa610>, 'RETRIEVER_TYPE': 'sts', 'RANKER_TYPE': 'MINILM_INDIR_400', 'RETRIEVER_MODEL_NAME': ''}, 'COLUMN_NAME': '3'}\n",
      "Experimento envolverá 150 registros, toda a base de dados\n"
     ]
    },
    {
     "name": "stderr",
     "output_type": "stream",
     "text": [
      "100%|██████████| 150/150 [01:36<00:00,  1.55it/s]\n"
     ]
    },
    {
     "name": "stdout",
     "output_type": "stream",
     "text": [
      "COLUMN_NAME: 3\n",
      "COUNT_QUERY_RUN: 150\n",
      "COUNT_QUERY_WITHOUT_RESULT: 0\n",
      "COUNT_QUERY_NOT_FOUND: 6\n",
      "RANK1_MEAN: 9.174\n",
      "NDCG@5_MEAN: 41.242\n",
      "NDCG@10_MEAN: 37.199\n",
      "NDCG@15_MEAN: 39.153\n",
      "NDCG@20_MEAN: 41.361\n",
      "PRECISION@50_MEAN: 9.227\n",
      "PRECISION@100_MEAN: 5.12\n",
      "RECALL@50_MEAN: 53.631\n",
      "RECALL@100_MEAN: 59.832\n",
      "TIME_SPENT_MEAN: 0.646\n",
      "==93==  2023-Jun-28 12:45:42 \n",
      "Experiment: {'TOPK_RETRIEVER': 300, 'TOPK_RANKER': 0, 'EXPANSOR_CRITERIA': 'join_bm25_sts_30_minilm_indir', 'INDEX_NAME': 'indir_juris_tcu_synonym', 'PIPE': {'PIPE_OBJECT': <haystack.pipelines.base.Pipeline object at 0x7fb6140fa610>, 'RETRIEVER_TYPE': 'sts', 'RANKER_TYPE': 'MINILM_INDIR_400', 'RETRIEVER_MODEL_NAME': ''}, 'COLUMN_NAME': '4'}\n",
      "Experimento envolverá 150 registros, toda a base de dados\n"
     ]
    },
    {
     "name": "stderr",
     "output_type": "stream",
     "text": [
      "100%|██████████| 150/150 [01:37<00:00,  1.53it/s]\n"
     ]
    },
    {
     "name": "stdout",
     "output_type": "stream",
     "text": [
      "COLUMN_NAME: 4\n",
      "COUNT_QUERY_RUN: 150\n",
      "COUNT_QUERY_WITHOUT_RESULT: 0\n",
      "COUNT_QUERY_NOT_FOUND: 3\n",
      "RANK1_MEAN: 9.361\n",
      "NDCG@5_MEAN: 42.967\n",
      "NDCG@10_MEAN: 38.888\n",
      "NDCG@15_MEAN: 41.265\n",
      "NDCG@20_MEAN: 43.0\n",
      "PRECISION@50_MEAN: 9.347\n",
      "PRECISION@100_MEAN: 5.253\n",
      "RECALL@50_MEAN: 55.016\n",
      "RECALL@100_MEAN: 62.119\n",
      "TIME_SPENT_MEAN: 0.652\n",
      "==94==  2023-Jun-28 12:47:21 \n",
      "Experiment: {'TOPK_RETRIEVER': 300, 'TOPK_RANKER': 0, 'EXPANSOR_CRITERIA': 'join_bm25_sts_30_minilm_indir', 'INDEX_NAME': 'indir_juris_tcu_synonym', 'PIPE': {'PIPE_OBJECT': <haystack.pipelines.base.Pipeline object at 0x7fb6140fa610>, 'RETRIEVER_TYPE': 'sts', 'RANKER_TYPE': 'MINILM_INDIR_400', 'RETRIEVER_MODEL_NAME': ''}, 'COLUMN_NAME': '5'}\n",
      "Experimento envolverá 150 registros, toda a base de dados\n"
     ]
    },
    {
     "name": "stderr",
     "output_type": "stream",
     "text": [
      "100%|██████████| 150/150 [01:39<00:00,  1.50it/s]\n"
     ]
    },
    {
     "name": "stdout",
     "output_type": "stream",
     "text": [
      "COLUMN_NAME: 5\n",
      "COUNT_QUERY_RUN: 150\n",
      "COUNT_QUERY_WITHOUT_RESULT: 0\n",
      "COUNT_QUERY_NOT_FOUND: 5\n",
      "RANK1_MEAN: 9.041\n",
      "NDCG@5_MEAN: 41.388\n",
      "NDCG@10_MEAN: 38.402\n",
      "NDCG@15_MEAN: 40.683\n",
      "NDCG@20_MEAN: 42.682\n",
      "PRECISION@50_MEAN: 9.333\n",
      "PRECISION@100_MEAN: 5.247\n",
      "RECALL@50_MEAN: 54.381\n",
      "RECALL@100_MEAN: 61.027\n",
      "TIME_SPENT_MEAN: 0.666\n",
      "==95==  2023-Jun-28 12:49:02 \n",
      "Experiment: {'TOPK_RETRIEVER': 300, 'TOPK_RANKER': 0, 'EXPANSOR_CRITERIA': 'join_bm25_sts_30_minilm_indir', 'INDEX_NAME': 'indir_juris_tcu_synonym', 'PIPE': {'PIPE_OBJECT': <haystack.pipelines.base.Pipeline object at 0x7fb6140fa610>, 'RETRIEVER_TYPE': 'sts', 'RANKER_TYPE': 'MINILM_INDIR_400', 'RETRIEVER_MODEL_NAME': ''}, 'COLUMN_NAME': '6'}\n",
      "Experimento envolverá 150 registros, toda a base de dados\n"
     ]
    },
    {
     "name": "stderr",
     "output_type": "stream",
     "text": [
      "100%|██████████| 150/150 [01:40<00:00,  1.49it/s]\n"
     ]
    },
    {
     "name": "stdout",
     "output_type": "stream",
     "text": [
      "COLUMN_NAME: 6\n",
      "COUNT_QUERY_RUN: 150\n",
      "COUNT_QUERY_WITHOUT_RESULT: 0\n",
      "COUNT_QUERY_NOT_FOUND: 5\n",
      "RANK1_MEAN: 8.862\n",
      "NDCG@5_MEAN: 41.723\n",
      "NDCG@10_MEAN: 39.167\n",
      "NDCG@15_MEAN: 40.967\n",
      "NDCG@20_MEAN: 43.026\n",
      "PRECISION@50_MEAN: 9.373\n",
      "PRECISION@100_MEAN: 5.267\n",
      "RECALL@50_MEAN: 54.958\n",
      "RECALL@100_MEAN: 62.089\n",
      "TIME_SPENT_MEAN: 0.67\n",
      "==96==  2023-Jun-28 12:50:43 \n",
      "Experiment: {'TOPK_RETRIEVER': 300, 'TOPK_RANKER': 0, 'EXPANSOR_CRITERIA': 'join_bm25_sts_30_minilm_indir', 'INDEX_NAME': 'indir_juris_tcu_synonym', 'PIPE': {'PIPE_OBJECT': <haystack.pipelines.base.Pipeline object at 0x7fb6140fa610>, 'RETRIEVER_TYPE': 'sts', 'RANKER_TYPE': 'MINILM_INDIR_400', 'RETRIEVER_MODEL_NAME': ''}, 'COLUMN_NAME': '7'}\n",
      "Experimento envolverá 150 registros, toda a base de dados\n"
     ]
    },
    {
     "name": "stderr",
     "output_type": "stream",
     "text": [
      "100%|██████████| 150/150 [01:42<00:00,  1.47it/s]\n"
     ]
    },
    {
     "name": "stdout",
     "output_type": "stream",
     "text": [
      "COLUMN_NAME: 7\n",
      "COUNT_QUERY_RUN: 150\n",
      "COUNT_QUERY_WITHOUT_RESULT: 0\n",
      "COUNT_QUERY_NOT_FOUND: 4\n",
      "RANK1_MEAN: 8.63\n",
      "NDCG@5_MEAN: 41.278\n",
      "NDCG@10_MEAN: 38.476\n",
      "NDCG@15_MEAN: 40.607\n",
      "NDCG@20_MEAN: 42.402\n",
      "PRECISION@50_MEAN: 9.387\n",
      "PRECISION@100_MEAN: 5.233\n",
      "RECALL@50_MEAN: 55.003\n",
      "RECALL@100_MEAN: 61.098\n",
      "TIME_SPENT_MEAN: 0.681\n",
      "==97==  2023-Jun-28 12:52:26 \n",
      "Experiment: {'TOPK_RETRIEVER': 300, 'TOPK_RANKER': 0, 'EXPANSOR_CRITERIA': 'join_bm25_sts_30_minilm_indir', 'INDEX_NAME': 'indir_juris_tcu_synonym', 'PIPE': {'PIPE_OBJECT': <haystack.pipelines.base.Pipeline object at 0x7fb6140fa610>, 'RETRIEVER_TYPE': 'sts', 'RANKER_TYPE': 'MINILM_INDIR_400', 'RETRIEVER_MODEL_NAME': ''}, 'COLUMN_NAME': '8'}\n",
      "Experimento envolverá 150 registros, toda a base de dados\n"
     ]
    },
    {
     "name": "stderr",
     "output_type": "stream",
     "text": [
      "100%|██████████| 150/150 [01:43<00:00,  1.45it/s]\n"
     ]
    },
    {
     "name": "stdout",
     "output_type": "stream",
     "text": [
      "COLUMN_NAME: 8\n",
      "COUNT_QUERY_RUN: 150\n",
      "COUNT_QUERY_WITHOUT_RESULT: 0\n",
      "COUNT_QUERY_NOT_FOUND: 4\n",
      "RANK1_MEAN: 8.021\n",
      "NDCG@5_MEAN: 41.585\n",
      "NDCG@10_MEAN: 38.3\n",
      "NDCG@15_MEAN: 40.609\n",
      "NDCG@20_MEAN: 42.566\n",
      "PRECISION@50_MEAN: 9.28\n",
      "PRECISION@100_MEAN: 5.233\n",
      "RECALL@50_MEAN: 54.253\n",
      "RECALL@100_MEAN: 61.577\n",
      "TIME_SPENT_MEAN: 0.692\n",
      "==98==  2023-Jun-28 12:54:11 \n",
      "Experiment: {'TOPK_RETRIEVER': 300, 'TOPK_RANKER': 0, 'EXPANSOR_CRITERIA': 'join_bm25_sts_30_minilm_indir', 'INDEX_NAME': 'indir_juris_tcu_synonym', 'PIPE': {'PIPE_OBJECT': <haystack.pipelines.base.Pipeline object at 0x7fb6140fa610>, 'RETRIEVER_TYPE': 'sts', 'RANKER_TYPE': 'MINILM_INDIR_400', 'RETRIEVER_MODEL_NAME': ''}, 'COLUMN_NAME': '9'}\n",
      "Experimento envolverá 150 registros, toda a base de dados\n"
     ]
    },
    {
     "name": "stderr",
     "output_type": "stream",
     "text": [
      "100%|██████████| 150/150 [01:44<00:00,  1.43it/s]\n"
     ]
    },
    {
     "name": "stdout",
     "output_type": "stream",
     "text": [
      "COLUMN_NAME: 9\n",
      "COUNT_QUERY_RUN: 150\n",
      "COUNT_QUERY_WITHOUT_RESULT: 0\n",
      "COUNT_QUERY_NOT_FOUND: 4\n",
      "RANK1_MEAN: 7.781\n",
      "NDCG@5_MEAN: 40.176\n",
      "NDCG@10_MEAN: 37.288\n",
      "NDCG@15_MEAN: 39.636\n",
      "NDCG@20_MEAN: 41.485\n",
      "PRECISION@50_MEAN: 9.28\n",
      "PRECISION@100_MEAN: 5.193\n",
      "RECALL@50_MEAN: 54.788\n",
      "RECALL@100_MEAN: 61.032\n",
      "TIME_SPENT_MEAN: 0.698\n",
      "==99==  2023-Jun-28 12:55:57 \n",
      "Experiment: {'TOPK_RETRIEVER': 300, 'TOPK_RANKER': 0, 'EXPANSOR_CRITERIA': '', 'INDEX_NAME': 'indir_juris_tcu_synonym', 'PIPE': {'PIPE_OBJECT': <haystack.pipelines.base.Pipeline object at 0x7fb6140fa610>, 'RETRIEVER_TYPE': 'sts', 'RANKER_TYPE': 'MINILM_INDIR_400', 'RETRIEVER_MODEL_NAME': ''}, 'COLUMN_NAME': 'TEXT'}\n",
      "Experimento envolverá 150 registros, toda a base de dados\n"
     ]
    },
    {
     "name": "stderr",
     "output_type": "stream",
     "text": [
      "100%|██████████| 150/150 [01:30<00:00,  1.66it/s]\n"
     ]
    },
    {
     "name": "stdout",
     "output_type": "stream",
     "text": [
      "COLUMN_NAME: TEXT\n",
      "COUNT_QUERY_RUN: 150\n",
      "COUNT_QUERY_WITHOUT_RESULT: 0\n",
      "COUNT_QUERY_NOT_FOUND: 3\n",
      "RANK1_MEAN: 7.673\n",
      "NDCG@5_MEAN: 40.21\n",
      "NDCG@10_MEAN: 35.418\n",
      "NDCG@15_MEAN: 37.657\n",
      "NDCG@20_MEAN: 39.594\n",
      "PRECISION@50_MEAN: 8.96\n",
      "PRECISION@100_MEAN: 5.12\n",
      "RECALL@50_MEAN: 52.261\n",
      "RECALL@100_MEAN: 59.477\n",
      "TIME_SPENT_MEAN: 0.604\n",
      "==100==  2023-Jun-28 12:57:28 \n",
      "Experiment: {'TOPK_RETRIEVER': 300, 'TOPK_RANKER': 0, 'EXPANSOR_CRITERIA': 'join_bm25_sts_30_minilm_indir', 'INDEX_NAME': 'indir_juris_tcu_related_term', 'PIPE': {'PIPE_OBJECT': <haystack.pipelines.standard_pipelines.DocumentSearchPipeline object at 0x7fb613eccf10>, 'RETRIEVER_TYPE': 'bm25', 'RANKER_TYPE': 'none', 'RETRIEVER_MODEL_NAME': ''}, 'COLUMN_NAME': '1'}\n",
      "Experimento envolverá 150 registros, toda a base de dados\n"
     ]
    },
    {
     "name": "stderr",
     "output_type": "stream",
     "text": [
      "100%|██████████| 150/150 [00:18<00:00,  8.08it/s]\n"
     ]
    },
    {
     "name": "stdout",
     "output_type": "stream",
     "text": [
      "COLUMN_NAME: 1\n",
      "COUNT_QUERY_RUN: 150\n",
      "COUNT_QUERY_WITHOUT_RESULT: 0\n",
      "COUNT_QUERY_NOT_FOUND: 1\n",
      "RANK1_MEAN: 5.953\n",
      "NDCG@5_MEAN: 52.424\n",
      "NDCG@10_MEAN: 49.652\n",
      "NDCG@15_MEAN: 51.492\n",
      "NDCG@20_MEAN: 54.167\n",
      "PRECISION@50_MEAN: 12.36\n",
      "PRECISION@100_MEAN: 6.9\n",
      "RECALL@50_MEAN: 72.308\n",
      "RECALL@100_MEAN: 80.459\n",
      "TIME_SPENT_MEAN: 0.124\n",
      "==101==  2023-Jun-28 12:57:48 \n",
      "Experiment: {'TOPK_RETRIEVER': 300, 'TOPK_RANKER': 0, 'EXPANSOR_CRITERIA': 'join_bm25_sts_30_minilm_indir', 'INDEX_NAME': 'indir_juris_tcu_related_term', 'PIPE': {'PIPE_OBJECT': <haystack.pipelines.standard_pipelines.DocumentSearchPipeline object at 0x7fb613eccf10>, 'RETRIEVER_TYPE': 'bm25', 'RANKER_TYPE': 'none', 'RETRIEVER_MODEL_NAME': ''}, 'COLUMN_NAME': '10'}\n",
      "Experimento envolverá 150 registros, toda a base de dados\n"
     ]
    },
    {
     "name": "stderr",
     "output_type": "stream",
     "text": [
      "100%|██████████| 150/150 [00:19<00:00,  7.89it/s]\n"
     ]
    },
    {
     "name": "stdout",
     "output_type": "stream",
     "text": [
      "COLUMN_NAME: 10\n",
      "COUNT_QUERY_RUN: 150\n",
      "COUNT_QUERY_WITHOUT_RESULT: 0\n",
      "COUNT_QUERY_NOT_FOUND: 2\n",
      "RANK1_MEAN: 12.52\n",
      "NDCG@5_MEAN: 40.288\n",
      "NDCG@10_MEAN: 38.309\n",
      "NDCG@15_MEAN: 41.096\n",
      "NDCG@20_MEAN: 43.782\n",
      "PRECISION@50_MEAN: 10.48\n",
      "PRECISION@100_MEAN: 6.147\n",
      "RECALL@50_MEAN: 62.744\n",
      "RECALL@100_MEAN: 72.234\n",
      "TIME_SPENT_MEAN: 0.127\n",
      "==102==  2023-Jun-28 12:58:08 \n",
      "Experiment: {'TOPK_RETRIEVER': 300, 'TOPK_RANKER': 0, 'EXPANSOR_CRITERIA': 'join_bm25_sts_30_minilm_indir', 'INDEX_NAME': 'indir_juris_tcu_related_term', 'PIPE': {'PIPE_OBJECT': <haystack.pipelines.standard_pipelines.DocumentSearchPipeline object at 0x7fb613eccf10>, 'RETRIEVER_TYPE': 'bm25', 'RANKER_TYPE': 'none', 'RETRIEVER_MODEL_NAME': ''}, 'COLUMN_NAME': '2'}\n",
      "Experimento envolverá 150 registros, toda a base de dados\n"
     ]
    },
    {
     "name": "stderr",
     "output_type": "stream",
     "text": [
      "100%|██████████| 150/150 [00:18<00:00,  8.03it/s]\n"
     ]
    },
    {
     "name": "stdout",
     "output_type": "stream",
     "text": [
      "COLUMN_NAME: 2\n",
      "COUNT_QUERY_RUN: 150\n",
      "COUNT_QUERY_WITHOUT_RESULT: 0\n",
      "COUNT_QUERY_NOT_FOUND: 2\n",
      "RANK1_MEAN: 7.095\n",
      "NDCG@5_MEAN: 49.968\n",
      "NDCG@10_MEAN: 46.186\n",
      "NDCG@15_MEAN: 48.724\n",
      "NDCG@20_MEAN: 51.391\n",
      "PRECISION@50_MEAN: 11.907\n",
      "PRECISION@100_MEAN: 6.813\n",
      "RECALL@50_MEAN: 70.243\n",
      "RECALL@100_MEAN: 79.354\n",
      "TIME_SPENT_MEAN: 0.125\n",
      "==103==  2023-Jun-28 12:58:28 \n",
      "Experiment: {'TOPK_RETRIEVER': 300, 'TOPK_RANKER': 0, 'EXPANSOR_CRITERIA': 'join_bm25_sts_30_minilm_indir', 'INDEX_NAME': 'indir_juris_tcu_related_term', 'PIPE': {'PIPE_OBJECT': <haystack.pipelines.standard_pipelines.DocumentSearchPipeline object at 0x7fb613eccf10>, 'RETRIEVER_TYPE': 'bm25', 'RANKER_TYPE': 'none', 'RETRIEVER_MODEL_NAME': ''}, 'COLUMN_NAME': '3'}\n",
      "Experimento envolverá 150 registros, toda a base de dados\n"
     ]
    },
    {
     "name": "stderr",
     "output_type": "stream",
     "text": [
      "100%|██████████| 150/150 [00:18<00:00,  8.03it/s]\n"
     ]
    },
    {
     "name": "stdout",
     "output_type": "stream",
     "text": [
      "COLUMN_NAME: 3\n",
      "COUNT_QUERY_RUN: 150\n",
      "COUNT_QUERY_WITHOUT_RESULT: 0\n",
      "COUNT_QUERY_NOT_FOUND: 1\n",
      "RANK1_MEAN: 11.054\n",
      "NDCG@5_MEAN: 48.573\n",
      "NDCG@10_MEAN: 45.287\n",
      "NDCG@15_MEAN: 47.907\n",
      "NDCG@20_MEAN: 50.281\n",
      "PRECISION@50_MEAN: 11.387\n",
      "PRECISION@100_MEAN: 6.567\n",
      "RECALL@50_MEAN: 67.362\n",
      "RECALL@100_MEAN: 76.792\n",
      "TIME_SPENT_MEAN: 0.125\n",
      "==104==  2023-Jun-28 12:58:47 \n",
      "Experiment: {'TOPK_RETRIEVER': 300, 'TOPK_RANKER': 0, 'EXPANSOR_CRITERIA': 'join_bm25_sts_30_minilm_indir', 'INDEX_NAME': 'indir_juris_tcu_related_term', 'PIPE': {'PIPE_OBJECT': <haystack.pipelines.standard_pipelines.DocumentSearchPipeline object at 0x7fb613eccf10>, 'RETRIEVER_TYPE': 'bm25', 'RANKER_TYPE': 'none', 'RETRIEVER_MODEL_NAME': ''}, 'COLUMN_NAME': '4'}\n",
      "Experimento envolverá 150 registros, toda a base de dados\n"
     ]
    },
    {
     "name": "stderr",
     "output_type": "stream",
     "text": [
      "100%|██████████| 150/150 [00:18<00:00,  8.03it/s]\n"
     ]
    },
    {
     "name": "stdout",
     "output_type": "stream",
     "text": [
      "COLUMN_NAME: 4\n",
      "COUNT_QUERY_RUN: 150\n",
      "COUNT_QUERY_WITHOUT_RESULT: 0\n",
      "COUNT_QUERY_NOT_FOUND: 2\n",
      "RANK1_MEAN: 10.378\n",
      "NDCG@5_MEAN: 47.867\n",
      "NDCG@10_MEAN: 44.65\n",
      "NDCG@15_MEAN: 47.082\n",
      "NDCG@20_MEAN: 49.436\n",
      "PRECISION@50_MEAN: 11.187\n",
      "PRECISION@100_MEAN: 6.453\n",
      "RECALL@50_MEAN: 66.253\n",
      "RECALL@100_MEAN: 75.159\n",
      "TIME_SPENT_MEAN: 0.125\n",
      "==105==  2023-Jun-28 12:59:07 \n",
      "Experiment: {'TOPK_RETRIEVER': 300, 'TOPK_RANKER': 0, 'EXPANSOR_CRITERIA': 'join_bm25_sts_30_minilm_indir', 'INDEX_NAME': 'indir_juris_tcu_related_term', 'PIPE': {'PIPE_OBJECT': <haystack.pipelines.standard_pipelines.DocumentSearchPipeline object at 0x7fb613eccf10>, 'RETRIEVER_TYPE': 'bm25', 'RANKER_TYPE': 'none', 'RETRIEVER_MODEL_NAME': ''}, 'COLUMN_NAME': '5'}\n",
      "Experimento envolverá 150 registros, toda a base de dados\n"
     ]
    },
    {
     "name": "stderr",
     "output_type": "stream",
     "text": [
      "100%|██████████| 150/150 [00:18<00:00,  8.01it/s]\n"
     ]
    },
    {
     "name": "stdout",
     "output_type": "stream",
     "text": [
      "COLUMN_NAME: 5\n",
      "COUNT_QUERY_RUN: 150\n",
      "COUNT_QUERY_WITHOUT_RESULT: 0\n",
      "COUNT_QUERY_NOT_FOUND: 2\n",
      "RANK1_MEAN: 13.115\n",
      "NDCG@5_MEAN: 45.086\n",
      "NDCG@10_MEAN: 42.381\n",
      "NDCG@15_MEAN: 45.001\n",
      "NDCG@20_MEAN: 47.403\n",
      "PRECISION@50_MEAN: 10.907\n",
      "PRECISION@100_MEAN: 6.3\n",
      "RECALL@50_MEAN: 64.824\n",
      "RECALL@100_MEAN: 73.566\n",
      "TIME_SPENT_MEAN: 0.125\n",
      "==106==  2023-Jun-28 12:59:27 \n",
      "Experiment: {'TOPK_RETRIEVER': 300, 'TOPK_RANKER': 0, 'EXPANSOR_CRITERIA': 'join_bm25_sts_30_minilm_indir', 'INDEX_NAME': 'indir_juris_tcu_related_term', 'PIPE': {'PIPE_OBJECT': <haystack.pipelines.standard_pipelines.DocumentSearchPipeline object at 0x7fb613eccf10>, 'RETRIEVER_TYPE': 'bm25', 'RANKER_TYPE': 'none', 'RETRIEVER_MODEL_NAME': ''}, 'COLUMN_NAME': '6'}\n",
      "Experimento envolverá 150 registros, toda a base de dados\n"
     ]
    },
    {
     "name": "stderr",
     "output_type": "stream",
     "text": [
      "100%|██████████| 150/150 [00:18<00:00,  7.97it/s]\n"
     ]
    },
    {
     "name": "stdout",
     "output_type": "stream",
     "text": [
      "COLUMN_NAME: 6\n",
      "COUNT_QUERY_RUN: 150\n",
      "COUNT_QUERY_WITHOUT_RESULT: 0\n",
      "COUNT_QUERY_NOT_FOUND: 2\n",
      "RANK1_MEAN: 12.034\n",
      "NDCG@5_MEAN: 43.579\n",
      "NDCG@10_MEAN: 41.054\n",
      "NDCG@15_MEAN: 43.791\n",
      "NDCG@20_MEAN: 46.241\n",
      "PRECISION@50_MEAN: 10.693\n",
      "PRECISION@100_MEAN: 6.22\n",
      "RECALL@50_MEAN: 63.637\n",
      "RECALL@100_MEAN: 72.923\n",
      "TIME_SPENT_MEAN: 0.125\n",
      "==107==  2023-Jun-28 12:59:47 \n",
      "Experiment: {'TOPK_RETRIEVER': 300, 'TOPK_RANKER': 0, 'EXPANSOR_CRITERIA': 'join_bm25_sts_30_minilm_indir', 'INDEX_NAME': 'indir_juris_tcu_related_term', 'PIPE': {'PIPE_OBJECT': <haystack.pipelines.standard_pipelines.DocumentSearchPipeline object at 0x7fb613eccf10>, 'RETRIEVER_TYPE': 'bm25', 'RANKER_TYPE': 'none', 'RETRIEVER_MODEL_NAME': ''}, 'COLUMN_NAME': '7'}\n",
      "Experimento envolverá 150 registros, toda a base de dados\n"
     ]
    },
    {
     "name": "stderr",
     "output_type": "stream",
     "text": [
      "100%|██████████| 150/150 [00:18<00:00,  7.91it/s]\n"
     ]
    },
    {
     "name": "stdout",
     "output_type": "stream",
     "text": [
      "COLUMN_NAME: 7\n",
      "COUNT_QUERY_RUN: 150\n",
      "COUNT_QUERY_WITHOUT_RESULT: 0\n",
      "COUNT_QUERY_NOT_FOUND: 2\n",
      "RANK1_MEAN: 11.095\n",
      "NDCG@5_MEAN: 42.875\n",
      "NDCG@10_MEAN: 40.841\n",
      "NDCG@15_MEAN: 43.723\n",
      "NDCG@20_MEAN: 46.041\n",
      "PRECISION@50_MEAN: 10.707\n",
      "PRECISION@100_MEAN: 6.26\n",
      "RECALL@50_MEAN: 63.679\n",
      "RECALL@100_MEAN: 73.485\n",
      "TIME_SPENT_MEAN: 0.126\n",
      "==108==  2023-Jun-28 13:00:07 \n",
      "Experiment: {'TOPK_RETRIEVER': 300, 'TOPK_RANKER': 0, 'EXPANSOR_CRITERIA': 'join_bm25_sts_30_minilm_indir', 'INDEX_NAME': 'indir_juris_tcu_related_term', 'PIPE': {'PIPE_OBJECT': <haystack.pipelines.standard_pipelines.DocumentSearchPipeline object at 0x7fb613eccf10>, 'RETRIEVER_TYPE': 'bm25', 'RANKER_TYPE': 'none', 'RETRIEVER_MODEL_NAME': ''}, 'COLUMN_NAME': '8'}\n",
      "Experimento envolverá 150 registros, toda a base de dados\n"
     ]
    },
    {
     "name": "stderr",
     "output_type": "stream",
     "text": [
      "100%|██████████| 150/150 [00:18<00:00,  7.97it/s]\n"
     ]
    },
    {
     "name": "stdout",
     "output_type": "stream",
     "text": [
      "COLUMN_NAME: 8\n",
      "COUNT_QUERY_RUN: 150\n",
      "COUNT_QUERY_WITHOUT_RESULT: 0\n",
      "COUNT_QUERY_NOT_FOUND: 2\n",
      "RANK1_MEAN: 11.419\n",
      "NDCG@5_MEAN: 41.096\n",
      "NDCG@10_MEAN: 39.387\n",
      "NDCG@15_MEAN: 42.402\n",
      "NDCG@20_MEAN: 44.821\n",
      "PRECISION@50_MEAN: 10.56\n",
      "PRECISION@100_MEAN: 6.213\n",
      "RECALL@50_MEAN: 63.04\n",
      "RECALL@100_MEAN: 72.867\n",
      "TIME_SPENT_MEAN: 0.125\n",
      "==109==  2023-Jun-28 13:00:27 \n",
      "Experiment: {'TOPK_RETRIEVER': 300, 'TOPK_RANKER': 0, 'EXPANSOR_CRITERIA': 'join_bm25_sts_30_minilm_indir', 'INDEX_NAME': 'indir_juris_tcu_related_term', 'PIPE': {'PIPE_OBJECT': <haystack.pipelines.standard_pipelines.DocumentSearchPipeline object at 0x7fb613eccf10>, 'RETRIEVER_TYPE': 'bm25', 'RANKER_TYPE': 'none', 'RETRIEVER_MODEL_NAME': ''}, 'COLUMN_NAME': '9'}\n",
      "Experimento envolverá 150 registros, toda a base de dados\n"
     ]
    },
    {
     "name": "stderr",
     "output_type": "stream",
     "text": [
      "100%|██████████| 150/150 [00:18<00:00,  7.93it/s]\n"
     ]
    },
    {
     "name": "stdout",
     "output_type": "stream",
     "text": [
      "COLUMN_NAME: 9\n",
      "COUNT_QUERY_RUN: 150\n",
      "COUNT_QUERY_WITHOUT_RESULT: 0\n",
      "COUNT_QUERY_NOT_FOUND: 2\n",
      "RANK1_MEAN: 11.466\n",
      "NDCG@5_MEAN: 40.475\n",
      "NDCG@10_MEAN: 38.537\n",
      "NDCG@15_MEAN: 41.345\n",
      "NDCG@20_MEAN: 43.921\n",
      "PRECISION@50_MEAN: 10.52\n",
      "PRECISION@100_MEAN: 6.193\n",
      "RECALL@50_MEAN: 62.938\n",
      "RECALL@100_MEAN: 72.685\n",
      "TIME_SPENT_MEAN: 0.126\n",
      "==110==  2023-Jun-28 13:00:47 \n",
      "Experiment: {'TOPK_RETRIEVER': 300, 'TOPK_RANKER': 0, 'EXPANSOR_CRITERIA': '', 'INDEX_NAME': 'indir_juris_tcu_related_term', 'PIPE': {'PIPE_OBJECT': <haystack.pipelines.standard_pipelines.DocumentSearchPipeline object at 0x7fb613eccf10>, 'RETRIEVER_TYPE': 'bm25', 'RANKER_TYPE': 'none', 'RETRIEVER_MODEL_NAME': ''}, 'COLUMN_NAME': 'TEXT'}\n",
      "Experimento envolverá 150 registros, toda a base de dados\n"
     ]
    },
    {
     "name": "stderr",
     "output_type": "stream",
     "text": [
      "100%|██████████| 150/150 [00:18<00:00,  8.11it/s]\n"
     ]
    },
    {
     "name": "stdout",
     "output_type": "stream",
     "text": [
      "COLUMN_NAME: TEXT\n",
      "COUNT_QUERY_RUN: 150\n",
      "COUNT_QUERY_WITHOUT_RESULT: 0\n",
      "COUNT_QUERY_NOT_FOUND: 0\n",
      "RANK1_MEAN: 4.187\n",
      "NDCG@5_MEAN: 54.735\n",
      "NDCG@10_MEAN: 51.054\n",
      "NDCG@15_MEAN: 53.283\n",
      "NDCG@20_MEAN: 56.303\n",
      "PRECISION@50_MEAN: 12.573\n",
      "PRECISION@100_MEAN: 7.093\n",
      "RECALL@50_MEAN: 73.56\n",
      "RECALL@100_MEAN: 82.393\n",
      "TIME_SPENT_MEAN: 0.123\n",
      "==111==  2023-Jun-28 13:01:06 \n",
      "Experiment: {'TOPK_RETRIEVER': 300, 'TOPK_RANKER': 0, 'EXPANSOR_CRITERIA': 'join_bm25_sts_30_minilm_indir', 'INDEX_NAME': 'indir_juris_tcu_related_term', 'PIPE': {'PIPE_OBJECT': <haystack.pipelines.base.Pipeline object at 0x7fb60ac864d0>, 'RETRIEVER_TYPE': 'bm25', 'RANKER_TYPE': 'MINILM_INDIR_400', 'RETRIEVER_MODEL_NAME': ''}, 'COLUMN_NAME': '1'}\n",
      "Experimento envolverá 150 registros, toda a base de dados\n"
     ]
    },
    {
     "name": "stderr",
     "output_type": "stream",
     "text": [
      "100%|██████████| 150/150 [02:15<00:00,  1.11it/s]\n"
     ]
    },
    {
     "name": "stdout",
     "output_type": "stream",
     "text": [
      "COLUMN_NAME: 1\n",
      "COUNT_QUERY_RUN: 150\n",
      "COUNT_QUERY_WITHOUT_RESULT: 0\n",
      "COUNT_QUERY_NOT_FOUND: 1\n",
      "RANK1_MEAN: 13.074\n",
      "NDCG@5_MEAN: 24.05\n",
      "NDCG@10_MEAN: 23.782\n",
      "NDCG@15_MEAN: 25.882\n",
      "NDCG@20_MEAN: 28.008\n",
      "PRECISION@50_MEAN: 8.867\n",
      "PRECISION@100_MEAN: 5.793\n",
      "RECALL@50_MEAN: 51.693\n",
      "RECALL@100_MEAN: 67.443\n",
      "TIME_SPENT_MEAN: 0.903\n",
      "==112==  2023-Jun-28 13:03:23 \n",
      "Experiment: {'TOPK_RETRIEVER': 300, 'TOPK_RANKER': 0, 'EXPANSOR_CRITERIA': 'join_bm25_sts_30_minilm_indir', 'INDEX_NAME': 'indir_juris_tcu_related_term', 'PIPE': {'PIPE_OBJECT': <haystack.pipelines.base.Pipeline object at 0x7fb60ac864d0>, 'RETRIEVER_TYPE': 'bm25', 'RANKER_TYPE': 'MINILM_INDIR_400', 'RETRIEVER_MODEL_NAME': ''}, 'COLUMN_NAME': '10'}\n",
      "Experimento envolverá 150 registros, toda a base de dados\n"
     ]
    },
    {
     "name": "stderr",
     "output_type": "stream",
     "text": [
      "100%|██████████| 150/150 [02:22<00:00,  1.05it/s]\n"
     ]
    },
    {
     "name": "stdout",
     "output_type": "stream",
     "text": [
      "COLUMN_NAME: 10\n",
      "COUNT_QUERY_RUN: 150\n",
      "COUNT_QUERY_WITHOUT_RESULT: 0\n",
      "COUNT_QUERY_NOT_FOUND: 2\n",
      "RANK1_MEAN: 12.926\n",
      "NDCG@5_MEAN: 28.864\n",
      "NDCG@10_MEAN: 26.922\n",
      "NDCG@15_MEAN: 29.222\n",
      "NDCG@20_MEAN: 31.461\n",
      "PRECISION@50_MEAN: 8.88\n",
      "PRECISION@100_MEAN: 5.647\n",
      "RECALL@50_MEAN: 52.6\n",
      "RECALL@100_MEAN: 66.291\n",
      "TIME_SPENT_MEAN: 0.952\n",
      "==113==  2023-Jun-28 13:05:47 \n",
      "Experiment: {'TOPK_RETRIEVER': 300, 'TOPK_RANKER': 0, 'EXPANSOR_CRITERIA': 'join_bm25_sts_30_minilm_indir', 'INDEX_NAME': 'indir_juris_tcu_related_term', 'PIPE': {'PIPE_OBJECT': <haystack.pipelines.base.Pipeline object at 0x7fb60ac864d0>, 'RETRIEVER_TYPE': 'bm25', 'RANKER_TYPE': 'MINILM_INDIR_400', 'RETRIEVER_MODEL_NAME': ''}, 'COLUMN_NAME': '2'}\n",
      "Experimento envolverá 150 registros, toda a base de dados\n"
     ]
    },
    {
     "name": "stderr",
     "output_type": "stream",
     "text": [
      "100%|██████████| 150/150 [02:17<00:00,  1.09it/s]\n"
     ]
    },
    {
     "name": "stdout",
     "output_type": "stream",
     "text": [
      "COLUMN_NAME: 2\n",
      "COUNT_QUERY_RUN: 150\n",
      "COUNT_QUERY_WITHOUT_RESULT: 0\n",
      "COUNT_QUERY_NOT_FOUND: 2\n",
      "RANK1_MEAN: 14.081\n",
      "NDCG@5_MEAN: 26.248\n",
      "NDCG@10_MEAN: 24.753\n",
      "NDCG@15_MEAN: 26.516\n",
      "NDCG@20_MEAN: 28.385\n",
      "PRECISION@50_MEAN: 8.693\n",
      "PRECISION@100_MEAN: 5.693\n",
      "RECALL@50_MEAN: 50.978\n",
      "RECALL@100_MEAN: 66.056\n",
      "TIME_SPENT_MEAN: 0.915\n",
      "==114==  2023-Jun-28 13:08:06 \n",
      "Experiment: {'TOPK_RETRIEVER': 300, 'TOPK_RANKER': 0, 'EXPANSOR_CRITERIA': 'join_bm25_sts_30_minilm_indir', 'INDEX_NAME': 'indir_juris_tcu_related_term', 'PIPE': {'PIPE_OBJECT': <haystack.pipelines.base.Pipeline object at 0x7fb60ac864d0>, 'RETRIEVER_TYPE': 'bm25', 'RANKER_TYPE': 'MINILM_INDIR_400', 'RETRIEVER_MODEL_NAME': ''}, 'COLUMN_NAME': '3'}\n",
      "Experimento envolverá 150 registros, toda a base de dados\n"
     ]
    },
    {
     "name": "stderr",
     "output_type": "stream",
     "text": [
      "100%|██████████| 150/150 [02:18<00:00,  1.08it/s]\n"
     ]
    },
    {
     "name": "stdout",
     "output_type": "stream",
     "text": [
      "COLUMN_NAME: 3\n",
      "COUNT_QUERY_RUN: 150\n",
      "COUNT_QUERY_WITHOUT_RESULT: 0\n",
      "COUNT_QUERY_NOT_FOUND: 1\n",
      "RANK1_MEAN: 14.993\n",
      "NDCG@5_MEAN: 27.51\n",
      "NDCG@10_MEAN: 25.575\n",
      "NDCG@15_MEAN: 28.242\n",
      "NDCG@20_MEAN: 30.312\n",
      "PRECISION@50_MEAN: 8.907\n",
      "PRECISION@100_MEAN: 5.753\n",
      "RECALL@50_MEAN: 52.684\n",
      "RECALL@100_MEAN: 66.824\n",
      "TIME_SPENT_MEAN: 0.923\n",
      "==115==  2023-Jun-28 13:10:25 \n",
      "Experiment: {'TOPK_RETRIEVER': 300, 'TOPK_RANKER': 0, 'EXPANSOR_CRITERIA': 'join_bm25_sts_30_minilm_indir', 'INDEX_NAME': 'indir_juris_tcu_related_term', 'PIPE': {'PIPE_OBJECT': <haystack.pipelines.base.Pipeline object at 0x7fb60ac864d0>, 'RETRIEVER_TYPE': 'bm25', 'RANKER_TYPE': 'MINILM_INDIR_400', 'RETRIEVER_MODEL_NAME': ''}, 'COLUMN_NAME': '4'}\n",
      "Experimento envolverá 150 registros, toda a base de dados\n"
     ]
    },
    {
     "name": "stderr",
     "output_type": "stream",
     "text": [
      "100%|██████████| 150/150 [02:19<00:00,  1.08it/s]\n"
     ]
    },
    {
     "name": "stdout",
     "output_type": "stream",
     "text": [
      "COLUMN_NAME: 4\n",
      "COUNT_QUERY_RUN: 150\n",
      "COUNT_QUERY_WITHOUT_RESULT: 0\n",
      "COUNT_QUERY_NOT_FOUND: 2\n",
      "RANK1_MEAN: 14.095\n",
      "NDCG@5_MEAN: 29.472\n",
      "NDCG@10_MEAN: 27.216\n",
      "NDCG@15_MEAN: 29.381\n",
      "NDCG@20_MEAN: 31.913\n",
      "PRECISION@50_MEAN: 9.013\n",
      "PRECISION@100_MEAN: 5.767\n",
      "RECALL@50_MEAN: 53.677\n",
      "RECALL@100_MEAN: 67.552\n",
      "TIME_SPENT_MEAN: 0.928\n",
      "==116==  2023-Jun-28 13:12:45 \n",
      "Experiment: {'TOPK_RETRIEVER': 300, 'TOPK_RANKER': 0, 'EXPANSOR_CRITERIA': 'join_bm25_sts_30_minilm_indir', 'INDEX_NAME': 'indir_juris_tcu_related_term', 'PIPE': {'PIPE_OBJECT': <haystack.pipelines.base.Pipeline object at 0x7fb60ac864d0>, 'RETRIEVER_TYPE': 'bm25', 'RANKER_TYPE': 'MINILM_INDIR_400', 'RETRIEVER_MODEL_NAME': ''}, 'COLUMN_NAME': '5'}\n",
      "Experimento envolverá 150 registros, toda a base de dados\n"
     ]
    },
    {
     "name": "stderr",
     "output_type": "stream",
     "text": [
      "100%|██████████| 150/150 [02:20<00:00,  1.07it/s]\n"
     ]
    },
    {
     "name": "stdout",
     "output_type": "stream",
     "text": [
      "COLUMN_NAME: 5\n",
      "COUNT_QUERY_RUN: 150\n",
      "COUNT_QUERY_WITHOUT_RESULT: 0\n",
      "COUNT_QUERY_NOT_FOUND: 2\n",
      "RANK1_MEAN: 13.209\n",
      "NDCG@5_MEAN: 30.501\n",
      "NDCG@10_MEAN: 28.441\n",
      "NDCG@15_MEAN: 30.75\n",
      "NDCG@20_MEAN: 33.176\n",
      "PRECISION@50_MEAN: 8.72\n",
      "PRECISION@100_MEAN: 5.627\n",
      "RECALL@50_MEAN: 52.154\n",
      "RECALL@100_MEAN: 65.831\n",
      "TIME_SPENT_MEAN: 0.934\n",
      "==117==  2023-Jun-28 13:15:07 \n",
      "Experiment: {'TOPK_RETRIEVER': 300, 'TOPK_RANKER': 0, 'EXPANSOR_CRITERIA': 'join_bm25_sts_30_minilm_indir', 'INDEX_NAME': 'indir_juris_tcu_related_term', 'PIPE': {'PIPE_OBJECT': <haystack.pipelines.base.Pipeline object at 0x7fb60ac864d0>, 'RETRIEVER_TYPE': 'bm25', 'RANKER_TYPE': 'MINILM_INDIR_400', 'RETRIEVER_MODEL_NAME': ''}, 'COLUMN_NAME': '6'}\n",
      "Experimento envolverá 150 registros, toda a base de dados\n"
     ]
    },
    {
     "name": "stderr",
     "output_type": "stream",
     "text": [
      "100%|██████████| 150/150 [02:20<00:00,  1.07it/s]\n"
     ]
    },
    {
     "name": "stdout",
     "output_type": "stream",
     "text": [
      "COLUMN_NAME: 6\n",
      "COUNT_QUERY_RUN: 150\n",
      "COUNT_QUERY_WITHOUT_RESULT: 0\n",
      "COUNT_QUERY_NOT_FOUND: 2\n",
      "RANK1_MEAN: 13.912\n",
      "NDCG@5_MEAN: 29.273\n",
      "NDCG@10_MEAN: 27.759\n",
      "NDCG@15_MEAN: 29.95\n",
      "NDCG@20_MEAN: 32.233\n",
      "PRECISION@50_MEAN: 8.8\n",
      "PRECISION@100_MEAN: 5.653\n",
      "RECALL@50_MEAN: 51.722\n",
      "RECALL@100_MEAN: 66.249\n",
      "TIME_SPENT_MEAN: 0.936\n",
      "==118==  2023-Jun-28 13:17:28 \n",
      "Experiment: {'TOPK_RETRIEVER': 300, 'TOPK_RANKER': 0, 'EXPANSOR_CRITERIA': 'join_bm25_sts_30_minilm_indir', 'INDEX_NAME': 'indir_juris_tcu_related_term', 'PIPE': {'PIPE_OBJECT': <haystack.pipelines.base.Pipeline object at 0x7fb60ac864d0>, 'RETRIEVER_TYPE': 'bm25', 'RANKER_TYPE': 'MINILM_INDIR_400', 'RETRIEVER_MODEL_NAME': ''}, 'COLUMN_NAME': '7'}\n",
      "Experimento envolverá 150 registros, toda a base de dados\n"
     ]
    },
    {
     "name": "stderr",
     "output_type": "stream",
     "text": [
      "100%|██████████| 150/150 [02:21<00:00,  1.06it/s]\n"
     ]
    },
    {
     "name": "stdout",
     "output_type": "stream",
     "text": [
      "COLUMN_NAME: 7\n",
      "COUNT_QUERY_RUN: 150\n",
      "COUNT_QUERY_WITHOUT_RESULT: 0\n",
      "COUNT_QUERY_NOT_FOUND: 2\n",
      "RANK1_MEAN: 12.932\n",
      "NDCG@5_MEAN: 28.23\n",
      "NDCG@10_MEAN: 26.816\n",
      "NDCG@15_MEAN: 29.35\n",
      "NDCG@20_MEAN: 31.515\n",
      "PRECISION@50_MEAN: 8.84\n",
      "PRECISION@100_MEAN: 5.627\n",
      "RECALL@50_MEAN: 52.814\n",
      "RECALL@100_MEAN: 66.11\n",
      "TIME_SPENT_MEAN: 0.941\n",
      "==119==  2023-Jun-28 13:19:51 \n",
      "Experiment: {'TOPK_RETRIEVER': 300, 'TOPK_RANKER': 0, 'EXPANSOR_CRITERIA': 'join_bm25_sts_30_minilm_indir', 'INDEX_NAME': 'indir_juris_tcu_related_term', 'PIPE': {'PIPE_OBJECT': <haystack.pipelines.base.Pipeline object at 0x7fb60ac864d0>, 'RETRIEVER_TYPE': 'bm25', 'RANKER_TYPE': 'MINILM_INDIR_400', 'RETRIEVER_MODEL_NAME': ''}, 'COLUMN_NAME': '8'}\n",
      "Experimento envolverá 150 registros, toda a base de dados\n"
     ]
    },
    {
     "name": "stderr",
     "output_type": "stream",
     "text": [
      "100%|██████████| 150/150 [02:22<00:00,  1.05it/s]\n"
     ]
    },
    {
     "name": "stdout",
     "output_type": "stream",
     "text": [
      "COLUMN_NAME: 8\n",
      "COUNT_QUERY_RUN: 150\n",
      "COUNT_QUERY_WITHOUT_RESULT: 0\n",
      "COUNT_QUERY_NOT_FOUND: 2\n",
      "RANK1_MEAN: 12.432\n",
      "NDCG@5_MEAN: 28.93\n",
      "NDCG@10_MEAN: 26.79\n",
      "NDCG@15_MEAN: 29.19\n",
      "NDCG@20_MEAN: 31.73\n",
      "PRECISION@50_MEAN: 8.973\n",
      "PRECISION@100_MEAN: 5.62\n",
      "RECALL@50_MEAN: 53.722\n",
      "RECALL@100_MEAN: 65.932\n",
      "TIME_SPENT_MEAN: 0.949\n",
      "==120==  2023-Jun-28 13:22:14 \n",
      "Experiment: {'TOPK_RETRIEVER': 300, 'TOPK_RANKER': 0, 'EXPANSOR_CRITERIA': 'join_bm25_sts_30_minilm_indir', 'INDEX_NAME': 'indir_juris_tcu_related_term', 'PIPE': {'PIPE_OBJECT': <haystack.pipelines.base.Pipeline object at 0x7fb60ac864d0>, 'RETRIEVER_TYPE': 'bm25', 'RANKER_TYPE': 'MINILM_INDIR_400', 'RETRIEVER_MODEL_NAME': ''}, 'COLUMN_NAME': '9'}\n",
      "Experimento envolverá 150 registros, toda a base de dados\n"
     ]
    },
    {
     "name": "stderr",
     "output_type": "stream",
     "text": [
      "100%|██████████| 150/150 [02:22<00:00,  1.05it/s]\n"
     ]
    },
    {
     "name": "stdout",
     "output_type": "stream",
     "text": [
      "COLUMN_NAME: 9\n",
      "COUNT_QUERY_RUN: 150\n",
      "COUNT_QUERY_WITHOUT_RESULT: 0\n",
      "COUNT_QUERY_NOT_FOUND: 2\n",
      "RANK1_MEAN: 12.257\n",
      "NDCG@5_MEAN: 28.952\n",
      "NDCG@10_MEAN: 27.172\n",
      "NDCG@15_MEAN: 29.191\n",
      "NDCG@20_MEAN: 31.521\n",
      "PRECISION@50_MEAN: 8.867\n",
      "PRECISION@100_MEAN: 5.62\n",
      "RECALL@50_MEAN: 53.065\n",
      "RECALL@100_MEAN: 65.972\n",
      "TIME_SPENT_MEAN: 0.95\n",
      "==121==  2023-Jun-28 13:24:38 \n",
      "Experiment: {'TOPK_RETRIEVER': 300, 'TOPK_RANKER': 0, 'EXPANSOR_CRITERIA': '', 'INDEX_NAME': 'indir_juris_tcu_related_term', 'PIPE': {'PIPE_OBJECT': <haystack.pipelines.base.Pipeline object at 0x7fb60ac864d0>, 'RETRIEVER_TYPE': 'bm25', 'RANKER_TYPE': 'MINILM_INDIR_400', 'RETRIEVER_MODEL_NAME': ''}, 'COLUMN_NAME': 'TEXT'}\n",
      "Experimento envolverá 150 registros, toda a base de dados\n"
     ]
    },
    {
     "name": "stderr",
     "output_type": "stream",
     "text": [
      "100%|██████████| 150/150 [02:15<00:00,  1.10it/s]\n"
     ]
    },
    {
     "name": "stdout",
     "output_type": "stream",
     "text": [
      "COLUMN_NAME: TEXT\n",
      "COUNT_QUERY_RUN: 150\n",
      "COUNT_QUERY_WITHOUT_RESULT: 0\n",
      "COUNT_QUERY_NOT_FOUND: 0\n",
      "RANK1_MEAN: 11.94\n",
      "NDCG@5_MEAN: 22.381\n",
      "NDCG@10_MEAN: 23.143\n",
      "NDCG@15_MEAN: 24.975\n",
      "NDCG@20_MEAN: 27.045\n",
      "PRECISION@50_MEAN: 9.147\n",
      "PRECISION@100_MEAN: 5.953\n",
      "RECALL@50_MEAN: 53.745\n",
      "RECALL@100_MEAN: 69.059\n",
      "TIME_SPENT_MEAN: 0.906\n",
      "==122==  2023-Jun-28 13:26:55 \n",
      "Experiment: {'TOPK_RETRIEVER': 300, 'TOPK_RANKER': 0, 'EXPANSOR_CRITERIA': 'join_bm25_sts_30_minilm_indir', 'INDEX_NAME': 'indir_juris_tcu_related_term', 'PIPE': {'PIPE_OBJECT': <haystack.pipelines.base.Pipeline object at 0x7fb614019650>, 'RETRIEVER_TYPE': 'sts', 'RANKER_TYPE': 'MINILM_INDIR_400', 'RETRIEVER_MODEL_NAME': ''}, 'COLUMN_NAME': '1'}\n",
      "Experimento envolverá 150 registros, toda a base de dados\n"
     ]
    },
    {
     "name": "stderr",
     "output_type": "stream",
     "text": [
      "100%|██████████| 150/150 [02:14<00:00,  1.11it/s]\n"
     ]
    },
    {
     "name": "stdout",
     "output_type": "stream",
     "text": [
      "COLUMN_NAME: 1\n",
      "COUNT_QUERY_RUN: 150\n",
      "COUNT_QUERY_WITHOUT_RESULT: 0\n",
      "COUNT_QUERY_NOT_FOUND: 11\n",
      "RANK1_MEAN: 8.755\n",
      "NDCG@5_MEAN: 24.52\n",
      "NDCG@10_MEAN: 23.351\n",
      "NDCG@15_MEAN: 25.06\n",
      "NDCG@20_MEAN: 26.99\n",
      "PRECISION@50_MEAN: 7.4\n",
      "PRECISION@100_MEAN: 4.5\n",
      "RECALL@50_MEAN: 43.512\n",
      "RECALL@100_MEAN: 52.57\n",
      "TIME_SPENT_MEAN: 0.899\n",
      "==123==  2023-Jun-28 13:29:11 \n",
      "Experiment: {'TOPK_RETRIEVER': 300, 'TOPK_RANKER': 0, 'EXPANSOR_CRITERIA': 'join_bm25_sts_30_minilm_indir', 'INDEX_NAME': 'indir_juris_tcu_related_term', 'PIPE': {'PIPE_OBJECT': <haystack.pipelines.base.Pipeline object at 0x7fb614019650>, 'RETRIEVER_TYPE': 'sts', 'RANKER_TYPE': 'MINILM_INDIR_400', 'RETRIEVER_MODEL_NAME': ''}, 'COLUMN_NAME': '10'}\n",
      "Experimento envolverá 150 registros, toda a base de dados\n"
     ]
    },
    {
     "name": "stderr",
     "output_type": "stream",
     "text": [
      "100%|██████████| 150/150 [02:21<00:00,  1.06it/s]\n"
     ]
    },
    {
     "name": "stdout",
     "output_type": "stream",
     "text": [
      "COLUMN_NAME: 10\n",
      "COUNT_QUERY_RUN: 150\n",
      "COUNT_QUERY_WITHOUT_RESULT: 0\n",
      "COUNT_QUERY_NOT_FOUND: 8\n",
      "RANK1_MEAN: 7.613\n",
      "NDCG@5_MEAN: 31.254\n",
      "NDCG@10_MEAN: 29.957\n",
      "NDCG@15_MEAN: 32.103\n",
      "NDCG@20_MEAN: 33.989\n",
      "PRECISION@50_MEAN: 8.253\n",
      "PRECISION@100_MEAN: 4.713\n",
      "RECALL@50_MEAN: 48.625\n",
      "RECALL@100_MEAN: 56.319\n",
      "TIME_SPENT_MEAN: 0.946\n",
      "==124==  2023-Jun-28 13:31:34 \n",
      "Experiment: {'TOPK_RETRIEVER': 300, 'TOPK_RANKER': 0, 'EXPANSOR_CRITERIA': 'join_bm25_sts_30_minilm_indir', 'INDEX_NAME': 'indir_juris_tcu_related_term', 'PIPE': {'PIPE_OBJECT': <haystack.pipelines.base.Pipeline object at 0x7fb614019650>, 'RETRIEVER_TYPE': 'sts', 'RANKER_TYPE': 'MINILM_INDIR_400', 'RETRIEVER_MODEL_NAME': ''}, 'COLUMN_NAME': '2'}\n",
      "Experimento envolverá 150 registros, toda a base de dados\n"
     ]
    },
    {
     "name": "stderr",
     "output_type": "stream",
     "text": [
      "100%|██████████| 150/150 [02:16<00:00,  1.10it/s]\n"
     ]
    },
    {
     "name": "stdout",
     "output_type": "stream",
     "text": [
      "COLUMN_NAME: 2\n",
      "COUNT_QUERY_RUN: 150\n",
      "COUNT_QUERY_WITHOUT_RESULT: 0\n",
      "COUNT_QUERY_NOT_FOUND: 11\n",
      "RANK1_MEAN: 10.561\n",
      "NDCG@5_MEAN: 25.684\n",
      "NDCG@10_MEAN: 25.004\n",
      "NDCG@15_MEAN: 27.009\n",
      "NDCG@20_MEAN: 28.726\n",
      "PRECISION@50_MEAN: 8.053\n",
      "PRECISION@100_MEAN: 4.7\n",
      "RECALL@50_MEAN: 46.799\n",
      "RECALL@100_MEAN: 54.274\n",
      "TIME_SPENT_MEAN: 0.907\n",
      "==125==  2023-Jun-28 13:33:51 \n",
      "Experiment: {'TOPK_RETRIEVER': 300, 'TOPK_RANKER': 0, 'EXPANSOR_CRITERIA': 'join_bm25_sts_30_minilm_indir', 'INDEX_NAME': 'indir_juris_tcu_related_term', 'PIPE': {'PIPE_OBJECT': <haystack.pipelines.base.Pipeline object at 0x7fb614019650>, 'RETRIEVER_TYPE': 'sts', 'RANKER_TYPE': 'MINILM_INDIR_400', 'RETRIEVER_MODEL_NAME': ''}, 'COLUMN_NAME': '3'}\n",
      "Experimento envolverá 150 registros, toda a base de dados\n"
     ]
    },
    {
     "name": "stderr",
     "output_type": "stream",
     "text": [
      "100%|██████████| 150/150 [02:16<00:00,  1.10it/s]\n"
     ]
    },
    {
     "name": "stdout",
     "output_type": "stream",
     "text": [
      "COLUMN_NAME: 3\n",
      "COUNT_QUERY_RUN: 150\n",
      "COUNT_QUERY_WITHOUT_RESULT: 0\n",
      "COUNT_QUERY_NOT_FOUND: 8\n",
      "RANK1_MEAN: 8.359\n",
      "NDCG@5_MEAN: 30.035\n",
      "NDCG@10_MEAN: 28.298\n",
      "NDCG@15_MEAN: 30.358\n",
      "NDCG@20_MEAN: 31.918\n",
      "PRECISION@50_MEAN: 8.173\n",
      "PRECISION@100_MEAN: 4.847\n",
      "RECALL@50_MEAN: 48.247\n",
      "RECALL@100_MEAN: 56.26\n",
      "TIME_SPENT_MEAN: 0.912\n",
      "==126==  2023-Jun-28 13:36:09 \n",
      "Experiment: {'TOPK_RETRIEVER': 300, 'TOPK_RANKER': 0, 'EXPANSOR_CRITERIA': 'join_bm25_sts_30_minilm_indir', 'INDEX_NAME': 'indir_juris_tcu_related_term', 'PIPE': {'PIPE_OBJECT': <haystack.pipelines.base.Pipeline object at 0x7fb614019650>, 'RETRIEVER_TYPE': 'sts', 'RANKER_TYPE': 'MINILM_INDIR_400', 'RETRIEVER_MODEL_NAME': ''}, 'COLUMN_NAME': '4'}\n",
      "Experimento envolverá 150 registros, toda a base de dados\n"
     ]
    },
    {
     "name": "stderr",
     "output_type": "stream",
     "text": [
      "100%|██████████| 150/150 [02:17<00:00,  1.09it/s]\n"
     ]
    },
    {
     "name": "stdout",
     "output_type": "stream",
     "text": [
      "COLUMN_NAME: 4\n",
      "COUNT_QUERY_RUN: 150\n",
      "COUNT_QUERY_WITHOUT_RESULT: 0\n",
      "COUNT_QUERY_NOT_FOUND: 8\n",
      "RANK1_MEAN: 9.246\n",
      "NDCG@5_MEAN: 31.407\n",
      "NDCG@10_MEAN: 29.203\n",
      "NDCG@15_MEAN: 31.217\n",
      "NDCG@20_MEAN: 32.986\n",
      "PRECISION@50_MEAN: 8.213\n",
      "PRECISION@100_MEAN: 4.773\n",
      "RECALL@50_MEAN: 48.533\n",
      "RECALL@100_MEAN: 55.791\n",
      "TIME_SPENT_MEAN: 0.919\n",
      "==127==  2023-Jun-28 13:38:29 \n",
      "Experiment: {'TOPK_RETRIEVER': 300, 'TOPK_RANKER': 0, 'EXPANSOR_CRITERIA': 'join_bm25_sts_30_minilm_indir', 'INDEX_NAME': 'indir_juris_tcu_related_term', 'PIPE': {'PIPE_OBJECT': <haystack.pipelines.base.Pipeline object at 0x7fb614019650>, 'RETRIEVER_TYPE': 'sts', 'RANKER_TYPE': 'MINILM_INDIR_400', 'RETRIEVER_MODEL_NAME': ''}, 'COLUMN_NAME': '5'}\n",
      "Experimento envolverá 150 registros, toda a base de dados\n"
     ]
    },
    {
     "name": "stderr",
     "output_type": "stream",
     "text": [
      "100%|██████████| 150/150 [02:19<00:00,  1.07it/s]\n"
     ]
    },
    {
     "name": "stdout",
     "output_type": "stream",
     "text": [
      "COLUMN_NAME: 5\n",
      "COUNT_QUERY_RUN: 150\n",
      "COUNT_QUERY_WITHOUT_RESULT: 0\n",
      "COUNT_QUERY_NOT_FOUND: 7\n",
      "RANK1_MEAN: 8.133\n",
      "NDCG@5_MEAN: 33.373\n",
      "NDCG@10_MEAN: 30.719\n",
      "NDCG@15_MEAN: 32.77\n",
      "NDCG@20_MEAN: 34.568\n",
      "PRECISION@50_MEAN: 8.147\n",
      "PRECISION@100_MEAN: 4.707\n",
      "RECALL@50_MEAN: 47.987\n",
      "RECALL@100_MEAN: 54.909\n",
      "TIME_SPENT_MEAN: 0.931\n",
      "==128==  2023-Jun-28 13:40:50 \n",
      "Experiment: {'TOPK_RETRIEVER': 300, 'TOPK_RANKER': 0, 'EXPANSOR_CRITERIA': 'join_bm25_sts_30_minilm_indir', 'INDEX_NAME': 'indir_juris_tcu_related_term', 'PIPE': {'PIPE_OBJECT': <haystack.pipelines.base.Pipeline object at 0x7fb614019650>, 'RETRIEVER_TYPE': 'sts', 'RANKER_TYPE': 'MINILM_INDIR_400', 'RETRIEVER_MODEL_NAME': ''}, 'COLUMN_NAME': '6'}\n",
      "Experimento envolverá 150 registros, toda a base de dados\n"
     ]
    },
    {
     "name": "stderr",
     "output_type": "stream",
     "text": [
      "100%|██████████| 150/150 [02:20<00:00,  1.07it/s]\n"
     ]
    },
    {
     "name": "stdout",
     "output_type": "stream",
     "text": [
      "COLUMN_NAME: 6\n",
      "COUNT_QUERY_RUN: 150\n",
      "COUNT_QUERY_WITHOUT_RESULT: 0\n",
      "COUNT_QUERY_NOT_FOUND: 8\n",
      "RANK1_MEAN: 9.535\n",
      "NDCG@5_MEAN: 31.902\n",
      "NDCG@10_MEAN: 30.059\n",
      "NDCG@15_MEAN: 32.277\n",
      "NDCG@20_MEAN: 33.948\n",
      "PRECISION@50_MEAN: 8.147\n",
      "PRECISION@100_MEAN: 4.653\n",
      "RECALL@50_MEAN: 48.665\n",
      "RECALL@100_MEAN: 54.996\n",
      "TIME_SPENT_MEAN: 0.935\n",
      "==129==  2023-Jun-28 13:43:11 \n",
      "Experiment: {'TOPK_RETRIEVER': 300, 'TOPK_RANKER': 0, 'EXPANSOR_CRITERIA': 'join_bm25_sts_30_minilm_indir', 'INDEX_NAME': 'indir_juris_tcu_related_term', 'PIPE': {'PIPE_OBJECT': <haystack.pipelines.base.Pipeline object at 0x7fb614019650>, 'RETRIEVER_TYPE': 'sts', 'RANKER_TYPE': 'MINILM_INDIR_400', 'RETRIEVER_MODEL_NAME': ''}, 'COLUMN_NAME': '7'}\n",
      "Experimento envolverá 150 registros, toda a base de dados\n"
     ]
    },
    {
     "name": "stderr",
     "output_type": "stream",
     "text": [
      "100%|██████████| 150/150 [02:20<00:00,  1.07it/s]\n"
     ]
    },
    {
     "name": "stdout",
     "output_type": "stream",
     "text": [
      "COLUMN_NAME: 7\n",
      "COUNT_QUERY_RUN: 150\n",
      "COUNT_QUERY_WITHOUT_RESULT: 0\n",
      "COUNT_QUERY_NOT_FOUND: 7\n",
      "RANK1_MEAN: 7.524\n",
      "NDCG@5_MEAN: 31.407\n",
      "NDCG@10_MEAN: 29.841\n",
      "NDCG@15_MEAN: 32.495\n",
      "NDCG@20_MEAN: 34.37\n",
      "PRECISION@50_MEAN: 8.373\n",
      "PRECISION@100_MEAN: 4.74\n",
      "RECALL@50_MEAN: 49.681\n",
      "RECALL@100_MEAN: 55.96\n",
      "TIME_SPENT_MEAN: 0.938\n",
      "==130==  2023-Jun-28 13:45:33 \n",
      "Experiment: {'TOPK_RETRIEVER': 300, 'TOPK_RANKER': 0, 'EXPANSOR_CRITERIA': 'join_bm25_sts_30_minilm_indir', 'INDEX_NAME': 'indir_juris_tcu_related_term', 'PIPE': {'PIPE_OBJECT': <haystack.pipelines.base.Pipeline object at 0x7fb614019650>, 'RETRIEVER_TYPE': 'sts', 'RANKER_TYPE': 'MINILM_INDIR_400', 'RETRIEVER_MODEL_NAME': ''}, 'COLUMN_NAME': '8'}\n",
      "Experimento envolverá 150 registros, toda a base de dados\n"
     ]
    },
    {
     "name": "stderr",
     "output_type": "stream",
     "text": [
      "100%|██████████| 150/150 [02:21<00:00,  1.06it/s]\n"
     ]
    },
    {
     "name": "stdout",
     "output_type": "stream",
     "text": [
      "COLUMN_NAME: 8\n",
      "COUNT_QUERY_RUN: 150\n",
      "COUNT_QUERY_WITHOUT_RESULT: 0\n",
      "COUNT_QUERY_NOT_FOUND: 8\n",
      "RANK1_MEAN: 7.585\n",
      "NDCG@5_MEAN: 31.044\n",
      "NDCG@10_MEAN: 29.968\n",
      "NDCG@15_MEAN: 32.363\n",
      "NDCG@20_MEAN: 34.222\n",
      "PRECISION@50_MEAN: 8.347\n",
      "PRECISION@100_MEAN: 4.787\n",
      "RECALL@50_MEAN: 48.911\n",
      "RECALL@100_MEAN: 56.927\n",
      "TIME_SPENT_MEAN: 0.944\n",
      "==131==  2023-Jun-28 13:47:57 \n",
      "Experiment: {'TOPK_RETRIEVER': 300, 'TOPK_RANKER': 0, 'EXPANSOR_CRITERIA': 'join_bm25_sts_30_minilm_indir', 'INDEX_NAME': 'indir_juris_tcu_related_term', 'PIPE': {'PIPE_OBJECT': <haystack.pipelines.base.Pipeline object at 0x7fb614019650>, 'RETRIEVER_TYPE': 'sts', 'RANKER_TYPE': 'MINILM_INDIR_400', 'RETRIEVER_MODEL_NAME': ''}, 'COLUMN_NAME': '9'}\n",
      "Experimento envolverá 150 registros, toda a base de dados\n"
     ]
    },
    {
     "name": "stderr",
     "output_type": "stream",
     "text": [
      "100%|██████████| 150/150 [02:21<00:00,  1.06it/s]\n"
     ]
    },
    {
     "name": "stdout",
     "output_type": "stream",
     "text": [
      "COLUMN_NAME: 9\n",
      "COUNT_QUERY_RUN: 150\n",
      "COUNT_QUERY_WITHOUT_RESULT: 0\n",
      "COUNT_QUERY_NOT_FOUND: 7\n",
      "RANK1_MEAN: 7.853\n",
      "NDCG@5_MEAN: 31.082\n",
      "NDCG@10_MEAN: 29.929\n",
      "NDCG@15_MEAN: 32.232\n",
      "NDCG@20_MEAN: 34.057\n",
      "PRECISION@50_MEAN: 8.293\n",
      "PRECISION@100_MEAN: 4.773\n",
      "RECALL@50_MEAN: 48.781\n",
      "RECALL@100_MEAN: 56.891\n",
      "TIME_SPENT_MEAN: 0.944\n",
      "==132==  2023-Jun-28 13:50:20 \n",
      "Experiment: {'TOPK_RETRIEVER': 300, 'TOPK_RANKER': 0, 'EXPANSOR_CRITERIA': '', 'INDEX_NAME': 'indir_juris_tcu_related_term', 'PIPE': {'PIPE_OBJECT': <haystack.pipelines.base.Pipeline object at 0x7fb614019650>, 'RETRIEVER_TYPE': 'sts', 'RANKER_TYPE': 'MINILM_INDIR_400', 'RETRIEVER_MODEL_NAME': ''}, 'COLUMN_NAME': 'TEXT'}\n",
      "Experimento envolverá 150 registros, toda a base de dados\n"
     ]
    },
    {
     "name": "stderr",
     "output_type": "stream",
     "text": [
      "100%|██████████| 150/150 [02:13<00:00,  1.12it/s]\n"
     ]
    },
    {
     "name": "stdout",
     "output_type": "stream",
     "text": [
      "COLUMN_NAME: TEXT\n",
      "COUNT_QUERY_RUN: 150\n",
      "COUNT_QUERY_WITHOUT_RESULT: 0\n",
      "COUNT_QUERY_NOT_FOUND: 8\n",
      "RANK1_MEAN: 11.155\n",
      "NDCG@5_MEAN: 23.168\n",
      "NDCG@10_MEAN: 22.387\n",
      "NDCG@15_MEAN: 24.446\n",
      "NDCG@20_MEAN: 26.683\n",
      "PRECISION@50_MEAN: 7.147\n",
      "PRECISION@100_MEAN: 4.467\n",
      "RECALL@50_MEAN: 42.028\n",
      "RECALL@100_MEAN: 51.945\n",
      "TIME_SPENT_MEAN: 0.892\n",
      "==133==  2023-Jun-28 13:52:35 \n",
      "Experiment: {'TOPK_RETRIEVER': 300, 'TOPK_RANKER': 0, 'EXPANSOR_CRITERIA': 'join_bm25_sts_30_minilm_indir', 'INDEX_NAME': 'indir_juris_tcu_synonym_related_term', 'PIPE': {'PIPE_OBJECT': <haystack.pipelines.standard_pipelines.DocumentSearchPipeline object at 0x7fb61407d510>, 'RETRIEVER_TYPE': 'bm25', 'RANKER_TYPE': 'none', 'RETRIEVER_MODEL_NAME': ''}, 'COLUMN_NAME': '1'}\n",
      "Experimento envolverá 150 registros, toda a base de dados\n"
     ]
    },
    {
     "name": "stderr",
     "output_type": "stream",
     "text": [
      "100%|██████████| 150/150 [00:18<00:00,  7.95it/s]\n"
     ]
    },
    {
     "name": "stdout",
     "output_type": "stream",
     "text": [
      "COLUMN_NAME: 1\n",
      "COUNT_QUERY_RUN: 150\n",
      "COUNT_QUERY_WITHOUT_RESULT: 0\n",
      "COUNT_QUERY_NOT_FOUND: 1\n",
      "RANK1_MEAN: 5.779\n",
      "NDCG@5_MEAN: 51.802\n",
      "NDCG@10_MEAN: 48.946\n",
      "NDCG@15_MEAN: 51.288\n",
      "NDCG@20_MEAN: 53.922\n",
      "PRECISION@50_MEAN: 12.467\n",
      "PRECISION@100_MEAN: 6.913\n",
      "RECALL@50_MEAN: 72.786\n",
      "RECALL@100_MEAN: 80.505\n",
      "TIME_SPENT_MEAN: 0.126\n",
      "==134==  2023-Jun-28 13:52:55 \n",
      "Experiment: {'TOPK_RETRIEVER': 300, 'TOPK_RANKER': 0, 'EXPANSOR_CRITERIA': 'join_bm25_sts_30_minilm_indir', 'INDEX_NAME': 'indir_juris_tcu_synonym_related_term', 'PIPE': {'PIPE_OBJECT': <haystack.pipelines.standard_pipelines.DocumentSearchPipeline object at 0x7fb61407d510>, 'RETRIEVER_TYPE': 'bm25', 'RANKER_TYPE': 'none', 'RETRIEVER_MODEL_NAME': ''}, 'COLUMN_NAME': '10'}\n",
      "Experimento envolverá 150 registros, toda a base de dados\n"
     ]
    },
    {
     "name": "stderr",
     "output_type": "stream",
     "text": [
      "100%|██████████| 150/150 [00:19<00:00,  7.86it/s]\n"
     ]
    },
    {
     "name": "stdout",
     "output_type": "stream",
     "text": [
      "COLUMN_NAME: 10\n",
      "COUNT_QUERY_RUN: 150\n",
      "COUNT_QUERY_WITHOUT_RESULT: 0\n",
      "COUNT_QUERY_NOT_FOUND: 3\n",
      "RANK1_MEAN: 11.293\n",
      "NDCG@5_MEAN: 41.04\n",
      "NDCG@10_MEAN: 38.758\n",
      "NDCG@15_MEAN: 42.135\n",
      "NDCG@20_MEAN: 44.66\n",
      "PRECISION@50_MEAN: 10.893\n",
      "PRECISION@100_MEAN: 6.167\n",
      "RECALL@50_MEAN: 64.919\n",
      "RECALL@100_MEAN: 72.565\n",
      "TIME_SPENT_MEAN: 0.127\n",
      "==135==  2023-Jun-28 13:53:15 \n",
      "Experiment: {'TOPK_RETRIEVER': 300, 'TOPK_RANKER': 0, 'EXPANSOR_CRITERIA': 'join_bm25_sts_30_minilm_indir', 'INDEX_NAME': 'indir_juris_tcu_synonym_related_term', 'PIPE': {'PIPE_OBJECT': <haystack.pipelines.standard_pipelines.DocumentSearchPipeline object at 0x7fb61407d510>, 'RETRIEVER_TYPE': 'bm25', 'RANKER_TYPE': 'none', 'RETRIEVER_MODEL_NAME': ''}, 'COLUMN_NAME': '2'}\n",
      "Experimento envolverá 150 registros, toda a base de dados\n"
     ]
    },
    {
     "name": "stderr",
     "output_type": "stream",
     "text": [
      "100%|██████████| 150/150 [00:18<00:00,  7.99it/s]\n"
     ]
    },
    {
     "name": "stdout",
     "output_type": "stream",
     "text": [
      "COLUMN_NAME: 2\n",
      "COUNT_QUERY_RUN: 150\n",
      "COUNT_QUERY_WITHOUT_RESULT: 0\n",
      "COUNT_QUERY_NOT_FOUND: 2\n",
      "RANK1_MEAN: 7.689\n",
      "NDCG@5_MEAN: 50.95\n",
      "NDCG@10_MEAN: 47.094\n",
      "NDCG@15_MEAN: 49.466\n",
      "NDCG@20_MEAN: 52.327\n",
      "PRECISION@50_MEAN: 12.093\n",
      "PRECISION@100_MEAN: 6.767\n",
      "RECALL@50_MEAN: 71.245\n",
      "RECALL@100_MEAN: 78.999\n",
      "TIME_SPENT_MEAN: 0.125\n",
      "==136==  2023-Jun-28 13:53:35 \n",
      "Experiment: {'TOPK_RETRIEVER': 300, 'TOPK_RANKER': 0, 'EXPANSOR_CRITERIA': 'join_bm25_sts_30_minilm_indir', 'INDEX_NAME': 'indir_juris_tcu_synonym_related_term', 'PIPE': {'PIPE_OBJECT': <haystack.pipelines.standard_pipelines.DocumentSearchPipeline object at 0x7fb61407d510>, 'RETRIEVER_TYPE': 'bm25', 'RANKER_TYPE': 'none', 'RETRIEVER_MODEL_NAME': ''}, 'COLUMN_NAME': '3'}\n",
      "Experimento envolverá 150 registros, toda a base de dados\n"
     ]
    },
    {
     "name": "stderr",
     "output_type": "stream",
     "text": [
      "100%|██████████| 150/150 [00:18<00:00,  7.95it/s]\n"
     ]
    },
    {
     "name": "stdout",
     "output_type": "stream",
     "text": [
      "COLUMN_NAME: 3\n",
      "COUNT_QUERY_RUN: 150\n",
      "COUNT_QUERY_WITHOUT_RESULT: 0\n",
      "COUNT_QUERY_NOT_FOUND: 1\n",
      "RANK1_MEAN: 11.523\n",
      "NDCG@5_MEAN: 49.864\n",
      "NDCG@10_MEAN: 46.462\n",
      "NDCG@15_MEAN: 48.691\n",
      "NDCG@20_MEAN: 51.592\n",
      "PRECISION@50_MEAN: 11.733\n",
      "PRECISION@100_MEAN: 6.567\n",
      "RECALL@50_MEAN: 69.456\n",
      "RECALL@100_MEAN: 76.941\n",
      "TIME_SPENT_MEAN: 0.126\n",
      "==137==  2023-Jun-28 13:53:55 \n",
      "Experiment: {'TOPK_RETRIEVER': 300, 'TOPK_RANKER': 0, 'EXPANSOR_CRITERIA': 'join_bm25_sts_30_minilm_indir', 'INDEX_NAME': 'indir_juris_tcu_synonym_related_term', 'PIPE': {'PIPE_OBJECT': <haystack.pipelines.standard_pipelines.DocumentSearchPipeline object at 0x7fb61407d510>, 'RETRIEVER_TYPE': 'bm25', 'RANKER_TYPE': 'none', 'RETRIEVER_MODEL_NAME': ''}, 'COLUMN_NAME': '4'}\n",
      "Experimento envolverá 150 registros, toda a base de dados\n"
     ]
    },
    {
     "name": "stderr",
     "output_type": "stream",
     "text": [
      "100%|██████████| 150/150 [00:18<00:00,  7.99it/s]\n"
     ]
    },
    {
     "name": "stdout",
     "output_type": "stream",
     "text": [
      "COLUMN_NAME: 4\n",
      "COUNT_QUERY_RUN: 150\n",
      "COUNT_QUERY_WITHOUT_RESULT: 0\n",
      "COUNT_QUERY_NOT_FOUND: 1\n",
      "RANK1_MEAN: 12.557\n",
      "NDCG@5_MEAN: 48.053\n",
      "NDCG@10_MEAN: 44.952\n",
      "NDCG@15_MEAN: 47.259\n",
      "NDCG@20_MEAN: 50.032\n",
      "PRECISION@50_MEAN: 11.32\n",
      "PRECISION@100_MEAN: 6.447\n",
      "RECALL@50_MEAN: 66.905\n",
      "RECALL@100_MEAN: 75.347\n",
      "TIME_SPENT_MEAN: 0.125\n",
      "==138==  2023-Jun-28 13:54:15 \n",
      "Experiment: {'TOPK_RETRIEVER': 300, 'TOPK_RANKER': 0, 'EXPANSOR_CRITERIA': 'join_bm25_sts_30_minilm_indir', 'INDEX_NAME': 'indir_juris_tcu_synonym_related_term', 'PIPE': {'PIPE_OBJECT': <haystack.pipelines.standard_pipelines.DocumentSearchPipeline object at 0x7fb61407d510>, 'RETRIEVER_TYPE': 'bm25', 'RANKER_TYPE': 'none', 'RETRIEVER_MODEL_NAME': ''}, 'COLUMN_NAME': '5'}\n",
      "Experimento envolverá 150 registros, toda a base de dados\n"
     ]
    },
    {
     "name": "stderr",
     "output_type": "stream",
     "text": [
      "100%|██████████| 150/150 [00:18<00:00,  7.94it/s]\n"
     ]
    },
    {
     "name": "stdout",
     "output_type": "stream",
     "text": [
      "COLUMN_NAME: 5\n",
      "COUNT_QUERY_RUN: 150\n",
      "COUNT_QUERY_WITHOUT_RESULT: 0\n",
      "COUNT_QUERY_NOT_FOUND: 2\n",
      "RANK1_MEAN: 12.601\n",
      "NDCG@5_MEAN: 44.705\n",
      "NDCG@10_MEAN: 42.527\n",
      "NDCG@15_MEAN: 45.324\n",
      "NDCG@20_MEAN: 47.362\n",
      "PRECISION@50_MEAN: 11.04\n",
      "PRECISION@100_MEAN: 6.293\n",
      "RECALL@50_MEAN: 65.317\n",
      "RECALL@100_MEAN: 73.86\n",
      "TIME_SPENT_MEAN: 0.126\n",
      "==139==  2023-Jun-28 13:54:36 \n",
      "Experiment: {'TOPK_RETRIEVER': 300, 'TOPK_RANKER': 0, 'EXPANSOR_CRITERIA': 'join_bm25_sts_30_minilm_indir', 'INDEX_NAME': 'indir_juris_tcu_synonym_related_term', 'PIPE': {'PIPE_OBJECT': <haystack.pipelines.standard_pipelines.DocumentSearchPipeline object at 0x7fb61407d510>, 'RETRIEVER_TYPE': 'bm25', 'RANKER_TYPE': 'none', 'RETRIEVER_MODEL_NAME': ''}, 'COLUMN_NAME': '6'}\n",
      "Experimento envolverá 150 registros, toda a base de dados\n"
     ]
    },
    {
     "name": "stderr",
     "output_type": "stream",
     "text": [
      "100%|██████████| 150/150 [00:19<00:00,  7.88it/s]\n"
     ]
    },
    {
     "name": "stdout",
     "output_type": "stream",
     "text": [
      "COLUMN_NAME: 6\n",
      "COUNT_QUERY_RUN: 150\n",
      "COUNT_QUERY_WITHOUT_RESULT: 0\n",
      "COUNT_QUERY_NOT_FOUND: 2\n",
      "RANK1_MEAN: 11.547\n",
      "NDCG@5_MEAN: 42.811\n",
      "NDCG@10_MEAN: 41.154\n",
      "NDCG@15_MEAN: 44.009\n",
      "NDCG@20_MEAN: 46.748\n",
      "PRECISION@50_MEAN: 10.96\n",
      "PRECISION@100_MEAN: 6.22\n",
      "RECALL@50_MEAN: 65.223\n",
      "RECALL@100_MEAN: 72.997\n",
      "TIME_SPENT_MEAN: 0.127\n",
      "==140==  2023-Jun-28 13:54:56 \n",
      "Experiment: {'TOPK_RETRIEVER': 300, 'TOPK_RANKER': 0, 'EXPANSOR_CRITERIA': 'join_bm25_sts_30_minilm_indir', 'INDEX_NAME': 'indir_juris_tcu_synonym_related_term', 'PIPE': {'PIPE_OBJECT': <haystack.pipelines.standard_pipelines.DocumentSearchPipeline object at 0x7fb61407d510>, 'RETRIEVER_TYPE': 'bm25', 'RANKER_TYPE': 'none', 'RETRIEVER_MODEL_NAME': ''}, 'COLUMN_NAME': '7'}\n",
      "Experimento envolverá 150 registros, toda a base de dados\n"
     ]
    },
    {
     "name": "stderr",
     "output_type": "stream",
     "text": [
      "100%|██████████| 150/150 [00:19<00:00,  7.88it/s]\n"
     ]
    },
    {
     "name": "stdout",
     "output_type": "stream",
     "text": [
      "COLUMN_NAME: 7\n",
      "COUNT_QUERY_RUN: 150\n",
      "COUNT_QUERY_WITHOUT_RESULT: 0\n",
      "COUNT_QUERY_NOT_FOUND: 2\n",
      "RANK1_MEAN: 11.655\n",
      "NDCG@5_MEAN: 43.432\n",
      "NDCG@10_MEAN: 41.027\n",
      "NDCG@15_MEAN: 44.212\n",
      "NDCG@20_MEAN: 46.656\n",
      "PRECISION@50_MEAN: 10.973\n",
      "PRECISION@100_MEAN: 6.22\n",
      "RECALL@50_MEAN: 65.27\n",
      "RECALL@100_MEAN: 73.162\n",
      "TIME_SPENT_MEAN: 0.127\n",
      "==141==  2023-Jun-28 13:55:17 \n",
      "Experiment: {'TOPK_RETRIEVER': 300, 'TOPK_RANKER': 0, 'EXPANSOR_CRITERIA': 'join_bm25_sts_30_minilm_indir', 'INDEX_NAME': 'indir_juris_tcu_synonym_related_term', 'PIPE': {'PIPE_OBJECT': <haystack.pipelines.standard_pipelines.DocumentSearchPipeline object at 0x7fb61407d510>, 'RETRIEVER_TYPE': 'bm25', 'RANKER_TYPE': 'none', 'RETRIEVER_MODEL_NAME': ''}, 'COLUMN_NAME': '8'}\n",
      "Experimento envolverá 150 registros, toda a base de dados\n"
     ]
    },
    {
     "name": "stderr",
     "output_type": "stream",
     "text": [
      "100%|██████████| 150/150 [00:18<00:00,  7.90it/s]\n"
     ]
    },
    {
     "name": "stdout",
     "output_type": "stream",
     "text": [
      "COLUMN_NAME: 8\n",
      "COUNT_QUERY_RUN: 150\n",
      "COUNT_QUERY_WITHOUT_RESULT: 0\n",
      "COUNT_QUERY_NOT_FOUND: 2\n",
      "RANK1_MEAN: 11.493\n",
      "NDCG@5_MEAN: 42.103\n",
      "NDCG@10_MEAN: 39.925\n",
      "NDCG@15_MEAN: 43.038\n",
      "NDCG@20_MEAN: 45.729\n",
      "PRECISION@50_MEAN: 10.933\n",
      "PRECISION@100_MEAN: 6.187\n",
      "RECALL@50_MEAN: 65.022\n",
      "RECALL@100_MEAN: 72.712\n",
      "TIME_SPENT_MEAN: 0.127\n",
      "==142==  2023-Jun-28 13:55:37 \n",
      "Experiment: {'TOPK_RETRIEVER': 300, 'TOPK_RANKER': 0, 'EXPANSOR_CRITERIA': 'join_bm25_sts_30_minilm_indir', 'INDEX_NAME': 'indir_juris_tcu_synonym_related_term', 'PIPE': {'PIPE_OBJECT': <haystack.pipelines.standard_pipelines.DocumentSearchPipeline object at 0x7fb61407d510>, 'RETRIEVER_TYPE': 'bm25', 'RANKER_TYPE': 'none', 'RETRIEVER_MODEL_NAME': ''}, 'COLUMN_NAME': '9'}\n",
      "Experimento envolverá 150 registros, toda a base de dados\n"
     ]
    },
    {
     "name": "stderr",
     "output_type": "stream",
     "text": [
      "100%|██████████| 150/150 [00:19<00:00,  7.88it/s]\n"
     ]
    },
    {
     "name": "stdout",
     "output_type": "stream",
     "text": [
      "COLUMN_NAME: 9\n",
      "COUNT_QUERY_RUN: 150\n",
      "COUNT_QUERY_WITHOUT_RESULT: 0\n",
      "COUNT_QUERY_NOT_FOUND: 2\n",
      "RANK1_MEAN: 11.5\n",
      "NDCG@5_MEAN: 41.12\n",
      "NDCG@10_MEAN: 39.12\n",
      "NDCG@15_MEAN: 42.234\n",
      "NDCG@20_MEAN: 44.839\n",
      "PRECISION@50_MEAN: 10.933\n",
      "PRECISION@100_MEAN: 6.18\n",
      "RECALL@50_MEAN: 65.052\n",
      "RECALL@100_MEAN: 72.61\n",
      "TIME_SPENT_MEAN: 0.127\n",
      "==143==  2023-Jun-28 13:55:58 \n",
      "Experiment: {'TOPK_RETRIEVER': 300, 'TOPK_RANKER': 0, 'EXPANSOR_CRITERIA': '', 'INDEX_NAME': 'indir_juris_tcu_synonym_related_term', 'PIPE': {'PIPE_OBJECT': <haystack.pipelines.standard_pipelines.DocumentSearchPipeline object at 0x7fb61407d510>, 'RETRIEVER_TYPE': 'bm25', 'RANKER_TYPE': 'none', 'RETRIEVER_MODEL_NAME': ''}, 'COLUMN_NAME': 'TEXT'}\n",
      "Experimento envolverá 150 registros, toda a base de dados\n"
     ]
    },
    {
     "name": "stderr",
     "output_type": "stream",
     "text": [
      "100%|██████████| 150/150 [00:18<00:00,  8.02it/s]\n"
     ]
    },
    {
     "name": "stdout",
     "output_type": "stream",
     "text": [
      "COLUMN_NAME: TEXT\n",
      "COUNT_QUERY_RUN: 150\n",
      "COUNT_QUERY_WITHOUT_RESULT: 0\n",
      "COUNT_QUERY_NOT_FOUND: 0\n",
      "RANK1_MEAN: 3.42\n",
      "NDCG@5_MEAN: 55.498\n",
      "NDCG@10_MEAN: 52.204\n",
      "NDCG@15_MEAN: 54.757\n",
      "NDCG@20_MEAN: 57.39\n",
      "PRECISION@50_MEAN: 12.907\n",
      "PRECISION@100_MEAN: 7.113\n",
      "RECALL@50_MEAN: 74.97\n",
      "RECALL@100_MEAN: 82.595\n",
      "TIME_SPENT_MEAN: 0.125\n",
      "==144==  2023-Jun-28 13:56:18 \n",
      "Experiment: {'TOPK_RETRIEVER': 300, 'TOPK_RANKER': 0, 'EXPANSOR_CRITERIA': 'join_bm25_sts_30_minilm_indir', 'INDEX_NAME': 'indir_juris_tcu_synonym_related_term', 'PIPE': {'PIPE_OBJECT': <haystack.pipelines.base.Pipeline object at 0x7fb60acae590>, 'RETRIEVER_TYPE': 'bm25', 'RANKER_TYPE': 'MINILM_INDIR_400', 'RETRIEVER_MODEL_NAME': ''}, 'COLUMN_NAME': '1'}\n",
      "Experimento envolverá 150 registros, toda a base de dados\n"
     ]
    },
    {
     "name": "stderr",
     "output_type": "stream",
     "text": [
      "100%|██████████| 150/150 [02:31<00:00,  1.01s/it]\n"
     ]
    },
    {
     "name": "stdout",
     "output_type": "stream",
     "text": [
      "COLUMN_NAME: 1\n",
      "COUNT_QUERY_RUN: 150\n",
      "COUNT_QUERY_WITHOUT_RESULT: 0\n",
      "COUNT_QUERY_NOT_FOUND: 1\n",
      "RANK1_MEAN: 16.349\n",
      "NDCG@5_MEAN: 21.504\n",
      "NDCG@10_MEAN: 20.435\n",
      "NDCG@15_MEAN: 22.507\n",
      "NDCG@20_MEAN: 24.627\n",
      "PRECISION@50_MEAN: 7.68\n",
      "PRECISION@100_MEAN: 5.473\n",
      "RECALL@50_MEAN: 45.209\n",
      "RECALL@100_MEAN: 63.744\n",
      "TIME_SPENT_MEAN: 1.01\n",
      "==145==  2023-Jun-28 13:58:51 \n",
      "Experiment: {'TOPK_RETRIEVER': 300, 'TOPK_RANKER': 0, 'EXPANSOR_CRITERIA': 'join_bm25_sts_30_minilm_indir', 'INDEX_NAME': 'indir_juris_tcu_synonym_related_term', 'PIPE': {'PIPE_OBJECT': <haystack.pipelines.base.Pipeline object at 0x7fb60acae590>, 'RETRIEVER_TYPE': 'bm25', 'RANKER_TYPE': 'MINILM_INDIR_400', 'RETRIEVER_MODEL_NAME': ''}, 'COLUMN_NAME': '10'}\n",
      "Experimento envolverá 150 registros, toda a base de dados\n"
     ]
    },
    {
     "name": "stderr",
     "output_type": "stream",
     "text": [
      "100%|██████████| 150/150 [02:38<00:00,  1.06s/it]\n"
     ]
    },
    {
     "name": "stdout",
     "output_type": "stream",
     "text": [
      "COLUMN_NAME: 10\n",
      "COUNT_QUERY_RUN: 150\n",
      "COUNT_QUERY_WITHOUT_RESULT: 0\n",
      "COUNT_QUERY_NOT_FOUND: 3\n",
      "RANK1_MEAN: 15.027\n",
      "NDCG@5_MEAN: 29.326\n",
      "NDCG@10_MEAN: 26.405\n",
      "NDCG@15_MEAN: 27.923\n",
      "NDCG@20_MEAN: 30.116\n",
      "PRECISION@50_MEAN: 8.067\n",
      "PRECISION@100_MEAN: 5.36\n",
      "RECALL@50_MEAN: 47.402\n",
      "RECALL@100_MEAN: 62.923\n",
      "TIME_SPENT_MEAN: 1.059\n",
      "==146==  2023-Jun-28 14:01:31 \n",
      "Experiment: {'TOPK_RETRIEVER': 300, 'TOPK_RANKER': 0, 'EXPANSOR_CRITERIA': 'join_bm25_sts_30_minilm_indir', 'INDEX_NAME': 'indir_juris_tcu_synonym_related_term', 'PIPE': {'PIPE_OBJECT': <haystack.pipelines.base.Pipeline object at 0x7fb60acae590>, 'RETRIEVER_TYPE': 'bm25', 'RANKER_TYPE': 'MINILM_INDIR_400', 'RETRIEVER_MODEL_NAME': ''}, 'COLUMN_NAME': '2'}\n",
      "Experimento envolverá 150 registros, toda a base de dados\n"
     ]
    },
    {
     "name": "stderr",
     "output_type": "stream",
     "text": [
      "100%|██████████| 150/150 [02:33<00:00,  1.02s/it]\n"
     ]
    },
    {
     "name": "stdout",
     "output_type": "stream",
     "text": [
      "COLUMN_NAME: 2\n",
      "COUNT_QUERY_RUN: 150\n",
      "COUNT_QUERY_WITHOUT_RESULT: 0\n",
      "COUNT_QUERY_NOT_FOUND: 2\n",
      "RANK1_MEAN: 16.973\n",
      "NDCG@5_MEAN: 24.34\n",
      "NDCG@10_MEAN: 22.658\n",
      "NDCG@15_MEAN: 24.28\n",
      "NDCG@20_MEAN: 26.229\n",
      "PRECISION@50_MEAN: 7.76\n",
      "PRECISION@100_MEAN: 5.273\n",
      "RECALL@50_MEAN: 45.614\n",
      "RECALL@100_MEAN: 61.977\n",
      "TIME_SPENT_MEAN: 1.02\n",
      "==147==  2023-Jun-28 14:04:06 \n",
      "Experiment: {'TOPK_RETRIEVER': 300, 'TOPK_RANKER': 0, 'EXPANSOR_CRITERIA': 'join_bm25_sts_30_minilm_indir', 'INDEX_NAME': 'indir_juris_tcu_synonym_related_term', 'PIPE': {'PIPE_OBJECT': <haystack.pipelines.base.Pipeline object at 0x7fb60acae590>, 'RETRIEVER_TYPE': 'bm25', 'RANKER_TYPE': 'MINILM_INDIR_400', 'RETRIEVER_MODEL_NAME': ''}, 'COLUMN_NAME': '3'}\n",
      "Experimento envolverá 150 registros, toda a base de dados\n"
     ]
    },
    {
     "name": "stderr",
     "output_type": "stream",
     "text": [
      "100%|██████████| 150/150 [02:34<00:00,  1.03s/it]\n"
     ]
    },
    {
     "name": "stdout",
     "output_type": "stream",
     "text": [
      "COLUMN_NAME: 3\n",
      "COUNT_QUERY_RUN: 150\n",
      "COUNT_QUERY_WITHOUT_RESULT: 0\n",
      "COUNT_QUERY_NOT_FOUND: 1\n",
      "RANK1_MEAN: 16.852\n",
      "NDCG@5_MEAN: 25.597\n",
      "NDCG@10_MEAN: 24.332\n",
      "NDCG@15_MEAN: 26.238\n",
      "NDCG@20_MEAN: 28.202\n",
      "PRECISION@50_MEAN: 8.267\n",
      "PRECISION@100_MEAN: 5.32\n",
      "RECALL@50_MEAN: 48.515\n",
      "RECALL@100_MEAN: 62.439\n",
      "TIME_SPENT_MEAN: 1.028\n",
      "==148==  2023-Jun-28 14:06:41 \n",
      "Experiment: {'TOPK_RETRIEVER': 300, 'TOPK_RANKER': 0, 'EXPANSOR_CRITERIA': 'join_bm25_sts_30_minilm_indir', 'INDEX_NAME': 'indir_juris_tcu_synonym_related_term', 'PIPE': {'PIPE_OBJECT': <haystack.pipelines.base.Pipeline object at 0x7fb60acae590>, 'RETRIEVER_TYPE': 'bm25', 'RANKER_TYPE': 'MINILM_INDIR_400', 'RETRIEVER_MODEL_NAME': ''}, 'COLUMN_NAME': '4'}\n",
      "Experimento envolverá 150 registros, toda a base de dados\n"
     ]
    },
    {
     "name": "stderr",
     "output_type": "stream",
     "text": [
      "100%|██████████| 150/150 [02:35<00:00,  1.04s/it]\n"
     ]
    },
    {
     "name": "stdout",
     "output_type": "stream",
     "text": [
      "COLUMN_NAME: 4\n",
      "COUNT_QUERY_RUN: 150\n",
      "COUNT_QUERY_WITHOUT_RESULT: 0\n",
      "COUNT_QUERY_NOT_FOUND: 1\n",
      "RANK1_MEAN: 15.725\n",
      "NDCG@5_MEAN: 27.434\n",
      "NDCG@10_MEAN: 25.703\n",
      "NDCG@15_MEAN: 27.707\n",
      "NDCG@20_MEAN: 29.66\n",
      "PRECISION@50_MEAN: 8.267\n",
      "PRECISION@100_MEAN: 5.48\n",
      "RECALL@50_MEAN: 48.317\n",
      "RECALL@100_MEAN: 64.524\n",
      "TIME_SPENT_MEAN: 1.036\n",
      "==149==  2023-Jun-28 14:09:18 \n",
      "Experiment: {'TOPK_RETRIEVER': 300, 'TOPK_RANKER': 0, 'EXPANSOR_CRITERIA': 'join_bm25_sts_30_minilm_indir', 'INDEX_NAME': 'indir_juris_tcu_synonym_related_term', 'PIPE': {'PIPE_OBJECT': <haystack.pipelines.base.Pipeline object at 0x7fb60acae590>, 'RETRIEVER_TYPE': 'bm25', 'RANKER_TYPE': 'MINILM_INDIR_400', 'RETRIEVER_MODEL_NAME': ''}, 'COLUMN_NAME': '5'}\n",
      "Experimento envolverá 150 registros, toda a base de dados\n"
     ]
    },
    {
     "name": "stderr",
     "output_type": "stream",
     "text": [
      "100%|██████████| 150/150 [02:36<00:00,  1.04s/it]\n"
     ]
    },
    {
     "name": "stdout",
     "output_type": "stream",
     "text": [
      "COLUMN_NAME: 5\n",
      "COUNT_QUERY_RUN: 150\n",
      "COUNT_QUERY_WITHOUT_RESULT: 0\n",
      "COUNT_QUERY_NOT_FOUND: 2\n",
      "RANK1_MEAN: 16.635\n",
      "NDCG@5_MEAN: 28.84\n",
      "NDCG@10_MEAN: 26.277\n",
      "NDCG@15_MEAN: 28.288\n",
      "NDCG@20_MEAN: 30.175\n",
      "PRECISION@50_MEAN: 8.293\n",
      "PRECISION@100_MEAN: 5.38\n",
      "RECALL@50_MEAN: 49.008\n",
      "RECALL@100_MEAN: 63.657\n",
      "TIME_SPENT_MEAN: 1.043\n",
      "==150==  2023-Jun-28 14:11:56 \n",
      "Experiment: {'TOPK_RETRIEVER': 300, 'TOPK_RANKER': 0, 'EXPANSOR_CRITERIA': 'join_bm25_sts_30_minilm_indir', 'INDEX_NAME': 'indir_juris_tcu_synonym_related_term', 'PIPE': {'PIPE_OBJECT': <haystack.pipelines.base.Pipeline object at 0x7fb60acae590>, 'RETRIEVER_TYPE': 'bm25', 'RANKER_TYPE': 'MINILM_INDIR_400', 'RETRIEVER_MODEL_NAME': ''}, 'COLUMN_NAME': '6'}\n",
      "Experimento envolverá 150 registros, toda a base de dados\n"
     ]
    },
    {
     "name": "stderr",
     "output_type": "stream",
     "text": [
      "100%|██████████| 150/150 [02:37<00:00,  1.05s/it]\n"
     ]
    },
    {
     "name": "stdout",
     "output_type": "stream",
     "text": [
      "COLUMN_NAME: 6\n",
      "COUNT_QUERY_RUN: 150\n",
      "COUNT_QUERY_WITHOUT_RESULT: 0\n",
      "COUNT_QUERY_NOT_FOUND: 2\n",
      "RANK1_MEAN: 16.574\n",
      "NDCG@5_MEAN: 29.392\n",
      "NDCG@10_MEAN: 27.109\n",
      "NDCG@15_MEAN: 28.824\n",
      "NDCG@20_MEAN: 31.06\n",
      "PRECISION@50_MEAN: 8.227\n",
      "PRECISION@100_MEAN: 5.32\n",
      "RECALL@50_MEAN: 48.721\n",
      "RECALL@100_MEAN: 62.104\n",
      "TIME_SPENT_MEAN: 1.047\n",
      "==151==  2023-Jun-28 14:14:34 \n",
      "Experiment: {'TOPK_RETRIEVER': 300, 'TOPK_RANKER': 0, 'EXPANSOR_CRITERIA': 'join_bm25_sts_30_minilm_indir', 'INDEX_NAME': 'indir_juris_tcu_synonym_related_term', 'PIPE': {'PIPE_OBJECT': <haystack.pipelines.base.Pipeline object at 0x7fb60acae590>, 'RETRIEVER_TYPE': 'bm25', 'RANKER_TYPE': 'MINILM_INDIR_400', 'RETRIEVER_MODEL_NAME': ''}, 'COLUMN_NAME': '7'}\n",
      "Experimento envolverá 150 registros, toda a base de dados\n"
     ]
    },
    {
     "name": "stderr",
     "output_type": "stream",
     "text": [
      "100%|██████████| 150/150 [02:37<00:00,  1.05s/it]\n"
     ]
    },
    {
     "name": "stdout",
     "output_type": "stream",
     "text": [
      "COLUMN_NAME: 7\n",
      "COUNT_QUERY_RUN: 150\n",
      "COUNT_QUERY_WITHOUT_RESULT: 0\n",
      "COUNT_QUERY_NOT_FOUND: 2\n",
      "RANK1_MEAN: 15.304\n",
      "NDCG@5_MEAN: 29.467\n",
      "NDCG@10_MEAN: 26.904\n",
      "NDCG@15_MEAN: 28.607\n",
      "NDCG@20_MEAN: 30.746\n",
      "PRECISION@50_MEAN: 8.213\n",
      "PRECISION@100_MEAN: 5.313\n",
      "RECALL@50_MEAN: 48.717\n",
      "RECALL@100_MEAN: 62.321\n",
      "TIME_SPENT_MEAN: 1.051\n",
      "==152==  2023-Jun-28 14:17:14 \n",
      "Experiment: {'TOPK_RETRIEVER': 300, 'TOPK_RANKER': 0, 'EXPANSOR_CRITERIA': 'join_bm25_sts_30_minilm_indir', 'INDEX_NAME': 'indir_juris_tcu_synonym_related_term', 'PIPE': {'PIPE_OBJECT': <haystack.pipelines.base.Pipeline object at 0x7fb60acae590>, 'RETRIEVER_TYPE': 'bm25', 'RANKER_TYPE': 'MINILM_INDIR_400', 'RETRIEVER_MODEL_NAME': ''}, 'COLUMN_NAME': '8'}\n",
      "Experimento envolverá 150 registros, toda a base de dados\n"
     ]
    },
    {
     "name": "stderr",
     "output_type": "stream",
     "text": [
      "100%|██████████| 150/150 [02:38<00:00,  1.05s/it]\n"
     ]
    },
    {
     "name": "stdout",
     "output_type": "stream",
     "text": [
      "COLUMN_NAME: 8\n",
      "COUNT_QUERY_RUN: 150\n",
      "COUNT_QUERY_WITHOUT_RESULT: 0\n",
      "COUNT_QUERY_NOT_FOUND: 2\n",
      "RANK1_MEAN: 14.662\n",
      "NDCG@5_MEAN: 29.361\n",
      "NDCG@10_MEAN: 26.39\n",
      "NDCG@15_MEAN: 27.998\n",
      "NDCG@20_MEAN: 30.272\n",
      "PRECISION@50_MEAN: 8.187\n",
      "PRECISION@100_MEAN: 5.327\n",
      "RECALL@50_MEAN: 47.873\n",
      "RECALL@100_MEAN: 62.434\n",
      "TIME_SPENT_MEAN: 1.055\n",
      "==153==  2023-Jun-28 14:19:53 \n",
      "Experiment: {'TOPK_RETRIEVER': 300, 'TOPK_RANKER': 0, 'EXPANSOR_CRITERIA': 'join_bm25_sts_30_minilm_indir', 'INDEX_NAME': 'indir_juris_tcu_synonym_related_term', 'PIPE': {'PIPE_OBJECT': <haystack.pipelines.base.Pipeline object at 0x7fb60acae590>, 'RETRIEVER_TYPE': 'bm25', 'RANKER_TYPE': 'MINILM_INDIR_400', 'RETRIEVER_MODEL_NAME': ''}, 'COLUMN_NAME': '9'}\n",
      "Experimento envolverá 150 registros, toda a base de dados\n"
     ]
    },
    {
     "name": "stderr",
     "output_type": "stream",
     "text": [
      "100%|██████████| 150/150 [02:38<00:00,  1.06s/it]\n"
     ]
    },
    {
     "name": "stdout",
     "output_type": "stream",
     "text": [
      "COLUMN_NAME: 9\n",
      "COUNT_QUERY_RUN: 150\n",
      "COUNT_QUERY_WITHOUT_RESULT: 0\n",
      "COUNT_QUERY_NOT_FOUND: 2\n",
      "RANK1_MEAN: 15.257\n",
      "NDCG@5_MEAN: 29.17\n",
      "NDCG@10_MEAN: 26.495\n",
      "NDCG@15_MEAN: 27.838\n",
      "NDCG@20_MEAN: 29.933\n",
      "PRECISION@50_MEAN: 8.04\n",
      "PRECISION@100_MEAN: 5.347\n",
      "RECALL@50_MEAN: 47.261\n",
      "RECALL@100_MEAN: 62.714\n",
      "TIME_SPENT_MEAN: 1.058\n",
      "==154==  2023-Jun-28 14:22:33 \n",
      "Experiment: {'TOPK_RETRIEVER': 300, 'TOPK_RANKER': 0, 'EXPANSOR_CRITERIA': '', 'INDEX_NAME': 'indir_juris_tcu_synonym_related_term', 'PIPE': {'PIPE_OBJECT': <haystack.pipelines.base.Pipeline object at 0x7fb60acae590>, 'RETRIEVER_TYPE': 'bm25', 'RANKER_TYPE': 'MINILM_INDIR_400', 'RETRIEVER_MODEL_NAME': ''}, 'COLUMN_NAME': 'TEXT'}\n",
      "Experimento envolverá 150 registros, toda a base de dados\n"
     ]
    },
    {
     "name": "stderr",
     "output_type": "stream",
     "text": [
      "100%|██████████| 150/150 [02:31<00:00,  1.01s/it]\n"
     ]
    },
    {
     "name": "stdout",
     "output_type": "stream",
     "text": [
      "COLUMN_NAME: TEXT\n",
      "COUNT_QUERY_RUN: 150\n",
      "COUNT_QUERY_WITHOUT_RESULT: 0\n",
      "COUNT_QUERY_NOT_FOUND: 0\n",
      "RANK1_MEAN: 13.367\n",
      "NDCG@5_MEAN: 19.506\n",
      "NDCG@10_MEAN: 19.313\n",
      "NDCG@15_MEAN: 21.661\n",
      "NDCG@20_MEAN: 24.058\n",
      "PRECISION@50_MEAN: 8.187\n",
      "PRECISION@100_MEAN: 5.76\n",
      "RECALL@50_MEAN: 48.587\n",
      "RECALL@100_MEAN: 67.164\n",
      "TIME_SPENT_MEAN: 1.01\n",
      "==155==  2023-Jun-28 14:25:07 \n",
      "Experiment: {'TOPK_RETRIEVER': 300, 'TOPK_RANKER': 0, 'EXPANSOR_CRITERIA': 'join_bm25_sts_30_minilm_indir', 'INDEX_NAME': 'indir_juris_tcu_synonym_related_term', 'PIPE': {'PIPE_OBJECT': <haystack.pipelines.base.Pipeline object at 0x7fb60ac9a110>, 'RETRIEVER_TYPE': 'sts', 'RANKER_TYPE': 'MINILM_INDIR_400', 'RETRIEVER_MODEL_NAME': ''}, 'COLUMN_NAME': '1'}\n",
      "Experimento envolverá 150 registros, toda a base de dados\n"
     ]
    },
    {
     "name": "stderr",
     "output_type": "stream",
     "text": [
      "100%|██████████| 150/150 [02:29<00:00,  1.00it/s]\n"
     ]
    },
    {
     "name": "stdout",
     "output_type": "stream",
     "text": [
      "COLUMN_NAME: 1\n",
      "COUNT_QUERY_RUN: 150\n",
      "COUNT_QUERY_WITHOUT_RESULT: 0\n",
      "COUNT_QUERY_NOT_FOUND: 11\n",
      "RANK1_MEAN: 13.597\n",
      "NDCG@5_MEAN: 21.331\n",
      "NDCG@10_MEAN: 20.389\n",
      "NDCG@15_MEAN: 22.102\n",
      "NDCG@20_MEAN: 23.615\n",
      "PRECISION@50_MEAN: 6.573\n",
      "PRECISION@100_MEAN: 4.253\n",
      "RECALL@50_MEAN: 39.08\n",
      "RECALL@100_MEAN: 49.91\n",
      "TIME_SPENT_MEAN: 0.996\n",
      "==156==  2023-Jun-28 14:27:38 \n",
      "Experiment: {'TOPK_RETRIEVER': 300, 'TOPK_RANKER': 0, 'EXPANSOR_CRITERIA': 'join_bm25_sts_30_minilm_indir', 'INDEX_NAME': 'indir_juris_tcu_synonym_related_term', 'PIPE': {'PIPE_OBJECT': <haystack.pipelines.base.Pipeline object at 0x7fb60ac9a110>, 'RETRIEVER_TYPE': 'sts', 'RANKER_TYPE': 'MINILM_INDIR_400', 'RETRIEVER_MODEL_NAME': ''}, 'COLUMN_NAME': '10'}\n",
      "Experimento envolverá 150 registros, toda a base de dados\n"
     ]
    },
    {
     "name": "stderr",
     "output_type": "stream",
     "text": [
      "100%|██████████| 150/150 [02:37<00:00,  1.05s/it]\n"
     ]
    },
    {
     "name": "stdout",
     "output_type": "stream",
     "text": [
      "COLUMN_NAME: 10\n",
      "COUNT_QUERY_RUN: 150\n",
      "COUNT_QUERY_WITHOUT_RESULT: 0\n",
      "COUNT_QUERY_NOT_FOUND: 11\n",
      "RANK1_MEAN: 9.475\n",
      "NDCG@5_MEAN: 30.671\n",
      "NDCG@10_MEAN: 27.91\n",
      "NDCG@15_MEAN: 30.158\n",
      "NDCG@20_MEAN: 32.174\n",
      "PRECISION@50_MEAN: 7.8\n",
      "PRECISION@100_MEAN: 4.513\n",
      "RECALL@50_MEAN: 46.195\n",
      "RECALL@100_MEAN: 54.007\n",
      "TIME_SPENT_MEAN: 1.047\n",
      "==157==  2023-Jun-28 14:30:17 \n",
      "Experiment: {'TOPK_RETRIEVER': 300, 'TOPK_RANKER': 0, 'EXPANSOR_CRITERIA': 'join_bm25_sts_30_minilm_indir', 'INDEX_NAME': 'indir_juris_tcu_synonym_related_term', 'PIPE': {'PIPE_OBJECT': <haystack.pipelines.base.Pipeline object at 0x7fb60ac9a110>, 'RETRIEVER_TYPE': 'sts', 'RANKER_TYPE': 'MINILM_INDIR_400', 'RETRIEVER_MODEL_NAME': ''}, 'COLUMN_NAME': '2'}\n",
      "Experimento envolverá 150 registros, toda a base de dados\n"
     ]
    },
    {
     "name": "stderr",
     "output_type": "stream",
     "text": [
      "100%|██████████| 150/150 [02:31<00:00,  1.01s/it]\n"
     ]
    },
    {
     "name": "stdout",
     "output_type": "stream",
     "text": [
      "COLUMN_NAME: 2\n",
      "COUNT_QUERY_RUN: 150\n",
      "COUNT_QUERY_WITHOUT_RESULT: 0\n",
      "COUNT_QUERY_NOT_FOUND: 12\n",
      "RANK1_MEAN: 11.449\n",
      "NDCG@5_MEAN: 24.055\n",
      "NDCG@10_MEAN: 22.563\n",
      "NDCG@15_MEAN: 24.516\n",
      "NDCG@20_MEAN: 26.357\n",
      "PRECISION@50_MEAN: 7.267\n",
      "PRECISION@100_MEAN: 4.4\n",
      "RECALL@50_MEAN: 43.437\n",
      "RECALL@100_MEAN: 52.385\n",
      "TIME_SPENT_MEAN: 1.007\n",
      "==158==  2023-Jun-28 14:32:49 \n",
      "Experiment: {'TOPK_RETRIEVER': 300, 'TOPK_RANKER': 0, 'EXPANSOR_CRITERIA': 'join_bm25_sts_30_minilm_indir', 'INDEX_NAME': 'indir_juris_tcu_synonym_related_term', 'PIPE': {'PIPE_OBJECT': <haystack.pipelines.base.Pipeline object at 0x7fb60ac9a110>, 'RETRIEVER_TYPE': 'sts', 'RANKER_TYPE': 'MINILM_INDIR_400', 'RETRIEVER_MODEL_NAME': ''}, 'COLUMN_NAME': '3'}\n",
      "Experimento envolverá 150 registros, toda a base de dados\n"
     ]
    },
    {
     "name": "stderr",
     "output_type": "stream",
     "text": [
      "100%|██████████| 150/150 [02:32<00:00,  1.01s/it]\n"
     ]
    },
    {
     "name": "stdout",
     "output_type": "stream",
     "text": [
      "COLUMN_NAME: 3\n",
      "COUNT_QUERY_RUN: 150\n",
      "COUNT_QUERY_WITHOUT_RESULT: 0\n",
      "COUNT_QUERY_NOT_FOUND: 12\n",
      "RANK1_MEAN: 10.435\n",
      "NDCG@5_MEAN: 25.308\n",
      "NDCG@10_MEAN: 24.539\n",
      "NDCG@15_MEAN: 26.319\n",
      "NDCG@20_MEAN: 28.291\n",
      "PRECISION@50_MEAN: 7.52\n",
      "PRECISION@100_MEAN: 4.42\n",
      "RECALL@50_MEAN: 44.852\n",
      "RECALL@100_MEAN: 53.04\n",
      "TIME_SPENT_MEAN: 1.015\n",
      "==159==  2023-Jun-28 14:35:23 \n",
      "Experiment: {'TOPK_RETRIEVER': 300, 'TOPK_RANKER': 0, 'EXPANSOR_CRITERIA': 'join_bm25_sts_30_minilm_indir', 'INDEX_NAME': 'indir_juris_tcu_synonym_related_term', 'PIPE': {'PIPE_OBJECT': <haystack.pipelines.base.Pipeline object at 0x7fb60ac9a110>, 'RETRIEVER_TYPE': 'sts', 'RANKER_TYPE': 'MINILM_INDIR_400', 'RETRIEVER_MODEL_NAME': ''}, 'COLUMN_NAME': '4'}\n",
      "Experimento envolverá 150 registros, toda a base de dados\n"
     ]
    },
    {
     "name": "stderr",
     "output_type": "stream",
     "text": [
      "100%|██████████| 150/150 [02:33<00:00,  1.02s/it]\n"
     ]
    },
    {
     "name": "stdout",
     "output_type": "stream",
     "text": [
      "COLUMN_NAME: 4\n",
      "COUNT_QUERY_RUN: 150\n",
      "COUNT_QUERY_WITHOUT_RESULT: 0\n",
      "COUNT_QUERY_NOT_FOUND: 12\n",
      "RANK1_MEAN: 10.217\n",
      "NDCG@5_MEAN: 27.693\n",
      "NDCG@10_MEAN: 25.757\n",
      "NDCG@15_MEAN: 28.08\n",
      "NDCG@20_MEAN: 30.026\n",
      "PRECISION@50_MEAN: 7.68\n",
      "PRECISION@100_MEAN: 4.56\n",
      "RECALL@50_MEAN: 46.341\n",
      "RECALL@100_MEAN: 55.108\n",
      "TIME_SPENT_MEAN: 1.023\n",
      "==160==  2023-Jun-28 14:37:59 \n",
      "Experiment: {'TOPK_RETRIEVER': 300, 'TOPK_RANKER': 0, 'EXPANSOR_CRITERIA': 'join_bm25_sts_30_minilm_indir', 'INDEX_NAME': 'indir_juris_tcu_synonym_related_term', 'PIPE': {'PIPE_OBJECT': <haystack.pipelines.base.Pipeline object at 0x7fb60ac9a110>, 'RETRIEVER_TYPE': 'sts', 'RANKER_TYPE': 'MINILM_INDIR_400', 'RETRIEVER_MODEL_NAME': ''}, 'COLUMN_NAME': '5'}\n",
      "Experimento envolverá 150 registros, toda a base de dados\n"
     ]
    },
    {
     "name": "stderr",
     "output_type": "stream",
     "text": [
      "100%|██████████| 150/150 [02:34<00:00,  1.03s/it]\n"
     ]
    },
    {
     "name": "stdout",
     "output_type": "stream",
     "text": [
      "COLUMN_NAME: 5\n",
      "COUNT_QUERY_RUN: 150\n",
      "COUNT_QUERY_WITHOUT_RESULT: 0\n",
      "COUNT_QUERY_NOT_FOUND: 11\n",
      "RANK1_MEAN: 9.647\n",
      "NDCG@5_MEAN: 29.288\n",
      "NDCG@10_MEAN: 27.102\n",
      "NDCG@15_MEAN: 29.975\n",
      "NDCG@20_MEAN: 31.973\n",
      "PRECISION@50_MEAN: 7.933\n",
      "PRECISION@100_MEAN: 4.56\n",
      "RECALL@50_MEAN: 47.451\n",
      "RECALL@100_MEAN: 54.39\n",
      "TIME_SPENT_MEAN: 1.031\n",
      "==161==  2023-Jun-28 14:40:35 \n",
      "Experiment: {'TOPK_RETRIEVER': 300, 'TOPK_RANKER': 0, 'EXPANSOR_CRITERIA': 'join_bm25_sts_30_minilm_indir', 'INDEX_NAME': 'indir_juris_tcu_synonym_related_term', 'PIPE': {'PIPE_OBJECT': <haystack.pipelines.base.Pipeline object at 0x7fb60ac9a110>, 'RETRIEVER_TYPE': 'sts', 'RANKER_TYPE': 'MINILM_INDIR_400', 'RETRIEVER_MODEL_NAME': ''}, 'COLUMN_NAME': '6'}\n",
      "Experimento envolverá 150 registros, toda a base de dados\n"
     ]
    },
    {
     "name": "stderr",
     "output_type": "stream",
     "text": [
      "100%|██████████| 150/150 [02:35<00:00,  1.03s/it]\n"
     ]
    },
    {
     "name": "stdout",
     "output_type": "stream",
     "text": [
      "COLUMN_NAME: 6\n",
      "COUNT_QUERY_RUN: 150\n",
      "COUNT_QUERY_WITHOUT_RESULT: 0\n",
      "COUNT_QUERY_NOT_FOUND: 9\n",
      "RANK1_MEAN: 12.177\n",
      "NDCG@5_MEAN: 30.55\n",
      "NDCG@10_MEAN: 28.297\n",
      "NDCG@15_MEAN: 30.336\n",
      "NDCG@20_MEAN: 32.494\n",
      "PRECISION@50_MEAN: 7.853\n",
      "PRECISION@100_MEAN: 4.533\n",
      "RECALL@50_MEAN: 46.763\n",
      "RECALL@100_MEAN: 54.456\n",
      "TIME_SPENT_MEAN: 1.035\n",
      "==162==  2023-Jun-28 14:43:12 \n",
      "Experiment: {'TOPK_RETRIEVER': 300, 'TOPK_RANKER': 0, 'EXPANSOR_CRITERIA': 'join_bm25_sts_30_minilm_indir', 'INDEX_NAME': 'indir_juris_tcu_synonym_related_term', 'PIPE': {'PIPE_OBJECT': <haystack.pipelines.base.Pipeline object at 0x7fb60ac9a110>, 'RETRIEVER_TYPE': 'sts', 'RANKER_TYPE': 'MINILM_INDIR_400', 'RETRIEVER_MODEL_NAME': ''}, 'COLUMN_NAME': '7'}\n",
      "Experimento envolverá 150 registros, toda a base de dados\n"
     ]
    },
    {
     "name": "stderr",
     "output_type": "stream",
     "text": [
      "100%|██████████| 150/150 [02:36<00:00,  1.04s/it]\n"
     ]
    },
    {
     "name": "stdout",
     "output_type": "stream",
     "text": [
      "COLUMN_NAME: 7\n",
      "COUNT_QUERY_RUN: 150\n",
      "COUNT_QUERY_WITHOUT_RESULT: 0\n",
      "COUNT_QUERY_NOT_FOUND: 12\n",
      "RANK1_MEAN: 10.819\n",
      "NDCG@5_MEAN: 30.577\n",
      "NDCG@10_MEAN: 28.19\n",
      "NDCG@15_MEAN: 30.431\n",
      "NDCG@20_MEAN: 31.941\n",
      "PRECISION@50_MEAN: 7.813\n",
      "PRECISION@100_MEAN: 4.52\n",
      "RECALL@50_MEAN: 46.611\n",
      "RECALL@100_MEAN: 53.623\n",
      "TIME_SPENT_MEAN: 1.041\n",
      "==163==  2023-Jun-28 14:45:50 \n",
      "Experiment: {'TOPK_RETRIEVER': 300, 'TOPK_RANKER': 0, 'EXPANSOR_CRITERIA': 'join_bm25_sts_30_minilm_indir', 'INDEX_NAME': 'indir_juris_tcu_synonym_related_term', 'PIPE': {'PIPE_OBJECT': <haystack.pipelines.base.Pipeline object at 0x7fb60ac9a110>, 'RETRIEVER_TYPE': 'sts', 'RANKER_TYPE': 'MINILM_INDIR_400', 'RETRIEVER_MODEL_NAME': ''}, 'COLUMN_NAME': '8'}\n",
      "Experimento envolverá 150 registros, toda a base de dados\n"
     ]
    },
    {
     "name": "stderr",
     "output_type": "stream",
     "text": [
      "100%|██████████| 150/150 [02:36<00:00,  1.05s/it]\n"
     ]
    },
    {
     "name": "stdout",
     "output_type": "stream",
     "text": [
      "COLUMN_NAME: 8\n",
      "COUNT_QUERY_RUN: 150\n",
      "COUNT_QUERY_WITHOUT_RESULT: 0\n",
      "COUNT_QUERY_NOT_FOUND: 11\n",
      "RANK1_MEAN: 9.871\n",
      "NDCG@5_MEAN: 31.189\n",
      "NDCG@10_MEAN: 28.463\n",
      "NDCG@15_MEAN: 30.825\n",
      "NDCG@20_MEAN: 32.72\n",
      "PRECISION@50_MEAN: 7.973\n",
      "PRECISION@100_MEAN: 4.587\n",
      "RECALL@50_MEAN: 47.174\n",
      "RECALL@100_MEAN: 54.828\n",
      "TIME_SPENT_MEAN: 1.045\n",
      "==164==  2023-Jun-28 14:48:28 \n",
      "Experiment: {'TOPK_RETRIEVER': 300, 'TOPK_RANKER': 0, 'EXPANSOR_CRITERIA': 'join_bm25_sts_30_minilm_indir', 'INDEX_NAME': 'indir_juris_tcu_synonym_related_term', 'PIPE': {'PIPE_OBJECT': <haystack.pipelines.base.Pipeline object at 0x7fb60ac9a110>, 'RETRIEVER_TYPE': 'sts', 'RANKER_TYPE': 'MINILM_INDIR_400', 'RETRIEVER_MODEL_NAME': ''}, 'COLUMN_NAME': '9'}\n",
      "Experimento envolverá 150 registros, toda a base de dados\n"
     ]
    },
    {
     "name": "stderr",
     "output_type": "stream",
     "text": [
      "100%|██████████| 150/150 [02:37<00:00,  1.05s/it]\n"
     ]
    },
    {
     "name": "stdout",
     "output_type": "stream",
     "text": [
      "COLUMN_NAME: 9\n",
      "COUNT_QUERY_RUN: 150\n",
      "COUNT_QUERY_WITHOUT_RESULT: 0\n",
      "COUNT_QUERY_NOT_FOUND: 10\n",
      "RANK1_MEAN: 9.679\n",
      "NDCG@5_MEAN: 30.121\n",
      "NDCG@10_MEAN: 27.811\n",
      "NDCG@15_MEAN: 30.089\n",
      "NDCG@20_MEAN: 32.095\n",
      "PRECISION@50_MEAN: 7.84\n",
      "PRECISION@100_MEAN: 4.527\n",
      "RECALL@50_MEAN: 46.383\n",
      "RECALL@100_MEAN: 54.113\n",
      "TIME_SPENT_MEAN: 1.047\n",
      "==165==  2023-Jun-28 14:51:07 \n",
      "Experiment: {'TOPK_RETRIEVER': 300, 'TOPK_RANKER': 0, 'EXPANSOR_CRITERIA': '', 'INDEX_NAME': 'indir_juris_tcu_synonym_related_term', 'PIPE': {'PIPE_OBJECT': <haystack.pipelines.base.Pipeline object at 0x7fb60ac9a110>, 'RETRIEVER_TYPE': 'sts', 'RANKER_TYPE': 'MINILM_INDIR_400', 'RETRIEVER_MODEL_NAME': ''}, 'COLUMN_NAME': 'TEXT'}\n",
      "Experimento envolverá 150 registros, toda a base de dados\n"
     ]
    },
    {
     "name": "stderr",
     "output_type": "stream",
     "text": [
      "100%|██████████| 150/150 [02:27<00:00,  1.02it/s]\n"
     ]
    },
    {
     "name": "stdout",
     "output_type": "stream",
     "text": [
      "COLUMN_NAME: TEXT\n",
      "COUNT_QUERY_RUN: 150\n",
      "COUNT_QUERY_WITHOUT_RESULT: 0\n",
      "COUNT_QUERY_NOT_FOUND: 11\n",
      "RANK1_MEAN: 14.338\n",
      "NDCG@5_MEAN: 19.627\n",
      "NDCG@10_MEAN: 18.901\n",
      "NDCG@15_MEAN: 20.619\n",
      "NDCG@20_MEAN: 21.973\n",
      "PRECISION@50_MEAN: 6.48\n",
      "PRECISION@100_MEAN: 4.047\n",
      "RECALL@50_MEAN: 38.109\n",
      "RECALL@100_MEAN: 47.301\n",
      "TIME_SPENT_MEAN: 0.984\n",
      "CPU times: user 3h 36min 42s, sys: 1min 9s, total: 3h 37min 51s\n",
      "Wall time: 3h 39min 20s\n"
     ]
    }
   ],
   "source": [
    "%%time\n",
    "# colocar pequeno só para testes, depois voltar para 9999999 (número maior do que o número de termos a pesquisar)\n",
    "if consider_run_all:\n",
    "    target_columns = df_search_data.columns.difference(['ID', 'RELEVANCE_DICT', 'SOURCE'])\n",
    "elif consider_query_expanded:\n",
    "    target_columns = df_search_data.columns.difference(['ID', 'RELEVANCE_DICT', 'SOURCE', 'TEXT'])\n",
    "else:\n",
    "    target_columns = ['TEXT']\n",
    "limit_query =  9999999 # 100 # \n",
    "cnt_exec = 0\n",
    "print('target_columns', target_columns)\n",
    "for index_name in pipes.keys():\n",
    "    for pipe in pipes[index_name]:\n",
    "        for cnt, experiment in enumerate(list_experiment):\n",
    "            # raise Exception('false break')            \n",
    "            for column_name in target_columns:\n",
    "                cnt_exec += 1\n",
    "                if column_name == 'TEXT':\n",
    "                    experiment['EXPANSOR_CRITERIA'] = \"\"\n",
    "                else:\n",
    "                    experiment['EXPANSOR_CRITERIA'] = EXPANSOR_CRITERIA\n",
    "                experiment['INDEX_NAME'] = index_name\n",
    "                experiment['PIPE'] = pipe\n",
    "                experiment['COLUMN_NAME'] = column_name\n",
    "                print(f\"=={cnt_exec}==  {time.strftime('%Y-%b-%d %H:%M:%S')} \\nExperiment: {experiment}\")\n",
    "                list_result_experiment = [] # por experiment\n",
    "                result_run = util_experiment.experiment_run(parm_df=df_search_data, \n",
    "                                                        parm_experiment=experiment,\n",
    "                                                        parm_limit_query=limit_query,\n",
    "                                                        parm_print=True)\n",
    "                # raise Exception('false break')\n",
    "                list_result_experiment.append(result_run)\n",
    "                # print(f\"qtd_encontrado sim:{result_run['qtd_encontrado']}, não:{result_run['qtd_nao_encontrado']} ({result_run['percent_nao_encontrado']}%)\")\n",
    "                util_experiment.add_experiment_result(parm_list_result=list_result_experiment, parm_dataset='juris_tcu')\n",
    "                torch.cuda.empty_cache()\n"
   ]
  },
  {
   "cell_type": "code",
   "execution_count": null,
   "metadata": {},
   "outputs": [],
   "source": []
  },
  {
   "cell_type": "code",
   "execution_count": null,
   "metadata": {},
   "outputs": [],
   "source": []
  },
  {
   "cell_type": "code",
   "execution_count": null,
   "metadata": {},
   "outputs": [
    {
     "name": "stdout",
     "output_type": "stream",
     "text": [
      "===>  2023-Jun-27 20:35:05 experiment: {'TOPK_RETRIEVER': 300, 'TOPK_RANKER': 0, 'INDEX_NAME': 'indir_juris_tcu', 'PIPE': {'PIPE_OBJECT': <haystack.pipelines.standard_pipelines.DocumentSearchPipeline object at 0x7f4df56bd750>, 'RETRIEVER_TYPE': 'bm25', 'RANKER_TYPE': 'none', 'RANKER_MODEL_NAME': '', 'RETRIEVER_MODEL_NAME': ''}, 'COLUMN_NAME': '1', 'EXPANSOR_CRITERIA': 'join_bm25_sts_30_minilm_indir'}\n",
      "Experimento envolverá 150 registros, toda a base de dados\n"
     ]
    },
    {
     "name": "stderr",
     "output_type": "stream",
     "text": [
      "100%|██████████| 150/150 [00:18<00:00,  8.30it/s]\n"
     ]
    },
    {
     "name": "stdout",
     "output_type": "stream",
     "text": [
      "COLUMN_NAME: 1\n",
      "COUNT_QUERY_RUN: 150\n",
      "COUNT_QUERY_WITHOUT_RESULT: 0\n",
      "COUNT_QUERY_NOT_FOUND: 0\n",
      "RANK1_MEAN: 2.873\n",
      "NDCG@5_MEAN: 56.202\n",
      "NDCG@10_MEAN: 52.261\n",
      "NDCG@15_MEAN: 54.66\n",
      "NDCG@20_MEAN: 57.599\n",
      "PRECISION@50_MEAN: 12.627\n",
      "PRECISION@100_MEAN: 6.973\n",
      "RECALL@50_MEAN: 42.089\n",
      "RECALL@100_MEAN: 46.489\n",
      "TIME_SPENT_MEAN: 0.121\n",
      "===>  2023-Jun-27 20:35:23 experiment: {'TOPK_RETRIEVER': 300, 'TOPK_RANKER': 0, 'INDEX_NAME': 'indir_juris_tcu', 'PIPE': {'PIPE_OBJECT': <haystack.pipelines.standard_pipelines.DocumentSearchPipeline object at 0x7f4df56bd750>, 'RETRIEVER_TYPE': 'bm25', 'RANKER_TYPE': 'none', 'RANKER_MODEL_NAME': '', 'RETRIEVER_MODEL_NAME': ''}, 'COLUMN_NAME': '10', 'EXPANSOR_CRITERIA': 'join_bm25_sts_30_minilm_indir'}\n",
      "Experimento envolverá 150 registros, toda a base de dados\n"
     ]
    },
    {
     "name": "stderr",
     "output_type": "stream",
     "text": [
      "100%|██████████| 150/150 [00:20<00:00,  7.39it/s]\n"
     ]
    },
    {
     "name": "stdout",
     "output_type": "stream",
     "text": [
      "COLUMN_NAME: 10\n",
      "COUNT_QUERY_RUN: 150\n",
      "COUNT_QUERY_WITHOUT_RESULT: 0\n",
      "COUNT_QUERY_NOT_FOUND: 0\n",
      "RANK1_MEAN: 6.427\n",
      "NDCG@5_MEAN: 48.434\n",
      "NDCG@10_MEAN: 45.663\n",
      "NDCG@15_MEAN: 48.025\n",
      "NDCG@20_MEAN: 50.368\n",
      "PRECISION@50_MEAN: 11.067\n",
      "PRECISION@100_MEAN: 6.473\n",
      "RECALL@50_MEAN: 36.889\n",
      "RECALL@100_MEAN: 43.156\n",
      "TIME_SPENT_MEAN: 0.135\n",
      "===>  2023-Jun-27 20:35:44 experiment: {'TOPK_RETRIEVER': 300, 'TOPK_RANKER': 0, 'INDEX_NAME': 'indir_juris_tcu', 'PIPE': {'PIPE_OBJECT': <haystack.pipelines.standard_pipelines.DocumentSearchPipeline object at 0x7f4df56bd750>, 'RETRIEVER_TYPE': 'bm25', 'RANKER_TYPE': 'none', 'RANKER_MODEL_NAME': '', 'RETRIEVER_MODEL_NAME': ''}, 'COLUMN_NAME': '2', 'EXPANSOR_CRITERIA': 'join_bm25_sts_30_minilm_indir'}\n",
      "Experimento envolverá 150 registros, toda a base de dados\n"
     ]
    },
    {
     "name": "stderr",
     "output_type": "stream",
     "text": [
      "100%|██████████| 150/150 [00:19<00:00,  7.83it/s]\n"
     ]
    },
    {
     "name": "stdout",
     "output_type": "stream",
     "text": [
      "COLUMN_NAME: 2\n",
      "COUNT_QUERY_RUN: 150\n",
      "COUNT_QUERY_WITHOUT_RESULT: 0\n",
      "COUNT_QUERY_NOT_FOUND: 0\n",
      "RANK1_MEAN: 3.907\n",
      "NDCG@5_MEAN: 56.274\n",
      "NDCG@10_MEAN: 52.205\n",
      "NDCG@15_MEAN: 54.46\n",
      "NDCG@20_MEAN: 56.592\n",
      "PRECISION@50_MEAN: 12.147\n",
      "PRECISION@100_MEAN: 6.84\n",
      "RECALL@50_MEAN: 40.489\n",
      "RECALL@100_MEAN: 45.6\n",
      "TIME_SPENT_MEAN: 0.128\n",
      "===>  2023-Jun-27 20:36:04 experiment: {'TOPK_RETRIEVER': 300, 'TOPK_RANKER': 0, 'INDEX_NAME': 'indir_juris_tcu', 'PIPE': {'PIPE_OBJECT': <haystack.pipelines.standard_pipelines.DocumentSearchPipeline object at 0x7f4df56bd750>, 'RETRIEVER_TYPE': 'bm25', 'RANKER_TYPE': 'none', 'RANKER_MODEL_NAME': '', 'RETRIEVER_MODEL_NAME': ''}, 'COLUMN_NAME': '3', 'EXPANSOR_CRITERIA': 'join_bm25_sts_30_minilm_indir'}\n",
      "Experimento envolverá 150 registros, toda a base de dados\n"
     ]
    },
    {
     "name": "stderr",
     "output_type": "stream",
     "text": [
      "100%|██████████| 150/150 [00:18<00:00,  8.12it/s]\n"
     ]
    },
    {
     "name": "stdout",
     "output_type": "stream",
     "text": [
      "COLUMN_NAME: 3\n",
      "COUNT_QUERY_RUN: 150\n",
      "COUNT_QUERY_WITHOUT_RESULT: 0\n",
      "COUNT_QUERY_NOT_FOUND: 0\n",
      "RANK1_MEAN: 3.62\n",
      "NDCG@5_MEAN: 54.357\n",
      "NDCG@10_MEAN: 50.502\n",
      "NDCG@15_MEAN: 52.255\n",
      "NDCG@20_MEAN: 54.836\n",
      "PRECISION@50_MEAN: 11.867\n",
      "PRECISION@100_MEAN: 6.84\n",
      "RECALL@50_MEAN: 39.556\n",
      "RECALL@100_MEAN: 45.6\n",
      "TIME_SPENT_MEAN: 0.123\n",
      "===>  2023-Jun-27 20:36:22 experiment: {'TOPK_RETRIEVER': 300, 'TOPK_RANKER': 0, 'INDEX_NAME': 'indir_juris_tcu', 'PIPE': {'PIPE_OBJECT': <haystack.pipelines.standard_pipelines.DocumentSearchPipeline object at 0x7f4df56bd750>, 'RETRIEVER_TYPE': 'bm25', 'RANKER_TYPE': 'none', 'RANKER_MODEL_NAME': '', 'RETRIEVER_MODEL_NAME': ''}, 'COLUMN_NAME': '4', 'EXPANSOR_CRITERIA': 'join_bm25_sts_30_minilm_indir'}\n",
      "Experimento envolverá 150 registros, toda a base de dados\n"
     ]
    },
    {
     "name": "stderr",
     "output_type": "stream",
     "text": [
      "100%|██████████| 150/150 [00:18<00:00,  8.25it/s]\n"
     ]
    },
    {
     "name": "stdout",
     "output_type": "stream",
     "text": [
      "COLUMN_NAME: 4\n",
      "COUNT_QUERY_RUN: 150\n",
      "COUNT_QUERY_WITHOUT_RESULT: 0\n",
      "COUNT_QUERY_NOT_FOUND: 0\n",
      "RANK1_MEAN: 3.96\n",
      "NDCG@5_MEAN: 54.226\n",
      "NDCG@10_MEAN: 50.383\n",
      "NDCG@15_MEAN: 52.372\n",
      "NDCG@20_MEAN: 54.614\n",
      "PRECISION@50_MEAN: 11.64\n",
      "PRECISION@100_MEAN: 6.68\n",
      "RECALL@50_MEAN: 38.8\n",
      "RECALL@100_MEAN: 44.533\n",
      "TIME_SPENT_MEAN: 0.121\n",
      "===>  2023-Jun-27 20:36:41 experiment: {'TOPK_RETRIEVER': 300, 'TOPK_RANKER': 0, 'INDEX_NAME': 'indir_juris_tcu', 'PIPE': {'PIPE_OBJECT': <haystack.pipelines.standard_pipelines.DocumentSearchPipeline object at 0x7f4df56bd750>, 'RETRIEVER_TYPE': 'bm25', 'RANKER_TYPE': 'none', 'RANKER_MODEL_NAME': '', 'RETRIEVER_MODEL_NAME': ''}, 'COLUMN_NAME': '5', 'EXPANSOR_CRITERIA': 'join_bm25_sts_30_minilm_indir'}\n",
      "Experimento envolverá 150 registros, toda a base de dados\n"
     ]
    },
    {
     "name": "stderr",
     "output_type": "stream",
     "text": [
      "100%|██████████| 150/150 [00:18<00:00,  8.10it/s]\n"
     ]
    },
    {
     "name": "stdout",
     "output_type": "stream",
     "text": [
      "COLUMN_NAME: 5\n",
      "COUNT_QUERY_RUN: 150\n",
      "COUNT_QUERY_WITHOUT_RESULT: 0\n",
      "COUNT_QUERY_NOT_FOUND: 0\n",
      "RANK1_MEAN: 5.0\n",
      "NDCG@5_MEAN: 52.515\n",
      "NDCG@10_MEAN: 48.485\n",
      "NDCG@15_MEAN: 50.803\n",
      "NDCG@20_MEAN: 53.095\n",
      "PRECISION@50_MEAN: 11.387\n",
      "PRECISION@100_MEAN: 6.66\n",
      "RECALL@50_MEAN: 37.956\n",
      "RECALL@100_MEAN: 44.4\n",
      "TIME_SPENT_MEAN: 0.124\n",
      "===>  2023-Jun-27 20:37:00 experiment: {'TOPK_RETRIEVER': 300, 'TOPK_RANKER': 0, 'INDEX_NAME': 'indir_juris_tcu', 'PIPE': {'PIPE_OBJECT': <haystack.pipelines.standard_pipelines.DocumentSearchPipeline object at 0x7f4df56bd750>, 'RETRIEVER_TYPE': 'bm25', 'RANKER_TYPE': 'none', 'RANKER_MODEL_NAME': '', 'RETRIEVER_MODEL_NAME': ''}, 'COLUMN_NAME': '6', 'EXPANSOR_CRITERIA': 'join_bm25_sts_30_minilm_indir'}\n",
      "Experimento envolverá 150 registros, toda a base de dados\n"
     ]
    },
    {
     "name": "stderr",
     "output_type": "stream",
     "text": [
      "100%|██████████| 150/150 [00:18<00:00,  7.93it/s]\n"
     ]
    },
    {
     "name": "stdout",
     "output_type": "stream",
     "text": [
      "COLUMN_NAME: 6\n",
      "COUNT_QUERY_RUN: 150\n",
      "COUNT_QUERY_WITHOUT_RESULT: 0\n",
      "COUNT_QUERY_NOT_FOUND: 0\n",
      "RANK1_MEAN: 5.74\n",
      "NDCG@5_MEAN: 51.222\n",
      "NDCG@10_MEAN: 47.231\n",
      "NDCG@15_MEAN: 49.235\n",
      "NDCG@20_MEAN: 51.636\n",
      "PRECISION@50_MEAN: 11.187\n",
      "PRECISION@100_MEAN: 6.567\n",
      "RECALL@50_MEAN: 37.289\n",
      "RECALL@100_MEAN: 43.778\n",
      "TIME_SPENT_MEAN: 0.126\n",
      "===>  2023-Jun-27 20:37:19 experiment: {'TOPK_RETRIEVER': 300, 'TOPK_RANKER': 0, 'INDEX_NAME': 'indir_juris_tcu', 'PIPE': {'PIPE_OBJECT': <haystack.pipelines.standard_pipelines.DocumentSearchPipeline object at 0x7f4df56bd750>, 'RETRIEVER_TYPE': 'bm25', 'RANKER_TYPE': 'none', 'RANKER_MODEL_NAME': '', 'RETRIEVER_MODEL_NAME': ''}, 'COLUMN_NAME': '7', 'EXPANSOR_CRITERIA': 'join_bm25_sts_30_minilm_indir'}\n",
      "Experimento envolverá 150 registros, toda a base de dados\n"
     ]
    },
    {
     "name": "stderr",
     "output_type": "stream",
     "text": [
      "100%|██████████| 150/150 [00:18<00:00,  8.02it/s]\n"
     ]
    },
    {
     "name": "stdout",
     "output_type": "stream",
     "text": [
      "COLUMN_NAME: 7\n",
      "COUNT_QUERY_RUN: 150\n",
      "COUNT_QUERY_WITHOUT_RESULT: 0\n",
      "COUNT_QUERY_NOT_FOUND: 0\n",
      "RANK1_MEAN: 5.36\n",
      "NDCG@5_MEAN: 50.741\n",
      "NDCG@10_MEAN: 47.334\n",
      "NDCG@15_MEAN: 49.312\n",
      "NDCG@20_MEAN: 51.636\n",
      "PRECISION@50_MEAN: 11.067\n",
      "PRECISION@100_MEAN: 6.487\n",
      "RECALL@50_MEAN: 36.889\n",
      "RECALL@100_MEAN: 43.244\n",
      "TIME_SPENT_MEAN: 0.125\n",
      "===>  2023-Jun-27 20:37:39 experiment: {'TOPK_RETRIEVER': 300, 'TOPK_RANKER': 0, 'INDEX_NAME': 'indir_juris_tcu', 'PIPE': {'PIPE_OBJECT': <haystack.pipelines.standard_pipelines.DocumentSearchPipeline object at 0x7f4df56bd750>, 'RETRIEVER_TYPE': 'bm25', 'RANKER_TYPE': 'none', 'RANKER_MODEL_NAME': '', 'RETRIEVER_MODEL_NAME': ''}, 'COLUMN_NAME': '8', 'EXPANSOR_CRITERIA': 'join_bm25_sts_30_minilm_indir'}\n",
      "Experimento envolverá 150 registros, toda a base de dados\n"
     ]
    },
    {
     "name": "stderr",
     "output_type": "stream",
     "text": [
      "100%|██████████| 150/150 [00:18<00:00,  8.02it/s]\n"
     ]
    },
    {
     "name": "stdout",
     "output_type": "stream",
     "text": [
      "COLUMN_NAME: 8\n",
      "COUNT_QUERY_RUN: 150\n",
      "COUNT_QUERY_WITHOUT_RESULT: 0\n",
      "COUNT_QUERY_NOT_FOUND: 0\n",
      "RANK1_MEAN: 6.267\n",
      "NDCG@5_MEAN: 49.353\n",
      "NDCG@10_MEAN: 46.664\n",
      "NDCG@15_MEAN: 48.968\n",
      "NDCG@20_MEAN: 51.228\n",
      "PRECISION@50_MEAN: 11.213\n",
      "PRECISION@100_MEAN: 6.473\n",
      "RECALL@50_MEAN: 37.378\n",
      "RECALL@100_MEAN: 43.156\n",
      "TIME_SPENT_MEAN: 0.125\n",
      "===>  2023-Jun-27 20:37:58 experiment: {'TOPK_RETRIEVER': 300, 'TOPK_RANKER': 0, 'INDEX_NAME': 'indir_juris_tcu', 'PIPE': {'PIPE_OBJECT': <haystack.pipelines.standard_pipelines.DocumentSearchPipeline object at 0x7f4df56bd750>, 'RETRIEVER_TYPE': 'bm25', 'RANKER_TYPE': 'none', 'RANKER_MODEL_NAME': '', 'RETRIEVER_MODEL_NAME': ''}, 'COLUMN_NAME': '9', 'EXPANSOR_CRITERIA': 'join_bm25_sts_30_minilm_indir'}\n",
      "Experimento envolverá 150 registros, toda a base de dados\n"
     ]
    },
    {
     "name": "stderr",
     "output_type": "stream",
     "text": [
      "100%|██████████| 150/150 [00:18<00:00,  8.03it/s]\n"
     ]
    },
    {
     "name": "stdout",
     "output_type": "stream",
     "text": [
      "COLUMN_NAME: 9\n",
      "COUNT_QUERY_RUN: 150\n",
      "COUNT_QUERY_WITHOUT_RESULT: 0\n",
      "COUNT_QUERY_NOT_FOUND: 0\n",
      "RANK1_MEAN: 6.56\n",
      "NDCG@5_MEAN: 48.675\n",
      "NDCG@10_MEAN: 45.926\n",
      "NDCG@15_MEAN: 48.31\n",
      "NDCG@20_MEAN: 50.65\n",
      "PRECISION@50_MEAN: 11.067\n",
      "PRECISION@100_MEAN: 6.453\n",
      "RECALL@50_MEAN: 36.889\n",
      "RECALL@100_MEAN: 43.022\n",
      "TIME_SPENT_MEAN: 0.125\n",
      "===>  2023-Jun-27 20:38:17 experiment: {'TOPK_RETRIEVER': 300, 'TOPK_RANKER': 0, 'INDEX_NAME': 'indir_juris_tcu_term', 'PIPE': {'PIPE_OBJECT': <haystack.pipelines.standard_pipelines.DocumentSearchPipeline object at 0x7f4df5e0c690>, 'RETRIEVER_TYPE': 'bm25', 'RANKER_TYPE': 'none', 'RANKER_MODEL_NAME': '', 'RETRIEVER_MODEL_NAME': ''}, 'COLUMN_NAME': '1', 'EXPANSOR_CRITERIA': 'join_bm25_sts_30_minilm_indir'}\n",
      "Experimento envolverá 150 registros, toda a base de dados\n"
     ]
    },
    {
     "name": "stderr",
     "output_type": "stream",
     "text": [
      "100%|██████████| 150/150 [00:21<00:00,  6.97it/s]\n"
     ]
    },
    {
     "name": "stdout",
     "output_type": "stream",
     "text": [
      "COLUMN_NAME: 1\n",
      "COUNT_QUERY_RUN: 150\n",
      "COUNT_QUERY_WITHOUT_RESULT: 0\n",
      "COUNT_QUERY_NOT_FOUND: 0\n",
      "RANK1_MEAN: 2.627\n",
      "NDCG@5_MEAN: 56.884\n",
      "NDCG@10_MEAN: 53.318\n",
      "NDCG@15_MEAN: 56.183\n",
      "NDCG@20_MEAN: 59.084\n",
      "PRECISION@50_MEAN: 13.333\n",
      "PRECISION@100_MEAN: 7.307\n",
      "RECALL@50_MEAN: 44.444\n",
      "RECALL@100_MEAN: 48.711\n",
      "TIME_SPENT_MEAN: 0.144\n",
      "===>  2023-Jun-27 20:38:39 experiment: {'TOPK_RETRIEVER': 300, 'TOPK_RANKER': 0, 'INDEX_NAME': 'indir_juris_tcu_term', 'PIPE': {'PIPE_OBJECT': <haystack.pipelines.standard_pipelines.DocumentSearchPipeline object at 0x7f4df5e0c690>, 'RETRIEVER_TYPE': 'bm25', 'RANKER_TYPE': 'none', 'RANKER_MODEL_NAME': '', 'RETRIEVER_MODEL_NAME': ''}, 'COLUMN_NAME': '10', 'EXPANSOR_CRITERIA': 'join_bm25_sts_30_minilm_indir'}\n",
      "Experimento envolverá 150 registros, toda a base de dados\n"
     ]
    },
    {
     "name": "stderr",
     "output_type": "stream",
     "text": [
      "100%|██████████| 150/150 [00:20<00:00,  7.37it/s]\n"
     ]
    },
    {
     "name": "stdout",
     "output_type": "stream",
     "text": [
      "COLUMN_NAME: 10\n",
      "COUNT_QUERY_RUN: 150\n",
      "COUNT_QUERY_WITHOUT_RESULT: 0\n",
      "COUNT_QUERY_NOT_FOUND: 0\n",
      "RANK1_MEAN: 5.713\n",
      "NDCG@5_MEAN: 49.144\n",
      "NDCG@10_MEAN: 45.793\n",
      "NDCG@15_MEAN: 48.498\n",
      "NDCG@20_MEAN: 51.198\n",
      "PRECISION@50_MEAN: 11.68\n",
      "PRECISION@100_MEAN: 6.773\n",
      "RECALL@50_MEAN: 38.933\n",
      "RECALL@100_MEAN: 45.156\n",
      "TIME_SPENT_MEAN: 0.136\n",
      "===>  2023-Jun-27 20:39:00 experiment: {'TOPK_RETRIEVER': 300, 'TOPK_RANKER': 0, 'INDEX_NAME': 'indir_juris_tcu_term', 'PIPE': {'PIPE_OBJECT': <haystack.pipelines.standard_pipelines.DocumentSearchPipeline object at 0x7f4df5e0c690>, 'RETRIEVER_TYPE': 'bm25', 'RANKER_TYPE': 'none', 'RANKER_MODEL_NAME': '', 'RETRIEVER_MODEL_NAME': ''}, 'COLUMN_NAME': '2', 'EXPANSOR_CRITERIA': 'join_bm25_sts_30_minilm_indir'}\n",
      "Experimento envolverá 150 registros, toda a base de dados\n"
     ]
    },
    {
     "name": "stderr",
     "output_type": "stream",
     "text": [
      "100%|██████████| 150/150 [00:18<00:00,  8.02it/s]\n"
     ]
    },
    {
     "name": "stdout",
     "output_type": "stream",
     "text": [
      "COLUMN_NAME: 2\n",
      "COUNT_QUERY_RUN: 150\n",
      "COUNT_QUERY_WITHOUT_RESULT: 0\n",
      "COUNT_QUERY_NOT_FOUND: 0\n",
      "RANK1_MEAN: 3.32\n",
      "NDCG@5_MEAN: 54.906\n",
      "NDCG@10_MEAN: 51.835\n",
      "NDCG@15_MEAN: 54.4\n",
      "NDCG@20_MEAN: 57.644\n",
      "PRECISION@50_MEAN: 13.013\n",
      "PRECISION@100_MEAN: 7.287\n",
      "RECALL@50_MEAN: 43.378\n",
      "RECALL@100_MEAN: 48.578\n",
      "TIME_SPENT_MEAN: 0.125\n",
      "===>  2023-Jun-27 20:39:19 experiment: {'TOPK_RETRIEVER': 300, 'TOPK_RANKER': 0, 'INDEX_NAME': 'indir_juris_tcu_term', 'PIPE': {'PIPE_OBJECT': <haystack.pipelines.standard_pipelines.DocumentSearchPipeline object at 0x7f4df5e0c690>, 'RETRIEVER_TYPE': 'bm25', 'RANKER_TYPE': 'none', 'RANKER_MODEL_NAME': '', 'RETRIEVER_MODEL_NAME': ''}, 'COLUMN_NAME': '3', 'EXPANSOR_CRITERIA': 'join_bm25_sts_30_minilm_indir'}\n",
      "Experimento envolverá 150 registros, toda a base de dados\n"
     ]
    },
    {
     "name": "stderr",
     "output_type": "stream",
     "text": [
      "100%|██████████| 150/150 [00:18<00:00,  7.99it/s]\n"
     ]
    },
    {
     "name": "stdout",
     "output_type": "stream",
     "text": [
      "COLUMN_NAME: 3\n",
      "COUNT_QUERY_RUN: 150\n",
      "COUNT_QUERY_WITHOUT_RESULT: 0\n",
      "COUNT_QUERY_NOT_FOUND: 0\n",
      "RANK1_MEAN: 3.727\n",
      "NDCG@5_MEAN: 53.81\n",
      "NDCG@10_MEAN: 50.53\n",
      "NDCG@15_MEAN: 53.632\n",
      "NDCG@20_MEAN: 56.395\n",
      "PRECISION@50_MEAN: 12.64\n",
      "PRECISION@100_MEAN: 7.267\n",
      "RECALL@50_MEAN: 42.133\n",
      "RECALL@100_MEAN: 48.445\n",
      "TIME_SPENT_MEAN: 0.125\n",
      "===>  2023-Jun-27 20:39:38 experiment: {'TOPK_RETRIEVER': 300, 'TOPK_RANKER': 0, 'INDEX_NAME': 'indir_juris_tcu_term', 'PIPE': {'PIPE_OBJECT': <haystack.pipelines.standard_pipelines.DocumentSearchPipeline object at 0x7f4df5e0c690>, 'RETRIEVER_TYPE': 'bm25', 'RANKER_TYPE': 'none', 'RANKER_MODEL_NAME': '', 'RETRIEVER_MODEL_NAME': ''}, 'COLUMN_NAME': '4', 'EXPANSOR_CRITERIA': 'join_bm25_sts_30_minilm_indir'}\n",
      "Experimento envolverá 150 registros, toda a base de dados\n"
     ]
    },
    {
     "name": "stderr",
     "output_type": "stream",
     "text": [
      "100%|██████████| 150/150 [00:18<00:00,  8.05it/s]\n"
     ]
    },
    {
     "name": "stdout",
     "output_type": "stream",
     "text": [
      "COLUMN_NAME: 4\n",
      "COUNT_QUERY_RUN: 150\n",
      "COUNT_QUERY_WITHOUT_RESULT: 0\n",
      "COUNT_QUERY_NOT_FOUND: 0\n",
      "RANK1_MEAN: 4.367\n",
      "NDCG@5_MEAN: 53.886\n",
      "NDCG@10_MEAN: 50.681\n",
      "NDCG@15_MEAN: 53.298\n",
      "NDCG@20_MEAN: 55.533\n",
      "PRECISION@50_MEAN: 12.267\n",
      "PRECISION@100_MEAN: 7.16\n",
      "RECALL@50_MEAN: 40.889\n",
      "RECALL@100_MEAN: 47.733\n",
      "TIME_SPENT_MEAN: 0.124\n",
      "===>  2023-Jun-27 20:39:58 experiment: {'TOPK_RETRIEVER': 300, 'TOPK_RANKER': 0, 'INDEX_NAME': 'indir_juris_tcu_term', 'PIPE': {'PIPE_OBJECT': <haystack.pipelines.standard_pipelines.DocumentSearchPipeline object at 0x7f4df5e0c690>, 'RETRIEVER_TYPE': 'bm25', 'RANKER_TYPE': 'none', 'RANKER_MODEL_NAME': '', 'RETRIEVER_MODEL_NAME': ''}, 'COLUMN_NAME': '5', 'EXPANSOR_CRITERIA': 'join_bm25_sts_30_minilm_indir'}\n",
      "Experimento envolverá 150 registros, toda a base de dados\n"
     ]
    },
    {
     "name": "stderr",
     "output_type": "stream",
     "text": [
      "100%|██████████| 150/150 [00:18<00:00,  8.01it/s]\n"
     ]
    },
    {
     "name": "stdout",
     "output_type": "stream",
     "text": [
      "COLUMN_NAME: 5\n",
      "COUNT_QUERY_RUN: 150\n",
      "COUNT_QUERY_WITHOUT_RESULT: 0\n",
      "COUNT_QUERY_NOT_FOUND: 0\n",
      "RANK1_MEAN: 5.427\n",
      "NDCG@5_MEAN: 51.561\n",
      "NDCG@10_MEAN: 48.703\n",
      "NDCG@15_MEAN: 51.039\n",
      "NDCG@20_MEAN: 54.063\n",
      "PRECISION@50_MEAN: 12.053\n",
      "PRECISION@100_MEAN: 7.0\n",
      "RECALL@50_MEAN: 40.178\n",
      "RECALL@100_MEAN: 46.667\n",
      "TIME_SPENT_MEAN: 0.125\n",
      "===>  2023-Jun-27 20:40:17 experiment: {'TOPK_RETRIEVER': 300, 'TOPK_RANKER': 0, 'INDEX_NAME': 'indir_juris_tcu_term', 'PIPE': {'PIPE_OBJECT': <haystack.pipelines.standard_pipelines.DocumentSearchPipeline object at 0x7f4df5e0c690>, 'RETRIEVER_TYPE': 'bm25', 'RANKER_TYPE': 'none', 'RANKER_MODEL_NAME': '', 'RETRIEVER_MODEL_NAME': ''}, 'COLUMN_NAME': '6', 'EXPANSOR_CRITERIA': 'join_bm25_sts_30_minilm_indir'}\n",
      "Experimento envolverá 150 registros, toda a base de dados\n"
     ]
    },
    {
     "name": "stderr",
     "output_type": "stream",
     "text": [
      "100%|██████████| 150/150 [00:18<00:00,  8.05it/s]\n"
     ]
    },
    {
     "name": "stdout",
     "output_type": "stream",
     "text": [
      "COLUMN_NAME: 6\n",
      "COUNT_QUERY_RUN: 150\n",
      "COUNT_QUERY_WITHOUT_RESULT: 0\n",
      "COUNT_QUERY_NOT_FOUND: 0\n",
      "RANK1_MEAN: 5.707\n",
      "NDCG@5_MEAN: 51.072\n",
      "NDCG@10_MEAN: 47.216\n",
      "NDCG@15_MEAN: 50.038\n",
      "NDCG@20_MEAN: 52.932\n",
      "PRECISION@50_MEAN: 11.76\n",
      "PRECISION@100_MEAN: 6.96\n",
      "RECALL@50_MEAN: 39.2\n",
      "RECALL@100_MEAN: 46.4\n",
      "TIME_SPENT_MEAN: 0.124\n",
      "===>  2023-Jun-27 20:40:36 experiment: {'TOPK_RETRIEVER': 300, 'TOPK_RANKER': 0, 'INDEX_NAME': 'indir_juris_tcu_term', 'PIPE': {'PIPE_OBJECT': <haystack.pipelines.standard_pipelines.DocumentSearchPipeline object at 0x7f4df5e0c690>, 'RETRIEVER_TYPE': 'bm25', 'RANKER_TYPE': 'none', 'RANKER_MODEL_NAME': '', 'RETRIEVER_MODEL_NAME': ''}, 'COLUMN_NAME': '7', 'EXPANSOR_CRITERIA': 'join_bm25_sts_30_minilm_indir'}\n",
      "Experimento envolverá 150 registros, toda a base de dados\n"
     ]
    },
    {
     "name": "stderr",
     "output_type": "stream",
     "text": [
      "100%|██████████| 150/150 [00:18<00:00,  8.07it/s]\n"
     ]
    },
    {
     "name": "stdout",
     "output_type": "stream",
     "text": [
      "COLUMN_NAME: 7\n",
      "COUNT_QUERY_RUN: 150\n",
      "COUNT_QUERY_WITHOUT_RESULT: 0\n",
      "COUNT_QUERY_NOT_FOUND: 0\n",
      "RANK1_MEAN: 5.673\n",
      "NDCG@5_MEAN: 49.76\n",
      "NDCG@10_MEAN: 46.712\n",
      "NDCG@15_MEAN: 49.655\n",
      "NDCG@20_MEAN: 52.397\n",
      "PRECISION@50_MEAN: 11.653\n",
      "PRECISION@100_MEAN: 6.853\n",
      "RECALL@50_MEAN: 38.844\n",
      "RECALL@100_MEAN: 45.689\n",
      "TIME_SPENT_MEAN: 0.124\n",
      "===>  2023-Jun-27 20:40:55 experiment: {'TOPK_RETRIEVER': 300, 'TOPK_RANKER': 0, 'INDEX_NAME': 'indir_juris_tcu_term', 'PIPE': {'PIPE_OBJECT': <haystack.pipelines.standard_pipelines.DocumentSearchPipeline object at 0x7f4df5e0c690>, 'RETRIEVER_TYPE': 'bm25', 'RANKER_TYPE': 'none', 'RANKER_MODEL_NAME': '', 'RETRIEVER_MODEL_NAME': ''}, 'COLUMN_NAME': '8', 'EXPANSOR_CRITERIA': 'join_bm25_sts_30_minilm_indir'}\n",
      "Experimento envolverá 150 registros, toda a base de dados\n"
     ]
    },
    {
     "name": "stderr",
     "output_type": "stream",
     "text": [
      "100%|██████████| 150/150 [00:18<00:00,  8.04it/s]\n"
     ]
    },
    {
     "name": "stdout",
     "output_type": "stream",
     "text": [
      "COLUMN_NAME: 8\n",
      "COUNT_QUERY_RUN: 150\n",
      "COUNT_QUERY_WITHOUT_RESULT: 0\n",
      "COUNT_QUERY_NOT_FOUND: 0\n",
      "RANK1_MEAN: 5.827\n",
      "NDCG@5_MEAN: 49.741\n",
      "NDCG@10_MEAN: 46.248\n",
      "NDCG@15_MEAN: 49.367\n",
      "NDCG@20_MEAN: 52.055\n",
      "PRECISION@50_MEAN: 11.6\n",
      "PRECISION@100_MEAN: 6.793\n",
      "RECALL@50_MEAN: 38.667\n",
      "RECALL@100_MEAN: 45.289\n",
      "TIME_SPENT_MEAN: 0.124\n",
      "===>  2023-Jun-27 20:41:14 experiment: {'TOPK_RETRIEVER': 300, 'TOPK_RANKER': 0, 'INDEX_NAME': 'indir_juris_tcu_term', 'PIPE': {'PIPE_OBJECT': <haystack.pipelines.standard_pipelines.DocumentSearchPipeline object at 0x7f4df5e0c690>, 'RETRIEVER_TYPE': 'bm25', 'RANKER_TYPE': 'none', 'RANKER_MODEL_NAME': '', 'RETRIEVER_MODEL_NAME': ''}, 'COLUMN_NAME': '9', 'EXPANSOR_CRITERIA': 'join_bm25_sts_30_minilm_indir'}\n",
      "Experimento envolverá 150 registros, toda a base de dados\n"
     ]
    },
    {
     "name": "stderr",
     "output_type": "stream",
     "text": [
      "100%|██████████| 150/150 [00:18<00:00,  8.08it/s]\n"
     ]
    },
    {
     "name": "stdout",
     "output_type": "stream",
     "text": [
      "COLUMN_NAME: 9\n",
      "COUNT_QUERY_RUN: 150\n",
      "COUNT_QUERY_WITHOUT_RESULT: 0\n",
      "COUNT_QUERY_NOT_FOUND: 0\n",
      "RANK1_MEAN: 5.973\n",
      "NDCG@5_MEAN: 49.215\n",
      "NDCG@10_MEAN: 45.793\n",
      "NDCG@15_MEAN: 48.551\n",
      "NDCG@20_MEAN: 51.136\n",
      "PRECISION@50_MEAN: 11.6\n",
      "PRECISION@100_MEAN: 6.767\n",
      "RECALL@50_MEAN: 38.667\n",
      "RECALL@100_MEAN: 45.111\n",
      "TIME_SPENT_MEAN: 0.124\n",
      "===>  2023-Jun-27 20:41:33 experiment: {'TOPK_RETRIEVER': 300, 'TOPK_RANKER': 0, 'INDEX_NAME': 'indir_juris_tcu_synonym', 'PIPE': {'PIPE_OBJECT': <haystack.pipelines.standard_pipelines.DocumentSearchPipeline object at 0x7f4df56bda90>, 'RETRIEVER_TYPE': 'bm25', 'RANKER_TYPE': 'none', 'RANKER_MODEL_NAME': '', 'RETRIEVER_MODEL_NAME': ''}, 'COLUMN_NAME': '1', 'EXPANSOR_CRITERIA': 'join_bm25_sts_30_minilm_indir'}\n",
      "Experimento envolverá 150 registros, toda a base de dados\n"
     ]
    },
    {
     "name": "stderr",
     "output_type": "stream",
     "text": [
      "100%|██████████| 150/150 [00:20<00:00,  7.17it/s]\n"
     ]
    },
    {
     "name": "stdout",
     "output_type": "stream",
     "text": [
      "COLUMN_NAME: 1\n",
      "COUNT_QUERY_RUN: 150\n",
      "COUNT_QUERY_WITHOUT_RESULT: 0\n",
      "COUNT_QUERY_NOT_FOUND: 0\n",
      "RANK1_MEAN: 3.707\n",
      "NDCG@5_MEAN: 54.748\n",
      "NDCG@10_MEAN: 52.149\n",
      "NDCG@15_MEAN: 54.626\n",
      "NDCG@20_MEAN: 57.22\n",
      "PRECISION@50_MEAN: 12.907\n",
      "PRECISION@100_MEAN: 7.16\n",
      "RECALL@50_MEAN: 43.022\n",
      "RECALL@100_MEAN: 47.733\n",
      "TIME_SPENT_MEAN: 0.139\n",
      "===>  2023-Jun-27 20:41:55 experiment: {'TOPK_RETRIEVER': 300, 'TOPK_RANKER': 0, 'INDEX_NAME': 'indir_juris_tcu_synonym', 'PIPE': {'PIPE_OBJECT': <haystack.pipelines.standard_pipelines.DocumentSearchPipeline object at 0x7f4df56bda90>, 'RETRIEVER_TYPE': 'bm25', 'RANKER_TYPE': 'none', 'RANKER_MODEL_NAME': '', 'RETRIEVER_MODEL_NAME': ''}, 'COLUMN_NAME': '10', 'EXPANSOR_CRITERIA': 'join_bm25_sts_30_minilm_indir'}\n",
      "Experimento envolverá 150 registros, toda a base de dados\n"
     ]
    },
    {
     "name": "stderr",
     "output_type": "stream",
     "text": [
      "100%|██████████| 150/150 [00:20<00:00,  7.44it/s]\n"
     ]
    },
    {
     "name": "stdout",
     "output_type": "stream",
     "text": [
      "COLUMN_NAME: 10\n",
      "COUNT_QUERY_RUN: 150\n",
      "COUNT_QUERY_WITHOUT_RESULT: 0\n",
      "COUNT_QUERY_NOT_FOUND: 1\n",
      "RANK1_MEAN: 8.423\n",
      "NDCG@5_MEAN: 44.343\n",
      "NDCG@10_MEAN: 41.86\n",
      "NDCG@15_MEAN: 44.937\n",
      "NDCG@20_MEAN: 47.458\n",
      "PRECISION@50_MEAN: 11.147\n",
      "PRECISION@100_MEAN: 6.413\n",
      "RECALL@50_MEAN: 37.156\n",
      "RECALL@100_MEAN: 42.756\n",
      "TIME_SPENT_MEAN: 0.134\n",
      "===>  2023-Jun-27 20:42:15 experiment: {'TOPK_RETRIEVER': 300, 'TOPK_RANKER': 0, 'INDEX_NAME': 'indir_juris_tcu_synonym', 'PIPE': {'PIPE_OBJECT': <haystack.pipelines.standard_pipelines.DocumentSearchPipeline object at 0x7f4df56bda90>, 'RETRIEVER_TYPE': 'bm25', 'RANKER_TYPE': 'none', 'RANKER_MODEL_NAME': '', 'RETRIEVER_MODEL_NAME': ''}, 'COLUMN_NAME': '2', 'EXPANSOR_CRITERIA': 'join_bm25_sts_30_minilm_indir'}\n",
      "Experimento envolverá 150 registros, toda a base de dados\n"
     ]
    },
    {
     "name": "stderr",
     "output_type": "stream",
     "text": [
      "100%|██████████| 150/150 [00:19<00:00,  7.82it/s]\n"
     ]
    },
    {
     "name": "stdout",
     "output_type": "stream",
     "text": [
      "COLUMN_NAME: 2\n",
      "COUNT_QUERY_RUN: 150\n",
      "COUNT_QUERY_WITHOUT_RESULT: 0\n",
      "COUNT_QUERY_NOT_FOUND: 0\n",
      "RANK1_MEAN: 4.793\n",
      "NDCG@5_MEAN: 52.719\n",
      "NDCG@10_MEAN: 49.361\n",
      "NDCG@15_MEAN: 52.418\n",
      "NDCG@20_MEAN: 54.659\n",
      "PRECISION@50_MEAN: 12.453\n",
      "PRECISION@100_MEAN: 6.987\n",
      "RECALL@50_MEAN: 41.511\n",
      "RECALL@100_MEAN: 46.578\n",
      "TIME_SPENT_MEAN: 0.128\n",
      "===>  2023-Jun-27 20:42:35 experiment: {'TOPK_RETRIEVER': 300, 'TOPK_RANKER': 0, 'INDEX_NAME': 'indir_juris_tcu_synonym', 'PIPE': {'PIPE_OBJECT': <haystack.pipelines.standard_pipelines.DocumentSearchPipeline object at 0x7f4df56bda90>, 'RETRIEVER_TYPE': 'bm25', 'RANKER_TYPE': 'none', 'RANKER_MODEL_NAME': '', 'RETRIEVER_MODEL_NAME': ''}, 'COLUMN_NAME': '3', 'EXPANSOR_CRITERIA': 'join_bm25_sts_30_minilm_indir'}\n",
      "Experimento envolverá 150 registros, toda a base de dados\n"
     ]
    },
    {
     "name": "stderr",
     "output_type": "stream",
     "text": [
      "100%|██████████| 150/150 [00:18<00:00,  8.01it/s]\n"
     ]
    },
    {
     "name": "stdout",
     "output_type": "stream",
     "text": [
      "COLUMN_NAME: 3\n",
      "COUNT_QUERY_RUN: 150\n",
      "COUNT_QUERY_WITHOUT_RESULT: 0\n",
      "COUNT_QUERY_NOT_FOUND: 0\n",
      "RANK1_MEAN: 5.9\n",
      "NDCG@5_MEAN: 50.788\n",
      "NDCG@10_MEAN: 47.459\n",
      "NDCG@15_MEAN: 50.118\n",
      "NDCG@20_MEAN: 52.545\n",
      "PRECISION@50_MEAN: 12.013\n",
      "PRECISION@100_MEAN: 6.807\n",
      "RECALL@50_MEAN: 40.044\n",
      "RECALL@100_MEAN: 45.378\n",
      "TIME_SPENT_MEAN: 0.125\n",
      "===>  2023-Jun-27 20:42:55 experiment: {'TOPK_RETRIEVER': 300, 'TOPK_RANKER': 0, 'INDEX_NAME': 'indir_juris_tcu_synonym', 'PIPE': {'PIPE_OBJECT': <haystack.pipelines.standard_pipelines.DocumentSearchPipeline object at 0x7f4df56bda90>, 'RETRIEVER_TYPE': 'bm25', 'RANKER_TYPE': 'none', 'RANKER_MODEL_NAME': '', 'RETRIEVER_MODEL_NAME': ''}, 'COLUMN_NAME': '4', 'EXPANSOR_CRITERIA': 'join_bm25_sts_30_minilm_indir'}\n",
      "Experimento envolverá 150 registros, toda a base de dados\n"
     ]
    },
    {
     "name": "stderr",
     "output_type": "stream",
     "text": [
      "100%|██████████| 150/150 [00:18<00:00,  8.06it/s]\n"
     ]
    },
    {
     "name": "stdout",
     "output_type": "stream",
     "text": [
      "COLUMN_NAME: 4\n",
      "COUNT_QUERY_RUN: 150\n",
      "COUNT_QUERY_WITHOUT_RESULT: 0\n",
      "COUNT_QUERY_NOT_FOUND: 0\n",
      "RANK1_MEAN: 7.0\n",
      "NDCG@5_MEAN: 48.901\n",
      "NDCG@10_MEAN: 45.723\n",
      "NDCG@15_MEAN: 48.853\n",
      "NDCG@20_MEAN: 51.187\n",
      "PRECISION@50_MEAN: 11.707\n",
      "PRECISION@100_MEAN: 6.693\n",
      "RECALL@50_MEAN: 39.022\n",
      "RECALL@100_MEAN: 44.622\n",
      "TIME_SPENT_MEAN: 0.124\n",
      "===>  2023-Jun-27 20:43:14 experiment: {'TOPK_RETRIEVER': 300, 'TOPK_RANKER': 0, 'INDEX_NAME': 'indir_juris_tcu_synonym', 'PIPE': {'PIPE_OBJECT': <haystack.pipelines.standard_pipelines.DocumentSearchPipeline object at 0x7f4df56bda90>, 'RETRIEVER_TYPE': 'bm25', 'RANKER_TYPE': 'none', 'RANKER_MODEL_NAME': '', 'RETRIEVER_MODEL_NAME': ''}, 'COLUMN_NAME': '5', 'EXPANSOR_CRITERIA': 'join_bm25_sts_30_minilm_indir'}\n",
      "Experimento envolverá 150 registros, toda a base de dados\n"
     ]
    },
    {
     "name": "stderr",
     "output_type": "stream",
     "text": [
      "100%|██████████| 150/150 [00:18<00:00,  7.97it/s]\n"
     ]
    },
    {
     "name": "stdout",
     "output_type": "stream",
     "text": [
      "COLUMN_NAME: 5\n",
      "COUNT_QUERY_RUN: 150\n",
      "COUNT_QUERY_WITHOUT_RESULT: 0\n",
      "COUNT_QUERY_NOT_FOUND: 0\n",
      "RANK1_MEAN: 7.96\n",
      "NDCG@5_MEAN: 47.584\n",
      "NDCG@10_MEAN: 44.69\n",
      "NDCG@15_MEAN: 47.444\n",
      "NDCG@20_MEAN: 49.77\n",
      "PRECISION@50_MEAN: 11.533\n",
      "PRECISION@100_MEAN: 6.567\n",
      "RECALL@50_MEAN: 38.444\n",
      "RECALL@100_MEAN: 43.778\n",
      "TIME_SPENT_MEAN: 0.125\n",
      "===>  2023-Jun-27 20:43:33 experiment: {'TOPK_RETRIEVER': 300, 'TOPK_RANKER': 0, 'INDEX_NAME': 'indir_juris_tcu_synonym', 'PIPE': {'PIPE_OBJECT': <haystack.pipelines.standard_pipelines.DocumentSearchPipeline object at 0x7f4df56bda90>, 'RETRIEVER_TYPE': 'bm25', 'RANKER_TYPE': 'none', 'RANKER_MODEL_NAME': '', 'RETRIEVER_MODEL_NAME': ''}, 'COLUMN_NAME': '6', 'EXPANSOR_CRITERIA': 'join_bm25_sts_30_minilm_indir'}\n",
      "Experimento envolverá 150 registros, toda a base de dados\n"
     ]
    },
    {
     "name": "stderr",
     "output_type": "stream",
     "text": [
      "100%|██████████| 150/150 [00:18<00:00,  8.08it/s]\n"
     ]
    },
    {
     "name": "stdout",
     "output_type": "stream",
     "text": [
      "COLUMN_NAME: 6\n",
      "COUNT_QUERY_RUN: 150\n",
      "COUNT_QUERY_WITHOUT_RESULT: 0\n",
      "COUNT_QUERY_NOT_FOUND: 0\n",
      "RANK1_MEAN: 8.907\n",
      "NDCG@5_MEAN: 46.345\n",
      "NDCG@10_MEAN: 43.379\n",
      "NDCG@15_MEAN: 46.572\n",
      "NDCG@20_MEAN: 48.989\n",
      "PRECISION@50_MEAN: 11.347\n",
      "PRECISION@100_MEAN: 6.493\n",
      "RECALL@50_MEAN: 37.822\n",
      "RECALL@100_MEAN: 43.289\n",
      "TIME_SPENT_MEAN: 0.124\n",
      "===>  2023-Jun-27 20:43:52 experiment: {'TOPK_RETRIEVER': 300, 'TOPK_RANKER': 0, 'INDEX_NAME': 'indir_juris_tcu_synonym', 'PIPE': {'PIPE_OBJECT': <haystack.pipelines.standard_pipelines.DocumentSearchPipeline object at 0x7f4df56bda90>, 'RETRIEVER_TYPE': 'bm25', 'RANKER_TYPE': 'none', 'RANKER_MODEL_NAME': '', 'RETRIEVER_MODEL_NAME': ''}, 'COLUMN_NAME': '7', 'EXPANSOR_CRITERIA': 'join_bm25_sts_30_minilm_indir'}\n",
      "Experimento envolverá 150 registros, toda a base de dados\n"
     ]
    },
    {
     "name": "stderr",
     "output_type": "stream",
     "text": [
      "100%|██████████| 150/150 [00:18<00:00,  8.03it/s]\n"
     ]
    },
    {
     "name": "stdout",
     "output_type": "stream",
     "text": [
      "COLUMN_NAME: 7\n",
      "COUNT_QUERY_RUN: 150\n",
      "COUNT_QUERY_WITHOUT_RESULT: 0\n",
      "COUNT_QUERY_NOT_FOUND: 0\n",
      "RANK1_MEAN: 9.247\n",
      "NDCG@5_MEAN: 46.068\n",
      "NDCG@10_MEAN: 43.126\n",
      "NDCG@15_MEAN: 45.799\n",
      "NDCG@20_MEAN: 48.4\n",
      "PRECISION@50_MEAN: 11.413\n",
      "PRECISION@100_MEAN: 6.427\n",
      "RECALL@50_MEAN: 38.044\n",
      "RECALL@100_MEAN: 42.845\n",
      "TIME_SPENT_MEAN: 0.125\n",
      "===>  2023-Jun-27 20:44:12 experiment: {'TOPK_RETRIEVER': 300, 'TOPK_RANKER': 0, 'INDEX_NAME': 'indir_juris_tcu_synonym', 'PIPE': {'PIPE_OBJECT': <haystack.pipelines.standard_pipelines.DocumentSearchPipeline object at 0x7f4df56bda90>, 'RETRIEVER_TYPE': 'bm25', 'RANKER_TYPE': 'none', 'RANKER_MODEL_NAME': '', 'RETRIEVER_MODEL_NAME': ''}, 'COLUMN_NAME': '8', 'EXPANSOR_CRITERIA': 'join_bm25_sts_30_minilm_indir'}\n",
      "Experimento envolverá 150 registros, toda a base de dados\n"
     ]
    },
    {
     "name": "stderr",
     "output_type": "stream",
     "text": [
      "100%|██████████| 150/150 [00:18<00:00,  8.05it/s]\n"
     ]
    },
    {
     "name": "stdout",
     "output_type": "stream",
     "text": [
      "COLUMN_NAME: 8\n",
      "COUNT_QUERY_RUN: 150\n",
      "COUNT_QUERY_WITHOUT_RESULT: 0\n",
      "COUNT_QUERY_NOT_FOUND: 1\n",
      "RANK1_MEAN: 9.262\n",
      "NDCG@5_MEAN: 45.438\n",
      "NDCG@10_MEAN: 42.639\n",
      "NDCG@15_MEAN: 45.819\n",
      "NDCG@20_MEAN: 48.276\n",
      "PRECISION@50_MEAN: 11.213\n",
      "PRECISION@100_MEAN: 6.453\n",
      "RECALL@50_MEAN: 37.378\n",
      "RECALL@100_MEAN: 43.022\n",
      "TIME_SPENT_MEAN: 0.124\n",
      "===>  2023-Jun-27 20:44:31 experiment: {'TOPK_RETRIEVER': 300, 'TOPK_RANKER': 0, 'INDEX_NAME': 'indir_juris_tcu_synonym', 'PIPE': {'PIPE_OBJECT': <haystack.pipelines.standard_pipelines.DocumentSearchPipeline object at 0x7f4df56bda90>, 'RETRIEVER_TYPE': 'bm25', 'RANKER_TYPE': 'none', 'RANKER_MODEL_NAME': '', 'RETRIEVER_MODEL_NAME': ''}, 'COLUMN_NAME': '9', 'EXPANSOR_CRITERIA': 'join_bm25_sts_30_minilm_indir'}\n",
      "Experimento envolverá 150 registros, toda a base de dados\n"
     ]
    },
    {
     "name": "stderr",
     "output_type": "stream",
     "text": [
      "100%|██████████| 150/150 [00:18<00:00,  8.07it/s]\n"
     ]
    },
    {
     "name": "stdout",
     "output_type": "stream",
     "text": [
      "COLUMN_NAME: 9\n",
      "COUNT_QUERY_RUN: 150\n",
      "COUNT_QUERY_WITHOUT_RESULT: 0\n",
      "COUNT_QUERY_NOT_FOUND: 1\n",
      "RANK1_MEAN: 8.765\n",
      "NDCG@5_MEAN: 44.505\n",
      "NDCG@10_MEAN: 41.902\n",
      "NDCG@15_MEAN: 45.121\n",
      "NDCG@20_MEAN: 47.53\n",
      "PRECISION@50_MEAN: 11.16\n",
      "PRECISION@100_MEAN: 6.42\n",
      "RECALL@50_MEAN: 37.2\n",
      "RECALL@100_MEAN: 42.8\n",
      "TIME_SPENT_MEAN: 0.124\n",
      "===>  2023-Jun-27 20:44:50 experiment: {'TOPK_RETRIEVER': 300, 'TOPK_RANKER': 0, 'INDEX_NAME': 'indir_juris_tcu_related_term', 'PIPE': {'PIPE_OBJECT': <haystack.pipelines.standard_pipelines.DocumentSearchPipeline object at 0x7f4df56bdc90>, 'RETRIEVER_TYPE': 'bm25', 'RANKER_TYPE': 'none', 'RANKER_MODEL_NAME': '', 'RETRIEVER_MODEL_NAME': ''}, 'COLUMN_NAME': '1', 'EXPANSOR_CRITERIA': 'join_bm25_sts_30_minilm_indir'}\n",
      "Experimento envolverá 150 registros, toda a base de dados\n"
     ]
    },
    {
     "name": "stderr",
     "output_type": "stream",
     "text": [
      "100%|██████████| 150/150 [00:22<00:00,  6.68it/s]\n"
     ]
    },
    {
     "name": "stdout",
     "output_type": "stream",
     "text": [
      "COLUMN_NAME: 1\n",
      "COUNT_QUERY_RUN: 150\n",
      "COUNT_QUERY_WITHOUT_RESULT: 0\n",
      "COUNT_QUERY_NOT_FOUND: 1\n",
      "RANK1_MEAN: 5.953\n",
      "NDCG@5_MEAN: 52.424\n",
      "NDCG@10_MEAN: 49.652\n",
      "NDCG@15_MEAN: 51.492\n",
      "NDCG@20_MEAN: 54.167\n",
      "PRECISION@50_MEAN: 12.36\n",
      "PRECISION@100_MEAN: 6.9\n",
      "RECALL@50_MEAN: 41.2\n",
      "RECALL@100_MEAN: 46.0\n",
      "TIME_SPENT_MEAN: 0.15\n",
      "===>  2023-Jun-27 20:45:13 experiment: {'TOPK_RETRIEVER': 300, 'TOPK_RANKER': 0, 'INDEX_NAME': 'indir_juris_tcu_related_term', 'PIPE': {'PIPE_OBJECT': <haystack.pipelines.standard_pipelines.DocumentSearchPipeline object at 0x7f4df56bdc90>, 'RETRIEVER_TYPE': 'bm25', 'RANKER_TYPE': 'none', 'RANKER_MODEL_NAME': '', 'RETRIEVER_MODEL_NAME': ''}, 'COLUMN_NAME': '10', 'EXPANSOR_CRITERIA': 'join_bm25_sts_30_minilm_indir'}\n",
      "Experimento envolverá 150 registros, toda a base de dados\n"
     ]
    },
    {
     "name": "stderr",
     "output_type": "stream",
     "text": [
      "100%|██████████| 150/150 [00:21<00:00,  6.98it/s]\n"
     ]
    },
    {
     "name": "stdout",
     "output_type": "stream",
     "text": [
      "COLUMN_NAME: 10\n",
      "COUNT_QUERY_RUN: 150\n",
      "COUNT_QUERY_WITHOUT_RESULT: 0\n",
      "COUNT_QUERY_NOT_FOUND: 2\n",
      "RANK1_MEAN: 12.52\n",
      "NDCG@5_MEAN: 40.288\n",
      "NDCG@10_MEAN: 38.309\n",
      "NDCG@15_MEAN: 41.096\n",
      "NDCG@20_MEAN: 43.782\n",
      "PRECISION@50_MEAN: 10.48\n",
      "PRECISION@100_MEAN: 6.147\n",
      "RECALL@50_MEAN: 34.933\n",
      "RECALL@100_MEAN: 40.978\n",
      "TIME_SPENT_MEAN: 0.143\n",
      "===>  2023-Jun-27 20:45:35 experiment: {'TOPK_RETRIEVER': 300, 'TOPK_RANKER': 0, 'INDEX_NAME': 'indir_juris_tcu_related_term', 'PIPE': {'PIPE_OBJECT': <haystack.pipelines.standard_pipelines.DocumentSearchPipeline object at 0x7f4df56bdc90>, 'RETRIEVER_TYPE': 'bm25', 'RANKER_TYPE': 'none', 'RANKER_MODEL_NAME': '', 'RETRIEVER_MODEL_NAME': ''}, 'COLUMN_NAME': '2', 'EXPANSOR_CRITERIA': 'join_bm25_sts_30_minilm_indir'}\n",
      "Experimento envolverá 150 registros, toda a base de dados\n"
     ]
    },
    {
     "name": "stderr",
     "output_type": "stream",
     "text": [
      "100%|██████████| 150/150 [00:19<00:00,  7.74it/s]\n"
     ]
    },
    {
     "name": "stdout",
     "output_type": "stream",
     "text": [
      "COLUMN_NAME: 2\n",
      "COUNT_QUERY_RUN: 150\n",
      "COUNT_QUERY_WITHOUT_RESULT: 0\n",
      "COUNT_QUERY_NOT_FOUND: 2\n",
      "RANK1_MEAN: 7.095\n",
      "NDCG@5_MEAN: 49.968\n",
      "NDCG@10_MEAN: 46.186\n",
      "NDCG@15_MEAN: 48.724\n",
      "NDCG@20_MEAN: 51.391\n",
      "PRECISION@50_MEAN: 11.907\n",
      "PRECISION@100_MEAN: 6.813\n",
      "RECALL@50_MEAN: 39.689\n",
      "RECALL@100_MEAN: 45.422\n",
      "TIME_SPENT_MEAN: 0.129\n",
      "===>  2023-Jun-27 20:45:56 experiment: {'TOPK_RETRIEVER': 300, 'TOPK_RANKER': 0, 'INDEX_NAME': 'indir_juris_tcu_related_term', 'PIPE': {'PIPE_OBJECT': <haystack.pipelines.standard_pipelines.DocumentSearchPipeline object at 0x7f4df56bdc90>, 'RETRIEVER_TYPE': 'bm25', 'RANKER_TYPE': 'none', 'RANKER_MODEL_NAME': '', 'RETRIEVER_MODEL_NAME': ''}, 'COLUMN_NAME': '3', 'EXPANSOR_CRITERIA': 'join_bm25_sts_30_minilm_indir'}\n",
      "Experimento envolverá 150 registros, toda a base de dados\n"
     ]
    },
    {
     "name": "stderr",
     "output_type": "stream",
     "text": [
      "100%|██████████| 150/150 [00:19<00:00,  7.74it/s]\n"
     ]
    },
    {
     "name": "stdout",
     "output_type": "stream",
     "text": [
      "COLUMN_NAME: 3\n",
      "COUNT_QUERY_RUN: 150\n",
      "COUNT_QUERY_WITHOUT_RESULT: 0\n",
      "COUNT_QUERY_NOT_FOUND: 1\n",
      "RANK1_MEAN: 11.054\n",
      "NDCG@5_MEAN: 48.573\n",
      "NDCG@10_MEAN: 45.287\n",
      "NDCG@15_MEAN: 47.907\n",
      "NDCG@20_MEAN: 50.281\n",
      "PRECISION@50_MEAN: 11.387\n",
      "PRECISION@100_MEAN: 6.567\n",
      "RECALL@50_MEAN: 37.956\n",
      "RECALL@100_MEAN: 43.778\n",
      "TIME_SPENT_MEAN: 0.129\n",
      "===>  2023-Jun-27 20:46:16 experiment: {'TOPK_RETRIEVER': 300, 'TOPK_RANKER': 0, 'INDEX_NAME': 'indir_juris_tcu_related_term', 'PIPE': {'PIPE_OBJECT': <haystack.pipelines.standard_pipelines.DocumentSearchPipeline object at 0x7f4df56bdc90>, 'RETRIEVER_TYPE': 'bm25', 'RANKER_TYPE': 'none', 'RANKER_MODEL_NAME': '', 'RETRIEVER_MODEL_NAME': ''}, 'COLUMN_NAME': '4', 'EXPANSOR_CRITERIA': 'join_bm25_sts_30_minilm_indir'}\n",
      "Experimento envolverá 150 registros, toda a base de dados\n"
     ]
    },
    {
     "name": "stderr",
     "output_type": "stream",
     "text": [
      "100%|██████████| 150/150 [00:19<00:00,  7.85it/s]\n"
     ]
    },
    {
     "name": "stdout",
     "output_type": "stream",
     "text": [
      "COLUMN_NAME: 4\n",
      "COUNT_QUERY_RUN: 150\n",
      "COUNT_QUERY_WITHOUT_RESULT: 0\n",
      "COUNT_QUERY_NOT_FOUND: 2\n",
      "RANK1_MEAN: 10.378\n",
      "NDCG@5_MEAN: 47.867\n",
      "NDCG@10_MEAN: 44.65\n",
      "NDCG@15_MEAN: 47.082\n",
      "NDCG@20_MEAN: 49.436\n",
      "PRECISION@50_MEAN: 11.187\n",
      "PRECISION@100_MEAN: 6.453\n",
      "RECALL@50_MEAN: 37.289\n",
      "RECALL@100_MEAN: 43.022\n",
      "TIME_SPENT_MEAN: 0.127\n",
      "===>  2023-Jun-27 20:46:35 experiment: {'TOPK_RETRIEVER': 300, 'TOPK_RANKER': 0, 'INDEX_NAME': 'indir_juris_tcu_related_term', 'PIPE': {'PIPE_OBJECT': <haystack.pipelines.standard_pipelines.DocumentSearchPipeline object at 0x7f4df56bdc90>, 'RETRIEVER_TYPE': 'bm25', 'RANKER_TYPE': 'none', 'RANKER_MODEL_NAME': '', 'RETRIEVER_MODEL_NAME': ''}, 'COLUMN_NAME': '5', 'EXPANSOR_CRITERIA': 'join_bm25_sts_30_minilm_indir'}\n",
      "Experimento envolverá 150 registros, toda a base de dados\n"
     ]
    },
    {
     "name": "stderr",
     "output_type": "stream",
     "text": [
      "100%|██████████| 150/150 [00:18<00:00,  7.91it/s]\n"
     ]
    },
    {
     "name": "stdout",
     "output_type": "stream",
     "text": [
      "COLUMN_NAME: 5\n",
      "COUNT_QUERY_RUN: 150\n",
      "COUNT_QUERY_WITHOUT_RESULT: 0\n",
      "COUNT_QUERY_NOT_FOUND: 2\n",
      "RANK1_MEAN: 13.115\n",
      "NDCG@5_MEAN: 45.086\n",
      "NDCG@10_MEAN: 42.381\n",
      "NDCG@15_MEAN: 45.001\n",
      "NDCG@20_MEAN: 47.403\n",
      "PRECISION@50_MEAN: 10.907\n",
      "PRECISION@100_MEAN: 6.3\n",
      "RECALL@50_MEAN: 36.356\n",
      "RECALL@100_MEAN: 42.0\n",
      "TIME_SPENT_MEAN: 0.126\n",
      "===>  2023-Jun-27 20:46:55 experiment: {'TOPK_RETRIEVER': 300, 'TOPK_RANKER': 0, 'INDEX_NAME': 'indir_juris_tcu_related_term', 'PIPE': {'PIPE_OBJECT': <haystack.pipelines.standard_pipelines.DocumentSearchPipeline object at 0x7f4df56bdc90>, 'RETRIEVER_TYPE': 'bm25', 'RANKER_TYPE': 'none', 'RANKER_MODEL_NAME': '', 'RETRIEVER_MODEL_NAME': ''}, 'COLUMN_NAME': '6', 'EXPANSOR_CRITERIA': 'join_bm25_sts_30_minilm_indir'}\n",
      "Experimento envolverá 150 registros, toda a base de dados\n"
     ]
    },
    {
     "name": "stderr",
     "output_type": "stream",
     "text": [
      "100%|██████████| 150/150 [00:18<00:00,  7.91it/s]\n"
     ]
    },
    {
     "name": "stdout",
     "output_type": "stream",
     "text": [
      "COLUMN_NAME: 6\n",
      "COUNT_QUERY_RUN: 150\n",
      "COUNT_QUERY_WITHOUT_RESULT: 0\n",
      "COUNT_QUERY_NOT_FOUND: 2\n",
      "RANK1_MEAN: 12.034\n",
      "NDCG@5_MEAN: 43.579\n",
      "NDCG@10_MEAN: 41.054\n",
      "NDCG@15_MEAN: 43.791\n",
      "NDCG@20_MEAN: 46.241\n",
      "PRECISION@50_MEAN: 10.693\n",
      "PRECISION@100_MEAN: 6.22\n",
      "RECALL@50_MEAN: 35.644\n",
      "RECALL@100_MEAN: 41.467\n",
      "TIME_SPENT_MEAN: 0.126\n",
      "===>  2023-Jun-27 20:47:15 experiment: {'TOPK_RETRIEVER': 300, 'TOPK_RANKER': 0, 'INDEX_NAME': 'indir_juris_tcu_related_term', 'PIPE': {'PIPE_OBJECT': <haystack.pipelines.standard_pipelines.DocumentSearchPipeline object at 0x7f4df56bdc90>, 'RETRIEVER_TYPE': 'bm25', 'RANKER_TYPE': 'none', 'RANKER_MODEL_NAME': '', 'RETRIEVER_MODEL_NAME': ''}, 'COLUMN_NAME': '7', 'EXPANSOR_CRITERIA': 'join_bm25_sts_30_minilm_indir'}\n",
      "Experimento envolverá 150 registros, toda a base de dados\n"
     ]
    },
    {
     "name": "stderr",
     "output_type": "stream",
     "text": [
      "100%|██████████| 150/150 [00:19<00:00,  7.89it/s]\n"
     ]
    },
    {
     "name": "stdout",
     "output_type": "stream",
     "text": [
      "COLUMN_NAME: 7\n",
      "COUNT_QUERY_RUN: 150\n",
      "COUNT_QUERY_WITHOUT_RESULT: 0\n",
      "COUNT_QUERY_NOT_FOUND: 2\n",
      "RANK1_MEAN: 11.095\n",
      "NDCG@5_MEAN: 42.875\n",
      "NDCG@10_MEAN: 40.841\n",
      "NDCG@15_MEAN: 43.723\n",
      "NDCG@20_MEAN: 46.041\n",
      "PRECISION@50_MEAN: 10.707\n",
      "PRECISION@100_MEAN: 6.26\n",
      "RECALL@50_MEAN: 35.689\n",
      "RECALL@100_MEAN: 41.733\n",
      "TIME_SPENT_MEAN: 0.127\n",
      "===>  2023-Jun-27 20:47:35 experiment: {'TOPK_RETRIEVER': 300, 'TOPK_RANKER': 0, 'INDEX_NAME': 'indir_juris_tcu_related_term', 'PIPE': {'PIPE_OBJECT': <haystack.pipelines.standard_pipelines.DocumentSearchPipeline object at 0x7f4df56bdc90>, 'RETRIEVER_TYPE': 'bm25', 'RANKER_TYPE': 'none', 'RANKER_MODEL_NAME': '', 'RETRIEVER_MODEL_NAME': ''}, 'COLUMN_NAME': '8', 'EXPANSOR_CRITERIA': 'join_bm25_sts_30_minilm_indir'}\n",
      "Experimento envolverá 150 registros, toda a base de dados\n"
     ]
    },
    {
     "name": "stderr",
     "output_type": "stream",
     "text": [
      "100%|██████████| 150/150 [00:19<00:00,  7.83it/s]\n"
     ]
    },
    {
     "name": "stdout",
     "output_type": "stream",
     "text": [
      "COLUMN_NAME: 8\n",
      "COUNT_QUERY_RUN: 150\n",
      "COUNT_QUERY_WITHOUT_RESULT: 0\n",
      "COUNT_QUERY_NOT_FOUND: 2\n",
      "RANK1_MEAN: 11.419\n",
      "NDCG@5_MEAN: 41.096\n",
      "NDCG@10_MEAN: 39.387\n",
      "NDCG@15_MEAN: 42.402\n",
      "NDCG@20_MEAN: 44.821\n",
      "PRECISION@50_MEAN: 10.56\n",
      "PRECISION@100_MEAN: 6.213\n",
      "RECALL@50_MEAN: 35.2\n",
      "RECALL@100_MEAN: 41.422\n",
      "TIME_SPENT_MEAN: 0.128\n",
      "===>  2023-Jun-27 20:47:54 experiment: {'TOPK_RETRIEVER': 300, 'TOPK_RANKER': 0, 'INDEX_NAME': 'indir_juris_tcu_related_term', 'PIPE': {'PIPE_OBJECT': <haystack.pipelines.standard_pipelines.DocumentSearchPipeline object at 0x7f4df56bdc90>, 'RETRIEVER_TYPE': 'bm25', 'RANKER_TYPE': 'none', 'RANKER_MODEL_NAME': '', 'RETRIEVER_MODEL_NAME': ''}, 'COLUMN_NAME': '9', 'EXPANSOR_CRITERIA': 'join_bm25_sts_30_minilm_indir'}\n",
      "Experimento envolverá 150 registros, toda a base de dados\n"
     ]
    },
    {
     "name": "stderr",
     "output_type": "stream",
     "text": [
      "100%|██████████| 150/150 [00:19<00:00,  7.87it/s]\n"
     ]
    },
    {
     "name": "stdout",
     "output_type": "stream",
     "text": [
      "COLUMN_NAME: 9\n",
      "COUNT_QUERY_RUN: 150\n",
      "COUNT_QUERY_WITHOUT_RESULT: 0\n",
      "COUNT_QUERY_NOT_FOUND: 2\n",
      "RANK1_MEAN: 11.466\n",
      "NDCG@5_MEAN: 40.475\n",
      "NDCG@10_MEAN: 38.537\n",
      "NDCG@15_MEAN: 41.345\n",
      "NDCG@20_MEAN: 43.921\n",
      "PRECISION@50_MEAN: 10.52\n",
      "PRECISION@100_MEAN: 6.193\n",
      "RECALL@50_MEAN: 35.067\n",
      "RECALL@100_MEAN: 41.289\n",
      "TIME_SPENT_MEAN: 0.127\n",
      "===>  2023-Jun-27 20:48:14 experiment: {'TOPK_RETRIEVER': 300, 'TOPK_RANKER': 0, 'INDEX_NAME': 'indir_juris_tcu_synonym_related_term', 'PIPE': {'PIPE_OBJECT': <haystack.pipelines.standard_pipelines.DocumentSearchPipeline object at 0x7f4df56bdd90>, 'RETRIEVER_TYPE': 'bm25', 'RANKER_TYPE': 'none', 'RANKER_MODEL_NAME': '', 'RETRIEVER_MODEL_NAME': ''}, 'COLUMN_NAME': '1', 'EXPANSOR_CRITERIA': 'join_bm25_sts_30_minilm_indir'}\n",
      "Experimento envolverá 150 registros, toda a base de dados\n"
     ]
    },
    {
     "name": "stderr",
     "output_type": "stream",
     "text": [
      "100%|██████████| 150/150 [00:21<00:00,  6.98it/s]\n"
     ]
    },
    {
     "name": "stdout",
     "output_type": "stream",
     "text": [
      "COLUMN_NAME: 1\n",
      "COUNT_QUERY_RUN: 150\n",
      "COUNT_QUERY_WITHOUT_RESULT: 0\n",
      "COUNT_QUERY_NOT_FOUND: 1\n",
      "RANK1_MEAN: 5.779\n",
      "NDCG@5_MEAN: 51.802\n",
      "NDCG@10_MEAN: 48.946\n",
      "NDCG@15_MEAN: 51.288\n",
      "NDCG@20_MEAN: 53.922\n",
      "PRECISION@50_MEAN: 12.467\n",
      "PRECISION@100_MEAN: 6.913\n",
      "RECALL@50_MEAN: 41.556\n",
      "RECALL@100_MEAN: 46.089\n",
      "TIME_SPENT_MEAN: 0.143\n",
      "===>  2023-Jun-27 20:48:36 experiment: {'TOPK_RETRIEVER': 300, 'TOPK_RANKER': 0, 'INDEX_NAME': 'indir_juris_tcu_synonym_related_term', 'PIPE': {'PIPE_OBJECT': <haystack.pipelines.standard_pipelines.DocumentSearchPipeline object at 0x7f4df56bdd90>, 'RETRIEVER_TYPE': 'bm25', 'RANKER_TYPE': 'none', 'RANKER_MODEL_NAME': '', 'RETRIEVER_MODEL_NAME': ''}, 'COLUMN_NAME': '10', 'EXPANSOR_CRITERIA': 'join_bm25_sts_30_minilm_indir'}\n",
      "Experimento envolverá 150 registros, toda a base de dados\n"
     ]
    },
    {
     "name": "stderr",
     "output_type": "stream",
     "text": [
      "100%|██████████| 150/150 [00:20<00:00,  7.24it/s]\n"
     ]
    },
    {
     "name": "stdout",
     "output_type": "stream",
     "text": [
      "COLUMN_NAME: 10\n",
      "COUNT_QUERY_RUN: 150\n",
      "COUNT_QUERY_WITHOUT_RESULT: 0\n",
      "COUNT_QUERY_NOT_FOUND: 3\n",
      "RANK1_MEAN: 11.293\n",
      "NDCG@5_MEAN: 41.04\n",
      "NDCG@10_MEAN: 38.758\n",
      "NDCG@15_MEAN: 42.135\n",
      "NDCG@20_MEAN: 44.66\n",
      "PRECISION@50_MEAN: 10.893\n",
      "PRECISION@100_MEAN: 6.167\n",
      "RECALL@50_MEAN: 36.311\n",
      "RECALL@100_MEAN: 41.111\n",
      "TIME_SPENT_MEAN: 0.138\n",
      "===>  2023-Jun-27 20:48:58 experiment: {'TOPK_RETRIEVER': 300, 'TOPK_RANKER': 0, 'INDEX_NAME': 'indir_juris_tcu_synonym_related_term', 'PIPE': {'PIPE_OBJECT': <haystack.pipelines.standard_pipelines.DocumentSearchPipeline object at 0x7f4df56bdd90>, 'RETRIEVER_TYPE': 'bm25', 'RANKER_TYPE': 'none', 'RANKER_MODEL_NAME': '', 'RETRIEVER_MODEL_NAME': ''}, 'COLUMN_NAME': '2', 'EXPANSOR_CRITERIA': 'join_bm25_sts_30_minilm_indir'}\n",
      "Experimento envolverá 150 registros, toda a base de dados\n"
     ]
    },
    {
     "name": "stderr",
     "output_type": "stream",
     "text": [
      "100%|██████████| 150/150 [00:19<00:00,  7.75it/s]\n"
     ]
    },
    {
     "name": "stdout",
     "output_type": "stream",
     "text": [
      "COLUMN_NAME: 2\n",
      "COUNT_QUERY_RUN: 150\n",
      "COUNT_QUERY_WITHOUT_RESULT: 0\n",
      "COUNT_QUERY_NOT_FOUND: 2\n",
      "RANK1_MEAN: 7.689\n",
      "NDCG@5_MEAN: 50.95\n",
      "NDCG@10_MEAN: 47.094\n",
      "NDCG@15_MEAN: 49.466\n",
      "NDCG@20_MEAN: 52.327\n",
      "PRECISION@50_MEAN: 12.093\n",
      "PRECISION@100_MEAN: 6.767\n",
      "RECALL@50_MEAN: 40.311\n",
      "RECALL@100_MEAN: 45.111\n",
      "TIME_SPENT_MEAN: 0.129\n",
      "===>  2023-Jun-27 20:49:18 experiment: {'TOPK_RETRIEVER': 300, 'TOPK_RANKER': 0, 'INDEX_NAME': 'indir_juris_tcu_synonym_related_term', 'PIPE': {'PIPE_OBJECT': <haystack.pipelines.standard_pipelines.DocumentSearchPipeline object at 0x7f4df56bdd90>, 'RETRIEVER_TYPE': 'bm25', 'RANKER_TYPE': 'none', 'RANKER_MODEL_NAME': '', 'RETRIEVER_MODEL_NAME': ''}, 'COLUMN_NAME': '3', 'EXPANSOR_CRITERIA': 'join_bm25_sts_30_minilm_indir'}\n",
      "Experimento envolverá 150 registros, toda a base de dados\n"
     ]
    },
    {
     "name": "stderr",
     "output_type": "stream",
     "text": [
      "100%|██████████| 150/150 [00:19<00:00,  7.80it/s]\n"
     ]
    },
    {
     "name": "stdout",
     "output_type": "stream",
     "text": [
      "COLUMN_NAME: 3\n",
      "COUNT_QUERY_RUN: 150\n",
      "COUNT_QUERY_WITHOUT_RESULT: 0\n",
      "COUNT_QUERY_NOT_FOUND: 1\n",
      "RANK1_MEAN: 11.523\n",
      "NDCG@5_MEAN: 49.864\n",
      "NDCG@10_MEAN: 46.462\n",
      "NDCG@15_MEAN: 48.691\n",
      "NDCG@20_MEAN: 51.592\n",
      "PRECISION@50_MEAN: 11.733\n",
      "PRECISION@100_MEAN: 6.567\n",
      "RECALL@50_MEAN: 39.111\n",
      "RECALL@100_MEAN: 43.778\n",
      "TIME_SPENT_MEAN: 0.128\n",
      "===>  2023-Jun-27 20:49:38 experiment: {'TOPK_RETRIEVER': 300, 'TOPK_RANKER': 0, 'INDEX_NAME': 'indir_juris_tcu_synonym_related_term', 'PIPE': {'PIPE_OBJECT': <haystack.pipelines.standard_pipelines.DocumentSearchPipeline object at 0x7f4df56bdd90>, 'RETRIEVER_TYPE': 'bm25', 'RANKER_TYPE': 'none', 'RANKER_MODEL_NAME': '', 'RETRIEVER_MODEL_NAME': ''}, 'COLUMN_NAME': '4', 'EXPANSOR_CRITERIA': 'join_bm25_sts_30_minilm_indir'}\n",
      "Experimento envolverá 150 registros, toda a base de dados\n"
     ]
    },
    {
     "name": "stderr",
     "output_type": "stream",
     "text": [
      "100%|██████████| 150/150 [00:19<00:00,  7.84it/s]\n"
     ]
    },
    {
     "name": "stdout",
     "output_type": "stream",
     "text": [
      "COLUMN_NAME: 4\n",
      "COUNT_QUERY_RUN: 150\n",
      "COUNT_QUERY_WITHOUT_RESULT: 0\n",
      "COUNT_QUERY_NOT_FOUND: 1\n",
      "RANK1_MEAN: 12.557\n",
      "NDCG@5_MEAN: 48.053\n",
      "NDCG@10_MEAN: 44.952\n",
      "NDCG@15_MEAN: 47.259\n",
      "NDCG@20_MEAN: 50.032\n",
      "PRECISION@50_MEAN: 11.32\n",
      "PRECISION@100_MEAN: 6.447\n",
      "RECALL@50_MEAN: 37.733\n",
      "RECALL@100_MEAN: 42.978\n",
      "TIME_SPENT_MEAN: 0.128\n",
      "===>  2023-Jun-27 20:49:58 experiment: {'TOPK_RETRIEVER': 300, 'TOPK_RANKER': 0, 'INDEX_NAME': 'indir_juris_tcu_synonym_related_term', 'PIPE': {'PIPE_OBJECT': <haystack.pipelines.standard_pipelines.DocumentSearchPipeline object at 0x7f4df56bdd90>, 'RETRIEVER_TYPE': 'bm25', 'RANKER_TYPE': 'none', 'RANKER_MODEL_NAME': '', 'RETRIEVER_MODEL_NAME': ''}, 'COLUMN_NAME': '5', 'EXPANSOR_CRITERIA': 'join_bm25_sts_30_minilm_indir'}\n",
      "Experimento envolverá 150 registros, toda a base de dados\n"
     ]
    },
    {
     "name": "stderr",
     "output_type": "stream",
     "text": [
      "100%|██████████| 150/150 [00:19<00:00,  7.87it/s]\n"
     ]
    },
    {
     "name": "stdout",
     "output_type": "stream",
     "text": [
      "COLUMN_NAME: 5\n",
      "COUNT_QUERY_RUN: 150\n",
      "COUNT_QUERY_WITHOUT_RESULT: 0\n",
      "COUNT_QUERY_NOT_FOUND: 2\n",
      "RANK1_MEAN: 12.601\n",
      "NDCG@5_MEAN: 44.705\n",
      "NDCG@10_MEAN: 42.527\n",
      "NDCG@15_MEAN: 45.324\n",
      "NDCG@20_MEAN: 47.362\n",
      "PRECISION@50_MEAN: 11.04\n",
      "PRECISION@100_MEAN: 6.293\n",
      "RECALL@50_MEAN: 36.8\n",
      "RECALL@100_MEAN: 41.956\n",
      "TIME_SPENT_MEAN: 0.127\n",
      "===>  2023-Jun-27 20:50:18 experiment: {'TOPK_RETRIEVER': 300, 'TOPK_RANKER': 0, 'INDEX_NAME': 'indir_juris_tcu_synonym_related_term', 'PIPE': {'PIPE_OBJECT': <haystack.pipelines.standard_pipelines.DocumentSearchPipeline object at 0x7f4df56bdd90>, 'RETRIEVER_TYPE': 'bm25', 'RANKER_TYPE': 'none', 'RANKER_MODEL_NAME': '', 'RETRIEVER_MODEL_NAME': ''}, 'COLUMN_NAME': '6', 'EXPANSOR_CRITERIA': 'join_bm25_sts_30_minilm_indir'}\n",
      "Experimento envolverá 150 registros, toda a base de dados\n"
     ]
    },
    {
     "name": "stderr",
     "output_type": "stream",
     "text": [
      "100%|██████████| 150/150 [00:19<00:00,  7.78it/s]\n"
     ]
    },
    {
     "name": "stdout",
     "output_type": "stream",
     "text": [
      "COLUMN_NAME: 6\n",
      "COUNT_QUERY_RUN: 150\n",
      "COUNT_QUERY_WITHOUT_RESULT: 0\n",
      "COUNT_QUERY_NOT_FOUND: 2\n",
      "RANK1_MEAN: 11.547\n",
      "NDCG@5_MEAN: 42.811\n",
      "NDCG@10_MEAN: 41.154\n",
      "NDCG@15_MEAN: 44.009\n",
      "NDCG@20_MEAN: 46.748\n",
      "PRECISION@50_MEAN: 10.96\n",
      "PRECISION@100_MEAN: 6.22\n",
      "RECALL@50_MEAN: 36.533\n",
      "RECALL@100_MEAN: 41.467\n",
      "TIME_SPENT_MEAN: 0.129\n",
      "===>  2023-Jun-27 20:50:38 experiment: {'TOPK_RETRIEVER': 300, 'TOPK_RANKER': 0, 'INDEX_NAME': 'indir_juris_tcu_synonym_related_term', 'PIPE': {'PIPE_OBJECT': <haystack.pipelines.standard_pipelines.DocumentSearchPipeline object at 0x7f4df56bdd90>, 'RETRIEVER_TYPE': 'bm25', 'RANKER_TYPE': 'none', 'RANKER_MODEL_NAME': '', 'RETRIEVER_MODEL_NAME': ''}, 'COLUMN_NAME': '7', 'EXPANSOR_CRITERIA': 'join_bm25_sts_30_minilm_indir'}\n",
      "Experimento envolverá 150 registros, toda a base de dados\n"
     ]
    },
    {
     "name": "stderr",
     "output_type": "stream",
     "text": [
      "100%|██████████| 150/150 [00:19<00:00,  7.84it/s]\n"
     ]
    },
    {
     "name": "stdout",
     "output_type": "stream",
     "text": [
      "COLUMN_NAME: 7\n",
      "COUNT_QUERY_RUN: 150\n",
      "COUNT_QUERY_WITHOUT_RESULT: 0\n",
      "COUNT_QUERY_NOT_FOUND: 2\n",
      "RANK1_MEAN: 11.655\n",
      "NDCG@5_MEAN: 43.432\n",
      "NDCG@10_MEAN: 41.027\n",
      "NDCG@15_MEAN: 44.212\n",
      "NDCG@20_MEAN: 46.656\n",
      "PRECISION@50_MEAN: 10.973\n",
      "PRECISION@100_MEAN: 6.22\n",
      "RECALL@50_MEAN: 36.578\n",
      "RECALL@100_MEAN: 41.467\n",
      "TIME_SPENT_MEAN: 0.128\n",
      "===>  2023-Jun-27 20:50:58 experiment: {'TOPK_RETRIEVER': 300, 'TOPK_RANKER': 0, 'INDEX_NAME': 'indir_juris_tcu_synonym_related_term', 'PIPE': {'PIPE_OBJECT': <haystack.pipelines.standard_pipelines.DocumentSearchPipeline object at 0x7f4df56bdd90>, 'RETRIEVER_TYPE': 'bm25', 'RANKER_TYPE': 'none', 'RANKER_MODEL_NAME': '', 'RETRIEVER_MODEL_NAME': ''}, 'COLUMN_NAME': '8', 'EXPANSOR_CRITERIA': 'join_bm25_sts_30_minilm_indir'}\n",
      "Experimento envolverá 150 registros, toda a base de dados\n"
     ]
    },
    {
     "name": "stderr",
     "output_type": "stream",
     "text": [
      "100%|██████████| 150/150 [00:19<00:00,  7.82it/s]\n"
     ]
    },
    {
     "name": "stdout",
     "output_type": "stream",
     "text": [
      "COLUMN_NAME: 8\n",
      "COUNT_QUERY_RUN: 150\n",
      "COUNT_QUERY_WITHOUT_RESULT: 0\n",
      "COUNT_QUERY_NOT_FOUND: 2\n",
      "RANK1_MEAN: 11.493\n",
      "NDCG@5_MEAN: 42.103\n",
      "NDCG@10_MEAN: 39.925\n",
      "NDCG@15_MEAN: 43.038\n",
      "NDCG@20_MEAN: 45.729\n",
      "PRECISION@50_MEAN: 10.933\n",
      "PRECISION@100_MEAN: 6.187\n",
      "RECALL@50_MEAN: 36.444\n",
      "RECALL@100_MEAN: 41.244\n",
      "TIME_SPENT_MEAN: 0.128\n",
      "===>  2023-Jun-27 20:51:18 experiment: {'TOPK_RETRIEVER': 300, 'TOPK_RANKER': 0, 'INDEX_NAME': 'indir_juris_tcu_synonym_related_term', 'PIPE': {'PIPE_OBJECT': <haystack.pipelines.standard_pipelines.DocumentSearchPipeline object at 0x7f4df56bdd90>, 'RETRIEVER_TYPE': 'bm25', 'RANKER_TYPE': 'none', 'RANKER_MODEL_NAME': '', 'RETRIEVER_MODEL_NAME': ''}, 'COLUMN_NAME': '9', 'EXPANSOR_CRITERIA': 'join_bm25_sts_30_minilm_indir'}\n",
      "Experimento envolverá 150 registros, toda a base de dados\n"
     ]
    },
    {
     "name": "stderr",
     "output_type": "stream",
     "text": [
      "100%|██████████| 150/150 [00:19<00:00,  7.82it/s]\n"
     ]
    },
    {
     "name": "stdout",
     "output_type": "stream",
     "text": [
      "COLUMN_NAME: 9\n",
      "COUNT_QUERY_RUN: 150\n",
      "COUNT_QUERY_WITHOUT_RESULT: 0\n",
      "COUNT_QUERY_NOT_FOUND: 2\n",
      "RANK1_MEAN: 11.5\n",
      "NDCG@5_MEAN: 41.12\n",
      "NDCG@10_MEAN: 39.12\n",
      "NDCG@15_MEAN: 42.234\n",
      "NDCG@20_MEAN: 44.839\n",
      "PRECISION@50_MEAN: 10.933\n",
      "PRECISION@100_MEAN: 6.18\n",
      "RECALL@50_MEAN: 36.444\n",
      "RECALL@100_MEAN: 41.2\n",
      "TIME_SPENT_MEAN: 0.128\n",
      "CPU times: user 1min 13s, sys: 1.54 s, total: 1min 15s\n",
      "Wall time: 16min 32s\n"
     ]
    }
   ],
   "source": [
    "%%time\n",
    "# colocar pequeno só para testes, depois voltar para 9999999 (número maior do que o número de termos a pesquisar)\n",
    "limit_query =  9999999 # 100 # \n",
    "for index_name in pipes.keys():\n",
    "    for pipe in pipes[index_name]:\n",
    "        for cnt, experiment in enumerate(list_experiment):\n",
    "            #  consider_query_expanded or only text column in case\n",
    "            if consider_query_expanded:\n",
    "                # target_columns = df_search_data.columns - ['ID','RELEVANCE_DICT','SOURCE', 'TEXT']\n",
    "                target_columns = df_search_data.columns.difference(['ID', 'RELEVANCE_DICT', 'SOURCE', 'TEXT'])\n",
    "                experiment['EXPANSOR_CRITERIA'] = EXPANSOR_CRITERIA\n",
    "            else:\n",
    "                experiment['EXPANSOR_CRITERIA'] = \"\"\n",
    "                target_columns = ['TEXT']\n",
    "            # print(target_columns)\n",
    "            for column_name in target_columns:\n",
    "                list_result_experiment = [] # por experiment\n",
    "                experiment['INDEX_NAME'] = index_name\n",
    "                experiment['PIPE'] = pipe\n",
    "                experiment['COLUMN_NAME'] = column_name\n",
    "                print(f\"===>  {time.strftime('%Y-%b-%d %H:%M:%S')} experiment: {experiment}\")\n",
    "                result_run = util_experiment.experiment_run(parm_df=df_search_data, \n",
    "                                                        parm_experiment=experiment,\n",
    "                                                        parm_limit_query=limit_query,\n",
    "                                                        parm_print=True)\n",
    "                # raise Exception('false break')\n",
    "                list_result_experiment.append(result_run)\n",
    "                # print(f\"qtd_encontrado sim:{result_run['qtd_encontrado']}, não:{result_run['qtd_nao_encontrado']} ({result_run['percent_nao_encontrado']}%)\")\n",
    "                util_experiment.add_experiment_result(parm_list_result=list_result_experiment, parm_dataset='juris_tcu')\n",
    "                torch.cuda.empty_cache()\n"
   ]
  },
  {
   "cell_type": "code",
   "execution_count": null,
   "metadata": {},
   "outputs": [],
   "source": []
  },
  {
   "attachments": {},
   "cell_type": "markdown",
   "metadata": {},
   "source": [
    "Free resources: "
   ]
  },
  {
   "cell_type": "code",
   "execution_count": null,
   "metadata": {},
   "outputs": [
    {
     "ename": "",
     "evalue": "",
     "output_type": "error",
     "traceback": [
      "\u001b[1;31mThe Kernel crashed while executing code in the the current cell or a previous cell. Please review the code in the cell(s) to identify a possible cause of the failure. Click <a href='https://aka.ms/vscodeJupyterKernelCrash'>here</a> for more info. View Jupyter <a href='command:jupyter.viewOutput'>log</a> for further details."
     ]
    }
   ],
   "source": [
    "quit()"
   ]
  },
  {
   "cell_type": "code",
   "execution_count": null,
   "metadata": {},
   "outputs": [],
   "source": []
  }
 ],
 "metadata": {
  "kernelspec": {
   "display_name": "Python (relevar-busca)",
   "language": "python",
   "name": "relevar-busca"
  },
  "language_info": {
   "codemirror_mode": {
    "name": "ipython",
    "version": 3
   },
   "file_extension": ".py",
   "mimetype": "text/x-python",
   "name": "python",
   "nbconvert_exporter": "python",
   "pygments_lexer": "ipython3",
   "version": "3.7.13"
  },
  "orig_nbformat": 4,
  "vscode": {
   "interpreter": {
    "hash": "45978bf3509deeb93161d1472b16f82a40245d44c2beae6c63ad8f9bb3f69171"
   }
  }
 },
 "nbformat": 4,
 "nbformat_minor": 2
}
