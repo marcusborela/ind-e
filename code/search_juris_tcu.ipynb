{
 "cells": [
  {
   "attachments": {},
   "cell_type": "markdown",
   "id": "998a4011",
   "metadata": {},
   "source": [
    "# Imports and preparation"
   ]
  },
  {
   "cell_type": "code",
   "execution_count": 1,
   "metadata": {},
   "outputs": [],
   "source": [
    "import os"
   ]
  },
  {
   "cell_type": "code",
   "execution_count": 2,
   "metadata": {},
   "outputs": [],
   "source": [
    "import torch"
   ]
  },
  {
   "cell_type": "code",
   "execution_count": 3,
   "metadata": {},
   "outputs": [],
   "source": [
    "import numpy as np"
   ]
  },
  {
   "cell_type": "code",
   "execution_count": 4,
   "id": "37d4165c",
   "metadata": {},
   "outputs": [],
   "source": [
    "import pandas as pd"
   ]
  },
  {
   "cell_type": "code",
   "execution_count": 5,
   "metadata": {},
   "outputs": [],
   "source": [
    "from tqdm import tqdm"
   ]
  },
  {
   "cell_type": "code",
   "execution_count": 6,
   "metadata": {},
   "outputs": [],
   "source": [
    "import time, gc"
   ]
  },
  {
   "cell_type": "code",
   "execution_count": 7,
   "metadata": {},
   "outputs": [],
   "source": [
    "import importlib"
   ]
  },
  {
   "cell_type": "code",
   "execution_count": 8,
   "metadata": {},
   "outputs": [],
   "source": [
    "from itertools import product\n"
   ]
  },
  {
   "cell_type": "code",
   "execution_count": 9,
   "metadata": {},
   "outputs": [
    {
     "name": "stderr",
     "output_type": "stream",
     "text": [
      "OpenAI tiktoken module is not available for Python < 3.8,Linux ARM64 and AARCH64. Falling back to GPT2TokenizerFast.\n",
      "WARNING:haystack.nodes.answer_generator.openai:OpenAI tiktoken module is not available for Python < 3.8,Linux ARM64 and AARCH64. Falling back to GPT2TokenizerFast.\n"
     ]
    }
   ],
   "source": [
    "from util import util_elastic"
   ]
  },
  {
   "cell_type": "code",
   "execution_count": 10,
   "metadata": {},
   "outputs": [],
   "source": [
    "from util import util_pipeline_v2 as util_pipeline"
   ]
  },
  {
   "cell_type": "code",
   "execution_count": 11,
   "metadata": {},
   "outputs": [],
   "source": [
    "from util import util_experiment_juris_tcu as util_experiment"
   ]
  },
  {
   "cell_type": "code",
   "execution_count": 12,
   "id": "f911fcf2",
   "metadata": {},
   "outputs": [],
   "source": [
    "# Para ter repetibilidade nos resultados\n",
    "random_state = 1\n",
    "\n",
    "# Tratar valores infinitos (+ e -) como np.NaN\n",
    "pd.options.mode.use_inf_as_na = True\n",
    "\n",
    "# IMPORTANTE para tornar figuras interativas\n",
    "# %matplotlib notebook\n",
    "\n",
    "# Tamanho padrão das figuras\n",
    "figsize=(10,6)\n",
    "\n",
    "pd.set_option('display.max_row', 1000)\n",
    "\n",
    "pd.set_option('display.max_columns', 50)\n",
    "\n",
    "pd.set_option('display.column_space', 100)\n",
    "pd.set_option('display.max_colwidth', 200)\n",
    "pd.set_option('display.width', 200)\n"
   ]
  },
  {
   "cell_type": "code",
   "execution_count": 13,
   "metadata": {},
   "outputs": [],
   "source": [
    "DATASET_NAME = 'juris_tcu'"
   ]
  },
  {
   "cell_type": "code",
   "execution_count": 14,
   "id": "6e05b9a6",
   "metadata": {},
   "outputs": [],
   "source": [
    "\n",
    "PATH_QREL =  f'../data/{DATASET_NAME}/qrel.csv'"
   ]
  },
  {
   "cell_type": "code",
   "execution_count": null,
   "metadata": {},
   "outputs": [],
   "source": []
  },
  {
   "cell_type": "code",
   "execution_count": 15,
   "metadata": {},
   "outputs": [],
   "source": [
    "EXPANSOR_CRITERIA = 'join_bm25_sts_30_minilm_indir'"
   ]
  },
  {
   "cell_type": "code",
   "execution_count": 16,
   "metadata": {},
   "outputs": [],
   "source": [
    "consider_query_expanded = True\n",
    "\n",
    "if consider_query_expanded:\n",
    "    PATH_QUERY =  f'../data/juris_tcu_expanded_query/query_10_expansion_{EXPANSOR_CRITERIA}.csv' \n",
    "else:\n",
    "    PATH_QUERY = f'../data/{DATASET_NAME}/query.csv'"
   ]
  },
  {
   "attachments": {},
   "cell_type": "markdown",
   "metadata": {},
   "source": [
    "# Data load"
   ]
  },
  {
   "attachments": {},
   "cell_type": "markdown",
   "metadata": {},
   "source": [
    "## Query data load"
   ]
  },
  {
   "cell_type": "code",
   "execution_count": 17,
   "id": "1cf03f22",
   "metadata": {},
   "outputs": [],
   "source": [
    "df_query = pd.read_csv(PATH_QUERY)"
   ]
  },
  {
   "cell_type": "code",
   "execution_count": 18,
   "metadata": {},
   "outputs": [
    {
     "data": {
      "text/plain": [
       "(150, 13)"
      ]
     },
     "execution_count": 18,
     "metadata": {},
     "output_type": "execute_result"
    }
   ],
   "source": [
    "df_query.shape"
   ]
  },
  {
   "cell_type": "code",
   "execution_count": 19,
   "metadata": {},
   "outputs": [
    {
     "data": {
      "text/html": [
       "<div>\n",
       "<style scoped>\n",
       "    .dataframe tbody tr th:only-of-type {\n",
       "        vertical-align: middle;\n",
       "    }\n",
       "\n",
       "    .dataframe tbody tr th {\n",
       "        vertical-align: top;\n",
       "    }\n",
       "\n",
       "    .dataframe thead th {\n",
       "        text-align: right;\n",
       "    }\n",
       "</style>\n",
       "<table border=\"1\" class=\"dataframe\">\n",
       "  <thead>\n",
       "    <tr style=\"text-align: right;\">\n",
       "      <th></th>\n",
       "      <th>ID</th>\n",
       "      <th>TEXT</th>\n",
       "      <th>SOURCE</th>\n",
       "      <th>1</th>\n",
       "      <th>2</th>\n",
       "      <th>3</th>\n",
       "      <th>4</th>\n",
       "      <th>5</th>\n",
       "      <th>6</th>\n",
       "      <th>7</th>\n",
       "      <th>8</th>\n",
       "      <th>9</th>\n",
       "      <th>10</th>\n",
       "    </tr>\n",
       "  </thead>\n",
       "  <tbody>\n",
       "    <tr>\n",
       "      <th>0</th>\n",
       "      <td>1</td>\n",
       "      <td>técnica e preço</td>\n",
       "      <td>search log</td>\n",
       "      <td>técnica e preço - Licitação de técnica e preço</td>\n",
       "      <td>técnica e preço - Licitação de técnica e preço, Proposta técnica</td>\n",
       "      <td>técnica e preço - Licitação de técnica e preço, Proposta técnica, Preço médio</td>\n",
       "      <td>técnica e preço - Licitação de técnica e preço, Proposta técnica, Preço médio, Preço de mercado</td>\n",
       "      <td>técnica e preço - Licitação de técnica e preço, Proposta técnica, Preço médio, Preço de mercado, Técnica jurídica</td>\n",
       "      <td>técnica e preço - Licitação de técnica e preço, Proposta técnica, Preço médio, Preço de mercado, Técnica jurídica, Proposta de preço</td>\n",
       "      <td>técnica e preço - Licitação de técnica e preço, Proposta técnica, Preço médio, Preço de mercado, Técnica jurídica, Proposta de preço, Preço máximo</td>\n",
       "      <td>técnica e preço - Licitação de técnica e preço, Proposta técnica, Preço médio, Preço de mercado, Técnica jurídica, Proposta de preço, Preço máximo, Preço estimado</td>\n",
       "      <td>técnica e preço - Licitação de técnica e preço, Proposta técnica, Preço médio, Preço de mercado, Técnica jurídica, Proposta de preço, Preço máximo, Preço estimado, Proposta</td>\n",
       "      <td>técnica e preço - Licitação de técnica e preço, Proposta técnica, Preço médio, Preço de mercado, Técnica jurídica, Proposta de preço, Preço máximo, Preço estimado, Proposta</td>\n",
       "    </tr>\n",
       "    <tr>\n",
       "      <th>1</th>\n",
       "      <td>2</td>\n",
       "      <td>restos a pagar</td>\n",
       "      <td>search log</td>\n",
       "      <td>restos a pagar - Recolhimento</td>\n",
       "      <td>restos a pagar - Recolhimento, Recompensa</td>\n",
       "      <td>restos a pagar - Recolhimento, Recompensa, Dívida</td>\n",
       "      <td>restos a pagar - Recolhimento, Recompensa, Dívida, Obrigação</td>\n",
       "      <td>restos a pagar - Recolhimento, Recompensa, Dívida, Obrigação, Nota de empenho de despesa</td>\n",
       "      <td>restos a pagar - Recolhimento, Recompensa, Dívida, Obrigação, Nota de empenho de despesa, Empenho</td>\n",
       "      <td>restos a pagar - Recolhimento, Recompensa, Dívida, Obrigação, Nota de empenho de despesa, Empenho, Recibado</td>\n",
       "      <td>restos a pagar - Recolhimento, Recompensa, Dívida, Obrigação, Nota de empenho de despesa, Empenho, Recibado, Pagamento indevido</td>\n",
       "      <td>restos a pagar - Recolhimento, Recompensa, Dívida, Obrigação, Nota de empenho de despesa, Empenho, Recibado, Pagamento indevido, Seguro de vida</td>\n",
       "      <td>restos a pagar - Recolhimento, Recompensa, Dívida, Obrigação, Nota de empenho de despesa, Empenho, Recibado, Pagamento indevido, Seguro de vida</td>\n",
       "    </tr>\n",
       "    <tr>\n",
       "      <th>2</th>\n",
       "      <td>3</td>\n",
       "      <td>aditivo a contrato</td>\n",
       "      <td>search log</td>\n",
       "      <td>aditivo a contrato - Termo aditivo</td>\n",
       "      <td>aditivo a contrato - Termo aditivo, Acréscimo</td>\n",
       "      <td>aditivo a contrato - Termo aditivo, Acréscimo, Reprovabilidade</td>\n",
       "      <td>aditivo a contrato - Termo aditivo, Acréscimo, Reprovabilidade, Atualização</td>\n",
       "      <td>aditivo a contrato - Termo aditivo, Acréscimo, Reprovabilidade, Atualização, Reformulação</td>\n",
       "      <td>aditivo a contrato - Termo aditivo, Acréscimo, Reprovabilidade, Atualização, Reformulação, Reenquadramento</td>\n",
       "      <td>aditivo a contrato - Termo aditivo, Acréscimo, Reprovabilidade, Atualização, Reformulação, Reenquadramento, Contrato administrativo</td>\n",
       "      <td>aditivo a contrato - Termo aditivo, Acréscimo, Reprovabilidade, Atualização, Reformulação, Reenquadramento, Contrato administrativo, Contrato de escopo</td>\n",
       "      <td>aditivo a contrato - Termo aditivo, Acréscimo, Reprovabilidade, Atualização, Reformulação, Reenquadramento, Contrato administrativo, Contrato de escopo</td>\n",
       "      <td>aditivo a contrato - Termo aditivo, Acréscimo, Reprovabilidade, Atualização, Reformulação, Reenquadramento, Contrato administrativo, Contrato de escopo</td>\n",
       "    </tr>\n",
       "    <tr>\n",
       "      <th>3</th>\n",
       "      <td>4</td>\n",
       "      <td>adesão a ata de registro de preços</td>\n",
       "      <td>search log</td>\n",
       "      <td>adesão a ata de registro de preços - Sistema de Registro de Preços</td>\n",
       "      <td>adesão a ata de registro de preços - Sistema de Registro de Preços, Ato sujeito a registro</td>\n",
       "      <td>adesão a ata de registro de preços - Sistema de Registro de Preços, Ato sujeito a registro, Intenção de Registro de Preços</td>\n",
       "      <td>adesão a ata de registro de preços - Sistema de Registro de Preços, Ato sujeito a registro, Intenção de Registro de Preços, Autoridade de registro</td>\n",
       "      <td>adesão a ata de registro de preços - Sistema de Registro de Preços, Ato sujeito a registro, Intenção de Registro de Preços, Autoridade de registro, Planilha de custos e formação de preços</td>\n",
       "      <td>adesão a ata de registro de preços - Sistema de Registro de Preços, Ato sujeito a registro, Intenção de Registro de Preços, Autoridade de registro, Planilha de custos e formação de preços</td>\n",
       "      <td>adesão a ata de registro de preços - Sistema de Registro de Preços, Ato sujeito a registro, Intenção de Registro de Preços, Autoridade de registro, Planilha de custos e formação de preços</td>\n",
       "      <td>adesão a ata de registro de preços - Sistema de Registro de Preços, Ato sujeito a registro, Intenção de Registro de Preços, Autoridade de registro, Planilha de custos e formação de preços</td>\n",
       "      <td>adesão a ata de registro de preços - Sistema de Registro de Preços, Ato sujeito a registro, Intenção de Registro de Preços, Autoridade de registro, Planilha de custos e formação de preços</td>\n",
       "      <td>adesão a ata de registro de preços - Sistema de Registro de Preços, Ato sujeito a registro, Intenção de Registro de Preços, Autoridade de registro, Planilha de custos e formação de preços</td>\n",
       "    </tr>\n",
       "    <tr>\n",
       "      <th>4</th>\n",
       "      <td>5</td>\n",
       "      <td>sobrepreço e superfaturamento</td>\n",
       "      <td>search log</td>\n",
       "      <td>sobrepreço e superfaturamento - Faturamento</td>\n",
       "      <td>sobrepreço e superfaturamento - Faturamento, Excesso</td>\n",
       "      <td>sobrepreço e superfaturamento - Faturamento, Excesso, Preço</td>\n",
       "      <td>sobrepreço e superfaturamento - Faturamento, Excesso, Preço, Validade</td>\n",
       "      <td>sobrepreço e superfaturamento - Faturamento, Excesso, Preço, Validade, Licitação</td>\n",
       "      <td>sobrepreço e superfaturamento - Faturamento, Excesso, Preço, Validade, Licitação, Indústria, inovação e infraestrutura</td>\n",
       "      <td>sobrepreço e superfaturamento - Faturamento, Excesso, Preço, Validade, Licitação, Indústria, inovação e infraestrutura, Bens e serviços de informática</td>\n",
       "      <td>sobrepreço e superfaturamento - Faturamento, Excesso, Preço, Validade, Licitação, Indústria, inovação e infraestrutura, Bens e serviços de informática, Paz, justiça e instituições fortes</td>\n",
       "      <td>sobrepreço e superfaturamento - Faturamento, Excesso, Preço, Validade, Licitação, Indústria, inovação e infraestrutura, Bens e serviços de informática, Paz, justiça e instituições fortes</td>\n",
       "      <td>sobrepreço e superfaturamento - Faturamento, Excesso, Preço, Validade, Licitação, Indústria, inovação e infraestrutura, Bens e serviços de informática, Paz, justiça e instituições fortes</td>\n",
       "    </tr>\n",
       "  </tbody>\n",
       "</table>\n",
       "</div>"
      ],
      "text/plain": [
       "   ID                                TEXT      SOURCE                                                                   1  \\\n",
       "0   1                     técnica e preço  search log                      técnica e preço - Licitação de técnica e preço   \n",
       "1   2                      restos a pagar  search log                                       restos a pagar - Recolhimento   \n",
       "2   3                  aditivo a contrato  search log                                  aditivo a contrato - Termo aditivo   \n",
       "3   4  adesão a ata de registro de preços  search log  adesão a ata de registro de preços - Sistema de Registro de Preços   \n",
       "4   5       sobrepreço e superfaturamento  search log                         sobrepreço e superfaturamento - Faturamento   \n",
       "\n",
       "                                                                                            2  \\\n",
       "0                            técnica e preço - Licitação de técnica e preço, Proposta técnica   \n",
       "1                                                   restos a pagar - Recolhimento, Recompensa   \n",
       "2                                               aditivo a contrato - Termo aditivo, Acréscimo   \n",
       "3  adesão a ata de registro de preços - Sistema de Registro de Preços, Ato sujeito a registro   \n",
       "4                                        sobrepreço e superfaturamento - Faturamento, Excesso   \n",
       "\n",
       "                                                                                                                            3  \\\n",
       "0                                               técnica e preço - Licitação de técnica e preço, Proposta técnica, Preço médio   \n",
       "1                                                                           restos a pagar - Recolhimento, Recompensa, Dívida   \n",
       "2                                                              aditivo a contrato - Termo aditivo, Acréscimo, Reprovabilidade   \n",
       "3  adesão a ata de registro de preços - Sistema de Registro de Preços, Ato sujeito a registro, Intenção de Registro de Preços   \n",
       "4                                                                 sobrepreço e superfaturamento - Faturamento, Excesso, Preço   \n",
       "\n",
       "                                                                                                                                                    4  \\\n",
       "0                                                     técnica e preço - Licitação de técnica e preço, Proposta técnica, Preço médio, Preço de mercado   \n",
       "1                                                                                        restos a pagar - Recolhimento, Recompensa, Dívida, Obrigação   \n",
       "2                                                                         aditivo a contrato - Termo aditivo, Acréscimo, Reprovabilidade, Atualização   \n",
       "3  adesão a ata de registro de preços - Sistema de Registro de Preços, Ato sujeito a registro, Intenção de Registro de Preços, Autoridade de registro   \n",
       "4                                                                               sobrepreço e superfaturamento - Faturamento, Excesso, Preço, Validade   \n",
       "\n",
       "                                                                                                                                                                                             5  \\\n",
       "0                                                                            técnica e preço - Licitação de técnica e preço, Proposta técnica, Preço médio, Preço de mercado, Técnica jurídica   \n",
       "1                                                                                                     restos a pagar - Recolhimento, Recompensa, Dívida, Obrigação, Nota de empenho de despesa   \n",
       "2                                                                                                    aditivo a contrato - Termo aditivo, Acréscimo, Reprovabilidade, Atualização, Reformulação   \n",
       "3  adesão a ata de registro de preços - Sistema de Registro de Preços, Ato sujeito a registro, Intenção de Registro de Preços, Autoridade de registro, Planilha de custos e formação de preços   \n",
       "4                                                                                                             sobrepreço e superfaturamento - Faturamento, Excesso, Preço, Validade, Licitação   \n",
       "\n",
       "                                                                                                                                                                                             6  \\\n",
       "0                                                         técnica e preço - Licitação de técnica e preço, Proposta técnica, Preço médio, Preço de mercado, Técnica jurídica, Proposta de preço   \n",
       "1                                                                                            restos a pagar - Recolhimento, Recompensa, Dívida, Obrigação, Nota de empenho de despesa, Empenho   \n",
       "2                                                                                   aditivo a contrato - Termo aditivo, Acréscimo, Reprovabilidade, Atualização, Reformulação, Reenquadramento   \n",
       "3  adesão a ata de registro de preços - Sistema de Registro de Preços, Ato sujeito a registro, Intenção de Registro de Preços, Autoridade de registro, Planilha de custos e formação de preços   \n",
       "4                                                                       sobrepreço e superfaturamento - Faturamento, Excesso, Preço, Validade, Licitação, Indústria, inovação e infraestrutura   \n",
       "\n",
       "                                                                                                                                                                                             7  \\\n",
       "0                                           técnica e preço - Licitação de técnica e preço, Proposta técnica, Preço médio, Preço de mercado, Técnica jurídica, Proposta de preço, Preço máximo   \n",
       "1                                                                                  restos a pagar - Recolhimento, Recompensa, Dívida, Obrigação, Nota de empenho de despesa, Empenho, Recibado   \n",
       "2                                                          aditivo a contrato - Termo aditivo, Acréscimo, Reprovabilidade, Atualização, Reformulação, Reenquadramento, Contrato administrativo   \n",
       "3  adesão a ata de registro de preços - Sistema de Registro de Preços, Ato sujeito a registro, Intenção de Registro de Preços, Autoridade de registro, Planilha de custos e formação de preços   \n",
       "4                                       sobrepreço e superfaturamento - Faturamento, Excesso, Preço, Validade, Licitação, Indústria, inovação e infraestrutura, Bens e serviços de informática   \n",
       "\n",
       "                                                                                                                                                                                             8  \\\n",
       "0                           técnica e preço - Licitação de técnica e preço, Proposta técnica, Preço médio, Preço de mercado, Técnica jurídica, Proposta de preço, Preço máximo, Preço estimado   \n",
       "1                                                              restos a pagar - Recolhimento, Recompensa, Dívida, Obrigação, Nota de empenho de despesa, Empenho, Recibado, Pagamento indevido   \n",
       "2                                      aditivo a contrato - Termo aditivo, Acréscimo, Reprovabilidade, Atualização, Reformulação, Reenquadramento, Contrato administrativo, Contrato de escopo   \n",
       "3  adesão a ata de registro de preços - Sistema de Registro de Preços, Ato sujeito a registro, Intenção de Registro de Preços, Autoridade de registro, Planilha de custos e formação de preços   \n",
       "4   sobrepreço e superfaturamento - Faturamento, Excesso, Preço, Validade, Licitação, Indústria, inovação e infraestrutura, Bens e serviços de informática, Paz, justiça e instituições fortes   \n",
       "\n",
       "                                                                                                                                                                                             9  \\\n",
       "0                 técnica e preço - Licitação de técnica e preço, Proposta técnica, Preço médio, Preço de mercado, Técnica jurídica, Proposta de preço, Preço máximo, Preço estimado, Proposta   \n",
       "1                                              restos a pagar - Recolhimento, Recompensa, Dívida, Obrigação, Nota de empenho de despesa, Empenho, Recibado, Pagamento indevido, Seguro de vida   \n",
       "2                                      aditivo a contrato - Termo aditivo, Acréscimo, Reprovabilidade, Atualização, Reformulação, Reenquadramento, Contrato administrativo, Contrato de escopo   \n",
       "3  adesão a ata de registro de preços - Sistema de Registro de Preços, Ato sujeito a registro, Intenção de Registro de Preços, Autoridade de registro, Planilha de custos e formação de preços   \n",
       "4   sobrepreço e superfaturamento - Faturamento, Excesso, Preço, Validade, Licitação, Indústria, inovação e infraestrutura, Bens e serviços de informática, Paz, justiça e instituições fortes   \n",
       "\n",
       "                                                                                                                                                                                            10  \n",
       "0                 técnica e preço - Licitação de técnica e preço, Proposta técnica, Preço médio, Preço de mercado, Técnica jurídica, Proposta de preço, Preço máximo, Preço estimado, Proposta  \n",
       "1                                              restos a pagar - Recolhimento, Recompensa, Dívida, Obrigação, Nota de empenho de despesa, Empenho, Recibado, Pagamento indevido, Seguro de vida  \n",
       "2                                      aditivo a contrato - Termo aditivo, Acréscimo, Reprovabilidade, Atualização, Reformulação, Reenquadramento, Contrato administrativo, Contrato de escopo  \n",
       "3  adesão a ata de registro de preços - Sistema de Registro de Preços, Ato sujeito a registro, Intenção de Registro de Preços, Autoridade de registro, Planilha de custos e formação de preços  \n",
       "4   sobrepreço e superfaturamento - Faturamento, Excesso, Preço, Validade, Licitação, Indústria, inovação e infraestrutura, Bens e serviços de informática, Paz, justiça e instituições fortes  "
      ]
     },
     "execution_count": 19,
     "metadata": {},
     "output_type": "execute_result"
    }
   ],
   "source": [
    "df_query.head()"
   ]
  },
  {
   "cell_type": "code",
   "execution_count": 20,
   "metadata": {},
   "outputs": [],
   "source": [
    "df_query = df_query.reset_index(drop=True)"
   ]
  },
  {
   "cell_type": "markdown",
   "metadata": {},
   "source": []
  },
  {
   "attachments": {},
   "cell_type": "markdown",
   "metadata": {},
   "source": [
    "## Qrel data load"
   ]
  },
  {
   "cell_type": "code",
   "execution_count": 21,
   "id": "1cf03f22",
   "metadata": {},
   "outputs": [],
   "source": [
    "df_qrel = pd.read_csv(PATH_QREL)"
   ]
  },
  {
   "cell_type": "code",
   "execution_count": 22,
   "metadata": {},
   "outputs": [
    {
     "data": {
      "text/plain": [
       "(2250, 5)"
      ]
     },
     "execution_count": 22,
     "metadata": {},
     "output_type": "execute_result"
    }
   ],
   "source": [
    "df_qrel.shape"
   ]
  },
  {
   "cell_type": "code",
   "execution_count": 23,
   "id": "a75dd812",
   "metadata": {},
   "outputs": [
    {
     "data": {
      "text/html": [
       "<div>\n",
       "<style scoped>\n",
       "    .dataframe tbody tr th:only-of-type {\n",
       "        vertical-align: middle;\n",
       "    }\n",
       "\n",
       "    .dataframe tbody tr th {\n",
       "        vertical-align: top;\n",
       "    }\n",
       "\n",
       "    .dataframe thead th {\n",
       "        text-align: right;\n",
       "    }\n",
       "</style>\n",
       "<table border=\"1\" class=\"dataframe\">\n",
       "  <thead>\n",
       "    <tr style=\"text-align: right;\">\n",
       "      <th></th>\n",
       "      <th>QUERY_ID</th>\n",
       "      <th>DOC_ID</th>\n",
       "      <th>SCORE</th>\n",
       "      <th>ENGINE</th>\n",
       "      <th>RANK</th>\n",
       "    </tr>\n",
       "  </thead>\n",
       "  <tbody>\n",
       "    <tr>\n",
       "      <th>0</th>\n",
       "      <td>1</td>\n",
       "      <td>21064</td>\n",
       "      <td>3</td>\n",
       "      <td>(BM25|STS)+Reranker+LLM</td>\n",
       "      <td>1</td>\n",
       "    </tr>\n",
       "    <tr>\n",
       "      <th>1</th>\n",
       "      <td>1</td>\n",
       "      <td>42166</td>\n",
       "      <td>3</td>\n",
       "      <td>(BM25|STS)+Reranker+LLM</td>\n",
       "      <td>2</td>\n",
       "    </tr>\n",
       "    <tr>\n",
       "      <th>2</th>\n",
       "      <td>1</td>\n",
       "      <td>13702</td>\n",
       "      <td>3</td>\n",
       "      <td>(BM25|STS)+Reranker+LLM</td>\n",
       "      <td>3</td>\n",
       "    </tr>\n",
       "    <tr>\n",
       "      <th>3</th>\n",
       "      <td>1</td>\n",
       "      <td>20592</td>\n",
       "      <td>3</td>\n",
       "      <td>(BM25|STS)+Reranker+LLM</td>\n",
       "      <td>4</td>\n",
       "    </tr>\n",
       "    <tr>\n",
       "      <th>4</th>\n",
       "      <td>1</td>\n",
       "      <td>15740</td>\n",
       "      <td>3</td>\n",
       "      <td>(BM25|STS)+Reranker+LLM</td>\n",
       "      <td>5</td>\n",
       "    </tr>\n",
       "    <tr>\n",
       "      <th>5</th>\n",
       "      <td>1</td>\n",
       "      <td>53641</td>\n",
       "      <td>3</td>\n",
       "      <td>(BM25|STS)+Reranker+LLM</td>\n",
       "      <td>6</td>\n",
       "    </tr>\n",
       "    <tr>\n",
       "      <th>6</th>\n",
       "      <td>1</td>\n",
       "      <td>31601</td>\n",
       "      <td>3</td>\n",
       "      <td>(BM25|STS)+Reranker+LLM</td>\n",
       "      <td>7</td>\n",
       "    </tr>\n",
       "    <tr>\n",
       "      <th>7</th>\n",
       "      <td>1</td>\n",
       "      <td>54765</td>\n",
       "      <td>3</td>\n",
       "      <td>(BM25|STS)+Reranker+LLM</td>\n",
       "      <td>8</td>\n",
       "    </tr>\n",
       "    <tr>\n",
       "      <th>8</th>\n",
       "      <td>1</td>\n",
       "      <td>20506</td>\n",
       "      <td>3</td>\n",
       "      <td>(BM25|STS)+Reranker+LLM</td>\n",
       "      <td>9</td>\n",
       "    </tr>\n",
       "    <tr>\n",
       "      <th>9</th>\n",
       "      <td>1</td>\n",
       "      <td>47161</td>\n",
       "      <td>3</td>\n",
       "      <td>(BM25|STS)+Reranker+LLM</td>\n",
       "      <td>10</td>\n",
       "    </tr>\n",
       "    <tr>\n",
       "      <th>10</th>\n",
       "      <td>1</td>\n",
       "      <td>161</td>\n",
       "      <td>1</td>\n",
       "      <td>BM25+LLM</td>\n",
       "      <td>52</td>\n",
       "    </tr>\n",
       "    <tr>\n",
       "      <th>11</th>\n",
       "      <td>1</td>\n",
       "      <td>11595</td>\n",
       "      <td>1</td>\n",
       "      <td>BM25+LLM</td>\n",
       "      <td>250</td>\n",
       "    </tr>\n",
       "    <tr>\n",
       "      <th>12</th>\n",
       "      <td>1</td>\n",
       "      <td>40647</td>\n",
       "      <td>1</td>\n",
       "      <td>BM25+LLM</td>\n",
       "      <td>283</td>\n",
       "    </tr>\n",
       "    <tr>\n",
       "      <th>13</th>\n",
       "      <td>1</td>\n",
       "      <td>22155</td>\n",
       "      <td>1</td>\n",
       "      <td>BM25+LLM</td>\n",
       "      <td>474</td>\n",
       "    </tr>\n",
       "    <tr>\n",
       "      <th>14</th>\n",
       "      <td>1</td>\n",
       "      <td>18435</td>\n",
       "      <td>1</td>\n",
       "      <td>BM25+LLM</td>\n",
       "      <td>905</td>\n",
       "    </tr>\n",
       "  </tbody>\n",
       "</table>\n",
       "</div>"
      ],
      "text/plain": [
       "    QUERY_ID  DOC_ID  SCORE                   ENGINE  RANK\n",
       "0          1   21064      3  (BM25|STS)+Reranker+LLM     1\n",
       "1          1   42166      3  (BM25|STS)+Reranker+LLM     2\n",
       "2          1   13702      3  (BM25|STS)+Reranker+LLM     3\n",
       "3          1   20592      3  (BM25|STS)+Reranker+LLM     4\n",
       "4          1   15740      3  (BM25|STS)+Reranker+LLM     5\n",
       "5          1   53641      3  (BM25|STS)+Reranker+LLM     6\n",
       "6          1   31601      3  (BM25|STS)+Reranker+LLM     7\n",
       "7          1   54765      3  (BM25|STS)+Reranker+LLM     8\n",
       "8          1   20506      3  (BM25|STS)+Reranker+LLM     9\n",
       "9          1   47161      3  (BM25|STS)+Reranker+LLM    10\n",
       "10         1     161      1                 BM25+LLM    52\n",
       "11         1   11595      1                 BM25+LLM   250\n",
       "12         1   40647      1                 BM25+LLM   283\n",
       "13         1   22155      1                 BM25+LLM   474\n",
       "14         1   18435      1                 BM25+LLM   905"
      ]
     },
     "execution_count": 23,
     "metadata": {},
     "output_type": "execute_result"
    }
   ],
   "source": [
    "df_qrel.head(15)"
   ]
  },
  {
   "cell_type": "code",
   "execution_count": 24,
   "metadata": {},
   "outputs": [
    {
     "data": {
      "text/plain": [
       "2250"
      ]
     },
     "execution_count": 24,
     "metadata": {},
     "output_type": "execute_result"
    }
   ],
   "source": [
    "df_qrel.shape[0]"
   ]
  },
  {
   "cell_type": "code",
   "execution_count": 25,
   "metadata": {},
   "outputs": [],
   "source": [
    "df_search_data = df_query.merge(df_qrel, how='left', left_on='ID', right_on='QUERY_ID').drop('QUERY_ID', axis=1)"
   ]
  },
  {
   "cell_type": "code",
   "execution_count": 26,
   "metadata": {},
   "outputs": [
    {
     "data": {
      "text/plain": [
       "(2250, 17)"
      ]
     },
     "execution_count": 26,
     "metadata": {},
     "output_type": "execute_result"
    }
   ],
   "source": [
    "df_search_data.shape\n"
   ]
  },
  {
   "cell_type": "code",
   "execution_count": 27,
   "metadata": {},
   "outputs": [],
   "source": [
    "# Agrupar os dados pelo ID e criar a coluna 'RELEVANCE_LIST' com a lista de tuplas\n",
    "# df_new = df_search_data.groupby('ID').apply(lambda x: list(zip(x['DOC_ID'], x['TYPE']))).reset_index(name='RELEVANCE_LIST')\n",
    "# df_new['RELEVANCE_LIST'] = df_new['RELEVANCE_LIST'].apply(lambda x: sorted(x, key=lambda tup: ('AREA', 'TEMA', 'SUBTEMA', 'INDEXACAO_EXTRA').index(tup[1])))\n",
    "df_new = df_search_data.groupby('ID').apply(lambda x: dict(zip(x['DOC_ID'], x['SCORE']))).reset_index(name='RELEVANCE_DICT')\n"
   ]
  },
  {
   "cell_type": "code",
   "execution_count": 28,
   "metadata": {},
   "outputs": [
    {
     "data": {
      "text/html": [
       "<div>\n",
       "<style scoped>\n",
       "    .dataframe tbody tr th:only-of-type {\n",
       "        vertical-align: middle;\n",
       "    }\n",
       "\n",
       "    .dataframe tbody tr th {\n",
       "        vertical-align: top;\n",
       "    }\n",
       "\n",
       "    .dataframe thead th {\n",
       "        text-align: right;\n",
       "    }\n",
       "</style>\n",
       "<table border=\"1\" class=\"dataframe\">\n",
       "  <thead>\n",
       "    <tr style=\"text-align: right;\">\n",
       "      <th></th>\n",
       "      <th>ID</th>\n",
       "      <th>RELEVANCE_DICT</th>\n",
       "    </tr>\n",
       "  </thead>\n",
       "  <tbody>\n",
       "    <tr>\n",
       "      <th>0</th>\n",
       "      <td>1</td>\n",
       "      <td>{21064: 3, 42166: 3, 13702: 3, 20592: 3, 15740: 3, 53641: 3, 31601: 3, 54765: 3, 20506: 3, 47161: 3, 161: 1, 11595: 1, 40647: 1, 22155: 1, 18435: 1}</td>\n",
       "    </tr>\n",
       "    <tr>\n",
       "      <th>1</th>\n",
       "      <td>2</td>\n",
       "      <td>{31437: 3, 19340: 3, 77959: 3, 17289: 2, 18452: 2, 18105: 1, 19636: 1, 31274: 0, 17258: 0, 32865: 0, 19738: 0, 104484: 0, 90647: 0, 21876: 0, 33096: 0}</td>\n",
       "    </tr>\n",
       "    <tr>\n",
       "      <th>2</th>\n",
       "      <td>3</td>\n",
       "      <td>{18380: 3, 31102: 3, 17240: 3, 20511: 3, 32589: 3, 20510: 3, 17816: 3, 18058: 2, 17225: 2, 57354: 2, 18003: 2, 3881: 2, 31096: 1, 20901: 1, 11621: 1}</td>\n",
       "    </tr>\n",
       "    <tr>\n",
       "      <th>3</th>\n",
       "      <td>4</td>\n",
       "      <td>{16895: 3, 45015: 3, 14526: 3, 62306: 3, 6237: 3, 50537: 3, 16981: 3, 21201: 3, 77927: 3, 84935: 3, 22098: 1, 18410: 1, 8858: 1, 60811: 0, 42906: 0}</td>\n",
       "    </tr>\n",
       "    <tr>\n",
       "      <th>4</th>\n",
       "      <td>5</td>\n",
       "      <td>{21172: 3, 17816: 3, 4066: 3, 53003: 3, 94290: 3, 114656: 3, 50616: 3, 144170: 3, 16277: 3, 59226: 3, 18047: 2, 31612: 1, 18036: 1, 42583: 0, 29387: 0}</td>\n",
       "    </tr>\n",
       "  </tbody>\n",
       "</table>\n",
       "</div>"
      ],
      "text/plain": [
       "   ID                                                                                                                                           RELEVANCE_DICT\n",
       "0   1     {21064: 3, 42166: 3, 13702: 3, 20592: 3, 15740: 3, 53641: 3, 31601: 3, 54765: 3, 20506: 3, 47161: 3, 161: 1, 11595: 1, 40647: 1, 22155: 1, 18435: 1}\n",
       "1   2  {31437: 3, 19340: 3, 77959: 3, 17289: 2, 18452: 2, 18105: 1, 19636: 1, 31274: 0, 17258: 0, 32865: 0, 19738: 0, 104484: 0, 90647: 0, 21876: 0, 33096: 0}\n",
       "2   3    {18380: 3, 31102: 3, 17240: 3, 20511: 3, 32589: 3, 20510: 3, 17816: 3, 18058: 2, 17225: 2, 57354: 2, 18003: 2, 3881: 2, 31096: 1, 20901: 1, 11621: 1}\n",
       "3   4     {16895: 3, 45015: 3, 14526: 3, 62306: 3, 6237: 3, 50537: 3, 16981: 3, 21201: 3, 77927: 3, 84935: 3, 22098: 1, 18410: 1, 8858: 1, 60811: 0, 42906: 0}\n",
       "4   5  {21172: 3, 17816: 3, 4066: 3, 53003: 3, 94290: 3, 114656: 3, 50616: 3, 144170: 3, 16277: 3, 59226: 3, 18047: 2, 31612: 1, 18036: 1, 42583: 0, 29387: 0}"
      ]
     },
     "execution_count": 28,
     "metadata": {},
     "output_type": "execute_result"
    }
   ],
   "source": [
    "df_new.head()"
   ]
  },
  {
   "cell_type": "code",
   "execution_count": 29,
   "metadata": {},
   "outputs": [],
   "source": [
    "# Unir o resultado com as demais colunas únicas\n",
    "df_new = pd.merge(df_new, df_search_data.drop_duplicates('ID'), on='ID', how='left')"
   ]
  },
  {
   "cell_type": "code",
   "execution_count": 30,
   "metadata": {},
   "outputs": [
    {
     "data": {
      "text/plain": [
       "Index(['ID', 'RELEVANCE_DICT', 'TEXT', 'SOURCE', '1', '2', '3', '4', '5', '6', '7', '8', '9', '10', 'DOC_ID', 'SCORE', 'ENGINE', 'RANK'], dtype='object')"
      ]
     },
     "execution_count": 30,
     "metadata": {},
     "output_type": "execute_result"
    }
   ],
   "source": [
    "df_new.columns"
   ]
  },
  {
   "cell_type": "code",
   "execution_count": 31,
   "metadata": {},
   "outputs": [],
   "source": [
    "df_search_data = df_new.drop(['DOC_ID', 'SCORE', 'ENGINE', 'RANK'], axis=1)"
   ]
  },
  {
   "cell_type": "code",
   "execution_count": 32,
   "metadata": {},
   "outputs": [
    {
     "data": {
      "text/plain": [
       "(150, 14)"
      ]
     },
     "execution_count": 32,
     "metadata": {},
     "output_type": "execute_result"
    }
   ],
   "source": [
    "df_search_data.shape"
   ]
  },
  {
   "cell_type": "code",
   "execution_count": 33,
   "metadata": {},
   "outputs": [
    {
     "data": {
      "text/html": [
       "<div>\n",
       "<style scoped>\n",
       "    .dataframe tbody tr th:only-of-type {\n",
       "        vertical-align: middle;\n",
       "    }\n",
       "\n",
       "    .dataframe tbody tr th {\n",
       "        vertical-align: top;\n",
       "    }\n",
       "\n",
       "    .dataframe thead th {\n",
       "        text-align: right;\n",
       "    }\n",
       "</style>\n",
       "<table border=\"1\" class=\"dataframe\">\n",
       "  <thead>\n",
       "    <tr style=\"text-align: right;\">\n",
       "      <th></th>\n",
       "      <th>ID</th>\n",
       "      <th>RELEVANCE_DICT</th>\n",
       "      <th>TEXT</th>\n",
       "      <th>SOURCE</th>\n",
       "      <th>1</th>\n",
       "      <th>2</th>\n",
       "      <th>3</th>\n",
       "      <th>4</th>\n",
       "      <th>5</th>\n",
       "      <th>6</th>\n",
       "      <th>7</th>\n",
       "      <th>8</th>\n",
       "      <th>9</th>\n",
       "      <th>10</th>\n",
       "    </tr>\n",
       "  </thead>\n",
       "  <tbody>\n",
       "    <tr>\n",
       "      <th>0</th>\n",
       "      <td>1</td>\n",
       "      <td>{21064: 3, 42166: 3, 13702: 3, 20592: 3, 15740: 3, 53641: 3, 31601: 3, 54765: 3, 20506: 3, 47161: 3, 161: 1, 11595: 1, 40647: 1, 22155: 1, 18435: 1}</td>\n",
       "      <td>técnica e preço</td>\n",
       "      <td>search log</td>\n",
       "      <td>técnica e preço - Licitação de técnica e preço</td>\n",
       "      <td>técnica e preço - Licitação de técnica e preço, Proposta técnica</td>\n",
       "      <td>técnica e preço - Licitação de técnica e preço, Proposta técnica, Preço médio</td>\n",
       "      <td>técnica e preço - Licitação de técnica e preço, Proposta técnica, Preço médio, Preço de mercado</td>\n",
       "      <td>técnica e preço - Licitação de técnica e preço, Proposta técnica, Preço médio, Preço de mercado, Técnica jurídica</td>\n",
       "      <td>técnica e preço - Licitação de técnica e preço, Proposta técnica, Preço médio, Preço de mercado, Técnica jurídica, Proposta de preço</td>\n",
       "      <td>técnica e preço - Licitação de técnica e preço, Proposta técnica, Preço médio, Preço de mercado, Técnica jurídica, Proposta de preço, Preço máximo</td>\n",
       "      <td>técnica e preço - Licitação de técnica e preço, Proposta técnica, Preço médio, Preço de mercado, Técnica jurídica, Proposta de preço, Preço máximo, Preço estimado</td>\n",
       "      <td>técnica e preço - Licitação de técnica e preço, Proposta técnica, Preço médio, Preço de mercado, Técnica jurídica, Proposta de preço, Preço máximo, Preço estimado, Proposta</td>\n",
       "      <td>técnica e preço - Licitação de técnica e preço, Proposta técnica, Preço médio, Preço de mercado, Técnica jurídica, Proposta de preço, Preço máximo, Preço estimado, Proposta</td>\n",
       "    </tr>\n",
       "    <tr>\n",
       "      <th>1</th>\n",
       "      <td>2</td>\n",
       "      <td>{31437: 3, 19340: 3, 77959: 3, 17289: 2, 18452: 2, 18105: 1, 19636: 1, 31274: 0, 17258: 0, 32865: 0, 19738: 0, 104484: 0, 90647: 0, 21876: 0, 33096: 0}</td>\n",
       "      <td>restos a pagar</td>\n",
       "      <td>search log</td>\n",
       "      <td>restos a pagar - Recolhimento</td>\n",
       "      <td>restos a pagar - Recolhimento, Recompensa</td>\n",
       "      <td>restos a pagar - Recolhimento, Recompensa, Dívida</td>\n",
       "      <td>restos a pagar - Recolhimento, Recompensa, Dívida, Obrigação</td>\n",
       "      <td>restos a pagar - Recolhimento, Recompensa, Dívida, Obrigação, Nota de empenho de despesa</td>\n",
       "      <td>restos a pagar - Recolhimento, Recompensa, Dívida, Obrigação, Nota de empenho de despesa, Empenho</td>\n",
       "      <td>restos a pagar - Recolhimento, Recompensa, Dívida, Obrigação, Nota de empenho de despesa, Empenho, Recibado</td>\n",
       "      <td>restos a pagar - Recolhimento, Recompensa, Dívida, Obrigação, Nota de empenho de despesa, Empenho, Recibado, Pagamento indevido</td>\n",
       "      <td>restos a pagar - Recolhimento, Recompensa, Dívida, Obrigação, Nota de empenho de despesa, Empenho, Recibado, Pagamento indevido, Seguro de vida</td>\n",
       "      <td>restos a pagar - Recolhimento, Recompensa, Dívida, Obrigação, Nota de empenho de despesa, Empenho, Recibado, Pagamento indevido, Seguro de vida</td>\n",
       "    </tr>\n",
       "    <tr>\n",
       "      <th>2</th>\n",
       "      <td>3</td>\n",
       "      <td>{18380: 3, 31102: 3, 17240: 3, 20511: 3, 32589: 3, 20510: 3, 17816: 3, 18058: 2, 17225: 2, 57354: 2, 18003: 2, 3881: 2, 31096: 1, 20901: 1, 11621: 1}</td>\n",
       "      <td>aditivo a contrato</td>\n",
       "      <td>search log</td>\n",
       "      <td>aditivo a contrato - Termo aditivo</td>\n",
       "      <td>aditivo a contrato - Termo aditivo, Acréscimo</td>\n",
       "      <td>aditivo a contrato - Termo aditivo, Acréscimo, Reprovabilidade</td>\n",
       "      <td>aditivo a contrato - Termo aditivo, Acréscimo, Reprovabilidade, Atualização</td>\n",
       "      <td>aditivo a contrato - Termo aditivo, Acréscimo, Reprovabilidade, Atualização, Reformulação</td>\n",
       "      <td>aditivo a contrato - Termo aditivo, Acréscimo, Reprovabilidade, Atualização, Reformulação, Reenquadramento</td>\n",
       "      <td>aditivo a contrato - Termo aditivo, Acréscimo, Reprovabilidade, Atualização, Reformulação, Reenquadramento, Contrato administrativo</td>\n",
       "      <td>aditivo a contrato - Termo aditivo, Acréscimo, Reprovabilidade, Atualização, Reformulação, Reenquadramento, Contrato administrativo, Contrato de escopo</td>\n",
       "      <td>aditivo a contrato - Termo aditivo, Acréscimo, Reprovabilidade, Atualização, Reformulação, Reenquadramento, Contrato administrativo, Contrato de escopo</td>\n",
       "      <td>aditivo a contrato - Termo aditivo, Acréscimo, Reprovabilidade, Atualização, Reformulação, Reenquadramento, Contrato administrativo, Contrato de escopo</td>\n",
       "    </tr>\n",
       "    <tr>\n",
       "      <th>3</th>\n",
       "      <td>4</td>\n",
       "      <td>{16895: 3, 45015: 3, 14526: 3, 62306: 3, 6237: 3, 50537: 3, 16981: 3, 21201: 3, 77927: 3, 84935: 3, 22098: 1, 18410: 1, 8858: 1, 60811: 0, 42906: 0}</td>\n",
       "      <td>adesão a ata de registro de preços</td>\n",
       "      <td>search log</td>\n",
       "      <td>adesão a ata de registro de preços - Sistema de Registro de Preços</td>\n",
       "      <td>adesão a ata de registro de preços - Sistema de Registro de Preços, Ato sujeito a registro</td>\n",
       "      <td>adesão a ata de registro de preços - Sistema de Registro de Preços, Ato sujeito a registro, Intenção de Registro de Preços</td>\n",
       "      <td>adesão a ata de registro de preços - Sistema de Registro de Preços, Ato sujeito a registro, Intenção de Registro de Preços, Autoridade de registro</td>\n",
       "      <td>adesão a ata de registro de preços - Sistema de Registro de Preços, Ato sujeito a registro, Intenção de Registro de Preços, Autoridade de registro, Planilha de custos e formação de preços</td>\n",
       "      <td>adesão a ata de registro de preços - Sistema de Registro de Preços, Ato sujeito a registro, Intenção de Registro de Preços, Autoridade de registro, Planilha de custos e formação de preços</td>\n",
       "      <td>adesão a ata de registro de preços - Sistema de Registro de Preços, Ato sujeito a registro, Intenção de Registro de Preços, Autoridade de registro, Planilha de custos e formação de preços</td>\n",
       "      <td>adesão a ata de registro de preços - Sistema de Registro de Preços, Ato sujeito a registro, Intenção de Registro de Preços, Autoridade de registro, Planilha de custos e formação de preços</td>\n",
       "      <td>adesão a ata de registro de preços - Sistema de Registro de Preços, Ato sujeito a registro, Intenção de Registro de Preços, Autoridade de registro, Planilha de custos e formação de preços</td>\n",
       "      <td>adesão a ata de registro de preços - Sistema de Registro de Preços, Ato sujeito a registro, Intenção de Registro de Preços, Autoridade de registro, Planilha de custos e formação de preços</td>\n",
       "    </tr>\n",
       "    <tr>\n",
       "      <th>4</th>\n",
       "      <td>5</td>\n",
       "      <td>{21172: 3, 17816: 3, 4066: 3, 53003: 3, 94290: 3, 114656: 3, 50616: 3, 144170: 3, 16277: 3, 59226: 3, 18047: 2, 31612: 1, 18036: 1, 42583: 0, 29387: 0}</td>\n",
       "      <td>sobrepreço e superfaturamento</td>\n",
       "      <td>search log</td>\n",
       "      <td>sobrepreço e superfaturamento - Faturamento</td>\n",
       "      <td>sobrepreço e superfaturamento - Faturamento, Excesso</td>\n",
       "      <td>sobrepreço e superfaturamento - Faturamento, Excesso, Preço</td>\n",
       "      <td>sobrepreço e superfaturamento - Faturamento, Excesso, Preço, Validade</td>\n",
       "      <td>sobrepreço e superfaturamento - Faturamento, Excesso, Preço, Validade, Licitação</td>\n",
       "      <td>sobrepreço e superfaturamento - Faturamento, Excesso, Preço, Validade, Licitação, Indústria, inovação e infraestrutura</td>\n",
       "      <td>sobrepreço e superfaturamento - Faturamento, Excesso, Preço, Validade, Licitação, Indústria, inovação e infraestrutura, Bens e serviços de informática</td>\n",
       "      <td>sobrepreço e superfaturamento - Faturamento, Excesso, Preço, Validade, Licitação, Indústria, inovação e infraestrutura, Bens e serviços de informática, Paz, justiça e instituições fortes</td>\n",
       "      <td>sobrepreço e superfaturamento - Faturamento, Excesso, Preço, Validade, Licitação, Indústria, inovação e infraestrutura, Bens e serviços de informática, Paz, justiça e instituições fortes</td>\n",
       "      <td>sobrepreço e superfaturamento - Faturamento, Excesso, Preço, Validade, Licitação, Indústria, inovação e infraestrutura, Bens e serviços de informática, Paz, justiça e instituições fortes</td>\n",
       "    </tr>\n",
       "  </tbody>\n",
       "</table>\n",
       "</div>"
      ],
      "text/plain": [
       "   ID                                                                                                                                           RELEVANCE_DICT                                TEXT  \\\n",
       "0   1     {21064: 3, 42166: 3, 13702: 3, 20592: 3, 15740: 3, 53641: 3, 31601: 3, 54765: 3, 20506: 3, 47161: 3, 161: 1, 11595: 1, 40647: 1, 22155: 1, 18435: 1}                     técnica e preço   \n",
       "1   2  {31437: 3, 19340: 3, 77959: 3, 17289: 2, 18452: 2, 18105: 1, 19636: 1, 31274: 0, 17258: 0, 32865: 0, 19738: 0, 104484: 0, 90647: 0, 21876: 0, 33096: 0}                      restos a pagar   \n",
       "2   3    {18380: 3, 31102: 3, 17240: 3, 20511: 3, 32589: 3, 20510: 3, 17816: 3, 18058: 2, 17225: 2, 57354: 2, 18003: 2, 3881: 2, 31096: 1, 20901: 1, 11621: 1}                  aditivo a contrato   \n",
       "3   4     {16895: 3, 45015: 3, 14526: 3, 62306: 3, 6237: 3, 50537: 3, 16981: 3, 21201: 3, 77927: 3, 84935: 3, 22098: 1, 18410: 1, 8858: 1, 60811: 0, 42906: 0}  adesão a ata de registro de preços   \n",
       "4   5  {21172: 3, 17816: 3, 4066: 3, 53003: 3, 94290: 3, 114656: 3, 50616: 3, 144170: 3, 16277: 3, 59226: 3, 18047: 2, 31612: 1, 18036: 1, 42583: 0, 29387: 0}       sobrepreço e superfaturamento   \n",
       "\n",
       "       SOURCE                                                                   1                                                                                           2  \\\n",
       "0  search log                      técnica e preço - Licitação de técnica e preço                            técnica e preço - Licitação de técnica e preço, Proposta técnica   \n",
       "1  search log                                       restos a pagar - Recolhimento                                                   restos a pagar - Recolhimento, Recompensa   \n",
       "2  search log                                  aditivo a contrato - Termo aditivo                                               aditivo a contrato - Termo aditivo, Acréscimo   \n",
       "3  search log  adesão a ata de registro de preços - Sistema de Registro de Preços  adesão a ata de registro de preços - Sistema de Registro de Preços, Ato sujeito a registro   \n",
       "4  search log                         sobrepreço e superfaturamento - Faturamento                                        sobrepreço e superfaturamento - Faturamento, Excesso   \n",
       "\n",
       "                                                                                                                            3  \\\n",
       "0                                               técnica e preço - Licitação de técnica e preço, Proposta técnica, Preço médio   \n",
       "1                                                                           restos a pagar - Recolhimento, Recompensa, Dívida   \n",
       "2                                                              aditivo a contrato - Termo aditivo, Acréscimo, Reprovabilidade   \n",
       "3  adesão a ata de registro de preços - Sistema de Registro de Preços, Ato sujeito a registro, Intenção de Registro de Preços   \n",
       "4                                                                 sobrepreço e superfaturamento - Faturamento, Excesso, Preço   \n",
       "\n",
       "                                                                                                                                                    4  \\\n",
       "0                                                     técnica e preço - Licitação de técnica e preço, Proposta técnica, Preço médio, Preço de mercado   \n",
       "1                                                                                        restos a pagar - Recolhimento, Recompensa, Dívida, Obrigação   \n",
       "2                                                                         aditivo a contrato - Termo aditivo, Acréscimo, Reprovabilidade, Atualização   \n",
       "3  adesão a ata de registro de preços - Sistema de Registro de Preços, Ato sujeito a registro, Intenção de Registro de Preços, Autoridade de registro   \n",
       "4                                                                               sobrepreço e superfaturamento - Faturamento, Excesso, Preço, Validade   \n",
       "\n",
       "                                                                                                                                                                                             5  \\\n",
       "0                                                                            técnica e preço - Licitação de técnica e preço, Proposta técnica, Preço médio, Preço de mercado, Técnica jurídica   \n",
       "1                                                                                                     restos a pagar - Recolhimento, Recompensa, Dívida, Obrigação, Nota de empenho de despesa   \n",
       "2                                                                                                    aditivo a contrato - Termo aditivo, Acréscimo, Reprovabilidade, Atualização, Reformulação   \n",
       "3  adesão a ata de registro de preços - Sistema de Registro de Preços, Ato sujeito a registro, Intenção de Registro de Preços, Autoridade de registro, Planilha de custos e formação de preços   \n",
       "4                                                                                                             sobrepreço e superfaturamento - Faturamento, Excesso, Preço, Validade, Licitação   \n",
       "\n",
       "                                                                                                                                                                                             6  \\\n",
       "0                                                         técnica e preço - Licitação de técnica e preço, Proposta técnica, Preço médio, Preço de mercado, Técnica jurídica, Proposta de preço   \n",
       "1                                                                                            restos a pagar - Recolhimento, Recompensa, Dívida, Obrigação, Nota de empenho de despesa, Empenho   \n",
       "2                                                                                   aditivo a contrato - Termo aditivo, Acréscimo, Reprovabilidade, Atualização, Reformulação, Reenquadramento   \n",
       "3  adesão a ata de registro de preços - Sistema de Registro de Preços, Ato sujeito a registro, Intenção de Registro de Preços, Autoridade de registro, Planilha de custos e formação de preços   \n",
       "4                                                                       sobrepreço e superfaturamento - Faturamento, Excesso, Preço, Validade, Licitação, Indústria, inovação e infraestrutura   \n",
       "\n",
       "                                                                                                                                                                                             7  \\\n",
       "0                                           técnica e preço - Licitação de técnica e preço, Proposta técnica, Preço médio, Preço de mercado, Técnica jurídica, Proposta de preço, Preço máximo   \n",
       "1                                                                                  restos a pagar - Recolhimento, Recompensa, Dívida, Obrigação, Nota de empenho de despesa, Empenho, Recibado   \n",
       "2                                                          aditivo a contrato - Termo aditivo, Acréscimo, Reprovabilidade, Atualização, Reformulação, Reenquadramento, Contrato administrativo   \n",
       "3  adesão a ata de registro de preços - Sistema de Registro de Preços, Ato sujeito a registro, Intenção de Registro de Preços, Autoridade de registro, Planilha de custos e formação de preços   \n",
       "4                                       sobrepreço e superfaturamento - Faturamento, Excesso, Preço, Validade, Licitação, Indústria, inovação e infraestrutura, Bens e serviços de informática   \n",
       "\n",
       "                                                                                                                                                                                             8  \\\n",
       "0                           técnica e preço - Licitação de técnica e preço, Proposta técnica, Preço médio, Preço de mercado, Técnica jurídica, Proposta de preço, Preço máximo, Preço estimado   \n",
       "1                                                              restos a pagar - Recolhimento, Recompensa, Dívida, Obrigação, Nota de empenho de despesa, Empenho, Recibado, Pagamento indevido   \n",
       "2                                      aditivo a contrato - Termo aditivo, Acréscimo, Reprovabilidade, Atualização, Reformulação, Reenquadramento, Contrato administrativo, Contrato de escopo   \n",
       "3  adesão a ata de registro de preços - Sistema de Registro de Preços, Ato sujeito a registro, Intenção de Registro de Preços, Autoridade de registro, Planilha de custos e formação de preços   \n",
       "4   sobrepreço e superfaturamento - Faturamento, Excesso, Preço, Validade, Licitação, Indústria, inovação e infraestrutura, Bens e serviços de informática, Paz, justiça e instituições fortes   \n",
       "\n",
       "                                                                                                                                                                                             9  \\\n",
       "0                 técnica e preço - Licitação de técnica e preço, Proposta técnica, Preço médio, Preço de mercado, Técnica jurídica, Proposta de preço, Preço máximo, Preço estimado, Proposta   \n",
       "1                                              restos a pagar - Recolhimento, Recompensa, Dívida, Obrigação, Nota de empenho de despesa, Empenho, Recibado, Pagamento indevido, Seguro de vida   \n",
       "2                                      aditivo a contrato - Termo aditivo, Acréscimo, Reprovabilidade, Atualização, Reformulação, Reenquadramento, Contrato administrativo, Contrato de escopo   \n",
       "3  adesão a ata de registro de preços - Sistema de Registro de Preços, Ato sujeito a registro, Intenção de Registro de Preços, Autoridade de registro, Planilha de custos e formação de preços   \n",
       "4   sobrepreço e superfaturamento - Faturamento, Excesso, Preço, Validade, Licitação, Indústria, inovação e infraestrutura, Bens e serviços de informática, Paz, justiça e instituições fortes   \n",
       "\n",
       "                                                                                                                                                                                            10  \n",
       "0                 técnica e preço - Licitação de técnica e preço, Proposta técnica, Preço médio, Preço de mercado, Técnica jurídica, Proposta de preço, Preço máximo, Preço estimado, Proposta  \n",
       "1                                              restos a pagar - Recolhimento, Recompensa, Dívida, Obrigação, Nota de empenho de despesa, Empenho, Recibado, Pagamento indevido, Seguro de vida  \n",
       "2                                      aditivo a contrato - Termo aditivo, Acréscimo, Reprovabilidade, Atualização, Reformulação, Reenquadramento, Contrato administrativo, Contrato de escopo  \n",
       "3  adesão a ata de registro de preços - Sistema de Registro de Preços, Ato sujeito a registro, Intenção de Registro de Preços, Autoridade de registro, Planilha de custos e formação de preços  \n",
       "4   sobrepreço e superfaturamento - Faturamento, Excesso, Preço, Validade, Licitação, Indústria, inovação e infraestrutura, Bens e serviços de informática, Paz, justiça e instituições fortes  "
      ]
     },
     "execution_count": 33,
     "metadata": {},
     "output_type": "execute_result"
    }
   ],
   "source": [
    "df_search_data.head()"
   ]
  },
  {
   "cell_type": "code",
   "execution_count": 34,
   "metadata": {},
   "outputs": [],
   "source": [
    "del df_new"
   ]
  },
  {
   "attachments": {},
   "cell_type": "markdown",
   "metadata": {},
   "source": [
    "# Create reference to index (elastic search)"
   ]
  },
  {
   "attachments": {},
   "cell_type": "markdown",
   "metadata": {},
   "source": [
    "Documentation https://docs.haystack.deepset.ai/docs\n",
    "https://haystack.deepset.ai/tutorials/09_dpr_training \n"
   ]
  },
  {
   "cell_type": "code",
   "execution_count": 35,
   "metadata": {},
   "outputs": [
    {
     "name": "stdout",
     "output_type": "stream",
     "text": [
      "Index: indir_juris_tcu\n",
      "{'health': 'yellow', 'status': 'open', 'index': 'indir_juris_tcu', 'uuid': 'RD_aAWppQH6vjNxKUdL_0w', 'pri': '1', 'rep': '1', 'docs.count': '16045', 'docs.deleted': '16045', 'store.size': '334.9mb', 'pri.store.size': '334.9mb'}\n",
      "\n",
      "Index: indir_juris_tcu_term\n",
      "{'health': 'yellow', 'status': 'open', 'index': 'indir_juris_tcu_term', 'uuid': 'S5WlNGiqSXC-79WaqfsddA', 'pri': '1', 'rep': '1', 'docs.count': '16045', 'docs.deleted': '16045', 'store.size': '337.5mb', 'pri.store.size': '337.5mb'}\n",
      "\n",
      "Index: indir_juris_tcu_synonym_related_term\n",
      "{'health': 'yellow', 'status': 'open', 'index': 'indir_juris_tcu_synonym_related_term', 'uuid': 'OJIJ0P2XQo-s4NRuaT4W_w', 'pri': '1', 'rep': '1', 'docs.count': '16045', 'docs.deleted': '3045', 'store.size': '348.4mb', 'pri.store.size': '348.4mb'}\n",
      "\n",
      "Index: indir_juris_tcu_related_term\n",
      "{'health': 'yellow', 'status': 'open', 'index': 'indir_juris_tcu_related_term', 'uuid': 'i9nzlBQrREyEC7MGT79GBQ', 'pri': '1', 'rep': '1', 'docs.count': '16045', 'docs.deleted': '3651', 'store.size': '346.3mb', 'pri.store.size': '346.3mb'}\n",
      "\n",
      "Index: indir_juris_tcu_synonym\n",
      "{'health': 'yellow', 'status': 'open', 'index': 'indir_juris_tcu_synonym', 'uuid': 'nuMe_BWiQNG3r0lHCaeGeg', 'pri': '1', 'rep': '1', 'docs.count': '16045', 'docs.deleted': '5638', 'store.size': '334.5mb', 'pri.store.size': '334.5mb'}\n",
      "\n",
      "Index: indir_juris_tcu_index\n",
      "{'health': 'yellow', 'status': 'open', 'index': 'indir_juris_tcu_index', 'uuid': 'fGjzBrQzRUWTZ6KlnbfLqw', 'pri': '1', 'rep': '1', 'docs.count': '13255', 'docs.deleted': '2755', 'store.size': '281.7mb', 'pri.store.size': '281.7mb'}\n",
      "\n"
     ]
    }
   ],
   "source": [
    "index_dict = util_elastic.return_indexes('indir', parm_print=True)"
   ]
  },
  {
   "cell_type": "code",
   "execution_count": 36,
   "metadata": {},
   "outputs": [
    {
     "data": {
      "text/plain": [
       "{'indir_juris_tcu': {'health': 'yellow',\n",
       "  'status': 'open',\n",
       "  'index': 'indir_juris_tcu',\n",
       "  'uuid': 'RD_aAWppQH6vjNxKUdL_0w',\n",
       "  'pri': '1',\n",
       "  'rep': '1',\n",
       "  'docs.count': '16045',\n",
       "  'docs.deleted': '16045',\n",
       "  'store.size': '334.9mb',\n",
       "  'pri.store.size': '334.9mb'},\n",
       " 'indir_juris_tcu_term': {'health': 'yellow',\n",
       "  'status': 'open',\n",
       "  'index': 'indir_juris_tcu_term',\n",
       "  'uuid': 'S5WlNGiqSXC-79WaqfsddA',\n",
       "  'pri': '1',\n",
       "  'rep': '1',\n",
       "  'docs.count': '16045',\n",
       "  'docs.deleted': '16045',\n",
       "  'store.size': '337.5mb',\n",
       "  'pri.store.size': '337.5mb'},\n",
       " 'indir_juris_tcu_synonym_related_term': {'health': 'yellow',\n",
       "  'status': 'open',\n",
       "  'index': 'indir_juris_tcu_synonym_related_term',\n",
       "  'uuid': 'OJIJ0P2XQo-s4NRuaT4W_w',\n",
       "  'pri': '1',\n",
       "  'rep': '1',\n",
       "  'docs.count': '16045',\n",
       "  'docs.deleted': '3045',\n",
       "  'store.size': '348.4mb',\n",
       "  'pri.store.size': '348.4mb'},\n",
       " 'indir_juris_tcu_related_term': {'health': 'yellow',\n",
       "  'status': 'open',\n",
       "  'index': 'indir_juris_tcu_related_term',\n",
       "  'uuid': 'i9nzlBQrREyEC7MGT79GBQ',\n",
       "  'pri': '1',\n",
       "  'rep': '1',\n",
       "  'docs.count': '16045',\n",
       "  'docs.deleted': '3651',\n",
       "  'store.size': '346.3mb',\n",
       "  'pri.store.size': '346.3mb'},\n",
       " 'indir_juris_tcu_synonym': {'health': 'yellow',\n",
       "  'status': 'open',\n",
       "  'index': 'indir_juris_tcu_synonym',\n",
       "  'uuid': 'nuMe_BWiQNG3r0lHCaeGeg',\n",
       "  'pri': '1',\n",
       "  'rep': '1',\n",
       "  'docs.count': '16045',\n",
       "  'docs.deleted': '5638',\n",
       "  'store.size': '334.5mb',\n",
       "  'pri.store.size': '334.5mb'},\n",
       " 'indir_juris_tcu_index': {'health': 'yellow',\n",
       "  'status': 'open',\n",
       "  'index': 'indir_juris_tcu_index',\n",
       "  'uuid': 'fGjzBrQzRUWTZ6KlnbfLqw',\n",
       "  'pri': '1',\n",
       "  'rep': '1',\n",
       "  'docs.count': '13255',\n",
       "  'docs.deleted': '2755',\n",
       "  'store.size': '281.7mb',\n",
       "  'pri.store.size': '281.7mb'}}"
      ]
     },
     "execution_count": 36,
     "metadata": {},
     "output_type": "execute_result"
    }
   ],
   "source": [
    "index_dict"
   ]
  },
  {
   "cell_type": "code",
   "execution_count": 37,
   "metadata": {},
   "outputs": [],
   "source": [
    "list_name_index = ['indir_juris_tcu', 'indir_juris_tcu_term', 'indir_juris_tcu_synonym', 'indir_juris_tcu_related_term', 'indir_juris_tcu_synonym_related_term' ]"
   ]
  },
  {
   "cell_type": "code",
   "execution_count": 38,
   "metadata": {},
   "outputs": [],
   "source": [
    "reference_data_index = {}"
   ]
  },
  {
   "cell_type": "code",
   "execution_count": 39,
   "metadata": {},
   "outputs": [
    {
     "name": "stdout",
     "output_type": "stream",
     "text": [
      "\n",
      "Qtd de documentos 16045\n",
      "\n",
      "Qtd de embeddings 16045\n",
      "\n",
      "Documento.id=5: <Document: id=5, content='SÚMULA TCU 1: Não se compreendem como vencimento, para efeito de concessão da pensão especial com fu...'>\n",
      "\n",
      "Qtd de documentos 16045\n",
      "\n",
      "Qtd de embeddings 16045\n",
      "\n",
      "Documento.id=5: <Document: id=5, content='SÚMULA TCU 1: Não se compreendem como vencimento, para efeito de concessão da pensão especial com fu...'>\n",
      "\n",
      "Qtd de documentos 16045\n",
      "\n",
      "Qtd de embeddings 16045\n",
      "\n",
      "Documento.id=5: <Document: id=5, content='SÚMULA TCU 1: Não se compreendem como vencimento, para efeito de concessão da pensão especial com fu...'>\n",
      "\n",
      "Qtd de documentos 16045\n",
      "\n",
      "Qtd de embeddings 16045\n",
      "\n",
      "Documento.id=5: <Document: id=5, content='SÚMULA TCU 1: Não se compreendem como vencimento, para efeito de concessão da pensão especial com fu...'>\n",
      "\n",
      "Qtd de documentos 16045\n",
      "\n",
      "Qtd de embeddings 16045\n",
      "\n",
      "Documento.id=5: <Document: id=5, content='SÚMULA TCU 1: Não se compreendem como vencimento, para efeito de concessão da pensão especial com fu...'>\n",
      "CPU times: user 81.8 ms, sys: 56.3 ms, total: 138 ms\n",
      "Wall time: 282 ms\n"
     ]
    }
   ],
   "source": [
    "%%time\n",
    "for index_name in list_name_index:\n",
    "    reference_data_index[index_name] = util_elastic.return_index(parm_index_name=index_name, parm_embedding_dim=1024)"
   ]
  },
  {
   "attachments": {},
   "cell_type": "markdown",
   "metadata": {},
   "source": [
    "# Pipelines creation"
   ]
  },
  {
   "cell_type": "code",
   "execution_count": 40,
   "metadata": {},
   "outputs": [],
   "source": [
    "# Test query\n",
    "# parm_query = \"trata-se de uma denúncia contra o prefeito de Manhuaçu por não haver pago os funcionários da área de limpeza urbana\"\n",
    "parm_query = \"despesa sem cobertura contratual\""
   ]
  },
  {
   "cell_type": "code",
   "execution_count": 41,
   "metadata": {},
   "outputs": [],
   "source": [
    "pipes = {}\n",
    "for index_name in list_name_index:\n",
    "    pipes[index_name] = []\n"
   ]
  },
  {
   "cell_type": "code",
   "execution_count": 44,
   "metadata": {},
   "outputs": [],
   "source": [
    "ranker_type = 'MINILM_INDIR_400' # 'MT5_3B' # 'MT5_TRAINED_LIM50_800' # 'MINILM_TRAINED_19000'"
   ]
  },
  {
   "cell_type": "code",
   "execution_count": 47,
   "metadata": {},
   "outputs": [],
   "source": [
    "limit_query_size_expanded = 100"
   ]
  },
  {
   "cell_type": "code",
   "execution_count": 43,
   "metadata": {},
   "outputs": [
    {
     "ename": "Exception",
     "evalue": "Stop here",
     "output_type": "error",
     "traceback": [
      "\u001b[0;31m---------------------------------------------------------------------------\u001b[0m",
      "\u001b[0;31mException\u001b[0m                                 Traceback (most recent call last)",
      "\u001b[0;32m/tmp/ipykernel_1201077/3405283682.py\u001b[0m in \u001b[0;36m<module>\u001b[0;34m\u001b[0m\n\u001b[0;32m----> 1\u001b[0;31m \u001b[0;32mraise\u001b[0m \u001b[0mException\u001b[0m\u001b[0;34m(\u001b[0m\u001b[0;34m\"Stop here\"\u001b[0m\u001b[0;34m)\u001b[0m\u001b[0;34m\u001b[0m\u001b[0;34m\u001b[0m\u001b[0m\n\u001b[0m",
      "\u001b[0;31mException\u001b[0m: Stop here"
     ]
    }
   ],
   "source": [
    "raise Exception(\"Stop here\")"
   ]
  },
  {
   "cell_type": "code",
   "execution_count": 45,
   "metadata": {},
   "outputs": [
    {
     "data": {
      "text/plain": [
       "'MINILM_INDIR_400'"
      ]
     },
     "execution_count": 45,
     "metadata": {},
     "output_type": "execute_result"
    }
   ],
   "source": [
    "ranker_type"
   ]
  },
  {
   "attachments": {},
   "cell_type": "markdown",
   "metadata": {},
   "source": [
    "## Only retrievers"
   ]
  },
  {
   "attachments": {},
   "cell_type": "markdown",
   "metadata": {},
   "source": [
    "### bm25"
   ]
  },
  {
   "cell_type": "code",
   "execution_count": null,
   "metadata": {},
   "outputs": [
    {
     "name": "stdout",
     "output_type": "stream",
     "text": [
      "CPU times: user 956 µs, sys: 0 ns, total: 956 µs\n",
      "Wall time: 956 µs\n"
     ]
    }
   ],
   "source": [
    "%%time\n",
    "for index_name in list_name_index:\n",
    "    pipe = {}\n",
    "    pipe['PIPE_OBJECT'] = util_pipeline.return_pipeline_bm25(reference_data_index[index_name])\n",
    "    pipe['RETRIEVER_TYPE'] = 'bm25'\n",
    "    pipe['RANKER_TYPE'] = 'none'\n",
    "    pipe['RETRIEVER_MODEL_NAME'] = ''\n",
    "    pipes[index_name].append(pipe)\n"
   ]
  },
  {
   "cell_type": "code",
   "execution_count": null,
   "metadata": {},
   "outputs": [
    {
     "name": "stdout",
     "output_type": "stream",
     "text": [
      "\n",
      "index_name indir_juris_tcu\n",
      "*** retriever:bm25 / ranker:none\n",
      "\n",
      "Index: indir_juris_tcu\n",
      "Parâmetros usados: {'Retriever': {'top_k': 100}}\n",
      "Consulta: despesa sem cobertura contratual\n",
      "Qtd documentos retornados: 100\n",
      "Seguem os nomes dos termos recuperados em ordem de score\n",
      "0 : [0.9497785738073338, '18384', 'A realização de pagamentos em data anterior à celebração do contrato caracteriza despesa sem cobertura contratual.']\n",
      "1 : [0.9172683438466377, '17993', 'O pagamento pela realização de serviços novos, não contidos no projeto originalmente licitado, utilizando-se para faturamento serviços constantes na planilha de preços original, sem a respectiva execução, é despesa sem cobertura contratual, a justificar aplicação de multa aos responsáveis envolvidos.']\n",
      "2 : [0.8962556736040861, '18905', 'A execução de serviços sem cobertura contratual, mas autorizados pela Administração, gera o dever de indenizar.']\n",
      "3 : [0.889172123906067, '18950', 'A realização de pagamentos previamente à assinatura dos respectivos instrumentos contratuais configura a realização de despesas sem cobertura contratual.']\n",
      "4 : [0.8802496867482822, '18089', 'Nos casos de reconhecimento de dívida por serviços realizados sem cobertura contratual válida deve ser verificado se o valor a ser pago está em conformidade com os praticados pelo mercado, se foi apresentado documento fiscal da contratada interessada, assim como providenciado o atesto à despesa por servidor que tenha condições de reconhecer que os serviços foram efetivamente prestados.']\n",
      "5 : [0.8730238803175955, '19451', 'A realização de despesas sem cobertura contratual é irregularidade grave, que justifica a aplicação de multa aos responsáveis, bem como julgamento pela irregularidade de suas contas']\n",
      "\n",
      "index_name indir_juris_tcu_term\n",
      "*** retriever:bm25 / ranker:none\n",
      "\n",
      "Index: indir_juris_tcu_term\n",
      "Parâmetros usados: {'Retriever': {'top_k': 100}}\n",
      "Consulta: despesa sem cobertura contratual\n",
      "Qtd documentos retornados: 100\n",
      "Seguem os nomes dos termos recuperados em ordem de score\n",
      "0 : [0.9321431305099888, '18384', 'A realização de pagamentos em data anterior à celebração do contrato caracteriza despesa sem cobertura contratual.\\nAssinatura, Contrato administrativo, Formalização do contrato, Contrato verbal.']\n",
      "1 : [0.9052066284576652, '17993', 'O pagamento pela realização de serviços novos, não contidos no projeto originalmente licitado, utilizando-se para faturamento serviços constantes na planilha de preços original, sem a respectiva execução, é despesa sem cobertura contratual, a justificar aplicação de multa aos responsáveis envolvidos.\\nMulta, Responsabilidade, Contrato verbal, Serviço novo, Contrato administrativo.']\n",
      "2 : [0.879401762108269, '18089', 'Nos casos de reconhecimento de dívida por serviços realizados sem cobertura contratual válida deve ser verificado se o valor a ser pago está em conformidade com os praticados pelo mercado, se foi apresentado documento fiscal da contratada interessada, assim como providenciado o atesto à despesa por servidor que tenha condições de reconhecer que os serviços foram efetivamente prestados.\\nReconhecimento, Contrato administrativo, Liquidação da despesa, Atestação, Pagamento, Contrato verbal, Dívida, Preço de mercado.']\n",
      "3 : [0.877860648709494, '18950', 'A realização de pagamentos previamente à assinatura dos respectivos instrumentos contratuais configura a realização de despesas sem cobertura contratual.\\nContrato verbal, Contrato administrativo, Formalização do contrato.']\n",
      "4 : [0.8759338844188369, '18905', 'A execução de serviços sem cobertura contratual, mas autorizados pela Administração, gera o dever de indenizar.\\nFormalização do contrato, Contrato administrativo, Contrato verbal, Indenização, Execução de contrato.']\n",
      "5 : [0.8627165294733645, '19451', 'A realização de despesas sem cobertura contratual é irregularidade grave, que justifica a aplicação de multa aos responsáveis, bem como julgamento pela irregularidade de suas contas\\nContas irregulares, Contrato administrativo, Contrato verbal, Responsabilidade, Multa.']\n",
      "\n",
      "index_name indir_juris_tcu_synonym\n",
      "*** retriever:bm25 / ranker:none\n",
      "\n",
      "Index: indir_juris_tcu_synonym\n",
      "Parâmetros usados: {'Retriever': {'top_k': 100}}\n",
      "Consulta: despesa sem cobertura contratual\n",
      "Qtd documentos retornados: 100\n",
      "Seguem os nomes dos termos recuperados em ordem de score\n",
      "0 : [0.9392426259481879, '18384', 'A realização de pagamentos em data anterior à celebração do contrato caracteriza despesa sem cobertura contratual.\\nAssinatura - Subscrição. Contrato administrativo - Contratos administrativos.']\n",
      "1 : [0.90195523675644, '17993', 'O pagamento pela realização de serviços novos, não contidos no projeto originalmente licitado, utilizando-se para faturamento serviços constantes na planilha de preços original, sem a respectiva execução, é despesa sem cobertura contratual, a justificar aplicação de multa aos responsáveis envolvidos.\\nMulta - Multas. Responsabilidade - Responsabilidades. Serviço novo - Serviços novos, Serviços adicionais, Serviços não contemplados, Serviço não previsto e Serviço não contemplado. Contrato administrativo - Contratos administrativos.']\n",
      "2 : [0.8833955887370857, '18950', 'A realização de pagamentos previamente à assinatura dos respectivos instrumentos contratuais configura a realização de despesas sem cobertura contratual.\\nContrato administrativo - Contratos administrativos.']\n",
      "3 : [0.8804965349055768, '18905', 'A execução de serviços sem cobertura contratual, mas autorizados pela Administração, gera o dever de indenizar.\\nContrato administrativo - Contratos administrativos. Indenização - Vantagem indenizatória e Indenizações.']\n",
      "4 : [0.8665960404029213, '18089', 'Nos casos de reconhecimento de dívida por serviços realizados sem cobertura contratual válida deve ser verificado se o valor a ser pago está em conformidade com os praticados pelo mercado, se foi apresentado documento fiscal da contratada interessada, assim como providenciado o atesto à despesa por servidor que tenha condições de reconhecer que os serviços foram efetivamente prestados.\\nReconhecimento - Práticas de reconhecimento. Contrato administrativo - Contratos administrativos. Dívida - Obrigação em dinheiro, Dívida de dinheiro, Dívida em dinheiro e Obrigação pecuniária. Preço de mercado - Valor de mercado, Preços de mercado e Preço de equilíbrio.']\n",
      "5 : [0.856698792093163, '19451', 'A realização de despesas sem cobertura contratual é irregularidade grave, que justifica a aplicação de multa aos responsáveis, bem como julgamento pela irregularidade de suas contas\\nContas irregulares - Rejeição das contas e Contas julgadas irregulares. Contrato administrativo - Contratos administrativos. Responsabilidade - Responsabilidades. Multa - Multas.']\n",
      "\n",
      "index_name indir_juris_tcu_related_term\n",
      "*** retriever:bm25 / ranker:none\n",
      "\n",
      "Index: indir_juris_tcu_related_term\n",
      "Parâmetros usados: {'Retriever': {'top_k': 100}}\n",
      "Consulta: despesa sem cobertura contratual\n",
      "Qtd documentos retornados: 100\n",
      "Seguem os nomes dos termos recuperados em ordem de score\n",
      "0 : [0.8413750624211767, '18384', 'A realização de pagamentos em data anterior à celebração do contrato caracteriza despesa sem cobertura contratual.\\nAssinatura -- Endosso, Assinatura digital, Procuração e Termo de compromisso. Contrato administrativo -- Pedido de reexame, Renovação de contrato, Objeto do contrato, Reajuste, Revisão contratual, Fato do príncipe, Contratante, Correção monetária, Rescisão contratual, Remanescente de contrato, Contratações públicas, Consórcio público, Cadastro de Empresas Inidôneas e Suspensas, Alocação de riscos, Cadastro Integrado de Condenações por Ilícitos Administrativos, Lei do Pregão Eletrônico, Reconhecimento de dívida, Lei de Licitações e Contratos, Relicitação, Contrato de gestão, Equilíbrio econômico-financeiro, Termo aditivo, Contratado, Terceirização, Subcontratação, Prestação de serviço, Facilities, Cláusula, Licitação e Contratação direta. Formalização do contrato -- Contrato. Contrato verbal -- Suprimento de fundos.']\n",
      "1 : [0.8331103269449515, '17993', 'O pagamento pela realização de serviços novos, não contidos no projeto originalmente licitado, utilizando-se para faturamento serviços constantes na planilha de preços original, sem a respectiva execução, é despesa sem cobertura contratual, a justificar aplicação de multa aos responsáveis envolvidos.\\nMulta -- Sonegação de informação, Cláusula penal, Advertência (Licitação), Declaração de inidoneidade, Recurso administrativo, Suspensão temporária e Inadimplência. Responsabilidade -- Prejuízo, Dever de lealdade, Termo de responsabilidade, Perdas e danos, Caso fortuito, Omissão, Deveres, Responsável, Accountability pública e Imputação. Contrato verbal -- Suprimento de fundos. Contrato administrativo -- Pedido de reexame, Renovação de contrato, Objeto do contrato, Reajuste, Revisão contratual, Fato do príncipe, Contratante, Correção monetária, Rescisão contratual, Remanescente de contrato, Contratações públicas, Consórcio público, Cadastro de Empresas Inidôneas e Suspensas, Alocação de riscos, Cadastro Integrado de Condenações por Ilícitos Administrativos, Lei do Pregão Eletrônico, Reconhecimento de dívida, Lei de Licitações e Contratos, Relicitação, Contrato de gestão, Equilíbrio econômico-financeiro, Termo aditivo, Contratado, Terceirização, Subcontratação, Prestação de serviço, Facilities, Cláusula, Licitação e Contratação direta.']\n",
      "2 : [0.8285164893281375, '18950', 'A realização de pagamentos previamente à assinatura dos respectivos instrumentos contratuais configura a realização de despesas sem cobertura contratual.\\nContrato verbal -- Suprimento de fundos. Contrato administrativo -- Pedido de reexame, Renovação de contrato, Objeto do contrato, Reajuste, Revisão contratual, Fato do príncipe, Contratante, Correção monetária, Rescisão contratual, Remanescente de contrato, Contratações públicas, Consórcio público, Cadastro de Empresas Inidôneas e Suspensas, Alocação de riscos, Cadastro Integrado de Condenações por Ilícitos Administrativos, Lei do Pregão Eletrônico, Reconhecimento de dívida, Lei de Licitações e Contratos, Relicitação, Contrato de gestão, Equilíbrio econômico-financeiro, Termo aditivo, Contratado, Terceirização, Subcontratação, Prestação de serviço, Facilities, Cláusula, Licitação e Contratação direta. Formalização do contrato -- Contrato.']\n",
      "3 : [0.8141400356717412, '73790', 'Os órgãos e entidades da Administração Pública Federal podem aceitar apólice de seguro - apresentada por empresa vencedora de certame licitatório para garantir o fiel cumprimento das obrigações assumidas no contrato - que contenha cláusula que exclua de cobertura prejuízos e demais penalidades causados ou relacionados a atos ou fatos violadores de normas de anticorrupção que tenham sido provocados pelo segurado ou seu representante, seja isoladamente, seja em concurso com o tomador ou seu representante. Por outro lado, devem recusar apólice de seguro que contenha cláusula que exclua de cobertura prejuízos e demais penalidades causados ou relacionados a atos ou fatos violadores de normas de anticorrupção que tenham sido provocados exclusivamente pelo tomador ou seu representante, sem o concurso do segurado ou seu representante.\\nCorrupção -- Laranja, Operação Lava Jato, Combate à corrupção, Acordo de leniência, Suborno, Concussão, Prevaricação, Empresa fictícia, Improbidade administrativa, Crime contra as finanças públicas, Anticorrupção, Lei Anticorrupção, Programa de integridade, Enriquecimento ilícito e Fraude. Seguro garantia -- Garantia contratual, Caução, Fiança bancária, Avalista, Aval, Fiança e Garantia fidejussória. Contrato administrativo -- Pedido de reexame, Renovação de contrato, Objeto do contrato, Reajuste, Revisão contratual, Fato do príncipe, Contratante, Correção monetária, Rescisão contratual, Remanescente de contrato, Contratações públicas, Consórcio público, Cadastro de Empresas Inidôneas e Suspensas, Alocação de riscos, Cadastro Integrado de Condenações por Ilícitos Administrativos, Lei do Pregão Eletrônico, Reconhecimento de dívida, Lei de Licitações e Contratos, Relicitação, Contrato de gestão, Equilíbrio econômico-financeiro, Termo aditivo, Contratado, Terceirização, Subcontratação, Prestação de serviço, Facilities, Cláusula, Licitação e Contratação direta. Garantia contratual -- Rescisão contratual, Alteração por acordo, Garantia adicional, Concessão de garantia, Seguro garantia e Garantia da proposta.']\n",
      "4 : [0.8083457255240123, '18059', 'A aquisição de bens ou serviços sem cobertura de termo contratual, bem assim sua celebração com cláusula de vigência retroativa, caracteriza a existência de contrato verbal antes de sua formalização, o que é vedado pelo art. 60, parágrafo único, Lei 8.666/1993.\\nFormalização do contrato -- Contrato. Ilegalidade -- Representação, Mandado de segurança, Manifesta ilegalidade, Eficácia da lei, Abuso de autoridade, Habeas corpus e Princípio da legalidade. Contrato verbal -- Suprimento de fundos. Contrato administrativo -- Pedido de reexame, Renovação de contrato, Objeto do contrato, Reajuste, Revisão contratual, Fato do príncipe, Contratante, Correção monetária, Rescisão contratual, Remanescente de contrato, Contratações públicas, Consórcio público, Cadastro de Empresas Inidôneas e Suspensas, Alocação de riscos, Cadastro Integrado de Condenações por Ilícitos Administrativos, Lei do Pregão Eletrônico, Reconhecimento de dívida, Lei de Licitações e Contratos, Relicitação, Contrato de gestão, Equilíbrio econômico-financeiro, Termo aditivo, Contratado, Terceirização, Subcontratação, Prestação de serviço, Facilities, Cláusula, Licitação e Contratação direta.']\n",
      "5 : [0.8083457255240123, '18060', 'A formalização de contrato em momento posterior em nada muda a ilegalidade da prévia contratação verbal, constituindo-se, com relação aos pagamentos realizados à empresa prestadora de serviços nesse período, despesas sem cobertura contratual, a serem sopesadas no julgamento das contas do responsável.\\nIlegalidade -- Representação, Mandado de segurança, Manifesta ilegalidade, Eficácia da lei, Abuso de autoridade, Habeas corpus e Princípio da legalidade. Formalização do contrato -- Contrato. Contrato administrativo -- Pedido de reexame, Renovação de contrato, Objeto do contrato, Reajuste, Revisão contratual, Fato do príncipe, Contratante, Correção monetária, Rescisão contratual, Remanescente de contrato, Contratações públicas, Consórcio público, Cadastro de Empresas Inidôneas e Suspensas, Alocação de riscos, Cadastro Integrado de Condenações por Ilícitos Administrativos, Lei do Pregão Eletrônico, Reconhecimento de dívida, Lei de Licitações e Contratos, Relicitação, Contrato de gestão, Equilíbrio econômico-financeiro, Termo aditivo, Contratado, Terceirização, Subcontratação, Prestação de serviço, Facilities, Cláusula, Licitação e Contratação direta. Contrato verbal -- Suprimento de fundos.']\n",
      "\n",
      "index_name indir_juris_tcu_synonym_related_term\n",
      "*** retriever:bm25 / ranker:none\n",
      "\n",
      "Index: indir_juris_tcu_synonym_related_term\n",
      "Parâmetros usados: {'Retriever': {'top_k': 100}}\n",
      "Consulta: despesa sem cobertura contratual\n",
      "Qtd documentos retornados: 100\n",
      "Seguem os nomes dos termos recuperados em ordem de score\n",
      "0 : [0.8458018958217431, '18384', 'A realização de pagamentos em data anterior à celebração do contrato caracteriza despesa sem cobertura contratual.\\nAssinatura - Subscrição. -- Endosso, Assinatura digital, Procuração e Termo de compromisso. Contrato administrativo - Contratos administrativos. -- Pedido de reexame, Renovação de contrato, Objeto do contrato, Reajuste, Revisão contratual, Fato do príncipe, Contratante, Correção monetária, Rescisão contratual, Remanescente de contrato, Contratações públicas, Consórcio público, Cadastro de Empresas Inidôneas e Suspensas, Alocação de riscos, Cadastro Integrado de Condenações por Ilícitos Administrativos, Lei do Pregão Eletrônico, Reconhecimento de dívida, Lei de Licitações e Contratos, Relicitação, Contrato de gestão, Equilíbrio econômico-financeiro, Termo aditivo, Contratado, Terceirização, Subcontratação, Prestação de serviço, Facilities, Cláusula, Licitação e Contratação direta. Formalização do contrato -- Contrato. Contrato verbal -- Suprimento de fundos.']\n",
      "1 : [0.8321492856090513, '18950', 'A realização de pagamentos previamente à assinatura dos respectivos instrumentos contratuais configura a realização de despesas sem cobertura contratual.\\nContrato verbal -- Suprimento de fundos. Contrato administrativo - Contratos administrativos. -- Pedido de reexame, Renovação de contrato, Objeto do contrato, Reajuste, Revisão contratual, Fato do príncipe, Contratante, Correção monetária, Rescisão contratual, Remanescente de contrato, Contratações públicas, Consórcio público, Cadastro de Empresas Inidôneas e Suspensas, Alocação de riscos, Cadastro Integrado de Condenações por Ilícitos Administrativos, Lei do Pregão Eletrônico, Reconhecimento de dívida, Lei de Licitações e Contratos, Relicitação, Contrato de gestão, Equilíbrio econômico-financeiro, Termo aditivo, Contratado, Terceirização, Subcontratação, Prestação de serviço, Facilities, Cláusula, Licitação e Contratação direta. Formalização do contrato -- Contrato.']\n",
      "2 : [0.8320695499320697, '17993', 'O pagamento pela realização de serviços novos, não contidos no projeto originalmente licitado, utilizando-se para faturamento serviços constantes na planilha de preços original, sem a respectiva execução, é despesa sem cobertura contratual, a justificar aplicação de multa aos responsáveis envolvidos.\\nMulta - Multas. -- Sonegação de informação, Cláusula penal, Advertência (Licitação), Declaração de inidoneidade, Recurso administrativo, Suspensão temporária e Inadimplência. Responsabilidade - Responsabilidades. -- Prejuízo, Dever de lealdade, Termo de responsabilidade, Perdas e danos, Caso fortuito, Omissão, Deveres, Responsável, Accountability pública e Imputação. Contrato verbal -- Suprimento de fundos. Serviço novo - Serviços novos, Serviços adicionais, Serviços não contemplados, Serviço não previsto e Serviço não contemplado. Contrato administrativo - Contratos administrativos. -- Pedido de reexame, Renovação de contrato, Objeto do contrato, Reajuste, Revisão contratual, Fato do príncipe, Contratante, Correção monetária, Rescisão contratual, Remanescente de contrato, Contratações públicas, Consórcio público, Cadastro de Empresas Inidôneas e Suspensas, Alocação de riscos, Cadastro Integrado de Condenações por Ilícitos Administrativos, Lei do Pregão Eletrônico, Reconhecimento de dívida, Lei de Licitações e Contratos, Relicitação, Contrato de gestão, Equilíbrio econômico-financeiro, Termo aditivo, Contratado, Terceirização, Subcontratação, Prestação de serviço, Facilities, Cláusula, Licitação e Contratação direta.']\n",
      "3 : [0.8217057005881437, '73790', 'Os órgãos e entidades da Administração Pública Federal podem aceitar apólice de seguro - apresentada por empresa vencedora de certame licitatório para garantir o fiel cumprimento das obrigações assumidas no contrato - que contenha cláusula que exclua de cobertura prejuízos e demais penalidades causados ou relacionados a atos ou fatos violadores de normas de anticorrupção que tenham sido provocados pelo segurado ou seu representante, seja isoladamente, seja em concurso com o tomador ou seu representante. Por outro lado, devem recusar apólice de seguro que contenha cláusula que exclua de cobertura prejuízos e demais penalidades causados ou relacionados a atos ou fatos violadores de normas de anticorrupção que tenham sido provocados exclusivamente pelo tomador ou seu representante, sem o concurso do segurado ou seu representante.\\nCorrupção - Corrupção na política. -- Laranja, Operação Lava Jato, Combate à corrupção, Acordo de leniência, Suborno, Concussão, Prevaricação, Empresa fictícia, Improbidade administrativa, Crime contra as finanças públicas, Anticorrupção, Lei Anticorrupção, Programa de integridade, Enriquecimento ilícito e Fraude. Seguro garantia - Seguro-garantia. -- Garantia contratual, Caução, Fiança bancária, Avalista, Aval, Fiança e Garantia fidejussória. Contrato administrativo - Contratos administrativos. -- Pedido de reexame, Renovação de contrato, Objeto do contrato, Reajuste, Revisão contratual, Fato do príncipe, Contratante, Correção monetária, Rescisão contratual, Remanescente de contrato, Contratações públicas, Consórcio público, Cadastro de Empresas Inidôneas e Suspensas, Alocação de riscos, Cadastro Integrado de Condenações por Ilícitos Administrativos, Lei do Pregão Eletrônico, Reconhecimento de dívida, Lei de Licitações e Contratos, Relicitação, Contrato de gestão, Equilíbrio econômico-financeiro, Termo aditivo, Contratado, Terceirização, Subcontratação, Prestação de serviço, Facilities, Cláusula, Licitação e Contratação direta. Garantia contratual - Garantia de execução contratual, Garantia contratual básica e Garantia legal. -- Rescisão contratual, Alteração por acordo, Garantia adicional, Concessão de garantia, Seguro garantia e Garantia da proposta.']\n",
      "4 : [0.813921313134301, '18059', 'A aquisição de bens ou serviços sem cobertura de termo contratual, bem assim sua celebração com cláusula de vigência retroativa, caracteriza a existência de contrato verbal antes de sua formalização, o que é vedado pelo art. 60, parágrafo único, Lei 8.666/1993.\\nFormalização do contrato -- Contrato. Ilegalidade -- Representação, Mandado de segurança, Manifesta ilegalidade, Eficácia da lei, Abuso de autoridade, Habeas corpus e Princípio da legalidade. Contrato verbal -- Suprimento de fundos. Contrato administrativo - Contratos administrativos. -- Pedido de reexame, Renovação de contrato, Objeto do contrato, Reajuste, Revisão contratual, Fato do príncipe, Contratante, Correção monetária, Rescisão contratual, Remanescente de contrato, Contratações públicas, Consórcio público, Cadastro de Empresas Inidôneas e Suspensas, Alocação de riscos, Cadastro Integrado de Condenações por Ilícitos Administrativos, Lei do Pregão Eletrônico, Reconhecimento de dívida, Lei de Licitações e Contratos, Relicitação, Contrato de gestão, Equilíbrio econômico-financeiro, Termo aditivo, Contratado, Terceirização, Subcontratação, Prestação de serviço, Facilities, Cláusula, Licitação e Contratação direta.']\n",
      "5 : [0.813921313134301, '18060', 'A formalização de contrato em momento posterior em nada muda a ilegalidade da prévia contratação verbal, constituindo-se, com relação aos pagamentos realizados à empresa prestadora de serviços nesse período, despesas sem cobertura contratual, a serem sopesadas no julgamento das contas do responsável.\\nIlegalidade -- Representação, Mandado de segurança, Manifesta ilegalidade, Eficácia da lei, Abuso de autoridade, Habeas corpus e Princípio da legalidade. Formalização do contrato -- Contrato. Contrato administrativo - Contratos administrativos. -- Pedido de reexame, Renovação de contrato, Objeto do contrato, Reajuste, Revisão contratual, Fato do príncipe, Contratante, Correção monetária, Rescisão contratual, Remanescente de contrato, Contratações públicas, Consórcio público, Cadastro de Empresas Inidôneas e Suspensas, Alocação de riscos, Cadastro Integrado de Condenações por Ilícitos Administrativos, Lei do Pregão Eletrônico, Reconhecimento de dívida, Lei de Licitações e Contratos, Relicitação, Contrato de gestão, Equilíbrio econômico-financeiro, Termo aditivo, Contratado, Terceirização, Subcontratação, Prestação de serviço, Facilities, Cláusula, Licitação e Contratação direta. Contrato verbal -- Suprimento de fundos.']\n",
      "CPU times: user 8.72 ms, sys: 7.43 ms, total: 16.2 ms\n",
      "Wall time: 223 ms\n"
     ]
    }
   ],
   "source": [
    "%%time\n",
    "for index_name in pipes:\n",
    "    print(f\"\\nindex_name {index_name}\")\n",
    "    for pipe in pipes[index_name]:\n",
    "        print(f\"*** retriever:{pipe['RETRIEVER_TYPE']} / ranker:{pipe['RANKER_TYPE']}\")\n",
    "        doctos_retornados_ranker =  pipe['PIPE_OBJECT'].run(query=parm_query, \n",
    "        params={\"Retriever\": {\"top_k\": 100}})\n",
    "        print(f'\\nIndex: {index_name}')\n",
    "        util_pipeline.detail_document_found(doctos_retornados_ranker,5)"
   ]
  },
  {
   "attachments": {},
   "cell_type": "markdown",
   "metadata": {},
   "source": [
    "## With rankers"
   ]
  },
  {
   "cell_type": "code",
   "execution_count": null,
   "metadata": {},
   "outputs": [
    {
     "data": {
      "text/plain": [
       "<module 'util.util_pipeline_v2' from '/home/borela/fontes/ind-ir/code/util/util_pipeline_v2.py'>"
      ]
     },
     "execution_count": 98,
     "metadata": {},
     "output_type": "execute_result"
    }
   ],
   "source": [
    "importlib.reload(util_pipeline)"
   ]
  },
  {
   "attachments": {},
   "cell_type": "markdown",
   "metadata": {},
   "source": [
    "### First stage = BM25"
   ]
  },
  {
   "cell_type": "code",
   "execution_count": null,
   "metadata": {},
   "outputs": [
    {
     "name": "stdout",
     "output_type": "stream",
     "text": [
      "Loading MINILM_INDIR with limit_query_size=100\n",
      "CPU times: user 4.02 s, sys: 1.35 s, total: 5.37 s\n",
      "Wall time: 4.87 s\n"
     ]
    }
   ],
   "source": [
    "%%time\n",
    "for index_name in list_name_index:\n",
    "    pipe = {}\n",
    "    pipe['PIPE_OBJECT'] = util_pipeline.return_pipeline_bm25_reranker(reference_data_index[index_name], ranker_type, \n",
    "                                parm_limit_query_size=limit_query_size_expanded)\n",
    "    pipe['RETRIEVER_TYPE'] = 'bm25'\n",
    "    pipe['RANKER_TYPE'] = ranker_type\n",
    "    pipe['RETRIEVER_MODEL_NAME'] = ''\n",
    "    pipes[index_name].append(pipe)\n"
   ]
  },
  {
   "cell_type": "code",
   "execution_count": null,
   "metadata": {},
   "outputs": [
    {
     "name": "stdout",
     "output_type": "stream",
     "text": [
      "\n",
      "index_name indir_juris_tcu\n",
      "*** retriever:bm25 / ranker:none\n",
      "\n",
      "Index: indir_juris_tcu\n",
      "Parâmetros usados: {'Retriever': {'top_k': 100}}\n",
      "Consulta: despesa sem cobertura contratual\n",
      "Qtd documentos retornados: 100\n",
      "Seguem os nomes dos termos recuperados em ordem de score\n",
      "0 : [0.9497785738073338, '18384', 'A realização de pagamentos em data anterior à celebração do contrato caracteriza despesa sem cobertura contratual.']\n",
      "1 : [0.9172683438466377, '17993', 'O pagamento pela realização de serviços novos, não contidos no projeto originalmente licitado, utilizando-se para faturamento serviços constantes na planilha de preços original, sem a respectiva execução, é despesa sem cobertura contratual, a justificar aplicação de multa aos responsáveis envolvidos.']\n",
      "2 : [0.8962556736040861, '18905', 'A execução de serviços sem cobertura contratual, mas autorizados pela Administração, gera o dever de indenizar.']\n",
      "3 : [0.889172123906067, '18950', 'A realização de pagamentos previamente à assinatura dos respectivos instrumentos contratuais configura a realização de despesas sem cobertura contratual.']\n",
      "4 : [0.8802496867482822, '18089', 'Nos casos de reconhecimento de dívida por serviços realizados sem cobertura contratual válida deve ser verificado se o valor a ser pago está em conformidade com os praticados pelo mercado, se foi apresentado documento fiscal da contratada interessada, assim como providenciado o atesto à despesa por servidor que tenha condições de reconhecer que os serviços foram efetivamente prestados.']\n",
      "5 : [0.8730238803175955, '19451', 'A realização de despesas sem cobertura contratual é irregularidade grave, que justifica a aplicação de multa aos responsáveis, bem como julgamento pela irregularidade de suas contas']\n",
      "*** retriever:bm25 / ranker:MINILM_INDIR\n",
      "\n",
      "Index: indir_juris_tcu\n",
      "Parâmetros usados: {'Retriever': {'top_k': 100}}\n",
      "Consulta: despesa sem cobertura contratual\n",
      "Qtd documentos retornados: 100\n",
      "Seguem os nomes dos termos recuperados em ordem de score\n",
      "0 : [0.7853959798812866, '19451', 'A realização de despesas sem cobertura contratual é irregularidade grave, que justifica a aplicação de multa aos responsáveis, bem como julgamento pela irregularidade de suas contas']\n",
      "1 : [0.7202020883560181, '17825', 'Pagamentos sem cobertura contratual ou prévio empenho constituem afronta à legislação ordinária, ressalvando-se, no que diz respeito à Lei 8.666/1993, os contratos verbais destinados às compras de pronto pagamento, feitas em regime de adiantamento, em valores não superiores ao estabelecido na norma (parágrafo único do art. 60) .']\n",
      "2 : [0.6971409916877747, '18384', 'A realização de pagamentos em data anterior à celebração do contrato caracteriza despesa sem cobertura contratual.']\n",
      "3 : [0.6939610242843628, '18905', 'A execução de serviços sem cobertura contratual, mas autorizados pela Administração, gera o dever de indenizar.']\n",
      "4 : [0.6920106410980225, '32631', 'O regime contratual de administração contratada não encontra amparo legal.']\n",
      "5 : [0.6762628555297852, '18950', 'A realização de pagamentos previamente à assinatura dos respectivos instrumentos contratuais configura a realização de despesas sem cobertura contratual.']\n",
      "\n",
      "index_name indir_juris_tcu_term\n",
      "*** retriever:bm25 / ranker:none\n",
      "\n",
      "Index: indir_juris_tcu_term\n",
      "Parâmetros usados: {'Retriever': {'top_k': 100}}\n",
      "Consulta: despesa sem cobertura contratual\n",
      "Qtd documentos retornados: 100\n",
      "Seguem os nomes dos termos recuperados em ordem de score\n",
      "0 : [0.9321431305099888, '18384', 'A realização de pagamentos em data anterior à celebração do contrato caracteriza despesa sem cobertura contratual.\\nAssinatura, Contrato administrativo, Formalização do contrato, Contrato verbal.']\n",
      "1 : [0.9052066284576652, '17993', 'O pagamento pela realização de serviços novos, não contidos no projeto originalmente licitado, utilizando-se para faturamento serviços constantes na planilha de preços original, sem a respectiva execução, é despesa sem cobertura contratual, a justificar aplicação de multa aos responsáveis envolvidos.\\nMulta, Responsabilidade, Contrato verbal, Serviço novo, Contrato administrativo.']\n",
      "2 : [0.879401762108269, '18089', 'Nos casos de reconhecimento de dívida por serviços realizados sem cobertura contratual válida deve ser verificado se o valor a ser pago está em conformidade com os praticados pelo mercado, se foi apresentado documento fiscal da contratada interessada, assim como providenciado o atesto à despesa por servidor que tenha condições de reconhecer que os serviços foram efetivamente prestados.\\nReconhecimento, Contrato administrativo, Liquidação da despesa, Atestação, Pagamento, Contrato verbal, Dívida, Preço de mercado.']\n",
      "3 : [0.877860648709494, '18950', 'A realização de pagamentos previamente à assinatura dos respectivos instrumentos contratuais configura a realização de despesas sem cobertura contratual.\\nContrato verbal, Contrato administrativo, Formalização do contrato.']\n",
      "4 : [0.8759338844188369, '18905', 'A execução de serviços sem cobertura contratual, mas autorizados pela Administração, gera o dever de indenizar.\\nFormalização do contrato, Contrato administrativo, Contrato verbal, Indenização, Execução de contrato.']\n",
      "5 : [0.8627165294733645, '19451', 'A realização de despesas sem cobertura contratual é irregularidade grave, que justifica a aplicação de multa aos responsáveis, bem como julgamento pela irregularidade de suas contas\\nContas irregulares, Contrato administrativo, Contrato verbal, Responsabilidade, Multa.']\n",
      "*** retriever:bm25 / ranker:MINILM_INDIR\n",
      "\n",
      "Index: indir_juris_tcu_term\n",
      "Parâmetros usados: {'Retriever': {'top_k': 100}}\n",
      "Consulta: despesa sem cobertura contratual\n",
      "Qtd documentos retornados: 100\n",
      "Seguem os nomes dos termos recuperados em ordem de score\n",
      "0 : [0.8080602288246155, '19451', 'A realização de despesas sem cobertura contratual é irregularidade grave, que justifica a aplicação de multa aos responsáveis, bem como julgamento pela irregularidade de suas contas\\nContas irregulares, Contrato administrativo, Contrato verbal, Responsabilidade, Multa.']\n",
      "1 : [0.7307995557785034, '18384', 'A realização de pagamentos em data anterior à celebração do contrato caracteriza despesa sem cobertura contratual.\\nAssinatura, Contrato administrativo, Formalização do contrato, Contrato verbal.']\n",
      "2 : [0.7133083939552307, '17825', 'Pagamentos sem cobertura contratual ou prévio empenho constituem afronta à legislação ordinária, ressalvando-se, no que diz respeito à Lei 8.666/1993, os contratos verbais destinados às compras de pronto pagamento, feitas em regime de adiantamento, em valores não superiores ao estabelecido na norma (parágrafo único do art. 60) .\\nIlegalidade, Exceção, Formalização do contrato, Contrato administrativo, Contrato verbal.']\n",
      "3 : [0.6801782250404358, '18905', 'A execução de serviços sem cobertura contratual, mas autorizados pela Administração, gera o dever de indenizar.\\nFormalização do contrato, Contrato administrativo, Contrato verbal, Indenização, Execução de contrato.']\n",
      "4 : [0.6770056486129761, '18950', 'A realização de pagamentos previamente à assinatura dos respectivos instrumentos contratuais configura a realização de despesas sem cobertura contratual.\\nContrato verbal, Contrato administrativo, Formalização do contrato.']\n",
      "5 : [0.660430371761322, '22174', 'Não havendo dano ao erário, a aquisição de bens e serviços sem cobertura contratual é considerada falha de natureza formal, resultando em ressalvas às contas dos responsáveis.\\nContas regulares com ressalva, Erro formal, Contrato verbal, Responsabilidade, Contrato administrativo.']\n",
      "\n",
      "index_name indir_juris_tcu_synonym\n",
      "*** retriever:bm25 / ranker:none\n",
      "\n",
      "Index: indir_juris_tcu_synonym\n",
      "Parâmetros usados: {'Retriever': {'top_k': 100}}\n",
      "Consulta: despesa sem cobertura contratual\n",
      "Qtd documentos retornados: 100\n",
      "Seguem os nomes dos termos recuperados em ordem de score\n",
      "0 : [0.9392426259481879, '18384', 'A realização de pagamentos em data anterior à celebração do contrato caracteriza despesa sem cobertura contratual.\\nAssinatura - Subscrição. Contrato administrativo - Contratos administrativos.']\n",
      "1 : [0.90195523675644, '17993', 'O pagamento pela realização de serviços novos, não contidos no projeto originalmente licitado, utilizando-se para faturamento serviços constantes na planilha de preços original, sem a respectiva execução, é despesa sem cobertura contratual, a justificar aplicação de multa aos responsáveis envolvidos.\\nMulta - Multas. Responsabilidade - Responsabilidades. Serviço novo - Serviços novos, Serviços adicionais, Serviços não contemplados, Serviço não previsto e Serviço não contemplado. Contrato administrativo - Contratos administrativos.']\n",
      "2 : [0.8833955887370857, '18950', 'A realização de pagamentos previamente à assinatura dos respectivos instrumentos contratuais configura a realização de despesas sem cobertura contratual.\\nContrato administrativo - Contratos administrativos.']\n",
      "3 : [0.8804965349055768, '18905', 'A execução de serviços sem cobertura contratual, mas autorizados pela Administração, gera o dever de indenizar.\\nContrato administrativo - Contratos administrativos. Indenização - Vantagem indenizatória e Indenizações.']\n",
      "4 : [0.8665960404029213, '18089', 'Nos casos de reconhecimento de dívida por serviços realizados sem cobertura contratual válida deve ser verificado se o valor a ser pago está em conformidade com os praticados pelo mercado, se foi apresentado documento fiscal da contratada interessada, assim como providenciado o atesto à despesa por servidor que tenha condições de reconhecer que os serviços foram efetivamente prestados.\\nReconhecimento - Práticas de reconhecimento. Contrato administrativo - Contratos administrativos. Dívida - Obrigação em dinheiro, Dívida de dinheiro, Dívida em dinheiro e Obrigação pecuniária. Preço de mercado - Valor de mercado, Preços de mercado e Preço de equilíbrio.']\n",
      "5 : [0.856698792093163, '19451', 'A realização de despesas sem cobertura contratual é irregularidade grave, que justifica a aplicação de multa aos responsáveis, bem como julgamento pela irregularidade de suas contas\\nContas irregulares - Rejeição das contas e Contas julgadas irregulares. Contrato administrativo - Contratos administrativos. Responsabilidade - Responsabilidades. Multa - Multas.']\n",
      "*** retriever:bm25 / ranker:MINILM_INDIR\n",
      "\n",
      "Index: indir_juris_tcu_synonym\n",
      "Parâmetros usados: {'Retriever': {'top_k': 100}}\n",
      "Consulta: despesa sem cobertura contratual\n",
      "Qtd documentos retornados: 100\n",
      "Seguem os nomes dos termos recuperados em ordem de score\n",
      "0 : [0.7882546782493591, '19451', 'A realização de despesas sem cobertura contratual é irregularidade grave, que justifica a aplicação de multa aos responsáveis, bem como julgamento pela irregularidade de suas contas\\nContas irregulares - Rejeição das contas e Contas julgadas irregulares. Contrato administrativo - Contratos administrativos. Responsabilidade - Responsabilidades. Multa - Multas.']\n",
      "1 : [0.6987608075141907, '18384', 'A realização de pagamentos em data anterior à celebração do contrato caracteriza despesa sem cobertura contratual.\\nAssinatura - Subscrição. Contrato administrativo - Contratos administrativos.']\n",
      "2 : [0.6911421418190002, '17825', 'Pagamentos sem cobertura contratual ou prévio empenho constituem afronta à legislação ordinária, ressalvando-se, no que diz respeito à Lei 8.666/1993, os contratos verbais destinados às compras de pronto pagamento, feitas em regime de adiantamento, em valores não superiores ao estabelecido na norma (parágrafo único do art. 60) .\\nExceção - Excepcionalidade. Contrato administrativo - Contratos administrativos.']\n",
      "3 : [0.6902667284011841, '31618', 'As compras devem ser planejadas por exercício, mediante processo licitatório, evitando-se compras diretas com dispensa de licitação, a partir de fracionamento da despesa.\\nContratação direta - Compras diretas, Compra direta e Contratações diretas. Dispensa de licitação - Licitação dispensada, Licitação dispensável, Compra sem licitação, Compra por dispensa, Procedimento de dispensa de licitação, Procedimento para dispensa de licitação e Dispensa por valor. Licitação - Certame licitatório, Procedimento licitatório, Procedimentos licitatórios, Licitação pública, Licitações públicas e Licitações. Valor - Valores. Fracionamento da despesa - Fragmentação de despesa, Fracionamento de despesa e Fracionamento de licitação.']\n",
      "4 : [0.6896656155586243, '35654', 'Cada ato de prorrogação equivale a uma renovação contratual, motivo pelo qual a decisão pela prorrogação de contratação direta deve ser devidamente planejada e motivada, principalmente mediante a indicação da hipótese legal ensejadora da dispensa ou da inexigibilidade de licitação, válida no momento do ato de prorrogação contratual.\\nPrincípio da motivação - Motivação da sentença e Fundamento da sentença. Prorrogação de contrato - Prorrogação contratual. Requisito - Requisitos. Inexigibilidade de licitação - Inexigibilidade e Licitação inexigível. Contrato administrativo - Contratos administrativos. Dispensa de licitação - Licitação dispensada, Licitação dispensável, Compra sem licitação, Compra por dispensa, Procedimento de dispensa de licitação, Procedimento para dispensa de licitação e Dispensa por valor.']\n",
      "5 : [0.6850815415382385, '18905', 'A execução de serviços sem cobertura contratual, mas autorizados pela Administração, gera o dever de indenizar.\\nContrato administrativo - Contratos administrativos. Indenização - Vantagem indenizatória e Indenizações.']\n",
      "\n",
      "index_name indir_juris_tcu_related_term\n",
      "*** retriever:bm25 / ranker:none\n",
      "\n",
      "Index: indir_juris_tcu_related_term\n",
      "Parâmetros usados: {'Retriever': {'top_k': 100}}\n",
      "Consulta: despesa sem cobertura contratual\n",
      "Qtd documentos retornados: 100\n",
      "Seguem os nomes dos termos recuperados em ordem de score\n",
      "0 : [0.8413750624211767, '18384', 'A realização de pagamentos em data anterior à celebração do contrato caracteriza despesa sem cobertura contratual.\\nAssinatura -- Endosso, Assinatura digital, Procuração e Termo de compromisso. Contrato administrativo -- Pedido de reexame, Renovação de contrato, Objeto do contrato, Reajuste, Revisão contratual, Fato do príncipe, Contratante, Correção monetária, Rescisão contratual, Remanescente de contrato, Contratações públicas, Consórcio público, Cadastro de Empresas Inidôneas e Suspensas, Alocação de riscos, Cadastro Integrado de Condenações por Ilícitos Administrativos, Lei do Pregão Eletrônico, Reconhecimento de dívida, Lei de Licitações e Contratos, Relicitação, Contrato de gestão, Equilíbrio econômico-financeiro, Termo aditivo, Contratado, Terceirização, Subcontratação, Prestação de serviço, Facilities, Cláusula, Licitação e Contratação direta. Formalização do contrato -- Contrato. Contrato verbal -- Suprimento de fundos.']\n",
      "1 : [0.8331103269449515, '17993', 'O pagamento pela realização de serviços novos, não contidos no projeto originalmente licitado, utilizando-se para faturamento serviços constantes na planilha de preços original, sem a respectiva execução, é despesa sem cobertura contratual, a justificar aplicação de multa aos responsáveis envolvidos.\\nMulta -- Sonegação de informação, Cláusula penal, Advertência (Licitação), Declaração de inidoneidade, Recurso administrativo, Suspensão temporária e Inadimplência. Responsabilidade -- Prejuízo, Dever de lealdade, Termo de responsabilidade, Perdas e danos, Caso fortuito, Omissão, Deveres, Responsável, Accountability pública e Imputação. Contrato verbal -- Suprimento de fundos. Contrato administrativo -- Pedido de reexame, Renovação de contrato, Objeto do contrato, Reajuste, Revisão contratual, Fato do príncipe, Contratante, Correção monetária, Rescisão contratual, Remanescente de contrato, Contratações públicas, Consórcio público, Cadastro de Empresas Inidôneas e Suspensas, Alocação de riscos, Cadastro Integrado de Condenações por Ilícitos Administrativos, Lei do Pregão Eletrônico, Reconhecimento de dívida, Lei de Licitações e Contratos, Relicitação, Contrato de gestão, Equilíbrio econômico-financeiro, Termo aditivo, Contratado, Terceirização, Subcontratação, Prestação de serviço, Facilities, Cláusula, Licitação e Contratação direta.']\n",
      "2 : [0.8285164893281375, '18950', 'A realização de pagamentos previamente à assinatura dos respectivos instrumentos contratuais configura a realização de despesas sem cobertura contratual.\\nContrato verbal -- Suprimento de fundos. Contrato administrativo -- Pedido de reexame, Renovação de contrato, Objeto do contrato, Reajuste, Revisão contratual, Fato do príncipe, Contratante, Correção monetária, Rescisão contratual, Remanescente de contrato, Contratações públicas, Consórcio público, Cadastro de Empresas Inidôneas e Suspensas, Alocação de riscos, Cadastro Integrado de Condenações por Ilícitos Administrativos, Lei do Pregão Eletrônico, Reconhecimento de dívida, Lei de Licitações e Contratos, Relicitação, Contrato de gestão, Equilíbrio econômico-financeiro, Termo aditivo, Contratado, Terceirização, Subcontratação, Prestação de serviço, Facilities, Cláusula, Licitação e Contratação direta. Formalização do contrato -- Contrato.']\n",
      "3 : [0.8141400356717412, '73790', 'Os órgãos e entidades da Administração Pública Federal podem aceitar apólice de seguro - apresentada por empresa vencedora de certame licitatório para garantir o fiel cumprimento das obrigações assumidas no contrato - que contenha cláusula que exclua de cobertura prejuízos e demais penalidades causados ou relacionados a atos ou fatos violadores de normas de anticorrupção que tenham sido provocados pelo segurado ou seu representante, seja isoladamente, seja em concurso com o tomador ou seu representante. Por outro lado, devem recusar apólice de seguro que contenha cláusula que exclua de cobertura prejuízos e demais penalidades causados ou relacionados a atos ou fatos violadores de normas de anticorrupção que tenham sido provocados exclusivamente pelo tomador ou seu representante, sem o concurso do segurado ou seu representante.\\nCorrupção -- Laranja, Operação Lava Jato, Combate à corrupção, Acordo de leniência, Suborno, Concussão, Prevaricação, Empresa fictícia, Improbidade administrativa, Crime contra as finanças públicas, Anticorrupção, Lei Anticorrupção, Programa de integridade, Enriquecimento ilícito e Fraude. Seguro garantia -- Garantia contratual, Caução, Fiança bancária, Avalista, Aval, Fiança e Garantia fidejussória. Contrato administrativo -- Pedido de reexame, Renovação de contrato, Objeto do contrato, Reajuste, Revisão contratual, Fato do príncipe, Contratante, Correção monetária, Rescisão contratual, Remanescente de contrato, Contratações públicas, Consórcio público, Cadastro de Empresas Inidôneas e Suspensas, Alocação de riscos, Cadastro Integrado de Condenações por Ilícitos Administrativos, Lei do Pregão Eletrônico, Reconhecimento de dívida, Lei de Licitações e Contratos, Relicitação, Contrato de gestão, Equilíbrio econômico-financeiro, Termo aditivo, Contratado, Terceirização, Subcontratação, Prestação de serviço, Facilities, Cláusula, Licitação e Contratação direta. Garantia contratual -- Rescisão contratual, Alteração por acordo, Garantia adicional, Concessão de garantia, Seguro garantia e Garantia da proposta.']\n",
      "4 : [0.8083457255240123, '18059', 'A aquisição de bens ou serviços sem cobertura de termo contratual, bem assim sua celebração com cláusula de vigência retroativa, caracteriza a existência de contrato verbal antes de sua formalização, o que é vedado pelo art. 60, parágrafo único, Lei 8.666/1993.\\nFormalização do contrato -- Contrato. Ilegalidade -- Representação, Mandado de segurança, Manifesta ilegalidade, Eficácia da lei, Abuso de autoridade, Habeas corpus e Princípio da legalidade. Contrato verbal -- Suprimento de fundos. Contrato administrativo -- Pedido de reexame, Renovação de contrato, Objeto do contrato, Reajuste, Revisão contratual, Fato do príncipe, Contratante, Correção monetária, Rescisão contratual, Remanescente de contrato, Contratações públicas, Consórcio público, Cadastro de Empresas Inidôneas e Suspensas, Alocação de riscos, Cadastro Integrado de Condenações por Ilícitos Administrativos, Lei do Pregão Eletrônico, Reconhecimento de dívida, Lei de Licitações e Contratos, Relicitação, Contrato de gestão, Equilíbrio econômico-financeiro, Termo aditivo, Contratado, Terceirização, Subcontratação, Prestação de serviço, Facilities, Cláusula, Licitação e Contratação direta.']\n",
      "5 : [0.8083457255240123, '18060', 'A formalização de contrato em momento posterior em nada muda a ilegalidade da prévia contratação verbal, constituindo-se, com relação aos pagamentos realizados à empresa prestadora de serviços nesse período, despesas sem cobertura contratual, a serem sopesadas no julgamento das contas do responsável.\\nIlegalidade -- Representação, Mandado de segurança, Manifesta ilegalidade, Eficácia da lei, Abuso de autoridade, Habeas corpus e Princípio da legalidade. Formalização do contrato -- Contrato. Contrato administrativo -- Pedido de reexame, Renovação de contrato, Objeto do contrato, Reajuste, Revisão contratual, Fato do príncipe, Contratante, Correção monetária, Rescisão contratual, Remanescente de contrato, Contratações públicas, Consórcio público, Cadastro de Empresas Inidôneas e Suspensas, Alocação de riscos, Cadastro Integrado de Condenações por Ilícitos Administrativos, Lei do Pregão Eletrônico, Reconhecimento de dívida, Lei de Licitações e Contratos, Relicitação, Contrato de gestão, Equilíbrio econômico-financeiro, Termo aditivo, Contratado, Terceirização, Subcontratação, Prestação de serviço, Facilities, Cláusula, Licitação e Contratação direta. Contrato verbal -- Suprimento de fundos.']\n",
      "*** retriever:bm25 / ranker:MINILM_INDIR\n",
      "\n",
      "Index: indir_juris_tcu_related_term\n",
      "Parâmetros usados: {'Retriever': {'top_k': 100}}\n",
      "Consulta: despesa sem cobertura contratual\n",
      "Qtd documentos retornados: 100\n",
      "Seguem os nomes dos termos recuperados em ordem de score\n",
      "0 : [0.6719428300857544, '19451', 'A realização de despesas sem cobertura contratual é irregularidade grave, que justifica a aplicação de multa aos responsáveis, bem como julgamento pela irregularidade de suas contas\\nContas irregulares -- Juros de mora, Título executivo, Decisão definitiva, Julgamento de contas, Prestação de contas, Tomada de contas e Cadirreg. Contrato administrativo -- Pedido de reexame, Renovação de contrato, Objeto do contrato, Reajuste, Revisão contratual, Fato do príncipe, Contratante, Correção monetária, Rescisão contratual, Remanescente de contrato, Contratações públicas, Consórcio público, Cadastro de Empresas Inidôneas e Suspensas, Alocação de riscos, Cadastro Integrado de Condenações por Ilícitos Administrativos, Lei do Pregão Eletrônico, Reconhecimento de dívida, Lei de Licitações e Contratos, Relicitação, Contrato de gestão, Equilíbrio econômico-financeiro, Termo aditivo, Contratado, Terceirização, Subcontratação, Prestação de serviço, Facilities, Cláusula, Licitação e Contratação direta. Contrato verbal -- Suprimento de fundos. Responsabilidade -- Prejuízo, Dever de lealdade, Termo de responsabilidade, Perdas e danos, Caso fortuito, Omissão, Deveres, Responsável, Accountability pública e Imputação. Multa -- Sonegação de informação, Cláusula penal, Advertência (Licitação), Declaração de inidoneidade, Recurso administrativo, Suspensão temporária e Inadimplência.']\n",
      "1 : [0.6717435717582703, '20547', 'Todos os fatores de risco entendidos como pertinentes pela contratada devem estar previstos no BDI, em item único e próprio, e não no campo para custos diretos. O BDI é o elemento orçamentário destinado a cobrir as despesas classificadas como custo indireto, ou seja, as não diretamente relacionadas à execução do objeto contratado, como a cobertura de riscos eventuais ou imprevisíveis. Risco -- Gestão de risco, Medida de contingência, Fonte de risco, Tolerância a risco, Gerenciamento de riscos, Gerenciamento de riscos corporativos, Nível de risco, Plano de contingência, Risco de segurança da informação, Risco de tecnologia da informação e Exame sumário. Contratado -- Encargos sociais, Contrato administrativo, Contratante, Medidas de compensação, Gestão contratual e Contrato. BDI -- Custo indireto, Prestação de serviço, Bonificação e Obras e serviços de engenharia. Licitação -- Sobrepreço, Superfaturamento, Margem de preferência, Equipe de apoio, Princípio da padronização, Extrato de licitação, Contrato de concessão, Garantia da proposta, Orçamento sigiloso, Contrato administrativo, Contratações públicas, Aproveitamento de licitação, Lei de Licitações e Contratos, Pregão, Preço estimado, Parcela de maior relevância, Planilha de custos e formação de preços, Robô de lances, Cadastro de Empresas Inidôneas e Suspensas, Cadastro Integrado de Condenações por Ilícitos Administrativos, Pesquisa de preço, Lei do Pregão Eletrônico, Dispensa de licitação, Portal Nacional de Contratações Públicas, Inexigibilidade de licitação, Ajuste, Relicitação, Concessão de garantia, Diálogo competitivo, Contratação indireta, Modalidade de licitação, Tipo de licitação, Vistoria, Objeto da licitação e Contratação direta. Proposta -- Pregão, Licitação de melhor técnica, Licitação de maior lance ou oferta, Licitação de menor preço, Licitação de técnica e preço, Pregão eletrônico, Pregão presencial, Empate, Licitação fracassada, Diligência, Princípio do julgamento objetivo, Coelho']\n",
      "2 : [0.6609123945236206, '18951', 'Não há respaldo legal para que o pagamento de serviços contratados pela Administração Pública fique condicionado à comprovação da regularidade fiscal ou à quitação dos encargos trabalhistas, previdenciários e comerciais relacionados à execução da avença, uma vez que o contratado deve ser remunerado pelos serviços que efetivamente executou, sob pena de caracterizar enriquecimento sem causa da Administração. Encargos trabalhistas -- Encargos sociais, Execução trabalhista, Ponto facultativo, Gratificação natalina, Férias, Repouso semanal remunerado, Salário família, Vale-transporte, Feriado, Adicional, Verba rescisória e Indenização. Contratado -- Encargos sociais, Contrato administrativo, Contratante, Medidas de compensação, Gestão contratual e Contrato. Regularidade trabalhista -- Regularidade fiscal, Habilitação de licitante, Seguridade social e FGTS. Enriquecimento ilícito -- Operação Lava Jato, Corrupção, Improbidade administrativa, Lavagem de dinheiro, Peculato, Anticorrupção, Ação de repetição do indébito, Combate à corrupção e Princípio da vedação ao enriquecimento sem causa. Execução de contrato -- Execução física, Recebimento provisório, Recebimento definitivo, Fornecimento e prestação de serviço associado, Recebimento do objeto, Execução parcial, Regime de execução contratual, Execução de obras e serviços e Fiscal. Regularidade fiscal -- Dispensa de licitação, Inexigibilidade de licitação, Habilitação de licitante, FGTS, Seguridade social e Regularidade trabalhista. Pagamento -- Quitação, Suspensão de pagamento, Ordenador de despesas, Ordenação de despesa, Cobrança, Consignação em pagamento, Cronograma de desembolso, Cronograma físico-financeiro e Execução da despesa. Contrato administrativo -- Pedido de reexame, Renovação de contrato, Objeto do contrato, Reajuste, Revisão contratual, Fato do príncipe, Contratante, Correção monetária, Rescisão contratual, Remanescente de contrato, Contratações públicas, Consórcio público']\n",
      "3 : [0.6604936122894287, '18952', 'Devem ser evitadas antecipações de pagamento sem previsão licitatória ou contratual e desprovidas de garantias ou cautelas.\\nContrato administrativo -- Pedido de reexame, Renovação de contrato, Objeto do contrato, Reajuste, Revisão contratual, Fato do príncipe, Contratante, Correção monetária, Rescisão contratual, Remanescente de contrato, Contratações públicas, Consórcio público, Cadastro de Empresas Inidôneas e Suspensas, Alocação de riscos, Cadastro Integrado de Condenações por Ilícitos Administrativos, Lei do Pregão Eletrônico, Reconhecimento de dívida, Lei de Licitações e Contratos, Relicitação, Contrato de gestão, Equilíbrio econômico-financeiro, Termo aditivo, Contratado, Terceirização, Subcontratação, Prestação de serviço, Facilities, Cláusula, Licitação e Contratação direta. Pagamento antecipado -- Pagamento indevido. Garantia contratual -- Rescisão contratual, Alteração por acordo, Garantia adicional, Concessão de garantia, Seguro garantia e Garantia da proposta.']\n",
      "4 : [0.6545817852020264, '18042', 'O pagamento por serviços não contemplados no contrato originário, sem a elaboração do necessário aditamento contratual, caracteriza contratação verbal.\\nAditivo -- Termo aditivo e Alteração contratual. Contrato administrativo -- Pedido de reexame, Renovação de contrato, Objeto do contrato, Reajuste, Revisão contratual, Fato do príncipe, Contratante, Correção monetária, Rescisão contratual, Remanescente de contrato, Contratações públicas, Consórcio público, Cadastro de Empresas Inidôneas e Suspensas, Alocação de riscos, Cadastro Integrado de Condenações por Ilícitos Administrativos, Lei do Pregão Eletrônico, Reconhecimento de dívida, Lei de Licitações e Contratos, Relicitação, Contrato de gestão, Equilíbrio econômico-financeiro, Termo aditivo, Contratado, Terceirização, Subcontratação, Prestação de serviço, Facilities, Cláusula, Licitação e Contratação direta. Contrato verbal -- Suprimento de fundos.']\n",
      "5 : [0.6523497104644775, '17091', 'Para fins de alteração contratual, o conjunto de reduções e o conjunto de acréscimos devem ser sempre calculados sobre o valor original do contrato, aplicando-se a cada um desses conjuntos, individualmente e sem nenhum tipo de compensação entre eles, os limites de alteração estabelecidos na Lei 8.666/1993.\\nCálculo -- Média aritmética, Redutor, Recálculo e Base de cálculo. Acréscimo -- Termo aditivo. Aditivo -- Termo aditivo e Alteração contratual. Base de cálculo -- Cálculo. Contrato administrativo -- Pedido de reexame, Renovação de contrato, Objeto do contrato, Reajuste, Revisão contratual, Fato do príncipe, Contratante, Correção monetária, Rescisão contratual, Remanescente de contrato, Contratações públicas, Consórcio público, Cadastro de Empresas Inidôneas e Suspensas, Alocação de riscos, Cadastro Integrado de Condenações por Ilícitos Administrativos, Lei do Pregão Eletrônico, Reconhecimento de dívida, Lei de Licitações e Contratos, Relicitação, Contrato de gestão, Equilíbrio econômico-financeiro, Termo aditivo, Contratado, Terceirização, Subcontratação, Prestação de serviço, Facilities, Cláusula, Licitação e Contratação direta.']\n",
      "\n",
      "index_name indir_juris_tcu_synonym_related_term\n",
      "*** retriever:bm25 / ranker:none\n",
      "\n",
      "Index: indir_juris_tcu_synonym_related_term\n",
      "Parâmetros usados: {'Retriever': {'top_k': 100}}\n",
      "Consulta: despesa sem cobertura contratual\n",
      "Qtd documentos retornados: 100\n",
      "Seguem os nomes dos termos recuperados em ordem de score\n",
      "0 : [0.8458018958217431, '18384', 'A realização de pagamentos em data anterior à celebração do contrato caracteriza despesa sem cobertura contratual.\\nAssinatura - Subscrição. -- Endosso, Assinatura digital, Procuração e Termo de compromisso. Contrato administrativo - Contratos administrativos. -- Pedido de reexame, Renovação de contrato, Objeto do contrato, Reajuste, Revisão contratual, Fato do príncipe, Contratante, Correção monetária, Rescisão contratual, Remanescente de contrato, Contratações públicas, Consórcio público, Cadastro de Empresas Inidôneas e Suspensas, Alocação de riscos, Cadastro Integrado de Condenações por Ilícitos Administrativos, Lei do Pregão Eletrônico, Reconhecimento de dívida, Lei de Licitações e Contratos, Relicitação, Contrato de gestão, Equilíbrio econômico-financeiro, Termo aditivo, Contratado, Terceirização, Subcontratação, Prestação de serviço, Facilities, Cláusula, Licitação e Contratação direta. Formalização do contrato -- Contrato. Contrato verbal -- Suprimento de fundos.']\n",
      "1 : [0.8321492856090513, '18950', 'A realização de pagamentos previamente à assinatura dos respectivos instrumentos contratuais configura a realização de despesas sem cobertura contratual.\\nContrato verbal -- Suprimento de fundos. Contrato administrativo - Contratos administrativos. -- Pedido de reexame, Renovação de contrato, Objeto do contrato, Reajuste, Revisão contratual, Fato do príncipe, Contratante, Correção monetária, Rescisão contratual, Remanescente de contrato, Contratações públicas, Consórcio público, Cadastro de Empresas Inidôneas e Suspensas, Alocação de riscos, Cadastro Integrado de Condenações por Ilícitos Administrativos, Lei do Pregão Eletrônico, Reconhecimento de dívida, Lei de Licitações e Contratos, Relicitação, Contrato de gestão, Equilíbrio econômico-financeiro, Termo aditivo, Contratado, Terceirização, Subcontratação, Prestação de serviço, Facilities, Cláusula, Licitação e Contratação direta. Formalização do contrato -- Contrato.']\n",
      "2 : [0.8320695499320697, '17993', 'O pagamento pela realização de serviços novos, não contidos no projeto originalmente licitado, utilizando-se para faturamento serviços constantes na planilha de preços original, sem a respectiva execução, é despesa sem cobertura contratual, a justificar aplicação de multa aos responsáveis envolvidos.\\nMulta - Multas. -- Sonegação de informação, Cláusula penal, Advertência (Licitação), Declaração de inidoneidade, Recurso administrativo, Suspensão temporária e Inadimplência. Responsabilidade - Responsabilidades. -- Prejuízo, Dever de lealdade, Termo de responsabilidade, Perdas e danos, Caso fortuito, Omissão, Deveres, Responsável, Accountability pública e Imputação. Contrato verbal -- Suprimento de fundos. Serviço novo - Serviços novos, Serviços adicionais, Serviços não contemplados, Serviço não previsto e Serviço não contemplado. Contrato administrativo - Contratos administrativos. -- Pedido de reexame, Renovação de contrato, Objeto do contrato, Reajuste, Revisão contratual, Fato do príncipe, Contratante, Correção monetária, Rescisão contratual, Remanescente de contrato, Contratações públicas, Consórcio público, Cadastro de Empresas Inidôneas e Suspensas, Alocação de riscos, Cadastro Integrado de Condenações por Ilícitos Administrativos, Lei do Pregão Eletrônico, Reconhecimento de dívida, Lei de Licitações e Contratos, Relicitação, Contrato de gestão, Equilíbrio econômico-financeiro, Termo aditivo, Contratado, Terceirização, Subcontratação, Prestação de serviço, Facilities, Cláusula, Licitação e Contratação direta.']\n",
      "3 : [0.8217057005881437, '73790', 'Os órgãos e entidades da Administração Pública Federal podem aceitar apólice de seguro - apresentada por empresa vencedora de certame licitatório para garantir o fiel cumprimento das obrigações assumidas no contrato - que contenha cláusula que exclua de cobertura prejuízos e demais penalidades causados ou relacionados a atos ou fatos violadores de normas de anticorrupção que tenham sido provocados pelo segurado ou seu representante, seja isoladamente, seja em concurso com o tomador ou seu representante. Por outro lado, devem recusar apólice de seguro que contenha cláusula que exclua de cobertura prejuízos e demais penalidades causados ou relacionados a atos ou fatos violadores de normas de anticorrupção que tenham sido provocados exclusivamente pelo tomador ou seu representante, sem o concurso do segurado ou seu representante.\\nCorrupção - Corrupção na política. -- Laranja, Operação Lava Jato, Combate à corrupção, Acordo de leniência, Suborno, Concussão, Prevaricação, Empresa fictícia, Improbidade administrativa, Crime contra as finanças públicas, Anticorrupção, Lei Anticorrupção, Programa de integridade, Enriquecimento ilícito e Fraude. Seguro garantia - Seguro-garantia. -- Garantia contratual, Caução, Fiança bancária, Avalista, Aval, Fiança e Garantia fidejussória. Contrato administrativo - Contratos administrativos. -- Pedido de reexame, Renovação de contrato, Objeto do contrato, Reajuste, Revisão contratual, Fato do príncipe, Contratante, Correção monetária, Rescisão contratual, Remanescente de contrato, Contratações públicas, Consórcio público, Cadastro de Empresas Inidôneas e Suspensas, Alocação de riscos, Cadastro Integrado de Condenações por Ilícitos Administrativos, Lei do Pregão Eletrônico, Reconhecimento de dívida, Lei de Licitações e Contratos, Relicitação, Contrato de gestão, Equilíbrio econômico-financeiro, Termo aditivo, Contratado, Terceirização, Subcontratação, Prestação de serviço, Facilities, Cláusula, Licitação e Contratação direta. Garantia contratual - Garantia de execução contratual, Garantia contratual básica e Garantia legal. -- Rescisão contratual, Alteração por acordo, Garantia adicional, Concessão de garantia, Seguro garantia e Garantia da proposta.']\n",
      "4 : [0.813921313134301, '18059', 'A aquisição de bens ou serviços sem cobertura de termo contratual, bem assim sua celebração com cláusula de vigência retroativa, caracteriza a existência de contrato verbal antes de sua formalização, o que é vedado pelo art. 60, parágrafo único, Lei 8.666/1993.\\nFormalização do contrato -- Contrato. Ilegalidade -- Representação, Mandado de segurança, Manifesta ilegalidade, Eficácia da lei, Abuso de autoridade, Habeas corpus e Princípio da legalidade. Contrato verbal -- Suprimento de fundos. Contrato administrativo - Contratos administrativos. -- Pedido de reexame, Renovação de contrato, Objeto do contrato, Reajuste, Revisão contratual, Fato do príncipe, Contratante, Correção monetária, Rescisão contratual, Remanescente de contrato, Contratações públicas, Consórcio público, Cadastro de Empresas Inidôneas e Suspensas, Alocação de riscos, Cadastro Integrado de Condenações por Ilícitos Administrativos, Lei do Pregão Eletrônico, Reconhecimento de dívida, Lei de Licitações e Contratos, Relicitação, Contrato de gestão, Equilíbrio econômico-financeiro, Termo aditivo, Contratado, Terceirização, Subcontratação, Prestação de serviço, Facilities, Cláusula, Licitação e Contratação direta.']\n",
      "5 : [0.813921313134301, '18060', 'A formalização de contrato em momento posterior em nada muda a ilegalidade da prévia contratação verbal, constituindo-se, com relação aos pagamentos realizados à empresa prestadora de serviços nesse período, despesas sem cobertura contratual, a serem sopesadas no julgamento das contas do responsável.\\nIlegalidade -- Representação, Mandado de segurança, Manifesta ilegalidade, Eficácia da lei, Abuso de autoridade, Habeas corpus e Princípio da legalidade. Formalização do contrato -- Contrato. Contrato administrativo - Contratos administrativos. -- Pedido de reexame, Renovação de contrato, Objeto do contrato, Reajuste, Revisão contratual, Fato do príncipe, Contratante, Correção monetária, Rescisão contratual, Remanescente de contrato, Contratações públicas, Consórcio público, Cadastro de Empresas Inidôneas e Suspensas, Alocação de riscos, Cadastro Integrado de Condenações por Ilícitos Administrativos, Lei do Pregão Eletrônico, Reconhecimento de dívida, Lei de Licitações e Contratos, Relicitação, Contrato de gestão, Equilíbrio econômico-financeiro, Termo aditivo, Contratado, Terceirização, Subcontratação, Prestação de serviço, Facilities, Cláusula, Licitação e Contratação direta. Contrato verbal -- Suprimento de fundos.']\n",
      "*** retriever:bm25 / ranker:MINILM_INDIR\n",
      "\n",
      "Index: indir_juris_tcu_synonym_related_term\n",
      "Parâmetros usados: {'Retriever': {'top_k': 100}}\n",
      "Consulta: despesa sem cobertura contratual\n",
      "Qtd documentos retornados: 100\n",
      "Seguem os nomes dos termos recuperados em ordem de score\n",
      "0 : [0.6701269745826721, '18952', 'Devem ser evitadas antecipações de pagamento sem previsão licitatória ou contratual e desprovidas de garantias ou cautelas.\\nContrato administrativo - Contratos administrativos. -- Pedido de reexame, Renovação de contrato, Objeto do contrato, Reajuste, Revisão contratual, Fato do príncipe, Contratante, Correção monetária, Rescisão contratual, Remanescente de contrato, Contratações públicas, Consórcio público, Cadastro de Empresas Inidôneas e Suspensas, Alocação de riscos, Cadastro Integrado de Condenações por Ilícitos Administrativos, Lei do Pregão Eletrônico, Reconhecimento de dívida, Lei de Licitações e Contratos, Relicitação, Contrato de gestão, Equilíbrio econômico-financeiro, Termo aditivo, Contratado, Terceirização, Subcontratação, Prestação de serviço, Facilities, Cláusula, Licitação e Contratação direta. Pagamento antecipado - Pagamento prévio e Liquidação antecipada. -- Pagamento indevido. Vedação - Proibição e Vedações. Garantia contratual - Garantia de execução contratual, Garantia contratual básica e Garantia legal. -- Rescisão contratual, Alteração por acordo, Garantia adicional, Concessão de garantia, Seguro garantia e Garantia da proposta.']\n",
      "1 : [0.669380784034729, '31072', 'São injustificáveis a realização de serviços e o fornecimento de bens sem cobertura contratual, bem como conferir a contratos administrativos efeitos financeiros retroativos, a não ser em casos excepcionais, tais como situações emergenciais ou quando se examina direitos a serem avaliados pela administração que demanda período de tempo significativo, como no caso de reequilíbrio econômico-financeiro de contrato.\\nContrato verbal -- Suprimento de fundos. Emergência - Estado de emergência. -- Contratação emergencial, Resgate, Estado de sítio, Estado de exceção, Auxílio emergencial, Hospital de campanha, Calamidade pública e Dispensa de licitação. Equilíbrio econômico-financeiro - Equação econômico-financeiro, Equação econômico financeira, Equilíbrio econômico financeiro, Equilíbrio financeiro, Equilíbrio econômico, Desequilíbrio econômico-financeiro, Ajuste econômico-financeiro e Desajuste econômico-financeiro. -- Contrato administrativo, Teoria da imprevisão, Revisão tarifária extraordinária, Alteração por acordo, Revisão tarifária periódica, Reposicionamento tarifário, Jogo de cronograma, Caso fortuito, Força maior, Fato do príncipe, Repactuação, Reajuste e Jogo de planilhas. Formalização do contrato -- Contrato. Contrato administrativo - Contratos administrativos. -- Pedido de reexame, Renovação de contrato, Objeto do contrato, Reajuste, Revisão contratual, Fato do príncipe, Contratante, Correção monetária, Rescisão contratual, Remanescente de contrato, Contratações públicas, Consórcio público, Cadastro de Empresas Inidôneas e Suspensas, Alocação de riscos, Cadastro Integrado de Condenações por Ilícitos Administrativos, Lei do Pregão Eletrônico, Reconhecimento de dívida, Lei de Licitações e Contratos, Relicitação, Contrato de gestão, Equilíbrio econômico-financeiro, Termo aditivo, Contratado, Terceirização, Subcontratação, Prestação de serviço, Facilities, Cláusula, Licitação e Contratação direta. Exceção - Excepcionalidade.']\n",
      "2 : [0.6667909622192383, '22948', 'Com a ausência de débito, afasta-se a responsabilidade da empresa contratada, não existindo pressuposto para a sua submissão à jurisdição do TCU.\\nResponsabilidade - Responsabilidades. -- Prejuízo, Dever de lealdade, Termo de responsabilidade, Perdas e danos, Caso fortuito, Omissão, Deveres, Responsável, Accountability pública e Imputação. Requisito - Requisitos. Contratado -- Encargos sociais, Contrato administrativo, Contratante, Medidas de compensação, Gestão contratual e Contrato. Débito - Débitos. -- Cessão de débito, Devedor, Financiamento, Dívida ativa, Crédito, Debênture, Cobrança, Corrupção passiva, Vencimento da dívida, Compromisso de dívida, Inscrição em dívida ativa, Credor privado, Credor público, Credor, Refinanciamento, Despesa sem prévio empenho, Saldo devedor, Empenho, Correção monetária, Dívida, Quitação, Banco, Ressarcimento, Recolhimento, Inadimplência e Empréstimo.']\n",
      "3 : [0.6657454967498779, '23569', 'São ilegais os atos de admissão relativos a contratações temporárias realizadas antes da publicação da homologação do resultado final do processo seletivo e com a entrada em exercício sem a assinatura dos respectivos contratos.\\nAdmissão de pessoal - Admissão, Ato de admissão de pessoal, Contratação de pessoal, Atos de admissão e Ato de admissão. -- Sisac, Negativa de registro, Provimento do cargo, Pedido de reexame, Registro tácito, Concurso público e Contratação temporária. Contratação temporária - Contratação de temporários e Admissão temporária. -- Função pública, Pessoal temporário, Cargo temporário, Admissão de pessoal e Empresa de trabalho temporário. Homologação -- Adjudicação. Assinatura - Subscrição. -- Endosso, Assinatura digital, Procuração e Termo de compromisso. Pessoal -- Sisac, Despesa com pessoal e HCAAF. Contrato -- Cláusula, Declaração de nulidade, EPC, Renovação de contrato, Contratado, Locação (Licitação), Contratante, Resilição, Comodato, Ato constitutivo, Cláusula penal, Factoring, Rescisão contratual, Formalização do contrato, Fiança bancária, Suspensão de pagamento, Obrigação, Prestação de serviço, Compra e venda, Cláusula compromissória, Nulidade do contrato, Foro de eleição, Evicção, Fiador, Princípio da autonomia privada, Avalista, Risco de renovação, Gestão contratual, Custo não renovável, Ajuste, Alteração contratual, Terceirização, Subcontratação, Caução, Termo aditivo, Vício, Contratação e Extrato de contrato. Publicação -- Publicação periódica, Publicação oficial, Agenda de compromissos públicos, Republicação e Publicação científica.']\n",
      "4 : [0.6640639305114746, '20547', 'Todos os fatores de risco entendidos como pertinentes pela contratada devem estar previstos no BDI, em item único e próprio, e não no campo para custos diretos. O BDI é o elemento orçamentário destinado a cobrir as despesas classificadas como custo indireto, ou seja, as não diretamente relacionadas à execução do objeto contratado, como a cobertura de riscos eventuais ou imprevisíveis. Risco -- Gestão de risco, Medida de contingência, Fonte de risco, Tolerância a risco, Gerenciamento de riscos, Gerenciamento de riscos corporativos, Nível de risco, Plano de contingência, Risco de segurança da informação, Risco de tecnologia da informação e Exame sumário. Contratado -- Encargos sociais, Contrato administrativo, Contratante, Medidas de compensação, Gestão contratual e Contrato. BDI - Benefícios e despesas indiretas, Bonificação de Despesas Indiretas, Taxa de bonificações indiretas, Bonificações e Despesas Indiretas (BDI), LDI, Lucros e Despesas Indiretas e Lucros e Despesas Indiretas (LDI). -- Custo indireto, Prestação de serviço, Bonificação e Obras e serviços de engenharia. Licitação - Certame licitatório, Procedimento licitatório, Procedimentos licitatórios, Licitação pública, Licitações públicas e Licitações. -- Sobrepreço, Superfaturamento, Margem de preferência, Equipe de apoio, Princípio da padronização, Extrato de licitação, Contrato de concessão, Garantia da proposta, Orçamento sigiloso, Contrato administrativo, Contratações públicas, Aproveitamento de licitação, Lei de Licitações e Contratos, Pregão, Preço estimado, Parcela de maior relevância, Planilha de custos e formação de preços, Robô de lances, Cadastro de Empresas Inidôneas e Suspensas, Cadastro Integrado de Condenações por Ilícitos Administrativos, Pesquisa de preço, Lei do Pregão Eletrônico, Dispensa de licitação, Portal Nacional de Contratações Públicas, Inexigibilidade de licitação, Ajuste, Relicitação, Concessão de garantia, Diálogo competitivo']\n",
      "5 : [0.6610417366027832, '75109', 'O risco de prejuízos para a Administração pode excepcionalmente justificar a convalidação de atos irregulares ocorridos na licitação, a exemplo de dispensa indevida de licitação, e a continuidade da execução do contrato, em razão da prevalência do interesse público. Anulação - Tornar sem efeito, Tornar nulo e Invalidação. -- Efeito ex tunc, Nulidade absoluta, Nulidade relativa, Erro essencial, Revogação, Nulidade e Efeito ex nunc. Dispensa de licitação - Licitação dispensada, Licitação dispensável, Compra sem licitação, Compra por dispensa, Procedimento de dispensa de licitação, Procedimento para dispensa de licitação e Dispensa por valor. -- Calamidade pública, Licitação deserta, Energia elétrica, Termo de contrato, Desenvolvimento institucional, Emergência, Contratação emergencial, Fracionamento da despesa, Locação de imóveis, Contratação direta, Cotação eletrônica, Remanescente de contrato, Inaplicabilidade de licitação, Inexigibilidade de licitação, Regularidade fiscal, Alienação de bens e Licitação. Prejuízo - Dano e Dano contratual. -- Reparação do dano, Perdas e danos, Crime, Crime contra o patrimônio, Indenização, Responsabilidade e Coação. Contrato administrativo - Contratos administrativos. -- Pedido de reexame, Renovação de contrato, Objeto do contrato, Reajuste, Revisão contratual, Fato do príncipe, Contratante, Correção monetária, Rescisão contratual, Remanescente de contrato, Contratações públicas, Consórcio público, Cadastro de Empresas Inidôneas e Suspensas, Alocação de riscos, Cadastro Integrado de Condenações por Ilícitos Administrativos, Lei do Pregão Eletrônico, Reconhecimento de dívida, Lei de Licitações e Contratos, Relicitação, Contrato de gestão, Equilíbrio econômico-financeiro, Termo aditivo, Contratado, Terceirização, Subcontratação, Prestação de serviço, Facilities, Cláusula, Licitação e Contratação direta. Interesse público -- Contribuição parafiscal, Matéria de ordem pública']\n",
      "CPU times: user 1.04 s, sys: 78.6 ms, total: 1.12 s\n",
      "Wall time: 1.26 s\n"
     ]
    }
   ],
   "source": [
    "\n",
    "%%time\n",
    "for index_name in pipes:\n",
    "    print(f\"\\nindex_name {index_name}\")\n",
    "    for pipe in pipes[index_name]:\n",
    "        print(f\"*** retriever:{pipe['RETRIEVER_TYPE']} / ranker:{pipe['RANKER_TYPE']}\")\n",
    "        doctos_retornados_ranker =  pipe['PIPE_OBJECT'].run(query=parm_query, \n",
    "        params={\"Retriever\": {\"top_k\": 100}})\n",
    "        print(f'\\nIndex: {index_name}')\n",
    "        util_pipeline.detail_document_found(doctos_retornados_ranker,5)\n",
    "        torch.cuda.empty_cache()"
   ]
  },
  {
   "attachments": {},
   "cell_type": "markdown",
   "metadata": {},
   "source": [
    "### First stage = Sentence Similarity"
   ]
  },
  {
   "cell_type": "code",
   "execution_count": null,
   "metadata": {},
   "outputs": [
    {
     "name": "stdout",
     "output_type": "stream",
     "text": [
      "CPU times: user 14.6 s, sys: 1.97 s, total: 16.6 s\n",
      "Wall time: 9.08 s\n"
     ]
    }
   ],
   "source": [
    "%%time\n",
    "for index_name in list_name_index:\n",
    "    pipe = {}\n",
    "    pipe['PIPE_OBJECT'] = util_pipeline.return_pipeline_sts_reranker(reference_data_index[index_name], ranker_type, \n",
    "                                parm_limit_query_size=limit_query_size_expanded)\n",
    "    pipe['RETRIEVER_TYPE'] = 'sts'\n",
    "    pipe['RANKER_TYPE'] = ranker_type\n",
    "    pipe['RETRIEVER_MODEL_NAME'] = ''\n",
    "    pipes[index_name].append(pipe)\n"
   ]
  },
  {
   "cell_type": "code",
   "execution_count": null,
   "metadata": {},
   "outputs": [
    {
     "name": "stdout",
     "output_type": "stream",
     "text": [
      "\n",
      "index_name indir_juris_tcu\n",
      "*** retriever:bm25 / ranker:none\n",
      "\n",
      "Index: indir_juris_tcu\n",
      "Parâmetros usados: {'Retriever': {'top_k': 100}}\n",
      "Consulta: despesa sem cobertura contratual\n",
      "Qtd documentos retornados: 100\n",
      "Seguem os nomes dos termos recuperados em ordem de score\n",
      "0 : [0.9497785738073338, '18384', 'A realização de pagamentos em data anterior à celebração do contrato caracteriza despesa sem cobertura contratual.']\n",
      "1 : [0.9172683438466377, '17993', 'O pagamento pela realização de serviços novos, não contidos no projeto originalmente licitado, utilizando-se para faturamento serviços constantes na planilha de preços original, sem a respectiva execução, é despesa sem cobertura contratual, a justificar aplicação de multa aos responsáveis envolvidos.']\n",
      "2 : [0.8962556736040861, '18905', 'A execução de serviços sem cobertura contratual, mas autorizados pela Administração, gera o dever de indenizar.']\n",
      "3 : [0.889172123906067, '18950', 'A realização de pagamentos previamente à assinatura dos respectivos instrumentos contratuais configura a realização de despesas sem cobertura contratual.']\n",
      "4 : [0.8802496867482822, '18089', 'Nos casos de reconhecimento de dívida por serviços realizados sem cobertura contratual válida deve ser verificado se o valor a ser pago está em conformidade com os praticados pelo mercado, se foi apresentado documento fiscal da contratada interessada, assim como providenciado o atesto à despesa por servidor que tenha condições de reconhecer que os serviços foram efetivamente prestados.']\n",
      "5 : [0.8730238803175955, '19451', 'A realização de despesas sem cobertura contratual é irregularidade grave, que justifica a aplicação de multa aos responsáveis, bem como julgamento pela irregularidade de suas contas']\n",
      "*** retriever:bm25 / ranker:MINILM_INDIR\n",
      "\n",
      "Index: indir_juris_tcu\n",
      "Parâmetros usados: {'Retriever': {'top_k': 100}}\n",
      "Consulta: despesa sem cobertura contratual\n",
      "Qtd documentos retornados: 100\n",
      "Seguem os nomes dos termos recuperados em ordem de score\n",
      "0 : [0.7853959798812866, '19451', 'A realização de despesas sem cobertura contratual é irregularidade grave, que justifica a aplicação de multa aos responsáveis, bem como julgamento pela irregularidade de suas contas']\n",
      "1 : [0.7202020883560181, '17825', 'Pagamentos sem cobertura contratual ou prévio empenho constituem afronta à legislação ordinária, ressalvando-se, no que diz respeito à Lei 8.666/1993, os contratos verbais destinados às compras de pronto pagamento, feitas em regime de adiantamento, em valores não superiores ao estabelecido na norma (parágrafo único do art. 60) .']\n",
      "2 : [0.6971409916877747, '18384', 'A realização de pagamentos em data anterior à celebração do contrato caracteriza despesa sem cobertura contratual.']\n",
      "3 : [0.6939610242843628, '18905', 'A execução de serviços sem cobertura contratual, mas autorizados pela Administração, gera o dever de indenizar.']\n",
      "4 : [0.6920106410980225, '32631', 'O regime contratual de administração contratada não encontra amparo legal.']\n",
      "5 : [0.6762628555297852, '18950', 'A realização de pagamentos previamente à assinatura dos respectivos instrumentos contratuais configura a realização de despesas sem cobertura contratual.']\n",
      "*** retriever:sts / ranker:MINILM_INDIR\n",
      "\n",
      "Index: indir_juris_tcu\n",
      "Parâmetros usados: {'Retriever': {'top_k': 100}}\n",
      "Consulta: despesa sem cobertura contratual\n",
      "Qtd documentos retornados: 100\n",
      "Seguem os nomes dos termos recuperados em ordem de score\n",
      "0 : [0.7853272557258606, '19451', 'A realização de despesas sem cobertura contratual é irregularidade grave, que justifica a aplicação de multa aos responsáveis, bem como julgamento pela irregularidade de suas contas']\n",
      "1 : [0.6972715258598328, '18384', 'A realização de pagamentos em data anterior à celebração do contrato caracteriza despesa sem cobertura contratual.']\n",
      "2 : [0.6939517259597778, '18905', 'A execução de serviços sem cobertura contratual, mas autorizados pela Administração, gera o dever de indenizar.']\n",
      "3 : [0.6762726902961731, '18950', 'A realização de pagamentos previamente à assinatura dos respectivos instrumentos contratuais configura a realização de despesas sem cobertura contratual.']\n",
      "4 : [0.6732677221298218, '22174', 'Não havendo dano ao erário, a aquisição de bens e serviços sem cobertura contratual é considerada falha de natureza formal, resultando em ressalvas às contas dos responsáveis.']\n",
      "5 : [0.6621299982070923, '17993', 'O pagamento pela realização de serviços novos, não contidos no projeto originalmente licitado, utilizando-se para faturamento serviços constantes na planilha de preços original, sem a respectiva execução, é despesa sem cobertura contratual, a justificar aplicação de multa aos responsáveis envolvidos.']\n",
      "\n",
      "index_name indir_juris_tcu_term\n",
      "*** retriever:bm25 / ranker:none\n",
      "\n",
      "Index: indir_juris_tcu_term\n",
      "Parâmetros usados: {'Retriever': {'top_k': 100}}\n",
      "Consulta: despesa sem cobertura contratual\n",
      "Qtd documentos retornados: 100\n",
      "Seguem os nomes dos termos recuperados em ordem de score\n",
      "0 : [0.9321431305099888, '18384', 'A realização de pagamentos em data anterior à celebração do contrato caracteriza despesa sem cobertura contratual.\\nAssinatura, Contrato administrativo, Formalização do contrato, Contrato verbal.']\n",
      "1 : [0.9052066284576652, '17993', 'O pagamento pela realização de serviços novos, não contidos no projeto originalmente licitado, utilizando-se para faturamento serviços constantes na planilha de preços original, sem a respectiva execução, é despesa sem cobertura contratual, a justificar aplicação de multa aos responsáveis envolvidos.\\nMulta, Responsabilidade, Contrato verbal, Serviço novo, Contrato administrativo.']\n",
      "2 : [0.879401762108269, '18089', 'Nos casos de reconhecimento de dívida por serviços realizados sem cobertura contratual válida deve ser verificado se o valor a ser pago está em conformidade com os praticados pelo mercado, se foi apresentado documento fiscal da contratada interessada, assim como providenciado o atesto à despesa por servidor que tenha condições de reconhecer que os serviços foram efetivamente prestados.\\nReconhecimento, Contrato administrativo, Liquidação da despesa, Atestação, Pagamento, Contrato verbal, Dívida, Preço de mercado.']\n",
      "3 : [0.877860648709494, '18950', 'A realização de pagamentos previamente à assinatura dos respectivos instrumentos contratuais configura a realização de despesas sem cobertura contratual.\\nContrato verbal, Contrato administrativo, Formalização do contrato.']\n",
      "4 : [0.8759338844188369, '18905', 'A execução de serviços sem cobertura contratual, mas autorizados pela Administração, gera o dever de indenizar.\\nFormalização do contrato, Contrato administrativo, Contrato verbal, Indenização, Execução de contrato.']\n",
      "5 : [0.8627165294733645, '19451', 'A realização de despesas sem cobertura contratual é irregularidade grave, que justifica a aplicação de multa aos responsáveis, bem como julgamento pela irregularidade de suas contas\\nContas irregulares, Contrato administrativo, Contrato verbal, Responsabilidade, Multa.']\n",
      "*** retriever:bm25 / ranker:MINILM_INDIR\n",
      "\n",
      "Index: indir_juris_tcu_term\n",
      "Parâmetros usados: {'Retriever': {'top_k': 100}}\n",
      "Consulta: despesa sem cobertura contratual\n",
      "Qtd documentos retornados: 100\n",
      "Seguem os nomes dos termos recuperados em ordem de score\n",
      "0 : [0.8080602288246155, '19451', 'A realização de despesas sem cobertura contratual é irregularidade grave, que justifica a aplicação de multa aos responsáveis, bem como julgamento pela irregularidade de suas contas\\nContas irregulares, Contrato administrativo, Contrato verbal, Responsabilidade, Multa.']\n",
      "1 : [0.7307995557785034, '18384', 'A realização de pagamentos em data anterior à celebração do contrato caracteriza despesa sem cobertura contratual.\\nAssinatura, Contrato administrativo, Formalização do contrato, Contrato verbal.']\n",
      "2 : [0.7133083939552307, '17825', 'Pagamentos sem cobertura contratual ou prévio empenho constituem afronta à legislação ordinária, ressalvando-se, no que diz respeito à Lei 8.666/1993, os contratos verbais destinados às compras de pronto pagamento, feitas em regime de adiantamento, em valores não superiores ao estabelecido na norma (parágrafo único do art. 60) .\\nIlegalidade, Exceção, Formalização do contrato, Contrato administrativo, Contrato verbal.']\n",
      "3 : [0.6801782250404358, '18905', 'A execução de serviços sem cobertura contratual, mas autorizados pela Administração, gera o dever de indenizar.\\nFormalização do contrato, Contrato administrativo, Contrato verbal, Indenização, Execução de contrato.']\n",
      "4 : [0.6770056486129761, '18950', 'A realização de pagamentos previamente à assinatura dos respectivos instrumentos contratuais configura a realização de despesas sem cobertura contratual.\\nContrato verbal, Contrato administrativo, Formalização do contrato.']\n",
      "5 : [0.660430371761322, '22174', 'Não havendo dano ao erário, a aquisição de bens e serviços sem cobertura contratual é considerada falha de natureza formal, resultando em ressalvas às contas dos responsáveis.\\nContas regulares com ressalva, Erro formal, Contrato verbal, Responsabilidade, Contrato administrativo.']\n",
      "*** retriever:sts / ranker:MINILM_INDIR\n",
      "\n",
      "Index: indir_juris_tcu_term\n",
      "Parâmetros usados: {'Retriever': {'top_k': 100}}\n",
      "Consulta: despesa sem cobertura contratual\n",
      "Qtd documentos retornados: 100\n",
      "Seguem os nomes dos termos recuperados em ordem de score\n",
      "0 : [0.808113694190979, '19451', 'A realização de despesas sem cobertura contratual é irregularidade grave, que justifica a aplicação de multa aos responsáveis, bem como julgamento pela irregularidade de suas contas\\nContas irregulares, Contrato administrativo, Contrato verbal, Responsabilidade, Multa.']\n",
      "1 : [0.7307783961296082, '18384', 'A realização de pagamentos em data anterior à celebração do contrato caracteriza despesa sem cobertura contratual.\\nAssinatura, Contrato administrativo, Formalização do contrato, Contrato verbal.']\n",
      "2 : [0.6770735383033752, '18950', 'A realização de pagamentos previamente à assinatura dos respectivos instrumentos contratuais configura a realização de despesas sem cobertura contratual.\\nContrato verbal, Contrato administrativo, Formalização do contrato.']\n",
      "3 : [0.6590002179145813, '17993', 'O pagamento pela realização de serviços novos, não contidos no projeto originalmente licitado, utilizando-se para faturamento serviços constantes na planilha de preços original, sem a respectiva execução, é despesa sem cobertura contratual, a justificar aplicação de multa aos responsáveis envolvidos.\\nMulta, Responsabilidade, Contrato verbal, Serviço novo, Contrato administrativo.']\n",
      "4 : [0.6517744064331055, '18089', 'Nos casos de reconhecimento de dívida por serviços realizados sem cobertura contratual válida deve ser verificado se o valor a ser pago está em conformidade com os praticados pelo mercado, se foi apresentado documento fiscal da contratada interessada, assim como providenciado o atesto à despesa por servidor que tenha condições de reconhecer que os serviços foram efetivamente prestados.\\nReconhecimento, Contrato administrativo, Liquidação da despesa, Atestação, Pagamento, Contrato verbal, Dívida, Preço de mercado.']\n",
      "5 : [0.6409463882446289, '15096', 'É irregular a realização de despesas antes de o convênio entrar em vigor.\\nResponsabilidade, Execução financeira, Vigência, Despesa, Convênio.']\n",
      "\n",
      "index_name indir_juris_tcu_synonym\n",
      "*** retriever:bm25 / ranker:none\n",
      "\n",
      "Index: indir_juris_tcu_synonym\n",
      "Parâmetros usados: {'Retriever': {'top_k': 100}}\n",
      "Consulta: despesa sem cobertura contratual\n",
      "Qtd documentos retornados: 100\n",
      "Seguem os nomes dos termos recuperados em ordem de score\n",
      "0 : [0.9392426259481879, '18384', 'A realização de pagamentos em data anterior à celebração do contrato caracteriza despesa sem cobertura contratual.\\nAssinatura - Subscrição. Contrato administrativo - Contratos administrativos.']\n",
      "1 : [0.90195523675644, '17993', 'O pagamento pela realização de serviços novos, não contidos no projeto originalmente licitado, utilizando-se para faturamento serviços constantes na planilha de preços original, sem a respectiva execução, é despesa sem cobertura contratual, a justificar aplicação de multa aos responsáveis envolvidos.\\nMulta - Multas. Responsabilidade - Responsabilidades. Serviço novo - Serviços novos, Serviços adicionais, Serviços não contemplados, Serviço não previsto e Serviço não contemplado. Contrato administrativo - Contratos administrativos.']\n",
      "2 : [0.8833955887370857, '18950', 'A realização de pagamentos previamente à assinatura dos respectivos instrumentos contratuais configura a realização de despesas sem cobertura contratual.\\nContrato administrativo - Contratos administrativos.']\n",
      "3 : [0.8804965349055768, '18905', 'A execução de serviços sem cobertura contratual, mas autorizados pela Administração, gera o dever de indenizar.\\nContrato administrativo - Contratos administrativos. Indenização - Vantagem indenizatória e Indenizações.']\n",
      "4 : [0.8665960404029213, '18089', 'Nos casos de reconhecimento de dívida por serviços realizados sem cobertura contratual válida deve ser verificado se o valor a ser pago está em conformidade com os praticados pelo mercado, se foi apresentado documento fiscal da contratada interessada, assim como providenciado o atesto à despesa por servidor que tenha condições de reconhecer que os serviços foram efetivamente prestados.\\nReconhecimento - Práticas de reconhecimento. Contrato administrativo - Contratos administrativos. Dívida - Obrigação em dinheiro, Dívida de dinheiro, Dívida em dinheiro e Obrigação pecuniária. Preço de mercado - Valor de mercado, Preços de mercado e Preço de equilíbrio.']\n",
      "5 : [0.856698792093163, '19451', 'A realização de despesas sem cobertura contratual é irregularidade grave, que justifica a aplicação de multa aos responsáveis, bem como julgamento pela irregularidade de suas contas\\nContas irregulares - Rejeição das contas e Contas julgadas irregulares. Contrato administrativo - Contratos administrativos. Responsabilidade - Responsabilidades. Multa - Multas.']\n",
      "*** retriever:bm25 / ranker:MINILM_INDIR\n",
      "\n",
      "Index: indir_juris_tcu_synonym\n",
      "Parâmetros usados: {'Retriever': {'top_k': 100}}\n",
      "Consulta: despesa sem cobertura contratual\n",
      "Qtd documentos retornados: 100\n",
      "Seguem os nomes dos termos recuperados em ordem de score\n",
      "0 : [0.7882546782493591, '19451', 'A realização de despesas sem cobertura contratual é irregularidade grave, que justifica a aplicação de multa aos responsáveis, bem como julgamento pela irregularidade de suas contas\\nContas irregulares - Rejeição das contas e Contas julgadas irregulares. Contrato administrativo - Contratos administrativos. Responsabilidade - Responsabilidades. Multa - Multas.']\n",
      "1 : [0.6987608075141907, '18384', 'A realização de pagamentos em data anterior à celebração do contrato caracteriza despesa sem cobertura contratual.\\nAssinatura - Subscrição. Contrato administrativo - Contratos administrativos.']\n",
      "2 : [0.6911421418190002, '17825', 'Pagamentos sem cobertura contratual ou prévio empenho constituem afronta à legislação ordinária, ressalvando-se, no que diz respeito à Lei 8.666/1993, os contratos verbais destinados às compras de pronto pagamento, feitas em regime de adiantamento, em valores não superiores ao estabelecido na norma (parágrafo único do art. 60) .\\nExceção - Excepcionalidade. Contrato administrativo - Contratos administrativos.']\n",
      "3 : [0.6902667284011841, '31618', 'As compras devem ser planejadas por exercício, mediante processo licitatório, evitando-se compras diretas com dispensa de licitação, a partir de fracionamento da despesa.\\nContratação direta - Compras diretas, Compra direta e Contratações diretas. Dispensa de licitação - Licitação dispensada, Licitação dispensável, Compra sem licitação, Compra por dispensa, Procedimento de dispensa de licitação, Procedimento para dispensa de licitação e Dispensa por valor. Licitação - Certame licitatório, Procedimento licitatório, Procedimentos licitatórios, Licitação pública, Licitações públicas e Licitações. Valor - Valores. Fracionamento da despesa - Fragmentação de despesa, Fracionamento de despesa e Fracionamento de licitação.']\n",
      "4 : [0.6896656155586243, '35654', 'Cada ato de prorrogação equivale a uma renovação contratual, motivo pelo qual a decisão pela prorrogação de contratação direta deve ser devidamente planejada e motivada, principalmente mediante a indicação da hipótese legal ensejadora da dispensa ou da inexigibilidade de licitação, válida no momento do ato de prorrogação contratual.\\nPrincípio da motivação - Motivação da sentença e Fundamento da sentença. Prorrogação de contrato - Prorrogação contratual. Requisito - Requisitos. Inexigibilidade de licitação - Inexigibilidade e Licitação inexigível. Contrato administrativo - Contratos administrativos. Dispensa de licitação - Licitação dispensada, Licitação dispensável, Compra sem licitação, Compra por dispensa, Procedimento de dispensa de licitação, Procedimento para dispensa de licitação e Dispensa por valor.']\n",
      "5 : [0.6850815415382385, '18905', 'A execução de serviços sem cobertura contratual, mas autorizados pela Administração, gera o dever de indenizar.\\nContrato administrativo - Contratos administrativos. Indenização - Vantagem indenizatória e Indenizações.']\n",
      "*** retriever:sts / ranker:MINILM_INDIR\n",
      "\n",
      "Index: indir_juris_tcu_synonym\n",
      "Parâmetros usados: {'Retriever': {'top_k': 100}}\n",
      "Consulta: despesa sem cobertura contratual\n",
      "Qtd documentos retornados: 100\n",
      "Seguem os nomes dos termos recuperados em ordem de score\n",
      "0 : [0.7883528470993042, '19451', 'A realização de despesas sem cobertura contratual é irregularidade grave, que justifica a aplicação de multa aos responsáveis, bem como julgamento pela irregularidade de suas contas\\nContas irregulares - Rejeição das contas e Contas julgadas irregulares. Contrato administrativo - Contratos administrativos. Responsabilidade - Responsabilidades. Multa - Multas.']\n",
      "1 : [0.6986792087554932, '18384', 'A realização de pagamentos em data anterior à celebração do contrato caracteriza despesa sem cobertura contratual.\\nAssinatura - Subscrição. Contrato administrativo - Contratos administrativos.']\n",
      "2 : [0.6929539442062378, '44889', 'A impugnação da totalidade das despesas realizadas com os recursos repassados pelo concedente afasta a obrigatoriedade de restituição da parcela referente à contrapartida do convenente, sob pena de enriquecimento sem causa da União.\\nResponsabilidade - Responsabilidades. Convênio - Convênios e congêneres, Convênio de colaboração, Convênio de cooperação, Convênio da Administração Pública, Convênio administrativo e Convênio público. Débito - Débitos. Ausência - Falta. Contrapartida - Contrapartida financeira.']\n",
      "3 : [0.6921679973602295, '49862', 'O saque em espécie da totalidade dos recursos da conta específica do convênio enseja débito, face à inexistência do correspondente e necessário nexo causal entre o desembolso e a despesa efetuada.\\nConta corrente específica - Conta específica, Conta de convênio, Conta do convênio, Conta específica do convênio, Conta específica de convênio e Conta corrente de convênio. Débito - Débitos. Convênio - Convênios e congêneres, Convênio de colaboração, Convênio de cooperação, Convênio da Administração Pública, Convênio administrativo e Convênio público. Nexo de causalidade - Relação de causalidade, Relação causal e Nexo causal.']\n",
      "4 : [0.6893569827079773, '58132', 'A impugnação da totalidade das despesas realizadas com os recursos repassados pelo concedente afasta a obrigatoriedade de restituição da parcela referente à contrapartida do convenente, sob pena de enriquecimento sem causa da União.\\nResponsabilidade - Responsabilidades. Convênio - Convênios e congêneres, Convênio de colaboração, Convênio de cooperação, Convênio da Administração Pública, Convênio administrativo e Convênio público. Débito - Débitos. Contrapartida - Contrapartida financeira.']\n",
      "5 : [0.6887829303741455, '68267', 'Quando configurada ausência de aplicação de contrapartida prevista em instrumento de convênio, cabe ao ente federado convenente o ressarcimento, vez que incorporou a seu patrimônio a vantagem financeira correspondente à parcela da contrapartida que deixou de ser aplicada.\\nDébito - Débitos. Ente da Federação - Entes federados, Ente federativo, Unidade da Federação, UF, Ente federado, Entidade federada e Entidade federativa. Convênio - Convênios e congêneres, Convênio de colaboração, Convênio de cooperação, Convênio da Administração Pública, Convênio administrativo e Convênio público. Responsabilidade - Responsabilidades. Contrapartida - Contrapartida financeira.']\n",
      "\n",
      "index_name indir_juris_tcu_related_term\n",
      "*** retriever:bm25 / ranker:none\n",
      "\n",
      "Index: indir_juris_tcu_related_term\n",
      "Parâmetros usados: {'Retriever': {'top_k': 100}}\n",
      "Consulta: despesa sem cobertura contratual\n",
      "Qtd documentos retornados: 100\n",
      "Seguem os nomes dos termos recuperados em ordem de score\n",
      "0 : [0.8413750624211767, '18384', 'A realização de pagamentos em data anterior à celebração do contrato caracteriza despesa sem cobertura contratual.\\nAssinatura -- Endosso, Assinatura digital, Procuração e Termo de compromisso. Contrato administrativo -- Pedido de reexame, Renovação de contrato, Objeto do contrato, Reajuste, Revisão contratual, Fato do príncipe, Contratante, Correção monetária, Rescisão contratual, Remanescente de contrato, Contratações públicas, Consórcio público, Cadastro de Empresas Inidôneas e Suspensas, Alocação de riscos, Cadastro Integrado de Condenações por Ilícitos Administrativos, Lei do Pregão Eletrônico, Reconhecimento de dívida, Lei de Licitações e Contratos, Relicitação, Contrato de gestão, Equilíbrio econômico-financeiro, Termo aditivo, Contratado, Terceirização, Subcontratação, Prestação de serviço, Facilities, Cláusula, Licitação e Contratação direta. Formalização do contrato -- Contrato. Contrato verbal -- Suprimento de fundos.']\n",
      "1 : [0.8331103269449515, '17993', 'O pagamento pela realização de serviços novos, não contidos no projeto originalmente licitado, utilizando-se para faturamento serviços constantes na planilha de preços original, sem a respectiva execução, é despesa sem cobertura contratual, a justificar aplicação de multa aos responsáveis envolvidos.\\nMulta -- Sonegação de informação, Cláusula penal, Advertência (Licitação), Declaração de inidoneidade, Recurso administrativo, Suspensão temporária e Inadimplência. Responsabilidade -- Prejuízo, Dever de lealdade, Termo de responsabilidade, Perdas e danos, Caso fortuito, Omissão, Deveres, Responsável, Accountability pública e Imputação. Contrato verbal -- Suprimento de fundos. Contrato administrativo -- Pedido de reexame, Renovação de contrato, Objeto do contrato, Reajuste, Revisão contratual, Fato do príncipe, Contratante, Correção monetária, Rescisão contratual, Remanescente de contrato, Contratações públicas, Consórcio público, Cadastro de Empresas Inidôneas e Suspensas, Alocação de riscos, Cadastro Integrado de Condenações por Ilícitos Administrativos, Lei do Pregão Eletrônico, Reconhecimento de dívida, Lei de Licitações e Contratos, Relicitação, Contrato de gestão, Equilíbrio econômico-financeiro, Termo aditivo, Contratado, Terceirização, Subcontratação, Prestação de serviço, Facilities, Cláusula, Licitação e Contratação direta.']\n",
      "2 : [0.8285164893281375, '18950', 'A realização de pagamentos previamente à assinatura dos respectivos instrumentos contratuais configura a realização de despesas sem cobertura contratual.\\nContrato verbal -- Suprimento de fundos. Contrato administrativo -- Pedido de reexame, Renovação de contrato, Objeto do contrato, Reajuste, Revisão contratual, Fato do príncipe, Contratante, Correção monetária, Rescisão contratual, Remanescente de contrato, Contratações públicas, Consórcio público, Cadastro de Empresas Inidôneas e Suspensas, Alocação de riscos, Cadastro Integrado de Condenações por Ilícitos Administrativos, Lei do Pregão Eletrônico, Reconhecimento de dívida, Lei de Licitações e Contratos, Relicitação, Contrato de gestão, Equilíbrio econômico-financeiro, Termo aditivo, Contratado, Terceirização, Subcontratação, Prestação de serviço, Facilities, Cláusula, Licitação e Contratação direta. Formalização do contrato -- Contrato.']\n",
      "3 : [0.8141400356717412, '73790', 'Os órgãos e entidades da Administração Pública Federal podem aceitar apólice de seguro - apresentada por empresa vencedora de certame licitatório para garantir o fiel cumprimento das obrigações assumidas no contrato - que contenha cláusula que exclua de cobertura prejuízos e demais penalidades causados ou relacionados a atos ou fatos violadores de normas de anticorrupção que tenham sido provocados pelo segurado ou seu representante, seja isoladamente, seja em concurso com o tomador ou seu representante. Por outro lado, devem recusar apólice de seguro que contenha cláusula que exclua de cobertura prejuízos e demais penalidades causados ou relacionados a atos ou fatos violadores de normas de anticorrupção que tenham sido provocados exclusivamente pelo tomador ou seu representante, sem o concurso do segurado ou seu representante.\\nCorrupção -- Laranja, Operação Lava Jato, Combate à corrupção, Acordo de leniência, Suborno, Concussão, Prevaricação, Empresa fictícia, Improbidade administrativa, Crime contra as finanças públicas, Anticorrupção, Lei Anticorrupção, Programa de integridade, Enriquecimento ilícito e Fraude. Seguro garantia -- Garantia contratual, Caução, Fiança bancária, Avalista, Aval, Fiança e Garantia fidejussória. Contrato administrativo -- Pedido de reexame, Renovação de contrato, Objeto do contrato, Reajuste, Revisão contratual, Fato do príncipe, Contratante, Correção monetária, Rescisão contratual, Remanescente de contrato, Contratações públicas, Consórcio público, Cadastro de Empresas Inidôneas e Suspensas, Alocação de riscos, Cadastro Integrado de Condenações por Ilícitos Administrativos, Lei do Pregão Eletrônico, Reconhecimento de dívida, Lei de Licitações e Contratos, Relicitação, Contrato de gestão, Equilíbrio econômico-financeiro, Termo aditivo, Contratado, Terceirização, Subcontratação, Prestação de serviço, Facilities, Cláusula, Licitação e Contratação direta. Garantia contratual -- Rescisão contratual, Alteração por acordo, Garantia adicional, Concessão de garantia, Seguro garantia e Garantia da proposta.']\n",
      "4 : [0.8083457255240123, '18059', 'A aquisição de bens ou serviços sem cobertura de termo contratual, bem assim sua celebração com cláusula de vigência retroativa, caracteriza a existência de contrato verbal antes de sua formalização, o que é vedado pelo art. 60, parágrafo único, Lei 8.666/1993.\\nFormalização do contrato -- Contrato. Ilegalidade -- Representação, Mandado de segurança, Manifesta ilegalidade, Eficácia da lei, Abuso de autoridade, Habeas corpus e Princípio da legalidade. Contrato verbal -- Suprimento de fundos. Contrato administrativo -- Pedido de reexame, Renovação de contrato, Objeto do contrato, Reajuste, Revisão contratual, Fato do príncipe, Contratante, Correção monetária, Rescisão contratual, Remanescente de contrato, Contratações públicas, Consórcio público, Cadastro de Empresas Inidôneas e Suspensas, Alocação de riscos, Cadastro Integrado de Condenações por Ilícitos Administrativos, Lei do Pregão Eletrônico, Reconhecimento de dívida, Lei de Licitações e Contratos, Relicitação, Contrato de gestão, Equilíbrio econômico-financeiro, Termo aditivo, Contratado, Terceirização, Subcontratação, Prestação de serviço, Facilities, Cláusula, Licitação e Contratação direta.']\n",
      "5 : [0.8083457255240123, '18060', 'A formalização de contrato em momento posterior em nada muda a ilegalidade da prévia contratação verbal, constituindo-se, com relação aos pagamentos realizados à empresa prestadora de serviços nesse período, despesas sem cobertura contratual, a serem sopesadas no julgamento das contas do responsável.\\nIlegalidade -- Representação, Mandado de segurança, Manifesta ilegalidade, Eficácia da lei, Abuso de autoridade, Habeas corpus e Princípio da legalidade. Formalização do contrato -- Contrato. Contrato administrativo -- Pedido de reexame, Renovação de contrato, Objeto do contrato, Reajuste, Revisão contratual, Fato do príncipe, Contratante, Correção monetária, Rescisão contratual, Remanescente de contrato, Contratações públicas, Consórcio público, Cadastro de Empresas Inidôneas e Suspensas, Alocação de riscos, Cadastro Integrado de Condenações por Ilícitos Administrativos, Lei do Pregão Eletrônico, Reconhecimento de dívida, Lei de Licitações e Contratos, Relicitação, Contrato de gestão, Equilíbrio econômico-financeiro, Termo aditivo, Contratado, Terceirização, Subcontratação, Prestação de serviço, Facilities, Cláusula, Licitação e Contratação direta. Contrato verbal -- Suprimento de fundos.']\n",
      "*** retriever:bm25 / ranker:MINILM_INDIR\n",
      "\n",
      "Index: indir_juris_tcu_related_term\n",
      "Parâmetros usados: {'Retriever': {'top_k': 100}}\n",
      "Consulta: despesa sem cobertura contratual\n",
      "Qtd documentos retornados: 100\n",
      "Seguem os nomes dos termos recuperados em ordem de score\n",
      "0 : [0.6719428300857544, '19451', 'A realização de despesas sem cobertura contratual é irregularidade grave, que justifica a aplicação de multa aos responsáveis, bem como julgamento pela irregularidade de suas contas\\nContas irregulares -- Juros de mora, Título executivo, Decisão definitiva, Julgamento de contas, Prestação de contas, Tomada de contas e Cadirreg. Contrato administrativo -- Pedido de reexame, Renovação de contrato, Objeto do contrato, Reajuste, Revisão contratual, Fato do príncipe, Contratante, Correção monetária, Rescisão contratual, Remanescente de contrato, Contratações públicas, Consórcio público, Cadastro de Empresas Inidôneas e Suspensas, Alocação de riscos, Cadastro Integrado de Condenações por Ilícitos Administrativos, Lei do Pregão Eletrônico, Reconhecimento de dívida, Lei de Licitações e Contratos, Relicitação, Contrato de gestão, Equilíbrio econômico-financeiro, Termo aditivo, Contratado, Terceirização, Subcontratação, Prestação de serviço, Facilities, Cláusula, Licitação e Contratação direta. Contrato verbal -- Suprimento de fundos. Responsabilidade -- Prejuízo, Dever de lealdade, Termo de responsabilidade, Perdas e danos, Caso fortuito, Omissão, Deveres, Responsável, Accountability pública e Imputação. Multa -- Sonegação de informação, Cláusula penal, Advertência (Licitação), Declaração de inidoneidade, Recurso administrativo, Suspensão temporária e Inadimplência.']\n",
      "1 : [0.6717435717582703, '20547', 'Todos os fatores de risco entendidos como pertinentes pela contratada devem estar previstos no BDI, em item único e próprio, e não no campo para custos diretos. O BDI é o elemento orçamentário destinado a cobrir as despesas classificadas como custo indireto, ou seja, as não diretamente relacionadas à execução do objeto contratado, como a cobertura de riscos eventuais ou imprevisíveis. Risco -- Gestão de risco, Medida de contingência, Fonte de risco, Tolerância a risco, Gerenciamento de riscos, Gerenciamento de riscos corporativos, Nível de risco, Plano de contingência, Risco de segurança da informação, Risco de tecnologia da informação e Exame sumário. Contratado -- Encargos sociais, Contrato administrativo, Contratante, Medidas de compensação, Gestão contratual e Contrato. BDI -- Custo indireto, Prestação de serviço, Bonificação e Obras e serviços de engenharia. Licitação -- Sobrepreço, Superfaturamento, Margem de preferência, Equipe de apoio, Princípio da padronização, Extrato de licitação, Contrato de concessão, Garantia da proposta, Orçamento sigiloso, Contrato administrativo, Contratações públicas, Aproveitamento de licitação, Lei de Licitações e Contratos, Pregão, Preço estimado, Parcela de maior relevância, Planilha de custos e formação de preços, Robô de lances, Cadastro de Empresas Inidôneas e Suspensas, Cadastro Integrado de Condenações por Ilícitos Administrativos, Pesquisa de preço, Lei do Pregão Eletrônico, Dispensa de licitação, Portal Nacional de Contratações Públicas, Inexigibilidade de licitação, Ajuste, Relicitação, Concessão de garantia, Diálogo competitivo, Contratação indireta, Modalidade de licitação, Tipo de licitação, Vistoria, Objeto da licitação e Contratação direta. Proposta -- Pregão, Licitação de melhor técnica, Licitação de maior lance ou oferta, Licitação de menor preço, Licitação de técnica e preço, Pregão eletrônico, Pregão presencial, Empate, Licitação fracassada, Diligência, Princípio do julgamento objetivo, Coelho']\n",
      "2 : [0.6609123945236206, '18951', 'Não há respaldo legal para que o pagamento de serviços contratados pela Administração Pública fique condicionado à comprovação da regularidade fiscal ou à quitação dos encargos trabalhistas, previdenciários e comerciais relacionados à execução da avença, uma vez que o contratado deve ser remunerado pelos serviços que efetivamente executou, sob pena de caracterizar enriquecimento sem causa da Administração. Encargos trabalhistas -- Encargos sociais, Execução trabalhista, Ponto facultativo, Gratificação natalina, Férias, Repouso semanal remunerado, Salário família, Vale-transporte, Feriado, Adicional, Verba rescisória e Indenização. Contratado -- Encargos sociais, Contrato administrativo, Contratante, Medidas de compensação, Gestão contratual e Contrato. Regularidade trabalhista -- Regularidade fiscal, Habilitação de licitante, Seguridade social e FGTS. Enriquecimento ilícito -- Operação Lava Jato, Corrupção, Improbidade administrativa, Lavagem de dinheiro, Peculato, Anticorrupção, Ação de repetição do indébito, Combate à corrupção e Princípio da vedação ao enriquecimento sem causa. Execução de contrato -- Execução física, Recebimento provisório, Recebimento definitivo, Fornecimento e prestação de serviço associado, Recebimento do objeto, Execução parcial, Regime de execução contratual, Execução de obras e serviços e Fiscal. Regularidade fiscal -- Dispensa de licitação, Inexigibilidade de licitação, Habilitação de licitante, FGTS, Seguridade social e Regularidade trabalhista. Pagamento -- Quitação, Suspensão de pagamento, Ordenador de despesas, Ordenação de despesa, Cobrança, Consignação em pagamento, Cronograma de desembolso, Cronograma físico-financeiro e Execução da despesa. Contrato administrativo -- Pedido de reexame, Renovação de contrato, Objeto do contrato, Reajuste, Revisão contratual, Fato do príncipe, Contratante, Correção monetária, Rescisão contratual, Remanescente de contrato, Contratações públicas, Consórcio público']\n",
      "3 : [0.6604936122894287, '18952', 'Devem ser evitadas antecipações de pagamento sem previsão licitatória ou contratual e desprovidas de garantias ou cautelas.\\nContrato administrativo -- Pedido de reexame, Renovação de contrato, Objeto do contrato, Reajuste, Revisão contratual, Fato do príncipe, Contratante, Correção monetária, Rescisão contratual, Remanescente de contrato, Contratações públicas, Consórcio público, Cadastro de Empresas Inidôneas e Suspensas, Alocação de riscos, Cadastro Integrado de Condenações por Ilícitos Administrativos, Lei do Pregão Eletrônico, Reconhecimento de dívida, Lei de Licitações e Contratos, Relicitação, Contrato de gestão, Equilíbrio econômico-financeiro, Termo aditivo, Contratado, Terceirização, Subcontratação, Prestação de serviço, Facilities, Cláusula, Licitação e Contratação direta. Pagamento antecipado -- Pagamento indevido. Garantia contratual -- Rescisão contratual, Alteração por acordo, Garantia adicional, Concessão de garantia, Seguro garantia e Garantia da proposta.']\n",
      "4 : [0.6545817852020264, '18042', 'O pagamento por serviços não contemplados no contrato originário, sem a elaboração do necessário aditamento contratual, caracteriza contratação verbal.\\nAditivo -- Termo aditivo e Alteração contratual. Contrato administrativo -- Pedido de reexame, Renovação de contrato, Objeto do contrato, Reajuste, Revisão contratual, Fato do príncipe, Contratante, Correção monetária, Rescisão contratual, Remanescente de contrato, Contratações públicas, Consórcio público, Cadastro de Empresas Inidôneas e Suspensas, Alocação de riscos, Cadastro Integrado de Condenações por Ilícitos Administrativos, Lei do Pregão Eletrônico, Reconhecimento de dívida, Lei de Licitações e Contratos, Relicitação, Contrato de gestão, Equilíbrio econômico-financeiro, Termo aditivo, Contratado, Terceirização, Subcontratação, Prestação de serviço, Facilities, Cláusula, Licitação e Contratação direta. Contrato verbal -- Suprimento de fundos.']\n",
      "5 : [0.6523497104644775, '17091', 'Para fins de alteração contratual, o conjunto de reduções e o conjunto de acréscimos devem ser sempre calculados sobre o valor original do contrato, aplicando-se a cada um desses conjuntos, individualmente e sem nenhum tipo de compensação entre eles, os limites de alteração estabelecidos na Lei 8.666/1993.\\nCálculo -- Média aritmética, Redutor, Recálculo e Base de cálculo. Acréscimo -- Termo aditivo. Aditivo -- Termo aditivo e Alteração contratual. Base de cálculo -- Cálculo. Contrato administrativo -- Pedido de reexame, Renovação de contrato, Objeto do contrato, Reajuste, Revisão contratual, Fato do príncipe, Contratante, Correção monetária, Rescisão contratual, Remanescente de contrato, Contratações públicas, Consórcio público, Cadastro de Empresas Inidôneas e Suspensas, Alocação de riscos, Cadastro Integrado de Condenações por Ilícitos Administrativos, Lei do Pregão Eletrônico, Reconhecimento de dívida, Lei de Licitações e Contratos, Relicitação, Contrato de gestão, Equilíbrio econômico-financeiro, Termo aditivo, Contratado, Terceirização, Subcontratação, Prestação de serviço, Facilities, Cláusula, Licitação e Contratação direta.']\n",
      "*** retriever:sts / ranker:MINILM_INDIR\n",
      "\n",
      "Index: indir_juris_tcu_related_term\n",
      "Parâmetros usados: {'Retriever': {'top_k': 100}}\n",
      "Consulta: despesa sem cobertura contratual\n",
      "Qtd documentos retornados: 100\n",
      "Seguem os nomes dos termos recuperados em ordem de score\n",
      "0 : [0.6719428300857544, '19451', 'A realização de despesas sem cobertura contratual é irregularidade grave, que justifica a aplicação de multa aos responsáveis, bem como julgamento pela irregularidade de suas contas\\nContas irregulares -- Juros de mora, Título executivo, Decisão definitiva, Julgamento de contas, Prestação de contas, Tomada de contas e Cadirreg. Contrato administrativo -- Pedido de reexame, Renovação de contrato, Objeto do contrato, Reajuste, Revisão contratual, Fato do príncipe, Contratante, Correção monetária, Rescisão contratual, Remanescente de contrato, Contratações públicas, Consórcio público, Cadastro de Empresas Inidôneas e Suspensas, Alocação de riscos, Cadastro Integrado de Condenações por Ilícitos Administrativos, Lei do Pregão Eletrônico, Reconhecimento de dívida, Lei de Licitações e Contratos, Relicitação, Contrato de gestão, Equilíbrio econômico-financeiro, Termo aditivo, Contratado, Terceirização, Subcontratação, Prestação de serviço, Facilities, Cláusula, Licitação e Contratação direta. Contrato verbal -- Suprimento de fundos. Responsabilidade -- Prejuízo, Dever de lealdade, Termo de responsabilidade, Perdas e danos, Caso fortuito, Omissão, Deveres, Responsável, Accountability pública e Imputação. Multa -- Sonegação de informação, Cláusula penal, Advertência (Licitação), Declaração de inidoneidade, Recurso administrativo, Suspensão temporária e Inadimplência.']\n",
      "1 : [0.6609123945236206, '18951', 'Não há respaldo legal para que o pagamento de serviços contratados pela Administração Pública fique condicionado à comprovação da regularidade fiscal ou à quitação dos encargos trabalhistas, previdenciários e comerciais relacionados à execução da avença, uma vez que o contratado deve ser remunerado pelos serviços que efetivamente executou, sob pena de caracterizar enriquecimento sem causa da Administração. Encargos trabalhistas -- Encargos sociais, Execução trabalhista, Ponto facultativo, Gratificação natalina, Férias, Repouso semanal remunerado, Salário família, Vale-transporte, Feriado, Adicional, Verba rescisória e Indenização. Contratado -- Encargos sociais, Contrato administrativo, Contratante, Medidas de compensação, Gestão contratual e Contrato. Regularidade trabalhista -- Regularidade fiscal, Habilitação de licitante, Seguridade social e FGTS. Enriquecimento ilícito -- Operação Lava Jato, Corrupção, Improbidade administrativa, Lavagem de dinheiro, Peculato, Anticorrupção, Ação de repetição do indébito, Combate à corrupção e Princípio da vedação ao enriquecimento sem causa. Execução de contrato -- Execução física, Recebimento provisório, Recebimento definitivo, Fornecimento e prestação de serviço associado, Recebimento do objeto, Execução parcial, Regime de execução contratual, Execução de obras e serviços e Fiscal. Regularidade fiscal -- Dispensa de licitação, Inexigibilidade de licitação, Habilitação de licitante, FGTS, Seguridade social e Regularidade trabalhista. Pagamento -- Quitação, Suspensão de pagamento, Ordenador de despesas, Ordenação de despesa, Cobrança, Consignação em pagamento, Cronograma de desembolso, Cronograma físico-financeiro e Execução da despesa. Contrato administrativo -- Pedido de reexame, Renovação de contrato, Objeto do contrato, Reajuste, Revisão contratual, Fato do príncipe, Contratante, Correção monetária, Rescisão contratual, Remanescente de contrato, Contratações públicas, Consórcio público']\n",
      "2 : [0.6604936122894287, '18952', 'Devem ser evitadas antecipações de pagamento sem previsão licitatória ou contratual e desprovidas de garantias ou cautelas.\\nContrato administrativo -- Pedido de reexame, Renovação de contrato, Objeto do contrato, Reajuste, Revisão contratual, Fato do príncipe, Contratante, Correção monetária, Rescisão contratual, Remanescente de contrato, Contratações públicas, Consórcio público, Cadastro de Empresas Inidôneas e Suspensas, Alocação de riscos, Cadastro Integrado de Condenações por Ilícitos Administrativos, Lei do Pregão Eletrônico, Reconhecimento de dívida, Lei de Licitações e Contratos, Relicitação, Contrato de gestão, Equilíbrio econômico-financeiro, Termo aditivo, Contratado, Terceirização, Subcontratação, Prestação de serviço, Facilities, Cláusula, Licitação e Contratação direta. Pagamento antecipado -- Pagamento indevido. Garantia contratual -- Rescisão contratual, Alteração por acordo, Garantia adicional, Concessão de garantia, Seguro garantia e Garantia da proposta.']\n",
      "3 : [0.6596090197563171, '34965', 'Nas hipóteses de inexistência de débito (dano quantificado) , não é possível aplicar multa, com base no disposto no art. 58, inciso I, da Lei 8.443/1992, à entidade privada contratada.\\nDébito -- Cessão de débito, Devedor, Financiamento, Dívida ativa, Crédito, Debênture, Cobrança, Corrupção passiva, Vencimento da dívida, Compromisso de dívida, Inscrição em dívida ativa, Credor privado, Credor público, Credor, Refinanciamento, Despesa sem prévio empenho, Saldo devedor, Empenho, Correção monetária, Dívida, Quitação, Banco, Ressarcimento, Recolhimento, Inadimplência e Empréstimo. Pessoa jurídica -- Pessoa física, Contrato social, Ato constitutivo, Autarquia, Sociedade de economia mista, CNPJ, Personalidade jurídica e IRPJ. Contratado -- Encargos sociais, Contrato administrativo, Contratante, Medidas de compensação, Gestão contratual e Contrato. Responsabilidade -- Prejuízo, Dever de lealdade, Termo de responsabilidade, Perdas e danos, Caso fortuito, Omissão, Deveres, Responsável, Accountability pública e Imputação. Multa -- Sonegação de informação, Cláusula penal, Advertência (Licitação), Declaração de inidoneidade, Recurso administrativo, Suspensão temporária e Inadimplência.']\n",
      "4 : [0.649125874042511, '71714', 'Eventual dificuldade em realizar procedimentos licitatórios, bem como a existência de certames fracassados ou desertos, não autorizam a realização de despesas mediante suprimento de fundos.\\nFinanças públicas -- Conta única, Administração tributária, Sistema de custos, Política financeira, Arrecadação da receita, Responsabilidade fiscal, Gestão fiscal, Novo regime fiscal, Índice de governança municipal, Gestão tributária, Reforma tributária, Sustentabilidade fiscal, Finanças públicas, Tributo, Receita pública, Despesa pública, Orçamento público, Bens públicos, Crime contra as finanças públicas e Finanças públicas. Licitação fracassada -- Proposta. Licitação deserta -- Dispensa de licitação. Suprimento de fundos -- Despesa pública, Contrato verbal, Ordenação de despesa e Ordenador de despesas.']\n",
      "5 : [0.647149920463562, '22948', 'Com a ausência de débito, afasta-se a responsabilidade da empresa contratada, não existindo pressuposto para a sua submissão à jurisdição do TCU.\\nResponsabilidade -- Prejuízo, Dever de lealdade, Termo de responsabilidade, Perdas e danos, Caso fortuito, Omissão, Deveres, Responsável, Accountability pública e Imputação. Contratado -- Encargos sociais, Contrato administrativo, Contratante, Medidas de compensação, Gestão contratual e Contrato. Débito -- Cessão de débito, Devedor, Financiamento, Dívida ativa, Crédito, Debênture, Cobrança, Corrupção passiva, Vencimento da dívida, Compromisso de dívida, Inscrição em dívida ativa, Credor privado, Credor público, Credor, Refinanciamento, Despesa sem prévio empenho, Saldo devedor, Empenho, Correção monetária, Dívida, Quitação, Banco, Ressarcimento, Recolhimento, Inadimplência e Empréstimo.']\n",
      "\n",
      "index_name indir_juris_tcu_synonym_related_term\n",
      "*** retriever:bm25 / ranker:none\n",
      "\n",
      "Index: indir_juris_tcu_synonym_related_term\n",
      "Parâmetros usados: {'Retriever': {'top_k': 100}}\n",
      "Consulta: despesa sem cobertura contratual\n",
      "Qtd documentos retornados: 100\n",
      "Seguem os nomes dos termos recuperados em ordem de score\n",
      "0 : [0.8458018958217431, '18384', 'A realização de pagamentos em data anterior à celebração do contrato caracteriza despesa sem cobertura contratual.\\nAssinatura - Subscrição. -- Endosso, Assinatura digital, Procuração e Termo de compromisso. Contrato administrativo - Contratos administrativos. -- Pedido de reexame, Renovação de contrato, Objeto do contrato, Reajuste, Revisão contratual, Fato do príncipe, Contratante, Correção monetária, Rescisão contratual, Remanescente de contrato, Contratações públicas, Consórcio público, Cadastro de Empresas Inidôneas e Suspensas, Alocação de riscos, Cadastro Integrado de Condenações por Ilícitos Administrativos, Lei do Pregão Eletrônico, Reconhecimento de dívida, Lei de Licitações e Contratos, Relicitação, Contrato de gestão, Equilíbrio econômico-financeiro, Termo aditivo, Contratado, Terceirização, Subcontratação, Prestação de serviço, Facilities, Cláusula, Licitação e Contratação direta. Formalização do contrato -- Contrato. Contrato verbal -- Suprimento de fundos.']\n",
      "1 : [0.8321492856090513, '18950', 'A realização de pagamentos previamente à assinatura dos respectivos instrumentos contratuais configura a realização de despesas sem cobertura contratual.\\nContrato verbal -- Suprimento de fundos. Contrato administrativo - Contratos administrativos. -- Pedido de reexame, Renovação de contrato, Objeto do contrato, Reajuste, Revisão contratual, Fato do príncipe, Contratante, Correção monetária, Rescisão contratual, Remanescente de contrato, Contratações públicas, Consórcio público, Cadastro de Empresas Inidôneas e Suspensas, Alocação de riscos, Cadastro Integrado de Condenações por Ilícitos Administrativos, Lei do Pregão Eletrônico, Reconhecimento de dívida, Lei de Licitações e Contratos, Relicitação, Contrato de gestão, Equilíbrio econômico-financeiro, Termo aditivo, Contratado, Terceirização, Subcontratação, Prestação de serviço, Facilities, Cláusula, Licitação e Contratação direta. Formalização do contrato -- Contrato.']\n",
      "2 : [0.8320695499320697, '17993', 'O pagamento pela realização de serviços novos, não contidos no projeto originalmente licitado, utilizando-se para faturamento serviços constantes na planilha de preços original, sem a respectiva execução, é despesa sem cobertura contratual, a justificar aplicação de multa aos responsáveis envolvidos.\\nMulta - Multas. -- Sonegação de informação, Cláusula penal, Advertência (Licitação), Declaração de inidoneidade, Recurso administrativo, Suspensão temporária e Inadimplência. Responsabilidade - Responsabilidades. -- Prejuízo, Dever de lealdade, Termo de responsabilidade, Perdas e danos, Caso fortuito, Omissão, Deveres, Responsável, Accountability pública e Imputação. Contrato verbal -- Suprimento de fundos. Serviço novo - Serviços novos, Serviços adicionais, Serviços não contemplados, Serviço não previsto e Serviço não contemplado. Contrato administrativo - Contratos administrativos. -- Pedido de reexame, Renovação de contrato, Objeto do contrato, Reajuste, Revisão contratual, Fato do príncipe, Contratante, Correção monetária, Rescisão contratual, Remanescente de contrato, Contratações públicas, Consórcio público, Cadastro de Empresas Inidôneas e Suspensas, Alocação de riscos, Cadastro Integrado de Condenações por Ilícitos Administrativos, Lei do Pregão Eletrônico, Reconhecimento de dívida, Lei de Licitações e Contratos, Relicitação, Contrato de gestão, Equilíbrio econômico-financeiro, Termo aditivo, Contratado, Terceirização, Subcontratação, Prestação de serviço, Facilities, Cláusula, Licitação e Contratação direta.']\n",
      "3 : [0.8217057005881437, '73790', 'Os órgãos e entidades da Administração Pública Federal podem aceitar apólice de seguro - apresentada por empresa vencedora de certame licitatório para garantir o fiel cumprimento das obrigações assumidas no contrato - que contenha cláusula que exclua de cobertura prejuízos e demais penalidades causados ou relacionados a atos ou fatos violadores de normas de anticorrupção que tenham sido provocados pelo segurado ou seu representante, seja isoladamente, seja em concurso com o tomador ou seu representante. Por outro lado, devem recusar apólice de seguro que contenha cláusula que exclua de cobertura prejuízos e demais penalidades causados ou relacionados a atos ou fatos violadores de normas de anticorrupção que tenham sido provocados exclusivamente pelo tomador ou seu representante, sem o concurso do segurado ou seu representante.\\nCorrupção - Corrupção na política. -- Laranja, Operação Lava Jato, Combate à corrupção, Acordo de leniência, Suborno, Concussão, Prevaricação, Empresa fictícia, Improbidade administrativa, Crime contra as finanças públicas, Anticorrupção, Lei Anticorrupção, Programa de integridade, Enriquecimento ilícito e Fraude. Seguro garantia - Seguro-garantia. -- Garantia contratual, Caução, Fiança bancária, Avalista, Aval, Fiança e Garantia fidejussória. Contrato administrativo - Contratos administrativos. -- Pedido de reexame, Renovação de contrato, Objeto do contrato, Reajuste, Revisão contratual, Fato do príncipe, Contratante, Correção monetária, Rescisão contratual, Remanescente de contrato, Contratações públicas, Consórcio público, Cadastro de Empresas Inidôneas e Suspensas, Alocação de riscos, Cadastro Integrado de Condenações por Ilícitos Administrativos, Lei do Pregão Eletrônico, Reconhecimento de dívida, Lei de Licitações e Contratos, Relicitação, Contrato de gestão, Equilíbrio econômico-financeiro, Termo aditivo, Contratado, Terceirização, Subcontratação, Prestação de serviço, Facilities, Cláusula, Licitação e Contratação direta. Garantia contratual - Garantia de execução contratual, Garantia contratual básica e Garantia legal. -- Rescisão contratual, Alteração por acordo, Garantia adicional, Concessão de garantia, Seguro garantia e Garantia da proposta.']\n",
      "4 : [0.813921313134301, '18059', 'A aquisição de bens ou serviços sem cobertura de termo contratual, bem assim sua celebração com cláusula de vigência retroativa, caracteriza a existência de contrato verbal antes de sua formalização, o que é vedado pelo art. 60, parágrafo único, Lei 8.666/1993.\\nFormalização do contrato -- Contrato. Ilegalidade -- Representação, Mandado de segurança, Manifesta ilegalidade, Eficácia da lei, Abuso de autoridade, Habeas corpus e Princípio da legalidade. Contrato verbal -- Suprimento de fundos. Contrato administrativo - Contratos administrativos. -- Pedido de reexame, Renovação de contrato, Objeto do contrato, Reajuste, Revisão contratual, Fato do príncipe, Contratante, Correção monetária, Rescisão contratual, Remanescente de contrato, Contratações públicas, Consórcio público, Cadastro de Empresas Inidôneas e Suspensas, Alocação de riscos, Cadastro Integrado de Condenações por Ilícitos Administrativos, Lei do Pregão Eletrônico, Reconhecimento de dívida, Lei de Licitações e Contratos, Relicitação, Contrato de gestão, Equilíbrio econômico-financeiro, Termo aditivo, Contratado, Terceirização, Subcontratação, Prestação de serviço, Facilities, Cláusula, Licitação e Contratação direta.']\n",
      "5 : [0.813921313134301, '18060', 'A formalização de contrato em momento posterior em nada muda a ilegalidade da prévia contratação verbal, constituindo-se, com relação aos pagamentos realizados à empresa prestadora de serviços nesse período, despesas sem cobertura contratual, a serem sopesadas no julgamento das contas do responsável.\\nIlegalidade -- Representação, Mandado de segurança, Manifesta ilegalidade, Eficácia da lei, Abuso de autoridade, Habeas corpus e Princípio da legalidade. Formalização do contrato -- Contrato. Contrato administrativo - Contratos administrativos. -- Pedido de reexame, Renovação de contrato, Objeto do contrato, Reajuste, Revisão contratual, Fato do príncipe, Contratante, Correção monetária, Rescisão contratual, Remanescente de contrato, Contratações públicas, Consórcio público, Cadastro de Empresas Inidôneas e Suspensas, Alocação de riscos, Cadastro Integrado de Condenações por Ilícitos Administrativos, Lei do Pregão Eletrônico, Reconhecimento de dívida, Lei de Licitações e Contratos, Relicitação, Contrato de gestão, Equilíbrio econômico-financeiro, Termo aditivo, Contratado, Terceirização, Subcontratação, Prestação de serviço, Facilities, Cláusula, Licitação e Contratação direta. Contrato verbal -- Suprimento de fundos.']\n",
      "*** retriever:bm25 / ranker:MINILM_INDIR\n",
      "\n",
      "Index: indir_juris_tcu_synonym_related_term\n",
      "Parâmetros usados: {'Retriever': {'top_k': 100}}\n",
      "Consulta: despesa sem cobertura contratual\n",
      "Qtd documentos retornados: 100\n",
      "Seguem os nomes dos termos recuperados em ordem de score\n",
      "0 : [0.6701269745826721, '18952', 'Devem ser evitadas antecipações de pagamento sem previsão licitatória ou contratual e desprovidas de garantias ou cautelas.\\nContrato administrativo - Contratos administrativos. -- Pedido de reexame, Renovação de contrato, Objeto do contrato, Reajuste, Revisão contratual, Fato do príncipe, Contratante, Correção monetária, Rescisão contratual, Remanescente de contrato, Contratações públicas, Consórcio público, Cadastro de Empresas Inidôneas e Suspensas, Alocação de riscos, Cadastro Integrado de Condenações por Ilícitos Administrativos, Lei do Pregão Eletrônico, Reconhecimento de dívida, Lei de Licitações e Contratos, Relicitação, Contrato de gestão, Equilíbrio econômico-financeiro, Termo aditivo, Contratado, Terceirização, Subcontratação, Prestação de serviço, Facilities, Cláusula, Licitação e Contratação direta. Pagamento antecipado - Pagamento prévio e Liquidação antecipada. -- Pagamento indevido. Vedação - Proibição e Vedações. Garantia contratual - Garantia de execução contratual, Garantia contratual básica e Garantia legal. -- Rescisão contratual, Alteração por acordo, Garantia adicional, Concessão de garantia, Seguro garantia e Garantia da proposta.']\n",
      "1 : [0.669380784034729, '31072', 'São injustificáveis a realização de serviços e o fornecimento de bens sem cobertura contratual, bem como conferir a contratos administrativos efeitos financeiros retroativos, a não ser em casos excepcionais, tais como situações emergenciais ou quando se examina direitos a serem avaliados pela administração que demanda período de tempo significativo, como no caso de reequilíbrio econômico-financeiro de contrato.\\nContrato verbal -- Suprimento de fundos. Emergência - Estado de emergência. -- Contratação emergencial, Resgate, Estado de sítio, Estado de exceção, Auxílio emergencial, Hospital de campanha, Calamidade pública e Dispensa de licitação. Equilíbrio econômico-financeiro - Equação econômico-financeiro, Equação econômico financeira, Equilíbrio econômico financeiro, Equilíbrio financeiro, Equilíbrio econômico, Desequilíbrio econômico-financeiro, Ajuste econômico-financeiro e Desajuste econômico-financeiro. -- Contrato administrativo, Teoria da imprevisão, Revisão tarifária extraordinária, Alteração por acordo, Revisão tarifária periódica, Reposicionamento tarifário, Jogo de cronograma, Caso fortuito, Força maior, Fato do príncipe, Repactuação, Reajuste e Jogo de planilhas. Formalização do contrato -- Contrato. Contrato administrativo - Contratos administrativos. -- Pedido de reexame, Renovação de contrato, Objeto do contrato, Reajuste, Revisão contratual, Fato do príncipe, Contratante, Correção monetária, Rescisão contratual, Remanescente de contrato, Contratações públicas, Consórcio público, Cadastro de Empresas Inidôneas e Suspensas, Alocação de riscos, Cadastro Integrado de Condenações por Ilícitos Administrativos, Lei do Pregão Eletrônico, Reconhecimento de dívida, Lei de Licitações e Contratos, Relicitação, Contrato de gestão, Equilíbrio econômico-financeiro, Termo aditivo, Contratado, Terceirização, Subcontratação, Prestação de serviço, Facilities, Cláusula, Licitação e Contratação direta. Exceção - Excepcionalidade.']\n",
      "2 : [0.6667909622192383, '22948', 'Com a ausência de débito, afasta-se a responsabilidade da empresa contratada, não existindo pressuposto para a sua submissão à jurisdição do TCU.\\nResponsabilidade - Responsabilidades. -- Prejuízo, Dever de lealdade, Termo de responsabilidade, Perdas e danos, Caso fortuito, Omissão, Deveres, Responsável, Accountability pública e Imputação. Requisito - Requisitos. Contratado -- Encargos sociais, Contrato administrativo, Contratante, Medidas de compensação, Gestão contratual e Contrato. Débito - Débitos. -- Cessão de débito, Devedor, Financiamento, Dívida ativa, Crédito, Debênture, Cobrança, Corrupção passiva, Vencimento da dívida, Compromisso de dívida, Inscrição em dívida ativa, Credor privado, Credor público, Credor, Refinanciamento, Despesa sem prévio empenho, Saldo devedor, Empenho, Correção monetária, Dívida, Quitação, Banco, Ressarcimento, Recolhimento, Inadimplência e Empréstimo.']\n",
      "3 : [0.6657454967498779, '23569', 'São ilegais os atos de admissão relativos a contratações temporárias realizadas antes da publicação da homologação do resultado final do processo seletivo e com a entrada em exercício sem a assinatura dos respectivos contratos.\\nAdmissão de pessoal - Admissão, Ato de admissão de pessoal, Contratação de pessoal, Atos de admissão e Ato de admissão. -- Sisac, Negativa de registro, Provimento do cargo, Pedido de reexame, Registro tácito, Concurso público e Contratação temporária. Contratação temporária - Contratação de temporários e Admissão temporária. -- Função pública, Pessoal temporário, Cargo temporário, Admissão de pessoal e Empresa de trabalho temporário. Homologação -- Adjudicação. Assinatura - Subscrição. -- Endosso, Assinatura digital, Procuração e Termo de compromisso. Pessoal -- Sisac, Despesa com pessoal e HCAAF. Contrato -- Cláusula, Declaração de nulidade, EPC, Renovação de contrato, Contratado, Locação (Licitação), Contratante, Resilição, Comodato, Ato constitutivo, Cláusula penal, Factoring, Rescisão contratual, Formalização do contrato, Fiança bancária, Suspensão de pagamento, Obrigação, Prestação de serviço, Compra e venda, Cláusula compromissória, Nulidade do contrato, Foro de eleição, Evicção, Fiador, Princípio da autonomia privada, Avalista, Risco de renovação, Gestão contratual, Custo não renovável, Ajuste, Alteração contratual, Terceirização, Subcontratação, Caução, Termo aditivo, Vício, Contratação e Extrato de contrato. Publicação -- Publicação periódica, Publicação oficial, Agenda de compromissos públicos, Republicação e Publicação científica.']\n",
      "4 : [0.6640639305114746, '20547', 'Todos os fatores de risco entendidos como pertinentes pela contratada devem estar previstos no BDI, em item único e próprio, e não no campo para custos diretos. O BDI é o elemento orçamentário destinado a cobrir as despesas classificadas como custo indireto, ou seja, as não diretamente relacionadas à execução do objeto contratado, como a cobertura de riscos eventuais ou imprevisíveis. Risco -- Gestão de risco, Medida de contingência, Fonte de risco, Tolerância a risco, Gerenciamento de riscos, Gerenciamento de riscos corporativos, Nível de risco, Plano de contingência, Risco de segurança da informação, Risco de tecnologia da informação e Exame sumário. Contratado -- Encargos sociais, Contrato administrativo, Contratante, Medidas de compensação, Gestão contratual e Contrato. BDI - Benefícios e despesas indiretas, Bonificação de Despesas Indiretas, Taxa de bonificações indiretas, Bonificações e Despesas Indiretas (BDI), LDI, Lucros e Despesas Indiretas e Lucros e Despesas Indiretas (LDI). -- Custo indireto, Prestação de serviço, Bonificação e Obras e serviços de engenharia. Licitação - Certame licitatório, Procedimento licitatório, Procedimentos licitatórios, Licitação pública, Licitações públicas e Licitações. -- Sobrepreço, Superfaturamento, Margem de preferência, Equipe de apoio, Princípio da padronização, Extrato de licitação, Contrato de concessão, Garantia da proposta, Orçamento sigiloso, Contrato administrativo, Contratações públicas, Aproveitamento de licitação, Lei de Licitações e Contratos, Pregão, Preço estimado, Parcela de maior relevância, Planilha de custos e formação de preços, Robô de lances, Cadastro de Empresas Inidôneas e Suspensas, Cadastro Integrado de Condenações por Ilícitos Administrativos, Pesquisa de preço, Lei do Pregão Eletrônico, Dispensa de licitação, Portal Nacional de Contratações Públicas, Inexigibilidade de licitação, Ajuste, Relicitação, Concessão de garantia, Diálogo competitivo']\n",
      "5 : [0.6610417366027832, '75109', 'O risco de prejuízos para a Administração pode excepcionalmente justificar a convalidação de atos irregulares ocorridos na licitação, a exemplo de dispensa indevida de licitação, e a continuidade da execução do contrato, em razão da prevalência do interesse público. Anulação - Tornar sem efeito, Tornar nulo e Invalidação. -- Efeito ex tunc, Nulidade absoluta, Nulidade relativa, Erro essencial, Revogação, Nulidade e Efeito ex nunc. Dispensa de licitação - Licitação dispensada, Licitação dispensável, Compra sem licitação, Compra por dispensa, Procedimento de dispensa de licitação, Procedimento para dispensa de licitação e Dispensa por valor. -- Calamidade pública, Licitação deserta, Energia elétrica, Termo de contrato, Desenvolvimento institucional, Emergência, Contratação emergencial, Fracionamento da despesa, Locação de imóveis, Contratação direta, Cotação eletrônica, Remanescente de contrato, Inaplicabilidade de licitação, Inexigibilidade de licitação, Regularidade fiscal, Alienação de bens e Licitação. Prejuízo - Dano e Dano contratual. -- Reparação do dano, Perdas e danos, Crime, Crime contra o patrimônio, Indenização, Responsabilidade e Coação. Contrato administrativo - Contratos administrativos. -- Pedido de reexame, Renovação de contrato, Objeto do contrato, Reajuste, Revisão contratual, Fato do príncipe, Contratante, Correção monetária, Rescisão contratual, Remanescente de contrato, Contratações públicas, Consórcio público, Cadastro de Empresas Inidôneas e Suspensas, Alocação de riscos, Cadastro Integrado de Condenações por Ilícitos Administrativos, Lei do Pregão Eletrônico, Reconhecimento de dívida, Lei de Licitações e Contratos, Relicitação, Contrato de gestão, Equilíbrio econômico-financeiro, Termo aditivo, Contratado, Terceirização, Subcontratação, Prestação de serviço, Facilities, Cláusula, Licitação e Contratação direta. Interesse público -- Contribuição parafiscal, Matéria de ordem pública']\n",
      "*** retriever:sts / ranker:MINILM_INDIR\n",
      "\n",
      "Index: indir_juris_tcu_synonym_related_term\n",
      "Parâmetros usados: {'Retriever': {'top_k': 100}}\n",
      "Consulta: despesa sem cobertura contratual\n",
      "Qtd documentos retornados: 100\n",
      "Seguem os nomes dos termos recuperados em ordem de score\n",
      "0 : [0.6749240159988403, '34965', 'Nas hipóteses de inexistência de débito (dano quantificado) , não é possível aplicar multa, com base no disposto no art. 58, inciso I, da Lei 8.443/1992, à entidade privada contratada.\\nDébito - Débitos. -- Cessão de débito, Devedor, Financiamento, Dívida ativa, Crédito, Debênture, Cobrança, Corrupção passiva, Vencimento da dívida, Compromisso de dívida, Inscrição em dívida ativa, Credor privado, Credor público, Credor, Refinanciamento, Despesa sem prévio empenho, Saldo devedor, Empenho, Correção monetária, Dívida, Quitação, Banco, Ressarcimento, Recolhimento, Inadimplência e Empréstimo. Pessoa jurídica -- Pessoa física, Contrato social, Ato constitutivo, Autarquia, Sociedade de economia mista, CNPJ, Personalidade jurídica e IRPJ. Contratado -- Encargos sociais, Contrato administrativo, Contratante, Medidas de compensação, Gestão contratual e Contrato. Responsabilidade - Responsabilidades. -- Prejuízo, Dever de lealdade, Termo de responsabilidade, Perdas e danos, Caso fortuito, Omissão, Deveres, Responsável, Accountability pública e Imputação. Multa - Multas. -- Sonegação de informação, Cláusula penal, Advertência (Licitação), Declaração de inidoneidade, Recurso administrativo, Suspensão temporária e Inadimplência.']\n",
      "1 : [0.6701269745826721, '18952', 'Devem ser evitadas antecipações de pagamento sem previsão licitatória ou contratual e desprovidas de garantias ou cautelas.\\nContrato administrativo - Contratos administrativos. -- Pedido de reexame, Renovação de contrato, Objeto do contrato, Reajuste, Revisão contratual, Fato do príncipe, Contratante, Correção monetária, Rescisão contratual, Remanescente de contrato, Contratações públicas, Consórcio público, Cadastro de Empresas Inidôneas e Suspensas, Alocação de riscos, Cadastro Integrado de Condenações por Ilícitos Administrativos, Lei do Pregão Eletrônico, Reconhecimento de dívida, Lei de Licitações e Contratos, Relicitação, Contrato de gestão, Equilíbrio econômico-financeiro, Termo aditivo, Contratado, Terceirização, Subcontratação, Prestação de serviço, Facilities, Cláusula, Licitação e Contratação direta. Pagamento antecipado - Pagamento prévio e Liquidação antecipada. -- Pagamento indevido. Vedação - Proibição e Vedações. Garantia contratual - Garantia de execução contratual, Garantia contratual básica e Garantia legal. -- Rescisão contratual, Alteração por acordo, Garantia adicional, Concessão de garantia, Seguro garantia e Garantia da proposta.']\n",
      "2 : [0.6667909622192383, '22948', 'Com a ausência de débito, afasta-se a responsabilidade da empresa contratada, não existindo pressuposto para a sua submissão à jurisdição do TCU.\\nResponsabilidade - Responsabilidades. -- Prejuízo, Dever de lealdade, Termo de responsabilidade, Perdas e danos, Caso fortuito, Omissão, Deveres, Responsável, Accountability pública e Imputação. Requisito - Requisitos. Contratado -- Encargos sociais, Contrato administrativo, Contratante, Medidas de compensação, Gestão contratual e Contrato. Débito - Débitos. -- Cessão de débito, Devedor, Financiamento, Dívida ativa, Crédito, Debênture, Cobrança, Corrupção passiva, Vencimento da dívida, Compromisso de dívida, Inscrição em dívida ativa, Credor privado, Credor público, Credor, Refinanciamento, Despesa sem prévio empenho, Saldo devedor, Empenho, Correção monetária, Dívida, Quitação, Banco, Ressarcimento, Recolhimento, Inadimplência e Empréstimo.']\n",
      "3 : [0.6616172194480896, '13634', 'A apólice que assegura o contrato contra inadimplementos na execução dos serviços não é hábil a proteger o erário no caso de dano decorrente do pagamento de preços superfaturados e, por isso, não pode ser utilizada como alternativa à retenção de valores. \\nValor - Valores. Garantia contratual - Garantia de execução contratual, Garantia contratual básica e Garantia legal. -- Rescisão contratual, Alteração por acordo, Garantia adicional, Concessão de garantia, Seguro garantia e Garantia da proposta. Superfaturamento - Preço superfaturado, Superfaturamento  por reajustamento irregular de preço, Superfaturamento de quantidade, Superfaturamento por alteração de cláusulas financeiras, Superfaturamento por distorção do cronograma físico-financeiro, Superfaturamento por execução de serviços com qualidade deficiente, Superfaturamento por jogo de planilha, Superfaturamento por pagamentos antecipados e Superfaturamento por preço excessivo. -- Sobrepreço, Faturamento, Licitação e Preço. Contrato administrativo - Contratos administrativos. -- Pedido de reexame, Renovação de contrato, Objeto do contrato, Reajuste, Revisão contratual, Fato do príncipe, Contratante, Correção monetária, Rescisão contratual, Remanescente de contrato, Contratações públicas, Consórcio público, Cadastro de Empresas Inidôneas e Suspensas, Alocação de riscos, Cadastro Integrado de Condenações por Ilícitos Administrativos, Lei do Pregão Eletrônico, Reconhecimento de dívida, Lei de Licitações e Contratos, Relicitação, Contrato de gestão, Equilíbrio econômico-financeiro, Termo aditivo, Contratado, Terceirização, Subcontratação, Prestação de serviço, Facilities, Cláusula, Licitação e Contratação direta.']\n",
      "4 : [0.6597926616668701, '6301', 'É legal a cobrança de débito pela ausência de aplicação dos recursos do convênio no mercado financeiro, sem que se caracterize bis in idem, quando o período em que se deixou de auferir renda com a aplicação financeira for anterior à data de ocorrência do débito principal.\\nResponsabilidade - Responsabilidades. -- Prejuízo, Dever de lealdade, Termo de responsabilidade, Perdas e danos, Caso fortuito, Omissão, Deveres, Responsável, Accountability pública e Imputação. Execução financeira -- Liquidação da despesa, Fiscalização patrimonial, Execução orçamentária, Conformidade de registro de gestão e Responsabilidade fiscal. Aplicação financeira - Aplicação de recursos. -- Fundo de investimento, Independência financeira e Rendimento financeiro. Ausência - Falta. -- Lacuna da lei. Débito - Débitos. -- Cessão de débito, Devedor, Financiamento, Dívida ativa, Crédito, Debênture, Cobrança, Corrupção passiva, Vencimento da dívida, Compromisso de dívida, Inscrição em dívida ativa, Credor privado, Credor público, Credor, Refinanciamento, Despesa sem prévio empenho, Saldo devedor, Empenho, Correção monetária, Dívida, Quitação, Banco, Ressarcimento, Recolhimento, Inadimplência e Empréstimo. Convênio - Convênios e congêneres, Convênio de colaboração, Convênio de cooperação, Convênio da Administração Pública, Convênio administrativo e Convênio público. -- Contrapartida, Objeto do convênio, Fiscalização in loco, Qualificação técnica, Capacidade operacional, Mandatário, Plano de trabalho, Chamamento público, Concedente, Convenente, Transferências voluntárias, Glosa, Desvio de objeto, Desvio de finalidade, Acordo de cooperação, Favorecido, Proponente, Conta corrente específica, Subconvênio, Acordo, Ajuste, Pregão, CEPIM, Siconv, Lei de Convênios, Prestação de contas e Consórcio público.']\n",
      "5 : [0.6495738625526428, '71714', 'Eventual dificuldade em realizar procedimentos licitatórios, bem como a existência de certames fracassados ou desertos, não autorizam a realização de despesas mediante suprimento de fundos.\\nRequisito - Requisitos. Finanças públicas -- Conta única, Administração tributária, Sistema de custos, Política financeira, Arrecadação da receita, Responsabilidade fiscal, Gestão fiscal, Novo regime fiscal, Índice de governança municipal, Gestão tributária, Reforma tributária, Sustentabilidade fiscal, Finanças públicas, Tributo, Receita pública, Despesa pública, Orçamento público, Bens públicos, Crime contra as finanças públicas e Finanças públicas. Licitação fracassada -- Proposta. Licitação deserta -- Dispensa de licitação. Suprimento de fundos - Regime de adiantamento. -- Despesa pública, Contrato verbal, Ordenação de despesa e Ordenador de despesas.']\n",
      "CPU times: user 4.48 s, sys: 297 ms, total: 4.78 s\n",
      "Wall time: 5.04 s\n"
     ]
    }
   ],
   "source": [
    "\n",
    "%%time\n",
    "for index_name in pipes:\n",
    "    print(f\"\\nindex_name {index_name}\")\n",
    "    for pipe in pipes[index_name]:\n",
    "        print(f\"*** retriever:{pipe['RETRIEVER_TYPE']} / ranker:{pipe['RANKER_TYPE']}\")\n",
    "        doctos_retornados_ranker =  pipe['PIPE_OBJECT'].run(query=parm_query, \n",
    "        params={\"Retriever\": {\"top_k\": 100}})\n",
    "        print(f'\\nIndex: {index_name}')\n",
    "        util_pipeline.detail_document_found(doctos_retornados_ranker,5)\n",
    "        torch.cuda.empty_cache()"
   ]
  },
  {
   "attachments": {},
   "cell_type": "markdown",
   "metadata": {},
   "source": [
    "### First stage = join"
   ]
  },
  {
   "cell_type": "code",
   "execution_count": 48,
   "metadata": {},
   "outputs": [
    {
     "name": "stdout",
     "output_type": "stream",
     "text": [
      "Loading MINILM_INDIR_400 with limit_query_size=100\n",
      "CPU times: user 19 s, sys: 3.61 s, total: 22.6 s\n",
      "Wall time: 14.2 s\n"
     ]
    }
   ],
   "source": [
    "%%time\n",
    "for index_name in list_name_index:\n",
    "    pipe = {}\n",
    "    pipe['PIPE_OBJECT'] = util_pipeline.return_pipeline_join_bm25_sts_reranker(reference_data_index[index_name], ranker_type, \n",
    "                                parm_limit_query_size=limit_query_size_expanded)\n",
    "    pipe['RETRIEVER_TYPE'] = 'join'\n",
    "    pipe['RANKER_TYPE'] = ranker_type\n",
    "    pipe['RETRIEVER_MODEL_NAME'] = ''\n",
    "    pipes[index_name].append(pipe)\n"
   ]
  },
  {
   "cell_type": "code",
   "execution_count": 50,
   "metadata": {},
   "outputs": [
    {
     "name": "stdout",
     "output_type": "stream",
     "text": [
      "\n",
      "index_name indir_juris_tcu\n",
      "*** retriever:join / ranker:MINILM_INDIR_400\n",
      "\n",
      "Index: indir_juris_tcu\n",
      "Parâmetros usados: {'Bm25Retriever': {'top_k': 100}, 'StsRetriever': {'top_k': 100}}\n",
      "Consulta: despesa sem cobertura contratual\n",
      "Qtd documentos retornados: 188\n",
      "Seguem os nomes dos termos recuperados em ordem de score\n",
      "0 : [0.7853959798812866, '19451', 'A realização de despesas sem cobertura contratual é irregularidade grave, que justifica a aplicação de multa aos responsáveis, bem como julgamento pela irregularidade de suas contas']\n",
      "1 : [0.7202020883560181, '17825', 'Pagamentos sem cobertura contratual ou prévio empenho constituem afronta à legislação ordinária, ressalvando-se, no que diz respeito à Lei 8.666/1993, os contratos verbais destinados às compras de pronto pagamento, feitas em regime de adiantamento, em valores não superiores ao estabelecido na norma (parágrafo único do art. 60) .']\n",
      "2 : [0.6971409916877747, '18384', 'A realização de pagamentos em data anterior à celebração do contrato caracteriza despesa sem cobertura contratual.']\n",
      "3 : [0.6939610242843628, '18905', 'A execução de serviços sem cobertura contratual, mas autorizados pela Administração, gera o dever de indenizar.']\n",
      "4 : [0.6920106410980225, '32631', 'O regime contratual de administração contratada não encontra amparo legal.']\n",
      "5 : [0.6762628555297852, '18950', 'A realização de pagamentos previamente à assinatura dos respectivos instrumentos contratuais configura a realização de despesas sem cobertura contratual.']\n",
      "\n",
      "index_name indir_juris_tcu_term\n",
      "*** retriever:join / ranker:MINILM_INDIR_400\n",
      "\n",
      "Index: indir_juris_tcu_term\n",
      "Parâmetros usados: {'Bm25Retriever': {'top_k': 100}, 'StsRetriever': {'top_k': 100}}\n",
      "Consulta: despesa sem cobertura contratual\n",
      "Qtd documentos retornados: 189\n",
      "Seguem os nomes dos termos recuperados em ordem de score\n",
      "0 : [0.8080602288246155, '19451', 'A realização de despesas sem cobertura contratual é irregularidade grave, que justifica a aplicação de multa aos responsáveis, bem como julgamento pela irregularidade de suas contas\\nContas irregulares, Contrato administrativo, Contrato verbal, Responsabilidade, Multa.']\n",
      "1 : [0.7307995557785034, '18384', 'A realização de pagamentos em data anterior à celebração do contrato caracteriza despesa sem cobertura contratual.\\nAssinatura, Contrato administrativo, Formalização do contrato, Contrato verbal.']\n",
      "2 : [0.7133083939552307, '17825', 'Pagamentos sem cobertura contratual ou prévio empenho constituem afronta à legislação ordinária, ressalvando-se, no que diz respeito à Lei 8.666/1993, os contratos verbais destinados às compras de pronto pagamento, feitas em regime de adiantamento, em valores não superiores ao estabelecido na norma (parágrafo único do art. 60) .\\nIlegalidade, Exceção, Formalização do contrato, Contrato administrativo, Contrato verbal.']\n",
      "3 : [0.6801782250404358, '18905', 'A execução de serviços sem cobertura contratual, mas autorizados pela Administração, gera o dever de indenizar.\\nFormalização do contrato, Contrato administrativo, Contrato verbal, Indenização, Execução de contrato.']\n",
      "4 : [0.6770056486129761, '18950', 'A realização de pagamentos previamente à assinatura dos respectivos instrumentos contratuais configura a realização de despesas sem cobertura contratual.\\nContrato verbal, Contrato administrativo, Formalização do contrato.']\n",
      "5 : [0.660430371761322, '22174', 'Não havendo dano ao erário, a aquisição de bens e serviços sem cobertura contratual é considerada falha de natureza formal, resultando em ressalvas às contas dos responsáveis.\\nContas regulares com ressalva, Erro formal, Contrato verbal, Responsabilidade, Contrato administrativo.']\n",
      "\n",
      "index_name indir_juris_tcu_synonym\n",
      "*** retriever:join / ranker:MINILM_INDIR_400\n",
      "\n",
      "Index: indir_juris_tcu_synonym\n",
      "Parâmetros usados: {'Bm25Retriever': {'top_k': 100}, 'StsRetriever': {'top_k': 100}}\n",
      "Consulta: despesa sem cobertura contratual\n",
      "Qtd documentos retornados: 190\n",
      "Seguem os nomes dos termos recuperados em ordem de score\n",
      "0 : [0.7882546782493591, '19451', 'A realização de despesas sem cobertura contratual é irregularidade grave, que justifica a aplicação de multa aos responsáveis, bem como julgamento pela irregularidade de suas contas\\nContas irregulares - Rejeição das contas e Contas julgadas irregulares. Contrato administrativo - Contratos administrativos. Responsabilidade - Responsabilidades. Multa - Multas.']\n",
      "1 : [0.6987608075141907, '18384', 'A realização de pagamentos em data anterior à celebração do contrato caracteriza despesa sem cobertura contratual.\\nAssinatura - Subscrição. Contrato administrativo - Contratos administrativos.']\n",
      "2 : [0.6930076479911804, '44889', 'A impugnação da totalidade das despesas realizadas com os recursos repassados pelo concedente afasta a obrigatoriedade de restituição da parcela referente à contrapartida do convenente, sob pena de enriquecimento sem causa da União.\\nResponsabilidade - Responsabilidades. Convênio - Convênios e congêneres, Convênio de colaboração, Convênio de cooperação, Convênio da Administração Pública, Convênio administrativo e Convênio público. Débito - Débitos. Ausência - Falta. Contrapartida - Contrapartida financeira.']\n",
      "3 : [0.6921642422676086, '49862', 'O saque em espécie da totalidade dos recursos da conta específica do convênio enseja débito, face à inexistência do correspondente e necessário nexo causal entre o desembolso e a despesa efetuada.\\nConta corrente específica - Conta específica, Conta de convênio, Conta do convênio, Conta específica do convênio, Conta específica de convênio e Conta corrente de convênio. Débito - Débitos. Convênio - Convênios e congêneres, Convênio de colaboração, Convênio de cooperação, Convênio da Administração Pública, Convênio administrativo e Convênio público. Nexo de causalidade - Relação de causalidade, Relação causal e Nexo causal.']\n",
      "4 : [0.6911421418190002, '17825', 'Pagamentos sem cobertura contratual ou prévio empenho constituem afronta à legislação ordinária, ressalvando-se, no que diz respeito à Lei 8.666/1993, os contratos verbais destinados às compras de pronto pagamento, feitas em regime de adiantamento, em valores não superiores ao estabelecido na norma (parágrafo único do art. 60) .\\nExceção - Excepcionalidade. Contrato administrativo - Contratos administrativos.']\n",
      "5 : [0.6902667284011841, '31618', 'As compras devem ser planejadas por exercício, mediante processo licitatório, evitando-se compras diretas com dispensa de licitação, a partir de fracionamento da despesa.\\nContratação direta - Compras diretas, Compra direta e Contratações diretas. Dispensa de licitação - Licitação dispensada, Licitação dispensável, Compra sem licitação, Compra por dispensa, Procedimento de dispensa de licitação, Procedimento para dispensa de licitação e Dispensa por valor. Licitação - Certame licitatório, Procedimento licitatório, Procedimentos licitatórios, Licitação pública, Licitações públicas e Licitações. Valor - Valores. Fracionamento da despesa - Fragmentação de despesa, Fracionamento de despesa e Fracionamento de licitação.']\n",
      "\n",
      "index_name indir_juris_tcu_related_term\n",
      "*** retriever:join / ranker:MINILM_INDIR_400\n",
      "\n",
      "Index: indir_juris_tcu_related_term\n",
      "Parâmetros usados: {'Bm25Retriever': {'top_k': 100}, 'StsRetriever': {'top_k': 100}}\n",
      "Consulta: despesa sem cobertura contratual\n",
      "Qtd documentos retornados: 190\n",
      "Seguem os nomes dos termos recuperados em ordem de score\n",
      "0 : [0.6719428300857544, '19451', 'A realização de despesas sem cobertura contratual é irregularidade grave, que justifica a aplicação de multa aos responsáveis, bem como julgamento pela irregularidade de suas contas\\nContas irregulares -- Juros de mora, Título executivo, Decisão definitiva, Julgamento de contas, Prestação de contas, Tomada de contas e Cadirreg. Contrato administrativo -- Pedido de reexame, Renovação de contrato, Objeto do contrato, Reajuste, Revisão contratual, Fato do príncipe, Contratante, Correção monetária, Rescisão contratual, Remanescente de contrato, Contratações públicas, Consórcio público, Cadastro de Empresas Inidôneas e Suspensas, Alocação de riscos, Cadastro Integrado de Condenações por Ilícitos Administrativos, Lei do Pregão Eletrônico, Reconhecimento de dívida, Lei de Licitações e Contratos, Relicitação, Contrato de gestão, Equilíbrio econômico-financeiro, Termo aditivo, Contratado, Terceirização, Subcontratação, Prestação de serviço, Facilities, Cláusula, Licitação e Contratação direta. Contrato verbal -- Suprimento de fundos. Responsabilidade -- Prejuízo, Dever de lealdade, Termo de responsabilidade, Perdas e danos, Caso fortuito, Omissão, Deveres, Responsável, Accountability pública e Imputação. Multa -- Sonegação de informação, Cláusula penal, Advertência (Licitação), Declaração de inidoneidade, Recurso administrativo, Suspensão temporária e Inadimplência.']\n",
      "1 : [0.6717435717582703, '20547', 'Todos os fatores de risco entendidos como pertinentes pela contratada devem estar previstos no BDI, em item único e próprio, e não no campo para custos diretos. O BDI é o elemento orçamentário destinado a cobrir as despesas classificadas como custo indireto, ou seja, as não diretamente relacionadas à execução do objeto contratado, como a cobertura de riscos eventuais ou imprevisíveis. Risco -- Gestão de risco, Medida de contingência, Fonte de risco, Tolerância a risco, Gerenciamento de riscos, Gerenciamento de riscos corporativos, Nível de risco, Plano de contingência, Risco de segurança da informação, Risco de tecnologia da informação e Exame sumário. Contratado -- Encargos sociais, Contrato administrativo, Contratante, Medidas de compensação, Gestão contratual e Contrato. BDI -- Custo indireto, Prestação de serviço, Bonificação e Obras e serviços de engenharia. Licitação -- Sobrepreço, Superfaturamento, Margem de preferência, Equipe de apoio, Princípio da padronização, Extrato de licitação, Contrato de concessão, Garantia da proposta, Orçamento sigiloso, Contrato administrativo, Contratações públicas, Aproveitamento de licitação, Lei de Licitações e Contratos, Pregão, Preço estimado, Parcela de maior relevância, Planilha de custos e formação de preços, Robô de lances, Cadastro de Empresas Inidôneas e Suspensas, Cadastro Integrado de Condenações por Ilícitos Administrativos, Pesquisa de preço, Lei do Pregão Eletrônico, Dispensa de licitação, Portal Nacional de Contratações Públicas, Inexigibilidade de licitação, Ajuste, Relicitação, Concessão de garantia, Diálogo competitivo, Contratação indireta, Modalidade de licitação, Tipo de licitação, Vistoria, Objeto da licitação e Contratação direta. Proposta -- Pregão, Licitação de melhor técnica, Licitação de maior lance ou oferta, Licitação de menor preço, Licitação de técnica e preço, Pregão eletrônico, Pregão presencial, Empate, Licitação fracassada, Diligência, Princípio do julgamento objetivo, Coelho']\n",
      "2 : [0.6609123945236206, '18951', 'Não há respaldo legal para que o pagamento de serviços contratados pela Administração Pública fique condicionado à comprovação da regularidade fiscal ou à quitação dos encargos trabalhistas, previdenciários e comerciais relacionados à execução da avença, uma vez que o contratado deve ser remunerado pelos serviços que efetivamente executou, sob pena de caracterizar enriquecimento sem causa da Administração. Encargos trabalhistas -- Encargos sociais, Execução trabalhista, Ponto facultativo, Gratificação natalina, Férias, Repouso semanal remunerado, Salário família, Vale-transporte, Feriado, Adicional, Verba rescisória e Indenização. Contratado -- Encargos sociais, Contrato administrativo, Contratante, Medidas de compensação, Gestão contratual e Contrato. Regularidade trabalhista -- Regularidade fiscal, Habilitação de licitante, Seguridade social e FGTS. Enriquecimento ilícito -- Operação Lava Jato, Corrupção, Improbidade administrativa, Lavagem de dinheiro, Peculato, Anticorrupção, Ação de repetição do indébito, Combate à corrupção e Princípio da vedação ao enriquecimento sem causa. Execução de contrato -- Execução física, Recebimento provisório, Recebimento definitivo, Fornecimento e prestação de serviço associado, Recebimento do objeto, Execução parcial, Regime de execução contratual, Execução de obras e serviços e Fiscal. Regularidade fiscal -- Dispensa de licitação, Inexigibilidade de licitação, Habilitação de licitante, FGTS, Seguridade social e Regularidade trabalhista. Pagamento -- Quitação, Suspensão de pagamento, Ordenador de despesas, Ordenação de despesa, Cobrança, Consignação em pagamento, Cronograma de desembolso, Cronograma físico-financeiro e Execução da despesa. Contrato administrativo -- Pedido de reexame, Renovação de contrato, Objeto do contrato, Reajuste, Revisão contratual, Fato do príncipe, Contratante, Correção monetária, Rescisão contratual, Remanescente de contrato, Contratações públicas, Consórcio público']\n",
      "3 : [0.6604936122894287, '18952', 'Devem ser evitadas antecipações de pagamento sem previsão licitatória ou contratual e desprovidas de garantias ou cautelas.\\nContrato administrativo -- Pedido de reexame, Renovação de contrato, Objeto do contrato, Reajuste, Revisão contratual, Fato do príncipe, Contratante, Correção monetária, Rescisão contratual, Remanescente de contrato, Contratações públicas, Consórcio público, Cadastro de Empresas Inidôneas e Suspensas, Alocação de riscos, Cadastro Integrado de Condenações por Ilícitos Administrativos, Lei do Pregão Eletrônico, Reconhecimento de dívida, Lei de Licitações e Contratos, Relicitação, Contrato de gestão, Equilíbrio econômico-financeiro, Termo aditivo, Contratado, Terceirização, Subcontratação, Prestação de serviço, Facilities, Cláusula, Licitação e Contratação direta. Pagamento antecipado -- Pagamento indevido. Garantia contratual -- Rescisão contratual, Alteração por acordo, Garantia adicional, Concessão de garantia, Seguro garantia e Garantia da proposta.']\n",
      "4 : [0.6596090197563171, '34965', 'Nas hipóteses de inexistência de débito (dano quantificado) , não é possível aplicar multa, com base no disposto no art. 58, inciso I, da Lei 8.443/1992, à entidade privada contratada.\\nDébito -- Cessão de débito, Devedor, Financiamento, Dívida ativa, Crédito, Debênture, Cobrança, Corrupção passiva, Vencimento da dívida, Compromisso de dívida, Inscrição em dívida ativa, Credor privado, Credor público, Credor, Refinanciamento, Despesa sem prévio empenho, Saldo devedor, Empenho, Correção monetária, Dívida, Quitação, Banco, Ressarcimento, Recolhimento, Inadimplência e Empréstimo. Pessoa jurídica -- Pessoa física, Contrato social, Ato constitutivo, Autarquia, Sociedade de economia mista, CNPJ, Personalidade jurídica e IRPJ. Contratado -- Encargos sociais, Contrato administrativo, Contratante, Medidas de compensação, Gestão contratual e Contrato. Responsabilidade -- Prejuízo, Dever de lealdade, Termo de responsabilidade, Perdas e danos, Caso fortuito, Omissão, Deveres, Responsável, Accountability pública e Imputação. Multa -- Sonegação de informação, Cláusula penal, Advertência (Licitação), Declaração de inidoneidade, Recurso administrativo, Suspensão temporária e Inadimplência.']\n",
      "5 : [0.6545817852020264, '18042', 'O pagamento por serviços não contemplados no contrato originário, sem a elaboração do necessário aditamento contratual, caracteriza contratação verbal.\\nAditivo -- Termo aditivo e Alteração contratual. Contrato administrativo -- Pedido de reexame, Renovação de contrato, Objeto do contrato, Reajuste, Revisão contratual, Fato do príncipe, Contratante, Correção monetária, Rescisão contratual, Remanescente de contrato, Contratações públicas, Consórcio público, Cadastro de Empresas Inidôneas e Suspensas, Alocação de riscos, Cadastro Integrado de Condenações por Ilícitos Administrativos, Lei do Pregão Eletrônico, Reconhecimento de dívida, Lei de Licitações e Contratos, Relicitação, Contrato de gestão, Equilíbrio econômico-financeiro, Termo aditivo, Contratado, Terceirização, Subcontratação, Prestação de serviço, Facilities, Cláusula, Licitação e Contratação direta. Contrato verbal -- Suprimento de fundos.']\n",
      "\n",
      "index_name indir_juris_tcu_synonym_related_term\n",
      "*** retriever:join / ranker:MINILM_INDIR_400\n",
      "\n",
      "Index: indir_juris_tcu_synonym_related_term\n",
      "Parâmetros usados: {'Bm25Retriever': {'top_k': 100}, 'StsRetriever': {'top_k': 100}}\n",
      "Consulta: despesa sem cobertura contratual\n",
      "Qtd documentos retornados: 188\n",
      "Seguem os nomes dos termos recuperados em ordem de score\n",
      "0 : [0.6749240159988403, '34965', 'Nas hipóteses de inexistência de débito (dano quantificado) , não é possível aplicar multa, com base no disposto no art. 58, inciso I, da Lei 8.443/1992, à entidade privada contratada.\\nDébito - Débitos. -- Cessão de débito, Devedor, Financiamento, Dívida ativa, Crédito, Debênture, Cobrança, Corrupção passiva, Vencimento da dívida, Compromisso de dívida, Inscrição em dívida ativa, Credor privado, Credor público, Credor, Refinanciamento, Despesa sem prévio empenho, Saldo devedor, Empenho, Correção monetária, Dívida, Quitação, Banco, Ressarcimento, Recolhimento, Inadimplência e Empréstimo. Pessoa jurídica -- Pessoa física, Contrato social, Ato constitutivo, Autarquia, Sociedade de economia mista, CNPJ, Personalidade jurídica e IRPJ. Contratado -- Encargos sociais, Contrato administrativo, Contratante, Medidas de compensação, Gestão contratual e Contrato. Responsabilidade - Responsabilidades. -- Prejuízo, Dever de lealdade, Termo de responsabilidade, Perdas e danos, Caso fortuito, Omissão, Deveres, Responsável, Accountability pública e Imputação. Multa - Multas. -- Sonegação de informação, Cláusula penal, Advertência (Licitação), Declaração de inidoneidade, Recurso administrativo, Suspensão temporária e Inadimplência.']\n",
      "1 : [0.6701269745826721, '18952', 'Devem ser evitadas antecipações de pagamento sem previsão licitatória ou contratual e desprovidas de garantias ou cautelas.\\nContrato administrativo - Contratos administrativos. -- Pedido de reexame, Renovação de contrato, Objeto do contrato, Reajuste, Revisão contratual, Fato do príncipe, Contratante, Correção monetária, Rescisão contratual, Remanescente de contrato, Contratações públicas, Consórcio público, Cadastro de Empresas Inidôneas e Suspensas, Alocação de riscos, Cadastro Integrado de Condenações por Ilícitos Administrativos, Lei do Pregão Eletrônico, Reconhecimento de dívida, Lei de Licitações e Contratos, Relicitação, Contrato de gestão, Equilíbrio econômico-financeiro, Termo aditivo, Contratado, Terceirização, Subcontratação, Prestação de serviço, Facilities, Cláusula, Licitação e Contratação direta. Pagamento antecipado - Pagamento prévio e Liquidação antecipada. -- Pagamento indevido. Vedação - Proibição e Vedações. Garantia contratual - Garantia de execução contratual, Garantia contratual básica e Garantia legal. -- Rescisão contratual, Alteração por acordo, Garantia adicional, Concessão de garantia, Seguro garantia e Garantia da proposta.']\n",
      "2 : [0.669380784034729, '31072', 'São injustificáveis a realização de serviços e o fornecimento de bens sem cobertura contratual, bem como conferir a contratos administrativos efeitos financeiros retroativos, a não ser em casos excepcionais, tais como situações emergenciais ou quando se examina direitos a serem avaliados pela administração que demanda período de tempo significativo, como no caso de reequilíbrio econômico-financeiro de contrato.\\nContrato verbal -- Suprimento de fundos. Emergência - Estado de emergência. -- Contratação emergencial, Resgate, Estado de sítio, Estado de exceção, Auxílio emergencial, Hospital de campanha, Calamidade pública e Dispensa de licitação. Equilíbrio econômico-financeiro - Equação econômico-financeiro, Equação econômico financeira, Equilíbrio econômico financeiro, Equilíbrio financeiro, Equilíbrio econômico, Desequilíbrio econômico-financeiro, Ajuste econômico-financeiro e Desajuste econômico-financeiro. -- Contrato administrativo, Teoria da imprevisão, Revisão tarifária extraordinária, Alteração por acordo, Revisão tarifária periódica, Reposicionamento tarifário, Jogo de cronograma, Caso fortuito, Força maior, Fato do príncipe, Repactuação, Reajuste e Jogo de planilhas. Formalização do contrato -- Contrato. Contrato administrativo - Contratos administrativos. -- Pedido de reexame, Renovação de contrato, Objeto do contrato, Reajuste, Revisão contratual, Fato do príncipe, Contratante, Correção monetária, Rescisão contratual, Remanescente de contrato, Contratações públicas, Consórcio público, Cadastro de Empresas Inidôneas e Suspensas, Alocação de riscos, Cadastro Integrado de Condenações por Ilícitos Administrativos, Lei do Pregão Eletrônico, Reconhecimento de dívida, Lei de Licitações e Contratos, Relicitação, Contrato de gestão, Equilíbrio econômico-financeiro, Termo aditivo, Contratado, Terceirização, Subcontratação, Prestação de serviço, Facilities, Cláusula, Licitação e Contratação direta. Exceção - Excepcionalidade.']\n",
      "3 : [0.6667909622192383, '22948', 'Com a ausência de débito, afasta-se a responsabilidade da empresa contratada, não existindo pressuposto para a sua submissão à jurisdição do TCU.\\nResponsabilidade - Responsabilidades. -- Prejuízo, Dever de lealdade, Termo de responsabilidade, Perdas e danos, Caso fortuito, Omissão, Deveres, Responsável, Accountability pública e Imputação. Requisito - Requisitos. Contratado -- Encargos sociais, Contrato administrativo, Contratante, Medidas de compensação, Gestão contratual e Contrato. Débito - Débitos. -- Cessão de débito, Devedor, Financiamento, Dívida ativa, Crédito, Debênture, Cobrança, Corrupção passiva, Vencimento da dívida, Compromisso de dívida, Inscrição em dívida ativa, Credor privado, Credor público, Credor, Refinanciamento, Despesa sem prévio empenho, Saldo devedor, Empenho, Correção monetária, Dívida, Quitação, Banco, Ressarcimento, Recolhimento, Inadimplência e Empréstimo.']\n",
      "4 : [0.6657454967498779, '23569', 'São ilegais os atos de admissão relativos a contratações temporárias realizadas antes da publicação da homologação do resultado final do processo seletivo e com a entrada em exercício sem a assinatura dos respectivos contratos.\\nAdmissão de pessoal - Admissão, Ato de admissão de pessoal, Contratação de pessoal, Atos de admissão e Ato de admissão. -- Sisac, Negativa de registro, Provimento do cargo, Pedido de reexame, Registro tácito, Concurso público e Contratação temporária. Contratação temporária - Contratação de temporários e Admissão temporária. -- Função pública, Pessoal temporário, Cargo temporário, Admissão de pessoal e Empresa de trabalho temporário. Homologação -- Adjudicação. Assinatura - Subscrição. -- Endosso, Assinatura digital, Procuração e Termo de compromisso. Pessoal -- Sisac, Despesa com pessoal e HCAAF. Contrato -- Cláusula, Declaração de nulidade, EPC, Renovação de contrato, Contratado, Locação (Licitação), Contratante, Resilição, Comodato, Ato constitutivo, Cláusula penal, Factoring, Rescisão contratual, Formalização do contrato, Fiança bancária, Suspensão de pagamento, Obrigação, Prestação de serviço, Compra e venda, Cláusula compromissória, Nulidade do contrato, Foro de eleição, Evicção, Fiador, Princípio da autonomia privada, Avalista, Risco de renovação, Gestão contratual, Custo não renovável, Ajuste, Alteração contratual, Terceirização, Subcontratação, Caução, Termo aditivo, Vício, Contratação e Extrato de contrato. Publicação -- Publicação periódica, Publicação oficial, Agenda de compromissos públicos, Republicação e Publicação científica.']\n",
      "5 : [0.6640639305114746, '20547', 'Todos os fatores de risco entendidos como pertinentes pela contratada devem estar previstos no BDI, em item único e próprio, e não no campo para custos diretos. O BDI é o elemento orçamentário destinado a cobrir as despesas classificadas como custo indireto, ou seja, as não diretamente relacionadas à execução do objeto contratado, como a cobertura de riscos eventuais ou imprevisíveis. Risco -- Gestão de risco, Medida de contingência, Fonte de risco, Tolerância a risco, Gerenciamento de riscos, Gerenciamento de riscos corporativos, Nível de risco, Plano de contingência, Risco de segurança da informação, Risco de tecnologia da informação e Exame sumário. Contratado -- Encargos sociais, Contrato administrativo, Contratante, Medidas de compensação, Gestão contratual e Contrato. BDI - Benefícios e despesas indiretas, Bonificação de Despesas Indiretas, Taxa de bonificações indiretas, Bonificações e Despesas Indiretas (BDI), LDI, Lucros e Despesas Indiretas e Lucros e Despesas Indiretas (LDI). -- Custo indireto, Prestação de serviço, Bonificação e Obras e serviços de engenharia. Licitação - Certame licitatório, Procedimento licitatório, Procedimentos licitatórios, Licitação pública, Licitações públicas e Licitações. -- Sobrepreço, Superfaturamento, Margem de preferência, Equipe de apoio, Princípio da padronização, Extrato de licitação, Contrato de concessão, Garantia da proposta, Orçamento sigiloso, Contrato administrativo, Contratações públicas, Aproveitamento de licitação, Lei de Licitações e Contratos, Pregão, Preço estimado, Parcela de maior relevância, Planilha de custos e formação de preços, Robô de lances, Cadastro de Empresas Inidôneas e Suspensas, Cadastro Integrado de Condenações por Ilícitos Administrativos, Pesquisa de preço, Lei do Pregão Eletrônico, Dispensa de licitação, Portal Nacional de Contratações Públicas, Inexigibilidade de licitação, Ajuste, Relicitação, Concessão de garantia, Diálogo competitivo']\n",
      "CPU times: user 4.33 s, sys: 329 ms, total: 4.66 s\n",
      "Wall time: 4.73 s\n"
     ]
    }
   ],
   "source": [
    "\n",
    "%%time\n",
    "for index_name in pipes:\n",
    "    print(f\"\\nindex_name {index_name}\")\n",
    "    for pipe in pipes[index_name]:\n",
    "        print(f\"*** retriever:{pipe['RETRIEVER_TYPE']} / ranker:{pipe['RANKER_TYPE']}\")\n",
    "        doctos_retornados_ranker =  pipe['PIPE_OBJECT'].run(query=parm_query, \n",
    "        params={\n",
    "        \"Bm25Retriever\":{\"top_k\": 100},\n",
    "        \"StsRetriever\": {\"top_k\": 100}\n",
    "        })\n",
    "        print(f'\\nIndex: {index_name}')\n",
    "        util_pipeline.detail_document_found(doctos_retornados_ranker,5)\n",
    "        torch.cuda.empty_cache()"
   ]
  },
  {
   "attachments": {},
   "cell_type": "markdown",
   "metadata": {},
   "source": [
    "## Impressão de pipe"
   ]
  },
  {
   "cell_type": "code",
   "execution_count": null,
   "metadata": {},
   "outputs": [
    {
     "name": "stdout",
     "output_type": "stream",
     "text": [
      "huggingface/tokenizers: The current process just got forked, after parallelism has already been used. Disabling parallelism to avoid deadlocks...\n",
      "To disable this warning, you can either:\n",
      "\t- Avoid using `tokenizers` before the fork if possible\n",
      "\t- Explicitly set the environment variable TOKENIZERS_PARALLELISM=(true | false)\n",
      "huggingface/tokenizers: The current process just got forked, after parallelism has already been used. Disabling parallelism to avoid deadlocks...\n",
      "To disable this warning, you can either:\n",
      "\t- Avoid using `tokenizers` before the fork if possible\n",
      "\t- Explicitly set the environment variable TOKENIZERS_PARALLELISM=(true | false)\n"
     ]
    },
    {
     "data": {
      "image/png": "[encoded data removed]",
      "text/plain": [
       "<Figure size 432x288 with 1 Axes>"
      ]
     },
     "metadata": {
      "needs_background": "light"
     },
     "output_type": "display_data"
    }
   ],
   "source": [
    "util_pipeline.imprime_pipe(pipe_join_sts_multihop_bm25)"
   ]
  },
  {
   "attachments": {},
   "cell_type": "markdown",
   "metadata": {},
   "source": [
    "# Experiments"
   ]
  },
  {
   "cell_type": "code",
   "execution_count": 51,
   "metadata": {},
   "outputs": [
    {
     "data": {
      "text/plain": [
       "{'indir_juris_tcu': [{'PIPE_OBJECT': <haystack.pipelines.base.Pipeline at 0x7f1dbb3bfe10>,\n",
       "   'RETRIEVER_TYPE': 'join',\n",
       "   'RANKER_TYPE': 'MINILM_INDIR_400',\n",
       "   'RETRIEVER_MODEL_NAME': ''}],\n",
       " 'indir_juris_tcu_term': [{'PIPE_OBJECT': <haystack.pipelines.base.Pipeline at 0x7f1dc4624910>,\n",
       "   'RETRIEVER_TYPE': 'join',\n",
       "   'RANKER_TYPE': 'MINILM_INDIR_400',\n",
       "   'RETRIEVER_MODEL_NAME': ''}],\n",
       " 'indir_juris_tcu_synonym': [{'PIPE_OBJECT': <haystack.pipelines.base.Pipeline at 0x7f1db0360fd0>,\n",
       "   'RETRIEVER_TYPE': 'join',\n",
       "   'RANKER_TYPE': 'MINILM_INDIR_400',\n",
       "   'RETRIEVER_MODEL_NAME': ''}],\n",
       " 'indir_juris_tcu_related_term': [{'PIPE_OBJECT': <haystack.pipelines.base.Pipeline at 0x7f1db816b9d0>,\n",
       "   'RETRIEVER_TYPE': 'join',\n",
       "   'RANKER_TYPE': 'MINILM_INDIR_400',\n",
       "   'RETRIEVER_MODEL_NAME': ''}],\n",
       " 'indir_juris_tcu_synonym_related_term': [{'PIPE_OBJECT': <haystack.pipelines.base.Pipeline at 0x7f1dbb186d50>,\n",
       "   'RETRIEVER_TYPE': 'join',\n",
       "   'RANKER_TYPE': 'MINILM_INDIR_400',\n",
       "   'RETRIEVER_MODEL_NAME': ''}]}"
      ]
     },
     "execution_count": 51,
     "metadata": {},
     "output_type": "execute_result"
    }
   ],
   "source": [
    "pipes"
   ]
  },
  {
   "cell_type": "code",
   "execution_count": 52,
   "metadata": {},
   "outputs": [],
   "source": [
    "grid_experiment = { \n",
    "             'TOPK_RETRIEVER' : [300],\n",
    "             'TOPK_RANKER' : [0],\n",
    "}"
   ]
  },
  {
   "cell_type": "code",
   "execution_count": 53,
   "metadata": {},
   "outputs": [],
   "source": [
    "list_experiment = [dict(zip(grid_experiment.keys(), values)) for values in product(*grid_experiment.values())]\n"
   ]
  },
  {
   "cell_type": "code",
   "execution_count": 54,
   "metadata": {},
   "outputs": [
    {
     "name": "stdout",
     "output_type": "stream",
     "text": [
      "1\n"
     ]
    },
    {
     "data": {
      "text/plain": [
       "84"
      ]
     },
     "execution_count": 54,
     "metadata": {},
     "output_type": "execute_result"
    }
   ],
   "source": [
    "print(len(list_experiment))\n",
    "gc.collect()"
   ]
  },
  {
   "cell_type": "code",
   "execution_count": 55,
   "metadata": {},
   "outputs": [
    {
     "data": {
      "text/plain": [
       "dict_keys(['PIPE_OBJECT', 'RETRIEVER_TYPE', 'RANKER_TYPE', 'RETRIEVER_MODEL_NAME'])"
      ]
     },
     "execution_count": 55,
     "metadata": {},
     "output_type": "execute_result"
    }
   ],
   "source": [
    "pipes['indir_juris_tcu'][0].keys()"
   ]
  },
  {
   "cell_type": "code",
   "execution_count": 56,
   "metadata": {},
   "outputs": [
    {
     "data": {
      "text/html": [
       "<div>\n",
       "<style scoped>\n",
       "    .dataframe tbody tr th:only-of-type {\n",
       "        vertical-align: middle;\n",
       "    }\n",
       "\n",
       "    .dataframe tbody tr th {\n",
       "        vertical-align: top;\n",
       "    }\n",
       "\n",
       "    .dataframe thead th {\n",
       "        text-align: right;\n",
       "    }\n",
       "</style>\n",
       "<table border=\"1\" class=\"dataframe\">\n",
       "  <thead>\n",
       "    <tr style=\"text-align: right;\">\n",
       "      <th></th>\n",
       "      <th>ID</th>\n",
       "      <th>RELEVANCE_DICT</th>\n",
       "      <th>TEXT</th>\n",
       "      <th>SOURCE</th>\n",
       "      <th>1</th>\n",
       "      <th>2</th>\n",
       "      <th>3</th>\n",
       "      <th>4</th>\n",
       "      <th>5</th>\n",
       "      <th>6</th>\n",
       "      <th>7</th>\n",
       "      <th>8</th>\n",
       "      <th>9</th>\n",
       "      <th>10</th>\n",
       "    </tr>\n",
       "  </thead>\n",
       "  <tbody>\n",
       "    <tr>\n",
       "      <th>0</th>\n",
       "      <td>1</td>\n",
       "      <td>{21064: 3, 42166: 3, 13702: 3, 20592: 3, 15740: 3, 53641: 3, 31601: 3, 54765: 3, 20506: 3, 47161: 3, 161: 1, 11595: 1, 40647: 1, 22155: 1, 18435: 1}</td>\n",
       "      <td>técnica e preço</td>\n",
       "      <td>search log</td>\n",
       "      <td>técnica e preço - Licitação de técnica e preço</td>\n",
       "      <td>técnica e preço - Licitação de técnica e preço, Proposta técnica</td>\n",
       "      <td>técnica e preço - Licitação de técnica e preço, Proposta técnica, Preço médio</td>\n",
       "      <td>técnica e preço - Licitação de técnica e preço, Proposta técnica, Preço médio, Preço de mercado</td>\n",
       "      <td>técnica e preço - Licitação de técnica e preço, Proposta técnica, Preço médio, Preço de mercado, Técnica jurídica</td>\n",
       "      <td>técnica e preço - Licitação de técnica e preço, Proposta técnica, Preço médio, Preço de mercado, Técnica jurídica, Proposta de preço</td>\n",
       "      <td>técnica e preço - Licitação de técnica e preço, Proposta técnica, Preço médio, Preço de mercado, Técnica jurídica, Proposta de preço, Preço máximo</td>\n",
       "      <td>técnica e preço - Licitação de técnica e preço, Proposta técnica, Preço médio, Preço de mercado, Técnica jurídica, Proposta de preço, Preço máximo, Preço estimado</td>\n",
       "      <td>técnica e preço - Licitação de técnica e preço, Proposta técnica, Preço médio, Preço de mercado, Técnica jurídica, Proposta de preço, Preço máximo, Preço estimado, Proposta</td>\n",
       "      <td>técnica e preço - Licitação de técnica e preço, Proposta técnica, Preço médio, Preço de mercado, Técnica jurídica, Proposta de preço, Preço máximo, Preço estimado, Proposta</td>\n",
       "    </tr>\n",
       "    <tr>\n",
       "      <th>1</th>\n",
       "      <td>2</td>\n",
       "      <td>{31437: 3, 19340: 3, 77959: 3, 17289: 2, 18452: 2, 18105: 1, 19636: 1, 31274: 0, 17258: 0, 32865: 0, 19738: 0, 104484: 0, 90647: 0, 21876: 0, 33096: 0}</td>\n",
       "      <td>restos a pagar</td>\n",
       "      <td>search log</td>\n",
       "      <td>restos a pagar - Recolhimento</td>\n",
       "      <td>restos a pagar - Recolhimento, Recompensa</td>\n",
       "      <td>restos a pagar - Recolhimento, Recompensa, Dívida</td>\n",
       "      <td>restos a pagar - Recolhimento, Recompensa, Dívida, Obrigação</td>\n",
       "      <td>restos a pagar - Recolhimento, Recompensa, Dívida, Obrigação, Nota de empenho de despesa</td>\n",
       "      <td>restos a pagar - Recolhimento, Recompensa, Dívida, Obrigação, Nota de empenho de despesa, Empenho</td>\n",
       "      <td>restos a pagar - Recolhimento, Recompensa, Dívida, Obrigação, Nota de empenho de despesa, Empenho, Recibado</td>\n",
       "      <td>restos a pagar - Recolhimento, Recompensa, Dívida, Obrigação, Nota de empenho de despesa, Empenho, Recibado, Pagamento indevido</td>\n",
       "      <td>restos a pagar - Recolhimento, Recompensa, Dívida, Obrigação, Nota de empenho de despesa, Empenho, Recibado, Pagamento indevido, Seguro de vida</td>\n",
       "      <td>restos a pagar - Recolhimento, Recompensa, Dívida, Obrigação, Nota de empenho de despesa, Empenho, Recibado, Pagamento indevido, Seguro de vida</td>\n",
       "    </tr>\n",
       "    <tr>\n",
       "      <th>2</th>\n",
       "      <td>3</td>\n",
       "      <td>{18380: 3, 31102: 3, 17240: 3, 20511: 3, 32589: 3, 20510: 3, 17816: 3, 18058: 2, 17225: 2, 57354: 2, 18003: 2, 3881: 2, 31096: 1, 20901: 1, 11621: 1}</td>\n",
       "      <td>aditivo a contrato</td>\n",
       "      <td>search log</td>\n",
       "      <td>aditivo a contrato - Termo aditivo</td>\n",
       "      <td>aditivo a contrato - Termo aditivo, Acréscimo</td>\n",
       "      <td>aditivo a contrato - Termo aditivo, Acréscimo, Reprovabilidade</td>\n",
       "      <td>aditivo a contrato - Termo aditivo, Acréscimo, Reprovabilidade, Atualização</td>\n",
       "      <td>aditivo a contrato - Termo aditivo, Acréscimo, Reprovabilidade, Atualização, Reformulação</td>\n",
       "      <td>aditivo a contrato - Termo aditivo, Acréscimo, Reprovabilidade, Atualização, Reformulação, Reenquadramento</td>\n",
       "      <td>aditivo a contrato - Termo aditivo, Acréscimo, Reprovabilidade, Atualização, Reformulação, Reenquadramento, Contrato administrativo</td>\n",
       "      <td>aditivo a contrato - Termo aditivo, Acréscimo, Reprovabilidade, Atualização, Reformulação, Reenquadramento, Contrato administrativo, Contrato de escopo</td>\n",
       "      <td>aditivo a contrato - Termo aditivo, Acréscimo, Reprovabilidade, Atualização, Reformulação, Reenquadramento, Contrato administrativo, Contrato de escopo</td>\n",
       "      <td>aditivo a contrato - Termo aditivo, Acréscimo, Reprovabilidade, Atualização, Reformulação, Reenquadramento, Contrato administrativo, Contrato de escopo</td>\n",
       "    </tr>\n",
       "    <tr>\n",
       "      <th>3</th>\n",
       "      <td>4</td>\n",
       "      <td>{16895: 3, 45015: 3, 14526: 3, 62306: 3, 6237: 3, 50537: 3, 16981: 3, 21201: 3, 77927: 3, 84935: 3, 22098: 1, 18410: 1, 8858: 1, 60811: 0, 42906: 0}</td>\n",
       "      <td>adesão a ata de registro de preços</td>\n",
       "      <td>search log</td>\n",
       "      <td>adesão a ata de registro de preços - Sistema de Registro de Preços</td>\n",
       "      <td>adesão a ata de registro de preços - Sistema de Registro de Preços, Ato sujeito a registro</td>\n",
       "      <td>adesão a ata de registro de preços - Sistema de Registro de Preços, Ato sujeito a registro, Intenção de Registro de Preços</td>\n",
       "      <td>adesão a ata de registro de preços - Sistema de Registro de Preços, Ato sujeito a registro, Intenção de Registro de Preços, Autoridade de registro</td>\n",
       "      <td>adesão a ata de registro de preços - Sistema de Registro de Preços, Ato sujeito a registro, Intenção de Registro de Preços, Autoridade de registro, Planilha de custos e formação de preços</td>\n",
       "      <td>adesão a ata de registro de preços - Sistema de Registro de Preços, Ato sujeito a registro, Intenção de Registro de Preços, Autoridade de registro, Planilha de custos e formação de preços</td>\n",
       "      <td>adesão a ata de registro de preços - Sistema de Registro de Preços, Ato sujeito a registro, Intenção de Registro de Preços, Autoridade de registro, Planilha de custos e formação de preços</td>\n",
       "      <td>adesão a ata de registro de preços - Sistema de Registro de Preços, Ato sujeito a registro, Intenção de Registro de Preços, Autoridade de registro, Planilha de custos e formação de preços</td>\n",
       "      <td>adesão a ata de registro de preços - Sistema de Registro de Preços, Ato sujeito a registro, Intenção de Registro de Preços, Autoridade de registro, Planilha de custos e formação de preços</td>\n",
       "      <td>adesão a ata de registro de preços - Sistema de Registro de Preços, Ato sujeito a registro, Intenção de Registro de Preços, Autoridade de registro, Planilha de custos e formação de preços</td>\n",
       "    </tr>\n",
       "    <tr>\n",
       "      <th>4</th>\n",
       "      <td>5</td>\n",
       "      <td>{21172: 3, 17816: 3, 4066: 3, 53003: 3, 94290: 3, 114656: 3, 50616: 3, 144170: 3, 16277: 3, 59226: 3, 18047: 2, 31612: 1, 18036: 1, 42583: 0, 29387: 0}</td>\n",
       "      <td>sobrepreço e superfaturamento</td>\n",
       "      <td>search log</td>\n",
       "      <td>sobrepreço e superfaturamento - Faturamento</td>\n",
       "      <td>sobrepreço e superfaturamento - Faturamento, Excesso</td>\n",
       "      <td>sobrepreço e superfaturamento - Faturamento, Excesso, Preço</td>\n",
       "      <td>sobrepreço e superfaturamento - Faturamento, Excesso, Preço, Validade</td>\n",
       "      <td>sobrepreço e superfaturamento - Faturamento, Excesso, Preço, Validade, Licitação</td>\n",
       "      <td>sobrepreço e superfaturamento - Faturamento, Excesso, Preço, Validade, Licitação, Indústria, inovação e infraestrutura</td>\n",
       "      <td>sobrepreço e superfaturamento - Faturamento, Excesso, Preço, Validade, Licitação, Indústria, inovação e infraestrutura, Bens e serviços de informática</td>\n",
       "      <td>sobrepreço e superfaturamento - Faturamento, Excesso, Preço, Validade, Licitação, Indústria, inovação e infraestrutura, Bens e serviços de informática, Paz, justiça e instituições fortes</td>\n",
       "      <td>sobrepreço e superfaturamento - Faturamento, Excesso, Preço, Validade, Licitação, Indústria, inovação e infraestrutura, Bens e serviços de informática, Paz, justiça e instituições fortes</td>\n",
       "      <td>sobrepreço e superfaturamento - Faturamento, Excesso, Preço, Validade, Licitação, Indústria, inovação e infraestrutura, Bens e serviços de informática, Paz, justiça e instituições fortes</td>\n",
       "    </tr>\n",
       "  </tbody>\n",
       "</table>\n",
       "</div>"
      ],
      "text/plain": [
       "   ID                                                                                                                                           RELEVANCE_DICT                                TEXT  \\\n",
       "0   1     {21064: 3, 42166: 3, 13702: 3, 20592: 3, 15740: 3, 53641: 3, 31601: 3, 54765: 3, 20506: 3, 47161: 3, 161: 1, 11595: 1, 40647: 1, 22155: 1, 18435: 1}                     técnica e preço   \n",
       "1   2  {31437: 3, 19340: 3, 77959: 3, 17289: 2, 18452: 2, 18105: 1, 19636: 1, 31274: 0, 17258: 0, 32865: 0, 19738: 0, 104484: 0, 90647: 0, 21876: 0, 33096: 0}                      restos a pagar   \n",
       "2   3    {18380: 3, 31102: 3, 17240: 3, 20511: 3, 32589: 3, 20510: 3, 17816: 3, 18058: 2, 17225: 2, 57354: 2, 18003: 2, 3881: 2, 31096: 1, 20901: 1, 11621: 1}                  aditivo a contrato   \n",
       "3   4     {16895: 3, 45015: 3, 14526: 3, 62306: 3, 6237: 3, 50537: 3, 16981: 3, 21201: 3, 77927: 3, 84935: 3, 22098: 1, 18410: 1, 8858: 1, 60811: 0, 42906: 0}  adesão a ata de registro de preços   \n",
       "4   5  {21172: 3, 17816: 3, 4066: 3, 53003: 3, 94290: 3, 114656: 3, 50616: 3, 144170: 3, 16277: 3, 59226: 3, 18047: 2, 31612: 1, 18036: 1, 42583: 0, 29387: 0}       sobrepreço e superfaturamento   \n",
       "\n",
       "       SOURCE                                                                   1                                                                                           2  \\\n",
       "0  search log                      técnica e preço - Licitação de técnica e preço                            técnica e preço - Licitação de técnica e preço, Proposta técnica   \n",
       "1  search log                                       restos a pagar - Recolhimento                                                   restos a pagar - Recolhimento, Recompensa   \n",
       "2  search log                                  aditivo a contrato - Termo aditivo                                               aditivo a contrato - Termo aditivo, Acréscimo   \n",
       "3  search log  adesão a ata de registro de preços - Sistema de Registro de Preços  adesão a ata de registro de preços - Sistema de Registro de Preços, Ato sujeito a registro   \n",
       "4  search log                         sobrepreço e superfaturamento - Faturamento                                        sobrepreço e superfaturamento - Faturamento, Excesso   \n",
       "\n",
       "                                                                                                                            3  \\\n",
       "0                                               técnica e preço - Licitação de técnica e preço, Proposta técnica, Preço médio   \n",
       "1                                                                           restos a pagar - Recolhimento, Recompensa, Dívida   \n",
       "2                                                              aditivo a contrato - Termo aditivo, Acréscimo, Reprovabilidade   \n",
       "3  adesão a ata de registro de preços - Sistema de Registro de Preços, Ato sujeito a registro, Intenção de Registro de Preços   \n",
       "4                                                                 sobrepreço e superfaturamento - Faturamento, Excesso, Preço   \n",
       "\n",
       "                                                                                                                                                    4  \\\n",
       "0                                                     técnica e preço - Licitação de técnica e preço, Proposta técnica, Preço médio, Preço de mercado   \n",
       "1                                                                                        restos a pagar - Recolhimento, Recompensa, Dívida, Obrigação   \n",
       "2                                                                         aditivo a contrato - Termo aditivo, Acréscimo, Reprovabilidade, Atualização   \n",
       "3  adesão a ata de registro de preços - Sistema de Registro de Preços, Ato sujeito a registro, Intenção de Registro de Preços, Autoridade de registro   \n",
       "4                                                                               sobrepreço e superfaturamento - Faturamento, Excesso, Preço, Validade   \n",
       "\n",
       "                                                                                                                                                                                             5  \\\n",
       "0                                                                            técnica e preço - Licitação de técnica e preço, Proposta técnica, Preço médio, Preço de mercado, Técnica jurídica   \n",
       "1                                                                                                     restos a pagar - Recolhimento, Recompensa, Dívida, Obrigação, Nota de empenho de despesa   \n",
       "2                                                                                                    aditivo a contrato - Termo aditivo, Acréscimo, Reprovabilidade, Atualização, Reformulação   \n",
       "3  adesão a ata de registro de preços - Sistema de Registro de Preços, Ato sujeito a registro, Intenção de Registro de Preços, Autoridade de registro, Planilha de custos e formação de preços   \n",
       "4                                                                                                             sobrepreço e superfaturamento - Faturamento, Excesso, Preço, Validade, Licitação   \n",
       "\n",
       "                                                                                                                                                                                             6  \\\n",
       "0                                                         técnica e preço - Licitação de técnica e preço, Proposta técnica, Preço médio, Preço de mercado, Técnica jurídica, Proposta de preço   \n",
       "1                                                                                            restos a pagar - Recolhimento, Recompensa, Dívida, Obrigação, Nota de empenho de despesa, Empenho   \n",
       "2                                                                                   aditivo a contrato - Termo aditivo, Acréscimo, Reprovabilidade, Atualização, Reformulação, Reenquadramento   \n",
       "3  adesão a ata de registro de preços - Sistema de Registro de Preços, Ato sujeito a registro, Intenção de Registro de Preços, Autoridade de registro, Planilha de custos e formação de preços   \n",
       "4                                                                       sobrepreço e superfaturamento - Faturamento, Excesso, Preço, Validade, Licitação, Indústria, inovação e infraestrutura   \n",
       "\n",
       "                                                                                                                                                                                             7  \\\n",
       "0                                           técnica e preço - Licitação de técnica e preço, Proposta técnica, Preço médio, Preço de mercado, Técnica jurídica, Proposta de preço, Preço máximo   \n",
       "1                                                                                  restos a pagar - Recolhimento, Recompensa, Dívida, Obrigação, Nota de empenho de despesa, Empenho, Recibado   \n",
       "2                                                          aditivo a contrato - Termo aditivo, Acréscimo, Reprovabilidade, Atualização, Reformulação, Reenquadramento, Contrato administrativo   \n",
       "3  adesão a ata de registro de preços - Sistema de Registro de Preços, Ato sujeito a registro, Intenção de Registro de Preços, Autoridade de registro, Planilha de custos e formação de preços   \n",
       "4                                       sobrepreço e superfaturamento - Faturamento, Excesso, Preço, Validade, Licitação, Indústria, inovação e infraestrutura, Bens e serviços de informática   \n",
       "\n",
       "                                                                                                                                                                                             8  \\\n",
       "0                           técnica e preço - Licitação de técnica e preço, Proposta técnica, Preço médio, Preço de mercado, Técnica jurídica, Proposta de preço, Preço máximo, Preço estimado   \n",
       "1                                                              restos a pagar - Recolhimento, Recompensa, Dívida, Obrigação, Nota de empenho de despesa, Empenho, Recibado, Pagamento indevido   \n",
       "2                                      aditivo a contrato - Termo aditivo, Acréscimo, Reprovabilidade, Atualização, Reformulação, Reenquadramento, Contrato administrativo, Contrato de escopo   \n",
       "3  adesão a ata de registro de preços - Sistema de Registro de Preços, Ato sujeito a registro, Intenção de Registro de Preços, Autoridade de registro, Planilha de custos e formação de preços   \n",
       "4   sobrepreço e superfaturamento - Faturamento, Excesso, Preço, Validade, Licitação, Indústria, inovação e infraestrutura, Bens e serviços de informática, Paz, justiça e instituições fortes   \n",
       "\n",
       "                                                                                                                                                                                             9  \\\n",
       "0                 técnica e preço - Licitação de técnica e preço, Proposta técnica, Preço médio, Preço de mercado, Técnica jurídica, Proposta de preço, Preço máximo, Preço estimado, Proposta   \n",
       "1                                              restos a pagar - Recolhimento, Recompensa, Dívida, Obrigação, Nota de empenho de despesa, Empenho, Recibado, Pagamento indevido, Seguro de vida   \n",
       "2                                      aditivo a contrato - Termo aditivo, Acréscimo, Reprovabilidade, Atualização, Reformulação, Reenquadramento, Contrato administrativo, Contrato de escopo   \n",
       "3  adesão a ata de registro de preços - Sistema de Registro de Preços, Ato sujeito a registro, Intenção de Registro de Preços, Autoridade de registro, Planilha de custos e formação de preços   \n",
       "4   sobrepreço e superfaturamento - Faturamento, Excesso, Preço, Validade, Licitação, Indústria, inovação e infraestrutura, Bens e serviços de informática, Paz, justiça e instituições fortes   \n",
       "\n",
       "                                                                                                                                                                                            10  \n",
       "0                 técnica e preço - Licitação de técnica e preço, Proposta técnica, Preço médio, Preço de mercado, Técnica jurídica, Proposta de preço, Preço máximo, Preço estimado, Proposta  \n",
       "1                                              restos a pagar - Recolhimento, Recompensa, Dívida, Obrigação, Nota de empenho de despesa, Empenho, Recibado, Pagamento indevido, Seguro de vida  \n",
       "2                                      aditivo a contrato - Termo aditivo, Acréscimo, Reprovabilidade, Atualização, Reformulação, Reenquadramento, Contrato administrativo, Contrato de escopo  \n",
       "3  adesão a ata de registro de preços - Sistema de Registro de Preços, Ato sujeito a registro, Intenção de Registro de Preços, Autoridade de registro, Planilha de custos e formação de preços  \n",
       "4   sobrepreço e superfaturamento - Faturamento, Excesso, Preço, Validade, Licitação, Indústria, inovação e infraestrutura, Bens e serviços de informática, Paz, justiça e instituições fortes  "
      ]
     },
     "execution_count": 56,
     "metadata": {},
     "output_type": "execute_result"
    }
   ],
   "source": [
    "df_search_data.head()"
   ]
  },
  {
   "cell_type": "code",
   "execution_count": null,
   "metadata": {},
   "outputs": [
    {
     "ename": "Exception",
     "evalue": "Stop execution - create only desired pipelines in code below ",
     "output_type": "error",
     "traceback": [
      "\u001b[0;31m---------------------------------------------------------------------------\u001b[0m\n",
      "\u001b[0;31mException\u001b[0m                                 Traceback (most recent call last)\n",
      "\u001b[0;32m/tmp/ipykernel_1111730/2302163279.py\u001b[0m in \u001b[0;36m<module>\u001b[0;34m\u001b[0m\n",
      "\u001b[0;32m----> 1\u001b[0;31m \u001b[0;32mraise\u001b[0m \u001b[0mException\u001b[0m \u001b[0;34m(\u001b[0m\u001b[0;34m'Stop execution - create only desired pipelines in code below '\u001b[0m\u001b[0;34m)\u001b[0m\u001b[0;34m\u001b[0m\u001b[0;34m\u001b[0m\u001b[0m\n",
      "\u001b[0m\n",
      "\u001b[0;31mException\u001b[0m: Stop execution - create only desired pipelines in code below "
     ]
    }
   ],
   "source": [
    "raise Exception ('Stop execution - create only desired pipelines in code below ')"
   ]
  },
  {
   "cell_type": "code",
   "execution_count": null,
   "metadata": {},
   "outputs": [
    {
     "data": {
      "text/plain": [
       "<module 'util.util_experiment_juris_tcu' from '/home/borela/fontes/ind-ir/code/util/util_experiment_juris_tcu.py'>"
      ]
     },
     "execution_count": 110,
     "metadata": {},
     "output_type": "execute_result"
    }
   ],
   "source": [
    "importlib.reload(util_experiment)"
   ]
  },
  {
   "cell_type": "code",
   "execution_count": 57,
   "metadata": {},
   "outputs": [],
   "source": [
    "consider_run_all = True"
   ]
  },
  {
   "cell_type": "code",
   "execution_count": 59,
   "metadata": {},
   "outputs": [
    {
     "name": "stdout",
     "output_type": "stream",
     "text": [
      "==1==  2023-Jun-28 08:06:53 \n",
      "Experiment: {'TOPK_RETRIEVER': 300, 'TOPK_RANKER': 0, 'EXPANSOR_CRITERIA': 'join_bm25_sts_30_minilm_indir', 'INDEX_NAME': 'indir_juris_tcu', 'PIPE': {'PIPE_OBJECT': <haystack.pipelines.base.Pipeline object at 0x7f1dbb3bfe10>, 'RETRIEVER_TYPE': 'join', 'RANKER_TYPE': 'MINILM_INDIR_400', 'RETRIEVER_MODEL_NAME': ''}, 'COLUMN_NAME': '1'}\n",
      "Experimento envolverá 150 registros, toda a base de dados\n"
     ]
    },
    {
     "name": "stderr",
     "output_type": "stream",
     "text": [
      "100%|██████████| 150/150 [01:06<00:00,  2.27it/s]\n"
     ]
    },
    {
     "name": "stdout",
     "output_type": "stream",
     "text": [
      "COLUMN_NAME: 1\n",
      "COUNT_QUERY_RUN: 150\n",
      "COUNT_QUERY_WITHOUT_RESULT: 0\n",
      "COUNT_QUERY_NOT_FOUND: 0\n",
      "RANK1_MEAN: 4.54\n",
      "NDCG@5_MEAN: 46.697\n",
      "NDCG@10_MEAN: 43.747\n",
      "NDCG@15_MEAN: 46.538\n",
      "NDCG@20_MEAN: 48.743\n",
      "PRECISION@50_MEAN: 12.24\n",
      "PRECISION@100_MEAN: 7.013\n",
      "RECALL@50_MEAN: 40.8\n",
      "RECALL@100_MEAN: 46.756\n",
      "TIME_SPENT_MEAN: 0.441\n",
      "==2==  2023-Jun-28 08:08:01 \n",
      "Experiment: {'TOPK_RETRIEVER': 300, 'TOPK_RANKER': 0, 'EXPANSOR_CRITERIA': 'join_bm25_sts_30_minilm_indir', 'INDEX_NAME': 'indir_juris_tcu', 'PIPE': {'PIPE_OBJECT': <haystack.pipelines.base.Pipeline object at 0x7f1dbb3bfe10>, 'RETRIEVER_TYPE': 'join', 'RANKER_TYPE': 'MINILM_INDIR_400', 'RETRIEVER_MODEL_NAME': ''}, 'COLUMN_NAME': '10'}\n",
      "Experimento envolverá 150 registros, toda a base de dados\n"
     ]
    },
    {
     "name": "stderr",
     "output_type": "stream",
     "text": [
      "100%|██████████| 150/150 [01:17<00:00,  1.93it/s]\n"
     ]
    },
    {
     "name": "stdout",
     "output_type": "stream",
     "text": [
      "COLUMN_NAME: 10\n",
      "COUNT_QUERY_RUN: 150\n",
      "COUNT_QUERY_WITHOUT_RESULT: 0\n",
      "COUNT_QUERY_NOT_FOUND: 1\n",
      "RANK1_MEAN: 3.711\n",
      "NDCG@5_MEAN: 51.804\n",
      "NDCG@10_MEAN: 48.376\n",
      "NDCG@15_MEAN: 50.98\n",
      "NDCG@20_MEAN: 53.627\n",
      "PRECISION@50_MEAN: 12.44\n",
      "PRECISION@100_MEAN: 6.907\n",
      "RECALL@50_MEAN: 41.467\n",
      "RECALL@100_MEAN: 46.044\n",
      "TIME_SPENT_MEAN: 0.517\n",
      "==3==  2023-Jun-28 08:09:20 \n",
      "Experiment: {'TOPK_RETRIEVER': 300, 'TOPK_RANKER': 0, 'EXPANSOR_CRITERIA': 'join_bm25_sts_30_minilm_indir', 'INDEX_NAME': 'indir_juris_tcu', 'PIPE': {'PIPE_OBJECT': <haystack.pipelines.base.Pipeline object at 0x7f1dbb3bfe10>, 'RETRIEVER_TYPE': 'join', 'RANKER_TYPE': 'MINILM_INDIR_400', 'RETRIEVER_MODEL_NAME': ''}, 'COLUMN_NAME': '2'}\n",
      "Experimento envolverá 150 registros, toda a base de dados\n"
     ]
    },
    {
     "name": "stderr",
     "output_type": "stream",
     "text": [
      "100%|██████████| 150/150 [01:08<00:00,  2.19it/s]\n"
     ]
    },
    {
     "name": "stdout",
     "output_type": "stream",
     "text": [
      "COLUMN_NAME: 2\n",
      "COUNT_QUERY_RUN: 150\n",
      "COUNT_QUERY_WITHOUT_RESULT: 0\n",
      "COUNT_QUERY_NOT_FOUND: 0\n",
      "RANK1_MEAN: 4.433\n",
      "NDCG@5_MEAN: 47.636\n",
      "NDCG@10_MEAN: 44.962\n",
      "NDCG@15_MEAN: 47.054\n",
      "NDCG@20_MEAN: 49.88\n",
      "PRECISION@50_MEAN: 12.493\n",
      "PRECISION@100_MEAN: 7.027\n",
      "RECALL@50_MEAN: 41.644\n",
      "RECALL@100_MEAN: 46.844\n",
      "TIME_SPENT_MEAN: 0.456\n",
      "==4==  2023-Jun-28 08:10:30 \n",
      "Experiment: {'TOPK_RETRIEVER': 300, 'TOPK_RANKER': 0, 'EXPANSOR_CRITERIA': 'join_bm25_sts_30_minilm_indir', 'INDEX_NAME': 'indir_juris_tcu', 'PIPE': {'PIPE_OBJECT': <haystack.pipelines.base.Pipeline object at 0x7f1dbb3bfe10>, 'RETRIEVER_TYPE': 'join', 'RANKER_TYPE': 'MINILM_INDIR_400', 'RETRIEVER_MODEL_NAME': ''}, 'COLUMN_NAME': '3'}\n",
      "Experimento envolverá 150 registros, toda a base de dados\n"
     ]
    },
    {
     "name": "stderr",
     "output_type": "stream",
     "text": [
      "100%|██████████| 150/150 [01:10<00:00,  2.13it/s]\n"
     ]
    },
    {
     "name": "stdout",
     "output_type": "stream",
     "text": [
      "COLUMN_NAME: 3\n",
      "COUNT_QUERY_RUN: 150\n",
      "COUNT_QUERY_WITHOUT_RESULT: 0\n",
      "COUNT_QUERY_NOT_FOUND: 0\n",
      "RANK1_MEAN: 4.653\n",
      "NDCG@5_MEAN: 47.019\n",
      "NDCG@10_MEAN: 44.435\n",
      "NDCG@15_MEAN: 46.521\n",
      "NDCG@20_MEAN: 49.096\n",
      "PRECISION@50_MEAN: 12.107\n",
      "PRECISION@100_MEAN: 6.873\n",
      "RECALL@50_MEAN: 40.356\n",
      "RECALL@100_MEAN: 45.822\n",
      "TIME_SPENT_MEAN: 0.469\n",
      "==5==  2023-Jun-28 08:11:42 \n",
      "Experiment: {'TOPK_RETRIEVER': 300, 'TOPK_RANKER': 0, 'EXPANSOR_CRITERIA': 'join_bm25_sts_30_minilm_indir', 'INDEX_NAME': 'indir_juris_tcu', 'PIPE': {'PIPE_OBJECT': <haystack.pipelines.base.Pipeline object at 0x7f1dbb3bfe10>, 'RETRIEVER_TYPE': 'join', 'RANKER_TYPE': 'MINILM_INDIR_400', 'RETRIEVER_MODEL_NAME': ''}, 'COLUMN_NAME': '4'}\n",
      "Experimento envolverá 150 registros, toda a base de dados\n"
     ]
    },
    {
     "name": "stderr",
     "output_type": "stream",
     "text": [
      "100%|██████████| 150/150 [01:11<00:00,  2.09it/s]\n"
     ]
    },
    {
     "name": "stdout",
     "output_type": "stream",
     "text": [
      "COLUMN_NAME: 4\n",
      "COUNT_QUERY_RUN: 150\n",
      "COUNT_QUERY_WITHOUT_RESULT: 0\n",
      "COUNT_QUERY_NOT_FOUND: 0\n",
      "RANK1_MEAN: 4.52\n",
      "NDCG@5_MEAN: 48.154\n",
      "NDCG@10_MEAN: 45.427\n",
      "NDCG@15_MEAN: 47.753\n",
      "NDCG@20_MEAN: 50.203\n",
      "PRECISION@50_MEAN: 12.213\n",
      "PRECISION@100_MEAN: 6.973\n",
      "RECALL@50_MEAN: 40.711\n",
      "RECALL@100_MEAN: 46.489\n",
      "TIME_SPENT_MEAN: 0.479\n",
      "==6==  2023-Jun-28 08:12:56 \n",
      "Experiment: {'TOPK_RETRIEVER': 300, 'TOPK_RANKER': 0, 'EXPANSOR_CRITERIA': 'join_bm25_sts_30_minilm_indir', 'INDEX_NAME': 'indir_juris_tcu', 'PIPE': {'PIPE_OBJECT': <haystack.pipelines.base.Pipeline object at 0x7f1dbb3bfe10>, 'RETRIEVER_TYPE': 'join', 'RANKER_TYPE': 'MINILM_INDIR_400', 'RETRIEVER_MODEL_NAME': ''}, 'COLUMN_NAME': '5'}\n",
      "Experimento envolverá 150 registros, toda a base de dados\n"
     ]
    },
    {
     "name": "stderr",
     "output_type": "stream",
     "text": [
      "100%|██████████| 150/150 [01:13<00:00,  2.05it/s]\n"
     ]
    },
    {
     "name": "stdout",
     "output_type": "stream",
     "text": [
      "COLUMN_NAME: 5\n",
      "COUNT_QUERY_RUN: 150\n",
      "COUNT_QUERY_WITHOUT_RESULT: 0\n",
      "COUNT_QUERY_NOT_FOUND: 0\n",
      "RANK1_MEAN: 4.173\n",
      "NDCG@5_MEAN: 50.238\n",
      "NDCG@10_MEAN: 46.724\n",
      "NDCG@15_MEAN: 49.406\n",
      "NDCG@20_MEAN: 51.766\n",
      "PRECISION@50_MEAN: 12.44\n",
      "PRECISION@100_MEAN: 7.053\n",
      "RECALL@50_MEAN: 41.467\n",
      "RECALL@100_MEAN: 47.022\n",
      "TIME_SPENT_MEAN: 0.489\n",
      "==7==  2023-Jun-28 08:14:11 \n",
      "Experiment: {'TOPK_RETRIEVER': 300, 'TOPK_RANKER': 0, 'EXPANSOR_CRITERIA': 'join_bm25_sts_30_minilm_indir', 'INDEX_NAME': 'indir_juris_tcu', 'PIPE': {'PIPE_OBJECT': <haystack.pipelines.base.Pipeline object at 0x7f1dbb3bfe10>, 'RETRIEVER_TYPE': 'join', 'RANKER_TYPE': 'MINILM_INDIR_400', 'RETRIEVER_MODEL_NAME': ''}, 'COLUMN_NAME': '6'}\n",
      "Experimento envolverá 150 registros, toda a base de dados\n"
     ]
    },
    {
     "name": "stderr",
     "output_type": "stream",
     "text": [
      "100%|██████████| 150/150 [01:15<00:00,  1.99it/s]\n"
     ]
    },
    {
     "name": "stdout",
     "output_type": "stream",
     "text": [
      "COLUMN_NAME: 6\n",
      "COUNT_QUERY_RUN: 150\n",
      "COUNT_QUERY_WITHOUT_RESULT: 0\n",
      "COUNT_QUERY_NOT_FOUND: 0\n",
      "RANK1_MEAN: 4.713\n",
      "NDCG@5_MEAN: 49.285\n",
      "NDCG@10_MEAN: 46.826\n",
      "NDCG@15_MEAN: 49.207\n",
      "NDCG@20_MEAN: 52.164\n",
      "PRECISION@50_MEAN: 12.707\n",
      "PRECISION@100_MEAN: 7.107\n",
      "RECALL@50_MEAN: 42.356\n",
      "RECALL@100_MEAN: 47.378\n",
      "TIME_SPENT_MEAN: 0.504\n",
      "==8==  2023-Jun-28 08:15:29 \n",
      "Experiment: {'TOPK_RETRIEVER': 300, 'TOPK_RANKER': 0, 'EXPANSOR_CRITERIA': 'join_bm25_sts_30_minilm_indir', 'INDEX_NAME': 'indir_juris_tcu', 'PIPE': {'PIPE_OBJECT': <haystack.pipelines.base.Pipeline object at 0x7f1dbb3bfe10>, 'RETRIEVER_TYPE': 'join', 'RANKER_TYPE': 'MINILM_INDIR_400', 'RETRIEVER_MODEL_NAME': ''}, 'COLUMN_NAME': '7'}\n",
      "Experimento envolverá 150 registros, toda a base de dados\n"
     ]
    },
    {
     "name": "stderr",
     "output_type": "stream",
     "text": [
      "100%|██████████| 150/150 [01:15<00:00,  2.00it/s]\n"
     ]
    },
    {
     "name": "stdout",
     "output_type": "stream",
     "text": [
      "COLUMN_NAME: 7\n",
      "COUNT_QUERY_RUN: 150\n",
      "COUNT_QUERY_WITHOUT_RESULT: 0\n",
      "COUNT_QUERY_NOT_FOUND: 0\n",
      "RANK1_MEAN: 4.967\n",
      "NDCG@5_MEAN: 50.664\n",
      "NDCG@10_MEAN: 47.373\n",
      "NDCG@15_MEAN: 50.327\n",
      "NDCG@20_MEAN: 53.147\n",
      "PRECISION@50_MEAN: 12.573\n",
      "PRECISION@100_MEAN: 7.087\n",
      "RECALL@50_MEAN: 41.911\n",
      "RECALL@100_MEAN: 47.244\n",
      "TIME_SPENT_MEAN: 0.5\n",
      "==9==  2023-Jun-28 08:16:45 \n",
      "Experiment: {'TOPK_RETRIEVER': 300, 'TOPK_RANKER': 0, 'EXPANSOR_CRITERIA': 'join_bm25_sts_30_minilm_indir', 'INDEX_NAME': 'indir_juris_tcu', 'PIPE': {'PIPE_OBJECT': <haystack.pipelines.base.Pipeline object at 0x7f1dbb3bfe10>, 'RETRIEVER_TYPE': 'join', 'RANKER_TYPE': 'MINILM_INDIR_400', 'RETRIEVER_MODEL_NAME': ''}, 'COLUMN_NAME': '8'}\n",
      "Experimento envolverá 150 registros, toda a base de dados\n"
     ]
    },
    {
     "name": "stderr",
     "output_type": "stream",
     "text": [
      "100%|██████████| 150/150 [01:15<00:00,  1.97it/s]\n"
     ]
    },
    {
     "name": "stdout",
     "output_type": "stream",
     "text": [
      "COLUMN_NAME: 8\n",
      "COUNT_QUERY_RUN: 150\n",
      "COUNT_QUERY_WITHOUT_RESULT: 0\n",
      "COUNT_QUERY_NOT_FOUND: 1\n",
      "RANK1_MEAN: 4.094\n",
      "NDCG@5_MEAN: 51.691\n",
      "NDCG@10_MEAN: 48.345\n",
      "NDCG@15_MEAN: 51.05\n",
      "NDCG@20_MEAN: 53.579\n",
      "PRECISION@50_MEAN: 12.493\n",
      "PRECISION@100_MEAN: 6.96\n",
      "RECALL@50_MEAN: 41.644\n",
      "RECALL@100_MEAN: 46.4\n",
      "TIME_SPENT_MEAN: 0.506\n",
      "==10==  2023-Jun-28 08:18:03 \n",
      "Experiment: {'TOPK_RETRIEVER': 300, 'TOPK_RANKER': 0, 'EXPANSOR_CRITERIA': 'join_bm25_sts_30_minilm_indir', 'INDEX_NAME': 'indir_juris_tcu', 'PIPE': {'PIPE_OBJECT': <haystack.pipelines.base.Pipeline object at 0x7f1dbb3bfe10>, 'RETRIEVER_TYPE': 'join', 'RANKER_TYPE': 'MINILM_INDIR_400', 'RETRIEVER_MODEL_NAME': ''}, 'COLUMN_NAME': '9'}\n",
      "Experimento envolverá 150 registros, toda a base de dados\n"
     ]
    },
    {
     "name": "stderr",
     "output_type": "stream",
     "text": [
      "100%|██████████| 150/150 [01:16<00:00,  1.96it/s]\n"
     ]
    },
    {
     "name": "stdout",
     "output_type": "stream",
     "text": [
      "COLUMN_NAME: 9\n",
      "COUNT_QUERY_RUN: 150\n",
      "COUNT_QUERY_WITHOUT_RESULT: 0\n",
      "COUNT_QUERY_NOT_FOUND: 1\n",
      "RANK1_MEAN: 3.987\n",
      "NDCG@5_MEAN: 51.638\n",
      "NDCG@10_MEAN: 48.357\n",
      "NDCG@15_MEAN: 50.86\n",
      "NDCG@20_MEAN: 53.588\n",
      "PRECISION@50_MEAN: 12.48\n",
      "PRECISION@100_MEAN: 6.933\n",
      "RECALL@50_MEAN: 41.6\n",
      "RECALL@100_MEAN: 46.222\n",
      "TIME_SPENT_MEAN: 0.511\n",
      "==11==  2023-Jun-28 08:19:22 \n",
      "Experiment: {'TOPK_RETRIEVER': 300, 'TOPK_RANKER': 0, 'EXPANSOR_CRITERIA': '', 'INDEX_NAME': 'indir_juris_tcu', 'PIPE': {'PIPE_OBJECT': <haystack.pipelines.base.Pipeline object at 0x7f1dbb3bfe10>, 'RETRIEVER_TYPE': 'join', 'RANKER_TYPE': 'MINILM_INDIR_400', 'RETRIEVER_MODEL_NAME': ''}, 'COLUMN_NAME': 'TEXT'}\n",
      "Experimento envolverá 150 registros, toda a base de dados\n"
     ]
    },
    {
     "name": "stderr",
     "output_type": "stream",
     "text": [
      "100%|██████████| 150/150 [01:04<00:00,  2.32it/s]\n"
     ]
    },
    {
     "name": "stdout",
     "output_type": "stream",
     "text": [
      "COLUMN_NAME: TEXT\n",
      "COUNT_QUERY_RUN: 150\n",
      "COUNT_QUERY_WITHOUT_RESULT: 0\n",
      "COUNT_QUERY_NOT_FOUND: 0\n",
      "RANK1_MEAN: 3.587\n",
      "NDCG@5_MEAN: 46.359\n",
      "NDCG@10_MEAN: 44.504\n",
      "NDCG@15_MEAN: 47.482\n",
      "NDCG@20_MEAN: 50.301\n",
      "PRECISION@50_MEAN: 12.787\n",
      "PRECISION@100_MEAN: 7.373\n",
      "RECALL@50_MEAN: 42.622\n",
      "RECALL@100_MEAN: 49.156\n",
      "TIME_SPENT_MEAN: 0.431\n",
      "==12==  2023-Jun-28 08:20:28 \n",
      "Experiment: {'TOPK_RETRIEVER': 300, 'TOPK_RANKER': 0, 'EXPANSOR_CRITERIA': 'join_bm25_sts_30_minilm_indir', 'INDEX_NAME': 'indir_juris_tcu_term', 'PIPE': {'PIPE_OBJECT': <haystack.pipelines.base.Pipeline object at 0x7f1dc4624910>, 'RETRIEVER_TYPE': 'join', 'RANKER_TYPE': 'MINILM_INDIR_400', 'RETRIEVER_MODEL_NAME': ''}, 'COLUMN_NAME': '1'}\n",
      "Experimento envolverá 150 registros, toda a base de dados\n"
     ]
    },
    {
     "name": "stderr",
     "output_type": "stream",
     "text": [
      "100%|██████████| 150/150 [01:10<00:00,  2.14it/s]\n"
     ]
    },
    {
     "name": "stdout",
     "output_type": "stream",
     "text": [
      "COLUMN_NAME: 1\n",
      "COUNT_QUERY_RUN: 150\n",
      "COUNT_QUERY_WITHOUT_RESULT: 0\n",
      "COUNT_QUERY_NOT_FOUND: 0\n",
      "RANK1_MEAN: 3.44\n",
      "NDCG@5_MEAN: 52.046\n",
      "NDCG@10_MEAN: 48.597\n",
      "NDCG@15_MEAN: 51.871\n",
      "NDCG@20_MEAN: 54.117\n",
      "PRECISION@50_MEAN: 12.987\n",
      "PRECISION@100_MEAN: 7.447\n",
      "RECALL@50_MEAN: 43.289\n",
      "RECALL@100_MEAN: 49.645\n",
      "TIME_SPENT_MEAN: 0.468\n",
      "==13==  2023-Jun-28 08:21:40 \n",
      "Experiment: {'TOPK_RETRIEVER': 300, 'TOPK_RANKER': 0, 'EXPANSOR_CRITERIA': 'join_bm25_sts_30_minilm_indir', 'INDEX_NAME': 'indir_juris_tcu_term', 'PIPE': {'PIPE_OBJECT': <haystack.pipelines.base.Pipeline object at 0x7f1dc4624910>, 'RETRIEVER_TYPE': 'join', 'RANKER_TYPE': 'MINILM_INDIR_400', 'RETRIEVER_MODEL_NAME': ''}, 'COLUMN_NAME': '10'}\n",
      "Experimento envolverá 150 registros, toda a base de dados\n"
     ]
    },
    {
     "name": "stderr",
     "output_type": "stream",
     "text": [
      "100%|██████████| 150/150 [01:17<00:00,  1.94it/s]\n"
     ]
    },
    {
     "name": "stdout",
     "output_type": "stream",
     "text": [
      "COLUMN_NAME: 10\n",
      "COUNT_QUERY_RUN: 150\n",
      "COUNT_QUERY_WITHOUT_RESULT: 0\n",
      "COUNT_QUERY_NOT_FOUND: 0\n",
      "RANK1_MEAN: 4.393\n",
      "NDCG@5_MEAN: 52.331\n",
      "NDCG@10_MEAN: 48.798\n",
      "NDCG@15_MEAN: 51.946\n",
      "NDCG@20_MEAN: 54.367\n",
      "PRECISION@50_MEAN: 12.6\n",
      "PRECISION@100_MEAN: 7.167\n",
      "RECALL@50_MEAN: 42.0\n",
      "RECALL@100_MEAN: 47.778\n",
      "TIME_SPENT_MEAN: 0.516\n",
      "==14==  2023-Jun-28 08:22:59 \n",
      "Experiment: {'TOPK_RETRIEVER': 300, 'TOPK_RANKER': 0, 'EXPANSOR_CRITERIA': 'join_bm25_sts_30_minilm_indir', 'INDEX_NAME': 'indir_juris_tcu_term', 'PIPE': {'PIPE_OBJECT': <haystack.pipelines.base.Pipeline object at 0x7f1dc4624910>, 'RETRIEVER_TYPE': 'join', 'RANKER_TYPE': 'MINILM_INDIR_400', 'RETRIEVER_MODEL_NAME': ''}, 'COLUMN_NAME': '2'}\n",
      "Experimento envolverá 150 registros, toda a base de dados\n"
     ]
    },
    {
     "name": "stderr",
     "output_type": "stream",
     "text": [
      "100%|██████████| 150/150 [01:11<00:00,  2.11it/s]\n"
     ]
    },
    {
     "name": "stdout",
     "output_type": "stream",
     "text": [
      "COLUMN_NAME: 2\n",
      "COUNT_QUERY_RUN: 150\n",
      "COUNT_QUERY_WITHOUT_RESULT: 0\n",
      "COUNT_QUERY_NOT_FOUND: 0\n",
      "RANK1_MEAN: 3.52\n",
      "NDCG@5_MEAN: 53.315\n",
      "NDCG@10_MEAN: 49.484\n",
      "NDCG@15_MEAN: 52.407\n",
      "NDCG@20_MEAN: 54.93\n",
      "PRECISION@50_MEAN: 13.227\n",
      "PRECISION@100_MEAN: 7.467\n",
      "RECALL@50_MEAN: 44.089\n",
      "RECALL@100_MEAN: 49.778\n",
      "TIME_SPENT_MEAN: 0.474\n",
      "==15==  2023-Jun-28 08:24:12 \n",
      "Experiment: {'TOPK_RETRIEVER': 300, 'TOPK_RANKER': 0, 'EXPANSOR_CRITERIA': 'join_bm25_sts_30_minilm_indir', 'INDEX_NAME': 'indir_juris_tcu_term', 'PIPE': {'PIPE_OBJECT': <haystack.pipelines.base.Pipeline object at 0x7f1dc4624910>, 'RETRIEVER_TYPE': 'join', 'RANKER_TYPE': 'MINILM_INDIR_400', 'RETRIEVER_MODEL_NAME': ''}, 'COLUMN_NAME': '3'}\n",
      "Experimento envolverá 150 registros, toda a base de dados\n"
     ]
    },
    {
     "name": "stderr",
     "output_type": "stream",
     "text": [
      "100%|██████████| 150/150 [01:12<00:00,  2.06it/s]\n"
     ]
    },
    {
     "name": "stdout",
     "output_type": "stream",
     "text": [
      "COLUMN_NAME: 3\n",
      "COUNT_QUERY_RUN: 150\n",
      "COUNT_QUERY_WITHOUT_RESULT: 0\n",
      "COUNT_QUERY_NOT_FOUND: 0\n",
      "RANK1_MEAN: 4.0\n",
      "NDCG@5_MEAN: 52.043\n",
      "NDCG@10_MEAN: 49.077\n",
      "NDCG@15_MEAN: 52.105\n",
      "NDCG@20_MEAN: 54.164\n",
      "PRECISION@50_MEAN: 12.813\n",
      "PRECISION@100_MEAN: 7.353\n",
      "RECALL@50_MEAN: 42.711\n",
      "RECALL@100_MEAN: 49.022\n",
      "TIME_SPENT_MEAN: 0.486\n",
      "==16==  2023-Jun-28 08:25:27 \n",
      "Experiment: {'TOPK_RETRIEVER': 300, 'TOPK_RANKER': 0, 'EXPANSOR_CRITERIA': 'join_bm25_sts_30_minilm_indir', 'INDEX_NAME': 'indir_juris_tcu_term', 'PIPE': {'PIPE_OBJECT': <haystack.pipelines.base.Pipeline object at 0x7f1dc4624910>, 'RETRIEVER_TYPE': 'join', 'RANKER_TYPE': 'MINILM_INDIR_400', 'RETRIEVER_MODEL_NAME': ''}, 'COLUMN_NAME': '4'}\n",
      "Experimento envolverá 150 registros, toda a base de dados\n"
     ]
    },
    {
     "name": "stderr",
     "output_type": "stream",
     "text": [
      "100%|██████████| 150/150 [01:12<00:00,  2.06it/s]\n"
     ]
    },
    {
     "name": "stdout",
     "output_type": "stream",
     "text": [
      "COLUMN_NAME: 4\n",
      "COUNT_QUERY_RUN: 150\n",
      "COUNT_QUERY_WITHOUT_RESULT: 0\n",
      "COUNT_QUERY_NOT_FOUND: 0\n",
      "RANK1_MEAN: 3.907\n",
      "NDCG@5_MEAN: 52.996\n",
      "NDCG@10_MEAN: 49.865\n",
      "NDCG@15_MEAN: 52.682\n",
      "NDCG@20_MEAN: 54.88\n",
      "PRECISION@50_MEAN: 12.867\n",
      "PRECISION@100_MEAN: 7.387\n",
      "RECALL@50_MEAN: 42.889\n",
      "RECALL@100_MEAN: 49.244\n",
      "TIME_SPENT_MEAN: 0.486\n",
      "==17==  2023-Jun-28 08:26:42 \n",
      "Experiment: {'TOPK_RETRIEVER': 300, 'TOPK_RANKER': 0, 'EXPANSOR_CRITERIA': 'join_bm25_sts_30_minilm_indir', 'INDEX_NAME': 'indir_juris_tcu_term', 'PIPE': {'PIPE_OBJECT': <haystack.pipelines.base.Pipeline object at 0x7f1dc4624910>, 'RETRIEVER_TYPE': 'join', 'RANKER_TYPE': 'MINILM_INDIR_400', 'RETRIEVER_MODEL_NAME': ''}, 'COLUMN_NAME': '5'}\n",
      "Experimento envolverá 150 registros, toda a base de dados\n"
     ]
    },
    {
     "name": "stderr",
     "output_type": "stream",
     "text": [
      "100%|██████████| 150/150 [01:14<00:00,  2.01it/s]\n"
     ]
    },
    {
     "name": "stdout",
     "output_type": "stream",
     "text": [
      "COLUMN_NAME: 5\n",
      "COUNT_QUERY_RUN: 150\n",
      "COUNT_QUERY_WITHOUT_RESULT: 0\n",
      "COUNT_QUERY_NOT_FOUND: 0\n",
      "RANK1_MEAN: 3.88\n",
      "NDCG@5_MEAN: 53.291\n",
      "NDCG@10_MEAN: 49.425\n",
      "NDCG@15_MEAN: 52.395\n",
      "NDCG@20_MEAN: 55.078\n",
      "PRECISION@50_MEAN: 12.92\n",
      "PRECISION@100_MEAN: 7.353\n",
      "RECALL@50_MEAN: 43.067\n",
      "RECALL@100_MEAN: 49.022\n",
      "TIME_SPENT_MEAN: 0.498\n",
      "==18==  2023-Jun-28 08:27:59 \n",
      "Experiment: {'TOPK_RETRIEVER': 300, 'TOPK_RANKER': 0, 'EXPANSOR_CRITERIA': 'join_bm25_sts_30_minilm_indir', 'INDEX_NAME': 'indir_juris_tcu_term', 'PIPE': {'PIPE_OBJECT': <haystack.pipelines.base.Pipeline object at 0x7f1dc4624910>, 'RETRIEVER_TYPE': 'join', 'RANKER_TYPE': 'MINILM_INDIR_400', 'RETRIEVER_MODEL_NAME': ''}, 'COLUMN_NAME': '6'}\n",
      "Experimento envolverá 150 registros, toda a base de dados\n"
     ]
    },
    {
     "name": "stderr",
     "output_type": "stream",
     "text": [
      "100%|██████████| 150/150 [01:15<00:00,  2.00it/s]\n"
     ]
    },
    {
     "name": "stdout",
     "output_type": "stream",
     "text": [
      "COLUMN_NAME: 6\n",
      "COUNT_QUERY_RUN: 150\n",
      "COUNT_QUERY_WITHOUT_RESULT: 0\n",
      "COUNT_QUERY_NOT_FOUND: 0\n",
      "RANK1_MEAN: 3.793\n",
      "NDCG@5_MEAN: 53.56\n",
      "NDCG@10_MEAN: 49.422\n",
      "NDCG@15_MEAN: 52.191\n",
      "NDCG@20_MEAN: 54.887\n",
      "PRECISION@50_MEAN: 13.067\n",
      "PRECISION@100_MEAN: 7.32\n",
      "RECALL@50_MEAN: 43.556\n",
      "RECALL@100_MEAN: 48.8\n",
      "TIME_SPENT_MEAN: 0.501\n",
      "==19==  2023-Jun-28 08:29:15 \n",
      "Experiment: {'TOPK_RETRIEVER': 300, 'TOPK_RANKER': 0, 'EXPANSOR_CRITERIA': 'join_bm25_sts_30_minilm_indir', 'INDEX_NAME': 'indir_juris_tcu_term', 'PIPE': {'PIPE_OBJECT': <haystack.pipelines.base.Pipeline object at 0x7f1dc4624910>, 'RETRIEVER_TYPE': 'join', 'RANKER_TYPE': 'MINILM_INDIR_400', 'RETRIEVER_MODEL_NAME': ''}, 'COLUMN_NAME': '7'}\n",
      "Experimento envolverá 150 registros, toda a base de dados\n"
     ]
    },
    {
     "name": "stderr",
     "output_type": "stream",
     "text": [
      "100%|██████████| 150/150 [01:15<00:00,  1.99it/s]\n"
     ]
    },
    {
     "name": "stdout",
     "output_type": "stream",
     "text": [
      "COLUMN_NAME: 7\n",
      "COUNT_QUERY_RUN: 150\n",
      "COUNT_QUERY_WITHOUT_RESULT: 0\n",
      "COUNT_QUERY_NOT_FOUND: 0\n",
      "RANK1_MEAN: 4.28\n",
      "NDCG@5_MEAN: 52.815\n",
      "NDCG@10_MEAN: 49.338\n",
      "NDCG@15_MEAN: 52.065\n",
      "NDCG@20_MEAN: 54.41\n",
      "PRECISION@50_MEAN: 12.8\n",
      "PRECISION@100_MEAN: 7.233\n",
      "RECALL@50_MEAN: 42.667\n",
      "RECALL@100_MEAN: 48.222\n",
      "TIME_SPENT_MEAN: 0.503\n",
      "==20==  2023-Jun-28 08:30:33 \n",
      "Experiment: {'TOPK_RETRIEVER': 300, 'TOPK_RANKER': 0, 'EXPANSOR_CRITERIA': 'join_bm25_sts_30_minilm_indir', 'INDEX_NAME': 'indir_juris_tcu_term', 'PIPE': {'PIPE_OBJECT': <haystack.pipelines.base.Pipeline object at 0x7f1dc4624910>, 'RETRIEVER_TYPE': 'join', 'RANKER_TYPE': 'MINILM_INDIR_400', 'RETRIEVER_MODEL_NAME': ''}, 'COLUMN_NAME': '8'}\n",
      "Experimento envolverá 150 registros, toda a base de dados\n"
     ]
    },
    {
     "name": "stderr",
     "output_type": "stream",
     "text": [
      "100%|██████████| 150/150 [01:16<00:00,  1.95it/s]\n"
     ]
    },
    {
     "name": "stdout",
     "output_type": "stream",
     "text": [
      "COLUMN_NAME: 8\n",
      "COUNT_QUERY_RUN: 150\n",
      "COUNT_QUERY_WITHOUT_RESULT: 0\n",
      "COUNT_QUERY_NOT_FOUND: 0\n",
      "RANK1_MEAN: 4.493\n",
      "NDCG@5_MEAN: 52.741\n",
      "NDCG@10_MEAN: 49.095\n",
      "NDCG@15_MEAN: 52.0\n",
      "NDCG@20_MEAN: 54.135\n",
      "PRECISION@50_MEAN: 12.707\n",
      "PRECISION@100_MEAN: 7.187\n",
      "RECALL@50_MEAN: 42.356\n",
      "RECALL@100_MEAN: 47.911\n",
      "TIME_SPENT_MEAN: 0.512\n",
      "==21==  2023-Jun-28 08:31:51 \n",
      "Experiment: {'TOPK_RETRIEVER': 300, 'TOPK_RANKER': 0, 'EXPANSOR_CRITERIA': 'join_bm25_sts_30_minilm_indir', 'INDEX_NAME': 'indir_juris_tcu_term', 'PIPE': {'PIPE_OBJECT': <haystack.pipelines.base.Pipeline object at 0x7f1dc4624910>, 'RETRIEVER_TYPE': 'join', 'RANKER_TYPE': 'MINILM_INDIR_400', 'RETRIEVER_MODEL_NAME': ''}, 'COLUMN_NAME': '9'}\n",
      "Experimento envolverá 150 registros, toda a base de dados\n"
     ]
    },
    {
     "name": "stderr",
     "output_type": "stream",
     "text": [
      "100%|██████████| 150/150 [01:17<00:00,  1.93it/s]\n"
     ]
    },
    {
     "name": "stdout",
     "output_type": "stream",
     "text": [
      "COLUMN_NAME: 9\n",
      "COUNT_QUERY_RUN: 150\n",
      "COUNT_QUERY_WITHOUT_RESULT: 0\n",
      "COUNT_QUERY_NOT_FOUND: 0\n",
      "RANK1_MEAN: 4.42\n",
      "NDCG@5_MEAN: 52.072\n",
      "NDCG@10_MEAN: 48.672\n",
      "NDCG@15_MEAN: 51.897\n",
      "NDCG@20_MEAN: 54.212\n",
      "PRECISION@50_MEAN: 12.627\n",
      "PRECISION@100_MEAN: 7.16\n",
      "RECALL@50_MEAN: 42.089\n",
      "RECALL@100_MEAN: 47.733\n",
      "TIME_SPENT_MEAN: 0.519\n",
      "==22==  2023-Jun-28 08:33:11 \n",
      "Experiment: {'TOPK_RETRIEVER': 300, 'TOPK_RANKER': 0, 'EXPANSOR_CRITERIA': '', 'INDEX_NAME': 'indir_juris_tcu_term', 'PIPE': {'PIPE_OBJECT': <haystack.pipelines.base.Pipeline object at 0x7f1dc4624910>, 'RETRIEVER_TYPE': 'join', 'RANKER_TYPE': 'MINILM_INDIR_400', 'RETRIEVER_MODEL_NAME': ''}, 'COLUMN_NAME': 'TEXT'}\n",
      "Experimento envolverá 150 registros, toda a base de dados\n"
     ]
    },
    {
     "name": "stderr",
     "output_type": "stream",
     "text": [
      "100%|██████████| 150/150 [01:09<00:00,  2.15it/s]\n"
     ]
    },
    {
     "name": "stdout",
     "output_type": "stream",
     "text": [
      "COLUMN_NAME: TEXT\n",
      "COUNT_QUERY_RUN: 150\n",
      "COUNT_QUERY_WITHOUT_RESULT: 0\n",
      "COUNT_QUERY_NOT_FOUND: 0\n",
      "RANK1_MEAN: 3.153\n",
      "NDCG@5_MEAN: 51.283\n",
      "NDCG@10_MEAN: 49.168\n",
      "NDCG@15_MEAN: 51.722\n",
      "NDCG@20_MEAN: 54.814\n",
      "PRECISION@50_MEAN: 13.427\n",
      "PRECISION@100_MEAN: 7.573\n",
      "RECALL@50_MEAN: 44.756\n",
      "RECALL@100_MEAN: 50.489\n",
      "TIME_SPENT_MEAN: 0.466\n",
      "==23==  2023-Jun-28 08:34:23 \n",
      "Experiment: {'TOPK_RETRIEVER': 300, 'TOPK_RANKER': 0, 'EXPANSOR_CRITERIA': 'join_bm25_sts_30_minilm_indir', 'INDEX_NAME': 'indir_juris_tcu_synonym', 'PIPE': {'PIPE_OBJECT': <haystack.pipelines.base.Pipeline object at 0x7f1db0360fd0>, 'RETRIEVER_TYPE': 'join', 'RANKER_TYPE': 'MINILM_INDIR_400', 'RETRIEVER_MODEL_NAME': ''}, 'COLUMN_NAME': '1'}\n",
      "Experimento envolverá 150 registros, toda a base de dados\n"
     ]
    },
    {
     "name": "stderr",
     "output_type": "stream",
     "text": [
      "100%|██████████| 150/150 [01:30<00:00,  1.66it/s]\n"
     ]
    },
    {
     "name": "stdout",
     "output_type": "stream",
     "text": [
      "COLUMN_NAME: 1\n",
      "COUNT_QUERY_RUN: 150\n",
      "COUNT_QUERY_WITHOUT_RESULT: 0\n",
      "COUNT_QUERY_NOT_FOUND: 0\n",
      "RANK1_MEAN: 8.26\n",
      "NDCG@5_MEAN: 37.611\n",
      "NDCG@10_MEAN: 34.931\n",
      "NDCG@15_MEAN: 37.258\n",
      "NDCG@20_MEAN: 39.702\n",
      "PRECISION@50_MEAN: 10.627\n",
      "PRECISION@100_MEAN: 6.667\n",
      "RECALL@50_MEAN: 35.422\n",
      "RECALL@100_MEAN: 44.444\n",
      "TIME_SPENT_MEAN: 0.602\n",
      "==24==  2023-Jun-28 08:35:55 \n",
      "Experiment: {'TOPK_RETRIEVER': 300, 'TOPK_RANKER': 0, 'EXPANSOR_CRITERIA': 'join_bm25_sts_30_minilm_indir', 'INDEX_NAME': 'indir_juris_tcu_synonym', 'PIPE': {'PIPE_OBJECT': <haystack.pipelines.base.Pipeline object at 0x7f1db0360fd0>, 'RETRIEVER_TYPE': 'join', 'RANKER_TYPE': 'MINILM_INDIR_400', 'RETRIEVER_MODEL_NAME': ''}, 'COLUMN_NAME': '10'}\n",
      "Experimento envolverá 150 registros, toda a base de dados\n"
     ]
    },
    {
     "name": "stderr",
     "output_type": "stream",
     "text": [
      "100%|██████████| 150/150 [01:37<00:00,  1.53it/s]\n"
     ]
    },
    {
     "name": "stdout",
     "output_type": "stream",
     "text": [
      "COLUMN_NAME: 10\n",
      "COUNT_QUERY_RUN: 150\n",
      "COUNT_QUERY_WITHOUT_RESULT: 0\n",
      "COUNT_QUERY_NOT_FOUND: 1\n",
      "RANK1_MEAN: 9.423\n",
      "NDCG@5_MEAN: 39.733\n",
      "NDCG@10_MEAN: 37.458\n",
      "NDCG@15_MEAN: 40.371\n",
      "NDCG@20_MEAN: 42.918\n",
      "PRECISION@50_MEAN: 10.653\n",
      "PRECISION@100_MEAN: 6.34\n",
      "RECALL@50_MEAN: 35.511\n",
      "RECALL@100_MEAN: 42.267\n",
      "TIME_SPENT_MEAN: 0.653\n",
      "==25==  2023-Jun-28 08:37:35 \n",
      "Experiment: {'TOPK_RETRIEVER': 300, 'TOPK_RANKER': 0, 'EXPANSOR_CRITERIA': 'join_bm25_sts_30_minilm_indir', 'INDEX_NAME': 'indir_juris_tcu_synonym', 'PIPE': {'PIPE_OBJECT': <haystack.pipelines.base.Pipeline object at 0x7f1db0360fd0>, 'RETRIEVER_TYPE': 'join', 'RANKER_TYPE': 'MINILM_INDIR_400', 'RETRIEVER_MODEL_NAME': ''}, 'COLUMN_NAME': '2'}\n",
      "Experimento envolverá 150 registros, toda a base de dados\n"
     ]
    },
    {
     "name": "stderr",
     "output_type": "stream",
     "text": [
      "100%|██████████| 150/150 [01:29<00:00,  1.67it/s]\n"
     ]
    },
    {
     "name": "stdout",
     "output_type": "stream",
     "text": [
      "COLUMN_NAME: 2\n",
      "COUNT_QUERY_RUN: 150\n",
      "COUNT_QUERY_WITHOUT_RESULT: 0\n",
      "COUNT_QUERY_NOT_FOUND: 0\n",
      "RANK1_MEAN: 8.547\n",
      "NDCG@5_MEAN: 39.926\n",
      "NDCG@10_MEAN: 36.909\n",
      "NDCG@15_MEAN: 39.221\n",
      "NDCG@20_MEAN: 41.802\n",
      "PRECISION@50_MEAN: 10.627\n",
      "PRECISION@100_MEAN: 6.593\n",
      "RECALL@50_MEAN: 35.422\n",
      "RECALL@100_MEAN: 43.956\n",
      "TIME_SPENT_MEAN: 0.598\n",
      "==26==  2023-Jun-28 08:39:06 \n",
      "Experiment: {'TOPK_RETRIEVER': 300, 'TOPK_RANKER': 0, 'EXPANSOR_CRITERIA': 'join_bm25_sts_30_minilm_indir', 'INDEX_NAME': 'indir_juris_tcu_synonym', 'PIPE': {'PIPE_OBJECT': <haystack.pipelines.base.Pipeline object at 0x7f1db0360fd0>, 'RETRIEVER_TYPE': 'join', 'RANKER_TYPE': 'MINILM_INDIR_400', 'RETRIEVER_MODEL_NAME': ''}, 'COLUMN_NAME': '3'}\n",
      "Experimento envolverá 150 registros, toda a base de dados\n"
     ]
    },
    {
     "name": "stderr",
     "output_type": "stream",
     "text": [
      "100%|██████████| 150/150 [01:31<00:00,  1.63it/s]\n"
     ]
    },
    {
     "name": "stdout",
     "output_type": "stream",
     "text": [
      "COLUMN_NAME: 3\n",
      "COUNT_QUERY_RUN: 150\n",
      "COUNT_QUERY_WITHOUT_RESULT: 0\n",
      "COUNT_QUERY_NOT_FOUND: 0\n",
      "RANK1_MEAN: 9.527\n",
      "NDCG@5_MEAN: 41.591\n",
      "NDCG@10_MEAN: 37.602\n",
      "NDCG@15_MEAN: 39.869\n",
      "NDCG@20_MEAN: 42.932\n",
      "PRECISION@50_MEAN: 10.587\n",
      "PRECISION@100_MEAN: 6.493\n",
      "RECALL@50_MEAN: 35.289\n",
      "RECALL@100_MEAN: 43.289\n",
      "TIME_SPENT_MEAN: 0.613\n",
      "==27==  2023-Jun-28 08:40:40 \n",
      "Experiment: {'TOPK_RETRIEVER': 300, 'TOPK_RANKER': 0, 'EXPANSOR_CRITERIA': 'join_bm25_sts_30_minilm_indir', 'INDEX_NAME': 'indir_juris_tcu_synonym', 'PIPE': {'PIPE_OBJECT': <haystack.pipelines.base.Pipeline object at 0x7f1db0360fd0>, 'RETRIEVER_TYPE': 'join', 'RANKER_TYPE': 'MINILM_INDIR_400', 'RETRIEVER_MODEL_NAME': ''}, 'COLUMN_NAME': '4'}\n",
      "Experimento envolverá 150 registros, toda a base de dados\n"
     ]
    },
    {
     "name": "stderr",
     "output_type": "stream",
     "text": [
      "100%|██████████| 150/150 [01:33<00:00,  1.60it/s]\n"
     ]
    },
    {
     "name": "stdout",
     "output_type": "stream",
     "text": [
      "COLUMN_NAME: 4\n",
      "COUNT_QUERY_RUN: 150\n",
      "COUNT_QUERY_WITHOUT_RESULT: 0\n",
      "COUNT_QUERY_NOT_FOUND: 0\n",
      "RANK1_MEAN: 10.113\n",
      "NDCG@5_MEAN: 42.31\n",
      "NDCG@10_MEAN: 39.062\n",
      "NDCG@15_MEAN: 40.821\n",
      "NDCG@20_MEAN: 44.208\n",
      "PRECISION@50_MEAN: 10.587\n",
      "PRECISION@100_MEAN: 6.373\n",
      "RECALL@50_MEAN: 35.289\n",
      "RECALL@100_MEAN: 42.489\n",
      "TIME_SPENT_MEAN: 0.624\n",
      "==28==  2023-Jun-28 08:42:16 \n",
      "Experiment: {'TOPK_RETRIEVER': 300, 'TOPK_RANKER': 0, 'EXPANSOR_CRITERIA': 'join_bm25_sts_30_minilm_indir', 'INDEX_NAME': 'indir_juris_tcu_synonym', 'PIPE': {'PIPE_OBJECT': <haystack.pipelines.base.Pipeline object at 0x7f1db0360fd0>, 'RETRIEVER_TYPE': 'join', 'RANKER_TYPE': 'MINILM_INDIR_400', 'RETRIEVER_MODEL_NAME': ''}, 'COLUMN_NAME': '5'}\n",
      "Experimento envolverá 150 registros, toda a base de dados\n"
     ]
    },
    {
     "name": "stderr",
     "output_type": "stream",
     "text": [
      "100%|██████████| 150/150 [01:34<00:00,  1.59it/s]\n"
     ]
    },
    {
     "name": "stdout",
     "output_type": "stream",
     "text": [
      "COLUMN_NAME: 5\n",
      "COUNT_QUERY_RUN: 150\n",
      "COUNT_QUERY_WITHOUT_RESULT: 0\n",
      "COUNT_QUERY_NOT_FOUND: 0\n",
      "RANK1_MEAN: 10.773\n",
      "NDCG@5_MEAN: 42.28\n",
      "NDCG@10_MEAN: 38.942\n",
      "NDCG@15_MEAN: 41.676\n",
      "NDCG@20_MEAN: 44.53\n",
      "PRECISION@50_MEAN: 10.733\n",
      "PRECISION@100_MEAN: 6.373\n",
      "RECALL@50_MEAN: 35.778\n",
      "RECALL@100_MEAN: 42.489\n",
      "TIME_SPENT_MEAN: 0.63\n",
      "==29==  2023-Jun-28 08:43:52 \n",
      "Experiment: {'TOPK_RETRIEVER': 300, 'TOPK_RANKER': 0, 'EXPANSOR_CRITERIA': 'join_bm25_sts_30_minilm_indir', 'INDEX_NAME': 'indir_juris_tcu_synonym', 'PIPE': {'PIPE_OBJECT': <haystack.pipelines.base.Pipeline object at 0x7f1db0360fd0>, 'RETRIEVER_TYPE': 'join', 'RANKER_TYPE': 'MINILM_INDIR_400', 'RETRIEVER_MODEL_NAME': ''}, 'COLUMN_NAME': '6'}\n",
      "Experimento envolverá 150 registros, toda a base de dados\n"
     ]
    },
    {
     "name": "stderr",
     "output_type": "stream",
     "text": [
      "100%|██████████| 150/150 [01:35<00:00,  1.58it/s]\n"
     ]
    },
    {
     "name": "stdout",
     "output_type": "stream",
     "text": [
      "COLUMN_NAME: 6\n",
      "COUNT_QUERY_RUN: 150\n",
      "COUNT_QUERY_WITHOUT_RESULT: 0\n",
      "COUNT_QUERY_NOT_FOUND: 1\n",
      "RANK1_MEAN: 9.275\n",
      "NDCG@5_MEAN: 41.431\n",
      "NDCG@10_MEAN: 39.191\n",
      "NDCG@15_MEAN: 42.109\n",
      "NDCG@20_MEAN: 44.801\n",
      "PRECISION@50_MEAN: 10.973\n",
      "PRECISION@100_MEAN: 6.46\n",
      "RECALL@50_MEAN: 36.578\n",
      "RECALL@100_MEAN: 43.067\n",
      "TIME_SPENT_MEAN: 0.634\n",
      "==30==  2023-Jun-28 08:45:29 \n",
      "Experiment: {'TOPK_RETRIEVER': 300, 'TOPK_RANKER': 0, 'EXPANSOR_CRITERIA': 'join_bm25_sts_30_minilm_indir', 'INDEX_NAME': 'indir_juris_tcu_synonym', 'PIPE': {'PIPE_OBJECT': <haystack.pipelines.base.Pipeline object at 0x7f1db0360fd0>, 'RETRIEVER_TYPE': 'join', 'RANKER_TYPE': 'MINILM_INDIR_400', 'RETRIEVER_MODEL_NAME': ''}, 'COLUMN_NAME': '7'}\n",
      "Experimento envolverá 150 registros, toda a base de dados\n"
     ]
    },
    {
     "name": "stderr",
     "output_type": "stream",
     "text": [
      "100%|██████████| 150/150 [01:36<00:00,  1.55it/s]\n"
     ]
    },
    {
     "name": "stdout",
     "output_type": "stream",
     "text": [
      "COLUMN_NAME: 7\n",
      "COUNT_QUERY_RUN: 150\n",
      "COUNT_QUERY_WITHOUT_RESULT: 0\n",
      "COUNT_QUERY_NOT_FOUND: 0\n",
      "RANK1_MEAN: 10.213\n",
      "NDCG@5_MEAN: 40.866\n",
      "NDCG@10_MEAN: 38.781\n",
      "NDCG@15_MEAN: 41.737\n",
      "NDCG@20_MEAN: 44.123\n",
      "PRECISION@50_MEAN: 10.72\n",
      "PRECISION@100_MEAN: 6.347\n",
      "RECALL@50_MEAN: 35.733\n",
      "RECALL@100_MEAN: 42.311\n",
      "TIME_SPENT_MEAN: 0.647\n",
      "==31==  2023-Jun-28 08:47:08 \n",
      "Experiment: {'TOPK_RETRIEVER': 300, 'TOPK_RANKER': 0, 'EXPANSOR_CRITERIA': 'join_bm25_sts_30_minilm_indir', 'INDEX_NAME': 'indir_juris_tcu_synonym', 'PIPE': {'PIPE_OBJECT': <haystack.pipelines.base.Pipeline object at 0x7f1db0360fd0>, 'RETRIEVER_TYPE': 'join', 'RANKER_TYPE': 'MINILM_INDIR_400', 'RETRIEVER_MODEL_NAME': ''}, 'COLUMN_NAME': '8'}\n",
      "Experimento envolverá 150 registros, toda a base de dados\n"
     ]
    },
    {
     "name": "stderr",
     "output_type": "stream",
     "text": [
      "100%|██████████| 150/150 [01:37<00:00,  1.54it/s]\n"
     ]
    },
    {
     "name": "stdout",
     "output_type": "stream",
     "text": [
      "COLUMN_NAME: 8\n",
      "COUNT_QUERY_RUN: 150\n",
      "COUNT_QUERY_WITHOUT_RESULT: 0\n",
      "COUNT_QUERY_NOT_FOUND: 1\n",
      "RANK1_MEAN: 9.087\n",
      "NDCG@5_MEAN: 41.178\n",
      "NDCG@10_MEAN: 38.48\n",
      "NDCG@15_MEAN: 41.472\n",
      "NDCG@20_MEAN: 43.824\n",
      "PRECISION@50_MEAN: 10.627\n",
      "PRECISION@100_MEAN: 6.327\n",
      "RECALL@50_MEAN: 35.422\n",
      "RECALL@100_MEAN: 42.178\n",
      "TIME_SPENT_MEAN: 0.65\n",
      "==32==  2023-Jun-28 08:48:47 \n",
      "Experiment: {'TOPK_RETRIEVER': 300, 'TOPK_RANKER': 0, 'EXPANSOR_CRITERIA': 'join_bm25_sts_30_minilm_indir', 'INDEX_NAME': 'indir_juris_tcu_synonym', 'PIPE': {'PIPE_OBJECT': <haystack.pipelines.base.Pipeline object at 0x7f1db0360fd0>, 'RETRIEVER_TYPE': 'join', 'RANKER_TYPE': 'MINILM_INDIR_400', 'RETRIEVER_MODEL_NAME': ''}, 'COLUMN_NAME': '9'}\n",
      "Experimento envolverá 150 registros, toda a base de dados\n"
     ]
    },
    {
     "name": "stderr",
     "output_type": "stream",
     "text": [
      "100%|██████████| 150/150 [01:37<00:00,  1.54it/s]\n"
     ]
    },
    {
     "name": "stdout",
     "output_type": "stream",
     "text": [
      "COLUMN_NAME: 9\n",
      "COUNT_QUERY_RUN: 150\n",
      "COUNT_QUERY_WITHOUT_RESULT: 0\n",
      "COUNT_QUERY_NOT_FOUND: 1\n",
      "RANK1_MEAN: 8.732\n",
      "NDCG@5_MEAN: 39.9\n",
      "NDCG@10_MEAN: 37.546\n",
      "NDCG@15_MEAN: 40.525\n",
      "NDCG@20_MEAN: 43.158\n",
      "PRECISION@50_MEAN: 10.68\n",
      "PRECISION@100_MEAN: 6.36\n",
      "RECALL@50_MEAN: 35.6\n",
      "RECALL@100_MEAN: 42.4\n",
      "TIME_SPENT_MEAN: 0.651\n",
      "==33==  2023-Jun-28 08:50:27 \n",
      "Experiment: {'TOPK_RETRIEVER': 300, 'TOPK_RANKER': 0, 'EXPANSOR_CRITERIA': '', 'INDEX_NAME': 'indir_juris_tcu_synonym', 'PIPE': {'PIPE_OBJECT': <haystack.pipelines.base.Pipeline object at 0x7f1db0360fd0>, 'RETRIEVER_TYPE': 'join', 'RANKER_TYPE': 'MINILM_INDIR_400', 'RETRIEVER_MODEL_NAME': ''}, 'COLUMN_NAME': 'TEXT'}\n",
      "Experimento envolverá 150 registros, toda a base de dados\n"
     ]
    },
    {
     "name": "stderr",
     "output_type": "stream",
     "text": [
      "100%|██████████| 150/150 [01:30<00:00,  1.65it/s]\n"
     ]
    },
    {
     "name": "stdout",
     "output_type": "stream",
     "text": [
      "COLUMN_NAME: TEXT\n",
      "COUNT_QUERY_RUN: 150\n",
      "COUNT_QUERY_WITHOUT_RESULT: 0\n",
      "COUNT_QUERY_NOT_FOUND: 0\n",
      "RANK1_MEAN: 7.76\n",
      "NDCG@5_MEAN: 39.445\n",
      "NDCG@10_MEAN: 36.893\n",
      "NDCG@15_MEAN: 38.884\n",
      "NDCG@20_MEAN: 41.316\n",
      "PRECISION@50_MEAN: 10.987\n",
      "PRECISION@100_MEAN: 6.8\n",
      "RECALL@50_MEAN: 36.622\n",
      "RECALL@100_MEAN: 45.333\n",
      "TIME_SPENT_MEAN: 0.606\n",
      "==34==  2023-Jun-28 08:52:00 \n",
      "Experiment: {'TOPK_RETRIEVER': 300, 'TOPK_RANKER': 0, 'EXPANSOR_CRITERIA': 'join_bm25_sts_30_minilm_indir', 'INDEX_NAME': 'indir_juris_tcu_related_term', 'PIPE': {'PIPE_OBJECT': <haystack.pipelines.base.Pipeline object at 0x7f1db816b9d0>, 'RETRIEVER_TYPE': 'join', 'RANKER_TYPE': 'MINILM_INDIR_400', 'RETRIEVER_MODEL_NAME': ''}, 'COLUMN_NAME': '1'}\n",
      "Experimento envolverá 150 registros, toda a base de dados\n"
     ]
    },
    {
     "name": "stderr",
     "output_type": "stream",
     "text": [
      "100%|██████████| 150/150 [02:09<00:00,  1.16it/s]\n"
     ]
    },
    {
     "name": "stdout",
     "output_type": "stream",
     "text": [
      "COLUMN_NAME: 1\n",
      "COUNT_QUERY_RUN: 150\n",
      "COUNT_QUERY_WITHOUT_RESULT: 0\n",
      "COUNT_QUERY_NOT_FOUND: 1\n",
      "RANK1_MEAN: 12.188\n",
      "NDCG@5_MEAN: 24.777\n",
      "NDCG@10_MEAN: 24.482\n",
      "NDCG@15_MEAN: 26.659\n",
      "NDCG@20_MEAN: 28.711\n",
      "PRECISION@50_MEAN: 9.333\n",
      "PRECISION@100_MEAN: 6.133\n",
      "RECALL@50_MEAN: 31.111\n",
      "RECALL@100_MEAN: 40.889\n",
      "TIME_SPENT_MEAN: 0.862\n",
      "==35==  2023-Jun-28 08:54:11 \n",
      "Experiment: {'TOPK_RETRIEVER': 300, 'TOPK_RANKER': 0, 'EXPANSOR_CRITERIA': 'join_bm25_sts_30_minilm_indir', 'INDEX_NAME': 'indir_juris_tcu_related_term', 'PIPE': {'PIPE_OBJECT': <haystack.pipelines.base.Pipeline object at 0x7f1db816b9d0>, 'RETRIEVER_TYPE': 'join', 'RANKER_TYPE': 'MINILM_INDIR_400', 'RETRIEVER_MODEL_NAME': ''}, 'COLUMN_NAME': '10'}\n",
      "Experimento envolverá 150 registros, toda a base de dados\n"
     ]
    },
    {
     "name": "stderr",
     "output_type": "stream",
     "text": [
      "100%|██████████| 150/150 [02:14<00:00,  1.12it/s]\n"
     ]
    },
    {
     "name": "stdout",
     "output_type": "stream",
     "text": [
      "COLUMN_NAME: 10\n",
      "COUNT_QUERY_RUN: 150\n",
      "COUNT_QUERY_WITHOUT_RESULT: 0\n",
      "COUNT_QUERY_NOT_FOUND: 2\n",
      "RANK1_MEAN: 12.318\n",
      "NDCG@5_MEAN: 28.785\n",
      "NDCG@10_MEAN: 26.879\n",
      "NDCG@15_MEAN: 29.456\n",
      "NDCG@20_MEAN: 31.621\n",
      "PRECISION@50_MEAN: 9.253\n",
      "PRECISION@100_MEAN: 5.82\n",
      "RECALL@50_MEAN: 30.844\n",
      "RECALL@100_MEAN: 38.8\n",
      "TIME_SPENT_MEAN: 0.897\n",
      "==36==  2023-Jun-28 08:56:27 \n",
      "Experiment: {'TOPK_RETRIEVER': 300, 'TOPK_RANKER': 0, 'EXPANSOR_CRITERIA': 'join_bm25_sts_30_minilm_indir', 'INDEX_NAME': 'indir_juris_tcu_related_term', 'PIPE': {'PIPE_OBJECT': <haystack.pipelines.base.Pipeline object at 0x7f1db816b9d0>, 'RETRIEVER_TYPE': 'join', 'RANKER_TYPE': 'MINILM_INDIR_400', 'RETRIEVER_MODEL_NAME': ''}, 'COLUMN_NAME': '2'}\n",
      "Experimento envolverá 150 registros, toda a base de dados\n"
     ]
    },
    {
     "name": "stderr",
     "output_type": "stream",
     "text": [
      "100%|██████████| 150/150 [02:10<00:00,  1.15it/s]\n"
     ]
    },
    {
     "name": "stdout",
     "output_type": "stream",
     "text": [
      "COLUMN_NAME: 2\n",
      "COUNT_QUERY_RUN: 150\n",
      "COUNT_QUERY_WITHOUT_RESULT: 0\n",
      "COUNT_QUERY_NOT_FOUND: 2\n",
      "RANK1_MEAN: 12.351\n",
      "NDCG@5_MEAN: 27.53\n",
      "NDCG@10_MEAN: 25.636\n",
      "NDCG@15_MEAN: 27.308\n",
      "NDCG@20_MEAN: 29.751\n",
      "PRECISION@50_MEAN: 9.293\n",
      "PRECISION@100_MEAN: 6.033\n",
      "RECALL@50_MEAN: 30.978\n",
      "RECALL@100_MEAN: 40.222\n",
      "TIME_SPENT_MEAN: 0.869\n",
      "==37==  2023-Jun-28 08:58:39 \n",
      "Experiment: {'TOPK_RETRIEVER': 300, 'TOPK_RANKER': 0, 'EXPANSOR_CRITERIA': 'join_bm25_sts_30_minilm_indir', 'INDEX_NAME': 'indir_juris_tcu_related_term', 'PIPE': {'PIPE_OBJECT': <haystack.pipelines.base.Pipeline object at 0x7f1db816b9d0>, 'RETRIEVER_TYPE': 'join', 'RANKER_TYPE': 'MINILM_INDIR_400', 'RETRIEVER_MODEL_NAME': ''}, 'COLUMN_NAME': '3'}\n",
      "Experimento envolverá 150 registros, toda a base de dados\n"
     ]
    },
    {
     "name": "stderr",
     "output_type": "stream",
     "text": [
      "100%|██████████| 150/150 [02:10<00:00,  1.15it/s]\n"
     ]
    },
    {
     "name": "stdout",
     "output_type": "stream",
     "text": [
      "COLUMN_NAME: 3\n",
      "COUNT_QUERY_RUN: 150\n",
      "COUNT_QUERY_WITHOUT_RESULT: 0\n",
      "COUNT_QUERY_NOT_FOUND: 1\n",
      "RANK1_MEAN: 12.208\n",
      "NDCG@5_MEAN: 27.719\n",
      "NDCG@10_MEAN: 26.319\n",
      "NDCG@15_MEAN: 29.048\n",
      "NDCG@20_MEAN: 31.371\n",
      "PRECISION@50_MEAN: 9.293\n",
      "PRECISION@100_MEAN: 5.96\n",
      "RECALL@50_MEAN: 30.978\n",
      "RECALL@100_MEAN: 39.733\n",
      "TIME_SPENT_MEAN: 0.873\n",
      "==38==  2023-Jun-28 09:00:52 \n",
      "Experiment: {'TOPK_RETRIEVER': 300, 'TOPK_RANKER': 0, 'EXPANSOR_CRITERIA': 'join_bm25_sts_30_minilm_indir', 'INDEX_NAME': 'indir_juris_tcu_related_term', 'PIPE': {'PIPE_OBJECT': <haystack.pipelines.base.Pipeline object at 0x7f1db816b9d0>, 'RETRIEVER_TYPE': 'join', 'RANKER_TYPE': 'MINILM_INDIR_400', 'RETRIEVER_MODEL_NAME': ''}, 'COLUMN_NAME': '4'}\n",
      "Experimento envolverá 150 registros, toda a base de dados\n"
     ]
    },
    {
     "name": "stderr",
     "output_type": "stream",
     "text": [
      "100%|██████████| 150/150 [02:11<00:00,  1.14it/s]\n"
     ]
    },
    {
     "name": "stdout",
     "output_type": "stream",
     "text": [
      "COLUMN_NAME: 4\n",
      "COUNT_QUERY_RUN: 150\n",
      "COUNT_QUERY_WITHOUT_RESULT: 0\n",
      "COUNT_QUERY_NOT_FOUND: 2\n",
      "RANK1_MEAN: 12.128\n",
      "NDCG@5_MEAN: 29.156\n",
      "NDCG@10_MEAN: 27.378\n",
      "NDCG@15_MEAN: 29.708\n",
      "NDCG@20_MEAN: 32.316\n",
      "PRECISION@50_MEAN: 9.413\n",
      "PRECISION@100_MEAN: 5.993\n",
      "RECALL@50_MEAN: 31.378\n",
      "RECALL@100_MEAN: 39.956\n",
      "TIME_SPENT_MEAN: 0.874\n",
      "==39==  2023-Jun-28 09:03:06 \n",
      "Experiment: {'TOPK_RETRIEVER': 300, 'TOPK_RANKER': 0, 'EXPANSOR_CRITERIA': 'join_bm25_sts_30_minilm_indir', 'INDEX_NAME': 'indir_juris_tcu_related_term', 'PIPE': {'PIPE_OBJECT': <haystack.pipelines.base.Pipeline object at 0x7f1db816b9d0>, 'RETRIEVER_TYPE': 'join', 'RANKER_TYPE': 'MINILM_INDIR_400', 'RETRIEVER_MODEL_NAME': ''}, 'COLUMN_NAME': '5'}\n",
      "Experimento envolverá 150 registros, toda a base de dados\n"
     ]
    },
    {
     "name": "stderr",
     "output_type": "stream",
     "text": [
      "100%|██████████| 150/150 [02:11<00:00,  1.14it/s]\n"
     ]
    },
    {
     "name": "stdout",
     "output_type": "stream",
     "text": [
      "COLUMN_NAME: 5\n",
      "COUNT_QUERY_RUN: 150\n",
      "COUNT_QUERY_WITHOUT_RESULT: 0\n",
      "COUNT_QUERY_NOT_FOUND: 3\n",
      "RANK1_MEAN: 10.707\n",
      "NDCG@5_MEAN: 30.601\n",
      "NDCG@10_MEAN: 28.84\n",
      "NDCG@15_MEAN: 31.017\n",
      "NDCG@20_MEAN: 33.629\n",
      "PRECISION@50_MEAN: 9.227\n",
      "PRECISION@100_MEAN: 5.913\n",
      "RECALL@50_MEAN: 30.756\n",
      "RECALL@100_MEAN: 39.422\n",
      "TIME_SPENT_MEAN: 0.879\n",
      "==40==  2023-Jun-28 09:05:19 \n",
      "Experiment: {'TOPK_RETRIEVER': 300, 'TOPK_RANKER': 0, 'EXPANSOR_CRITERIA': 'join_bm25_sts_30_minilm_indir', 'INDEX_NAME': 'indir_juris_tcu_related_term', 'PIPE': {'PIPE_OBJECT': <haystack.pipelines.base.Pipeline object at 0x7f1db816b9d0>, 'RETRIEVER_TYPE': 'join', 'RANKER_TYPE': 'MINILM_INDIR_400', 'RETRIEVER_MODEL_NAME': ''}, 'COLUMN_NAME': '6'}\n",
      "Experimento envolverá 150 registros, toda a base de dados\n"
     ]
    },
    {
     "name": "stderr",
     "output_type": "stream",
     "text": [
      "100%|██████████| 150/150 [02:13<00:00,  1.13it/s]\n"
     ]
    },
    {
     "name": "stdout",
     "output_type": "stream",
     "text": [
      "COLUMN_NAME: 6\n",
      "COUNT_QUERY_RUN: 150\n",
      "COUNT_QUERY_WITHOUT_RESULT: 0\n",
      "COUNT_QUERY_NOT_FOUND: 2\n",
      "RANK1_MEAN: 12.372\n",
      "NDCG@5_MEAN: 28.808\n",
      "NDCG@10_MEAN: 27.918\n",
      "NDCG@15_MEAN: 29.793\n",
      "NDCG@20_MEAN: 32.376\n",
      "PRECISION@50_MEAN: 9.133\n",
      "PRECISION@100_MEAN: 5.88\n",
      "RECALL@50_MEAN: 30.444\n",
      "RECALL@100_MEAN: 39.2\n",
      "TIME_SPENT_MEAN: 0.889\n",
      "==41==  2023-Jun-28 09:07:34 \n",
      "Experiment: {'TOPK_RETRIEVER': 300, 'TOPK_RANKER': 0, 'EXPANSOR_CRITERIA': 'join_bm25_sts_30_minilm_indir', 'INDEX_NAME': 'indir_juris_tcu_related_term', 'PIPE': {'PIPE_OBJECT': <haystack.pipelines.base.Pipeline object at 0x7f1db816b9d0>, 'RETRIEVER_TYPE': 'join', 'RANKER_TYPE': 'MINILM_INDIR_400', 'RETRIEVER_MODEL_NAME': ''}, 'COLUMN_NAME': '7'}\n",
      "Experimento envolverá 150 registros, toda a base de dados\n"
     ]
    },
    {
     "name": "stderr",
     "output_type": "stream",
     "text": [
      "100%|██████████| 150/150 [02:13<00:00,  1.12it/s]\n"
     ]
    },
    {
     "name": "stdout",
     "output_type": "stream",
     "text": [
      "COLUMN_NAME: 7\n",
      "COUNT_QUERY_RUN: 150\n",
      "COUNT_QUERY_WITHOUT_RESULT: 0\n",
      "COUNT_QUERY_NOT_FOUND: 2\n",
      "RANK1_MEAN: 11.23\n",
      "NDCG@5_MEAN: 28.239\n",
      "NDCG@10_MEAN: 27.332\n",
      "NDCG@15_MEAN: 29.398\n",
      "NDCG@20_MEAN: 32.003\n",
      "PRECISION@50_MEAN: 9.187\n",
      "PRECISION@100_MEAN: 5.873\n",
      "RECALL@50_MEAN: 30.622\n",
      "RECALL@100_MEAN: 39.156\n",
      "TIME_SPENT_MEAN: 0.89\n",
      "==42==  2023-Jun-28 09:09:50 \n",
      "Experiment: {'TOPK_RETRIEVER': 300, 'TOPK_RANKER': 0, 'EXPANSOR_CRITERIA': 'join_bm25_sts_30_minilm_indir', 'INDEX_NAME': 'indir_juris_tcu_related_term', 'PIPE': {'PIPE_OBJECT': <haystack.pipelines.base.Pipeline object at 0x7f1db816b9d0>, 'RETRIEVER_TYPE': 'join', 'RANKER_TYPE': 'MINILM_INDIR_400', 'RETRIEVER_MODEL_NAME': ''}, 'COLUMN_NAME': '8'}\n",
      "Experimento envolverá 150 registros, toda a base de dados\n"
     ]
    },
    {
     "name": "stderr",
     "output_type": "stream",
     "text": [
      "100%|██████████| 150/150 [02:14<00:00,  1.12it/s]\n"
     ]
    },
    {
     "name": "stdout",
     "output_type": "stream",
     "text": [
      "COLUMN_NAME: 8\n",
      "COUNT_QUERY_RUN: 150\n",
      "COUNT_QUERY_WITHOUT_RESULT: 0\n",
      "COUNT_QUERY_NOT_FOUND: 1\n",
      "RANK1_MEAN: 12.047\n",
      "NDCG@5_MEAN: 28.97\n",
      "NDCG@10_MEAN: 26.969\n",
      "NDCG@15_MEAN: 29.404\n",
      "NDCG@20_MEAN: 31.95\n",
      "PRECISION@50_MEAN: 9.333\n",
      "PRECISION@100_MEAN: 5.873\n",
      "RECALL@50_MEAN: 31.111\n",
      "RECALL@100_MEAN: 39.156\n",
      "TIME_SPENT_MEAN: 0.894\n",
      "==43==  2023-Jun-28 09:12:06 \n",
      "Experiment: {'TOPK_RETRIEVER': 300, 'TOPK_RANKER': 0, 'EXPANSOR_CRITERIA': 'join_bm25_sts_30_minilm_indir', 'INDEX_NAME': 'indir_juris_tcu_related_term', 'PIPE': {'PIPE_OBJECT': <haystack.pipelines.base.Pipeline object at 0x7f1db816b9d0>, 'RETRIEVER_TYPE': 'join', 'RANKER_TYPE': 'MINILM_INDIR_400', 'RETRIEVER_MODEL_NAME': ''}, 'COLUMN_NAME': '9'}\n",
      "Experimento envolverá 150 registros, toda a base de dados\n"
     ]
    },
    {
     "name": "stderr",
     "output_type": "stream",
     "text": [
      "100%|██████████| 150/150 [02:14<00:00,  1.12it/s]\n"
     ]
    },
    {
     "name": "stdout",
     "output_type": "stream",
     "text": [
      "COLUMN_NAME: 9\n",
      "COUNT_QUERY_RUN: 150\n",
      "COUNT_QUERY_WITHOUT_RESULT: 0\n",
      "COUNT_QUERY_NOT_FOUND: 1\n",
      "RANK1_MEAN: 11.933\n",
      "NDCG@5_MEAN: 29.135\n",
      "NDCG@10_MEAN: 27.275\n",
      "NDCG@15_MEAN: 29.551\n",
      "NDCG@20_MEAN: 31.893\n",
      "PRECISION@50_MEAN: 9.293\n",
      "PRECISION@100_MEAN: 5.827\n",
      "RECALL@50_MEAN: 30.978\n",
      "RECALL@100_MEAN: 38.844\n",
      "TIME_SPENT_MEAN: 0.895\n",
      "==44==  2023-Jun-28 09:14:22 \n",
      "Experiment: {'TOPK_RETRIEVER': 300, 'TOPK_RANKER': 0, 'EXPANSOR_CRITERIA': '', 'INDEX_NAME': 'indir_juris_tcu_related_term', 'PIPE': {'PIPE_OBJECT': <haystack.pipelines.base.Pipeline object at 0x7f1db816b9d0>, 'RETRIEVER_TYPE': 'join', 'RANKER_TYPE': 'MINILM_INDIR_400', 'RETRIEVER_MODEL_NAME': ''}, 'COLUMN_NAME': 'TEXT'}\n",
      "Experimento envolverá 150 registros, toda a base de dados\n"
     ]
    },
    {
     "name": "stderr",
     "output_type": "stream",
     "text": [
      "100%|██████████| 150/150 [02:09<00:00,  1.16it/s]\n"
     ]
    },
    {
     "name": "stdout",
     "output_type": "stream",
     "text": [
      "COLUMN_NAME: TEXT\n",
      "COUNT_QUERY_RUN: 150\n",
      "COUNT_QUERY_WITHOUT_RESULT: 0\n",
      "COUNT_QUERY_NOT_FOUND: 0\n",
      "RANK1_MEAN: 10.96\n",
      "NDCG@5_MEAN: 23.042\n",
      "NDCG@10_MEAN: 23.805\n",
      "NDCG@15_MEAN: 26.313\n",
      "NDCG@20_MEAN: 28.71\n",
      "PRECISION@50_MEAN: 9.173\n",
      "PRECISION@100_MEAN: 6.2\n",
      "RECALL@50_MEAN: 30.578\n",
      "RECALL@100_MEAN: 41.333\n",
      "TIME_SPENT_MEAN: 0.862\n",
      "==45==  2023-Jun-28 09:16:34 \n",
      "Experiment: {'TOPK_RETRIEVER': 300, 'TOPK_RANKER': 0, 'EXPANSOR_CRITERIA': 'join_bm25_sts_30_minilm_indir', 'INDEX_NAME': 'indir_juris_tcu_synonym_related_term', 'PIPE': {'PIPE_OBJECT': <haystack.pipelines.base.Pipeline object at 0x7f1dbb186d50>, 'RETRIEVER_TYPE': 'join', 'RANKER_TYPE': 'MINILM_INDIR_400', 'RETRIEVER_MODEL_NAME': ''}, 'COLUMN_NAME': '1'}\n",
      "Experimento envolverá 150 registros, toda a base de dados\n"
     ]
    },
    {
     "name": "stderr",
     "output_type": "stream",
     "text": [
      "100%|██████████| 150/150 [02:22<00:00,  1.05it/s]\n"
     ]
    },
    {
     "name": "stdout",
     "output_type": "stream",
     "text": [
      "COLUMN_NAME: 1\n",
      "COUNT_QUERY_RUN: 150\n",
      "COUNT_QUERY_WITHOUT_RESULT: 0\n",
      "COUNT_QUERY_NOT_FOUND: 1\n",
      "RANK1_MEAN: 14.101\n",
      "NDCG@5_MEAN: 21.702\n",
      "NDCG@10_MEAN: 21.086\n",
      "NDCG@15_MEAN: 23.349\n",
      "NDCG@20_MEAN: 25.521\n",
      "PRECISION@50_MEAN: 8.267\n",
      "PRECISION@100_MEAN: 5.873\n",
      "RECALL@50_MEAN: 27.556\n",
      "RECALL@100_MEAN: 39.156\n",
      "TIME_SPENT_MEAN: 0.953\n",
      "==46==  2023-Jun-28 09:18:59 \n",
      "Experiment: {'TOPK_RETRIEVER': 300, 'TOPK_RANKER': 0, 'EXPANSOR_CRITERIA': 'join_bm25_sts_30_minilm_indir', 'INDEX_NAME': 'indir_juris_tcu_synonym_related_term', 'PIPE': {'PIPE_OBJECT': <haystack.pipelines.base.Pipeline object at 0x7f1dbb186d50>, 'RETRIEVER_TYPE': 'join', 'RANKER_TYPE': 'MINILM_INDIR_400', 'RETRIEVER_MODEL_NAME': ''}, 'COLUMN_NAME': '10'}\n",
      "Experimento envolverá 150 registros, toda a base de dados\n"
     ]
    },
    {
     "name": "stderr",
     "output_type": "stream",
     "text": [
      "100%|██████████| 150/150 [02:28<00:00,  1.01it/s]\n"
     ]
    },
    {
     "name": "stdout",
     "output_type": "stream",
     "text": [
      "COLUMN_NAME: 10\n",
      "COUNT_QUERY_RUN: 150\n",
      "COUNT_QUERY_WITHOUT_RESULT: 0\n",
      "COUNT_QUERY_NOT_FOUND: 2\n",
      "RANK1_MEAN: 13.5\n",
      "NDCG@5_MEAN: 29.343\n",
      "NDCG@10_MEAN: 26.743\n",
      "NDCG@15_MEAN: 28.18\n",
      "NDCG@20_MEAN: 30.435\n",
      "PRECISION@50_MEAN: 8.547\n",
      "PRECISION@100_MEAN: 5.713\n",
      "RECALL@50_MEAN: 28.489\n",
      "RECALL@100_MEAN: 38.089\n",
      "TIME_SPENT_MEAN: 0.992\n",
      "==47==  2023-Jun-28 09:21:30 \n",
      "Experiment: {'TOPK_RETRIEVER': 300, 'TOPK_RANKER': 0, 'EXPANSOR_CRITERIA': 'join_bm25_sts_30_minilm_indir', 'INDEX_NAME': 'indir_juris_tcu_synonym_related_term', 'PIPE': {'PIPE_OBJECT': <haystack.pipelines.base.Pipeline object at 0x7f1dbb186d50>, 'RETRIEVER_TYPE': 'join', 'RANKER_TYPE': 'MINILM_INDIR_400', 'RETRIEVER_MODEL_NAME': ''}, 'COLUMN_NAME': '2'}\n",
      "Experimento envolverá 150 registros, toda a base de dados\n"
     ]
    },
    {
     "name": "stderr",
     "output_type": "stream",
     "text": [
      "100%|██████████| 150/150 [02:23<00:00,  1.04it/s]\n"
     ]
    },
    {
     "name": "stdout",
     "output_type": "stream",
     "text": [
      "COLUMN_NAME: 2\n",
      "COUNT_QUERY_RUN: 150\n",
      "COUNT_QUERY_WITHOUT_RESULT: 0\n",
      "COUNT_QUERY_NOT_FOUND: 2\n",
      "RANK1_MEAN: 14.25\n",
      "NDCG@5_MEAN: 25.427\n",
      "NDCG@10_MEAN: 23.143\n",
      "NDCG@15_MEAN: 25.186\n",
      "NDCG@20_MEAN: 26.907\n",
      "PRECISION@50_MEAN: 8.427\n",
      "PRECISION@100_MEAN: 5.693\n",
      "RECALL@50_MEAN: 28.089\n",
      "RECALL@100_MEAN: 37.956\n",
      "TIME_SPENT_MEAN: 0.958\n",
      "==48==  2023-Jun-28 09:23:55 \n",
      "Experiment: {'TOPK_RETRIEVER': 300, 'TOPK_RANKER': 0, 'EXPANSOR_CRITERIA': 'join_bm25_sts_30_minilm_indir', 'INDEX_NAME': 'indir_juris_tcu_synonym_related_term', 'PIPE': {'PIPE_OBJECT': <haystack.pipelines.base.Pipeline object at 0x7f1dbb186d50>, 'RETRIEVER_TYPE': 'join', 'RANKER_TYPE': 'MINILM_INDIR_400', 'RETRIEVER_MODEL_NAME': ''}, 'COLUMN_NAME': '3'}\n",
      "Experimento envolverá 150 registros, toda a base de dados\n"
     ]
    },
    {
     "name": "stderr",
     "output_type": "stream",
     "text": [
      "100%|██████████| 150/150 [02:24<00:00,  1.04it/s]\n"
     ]
    },
    {
     "name": "stdout",
     "output_type": "stream",
     "text": [
      "COLUMN_NAME: 3\n",
      "COUNT_QUERY_RUN: 150\n",
      "COUNT_QUERY_WITHOUT_RESULT: 0\n",
      "COUNT_QUERY_NOT_FOUND: 1\n",
      "RANK1_MEAN: 14.275\n",
      "NDCG@5_MEAN: 26.029\n",
      "NDCG@10_MEAN: 24.679\n",
      "NDCG@15_MEAN: 26.885\n",
      "NDCG@20_MEAN: 29.023\n",
      "PRECISION@50_MEAN: 8.707\n",
      "PRECISION@100_MEAN: 5.78\n",
      "RECALL@50_MEAN: 29.022\n",
      "RECALL@100_MEAN: 38.533\n",
      "TIME_SPENT_MEAN: 0.96\n",
      "==49==  2023-Jun-28 09:26:21 \n",
      "Experiment: {'TOPK_RETRIEVER': 300, 'TOPK_RANKER': 0, 'EXPANSOR_CRITERIA': 'join_bm25_sts_30_minilm_indir', 'INDEX_NAME': 'indir_juris_tcu_synonym_related_term', 'PIPE': {'PIPE_OBJECT': <haystack.pipelines.base.Pipeline object at 0x7f1dbb186d50>, 'RETRIEVER_TYPE': 'join', 'RANKER_TYPE': 'MINILM_INDIR_400', 'RETRIEVER_MODEL_NAME': ''}, 'COLUMN_NAME': '4'}\n",
      "Experimento envolverá 150 registros, toda a base de dados\n"
     ]
    },
    {
     "name": "stderr",
     "output_type": "stream",
     "text": [
      "100%|██████████| 150/150 [02:24<00:00,  1.04it/s]\n"
     ]
    },
    {
     "name": "stdout",
     "output_type": "stream",
     "text": [
      "COLUMN_NAME: 4\n",
      "COUNT_QUERY_RUN: 150\n",
      "COUNT_QUERY_WITHOUT_RESULT: 0\n",
      "COUNT_QUERY_NOT_FOUND: 2\n",
      "RANK1_MEAN: 11.845\n",
      "NDCG@5_MEAN: 27.577\n",
      "NDCG@10_MEAN: 25.937\n",
      "NDCG@15_MEAN: 27.805\n",
      "NDCG@20_MEAN: 29.979\n",
      "PRECISION@50_MEAN: 8.707\n",
      "PRECISION@100_MEAN: 5.813\n",
      "RECALL@50_MEAN: 29.022\n",
      "RECALL@100_MEAN: 38.756\n",
      "TIME_SPENT_MEAN: 0.965\n",
      "==50==  2023-Jun-28 09:28:48 \n",
      "Experiment: {'TOPK_RETRIEVER': 300, 'TOPK_RANKER': 0, 'EXPANSOR_CRITERIA': 'join_bm25_sts_30_minilm_indir', 'INDEX_NAME': 'indir_juris_tcu_synonym_related_term', 'PIPE': {'PIPE_OBJECT': <haystack.pipelines.base.Pipeline object at 0x7f1dbb186d50>, 'RETRIEVER_TYPE': 'join', 'RANKER_TYPE': 'MINILM_INDIR_400', 'RETRIEVER_MODEL_NAME': ''}, 'COLUMN_NAME': '5'}\n",
      "Experimento envolverá 150 registros, toda a base de dados\n"
     ]
    },
    {
     "name": "stderr",
     "output_type": "stream",
     "text": [
      "100%|██████████| 150/150 [02:25<00:00,  1.03it/s]\n"
     ]
    },
    {
     "name": "stdout",
     "output_type": "stream",
     "text": [
      "COLUMN_NAME: 5\n",
      "COUNT_QUERY_RUN: 150\n",
      "COUNT_QUERY_WITHOUT_RESULT: 0\n",
      "COUNT_QUERY_NOT_FOUND: 2\n",
      "RANK1_MEAN: 12.601\n",
      "NDCG@5_MEAN: 28.702\n",
      "NDCG@10_MEAN: 26.266\n",
      "NDCG@15_MEAN: 28.299\n",
      "NDCG@20_MEAN: 30.429\n",
      "PRECISION@50_MEAN: 8.64\n",
      "PRECISION@100_MEAN: 5.693\n",
      "RECALL@50_MEAN: 28.8\n",
      "RECALL@100_MEAN: 37.956\n",
      "TIME_SPENT_MEAN: 0.97\n",
      "==51==  2023-Jun-28 09:31:15 \n",
      "Experiment: {'TOPK_RETRIEVER': 300, 'TOPK_RANKER': 0, 'EXPANSOR_CRITERIA': 'join_bm25_sts_30_minilm_indir', 'INDEX_NAME': 'indir_juris_tcu_synonym_related_term', 'PIPE': {'PIPE_OBJECT': <haystack.pipelines.base.Pipeline object at 0x7f1dbb186d50>, 'RETRIEVER_TYPE': 'join', 'RANKER_TYPE': 'MINILM_INDIR_400', 'RETRIEVER_MODEL_NAME': ''}, 'COLUMN_NAME': '6'}\n",
      "Experimento envolverá 150 registros, toda a base de dados\n"
     ]
    },
    {
     "name": "stderr",
     "output_type": "stream",
     "text": [
      " 43%|████▎     | 65/150 [01:04<01:24,  1.01it/s]"
     ]
    }
   ],
   "source": [
    "%%time\n",
    "# colocar pequeno só para testes, depois voltar para 9999999 (número maior do que o número de termos a pesquisar)\n",
    "limit_query =  9999999 # 100 # \n",
    "cnt_exec = 0\n",
    "for index_name in pipes.keys():\n",
    "    for pipe in pipes[index_name]:\n",
    "        for cnt, experiment in enumerate(list_experiment):\n",
    "            #  consider_query_expanded or only text column in case\n",
    "            if consider_run_all:\n",
    "                target_columns = df_search_data.columns.difference(['ID', 'RELEVANCE_DICT', 'SOURCE'])\n",
    "            elif consider_query_expanded:\n",
    "                target_columns = df_search_data.columns.difference(['ID', 'RELEVANCE_DICT', 'SOURCE', 'TEXT'])\n",
    "            else:\n",
    "                target_columns = ['TEXT']\n",
    "            # print(target_columns)\n",
    "            # raise Exception('false break')            \n",
    "            for column_name in target_columns:\n",
    "                cnt_exec += 1\n",
    "                if column_name == 'TEXT':\n",
    "                    experiment['EXPANSOR_CRITERIA'] = \"\"\n",
    "                else:\n",
    "                    experiment['EXPANSOR_CRITERIA'] = EXPANSOR_CRITERIA\n",
    "                experiment['INDEX_NAME'] = index_name\n",
    "                experiment['PIPE'] = pipe\n",
    "                experiment['COLUMN_NAME'] = column_name\n",
    "                print(f\"=={cnt_exec}==  {time.strftime('%Y-%b-%d %H:%M:%S')} \\nExperiment: {experiment}\")\n",
    "                list_result_experiment = [] # por experiment\n",
    "                result_run = util_experiment.experiment_run(parm_df=df_search_data, \n",
    "                                                        parm_experiment=experiment,\n",
    "                                                        parm_limit_query=limit_query,\n",
    "                                                        parm_print=True)\n",
    "                # raise Exception('false break')\n",
    "                list_result_experiment.append(result_run)\n",
    "                # print(f\"qtd_encontrado sim:{result_run['qtd_encontrado']}, não:{result_run['qtd_nao_encontrado']} ({result_run['percent_nao_encontrado']}%)\")\n",
    "                util_experiment.add_experiment_result(parm_list_result=list_result_experiment, parm_dataset='juris_tcu')\n",
    "                torch.cuda.empty_cache()\n"
   ]
  },
  {
   "cell_type": "code",
   "execution_count": null,
   "metadata": {},
   "outputs": [],
   "source": []
  },
  {
   "cell_type": "code",
   "execution_count": null,
   "metadata": {},
   "outputs": [],
   "source": []
  },
  {
   "cell_type": "code",
   "execution_count": null,
   "metadata": {},
   "outputs": [
    {
     "name": "stdout",
     "output_type": "stream",
     "text": [
      "===>  2023-Jun-27 20:35:05 experiment: {'TOPK_RETRIEVER': 300, 'TOPK_RANKER': 0, 'INDEX_NAME': 'indir_juris_tcu', 'PIPE': {'PIPE_OBJECT': <haystack.pipelines.standard_pipelines.DocumentSearchPipeline object at 0x7f4df56bd750>, 'RETRIEVER_TYPE': 'bm25', 'RANKER_TYPE': 'none', 'RANKER_MODEL_NAME': '', 'RETRIEVER_MODEL_NAME': ''}, 'COLUMN_NAME': '1', 'EXPANSOR_CRITERIA': 'join_bm25_sts_30_minilm_indir'}\n",
      "Experimento envolverá 150 registros, toda a base de dados\n"
     ]
    },
    {
     "name": "stderr",
     "output_type": "stream",
     "text": [
      "100%|██████████| 150/150 [00:18<00:00,  8.30it/s]\n"
     ]
    },
    {
     "name": "stdout",
     "output_type": "stream",
     "text": [
      "COLUMN_NAME: 1\n",
      "COUNT_QUERY_RUN: 150\n",
      "COUNT_QUERY_WITHOUT_RESULT: 0\n",
      "COUNT_QUERY_NOT_FOUND: 0\n",
      "RANK1_MEAN: 2.873\n",
      "NDCG@5_MEAN: 56.202\n",
      "NDCG@10_MEAN: 52.261\n",
      "NDCG@15_MEAN: 54.66\n",
      "NDCG@20_MEAN: 57.599\n",
      "PRECISION@50_MEAN: 12.627\n",
      "PRECISION@100_MEAN: 6.973\n",
      "RECALL@50_MEAN: 42.089\n",
      "RECALL@100_MEAN: 46.489\n",
      "TIME_SPENT_MEAN: 0.121\n",
      "===>  2023-Jun-27 20:35:23 experiment: {'TOPK_RETRIEVER': 300, 'TOPK_RANKER': 0, 'INDEX_NAME': 'indir_juris_tcu', 'PIPE': {'PIPE_OBJECT': <haystack.pipelines.standard_pipelines.DocumentSearchPipeline object at 0x7f4df56bd750>, 'RETRIEVER_TYPE': 'bm25', 'RANKER_TYPE': 'none', 'RANKER_MODEL_NAME': '', 'RETRIEVER_MODEL_NAME': ''}, 'COLUMN_NAME': '10', 'EXPANSOR_CRITERIA': 'join_bm25_sts_30_minilm_indir'}\n",
      "Experimento envolverá 150 registros, toda a base de dados\n"
     ]
    },
    {
     "name": "stderr",
     "output_type": "stream",
     "text": [
      "100%|██████████| 150/150 [00:20<00:00,  7.39it/s]\n"
     ]
    },
    {
     "name": "stdout",
     "output_type": "stream",
     "text": [
      "COLUMN_NAME: 10\n",
      "COUNT_QUERY_RUN: 150\n",
      "COUNT_QUERY_WITHOUT_RESULT: 0\n",
      "COUNT_QUERY_NOT_FOUND: 0\n",
      "RANK1_MEAN: 6.427\n",
      "NDCG@5_MEAN: 48.434\n",
      "NDCG@10_MEAN: 45.663\n",
      "NDCG@15_MEAN: 48.025\n",
      "NDCG@20_MEAN: 50.368\n",
      "PRECISION@50_MEAN: 11.067\n",
      "PRECISION@100_MEAN: 6.473\n",
      "RECALL@50_MEAN: 36.889\n",
      "RECALL@100_MEAN: 43.156\n",
      "TIME_SPENT_MEAN: 0.135\n",
      "===>  2023-Jun-27 20:35:44 experiment: {'TOPK_RETRIEVER': 300, 'TOPK_RANKER': 0, 'INDEX_NAME': 'indir_juris_tcu', 'PIPE': {'PIPE_OBJECT': <haystack.pipelines.standard_pipelines.DocumentSearchPipeline object at 0x7f4df56bd750>, 'RETRIEVER_TYPE': 'bm25', 'RANKER_TYPE': 'none', 'RANKER_MODEL_NAME': '', 'RETRIEVER_MODEL_NAME': ''}, 'COLUMN_NAME': '2', 'EXPANSOR_CRITERIA': 'join_bm25_sts_30_minilm_indir'}\n",
      "Experimento envolverá 150 registros, toda a base de dados\n"
     ]
    },
    {
     "name": "stderr",
     "output_type": "stream",
     "text": [
      "100%|██████████| 150/150 [00:19<00:00,  7.83it/s]\n"
     ]
    },
    {
     "name": "stdout",
     "output_type": "stream",
     "text": [
      "COLUMN_NAME: 2\n",
      "COUNT_QUERY_RUN: 150\n",
      "COUNT_QUERY_WITHOUT_RESULT: 0\n",
      "COUNT_QUERY_NOT_FOUND: 0\n",
      "RANK1_MEAN: 3.907\n",
      "NDCG@5_MEAN: 56.274\n",
      "NDCG@10_MEAN: 52.205\n",
      "NDCG@15_MEAN: 54.46\n",
      "NDCG@20_MEAN: 56.592\n",
      "PRECISION@50_MEAN: 12.147\n",
      "PRECISION@100_MEAN: 6.84\n",
      "RECALL@50_MEAN: 40.489\n",
      "RECALL@100_MEAN: 45.6\n",
      "TIME_SPENT_MEAN: 0.128\n",
      "===>  2023-Jun-27 20:36:04 experiment: {'TOPK_RETRIEVER': 300, 'TOPK_RANKER': 0, 'INDEX_NAME': 'indir_juris_tcu', 'PIPE': {'PIPE_OBJECT': <haystack.pipelines.standard_pipelines.DocumentSearchPipeline object at 0x7f4df56bd750>, 'RETRIEVER_TYPE': 'bm25', 'RANKER_TYPE': 'none', 'RANKER_MODEL_NAME': '', 'RETRIEVER_MODEL_NAME': ''}, 'COLUMN_NAME': '3', 'EXPANSOR_CRITERIA': 'join_bm25_sts_30_minilm_indir'}\n",
      "Experimento envolverá 150 registros, toda a base de dados\n"
     ]
    },
    {
     "name": "stderr",
     "output_type": "stream",
     "text": [
      "100%|██████████| 150/150 [00:18<00:00,  8.12it/s]\n"
     ]
    },
    {
     "name": "stdout",
     "output_type": "stream",
     "text": [
      "COLUMN_NAME: 3\n",
      "COUNT_QUERY_RUN: 150\n",
      "COUNT_QUERY_WITHOUT_RESULT: 0\n",
      "COUNT_QUERY_NOT_FOUND: 0\n",
      "RANK1_MEAN: 3.62\n",
      "NDCG@5_MEAN: 54.357\n",
      "NDCG@10_MEAN: 50.502\n",
      "NDCG@15_MEAN: 52.255\n",
      "NDCG@20_MEAN: 54.836\n",
      "PRECISION@50_MEAN: 11.867\n",
      "PRECISION@100_MEAN: 6.84\n",
      "RECALL@50_MEAN: 39.556\n",
      "RECALL@100_MEAN: 45.6\n",
      "TIME_SPENT_MEAN: 0.123\n",
      "===>  2023-Jun-27 20:36:22 experiment: {'TOPK_RETRIEVER': 300, 'TOPK_RANKER': 0, 'INDEX_NAME': 'indir_juris_tcu', 'PIPE': {'PIPE_OBJECT': <haystack.pipelines.standard_pipelines.DocumentSearchPipeline object at 0x7f4df56bd750>, 'RETRIEVER_TYPE': 'bm25', 'RANKER_TYPE': 'none', 'RANKER_MODEL_NAME': '', 'RETRIEVER_MODEL_NAME': ''}, 'COLUMN_NAME': '4', 'EXPANSOR_CRITERIA': 'join_bm25_sts_30_minilm_indir'}\n",
      "Experimento envolverá 150 registros, toda a base de dados\n"
     ]
    },
    {
     "name": "stderr",
     "output_type": "stream",
     "text": [
      "100%|██████████| 150/150 [00:18<00:00,  8.25it/s]\n"
     ]
    },
    {
     "name": "stdout",
     "output_type": "stream",
     "text": [
      "COLUMN_NAME: 4\n",
      "COUNT_QUERY_RUN: 150\n",
      "COUNT_QUERY_WITHOUT_RESULT: 0\n",
      "COUNT_QUERY_NOT_FOUND: 0\n",
      "RANK1_MEAN: 3.96\n",
      "NDCG@5_MEAN: 54.226\n",
      "NDCG@10_MEAN: 50.383\n",
      "NDCG@15_MEAN: 52.372\n",
      "NDCG@20_MEAN: 54.614\n",
      "PRECISION@50_MEAN: 11.64\n",
      "PRECISION@100_MEAN: 6.68\n",
      "RECALL@50_MEAN: 38.8\n",
      "RECALL@100_MEAN: 44.533\n",
      "TIME_SPENT_MEAN: 0.121\n",
      "===>  2023-Jun-27 20:36:41 experiment: {'TOPK_RETRIEVER': 300, 'TOPK_RANKER': 0, 'INDEX_NAME': 'indir_juris_tcu', 'PIPE': {'PIPE_OBJECT': <haystack.pipelines.standard_pipelines.DocumentSearchPipeline object at 0x7f4df56bd750>, 'RETRIEVER_TYPE': 'bm25', 'RANKER_TYPE': 'none', 'RANKER_MODEL_NAME': '', 'RETRIEVER_MODEL_NAME': ''}, 'COLUMN_NAME': '5', 'EXPANSOR_CRITERIA': 'join_bm25_sts_30_minilm_indir'}\n",
      "Experimento envolverá 150 registros, toda a base de dados\n"
     ]
    },
    {
     "name": "stderr",
     "output_type": "stream",
     "text": [
      "100%|██████████| 150/150 [00:18<00:00,  8.10it/s]\n"
     ]
    },
    {
     "name": "stdout",
     "output_type": "stream",
     "text": [
      "COLUMN_NAME: 5\n",
      "COUNT_QUERY_RUN: 150\n",
      "COUNT_QUERY_WITHOUT_RESULT: 0\n",
      "COUNT_QUERY_NOT_FOUND: 0\n",
      "RANK1_MEAN: 5.0\n",
      "NDCG@5_MEAN: 52.515\n",
      "NDCG@10_MEAN: 48.485\n",
      "NDCG@15_MEAN: 50.803\n",
      "NDCG@20_MEAN: 53.095\n",
      "PRECISION@50_MEAN: 11.387\n",
      "PRECISION@100_MEAN: 6.66\n",
      "RECALL@50_MEAN: 37.956\n",
      "RECALL@100_MEAN: 44.4\n",
      "TIME_SPENT_MEAN: 0.124\n",
      "===>  2023-Jun-27 20:37:00 experiment: {'TOPK_RETRIEVER': 300, 'TOPK_RANKER': 0, 'INDEX_NAME': 'indir_juris_tcu', 'PIPE': {'PIPE_OBJECT': <haystack.pipelines.standard_pipelines.DocumentSearchPipeline object at 0x7f4df56bd750>, 'RETRIEVER_TYPE': 'bm25', 'RANKER_TYPE': 'none', 'RANKER_MODEL_NAME': '', 'RETRIEVER_MODEL_NAME': ''}, 'COLUMN_NAME': '6', 'EXPANSOR_CRITERIA': 'join_bm25_sts_30_minilm_indir'}\n",
      "Experimento envolverá 150 registros, toda a base de dados\n"
     ]
    },
    {
     "name": "stderr",
     "output_type": "stream",
     "text": [
      "100%|██████████| 150/150 [00:18<00:00,  7.93it/s]\n"
     ]
    },
    {
     "name": "stdout",
     "output_type": "stream",
     "text": [
      "COLUMN_NAME: 6\n",
      "COUNT_QUERY_RUN: 150\n",
      "COUNT_QUERY_WITHOUT_RESULT: 0\n",
      "COUNT_QUERY_NOT_FOUND: 0\n",
      "RANK1_MEAN: 5.74\n",
      "NDCG@5_MEAN: 51.222\n",
      "NDCG@10_MEAN: 47.231\n",
      "NDCG@15_MEAN: 49.235\n",
      "NDCG@20_MEAN: 51.636\n",
      "PRECISION@50_MEAN: 11.187\n",
      "PRECISION@100_MEAN: 6.567\n",
      "RECALL@50_MEAN: 37.289\n",
      "RECALL@100_MEAN: 43.778\n",
      "TIME_SPENT_MEAN: 0.126\n",
      "===>  2023-Jun-27 20:37:19 experiment: {'TOPK_RETRIEVER': 300, 'TOPK_RANKER': 0, 'INDEX_NAME': 'indir_juris_tcu', 'PIPE': {'PIPE_OBJECT': <haystack.pipelines.standard_pipelines.DocumentSearchPipeline object at 0x7f4df56bd750>, 'RETRIEVER_TYPE': 'bm25', 'RANKER_TYPE': 'none', 'RANKER_MODEL_NAME': '', 'RETRIEVER_MODEL_NAME': ''}, 'COLUMN_NAME': '7', 'EXPANSOR_CRITERIA': 'join_bm25_sts_30_minilm_indir'}\n",
      "Experimento envolverá 150 registros, toda a base de dados\n"
     ]
    },
    {
     "name": "stderr",
     "output_type": "stream",
     "text": [
      "100%|██████████| 150/150 [00:18<00:00,  8.02it/s]\n"
     ]
    },
    {
     "name": "stdout",
     "output_type": "stream",
     "text": [
      "COLUMN_NAME: 7\n",
      "COUNT_QUERY_RUN: 150\n",
      "COUNT_QUERY_WITHOUT_RESULT: 0\n",
      "COUNT_QUERY_NOT_FOUND: 0\n",
      "RANK1_MEAN: 5.36\n",
      "NDCG@5_MEAN: 50.741\n",
      "NDCG@10_MEAN: 47.334\n",
      "NDCG@15_MEAN: 49.312\n",
      "NDCG@20_MEAN: 51.636\n",
      "PRECISION@50_MEAN: 11.067\n",
      "PRECISION@100_MEAN: 6.487\n",
      "RECALL@50_MEAN: 36.889\n",
      "RECALL@100_MEAN: 43.244\n",
      "TIME_SPENT_MEAN: 0.125\n",
      "===>  2023-Jun-27 20:37:39 experiment: {'TOPK_RETRIEVER': 300, 'TOPK_RANKER': 0, 'INDEX_NAME': 'indir_juris_tcu', 'PIPE': {'PIPE_OBJECT': <haystack.pipelines.standard_pipelines.DocumentSearchPipeline object at 0x7f4df56bd750>, 'RETRIEVER_TYPE': 'bm25', 'RANKER_TYPE': 'none', 'RANKER_MODEL_NAME': '', 'RETRIEVER_MODEL_NAME': ''}, 'COLUMN_NAME': '8', 'EXPANSOR_CRITERIA': 'join_bm25_sts_30_minilm_indir'}\n",
      "Experimento envolverá 150 registros, toda a base de dados\n"
     ]
    },
    {
     "name": "stderr",
     "output_type": "stream",
     "text": [
      "100%|██████████| 150/150 [00:18<00:00,  8.02it/s]\n"
     ]
    },
    {
     "name": "stdout",
     "output_type": "stream",
     "text": [
      "COLUMN_NAME: 8\n",
      "COUNT_QUERY_RUN: 150\n",
      "COUNT_QUERY_WITHOUT_RESULT: 0\n",
      "COUNT_QUERY_NOT_FOUND: 0\n",
      "RANK1_MEAN: 6.267\n",
      "NDCG@5_MEAN: 49.353\n",
      "NDCG@10_MEAN: 46.664\n",
      "NDCG@15_MEAN: 48.968\n",
      "NDCG@20_MEAN: 51.228\n",
      "PRECISION@50_MEAN: 11.213\n",
      "PRECISION@100_MEAN: 6.473\n",
      "RECALL@50_MEAN: 37.378\n",
      "RECALL@100_MEAN: 43.156\n",
      "TIME_SPENT_MEAN: 0.125\n",
      "===>  2023-Jun-27 20:37:58 experiment: {'TOPK_RETRIEVER': 300, 'TOPK_RANKER': 0, 'INDEX_NAME': 'indir_juris_tcu', 'PIPE': {'PIPE_OBJECT': <haystack.pipelines.standard_pipelines.DocumentSearchPipeline object at 0x7f4df56bd750>, 'RETRIEVER_TYPE': 'bm25', 'RANKER_TYPE': 'none', 'RANKER_MODEL_NAME': '', 'RETRIEVER_MODEL_NAME': ''}, 'COLUMN_NAME': '9', 'EXPANSOR_CRITERIA': 'join_bm25_sts_30_minilm_indir'}\n",
      "Experimento envolverá 150 registros, toda a base de dados\n"
     ]
    },
    {
     "name": "stderr",
     "output_type": "stream",
     "text": [
      "100%|██████████| 150/150 [00:18<00:00,  8.03it/s]\n"
     ]
    },
    {
     "name": "stdout",
     "output_type": "stream",
     "text": [
      "COLUMN_NAME: 9\n",
      "COUNT_QUERY_RUN: 150\n",
      "COUNT_QUERY_WITHOUT_RESULT: 0\n",
      "COUNT_QUERY_NOT_FOUND: 0\n",
      "RANK1_MEAN: 6.56\n",
      "NDCG@5_MEAN: 48.675\n",
      "NDCG@10_MEAN: 45.926\n",
      "NDCG@15_MEAN: 48.31\n",
      "NDCG@20_MEAN: 50.65\n",
      "PRECISION@50_MEAN: 11.067\n",
      "PRECISION@100_MEAN: 6.453\n",
      "RECALL@50_MEAN: 36.889\n",
      "RECALL@100_MEAN: 43.022\n",
      "TIME_SPENT_MEAN: 0.125\n",
      "===>  2023-Jun-27 20:38:17 experiment: {'TOPK_RETRIEVER': 300, 'TOPK_RANKER': 0, 'INDEX_NAME': 'indir_juris_tcu_term', 'PIPE': {'PIPE_OBJECT': <haystack.pipelines.standard_pipelines.DocumentSearchPipeline object at 0x7f4df5e0c690>, 'RETRIEVER_TYPE': 'bm25', 'RANKER_TYPE': 'none', 'RANKER_MODEL_NAME': '', 'RETRIEVER_MODEL_NAME': ''}, 'COLUMN_NAME': '1', 'EXPANSOR_CRITERIA': 'join_bm25_sts_30_minilm_indir'}\n",
      "Experimento envolverá 150 registros, toda a base de dados\n"
     ]
    },
    {
     "name": "stderr",
     "output_type": "stream",
     "text": [
      "100%|██████████| 150/150 [00:21<00:00,  6.97it/s]\n"
     ]
    },
    {
     "name": "stdout",
     "output_type": "stream",
     "text": [
      "COLUMN_NAME: 1\n",
      "COUNT_QUERY_RUN: 150\n",
      "COUNT_QUERY_WITHOUT_RESULT: 0\n",
      "COUNT_QUERY_NOT_FOUND: 0\n",
      "RANK1_MEAN: 2.627\n",
      "NDCG@5_MEAN: 56.884\n",
      "NDCG@10_MEAN: 53.318\n",
      "NDCG@15_MEAN: 56.183\n",
      "NDCG@20_MEAN: 59.084\n",
      "PRECISION@50_MEAN: 13.333\n",
      "PRECISION@100_MEAN: 7.307\n",
      "RECALL@50_MEAN: 44.444\n",
      "RECALL@100_MEAN: 48.711\n",
      "TIME_SPENT_MEAN: 0.144\n",
      "===>  2023-Jun-27 20:38:39 experiment: {'TOPK_RETRIEVER': 300, 'TOPK_RANKER': 0, 'INDEX_NAME': 'indir_juris_tcu_term', 'PIPE': {'PIPE_OBJECT': <haystack.pipelines.standard_pipelines.DocumentSearchPipeline object at 0x7f4df5e0c690>, 'RETRIEVER_TYPE': 'bm25', 'RANKER_TYPE': 'none', 'RANKER_MODEL_NAME': '', 'RETRIEVER_MODEL_NAME': ''}, 'COLUMN_NAME': '10', 'EXPANSOR_CRITERIA': 'join_bm25_sts_30_minilm_indir'}\n",
      "Experimento envolverá 150 registros, toda a base de dados\n"
     ]
    },
    {
     "name": "stderr",
     "output_type": "stream",
     "text": [
      "100%|██████████| 150/150 [00:20<00:00,  7.37it/s]\n"
     ]
    },
    {
     "name": "stdout",
     "output_type": "stream",
     "text": [
      "COLUMN_NAME: 10\n",
      "COUNT_QUERY_RUN: 150\n",
      "COUNT_QUERY_WITHOUT_RESULT: 0\n",
      "COUNT_QUERY_NOT_FOUND: 0\n",
      "RANK1_MEAN: 5.713\n",
      "NDCG@5_MEAN: 49.144\n",
      "NDCG@10_MEAN: 45.793\n",
      "NDCG@15_MEAN: 48.498\n",
      "NDCG@20_MEAN: 51.198\n",
      "PRECISION@50_MEAN: 11.68\n",
      "PRECISION@100_MEAN: 6.773\n",
      "RECALL@50_MEAN: 38.933\n",
      "RECALL@100_MEAN: 45.156\n",
      "TIME_SPENT_MEAN: 0.136\n",
      "===>  2023-Jun-27 20:39:00 experiment: {'TOPK_RETRIEVER': 300, 'TOPK_RANKER': 0, 'INDEX_NAME': 'indir_juris_tcu_term', 'PIPE': {'PIPE_OBJECT': <haystack.pipelines.standard_pipelines.DocumentSearchPipeline object at 0x7f4df5e0c690>, 'RETRIEVER_TYPE': 'bm25', 'RANKER_TYPE': 'none', 'RANKER_MODEL_NAME': '', 'RETRIEVER_MODEL_NAME': ''}, 'COLUMN_NAME': '2', 'EXPANSOR_CRITERIA': 'join_bm25_sts_30_minilm_indir'}\n",
      "Experimento envolverá 150 registros, toda a base de dados\n"
     ]
    },
    {
     "name": "stderr",
     "output_type": "stream",
     "text": [
      "100%|██████████| 150/150 [00:18<00:00,  8.02it/s]\n"
     ]
    },
    {
     "name": "stdout",
     "output_type": "stream",
     "text": [
      "COLUMN_NAME: 2\n",
      "COUNT_QUERY_RUN: 150\n",
      "COUNT_QUERY_WITHOUT_RESULT: 0\n",
      "COUNT_QUERY_NOT_FOUND: 0\n",
      "RANK1_MEAN: 3.32\n",
      "NDCG@5_MEAN: 54.906\n",
      "NDCG@10_MEAN: 51.835\n",
      "NDCG@15_MEAN: 54.4\n",
      "NDCG@20_MEAN: 57.644\n",
      "PRECISION@50_MEAN: 13.013\n",
      "PRECISION@100_MEAN: 7.287\n",
      "RECALL@50_MEAN: 43.378\n",
      "RECALL@100_MEAN: 48.578\n",
      "TIME_SPENT_MEAN: 0.125\n",
      "===>  2023-Jun-27 20:39:19 experiment: {'TOPK_RETRIEVER': 300, 'TOPK_RANKER': 0, 'INDEX_NAME': 'indir_juris_tcu_term', 'PIPE': {'PIPE_OBJECT': <haystack.pipelines.standard_pipelines.DocumentSearchPipeline object at 0x7f4df5e0c690>, 'RETRIEVER_TYPE': 'bm25', 'RANKER_TYPE': 'none', 'RANKER_MODEL_NAME': '', 'RETRIEVER_MODEL_NAME': ''}, 'COLUMN_NAME': '3', 'EXPANSOR_CRITERIA': 'join_bm25_sts_30_minilm_indir'}\n",
      "Experimento envolverá 150 registros, toda a base de dados\n"
     ]
    },
    {
     "name": "stderr",
     "output_type": "stream",
     "text": [
      "100%|██████████| 150/150 [00:18<00:00,  7.99it/s]\n"
     ]
    },
    {
     "name": "stdout",
     "output_type": "stream",
     "text": [
      "COLUMN_NAME: 3\n",
      "COUNT_QUERY_RUN: 150\n",
      "COUNT_QUERY_WITHOUT_RESULT: 0\n",
      "COUNT_QUERY_NOT_FOUND: 0\n",
      "RANK1_MEAN: 3.727\n",
      "NDCG@5_MEAN: 53.81\n",
      "NDCG@10_MEAN: 50.53\n",
      "NDCG@15_MEAN: 53.632\n",
      "NDCG@20_MEAN: 56.395\n",
      "PRECISION@50_MEAN: 12.64\n",
      "PRECISION@100_MEAN: 7.267\n",
      "RECALL@50_MEAN: 42.133\n",
      "RECALL@100_MEAN: 48.445\n",
      "TIME_SPENT_MEAN: 0.125\n",
      "===>  2023-Jun-27 20:39:38 experiment: {'TOPK_RETRIEVER': 300, 'TOPK_RANKER': 0, 'INDEX_NAME': 'indir_juris_tcu_term', 'PIPE': {'PIPE_OBJECT': <haystack.pipelines.standard_pipelines.DocumentSearchPipeline object at 0x7f4df5e0c690>, 'RETRIEVER_TYPE': 'bm25', 'RANKER_TYPE': 'none', 'RANKER_MODEL_NAME': '', 'RETRIEVER_MODEL_NAME': ''}, 'COLUMN_NAME': '4', 'EXPANSOR_CRITERIA': 'join_bm25_sts_30_minilm_indir'}\n",
      "Experimento envolverá 150 registros, toda a base de dados\n"
     ]
    },
    {
     "name": "stderr",
     "output_type": "stream",
     "text": [
      "100%|██████████| 150/150 [00:18<00:00,  8.05it/s]\n"
     ]
    },
    {
     "name": "stdout",
     "output_type": "stream",
     "text": [
      "COLUMN_NAME: 4\n",
      "COUNT_QUERY_RUN: 150\n",
      "COUNT_QUERY_WITHOUT_RESULT: 0\n",
      "COUNT_QUERY_NOT_FOUND: 0\n",
      "RANK1_MEAN: 4.367\n",
      "NDCG@5_MEAN: 53.886\n",
      "NDCG@10_MEAN: 50.681\n",
      "NDCG@15_MEAN: 53.298\n",
      "NDCG@20_MEAN: 55.533\n",
      "PRECISION@50_MEAN: 12.267\n",
      "PRECISION@100_MEAN: 7.16\n",
      "RECALL@50_MEAN: 40.889\n",
      "RECALL@100_MEAN: 47.733\n",
      "TIME_SPENT_MEAN: 0.124\n",
      "===>  2023-Jun-27 20:39:58 experiment: {'TOPK_RETRIEVER': 300, 'TOPK_RANKER': 0, 'INDEX_NAME': 'indir_juris_tcu_term', 'PIPE': {'PIPE_OBJECT': <haystack.pipelines.standard_pipelines.DocumentSearchPipeline object at 0x7f4df5e0c690>, 'RETRIEVER_TYPE': 'bm25', 'RANKER_TYPE': 'none', 'RANKER_MODEL_NAME': '', 'RETRIEVER_MODEL_NAME': ''}, 'COLUMN_NAME': '5', 'EXPANSOR_CRITERIA': 'join_bm25_sts_30_minilm_indir'}\n",
      "Experimento envolverá 150 registros, toda a base de dados\n"
     ]
    },
    {
     "name": "stderr",
     "output_type": "stream",
     "text": [
      "100%|██████████| 150/150 [00:18<00:00,  8.01it/s]\n"
     ]
    },
    {
     "name": "stdout",
     "output_type": "stream",
     "text": [
      "COLUMN_NAME: 5\n",
      "COUNT_QUERY_RUN: 150\n",
      "COUNT_QUERY_WITHOUT_RESULT: 0\n",
      "COUNT_QUERY_NOT_FOUND: 0\n",
      "RANK1_MEAN: 5.427\n",
      "NDCG@5_MEAN: 51.561\n",
      "NDCG@10_MEAN: 48.703\n",
      "NDCG@15_MEAN: 51.039\n",
      "NDCG@20_MEAN: 54.063\n",
      "PRECISION@50_MEAN: 12.053\n",
      "PRECISION@100_MEAN: 7.0\n",
      "RECALL@50_MEAN: 40.178\n",
      "RECALL@100_MEAN: 46.667\n",
      "TIME_SPENT_MEAN: 0.125\n",
      "===>  2023-Jun-27 20:40:17 experiment: {'TOPK_RETRIEVER': 300, 'TOPK_RANKER': 0, 'INDEX_NAME': 'indir_juris_tcu_term', 'PIPE': {'PIPE_OBJECT': <haystack.pipelines.standard_pipelines.DocumentSearchPipeline object at 0x7f4df5e0c690>, 'RETRIEVER_TYPE': 'bm25', 'RANKER_TYPE': 'none', 'RANKER_MODEL_NAME': '', 'RETRIEVER_MODEL_NAME': ''}, 'COLUMN_NAME': '6', 'EXPANSOR_CRITERIA': 'join_bm25_sts_30_minilm_indir'}\n",
      "Experimento envolverá 150 registros, toda a base de dados\n"
     ]
    },
    {
     "name": "stderr",
     "output_type": "stream",
     "text": [
      "100%|██████████| 150/150 [00:18<00:00,  8.05it/s]\n"
     ]
    },
    {
     "name": "stdout",
     "output_type": "stream",
     "text": [
      "COLUMN_NAME: 6\n",
      "COUNT_QUERY_RUN: 150\n",
      "COUNT_QUERY_WITHOUT_RESULT: 0\n",
      "COUNT_QUERY_NOT_FOUND: 0\n",
      "RANK1_MEAN: 5.707\n",
      "NDCG@5_MEAN: 51.072\n",
      "NDCG@10_MEAN: 47.216\n",
      "NDCG@15_MEAN: 50.038\n",
      "NDCG@20_MEAN: 52.932\n",
      "PRECISION@50_MEAN: 11.76\n",
      "PRECISION@100_MEAN: 6.96\n",
      "RECALL@50_MEAN: 39.2\n",
      "RECALL@100_MEAN: 46.4\n",
      "TIME_SPENT_MEAN: 0.124\n",
      "===>  2023-Jun-27 20:40:36 experiment: {'TOPK_RETRIEVER': 300, 'TOPK_RANKER': 0, 'INDEX_NAME': 'indir_juris_tcu_term', 'PIPE': {'PIPE_OBJECT': <haystack.pipelines.standard_pipelines.DocumentSearchPipeline object at 0x7f4df5e0c690>, 'RETRIEVER_TYPE': 'bm25', 'RANKER_TYPE': 'none', 'RANKER_MODEL_NAME': '', 'RETRIEVER_MODEL_NAME': ''}, 'COLUMN_NAME': '7', 'EXPANSOR_CRITERIA': 'join_bm25_sts_30_minilm_indir'}\n",
      "Experimento envolverá 150 registros, toda a base de dados\n"
     ]
    },
    {
     "name": "stderr",
     "output_type": "stream",
     "text": [
      "100%|██████████| 150/150 [00:18<00:00,  8.07it/s]\n"
     ]
    },
    {
     "name": "stdout",
     "output_type": "stream",
     "text": [
      "COLUMN_NAME: 7\n",
      "COUNT_QUERY_RUN: 150\n",
      "COUNT_QUERY_WITHOUT_RESULT: 0\n",
      "COUNT_QUERY_NOT_FOUND: 0\n",
      "RANK1_MEAN: 5.673\n",
      "NDCG@5_MEAN: 49.76\n",
      "NDCG@10_MEAN: 46.712\n",
      "NDCG@15_MEAN: 49.655\n",
      "NDCG@20_MEAN: 52.397\n",
      "PRECISION@50_MEAN: 11.653\n",
      "PRECISION@100_MEAN: 6.853\n",
      "RECALL@50_MEAN: 38.844\n",
      "RECALL@100_MEAN: 45.689\n",
      "TIME_SPENT_MEAN: 0.124\n",
      "===>  2023-Jun-27 20:40:55 experiment: {'TOPK_RETRIEVER': 300, 'TOPK_RANKER': 0, 'INDEX_NAME': 'indir_juris_tcu_term', 'PIPE': {'PIPE_OBJECT': <haystack.pipelines.standard_pipelines.DocumentSearchPipeline object at 0x7f4df5e0c690>, 'RETRIEVER_TYPE': 'bm25', 'RANKER_TYPE': 'none', 'RANKER_MODEL_NAME': '', 'RETRIEVER_MODEL_NAME': ''}, 'COLUMN_NAME': '8', 'EXPANSOR_CRITERIA': 'join_bm25_sts_30_minilm_indir'}\n",
      "Experimento envolverá 150 registros, toda a base de dados\n"
     ]
    },
    {
     "name": "stderr",
     "output_type": "stream",
     "text": [
      "100%|██████████| 150/150 [00:18<00:00,  8.04it/s]\n"
     ]
    },
    {
     "name": "stdout",
     "output_type": "stream",
     "text": [
      "COLUMN_NAME: 8\n",
      "COUNT_QUERY_RUN: 150\n",
      "COUNT_QUERY_WITHOUT_RESULT: 0\n",
      "COUNT_QUERY_NOT_FOUND: 0\n",
      "RANK1_MEAN: 5.827\n",
      "NDCG@5_MEAN: 49.741\n",
      "NDCG@10_MEAN: 46.248\n",
      "NDCG@15_MEAN: 49.367\n",
      "NDCG@20_MEAN: 52.055\n",
      "PRECISION@50_MEAN: 11.6\n",
      "PRECISION@100_MEAN: 6.793\n",
      "RECALL@50_MEAN: 38.667\n",
      "RECALL@100_MEAN: 45.289\n",
      "TIME_SPENT_MEAN: 0.124\n",
      "===>  2023-Jun-27 20:41:14 experiment: {'TOPK_RETRIEVER': 300, 'TOPK_RANKER': 0, 'INDEX_NAME': 'indir_juris_tcu_term', 'PIPE': {'PIPE_OBJECT': <haystack.pipelines.standard_pipelines.DocumentSearchPipeline object at 0x7f4df5e0c690>, 'RETRIEVER_TYPE': 'bm25', 'RANKER_TYPE': 'none', 'RANKER_MODEL_NAME': '', 'RETRIEVER_MODEL_NAME': ''}, 'COLUMN_NAME': '9', 'EXPANSOR_CRITERIA': 'join_bm25_sts_30_minilm_indir'}\n",
      "Experimento envolverá 150 registros, toda a base de dados\n"
     ]
    },
    {
     "name": "stderr",
     "output_type": "stream",
     "text": [
      "100%|██████████| 150/150 [00:18<00:00,  8.08it/s]\n"
     ]
    },
    {
     "name": "stdout",
     "output_type": "stream",
     "text": [
      "COLUMN_NAME: 9\n",
      "COUNT_QUERY_RUN: 150\n",
      "COUNT_QUERY_WITHOUT_RESULT: 0\n",
      "COUNT_QUERY_NOT_FOUND: 0\n",
      "RANK1_MEAN: 5.973\n",
      "NDCG@5_MEAN: 49.215\n",
      "NDCG@10_MEAN: 45.793\n",
      "NDCG@15_MEAN: 48.551\n",
      "NDCG@20_MEAN: 51.136\n",
      "PRECISION@50_MEAN: 11.6\n",
      "PRECISION@100_MEAN: 6.767\n",
      "RECALL@50_MEAN: 38.667\n",
      "RECALL@100_MEAN: 45.111\n",
      "TIME_SPENT_MEAN: 0.124\n",
      "===>  2023-Jun-27 20:41:33 experiment: {'TOPK_RETRIEVER': 300, 'TOPK_RANKER': 0, 'INDEX_NAME': 'indir_juris_tcu_synonym', 'PIPE': {'PIPE_OBJECT': <haystack.pipelines.standard_pipelines.DocumentSearchPipeline object at 0x7f4df56bda90>, 'RETRIEVER_TYPE': 'bm25', 'RANKER_TYPE': 'none', 'RANKER_MODEL_NAME': '', 'RETRIEVER_MODEL_NAME': ''}, 'COLUMN_NAME': '1', 'EXPANSOR_CRITERIA': 'join_bm25_sts_30_minilm_indir'}\n",
      "Experimento envolverá 150 registros, toda a base de dados\n"
     ]
    },
    {
     "name": "stderr",
     "output_type": "stream",
     "text": [
      "100%|██████████| 150/150 [00:20<00:00,  7.17it/s]\n"
     ]
    },
    {
     "name": "stdout",
     "output_type": "stream",
     "text": [
      "COLUMN_NAME: 1\n",
      "COUNT_QUERY_RUN: 150\n",
      "COUNT_QUERY_WITHOUT_RESULT: 0\n",
      "COUNT_QUERY_NOT_FOUND: 0\n",
      "RANK1_MEAN: 3.707\n",
      "NDCG@5_MEAN: 54.748\n",
      "NDCG@10_MEAN: 52.149\n",
      "NDCG@15_MEAN: 54.626\n",
      "NDCG@20_MEAN: 57.22\n",
      "PRECISION@50_MEAN: 12.907\n",
      "PRECISION@100_MEAN: 7.16\n",
      "RECALL@50_MEAN: 43.022\n",
      "RECALL@100_MEAN: 47.733\n",
      "TIME_SPENT_MEAN: 0.139\n",
      "===>  2023-Jun-27 20:41:55 experiment: {'TOPK_RETRIEVER': 300, 'TOPK_RANKER': 0, 'INDEX_NAME': 'indir_juris_tcu_synonym', 'PIPE': {'PIPE_OBJECT': <haystack.pipelines.standard_pipelines.DocumentSearchPipeline object at 0x7f4df56bda90>, 'RETRIEVER_TYPE': 'bm25', 'RANKER_TYPE': 'none', 'RANKER_MODEL_NAME': '', 'RETRIEVER_MODEL_NAME': ''}, 'COLUMN_NAME': '10', 'EXPANSOR_CRITERIA': 'join_bm25_sts_30_minilm_indir'}\n",
      "Experimento envolverá 150 registros, toda a base de dados\n"
     ]
    },
    {
     "name": "stderr",
     "output_type": "stream",
     "text": [
      "100%|██████████| 150/150 [00:20<00:00,  7.44it/s]\n"
     ]
    },
    {
     "name": "stdout",
     "output_type": "stream",
     "text": [
      "COLUMN_NAME: 10\n",
      "COUNT_QUERY_RUN: 150\n",
      "COUNT_QUERY_WITHOUT_RESULT: 0\n",
      "COUNT_QUERY_NOT_FOUND: 1\n",
      "RANK1_MEAN: 8.423\n",
      "NDCG@5_MEAN: 44.343\n",
      "NDCG@10_MEAN: 41.86\n",
      "NDCG@15_MEAN: 44.937\n",
      "NDCG@20_MEAN: 47.458\n",
      "PRECISION@50_MEAN: 11.147\n",
      "PRECISION@100_MEAN: 6.413\n",
      "RECALL@50_MEAN: 37.156\n",
      "RECALL@100_MEAN: 42.756\n",
      "TIME_SPENT_MEAN: 0.134\n",
      "===>  2023-Jun-27 20:42:15 experiment: {'TOPK_RETRIEVER': 300, 'TOPK_RANKER': 0, 'INDEX_NAME': 'indir_juris_tcu_synonym', 'PIPE': {'PIPE_OBJECT': <haystack.pipelines.standard_pipelines.DocumentSearchPipeline object at 0x7f4df56bda90>, 'RETRIEVER_TYPE': 'bm25', 'RANKER_TYPE': 'none', 'RANKER_MODEL_NAME': '', 'RETRIEVER_MODEL_NAME': ''}, 'COLUMN_NAME': '2', 'EXPANSOR_CRITERIA': 'join_bm25_sts_30_minilm_indir'}\n",
      "Experimento envolverá 150 registros, toda a base de dados\n"
     ]
    },
    {
     "name": "stderr",
     "output_type": "stream",
     "text": [
      "100%|██████████| 150/150 [00:19<00:00,  7.82it/s]\n"
     ]
    },
    {
     "name": "stdout",
     "output_type": "stream",
     "text": [
      "COLUMN_NAME: 2\n",
      "COUNT_QUERY_RUN: 150\n",
      "COUNT_QUERY_WITHOUT_RESULT: 0\n",
      "COUNT_QUERY_NOT_FOUND: 0\n",
      "RANK1_MEAN: 4.793\n",
      "NDCG@5_MEAN: 52.719\n",
      "NDCG@10_MEAN: 49.361\n",
      "NDCG@15_MEAN: 52.418\n",
      "NDCG@20_MEAN: 54.659\n",
      "PRECISION@50_MEAN: 12.453\n",
      "PRECISION@100_MEAN: 6.987\n",
      "RECALL@50_MEAN: 41.511\n",
      "RECALL@100_MEAN: 46.578\n",
      "TIME_SPENT_MEAN: 0.128\n",
      "===>  2023-Jun-27 20:42:35 experiment: {'TOPK_RETRIEVER': 300, 'TOPK_RANKER': 0, 'INDEX_NAME': 'indir_juris_tcu_synonym', 'PIPE': {'PIPE_OBJECT': <haystack.pipelines.standard_pipelines.DocumentSearchPipeline object at 0x7f4df56bda90>, 'RETRIEVER_TYPE': 'bm25', 'RANKER_TYPE': 'none', 'RANKER_MODEL_NAME': '', 'RETRIEVER_MODEL_NAME': ''}, 'COLUMN_NAME': '3', 'EXPANSOR_CRITERIA': 'join_bm25_sts_30_minilm_indir'}\n",
      "Experimento envolverá 150 registros, toda a base de dados\n"
     ]
    },
    {
     "name": "stderr",
     "output_type": "stream",
     "text": [
      "100%|██████████| 150/150 [00:18<00:00,  8.01it/s]\n"
     ]
    },
    {
     "name": "stdout",
     "output_type": "stream",
     "text": [
      "COLUMN_NAME: 3\n",
      "COUNT_QUERY_RUN: 150\n",
      "COUNT_QUERY_WITHOUT_RESULT: 0\n",
      "COUNT_QUERY_NOT_FOUND: 0\n",
      "RANK1_MEAN: 5.9\n",
      "NDCG@5_MEAN: 50.788\n",
      "NDCG@10_MEAN: 47.459\n",
      "NDCG@15_MEAN: 50.118\n",
      "NDCG@20_MEAN: 52.545\n",
      "PRECISION@50_MEAN: 12.013\n",
      "PRECISION@100_MEAN: 6.807\n",
      "RECALL@50_MEAN: 40.044\n",
      "RECALL@100_MEAN: 45.378\n",
      "TIME_SPENT_MEAN: 0.125\n",
      "===>  2023-Jun-27 20:42:55 experiment: {'TOPK_RETRIEVER': 300, 'TOPK_RANKER': 0, 'INDEX_NAME': 'indir_juris_tcu_synonym', 'PIPE': {'PIPE_OBJECT': <haystack.pipelines.standard_pipelines.DocumentSearchPipeline object at 0x7f4df56bda90>, 'RETRIEVER_TYPE': 'bm25', 'RANKER_TYPE': 'none', 'RANKER_MODEL_NAME': '', 'RETRIEVER_MODEL_NAME': ''}, 'COLUMN_NAME': '4', 'EXPANSOR_CRITERIA': 'join_bm25_sts_30_minilm_indir'}\n",
      "Experimento envolverá 150 registros, toda a base de dados\n"
     ]
    },
    {
     "name": "stderr",
     "output_type": "stream",
     "text": [
      "100%|██████████| 150/150 [00:18<00:00,  8.06it/s]\n"
     ]
    },
    {
     "name": "stdout",
     "output_type": "stream",
     "text": [
      "COLUMN_NAME: 4\n",
      "COUNT_QUERY_RUN: 150\n",
      "COUNT_QUERY_WITHOUT_RESULT: 0\n",
      "COUNT_QUERY_NOT_FOUND: 0\n",
      "RANK1_MEAN: 7.0\n",
      "NDCG@5_MEAN: 48.901\n",
      "NDCG@10_MEAN: 45.723\n",
      "NDCG@15_MEAN: 48.853\n",
      "NDCG@20_MEAN: 51.187\n",
      "PRECISION@50_MEAN: 11.707\n",
      "PRECISION@100_MEAN: 6.693\n",
      "RECALL@50_MEAN: 39.022\n",
      "RECALL@100_MEAN: 44.622\n",
      "TIME_SPENT_MEAN: 0.124\n",
      "===>  2023-Jun-27 20:43:14 experiment: {'TOPK_RETRIEVER': 300, 'TOPK_RANKER': 0, 'INDEX_NAME': 'indir_juris_tcu_synonym', 'PIPE': {'PIPE_OBJECT': <haystack.pipelines.standard_pipelines.DocumentSearchPipeline object at 0x7f4df56bda90>, 'RETRIEVER_TYPE': 'bm25', 'RANKER_TYPE': 'none', 'RANKER_MODEL_NAME': '', 'RETRIEVER_MODEL_NAME': ''}, 'COLUMN_NAME': '5', 'EXPANSOR_CRITERIA': 'join_bm25_sts_30_minilm_indir'}\n",
      "Experimento envolverá 150 registros, toda a base de dados\n"
     ]
    },
    {
     "name": "stderr",
     "output_type": "stream",
     "text": [
      "100%|██████████| 150/150 [00:18<00:00,  7.97it/s]\n"
     ]
    },
    {
     "name": "stdout",
     "output_type": "stream",
     "text": [
      "COLUMN_NAME: 5\n",
      "COUNT_QUERY_RUN: 150\n",
      "COUNT_QUERY_WITHOUT_RESULT: 0\n",
      "COUNT_QUERY_NOT_FOUND: 0\n",
      "RANK1_MEAN: 7.96\n",
      "NDCG@5_MEAN: 47.584\n",
      "NDCG@10_MEAN: 44.69\n",
      "NDCG@15_MEAN: 47.444\n",
      "NDCG@20_MEAN: 49.77\n",
      "PRECISION@50_MEAN: 11.533\n",
      "PRECISION@100_MEAN: 6.567\n",
      "RECALL@50_MEAN: 38.444\n",
      "RECALL@100_MEAN: 43.778\n",
      "TIME_SPENT_MEAN: 0.125\n",
      "===>  2023-Jun-27 20:43:33 experiment: {'TOPK_RETRIEVER': 300, 'TOPK_RANKER': 0, 'INDEX_NAME': 'indir_juris_tcu_synonym', 'PIPE': {'PIPE_OBJECT': <haystack.pipelines.standard_pipelines.DocumentSearchPipeline object at 0x7f4df56bda90>, 'RETRIEVER_TYPE': 'bm25', 'RANKER_TYPE': 'none', 'RANKER_MODEL_NAME': '', 'RETRIEVER_MODEL_NAME': ''}, 'COLUMN_NAME': '6', 'EXPANSOR_CRITERIA': 'join_bm25_sts_30_minilm_indir'}\n",
      "Experimento envolverá 150 registros, toda a base de dados\n"
     ]
    },
    {
     "name": "stderr",
     "output_type": "stream",
     "text": [
      "100%|██████████| 150/150 [00:18<00:00,  8.08it/s]\n"
     ]
    },
    {
     "name": "stdout",
     "output_type": "stream",
     "text": [
      "COLUMN_NAME: 6\n",
      "COUNT_QUERY_RUN: 150\n",
      "COUNT_QUERY_WITHOUT_RESULT: 0\n",
      "COUNT_QUERY_NOT_FOUND: 0\n",
      "RANK1_MEAN: 8.907\n",
      "NDCG@5_MEAN: 46.345\n",
      "NDCG@10_MEAN: 43.379\n",
      "NDCG@15_MEAN: 46.572\n",
      "NDCG@20_MEAN: 48.989\n",
      "PRECISION@50_MEAN: 11.347\n",
      "PRECISION@100_MEAN: 6.493\n",
      "RECALL@50_MEAN: 37.822\n",
      "RECALL@100_MEAN: 43.289\n",
      "TIME_SPENT_MEAN: 0.124\n",
      "===>  2023-Jun-27 20:43:52 experiment: {'TOPK_RETRIEVER': 300, 'TOPK_RANKER': 0, 'INDEX_NAME': 'indir_juris_tcu_synonym', 'PIPE': {'PIPE_OBJECT': <haystack.pipelines.standard_pipelines.DocumentSearchPipeline object at 0x7f4df56bda90>, 'RETRIEVER_TYPE': 'bm25', 'RANKER_TYPE': 'none', 'RANKER_MODEL_NAME': '', 'RETRIEVER_MODEL_NAME': ''}, 'COLUMN_NAME': '7', 'EXPANSOR_CRITERIA': 'join_bm25_sts_30_minilm_indir'}\n",
      "Experimento envolverá 150 registros, toda a base de dados\n"
     ]
    },
    {
     "name": "stderr",
     "output_type": "stream",
     "text": [
      "100%|██████████| 150/150 [00:18<00:00,  8.03it/s]\n"
     ]
    },
    {
     "name": "stdout",
     "output_type": "stream",
     "text": [
      "COLUMN_NAME: 7\n",
      "COUNT_QUERY_RUN: 150\n",
      "COUNT_QUERY_WITHOUT_RESULT: 0\n",
      "COUNT_QUERY_NOT_FOUND: 0\n",
      "RANK1_MEAN: 9.247\n",
      "NDCG@5_MEAN: 46.068\n",
      "NDCG@10_MEAN: 43.126\n",
      "NDCG@15_MEAN: 45.799\n",
      "NDCG@20_MEAN: 48.4\n",
      "PRECISION@50_MEAN: 11.413\n",
      "PRECISION@100_MEAN: 6.427\n",
      "RECALL@50_MEAN: 38.044\n",
      "RECALL@100_MEAN: 42.845\n",
      "TIME_SPENT_MEAN: 0.125\n",
      "===>  2023-Jun-27 20:44:12 experiment: {'TOPK_RETRIEVER': 300, 'TOPK_RANKER': 0, 'INDEX_NAME': 'indir_juris_tcu_synonym', 'PIPE': {'PIPE_OBJECT': <haystack.pipelines.standard_pipelines.DocumentSearchPipeline object at 0x7f4df56bda90>, 'RETRIEVER_TYPE': 'bm25', 'RANKER_TYPE': 'none', 'RANKER_MODEL_NAME': '', 'RETRIEVER_MODEL_NAME': ''}, 'COLUMN_NAME': '8', 'EXPANSOR_CRITERIA': 'join_bm25_sts_30_minilm_indir'}\n",
      "Experimento envolverá 150 registros, toda a base de dados\n"
     ]
    },
    {
     "name": "stderr",
     "output_type": "stream",
     "text": [
      "100%|██████████| 150/150 [00:18<00:00,  8.05it/s]\n"
     ]
    },
    {
     "name": "stdout",
     "output_type": "stream",
     "text": [
      "COLUMN_NAME: 8\n",
      "COUNT_QUERY_RUN: 150\n",
      "COUNT_QUERY_WITHOUT_RESULT: 0\n",
      "COUNT_QUERY_NOT_FOUND: 1\n",
      "RANK1_MEAN: 9.262\n",
      "NDCG@5_MEAN: 45.438\n",
      "NDCG@10_MEAN: 42.639\n",
      "NDCG@15_MEAN: 45.819\n",
      "NDCG@20_MEAN: 48.276\n",
      "PRECISION@50_MEAN: 11.213\n",
      "PRECISION@100_MEAN: 6.453\n",
      "RECALL@50_MEAN: 37.378\n",
      "RECALL@100_MEAN: 43.022\n",
      "TIME_SPENT_MEAN: 0.124\n",
      "===>  2023-Jun-27 20:44:31 experiment: {'TOPK_RETRIEVER': 300, 'TOPK_RANKER': 0, 'INDEX_NAME': 'indir_juris_tcu_synonym', 'PIPE': {'PIPE_OBJECT': <haystack.pipelines.standard_pipelines.DocumentSearchPipeline object at 0x7f4df56bda90>, 'RETRIEVER_TYPE': 'bm25', 'RANKER_TYPE': 'none', 'RANKER_MODEL_NAME': '', 'RETRIEVER_MODEL_NAME': ''}, 'COLUMN_NAME': '9', 'EXPANSOR_CRITERIA': 'join_bm25_sts_30_minilm_indir'}\n",
      "Experimento envolverá 150 registros, toda a base de dados\n"
     ]
    },
    {
     "name": "stderr",
     "output_type": "stream",
     "text": [
      "100%|██████████| 150/150 [00:18<00:00,  8.07it/s]\n"
     ]
    },
    {
     "name": "stdout",
     "output_type": "stream",
     "text": [
      "COLUMN_NAME: 9\n",
      "COUNT_QUERY_RUN: 150\n",
      "COUNT_QUERY_WITHOUT_RESULT: 0\n",
      "COUNT_QUERY_NOT_FOUND: 1\n",
      "RANK1_MEAN: 8.765\n",
      "NDCG@5_MEAN: 44.505\n",
      "NDCG@10_MEAN: 41.902\n",
      "NDCG@15_MEAN: 45.121\n",
      "NDCG@20_MEAN: 47.53\n",
      "PRECISION@50_MEAN: 11.16\n",
      "PRECISION@100_MEAN: 6.42\n",
      "RECALL@50_MEAN: 37.2\n",
      "RECALL@100_MEAN: 42.8\n",
      "TIME_SPENT_MEAN: 0.124\n",
      "===>  2023-Jun-27 20:44:50 experiment: {'TOPK_RETRIEVER': 300, 'TOPK_RANKER': 0, 'INDEX_NAME': 'indir_juris_tcu_related_term', 'PIPE': {'PIPE_OBJECT': <haystack.pipelines.standard_pipelines.DocumentSearchPipeline object at 0x7f4df56bdc90>, 'RETRIEVER_TYPE': 'bm25', 'RANKER_TYPE': 'none', 'RANKER_MODEL_NAME': '', 'RETRIEVER_MODEL_NAME': ''}, 'COLUMN_NAME': '1', 'EXPANSOR_CRITERIA': 'join_bm25_sts_30_minilm_indir'}\n",
      "Experimento envolverá 150 registros, toda a base de dados\n"
     ]
    },
    {
     "name": "stderr",
     "output_type": "stream",
     "text": [
      "100%|██████████| 150/150 [00:22<00:00,  6.68it/s]\n"
     ]
    },
    {
     "name": "stdout",
     "output_type": "stream",
     "text": [
      "COLUMN_NAME: 1\n",
      "COUNT_QUERY_RUN: 150\n",
      "COUNT_QUERY_WITHOUT_RESULT: 0\n",
      "COUNT_QUERY_NOT_FOUND: 1\n",
      "RANK1_MEAN: 5.953\n",
      "NDCG@5_MEAN: 52.424\n",
      "NDCG@10_MEAN: 49.652\n",
      "NDCG@15_MEAN: 51.492\n",
      "NDCG@20_MEAN: 54.167\n",
      "PRECISION@50_MEAN: 12.36\n",
      "PRECISION@100_MEAN: 6.9\n",
      "RECALL@50_MEAN: 41.2\n",
      "RECALL@100_MEAN: 46.0\n",
      "TIME_SPENT_MEAN: 0.15\n",
      "===>  2023-Jun-27 20:45:13 experiment: {'TOPK_RETRIEVER': 300, 'TOPK_RANKER': 0, 'INDEX_NAME': 'indir_juris_tcu_related_term', 'PIPE': {'PIPE_OBJECT': <haystack.pipelines.standard_pipelines.DocumentSearchPipeline object at 0x7f4df56bdc90>, 'RETRIEVER_TYPE': 'bm25', 'RANKER_TYPE': 'none', 'RANKER_MODEL_NAME': '', 'RETRIEVER_MODEL_NAME': ''}, 'COLUMN_NAME': '10', 'EXPANSOR_CRITERIA': 'join_bm25_sts_30_minilm_indir'}\n",
      "Experimento envolverá 150 registros, toda a base de dados\n"
     ]
    },
    {
     "name": "stderr",
     "output_type": "stream",
     "text": [
      "100%|██████████| 150/150 [00:21<00:00,  6.98it/s]\n"
     ]
    },
    {
     "name": "stdout",
     "output_type": "stream",
     "text": [
      "COLUMN_NAME: 10\n",
      "COUNT_QUERY_RUN: 150\n",
      "COUNT_QUERY_WITHOUT_RESULT: 0\n",
      "COUNT_QUERY_NOT_FOUND: 2\n",
      "RANK1_MEAN: 12.52\n",
      "NDCG@5_MEAN: 40.288\n",
      "NDCG@10_MEAN: 38.309\n",
      "NDCG@15_MEAN: 41.096\n",
      "NDCG@20_MEAN: 43.782\n",
      "PRECISION@50_MEAN: 10.48\n",
      "PRECISION@100_MEAN: 6.147\n",
      "RECALL@50_MEAN: 34.933\n",
      "RECALL@100_MEAN: 40.978\n",
      "TIME_SPENT_MEAN: 0.143\n",
      "===>  2023-Jun-27 20:45:35 experiment: {'TOPK_RETRIEVER': 300, 'TOPK_RANKER': 0, 'INDEX_NAME': 'indir_juris_tcu_related_term', 'PIPE': {'PIPE_OBJECT': <haystack.pipelines.standard_pipelines.DocumentSearchPipeline object at 0x7f4df56bdc90>, 'RETRIEVER_TYPE': 'bm25', 'RANKER_TYPE': 'none', 'RANKER_MODEL_NAME': '', 'RETRIEVER_MODEL_NAME': ''}, 'COLUMN_NAME': '2', 'EXPANSOR_CRITERIA': 'join_bm25_sts_30_minilm_indir'}\n",
      "Experimento envolverá 150 registros, toda a base de dados\n"
     ]
    },
    {
     "name": "stderr",
     "output_type": "stream",
     "text": [
      "100%|██████████| 150/150 [00:19<00:00,  7.74it/s]\n"
     ]
    },
    {
     "name": "stdout",
     "output_type": "stream",
     "text": [
      "COLUMN_NAME: 2\n",
      "COUNT_QUERY_RUN: 150\n",
      "COUNT_QUERY_WITHOUT_RESULT: 0\n",
      "COUNT_QUERY_NOT_FOUND: 2\n",
      "RANK1_MEAN: 7.095\n",
      "NDCG@5_MEAN: 49.968\n",
      "NDCG@10_MEAN: 46.186\n",
      "NDCG@15_MEAN: 48.724\n",
      "NDCG@20_MEAN: 51.391\n",
      "PRECISION@50_MEAN: 11.907\n",
      "PRECISION@100_MEAN: 6.813\n",
      "RECALL@50_MEAN: 39.689\n",
      "RECALL@100_MEAN: 45.422\n",
      "TIME_SPENT_MEAN: 0.129\n",
      "===>  2023-Jun-27 20:45:56 experiment: {'TOPK_RETRIEVER': 300, 'TOPK_RANKER': 0, 'INDEX_NAME': 'indir_juris_tcu_related_term', 'PIPE': {'PIPE_OBJECT': <haystack.pipelines.standard_pipelines.DocumentSearchPipeline object at 0x7f4df56bdc90>, 'RETRIEVER_TYPE': 'bm25', 'RANKER_TYPE': 'none', 'RANKER_MODEL_NAME': '', 'RETRIEVER_MODEL_NAME': ''}, 'COLUMN_NAME': '3', 'EXPANSOR_CRITERIA': 'join_bm25_sts_30_minilm_indir'}\n",
      "Experimento envolverá 150 registros, toda a base de dados\n"
     ]
    },
    {
     "name": "stderr",
     "output_type": "stream",
     "text": [
      "100%|██████████| 150/150 [00:19<00:00,  7.74it/s]\n"
     ]
    },
    {
     "name": "stdout",
     "output_type": "stream",
     "text": [
      "COLUMN_NAME: 3\n",
      "COUNT_QUERY_RUN: 150\n",
      "COUNT_QUERY_WITHOUT_RESULT: 0\n",
      "COUNT_QUERY_NOT_FOUND: 1\n",
      "RANK1_MEAN: 11.054\n",
      "NDCG@5_MEAN: 48.573\n",
      "NDCG@10_MEAN: 45.287\n",
      "NDCG@15_MEAN: 47.907\n",
      "NDCG@20_MEAN: 50.281\n",
      "PRECISION@50_MEAN: 11.387\n",
      "PRECISION@100_MEAN: 6.567\n",
      "RECALL@50_MEAN: 37.956\n",
      "RECALL@100_MEAN: 43.778\n",
      "TIME_SPENT_MEAN: 0.129\n",
      "===>  2023-Jun-27 20:46:16 experiment: {'TOPK_RETRIEVER': 300, 'TOPK_RANKER': 0, 'INDEX_NAME': 'indir_juris_tcu_related_term', 'PIPE': {'PIPE_OBJECT': <haystack.pipelines.standard_pipelines.DocumentSearchPipeline object at 0x7f4df56bdc90>, 'RETRIEVER_TYPE': 'bm25', 'RANKER_TYPE': 'none', 'RANKER_MODEL_NAME': '', 'RETRIEVER_MODEL_NAME': ''}, 'COLUMN_NAME': '4', 'EXPANSOR_CRITERIA': 'join_bm25_sts_30_minilm_indir'}\n",
      "Experimento envolverá 150 registros, toda a base de dados\n"
     ]
    },
    {
     "name": "stderr",
     "output_type": "stream",
     "text": [
      "100%|██████████| 150/150 [00:19<00:00,  7.85it/s]\n"
     ]
    },
    {
     "name": "stdout",
     "output_type": "stream",
     "text": [
      "COLUMN_NAME: 4\n",
      "COUNT_QUERY_RUN: 150\n",
      "COUNT_QUERY_WITHOUT_RESULT: 0\n",
      "COUNT_QUERY_NOT_FOUND: 2\n",
      "RANK1_MEAN: 10.378\n",
      "NDCG@5_MEAN: 47.867\n",
      "NDCG@10_MEAN: 44.65\n",
      "NDCG@15_MEAN: 47.082\n",
      "NDCG@20_MEAN: 49.436\n",
      "PRECISION@50_MEAN: 11.187\n",
      "PRECISION@100_MEAN: 6.453\n",
      "RECALL@50_MEAN: 37.289\n",
      "RECALL@100_MEAN: 43.022\n",
      "TIME_SPENT_MEAN: 0.127\n",
      "===>  2023-Jun-27 20:46:35 experiment: {'TOPK_RETRIEVER': 300, 'TOPK_RANKER': 0, 'INDEX_NAME': 'indir_juris_tcu_related_term', 'PIPE': {'PIPE_OBJECT': <haystack.pipelines.standard_pipelines.DocumentSearchPipeline object at 0x7f4df56bdc90>, 'RETRIEVER_TYPE': 'bm25', 'RANKER_TYPE': 'none', 'RANKER_MODEL_NAME': '', 'RETRIEVER_MODEL_NAME': ''}, 'COLUMN_NAME': '5', 'EXPANSOR_CRITERIA': 'join_bm25_sts_30_minilm_indir'}\n",
      "Experimento envolverá 150 registros, toda a base de dados\n"
     ]
    },
    {
     "name": "stderr",
     "output_type": "stream",
     "text": [
      "100%|██████████| 150/150 [00:18<00:00,  7.91it/s]\n"
     ]
    },
    {
     "name": "stdout",
     "output_type": "stream",
     "text": [
      "COLUMN_NAME: 5\n",
      "COUNT_QUERY_RUN: 150\n",
      "COUNT_QUERY_WITHOUT_RESULT: 0\n",
      "COUNT_QUERY_NOT_FOUND: 2\n",
      "RANK1_MEAN: 13.115\n",
      "NDCG@5_MEAN: 45.086\n",
      "NDCG@10_MEAN: 42.381\n",
      "NDCG@15_MEAN: 45.001\n",
      "NDCG@20_MEAN: 47.403\n",
      "PRECISION@50_MEAN: 10.907\n",
      "PRECISION@100_MEAN: 6.3\n",
      "RECALL@50_MEAN: 36.356\n",
      "RECALL@100_MEAN: 42.0\n",
      "TIME_SPENT_MEAN: 0.126\n",
      "===>  2023-Jun-27 20:46:55 experiment: {'TOPK_RETRIEVER': 300, 'TOPK_RANKER': 0, 'INDEX_NAME': 'indir_juris_tcu_related_term', 'PIPE': {'PIPE_OBJECT': <haystack.pipelines.standard_pipelines.DocumentSearchPipeline object at 0x7f4df56bdc90>, 'RETRIEVER_TYPE': 'bm25', 'RANKER_TYPE': 'none', 'RANKER_MODEL_NAME': '', 'RETRIEVER_MODEL_NAME': ''}, 'COLUMN_NAME': '6', 'EXPANSOR_CRITERIA': 'join_bm25_sts_30_minilm_indir'}\n",
      "Experimento envolverá 150 registros, toda a base de dados\n"
     ]
    },
    {
     "name": "stderr",
     "output_type": "stream",
     "text": [
      "100%|██████████| 150/150 [00:18<00:00,  7.91it/s]\n"
     ]
    },
    {
     "name": "stdout",
     "output_type": "stream",
     "text": [
      "COLUMN_NAME: 6\n",
      "COUNT_QUERY_RUN: 150\n",
      "COUNT_QUERY_WITHOUT_RESULT: 0\n",
      "COUNT_QUERY_NOT_FOUND: 2\n",
      "RANK1_MEAN: 12.034\n",
      "NDCG@5_MEAN: 43.579\n",
      "NDCG@10_MEAN: 41.054\n",
      "NDCG@15_MEAN: 43.791\n",
      "NDCG@20_MEAN: 46.241\n",
      "PRECISION@50_MEAN: 10.693\n",
      "PRECISION@100_MEAN: 6.22\n",
      "RECALL@50_MEAN: 35.644\n",
      "RECALL@100_MEAN: 41.467\n",
      "TIME_SPENT_MEAN: 0.126\n",
      "===>  2023-Jun-27 20:47:15 experiment: {'TOPK_RETRIEVER': 300, 'TOPK_RANKER': 0, 'INDEX_NAME': 'indir_juris_tcu_related_term', 'PIPE': {'PIPE_OBJECT': <haystack.pipelines.standard_pipelines.DocumentSearchPipeline object at 0x7f4df56bdc90>, 'RETRIEVER_TYPE': 'bm25', 'RANKER_TYPE': 'none', 'RANKER_MODEL_NAME': '', 'RETRIEVER_MODEL_NAME': ''}, 'COLUMN_NAME': '7', 'EXPANSOR_CRITERIA': 'join_bm25_sts_30_minilm_indir'}\n",
      "Experimento envolverá 150 registros, toda a base de dados\n"
     ]
    },
    {
     "name": "stderr",
     "output_type": "stream",
     "text": [
      "100%|██████████| 150/150 [00:19<00:00,  7.89it/s]\n"
     ]
    },
    {
     "name": "stdout",
     "output_type": "stream",
     "text": [
      "COLUMN_NAME: 7\n",
      "COUNT_QUERY_RUN: 150\n",
      "COUNT_QUERY_WITHOUT_RESULT: 0\n",
      "COUNT_QUERY_NOT_FOUND: 2\n",
      "RANK1_MEAN: 11.095\n",
      "NDCG@5_MEAN: 42.875\n",
      "NDCG@10_MEAN: 40.841\n",
      "NDCG@15_MEAN: 43.723\n",
      "NDCG@20_MEAN: 46.041\n",
      "PRECISION@50_MEAN: 10.707\n",
      "PRECISION@100_MEAN: 6.26\n",
      "RECALL@50_MEAN: 35.689\n",
      "RECALL@100_MEAN: 41.733\n",
      "TIME_SPENT_MEAN: 0.127\n",
      "===>  2023-Jun-27 20:47:35 experiment: {'TOPK_RETRIEVER': 300, 'TOPK_RANKER': 0, 'INDEX_NAME': 'indir_juris_tcu_related_term', 'PIPE': {'PIPE_OBJECT': <haystack.pipelines.standard_pipelines.DocumentSearchPipeline object at 0x7f4df56bdc90>, 'RETRIEVER_TYPE': 'bm25', 'RANKER_TYPE': 'none', 'RANKER_MODEL_NAME': '', 'RETRIEVER_MODEL_NAME': ''}, 'COLUMN_NAME': '8', 'EXPANSOR_CRITERIA': 'join_bm25_sts_30_minilm_indir'}\n",
      "Experimento envolverá 150 registros, toda a base de dados\n"
     ]
    },
    {
     "name": "stderr",
     "output_type": "stream",
     "text": [
      "100%|██████████| 150/150 [00:19<00:00,  7.83it/s]\n"
     ]
    },
    {
     "name": "stdout",
     "output_type": "stream",
     "text": [
      "COLUMN_NAME: 8\n",
      "COUNT_QUERY_RUN: 150\n",
      "COUNT_QUERY_WITHOUT_RESULT: 0\n",
      "COUNT_QUERY_NOT_FOUND: 2\n",
      "RANK1_MEAN: 11.419\n",
      "NDCG@5_MEAN: 41.096\n",
      "NDCG@10_MEAN: 39.387\n",
      "NDCG@15_MEAN: 42.402\n",
      "NDCG@20_MEAN: 44.821\n",
      "PRECISION@50_MEAN: 10.56\n",
      "PRECISION@100_MEAN: 6.213\n",
      "RECALL@50_MEAN: 35.2\n",
      "RECALL@100_MEAN: 41.422\n",
      "TIME_SPENT_MEAN: 0.128\n",
      "===>  2023-Jun-27 20:47:54 experiment: {'TOPK_RETRIEVER': 300, 'TOPK_RANKER': 0, 'INDEX_NAME': 'indir_juris_tcu_related_term', 'PIPE': {'PIPE_OBJECT': <haystack.pipelines.standard_pipelines.DocumentSearchPipeline object at 0x7f4df56bdc90>, 'RETRIEVER_TYPE': 'bm25', 'RANKER_TYPE': 'none', 'RANKER_MODEL_NAME': '', 'RETRIEVER_MODEL_NAME': ''}, 'COLUMN_NAME': '9', 'EXPANSOR_CRITERIA': 'join_bm25_sts_30_minilm_indir'}\n",
      "Experimento envolverá 150 registros, toda a base de dados\n"
     ]
    },
    {
     "name": "stderr",
     "output_type": "stream",
     "text": [
      "100%|██████████| 150/150 [00:19<00:00,  7.87it/s]\n"
     ]
    },
    {
     "name": "stdout",
     "output_type": "stream",
     "text": [
      "COLUMN_NAME: 9\n",
      "COUNT_QUERY_RUN: 150\n",
      "COUNT_QUERY_WITHOUT_RESULT: 0\n",
      "COUNT_QUERY_NOT_FOUND: 2\n",
      "RANK1_MEAN: 11.466\n",
      "NDCG@5_MEAN: 40.475\n",
      "NDCG@10_MEAN: 38.537\n",
      "NDCG@15_MEAN: 41.345\n",
      "NDCG@20_MEAN: 43.921\n",
      "PRECISION@50_MEAN: 10.52\n",
      "PRECISION@100_MEAN: 6.193\n",
      "RECALL@50_MEAN: 35.067\n",
      "RECALL@100_MEAN: 41.289\n",
      "TIME_SPENT_MEAN: 0.127\n",
      "===>  2023-Jun-27 20:48:14 experiment: {'TOPK_RETRIEVER': 300, 'TOPK_RANKER': 0, 'INDEX_NAME': 'indir_juris_tcu_synonym_related_term', 'PIPE': {'PIPE_OBJECT': <haystack.pipelines.standard_pipelines.DocumentSearchPipeline object at 0x7f4df56bdd90>, 'RETRIEVER_TYPE': 'bm25', 'RANKER_TYPE': 'none', 'RANKER_MODEL_NAME': '', 'RETRIEVER_MODEL_NAME': ''}, 'COLUMN_NAME': '1', 'EXPANSOR_CRITERIA': 'join_bm25_sts_30_minilm_indir'}\n",
      "Experimento envolverá 150 registros, toda a base de dados\n"
     ]
    },
    {
     "name": "stderr",
     "output_type": "stream",
     "text": [
      "100%|██████████| 150/150 [00:21<00:00,  6.98it/s]\n"
     ]
    },
    {
     "name": "stdout",
     "output_type": "stream",
     "text": [
      "COLUMN_NAME: 1\n",
      "COUNT_QUERY_RUN: 150\n",
      "COUNT_QUERY_WITHOUT_RESULT: 0\n",
      "COUNT_QUERY_NOT_FOUND: 1\n",
      "RANK1_MEAN: 5.779\n",
      "NDCG@5_MEAN: 51.802\n",
      "NDCG@10_MEAN: 48.946\n",
      "NDCG@15_MEAN: 51.288\n",
      "NDCG@20_MEAN: 53.922\n",
      "PRECISION@50_MEAN: 12.467\n",
      "PRECISION@100_MEAN: 6.913\n",
      "RECALL@50_MEAN: 41.556\n",
      "RECALL@100_MEAN: 46.089\n",
      "TIME_SPENT_MEAN: 0.143\n",
      "===>  2023-Jun-27 20:48:36 experiment: {'TOPK_RETRIEVER': 300, 'TOPK_RANKER': 0, 'INDEX_NAME': 'indir_juris_tcu_synonym_related_term', 'PIPE': {'PIPE_OBJECT': <haystack.pipelines.standard_pipelines.DocumentSearchPipeline object at 0x7f4df56bdd90>, 'RETRIEVER_TYPE': 'bm25', 'RANKER_TYPE': 'none', 'RANKER_MODEL_NAME': '', 'RETRIEVER_MODEL_NAME': ''}, 'COLUMN_NAME': '10', 'EXPANSOR_CRITERIA': 'join_bm25_sts_30_minilm_indir'}\n",
      "Experimento envolverá 150 registros, toda a base de dados\n"
     ]
    },
    {
     "name": "stderr",
     "output_type": "stream",
     "text": [
      "100%|██████████| 150/150 [00:20<00:00,  7.24it/s]\n"
     ]
    },
    {
     "name": "stdout",
     "output_type": "stream",
     "text": [
      "COLUMN_NAME: 10\n",
      "COUNT_QUERY_RUN: 150\n",
      "COUNT_QUERY_WITHOUT_RESULT: 0\n",
      "COUNT_QUERY_NOT_FOUND: 3\n",
      "RANK1_MEAN: 11.293\n",
      "NDCG@5_MEAN: 41.04\n",
      "NDCG@10_MEAN: 38.758\n",
      "NDCG@15_MEAN: 42.135\n",
      "NDCG@20_MEAN: 44.66\n",
      "PRECISION@50_MEAN: 10.893\n",
      "PRECISION@100_MEAN: 6.167\n",
      "RECALL@50_MEAN: 36.311\n",
      "RECALL@100_MEAN: 41.111\n",
      "TIME_SPENT_MEAN: 0.138\n",
      "===>  2023-Jun-27 20:48:58 experiment: {'TOPK_RETRIEVER': 300, 'TOPK_RANKER': 0, 'INDEX_NAME': 'indir_juris_tcu_synonym_related_term', 'PIPE': {'PIPE_OBJECT': <haystack.pipelines.standard_pipelines.DocumentSearchPipeline object at 0x7f4df56bdd90>, 'RETRIEVER_TYPE': 'bm25', 'RANKER_TYPE': 'none', 'RANKER_MODEL_NAME': '', 'RETRIEVER_MODEL_NAME': ''}, 'COLUMN_NAME': '2', 'EXPANSOR_CRITERIA': 'join_bm25_sts_30_minilm_indir'}\n",
      "Experimento envolverá 150 registros, toda a base de dados\n"
     ]
    },
    {
     "name": "stderr",
     "output_type": "stream",
     "text": [
      "100%|██████████| 150/150 [00:19<00:00,  7.75it/s]\n"
     ]
    },
    {
     "name": "stdout",
     "output_type": "stream",
     "text": [
      "COLUMN_NAME: 2\n",
      "COUNT_QUERY_RUN: 150\n",
      "COUNT_QUERY_WITHOUT_RESULT: 0\n",
      "COUNT_QUERY_NOT_FOUND: 2\n",
      "RANK1_MEAN: 7.689\n",
      "NDCG@5_MEAN: 50.95\n",
      "NDCG@10_MEAN: 47.094\n",
      "NDCG@15_MEAN: 49.466\n",
      "NDCG@20_MEAN: 52.327\n",
      "PRECISION@50_MEAN: 12.093\n",
      "PRECISION@100_MEAN: 6.767\n",
      "RECALL@50_MEAN: 40.311\n",
      "RECALL@100_MEAN: 45.111\n",
      "TIME_SPENT_MEAN: 0.129\n",
      "===>  2023-Jun-27 20:49:18 experiment: {'TOPK_RETRIEVER': 300, 'TOPK_RANKER': 0, 'INDEX_NAME': 'indir_juris_tcu_synonym_related_term', 'PIPE': {'PIPE_OBJECT': <haystack.pipelines.standard_pipelines.DocumentSearchPipeline object at 0x7f4df56bdd90>, 'RETRIEVER_TYPE': 'bm25', 'RANKER_TYPE': 'none', 'RANKER_MODEL_NAME': '', 'RETRIEVER_MODEL_NAME': ''}, 'COLUMN_NAME': '3', 'EXPANSOR_CRITERIA': 'join_bm25_sts_30_minilm_indir'}\n",
      "Experimento envolverá 150 registros, toda a base de dados\n"
     ]
    },
    {
     "name": "stderr",
     "output_type": "stream",
     "text": [
      "100%|██████████| 150/150 [00:19<00:00,  7.80it/s]\n"
     ]
    },
    {
     "name": "stdout",
     "output_type": "stream",
     "text": [
      "COLUMN_NAME: 3\n",
      "COUNT_QUERY_RUN: 150\n",
      "COUNT_QUERY_WITHOUT_RESULT: 0\n",
      "COUNT_QUERY_NOT_FOUND: 1\n",
      "RANK1_MEAN: 11.523\n",
      "NDCG@5_MEAN: 49.864\n",
      "NDCG@10_MEAN: 46.462\n",
      "NDCG@15_MEAN: 48.691\n",
      "NDCG@20_MEAN: 51.592\n",
      "PRECISION@50_MEAN: 11.733\n",
      "PRECISION@100_MEAN: 6.567\n",
      "RECALL@50_MEAN: 39.111\n",
      "RECALL@100_MEAN: 43.778\n",
      "TIME_SPENT_MEAN: 0.128\n",
      "===>  2023-Jun-27 20:49:38 experiment: {'TOPK_RETRIEVER': 300, 'TOPK_RANKER': 0, 'INDEX_NAME': 'indir_juris_tcu_synonym_related_term', 'PIPE': {'PIPE_OBJECT': <haystack.pipelines.standard_pipelines.DocumentSearchPipeline object at 0x7f4df56bdd90>, 'RETRIEVER_TYPE': 'bm25', 'RANKER_TYPE': 'none', 'RANKER_MODEL_NAME': '', 'RETRIEVER_MODEL_NAME': ''}, 'COLUMN_NAME': '4', 'EXPANSOR_CRITERIA': 'join_bm25_sts_30_minilm_indir'}\n",
      "Experimento envolverá 150 registros, toda a base de dados\n"
     ]
    },
    {
     "name": "stderr",
     "output_type": "stream",
     "text": [
      "100%|██████████| 150/150 [00:19<00:00,  7.84it/s]\n"
     ]
    },
    {
     "name": "stdout",
     "output_type": "stream",
     "text": [
      "COLUMN_NAME: 4\n",
      "COUNT_QUERY_RUN: 150\n",
      "COUNT_QUERY_WITHOUT_RESULT: 0\n",
      "COUNT_QUERY_NOT_FOUND: 1\n",
      "RANK1_MEAN: 12.557\n",
      "NDCG@5_MEAN: 48.053\n",
      "NDCG@10_MEAN: 44.952\n",
      "NDCG@15_MEAN: 47.259\n",
      "NDCG@20_MEAN: 50.032\n",
      "PRECISION@50_MEAN: 11.32\n",
      "PRECISION@100_MEAN: 6.447\n",
      "RECALL@50_MEAN: 37.733\n",
      "RECALL@100_MEAN: 42.978\n",
      "TIME_SPENT_MEAN: 0.128\n",
      "===>  2023-Jun-27 20:49:58 experiment: {'TOPK_RETRIEVER': 300, 'TOPK_RANKER': 0, 'INDEX_NAME': 'indir_juris_tcu_synonym_related_term', 'PIPE': {'PIPE_OBJECT': <haystack.pipelines.standard_pipelines.DocumentSearchPipeline object at 0x7f4df56bdd90>, 'RETRIEVER_TYPE': 'bm25', 'RANKER_TYPE': 'none', 'RANKER_MODEL_NAME': '', 'RETRIEVER_MODEL_NAME': ''}, 'COLUMN_NAME': '5', 'EXPANSOR_CRITERIA': 'join_bm25_sts_30_minilm_indir'}\n",
      "Experimento envolverá 150 registros, toda a base de dados\n"
     ]
    },
    {
     "name": "stderr",
     "output_type": "stream",
     "text": [
      "100%|██████████| 150/150 [00:19<00:00,  7.87it/s]\n"
     ]
    },
    {
     "name": "stdout",
     "output_type": "stream",
     "text": [
      "COLUMN_NAME: 5\n",
      "COUNT_QUERY_RUN: 150\n",
      "COUNT_QUERY_WITHOUT_RESULT: 0\n",
      "COUNT_QUERY_NOT_FOUND: 2\n",
      "RANK1_MEAN: 12.601\n",
      "NDCG@5_MEAN: 44.705\n",
      "NDCG@10_MEAN: 42.527\n",
      "NDCG@15_MEAN: 45.324\n",
      "NDCG@20_MEAN: 47.362\n",
      "PRECISION@50_MEAN: 11.04\n",
      "PRECISION@100_MEAN: 6.293\n",
      "RECALL@50_MEAN: 36.8\n",
      "RECALL@100_MEAN: 41.956\n",
      "TIME_SPENT_MEAN: 0.127\n",
      "===>  2023-Jun-27 20:50:18 experiment: {'TOPK_RETRIEVER': 300, 'TOPK_RANKER': 0, 'INDEX_NAME': 'indir_juris_tcu_synonym_related_term', 'PIPE': {'PIPE_OBJECT': <haystack.pipelines.standard_pipelines.DocumentSearchPipeline object at 0x7f4df56bdd90>, 'RETRIEVER_TYPE': 'bm25', 'RANKER_TYPE': 'none', 'RANKER_MODEL_NAME': '', 'RETRIEVER_MODEL_NAME': ''}, 'COLUMN_NAME': '6', 'EXPANSOR_CRITERIA': 'join_bm25_sts_30_minilm_indir'}\n",
      "Experimento envolverá 150 registros, toda a base de dados\n"
     ]
    },
    {
     "name": "stderr",
     "output_type": "stream",
     "text": [
      "100%|██████████| 150/150 [00:19<00:00,  7.78it/s]\n"
     ]
    },
    {
     "name": "stdout",
     "output_type": "stream",
     "text": [
      "COLUMN_NAME: 6\n",
      "COUNT_QUERY_RUN: 150\n",
      "COUNT_QUERY_WITHOUT_RESULT: 0\n",
      "COUNT_QUERY_NOT_FOUND: 2\n",
      "RANK1_MEAN: 11.547\n",
      "NDCG@5_MEAN: 42.811\n",
      "NDCG@10_MEAN: 41.154\n",
      "NDCG@15_MEAN: 44.009\n",
      "NDCG@20_MEAN: 46.748\n",
      "PRECISION@50_MEAN: 10.96\n",
      "PRECISION@100_MEAN: 6.22\n",
      "RECALL@50_MEAN: 36.533\n",
      "RECALL@100_MEAN: 41.467\n",
      "TIME_SPENT_MEAN: 0.129\n",
      "===>  2023-Jun-27 20:50:38 experiment: {'TOPK_RETRIEVER': 300, 'TOPK_RANKER': 0, 'INDEX_NAME': 'indir_juris_tcu_synonym_related_term', 'PIPE': {'PIPE_OBJECT': <haystack.pipelines.standard_pipelines.DocumentSearchPipeline object at 0x7f4df56bdd90>, 'RETRIEVER_TYPE': 'bm25', 'RANKER_TYPE': 'none', 'RANKER_MODEL_NAME': '', 'RETRIEVER_MODEL_NAME': ''}, 'COLUMN_NAME': '7', 'EXPANSOR_CRITERIA': 'join_bm25_sts_30_minilm_indir'}\n",
      "Experimento envolverá 150 registros, toda a base de dados\n"
     ]
    },
    {
     "name": "stderr",
     "output_type": "stream",
     "text": [
      "100%|██████████| 150/150 [00:19<00:00,  7.84it/s]\n"
     ]
    },
    {
     "name": "stdout",
     "output_type": "stream",
     "text": [
      "COLUMN_NAME: 7\n",
      "COUNT_QUERY_RUN: 150\n",
      "COUNT_QUERY_WITHOUT_RESULT: 0\n",
      "COUNT_QUERY_NOT_FOUND: 2\n",
      "RANK1_MEAN: 11.655\n",
      "NDCG@5_MEAN: 43.432\n",
      "NDCG@10_MEAN: 41.027\n",
      "NDCG@15_MEAN: 44.212\n",
      "NDCG@20_MEAN: 46.656\n",
      "PRECISION@50_MEAN: 10.973\n",
      "PRECISION@100_MEAN: 6.22\n",
      "RECALL@50_MEAN: 36.578\n",
      "RECALL@100_MEAN: 41.467\n",
      "TIME_SPENT_MEAN: 0.128\n",
      "===>  2023-Jun-27 20:50:58 experiment: {'TOPK_RETRIEVER': 300, 'TOPK_RANKER': 0, 'INDEX_NAME': 'indir_juris_tcu_synonym_related_term', 'PIPE': {'PIPE_OBJECT': <haystack.pipelines.standard_pipelines.DocumentSearchPipeline object at 0x7f4df56bdd90>, 'RETRIEVER_TYPE': 'bm25', 'RANKER_TYPE': 'none', 'RANKER_MODEL_NAME': '', 'RETRIEVER_MODEL_NAME': ''}, 'COLUMN_NAME': '8', 'EXPANSOR_CRITERIA': 'join_bm25_sts_30_minilm_indir'}\n",
      "Experimento envolverá 150 registros, toda a base de dados\n"
     ]
    },
    {
     "name": "stderr",
     "output_type": "stream",
     "text": [
      "100%|██████████| 150/150 [00:19<00:00,  7.82it/s]\n"
     ]
    },
    {
     "name": "stdout",
     "output_type": "stream",
     "text": [
      "COLUMN_NAME: 8\n",
      "COUNT_QUERY_RUN: 150\n",
      "COUNT_QUERY_WITHOUT_RESULT: 0\n",
      "COUNT_QUERY_NOT_FOUND: 2\n",
      "RANK1_MEAN: 11.493\n",
      "NDCG@5_MEAN: 42.103\n",
      "NDCG@10_MEAN: 39.925\n",
      "NDCG@15_MEAN: 43.038\n",
      "NDCG@20_MEAN: 45.729\n",
      "PRECISION@50_MEAN: 10.933\n",
      "PRECISION@100_MEAN: 6.187\n",
      "RECALL@50_MEAN: 36.444\n",
      "RECALL@100_MEAN: 41.244\n",
      "TIME_SPENT_MEAN: 0.128\n",
      "===>  2023-Jun-27 20:51:18 experiment: {'TOPK_RETRIEVER': 300, 'TOPK_RANKER': 0, 'INDEX_NAME': 'indir_juris_tcu_synonym_related_term', 'PIPE': {'PIPE_OBJECT': <haystack.pipelines.standard_pipelines.DocumentSearchPipeline object at 0x7f4df56bdd90>, 'RETRIEVER_TYPE': 'bm25', 'RANKER_TYPE': 'none', 'RANKER_MODEL_NAME': '', 'RETRIEVER_MODEL_NAME': ''}, 'COLUMN_NAME': '9', 'EXPANSOR_CRITERIA': 'join_bm25_sts_30_minilm_indir'}\n",
      "Experimento envolverá 150 registros, toda a base de dados\n"
     ]
    },
    {
     "name": "stderr",
     "output_type": "stream",
     "text": [
      "100%|██████████| 150/150 [00:19<00:00,  7.82it/s]\n"
     ]
    },
    {
     "name": "stdout",
     "output_type": "stream",
     "text": [
      "COLUMN_NAME: 9\n",
      "COUNT_QUERY_RUN: 150\n",
      "COUNT_QUERY_WITHOUT_RESULT: 0\n",
      "COUNT_QUERY_NOT_FOUND: 2\n",
      "RANK1_MEAN: 11.5\n",
      "NDCG@5_MEAN: 41.12\n",
      "NDCG@10_MEAN: 39.12\n",
      "NDCG@15_MEAN: 42.234\n",
      "NDCG@20_MEAN: 44.839\n",
      "PRECISION@50_MEAN: 10.933\n",
      "PRECISION@100_MEAN: 6.18\n",
      "RECALL@50_MEAN: 36.444\n",
      "RECALL@100_MEAN: 41.2\n",
      "TIME_SPENT_MEAN: 0.128\n",
      "CPU times: user 1min 13s, sys: 1.54 s, total: 1min 15s\n",
      "Wall time: 16min 32s\n"
     ]
    }
   ],
   "source": [
    "%%time\n",
    "# colocar pequeno só para testes, depois voltar para 9999999 (número maior do que o número de termos a pesquisar)\n",
    "limit_query =  9999999 # 100 # \n",
    "for index_name in pipes.keys():\n",
    "    for pipe in pipes[index_name]:\n",
    "        for cnt, experiment in enumerate(list_experiment):\n",
    "            #  consider_query_expanded or only text column in case\n",
    "            if consider_query_expanded:\n",
    "                # target_columns = df_search_data.columns - ['ID','RELEVANCE_DICT','SOURCE', 'TEXT']\n",
    "                target_columns = df_search_data.columns.difference(['ID', 'RELEVANCE_DICT', 'SOURCE', 'TEXT'])\n",
    "                experiment['EXPANSOR_CRITERIA'] = EXPANSOR_CRITERIA\n",
    "            else:\n",
    "                experiment['EXPANSOR_CRITERIA'] = \"\"\n",
    "                target_columns = ['TEXT']\n",
    "            # print(target_columns)\n",
    "            for column_name in target_columns:\n",
    "                list_result_experiment = [] # por experiment\n",
    "                experiment['INDEX_NAME'] = index_name\n",
    "                experiment['PIPE'] = pipe\n",
    "                experiment['COLUMN_NAME'] = column_name\n",
    "                print(f\"===>  {time.strftime('%Y-%b-%d %H:%M:%S')} experiment: {experiment}\")\n",
    "                result_run = util_experiment.experiment_run(parm_df=df_search_data, \n",
    "                                                        parm_experiment=experiment,\n",
    "                                                        parm_limit_query=limit_query,\n",
    "                                                        parm_print=True)\n",
    "                # raise Exception('false break')\n",
    "                list_result_experiment.append(result_run)\n",
    "                # print(f\"qtd_encontrado sim:{result_run['qtd_encontrado']}, não:{result_run['qtd_nao_encontrado']} ({result_run['percent_nao_encontrado']}%)\")\n",
    "                util_experiment.add_experiment_result(parm_list_result=list_result_experiment, parm_dataset='juris_tcu')\n",
    "                torch.cuda.empty_cache()\n"
   ]
  },
  {
   "cell_type": "code",
   "execution_count": null,
   "metadata": {},
   "outputs": [],
   "source": []
  },
  {
   "attachments": {},
   "cell_type": "markdown",
   "metadata": {},
   "source": [
    "Free resources: "
   ]
  },
  {
   "cell_type": "code",
   "execution_count": null,
   "metadata": {},
   "outputs": [
    {
     "ename": "",
     "evalue": "",
     "output_type": "error",
     "traceback": [
      "\u001b[1;31mThe Kernel crashed while executing code in the the current cell or a previous cell. Please review the code in the cell(s) to identify a possible cause of the failure. Click <a href='https://aka.ms/vscodeJupyterKernelCrash'>here</a> for more info. View Jupyter <a href='command:jupyter.viewOutput'>log</a> for further details."
     ]
    }
   ],
   "source": [
    "quit()"
   ]
  },
  {
   "cell_type": "code",
   "execution_count": null,
   "metadata": {},
   "outputs": [],
   "source": []
  }
 ],
 "metadata": {
  "kernelspec": {
   "display_name": "Python (relevar-busca)",
   "language": "python",
   "name": "relevar-busca"
  },
  "language_info": {
   "codemirror_mode": {
    "name": "ipython",
    "version": 3
   },
   "file_extension": ".py",
   "mimetype": "text/x-python",
   "name": "python",
   "nbconvert_exporter": "python",
   "pygments_lexer": "ipython3",
   "version": "3.7.13"
  },
  "orig_nbformat": 4,
  "vscode": {
   "interpreter": {
    "hash": "45978bf3509deeb93161d1472b16f82a40245d44c2beae6c63ad8f9bb3f69171"
   }
  }
 },
 "nbformat": 4,
 "nbformat_minor": 2
}
