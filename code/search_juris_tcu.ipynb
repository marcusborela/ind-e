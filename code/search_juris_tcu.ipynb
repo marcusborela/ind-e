{
 "cells": [
  {
   "attachments": {},
   "cell_type": "markdown",
   "id": "998a4011",
   "metadata": {},
   "source": [
    "# Imports and preparation"
   ]
  },
  {
   "cell_type": "code",
   "execution_count": 1,
   "metadata": {},
   "outputs": [],
   "source": [
    "import os"
   ]
  },
  {
   "cell_type": "code",
   "execution_count": 2,
   "metadata": {},
   "outputs": [],
   "source": [
    "import numpy as np"
   ]
  },
  {
   "cell_type": "code",
   "execution_count": 3,
   "id": "37d4165c",
   "metadata": {},
   "outputs": [],
   "source": [
    "import pandas as pd"
   ]
  },
  {
   "cell_type": "code",
   "execution_count": 4,
   "metadata": {},
   "outputs": [],
   "source": [
    "from tqdm import tqdm"
   ]
  },
  {
   "cell_type": "code",
   "execution_count": 5,
   "metadata": {},
   "outputs": [],
   "source": [
    "import time, gc"
   ]
  },
  {
   "cell_type": "code",
   "execution_count": 6,
   "metadata": {},
   "outputs": [],
   "source": [
    "import importlib"
   ]
  },
  {
   "cell_type": "code",
   "execution_count": 7,
   "metadata": {},
   "outputs": [],
   "source": [
    "from itertools import product\n"
   ]
  },
  {
   "cell_type": "code",
   "execution_count": 8,
   "metadata": {},
   "outputs": [
    {
     "name": "stderr",
     "output_type": "stream",
     "text": [
      "OpenAI tiktoken module is not available for Python < 3.8,Linux ARM64 and AARCH64. Falling back to GPT2TokenizerFast.\n",
      "WARNING:haystack.nodes.answer_generator.openai:OpenAI tiktoken module is not available for Python < 3.8,Linux ARM64 and AARCH64. Falling back to GPT2TokenizerFast.\n"
     ]
    }
   ],
   "source": [
    "from util import util_elastic"
   ]
  },
  {
   "cell_type": "code",
   "execution_count": 9,
   "metadata": {},
   "outputs": [],
   "source": [
    "from util import util_pipeline_v2 as util_pipeline"
   ]
  },
  {
   "cell_type": "code",
   "execution_count": 10,
   "metadata": {},
   "outputs": [],
   "source": [
    "from util import util_experiment_juris_tcu as util_experiment"
   ]
  },
  {
   "cell_type": "code",
   "execution_count": 11,
   "id": "f911fcf2",
   "metadata": {},
   "outputs": [],
   "source": [
    "# Para ter repetibilidade nos resultados\n",
    "random_state = 1\n",
    "\n",
    "# Tratar valores infinitos (+ e -) como np.NaN\n",
    "pd.options.mode.use_inf_as_na = True\n",
    "\n",
    "# IMPORTANTE para tornar figuras interativas\n",
    "# %matplotlib notebook\n",
    "\n",
    "# Tamanho padrão das figuras\n",
    "figsize=(10,6)\n",
    "\n",
    "pd.set_option('display.max_row', 1000)\n",
    "\n",
    "pd.set_option('display.max_columns', 50)\n",
    "\n",
    "pd.set_option('display.column_space', 100)\n",
    "pd.set_option('display.max_colwidth', 200)\n",
    "pd.set_option('display.width', 200)\n"
   ]
  },
  {
   "cell_type": "code",
   "execution_count": 12,
   "metadata": {},
   "outputs": [],
   "source": [
    "DATASET_NAME = 'juris_tcu'"
   ]
  },
  {
   "cell_type": "code",
   "execution_count": 13,
   "id": "6e05b9a6",
   "metadata": {},
   "outputs": [],
   "source": [
    "PATH_QUERY = f'../data/{DATASET_NAME}/query.csv'\n",
    "PATH_QREL =  f'../data/{DATASET_NAME}/qrel.csv'"
   ]
  },
  {
   "attachments": {},
   "cell_type": "markdown",
   "metadata": {},
   "source": [
    "# Data load"
   ]
  },
  {
   "attachments": {},
   "cell_type": "markdown",
   "metadata": {},
   "source": [
    "## Query data load"
   ]
  },
  {
   "cell_type": "code",
   "execution_count": 14,
   "id": "1cf03f22",
   "metadata": {},
   "outputs": [],
   "source": [
    "df_query = pd.read_csv(PATH_QUERY)"
   ]
  },
  {
   "cell_type": "code",
   "execution_count": 15,
   "metadata": {},
   "outputs": [
    {
     "data": {
      "text/plain": [
       "(150, 3)"
      ]
     },
     "execution_count": 15,
     "metadata": {},
     "output_type": "execute_result"
    }
   ],
   "source": [
    "df_query.shape"
   ]
  },
  {
   "cell_type": "code",
   "execution_count": 16,
   "metadata": {},
   "outputs": [
    {
     "data": {
      "text/html": [
       "<div>\n",
       "<style scoped>\n",
       "    .dataframe tbody tr th:only-of-type {\n",
       "        vertical-align: middle;\n",
       "    }\n",
       "\n",
       "    .dataframe tbody tr th {\n",
       "        vertical-align: top;\n",
       "    }\n",
       "\n",
       "    .dataframe thead th {\n",
       "        text-align: right;\n",
       "    }\n",
       "</style>\n",
       "<table border=\"1\" class=\"dataframe\">\n",
       "  <thead>\n",
       "    <tr style=\"text-align: right;\">\n",
       "      <th></th>\n",
       "      <th>ID</th>\n",
       "      <th>TEXT</th>\n",
       "      <th>SOURCE</th>\n",
       "    </tr>\n",
       "  </thead>\n",
       "  <tbody>\n",
       "    <tr>\n",
       "      <th>0</th>\n",
       "      <td>1</td>\n",
       "      <td>técnica e preço</td>\n",
       "      <td>search log</td>\n",
       "    </tr>\n",
       "    <tr>\n",
       "      <th>1</th>\n",
       "      <td>2</td>\n",
       "      <td>restos a pagar</td>\n",
       "      <td>search log</td>\n",
       "    </tr>\n",
       "    <tr>\n",
       "      <th>2</th>\n",
       "      <td>3</td>\n",
       "      <td>aditivo a contrato</td>\n",
       "      <td>search log</td>\n",
       "    </tr>\n",
       "    <tr>\n",
       "      <th>3</th>\n",
       "      <td>4</td>\n",
       "      <td>adesão a ata de registro de preços</td>\n",
       "      <td>search log</td>\n",
       "    </tr>\n",
       "    <tr>\n",
       "      <th>4</th>\n",
       "      <td>5</td>\n",
       "      <td>sobrepreço e superfaturamento</td>\n",
       "      <td>search log</td>\n",
       "    </tr>\n",
       "  </tbody>\n",
       "</table>\n",
       "</div>"
      ],
      "text/plain": [
       "   ID                                TEXT      SOURCE\n",
       "0   1                     técnica e preço  search log\n",
       "1   2                      restos a pagar  search log\n",
       "2   3                  aditivo a contrato  search log\n",
       "3   4  adesão a ata de registro de preços  search log\n",
       "4   5       sobrepreço e superfaturamento  search log"
      ]
     },
     "execution_count": 16,
     "metadata": {},
     "output_type": "execute_result"
    }
   ],
   "source": [
    "df_query.head()"
   ]
  },
  {
   "cell_type": "code",
   "execution_count": 17,
   "metadata": {},
   "outputs": [],
   "source": [
    "df_query = df_query.reset_index(drop=True)"
   ]
  },
  {
   "cell_type": "markdown",
   "metadata": {},
   "source": []
  },
  {
   "cell_type": "code",
   "execution_count": 18,
   "metadata": {},
   "outputs": [],
   "source": [
    "# df_query.to_csv(PATH_QUERY,sep=',', index=False)"
   ]
  },
  {
   "attachments": {},
   "cell_type": "markdown",
   "metadata": {},
   "source": [
    "## Qrel data load"
   ]
  },
  {
   "cell_type": "code",
   "execution_count": 19,
   "id": "1cf03f22",
   "metadata": {},
   "outputs": [],
   "source": [
    "df_qrel = pd.read_csv(PATH_QREL)"
   ]
  },
  {
   "cell_type": "code",
   "execution_count": 20,
   "metadata": {},
   "outputs": [
    {
     "data": {
      "text/plain": [
       "(2250, 5)"
      ]
     },
     "execution_count": 20,
     "metadata": {},
     "output_type": "execute_result"
    }
   ],
   "source": [
    "df_qrel.shape"
   ]
  },
  {
   "cell_type": "code",
   "execution_count": 21,
   "id": "a75dd812",
   "metadata": {},
   "outputs": [
    {
     "data": {
      "text/html": [
       "<div>\n",
       "<style scoped>\n",
       "    .dataframe tbody tr th:only-of-type {\n",
       "        vertical-align: middle;\n",
       "    }\n",
       "\n",
       "    .dataframe tbody tr th {\n",
       "        vertical-align: top;\n",
       "    }\n",
       "\n",
       "    .dataframe thead th {\n",
       "        text-align: right;\n",
       "    }\n",
       "</style>\n",
       "<table border=\"1\" class=\"dataframe\">\n",
       "  <thead>\n",
       "    <tr style=\"text-align: right;\">\n",
       "      <th></th>\n",
       "      <th>QUERY_ID</th>\n",
       "      <th>DOC_ID</th>\n",
       "      <th>SCORE</th>\n",
       "      <th>ENGINE</th>\n",
       "      <th>RANK</th>\n",
       "    </tr>\n",
       "  </thead>\n",
       "  <tbody>\n",
       "    <tr>\n",
       "      <th>0</th>\n",
       "      <td>1</td>\n",
       "      <td>21064</td>\n",
       "      <td>3</td>\n",
       "      <td>(BM25|STS)+Reranker+LLM</td>\n",
       "      <td>1</td>\n",
       "    </tr>\n",
       "    <tr>\n",
       "      <th>1</th>\n",
       "      <td>1</td>\n",
       "      <td>42166</td>\n",
       "      <td>3</td>\n",
       "      <td>(BM25|STS)+Reranker+LLM</td>\n",
       "      <td>2</td>\n",
       "    </tr>\n",
       "    <tr>\n",
       "      <th>2</th>\n",
       "      <td>1</td>\n",
       "      <td>13702</td>\n",
       "      <td>3</td>\n",
       "      <td>(BM25|STS)+Reranker+LLM</td>\n",
       "      <td>3</td>\n",
       "    </tr>\n",
       "    <tr>\n",
       "      <th>3</th>\n",
       "      <td>1</td>\n",
       "      <td>20592</td>\n",
       "      <td>3</td>\n",
       "      <td>(BM25|STS)+Reranker+LLM</td>\n",
       "      <td>4</td>\n",
       "    </tr>\n",
       "    <tr>\n",
       "      <th>4</th>\n",
       "      <td>1</td>\n",
       "      <td>15740</td>\n",
       "      <td>3</td>\n",
       "      <td>(BM25|STS)+Reranker+LLM</td>\n",
       "      <td>5</td>\n",
       "    </tr>\n",
       "    <tr>\n",
       "      <th>5</th>\n",
       "      <td>1</td>\n",
       "      <td>53641</td>\n",
       "      <td>3</td>\n",
       "      <td>(BM25|STS)+Reranker+LLM</td>\n",
       "      <td>6</td>\n",
       "    </tr>\n",
       "    <tr>\n",
       "      <th>6</th>\n",
       "      <td>1</td>\n",
       "      <td>31601</td>\n",
       "      <td>3</td>\n",
       "      <td>(BM25|STS)+Reranker+LLM</td>\n",
       "      <td>7</td>\n",
       "    </tr>\n",
       "    <tr>\n",
       "      <th>7</th>\n",
       "      <td>1</td>\n",
       "      <td>54765</td>\n",
       "      <td>3</td>\n",
       "      <td>(BM25|STS)+Reranker+LLM</td>\n",
       "      <td>8</td>\n",
       "    </tr>\n",
       "    <tr>\n",
       "      <th>8</th>\n",
       "      <td>1</td>\n",
       "      <td>20506</td>\n",
       "      <td>3</td>\n",
       "      <td>(BM25|STS)+Reranker+LLM</td>\n",
       "      <td>9</td>\n",
       "    </tr>\n",
       "    <tr>\n",
       "      <th>9</th>\n",
       "      <td>1</td>\n",
       "      <td>47161</td>\n",
       "      <td>3</td>\n",
       "      <td>(BM25|STS)+Reranker+LLM</td>\n",
       "      <td>10</td>\n",
       "    </tr>\n",
       "    <tr>\n",
       "      <th>10</th>\n",
       "      <td>1</td>\n",
       "      <td>161</td>\n",
       "      <td>1</td>\n",
       "      <td>BM25+LLM</td>\n",
       "      <td>52</td>\n",
       "    </tr>\n",
       "    <tr>\n",
       "      <th>11</th>\n",
       "      <td>1</td>\n",
       "      <td>11595</td>\n",
       "      <td>1</td>\n",
       "      <td>BM25+LLM</td>\n",
       "      <td>250</td>\n",
       "    </tr>\n",
       "    <tr>\n",
       "      <th>12</th>\n",
       "      <td>1</td>\n",
       "      <td>40647</td>\n",
       "      <td>1</td>\n",
       "      <td>BM25+LLM</td>\n",
       "      <td>283</td>\n",
       "    </tr>\n",
       "    <tr>\n",
       "      <th>13</th>\n",
       "      <td>1</td>\n",
       "      <td>22155</td>\n",
       "      <td>1</td>\n",
       "      <td>BM25+LLM</td>\n",
       "      <td>474</td>\n",
       "    </tr>\n",
       "    <tr>\n",
       "      <th>14</th>\n",
       "      <td>1</td>\n",
       "      <td>18435</td>\n",
       "      <td>1</td>\n",
       "      <td>BM25+LLM</td>\n",
       "      <td>905</td>\n",
       "    </tr>\n",
       "  </tbody>\n",
       "</table>\n",
       "</div>"
      ],
      "text/plain": [
       "    QUERY_ID  DOC_ID  SCORE                   ENGINE  RANK\n",
       "0          1   21064      3  (BM25|STS)+Reranker+LLM     1\n",
       "1          1   42166      3  (BM25|STS)+Reranker+LLM     2\n",
       "2          1   13702      3  (BM25|STS)+Reranker+LLM     3\n",
       "3          1   20592      3  (BM25|STS)+Reranker+LLM     4\n",
       "4          1   15740      3  (BM25|STS)+Reranker+LLM     5\n",
       "5          1   53641      3  (BM25|STS)+Reranker+LLM     6\n",
       "6          1   31601      3  (BM25|STS)+Reranker+LLM     7\n",
       "7          1   54765      3  (BM25|STS)+Reranker+LLM     8\n",
       "8          1   20506      3  (BM25|STS)+Reranker+LLM     9\n",
       "9          1   47161      3  (BM25|STS)+Reranker+LLM    10\n",
       "10         1     161      1                 BM25+LLM    52\n",
       "11         1   11595      1                 BM25+LLM   250\n",
       "12         1   40647      1                 BM25+LLM   283\n",
       "13         1   22155      1                 BM25+LLM   474\n",
       "14         1   18435      1                 BM25+LLM   905"
      ]
     },
     "execution_count": 21,
     "metadata": {},
     "output_type": "execute_result"
    }
   ],
   "source": [
    "df_qrel.head(15)"
   ]
  },
  {
   "cell_type": "code",
   "execution_count": 22,
   "metadata": {},
   "outputs": [
    {
     "data": {
      "text/plain": [
       "2250"
      ]
     },
     "execution_count": 22,
     "metadata": {},
     "output_type": "execute_result"
    }
   ],
   "source": [
    "df_qrel.shape[0]"
   ]
  },
  {
   "cell_type": "code",
   "execution_count": 23,
   "metadata": {},
   "outputs": [],
   "source": [
    "df_search_data = df_query.merge(df_qrel, how='left', left_on='ID', right_on='QUERY_ID').drop('QUERY_ID', axis=1)"
   ]
  },
  {
   "cell_type": "code",
   "execution_count": 24,
   "metadata": {},
   "outputs": [
    {
     "data": {
      "text/plain": [
       "(2250, 7)"
      ]
     },
     "execution_count": 24,
     "metadata": {},
     "output_type": "execute_result"
    }
   ],
   "source": [
    "df_search_data.shape\n"
   ]
  },
  {
   "cell_type": "code",
   "execution_count": 25,
   "metadata": {},
   "outputs": [],
   "source": [
    "# Agrupar os dados pelo ID e criar a coluna 'RELEVANCE_LIST' com a lista de tuplas\n",
    "# df_new = df_search_data.groupby('ID').apply(lambda x: list(zip(x['DOC_ID'], x['TYPE']))).reset_index(name='RELEVANCE_LIST')\n",
    "# df_new['RELEVANCE_LIST'] = df_new['RELEVANCE_LIST'].apply(lambda x: sorted(x, key=lambda tup: ('AREA', 'TEMA', 'SUBTEMA', 'INDEXACAO_EXTRA').index(tup[1])))\n",
    "df_new = df_search_data.groupby('ID').apply(lambda x: dict(zip(x['DOC_ID'], x['SCORE']))).reset_index(name='RELEVANCE_DICT')\n"
   ]
  },
  {
   "cell_type": "code",
   "execution_count": 26,
   "metadata": {},
   "outputs": [
    {
     "data": {
      "text/html": [
       "<div>\n",
       "<style scoped>\n",
       "    .dataframe tbody tr th:only-of-type {\n",
       "        vertical-align: middle;\n",
       "    }\n",
       "\n",
       "    .dataframe tbody tr th {\n",
       "        vertical-align: top;\n",
       "    }\n",
       "\n",
       "    .dataframe thead th {\n",
       "        text-align: right;\n",
       "    }\n",
       "</style>\n",
       "<table border=\"1\" class=\"dataframe\">\n",
       "  <thead>\n",
       "    <tr style=\"text-align: right;\">\n",
       "      <th></th>\n",
       "      <th>ID</th>\n",
       "      <th>RELEVANCE_DICT</th>\n",
       "    </tr>\n",
       "  </thead>\n",
       "  <tbody>\n",
       "    <tr>\n",
       "      <th>0</th>\n",
       "      <td>1</td>\n",
       "      <td>{21064: 3, 42166: 3, 13702: 3, 20592: 3, 15740: 3, 53641: 3, 31601: 3, 54765: 3, 20506: 3, 47161: 3, 161: 1, 11595: 1, 40647: 1, 22155: 1, 18435: 1}</td>\n",
       "    </tr>\n",
       "    <tr>\n",
       "      <th>1</th>\n",
       "      <td>2</td>\n",
       "      <td>{31437: 3, 19340: 3, 77959: 3, 17289: 2, 18452: 2, 18105: 1, 19636: 1, 31274: 0, 17258: 0, 32865: 0, 19738: 0, 104484: 0, 90647: 0, 21876: 0, 33096: 0}</td>\n",
       "    </tr>\n",
       "    <tr>\n",
       "      <th>2</th>\n",
       "      <td>3</td>\n",
       "      <td>{18380: 3, 31102: 3, 17240: 3, 20511: 3, 32589: 3, 20510: 3, 17816: 3, 18058: 2, 17225: 2, 57354: 2, 18003: 2, 3881: 2, 31096: 1, 20901: 1, 11621: 1}</td>\n",
       "    </tr>\n",
       "    <tr>\n",
       "      <th>3</th>\n",
       "      <td>4</td>\n",
       "      <td>{16895: 3, 45015: 3, 14526: 3, 62306: 3, 6237: 3, 50537: 3, 16981: 3, 21201: 3, 77927: 3, 84935: 3, 22098: 1, 18410: 1, 8858: 1, 60811: 0, 42906: 0}</td>\n",
       "    </tr>\n",
       "    <tr>\n",
       "      <th>4</th>\n",
       "      <td>5</td>\n",
       "      <td>{21172: 3, 17816: 3, 4066: 3, 53003: 3, 94290: 3, 114656: 3, 50616: 3, 144170: 3, 16277: 3, 59226: 3, 18047: 2, 31612: 1, 18036: 1, 42583: 0, 29387: 0}</td>\n",
       "    </tr>\n",
       "  </tbody>\n",
       "</table>\n",
       "</div>"
      ],
      "text/plain": [
       "   ID                                                                                                                                           RELEVANCE_DICT\n",
       "0   1     {21064: 3, 42166: 3, 13702: 3, 20592: 3, 15740: 3, 53641: 3, 31601: 3, 54765: 3, 20506: 3, 47161: 3, 161: 1, 11595: 1, 40647: 1, 22155: 1, 18435: 1}\n",
       "1   2  {31437: 3, 19340: 3, 77959: 3, 17289: 2, 18452: 2, 18105: 1, 19636: 1, 31274: 0, 17258: 0, 32865: 0, 19738: 0, 104484: 0, 90647: 0, 21876: 0, 33096: 0}\n",
       "2   3    {18380: 3, 31102: 3, 17240: 3, 20511: 3, 32589: 3, 20510: 3, 17816: 3, 18058: 2, 17225: 2, 57354: 2, 18003: 2, 3881: 2, 31096: 1, 20901: 1, 11621: 1}\n",
       "3   4     {16895: 3, 45015: 3, 14526: 3, 62306: 3, 6237: 3, 50537: 3, 16981: 3, 21201: 3, 77927: 3, 84935: 3, 22098: 1, 18410: 1, 8858: 1, 60811: 0, 42906: 0}\n",
       "4   5  {21172: 3, 17816: 3, 4066: 3, 53003: 3, 94290: 3, 114656: 3, 50616: 3, 144170: 3, 16277: 3, 59226: 3, 18047: 2, 31612: 1, 18036: 1, 42583: 0, 29387: 0}"
      ]
     },
     "execution_count": 26,
     "metadata": {},
     "output_type": "execute_result"
    }
   ],
   "source": [
    "df_new.head()"
   ]
  },
  {
   "cell_type": "code",
   "execution_count": 27,
   "metadata": {},
   "outputs": [],
   "source": [
    "# Unir o resultado com as demais colunas únicas\n",
    "df_new = pd.merge(df_new, df_search_data.drop_duplicates('ID'), on='ID', how='left')"
   ]
  },
  {
   "cell_type": "code",
   "execution_count": 28,
   "metadata": {},
   "outputs": [
    {
     "data": {
      "text/plain": [
       "Index(['ID', 'RELEVANCE_DICT', 'TEXT', 'SOURCE', 'DOC_ID', 'SCORE', 'ENGINE', 'RANK'], dtype='object')"
      ]
     },
     "execution_count": 28,
     "metadata": {},
     "output_type": "execute_result"
    }
   ],
   "source": [
    "df_new.columns"
   ]
  },
  {
   "cell_type": "code",
   "execution_count": 29,
   "metadata": {},
   "outputs": [],
   "source": [
    "df_search_data = df_new[['ID', 'TEXT', 'RELEVANCE_DICT',  'SOURCE']]"
   ]
  },
  {
   "cell_type": "code",
   "execution_count": 30,
   "metadata": {},
   "outputs": [
    {
     "data": {
      "text/plain": [
       "(150, 4)"
      ]
     },
     "execution_count": 30,
     "metadata": {},
     "output_type": "execute_result"
    }
   ],
   "source": [
    "df_search_data.shape"
   ]
  },
  {
   "cell_type": "code",
   "execution_count": 31,
   "id": "60e55155",
   "metadata": {},
   "outputs": [],
   "source": [
    "df_search_data = df_search_data.reset_index()"
   ]
  },
  {
   "cell_type": "code",
   "execution_count": 32,
   "metadata": {},
   "outputs": [
    {
     "data": {
      "text/html": [
       "<div>\n",
       "<style scoped>\n",
       "    .dataframe tbody tr th:only-of-type {\n",
       "        vertical-align: middle;\n",
       "    }\n",
       "\n",
       "    .dataframe tbody tr th {\n",
       "        vertical-align: top;\n",
       "    }\n",
       "\n",
       "    .dataframe thead th {\n",
       "        text-align: right;\n",
       "    }\n",
       "</style>\n",
       "<table border=\"1\" class=\"dataframe\">\n",
       "  <thead>\n",
       "    <tr style=\"text-align: right;\">\n",
       "      <th></th>\n",
       "      <th>index</th>\n",
       "      <th>ID</th>\n",
       "      <th>TEXT</th>\n",
       "      <th>RELEVANCE_DICT</th>\n",
       "      <th>SOURCE</th>\n",
       "    </tr>\n",
       "  </thead>\n",
       "  <tbody>\n",
       "    <tr>\n",
       "      <th>0</th>\n",
       "      <td>0</td>\n",
       "      <td>1</td>\n",
       "      <td>técnica e preço</td>\n",
       "      <td>{21064: 3, 42166: 3, 13702: 3, 20592: 3, 15740: 3, 53641: 3, 31601: 3, 54765: 3, 20506: 3, 47161: 3, 161: 1, 11595: 1, 40647: 1, 22155: 1, 18435: 1}</td>\n",
       "      <td>search log</td>\n",
       "    </tr>\n",
       "    <tr>\n",
       "      <th>1</th>\n",
       "      <td>1</td>\n",
       "      <td>2</td>\n",
       "      <td>restos a pagar</td>\n",
       "      <td>{31437: 3, 19340: 3, 77959: 3, 17289: 2, 18452: 2, 18105: 1, 19636: 1, 31274: 0, 17258: 0, 32865: 0, 19738: 0, 104484: 0, 90647: 0, 21876: 0, 33096: 0}</td>\n",
       "      <td>search log</td>\n",
       "    </tr>\n",
       "    <tr>\n",
       "      <th>2</th>\n",
       "      <td>2</td>\n",
       "      <td>3</td>\n",
       "      <td>aditivo a contrato</td>\n",
       "      <td>{18380: 3, 31102: 3, 17240: 3, 20511: 3, 32589: 3, 20510: 3, 17816: 3, 18058: 2, 17225: 2, 57354: 2, 18003: 2, 3881: 2, 31096: 1, 20901: 1, 11621: 1}</td>\n",
       "      <td>search log</td>\n",
       "    </tr>\n",
       "    <tr>\n",
       "      <th>3</th>\n",
       "      <td>3</td>\n",
       "      <td>4</td>\n",
       "      <td>adesão a ata de registro de preços</td>\n",
       "      <td>{16895: 3, 45015: 3, 14526: 3, 62306: 3, 6237: 3, 50537: 3, 16981: 3, 21201: 3, 77927: 3, 84935: 3, 22098: 1, 18410: 1, 8858: 1, 60811: 0, 42906: 0}</td>\n",
       "      <td>search log</td>\n",
       "    </tr>\n",
       "    <tr>\n",
       "      <th>4</th>\n",
       "      <td>4</td>\n",
       "      <td>5</td>\n",
       "      <td>sobrepreço e superfaturamento</td>\n",
       "      <td>{21172: 3, 17816: 3, 4066: 3, 53003: 3, 94290: 3, 114656: 3, 50616: 3, 144170: 3, 16277: 3, 59226: 3, 18047: 2, 31612: 1, 18036: 1, 42583: 0, 29387: 0}</td>\n",
       "      <td>search log</td>\n",
       "    </tr>\n",
       "  </tbody>\n",
       "</table>\n",
       "</div>"
      ],
      "text/plain": [
       "   index  ID                                TEXT  \\\n",
       "0      0   1                     técnica e preço   \n",
       "1      1   2                      restos a pagar   \n",
       "2      2   3                  aditivo a contrato   \n",
       "3      3   4  adesão a ata de registro de preços   \n",
       "4      4   5       sobrepreço e superfaturamento   \n",
       "\n",
       "                                                                                                                                            RELEVANCE_DICT      SOURCE  \n",
       "0     {21064: 3, 42166: 3, 13702: 3, 20592: 3, 15740: 3, 53641: 3, 31601: 3, 54765: 3, 20506: 3, 47161: 3, 161: 1, 11595: 1, 40647: 1, 22155: 1, 18435: 1}  search log  \n",
       "1  {31437: 3, 19340: 3, 77959: 3, 17289: 2, 18452: 2, 18105: 1, 19636: 1, 31274: 0, 17258: 0, 32865: 0, 19738: 0, 104484: 0, 90647: 0, 21876: 0, 33096: 0}  search log  \n",
       "2    {18380: 3, 31102: 3, 17240: 3, 20511: 3, 32589: 3, 20510: 3, 17816: 3, 18058: 2, 17225: 2, 57354: 2, 18003: 2, 3881: 2, 31096: 1, 20901: 1, 11621: 1}  search log  \n",
       "3     {16895: 3, 45015: 3, 14526: 3, 62306: 3, 6237: 3, 50537: 3, 16981: 3, 21201: 3, 77927: 3, 84935: 3, 22098: 1, 18410: 1, 8858: 1, 60811: 0, 42906: 0}  search log  \n",
       "4  {21172: 3, 17816: 3, 4066: 3, 53003: 3, 94290: 3, 114656: 3, 50616: 3, 144170: 3, 16277: 3, 59226: 3, 18047: 2, 31612: 1, 18036: 1, 42583: 0, 29387: 0}  search log  "
      ]
     },
     "execution_count": 32,
     "metadata": {},
     "output_type": "execute_result"
    }
   ],
   "source": [
    "df_search_data.head()"
   ]
  },
  {
   "cell_type": "code",
   "execution_count": 33,
   "metadata": {},
   "outputs": [],
   "source": [
    "del df_new"
   ]
  },
  {
   "attachments": {},
   "cell_type": "markdown",
   "metadata": {},
   "source": [
    "# Create reference to index (elastic search)"
   ]
  },
  {
   "attachments": {},
   "cell_type": "markdown",
   "metadata": {},
   "source": [
    "Documentation https://docs.haystack.deepset.ai/docs\n",
    "https://haystack.deepset.ai/tutorials/09_dpr_training \n"
   ]
  },
  {
   "cell_type": "code",
   "execution_count": 34,
   "metadata": {},
   "outputs": [
    {
     "name": "stdout",
     "output_type": "stream",
     "text": [
      "Index: indir_juris_tcu\n",
      "{'health': 'yellow', 'status': 'open', 'index': 'indir_juris_tcu', 'uuid': 'RD_aAWppQH6vjNxKUdL_0w', 'pri': '1', 'rep': '1', 'docs.count': '16045', 'docs.deleted': '16045', 'store.size': '334.9mb', 'pri.store.size': '334.9mb'}\n",
      "\n",
      "Index: indir_juris_tcu_term\n",
      "{'health': 'yellow', 'status': 'open', 'index': 'indir_juris_tcu_term', 'uuid': 'S5WlNGiqSXC-79WaqfsddA', 'pri': '1', 'rep': '1', 'docs.count': '16045', 'docs.deleted': '16045', 'store.size': '337.5mb', 'pri.store.size': '337.5mb'}\n",
      "\n",
      "Index: indir_juris_tcu_related_term\n",
      "{'health': 'yellow', 'status': 'open', 'index': 'indir_juris_tcu_related_term', 'uuid': 'i9nzlBQrREyEC7MGT79GBQ', 'pri': '1', 'rep': '1', 'docs.count': '16045', 'docs.deleted': '3651', 'store.size': '346.3mb', 'pri.store.size': '346.3mb'}\n",
      "\n",
      "Index: indir_juris_tcu_synonym_related_term\n",
      "{'health': 'yellow', 'status': 'open', 'index': 'indir_juris_tcu_synonym_related_term', 'uuid': 'OJIJ0P2XQo-s4NRuaT4W_w', 'pri': '1', 'rep': '1', 'docs.count': '16045', 'docs.deleted': '3045', 'store.size': '348.4mb', 'pri.store.size': '348.4mb'}\n",
      "\n",
      "Index: indir_juris_tcu_synonym\n",
      "{'health': 'yellow', 'status': 'open', 'index': 'indir_juris_tcu_synonym', 'uuid': 'nuMe_BWiQNG3r0lHCaeGeg', 'pri': '1', 'rep': '1', 'docs.count': '16045', 'docs.deleted': '5638', 'store.size': '334.5mb', 'pri.store.size': '334.5mb'}\n",
      "\n",
      "Index: indir_juris_tcu_index\n",
      "{'health': 'yellow', 'status': 'open', 'index': 'indir_juris_tcu_index', 'uuid': 'fGjzBrQzRUWTZ6KlnbfLqw', 'pri': '1', 'rep': '1', 'docs.count': '13255', 'docs.deleted': '2755', 'store.size': '281.7mb', 'pri.store.size': '281.7mb'}\n",
      "\n"
     ]
    }
   ],
   "source": [
    "index_dict = util_elastic.return_indexes('indir', parm_print=True)"
   ]
  },
  {
   "cell_type": "code",
   "execution_count": 35,
   "metadata": {},
   "outputs": [
    {
     "data": {
      "text/plain": [
       "{'indir_juris_tcu': {'health': 'yellow',\n",
       "  'status': 'open',\n",
       "  'index': 'indir_juris_tcu',\n",
       "  'uuid': 'RD_aAWppQH6vjNxKUdL_0w',\n",
       "  'pri': '1',\n",
       "  'rep': '1',\n",
       "  'docs.count': '16045',\n",
       "  'docs.deleted': '16045',\n",
       "  'store.size': '334.9mb',\n",
       "  'pri.store.size': '334.9mb'},\n",
       " 'indir_juris_tcu_term': {'health': 'yellow',\n",
       "  'status': 'open',\n",
       "  'index': 'indir_juris_tcu_term',\n",
       "  'uuid': 'S5WlNGiqSXC-79WaqfsddA',\n",
       "  'pri': '1',\n",
       "  'rep': '1',\n",
       "  'docs.count': '16045',\n",
       "  'docs.deleted': '16045',\n",
       "  'store.size': '337.5mb',\n",
       "  'pri.store.size': '337.5mb'},\n",
       " 'indir_juris_tcu_related_term': {'health': 'yellow',\n",
       "  'status': 'open',\n",
       "  'index': 'indir_juris_tcu_related_term',\n",
       "  'uuid': 'i9nzlBQrREyEC7MGT79GBQ',\n",
       "  'pri': '1',\n",
       "  'rep': '1',\n",
       "  'docs.count': '16045',\n",
       "  'docs.deleted': '3651',\n",
       "  'store.size': '346.3mb',\n",
       "  'pri.store.size': '346.3mb'},\n",
       " 'indir_juris_tcu_synonym_related_term': {'health': 'yellow',\n",
       "  'status': 'open',\n",
       "  'index': 'indir_juris_tcu_synonym_related_term',\n",
       "  'uuid': 'OJIJ0P2XQo-s4NRuaT4W_w',\n",
       "  'pri': '1',\n",
       "  'rep': '1',\n",
       "  'docs.count': '16045',\n",
       "  'docs.deleted': '3045',\n",
       "  'store.size': '348.4mb',\n",
       "  'pri.store.size': '348.4mb'},\n",
       " 'indir_juris_tcu_synonym': {'health': 'yellow',\n",
       "  'status': 'open',\n",
       "  'index': 'indir_juris_tcu_synonym',\n",
       "  'uuid': 'nuMe_BWiQNG3r0lHCaeGeg',\n",
       "  'pri': '1',\n",
       "  'rep': '1',\n",
       "  'docs.count': '16045',\n",
       "  'docs.deleted': '5638',\n",
       "  'store.size': '334.5mb',\n",
       "  'pri.store.size': '334.5mb'},\n",
       " 'indir_juris_tcu_index': {'health': 'yellow',\n",
       "  'status': 'open',\n",
       "  'index': 'indir_juris_tcu_index',\n",
       "  'uuid': 'fGjzBrQzRUWTZ6KlnbfLqw',\n",
       "  'pri': '1',\n",
       "  'rep': '1',\n",
       "  'docs.count': '13255',\n",
       "  'docs.deleted': '2755',\n",
       "  'store.size': '281.7mb',\n",
       "  'pri.store.size': '281.7mb'}}"
      ]
     },
     "execution_count": 35,
     "metadata": {},
     "output_type": "execute_result"
    }
   ],
   "source": [
    "index_dict"
   ]
  },
  {
   "cell_type": "code",
   "execution_count": 36,
   "metadata": {},
   "outputs": [],
   "source": [
    "list_name_index = ['indir_juris_tcu', 'indir_juris_tcu_term', 'indir_juris_tcu_synonym', 'indir_juris_tcu_related_term', 'indir_juris_tcu_synonym_related_term' ]"
   ]
  },
  {
   "cell_type": "code",
   "execution_count": 37,
   "metadata": {},
   "outputs": [],
   "source": [
    "reference_data_index = {}"
   ]
  },
  {
   "cell_type": "code",
   "execution_count": 38,
   "metadata": {},
   "outputs": [
    {
     "name": "stdout",
     "output_type": "stream",
     "text": [
      "\n",
      "Qtd de documentos 16045\n",
      "\n",
      "Qtd de embeddings 16045\n",
      "\n",
      "Documento.id=5: <Document: id=5, content='SÚMULA TCU 1: Não se compreendem como vencimento, para efeito de concessão da pensão especial com fu...'>\n",
      "\n",
      "Qtd de documentos 16045\n",
      "\n",
      "Qtd de embeddings 16045\n",
      "\n",
      "Documento.id=5: <Document: id=5, content='SÚMULA TCU 1: Não se compreendem como vencimento, para efeito de concessão da pensão especial com fu...'>\n",
      "\n",
      "Qtd de documentos 16045\n",
      "\n",
      "Qtd de embeddings 16045\n",
      "\n",
      "Documento.id=5: <Document: id=5, content='SÚMULA TCU 1: Não se compreendem como vencimento, para efeito de concessão da pensão especial com fu...'>\n",
      "\n",
      "Qtd de documentos 16045\n",
      "\n",
      "Qtd de embeddings 16045\n",
      "\n",
      "Documento.id=5: <Document: id=5, content='SÚMULA TCU 1: Não se compreendem como vencimento, para efeito de concessão da pensão especial com fu...'>\n",
      "\n",
      "Qtd de documentos 16045\n",
      "\n",
      "Qtd de embeddings 16045\n",
      "\n",
      "Documento.id=5: <Document: id=5, content='SÚMULA TCU 1: Não se compreendem como vencimento, para efeito de concessão da pensão especial com fu...'>\n",
      "CPU times: user 30.8 ms, sys: 12.6 ms, total: 43.4 ms\n",
      "Wall time: 90.1 ms\n"
     ]
    }
   ],
   "source": [
    "%%time\n",
    "for index_name in list_name_index:\n",
    "    reference_data_index[index_name] = util_elastic.return_index(parm_index_name=index_name, parm_embedding_dim=1024)"
   ]
  },
  {
   "attachments": {},
   "cell_type": "markdown",
   "metadata": {},
   "source": [
    "# Pipelines creation"
   ]
  },
  {
   "cell_type": "code",
   "execution_count": 39,
   "metadata": {},
   "outputs": [],
   "source": [
    "# Test query\n",
    "# parm_query = \"trata-se de uma denúncia contra o prefeito de Manhuaçu por não haver pago os funcionários da área de limpeza urbana\"\n",
    "parm_query = \"despesa sem cobertura contratual\""
   ]
  },
  {
   "cell_type": "markdown",
   "metadata": {},
   "source": [
    "pipes = {}\n",
    "pipes['index'] = {}\n",
    "pipes['retriever_type'] = {}\n",
    "pipes['ranker_type'] = {}\n",
    "pipes['index_name'] = {}\n",
    "pipes['pipe'] = {}"
   ]
  },
  {
   "cell_type": "code",
   "execution_count": 40,
   "metadata": {},
   "outputs": [],
   "source": [
    "pipes = {}\n",
    "for index_name in list_name_index:\n",
    "    pipes[index_name] = []\n"
   ]
  },
  {
   "cell_type": "code",
   "execution_count": 43,
   "metadata": {},
   "outputs": [],
   "source": [
    "ranker_type = 'MINILM_INDIR' # 'MT5_3B' # 'MT5_TRAINED_LIM50_800' # 'MINILM_TRAINED_19000'"
   ]
  },
  {
   "cell_type": "code",
   "execution_count": 41,
   "metadata": {},
   "outputs": [
    {
     "ename": "Exception",
     "evalue": "Stop here",
     "output_type": "error",
     "traceback": [
      "\u001b[0;31m---------------------------------------------------------------------------\u001b[0m",
      "\u001b[0;31mException\u001b[0m                                 Traceback (most recent call last)",
      "\u001b[0;32m/tmp/ipykernel_1157535/3405283682.py\u001b[0m in \u001b[0;36m<module>\u001b[0;34m\u001b[0m\n\u001b[0;32m----> 1\u001b[0;31m \u001b[0;32mraise\u001b[0m \u001b[0mException\u001b[0m\u001b[0;34m(\u001b[0m\u001b[0;34m\"Stop here\"\u001b[0m\u001b[0;34m)\u001b[0m\u001b[0;34m\u001b[0m\u001b[0;34m\u001b[0m\u001b[0m\n\u001b[0m",
      "\u001b[0;31mException\u001b[0m: Stop here"
     ]
    }
   ],
   "source": [
    "raise Exception(\"Stop here\")"
   ]
  },
  {
   "attachments": {},
   "cell_type": "markdown",
   "metadata": {},
   "source": [
    "## Only retrievers"
   ]
  },
  {
   "attachments": {},
   "cell_type": "markdown",
   "metadata": {},
   "source": [
    "### bm25"
   ]
  },
  {
   "cell_type": "code",
   "execution_count": null,
   "metadata": {},
   "outputs": [
    {
     "name": "stdout",
     "output_type": "stream",
     "text": [
      "CPU times: user 1.17 ms, sys: 0 ns, total: 1.17 ms\n",
      "Wall time: 1.17 ms\n"
     ]
    }
   ],
   "source": [
    "%%time\n",
    "for index_name in list_name_index:\n",
    "    pipe = {}\n",
    "    pipe['PIPE_OBJECT'] = util_pipeline.return_pipeline_bm25(reference_data_index[index_name])\n",
    "    pipe['RETRIEVER_TYPE'] = 'bm25'\n",
    "    pipe['RANKER_TYPE'] = 'none'\n",
    "    pipe['RANKER_MODEL_NAME'] = ''\n",
    "    pipe['RETRIEVER_MODEL_NAME'] = ''\n",
    "    pipes[index_name].append(pipe)\n"
   ]
  },
  {
   "cell_type": "code",
   "execution_count": null,
   "metadata": {},
   "outputs": [
    {
     "name": "stdout",
     "output_type": "stream",
     "text": [
      "\n",
      "index_name indir_juris_tcu\n",
      "*** retriever:bm25 / ranker:none\n",
      "\n",
      "Index: indir_juris_tcu\n",
      "Parâmetros usados: {'Retriever': {'top_k': 100}}\n",
      "Consulta: despesa sem cobertura contratual\n",
      "Qtd documentos retornados: 100\n",
      "Seguem os nomes dos termos recuperados em ordem de score\n",
      "0 : [0.9497785738073338, '18384', 'A realização de pagamentos em data anterior à celebração do contrato caracteriza despesa sem cobertura contratual.']\n",
      "1 : [0.9172683438466377, '17993', 'O pagamento pela realização de serviços novos, não contidos no projeto originalmente licitado, utilizando-se para faturamento serviços constantes na planilha de preços original, sem a respectiva execução, é despesa sem cobertura contratual, a justificar aplicação de multa aos responsáveis envolvidos.']\n",
      "2 : [0.8962556736040861, '18905', 'A execução de serviços sem cobertura contratual, mas autorizados pela Administração, gera o dever de indenizar.']\n",
      "3 : [0.889172123906067, '18950', 'A realização de pagamentos previamente à assinatura dos respectivos instrumentos contratuais configura a realização de despesas sem cobertura contratual.']\n",
      "4 : [0.8802496867482822, '18089', 'Nos casos de reconhecimento de dívida por serviços realizados sem cobertura contratual válida deve ser verificado se o valor a ser pago está em conformidade com os praticados pelo mercado, se foi apresentado documento fiscal da contratada interessada, assim como providenciado o atesto à despesa por servidor que tenha condições de reconhecer que os serviços foram efetivamente prestados.']\n",
      "5 : [0.8730238803175955, '19451', 'A realização de despesas sem cobertura contratual é irregularidade grave, que justifica a aplicação de multa aos responsáveis, bem como julgamento pela irregularidade de suas contas']\n",
      "\n",
      "index_name indir_juris_tcu_term\n",
      "*** retriever:bm25 / ranker:none\n",
      "\n",
      "Index: indir_juris_tcu_term\n",
      "Parâmetros usados: {'Retriever': {'top_k': 100}}\n",
      "Consulta: despesa sem cobertura contratual\n",
      "Qtd documentos retornados: 100\n",
      "Seguem os nomes dos termos recuperados em ordem de score\n",
      "0 : [0.9321431305099888, '18384', 'A realização de pagamentos em data anterior à celebração do contrato caracteriza despesa sem cobertura contratual.\\nAssinatura, Contrato administrativo, Formalização do contrato, Contrato verbal.']\n",
      "1 : [0.9052066284576652, '17993', 'O pagamento pela realização de serviços novos, não contidos no projeto originalmente licitado, utilizando-se para faturamento serviços constantes na planilha de preços original, sem a respectiva execução, é despesa sem cobertura contratual, a justificar aplicação de multa aos responsáveis envolvidos.\\nMulta, Responsabilidade, Contrato verbal, Serviço novo, Contrato administrativo.']\n",
      "2 : [0.879401762108269, '18089', 'Nos casos de reconhecimento de dívida por serviços realizados sem cobertura contratual válida deve ser verificado se o valor a ser pago está em conformidade com os praticados pelo mercado, se foi apresentado documento fiscal da contratada interessada, assim como providenciado o atesto à despesa por servidor que tenha condições de reconhecer que os serviços foram efetivamente prestados.\\nReconhecimento, Contrato administrativo, Liquidação da despesa, Atestação, Pagamento, Contrato verbal, Dívida, Preço de mercado.']\n",
      "3 : [0.877860648709494, '18950', 'A realização de pagamentos previamente à assinatura dos respectivos instrumentos contratuais configura a realização de despesas sem cobertura contratual.\\nContrato verbal, Contrato administrativo, Formalização do contrato.']\n",
      "4 : [0.8759338844188369, '18905', 'A execução de serviços sem cobertura contratual, mas autorizados pela Administração, gera o dever de indenizar.\\nFormalização do contrato, Contrato administrativo, Contrato verbal, Indenização, Execução de contrato.']\n",
      "5 : [0.8627165294733645, '19451', 'A realização de despesas sem cobertura contratual é irregularidade grave, que justifica a aplicação de multa aos responsáveis, bem como julgamento pela irregularidade de suas contas\\nContas irregulares, Contrato administrativo, Contrato verbal, Responsabilidade, Multa.']\n",
      "\n",
      "index_name indir_juris_tcu_synonym\n",
      "*** retriever:bm25 / ranker:none\n",
      "\n",
      "Index: indir_juris_tcu_synonym\n",
      "Parâmetros usados: {'Retriever': {'top_k': 100}}\n",
      "Consulta: despesa sem cobertura contratual\n",
      "Qtd documentos retornados: 100\n",
      "Seguem os nomes dos termos recuperados em ordem de score\n",
      "0 : [0.9392426259481879, '18384', 'A realização de pagamentos em data anterior à celebração do contrato caracteriza despesa sem cobertura contratual.\\nAssinatura - Subscrição. Contrato administrativo - Contratos administrativos.']\n",
      "1 : [0.90195523675644, '17993', 'O pagamento pela realização de serviços novos, não contidos no projeto originalmente licitado, utilizando-se para faturamento serviços constantes na planilha de preços original, sem a respectiva execução, é despesa sem cobertura contratual, a justificar aplicação de multa aos responsáveis envolvidos.\\nMulta - Multas. Responsabilidade - Responsabilidades. Serviço novo - Serviços novos, Serviços adicionais, Serviços não contemplados, Serviço não previsto e Serviço não contemplado. Contrato administrativo - Contratos administrativos.']\n",
      "2 : [0.8833955887370857, '18950', 'A realização de pagamentos previamente à assinatura dos respectivos instrumentos contratuais configura a realização de despesas sem cobertura contratual.\\nContrato administrativo - Contratos administrativos.']\n",
      "3 : [0.8804965349055768, '18905', 'A execução de serviços sem cobertura contratual, mas autorizados pela Administração, gera o dever de indenizar.\\nContrato administrativo - Contratos administrativos. Indenização - Vantagem indenizatória e Indenizações.']\n",
      "4 : [0.8665960404029213, '18089', 'Nos casos de reconhecimento de dívida por serviços realizados sem cobertura contratual válida deve ser verificado se o valor a ser pago está em conformidade com os praticados pelo mercado, se foi apresentado documento fiscal da contratada interessada, assim como providenciado o atesto à despesa por servidor que tenha condições de reconhecer que os serviços foram efetivamente prestados.\\nReconhecimento - Práticas de reconhecimento. Contrato administrativo - Contratos administrativos. Dívida - Obrigação em dinheiro, Dívida de dinheiro, Dívida em dinheiro e Obrigação pecuniária. Preço de mercado - Valor de mercado, Preços de mercado e Preço de equilíbrio.']\n",
      "5 : [0.856698792093163, '19451', 'A realização de despesas sem cobertura contratual é irregularidade grave, que justifica a aplicação de multa aos responsáveis, bem como julgamento pela irregularidade de suas contas\\nContas irregulares - Rejeição das contas e Contas julgadas irregulares. Contrato administrativo - Contratos administrativos. Responsabilidade - Responsabilidades. Multa - Multas.']\n",
      "\n",
      "index_name indir_juris_tcu_related_term\n",
      "*** retriever:bm25 / ranker:none\n",
      "\n",
      "Index: indir_juris_tcu_related_term\n",
      "Parâmetros usados: {'Retriever': {'top_k': 100}}\n",
      "Consulta: despesa sem cobertura contratual\n",
      "Qtd documentos retornados: 100\n",
      "Seguem os nomes dos termos recuperados em ordem de score\n",
      "0 : [0.8413750624211767, '18384', 'A realização de pagamentos em data anterior à celebração do contrato caracteriza despesa sem cobertura contratual.\\nAssinatura -- Endosso, Assinatura digital, Procuração e Termo de compromisso. Contrato administrativo -- Pedido de reexame, Renovação de contrato, Objeto do contrato, Reajuste, Revisão contratual, Fato do príncipe, Contratante, Correção monetária, Rescisão contratual, Remanescente de contrato, Contratações públicas, Consórcio público, Cadastro de Empresas Inidôneas e Suspensas, Alocação de riscos, Cadastro Integrado de Condenações por Ilícitos Administrativos, Lei do Pregão Eletrônico, Reconhecimento de dívida, Lei de Licitações e Contratos, Relicitação, Contrato de gestão, Equilíbrio econômico-financeiro, Termo aditivo, Contratado, Terceirização, Subcontratação, Prestação de serviço, Facilities, Cláusula, Licitação e Contratação direta. Formalização do contrato -- Contrato. Contrato verbal -- Suprimento de fundos.']\n",
      "1 : [0.8331103269449515, '17993', 'O pagamento pela realização de serviços novos, não contidos no projeto originalmente licitado, utilizando-se para faturamento serviços constantes na planilha de preços original, sem a respectiva execução, é despesa sem cobertura contratual, a justificar aplicação de multa aos responsáveis envolvidos.\\nMulta -- Sonegação de informação, Cláusula penal, Advertência (Licitação), Declaração de inidoneidade, Recurso administrativo, Suspensão temporária e Inadimplência. Responsabilidade -- Prejuízo, Dever de lealdade, Termo de responsabilidade, Perdas e danos, Caso fortuito, Omissão, Deveres, Responsável, Accountability pública e Imputação. Contrato verbal -- Suprimento de fundos. Contrato administrativo -- Pedido de reexame, Renovação de contrato, Objeto do contrato, Reajuste, Revisão contratual, Fato do príncipe, Contratante, Correção monetária, Rescisão contratual, Remanescente de contrato, Contratações públicas, Consórcio público, Cadastro de Empresas Inidôneas e Suspensas, Alocação de riscos, Cadastro Integrado de Condenações por Ilícitos Administrativos, Lei do Pregão Eletrônico, Reconhecimento de dívida, Lei de Licitações e Contratos, Relicitação, Contrato de gestão, Equilíbrio econômico-financeiro, Termo aditivo, Contratado, Terceirização, Subcontratação, Prestação de serviço, Facilities, Cláusula, Licitação e Contratação direta.']\n",
      "2 : [0.8285164893281375, '18950', 'A realização de pagamentos previamente à assinatura dos respectivos instrumentos contratuais configura a realização de despesas sem cobertura contratual.\\nContrato verbal -- Suprimento de fundos. Contrato administrativo -- Pedido de reexame, Renovação de contrato, Objeto do contrato, Reajuste, Revisão contratual, Fato do príncipe, Contratante, Correção monetária, Rescisão contratual, Remanescente de contrato, Contratações públicas, Consórcio público, Cadastro de Empresas Inidôneas e Suspensas, Alocação de riscos, Cadastro Integrado de Condenações por Ilícitos Administrativos, Lei do Pregão Eletrônico, Reconhecimento de dívida, Lei de Licitações e Contratos, Relicitação, Contrato de gestão, Equilíbrio econômico-financeiro, Termo aditivo, Contratado, Terceirização, Subcontratação, Prestação de serviço, Facilities, Cláusula, Licitação e Contratação direta. Formalização do contrato -- Contrato.']\n",
      "3 : [0.8141400356717412, '73790', 'Os órgãos e entidades da Administração Pública Federal podem aceitar apólice de seguro - apresentada por empresa vencedora de certame licitatório para garantir o fiel cumprimento das obrigações assumidas no contrato - que contenha cláusula que exclua de cobertura prejuízos e demais penalidades causados ou relacionados a atos ou fatos violadores de normas de anticorrupção que tenham sido provocados pelo segurado ou seu representante, seja isoladamente, seja em concurso com o tomador ou seu representante. Por outro lado, devem recusar apólice de seguro que contenha cláusula que exclua de cobertura prejuízos e demais penalidades causados ou relacionados a atos ou fatos violadores de normas de anticorrupção que tenham sido provocados exclusivamente pelo tomador ou seu representante, sem o concurso do segurado ou seu representante.\\nCorrupção -- Laranja, Operação Lava Jato, Combate à corrupção, Acordo de leniência, Suborno, Concussão, Prevaricação, Empresa fictícia, Improbidade administrativa, Crime contra as finanças públicas, Anticorrupção, Lei Anticorrupção, Programa de integridade, Enriquecimento ilícito e Fraude. Seguro garantia -- Garantia contratual, Caução, Fiança bancária, Avalista, Aval, Fiança e Garantia fidejussória. Contrato administrativo -- Pedido de reexame, Renovação de contrato, Objeto do contrato, Reajuste, Revisão contratual, Fato do príncipe, Contratante, Correção monetária, Rescisão contratual, Remanescente de contrato, Contratações públicas, Consórcio público, Cadastro de Empresas Inidôneas e Suspensas, Alocação de riscos, Cadastro Integrado de Condenações por Ilícitos Administrativos, Lei do Pregão Eletrônico, Reconhecimento de dívida, Lei de Licitações e Contratos, Relicitação, Contrato de gestão, Equilíbrio econômico-financeiro, Termo aditivo, Contratado, Terceirização, Subcontratação, Prestação de serviço, Facilities, Cláusula, Licitação e Contratação direta. Garantia contratual -- Rescisão contratual, Alteração por acordo, Garantia adicional, Concessão de garantia, Seguro garantia e Garantia da proposta.']\n",
      "4 : [0.8083457255240123, '18059', 'A aquisição de bens ou serviços sem cobertura de termo contratual, bem assim sua celebração com cláusula de vigência retroativa, caracteriza a existência de contrato verbal antes de sua formalização, o que é vedado pelo art. 60, parágrafo único, Lei 8.666/1993.\\nFormalização do contrato -- Contrato. Ilegalidade -- Representação, Mandado de segurança, Manifesta ilegalidade, Eficácia da lei, Abuso de autoridade, Habeas corpus e Princípio da legalidade. Contrato verbal -- Suprimento de fundos. Contrato administrativo -- Pedido de reexame, Renovação de contrato, Objeto do contrato, Reajuste, Revisão contratual, Fato do príncipe, Contratante, Correção monetária, Rescisão contratual, Remanescente de contrato, Contratações públicas, Consórcio público, Cadastro de Empresas Inidôneas e Suspensas, Alocação de riscos, Cadastro Integrado de Condenações por Ilícitos Administrativos, Lei do Pregão Eletrônico, Reconhecimento de dívida, Lei de Licitações e Contratos, Relicitação, Contrato de gestão, Equilíbrio econômico-financeiro, Termo aditivo, Contratado, Terceirização, Subcontratação, Prestação de serviço, Facilities, Cláusula, Licitação e Contratação direta.']\n",
      "5 : [0.8083457255240123, '18060', 'A formalização de contrato em momento posterior em nada muda a ilegalidade da prévia contratação verbal, constituindo-se, com relação aos pagamentos realizados à empresa prestadora de serviços nesse período, despesas sem cobertura contratual, a serem sopesadas no julgamento das contas do responsável.\\nIlegalidade -- Representação, Mandado de segurança, Manifesta ilegalidade, Eficácia da lei, Abuso de autoridade, Habeas corpus e Princípio da legalidade. Formalização do contrato -- Contrato. Contrato administrativo -- Pedido de reexame, Renovação de contrato, Objeto do contrato, Reajuste, Revisão contratual, Fato do príncipe, Contratante, Correção monetária, Rescisão contratual, Remanescente de contrato, Contratações públicas, Consórcio público, Cadastro de Empresas Inidôneas e Suspensas, Alocação de riscos, Cadastro Integrado de Condenações por Ilícitos Administrativos, Lei do Pregão Eletrônico, Reconhecimento de dívida, Lei de Licitações e Contratos, Relicitação, Contrato de gestão, Equilíbrio econômico-financeiro, Termo aditivo, Contratado, Terceirização, Subcontratação, Prestação de serviço, Facilities, Cláusula, Licitação e Contratação direta. Contrato verbal -- Suprimento de fundos.']\n",
      "\n",
      "index_name indir_juris_tcu_synonym_related_term\n",
      "*** retriever:bm25 / ranker:none\n",
      "\n",
      "Index: indir_juris_tcu_synonym_related_term\n",
      "Parâmetros usados: {'Retriever': {'top_k': 100}}\n",
      "Consulta: despesa sem cobertura contratual\n",
      "Qtd documentos retornados: 100\n",
      "Seguem os nomes dos termos recuperados em ordem de score\n",
      "0 : [0.8458018958217431, '18384', 'A realização de pagamentos em data anterior à celebração do contrato caracteriza despesa sem cobertura contratual.\\nAssinatura - Subscrição. -- Endosso, Assinatura digital, Procuração e Termo de compromisso. Contrato administrativo - Contratos administrativos. -- Pedido de reexame, Renovação de contrato, Objeto do contrato, Reajuste, Revisão contratual, Fato do príncipe, Contratante, Correção monetária, Rescisão contratual, Remanescente de contrato, Contratações públicas, Consórcio público, Cadastro de Empresas Inidôneas e Suspensas, Alocação de riscos, Cadastro Integrado de Condenações por Ilícitos Administrativos, Lei do Pregão Eletrônico, Reconhecimento de dívida, Lei de Licitações e Contratos, Relicitação, Contrato de gestão, Equilíbrio econômico-financeiro, Termo aditivo, Contratado, Terceirização, Subcontratação, Prestação de serviço, Facilities, Cláusula, Licitação e Contratação direta. Formalização do contrato -- Contrato. Contrato verbal -- Suprimento de fundos.']\n",
      "1 : [0.8321492856090513, '18950', 'A realização de pagamentos previamente à assinatura dos respectivos instrumentos contratuais configura a realização de despesas sem cobertura contratual.\\nContrato verbal -- Suprimento de fundos. Contrato administrativo - Contratos administrativos. -- Pedido de reexame, Renovação de contrato, Objeto do contrato, Reajuste, Revisão contratual, Fato do príncipe, Contratante, Correção monetária, Rescisão contratual, Remanescente de contrato, Contratações públicas, Consórcio público, Cadastro de Empresas Inidôneas e Suspensas, Alocação de riscos, Cadastro Integrado de Condenações por Ilícitos Administrativos, Lei do Pregão Eletrônico, Reconhecimento de dívida, Lei de Licitações e Contratos, Relicitação, Contrato de gestão, Equilíbrio econômico-financeiro, Termo aditivo, Contratado, Terceirização, Subcontratação, Prestação de serviço, Facilities, Cláusula, Licitação e Contratação direta. Formalização do contrato -- Contrato.']\n",
      "2 : [0.8320695499320697, '17993', 'O pagamento pela realização de serviços novos, não contidos no projeto originalmente licitado, utilizando-se para faturamento serviços constantes na planilha de preços original, sem a respectiva execução, é despesa sem cobertura contratual, a justificar aplicação de multa aos responsáveis envolvidos.\\nMulta - Multas. -- Sonegação de informação, Cláusula penal, Advertência (Licitação), Declaração de inidoneidade, Recurso administrativo, Suspensão temporária e Inadimplência. Responsabilidade - Responsabilidades. -- Prejuízo, Dever de lealdade, Termo de responsabilidade, Perdas e danos, Caso fortuito, Omissão, Deveres, Responsável, Accountability pública e Imputação. Contrato verbal -- Suprimento de fundos. Serviço novo - Serviços novos, Serviços adicionais, Serviços não contemplados, Serviço não previsto e Serviço não contemplado. Contrato administrativo - Contratos administrativos. -- Pedido de reexame, Renovação de contrato, Objeto do contrato, Reajuste, Revisão contratual, Fato do príncipe, Contratante, Correção monetária, Rescisão contratual, Remanescente de contrato, Contratações públicas, Consórcio público, Cadastro de Empresas Inidôneas e Suspensas, Alocação de riscos, Cadastro Integrado de Condenações por Ilícitos Administrativos, Lei do Pregão Eletrônico, Reconhecimento de dívida, Lei de Licitações e Contratos, Relicitação, Contrato de gestão, Equilíbrio econômico-financeiro, Termo aditivo, Contratado, Terceirização, Subcontratação, Prestação de serviço, Facilities, Cláusula, Licitação e Contratação direta.']\n",
      "3 : [0.8217057005881437, '73790', 'Os órgãos e entidades da Administração Pública Federal podem aceitar apólice de seguro - apresentada por empresa vencedora de certame licitatório para garantir o fiel cumprimento das obrigações assumidas no contrato - que contenha cláusula que exclua de cobertura prejuízos e demais penalidades causados ou relacionados a atos ou fatos violadores de normas de anticorrupção que tenham sido provocados pelo segurado ou seu representante, seja isoladamente, seja em concurso com o tomador ou seu representante. Por outro lado, devem recusar apólice de seguro que contenha cláusula que exclua de cobertura prejuízos e demais penalidades causados ou relacionados a atos ou fatos violadores de normas de anticorrupção que tenham sido provocados exclusivamente pelo tomador ou seu representante, sem o concurso do segurado ou seu representante.\\nCorrupção - Corrupção na política. -- Laranja, Operação Lava Jato, Combate à corrupção, Acordo de leniência, Suborno, Concussão, Prevaricação, Empresa fictícia, Improbidade administrativa, Crime contra as finanças públicas, Anticorrupção, Lei Anticorrupção, Programa de integridade, Enriquecimento ilícito e Fraude. Seguro garantia - Seguro-garantia. -- Garantia contratual, Caução, Fiança bancária, Avalista, Aval, Fiança e Garantia fidejussória. Contrato administrativo - Contratos administrativos. -- Pedido de reexame, Renovação de contrato, Objeto do contrato, Reajuste, Revisão contratual, Fato do príncipe, Contratante, Correção monetária, Rescisão contratual, Remanescente de contrato, Contratações públicas, Consórcio público, Cadastro de Empresas Inidôneas e Suspensas, Alocação de riscos, Cadastro Integrado de Condenações por Ilícitos Administrativos, Lei do Pregão Eletrônico, Reconhecimento de dívida, Lei de Licitações e Contratos, Relicitação, Contrato de gestão, Equilíbrio econômico-financeiro, Termo aditivo, Contratado, Terceirização, Subcontratação, Prestação de serviço, Facilities, Cláusula, Licitação e Contratação direta. Garantia contratual - Garantia de execução contratual, Garantia contratual básica e Garantia legal. -- Rescisão contratual, Alteração por acordo, Garantia adicional, Concessão de garantia, Seguro garantia e Garantia da proposta.']\n",
      "4 : [0.813921313134301, '18059', 'A aquisição de bens ou serviços sem cobertura de termo contratual, bem assim sua celebração com cláusula de vigência retroativa, caracteriza a existência de contrato verbal antes de sua formalização, o que é vedado pelo art. 60, parágrafo único, Lei 8.666/1993.\\nFormalização do contrato -- Contrato. Ilegalidade -- Representação, Mandado de segurança, Manifesta ilegalidade, Eficácia da lei, Abuso de autoridade, Habeas corpus e Princípio da legalidade. Contrato verbal -- Suprimento de fundos. Contrato administrativo - Contratos administrativos. -- Pedido de reexame, Renovação de contrato, Objeto do contrato, Reajuste, Revisão contratual, Fato do príncipe, Contratante, Correção monetária, Rescisão contratual, Remanescente de contrato, Contratações públicas, Consórcio público, Cadastro de Empresas Inidôneas e Suspensas, Alocação de riscos, Cadastro Integrado de Condenações por Ilícitos Administrativos, Lei do Pregão Eletrônico, Reconhecimento de dívida, Lei de Licitações e Contratos, Relicitação, Contrato de gestão, Equilíbrio econômico-financeiro, Termo aditivo, Contratado, Terceirização, Subcontratação, Prestação de serviço, Facilities, Cláusula, Licitação e Contratação direta.']\n",
      "5 : [0.813921313134301, '18060', 'A formalização de contrato em momento posterior em nada muda a ilegalidade da prévia contratação verbal, constituindo-se, com relação aos pagamentos realizados à empresa prestadora de serviços nesse período, despesas sem cobertura contratual, a serem sopesadas no julgamento das contas do responsável.\\nIlegalidade -- Representação, Mandado de segurança, Manifesta ilegalidade, Eficácia da lei, Abuso de autoridade, Habeas corpus e Princípio da legalidade. Formalização do contrato -- Contrato. Contrato administrativo - Contratos administrativos. -- Pedido de reexame, Renovação de contrato, Objeto do contrato, Reajuste, Revisão contratual, Fato do príncipe, Contratante, Correção monetária, Rescisão contratual, Remanescente de contrato, Contratações públicas, Consórcio público, Cadastro de Empresas Inidôneas e Suspensas, Alocação de riscos, Cadastro Integrado de Condenações por Ilícitos Administrativos, Lei do Pregão Eletrônico, Reconhecimento de dívida, Lei de Licitações e Contratos, Relicitação, Contrato de gestão, Equilíbrio econômico-financeiro, Termo aditivo, Contratado, Terceirização, Subcontratação, Prestação de serviço, Facilities, Cláusula, Licitação e Contratação direta. Contrato verbal -- Suprimento de fundos.']\n",
      "CPU times: user 18 ms, sys: 0 ns, total: 18 ms\n",
      "Wall time: 242 ms\n"
     ]
    }
   ],
   "source": [
    "%%time\n",
    "for index_name in pipes:\n",
    "    print(f\"\\nindex_name {index_name}\")\n",
    "    for pipe in pipes[index_name]:\n",
    "        print(f\"*** retriever:{pipe['RETRIEVER_TYPE']} / ranker:{pipe['RANKER_TYPE']}\")\n",
    "        doctos_retornados_ranker =  pipe['PIPE_OBJECT'].run(query=parm_query, \n",
    "        params={\"Retriever\": {\"top_k\": 100}})\n",
    "        print(f'\\nIndex: {index_name}')\n",
    "        util_pipeline.detail_document_found(doctos_retornados_ranker,5)"
   ]
  },
  {
   "attachments": {},
   "cell_type": "markdown",
   "metadata": {},
   "source": [
    "### join"
   ]
  },
  {
   "cell_type": "markdown",
   "metadata": {},
   "source": [
    "#### sts + bm25"
   ]
  },
  {
   "cell_type": "code",
   "execution_count": null,
   "metadata": {},
   "outputs": [
    {
     "ename": "NameError",
     "evalue": "name 'index' is not defined",
     "output_type": "error",
     "traceback": [
      "\u001b[0;31m---------------------------------------------------------------------------\u001b[0m",
      "\u001b[0;31mNameError\u001b[0m                                 Traceback (most recent call last)",
      "\u001b[0;32m<timed exec>\u001b[0m in \u001b[0;36m<module>\u001b[0;34m\u001b[0m\n",
      "\u001b[0;31mNameError\u001b[0m: name 'index' is not defined"
     ]
    }
   ],
   "source": [
    "%%time\n",
    "pipe_join_sts_bm25 = util_pipeline.return_pipeline_join_bm25_sts(index)"
   ]
  },
  {
   "cell_type": "code",
   "execution_count": null,
   "metadata": {},
   "outputs": [],
   "source": [
    "pipes.append({'PIPE_NAME': 'pipe_join_sts_bm25',\n",
    "              'PIPE_OBJECT': pipe_join_sts_bm25,\n",
    "              'RETRIEVER_TYPE': 'join_sts_bm25',  # in ['sts', 'bm25']\n",
    "              'RETRIEVER_MODEL_NAME': util_pipeline.nome_modelo_embedding_model_sts, # or nome_modelo_embedding_model_sts_rufimelo,\n",
    "              'RANKER_MODEL_NAME': ''})"
   ]
  },
  {
   "cell_type": "code",
   "execution_count": null,
   "metadata": {},
   "outputs": [
    {
     "name": "stdout",
     "output_type": "stream",
     "text": [
      "Parâmetros usados: {'Bm25Retriever': {'top_k': 300}, 'StsRetriever': {'top_k': 300}}\n",
      "Consulta: A transferência de documentos da entidade para local impróprio ao armazenamento, causando a perda de informações ou inviabilizando seu manuseio, de forma a impedir a atuação do TCU, é causa de responsabilização do gestor que a ordenou.\n",
      "Qtd documentos retornados: 542\n",
      "Primeiro docto:\n",
      "<Document: id=1102005, content='O termo é \"Plano de contratações\".\n",
      "Plano de contratações tem definição: \"É o documento no qual a org...'>\n",
      "\n",
      "Último (542):\n",
      "<Document: id=1103641, content='O termo é \"Falta grave\".\n",
      "Falta grave tem nota de escopo: \"Está prevista em várias normatizações que ...'>\n",
      "Seguem os nomes dos termos recuperados em ordem de score\n",
      "0 : ['Plano de contratações', '1102005', 0.981894035831847]\n",
      "1 : ['Competência do TCU', '5095', 0.981022770821533]\n",
      "2 : ['Nexo de causalidade', '4495', 0.9782476752974565]\n",
      "3 : ['Teletrabalho', '5949', 0.977450618284214]\n",
      "4 : ['Papéis de trabalho', '15181', 0.976140477988525]\n",
      "5 : ['Julgamento de contas', '874', 0.9732691705914434]\n",
      "6 : ['Matriz de fiscalização', '6627', 0.972325706163406]\n",
      "7 : ['Responsável', '2651', 0.9697077916173754]\n",
      "8 : ['Documento novo', '4689', 0.9683358468267826]\n",
      "9 : ['Examinar', '1113910', 0.9674270789213479]\n",
      "10 : ['Produzir', '1113970', 0.967161440121055]\n",
      "CPU times: user 529 ms, sys: 35.4 ms, total: 564 ms\n",
      "Wall time: 823 ms\n"
     ]
    }
   ],
   "source": [
    "%%time\n",
    "doctos_retornados_ranker = pipe_join_sts_bm25.run(query=parm_query, \n",
    " params={\"Bm25Retriever\": {\"top_k\": 300}, \"StsRetriever\": {\"top_k\": 300}})\n",
    "util_pipeline.detail_document_found(doctos_retornados_ranker)"
   ]
  },
  {
   "cell_type": "code",
   "execution_count": null,
   "metadata": {},
   "outputs": [
    {
     "name": "stdout",
     "output_type": "stream",
     "text": [
      "CPU times: user 3.36 s, sys: 674 ms, total: 4.04 s\n",
      "Wall time: 2.12 s\n"
     ]
    }
   ],
   "source": [
    "%%time\n",
    "pipe_join_sts_multihop_bm25 = util_pipeline.return_pipeline_join_bm25_sts_multihop(index)"
   ]
  },
  {
   "cell_type": "code",
   "execution_count": null,
   "metadata": {},
   "outputs": [],
   "source": [
    "pipes.append({'PIPE_NAME': 'pipe_join_sts_multihop_bm25',\n",
    "              'PIPE_OBJECT': pipe_join_sts_multihop_bm25,\n",
    "              'RETRIEVER_TYPE': 'join_sts_multihop_bm25',  # in ['sts', 'bm25']\n",
    "              'RETRIEVER_MODEL_NAME': util_pipeline.nome_modelo_embedding_model_sts, # or nome_modelo_embedding_model_sts_rufimelo,\n",
    "              'RANKER_MODEL_NAME': ''})"
   ]
  },
  {
   "cell_type": "code",
   "execution_count": null,
   "metadata": {},
   "outputs": [
    {
     "name": "stdout",
     "output_type": "stream",
     "text": [
      "Parâmetros usados: {'Bm25Retriever': {'top_k': 150}, 'StsRetriever': {'top_k': 150}}\n",
      "Consulta: A transferência de documentos da entidade para local impróprio ao armazenamento, causando a perda de informações ou inviabilizando seu manuseio, de forma a impedir a atuação do TCU, é causa de responsabilização do gestor que a ordenou.\n",
      "Qtd documentos retornados: 289\n",
      "Primeiro docto:\n",
      "<Document: id=2577, content='O termo é \"Afastamento de responsável\".\n",
      "Afastamento de responsável tem definição: \"No início ou no c...'>\n",
      "\n",
      "Último (289):\n",
      "<Document: id=1102397, content='O termo é \"Estado de exceção\".\n",
      "Estado de exceção tem nota de escopo: \"Situação oposta ao Estado demo...'>\n",
      "Seguem os nomes dos termos recuperados em ordem de score\n",
      "0 : ['Afastamento de responsável', 0.9930839884285582]\n",
      "1 : ['Plano de contratações', 0.9856940203493179]\n",
      "2 : ['Competência do TCU', 0.9849874794705751]\n",
      "3 : ['Teletrabalho', 0.9823437136689326]\n",
      "4 : ['Nexo de causalidade', 0.982157658932855]\n",
      "5 : ['Processo administrativo de responsabilização', 0.9816688772992885]\n",
      "6 : ['Ofício de requisição', 0.9810189097165355]\n",
      "7 : ['Evidência documental', 0.9808667929710004]\n",
      "8 : ['Papéis de trabalho', 0.9800804158626235]\n",
      "9 : ['Julgamento de contas', 0.9780553040802098]\n",
      "10 : ['Matriz de fiscalização', 0.9778889174161483]\n",
      "11 : ['Ofício de comunicação de fiscalização', 0.9759793956838178]\n",
      "12 : ['Responsável', 0.9749983023194281]\n",
      "13 : ['Matriz de responsabilização', 0.9749010355369913]\n",
      "14 : ['Rescisão unilateral', 0.9748706914060489]\n",
      "15 : ['Produzir', 0.9743022341175737]\n",
      "16 : ['Afastamento preventivo', 0.9741557736812957]\n",
      "17 : ['Documento novo', 0.9732741034881348]\n",
      "18 : ['Examinar', 0.9732180433625631]\n",
      "19 : ['Perda de objeto', 0.9725962719359168]\n",
      "20 : ['Phishing', 0.9724266621478431]\n",
      "21 : ['Sistema Nacional de Emprego', 0.9714378186803478]\n",
      "22 : ['Gestor da informação', 0.9712187264447482]\n",
      "23 : ['Controle de segunda ordem', 0.970873867075394]\n",
      "24 : ['Prevenção de perda de dados', 0.9708709826011247]\n",
      "25 : ['Causa do achado', 0.9706906037482294]\n",
      "26 : ['Estratégia digital', 0.9701236836186766]\n",
      "27 : ['Ministério Público junto ao TCU', 0.9700605069151323]\n",
      "28 : ['Confirmação externa', 0.9696596610660471]\n",
      "29 : ['Abandono de cargo', 0.9696305808093489]\n",
      "30 : ['Cobrança executiva', 0.9693038531578911]\n",
      "31 : ['Responsabilidade perante o controle externo', 0.9692663708644913]\n",
      "32 : ['Excludente de responsabilidade', 0.9687883274904563]\n",
      "33 : ['Matriz padrão', 0.9687832056065442]\n",
      "34 : ['Dispensa sem justa causa', 0.9681823105576527]\n",
      "35 : ['Penhor', 0.968162361915448]\n",
      "36 : ['Entidade filantrópica', 0.9676888116115662]\n",
      "37 : ['Honorários de êxito', 0.9676524124501663]\n",
      "38 : ['HTTPS', 0.9675901238174784]\n",
      "39 : ['Petição inicial', 0.9675488332671434]\n",
      "40 : ['Afastamento para servir a outro órgão ou entidade', 0.9669174085223711]\n",
      "41 : ['Disseminar', 0.966905218875126]\n",
      "42 : ['Descarte de documentos', 0.9664597032403718]\n",
      "43 : ['Destituição de função', 0.9663881863234739]\n",
      "44 : ['Informação ultrassecreta', 0.9661478094940132]\n",
      "45 : ['Análise estática', 0.9660281341139809]\n",
      "46 : ['Casemg', 0.9659682605598531]\n",
      "47 : ['Gestor', 0.9655142819406799]\n",
      "48 : ['Representação', 0.9652363938568079]\n",
      "49 : ['Arquivamento', 0.9650402024103759]\n",
      "50 : ['Expulsão de estrangeiro', 0.9649607308894933]\n",
      "51 : ['Avaliação de controles internos', 0.9647662571738366]\n",
      "52 : ['Trancamento das contas', 0.9646853808657104]\n",
      "53 : ['Backdoor', 0.9645546613332472]\n",
      "54 : ['Contabilidade', 0.9644534384224346]\n",
      "55 : ['Transferência de carteira', 0.9641922679960047]\n",
      "56 : ['Anulação', 0.9641800137270689]\n",
      "57 : ['Ato precário', 0.9639390672390818]\n",
      "58 : ['Ação corretiva', 0.9639161834711785]\n",
      "59 : ['Evicção', 0.9637212483345161]\n",
      "60 : ['Termo de sigilo', 0.9636935302860635]\n",
      "61 : ['Preclusão temporal', 0.9636725883461041]\n",
      "62 : ['Ouvidoria', 0.9634448837100252]\n",
      "63 : ['Fiscalização', 0.9630165470706724]\n",
      "64 : ['Informação reservada', 0.9624400470946145]\n",
      "65 : ['Cláusula uniforme', 0.9623910930365567]\n",
      "66 : ['Informação secreta', 0.9621803509722351]\n",
      "67 : ['Assessoria jurídica', 0.9621278198086929]\n",
      "68 : ['Decisão terminativa', 0.9620771568531108]\n",
      "69 : ['Armazenamento de dados', 0.9619242734842146]\n",
      "70 : ['Atividade crítica', 0.9618874014709465]\n",
      "71 : ['Serviço público prestado integralmente sob a forma digital', 0.961419871078294]\n",
      "72 : ['Ocasionar', 0.9612147237380495]\n",
      "73 : ['Atos de pessoal', 0.9609826149159687]\n",
      "74 : ['Processo administrativo disciplinar', 0.9608461294898473]\n",
      "75 : ['Contas irregulares', 0.960790374975503]\n",
      "76 : ['Desfazimento de bens permanentes', 0.9607845730403285]\n",
      "77 : ['Desapropriação judicial', 0.9606843032921187]\n",
      "78 : ['Exclusão de acesso', 0.9605946149526053]\n",
      "79 : ['Hipoteca', 0.9605545000176207]\n",
      "80 : ['Negativa de registro', 0.9604734597962636]\n",
      "81 : ['Concreto convencional', 0.9599764270606329]\n",
      "82 : ['Serviço público prestado parcialmente sob a forma digital', 0.959819704683328]\n",
      "83 : ['Transferências da União', 0.9596240778000634]\n",
      "84 : ['França', 0.9595603559566676]\n",
      "85 : ['Escola Superior do Tribunal de Contas da União', 0.9595120266901677]\n",
      "86 : ['Contrafação', 0.9593783462230799]\n",
      "87 : ['Jurisdição', 0.9591404375498186]\n",
      "88 : ['Capacidade operacional', 0.958941512088949]\n",
      "89 : ['Efeito do achado', 0.958929442662271]\n",
      "90 : ['Reforma (Pessoal)', 0.9587878563381154]\n",
      "91 : ['Substituição tributária', 0.9587698194957366]\n",
      "92 : ['Inspeção sanitária', 0.9586252476007018]\n",
      "93 : ['Gestor máximo', 0.9585643370920641]\n",
      "94 : ['Matriz de planejamento', 0.9584372944150586]\n",
      "95 : ['Dispensa arbitrária', 0.9583899892226]\n",
      "96 : ['Líbano', 0.958258830519573]\n",
      "97 : ['Ciência (Controle externo)', 0.9580335777941639]\n",
      "98 : ['Risco inerente', 0.9580101570198128]\n",
      "99 : ['Afastamento de pessoal', 0.9579483807175388]\n",
      "100 : ['Disciplinar', 0.9578823118848461]\n",
      "101 : ['Embargos', 0.9577779502140308]\n",
      "102 : ['Transferência de risco', 0.9577449798461105]\n",
      "103 : ['Demissão de pessoal', 0.9575770216285534]\n",
      "104 : ['Revogação', 0.9575380061545622]\n",
      "105 : ['Requerer', 0.9573839012529318]\n",
      "106 : ['Princípio da irrenunciabilidade', 0.9572732115283369]\n",
      "107 : ['Organização comunitária', 0.9571137609318326]\n",
      "108 : ['Gerenciamento de riscos corporativos', 0.9570734706181723]\n",
      "109 : ['Dissolução de empresa', 0.9570041858596294]\n",
      "110 : ['Memorial', 0.9569755794888811]\n",
      "111 : ['Princípio da motivação', 0.9566980435461419]\n",
      "112 : ['Adicional de embarque e desembarque', 0.9566770300646551]\n",
      "113 : ['Serviço público passível de ser prestado sob a forma digital', 0.9565799269322078]\n",
      "114 : ['Cessão de pessoal', 0.9564698462213936]\n",
      "115 : ['Dispensa com justa causa', 0.9564133798780595]\n",
      "116 : ['Ato de ofício', 0.9563213678624256]\n",
      "117 : ['Protocolo internacional', 0.9562298872578011]\n",
      "118 : ['Instruir', 0.9562261516103134]\n",
      "119 : ['Princípio da vedação ao enriquecimento sem causa', 0.9562196161116222]\n",
      "120 : ['Ação ao portador', 0.9561756905836348]\n",
      "121 : ['Demissão de servidor', 0.9560197120609917]\n",
      "122 : ['Diligência', 0.9559883455743694]\n",
      "123 : ['Ocupação', 0.9559661195591604]\n",
      "124 : ['Sonegação', 0.9558004268104576]\n",
      "125 : ['Índice de preços', 0.955620310570976]\n",
      "126 : ['Aviso prévio', 0.9552976545109074]\n",
      "127 : ['Responsabilização', 0.9552557484685231]\n",
      "128 : ['Exame sumário', 0.9551943519221134]\n",
      "129 : ['Administrar', 0.9550002696368254]\n",
      "130 : ['Desvio de função', 0.9549993617864077]\n",
      "131 : ['Sala-cofre', 0.954663706675542]\n",
      "132 : ['Fé pública', 0.9546371085351776]\n",
      "133 : ['Transferências voluntárias', 0.9543952656228274]\n",
      "134 : ['Férias vencidas', 0.9543769272308118]\n",
      "135 : ['Usucapião', 0.9541828786539923]\n",
      "136 : ['Ilícito administrativo', 0.9540219688230777]\n",
      "137 : ['Cadastro Específico do INSS', 0.9539315737563044]\n",
      "138 : ['Processo modificador', 0.9538438162925188]\n",
      "139 : ['Integridade da informação', 0.9537947632847696]\n",
      "140 : ['Oposição (Direito)', 0.9537884387830428]\n",
      "141 : ['Bibliografia', 0.9535005048958634]\n",
      "142 : ['Desapropriação de imóveis', 0.9534084517088282]\n",
      "143 : ['Processo de controle externo', 0.9534003553534076]\n",
      "144 : ['Contas iliquidáveis', 0.9533478576416983]\n",
      "145 : ['Falsidade documental', 0.9532337115403431]\n",
      "146 : ['Exame documental', 0.9532323518558644]\n",
      "147 : ['Indagação escrita', 0.9532204474391387]\n",
      "148 : ['Desapropriação por interesse social', 0.9529404738204769]\n",
      "149 : ['Cartilha', 0.9529244784147565]\n",
      "150 : ['Abuso de poder', 0.952866149279673]\n",
      "151 : ['PDV', 0.9527896159468343]\n",
      "152 : ['Rescisão contratual', 0.9526561002421039]\n",
      "153 : ['Hora extra judicial', 0.9526206145297323]\n",
      "154 : ['Teletrabalho total', 0.952438712791075]\n",
      "155 : ['Determinação', 0.9522163619848079]\n",
      "156 : ['Alterar', 0.9521879560550494]\n",
      "157 : ['Pagamento', 0.952067549539992]\n",
      "158 : ['Preclusão', 0.9518459061075061]\n",
      "159 : ['Impeachment', 0.9516816880784442]\n",
      "160 : ['Conteúdo local', 0.9516418276452496]\n",
      "161 : ['Vazamento de dados', 0.9515021740299701]\n",
      "162 : ['Medida Cautelar inaudita altera pars', 0.951377289633948]\n",
      "163 : ['Negação de serviço ', 0.9513441115227851]\n",
      "164 : ['Instituto Serzedello Corrêa', 0.9513190285991512]\n",
      "165 : ['Pessoa com deficiência auditiva', 0.9512463381425789]\n",
      "166 : ['Exceção de coisa julgada', 0.9512418509968635]\n",
      "167 : ['Revisão criminal', 0.9512376185753313]\n",
      "168 : ['Gestor substituto', 0.9512010428976136]\n",
      "169 : ['Decidir', 0.9510838676229583]\n",
      "170 : ['Caducidade da concessão', 0.9509720906402177]\n",
      "171 : ['Afastamento', 0.9508883324695274]\n",
      "172 : ['Notória especialização', 0.9508446206146226]\n",
      "173 : ['Processamento de dados', 0.9508190655415143]\n",
      "174 : ['Contrato de eficiência', 0.9506934331990565]\n",
      "175 : ['Manual', 0.9506929820210926]\n",
      "176 : ['Indício de irregularidade grave', 0.9506915405691604]\n",
      "177 : ['Obrigação de resultado', 0.9506775693065309]\n",
      "178 : ['Vistoria', 0.9506726573755878]\n",
      "179 : ['Iniciação esportiva', 0.950648952843144]\n",
      "180 : ['Princípio da ampla defesa', 0.9506209426079751]\n",
      "181 : ['Trabalho de asseguração limitada', 0.9505972321259649]\n",
      "182 : ['Afastamento para exercício de mandato eletivo', 0.950591737266558]\n",
      "183 : ['Remoção de pessoal', 0.9504782353160299]\n",
      "184 : ['Exoneração de pessoal', 0.950429684261479]\n",
      "185 : ['Férias proporcionais', 0.9504084260451396]\n",
      "186 : ['Sonegação fiscal', 0.9503938896187064]\n",
      "187 : ['Auxiliar', 0.9501660781675729]\n",
      "188 : ['Doença endêmica', 0.9500992715662937]\n",
      "189 : ['Decesso remuneratório', 0.9499043444161936]\n",
      "190 : ['Erro de execução', 0.9498522596130125]\n",
      "191 : ['Monitorar', 0.9496506992165659]\n",
      "192 : ['Catálogo de dados', 0.9495461163908799]\n",
      "193 : ['Regulamentar', 0.9494834514624517]\n",
      "194 : ['Design thinking', 0.9494216312426811]\n",
      "195 : ['Preclusão consumativa', 0.9491847523206469]\n",
      "196 : ['Decadência', 0.9490604567865645]\n",
      "197 : ['Anulação de empenho', 0.9489927316312505]\n",
      "198 : ['Vício construtivo', 0.9489875156833851]\n",
      "199 : ['Aposentadoria compulsória', 0.9487812699095419]\n",
      "200 : ['Processo apartado', 0.948730512564796]\n",
      "201 : ['Erro de procedimento', 0.9486512672616599]\n",
      "202 : ['Deportação', 0.948078040124372]\n",
      "203 : ['Ação de controle externo', 0.9476747843879454]\n",
      "204 : ['Renúncia', 0.9472555322435076]\n",
      "205 : ['Desaposentação', 0.9470115337290849]\n",
      "206 : ['Direito ao esquecimento', 0.9467558849639838]\n",
      "207 : ['Custo não renovável', 0.9466454818045339]\n",
      "208 : ['Tutela antecipada', 0.9463083006456102]\n",
      "209 : ['Medida cautelar', 0.9461692194897398]\n",
      "210 : ['Destituição de cargo', 0.945688641616802]\n",
      "211 : ['Pena disciplinar', 0.9456636230708965]\n",
      "212 : ['Suspensão temporária', 0.9454837562413523]\n",
      "213 : ['Auto de infração', 0.9453167701755276]\n",
      "214 : ['Tempo em estoque', 0.9452950550652395]\n",
      "215 : ['Princípio da autotutela', 0.9451294433865175]\n",
      "216 : ['Abandono de emprego', 0.945026358770448]\n",
      "217 : ['Exclusão', 0.9446358899071396]\n",
      "218 : ['Controle externo', 0.9444946180184273]\n",
      "219 : ['Extravio', 0.9441342563881083]\n",
      "220 : ['Processo de execução', 0.943865018886969]\n",
      "221 : ['Decisão preliminar', 0.9438484856378389]\n",
      "222 : ['Excludente de ilicitude', 0.9438031547018063]\n",
      "223 : ['Afastamento para estudo ou missão no exterior', 0.9436987363416601]\n",
      "224 : ['Reunião de encerramento', 0.9436856645828283]\n",
      "225 : ['Rescisão judicial', 0.9436468576026761]\n",
      "226 : ['Gestão documental', 0.9435179233021419]\n",
      "227 : ['Irregularidade grave', 0.9432754905561532]\n",
      "228 : ['Risco de controle', 0.943202891655092]\n",
      "229 : ['Cassação de disponibilidade', 0.943126289913147]\n",
      "230 : ['Controle posterior', 0.9430888919173948]\n",
      "231 : ['Sócio remisso', 0.9430428236297762]\n",
      "232 : ['Função de Assessoramento Superior', 0.9426230060236993]\n",
      "233 : ['Cassação de aposentadoria', 0.9425153364539083]\n",
      "234 : ['Reversão de pessoal', 0.94220616498087]\n",
      "235 : ['Sanção administrativa', 0.942143238816106]\n",
      "236 : ['Relatório de monitoramento', 0.9420093276265253]\n",
      "237 : ['Alcance', 0.9420045201971569]\n",
      "238 : ['Extrato de entrevista', 0.9419397473534288]\n",
      "239 : ['Razões de justificativa', 0.941898224279124]\n",
      "240 : ['Cancelamento', 0.9417916359368756]\n",
      "241 : ['Contagem de tempo de serviço', 0.9416659707114732]\n",
      "242 : ['Garantia contratual', 0.9414678486802204]\n",
      "243 : ['Subtração', 0.9414135455246073]\n",
      "244 : ['Afastamento para participação em Programa de Pós-Graduação', 0.9412585913454313]\n",
      "245 : ['Desacato', 0.9412152836446895]\n",
      "246 : ['Rescisão trabalhista', 0.9411663536625494]\n",
      "247 : ['Evacuação da população', 0.9410280477398281]\n",
      "248 : ['Decisão interlocutória', 0.9408805378395507]\n",
      "249 : ['Processo judicial', 0.9403960349068452]\n",
      "250 : ['Omissão', 0.9402324353669965]\n",
      "251 : ['Concessão em caráter precário', 0.940156807781515]\n",
      "252 : ['Recurso administrativo', 0.9400658800599423]\n",
      "253 : ['Trânsito em julgado', 0.9399593614663062]\n",
      "254 : ['Exceção de pré-executividade', 0.9399157782585748]\n",
      "255 : ['Demissão voluntária', 0.9397991098076609]\n",
      "256 : ['Recebimento definitivo', 0.9397227991289107]\n",
      "257 : ['Indenização', 0.9393939380318067]\n",
      "258 : ['Recurso de reconsideração', 0.9393666044431632]\n",
      "259 : ['Defesa de responsável', 0.9391810012148251]\n",
      "260 : ['Erro material', 0.9389918879281072]\n",
      "261 : ['Ação preventiva', 0.938865908865595]\n",
      "262 : ['Ação rescisória', 0.9387672269317752]\n",
      "263 : ['Contrato de supervisão', 0.9383412188136857]\n",
      "264 : ['Acordo extrajudicial', 0.9382923115568033]\n",
      "265 : ['Negligência', 0.9380378741063565]\n",
      "266 : ['Desvio de objeto', 0.937885359178251]\n",
      "267 : ['Coerção', 0.9376987940731616]\n",
      "268 : ['Excesso de poder', 0.9376070119884522]\n",
      "269 : ['Desaforamento', 0.9375462612917738]\n",
      "270 : ['Impedimento', 0.9374787739158508]\n",
      "271 : ['Impropriedade', 0.9374117465224161]\n",
      "272 : ['Evasão escolar', 0.9373119316853378]\n",
      "273 : ['Desprovimento', 0.9371338347701162]\n",
      "274 : ['Auditoria preventiva', 0.9371216384663831]\n",
      "275 : ['Princípio da finalidade', 0.9369337609786829]\n",
      "276 : ['Diferimento (Direito)', 0.9368972933043725]\n",
      "277 : ['Prisão temporária', 0.9366119085769298]\n",
      "278 : ['Notificação', 0.9364406481815949]\n",
      "279 : ['Execução da despesa', 0.9364140972898027]\n",
      "280 : ['Recebimento provisório', 0.9363818770633856]\n",
      "281 : ['Tomada de contas', 0.9362982479628167]\n",
      "282 : ['Falta funcional', 0.9362839319425142]\n",
      "283 : ['Sonegação de informação', 0.9361032930150246]\n",
      "284 : ['Vício processual', 0.9360092609463783]\n",
      "285 : ['Extrato de contrato', 0.9360008750050914]\n",
      "286 : ['Revisão de ofício', 0.9358834842893132]\n",
      "287 : ['Tempo de inatividade', 0.9358358233598048]\n",
      "288 : ['Estado de exceção', 0.935831679982884]\n",
      "CPU times: user 3 s, sys: 1.05 s, total: 4.05 s\n",
      "Wall time: 4.27 s\n"
     ]
    }
   ],
   "source": [
    "%%time\n",
    "doctos_retornados_ranker = pipe_join_sts_multihop_bm25.run(query=parm_query, \n",
    " params={\"Bm25Retriever\": {\"top_k\": 150}, \"StsRetriever\": {\"top_k\": 150}})\n",
    "util_pipeline.detail_document_found(doctos_retornados_ranker)"
   ]
  },
  {
   "cell_type": "code",
   "execution_count": null,
   "metadata": {},
   "outputs": [
    {
     "name": "stdout",
     "output_type": "stream",
     "text": [
      "CPU times: user 3.39 s, sys: 715 ms, total: 4.11 s\n",
      "Wall time: 2.16 s\n"
     ]
    }
   ],
   "source": [
    "%%time\n",
    "pipe_sts_multihop = util_pipeline.return_pipeline_sts_multihop(index)"
   ]
  },
  {
   "cell_type": "code",
   "execution_count": null,
   "metadata": {},
   "outputs": [],
   "source": [
    "pipes.append({'PIPE_NAME': 'pipe_sts_multihop',\n",
    "              'PIPE_OBJECT': pipe_sts_multihop,\n",
    "              'RETRIEVER_TYPE': 'sts_multihop',  # in ['sts', 'bm25']\n",
    "              'RETRIEVER_MODEL_NAME': util_pipeline.nome_modelo_embedding_model_sts, # or nome_modelo_embedding_model_sts_rufimelo,\n",
    "              'RANKER_MODEL_NAME': ''})"
   ]
  },
  {
   "cell_type": "code",
   "execution_count": null,
   "metadata": {},
   "outputs": [
    {
     "name": "stdout",
     "output_type": "stream",
     "text": [
      "Parâmetros usados: {'Retriever': {'top_k': 300}}\n",
      "Consulta: A transferência de documentos da entidade para local impróprio ao armazenamento, causando a perda de informações ou inviabilizando seu manuseio, de forma a impedir a atuação do TCU, é causa de responsabilização do gestor que a ordenou.\n",
      "Qtd documentos retornados: 300\n",
      "Primeiro docto:\n",
      "<Document: id=2577, content='O termo é \"Afastamento de responsável\".\n",
      "Afastamento de responsável tem definição: \"No início ou no c...'>\n",
      "\n",
      "Último (300):\n",
      "<Document: id=2550, content='O termo é \"Declaração de nulidade\".\n",
      "Declaração de nulidade tem definição: \"Declaração que torna o co...'>\n",
      "Seguem os nomes dos termos recuperados em ordem de score\n",
      "0 : ['Afastamento de responsável', 0.9930839884285582]\n",
      "1 : ['Rescisão unilateral', 0.9748706914060489]\n",
      "2 : ['Afastamento preventivo', 0.9741557736812957]\n",
      "3 : ['Perda de objeto', 0.9725962719359168]\n",
      "4 : ['Abandono de cargo', 0.9696305808093489]\n",
      "5 : ['Responsabilidade perante o controle externo', 0.9692663708644913]\n",
      "6 : ['Excludente de responsabilidade', 0.9687883274904563]\n",
      "7 : ['Dispensa sem justa causa', 0.9681823105576527]\n",
      "8 : ['Descarte de documentos', 0.9664597032403718]\n",
      "9 : ['Destituição de função', 0.9663881863234739]\n",
      "10 : ['Arquivamento', 0.9650402024103759]\n",
      "11 : ['Expulsão de estrangeiro', 0.9649607308894933]\n",
      "12 : ['Trancamento das contas', 0.9646853808657104]\n",
      "13 : ['Anulação', 0.9641800137270689]\n",
      "14 : ['Ato precário', 0.9639390672390818]\n",
      "15 : ['Preclusão temporal', 0.9636725883461041]\n",
      "16 : ['Decisão terminativa', 0.9620771568531108]\n",
      "17 : ['Atos de pessoal', 0.9609826149159687]\n",
      "18 : ['Processo administrativo disciplinar', 0.9608461294898473]\n",
      "19 : ['Contas irregulares', 0.960790374975503]\n",
      "20 : ['Desfazimento de bens permanentes', 0.9607845730403285]\n",
      "21 : ['Exclusão de acesso', 0.9605946149526053]\n",
      "22 : ['Negativa de registro', 0.9604734597962636]\n",
      "23 : ['Dispensa arbitrária', 0.9583899892226]\n",
      "24 : ['Ciência (Controle externo)', 0.9580335777941639]\n",
      "25 : ['Afastamento de pessoal', 0.9579483807175388]\n",
      "26 : ['Demissão de pessoal', 0.9575770216285534]\n",
      "27 : ['Revogação', 0.9575380061545622]\n",
      "28 : ['Dissolução de empresa', 0.9570041858596294]\n",
      "29 : ['Princípio da motivação', 0.9566980435461419]\n",
      "30 : ['Dispensa com justa causa', 0.9564133798780595]\n",
      "31 : ['Ato de ofício', 0.9563213678624256]\n",
      "32 : ['Demissão de servidor', 0.9560197120609917]\n",
      "33 : ['Aviso prévio', 0.9552976545109074]\n",
      "34 : ['Desvio de função', 0.9549993617864077]\n",
      "35 : ['Ilícito administrativo', 0.9540219688230777]\n",
      "36 : ['Processo modificador', 0.9538438162925188]\n",
      "37 : ['Processo de controle externo', 0.9534003553534076]\n",
      "38 : ['Contas iliquidáveis', 0.9533478576416983]\n",
      "39 : ['Abuso de poder', 0.952866149279673]\n",
      "40 : ['Rescisão contratual', 0.9526561002421039]\n",
      "41 : ['Determinação', 0.9522163619848079]\n",
      "42 : ['Preclusão', 0.9518459061075061]\n",
      "43 : ['Impeachment', 0.9516816880784442]\n",
      "44 : ['Vazamento de dados', 0.9515021740299701]\n",
      "45 : ['Medida Cautelar inaudita altera pars', 0.951377289633948]\n",
      "46 : ['Exceção de coisa julgada', 0.9512418509968635]\n",
      "47 : ['Caducidade da concessão', 0.9509720906402177]\n",
      "48 : ['Afastamento', 0.9508883324695274]\n",
      "49 : ['Indício de irregularidade grave', 0.9506915405691604]\n",
      "50 : ['Obrigação de resultado', 0.9506775693065309]\n",
      "51 : ['Princípio da ampla defesa', 0.9506209426079751]\n",
      "52 : ['Afastamento para exercício de mandato eletivo', 0.950591737266558]\n",
      "53 : ['Remoção de pessoal', 0.9504782353160299]\n",
      "54 : ['Exoneração de pessoal', 0.950429684261479]\n",
      "55 : ['Decesso remuneratório', 0.9499043444161936]\n",
      "56 : ['Erro de execução', 0.9498522596130125]\n",
      "57 : ['Preclusão consumativa', 0.9491847523206469]\n",
      "58 : ['Decadência', 0.9490604567865645]\n",
      "59 : ['Anulação de empenho', 0.9489927316312505]\n",
      "60 : ['Aposentadoria compulsória', 0.9487812699095419]\n",
      "61 : ['Processo apartado', 0.948730512564796]\n",
      "62 : ['Erro de procedimento', 0.9486512672616599]\n",
      "63 : ['Deportação', 0.948078040124372]\n",
      "64 : ['Ação de controle externo', 0.9476747843879454]\n",
      "65 : ['Renúncia', 0.9472555322435076]\n",
      "66 : ['Desaposentação', 0.9470115337290849]\n",
      "67 : ['Direito ao esquecimento', 0.9467558849639838]\n",
      "68 : ['Custo não renovável', 0.9466454818045339]\n",
      "69 : ['Tutela antecipada', 0.9463083006456102]\n",
      "70 : ['Medida cautelar', 0.9461692194897398]\n",
      "71 : ['Destituição de cargo', 0.945688641616802]\n",
      "72 : ['Pena disciplinar', 0.9456636230708965]\n",
      "73 : ['Suspensão temporária', 0.9454837562413523]\n",
      "74 : ['Auto de infração', 0.9453167701755276]\n",
      "75 : ['Tempo em estoque', 0.9452950550652395]\n",
      "76 : ['Princípio da autotutela', 0.9451294433865175]\n",
      "77 : ['Abandono de emprego', 0.945026358770448]\n",
      "78 : ['Exclusão', 0.9446358899071396]\n",
      "79 : ['Controle externo', 0.9444946180184273]\n",
      "80 : ['Extravio', 0.9441342563881083]\n",
      "81 : ['Processo de execução', 0.943865018886969]\n",
      "82 : ['Decisão preliminar', 0.9438484856378389]\n",
      "83 : ['Excludente de ilicitude', 0.9438031547018063]\n",
      "84 : ['Afastamento para estudo ou missão no exterior', 0.9436987363416601]\n",
      "85 : ['Reunião de encerramento', 0.9436856645828283]\n",
      "86 : ['Rescisão judicial', 0.9436468576026761]\n",
      "87 : ['Gestão documental', 0.9435179233021419]\n",
      "88 : ['Irregularidade grave', 0.9432754905561532]\n",
      "89 : ['Risco de controle', 0.943202891655092]\n",
      "90 : ['Cassação de disponibilidade', 0.943126289913147]\n",
      "91 : ['Controle posterior', 0.9430888919173948]\n",
      "92 : ['Sócio remisso', 0.9430428236297762]\n",
      "93 : ['Função de Assessoramento Superior', 0.9426230060236993]\n",
      "94 : ['Cassação de aposentadoria', 0.9425153364539083]\n",
      "95 : ['Reversão de pessoal', 0.94220616498087]\n",
      "96 : ['Sanção administrativa', 0.942143238816106]\n",
      "97 : ['Relatório de monitoramento', 0.9420093276265253]\n",
      "98 : ['Alcance', 0.9420045201971569]\n",
      "99 : ['Extrato de entrevista', 0.9419397473534288]\n",
      "100 : ['Razões de justificativa', 0.941898224279124]\n",
      "101 : ['Cancelamento', 0.9417916359368756]\n",
      "102 : ['Contagem de tempo de serviço', 0.9416659707114732]\n",
      "103 : ['Garantia contratual', 0.9414678486802204]\n",
      "104 : ['Subtração', 0.9414135455246073]\n",
      "105 : ['Afastamento para participação em Programa de Pós-Graduação', 0.9412585913454313]\n",
      "106 : ['Desacato', 0.9412152836446895]\n",
      "107 : ['Rescisão trabalhista', 0.9411663536625494]\n",
      "108 : ['Evacuação da população', 0.9410280477398281]\n",
      "109 : ['Decisão interlocutória', 0.9408805378395507]\n",
      "110 : ['Processo judicial', 0.9403960349068452]\n",
      "111 : ['Omissão', 0.9402324353669965]\n",
      "112 : ['Concessão em caráter precário', 0.940156807781515]\n",
      "113 : ['Recurso administrativo', 0.9400658800599423]\n",
      "114 : ['Trânsito em julgado', 0.9399593614663062]\n",
      "115 : ['Exceção de pré-executividade', 0.9399157782585748]\n",
      "116 : ['Demissão voluntária', 0.9397991098076609]\n",
      "117 : ['Recebimento definitivo', 0.9397227991289107]\n",
      "118 : ['Indenização', 0.9393939380318067]\n",
      "119 : ['Recurso de reconsideração', 0.9393666044431632]\n",
      "120 : ['Defesa de responsável', 0.9391810012148251]\n",
      "121 : ['Erro material', 0.9389918879281072]\n",
      "122 : ['Ação preventiva', 0.938865908865595]\n",
      "123 : ['Ação rescisória', 0.9387672269317752]\n",
      "124 : ['Contrato de supervisão', 0.9383412188136857]\n",
      "125 : ['Acordo extrajudicial', 0.9382923115568033]\n",
      "126 : ['Negligência', 0.9380378741063565]\n",
      "127 : ['Desvio de objeto', 0.937885359178251]\n",
      "128 : ['Coerção', 0.9376987940731616]\n",
      "129 : ['Excesso de poder', 0.9376070119884522]\n",
      "130 : ['Desaforamento', 0.9375462612917738]\n",
      "131 : ['Impedimento', 0.9374787739158508]\n",
      "132 : ['Impropriedade', 0.9374117465224161]\n",
      "133 : ['Evasão escolar', 0.9373119316853378]\n",
      "134 : ['Desprovimento', 0.9371338347701162]\n",
      "135 : ['Auditoria preventiva', 0.9371216384663831]\n",
      "136 : ['Princípio da finalidade', 0.9369337609786829]\n",
      "137 : ['Diferimento (Direito)', 0.9368972933043725]\n",
      "138 : ['Prisão temporária', 0.9366119085769298]\n",
      "139 : ['Notificação', 0.9364406481815949]\n",
      "140 : ['Execução da despesa', 0.9364140972898027]\n",
      "141 : ['Recebimento provisório', 0.9363818770633856]\n",
      "142 : ['Tomada de contas', 0.9362982479628167]\n",
      "143 : ['Falta funcional', 0.9362839319425142]\n",
      "144 : ['Sonegação de informação', 0.9361032930150246]\n",
      "145 : ['Vício processual', 0.9360092609463783]\n",
      "146 : ['Extrato de contrato', 0.9360008750050914]\n",
      "147 : ['Revisão de ofício', 0.9358834842893132]\n",
      "148 : ['Tempo de inatividade', 0.9358358233598048]\n",
      "149 : ['Estado de exceção', 0.935831679982884]\n",
      "150 : ['Cessão de pessoal', 0.935817146169348]\n",
      "151 : ['Encampação', 0.9357052172934271]\n",
      "152 : ['Invalidez permanente', 0.9355681550795771]\n",
      "153 : ['Incapacidade jurídica', 0.935501814880512]\n",
      "154 : ['Tomada de contas especial', 0.9354755024429682]\n",
      "155 : ['Administração contratada', 0.9354697075363827]\n",
      "156 : ['Poder discricionário', 0.9354203104457277]\n",
      "157 : ['Ato omissivo', 0.9352650667149456]\n",
      "158 : ['Ação cautelar', 0.9352396940171527]\n",
      "159 : ['Erro de direito', 0.9352122520238958]\n",
      "160 : ['Ação corretiva', 0.9350531421357698]\n",
      "161 : ['Desarquivamento', 0.9350101936915588]\n",
      "162 : ['Rescisão amigável', 0.9348367953588615]\n",
      "163 : ['Risco de auditoria', 0.934653683748004]\n",
      "164 : ['Incapacidade', 0.9345512454781533]\n",
      "165 : ['Evicção', 0.9345391948992178]\n",
      "166 : ['Distorção não corrigida', 0.9345283659695628]\n",
      "167 : ['Ato protelatório', 0.9344324236110761]\n",
      "168 : ['Abandono escolar', 0.9343172061392796]\n",
      "169 : ['Paralisação', 0.9342335112536638]\n",
      "170 : ['Auxílio-reclusão', 0.9342083158526763]\n",
      "171 : ['Preclusão lógica', 0.9341856938032369]\n",
      "172 : ['Conduta omissiva', 0.934176593766562]\n",
      "173 : ['Irregularidade', 0.9341592512700099]\n",
      "174 : ['Revisão criminal', 0.9341199997339027]\n",
      "175 : ['Administrador provisório', 0.9340135791089196]\n",
      "176 : ['Controle compensatório', 0.9339029247905026]\n",
      "177 : ['Princípio da non reformatio in pejus', 0.9338936649500605]\n",
      "178 : ['Citação', 0.9338280090001873]\n",
      "179 : ['Contestação', 0.9336819036769036]\n",
      "180 : ['Pedido de reexame', 0.9336298099546121]\n",
      "181 : ['Correição parcial', 0.933437956512513]\n",
      "182 : ['Auditoria sem papel', 0.9333560825522424]\n",
      "183 : ['Risco de detecção', 0.9332995181965731]\n",
      "184 : ['Embargos de declaração', 0.9332928569742991]\n",
      "185 : ['Indício de irregularidade', 0.9332363051004994]\n",
      "186 : ['Prescrição', 0.933219542751346]\n",
      "187 : ['Abuso de direito', 0.9329860848695286]\n",
      "188 : ['Representação administrativa', 0.9329209064503583]\n",
      "189 : ['Efeito suspensivo', 0.9329041957953766]\n",
      "190 : ['Derrogação', 0.9328730172836445]\n",
      "191 : ['Curador especial', 0.9325900448396693]\n",
      "192 : ['Ofício de requisição', 0.9325472834824717]\n",
      "193 : ['Responsabilidade civil', 0.9325331289642702]\n",
      "194 : ['Desaparecimento', 0.9325277180650576]\n",
      "195 : ['Pedido de reconsideração', 0.9323797062211973]\n",
      "196 : ['Contas regulares com ressalva', 0.9321320763332352]\n",
      "197 : ['Prevaricação', 0.9320646714284133]\n",
      "198 : ['Encerrar', 0.9320290768789962]\n",
      "199 : ['Competência superveniente', 0.9317728829093163]\n",
      "200 : ['Erro de julgamento', 0.9314033035154865]\n",
      "201 : ['Rol de inelegíveis', 0.9311324218565812]\n",
      "202 : ['Princípio da segregação de funções', 0.9309826038037394]\n",
      "203 : ['Modulação de efeitos', 0.930885452769265]\n",
      "204 : ['Quitação', 0.9308623519522501]\n",
      "205 : ['Audiência', 0.930792233595942]\n",
      "206 : ['Advertência (Licitação)', 0.9307903654491108]\n",
      "207 : ['Recurso de revisão', 0.9306924479284809]\n",
      "208 : ['Infração', 0.9306527674499231]\n",
      "209 : ['Desapropriação judicial', 0.9306374703367478]\n",
      "210 : ['Encaminhamento das contas', 0.930468672388354]\n",
      "211 : ['Caso negativo', 0.9304603260477395]\n",
      "212 : ['Decisão rescindenda', 0.930407185362164]\n",
      "213 : ['Sobrestamento de processo', 0.9302978085055764]\n",
      "214 : ['Erro acidental', 0.9301570309773419]\n",
      "215 : ['Condenação civil', 0.9301147269637645]\n",
      "216 : ['Controle incidental', 0.9298962022053742]\n",
      "217 : ['Controle abstrato', 0.9298508169058634]\n",
      "218 : ['Periculum in mora reverso', 0.9297581361994394]\n",
      "219 : ['Construção participativa de deliberações', 0.9297289379397513]\n",
      "220 : ['Exame do desempenho', 0.9297224696936269]\n",
      "221 : ['Omissão no dever de prestar contas', 0.9296833871693714]\n",
      "222 : ['Ação inibitória', 0.929589062048194]\n",
      "223 : ['Excludente de culpabilidade', 0.9292400540186413]\n",
      "224 : ['Reexecução', 0.929201842011011]\n",
      "225 : ['Falta grave', 0.929148931989595]\n",
      "226 : ['Despesas de exercícios anteriores', 0.9288144407706419]\n",
      "227 : ['Período de trânsito', 0.9287719812144342]\n",
      "228 : ['Ataque externo', 0.92859938960508]\n",
      "229 : ['Ressarcimento administrativo', 0.9285552194913663]\n",
      "230 : ['Controle repressivo', 0.9284039483930326]\n",
      "231 : ['Conduta irregular', 0.9283929800583376]\n",
      "232 : ['Distanciamento social ', 0.9283764249082831]\n",
      "233 : ['Fase externa', 0.9282984552275516]\n",
      "234 : ['Verba indenizatória', 0.9282047482441077]\n",
      "235 : ['Benefício das ações de controle externo', 0.9281857533284571]\n",
      "236 : ['Livre exoneração', 0.9280540612196406]\n",
      "237 : ['Substituição de pessoal', 0.9280141227045536]\n",
      "238 : ['Desafetação', 0.927945752373276]\n",
      "239 : ['Trajetória de controle externo', 0.9275237178243594]\n",
      "240 : ['Dispensa', 0.927383903292129]\n",
      "241 : ['Responsabilidade objetiva', 0.9273066904060103]\n",
      "242 : ['Estabilidade', 0.9271924843891822]\n",
      "243 : ['Afastamento para servir a outro órgão ou entidade', 0.9268865615420242]\n",
      "244 : ['Culpa in vigilando', 0.9268591786029914]\n",
      "245 : ['Alegação de defesa', 0.9267955649524767]\n",
      "246 : ['Desmobilização', 0.926653233416122]\n",
      "247 : ['Falsidade documental', 0.9265054721812327]\n",
      "248 : ['Desestatização', 0.926462085101764]\n",
      "249 : ['Apreciação conclusiva', 0.9263469986901954]\n",
      "250 : ['Sigilo de correspondência', 0.926246640302686]\n",
      "251 : ['Inexecução', 0.9261906717638859]\n",
      "252 : ['Controle de segurança', 0.9261207758610802]\n",
      "253 : ['Documento sigiloso', 0.9258752485095326]\n",
      "254 : ['Declaração de inidoneidade', 0.9258200508733748]\n",
      "255 : ['Prevenção de perda de dados', 0.9255832480412837]\n",
      "256 : ['Pagamento indevido', 0.9255371549361735]\n",
      "257 : ['Riscos fiscais', 0.9255098587573884]\n",
      "258 : ['Renovação de contrato', 0.9254486156927831]\n",
      "259 : ['Imperícia', 0.9254199783446573]\n",
      "260 : ['Benefício efetivo', 0.9253943686835662]\n",
      "261 : ['Disponibilidade de pessoal', 0.9253086452577504]\n",
      "262 : ['Arguição de suspeição', 0.9251649716136089]\n",
      "263 : ['Erro judiciário', 0.9251636561427911]\n",
      "264 : ['Cadastro Integrado de Condenações por Ilícitos Administrativos', 0.9251446140534989]\n",
      "265 : ['Produção de prova', 0.9250980633734536]\n",
      "266 : ['Inviabilidade', 0.9249939208602727]\n",
      "267 : ['Tratamento de artefatos maliciosos', 0.9249887865664286]\n",
      "268 : ['Suspensão de pagamento', 0.9249520738965226]\n",
      "269 : ['Procedimento alternativo de auditoria', 0.9249324963133042]\n",
      "270 : ['Excesso de exação', 0.9247317989786851]\n",
      "271 : ['Cronograma de desembolso', 0.9246783265125317]\n",
      "272 : ['Nulidade absoluta', 0.9246520648919998]\n",
      "273 : ['Serviços não contínuos', 0.9245580253637039]\n",
      "274 : ['Ato disciplinar', 0.9245032529828513]\n",
      "275 : ['Decurso de prazo', 0.9244572438983552]\n",
      "276 : ['Posse (Pessoal)', 0.9244318196490182]\n",
      "277 : ['Ressarcimento', 0.9243852813137805]\n",
      "278 : ['Administração da justiça', 0.9243642395890357]\n",
      "279 : ['Falecimento de responsável', 0.9243487169984749]\n",
      "280 : ['Culpabilidade', 0.9242359156569214]\n",
      "281 : ['Confisco', 0.9241802979584273]\n",
      "282 : ['Informação reservada', 0.9241638996993318]\n",
      "283 : ['Desclassificação', 0.9241539470318474]\n",
      "284 : ['Indício de irregularidade grave com recomendação de paralisação', 0.9241185422672243]\n",
      "285 : ['Taxa tolerável de desvio', 0.9241153866512042]\n",
      "286 : ['Preparo (Direito)', 0.924062213946603]\n",
      "287 : ['Observação', 0.9240224172864854]\n",
      "288 : ['Reembolso', 0.9239438908902561]\n",
      "289 : ['Aposentado', 0.9239096615657405]\n",
      "290 : ['Decisão', 0.9239054434225252]\n",
      "291 : ['Medida administrativa', 0.9238917329751096]\n",
      "292 : ['Licença sem remuneração', 0.9237913316152498]\n",
      "293 : ['Efeito ex tunc', 0.9237403457168853]\n",
      "294 : ['Cargo em comissão', 0.9236965884057176]\n",
      "295 : ['Ato discricionário', 0.9236914431189058]\n",
      "296 : ['Incidente de segurança da informação', 0.9236666285008434]\n",
      "297 : ['Tabela de temporalidade', 0.9236444864868449]\n",
      "298 : ['Exação', 0.9235967271296159]\n",
      "299 : ['Declaração de nulidade', 0.9235252132805586]\n",
      "CPU times: user 73.4 ms, sys: 517 µs, total: 73.9 ms\n",
      "Wall time: 343 ms\n"
     ]
    }
   ],
   "source": [
    "%%time\n",
    "doctos_retornados_ranker = pipe_sts_multihop.run(query=parm_query, \n",
    " params={\"Retriever\": {\"top_k\": 300}})\n",
    "util_pipeline.detail_document_found(doctos_retornados_ranker)"
   ]
  },
  {
   "attachments": {},
   "cell_type": "markdown",
   "metadata": {},
   "source": [
    "### sts"
   ]
  },
  {
   "cell_type": "code",
   "execution_count": null,
   "metadata": {},
   "outputs": [
    {
     "name": "stdout",
     "output_type": "stream",
     "text": [
      "CPU times: user 3.39 s, sys: 656 ms, total: 4.05 s\n",
      "Wall time: 2.1 s\n"
     ]
    }
   ],
   "source": [
    "%%time\n",
    "pipe_sts = util_pipeline.return_pipeline_sts(index)"
   ]
  },
  {
   "cell_type": "code",
   "execution_count": null,
   "metadata": {},
   "outputs": [],
   "source": [
    "pipes.append({'PIPE_NAME': 'pipe_sts',\n",
    "              'PIPE_OBJECT': pipe_sts,\n",
    "              'RETRIEVER_TYPE': 'sts',  # in ['sts', 'bm25']\n",
    "              'RETRIEVER_MODEL_NAME': util_pipeline.nome_modelo_embedding_model_sts, # or nome_modelo_embedding_model_sts_rufimelo,\n",
    "              'RANKER_MODEL_NAME': ''})"
   ]
  },
  {
   "cell_type": "code",
   "execution_count": null,
   "metadata": {},
   "outputs": [
    {
     "name": "stdout",
     "output_type": "stream",
     "text": [
      "Parâmetros usados: {'Retriever': {'top_k': 300}}\n",
      "Consulta: A transferência de documentos da entidade para local impróprio ao armazenamento, causando a perda de informações ou inviabilizando seu manuseio, de forma a impedir a atuação do TCU, é causa de responsabilização do gestor que a ordenou.\n",
      "Qtd documentos retornados: 300\n",
      "Primeiro docto:\n",
      "<Document: id=2577, content='O termo é \"Afastamento de responsável\".\n",
      "Afastamento de responsável tem definição: \"No início ou no c...'>\n",
      "\n",
      "Último (300):\n",
      "<Document: id=1103641, content='O termo é \"Falta grave\".\n",
      "Falta grave tem nota de escopo: \"Está prevista em várias normatizações que ...'>\n",
      "Seguem os nomes dos termos recuperados em ordem de score\n",
      "0 : ['Afastamento de responsável', '2577', 0.9546168861748239]\n",
      "1 : ['Risco de controle', '1101311', 0.943127201770828]\n",
      "2 : ['Vazamento de dados', '1110487', 0.942404112002669]\n",
      "3 : ['Trancamento das contas', '2663', 0.9341491636096659]\n",
      "4 : ['Revisão de ofício', '15291', 0.9297291992714615]\n",
      "5 : ['Responsabilidade perante o controle externo', '5098', 0.9294792178601551]\n",
      "6 : ['Erro de procedimento', '15939', 0.9280039678494807]\n",
      "7 : ['Ato vinculado', '6397', 0.9275481833601299]\n",
      "8 : ['Termo de sigilo', '1000057', 0.925026523026082]\n",
      "9 : ['Anulação', '83', 0.924645376239448]\n",
      "10 : ['Atos de pessoal', '1102044', 0.9229926926844242]\n",
      "CPU times: user 2.93 s, sys: 1.01 s, total: 3.93 s\n",
      "Wall time: 4.05 s\n"
     ]
    }
   ],
   "source": [
    "%%time\n",
    "doctos_retornados_ranker = pipe_sts.run(query=parm_query, \n",
    " params={\"Retriever\": {\"top_k\": 300}})\n",
    "util_pipeline.detail_document_found(doctos_retornados_ranker)"
   ]
  },
  {
   "attachments": {},
   "cell_type": "markdown",
   "metadata": {},
   "source": [
    "## With rankers"
   ]
  },
  {
   "cell_type": "code",
   "execution_count": null,
   "metadata": {},
   "outputs": [
    {
     "data": {
      "text/plain": [
       "<module 'util.util_pipeline_v2' from '/home/borela/fontes/ind-ir/code/util/util_pipeline_v2.py'>"
      ]
     },
     "execution_count": 42,
     "metadata": {},
     "output_type": "execute_result"
    }
   ],
   "source": [
    "importlib.reload(util_pipeline)"
   ]
  },
  {
   "attachments": {},
   "cell_type": "markdown",
   "metadata": {},
   "source": [
    "### First stage = BM25"
   ]
  },
  {
   "cell_type": "code",
   "execution_count": null,
   "metadata": {},
   "outputs": [
    {
     "name": "stdout",
     "output_type": "stream",
     "text": [
      "Loading MINILM_INDIR with limit_query_size=50\n",
      "CPU times: user 5.39 s, sys: 1.43 s, total: 6.82 s\n",
      "Wall time: 4.7 s\n"
     ]
    }
   ],
   "source": [
    "%%time\n",
    "for index_name in list_name_index:\n",
    "    pipe = {}\n",
    "    pipe['PIPE_OBJECT'] = util_pipeline.return_pipeline_bm25_reranker(reference_data_index[index_name], ranker_type, \n",
    "                                parm_limit_query_size=50)\n",
    "    pipe['RETRIEVER_TYPE'] = 'bm25'\n",
    "    pipe['RANKER_TYPE'] = ranker_type\n",
    "    pipe['RANKER_MODEL_NAME'] = ''\n",
    "    pipe['RETRIEVER_MODEL_NAME'] = ''\n",
    "    pipes[index_name].append(pipe)\n"
   ]
  },
  {
   "cell_type": "code",
   "execution_count": null,
   "metadata": {},
   "outputs": [
    {
     "name": "stdout",
     "output_type": "stream",
     "text": [
      "\n",
      "index_name indir_juris_tcu\n",
      "*** retriever:bm25 / ranker:MINILM_INDIR\n",
      "\n",
      "Index: indir_juris_tcu\n",
      "Parâmetros usados: {'Retriever': {'top_k': 100}}\n",
      "Consulta: despesa sem cobertura contratual\n",
      "Qtd documentos retornados: 100\n",
      "Seguem os nomes dos termos recuperados em ordem de score\n",
      "0 : [0.7853959798812866, '19451', 'A realização de despesas sem cobertura contratual é irregularidade grave, que justifica a aplicação de multa aos responsáveis, bem como julgamento pela irregularidade de suas contas']\n",
      "1 : [0.7202020883560181, '17825', 'Pagamentos sem cobertura contratual ou prévio empenho constituem afronta à legislação ordinária, ressalvando-se, no que diz respeito à Lei 8.666/1993, os contratos verbais destinados às compras de pronto pagamento, feitas em regime de adiantamento, em valores não superiores ao estabelecido na norma (parágrafo único do art. 60) .']\n",
      "2 : [0.6971409916877747, '18384', 'A realização de pagamentos em data anterior à celebração do contrato caracteriza despesa sem cobertura contratual.']\n",
      "3 : [0.6939610242843628, '18905', 'A execução de serviços sem cobertura contratual, mas autorizados pela Administração, gera o dever de indenizar.']\n",
      "4 : [0.6920106410980225, '32631', 'O regime contratual de administração contratada não encontra amparo legal.']\n",
      "5 : [0.6762628555297852, '18950', 'A realização de pagamentos previamente à assinatura dos respectivos instrumentos contratuais configura a realização de despesas sem cobertura contratual.']\n",
      "\n",
      "index_name indir_juris_tcu_term\n",
      "*** retriever:bm25 / ranker:MINILM_INDIR\n",
      "\n",
      "Index: indir_juris_tcu_term\n",
      "Parâmetros usados: {'Retriever': {'top_k': 100}}\n",
      "Consulta: despesa sem cobertura contratual\n",
      "Qtd documentos retornados: 100\n",
      "Seguem os nomes dos termos recuperados em ordem de score\n",
      "0 : [0.8080602288246155, '19451', 'A realização de despesas sem cobertura contratual é irregularidade grave, que justifica a aplicação de multa aos responsáveis, bem como julgamento pela irregularidade de suas contas\\nContas irregulares, Contrato administrativo, Contrato verbal, Responsabilidade, Multa.']\n",
      "1 : [0.7307995557785034, '18384', 'A realização de pagamentos em data anterior à celebração do contrato caracteriza despesa sem cobertura contratual.\\nAssinatura, Contrato administrativo, Formalização do contrato, Contrato verbal.']\n",
      "2 : [0.7133083939552307, '17825', 'Pagamentos sem cobertura contratual ou prévio empenho constituem afronta à legislação ordinária, ressalvando-se, no que diz respeito à Lei 8.666/1993, os contratos verbais destinados às compras de pronto pagamento, feitas em regime de adiantamento, em valores não superiores ao estabelecido na norma (parágrafo único do art. 60) .\\nIlegalidade, Exceção, Formalização do contrato, Contrato administrativo, Contrato verbal.']\n",
      "3 : [0.6801782250404358, '18905', 'A execução de serviços sem cobertura contratual, mas autorizados pela Administração, gera o dever de indenizar.\\nFormalização do contrato, Contrato administrativo, Contrato verbal, Indenização, Execução de contrato.']\n",
      "4 : [0.6770056486129761, '18950', 'A realização de pagamentos previamente à assinatura dos respectivos instrumentos contratuais configura a realização de despesas sem cobertura contratual.\\nContrato verbal, Contrato administrativo, Formalização do contrato.']\n",
      "5 : [0.660430371761322, '22174', 'Não havendo dano ao erário, a aquisição de bens e serviços sem cobertura contratual é considerada falha de natureza formal, resultando em ressalvas às contas dos responsáveis.\\nContas regulares com ressalva, Erro formal, Contrato verbal, Responsabilidade, Contrato administrativo.']\n",
      "\n",
      "index_name indir_juris_tcu_synonym\n",
      "*** retriever:bm25 / ranker:MINILM_INDIR\n",
      "\n",
      "Index: indir_juris_tcu_synonym\n",
      "Parâmetros usados: {'Retriever': {'top_k': 100}}\n",
      "Consulta: despesa sem cobertura contratual\n",
      "Qtd documentos retornados: 100\n",
      "Seguem os nomes dos termos recuperados em ordem de score\n",
      "0 : [0.7882546782493591, '19451', 'A realização de despesas sem cobertura contratual é irregularidade grave, que justifica a aplicação de multa aos responsáveis, bem como julgamento pela irregularidade de suas contas\\nContas irregulares - Rejeição das contas e Contas julgadas irregulares. Contrato administrativo - Contratos administrativos. Responsabilidade - Responsabilidades. Multa - Multas.']\n",
      "1 : [0.6987608075141907, '18384', 'A realização de pagamentos em data anterior à celebração do contrato caracteriza despesa sem cobertura contratual.\\nAssinatura - Subscrição. Contrato administrativo - Contratos administrativos.']\n",
      "2 : [0.6911421418190002, '17825', 'Pagamentos sem cobertura contratual ou prévio empenho constituem afronta à legislação ordinária, ressalvando-se, no que diz respeito à Lei 8.666/1993, os contratos verbais destinados às compras de pronto pagamento, feitas em regime de adiantamento, em valores não superiores ao estabelecido na norma (parágrafo único do art. 60) .\\nExceção - Excepcionalidade. Contrato administrativo - Contratos administrativos.']\n",
      "3 : [0.6902667284011841, '31618', 'As compras devem ser planejadas por exercício, mediante processo licitatório, evitando-se compras diretas com dispensa de licitação, a partir de fracionamento da despesa.\\nContratação direta - Compras diretas, Compra direta e Contratações diretas. Dispensa de licitação - Licitação dispensada, Licitação dispensável, Compra sem licitação, Compra por dispensa, Procedimento de dispensa de licitação, Procedimento para dispensa de licitação e Dispensa por valor. Licitação - Certame licitatório, Procedimento licitatório, Procedimentos licitatórios, Licitação pública, Licitações públicas e Licitações. Valor - Valores. Fracionamento da despesa - Fragmentação de despesa, Fracionamento de despesa e Fracionamento de licitação.']\n",
      "4 : [0.6896656155586243, '35654', 'Cada ato de prorrogação equivale a uma renovação contratual, motivo pelo qual a decisão pela prorrogação de contratação direta deve ser devidamente planejada e motivada, principalmente mediante a indicação da hipótese legal ensejadora da dispensa ou da inexigibilidade de licitação, válida no momento do ato de prorrogação contratual.\\nPrincípio da motivação - Motivação da sentença e Fundamento da sentença. Prorrogação de contrato - Prorrogação contratual. Requisito - Requisitos. Inexigibilidade de licitação - Inexigibilidade e Licitação inexigível. Contrato administrativo - Contratos administrativos. Dispensa de licitação - Licitação dispensada, Licitação dispensável, Compra sem licitação, Compra por dispensa, Procedimento de dispensa de licitação, Procedimento para dispensa de licitação e Dispensa por valor.']\n",
      "5 : [0.6850815415382385, '18905', 'A execução de serviços sem cobertura contratual, mas autorizados pela Administração, gera o dever de indenizar.\\nContrato administrativo - Contratos administrativos. Indenização - Vantagem indenizatória e Indenizações.']\n",
      "\n",
      "index_name indir_juris_tcu_related_term\n",
      "*** retriever:bm25 / ranker:MINILM_INDIR\n",
      "\n",
      "Index: indir_juris_tcu_related_term\n",
      "Parâmetros usados: {'Retriever': {'top_k': 100}}\n",
      "Consulta: despesa sem cobertura contratual\n",
      "Qtd documentos retornados: 100\n",
      "Seguem os nomes dos termos recuperados em ordem de score\n",
      "0 : [0.6719428300857544, '19451', 'A realização de despesas sem cobertura contratual é irregularidade grave, que justifica a aplicação de multa aos responsáveis, bem como julgamento pela irregularidade de suas contas\\nContas irregulares -- Juros de mora, Título executivo, Decisão definitiva, Julgamento de contas, Prestação de contas, Tomada de contas e Cadirreg. Contrato administrativo -- Pedido de reexame, Renovação de contrato, Objeto do contrato, Reajuste, Revisão contratual, Fato do príncipe, Contratante, Correção monetária, Rescisão contratual, Remanescente de contrato, Contratações públicas, Consórcio público, Cadastro de Empresas Inidôneas e Suspensas, Alocação de riscos, Cadastro Integrado de Condenações por Ilícitos Administrativos, Lei do Pregão Eletrônico, Reconhecimento de dívida, Lei de Licitações e Contratos, Relicitação, Contrato de gestão, Equilíbrio econômico-financeiro, Termo aditivo, Contratado, Terceirização, Subcontratação, Prestação de serviço, Facilities, Cláusula, Licitação e Contratação direta. Contrato verbal -- Suprimento de fundos. Responsabilidade -- Prejuízo, Dever de lealdade, Termo de responsabilidade, Perdas e danos, Caso fortuito, Omissão, Deveres, Responsável, Accountability pública e Imputação. Multa -- Sonegação de informação, Cláusula penal, Advertência (Licitação), Declaração de inidoneidade, Recurso administrativo, Suspensão temporária e Inadimplência.']\n",
      "1 : [0.6717435717582703, '20547', 'Todos os fatores de risco entendidos como pertinentes pela contratada devem estar previstos no BDI, em item único e próprio, e não no campo para custos diretos. O BDI é o elemento orçamentário destinado a cobrir as despesas classificadas como custo indireto, ou seja, as não diretamente relacionadas à execução do objeto contratado, como a cobertura de riscos eventuais ou imprevisíveis. Risco -- Gestão de risco, Medida de contingência, Fonte de risco, Tolerância a risco, Gerenciamento de riscos, Gerenciamento de riscos corporativos, Nível de risco, Plano de contingência, Risco de segurança da informação, Risco de tecnologia da informação e Exame sumário. Contratado -- Encargos sociais, Contrato administrativo, Contratante, Medidas de compensação, Gestão contratual e Contrato. BDI -- Custo indireto, Prestação de serviço, Bonificação e Obras e serviços de engenharia. Licitação -- Sobrepreço, Superfaturamento, Margem de preferência, Equipe de apoio, Princípio da padronização, Extrato de licitação, Contrato de concessão, Garantia da proposta, Orçamento sigiloso, Contrato administrativo, Contratações públicas, Aproveitamento de licitação, Lei de Licitações e Contratos, Pregão, Preço estimado, Parcela de maior relevância, Planilha de custos e formação de preços, Robô de lances, Cadastro de Empresas Inidôneas e Suspensas, Cadastro Integrado de Condenações por Ilícitos Administrativos, Pesquisa de preço, Lei do Pregão Eletrônico, Dispensa de licitação, Portal Nacional de Contratações Públicas, Inexigibilidade de licitação, Ajuste, Relicitação, Concessão de garantia, Diálogo competitivo, Contratação indireta, Modalidade de licitação, Tipo de licitação, Vistoria, Objeto da licitação e Contratação direta. Proposta -- Pregão, Licitação de melhor técnica, Licitação de maior lance ou oferta, Licitação de menor preço, Licitação de técnica e preço, Pregão eletrônico, Pregão presencial, Empate, Licitação fracassada, Diligência, Princípio do julgamento objetivo, Coelho']\n",
      "2 : [0.6609123945236206, '18951', 'Não há respaldo legal para que o pagamento de serviços contratados pela Administração Pública fique condicionado à comprovação da regularidade fiscal ou à quitação dos encargos trabalhistas, previdenciários e comerciais relacionados à execução da avença, uma vez que o contratado deve ser remunerado pelos serviços que efetivamente executou, sob pena de caracterizar enriquecimento sem causa da Administração. Encargos trabalhistas -- Encargos sociais, Execução trabalhista, Ponto facultativo, Gratificação natalina, Férias, Repouso semanal remunerado, Salário família, Vale-transporte, Feriado, Adicional, Verba rescisória e Indenização. Contratado -- Encargos sociais, Contrato administrativo, Contratante, Medidas de compensação, Gestão contratual e Contrato. Regularidade trabalhista -- Regularidade fiscal, Habilitação de licitante, Seguridade social e FGTS. Enriquecimento ilícito -- Operação Lava Jato, Corrupção, Improbidade administrativa, Lavagem de dinheiro, Peculato, Anticorrupção, Ação de repetição do indébito, Combate à corrupção e Princípio da vedação ao enriquecimento sem causa. Execução de contrato -- Execução física, Recebimento provisório, Recebimento definitivo, Fornecimento e prestação de serviço associado, Recebimento do objeto, Execução parcial, Regime de execução contratual, Execução de obras e serviços e Fiscal. Regularidade fiscal -- Dispensa de licitação, Inexigibilidade de licitação, Habilitação de licitante, FGTS, Seguridade social e Regularidade trabalhista. Pagamento -- Quitação, Suspensão de pagamento, Ordenador de despesas, Ordenação de despesa, Cobrança, Consignação em pagamento, Cronograma de desembolso, Cronograma físico-financeiro e Execução da despesa. Contrato administrativo -- Pedido de reexame, Renovação de contrato, Objeto do contrato, Reajuste, Revisão contratual, Fato do príncipe, Contratante, Correção monetária, Rescisão contratual, Remanescente de contrato, Contratações públicas, Consórcio público']\n",
      "3 : [0.6604936122894287, '18952', 'Devem ser evitadas antecipações de pagamento sem previsão licitatória ou contratual e desprovidas de garantias ou cautelas.\\nContrato administrativo -- Pedido de reexame, Renovação de contrato, Objeto do contrato, Reajuste, Revisão contratual, Fato do príncipe, Contratante, Correção monetária, Rescisão contratual, Remanescente de contrato, Contratações públicas, Consórcio público, Cadastro de Empresas Inidôneas e Suspensas, Alocação de riscos, Cadastro Integrado de Condenações por Ilícitos Administrativos, Lei do Pregão Eletrônico, Reconhecimento de dívida, Lei de Licitações e Contratos, Relicitação, Contrato de gestão, Equilíbrio econômico-financeiro, Termo aditivo, Contratado, Terceirização, Subcontratação, Prestação de serviço, Facilities, Cláusula, Licitação e Contratação direta. Pagamento antecipado -- Pagamento indevido. Garantia contratual -- Rescisão contratual, Alteração por acordo, Garantia adicional, Concessão de garantia, Seguro garantia e Garantia da proposta.']\n",
      "4 : [0.6545817852020264, '18042', 'O pagamento por serviços não contemplados no contrato originário, sem a elaboração do necessário aditamento contratual, caracteriza contratação verbal.\\nAditivo -- Termo aditivo e Alteração contratual. Contrato administrativo -- Pedido de reexame, Renovação de contrato, Objeto do contrato, Reajuste, Revisão contratual, Fato do príncipe, Contratante, Correção monetária, Rescisão contratual, Remanescente de contrato, Contratações públicas, Consórcio público, Cadastro de Empresas Inidôneas e Suspensas, Alocação de riscos, Cadastro Integrado de Condenações por Ilícitos Administrativos, Lei do Pregão Eletrônico, Reconhecimento de dívida, Lei de Licitações e Contratos, Relicitação, Contrato de gestão, Equilíbrio econômico-financeiro, Termo aditivo, Contratado, Terceirização, Subcontratação, Prestação de serviço, Facilities, Cláusula, Licitação e Contratação direta. Contrato verbal -- Suprimento de fundos.']\n",
      "5 : [0.6523497104644775, '17091', 'Para fins de alteração contratual, o conjunto de reduções e o conjunto de acréscimos devem ser sempre calculados sobre o valor original do contrato, aplicando-se a cada um desses conjuntos, individualmente e sem nenhum tipo de compensação entre eles, os limites de alteração estabelecidos na Lei 8.666/1993.\\nCálculo -- Média aritmética, Redutor, Recálculo e Base de cálculo. Acréscimo -- Termo aditivo. Aditivo -- Termo aditivo e Alteração contratual. Base de cálculo -- Cálculo. Contrato administrativo -- Pedido de reexame, Renovação de contrato, Objeto do contrato, Reajuste, Revisão contratual, Fato do príncipe, Contratante, Correção monetária, Rescisão contratual, Remanescente de contrato, Contratações públicas, Consórcio público, Cadastro de Empresas Inidôneas e Suspensas, Alocação de riscos, Cadastro Integrado de Condenações por Ilícitos Administrativos, Lei do Pregão Eletrônico, Reconhecimento de dívida, Lei de Licitações e Contratos, Relicitação, Contrato de gestão, Equilíbrio econômico-financeiro, Termo aditivo, Contratado, Terceirização, Subcontratação, Prestação de serviço, Facilities, Cláusula, Licitação e Contratação direta.']\n",
      "\n",
      "index_name indir_juris_tcu_synonym_related_term\n",
      "*** retriever:bm25 / ranker:MINILM_INDIR\n",
      "\n",
      "Index: indir_juris_tcu_synonym_related_term\n",
      "Parâmetros usados: {'Retriever': {'top_k': 100}}\n",
      "Consulta: despesa sem cobertura contratual\n",
      "Qtd documentos retornados: 100\n",
      "Seguem os nomes dos termos recuperados em ordem de score\n",
      "0 : [0.6701269745826721, '18952', 'Devem ser evitadas antecipações de pagamento sem previsão licitatória ou contratual e desprovidas de garantias ou cautelas.\\nContrato administrativo - Contratos administrativos. -- Pedido de reexame, Renovação de contrato, Objeto do contrato, Reajuste, Revisão contratual, Fato do príncipe, Contratante, Correção monetária, Rescisão contratual, Remanescente de contrato, Contratações públicas, Consórcio público, Cadastro de Empresas Inidôneas e Suspensas, Alocação de riscos, Cadastro Integrado de Condenações por Ilícitos Administrativos, Lei do Pregão Eletrônico, Reconhecimento de dívida, Lei de Licitações e Contratos, Relicitação, Contrato de gestão, Equilíbrio econômico-financeiro, Termo aditivo, Contratado, Terceirização, Subcontratação, Prestação de serviço, Facilities, Cláusula, Licitação e Contratação direta. Pagamento antecipado - Pagamento prévio e Liquidação antecipada. -- Pagamento indevido. Vedação - Proibição e Vedações. Garantia contratual - Garantia de execução contratual, Garantia contratual básica e Garantia legal. -- Rescisão contratual, Alteração por acordo, Garantia adicional, Concessão de garantia, Seguro garantia e Garantia da proposta.']\n",
      "1 : [0.669380784034729, '31072', 'São injustificáveis a realização de serviços e o fornecimento de bens sem cobertura contratual, bem como conferir a contratos administrativos efeitos financeiros retroativos, a não ser em casos excepcionais, tais como situações emergenciais ou quando se examina direitos a serem avaliados pela administração que demanda período de tempo significativo, como no caso de reequilíbrio econômico-financeiro de contrato.\\nContrato verbal -- Suprimento de fundos. Emergência - Estado de emergência. -- Contratação emergencial, Resgate, Estado de sítio, Estado de exceção, Auxílio emergencial, Hospital de campanha, Calamidade pública e Dispensa de licitação. Equilíbrio econômico-financeiro - Equação econômico-financeiro, Equação econômico financeira, Equilíbrio econômico financeiro, Equilíbrio financeiro, Equilíbrio econômico, Desequilíbrio econômico-financeiro, Ajuste econômico-financeiro e Desajuste econômico-financeiro. -- Contrato administrativo, Teoria da imprevisão, Revisão tarifária extraordinária, Alteração por acordo, Revisão tarifária periódica, Reposicionamento tarifário, Jogo de cronograma, Caso fortuito, Força maior, Fato do príncipe, Repactuação, Reajuste e Jogo de planilhas. Formalização do contrato -- Contrato. Contrato administrativo - Contratos administrativos. -- Pedido de reexame, Renovação de contrato, Objeto do contrato, Reajuste, Revisão contratual, Fato do príncipe, Contratante, Correção monetária, Rescisão contratual, Remanescente de contrato, Contratações públicas, Consórcio público, Cadastro de Empresas Inidôneas e Suspensas, Alocação de riscos, Cadastro Integrado de Condenações por Ilícitos Administrativos, Lei do Pregão Eletrônico, Reconhecimento de dívida, Lei de Licitações e Contratos, Relicitação, Contrato de gestão, Equilíbrio econômico-financeiro, Termo aditivo, Contratado, Terceirização, Subcontratação, Prestação de serviço, Facilities, Cláusula, Licitação e Contratação direta. Exceção - Excepcionalidade.']\n",
      "2 : [0.6667909622192383, '22948', 'Com a ausência de débito, afasta-se a responsabilidade da empresa contratada, não existindo pressuposto para a sua submissão à jurisdição do TCU.\\nResponsabilidade - Responsabilidades. -- Prejuízo, Dever de lealdade, Termo de responsabilidade, Perdas e danos, Caso fortuito, Omissão, Deveres, Responsável, Accountability pública e Imputação. Requisito - Requisitos. Contratado -- Encargos sociais, Contrato administrativo, Contratante, Medidas de compensação, Gestão contratual e Contrato. Débito - Débitos. -- Cessão de débito, Devedor, Financiamento, Dívida ativa, Crédito, Debênture, Cobrança, Corrupção passiva, Vencimento da dívida, Compromisso de dívida, Inscrição em dívida ativa, Credor privado, Credor público, Credor, Refinanciamento, Despesa sem prévio empenho, Saldo devedor, Empenho, Correção monetária, Dívida, Quitação, Banco, Ressarcimento, Recolhimento, Inadimplência e Empréstimo.']\n",
      "3 : [0.6657454967498779, '23569', 'São ilegais os atos de admissão relativos a contratações temporárias realizadas antes da publicação da homologação do resultado final do processo seletivo e com a entrada em exercício sem a assinatura dos respectivos contratos.\\nAdmissão de pessoal - Admissão, Ato de admissão de pessoal, Contratação de pessoal, Atos de admissão e Ato de admissão. -- Sisac, Negativa de registro, Provimento do cargo, Pedido de reexame, Registro tácito, Concurso público e Contratação temporária. Contratação temporária - Contratação de temporários e Admissão temporária. -- Função pública, Pessoal temporário, Cargo temporário, Admissão de pessoal e Empresa de trabalho temporário. Homologação -- Adjudicação. Assinatura - Subscrição. -- Endosso, Assinatura digital, Procuração e Termo de compromisso. Pessoal -- Sisac, Despesa com pessoal e HCAAF. Contrato -- Cláusula, Declaração de nulidade, EPC, Renovação de contrato, Contratado, Locação (Licitação), Contratante, Resilição, Comodato, Ato constitutivo, Cláusula penal, Factoring, Rescisão contratual, Formalização do contrato, Fiança bancária, Suspensão de pagamento, Obrigação, Prestação de serviço, Compra e venda, Cláusula compromissória, Nulidade do contrato, Foro de eleição, Evicção, Fiador, Princípio da autonomia privada, Avalista, Risco de renovação, Gestão contratual, Custo não renovável, Ajuste, Alteração contratual, Terceirização, Subcontratação, Caução, Termo aditivo, Vício, Contratação e Extrato de contrato. Publicação -- Publicação periódica, Publicação oficial, Agenda de compromissos públicos, Republicação e Publicação científica.']\n",
      "4 : [0.6640639305114746, '20547', 'Todos os fatores de risco entendidos como pertinentes pela contratada devem estar previstos no BDI, em item único e próprio, e não no campo para custos diretos. O BDI é o elemento orçamentário destinado a cobrir as despesas classificadas como custo indireto, ou seja, as não diretamente relacionadas à execução do objeto contratado, como a cobertura de riscos eventuais ou imprevisíveis. Risco -- Gestão de risco, Medida de contingência, Fonte de risco, Tolerância a risco, Gerenciamento de riscos, Gerenciamento de riscos corporativos, Nível de risco, Plano de contingência, Risco de segurança da informação, Risco de tecnologia da informação e Exame sumário. Contratado -- Encargos sociais, Contrato administrativo, Contratante, Medidas de compensação, Gestão contratual e Contrato. BDI - Benefícios e despesas indiretas, Bonificação de Despesas Indiretas, Taxa de bonificações indiretas, Bonificações e Despesas Indiretas (BDI), LDI, Lucros e Despesas Indiretas e Lucros e Despesas Indiretas (LDI). -- Custo indireto, Prestação de serviço, Bonificação e Obras e serviços de engenharia. Licitação - Certame licitatório, Procedimento licitatório, Procedimentos licitatórios, Licitação pública, Licitações públicas e Licitações. -- Sobrepreço, Superfaturamento, Margem de preferência, Equipe de apoio, Princípio da padronização, Extrato de licitação, Contrato de concessão, Garantia da proposta, Orçamento sigiloso, Contrato administrativo, Contratações públicas, Aproveitamento de licitação, Lei de Licitações e Contratos, Pregão, Preço estimado, Parcela de maior relevância, Planilha de custos e formação de preços, Robô de lances, Cadastro de Empresas Inidôneas e Suspensas, Cadastro Integrado de Condenações por Ilícitos Administrativos, Pesquisa de preço, Lei do Pregão Eletrônico, Dispensa de licitação, Portal Nacional de Contratações Públicas, Inexigibilidade de licitação, Ajuste, Relicitação, Concessão de garantia, Diálogo competitivo']\n",
      "5 : [0.6610417366027832, '75109', 'O risco de prejuízos para a Administração pode excepcionalmente justificar a convalidação de atos irregulares ocorridos na licitação, a exemplo de dispensa indevida de licitação, e a continuidade da execução do contrato, em razão da prevalência do interesse público. Anulação - Tornar sem efeito, Tornar nulo e Invalidação. -- Efeito ex tunc, Nulidade absoluta, Nulidade relativa, Erro essencial, Revogação, Nulidade e Efeito ex nunc. Dispensa de licitação - Licitação dispensada, Licitação dispensável, Compra sem licitação, Compra por dispensa, Procedimento de dispensa de licitação, Procedimento para dispensa de licitação e Dispensa por valor. -- Calamidade pública, Licitação deserta, Energia elétrica, Termo de contrato, Desenvolvimento institucional, Emergência, Contratação emergencial, Fracionamento da despesa, Locação de imóveis, Contratação direta, Cotação eletrônica, Remanescente de contrato, Inaplicabilidade de licitação, Inexigibilidade de licitação, Regularidade fiscal, Alienação de bens e Licitação. Prejuízo - Dano e Dano contratual. -- Reparação do dano, Perdas e danos, Crime, Crime contra o patrimônio, Indenização, Responsabilidade e Coação. Contrato administrativo - Contratos administrativos. -- Pedido de reexame, Renovação de contrato, Objeto do contrato, Reajuste, Revisão contratual, Fato do príncipe, Contratante, Correção monetária, Rescisão contratual, Remanescente de contrato, Contratações públicas, Consórcio público, Cadastro de Empresas Inidôneas e Suspensas, Alocação de riscos, Cadastro Integrado de Condenações por Ilícitos Administrativos, Lei do Pregão Eletrônico, Reconhecimento de dívida, Lei de Licitações e Contratos, Relicitação, Contrato de gestão, Equilíbrio econômico-financeiro, Termo aditivo, Contratado, Terceirização, Subcontratação, Prestação de serviço, Facilities, Cláusula, Licitação e Contratação direta. Interesse público -- Contribuição parafiscal, Matéria de ordem pública']\n",
      "CPU times: user 1.03 s, sys: 18.1 ms, total: 1.05 s\n",
      "Wall time: 991 ms\n"
     ]
    }
   ],
   "source": [
    "\n",
    "%%time\n",
    "for index_name in pipes:\n",
    "    print(f\"\\nindex_name {index_name}\")\n",
    "    for pipe in pipes[index_name]:\n",
    "        print(f\"*** retriever:{pipe['RETRIEVER_TYPE']} / ranker:{pipe['RANKER_TYPE']}\")\n",
    "        doctos_retornados_ranker =  pipe['PIPE_OBJECT'].run(query=parm_query, \n",
    "        params={\"Retriever\": {\"top_k\": 100}})\n",
    "        print(f'\\nIndex: {index_name}')\n",
    "        util_pipeline.detail_document_found(doctos_retornados_ranker,5)\n",
    "        torch.cuda.empty_cache()"
   ]
  },
  {
   "attachments": {},
   "cell_type": "markdown",
   "metadata": {},
   "source": [
    "### First stage = Sentence Similarity"
   ]
  },
  {
   "cell_type": "code",
   "execution_count": 44,
   "metadata": {},
   "outputs": [
    {
     "name": "stdout",
     "output_type": "stream",
     "text": [
      "Loading MINILM_INDIR with limit_query_size=50\n",
      "CPU times: user 26.9 s, sys: 3.68 s, total: 30.6 s\n",
      "Wall time: 14.1 s\n"
     ]
    }
   ],
   "source": [
    "%%time\n",
    "for index_name in list_name_index:\n",
    "    pipe = {}\n",
    "    pipe['PIPE_OBJECT'] = util_pipeline.return_pipeline_sts_reranker(reference_data_index[index_name], ranker_type, \n",
    "                                parm_limit_query_size=50)\n",
    "    pipe['RETRIEVER_TYPE'] = 'sts'\n",
    "    pipe['RANKER_TYPE'] = ranker_type\n",
    "    pipe['RANKER_MODEL_NAME'] = ''\n",
    "    pipe['RETRIEVER_MODEL_NAME'] = ''\n",
    "    pipes[index_name].append(pipe)\n"
   ]
  },
  {
   "cell_type": "code",
   "execution_count": 45,
   "metadata": {},
   "outputs": [
    {
     "name": "stdout",
     "output_type": "stream",
     "text": [
      "\n",
      "index_name indir_juris_tcu\n",
      "*** retriever:sts / ranker:MINILM_INDIR\n",
      "\n",
      "Index: indir_juris_tcu\n",
      "Parâmetros usados: {'Retriever': {'top_k': 100}}\n",
      "Consulta: despesa sem cobertura contratual\n",
      "Qtd documentos retornados: 100\n",
      "Seguem os nomes dos termos recuperados em ordem de score\n",
      "0 : [0.7853272557258606, '19451', 'A realização de despesas sem cobertura contratual é irregularidade grave, que justifica a aplicação de multa aos responsáveis, bem como julgamento pela irregularidade de suas contas']\n",
      "1 : [0.6972715258598328, '18384', 'A realização de pagamentos em data anterior à celebração do contrato caracteriza despesa sem cobertura contratual.']\n",
      "2 : [0.6939517259597778, '18905', 'A execução de serviços sem cobertura contratual, mas autorizados pela Administração, gera o dever de indenizar.']\n",
      "3 : [0.6762726902961731, '18950', 'A realização de pagamentos previamente à assinatura dos respectivos instrumentos contratuais configura a realização de despesas sem cobertura contratual.']\n",
      "4 : [0.6732677221298218, '22174', 'Não havendo dano ao erário, a aquisição de bens e serviços sem cobertura contratual é considerada falha de natureza formal, resultando em ressalvas às contas dos responsáveis.']\n",
      "5 : [0.6621299982070923, '17993', 'O pagamento pela realização de serviços novos, não contidos no projeto originalmente licitado, utilizando-se para faturamento serviços constantes na planilha de preços original, sem a respectiva execução, é despesa sem cobertura contratual, a justificar aplicação de multa aos responsáveis envolvidos.']\n",
      "\n",
      "index_name indir_juris_tcu_term\n",
      "*** retriever:sts / ranker:MINILM_INDIR\n",
      "\n",
      "Index: indir_juris_tcu_term\n",
      "Parâmetros usados: {'Retriever': {'top_k': 100}}\n",
      "Consulta: despesa sem cobertura contratual\n",
      "Qtd documentos retornados: 100\n",
      "Seguem os nomes dos termos recuperados em ordem de score\n",
      "0 : [0.808113694190979, '19451', 'A realização de despesas sem cobertura contratual é irregularidade grave, que justifica a aplicação de multa aos responsáveis, bem como julgamento pela irregularidade de suas contas\\nContas irregulares, Contrato administrativo, Contrato verbal, Responsabilidade, Multa.']\n",
      "1 : [0.7307783961296082, '18384', 'A realização de pagamentos em data anterior à celebração do contrato caracteriza despesa sem cobertura contratual.\\nAssinatura, Contrato administrativo, Formalização do contrato, Contrato verbal.']\n",
      "2 : [0.6770735383033752, '18950', 'A realização de pagamentos previamente à assinatura dos respectivos instrumentos contratuais configura a realização de despesas sem cobertura contratual.\\nContrato verbal, Contrato administrativo, Formalização do contrato.']\n",
      "3 : [0.6590002179145813, '17993', 'O pagamento pela realização de serviços novos, não contidos no projeto originalmente licitado, utilizando-se para faturamento serviços constantes na planilha de preços original, sem a respectiva execução, é despesa sem cobertura contratual, a justificar aplicação de multa aos responsáveis envolvidos.\\nMulta, Responsabilidade, Contrato verbal, Serviço novo, Contrato administrativo.']\n",
      "4 : [0.6517744064331055, '18089', 'Nos casos de reconhecimento de dívida por serviços realizados sem cobertura contratual válida deve ser verificado se o valor a ser pago está em conformidade com os praticados pelo mercado, se foi apresentado documento fiscal da contratada interessada, assim como providenciado o atesto à despesa por servidor que tenha condições de reconhecer que os serviços foram efetivamente prestados.\\nReconhecimento, Contrato administrativo, Liquidação da despesa, Atestação, Pagamento, Contrato verbal, Dívida, Preço de mercado.']\n",
      "5 : [0.6409463882446289, '15096', 'É irregular a realização de despesas antes de o convênio entrar em vigor.\\nResponsabilidade, Execução financeira, Vigência, Despesa, Convênio.']\n",
      "\n",
      "index_name indir_juris_tcu_synonym\n",
      "*** retriever:sts / ranker:MINILM_INDIR\n",
      "\n",
      "Index: indir_juris_tcu_synonym\n",
      "Parâmetros usados: {'Retriever': {'top_k': 100}}\n",
      "Consulta: despesa sem cobertura contratual\n",
      "Qtd documentos retornados: 100\n",
      "Seguem os nomes dos termos recuperados em ordem de score\n",
      "0 : [0.7883528470993042, '19451', 'A realização de despesas sem cobertura contratual é irregularidade grave, que justifica a aplicação de multa aos responsáveis, bem como julgamento pela irregularidade de suas contas\\nContas irregulares - Rejeição das contas e Contas julgadas irregulares. Contrato administrativo - Contratos administrativos. Responsabilidade - Responsabilidades. Multa - Multas.']\n",
      "1 : [0.6986792087554932, '18384', 'A realização de pagamentos em data anterior à celebração do contrato caracteriza despesa sem cobertura contratual.\\nAssinatura - Subscrição. Contrato administrativo - Contratos administrativos.']\n",
      "2 : [0.6929539442062378, '44889', 'A impugnação da totalidade das despesas realizadas com os recursos repassados pelo concedente afasta a obrigatoriedade de restituição da parcela referente à contrapartida do convenente, sob pena de enriquecimento sem causa da União.\\nResponsabilidade - Responsabilidades. Convênio - Convênios e congêneres, Convênio de colaboração, Convênio de cooperação, Convênio da Administração Pública, Convênio administrativo e Convênio público. Débito - Débitos. Ausência - Falta. Contrapartida - Contrapartida financeira.']\n",
      "3 : [0.6921679973602295, '49862', 'O saque em espécie da totalidade dos recursos da conta específica do convênio enseja débito, face à inexistência do correspondente e necessário nexo causal entre o desembolso e a despesa efetuada.\\nConta corrente específica - Conta específica, Conta de convênio, Conta do convênio, Conta específica do convênio, Conta específica de convênio e Conta corrente de convênio. Débito - Débitos. Convênio - Convênios e congêneres, Convênio de colaboração, Convênio de cooperação, Convênio da Administração Pública, Convênio administrativo e Convênio público. Nexo de causalidade - Relação de causalidade, Relação causal e Nexo causal.']\n",
      "4 : [0.6893569827079773, '58132', 'A impugnação da totalidade das despesas realizadas com os recursos repassados pelo concedente afasta a obrigatoriedade de restituição da parcela referente à contrapartida do convenente, sob pena de enriquecimento sem causa da União.\\nResponsabilidade - Responsabilidades. Convênio - Convênios e congêneres, Convênio de colaboração, Convênio de cooperação, Convênio da Administração Pública, Convênio administrativo e Convênio público. Débito - Débitos. Contrapartida - Contrapartida financeira.']\n",
      "5 : [0.6887829303741455, '68267', 'Quando configurada ausência de aplicação de contrapartida prevista em instrumento de convênio, cabe ao ente federado convenente o ressarcimento, vez que incorporou a seu patrimônio a vantagem financeira correspondente à parcela da contrapartida que deixou de ser aplicada.\\nDébito - Débitos. Ente da Federação - Entes federados, Ente federativo, Unidade da Federação, UF, Ente federado, Entidade federada e Entidade federativa. Convênio - Convênios e congêneres, Convênio de colaboração, Convênio de cooperação, Convênio da Administração Pública, Convênio administrativo e Convênio público. Responsabilidade - Responsabilidades. Contrapartida - Contrapartida financeira.']\n",
      "\n",
      "index_name indir_juris_tcu_related_term\n",
      "*** retriever:sts / ranker:MINILM_INDIR\n",
      "\n",
      "Index: indir_juris_tcu_related_term\n",
      "Parâmetros usados: {'Retriever': {'top_k': 100}}\n",
      "Consulta: despesa sem cobertura contratual\n",
      "Qtd documentos retornados: 100\n",
      "Seguem os nomes dos termos recuperados em ordem de score\n",
      "0 : [0.6719428300857544, '19451', 'A realização de despesas sem cobertura contratual é irregularidade grave, que justifica a aplicação de multa aos responsáveis, bem como julgamento pela irregularidade de suas contas\\nContas irregulares -- Juros de mora, Título executivo, Decisão definitiva, Julgamento de contas, Prestação de contas, Tomada de contas e Cadirreg. Contrato administrativo -- Pedido de reexame, Renovação de contrato, Objeto do contrato, Reajuste, Revisão contratual, Fato do príncipe, Contratante, Correção monetária, Rescisão contratual, Remanescente de contrato, Contratações públicas, Consórcio público, Cadastro de Empresas Inidôneas e Suspensas, Alocação de riscos, Cadastro Integrado de Condenações por Ilícitos Administrativos, Lei do Pregão Eletrônico, Reconhecimento de dívida, Lei de Licitações e Contratos, Relicitação, Contrato de gestão, Equilíbrio econômico-financeiro, Termo aditivo, Contratado, Terceirização, Subcontratação, Prestação de serviço, Facilities, Cláusula, Licitação e Contratação direta. Contrato verbal -- Suprimento de fundos. Responsabilidade -- Prejuízo, Dever de lealdade, Termo de responsabilidade, Perdas e danos, Caso fortuito, Omissão, Deveres, Responsável, Accountability pública e Imputação. Multa -- Sonegação de informação, Cláusula penal, Advertência (Licitação), Declaração de inidoneidade, Recurso administrativo, Suspensão temporária e Inadimplência.']\n",
      "1 : [0.6609123945236206, '18951', 'Não há respaldo legal para que o pagamento de serviços contratados pela Administração Pública fique condicionado à comprovação da regularidade fiscal ou à quitação dos encargos trabalhistas, previdenciários e comerciais relacionados à execução da avença, uma vez que o contratado deve ser remunerado pelos serviços que efetivamente executou, sob pena de caracterizar enriquecimento sem causa da Administração. Encargos trabalhistas -- Encargos sociais, Execução trabalhista, Ponto facultativo, Gratificação natalina, Férias, Repouso semanal remunerado, Salário família, Vale-transporte, Feriado, Adicional, Verba rescisória e Indenização. Contratado -- Encargos sociais, Contrato administrativo, Contratante, Medidas de compensação, Gestão contratual e Contrato. Regularidade trabalhista -- Regularidade fiscal, Habilitação de licitante, Seguridade social e FGTS. Enriquecimento ilícito -- Operação Lava Jato, Corrupção, Improbidade administrativa, Lavagem de dinheiro, Peculato, Anticorrupção, Ação de repetição do indébito, Combate à corrupção e Princípio da vedação ao enriquecimento sem causa. Execução de contrato -- Execução física, Recebimento provisório, Recebimento definitivo, Fornecimento e prestação de serviço associado, Recebimento do objeto, Execução parcial, Regime de execução contratual, Execução de obras e serviços e Fiscal. Regularidade fiscal -- Dispensa de licitação, Inexigibilidade de licitação, Habilitação de licitante, FGTS, Seguridade social e Regularidade trabalhista. Pagamento -- Quitação, Suspensão de pagamento, Ordenador de despesas, Ordenação de despesa, Cobrança, Consignação em pagamento, Cronograma de desembolso, Cronograma físico-financeiro e Execução da despesa. Contrato administrativo -- Pedido de reexame, Renovação de contrato, Objeto do contrato, Reajuste, Revisão contratual, Fato do príncipe, Contratante, Correção monetária, Rescisão contratual, Remanescente de contrato, Contratações públicas, Consórcio público']\n",
      "2 : [0.6604936122894287, '18952', 'Devem ser evitadas antecipações de pagamento sem previsão licitatória ou contratual e desprovidas de garantias ou cautelas.\\nContrato administrativo -- Pedido de reexame, Renovação de contrato, Objeto do contrato, Reajuste, Revisão contratual, Fato do príncipe, Contratante, Correção monetária, Rescisão contratual, Remanescente de contrato, Contratações públicas, Consórcio público, Cadastro de Empresas Inidôneas e Suspensas, Alocação de riscos, Cadastro Integrado de Condenações por Ilícitos Administrativos, Lei do Pregão Eletrônico, Reconhecimento de dívida, Lei de Licitações e Contratos, Relicitação, Contrato de gestão, Equilíbrio econômico-financeiro, Termo aditivo, Contratado, Terceirização, Subcontratação, Prestação de serviço, Facilities, Cláusula, Licitação e Contratação direta. Pagamento antecipado -- Pagamento indevido. Garantia contratual -- Rescisão contratual, Alteração por acordo, Garantia adicional, Concessão de garantia, Seguro garantia e Garantia da proposta.']\n",
      "3 : [0.6596090197563171, '34965', 'Nas hipóteses de inexistência de débito (dano quantificado) , não é possível aplicar multa, com base no disposto no art. 58, inciso I, da Lei 8.443/1992, à entidade privada contratada.\\nDébito -- Cessão de débito, Devedor, Financiamento, Dívida ativa, Crédito, Debênture, Cobrança, Corrupção passiva, Vencimento da dívida, Compromisso de dívida, Inscrição em dívida ativa, Credor privado, Credor público, Credor, Refinanciamento, Despesa sem prévio empenho, Saldo devedor, Empenho, Correção monetária, Dívida, Quitação, Banco, Ressarcimento, Recolhimento, Inadimplência e Empréstimo. Pessoa jurídica -- Pessoa física, Contrato social, Ato constitutivo, Autarquia, Sociedade de economia mista, CNPJ, Personalidade jurídica e IRPJ. Contratado -- Encargos sociais, Contrato administrativo, Contratante, Medidas de compensação, Gestão contratual e Contrato. Responsabilidade -- Prejuízo, Dever de lealdade, Termo de responsabilidade, Perdas e danos, Caso fortuito, Omissão, Deveres, Responsável, Accountability pública e Imputação. Multa -- Sonegação de informação, Cláusula penal, Advertência (Licitação), Declaração de inidoneidade, Recurso administrativo, Suspensão temporária e Inadimplência.']\n",
      "4 : [0.649125874042511, '71714', 'Eventual dificuldade em realizar procedimentos licitatórios, bem como a existência de certames fracassados ou desertos, não autorizam a realização de despesas mediante suprimento de fundos.\\nFinanças públicas -- Conta única, Administração tributária, Sistema de custos, Política financeira, Arrecadação da receita, Responsabilidade fiscal, Gestão fiscal, Novo regime fiscal, Índice de governança municipal, Gestão tributária, Reforma tributária, Sustentabilidade fiscal, Finanças públicas, Tributo, Receita pública, Despesa pública, Orçamento público, Bens públicos, Crime contra as finanças públicas e Finanças públicas. Licitação fracassada -- Proposta. Licitação deserta -- Dispensa de licitação. Suprimento de fundos -- Despesa pública, Contrato verbal, Ordenação de despesa e Ordenador de despesas.']\n",
      "5 : [0.647149920463562, '22948', 'Com a ausência de débito, afasta-se a responsabilidade da empresa contratada, não existindo pressuposto para a sua submissão à jurisdição do TCU.\\nResponsabilidade -- Prejuízo, Dever de lealdade, Termo de responsabilidade, Perdas e danos, Caso fortuito, Omissão, Deveres, Responsável, Accountability pública e Imputação. Contratado -- Encargos sociais, Contrato administrativo, Contratante, Medidas de compensação, Gestão contratual e Contrato. Débito -- Cessão de débito, Devedor, Financiamento, Dívida ativa, Crédito, Debênture, Cobrança, Corrupção passiva, Vencimento da dívida, Compromisso de dívida, Inscrição em dívida ativa, Credor privado, Credor público, Credor, Refinanciamento, Despesa sem prévio empenho, Saldo devedor, Empenho, Correção monetária, Dívida, Quitação, Banco, Ressarcimento, Recolhimento, Inadimplência e Empréstimo.']\n",
      "\n",
      "index_name indir_juris_tcu_synonym_related_term\n",
      "*** retriever:sts / ranker:MINILM_INDIR\n",
      "\n",
      "Index: indir_juris_tcu_synonym_related_term\n",
      "Parâmetros usados: {'Retriever': {'top_k': 100}}\n",
      "Consulta: despesa sem cobertura contratual\n",
      "Qtd documentos retornados: 100\n",
      "Seguem os nomes dos termos recuperados em ordem de score\n",
      "0 : [0.6749240159988403, '34965', 'Nas hipóteses de inexistência de débito (dano quantificado) , não é possível aplicar multa, com base no disposto no art. 58, inciso I, da Lei 8.443/1992, à entidade privada contratada.\\nDébito - Débitos. -- Cessão de débito, Devedor, Financiamento, Dívida ativa, Crédito, Debênture, Cobrança, Corrupção passiva, Vencimento da dívida, Compromisso de dívida, Inscrição em dívida ativa, Credor privado, Credor público, Credor, Refinanciamento, Despesa sem prévio empenho, Saldo devedor, Empenho, Correção monetária, Dívida, Quitação, Banco, Ressarcimento, Recolhimento, Inadimplência e Empréstimo. Pessoa jurídica -- Pessoa física, Contrato social, Ato constitutivo, Autarquia, Sociedade de economia mista, CNPJ, Personalidade jurídica e IRPJ. Contratado -- Encargos sociais, Contrato administrativo, Contratante, Medidas de compensação, Gestão contratual e Contrato. Responsabilidade - Responsabilidades. -- Prejuízo, Dever de lealdade, Termo de responsabilidade, Perdas e danos, Caso fortuito, Omissão, Deveres, Responsável, Accountability pública e Imputação. Multa - Multas. -- Sonegação de informação, Cláusula penal, Advertência (Licitação), Declaração de inidoneidade, Recurso administrativo, Suspensão temporária e Inadimplência.']\n",
      "1 : [0.6701269745826721, '18952', 'Devem ser evitadas antecipações de pagamento sem previsão licitatória ou contratual e desprovidas de garantias ou cautelas.\\nContrato administrativo - Contratos administrativos. -- Pedido de reexame, Renovação de contrato, Objeto do contrato, Reajuste, Revisão contratual, Fato do príncipe, Contratante, Correção monetária, Rescisão contratual, Remanescente de contrato, Contratações públicas, Consórcio público, Cadastro de Empresas Inidôneas e Suspensas, Alocação de riscos, Cadastro Integrado de Condenações por Ilícitos Administrativos, Lei do Pregão Eletrônico, Reconhecimento de dívida, Lei de Licitações e Contratos, Relicitação, Contrato de gestão, Equilíbrio econômico-financeiro, Termo aditivo, Contratado, Terceirização, Subcontratação, Prestação de serviço, Facilities, Cláusula, Licitação e Contratação direta. Pagamento antecipado - Pagamento prévio e Liquidação antecipada. -- Pagamento indevido. Vedação - Proibição e Vedações. Garantia contratual - Garantia de execução contratual, Garantia contratual básica e Garantia legal. -- Rescisão contratual, Alteração por acordo, Garantia adicional, Concessão de garantia, Seguro garantia e Garantia da proposta.']\n",
      "2 : [0.6667909622192383, '22948', 'Com a ausência de débito, afasta-se a responsabilidade da empresa contratada, não existindo pressuposto para a sua submissão à jurisdição do TCU.\\nResponsabilidade - Responsabilidades. -- Prejuízo, Dever de lealdade, Termo de responsabilidade, Perdas e danos, Caso fortuito, Omissão, Deveres, Responsável, Accountability pública e Imputação. Requisito - Requisitos. Contratado -- Encargos sociais, Contrato administrativo, Contratante, Medidas de compensação, Gestão contratual e Contrato. Débito - Débitos. -- Cessão de débito, Devedor, Financiamento, Dívida ativa, Crédito, Debênture, Cobrança, Corrupção passiva, Vencimento da dívida, Compromisso de dívida, Inscrição em dívida ativa, Credor privado, Credor público, Credor, Refinanciamento, Despesa sem prévio empenho, Saldo devedor, Empenho, Correção monetária, Dívida, Quitação, Banco, Ressarcimento, Recolhimento, Inadimplência e Empréstimo.']\n",
      "3 : [0.6616172194480896, '13634', 'A apólice que assegura o contrato contra inadimplementos na execução dos serviços não é hábil a proteger o erário no caso de dano decorrente do pagamento de preços superfaturados e, por isso, não pode ser utilizada como alternativa à retenção de valores. \\nValor - Valores. Garantia contratual - Garantia de execução contratual, Garantia contratual básica e Garantia legal. -- Rescisão contratual, Alteração por acordo, Garantia adicional, Concessão de garantia, Seguro garantia e Garantia da proposta. Superfaturamento - Preço superfaturado, Superfaturamento  por reajustamento irregular de preço, Superfaturamento de quantidade, Superfaturamento por alteração de cláusulas financeiras, Superfaturamento por distorção do cronograma físico-financeiro, Superfaturamento por execução de serviços com qualidade deficiente, Superfaturamento por jogo de planilha, Superfaturamento por pagamentos antecipados e Superfaturamento por preço excessivo. -- Sobrepreço, Faturamento, Licitação e Preço. Contrato administrativo - Contratos administrativos. -- Pedido de reexame, Renovação de contrato, Objeto do contrato, Reajuste, Revisão contratual, Fato do príncipe, Contratante, Correção monetária, Rescisão contratual, Remanescente de contrato, Contratações públicas, Consórcio público, Cadastro de Empresas Inidôneas e Suspensas, Alocação de riscos, Cadastro Integrado de Condenações por Ilícitos Administrativos, Lei do Pregão Eletrônico, Reconhecimento de dívida, Lei de Licitações e Contratos, Relicitação, Contrato de gestão, Equilíbrio econômico-financeiro, Termo aditivo, Contratado, Terceirização, Subcontratação, Prestação de serviço, Facilities, Cláusula, Licitação e Contratação direta.']\n",
      "4 : [0.6597926616668701, '6301', 'É legal a cobrança de débito pela ausência de aplicação dos recursos do convênio no mercado financeiro, sem que se caracterize bis in idem, quando o período em que se deixou de auferir renda com a aplicação financeira for anterior à data de ocorrência do débito principal.\\nResponsabilidade - Responsabilidades. -- Prejuízo, Dever de lealdade, Termo de responsabilidade, Perdas e danos, Caso fortuito, Omissão, Deveres, Responsável, Accountability pública e Imputação. Execução financeira -- Liquidação da despesa, Fiscalização patrimonial, Execução orçamentária, Conformidade de registro de gestão e Responsabilidade fiscal. Aplicação financeira - Aplicação de recursos. -- Fundo de investimento, Independência financeira e Rendimento financeiro. Ausência - Falta. -- Lacuna da lei. Débito - Débitos. -- Cessão de débito, Devedor, Financiamento, Dívida ativa, Crédito, Debênture, Cobrança, Corrupção passiva, Vencimento da dívida, Compromisso de dívida, Inscrição em dívida ativa, Credor privado, Credor público, Credor, Refinanciamento, Despesa sem prévio empenho, Saldo devedor, Empenho, Correção monetária, Dívida, Quitação, Banco, Ressarcimento, Recolhimento, Inadimplência e Empréstimo. Convênio - Convênios e congêneres, Convênio de colaboração, Convênio de cooperação, Convênio da Administração Pública, Convênio administrativo e Convênio público. -- Contrapartida, Objeto do convênio, Fiscalização in loco, Qualificação técnica, Capacidade operacional, Mandatário, Plano de trabalho, Chamamento público, Concedente, Convenente, Transferências voluntárias, Glosa, Desvio de objeto, Desvio de finalidade, Acordo de cooperação, Favorecido, Proponente, Conta corrente específica, Subconvênio, Acordo, Ajuste, Pregão, CEPIM, Siconv, Lei de Convênios, Prestação de contas e Consórcio público.']\n",
      "5 : [0.6495738625526428, '71714', 'Eventual dificuldade em realizar procedimentos licitatórios, bem como a existência de certames fracassados ou desertos, não autorizam a realização de despesas mediante suprimento de fundos.\\nRequisito - Requisitos. Finanças públicas -- Conta única, Administração tributária, Sistema de custos, Política financeira, Arrecadação da receita, Responsabilidade fiscal, Gestão fiscal, Novo regime fiscal, Índice de governança municipal, Gestão tributária, Reforma tributária, Sustentabilidade fiscal, Finanças públicas, Tributo, Receita pública, Despesa pública, Orçamento público, Bens públicos, Crime contra as finanças públicas e Finanças públicas. Licitação fracassada -- Proposta. Licitação deserta -- Dispensa de licitação. Suprimento de fundos - Regime de adiantamento. -- Despesa pública, Contrato verbal, Ordenação de despesa e Ordenador de despesas.']\n",
      "CPU times: user 3.46 s, sys: 200 ms, total: 3.66 s\n",
      "Wall time: 8.73 s\n"
     ]
    }
   ],
   "source": [
    "\n",
    "%%time\n",
    "for index_name in pipes:\n",
    "    print(f\"\\nindex_name {index_name}\")\n",
    "    for pipe in pipes[index_name]:\n",
    "        print(f\"*** retriever:{pipe['RETRIEVER_TYPE']} / ranker:{pipe['RANKER_TYPE']}\")\n",
    "        doctos_retornados_ranker =  pipe['PIPE_OBJECT'].run(query=parm_query, \n",
    "        params={\"Retriever\": {\"top_k\": 100}})\n",
    "        print(f'\\nIndex: {index_name}')\n",
    "        util_pipeline.detail_document_found(doctos_retornados_ranker,5)\n",
    "        torch.cuda.empty_cache()"
   ]
  },
  {
   "attachments": {},
   "cell_type": "markdown",
   "metadata": {},
   "source": [
    "## Impressão de pipe"
   ]
  },
  {
   "cell_type": "code",
   "execution_count": null,
   "metadata": {},
   "outputs": [
    {
     "name": "stdout",
     "output_type": "stream",
     "text": [
      "huggingface/tokenizers: The current process just got forked, after parallelism has already been used. Disabling parallelism to avoid deadlocks...\n",
      "To disable this warning, you can either:\n",
      "\t- Avoid using `tokenizers` before the fork if possible\n",
      "\t- Explicitly set the environment variable TOKENIZERS_PARALLELISM=(true | false)\n",
      "huggingface/tokenizers: The current process just got forked, after parallelism has already been used. Disabling parallelism to avoid deadlocks...\n",
      "To disable this warning, you can either:\n",
      "\t- Avoid using `tokenizers` before the fork if possible\n",
      "\t- Explicitly set the environment variable TOKENIZERS_PARALLELISM=(true | false)\n"
     ]
    },
    {
     "data": {
      "image/png": "[encoded data removed]",
      "text/plain": [
       "<Figure size 432x288 with 1 Axes>"
      ]
     },
     "metadata": {
      "needs_background": "light"
     },
     "output_type": "display_data"
    }
   ],
   "source": [
    "util_pipeline.imprime_pipe(pipe_join_sts_multihop_bm25)"
   ]
  },
  {
   "attachments": {},
   "cell_type": "markdown",
   "metadata": {},
   "source": [
    "# Experiments"
   ]
  },
  {
   "cell_type": "code",
   "execution_count": 46,
   "metadata": {},
   "outputs": [
    {
     "data": {
      "text/plain": [
       "{'indir_juris_tcu': [{'PIPE_OBJECT': <haystack.pipelines.base.Pipeline at 0x7f775230dd90>,\n",
       "   'RETRIEVER_TYPE': 'sts',\n",
       "   'RANKER_TYPE': 'MINILM_INDIR',\n",
       "   'RANKER_MODEL_NAME': '',\n",
       "   'RETRIEVER_MODEL_NAME': ''}],\n",
       " 'indir_juris_tcu_term': [{'PIPE_OBJECT': <haystack.pipelines.base.Pipeline at 0x7f775244e850>,\n",
       "   'RETRIEVER_TYPE': 'sts',\n",
       "   'RANKER_TYPE': 'MINILM_INDIR',\n",
       "   'RANKER_MODEL_NAME': '',\n",
       "   'RETRIEVER_MODEL_NAME': ''}],\n",
       " 'indir_juris_tcu_synonym': [{'PIPE_OBJECT': <haystack.pipelines.base.Pipeline at 0x7f775b582710>,\n",
       "   'RETRIEVER_TYPE': 'sts',\n",
       "   'RANKER_TYPE': 'MINILM_INDIR',\n",
       "   'RANKER_MODEL_NAME': '',\n",
       "   'RETRIEVER_MODEL_NAME': ''}],\n",
       " 'indir_juris_tcu_related_term': [{'PIPE_OBJECT': <haystack.pipelines.base.Pipeline at 0x7f775b61d590>,\n",
       "   'RETRIEVER_TYPE': 'sts',\n",
       "   'RANKER_TYPE': 'MINILM_INDIR',\n",
       "   'RANKER_MODEL_NAME': '',\n",
       "   'RETRIEVER_MODEL_NAME': ''}],\n",
       " 'indir_juris_tcu_synonym_related_term': [{'PIPE_OBJECT': <haystack.pipelines.base.Pipeline at 0x7f77500a0950>,\n",
       "   'RETRIEVER_TYPE': 'sts',\n",
       "   'RANKER_TYPE': 'MINILM_INDIR',\n",
       "   'RANKER_MODEL_NAME': '',\n",
       "   'RETRIEVER_MODEL_NAME': ''}]}"
      ]
     },
     "execution_count": 46,
     "metadata": {},
     "output_type": "execute_result"
    }
   ],
   "source": [
    "pipes"
   ]
  },
  {
   "cell_type": "code",
   "execution_count": 48,
   "metadata": {},
   "outputs": [],
   "source": [
    "grid_experiment = { \n",
    "             'TOPK_RETRIEVER' : [300],\n",
    "             'TOPK_RANKER' : [0],\n",
    "             'DONE': [False]\n",
    "}"
   ]
  },
  {
   "cell_type": "code",
   "execution_count": 49,
   "metadata": {},
   "outputs": [],
   "source": [
    "list_experiment = [dict(zip(grid_experiment.keys(), values)) for values in product(*grid_experiment.values())]\n"
   ]
  },
  {
   "cell_type": "code",
   "execution_count": 50,
   "metadata": {},
   "outputs": [
    {
     "name": "stdout",
     "output_type": "stream",
     "text": [
      "1\n"
     ]
    },
    {
     "data": {
      "text/plain": [
       "105"
      ]
     },
     "execution_count": 50,
     "metadata": {},
     "output_type": "execute_result"
    }
   ],
   "source": [
    "print(len(list_experiment))\n",
    "gc.collect()"
   ]
  },
  {
   "cell_type": "code",
   "execution_count": 51,
   "metadata": {},
   "outputs": [
    {
     "data": {
      "text/plain": [
       "dict_keys(['PIPE_OBJECT', 'RETRIEVER_TYPE', 'RANKER_TYPE', 'RANKER_MODEL_NAME', 'RETRIEVER_MODEL_NAME'])"
      ]
     },
     "execution_count": 51,
     "metadata": {},
     "output_type": "execute_result"
    }
   ],
   "source": [
    "pipes['indir_juris_tcu'][0].keys()"
   ]
  },
  {
   "cell_type": "code",
   "execution_count": 52,
   "metadata": {},
   "outputs": [
    {
     "data": {
      "text/html": [
       "<div>\n",
       "<style scoped>\n",
       "    .dataframe tbody tr th:only-of-type {\n",
       "        vertical-align: middle;\n",
       "    }\n",
       "\n",
       "    .dataframe tbody tr th {\n",
       "        vertical-align: top;\n",
       "    }\n",
       "\n",
       "    .dataframe thead th {\n",
       "        text-align: right;\n",
       "    }\n",
       "</style>\n",
       "<table border=\"1\" class=\"dataframe\">\n",
       "  <thead>\n",
       "    <tr style=\"text-align: right;\">\n",
       "      <th></th>\n",
       "      <th>index</th>\n",
       "      <th>ID</th>\n",
       "      <th>TEXT</th>\n",
       "      <th>RELEVANCE_DICT</th>\n",
       "      <th>SOURCE</th>\n",
       "    </tr>\n",
       "  </thead>\n",
       "  <tbody>\n",
       "    <tr>\n",
       "      <th>0</th>\n",
       "      <td>0</td>\n",
       "      <td>1</td>\n",
       "      <td>técnica e preço</td>\n",
       "      <td>{21064: 3, 42166: 3, 13702: 3, 20592: 3, 15740: 3, 53641: 3, 31601: 3, 54765: 3, 20506: 3, 47161: 3, 161: 1, 11595: 1, 40647: 1, 22155: 1, 18435: 1}</td>\n",
       "      <td>search log</td>\n",
       "    </tr>\n",
       "    <tr>\n",
       "      <th>1</th>\n",
       "      <td>1</td>\n",
       "      <td>2</td>\n",
       "      <td>restos a pagar</td>\n",
       "      <td>{31437: 3, 19340: 3, 77959: 3, 17289: 2, 18452: 2, 18105: 1, 19636: 1, 31274: 0, 17258: 0, 32865: 0, 19738: 0, 104484: 0, 90647: 0, 21876: 0, 33096: 0}</td>\n",
       "      <td>search log</td>\n",
       "    </tr>\n",
       "    <tr>\n",
       "      <th>2</th>\n",
       "      <td>2</td>\n",
       "      <td>3</td>\n",
       "      <td>aditivo a contrato</td>\n",
       "      <td>{18380: 3, 31102: 3, 17240: 3, 20511: 3, 32589: 3, 20510: 3, 17816: 3, 18058: 2, 17225: 2, 57354: 2, 18003: 2, 3881: 2, 31096: 1, 20901: 1, 11621: 1}</td>\n",
       "      <td>search log</td>\n",
       "    </tr>\n",
       "    <tr>\n",
       "      <th>3</th>\n",
       "      <td>3</td>\n",
       "      <td>4</td>\n",
       "      <td>adesão a ata de registro de preços</td>\n",
       "      <td>{16895: 3, 45015: 3, 14526: 3, 62306: 3, 6237: 3, 50537: 3, 16981: 3, 21201: 3, 77927: 3, 84935: 3, 22098: 1, 18410: 1, 8858: 1, 60811: 0, 42906: 0}</td>\n",
       "      <td>search log</td>\n",
       "    </tr>\n",
       "    <tr>\n",
       "      <th>4</th>\n",
       "      <td>4</td>\n",
       "      <td>5</td>\n",
       "      <td>sobrepreço e superfaturamento</td>\n",
       "      <td>{21172: 3, 17816: 3, 4066: 3, 53003: 3, 94290: 3, 114656: 3, 50616: 3, 144170: 3, 16277: 3, 59226: 3, 18047: 2, 31612: 1, 18036: 1, 42583: 0, 29387: 0}</td>\n",
       "      <td>search log</td>\n",
       "    </tr>\n",
       "  </tbody>\n",
       "</table>\n",
       "</div>"
      ],
      "text/plain": [
       "   index  ID                                TEXT  \\\n",
       "0      0   1                     técnica e preço   \n",
       "1      1   2                      restos a pagar   \n",
       "2      2   3                  aditivo a contrato   \n",
       "3      3   4  adesão a ata de registro de preços   \n",
       "4      4   5       sobrepreço e superfaturamento   \n",
       "\n",
       "                                                                                                                                            RELEVANCE_DICT      SOURCE  \n",
       "0     {21064: 3, 42166: 3, 13702: 3, 20592: 3, 15740: 3, 53641: 3, 31601: 3, 54765: 3, 20506: 3, 47161: 3, 161: 1, 11595: 1, 40647: 1, 22155: 1, 18435: 1}  search log  \n",
       "1  {31437: 3, 19340: 3, 77959: 3, 17289: 2, 18452: 2, 18105: 1, 19636: 1, 31274: 0, 17258: 0, 32865: 0, 19738: 0, 104484: 0, 90647: 0, 21876: 0, 33096: 0}  search log  \n",
       "2    {18380: 3, 31102: 3, 17240: 3, 20511: 3, 32589: 3, 20510: 3, 17816: 3, 18058: 2, 17225: 2, 57354: 2, 18003: 2, 3881: 2, 31096: 1, 20901: 1, 11621: 1}  search log  \n",
       "3     {16895: 3, 45015: 3, 14526: 3, 62306: 3, 6237: 3, 50537: 3, 16981: 3, 21201: 3, 77927: 3, 84935: 3, 22098: 1, 18410: 1, 8858: 1, 60811: 0, 42906: 0}  search log  \n",
       "4  {21172: 3, 17816: 3, 4066: 3, 53003: 3, 94290: 3, 114656: 3, 50616: 3, 144170: 3, 16277: 3, 59226: 3, 18047: 2, 31612: 1, 18036: 1, 42583: 0, 29387: 0}  search log  "
      ]
     },
     "execution_count": 52,
     "metadata": {},
     "output_type": "execute_result"
    }
   ],
   "source": [
    "df_search_data.head()"
   ]
  },
  {
   "cell_type": "code",
   "execution_count": null,
   "metadata": {},
   "outputs": [
    {
     "ename": "Exception",
     "evalue": "Stop execution - create only desired pipelines in code below ",
     "output_type": "error",
     "traceback": [
      "\u001b[0;31m---------------------------------------------------------------------------\u001b[0m\n",
      "\u001b[0;31mException\u001b[0m                                 Traceback (most recent call last)\n",
      "\u001b[0;32m/tmp/ipykernel_1111730/2302163279.py\u001b[0m in \u001b[0;36m<module>\u001b[0;34m\u001b[0m\n",
      "\u001b[0;32m----> 1\u001b[0;31m \u001b[0;32mraise\u001b[0m \u001b[0mException\u001b[0m \u001b[0;34m(\u001b[0m\u001b[0;34m'Stop execution - create only desired pipelines in code below '\u001b[0m\u001b[0;34m)\u001b[0m\u001b[0;34m\u001b[0m\u001b[0;34m\u001b[0m\u001b[0m\n",
      "\u001b[0m\n",
      "\u001b[0;31mException\u001b[0m: Stop execution - create only desired pipelines in code below "
     ]
    }
   ],
   "source": [
    "raise Exception ('Stop execution - create only desired pipelines in code below ')"
   ]
  },
  {
   "cell_type": "code",
   "execution_count": 54,
   "metadata": {},
   "outputs": [
    {
     "data": {
      "text/plain": [
       "<module 'util.util_experiment_juris_tcu' from '/home/borela/fontes/ind-ir/code/util/util_experiment_juris_tcu.py'>"
      ]
     },
     "execution_count": 54,
     "metadata": {},
     "output_type": "execute_result"
    }
   ],
   "source": [
    "importlib.reload(util_experiment)"
   ]
  },
  {
   "cell_type": "code",
   "execution_count": 55,
   "metadata": {},
   "outputs": [
    {
     "name": "stdout",
     "output_type": "stream",
     "text": [
      "===0/1===>  2023-Jun-27 13:07:52 experiment: {'TOPK_RETRIEVER': 300, 'TOPK_RANKER': 0, 'DONE': False, 'INDEX_NAME': 'indir_juris_tcu', 'PIPE': {'PIPE_OBJECT': <haystack.pipelines.base.Pipeline object at 0x7f775230dd90>, 'RETRIEVER_TYPE': 'sts', 'RANKER_TYPE': 'MINILM_INDIR', 'RANKER_MODEL_NAME': '', 'RETRIEVER_MODEL_NAME': ''}}\n",
      "Experimento envolverá 150 registros, toda a base de dados\n"
     ]
    },
    {
     "name": "stderr",
     "output_type": "stream",
     "text": [
      "100%|██████████| 150/150 [01:08<00:00,  2.20it/s]\n"
     ]
    },
    {
     "name": "stdout",
     "output_type": "stream",
     "text": [
      "COUNT_QUERY_RUN: 150\n",
      "COUNT_QUERY_WITHOUT_RESULT: 0\n",
      "COUNT_QUERY_NOT_FOUND: 4\n",
      "RANK1_MEAN: 3.562\n",
      "NDCG@5_MEAN: 43.275\n",
      "NDCG@10_MEAN: 40.034\n",
      "NDCG@15_MEAN: 41.465\n",
      "NDCG@20_MEAN: 43.489\n",
      "PRECISION@50_MEAN: 9.2\n",
      "PRECISION@100_MEAN: 5.113\n",
      "RECALL@50_MEAN: 30.667\n",
      "RECALL@100_MEAN: 34.089\n",
      "TIME_SPENT_MEAN: 0.454\n",
      "===0/1===>  2023-Jun-27 13:09:01 experiment: {'TOPK_RETRIEVER': 300, 'TOPK_RANKER': 0, 'DONE': True, 'INDEX_NAME': 'indir_juris_tcu_term', 'PIPE': {'PIPE_OBJECT': <haystack.pipelines.base.Pipeline object at 0x7f775244e850>, 'RETRIEVER_TYPE': 'sts', 'RANKER_TYPE': 'MINILM_INDIR', 'RANKER_MODEL_NAME': '', 'RETRIEVER_MODEL_NAME': ''}}\n",
      "Experimento envolverá 150 registros, toda a base de dados\n"
     ]
    },
    {
     "name": "stderr",
     "output_type": "stream",
     "text": [
      "100%|██████████| 150/150 [01:20<00:00,  1.86it/s]\n"
     ]
    },
    {
     "name": "stdout",
     "output_type": "stream",
     "text": [
      "COUNT_QUERY_RUN: 150\n",
      "COUNT_QUERY_WITHOUT_RESULT: 0\n",
      "COUNT_QUERY_NOT_FOUND: 2\n",
      "RANK1_MEAN: 4.277\n",
      "NDCG@5_MEAN: 49.559\n",
      "NDCG@10_MEAN: 45.35\n",
      "NDCG@15_MEAN: 47.768\n",
      "NDCG@20_MEAN: 50.23\n",
      "PRECISION@50_MEAN: 10.6\n",
      "PRECISION@100_MEAN: 5.7\n",
      "RECALL@50_MEAN: 35.333\n",
      "RECALL@100_MEAN: 38.0\n",
      "TIME_SPENT_MEAN: 0.538\n",
      "===0/1===>  2023-Jun-27 13:10:22 experiment: {'TOPK_RETRIEVER': 300, 'TOPK_RANKER': 0, 'DONE': True, 'INDEX_NAME': 'indir_juris_tcu_synonym', 'PIPE': {'PIPE_OBJECT': <haystack.pipelines.base.Pipeline object at 0x7f775b582710>, 'RETRIEVER_TYPE': 'sts', 'RANKER_TYPE': 'MINILM_INDIR', 'RANKER_MODEL_NAME': '', 'RETRIEVER_MODEL_NAME': ''}}\n",
      "Experimento envolverá 150 registros, toda a base de dados\n"
     ]
    },
    {
     "name": "stderr",
     "output_type": "stream",
     "text": [
      "100%|██████████| 150/150 [01:43<00:00,  1.45it/s]\n"
     ]
    },
    {
     "name": "stdout",
     "output_type": "stream",
     "text": [
      "COUNT_QUERY_RUN: 150\n",
      "COUNT_QUERY_WITHOUT_RESULT: 0\n",
      "COUNT_QUERY_NOT_FOUND: 3\n",
      "RANK1_MEAN: 7.673\n",
      "NDCG@5_MEAN: 40.21\n",
      "NDCG@10_MEAN: 35.418\n",
      "NDCG@15_MEAN: 37.657\n",
      "NDCG@20_MEAN: 39.594\n",
      "PRECISION@50_MEAN: 8.96\n",
      "PRECISION@100_MEAN: 5.12\n",
      "RECALL@50_MEAN: 29.867\n",
      "RECALL@100_MEAN: 34.133\n",
      "TIME_SPENT_MEAN: 0.689\n",
      "===0/1===>  2023-Jun-27 13:12:06 experiment: {'TOPK_RETRIEVER': 300, 'TOPK_RANKER': 0, 'DONE': True, 'INDEX_NAME': 'indir_juris_tcu_related_term', 'PIPE': {'PIPE_OBJECT': <haystack.pipelines.base.Pipeline object at 0x7f775b61d590>, 'RETRIEVER_TYPE': 'sts', 'RANKER_TYPE': 'MINILM_INDIR', 'RANKER_MODEL_NAME': '', 'RETRIEVER_MODEL_NAME': ''}}\n",
      "Experimento envolverá 150 registros, toda a base de dados\n"
     ]
    },
    {
     "name": "stderr",
     "output_type": "stream",
     "text": [
      "100%|██████████| 150/150 [02:28<00:00,  1.01it/s]\n"
     ]
    },
    {
     "name": "stdout",
     "output_type": "stream",
     "text": [
      "COUNT_QUERY_RUN: 150\n",
      "COUNT_QUERY_WITHOUT_RESULT: 0\n",
      "COUNT_QUERY_NOT_FOUND: 8\n",
      "RANK1_MEAN: 11.155\n",
      "NDCG@5_MEAN: 23.168\n",
      "NDCG@10_MEAN: 22.387\n",
      "NDCG@15_MEAN: 24.446\n",
      "NDCG@20_MEAN: 26.683\n",
      "PRECISION@50_MEAN: 7.147\n",
      "PRECISION@100_MEAN: 4.467\n",
      "RECALL@50_MEAN: 23.822\n",
      "RECALL@100_MEAN: 29.778\n",
      "TIME_SPENT_MEAN: 0.989\n",
      "===0/1===>  2023-Jun-27 13:14:34 experiment: {'TOPK_RETRIEVER': 300, 'TOPK_RANKER': 0, 'DONE': True, 'INDEX_NAME': 'indir_juris_tcu_synonym_related_term', 'PIPE': {'PIPE_OBJECT': <haystack.pipelines.base.Pipeline object at 0x7f77500a0950>, 'RETRIEVER_TYPE': 'sts', 'RANKER_TYPE': 'MINILM_INDIR', 'RANKER_MODEL_NAME': '', 'RETRIEVER_MODEL_NAME': ''}}\n",
      "Experimento envolverá 150 registros, toda a base de dados\n"
     ]
    },
    {
     "name": "stderr",
     "output_type": "stream",
     "text": [
      "100%|██████████| 150/150 [02:39<00:00,  1.06s/it]\n"
     ]
    },
    {
     "name": "stdout",
     "output_type": "stream",
     "text": [
      "COUNT_QUERY_RUN: 150\n",
      "COUNT_QUERY_WITHOUT_RESULT: 0\n",
      "COUNT_QUERY_NOT_FOUND: 11\n",
      "RANK1_MEAN: 14.338\n",
      "NDCG@5_MEAN: 19.627\n",
      "NDCG@10_MEAN: 18.901\n",
      "NDCG@15_MEAN: 20.619\n",
      "NDCG@20_MEAN: 21.973\n",
      "PRECISION@50_MEAN: 6.48\n",
      "PRECISION@100_MEAN: 4.047\n",
      "RECALL@50_MEAN: 21.6\n",
      "RECALL@100_MEAN: 26.978\n",
      "TIME_SPENT_MEAN: 1.065\n",
      "CPU times: user 8min 47s, sys: 2.36 s, total: 8min 49s\n",
      "Wall time: 9min 22s\n"
     ]
    }
   ],
   "source": [
    "%%time\n",
    "# colocar pequeno só para testes, depois voltar para 9999999 (número maior do que o número de termos a pesquisar)\n",
    "limit_query =  9999999 # 100 # \n",
    "for index_name in pipes.keys():\n",
    "    for pipe in pipes[index_name]:\n",
    "        for cnt, experiment in enumerate(list_experiment):\n",
    "            list_result_experiment = [] # por experiment\n",
    "            experiment['INDEX_NAME'] = index_name\n",
    "            experiment['PIPE'] = pipe\n",
    "            print(f\"==={cnt}/{len(list_experiment)}===>  {time.strftime('%Y-%b-%d %H:%M:%S')} experiment: {experiment}\")\n",
    "            result_run = util_experiment.experiment_run(parm_df=df_search_data, \n",
    "                                                    parm_experiment=experiment,\n",
    "                                                    parm_limit_query=limit_query,\n",
    "                                                    parm_print=True)\n",
    "            list_result_experiment.append(result_run)\n",
    "            # print(f\"qtd_encontrado sim:{result_run['qtd_encontrado']}, não:{result_run['qtd_nao_encontrado']} ({result_run['percent_nao_encontrado']}%)\")\n",
    "            experiment['DONE'] = True\n",
    "            util_experiment.add_experiment_result(parm_list_result=list_result_experiment, parm_dataset='juris_tcu')\n",
    "            torch.cuda.empty_cache()"
   ]
  },
  {
   "cell_type": "code",
   "execution_count": null,
   "metadata": {},
   "outputs": [
    {
     "name": "stdout",
     "output_type": "stream",
     "text": [
      "===0/1===>  2023-Jun-27 11:48:30 experiment: {'TOPK_RETRIEVER': 300, 'TOPK_RANKER': 0, 'DONE': False, 'INDEX_NAME': 'indir_juris_tcu', 'PIPE': {'PIPE_OBJECT': <haystack.pipelines.base.Pipeline object at 0x7fe46db6ea90>, 'RETRIEVER_TYPE': 'bm25', 'RANKER_TYPE': 'MINILM_INDIR', 'RANKER_MODEL_NAME': '', 'RETRIEVER_MODEL_NAME': ''}}\n",
      "Experimento envolverá 150 registros, toda a base de dados\n"
     ]
    },
    {
     "name": "stderr",
     "output_type": "stream",
     "text": [
      "100%|██████████| 150/150 [01:07<00:00,  2.23it/s]\n"
     ]
    },
    {
     "name": "stdout",
     "output_type": "stream",
     "text": [
      "COUNT_QUERY_RUN: 150\n",
      "COUNT_QUERY_WITHOUT_RESULT: 0\n",
      "COUNT_QUERY_NOT_FOUND: 0\n",
      "RANK1_MEAN: 3.513\n",
      "NDCG@5_MEAN: 46.229\n",
      "NDCG@10_MEAN: 43.832\n",
      "NDCG@15_MEAN: 47.097\n",
      "NDCG@20_MEAN: 49.708\n",
      "PRECISION@50_MEAN: 12.333\n",
      "PRECISION@100_MEAN: 7.16\n",
      "RECALL@50_MEAN: 41.111\n",
      "RECALL@100_MEAN: 47.733\n",
      "TIME_SPENT_MEAN: 0.449\n",
      "===0/1===>  2023-Jun-27 11:49:37 experiment: {'TOPK_RETRIEVER': 300, 'TOPK_RANKER': 0, 'DONE': True, 'INDEX_NAME': 'indir_juris_tcu_term', 'PIPE': {'PIPE_OBJECT': <haystack.pipelines.base.Pipeline object at 0x7fe4770f3fd0>, 'RETRIEVER_TYPE': 'bm25', 'RANKER_TYPE': 'MINILM_INDIR', 'RANKER_MODEL_NAME': '', 'RETRIEVER_MODEL_NAME': ''}}\n",
      "Experimento envolverá 150 registros, toda a base de dados\n"
     ]
    },
    {
     "name": "stderr",
     "output_type": "stream",
     "text": [
      "100%|██████████| 150/150 [01:14<00:00,  2.03it/s]\n"
     ]
    },
    {
     "name": "stdout",
     "output_type": "stream",
     "text": [
      "COUNT_QUERY_RUN: 150\n",
      "COUNT_QUERY_WITHOUT_RESULT: 0\n",
      "COUNT_QUERY_NOT_FOUND: 0\n",
      "RANK1_MEAN: 2.987\n",
      "NDCG@5_MEAN: 51.656\n",
      "NDCG@10_MEAN: 49.246\n",
      "NDCG@15_MEAN: 51.426\n",
      "NDCG@20_MEAN: 54.309\n",
      "PRECISION@50_MEAN: 13.213\n",
      "PRECISION@100_MEAN: 7.407\n",
      "RECALL@50_MEAN: 44.044\n",
      "RECALL@100_MEAN: 49.378\n",
      "TIME_SPENT_MEAN: 0.493\n",
      "===0/1===>  2023-Jun-27 11:50:52 experiment: {'TOPK_RETRIEVER': 300, 'TOPK_RANKER': 0, 'DONE': True, 'INDEX_NAME': 'indir_juris_tcu_synonym', 'PIPE': {'PIPE_OBJECT': <haystack.pipelines.base.Pipeline object at 0x7fe46daa7e90>, 'RETRIEVER_TYPE': 'bm25', 'RANKER_TYPE': 'MINILM_INDIR', 'RANKER_MODEL_NAME': '', 'RETRIEVER_MODEL_NAME': ''}}\n",
      "Experimento envolverá 150 registros, toda a base de dados\n"
     ]
    },
    {
     "name": "stderr",
     "output_type": "stream",
     "text": [
      "100%|██████████| 150/150 [01:32<00:00,  1.63it/s]\n"
     ]
    },
    {
     "name": "stdout",
     "output_type": "stream",
     "text": [
      "COUNT_QUERY_RUN: 150\n",
      "COUNT_QUERY_WITHOUT_RESULT: 0\n",
      "COUNT_QUERY_NOT_FOUND: 0\n",
      "RANK1_MEAN: 10.66\n",
      "NDCG@5_MEAN: 38.415\n",
      "NDCG@10_MEAN: 36.067\n",
      "NDCG@15_MEAN: 37.738\n",
      "NDCG@20_MEAN: 40.002\n",
      "PRECISION@50_MEAN: 10.613\n",
      "PRECISION@100_MEAN: 6.553\n",
      "RECALL@50_MEAN: 35.378\n",
      "RECALL@100_MEAN: 43.689\n",
      "TIME_SPENT_MEAN: 0.614\n",
      "===0/1===>  2023-Jun-27 11:52:24 experiment: {'TOPK_RETRIEVER': 300, 'TOPK_RANKER': 0, 'DONE': True, 'INDEX_NAME': 'indir_juris_tcu_related_term', 'PIPE': {'PIPE_OBJECT': <haystack.pipelines.base.Pipeline object at 0x7fe4773d62d0>, 'RETRIEVER_TYPE': 'bm25', 'RANKER_TYPE': 'MINILM_INDIR', 'RANKER_MODEL_NAME': '', 'RETRIEVER_MODEL_NAME': ''}}\n",
      "Experimento envolverá 150 registros, toda a base de dados\n"
     ]
    },
    {
     "name": "stderr",
     "output_type": "stream",
     "text": [
      "100%|██████████| 150/150 [02:14<00:00,  1.11it/s]\n"
     ]
    },
    {
     "name": "stdout",
     "output_type": "stream",
     "text": [
      "COUNT_QUERY_RUN: 150\n",
      "COUNT_QUERY_WITHOUT_RESULT: 0\n",
      "COUNT_QUERY_NOT_FOUND: 0\n",
      "RANK1_MEAN: 11.94\n",
      "NDCG@5_MEAN: 22.381\n",
      "NDCG@10_MEAN: 23.143\n",
      "NDCG@15_MEAN: 24.975\n",
      "NDCG@20_MEAN: 27.045\n",
      "PRECISION@50_MEAN: 9.147\n",
      "PRECISION@100_MEAN: 5.953\n",
      "RECALL@50_MEAN: 30.489\n",
      "RECALL@100_MEAN: 39.689\n",
      "TIME_SPENT_MEAN: 0.899\n",
      "===0/1===>  2023-Jun-27 11:54:40 experiment: {'TOPK_RETRIEVER': 300, 'TOPK_RANKER': 0, 'DONE': True, 'INDEX_NAME': 'indir_juris_tcu_synonym_related_term', 'PIPE': {'PIPE_OBJECT': <haystack.pipelines.base.Pipeline object at 0x7fe476dff450>, 'RETRIEVER_TYPE': 'bm25', 'RANKER_TYPE': 'MINILM_INDIR', 'RANKER_MODEL_NAME': '', 'RETRIEVER_MODEL_NAME': ''}}\n",
      "Experimento envolverá 150 registros, toda a base de dados\n"
     ]
    },
    {
     "name": "stderr",
     "output_type": "stream",
     "text": [
      "100%|██████████| 150/150 [02:30<00:00,  1.00s/it]\n"
     ]
    },
    {
     "name": "stdout",
     "output_type": "stream",
     "text": [
      "COUNT_QUERY_RUN: 150\n",
      "COUNT_QUERY_WITHOUT_RESULT: 0\n",
      "COUNT_QUERY_NOT_FOUND: 0\n",
      "RANK1_MEAN: 13.367\n",
      "NDCG@5_MEAN: 19.506\n",
      "NDCG@10_MEAN: 19.313\n",
      "NDCG@15_MEAN: 21.661\n",
      "NDCG@20_MEAN: 24.058\n",
      "PRECISION@50_MEAN: 8.187\n",
      "PRECISION@100_MEAN: 5.76\n",
      "RECALL@50_MEAN: 27.289\n",
      "RECALL@100_MEAN: 38.4\n",
      "TIME_SPENT_MEAN: 1.004\n",
      "CPU times: user 9min 17s, sys: 2.96 s, total: 9min 20s\n",
      "Wall time: 8min 40s\n"
     ]
    }
   ],
   "source": [
    "%%time\n",
    "# colocar pequeno só para testes, depois voltar para 9999999 (número maior do que o número de termos a pesquisar)\n",
    "limit_query =  9999999 # 100 # \n",
    "for index_name in pipes.keys():\n",
    "    for pipe in pipes[index_name]:\n",
    "        for cnt, experiment in enumerate(list_experiment):\n",
    "            list_result_experiment = [] # por experiment\n",
    "            experiment['INDEX_NAME'] = index_name\n",
    "            experiment['PIPE'] = pipe\n",
    "            print(f\"==={cnt}/{len(list_experiment)}===>  {time.strftime('%Y-%b-%d %H:%M:%S')} experiment: {experiment}\")\n",
    "            result_run = util_experiment.experiment_run(parm_df=df_search_data, \n",
    "                                                    parm_experiment=experiment,\n",
    "                                                    parm_limit_query=limit_query,\n",
    "                                                    parm_print=True)\n",
    "            list_result_experiment.append(result_run)\n",
    "            # print(f\"qtd_encontrado sim:{result_run['qtd_encontrado']}, não:{result_run['qtd_nao_encontrado']} ({result_run['percent_nao_encontrado']}%)\")\n",
    "            experiment['DONE'] = True\n",
    "            util_experiment.add_experiment_result(parm_list_result=list_result_experiment, parm_dataset='juris_tcu')"
   ]
  },
  {
   "cell_type": "code",
   "execution_count": null,
   "metadata": {},
   "outputs": [],
   "source": []
  },
  {
   "cell_type": "code",
   "execution_count": null,
   "metadata": {},
   "outputs": [
    {
     "name": "stdout",
     "output_type": "stream",
     "text": [
      "===0/1===>  2023-Jun-27 00:23:39 experiment: {'TOPK_RETRIEVER': 300, 'TOPK_RANKER': 0, 'DONE': True, 'PIPE': {'PIPE_OBJECT': <haystack.pipelines.standard_pipelines.DocumentSearchPipeline object at 0x7f3144caf4d0>, 'RETRIEVER_TYPE': 'bm25', 'RANKER_TYPE': 'none', 'RANKER_MODEL_NAME': '', 'RETRIEVER_MODEL_NAME': ''}, 'INDEX_NAME': 'indir_juris_tcu'}\n",
      "Experimento envolverá 150 registros, toda a base de dados\n"
     ]
    },
    {
     "name": "stderr",
     "output_type": "stream",
     "text": [
      "100%|██████████| 150/150 [00:18<00:00,  8.22it/s]\n"
     ]
    },
    {
     "name": "stdout",
     "output_type": "stream",
     "text": [
      "COUNT_QUERY_RUN: 150\n",
      "COUNT_QUERY_WITHOUT_RESULT: 0\n",
      "COUNT_QUERY_NOT_FOUND: 0\n",
      "RANK1_MEAN: 2.853\n",
      "NDCG@5_MEAN: 59.411\n",
      "NDCG@10_MEAN: 55.158\n",
      "NDCG@15_MEAN: 58.502\n",
      "NDCG@20_MEAN: 61.256\n",
      "PRECISION@50_MEAN: 12.92\n",
      "PRECISION@100_MEAN: 7.127\n",
      "RECALL@50_MEAN: 43.067\n",
      "RECALL@100_MEAN: 47.511\n",
      "TIME_SPENT_MEAN: 0.122\n",
      "===0/1===>  2023-Jun-27 00:23:58 experiment: {'TOPK_RETRIEVER': 300, 'TOPK_RANKER': 0, 'DONE': True, 'PIPE': {'PIPE_OBJECT': <haystack.pipelines.standard_pipelines.DocumentSearchPipeline object at 0x7f3144c26dd0>, 'RETRIEVER_TYPE': 'bm25', 'RANKER_TYPE': 'none', 'RANKER_MODEL_NAME': '', 'RETRIEVER_MODEL_NAME': ''}, 'INDEX_NAME': 'indir_juris_tcu_term'}\n",
      "Experimento envolverá 150 registros, toda a base de dados\n"
     ]
    },
    {
     "name": "stderr",
     "output_type": "stream",
     "text": [
      "100%|██████████| 150/150 [00:18<00:00,  8.33it/s]\n"
     ]
    },
    {
     "name": "stdout",
     "output_type": "stream",
     "text": [
      "COUNT_QUERY_RUN: 150\n",
      "COUNT_QUERY_WITHOUT_RESULT: 0\n",
      "COUNT_QUERY_NOT_FOUND: 0\n",
      "RANK1_MEAN: 2.58\n",
      "NDCG@5_MEAN: 59.011\n",
      "NDCG@10_MEAN: 55.707\n",
      "NDCG@15_MEAN: 58.925\n",
      "NDCG@20_MEAN: 61.785\n",
      "PRECISION@50_MEAN: 13.533\n",
      "PRECISION@100_MEAN: 7.373\n",
      "RECALL@50_MEAN: 45.111\n",
      "RECALL@100_MEAN: 49.156\n",
      "TIME_SPENT_MEAN: 0.12\n",
      "===0/1===>  2023-Jun-27 00:24:16 experiment: {'TOPK_RETRIEVER': 300, 'TOPK_RANKER': 0, 'DONE': True, 'PIPE': {'PIPE_OBJECT': <haystack.pipelines.standard_pipelines.DocumentSearchPipeline object at 0x7f313c1b9490>, 'RETRIEVER_TYPE': 'bm25', 'RANKER_TYPE': 'none', 'RANKER_MODEL_NAME': '', 'RETRIEVER_MODEL_NAME': ''}, 'INDEX_NAME': 'indir_juris_tcu_synonym'}\n",
      "Experimento envolverá 150 registros, toda a base de dados\n"
     ]
    },
    {
     "name": "stderr",
     "output_type": "stream",
     "text": [
      "100%|██████████| 150/150 [00:17<00:00,  8.36it/s]\n"
     ]
    },
    {
     "name": "stdout",
     "output_type": "stream",
     "text": [
      "COUNT_QUERY_RUN: 150\n",
      "COUNT_QUERY_WITHOUT_RESULT: 0\n",
      "COUNT_QUERY_NOT_FOUND: 0\n",
      "RANK1_MEAN: 2.647\n",
      "NDCG@5_MEAN: 58.332\n",
      "NDCG@10_MEAN: 55.239\n",
      "NDCG@15_MEAN: 57.717\n",
      "NDCG@20_MEAN: 60.345\n",
      "PRECISION@50_MEAN: 13.533\n",
      "PRECISION@100_MEAN: 7.373\n",
      "RECALL@50_MEAN: 45.111\n",
      "RECALL@100_MEAN: 49.156\n",
      "TIME_SPENT_MEAN: 0.12\n",
      "===0/1===>  2023-Jun-27 00:24:34 experiment: {'TOPK_RETRIEVER': 300, 'TOPK_RANKER': 0, 'DONE': True, 'PIPE': {'PIPE_OBJECT': <haystack.pipelines.standard_pipelines.DocumentSearchPipeline object at 0x7f313c1b9610>, 'RETRIEVER_TYPE': 'bm25', 'RANKER_TYPE': 'none', 'RANKER_MODEL_NAME': '', 'RETRIEVER_MODEL_NAME': ''}, 'INDEX_NAME': 'indir_juris_tcu_related_term'}\n",
      "Experimento envolverá 150 registros, toda a base de dados\n"
     ]
    },
    {
     "name": "stderr",
     "output_type": "stream",
     "text": [
      "100%|██████████| 150/150 [00:18<00:00,  8.03it/s]\n"
     ]
    },
    {
     "name": "stdout",
     "output_type": "stream",
     "text": [
      "COUNT_QUERY_RUN: 150\n",
      "COUNT_QUERY_WITHOUT_RESULT: 0\n",
      "COUNT_QUERY_NOT_FOUND: 0\n",
      "RANK1_MEAN: 4.187\n",
      "NDCG@5_MEAN: 54.735\n",
      "NDCG@10_MEAN: 51.054\n",
      "NDCG@15_MEAN: 53.283\n",
      "NDCG@20_MEAN: 56.303\n",
      "PRECISION@50_MEAN: 12.573\n",
      "PRECISION@100_MEAN: 7.093\n",
      "RECALL@50_MEAN: 41.911\n",
      "RECALL@100_MEAN: 47.289\n",
      "TIME_SPENT_MEAN: 0.125\n",
      "===0/1===>  2023-Jun-27 00:24:53 experiment: {'TOPK_RETRIEVER': 300, 'TOPK_RANKER': 0, 'DONE': True, 'PIPE': {'PIPE_OBJECT': <haystack.pipelines.standard_pipelines.DocumentSearchPipeline object at 0x7f313c1b9790>, 'RETRIEVER_TYPE': 'bm25', 'RANKER_TYPE': 'none', 'RANKER_MODEL_NAME': '', 'RETRIEVER_MODEL_NAME': ''}, 'INDEX_NAME': 'indir_juris_tcu_synonym_related_term'}\n",
      "Experimento envolverá 150 registros, toda a base de dados\n"
     ]
    },
    {
     "name": "stderr",
     "output_type": "stream",
     "text": [
      "100%|██████████| 150/150 [00:18<00:00,  8.00it/s]\n"
     ]
    },
    {
     "name": "stdout",
     "output_type": "stream",
     "text": [
      "COUNT_QUERY_RUN: 150\n",
      "COUNT_QUERY_WITHOUT_RESULT: 0\n",
      "COUNT_QUERY_NOT_FOUND: 0\n",
      "RANK1_MEAN: 3.42\n",
      "NDCG@5_MEAN: 55.498\n",
      "NDCG@10_MEAN: 52.204\n",
      "NDCG@15_MEAN: 54.757\n",
      "NDCG@20_MEAN: 57.39\n",
      "PRECISION@50_MEAN: 12.907\n",
      "PRECISION@100_MEAN: 7.113\n",
      "RECALL@50_MEAN: 43.022\n",
      "RECALL@100_MEAN: 47.422\n",
      "TIME_SPENT_MEAN: 0.125\n",
      "CPU times: user 6.88 s, sys: 56 ms, total: 6.93 s\n",
      "Wall time: 1min 33s\n"
     ]
    }
   ],
   "source": [
    "%%time\n",
    "# colocar pequeno só para testes, depois voltar para 9999999 (número maior do que o número de termos a pesquisar)\n",
    "limit_query =  9999999 # 100 # \n",
    "for index_name in pipes.keys():\n",
    "    for pipe in pipes[index_name]:\n",
    "        for cnt, experiment in enumerate(list_experiment):\n",
    "            list_result_experiment = [] # por experiment\n",
    "            experiment['INDEX_NAME'] = index_name\n",
    "            experiment['PIPE'] = pipe\n",
    "            print(f\"==={cnt}/{len(list_experiment)}===>  {time.strftime('%Y-%b-%d %H:%M:%S')} experiment: {experiment}\")\n",
    "            result_run = util_experiment.experiment_run(parm_df=df_search_data, \n",
    "                                                    parm_experiment=experiment,\n",
    "                                                    parm_limit_query=limit_query,\n",
    "                                                    parm_print=True)\n",
    "            list_result_experiment.append(result_run)\n",
    "            # print(f\"qtd_encontrado sim:{result_run['qtd_encontrado']}, não:{result_run['qtd_nao_encontrado']} ({result_run['percent_nao_encontrado']}%)\")\n",
    "            experiment['DONE'] = True\n",
    "            util_experiment.add_experiment_result(parm_list_result=list_result_experiment, parm_dataset='juris_tcu')"
   ]
  },
  {
   "attachments": {},
   "cell_type": "markdown",
   "metadata": {},
   "source": [
    "Free resources: "
   ]
  },
  {
   "cell_type": "code",
   "execution_count": null,
   "metadata": {},
   "outputs": [
    {
     "ename": "",
     "evalue": "",
     "output_type": "error",
     "traceback": [
      "\u001b[1;31mThe Kernel crashed while executing code in the the current cell or a previous cell. Please review the code in the cell(s) to identify a possible cause of the failure. Click <a href='https://aka.ms/vscodeJupyterKernelCrash'>here</a> for more info. View Jupyter <a href='command:jupyter.viewOutput'>log</a> for further details."
     ]
    }
   ],
   "source": [
    "quit()"
   ]
  },
  {
   "cell_type": "code",
   "execution_count": null,
   "metadata": {},
   "outputs": [],
   "source": []
  }
 ],
 "metadata": {
  "kernelspec": {
   "display_name": "Python (relevar-busca)",
   "language": "python",
   "name": "relevar-busca"
  },
  "language_info": {
   "codemirror_mode": {
    "name": "ipython",
    "version": 3
   },
   "file_extension": ".py",
   "mimetype": "text/x-python",
   "name": "python",
   "nbconvert_exporter": "python",
   "pygments_lexer": "ipython3",
   "version": "3.7.13"
  },
  "orig_nbformat": 4,
  "vscode": {
   "interpreter": {
    "hash": "45978bf3509deeb93161d1472b16f82a40245d44c2beae6c63ad8f9bb3f69171"
   }
  }
 },
 "nbformat": 4,
 "nbformat_minor": 2
}
