{
 "cells": [
  {
   "attachments": {},
   "cell_type": "markdown",
   "id": "998a4011",
   "metadata": {},
   "source": [
    "# Imports and preparation"
   ]
  },
  {
   "cell_type": "code",
   "execution_count": 1,
   "metadata": {},
   "outputs": [],
   "source": [
    "import os"
   ]
  },
  {
   "cell_type": "code",
   "execution_count": 2,
   "metadata": {},
   "outputs": [],
   "source": [
    "import numpy as np"
   ]
  },
  {
   "cell_type": "code",
   "execution_count": 3,
   "id": "37d4165c",
   "metadata": {},
   "outputs": [],
   "source": [
    "import pandas as pd"
   ]
  },
  {
   "cell_type": "code",
   "execution_count": 4,
   "metadata": {},
   "outputs": [],
   "source": [
    "from collections import defaultdict"
   ]
  },
  {
   "cell_type": "code",
   "execution_count": 5,
   "metadata": {},
   "outputs": [],
   "source": [
    "from tqdm import tqdm"
   ]
  },
  {
   "cell_type": "code",
   "execution_count": 6,
   "metadata": {},
   "outputs": [],
   "source": [
    "import time, gc"
   ]
  },
  {
   "cell_type": "code",
   "execution_count": 7,
   "metadata": {},
   "outputs": [],
   "source": [
    "import importlib"
   ]
  },
  {
   "cell_type": "code",
   "execution_count": 8,
   "metadata": {},
   "outputs": [],
   "source": [
    "from itertools import product\n"
   ]
  },
  {
   "cell_type": "code",
   "execution_count": 9,
   "metadata": {},
   "outputs": [
    {
     "name": "stderr",
     "output_type": "stream",
     "text": [
      "OpenAI tiktoken module is not available for Python < 3.8,Linux ARM64 and AARCH64. Falling back to GPT2TokenizerFast.\n",
      "WARNING:haystack.nodes.answer_generator.openai:OpenAI tiktoken module is not available for Python < 3.8,Linux ARM64 and AARCH64. Falling back to GPT2TokenizerFast.\n"
     ]
    }
   ],
   "source": [
    "from util import util_elastic"
   ]
  },
  {
   "cell_type": "code",
   "execution_count": 10,
   "metadata": {},
   "outputs": [],
   "source": [
    "from util import util_pipeline"
   ]
  },
  {
   "cell_type": "code",
   "execution_count": 11,
   "metadata": {},
   "outputs": [],
   "source": [
    "from util import util_experiment"
   ]
  },
  {
   "cell_type": "code",
   "execution_count": 12,
   "id": "f911fcf2",
   "metadata": {},
   "outputs": [],
   "source": [
    "# Para ter repetibilidade nos resultados\n",
    "random_state = 1\n",
    "\n",
    "# Tratar valores infinitos (+ e -) como np.NaN\n",
    "pd.options.mode.use_inf_as_na = True\n",
    "\n",
    "# IMPORTANTE para tornar figuras interativas\n",
    "# %matplotlib notebook\n",
    "\n",
    "# Tamanho padrão das figuras\n",
    "figsize=(10,6)\n",
    "\n",
    "pd.set_option('display.max_row', 1000)\n",
    "\n",
    "pd.set_option('display.max_columns', 50)\n",
    "\n",
    "pd.set_option('display.column_space', 40)\n",
    "pd.set_option('display.max_colwidth', 100)\n",
    "pd.set_option('display.width', 200)\n"
   ]
  },
  {
   "cell_type": "code",
   "execution_count": 13,
   "id": "6e05b9a6",
   "metadata": {},
   "outputs": [],
   "source": [
    "PATH_QUERY = '../data/juris_tcu_index/query.csv'\n",
    "PATH_QREL =  '../data/juris_tcu_index/qrel.csv'"
   ]
  },
  {
   "attachments": {},
   "cell_type": "markdown",
   "metadata": {},
   "source": [
    "# Data load"
   ]
  },
  {
   "attachments": {},
   "cell_type": "markdown",
   "metadata": {},
   "source": [
    "## Query data load"
   ]
  },
  {
   "cell_type": "code",
   "execution_count": 14,
   "id": "1cf03f22",
   "metadata": {},
   "outputs": [],
   "source": [
    "df_query = pd.read_csv(PATH_QUERY)"
   ]
  },
  {
   "cell_type": "code",
   "execution_count": 15,
   "metadata": {},
   "outputs": [
    {
     "data": {
      "text/plain": [
       "(16045, 11)"
      ]
     },
     "execution_count": 15,
     "metadata": {},
     "output_type": "execute_result"
    }
   ],
   "source": [
    "df_query.shape"
   ]
  },
  {
   "cell_type": "code",
   "execution_count": 16,
   "metadata": {},
   "outputs": [
    {
     "data": {
      "text/html": [
       "<div>\n",
       "<style scoped>\n",
       "    .dataframe tbody tr th:only-of-type {\n",
       "        vertical-align: middle;\n",
       "    }\n",
       "\n",
       "    .dataframe tbody tr th {\n",
       "        vertical-align: top;\n",
       "    }\n",
       "\n",
       "    .dataframe thead th {\n",
       "        text-align: right;\n",
       "    }\n",
       "</style>\n",
       "<table border=\"1\" class=\"dataframe\">\n",
       "  <thead>\n",
       "    <tr style=\"text-align: right;\">\n",
       "      <th></th>\n",
       "      <th>ID</th>\n",
       "      <th>TEXT</th>\n",
       "      <th>REFERENCE_LIST</th>\n",
       "      <th>PARADIGMATIC</th>\n",
       "      <th>AREA_NAME</th>\n",
       "      <th>AREA_ID_DESCRIPTOR</th>\n",
       "      <th>NORMATIVE_PROCESS_TYPE</th>\n",
       "      <th>NORMATIVE_IDENTIFICATION</th>\n",
       "      <th>NORMATIVE_DATE</th>\n",
       "      <th>NORMATIVE_AUTHOR_TYPE</th>\n",
       "      <th>NORMATIVE_AUTHOR_NAME</th>\n",
       "    </tr>\n",
       "  </thead>\n",
       "  <tbody>\n",
       "    <tr>\n",
       "      <th>5618</th>\n",
       "      <td>2845</td>\n",
       "      <td>Em regra, o pregão é a modalidade de licitação adequada para a concessão remunerada de uso de be...</td>\n",
       "      <td>NaN</td>\n",
       "      <td>NaN</td>\n",
       "      <td>Licitação</td>\n",
       "      <td>932</td>\n",
       "      <td>REPRESENTAÇÃO</td>\n",
       "      <td>Acórdão 478/2016 - Plenário</td>\n",
       "      <td>2016-03-02</td>\n",
       "      <td>RELATOR</td>\n",
       "      <td>MARCOS BEMQUERER</td>\n",
       "    </tr>\n",
       "  </tbody>\n",
       "</table>\n",
       "</div>"
      ],
      "text/plain": [
       "        ID                                                                                                 TEXT REFERENCE_LIST PARADIGMATIC  AREA_NAME  AREA_ID_DESCRIPTOR NORMATIVE_PROCESS_TYPE  \\\n",
       "5618  2845  Em regra, o pregão é a modalidade de licitação adequada para a concessão remunerada de uso de be...            NaN          NaN  Licitação                 932          REPRESENTAÇÃO   \n",
       "\n",
       "         NORMATIVE_IDENTIFICATION NORMATIVE_DATE NORMATIVE_AUTHOR_TYPE NORMATIVE_AUTHOR_NAME  \n",
       "5618  Acórdão 478/2016 - Plenário     2016-03-02               RELATOR      MARCOS BEMQUERER  "
      ]
     },
     "execution_count": 16,
     "metadata": {},
     "output_type": "execute_result"
    }
   ],
   "source": [
    "df_query[df_query['ID']==2845]"
   ]
  },
  {
   "cell_type": "code",
   "execution_count": 17,
   "id": "a75dd812",
   "metadata": {},
   "outputs": [
    {
     "data": {
      "text/html": [
       "<div>\n",
       "<style scoped>\n",
       "    .dataframe tbody tr th:only-of-type {\n",
       "        vertical-align: middle;\n",
       "    }\n",
       "\n",
       "    .dataframe tbody tr th {\n",
       "        vertical-align: top;\n",
       "    }\n",
       "\n",
       "    .dataframe thead th {\n",
       "        text-align: right;\n",
       "    }\n",
       "</style>\n",
       "<table border=\"1\" class=\"dataframe\">\n",
       "  <thead>\n",
       "    <tr style=\"text-align: right;\">\n",
       "      <th></th>\n",
       "      <th>ID</th>\n",
       "      <th>TEXT</th>\n",
       "      <th>REFERENCE_LIST</th>\n",
       "      <th>PARADIGMATIC</th>\n",
       "      <th>AREA_NAME</th>\n",
       "      <th>AREA_ID_DESCRIPTOR</th>\n",
       "      <th>NORMATIVE_PROCESS_TYPE</th>\n",
       "      <th>NORMATIVE_IDENTIFICATION</th>\n",
       "      <th>NORMATIVE_DATE</th>\n",
       "      <th>NORMATIVE_AUTHOR_TYPE</th>\n",
       "      <th>NORMATIVE_AUTHOR_NAME</th>\n",
       "    </tr>\n",
       "  </thead>\n",
       "  <tbody>\n",
       "    <tr>\n",
       "      <th>0</th>\n",
       "      <td>13568</td>\n",
       "      <td>É ilegal a contagem de tempo ficto de serviço prestado sob a égide da Lei 3.313/1957, proporcion...</td>\n",
       "      <td>Lei Complementar 51/1985 || Lei Ordinária 3313/1957</td>\n",
       "      <td>NaN</td>\n",
       "      <td>Pessoal</td>\n",
       "      <td>1131</td>\n",
       "      <td>APOSENTADORIA</td>\n",
       "      <td>Acórdão 168/2014 - Segunda Câmara</td>\n",
       "      <td>2014-01-28</td>\n",
       "      <td>RELATOR</td>\n",
       "      <td>JOSÉ JORGE</td>\n",
       "    </tr>\n",
       "    <tr>\n",
       "      <th>1</th>\n",
       "      <td>11614</td>\n",
       "      <td>SÚMULA TCU 283: Para fim de habilitação, a Administração Pública não deve exigir dos licitantes ...</td>\n",
       "      <td>NaN</td>\n",
       "      <td>SUMULA</td>\n",
       "      <td>Licitação</td>\n",
       "      <td>932</td>\n",
       "      <td>ADMINISTRATIVO</td>\n",
       "      <td>Acórdão 1613/2013 - Plenário</td>\n",
       "      <td>2013-06-26</td>\n",
       "      <td>RELATOR</td>\n",
       "      <td>JOSÉ JORGE</td>\n",
       "    </tr>\n",
       "    <tr>\n",
       "      <th>2</th>\n",
       "      <td>21087</td>\n",
       "      <td>A contratação de serviços por preços superiores às referências legais (Sinapi e Sicro) deve ser,...</td>\n",
       "      <td>NaN</td>\n",
       "      <td>NaN</td>\n",
       "      <td>Licitação</td>\n",
       "      <td>932</td>\n",
       "      <td>PRESTAÇÃO DE CONTAS</td>\n",
       "      <td>Acórdão 3936/2013 - Segunda Câmara</td>\n",
       "      <td>2013-07-09</td>\n",
       "      <td>RELATOR</td>\n",
       "      <td>ANA ARRAES</td>\n",
       "    </tr>\n",
       "    <tr>\n",
       "      <th>3</th>\n",
       "      <td>35016</td>\n",
       "      <td>Não se aplica, excepcionalmente, multa aos gestores por grave infração à norma legal se a irregu...</td>\n",
       "      <td>NaN</td>\n",
       "      <td>NaN</td>\n",
       "      <td>Responsabilidade</td>\n",
       "      <td>775</td>\n",
       "      <td>REPRESENTAÇÃO</td>\n",
       "      <td>Acórdão 3231/2011 - Plenário</td>\n",
       "      <td>2011-12-07</td>\n",
       "      <td>RELATOR</td>\n",
       "      <td>AROLDO CEDRAZ</td>\n",
       "    </tr>\n",
       "    <tr>\n",
       "      <th>4</th>\n",
       "      <td>29370</td>\n",
       "      <td>Em contratatações de TI, não cabe aceitar propostas de preço com incidência de encargos majorado...</td>\n",
       "      <td>NaN</td>\n",
       "      <td>NaN</td>\n",
       "      <td>Licitação</td>\n",
       "      <td>932</td>\n",
       "      <td>REPRESENTAÇÃO</td>\n",
       "      <td>Acórdão 3231/2011 - Plenário</td>\n",
       "      <td>2011-12-07</td>\n",
       "      <td>RELATOR</td>\n",
       "      <td>AROLDO CEDRAZ</td>\n",
       "    </tr>\n",
       "  </tbody>\n",
       "</table>\n",
       "</div>"
      ],
      "text/plain": [
       "      ID                                                                                                 TEXT                                       REFERENCE_LIST PARADIGMATIC         AREA_NAME  \\\n",
       "0  13568  É ilegal a contagem de tempo ficto de serviço prestado sob a égide da Lei 3.313/1957, proporcion...  Lei Complementar 51/1985 || Lei Ordinária 3313/1957          NaN           Pessoal   \n",
       "1  11614  SÚMULA TCU 283: Para fim de habilitação, a Administração Pública não deve exigir dos licitantes ...                                                  NaN       SUMULA         Licitação   \n",
       "2  21087  A contratação de serviços por preços superiores às referências legais (Sinapi e Sicro) deve ser,...                                                  NaN          NaN         Licitação   \n",
       "3  35016  Não se aplica, excepcionalmente, multa aos gestores por grave infração à norma legal se a irregu...                                                  NaN          NaN  Responsabilidade   \n",
       "4  29370  Em contratatações de TI, não cabe aceitar propostas de preço com incidência de encargos majorado...                                                  NaN          NaN         Licitação   \n",
       "\n",
       "   AREA_ID_DESCRIPTOR NORMATIVE_PROCESS_TYPE            NORMATIVE_IDENTIFICATION NORMATIVE_DATE NORMATIVE_AUTHOR_TYPE NORMATIVE_AUTHOR_NAME  \n",
       "0                1131          APOSENTADORIA   Acórdão 168/2014 - Segunda Câmara     2014-01-28               RELATOR            JOSÉ JORGE  \n",
       "1                 932         ADMINISTRATIVO        Acórdão 1613/2013 - Plenário     2013-06-26               RELATOR            JOSÉ JORGE  \n",
       "2                 932    PRESTAÇÃO DE CONTAS  Acórdão 3936/2013 - Segunda Câmara     2013-07-09               RELATOR            ANA ARRAES  \n",
       "3                 775          REPRESENTAÇÃO        Acórdão 3231/2011 - Plenário     2011-12-07               RELATOR         AROLDO CEDRAZ  \n",
       "4                 932          REPRESENTAÇÃO        Acórdão 3231/2011 - Plenário     2011-12-07               RELATOR         AROLDO CEDRAZ  "
      ]
     },
     "execution_count": 17,
     "metadata": {},
     "output_type": "execute_result"
    }
   ],
   "source": [
    "df_query.head()"
   ]
  },
  {
   "attachments": {},
   "cell_type": "markdown",
   "metadata": {},
   "source": [
    "## Qrel data load"
   ]
  },
  {
   "cell_type": "code",
   "execution_count": 18,
   "id": "1cf03f22",
   "metadata": {},
   "outputs": [],
   "source": [
    "df_qrel = pd.read_csv(PATH_QREL)"
   ]
  },
  {
   "cell_type": "code",
   "execution_count": 19,
   "metadata": {},
   "outputs": [
    {
     "data": {
      "text/plain": [
       "(94809, 3)"
      ]
     },
     "execution_count": 19,
     "metadata": {},
     "output_type": "execute_result"
    }
   ],
   "source": [
    "df_qrel.shape"
   ]
  },
  {
   "cell_type": "code",
   "execution_count": 20,
   "id": "a75dd812",
   "metadata": {},
   "outputs": [
    {
     "data": {
      "text/html": [
       "<div>\n",
       "<style scoped>\n",
       "    .dataframe tbody tr th:only-of-type {\n",
       "        vertical-align: middle;\n",
       "    }\n",
       "\n",
       "    .dataframe tbody tr th {\n",
       "        vertical-align: top;\n",
       "    }\n",
       "\n",
       "    .dataframe thead th {\n",
       "        text-align: right;\n",
       "    }\n",
       "</style>\n",
       "<table border=\"1\" class=\"dataframe\">\n",
       "  <thead>\n",
       "    <tr style=\"text-align: right;\">\n",
       "      <th></th>\n",
       "      <th>ID_QUERY</th>\n",
       "      <th>ID_DOCTO</th>\n",
       "      <th>TYPE</th>\n",
       "    </tr>\n",
       "  </thead>\n",
       "  <tbody>\n",
       "    <tr>\n",
       "      <th>0</th>\n",
       "      <td>158</td>\n",
       "      <td>15147</td>\n",
       "      <td>INDEXACAO_EXTRA</td>\n",
       "    </tr>\n",
       "    <tr>\n",
       "      <th>1</th>\n",
       "      <td>37</td>\n",
       "      <td>15147</td>\n",
       "      <td>INDEXACAO_EXTRA</td>\n",
       "    </tr>\n",
       "    <tr>\n",
       "      <th>2</th>\n",
       "      <td>178</td>\n",
       "      <td>15147</td>\n",
       "      <td>INDEXACAO_EXTRA</td>\n",
       "    </tr>\n",
       "    <tr>\n",
       "      <th>3</th>\n",
       "      <td>14564</td>\n",
       "      <td>15147</td>\n",
       "      <td>INDEXACAO_EXTRA</td>\n",
       "    </tr>\n",
       "    <tr>\n",
       "      <th>4</th>\n",
       "      <td>9219</td>\n",
       "      <td>15147</td>\n",
       "      <td>INDEXACAO_EXTRA</td>\n",
       "    </tr>\n",
       "  </tbody>\n",
       "</table>\n",
       "</div>"
      ],
      "text/plain": [
       "   ID_QUERY  ID_DOCTO             TYPE\n",
       "0       158     15147  INDEXACAO_EXTRA\n",
       "1        37     15147  INDEXACAO_EXTRA\n",
       "2       178     15147  INDEXACAO_EXTRA\n",
       "3     14564     15147  INDEXACAO_EXTRA\n",
       "4      9219     15147  INDEXACAO_EXTRA"
      ]
     },
     "execution_count": 20,
     "metadata": {},
     "output_type": "execute_result"
    }
   ],
   "source": [
    "df_qrel.head()"
   ]
  },
  {
   "cell_type": "code",
   "execution_count": 21,
   "metadata": {},
   "outputs": [
    {
     "data": {
      "text/plain": [
       "94809"
      ]
     },
     "execution_count": 21,
     "metadata": {},
     "output_type": "execute_result"
    }
   ],
   "source": [
    "df_qrel.shape[0]"
   ]
  },
  {
   "cell_type": "code",
   "execution_count": 22,
   "metadata": {},
   "outputs": [],
   "source": [
    "df_search_data = df_query.merge(df_qrel, how='left', left_on='ID', right_on='ID_QUERY').drop('ID_QUERY', axis=1)"
   ]
  },
  {
   "cell_type": "code",
   "execution_count": 23,
   "metadata": {},
   "outputs": [
    {
     "data": {
      "text/plain": [
       "94809"
      ]
     },
     "execution_count": 23,
     "metadata": {},
     "output_type": "execute_result"
    }
   ],
   "source": [
    "df_search_data.shape[0]\n"
   ]
  },
  {
   "cell_type": "code",
   "execution_count": 24,
   "metadata": {},
   "outputs": [],
   "source": [
    "# Agrupar os dados pelo ID e criar a coluna 'RELEVANCE_LIST' com a lista de tuplas\n",
    "# df_new = df_search_data.groupby('ID').apply(lambda x: list(zip(x['ID_DOCTO'], x['TYPE']))).reset_index(name='RELEVANCE_LIST')\n",
    "# df_new['RELEVANCE_LIST'] = df_new['RELEVANCE_LIST'].apply(lambda x: sorted(x, key=lambda tup: ('AREA', 'TEMA', 'SUBTEMA', 'INDEXACAO_EXTRA').index(tup[1])))\n",
    "df_new = df_search_data.groupby('ID').apply(lambda x: dict(zip(x['ID_DOCTO'], x['TYPE']))).reset_index(name='RELEVANCE_DICT')\n"
   ]
  },
  {
   "cell_type": "code",
   "execution_count": 25,
   "metadata": {},
   "outputs": [
    {
     "data": {
      "text/html": [
       "<div>\n",
       "<style scoped>\n",
       "    .dataframe tbody tr th:only-of-type {\n",
       "        vertical-align: middle;\n",
       "    }\n",
       "\n",
       "    .dataframe tbody tr th {\n",
       "        vertical-align: top;\n",
       "    }\n",
       "\n",
       "    .dataframe thead th {\n",
       "        text-align: right;\n",
       "    }\n",
       "</style>\n",
       "<table border=\"1\" class=\"dataframe\">\n",
       "  <thead>\n",
       "    <tr style=\"text-align: right;\">\n",
       "      <th></th>\n",
       "      <th>ID</th>\n",
       "      <th>RELEVANCE_DICT</th>\n",
       "    </tr>\n",
       "  </thead>\n",
       "  <tbody>\n",
       "    <tr>\n",
       "      <th>0</th>\n",
       "      <td>5</td>\n",
       "      <td>{1298: 'INDEXACAO_EXTRA', 15340: 'INDEXACAO_EXTRA', 15961: 'INDEXACAO_EXTRA', 1131: 'AREA', 5106...</td>\n",
       "    </tr>\n",
       "    <tr>\n",
       "      <th>1</th>\n",
       "      <td>6</td>\n",
       "      <td>{207: 'INDEXACAO_EXTRA', 15961: 'INDEXACAO_EXTRA', 1131: 'AREA', 5106: 'SUBTEMA', 1113: 'TEMA'}</td>\n",
       "    </tr>\n",
       "    <tr>\n",
       "      <th>2</th>\n",
       "      <td>7</td>\n",
       "      <td>{108: 'INDEXACAO_EXTRA', 1526: 'TEMA', 1727: 'SUBTEMA', 223: 'INDEXACAO_EXTRA', 650: 'INDEXACAO_...</td>\n",
       "    </tr>\n",
       "    <tr>\n",
       "      <th>3</th>\n",
       "      <td>8</td>\n",
       "      <td>{887: 'SUBTEMA', 92: 'TEMA', 1131: 'AREA', 1100820: 'INDEXACAO_EXTRA'}</td>\n",
       "    </tr>\n",
       "    <tr>\n",
       "      <th>4</th>\n",
       "      <td>9</td>\n",
       "      <td>{1215: 'INDEXACAO_EXTRA', 14715: 'SUBTEMA', 46: 'TEMA', 1480: 'INDEXACAO_EXTRA', 5095: 'AREA'}</td>\n",
       "    </tr>\n",
       "  </tbody>\n",
       "</table>\n",
       "</div>"
      ],
      "text/plain": [
       "   ID                                                                                       RELEVANCE_DICT\n",
       "0   5  {1298: 'INDEXACAO_EXTRA', 15340: 'INDEXACAO_EXTRA', 15961: 'INDEXACAO_EXTRA', 1131: 'AREA', 5106...\n",
       "1   6      {207: 'INDEXACAO_EXTRA', 15961: 'INDEXACAO_EXTRA', 1131: 'AREA', 5106: 'SUBTEMA', 1113: 'TEMA'}\n",
       "2   7  {108: 'INDEXACAO_EXTRA', 1526: 'TEMA', 1727: 'SUBTEMA', 223: 'INDEXACAO_EXTRA', 650: 'INDEXACAO_...\n",
       "3   8                               {887: 'SUBTEMA', 92: 'TEMA', 1131: 'AREA', 1100820: 'INDEXACAO_EXTRA'}\n",
       "4   9       {1215: 'INDEXACAO_EXTRA', 14715: 'SUBTEMA', 46: 'TEMA', 1480: 'INDEXACAO_EXTRA', 5095: 'AREA'}"
      ]
     },
     "execution_count": 25,
     "metadata": {},
     "output_type": "execute_result"
    }
   ],
   "source": [
    "df_new.head()"
   ]
  },
  {
   "cell_type": "code",
   "execution_count": 26,
   "metadata": {},
   "outputs": [],
   "source": [
    "# Unir o resultado com as demais colunas únicas\n",
    "df_new = pd.merge(df_new, df_search_data.drop_duplicates('ID'), on='ID', how='left')"
   ]
  },
  {
   "cell_type": "code",
   "execution_count": 27,
   "metadata": {},
   "outputs": [],
   "source": [
    "\n",
    "# Selecionar as colunas desejadas\n",
    "df_search_data = df_new[['ID', 'TEXT', 'REFERENCE_LIST', 'PARADIGMATIC', 'AREA_NAME', 'AREA_ID_DESCRIPTOR', 'NORMATIVE_PROCESS_TYPE', 'NORMATIVE_IDENTIFICATION', 'NORMATIVE_DATE', 'NORMATIVE_AUTHOR_TYPE', 'NORMATIVE_AUTHOR_NAME', 'RELEVANCE_DICT']]\n"
   ]
  },
  {
   "cell_type": "code",
   "execution_count": 28,
   "metadata": {},
   "outputs": [
    {
     "data": {
      "text/plain": [
       "(16045, 12)"
      ]
     },
     "execution_count": 28,
     "metadata": {},
     "output_type": "execute_result"
    }
   ],
   "source": [
    "df_search_data.shape"
   ]
  },
  {
   "cell_type": "code",
   "execution_count": 29,
   "id": "60e55155",
   "metadata": {},
   "outputs": [],
   "source": [
    "df_search_data = df_search_data.reset_index()"
   ]
  },
  {
   "cell_type": "code",
   "execution_count": 30,
   "metadata": {},
   "outputs": [
    {
     "data": {
      "text/html": [
       "<div>\n",
       "<style scoped>\n",
       "    .dataframe tbody tr th:only-of-type {\n",
       "        vertical-align: middle;\n",
       "    }\n",
       "\n",
       "    .dataframe tbody tr th {\n",
       "        vertical-align: top;\n",
       "    }\n",
       "\n",
       "    .dataframe thead th {\n",
       "        text-align: right;\n",
       "    }\n",
       "</style>\n",
       "<table border=\"1\" class=\"dataframe\">\n",
       "  <thead>\n",
       "    <tr style=\"text-align: right;\">\n",
       "      <th></th>\n",
       "      <th>index</th>\n",
       "      <th>ID</th>\n",
       "      <th>TEXT</th>\n",
       "      <th>REFERENCE_LIST</th>\n",
       "      <th>PARADIGMATIC</th>\n",
       "      <th>AREA_NAME</th>\n",
       "      <th>AREA_ID_DESCRIPTOR</th>\n",
       "      <th>NORMATIVE_PROCESS_TYPE</th>\n",
       "      <th>NORMATIVE_IDENTIFICATION</th>\n",
       "      <th>NORMATIVE_DATE</th>\n",
       "      <th>NORMATIVE_AUTHOR_TYPE</th>\n",
       "      <th>NORMATIVE_AUTHOR_NAME</th>\n",
       "      <th>RELEVANCE_DICT</th>\n",
       "    </tr>\n",
       "  </thead>\n",
       "  <tbody>\n",
       "    <tr>\n",
       "      <th>0</th>\n",
       "      <td>0</td>\n",
       "      <td>5</td>\n",
       "      <td>SÚMULA TCU 1: Não se compreendem como vencimento, para efeito de concessão da pensão especial co...</td>\n",
       "      <td>Lei Ordinária 3738/1960 || Lei Ordinária 1711/1952, art. 184</td>\n",
       "      <td>SUMULA</td>\n",
       "      <td>Pessoal</td>\n",
       "      <td>1131</td>\n",
       "      <td>NaN</td>\n",
       "      <td>Ata 88/1973 - Plenário</td>\n",
       "      <td>1973-12-04</td>\n",
       "      <td>RELATOR</td>\n",
       "      <td>OCTÁVIO GALLOTTI</td>\n",
       "      <td>{1298: 'INDEXACAO_EXTRA', 15340: 'INDEXACAO_EXTRA', 15961: 'INDEXACAO_EXTRA', 1131: 'AREA', 5106...</td>\n",
       "    </tr>\n",
       "    <tr>\n",
       "      <th>1</th>\n",
       "      <td>1</td>\n",
       "      <td>6</td>\n",
       "      <td>SÚMULA TCU 2: Configura-se como vencimento, para efeito da concessão da pensão especial com fund...</td>\n",
       "      <td>Lei Ordinária 3738/1960</td>\n",
       "      <td>SUMULA</td>\n",
       "      <td>Pessoal</td>\n",
       "      <td>1131</td>\n",
       "      <td>NaN</td>\n",
       "      <td>Ata 88/1973 - Plenário</td>\n",
       "      <td>1973-12-04</td>\n",
       "      <td>RELATOR</td>\n",
       "      <td>OCTÁVIO GALLOTTI</td>\n",
       "      <td>{207: 'INDEXACAO_EXTRA', 15961: 'INDEXACAO_EXTRA', 1131: 'AREA', 5106: 'SUBTEMA', 1113: 'TEMA'}</td>\n",
       "    </tr>\n",
       "    <tr>\n",
       "      <th>2</th>\n",
       "      <td>2</td>\n",
       "      <td>7</td>\n",
       "      <td>SÚMULA TCU 3: O arquivamento é a solução indicada para as hipóteses em que as contas de responsá...</td>\n",
       "      <td>NaN</td>\n",
       "      <td>SUMULA</td>\n",
       "      <td>Direito processual</td>\n",
       "      <td>5288</td>\n",
       "      <td>NaN</td>\n",
       "      <td>Ata 88/1973 - Plenário</td>\n",
       "      <td>1973-12-04</td>\n",
       "      <td>RELATOR</td>\n",
       "      <td>OCTÁVIO GALLOTTI</td>\n",
       "      <td>{108: 'INDEXACAO_EXTRA', 1526: 'TEMA', 1727: 'SUBTEMA', 223: 'INDEXACAO_EXTRA', 650: 'INDEXACAO_...</td>\n",
       "    </tr>\n",
       "    <tr>\n",
       "      <th>3</th>\n",
       "      <td>3</td>\n",
       "      <td>8</td>\n",
       "      <td>SÚMULA TCU 4: A reclassificação de cargos não aproveita ao servidor aposentado, a menos que lei ...</td>\n",
       "      <td>NaN</td>\n",
       "      <td>SUMULA</td>\n",
       "      <td>Pessoal</td>\n",
       "      <td>1131</td>\n",
       "      <td>NaN</td>\n",
       "      <td>Ata 88/1973 - Plenário</td>\n",
       "      <td>1973-12-04</td>\n",
       "      <td>RELATOR</td>\n",
       "      <td>OCTÁVIO GALLOTTI</td>\n",
       "      <td>{887: 'SUBTEMA', 92: 'TEMA', 1131: 'AREA', 1100820: 'INDEXACAO_EXTRA'}</td>\n",
       "    </tr>\n",
       "    <tr>\n",
       "      <th>4</th>\n",
       "      <td>4</td>\n",
       "      <td>9</td>\n",
       "      <td>SÚMULA TCU 5 (REVOGADA): As sociedades de economia mista, salvo disposição expressa em lei, não ...</td>\n",
       "      <td>NaN</td>\n",
       "      <td>SUMULA</td>\n",
       "      <td>Competência do TCU</td>\n",
       "      <td>5095</td>\n",
       "      <td>NaN</td>\n",
       "      <td>AC 2082/2007-PL</td>\n",
       "      <td>2007-10-03</td>\n",
       "      <td>RELATOR</td>\n",
       "      <td>UBIRATAN AGUIAR</td>\n",
       "      <td>{1215: 'INDEXACAO_EXTRA', 14715: 'SUBTEMA', 46: 'TEMA', 1480: 'INDEXACAO_EXTRA', 5095: 'AREA'}</td>\n",
       "    </tr>\n",
       "  </tbody>\n",
       "</table>\n",
       "</div>"
      ],
      "text/plain": [
       "   index  ID                                                                                                 TEXT                                                REFERENCE_LIST PARADIGMATIC  \\\n",
       "0      0   5  SÚMULA TCU 1: Não se compreendem como vencimento, para efeito de concessão da pensão especial co...  Lei Ordinária 3738/1960 || Lei Ordinária 1711/1952, art. 184       SUMULA   \n",
       "1      1   6  SÚMULA TCU 2: Configura-se como vencimento, para efeito da concessão da pensão especial com fund...                                       Lei Ordinária 3738/1960       SUMULA   \n",
       "2      2   7  SÚMULA TCU 3: O arquivamento é a solução indicada para as hipóteses em que as contas de responsá...                                                           NaN       SUMULA   \n",
       "3      3   8  SÚMULA TCU 4: A reclassificação de cargos não aproveita ao servidor aposentado, a menos que lei ...                                                           NaN       SUMULA   \n",
       "4      4   9  SÚMULA TCU 5 (REVOGADA): As sociedades de economia mista, salvo disposição expressa em lei, não ...                                                           NaN       SUMULA   \n",
       "\n",
       "            AREA_NAME  AREA_ID_DESCRIPTOR NORMATIVE_PROCESS_TYPE NORMATIVE_IDENTIFICATION NORMATIVE_DATE NORMATIVE_AUTHOR_TYPE NORMATIVE_AUTHOR_NAME  \\\n",
       "0             Pessoal                1131                    NaN   Ata 88/1973 - Plenário     1973-12-04               RELATOR      OCTÁVIO GALLOTTI   \n",
       "1             Pessoal                1131                    NaN   Ata 88/1973 - Plenário     1973-12-04               RELATOR      OCTÁVIO GALLOTTI   \n",
       "2  Direito processual                5288                    NaN   Ata 88/1973 - Plenário     1973-12-04               RELATOR      OCTÁVIO GALLOTTI   \n",
       "3             Pessoal                1131                    NaN   Ata 88/1973 - Plenário     1973-12-04               RELATOR      OCTÁVIO GALLOTTI   \n",
       "4  Competência do TCU                5095                    NaN          AC 2082/2007-PL     2007-10-03               RELATOR       UBIRATAN AGUIAR   \n",
       "\n",
       "                                                                                        RELEVANCE_DICT  \n",
       "0  {1298: 'INDEXACAO_EXTRA', 15340: 'INDEXACAO_EXTRA', 15961: 'INDEXACAO_EXTRA', 1131: 'AREA', 5106...  \n",
       "1      {207: 'INDEXACAO_EXTRA', 15961: 'INDEXACAO_EXTRA', 1131: 'AREA', 5106: 'SUBTEMA', 1113: 'TEMA'}  \n",
       "2  {108: 'INDEXACAO_EXTRA', 1526: 'TEMA', 1727: 'SUBTEMA', 223: 'INDEXACAO_EXTRA', 650: 'INDEXACAO_...  \n",
       "3                               {887: 'SUBTEMA', 92: 'TEMA', 1131: 'AREA', 1100820: 'INDEXACAO_EXTRA'}  \n",
       "4       {1215: 'INDEXACAO_EXTRA', 14715: 'SUBTEMA', 46: 'TEMA', 1480: 'INDEXACAO_EXTRA', 5095: 'AREA'}  "
      ]
     },
     "execution_count": 30,
     "metadata": {},
     "output_type": "execute_result"
    }
   ],
   "source": [
    "df_search_data.head()"
   ]
  },
  {
   "cell_type": "code",
   "execution_count": 31,
   "metadata": {},
   "outputs": [],
   "source": [
    "del df_new"
   ]
  },
  {
   "attachments": {},
   "cell_type": "markdown",
   "metadata": {},
   "source": [
    "# Create reference to index (elastic search)"
   ]
  },
  {
   "attachments": {},
   "cell_type": "markdown",
   "metadata": {},
   "source": [
    "Documentation https://docs.haystack.deepset.ai/docs\n",
    "https://haystack.deepset.ai/tutorials/09_dpr_training \n"
   ]
  },
  {
   "cell_type": "code",
   "execution_count": 32,
   "metadata": {},
   "outputs": [
    {
     "name": "stdout",
     "output_type": "stream",
     "text": [
      "Index: indir_juris_tcu\n",
      "{'health': 'yellow', 'status': 'open', 'index': 'indir_juris_tcu', 'uuid': 'RD_aAWppQH6vjNxKUdL_0w', 'pri': '1', 'rep': '1', 'docs.count': '16045', 'docs.deleted': '16045', 'store.size': '334.9mb', 'pri.store.size': '334.9mb'}\n",
      "\n",
      "Index: indir_juris_tcu_index\n",
      "{'health': 'yellow', 'status': 'open', 'index': 'indir_juris_tcu_index', 'uuid': 'fGjzBrQzRUWTZ6KlnbfLqw', 'pri': '1', 'rep': '1', 'docs.count': '13255', 'docs.deleted': '2755', 'store.size': '294.9mb', 'pri.store.size': '294.9mb'}\n",
      "\n"
     ]
    }
   ],
   "source": [
    "index_dict = util_elastic.return_indexes('indir', parm_print=True)"
   ]
  },
  {
   "cell_type": "code",
   "execution_count": 33,
   "metadata": {},
   "outputs": [
    {
     "data": {
      "text/plain": [
       "{'indir_juris_tcu': {'health': 'yellow',\n",
       "  'status': 'open',\n",
       "  'index': 'indir_juris_tcu',\n",
       "  'uuid': 'RD_aAWppQH6vjNxKUdL_0w',\n",
       "  'pri': '1',\n",
       "  'rep': '1',\n",
       "  'docs.count': '16045',\n",
       "  'docs.deleted': '16045',\n",
       "  'store.size': '334.9mb',\n",
       "  'pri.store.size': '334.9mb'},\n",
       " 'indir_juris_tcu_index': {'health': 'yellow',\n",
       "  'status': 'open',\n",
       "  'index': 'indir_juris_tcu_index',\n",
       "  'uuid': 'fGjzBrQzRUWTZ6KlnbfLqw',\n",
       "  'pri': '1',\n",
       "  'rep': '1',\n",
       "  'docs.count': '13255',\n",
       "  'docs.deleted': '2755',\n",
       "  'store.size': '294.9mb',\n",
       "  'pri.store.size': '294.9mb'}}"
      ]
     },
     "execution_count": 33,
     "metadata": {},
     "output_type": "execute_result"
    }
   ],
   "source": [
    "index_dict"
   ]
  },
  {
   "cell_type": "code",
   "execution_count": 34,
   "metadata": {},
   "outputs": [],
   "source": [
    "INDEX_NAME = 'indir_juris_tcu_index'"
   ]
  },
  {
   "cell_type": "code",
   "execution_count": 35,
   "metadata": {},
   "outputs": [
    {
     "name": "stdout",
     "output_type": "stream",
     "text": [
      "\n",
      "Qtd de documentos 13255\n",
      "\n",
      "Qtd de embeddings 13255\n",
      "\n",
      "Documento.id=5: <Document: id=5, content='O termo é \"Abono de permanência em serviço\".\n",
      "Abono de permanência em serviço tem definição: \"O abono...'>\n"
     ]
    }
   ],
   "source": [
    "index = util_elastic.return_index(parm_index_name=INDEX_NAME)"
   ]
  },
  {
   "attachments": {},
   "cell_type": "markdown",
   "metadata": {},
   "source": [
    "# Pipelines creation"
   ]
  },
  {
   "cell_type": "code",
   "execution_count": 36,
   "metadata": {},
   "outputs": [],
   "source": [
    "pipes = []"
   ]
  },
  {
   "cell_type": "code",
   "execution_count": 37,
   "metadata": {},
   "outputs": [],
   "source": [
    "# Test query\n",
    "# parm_query = \"trata-se de uma denúncia contra o prefeito de Manhuaçu por não haver pago os funcionários da área de limpeza urbana\"\n",
    "parm_query = \"A transferência de documentos da entidade para local impróprio ao armazenamento, causando a perda de informações ou inviabilizando seu manuseio, de forma a impedir a atuação do TCU, é causa de responsabilização do gestor que a ordenou.\""
   ]
  },
  {
   "cell_type": "code",
   "execution_count": 38,
   "metadata": {},
   "outputs": [
    {
     "ename": "Exception",
     "evalue": "Stop execution - create only desired pipelines in code below ",
     "output_type": "error",
     "traceback": [
      "\u001b[0;31m---------------------------------------------------------------------------\u001b[0m",
      "\u001b[0;31mException\u001b[0m                                 Traceback (most recent call last)",
      "\u001b[0;32m/tmp/ipykernel_765262/2302163279.py\u001b[0m in \u001b[0;36m<module>\u001b[0;34m\u001b[0m\n\u001b[0;32m----> 1\u001b[0;31m \u001b[0;32mraise\u001b[0m \u001b[0mException\u001b[0m \u001b[0;34m(\u001b[0m\u001b[0;34m'Stop execution - create only desired pipelines in code below '\u001b[0m\u001b[0;34m)\u001b[0m\u001b[0;34m\u001b[0m\u001b[0;34m\u001b[0m\u001b[0m\n\u001b[0m",
      "\u001b[0;31mException\u001b[0m: Stop execution - create only desired pipelines in code below "
     ]
    }
   ],
   "source": [
    "raise Exception ('Stop execution - create only desired pipelines in code below ')"
   ]
  },
  {
   "cell_type": "code",
   "execution_count": null,
   "metadata": {},
   "outputs": [
    {
     "data": {
      "text/plain": [
       "<module 'util.util_pipeline' from '/home/borela/fontes/ind-ir/code/util/util_pipeline.py'>"
      ]
     },
     "execution_count": 84,
     "metadata": {},
     "output_type": "execute_result"
    }
   ],
   "source": [
    "importlib.reload(util_pipeline)"
   ]
  },
  {
   "attachments": {},
   "cell_type": "markdown",
   "metadata": {},
   "source": [
    "pype_type: it will be the sufix of file name as we can generate train dataset with different pipelines\n"
   ]
  },
  {
   "cell_type": "code",
   "execution_count": 56,
   "metadata": {},
   "outputs": [
    {
     "name": "stdout",
     "output_type": "stream",
     "text": [
      "CPU times: user 39.6 s, sys: 8.93 s, total: 48.5 s\n",
      "Wall time: 55.6 s\n"
     ]
    }
   ],
   "source": [
    "%%time\n",
    "pipe = util_pipeline.return_pipeline_join_bm25_sts_reranker(index, 'MONOT5', parm_limit_query_size=350)\n",
    "pipe_type = 'join_sts_bm25_ranker_monot5_3b'"
   ]
  },
  {
   "cell_type": "code",
   "execution_count": 57,
   "metadata": {},
   "outputs": [
    {
     "name": "stdout",
     "output_type": "stream",
     "text": [
      "CPU times: user 829 ms, sys: 247 ms, total: 1.08 s\n",
      "Wall time: 1.13 s\n"
     ]
    }
   ],
   "source": [
    "%%time\n",
    "doc_returned = pipe.run(query=parm_query, \n",
    " params={\"Bm25Retriever\": {\"top_k\": 10},\n",
    "         \"StsRetriever\": {\"top_k\": 10},\n",
    "         \"filters\":{\"$and\": {\"count_index_area\": {\"$gte\": 1},\n",
    "                             \"$not\": {\"id\": {\"$in\": [1131, 342]}}\n",
    "                            }}})\n"
   ]
  },
  {
   "cell_type": "code",
   "execution_count": null,
   "metadata": {},
   "outputs": [
    {
     "name": "stdout",
     "output_type": "stream",
     "text": [
      "Parâmetros usados: {'Bm25Retriever': {'top_k': 150}, 'StsRetriever': {'top_k': 150}, 'filters': {'$and': {'count_index_area': {'$gte': 1}, '$not': {'id': {'$in': [1131, 342]}}}}}\n",
      "Consulta: A transferência de documentos da entidade para local impróprio ao armazenamento, causando a perda de informações ou inviabilizando seu manuseio, de forma a impedir a atuação do TCU, é causa de responsabilização do gestor que a ordenou.\n",
      "Qtd documentos retornados: 8\n",
      "Primeiro docto:\n",
      "<Document: id=5095, content='O termo é \"Competência do TCU\". Competência do TCU tem definição: \"São as seguintes as competências ...'>\n",
      "\n",
      "Último (8):\n",
      "<Document: id=414, content='O termo é \"Desestatização\".\n",
      "Desestatização tem definição: \"É a retirada da presença do Estado de ati...'>\n",
      "Seguem os nomes dos termos recuperados em ordem de score\n",
      "0 : ['Competência do TCU', '5095', -1.4214444160461426]\n",
      "1 : ['Responsabilidade', '775', -2.1346242427825928]\n",
      "2 : ['Finanças públicas', '629', -4.974789142608643]\n",
      "3 : ['Gestão administrativa', '15273', -5.546308994293213]\n",
      "4 : ['Contrato administrativo', '331', -5.718947887420654]\n",
      "5 : ['Direito processual', '5288', -6.2358551025390625]\n",
      "6 : ['Licitação', '932', -6.426429748535156]\n",
      "7 : ['Desestatização', '414', -6.762948513031006]\n"
     ]
    }
   ],
   "source": [
    "util_pipeline.detail_document_found(doc_returned, parm_num_doc=15)"
   ]
  },
  {
   "cell_type": "code",
   "execution_count": 39,
   "metadata": {},
   "outputs": [
    {
     "name": "stdout",
     "output_type": "stream",
     "text": [
      "CPU times: user 664 µs, sys: 0 ns, total: 664 µs\n",
      "Wall time: 662 µs\n"
     ]
    }
   ],
   "source": [
    "%%time\n",
    "pipe = util_pipeline.return_pipeline_bm25(index)\n",
    "pipe_type = 'bm25'"
   ]
  },
  {
   "cell_type": "code",
   "execution_count": 40,
   "metadata": {},
   "outputs": [
    {
     "name": "stdout",
     "output_type": "stream",
     "text": [
      "CPU times: user 1.92 ms, sys: 0 ns, total: 1.92 ms\n",
      "Wall time: 8.56 ms\n"
     ]
    }
   ],
   "source": [
    "%%time\n",
    "doc_returned = pipe.run(query=parm_query, \n",
    " params={\"Retriever\": {\"top_k\": 150}, \n",
    "         \"filters\":{\"$and\": {\"count_index_area\": {\"$gte\": 1},\n",
    "                             \"$not\": {\"id\": {\"$in\": [1131, 342]}}\n",
    "                            }}})\n"
   ]
  },
  {
   "cell_type": "code",
   "execution_count": 41,
   "metadata": {},
   "outputs": [
    {
     "name": "stdout",
     "output_type": "stream",
     "text": [
      "Parâmetros usados: {'Retriever': {'top_k': 150}, 'filters': {'$and': {'count_index_area': {'$gte': 1}, '$not': {'id': {'$in': [1131, 342]}}}}}\n",
      "Consulta: A transferência de documentos da entidade para local impróprio ao armazenamento, causando a perda de informações ou inviabilizando seu manuseio, de forma a impedir a atuação do TCU, é causa de responsabilização do gestor que a ordenou.\n",
      "Qtd documentos retornados: 8\n",
      "Primeiro docto:\n",
      "<Document: id=5095, content='O termo é \"Competência do TCU\".\n",
      "Competência do TCU tem definição: \"São as seguintes as competências ...'>\n",
      "\n",
      "Último (8):\n",
      "<Document: id=775, content='O termo é \"Responsabilidade\".\n",
      "Responsabilidade tem definição: \"Qualidade de quem responde pelos próp...'>\n",
      "Seguem os nomes dos termos recuperados em ordem de score\n",
      "0 : ['Competência do TCU', '5095', 0.981022770821533]\n",
      "1 : ['Desestatização', '414', 0.9236313236529244]\n",
      "2 : ['Gestão administrativa', '15273', 0.8770019134030279]\n",
      "3 : ['Contrato administrativo', '331', 0.8510101027285571]\n",
      "4 : ['Direito processual', '5288', 0.8509128430085866]\n",
      "5 : ['Finanças públicas', '629', 0.8506715526604577]\n",
      "6 : ['Licitação', '932', 0.7921360288893895]\n",
      "7 : ['Responsabilidade', '775', 0.6842516745750857]\n"
     ]
    }
   ],
   "source": [
    "util_pipeline.detail_document_found(doc_returned, parm_num_doc=15)"
   ]
  },
  {
   "cell_type": "code",
   "execution_count": null,
   "metadata": {},
   "outputs": [
    {
     "data": {
      "text/plain": [
       "('1102005', 1102005, 'Plano de contratações', 0.9856848798183901)"
      ]
     },
     "execution_count": 45,
     "metadata": {},
     "output_type": "execute_result"
    }
   ],
   "source": [
    "doc_returned['documents'][0].id,  doc_returned['documents'][0].meta['id'],doc_returned['documents'][0].meta['name'], doc_returned['documents'][0].score"
   ]
  },
  {
   "cell_type": "code",
   "execution_count": null,
   "metadata": {},
   "outputs": [
    {
     "data": {
      "text/plain": [
       "dict_keys(['has_scope_note', 'text_scope_note', 'text_example', 'text_specialization', 'text_synonym', 'has_english_translation', 'has_spanish_translation', 'num_word', 'count_index_subtheme', 'has_specialization', 'count_index_area', 'text_definition', 'has_related_term', 'has_generalization', 'class', 'text_spanish_translation', 'text_related_term', 'has_synonym', 'num_tokens_monot5_3b', 'date_reference', 'has_example', 'has_definition', 'count_index_theme', 'len_text_char_log', 'num_tokens_minilm', 'count_index_total', 'len_text_char', 'text_english_translation', 'text_generalization', 'count_index_extra', 'name'])"
      ]
     },
     "execution_count": 77,
     "metadata": {},
     "output_type": "execute_result"
    }
   ],
   "source": [
    "doc_returned['documents'][0].meta.keys()"
   ]
  },
  {
   "attachments": {},
   "cell_type": "markdown",
   "metadata": {},
   "source": [
    "# Experiments"
   ]
  },
  {
   "cell_type": "code",
   "execution_count": null,
   "metadata": {},
   "outputs": [
    {
     "data": {
      "text/html": [
       "<div>\n",
       "<style scoped>\n",
       "    .dataframe tbody tr th:only-of-type {\n",
       "        vertical-align: middle;\n",
       "    }\n",
       "\n",
       "    .dataframe tbody tr th {\n",
       "        vertical-align: top;\n",
       "    }\n",
       "\n",
       "    .dataframe thead th {\n",
       "        text-align: right;\n",
       "    }\n",
       "</style>\n",
       "<table border=\"1\" class=\"dataframe\">\n",
       "  <thead>\n",
       "    <tr style=\"text-align: right;\">\n",
       "      <th></th>\n",
       "      <th>index</th>\n",
       "      <th>ID</th>\n",
       "      <th>TEXT</th>\n",
       "      <th>REFERENCE_LIST</th>\n",
       "      <th>PARADIGMATIC</th>\n",
       "      <th>AREA_NAME</th>\n",
       "      <th>AREA_ID_DESCRIPTOR</th>\n",
       "      <th>NORMATIVE_PROCESS_TYPE</th>\n",
       "      <th>NORMATIVE_IDENTIFICATION</th>\n",
       "      <th>NORMATIVE_DATE</th>\n",
       "      <th>NORMATIVE_AUTHOR_TYPE</th>\n",
       "      <th>NORMATIVE_AUTHOR_NAME</th>\n",
       "      <th>RELEVANCE_DICT</th>\n",
       "    </tr>\n",
       "  </thead>\n",
       "  <tbody>\n",
       "    <tr>\n",
       "      <th>0</th>\n",
       "      <td>0</td>\n",
       "      <td>5</td>\n",
       "      <td>SÚMULA TCU 1: Não se compreendem como vencimento, para efeito de concessão da pensão especial co...</td>\n",
       "      <td>Lei Ordinária 3738/1960 || Lei Ordinária 1711/1952, art. 184</td>\n",
       "      <td>SUMULA</td>\n",
       "      <td>Pessoal</td>\n",
       "      <td>1131</td>\n",
       "      <td>NaN</td>\n",
       "      <td>Ata 88/1973 - Plenário</td>\n",
       "      <td>1973-12-04</td>\n",
       "      <td>RELATOR</td>\n",
       "      <td>OCTÁVIO GALLOTTI</td>\n",
       "      <td>{1298: 'INDEXACAO_EXTRA', 15340: 'INDEXACAO_EXTRA', 15961: 'INDEXACAO_EXTRA', 1131: 'AREA', 5106...</td>\n",
       "    </tr>\n",
       "    <tr>\n",
       "      <th>1</th>\n",
       "      <td>1</td>\n",
       "      <td>6</td>\n",
       "      <td>SÚMULA TCU 2: Configura-se como vencimento, para efeito da concessão da pensão especial com fund...</td>\n",
       "      <td>Lei Ordinária 3738/1960</td>\n",
       "      <td>SUMULA</td>\n",
       "      <td>Pessoal</td>\n",
       "      <td>1131</td>\n",
       "      <td>NaN</td>\n",
       "      <td>Ata 88/1973 - Plenário</td>\n",
       "      <td>1973-12-04</td>\n",
       "      <td>RELATOR</td>\n",
       "      <td>OCTÁVIO GALLOTTI</td>\n",
       "      <td>{207: 'INDEXACAO_EXTRA', 15961: 'INDEXACAO_EXTRA', 1131: 'AREA', 5106: 'SUBTEMA', 1113: 'TEMA'}</td>\n",
       "    </tr>\n",
       "    <tr>\n",
       "      <th>2</th>\n",
       "      <td>2</td>\n",
       "      <td>7</td>\n",
       "      <td>SÚMULA TCU 3: O arquivamento é a solução indicada para as hipóteses em que as contas de responsá...</td>\n",
       "      <td>NaN</td>\n",
       "      <td>SUMULA</td>\n",
       "      <td>Direito processual</td>\n",
       "      <td>5288</td>\n",
       "      <td>NaN</td>\n",
       "      <td>Ata 88/1973 - Plenário</td>\n",
       "      <td>1973-12-04</td>\n",
       "      <td>RELATOR</td>\n",
       "      <td>OCTÁVIO GALLOTTI</td>\n",
       "      <td>{108: 'INDEXACAO_EXTRA', 1526: 'TEMA', 1727: 'SUBTEMA', 223: 'INDEXACAO_EXTRA', 650: 'INDEXACAO_...</td>\n",
       "    </tr>\n",
       "    <tr>\n",
       "      <th>3</th>\n",
       "      <td>3</td>\n",
       "      <td>8</td>\n",
       "      <td>SÚMULA TCU 4: A reclassificação de cargos não aproveita ao servidor aposentado, a menos que lei ...</td>\n",
       "      <td>NaN</td>\n",
       "      <td>SUMULA</td>\n",
       "      <td>Pessoal</td>\n",
       "      <td>1131</td>\n",
       "      <td>NaN</td>\n",
       "      <td>Ata 88/1973 - Plenário</td>\n",
       "      <td>1973-12-04</td>\n",
       "      <td>RELATOR</td>\n",
       "      <td>OCTÁVIO GALLOTTI</td>\n",
       "      <td>{887: 'SUBTEMA', 92: 'TEMA', 1131: 'AREA', 1100820: 'INDEXACAO_EXTRA'}</td>\n",
       "    </tr>\n",
       "    <tr>\n",
       "      <th>4</th>\n",
       "      <td>4</td>\n",
       "      <td>9</td>\n",
       "      <td>SÚMULA TCU 5 (REVOGADA): As sociedades de economia mista, salvo disposição expressa em lei, não ...</td>\n",
       "      <td>NaN</td>\n",
       "      <td>SUMULA</td>\n",
       "      <td>Competência do TCU</td>\n",
       "      <td>5095</td>\n",
       "      <td>NaN</td>\n",
       "      <td>AC 2082/2007-PL</td>\n",
       "      <td>2007-10-03</td>\n",
       "      <td>RELATOR</td>\n",
       "      <td>UBIRATAN AGUIAR</td>\n",
       "      <td>{1215: 'INDEXACAO_EXTRA', 14715: 'SUBTEMA', 46: 'TEMA', 1480: 'INDEXACAO_EXTRA', 5095: 'AREA'}</td>\n",
       "    </tr>\n",
       "  </tbody>\n",
       "</table>\n",
       "</div>"
      ],
      "text/plain": [
       "   index  ID                                                                                                 TEXT                                                REFERENCE_LIST PARADIGMATIC  \\\n",
       "0      0   5  SÚMULA TCU 1: Não se compreendem como vencimento, para efeito de concessão da pensão especial co...  Lei Ordinária 3738/1960 || Lei Ordinária 1711/1952, art. 184       SUMULA   \n",
       "1      1   6  SÚMULA TCU 2: Configura-se como vencimento, para efeito da concessão da pensão especial com fund...                                       Lei Ordinária 3738/1960       SUMULA   \n",
       "2      2   7  SÚMULA TCU 3: O arquivamento é a solução indicada para as hipóteses em que as contas de responsá...                                                           NaN       SUMULA   \n",
       "3      3   8  SÚMULA TCU 4: A reclassificação de cargos não aproveita ao servidor aposentado, a menos que lei ...                                                           NaN       SUMULA   \n",
       "4      4   9  SÚMULA TCU 5 (REVOGADA): As sociedades de economia mista, salvo disposição expressa em lei, não ...                                                           NaN       SUMULA   \n",
       "\n",
       "            AREA_NAME  AREA_ID_DESCRIPTOR NORMATIVE_PROCESS_TYPE NORMATIVE_IDENTIFICATION NORMATIVE_DATE NORMATIVE_AUTHOR_TYPE NORMATIVE_AUTHOR_NAME  \\\n",
       "0             Pessoal                1131                    NaN   Ata 88/1973 - Plenário     1973-12-04               RELATOR      OCTÁVIO GALLOTTI   \n",
       "1             Pessoal                1131                    NaN   Ata 88/1973 - Plenário     1973-12-04               RELATOR      OCTÁVIO GALLOTTI   \n",
       "2  Direito processual                5288                    NaN   Ata 88/1973 - Plenário     1973-12-04               RELATOR      OCTÁVIO GALLOTTI   \n",
       "3             Pessoal                1131                    NaN   Ata 88/1973 - Plenário     1973-12-04               RELATOR      OCTÁVIO GALLOTTI   \n",
       "4  Competência do TCU                5095                    NaN          AC 2082/2007-PL     2007-10-03               RELATOR       UBIRATAN AGUIAR   \n",
       "\n",
       "                                                                                        RELEVANCE_DICT  \n",
       "0  {1298: 'INDEXACAO_EXTRA', 15340: 'INDEXACAO_EXTRA', 15961: 'INDEXACAO_EXTRA', 1131: 'AREA', 5106...  \n",
       "1      {207: 'INDEXACAO_EXTRA', 15961: 'INDEXACAO_EXTRA', 1131: 'AREA', 5106: 'SUBTEMA', 1113: 'TEMA'}  \n",
       "2  {108: 'INDEXACAO_EXTRA', 1526: 'TEMA', 1727: 'SUBTEMA', 223: 'INDEXACAO_EXTRA', 650: 'INDEXACAO_...  \n",
       "3                               {887: 'SUBTEMA', 92: 'TEMA', 1131: 'AREA', 1100820: 'INDEXACAO_EXTRA'}  \n",
       "4       {1215: 'INDEXACAO_EXTRA', 14715: 'SUBTEMA', 46: 'TEMA', 1480: 'INDEXACAO_EXTRA', 5095: 'AREA'}  "
      ]
     },
     "execution_count": 59,
     "metadata": {},
     "output_type": "execute_result"
    }
   ],
   "source": [
    "df_search_data.head()"
   ]
  },
  {
   "cell_type": "code",
   "execution_count": null,
   "metadata": {},
   "outputs": [],
   "source": [
    "query_data = df_search_data.iloc[0]"
   ]
  },
  {
   "cell_type": "code",
   "execution_count": null,
   "metadata": {},
   "outputs": [
    {
     "data": {
      "text/plain": [
       "('SÚMULA TCU 1: Não se compreendem como vencimento, para efeito de concessão da pensão especial com fundamento na Lei nº 3.738, de 04/04/60, as vantagens previstas no art. 184 da Lei nº 1.711, de 28/10/52.',\n",
       " {1298: 'INDEXACAO_EXTRA',\n",
       "  15340: 'INDEXACAO_EXTRA',\n",
       "  15961: 'INDEXACAO_EXTRA',\n",
       "  1131: 'AREA',\n",
       "  5106: 'SUBTEMA',\n",
       "  1113: 'TEMA'})"
      ]
     },
     "execution_count": 59,
     "metadata": {},
     "output_type": "execute_result"
    }
   ],
   "source": [
    "query_data['TEXT'], query_data['RELEVANCE_DICT']"
   ]
  },
  {
   "cell_type": "code",
   "execution_count": null,
   "metadata": {},
   "outputs": [
    {
     "data": {
      "text/plain": [
       "[1298, 15340, 15961, 1131, 5106, 1113]"
      ]
     },
     "execution_count": 61,
     "metadata": {},
     "output_type": "execute_result"
    }
   ],
   "source": [
    "list(query_data['RELEVANCE_DICT'].keys())"
   ]
  },
  {
   "cell_type": "code",
   "execution_count": null,
   "metadata": {},
   "outputs": [
    {
     "name": "stdout",
     "output_type": "stream",
     "text": [
      "CPU times: user 2.15 ms, sys: 0 ns, total: 2.15 ms\n",
      "Wall time: 11.8 ms\n"
     ]
    }
   ],
   "source": [
    "%%time\n",
    "doc_returned = pipe.run(query=query_data['TEXT'], \n",
    " params={\"Retriever\": {\"top_k\": 150}, \"filters\":{\"count_index_area\": {\"$gte\": 1}}})\n"
   ]
  },
  {
   "cell_type": "code",
   "execution_count": null,
   "metadata": {},
   "outputs": [
    {
     "name": "stdout",
     "output_type": "stream",
     "text": [
      "CPU times: user 2.46 ms, sys: 0 ns, total: 2.46 ms\n",
      "Wall time: 7.59 ms\n"
     ]
    }
   ],
   "source": [
    "%%time\n",
    "doc_returned = pipe.run(query=parm_query, \n",
    " params={\"Retriever\": {\"top_k\": 150}, \n",
    "         \"filters\":{\"$and\": {\"count_index_area\": {\"$gte\": 1},\n",
    "                             \"$not\": {\"id\": {\"$in\": list(query_data['RELEVANCE_DICT'].keys())}}\n",
    "                            }}})"
   ]
  },
  {
   "cell_type": "code",
   "execution_count": null,
   "metadata": {},
   "outputs": [
    {
     "name": "stdout",
     "output_type": "stream",
     "text": [
      "Parâmetros usados: {'Retriever': {'top_k': 150}, 'filters': {'$and': {'count_index_area': {'$gte': 1}, '$not': {'id': {'$in': [1298, 15340, 15961, 1131, 5106, 1113]}}}}}\n",
      "Consulta: A transferência de documentos da entidade para local impróprio ao armazenamento, causando a perda de informações ou inviabilizando seu manuseio, de forma a impedir a atuação do TCU, é causa de responsabilização do gestor que a ordenou.\n",
      "Qtd documentos retornados: 9\n",
      "Primeiro docto:\n",
      "<Document: id=5095, content='O termo é \"Competência do TCU\".\n",
      "Competência do TCU tem definição: \"São as seguintes as competências ...'>\n",
      "\n",
      "Último (9):\n",
      "<Document: id=775, content='O termo é \"Responsabilidade\".\n",
      "Responsabilidade tem definição: \"Qualidade de quem responde pelos próp...'>\n",
      "Seguem os nomes dos termos recuperados em ordem de score\n",
      "0 : ['Competência do TCU', '5095', 0.9849794090993254]\n",
      "1 : ['Desestatização', '414', 0.9400033944545403]\n",
      "2 : ['Gestão administrativa', '15273', 0.8990803951959326]\n",
      "3 : ['Convênio', '342', 0.8861608632889919]\n",
      "4 : ['Direito processual', '5288', 0.8784044886327839]\n",
      "5 : ['Contrato administrativo', '331', 0.8757809744003026]\n",
      "6 : ['Finanças públicas', '629', 0.8679995511966849]\n",
      "7 : ['Licitação', '932', 0.8167772817091711]\n",
      "8 : ['Responsabilidade', '775', 0.7074377007952513]\n"
     ]
    }
   ],
   "source": [
    "util_pipeline.detail_document_found(doc_returned, parm_num_doc=15)"
   ]
  },
  {
   "attachments": {},
   "cell_type": "markdown",
   "metadata": {},
   "source": [
    "# Generate train data"
   ]
  },
  {
   "cell_type": "code",
   "execution_count": 44,
   "metadata": {},
   "outputs": [],
   "source": [
    "# Function to invert keys and values keeping a list of keys for each value\n",
    "def invert_dict_with_lists(d):\n",
    "    inverted_dict = defaultdict(list)\n",
    "    for k, v in d.items():\n",
    "        inverted_dict[v].append(k)\n",
    "    return dict(inverted_dict)"
   ]
  },
  {
   "cell_type": "code",
   "execution_count": 45,
   "metadata": {},
   "outputs": [],
   "source": [
    "df_search_data['RELEVANCE_DICT_TYPE'] = df_search_data['RELEVANCE_DICT'].apply(invert_dict_with_lists)"
   ]
  },
  {
   "attachments": {},
   "cell_type": "markdown",
   "metadata": {},
   "source": [
    "Bm25 \n",
    "\n",
    "        100%|██████████| 16045/16045 [08:42<00:00, 30.70it/s]CPU times: user 2min 25s, sys: 2.83 s, total: 2min 28s\n",
    "        Wall time: 8min 42s"
   ]
  },
  {
   "cell_type": "code",
   "execution_count": 60,
   "metadata": {},
   "outputs": [
    {
     "name": "stderr",
     "output_type": "stream",
     "text": [
      "100%|██████████| 16045/16045 [33:08:51<00:00,  7.44s/it]   "
     ]
    },
    {
     "name": "stdout",
     "output_type": "stream",
     "text": [
      "CPU times: user 20h 6min 27s, sys: 12h 37min 47s, total: 1d 8h 44min 14s\n",
      "Wall time: 1d 9h 8min 51s\n"
     ]
    },
    {
     "name": "stderr",
     "output_type": "stream",
     "text": [
      "\n"
     ]
    }
   ],
   "source": [
    "%%time\n",
    "max_count_negative = 2\n",
    "list_train_data = []\n",
    "for cnt_row, (ndx, row_query) in tqdm(enumerate(df_search_data.iterrows()), mininterval=10, total=df_search_data.shape[0]):\n",
    "    # print(f\"cnt {cnt} query_id {row_query['ID']} \")\n",
    "    set_not_relevant = set()\n",
    "    list_not_in_docid = list(row_query['RELEVANCE_DICT'].keys())\n",
    "    for type_relevance in ['AREA', 'TEMA', 'SUBTEMA', 'INDEXACAO_EXTRA']:\n",
    "        if type_relevance in row_query['RELEVANCE_DICT_TYPE']: # INDEXACAO_EXTRA pode não existir\n",
    "            for cnt_doc_in_type, doc_id in enumerate(row_query['RELEVANCE_DICT_TYPE'][type_relevance]):\n",
    "                relevant_data = (row_query['ID'], doc_id, 1, type_relevance)\n",
    "                # print(f\"     {relevant_data}\")\n",
    "                list_train_data.append(relevant_data)\n",
    "                # Encontra primeiro encontrado para não relevante    \n",
    "                if type_relevance == 'AREA':\n",
    "                    type_field_count = \"count_index_area\"\n",
    "                elif type_relevance == 'TEMA':\n",
    "                    type_field_count = \"count_index_theme\"\n",
    "                elif type_relevance == 'SUBTEMA':\n",
    "                    type_field_count = \"count_index_subtheme\"\n",
    "                elif type_relevance == 'INDEXACAO_EXTRA':\n",
    "                    type_field_count = \"count_index_extra\"\n",
    "                else:\n",
    "                    raise Exception(f\"type_relevance {type_relevance} not expected!\")     \n",
    "                doc_returned = pipe.run(query=row_query['TEXT'], \n",
    "                                    # params={\"Retriever\": {\"top_k\": max_count_negative}, # extra may have 9 values\n",
    "                                    params={\"Bm25Retriever\": {\"top_k\": max_count_negative*5},\n",
    "                                            \"StsRetriever\": {\"top_k\": max_count_negative*5},\n",
    "                                            \"filters\":{\"$and\": {type_field_count: {\"$gte\": 1},\n",
    "                                            \"$not\": {\"id\": {\"$in\": list_not_in_docid}}\n",
    "                                            }}})\n",
    "                if len(doc_returned['documents']) == 0:\n",
    "                    raise Exception(f\"Not found negative examples!\")\n",
    "                count_negative = 0\n",
    "                for ndx, docto in enumerate(doc_returned['documents']):\n",
    "                    if count_negative >= max_count_negative:\n",
    "                        break   \n",
    "                    if docto.meta['id'] not in set_not_relevant:\n",
    "                        count_negative += 1\n",
    "                        set_not_relevant.add(docto.meta['id'])\n",
    "                        list_not_in_docid.append(docto.meta['id'])\n",
    "                        not_relevant_data = (row_query['ID'], docto.meta['id'], 0, type_relevance)\n",
    "                        # print(f\"     {not_relevant_data}\")                    \n",
    "                        list_train_data.append(not_relevant_data)\n",
    "                if count_negative < max_count_negative:\n",
    "                    print(f\"Less negative {count_negative} than {max_count_negative} for query_id {row_query['ID']} in {type_relevance}\")\n",
    "    # if cnt_row > 2: break\n",
    "\n"
   ]
  },
  {
   "cell_type": "code",
   "execution_count": 61,
   "metadata": {},
   "outputs": [],
   "source": [
    "df = pd.DataFrame(list_train_data, columns= ['QUERY_ID', 'DOC_ID', 'RELEVANCE', 'TYPE_RELEVANCE'])"
   ]
  },
  {
   "cell_type": "code",
   "execution_count": 62,
   "metadata": {},
   "outputs": [
    {
     "data": {
      "text/plain": [
       "(284376, 4)"
      ]
     },
     "execution_count": 62,
     "metadata": {},
     "output_type": "execute_result"
    }
   ],
   "source": [
    "df.shape\n",
    "# bm25 (284376, 4)"
   ]
  },
  {
   "cell_type": "code",
   "execution_count": 63,
   "metadata": {},
   "outputs": [
    {
     "data": {
      "text/html": [
       "<div>\n",
       "<style scoped>\n",
       "    .dataframe tbody tr th:only-of-type {\n",
       "        vertical-align: middle;\n",
       "    }\n",
       "\n",
       "    .dataframe tbody tr th {\n",
       "        vertical-align: top;\n",
       "    }\n",
       "\n",
       "    .dataframe thead th {\n",
       "        text-align: right;\n",
       "    }\n",
       "</style>\n",
       "<table border=\"1\" class=\"dataframe\">\n",
       "  <thead>\n",
       "    <tr style=\"text-align: right;\">\n",
       "      <th></th>\n",
       "      <th>QUERY_ID</th>\n",
       "      <th>DOC_ID</th>\n",
       "      <th>RELEVANCE</th>\n",
       "      <th>TYPE_RELEVANCE</th>\n",
       "    </tr>\n",
       "  </thead>\n",
       "  <tbody>\n",
       "    <tr>\n",
       "      <th>0</th>\n",
       "      <td>5</td>\n",
       "      <td>1131</td>\n",
       "      <td>1</td>\n",
       "      <td>AREA</td>\n",
       "    </tr>\n",
       "    <tr>\n",
       "      <th>1</th>\n",
       "      <td>5</td>\n",
       "      <td>5095</td>\n",
       "      <td>0</td>\n",
       "      <td>AREA</td>\n",
       "    </tr>\n",
       "    <tr>\n",
       "      <th>2</th>\n",
       "      <td>5</td>\n",
       "      <td>775</td>\n",
       "      <td>0</td>\n",
       "      <td>AREA</td>\n",
       "    </tr>\n",
       "    <tr>\n",
       "      <th>3</th>\n",
       "      <td>5</td>\n",
       "      <td>1113</td>\n",
       "      <td>1</td>\n",
       "      <td>TEMA</td>\n",
       "    </tr>\n",
       "    <tr>\n",
       "      <th>4</th>\n",
       "      <td>5</td>\n",
       "      <td>14871</td>\n",
       "      <td>0</td>\n",
       "      <td>TEMA</td>\n",
       "    </tr>\n",
       "  </tbody>\n",
       "</table>\n",
       "</div>"
      ],
      "text/plain": [
       "   QUERY_ID  DOC_ID  RELEVANCE TYPE_RELEVANCE\n",
       "0         5    1131          1           AREA\n",
       "1         5    5095          0           AREA\n",
       "2         5     775          0           AREA\n",
       "3         5    1113          1           TEMA\n",
       "4         5   14871          0           TEMA"
      ]
     },
     "execution_count": 63,
     "metadata": {},
     "output_type": "execute_result"
    }
   ],
   "source": [
    "df.head()"
   ]
  },
  {
   "cell_type": "code",
   "execution_count": 64,
   "metadata": {},
   "outputs": [
    {
     "data": {
      "text/plain": [
       "'join_sts_bm25_ranker_monot5_3b'"
      ]
     },
     "execution_count": 64,
     "metadata": {},
     "output_type": "execute_result"
    }
   ],
   "source": [
    "pipe_type"
   ]
  },
  {
   "cell_type": "code",
   "execution_count": 65,
   "metadata": {},
   "outputs": [],
   "source": [
    "path_thain =  f'../data/train_juris_tcu_index/train_data_juris_tcu_index_{pipe_type}.csv'"
   ]
  },
  {
   "cell_type": "code",
   "execution_count": 66,
   "metadata": {},
   "outputs": [],
   "source": [
    "df.to_csv(path_thain, sep=',', index=False)"
   ]
  },
  {
   "attachments": {},
   "cell_type": "markdown",
   "metadata": {},
   "source": [
    "# Concatenate texts"
   ]
  },
  {
   "cell_type": "code",
   "execution_count": null,
   "metadata": {
    "id": "hUm-kyDBEHEL"
   },
   "outputs": [],
   "source": [
    "PATH_LOCAL_DATA = '../../data/juris_tcu_index'"
   ]
  },
  {
   "cell_type": "code",
   "execution_count": null,
   "metadata": {
    "id": "CeCwf-DXG7l9"
   },
   "outputs": [],
   "source": [
    "PATH_QUERY_DATA = f\"{PATH_LOCAL_DATA}/query.csv\""
   ]
  },
  {
   "cell_type": "code",
   "execution_count": null,
   "metadata": {
    "id": "TlHQ4SjKHcfK"
   },
   "outputs": [],
   "source": [
    "PATH_DOC_DATA = f\"{PATH_LOCAL_DATA}/doc.csv\""
   ]
  },
  {
   "cell_type": "code",
   "execution_count": null,
   "metadata": {
    "id": "3KdgJPyrEBzr"
   },
   "outputs": [],
   "source": [
    "# path_data = '/content/drive/MyDrive/treinamento/202301_IA368DD/indir/data/train_data_juris_tcu_index_bm25.csv'\n",
    "PATH_TRAIN_DATA = f\"../../data/train_juris_tcu_index/train_data_juris_tcu_index_join_sts_bm25_ranker_monot5_3b.csv\""
   ]
  },
  {
   "cell_type": "code",
   "execution_count": null,
   "metadata": {
    "id": "uc1N7xNxBDur"
   },
   "outputs": [],
   "source": [
    "PATH_VALID_DATA = f\"../../data/train_juris_tcu_index/juris_tcu_index_validation_query_id.csv\""
   ]
  },
  {
   "cell_type": "code",
   "execution_count": null,
   "metadata": {},
   "outputs": [],
   "source": [
    "PATH_TRAIN_DATA_GENERATED = f\"../../data/train_juris_tcu_index/train_data_juris_tcu_index.csv\""
   ]
  },
  {
   "cell_type": "code",
   "execution_count": null,
   "metadata": {
    "colab": {
     "base_uri": "https://localhost:8080/"
    },
    "id": "ZrF4PpSvlrcU",
    "outputId": "b372db0e-1bf3-43f4-d7e1-b1748cebff17"
   },
   "outputs": [
    {
     "data": {
      "text/plain": [
       "True"
      ]
     },
     "metadata": {},
     "output_type": "display_data"
    }
   ],
   "source": [
    "os.path.exists(PATH_TRAIN_DATA)"
   ]
  },
  {
   "cell_type": "code",
   "execution_count": null,
   "metadata": {
    "id": "r0igqAcT55ue"
   },
   "outputs": [],
   "source": [
    "df = pd.read_csv(PATH_TRAIN_DATA)"
   ]
  },
  {
   "cell_type": "code",
   "execution_count": null,
   "metadata": {
    "colab": {
     "base_uri": "https://localhost:8080/"
    },
    "id": "nGRYa-JT55ue",
    "outputId": "bd030d19-1dd8-4095-95d6-5504ed31037d"
   },
   "outputs": [
    {
     "data": {
      "text/plain": [
       "(284376, 4)"
      ]
     },
     "metadata": {},
     "output_type": "display_data"
    }
   ],
   "source": [
    "df.shape"
   ]
  },
  {
   "cell_type": "code",
   "execution_count": null,
   "metadata": {
    "colab": {
     "base_uri": "https://localhost:8080/"
    },
    "id": "gFqO4HiJ55ue",
    "outputId": "a33950ec-04e3-4faf-fad1-3cc126cf6d5d"
   },
   "outputs": [
    {
     "data": {
      "text/plain": [
       "Index(['QUERY_ID', 'DOC_ID', 'RELEVANCE', 'TYPE_RELEVANCE'], dtype='object')"
      ]
     },
     "metadata": {},
     "output_type": "display_data"
    }
   ],
   "source": [
    "df.columns"
   ]
  },
  {
   "cell_type": "code",
   "execution_count": null,
   "metadata": {
    "colab": {
     "base_uri": "https://localhost:8080/",
     "height": 235
    },
    "id": "5j2vQi7F55uf",
    "outputId": "dc744968-5bb8-487f-95f3-0655848aefd8"
   },
   "outputs": [
    {
     "data": {
      "text/html": [
       "<div>\n",
       "<style scoped>\n",
       "    .dataframe tbody tr th:only-of-type {\n",
       "        vertical-align: middle;\n",
       "    }\n",
       "\n",
       "    .dataframe tbody tr th {\n",
       "        vertical-align: top;\n",
       "    }\n",
       "\n",
       "    .dataframe thead th {\n",
       "        text-align: right;\n",
       "    }\n",
       "</style>\n",
       "<table border=\"1\" class=\"dataframe\">\n",
       "  <thead>\n",
       "    <tr style=\"text-align: right;\">\n",
       "      <th></th>\n",
       "      <th>QUERY_ID</th>\n",
       "      <th>DOC_ID</th>\n",
       "      <th>RELEVANCE</th>\n",
       "      <th>TYPE_RELEVANCE</th>\n",
       "    </tr>\n",
       "  </thead>\n",
       "  <tbody>\n",
       "    <tr>\n",
       "      <th>0</th>\n",
       "      <td>5</td>\n",
       "      <td>1131</td>\n",
       "      <td>1</td>\n",
       "      <td>AREA</td>\n",
       "    </tr>\n",
       "    <tr>\n",
       "      <th>1</th>\n",
       "      <td>5</td>\n",
       "      <td>5095</td>\n",
       "      <td>0</td>\n",
       "      <td>AREA</td>\n",
       "    </tr>\n",
       "    <tr>\n",
       "      <th>2</th>\n",
       "      <td>5</td>\n",
       "      <td>775</td>\n",
       "      <td>0</td>\n",
       "      <td>AREA</td>\n",
       "    </tr>\n",
       "    <tr>\n",
       "      <th>3</th>\n",
       "      <td>5</td>\n",
       "      <td>1113</td>\n",
       "      <td>1</td>\n",
       "      <td>TEMA</td>\n",
       "    </tr>\n",
       "    <tr>\n",
       "      <th>4</th>\n",
       "      <td>5</td>\n",
       "      <td>14871</td>\n",
       "      <td>0</td>\n",
       "      <td>TEMA</td>\n",
       "    </tr>\n",
       "  </tbody>\n",
       "</table>\n",
       "<p>5 rows × 4 columns</p>\n",
       "</div>"
      ],
      "text/plain": [
       "   QUERY_ID  DOC_ID  RELEVANCE TYPE_RELEVANCE\n",
       "0         5    1131          1           AREA\n",
       "1         5    5095          0           AREA\n",
       "2         5     775          0           AREA\n",
       "3         5    1113          1           TEMA\n",
       "4         5   14871          0           TEMA\n",
       "\n",
       "[5 rows x 4 columns]"
      ]
     },
     "metadata": {},
     "output_type": "display_data"
    }
   ],
   "source": [
    "df.head()"
   ]
  },
  {
   "cell_type": "code",
   "execution_count": null,
   "metadata": {
    "id": "h9owT7LY55uf"
   },
   "outputs": [],
   "source": [
    "df_query = pd.read_csv(PATH_QUERY_DATA)"
   ]
  },
  {
   "cell_type": "code",
   "execution_count": null,
   "metadata": {
    "colab": {
     "base_uri": "https://localhost:8080/"
    },
    "id": "I_Gl6QXm55uf",
    "outputId": "5ffa996e-3d0a-4b52-d16c-29f0956b7b19"
   },
   "outputs": [
    {
     "data": {
      "text/plain": [
       "(16045, 11)"
      ]
     },
     "metadata": {},
     "output_type": "display_data"
    }
   ],
   "source": [
    "df_query.shape"
   ]
  },
  {
   "cell_type": "code",
   "execution_count": null,
   "metadata": {
    "colab": {
     "base_uri": "https://localhost:8080/",
     "height": 507
    },
    "id": "Q3O0XuLB55uf",
    "outputId": "c2a38c97-94f4-4f5b-d098-fad8cf19c007"
   },
   "outputs": [
    {
     "data": {
      "text/html": [
       "<div>\n",
       "<style scoped>\n",
       "    .dataframe tbody tr th:only-of-type {\n",
       "        vertical-align: middle;\n",
       "    }\n",
       "\n",
       "    .dataframe tbody tr th {\n",
       "        vertical-align: top;\n",
       "    }\n",
       "\n",
       "    .dataframe thead th {\n",
       "        text-align: right;\n",
       "    }\n",
       "</style>\n",
       "<table border=\"1\" class=\"dataframe\">\n",
       "  <thead>\n",
       "    <tr style=\"text-align: right;\">\n",
       "      <th></th>\n",
       "      <th>ID</th>\n",
       "      <th>TEXT</th>\n",
       "      <th>REFERENCE_LIST</th>\n",
       "      <th>PARADIGMATIC</th>\n",
       "      <th>AREA_NAME</th>\n",
       "      <th>AREA_ID_DESCRIPTOR</th>\n",
       "      <th>NORMATIVE_PROCESS_TYPE</th>\n",
       "      <th>NORMATIVE_IDENTIFICATION</th>\n",
       "      <th>NORMATIVE_DATE</th>\n",
       "      <th>NORMATIVE_AUTHOR_TYPE</th>\n",
       "      <th>NORMATIVE_AUTHOR_NAME</th>\n",
       "    </tr>\n",
       "  </thead>\n",
       "  <tbody>\n",
       "    <tr>\n",
       "      <th>0</th>\n",
       "      <td>13568</td>\n",
       "      <td>É ilegal a contagem de tempo ficto de serviço ...</td>\n",
       "      <td>Lei Complementar 51/1985 || Lei Ordinária 3313...</td>\n",
       "      <td>NaN</td>\n",
       "      <td>Pessoal</td>\n",
       "      <td>1131</td>\n",
       "      <td>APOSENTADORIA</td>\n",
       "      <td>Acórdão 168/2014 - Segunda Câmara</td>\n",
       "      <td>2014-01-28</td>\n",
       "      <td>RELATOR</td>\n",
       "      <td>JOSÉ JORGE</td>\n",
       "    </tr>\n",
       "    <tr>\n",
       "      <th>1</th>\n",
       "      <td>11614</td>\n",
       "      <td>SÚMULA TCU 283: Para fim de habilitação, a Adm...</td>\n",
       "      <td>NaN</td>\n",
       "      <td>SUMULA</td>\n",
       "      <td>Licitação</td>\n",
       "      <td>932</td>\n",
       "      <td>ADMINISTRATIVO</td>\n",
       "      <td>Acórdão 1613/2013 - Plenário</td>\n",
       "      <td>2013-06-26</td>\n",
       "      <td>RELATOR</td>\n",
       "      <td>JOSÉ JORGE</td>\n",
       "    </tr>\n",
       "    <tr>\n",
       "      <th>2</th>\n",
       "      <td>21087</td>\n",
       "      <td>A contratação de serviços por preços superiore...</td>\n",
       "      <td>NaN</td>\n",
       "      <td>NaN</td>\n",
       "      <td>Licitação</td>\n",
       "      <td>932</td>\n",
       "      <td>PRESTAÇÃO DE CONTAS</td>\n",
       "      <td>Acórdão 3936/2013 - Segunda Câmara</td>\n",
       "      <td>2013-07-09</td>\n",
       "      <td>RELATOR</td>\n",
       "      <td>ANA ARRAES</td>\n",
       "    </tr>\n",
       "    <tr>\n",
       "      <th>3</th>\n",
       "      <td>35016</td>\n",
       "      <td>Não se aplica, excepcionalmente, multa aos ges...</td>\n",
       "      <td>NaN</td>\n",
       "      <td>NaN</td>\n",
       "      <td>Responsabilidade</td>\n",
       "      <td>775</td>\n",
       "      <td>REPRESENTAÇÃO</td>\n",
       "      <td>Acórdão 3231/2011 - Plenário</td>\n",
       "      <td>2011-12-07</td>\n",
       "      <td>RELATOR</td>\n",
       "      <td>AROLDO CEDRAZ</td>\n",
       "    </tr>\n",
       "    <tr>\n",
       "      <th>4</th>\n",
       "      <td>29370</td>\n",
       "      <td>Em contratatações de TI, não cabe aceitar prop...</td>\n",
       "      <td>NaN</td>\n",
       "      <td>NaN</td>\n",
       "      <td>Licitação</td>\n",
       "      <td>932</td>\n",
       "      <td>REPRESENTAÇÃO</td>\n",
       "      <td>Acórdão 3231/2011 - Plenário</td>\n",
       "      <td>2011-12-07</td>\n",
       "      <td>RELATOR</td>\n",
       "      <td>AROLDO CEDRAZ</td>\n",
       "    </tr>\n",
       "  </tbody>\n",
       "</table>\n",
       "<p>5 rows × 11 columns</p>\n",
       "</div>"
      ],
      "text/plain": [
       "      ID                                               TEXT                                     REFERENCE_LIST PARADIGMATIC         AREA_NAME  AREA_ID_DESCRIPTOR NORMATIVE_PROCESS_TYPE            NORMATIVE_IDENTIFICATION NORMATIVE_DATE NORMATIVE_AUTHOR_TYPE NORMATIVE_AUTHOR_NAME\n",
       "0  13568  É ilegal a contagem de tempo ficto de serviço ...  Lei Complementar 51/1985 || Lei Ordinária 3313...          NaN           Pessoal                1131          APOSENTADORIA   Acórdão 168/2014 - Segunda Câmara     2014-01-28               RELATOR            JOSÉ JORGE\n",
       "1  11614  SÚMULA TCU 283: Para fim de habilitação, a Adm...                                                NaN       SUMULA         Licitação                 932         ADMINISTRATIVO        Acórdão 1613/2013 - Plenário     2013-06-26               RELATOR            JOSÉ JORGE\n",
       "2  21087  A contratação de serviços por preços superiore...                                                NaN          NaN         Licitação                 932    PRESTAÇÃO DE CONTAS  Acórdão 3936/2013 - Segunda Câmara     2013-07-09               RELATOR            ANA ARRAES\n",
       "3  35016  Não se aplica, excepcionalmente, multa aos ges...                                                NaN          NaN  Responsabilidade                 775          REPRESENTAÇÃO        Acórdão 3231/2011 - Plenário     2011-12-07               RELATOR         AROLDO CEDRAZ\n",
       "4  29370  Em contratatações de TI, não cabe aceitar prop...                                                NaN          NaN         Licitação                 932          REPRESENTAÇÃO        Acórdão 3231/2011 - Plenário     2011-12-07               RELATOR         AROLDO CEDRAZ\n",
       "\n",
       "[5 rows x 11 columns]"
      ]
     },
     "metadata": {},
     "output_type": "display_data"
    }
   ],
   "source": [
    "df_query.head()"
   ]
  },
  {
   "cell_type": "code",
   "execution_count": null,
   "metadata": {
    "id": "J_xT_yzP55uf"
   },
   "outputs": [],
   "source": [
    "df_doc = pd.read_csv(PATH_DOC_DATA)"
   ]
  },
  {
   "cell_type": "code",
   "execution_count": null,
   "metadata": {
    "colab": {
     "base_uri": "https://localhost:8080/"
    },
    "id": "f5KY0jm555uf",
    "outputId": "c75ec533-101f-4007-d476-bedcfd6cf208"
   },
   "outputs": [
    {
     "data": {
      "text/plain": [
       "(13255, 28)"
      ]
     },
     "metadata": {},
     "output_type": "display_data"
    }
   ],
   "source": [
    "df_doc.shape"
   ]
  },
  {
   "cell_type": "markdown",
   "metadata": {
    "id": "um_m1AWS55ug"
   },
   "source": [
    "merge with doc"
   ]
  },
  {
   "cell_type": "code",
   "execution_count": null,
   "metadata": {
    "id": "LSiNpaO655ug"
   },
   "outputs": [],
   "source": [
    "df = df.merge(df_doc[['ID','TEXT']], how='left', left_on='DOC_ID', right_on='ID').drop('ID',axis=1)"
   ]
  },
  {
   "cell_type": "code",
   "execution_count": null,
   "metadata": {
    "id": "AuFhpmXI55ug"
   },
   "outputs": [],
   "source": [
    "df.rename(columns={'TEXT': 'DOC_TEXT'},inplace=True)"
   ]
  },
  {
   "cell_type": "code",
   "execution_count": null,
   "metadata": {
    "colab": {
     "base_uri": "https://localhost:8080/",
     "height": 235
    },
    "id": "7TWGj4cI55ug",
    "outputId": "bb3355b6-610b-4274-f1bc-7214d0ff71da"
   },
   "outputs": [
    {
     "data": {
      "text/html": [
       "<div>\n",
       "<style scoped>\n",
       "    .dataframe tbody tr th:only-of-type {\n",
       "        vertical-align: middle;\n",
       "    }\n",
       "\n",
       "    .dataframe tbody tr th {\n",
       "        vertical-align: top;\n",
       "    }\n",
       "\n",
       "    .dataframe thead th {\n",
       "        text-align: right;\n",
       "    }\n",
       "</style>\n",
       "<table border=\"1\" class=\"dataframe\">\n",
       "  <thead>\n",
       "    <tr style=\"text-align: right;\">\n",
       "      <th></th>\n",
       "      <th>QUERY_ID</th>\n",
       "      <th>DOC_ID</th>\n",
       "      <th>RELEVANCE</th>\n",
       "      <th>TYPE_RELEVANCE</th>\n",
       "      <th>DOC_TEXT</th>\n",
       "    </tr>\n",
       "  </thead>\n",
       "  <tbody>\n",
       "    <tr>\n",
       "      <th>0</th>\n",
       "      <td>5</td>\n",
       "      <td>1131</td>\n",
       "      <td>1</td>\n",
       "      <td>AREA</td>\n",
       "      <td>O termo é \"Pessoal\".\\nPessoal tem nota de esco...</td>\n",
       "    </tr>\n",
       "    <tr>\n",
       "      <th>1</th>\n",
       "      <td>5</td>\n",
       "      <td>5095</td>\n",
       "      <td>0</td>\n",
       "      <td>AREA</td>\n",
       "      <td>O termo é \"Competência do TCU\".\\nCompetência d...</td>\n",
       "    </tr>\n",
       "    <tr>\n",
       "      <th>2</th>\n",
       "      <td>5</td>\n",
       "      <td>775</td>\n",
       "      <td>0</td>\n",
       "      <td>AREA</td>\n",
       "      <td>O termo é \"Responsabilidade\".\\nResponsabilidad...</td>\n",
       "    </tr>\n",
       "    <tr>\n",
       "      <th>3</th>\n",
       "      <td>5</td>\n",
       "      <td>1113</td>\n",
       "      <td>1</td>\n",
       "      <td>TEMA</td>\n",
       "      <td>O termo é \"Pensão especial\".\\nPensão especial ...</td>\n",
       "    </tr>\n",
       "    <tr>\n",
       "      <th>4</th>\n",
       "      <td>5</td>\n",
       "      <td>14871</td>\n",
       "      <td>0</td>\n",
       "      <td>TEMA</td>\n",
       "      <td>O termo é \"Concessão (Pessoal)\".\\nConcessão (P...</td>\n",
       "    </tr>\n",
       "  </tbody>\n",
       "</table>\n",
       "<p>5 rows × 5 columns</p>\n",
       "</div>"
      ],
      "text/plain": [
       "   QUERY_ID  DOC_ID  RELEVANCE TYPE_RELEVANCE                                           DOC_TEXT\n",
       "0         5    1131          1           AREA  O termo é \"Pessoal\".\\nPessoal tem nota de esco...\n",
       "1         5    5095          0           AREA  O termo é \"Competência do TCU\".\\nCompetência d...\n",
       "2         5     775          0           AREA  O termo é \"Responsabilidade\".\\nResponsabilidad...\n",
       "3         5    1113          1           TEMA  O termo é \"Pensão especial\".\\nPensão especial ...\n",
       "4         5   14871          0           TEMA  O termo é \"Concessão (Pessoal)\".\\nConcessão (P...\n",
       "\n",
       "[5 rows x 5 columns]"
      ]
     },
     "metadata": {},
     "output_type": "display_data"
    }
   ],
   "source": [
    "df.head()"
   ]
  },
  {
   "cell_type": "code",
   "execution_count": null,
   "metadata": {
    "id": "Ymfbh7SD55ug"
   },
   "outputs": [],
   "source": [
    "df = df.merge(df_query[['ID','TEXT']], how='left', left_on='QUERY_ID', right_on='ID').drop('ID',axis=1)"
   ]
  },
  {
   "cell_type": "code",
   "execution_count": null,
   "metadata": {
    "id": "3uQiBvb755ug"
   },
   "outputs": [],
   "source": [
    "df.rename(columns={'TEXT': 'QUERY_TEXT'},inplace=True)"
   ]
  },
  {
   "cell_type": "code",
   "execution_count": null,
   "metadata": {
    "colab": {
     "base_uri": "https://localhost:8080/"
    },
    "id": "uAvzUI4I55ug",
    "outputId": "ab407c9e-9ce6-4949-975e-e21d135a94af"
   },
   "outputs": [
    {
     "data": {
      "text/plain": [
       "(284376, 6)"
      ]
     },
     "metadata": {},
     "output_type": "display_data"
    }
   ],
   "source": [
    "df.shape"
   ]
  },
  {
   "cell_type": "code",
   "execution_count": null,
   "metadata": {
    "colab": {
     "base_uri": "https://localhost:8080/"
    },
    "id": "GN878Edd7ju6",
    "outputId": "cd01ad77-7ae4-4662-ee9e-8f2dbb5d2ac9"
   },
   "outputs": [
    {
     "data": {
      "text/plain": [
       "Index(['QUERY_ID', 'DOC_ID', 'RELEVANCE', 'TYPE_RELEVANCE', 'DOC_TEXT', 'QUERY_TEXT'], dtype='object')"
      ]
     },
     "metadata": {},
     "output_type": "display_data"
    }
   ],
   "source": [
    "df.columns"
   ]
  },
  {
   "cell_type": "code",
   "execution_count": null,
   "metadata": {
    "colab": {
     "base_uri": "https://localhost:8080/",
     "height": 453
    },
    "id": "Q6TlBieNJ0Jw",
    "outputId": "6dce4c53-6788-4b61-d1bf-f393fcc8f960"
   },
   "outputs": [
    {
     "data": {
      "text/html": [
       "<div>\n",
       "<style scoped>\n",
       "    .dataframe tbody tr th:only-of-type {\n",
       "        vertical-align: middle;\n",
       "    }\n",
       "\n",
       "    .dataframe tbody tr th {\n",
       "        vertical-align: top;\n",
       "    }\n",
       "\n",
       "    .dataframe thead th {\n",
       "        text-align: right;\n",
       "    }\n",
       "</style>\n",
       "<table border=\"1\" class=\"dataframe\">\n",
       "  <thead>\n",
       "    <tr style=\"text-align: right;\">\n",
       "      <th></th>\n",
       "      <th>QUERY_ID</th>\n",
       "      <th>DOC_ID</th>\n",
       "      <th>RELEVANCE</th>\n",
       "      <th>TYPE_RELEVANCE</th>\n",
       "      <th>DOC_TEXT</th>\n",
       "      <th>QUERY_TEXT</th>\n",
       "    </tr>\n",
       "  </thead>\n",
       "  <tbody>\n",
       "    <tr>\n",
       "      <th>0</th>\n",
       "      <td>5</td>\n",
       "      <td>1131</td>\n",
       "      <td>1</td>\n",
       "      <td>AREA</td>\n",
       "      <td>O termo é \"Pessoal\".\\nPessoal tem nota de esco...</td>\n",
       "      <td>SÚMULA TCU 1: Não se compreendem como vencimen...</td>\n",
       "    </tr>\n",
       "    <tr>\n",
       "      <th>1</th>\n",
       "      <td>5</td>\n",
       "      <td>5095</td>\n",
       "      <td>0</td>\n",
       "      <td>AREA</td>\n",
       "      <td>O termo é \"Competência do TCU\".\\nCompetência d...</td>\n",
       "      <td>SÚMULA TCU 1: Não se compreendem como vencimen...</td>\n",
       "    </tr>\n",
       "    <tr>\n",
       "      <th>2</th>\n",
       "      <td>5</td>\n",
       "      <td>775</td>\n",
       "      <td>0</td>\n",
       "      <td>AREA</td>\n",
       "      <td>O termo é \"Responsabilidade\".\\nResponsabilidad...</td>\n",
       "      <td>SÚMULA TCU 1: Não se compreendem como vencimen...</td>\n",
       "    </tr>\n",
       "    <tr>\n",
       "      <th>3</th>\n",
       "      <td>5</td>\n",
       "      <td>1113</td>\n",
       "      <td>1</td>\n",
       "      <td>TEMA</td>\n",
       "      <td>O termo é \"Pensão especial\".\\nPensão especial ...</td>\n",
       "      <td>SÚMULA TCU 1: Não se compreendem como vencimen...</td>\n",
       "    </tr>\n",
       "    <tr>\n",
       "      <th>4</th>\n",
       "      <td>5</td>\n",
       "      <td>14871</td>\n",
       "      <td>0</td>\n",
       "      <td>TEMA</td>\n",
       "      <td>O termo é \"Concessão (Pessoal)\".\\nConcessão (P...</td>\n",
       "      <td>SÚMULA TCU 1: Não se compreendem como vencimen...</td>\n",
       "    </tr>\n",
       "  </tbody>\n",
       "</table>\n",
       "<p>5 rows × 6 columns</p>\n",
       "</div>"
      ],
      "text/plain": [
       "   QUERY_ID  DOC_ID  RELEVANCE TYPE_RELEVANCE                                           DOC_TEXT                                         QUERY_TEXT\n",
       "0         5    1131          1           AREA  O termo é \"Pessoal\".\\nPessoal tem nota de esco...  SÚMULA TCU 1: Não se compreendem como vencimen...\n",
       "1         5    5095          0           AREA  O termo é \"Competência do TCU\".\\nCompetência d...  SÚMULA TCU 1: Não se compreendem como vencimen...\n",
       "2         5     775          0           AREA  O termo é \"Responsabilidade\".\\nResponsabilidad...  SÚMULA TCU 1: Não se compreendem como vencimen...\n",
       "3         5    1113          1           TEMA  O termo é \"Pensão especial\".\\nPensão especial ...  SÚMULA TCU 1: Não se compreendem como vencimen...\n",
       "4         5   14871          0           TEMA  O termo é \"Concessão (Pessoal)\".\\nConcessão (P...  SÚMULA TCU 1: Não se compreendem como vencimen...\n",
       "\n",
       "[5 rows x 6 columns]"
      ]
     },
     "metadata": {},
     "output_type": "display_data"
    }
   ],
   "source": [
    "df.head()"
   ]
  },
  {
   "cell_type": "markdown",
   "metadata": {
    "id": "VI3r7J5MCAva"
   },
   "source": [
    "Remover dados de validação"
   ]
  },
  {
   "cell_type": "code",
   "execution_count": null,
   "metadata": {
    "id": "ITLPG4brCCfl"
   },
   "outputs": [],
   "source": [
    "df_validation = pd.read_csv(PATH_VALID_DATA)"
   ]
  },
  {
   "cell_type": "code",
   "execution_count": null,
   "metadata": {
    "colab": {
     "base_uri": "https://localhost:8080/"
    },
    "id": "SXG8Jk5rCLVo",
    "outputId": "ce6e9084-26b3-40eb-bae7-0da369ff4ec8"
   },
   "outputs": [
    {
     "data": {
      "text/plain": [
       "(100, 1)"
      ]
     },
     "metadata": {},
     "output_type": "display_data"
    }
   ],
   "source": [
    "df_validation.shape"
   ]
  },
  {
   "cell_type": "code",
   "execution_count": null,
   "metadata": {
    "colab": {
     "base_uri": "https://localhost:8080/",
     "height": 235
    },
    "id": "wLWXlXCACNeF",
    "outputId": "77675b6a-24c1-4cb5-e915-6d2affa60e06"
   },
   "outputs": [
    {
     "data": {
      "text/html": [
       "<div>\n",
       "<style scoped>\n",
       "    .dataframe tbody tr th:only-of-type {\n",
       "        vertical-align: middle;\n",
       "    }\n",
       "\n",
       "    .dataframe tbody tr th {\n",
       "        vertical-align: top;\n",
       "    }\n",
       "\n",
       "    .dataframe thead th {\n",
       "        text-align: right;\n",
       "    }\n",
       "</style>\n",
       "<table border=\"1\" class=\"dataframe\">\n",
       "  <thead>\n",
       "    <tr style=\"text-align: right;\">\n",
       "      <th></th>\n",
       "      <th>QUERY_ID</th>\n",
       "    </tr>\n",
       "  </thead>\n",
       "  <tbody>\n",
       "    <tr>\n",
       "      <th>0</th>\n",
       "      <td>4273</td>\n",
       "    </tr>\n",
       "    <tr>\n",
       "      <th>1</th>\n",
       "      <td>36</td>\n",
       "    </tr>\n",
       "    <tr>\n",
       "      <th>2</th>\n",
       "      <td>1650</td>\n",
       "    </tr>\n",
       "    <tr>\n",
       "      <th>3</th>\n",
       "      <td>22806</td>\n",
       "    </tr>\n",
       "    <tr>\n",
       "      <th>4</th>\n",
       "      <td>49608</td>\n",
       "    </tr>\n",
       "  </tbody>\n",
       "</table>\n",
       "<p>5 rows × 1 columns</p>\n",
       "</div>"
      ],
      "text/plain": [
       "   QUERY_ID\n",
       "0      4273\n",
       "1        36\n",
       "2      1650\n",
       "3     22806\n",
       "4     49608\n",
       "\n",
       "[5 rows x 1 columns]"
      ]
     },
     "metadata": {},
     "output_type": "display_data"
    }
   ],
   "source": [
    "df_validation.head(5)"
   ]
  },
  {
   "cell_type": "code",
   "execution_count": null,
   "metadata": {
    "id": "MnzlEZhgCPus"
   },
   "outputs": [],
   "source": [
    "list_query_id_valid = df_validation['QUERY_ID'].to_list()"
   ]
  },
  {
   "cell_type": "markdown",
   "metadata": {
    "id": "fITA81aS55ug"
   },
   "source": [
    "triplas: query + id_doc + ind_relevancia (1, se positivo,  e 0 se negativo)"
   ]
  },
  {
   "cell_type": "code",
   "execution_count": null,
   "metadata": {
    "colab": {
     "base_uri": "https://localhost:8080/"
    },
    "id": "AO6Gz8z6CZRI",
    "outputId": "e6ab0ca3-dfcd-4f12-9bf4-e626b88581b2"
   },
   "outputs": [
    {
     "data": {
      "text/plain": [
       "(284376, 6)"
      ]
     },
     "metadata": {},
     "output_type": "display_data"
    }
   ],
   "source": [
    "df.shape"
   ]
  },
  {
   "cell_type": "code",
   "execution_count": null,
   "metadata": {
    "id": "YnyuOX-jCwg5"
   },
   "outputs": [],
   "source": [
    "df = df[~df['QUERY_ID'].isin(list_query_id_valid)]\n"
   ]
  },
  {
   "cell_type": "code",
   "execution_count": null,
   "metadata": {
    "colab": {
     "base_uri": "https://localhost:8080/"
    },
    "id": "Hvk2I4-FC5i6",
    "outputId": "4ca22ce4-9b4e-41ed-d34c-4864aa59894a"
   },
   "outputs": [
    {
     "data": {
      "text/plain": [
       "(282636, 6)"
      ]
     },
     "metadata": {},
     "output_type": "display_data"
    }
   ],
   "source": [
    "df.shape"
   ]
  },
  {
   "cell_type": "markdown",
   "metadata": {
    "id": "5yy7AivWxiCb"
   },
   "source": [
    "## Tratando qualidade dos dados"
   ]
  },
  {
   "cell_type": "markdown",
   "metadata": {
    "id": "bQ3S90BBTrKJ"
   },
   "source": [
    "Verificando correção do arquivo!"
   ]
  },
  {
   "cell_type": "code",
   "execution_count": null,
   "metadata": {
    "colab": {
     "base_uri": "https://localhost:8080/"
    },
    "id": "Qm7ss2BfTlOu",
    "outputId": "8f591311-5f7c-4603-9acf-8826956c8c7a"
   },
   "outputs": [
    {
     "name": "stdout",
     "output_type": "stream",
     "text": [
      "QUERY_ID          0\n",
      "DOC_ID            0\n",
      "RELEVANCE         0\n",
      "TYPE_RELEVANCE    0\n",
      "DOC_TEXT          0\n",
      "QUERY_TEXT        0\n",
      "Length: 6, dtype: int64\n"
     ]
    }
   ],
   "source": [
    "print(df.isnull().sum())"
   ]
  },
  {
   "cell_type": "code",
   "execution_count": null,
   "metadata": {
    "colab": {
     "base_uri": "https://localhost:8080/",
     "height": 0
    },
    "id": "kxK8j_na55uh",
    "outputId": "a9d253ef-4a01-49c9-857a-ab785bf0e86c"
   },
   "outputs": [
    {
     "data": {
      "text/html": [
       "<div>\n",
       "<style scoped>\n",
       "    .dataframe tbody tr th:only-of-type {\n",
       "        vertical-align: middle;\n",
       "    }\n",
       "\n",
       "    .dataframe tbody tr th {\n",
       "        vertical-align: top;\n",
       "    }\n",
       "\n",
       "    .dataframe thead th {\n",
       "        text-align: right;\n",
       "    }\n",
       "</style>\n",
       "<table border=\"1\" class=\"dataframe\">\n",
       "  <thead>\n",
       "    <tr style=\"text-align: right;\">\n",
       "      <th></th>\n",
       "      <th>QUERY_TEXT</th>\n",
       "      <th>DOC_TEXT</th>\n",
       "    </tr>\n",
       "  </thead>\n",
       "  <tbody>\n",
       "    <tr>\n",
       "      <th>count</th>\n",
       "      <td>282636.0000000</td>\n",
       "      <td>282636.0000000</td>\n",
       "    </tr>\n",
       "    <tr>\n",
       "      <th>mean</th>\n",
       "      <td>314.4387445</td>\n",
       "      <td>971.9820688</td>\n",
       "    </tr>\n",
       "    <tr>\n",
       "      <th>std</th>\n",
       "      <td>159.8934908</td>\n",
       "      <td>671.0375228</td>\n",
       "    </tr>\n",
       "    <tr>\n",
       "      <th>min</th>\n",
       "      <td>41.0000000</td>\n",
       "      <td>86.0000000</td>\n",
       "    </tr>\n",
       "    <tr>\n",
       "      <th>25%</th>\n",
       "      <td>211.0000000</td>\n",
       "      <td>595.0000000</td>\n",
       "    </tr>\n",
       "    <tr>\n",
       "      <th>50%</th>\n",
       "      <td>286.0000000</td>\n",
       "      <td>812.0000000</td>\n",
       "    </tr>\n",
       "    <tr>\n",
       "      <th>75%</th>\n",
       "      <td>383.0000000</td>\n",
       "      <td>1162.0000000</td>\n",
       "    </tr>\n",
       "    <tr>\n",
       "      <th>max</th>\n",
       "      <td>4212.0000000</td>\n",
       "      <td>3739.0000000</td>\n",
       "    </tr>\n",
       "  </tbody>\n",
       "</table>\n",
       "<p>8 rows × 2 columns</p>\n",
       "</div>"
      ],
      "text/plain": [
       "           QUERY_TEXT        DOC_TEXT\n",
       "count  282636.0000000  282636.0000000\n",
       "mean      314.4387445     971.9820688\n",
       "std       159.8934908     671.0375228\n",
       "min        41.0000000      86.0000000\n",
       "25%       211.0000000     595.0000000\n",
       "50%       286.0000000     812.0000000\n",
       "75%       383.0000000    1162.0000000\n",
       "max      4212.0000000    3739.0000000\n",
       "\n",
       "[8 rows x 2 columns]"
      ]
     },
     "metadata": {},
     "output_type": "display_data"
    }
   ],
   "source": [
    "df[['QUERY_TEXT','DOC_TEXT']].applymap(len).describe()"
   ]
  },
  {
   "cell_type": "markdown",
   "metadata": {
    "id": "gBvMP8ma55uh"
   },
   "source": [
    "Para cada positivo, tem 2 negativos"
   ]
  },
  {
   "cell_type": "code",
   "execution_count": null,
   "metadata": {
    "colab": {
     "base_uri": "https://localhost:8080/"
    },
    "id": "bH49RPhY55uh",
    "outputId": "81fb6c92-adcb-434e-db15-a9f5e931bd7d"
   },
   "outputs": [
    {
     "data": {
      "text/plain": [
       "count    282636.0000000\n",
       "mean          0.3333333\n",
       "std           0.4714054\n",
       "min           0.0000000\n",
       "25%           0.0000000\n",
       "50%           0.0000000\n",
       "75%           1.0000000\n",
       "max           1.0000000\n",
       "Name: RELEVANCE, Length: 8, dtype: float64"
      ]
     },
     "metadata": {},
     "output_type": "display_data"
    }
   ],
   "source": [
    "df['RELEVANCE'].describe()"
   ]
  },
  {
   "cell_type": "code",
   "execution_count": null,
   "metadata": {},
   "outputs": [],
   "source": [
    "df.to_csv(PATH_TRAIN_DATA_GENERATED, index=False)"
   ]
  },
  {
   "cell_type": "code",
   "execution_count": null,
   "metadata": {},
   "outputs": [],
   "source": []
  }
 ],
 "metadata": {
  "kernelspec": {
   "display_name": "Python (relevar-busca)",
   "language": "python",
   "name": "relevar-busca"
  },
  "language_info": {
   "codemirror_mode": {
    "name": "ipython",
    "version": 3
   },
   "file_extension": ".py",
   "mimetype": "text/x-python",
   "name": "python",
   "nbconvert_exporter": "python",
   "pygments_lexer": "ipython3",
   "version": "3.7.13 (default, Mar 29 2022, 02:18:16) \n[GCC 7.5.0]"
  },
  "orig_nbformat": 4,
  "vscode": {
   "interpreter": {
    "hash": "45978bf3509deeb93161d1472b16f82a40245d44c2beae6c63ad8f9bb3f69171"
   }
  }
 },
 "nbformat": 4,
 "nbformat_minor": 2
}
