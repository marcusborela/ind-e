{
 "cells": [
  {
   "attachments": {},
   "cell_type": "markdown",
   "id": "998a4011",
   "metadata": {},
   "source": [
    "# Imports and preparation"
   ]
  },
  {
   "cell_type": "code",
   "execution_count": 1,
   "metadata": {},
   "outputs": [],
   "source": [
    "import os"
   ]
  },
  {
   "cell_type": "code",
   "execution_count": 2,
   "metadata": {},
   "outputs": [],
   "source": [
    "import numpy as np"
   ]
  },
  {
   "cell_type": "code",
   "execution_count": 3,
   "id": "37d4165c",
   "metadata": {},
   "outputs": [],
   "source": [
    "import pandas as pd"
   ]
  },
  {
   "cell_type": "code",
   "execution_count": 4,
   "metadata": {},
   "outputs": [],
   "source": [
    "from tqdm import tqdm"
   ]
  },
  {
   "cell_type": "code",
   "execution_count": 5,
   "id": "cb0f7d63",
   "metadata": {},
   "outputs": [],
   "source": [
    "from transformers import AutoTokenizer #, AutoModelForSequenceClassification"
   ]
  },
  {
   "cell_type": "code",
   "execution_count": 6,
   "metadata": {},
   "outputs": [
    {
     "name": "stderr",
     "output_type": "stream",
     "text": [
      "OpenAI tiktoken module is not available for Python < 3.8,Linux ARM64 and AARCH64. Falling back to GPT2TokenizerFast.\n",
      "WARNING:haystack.nodes.answer_generator.openai:OpenAI tiktoken module is not available for Python < 3.8,Linux ARM64 and AARCH64. Falling back to GPT2TokenizerFast.\n"
     ]
    }
   ],
   "source": [
    "from util import util_elastic"
   ]
  },
  {
   "cell_type": "code",
   "execution_count": 7,
   "metadata": {},
   "outputs": [],
   "source": [
    "from util import util_pipeline"
   ]
  },
  {
   "cell_type": "code",
   "execution_count": 8,
   "metadata": {},
   "outputs": [],
   "source": [
    "import importlib\n",
    "# importlib.reload(util_elastic)"
   ]
  },
  {
   "cell_type": "code",
   "execution_count": 9,
   "id": "f911fcf2",
   "metadata": {},
   "outputs": [],
   "source": [
    "# Para ter repetibilidade nos resultados\n",
    "random_state = 1\n",
    "\n",
    "# Tratar valores infinitos (+ e -) como np.NaN\n",
    "pd.options.mode.use_inf_as_na = True\n",
    "\n",
    "# IMPORTANTE para tornar figuras interativas\n",
    "# %matplotlib notebook\n",
    "\n",
    "# Tamanho padrão das figuras\n",
    "figsize=(10,6)\n",
    "\n",
    "pd.set_option('display.max_row', 1000)\n",
    "\n",
    "pd.set_option('display.max_columns', 50)\n",
    "\n",
    "pd.set_option('display.column_space', 40)\n",
    "pd.set_option('display.max_colwidth', 100)\n",
    "pd.set_option('display.width', 200)\n"
   ]
  },
  {
   "cell_type": "code",
   "execution_count": 10,
   "id": "6e05b9a6",
   "metadata": {},
   "outputs": [],
   "source": [
    "PATH_DOC =  '../data/juris_tcu_index/doc.csv'\n",
    "PATH_QUERY =  '../data/juris_tcu_index/query.csv'\n",
    "PATH_QREL =  '../data/juris_tcu_index/qrel.csv'"
   ]
  },
  {
   "cell_type": "code",
   "execution_count": 11,
   "metadata": {},
   "outputs": [
    {
     "name": "stdout",
     "output_type": "stream",
     "text": [
      "CPU times: user 186 µs, sys: 15 µs, total: 201 µs\n",
      "Wall time: 203 µs\n"
     ]
    }
   ],
   "source": [
    "%%time\n",
    "import logging\n",
    "logging.getLogger(\"haystack\").setLevel(logging.WARNING) #WARNING, INFO"
   ]
  },
  {
   "attachments": {},
   "cell_type": "markdown",
   "metadata": {},
   "source": [
    "# Data load"
   ]
  },
  {
   "cell_type": "code",
   "execution_count": 12,
   "id": "1cf03f22",
   "metadata": {},
   "outputs": [],
   "source": [
    "df_doc = pd.read_csv(PATH_DOC)"
   ]
  },
  {
   "cell_type": "code",
   "execution_count": 13,
   "id": "1cf03f22",
   "metadata": {},
   "outputs": [],
   "source": [
    "df_query = pd.read_csv(PATH_QUERY)"
   ]
  },
  {
   "cell_type": "code",
   "execution_count": 14,
   "id": "1cf03f22",
   "metadata": {},
   "outputs": [],
   "source": [
    "df_qrel = pd.read_csv(PATH_QREL)"
   ]
  },
  {
   "cell_type": "code",
   "execution_count": 15,
   "metadata": {},
   "outputs": [
    {
     "data": {
      "text/plain": [
       "((13255, 28), (16045, 11), (94809, 3))"
      ]
     },
     "execution_count": 15,
     "metadata": {},
     "output_type": "execute_result"
    }
   ],
   "source": [
    "df_doc.shape, df_query.shape, df_qrel.shape"
   ]
  },
  {
   "cell_type": "code",
   "execution_count": 16,
   "id": "a75dd812",
   "metadata": {},
   "outputs": [
    {
     "data": {
      "text/html": [
       "<div>\n",
       "<style scoped>\n",
       "    .dataframe tbody tr th:only-of-type {\n",
       "        vertical-align: middle;\n",
       "    }\n",
       "\n",
       "    .dataframe tbody tr th {\n",
       "        vertical-align: top;\n",
       "    }\n",
       "\n",
       "    .dataframe thead th {\n",
       "        text-align: right;\n",
       "    }\n",
       "</style>\n",
       "<table border=\"1\" class=\"dataframe\">\n",
       "  <thead>\n",
       "    <tr style=\"text-align: right;\">\n",
       "      <th></th>\n",
       "      <th>ID</th>\n",
       "      <th>TEXT</th>\n",
       "      <th>REFERENCE_LIST</th>\n",
       "      <th>PARADIGMATIC</th>\n",
       "      <th>AREA_NAME</th>\n",
       "      <th>AREA_ID_DESCRIPTOR</th>\n",
       "      <th>NORMATIVE_PROCESS_TYPE</th>\n",
       "      <th>NORMATIVE_IDENTIFICATION</th>\n",
       "      <th>NORMATIVE_DATE</th>\n",
       "      <th>NORMATIVE_AUTHOR_TYPE</th>\n",
       "      <th>NORMATIVE_AUTHOR_NAME</th>\n",
       "    </tr>\n",
       "  </thead>\n",
       "  <tbody>\n",
       "    <tr>\n",
       "      <th>0</th>\n",
       "      <td>13568</td>\n",
       "      <td>É ilegal a contagem de tempo ficto de serviço prestado sob a égide da Lei 3.313/1957, proporcion...</td>\n",
       "      <td>Lei Complementar 51/1985 || Lei Ordinária 3313/1957</td>\n",
       "      <td>NaN</td>\n",
       "      <td>Pessoal</td>\n",
       "      <td>1131</td>\n",
       "      <td>APOSENTADORIA</td>\n",
       "      <td>Acórdão 168/2014 - Segunda Câmara</td>\n",
       "      <td>2014-01-28</td>\n",
       "      <td>RELATOR</td>\n",
       "      <td>JOSÉ JORGE</td>\n",
       "    </tr>\n",
       "    <tr>\n",
       "      <th>1</th>\n",
       "      <td>11614</td>\n",
       "      <td>SÚMULA TCU 283: Para fim de habilitação, a Administração Pública não deve exigir dos licitantes ...</td>\n",
       "      <td>NaN</td>\n",
       "      <td>SUMULA</td>\n",
       "      <td>Licitação</td>\n",
       "      <td>932</td>\n",
       "      <td>ADMINISTRATIVO</td>\n",
       "      <td>Acórdão 1613/2013 - Plenário</td>\n",
       "      <td>2013-06-26</td>\n",
       "      <td>RELATOR</td>\n",
       "      <td>JOSÉ JORGE</td>\n",
       "    </tr>\n",
       "    <tr>\n",
       "      <th>2</th>\n",
       "      <td>21087</td>\n",
       "      <td>A contratação de serviços por preços superiores às referências legais (Sinapi e Sicro) deve ser,...</td>\n",
       "      <td>NaN</td>\n",
       "      <td>NaN</td>\n",
       "      <td>Licitação</td>\n",
       "      <td>932</td>\n",
       "      <td>PRESTAÇÃO DE CONTAS</td>\n",
       "      <td>Acórdão 3936/2013 - Segunda Câmara</td>\n",
       "      <td>2013-07-09</td>\n",
       "      <td>RELATOR</td>\n",
       "      <td>ANA ARRAES</td>\n",
       "    </tr>\n",
       "    <tr>\n",
       "      <th>3</th>\n",
       "      <td>35016</td>\n",
       "      <td>Não se aplica, excepcionalmente, multa aos gestores por grave infração à norma legal se a irregu...</td>\n",
       "      <td>NaN</td>\n",
       "      <td>NaN</td>\n",
       "      <td>Responsabilidade</td>\n",
       "      <td>775</td>\n",
       "      <td>REPRESENTAÇÃO</td>\n",
       "      <td>Acórdão 3231/2011 - Plenário</td>\n",
       "      <td>2011-12-07</td>\n",
       "      <td>RELATOR</td>\n",
       "      <td>AROLDO CEDRAZ</td>\n",
       "    </tr>\n",
       "    <tr>\n",
       "      <th>4</th>\n",
       "      <td>29370</td>\n",
       "      <td>Em contratatações de TI, não cabe aceitar propostas de preço com incidência de encargos majorado...</td>\n",
       "      <td>NaN</td>\n",
       "      <td>NaN</td>\n",
       "      <td>Licitação</td>\n",
       "      <td>932</td>\n",
       "      <td>REPRESENTAÇÃO</td>\n",
       "      <td>Acórdão 3231/2011 - Plenário</td>\n",
       "      <td>2011-12-07</td>\n",
       "      <td>RELATOR</td>\n",
       "      <td>AROLDO CEDRAZ</td>\n",
       "    </tr>\n",
       "  </tbody>\n",
       "</table>\n",
       "</div>"
      ],
      "text/plain": [
       "      ID                                                                                                 TEXT                                       REFERENCE_LIST PARADIGMATIC         AREA_NAME  \\\n",
       "0  13568  É ilegal a contagem de tempo ficto de serviço prestado sob a égide da Lei 3.313/1957, proporcion...  Lei Complementar 51/1985 || Lei Ordinária 3313/1957          NaN           Pessoal   \n",
       "1  11614  SÚMULA TCU 283: Para fim de habilitação, a Administração Pública não deve exigir dos licitantes ...                                                  NaN       SUMULA         Licitação   \n",
       "2  21087  A contratação de serviços por preços superiores às referências legais (Sinapi e Sicro) deve ser,...                                                  NaN          NaN         Licitação   \n",
       "3  35016  Não se aplica, excepcionalmente, multa aos gestores por grave infração à norma legal se a irregu...                                                  NaN          NaN  Responsabilidade   \n",
       "4  29370  Em contratatações de TI, não cabe aceitar propostas de preço com incidência de encargos majorado...                                                  NaN          NaN         Licitação   \n",
       "\n",
       "   AREA_ID_DESCRIPTOR NORMATIVE_PROCESS_TYPE            NORMATIVE_IDENTIFICATION NORMATIVE_DATE NORMATIVE_AUTHOR_TYPE NORMATIVE_AUTHOR_NAME  \n",
       "0                1131          APOSENTADORIA   Acórdão 168/2014 - Segunda Câmara     2014-01-28               RELATOR            JOSÉ JORGE  \n",
       "1                 932         ADMINISTRATIVO        Acórdão 1613/2013 - Plenário     2013-06-26               RELATOR            JOSÉ JORGE  \n",
       "2                 932    PRESTAÇÃO DE CONTAS  Acórdão 3936/2013 - Segunda Câmara     2013-07-09               RELATOR            ANA ARRAES  \n",
       "3                 775          REPRESENTAÇÃO        Acórdão 3231/2011 - Plenário     2011-12-07               RELATOR         AROLDO CEDRAZ  \n",
       "4                 932          REPRESENTAÇÃO        Acórdão 3231/2011 - Plenário     2011-12-07               RELATOR         AROLDO CEDRAZ  "
      ]
     },
     "execution_count": 16,
     "metadata": {},
     "output_type": "execute_result"
    }
   ],
   "source": [
    "df_query.head()"
   ]
  },
  {
   "attachments": {},
   "cell_type": "markdown",
   "id": "a4df47bb",
   "metadata": {},
   "source": [
    "### Quantitative calculation"
   ]
  },
  {
   "attachments": {},
   "cell_type": "markdown",
   "metadata": {},
   "source": [
    "Tokenization loading"
   ]
  },
  {
   "cell_type": "code",
   "execution_count": 17,
   "metadata": {},
   "outputs": [
    {
     "name": "stderr",
     "output_type": "stream",
     "text": [
      "/home/borela/miniconda3/envs/relevar-busca/lib/python3.7/site-packages/transformers/convert_slow_tokenizer.py:447: UserWarning: The sentencepiece tokenizer that you are converting to a fast tokenizer uses the byte fallback option which is not implemented in the fast tokenizers. In practice this means that the fast version of the tokenizer can produce unknown tokens whereas the sentencepiece version would have converted these unknown tokens into a sequence of byte tokens matching the original piece of text.\n",
      "  \"The sentencepiece tokenizer that you are converting to a fast tokenizer uses the byte fallback option\"\n"
     ]
    }
   ],
   "source": [
    "nome_modelo_ranking_pt = 'unicamp-dl/mMiniLM-L6-v2-pt-v2'\n",
    "nome_caminho_modelo_pt = \"/home/borela/fontes/relevar-busca/modelo/\" + nome_modelo_ranking_pt\n",
    "assert os.path.exists(nome_caminho_modelo_pt), f\"Path para {nome_caminho_modelo_pt} não existe!\"\n",
    "\n",
    "nome_modelo_monot5_3b = 'unicamp-dl/mt5-3B-mmarco-en-pt'\n",
    "# \"A mono-ptT5 reranker model (850 mb) pretrained in the BrWac corpus, finetuned for 100k steps on Portuguese translated version of MS MARCO passage dataset. The portuguese dataset was translated using Google Translate.\")\n",
    "\n",
    "nome_caminho_modelo_3b = \"/home/borela/fontes/relevar-busca/modelo/\" + nome_modelo_monot5_3b\n",
    "assert os.path.exists(nome_caminho_modelo_3b), f\"Path para {nome_caminho_modelo_3b} não existe!\"\n",
    "\n",
    "tokenizador_pt_minilm = AutoTokenizer.from_pretrained(nome_caminho_modelo_pt)\n",
    "tokenizador_pt_monot5_3b = AutoTokenizer.from_pretrained(nome_caminho_modelo_3b)"
   ]
  },
  {
   "cell_type": "code",
   "execution_count": 18,
   "metadata": {},
   "outputs": [],
   "source": [
    "nome_modelo_ptt5_base = 'unicamp-dl/ptt5-base-pt-msmarco-100k-v2'\n",
    "nome_caminho_modelo_ptt5_base  = \"/home/borela/fontes/relevar-busca/modelo/\" + nome_modelo_ptt5_base\n",
    "assert os.path.exists(nome_caminho_modelo_ptt5_base ), f\"Path para {nome_caminho_modelo_ptt5_base } não existe!\""
   ]
  },
  {
   "cell_type": "code",
   "execution_count": 19,
   "metadata": {},
   "outputs": [],
   "source": [
    "tokenizador_ptt5_base = AutoTokenizer.from_pretrained(nome_caminho_modelo_ptt5_base)"
   ]
  },
  {
   "cell_type": "code",
   "execution_count": 20,
   "metadata": {},
   "outputs": [],
   "source": [
    "def retorna_num_tokens(parm_texto:str, parm_tokenizador:AutoTokenizer):\n",
    "    return len(parm_tokenizador.tokenize(parm_texto))\n"
   ]
  },
  {
   "cell_type": "code",
   "execution_count": 21,
   "id": "4e171047",
   "metadata": {},
   "outputs": [],
   "source": [
    "df_query['LEN_TEXT_CHAR'] = df_query['TEXT'].apply(len)\n",
    "df_query['LEN_TEXT_CHAR_LOG'] = round(np.log(df_query['TEXT'].apply(len))).astype(int)\n",
    "df_query['NUM_WORD'] = df_query['TEXT'].apply(lambda x: len(x.split()))\n",
    "df_query['NUM_TOKENS_MONOT5_3B'] = df_query['TEXT'].apply(retorna_num_tokens, parm_tokenizador=tokenizador_pt_monot5_3b)\n",
    "df_query['NUM_TOKENS_MINILM'] = df_query['TEXT'].apply(retorna_num_tokens, parm_tokenizador=tokenizador_pt_minilm)\n",
    "df_query['NUM_TOKENS_PTT5_BASE'] = df_query['TEXT'].apply(retorna_num_tokens, parm_tokenizador=tokenizador_ptt5_base)\n"
   ]
  },
  {
   "cell_type": "code",
   "execution_count": 22,
   "metadata": {},
   "outputs": [
    {
     "data": {
      "text/plain": [
       "(Index(['ID', 'TEXT', 'REFERENCE_LIST', 'PARADIGMATIC', 'AREA_NAME', 'AREA_ID_DESCRIPTOR', 'NORMATIVE_PROCESS_TYPE', 'NORMATIVE_IDENTIFICATION', 'NORMATIVE_DATE', 'NORMATIVE_AUTHOR_TYPE',\n",
       "        'NORMATIVE_AUTHOR_NAME', 'LEN_TEXT_CHAR', 'LEN_TEXT_CHAR_LOG', 'NUM_WORD', 'NUM_TOKENS_MONOT5_3B', 'NUM_TOKENS_MINILM', 'NUM_TOKENS_PTT5_BASE'],\n",
       "       dtype='object'),\n",
       " Index(['QUERY_ID', 'DOC_ID', 'TYPE'], dtype='object'),\n",
       " Index(['TEXT', 'ID', 'NAME', 'DATE_REFERENCE', 'CLASS', 'HAS_SCOPE_NOTE', 'HAS_DEFINITION', 'HAS_SYNONYM', 'HAS_EXAMPLE', 'HAS_ENGLISH_TRANSLATION', 'HAS_SPECIALIZATION', 'HAS_RELATED_TERM',\n",
       "        'HAS_SPANISH_TRANSLATION', 'HAS_GENERALIZATION', 'TEXT_DEFINITION', 'TEXT_SYNONYM', 'TEXT_RELATED_TERM', 'TEXT_SCOPE_NOTE', 'TEXT_EXAMPLE', 'TEXT_ENGLISH_TRANSLATION',\n",
       "        'TEXT_SPANISH_TRANSLATION', 'TEXT_SPECIALIZATION', 'TEXT_GENERALIZATION', 'COUNT_INDEX_AREA', 'COUNT_INDEX_THEME', 'COUNT_INDEX_SUBTHEME', 'COUNT_INDEX_EXTRA', 'COUNT_INDEX_TOTAL'],\n",
       "       dtype='object'))"
      ]
     },
     "execution_count": 22,
     "metadata": {},
     "output_type": "execute_result"
    }
   ],
   "source": [
    "df_query.columns, df_qrel.columns, df_doc.columns, "
   ]
  },
  {
   "cell_type": "code",
   "execution_count": 23,
   "metadata": {},
   "outputs": [
    {
     "name": "stdout",
     "output_type": "stream",
     "text": [
      "['REFERENCE_LIST', 'PARADIGMATIC', 'NORMATIVE_PROCESS_TYPE']\n"
     ]
    }
   ],
   "source": [
    "# Verificar as colunas com valores NaN\n",
    "columns_with_nan = df_query.columns[df_query.isna().any()].tolist()\n",
    "\n",
    "print(columns_with_nan)"
   ]
  },
  {
   "cell_type": "code",
   "execution_count": 24,
   "metadata": {},
   "outputs": [],
   "source": [
    "df_query = df_query.fillna(\"\")"
   ]
  },
  {
   "cell_type": "code",
   "execution_count": 25,
   "metadata": {},
   "outputs": [
    {
     "data": {
      "text/html": [
       "<div>\n",
       "<style scoped>\n",
       "    .dataframe tbody tr th:only-of-type {\n",
       "        vertical-align: middle;\n",
       "    }\n",
       "\n",
       "    .dataframe tbody tr th {\n",
       "        vertical-align: top;\n",
       "    }\n",
       "\n",
       "    .dataframe thead th {\n",
       "        text-align: right;\n",
       "    }\n",
       "</style>\n",
       "<table border=\"1\" class=\"dataframe\">\n",
       "  <thead>\n",
       "    <tr style=\"text-align: right;\">\n",
       "      <th></th>\n",
       "      <th>TEXT</th>\n",
       "      <th>ID</th>\n",
       "      <th>NAME</th>\n",
       "      <th>DATE_REFERENCE</th>\n",
       "      <th>CLASS</th>\n",
       "      <th>HAS_SCOPE_NOTE</th>\n",
       "      <th>HAS_DEFINITION</th>\n",
       "      <th>HAS_SYNONYM</th>\n",
       "      <th>HAS_EXAMPLE</th>\n",
       "      <th>HAS_ENGLISH_TRANSLATION</th>\n",
       "      <th>HAS_SPECIALIZATION</th>\n",
       "      <th>HAS_RELATED_TERM</th>\n",
       "      <th>HAS_SPANISH_TRANSLATION</th>\n",
       "      <th>HAS_GENERALIZATION</th>\n",
       "      <th>TEXT_DEFINITION</th>\n",
       "      <th>TEXT_SYNONYM</th>\n",
       "      <th>TEXT_RELATED_TERM</th>\n",
       "      <th>TEXT_SCOPE_NOTE</th>\n",
       "      <th>TEXT_EXAMPLE</th>\n",
       "      <th>TEXT_ENGLISH_TRANSLATION</th>\n",
       "      <th>TEXT_SPANISH_TRANSLATION</th>\n",
       "      <th>TEXT_SPECIALIZATION</th>\n",
       "      <th>TEXT_GENERALIZATION</th>\n",
       "      <th>COUNT_INDEX_AREA</th>\n",
       "      <th>COUNT_INDEX_THEME</th>\n",
       "      <th>COUNT_INDEX_SUBTHEME</th>\n",
       "      <th>COUNT_INDEX_EXTRA</th>\n",
       "      <th>COUNT_INDEX_TOTAL</th>\n",
       "    </tr>\n",
       "  </thead>\n",
       "  <tbody>\n",
       "    <tr>\n",
       "      <th>0</th>\n",
       "      <td>O termo é \"Abandono de cargo\".\\nAbandono de cargo tem definição: \"Configura abandono de cargo a ...</td>\n",
       "      <td>1</td>\n",
       "      <td>Abandono de cargo</td>\n",
       "      <td>20230614</td>\n",
       "      <td>Termo</td>\n",
       "      <td>1</td>\n",
       "      <td>1</td>\n",
       "      <td>1</td>\n",
       "      <td>0</td>\n",
       "      <td>1</td>\n",
       "      <td>0</td>\n",
       "      <td>1</td>\n",
       "      <td>1</td>\n",
       "      <td>0</td>\n",
       "      <td>Configura abandono de cargo a ausência intencional do servidor ao serviço por mais de trinta dia...</td>\n",
       "      <td>Abandono de função e Abandono do cargo.</td>\n",
       "      <td>Abandono de emprego, Deserção, Falta grave, Função pública, Demissão de servidor, Inassiduidade ...</td>\n",
       "      <td>Artigo 323 Código Penal</td>\n",
       "      <td>NaN</td>\n",
       "      <td>Abandonment of office.</td>\n",
       "      <td>Abandono de puesto.</td>\n",
       "      <td>NaN</td>\n",
       "      <td>NaN</td>\n",
       "      <td>0</td>\n",
       "      <td>1</td>\n",
       "      <td>0</td>\n",
       "      <td>0</td>\n",
       "      <td>1</td>\n",
       "    </tr>\n",
       "    <tr>\n",
       "      <th>1</th>\n",
       "      <td>O termo é \"Abastecimento de tropas e meios\".\\nAbastecimento de tropas e meios é uma especializaç...</td>\n",
       "      <td>2</td>\n",
       "      <td>Abastecimento de tropas e meios</td>\n",
       "      <td>20230614</td>\n",
       "      <td>Termo</td>\n",
       "      <td>0</td>\n",
       "      <td>0</td>\n",
       "      <td>0</td>\n",
       "      <td>0</td>\n",
       "      <td>1</td>\n",
       "      <td>0</td>\n",
       "      <td>0</td>\n",
       "      <td>1</td>\n",
       "      <td>1</td>\n",
       "      <td>NaN</td>\n",
       "      <td>NaN</td>\n",
       "      <td>NaN</td>\n",
       "      <td>NaN</td>\n",
       "      <td>NaN</td>\n",
       "      <td>Supply of troops and means.</td>\n",
       "      <td>Abastecimiento de tropas y medios e Suministro de tropas y médios.</td>\n",
       "      <td>Abastecimento.</td>\n",
       "      <td>NaN</td>\n",
       "      <td>0</td>\n",
       "      <td>0</td>\n",
       "      <td>0</td>\n",
       "      <td>1</td>\n",
       "      <td>1</td>\n",
       "    </tr>\n",
       "    <tr>\n",
       "      <th>2</th>\n",
       "      <td>O termo é \"Tropa\".\\nTropa tem definição: \"Termo coletivo que designa o pessoal de uma organizaçã...</td>\n",
       "      <td>3</td>\n",
       "      <td>Tropa</td>\n",
       "      <td>20230614</td>\n",
       "      <td>Termo</td>\n",
       "      <td>0</td>\n",
       "      <td>1</td>\n",
       "      <td>0</td>\n",
       "      <td>0</td>\n",
       "      <td>1</td>\n",
       "      <td>0</td>\n",
       "      <td>1</td>\n",
       "      <td>1</td>\n",
       "      <td>0</td>\n",
       "      <td>Termo coletivo que designa o pessoal de uma organização militar.</td>\n",
       "      <td>NaN</td>\n",
       "      <td>Organização militar e Missão.</td>\n",
       "      <td>NaN</td>\n",
       "      <td>NaN</td>\n",
       "      <td>Troop.</td>\n",
       "      <td>Tropa.</td>\n",
       "      <td>NaN</td>\n",
       "      <td>NaN</td>\n",
       "      <td>0</td>\n",
       "      <td>0</td>\n",
       "      <td>0</td>\n",
       "      <td>0</td>\n",
       "      <td>0</td>\n",
       "    </tr>\n",
       "    <tr>\n",
       "      <th>3</th>\n",
       "      <td>O termo é \"Abono de faltas\".\\nAbono de faltas tem definição: \"É a relevação da falta, de forma q...</td>\n",
       "      <td>4</td>\n",
       "      <td>Abono de faltas</td>\n",
       "      <td>20230614</td>\n",
       "      <td>Termo</td>\n",
       "      <td>1</td>\n",
       "      <td>1</td>\n",
       "      <td>1</td>\n",
       "      <td>0</td>\n",
       "      <td>0</td>\n",
       "      <td>0</td>\n",
       "      <td>1</td>\n",
       "      <td>0</td>\n",
       "      <td>0</td>\n",
       "      <td>É a relevação da falta, de forma que o servidor não sofra qualquer desconto pelo dia não trabalh...</td>\n",
       "      <td>Faltas, Abono das faltas e Abono de ausências.</td>\n",
       "      <td>Inassiduidade habitual e Afastamento de pessoal.</td>\n",
       "      <td>Usado para servidores regidos pela CLT (art. 473).</td>\n",
       "      <td>NaN</td>\n",
       "      <td>NaN</td>\n",
       "      <td>NaN</td>\n",
       "      <td>NaN</td>\n",
       "      <td>NaN</td>\n",
       "      <td>0</td>\n",
       "      <td>0</td>\n",
       "      <td>0</td>\n",
       "      <td>1</td>\n",
       "      <td>1</td>\n",
       "    </tr>\n",
       "    <tr>\n",
       "      <th>4</th>\n",
       "      <td>O termo é \"Abono de permanência em serviço\".\\nAbono de permanência em serviço tem definição: \"O ...</td>\n",
       "      <td>5</td>\n",
       "      <td>Abono de permanência em serviço</td>\n",
       "      <td>20230614</td>\n",
       "      <td>Termo</td>\n",
       "      <td>0</td>\n",
       "      <td>1</td>\n",
       "      <td>1</td>\n",
       "      <td>0</td>\n",
       "      <td>0</td>\n",
       "      <td>0</td>\n",
       "      <td>1</td>\n",
       "      <td>0</td>\n",
       "      <td>0</td>\n",
       "      <td>O abono de permanência será pago ao servidor que tiver preenchido as exigências para aposentador...</td>\n",
       "      <td>Abono de permanência, Adicional de permanência e Abono permanência.</td>\n",
       "      <td>Aposentadoria voluntária, Contribuição previdenciária e Regime Próprio de Previdência Social.</td>\n",
       "      <td>NaN</td>\n",
       "      <td>NaN</td>\n",
       "      <td>NaN</td>\n",
       "      <td>NaN</td>\n",
       "      <td>NaN</td>\n",
       "      <td>NaN</td>\n",
       "      <td>0</td>\n",
       "      <td>7</td>\n",
       "      <td>0</td>\n",
       "      <td>4</td>\n",
       "      <td>11</td>\n",
       "    </tr>\n",
       "  </tbody>\n",
       "</table>\n",
       "</div>"
      ],
      "text/plain": [
       "                                                                                                  TEXT  ID                             NAME  DATE_REFERENCE  CLASS  HAS_SCOPE_NOTE  HAS_DEFINITION  \\\n",
       "0  O termo é \"Abandono de cargo\".\\nAbandono de cargo tem definição: \"Configura abandono de cargo a ...   1                Abandono de cargo        20230614  Termo               1               1   \n",
       "1  O termo é \"Abastecimento de tropas e meios\".\\nAbastecimento de tropas e meios é uma especializaç...   2  Abastecimento de tropas e meios        20230614  Termo               0               0   \n",
       "2  O termo é \"Tropa\".\\nTropa tem definição: \"Termo coletivo que designa o pessoal de uma organizaçã...   3                            Tropa        20230614  Termo               0               1   \n",
       "3  O termo é \"Abono de faltas\".\\nAbono de faltas tem definição: \"É a relevação da falta, de forma q...   4                  Abono de faltas        20230614  Termo               1               1   \n",
       "4  O termo é \"Abono de permanência em serviço\".\\nAbono de permanência em serviço tem definição: \"O ...   5  Abono de permanência em serviço        20230614  Termo               0               1   \n",
       "\n",
       "   HAS_SYNONYM  HAS_EXAMPLE  HAS_ENGLISH_TRANSLATION  HAS_SPECIALIZATION  HAS_RELATED_TERM  HAS_SPANISH_TRANSLATION  HAS_GENERALIZATION  \\\n",
       "0            1            0                        1                   0                 1                        1                   0   \n",
       "1            0            0                        1                   0                 0                        1                   1   \n",
       "2            0            0                        1                   0                 1                        1                   0   \n",
       "3            1            0                        0                   0                 1                        0                   0   \n",
       "4            1            0                        0                   0                 1                        0                   0   \n",
       "\n",
       "                                                                                       TEXT_DEFINITION                                                         TEXT_SYNONYM  \\\n",
       "0  Configura abandono de cargo a ausência intencional do servidor ao serviço por mais de trinta dia...                              Abandono de função e Abandono do cargo.   \n",
       "1                                                                                                  NaN                                                                  NaN   \n",
       "2                                     Termo coletivo que designa o pessoal de uma organização militar.                                                                  NaN   \n",
       "3  É a relevação da falta, de forma que o servidor não sofra qualquer desconto pelo dia não trabalh...                       Faltas, Abono das faltas e Abono de ausências.   \n",
       "4  O abono de permanência será pago ao servidor que tiver preenchido as exigências para aposentador...  Abono de permanência, Adicional de permanência e Abono permanência.   \n",
       "\n",
       "                                                                                     TEXT_RELATED_TERM                                     TEXT_SCOPE_NOTE TEXT_EXAMPLE     TEXT_ENGLISH_TRANSLATION  \\\n",
       "0  Abandono de emprego, Deserção, Falta grave, Função pública, Demissão de servidor, Inassiduidade ...                             Artigo 323 Código Penal          NaN       Abandonment of office.   \n",
       "1                                                                                                  NaN                                                 NaN          NaN  Supply of troops and means.   \n",
       "2                                                                        Organização militar e Missão.                                                 NaN          NaN                       Troop.   \n",
       "3                                                     Inassiduidade habitual e Afastamento de pessoal.  Usado para servidores regidos pela CLT (art. 473).          NaN                          NaN   \n",
       "4        Aposentadoria voluntária, Contribuição previdenciária e Regime Próprio de Previdência Social.                                                 NaN          NaN                          NaN   \n",
       "\n",
       "                                             TEXT_SPANISH_TRANSLATION TEXT_SPECIALIZATION TEXT_GENERALIZATION  COUNT_INDEX_AREA  COUNT_INDEX_THEME  COUNT_INDEX_SUBTHEME  COUNT_INDEX_EXTRA  \\\n",
       "0                                                 Abandono de puesto.                 NaN                 NaN                 0                  1                     0                  0   \n",
       "1  Abastecimiento de tropas y medios e Suministro de tropas y médios.      Abastecimento.                 NaN                 0                  0                     0                  1   \n",
       "2                                                              Tropa.                 NaN                 NaN                 0                  0                     0                  0   \n",
       "3                                                                 NaN                 NaN                 NaN                 0                  0                     0                  1   \n",
       "4                                                                 NaN                 NaN                 NaN                 0                  7                     0                  4   \n",
       "\n",
       "   COUNT_INDEX_TOTAL  \n",
       "0                  1  \n",
       "1                  1  \n",
       "2                  0  \n",
       "3                  1  \n",
       "4                 11  "
      ]
     },
     "execution_count": 25,
     "metadata": {},
     "output_type": "execute_result"
    }
   ],
   "source": [
    "df_doc.head()"
   ]
  },
  {
   "cell_type": "code",
   "execution_count": 26,
   "metadata": {},
   "outputs": [
    {
     "name": "stdout",
     "output_type": "stream",
     "text": [
      "['TEXT_DEFINITION', 'TEXT_SYNONYM', 'TEXT_RELATED_TERM', 'TEXT_SCOPE_NOTE', 'TEXT_EXAMPLE', 'TEXT_ENGLISH_TRANSLATION', 'TEXT_SPANISH_TRANSLATION', 'TEXT_SPECIALIZATION', 'TEXT_GENERALIZATION']\n"
     ]
    }
   ],
   "source": [
    "# Verificar as colunas com valores NaN\n",
    "columns_with_nan = df_doc.columns[df_doc.isna().any()].tolist()\n",
    "\n",
    "print(columns_with_nan)"
   ]
  },
  {
   "cell_type": "code",
   "execution_count": 27,
   "metadata": {},
   "outputs": [],
   "source": [
    "df_doc = df_doc.fillna(\"\")"
   ]
  },
  {
   "cell_type": "code",
   "execution_count": 28,
   "metadata": {},
   "outputs": [],
   "source": [
    "# Converter as colunas para o tipo string\n",
    "df_doc[columns_with_nan] = df_doc[columns_with_nan].astype(str)"
   ]
  },
  {
   "cell_type": "code",
   "execution_count": null,
   "metadata": {},
   "outputs": [],
   "source": []
  },
  {
   "attachments": {},
   "cell_type": "markdown",
   "metadata": {},
   "source": [
    "# Expand docs"
   ]
  },
  {
   "attachments": {},
   "cell_type": "markdown",
   "metadata": {},
   "source": [
    "## Create reference to index (juris_tcu_index)"
   ]
  },
  {
   "cell_type": "code",
   "execution_count": 29,
   "metadata": {},
   "outputs": [],
   "source": [
    "INDEX_NAME = 'indir_juris_tcu_index'"
   ]
  },
  {
   "cell_type": "code",
   "execution_count": 30,
   "metadata": {},
   "outputs": [
    {
     "name": "stdout",
     "output_type": "stream",
     "text": [
      "\n",
      "Qtd de documentos 13255\n",
      "\n",
      "Qtd de embeddings 13255\n",
      "\n",
      "Documento.id=5: <Document: id=5, content='O termo é \"Abono de permanência em serviço\".\n",
      "Abono de permanência em serviço tem definição: \"O abono...'>\n"
     ]
    }
   ],
   "source": [
    "index = util_elastic.return_index(parm_index_name=INDEX_NAME)"
   ]
  },
  {
   "attachments": {},
   "cell_type": "markdown",
   "metadata": {},
   "source": [
    "## Create pipeline"
   ]
  },
  {
   "cell_type": "code",
   "execution_count": 31,
   "metadata": {},
   "outputs": [],
   "source": [
    "# Test query\n",
    "# parm_query = \"trata-se de uma denúncia contra o prefeito de Manhuaçu por não haver pago os funcionários da área de limpeza urbana\"\n",
    "parm_query = \"A transferência de documentos da entidade para local impróprio ao armazenamento, causando a perda de informações ou inviabilizando seu manuseio, de forma a impedir a atuação do TCU, é causa de responsabilização do gestor que a ordenou.\""
   ]
  },
  {
   "cell_type": "code",
   "execution_count": 32,
   "metadata": {},
   "outputs": [],
   "source": [
    "pipes = []"
   ]
  },
  {
   "cell_type": "code",
   "execution_count": 33,
   "metadata": {},
   "outputs": [],
   "source": [
    "ranker_type = 'PTT5_INDIR_400' #'PTT5_BASE' #'PTT5_INDIR_83' # 'MT5_3B' # 'MT5_TRAINED_LIM50_800' # 'MINILM_TRAINED_19000'4"
   ]
  },
  {
   "cell_type": "code",
   "execution_count": 34,
   "metadata": {},
   "outputs": [],
   "source": [
    "FILTER_TERMO = {'class':['Termo']}"
   ]
  },
  {
   "cell_type": "code",
   "execution_count": 35,
   "metadata": {},
   "outputs": [
    {
     "data": {
      "text/plain": [
       "({'class': ['Termo']}, 'PTT5_INDIR_400')"
      ]
     },
     "execution_count": 35,
     "metadata": {},
     "output_type": "execute_result"
    }
   ],
   "source": [
    "FILTER_TERMO, ranker_type"
   ]
  },
  {
   "cell_type": "code",
   "execution_count": 36,
   "metadata": {},
   "outputs": [
    {
     "name": "stdout",
     "output_type": "stream",
     "text": [
      "Loading PTT5_INDIR_400 with limit_query_size=350\n",
      "CPU times: user 11.6 s, sys: 1.82 s, total: 13.4 s\n",
      "Wall time: 7.14 s\n"
     ]
    }
   ],
   "source": [
    "%%time\n",
    "pipe_join_bm25_sts_reranker = util_pipeline.return_pipeline_join_bm25_sts_reranker(index, ranker_type, parm_limit_query_size=350)"
   ]
  },
  {
   "cell_type": "code",
   "execution_count": 37,
   "metadata": {},
   "outputs": [],
   "source": [
    "pipes.append({'PIPE_NAME': 'pipe_join_bm25_sts_reranker',\n",
    "              'PIPE_OBJECT': pipe_join_bm25_sts_reranker,\n",
    "              'RETRIEVER_TYPE': 'join_sts_bm25',  \n",
    "              'RETRIEVER_MODEL_NAME': '', \n",
    "              'RANKER_MODEL_NAME': util_pipeline.return_ranker_name(ranker_type)})"
   ]
  },
  {
   "cell_type": "code",
   "execution_count": 42,
   "metadata": {},
   "outputs": [
    {
     "name": "stdout",
     "output_type": "stream",
     "text": [
      "Parâmetros usados: {'Bm25Retriever': {'top_k': 150}, 'StsRetriever': {'top_k': 150}, 'Ranker': {'top_k': 20}, 'filters': {'class': ['Termo']}}\n",
      "Consulta: A transferência de documentos da entidade para local impróprio ao armazenamento, causando a perda de informações ou inviabilizando seu manuseio, de forma a impedir a atuação do TCU, é causa de responsabilização do gestor que a ordenou.\n",
      "Qtd documentos retornados: 20\n",
      "Seguem os nomes dos termos recuperados em ordem de score\n",
      "0 : ['Transferência documental', '6139', -0.005041031166911125]\n",
      "1 : ['Armazenamento de dados', '1101009', -0.01332791242748499]\n",
      "2 : ['Vazamento de dados', '1110487', -0.017766617238521576]\n",
      "3 : ['Determinação', '15266', -0.02106134407222271]\n",
      "4 : ['Gestor', '716', -0.061831917613744736]\n",
      "5 : ['Gestão documental', '6136', -0.0694652572274208]\n",
      "6 : ['Culpa in vigilando', '360', -0.23385845124721527]\n",
      "7 : ['Competência do TCU', '5095', -0.25020989775657654]\n",
      "8 : ['Gestor público', '5307', -0.2594102621078491]\n",
      "9 : ['Conduta omissiva', '15275', -0.2904907166957855]\n",
      "10 : ['Arquivamento', '108', -0.30233100056648254]\n",
      "11 : ['Controle interno', '339', -0.34363600611686707]\n",
      "12 : ['Sonegação de informação', '14844', -0.36488834023475647]\n",
      "13 : ['Poder discricionário', '5464', -0.578981876373291]\n",
      "14 : ['Responsabilidade perante o controle externo', '5098', -0.6350927948951721]\n",
      "15 : ['Guardar', '1113895', -0.669274091720581]\n",
      "16 : ['Administrar', '1113879', -0.7273131608963013]\n",
      "17 : ['Locaute', '5396', -1.0022480487823486]\n",
      "18 : ['Irregularidade', '1701', -1.052208423614502]\n",
      "19 : ['Gestor da informação', '6124', -1.0687241554260254]\n",
      "CPU times: user 2.21 s, sys: 23.9 ms, total: 2.23 s\n",
      "Wall time: 2.36 s\n"
     ]
    }
   ],
   "source": [
    "%%time\n",
    "doctos_retornados_ranker = pipe_join_bm25_sts_reranker.run(query=parm_query, \n",
    " params={\"Bm25Retriever\": {\"top_k\": 150}, \"StsRetriever\": {\"top_k\": 150}, \"Ranker\": {\"top_k\": 20}, \"filters\": FILTER_TERMO})\n",
    "util_pipeline.detail_document_found(doctos_retornados_ranker, 20)"
   ]
  },
  {
   "cell_type": "code",
   "execution_count": 43,
   "metadata": {},
   "outputs": [
    {
     "name": "stdout",
     "output_type": "stream",
     "text": [
      "Parâmetros usados: {'Bm25Retriever': {'top_k': 100}, 'StsRetriever': {'top_k': 100}, 'Ranker': {'top_k': 20}, 'filters': {'class': ['Termo']}}\n",
      "Consulta: A transferência de documentos da entidade para local impróprio ao armazenamento, causando a perda de informações ou inviabilizando seu manuseio, de forma a impedir a atuação do TCU, é causa de responsabilização do gestor que a ordenou.\n",
      "Qtd documentos retornados: 20\n",
      "Seguem os nomes dos termos recuperados em ordem de score\n",
      "0 : ['Armazenamento de dados', '1101009', -0.01332791242748499]\n",
      "1 : ['Vazamento de dados', '1110487', -0.017766617238521576]\n",
      "2 : ['Determinação', '15266', -0.02104850485920906]\n",
      "3 : ['Gestor', '716', -0.061831917613744736]\n",
      "4 : ['Gestão documental', '6136', -0.069437675178051]\n",
      "5 : ['Culpa in vigilando', '360', -0.23364831507205963]\n",
      "6 : ['Competência do TCU', '5095', -0.25020989775657654]\n",
      "7 : ['Conduta omissiva', '15275', -0.2904728055000305]\n",
      "8 : ['Arquivamento', '108', -0.30233100056648254]\n",
      "9 : ['Controle interno', '339', -0.34363600611686707]\n",
      "10 : ['Sonegação de informação', '14844', -0.36410707235336304]\n",
      "11 : ['Poder discricionário', '5464', -0.5779869556427002]\n",
      "12 : ['Responsabilidade perante o controle externo', '5098', -0.6343263387680054]\n",
      "13 : ['Guardar', '1113895', -0.669274091720581]\n",
      "14 : ['Administrar', '1113879', -0.7273131608963013]\n",
      "15 : ['Locaute', '5396', -1.0042372941970825]\n",
      "16 : ['Irregularidade', '1701', -1.0518577098846436]\n",
      "17 : ['Gestor da informação', '6124', -1.0687241554260254]\n",
      "18 : ['Responsável', '2651', -1.4675530195236206]\n",
      "19 : ['Custodiante da informação', '6125', -1.5357381105422974]\n",
      "CPU times: user 1.6 s, sys: 15.9 ms, total: 1.61 s\n",
      "Wall time: 1.72 s\n"
     ]
    }
   ],
   "source": [
    "%%time\n",
    "doctos_retornados_ranker = pipe_join_bm25_sts_reranker.run(query=parm_query, \n",
    " params={\"Bm25Retriever\": {\"top_k\": 100}, \"StsRetriever\": {\"top_k\": 100}, \"Ranker\": {\"top_k\": 20}, \"filters\": FILTER_TERMO})\n",
    "util_pipeline.detail_document_found(doctos_retornados_ranker, 20)"
   ]
  },
  {
   "cell_type": "code",
   "execution_count": 40,
   "metadata": {},
   "outputs": [
    {
     "ename": "Exception",
     "evalue": "Stop here!",
     "output_type": "error",
     "traceback": [
      "\u001b[0;31m---------------------------------------------------------------------------\u001b[0m",
      "\u001b[0;31mException\u001b[0m                                 Traceback (most recent call last)",
      "\u001b[0;32m/tmp/ipykernel_1583734/279058790.py\u001b[0m in \u001b[0;36m<module>\u001b[0;34m\u001b[0m\n\u001b[0;32m----> 1\u001b[0;31m \u001b[0;32mraise\u001b[0m \u001b[0mException\u001b[0m\u001b[0;34m(\u001b[0m\u001b[0;34m'Stop here!'\u001b[0m\u001b[0;34m)\u001b[0m\u001b[0;34m\u001b[0m\u001b[0;34m\u001b[0m\u001b[0m\n\u001b[0m",
      "\u001b[0;31mException\u001b[0m: Stop here!"
     ]
    }
   ],
   "source": [
    "raise Exception('Stop here!')"
   ]
  },
  {
   "attachments": {},
   "cell_type": "markdown",
   "metadata": {},
   "source": [
    "## Create expansion"
   ]
  },
  {
   "cell_type": "code",
   "execution_count": 44,
   "metadata": {},
   "outputs": [],
   "source": [
    "from unidecode import unidecode\n",
    "import string\n",
    "import re\n"
   ]
  },
  {
   "cell_type": "code",
   "execution_count": 45,
   "metadata": {},
   "outputs": [],
   "source": [
    "def set_normalize_text(text):\n",
    "    # Remover espaços duplicados e espaços extras à direita e à esquerda\n",
    "    text = re.sub(r'\\s+', ' ', text.lower()).strip()\n",
    "    # Remover acentos e caracteres especiais\n",
    "    text = unidecode(text)\n",
    "    # Separar as palavras em substrings\n",
    "    words = text.split()\n",
    "    # Retornar um conjunto de palavras normalizadas\n",
    "    return set(words)"
   ]
  },
  {
   "cell_type": "code",
   "execution_count": 46,
   "metadata": {},
   "outputs": [],
   "source": [
    "def test_similar_or_subtext(text1, text2):\n",
    "    normalized_text1 = set_normalize_text(text1)\n",
    "    normalized_text2 = set_normalize_text(text2)\n",
    "    return normalized_text1 == normalized_text2 or normalized_text1.issubset(normalized_text2)\n"
   ]
  },
  {
   "cell_type": "code",
   "execution_count": 47,
   "metadata": {},
   "outputs": [
    {
     "data": {
      "text/plain": [
       "{'bem.', 'como', 'esta', 'ola', 'vai', 'voc?'}"
      ]
     },
     "execution_count": 47,
     "metadata": {},
     "output_type": "execute_result"
    }
   ],
   "source": [
    "set_normalize_text('olá comO   vai voc? está bem.')"
   ]
  },
  {
   "cell_type": "code",
   "execution_count": 48,
   "metadata": {},
   "outputs": [
    {
     "data": {
      "text/plain": [
       "False"
      ]
     },
     "execution_count": 48,
     "metadata": {},
     "output_type": "execute_result"
    }
   ],
   "source": [
    "test_similar_or_subtext(\"Licitação de técnica e preço\",\"técnica e preço\")"
   ]
  },
  {
   "cell_type": "code",
   "execution_count": 107,
   "metadata": {},
   "outputs": [],
   "source": [
    "\n",
    "def expand_query(parm_pipe, parm_df_query, num_expansion):\n",
    "    if num_expansion > 30:\n",
    "        raise Exception('Review limit in code for num_expansion of 30!')\n",
    "    count_expansion = [inteiro + 1 for inteiro in range(num_expansion)]\n",
    "    expanded_rows = []\n",
    "    for _, row in tqdm(parm_df_query.iterrows(), total =parm_df_query.shape[0]):\n",
    "        query_id = row['ID']\n",
    "        doc_return = parm_pipe.run(query=row['TEXT'], params={\"Bm25Retriever\": {\"top_k\": 150}, \"StsRetriever\": {\"top_k\": 150}, \"filters\": FILTER_TERMO}) # , \"Ranker\": {\"top_k\": num_expansion*4}\n",
    "\n",
    "        termos = []\n",
    "        text_formed = row['TEXT']\n",
    "        for docto in doc_return['documents'][:num_expansion * 3]:\n",
    "            if not test_similar_or_subtext(docto.meta['name'], text_formed):\n",
    "                termos.append(docto.meta['id'])\n",
    "            if len(termos) == num_expansion:\n",
    "                break\n",
    "        \n",
    "        for count in count_expansion:\n",
    "            if count <= len(termos):\n",
    "                doc_id = termos[count-1]\n",
    "                expanded_rows.append({'QUERY_ID': query_id, 'DOC_ID': doc_id, 'ORDER': count})\n",
    "    \n",
    "    df_expanded = pd.DataFrame(expanded_rows)\n",
    "    return df_expanded\n"
   ]
  },
  {
   "cell_type": "code",
   "execution_count": 108,
   "metadata": {},
   "outputs": [],
   "source": [
    "df_query = pd.read_csv(PATH_QUERY)"
   ]
  },
  {
   "cell_type": "code",
   "execution_count": 109,
   "metadata": {},
   "outputs": [
    {
     "data": {
      "text/html": [
       "<div>\n",
       "<style scoped>\n",
       "    .dataframe tbody tr th:only-of-type {\n",
       "        vertical-align: middle;\n",
       "    }\n",
       "\n",
       "    .dataframe tbody tr th {\n",
       "        vertical-align: top;\n",
       "    }\n",
       "\n",
       "    .dataframe thead th {\n",
       "        text-align: right;\n",
       "    }\n",
       "</style>\n",
       "<table border=\"1\" class=\"dataframe\">\n",
       "  <thead>\n",
       "    <tr style=\"text-align: right;\">\n",
       "      <th></th>\n",
       "      <th>ID</th>\n",
       "      <th>TEXT</th>\n",
       "      <th>REFERENCE_LIST</th>\n",
       "      <th>PARADIGMATIC</th>\n",
       "      <th>AREA_NAME</th>\n",
       "      <th>AREA_ID_DESCRIPTOR</th>\n",
       "      <th>NORMATIVE_PROCESS_TYPE</th>\n",
       "      <th>NORMATIVE_IDENTIFICATION</th>\n",
       "      <th>NORMATIVE_DATE</th>\n",
       "      <th>NORMATIVE_AUTHOR_TYPE</th>\n",
       "      <th>NORMATIVE_AUTHOR_NAME</th>\n",
       "    </tr>\n",
       "  </thead>\n",
       "  <tbody>\n",
       "    <tr>\n",
       "      <th>0</th>\n",
       "      <td>13568</td>\n",
       "      <td>É ilegal a contagem de tempo ficto de serviço prestado sob a égide da Lei 3.313/1957, proporcion...</td>\n",
       "      <td>Lei Complementar 51/1985 || Lei Ordinária 3313/1957</td>\n",
       "      <td>NaN</td>\n",
       "      <td>Pessoal</td>\n",
       "      <td>1131</td>\n",
       "      <td>APOSENTADORIA</td>\n",
       "      <td>Acórdão 168/2014 - Segunda Câmara</td>\n",
       "      <td>2014-01-28</td>\n",
       "      <td>RELATOR</td>\n",
       "      <td>JOSÉ JORGE</td>\n",
       "    </tr>\n",
       "    <tr>\n",
       "      <th>1</th>\n",
       "      <td>11614</td>\n",
       "      <td>SÚMULA TCU 283: Para fim de habilitação, a Administração Pública não deve exigir dos licitantes ...</td>\n",
       "      <td>NaN</td>\n",
       "      <td>SUMULA</td>\n",
       "      <td>Licitação</td>\n",
       "      <td>932</td>\n",
       "      <td>ADMINISTRATIVO</td>\n",
       "      <td>Acórdão 1613/2013 - Plenário</td>\n",
       "      <td>2013-06-26</td>\n",
       "      <td>RELATOR</td>\n",
       "      <td>JOSÉ JORGE</td>\n",
       "    </tr>\n",
       "  </tbody>\n",
       "</table>\n",
       "</div>"
      ],
      "text/plain": [
       "      ID                                                                                                 TEXT                                       REFERENCE_LIST PARADIGMATIC  AREA_NAME  \\\n",
       "0  13568  É ilegal a contagem de tempo ficto de serviço prestado sob a égide da Lei 3.313/1957, proporcion...  Lei Complementar 51/1985 || Lei Ordinária 3313/1957          NaN    Pessoal   \n",
       "1  11614  SÚMULA TCU 283: Para fim de habilitação, a Administração Pública não deve exigir dos licitantes ...                                                  NaN       SUMULA  Licitação   \n",
       "\n",
       "   AREA_ID_DESCRIPTOR NORMATIVE_PROCESS_TYPE           NORMATIVE_IDENTIFICATION NORMATIVE_DATE NORMATIVE_AUTHOR_TYPE NORMATIVE_AUTHOR_NAME  \n",
       "0                1131          APOSENTADORIA  Acórdão 168/2014 - Segunda Câmara     2014-01-28               RELATOR            JOSÉ JORGE  \n",
       "1                 932         ADMINISTRATIVO       Acórdão 1613/2013 - Plenário     2013-06-26               RELATOR            JOSÉ JORGE  "
      ]
     },
     "execution_count": 109,
     "metadata": {},
     "output_type": "execute_result"
    }
   ],
   "source": [
    "df_query.head(2)"
   ]
  },
  {
   "cell_type": "markdown",
   "metadata": {},
   "source": [
    "%%time\n",
    "df_expanded = expand_query(parm_pipe = pipe_join_bm25_sts_reranker, parm_df_query=df_query.sample(frac=0.0001, random_state=123).reset_index(drop=True), num_expansion=5)"
   ]
  },
  {
   "cell_type": "code",
   "execution_count": 112,
   "metadata": {},
   "outputs": [
    {
     "name": "stderr",
     "output_type": "stream",
     "text": [
      "  0%|          | 30/16045 [01:10<10:30:42,  2.36s/it]"
     ]
    }
   ],
   "source": [
    "%%time\n",
    "df_expanded = expand_query(parm_pipe = pipe_join_bm25_sts_reranker, parm_df_query=df_query, num_expansion=5)"
   ]
  },
  {
   "cell_type": "code",
   "execution_count": null,
   "metadata": {},
   "outputs": [],
   "source": [
    "EXPANSOR_CRITERIA = 'join_300_ptt5_indir_400' "
   ]
  },
  {
   "cell_type": "code",
   "execution_count": null,
   "metadata": {},
   "outputs": [],
   "source": [
    "PATH_DOC_EXPANDED =  f'../data/juris_tcu_expanded_doc/doc_5_expansion_{EXPANSOR_CRITERIA}.csv' "
   ]
  },
  {
   "cell_type": "code",
   "execution_count": null,
   "metadata": {},
   "outputs": [],
   "source": [
    "df_expanded.to_csv(PATH_DOC_EXPANDED, index=False)"
   ]
  },
  {
   "cell_type": "code",
   "execution_count": null,
   "metadata": {},
   "outputs": [
    {
     "data": {
      "text/html": [
       "<div>\n",
       "<style scoped>\n",
       "    .dataframe tbody tr th:only-of-type {\n",
       "        vertical-align: middle;\n",
       "    }\n",
       "\n",
       "    .dataframe tbody tr th {\n",
       "        vertical-align: top;\n",
       "    }\n",
       "\n",
       "    .dataframe thead th {\n",
       "        text-align: right;\n",
       "    }\n",
       "</style>\n",
       "<table border=\"1\" class=\"dataframe\">\n",
       "  <thead>\n",
       "    <tr style=\"text-align: right;\">\n",
       "      <th></th>\n",
       "      <th>QUERY_ID</th>\n",
       "      <th>DOC_ID</th>\n",
       "      <th>ORDER</th>\n",
       "    </tr>\n",
       "  </thead>\n",
       "  <tbody>\n",
       "    <tr>\n",
       "      <th>0</th>\n",
       "      <td>31083</td>\n",
       "      <td>1196</td>\n",
       "      <td>1</td>\n",
       "    </tr>\n",
       "    <tr>\n",
       "      <th>1</th>\n",
       "      <td>31083</td>\n",
       "      <td>932</td>\n",
       "      <td>2</td>\n",
       "    </tr>\n",
       "    <tr>\n",
       "      <th>2</th>\n",
       "      <td>31083</td>\n",
       "      <td>1200</td>\n",
       "      <td>3</td>\n",
       "    </tr>\n",
       "    <tr>\n",
       "      <th>3</th>\n",
       "      <td>31083</td>\n",
       "      <td>1289</td>\n",
       "      <td>4</td>\n",
       "    </tr>\n",
       "    <tr>\n",
       "      <th>4</th>\n",
       "      <td>31083</td>\n",
       "      <td>1496</td>\n",
       "      <td>5</td>\n",
       "    </tr>\n",
       "    <tr>\n",
       "      <th>5</th>\n",
       "      <td>36806</td>\n",
       "      <td>1104186</td>\n",
       "      <td>1</td>\n",
       "    </tr>\n",
       "    <tr>\n",
       "      <th>6</th>\n",
       "      <td>36806</td>\n",
       "      <td>16124</td>\n",
       "      <td>2</td>\n",
       "    </tr>\n",
       "    <tr>\n",
       "      <th>7</th>\n",
       "      <td>36806</td>\n",
       "      <td>338</td>\n",
       "      <td>3</td>\n",
       "    </tr>\n",
       "    <tr>\n",
       "      <th>8</th>\n",
       "      <td>36806</td>\n",
       "      <td>9</td>\n",
       "      <td>4</td>\n",
       "    </tr>\n",
       "    <tr>\n",
       "      <th>9</th>\n",
       "      <td>36806</td>\n",
       "      <td>1102013</td>\n",
       "      <td>5</td>\n",
       "    </tr>\n",
       "  </tbody>\n",
       "</table>\n",
       "</div>"
      ],
      "text/plain": [
       "   QUERY_ID   DOC_ID  ORDER\n",
       "0     31083     1196      1\n",
       "1     31083      932      2\n",
       "2     31083     1200      3\n",
       "3     31083     1289      4\n",
       "4     31083     1496      5\n",
       "5     36806  1104186      1\n",
       "6     36806    16124      2\n",
       "7     36806      338      3\n",
       "8     36806        9      4\n",
       "9     36806  1102013      5"
      ]
     },
     "execution_count": 111,
     "metadata": {},
     "output_type": "execute_result"
    }
   ],
   "source": [
    "df_expanded.head()"
   ]
  },
  {
   "attachments": {},
   "cell_type": "markdown",
   "metadata": {},
   "source": [
    "# Generate concatenations"
   ]
  },
  {
   "attachments": {},
   "cell_type": "markdown",
   "metadata": {},
   "source": [
    "Concatenate terms (by qrel) and synonyms (by doc)"
   ]
  },
  {
   "cell_type": "code",
   "execution_count": 72,
   "metadata": {},
   "outputs": [
    {
     "data": {
      "text/html": [
       "<div>\n",
       "<style scoped>\n",
       "    .dataframe tbody tr th:only-of-type {\n",
       "        vertical-align: middle;\n",
       "    }\n",
       "\n",
       "    .dataframe tbody tr th {\n",
       "        vertical-align: top;\n",
       "    }\n",
       "\n",
       "    .dataframe thead th {\n",
       "        text-align: right;\n",
       "    }\n",
       "</style>\n",
       "<table border=\"1\" class=\"dataframe\">\n",
       "  <thead>\n",
       "    <tr style=\"text-align: right;\">\n",
       "      <th></th>\n",
       "      <th>QUERY_ID</th>\n",
       "      <th>DOC_ID</th>\n",
       "    </tr>\n",
       "  </thead>\n",
       "  <tbody>\n",
       "    <tr>\n",
       "      <th>0</th>\n",
       "      <td>31083</td>\n",
       "      <td>1196</td>\n",
       "    </tr>\n",
       "    <tr>\n",
       "      <th>1</th>\n",
       "      <td>31083</td>\n",
       "      <td>932</td>\n",
       "    </tr>\n",
       "    <tr>\n",
       "      <th>2</th>\n",
       "      <td>31083</td>\n",
       "      <td>1200</td>\n",
       "    </tr>\n",
       "    <tr>\n",
       "      <th>3</th>\n",
       "      <td>31083</td>\n",
       "      <td>1289</td>\n",
       "    </tr>\n",
       "    <tr>\n",
       "      <th>4</th>\n",
       "      <td>31083</td>\n",
       "      <td>1496</td>\n",
       "    </tr>\n",
       "  </tbody>\n",
       "</table>\n",
       "</div>"
      ],
      "text/plain": [
       "   QUERY_ID  DOC_ID\n",
       "0     31083    1196\n",
       "1     31083     932\n",
       "2     31083    1200\n",
       "3     31083    1289\n",
       "4     31083    1496"
      ]
     },
     "execution_count": 72,
     "metadata": {},
     "output_type": "execute_result"
    }
   ],
   "source": [
    "df_expanded.head()"
   ]
  },
  {
   "cell_type": "code",
   "execution_count": null,
   "metadata": {},
   "outputs": [],
   "source": [
    "df = df_expanded.merge(df_doc[['ID', 'NAME', 'TEXT_SYNONYM', 'TEXT_RELATED_TERM', 'HAS_SYNONYM', 'HAS_RELATED_TERM']], how='inner', left_on='DOC_ID', right_on='ID')"
   ]
  },
  {
   "cell_type": "code",
   "execution_count": 74,
   "metadata": {},
   "outputs": [
    {
     "data": {
      "text/plain": [
       "(10, 8)"
      ]
     },
     "execution_count": 74,
     "metadata": {},
     "output_type": "execute_result"
    }
   ],
   "source": [
    "df.shape"
   ]
  },
  {
   "cell_type": "code",
   "execution_count": 75,
   "metadata": {},
   "outputs": [
    {
     "data": {
      "text/html": [
       "<div>\n",
       "<style scoped>\n",
       "    .dataframe tbody tr th:only-of-type {\n",
       "        vertical-align: middle;\n",
       "    }\n",
       "\n",
       "    .dataframe tbody tr th {\n",
       "        vertical-align: top;\n",
       "    }\n",
       "\n",
       "    .dataframe thead th {\n",
       "        text-align: right;\n",
       "    }\n",
       "</style>\n",
       "<table border=\"1\" class=\"dataframe\">\n",
       "  <thead>\n",
       "    <tr style=\"text-align: right;\">\n",
       "      <th></th>\n",
       "      <th>QUERY_ID</th>\n",
       "      <th>DOC_ID</th>\n",
       "      <th>ID</th>\n",
       "      <th>NAME</th>\n",
       "      <th>TEXT_SYNONYM</th>\n",
       "      <th>TEXT_RELATED_TERM</th>\n",
       "      <th>HAS_SYNONYM</th>\n",
       "      <th>HAS_RELATED_TERM</th>\n",
       "    </tr>\n",
       "  </thead>\n",
       "  <tbody>\n",
       "    <tr>\n",
       "      <th>0</th>\n",
       "      <td>31083</td>\n",
       "      <td>1196</td>\n",
       "      <td>1196</td>\n",
       "      <td>Preço global</td>\n",
       "      <td></td>\n",
       "      <td>Licitação de menor preço, Método de limitação do preço global e Orçamento detalhado.</td>\n",
       "      <td>0</td>\n",
       "      <td>1</td>\n",
       "    </tr>\n",
       "    <tr>\n",
       "      <th>1</th>\n",
       "      <td>31083</td>\n",
       "      <td>932</td>\n",
       "      <td>932</td>\n",
       "      <td>Licitação</td>\n",
       "      <td>Certame licitatório, Procedimento licitatório, Procedimentos licitatórios, Licitação pública, Li...</td>\n",
       "      <td>Sobrepreço, Superfaturamento, Margem de preferência, Equipe de apoio, Princípio da padronização,...</td>\n",
       "      <td>1</td>\n",
       "      <td>1</td>\n",
       "    </tr>\n",
       "    <tr>\n",
       "      <th>2</th>\n",
       "      <td>31083</td>\n",
       "      <td>1200</td>\n",
       "      <td>1200</td>\n",
       "      <td>Preço unitário</td>\n",
       "      <td></td>\n",
       "      <td>Licitação de menor preço, Método de limitação de preços unitários ajustados e Orçamento detalhado.</td>\n",
       "      <td>0</td>\n",
       "      <td>1</td>\n",
       "    </tr>\n",
       "    <tr>\n",
       "      <th>3</th>\n",
       "      <td>31083</td>\n",
       "      <td>1289</td>\n",
       "      <td>1289</td>\n",
       "      <td>Proposta</td>\n",
       "      <td>Proposta (licitação).</td>\n",
       "      <td>Pregão, Licitação de melhor técnica, Licitação de maior lance ou oferta, Licitação de menor preç...</td>\n",
       "      <td>1</td>\n",
       "      <td>1</td>\n",
       "    </tr>\n",
       "    <tr>\n",
       "      <th>4</th>\n",
       "      <td>31083</td>\n",
       "      <td>1496</td>\n",
       "      <td>1496</td>\n",
       "      <td>Superfaturamento</td>\n",
       "      <td>Preço superfaturado, Superfaturamento  por reajustamento irregular de preço, Superfaturamento de...</td>\n",
       "      <td>Sobrepreço, Faturamento, Licitação e Preço.</td>\n",
       "      <td>1</td>\n",
       "      <td>1</td>\n",
       "    </tr>\n",
       "    <tr>\n",
       "      <th>5</th>\n",
       "      <td>36806</td>\n",
       "      <td>1104186</td>\n",
       "      <td>1104186</td>\n",
       "      <td>Procedimento disciplinar</td>\n",
       "      <td></td>\n",
       "      <td>Pena disciplinar e Infração disciplinar.</td>\n",
       "      <td>0</td>\n",
       "      <td>1</td>\n",
       "    </tr>\n",
       "    <tr>\n",
       "      <th>6</th>\n",
       "      <td>36806</td>\n",
       "      <td>16124</td>\n",
       "      <td>16124</td>\n",
       "      <td>(Controle externo)</td>\n",
       "      <td></td>\n",
       "      <td></td>\n",
       "      <td>0</td>\n",
       "      <td>0</td>\n",
       "    </tr>\n",
       "    <tr>\n",
       "      <th>7</th>\n",
       "      <td>36806</td>\n",
       "      <td>338</td>\n",
       "      <td>338</td>\n",
       "      <td>Controle externo</td>\n",
       "      <td></td>\n",
       "      <td>Ação de controle externo, Órgão de controle externo, Administração estadual, Lei Orgânica do TCU...</td>\n",
       "      <td>0</td>\n",
       "      <td>1</td>\n",
       "    </tr>\n",
       "    <tr>\n",
       "      <th>8</th>\n",
       "      <td>36806</td>\n",
       "      <td>9</td>\n",
       "      <td>9</td>\n",
       "      <td>Ato disciplinar</td>\n",
       "      <td>Ação disciplinar.</td>\n",
       "      <td></td>\n",
       "      <td>1</td>\n",
       "      <td>0</td>\n",
       "    </tr>\n",
       "    <tr>\n",
       "      <th>9</th>\n",
       "      <td>36806</td>\n",
       "      <td>1102013</td>\n",
       "      <td>1102013</td>\n",
       "      <td>Órgão de controle externo</td>\n",
       "      <td>Organizações de controle externo, Entidade de controle externo, Unidade de controle externo, Uni...</td>\n",
       "      <td>Órgão de controle interno, Controle externo, Processo de controle externo, Processo de auditoria...</td>\n",
       "      <td>1</td>\n",
       "      <td>1</td>\n",
       "    </tr>\n",
       "  </tbody>\n",
       "</table>\n",
       "</div>"
      ],
      "text/plain": [
       "   QUERY_ID   DOC_ID       ID                       NAME                                                                                         TEXT_SYNONYM  \\\n",
       "0     31083     1196     1196               Preço global                                                                                                        \n",
       "1     31083      932      932                  Licitação  Certame licitatório, Procedimento licitatório, Procedimentos licitatórios, Licitação pública, Li...   \n",
       "2     31083     1200     1200             Preço unitário                                                                                                        \n",
       "3     31083     1289     1289                   Proposta                                                                                Proposta (licitação).   \n",
       "4     31083     1496     1496           Superfaturamento  Preço superfaturado, Superfaturamento  por reajustamento irregular de preço, Superfaturamento de...   \n",
       "5     36806  1104186  1104186   Procedimento disciplinar                                                                                                        \n",
       "6     36806    16124    16124         (Controle externo)                                                                                                        \n",
       "7     36806      338      338           Controle externo                                                                                                        \n",
       "8     36806        9        9            Ato disciplinar                                                                                    Ação disciplinar.   \n",
       "9     36806  1102013  1102013  Órgão de controle externo  Organizações de controle externo, Entidade de controle externo, Unidade de controle externo, Uni...   \n",
       "\n",
       "                                                                                     TEXT_RELATED_TERM  HAS_SYNONYM  HAS_RELATED_TERM  \n",
       "0                 Licitação de menor preço, Método de limitação do preço global e Orçamento detalhado.            0                 1  \n",
       "1  Sobrepreço, Superfaturamento, Margem de preferência, Equipe de apoio, Princípio da padronização,...            1                 1  \n",
       "2   Licitação de menor preço, Método de limitação de preços unitários ajustados e Orçamento detalhado.            0                 1  \n",
       "3  Pregão, Licitação de melhor técnica, Licitação de maior lance ou oferta, Licitação de menor preç...            1                 1  \n",
       "4                                                          Sobrepreço, Faturamento, Licitação e Preço.            1                 1  \n",
       "5                                                             Pena disciplinar e Infração disciplinar.            0                 1  \n",
       "6                                                                                                                 0                 0  \n",
       "7  Ação de controle externo, Órgão de controle externo, Administração estadual, Lei Orgânica do TCU...            0                 1  \n",
       "8                                                                                                                 1                 0  \n",
       "9  Órgão de controle interno, Controle externo, Processo de controle externo, Processo de auditoria...            1                 1  "
      ]
     },
     "execution_count": 75,
     "metadata": {},
     "output_type": "execute_result"
    }
   ],
   "source": [
    "df"
   ]
  },
  {
   "cell_type": "code",
   "execution_count": 76,
   "metadata": {},
   "outputs": [],
   "source": [
    "del df['ID']"
   ]
  },
  {
   "cell_type": "code",
   "execution_count": 77,
   "metadata": {},
   "outputs": [
    {
     "data": {
      "text/html": [
       "<div>\n",
       "<style scoped>\n",
       "    .dataframe tbody tr th:only-of-type {\n",
       "        vertical-align: middle;\n",
       "    }\n",
       "\n",
       "    .dataframe tbody tr th {\n",
       "        vertical-align: top;\n",
       "    }\n",
       "\n",
       "    .dataframe thead th {\n",
       "        text-align: right;\n",
       "    }\n",
       "</style>\n",
       "<table border=\"1\" class=\"dataframe\">\n",
       "  <thead>\n",
       "    <tr style=\"text-align: right;\">\n",
       "      <th></th>\n",
       "      <th>QUERY_ID</th>\n",
       "      <th>DOC_ID</th>\n",
       "      <th>NAME</th>\n",
       "      <th>TEXT_SYNONYM</th>\n",
       "      <th>TEXT_RELATED_TERM</th>\n",
       "      <th>HAS_SYNONYM</th>\n",
       "      <th>HAS_RELATED_TERM</th>\n",
       "    </tr>\n",
       "  </thead>\n",
       "  <tbody>\n",
       "    <tr>\n",
       "      <th>0</th>\n",
       "      <td>31083</td>\n",
       "      <td>1196</td>\n",
       "      <td>Preço global</td>\n",
       "      <td></td>\n",
       "      <td>Licitação de menor preço, Método de limitação do preço global e Orçamento detalhado.</td>\n",
       "      <td>0</td>\n",
       "      <td>1</td>\n",
       "    </tr>\n",
       "    <tr>\n",
       "      <th>1</th>\n",
       "      <td>31083</td>\n",
       "      <td>932</td>\n",
       "      <td>Licitação</td>\n",
       "      <td>Certame licitatório, Procedimento licitatório, Procedimentos licitatórios, Licitação pública, Li...</td>\n",
       "      <td>Sobrepreço, Superfaturamento, Margem de preferência, Equipe de apoio, Princípio da padronização,...</td>\n",
       "      <td>1</td>\n",
       "      <td>1</td>\n",
       "    </tr>\n",
       "    <tr>\n",
       "      <th>2</th>\n",
       "      <td>31083</td>\n",
       "      <td>1200</td>\n",
       "      <td>Preço unitário</td>\n",
       "      <td></td>\n",
       "      <td>Licitação de menor preço, Método de limitação de preços unitários ajustados e Orçamento detalhado.</td>\n",
       "      <td>0</td>\n",
       "      <td>1</td>\n",
       "    </tr>\n",
       "    <tr>\n",
       "      <th>3</th>\n",
       "      <td>31083</td>\n",
       "      <td>1289</td>\n",
       "      <td>Proposta</td>\n",
       "      <td>Proposta (licitação).</td>\n",
       "      <td>Pregão, Licitação de melhor técnica, Licitação de maior lance ou oferta, Licitação de menor preç...</td>\n",
       "      <td>1</td>\n",
       "      <td>1</td>\n",
       "    </tr>\n",
       "    <tr>\n",
       "      <th>4</th>\n",
       "      <td>31083</td>\n",
       "      <td>1496</td>\n",
       "      <td>Superfaturamento</td>\n",
       "      <td>Preço superfaturado, Superfaturamento  por reajustamento irregular de preço, Superfaturamento de...</td>\n",
       "      <td>Sobrepreço, Faturamento, Licitação e Preço.</td>\n",
       "      <td>1</td>\n",
       "      <td>1</td>\n",
       "    </tr>\n",
       "  </tbody>\n",
       "</table>\n",
       "</div>"
      ],
      "text/plain": [
       "   QUERY_ID  DOC_ID              NAME                                                                                         TEXT_SYNONYM  \\\n",
       "0     31083    1196      Preço global                                                                                                        \n",
       "1     31083     932         Licitação  Certame licitatório, Procedimento licitatório, Procedimentos licitatórios, Licitação pública, Li...   \n",
       "2     31083    1200    Preço unitário                                                                                                        \n",
       "3     31083    1289          Proposta                                                                                Proposta (licitação).   \n",
       "4     31083    1496  Superfaturamento  Preço superfaturado, Superfaturamento  por reajustamento irregular de preço, Superfaturamento de...   \n",
       "\n",
       "                                                                                     TEXT_RELATED_TERM  HAS_SYNONYM  HAS_RELATED_TERM  \n",
       "0                 Licitação de menor preço, Método de limitação do preço global e Orçamento detalhado.            0                 1  \n",
       "1  Sobrepreço, Superfaturamento, Margem de preferência, Equipe de apoio, Princípio da padronização,...            1                 1  \n",
       "2   Licitação de menor preço, Método de limitação de preços unitários ajustados e Orçamento detalhado.            0                 1  \n",
       "3  Pregão, Licitação de melhor técnica, Licitação de maior lance ou oferta, Licitação de menor preç...            1                 1  \n",
       "4                                                          Sobrepreço, Faturamento, Licitação e Preço.            1                 1  "
      ]
     },
     "execution_count": 77,
     "metadata": {},
     "output_type": "execute_result"
    }
   ],
   "source": [
    "df.head()"
   ]
  },
  {
   "cell_type": "code",
   "execution_count": 78,
   "metadata": {},
   "outputs": [],
   "source": [
    "df['NAME_SYNONYM'] = df.apply(lambda row: row['NAME'] if row['TEXT_SYNONYM'] == '' else row['NAME'] + ' - ' + row['TEXT_SYNONYM'], axis=1)\n"
   ]
  },
  {
   "cell_type": "code",
   "execution_count": 79,
   "metadata": {},
   "outputs": [],
   "source": [
    "df['NAME_RELATED_TERM'] = df.apply(lambda row: row['NAME'] if row['TEXT_RELATED_TERM'] == '' else row['NAME'] + ' -- ' + row['TEXT_RELATED_TERM'], axis=1)\n"
   ]
  },
  {
   "cell_type": "code",
   "execution_count": 80,
   "metadata": {},
   "outputs": [],
   "source": [
    "df['NAME_SYNONYM_RELATED_TERM'] = df.apply(lambda row: row['NAME_SYNONYM'] if row['TEXT_RELATED_TERM'] == '' else row['NAME_SYNONYM'] + ' -- ' + row['TEXT_RELATED_TERM'], axis=1)\n"
   ]
  },
  {
   "cell_type": "code",
   "execution_count": 81,
   "metadata": {},
   "outputs": [
    {
     "data": {
      "text/html": [
       "<div>\n",
       "<style scoped>\n",
       "    .dataframe tbody tr th:only-of-type {\n",
       "        vertical-align: middle;\n",
       "    }\n",
       "\n",
       "    .dataframe tbody tr th {\n",
       "        vertical-align: top;\n",
       "    }\n",
       "\n",
       "    .dataframe thead th {\n",
       "        text-align: right;\n",
       "    }\n",
       "</style>\n",
       "<table border=\"1\" class=\"dataframe\">\n",
       "  <thead>\n",
       "    <tr style=\"text-align: right;\">\n",
       "      <th></th>\n",
       "      <th>QUERY_ID</th>\n",
       "      <th>DOC_ID</th>\n",
       "      <th>NAME</th>\n",
       "      <th>TEXT_SYNONYM</th>\n",
       "      <th>TEXT_RELATED_TERM</th>\n",
       "      <th>HAS_SYNONYM</th>\n",
       "      <th>HAS_RELATED_TERM</th>\n",
       "      <th>NAME_SYNONYM</th>\n",
       "      <th>NAME_RELATED_TERM</th>\n",
       "      <th>NAME_SYNONYM_RELATED_TERM</th>\n",
       "    </tr>\n",
       "  </thead>\n",
       "  <tbody>\n",
       "    <tr>\n",
       "      <th>8</th>\n",
       "      <td>36806</td>\n",
       "      <td>9</td>\n",
       "      <td>Ato disciplinar</td>\n",
       "      <td>Ação disciplinar.</td>\n",
       "      <td></td>\n",
       "      <td>1</td>\n",
       "      <td>0</td>\n",
       "      <td>Ato disciplinar - Ação disciplinar.</td>\n",
       "      <td>Ato disciplinar</td>\n",
       "      <td>Ato disciplinar - Ação disciplinar.</td>\n",
       "    </tr>\n",
       "  </tbody>\n",
       "</table>\n",
       "</div>"
      ],
      "text/plain": [
       "   QUERY_ID  DOC_ID             NAME       TEXT_SYNONYM TEXT_RELATED_TERM  HAS_SYNONYM  HAS_RELATED_TERM                         NAME_SYNONYM NAME_RELATED_TERM            NAME_SYNONYM_RELATED_TERM\n",
       "8     36806       9  Ato disciplinar  Ação disciplinar.                              1                 0  Ato disciplinar - Ação disciplinar.   Ato disciplinar  Ato disciplinar - Ação disciplinar."
      ]
     },
     "execution_count": 81,
     "metadata": {},
     "output_type": "execute_result"
    }
   ],
   "source": [
    "df[(df['HAS_SYNONYM']==1) & (df['HAS_RELATED_TERM']==0)].head(10)"
   ]
  },
  {
   "cell_type": "code",
   "execution_count": 82,
   "metadata": {},
   "outputs": [],
   "source": [
    "df = df_query.merge(df, how='inner', left_on='ID', right_on='QUERY_ID')"
   ]
  },
  {
   "cell_type": "code",
   "execution_count": 83,
   "metadata": {},
   "outputs": [
    {
     "data": {
      "text/plain": [
       "Index(['ID', 'TEXT', 'REFERENCE_LIST', 'PARADIGMATIC', 'AREA_NAME', 'AREA_ID_DESCRIPTOR', 'NORMATIVE_PROCESS_TYPE', 'NORMATIVE_IDENTIFICATION', 'NORMATIVE_DATE', 'NORMATIVE_AUTHOR_TYPE',\n",
       "       'NORMATIVE_AUTHOR_NAME', 'QUERY_ID', 'DOC_ID', 'NAME', 'TEXT_SYNONYM', 'TEXT_RELATED_TERM', 'HAS_SYNONYM', 'HAS_RELATED_TERM', 'NAME_SYNONYM', 'NAME_RELATED_TERM',\n",
       "       'NAME_SYNONYM_RELATED_TERM'],\n",
       "      dtype='object')"
      ]
     },
     "execution_count": 83,
     "metadata": {},
     "output_type": "execute_result"
    }
   ],
   "source": [
    "df.columns"
   ]
  },
  {
   "cell_type": "code",
   "execution_count": 84,
   "metadata": {},
   "outputs": [
    {
     "data": {
      "text/html": [
       "<div>\n",
       "<style scoped>\n",
       "    .dataframe tbody tr th:only-of-type {\n",
       "        vertical-align: middle;\n",
       "    }\n",
       "\n",
       "    .dataframe tbody tr th {\n",
       "        vertical-align: top;\n",
       "    }\n",
       "\n",
       "    .dataframe thead th {\n",
       "        text-align: right;\n",
       "    }\n",
       "</style>\n",
       "<table border=\"1\" class=\"dataframe\">\n",
       "  <thead>\n",
       "    <tr style=\"text-align: right;\">\n",
       "      <th></th>\n",
       "      <th>ID</th>\n",
       "      <th>TEXT</th>\n",
       "      <th>REFERENCE_LIST</th>\n",
       "      <th>PARADIGMATIC</th>\n",
       "      <th>AREA_NAME</th>\n",
       "      <th>AREA_ID_DESCRIPTOR</th>\n",
       "      <th>NORMATIVE_PROCESS_TYPE</th>\n",
       "      <th>NORMATIVE_IDENTIFICATION</th>\n",
       "      <th>NORMATIVE_DATE</th>\n",
       "      <th>NORMATIVE_AUTHOR_TYPE</th>\n",
       "      <th>NORMATIVE_AUTHOR_NAME</th>\n",
       "      <th>QUERY_ID</th>\n",
       "      <th>DOC_ID</th>\n",
       "      <th>NAME</th>\n",
       "      <th>TEXT_SYNONYM</th>\n",
       "      <th>TEXT_RELATED_TERM</th>\n",
       "      <th>HAS_SYNONYM</th>\n",
       "      <th>HAS_RELATED_TERM</th>\n",
       "      <th>NAME_SYNONYM</th>\n",
       "      <th>NAME_RELATED_TERM</th>\n",
       "      <th>NAME_SYNONYM_RELATED_TERM</th>\n",
       "    </tr>\n",
       "  </thead>\n",
       "  <tbody>\n",
       "    <tr>\n",
       "      <th>0</th>\n",
       "      <td>31083</td>\n",
       "      <td>Não há que se falar em sobrepreço em determinados serviços constantes das planilhas de preços un...</td>\n",
       "      <td>NaN</td>\n",
       "      <td>NaN</td>\n",
       "      <td>Contrato administrativo</td>\n",
       "      <td>331</td>\n",
       "      <td>RELATÓRIO DE LEVANTAMENTO</td>\n",
       "      <td>Acórdão 2046/2008 - Plenário</td>\n",
       "      <td>2008-09-17</td>\n",
       "      <td>RELATOR</td>\n",
       "      <td>UBIRATAN AGUIAR</td>\n",
       "      <td>31083</td>\n",
       "      <td>1196</td>\n",
       "      <td>Preço global</td>\n",
       "      <td></td>\n",
       "      <td>Licitação de menor preço, Método de limitação do preço global e Orçamento detalhado.</td>\n",
       "      <td>0</td>\n",
       "      <td>1</td>\n",
       "      <td>Preço global</td>\n",
       "      <td>Preço global -- Licitação de menor preço, Método de limitação do preço global e Orçamento detalh...</td>\n",
       "      <td>Preço global -- Licitação de menor preço, Método de limitação do preço global e Orçamento detalh...</td>\n",
       "    </tr>\n",
       "    <tr>\n",
       "      <th>1</th>\n",
       "      <td>31083</td>\n",
       "      <td>Não há que se falar em sobrepreço em determinados serviços constantes das planilhas de preços un...</td>\n",
       "      <td>NaN</td>\n",
       "      <td>NaN</td>\n",
       "      <td>Contrato administrativo</td>\n",
       "      <td>331</td>\n",
       "      <td>RELATÓRIO DE LEVANTAMENTO</td>\n",
       "      <td>Acórdão 2046/2008 - Plenário</td>\n",
       "      <td>2008-09-17</td>\n",
       "      <td>RELATOR</td>\n",
       "      <td>UBIRATAN AGUIAR</td>\n",
       "      <td>31083</td>\n",
       "      <td>932</td>\n",
       "      <td>Licitação</td>\n",
       "      <td>Certame licitatório, Procedimento licitatório, Procedimentos licitatórios, Licitação pública, Li...</td>\n",
       "      <td>Sobrepreço, Superfaturamento, Margem de preferência, Equipe de apoio, Princípio da padronização,...</td>\n",
       "      <td>1</td>\n",
       "      <td>1</td>\n",
       "      <td>Licitação - Certame licitatório, Procedimento licitatório, Procedimentos licitatórios, Licitação...</td>\n",
       "      <td>Licitação -- Sobrepreço, Superfaturamento, Margem de preferência, Equipe de apoio, Princípio da ...</td>\n",
       "      <td>Licitação - Certame licitatório, Procedimento licitatório, Procedimentos licitatórios, Licitação...</td>\n",
       "    </tr>\n",
       "    <tr>\n",
       "      <th>2</th>\n",
       "      <td>31083</td>\n",
       "      <td>Não há que se falar em sobrepreço em determinados serviços constantes das planilhas de preços un...</td>\n",
       "      <td>NaN</td>\n",
       "      <td>NaN</td>\n",
       "      <td>Contrato administrativo</td>\n",
       "      <td>331</td>\n",
       "      <td>RELATÓRIO DE LEVANTAMENTO</td>\n",
       "      <td>Acórdão 2046/2008 - Plenário</td>\n",
       "      <td>2008-09-17</td>\n",
       "      <td>RELATOR</td>\n",
       "      <td>UBIRATAN AGUIAR</td>\n",
       "      <td>31083</td>\n",
       "      <td>1200</td>\n",
       "      <td>Preço unitário</td>\n",
       "      <td></td>\n",
       "      <td>Licitação de menor preço, Método de limitação de preços unitários ajustados e Orçamento detalhado.</td>\n",
       "      <td>0</td>\n",
       "      <td>1</td>\n",
       "      <td>Preço unitário</td>\n",
       "      <td>Preço unitário -- Licitação de menor preço, Método de limitação de preços unitários ajustados e ...</td>\n",
       "      <td>Preço unitário -- Licitação de menor preço, Método de limitação de preços unitários ajustados e ...</td>\n",
       "    </tr>\n",
       "    <tr>\n",
       "      <th>3</th>\n",
       "      <td>31083</td>\n",
       "      <td>Não há que se falar em sobrepreço em determinados serviços constantes das planilhas de preços un...</td>\n",
       "      <td>NaN</td>\n",
       "      <td>NaN</td>\n",
       "      <td>Contrato administrativo</td>\n",
       "      <td>331</td>\n",
       "      <td>RELATÓRIO DE LEVANTAMENTO</td>\n",
       "      <td>Acórdão 2046/2008 - Plenário</td>\n",
       "      <td>2008-09-17</td>\n",
       "      <td>RELATOR</td>\n",
       "      <td>UBIRATAN AGUIAR</td>\n",
       "      <td>31083</td>\n",
       "      <td>1289</td>\n",
       "      <td>Proposta</td>\n",
       "      <td>Proposta (licitação).</td>\n",
       "      <td>Pregão, Licitação de melhor técnica, Licitação de maior lance ou oferta, Licitação de menor preç...</td>\n",
       "      <td>1</td>\n",
       "      <td>1</td>\n",
       "      <td>Proposta - Proposta (licitação).</td>\n",
       "      <td>Proposta -- Pregão, Licitação de melhor técnica, Licitação de maior lance ou oferta, Licitação d...</td>\n",
       "      <td>Proposta - Proposta (licitação). -- Pregão, Licitação de melhor técnica, Licitação de maior lanc...</td>\n",
       "    </tr>\n",
       "    <tr>\n",
       "      <th>4</th>\n",
       "      <td>31083</td>\n",
       "      <td>Não há que se falar em sobrepreço em determinados serviços constantes das planilhas de preços un...</td>\n",
       "      <td>NaN</td>\n",
       "      <td>NaN</td>\n",
       "      <td>Contrato administrativo</td>\n",
       "      <td>331</td>\n",
       "      <td>RELATÓRIO DE LEVANTAMENTO</td>\n",
       "      <td>Acórdão 2046/2008 - Plenário</td>\n",
       "      <td>2008-09-17</td>\n",
       "      <td>RELATOR</td>\n",
       "      <td>UBIRATAN AGUIAR</td>\n",
       "      <td>31083</td>\n",
       "      <td>1496</td>\n",
       "      <td>Superfaturamento</td>\n",
       "      <td>Preço superfaturado, Superfaturamento  por reajustamento irregular de preço, Superfaturamento de...</td>\n",
       "      <td>Sobrepreço, Faturamento, Licitação e Preço.</td>\n",
       "      <td>1</td>\n",
       "      <td>1</td>\n",
       "      <td>Superfaturamento - Preço superfaturado, Superfaturamento  por reajustamento irregular de preço, ...</td>\n",
       "      <td>Superfaturamento -- Sobrepreço, Faturamento, Licitação e Preço.</td>\n",
       "      <td>Superfaturamento - Preço superfaturado, Superfaturamento  por reajustamento irregular de preço, ...</td>\n",
       "    </tr>\n",
       "  </tbody>\n",
       "</table>\n",
       "</div>"
      ],
      "text/plain": [
       "      ID                                                                                                 TEXT REFERENCE_LIST PARADIGMATIC                AREA_NAME  AREA_ID_DESCRIPTOR  \\\n",
       "0  31083  Não há que se falar em sobrepreço em determinados serviços constantes das planilhas de preços un...            NaN          NaN  Contrato administrativo                 331   \n",
       "1  31083  Não há que se falar em sobrepreço em determinados serviços constantes das planilhas de preços un...            NaN          NaN  Contrato administrativo                 331   \n",
       "2  31083  Não há que se falar em sobrepreço em determinados serviços constantes das planilhas de preços un...            NaN          NaN  Contrato administrativo                 331   \n",
       "3  31083  Não há que se falar em sobrepreço em determinados serviços constantes das planilhas de preços un...            NaN          NaN  Contrato administrativo                 331   \n",
       "4  31083  Não há que se falar em sobrepreço em determinados serviços constantes das planilhas de preços un...            NaN          NaN  Contrato administrativo                 331   \n",
       "\n",
       "      NORMATIVE_PROCESS_TYPE      NORMATIVE_IDENTIFICATION NORMATIVE_DATE NORMATIVE_AUTHOR_TYPE NORMATIVE_AUTHOR_NAME  QUERY_ID  DOC_ID              NAME  \\\n",
       "0  RELATÓRIO DE LEVANTAMENTO  Acórdão 2046/2008 - Plenário     2008-09-17               RELATOR       UBIRATAN AGUIAR     31083    1196      Preço global   \n",
       "1  RELATÓRIO DE LEVANTAMENTO  Acórdão 2046/2008 - Plenário     2008-09-17               RELATOR       UBIRATAN AGUIAR     31083     932         Licitação   \n",
       "2  RELATÓRIO DE LEVANTAMENTO  Acórdão 2046/2008 - Plenário     2008-09-17               RELATOR       UBIRATAN AGUIAR     31083    1200    Preço unitário   \n",
       "3  RELATÓRIO DE LEVANTAMENTO  Acórdão 2046/2008 - Plenário     2008-09-17               RELATOR       UBIRATAN AGUIAR     31083    1289          Proposta   \n",
       "4  RELATÓRIO DE LEVANTAMENTO  Acórdão 2046/2008 - Plenário     2008-09-17               RELATOR       UBIRATAN AGUIAR     31083    1496  Superfaturamento   \n",
       "\n",
       "                                                                                          TEXT_SYNONYM  \\\n",
       "0                                                                                                        \n",
       "1  Certame licitatório, Procedimento licitatório, Procedimentos licitatórios, Licitação pública, Li...   \n",
       "2                                                                                                        \n",
       "3                                                                                Proposta (licitação).   \n",
       "4  Preço superfaturado, Superfaturamento  por reajustamento irregular de preço, Superfaturamento de...   \n",
       "\n",
       "                                                                                     TEXT_RELATED_TERM  HAS_SYNONYM  HAS_RELATED_TERM  \\\n",
       "0                 Licitação de menor preço, Método de limitação do preço global e Orçamento detalhado.            0                 1   \n",
       "1  Sobrepreço, Superfaturamento, Margem de preferência, Equipe de apoio, Princípio da padronização,...            1                 1   \n",
       "2   Licitação de menor preço, Método de limitação de preços unitários ajustados e Orçamento detalhado.            0                 1   \n",
       "3  Pregão, Licitação de melhor técnica, Licitação de maior lance ou oferta, Licitação de menor preç...            1                 1   \n",
       "4                                                          Sobrepreço, Faturamento, Licitação e Preço.            1                 1   \n",
       "\n",
       "                                                                                          NAME_SYNONYM  \\\n",
       "0                                                                                         Preço global   \n",
       "1  Licitação - Certame licitatório, Procedimento licitatório, Procedimentos licitatórios, Licitação...   \n",
       "2                                                                                       Preço unitário   \n",
       "3                                                                     Proposta - Proposta (licitação).   \n",
       "4  Superfaturamento - Preço superfaturado, Superfaturamento  por reajustamento irregular de preço, ...   \n",
       "\n",
       "                                                                                     NAME_RELATED_TERM  \\\n",
       "0  Preço global -- Licitação de menor preço, Método de limitação do preço global e Orçamento detalh...   \n",
       "1  Licitação -- Sobrepreço, Superfaturamento, Margem de preferência, Equipe de apoio, Princípio da ...   \n",
       "2  Preço unitário -- Licitação de menor preço, Método de limitação de preços unitários ajustados e ...   \n",
       "3  Proposta -- Pregão, Licitação de melhor técnica, Licitação de maior lance ou oferta, Licitação d...   \n",
       "4                                      Superfaturamento -- Sobrepreço, Faturamento, Licitação e Preço.   \n",
       "\n",
       "                                                                             NAME_SYNONYM_RELATED_TERM  \n",
       "0  Preço global -- Licitação de menor preço, Método de limitação do preço global e Orçamento detalh...  \n",
       "1  Licitação - Certame licitatório, Procedimento licitatório, Procedimentos licitatórios, Licitação...  \n",
       "2  Preço unitário -- Licitação de menor preço, Método de limitação de preços unitários ajustados e ...  \n",
       "3  Proposta - Proposta (licitação). -- Pregão, Licitação de melhor técnica, Licitação de maior lanc...  \n",
       "4  Superfaturamento - Preço superfaturado, Superfaturamento  por reajustamento irregular de preço, ...  "
      ]
     },
     "execution_count": 84,
     "metadata": {},
     "output_type": "execute_result"
    }
   ],
   "source": [
    "df.head()"
   ]
  },
  {
   "cell_type": "code",
   "execution_count": 85,
   "metadata": {},
   "outputs": [
    {
     "data": {
      "text/plain": [
       "(10, 21)"
      ]
     },
     "execution_count": 85,
     "metadata": {},
     "output_type": "execute_result"
    }
   ],
   "source": [
    "df.shape"
   ]
  },
  {
   "cell_type": "code",
   "execution_count": null,
   "metadata": {},
   "outputs": [],
   "source": [
    "GERAR ATÉ 1, 3 e 5"
   ]
  },
  {
   "cell_type": "code",
   "execution_count": null,
   "metadata": {},
   "outputs": [],
   "source": []
  },
  {
   "cell_type": "code",
   "execution_count": null,
   "metadata": {},
   "outputs": [],
   "source": []
  },
  {
   "cell_type": "code",
   "execution_count": null,
   "metadata": {},
   "outputs": [
    {
     "name": "stderr",
     "output_type": "stream",
     "text": [
      "16045it [00:07, 2217.00it/s]"
     ]
    },
    {
     "name": "stdout",
     "output_type": "stream",
     "text": [
      "CPU times: user 7.25 s, sys: 60.3 ms, total: 7.31 s\n",
      "Wall time: 7.27 s\n"
     ]
    },
    {
     "name": "stderr",
     "output_type": "stream",
     "text": [
      "\n"
     ]
    }
   ],
   "source": [
    "%%time\n",
    "data_index = {'term' : [],\n",
    "            'synonym': [],\n",
    "            'related_term': [],\n",
    "            'synonym_related_term': [],}\n",
    "# Ordenar o DataFrame por 'QUERY_ID' em ordem ascendente\n",
    "df_sorted = df.sort_values('QUERY_ID')\n",
    "# Iterar sobre os grupos\n",
    "for cnt, (query_id, group) in tqdm(enumerate(df_sorted.groupby('QUERY_ID'))):\n",
    "    # print(f\"Query ID: {query_id}\")\n",
    "    # print(group)\n",
    "    group_synonym = ''\n",
    "    group_term = ''\n",
    "    group_related_term = ''\n",
    "    group_synonym_related_term = ''\n",
    "\n",
    "    # Iterar sobre os registros do grupo\n",
    "    for cnt, (_, row_doc) in enumerate(group.iterrows()):\n",
    "        if cnt==0: # salva copia dos dados da query\n",
    "            row_query = row_doc.copy()\n",
    "\n",
    "        doc_id = row_doc['DOC_ID']\n",
    "        # Faça o que precisa com cada registro (doc_id) para o query_id atual\n",
    "        \n",
    "        # Exemplo: Imprimir o doc_id\n",
    "        # print(f\"Doc ID: {doc_id}\")\n",
    "\n",
    "        group_term = group_term + ', ' + row_doc['NAME'] if group_term != '' else row_doc['NAME']\n",
    "        if row_doc['HAS_SYNONYM']==1:\n",
    "            group_synonym = group_synonym + ' ' + row_doc['NAME_SYNONYM'] if group_synonym != '' else row_doc['NAME_SYNONYM']\n",
    "        if row_doc['HAS_RELATED_TERM']==1:\n",
    "            group_related_term = group_related_term + ' ' + row_doc['NAME_RELATED_TERM'] if group_related_term != '' else row_doc['NAME_RELATED_TERM']\n",
    "        if (row_doc['HAS_RELATED_TERM']==1) or (row_doc['HAS_SYNONYM']==1):\n",
    "            group_synonym_related_term = group_synonym_related_term + ' ' + row_doc['NAME_SYNONYM_RELATED_TERM'] if group_synonym_related_term != '' else row_doc['NAME_SYNONYM_RELATED_TERM']\n",
    "    # Adicione aqui qualquer lógica adicional que você precise executar para cada query_id\n",
    "\n",
    "    row_json_term= {\n",
    "        'id': row_query['ID'],\n",
    "        'content': row_query['TEXT'],\n",
    "        'meta': {},\n",
    "    }               \n",
    "    for column_name in df.columns:\n",
    "        if column_name not in ['TEXT', 'QUERY_ID', 'DOC_ID', 'TYPE', 'NAME', 'TEXT_SYNONYM',\n",
    "                               'TEXT_RELATED_TERM', 'HAS_SYNONYM', 'HAS_RELATED_TERM', 'NAME_SYNONYM',\n",
    "                               'NAME_RELATED_TERM', 'NAME_SYNONYM_RELATED_TERM']:  # columns of doc\n",
    "            row_json_term['meta'][column_name.lower()] = row_query[column_name]        \n",
    "    \n",
    "    row_json_synonym = row_json_term.copy()\n",
    "    row_json_related_term = row_json_term.copy()\n",
    "    row_json_synonym_related_term = row_json_term.copy()\n",
    "\n",
    "    row_json_term['content'] += '\\n' + group_term + '.'\n",
    "    if len(group_synonym) > 0:\n",
    "        row_json_synonym['content'] += '\\n' + group_synonym\n",
    "    if len(group_related_term) > 0:\n",
    "        row_json_related_term['content'] += '\\n' + group_related_term\n",
    "    if len(group_synonym_related_term) > 0:\n",
    "        row_json_synonym_related_term['content'] += '\\n' + group_synonym_related_term\n",
    "\n",
    "\n",
    "    data_index['term'].append(row_json_term)\n",
    "    data_index['synonym'].append(row_json_synonym)\n",
    "    data_index['related_term'].append(row_json_related_term)\n",
    "    data_index['synonym_related_term'].append(row_json_synonym_related_term)\n"
   ]
  },
  {
   "cell_type": "code",
   "execution_count": null,
   "metadata": {},
   "outputs": [
    {
     "data": {
      "text/plain": [
       "16045"
      ]
     },
     "execution_count": 129,
     "metadata": {},
     "output_type": "execute_result"
    }
   ],
   "source": [
    "len(data_index['term'])"
   ]
  },
  {
   "cell_type": "code",
   "execution_count": null,
   "metadata": {},
   "outputs": [],
   "source": [
    "list_type_index = ['term', 'synonym', 'related_term', 'synonym_related_term' ]"
   ]
  },
  {
   "cell_type": "code",
   "execution_count": null,
   "metadata": {},
   "outputs": [
    {
     "name": "stdout",
     "output_type": "stream",
     "text": [
      "term SÚMULA TCU 2: Configura-se como vencimento, para efeito da concessão da pensão especial com fundamento na Lei nº 3.738, de 04/04/60, o valor do símbolo correspondente ao cargo em comissão exercido pelo funcionário, à época do seu falecimento.\n",
      "Cargo em comissão, Doença, Pessoal, Viúvo, Pensão especial. \n",
      "\n",
      "synonym SÚMULA TCU 2: Configura-se como vencimento, para efeito da concessão da pensão especial com fundamento na Lei nº 3.738, de 04/04/60, o valor do símbolo correspondente ao cargo em comissão exercido pelo funcionário, à época do seu falecimento.\n",
      "Cargo em comissão - Ocupante de cargo em comissão, Cargo de direção, chefia e assessoramento, Cargo comissionado, Cargo de confiança, Exercente de cargo em comissão e Cargo de direção, chefia ou assessoramento. Doença - Enfermidade e Moléstia. Viúvo - Viúva, Cônjuge sobrevivente, Cônjuge supérstite e Consorte supérstite. Pensão especial - Pensão especial da Lei 3738/60, Pensão especial da Lei 6782/80, Pensão da lei 3.738/60 e Pensão especial aos portadores da Síndrome da Talidomida. \n",
      "\n",
      "related_term SÚMULA TCU 2: Configura-se como vencimento, para efeito da concessão da pensão especial com fundamento na Lei nº 3.738, de 04/04/60, o valor do símbolo correspondente ao cargo em comissão exercido pelo funcionário, à época do seu falecimento.\n",
      "Cargo em comissão -- Destituição de cargo, Livre nomeação, Livre exoneração, Nepotismo, Faixa etária, Função de confiança e Afastamento para servir a outro órgão ou entidade. Doença -- Medicina, Auxílio-doença, Doente, Perícia médica e Doença preexistente. Pessoal -- Sisac, Despesa com pessoal e HCAAF. Viúvo -- Enteado, Companheiro supérstite, Pensão, Filho, Genitor, Irmão, Cessão de herança, Casamento, Sucessão, Dissolução da sociedade conjugal, Herança e Regime de bens. \n",
      "\n",
      "synonym_related_term SÚMULA TCU 2: Configura-se como vencimento, para efeito da concessão da pensão especial com fundamento na Lei nº 3.738, de 04/04/60, o valor do símbolo correspondente ao cargo em comissão exercido pelo funcionário, à época do seu falecimento.\n",
      "Cargo em comissão - Ocupante de cargo em comissão, Cargo de direção, chefia e assessoramento, Cargo comissionado, Cargo de confiança, Exercente de cargo em comissão e Cargo de direção, chefia ou assessoramento. -- Destituição de cargo, Livre nomeação, Livre exoneração, Nepotismo, Faixa etária, Função de confiança e Afastamento para servir a outro órgão ou entidade. Doença - Enfermidade e Moléstia. -- Medicina, Auxílio-doença, Doente, Perícia médica e Doença preexistente. Pessoal -- Sisac, Despesa com pessoal e HCAAF. Viúvo - Viúva, Cônjuge sobrevivente, Cônjuge supérstite e Consorte supérstite. -- Enteado, Companheiro supérstite, Pensão, Filho, Genitor, Irmão, Cessão de herança, Casamento, Sucessão, Dissolução da sociedade conjugal, Herança e Regime de bens. Pensão especial - Pensão especial da Lei 3738/60, Pensão especial da Lei 6782/80, Pensão da lei 3.738/60 e Pensão especial aos portadores da Síndrome da Talidomida. \n",
      "\n"
     ]
    }
   ],
   "source": [
    "ind_test=1\n",
    "for index_type in list_type_index:\n",
    "    print(index_type, data_index[index_type][ind_test]['content'], '\\n')\n"
   ]
  },
  {
   "attachments": {},
   "cell_type": "markdown",
   "metadata": {},
   "source": [
    "# Index creation"
   ]
  },
  {
   "cell_type": "code",
   "execution_count": null,
   "metadata": {},
   "outputs": [
    {
     "name": "stdout",
     "output_type": "stream",
     "text": [
      "Index: indir_juris_tcu\n",
      "{'health': 'yellow', 'status': 'open', 'index': 'indir_juris_tcu', 'uuid': 'RD_aAWppQH6vjNxKUdL_0w', 'pri': '1', 'rep': '1', 'docs.count': '16045', 'docs.deleted': '16045', 'store.size': '334.9mb', 'pri.store.size': '334.9mb'}\n",
      "\n",
      "Index: indir_juris_tcu_index\n",
      "{'health': 'yellow', 'status': 'open', 'index': 'indir_juris_tcu_index', 'uuid': 'fGjzBrQzRUWTZ6KlnbfLqw', 'pri': '1', 'rep': '1', 'docs.count': '13255', 'docs.deleted': '2755', 'store.size': '281.7mb', 'pri.store.size': '281.7mb'}\n",
      "\n"
     ]
    }
   ],
   "source": [
    "index_dict = util_elastic.return_indexes('indir', parm_print=True)"
   ]
  },
  {
   "cell_type": "code",
   "execution_count": null,
   "metadata": {},
   "outputs": [],
   "source": [
    "INDEX_NAME = 'indir_juris_tcu'"
   ]
  },
  {
   "cell_type": "code",
   "execution_count": null,
   "metadata": {},
   "outputs": [],
   "source": [
    "# util_elastic.delete_index('indir_juris_tcu')"
   ]
  },
  {
   "cell_type": "code",
   "execution_count": null,
   "metadata": {},
   "outputs": [
    {
     "name": "stdout",
     "output_type": "stream",
     "text": [
      "Creating index indir_juris_tcu_term\n",
      "\n",
      "before write\n",
      "\n",
      "Qtd de documentos 0\n",
      "\n",
      "Qtd de embeddings 0\n",
      "\n",
      "Documento.id= 5: None\n",
      "\n",
      "after write\n",
      "\n",
      "Qtd de documentos 16045\n",
      "\n",
      "Qtd de embeddings 0\n",
      "\n",
      "Documento.id= 5: <Document: id=5, content='SÚMULA TCU 1: Não se compreendem como vencimento, para efeito de concessão da pensão especial com fu...'>\n",
      "Creating index indir_juris_tcu_synonym\n",
      "\n",
      "before write\n",
      "\n",
      "Qtd de documentos 0\n",
      "\n",
      "Qtd de embeddings 0\n",
      "\n",
      "Documento.id= 5: None\n",
      "\n",
      "after write\n",
      "\n",
      "Qtd de documentos 16045\n",
      "\n",
      "Qtd de embeddings 0\n",
      "\n",
      "Documento.id= 5: <Document: id=5, content='SÚMULA TCU 1: Não se compreendem como vencimento, para efeito de concessão da pensão especial com fu...'>\n",
      "Creating index indir_juris_tcu_related_term\n",
      "\n",
      "before write\n",
      "\n",
      "Qtd de documentos 0\n",
      "\n",
      "Qtd de embeddings 0\n",
      "\n",
      "Documento.id= 5: None\n",
      "\n",
      "after write\n",
      "\n",
      "Qtd de documentos 16045\n",
      "\n",
      "Qtd de embeddings 0\n",
      "\n",
      "Documento.id= 5: <Document: id=5, content='SÚMULA TCU 1: Não se compreendem como vencimento, para efeito de concessão da pensão especial com fu...'>\n",
      "Creating index indir_juris_tcu_synonym_related_term\n",
      "\n",
      "before write\n",
      "\n",
      "Qtd de documentos 0\n",
      "\n",
      "Qtd de embeddings 0\n",
      "\n",
      "Documento.id= 5: None\n",
      "\n",
      "after write\n",
      "\n",
      "Qtd de documentos 16045\n",
      "\n",
      "Qtd de embeddings 0\n",
      "\n",
      "Documento.id= 5: <Document: id=5, content='SÚMULA TCU 1: Não se compreendem como vencimento, para efeito de concessão da pensão especial com fu...'>\n",
      "CPU times: user 4.54 s, sys: 47.9 ms, total: 4.59 s\n",
      "Wall time: 2min 22s\n"
     ]
    }
   ],
   "source": [
    "%%time\n",
    "dict_index = {}\n",
    "for index_type in list_type_index:\n",
    "    print(f\"\\n********Creating index {INDEX_NAME+'_'+index_type}\")\n",
    "    dict_index[index_type] = util_elastic.create_index(parm_index_name=INDEX_NAME+'_'+index_type,\n",
    "                                                       parm_data_carga_json=data_index[index_type],\n",
    "                                                       parm_embedding_dim=1024)"
   ]
  },
  {
   "cell_type": "code",
   "execution_count": null,
   "metadata": {},
   "outputs": [],
   "source": [
    "nome_modelo_embedding_model_sts_rufimelo = \"rufimelo/Legal-BERTimbau-sts-large-ma-v3\"\n",
    "nome_caminho_modelo = \"/home/borela/fontes/relevar-busca/modelo/\" + nome_modelo_embedding_model_sts_rufimelo\n",
    "assert os.path.exists(nome_caminho_modelo), f\"Path para {nome_caminho_modelo} não existe!\"\n"
   ]
  },
  {
   "cell_type": "code",
   "execution_count": null,
   "metadata": {},
   "outputs": [
    {
     "name": "stdout",
     "output_type": "stream",
     "text": [
      "\n",
      "********Updating embeddings of index indir_juris_tcu_term\n"
     ]
    },
    {
     "data": {
      "application/vnd.jupyter.widget-view+json": {
       "model_id": "dc8d23dd20cb440da282fef521d02b21",
       "version_major": 2,
       "version_minor": 0
      },
      "text/plain": [
       "Updating embeddings:   0%|          | 0/16045 [00:00<?, ? Docs/s]"
      ]
     },
     "metadata": {},
     "output_type": "display_data"
    },
    {
     "name": "stdout",
     "output_type": "stream",
     "text": [
      "\n",
      "********Updating embeddings of index indir_juris_tcu_synonym\n"
     ]
    },
    {
     "data": {
      "application/vnd.jupyter.widget-view+json": {
       "model_id": "5a7fcc34d8e44fc0956be6f49a874ddb",
       "version_major": 2,
       "version_minor": 0
      },
      "text/plain": [
       "Updating embeddings:   0%|          | 0/16045 [00:00<?, ? Docs/s]"
      ]
     },
     "metadata": {},
     "output_type": "display_data"
    },
    {
     "name": "stdout",
     "output_type": "stream",
     "text": [
      "\n",
      "********Updating embeddings of index indir_juris_tcu_related_term\n"
     ]
    },
    {
     "data": {
      "application/vnd.jupyter.widget-view+json": {
       "model_id": "279fe974bc624022a51fff526374f575",
       "version_major": 2,
       "version_minor": 0
      },
      "text/plain": [
       "Updating embeddings:   0%|          | 0/16045 [00:00<?, ? Docs/s]"
      ]
     },
     "metadata": {},
     "output_type": "display_data"
    },
    {
     "name": "stdout",
     "output_type": "stream",
     "text": [
      "\n",
      "********Updating embeddings of index indir_juris_tcu_synonym_related_term\n"
     ]
    },
    {
     "data": {
      "application/vnd.jupyter.widget-view+json": {
       "model_id": "6cc7130a7047409ea39d1f3c3e9719b7",
       "version_major": 2,
       "version_minor": 0
      },
      "text/plain": [
       "Updating embeddings:   0%|          | 0/16045 [00:00<?, ? Docs/s]"
      ]
     },
     "metadata": {},
     "output_type": "display_data"
    },
    {
     "name": "stdout",
     "output_type": "stream",
     "text": [
      "CPU times: user 10min 41s, sys: 3.99 s, total: 10min 45s\n",
      "Wall time: 13min 49s\n"
     ]
    }
   ],
   "source": [
    "%%time\n",
    "for index_type in list_type_index:\n",
    "    print(f\"\\n********Updating embeddings of index {INDEX_NAME+'_'+index_type}\")\n",
    "    util_elastic.update_index_embedding_sts(parm_index=dict_index[index_type], parm_path_model=nome_caminho_modelo)"
   ]
  },
  {
   "cell_type": "code",
   "execution_count": null,
   "metadata": {},
   "outputs": [],
   "source": []
  }
 ],
 "metadata": {
  "kernelspec": {
   "display_name": "Python (relevar-busca)",
   "language": "python",
   "name": "relevar-busca"
  },
  "language_info": {
   "codemirror_mode": {
    "name": "ipython",
    "version": 3
   },
   "file_extension": ".py",
   "mimetype": "text/x-python",
   "name": "python",
   "nbconvert_exporter": "python",
   "pygments_lexer": "ipython3",
   "version": "3.7.13"
  },
  "orig_nbformat": 4,
  "vscode": {
   "interpreter": {
    "hash": "45978bf3509deeb93161d1472b16f82a40245d44c2beae6c63ad8f9bb3f69171"
   }
  }
 },
 "nbformat": 4,
 "nbformat_minor": 2
}
