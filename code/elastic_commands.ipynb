{
 "cells": [
  {
   "attachments": {},
   "cell_type": "markdown",
   "id": "998a4011",
   "metadata": {},
   "source": [
    "# Imports and preparation"
   ]
  },
  {
   "cell_type": "code",
   "execution_count": 1,
   "metadata": {},
   "outputs": [
    {
     "name": "stderr",
     "output_type": "stream",
     "text": [
      "OpenAI tiktoken module is not available for Python < 3.8,Linux ARM64 and AARCH64. Falling back to GPT2TokenizerFast.\n",
      "WARNING:haystack.nodes.answer_generator.openai:OpenAI tiktoken module is not available for Python < 3.8,Linux ARM64 and AARCH64. Falling back to GPT2TokenizerFast.\n"
     ]
    }
   ],
   "source": [
    "from util import util_elastic\n"
   ]
  },
  {
   "cell_type": "code",
   "execution_count": 8,
   "metadata": {},
   "outputs": [],
   "source": [
    "from util import util_search"
   ]
  },
  {
   "cell_type": "code",
   "execution_count": 9,
   "metadata": {},
   "outputs": [
    {
     "data": {
      "text/plain": [
       "<module 'util.util_elastic' from '/home/borela/fontes/ind-ir/code/util/util_elastic.py'>"
      ]
     },
     "execution_count": 9,
     "metadata": {},
     "output_type": "execute_result"
    }
   ],
   "source": [
    "import importlib\n",
    "importlib.reload(util_elastic)"
   ]
  },
  {
   "cell_type": "code",
   "execution_count": 13,
   "metadata": {},
   "outputs": [
    {
     "name": "stdout",
     "output_type": "stream",
     "text": [
      "Index: indir_index_juris\n",
      "{'health': 'yellow', 'status': 'open', 'index': 'indir_index_juris', 'uuid': 'pkdKp2wmTAOM0HyrusfENQ', 'pri': '1', 'rep': '1', 'docs.count': '13252', 'docs.deleted': '0', 'store.size': '276.4mb', 'pri.store.size': '276.4mb'}\n",
      "\n",
      "There are no index with name indir%\n"
     ]
    },
    {
     "data": {
      "text/plain": [
       "{'indir_index_juris': {'health': 'yellow',\n",
       "  'status': 'open',\n",
       "  'index': 'indir_index_juris',\n",
       "  'uuid': 'pkdKp2wmTAOM0HyrusfENQ',\n",
       "  'pri': '1',\n",
       "  'rep': '1',\n",
       "  'docs.count': '13252',\n",
       "  'docs.deleted': '0',\n",
       "  'store.size': '276.4mb',\n",
       "  'pri.store.size': '276.4mb'}}"
      ]
     },
     "execution_count": 13,
     "metadata": {},
     "output_type": "execute_result"
    }
   ],
   "source": [
    "util_elastic.return_indexes('indir', True)\n"
   ]
  },
  {
   "cell_type": "code",
   "execution_count": 14,
   "metadata": {},
   "outputs": [
    {
     "data": {
      "text/plain": [
       "(200,\n",
       " b'{\"took\":154233,\"timed_out\":false,\"total\":13252,\"updated\":0,\"created\":13252,\"deleted\":0,\"batches\":14,\"version_conflicts\":0,\"noops\":0,\"retries\":{\"bulk\":0,\"search\":0},\"throttled_millis\":0,\"requests_per_second\":-1.0,\"throttled_until_millis\":0,\"failures\":[]}')"
      ]
     },
     "execution_count": 14,
     "metadata": {},
     "output_type": "execute_result"
    }
   ],
   "source": [
    "util_elastic.copy_index('indir_index_juris', 'indir_juris_tcu_index')"
   ]
  },
  {
   "cell_type": "code",
   "execution_count": 15,
   "metadata": {},
   "outputs": [
    {
     "name": "stdout",
     "output_type": "stream",
     "text": [
      "Index: indir_index_juris\n",
      "{'health': 'yellow', 'status': 'open', 'index': 'indir_index_juris', 'uuid': 'pkdKp2wmTAOM0HyrusfENQ', 'pri': '1', 'rep': '1', 'docs.count': '13252', 'docs.deleted': '0', 'store.size': '276.4mb', 'pri.store.size': '276.4mb'}\n",
      "\n",
      "Index: indir_juris_tcu_index\n",
      "{'health': 'yellow', 'status': 'open', 'index': 'indir_juris_tcu_index', 'uuid': 'GS0Pm3HIS9GU824owraQ3Q', 'pri': '1', 'rep': '1', 'docs.count': '8961', 'docs.deleted': '0', 'store.size': '275.2mb', 'pri.store.size': '275.2mb'}\n",
      "\n",
      "There are no index with name indir%\n"
     ]
    },
    {
     "data": {
      "text/plain": [
       "{'indir_index_juris': {'health': 'yellow',\n",
       "  'status': 'open',\n",
       "  'index': 'indir_index_juris',\n",
       "  'uuid': 'pkdKp2wmTAOM0HyrusfENQ',\n",
       "  'pri': '1',\n",
       "  'rep': '1',\n",
       "  'docs.count': '13252',\n",
       "  'docs.deleted': '0',\n",
       "  'store.size': '276.4mb',\n",
       "  'pri.store.size': '276.4mb'},\n",
       " 'indir_juris_tcu_index': {'health': 'yellow',\n",
       "  'status': 'open',\n",
       "  'index': 'indir_juris_tcu_index',\n",
       "  'uuid': 'GS0Pm3HIS9GU824owraQ3Q',\n",
       "  'pri': '1',\n",
       "  'rep': '1',\n",
       "  'docs.count': '8961',\n",
       "  'docs.deleted': '0',\n",
       "  'store.size': '275.2mb',\n",
       "  'pri.store.size': '275.2mb'}}"
      ]
     },
     "execution_count": 15,
     "metadata": {},
     "output_type": "execute_result"
    }
   ],
   "source": [
    "util_elastic.return_indexes('indir', True)\n"
   ]
  },
  {
   "cell_type": "code",
   "execution_count": 16,
   "metadata": {},
   "outputs": [
    {
     "data": {
      "text/plain": [
       "(200,\n",
       " b'{\"took\":85212,\"timed_out\":false,\"total\":13252,\"updated\":0,\"created\":13252,\"deleted\":0,\"batches\":14,\"version_conflicts\":0,\"noops\":0,\"retries\":{\"bulk\":0,\"search\":0},\"throttled_millis\":0,\"requests_per_second\":-1.0,\"throttled_until_millis\":0,\"failures\":[]}')"
      ]
     },
     "execution_count": 16,
     "metadata": {},
     "output_type": "execute_result"
    }
   ],
   "source": [
    "util_elastic.copy_index('indir_juris_tcu_index', 'indir_juris_tcu_index')"
   ]
  },
  {
   "cell_type": "code",
   "execution_count": 4,
   "metadata": {},
   "outputs": [
    {
     "name": "stdout",
     "output_type": "stream",
     "text": [
      "There are no index with name indir%\n"
     ]
    },
    {
     "data": {
      "text/plain": [
       "{}"
      ]
     },
     "execution_count": 4,
     "metadata": {},
     "output_type": "execute_result"
    }
   ],
   "source": [
    "util_elastic.return_indexes('indir', True)\n"
   ]
  },
  {
   "cell_type": "code",
   "execution_count": 3,
   "metadata": {},
   "outputs": [
    {
     "data": {
      "text/plain": [
       "{'acknowledged': True}"
      ]
     },
     "execution_count": 3,
     "metadata": {},
     "output_type": "execute_result"
    }
   ],
   "source": [
    "util_elastic.delete_index('indir_juris_tcu_index')"
   ]
  },
  {
   "cell_type": "code",
   "execution_count": 4,
   "metadata": {},
   "outputs": [
    {
     "data": {
      "text/plain": [
       "{'acknowledged': True}"
      ]
     },
     "execution_count": 4,
     "metadata": {},
     "output_type": "execute_result"
    }
   ],
   "source": [
    "util_elastic.delete_index('indir_juris_tcu_index')"
   ]
  },
  {
   "cell_type": "code",
   "execution_count": 5,
   "metadata": {},
   "outputs": [
    {
     "name": "stdout",
     "output_type": "stream",
     "text": [
      "Index: indir_juris_tcu_index\n",
      "{'health': 'yellow', 'status': 'open', 'index': 'indir_juris_tcu_index', 'uuid': 'j0MSjiKERNOgwyHmC6lpsg', 'pri': '1', 'rep': '1', 'docs.count': '13252', 'docs.deleted': '0', 'store.size': '333.7mb', 'pri.store.size': '333.7mb'}\n",
      "\n",
      "There are no index with name indir%\n"
     ]
    },
    {
     "data": {
      "text/plain": [
       "{'indir_juris_tcu_index': {'health': 'yellow',\n",
       "  'status': 'open',\n",
       "  'index': 'indir_juris_tcu_index',\n",
       "  'uuid': 'j0MSjiKERNOgwyHmC6lpsg',\n",
       "  'pri': '1',\n",
       "  'rep': '1',\n",
       "  'docs.count': '13252',\n",
       "  'docs.deleted': '0',\n",
       "  'store.size': '333.7mb',\n",
       "  'pri.store.size': '333.7mb'}}"
      ]
     },
     "execution_count": 5,
     "metadata": {},
     "output_type": "execute_result"
    }
   ],
   "source": [
    "util_elastic.return_indexes('indir', True)\n"
   ]
  },
  {
   "cell_type": "code",
   "execution_count": null,
   "metadata": {},
   "outputs": [],
   "source": []
  }
 ],
 "metadata": {
  "kernelspec": {
   "display_name": "relevar-busca",
   "language": "python",
   "name": "python3"
  },
  "language_info": {
   "codemirror_mode": {
    "name": "ipython",
    "version": 3
   },
   "file_extension": ".py",
   "mimetype": "text/x-python",
   "name": "python",
   "nbconvert_exporter": "python",
   "pygments_lexer": "ipython3",
   "version": "3.7.13"
  },
  "orig_nbformat": 4,
  "vscode": {
   "interpreter": {
    "hash": "45978bf3509deeb93161d1472b16f82a40245d44c2beae6c63ad8f9bb3f69171"
   }
  }
 },
 "nbformat": 4,
 "nbformat_minor": 2
}
