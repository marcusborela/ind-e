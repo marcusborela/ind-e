{
 "cells": [
  {
   "attachments": {},
   "cell_type": "markdown",
   "id": "998a4011",
   "metadata": {},
   "source": [
    "# Imports and preparation"
   ]
  },
  {
   "cell_type": "code",
   "execution_count": 1,
   "metadata": {},
   "outputs": [
    {
     "name": "stderr",
     "output_type": "stream",
     "text": [
      "OpenAI tiktoken module is not available for Python < 3.8,Linux ARM64 and AARCH64. Falling back to GPT2TokenizerFast.\n",
      "WARNING:haystack.nodes.answer_generator.openai:OpenAI tiktoken module is not available for Python < 3.8,Linux ARM64 and AARCH64. Falling back to GPT2TokenizerFast.\n"
     ]
    }
   ],
   "source": [
    "from util import util_elastic\n"
   ]
  },
  {
   "cell_type": "code",
   "execution_count": 9,
   "metadata": {},
   "outputs": [
    {
     "data": {
      "text/plain": [
       "<module 'util.util_elastic' from '/home/borela/fontes/ind-ir/code/util/util_elastic.py'>"
      ]
     },
     "execution_count": 9,
     "metadata": {},
     "output_type": "execute_result"
    }
   ],
   "source": [
    "import importlib\n",
    "importlib.reload(util_elastic)"
   ]
  },
  {
   "cell_type": "code",
   "execution_count": 3,
   "metadata": {},
   "outputs": [
    {
     "name": "stdout",
     "output_type": "stream",
     "text": [
      "Index: indir_juris_tcu\n",
      "{'health': 'yellow', 'status': 'open', 'index': 'indir_juris_tcu', 'uuid': 'RD_aAWppQH6vjNxKUdL_0w', 'pri': '1', 'rep': '1', 'docs.count': '16045', 'docs.deleted': '16045', 'store.size': '334.9mb', 'pri.store.size': '334.9mb'}\n",
      "\n",
      "Index: indir_juris_tcu_term_exp_3_ptt5_indir_400\n",
      "{'health': 'yellow', 'status': 'open', 'index': 'indir_juris_tcu_term_exp_3_ptt5_indir_400', 'uuid': '_LoconF0SimNCEuH8eA4rA', 'pri': '1', 'rep': '1', 'docs.count': '16045', 'docs.deleted': '6623', 'store.size': '329.9mb', 'pri.store.size': '329.9mb'}\n",
      "\n",
      "Index: indir_juris_tcu_term\n",
      "{'health': 'yellow', 'status': 'open', 'index': 'indir_juris_tcu_term', 'uuid': 'S5WlNGiqSXC-79WaqfsddA', 'pri': '1', 'rep': '1', 'docs.count': '16045', 'docs.deleted': '16045', 'store.size': '337.5mb', 'pri.store.size': '337.5mb'}\n",
      "\n",
      "Index: indir_juris_tcu_synonym_related_term_exp_3_ptt5_indir_400\n",
      "{'health': 'yellow', 'status': 'open', 'index': 'indir_juris_tcu_synonym_related_term_exp_3_ptt5_indir_400', 'uuid': 'wc4yiJ2tTnOtSlKj5cqJkQ', 'pri': '1', 'rep': '1', 'docs.count': '16045', 'docs.deleted': '6128', 'store.size': '340.4mb', 'pri.store.size': '340.4mb'}\n",
      "\n",
      "Index: indir_juris_tcu_related_term\n",
      "{'health': 'yellow', 'status': 'open', 'index': 'indir_juris_tcu_related_term', 'uuid': 'i9nzlBQrREyEC7MGT79GBQ', 'pri': '1', 'rep': '1', 'docs.count': '16045', 'docs.deleted': '3651', 'store.size': '346.3mb', 'pri.store.size': '346.3mb'}\n",
      "\n",
      "Index: indir_juris_tcu_synonym_related_term\n",
      "{'health': 'yellow', 'status': 'open', 'index': 'indir_juris_tcu_synonym_related_term', 'uuid': 'OJIJ0P2XQo-s4NRuaT4W_w', 'pri': '1', 'rep': '1', 'docs.count': '16045', 'docs.deleted': '3045', 'store.size': '348.4mb', 'pri.store.size': '348.4mb'}\n",
      "\n",
      "Index: indir_juris_tcu_term_exp_1_ptt5_indir_400\n",
      "{'health': 'yellow', 'status': 'open', 'index': 'indir_juris_tcu_term_exp_1_ptt5_indir_400', 'uuid': 'o5cuc4DWQPa6i18xuvlQVw', 'pri': '1', 'rep': '1', 'docs.count': '16045', 'docs.deleted': '6545', 'store.size': '329mb', 'pri.store.size': '329mb'}\n",
      "\n",
      "Index: indir_juris_tcu_related_term_exp_3_ptt5_indir_400\n",
      "{'health': 'yellow', 'status': 'open', 'index': 'indir_juris_tcu_related_term_exp_3_ptt5_indir_400', 'uuid': '7v2OfkoWTC2mYTmdUqmdzA', 'pri': '1', 'rep': '1', 'docs.count': '16045', 'docs.deleted': '6117', 'store.size': '338.3mb', 'pri.store.size': '338.3mb'}\n",
      "\n",
      "Index: indir_juris_tcu_synonym_exp_3_ptt5_indir_400\n",
      "{'health': 'yellow', 'status': 'open', 'index': 'indir_juris_tcu_synonym_exp_3_ptt5_indir_400', 'uuid': 'hAB0jQe1QIeP2eDdwAO5pw', 'pri': '1', 'rep': '1', 'docs.count': '16045', 'docs.deleted': '5630', 'store.size': '331.7mb', 'pri.store.size': '331.7mb'}\n",
      "\n",
      "Index: indir_juris_tcu_term_exp_5_ptt5_indir_400\n",
      "{'health': 'yellow', 'status': 'open', 'index': 'indir_juris_tcu_term_exp_5_ptt5_indir_400', 'uuid': 'NLkmvC19TL6fiEQd6KzVGw', 'pri': '1', 'rep': '1', 'docs.count': '16045', 'docs.deleted': '5624', 'store.size': '330.3mb', 'pri.store.size': '330.3mb'}\n",
      "\n",
      "Index: indir_juris_tcu_synonym_related_term_exp_5_ptt5_indir_400\n",
      "{'health': 'yellow', 'status': 'open', 'index': 'indir_juris_tcu_synonym_related_term_exp_5_ptt5_indir_400', 'uuid': 'FJQq66guSP-7CS1wmQu5Kg', 'pri': '1', 'rep': '1', 'docs.count': '16045', 'docs.deleted': '3545', 'store.size': '343.8mb', 'pri.store.size': '343.8mb'}\n",
      "\n",
      "Index: indir_juris_tcu_synonym_related_term_exp_1_ptt5_indir_400\n",
      "{'health': 'yellow', 'status': 'open', 'index': 'indir_juris_tcu_synonym_related_term_exp_1_ptt5_indir_400', 'uuid': 'rPZlBOLoQkWqqkFsESho0g', 'pri': '1', 'rep': '1', 'docs.count': '16045', 'docs.deleted': '6128', 'store.size': '332.4mb', 'pri.store.size': '332.4mb'}\n",
      "\n",
      "Index: indir_juris_tcu_synonym_exp_1_ptt5_indir_400\n",
      "{'health': 'yellow', 'status': 'open', 'index': 'indir_juris_tcu_synonym_exp_1_ptt5_indir_400', 'uuid': 'Ed9ssH8NQ1qQUCBBmowNWA', 'pri': '1', 'rep': '1', 'docs.count': '16045', 'docs.deleted': '6545', 'store.size': '329.8mb', 'pri.store.size': '329.8mb'}\n",
      "\n",
      "Index: indir_juris_tcu_related_term_exp_1_ptt5_indir_400\n",
      "{'health': 'yellow', 'status': 'open', 'index': 'indir_juris_tcu_related_term_exp_1_ptt5_indir_400', 'uuid': 'BgKWyHSSQ3mjDlVbrDR3nA', 'pri': '1', 'rep': '1', 'docs.count': '16045', 'docs.deleted': '6622', 'store.size': '332mb', 'pri.store.size': '332mb'}\n",
      "\n",
      "Index: indir_juris_tcu_synonym\n",
      "{'health': 'yellow', 'status': 'open', 'index': 'indir_juris_tcu_synonym', 'uuid': 'nuMe_BWiQNG3r0lHCaeGeg', 'pri': '1', 'rep': '1', 'docs.count': '16045', 'docs.deleted': '5638', 'store.size': '334.5mb', 'pri.store.size': '334.5mb'}\n",
      "\n",
      "Index: indir_juris_tcu_index\n",
      "{'health': 'yellow', 'status': 'open', 'index': 'indir_juris_tcu_index', 'uuid': 'fGjzBrQzRUWTZ6KlnbfLqw', 'pri': '1', 'rep': '1', 'docs.count': '13255', 'docs.deleted': '2755', 'store.size': '281.7mb', 'pri.store.size': '281.7mb'}\n",
      "\n",
      "Index: indir_juris_tcu_synonym_exp_5_ptt5_indir_400\n",
      "{'health': 'yellow', 'status': 'open', 'index': 'indir_juris_tcu_synonym_exp_5_ptt5_indir_400', 'uuid': 'PH7lC0-WQNqNT-4qcBKBAw', 'pri': '1', 'rep': '1', 'docs.count': '16045', 'docs.deleted': '6142', 'store.size': '333.7mb', 'pri.store.size': '333.7mb'}\n",
      "\n",
      "Index: indir_juris_tcu_related_term_exp_5_ptt5_indir_400\n",
      "{'health': 'yellow', 'status': 'open', 'index': 'indir_juris_tcu_related_term_exp_5_ptt5_indir_400', 'uuid': 'FvvMJhKSTqe0nvbDkLO_7Q', 'pri': '1', 'rep': '1', 'docs.count': '16045', 'docs.deleted': '3132', 'store.size': '340.6mb', 'pri.store.size': '340.6mb'}\n",
      "\n"
     ]
    },
    {
     "data": {
      "text/plain": [
       "{'indir_juris_tcu': {'health': 'yellow',\n",
       "  'status': 'open',\n",
       "  'index': 'indir_juris_tcu',\n",
       "  'uuid': 'RD_aAWppQH6vjNxKUdL_0w',\n",
       "  'pri': '1',\n",
       "  'rep': '1',\n",
       "  'docs.count': '16045',\n",
       "  'docs.deleted': '16045',\n",
       "  'store.size': '334.9mb',\n",
       "  'pri.store.size': '334.9mb'},\n",
       " 'indir_juris_tcu_term_exp_3_ptt5_indir_400': {'health': 'yellow',\n",
       "  'status': 'open',\n",
       "  'index': 'indir_juris_tcu_term_exp_3_ptt5_indir_400',\n",
       "  'uuid': '_LoconF0SimNCEuH8eA4rA',\n",
       "  'pri': '1',\n",
       "  'rep': '1',\n",
       "  'docs.count': '16045',\n",
       "  'docs.deleted': '6623',\n",
       "  'store.size': '329.9mb',\n",
       "  'pri.store.size': '329.9mb'},\n",
       " 'indir_juris_tcu_term': {'health': 'yellow',\n",
       "  'status': 'open',\n",
       "  'index': 'indir_juris_tcu_term',\n",
       "  'uuid': 'S5WlNGiqSXC-79WaqfsddA',\n",
       "  'pri': '1',\n",
       "  'rep': '1',\n",
       "  'docs.count': '16045',\n",
       "  'docs.deleted': '16045',\n",
       "  'store.size': '337.5mb',\n",
       "  'pri.store.size': '337.5mb'},\n",
       " 'indir_juris_tcu_synonym_related_term_exp_3_ptt5_indir_400': {'health': 'yellow',\n",
       "  'status': 'open',\n",
       "  'index': 'indir_juris_tcu_synonym_related_term_exp_3_ptt5_indir_400',\n",
       "  'uuid': 'wc4yiJ2tTnOtSlKj5cqJkQ',\n",
       "  'pri': '1',\n",
       "  'rep': '1',\n",
       "  'docs.count': '16045',\n",
       "  'docs.deleted': '6128',\n",
       "  'store.size': '340.4mb',\n",
       "  'pri.store.size': '340.4mb'},\n",
       " 'indir_juris_tcu_related_term': {'health': 'yellow',\n",
       "  'status': 'open',\n",
       "  'index': 'indir_juris_tcu_related_term',\n",
       "  'uuid': 'i9nzlBQrREyEC7MGT79GBQ',\n",
       "  'pri': '1',\n",
       "  'rep': '1',\n",
       "  'docs.count': '16045',\n",
       "  'docs.deleted': '3651',\n",
       "  'store.size': '346.3mb',\n",
       "  'pri.store.size': '346.3mb'},\n",
       " 'indir_juris_tcu_synonym_related_term': {'health': 'yellow',\n",
       "  'status': 'open',\n",
       "  'index': 'indir_juris_tcu_synonym_related_term',\n",
       "  'uuid': 'OJIJ0P2XQo-s4NRuaT4W_w',\n",
       "  'pri': '1',\n",
       "  'rep': '1',\n",
       "  'docs.count': '16045',\n",
       "  'docs.deleted': '3045',\n",
       "  'store.size': '348.4mb',\n",
       "  'pri.store.size': '348.4mb'},\n",
       " 'indir_juris_tcu_term_exp_1_ptt5_indir_400': {'health': 'yellow',\n",
       "  'status': 'open',\n",
       "  'index': 'indir_juris_tcu_term_exp_1_ptt5_indir_400',\n",
       "  'uuid': 'o5cuc4DWQPa6i18xuvlQVw',\n",
       "  'pri': '1',\n",
       "  'rep': '1',\n",
       "  'docs.count': '16045',\n",
       "  'docs.deleted': '6545',\n",
       "  'store.size': '329mb',\n",
       "  'pri.store.size': '329mb'},\n",
       " 'indir_juris_tcu_related_term_exp_3_ptt5_indir_400': {'health': 'yellow',\n",
       "  'status': 'open',\n",
       "  'index': 'indir_juris_tcu_related_term_exp_3_ptt5_indir_400',\n",
       "  'uuid': '7v2OfkoWTC2mYTmdUqmdzA',\n",
       "  'pri': '1',\n",
       "  'rep': '1',\n",
       "  'docs.count': '16045',\n",
       "  'docs.deleted': '6117',\n",
       "  'store.size': '338.3mb',\n",
       "  'pri.store.size': '338.3mb'},\n",
       " 'indir_juris_tcu_synonym_exp_3_ptt5_indir_400': {'health': 'yellow',\n",
       "  'status': 'open',\n",
       "  'index': 'indir_juris_tcu_synonym_exp_3_ptt5_indir_400',\n",
       "  'uuid': 'hAB0jQe1QIeP2eDdwAO5pw',\n",
       "  'pri': '1',\n",
       "  'rep': '1',\n",
       "  'docs.count': '16045',\n",
       "  'docs.deleted': '5630',\n",
       "  'store.size': '331.7mb',\n",
       "  'pri.store.size': '331.7mb'},\n",
       " 'indir_juris_tcu_term_exp_5_ptt5_indir_400': {'health': 'yellow',\n",
       "  'status': 'open',\n",
       "  'index': 'indir_juris_tcu_term_exp_5_ptt5_indir_400',\n",
       "  'uuid': 'NLkmvC19TL6fiEQd6KzVGw',\n",
       "  'pri': '1',\n",
       "  'rep': '1',\n",
       "  'docs.count': '16045',\n",
       "  'docs.deleted': '5624',\n",
       "  'store.size': '330.3mb',\n",
       "  'pri.store.size': '330.3mb'},\n",
       " 'indir_juris_tcu_synonym_related_term_exp_5_ptt5_indir_400': {'health': 'yellow',\n",
       "  'status': 'open',\n",
       "  'index': 'indir_juris_tcu_synonym_related_term_exp_5_ptt5_indir_400',\n",
       "  'uuid': 'FJQq66guSP-7CS1wmQu5Kg',\n",
       "  'pri': '1',\n",
       "  'rep': '1',\n",
       "  'docs.count': '16045',\n",
       "  'docs.deleted': '3545',\n",
       "  'store.size': '343.8mb',\n",
       "  'pri.store.size': '343.8mb'},\n",
       " 'indir_juris_tcu_synonym_related_term_exp_1_ptt5_indir_400': {'health': 'yellow',\n",
       "  'status': 'open',\n",
       "  'index': 'indir_juris_tcu_synonym_related_term_exp_1_ptt5_indir_400',\n",
       "  'uuid': 'rPZlBOLoQkWqqkFsESho0g',\n",
       "  'pri': '1',\n",
       "  'rep': '1',\n",
       "  'docs.count': '16045',\n",
       "  'docs.deleted': '6128',\n",
       "  'store.size': '332.4mb',\n",
       "  'pri.store.size': '332.4mb'},\n",
       " 'indir_juris_tcu_synonym_exp_1_ptt5_indir_400': {'health': 'yellow',\n",
       "  'status': 'open',\n",
       "  'index': 'indir_juris_tcu_synonym_exp_1_ptt5_indir_400',\n",
       "  'uuid': 'Ed9ssH8NQ1qQUCBBmowNWA',\n",
       "  'pri': '1',\n",
       "  'rep': '1',\n",
       "  'docs.count': '16045',\n",
       "  'docs.deleted': '6545',\n",
       "  'store.size': '329.8mb',\n",
       "  'pri.store.size': '329.8mb'},\n",
       " 'indir_juris_tcu_related_term_exp_1_ptt5_indir_400': {'health': 'yellow',\n",
       "  'status': 'open',\n",
       "  'index': 'indir_juris_tcu_related_term_exp_1_ptt5_indir_400',\n",
       "  'uuid': 'BgKWyHSSQ3mjDlVbrDR3nA',\n",
       "  'pri': '1',\n",
       "  'rep': '1',\n",
       "  'docs.count': '16045',\n",
       "  'docs.deleted': '6622',\n",
       "  'store.size': '332mb',\n",
       "  'pri.store.size': '332mb'},\n",
       " 'indir_juris_tcu_synonym': {'health': 'yellow',\n",
       "  'status': 'open',\n",
       "  'index': 'indir_juris_tcu_synonym',\n",
       "  'uuid': 'nuMe_BWiQNG3r0lHCaeGeg',\n",
       "  'pri': '1',\n",
       "  'rep': '1',\n",
       "  'docs.count': '16045',\n",
       "  'docs.deleted': '5638',\n",
       "  'store.size': '334.5mb',\n",
       "  'pri.store.size': '334.5mb'},\n",
       " 'indir_juris_tcu_index': {'health': 'yellow',\n",
       "  'status': 'open',\n",
       "  'index': 'indir_juris_tcu_index',\n",
       "  'uuid': 'fGjzBrQzRUWTZ6KlnbfLqw',\n",
       "  'pri': '1',\n",
       "  'rep': '1',\n",
       "  'docs.count': '13255',\n",
       "  'docs.deleted': '2755',\n",
       "  'store.size': '281.7mb',\n",
       "  'pri.store.size': '281.7mb'},\n",
       " 'indir_juris_tcu_synonym_exp_5_ptt5_indir_400': {'health': 'yellow',\n",
       "  'status': 'open',\n",
       "  'index': 'indir_juris_tcu_synonym_exp_5_ptt5_indir_400',\n",
       "  'uuid': 'PH7lC0-WQNqNT-4qcBKBAw',\n",
       "  'pri': '1',\n",
       "  'rep': '1',\n",
       "  'docs.count': '16045',\n",
       "  'docs.deleted': '6142',\n",
       "  'store.size': '333.7mb',\n",
       "  'pri.store.size': '333.7mb'},\n",
       " 'indir_juris_tcu_related_term_exp_5_ptt5_indir_400': {'health': 'yellow',\n",
       "  'status': 'open',\n",
       "  'index': 'indir_juris_tcu_related_term_exp_5_ptt5_indir_400',\n",
       "  'uuid': 'FvvMJhKSTqe0nvbDkLO_7Q',\n",
       "  'pri': '1',\n",
       "  'rep': '1',\n",
       "  'docs.count': '16045',\n",
       "  'docs.deleted': '3132',\n",
       "  'store.size': '340.6mb',\n",
       "  'pri.store.size': '340.6mb'}}"
      ]
     },
     "execution_count": 3,
     "metadata": {},
     "output_type": "execute_result"
    }
   ],
   "source": [
    "util_elastic.return_indexes('indir', True)\n"
   ]
  },
  {
   "cell_type": "code",
   "execution_count": 14,
   "metadata": {},
   "outputs": [
    {
     "data": {
      "text/plain": [
       "(200,\n",
       " b'{\"took\":154233,\"timed_out\":false,\"total\":13252,\"updated\":0,\"created\":13252,\"deleted\":0,\"batches\":14,\"version_conflicts\":0,\"noops\":0,\"retries\":{\"bulk\":0,\"search\":0},\"throttled_millis\":0,\"requests_per_second\":-1.0,\"throttled_until_millis\":0,\"failures\":[]}')"
      ]
     },
     "execution_count": 14,
     "metadata": {},
     "output_type": "execute_result"
    }
   ],
   "source": [
    "util_elastic.copy_index('indir_index_juris', 'indir_juris_tcu_index')"
   ]
  },
  {
   "cell_type": "code",
   "execution_count": 15,
   "metadata": {},
   "outputs": [
    {
     "name": "stdout",
     "output_type": "stream",
     "text": [
      "Index: indir_index_juris\n",
      "{'health': 'yellow', 'status': 'open', 'index': 'indir_index_juris', 'uuid': 'pkdKp2wmTAOM0HyrusfENQ', 'pri': '1', 'rep': '1', 'docs.count': '13252', 'docs.deleted': '0', 'store.size': '276.4mb', 'pri.store.size': '276.4mb'}\n",
      "\n",
      "Index: indir_juris_tcu_index\n",
      "{'health': 'yellow', 'status': 'open', 'index': 'indir_juris_tcu_index', 'uuid': 'GS0Pm3HIS9GU824owraQ3Q', 'pri': '1', 'rep': '1', 'docs.count': '8961', 'docs.deleted': '0', 'store.size': '275.2mb', 'pri.store.size': '275.2mb'}\n",
      "\n",
      "There are no index with name indir%\n"
     ]
    },
    {
     "data": {
      "text/plain": [
       "{'indir_index_juris': {'health': 'yellow',\n",
       "  'status': 'open',\n",
       "  'index': 'indir_index_juris',\n",
       "  'uuid': 'pkdKp2wmTAOM0HyrusfENQ',\n",
       "  'pri': '1',\n",
       "  'rep': '1',\n",
       "  'docs.count': '13252',\n",
       "  'docs.deleted': '0',\n",
       "  'store.size': '276.4mb',\n",
       "  'pri.store.size': '276.4mb'},\n",
       " 'indir_juris_tcu_index': {'health': 'yellow',\n",
       "  'status': 'open',\n",
       "  'index': 'indir_juris_tcu_index',\n",
       "  'uuid': 'GS0Pm3HIS9GU824owraQ3Q',\n",
       "  'pri': '1',\n",
       "  'rep': '1',\n",
       "  'docs.count': '8961',\n",
       "  'docs.deleted': '0',\n",
       "  'store.size': '275.2mb',\n",
       "  'pri.store.size': '275.2mb'}}"
      ]
     },
     "execution_count": 15,
     "metadata": {},
     "output_type": "execute_result"
    }
   ],
   "source": [
    "util_elastic.return_indexes('indir', True)\n"
   ]
  },
  {
   "cell_type": "code",
   "execution_count": 16,
   "metadata": {},
   "outputs": [
    {
     "data": {
      "text/plain": [
       "(200,\n",
       " b'{\"took\":85212,\"timed_out\":false,\"total\":13252,\"updated\":0,\"created\":13252,\"deleted\":0,\"batches\":14,\"version_conflicts\":0,\"noops\":0,\"retries\":{\"bulk\":0,\"search\":0},\"throttled_millis\":0,\"requests_per_second\":-1.0,\"throttled_until_millis\":0,\"failures\":[]}')"
      ]
     },
     "execution_count": 16,
     "metadata": {},
     "output_type": "execute_result"
    }
   ],
   "source": [
    "util_elastic.copy_index('indir_juris_tcu_index', 'indir_juris_tcu_index')"
   ]
  },
  {
   "cell_type": "code",
   "execution_count": 4,
   "metadata": {},
   "outputs": [
    {
     "name": "stdout",
     "output_type": "stream",
     "text": [
      "There are no index with name indir%\n"
     ]
    },
    {
     "data": {
      "text/plain": [
       "{}"
      ]
     },
     "execution_count": 4,
     "metadata": {},
     "output_type": "execute_result"
    }
   ],
   "source": [
    "util_elastic.return_indexes('indir', True)\n"
   ]
  },
  {
   "attachments": {},
   "cell_type": "markdown",
   "metadata": {},
   "source": [
    "Exclui índices com expansão do usuário"
   ]
  },
  {
   "cell_type": "code",
   "execution_count": 6,
   "metadata": {},
   "outputs": [],
   "source": [
    "list_name_index = ['indir_juris_tcu', 'indir_juris_tcu_term', 'indir_juris_tcu_synonym', 'indir_juris_tcu_related_term', 'indir_juris_tcu_synonym_related_term' ]"
   ]
  },
  {
   "cell_type": "code",
   "execution_count": 7,
   "metadata": {},
   "outputs": [
    {
     "name": "stdout",
     "output_type": "stream",
     "text": [
      "delete_index indir_juris_tcu {'acknowledged': True}\n",
      "delete_index indir_juris_tcu_term {'acknowledged': True}\n",
      "delete_index indir_juris_tcu_synonym {'acknowledged': True}\n",
      "delete_index indir_juris_tcu_related_term {'acknowledged': True}\n",
      "delete_index indir_juris_tcu_synonym_related_term {'acknowledged': True}\n"
     ]
    }
   ],
   "source": [
    "for index_name in list_name_index:\n",
    "    ret = util_elastic.delete_index(index_name)\n",
    "    print('delete_index', index_name, ret)"
   ]
  },
  {
   "cell_type": "code",
   "execution_count": 3,
   "metadata": {},
   "outputs": [
    {
     "data": {
      "text/plain": [
       "{'acknowledged': True}"
      ]
     },
     "execution_count": 3,
     "metadata": {},
     "output_type": "execute_result"
    }
   ],
   "source": [
    "util_elastic.delete_index('indir_juris_tcu_index')"
   ]
  },
  {
   "cell_type": "code",
   "execution_count": 4,
   "metadata": {},
   "outputs": [
    {
     "data": {
      "text/plain": [
       "{'acknowledged': True}"
      ]
     },
     "execution_count": 4,
     "metadata": {},
     "output_type": "execute_result"
    }
   ],
   "source": [
    "util_elastic.delete_index('indir_juris_tcu_index')"
   ]
  },
  {
   "cell_type": "code",
   "execution_count": 5,
   "metadata": {},
   "outputs": [
    {
     "name": "stdout",
     "output_type": "stream",
     "text": [
      "Index: indir_juris_tcu_index\n",
      "{'health': 'yellow', 'status': 'open', 'index': 'indir_juris_tcu_index', 'uuid': 'j0MSjiKERNOgwyHmC6lpsg', 'pri': '1', 'rep': '1', 'docs.count': '13252', 'docs.deleted': '0', 'store.size': '333.7mb', 'pri.store.size': '333.7mb'}\n",
      "\n",
      "There are no index with name indir%\n"
     ]
    },
    {
     "data": {
      "text/plain": [
       "{'indir_juris_tcu_index': {'health': 'yellow',\n",
       "  'status': 'open',\n",
       "  'index': 'indir_juris_tcu_index',\n",
       "  'uuid': 'j0MSjiKERNOgwyHmC6lpsg',\n",
       "  'pri': '1',\n",
       "  'rep': '1',\n",
       "  'docs.count': '13252',\n",
       "  'docs.deleted': '0',\n",
       "  'store.size': '333.7mb',\n",
       "  'pri.store.size': '333.7mb'}}"
      ]
     },
     "execution_count": 5,
     "metadata": {},
     "output_type": "execute_result"
    }
   ],
   "source": [
    "util_elastic.return_indexes('indir', True)\n"
   ]
  },
  {
   "cell_type": "code",
   "execution_count": null,
   "metadata": {},
   "outputs": [],
   "source": []
  }
 ],
 "metadata": {
  "kernelspec": {
   "display_name": "Python (relevar-busca)",
   "language": "python",
   "name": "relevar-busca"
  },
  "language_info": {
   "codemirror_mode": {
    "name": "ipython",
    "version": 3
   },
   "file_extension": ".py",
   "mimetype": "text/x-python",
   "name": "python",
   "nbconvert_exporter": "python",
   "pygments_lexer": "ipython3",
   "version": "3.7.13 (default, Mar 29 2022, 02:18:16) \n[GCC 7.5.0]"
  },
  "orig_nbformat": 4,
  "vscode": {
   "interpreter": {
    "hash": "45978bf3509deeb93161d1472b16f82a40245d44c2beae6c63ad8f9bb3f69171"
   }
  }
 },
 "nbformat": 4,
 "nbformat_minor": 2
}
