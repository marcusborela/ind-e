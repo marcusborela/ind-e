{
 "cells": [
  {
   "attachments": {},
   "cell_type": "markdown",
   "id": "998a4011",
   "metadata": {},
   "source": [
    "# Imports and preparation"
   ]
  },
  {
   "cell_type": "code",
   "execution_count": 1,
   "metadata": {},
   "outputs": [],
   "source": [
    "import os"
   ]
  },
  {
   "cell_type": "code",
   "execution_count": 2,
   "metadata": {},
   "outputs": [],
   "source": [
    "import numpy as np"
   ]
  },
  {
   "cell_type": "code",
   "execution_count": 3,
   "id": "37d4165c",
   "metadata": {},
   "outputs": [],
   "source": [
    "import pandas as pd"
   ]
  },
  {
   "cell_type": "code",
   "execution_count": 4,
   "metadata": {},
   "outputs": [],
   "source": [
    "from tqdm import tqdm"
   ]
  },
  {
   "cell_type": "code",
   "execution_count": 5,
   "metadata": {},
   "outputs": [],
   "source": [
    "import time, gc"
   ]
  },
  {
   "cell_type": "code",
   "execution_count": 6,
   "metadata": {},
   "outputs": [],
   "source": [
    "import importlib"
   ]
  },
  {
   "cell_type": "code",
   "execution_count": 7,
   "metadata": {},
   "outputs": [],
   "source": [
    "from itertools import product\n"
   ]
  },
  {
   "cell_type": "code",
   "execution_count": 8,
   "metadata": {},
   "outputs": [
    {
     "name": "stderr",
     "output_type": "stream",
     "text": [
      "OpenAI tiktoken module is not available for Python < 3.8,Linux ARM64 and AARCH64. Falling back to GPT2TokenizerFast.\n",
      "WARNING:haystack.nodes.answer_generator.openai:OpenAI tiktoken module is not available for Python < 3.8,Linux ARM64 and AARCH64. Falling back to GPT2TokenizerFast.\n"
     ]
    }
   ],
   "source": [
    "from util import util_elastic"
   ]
  },
  {
   "cell_type": "code",
   "execution_count": 9,
   "metadata": {},
   "outputs": [],
   "source": [
    "from util import util_pipeline"
   ]
  },
  {
   "cell_type": "code",
   "execution_count": 10,
   "metadata": {},
   "outputs": [],
   "source": [
    "from util import util_experiment_juris_tcu as util_experiment"
   ]
  },
  {
   "cell_type": "code",
   "execution_count": 11,
   "id": "f911fcf2",
   "metadata": {},
   "outputs": [],
   "source": [
    "# Para ter repetibilidade nos resultados\n",
    "random_state = 1\n",
    "\n",
    "# Tratar valores infinitos (+ e -) como np.NaN\n",
    "pd.options.mode.use_inf_as_na = True\n",
    "\n",
    "# IMPORTANTE para tornar figuras interativas\n",
    "# %matplotlib notebook\n",
    "\n",
    "# Tamanho padrão das figuras\n",
    "figsize=(10,6)\n",
    "\n",
    "pd.set_option('display.max_row', 1000)\n",
    "\n",
    "pd.set_option('display.max_columns', 50)\n",
    "\n",
    "pd.set_option('display.column_space', 100)\n",
    "pd.set_option('display.max_colwidth', 200)\n",
    "pd.set_option('display.width', 200)\n"
   ]
  },
  {
   "cell_type": "code",
   "execution_count": 12,
   "metadata": {},
   "outputs": [],
   "source": [
    "DATASET_NAME = 'juris_tcu'"
   ]
  },
  {
   "cell_type": "code",
   "execution_count": 13,
   "id": "6e05b9a6",
   "metadata": {},
   "outputs": [],
   "source": [
    "PATH_QUERY = f'../data/{DATASET_NAME}/query.csv'\n",
    "PATH_QREL =  f'../data/{DATASET_NAME}/qrel.csv'"
   ]
  },
  {
   "attachments": {},
   "cell_type": "markdown",
   "metadata": {},
   "source": [
    "# Data load"
   ]
  },
  {
   "attachments": {},
   "cell_type": "markdown",
   "metadata": {},
   "source": [
    "## Query data load"
   ]
  },
  {
   "cell_type": "code",
   "execution_count": 14,
   "id": "1cf03f22",
   "metadata": {},
   "outputs": [],
   "source": [
    "df_query = pd.read_csv(PATH_QUERY)"
   ]
  },
  {
   "cell_type": "code",
   "execution_count": 15,
   "metadata": {},
   "outputs": [
    {
     "data": {
      "text/plain": [
       "(150, 3)"
      ]
     },
     "execution_count": 15,
     "metadata": {},
     "output_type": "execute_result"
    }
   ],
   "source": [
    "df_query.shape"
   ]
  },
  {
   "cell_type": "code",
   "execution_count": 16,
   "metadata": {},
   "outputs": [
    {
     "data": {
      "text/html": [
       "<div>\n",
       "<style scoped>\n",
       "    .dataframe tbody tr th:only-of-type {\n",
       "        vertical-align: middle;\n",
       "    }\n",
       "\n",
       "    .dataframe tbody tr th {\n",
       "        vertical-align: top;\n",
       "    }\n",
       "\n",
       "    .dataframe thead th {\n",
       "        text-align: right;\n",
       "    }\n",
       "</style>\n",
       "<table border=\"1\" class=\"dataframe\">\n",
       "  <thead>\n",
       "    <tr style=\"text-align: right;\">\n",
       "      <th></th>\n",
       "      <th>ID</th>\n",
       "      <th>TEXT</th>\n",
       "      <th>SOURCE</th>\n",
       "    </tr>\n",
       "  </thead>\n",
       "  <tbody>\n",
       "    <tr>\n",
       "      <th>0</th>\n",
       "      <td>1</td>\n",
       "      <td>técnica e preço</td>\n",
       "      <td>search log</td>\n",
       "    </tr>\n",
       "    <tr>\n",
       "      <th>1</th>\n",
       "      <td>2</td>\n",
       "      <td>restos a pagar</td>\n",
       "      <td>search log</td>\n",
       "    </tr>\n",
       "    <tr>\n",
       "      <th>2</th>\n",
       "      <td>3</td>\n",
       "      <td>aditivo a contrato</td>\n",
       "      <td>search log</td>\n",
       "    </tr>\n",
       "    <tr>\n",
       "      <th>3</th>\n",
       "      <td>4</td>\n",
       "      <td>adesão a ata de registro de preços</td>\n",
       "      <td>search log</td>\n",
       "    </tr>\n",
       "    <tr>\n",
       "      <th>4</th>\n",
       "      <td>5</td>\n",
       "      <td>sobrepreço e superfaturamento</td>\n",
       "      <td>search log</td>\n",
       "    </tr>\n",
       "  </tbody>\n",
       "</table>\n",
       "</div>"
      ],
      "text/plain": [
       "   ID                                TEXT      SOURCE\n",
       "0   1                     técnica e preço  search log\n",
       "1   2                      restos a pagar  search log\n",
       "2   3                  aditivo a contrato  search log\n",
       "3   4  adesão a ata de registro de preços  search log\n",
       "4   5       sobrepreço e superfaturamento  search log"
      ]
     },
     "execution_count": 16,
     "metadata": {},
     "output_type": "execute_result"
    }
   ],
   "source": [
    "df_query.head()"
   ]
  },
  {
   "cell_type": "code",
   "execution_count": 17,
   "metadata": {},
   "outputs": [],
   "source": [
    "df_query = df_query.reset_index(drop=True)"
   ]
  },
  {
   "attachments": {},
   "cell_type": "markdown",
   "metadata": {},
   "source": [
    "# Expand query"
   ]
  },
  {
   "attachments": {},
   "cell_type": "markdown",
   "metadata": {},
   "source": [
    "## Create reference to index (juris_tcu_index)"
   ]
  },
  {
   "cell_type": "code",
   "execution_count": 18,
   "metadata": {},
   "outputs": [],
   "source": [
    "INDEX_NAME = 'indir_juris_tcu_index'"
   ]
  },
  {
   "cell_type": "code",
   "execution_count": 19,
   "metadata": {},
   "outputs": [
    {
     "name": "stdout",
     "output_type": "stream",
     "text": [
      "\n",
      "Qtd de documentos 13255\n",
      "\n",
      "Qtd de embeddings 13255\n",
      "\n",
      "Documento.id=5: <Document: id=5, content='O termo é \"Abono de permanência em serviço\".\n",
      "Abono de permanência em serviço tem definição: \"O abono...'>\n"
     ]
    }
   ],
   "source": [
    "index = util_elastic.return_index(parm_index_name=INDEX_NAME)"
   ]
  },
  {
   "attachments": {},
   "cell_type": "markdown",
   "metadata": {},
   "source": [
    "## Create pipeline"
   ]
  },
  {
   "cell_type": "code",
   "execution_count": 20,
   "metadata": {},
   "outputs": [],
   "source": [
    "# Test query\n",
    "# parm_query = \"trata-se de uma denúncia contra o prefeito de Manhuaçu por não haver pago os funcionários da área de limpeza urbana\"\n",
    "parm_query = \"despesa sem cobertura contratual\""
   ]
  },
  {
   "cell_type": "code",
   "execution_count": 40,
   "metadata": {},
   "outputs": [],
   "source": [
    "pipes = []"
   ]
  },
  {
   "cell_type": "code",
   "execution_count": 41,
   "metadata": {},
   "outputs": [],
   "source": [
    "ranker_type = 'PTT5_INDIR_400' #'PTT5_BASE' #'PTT5_INDIR_83' # 'MT5_3B' # 'MT5_TRAINED_LIM50_800' # 'MINILM_TRAINED_19000'4"
   ]
  },
  {
   "cell_type": "code",
   "execution_count": 42,
   "metadata": {},
   "outputs": [],
   "source": [
    "FILTER_TERMO = {'class':['Termo']}"
   ]
  },
  {
   "cell_type": "code",
   "execution_count": 24,
   "metadata": {},
   "outputs": [
    {
     "ename": "Exception",
     "evalue": "Para aqui",
     "output_type": "error",
     "traceback": [
      "\u001b[0;31m---------------------------------------------------------------------------\u001b[0m",
      "\u001b[0;31mException\u001b[0m                                 Traceback (most recent call last)",
      "\u001b[0;32m/tmp/ipykernel_1533883/953306622.py\u001b[0m in \u001b[0;36m<module>\u001b[0;34m\u001b[0m\n\u001b[0;32m----> 1\u001b[0;31m \u001b[0;32mraise\u001b[0m \u001b[0mException\u001b[0m\u001b[0;34m(\u001b[0m\u001b[0;34m'Para aqui'\u001b[0m\u001b[0;34m)\u001b[0m\u001b[0;34m\u001b[0m\u001b[0;34m\u001b[0m\u001b[0m\n\u001b[0m",
      "\u001b[0;31mException\u001b[0m: Para aqui"
     ]
    }
   ],
   "source": [
    "raise Exception('Para aqui')"
   ]
  },
  {
   "attachments": {},
   "cell_type": "markdown",
   "metadata": {},
   "source": [
    "### bm25"
   ]
  },
  {
   "cell_type": "code",
   "execution_count": null,
   "metadata": {},
   "outputs": [],
   "source": [
    "del pipe_bm25_ranker"
   ]
  },
  {
   "cell_type": "code",
   "execution_count": null,
   "metadata": {},
   "outputs": [
    {
     "name": "stdout",
     "output_type": "stream",
     "text": [
      "Loading PTT5_INDIR_106 with limit_query_size=50\n",
      "CPU times: user 10.1 s, sys: 1.51 s, total: 11.6 s\n",
      "Wall time: 8.57 s\n"
     ]
    }
   ],
   "source": [
    "%%time\n",
    "pipe_bm25_ranker = util_pipeline.return_pipeline_bm25_reranker(index, ranker_type, parm_limit_query_size=50)"
   ]
  },
  {
   "cell_type": "code",
   "execution_count": null,
   "metadata": {},
   "outputs": [],
   "source": [
    "pipes.append({'PIPE_NAME': 'pipe_bm25_ranker',\n",
    "              'PIPE_OBJECT': pipe_bm25_ranker,\n",
    "              'RETRIEVER_TYPE': 'bm25',  \n",
    "              'RETRIEVER_MODEL_NAME': '', \n",
    "              'RANKER_MODEL_NAME': util_pipeline.return_ranker_name(ranker_type)})"
   ]
  },
  {
   "cell_type": "code",
   "execution_count": null,
   "metadata": {},
   "outputs": [
    {
     "name": "stdout",
     "output_type": "stream",
     "text": [
      "Parâmetros usados: {'Retriever': {'top_k': 100, 'filters': {'count_index_total': {'$gte': 5}}}}\n",
      "Consulta: despesa sem cobertura contratual\n",
      "Qtd documentos retornados: 100\n",
      "Seguem os nomes dos termos recuperados em ordem de score\n",
      "0 : ['Garantia contratual', '685', -0.010465267114341259]\n",
      "1 : ['Contrato administrativo', '331', -0.011969292536377907]\n",
      "2 : ['Dispensa de licitação', '459', -0.06604985892772675]\n",
      "3 : ['Contratação direta', '327', -0.14308224618434906]\n",
      "4 : ['Contrato', '330', -0.2242659628391266]\n",
      "5 : ['Despesa', '421', -0.35243895649909973]\n",
      "6 : ['Prorrogação de contrato', '1292', -0.45849138498306274]\n",
      "7 : ['Pessoal', '1131', -0.5640890598297119]\n",
      "8 : ['Plano de saúde', '1145', -0.5767648220062256]\n",
      "9 : ['Liquidação da despesa', '950', -0.901408851146698]\n",
      "10 : ['Garantia da proposta', '2534', -0.9434277415275574]\n"
     ]
    }
   ],
   "source": [
    "doctos_retornados_ranker = pipe_bm25_ranker.run(query=parm_query, params= {\"Retriever\":{\"top_k\":100, \"filters\": {\"count_index_total\": {\"$gte\": 5} }}})\n",
    "util_pipeline.detail_document_found(doctos_retornados_ranker)"
   ]
  },
  {
   "cell_type": "code",
   "execution_count": null,
   "metadata": {},
   "outputs": [
    {
     "name": "stdout",
     "output_type": "stream",
     "text": [
      "Parâmetros usados: {'Retriever': {'top_k': 30, 'filters': {'count_index_total': {'$gte': 5}}}}\n",
      "Consulta: despesa sem cobertura contratual\n",
      "Qtd documentos retornados: 30\n",
      "Seguem os nomes dos termos recuperados em ordem de score\n",
      "0 : ['Garantia contratual', '685', -0.02296389825642109]\n",
      "1 : ['Contrato', '330', -0.11135894805192947]\n",
      "2 : ['Inexecução', '800', -0.18585744500160217]\n",
      "3 : ['Despesa', '421', -0.38263654708862305]\n",
      "4 : ['Débito', '370', -0.575980007648468]\n",
      "5 : ['Contratação direta', '327', -1.0081050395965576]\n",
      "6 : ['Liquidação da despesa', '950', -1.2624561786651611]\n",
      "7 : ['Ordenação de despesa', '14780', -1.2977583408355713]\n",
      "8 : ['Despesa pública', '691', -1.6750495433807373]\n",
      "9 : ['Despesa de custeio', '2282', -2.073354959487915]\n",
      "10 : ['Custeio', '1102', -2.1612818241119385]\n"
     ]
    }
   ],
   "source": [
    "doctos_retornados_ranker = pipe_bm25_ranker.run(query=parm_query, params= {\"Retriever\":{\"top_k\":30, \"filters\": {\"count_index_total\": {\"$gte\": 5} }}})\n",
    "util_pipeline.detail_document_found(doctos_retornados_ranker)"
   ]
  },
  {
   "cell_type": "code",
   "execution_count": null,
   "metadata": {},
   "outputs": [
    {
     "name": "stdout",
     "output_type": "stream",
     "text": [
      "Parâmetros usados: {'Retriever': {'top_k': 30}}\n",
      "Consulta: despesa sem cobertura contratual\n",
      "Qtd documentos retornados: 30\n",
      "Seguem os nomes dos termos recuperados em ordem de score\n",
      "0 : ['Garantia contratual', '685', -0.022963782772421837]\n",
      "1 : ['Gestão contratual', '1104190', -0.2078995257616043]\n",
      "2 : ['Despesa sem prévio empenho', '1104589', -0.31134384870529175]\n",
      "3 : ['Despesa', '421', -0.38272443413734436]\n",
      "4 : ['Carta contrato', '1929', -0.9164692759513855]\n",
      "5 : ['Reconhecimento de dívida', '1105310', -1.077577829360962]\n",
      "6 : ['Despesa especial', '1104118', -1.1674960851669312]\n",
      "7 : ['Cobertura (Obra pública)', '5093', -1.1881086826324463]\n",
      "8 : ['Liquidação da despesa', '950', -1.2624561786651611]\n",
      "9 : ['Ordenação de despesa', '14780', -1.296999216079712]\n",
      "10 : ['Despesa pública', '691', -1.6742503643035889]\n"
     ]
    }
   ],
   "source": [
    "doctos_retornados_ranker = pipe_bm25_ranker.run(query=parm_query, params= {\"Retriever\":{\"top_k\":30}})\n",
    "util_pipeline.detail_document_found(doctos_retornados_ranker)"
   ]
  },
  {
   "cell_type": "code",
   "execution_count": null,
   "metadata": {},
   "outputs": [
    {
     "name": "stdout",
     "output_type": "stream",
     "text": [
      "Parâmetros usados: {'Retriever': {'top_k': 50, 'filters': {'class': ['Termo']}}}\n",
      "Consulta: despesa sem cobertura contratual\n",
      "Qtd documentos retornados: 50\n",
      "Seguem os nomes dos termos recuperados em ordem de score\n",
      "0 : ['Garantia contratual', '685', -0.022906577214598656]\n",
      "1 : ['Inexecução', '800', -0.1862320601940155]\n",
      "2 : ['Gestão contratual', '1104190', -0.20773528516292572]\n",
      "3 : ['Negativa de atendimento', '2196', -0.2135389894247055]\n",
      "4 : ['Despesa sem prévio empenho', '1104589', -0.31134384870529175]\n",
      "5 : ['Despesa', '421', -0.38272443413734436]\n",
      "6 : ['Débito', '370', -0.5758218765258789]\n",
      "7 : ['Carta contrato', '1929', -0.9164692759513855]\n",
      "8 : ['Contratação direta', '327', -1.0090245008468628]\n",
      "9 : ['Reconhecimento de dívida', '1105310', -1.077577829360962]\n",
      "10 : ['Despesa especial', '1104118', -1.168460726737976]\n"
     ]
    }
   ],
   "source": [
    "doctos_retornados_ranker = pipe_bm25_ranker.run(query=parm_query, params= {\"Retriever\":{\"top_k\":50, \"filters\": FILTER_TERMO}})\n",
    "util_pipeline.detail_document_found(doctos_retornados_ranker)"
   ]
  },
  {
   "attachments": {},
   "cell_type": "markdown",
   "metadata": {},
   "source": [
    "### join"
   ]
  },
  {
   "cell_type": "code",
   "execution_count": 24,
   "metadata": {},
   "outputs": [
    {
     "data": {
      "text/plain": [
       "<module 'util.util_pipeline' from '/home/borela/fontes/ind-ir/code/util/util_pipeline.py'>"
      ]
     },
     "execution_count": 24,
     "metadata": {},
     "output_type": "execute_result"
    }
   ],
   "source": [
    "importlib.reload(util_pipeline)"
   ]
  },
  {
   "cell_type": "code",
   "execution_count": 43,
   "metadata": {},
   "outputs": [
    {
     "data": {
      "text/plain": [
       "({'class': ['Termo']}, 'PTT5_INDIR_400')"
      ]
     },
     "execution_count": 43,
     "metadata": {},
     "output_type": "execute_result"
    }
   ],
   "source": [
    "FILTER_TERMO, ranker_type"
   ]
  },
  {
   "cell_type": "code",
   "execution_count": 44,
   "metadata": {},
   "outputs": [
    {
     "name": "stdout",
     "output_type": "stream",
     "text": [
      "CPU times: user 2.95 s, sys: 304 ms, total: 3.26 s\n",
      "Wall time: 1.72 s\n"
     ]
    }
   ],
   "source": [
    "%%time\n",
    "pipe_join_bm25_sts_reranker = util_pipeline.return_pipeline_join_bm25_sts_reranker(index, ranker_type, parm_limit_query_size=50)"
   ]
  },
  {
   "cell_type": "code",
   "execution_count": 45,
   "metadata": {},
   "outputs": [],
   "source": [
    "pipes.append({'PIPE_NAME': 'pipe_join_bm25_sts_reranker',\n",
    "              'PIPE_OBJECT': pipe_join_bm25_sts_reranker,\n",
    "              'RETRIEVER_TYPE': 'join_sts_bm25',  \n",
    "              'RETRIEVER_MODEL_NAME': '', \n",
    "              'RANKER_MODEL_NAME': util_pipeline.return_ranker_name(ranker_type)})"
   ]
  },
  {
   "cell_type": "code",
   "execution_count": 48,
   "metadata": {},
   "outputs": [
    {
     "name": "stdout",
     "output_type": "stream",
     "text": [
      "Parâmetros usados: {'Bm25Retriever': {'top_k': 30}, 'StsRetriever': {'top_k': 30}, 'Ranker': {'top_k': 30}, 'filters': {'class': ['Termo']}}\n",
      "Consulta: despesa sem cobertura contratual\n",
      "Qtd documentos retornados: 30\n",
      "Seguem os nomes dos termos recuperados em ordem de score\n",
      "0 : ['Garantia contratual', '685', -0.0038250156212598085]\n",
      "1 : ['Custo não renovável', '1104580', -0.05328916013240814]\n",
      "2 : ['Carta contrato', '1929', -0.20729772746562958]\n",
      "3 : ['Regime de execução contratual', '14904', -0.31326600909233093]\n",
      "4 : ['Despesa', '421', -0.5544226169586182]\n",
      "5 : ['Gestão contratual', '1104190', -0.9828687906265259]\n",
      "6 : ['Pagamento indevido', '2041', -1.6879194974899292]\n",
      "7 : ['Contrapartida', '15152', -1.7221322059631348]\n",
      "8 : ['Reconhecimento de dívida', '1105310', -1.755555272102356]\n",
      "9 : ['Rescisão contratual', '1392', -1.7752190828323364]\n",
      "10 : ['Plano de saúde', '1145', -1.891367793083191]\n",
      "11 : ['Despesa pública', '691', -1.9357742071151733]\n",
      "12 : ['Despesa sem prévio empenho', '1104589', -2.1609253883361816]\n",
      "13 : ['Fracionamento da despesa', '663', -2.4297497272491455]\n",
      "14 : ['Liquidação da despesa', '950', -2.511496067047119]\n",
      "15 : ['Revisão contratual', '2060', -2.9646365642547607]\n",
      "16 : ['Concessão de garantia', '1119529', -3.359938144683838]\n",
      "17 : ['Evento sem ônus', '1104010', -4.071019172668457]\n",
      "18 : ['Despesa de custeio', '2282', -4.272548198699951]\n",
      "19 : ['Despesa de capital', '1100110', -4.431342601776123]\n",
      "20 : ['Seguro garantia', '1937', -4.675259590148926]\n",
      "21 : ['Passivo financeiro', '4506', -4.696047782897949]\n",
      "22 : ['Despesa especial', '1104118', -4.830446243286133]\n",
      "23 : ['Seguro', '5890', -4.9741387367248535]\n",
      "24 : ['Despesa corrente', '1104117', -5.145511627197266]\n",
      "25 : ['Cobertura (Saúde)', '2181', -5.149156093597412]\n",
      "26 : ['Despesa com pessoal', '422', -5.2410173416137695]\n",
      "27 : ['Alteração contratual', '2547', -5.991014003753662]\n",
      "28 : ['Abertura de crédito', '1101975', -6.198461532592773]\n",
      "29 : ['Cobertura (Obra pública)', '5093', -6.212051868438721]\n",
      "CPU times: user 347 ms, sys: 20.8 ms, total: 368 ms\n",
      "Wall time: 429 ms\n"
     ]
    }
   ],
   "source": [
    "%%time\n",
    "doctos_retornados_ranker = pipe_join_bm25_sts_reranker.run(query=parm_query, \n",
    " params={\"Bm25Retriever\": {\"top_k\": 30}, \"StsRetriever\": {\"top_k\": 30}, \"Ranker\": {\"top_k\": 30}, \"filters\": FILTER_TERMO})\n",
    "util_pipeline.detail_document_found(doctos_retornados_ranker, 30)"
   ]
  },
  {
   "cell_type": "code",
   "execution_count": null,
   "metadata": {},
   "outputs": [],
   "source": []
  },
  {
   "cell_type": "code",
   "execution_count": 32,
   "metadata": {},
   "outputs": [
    {
     "name": "stdout",
     "output_type": "stream",
     "text": [
      "Parâmetros usados: {'Bm25Retriever': {'top_k': 300}, 'StsRetriever': {'top_k': 300}, 'Ranker': {'top_k': 30}, 'filters': {'class': ['Termo']}}\n",
      "Consulta: despesa sem cobertura contratual\n",
      "Qtd documentos retornados: 30\n",
      "Seguem os nomes dos termos recuperados em ordem de score\n",
      "0 : ['Contrato verbal', '332', -0.003175456775352359]\n",
      "1 : ['Garantia contratual', '685', -0.0038250156212598085]\n",
      "2 : ['Contrato administrativo', '331', -0.006363249849528074]\n",
      "3 : ['Custo não renovável', '1104580', -0.05328916013240814]\n",
      "4 : ['Termo de contrato', '1981', -0.17668592929840088]\n",
      "5 : ['Execução de contrato', '2494', -0.1847897619009018]\n",
      "6 : ['Carta contrato', '1929', -0.20805832743644714]\n",
      "7 : ['Regime de execução contratual', '14904', -0.31265631318092346]\n",
      "8 : ['Objeto do contrato', '16071', -0.37492939829826355]\n",
      "9 : ['Prorrogação de contrato', '1292', -0.47048693895339966]\n",
      "10 : ['Despesa', '421', -0.5533663034439087]\n",
      "11 : ['Passivo trabalhista', '15319', -0.6800861954689026]\n",
      "12 : ['Contrato', '330', -0.6969119906425476]\n",
      "13 : ['Caução', '226', -0.7180792093276978]\n",
      "14 : ['Verba rescisória', '5386', -0.9654437303543091]\n",
      "15 : ['Gestão contratual', '1104190', -0.9834404587745667]\n",
      "16 : ['Seguro privado', '1106932', -1.0339115858078003]\n",
      "17 : ['Dispensa de licitação', '459', -1.211826205253601]\n",
      "18 : ['Negativa de atendimento', '2196', -1.3698391914367676]\n",
      "19 : ['Pagamento indevido', '2041', -1.6879194974899292]\n",
      "20 : ['Contrapartida', '15152', -1.7221322059631348]\n",
      "21 : ['Reconhecimento de dívida', '1105310', -1.7530698776245117]\n",
      "22 : ['Contrato de fornecimento', '3165', -1.7549917697906494]\n",
      "23 : ['Rescisão contratual', '1392', -1.7754409313201904]\n",
      "24 : ['Verba ilegal', '15640', -1.799522042274475]\n",
      "25 : ['Inexecução', '800', -1.8556591272354126]\n",
      "26 : ['Plano de saúde', '1145', -1.891367793083191]\n",
      "27 : ['Pessoal', '1131', -1.9316226243972778]\n",
      "28 : ['Despesa pública', '691', -1.9387494325637817]\n",
      "29 : ['Bens privados', '15097', -2.002397060394287]\n",
      "CPU times: user 3.1 s, sys: 7.26 ms, total: 3.11 s\n",
      "Wall time: 3.4 s\n"
     ]
    }
   ],
   "source": [
    "%%time\n",
    "doctos_retornados_ranker = pipe_join_bm25_sts_reranker.run(query=parm_query, \n",
    " params={\"Bm25Retriever\": {\"top_k\": 300}, \"StsRetriever\": {\"top_k\": 300}, \"Ranker\": {\"top_k\": 30}, \"filters\": FILTER_TERMO})\n",
    "util_pipeline.detail_document_found(doctos_retornados_ranker, 30)"
   ]
  },
  {
   "cell_type": "code",
   "execution_count": null,
   "metadata": {},
   "outputs": [
    {
     "name": "stdout",
     "output_type": "stream",
     "text": [
      "Parâmetros usados: {'Bm25Retriever': {'top_k': 100}, 'StsRetriever': {'top_k': 100}, 'Ranker': {'top_k': 20}, 'filters': {'class': ['Termo']}}\n",
      "Consulta: despesa sem cobertura contratual\n",
      "Qtd documentos retornados: 20\n",
      "Seguem os nomes dos termos recuperados em ordem de score\n",
      "0 : ['Garantia contratual', '685', -0.010465267114341259]\n",
      "1 : ['Custo não renovável', '1104580', -0.02873079478740692]\n",
      "2 : ['Dispensa de licitação', '459', -0.06621533632278442]\n",
      "3 : ['Gestão contratual', '1104190', -0.07890946418046951]\n",
      "4 : ['Negativa de atendimento', '2196', -0.12835638225078583]\n",
      "5 : ['Contratação direta', '327', -0.14302872121334076]\n",
      "6 : ['Contrato', '330', -0.2242659628391266]\n",
      "7 : ['Despesa', '421', -0.35243895649909973]\n",
      "8 : ['Despesa sem prévio empenho', '1104589', -0.4060640037059784]\n",
      "9 : ['Carta contrato', '1929', -0.42900973558425903]\n",
      "10 : ['Plano de saúde', '1145', -0.5769578814506531]\n",
      "CPU times: user 2.71 s, sys: 6.76 ms, total: 2.72 s\n",
      "Wall time: 2.82 s\n"
     ]
    }
   ],
   "source": [
    "%%time\n",
    "doctos_retornados_ranker = pipe_join_bm25_sts_reranker.run(query=parm_query, \n",
    " params={\"Bm25Retriever\": {\"top_k\": 100}, \"StsRetriever\": {\"top_k\": 100}, \"Ranker\": {\"top_k\": 20}, \"filters\": FILTER_TERMO})\n",
    "util_pipeline.detail_document_found(doctos_retornados_ranker)"
   ]
  },
  {
   "cell_type": "code",
   "execution_count": null,
   "metadata": {},
   "outputs": [
    {
     "name": "stdout",
     "output_type": "stream",
     "text": [
      "Parâmetros usados: {'Bm25Retriever': {'top_k': 50}, 'StsRetriever': {'top_k': 100}, 'Ranker': {'top_k': 30}, 'filters': {'class': ['Termo']}}\n",
      "Consulta: despesa sem cobertura contratual\n",
      "Qtd documentos retornados: 30\n",
      "Seguem os nomes dos termos recuperados em ordem de score\n",
      "0 : ['Garantia contratual', '685', -0.02296389825642109]\n",
      "1 : ['Custo não renovável', '1104580', -0.04771995544433594]\n",
      "2 : ['Inexecução', '800', -0.18585774302482605]\n",
      "3 : ['Gestão contratual', '1104190', -0.20773528516292572]\n",
      "4 : ['Negativa de atendimento', '2196', -0.21367570757865906]\n",
      "5 : ['Despesa sem prévio empenho', '1104589', -0.31156131625175476]\n",
      "6 : ['Despesa', '421', -0.38263654708862305]\n",
      "7 : ['Débito', '370', -0.5751016139984131]\n",
      "8 : ['Plano de saúde', '1145', -0.7520239353179932]\n",
      "9 : ['Contrapartida', '15152', -0.846224844455719]\n",
      "10 : ['Carta contrato', '1929', -0.9168330430984497]\n",
      "11 : ['Contratação direta', '327', -1.007680892944336]\n",
      "12 : ['Reconhecimento de dívida', '1105310', -1.0774281024932861]\n",
      "13 : ['Passivo financeiro', '4506', -1.160717248916626]\n",
      "14 : ['Despesa especial', '1104118', -1.168460726737976]\n",
      "15 : ['Cobertura (Obra pública)', '5093', -1.1901191473007202]\n",
      "16 : ['Liquidação da despesa', '950', -1.2631193399429321]\n",
      "17 : ['Ordenação de despesa', '14780', -1.2977583408355713]\n",
      "18 : ['Concessão de garantia', '1119529', -1.3295133113861084]\n",
      "19 : ['Seguro privado', '1106932', -1.5065195560455322]\n",
      "20 : ['Execução financeira', '579', -1.5962265729904175]\n",
      "21 : ['Despesa pública', '691', -1.6750495433807373]\n",
      "22 : ['Despesa de custeio', '2282', -2.072561740875244]\n",
      "23 : ['Custeio', '1102', -2.1615283489227295]\n",
      "24 : ['Passivo', '4486', -2.177412986755371]\n",
      "25 : ['Seguro garantia', '1937', -2.417168140411377]\n",
      "26 : ['Compromisso de dívida', '1106499', -2.478283643722534]\n",
      "27 : ['Passivo permanente', '4505', -2.5923593044281006]\n",
      "28 : ['Regime de execução contratual', '14904', -2.63950514793396]\n",
      "29 : ['Outras despesas correntes', '1104160', -2.69972562789917]\n",
      "CPU times: user 1.34 s, sys: 0 ns, total: 1.34 s\n",
      "Wall time: 1.42 s\n"
     ]
    }
   ],
   "source": [
    "%%time\n",
    "doctos_retornados_ranker = pipe_join_bm25_sts_reranker.run(query=parm_query, \n",
    " params={\"Bm25Retriever\": {\"top_k\": 50}, \"StsRetriever\": {\"top_k\": 100}, \"Ranker\": {\"top_k\": 30}, \"filters\": FILTER_TERMO})\n",
    "util_pipeline.detail_document_found(doctos_retornados_ranker, 30)"
   ]
  },
  {
   "cell_type": "code",
   "execution_count": null,
   "metadata": {},
   "outputs": [
    {
     "name": "stdout",
     "output_type": "stream",
     "text": [
      "Parâmetros usados: {'Bm25Retriever': {'top_k': 100}, 'StsRetriever': {'top_k': 50}, 'Ranker': {'top_k': 30}, 'filters': {'class': ['Termo']}}\n",
      "Consulta: despesa sem cobertura contratual\n",
      "Qtd documentos retornados: 30\n",
      "Seguem os nomes dos termos recuperados em ordem de score\n",
      "0 : ['Garantia contratual', '685', -0.02296389825642109]\n",
      "1 : ['Custo não renovável', '1104580', -0.04771995544433594]\n",
      "2 : ['Contrato', '330', -0.11136246472597122]\n",
      "3 : ['Inexecução', '800', -0.18585774302482605]\n",
      "4 : ['Gestão contratual', '1104190', -0.20773528516292572]\n",
      "5 : ['Negativa de atendimento', '2196', -0.21367570757865906]\n",
      "6 : ['Despesa sem prévio empenho', '1104589', -0.31156131625175476]\n",
      "7 : ['Despesa', '421', -0.38263654708862305]\n",
      "8 : ['Débito', '370', -0.5751006603240967]\n",
      "9 : ['Dispensa de licitação', '459', -0.6776613593101501]\n",
      "10 : ['Contratado', '1933', -0.7043430805206299]\n",
      "11 : ['Plano de saúde', '1145', -0.7520239353179932]\n",
      "12 : ['Contrapartida', '15152', -0.846224844455719]\n",
      "13 : ['Carta contrato', '1929', -0.9168330430984497]\n",
      "14 : ['Contratação direta', '327', -1.007680892944336]\n",
      "15 : ['Reconhecimento de dívida', '1105310', -1.0774281024932861]\n",
      "16 : ['Passivo financeiro', '4506', -1.160717248916626]\n",
      "17 : ['Despesa especial', '1104118', -1.168460726737976]\n",
      "18 : ['Cobertura (Obra pública)', '5093', -1.1901191473007202]\n",
      "19 : ['Liquidação da despesa', '950', -1.2631193399429321]\n",
      "20 : ['Ordenação de despesa', '14780', -1.2977583408355713]\n",
      "21 : ['Concessão de garantia', '1119529', -1.3295133113861084]\n",
      "22 : ['Gastos discricionários', '1106560', -1.521104335784912]\n",
      "23 : ['Verba rescisória', '5386', -1.5675735473632812]\n",
      "24 : ['Execução financeira', '579', -1.5962265729904175]\n",
      "25 : ['Despesa pública', '691', -1.6750495433807373]\n",
      "26 : ['Despesa de custeio', '2282', -2.072561740875244]\n",
      "27 : ['Custeio', '1102', -2.1615283489227295]\n",
      "28 : ['Seguro garantia', '1937', -2.417168140411377]\n",
      "29 : ['Passivo permanente', '4505', -2.5923593044281006]\n",
      "CPU times: user 1.56 s, sys: 0 ns, total: 1.56 s\n",
      "Wall time: 1.62 s\n"
     ]
    }
   ],
   "source": [
    "%%time\n",
    "doctos_retornados_ranker = pipe_join_bm25_sts_reranker.run(query=parm_query, \n",
    " params={\"Bm25Retriever\": {\"top_k\": 100}, \"StsRetriever\": {\"top_k\": 50}, \"Ranker\": {\"top_k\": 30}, \"filters\": FILTER_TERMO})\n",
    "util_pipeline.detail_document_found(doctos_retornados_ranker, 30)"
   ]
  },
  {
   "cell_type": "code",
   "execution_count": null,
   "metadata": {},
   "outputs": [
    {
     "name": "stdout",
     "output_type": "stream",
     "text": [
      "Parâmetros usados: {'Bm25Retriever': {'top_k': 50}, 'StsRetriever': {'top_k': 50}, 'Ranker': {'top_k': 30}, 'filters': {'class': ['Termo']}}\n",
      "Consulta: despesa sem cobertura contratual\n",
      "Qtd documentos retornados: 30\n",
      "Seguem os nomes dos termos recuperados em ordem de score\n",
      "0 : ['Custo não renovável', '1104580', -0.3954627215862274]\n",
      "1 : ['Despesa sem prévio empenho', '1104589', -0.47731465101242065]\n",
      "2 : ['Negativa de atendimento', '2196', -4.204003810882568]\n",
      "3 : ['Evento sem ônus', '1104010', -5.777669429779053]\n",
      "4 : ['Reconhecimento de dívida', '1105310', -5.884185314178467]\n",
      "5 : ['Contratação direta', '327', -7.314028739929199]\n",
      "6 : ['Plano de saúde', '1145', -8.249095916748047]\n",
      "7 : ['Empenho', '497', -8.447331428527832]\n",
      "8 : ['Empenho prévio', '1104618', -9.021744728088379]\n",
      "9 : ['Juros compensatórios', '1101030', -9.985469818115234]\n",
      "10 : ['Sub-rogação', '1487', -10.005921363830566]\n",
      "11 : ['Cobertura (Saúde)', '2181', -10.110730171203613]\n",
      "12 : ['Passivo compensado', '4488', -10.19416332244873]\n",
      "13 : ['Garantia contratual', '685', -10.266918182373047]\n",
      "14 : ['Insolvência', '15276', -10.360843658447266]\n",
      "15 : ['Contrapartida', '15152', -10.450790405273438]\n",
      "16 : ['Encampação', '6407', -10.481729507446289]\n",
      "17 : ['Seguro-desemprego', '3673', -10.551156997680664]\n",
      "18 : ['Inexequibilidade', '5089', -10.612195014953613]\n",
      "19 : ['Contingenciamento', '1101228', -10.620652198791504]\n",
      "20 : ['Execução da despesa', '1101060', -10.802484512329102]\n",
      "21 : ['Despesa empenhada', '1104137', -10.845071792602539]\n",
      "22 : ['Despesa', '421', -10.889969825744629]\n",
      "23 : ['Saldo devedor', '4110', -11.026566505432129]\n",
      "24 : ['Passivo financeiro', '4506', -11.034208297729492]\n",
      "25 : ['Empenho global', '1104615', -11.03657054901123]\n",
      "26 : ['Indício de irregularidade grave', '3503', -11.127486228942871]\n",
      "27 : ['Princípio da vedação ao enriquecimento sem causa', '1258', -11.156164169311523]\n",
      "28 : ['Nota de empenho de despesa', '1961', -11.157858848571777]\n",
      "29 : ['Empenho estimativo', '1104612', -11.183797836303711]\n",
      "CPU times: user 549 ms, sys: 15.3 ms, total: 564 ms\n",
      "Wall time: 615 ms\n"
     ]
    }
   ],
   "source": [
    "%%time\n",
    "doctos_retornados_ranker = pipe_join_bm25_sts_reranker.run(query=parm_query, \n",
    " params={\"Bm25Retriever\": {\"top_k\": 50}, \"StsRetriever\": {\"top_k\": 50}, \"Ranker\": {\"top_k\": 30}, \"filters\": FILTER_TERMO})\n",
    "util_pipeline.detail_document_found(doctos_retornados_ranker, 30)"
   ]
  },
  {
   "cell_type": "code",
   "execution_count": null,
   "metadata": {},
   "outputs": [
    {
     "name": "stdout",
     "output_type": "stream",
     "text": [
      "Parâmetros usados: {'Bm25Retriever': {'top_k': 30}, 'StsRetriever': {'top_k': 30}, 'Ranker': {'top_k': 30}, 'filters': {'class': ['Termo']}}\n",
      "Consulta: despesa sem cobertura contratual\n",
      "Qtd documentos retornados: 30\n",
      "Seguem os nomes dos termos recuperados em ordem de score\n",
      "0 : ['Garantia contratual', '685', -0.02296389825642109]\n",
      "1 : ['Custo não renovável', '1104580', -0.04771995544433594]\n",
      "2 : ['Gestão contratual', '1104190', -0.20767620205879211]\n",
      "3 : ['Despesa sem prévio empenho', '1104589', -0.31156131625175476]\n",
      "4 : ['Despesa', '421', -0.3824957013130188]\n",
      "5 : ['Plano de saúde', '1145', -0.7520239353179932]\n",
      "6 : ['Contrapartida', '15152', -0.846224844455719]\n",
      "7 : ['Carta contrato', '1929', -0.9168330430984497]\n",
      "8 : ['Reconhecimento de dívida', '1105310', -1.078168272972107]\n",
      "9 : ['Passivo financeiro', '4506', -1.160717248916626]\n",
      "10 : ['Despesa especial', '1104118', -1.1673153638839722]\n",
      "11 : ['Cobertura (Obra pública)', '5093', -1.1901191473007202]\n",
      "12 : ['Liquidação da despesa', '950', -1.2624561786651611]\n",
      "13 : ['Ordenação de despesa', '14780', -1.2977583408355713]\n",
      "14 : ['Concessão de garantia', '1119529', -1.3295133113861084]\n",
      "15 : ['Despesa pública', '691', -1.6750495433807373]\n",
      "16 : ['Despesa de custeio', '2282', -2.0734684467315674]\n",
      "17 : ['Seguro garantia', '1937', -2.417168140411377]\n",
      "18 : ['Regime de execução contratual', '14904', -2.642129421234131]\n",
      "19 : ['Despesa empenhada', '1104137', -2.7134170532226562]\n",
      "20 : ['Pagamento indevido', '2041', -2.8467135429382324]\n",
      "21 : ['Evento sem ônus', '1104010', -2.866006374359131]\n",
      "22 : ['Despesa de capital', '1100110', -2.901658058166504]\n",
      "23 : ['Fracionamento da despesa', '663', -2.939472198486328]\n",
      "24 : ['Seguro', '5890', -3.3396782875061035]\n",
      "25 : ['Rescisão contratual', '1392', -3.698085069656372]\n",
      "26 : ['Execução da despesa', '1101060', -3.8232390880584717]\n",
      "27 : ['Empenho estimativo', '1104612', -3.97762131690979]\n",
      "28 : ['Despesa corrente', '1104117', -4.0385918617248535]\n",
      "29 : ['Revisão contratual', '2060', -4.249335289001465]\n",
      "CPU times: user 638 ms, sys: 0 ns, total: 638 ms\n",
      "Wall time: 671 ms\n"
     ]
    }
   ],
   "source": [
    "%%time\n",
    "doc_return = pipe_join_bm25_sts_reranker.run(query=parm_query, \n",
    " params={\"Bm25Retriever\": {\"top_k\": 30}, \"StsRetriever\": {\"top_k\": 30}, \"Ranker\": {\"top_k\": 30}, \"filters\": FILTER_TERMO})\n",
    "util_pipeline.detail_document_found(doc_return, 30)"
   ]
  },
  {
   "cell_type": "code",
   "execution_count": null,
   "metadata": {},
   "outputs": [
    {
     "name": "stdout",
     "output_type": "stream",
     "text": [
      "Garantia contratual\n",
      "Custo não renovável\n",
      "Gestão contratual\n",
      "Despesa sem prévio empenho\n",
      "Despesa\n"
     ]
    }
   ],
   "source": [
    "for docto in doc_return['documents'][:5]:\n",
    "    print(docto.meta['name'])"
   ]
  },
  {
   "attachments": {},
   "cell_type": "markdown",
   "metadata": {},
   "source": [
    "## Create expansion"
   ]
  },
  {
   "cell_type": "code",
   "execution_count": 50,
   "metadata": {},
   "outputs": [],
   "source": [
    "from unidecode import unidecode\n",
    "import string\n",
    "import re\n"
   ]
  },
  {
   "cell_type": "code",
   "execution_count": 51,
   "metadata": {},
   "outputs": [],
   "source": [
    "def set_normalize_text(text):\n",
    "    # Remover espaços duplicados e espaços extras à direita e à esquerda\n",
    "    text = re.sub(r'\\s+', ' ', text.lower()).strip()\n",
    "    # Remover acentos e caracteres especiais\n",
    "    text = unidecode(text)\n",
    "    # Separar as palavras em substrings\n",
    "    words = text.split()\n",
    "    # Retornar um conjunto de palavras normalizadas\n",
    "    return set(words)"
   ]
  },
  {
   "cell_type": "code",
   "execution_count": 52,
   "metadata": {},
   "outputs": [],
   "source": [
    "def test_similar_or_subtext(text1, text2):\n",
    "    normalized_text1 = set_normalize_text(text1)\n",
    "    normalized_text2 = set_normalize_text(text2)\n",
    "    return normalized_text1 == normalized_text2 or normalized_text1.issubset(normalized_text2)\n"
   ]
  },
  {
   "cell_type": "code",
   "execution_count": 53,
   "metadata": {},
   "outputs": [
    {
     "data": {
      "text/plain": [
       "{'bem.', 'como', 'esta', 'ola', 'vai', 'voc?'}"
      ]
     },
     "execution_count": 53,
     "metadata": {},
     "output_type": "execute_result"
    }
   ],
   "source": [
    "set_normalize_text('olá comO   vai voc? está bem.')"
   ]
  },
  {
   "cell_type": "code",
   "execution_count": 54,
   "metadata": {},
   "outputs": [
    {
     "data": {
      "text/plain": [
       "False"
      ]
     },
     "execution_count": 54,
     "metadata": {},
     "output_type": "execute_result"
    }
   ],
   "source": [
    "test_similar_or_subtext(\"Licitação de técnica e preço\",\"técnica e preço\")"
   ]
  },
  {
   "cell_type": "code",
   "execution_count": 55,
   "metadata": {},
   "outputs": [],
   "source": [
    "def expand_query(parm_pipe, parm_df_query, num_expansion_max):\n",
    "    if num_expansion_max > 30:\n",
    "        raise Exception('Review limit in code for num_expansion_max of 30!')\n",
    "    count_expansion = [inteiro + 1 for inteiro in range(num_expansion_max)]\n",
    "    for index, row in tqdm(parm_df_query.iterrows()):\n",
    "        query_id = row['ID']\n",
    "        doc_return = parm_pipe.run(query=row['TEXT'], params={\"Bm25Retriever\": {\"top_k\": 30}, \"StsRetriever\": {\"top_k\": 30}, \"Ranker\": {\"top_k\": num_expansion_max}, \"filters\": FILTER_TERMO})\n",
    "\n",
    "        termos = []\n",
    "        for docto in doc_return['documents'][:num_expansion_max * 2]:\n",
    "            if not test_similar_or_subtext(docto.meta['name'], row['TEXT']): # and docto.meta['name'] not in termos:\n",
    "                termos.append(docto.meta['name'])\n",
    "            if len(termos) == num_expansion_max:\n",
    "                break\n",
    "        # print(len(termos), termos)\n",
    "\n",
    "        for count in count_expansion:\n",
    "            col_name = f\"{count}\"\n",
    "            termos_concatenados = ', '.join(termos[:count]).rstrip(', ')\n",
    "            parm_df_query.loc[index, col_name] = f\"{row['TEXT']} - {termos_concatenados}\"\n"
   ]
  },
  {
   "cell_type": "code",
   "execution_count": 56,
   "metadata": {},
   "outputs": [],
   "source": [
    "df_query = pd.read_csv(PATH_QUERY)"
   ]
  },
  {
   "cell_type": "code",
   "execution_count": 57,
   "metadata": {},
   "outputs": [
    {
     "name": "stderr",
     "output_type": "stream",
     "text": [
      "150it [01:01,  2.42it/s]"
     ]
    },
    {
     "name": "stdout",
     "output_type": "stream",
     "text": [
      "CPU times: user 52.4 s, sys: 49.7 ms, total: 52.4 s\n",
      "Wall time: 1min 1s\n"
     ]
    },
    {
     "name": "stderr",
     "output_type": "stream",
     "text": [
      "\n"
     ]
    }
   ],
   "source": [
    "%%time\n",
    "expand_query(parm_pipe = pipe_join_bm25_sts_reranker, parm_df_query=df_query, num_expansion_max=10)"
   ]
  },
  {
   "cell_type": "code",
   "execution_count": 58,
   "metadata": {},
   "outputs": [],
   "source": [
    "import torch"
   ]
  },
  {
   "cell_type": "code",
   "execution_count": 59,
   "metadata": {},
   "outputs": [],
   "source": [
    "torch.cuda.empty_cache()"
   ]
  },
  {
   "cell_type": "code",
   "execution_count": 60,
   "metadata": {},
   "outputs": [
    {
     "data": {
      "text/html": [
       "<div>\n",
       "<style scoped>\n",
       "    .dataframe tbody tr th:only-of-type {\n",
       "        vertical-align: middle;\n",
       "    }\n",
       "\n",
       "    .dataframe tbody tr th {\n",
       "        vertical-align: top;\n",
       "    }\n",
       "\n",
       "    .dataframe thead th {\n",
       "        text-align: right;\n",
       "    }\n",
       "</style>\n",
       "<table border=\"1\" class=\"dataframe\">\n",
       "  <thead>\n",
       "    <tr style=\"text-align: right;\">\n",
       "      <th></th>\n",
       "      <th>ID</th>\n",
       "      <th>TEXT</th>\n",
       "      <th>SOURCE</th>\n",
       "      <th>1</th>\n",
       "      <th>2</th>\n",
       "      <th>3</th>\n",
       "      <th>4</th>\n",
       "      <th>5</th>\n",
       "      <th>6</th>\n",
       "      <th>7</th>\n",
       "      <th>8</th>\n",
       "      <th>9</th>\n",
       "      <th>10</th>\n",
       "    </tr>\n",
       "  </thead>\n",
       "  <tbody>\n",
       "    <tr>\n",
       "      <th>0</th>\n",
       "      <td>1</td>\n",
       "      <td>técnica e preço</td>\n",
       "      <td>search log</td>\n",
       "      <td>técnica e preço - Licitação de técnica e preço</td>\n",
       "      <td>técnica e preço - Licitação de técnica e preço, Proposta técnica</td>\n",
       "      <td>técnica e preço - Licitação de técnica e preço, Proposta técnica, Preço de mercado</td>\n",
       "      <td>técnica e preço - Licitação de técnica e preço, Proposta técnica, Preço de mercado, Proposta de preço</td>\n",
       "      <td>técnica e preço - Licitação de técnica e preço, Proposta técnica, Preço de mercado, Proposta de preço, Preço unitário</td>\n",
       "      <td>técnica e preço - Licitação de técnica e preço, Proposta técnica, Preço de mercado, Proposta de preço, Preço unitário, Proposta</td>\n",
       "      <td>técnica e preço - Licitação de técnica e preço, Proposta técnica, Preço de mercado, Proposta de preço, Preço unitário, Proposta, Tipo de licitação</td>\n",
       "      <td>técnica e preço - Licitação de técnica e preço, Proposta técnica, Preço de mercado, Proposta de preço, Preço unitário, Proposta, Tipo de licitação, Preço global</td>\n",
       "      <td>técnica e preço - Licitação de técnica e preço, Proposta técnica, Preço de mercado, Proposta de preço, Preço unitário, Proposta, Tipo de licitação, Preço global, Gestão tecnológica</td>\n",
       "      <td>técnica e preço - Licitação de técnica e preço, Proposta técnica, Preço de mercado, Proposta de preço, Preço unitário, Proposta, Tipo de licitação, Preço global, Gestão tecnológica</td>\n",
       "    </tr>\n",
       "    <tr>\n",
       "      <th>1</th>\n",
       "      <td>2</td>\n",
       "      <td>restos a pagar</td>\n",
       "      <td>search log</td>\n",
       "      <td>restos a pagar - Recolhimento</td>\n",
       "      <td>restos a pagar - Recolhimento, Quitação</td>\n",
       "      <td>restos a pagar - Recolhimento, Quitação, Cota-parte</td>\n",
       "      <td>restos a pagar - Recolhimento, Quitação, Cota-parte, Passivo</td>\n",
       "      <td>restos a pagar - Recolhimento, Quitação, Cota-parte, Passivo, Crime contra as finanças públicas</td>\n",
       "      <td>restos a pagar - Recolhimento, Quitação, Cota-parte, Passivo, Crime contra as finanças públicas, Liquidação judicial</td>\n",
       "      <td>restos a pagar - Recolhimento, Quitação, Cota-parte, Passivo, Crime contra as finanças públicas, Liquidação judicial, Passivo trabalhista</td>\n",
       "      <td>restos a pagar - Recolhimento, Quitação, Cota-parte, Passivo, Crime contra as finanças públicas, Liquidação judicial, Passivo trabalhista, Passivo compensado</td>\n",
       "      <td>restos a pagar - Recolhimento, Quitação, Cota-parte, Passivo, Crime contra as finanças públicas, Liquidação judicial, Passivo trabalhista, Passivo compensado, Inadimplência</td>\n",
       "      <td>restos a pagar - Recolhimento, Quitação, Cota-parte, Passivo, Crime contra as finanças públicas, Liquidação judicial, Passivo trabalhista, Passivo compensado, Inadimplência</td>\n",
       "    </tr>\n",
       "    <tr>\n",
       "      <th>2</th>\n",
       "      <td>3</td>\n",
       "      <td>aditivo a contrato</td>\n",
       "      <td>search log</td>\n",
       "      <td>aditivo a contrato - Termo aditivo</td>\n",
       "      <td>aditivo a contrato - Termo aditivo, Contrato administrativo</td>\n",
       "      <td>aditivo a contrato - Termo aditivo, Contrato administrativo, Reformulação</td>\n",
       "      <td>aditivo a contrato - Termo aditivo, Contrato administrativo, Reformulação, Acréscimo</td>\n",
       "      <td>aditivo a contrato - Termo aditivo, Contrato administrativo, Reformulação, Acréscimo, Reprovabilidade</td>\n",
       "      <td>aditivo a contrato - Termo aditivo, Contrato administrativo, Reformulação, Acréscimo, Reprovabilidade, Atualização</td>\n",
       "      <td>aditivo a contrato - Termo aditivo, Contrato administrativo, Reformulação, Acréscimo, Reprovabilidade, Atualização, Formalização do contrato</td>\n",
       "      <td>aditivo a contrato - Termo aditivo, Contrato administrativo, Reformulação, Acréscimo, Reprovabilidade, Atualização, Formalização do contrato, Aditivo quantitativo</td>\n",
       "      <td>aditivo a contrato - Termo aditivo, Contrato administrativo, Reformulação, Acréscimo, Reprovabilidade, Atualização, Formalização do contrato, Aditivo quantitativo</td>\n",
       "      <td>aditivo a contrato - Termo aditivo, Contrato administrativo, Reformulação, Acréscimo, Reprovabilidade, Atualização, Formalização do contrato, Aditivo quantitativo</td>\n",
       "    </tr>\n",
       "    <tr>\n",
       "      <th>3</th>\n",
       "      <td>4</td>\n",
       "      <td>adesão a ata de registro de preços</td>\n",
       "      <td>search log</td>\n",
       "      <td>adesão a ata de registro de preços - Sistema de Registro de Preços</td>\n",
       "      <td>adesão a ata de registro de preços - Sistema de Registro de Preços, Contrato de adesão</td>\n",
       "      <td>adesão a ata de registro de preços - Sistema de Registro de Preços, Contrato de adesão, Impugnação</td>\n",
       "      <td>adesão a ata de registro de preços - Sistema de Registro de Preços, Contrato de adesão, Impugnação, Aval</td>\n",
       "      <td>adesão a ata de registro de preços - Sistema de Registro de Preços, Contrato de adesão, Impugnação, Aval, Intenção de Registro de Preços</td>\n",
       "      <td>adesão a ata de registro de preços - Sistema de Registro de Preços, Contrato de adesão, Impugnação, Aval, Intenção de Registro de Preços</td>\n",
       "      <td>adesão a ata de registro de preços - Sistema de Registro de Preços, Contrato de adesão, Impugnação, Aval, Intenção de Registro de Preços</td>\n",
       "      <td>adesão a ata de registro de preços - Sistema de Registro de Preços, Contrato de adesão, Impugnação, Aval, Intenção de Registro de Preços</td>\n",
       "      <td>adesão a ata de registro de preços - Sistema de Registro de Preços, Contrato de adesão, Impugnação, Aval, Intenção de Registro de Preços</td>\n",
       "      <td>adesão a ata de registro de preços - Sistema de Registro de Preços, Contrato de adesão, Impugnação, Aval, Intenção de Registro de Preços</td>\n",
       "    </tr>\n",
       "    <tr>\n",
       "      <th>4</th>\n",
       "      <td>5</td>\n",
       "      <td>sobrepreço e superfaturamento</td>\n",
       "      <td>search log</td>\n",
       "      <td>sobrepreço e superfaturamento - Excesso</td>\n",
       "      <td>sobrepreço e superfaturamento - Excesso, Validade</td>\n",
       "      <td>sobrepreço e superfaturamento - Excesso, Validade, Faturamento</td>\n",
       "      <td>sobrepreço e superfaturamento - Excesso, Validade, Faturamento, Licitação</td>\n",
       "      <td>sobrepreço e superfaturamento - Excesso, Validade, Faturamento, Licitação, Preço</td>\n",
       "      <td>sobrepreço e superfaturamento - Excesso, Validade, Faturamento, Licitação, Preço, Despesa</td>\n",
       "      <td>sobrepreço e superfaturamento - Excesso, Validade, Faturamento, Licitação, Preço, Despesa, Obras, serviços ou compras de grande vulto</td>\n",
       "      <td>sobrepreço e superfaturamento - Excesso, Validade, Faturamento, Licitação, Preço, Despesa, Obras, serviços ou compras de grande vulto, Bens e serviços de informática</td>\n",
       "      <td>sobrepreço e superfaturamento - Excesso, Validade, Faturamento, Licitação, Preço, Despesa, Obras, serviços ou compras de grande vulto, Bens e serviços de informática</td>\n",
       "      <td>sobrepreço e superfaturamento - Excesso, Validade, Faturamento, Licitação, Preço, Despesa, Obras, serviços ou compras de grande vulto, Bens e serviços de informática</td>\n",
       "    </tr>\n",
       "  </tbody>\n",
       "</table>\n",
       "</div>"
      ],
      "text/plain": [
       "   ID                                TEXT      SOURCE                                                                   1  \\\n",
       "0   1                     técnica e preço  search log                      técnica e preço - Licitação de técnica e preço   \n",
       "1   2                      restos a pagar  search log                                       restos a pagar - Recolhimento   \n",
       "2   3                  aditivo a contrato  search log                                  aditivo a contrato - Termo aditivo   \n",
       "3   4  adesão a ata de registro de preços  search log  adesão a ata de registro de preços - Sistema de Registro de Preços   \n",
       "4   5       sobrepreço e superfaturamento  search log                             sobrepreço e superfaturamento - Excesso   \n",
       "\n",
       "                                                                                        2                                                                                                   3  \\\n",
       "0                        técnica e preço - Licitação de técnica e preço, Proposta técnica                  técnica e preço - Licitação de técnica e preço, Proposta técnica, Preço de mercado   \n",
       "1                                                 restos a pagar - Recolhimento, Quitação                                                 restos a pagar - Recolhimento, Quitação, Cota-parte   \n",
       "2                             aditivo a contrato - Termo aditivo, Contrato administrativo                           aditivo a contrato - Termo aditivo, Contrato administrativo, Reformulação   \n",
       "3  adesão a ata de registro de preços - Sistema de Registro de Preços, Contrato de adesão  adesão a ata de registro de preços - Sistema de Registro de Preços, Contrato de adesão, Impugnação   \n",
       "4                                       sobrepreço e superfaturamento - Excesso, Validade                                      sobrepreço e superfaturamento - Excesso, Validade, Faturamento   \n",
       "\n",
       "                                                                                                          4  \\\n",
       "0     técnica e preço - Licitação de técnica e preço, Proposta técnica, Preço de mercado, Proposta de preço   \n",
       "1                                              restos a pagar - Recolhimento, Quitação, Cota-parte, Passivo   \n",
       "2                      aditivo a contrato - Termo aditivo, Contrato administrativo, Reformulação, Acréscimo   \n",
       "3  adesão a ata de registro de preços - Sistema de Registro de Preços, Contrato de adesão, Impugnação, Aval   \n",
       "4                                 sobrepreço e superfaturamento - Excesso, Validade, Faturamento, Licitação   \n",
       "\n",
       "                                                                                                                                          5  \\\n",
       "0                     técnica e preço - Licitação de técnica e preço, Proposta técnica, Preço de mercado, Proposta de preço, Preço unitário   \n",
       "1                                           restos a pagar - Recolhimento, Quitação, Cota-parte, Passivo, Crime contra as finanças públicas   \n",
       "2                                     aditivo a contrato - Termo aditivo, Contrato administrativo, Reformulação, Acréscimo, Reprovabilidade   \n",
       "3  adesão a ata de registro de preços - Sistema de Registro de Preços, Contrato de adesão, Impugnação, Aval, Intenção de Registro de Preços   \n",
       "4                                                          sobrepreço e superfaturamento - Excesso, Validade, Faturamento, Licitação, Preço   \n",
       "\n",
       "                                                                                                                                          6  \\\n",
       "0           técnica e preço - Licitação de técnica e preço, Proposta técnica, Preço de mercado, Proposta de preço, Preço unitário, Proposta   \n",
       "1                      restos a pagar - Recolhimento, Quitação, Cota-parte, Passivo, Crime contra as finanças públicas, Liquidação judicial   \n",
       "2                        aditivo a contrato - Termo aditivo, Contrato administrativo, Reformulação, Acréscimo, Reprovabilidade, Atualização   \n",
       "3  adesão a ata de registro de preços - Sistema de Registro de Preços, Contrato de adesão, Impugnação, Aval, Intenção de Registro de Preços   \n",
       "4                                                 sobrepreço e superfaturamento - Excesso, Validade, Faturamento, Licitação, Preço, Despesa   \n",
       "\n",
       "                                                                                                                                                    7  \\\n",
       "0  técnica e preço - Licitação de técnica e preço, Proposta técnica, Preço de mercado, Proposta de preço, Preço unitário, Proposta, Tipo de licitação   \n",
       "1           restos a pagar - Recolhimento, Quitação, Cota-parte, Passivo, Crime contra as finanças públicas, Liquidação judicial, Passivo trabalhista   \n",
       "2        aditivo a contrato - Termo aditivo, Contrato administrativo, Reformulação, Acréscimo, Reprovabilidade, Atualização, Formalização do contrato   \n",
       "3            adesão a ata de registro de preços - Sistema de Registro de Preços, Contrato de adesão, Impugnação, Aval, Intenção de Registro de Preços   \n",
       "4               sobrepreço e superfaturamento - Excesso, Validade, Faturamento, Licitação, Preço, Despesa, Obras, serviços ou compras de grande vulto   \n",
       "\n",
       "                                                                                                                                                                       8  \\\n",
       "0       técnica e preço - Licitação de técnica e preço, Proposta técnica, Preço de mercado, Proposta de preço, Preço unitário, Proposta, Tipo de licitação, Preço global   \n",
       "1          restos a pagar - Recolhimento, Quitação, Cota-parte, Passivo, Crime contra as finanças públicas, Liquidação judicial, Passivo trabalhista, Passivo compensado   \n",
       "2     aditivo a contrato - Termo aditivo, Contrato administrativo, Reformulação, Acréscimo, Reprovabilidade, Atualização, Formalização do contrato, Aditivo quantitativo   \n",
       "3                               adesão a ata de registro de preços - Sistema de Registro de Preços, Contrato de adesão, Impugnação, Aval, Intenção de Registro de Preços   \n",
       "4  sobrepreço e superfaturamento - Excesso, Validade, Faturamento, Licitação, Preço, Despesa, Obras, serviços ou compras de grande vulto, Bens e serviços de informática   \n",
       "\n",
       "                                                                                                                                                                                      9  \\\n",
       "0  técnica e preço - Licitação de técnica e preço, Proposta técnica, Preço de mercado, Proposta de preço, Preço unitário, Proposta, Tipo de licitação, Preço global, Gestão tecnológica   \n",
       "1          restos a pagar - Recolhimento, Quitação, Cota-parte, Passivo, Crime contra as finanças públicas, Liquidação judicial, Passivo trabalhista, Passivo compensado, Inadimplência   \n",
       "2                    aditivo a contrato - Termo aditivo, Contrato administrativo, Reformulação, Acréscimo, Reprovabilidade, Atualização, Formalização do contrato, Aditivo quantitativo   \n",
       "3                                              adesão a ata de registro de preços - Sistema de Registro de Preços, Contrato de adesão, Impugnação, Aval, Intenção de Registro de Preços   \n",
       "4                 sobrepreço e superfaturamento - Excesso, Validade, Faturamento, Licitação, Preço, Despesa, Obras, serviços ou compras de grande vulto, Bens e serviços de informática   \n",
       "\n",
       "                                                                                                                                                                                     10  \n",
       "0  técnica e preço - Licitação de técnica e preço, Proposta técnica, Preço de mercado, Proposta de preço, Preço unitário, Proposta, Tipo de licitação, Preço global, Gestão tecnológica  \n",
       "1          restos a pagar - Recolhimento, Quitação, Cota-parte, Passivo, Crime contra as finanças públicas, Liquidação judicial, Passivo trabalhista, Passivo compensado, Inadimplência  \n",
       "2                    aditivo a contrato - Termo aditivo, Contrato administrativo, Reformulação, Acréscimo, Reprovabilidade, Atualização, Formalização do contrato, Aditivo quantitativo  \n",
       "3                                              adesão a ata de registro de preços - Sistema de Registro de Preços, Contrato de adesão, Impugnação, Aval, Intenção de Registro de Preços  \n",
       "4                 sobrepreço e superfaturamento - Excesso, Validade, Faturamento, Licitação, Preço, Despesa, Obras, serviços ou compras de grande vulto, Bens e serviços de informática  "
      ]
     },
     "execution_count": 60,
     "metadata": {},
     "output_type": "execute_result"
    }
   ],
   "source": [
    "# ptt5-indir-400\n",
    "df_query.head()"
   ]
  },
  {
   "cell_type": "code",
   "execution_count": null,
   "metadata": {},
   "outputs": [],
   "source": []
  },
  {
   "cell_type": "code",
   "execution_count": null,
   "metadata": {},
   "outputs": [
    {
     "data": {
      "text/html": [
       "<div>\n",
       "<style scoped>\n",
       "    .dataframe tbody tr th:only-of-type {\n",
       "        vertical-align: middle;\n",
       "    }\n",
       "\n",
       "    .dataframe tbody tr th {\n",
       "        vertical-align: top;\n",
       "    }\n",
       "\n",
       "    .dataframe thead th {\n",
       "        text-align: right;\n",
       "    }\n",
       "</style>\n",
       "<table border=\"1\" class=\"dataframe\">\n",
       "  <thead>\n",
       "    <tr style=\"text-align: right;\">\n",
       "      <th></th>\n",
       "      <th>ID</th>\n",
       "      <th>TEXT</th>\n",
       "      <th>SOURCE</th>\n",
       "      <th>1</th>\n",
       "      <th>2</th>\n",
       "      <th>3</th>\n",
       "      <th>4</th>\n",
       "      <th>5</th>\n",
       "      <th>6</th>\n",
       "      <th>7</th>\n",
       "      <th>8</th>\n",
       "      <th>9</th>\n",
       "      <th>10</th>\n",
       "    </tr>\n",
       "  </thead>\n",
       "  <tbody>\n",
       "    <tr>\n",
       "      <th>0</th>\n",
       "      <td>1</td>\n",
       "      <td>técnica e preço</td>\n",
       "      <td>search log</td>\n",
       "      <td>técnica e preço - Licitação de técnica e preço</td>\n",
       "      <td>técnica e preço - Licitação de técnica e preço, Proposta técnica</td>\n",
       "      <td>técnica e preço - Licitação de técnica e preço, Proposta técnica, Preço de mercado</td>\n",
       "      <td>técnica e preço - Licitação de técnica e preço, Proposta técnica, Preço de mercado, Proposta de preço</td>\n",
       "      <td>técnica e preço - Licitação de técnica e preço, Proposta técnica, Preço de mercado, Proposta de preço, Preço unitário</td>\n",
       "      <td>técnica e preço - Licitação de técnica e preço, Proposta técnica, Preço de mercado, Proposta de preço, Preço unitário, Proposta</td>\n",
       "      <td>técnica e preço - Licitação de técnica e preço, Proposta técnica, Preço de mercado, Proposta de preço, Preço unitário, Proposta, Bens e serviços de informática</td>\n",
       "      <td>técnica e preço - Licitação de técnica e preço, Proposta técnica, Preço de mercado, Proposta de preço, Preço unitário, Proposta, Bens e serviços de informática, Qualificação técnica</td>\n",
       "      <td>técnica e preço - Licitação de técnica e preço, Proposta técnica, Preço de mercado, Proposta de preço, Preço unitário, Proposta, Bens e serviços de informática, Qualificação técnica, Documento téc...</td>\n",
       "      <td>técnica e preço - Licitação de técnica e preço, Proposta técnica, Preço de mercado, Proposta de preço, Preço unitário, Proposta, Bens e serviços de informática, Qualificação técnica, Documento téc...</td>\n",
       "    </tr>\n",
       "    <tr>\n",
       "      <th>1</th>\n",
       "      <td>2</td>\n",
       "      <td>restos a pagar</td>\n",
       "      <td>search log</td>\n",
       "      <td>restos a pagar - Recolhimento</td>\n",
       "      <td>restos a pagar - Recolhimento, Exercício financeiro anterior</td>\n",
       "      <td>restos a pagar - Recolhimento, Exercício financeiro anterior, Passivo circulante</td>\n",
       "      <td>restos a pagar - Recolhimento, Exercício financeiro anterior, Passivo circulante, Juros</td>\n",
       "      <td>restos a pagar - Recolhimento, Exercício financeiro anterior, Passivo circulante, Juros, Cota-parte</td>\n",
       "      <td>restos a pagar - Recolhimento, Exercício financeiro anterior, Passivo circulante, Juros, Cota-parte, Despesas de exercícios anteriores</td>\n",
       "      <td>restos a pagar - Recolhimento, Exercício financeiro anterior, Passivo circulante, Juros, Cota-parte, Despesas de exercícios anteriores, Obrigação</td>\n",
       "      <td>restos a pagar - Recolhimento, Exercício financeiro anterior, Passivo circulante, Juros, Cota-parte, Despesas de exercícios anteriores, Obrigação, Crime contra as finanças públicas</td>\n",
       "      <td>restos a pagar - Recolhimento, Exercício financeiro anterior, Passivo circulante, Juros, Cota-parte, Despesas de exercícios anteriores, Obrigação, Crime contra as finanças públicas, Quitação</td>\n",
       "      <td>restos a pagar - Recolhimento, Exercício financeiro anterior, Passivo circulante, Juros, Cota-parte, Despesas de exercícios anteriores, Obrigação, Crime contra as finanças públicas, Quitação</td>\n",
       "    </tr>\n",
       "    <tr>\n",
       "      <th>2</th>\n",
       "      <td>3</td>\n",
       "      <td>aditivo a contrato</td>\n",
       "      <td>search log</td>\n",
       "      <td>aditivo a contrato - Termo aditivo</td>\n",
       "      <td>aditivo a contrato - Termo aditivo, Aditivo qualitativo</td>\n",
       "      <td>aditivo a contrato - Termo aditivo, Aditivo qualitativo, Acréscimo</td>\n",
       "      <td>aditivo a contrato - Termo aditivo, Aditivo qualitativo, Acréscimo, Contrato administrativo</td>\n",
       "      <td>aditivo a contrato - Termo aditivo, Aditivo qualitativo, Acréscimo, Contrato administrativo, Aditivo quantitativo</td>\n",
       "      <td>aditivo a contrato - Termo aditivo, Aditivo qualitativo, Acréscimo, Contrato administrativo, Aditivo quantitativo, Formalização do contrato</td>\n",
       "      <td>aditivo a contrato - Termo aditivo, Aditivo qualitativo, Acréscimo, Contrato administrativo, Aditivo quantitativo, Formalização do contrato, Reformulação</td>\n",
       "      <td>aditivo a contrato - Termo aditivo, Aditivo qualitativo, Acréscimo, Contrato administrativo, Aditivo quantitativo, Formalização do contrato, Reformulação, Atualização</td>\n",
       "      <td>aditivo a contrato - Termo aditivo, Aditivo qualitativo, Acréscimo, Contrato administrativo, Aditivo quantitativo, Formalização do contrato, Reformulação, Atualização</td>\n",
       "      <td>aditivo a contrato - Termo aditivo, Aditivo qualitativo, Acréscimo, Contrato administrativo, Aditivo quantitativo, Formalização do contrato, Reformulação, Atualização</td>\n",
       "    </tr>\n",
       "    <tr>\n",
       "      <th>3</th>\n",
       "      <td>4</td>\n",
       "      <td>adesão a ata de registro de preços</td>\n",
       "      <td>search log</td>\n",
       "      <td>adesão a ata de registro de preços - Sistema de Registro de Preços</td>\n",
       "      <td>adesão a ata de registro de preços - Sistema de Registro de Preços, Cláusula obrigatória</td>\n",
       "      <td>adesão a ata de registro de preços - Sistema de Registro de Preços, Cláusula obrigatória, Impugnação</td>\n",
       "      <td>adesão a ata de registro de preços - Sistema de Registro de Preços, Cláusula obrigatória, Impugnação, Contrato de adesão</td>\n",
       "      <td>adesão a ata de registro de preços - Sistema de Registro de Preços, Cláusula obrigatória, Impugnação, Contrato de adesão, Aval</td>\n",
       "      <td>adesão a ata de registro de preços - Sistema de Registro de Preços, Cláusula obrigatória, Impugnação, Contrato de adesão, Aval</td>\n",
       "      <td>adesão a ata de registro de preços - Sistema de Registro de Preços, Cláusula obrigatória, Impugnação, Contrato de adesão, Aval</td>\n",
       "      <td>adesão a ata de registro de preços - Sistema de Registro de Preços, Cláusula obrigatória, Impugnação, Contrato de adesão, Aval</td>\n",
       "      <td>adesão a ata de registro de preços - Sistema de Registro de Preços, Cláusula obrigatória, Impugnação, Contrato de adesão, Aval</td>\n",
       "      <td>adesão a ata de registro de preços - Sistema de Registro de Preços, Cláusula obrigatória, Impugnação, Contrato de adesão, Aval</td>\n",
       "    </tr>\n",
       "    <tr>\n",
       "      <th>4</th>\n",
       "      <td>5</td>\n",
       "      <td>sobrepreço e superfaturamento</td>\n",
       "      <td>search log</td>\n",
       "      <td>sobrepreço e superfaturamento - Excesso</td>\n",
       "      <td>sobrepreço e superfaturamento - Excesso, Faturamento</td>\n",
       "      <td>sobrepreço e superfaturamento - Excesso, Faturamento, Preço</td>\n",
       "      <td>sobrepreço e superfaturamento - Excesso, Faturamento, Preço, Licitação</td>\n",
       "      <td>sobrepreço e superfaturamento - Excesso, Faturamento, Preço, Licitação, Validade</td>\n",
       "      <td>sobrepreço e superfaturamento - Excesso, Faturamento, Preço, Licitação, Validade, Obras, serviços ou compras de grande vulto</td>\n",
       "      <td>sobrepreço e superfaturamento - Excesso, Faturamento, Preço, Licitação, Validade, Obras, serviços ou compras de grande vulto, Método de limitação de preços unitários ajustados</td>\n",
       "      <td>sobrepreço e superfaturamento - Excesso, Faturamento, Preço, Licitação, Validade, Obras, serviços ou compras de grande vulto, Método de limitação de preços unitários ajustados, Método de limitação...</td>\n",
       "      <td>sobrepreço e superfaturamento - Excesso, Faturamento, Preço, Licitação, Validade, Obras, serviços ou compras de grande vulto, Método de limitação de preços unitários ajustados, Método de limitação...</td>\n",
       "      <td>sobrepreço e superfaturamento - Excesso, Faturamento, Preço, Licitação, Validade, Obras, serviços ou compras de grande vulto, Método de limitação de preços unitários ajustados, Método de limitação...</td>\n",
       "    </tr>\n",
       "  </tbody>\n",
       "</table>\n",
       "</div>"
      ],
      "text/plain": [
       "   ID                                TEXT      SOURCE                                                                   1  \\\n",
       "0   1                     técnica e preço  search log                      técnica e preço - Licitação de técnica e preço   \n",
       "1   2                      restos a pagar  search log                                       restos a pagar - Recolhimento   \n",
       "2   3                  aditivo a contrato  search log                                  aditivo a contrato - Termo aditivo   \n",
       "3   4  adesão a ata de registro de preços  search log  adesão a ata de registro de preços - Sistema de Registro de Preços   \n",
       "4   5       sobrepreço e superfaturamento  search log                             sobrepreço e superfaturamento - Excesso   \n",
       "\n",
       "                                                                                          2                                                                                                     3  \\\n",
       "0                          técnica e preço - Licitação de técnica e preço, Proposta técnica                    técnica e preço - Licitação de técnica e preço, Proposta técnica, Preço de mercado   \n",
       "1                              restos a pagar - Recolhimento, Exercício financeiro anterior                      restos a pagar - Recolhimento, Exercício financeiro anterior, Passivo circulante   \n",
       "2                                   aditivo a contrato - Termo aditivo, Aditivo qualitativo                                    aditivo a contrato - Termo aditivo, Aditivo qualitativo, Acréscimo   \n",
       "3  adesão a ata de registro de preços - Sistema de Registro de Preços, Cláusula obrigatória  adesão a ata de registro de preços - Sistema de Registro de Preços, Cláusula obrigatória, Impugnação   \n",
       "4                                      sobrepreço e superfaturamento - Excesso, Faturamento                                           sobrepreço e superfaturamento - Excesso, Faturamento, Preço   \n",
       "\n",
       "                                                                                                                          4  \\\n",
       "0                     técnica e preço - Licitação de técnica e preço, Proposta técnica, Preço de mercado, Proposta de preço   \n",
       "1                                   restos a pagar - Recolhimento, Exercício financeiro anterior, Passivo circulante, Juros   \n",
       "2                               aditivo a contrato - Termo aditivo, Aditivo qualitativo, Acréscimo, Contrato administrativo   \n",
       "3  adesão a ata de registro de preços - Sistema de Registro de Preços, Cláusula obrigatória, Impugnação, Contrato de adesão   \n",
       "4                                                    sobrepreço e superfaturamento - Excesso, Faturamento, Preço, Licitação   \n",
       "\n",
       "                                                                                                                                5  \\\n",
       "0           técnica e preço - Licitação de técnica e preço, Proposta técnica, Preço de mercado, Proposta de preço, Preço unitário   \n",
       "1                             restos a pagar - Recolhimento, Exercício financeiro anterior, Passivo circulante, Juros, Cota-parte   \n",
       "2               aditivo a contrato - Termo aditivo, Aditivo qualitativo, Acréscimo, Contrato administrativo, Aditivo quantitativo   \n",
       "3  adesão a ata de registro de preços - Sistema de Registro de Preços, Cláusula obrigatória, Impugnação, Contrato de adesão, Aval   \n",
       "4                                                sobrepreço e superfaturamento - Excesso, Faturamento, Preço, Licitação, Validade   \n",
       "\n",
       "                                                                                                                                             6  \\\n",
       "0              técnica e preço - Licitação de técnica e preço, Proposta técnica, Preço de mercado, Proposta de preço, Preço unitário, Proposta   \n",
       "1       restos a pagar - Recolhimento, Exercício financeiro anterior, Passivo circulante, Juros, Cota-parte, Despesas de exercícios anteriores   \n",
       "2  aditivo a contrato - Termo aditivo, Aditivo qualitativo, Acréscimo, Contrato administrativo, Aditivo quantitativo, Formalização do contrato   \n",
       "3               adesão a ata de registro de preços - Sistema de Registro de Preços, Cláusula obrigatória, Impugnação, Contrato de adesão, Aval   \n",
       "4                 sobrepreço e superfaturamento - Excesso, Faturamento, Preço, Licitação, Validade, Obras, serviços ou compras de grande vulto   \n",
       "\n",
       "                                                                                                                                                                                 7  \\\n",
       "0                  técnica e preço - Licitação de técnica e preço, Proposta técnica, Preço de mercado, Proposta de preço, Preço unitário, Proposta, Bens e serviços de informática   \n",
       "1                                restos a pagar - Recolhimento, Exercício financeiro anterior, Passivo circulante, Juros, Cota-parte, Despesas de exercícios anteriores, Obrigação   \n",
       "2                        aditivo a contrato - Termo aditivo, Aditivo qualitativo, Acréscimo, Contrato administrativo, Aditivo quantitativo, Formalização do contrato, Reformulação   \n",
       "3                                                   adesão a ata de registro de preços - Sistema de Registro de Preços, Cláusula obrigatória, Impugnação, Contrato de adesão, Aval   \n",
       "4  sobrepreço e superfaturamento - Excesso, Faturamento, Preço, Licitação, Validade, Obras, serviços ou compras de grande vulto, Método de limitação de preços unitários ajustados   \n",
       "\n",
       "                                                                                                                                                                                                         8  \\\n",
       "0                    técnica e preço - Licitação de técnica e preço, Proposta técnica, Preço de mercado, Proposta de preço, Preço unitário, Proposta, Bens e serviços de informática, Qualificação técnica   \n",
       "1                     restos a pagar - Recolhimento, Exercício financeiro anterior, Passivo circulante, Juros, Cota-parte, Despesas de exercícios anteriores, Obrigação, Crime contra as finanças públicas   \n",
       "2                                   aditivo a contrato - Termo aditivo, Aditivo qualitativo, Acréscimo, Contrato administrativo, Aditivo quantitativo, Formalização do contrato, Reformulação, Atualização   \n",
       "3                                                                           adesão a ata de registro de preços - Sistema de Registro de Preços, Cláusula obrigatória, Impugnação, Contrato de adesão, Aval   \n",
       "4  sobrepreço e superfaturamento - Excesso, Faturamento, Preço, Licitação, Validade, Obras, serviços ou compras de grande vulto, Método de limitação de preços unitários ajustados, Método de limitação...   \n",
       "\n",
       "                                                                                                                                                                                                         9  \\\n",
       "0  técnica e preço - Licitação de técnica e preço, Proposta técnica, Preço de mercado, Proposta de preço, Preço unitário, Proposta, Bens e serviços de informática, Qualificação técnica, Documento téc...   \n",
       "1           restos a pagar - Recolhimento, Exercício financeiro anterior, Passivo circulante, Juros, Cota-parte, Despesas de exercícios anteriores, Obrigação, Crime contra as finanças públicas, Quitação   \n",
       "2                                   aditivo a contrato - Termo aditivo, Aditivo qualitativo, Acréscimo, Contrato administrativo, Aditivo quantitativo, Formalização do contrato, Reformulação, Atualização   \n",
       "3                                                                           adesão a ata de registro de preços - Sistema de Registro de Preços, Cláusula obrigatória, Impugnação, Contrato de adesão, Aval   \n",
       "4  sobrepreço e superfaturamento - Excesso, Faturamento, Preço, Licitação, Validade, Obras, serviços ou compras de grande vulto, Método de limitação de preços unitários ajustados, Método de limitação...   \n",
       "\n",
       "                                                                                                                                                                                                        10  \n",
       "0  técnica e preço - Licitação de técnica e preço, Proposta técnica, Preço de mercado, Proposta de preço, Preço unitário, Proposta, Bens e serviços de informática, Qualificação técnica, Documento téc...  \n",
       "1           restos a pagar - Recolhimento, Exercício financeiro anterior, Passivo circulante, Juros, Cota-parte, Despesas de exercícios anteriores, Obrigação, Crime contra as finanças públicas, Quitação  \n",
       "2                                   aditivo a contrato - Termo aditivo, Aditivo qualitativo, Acréscimo, Contrato administrativo, Aditivo quantitativo, Formalização do contrato, Reformulação, Atualização  \n",
       "3                                                                           adesão a ata de registro de preços - Sistema de Registro de Preços, Cláusula obrigatória, Impugnação, Contrato de adesão, Aval  \n",
       "4  sobrepreço e superfaturamento - Excesso, Faturamento, Preço, Licitação, Validade, Obras, serviços ou compras de grande vulto, Método de limitação de preços unitários ajustados, Método de limitação...  "
      ]
     },
     "execution_count": 42,
     "metadata": {},
     "output_type": "execute_result"
    }
   ],
   "source": [
    "df_query.head()"
   ]
  },
  {
   "cell_type": "code",
   "execution_count": 61,
   "metadata": {},
   "outputs": [],
   "source": [
    "name_expansor = 'join_30_ptt5_indir_400'"
   ]
  },
  {
   "cell_type": "code",
   "execution_count": 62,
   "metadata": {},
   "outputs": [],
   "source": [
    "path_expansion = f'../data/juris_tcu_expanded_query/query_10_expansion_{name_expansor}.csv'"
   ]
  },
  {
   "cell_type": "code",
   "execution_count": 63,
   "metadata": {},
   "outputs": [],
   "source": [
    "df_query.to_csv(path_expansion, index=False)"
   ]
  },
  {
   "attachments": {},
   "cell_type": "markdown",
   "metadata": {},
   "source": [
    "# Exploring expansion"
   ]
  },
  {
   "cell_type": "code",
   "execution_count": null,
   "metadata": {},
   "outputs": [],
   "source": [
    "EXPANSOR_CRITERIA = 'join_30_ptt5_indir_106' # 'join_30_ptt5_base' # 'join_30_ptt5_indir_106' #  'join_30_ptt5_base' #'join_30_ptt5_indir'"
   ]
  },
  {
   "cell_type": "code",
   "execution_count": null,
   "metadata": {},
   "outputs": [],
   "source": [
    "PATH_QUERY =  f'../data/juris_tcu_expanded_query/query_10_expansion_{EXPANSOR_CRITERIA}.csv' "
   ]
  },
  {
   "cell_type": "code",
   "execution_count": null,
   "metadata": {},
   "outputs": [],
   "source": [
    "df_query = pd.read_csv(PATH_QUERY)"
   ]
  },
  {
   "cell_type": "code",
   "execution_count": null,
   "metadata": {},
   "outputs": [
    {
     "data": {
      "text/html": [
       "<div>\n",
       "<style scoped>\n",
       "    .dataframe tbody tr th:only-of-type {\n",
       "        vertical-align: middle;\n",
       "    }\n",
       "\n",
       "    .dataframe tbody tr th {\n",
       "        vertical-align: top;\n",
       "    }\n",
       "\n",
       "    .dataframe thead th {\n",
       "        text-align: right;\n",
       "    }\n",
       "</style>\n",
       "<table border=\"1\" class=\"dataframe\">\n",
       "  <thead>\n",
       "    <tr style=\"text-align: right;\">\n",
       "      <th></th>\n",
       "      <th>ID</th>\n",
       "      <th>TEXT</th>\n",
       "      <th>SOURCE</th>\n",
       "      <th>1</th>\n",
       "      <th>2</th>\n",
       "      <th>3</th>\n",
       "      <th>4</th>\n",
       "      <th>5</th>\n",
       "      <th>6</th>\n",
       "      <th>7</th>\n",
       "      <th>8</th>\n",
       "      <th>9</th>\n",
       "      <th>10</th>\n",
       "    </tr>\n",
       "  </thead>\n",
       "  <tbody>\n",
       "    <tr>\n",
       "      <th>0</th>\n",
       "      <td>1</td>\n",
       "      <td>técnica e preço</td>\n",
       "      <td>search log</td>\n",
       "      <td>técnica e preço - Licitação de técnica e preço</td>\n",
       "      <td>técnica e preço - Licitação de técnica e preço, Proposta técnica</td>\n",
       "      <td>técnica e preço - Licitação de técnica e preço, Proposta técnica, Preço de mercado</td>\n",
       "      <td>técnica e preço - Licitação de técnica e preço, Proposta técnica, Preço de mercado, Proposta de preço</td>\n",
       "      <td>técnica e preço - Licitação de técnica e preço, Proposta técnica, Preço de mercado, Proposta de preço, Preço unitário</td>\n",
       "      <td>técnica e preço - Licitação de técnica e preço, Proposta técnica, Preço de mercado, Proposta de preço, Preço unitário, Proposta</td>\n",
       "      <td>técnica e preço - Licitação de técnica e preço, Proposta técnica, Preço de mercado, Proposta de preço, Preço unitário, Proposta, Bens e serviços de informática</td>\n",
       "      <td>técnica e preço - Licitação de técnica e preço, Proposta técnica, Preço de mercado, Proposta de preço, Preço unitário, Proposta, Bens e serviços de informática, Qualificação técnica</td>\n",
       "      <td>técnica e preço - Licitação de técnica e preço, Proposta técnica, Preço de mercado, Proposta de preço, Preço unitário, Proposta, Bens e serviços de informática, Qualificação técnica, Documento téc...</td>\n",
       "      <td>técnica e preço - Licitação de técnica e preço, Proposta técnica, Preço de mercado, Proposta de preço, Preço unitário, Proposta, Bens e serviços de informática, Qualificação técnica, Documento téc...</td>\n",
       "    </tr>\n",
       "    <tr>\n",
       "      <th>1</th>\n",
       "      <td>2</td>\n",
       "      <td>restos a pagar</td>\n",
       "      <td>search log</td>\n",
       "      <td>restos a pagar - Recolhimento</td>\n",
       "      <td>restos a pagar - Recolhimento, Exercício financeiro anterior</td>\n",
       "      <td>restos a pagar - Recolhimento, Exercício financeiro anterior, Passivo circulante</td>\n",
       "      <td>restos a pagar - Recolhimento, Exercício financeiro anterior, Passivo circulante, Juros</td>\n",
       "      <td>restos a pagar - Recolhimento, Exercício financeiro anterior, Passivo circulante, Juros, Cota-parte</td>\n",
       "      <td>restos a pagar - Recolhimento, Exercício financeiro anterior, Passivo circulante, Juros, Cota-parte, Despesas de exercícios anteriores</td>\n",
       "      <td>restos a pagar - Recolhimento, Exercício financeiro anterior, Passivo circulante, Juros, Cota-parte, Despesas de exercícios anteriores, Obrigação</td>\n",
       "      <td>restos a pagar - Recolhimento, Exercício financeiro anterior, Passivo circulante, Juros, Cota-parte, Despesas de exercícios anteriores, Obrigação, Crime contra as finanças públicas</td>\n",
       "      <td>restos a pagar - Recolhimento, Exercício financeiro anterior, Passivo circulante, Juros, Cota-parte, Despesas de exercícios anteriores, Obrigação, Crime contra as finanças públicas, Quitação</td>\n",
       "      <td>restos a pagar - Recolhimento, Exercício financeiro anterior, Passivo circulante, Juros, Cota-parte, Despesas de exercícios anteriores, Obrigação, Crime contra as finanças públicas, Quitação</td>\n",
       "    </tr>\n",
       "    <tr>\n",
       "      <th>2</th>\n",
       "      <td>3</td>\n",
       "      <td>aditivo a contrato</td>\n",
       "      <td>search log</td>\n",
       "      <td>aditivo a contrato - Termo aditivo</td>\n",
       "      <td>aditivo a contrato - Termo aditivo, Aditivo qualitativo</td>\n",
       "      <td>aditivo a contrato - Termo aditivo, Aditivo qualitativo, Acréscimo</td>\n",
       "      <td>aditivo a contrato - Termo aditivo, Aditivo qualitativo, Acréscimo, Contrato administrativo</td>\n",
       "      <td>aditivo a contrato - Termo aditivo, Aditivo qualitativo, Acréscimo, Contrato administrativo, Aditivo quantitativo</td>\n",
       "      <td>aditivo a contrato - Termo aditivo, Aditivo qualitativo, Acréscimo, Contrato administrativo, Aditivo quantitativo, Formalização do contrato</td>\n",
       "      <td>aditivo a contrato - Termo aditivo, Aditivo qualitativo, Acréscimo, Contrato administrativo, Aditivo quantitativo, Formalização do contrato, Reformulação</td>\n",
       "      <td>aditivo a contrato - Termo aditivo, Aditivo qualitativo, Acréscimo, Contrato administrativo, Aditivo quantitativo, Formalização do contrato, Reformulação, Atualização</td>\n",
       "      <td>aditivo a contrato - Termo aditivo, Aditivo qualitativo, Acréscimo, Contrato administrativo, Aditivo quantitativo, Formalização do contrato, Reformulação, Atualização</td>\n",
       "      <td>aditivo a contrato - Termo aditivo, Aditivo qualitativo, Acréscimo, Contrato administrativo, Aditivo quantitativo, Formalização do contrato, Reformulação, Atualização</td>\n",
       "    </tr>\n",
       "    <tr>\n",
       "      <th>3</th>\n",
       "      <td>4</td>\n",
       "      <td>adesão a ata de registro de preços</td>\n",
       "      <td>search log</td>\n",
       "      <td>adesão a ata de registro de preços - Sistema de Registro de Preços</td>\n",
       "      <td>adesão a ata de registro de preços - Sistema de Registro de Preços, Cláusula obrigatória</td>\n",
       "      <td>adesão a ata de registro de preços - Sistema de Registro de Preços, Cláusula obrigatória, Impugnação</td>\n",
       "      <td>adesão a ata de registro de preços - Sistema de Registro de Preços, Cláusula obrigatória, Impugnação, Contrato de adesão</td>\n",
       "      <td>adesão a ata de registro de preços - Sistema de Registro de Preços, Cláusula obrigatória, Impugnação, Contrato de adesão, Aval</td>\n",
       "      <td>adesão a ata de registro de preços - Sistema de Registro de Preços, Cláusula obrigatória, Impugnação, Contrato de adesão, Aval</td>\n",
       "      <td>adesão a ata de registro de preços - Sistema de Registro de Preços, Cláusula obrigatória, Impugnação, Contrato de adesão, Aval</td>\n",
       "      <td>adesão a ata de registro de preços - Sistema de Registro de Preços, Cláusula obrigatória, Impugnação, Contrato de adesão, Aval</td>\n",
       "      <td>adesão a ata de registro de preços - Sistema de Registro de Preços, Cláusula obrigatória, Impugnação, Contrato de adesão, Aval</td>\n",
       "      <td>adesão a ata de registro de preços - Sistema de Registro de Preços, Cláusula obrigatória, Impugnação, Contrato de adesão, Aval</td>\n",
       "    </tr>\n",
       "    <tr>\n",
       "      <th>4</th>\n",
       "      <td>5</td>\n",
       "      <td>sobrepreço e superfaturamento</td>\n",
       "      <td>search log</td>\n",
       "      <td>sobrepreço e superfaturamento - Excesso</td>\n",
       "      <td>sobrepreço e superfaturamento - Excesso, Faturamento</td>\n",
       "      <td>sobrepreço e superfaturamento - Excesso, Faturamento, Preço</td>\n",
       "      <td>sobrepreço e superfaturamento - Excesso, Faturamento, Preço, Licitação</td>\n",
       "      <td>sobrepreço e superfaturamento - Excesso, Faturamento, Preço, Licitação, Validade</td>\n",
       "      <td>sobrepreço e superfaturamento - Excesso, Faturamento, Preço, Licitação, Validade, Obras, serviços ou compras de grande vulto</td>\n",
       "      <td>sobrepreço e superfaturamento - Excesso, Faturamento, Preço, Licitação, Validade, Obras, serviços ou compras de grande vulto, Método de limitação de preços unitários ajustados</td>\n",
       "      <td>sobrepreço e superfaturamento - Excesso, Faturamento, Preço, Licitação, Validade, Obras, serviços ou compras de grande vulto, Método de limitação de preços unitários ajustados, Método de limitação...</td>\n",
       "      <td>sobrepreço e superfaturamento - Excesso, Faturamento, Preço, Licitação, Validade, Obras, serviços ou compras de grande vulto, Método de limitação de preços unitários ajustados, Método de limitação...</td>\n",
       "      <td>sobrepreço e superfaturamento - Excesso, Faturamento, Preço, Licitação, Validade, Obras, serviços ou compras de grande vulto, Método de limitação de preços unitários ajustados, Método de limitação...</td>\n",
       "    </tr>\n",
       "  </tbody>\n",
       "</table>\n",
       "</div>"
      ],
      "text/plain": [
       "   ID                                TEXT      SOURCE                                                                   1  \\\n",
       "0   1                     técnica e preço  search log                      técnica e preço - Licitação de técnica e preço   \n",
       "1   2                      restos a pagar  search log                                       restos a pagar - Recolhimento   \n",
       "2   3                  aditivo a contrato  search log                                  aditivo a contrato - Termo aditivo   \n",
       "3   4  adesão a ata de registro de preços  search log  adesão a ata de registro de preços - Sistema de Registro de Preços   \n",
       "4   5       sobrepreço e superfaturamento  search log                             sobrepreço e superfaturamento - Excesso   \n",
       "\n",
       "                                                                                          2                                                                                                     3  \\\n",
       "0                          técnica e preço - Licitação de técnica e preço, Proposta técnica                    técnica e preço - Licitação de técnica e preço, Proposta técnica, Preço de mercado   \n",
       "1                              restos a pagar - Recolhimento, Exercício financeiro anterior                      restos a pagar - Recolhimento, Exercício financeiro anterior, Passivo circulante   \n",
       "2                                   aditivo a contrato - Termo aditivo, Aditivo qualitativo                                    aditivo a contrato - Termo aditivo, Aditivo qualitativo, Acréscimo   \n",
       "3  adesão a ata de registro de preços - Sistema de Registro de Preços, Cláusula obrigatória  adesão a ata de registro de preços - Sistema de Registro de Preços, Cláusula obrigatória, Impugnação   \n",
       "4                                      sobrepreço e superfaturamento - Excesso, Faturamento                                           sobrepreço e superfaturamento - Excesso, Faturamento, Preço   \n",
       "\n",
       "                                                                                                                          4  \\\n",
       "0                     técnica e preço - Licitação de técnica e preço, Proposta técnica, Preço de mercado, Proposta de preço   \n",
       "1                                   restos a pagar - Recolhimento, Exercício financeiro anterior, Passivo circulante, Juros   \n",
       "2                               aditivo a contrato - Termo aditivo, Aditivo qualitativo, Acréscimo, Contrato administrativo   \n",
       "3  adesão a ata de registro de preços - Sistema de Registro de Preços, Cláusula obrigatória, Impugnação, Contrato de adesão   \n",
       "4                                                    sobrepreço e superfaturamento - Excesso, Faturamento, Preço, Licitação   \n",
       "\n",
       "                                                                                                                                5  \\\n",
       "0           técnica e preço - Licitação de técnica e preço, Proposta técnica, Preço de mercado, Proposta de preço, Preço unitário   \n",
       "1                             restos a pagar - Recolhimento, Exercício financeiro anterior, Passivo circulante, Juros, Cota-parte   \n",
       "2               aditivo a contrato - Termo aditivo, Aditivo qualitativo, Acréscimo, Contrato administrativo, Aditivo quantitativo   \n",
       "3  adesão a ata de registro de preços - Sistema de Registro de Preços, Cláusula obrigatória, Impugnação, Contrato de adesão, Aval   \n",
       "4                                                sobrepreço e superfaturamento - Excesso, Faturamento, Preço, Licitação, Validade   \n",
       "\n",
       "                                                                                                                                             6  \\\n",
       "0              técnica e preço - Licitação de técnica e preço, Proposta técnica, Preço de mercado, Proposta de preço, Preço unitário, Proposta   \n",
       "1       restos a pagar - Recolhimento, Exercício financeiro anterior, Passivo circulante, Juros, Cota-parte, Despesas de exercícios anteriores   \n",
       "2  aditivo a contrato - Termo aditivo, Aditivo qualitativo, Acréscimo, Contrato administrativo, Aditivo quantitativo, Formalização do contrato   \n",
       "3               adesão a ata de registro de preços - Sistema de Registro de Preços, Cláusula obrigatória, Impugnação, Contrato de adesão, Aval   \n",
       "4                 sobrepreço e superfaturamento - Excesso, Faturamento, Preço, Licitação, Validade, Obras, serviços ou compras de grande vulto   \n",
       "\n",
       "                                                                                                                                                                                 7  \\\n",
       "0                  técnica e preço - Licitação de técnica e preço, Proposta técnica, Preço de mercado, Proposta de preço, Preço unitário, Proposta, Bens e serviços de informática   \n",
       "1                                restos a pagar - Recolhimento, Exercício financeiro anterior, Passivo circulante, Juros, Cota-parte, Despesas de exercícios anteriores, Obrigação   \n",
       "2                        aditivo a contrato - Termo aditivo, Aditivo qualitativo, Acréscimo, Contrato administrativo, Aditivo quantitativo, Formalização do contrato, Reformulação   \n",
       "3                                                   adesão a ata de registro de preços - Sistema de Registro de Preços, Cláusula obrigatória, Impugnação, Contrato de adesão, Aval   \n",
       "4  sobrepreço e superfaturamento - Excesso, Faturamento, Preço, Licitação, Validade, Obras, serviços ou compras de grande vulto, Método de limitação de preços unitários ajustados   \n",
       "\n",
       "                                                                                                                                                                                                         8  \\\n",
       "0                    técnica e preço - Licitação de técnica e preço, Proposta técnica, Preço de mercado, Proposta de preço, Preço unitário, Proposta, Bens e serviços de informática, Qualificação técnica   \n",
       "1                     restos a pagar - Recolhimento, Exercício financeiro anterior, Passivo circulante, Juros, Cota-parte, Despesas de exercícios anteriores, Obrigação, Crime contra as finanças públicas   \n",
       "2                                   aditivo a contrato - Termo aditivo, Aditivo qualitativo, Acréscimo, Contrato administrativo, Aditivo quantitativo, Formalização do contrato, Reformulação, Atualização   \n",
       "3                                                                           adesão a ata de registro de preços - Sistema de Registro de Preços, Cláusula obrigatória, Impugnação, Contrato de adesão, Aval   \n",
       "4  sobrepreço e superfaturamento - Excesso, Faturamento, Preço, Licitação, Validade, Obras, serviços ou compras de grande vulto, Método de limitação de preços unitários ajustados, Método de limitação...   \n",
       "\n",
       "                                                                                                                                                                                                         9  \\\n",
       "0  técnica e preço - Licitação de técnica e preço, Proposta técnica, Preço de mercado, Proposta de preço, Preço unitário, Proposta, Bens e serviços de informática, Qualificação técnica, Documento téc...   \n",
       "1           restos a pagar - Recolhimento, Exercício financeiro anterior, Passivo circulante, Juros, Cota-parte, Despesas de exercícios anteriores, Obrigação, Crime contra as finanças públicas, Quitação   \n",
       "2                                   aditivo a contrato - Termo aditivo, Aditivo qualitativo, Acréscimo, Contrato administrativo, Aditivo quantitativo, Formalização do contrato, Reformulação, Atualização   \n",
       "3                                                                           adesão a ata de registro de preços - Sistema de Registro de Preços, Cláusula obrigatória, Impugnação, Contrato de adesão, Aval   \n",
       "4  sobrepreço e superfaturamento - Excesso, Faturamento, Preço, Licitação, Validade, Obras, serviços ou compras de grande vulto, Método de limitação de preços unitários ajustados, Método de limitação...   \n",
       "\n",
       "                                                                                                                                                                                                        10  \n",
       "0  técnica e preço - Licitação de técnica e preço, Proposta técnica, Preço de mercado, Proposta de preço, Preço unitário, Proposta, Bens e serviços de informática, Qualificação técnica, Documento téc...  \n",
       "1           restos a pagar - Recolhimento, Exercício financeiro anterior, Passivo circulante, Juros, Cota-parte, Despesas de exercícios anteriores, Obrigação, Crime contra as finanças públicas, Quitação  \n",
       "2                                   aditivo a contrato - Termo aditivo, Aditivo qualitativo, Acréscimo, Contrato administrativo, Aditivo quantitativo, Formalização do contrato, Reformulação, Atualização  \n",
       "3                                                                           adesão a ata de registro de preços - Sistema de Registro de Preços, Cláusula obrigatória, Impugnação, Contrato de adesão, Aval  \n",
       "4  sobrepreço e superfaturamento - Excesso, Faturamento, Preço, Licitação, Validade, Obras, serviços ou compras de grande vulto, Método de limitação de preços unitários ajustados, Método de limitação...  "
      ]
     },
     "execution_count": 16,
     "metadata": {},
     "output_type": "execute_result"
    }
   ],
   "source": [
    "df_query.head()"
   ]
  },
  {
   "cell_type": "code",
   "execution_count": null,
   "metadata": {},
   "outputs": [],
   "source": [
    "result = df_query.drop(['ID','SOURCE'],axis=1).head(2).T"
   ]
  },
  {
   "cell_type": "code",
   "execution_count": null,
   "metadata": {},
   "outputs": [
    {
     "data": {
      "text/html": [
       "<div>\n",
       "<style scoped>\n",
       "    .dataframe tbody tr th:only-of-type {\n",
       "        vertical-align: middle;\n",
       "    }\n",
       "\n",
       "    .dataframe tbody tr th {\n",
       "        vertical-align: top;\n",
       "    }\n",
       "\n",
       "    .dataframe thead th {\n",
       "        text-align: right;\n",
       "    }\n",
       "</style>\n",
       "<table border=\"1\" class=\"dataframe\">\n",
       "  <thead>\n",
       "    <tr style=\"text-align: right;\">\n",
       "      <th></th>\n",
       "      <th>0</th>\n",
       "      <th>1</th>\n",
       "    </tr>\n",
       "  </thead>\n",
       "  <tbody>\n",
       "    <tr>\n",
       "      <th>TEXT</th>\n",
       "      <td>técnica e preço</td>\n",
       "      <td>restos a pagar</td>\n",
       "    </tr>\n",
       "    <tr>\n",
       "      <th>1</th>\n",
       "      <td>técnica e preço - Licitação de técnica e preço</td>\n",
       "      <td>restos a pagar - Recolhimento</td>\n",
       "    </tr>\n",
       "    <tr>\n",
       "      <th>2</th>\n",
       "      <td>técnica e preço - Licitação de técnica e preço, Proposta técnica</td>\n",
       "      <td>restos a pagar - Recolhimento, Exercício financeiro anterior</td>\n",
       "    </tr>\n",
       "    <tr>\n",
       "      <th>3</th>\n",
       "      <td>técnica e preço - Licitação de técnica e preço, Proposta técnica, Preço de mercado</td>\n",
       "      <td>restos a pagar - Recolhimento, Exercício financeiro anterior, Passivo circulante</td>\n",
       "    </tr>\n",
       "    <tr>\n",
       "      <th>4</th>\n",
       "      <td>técnica e preço - Licitação de técnica e preço, Proposta técnica, Preço de mercado, Proposta de preço</td>\n",
       "      <td>restos a pagar - Recolhimento, Exercício financeiro anterior, Passivo circulante, Juros</td>\n",
       "    </tr>\n",
       "    <tr>\n",
       "      <th>5</th>\n",
       "      <td>técnica e preço - Licitação de técnica e preço, Proposta técnica, Preço de mercado, Proposta de preço, Preço unitário</td>\n",
       "      <td>restos a pagar - Recolhimento, Exercício financeiro anterior, Passivo circulante, Juros, Cota-parte</td>\n",
       "    </tr>\n",
       "    <tr>\n",
       "      <th>6</th>\n",
       "      <td>técnica e preço - Licitação de técnica e preço, Proposta técnica, Preço de mercado, Proposta de preço, Preço unitário, Proposta</td>\n",
       "      <td>restos a pagar - Recolhimento, Exercício financeiro anterior, Passivo circulante, Juros, Cota-parte, Despesas de exercícios anteriores</td>\n",
       "    </tr>\n",
       "    <tr>\n",
       "      <th>7</th>\n",
       "      <td>técnica e preço - Licitação de técnica e preço, Proposta técnica, Preço de mercado, Proposta de preço, Preço unitário, Proposta, Bens e serviços de informática</td>\n",
       "      <td>restos a pagar - Recolhimento, Exercício financeiro anterior, Passivo circulante, Juros, Cota-parte, Despesas de exercícios anteriores, Obrigação</td>\n",
       "    </tr>\n",
       "    <tr>\n",
       "      <th>8</th>\n",
       "      <td>técnica e preço - Licitação de técnica e preço, Proposta técnica, Preço de mercado, Proposta de preço, Preço unitário, Proposta, Bens e serviços de informática, Qualificação técnica</td>\n",
       "      <td>restos a pagar - Recolhimento, Exercício financeiro anterior, Passivo circulante, Juros, Cota-parte, Despesas de exercícios anteriores, Obrigação, Crime contra as finanças públicas</td>\n",
       "    </tr>\n",
       "    <tr>\n",
       "      <th>9</th>\n",
       "      <td>técnica e preço - Licitação de técnica e preço, Proposta técnica, Preço de mercado, Proposta de preço, Preço unitário, Proposta, Bens e serviços de informática, Qualificação técnica, Documento téc...</td>\n",
       "      <td>restos a pagar - Recolhimento, Exercício financeiro anterior, Passivo circulante, Juros, Cota-parte, Despesas de exercícios anteriores, Obrigação, Crime contra as finanças públicas, Quitação</td>\n",
       "    </tr>\n",
       "    <tr>\n",
       "      <th>10</th>\n",
       "      <td>técnica e preço - Licitação de técnica e preço, Proposta técnica, Preço de mercado, Proposta de preço, Preço unitário, Proposta, Bens e serviços de informática, Qualificação técnica, Documento téc...</td>\n",
       "      <td>restos a pagar - Recolhimento, Exercício financeiro anterior, Passivo circulante, Juros, Cota-parte, Despesas de exercícios anteriores, Obrigação, Crime contra as finanças públicas, Quitação</td>\n",
       "    </tr>\n",
       "  </tbody>\n",
       "</table>\n",
       "</div>"
      ],
      "text/plain": [
       "                                                                                                                                                                                                            0  \\\n",
       "TEXT                                                                                                                                                                                          técnica e preço   \n",
       "1                                                                                                                                                              técnica e preço - Licitação de técnica e preço   \n",
       "2                                                                                                                                            técnica e preço - Licitação de técnica e preço, Proposta técnica   \n",
       "3                                                                                                                          técnica e preço - Licitação de técnica e preço, Proposta técnica, Preço de mercado   \n",
       "4                                                                                                       técnica e preço - Licitação de técnica e preço, Proposta técnica, Preço de mercado, Proposta de preço   \n",
       "5                                                                                       técnica e preço - Licitação de técnica e preço, Proposta técnica, Preço de mercado, Proposta de preço, Preço unitário   \n",
       "6                                                                             técnica e preço - Licitação de técnica e preço, Proposta técnica, Preço de mercado, Proposta de preço, Preço unitário, Proposta   \n",
       "7                                             técnica e preço - Licitação de técnica e preço, Proposta técnica, Preço de mercado, Proposta de preço, Preço unitário, Proposta, Bens e serviços de informática   \n",
       "8                       técnica e preço - Licitação de técnica e preço, Proposta técnica, Preço de mercado, Proposta de preço, Preço unitário, Proposta, Bens e serviços de informática, Qualificação técnica   \n",
       "9     técnica e preço - Licitação de técnica e preço, Proposta técnica, Preço de mercado, Proposta de preço, Preço unitário, Proposta, Bens e serviços de informática, Qualificação técnica, Documento téc...   \n",
       "10    técnica e preço - Licitação de técnica e preço, Proposta técnica, Preço de mercado, Proposta de preço, Preço unitário, Proposta, Bens e serviços de informática, Qualificação técnica, Documento téc...   \n",
       "\n",
       "                                                                                                                                                                                                   1  \n",
       "TEXT                                                                                                                                                                                  restos a pagar  \n",
       "1                                                                                                                                                                      restos a pagar - Recolhimento  \n",
       "2                                                                                                                                       restos a pagar - Recolhimento, Exercício financeiro anterior  \n",
       "3                                                                                                                   restos a pagar - Recolhimento, Exercício financeiro anterior, Passivo circulante  \n",
       "4                                                                                                            restos a pagar - Recolhimento, Exercício financeiro anterior, Passivo circulante, Juros  \n",
       "5                                                                                                restos a pagar - Recolhimento, Exercício financeiro anterior, Passivo circulante, Juros, Cota-parte  \n",
       "6                                                             restos a pagar - Recolhimento, Exercício financeiro anterior, Passivo circulante, Juros, Cota-parte, Despesas de exercícios anteriores  \n",
       "7                                                  restos a pagar - Recolhimento, Exercício financeiro anterior, Passivo circulante, Juros, Cota-parte, Despesas de exercícios anteriores, Obrigação  \n",
       "8               restos a pagar - Recolhimento, Exercício financeiro anterior, Passivo circulante, Juros, Cota-parte, Despesas de exercícios anteriores, Obrigação, Crime contra as finanças públicas  \n",
       "9     restos a pagar - Recolhimento, Exercício financeiro anterior, Passivo circulante, Juros, Cota-parte, Despesas de exercícios anteriores, Obrigação, Crime contra as finanças públicas, Quitação  \n",
       "10    restos a pagar - Recolhimento, Exercício financeiro anterior, Passivo circulante, Juros, Cota-parte, Despesas de exercícios anteriores, Obrigação, Crime contra as finanças públicas, Quitação  "
      ]
     },
     "execution_count": 21,
     "metadata": {},
     "output_type": "execute_result"
    }
   ],
   "source": [
    "result"
   ]
  },
  {
   "cell_type": "code",
   "execution_count": null,
   "metadata": {},
   "outputs": [],
   "source": [
    "result.to_excel(\"../docs/table/table_query_expansion_example.xlsx\", index=False)"
   ]
  },
  {
   "cell_type": "code",
   "execution_count": null,
   "metadata": {},
   "outputs": [],
   "source": []
  },
  {
   "cell_type": "markdown",
   "metadata": {},
   "source": []
  }
 ],
 "metadata": {
  "kernelspec": {
   "display_name": "relevar-busca",
   "language": "python",
   "name": "python3"
  },
  "language_info": {
   "codemirror_mode": {
    "name": "ipython",
    "version": 3
   },
   "file_extension": ".py",
   "mimetype": "text/x-python",
   "name": "python",
   "nbconvert_exporter": "python",
   "pygments_lexer": "ipython3",
   "version": "3.7.13 (default, Mar 29 2022, 02:18:16) \n[GCC 7.5.0]"
  },
  "orig_nbformat": 4,
  "vscode": {
   "interpreter": {
    "hash": "45978bf3509deeb93161d1472b16f82a40245d44c2beae6c63ad8f9bb3f69171"
   }
  }
 },
 "nbformat": 4,
 "nbformat_minor": 2
}
