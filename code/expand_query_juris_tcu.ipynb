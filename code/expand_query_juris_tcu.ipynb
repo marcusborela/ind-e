{
 "cells": [
  {
   "attachments": {},
   "cell_type": "markdown",
   "id": "998a4011",
   "metadata": {},
   "source": [
    "# Imports and preparation"
   ]
  },
  {
   "cell_type": "code",
   "execution_count": 1,
   "metadata": {},
   "outputs": [],
   "source": [
    "import os"
   ]
  },
  {
   "cell_type": "code",
   "execution_count": 2,
   "metadata": {},
   "outputs": [],
   "source": [
    "import numpy as np"
   ]
  },
  {
   "cell_type": "code",
   "execution_count": 3,
   "id": "37d4165c",
   "metadata": {},
   "outputs": [],
   "source": [
    "import pandas as pd"
   ]
  },
  {
   "cell_type": "code",
   "execution_count": 4,
   "metadata": {},
   "outputs": [],
   "source": [
    "from tqdm import tqdm"
   ]
  },
  {
   "cell_type": "code",
   "execution_count": 5,
   "metadata": {},
   "outputs": [],
   "source": [
    "import time, gc"
   ]
  },
  {
   "cell_type": "code",
   "execution_count": 6,
   "metadata": {},
   "outputs": [],
   "source": [
    "import importlib"
   ]
  },
  {
   "cell_type": "code",
   "execution_count": 7,
   "metadata": {},
   "outputs": [],
   "source": [
    "from itertools import product\n"
   ]
  },
  {
   "cell_type": "code",
   "execution_count": 8,
   "metadata": {},
   "outputs": [
    {
     "name": "stderr",
     "output_type": "stream",
     "text": [
      "OpenAI tiktoken module is not available for Python < 3.8,Linux ARM64 and AARCH64. Falling back to GPT2TokenizerFast.\n",
      "WARNING:haystack.nodes.answer_generator.openai:OpenAI tiktoken module is not available for Python < 3.8,Linux ARM64 and AARCH64. Falling back to GPT2TokenizerFast.\n"
     ]
    }
   ],
   "source": [
    "from util import util_elastic"
   ]
  },
  {
   "cell_type": "code",
   "execution_count": 9,
   "metadata": {},
   "outputs": [],
   "source": [
    "from util import util_pipeline_v2 as util_pipeline"
   ]
  },
  {
   "cell_type": "code",
   "execution_count": 10,
   "metadata": {},
   "outputs": [],
   "source": [
    "from util import util_experiment_juris_tcu as util_experiment"
   ]
  },
  {
   "cell_type": "code",
   "execution_count": 11,
   "id": "f911fcf2",
   "metadata": {},
   "outputs": [],
   "source": [
    "# Para ter repetibilidade nos resultados\n",
    "random_state = 1\n",
    "\n",
    "# Tratar valores infinitos (+ e -) como np.NaN\n",
    "pd.options.mode.use_inf_as_na = True\n",
    "\n",
    "# IMPORTANTE para tornar figuras interativas\n",
    "# %matplotlib notebook\n",
    "\n",
    "# Tamanho padrão das figuras\n",
    "figsize=(10,6)\n",
    "\n",
    "pd.set_option('display.max_row', 1000)\n",
    "\n",
    "pd.set_option('display.max_columns', 50)\n",
    "\n",
    "pd.set_option('display.column_space', 100)\n",
    "pd.set_option('display.max_colwidth', 200)\n",
    "pd.set_option('display.width', 200)\n"
   ]
  },
  {
   "cell_type": "code",
   "execution_count": 12,
   "metadata": {},
   "outputs": [],
   "source": [
    "DATASET_NAME = 'juris_tcu'"
   ]
  },
  {
   "cell_type": "code",
   "execution_count": 13,
   "id": "6e05b9a6",
   "metadata": {},
   "outputs": [],
   "source": [
    "PATH_QUERY = f'../data/{DATASET_NAME}/query.csv'\n",
    "PATH_QREL =  f'../data/{DATASET_NAME}/qrel.csv'"
   ]
  },
  {
   "attachments": {},
   "cell_type": "markdown",
   "metadata": {},
   "source": [
    "# Data load"
   ]
  },
  {
   "attachments": {},
   "cell_type": "markdown",
   "metadata": {},
   "source": [
    "## Query data load"
   ]
  },
  {
   "cell_type": "code",
   "execution_count": 14,
   "id": "1cf03f22",
   "metadata": {},
   "outputs": [],
   "source": [
    "df_query = pd.read_csv(PATH_QUERY)"
   ]
  },
  {
   "cell_type": "code",
   "execution_count": 15,
   "metadata": {},
   "outputs": [
    {
     "data": {
      "text/plain": [
       "(150, 3)"
      ]
     },
     "execution_count": 15,
     "metadata": {},
     "output_type": "execute_result"
    }
   ],
   "source": [
    "df_query.shape"
   ]
  },
  {
   "cell_type": "code",
   "execution_count": 16,
   "metadata": {},
   "outputs": [
    {
     "data": {
      "text/html": [
       "<div>\n",
       "<style scoped>\n",
       "    .dataframe tbody tr th:only-of-type {\n",
       "        vertical-align: middle;\n",
       "    }\n",
       "\n",
       "    .dataframe tbody tr th {\n",
       "        vertical-align: top;\n",
       "    }\n",
       "\n",
       "    .dataframe thead th {\n",
       "        text-align: right;\n",
       "    }\n",
       "</style>\n",
       "<table border=\"1\" class=\"dataframe\">\n",
       "  <thead>\n",
       "    <tr style=\"text-align: right;\">\n",
       "      <th></th>\n",
       "      <th>ID</th>\n",
       "      <th>TEXT</th>\n",
       "      <th>SOURCE</th>\n",
       "    </tr>\n",
       "  </thead>\n",
       "  <tbody>\n",
       "    <tr>\n",
       "      <th>0</th>\n",
       "      <td>1</td>\n",
       "      <td>técnica e preço</td>\n",
       "      <td>search log</td>\n",
       "    </tr>\n",
       "    <tr>\n",
       "      <th>1</th>\n",
       "      <td>2</td>\n",
       "      <td>restos a pagar</td>\n",
       "      <td>search log</td>\n",
       "    </tr>\n",
       "    <tr>\n",
       "      <th>2</th>\n",
       "      <td>3</td>\n",
       "      <td>aditivo a contrato</td>\n",
       "      <td>search log</td>\n",
       "    </tr>\n",
       "    <tr>\n",
       "      <th>3</th>\n",
       "      <td>4</td>\n",
       "      <td>adesão a ata de registro de preços</td>\n",
       "      <td>search log</td>\n",
       "    </tr>\n",
       "    <tr>\n",
       "      <th>4</th>\n",
       "      <td>5</td>\n",
       "      <td>sobrepreço e superfaturamento</td>\n",
       "      <td>search log</td>\n",
       "    </tr>\n",
       "  </tbody>\n",
       "</table>\n",
       "</div>"
      ],
      "text/plain": [
       "   ID                                TEXT      SOURCE\n",
       "0   1                     técnica e preço  search log\n",
       "1   2                      restos a pagar  search log\n",
       "2   3                  aditivo a contrato  search log\n",
       "3   4  adesão a ata de registro de preços  search log\n",
       "4   5       sobrepreço e superfaturamento  search log"
      ]
     },
     "execution_count": 16,
     "metadata": {},
     "output_type": "execute_result"
    }
   ],
   "source": [
    "df_query.head()"
   ]
  },
  {
   "cell_type": "code",
   "execution_count": 17,
   "metadata": {},
   "outputs": [],
   "source": [
    "df_query = df_query.reset_index(drop=True)"
   ]
  },
  {
   "attachments": {},
   "cell_type": "markdown",
   "metadata": {},
   "source": [
    "# Expand query"
   ]
  },
  {
   "attachments": {},
   "cell_type": "markdown",
   "metadata": {},
   "source": [
    "## Create reference to index (juris_tcu_index)"
   ]
  },
  {
   "cell_type": "code",
   "execution_count": 18,
   "metadata": {},
   "outputs": [],
   "source": [
    "INDEX_NAME = 'indir_juris_tcu_index'"
   ]
  },
  {
   "cell_type": "code",
   "execution_count": 19,
   "metadata": {},
   "outputs": [
    {
     "name": "stdout",
     "output_type": "stream",
     "text": [
      "\n",
      "Qtd de documentos 13255\n",
      "\n",
      "Qtd de embeddings 13255\n",
      "\n",
      "Documento.id=5: <Document: id=5, content='O termo é \"Abono de permanência em serviço\".\n",
      "Abono de permanência em serviço tem definição: \"O abono...'>\n"
     ]
    }
   ],
   "source": [
    "index = util_elastic.return_index(parm_index_name=INDEX_NAME)"
   ]
  },
  {
   "attachments": {},
   "cell_type": "markdown",
   "metadata": {},
   "source": [
    "## Create pipeline"
   ]
  },
  {
   "cell_type": "code",
   "execution_count": 20,
   "metadata": {},
   "outputs": [],
   "source": [
    "# Test query\n",
    "# parm_query = \"trata-se de uma denúncia contra o prefeito de Manhuaçu por não haver pago os funcionários da área de limpeza urbana\"\n",
    "parm_query = \"despesa sem cobertura contratual\""
   ]
  },
  {
   "cell_type": "code",
   "execution_count": 23,
   "metadata": {},
   "outputs": [],
   "source": [
    "pipes = []"
   ]
  },
  {
   "cell_type": "code",
   "execution_count": 21,
   "metadata": {},
   "outputs": [],
   "source": [
    "ranker_type = 'MINILM_INDIR' # 'MT5_3B' # 'MT5_TRAINED_LIM50_800' # 'MINILM_TRAINED_19000'"
   ]
  },
  {
   "cell_type": "code",
   "execution_count": 56,
   "metadata": {},
   "outputs": [],
   "source": [
    "FILTER_TERMO = {'class':['Termo']}"
   ]
  },
  {
   "cell_type": "code",
   "execution_count": 22,
   "metadata": {},
   "outputs": [
    {
     "name": "stdout",
     "output_type": "stream",
     "text": [
      "Loading MINILM_INDIR with limit_query_size=50\n",
      "CPU times: user 5.75 s, sys: 1.34 s, total: 7.09 s\n",
      "Wall time: 4.88 s\n"
     ]
    }
   ],
   "source": [
    "%%time\n",
    "pipe_bm25_ranker = util_pipeline.return_pipeline_bm25_reranker(index, ranker_type, parm_limit_query_size=50)"
   ]
  },
  {
   "cell_type": "code",
   "execution_count": 27,
   "metadata": {},
   "outputs": [
    {
     "data": {
      "text/plain": [
       "<module 'util.util_pipeline_v2' from '/home/borela/fontes/ind-ir/code/util/util_pipeline_v2.py'>"
      ]
     },
     "execution_count": 27,
     "metadata": {},
     "output_type": "execute_result"
    }
   ],
   "source": [
    "util_pipeline"
   ]
  },
  {
   "cell_type": "code",
   "execution_count": 24,
   "metadata": {},
   "outputs": [],
   "source": [
    "pipes.append({'PIPE_NAME': 'pipe_bm25_ranker',\n",
    "              'PIPE_OBJECT': pipe_bm25_ranker,\n",
    "              'RETRIEVER_TYPE': 'bm25',  \n",
    "              'RETRIEVER_MODEL_NAME': '', \n",
    "              'RANKER_MODEL_NAME': util_pipeline.return_ranker_name(ranker_type)})"
   ]
  },
  {
   "cell_type": "code",
   "execution_count": 28,
   "metadata": {},
   "outputs": [
    {
     "name": "stdout",
     "output_type": "stream",
     "text": [
      "Parâmetros usados: {'Retriever': {'top_k': 100, 'filters': {'count_index_total': {'$gte': 5}}}}\n",
      "Consulta: despesa sem cobertura contratual\n",
      "Qtd documentos retornados: 100\n",
      "Seguem os nomes dos termos recuperados em ordem de score\n",
      "0 : ['Custeio', '1102', 0.7551829218864441]\n",
      "1 : ['Contratado', '1933', 0.7444576025009155]\n",
      "2 : ['Contratação', '323', 0.7334334254264832]\n",
      "3 : ['Contrato', '330', 0.7210038304328918]\n",
      "4 : ['Pessoal', '1131', 0.7187904715538025]\n",
      "5 : ['Rescisão contratual', '1392', 0.7135781645774841]\n",
      "6 : ['Débito', '370', 0.712280809879303]\n",
      "7 : ['Despesa', '421', 0.7094370126724243]\n",
      "8 : ['Garantia contratual', '685', 0.7090778350830078]\n",
      "9 : ['Despesa de custeio', '2282', 0.6935034394264221]\n",
      "10 : ['Contrato administrativo', '331', 0.6914183497428894]\n"
     ]
    }
   ],
   "source": [
    "doctos_retornados_ranker = pipe_bm25_ranker.run(query=parm_query, params= {\"Retriever\":{\"top_k\":100, \"filters\": {\"count_index_total\": {\"$gte\": 5} }}})\n",
    "util_pipeline.detail_document_found(doctos_retornados_ranker)"
   ]
  },
  {
   "cell_type": "code",
   "execution_count": 51,
   "metadata": {},
   "outputs": [
    {
     "name": "stdout",
     "output_type": "stream",
     "text": [
      "Parâmetros usados: {'Retriever': {'top_k': 30, 'filters': {'count_index_total': {'$gte': 5}}}}\n",
      "Consulta: despesa sem cobertura contratual\n",
      "Qtd documentos retornados: 30\n",
      "Seguem os nomes dos termos recuperados em ordem de score\n",
      "0 : ['Custeio', '1102', 0.7552196979522705]\n",
      "1 : ['Contrato', '330', 0.7209886312484741]\n",
      "2 : ['Rescisão contratual', '1392', 0.7136325240135193]\n",
      "3 : ['Débito', '370', 0.7123396396636963]\n",
      "4 : ['Despesa', '421', 0.7094963192939758]\n",
      "5 : ['Garantia contratual', '685', 0.7090460062026978]\n",
      "6 : ['Despesa de custeio', '2282', 0.693473219871521]\n",
      "7 : ['Despesa com pessoal', '422', 0.6910837292671204]\n",
      "8 : ['Despesa de capital', '1100110', 0.6780967712402344]\n",
      "9 : ['Despesa pública', '691', 0.672822892665863]\n",
      "10 : ['Ordenação de despesa', '14780', 0.663760244846344]\n"
     ]
    }
   ],
   "source": [
    "doctos_retornados_ranker = pipe_bm25_ranker.run(query=parm_query, params= {\"Retriever\":{\"top_k\":30, \"filters\": {\"count_index_total\": {\"$gte\": 5} }}})\n",
    "util_pipeline.detail_document_found(doctos_retornados_ranker)"
   ]
  },
  {
   "cell_type": "code",
   "execution_count": 53,
   "metadata": {},
   "outputs": [
    {
     "name": "stdout",
     "output_type": "stream",
     "text": [
      "Parâmetros usados: {'Retriever': {'top_k': 30}}\n",
      "Consulta: despesa sem cobertura contratual\n",
      "Qtd documentos retornados: 30\n",
      "Seguem os nomes dos termos recuperados em ordem de score\n",
      "0 : ['Gestão contratual', '1104190', 0.7272295951843262]\n",
      "1 : ['Despesa sem prévio empenho', '1104589', 0.7147460579872131]\n",
      "2 : ['Rescisão contratual', '1392', 0.7135682106018066]\n",
      "3 : ['Despesa', '421', 0.7094001770019531]\n",
      "4 : ['Garantia contratual', '685', 0.7090669274330139]\n",
      "5 : ['Despesa de custeio', '2282', 0.6934110522270203]\n",
      "6 : ['Despesa com pessoal', '422', 0.6909393668174744]\n",
      "7 : ['Despesa sigilosa', '15088', 0.6875855326652527]\n",
      "8 : ['Despesa de capital', '1100110', 0.6781857013702393]\n",
      "9 : ['Despesa pública', '691', 0.6727723479270935]\n",
      "10 : ['Despesa empenhada', '1104137', 0.6721410155296326]\n"
     ]
    }
   ],
   "source": [
    "doctos_retornados_ranker = pipe_bm25_ranker.run(query=parm_query, params= {\"Retriever\":{\"top_k\":30}})\n",
    "util_pipeline.detail_document_found(doctos_retornados_ranker)"
   ]
  },
  {
   "cell_type": "code",
   "execution_count": 57,
   "metadata": {},
   "outputs": [
    {
     "name": "stdout",
     "output_type": "stream",
     "text": [
      "Parâmetros usados: {'Retriever': {'top_k': 50, 'filters': {'class': ['Termo']}}}\n",
      "Consulta: despesa sem cobertura contratual\n",
      "Qtd documentos retornados: 50\n",
      "Seguem os nomes dos termos recuperados em ordem de score\n",
      "0 : ['Custeio', '1102', 0.7552196979522705]\n",
      "1 : ['Gestão contratual', '1104190', 0.7272684574127197]\n",
      "2 : ['Despesa sem prévio empenho', '1104589', 0.7146958112716675]\n",
      "3 : ['Rescisão contratual', '1392', 0.7136325240135193]\n",
      "4 : ['Débito', '370', 0.7123396396636963]\n",
      "5 : ['Despesa', '421', 0.7094963192939758]\n",
      "6 : ['Garantia contratual', '685', 0.7090460062026978]\n",
      "7 : ['Despesa de custeio', '2282', 0.693473219871521]\n",
      "8 : ['Despesa com pessoal', '422', 0.6910837292671204]\n",
      "9 : ['Despesa sigilosa', '15088', 0.6876567602157593]\n",
      "10 : ['Despesa de capital', '1100110', 0.6780967712402344]\n"
     ]
    }
   ],
   "source": [
    "doctos_retornados_ranker = pipe_bm25_ranker.run(query=parm_query, params= {\"Retriever\":{\"top_k\":50, \"filters\": FILTER_TERMO}})\n",
    "util_pipeline.detail_document_found(doctos_retornados_ranker)"
   ]
  },
  {
   "attachments": {},
   "cell_type": "markdown",
   "metadata": {},
   "source": [
    "### sts"
   ]
  },
  {
   "cell_type": "code",
   "execution_count": 32,
   "metadata": {},
   "outputs": [
    {
     "name": "stdout",
     "output_type": "stream",
     "text": [
      "CPU times: user 3.16 s, sys: 593 ms, total: 3.76 s\n",
      "Wall time: 2.06 s\n"
     ]
    }
   ],
   "source": [
    "%%time\n",
    "pipe_join_bm25_sts_reranker = util_pipeline.return_pipeline_join_bm25_sts_reranker(index, ranker_type, parm_limit_query_size=50)"
   ]
  },
  {
   "cell_type": "code",
   "execution_count": 33,
   "metadata": {},
   "outputs": [],
   "source": [
    "pipes.append({'PIPE_NAME': 'pipe_join_bm25_sts_reranker',\n",
    "              'PIPE_OBJECT': pipe_join_bm25_sts_reranker,\n",
    "              'RETRIEVER_TYPE': 'join_sts_bm25',  \n",
    "              'RETRIEVER_MODEL_NAME': '', \n",
    "              'RANKER_MODEL_NAME': util_pipeline.return_ranker_name(ranker_type)})"
   ]
  },
  {
   "cell_type": "code",
   "execution_count": 60,
   "metadata": {},
   "outputs": [
    {
     "name": "stdout",
     "output_type": "stream",
     "text": [
      "Parâmetros usados: {'Bm25Retriever': {'top_k': 100}, 'StsRetriever': {'top_k': 100}, 'Ranker': {'top_k': 20}, 'filters': {'class': ['Termo']}}\n",
      "Consulta: despesa sem cobertura contratual\n",
      "Qtd documentos retornados: 20\n",
      "Seguem os nomes dos termos recuperados em ordem de score\n",
      "0 : ['Custeio', '1102', 0.7551999688148499]\n",
      "1 : ['Contratado', '1933', 0.7444170713424683]\n",
      "2 : ['Gestão contratual', '1104190', 0.7272078990936279]\n",
      "3 : ['Contrato', '330', 0.7210281491279602]\n",
      "4 : ['Despesa sem prévio empenho', '1104589', 0.7147282958030701]\n",
      "5 : ['Rescisão contratual', '1392', 0.713564395904541]\n",
      "6 : ['Débito', '370', 0.7122265100479126]\n",
      "7 : ['Despesa', '421', 0.709392249584198]\n",
      "8 : ['Garantia contratual', '685', 0.7090484499931335]\n",
      "9 : ['Despesa de custeio', '2282', 0.6934869289398193]\n",
      "10 : ['Despesa com pessoal', '422', 0.6910235285758972]\n",
      "CPU times: user 436 ms, sys: 24.9 ms, total: 461 ms\n",
      "Wall time: 520 ms\n"
     ]
    }
   ],
   "source": [
    "%%time\n",
    "doctos_retornados_ranker = pipe_join_bm25_sts_reranker.run(query=parm_query, \n",
    " params={\"Bm25Retriever\": {\"top_k\": 100}, \"StsRetriever\": {\"top_k\": 100}, \"Ranker\": {\"top_k\": 20}, \"filters\": FILTER_TERMO})\n",
    "util_pipeline.detail_document_found(doctos_retornados_ranker)"
   ]
  },
  {
   "cell_type": "code",
   "execution_count": 61,
   "metadata": {},
   "outputs": [
    {
     "name": "stdout",
     "output_type": "stream",
     "text": [
      "Parâmetros usados: {'Bm25Retriever': {'top_k': 50}, 'StsRetriever': {'top_k': 100}, 'Ranker': {'top_k': 30}, 'filters': {'class': ['Termo']}}\n",
      "Consulta: despesa sem cobertura contratual\n",
      "Qtd documentos retornados: 30\n",
      "Seguem os nomes dos termos recuperados em ordem de score\n",
      "0 : ['Custeio', '1102', 0.7552196979522705]\n",
      "1 : ['Gestão contratual', '1104190', 0.7272684574127197]\n",
      "2 : ['Despesa sem prévio empenho', '1104589', 0.7146958112716675]\n",
      "3 : ['Rescisão contratual', '1392', 0.7136325240135193]\n",
      "4 : ['Débito', '370', 0.7123396396636963]\n",
      "5 : ['Despesa', '421', 0.7094963192939758]\n",
      "6 : ['Garantia contratual', '685', 0.7090460062026978]\n",
      "7 : ['Despesa de custeio', '2282', 0.693473219871521]\n",
      "8 : ['Despesa com pessoal', '422', 0.6910837292671204]\n",
      "9 : ['Despesa sigilosa', '15088', 0.6876567602157593]\n",
      "10 : ['Passivo trabalhista', '15319', 0.6796528697013855]\n",
      "11 : ['Despesa de capital', '1100110', 0.6780967712402344]\n",
      "12 : ['Duplicata', '1100738', 0.6780412197113037]\n",
      "13 : ['Passivo financeiro', '4506', 0.6774709820747375]\n",
      "14 : ['Despesa pública', '691', 0.672822892665863]\n",
      "15 : ['Despesa empenhada', '1104137', 0.672101616859436]\n",
      "16 : ['Seguro garantia', '1937', 0.6719723343849182]\n",
      "17 : ['Cobertura (Obra pública)', '5093', 0.6645718812942505]\n",
      "18 : ['Ordenação de despesa', '14780', 0.663760244846344]\n",
      "19 : ['Contrapartida', '15152', 0.6629807353019714]\n",
      "20 : ['Execução da despesa', '1101060', 0.6602120399475098]\n",
      "21 : ['Despesa corrente', '1104117', 0.6553247570991516]\n",
      "22 : ['Déficit orçamentário', '1100386', 0.6421927213668823]\n",
      "23 : ['Outras despesas correntes', '1104160', 0.6393581628799438]\n",
      "24 : ['Revisão contratual', '2060', 0.638386607170105]\n",
      "25 : ['Despesa especial', '1104118', 0.6380429863929749]\n",
      "26 : ['Empenho estimativo', '1104612', 0.635413408279419]\n",
      "27 : ['Passivo', '4486', 0.6315983533859253]\n",
      "28 : ['Passivo compensado', '4488', 0.6273208260536194]\n",
      "29 : ['Nota de empenho de despesa', '1961', 0.6271917819976807]\n",
      "CPU times: user 327 ms, sys: 0 ns, total: 327 ms\n",
      "Wall time: 335 ms\n"
     ]
    }
   ],
   "source": [
    "%%time\n",
    "doctos_retornados_ranker = pipe_join_bm25_sts_reranker.run(query=parm_query, \n",
    " params={\"Bm25Retriever\": {\"top_k\": 50}, \"StsRetriever\": {\"top_k\": 100}, \"Ranker\": {\"top_k\": 30}, \"filters\": FILTER_TERMO})\n",
    "util_pipeline.detail_document_found(doctos_retornados_ranker, 30)"
   ]
  },
  {
   "cell_type": "code",
   "execution_count": 62,
   "metadata": {},
   "outputs": [
    {
     "name": "stdout",
     "output_type": "stream",
     "text": [
      "Parâmetros usados: {'Bm25Retriever': {'top_k': 100}, 'StsRetriever': {'top_k': 50}, 'Ranker': {'top_k': 30}, 'filters': {'class': ['Termo']}}\n",
      "Consulta: despesa sem cobertura contratual\n",
      "Qtd documentos retornados: 30\n",
      "Seguem os nomes dos termos recuperados em ordem de score\n",
      "0 : ['Custeio', '1102', 0.7551999688148499]\n",
      "1 : ['Contratado', '1933', 0.7444170713424683]\n",
      "2 : ['Gestão contratual', '1104190', 0.7272078990936279]\n",
      "3 : ['Contrato', '330', 0.7210281491279602]\n",
      "4 : ['Despesa sem prévio empenho', '1104589', 0.7147282958030701]\n",
      "5 : ['Rescisão contratual', '1392', 0.713564395904541]\n",
      "6 : ['Débito', '370', 0.7122265100479126]\n",
      "7 : ['Despesa', '421', 0.709392249584198]\n",
      "8 : ['Garantia contratual', '685', 0.7090484499931335]\n",
      "9 : ['Despesa de custeio', '2282', 0.6934869289398193]\n",
      "10 : ['Despesa com pessoal', '422', 0.6910235285758972]\n",
      "11 : ['Subempenho', '1108701', 0.6895459890365601]\n",
      "12 : ['Despesa sigilosa', '15088', 0.6875990033149719]\n",
      "13 : ['Despesa de capital', '1100110', 0.6782376170158386]\n",
      "14 : ['Passivo financeiro', '4506', 0.677436113357544]\n",
      "15 : ['Gasto com saúde', '1104642', 0.6768887639045715]\n",
      "16 : ['Despesa pública', '691', 0.6728011965751648]\n",
      "17 : ['Despesa empenhada', '1104137', 0.6721366047859192]\n",
      "18 : ['Seguro garantia', '1937', 0.6720250844955444]\n",
      "19 : ['Cobertura (Obra pública)', '5093', 0.6646734476089478]\n",
      "20 : ['Ordenação de despesa', '14780', 0.6637349724769592]\n",
      "21 : ['Contrapartida', '15152', 0.6629859209060669]\n",
      "22 : ['Execução da despesa', '1101060', 0.660200297832489]\n",
      "23 : ['Despesa corrente', '1104117', 0.6553244590759277]\n",
      "24 : ['LRF', '4797', 0.6428621411323547]\n",
      "25 : ['Déficit orçamentário', '1100386', 0.6421918272972107]\n",
      "26 : ['Outras despesas correntes', '1104160', 0.6393758058547974]\n",
      "27 : ['Licença sem remuneração', '14959', 0.6385183930397034]\n",
      "28 : ['Revisão contratual', '2060', 0.638511061668396]\n",
      "29 : ['Despesa especial', '1104118', 0.6380166411399841]\n",
      "CPU times: user 343 ms, sys: 1.17 ms, total: 345 ms\n",
      "Wall time: 350 ms\n"
     ]
    }
   ],
   "source": [
    "%%time\n",
    "doctos_retornados_ranker = pipe_join_bm25_sts_reranker.run(query=parm_query, \n",
    " params={\"Bm25Retriever\": {\"top_k\": 100}, \"StsRetriever\": {\"top_k\": 50}, \"Ranker\": {\"top_k\": 30}, \"filters\": FILTER_TERMO})\n",
    "util_pipeline.detail_document_found(doctos_retornados_ranker, 30)"
   ]
  },
  {
   "cell_type": "code",
   "execution_count": 63,
   "metadata": {},
   "outputs": [
    {
     "name": "stdout",
     "output_type": "stream",
     "text": [
      "Parâmetros usados: {'Bm25Retriever': {'top_k': 50}, 'StsRetriever': {'top_k': 50}, 'Ranker': {'top_k': 30}, 'filters': {'class': ['Termo']}}\n",
      "Consulta: despesa sem cobertura contratual\n",
      "Qtd documentos retornados: 30\n",
      "Seguem os nomes dos termos recuperados em ordem de score\n",
      "0 : ['Custeio', '1102', 0.7552024126052856]\n",
      "1 : ['Gestão contratual', '1104190', 0.7272229194641113]\n",
      "2 : ['Despesa sem prévio empenho', '1104589', 0.7147223949432373]\n",
      "3 : ['Rescisão contratual', '1392', 0.7135782241821289]\n",
      "4 : ['Débito', '370', 0.7123968005180359]\n",
      "5 : ['Despesa', '421', 0.7094459533691406]\n",
      "6 : ['Garantia contratual', '685', 0.709092378616333]\n",
      "7 : ['Despesa de custeio', '2282', 0.6934863924980164]\n",
      "8 : ['Despesa com pessoal', '422', 0.6909219026565552]\n",
      "9 : ['Despesa sigilosa', '15088', 0.6876651048660278]\n",
      "10 : ['Despesa de capital', '1100110', 0.678149938583374]\n",
      "11 : ['Passivo financeiro', '4506', 0.6774552464485168]\n",
      "12 : ['Despesa pública', '691', 0.6728728413581848]\n",
      "13 : ['Despesa empenhada', '1104137', 0.6721331477165222]\n",
      "14 : ['Seguro garantia', '1937', 0.6720420122146606]\n",
      "15 : ['Cobertura (Obra pública)', '5093', 0.6647610664367676]\n",
      "16 : ['Ordenação de despesa', '14780', 0.6637254953384399]\n",
      "17 : ['Contrapartida', '15152', 0.6630709767341614]\n",
      "18 : ['Execução da despesa', '1101060', 0.660194456577301]\n",
      "19 : ['Despesa corrente', '1104117', 0.6553729772567749]\n",
      "20 : ['Déficit orçamentário', '1100386', 0.6421710252761841]\n",
      "21 : ['Outras despesas correntes', '1104160', 0.6393407583236694]\n",
      "22 : ['Revisão contratual', '2060', 0.6384444236755371]\n",
      "23 : ['Despesa especial', '1104118', 0.6380353569984436]\n",
      "24 : ['Empenho estimativo', '1104612', 0.6354206800460815]\n",
      "25 : ['Passivo compensado', '4488', 0.6274428963661194]\n",
      "26 : ['Nota de empenho de despesa', '1961', 0.6271131634712219]\n",
      "27 : ['Contratação direta', '327', 0.6233003735542297]\n",
      "28 : ['Empenho global', '1104615', 0.6186985969543457]\n",
      "29 : ['Plano de custeio', '5343', 0.6160061359405518]\n",
      "CPU times: user 217 ms, sys: 12.2 ms, total: 229 ms\n",
      "Wall time: 237 ms\n"
     ]
    }
   ],
   "source": [
    "%%time\n",
    "doctos_retornados_ranker = pipe_join_bm25_sts_reranker.run(query=parm_query, \n",
    " params={\"Bm25Retriever\": {\"top_k\": 50}, \"StsRetriever\": {\"top_k\": 50}, \"Ranker\": {\"top_k\": 30}, \"filters\": FILTER_TERMO})\n",
    "util_pipeline.detail_document_found(doctos_retornados_ranker, 30)"
   ]
  },
  {
   "cell_type": "code",
   "execution_count": 64,
   "metadata": {},
   "outputs": [
    {
     "name": "stdout",
     "output_type": "stream",
     "text": [
      "Parâmetros usados: {'Bm25Retriever': {'top_k': 30}, 'StsRetriever': {'top_k': 30}, 'Ranker': {'top_k': 30}, 'filters': {'class': ['Termo']}}\n",
      "Consulta: despesa sem cobertura contratual\n",
      "Qtd documentos retornados: 30\n",
      "Seguem os nomes dos termos recuperados em ordem de score\n",
      "0 : ['Gestão contratual', '1104190', 0.7272229194641113]\n",
      "1 : ['Despesa sem prévio empenho', '1104589', 0.7147223949432373]\n",
      "2 : ['Rescisão contratual', '1392', 0.7135782241821289]\n",
      "3 : ['Despesa', '421', 0.7094459533691406]\n",
      "4 : ['Garantia contratual', '685', 0.709092378616333]\n",
      "5 : ['Despesa de custeio', '2282', 0.6934863924980164]\n",
      "6 : ['Despesa com pessoal', '422', 0.6909219026565552]\n",
      "7 : ['Despesa sigilosa', '15088', 0.6876651048660278]\n",
      "8 : ['Despesa de capital', '1100110', 0.678149938583374]\n",
      "9 : ['Passivo financeiro', '4506', 0.6774552464485168]\n",
      "10 : ['Despesa pública', '691', 0.6728728413581848]\n",
      "11 : ['Despesa empenhada', '1104137', 0.6721331477165222]\n",
      "12 : ['Seguro garantia', '1937', 0.6720420122146606]\n",
      "13 : ['Cobertura (Obra pública)', '5093', 0.6647610664367676]\n",
      "14 : ['Ordenação de despesa', '14780', 0.6637254953384399]\n",
      "15 : ['Contrapartida', '15152', 0.6630709767341614]\n",
      "16 : ['Execução da despesa', '1101060', 0.660194456577301]\n",
      "17 : ['Despesa corrente', '1104117', 0.6553729772567749]\n",
      "18 : ['Revisão contratual', '2060', 0.6384444236755371]\n",
      "19 : ['Despesa especial', '1104118', 0.6380353569984436]\n",
      "20 : ['Empenho estimativo', '1104612', 0.6354206800460815]\n",
      "21 : ['Passivo compensado', '4488', 0.6274428963661194]\n",
      "22 : ['Nota de empenho de despesa', '1961', 0.6271131634712219]\n",
      "23 : ['Plano de custeio', '5343', 0.6160061359405518]\n",
      "24 : ['Evento sem ônus', '1104010', 0.6034024357795715]\n",
      "25 : ['Empenho', '497', 0.6000274419784546]\n",
      "26 : ['Cobertura (Saúde)', '2181', 0.5993077754974365]\n",
      "27 : ['Compensação financeira', '15292', 0.5939280986785889]\n",
      "28 : ['Alteração contratual', '2547', 0.5925551056861877]\n",
      "29 : ['Regime de execução contratual', '14904', 0.5917832255363464]\n",
      "CPU times: user 142 ms, sys: 26.8 ms, total: 168 ms\n",
      "Wall time: 177 ms\n"
     ]
    }
   ],
   "source": [
    "%%time\n",
    "doc_return = pipe_join_bm25_sts_reranker.run(query=parm_query, \n",
    " params={\"Bm25Retriever\": {\"top_k\": 30}, \"StsRetriever\": {\"top_k\": 30}, \"Ranker\": {\"top_k\": 30}, \"filters\": FILTER_TERMO})\n",
    "util_pipeline.detail_document_found(doc_return, 30)"
   ]
  },
  {
   "cell_type": "code",
   "execution_count": 48,
   "metadata": {},
   "outputs": [
    {
     "name": "stdout",
     "output_type": "stream",
     "text": [
      "Gestão contratual\n",
      "Despesa sem prévio empenho\n",
      "Rescisão contratual\n",
      "Despesa\n",
      "Garantia contratual\n"
     ]
    }
   ],
   "source": [
    "for docto in doc_return['documents'][:5]:\n",
    "    print(docto.meta['name'])"
   ]
  },
  {
   "attachments": {},
   "cell_type": "markdown",
   "metadata": {},
   "source": [
    "## Create expansion"
   ]
  },
  {
   "cell_type": "code",
   "execution_count": 100,
   "metadata": {},
   "outputs": [],
   "source": [
    "from unidecode import unidecode\n",
    "import string\n",
    "import re\n",
    "\n",
    "def normalize_text(text):\n",
    "    # Remover acentos\n",
    "    text_normalized = unidecode(text)\n",
    "    # Remover espaços duplicados e espaços extras à direita e à esquerda\n",
    "    text_normalized = re.sub('\\s+', ' ', text_normalized).strip()\n",
    "    # Remover pontuações\n",
    "    text_normalized = ''.join(c for c in text_normalized.lower() if c not in string.punctuation)\n",
    "    return text_normalized\n"
   ]
  },
  {
   "cell_type": "code",
   "execution_count": 105,
   "metadata": {},
   "outputs": [],
   "source": [
    "from unidecode import unidecode"
   ]
  },
  {
   "cell_type": "code",
   "execution_count": 120,
   "metadata": {},
   "outputs": [],
   "source": [
    "def set_normalize_text(text):\n",
    "    # Remover espaços duplicados e espaços extras à direita e à esquerda\n",
    "    text = re.sub(r'\\s+', ' ', text.lower()).strip()\n",
    "    # Remover acentos e caracteres especiais\n",
    "    text = unidecode(text)\n",
    "    # Separar as palavras em substrings\n",
    "    words = text.split()\n",
    "    # Retornar um conjunto de palavras normalizadas\n",
    "    return set(words)"
   ]
  },
  {
   "cell_type": "code",
   "execution_count": 121,
   "metadata": {},
   "outputs": [],
   "source": [
    "def test_similar_or_subtext(text1, text2):\n",
    "    normalized_text1 = set_normalize_text(text1)\n",
    "    normalized_text2 = set_normalize_text(text2)\n",
    "    return normalized_text1 == normalized_text2 or normalized_text1.issubset(normalized_text2)\n"
   ]
  },
  {
   "cell_type": "code",
   "execution_count": 123,
   "metadata": {},
   "outputs": [
    {
     "data": {
      "text/plain": [
       "{'bem.', 'como', 'esta', 'ola', 'vai', 'voc?'}"
      ]
     },
     "execution_count": 123,
     "metadata": {},
     "output_type": "execute_result"
    }
   ],
   "source": [
    "set_normalize_text('olá comO   vai voc? está bem.')"
   ]
  },
  {
   "cell_type": "code",
   "execution_count": 129,
   "metadata": {},
   "outputs": [
    {
     "data": {
      "text/plain": [
       "False"
      ]
     },
     "execution_count": 129,
     "metadata": {},
     "output_type": "execute_result"
    }
   ],
   "source": [
    "test_similar_or_subtext(\"Licitação de técnica e preço\",\"técnica e preço\")"
   ]
  },
  {
   "cell_type": "code",
   "execution_count": 124,
   "metadata": {},
   "outputs": [],
   "source": [
    "def expand_query(parm_pipe, parm_df_query, num_expansion_max):\n",
    "    if num_expansion_max > 30:\n",
    "        raise Exception('Review limit in code for num_expansion_max of 30!')\n",
    "    count_expansion = [inteiro + 1 for inteiro in range(num_expansion_max)]\n",
    "    for index, row in tqdm(parm_df_query.iterrows()):\n",
    "        query_id = row['ID']\n",
    "        doc_return = parm_pipe.run(query=row['TEXT'], params={\"Bm25Retriever\": {\"top_k\": 30}, \"StsRetriever\": {\"top_k\": 30}, \"Ranker\": {\"top_k\": num_expansion_max}, \"filters\": FILTER_TERMO})\n",
    "\n",
    "        termos = []\n",
    "        for docto in doc_return['documents'][:num_expansion_max * 2]:\n",
    "            if not test_similar_or_subtext(docto.meta['name'], row['TEXT']): # and docto.meta['name'] not in termos:\n",
    "                termos.append(docto.meta['name'])\n",
    "            if len(termos) == num_expansion_max:\n",
    "                break\n",
    "        # print(len(termos), termos)\n",
    "\n",
    "        for count in count_expansion:\n",
    "            col_name = f\"{count}\"\n",
    "            termos_concatenados = ', '.join(termos[:count]).rstrip(', ')\n",
    "            parm_df_query.loc[index, col_name] = f\"{row['TEXT']} - {termos_concatenados}\"\n"
   ]
  },
  {
   "cell_type": "code",
   "execution_count": 125,
   "metadata": {},
   "outputs": [],
   "source": [
    "df_query = pd.read_csv(PATH_QUERY)"
   ]
  },
  {
   "cell_type": "code",
   "execution_count": 126,
   "metadata": {},
   "outputs": [
    {
     "name": "stderr",
     "output_type": "stream",
     "text": [
      "150it [00:23,  6.28it/s]"
     ]
    },
    {
     "name": "stdout",
     "output_type": "stream",
     "text": [
      "CPU times: user 23.2 s, sys: 305 ms, total: 23.5 s\n",
      "Wall time: 23.9 s\n"
     ]
    },
    {
     "name": "stderr",
     "output_type": "stream",
     "text": [
      "\n"
     ]
    }
   ],
   "source": [
    "%%time\n",
    "expand_query(parm_pipe = pipe_join_bm25_sts_reranker, parm_df_query=df_query, num_expansion_max=10)"
   ]
  },
  {
   "cell_type": "code",
   "execution_count": 127,
   "metadata": {},
   "outputs": [
    {
     "data": {
      "text/html": [
       "<div>\n",
       "<style scoped>\n",
       "    .dataframe tbody tr th:only-of-type {\n",
       "        vertical-align: middle;\n",
       "    }\n",
       "\n",
       "    .dataframe tbody tr th {\n",
       "        vertical-align: top;\n",
       "    }\n",
       "\n",
       "    .dataframe thead th {\n",
       "        text-align: right;\n",
       "    }\n",
       "</style>\n",
       "<table border=\"1\" class=\"dataframe\">\n",
       "  <thead>\n",
       "    <tr style=\"text-align: right;\">\n",
       "      <th></th>\n",
       "      <th>ID</th>\n",
       "      <th>TEXT</th>\n",
       "      <th>SOURCE</th>\n",
       "      <th>1</th>\n",
       "      <th>2</th>\n",
       "      <th>3</th>\n",
       "      <th>4</th>\n",
       "      <th>5</th>\n",
       "      <th>6</th>\n",
       "      <th>7</th>\n",
       "      <th>8</th>\n",
       "      <th>9</th>\n",
       "      <th>10</th>\n",
       "    </tr>\n",
       "  </thead>\n",
       "  <tbody>\n",
       "    <tr>\n",
       "      <th>0</th>\n",
       "      <td>1</td>\n",
       "      <td>técnica e preço</td>\n",
       "      <td>search log</td>\n",
       "      <td>técnica e preço - Licitação de técnica e preço</td>\n",
       "      <td>técnica e preço - Licitação de técnica e preço, Proposta técnica</td>\n",
       "      <td>técnica e preço - Licitação de técnica e preço, Proposta técnica, Preço médio</td>\n",
       "      <td>técnica e preço - Licitação de técnica e preço, Proposta técnica, Preço médio, Preço de mercado</td>\n",
       "      <td>técnica e preço - Licitação de técnica e preço, Proposta técnica, Preço médio, Preço de mercado, Técnica jurídica</td>\n",
       "      <td>técnica e preço - Licitação de técnica e preço, Proposta técnica, Preço médio, Preço de mercado, Técnica jurídica, Proposta de preço</td>\n",
       "      <td>técnica e preço - Licitação de técnica e preço, Proposta técnica, Preço médio, Preço de mercado, Técnica jurídica, Proposta de preço, Preço máximo</td>\n",
       "      <td>técnica e preço - Licitação de técnica e preço, Proposta técnica, Preço médio, Preço de mercado, Técnica jurídica, Proposta de preço, Preço máximo, Preço estimado</td>\n",
       "      <td>técnica e preço - Licitação de técnica e preço, Proposta técnica, Preço médio, Preço de mercado, Técnica jurídica, Proposta de preço, Preço máximo, Preço estimado, Proposta</td>\n",
       "      <td>técnica e preço - Licitação de técnica e preço, Proposta técnica, Preço médio, Preço de mercado, Técnica jurídica, Proposta de preço, Preço máximo, Preço estimado, Proposta</td>\n",
       "    </tr>\n",
       "    <tr>\n",
       "      <th>1</th>\n",
       "      <td>2</td>\n",
       "      <td>restos a pagar</td>\n",
       "      <td>search log</td>\n",
       "      <td>restos a pagar - Recolhimento</td>\n",
       "      <td>restos a pagar - Recolhimento, Recompensa</td>\n",
       "      <td>restos a pagar - Recolhimento, Recompensa, Dívida</td>\n",
       "      <td>restos a pagar - Recolhimento, Recompensa, Dívida, Obrigação</td>\n",
       "      <td>restos a pagar - Recolhimento, Recompensa, Dívida, Obrigação, Nota de empenho de despesa</td>\n",
       "      <td>restos a pagar - Recolhimento, Recompensa, Dívida, Obrigação, Nota de empenho de despesa, Empenho</td>\n",
       "      <td>restos a pagar - Recolhimento, Recompensa, Dívida, Obrigação, Nota de empenho de despesa, Empenho, Recibado</td>\n",
       "      <td>restos a pagar - Recolhimento, Recompensa, Dívida, Obrigação, Nota de empenho de despesa, Empenho, Recibado, Pagamento indevido</td>\n",
       "      <td>restos a pagar - Recolhimento, Recompensa, Dívida, Obrigação, Nota de empenho de despesa, Empenho, Recibado, Pagamento indevido, Seguro de vida</td>\n",
       "      <td>restos a pagar - Recolhimento, Recompensa, Dívida, Obrigação, Nota de empenho de despesa, Empenho, Recibado, Pagamento indevido, Seguro de vida</td>\n",
       "    </tr>\n",
       "    <tr>\n",
       "      <th>2</th>\n",
       "      <td>3</td>\n",
       "      <td>aditivo a contrato</td>\n",
       "      <td>search log</td>\n",
       "      <td>aditivo a contrato - Termo aditivo</td>\n",
       "      <td>aditivo a contrato - Termo aditivo, Acréscimo</td>\n",
       "      <td>aditivo a contrato - Termo aditivo, Acréscimo, Reprovabilidade</td>\n",
       "      <td>aditivo a contrato - Termo aditivo, Acréscimo, Reprovabilidade, Atualização</td>\n",
       "      <td>aditivo a contrato - Termo aditivo, Acréscimo, Reprovabilidade, Atualização, Reformulação</td>\n",
       "      <td>aditivo a contrato - Termo aditivo, Acréscimo, Reprovabilidade, Atualização, Reformulação, Reenquadramento</td>\n",
       "      <td>aditivo a contrato - Termo aditivo, Acréscimo, Reprovabilidade, Atualização, Reformulação, Reenquadramento, Contrato administrativo</td>\n",
       "      <td>aditivo a contrato - Termo aditivo, Acréscimo, Reprovabilidade, Atualização, Reformulação, Reenquadramento, Contrato administrativo, Contrato de escopo</td>\n",
       "      <td>aditivo a contrato - Termo aditivo, Acréscimo, Reprovabilidade, Atualização, Reformulação, Reenquadramento, Contrato administrativo, Contrato de escopo</td>\n",
       "      <td>aditivo a contrato - Termo aditivo, Acréscimo, Reprovabilidade, Atualização, Reformulação, Reenquadramento, Contrato administrativo, Contrato de escopo</td>\n",
       "    </tr>\n",
       "    <tr>\n",
       "      <th>3</th>\n",
       "      <td>4</td>\n",
       "      <td>adesão a ata de registro de preços</td>\n",
       "      <td>search log</td>\n",
       "      <td>adesão a ata de registro de preços - Sistema de Registro de Preços</td>\n",
       "      <td>adesão a ata de registro de preços - Sistema de Registro de Preços, Ato sujeito a registro</td>\n",
       "      <td>adesão a ata de registro de preços - Sistema de Registro de Preços, Ato sujeito a registro, Intenção de Registro de Preços</td>\n",
       "      <td>adesão a ata de registro de preços - Sistema de Registro de Preços, Ato sujeito a registro, Intenção de Registro de Preços, Autoridade de registro</td>\n",
       "      <td>adesão a ata de registro de preços - Sistema de Registro de Preços, Ato sujeito a registro, Intenção de Registro de Preços, Autoridade de registro, Planilha de custos e formação de preços</td>\n",
       "      <td>adesão a ata de registro de preços - Sistema de Registro de Preços, Ato sujeito a registro, Intenção de Registro de Preços, Autoridade de registro, Planilha de custos e formação de preços</td>\n",
       "      <td>adesão a ata de registro de preços - Sistema de Registro de Preços, Ato sujeito a registro, Intenção de Registro de Preços, Autoridade de registro, Planilha de custos e formação de preços</td>\n",
       "      <td>adesão a ata de registro de preços - Sistema de Registro de Preços, Ato sujeito a registro, Intenção de Registro de Preços, Autoridade de registro, Planilha de custos e formação de preços</td>\n",
       "      <td>adesão a ata de registro de preços - Sistema de Registro de Preços, Ato sujeito a registro, Intenção de Registro de Preços, Autoridade de registro, Planilha de custos e formação de preços</td>\n",
       "      <td>adesão a ata de registro de preços - Sistema de Registro de Preços, Ato sujeito a registro, Intenção de Registro de Preços, Autoridade de registro, Planilha de custos e formação de preços</td>\n",
       "    </tr>\n",
       "    <tr>\n",
       "      <th>4</th>\n",
       "      <td>5</td>\n",
       "      <td>sobrepreço e superfaturamento</td>\n",
       "      <td>search log</td>\n",
       "      <td>sobrepreço e superfaturamento - Faturamento</td>\n",
       "      <td>sobrepreço e superfaturamento - Faturamento, Excesso</td>\n",
       "      <td>sobrepreço e superfaturamento - Faturamento, Excesso, Preço</td>\n",
       "      <td>sobrepreço e superfaturamento - Faturamento, Excesso, Preço, Validade</td>\n",
       "      <td>sobrepreço e superfaturamento - Faturamento, Excesso, Preço, Validade, Licitação</td>\n",
       "      <td>sobrepreço e superfaturamento - Faturamento, Excesso, Preço, Validade, Licitação, Indústria, inovação e infraestrutura</td>\n",
       "      <td>sobrepreço e superfaturamento - Faturamento, Excesso, Preço, Validade, Licitação, Indústria, inovação e infraestrutura, Bens e serviços de informática</td>\n",
       "      <td>sobrepreço e superfaturamento - Faturamento, Excesso, Preço, Validade, Licitação, Indústria, inovação e infraestrutura, Bens e serviços de informática, Paz, justiça e instituições fortes</td>\n",
       "      <td>sobrepreço e superfaturamento - Faturamento, Excesso, Preço, Validade, Licitação, Indústria, inovação e infraestrutura, Bens e serviços de informática, Paz, justiça e instituições fortes</td>\n",
       "      <td>sobrepreço e superfaturamento - Faturamento, Excesso, Preço, Validade, Licitação, Indústria, inovação e infraestrutura, Bens e serviços de informática, Paz, justiça e instituições fortes</td>\n",
       "    </tr>\n",
       "  </tbody>\n",
       "</table>\n",
       "</div>"
      ],
      "text/plain": [
       "   ID                                TEXT      SOURCE                                                                   1  \\\n",
       "0   1                     técnica e preço  search log                      técnica e preço - Licitação de técnica e preço   \n",
       "1   2                      restos a pagar  search log                                       restos a pagar - Recolhimento   \n",
       "2   3                  aditivo a contrato  search log                                  aditivo a contrato - Termo aditivo   \n",
       "3   4  adesão a ata de registro de preços  search log  adesão a ata de registro de preços - Sistema de Registro de Preços   \n",
       "4   5       sobrepreço e superfaturamento  search log                         sobrepreço e superfaturamento - Faturamento   \n",
       "\n",
       "                                                                                            2  \\\n",
       "0                            técnica e preço - Licitação de técnica e preço, Proposta técnica   \n",
       "1                                                   restos a pagar - Recolhimento, Recompensa   \n",
       "2                                               aditivo a contrato - Termo aditivo, Acréscimo   \n",
       "3  adesão a ata de registro de preços - Sistema de Registro de Preços, Ato sujeito a registro   \n",
       "4                                        sobrepreço e superfaturamento - Faturamento, Excesso   \n",
       "\n",
       "                                                                                                                            3  \\\n",
       "0                                               técnica e preço - Licitação de técnica e preço, Proposta técnica, Preço médio   \n",
       "1                                                                           restos a pagar - Recolhimento, Recompensa, Dívida   \n",
       "2                                                              aditivo a contrato - Termo aditivo, Acréscimo, Reprovabilidade   \n",
       "3  adesão a ata de registro de preços - Sistema de Registro de Preços, Ato sujeito a registro, Intenção de Registro de Preços   \n",
       "4                                                                 sobrepreço e superfaturamento - Faturamento, Excesso, Preço   \n",
       "\n",
       "                                                                                                                                                    4  \\\n",
       "0                                                     técnica e preço - Licitação de técnica e preço, Proposta técnica, Preço médio, Preço de mercado   \n",
       "1                                                                                        restos a pagar - Recolhimento, Recompensa, Dívida, Obrigação   \n",
       "2                                                                         aditivo a contrato - Termo aditivo, Acréscimo, Reprovabilidade, Atualização   \n",
       "3  adesão a ata de registro de preços - Sistema de Registro de Preços, Ato sujeito a registro, Intenção de Registro de Preços, Autoridade de registro   \n",
       "4                                                                               sobrepreço e superfaturamento - Faturamento, Excesso, Preço, Validade   \n",
       "\n",
       "                                                                                                                                                                                             5  \\\n",
       "0                                                                            técnica e preço - Licitação de técnica e preço, Proposta técnica, Preço médio, Preço de mercado, Técnica jurídica   \n",
       "1                                                                                                     restos a pagar - Recolhimento, Recompensa, Dívida, Obrigação, Nota de empenho de despesa   \n",
       "2                                                                                                    aditivo a contrato - Termo aditivo, Acréscimo, Reprovabilidade, Atualização, Reformulação   \n",
       "3  adesão a ata de registro de preços - Sistema de Registro de Preços, Ato sujeito a registro, Intenção de Registro de Preços, Autoridade de registro, Planilha de custos e formação de preços   \n",
       "4                                                                                                             sobrepreço e superfaturamento - Faturamento, Excesso, Preço, Validade, Licitação   \n",
       "\n",
       "                                                                                                                                                                                             6  \\\n",
       "0                                                         técnica e preço - Licitação de técnica e preço, Proposta técnica, Preço médio, Preço de mercado, Técnica jurídica, Proposta de preço   \n",
       "1                                                                                            restos a pagar - Recolhimento, Recompensa, Dívida, Obrigação, Nota de empenho de despesa, Empenho   \n",
       "2                                                                                   aditivo a contrato - Termo aditivo, Acréscimo, Reprovabilidade, Atualização, Reformulação, Reenquadramento   \n",
       "3  adesão a ata de registro de preços - Sistema de Registro de Preços, Ato sujeito a registro, Intenção de Registro de Preços, Autoridade de registro, Planilha de custos e formação de preços   \n",
       "4                                                                       sobrepreço e superfaturamento - Faturamento, Excesso, Preço, Validade, Licitação, Indústria, inovação e infraestrutura   \n",
       "\n",
       "                                                                                                                                                                                             7  \\\n",
       "0                                           técnica e preço - Licitação de técnica e preço, Proposta técnica, Preço médio, Preço de mercado, Técnica jurídica, Proposta de preço, Preço máximo   \n",
       "1                                                                                  restos a pagar - Recolhimento, Recompensa, Dívida, Obrigação, Nota de empenho de despesa, Empenho, Recibado   \n",
       "2                                                          aditivo a contrato - Termo aditivo, Acréscimo, Reprovabilidade, Atualização, Reformulação, Reenquadramento, Contrato administrativo   \n",
       "3  adesão a ata de registro de preços - Sistema de Registro de Preços, Ato sujeito a registro, Intenção de Registro de Preços, Autoridade de registro, Planilha de custos e formação de preços   \n",
       "4                                       sobrepreço e superfaturamento - Faturamento, Excesso, Preço, Validade, Licitação, Indústria, inovação e infraestrutura, Bens e serviços de informática   \n",
       "\n",
       "                                                                                                                                                                                             8  \\\n",
       "0                           técnica e preço - Licitação de técnica e preço, Proposta técnica, Preço médio, Preço de mercado, Técnica jurídica, Proposta de preço, Preço máximo, Preço estimado   \n",
       "1                                                              restos a pagar - Recolhimento, Recompensa, Dívida, Obrigação, Nota de empenho de despesa, Empenho, Recibado, Pagamento indevido   \n",
       "2                                      aditivo a contrato - Termo aditivo, Acréscimo, Reprovabilidade, Atualização, Reformulação, Reenquadramento, Contrato administrativo, Contrato de escopo   \n",
       "3  adesão a ata de registro de preços - Sistema de Registro de Preços, Ato sujeito a registro, Intenção de Registro de Preços, Autoridade de registro, Planilha de custos e formação de preços   \n",
       "4   sobrepreço e superfaturamento - Faturamento, Excesso, Preço, Validade, Licitação, Indústria, inovação e infraestrutura, Bens e serviços de informática, Paz, justiça e instituições fortes   \n",
       "\n",
       "                                                                                                                                                                                             9  \\\n",
       "0                 técnica e preço - Licitação de técnica e preço, Proposta técnica, Preço médio, Preço de mercado, Técnica jurídica, Proposta de preço, Preço máximo, Preço estimado, Proposta   \n",
       "1                                              restos a pagar - Recolhimento, Recompensa, Dívida, Obrigação, Nota de empenho de despesa, Empenho, Recibado, Pagamento indevido, Seguro de vida   \n",
       "2                                      aditivo a contrato - Termo aditivo, Acréscimo, Reprovabilidade, Atualização, Reformulação, Reenquadramento, Contrato administrativo, Contrato de escopo   \n",
       "3  adesão a ata de registro de preços - Sistema de Registro de Preços, Ato sujeito a registro, Intenção de Registro de Preços, Autoridade de registro, Planilha de custos e formação de preços   \n",
       "4   sobrepreço e superfaturamento - Faturamento, Excesso, Preço, Validade, Licitação, Indústria, inovação e infraestrutura, Bens e serviços de informática, Paz, justiça e instituições fortes   \n",
       "\n",
       "                                                                                                                                                                                            10  \n",
       "0                 técnica e preço - Licitação de técnica e preço, Proposta técnica, Preço médio, Preço de mercado, Técnica jurídica, Proposta de preço, Preço máximo, Preço estimado, Proposta  \n",
       "1                                              restos a pagar - Recolhimento, Recompensa, Dívida, Obrigação, Nota de empenho de despesa, Empenho, Recibado, Pagamento indevido, Seguro de vida  \n",
       "2                                      aditivo a contrato - Termo aditivo, Acréscimo, Reprovabilidade, Atualização, Reformulação, Reenquadramento, Contrato administrativo, Contrato de escopo  \n",
       "3  adesão a ata de registro de preços - Sistema de Registro de Preços, Ato sujeito a registro, Intenção de Registro de Preços, Autoridade de registro, Planilha de custos e formação de preços  \n",
       "4   sobrepreço e superfaturamento - Faturamento, Excesso, Preço, Validade, Licitação, Indústria, inovação e infraestrutura, Bens e serviços de informática, Paz, justiça e instituições fortes  "
      ]
     },
     "execution_count": 127,
     "metadata": {},
     "output_type": "execute_result"
    }
   ],
   "source": [
    "df_query.head()"
   ]
  },
  {
   "cell_type": "code",
   "execution_count": null,
   "metadata": {},
   "outputs": [],
   "source": [
    "name_expansor = 'join_bm25_sts_30_minilm_indir'"
   ]
  },
  {
   "cell_type": "code",
   "execution_count": null,
   "metadata": {},
   "outputs": [],
   "source": [
    "path_expansion = f'../data/juris_tcu_expanded_query/query_10_expansion_{name_expansor}.csv'"
   ]
  },
  {
   "cell_type": "code",
   "execution_count": 131,
   "metadata": {},
   "outputs": [],
   "source": [
    "df_query.to_csv(path_expansion, index=False)"
   ]
  }
 ],
 "metadata": {
  "kernelspec": {
   "display_name": "relevar-busca",
   "language": "python",
   "name": "python3"
  },
  "language_info": {
   "codemirror_mode": {
    "name": "ipython",
    "version": 3
   },
   "file_extension": ".py",
   "mimetype": "text/x-python",
   "name": "python",
   "nbconvert_exporter": "python",
   "pygments_lexer": "ipython3",
   "version": "3.7.13"
  },
  "orig_nbformat": 4,
  "vscode": {
   "interpreter": {
    "hash": "45978bf3509deeb93161d1472b16f82a40245d44c2beae6c63ad8f9bb3f69171"
   }
  }
 },
 "nbformat": 4,
 "nbformat_minor": 2
}
