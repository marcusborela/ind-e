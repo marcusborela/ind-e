{
 "cells": [
  {
   "attachments": {},
   "cell_type": "markdown",
   "id": "998a4011",
   "metadata": {},
   "source": [
    "# Imports and preparation"
   ]
  },
  {
   "cell_type": "code",
   "execution_count": 1,
   "metadata": {},
   "outputs": [],
   "source": [
    "import os"
   ]
  },
  {
   "cell_type": "code",
   "execution_count": 2,
   "metadata": {},
   "outputs": [],
   "source": [
    "import numpy as np"
   ]
  },
  {
   "cell_type": "code",
   "execution_count": 3,
   "id": "37d4165c",
   "metadata": {},
   "outputs": [],
   "source": [
    "import pandas as pd"
   ]
  },
  {
   "cell_type": "code",
   "execution_count": 4,
   "metadata": {},
   "outputs": [],
   "source": [
    "from tqdm import tqdm"
   ]
  },
  {
   "cell_type": "code",
   "execution_count": 5,
   "metadata": {},
   "outputs": [],
   "source": [
    "import time, gc"
   ]
  },
  {
   "cell_type": "code",
   "execution_count": 6,
   "metadata": {},
   "outputs": [],
   "source": [
    "import importlib"
   ]
  },
  {
   "cell_type": "code",
   "execution_count": 7,
   "metadata": {},
   "outputs": [],
   "source": [
    "from itertools import product\n"
   ]
  },
  {
   "cell_type": "code",
   "execution_count": 8,
   "metadata": {},
   "outputs": [
    {
     "name": "stderr",
     "output_type": "stream",
     "text": [
      "OpenAI tiktoken module is not available for Python < 3.8,Linux ARM64 and AARCH64. Falling back to GPT2TokenizerFast.\n",
      "WARNING:haystack.nodes.answer_generator.openai:OpenAI tiktoken module is not available for Python < 3.8,Linux ARM64 and AARCH64. Falling back to GPT2TokenizerFast.\n"
     ]
    }
   ],
   "source": [
    "from util import util_elastic"
   ]
  },
  {
   "cell_type": "code",
   "execution_count": 9,
   "metadata": {},
   "outputs": [],
   "source": [
    "from util import util_pipeline_v2 as util_pipeline"
   ]
  },
  {
   "cell_type": "code",
   "execution_count": 10,
   "metadata": {},
   "outputs": [],
   "source": [
    "from util import util_experiment_juris_tcu as util_experiment"
   ]
  },
  {
   "cell_type": "code",
   "execution_count": 11,
   "id": "f911fcf2",
   "metadata": {},
   "outputs": [],
   "source": [
    "# Para ter repetibilidade nos resultados\n",
    "random_state = 1\n",
    "\n",
    "# Tratar valores infinitos (+ e -) como np.NaN\n",
    "pd.options.mode.use_inf_as_na = True\n",
    "\n",
    "# IMPORTANTE para tornar figuras interativas\n",
    "# %matplotlib notebook\n",
    "\n",
    "# Tamanho padrão das figuras\n",
    "figsize=(10,6)\n",
    "\n",
    "pd.set_option('display.max_row', 1000)\n",
    "\n",
    "pd.set_option('display.max_columns', 50)\n",
    "\n",
    "pd.set_option('display.column_space', 100)\n",
    "pd.set_option('display.max_colwidth', 200)\n",
    "pd.set_option('display.width', 200)\n"
   ]
  },
  {
   "cell_type": "code",
   "execution_count": 12,
   "metadata": {},
   "outputs": [],
   "source": [
    "DATASET_NAME = 'juris_tcu'"
   ]
  },
  {
   "cell_type": "code",
   "execution_count": 13,
   "id": "6e05b9a6",
   "metadata": {},
   "outputs": [],
   "source": [
    "PATH_QUERY = f'../data/{DATASET_NAME}/query.csv'\n",
    "PATH_QREL =  f'../data/{DATASET_NAME}/qrel.csv'"
   ]
  },
  {
   "attachments": {},
   "cell_type": "markdown",
   "metadata": {},
   "source": [
    "# Data load"
   ]
  },
  {
   "attachments": {},
   "cell_type": "markdown",
   "metadata": {},
   "source": [
    "## Query data load"
   ]
  },
  {
   "cell_type": "code",
   "execution_count": 14,
   "id": "1cf03f22",
   "metadata": {},
   "outputs": [],
   "source": [
    "df_query = pd.read_csv(PATH_QUERY)"
   ]
  },
  {
   "cell_type": "code",
   "execution_count": 15,
   "metadata": {},
   "outputs": [
    {
     "data": {
      "text/plain": [
       "(150, 3)"
      ]
     },
     "execution_count": 15,
     "metadata": {},
     "output_type": "execute_result"
    }
   ],
   "source": [
    "df_query.shape"
   ]
  },
  {
   "cell_type": "code",
   "execution_count": 16,
   "metadata": {},
   "outputs": [
    {
     "data": {
      "text/html": [
       "<div>\n",
       "<style scoped>\n",
       "    .dataframe tbody tr th:only-of-type {\n",
       "        vertical-align: middle;\n",
       "    }\n",
       "\n",
       "    .dataframe tbody tr th {\n",
       "        vertical-align: top;\n",
       "    }\n",
       "\n",
       "    .dataframe thead th {\n",
       "        text-align: right;\n",
       "    }\n",
       "</style>\n",
       "<table border=\"1\" class=\"dataframe\">\n",
       "  <thead>\n",
       "    <tr style=\"text-align: right;\">\n",
       "      <th></th>\n",
       "      <th>ID</th>\n",
       "      <th>TEXT</th>\n",
       "      <th>SOURCE</th>\n",
       "    </tr>\n",
       "  </thead>\n",
       "  <tbody>\n",
       "    <tr>\n",
       "      <th>0</th>\n",
       "      <td>1</td>\n",
       "      <td>técnica e preço</td>\n",
       "      <td>search log</td>\n",
       "    </tr>\n",
       "    <tr>\n",
       "      <th>1</th>\n",
       "      <td>2</td>\n",
       "      <td>restos a pagar</td>\n",
       "      <td>search log</td>\n",
       "    </tr>\n",
       "    <tr>\n",
       "      <th>2</th>\n",
       "      <td>3</td>\n",
       "      <td>aditivo a contrato</td>\n",
       "      <td>search log</td>\n",
       "    </tr>\n",
       "    <tr>\n",
       "      <th>3</th>\n",
       "      <td>4</td>\n",
       "      <td>adesão a ata de registro de preços</td>\n",
       "      <td>search log</td>\n",
       "    </tr>\n",
       "    <tr>\n",
       "      <th>4</th>\n",
       "      <td>5</td>\n",
       "      <td>sobrepreço e superfaturamento</td>\n",
       "      <td>search log</td>\n",
       "    </tr>\n",
       "  </tbody>\n",
       "</table>\n",
       "</div>"
      ],
      "text/plain": [
       "   ID                                TEXT      SOURCE\n",
       "0   1                     técnica e preço  search log\n",
       "1   2                      restos a pagar  search log\n",
       "2   3                  aditivo a contrato  search log\n",
       "3   4  adesão a ata de registro de preços  search log\n",
       "4   5       sobrepreço e superfaturamento  search log"
      ]
     },
     "execution_count": 16,
     "metadata": {},
     "output_type": "execute_result"
    }
   ],
   "source": [
    "df_query.head()"
   ]
  },
  {
   "cell_type": "code",
   "execution_count": 17,
   "metadata": {},
   "outputs": [],
   "source": [
    "df_query = df_query.reset_index(drop=True)"
   ]
  },
  {
   "attachments": {},
   "cell_type": "markdown",
   "metadata": {},
   "source": [
    "# Expand query"
   ]
  },
  {
   "attachments": {},
   "cell_type": "markdown",
   "metadata": {},
   "source": [
    "## Create reference to index (juris_tcu_index)"
   ]
  },
  {
   "cell_type": "code",
   "execution_count": 18,
   "metadata": {},
   "outputs": [],
   "source": [
    "INDEX_NAME = 'indir_juris_tcu_index'"
   ]
  },
  {
   "cell_type": "code",
   "execution_count": 19,
   "metadata": {},
   "outputs": [
    {
     "name": "stdout",
     "output_type": "stream",
     "text": [
      "\n",
      "Qtd de documentos 13255\n",
      "\n",
      "Qtd de embeddings 13255\n",
      "\n",
      "Documento.id=5: <Document: id=5, content='O termo é \"Abono de permanência em serviço\".\n",
      "Abono de permanência em serviço tem definição: \"O abono...'>\n"
     ]
    }
   ],
   "source": [
    "index = util_elastic.return_index(parm_index_name=INDEX_NAME)"
   ]
  },
  {
   "attachments": {},
   "cell_type": "markdown",
   "metadata": {},
   "source": [
    "## Create pipeline"
   ]
  },
  {
   "cell_type": "code",
   "execution_count": 20,
   "metadata": {},
   "outputs": [],
   "source": [
    "# Test query\n",
    "# parm_query = \"trata-se de uma denúncia contra o prefeito de Manhuaçu por não haver pago os funcionários da área de limpeza urbana\"\n",
    "parm_query = \"despesa sem cobertura contratual\""
   ]
  },
  {
   "cell_type": "code",
   "execution_count": 21,
   "metadata": {},
   "outputs": [],
   "source": [
    "pipes = []"
   ]
  },
  {
   "cell_type": "code",
   "execution_count": 22,
   "metadata": {},
   "outputs": [],
   "source": [
    "ranker_type = 'PTT5_BASE' #'PTT5_INDIR_83' # 'MT5_3B' # 'MT5_TRAINED_LIM50_800' # 'MINILM_TRAINED_19000'"
   ]
  },
  {
   "cell_type": "code",
   "execution_count": 23,
   "metadata": {},
   "outputs": [],
   "source": [
    "FILTER_TERMO = {'class':['Termo']}"
   ]
  },
  {
   "cell_type": "code",
   "execution_count": 24,
   "metadata": {},
   "outputs": [
    {
     "ename": "Exception",
     "evalue": "Para aqui",
     "output_type": "error",
     "traceback": [
      "\u001b[0;31m---------------------------------------------------------------------------\u001b[0m",
      "\u001b[0;31mException\u001b[0m                                 Traceback (most recent call last)",
      "\u001b[0;32m/tmp/ipykernel_1278416/953306622.py\u001b[0m in \u001b[0;36m<module>\u001b[0;34m\u001b[0m\n\u001b[0;32m----> 1\u001b[0;31m \u001b[0;32mraise\u001b[0m \u001b[0mException\u001b[0m\u001b[0;34m(\u001b[0m\u001b[0;34m'Para aqui'\u001b[0m\u001b[0;34m)\u001b[0m\u001b[0;34m\u001b[0m\u001b[0;34m\u001b[0m\u001b[0m\n\u001b[0m",
      "\u001b[0;31mException\u001b[0m: Para aqui"
     ]
    }
   ],
   "source": [
    "raise Exception('Para aqui')"
   ]
  },
  {
   "attachments": {},
   "cell_type": "markdown",
   "metadata": {},
   "source": [
    "### bm25"
   ]
  },
  {
   "cell_type": "code",
   "execution_count": null,
   "metadata": {},
   "outputs": [
    {
     "name": "stdout",
     "output_type": "stream",
     "text": [
      "Loading PTT5_BASE with limit_query_size=50\n",
      "CPU times: user 8.42 s, sys: 1.53 s, total: 9.95 s\n",
      "Wall time: 5.42 s\n"
     ]
    }
   ],
   "source": [
    "%%time\n",
    "pipe_bm25_ranker = util_pipeline.return_pipeline_bm25_reranker(index, ranker_type, parm_limit_query_size=50)"
   ]
  },
  {
   "cell_type": "code",
   "execution_count": null,
   "metadata": {},
   "outputs": [],
   "source": [
    "pipes.append({'PIPE_NAME': 'pipe_bm25_ranker',\n",
    "              'PIPE_OBJECT': pipe_bm25_ranker,\n",
    "              'RETRIEVER_TYPE': 'bm25',  \n",
    "              'RETRIEVER_MODEL_NAME': '', \n",
    "              'RANKER_MODEL_NAME': util_pipeline.return_ranker_name(ranker_type)})"
   ]
  },
  {
   "cell_type": "code",
   "execution_count": null,
   "metadata": {},
   "outputs": [
    {
     "name": "stdout",
     "output_type": "stream",
     "text": [
      "Parâmetros usados: {'Retriever': {'top_k': 100, 'filters': {'count_index_total': {'$gte': 5}}}}\n",
      "Consulta: despesa sem cobertura contratual\n",
      "Qtd documentos retornados: 100\n",
      "Seguem os nomes dos termos recuperados em ordem de score\n",
      "0 : ['Garantia contratual', '685', -0.02296389825642109]\n",
      "1 : ['Contrato administrativo', '331', -0.025627218186855316]\n",
      "2 : ['Contrato', '330', -0.11136246472597122]\n",
      "3 : ['Inexecução', '800', -0.18585744500160217]\n",
      "4 : ['Pessoal', '1131', -0.21178676187992096]\n",
      "5 : ['Termo de contrato', '1981', -0.30699557065963745]\n",
      "6 : ['Despesa', '421', -0.38263654708862305]\n",
      "7 : ['Prorrogação de contrato', '1292', -0.4399843215942383]\n",
      "8 : ['Débito', '370', -0.575980007648468]\n",
      "9 : ['Dispensa de licitação', '459', -0.6767076253890991]\n",
      "10 : ['Contratado', '1933', -0.7043430805206299]\n"
     ]
    }
   ],
   "source": [
    "doctos_retornados_ranker = pipe_bm25_ranker.run(query=parm_query, params= {\"Retriever\":{\"top_k\":100, \"filters\": {\"count_index_total\": {\"$gte\": 5} }}})\n",
    "util_pipeline.detail_document_found(doctos_retornados_ranker)"
   ]
  },
  {
   "cell_type": "code",
   "execution_count": null,
   "metadata": {},
   "outputs": [
    {
     "name": "stdout",
     "output_type": "stream",
     "text": [
      "Parâmetros usados: {'Retriever': {'top_k': 30, 'filters': {'count_index_total': {'$gte': 5}}}}\n",
      "Consulta: despesa sem cobertura contratual\n",
      "Qtd documentos retornados: 30\n",
      "Seguem os nomes dos termos recuperados em ordem de score\n",
      "0 : ['Garantia contratual', '685', -0.02296389825642109]\n",
      "1 : ['Contrato', '330', -0.11135894805192947]\n",
      "2 : ['Inexecução', '800', -0.18585744500160217]\n",
      "3 : ['Despesa', '421', -0.38263654708862305]\n",
      "4 : ['Débito', '370', -0.575980007648468]\n",
      "5 : ['Contratação direta', '327', -1.0081050395965576]\n",
      "6 : ['Liquidação da despesa', '950', -1.2624561786651611]\n",
      "7 : ['Ordenação de despesa', '14780', -1.2977583408355713]\n",
      "8 : ['Despesa pública', '691', -1.6750495433807373]\n",
      "9 : ['Despesa de custeio', '2282', -2.073354959487915]\n",
      "10 : ['Custeio', '1102', -2.1612818241119385]\n"
     ]
    }
   ],
   "source": [
    "doctos_retornados_ranker = pipe_bm25_ranker.run(query=parm_query, params= {\"Retriever\":{\"top_k\":30, \"filters\": {\"count_index_total\": {\"$gte\": 5} }}})\n",
    "util_pipeline.detail_document_found(doctos_retornados_ranker)"
   ]
  },
  {
   "cell_type": "code",
   "execution_count": null,
   "metadata": {},
   "outputs": [
    {
     "name": "stdout",
     "output_type": "stream",
     "text": [
      "Parâmetros usados: {'Retriever': {'top_k': 30}}\n",
      "Consulta: despesa sem cobertura contratual\n",
      "Qtd documentos retornados: 30\n",
      "Seguem os nomes dos termos recuperados em ordem de score\n",
      "0 : ['Garantia contratual', '685', -0.022963782772421837]\n",
      "1 : ['Gestão contratual', '1104190', -0.2078995257616043]\n",
      "2 : ['Despesa sem prévio empenho', '1104589', -0.31134384870529175]\n",
      "3 : ['Despesa', '421', -0.38272443413734436]\n",
      "4 : ['Carta contrato', '1929', -0.9164692759513855]\n",
      "5 : ['Reconhecimento de dívida', '1105310', -1.077577829360962]\n",
      "6 : ['Despesa especial', '1104118', -1.1674960851669312]\n",
      "7 : ['Cobertura (Obra pública)', '5093', -1.1881086826324463]\n",
      "8 : ['Liquidação da despesa', '950', -1.2624561786651611]\n",
      "9 : ['Ordenação de despesa', '14780', -1.296999216079712]\n",
      "10 : ['Despesa pública', '691', -1.6742503643035889]\n"
     ]
    }
   ],
   "source": [
    "doctos_retornados_ranker = pipe_bm25_ranker.run(query=parm_query, params= {\"Retriever\":{\"top_k\":30}})\n",
    "util_pipeline.detail_document_found(doctos_retornados_ranker)"
   ]
  },
  {
   "cell_type": "code",
   "execution_count": null,
   "metadata": {},
   "outputs": [
    {
     "name": "stdout",
     "output_type": "stream",
     "text": [
      "Parâmetros usados: {'Retriever': {'top_k': 50, 'filters': {'class': ['Termo']}}}\n",
      "Consulta: despesa sem cobertura contratual\n",
      "Qtd documentos retornados: 50\n",
      "Seguem os nomes dos termos recuperados em ordem de score\n",
      "0 : ['Garantia contratual', '685', -0.022906577214598656]\n",
      "1 : ['Inexecução', '800', -0.1862320601940155]\n",
      "2 : ['Gestão contratual', '1104190', -0.20773528516292572]\n",
      "3 : ['Negativa de atendimento', '2196', -0.2135389894247055]\n",
      "4 : ['Despesa sem prévio empenho', '1104589', -0.31134384870529175]\n",
      "5 : ['Despesa', '421', -0.38272443413734436]\n",
      "6 : ['Débito', '370', -0.5758218765258789]\n",
      "7 : ['Carta contrato', '1929', -0.9164692759513855]\n",
      "8 : ['Contratação direta', '327', -1.0090245008468628]\n",
      "9 : ['Reconhecimento de dívida', '1105310', -1.077577829360962]\n",
      "10 : ['Despesa especial', '1104118', -1.168460726737976]\n"
     ]
    }
   ],
   "source": [
    "doctos_retornados_ranker = pipe_bm25_ranker.run(query=parm_query, params= {\"Retriever\":{\"top_k\":50, \"filters\": FILTER_TERMO}})\n",
    "util_pipeline.detail_document_found(doctos_retornados_ranker)"
   ]
  },
  {
   "attachments": {},
   "cell_type": "markdown",
   "metadata": {},
   "source": [
    "### join"
   ]
  },
  {
   "cell_type": "code",
   "execution_count": 25,
   "metadata": {},
   "outputs": [
    {
     "name": "stdout",
     "output_type": "stream",
     "text": [
      "Loading PTT5_BASE with limit_query_size=50\n",
      "CPU times: user 13.1 s, sys: 1.97 s, total: 15.1 s\n",
      "Wall time: 7.38 s\n"
     ]
    }
   ],
   "source": [
    "%%time\n",
    "pipe_join_bm25_sts_reranker = util_pipeline.return_pipeline_join_bm25_sts_reranker(index, ranker_type, parm_limit_query_size=50)"
   ]
  },
  {
   "cell_type": "code",
   "execution_count": 26,
   "metadata": {},
   "outputs": [],
   "source": [
    "pipes.append({'PIPE_NAME': 'pipe_join_bm25_sts_reranker',\n",
    "              'PIPE_OBJECT': pipe_join_bm25_sts_reranker,\n",
    "              'RETRIEVER_TYPE': 'join_sts_bm25',  \n",
    "              'RETRIEVER_MODEL_NAME': '', \n",
    "              'RANKER_MODEL_NAME': util_pipeline.return_ranker_name(ranker_type)})"
   ]
  },
  {
   "cell_type": "code",
   "execution_count": 27,
   "metadata": {},
   "outputs": [
    {
     "name": "stdout",
     "output_type": "stream",
     "text": [
      "Parâmetros usados: {'Bm25Retriever': {'top_k': 100}, 'StsRetriever': {'top_k': 100}, 'Ranker': {'top_k': 20}, 'filters': {'class': ['Termo']}}\n",
      "Consulta: despesa sem cobertura contratual\n",
      "Qtd documentos retornados: 20\n",
      "Seguem os nomes dos termos recuperados em ordem de score\n",
      "0 : ['Custo não renovável', '1104580', -0.3954627215862274]\n",
      "1 : ['Despesa sem prévio empenho', '1104589', -0.47731465101242065]\n",
      "2 : ['Dispensa sem justa causa', '5450', -2.2759792804718018]\n",
      "3 : ['Negativa de atendimento', '2196', -4.204003810882568]\n",
      "4 : ['CEPIM', '1102466', -4.908347129821777]\n",
      "5 : ['Evento sem ônus', '1104010', -5.777669429779053]\n",
      "6 : ['Reconhecimento de dívida', '1105310', -5.884185314178467]\n",
      "7 : ['Licença sem remuneração', '14959', -6.078151226043701]\n",
      "8 : ['Contratação direta', '327', -7.314028739929199]\n",
      "9 : ['Plano de saúde', '1145', -8.249095916748047]\n",
      "10 : ['Empenho', '497', -8.449996948242188]\n",
      "CPU times: user 1.58 s, sys: 72.2 ms, total: 1.66 s\n",
      "Wall time: 1.74 s\n"
     ]
    }
   ],
   "source": [
    "%%time\n",
    "doctos_retornados_ranker = pipe_join_bm25_sts_reranker.run(query=parm_query, \n",
    " params={\"Bm25Retriever\": {\"top_k\": 100}, \"StsRetriever\": {\"top_k\": 100}, \"Ranker\": {\"top_k\": 20}, \"filters\": FILTER_TERMO})\n",
    "util_pipeline.detail_document_found(doctos_retornados_ranker)"
   ]
  },
  {
   "cell_type": "code",
   "execution_count": null,
   "metadata": {},
   "outputs": [
    {
     "name": "stdout",
     "output_type": "stream",
     "text": [
      "Parâmetros usados: {'Bm25Retriever': {'top_k': 50}, 'StsRetriever': {'top_k': 100}, 'Ranker': {'top_k': 30}, 'filters': {'class': ['Termo']}}\n",
      "Consulta: despesa sem cobertura contratual\n",
      "Qtd documentos retornados: 30\n",
      "Seguem os nomes dos termos recuperados em ordem de score\n",
      "0 : ['Garantia contratual', '685', -0.02296389825642109]\n",
      "1 : ['Custo não renovável', '1104580', -0.04771995544433594]\n",
      "2 : ['Inexecução', '800', -0.18585774302482605]\n",
      "3 : ['Gestão contratual', '1104190', -0.20773528516292572]\n",
      "4 : ['Negativa de atendimento', '2196', -0.21367570757865906]\n",
      "5 : ['Despesa sem prévio empenho', '1104589', -0.31156131625175476]\n",
      "6 : ['Despesa', '421', -0.38263654708862305]\n",
      "7 : ['Débito', '370', -0.5751016139984131]\n",
      "8 : ['Plano de saúde', '1145', -0.7520239353179932]\n",
      "9 : ['Contrapartida', '15152', -0.846224844455719]\n",
      "10 : ['Carta contrato', '1929', -0.9168330430984497]\n",
      "11 : ['Contratação direta', '327', -1.007680892944336]\n",
      "12 : ['Reconhecimento de dívida', '1105310', -1.0774281024932861]\n",
      "13 : ['Passivo financeiro', '4506', -1.160717248916626]\n",
      "14 : ['Despesa especial', '1104118', -1.168460726737976]\n",
      "15 : ['Cobertura (Obra pública)', '5093', -1.1901191473007202]\n",
      "16 : ['Liquidação da despesa', '950', -1.2631193399429321]\n",
      "17 : ['Ordenação de despesa', '14780', -1.2977583408355713]\n",
      "18 : ['Concessão de garantia', '1119529', -1.3295133113861084]\n",
      "19 : ['Seguro privado', '1106932', -1.5065195560455322]\n",
      "20 : ['Execução financeira', '579', -1.5962265729904175]\n",
      "21 : ['Despesa pública', '691', -1.6750495433807373]\n",
      "22 : ['Despesa de custeio', '2282', -2.072561740875244]\n",
      "23 : ['Custeio', '1102', -2.1615283489227295]\n",
      "24 : ['Passivo', '4486', -2.177412986755371]\n",
      "25 : ['Seguro garantia', '1937', -2.417168140411377]\n",
      "26 : ['Compromisso de dívida', '1106499', -2.478283643722534]\n",
      "27 : ['Passivo permanente', '4505', -2.5923593044281006]\n",
      "28 : ['Regime de execução contratual', '14904', -2.63950514793396]\n",
      "29 : ['Outras despesas correntes', '1104160', -2.69972562789917]\n",
      "CPU times: user 1.34 s, sys: 0 ns, total: 1.34 s\n",
      "Wall time: 1.42 s\n"
     ]
    }
   ],
   "source": [
    "%%time\n",
    "doctos_retornados_ranker = pipe_join_bm25_sts_reranker.run(query=parm_query, \n",
    " params={\"Bm25Retriever\": {\"top_k\": 50}, \"StsRetriever\": {\"top_k\": 100}, \"Ranker\": {\"top_k\": 30}, \"filters\": FILTER_TERMO})\n",
    "util_pipeline.detail_document_found(doctos_retornados_ranker, 30)"
   ]
  },
  {
   "cell_type": "code",
   "execution_count": null,
   "metadata": {},
   "outputs": [
    {
     "name": "stdout",
     "output_type": "stream",
     "text": [
      "Parâmetros usados: {'Bm25Retriever': {'top_k': 100}, 'StsRetriever': {'top_k': 50}, 'Ranker': {'top_k': 30}, 'filters': {'class': ['Termo']}}\n",
      "Consulta: despesa sem cobertura contratual\n",
      "Qtd documentos retornados: 30\n",
      "Seguem os nomes dos termos recuperados em ordem de score\n",
      "0 : ['Garantia contratual', '685', -0.02296389825642109]\n",
      "1 : ['Custo não renovável', '1104580', -0.04771995544433594]\n",
      "2 : ['Contrato', '330', -0.11136246472597122]\n",
      "3 : ['Inexecução', '800', -0.18585774302482605]\n",
      "4 : ['Gestão contratual', '1104190', -0.20773528516292572]\n",
      "5 : ['Negativa de atendimento', '2196', -0.21367570757865906]\n",
      "6 : ['Despesa sem prévio empenho', '1104589', -0.31156131625175476]\n",
      "7 : ['Despesa', '421', -0.38263654708862305]\n",
      "8 : ['Débito', '370', -0.5751006603240967]\n",
      "9 : ['Dispensa de licitação', '459', -0.6776613593101501]\n",
      "10 : ['Contratado', '1933', -0.7043430805206299]\n",
      "11 : ['Plano de saúde', '1145', -0.7520239353179932]\n",
      "12 : ['Contrapartida', '15152', -0.846224844455719]\n",
      "13 : ['Carta contrato', '1929', -0.9168330430984497]\n",
      "14 : ['Contratação direta', '327', -1.007680892944336]\n",
      "15 : ['Reconhecimento de dívida', '1105310', -1.0774281024932861]\n",
      "16 : ['Passivo financeiro', '4506', -1.160717248916626]\n",
      "17 : ['Despesa especial', '1104118', -1.168460726737976]\n",
      "18 : ['Cobertura (Obra pública)', '5093', -1.1901191473007202]\n",
      "19 : ['Liquidação da despesa', '950', -1.2631193399429321]\n",
      "20 : ['Ordenação de despesa', '14780', -1.2977583408355713]\n",
      "21 : ['Concessão de garantia', '1119529', -1.3295133113861084]\n",
      "22 : ['Gastos discricionários', '1106560', -1.521104335784912]\n",
      "23 : ['Verba rescisória', '5386', -1.5675735473632812]\n",
      "24 : ['Execução financeira', '579', -1.5962265729904175]\n",
      "25 : ['Despesa pública', '691', -1.6750495433807373]\n",
      "26 : ['Despesa de custeio', '2282', -2.072561740875244]\n",
      "27 : ['Custeio', '1102', -2.1615283489227295]\n",
      "28 : ['Seguro garantia', '1937', -2.417168140411377]\n",
      "29 : ['Passivo permanente', '4505', -2.5923593044281006]\n",
      "CPU times: user 1.56 s, sys: 0 ns, total: 1.56 s\n",
      "Wall time: 1.62 s\n"
     ]
    }
   ],
   "source": [
    "%%time\n",
    "doctos_retornados_ranker = pipe_join_bm25_sts_reranker.run(query=parm_query, \n",
    " params={\"Bm25Retriever\": {\"top_k\": 100}, \"StsRetriever\": {\"top_k\": 50}, \"Ranker\": {\"top_k\": 30}, \"filters\": FILTER_TERMO})\n",
    "util_pipeline.detail_document_found(doctos_retornados_ranker, 30)"
   ]
  },
  {
   "cell_type": "code",
   "execution_count": 29,
   "metadata": {},
   "outputs": [
    {
     "name": "stdout",
     "output_type": "stream",
     "text": [
      "Parâmetros usados: {'Bm25Retriever': {'top_k': 50}, 'StsRetriever': {'top_k': 50}, 'Ranker': {'top_k': 30}, 'filters': {'class': ['Termo']}}\n",
      "Consulta: despesa sem cobertura contratual\n",
      "Qtd documentos retornados: 30\n",
      "Seguem os nomes dos termos recuperados em ordem de score\n",
      "0 : ['Custo não renovável', '1104580', -0.3954627215862274]\n",
      "1 : ['Despesa sem prévio empenho', '1104589', -0.47731465101242065]\n",
      "2 : ['Negativa de atendimento', '2196', -4.204003810882568]\n",
      "3 : ['Evento sem ônus', '1104010', -5.777669429779053]\n",
      "4 : ['Reconhecimento de dívida', '1105310', -5.884185314178467]\n",
      "5 : ['Contratação direta', '327', -7.314028739929199]\n",
      "6 : ['Plano de saúde', '1145', -8.249095916748047]\n",
      "7 : ['Empenho', '497', -8.447331428527832]\n",
      "8 : ['Empenho prévio', '1104618', -9.021744728088379]\n",
      "9 : ['Juros compensatórios', '1101030', -9.985469818115234]\n",
      "10 : ['Sub-rogação', '1487', -10.005921363830566]\n",
      "11 : ['Cobertura (Saúde)', '2181', -10.110730171203613]\n",
      "12 : ['Passivo compensado', '4488', -10.19416332244873]\n",
      "13 : ['Garantia contratual', '685', -10.266918182373047]\n",
      "14 : ['Insolvência', '15276', -10.360843658447266]\n",
      "15 : ['Contrapartida', '15152', -10.450790405273438]\n",
      "16 : ['Encampação', '6407', -10.481729507446289]\n",
      "17 : ['Seguro-desemprego', '3673', -10.551156997680664]\n",
      "18 : ['Inexequibilidade', '5089', -10.612195014953613]\n",
      "19 : ['Contingenciamento', '1101228', -10.620652198791504]\n",
      "20 : ['Execução da despesa', '1101060', -10.802484512329102]\n",
      "21 : ['Despesa empenhada', '1104137', -10.845071792602539]\n",
      "22 : ['Despesa', '421', -10.889969825744629]\n",
      "23 : ['Saldo devedor', '4110', -11.026566505432129]\n",
      "24 : ['Passivo financeiro', '4506', -11.034208297729492]\n",
      "25 : ['Empenho global', '1104615', -11.03657054901123]\n",
      "26 : ['Indício de irregularidade grave', '3503', -11.127486228942871]\n",
      "27 : ['Princípio da vedação ao enriquecimento sem causa', '1258', -11.156164169311523]\n",
      "28 : ['Nota de empenho de despesa', '1961', -11.157858848571777]\n",
      "29 : ['Empenho estimativo', '1104612', -11.183797836303711]\n",
      "CPU times: user 549 ms, sys: 15.3 ms, total: 564 ms\n",
      "Wall time: 615 ms\n"
     ]
    }
   ],
   "source": [
    "%%time\n",
    "doctos_retornados_ranker = pipe_join_bm25_sts_reranker.run(query=parm_query, \n",
    " params={\"Bm25Retriever\": {\"top_k\": 50}, \"StsRetriever\": {\"top_k\": 50}, \"Ranker\": {\"top_k\": 30}, \"filters\": FILTER_TERMO})\n",
    "util_pipeline.detail_document_found(doctos_retornados_ranker, 30)"
   ]
  },
  {
   "cell_type": "code",
   "execution_count": null,
   "metadata": {},
   "outputs": [
    {
     "name": "stdout",
     "output_type": "stream",
     "text": [
      "Parâmetros usados: {'Bm25Retriever': {'top_k': 30}, 'StsRetriever': {'top_k': 30}, 'Ranker': {'top_k': 30}, 'filters': {'class': ['Termo']}}\n",
      "Consulta: despesa sem cobertura contratual\n",
      "Qtd documentos retornados: 30\n",
      "Seguem os nomes dos termos recuperados em ordem de score\n",
      "0 : ['Garantia contratual', '685', -0.02296389825642109]\n",
      "1 : ['Custo não renovável', '1104580', -0.04771995544433594]\n",
      "2 : ['Gestão contratual', '1104190', -0.20767620205879211]\n",
      "3 : ['Despesa sem prévio empenho', '1104589', -0.31156131625175476]\n",
      "4 : ['Despesa', '421', -0.3824957013130188]\n",
      "5 : ['Plano de saúde', '1145', -0.7520239353179932]\n",
      "6 : ['Contrapartida', '15152', -0.846224844455719]\n",
      "7 : ['Carta contrato', '1929', -0.9168330430984497]\n",
      "8 : ['Reconhecimento de dívida', '1105310', -1.078168272972107]\n",
      "9 : ['Passivo financeiro', '4506', -1.160717248916626]\n",
      "10 : ['Despesa especial', '1104118', -1.1673153638839722]\n",
      "11 : ['Cobertura (Obra pública)', '5093', -1.1901191473007202]\n",
      "12 : ['Liquidação da despesa', '950', -1.2624561786651611]\n",
      "13 : ['Ordenação de despesa', '14780', -1.2977583408355713]\n",
      "14 : ['Concessão de garantia', '1119529', -1.3295133113861084]\n",
      "15 : ['Despesa pública', '691', -1.6750495433807373]\n",
      "16 : ['Despesa de custeio', '2282', -2.0734684467315674]\n",
      "17 : ['Seguro garantia', '1937', -2.417168140411377]\n",
      "18 : ['Regime de execução contratual', '14904', -2.642129421234131]\n",
      "19 : ['Despesa empenhada', '1104137', -2.7134170532226562]\n",
      "20 : ['Pagamento indevido', '2041', -2.8467135429382324]\n",
      "21 : ['Evento sem ônus', '1104010', -2.866006374359131]\n",
      "22 : ['Despesa de capital', '1100110', -2.901658058166504]\n",
      "23 : ['Fracionamento da despesa', '663', -2.939472198486328]\n",
      "24 : ['Seguro', '5890', -3.3396782875061035]\n",
      "25 : ['Rescisão contratual', '1392', -3.698085069656372]\n",
      "26 : ['Execução da despesa', '1101060', -3.8232390880584717]\n",
      "27 : ['Empenho estimativo', '1104612', -3.97762131690979]\n",
      "28 : ['Despesa corrente', '1104117', -4.0385918617248535]\n",
      "29 : ['Revisão contratual', '2060', -4.249335289001465]\n",
      "CPU times: user 638 ms, sys: 0 ns, total: 638 ms\n",
      "Wall time: 671 ms\n"
     ]
    }
   ],
   "source": [
    "%%time\n",
    "doc_return = pipe_join_bm25_sts_reranker.run(query=parm_query, \n",
    " params={\"Bm25Retriever\": {\"top_k\": 30}, \"StsRetriever\": {\"top_k\": 30}, \"Ranker\": {\"top_k\": 30}, \"filters\": FILTER_TERMO})\n",
    "util_pipeline.detail_document_found(doc_return, 30)"
   ]
  },
  {
   "cell_type": "code",
   "execution_count": null,
   "metadata": {},
   "outputs": [
    {
     "name": "stdout",
     "output_type": "stream",
     "text": [
      "Garantia contratual\n",
      "Custo não renovável\n",
      "Gestão contratual\n",
      "Despesa sem prévio empenho\n",
      "Despesa\n"
     ]
    }
   ],
   "source": [
    "for docto in doc_return['documents'][:5]:\n",
    "    print(docto.meta['name'])"
   ]
  },
  {
   "attachments": {},
   "cell_type": "markdown",
   "metadata": {},
   "source": [
    "## Create expansion"
   ]
  },
  {
   "cell_type": "code",
   "execution_count": 30,
   "metadata": {},
   "outputs": [],
   "source": [
    "from unidecode import unidecode\n",
    "import string\n",
    "import re\n"
   ]
  },
  {
   "cell_type": "code",
   "execution_count": 31,
   "metadata": {},
   "outputs": [],
   "source": [
    "from unidecode import unidecode"
   ]
  },
  {
   "cell_type": "code",
   "execution_count": 32,
   "metadata": {},
   "outputs": [],
   "source": [
    "def set_normalize_text(text):\n",
    "    # Remover espaços duplicados e espaços extras à direita e à esquerda\n",
    "    text = re.sub(r'\\s+', ' ', text.lower()).strip()\n",
    "    # Remover acentos e caracteres especiais\n",
    "    text = unidecode(text)\n",
    "    # Separar as palavras em substrings\n",
    "    words = text.split()\n",
    "    # Retornar um conjunto de palavras normalizadas\n",
    "    return set(words)"
   ]
  },
  {
   "cell_type": "code",
   "execution_count": 33,
   "metadata": {},
   "outputs": [],
   "source": [
    "def test_similar_or_subtext(text1, text2):\n",
    "    normalized_text1 = set_normalize_text(text1)\n",
    "    normalized_text2 = set_normalize_text(text2)\n",
    "    return normalized_text1 == normalized_text2 or normalized_text1.issubset(normalized_text2)\n"
   ]
  },
  {
   "cell_type": "code",
   "execution_count": 34,
   "metadata": {},
   "outputs": [
    {
     "data": {
      "text/plain": [
       "{'bem.', 'como', 'esta', 'ola', 'vai', 'voc?'}"
      ]
     },
     "execution_count": 34,
     "metadata": {},
     "output_type": "execute_result"
    }
   ],
   "source": [
    "set_normalize_text('olá comO   vai voc? está bem.')"
   ]
  },
  {
   "cell_type": "code",
   "execution_count": 35,
   "metadata": {},
   "outputs": [
    {
     "data": {
      "text/plain": [
       "False"
      ]
     },
     "execution_count": 35,
     "metadata": {},
     "output_type": "execute_result"
    }
   ],
   "source": [
    "test_similar_or_subtext(\"Licitação de técnica e preço\",\"técnica e preço\")"
   ]
  },
  {
   "cell_type": "code",
   "execution_count": 36,
   "metadata": {},
   "outputs": [],
   "source": [
    "def expand_query(parm_pipe, parm_df_query, num_expansion_max):\n",
    "    if num_expansion_max > 30:\n",
    "        raise Exception('Review limit in code for num_expansion_max of 30!')\n",
    "    count_expansion = [inteiro + 1 for inteiro in range(num_expansion_max)]\n",
    "    for index, row in tqdm(parm_df_query.iterrows()):\n",
    "        query_id = row['ID']\n",
    "        doc_return = parm_pipe.run(query=row['TEXT'], params={\"Bm25Retriever\": {\"top_k\": 30}, \"StsRetriever\": {\"top_k\": 30}, \"Ranker\": {\"top_k\": num_expansion_max}, \"filters\": FILTER_TERMO})\n",
    "\n",
    "        termos = []\n",
    "        for docto in doc_return['documents'][:num_expansion_max * 2]:\n",
    "            if not test_similar_or_subtext(docto.meta['name'], row['TEXT']): # and docto.meta['name'] not in termos:\n",
    "                termos.append(docto.meta['name'])\n",
    "            if len(termos) == num_expansion_max:\n",
    "                break\n",
    "        # print(len(termos), termos)\n",
    "\n",
    "        for count in count_expansion:\n",
    "            col_name = f\"{count}\"\n",
    "            termos_concatenados = ', '.join(termos[:count]).rstrip(', ')\n",
    "            parm_df_query.loc[index, col_name] = f\"{row['TEXT']} - {termos_concatenados}\"\n"
   ]
  },
  {
   "cell_type": "code",
   "execution_count": 37,
   "metadata": {},
   "outputs": [],
   "source": [
    "df_query = pd.read_csv(PATH_QUERY)"
   ]
  },
  {
   "cell_type": "code",
   "execution_count": 38,
   "metadata": {},
   "outputs": [
    {
     "name": "stderr",
     "output_type": "stream",
     "text": [
      "150it [00:56,  2.67it/s]"
     ]
    },
    {
     "name": "stdout",
     "output_type": "stream",
     "text": [
      "CPU times: user 51 s, sys: 49.2 ms, total: 51 s\n",
      "Wall time: 56.1 s\n"
     ]
    },
    {
     "name": "stderr",
     "output_type": "stream",
     "text": [
      "\n"
     ]
    }
   ],
   "source": [
    "%%time\n",
    "expand_query(parm_pipe = pipe_join_bm25_sts_reranker, parm_df_query=df_query, num_expansion_max=10)"
   ]
  },
  {
   "cell_type": "code",
   "execution_count": 39,
   "metadata": {},
   "outputs": [
    {
     "data": {
      "text/html": [
       "<div>\n",
       "<style scoped>\n",
       "    .dataframe tbody tr th:only-of-type {\n",
       "        vertical-align: middle;\n",
       "    }\n",
       "\n",
       "    .dataframe tbody tr th {\n",
       "        vertical-align: top;\n",
       "    }\n",
       "\n",
       "    .dataframe thead th {\n",
       "        text-align: right;\n",
       "    }\n",
       "</style>\n",
       "<table border=\"1\" class=\"dataframe\">\n",
       "  <thead>\n",
       "    <tr style=\"text-align: right;\">\n",
       "      <th></th>\n",
       "      <th>ID</th>\n",
       "      <th>TEXT</th>\n",
       "      <th>SOURCE</th>\n",
       "      <th>1</th>\n",
       "      <th>2</th>\n",
       "      <th>3</th>\n",
       "      <th>4</th>\n",
       "      <th>5</th>\n",
       "      <th>6</th>\n",
       "      <th>7</th>\n",
       "      <th>8</th>\n",
       "      <th>9</th>\n",
       "      <th>10</th>\n",
       "    </tr>\n",
       "  </thead>\n",
       "  <tbody>\n",
       "    <tr>\n",
       "      <th>0</th>\n",
       "      <td>1</td>\n",
       "      <td>técnica e preço</td>\n",
       "      <td>search log</td>\n",
       "      <td>técnica e preço - Licitação de técnica e preço</td>\n",
       "      <td>técnica e preço - Licitação de técnica e preço, Proposta técnica</td>\n",
       "      <td>técnica e preço - Licitação de técnica e preço, Proposta técnica, Tipo de licitação</td>\n",
       "      <td>técnica e preço - Licitação de técnica e preço, Proposta técnica, Tipo de licitação, Proposta</td>\n",
       "      <td>técnica e preço - Licitação de técnica e preço, Proposta técnica, Tipo de licitação, Proposta, Licitação de melhor técnica</td>\n",
       "      <td>técnica e preço - Licitação de técnica e preço, Proposta técnica, Tipo de licitação, Proposta, Licitação de melhor técnica, Proposta de preço</td>\n",
       "      <td>técnica e preço - Licitação de técnica e preço, Proposta técnica, Tipo de licitação, Proposta, Licitação de melhor técnica, Proposta de preço, Preço médio</td>\n",
       "      <td>técnica e preço - Licitação de técnica e preço, Proposta técnica, Tipo de licitação, Proposta, Licitação de melhor técnica, Proposta de preço, Preço médio, Eficiência de custos</td>\n",
       "      <td>técnica e preço - Licitação de técnica e preço, Proposta técnica, Tipo de licitação, Proposta, Licitação de melhor técnica, Proposta de preço, Preço médio, Eficiência de custos, Índice de preços</td>\n",
       "      <td>técnica e preço - Licitação de técnica e preço, Proposta técnica, Tipo de licitação, Proposta, Licitação de melhor técnica, Proposta de preço, Preço médio, Eficiência de custos, Índice de preços</td>\n",
       "    </tr>\n",
       "    <tr>\n",
       "      <th>1</th>\n",
       "      <td>2</td>\n",
       "      <td>restos a pagar</td>\n",
       "      <td>search log</td>\n",
       "      <td>restos a pagar - Cota-parte</td>\n",
       "      <td>restos a pagar - Cota-parte, Recolhimento</td>\n",
       "      <td>restos a pagar - Cota-parte, Recolhimento, Quitação</td>\n",
       "      <td>restos a pagar - Cota-parte, Recolhimento, Quitação, Passivo compensado</td>\n",
       "      <td>restos a pagar - Cota-parte, Recolhimento, Quitação, Passivo compensado, Passivo circulante</td>\n",
       "      <td>restos a pagar - Cota-parte, Recolhimento, Quitação, Passivo compensado, Passivo circulante, Despesas de exercícios anteriores</td>\n",
       "      <td>restos a pagar - Cota-parte, Recolhimento, Quitação, Passivo compensado, Passivo circulante, Despesas de exercícios anteriores, Ativo compensado</td>\n",
       "      <td>restos a pagar - Cota-parte, Recolhimento, Quitação, Passivo compensado, Passivo circulante, Despesas de exercícios anteriores, Ativo compensado, Dívida</td>\n",
       "      <td>restos a pagar - Cota-parte, Recolhimento, Quitação, Passivo compensado, Passivo circulante, Despesas de exercícios anteriores, Ativo compensado, Dívida, Despesa empenhada</td>\n",
       "      <td>restos a pagar - Cota-parte, Recolhimento, Quitação, Passivo compensado, Passivo circulante, Despesas de exercícios anteriores, Ativo compensado, Dívida, Despesa empenhada</td>\n",
       "    </tr>\n",
       "    <tr>\n",
       "      <th>2</th>\n",
       "      <td>3</td>\n",
       "      <td>aditivo a contrato</td>\n",
       "      <td>search log</td>\n",
       "      <td>aditivo a contrato - Termo aditivo</td>\n",
       "      <td>aditivo a contrato - Termo aditivo, Aditivo qualitativo</td>\n",
       "      <td>aditivo a contrato - Termo aditivo, Aditivo qualitativo, Aditivo quantitativo</td>\n",
       "      <td>aditivo a contrato - Termo aditivo, Aditivo qualitativo, Aditivo quantitativo, Apostila (Licitação)</td>\n",
       "      <td>aditivo a contrato - Termo aditivo, Aditivo qualitativo, Aditivo quantitativo, Apostila (Licitação), Alteração contratual</td>\n",
       "      <td>aditivo a contrato - Termo aditivo, Aditivo qualitativo, Aditivo quantitativo, Apostila (Licitação), Alteração contratual, Ajuste</td>\n",
       "      <td>aditivo a contrato - Termo aditivo, Aditivo qualitativo, Aditivo quantitativo, Apostila (Licitação), Alteração contratual, Ajuste, Jogo de planilhas</td>\n",
       "      <td>aditivo a contrato - Termo aditivo, Aditivo qualitativo, Aditivo quantitativo, Apostila (Licitação), Alteração contratual, Ajuste, Jogo de planilhas, Acréscimo</td>\n",
       "      <td>aditivo a contrato - Termo aditivo, Aditivo qualitativo, Aditivo quantitativo, Apostila (Licitação), Alteração contratual, Ajuste, Jogo de planilhas, Acréscimo, Apostilamento</td>\n",
       "      <td>aditivo a contrato - Termo aditivo, Aditivo qualitativo, Aditivo quantitativo, Apostila (Licitação), Alteração contratual, Ajuste, Jogo de planilhas, Acréscimo, Apostilamento</td>\n",
       "    </tr>\n",
       "    <tr>\n",
       "      <th>3</th>\n",
       "      <td>4</td>\n",
       "      <td>adesão a ata de registro de preços</td>\n",
       "      <td>search log</td>\n",
       "      <td>adesão a ata de registro de preços - Sistema de Registro de Preços</td>\n",
       "      <td>adesão a ata de registro de preços - Sistema de Registro de Preços, Princípio da vinculação ao instrumento convocatório</td>\n",
       "      <td>adesão a ata de registro de preços - Sistema de Registro de Preços, Princípio da vinculação ao instrumento convocatório, Intenção de Registro de Preços</td>\n",
       "      <td>adesão a ata de registro de preços - Sistema de Registro de Preços, Princípio da vinculação ao instrumento convocatório, Intenção de Registro de Preços, Contrato de adesão</td>\n",
       "      <td>adesão a ata de registro de preços - Sistema de Registro de Preços, Princípio da vinculação ao instrumento convocatório, Intenção de Registro de Preços, Contrato de adesão, Impugnação de preço</td>\n",
       "      <td>adesão a ata de registro de preços - Sistema de Registro de Preços, Princípio da vinculação ao instrumento convocatório, Intenção de Registro de Preços, Contrato de adesão, Impugnação de preço</td>\n",
       "      <td>adesão a ata de registro de preços - Sistema de Registro de Preços, Princípio da vinculação ao instrumento convocatório, Intenção de Registro de Preços, Contrato de adesão, Impugnação de preço</td>\n",
       "      <td>adesão a ata de registro de preços - Sistema de Registro de Preços, Princípio da vinculação ao instrumento convocatório, Intenção de Registro de Preços, Contrato de adesão, Impugnação de preço</td>\n",
       "      <td>adesão a ata de registro de preços - Sistema de Registro de Preços, Princípio da vinculação ao instrumento convocatório, Intenção de Registro de Preços, Contrato de adesão, Impugnação de preço</td>\n",
       "      <td>adesão a ata de registro de preços - Sistema de Registro de Preços, Princípio da vinculação ao instrumento convocatório, Intenção de Registro de Preços, Contrato de adesão, Impugnação de preço</td>\n",
       "    </tr>\n",
       "    <tr>\n",
       "      <th>4</th>\n",
       "      <td>5</td>\n",
       "      <td>sobrepreço e superfaturamento</td>\n",
       "      <td>search log</td>\n",
       "      <td>sobrepreço e superfaturamento - Faturamento</td>\n",
       "      <td>sobrepreço e superfaturamento - Faturamento, Licitação</td>\n",
       "      <td>sobrepreço e superfaturamento - Faturamento, Licitação, Enriquecimento ilícito</td>\n",
       "      <td>sobrepreço e superfaturamento - Faturamento, Licitação, Enriquecimento ilícito, Irregularidade grave</td>\n",
       "      <td>sobrepreço e superfaturamento - Faturamento, Licitação, Enriquecimento ilícito, Irregularidade grave, Indício de irregularidade grave</td>\n",
       "      <td>sobrepreço e superfaturamento - Faturamento, Licitação, Enriquecimento ilícito, Irregularidade grave, Indício de irregularidade grave, Obras, serviços ou compras de grande vulto</td>\n",
       "      <td>sobrepreço e superfaturamento - Faturamento, Licitação, Enriquecimento ilícito, Irregularidade grave, Indício de irregularidade grave, Obras, serviços ou compras de grande vulto, Preço</td>\n",
       "      <td>sobrepreço e superfaturamento - Faturamento, Licitação, Enriquecimento ilícito, Irregularidade grave, Indício de irregularidade grave, Obras, serviços ou compras de grande vulto, Preço, Excesso de...</td>\n",
       "      <td>sobrepreço e superfaturamento - Faturamento, Licitação, Enriquecimento ilícito, Irregularidade grave, Indício de irregularidade grave, Obras, serviços ou compras de grande vulto, Preço, Excesso de...</td>\n",
       "      <td>sobrepreço e superfaturamento - Faturamento, Licitação, Enriquecimento ilícito, Irregularidade grave, Indício de irregularidade grave, Obras, serviços ou compras de grande vulto, Preço, Excesso de...</td>\n",
       "    </tr>\n",
       "  </tbody>\n",
       "</table>\n",
       "</div>"
      ],
      "text/plain": [
       "   ID                                TEXT      SOURCE                                                                   1  \\\n",
       "0   1                     técnica e preço  search log                      técnica e preço - Licitação de técnica e preço   \n",
       "1   2                      restos a pagar  search log                                         restos a pagar - Cota-parte   \n",
       "2   3                  aditivo a contrato  search log                                  aditivo a contrato - Termo aditivo   \n",
       "3   4  adesão a ata de registro de preços  search log  adesão a ata de registro de preços - Sistema de Registro de Preços   \n",
       "4   5       sobrepreço e superfaturamento  search log                         sobrepreço e superfaturamento - Faturamento   \n",
       "\n",
       "                                                                                                                         2  \\\n",
       "0                                                         técnica e preço - Licitação de técnica e preço, Proposta técnica   \n",
       "1                                                                                restos a pagar - Cota-parte, Recolhimento   \n",
       "2                                                                  aditivo a contrato - Termo aditivo, Aditivo qualitativo   \n",
       "3  adesão a ata de registro de preços - Sistema de Registro de Preços, Princípio da vinculação ao instrumento convocatório   \n",
       "4                                                                   sobrepreço e superfaturamento - Faturamento, Licitação   \n",
       "\n",
       "                                                                                                                                                         3  \\\n",
       "0                                                                      técnica e preço - Licitação de técnica e preço, Proposta técnica, Tipo de licitação   \n",
       "1                                                                                                      restos a pagar - Cota-parte, Recolhimento, Quitação   \n",
       "2                                                                            aditivo a contrato - Termo aditivo, Aditivo qualitativo, Aditivo quantitativo   \n",
       "3  adesão a ata de registro de preços - Sistema de Registro de Preços, Princípio da vinculação ao instrumento convocatório, Intenção de Registro de Preços   \n",
       "4                                                                           sobrepreço e superfaturamento - Faturamento, Licitação, Enriquecimento ilícito   \n",
       "\n",
       "                                                                                                                                                                             4  \\\n",
       "0                                                                                técnica e preço - Licitação de técnica e preço, Proposta técnica, Tipo de licitação, Proposta   \n",
       "1                                                                                                      restos a pagar - Cota-parte, Recolhimento, Quitação, Passivo compensado   \n",
       "2                                                                          aditivo a contrato - Termo aditivo, Aditivo qualitativo, Aditivo quantitativo, Apostila (Licitação)   \n",
       "3  adesão a ata de registro de preços - Sistema de Registro de Preços, Princípio da vinculação ao instrumento convocatório, Intenção de Registro de Preços, Contrato de adesão   \n",
       "4                                                                         sobrepreço e superfaturamento - Faturamento, Licitação, Enriquecimento ilícito, Irregularidade grave   \n",
       "\n",
       "                                                                                                                                                                                                  5  \\\n",
       "0                                                                        técnica e preço - Licitação de técnica e preço, Proposta técnica, Tipo de licitação, Proposta, Licitação de melhor técnica   \n",
       "1                                                                                                       restos a pagar - Cota-parte, Recolhimento, Quitação, Passivo compensado, Passivo circulante   \n",
       "2                                                                         aditivo a contrato - Termo aditivo, Aditivo qualitativo, Aditivo quantitativo, Apostila (Licitação), Alteração contratual   \n",
       "3  adesão a ata de registro de preços - Sistema de Registro de Preços, Princípio da vinculação ao instrumento convocatório, Intenção de Registro de Preços, Contrato de adesão, Impugnação de preço   \n",
       "4                                                             sobrepreço e superfaturamento - Faturamento, Licitação, Enriquecimento ilícito, Irregularidade grave, Indício de irregularidade grave   \n",
       "\n",
       "                                                                                                                                                                                                  6  \\\n",
       "0                                                     técnica e preço - Licitação de técnica e preço, Proposta técnica, Tipo de licitação, Proposta, Licitação de melhor técnica, Proposta de preço   \n",
       "1                                                                    restos a pagar - Cota-parte, Recolhimento, Quitação, Passivo compensado, Passivo circulante, Despesas de exercícios anteriores   \n",
       "2                                                                 aditivo a contrato - Termo aditivo, Aditivo qualitativo, Aditivo quantitativo, Apostila (Licitação), Alteração contratual, Ajuste   \n",
       "3  adesão a ata de registro de preços - Sistema de Registro de Preços, Princípio da vinculação ao instrumento convocatório, Intenção de Registro de Preços, Contrato de adesão, Impugnação de preço   \n",
       "4                 sobrepreço e superfaturamento - Faturamento, Licitação, Enriquecimento ilícito, Irregularidade grave, Indício de irregularidade grave, Obras, serviços ou compras de grande vulto   \n",
       "\n",
       "                                                                                                                                                                                                  7  \\\n",
       "0                                        técnica e preço - Licitação de técnica e preço, Proposta técnica, Tipo de licitação, Proposta, Licitação de melhor técnica, Proposta de preço, Preço médio   \n",
       "1                                                  restos a pagar - Cota-parte, Recolhimento, Quitação, Passivo compensado, Passivo circulante, Despesas de exercícios anteriores, Ativo compensado   \n",
       "2                                              aditivo a contrato - Termo aditivo, Aditivo qualitativo, Aditivo quantitativo, Apostila (Licitação), Alteração contratual, Ajuste, Jogo de planilhas   \n",
       "3  adesão a ata de registro de preços - Sistema de Registro de Preços, Princípio da vinculação ao instrumento convocatório, Intenção de Registro de Preços, Contrato de adesão, Impugnação de preço   \n",
       "4          sobrepreço e superfaturamento - Faturamento, Licitação, Enriquecimento ilícito, Irregularidade grave, Indício de irregularidade grave, Obras, serviços ou compras de grande vulto, Preço   \n",
       "\n",
       "                                                                                                                                                                                                         8  \\\n",
       "0                         técnica e preço - Licitação de técnica e preço, Proposta técnica, Tipo de licitação, Proposta, Licitação de melhor técnica, Proposta de preço, Preço médio, Eficiência de custos   \n",
       "1                                                 restos a pagar - Cota-parte, Recolhimento, Quitação, Passivo compensado, Passivo circulante, Despesas de exercícios anteriores, Ativo compensado, Dívida   \n",
       "2                                          aditivo a contrato - Termo aditivo, Aditivo qualitativo, Aditivo quantitativo, Apostila (Licitação), Alteração contratual, Ajuste, Jogo de planilhas, Acréscimo   \n",
       "3         adesão a ata de registro de preços - Sistema de Registro de Preços, Princípio da vinculação ao instrumento convocatório, Intenção de Registro de Preços, Contrato de adesão, Impugnação de preço   \n",
       "4  sobrepreço e superfaturamento - Faturamento, Licitação, Enriquecimento ilícito, Irregularidade grave, Indício de irregularidade grave, Obras, serviços ou compras de grande vulto, Preço, Excesso de...   \n",
       "\n",
       "                                                                                                                                                                                                         9  \\\n",
       "0       técnica e preço - Licitação de técnica e preço, Proposta técnica, Tipo de licitação, Proposta, Licitação de melhor técnica, Proposta de preço, Preço médio, Eficiência de custos, Índice de preços   \n",
       "1                              restos a pagar - Cota-parte, Recolhimento, Quitação, Passivo compensado, Passivo circulante, Despesas de exercícios anteriores, Ativo compensado, Dívida, Despesa empenhada   \n",
       "2                           aditivo a contrato - Termo aditivo, Aditivo qualitativo, Aditivo quantitativo, Apostila (Licitação), Alteração contratual, Ajuste, Jogo de planilhas, Acréscimo, Apostilamento   \n",
       "3         adesão a ata de registro de preços - Sistema de Registro de Preços, Princípio da vinculação ao instrumento convocatório, Intenção de Registro de Preços, Contrato de adesão, Impugnação de preço   \n",
       "4  sobrepreço e superfaturamento - Faturamento, Licitação, Enriquecimento ilícito, Irregularidade grave, Indício de irregularidade grave, Obras, serviços ou compras de grande vulto, Preço, Excesso de...   \n",
       "\n",
       "                                                                                                                                                                                                        10  \n",
       "0       técnica e preço - Licitação de técnica e preço, Proposta técnica, Tipo de licitação, Proposta, Licitação de melhor técnica, Proposta de preço, Preço médio, Eficiência de custos, Índice de preços  \n",
       "1                              restos a pagar - Cota-parte, Recolhimento, Quitação, Passivo compensado, Passivo circulante, Despesas de exercícios anteriores, Ativo compensado, Dívida, Despesa empenhada  \n",
       "2                           aditivo a contrato - Termo aditivo, Aditivo qualitativo, Aditivo quantitativo, Apostila (Licitação), Alteração contratual, Ajuste, Jogo de planilhas, Acréscimo, Apostilamento  \n",
       "3         adesão a ata de registro de preços - Sistema de Registro de Preços, Princípio da vinculação ao instrumento convocatório, Intenção de Registro de Preços, Contrato de adesão, Impugnação de preço  \n",
       "4  sobrepreço e superfaturamento - Faturamento, Licitação, Enriquecimento ilícito, Irregularidade grave, Indício de irregularidade grave, Obras, serviços ou compras de grande vulto, Preço, Excesso de...  "
      ]
     },
     "execution_count": 39,
     "metadata": {},
     "output_type": "execute_result"
    }
   ],
   "source": [
    "df_query.head()"
   ]
  },
  {
   "cell_type": "code",
   "execution_count": 41,
   "metadata": {},
   "outputs": [],
   "source": [
    "name_expansor = 'join_30_ptt5_base'"
   ]
  },
  {
   "cell_type": "code",
   "execution_count": 42,
   "metadata": {},
   "outputs": [],
   "source": [
    "path_expansion = f'../data/juris_tcu_expanded_query/query_10_expansion_{name_expansor}.csv'"
   ]
  },
  {
   "cell_type": "code",
   "execution_count": 43,
   "metadata": {},
   "outputs": [],
   "source": [
    "df_query.to_csv(path_expansion, index=False)"
   ]
  },
  {
   "cell_type": "code",
   "execution_count": null,
   "metadata": {},
   "outputs": [],
   "source": []
  }
 ],
 "metadata": {
  "kernelspec": {
   "display_name": "relevar-busca",
   "language": "python",
   "name": "python3"
  },
  "language_info": {
   "codemirror_mode": {
    "name": "ipython",
    "version": 3
   },
   "file_extension": ".py",
   "mimetype": "text/x-python",
   "name": "python",
   "nbconvert_exporter": "python",
   "pygments_lexer": "ipython3",
   "version": "3.7.13"
  },
  "orig_nbformat": 4,
  "vscode": {
   "interpreter": {
    "hash": "45978bf3509deeb93161d1472b16f82a40245d44c2beae6c63ad8f9bb3f69171"
   }
  }
 },
 "nbformat": 4,
 "nbformat_minor": 2
}
