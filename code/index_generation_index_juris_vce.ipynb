{
 "cells": [
  {
   "attachments": {},
   "cell_type": "markdown",
   "id": "998a4011",
   "metadata": {},
   "source": [
    "# Imports and preparation"
   ]
  },
  {
   "cell_type": "code",
   "execution_count": 1,
   "metadata": {},
   "outputs": [],
   "source": [
    "import os"
   ]
  },
  {
   "cell_type": "code",
   "execution_count": 2,
   "metadata": {},
   "outputs": [],
   "source": [
    "import numpy as np"
   ]
  },
  {
   "cell_type": "code",
   "execution_count": 3,
   "id": "37d4165c",
   "metadata": {},
   "outputs": [],
   "source": [
    "import pandas as pd"
   ]
  },
  {
   "cell_type": "code",
   "execution_count": 4,
   "metadata": {},
   "outputs": [],
   "source": [
    "from tqdm import tqdm"
   ]
  },
  {
   "cell_type": "code",
   "execution_count": 5,
   "id": "cb0f7d63",
   "metadata": {},
   "outputs": [],
   "source": [
    "from transformers import AutoTokenizer #, AutoModelForSequenceClassification"
   ]
  },
  {
   "cell_type": "code",
   "execution_count": 6,
   "metadata": {},
   "outputs": [
    {
     "name": "stderr",
     "output_type": "stream",
     "text": [
      "OpenAI tiktoken module is not available for Python < 3.8,Linux ARM64 and AARCH64. Falling back to GPT2TokenizerFast.\n",
      "WARNING:haystack.nodes.answer_generator.openai:OpenAI tiktoken module is not available for Python < 3.8,Linux ARM64 and AARCH64. Falling back to GPT2TokenizerFast.\n"
     ]
    }
   ],
   "source": [
    "from util import util_elastic"
   ]
  },
  {
   "cell_type": "code",
   "execution_count": 23,
   "metadata": {},
   "outputs": [
    {
     "data": {
      "text/plain": [
       "<module 'util.util_elastic' from '/home/borela/fontes/ind-ir/code/util/util_elastic.py'>"
      ]
     },
     "execution_count": 23,
     "metadata": {},
     "output_type": "execute_result"
    }
   ],
   "source": [
    "import importlib\n",
    "importlib.reload(util_elastic)"
   ]
  },
  {
   "cell_type": "code",
   "execution_count": 8,
   "id": "f911fcf2",
   "metadata": {},
   "outputs": [],
   "source": [
    "# Para ter repetibilidade nos resultados\n",
    "random_state = 1\n",
    "\n",
    "# Tratar valores infinitos (+ e -) como np.NaN\n",
    "pd.options.mode.use_inf_as_na = True\n",
    "\n",
    "# IMPORTANTE para tornar figuras interativas\n",
    "# %matplotlib notebook\n",
    "\n",
    "# Tamanho padrão das figuras\n",
    "figsize=(10,6)\n",
    "\n",
    "pd.set_option('display.max_row', 1000)\n",
    "\n",
    "pd.set_option('display.max_columns', 50)\n",
    "\n",
    "pd.set_option('display.column_space', 40)\n",
    "pd.set_option('display.max_colwidth', 100)\n",
    "pd.set_option('display.width', 200)\n"
   ]
  },
  {
   "cell_type": "code",
   "execution_count": 9,
   "id": "6e05b9a6",
   "metadata": {},
   "outputs": [],
   "source": [
    "PATH_QUERY = '../data/juris_tcu_index/query.csv'\n",
    "PATH_QREL =  '../data/juris_tcu_index/qrel.csv'\n",
    "PATH_DOC =  '../data/juris_tcu_index/doc.csv'"
   ]
  },
  {
   "cell_type": "code",
   "execution_count": 10,
   "metadata": {},
   "outputs": [
    {
     "name": "stdout",
     "output_type": "stream",
     "text": [
      "CPU times: user 211 µs, sys: 0 ns, total: 211 µs\n",
      "Wall time: 214 µs\n"
     ]
    }
   ],
   "source": [
    "%%time\n",
    "import logging\n",
    "logging.getLogger(\"haystack\").setLevel(logging.WARNING) #WARNING, INFO"
   ]
  },
  {
   "attachments": {},
   "cell_type": "markdown",
   "metadata": {},
   "source": [
    "# Data load"
   ]
  },
  {
   "cell_type": "code",
   "execution_count": 11,
   "id": "1cf03f22",
   "metadata": {},
   "outputs": [],
   "source": [
    "df_doc = pd.read_csv(PATH_DOC)"
   ]
  },
  {
   "cell_type": "code",
   "execution_count": 12,
   "metadata": {},
   "outputs": [
    {
     "data": {
      "text/plain": [
       "(13252, 28)"
      ]
     },
     "execution_count": 12,
     "metadata": {},
     "output_type": "execute_result"
    }
   ],
   "source": [
    "df_doc.shape"
   ]
  },
  {
   "cell_type": "code",
   "execution_count": 13,
   "id": "a75dd812",
   "metadata": {},
   "outputs": [
    {
     "data": {
      "text/html": [
       "<div>\n",
       "<style scoped>\n",
       "    .dataframe tbody tr th:only-of-type {\n",
       "        vertical-align: middle;\n",
       "    }\n",
       "\n",
       "    .dataframe tbody tr th {\n",
       "        vertical-align: top;\n",
       "    }\n",
       "\n",
       "    .dataframe thead th {\n",
       "        text-align: right;\n",
       "    }\n",
       "</style>\n",
       "<table border=\"1\" class=\"dataframe\">\n",
       "  <thead>\n",
       "    <tr style=\"text-align: right;\">\n",
       "      <th></th>\n",
       "      <th>TEXT</th>\n",
       "      <th>ID</th>\n",
       "      <th>NAME</th>\n",
       "      <th>DATE_REFERENCE</th>\n",
       "      <th>CLASS</th>\n",
       "      <th>HAS_SCOPE_NOTE</th>\n",
       "      <th>HAS_DEFINITION</th>\n",
       "      <th>HAS_SYNONYM</th>\n",
       "      <th>HAS_EXAMPLE</th>\n",
       "      <th>HAS_ENGLISH_TRANSLATION</th>\n",
       "      <th>HAS_SPECIALIZATION</th>\n",
       "      <th>HAS_RELATED_TERM</th>\n",
       "      <th>HAS_SPANISH_TRANSLATION</th>\n",
       "      <th>HAS_GENERALIZATION</th>\n",
       "      <th>TEXT_DEFINITION</th>\n",
       "      <th>TEXT_SYNONYM</th>\n",
       "      <th>TEXT_RELATED_TERM</th>\n",
       "      <th>TEXT_SCOPE_NOTE</th>\n",
       "      <th>TEXT_EXAMPLE</th>\n",
       "      <th>TEXT_ENGLISH_TRANSLATION</th>\n",
       "      <th>TEXT_SPANISH_TRANSLATION</th>\n",
       "      <th>TEXT_SPECIALIZATION</th>\n",
       "      <th>TEXT_GENERALIZATION</th>\n",
       "      <th>COUNT_INDEX_AREA</th>\n",
       "      <th>COUNT_INDEX_THEME</th>\n",
       "      <th>COUNT_INDEX_SUBTHEME</th>\n",
       "      <th>COUNT_INDEX_EXTRA</th>\n",
       "      <th>COUNT_INDEX_TOTAL</th>\n",
       "    </tr>\n",
       "  </thead>\n",
       "  <tbody>\n",
       "    <tr>\n",
       "      <th>0</th>\n",
       "      <td>O termo é \"Abandono de cargo\".\\nAbandono de cargo tem definição: \"Configura abandono de cargo a ...</td>\n",
       "      <td>1</td>\n",
       "      <td>Abandono de cargo</td>\n",
       "      <td>20230605</td>\n",
       "      <td>Termo</td>\n",
       "      <td>1</td>\n",
       "      <td>1</td>\n",
       "      <td>1</td>\n",
       "      <td>0</td>\n",
       "      <td>1</td>\n",
       "      <td>0</td>\n",
       "      <td>1</td>\n",
       "      <td>1</td>\n",
       "      <td>0</td>\n",
       "      <td>Configura abandono de cargo a ausência intencional do servidor ao serviço por mais de trinta dia...</td>\n",
       "      <td>Abandono de função e Abandono do cargo.</td>\n",
       "      <td>Abandono de emprego, Deserção, Falta grave, Função pública, Demissão de servidor, Inassiduidade ...</td>\n",
       "      <td>Artigo 323 Código Penal</td>\n",
       "      <td>NaN</td>\n",
       "      <td>Abandonment of office.</td>\n",
       "      <td>Abandono de puesto.</td>\n",
       "      <td>NaN</td>\n",
       "      <td>NaN</td>\n",
       "      <td>0</td>\n",
       "      <td>1</td>\n",
       "      <td>0</td>\n",
       "      <td>0</td>\n",
       "      <td>1</td>\n",
       "    </tr>\n",
       "    <tr>\n",
       "      <th>1</th>\n",
       "      <td>O termo é \"Abastecimento de tropas e meios\".\\nAbastecimento de tropas e meios é uma especializaç...</td>\n",
       "      <td>2</td>\n",
       "      <td>Abastecimento de tropas e meios</td>\n",
       "      <td>20230605</td>\n",
       "      <td>Termo</td>\n",
       "      <td>0</td>\n",
       "      <td>0</td>\n",
       "      <td>0</td>\n",
       "      <td>0</td>\n",
       "      <td>1</td>\n",
       "      <td>0</td>\n",
       "      <td>0</td>\n",
       "      <td>1</td>\n",
       "      <td>1</td>\n",
       "      <td>NaN</td>\n",
       "      <td>NaN</td>\n",
       "      <td>NaN</td>\n",
       "      <td>NaN</td>\n",
       "      <td>NaN</td>\n",
       "      <td>Supply of troops and means.</td>\n",
       "      <td>Abastecimiento de tropas y medios e Suministro de tropas y médios.</td>\n",
       "      <td>Abastecimento.</td>\n",
       "      <td>NaN</td>\n",
       "      <td>0</td>\n",
       "      <td>0</td>\n",
       "      <td>0</td>\n",
       "      <td>1</td>\n",
       "      <td>1</td>\n",
       "    </tr>\n",
       "    <tr>\n",
       "      <th>2</th>\n",
       "      <td>O termo é \"Tropa\".\\nTropa tem definição: \"Termo coletivo que designa o pessoal de uma organizaçã...</td>\n",
       "      <td>3</td>\n",
       "      <td>Tropa</td>\n",
       "      <td>20230605</td>\n",
       "      <td>Termo</td>\n",
       "      <td>0</td>\n",
       "      <td>1</td>\n",
       "      <td>0</td>\n",
       "      <td>0</td>\n",
       "      <td>1</td>\n",
       "      <td>0</td>\n",
       "      <td>1</td>\n",
       "      <td>1</td>\n",
       "      <td>0</td>\n",
       "      <td>Termo coletivo que designa o pessoal de uma organização militar.</td>\n",
       "      <td>NaN</td>\n",
       "      <td>Organização militar e Missão.</td>\n",
       "      <td>NaN</td>\n",
       "      <td>NaN</td>\n",
       "      <td>Troop.</td>\n",
       "      <td>Tropa.</td>\n",
       "      <td>NaN</td>\n",
       "      <td>NaN</td>\n",
       "      <td>0</td>\n",
       "      <td>0</td>\n",
       "      <td>0</td>\n",
       "      <td>0</td>\n",
       "      <td>0</td>\n",
       "    </tr>\n",
       "    <tr>\n",
       "      <th>3</th>\n",
       "      <td>O termo é \"Abono de faltas\".\\nAbono de faltas tem definição: \"É a relevação da falta, de forma q...</td>\n",
       "      <td>4</td>\n",
       "      <td>Abono de faltas</td>\n",
       "      <td>20230605</td>\n",
       "      <td>Termo</td>\n",
       "      <td>1</td>\n",
       "      <td>1</td>\n",
       "      <td>1</td>\n",
       "      <td>0</td>\n",
       "      <td>0</td>\n",
       "      <td>0</td>\n",
       "      <td>1</td>\n",
       "      <td>0</td>\n",
       "      <td>0</td>\n",
       "      <td>É a relevação da falta, de forma que o servidor não sofra qualquer desconto pelo dia não trabalh...</td>\n",
       "      <td>Faltas, Abono das faltas e Abono de ausências.</td>\n",
       "      <td>Inassiduidade habitual e Afastamento de pessoal.</td>\n",
       "      <td>Usado para servidores regidos pela CLT (art. 473).</td>\n",
       "      <td>NaN</td>\n",
       "      <td>NaN</td>\n",
       "      <td>NaN</td>\n",
       "      <td>NaN</td>\n",
       "      <td>NaN</td>\n",
       "      <td>0</td>\n",
       "      <td>0</td>\n",
       "      <td>0</td>\n",
       "      <td>1</td>\n",
       "      <td>1</td>\n",
       "    </tr>\n",
       "    <tr>\n",
       "      <th>4</th>\n",
       "      <td>O termo é \"Abono de permanência em serviço\".\\nAbono de permanência em serviço tem definição: \"O ...</td>\n",
       "      <td>5</td>\n",
       "      <td>Abono de permanência em serviço</td>\n",
       "      <td>20230605</td>\n",
       "      <td>Termo</td>\n",
       "      <td>0</td>\n",
       "      <td>1</td>\n",
       "      <td>1</td>\n",
       "      <td>0</td>\n",
       "      <td>0</td>\n",
       "      <td>0</td>\n",
       "      <td>1</td>\n",
       "      <td>0</td>\n",
       "      <td>0</td>\n",
       "      <td>O abono de permanência será pago ao servidor que tiver preenchido as exigências para aposentador...</td>\n",
       "      <td>Abono de permanência, Adicional de permanência e Abono permanência.</td>\n",
       "      <td>Aposentadoria voluntária, Contribuição previdenciária e Regime Próprio de Previdência Social.</td>\n",
       "      <td>NaN</td>\n",
       "      <td>NaN</td>\n",
       "      <td>NaN</td>\n",
       "      <td>NaN</td>\n",
       "      <td>NaN</td>\n",
       "      <td>NaN</td>\n",
       "      <td>0</td>\n",
       "      <td>7</td>\n",
       "      <td>0</td>\n",
       "      <td>4</td>\n",
       "      <td>11</td>\n",
       "    </tr>\n",
       "  </tbody>\n",
       "</table>\n",
       "</div>"
      ],
      "text/plain": [
       "                                                                                                  TEXT  ID                             NAME  DATE_REFERENCE  CLASS  HAS_SCOPE_NOTE  HAS_DEFINITION  \\\n",
       "0  O termo é \"Abandono de cargo\".\\nAbandono de cargo tem definição: \"Configura abandono de cargo a ...   1                Abandono de cargo        20230605  Termo               1               1   \n",
       "1  O termo é \"Abastecimento de tropas e meios\".\\nAbastecimento de tropas e meios é uma especializaç...   2  Abastecimento de tropas e meios        20230605  Termo               0               0   \n",
       "2  O termo é \"Tropa\".\\nTropa tem definição: \"Termo coletivo que designa o pessoal de uma organizaçã...   3                            Tropa        20230605  Termo               0               1   \n",
       "3  O termo é \"Abono de faltas\".\\nAbono de faltas tem definição: \"É a relevação da falta, de forma q...   4                  Abono de faltas        20230605  Termo               1               1   \n",
       "4  O termo é \"Abono de permanência em serviço\".\\nAbono de permanência em serviço tem definição: \"O ...   5  Abono de permanência em serviço        20230605  Termo               0               1   \n",
       "\n",
       "   HAS_SYNONYM  HAS_EXAMPLE  HAS_ENGLISH_TRANSLATION  HAS_SPECIALIZATION  HAS_RELATED_TERM  HAS_SPANISH_TRANSLATION  HAS_GENERALIZATION  \\\n",
       "0            1            0                        1                   0                 1                        1                   0   \n",
       "1            0            0                        1                   0                 0                        1                   1   \n",
       "2            0            0                        1                   0                 1                        1                   0   \n",
       "3            1            0                        0                   0                 1                        0                   0   \n",
       "4            1            0                        0                   0                 1                        0                   0   \n",
       "\n",
       "                                                                                       TEXT_DEFINITION                                                         TEXT_SYNONYM  \\\n",
       "0  Configura abandono de cargo a ausência intencional do servidor ao serviço por mais de trinta dia...                              Abandono de função e Abandono do cargo.   \n",
       "1                                                                                                  NaN                                                                  NaN   \n",
       "2                                     Termo coletivo que designa o pessoal de uma organização militar.                                                                  NaN   \n",
       "3  É a relevação da falta, de forma que o servidor não sofra qualquer desconto pelo dia não trabalh...                       Faltas, Abono das faltas e Abono de ausências.   \n",
       "4  O abono de permanência será pago ao servidor que tiver preenchido as exigências para aposentador...  Abono de permanência, Adicional de permanência e Abono permanência.   \n",
       "\n",
       "                                                                                     TEXT_RELATED_TERM                                     TEXT_SCOPE_NOTE TEXT_EXAMPLE     TEXT_ENGLISH_TRANSLATION  \\\n",
       "0  Abandono de emprego, Deserção, Falta grave, Função pública, Demissão de servidor, Inassiduidade ...                             Artigo 323 Código Penal          NaN       Abandonment of office.   \n",
       "1                                                                                                  NaN                                                 NaN          NaN  Supply of troops and means.   \n",
       "2                                                                        Organização militar e Missão.                                                 NaN          NaN                       Troop.   \n",
       "3                                                     Inassiduidade habitual e Afastamento de pessoal.  Usado para servidores regidos pela CLT (art. 473).          NaN                          NaN   \n",
       "4        Aposentadoria voluntária, Contribuição previdenciária e Regime Próprio de Previdência Social.                                                 NaN          NaN                          NaN   \n",
       "\n",
       "                                             TEXT_SPANISH_TRANSLATION TEXT_SPECIALIZATION TEXT_GENERALIZATION  COUNT_INDEX_AREA  COUNT_INDEX_THEME  COUNT_INDEX_SUBTHEME  COUNT_INDEX_EXTRA  \\\n",
       "0                                                 Abandono de puesto.                 NaN                 NaN                 0                  1                     0                  0   \n",
       "1  Abastecimiento de tropas y medios e Suministro de tropas y médios.      Abastecimento.                 NaN                 0                  0                     0                  1   \n",
       "2                                                              Tropa.                 NaN                 NaN                 0                  0                     0                  0   \n",
       "3                                                                 NaN                 NaN                 NaN                 0                  0                     0                  1   \n",
       "4                                                                 NaN                 NaN                 NaN                 0                  7                     0                  4   \n",
       "\n",
       "   COUNT_INDEX_TOTAL  \n",
       "0                  1  \n",
       "1                  1  \n",
       "2                  0  \n",
       "3                  1  \n",
       "4                 11  "
      ]
     },
     "execution_count": 13,
     "metadata": {},
     "output_type": "execute_result"
    }
   ],
   "source": [
    "df_doc.head()"
   ]
  },
  {
   "attachments": {},
   "cell_type": "markdown",
   "id": "a4df47bb",
   "metadata": {},
   "source": [
    "### Quantitative calculation"
   ]
  },
  {
   "attachments": {},
   "cell_type": "markdown",
   "metadata": {},
   "source": [
    "Tokenization loading"
   ]
  },
  {
   "cell_type": "code",
   "execution_count": 14,
   "metadata": {},
   "outputs": [
    {
     "name": "stderr",
     "output_type": "stream",
     "text": [
      "/home/borela/miniconda3/envs/relevar-busca/lib/python3.7/site-packages/transformers/convert_slow_tokenizer.py:447: UserWarning: The sentencepiece tokenizer that you are converting to a fast tokenizer uses the byte fallback option which is not implemented in the fast tokenizers. In practice this means that the fast version of the tokenizer can produce unknown tokens whereas the sentencepiece version would have converted these unknown tokens into a sequence of byte tokens matching the original piece of text.\n",
      "  \"The sentencepiece tokenizer that you are converting to a fast tokenizer uses the byte fallback option\"\n"
     ]
    }
   ],
   "source": [
    "nome_modelo_ranking_pt = 'unicamp-dl/mMiniLM-L6-v2-pt-v2'\n",
    "nome_caminho_modelo_pt = \"/home/borela/fontes/relevar-busca/modelo/\" + nome_modelo_ranking_pt\n",
    "assert os.path.exists(nome_caminho_modelo_pt), f\"Path para {nome_caminho_modelo_pt} não existe!\"\n",
    "tokenizador_pt_minilm = AutoTokenizer.from_pretrained(nome_caminho_modelo_pt)\n",
    "nome_modelo_monot5_3b = 'unicamp-dl/mt5-3B-mmarco-en-pt'\n",
    "# \"A mono-ptT5 reranker model (850 mb) pretrained in the BrWac corpus, finetuned for 100k steps on Portuguese translated version of MS MARCO passage dataset. The portuguese dataset was translated using Google Translate.\")\n",
    "\n",
    "nome_caminho_modelo_3b = \"/home/borela/fontes/relevar-busca/modelo/\" + nome_modelo_monot5_3b\n",
    "assert os.path.exists(nome_caminho_modelo_3b), f\"Path para {nome_caminho_modelo_3b} não existe!\"\n",
    "tokenizador_pt_monot5_3b = AutoTokenizer.from_pretrained(nome_caminho_modelo_3b)\n",
    "def retorna_num_tokens(parm_texto:str, parm_tokenizador:AutoTokenizer):\n",
    "    return len(parm_tokenizador.tokenize(parm_texto))\n"
   ]
  },
  {
   "cell_type": "code",
   "execution_count": 15,
   "id": "4e171047",
   "metadata": {},
   "outputs": [],
   "source": [
    "df_doc['LEN_TEXT_CHAR'] = df_doc['TEXT'].apply(len)\n",
    "df_doc['LEN_TEXT_CHAR_LOG'] = round(np.log(df_doc['TEXT'].apply(len))).astype(int)\n",
    "df_doc['NUM_WORD'] = df_doc['TEXT'].apply(lambda x: len(x.split()))\n",
    "df_doc['NUM_TOKENS_MONOT5_3B'] = df_doc['TEXT'].apply(retorna_num_tokens, parm_tokenizador=tokenizador_pt_monot5_3b)\n",
    "df_doc['NUM_TOKENS_MINILM'] = df_doc['TEXT'].apply(retorna_num_tokens, parm_tokenizador=tokenizador_pt_minilm)"
   ]
  },
  {
   "cell_type": "code",
   "execution_count": 16,
   "metadata": {},
   "outputs": [
    {
     "data": {
      "text/plain": [
       "Index(['TEXT', 'ID', 'NAME', 'DATE_REFERENCE', 'CLASS', 'HAS_SCOPE_NOTE', 'HAS_DEFINITION', 'HAS_SYNONYM', 'HAS_EXAMPLE', 'HAS_ENGLISH_TRANSLATION', 'HAS_SPECIALIZATION', 'HAS_RELATED_TERM',\n",
       "       'HAS_SPANISH_TRANSLATION', 'HAS_GENERALIZATION', 'TEXT_DEFINITION', 'TEXT_SYNONYM', 'TEXT_RELATED_TERM', 'TEXT_SCOPE_NOTE', 'TEXT_EXAMPLE', 'TEXT_ENGLISH_TRANSLATION',\n",
       "       'TEXT_SPANISH_TRANSLATION', 'TEXT_SPECIALIZATION', 'TEXT_GENERALIZATION', 'COUNT_INDEX_AREA', 'COUNT_INDEX_THEME', 'COUNT_INDEX_SUBTHEME', 'COUNT_INDEX_EXTRA', 'COUNT_INDEX_TOTAL',\n",
       "       'LEN_TEXT_CHAR', 'LEN_TEXT_CHAR_LOG', 'NUM_WORD', 'NUM_TOKENS_MONOT5_3B', 'NUM_TOKENS_MINILM'],\n",
       "      dtype='object')"
      ]
     },
     "execution_count": 16,
     "metadata": {},
     "output_type": "execute_result"
    }
   ],
   "source": [
    "df_doc.columns"
   ]
  },
  {
   "cell_type": "code",
   "execution_count": 17,
   "metadata": {},
   "outputs": [
    {
     "name": "stderr",
     "output_type": "stream",
     "text": [
      "100%|██████████| 13252/13252 [00:01<00:00, 8699.59it/s]"
     ]
    },
    {
     "name": "stdout",
     "output_type": "stream",
     "text": [
      "CPU times: user 1.52 s, sys: 7.5 ms, total: 1.53 s\n",
      "Wall time: 1.53 s\n"
     ]
    },
    {
     "name": "stderr",
     "output_type": "stream",
     "text": [
      "\n"
     ]
    }
   ],
   "source": [
    "%%time\n",
    "data_index_json = []\n",
    "for cnt, (index, row_doc) in tqdm(enumerate(df_doc.sort_values(by='ID').iterrows()), total=df_doc.shape[0]):\n",
    "    #print(row_doc['TEXT_SPECIALIZATION'], type(row_doc['TEXT_SPECIALIZATION']), np.isnan(row_doc['TEXT_SPECIALIZATION']))\n",
    "    #print(isinstance(row_doc['TEXT_SPECIALIZATION'],float))\n",
    "    #print(row_doc['TEXT_ENGLISH_TRANSLATION'], type(row_doc['TEXT_ENGLISH_TRANSLATION'])) #, np.isnan(row_doc['TEXT_ENGLISH_TRANSLATION']))\n",
    "    try:\n",
    "        row_json = {\n",
    "            'content': row_doc['TEXT'],\n",
    "            'id': row_doc['ID'],\n",
    "            'meta': {}\n",
    "        }               \n",
    "        for column_name in df_doc.columns:\n",
    "            if column_name not in ['ID','TEXT']:\n",
    "                # if np.isnan(row_doc[column_name]):\n",
    "                if column_name.startswith('TEXT'):\n",
    "                    if isinstance(row_doc[column_name],float):\n",
    "                        row_json['meta'][column_name.lower()] = \"\"\n",
    "                    else:\n",
    "                        row_json['meta'][column_name.lower()] = row_doc[column_name]        \n",
    "                else:\n",
    "                    row_json['meta'][column_name.lower()] = row_doc[column_name]        \n",
    "        \n",
    "        data_index_json.append(row_json)\n",
    "    except Exception as e:\n",
    "        print('row', row_doc)\n",
    "        print(e)\n",
    "        continue\n"
   ]
  },
  {
   "cell_type": "code",
   "execution_count": 18,
   "metadata": {},
   "outputs": [
    {
     "name": "stdout",
     "output_type": "stream",
     "text": [
      "Total 13252\n"
     ]
    }
   ],
   "source": [
    "print(f\"Total {len(data_index_json)}\")"
   ]
  },
  {
   "cell_type": "code",
   "execution_count": 19,
   "metadata": {},
   "outputs": [
    {
     "name": "stdout",
     "output_type": "stream",
     "text": [
      "{'content': 'O termo é \"Abandono de cargo\".\\nAbandono de cargo tem definição: \"Configura abandono de cargo a ausência intencional do servidor ao serviço por mais de trinta dias consecutivos.\".\\nAbandono de cargo tem nota de escopo: \"Artigo 323 Código Penal: \"Abandonar cargo público, fora dos casos permitidos em lei.\"\".\\nAbandono de cargo tem sinônimo: \"Abandono de função\" e \"Abandono do cargo\".\\nAbandono de cargo tem termo relacionado: \"Abandono de emprego\", \"Deserção\", \"Falta grave\", \"Função pública\", \"Demissão de servidor\", \"Inassiduidade habitual\", \"Cargo público\", \"Processo administrativo disciplinar\" e \"Pena disciplinar\".\\nAbandono de cargo tem tradução em espanhol: \"Abandono de puesto\".\\nAbandono de cargo tem tradução em inglês: \"Abandonment of office\".', 'id': 1, 'meta': {'name': 'Abandono de cargo', 'date_reference': 20230605, 'class': 'Termo', 'has_scope_note': 1, 'has_definition': 1, 'has_synonym': 1, 'has_example': 0, 'has_english_translation': 1, 'has_specialization': 0, 'has_related_term': 1, 'has_spanish_translation': 1, 'has_generalization': 0, 'text_definition': 'Configura abandono de cargo a ausência intencional do servidor ao serviço por mais de trinta dias consecutivos.', 'text_synonym': 'Abandono de função e Abandono do cargo.', 'text_related_term': 'Abandono de emprego, Deserção, Falta grave, Função pública, Demissão de servidor, Inassiduidade habitual, Cargo público, Processo administrativo disciplinar e Pena disciplinar.', 'text_scope_note': 'Artigo 323 Código Penal', 'text_example': '', 'text_english_translation': 'Abandonment of office.', 'text_spanish_translation': 'Abandono de puesto.', 'text_specialization': '', 'text_generalization': '', 'count_index_area': 0, 'count_index_theme': 1, 'count_index_subtheme': 0, 'count_index_extra': 0, 'count_index_total': 1, 'len_text_char': 750, 'len_text_char_log': 7, 'num_word': 107, 'num_tokens_monot5_3b': 228, 'num_tokens_minilm': 208}}\n"
     ]
    }
   ],
   "source": [
    "print(data_index_json[0])\n"
   ]
  },
  {
   "attachments": {},
   "cell_type": "markdown",
   "metadata": {},
   "source": [
    "# Index creation"
   ]
  },
  {
   "cell_type": "code",
   "execution_count": 20,
   "metadata": {},
   "outputs": [
    {
     "name": "stdout",
     "output_type": "stream",
     "text": [
      "There are no index with name indir%\n"
     ]
    }
   ],
   "source": [
    "index_dict = util_elastic.return_indexes('indir', parm_print=True)"
   ]
  },
  {
   "cell_type": "code",
   "execution_count": null,
   "metadata": {},
   "outputs": [],
   "source": [
    "# util_elastic.delete_index('indir_juris_tcu_index')"
   ]
  },
  {
   "cell_type": "code",
   "execution_count": 21,
   "metadata": {},
   "outputs": [],
   "source": [
    "INDEX_NAME = 'indir_juris_tcu_index'"
   ]
  },
  {
   "cell_type": "code",
   "execution_count": 22,
   "metadata": {},
   "outputs": [
    {
     "name": "stdout",
     "output_type": "stream",
     "text": [
      "\n",
      "before write\n",
      "\n",
      "Qtd de documentos 0\n",
      "\n",
      "Qtd de embeddings 0\n",
      "\n",
      "Documento.id= 1: None\n",
      "\n",
      "after write\n",
      "\n",
      "Qtd de documentos 13252\n",
      "\n",
      "Qtd de embeddings 0\n",
      "\n",
      "Documento.id= 1: <Document: id=1, content='O termo é \"Abandono de cargo\".\n",
      "Abandono de cargo tem definição: \"Configura abandono de cargo a ausên...'>\n"
     ]
    }
   ],
   "source": [
    "index = util_elastic.create_index(parm_index_name=INDEX_NAME, parm_data_carga_json=data_index_json,  parm_embedding_dim=1024)"
   ]
  },
  {
   "cell_type": "code",
   "execution_count": 24,
   "metadata": {},
   "outputs": [],
   "source": [
    "nome_modelo_embedding_model_sts_rufimelo = \"rufimelo/Legal-BERTimbau-sts-large-ma-v3\"\n",
    "nome_caminho_modelo = \"/home/borela/fontes/relevar-busca/modelo/\" + nome_modelo_embedding_model_sts_rufimelo\n",
    "assert os.path.exists(nome_caminho_modelo), f\"Path para {nome_caminho_modelo} não existe!\"\n"
   ]
  },
  {
   "cell_type": "code",
   "execution_count": 25,
   "metadata": {},
   "outputs": [
    {
     "data": {
      "application/vnd.jupyter.widget-view+json": {
       "model_id": "8e0dbd7aea314d21b1dcba8d5d3a6cf0",
       "version_major": 2,
       "version_minor": 0
      },
      "text/plain": [
       "Updating embeddings:   0%|          | 0/13252 [00:00<?, ? Docs/s]"
      ]
     },
     "metadata": {},
     "output_type": "display_data"
    }
   ],
   "source": [
    "%%time\n",
    "util_elastic.update_index_embedding_sts(parm_index=index, parm_path_model=nome_caminho_modelo)"
   ]
  },
  {
   "cell_type": "code",
   "execution_count": null,
   "metadata": {},
   "outputs": [],
   "source": []
  }
 ],
 "metadata": {
  "kernelspec": {
   "display_name": "Python (relevar-busca)",
   "language": "python",
   "name": "relevar-busca"
  },
  "language_info": {
   "codemirror_mode": {
    "name": "ipython",
    "version": 3
   },
   "file_extension": ".py",
   "mimetype": "text/x-python",
   "name": "python",
   "nbconvert_exporter": "python",
   "pygments_lexer": "ipython3",
   "version": "3.7.13"
  },
  "orig_nbformat": 4,
  "vscode": {
   "interpreter": {
    "hash": "45978bf3509deeb93161d1472b16f82a40245d44c2beae6c63ad8f9bb3f69171"
   }
  }
 },
 "nbformat": 4,
 "nbformat_minor": 2
}
