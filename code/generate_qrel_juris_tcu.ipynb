{
 "cells": [
  {
   "attachments": {},
   "cell_type": "markdown",
   "id": "998a4011",
   "metadata": {},
   "source": [
    "# Imports and preparation"
   ]
  },
  {
   "cell_type": "code",
   "execution_count": 1,
   "metadata": {},
   "outputs": [],
   "source": [
    "import os"
   ]
  },
  {
   "cell_type": "code",
   "execution_count": 2,
   "metadata": {},
   "outputs": [],
   "source": [
    "import numpy as np"
   ]
  },
  {
   "cell_type": "code",
   "execution_count": 3,
   "id": "37d4165c",
   "metadata": {},
   "outputs": [],
   "source": [
    "import pandas as pd"
   ]
  },
  {
   "cell_type": "code",
   "execution_count": 4,
   "metadata": {},
   "outputs": [],
   "source": [
    "from tqdm import tqdm"
   ]
  },
  {
   "cell_type": "code",
   "execution_count": 5,
   "metadata": {},
   "outputs": [],
   "source": [
    "import time, gc"
   ]
  },
  {
   "cell_type": "code",
   "execution_count": 6,
   "metadata": {},
   "outputs": [],
   "source": [
    "import importlib"
   ]
  },
  {
   "cell_type": "code",
   "execution_count": 7,
   "metadata": {},
   "outputs": [],
   "source": [
    "from pathlib import Path"
   ]
  },
  {
   "cell_type": "code",
   "execution_count": 8,
   "metadata": {},
   "outputs": [
    {
     "name": "stderr",
     "output_type": "stream",
     "text": [
      "OpenAI tiktoken module is not available for Python < 3.8,Linux ARM64 and AARCH64. Falling back to GPT2TokenizerFast.\n",
      "WARNING:haystack.nodes.answer_generator.openai:OpenAI tiktoken module is not available for Python < 3.8,Linux ARM64 and AARCH64. Falling back to GPT2TokenizerFast.\n"
     ]
    }
   ],
   "source": [
    "from util import util_elastic"
   ]
  },
  {
   "cell_type": "code",
   "execution_count": 9,
   "metadata": {},
   "outputs": [],
   "source": [
    "from util import util_pipeline"
   ]
  },
  {
   "cell_type": "code",
   "execution_count": 10,
   "id": "f911fcf2",
   "metadata": {},
   "outputs": [],
   "source": [
    "# Para ter repetibilidade nos resultados\n",
    "random_state = 1\n",
    "\n",
    "# Tratar valores infinitos (+ e -) como np.NaN\n",
    "pd.options.mode.use_inf_as_na = True\n",
    "\n",
    "# IMPORTANTE para tornar figuras interativas\n",
    "# %matplotlib notebook\n",
    "\n",
    "# Tamanho padrão das figuras\n",
    "figsize=(10,6)\n",
    "\n",
    "pd.set_option('display.max_row', 1000)\n",
    "\n",
    "pd.set_option('display.max_columns', 50)\n",
    "\n",
    "pd.set_option('display.column_space', 40)\n",
    "pd.set_option('display.max_colwidth', 100)\n",
    "pd.set_option('display.width', 200)\n"
   ]
  },
  {
   "cell_type": "code",
   "execution_count": 11,
   "id": "6e05b9a6",
   "metadata": {},
   "outputs": [],
   "source": [
    "PATH_QUERY = '../data/juris_tcu/query.csv'\n",
    "PATH_QREL =  '../data/juris_tcu/qrel.csv'"
   ]
  },
  {
   "attachments": {},
   "cell_type": "markdown",
   "metadata": {},
   "source": [
    "# Create reference to index (elastic search)"
   ]
  },
  {
   "cell_type": "code",
   "execution_count": 12,
   "metadata": {},
   "outputs": [
    {
     "name": "stdout",
     "output_type": "stream",
     "text": [
      "Index: indir_juris_tcu\n",
      "{'health': 'yellow', 'status': 'open', 'index': 'indir_juris_tcu', 'uuid': 'OO2nZF_aRyWnrw-hDTwfbA', 'pri': '1', 'rep': '1', 'docs.count': '16045', 'docs.deleted': '6129', 'store.size': '338.2mb', 'pri.store.size': '338.2mb'}\n",
      "\n",
      "Index: indir_juris_tcu_index\n",
      "{'health': 'yellow', 'status': 'open', 'index': 'indir_juris_tcu_index', 'uuid': 'Pl89T40dSwORJnIuYF1t9A', 'pri': '1', 'rep': '1', 'docs.count': '13255', 'docs.deleted': '13255', 'store.size': '289.1mb', 'pri.store.size': '289.1mb'}\n",
      "\n"
     ]
    }
   ],
   "source": [
    "index_dict = util_elastic.return_indexes('indir', parm_print=True)"
   ]
  },
  {
   "cell_type": "code",
   "execution_count": 13,
   "metadata": {},
   "outputs": [
    {
     "data": {
      "text/plain": [
       "{'indir_juris_tcu': {'health': 'yellow',\n",
       "  'status': 'open',\n",
       "  'index': 'indir_juris_tcu',\n",
       "  'uuid': 'OO2nZF_aRyWnrw-hDTwfbA',\n",
       "  'pri': '1',\n",
       "  'rep': '1',\n",
       "  'docs.count': '16045',\n",
       "  'docs.deleted': '6129',\n",
       "  'store.size': '338.2mb',\n",
       "  'pri.store.size': '338.2mb'},\n",
       " 'indir_juris_tcu_index': {'health': 'yellow',\n",
       "  'status': 'open',\n",
       "  'index': 'indir_juris_tcu_index',\n",
       "  'uuid': 'Pl89T40dSwORJnIuYF1t9A',\n",
       "  'pri': '1',\n",
       "  'rep': '1',\n",
       "  'docs.count': '13255',\n",
       "  'docs.deleted': '13255',\n",
       "  'store.size': '289.1mb',\n",
       "  'pri.store.size': '289.1mb'}}"
      ]
     },
     "execution_count": 13,
     "metadata": {},
     "output_type": "execute_result"
    }
   ],
   "source": [
    "index_dict"
   ]
  },
  {
   "cell_type": "code",
   "execution_count": 14,
   "metadata": {},
   "outputs": [],
   "source": [
    "INDEX_NAME = 'indir_juris_tcu'"
   ]
  },
  {
   "cell_type": "code",
   "execution_count": 15,
   "metadata": {},
   "outputs": [
    {
     "name": "stdout",
     "output_type": "stream",
     "text": [
      "\n",
      "Qtd de documentos 16045\n",
      "\n",
      "Qtd de embeddings 16045\n",
      "\n",
      "Documento.id=1: None\n"
     ]
    }
   ],
   "source": [
    "index = util_elastic.return_index(parm_index_name=INDEX_NAME)"
   ]
  },
  {
   "attachments": {},
   "cell_type": "markdown",
   "metadata": {},
   "source": [
    "# Busca"
   ]
  },
  {
   "cell_type": "code",
   "execution_count": 16,
   "metadata": {},
   "outputs": [],
   "source": [
    "# Test query\n",
    "# parm_query = \"trata-se de uma denúncia contra o prefeito de Manhuaçu por não haver pago os funcionários da área de limpeza urbana\"\n",
    "parm_query = \"documentos local impróprio perda de informações responsabilização\""
   ]
  },
  {
   "cell_type": "code",
   "execution_count": 22,
   "metadata": {},
   "outputs": [
    {
     "data": {
      "text/plain": [
       "<module 'util.util_pipeline' from '/home/borela/fontes/ind-ir/code/util/util_pipeline.py'>"
      ]
     },
     "execution_count": 22,
     "metadata": {},
     "output_type": "execute_result"
    }
   ],
   "source": [
    "# se precisar reload\n",
    "importlib.reload(util_pipeline)"
   ]
  },
  {
   "cell_type": "code",
   "execution_count": 17,
   "metadata": {},
   "outputs": [
    {
     "name": "stdout",
     "output_type": "stream",
     "text": [
      "CPU times: user 596 µs, sys: 0 ns, total: 596 µs\n",
      "Wall time: 593 µs\n"
     ]
    }
   ],
   "source": [
    "%%time\n",
    "pipe = util_pipeline.return_pipeline_bm25(index)"
   ]
  },
  {
   "cell_type": "code",
   "execution_count": 18,
   "metadata": {},
   "outputs": [
    {
     "name": "stdout",
     "output_type": "stream",
     "text": [
      "CPU times: user 6.5 ms, sys: 0 ns, total: 6.5 ms\n",
      "Wall time: 175 ms\n"
     ]
    }
   ],
   "source": [
    "%%time\n",
    "doctos_retornados = pipe.run(query=parm_query, \n",
    " params={\"Retriever\": {\"top_k\": 300}})\n"
   ]
  },
  {
   "cell_type": "code",
   "execution_count": 19,
   "metadata": {},
   "outputs": [
    {
     "data": {
      "text/plain": [
       "dict_keys(['documents', 'root_node', 'params', 'query', 'node_id'])"
      ]
     },
     "execution_count": 19,
     "metadata": {},
     "output_type": "execute_result"
    }
   ],
   "source": [
    "doctos_retornados.keys()"
   ]
  },
  {
   "cell_type": "code",
   "execution_count": 20,
   "metadata": {},
   "outputs": [
    {
     "data": {
      "text/plain": [
       "<Document: {'content': 'A transferência de documentos da entidade para local impróprio ao armazenamento, causando a perda de informações ou inviabilizando seu manuseio, de forma a impedir a atuação do TCU, é causa de responsabilização do gestor que a ordenou.', 'content_type': 'text', 'score': 0.9821323695658761, 'meta': {'area_name': 'Responsabilidade', 'num_tokens_monot5_3b': 69, 'normative_author_name': 'JOSÉ JORGE', 'normative_date': '2012-10-03', 'normative_author_type': 'RELATOR', 'normative_process_type': 'REPRESENTAÇÃO', 'num_word': 37, 'reference_list': 'Lei Ordinária 8.443/1992, art. 58, inciso II', 'paradigmatic': '', 'area_id_descriptor': 775, 'len_text_char_log': 5, 'num_tokens_minilm': 53, 'normative_identification': 'Acórdão 2669/2012 - Plenário', 'len_text_char': 235}, 'id_hash_keys': ['content'], 'embedding': None, 'id': '34899'}>"
      ]
     },
     "execution_count": 20,
     "metadata": {},
     "output_type": "execute_result"
    }
   ],
   "source": [
    "doctos_retornados['documents'][0]"
   ]
  },
  {
   "cell_type": "code",
   "execution_count": 27,
   "metadata": {},
   "outputs": [
    {
     "name": "stdout",
     "output_type": "stream",
     "text": [
      "Parâmetros usados: {'Retriever': {'top_k': 300}}\n",
      "Consulta: documentos local impróprio perda de informações responsabilização\n",
      "Qtd documentos retornados: 300\n",
      "Primeiro docto:\n",
      "<Document: id=34899, content='A transferência de documentos da entidade para local impróprio ao armazenamento, causando a perda de...'>\n",
      "\n",
      "Último (300):\n",
      "<Document: id=18169, content='A Administração deve implantar controle da execução orçamentária, a fim de obter prontamente informa...'>\n",
      "Seguem os nomes dos termos recuperados em ordem de score\n",
      "0 : ['34899', 0.981963816033656]\n",
      "1 : ['61421', 0.826691701018659]\n",
      "2 : ['13144', 0.8027661902911283]\n",
      "3 : ['26263', 0.7980645674009239]\n",
      "4 : ['32649', 0.7906508235557026]\n",
      "5 : ['32563', 0.7807724254084968]\n",
      "6 : ['140073', 0.7796415759178017]\n",
      "7 : ['58729', 0.7736531781492406]\n",
      "8 : ['27996', 0.7714461243794927]\n",
      "9 : ['23179', 0.7708551682502112]\n",
      "10 : ['31298', 0.7701182228767582]\n",
      "11 : ['32725', 0.7683082819721286]\n",
      "12 : ['31559', 0.7665169136509812]\n",
      "13 : ['32795', 0.7649085820417367]\n",
      "14 : ['31382', 0.7629040530302351]\n",
      "15 : ['43177', 0.7619799129678848]\n",
      "16 : ['27872', 0.7596263810450026]\n",
      "17 : ['25408', 0.7575837633282235]\n",
      "18 : ['32726', 0.7541688289055944]\n",
      "19 : ['7166', 0.7541466267946436]\n",
      "20 : ['35003', 0.7519282708307872]\n",
      "21 : ['96594', 0.7519282708307872]\n",
      "22 : ['26592', 0.7512670546485644]\n",
      "23 : ['59459', 0.7463783871712859]\n",
      "24 : ['99778', 0.7463783871712859]\n",
      "25 : ['141551', 0.7463783871712859]\n",
      "26 : ['31012', 0.7439551497503067]\n",
      "27 : ['32841', 0.7412676487599452]\n",
      "28 : ['143346', 0.7409918311533205]\n",
      "29 : ['34670', 0.7404874986401292]\n",
      "30 : ['31283', 0.7392470479069834]\n",
      "31 : ['81993', 0.7392470479069834]\n",
      "32 : ['14848', 0.7381178680170523]\n",
      "33 : ['47188', 0.7378819011338003]\n",
      "34 : ['36088', 0.7370604252542632]\n",
      "35 : ['107959', 0.7346731267595957]\n",
      "36 : ['33228', 0.7336401870407633]\n",
      "37 : ['99119', 0.7308690025147682]\n",
      "38 : ['5747', 0.7300542975806976]\n",
      "39 : ['140313', 0.729811286926816]\n",
      "40 : ['16298', 0.7293563728100934]\n",
      "41 : ['28073', 0.7253616815151158]\n",
      "42 : ['39425', 0.724016729617223]\n",
      "43 : ['14488', 0.7211349540584637]\n",
      "44 : ['14611', 0.7206992976975548]\n",
      "45 : ['45238', 0.7200598569071337]\n",
      "46 : ['90277', 0.7175174218006031]\n",
      "47 : ['72438', 0.7148678946542407]\n",
      "48 : ['71256', 0.714753763153281]\n",
      "49 : ['27980', 0.7107935080611554]\n",
      "50 : ['49625', 0.7092161549675516]\n",
      "51 : ['34657', 0.7084218482081426]\n",
      "52 : ['30280', 0.7066431030267305]\n",
      "53 : ['31295', 0.7041480037386304]\n",
      "54 : ['37329', 0.7041480037386304]\n",
      "55 : ['117078', 0.7039945842099142]\n",
      "56 : ['34960', 0.7027139022860288]\n",
      "57 : ['32739', 0.7025845125073278]\n",
      "58 : ['28436', 0.7010268146427207]\n",
      "59 : ['79794', 0.6988725243990888]\n",
      "60 : ['135758', 0.6988725243990888]\n",
      "61 : ['199', 0.6987070482277773]\n",
      "62 : ['27803', 0.6986343522353176]\n",
      "63 : ['32681', 0.6983996143455422]\n",
      "64 : ['32730', 0.698251784105424]\n",
      "65 : ['27016', 0.6960321684994513]\n",
      "66 : ['28451', 0.6952948605965361]\n",
      "67 : ['28111', 0.6949526148540652]\n",
      "68 : ['20989', 0.6939411038233447]\n",
      "69 : ['75294', 0.6934524281791388]\n",
      "70 : ['129141', 0.6934524281791388]\n",
      "71 : ['23051', 0.6933478440445998]\n",
      "72 : ['28965', 0.6917749259087583]\n",
      "73 : ['34807', 0.6913358344595694]\n",
      "74 : ['66834', 0.6905329091125929]\n",
      "75 : ['33585', 0.6900508684447006]\n",
      "76 : ['36474', 0.6899331843462857]\n",
      "77 : ['28439', 0.6882963575545946]\n",
      "78 : ['28458', 0.6882074219268676]\n",
      "79 : ['19686', 0.688072479336327]\n",
      "80 : ['28094', 0.686511185267027]\n",
      "81 : ['31616', 0.6864321776443545]\n",
      "82 : ['14276', 0.6862629987397296]\n",
      "83 : ['35623', 0.6856639602724535]\n",
      "84 : ['32687', 0.6847899835847553]\n",
      "85 : ['11610', 0.6828253124817324]\n",
      "86 : ['28437', 0.6828253124817324]\n",
      "87 : ['25571', 0.6814618723467221]\n",
      "88 : ['28012', 0.6814493091965793]\n",
      "89 : ['31414', 0.6810958320309479]\n",
      "90 : ['20920', 0.6808950365005668]\n",
      "91 : ['26218', 0.6807472265132946]\n",
      "92 : ['102918', 0.6807284950541979]\n",
      "93 : ['38542', 0.6806417196293851]\n",
      "94 : ['21117', 0.6805495944957539]\n",
      "95 : ['60757', 0.6800076045550618]\n",
      "96 : ['31800', 0.6798623028450368]\n",
      "97 : ['45766', 0.6798623028450368]\n",
      "98 : ['23084', 0.6796188945135554]\n",
      "99 : ['15322', 0.6793412679529147]\n",
      "100 : ['26052', 0.6787501804266135]\n",
      "101 : ['31410', 0.6787123614895544]\n",
      "102 : ['29044', 0.6785344106760923]\n",
      "103 : ['17220', 0.6784487767979216]\n",
      "104 : ['32564', 0.6780554241296023]\n",
      "105 : ['48354', 0.6777643279482435]\n",
      "106 : ['25666', 0.6767658520153057]\n",
      "107 : ['14589', 0.676229276350418]\n",
      "108 : ['15201', 0.676229276350418]\n",
      "109 : ['39759', 0.676229276350418]\n",
      "110 : ['55658', 0.6760203639158152]\n",
      "111 : ['15408', 0.6756723502292209]\n",
      "112 : ['25290', 0.6756473514211427]\n",
      "113 : ['43306', 0.6755335100832931]\n",
      "114 : ['20922', 0.6754352239357461]\n",
      "115 : ['148202', 0.6751422000588287]\n",
      "116 : ['14979', 0.6750783512354572]\n",
      "117 : ['32354', 0.674024816339293]\n",
      "118 : ['96076', 0.6737705572450825]\n",
      "119 : ['31386', 0.6736247693212083]\n",
      "120 : ['31390', 0.6736247693212083]\n",
      "121 : ['28452', 0.6724635995198999]\n",
      "122 : ['33595', 0.6723087708597562]\n",
      "123 : ['35072', 0.672236006691455]\n",
      "124 : ['28430', 0.6722051287840648]\n",
      "125 : ['25234', 0.6719667753635322]\n",
      "126 : ['34719', 0.6715141609073527]\n",
      "127 : ['31633', 0.6702812760606707]\n",
      "128 : ['19740', 0.6698074220505424]\n",
      "129 : ['34203', 0.6687669084646476]\n",
      "130 : ['17495', 0.6686840832980018]\n",
      "131 : ['18917', 0.6686271158944936]\n",
      "132 : ['21033', 0.6681488493241483]\n",
      "133 : ['25640', 0.6681077289618904]\n",
      "134 : ['35438', 0.6677245622934881]\n",
      "135 : ['33661', 0.667232719155482]\n",
      "136 : ['25438', 0.6670034413933266]\n",
      "137 : ['28440', 0.6669610892490633]\n",
      "138 : ['27123', 0.6669240212747635]\n",
      "139 : ['63366', 0.6666901650169648]\n",
      "140 : ['26004', 0.6665233500330017]\n",
      "141 : ['27122', 0.6664879081446812]\n",
      "142 : ['17316', 0.6656419664505746]\n",
      "143 : ['31021', 0.6654095012090846]\n",
      "144 : ['2128', 0.6650063303824149]\n",
      "145 : ['67570', 0.6643682193783744]\n",
      "146 : ['31577', 0.6642184697117428]\n",
      "147 : ['20577', 0.6640800640744323]\n",
      "148 : ['55497', 0.6640108785726454]\n",
      "149 : ['17888', 0.6638444894494592]\n",
      "150 : ['31613', 0.6638444894494592]\n",
      "151 : ['33647', 0.6638444894494592]\n",
      "152 : ['32554', 0.6636058308257754]\n",
      "153 : ['27058', 0.663477124789279]\n",
      "154 : ['33583', 0.663477124789279]\n",
      "155 : ['32575', 0.6632549716896277]\n",
      "156 : ['17275', 0.663224051277826]\n",
      "157 : ['85094', 0.663224051277826]\n",
      "158 : ['29934', 0.6626868324621433]\n",
      "159 : ['17001', 0.6623076718761245]\n",
      "160 : ['21276', 0.6623076718761245]\n",
      "161 : ['31223', 0.6623076718761245]\n",
      "162 : ['31387', 0.6619979502904154]\n",
      "163 : ['34753', 0.6619475920174281]\n",
      "164 : ['71110', 0.6618669003650333]\n",
      "165 : ['25581', 0.6618136061488321]\n",
      "166 : ['110282', 0.6618136061488321]\n",
      "167 : ['29580', 0.6617782702388628]\n",
      "168 : ['16265', 0.661740730501969]\n",
      "169 : ['28867', 0.6615816375734485]\n",
      "170 : ['23997', 0.661413242409296]\n",
      "171 : ['23143', 0.6612845820385647]\n",
      "172 : ['30045', 0.6610399000497831]\n",
      "173 : ['20631', 0.6600498419765871]\n",
      "174 : ['35335', 0.6600498419765871]\n",
      "175 : ['16956', 0.6600280146785011]\n",
      "176 : ['26488', 0.6599989975124202]\n",
      "177 : ['15448', 0.6597050079870885]\n",
      "178 : ['19348', 0.6597050079870885]\n",
      "179 : ['17956', 0.6597050079870885]\n",
      "180 : ['35459', 0.6595880507544849]\n",
      "181 : ['28543', 0.659573770396349]\n",
      "182 : ['38333', 0.6593158152377194]\n",
      "183 : ['17544', 0.6591818456723263]\n",
      "184 : ['104811', 0.659065256570699]\n",
      "185 : ['25359', 0.6589611939590501]\n",
      "186 : ['24175', 0.6588937713426374]\n",
      "187 : ['63932', 0.6588102145659694]\n",
      "188 : ['35002', 0.6585044543256979]\n",
      "189 : ['32453', 0.6582534282741903]\n",
      "190 : ['75835', 0.6579255020404584]\n",
      "191 : ['26106', 0.6578665958990155]\n",
      "192 : ['13539', 0.65744336572893]\n",
      "193 : ['18205', 0.6573552885010403]\n",
      "194 : ['26915', 0.6570099190219314]\n",
      "195 : ['33097', 0.6569259241338493]\n",
      "196 : ['13783', 0.6568288094370607]\n",
      "197 : ['20919', 0.6568271752509497]\n",
      "198 : ['25583', 0.6568271752509497]\n",
      "199 : ['33085', 0.6568271752509497]\n",
      "200 : ['38432', 0.6568271752509497]\n",
      "201 : ['35343', 0.6567682857203226]\n",
      "202 : ['3145', 0.6566020559805064]\n",
      "203 : ['27132', 0.6563238186758018]\n",
      "204 : ['90450', 0.6563238186758018]\n",
      "205 : ['13152', 0.6562959611243507]\n",
      "206 : ['35490', 0.6562959611243507]\n",
      "207 : ['2075', 0.6562165386433182]\n",
      "208 : ['59650', 0.6562165386433182]\n",
      "209 : ['97435', 0.6562165386433182]\n",
      "210 : ['120442', 0.6562165386433182]\n",
      "211 : ['60240', 0.6561683806675549]\n",
      "212 : ['33593', 0.6558612864853964]\n",
      "213 : ['20595', 0.655721221589502]\n",
      "214 : ['25376', 0.655721221589502]\n",
      "215 : ['31557', 0.6556638052179709]\n",
      "216 : ['30092', 0.6555973132646266]\n",
      "217 : ['11680', 0.6554828289712754]\n",
      "218 : ['31131', 0.6554705806796753]\n",
      "219 : ['17393', 0.655397431016485]\n",
      "220 : ['27032', 0.655397431016485]\n",
      "221 : ['34687', 0.6551757238358099]\n",
      "222 : ['18897', 0.6546984998002573]\n",
      "223 : ['25236', 0.6545121957220189]\n",
      "224 : ['72647', 0.6544628137948075]\n",
      "225 : ['45022', 0.6544628137948075]\n",
      "226 : ['101548', 0.6544628137948075]\n",
      "227 : ['31994', 0.6542547343001612]\n",
      "228 : ['42157', 0.6542547343001612]\n",
      "229 : ['13701', 0.6542534251347947]\n",
      "230 : ['46812', 0.6542534251347947]\n",
      "231 : ['14290', 0.6541498805667393]\n",
      "232 : ['20834', 0.6541498805667393]\n",
      "233 : ['1302', 0.6541127568304548]\n",
      "234 : ['14292', 0.6540760667682725]\n",
      "235 : ['31065', 0.6540133333470276]\n",
      "236 : ['20540', 0.6538393035063281]\n",
      "237 : ['32910', 0.6536402361061456]\n",
      "238 : ['18353', 0.6536141096971274]\n",
      "239 : ['35451', 0.6536141096971274]\n",
      "240 : ['70118', 0.6528148011758504]\n",
      "241 : ['63568', 0.6526682986775001]\n",
      "242 : ['75112', 0.6526682986775001]\n",
      "243 : ['27899', 0.6525704631320666]\n",
      "244 : ['101788', 0.6525704631320666]\n",
      "245 : ['30912', 0.6523681143244744]\n",
      "246 : ['11679', 0.6520753353910913]\n",
      "247 : ['64193', 0.651951849493062]\n",
      "248 : ['115176', 0.651951849493062]\n",
      "249 : ['132144', 0.651771717459597]\n",
      "250 : ['34734', 0.6515961959159526]\n",
      "251 : ['21121', 0.6514677860307094]\n",
      "252 : ['40142', 0.6513632556576238]\n",
      "253 : ['80336', 0.6513632556576238]\n",
      "254 : ['60202', 0.6513632556576238]\n",
      "255 : ['35440', 0.6513632556576238]\n",
      "256 : ['30370', 0.6512420483817922]\n",
      "257 : ['22204', 0.6509537135946352]\n",
      "258 : ['35516', 0.6509474084081296]\n",
      "259 : ['31560', 0.6507702877801856]\n",
      "260 : ['17359', 0.6506469420143353]\n",
      "261 : ['19398', 0.6506469420143353]\n",
      "262 : ['34915', 0.6505803840289097]\n",
      "263 : ['18862', 0.6504291519316676]\n",
      "264 : ['28971', 0.6501601895037986]\n",
      "265 : ['21239', 0.6500896960314634]\n",
      "266 : ['19436', 0.6498517673566054]\n",
      "267 : ['33032', 0.649633674520748]\n",
      "268 : ['32662', 0.6492521134938479]\n",
      "269 : ['31545', 0.6492521134938479]\n",
      "270 : ['35202', 0.6491065926481987]\n",
      "271 : ['17866', 0.6490221831460584]\n",
      "272 : ['43178', 0.6490218613892413]\n",
      "273 : ['20985', 0.649009791139644]\n",
      "274 : ['15041', 0.6489519913937476]\n",
      "275 : ['25231', 0.6489519913937476]\n",
      "276 : ['27831', 0.6488751005388868]\n",
      "277 : ['50597', 0.6488751005388868]\n",
      "278 : ['42406', 0.6487581831575506]\n",
      "279 : ['14261', 0.6486473158932465]\n",
      "280 : ['32442', 0.6486118332719784]\n",
      "281 : ['35269', 0.6486118332719784]\n",
      "282 : ['120425', 0.6486118332719784]\n",
      "283 : ['23188', 0.6486076481801291]\n",
      "284 : ['30374', 0.6486076481801291]\n",
      "285 : ['106570', 0.6486076481801291]\n",
      "286 : ['27045', 0.6485046632256115]\n",
      "287 : ['33611', 0.6485046632256115]\n",
      "288 : ['15884', 0.6483616135559446]\n",
      "289 : ['25292', 0.6483616135559446]\n",
      "290 : ['35039', 0.6483603225681009]\n",
      "291 : ['81742', 0.6480384085263479]\n",
      "292 : ['31478', 0.6478918416622246]\n",
      "293 : ['35186', 0.6478918416622246]\n",
      "294 : ['7549', 0.6478202745879578]\n",
      "295 : ['25590', 0.6478202745879578]\n",
      "296 : ['26250', 0.6476710021212208]\n",
      "297 : ['31103', 0.647560537272506]\n",
      "298 : ['25890', 0.6475432318509423]\n",
      "299 : ['18169', 0.6474592382853206]\n"
     ]
    }
   ],
   "source": [
    "util_pipeline.detail_document_found(doctos_retornados)"
   ]
  },
  {
   "attachments": {},
   "cell_type": "markdown",
   "metadata": {},
   "source": [
    "        pipe options\n",
    "        util_pipeline.return_pipeline_sts_multihop(index)\n",
    "        util_pipeline.return_pipeline_join(index)\n",
    "        util_pipeline.return_pipeline_sts_multihop_reranker(index, 'MONOT5', parm_limit_query_size=350)\n",
    "        util_pipeline.return_pipeline_join_reranker(index, 'MONOT5', parm_limit_query_size=350)\n",
    "        util_pipeline.return_pipeline_bm25_reranker(index, 'MONOT5', parm_limit_query_size=350)\n",
    "        util_pipeline.return_pipeline_bm25_reranker(index, 'MINILM', parm_limit_query_size=350)\n",
    "        util_pipeline.return_pipeline_sts_reranker(index, 'MINILM', parm_limit_query_size=350)\n",
    "        util_pipeline.return_pipeline_sts_reranker(index, 'MONOT5', parm_limit_query_size=350)"
   ]
  },
  {
   "attachments": {},
   "cell_type": "markdown",
   "metadata": {},
   "source": [
    "imprimir o pipe"
   ]
  },
  {
   "cell_type": "code",
   "execution_count": 23,
   "metadata": {},
   "outputs": [
    {
     "data": {
      "image/png": "[encoded data removed]",
      "text/plain": [
       "<Figure size 432x288 with 1 Axes>"
      ]
     },
     "metadata": {
      "needs_background": "light"
     },
     "output_type": "display_data"
    }
   ],
   "source": [
    "util_pipeline.print_pipe_image(pipe)"
   ]
  },
  {
   "cell_type": "code",
   "execution_count": null,
   "metadata": {},
   "outputs": [],
   "source": [
    "# pipe.save_to_yaml(Path(\"pipe_join_ranker_monot5_3b.yahml\"), return_defaults = True)\n"
   ]
  }
 ],
 "metadata": {
  "kernelspec": {
   "display_name": "Python (relevar-busca)",
   "language": "python",
   "name": "relevar-busca"
  },
  "language_info": {
   "codemirror_mode": {
    "name": "ipython",
    "version": 3
   },
   "file_extension": ".py",
   "mimetype": "text/x-python",
   "name": "python",
   "nbconvert_exporter": "python",
   "pygments_lexer": "ipython3",
   "version": "3.7.13"
  },
  "orig_nbformat": 4,
  "vscode": {
   "interpreter": {
    "hash": "45978bf3509deeb93161d1472b16f82a40245d44c2beae6c63ad8f9bb3f69171"
   }
  }
 },
 "nbformat": 4,
 "nbformat_minor": 2
}
