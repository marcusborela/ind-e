{
 "cells": [
  {
   "attachments": {},
   "cell_type": "markdown",
   "id": "998a4011",
   "metadata": {},
   "source": [
    "# Imports and preparation"
   ]
  },
  {
   "cell_type": "code",
   "execution_count": 1,
   "metadata": {},
   "outputs": [],
   "source": [
    "import os"
   ]
  },
  {
   "cell_type": "code",
   "execution_count": 2,
   "metadata": {},
   "outputs": [],
   "source": [
    "import numpy as np"
   ]
  },
  {
   "cell_type": "code",
   "execution_count": 3,
   "id": "37d4165c",
   "metadata": {},
   "outputs": [],
   "source": [
    "import pandas as pd"
   ]
  },
  {
   "cell_type": "code",
   "execution_count": 4,
   "metadata": {},
   "outputs": [],
   "source": [
    "from tqdm import tqdm"
   ]
  },
  {
   "cell_type": "code",
   "execution_count": 30,
   "metadata": {},
   "outputs": [],
   "source": [
    "import time, gc"
   ]
  },
  {
   "cell_type": "code",
   "execution_count": 6,
   "metadata": {},
   "outputs": [],
   "source": [
    "from util import util_elastic"
   ]
  },
  {
   "cell_type": "code",
   "execution_count": 7,
   "metadata": {},
   "outputs": [],
   "source": [
    "from util import util_search"
   ]
  },
  {
   "cell_type": "code",
   "execution_count": 48,
   "metadata": {},
   "outputs": [],
   "source": [
    "from haystack.nodes import SentenceTransformersRankerLimit\n",
    "from haystack.nodes import MonoT5RankerLimit "
   ]
  },
  {
   "cell_type": "code",
   "execution_count": 10,
   "id": "f911fcf2",
   "metadata": {},
   "outputs": [],
   "source": [
    "# Para ter repetibilidade nos resultados\n",
    "random_state = 1\n",
    "\n",
    "# Tratar valores infinitos (+ e -) como np.NaN\n",
    "pd.options.mode.use_inf_as_na = True\n",
    "\n",
    "# IMPORTANTE para tornar figuras interativas\n",
    "# %matplotlib notebook\n",
    "\n",
    "# Tamanho padrão das figuras\n",
    "figsize=(10,6)\n",
    "\n",
    "pd.set_option('display.max_row', 1000)\n",
    "\n",
    "pd.set_option('display.max_columns', 50)\n",
    "\n",
    "pd.set_option('display.column_space', 40)\n",
    "pd.set_option('display.max_colwidth', 100)\n",
    "pd.set_option('display.width', 200)\n"
   ]
  },
  {
   "cell_type": "code",
   "execution_count": 11,
   "id": "6e05b9a6",
   "metadata": {},
   "outputs": [],
   "source": [
    "PATH_QUERY = '../data/index_juris/query.csv'\n",
    "PATH_QREL =  '../data/index_juris/qrel.csv'"
   ]
  },
  {
   "cell_type": "code",
   "execution_count": 12,
   "metadata": {},
   "outputs": [],
   "source": [
    "PATH_SEARCH_EXPERIMENT =  '../data/search/index_juris/search_experiment.csv'\n",
    "PATH_SEARCH_RESULT =  '../data/search/index_juris/search_experiment_result.csv'"
   ]
  },
  {
   "attachments": {},
   "cell_type": "markdown",
   "metadata": {},
   "source": [
    "# Create reference to index (elastic search)"
   ]
  },
  {
   "attachments": {},
   "cell_type": "markdown",
   "metadata": {},
   "source": [
    "Documentation https://docs.haystack.deepset.ai/docs\n",
    "https://haystack.deepset.ai/tutorials/09_dpr_training \n"
   ]
  },
  {
   "cell_type": "code",
   "execution_count": 13,
   "metadata": {},
   "outputs": [
    {
     "name": "stdout",
     "output_type": "stream",
     "text": [
      "Index: indir_index_juris\n",
      "{'health': 'yellow', 'status': 'open', 'index': 'indir_index_juris', 'uuid': 'pkdKp2wmTAOM0HyrusfENQ', 'pri': '1', 'rep': '1', 'docs.count': '13252', 'docs.deleted': '0', 'store.size': '276.4mb', 'pri.store.size': '276.4mb'}\n",
      "\n",
      "There are no index with name indir%\n"
     ]
    }
   ],
   "source": [
    "index_dict = util_elastic.return_indexes('indir', parm_print=True)"
   ]
  },
  {
   "cell_type": "code",
   "execution_count": 16,
   "metadata": {},
   "outputs": [],
   "source": [
    "INDEX_NAME = 'indir_index_juris'"
   ]
  },
  {
   "cell_type": "code",
   "execution_count": 19,
   "metadata": {},
   "outputs": [
    {
     "name": "stdout",
     "output_type": "stream",
     "text": [
      "\n",
      "Qtd de documentos 13252\n",
      "\n",
      "Qtd de embeddings 13252\n",
      "\n",
      "Documento.id=1: <Document: id=1, content='O termo é \"Abandono de cargo\".\n",
      "Abandono de cargo tem definição: \"Configura abandono de cargo a ausên...'>\n"
     ]
    }
   ],
   "source": [
    "index = util_elastic.return_index(parm_index_name=INDEX_NAME)"
   ]
  },
  {
   "cell_type": "markdown",
   "metadata": {},
   "source": [
    "# Load search pipelines"
   ]
  },
  {
   "cell_type": "code",
   "execution_count": 34,
   "metadata": {},
   "outputs": [],
   "source": [
    "# Test query\n",
    "parm_query = \"trata-se de uma denúncia contra o prefeito de Manhuaçu por não haver pago os funcionários da área de limpeza urbana\"\n",
    "parm_query = \"A transferência de documentos da entidade para local impróprio ao armazenamento, causando a perda de informações ou inviabilizando seu manuseio, de forma a impedir a atuação do TCU, é causa de responsabilização do gestor que a ordenou.\""
   ]
  },
  {
   "cell_type": "code",
   "execution_count": 38,
   "metadata": {},
   "outputs": [
    {
     "data": {
      "text/plain": [
       "<module 'util.util_elastic' from '/home/borela/fontes/ind-ir/code/util/util_elastic.py'>"
      ]
     },
     "execution_count": 38,
     "metadata": {},
     "output_type": "execute_result"
    }
   ],
   "source": [
    "import importlib\n",
    "importlib.reload(util_elastic)"
   ]
  },
  {
   "cell_type": "code",
   "execution_count": 32,
   "metadata": {},
   "outputs": [],
   "source": [
    "# defining retriever BM25\n",
    "pipeline_bm25 = util_elastic.return_pipeline_bm25(index)\n"
   ]
  },
  {
   "cell_type": "code",
   "execution_count": 37,
   "metadata": {},
   "outputs": [
    {
     "name": "stdout",
     "output_type": "stream",
     "text": [
      "Parâmetros usados: {'Retriever': {'top_k': 10, 'filters': {'class': ['Termo']}}}\n",
      "Consulta: A transferência de documentos da entidade para local impróprio ao armazenamento, causando a perda de informações ou inviabilizando seu manuseio, de forma a impedir a atuação do TCU, é causa de responsabilização do gestor que a ordenou.\n",
      "Qtd documentos retornados: 10\n",
      "Primeiro docto:\n",
      "<Document: id=1102005, content='O termo é \"Plano de contratações\".\n",
      "Plano de contratações tem definição: \"É o documento no qual a org...'>\n",
      "\n",
      "Último (10):\n",
      "<Document: id=6627, content='O termo é \"Matriz de fiscalização\".\n",
      "Matriz de fiscalização tem definição: \"Uma matriz de fiscalizaçã...'>\n",
      "Seguem os nomes dos termos recuperados em ordem de score\n",
      "0 : ['Plano de contratações', 0.9857202004884205]\n",
      "1 : ['Competência do TCU', 0.9850136948440441]\n",
      "2 : ['Teletrabalho', 0.9823720344893851]\n",
      "3 : ['Nexo de causalidade', 0.9818282753435749]\n",
      "4 : ['Processo administrativo de responsabilização', 0.9816628569708713]\n",
      "5 : ['Ofício de requisição', 0.9810424600107858]\n",
      "6 : ['Evidência documental', 0.9808839221817429]\n",
      "7 : ['Papéis de trabalho', 0.9800902480922153]\n",
      "8 : ['Julgamento de contas', 0.9780776387591876]\n",
      "9 : ['Matriz de fiscalização', 0.9778753129743464]\n"
     ]
    }
   ],
   "source": [
    "doc_search_return = pipeline_bm25.run(\n",
    "    query=parm_query,\n",
    "    params={\n",
    "        \"Retriever\": {\n",
    "            \"top_k\": 10,\n",
    "            \"filters\":{\"class\": [\"Termo\"]}\n",
    "        }})\n",
    "util_search.detail_document_found(doc_search_return)\n"
   ]
  },
  {
   "cell_type": "code",
   "execution_count": 41,
   "metadata": {},
   "outputs": [],
   "source": [
    "## defining retriever STS (sentence similarity)\n",
    "nome_modelo_embedding_model_sts_rufimelo = \"rufimelo/Legal-BERTimbau-sts-large-ma-v3\"\n",
    "# requer Embedding dimensions of the model (1024) don't match the embedding dimensions of the document store (768). Initiate ElasticsearchDocumentStore again with arg embedding_dim=1024.\n",
    "# nome_modelo = \"unicamp-dl/ptt5-base-pt-msmarco-100k-v2\"\n",
    "# nome_modelo = \"pierreguillou/bert-base-cased-squad-v1.1-portuguese\"\n",
    "nome_caminho_modelo = \"/home/borela/fontes/relevar-busca/modelo/\" + nome_modelo_embedding_model_sts_rufimelo\n",
    "assert os.path.exists(nome_caminho_modelo), f\"Path para {nome_caminho_modelo} não existe!\""
   ]
  },
  {
   "cell_type": "code",
   "execution_count": 43,
   "metadata": {},
   "outputs": [],
   "source": [
    "pipeline_sts = util_elastic.return_pipeline_sts(index, nome_caminho_modelo)"
   ]
  },
  {
   "cell_type": "code",
   "execution_count": 44,
   "metadata": {},
   "outputs": [
    {
     "name": "stdout",
     "output_type": "stream",
     "text": [
      "Parâmetros usados: {'Retriever': {'top_k': 10, 'filters': {'class': ['Termo']}}}\n",
      "Consulta: A transferência de documentos da entidade para local impróprio ao armazenamento, causando a perda de informações ou inviabilizando seu manuseio, de forma a impedir a atuação do TCU, é causa de responsabilização do gestor que a ordenou.\n",
      "Qtd documentos retornados: 10\n",
      "Primeiro docto:\n",
      "<Document: id=2577, content='O termo é \"Afastamento de responsável\".\n",
      "Afastamento de responsável tem definição: \"No início ou no c...'>\n",
      "\n",
      "Último (10):\n",
      "<Document: id=83, content='O termo é \"Anulação\".\n",
      "Anulação tem definição: \"É o ato ou a decisão, de caráter judicial ou administ...'>\n",
      "Seguem os nomes dos termos recuperados em ordem de score\n",
      "0 : ['Afastamento de responsável', 0.9546168861748239]\n",
      "1 : ['Risco de controle', 0.9431321899255821]\n",
      "2 : ['Vazamento de dados', 0.942404112002669]\n",
      "3 : ['Trancamento das contas', 0.9341491636096659]\n",
      "4 : ['Revisão de ofício', 0.9297291992714615]\n",
      "5 : ['Responsabilidade perante o controle externo', 0.9294792178601551]\n",
      "6 : ['Erro de procedimento', 0.9279971526664028]\n",
      "7 : ['Ato vinculado', 0.9275548361310705]\n",
      "8 : ['Termo de sigilo', 0.925027979414632]\n",
      "9 : ['Anulação', 0.924645376239448]\n"
     ]
    }
   ],
   "source": [
    "doc_search_return = pipeline_sts.run(\n",
    "    query=parm_query,\n",
    "    params={\n",
    "        \"Retriever\": {\n",
    "            \"top_k\": 10,\n",
    "            \"filters\":{\"class\": [\"Termo\"]}\n",
    "        }})\n",
    "util_search.detail_document_found(doc_search_return)\n"
   ]
  },
  {
   "cell_type": "markdown",
   "metadata": {},
   "source": [
    "## Reranking - minilm_pt\n"
   ]
  },
  {
   "cell_type": "markdown",
   "metadata": {},
   "source": [
    "mMiniLM-L6-v2-pt-msmarco-v2 is a multilingual miniLM-based model finetuned on a Portuguese translated version of MS MARCO passage dataset. In the v2 version, the Portuguese dataset was translated using Google Translate. Further information about the dataset or the translation method can be found on our mMARCO: A Multilingual Version of MS MARCO Passage Ranking Dataset and mMARCO repository.\n"
   ]
  },
  {
   "cell_type": "code",
   "execution_count": 55,
   "metadata": {},
   "outputs": [],
   "source": [
    "nome_modelo_ranking_pt = 'unicamp-dl/mMiniLM-L6-v2-pt-v2'\n",
    "nome_caminho_modelo = \"/home/borela/fontes/relevar-busca/modelo/\" + nome_modelo_ranking_pt\n",
    "assert os.path.exists(nome_caminho_modelo), f\"Path para {nome_caminho_modelo} não existe!\""
   ]
  },
  {
   "cell_type": "code",
   "execution_count": 56,
   "metadata": {},
   "outputs": [],
   "source": [
    "#ranker_minilm_pt = SentenceTransformersRanker(model_name_or_path=nome_caminho_modelo)\n",
    "ranker_minilm_pt = SentenceTransformersRankerLimit(model_name_or_path=nome_caminho_modelo, limit_query_size=350)"
   ]
  },
  {
   "cell_type": "code",
   "execution_count": 50,
   "metadata": {},
   "outputs": [
    {
     "name": "stdout",
     "output_type": "stream",
     "text": [
      "<Document: id=1110487, content='O termo é \"Vazamento de dados\".\n",
      "Vazamento de dados tem definição: \"Transmissão não-autorizada de dad...'> Vazamento de dados\n",
      "1110487 0.0024509401991963387 Vazamento de dados\n",
      "1000057 0.0007997120846994221 Termo de sigilo\n",
      "2663 0.0002845456183422357 Trancamento das contas\n",
      "1101311 0.00022979704954195768 Risco de controle\n",
      "15291 0.00013715452223550528 Revisão de ofício\n"
     ]
    }
   ],
   "source": [
    "doctos_retornados_ranker = ranker_minilm_pt.predict(query=parm_query,documents = doc_search_return['documents'], top_k=5)\n",
    "print(doctos_retornados_ranker[0],  doctos_retornados_ranker[0].meta['name'])\n",
    "util_search.detail_document_found(doctos_retornados_ranker)"
   ]
  },
  {
   "attachments": {},
   "cell_type": "markdown",
   "metadata": {},
   "source": [
    "## Reranking - monot5_3b\n"
   ]
  },
  {
   "cell_type": "code",
   "execution_count": 52,
   "metadata": {},
   "outputs": [],
   "source": [
    "nome_modelo_monot5_multilingual = 'unicamp-dl/ptt5-base-pt-msmarco-100k-v2'\n",
    "# \"A mono-ptT5 reranker model (850 mb) pretrained in the BrWac corpus, finetuned for 100k steps on Portuguese translated version of MS MARCO passage dataset. The portuguese dataset was translated using Google Translate.\")\n",
    "nome_caminho_modelo = \"/home/borela/fontes/relevar-busca/modelo/\" + nome_modelo_monot5_multilingual\n",
    "assert os.path.exists(nome_caminho_modelo), f\"Path para {nome_caminho_modelo} não existe!\""
   ]
  },
  {
   "cell_type": "code",
   "execution_count": 53,
   "metadata": {},
   "outputs": [],
   "source": [
    "ranker_monot5_multilingual = MonoT5RankerLimit(model_name_or_path=nome_caminho_modelo, limit_query_size=350)"
   ]
  },
  {
   "cell_type": "code",
   "execution_count": 57,
   "metadata": {},
   "outputs": [
    {
     "name": "stdout",
     "output_type": "stream",
     "text": [
      "<Document: id=2663, content='O termo é \"Trancamento das contas\".\n",
      "Trancamento das contas tem definição: \"O Tribunal ordenará o tra...'> Trancamento das contas\n",
      "2663 -6.416285991668701 Trancamento das contas\n",
      "2577 -6.9923858642578125 Afastamento de responsável\n",
      "1000057 -8.37442398071289 Termo de sigilo\n",
      "5098 -8.556228637695312 Responsabilidade perante o controle externo\n",
      "15291 -9.356241226196289 Revisão de ofício\n",
      "1110487 -9.744372367858887 Vazamento de dados\n",
      "6397 -9.853102684020996 Ato vinculado\n",
      "1101311 -10.173725128173828 Risco de controle\n",
      "15939 -10.493630409240723 Erro de procedimento\n",
      "83 -11.372177124023438 Anulação\n"
     ]
    }
   ],
   "source": [
    "doctos_retornados_ranker = ranker_monot5_multilingual.predict(query=parm_query,documents = doc_search_return['documents'], top_k=5)\n",
    "print(doctos_retornados_ranker[0],  doctos_retornados_ranker[0].meta['name'])\n",
    "util_search.detail_document_found(doctos_retornados_ranker)"
   ]
  },
  {
   "attachments": {},
   "cell_type": "markdown",
   "metadata": {},
   "source": [
    "## Criar pipelines"
   ]
  },
  {
   "cell_type": "code",
   "execution_count": null,
   "metadata": {},
   "outputs": [],
   "source": [
    "### Experimentando pipeline retriever bm25 + reranking \n",
    "pipe_bm25_ranker_monot5_3b = Pipeline()\n",
    "pipe_bm25_ranker_monot5_3b.add_node(component=retriever_bm25, name=\"Retriever\", inputs=[\"Query\"])\n",
    "pipe_bm25_ranker_monot5_3b.add_node(component=ranker_monot5_3b, name=\"Ranker\", inputs=[\"Retriever\"])  # \"Retriever\" é o nome do nó anterior\n",
    "result = pipe_bm25_ranker_monot5_3b.run(query=parm_query)\n",
    "resume_documentos(result)\n",
    "Com filtro\n",
    "result = pipe_bm25_ranker_monot5_3b.run(query=parm_query, params={'Retriever': {'top_k': 10, 'filters': {'qtd_indexacao_sistema_normas_segecex': {'$gte': 1}}}, 'Ranker': {'top_k': 10}})\n",
    "resume_documentos(result)"
   ]
  },
  {
   "attachments": {},
   "cell_type": "markdown",
   "metadata": {},
   "source": [
    "# Data load"
   ]
  },
  {
   "attachments": {},
   "cell_type": "markdown",
   "metadata": {},
   "source": [
    "## Query data load"
   ]
  },
  {
   "cell_type": "code",
   "execution_count": null,
   "id": "1cf03f22",
   "metadata": {},
   "outputs": [],
   "source": [
    "df_query = pd.read_csv(PATH_QUERY)"
   ]
  },
  {
   "cell_type": "code",
   "execution_count": null,
   "metadata": {},
   "outputs": [
    {
     "data": {
      "text/plain": [
       "(16022, 11)"
      ]
     },
     "metadata": {},
     "output_type": "display_data"
    }
   ],
   "source": [
    "df_query.shape"
   ]
  },
  {
   "cell_type": "code",
   "execution_count": null,
   "id": "a75dd812",
   "metadata": {},
   "outputs": [
    {
     "data": {
      "text/html": [
       "<div>\n",
       "<style scoped>\n",
       "    .dataframe tbody tr th:only-of-type {\n",
       "        vertical-align: middle;\n",
       "    }\n",
       "\n",
       "    .dataframe tbody tr th {\n",
       "        vertical-align: top;\n",
       "    }\n",
       "\n",
       "    .dataframe thead th {\n",
       "        text-align: right;\n",
       "    }\n",
       "</style>\n",
       "<table border=\"1\" class=\"dataframe\">\n",
       "  <thead>\n",
       "    <tr style=\"text-align: right;\">\n",
       "      <th></th>\n",
       "      <th>ID</th>\n",
       "      <th>TEXT</th>\n",
       "      <th>REFERENCE_LIST</th>\n",
       "      <th>PARADIGMATIC</th>\n",
       "      <th>AREA_NAME</th>\n",
       "      <th>AREA_ID_DESCRIPTOR</th>\n",
       "      <th>NORMATIVE_PROCESS_TYPE</th>\n",
       "      <th>NORMATIVE_IDENTIFICATION</th>\n",
       "      <th>NORMATIVE_DATE</th>\n",
       "      <th>NORMATIVE_AUTHOR_TYPE</th>\n",
       "      <th>NORMATIVE_AUTHOR_NAME</th>\n",
       "    </tr>\n",
       "  </thead>\n",
       "  <tbody>\n",
       "    <tr>\n",
       "      <th>0</th>\n",
       "      <td>34899</td>\n",
       "      <td>A transferência de documentos da entidade para local impróprio ao armazename...</td>\n",
       "      <td>Lei Ordinária 8.443/1992, art. 58, inciso II</td>\n",
       "      <td>NaN</td>\n",
       "      <td>Responsabilidade</td>\n",
       "      <td>775</td>\n",
       "      <td>REPRESENTAÇÃO</td>\n",
       "      <td>Acórdão 2669/2012 - Plenário</td>\n",
       "      <td>2012-10-03</td>\n",
       "      <td>RELATOR</td>\n",
       "      <td>JOSÉ JORGE</td>\n",
       "    </tr>\n",
       "    <tr>\n",
       "      <th>1</th>\n",
       "      <td>30271</td>\n",
       "      <td>A contratação de médicos e profissionais da área de saúde, como colaboradore...</td>\n",
       "      <td>NaN</td>\n",
       "      <td>NaN</td>\n",
       "      <td>Pessoal</td>\n",
       "      <td>1131</td>\n",
       "      <td>REPRESENTAÇÃO</td>\n",
       "      <td>Acórdão 2669/2012 - Plenário</td>\n",
       "      <td>2012-10-03</td>\n",
       "      <td>RELATOR</td>\n",
       "      <td>JOSÉ JORGE</td>\n",
       "    </tr>\n",
       "    <tr>\n",
       "      <th>2</th>\n",
       "      <td>26574</td>\n",
       "      <td>Para que seja conhecido o recurso de revisão, não basta apenas que se aprese...</td>\n",
       "      <td>NaN</td>\n",
       "      <td>NaN</td>\n",
       "      <td>Direito processual</td>\n",
       "      <td>5288</td>\n",
       "      <td>TOMADA DE CONTAS</td>\n",
       "      <td>Acórdão 514/2013 - Plenário</td>\n",
       "      <td>2013-03-13</td>\n",
       "      <td>RELATOR</td>\n",
       "      <td>ANA ARRAES</td>\n",
       "    </tr>\n",
       "    <tr>\n",
       "      <th>3</th>\n",
       "      <td>17902</td>\n",
       "      <td>A contratação de serviços comuns de engenharia que possam ser objetivamente ...</td>\n",
       "      <td>NaN</td>\n",
       "      <td>NaN</td>\n",
       "      <td>Licitação</td>\n",
       "      <td>932</td>\n",
       "      <td>RELATÓRIO DE LEVANTAMENTO</td>\n",
       "      <td>Acórdão 3144/2012 - Plenário</td>\n",
       "      <td>2012-11-21</td>\n",
       "      <td>RELATOR</td>\n",
       "      <td>ANA ARRAES</td>\n",
       "    </tr>\n",
       "    <tr>\n",
       "      <th>4</th>\n",
       "      <td>26089</td>\n",
       "      <td>A Fundação Banco do Brasil, por receber recursos da União, deve observar, qu...</td>\n",
       "      <td>NaN</td>\n",
       "      <td>NaN</td>\n",
       "      <td>Competência do TCU</td>\n",
       "      <td>5095</td>\n",
       "      <td>TOMADA DE CONTAS ESPECIAL</td>\n",
       "      <td>Acórdão 2071/2013 - Plenário</td>\n",
       "      <td>2013-08-07</td>\n",
       "      <td>RELATOR</td>\n",
       "      <td>JOSÉ JORGE</td>\n",
       "    </tr>\n",
       "  </tbody>\n",
       "</table>\n",
       "</div>"
      ],
      "text/plain": [
       "      ID                                                                             TEXT                                REFERENCE_LIST PARADIGMATIC           AREA_NAME  AREA_ID_DESCRIPTOR  \\\n",
       "0  34899  A transferência de documentos da entidade para local impróprio ao armazename...  Lei Ordinária 8.443/1992, art. 58, inciso II          NaN    Responsabilidade                 775   \n",
       "1  30271  A contratação de médicos e profissionais da área de saúde, como colaboradore...                                           NaN          NaN             Pessoal                1131   \n",
       "2  26574  Para que seja conhecido o recurso de revisão, não basta apenas que se aprese...                                           NaN          NaN  Direito processual                5288   \n",
       "3  17902  A contratação de serviços comuns de engenharia que possam ser objetivamente ...                                           NaN          NaN           Licitação                 932   \n",
       "4  26089  A Fundação Banco do Brasil, por receber recursos da União, deve observar, qu...                                           NaN          NaN  Competência do TCU                5095   \n",
       "\n",
       "      NORMATIVE_PROCESS_TYPE      NORMATIVE_IDENTIFICATION NORMATIVE_DATE NORMATIVE_AUTHOR_TYPE NORMATIVE_AUTHOR_NAME  \n",
       "0              REPRESENTAÇÃO  Acórdão 2669/2012 - Plenário     2012-10-03               RELATOR            JOSÉ JORGE  \n",
       "1              REPRESENTAÇÃO  Acórdão 2669/2012 - Plenário     2012-10-03               RELATOR            JOSÉ JORGE  \n",
       "2           TOMADA DE CONTAS   Acórdão 514/2013 - Plenário     2013-03-13               RELATOR            ANA ARRAES  \n",
       "3  RELATÓRIO DE LEVANTAMENTO  Acórdão 3144/2012 - Plenário     2012-11-21               RELATOR            ANA ARRAES  \n",
       "4  TOMADA DE CONTAS ESPECIAL  Acórdão 2071/2013 - Plenário     2013-08-07               RELATOR            JOSÉ JORGE  "
      ]
     },
     "metadata": {},
     "output_type": "display_data"
    }
   ],
   "source": [
    "df_query.head()"
   ]
  },
  {
   "attachments": {},
   "cell_type": "markdown",
   "metadata": {},
   "source": [
    "## Qrel data load"
   ]
  },
  {
   "cell_type": "code",
   "execution_count": 22,
   "id": "1cf03f22",
   "metadata": {},
   "outputs": [],
   "source": [
    "df_qrel = pd.read_csv(PATH_QREL)"
   ]
  },
  {
   "cell_type": "code",
   "execution_count": 23,
   "metadata": {},
   "outputs": [
    {
     "data": {
      "text/plain": [
       "(94653, 3)"
      ]
     },
     "execution_count": 23,
     "metadata": {},
     "output_type": "execute_result"
    }
   ],
   "source": [
    "df_qrel.shape"
   ]
  },
  {
   "cell_type": "code",
   "execution_count": 24,
   "id": "a75dd812",
   "metadata": {},
   "outputs": [
    {
     "data": {
      "text/html": [
       "<div>\n",
       "<style scoped>\n",
       "    .dataframe tbody tr th:only-of-type {\n",
       "        vertical-align: middle;\n",
       "    }\n",
       "\n",
       "    .dataframe tbody tr th {\n",
       "        vertical-align: top;\n",
       "    }\n",
       "\n",
       "    .dataframe thead th {\n",
       "        text-align: right;\n",
       "    }\n",
       "</style>\n",
       "<table border=\"1\" class=\"dataframe\">\n",
       "  <thead>\n",
       "    <tr style=\"text-align: right;\">\n",
       "      <th></th>\n",
       "      <th>ID_QUERY</th>\n",
       "      <th>ID_DOCTO</th>\n",
       "      <th>TYPE</th>\n",
       "    </tr>\n",
       "  </thead>\n",
       "  <tbody>\n",
       "    <tr>\n",
       "      <th>0</th>\n",
       "      <td>158</td>\n",
       "      <td>15147</td>\n",
       "      <td>INDEXACAO_EXTRA</td>\n",
       "    </tr>\n",
       "    <tr>\n",
       "      <th>1</th>\n",
       "      <td>37</td>\n",
       "      <td>15147</td>\n",
       "      <td>INDEXACAO_EXTRA</td>\n",
       "    </tr>\n",
       "    <tr>\n",
       "      <th>2</th>\n",
       "      <td>178</td>\n",
       "      <td>15147</td>\n",
       "      <td>INDEXACAO_EXTRA</td>\n",
       "    </tr>\n",
       "    <tr>\n",
       "      <th>3</th>\n",
       "      <td>14564</td>\n",
       "      <td>15147</td>\n",
       "      <td>INDEXACAO_EXTRA</td>\n",
       "    </tr>\n",
       "    <tr>\n",
       "      <th>4</th>\n",
       "      <td>9219</td>\n",
       "      <td>15147</td>\n",
       "      <td>INDEXACAO_EXTRA</td>\n",
       "    </tr>\n",
       "  </tbody>\n",
       "</table>\n",
       "</div>"
      ],
      "text/plain": [
       "   ID_QUERY  ID_DOCTO             TYPE\n",
       "0       158     15147  INDEXACAO_EXTRA\n",
       "1        37     15147  INDEXACAO_EXTRA\n",
       "2       178     15147  INDEXACAO_EXTRA\n",
       "3     14564     15147  INDEXACAO_EXTRA\n",
       "4      9219     15147  INDEXACAO_EXTRA"
      ]
     },
     "execution_count": 24,
     "metadata": {},
     "output_type": "execute_result"
    }
   ],
   "source": [
    "df_qrel.head()"
   ]
  },
  {
   "cell_type": "code",
   "execution_count": null,
   "metadata": {},
   "outputs": [],
   "source": []
  },
  {
   "cell_type": "code",
   "execution_count": null,
   "metadata": {},
   "outputs": [],
   "source": [
    "raise Exception ('Stop execution')"
   ]
  }
 ],
 "metadata": {
  "kernelspec": {
   "display_name": "Python (relevar-busca)",
   "language": "python",
   "name": "relevar-busca"
  },
  "language_info": {
   "codemirror_mode": {
    "name": "ipython",
    "version": 3
   },
   "file_extension": ".py",
   "mimetype": "text/x-python",
   "name": "python",
   "nbconvert_exporter": "python",
   "pygments_lexer": "ipython3",
   "version": "3.7.13"
  },
  "orig_nbformat": 4,
  "vscode": {
   "interpreter": {
    "hash": "45978bf3509deeb93161d1472b16f82a40245d44c2beae6c63ad8f9bb3f69171"
   }
  }
 },
 "nbformat": 4,
 "nbformat_minor": 2
}
