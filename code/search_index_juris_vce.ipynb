{
 "cells": [
  {
   "attachments": {},
   "cell_type": "markdown",
   "id": "998a4011",
   "metadata": {},
   "source": [
    "# Imports and preparation"
   ]
  },
  {
   "cell_type": "code",
   "execution_count": 1,
   "metadata": {},
   "outputs": [],
   "source": [
    "import os"
   ]
  },
  {
   "cell_type": "code",
   "execution_count": 2,
   "metadata": {},
   "outputs": [],
   "source": [
    "import numpy as np"
   ]
  },
  {
   "cell_type": "code",
   "execution_count": 3,
   "id": "37d4165c",
   "metadata": {},
   "outputs": [],
   "source": [
    "import pandas as pd"
   ]
  },
  {
   "cell_type": "code",
   "execution_count": 4,
   "metadata": {},
   "outputs": [],
   "source": [
    "from tqdm import tqdm"
   ]
  },
  {
   "cell_type": "code",
   "execution_count": 21,
   "metadata": {},
   "outputs": [],
   "source": [
    "import time, gc\n",
    "from haystack import Pipeline\n",
    "from haystack.pipelines import DocumentSearchPipeline"
   ]
  },
  {
   "cell_type": "code",
   "execution_count": 38,
   "metadata": {},
   "outputs": [],
   "source": [
    "from util import util_elastic_search"
   ]
  },
  {
   "cell_type": "code",
   "execution_count": null,
   "metadata": {},
   "outputs": [],
   "source": [
    "from util import util_search"
   ]
  },
  {
   "cell_type": "code",
   "execution_count": null,
   "metadata": {},
   "outputs": [],
   "source": [
    "import importlib\n",
    "importlib.reload(util_search)"
   ]
  },
  {
   "cell_type": "code",
   "execution_count": null,
   "metadata": {},
   "outputs": [
    {
     "name": "stdout",
     "output_type": "stream",
     "text": [
      "CPU times: user 224 µs, sys: 0 ns, total: 224 µs\n",
      "Wall time: 226 µs\n"
     ]
    }
   ],
   "source": [
    "%%time\n",
    "from haystack.document_stores import ElasticsearchDocumentStore\n",
    "from haystack.nodes import EmbeddingRetriever, BM25Retriever, MonoT5RankerLimit, SentenceTransformersRankerLimit\n",
    "import logging\n",
    "logging.getLogger(\"haystack\").setLevel(logging.WARNING) #WARNING, INFO"
   ]
  },
  {
   "cell_type": "code",
   "execution_count": 5,
   "id": "f911fcf2",
   "metadata": {},
   "outputs": [],
   "source": [
    "# Para ter repetibilidade nos resultados\n",
    "random_state = 1\n",
    "\n",
    "# Tratar valores infinitos (+ e -) como np.NaN\n",
    "pd.options.mode.use_inf_as_na = True\n",
    "\n",
    "# IMPORTANTE para tornar figuras interativas\n",
    "# %matplotlib notebook\n",
    "\n",
    "# Tamanho padrão das figuras\n",
    "figsize=(10,6)\n",
    "\n",
    "pd.set_option('display.max_row', 1000)\n",
    "\n",
    "pd.set_option('display.max_columns', 50)\n",
    "\n",
    "pd.set_option('display.column_space', 40)\n",
    "pd.set_option('display.max_colwidth', 100)\n",
    "pd.set_option('display.width', 200)\n"
   ]
  },
  {
   "cell_type": "code",
   "execution_count": 9,
   "id": "6e05b9a6",
   "metadata": {},
   "outputs": [],
   "source": [
    "PATH_QUERY = '../data/index_juris/query.csv'\n",
    "PATH_QREL =  '../data/index_juris/qrel.csv'"
   ]
  },
  {
   "cell_type": "code",
   "execution_count": 11,
   "metadata": {},
   "outputs": [],
   "source": [
    "PATH_SEARCH_EXPERIMENT =  '../data/search/index_juris/search_experiment.csv'\n",
    "PATH_SEARCH_RESULT =  '../data/search/index_juris/search_experiment_result.csv'"
   ]
  },
  {
   "attachments": {},
   "cell_type": "markdown",
   "metadata": {},
   "source": [
    "# Create reference to index (elastic search)"
   ]
  },
  {
   "attachments": {},
   "cell_type": "markdown",
   "metadata": {},
   "source": [
    "Documentation https://docs.haystack.deepset.ai/docs\n",
    "https://haystack.deepset.ai/tutorials/09_dpr_training \n"
   ]
  },
  {
   "cell_type": "code",
   "execution_count": 39,
   "metadata": {},
   "outputs": [
    {
     "name": "stdout",
     "output_type": "stream",
     "text": [
      "Index: indir_index_juris\n",
      "{'health': 'yellow', 'status': 'open', 'index': 'indir_index_juris', 'uuid': 'M-G39ddyR_ijjhxzekyssw', 'pri': '1', 'rep': '1', 'docs.count': '0', 'docs.deleted': '0', 'store.size': '208b', 'pri.store.size': '208b'}\n",
      "\n",
      "Index: indir_index_juris_vce\n",
      "{'health': 'yellow', 'status': 'open', 'index': 'indir_index_juris_vce', 'uuid': 'kFcEPIh_Spe7bqJPAfqUtg', 'pri': '1', 'rep': '1', 'docs.count': '13252', 'docs.deleted': '13252', 'store.size': '289.2mb', 'pri.store.size': '289.2mb'}\n",
      "\n",
      "There are no index with name indir%\n"
     ]
    }
   ],
   "source": [
    "index_dict = util_elastic_search.return_indexes('indir', parm_print=True)"
   ]
  },
  {
   "cell_type": "code",
   "execution_count": 32,
   "metadata": {},
   "outputs": [],
   "source": [
    "INDEX_NAME = 'indir_index_juris'"
   ]
  },
  {
   "cell_type": "code",
   "execution_count": 34,
   "metadata": {},
   "outputs": [],
   "source": [
    "document_store_index = ElasticsearchDocumentStore(\n",
    "        host='localhost',\n",
    "        username='', password='',\n",
    "        index=INDEX_NAME,\n",
    "        similarity='dot_product',\n",
    "        search_fields=\"content\",\n",
    "        content_field = \"content\",\n",
    "        embedding_field = \"embedding\",\n",
    "        embedding_dim = 1024,\n",
    "        # excluded_meta_data=['embedding'], # that should not be returned \n",
    "        duplicate_documents='fail',\n",
    "        return_embedding=False,\n",
    "    )"
   ]
  },
  {
   "cell_type": "code",
   "execution_count": 35,
   "metadata": {},
   "outputs": [
    {
     "name": "stdout",
     "output_type": "stream",
     "text": [
      "\n",
      "Qtd de documentos 0\n",
      "\n",
      "Qtd de embeddings 0\n",
      "\n",
      "Documento.id=1: None\n"
     ]
    }
   ],
   "source": [
    "print(f\"\\nQtd de documentos {document_store.get_document_count()}\")\n",
    "print(f\"\\nQtd de embeddings {document_store.get_embedding_count()}\")\n",
    "print(f\"\\nDocumento.id=1: {document_store.get_document_by_id('1')}\")\n"
   ]
  },
  {
   "cell_type": "code",
   "execution_count": 19,
   "metadata": {},
   "outputs": [],
   "source": [
    "nome_modelo_embedding_model_sts_rufimelo = \"rufimelo/Legal-BERTimbau-sts-large-ma-v3\"\n",
    "# requer Embedding dimensions of the model (1024) don't match the embedding dimensions of the document store (768). Initiate ElasticsearchDocumentStore again with arg embedding_dim=1024.\n",
    "# nome_modelo = \"unicamp-dl/ptt5-base-pt-msmarco-100k-v2\"\n",
    "# nome_modelo = \"pierreguillou/bert-base-cased-squad-v1.1-portuguese\"\n",
    "\n",
    "nome_caminho_modelo = \"/home/borela/fontes/relevar-busca/modelo/\" + nome_modelo_embedding_model_sts_rufimelo\n",
    "\n",
    "assert os.path.exists(nome_caminho_modelo), f\"Path para {nome_caminho_modelo} não existe!\"\n"
   ]
  },
  {
   "cell_type": "code",
   "execution_count": 26,
   "metadata": {},
   "outputs": [],
   "source": [
    "retriever_sts = EmbeddingRetriever(\n",
    "    document_store=document_store,\n",
    "    embedding_model=nome_caminho_modelo,\n",
    "    model_format=\"sentence_transformers\",\n",
    "    pooling_strategy = 'cls_token',\n",
    "    progress_bar = False\n",
    ")\n"
   ]
  },
  {
   "cell_type": "code",
   "execution_count": null,
   "metadata": {},
   "outputs": [],
   "source": [
    "# Test query\n",
    "parm_query = \"trata-se de uma denúncia contra o prefeito de Manhuaçu por não haver pago os funcionários da área de limpeza urbana\"\n",
    "\n",
    "# defining retriever BM25\n",
    "retriever_bm25 = BM25Retriever(document_store=document_store_bm25,all_terms_must_match=False)\n",
    "pipeline_bm25 = DocumentSearchPipeline(retriever_bm25)\n",
    "doc_search_return = pipeline_bm25.run(\n",
    "    query=parm_query,\n",
    "    params={\n",
    "        \"Retriever\": {\n",
    "            \"top_k\": 10,\n",
    "            \"filters\":{\"class\": [\"Termo\"]}\n",
    "        }\n",
    "    }\n",
    ")\n",
    "document = doc_search_return[\"documents\"][0]\n",
    "print(document.id, document.content, document.meta, document.score, document.embedding)\n",
    "util_search.detail_document_found(doc_search_return)\n",
    "print([docto.id for docto in doc_search_return['documents']])"
   ]
  },
  {
   "cell_type": "code",
   "execution_count": null,
   "metadata": {},
   "outputs": [],
   "source": [
    "## defining retriever STS (sentence similarity)\n",
    "nome_modelo_embedding_model_sts_rufimelo = \"rufimelo/Legal-BERTimbau-sts-large-ma-v3\"\n",
    "# requer Embedding dimensions of the model (1024) don't match the embedding dimensions of the document store (768). Initiate ElasticsearchDocumentStore again with arg embedding_dim=1024.\n",
    "# nome_modelo = \"unicamp-dl/ptt5-base-pt-msmarco-100k-v2\"\n",
    "# nome_modelo = \"pierreguillou/bert-base-cased-squad-v1.1-portuguese\"\n",
    "nome_caminho_modelo = \"/home/borela/fontes/relevar-busca/modelo/\" + nome_modelo_embedding_model_sts_rufimelo\n",
    "assert os.path.exists(nome_caminho_modelo), f\"Path para {nome_caminho_modelo} não existe!\"\n",
    "\n",
    "retriever_sts = EmbeddingRetriever(\n",
    "    document_store=document_store_er_1024,\n",
    "   embedding_model=nome_caminho_modelo,\n",
    "   model_format=\"sentence_transformers\",\n",
    "    # pooling_strategy = 'cls_token',\n",
    "    progress_bar = False\n",
    ")\n",
    "\n",
    "pipeline_sts = DocumentSearchPipeline(retriever_sts)\n",
    "doc_search_return = pipeline_sts.run(\n",
    "    query=parm_query,\n",
    "    params={\n",
    "        \"Retriever\": {\n",
    "            \"top_k\": 10,\n",
    "            \"filters\":{\"class\": [\"Termo\"]}\n",
    "        }\n",
    "    }\n",
    ")\n",
    "document = doc_search_return[\"documents\"][0]\n",
    "print(document.id, document.content, document.meta, document.score, document.embedding)\n",
    "util_search.detail_document_found(doc_search_return)\n",
    "print([docto.id for docto in doc_search_return['documents']])\n"
   ]
  },
  {
   "cell_type": "code",
   "execution_count": null,
   "metadata": {},
   "outputs": [],
   "source": [
    "raise Exception ('Stop execution')"
   ]
  },
  {
   "attachments": {},
   "cell_type": "markdown",
   "metadata": {},
   "source": [
    "# Data load"
   ]
  },
  {
   "attachments": {},
   "cell_type": "markdown",
   "metadata": {},
   "source": [
    "## Query data load"
   ]
  },
  {
   "cell_type": "code",
   "execution_count": null,
   "id": "1cf03f22",
   "metadata": {},
   "outputs": [],
   "source": [
    "df_query = pd.read_csv(PATH_QUERY)"
   ]
  },
  {
   "cell_type": "code",
   "execution_count": null,
   "metadata": {},
   "outputs": [
    {
     "data": {
      "text/plain": [
       "(16022, 11)"
      ]
     },
     "metadata": {},
     "output_type": "display_data"
    }
   ],
   "source": [
    "df_query.shape"
   ]
  },
  {
   "cell_type": "code",
   "execution_count": null,
   "id": "a75dd812",
   "metadata": {},
   "outputs": [
    {
     "data": {
      "text/html": [
       "<div>\n",
       "<style scoped>\n",
       "    .dataframe tbody tr th:only-of-type {\n",
       "        vertical-align: middle;\n",
       "    }\n",
       "\n",
       "    .dataframe tbody tr th {\n",
       "        vertical-align: top;\n",
       "    }\n",
       "\n",
       "    .dataframe thead th {\n",
       "        text-align: right;\n",
       "    }\n",
       "</style>\n",
       "<table border=\"1\" class=\"dataframe\">\n",
       "  <thead>\n",
       "    <tr style=\"text-align: right;\">\n",
       "      <th></th>\n",
       "      <th>ID</th>\n",
       "      <th>TEXT</th>\n",
       "      <th>REFERENCE_LIST</th>\n",
       "      <th>PARADIGMATIC</th>\n",
       "      <th>AREA_NAME</th>\n",
       "      <th>AREA_ID_DESCRIPTOR</th>\n",
       "      <th>NORMATIVE_PROCESS_TYPE</th>\n",
       "      <th>NORMATIVE_IDENTIFICATION</th>\n",
       "      <th>NORMATIVE_DATE</th>\n",
       "      <th>NORMATIVE_AUTHOR_TYPE</th>\n",
       "      <th>NORMATIVE_AUTHOR_NAME</th>\n",
       "    </tr>\n",
       "  </thead>\n",
       "  <tbody>\n",
       "    <tr>\n",
       "      <th>0</th>\n",
       "      <td>34899</td>\n",
       "      <td>A transferência de documentos da entidade para local impróprio ao armazename...</td>\n",
       "      <td>Lei Ordinária 8.443/1992, art. 58, inciso II</td>\n",
       "      <td>NaN</td>\n",
       "      <td>Responsabilidade</td>\n",
       "      <td>775</td>\n",
       "      <td>REPRESENTAÇÃO</td>\n",
       "      <td>Acórdão 2669/2012 - Plenário</td>\n",
       "      <td>2012-10-03</td>\n",
       "      <td>RELATOR</td>\n",
       "      <td>JOSÉ JORGE</td>\n",
       "    </tr>\n",
       "    <tr>\n",
       "      <th>1</th>\n",
       "      <td>30271</td>\n",
       "      <td>A contratação de médicos e profissionais da área de saúde, como colaboradore...</td>\n",
       "      <td>NaN</td>\n",
       "      <td>NaN</td>\n",
       "      <td>Pessoal</td>\n",
       "      <td>1131</td>\n",
       "      <td>REPRESENTAÇÃO</td>\n",
       "      <td>Acórdão 2669/2012 - Plenário</td>\n",
       "      <td>2012-10-03</td>\n",
       "      <td>RELATOR</td>\n",
       "      <td>JOSÉ JORGE</td>\n",
       "    </tr>\n",
       "    <tr>\n",
       "      <th>2</th>\n",
       "      <td>26574</td>\n",
       "      <td>Para que seja conhecido o recurso de revisão, não basta apenas que se aprese...</td>\n",
       "      <td>NaN</td>\n",
       "      <td>NaN</td>\n",
       "      <td>Direito processual</td>\n",
       "      <td>5288</td>\n",
       "      <td>TOMADA DE CONTAS</td>\n",
       "      <td>Acórdão 514/2013 - Plenário</td>\n",
       "      <td>2013-03-13</td>\n",
       "      <td>RELATOR</td>\n",
       "      <td>ANA ARRAES</td>\n",
       "    </tr>\n",
       "    <tr>\n",
       "      <th>3</th>\n",
       "      <td>17902</td>\n",
       "      <td>A contratação de serviços comuns de engenharia que possam ser objetivamente ...</td>\n",
       "      <td>NaN</td>\n",
       "      <td>NaN</td>\n",
       "      <td>Licitação</td>\n",
       "      <td>932</td>\n",
       "      <td>RELATÓRIO DE LEVANTAMENTO</td>\n",
       "      <td>Acórdão 3144/2012 - Plenário</td>\n",
       "      <td>2012-11-21</td>\n",
       "      <td>RELATOR</td>\n",
       "      <td>ANA ARRAES</td>\n",
       "    </tr>\n",
       "    <tr>\n",
       "      <th>4</th>\n",
       "      <td>26089</td>\n",
       "      <td>A Fundação Banco do Brasil, por receber recursos da União, deve observar, qu...</td>\n",
       "      <td>NaN</td>\n",
       "      <td>NaN</td>\n",
       "      <td>Competência do TCU</td>\n",
       "      <td>5095</td>\n",
       "      <td>TOMADA DE CONTAS ESPECIAL</td>\n",
       "      <td>Acórdão 2071/2013 - Plenário</td>\n",
       "      <td>2013-08-07</td>\n",
       "      <td>RELATOR</td>\n",
       "      <td>JOSÉ JORGE</td>\n",
       "    </tr>\n",
       "  </tbody>\n",
       "</table>\n",
       "</div>"
      ],
      "text/plain": [
       "      ID                                                                             TEXT                                REFERENCE_LIST PARADIGMATIC           AREA_NAME  AREA_ID_DESCRIPTOR  \\\n",
       "0  34899  A transferência de documentos da entidade para local impróprio ao armazename...  Lei Ordinária 8.443/1992, art. 58, inciso II          NaN    Responsabilidade                 775   \n",
       "1  30271  A contratação de médicos e profissionais da área de saúde, como colaboradore...                                           NaN          NaN             Pessoal                1131   \n",
       "2  26574  Para que seja conhecido o recurso de revisão, não basta apenas que se aprese...                                           NaN          NaN  Direito processual                5288   \n",
       "3  17902  A contratação de serviços comuns de engenharia que possam ser objetivamente ...                                           NaN          NaN           Licitação                 932   \n",
       "4  26089  A Fundação Banco do Brasil, por receber recursos da União, deve observar, qu...                                           NaN          NaN  Competência do TCU                5095   \n",
       "\n",
       "      NORMATIVE_PROCESS_TYPE      NORMATIVE_IDENTIFICATION NORMATIVE_DATE NORMATIVE_AUTHOR_TYPE NORMATIVE_AUTHOR_NAME  \n",
       "0              REPRESENTAÇÃO  Acórdão 2669/2012 - Plenário     2012-10-03               RELATOR            JOSÉ JORGE  \n",
       "1              REPRESENTAÇÃO  Acórdão 2669/2012 - Plenário     2012-10-03               RELATOR            JOSÉ JORGE  \n",
       "2           TOMADA DE CONTAS   Acórdão 514/2013 - Plenário     2013-03-13               RELATOR            ANA ARRAES  \n",
       "3  RELATÓRIO DE LEVANTAMENTO  Acórdão 3144/2012 - Plenário     2012-11-21               RELATOR            ANA ARRAES  \n",
       "4  TOMADA DE CONTAS ESPECIAL  Acórdão 2071/2013 - Plenário     2013-08-07               RELATOR            JOSÉ JORGE  "
      ]
     },
     "metadata": {},
     "output_type": "display_data"
    }
   ],
   "source": [
    "df_query.head()"
   ]
  },
  {
   "attachments": {},
   "cell_type": "markdown",
   "metadata": {},
   "source": [
    "## Qrel data load"
   ]
  },
  {
   "cell_type": "code",
   "execution_count": 22,
   "id": "1cf03f22",
   "metadata": {},
   "outputs": [],
   "source": [
    "df_qrel = pd.read_csv(PATH_QREL)"
   ]
  },
  {
   "cell_type": "code",
   "execution_count": 23,
   "metadata": {},
   "outputs": [
    {
     "data": {
      "text/plain": [
       "(94653, 3)"
      ]
     },
     "execution_count": 23,
     "metadata": {},
     "output_type": "execute_result"
    }
   ],
   "source": [
    "df_qrel.shape"
   ]
  },
  {
   "cell_type": "code",
   "execution_count": 24,
   "id": "a75dd812",
   "metadata": {},
   "outputs": [
    {
     "data": {
      "text/html": [
       "<div>\n",
       "<style scoped>\n",
       "    .dataframe tbody tr th:only-of-type {\n",
       "        vertical-align: middle;\n",
       "    }\n",
       "\n",
       "    .dataframe tbody tr th {\n",
       "        vertical-align: top;\n",
       "    }\n",
       "\n",
       "    .dataframe thead th {\n",
       "        text-align: right;\n",
       "    }\n",
       "</style>\n",
       "<table border=\"1\" class=\"dataframe\">\n",
       "  <thead>\n",
       "    <tr style=\"text-align: right;\">\n",
       "      <th></th>\n",
       "      <th>ID_QUERY</th>\n",
       "      <th>ID_DOCTO</th>\n",
       "      <th>TYPE</th>\n",
       "    </tr>\n",
       "  </thead>\n",
       "  <tbody>\n",
       "    <tr>\n",
       "      <th>0</th>\n",
       "      <td>158</td>\n",
       "      <td>15147</td>\n",
       "      <td>INDEXACAO_EXTRA</td>\n",
       "    </tr>\n",
       "    <tr>\n",
       "      <th>1</th>\n",
       "      <td>37</td>\n",
       "      <td>15147</td>\n",
       "      <td>INDEXACAO_EXTRA</td>\n",
       "    </tr>\n",
       "    <tr>\n",
       "      <th>2</th>\n",
       "      <td>178</td>\n",
       "      <td>15147</td>\n",
       "      <td>INDEXACAO_EXTRA</td>\n",
       "    </tr>\n",
       "    <tr>\n",
       "      <th>3</th>\n",
       "      <td>14564</td>\n",
       "      <td>15147</td>\n",
       "      <td>INDEXACAO_EXTRA</td>\n",
       "    </tr>\n",
       "    <tr>\n",
       "      <th>4</th>\n",
       "      <td>9219</td>\n",
       "      <td>15147</td>\n",
       "      <td>INDEXACAO_EXTRA</td>\n",
       "    </tr>\n",
       "  </tbody>\n",
       "</table>\n",
       "</div>"
      ],
      "text/plain": [
       "   ID_QUERY  ID_DOCTO             TYPE\n",
       "0       158     15147  INDEXACAO_EXTRA\n",
       "1        37     15147  INDEXACAO_EXTRA\n",
       "2       178     15147  INDEXACAO_EXTRA\n",
       "3     14564     15147  INDEXACAO_EXTRA\n",
       "4      9219     15147  INDEXACAO_EXTRA"
      ]
     },
     "execution_count": 24,
     "metadata": {},
     "output_type": "execute_result"
    }
   ],
   "source": [
    "df_qrel.head()"
   ]
  },
  {
   "cell_type": "code",
   "execution_count": null,
   "metadata": {},
   "outputs": [],
   "source": []
  }
 ],
 "metadata": {
  "kernelspec": {
   "display_name": "Python (relevar-busca)",
   "language": "python",
   "name": "relevar-busca"
  },
  "language_info": {
   "codemirror_mode": {
    "name": "ipython",
    "version": 3
   },
   "file_extension": ".py",
   "mimetype": "text/x-python",
   "name": "python",
   "nbconvert_exporter": "python",
   "pygments_lexer": "ipython3",
   "version": "3.7.13"
  },
  "orig_nbformat": 4,
  "vscode": {
   "interpreter": {
    "hash": "45978bf3509deeb93161d1472b16f82a40245d44c2beae6c63ad8f9bb3f69171"
   }
  }
 },
 "nbformat": 4,
 "nbformat_minor": 2
}
