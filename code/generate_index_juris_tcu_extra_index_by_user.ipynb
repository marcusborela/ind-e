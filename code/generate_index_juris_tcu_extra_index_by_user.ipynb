{
 "cells": [
  {
   "attachments": {},
   "cell_type": "markdown",
   "id": "998a4011",
   "metadata": {},
   "source": [
    "# Imports and preparation"
   ]
  },
  {
   "cell_type": "code",
   "execution_count": 1,
   "metadata": {},
   "outputs": [],
   "source": [
    "import os"
   ]
  },
  {
   "cell_type": "code",
   "execution_count": 2,
   "metadata": {},
   "outputs": [],
   "source": [
    "import numpy as np"
   ]
  },
  {
   "cell_type": "code",
   "execution_count": 3,
   "id": "37d4165c",
   "metadata": {},
   "outputs": [],
   "source": [
    "import pandas as pd"
   ]
  },
  {
   "cell_type": "code",
   "execution_count": 4,
   "metadata": {},
   "outputs": [],
   "source": [
    "from tqdm import tqdm"
   ]
  },
  {
   "cell_type": "code",
   "execution_count": 5,
   "id": "cb0f7d63",
   "metadata": {},
   "outputs": [],
   "source": [
    "from transformers import AutoTokenizer #, AutoModelForSequenceClassification"
   ]
  },
  {
   "cell_type": "code",
   "execution_count": 6,
   "metadata": {},
   "outputs": [
    {
     "name": "stderr",
     "output_type": "stream",
     "text": [
      "OpenAI tiktoken module is not available for Python < 3.8,Linux ARM64 and AARCH64. Falling back to GPT2TokenizerFast.\n",
      "WARNING:haystack.nodes.answer_generator.openai:OpenAI tiktoken module is not available for Python < 3.8,Linux ARM64 and AARCH64. Falling back to GPT2TokenizerFast.\n"
     ]
    }
   ],
   "source": [
    "from util import util_elastic"
   ]
  },
  {
   "cell_type": "code",
   "execution_count": 7,
   "metadata": {},
   "outputs": [],
   "source": [
    "import importlib\n",
    "# importlib.reload(util_elastic)"
   ]
  },
  {
   "cell_type": "code",
   "execution_count": 8,
   "id": "f911fcf2",
   "metadata": {},
   "outputs": [],
   "source": [
    "# Para ter repetibilidade nos resultados\n",
    "random_state = 1\n",
    "\n",
    "# Tratar valores infinitos (+ e -) como np.NaN\n",
    "pd.options.mode.use_inf_as_na = True\n",
    "\n",
    "# IMPORTANTE para tornar figuras interativas\n",
    "# %matplotlib notebook\n",
    "\n",
    "# Tamanho padrão das figuras\n",
    "figsize=(10,6)\n",
    "\n",
    "pd.set_option('display.max_row', 1000)\n",
    "\n",
    "pd.set_option('display.max_columns', 50)\n",
    "\n",
    "pd.set_option('display.column_space', 40)\n",
    "pd.set_option('display.max_colwidth', 100)\n",
    "pd.set_option('display.width', 200)\n"
   ]
  },
  {
   "cell_type": "code",
   "execution_count": 9,
   "id": "6e05b9a6",
   "metadata": {},
   "outputs": [],
   "source": [
    "PATH_DOC =  '../data/juris_tcu_index/doc.csv'\n",
    "PATH_QUERY =  '../data/juris_tcu_index/query.csv'\n",
    "PATH_QREL =  '../data/juris_tcu_index/qrel.csv'"
   ]
  },
  {
   "cell_type": "code",
   "execution_count": 10,
   "metadata": {},
   "outputs": [
    {
     "name": "stdout",
     "output_type": "stream",
     "text": [
      "CPU times: user 204 µs, sys: 20 µs, total: 224 µs\n",
      "Wall time: 227 µs\n"
     ]
    }
   ],
   "source": [
    "%%time\n",
    "import logging\n",
    "logging.getLogger(\"haystack\").setLevel(logging.WARNING) #WARNING, INFO"
   ]
  },
  {
   "attachments": {},
   "cell_type": "markdown",
   "metadata": {},
   "source": [
    "# Data load"
   ]
  },
  {
   "cell_type": "code",
   "execution_count": 11,
   "id": "1cf03f22",
   "metadata": {},
   "outputs": [],
   "source": [
    "df_doc = pd.read_csv(PATH_DOC)"
   ]
  },
  {
   "cell_type": "code",
   "execution_count": 12,
   "id": "1cf03f22",
   "metadata": {},
   "outputs": [],
   "source": [
    "df_query = pd.read_csv(PATH_QUERY)"
   ]
  },
  {
   "cell_type": "code",
   "execution_count": 13,
   "id": "1cf03f22",
   "metadata": {},
   "outputs": [],
   "source": [
    "df_qrel = pd.read_csv(PATH_QREL)"
   ]
  },
  {
   "cell_type": "code",
   "execution_count": 14,
   "metadata": {},
   "outputs": [
    {
     "data": {
      "text/plain": [
       "((13255, 28), (16045, 11), (94809, 3))"
      ]
     },
     "execution_count": 14,
     "metadata": {},
     "output_type": "execute_result"
    }
   ],
   "source": [
    "df_doc.shape, df_query.shape, df_qrel.shape"
   ]
  },
  {
   "cell_type": "code",
   "execution_count": 15,
   "id": "a75dd812",
   "metadata": {},
   "outputs": [
    {
     "data": {
      "text/html": [
       "<div>\n",
       "<style scoped>\n",
       "    .dataframe tbody tr th:only-of-type {\n",
       "        vertical-align: middle;\n",
       "    }\n",
       "\n",
       "    .dataframe tbody tr th {\n",
       "        vertical-align: top;\n",
       "    }\n",
       "\n",
       "    .dataframe thead th {\n",
       "        text-align: right;\n",
       "    }\n",
       "</style>\n",
       "<table border=\"1\" class=\"dataframe\">\n",
       "  <thead>\n",
       "    <tr style=\"text-align: right;\">\n",
       "      <th></th>\n",
       "      <th>ID</th>\n",
       "      <th>TEXT</th>\n",
       "      <th>REFERENCE_LIST</th>\n",
       "      <th>PARADIGMATIC</th>\n",
       "      <th>AREA_NAME</th>\n",
       "      <th>AREA_ID_DESCRIPTOR</th>\n",
       "      <th>NORMATIVE_PROCESS_TYPE</th>\n",
       "      <th>NORMATIVE_IDENTIFICATION</th>\n",
       "      <th>NORMATIVE_DATE</th>\n",
       "      <th>NORMATIVE_AUTHOR_TYPE</th>\n",
       "      <th>NORMATIVE_AUTHOR_NAME</th>\n",
       "    </tr>\n",
       "  </thead>\n",
       "  <tbody>\n",
       "    <tr>\n",
       "      <th>0</th>\n",
       "      <td>13568</td>\n",
       "      <td>É ilegal a contagem de tempo ficto de serviço prestado sob a égide da Lei 3.313/1957, proporcion...</td>\n",
       "      <td>Lei Complementar 51/1985 || Lei Ordinária 3313/1957</td>\n",
       "      <td>NaN</td>\n",
       "      <td>Pessoal</td>\n",
       "      <td>1131</td>\n",
       "      <td>APOSENTADORIA</td>\n",
       "      <td>Acórdão 168/2014 - Segunda Câmara</td>\n",
       "      <td>2014-01-28</td>\n",
       "      <td>RELATOR</td>\n",
       "      <td>JOSÉ JORGE</td>\n",
       "    </tr>\n",
       "    <tr>\n",
       "      <th>1</th>\n",
       "      <td>11614</td>\n",
       "      <td>SÚMULA TCU 283: Para fim de habilitação, a Administração Pública não deve exigir dos licitantes ...</td>\n",
       "      <td>NaN</td>\n",
       "      <td>SUMULA</td>\n",
       "      <td>Licitação</td>\n",
       "      <td>932</td>\n",
       "      <td>ADMINISTRATIVO</td>\n",
       "      <td>Acórdão 1613/2013 - Plenário</td>\n",
       "      <td>2013-06-26</td>\n",
       "      <td>RELATOR</td>\n",
       "      <td>JOSÉ JORGE</td>\n",
       "    </tr>\n",
       "    <tr>\n",
       "      <th>2</th>\n",
       "      <td>21087</td>\n",
       "      <td>A contratação de serviços por preços superiores às referências legais (Sinapi e Sicro) deve ser,...</td>\n",
       "      <td>NaN</td>\n",
       "      <td>NaN</td>\n",
       "      <td>Licitação</td>\n",
       "      <td>932</td>\n",
       "      <td>PRESTAÇÃO DE CONTAS</td>\n",
       "      <td>Acórdão 3936/2013 - Segunda Câmara</td>\n",
       "      <td>2013-07-09</td>\n",
       "      <td>RELATOR</td>\n",
       "      <td>ANA ARRAES</td>\n",
       "    </tr>\n",
       "    <tr>\n",
       "      <th>3</th>\n",
       "      <td>35016</td>\n",
       "      <td>Não se aplica, excepcionalmente, multa aos gestores por grave infração à norma legal se a irregu...</td>\n",
       "      <td>NaN</td>\n",
       "      <td>NaN</td>\n",
       "      <td>Responsabilidade</td>\n",
       "      <td>775</td>\n",
       "      <td>REPRESENTAÇÃO</td>\n",
       "      <td>Acórdão 3231/2011 - Plenário</td>\n",
       "      <td>2011-12-07</td>\n",
       "      <td>RELATOR</td>\n",
       "      <td>AROLDO CEDRAZ</td>\n",
       "    </tr>\n",
       "    <tr>\n",
       "      <th>4</th>\n",
       "      <td>29370</td>\n",
       "      <td>Em contratatações de TI, não cabe aceitar propostas de preço com incidência de encargos majorado...</td>\n",
       "      <td>NaN</td>\n",
       "      <td>NaN</td>\n",
       "      <td>Licitação</td>\n",
       "      <td>932</td>\n",
       "      <td>REPRESENTAÇÃO</td>\n",
       "      <td>Acórdão 3231/2011 - Plenário</td>\n",
       "      <td>2011-12-07</td>\n",
       "      <td>RELATOR</td>\n",
       "      <td>AROLDO CEDRAZ</td>\n",
       "    </tr>\n",
       "  </tbody>\n",
       "</table>\n",
       "</div>"
      ],
      "text/plain": [
       "      ID                                                                                                 TEXT                                       REFERENCE_LIST PARADIGMATIC         AREA_NAME  \\\n",
       "0  13568  É ilegal a contagem de tempo ficto de serviço prestado sob a égide da Lei 3.313/1957, proporcion...  Lei Complementar 51/1985 || Lei Ordinária 3313/1957          NaN           Pessoal   \n",
       "1  11614  SÚMULA TCU 283: Para fim de habilitação, a Administração Pública não deve exigir dos licitantes ...                                                  NaN       SUMULA         Licitação   \n",
       "2  21087  A contratação de serviços por preços superiores às referências legais (Sinapi e Sicro) deve ser,...                                                  NaN          NaN         Licitação   \n",
       "3  35016  Não se aplica, excepcionalmente, multa aos gestores por grave infração à norma legal se a irregu...                                                  NaN          NaN  Responsabilidade   \n",
       "4  29370  Em contratatações de TI, não cabe aceitar propostas de preço com incidência de encargos majorado...                                                  NaN          NaN         Licitação   \n",
       "\n",
       "   AREA_ID_DESCRIPTOR NORMATIVE_PROCESS_TYPE            NORMATIVE_IDENTIFICATION NORMATIVE_DATE NORMATIVE_AUTHOR_TYPE NORMATIVE_AUTHOR_NAME  \n",
       "0                1131          APOSENTADORIA   Acórdão 168/2014 - Segunda Câmara     2014-01-28               RELATOR            JOSÉ JORGE  \n",
       "1                 932         ADMINISTRATIVO        Acórdão 1613/2013 - Plenário     2013-06-26               RELATOR            JOSÉ JORGE  \n",
       "2                 932    PRESTAÇÃO DE CONTAS  Acórdão 3936/2013 - Segunda Câmara     2013-07-09               RELATOR            ANA ARRAES  \n",
       "3                 775          REPRESENTAÇÃO        Acórdão 3231/2011 - Plenário     2011-12-07               RELATOR         AROLDO CEDRAZ  \n",
       "4                 932          REPRESENTAÇÃO        Acórdão 3231/2011 - Plenário     2011-12-07               RELATOR         AROLDO CEDRAZ  "
      ]
     },
     "execution_count": 15,
     "metadata": {},
     "output_type": "execute_result"
    }
   ],
   "source": [
    "df_query.head()"
   ]
  },
  {
   "attachments": {},
   "cell_type": "markdown",
   "id": "a4df47bb",
   "metadata": {},
   "source": [
    "### Quantitative calculation"
   ]
  },
  {
   "attachments": {},
   "cell_type": "markdown",
   "metadata": {},
   "source": [
    "Tokenization loading"
   ]
  },
  {
   "cell_type": "code",
   "execution_count": 16,
   "metadata": {},
   "outputs": [
    {
     "name": "stderr",
     "output_type": "stream",
     "text": [
      "/home/borela/miniconda3/envs/relevar-busca/lib/python3.7/site-packages/transformers/convert_slow_tokenizer.py:447: UserWarning: The sentencepiece tokenizer that you are converting to a fast tokenizer uses the byte fallback option which is not implemented in the fast tokenizers. In practice this means that the fast version of the tokenizer can produce unknown tokens whereas the sentencepiece version would have converted these unknown tokens into a sequence of byte tokens matching the original piece of text.\n",
      "  \"The sentencepiece tokenizer that you are converting to a fast tokenizer uses the byte fallback option\"\n"
     ]
    }
   ],
   "source": [
    "nome_modelo_ranking_pt = 'unicamp-dl/mMiniLM-L6-v2-pt-v2'\n",
    "nome_caminho_modelo_pt = \"/home/borela/fontes/relevar-busca/modelo/\" + nome_modelo_ranking_pt\n",
    "assert os.path.exists(nome_caminho_modelo_pt), f\"Path para {nome_caminho_modelo_pt} não existe!\"\n",
    "\n",
    "nome_modelo_monot5_3b = 'unicamp-dl/mt5-3B-mmarco-en-pt'\n",
    "# \"A mono-ptT5 reranker model (850 mb) pretrained in the BrWac corpus, finetuned for 100k steps on Portuguese translated version of MS MARCO passage dataset. The portuguese dataset was translated using Google Translate.\")\n",
    "\n",
    "nome_caminho_modelo_3b = \"/home/borela/fontes/relevar-busca/modelo/\" + nome_modelo_monot5_3b\n",
    "assert os.path.exists(nome_caminho_modelo_3b), f\"Path para {nome_caminho_modelo_3b} não existe!\"\n",
    "\n",
    "tokenizador_pt_minilm = AutoTokenizer.from_pretrained(nome_caminho_modelo_pt)\n",
    "tokenizador_pt_monot5_3b = AutoTokenizer.from_pretrained(nome_caminho_modelo_3b)"
   ]
  },
  {
   "cell_type": "code",
   "execution_count": 18,
   "metadata": {},
   "outputs": [],
   "source": [
    "nome_modelo_ptt5_base = 'unicamp-dl/ptt5-base-pt-msmarco-100k-v2'\n",
    "nome_caminho_modelo_ptt5_base  = \"/home/borela/fontes/relevar-busca/modelo/\" + nome_modelo_ptt5_base\n",
    "assert os.path.exists(nome_caminho_modelo_ptt5_base ), f\"Path para {nome_caminho_modelo_ptt5_base } não existe!\"\n",
    "tokenizador_ptt5_base = AutoTokenizer.from_pretrained(nome_caminho_modelo_ptt5_base)"
   ]
  },
  {
   "cell_type": "code",
   "execution_count": 19,
   "metadata": {},
   "outputs": [],
   "source": [
    "def retorna_num_tokens(parm_texto:str, parm_tokenizador:AutoTokenizer):\n",
    "    return len(parm_tokenizador.tokenize(parm_texto))\n"
   ]
  },
  {
   "cell_type": "code",
   "execution_count": 20,
   "id": "4e171047",
   "metadata": {},
   "outputs": [],
   "source": [
    "df_query['LEN_TEXT_CHAR'] = df_query['TEXT'].apply(len)\n",
    "df_query['LEN_TEXT_CHAR_LOG'] = round(np.log(df_query['TEXT'].apply(len))).astype(int)\n",
    "df_query['NUM_WORD'] = df_query['TEXT'].apply(lambda x: len(x.split()))\n",
    "df_query['NUM_TOKENS_MONOT5_3B'] = df_query['TEXT'].apply(retorna_num_tokens, parm_tokenizador=tokenizador_pt_monot5_3b)\n",
    "df_query['NUM_TOKENS_MINILM'] = df_query['TEXT'].apply(retorna_num_tokens, parm_tokenizador=tokenizador_pt_minilm)\n",
    "df_query['NUM_TOKENS_PTT5_BASE'] = df_query['TEXT'].apply(retorna_num_tokens, parm_tokenizador=tokenizador_ptt5_base)\n"
   ]
  },
  {
   "cell_type": "code",
   "execution_count": 21,
   "metadata": {},
   "outputs": [
    {
     "data": {
      "text/plain": [
       "(Index(['ID', 'TEXT', 'REFERENCE_LIST', 'PARADIGMATIC', 'AREA_NAME', 'AREA_ID_DESCRIPTOR', 'NORMATIVE_PROCESS_TYPE', 'NORMATIVE_IDENTIFICATION', 'NORMATIVE_DATE', 'NORMATIVE_AUTHOR_TYPE',\n",
       "        'NORMATIVE_AUTHOR_NAME', 'LEN_TEXT_CHAR', 'LEN_TEXT_CHAR_LOG', 'NUM_WORD', 'NUM_TOKENS_MONOT5_3B', 'NUM_TOKENS_MINILM', 'NUM_TOKENS_PTT5_BASE'],\n",
       "       dtype='object'),\n",
       " Index(['QUERY_ID', 'DOC_ID', 'TYPE'], dtype='object'),\n",
       " Index(['TEXT', 'ID', 'NAME', 'DATE_REFERENCE', 'CLASS', 'HAS_SCOPE_NOTE', 'HAS_DEFINITION', 'HAS_SYNONYM', 'HAS_EXAMPLE', 'HAS_ENGLISH_TRANSLATION', 'HAS_SPECIALIZATION', 'HAS_RELATED_TERM',\n",
       "        'HAS_SPANISH_TRANSLATION', 'HAS_GENERALIZATION', 'TEXT_DEFINITION', 'TEXT_SYNONYM', 'TEXT_RELATED_TERM', 'TEXT_SCOPE_NOTE', 'TEXT_EXAMPLE', 'TEXT_ENGLISH_TRANSLATION',\n",
       "        'TEXT_SPANISH_TRANSLATION', 'TEXT_SPECIALIZATION', 'TEXT_GENERALIZATION', 'COUNT_INDEX_AREA', 'COUNT_INDEX_THEME', 'COUNT_INDEX_SUBTHEME', 'COUNT_INDEX_EXTRA', 'COUNT_INDEX_TOTAL'],\n",
       "       dtype='object'))"
      ]
     },
     "execution_count": 21,
     "metadata": {},
     "output_type": "execute_result"
    }
   ],
   "source": [
    "df_query.columns, df_qrel.columns, df_doc.columns, "
   ]
  },
  {
   "cell_type": "code",
   "execution_count": 22,
   "metadata": {},
   "outputs": [
    {
     "name": "stdout",
     "output_type": "stream",
     "text": [
      "['REFERENCE_LIST', 'PARADIGMATIC', 'NORMATIVE_PROCESS_TYPE']\n"
     ]
    }
   ],
   "source": [
    "# Verificar as colunas com valores NaN\n",
    "columns_with_nan = df_query.columns[df_query.isna().any()].tolist()\n",
    "\n",
    "print(columns_with_nan)"
   ]
  },
  {
   "cell_type": "code",
   "execution_count": 24,
   "metadata": {},
   "outputs": [],
   "source": [
    "df_query = df_query.fillna(\"\")"
   ]
  },
  {
   "cell_type": "code",
   "execution_count": 25,
   "metadata": {},
   "outputs": [
    {
     "data": {
      "text/html": [
       "<div>\n",
       "<style scoped>\n",
       "    .dataframe tbody tr th:only-of-type {\n",
       "        vertical-align: middle;\n",
       "    }\n",
       "\n",
       "    .dataframe tbody tr th {\n",
       "        vertical-align: top;\n",
       "    }\n",
       "\n",
       "    .dataframe thead th {\n",
       "        text-align: right;\n",
       "    }\n",
       "</style>\n",
       "<table border=\"1\" class=\"dataframe\">\n",
       "  <thead>\n",
       "    <tr style=\"text-align: right;\">\n",
       "      <th></th>\n",
       "      <th>ID</th>\n",
       "      <th>TEXT</th>\n",
       "      <th>REFERENCE_LIST</th>\n",
       "      <th>PARADIGMATIC</th>\n",
       "      <th>AREA_NAME</th>\n",
       "      <th>AREA_ID_DESCRIPTOR</th>\n",
       "      <th>NORMATIVE_PROCESS_TYPE</th>\n",
       "      <th>NORMATIVE_IDENTIFICATION</th>\n",
       "      <th>NORMATIVE_DATE</th>\n",
       "      <th>NORMATIVE_AUTHOR_TYPE</th>\n",
       "      <th>NORMATIVE_AUTHOR_NAME</th>\n",
       "      <th>LEN_TEXT_CHAR</th>\n",
       "      <th>LEN_TEXT_CHAR_LOG</th>\n",
       "      <th>NUM_WORD</th>\n",
       "      <th>NUM_TOKENS_MONOT5_3B</th>\n",
       "      <th>NUM_TOKENS_MINILM</th>\n",
       "      <th>NUM_TOKENS_PTT5_BASE</th>\n",
       "    </tr>\n",
       "  </thead>\n",
       "  <tbody>\n",
       "    <tr>\n",
       "      <th>0</th>\n",
       "      <td>13568</td>\n",
       "      <td>É ilegal a contagem de tempo ficto de serviço prestado sob a égide da Lei 3.313/1957, proporcion...</td>\n",
       "      <td>Lei Complementar 51/1985 || Lei Ordinária 3313/1957</td>\n",
       "      <td></td>\n",
       "      <td>Pessoal</td>\n",
       "      <td>1131</td>\n",
       "      <td>APOSENTADORIA</td>\n",
       "      <td>Acórdão 168/2014 - Segunda Câmara</td>\n",
       "      <td>2014-01-28</td>\n",
       "      <td>RELATOR</td>\n",
       "      <td>JOSÉ JORGE</td>\n",
       "      <td>321</td>\n",
       "      <td>6</td>\n",
       "      <td>50</td>\n",
       "      <td>96</td>\n",
       "      <td>71</td>\n",
       "      <td>66</td>\n",
       "    </tr>\n",
       "    <tr>\n",
       "      <th>1</th>\n",
       "      <td>11614</td>\n",
       "      <td>SÚMULA TCU 283: Para fim de habilitação, a Administração Pública não deve exigir dos licitantes ...</td>\n",
       "      <td></td>\n",
       "      <td>SUMULA</td>\n",
       "      <td>Licitação</td>\n",
       "      <td>932</td>\n",
       "      <td>ADMINISTRATIVO</td>\n",
       "      <td>Acórdão 1613/2013 - Plenário</td>\n",
       "      <td>2013-06-26</td>\n",
       "      <td>RELATOR</td>\n",
       "      <td>JOSÉ JORGE</td>\n",
       "      <td>191</td>\n",
       "      <td>5</td>\n",
       "      <td>30</td>\n",
       "      <td>54</td>\n",
       "      <td>45</td>\n",
       "      <td>48</td>\n",
       "    </tr>\n",
       "    <tr>\n",
       "      <th>2</th>\n",
       "      <td>21087</td>\n",
       "      <td>A contratação de serviços por preços superiores às referências legais (Sinapi e Sicro) deve ser,...</td>\n",
       "      <td></td>\n",
       "      <td></td>\n",
       "      <td>Licitação</td>\n",
       "      <td>932</td>\n",
       "      <td>PRESTAÇÃO DE CONTAS</td>\n",
       "      <td>Acórdão 3936/2013 - Segunda Câmara</td>\n",
       "      <td>2013-07-09</td>\n",
       "      <td>RELATOR</td>\n",
       "      <td>ANA ARRAES</td>\n",
       "      <td>263</td>\n",
       "      <td>6</td>\n",
       "      <td>35</td>\n",
       "      <td>68</td>\n",
       "      <td>55</td>\n",
       "      <td>52</td>\n",
       "    </tr>\n",
       "    <tr>\n",
       "      <th>3</th>\n",
       "      <td>35016</td>\n",
       "      <td>Não se aplica, excepcionalmente, multa aos gestores por grave infração à norma legal se a irregu...</td>\n",
       "      <td></td>\n",
       "      <td></td>\n",
       "      <td>Responsabilidade</td>\n",
       "      <td>775</td>\n",
       "      <td>REPRESENTAÇÃO</td>\n",
       "      <td>Acórdão 3231/2011 - Plenário</td>\n",
       "      <td>2011-12-07</td>\n",
       "      <td>RELATOR</td>\n",
       "      <td>AROLDO CEDRAZ</td>\n",
       "      <td>188</td>\n",
       "      <td>5</td>\n",
       "      <td>27</td>\n",
       "      <td>52</td>\n",
       "      <td>39</td>\n",
       "      <td>36</td>\n",
       "    </tr>\n",
       "    <tr>\n",
       "      <th>4</th>\n",
       "      <td>29370</td>\n",
       "      <td>Em contratatações de TI, não cabe aceitar propostas de preço com incidência de encargos majorado...</td>\n",
       "      <td></td>\n",
       "      <td></td>\n",
       "      <td>Licitação</td>\n",
       "      <td>932</td>\n",
       "      <td>REPRESENTAÇÃO</td>\n",
       "      <td>Acórdão 3231/2011 - Plenário</td>\n",
       "      <td>2011-12-07</td>\n",
       "      <td>RELATOR</td>\n",
       "      <td>AROLDO CEDRAZ</td>\n",
       "      <td>230</td>\n",
       "      <td>5</td>\n",
       "      <td>36</td>\n",
       "      <td>72</td>\n",
       "      <td>53</td>\n",
       "      <td>49</td>\n",
       "    </tr>\n",
       "  </tbody>\n",
       "</table>\n",
       "</div>"
      ],
      "text/plain": [
       "      ID                                                                                                 TEXT                                       REFERENCE_LIST PARADIGMATIC         AREA_NAME  \\\n",
       "0  13568  É ilegal a contagem de tempo ficto de serviço prestado sob a égide da Lei 3.313/1957, proporcion...  Lei Complementar 51/1985 || Lei Ordinária 3313/1957                        Pessoal   \n",
       "1  11614  SÚMULA TCU 283: Para fim de habilitação, a Administração Pública não deve exigir dos licitantes ...                                                            SUMULA         Licitação   \n",
       "2  21087  A contratação de serviços por preços superiores às referências legais (Sinapi e Sicro) deve ser,...                                                                           Licitação   \n",
       "3  35016  Não se aplica, excepcionalmente, multa aos gestores por grave infração à norma legal se a irregu...                                                                    Responsabilidade   \n",
       "4  29370  Em contratatações de TI, não cabe aceitar propostas de preço com incidência de encargos majorado...                                                                           Licitação   \n",
       "\n",
       "   AREA_ID_DESCRIPTOR NORMATIVE_PROCESS_TYPE            NORMATIVE_IDENTIFICATION NORMATIVE_DATE NORMATIVE_AUTHOR_TYPE NORMATIVE_AUTHOR_NAME  LEN_TEXT_CHAR  LEN_TEXT_CHAR_LOG  NUM_WORD  \\\n",
       "0                1131          APOSENTADORIA   Acórdão 168/2014 - Segunda Câmara     2014-01-28               RELATOR            JOSÉ JORGE            321                  6        50   \n",
       "1                 932         ADMINISTRATIVO        Acórdão 1613/2013 - Plenário     2013-06-26               RELATOR            JOSÉ JORGE            191                  5        30   \n",
       "2                 932    PRESTAÇÃO DE CONTAS  Acórdão 3936/2013 - Segunda Câmara     2013-07-09               RELATOR            ANA ARRAES            263                  6        35   \n",
       "3                 775          REPRESENTAÇÃO        Acórdão 3231/2011 - Plenário     2011-12-07               RELATOR         AROLDO CEDRAZ            188                  5        27   \n",
       "4                 932          REPRESENTAÇÃO        Acórdão 3231/2011 - Plenário     2011-12-07               RELATOR         AROLDO CEDRAZ            230                  5        36   \n",
       "\n",
       "   NUM_TOKENS_MONOT5_3B  NUM_TOKENS_MINILM  NUM_TOKENS_PTT5_BASE  \n",
       "0                    96                 71                    66  \n",
       "1                    54                 45                    48  \n",
       "2                    68                 55                    52  \n",
       "3                    52                 39                    36  \n",
       "4                    72                 53                    49  "
      ]
     },
     "execution_count": 25,
     "metadata": {},
     "output_type": "execute_result"
    }
   ],
   "source": [
    "df_query.head()"
   ]
  },
  {
   "cell_type": "code",
   "execution_count": 26,
   "metadata": {},
   "outputs": [
    {
     "name": "stdout",
     "output_type": "stream",
     "text": [
      "['TEXT_DEFINITION', 'TEXT_SYNONYM', 'TEXT_RELATED_TERM', 'TEXT_SCOPE_NOTE', 'TEXT_EXAMPLE', 'TEXT_ENGLISH_TRANSLATION', 'TEXT_SPANISH_TRANSLATION', 'TEXT_SPECIALIZATION', 'TEXT_GENERALIZATION']\n"
     ]
    }
   ],
   "source": [
    "# Verificar as colunas com valores NaN\n",
    "columns_with_nan = df_doc.columns[df_doc.isna().any()].tolist()\n",
    "\n",
    "print(columns_with_nan)"
   ]
  },
  {
   "cell_type": "code",
   "execution_count": 27,
   "metadata": {},
   "outputs": [],
   "source": [
    "df_doc = df_doc.fillna(\"\")"
   ]
  },
  {
   "cell_type": "code",
   "execution_count": 28,
   "metadata": {},
   "outputs": [],
   "source": [
    "# Converter as colunas para o tipo string\n",
    "df_doc[columns_with_nan] = df_doc[columns_with_nan].astype(str)"
   ]
  },
  {
   "attachments": {},
   "cell_type": "markdown",
   "metadata": {},
   "source": [
    "Concatenate terms (by qrel) and synonyms (by doc)"
   ]
  },
  {
   "cell_type": "code",
   "execution_count": 29,
   "metadata": {},
   "outputs": [],
   "source": [
    "df = df_qrel.merge(df_doc[['ID', 'NAME', 'TEXT_SYNONYM', 'TEXT_RELATED_TERM', 'HAS_SYNONYM', 'HAS_RELATED_TERM']], how='inner', left_on='DOC_ID', right_on='ID')"
   ]
  },
  {
   "cell_type": "code",
   "execution_count": 30,
   "metadata": {},
   "outputs": [
    {
     "data": {
      "text/plain": [
       "(94809, 9)"
      ]
     },
     "execution_count": 30,
     "metadata": {},
     "output_type": "execute_result"
    }
   ],
   "source": [
    "df.shape"
   ]
  },
  {
   "cell_type": "code",
   "execution_count": 31,
   "metadata": {},
   "outputs": [],
   "source": [
    "del df['ID']"
   ]
  },
  {
   "cell_type": "code",
   "execution_count": 32,
   "metadata": {},
   "outputs": [
    {
     "data": {
      "text/html": [
       "<div>\n",
       "<style scoped>\n",
       "    .dataframe tbody tr th:only-of-type {\n",
       "        vertical-align: middle;\n",
       "    }\n",
       "\n",
       "    .dataframe tbody tr th {\n",
       "        vertical-align: top;\n",
       "    }\n",
       "\n",
       "    .dataframe thead th {\n",
       "        text-align: right;\n",
       "    }\n",
       "</style>\n",
       "<table border=\"1\" class=\"dataframe\">\n",
       "  <thead>\n",
       "    <tr style=\"text-align: right;\">\n",
       "      <th></th>\n",
       "      <th>QUERY_ID</th>\n",
       "      <th>DOC_ID</th>\n",
       "      <th>TYPE</th>\n",
       "      <th>NAME</th>\n",
       "      <th>TEXT_SYNONYM</th>\n",
       "      <th>TEXT_RELATED_TERM</th>\n",
       "      <th>HAS_SYNONYM</th>\n",
       "      <th>HAS_RELATED_TERM</th>\n",
       "    </tr>\n",
       "  </thead>\n",
       "  <tbody>\n",
       "    <tr>\n",
       "      <th>0</th>\n",
       "      <td>158</td>\n",
       "      <td>15147</td>\n",
       "      <td>INDEXACAO_EXTRA</td>\n",
       "      <td>Referência</td>\n",
       "      <td>Parâmetro e Fonte de pesquisa.</td>\n",
       "      <td>Fonte de informação.</td>\n",
       "      <td>1</td>\n",
       "      <td>1</td>\n",
       "    </tr>\n",
       "    <tr>\n",
       "      <th>1</th>\n",
       "      <td>37</td>\n",
       "      <td>15147</td>\n",
       "      <td>INDEXACAO_EXTRA</td>\n",
       "      <td>Referência</td>\n",
       "      <td>Parâmetro e Fonte de pesquisa.</td>\n",
       "      <td>Fonte de informação.</td>\n",
       "      <td>1</td>\n",
       "      <td>1</td>\n",
       "    </tr>\n",
       "    <tr>\n",
       "      <th>2</th>\n",
       "      <td>178</td>\n",
       "      <td>15147</td>\n",
       "      <td>INDEXACAO_EXTRA</td>\n",
       "      <td>Referência</td>\n",
       "      <td>Parâmetro e Fonte de pesquisa.</td>\n",
       "      <td>Fonte de informação.</td>\n",
       "      <td>1</td>\n",
       "      <td>1</td>\n",
       "    </tr>\n",
       "    <tr>\n",
       "      <th>3</th>\n",
       "      <td>14564</td>\n",
       "      <td>15147</td>\n",
       "      <td>INDEXACAO_EXTRA</td>\n",
       "      <td>Referência</td>\n",
       "      <td>Parâmetro e Fonte de pesquisa.</td>\n",
       "      <td>Fonte de informação.</td>\n",
       "      <td>1</td>\n",
       "      <td>1</td>\n",
       "    </tr>\n",
       "    <tr>\n",
       "      <th>4</th>\n",
       "      <td>9219</td>\n",
       "      <td>15147</td>\n",
       "      <td>INDEXACAO_EXTRA</td>\n",
       "      <td>Referência</td>\n",
       "      <td>Parâmetro e Fonte de pesquisa.</td>\n",
       "      <td>Fonte de informação.</td>\n",
       "      <td>1</td>\n",
       "      <td>1</td>\n",
       "    </tr>\n",
       "  </tbody>\n",
       "</table>\n",
       "</div>"
      ],
      "text/plain": [
       "   QUERY_ID  DOC_ID             TYPE        NAME                    TEXT_SYNONYM     TEXT_RELATED_TERM  HAS_SYNONYM  HAS_RELATED_TERM\n",
       "0       158   15147  INDEXACAO_EXTRA  Referência  Parâmetro e Fonte de pesquisa.  Fonte de informação.            1                 1\n",
       "1        37   15147  INDEXACAO_EXTRA  Referência  Parâmetro e Fonte de pesquisa.  Fonte de informação.            1                 1\n",
       "2       178   15147  INDEXACAO_EXTRA  Referência  Parâmetro e Fonte de pesquisa.  Fonte de informação.            1                 1\n",
       "3     14564   15147  INDEXACAO_EXTRA  Referência  Parâmetro e Fonte de pesquisa.  Fonte de informação.            1                 1\n",
       "4      9219   15147  INDEXACAO_EXTRA  Referência  Parâmetro e Fonte de pesquisa.  Fonte de informação.            1                 1"
      ]
     },
     "execution_count": 32,
     "metadata": {},
     "output_type": "execute_result"
    }
   ],
   "source": [
    "df.head()"
   ]
  },
  {
   "cell_type": "code",
   "execution_count": 34,
   "metadata": {},
   "outputs": [],
   "source": [
    "df['NAME_SYNONYM'] = df.apply(lambda row: row['NAME'] if row['TEXT_SYNONYM'] == '' else row['NAME'] + ' - ' + row['TEXT_SYNONYM'].rstrip('.'), axis=1)\n"
   ]
  },
  {
   "cell_type": "code",
   "execution_count": 35,
   "metadata": {},
   "outputs": [],
   "source": [
    "df['NAME_RELATED_TERM'] = df.apply(lambda row: row['NAME'] if row['TEXT_RELATED_TERM'] == '' else row['NAME'] + ' -- ' + row['TEXT_RELATED_TERM'].rstrip('.'), axis=1).str.rstrip('.')\n"
   ]
  },
  {
   "cell_type": "code",
   "execution_count": 36,
   "metadata": {},
   "outputs": [],
   "source": [
    "df['NAME_SYNONYM_RELATED_TERM'] = df.apply(lambda row: row['NAME_SYNONYM'] if row['TEXT_RELATED_TERM'] == '' else row['NAME_SYNONYM'] + ' -- ' + row['TEXT_RELATED_TERM'], axis=1)\n"
   ]
  },
  {
   "cell_type": "code",
   "execution_count": 40,
   "metadata": {},
   "outputs": [
    {
     "data": {
      "text/html": [
       "<div>\n",
       "<style scoped>\n",
       "    .dataframe tbody tr th:only-of-type {\n",
       "        vertical-align: middle;\n",
       "    }\n",
       "\n",
       "    .dataframe tbody tr th {\n",
       "        vertical-align: top;\n",
       "    }\n",
       "\n",
       "    .dataframe thead th {\n",
       "        text-align: right;\n",
       "    }\n",
       "</style>\n",
       "<table border=\"1\" class=\"dataframe\">\n",
       "  <thead>\n",
       "    <tr style=\"text-align: right;\">\n",
       "      <th></th>\n",
       "      <th>ID</th>\n",
       "      <th>TEXT</th>\n",
       "      <th>REFERENCE_LIST</th>\n",
       "      <th>PARADIGMATIC</th>\n",
       "      <th>AREA_NAME</th>\n",
       "      <th>AREA_ID_DESCRIPTOR</th>\n",
       "      <th>NORMATIVE_PROCESS_TYPE</th>\n",
       "      <th>NORMATIVE_IDENTIFICATION</th>\n",
       "      <th>NORMATIVE_DATE</th>\n",
       "      <th>NORMATIVE_AUTHOR_TYPE</th>\n",
       "      <th>NORMATIVE_AUTHOR_NAME</th>\n",
       "      <th>LEN_TEXT_CHAR</th>\n",
       "      <th>LEN_TEXT_CHAR_LOG</th>\n",
       "      <th>NUM_WORD</th>\n",
       "      <th>NUM_TOKENS_MONOT5_3B</th>\n",
       "      <th>NUM_TOKENS_MINILM</th>\n",
       "      <th>NUM_TOKENS_PTT5_BASE</th>\n",
       "      <th>QUERY_ID</th>\n",
       "      <th>DOC_ID</th>\n",
       "      <th>TYPE</th>\n",
       "      <th>NAME</th>\n",
       "      <th>TEXT_SYNONYM</th>\n",
       "      <th>TEXT_RELATED_TERM</th>\n",
       "      <th>HAS_SYNONYM</th>\n",
       "      <th>HAS_RELATED_TERM</th>\n",
       "      <th>NAME_SYNONYM</th>\n",
       "      <th>NAME_RELATED_TERM</th>\n",
       "      <th>NAME_SYNONYM_RELATED_TERM</th>\n",
       "    </tr>\n",
       "  </thead>\n",
       "  <tbody>\n",
       "    <tr>\n",
       "      <th>4</th>\n",
       "      <td>11614</td>\n",
       "      <td>SÚMULA TCU 283: Para fim de habilitação, a Administração Pública não deve exigir dos licitantes ...</td>\n",
       "      <td></td>\n",
       "      <td>SUMULA</td>\n",
       "      <td>Licitação</td>\n",
       "      <td>932</td>\n",
       "      <td>ADMINISTRATIVO</td>\n",
       "      <td>Acórdão 1613/2013 - Plenário</td>\n",
       "      <td>2013-06-26</td>\n",
       "      <td>RELATOR</td>\n",
       "      <td>JOSÉ JORGE</td>\n",
       "      <td>191</td>\n",
       "      <td>5</td>\n",
       "      <td>30</td>\n",
       "      <td>54</td>\n",
       "      <td>45</td>\n",
       "      <td>48</td>\n",
       "      <td>11614</td>\n",
       "      <td>14782</td>\n",
       "      <td>SUBTEMA</td>\n",
       "      <td>Documentação</td>\n",
       "      <td>Guarda da documentação.</td>\n",
       "      <td></td>\n",
       "      <td>1</td>\n",
       "      <td>0</td>\n",
       "      <td>Documentação - Guarda da documentação</td>\n",
       "      <td>Documentação</td>\n",
       "      <td>Documentação - Guarda da documentação</td>\n",
       "    </tr>\n",
       "  </tbody>\n",
       "</table>\n",
       "</div>"
      ],
      "text/plain": [
       "      ID                                                                                                 TEXT REFERENCE_LIST PARADIGMATIC  AREA_NAME  AREA_ID_DESCRIPTOR NORMATIVE_PROCESS_TYPE  \\\n",
       "4  11614  SÚMULA TCU 283: Para fim de habilitação, a Administração Pública não deve exigir dos licitantes ...                      SUMULA  Licitação                 932         ADMINISTRATIVO   \n",
       "\n",
       "       NORMATIVE_IDENTIFICATION NORMATIVE_DATE NORMATIVE_AUTHOR_TYPE NORMATIVE_AUTHOR_NAME  LEN_TEXT_CHAR  LEN_TEXT_CHAR_LOG  NUM_WORD  NUM_TOKENS_MONOT5_3B  NUM_TOKENS_MINILM  NUM_TOKENS_PTT5_BASE  \\\n",
       "4  Acórdão 1613/2013 - Plenário     2013-06-26               RELATOR            JOSÉ JORGE            191                  5        30                    54                 45                    48   \n",
       "\n",
       "   QUERY_ID  DOC_ID     TYPE          NAME             TEXT_SYNONYM TEXT_RELATED_TERM  HAS_SYNONYM  HAS_RELATED_TERM                           NAME_SYNONYM NAME_RELATED_TERM  \\\n",
       "4     11614   14782  SUBTEMA  Documentação  Guarda da documentação.                              1                 0  Documentação - Guarda da documentação      Documentação   \n",
       "\n",
       "               NAME_SYNONYM_RELATED_TERM  \n",
       "4  Documentação - Guarda da documentação  "
      ]
     },
     "execution_count": 40,
     "metadata": {},
     "output_type": "execute_result"
    }
   ],
   "source": [
    "df[(df['HAS_SYNONYM']==1) & (df['HAS_RELATED_TERM']==0)].head(1)"
   ]
  },
  {
   "cell_type": "code",
   "execution_count": 38,
   "metadata": {},
   "outputs": [],
   "source": [
    "df = df_query.merge(df, how='inner', left_on='ID', right_on='QUERY_ID')"
   ]
  },
  {
   "cell_type": "code",
   "execution_count": 41,
   "metadata": {},
   "outputs": [
    {
     "data": {
      "text/plain": [
       "Index(['ID', 'TEXT', 'REFERENCE_LIST', 'PARADIGMATIC', 'AREA_NAME', 'AREA_ID_DESCRIPTOR', 'NORMATIVE_PROCESS_TYPE', 'NORMATIVE_IDENTIFICATION', 'NORMATIVE_DATE', 'NORMATIVE_AUTHOR_TYPE',\n",
       "       'NORMATIVE_AUTHOR_NAME', 'LEN_TEXT_CHAR', 'LEN_TEXT_CHAR_LOG', 'NUM_WORD', 'NUM_TOKENS_MONOT5_3B', 'NUM_TOKENS_MINILM', 'NUM_TOKENS_PTT5_BASE', 'QUERY_ID', 'DOC_ID', 'TYPE', 'NAME',\n",
       "       'TEXT_SYNONYM', 'TEXT_RELATED_TERM', 'HAS_SYNONYM', 'HAS_RELATED_TERM', 'NAME_SYNONYM', 'NAME_RELATED_TERM', 'NAME_SYNONYM_RELATED_TERM'],\n",
       "      dtype='object')"
      ]
     },
     "execution_count": 41,
     "metadata": {},
     "output_type": "execute_result"
    }
   ],
   "source": [
    "df.columns"
   ]
  },
  {
   "cell_type": "code",
   "execution_count": 42,
   "metadata": {},
   "outputs": [
    {
     "data": {
      "text/plain": [
       "(94809, 28)"
      ]
     },
     "execution_count": 42,
     "metadata": {},
     "output_type": "execute_result"
    }
   ],
   "source": [
    "df.shape"
   ]
  },
  {
   "cell_type": "code",
   "execution_count": 43,
   "metadata": {},
   "outputs": [
    {
     "name": "stderr",
     "output_type": "stream",
     "text": [
      "16045it [00:06, 2331.59it/s]"
     ]
    },
    {
     "name": "stdout",
     "output_type": "stream",
     "text": [
      "CPU times: user 6.88 s, sys: 64.5 ms, total: 6.95 s\n",
      "Wall time: 6.91 s\n"
     ]
    },
    {
     "name": "stderr",
     "output_type": "stream",
     "text": [
      "\n"
     ]
    }
   ],
   "source": [
    "%%time\n",
    "data_index = {'term' : [],\n",
    "            'synonym': [],\n",
    "            'related_term': [],\n",
    "            'synonym_related_term': [],}\n",
    "# Ordenar o DataFrame por 'QUERY_ID' em ordem ascendente\n",
    "df_sorted = df.sort_values('QUERY_ID')\n",
    "# Iterar sobre os grupos\n",
    "for cnt, (query_id, group) in tqdm(enumerate(df_sorted.groupby('QUERY_ID'))):\n",
    "    # print(f\"Query ID: {query_id}\")\n",
    "    # print(group)\n",
    "    group_synonym = ''\n",
    "    group_term = ''\n",
    "    group_related_term = ''\n",
    "    group_synonym_related_term = ''\n",
    "\n",
    "    # Iterar sobre os registros do grupo\n",
    "    for cnt, (_, row_doc) in enumerate(group.iterrows()):\n",
    "        if cnt==0: # salva copia dos dados da query\n",
    "            row_query = row_doc.copy()\n",
    "\n",
    "        doc_id = row_doc['DOC_ID']\n",
    "        # Faça o que precisa com cada registro (doc_id) para o query_id atual\n",
    "        \n",
    "        # Exemplo: Imprimir o doc_id\n",
    "        # print(f\"Doc ID: {doc_id}\")\n",
    "\n",
    "        group_term = group_term + ', ' + row_doc['NAME'] if group_term != '' else row_doc['NAME']\n",
    "        #if row_doc['HAS_SYNONYM']==1:\n",
    "        group_synonym = group_synonym + '; ' + row_doc['NAME_SYNONYM'] if group_synonym != '' else row_doc['NAME_SYNONYM']\n",
    "        #if row_doc['HAS_RELATED_TERM']==1:\n",
    "        group_related_term = group_related_term + '; ' + row_doc['NAME_RELATED_TERM'] if group_related_term != '' else row_doc['NAME_RELATED_TERM']\n",
    "        # if (row_doc['HAS_RELATED_TERM']==1) or (row_doc['HAS_SYNONYM']==1):\n",
    "        group_synonym_related_term = group_synonym_related_term + '; ' + row_doc['NAME_SYNONYM_RELATED_TERM'] if group_synonym_related_term != '' else row_doc['NAME_SYNONYM_RELATED_TERM']\n",
    "    # Adicione aqui qualquer lógica adicional que você precise executar para cada query_id\n",
    "\n",
    "    row_json_term= {\n",
    "        'id': row_query['ID'],\n",
    "        'content': row_query['TEXT'],\n",
    "        'meta': {},\n",
    "    }               \n",
    "    for column_name in df.columns:\n",
    "        if column_name not in ['TEXT', 'QUERY_ID', 'DOC_ID', 'TYPE', 'NAME', 'TEXT_SYNONYM',\n",
    "                               'TEXT_RELATED_TERM', 'HAS_SYNONYM', 'HAS_RELATED_TERM', 'NAME_SYNONYM',\n",
    "                               'NAME_RELATED_TERM', 'NAME_SYNONYM_RELATED_TERM']:  # columns of doc\n",
    "            row_json_term['meta'][column_name.lower()] = row_query[column_name]        \n",
    "    \n",
    "    row_json_synonym = row_json_term.copy()\n",
    "    row_json_related_term = row_json_term.copy()\n",
    "    row_json_synonym_related_term = row_json_term.copy()\n",
    "\n",
    "    row_json_term['content'] += '\\n' + group_term + '.'\n",
    "    #if len(group_synonym) > 0:\n",
    "    row_json_synonym['content'] += '\\n' + group_synonym\n",
    "    #if len(group_related_term) > 0:\n",
    "    row_json_related_term['content'] += '\\n' + group_related_term\n",
    "    #if len(group_synonym_related_term) > 0:\n",
    "    row_json_synonym_related_term['content'] += '\\n' + group_synonym_related_term\n",
    "\n",
    "\n",
    "    data_index['term'].append(row_json_term)\n",
    "    data_index['synonym'].append(row_json_synonym)\n",
    "    data_index['related_term'].append(row_json_related_term)\n",
    "    data_index['synonym_related_term'].append(row_json_synonym_related_term)\n"
   ]
  },
  {
   "cell_type": "code",
   "execution_count": 44,
   "metadata": {},
   "outputs": [
    {
     "data": {
      "text/plain": [
       "16045"
      ]
     },
     "execution_count": 44,
     "metadata": {},
     "output_type": "execute_result"
    }
   ],
   "source": [
    "len(data_index['term'])"
   ]
  },
  {
   "cell_type": "code",
   "execution_count": 45,
   "metadata": {},
   "outputs": [],
   "source": [
    "list_type_index = ['term', 'synonym', 'related_term', 'synonym_related_term' ]"
   ]
  },
  {
   "cell_type": "code",
   "execution_count": 46,
   "metadata": {},
   "outputs": [
    {
     "name": "stdout",
     "output_type": "stream",
     "text": [
      "term SÚMULA TCU 2: Configura-se como vencimento, para efeito da concessão da pensão especial com fundamento na Lei nº 3.738, de 04/04/60, o valor do símbolo correspondente ao cargo em comissão exercido pelo funcionário, à época do seu falecimento.\n",
      "Cargo em comissão, Doença, Pessoal, Viúvo, Pensão especial. \n",
      "\n",
      "synonym SÚMULA TCU 2: Configura-se como vencimento, para efeito da concessão da pensão especial com fundamento na Lei nº 3.738, de 04/04/60, o valor do símbolo correspondente ao cargo em comissão exercido pelo funcionário, à época do seu falecimento.\n",
      "Cargo em comissão - Ocupante de cargo em comissão, Cargo de direção, chefia e assessoramento, Cargo comissionado, Cargo de confiança, Exercente de cargo em comissão e Cargo de direção, chefia ou assessoramento; Doença - Enfermidade e Moléstia; Pessoal; Viúvo - Viúva, Cônjuge sobrevivente, Cônjuge supérstite e Consorte supérstite; Pensão especial - Pensão especial da Lei 3738/60, Pensão especial da Lei 6782/80, Pensão da lei 3.738/60 e Pensão especial aos portadores da Síndrome da Talidomida \n",
      "\n",
      "related_term SÚMULA TCU 2: Configura-se como vencimento, para efeito da concessão da pensão especial com fundamento na Lei nº 3.738, de 04/04/60, o valor do símbolo correspondente ao cargo em comissão exercido pelo funcionário, à época do seu falecimento.\n",
      "Cargo em comissão -- Destituição de cargo, Livre nomeação, Livre exoneração, Nepotismo, Faixa etária, Função de confiança e Afastamento para servir a outro órgão ou entidade; Doença -- Medicina, Auxílio-doença, Doente, Perícia médica e Doença preexistente; Pessoal -- Sisac, Despesa com pessoal e HCAAF; Viúvo -- Enteado, Companheiro supérstite, Pensão, Filho, Genitor, Irmão, Cessão de herança, Casamento, Sucessão, Dissolução da sociedade conjugal, Herança e Regime de bens; Pensão especial \n",
      "\n",
      "synonym_related_term SÚMULA TCU 2: Configura-se como vencimento, para efeito da concessão da pensão especial com fundamento na Lei nº 3.738, de 04/04/60, o valor do símbolo correspondente ao cargo em comissão exercido pelo funcionário, à época do seu falecimento.\n",
      "Cargo em comissão - Ocupante de cargo em comissão, Cargo de direção, chefia e assessoramento, Cargo comissionado, Cargo de confiança, Exercente de cargo em comissão e Cargo de direção, chefia ou assessoramento -- Destituição de cargo, Livre nomeação, Livre exoneração, Nepotismo, Faixa etária, Função de confiança e Afastamento para servir a outro órgão ou entidade.; Doença - Enfermidade e Moléstia -- Medicina, Auxílio-doença, Doente, Perícia médica e Doença preexistente.; Pessoal -- Sisac, Despesa com pessoal e HCAAF.; Viúvo - Viúva, Cônjuge sobrevivente, Cônjuge supérstite e Consorte supérstite -- Enteado, Companheiro supérstite, Pensão, Filho, Genitor, Irmão, Cessão de herança, Casamento, Sucessão, Dissolução da sociedade conjugal, Herança e Regime de bens.; Pensão especial - Pensão especial da Lei 3738/60, Pensão especial da Lei 6782/80, Pensão da lei 3.738/60 e Pensão especial aos portadores da Síndrome da Talidomida \n",
      "\n"
     ]
    }
   ],
   "source": [
    "ind_test=1\n",
    "for index_type in list_type_index:\n",
    "    print(index_type, data_index[index_type][ind_test]['content'], '\\n')\n"
   ]
  },
  {
   "attachments": {},
   "cell_type": "markdown",
   "metadata": {},
   "source": [
    "# Index creation"
   ]
  },
  {
   "cell_type": "code",
   "execution_count": 49,
   "metadata": {},
   "outputs": [
    {
     "name": "stdout",
     "output_type": "stream",
     "text": [
      "Index: indir_juris_tcu_term_exp_3_ptt5_indir_400\n",
      "{'health': 'yellow', 'status': 'open', 'index': 'indir_juris_tcu_term_exp_3_ptt5_indir_400', 'uuid': '_LoconF0SimNCEuH8eA4rA', 'pri': '1', 'rep': '1', 'docs.count': '16045', 'docs.deleted': '6623', 'store.size': '329.9mb', 'pri.store.size': '329.9mb'}\n",
      "\n",
      "Index: indir_juris_tcu_synonym_related_term_exp_3_ptt5_indir_400\n",
      "{'health': 'yellow', 'status': 'open', 'index': 'indir_juris_tcu_synonym_related_term_exp_3_ptt5_indir_400', 'uuid': 'wc4yiJ2tTnOtSlKj5cqJkQ', 'pri': '1', 'rep': '1', 'docs.count': '16045', 'docs.deleted': '6128', 'store.size': '340.4mb', 'pri.store.size': '340.4mb'}\n",
      "\n",
      "Index: indir_juris_tcu_term_exp_1_ptt5_indir_400\n",
      "{'health': 'yellow', 'status': 'open', 'index': 'indir_juris_tcu_term_exp_1_ptt5_indir_400', 'uuid': 'o5cuc4DWQPa6i18xuvlQVw', 'pri': '1', 'rep': '1', 'docs.count': '16045', 'docs.deleted': '6545', 'store.size': '329mb', 'pri.store.size': '329mb'}\n",
      "\n",
      "Index: indir_juris_tcu_synonym_exp_3_ptt5_indir_400\n",
      "{'health': 'yellow', 'status': 'open', 'index': 'indir_juris_tcu_synonym_exp_3_ptt5_indir_400', 'uuid': 'hAB0jQe1QIeP2eDdwAO5pw', 'pri': '1', 'rep': '1', 'docs.count': '16045', 'docs.deleted': '5630', 'store.size': '331.7mb', 'pri.store.size': '331.7mb'}\n",
      "\n",
      "Index: indir_juris_tcu_related_term_exp_3_ptt5_indir_400\n",
      "{'health': 'yellow', 'status': 'open', 'index': 'indir_juris_tcu_related_term_exp_3_ptt5_indir_400', 'uuid': '7v2OfkoWTC2mYTmdUqmdzA', 'pri': '1', 'rep': '1', 'docs.count': '16045', 'docs.deleted': '6117', 'store.size': '338.3mb', 'pri.store.size': '338.3mb'}\n",
      "\n",
      "Index: indir_juris_tcu_term_exp_5_ptt5_indir_400\n",
      "{'health': 'yellow', 'status': 'open', 'index': 'indir_juris_tcu_term_exp_5_ptt5_indir_400', 'uuid': 'NLkmvC19TL6fiEQd6KzVGw', 'pri': '1', 'rep': '1', 'docs.count': '16045', 'docs.deleted': '5624', 'store.size': '330.3mb', 'pri.store.size': '330.3mb'}\n",
      "\n",
      "Index: indir_juris_tcu_synonym_related_term_exp_5_ptt5_indir_400\n",
      "{'health': 'yellow', 'status': 'open', 'index': 'indir_juris_tcu_synonym_related_term_exp_5_ptt5_indir_400', 'uuid': 'FJQq66guSP-7CS1wmQu5Kg', 'pri': '1', 'rep': '1', 'docs.count': '16045', 'docs.deleted': '3545', 'store.size': '343.8mb', 'pri.store.size': '343.8mb'}\n",
      "\n",
      "Index: indir_juris_tcu_synonym_exp_1_ptt5_indir_400\n",
      "{'health': 'yellow', 'status': 'open', 'index': 'indir_juris_tcu_synonym_exp_1_ptt5_indir_400', 'uuid': 'Ed9ssH8NQ1qQUCBBmowNWA', 'pri': '1', 'rep': '1', 'docs.count': '16045', 'docs.deleted': '6545', 'store.size': '329.8mb', 'pri.store.size': '329.8mb'}\n",
      "\n",
      "Index: indir_juris_tcu_synonym_related_term_exp_1_ptt5_indir_400\n",
      "{'health': 'yellow', 'status': 'open', 'index': 'indir_juris_tcu_synonym_related_term_exp_1_ptt5_indir_400', 'uuid': 'rPZlBOLoQkWqqkFsESho0g', 'pri': '1', 'rep': '1', 'docs.count': '16045', 'docs.deleted': '6128', 'store.size': '332.4mb', 'pri.store.size': '332.4mb'}\n",
      "\n",
      "Index: indir_juris_tcu_related_term_exp_1_ptt5_indir_400\n",
      "{'health': 'yellow', 'status': 'open', 'index': 'indir_juris_tcu_related_term_exp_1_ptt5_indir_400', 'uuid': 'BgKWyHSSQ3mjDlVbrDR3nA', 'pri': '1', 'rep': '1', 'docs.count': '16045', 'docs.deleted': '6622', 'store.size': '332mb', 'pri.store.size': '332mb'}\n",
      "\n",
      "Index: indir_juris_tcu_index\n",
      "{'health': 'yellow', 'status': 'open', 'index': 'indir_juris_tcu_index', 'uuid': 'fGjzBrQzRUWTZ6KlnbfLqw', 'pri': '1', 'rep': '1', 'docs.count': '13255', 'docs.deleted': '2755', 'store.size': '281.7mb', 'pri.store.size': '281.7mb'}\n",
      "\n",
      "Index: indir_juris_tcu_synonym_exp_5_ptt5_indir_400\n",
      "{'health': 'yellow', 'status': 'open', 'index': 'indir_juris_tcu_synonym_exp_5_ptt5_indir_400', 'uuid': 'PH7lC0-WQNqNT-4qcBKBAw', 'pri': '1', 'rep': '1', 'docs.count': '16045', 'docs.deleted': '6142', 'store.size': '333.7mb', 'pri.store.size': '333.7mb'}\n",
      "\n",
      "Index: indir_juris_tcu_related_term_exp_5_ptt5_indir_400\n",
      "{'health': 'yellow', 'status': 'open', 'index': 'indir_juris_tcu_related_term_exp_5_ptt5_indir_400', 'uuid': 'FvvMJhKSTqe0nvbDkLO_7Q', 'pri': '1', 'rep': '1', 'docs.count': '16045', 'docs.deleted': '3132', 'store.size': '340.6mb', 'pri.store.size': '340.6mb'}\n",
      "\n"
     ]
    }
   ],
   "source": [
    "index_dict = util_elastic.return_indexes('indir', parm_print=True)"
   ]
  },
  {
   "cell_type": "code",
   "execution_count": 50,
   "metadata": {},
   "outputs": [],
   "source": [
    "INDEX_NAME = 'indir_juris_tcu'"
   ]
  },
  {
   "cell_type": "code",
   "execution_count": 26,
   "metadata": {},
   "outputs": [],
   "source": [
    "# util_elastic.delete_index('indir_juris_tcu')"
   ]
  },
  {
   "attachments": {},
   "cell_type": "markdown",
   "metadata": {},
   "source": [
    "index name = indir_juris_tcu_synonym_exp_user"
   ]
  },
  {
   "cell_type": "code",
   "execution_count": 52,
   "metadata": {},
   "outputs": [
    {
     "name": "stdout",
     "output_type": "stream",
     "text": [
      "\n",
      "********Creating index indir_juris_tcu_term_exp_user\n",
      "\n",
      "before write\n",
      "\n",
      "Qtd de documentos 0\n",
      "\n",
      "Qtd de embeddings 0\n",
      "\n",
      "Documento.id= 5: None\n",
      "\n",
      "after write\n",
      "\n",
      "Qtd de documentos 16045\n",
      "\n",
      "Qtd de embeddings 0\n",
      "\n",
      "Documento.id= 5: <Document: id=5, content='SÚMULA TCU 1: Não se compreendem como vencimento, para efeito de concessão da pensão especial com fu...'>\n",
      "\n",
      "********Creating index indir_juris_tcu_synonym_exp_user\n",
      "\n",
      "before write\n",
      "\n",
      "Qtd de documentos 0\n",
      "\n",
      "Qtd de embeddings 0\n",
      "\n",
      "Documento.id= 5: None\n",
      "\n",
      "after write\n",
      "\n",
      "Qtd de documentos 16045\n",
      "\n",
      "Qtd de embeddings 0\n",
      "\n",
      "Documento.id= 5: <Document: id=5, content='SÚMULA TCU 1: Não se compreendem como vencimento, para efeito de concessão da pensão especial com fu...'>\n",
      "\n",
      "********Creating index indir_juris_tcu_related_term_exp_user\n",
      "\n",
      "before write\n",
      "\n",
      "Qtd de documentos 0\n",
      "\n",
      "Qtd de embeddings 0\n",
      "\n",
      "Documento.id= 5: None\n",
      "\n",
      "after write\n",
      "\n",
      "Qtd de documentos 16045\n",
      "\n",
      "Qtd de embeddings 0\n",
      "\n",
      "Documento.id= 5: <Document: id=5, content='SÚMULA TCU 1: Não se compreendem como vencimento, para efeito de concessão da pensão especial com fu...'>\n",
      "\n",
      "********Creating index indir_juris_tcu_synonym_related_term_exp_user\n",
      "\n",
      "before write\n",
      "\n",
      "Qtd de documentos 0\n",
      "\n",
      "Qtd de embeddings 0\n",
      "\n",
      "Documento.id= 5: None\n",
      "\n",
      "after write\n",
      "\n",
      "Qtd de documentos 16045\n",
      "\n",
      "Qtd de embeddings 0\n",
      "\n",
      "Documento.id= 5: <Document: id=5, content='SÚMULA TCU 1: Não se compreendem como vencimento, para efeito de concessão da pensão especial com fu...'>\n",
      "CPU times: user 4.69 s, sys: 45.6 ms, total: 4.73 s\n",
      "Wall time: 2min 21s\n"
     ]
    }
   ],
   "source": [
    "%%time\n",
    "dict_index = {}\n",
    "for index_type in list_type_index:\n",
    "    index_name_with_expansion = INDEX_NAME+'_'+index_type+'_exp_user'\n",
    "    print(f\"\\n********Creating index {index_name_with_expansion}\")\n",
    "    dict_index[index_name_with_expansion] = util_elastic.create_index(parm_index_name=index_name_with_expansion,\n",
    "                                                       parm_data_carga_json=data_index[index_type],\n",
    "                                                       parm_embedding_dim=1024)"
   ]
  },
  {
   "cell_type": "code",
   "execution_count": 53,
   "metadata": {},
   "outputs": [],
   "source": [
    "nome_modelo_embedding_model_sts_rufimelo = \"rufimelo/Legal-BERTimbau-sts-large-ma-v3\"\n",
    "nome_caminho_modelo = \"/home/borela/fontes/relevar-busca/modelo/\" + nome_modelo_embedding_model_sts_rufimelo\n",
    "assert os.path.exists(nome_caminho_modelo), f\"Path para {nome_caminho_modelo} não existe!\"\n"
   ]
  },
  {
   "cell_type": "code",
   "execution_count": 54,
   "metadata": {},
   "outputs": [
    {
     "name": "stdout",
     "output_type": "stream",
     "text": [
      "\n",
      "********Updating embeddings of index indir_juris_tcu_term_exp_user\n"
     ]
    },
    {
     "data": {
      "application/vnd.jupyter.widget-view+json": {
       "model_id": "3503c58d60a249ffad34f169773ebce0",
       "version_major": 2,
       "version_minor": 0
      },
      "text/plain": [
       "Updating embeddings:   0%|          | 0/16045 [00:00<?, ? Docs/s]"
      ]
     },
     "metadata": {},
     "output_type": "display_data"
    },
    {
     "name": "stdout",
     "output_type": "stream",
     "text": [
      "\n",
      "********Updating embeddings of index indir_juris_tcu_synonym_exp_user\n"
     ]
    },
    {
     "data": {
      "application/vnd.jupyter.widget-view+json": {
       "model_id": "a3fddbfa0d474b5ea55d061fe35bcd38",
       "version_major": 2,
       "version_minor": 0
      },
      "text/plain": [
       "Updating embeddings:   0%|          | 0/16045 [00:00<?, ? Docs/s]"
      ]
     },
     "metadata": {},
     "output_type": "display_data"
    },
    {
     "name": "stdout",
     "output_type": "stream",
     "text": [
      "\n",
      "********Updating embeddings of index indir_juris_tcu_related_term_exp_user\n"
     ]
    },
    {
     "data": {
      "application/vnd.jupyter.widget-view+json": {
       "model_id": "00e3dd0529fa4d9e9ef204ae0a2c7481",
       "version_major": 2,
       "version_minor": 0
      },
      "text/plain": [
       "Updating embeddings:   0%|          | 0/16045 [00:00<?, ? Docs/s]"
      ]
     },
     "metadata": {},
     "output_type": "display_data"
    },
    {
     "name": "stdout",
     "output_type": "stream",
     "text": [
      "\n",
      "********Updating embeddings of index indir_juris_tcu_synonym_related_term_exp_user\n"
     ]
    },
    {
     "data": {
      "application/vnd.jupyter.widget-view+json": {
       "model_id": "deb1f22ac81c454389b084b557054b92",
       "version_major": 2,
       "version_minor": 0
      },
      "text/plain": [
       "Updating embeddings:   0%|          | 0/16045 [00:00<?, ? Docs/s]"
      ]
     },
     "metadata": {},
     "output_type": "display_data"
    },
    {
     "name": "stdout",
     "output_type": "stream",
     "text": [
      "CPU times: user 10min 51s, sys: 5.86 s, total: 10min 57s\n",
      "Wall time: 13min 57s\n"
     ]
    }
   ],
   "source": [
    "%%time\n",
    "for index_name in dict_index:\n",
    "    print(f\"\\n********Updating embeddings of index {index_name}\")\n",
    "    util_elastic.update_index_embedding_sts(parm_index=dict_index[index_name], parm_path_model=nome_caminho_modelo)"
   ]
  },
  {
   "cell_type": "code",
   "execution_count": 55,
   "metadata": {},
   "outputs": [
    {
     "data": {
      "text/plain": [
       "dict_keys(['indir_juris_tcu_term_exp_user', 'indir_juris_tcu_synonym_exp_user', 'indir_juris_tcu_related_term_exp_user', 'indir_juris_tcu_synonym_related_term_exp_user'])"
      ]
     },
     "execution_count": 55,
     "metadata": {},
     "output_type": "execute_result"
    }
   ],
   "source": [
    "dict_index.keys()"
   ]
  },
  {
   "cell_type": "code",
   "execution_count": null,
   "metadata": {},
   "outputs": [],
   "source": []
  }
 ],
 "metadata": {
  "kernelspec": {
   "display_name": "Python (relevar-busca)",
   "language": "python",
   "name": "relevar-busca"
  },
  "language_info": {
   "codemirror_mode": {
    "name": "ipython",
    "version": 3
   },
   "file_extension": ".py",
   "mimetype": "text/x-python",
   "name": "python",
   "nbconvert_exporter": "python",
   "pygments_lexer": "ipython3",
   "version": "3.7.13"
  },
  "orig_nbformat": 4,
  "vscode": {
   "interpreter": {
    "hash": "45978bf3509deeb93161d1472b16f82a40245d44c2beae6c63ad8f9bb3f69171"
   }
  }
 },
 "nbformat": 4,
 "nbformat_minor": 2
}
