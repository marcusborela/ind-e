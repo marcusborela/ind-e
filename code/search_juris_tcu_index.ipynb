{
 "cells": [
  {
   "attachments": {},
   "cell_type": "markdown",
   "id": "998a4011",
   "metadata": {},
   "source": [
    "# Imports and preparation"
   ]
  },
  {
   "cell_type": "code",
   "execution_count": 1,
   "metadata": {},
   "outputs": [],
   "source": [
    "import os"
   ]
  },
  {
   "cell_type": "code",
   "execution_count": 2,
   "metadata": {},
   "outputs": [],
   "source": [
    "import numpy as np"
   ]
  },
  {
   "cell_type": "code",
   "execution_count": 3,
   "id": "37d4165c",
   "metadata": {},
   "outputs": [],
   "source": [
    "import pandas as pd"
   ]
  },
  {
   "cell_type": "code",
   "execution_count": 4,
   "metadata": {},
   "outputs": [],
   "source": [
    "from tqdm import tqdm"
   ]
  },
  {
   "cell_type": "code",
   "execution_count": 5,
   "metadata": {},
   "outputs": [],
   "source": [
    "import time, gc"
   ]
  },
  {
   "cell_type": "code",
   "execution_count": 6,
   "metadata": {},
   "outputs": [],
   "source": [
    "from itertools import product\n"
   ]
  },
  {
   "cell_type": "code",
   "execution_count": 7,
   "metadata": {},
   "outputs": [
    {
     "name": "stderr",
     "output_type": "stream",
     "text": [
      "OpenAI tiktoken module is not available for Python < 3.8,Linux ARM64 and AARCH64. Falling back to GPT2TokenizerFast.\n",
      "WARNING:haystack.nodes.answer_generator.openai:OpenAI tiktoken module is not available for Python < 3.8,Linux ARM64 and AARCH64. Falling back to GPT2TokenizerFast.\n"
     ]
    }
   ],
   "source": [
    "from util import util_elastic"
   ]
  },
  {
   "cell_type": "code",
   "execution_count": 8,
   "metadata": {},
   "outputs": [],
   "source": [
    "from util import util_search"
   ]
  },
  {
   "cell_type": "code",
   "execution_count": 9,
   "id": "f911fcf2",
   "metadata": {},
   "outputs": [],
   "source": [
    "# Para ter repetibilidade nos resultados\n",
    "random_state = 1\n",
    "\n",
    "# Tratar valores infinitos (+ e -) como np.NaN\n",
    "pd.options.mode.use_inf_as_na = True\n",
    "\n",
    "# IMPORTANTE para tornar figuras interativas\n",
    "# %matplotlib notebook\n",
    "\n",
    "# Tamanho padrão das figuras\n",
    "figsize=(10,6)\n",
    "\n",
    "pd.set_option('display.max_row', 1000)\n",
    "\n",
    "pd.set_option('display.max_columns', 50)\n",
    "\n",
    "pd.set_option('display.column_space', 40)\n",
    "pd.set_option('display.max_colwidth', 100)\n",
    "pd.set_option('display.width', 200)\n"
   ]
  },
  {
   "cell_type": "code",
   "execution_count": 10,
   "id": "6e05b9a6",
   "metadata": {},
   "outputs": [],
   "source": [
    "PATH_QUERY = '../data/juris_tcu_index/query.csv'\n",
    "PATH_QREL =  '../data/juris_tcu_index/qrel.csv'"
   ]
  },
  {
   "attachments": {},
   "cell_type": "markdown",
   "metadata": {},
   "source": [
    "# Data load"
   ]
  },
  {
   "attachments": {},
   "cell_type": "markdown",
   "metadata": {},
   "source": [
    "## Query data load"
   ]
  },
  {
   "cell_type": "code",
   "execution_count": 12,
   "id": "1cf03f22",
   "metadata": {},
   "outputs": [],
   "source": [
    "df_query = pd.read_csv(PATH_QUERY)"
   ]
  },
  {
   "cell_type": "code",
   "execution_count": 13,
   "metadata": {},
   "outputs": [
    {
     "data": {
      "text/plain": [
       "(16045, 11)"
      ]
     },
     "execution_count": 13,
     "metadata": {},
     "output_type": "execute_result"
    }
   ],
   "source": [
    "df_query.shape"
   ]
  },
  {
   "cell_type": "code",
   "execution_count": 14,
   "metadata": {},
   "outputs": [
    {
     "data": {
      "text/html": [
       "<div>\n",
       "<style scoped>\n",
       "    .dataframe tbody tr th:only-of-type {\n",
       "        vertical-align: middle;\n",
       "    }\n",
       "\n",
       "    .dataframe tbody tr th {\n",
       "        vertical-align: top;\n",
       "    }\n",
       "\n",
       "    .dataframe thead th {\n",
       "        text-align: right;\n",
       "    }\n",
       "</style>\n",
       "<table border=\"1\" class=\"dataframe\">\n",
       "  <thead>\n",
       "    <tr style=\"text-align: right;\">\n",
       "      <th></th>\n",
       "      <th>ID</th>\n",
       "      <th>TEXT</th>\n",
       "      <th>REFERENCE_LIST</th>\n",
       "      <th>PARADIGMATIC</th>\n",
       "      <th>AREA_NAME</th>\n",
       "      <th>AREA_ID_DESCRIPTOR</th>\n",
       "      <th>NORMATIVE_PROCESS_TYPE</th>\n",
       "      <th>NORMATIVE_IDENTIFICATION</th>\n",
       "      <th>NORMATIVE_DATE</th>\n",
       "      <th>NORMATIVE_AUTHOR_TYPE</th>\n",
       "      <th>NORMATIVE_AUTHOR_NAME</th>\n",
       "    </tr>\n",
       "  </thead>\n",
       "  <tbody>\n",
       "    <tr>\n",
       "      <th>5618</th>\n",
       "      <td>2845</td>\n",
       "      <td>Em regra, o pregão é a modalidade de licitação adequada para a concessão remunerada de uso de be...</td>\n",
       "      <td>NaN</td>\n",
       "      <td>NaN</td>\n",
       "      <td>Licitação</td>\n",
       "      <td>932</td>\n",
       "      <td>REPRESENTAÇÃO</td>\n",
       "      <td>Acórdão 478/2016 - Plenário</td>\n",
       "      <td>2016-03-02</td>\n",
       "      <td>RELATOR</td>\n",
       "      <td>MARCOS BEMQUERER</td>\n",
       "    </tr>\n",
       "  </tbody>\n",
       "</table>\n",
       "</div>"
      ],
      "text/plain": [
       "        ID                                                                                                 TEXT REFERENCE_LIST PARADIGMATIC  AREA_NAME  AREA_ID_DESCRIPTOR NORMATIVE_PROCESS_TYPE  \\\n",
       "5618  2845  Em regra, o pregão é a modalidade de licitação adequada para a concessão remunerada de uso de be...            NaN          NaN  Licitação                 932          REPRESENTAÇÃO   \n",
       "\n",
       "         NORMATIVE_IDENTIFICATION NORMATIVE_DATE NORMATIVE_AUTHOR_TYPE NORMATIVE_AUTHOR_NAME  \n",
       "5618  Acórdão 478/2016 - Plenário     2016-03-02               RELATOR      MARCOS BEMQUERER  "
      ]
     },
     "execution_count": 14,
     "metadata": {},
     "output_type": "execute_result"
    }
   ],
   "source": [
    "df_query[df_query['ID']==2845]"
   ]
  },
  {
   "cell_type": "code",
   "execution_count": 15,
   "id": "a75dd812",
   "metadata": {},
   "outputs": [
    {
     "data": {
      "text/html": [
       "<div>\n",
       "<style scoped>\n",
       "    .dataframe tbody tr th:only-of-type {\n",
       "        vertical-align: middle;\n",
       "    }\n",
       "\n",
       "    .dataframe tbody tr th {\n",
       "        vertical-align: top;\n",
       "    }\n",
       "\n",
       "    .dataframe thead th {\n",
       "        text-align: right;\n",
       "    }\n",
       "</style>\n",
       "<table border=\"1\" class=\"dataframe\">\n",
       "  <thead>\n",
       "    <tr style=\"text-align: right;\">\n",
       "      <th></th>\n",
       "      <th>ID</th>\n",
       "      <th>TEXT</th>\n",
       "      <th>REFERENCE_LIST</th>\n",
       "      <th>PARADIGMATIC</th>\n",
       "      <th>AREA_NAME</th>\n",
       "      <th>AREA_ID_DESCRIPTOR</th>\n",
       "      <th>NORMATIVE_PROCESS_TYPE</th>\n",
       "      <th>NORMATIVE_IDENTIFICATION</th>\n",
       "      <th>NORMATIVE_DATE</th>\n",
       "      <th>NORMATIVE_AUTHOR_TYPE</th>\n",
       "      <th>NORMATIVE_AUTHOR_NAME</th>\n",
       "    </tr>\n",
       "  </thead>\n",
       "  <tbody>\n",
       "    <tr>\n",
       "      <th>0</th>\n",
       "      <td>13568</td>\n",
       "      <td>É ilegal a contagem de tempo ficto de serviço prestado sob a égide da Lei 3.313/1957, proporcion...</td>\n",
       "      <td>Lei Complementar 51/1985 || Lei Ordinária 3313/1957</td>\n",
       "      <td>NaN</td>\n",
       "      <td>Pessoal</td>\n",
       "      <td>1131</td>\n",
       "      <td>APOSENTADORIA</td>\n",
       "      <td>Acórdão 168/2014 - Segunda Câmara</td>\n",
       "      <td>2014-01-28</td>\n",
       "      <td>RELATOR</td>\n",
       "      <td>JOSÉ JORGE</td>\n",
       "    </tr>\n",
       "    <tr>\n",
       "      <th>1</th>\n",
       "      <td>11614</td>\n",
       "      <td>SÚMULA TCU 283: Para fim de habilitação, a Administração Pública não deve exigir dos licitantes ...</td>\n",
       "      <td>NaN</td>\n",
       "      <td>SUMULA</td>\n",
       "      <td>Licitação</td>\n",
       "      <td>932</td>\n",
       "      <td>ADMINISTRATIVO</td>\n",
       "      <td>Acórdão 1613/2013 - Plenário</td>\n",
       "      <td>2013-06-26</td>\n",
       "      <td>RELATOR</td>\n",
       "      <td>JOSÉ JORGE</td>\n",
       "    </tr>\n",
       "    <tr>\n",
       "      <th>2</th>\n",
       "      <td>21087</td>\n",
       "      <td>A contratação de serviços por preços superiores às referências legais (Sinapi e Sicro) deve ser,...</td>\n",
       "      <td>NaN</td>\n",
       "      <td>NaN</td>\n",
       "      <td>Licitação</td>\n",
       "      <td>932</td>\n",
       "      <td>PRESTAÇÃO DE CONTAS</td>\n",
       "      <td>Acórdão 3936/2013 - Segunda Câmara</td>\n",
       "      <td>2013-07-09</td>\n",
       "      <td>RELATOR</td>\n",
       "      <td>ANA ARRAES</td>\n",
       "    </tr>\n",
       "    <tr>\n",
       "      <th>3</th>\n",
       "      <td>35016</td>\n",
       "      <td>Não se aplica, excepcionalmente, multa aos gestores por grave infração à norma legal se a irregu...</td>\n",
       "      <td>NaN</td>\n",
       "      <td>NaN</td>\n",
       "      <td>Responsabilidade</td>\n",
       "      <td>775</td>\n",
       "      <td>REPRESENTAÇÃO</td>\n",
       "      <td>Acórdão 3231/2011 - Plenário</td>\n",
       "      <td>2011-12-07</td>\n",
       "      <td>RELATOR</td>\n",
       "      <td>AROLDO CEDRAZ</td>\n",
       "    </tr>\n",
       "    <tr>\n",
       "      <th>4</th>\n",
       "      <td>29370</td>\n",
       "      <td>Em contratatações de TI, não cabe aceitar propostas de preço com incidência de encargos majorado...</td>\n",
       "      <td>NaN</td>\n",
       "      <td>NaN</td>\n",
       "      <td>Licitação</td>\n",
       "      <td>932</td>\n",
       "      <td>REPRESENTAÇÃO</td>\n",
       "      <td>Acórdão 3231/2011 - Plenário</td>\n",
       "      <td>2011-12-07</td>\n",
       "      <td>RELATOR</td>\n",
       "      <td>AROLDO CEDRAZ</td>\n",
       "    </tr>\n",
       "  </tbody>\n",
       "</table>\n",
       "</div>"
      ],
      "text/plain": [
       "      ID                                                                                                 TEXT                                       REFERENCE_LIST PARADIGMATIC         AREA_NAME  \\\n",
       "0  13568  É ilegal a contagem de tempo ficto de serviço prestado sob a égide da Lei 3.313/1957, proporcion...  Lei Complementar 51/1985 || Lei Ordinária 3313/1957          NaN           Pessoal   \n",
       "1  11614  SÚMULA TCU 283: Para fim de habilitação, a Administração Pública não deve exigir dos licitantes ...                                                  NaN       SUMULA         Licitação   \n",
       "2  21087  A contratação de serviços por preços superiores às referências legais (Sinapi e Sicro) deve ser,...                                                  NaN          NaN         Licitação   \n",
       "3  35016  Não se aplica, excepcionalmente, multa aos gestores por grave infração à norma legal se a irregu...                                                  NaN          NaN  Responsabilidade   \n",
       "4  29370  Em contratatações de TI, não cabe aceitar propostas de preço com incidência de encargos majorado...                                                  NaN          NaN         Licitação   \n",
       "\n",
       "   AREA_ID_DESCRIPTOR NORMATIVE_PROCESS_TYPE            NORMATIVE_IDENTIFICATION NORMATIVE_DATE NORMATIVE_AUTHOR_TYPE NORMATIVE_AUTHOR_NAME  \n",
       "0                1131          APOSENTADORIA   Acórdão 168/2014 - Segunda Câmara     2014-01-28               RELATOR            JOSÉ JORGE  \n",
       "1                 932         ADMINISTRATIVO        Acórdão 1613/2013 - Plenário     2013-06-26               RELATOR            JOSÉ JORGE  \n",
       "2                 932    PRESTAÇÃO DE CONTAS  Acórdão 3936/2013 - Segunda Câmara     2013-07-09               RELATOR            ANA ARRAES  \n",
       "3                 775          REPRESENTAÇÃO        Acórdão 3231/2011 - Plenário     2011-12-07               RELATOR         AROLDO CEDRAZ  \n",
       "4                 932          REPRESENTAÇÃO        Acórdão 3231/2011 - Plenário     2011-12-07               RELATOR         AROLDO CEDRAZ  "
      ]
     },
     "execution_count": 15,
     "metadata": {},
     "output_type": "execute_result"
    }
   ],
   "source": [
    "df_query.head()"
   ]
  },
  {
   "attachments": {},
   "cell_type": "markdown",
   "metadata": {},
   "source": [
    "## Qrel data load"
   ]
  },
  {
   "cell_type": "code",
   "execution_count": 16,
   "id": "1cf03f22",
   "metadata": {},
   "outputs": [],
   "source": [
    "df_qrel = pd.read_csv(PATH_QREL)"
   ]
  },
  {
   "cell_type": "code",
   "execution_count": 17,
   "metadata": {},
   "outputs": [
    {
     "data": {
      "text/plain": [
       "(94809, 3)"
      ]
     },
     "execution_count": 17,
     "metadata": {},
     "output_type": "execute_result"
    }
   ],
   "source": [
    "df_qrel.shape"
   ]
  },
  {
   "cell_type": "code",
   "execution_count": 18,
   "id": "a75dd812",
   "metadata": {},
   "outputs": [
    {
     "data": {
      "text/html": [
       "<div>\n",
       "<style scoped>\n",
       "    .dataframe tbody tr th:only-of-type {\n",
       "        vertical-align: middle;\n",
       "    }\n",
       "\n",
       "    .dataframe tbody tr th {\n",
       "        vertical-align: top;\n",
       "    }\n",
       "\n",
       "    .dataframe thead th {\n",
       "        text-align: right;\n",
       "    }\n",
       "</style>\n",
       "<table border=\"1\" class=\"dataframe\">\n",
       "  <thead>\n",
       "    <tr style=\"text-align: right;\">\n",
       "      <th></th>\n",
       "      <th>ID_QUERY</th>\n",
       "      <th>ID_DOCTO</th>\n",
       "      <th>TYPE</th>\n",
       "    </tr>\n",
       "  </thead>\n",
       "  <tbody>\n",
       "    <tr>\n",
       "      <th>0</th>\n",
       "      <td>158</td>\n",
       "      <td>15147</td>\n",
       "      <td>INDEXACAO_EXTRA</td>\n",
       "    </tr>\n",
       "    <tr>\n",
       "      <th>1</th>\n",
       "      <td>37</td>\n",
       "      <td>15147</td>\n",
       "      <td>INDEXACAO_EXTRA</td>\n",
       "    </tr>\n",
       "    <tr>\n",
       "      <th>2</th>\n",
       "      <td>178</td>\n",
       "      <td>15147</td>\n",
       "      <td>INDEXACAO_EXTRA</td>\n",
       "    </tr>\n",
       "    <tr>\n",
       "      <th>3</th>\n",
       "      <td>14564</td>\n",
       "      <td>15147</td>\n",
       "      <td>INDEXACAO_EXTRA</td>\n",
       "    </tr>\n",
       "    <tr>\n",
       "      <th>4</th>\n",
       "      <td>9219</td>\n",
       "      <td>15147</td>\n",
       "      <td>INDEXACAO_EXTRA</td>\n",
       "    </tr>\n",
       "  </tbody>\n",
       "</table>\n",
       "</div>"
      ],
      "text/plain": [
       "   ID_QUERY  ID_DOCTO             TYPE\n",
       "0       158     15147  INDEXACAO_EXTRA\n",
       "1        37     15147  INDEXACAO_EXTRA\n",
       "2       178     15147  INDEXACAO_EXTRA\n",
       "3     14564     15147  INDEXACAO_EXTRA\n",
       "4      9219     15147  INDEXACAO_EXTRA"
      ]
     },
     "execution_count": 18,
     "metadata": {},
     "output_type": "execute_result"
    }
   ],
   "source": [
    "df_qrel.head()"
   ]
  },
  {
   "cell_type": "code",
   "execution_count": 19,
   "metadata": {},
   "outputs": [
    {
     "data": {
      "text/plain": [
       "94809"
      ]
     },
     "execution_count": 19,
     "metadata": {},
     "output_type": "execute_result"
    }
   ],
   "source": [
    "df_qrel.shape[0]"
   ]
  },
  {
   "cell_type": "code",
   "execution_count": 20,
   "metadata": {},
   "outputs": [],
   "source": [
    "df_search_data = df_query.merge(df_qrel, how='left', left_on='ID', right_on='ID_QUERY').drop('ID_QUERY', axis=1)"
   ]
  },
  {
   "cell_type": "code",
   "execution_count": 21,
   "metadata": {},
   "outputs": [
    {
     "data": {
      "text/plain": [
       "94809"
      ]
     },
     "execution_count": 21,
     "metadata": {},
     "output_type": "execute_result"
    }
   ],
   "source": [
    "df_search_data.shape[0]\n"
   ]
  },
  {
   "cell_type": "code",
   "execution_count": 22,
   "metadata": {},
   "outputs": [],
   "source": [
    "# Agrupar os dados pelo ID e criar a coluna 'RELEVANCE_LIST' com a lista de tuplas\n",
    "# df_new = df_search_data.groupby('ID').apply(lambda x: list(zip(x['ID_DOCTO'], x['TYPE']))).reset_index(name='RELEVANCE_LIST')\n",
    "# df_new['RELEVANCE_LIST'] = df_new['RELEVANCE_LIST'].apply(lambda x: sorted(x, key=lambda tup: ('AREA', 'TEMA', 'SUBTEMA', 'INDEXACAO_EXTRA').index(tup[1])))\n",
    "df_new = df_search_data.groupby('ID').apply(lambda x: dict(zip(x['ID_DOCTO'], x['TYPE']))).reset_index(name='RELEVANCE_DICT')\n"
   ]
  },
  {
   "cell_type": "code",
   "execution_count": 23,
   "metadata": {},
   "outputs": [
    {
     "data": {
      "text/html": [
       "<div>\n",
       "<style scoped>\n",
       "    .dataframe tbody tr th:only-of-type {\n",
       "        vertical-align: middle;\n",
       "    }\n",
       "\n",
       "    .dataframe tbody tr th {\n",
       "        vertical-align: top;\n",
       "    }\n",
       "\n",
       "    .dataframe thead th {\n",
       "        text-align: right;\n",
       "    }\n",
       "</style>\n",
       "<table border=\"1\" class=\"dataframe\">\n",
       "  <thead>\n",
       "    <tr style=\"text-align: right;\">\n",
       "      <th></th>\n",
       "      <th>ID</th>\n",
       "      <th>RELEVANCE_DICT</th>\n",
       "    </tr>\n",
       "  </thead>\n",
       "  <tbody>\n",
       "    <tr>\n",
       "      <th>0</th>\n",
       "      <td>5</td>\n",
       "      <td>{1298: 'INDEXACAO_EXTRA', 15340: 'INDEXACAO_EXTRA', 15961: 'INDEXACAO_EXTRA', 1131: 'AREA', 5106...</td>\n",
       "    </tr>\n",
       "    <tr>\n",
       "      <th>1</th>\n",
       "      <td>6</td>\n",
       "      <td>{207: 'INDEXACAO_EXTRA', 15961: 'INDEXACAO_EXTRA', 1131: 'AREA', 5106: 'SUBTEMA', 1113: 'TEMA'}</td>\n",
       "    </tr>\n",
       "    <tr>\n",
       "      <th>2</th>\n",
       "      <td>7</td>\n",
       "      <td>{108: 'INDEXACAO_EXTRA', 1526: 'TEMA', 1727: 'SUBTEMA', 223: 'INDEXACAO_EXTRA', 650: 'INDEXACAO_...</td>\n",
       "    </tr>\n",
       "    <tr>\n",
       "      <th>3</th>\n",
       "      <td>8</td>\n",
       "      <td>{887: 'SUBTEMA', 92: 'TEMA', 1131: 'AREA', 1100820: 'INDEXACAO_EXTRA'}</td>\n",
       "    </tr>\n",
       "    <tr>\n",
       "      <th>4</th>\n",
       "      <td>9</td>\n",
       "      <td>{1215: 'INDEXACAO_EXTRA', 14715: 'SUBTEMA', 46: 'TEMA', 1480: 'INDEXACAO_EXTRA', 5095: 'AREA'}</td>\n",
       "    </tr>\n",
       "  </tbody>\n",
       "</table>\n",
       "</div>"
      ],
      "text/plain": [
       "   ID                                                                                       RELEVANCE_DICT\n",
       "0   5  {1298: 'INDEXACAO_EXTRA', 15340: 'INDEXACAO_EXTRA', 15961: 'INDEXACAO_EXTRA', 1131: 'AREA', 5106...\n",
       "1   6      {207: 'INDEXACAO_EXTRA', 15961: 'INDEXACAO_EXTRA', 1131: 'AREA', 5106: 'SUBTEMA', 1113: 'TEMA'}\n",
       "2   7  {108: 'INDEXACAO_EXTRA', 1526: 'TEMA', 1727: 'SUBTEMA', 223: 'INDEXACAO_EXTRA', 650: 'INDEXACAO_...\n",
       "3   8                               {887: 'SUBTEMA', 92: 'TEMA', 1131: 'AREA', 1100820: 'INDEXACAO_EXTRA'}\n",
       "4   9       {1215: 'INDEXACAO_EXTRA', 14715: 'SUBTEMA', 46: 'TEMA', 1480: 'INDEXACAO_EXTRA', 5095: 'AREA'}"
      ]
     },
     "execution_count": 23,
     "metadata": {},
     "output_type": "execute_result"
    }
   ],
   "source": [
    "df_new.head()"
   ]
  },
  {
   "cell_type": "code",
   "execution_count": 24,
   "metadata": {},
   "outputs": [],
   "source": [
    "# Unir o resultado com as demais colunas únicas\n",
    "df_new = pd.merge(df_new, df_search_data.drop_duplicates('ID'), on='ID', how='left')"
   ]
  },
  {
   "cell_type": "code",
   "execution_count": 25,
   "metadata": {},
   "outputs": [],
   "source": [
    "\n",
    "# Selecionar as colunas desejadas\n",
    "df_search_data = df_new[['ID', 'TEXT', 'REFERENCE_LIST', 'PARADIGMATIC', 'AREA_NAME', 'AREA_ID_DESCRIPTOR', 'NORMATIVE_PROCESS_TYPE', 'NORMATIVE_IDENTIFICATION', 'NORMATIVE_DATE', 'NORMATIVE_AUTHOR_TYPE', 'NORMATIVE_AUTHOR_NAME', 'RELEVANCE_DICT']]\n"
   ]
  },
  {
   "cell_type": "code",
   "execution_count": 26,
   "metadata": {},
   "outputs": [
    {
     "data": {
      "text/plain": [
       "(16045, 12)"
      ]
     },
     "execution_count": 26,
     "metadata": {},
     "output_type": "execute_result"
    }
   ],
   "source": [
    "df_search_data.shape"
   ]
  },
  {
   "cell_type": "code",
   "execution_count": 27,
   "id": "60e55155",
   "metadata": {},
   "outputs": [],
   "source": [
    "df_search_data = df_search_data.reset_index()"
   ]
  },
  {
   "cell_type": "code",
   "execution_count": 28,
   "metadata": {},
   "outputs": [
    {
     "data": {
      "text/html": [
       "<div>\n",
       "<style scoped>\n",
       "    .dataframe tbody tr th:only-of-type {\n",
       "        vertical-align: middle;\n",
       "    }\n",
       "\n",
       "    .dataframe tbody tr th {\n",
       "        vertical-align: top;\n",
       "    }\n",
       "\n",
       "    .dataframe thead th {\n",
       "        text-align: right;\n",
       "    }\n",
       "</style>\n",
       "<table border=\"1\" class=\"dataframe\">\n",
       "  <thead>\n",
       "    <tr style=\"text-align: right;\">\n",
       "      <th></th>\n",
       "      <th>index</th>\n",
       "      <th>ID</th>\n",
       "      <th>TEXT</th>\n",
       "      <th>REFERENCE_LIST</th>\n",
       "      <th>PARADIGMATIC</th>\n",
       "      <th>AREA_NAME</th>\n",
       "      <th>AREA_ID_DESCRIPTOR</th>\n",
       "      <th>NORMATIVE_PROCESS_TYPE</th>\n",
       "      <th>NORMATIVE_IDENTIFICATION</th>\n",
       "      <th>NORMATIVE_DATE</th>\n",
       "      <th>NORMATIVE_AUTHOR_TYPE</th>\n",
       "      <th>NORMATIVE_AUTHOR_NAME</th>\n",
       "      <th>RELEVANCE_DICT</th>\n",
       "    </tr>\n",
       "  </thead>\n",
       "  <tbody>\n",
       "    <tr>\n",
       "      <th>0</th>\n",
       "      <td>0</td>\n",
       "      <td>5</td>\n",
       "      <td>SÚMULA TCU 1: Não se compreendem como vencimento, para efeito de concessão da pensão especial co...</td>\n",
       "      <td>Lei Ordinária 3738/1960 || Lei Ordinária 1711/1952, art. 184</td>\n",
       "      <td>SUMULA</td>\n",
       "      <td>Pessoal</td>\n",
       "      <td>1131</td>\n",
       "      <td>NaN</td>\n",
       "      <td>Ata 88/1973 - Plenário</td>\n",
       "      <td>1973-12-04</td>\n",
       "      <td>RELATOR</td>\n",
       "      <td>OCTÁVIO GALLOTTI</td>\n",
       "      <td>{1298: 'INDEXACAO_EXTRA', 15340: 'INDEXACAO_EXTRA', 15961: 'INDEXACAO_EXTRA', 1131: 'AREA', 5106...</td>\n",
       "    </tr>\n",
       "    <tr>\n",
       "      <th>1</th>\n",
       "      <td>1</td>\n",
       "      <td>6</td>\n",
       "      <td>SÚMULA TCU 2: Configura-se como vencimento, para efeito da concessão da pensão especial com fund...</td>\n",
       "      <td>Lei Ordinária 3738/1960</td>\n",
       "      <td>SUMULA</td>\n",
       "      <td>Pessoal</td>\n",
       "      <td>1131</td>\n",
       "      <td>NaN</td>\n",
       "      <td>Ata 88/1973 - Plenário</td>\n",
       "      <td>1973-12-04</td>\n",
       "      <td>RELATOR</td>\n",
       "      <td>OCTÁVIO GALLOTTI</td>\n",
       "      <td>{207: 'INDEXACAO_EXTRA', 15961: 'INDEXACAO_EXTRA', 1131: 'AREA', 5106: 'SUBTEMA', 1113: 'TEMA'}</td>\n",
       "    </tr>\n",
       "    <tr>\n",
       "      <th>2</th>\n",
       "      <td>2</td>\n",
       "      <td>7</td>\n",
       "      <td>SÚMULA TCU 3: O arquivamento é a solução indicada para as hipóteses em que as contas de responsá...</td>\n",
       "      <td>NaN</td>\n",
       "      <td>SUMULA</td>\n",
       "      <td>Direito processual</td>\n",
       "      <td>5288</td>\n",
       "      <td>NaN</td>\n",
       "      <td>Ata 88/1973 - Plenário</td>\n",
       "      <td>1973-12-04</td>\n",
       "      <td>RELATOR</td>\n",
       "      <td>OCTÁVIO GALLOTTI</td>\n",
       "      <td>{108: 'INDEXACAO_EXTRA', 1526: 'TEMA', 1727: 'SUBTEMA', 223: 'INDEXACAO_EXTRA', 650: 'INDEXACAO_...</td>\n",
       "    </tr>\n",
       "    <tr>\n",
       "      <th>3</th>\n",
       "      <td>3</td>\n",
       "      <td>8</td>\n",
       "      <td>SÚMULA TCU 4: A reclassificação de cargos não aproveita ao servidor aposentado, a menos que lei ...</td>\n",
       "      <td>NaN</td>\n",
       "      <td>SUMULA</td>\n",
       "      <td>Pessoal</td>\n",
       "      <td>1131</td>\n",
       "      <td>NaN</td>\n",
       "      <td>Ata 88/1973 - Plenário</td>\n",
       "      <td>1973-12-04</td>\n",
       "      <td>RELATOR</td>\n",
       "      <td>OCTÁVIO GALLOTTI</td>\n",
       "      <td>{887: 'SUBTEMA', 92: 'TEMA', 1131: 'AREA', 1100820: 'INDEXACAO_EXTRA'}</td>\n",
       "    </tr>\n",
       "    <tr>\n",
       "      <th>4</th>\n",
       "      <td>4</td>\n",
       "      <td>9</td>\n",
       "      <td>SÚMULA TCU 5 (REVOGADA): As sociedades de economia mista, salvo disposição expressa em lei, não ...</td>\n",
       "      <td>NaN</td>\n",
       "      <td>SUMULA</td>\n",
       "      <td>Competência do TCU</td>\n",
       "      <td>5095</td>\n",
       "      <td>NaN</td>\n",
       "      <td>AC 2082/2007-PL</td>\n",
       "      <td>2007-10-03</td>\n",
       "      <td>RELATOR</td>\n",
       "      <td>UBIRATAN AGUIAR</td>\n",
       "      <td>{1215: 'INDEXACAO_EXTRA', 14715: 'SUBTEMA', 46: 'TEMA', 1480: 'INDEXACAO_EXTRA', 5095: 'AREA'}</td>\n",
       "    </tr>\n",
       "  </tbody>\n",
       "</table>\n",
       "</div>"
      ],
      "text/plain": [
       "   index  ID                                                                                                 TEXT                                                REFERENCE_LIST PARADIGMATIC  \\\n",
       "0      0   5  SÚMULA TCU 1: Não se compreendem como vencimento, para efeito de concessão da pensão especial co...  Lei Ordinária 3738/1960 || Lei Ordinária 1711/1952, art. 184       SUMULA   \n",
       "1      1   6  SÚMULA TCU 2: Configura-se como vencimento, para efeito da concessão da pensão especial com fund...                                       Lei Ordinária 3738/1960       SUMULA   \n",
       "2      2   7  SÚMULA TCU 3: O arquivamento é a solução indicada para as hipóteses em que as contas de responsá...                                                           NaN       SUMULA   \n",
       "3      3   8  SÚMULA TCU 4: A reclassificação de cargos não aproveita ao servidor aposentado, a menos que lei ...                                                           NaN       SUMULA   \n",
       "4      4   9  SÚMULA TCU 5 (REVOGADA): As sociedades de economia mista, salvo disposição expressa em lei, não ...                                                           NaN       SUMULA   \n",
       "\n",
       "            AREA_NAME  AREA_ID_DESCRIPTOR NORMATIVE_PROCESS_TYPE NORMATIVE_IDENTIFICATION NORMATIVE_DATE NORMATIVE_AUTHOR_TYPE NORMATIVE_AUTHOR_NAME  \\\n",
       "0             Pessoal                1131                    NaN   Ata 88/1973 - Plenário     1973-12-04               RELATOR      OCTÁVIO GALLOTTI   \n",
       "1             Pessoal                1131                    NaN   Ata 88/1973 - Plenário     1973-12-04               RELATOR      OCTÁVIO GALLOTTI   \n",
       "2  Direito processual                5288                    NaN   Ata 88/1973 - Plenário     1973-12-04               RELATOR      OCTÁVIO GALLOTTI   \n",
       "3             Pessoal                1131                    NaN   Ata 88/1973 - Plenário     1973-12-04               RELATOR      OCTÁVIO GALLOTTI   \n",
       "4  Competência do TCU                5095                    NaN          AC 2082/2007-PL     2007-10-03               RELATOR       UBIRATAN AGUIAR   \n",
       "\n",
       "                                                                                        RELEVANCE_DICT  \n",
       "0  {1298: 'INDEXACAO_EXTRA', 15340: 'INDEXACAO_EXTRA', 15961: 'INDEXACAO_EXTRA', 1131: 'AREA', 5106...  \n",
       "1      {207: 'INDEXACAO_EXTRA', 15961: 'INDEXACAO_EXTRA', 1131: 'AREA', 5106: 'SUBTEMA', 1113: 'TEMA'}  \n",
       "2  {108: 'INDEXACAO_EXTRA', 1526: 'TEMA', 1727: 'SUBTEMA', 223: 'INDEXACAO_EXTRA', 650: 'INDEXACAO_...  \n",
       "3                               {887: 'SUBTEMA', 92: 'TEMA', 1131: 'AREA', 1100820: 'INDEXACAO_EXTRA'}  \n",
       "4       {1215: 'INDEXACAO_EXTRA', 14715: 'SUBTEMA', 46: 'TEMA', 1480: 'INDEXACAO_EXTRA', 5095: 'AREA'}  "
      ]
     },
     "execution_count": 28,
     "metadata": {},
     "output_type": "execute_result"
    }
   ],
   "source": [
    "df_search_data.head()"
   ]
  },
  {
   "cell_type": "code",
   "execution_count": 29,
   "metadata": {},
   "outputs": [],
   "source": [
    "del df_new"
   ]
  },
  {
   "attachments": {},
   "cell_type": "markdown",
   "metadata": {},
   "source": [
    "# Create reference to index (elastic search)"
   ]
  },
  {
   "attachments": {},
   "cell_type": "markdown",
   "metadata": {},
   "source": [
    "Documentation https://docs.haystack.deepset.ai/docs\n",
    "https://haystack.deepset.ai/tutorials/09_dpr_training \n"
   ]
  },
  {
   "cell_type": "code",
   "execution_count": 30,
   "metadata": {},
   "outputs": [
    {
     "name": "stdout",
     "output_type": "stream",
     "text": [
      "Index: indir_juris_tcu_index\n",
      "{'health': 'yellow', 'status': 'open', 'index': 'indir_juris_tcu_index', 'uuid': 'Pl89T40dSwORJnIuYF1t9A', 'pri': '1', 'rep': '1', 'docs.count': '13255', 'docs.deleted': '13255', 'store.size': '289.1mb', 'pri.store.size': '289.1mb'}\n",
      "\n"
     ]
    }
   ],
   "source": [
    "index_dict = util_elastic.return_indexes('indir', parm_print=True)"
   ]
  },
  {
   "cell_type": "code",
   "execution_count": 31,
   "metadata": {},
   "outputs": [
    {
     "data": {
      "text/plain": [
       "{'indir_juris_tcu_index': {'health': 'yellow',\n",
       "  'status': 'open',\n",
       "  'index': 'indir_juris_tcu_index',\n",
       "  'uuid': 'Pl89T40dSwORJnIuYF1t9A',\n",
       "  'pri': '1',\n",
       "  'rep': '1',\n",
       "  'docs.count': '13255',\n",
       "  'docs.deleted': '13255',\n",
       "  'store.size': '289.1mb',\n",
       "  'pri.store.size': '289.1mb'}}"
      ]
     },
     "execution_count": 31,
     "metadata": {},
     "output_type": "execute_result"
    }
   ],
   "source": [
    "index_dict"
   ]
  },
  {
   "cell_type": "code",
   "execution_count": 32,
   "metadata": {},
   "outputs": [],
   "source": [
    "INDEX_NAME = 'indir_juris_tcu_index'"
   ]
  },
  {
   "cell_type": "code",
   "execution_count": 33,
   "metadata": {},
   "outputs": [
    {
     "name": "stdout",
     "output_type": "stream",
     "text": [
      "\n",
      "Qtd de documentos 13255\n",
      "\n",
      "Qtd de embeddings 13255\n",
      "\n",
      "Documento.id=1: <Document: id=1, content='O termo é \"Abandono de cargo\".\n",
      "Abandono de cargo tem definição: \"Configura abandono de cargo a ausên...'>\n"
     ]
    }
   ],
   "source": [
    "index = util_elastic.return_index(parm_index_name=INDEX_NAME)"
   ]
  },
  {
   "attachments": {},
   "cell_type": "markdown",
   "metadata": {},
   "source": [
    "# Pipelines creation"
   ]
  },
  {
   "cell_type": "code",
   "execution_count": 83,
   "metadata": {},
   "outputs": [],
   "source": [
    "pipes = []"
   ]
  },
  {
   "cell_type": "code",
   "execution_count": 35,
   "metadata": {},
   "outputs": [],
   "source": [
    "# Test query\n",
    "# parm_query = \"trata-se de uma denúncia contra o prefeito de Manhuaçu por não haver pago os funcionários da área de limpeza urbana\"\n",
    "parm_query = \"A transferência de documentos da entidade para local impróprio ao armazenamento, causando a perda de informações ou inviabilizando seu manuseio, de forma a impedir a atuação do TCU, é causa de responsabilização do gestor que a ordenou.\""
   ]
  },
  {
   "cell_type": "code",
   "execution_count": 36,
   "metadata": {},
   "outputs": [],
   "source": [
    "nome_modelo_monot5_3b = 'unicamp-dl/mt5-3B-mmarco-en-pt'\n",
    "# \"A mono-ptT5 reranker model (850 mb) pretrained in the BrWac corpus, finetuned for 100k steps on Portuguese translated version of MS MARCO passage dataset. The portuguese dataset was translated using Google Translate.\")\n",
    "nome_caminho_modelo_monot5_3b = \"/home/borela/fontes/relevar-busca/modelo/\" + nome_modelo_monot5_3b\n",
    "assert os.path.exists(nome_caminho_modelo_monot5_3b), f\"Path para {nome_caminho_modelo_monot5_3b} não existe!\""
   ]
  },
  {
   "cell_type": "code",
   "execution_count": 37,
   "metadata": {},
   "outputs": [],
   "source": [
    "nome_modelo_ranking_minilm = 'unicamp-dl/mMiniLM-L6-v2-pt-v2'\n",
    "nome_caminho_modelo_minilm = \"/home/borela/fontes/relevar-busca/modelo/\" + nome_modelo_ranking_minilm\n",
    "assert os.path.exists(nome_caminho_modelo_minilm), f\"Path para {nome_caminho_modelo_minilm} não existe!\""
   ]
  },
  {
   "cell_type": "code",
   "execution_count": 38,
   "metadata": {},
   "outputs": [],
   "source": [
    "nome_modelo_embedding_model_sts = \"rufimelo/Legal-BERTimbau-sts-large-ma-v3\"\n",
    "nome_caminho_modelo_sts = \"/home/borela/fontes/relevar-busca/modelo/\" + nome_modelo_embedding_model_sts\n",
    "assert os.path.exists(nome_caminho_modelo_sts), f\"Path para {nome_caminho_modelo_sts} não existe!\"\n"
   ]
  },
  {
   "cell_type": "code",
   "execution_count": 39,
   "metadata": {},
   "outputs": [
    {
     "ename": "Exception",
     "evalue": "Stop execution - create only desired pipelines in code below ",
     "output_type": "error",
     "traceback": [
      "\u001b[0;31m---------------------------------------------------------------------------\u001b[0m",
      "\u001b[0;31mException\u001b[0m                                 Traceback (most recent call last)",
      "\u001b[0;32m/tmp/ipykernel_642575/2302163279.py\u001b[0m in \u001b[0;36m<module>\u001b[0;34m\u001b[0m\n\u001b[0;32m----> 1\u001b[0;31m \u001b[0;32mraise\u001b[0m \u001b[0mException\u001b[0m \u001b[0;34m(\u001b[0m\u001b[0;34m'Stop execution - create only desired pipelines in code below '\u001b[0m\u001b[0;34m)\u001b[0m\u001b[0;34m\u001b[0m\u001b[0;34m\u001b[0m\u001b[0m\n\u001b[0m",
      "\u001b[0;31mException\u001b[0m: Stop execution - create only desired pipelines in code below "
     ]
    }
   ],
   "source": [
    "raise Exception ('Stop execution - create only desired pipelines in code below ')"
   ]
  },
  {
   "attachments": {},
   "cell_type": "markdown",
   "metadata": {},
   "source": [
    "## sts_multihop"
   ]
  },
  {
   "cell_type": "code",
   "execution_count": 40,
   "metadata": {},
   "outputs": [
    {
     "data": {
      "text/plain": [
       "<module 'util.util_search' from '/home/borela/fontes/ind-ir/code/util/util_search.py'>"
      ]
     },
     "execution_count": 40,
     "metadata": {},
     "output_type": "execute_result"
    }
   ],
   "source": [
    "import importlib\n",
    "importlib.reload(util_search)"
   ]
  },
  {
   "cell_type": "code",
   "execution_count": 41,
   "metadata": {},
   "outputs": [
    {
     "name": "stdout",
     "output_type": "stream",
     "text": [
      "CPU times: user 39.1 s, sys: 7.85 s, total: 47 s\n",
      "Wall time: 36.8 s\n"
     ]
    }
   ],
   "source": [
    "%%time\n",
    "pipe_sts_multihop_ranker_monot5_3b = util_search.return_pipeline_sts_multihop_reranker(index, 'MONOT5', \n",
    "parm_path_model_ranker=nome_caminho_modelo_monot5_3b, parm_path_model_sts=nome_caminho_modelo_sts, parm_limit_query_size=350)"
   ]
  },
  {
   "cell_type": "code",
   "execution_count": 84,
   "metadata": {},
   "outputs": [],
   "source": [
    "pipes.append({'PIPE_NAME': 'pipe_sts_multihop_ranker_monot5_3b',\n",
    "              'PIPE_OBJECT': pipe_sts_multihop_ranker_monot5_3b,\n",
    "              'RETRIEVER_TYPE': 'sts_multihop',  # in ['sts', 'bm25']\n",
    "              'RETRIEVER_MODEL_NAME': nome_modelo_embedding_model_sts, # or nome_modelo_embedding_model_sts_rufimelo,\n",
    "              'RANKER_MODEL_NAME': nome_modelo_monot5_3b})"
   ]
  },
  {
   "cell_type": "code",
   "execution_count": 77,
   "metadata": {},
   "outputs": [
    {
     "name": "stdout",
     "output_type": "stream",
     "text": [
      "Parâmetros usados: {'Retriever': {'filters': {'class': ['Termo']}}}\n",
      "Consulta: A transferência de documentos da entidade para local impróprio ao armazenamento, causando a perda de informações ou inviabilizando seu manuseio, de forma a impedir a atuação do TCU, é causa de responsabilização do gestor que a ordenou.\n",
      "Qtd documentos retornados: 10\n",
      "Primeiro docto:\n",
      "<Document: id=5098, content='O termo é \"Responsabilidade perante o controle externo\".\n",
      "Responsabilidade perante o controle externo...'>\n",
      "\n",
      "Último (10):\n",
      "<Document: id=5450, content='O termo é \"Dispensa sem justa causa\".\n",
      "Dispensa sem justa causa tem definição: \"Art. 477.  Na extinçã...'>\n",
      "Seguem os nomes dos termos recuperados em ordem de score\n",
      "0 : ['Responsabilidade perante o controle externo', -0.29318735003471375]\n",
      "1 : ['Afastamento de responsável', -0.8160551190376282]\n",
      "2 : ['Descarte de documentos', -1.4474653005599976]\n",
      "3 : ['Excludente de responsabilidade', -2.6080782413482666]\n",
      "4 : ['Perda de objeto', -2.8628034591674805]\n",
      "5 : ['Afastamento preventivo', -5.166513919830322]\n",
      "6 : ['Abandono de cargo', -5.237979888916016]\n",
      "7 : ['Rescisão unilateral', -5.300616264343262]\n",
      "8 : ['Destituição de função', -5.859151363372803]\n",
      "9 : ['Dispensa sem justa causa', -6.185722351074219]\n",
      "CPU times: user 383 ms, sys: 188 ms, total: 571 ms\n",
      "Wall time: 1.46 s\n"
     ]
    }
   ],
   "source": [
    "%%time\n",
    "doctos_retornados_ranker = pipe_sts_multihop_ranker_monot5_3b.run(query=parm_query, params= {'Retriever': {'filters':{'class':['Termo']}}}) \n",
    "util_search.detail_document_found(doctos_retornados_ranker)"
   ]
  },
  {
   "attachments": {},
   "cell_type": "markdown",
   "metadata": {},
   "source": [
    "## Join"
   ]
  },
  {
   "cell_type": "code",
   "execution_count": null,
   "metadata": {},
   "outputs": [
    {
     "data": {
      "text/plain": [
       "<module 'util.util_search' from '/home/borela/fontes/ind-ir/code/util/util_search.py'>"
      ]
     },
     "execution_count": 41,
     "metadata": {},
     "output_type": "execute_result"
    }
   ],
   "source": [
    "import importlib\n",
    "importlib.reload(util_search)"
   ]
  },
  {
   "cell_type": "code",
   "execution_count": null,
   "metadata": {},
   "outputs": [
    {
     "name": "stdout",
     "output_type": "stream",
     "text": [
      "CPU times: user 38.6 s, sys: 7.72 s, total: 46.4 s\n",
      "Wall time: 36 s\n"
     ]
    }
   ],
   "source": [
    "%%time\n",
    "pipe_join_ranker_monot5_3b = util_search.return_pipeline_join_reranker(index, 'MONOT5', \n",
    "parm_path_model_ranker=nome_caminho_modelo_monot5_3b, parm_path_model_sts=nome_caminho_modelo_sts, parm_limit_query_size=350)"
   ]
  },
  {
   "attachments": {},
   "cell_type": "markdown",
   "metadata": {},
   "source": [
    "imprimir o pipe"
   ]
  },
  {
   "cell_type": "code",
   "execution_count": null,
   "metadata": {},
   "outputs": [],
   "source": [
    "from pathlib import Path"
   ]
  },
  {
   "cell_type": "code",
   "execution_count": null,
   "metadata": {},
   "outputs": [],
   "source": [
    "pipe_join_ranker_monot5_3b.draw(Path(\"pipe_join_ranker_monot5_3b.png\"))\t "
   ]
  },
  {
   "cell_type": "code",
   "execution_count": null,
   "metadata": {},
   "outputs": [],
   "source": [
    "pipe_join_ranker_monot5_3b.save_to_yaml(Path(\"pipe_join_ranker_monot5_3b.yahml\"), return_defaults = True)\n"
   ]
  },
  {
   "cell_type": "code",
   "execution_count": null,
   "metadata": {},
   "outputs": [],
   "source": [
    "pipe_join_ranker_monot5_3b.get_config(return_defaults=True)\n"
   ]
  },
  {
   "cell_type": "code",
   "execution_count": null,
   "metadata": {},
   "outputs": [],
   "source": [
    "pipes.append({'PIPE_NAME': 'pipe_join_ranker_monot5_3b',\n",
    "              'PIPE_OBJECT': pipe_join_ranker_monot5_3b,\n",
    "              'RETRIEVER_TYPE': 'join',  # in ['sts', 'bm25']\n",
    "              'RETRIEVER_MODEL_NAME': nome_modelo_embedding_model_sts, # or nome_modelo_embedding_model_sts_rufimelo,\n",
    "              'RANKER_MODEL_NAME': nome_modelo_monot5_3b})"
   ]
  },
  {
   "cell_type": "code",
   "execution_count": null,
   "metadata": {},
   "outputs": [
    {
     "ename": "ValueError",
     "evalue": "No node(s) or global parameter(s) named Retriever found in pipeline.",
     "output_type": "error",
     "traceback": [
      "\u001b[0;31m---------------------------------------------------------------------------\u001b[0m",
      "\u001b[0;31mValueError\u001b[0m                                Traceback (most recent call last)",
      "\u001b[0;32m<timed exec>\u001b[0m in \u001b[0;36m<module>\u001b[0;34m\u001b[0m\n",
      "\u001b[0;32m~/miniconda3/envs/relevar-busca/lib/python3.7/site-packages/haystack/pipelines/base.py\u001b[0m in \u001b[0;36mrun\u001b[0;34m(self, query, file_paths, labels, documents, meta, params, debug)\u001b[0m\n\u001b[1;32m    484\u001b[0m         \"\"\"\n\u001b[1;32m    485\u001b[0m         \u001b[0;31m# validate the node names\u001b[0m\u001b[0;34m\u001b[0m\u001b[0;34m\u001b[0m\u001b[0;34m\u001b[0m\u001b[0m\n\u001b[0;32m--> 486\u001b[0;31m         \u001b[0mself\u001b[0m\u001b[0;34m.\u001b[0m\u001b[0m_validate_node_names_in_params\u001b[0m\u001b[0;34m(\u001b[0m\u001b[0mparams\u001b[0m\u001b[0;34m=\u001b[0m\u001b[0mparams\u001b[0m\u001b[0;34m)\u001b[0m\u001b[0;34m\u001b[0m\u001b[0;34m\u001b[0m\u001b[0m\n\u001b[0m\u001b[1;32m    487\u001b[0m \u001b[0;34m\u001b[0m\u001b[0m\n\u001b[1;32m    488\u001b[0m         \u001b[0mroot_node\u001b[0m \u001b[0;34m=\u001b[0m \u001b[0mself\u001b[0m\u001b[0;34m.\u001b[0m\u001b[0mroot_node\u001b[0m\u001b[0;34m\u001b[0m\u001b[0;34m\u001b[0m\u001b[0m\n",
      "\u001b[0;32m~/miniconda3/envs/relevar-busca/lib/python3.7/site-packages/haystack/pipelines/base.py\u001b[0m in \u001b[0;36m_validate_node_names_in_params\u001b[0;34m(self, params)\u001b[0m\n\u001b[1;32m   2169\u001b[0m                 \u001b[0;32mif\u001b[0m \u001b[0minvalid_keys\u001b[0m\u001b[0;34m:\u001b[0m\u001b[0;34m\u001b[0m\u001b[0;34m\u001b[0m\u001b[0m\n\u001b[1;32m   2170\u001b[0m                     raise ValueError(\n\u001b[0;32m-> 2171\u001b[0;31m                         \u001b[0;34mf\"No node(s) or global parameter(s) named {', '.join(invalid_keys)} found in pipeline.\"\u001b[0m\u001b[0;34m\u001b[0m\u001b[0;34m\u001b[0m\u001b[0m\n\u001b[0m\u001b[1;32m   2172\u001b[0m                     )\n\u001b[1;32m   2173\u001b[0m \u001b[0;34m\u001b[0m\u001b[0m\n",
      "\u001b[0;31mValueError\u001b[0m: No node(s) or global parameter(s) named Retriever found in pipeline."
     ]
    }
   ],
   "source": [
    "%%time\n",
    "doctos_retornados_ranker = pipe_join_ranker_monot5_3b.run(query=parm_query, \n",
    " params={\"Bm25Retriever\": {\"top_k\": 300}, \"StsRetriever\": {\"top_k\": 100}, \"Ranker\": {\"top_k\": 10}})\n",
    "util_search.detail_document_found(doctos_retornados_ranker)"
   ]
  },
  {
   "attachments": {},
   "cell_type": "markdown",
   "metadata": {},
   "source": [
    "join"
   ]
  },
  {
   "cell_type": "code",
   "execution_count": null,
   "metadata": {},
   "outputs": [
    {
     "name": "stdout",
     "output_type": "stream",
     "text": [
      "CPU times: user 3.44 s, sys: 653 ms, total: 4.1 s\n",
      "Wall time: 2.15 s\n"
     ]
    }
   ],
   "source": [
    "%%time\n",
    "pipe_join = util_search.return_pipeline_join(index, parm_path_model_sts=nome_caminho_modelo_sts)"
   ]
  },
  {
   "cell_type": "code",
   "execution_count": null,
   "metadata": {},
   "outputs": [
    {
     "data": {
      "text/plain": [
       "'A transferência de documentos da entidade para local impróprio ao armazenamento, causando a perda de informações ou inviabilizando seu manuseio, de forma a impedir a atuação do TCU, é causa de responsabilização do gestor que a ordenou.'"
      ]
     },
     "execution_count": 46,
     "metadata": {},
     "output_type": "execute_result"
    }
   ],
   "source": [
    "parm_query"
   ]
  },
  {
   "cell_type": "code",
   "execution_count": null,
   "metadata": {},
   "outputs": [
    {
     "name": "stdout",
     "output_type": "stream",
     "text": [
      "Parâmetros usados: {'Bm25Retriever': {'top_k': 300}, 'StsRetriever': {'top_k': 100}}\n",
      "Consulta: A transferência de documentos da entidade para local impróprio ao armazenamento, causando a perda de informações ou inviabilizando seu manuseio, de forma a impedir a atuação do TCU, é causa de responsabilização do gestor que a ordenou.\n",
      "Qtd documentos retornados: 379\n",
      "Primeiro docto:\n",
      "<Document: id=1102005, content='O termo é \"Plano de contratações\".\n",
      "Plano de contratações tem definição: \"É o documento no qual a org...'>\n",
      "\n",
      "Último (379):\n",
      "<Document: id=2992, content='O termo é \"Afastamento preventivo\".\n",
      "Afastamento preventivo tem definição: \"Art. 147.  Como medida ca...'>\n",
      "Seguem os nomes dos termos recuperados em ordem de score\n",
      "0 : ['Plano de contratações', 0.9856940203493179]\n",
      "1 : ['Competência do TCU', 0.9849874794705751]\n",
      "2 : ['Teletrabalho', 0.9823437136689326]\n",
      "3 : ['Nexo de causalidade', 0.982157658932855]\n",
      "4 : ['Processo administrativo de responsabilização', 0.9816688772992885]\n",
      "5 : ['Evidência documental', 0.9808667929710004]\n",
      "6 : ['Papéis de trabalho', 0.9800804158626235]\n",
      "7 : ['Julgamento de contas', 0.9780553040802098]\n",
      "8 : ['Matriz de fiscalização', 0.9778889174161483]\n",
      "9 : ['Responsável', 0.9749983023194281]\n",
      "10 : ['Matriz de responsabilização', 0.9749010355369913]\n",
      "11 : ['Produzir', 0.9743022341175737]\n",
      "12 : ['Documento novo', 0.9732741034881348]\n",
      "13 : ['Examinar', 0.9732180433625631]\n",
      "14 : ['Phishing', 0.9724266621478431]\n",
      "15 : ['Sistema Nacional de Emprego', 0.9714378186803478]\n",
      "16 : ['Gestor da informação', 0.9712187264447482]\n",
      "17 : ['Controle de segunda ordem', 0.970873867075394]\n",
      "18 : ['Causa do achado', 0.9706906037482294]\n",
      "19 : ['Estratégia digital', 0.9701236836186766]\n",
      "20 : ['Ministério Público junto ao TCU', 0.9700605069151323]\n",
      "21 : ['Confirmação externa', 0.9696596610660471]\n",
      "22 : ['Cobrança executiva', 0.9693038531578911]\n",
      "23 : ['Matriz padrão', 0.9687832056065442]\n",
      "24 : ['Penhor', 0.968162361915448]\n",
      "25 : ['Entidade filantrópica', 0.9676888116115662]\n",
      "26 : ['Honorários de êxito', 0.9676524124501663]\n",
      "27 : ['HTTPS', 0.9675901238174784]\n",
      "28 : ['Petição inicial', 0.9675488332671434]\n",
      "29 : ['Afastamento para servir a outro órgão ou entidade', 0.9669174085223711]\n",
      "30 : ['Disseminar', 0.966905218875126]\n",
      "31 : ['Análise estática', 0.9660281341139809]\n",
      "32 : ['Casemg', 0.9659682605598531]\n",
      "33 : ['Gestor', 0.9655142819406799]\n",
      "34 : ['Representação', 0.9652363938568079]\n",
      "35 : ['Avaliação de controles internos', 0.9647662571738366]\n",
      "36 : ['Backdoor', 0.9645546613332472]\n",
      "37 : ['Contabilidade', 0.9644534384224346]\n",
      "38 : ['Transferência de carteira', 0.9641922679960047]\n",
      "39 : ['Ação corretiva', 0.9639161834711785]\n",
      "40 : ['Evicção', 0.9637212483345161]\n",
      "41 : ['Ouvidoria', 0.9634448837100252]\n",
      "42 : ['Fiscalização', 0.9630165470706724]\n",
      "43 : ['Cláusula uniforme', 0.9623910930365567]\n",
      "44 : ['Assessoria jurídica', 0.9621278198086929]\n",
      "45 : ['Armazenamento de dados', 0.9619242734842146]\n",
      "46 : ['Atividade crítica', 0.9618874014709465]\n",
      "47 : ['Serviço público prestado integralmente sob a forma digital', 0.961419871078294]\n",
      "48 : ['Ocasionar', 0.9612147237380495]\n",
      "49 : ['Desapropriação judicial', 0.9606843032921187]\n",
      "50 : ['Hipoteca', 0.9605545000176207]\n",
      "51 : ['Concreto convencional', 0.9599764270606329]\n",
      "52 : ['Serviço público prestado parcialmente sob a forma digital', 0.959819704683328]\n",
      "53 : ['Transferências da União', 0.9596240778000634]\n",
      "54 : ['França', 0.9595603559566676]\n",
      "55 : ['Escola Superior do Tribunal de Contas da União', 0.9595120266901677]\n",
      "56 : ['Contrafação', 0.9593783462230799]\n",
      "57 : ['Jurisdição', 0.9591404375498186]\n",
      "58 : ['Capacidade operacional', 0.958941512088949]\n",
      "59 : ['Efeito do achado', 0.958929442662271]\n",
      "60 : ['Reforma (Pessoal)', 0.9587878563381154]\n",
      "61 : ['Substituição tributária', 0.9587698194957366]\n",
      "62 : ['Inspeção sanitária', 0.9586252476007018]\n",
      "63 : ['Gestor máximo', 0.9585643370920641]\n",
      "64 : ['Matriz de planejamento', 0.9584372944150586]\n",
      "65 : ['Líbano', 0.958258830519573]\n",
      "66 : ['Aviso prévio', 0.9582448386813825]\n",
      "67 : ['Risco inerente', 0.9580101570198128]\n",
      "68 : ['Embargos', 0.9577779502140308]\n",
      "69 : ['Transferência de risco', 0.9577449798461105]\n",
      "70 : ['Requerer', 0.9573839012529318]\n",
      "71 : ['Princípio da irrenunciabilidade', 0.9572732115283369]\n",
      "72 : ['Organização comunitária', 0.9571137609318326]\n",
      "73 : ['Gerenciamento de riscos corporativos', 0.9570734706181723]\n",
      "74 : ['Memorial', 0.9569755794888811]\n",
      "75 : ['Adicional de embarque e desembarque', 0.9566770300646551]\n",
      "76 : ['Serviço público passível de ser prestado sob a forma digital', 0.9565799269322078]\n",
      "77 : ['Cessão de pessoal', 0.9564698462213936]\n",
      "78 : ['Protocolo internacional', 0.9562298872578011]\n",
      "79 : ['Instruir', 0.9562261516103134]\n",
      "80 : ['Princípio da vedação ao enriquecimento sem causa', 0.9562196161116222]\n",
      "81 : ['Ação ao portador', 0.9561756905836348]\n",
      "82 : ['Diligência', 0.9559883455743694]\n",
      "83 : ['Ocupação', 0.9559661195591604]\n",
      "84 : ['Sonegação', 0.9558004268104576]\n",
      "85 : ['Índice de preços', 0.955620310570976]\n",
      "86 : ['Exame sumário', 0.9551943519221134]\n",
      "87 : ['Administrar', 0.9550002696368254]\n",
      "88 : ['Exceção de coisa julgada', 0.9546906630484467]\n",
      "89 : ['Sala-cofre', 0.954663706675542]\n",
      "90 : ['Fé pública', 0.9546371085351776]\n",
      "91 : ['Afastamento de responsável', 0.9546168861748239]\n",
      "92 : ['Defesa de responsável', 0.954434797149484]\n",
      "93 : ['Transferências voluntárias', 0.9543952656228274]\n",
      "94 : ['Férias vencidas', 0.9543769272308118]\n",
      "95 : ['Usucapião', 0.9541828786539923]\n",
      "96 : ['Cadastro Específico do INSS', 0.9539315737563044]\n",
      "97 : ['Integridade da informação', 0.9537947632847696]\n",
      "98 : ['Oposição (Direito)', 0.9537884387830428]\n",
      "99 : ['Bibliografia', 0.9535005048958634]\n",
      "100 : ['Desapropriação de imóveis', 0.9534084517088282]\n",
      "101 : ['Falsidade documental', 0.9532337115403431]\n",
      "102 : ['Exame documental', 0.9532323518558644]\n",
      "103 : ['Indagação escrita', 0.9532204474391387]\n",
      "104 : ['Desapropriação por interesse social', 0.9529404738204769]\n",
      "105 : ['Cartilha', 0.9529244784147565]\n",
      "106 : ['PDV', 0.9527896159468343]\n",
      "107 : ['Hora extra judicial', 0.9526206145297323]\n",
      "108 : ['Teletrabalho total', 0.952438712791075]\n",
      "109 : ['Alterar', 0.9521879560550494]\n",
      "110 : ['Ação preventiva', 0.9521186006001536]\n",
      "111 : ['Pagamento', 0.952067549539992]\n",
      "112 : ['Relatório de monitoramento', 0.9520259247382503]\n",
      "113 : ['Conteúdo local', 0.9516418276452496]\n",
      "114 : ['Instituto Serzedello Corrêa', 0.9513190285991512]\n",
      "115 : ['Pessoa com deficiência auditiva', 0.9512463381425789]\n",
      "116 : ['Revisão criminal', 0.9512376185753313]\n",
      "117 : ['Gestor substituto', 0.9512010428976136]\n",
      "118 : ['Decidir', 0.9510838676229583]\n",
      "119 : ['Notória especialização', 0.9508446206146226]\n",
      "120 : ['Processamento de dados', 0.9508190655415143]\n",
      "121 : ['Contrato de eficiência', 0.9506934331990565]\n",
      "122 : ['Manual', 0.9506929820210926]\n",
      "123 : ['Vistoria', 0.9506726573755878]\n",
      "124 : ['Iniciação esportiva', 0.950648952843144]\n",
      "125 : ['Trabalho de asseguração limitada', 0.9505972321259649]\n",
      "126 : ['Férias proporcionais', 0.9504084260451396]\n",
      "127 : ['Sonegação fiscal', 0.9503938896187064]\n",
      "128 : ['Auxiliar', 0.9501660781675729]\n",
      "129 : ['Doença endêmica', 0.9500992715662937]\n",
      "130 : ['Monitorar', 0.9496506992165659]\n",
      "131 : ['Catálogo de dados', 0.9495461163908799]\n",
      "132 : ['Regulamentar', 0.9494834514624517]\n",
      "133 : ['Design thinking', 0.9494216312426811]\n",
      "134 : ['Execução da despesa', 0.9491180166197143]\n",
      "135 : ['Vício construtivo', 0.9489875156833851]\n",
      "136 : ['Competência municipal', 0.9488773972277561]\n",
      "137 : ['Vaticano', 0.9488735588102937]\n",
      "138 : ['Tráfico de pessoas', 0.9488664633872584]\n",
      "139 : ['Receita de capital', 0.948814851041406]\n",
      "140 : ['Acidente do trabalho', 0.948698357457523]\n",
      "141 : ['Acidente aeronáutico', 0.9486544699838375]\n",
      "142 : ['Alienação de carteira', 0.9483206609550829]\n",
      "143 : ['Observação', 0.9482731203435723]\n",
      "144 : ['Representante comercial', 0.9482626714382877]\n",
      "145 : ['Observação direta', 0.9482163938903369]\n",
      "146 : ['Transferência documental', 0.9478818941123205]\n",
      "147 : ['Processo', 0.9477889775840668]\n",
      "148 : ['Nascente', 0.9477773906863531]\n",
      "149 : ['Gestão da informação', 0.9477671379990322]\n",
      "150 : ['Fundo de Arrendamento Residencial', 0.9477664634948768]\n",
      "151 : ['Acordo de leniência', 0.947705823526987]\n",
      "152 : ['Critério de auditoria', 0.9476027492395825]\n",
      "153 : ['Administração local (Obra pública)', 0.947550472328789]\n",
      "154 : ['Atualizar', 0.9475397363988394]\n",
      "155 : ['Plano de classificação de documentos', 0.9474563131821079]\n",
      "156 : ['Grupo de trabalho', 0.9472949200165242]\n",
      "157 : ['Abuso de direito', 0.9470261344101354]\n",
      "158 : ['Fato do príncipe', 0.946919269788652]\n",
      "159 : ['Lista tríplice', 0.9468305230457471]\n",
      "160 : ['Divulgar', 0.9468042066602871]\n",
      "161 : ['Auditoria preditiva', 0.9467271065876272]\n",
      "162 : ['Estação aduaneira', 0.9467071308367723]\n",
      "163 : ['Comunicação processual', 0.9466010806392038]\n",
      "164 : ['Objetivos de auditoria específicos', 0.9465132621594332]\n",
      "165 : ['Gestor público', 0.9463959102597824]\n",
      "166 : ['Exploração florestal', 0.9463439382795479]\n",
      "167 : ['Garantia-Safra', 0.9462469666877098]\n",
      "168 : ['Linguagem simples', 0.9462395591880861]\n",
      "169 : ['Amazônia Legal', 0.946238573568358]\n",
      "170 : ['Curso de formação', 0.9460879362258858]\n",
      "171 : ['Medidas de compensação', 0.9459612257464103]\n",
      "172 : ['Contrato de gestão', 0.945842405404049]\n",
      "173 : ['Recomendação', 0.9457420778641263]\n",
      "174 : ['Transferência de pessoal', 0.9456910363032587]\n",
      "175 : ['EIV', 0.9456141705274614]\n",
      "176 : ['Acidente em serviço', 0.9455205728684019]\n",
      "177 : ['Alienação de ação', 0.9454150585824564]\n",
      "178 : ['Previdência complementar', 0.9452697816372956]\n",
      "179 : ['Organização social', 0.9452282690190462]\n",
      "180 : ['Entidade fechada de autogestão', 0.9451978386613131]\n",
      "181 : ['Absorção', 0.945073563621328]\n",
      "182 : ['Alerta', 0.9450732067422655]\n",
      "183 : ['Unidade de Serviço Técnico', 0.9449041514024998]\n",
      "184 : ['Panamá', 0.944627789553269]\n",
      "185 : ['Retribuição', 0.9444825132618436]\n",
      "186 : ['Engenharia social', 0.9440445753866711]\n",
      "187 : ['Acordo de Basileia', 0.9439213670810462]\n",
      "188 : ['Resolução', 0.9438239555340553]\n",
      "189 : ['Enriquecimento ilícito', 0.9438090814892776]\n",
      "190 : ['Gestão do conhecimento', 0.9436404294317969]\n",
      "191 : ['Sugerir', 0.9433986978795029]\n",
      "192 : ['Chamamento ao processo', 0.9432752631516569]\n",
      "193 : ['Contingenciamento', 0.9431609375495982]\n",
      "194 : ['Teste de desenho e implementação', 0.9431464950673065]\n",
      "195 : ['Risco de controle', 0.943127201770828]\n",
      "196 : ['Adware', 0.942922434002684]\n",
      "197 : ['Sistematizar', 0.9428679238283205]\n",
      "198 : ['Entidade paraestatal', 0.9425957885105752]\n",
      "199 : ['Vazamento de dados', 0.942404112002669]\n",
      "200 : ['Contar', 0.9423875547951661]\n",
      "201 : ['Relatório de gestão', 0.9423734165613866]\n",
      "202 : ['Ministério do Planejamento e Coordenação-Geral (1967-1974)', 0.9423500674328352]\n",
      "203 : ['Constituir', 0.9423106001944959]\n",
      "204 : ['Fundamentação jurídica', 0.942118118513158]\n",
      "205 : ['Competência internacional', 0.941950848277206]\n",
      "206 : ['Risco financeiro', 0.9419262786575268]\n",
      "207 : ['Conselho de administração', 0.9418189372156143]\n",
      "208 : ['Medida cautelar', 0.9416420298468251]\n",
      "209 : ['Aproveitamento de licitação', 0.9416021972781073]\n",
      "210 : ['Requisitar', 0.9413699172083094]\n",
      "211 : ['Plano diretor (Administração Pública)', 0.9413405754609037]\n",
      "212 : ['Seguradora', 0.9412457763792318]\n",
      "213 : ['Instrumento de dívida', 0.9412281255905783]\n",
      "214 : ['Contrato de cessão onerosa', 0.9412062159371607]\n",
      "215 : ['Arguição de suspeição', 0.9411700565724124]\n",
      "216 : ['Trustless', 0.9410366071473026]\n",
      "217 : ['Fiscalização ambiental', 0.9410364406869488]\n",
      "218 : ['Centro Regional de Treinamento da ESAF', 0.9409612110483264]\n",
      "219 : ['Descentralização de crédito', 0.9409226453197336]\n",
      "220 : ['Perfil profissiográfico previdenciário', 0.9409095879190511]\n",
      "221 : ['Transferência de recursos', 0.9407685083880832]\n",
      "222 : ['CCHA', 0.9407125794387768]\n",
      "223 : ['Competência originária', 0.9406712525273354]\n",
      "224 : ['Achado de auditoria', 0.9404731778001857]\n",
      "225 : ['Teletrabalho parcial', 0.9404730308436441]\n",
      "226 : ['Plano de auditoria', 0.9404706305053607]\n",
      "227 : ['Internet', 0.9404654866180263]\n",
      "228 : ['Fornecedor', 0.9403633415787027]\n",
      "229 : ['Contestação', 0.9403486398783729]\n",
      "230 : ['Executar', 0.9402446426507072]\n",
      "231 : ['Consultoria jurídica', 0.9401208321866461]\n",
      "232 : ['Desestatização', 0.9400136649374491]\n",
      "233 : ['Unidade Apresentadora de Contas', 0.9400110992332351]\n",
      "234 : ['Fundação (Direito)', 0.9398976898772841]\n",
      "235 : ['Termo de cooperação', 0.9397079213171605]\n",
      "236 : ['Transferências fundo a fundo', 0.9396320058976525]\n",
      "237 : ['Rede de Controle da Gestão Pública', 0.9396203339407657]\n",
      "238 : ['Emigração', 0.9395197940377877]\n",
      "239 : ['Direito à educação', 0.9393354984669462]\n",
      "240 : ['Supervisão de auditoria', 0.9392844275418835]\n",
      "241 : ['Cessão de uso', 0.9392399081271063]\n",
      "242 : ['Licitação de maior retorno econômico', 0.9390265010438349]\n",
      "243 : ['Delegação de competência', 0.9388474962778554]\n",
      "244 : ['Marco Civil da Internet', 0.9388431327538225]\n",
      "245 : ['Coordenar', 0.9386323617708945]\n",
      "246 : ['Projeto pedagógico', 0.9386195297493839]\n",
      "247 : ['Pesquisa', 0.938616836290699]\n",
      "248 : ['Tunísia', 0.9386130767866766]\n",
      "249 : ['Período de trânsito', 0.9386107936112036]\n",
      "250 : ['Princípio da ampla defesa', 0.9385856662371125]\n",
      "251 : ['Beneficiário instituído', 0.9385283084364224]\n",
      "252 : ['Eficiência', 0.938389822462763]\n",
      "253 : ['Certificado de Registro de Veículos', 0.9381626190214504]\n",
      "254 : ['Promover', 0.9381045510443038]\n",
      "255 : ['Urbanização', 0.9380304920974517]\n",
      "256 : ['Abono de faltas', 0.9380158855063895]\n",
      "257 : ['Renúncia', 0.9380073380696953]\n",
      "258 : ['Execução trabalhista', 0.937965711736422]\n",
      "259 : ['Modelagem da Informação da Construção', 0.9378117843653694]\n",
      "260 : ['Classificação orçamentária', 0.9377967504720488]\n",
      "261 : ['Tabela de temporalidade', 0.9377943441508756]\n",
      "262 : ['Concurso de preferência', 0.9377493518238906]\n",
      "263 : ['Suframa', 0.9377173835739546]\n",
      "264 : ['Subconcessão', 0.9376902496354892]\n",
      "265 : ['Embaixada', 0.9375964665130915]\n",
      "266 : ['Código de ética do servidor', 0.9375914784064174]\n",
      "267 : ['Quarentena', 0.9375280487468838]\n",
      "268 : ['Transferência especial', 0.9374911766002683]\n",
      "269 : ['Avaliar', 0.9374758432356273]\n",
      "270 : ['Avaliação de desempenho', 0.9374497911812236]\n",
      "271 : ['Web semântica', 0.9374081308267975]\n",
      "272 : ['Juízo de mérito', 0.9372710528738277]\n",
      "273 : ['Fisioterapeuta', 0.9372628359065353]\n",
      "274 : ['Pnate', 0.9372513392867732]\n",
      "275 : ['Competência organizacional', 0.9371869248254611]\n",
      "276 : ['Processo conexo', 0.937158618281384]\n",
      "277 : ['Gestão de risco', 0.9371521398121866]\n",
      "278 : ['Turista', 0.937048900932802]\n",
      "279 : ['Tabela de dispersão', 0.9370305457152351]\n",
      "280 : ['Austrália', 0.9369616894812856]\n",
      "281 : ['Adiantamento de férias', 0.9367079088805352]\n",
      "282 : ['Trancamento das contas', 0.9341491636096659]\n",
      "283 : ['Revisão de ofício', 0.9297291992714615]\n",
      "284 : ['Responsabilidade perante o controle externo', 0.9294792178601551]\n",
      "285 : ['Erro de procedimento', 0.9280039678494807]\n",
      "286 : ['Ato vinculado', 0.9275481833601299]\n",
      "287 : ['Termo de sigilo', 0.925026523026082]\n",
      "288 : ['Anulação', 0.924645376239448]\n",
      "289 : ['Atos de pessoal', 0.9229926926844242]\n",
      "290 : ['Coerção', 0.9227992114198242]\n",
      "291 : ['Negativa de registro', 0.9204877064695078]\n",
      "292 : ['Arquivamento', 0.9201357577046293]\n",
      "293 : ['Risco de auditoria', 0.9197051023576104]\n",
      "294 : ['Excludente de responsabilidade', 0.9187524462466974]\n",
      "295 : ['Irregularidade grave', 0.918724225445055]\n",
      "296 : ['Culpa in vigilando', 0.9179964511667835]\n",
      "297 : ['Distorção não corrigida', 0.9176569068704307]\n",
      "298 : ['Falta funcional', 0.917581312596116]\n",
      "299 : ['Conduta omissiva', 0.9174512184120178]\n",
      "300 : ['Sonegação de informação', 0.9166281377332632]\n",
      "301 : ['Accountability pública', 0.9164846598474962]\n",
      "302 : ['Omissão no dever de prestar contas', 0.9163486999360333]\n",
      "303 : ['Técnico de Finanças e Controle', 0.9162536001883685]\n",
      "304 : ['Contas irregulares', 0.91591697358619]\n",
      "305 : ['Representação administrativa', 0.9157843391848023]\n",
      "306 : ['Determinação', 0.9154213050633756]\n",
      "307 : ['Omissão', 0.914843089259514]\n",
      "308 : ['Documento sigiloso', 0.9144377332307788]\n",
      "309 : ['Conduta irregular', 0.9121719028713356]\n",
      "310 : ['Responsabilização', 0.9120798881002934]\n",
      "311 : ['Perda de objeto', 0.9116852764037447]\n",
      "312 : ['Inércia da Administração', 0.9109246871807424]\n",
      "313 : ['Guardar', 0.9108891410687013]\n",
      "314 : ['Infração', 0.91083449847398]\n",
      "315 : ['Indício de irregularidade grave', 0.9102057720038609]\n",
      "316 : ['Erro', 0.9100136002740455]\n",
      "317 : ['Princípio da segregação de funções', 0.9095418748158737]\n",
      "318 : ['Ofício de requisição', 0.909148240500324]\n",
      "319 : ['Rescisão unilateral', 0.9089078431783219]\n",
      "320 : ['Destituição de função', 0.908477643199189]\n",
      "321 : ['Ilícito administrativo', 0.9074259415814175]\n",
      "322 : ['Abandono de cargo', 0.90734232360891]\n",
      "323 : ['Irregularidade', 0.9069319944204945]\n",
      "324 : ['Desvio de função', 0.9064174477067363]\n",
      "325 : ['Ato de ofício', 0.9063242684408868]\n",
      "326 : ['Encaminhamento das contas', 0.9062184287363109]\n",
      "327 : ['Impropriedade', 0.9054761710268394]\n",
      "328 : ['Negação de serviço ', 0.9052805044569255]\n",
      "329 : ['Erro material', 0.904281403618174]\n",
      "330 : ['Administração contratada', 0.9042628789145661]\n",
      "331 : ['Dispensa com justa causa', 0.904032003866883]\n",
      "332 : ['Abuso de poder', 0.9038543499171754]\n",
      "333 : ['Controle interno', 0.903039446022782]\n",
      "334 : ['Indício de irregularidade grave com recomendação de paralisação', 0.9030113358814664]\n",
      "335 : ['Exclusão de acesso', 0.9027978646639047]\n",
      "336 : ['Informação secreta', 0.9027869826392471]\n",
      "337 : ['Preservação de evidência', 0.9026390021809562]\n",
      "338 : ['Interceptação telefônica', 0.9021654374380413]\n",
      "339 : ['Ato precário', 0.9019401359581602]\n",
      "340 : ['Processo administrativo disciplinar', 0.9016751040483828]\n",
      "341 : ['Canal de denúncias', 0.9016675679366696]\n",
      "342 : ['Ofício de comunicação de fiscalização', 0.9012543354903404]\n",
      "343 : ['Negligência', 0.9007426841986789]\n",
      "344 : ['Esclarecimento de responsáveis', 0.9006446529418302]\n",
      "345 : ['Preclusão temporal', 0.9003842202189747]\n",
      "346 : ['Auto de infração', 0.8989822458097059]\n",
      "347 : ['Prevenção de perda de dados', 0.8989408274705474]\n",
      "348 : ['Risco organizacional', 0.8988620365537214]\n",
      "349 : ['Obra paralisada', 0.8985173346730585]\n",
      "350 : ['Ato omissivo', 0.8985014675683317]\n",
      "351 : ['Custodiante da informação', 0.8978160882754852]\n",
      "352 : ['Disciplinar', 0.8971729313523576]\n",
      "353 : ['Ação de controle externo', 0.8971592770076936]\n",
      "354 : ['Erro acidental', 0.8971240266177964]\n",
      "355 : ['Mandado de injunção', 0.8963537977015371]\n",
      "356 : ['Corregedor', 0.895996597445735]\n",
      "357 : ['Informação reservada', 0.8959172688400449]\n",
      "358 : ['Excesso de poder', 0.8957690021134883]\n",
      "359 : ['Responsável técnico', 0.8955219751540908]\n",
      "360 : ['Abuso de autoridade', 0.895337701038353]\n",
      "361 : ['Construção participativa de deliberações', 0.8952738686379877]\n",
      "362 : ['Controlar', 0.8952649612394795]\n",
      "363 : ['Fiscalização tributária', 0.8947175176625644]\n",
      "364 : ['Locaute', 0.8943973808039647]\n",
      "365 : ['Sigilo fiscal', 0.8942432325789107]\n",
      "366 : ['Posse (Pessoal)', 0.8942414356922531]\n",
      "367 : ['Risco de detecção', 0.8939729246725233]\n",
      "368 : ['Nota técnica', 0.893956715288326]\n",
      "369 : ['Auditoria interna', 0.8935160473418704]\n",
      "370 : ['Poder discricionário', 0.8932054761040064]\n",
      "371 : ['Informação confidencial', 0.8931451749861812]\n",
      "372 : ['Gestão documental', 0.8930782552993651]\n",
      "373 : ['Deficiência material', 0.8929623713140746]\n",
      "374 : ['Tomada de contas', 0.8929463127174061]\n",
      "375 : ['Auditor interno', 0.8929196392918227]\n",
      "376 : ['Informação ultrassecreta', 0.8928700054238224]\n",
      "377 : ['Termo de responsabilidade', 0.8928465681441121]\n",
      "378 : ['Afastamento preventivo', 0.8926737584628649]\n",
      "CPU times: user 2.95 s, sys: 970 ms, total: 3.92 s\n",
      "Wall time: 4.11 s\n"
     ]
    }
   ],
   "source": [
    "%%time\n",
    "doctos_retornados_ranker = pipe_join.run(query=parm_query, \n",
    " params={\"Bm25Retriever\": {\"top_k\": 300}, \"StsRetriever\": {\"top_k\": 100}})\n",
    "util_search.detail_document_found(doctos_retornados_ranker)"
   ]
  },
  {
   "attachments": {},
   "cell_type": "markdown",
   "metadata": {},
   "source": [
    "## First stage = BM25"
   ]
  },
  {
   "attachments": {},
   "cell_type": "markdown",
   "metadata": {},
   "source": [
    "### pipe_bm25_ranker_monot5_3b"
   ]
  },
  {
   "cell_type": "code",
   "execution_count": null,
   "metadata": {},
   "outputs": [
    {
     "name": "stdout",
     "output_type": "stream",
     "text": [
      "CPU times: user 34.8 s, sys: 7.17 s, total: 42 s\n",
      "Wall time: 34.9 s\n"
     ]
    }
   ],
   "source": [
    "%%time\n",
    "pipe_bm25_ranker_monot5_3b = util_search.return_pipeline_bm25_reranker(index, 'MONOT5', nome_caminho_modelo_monot5_3b, parm_limit_query_size=350)"
   ]
  },
  {
   "cell_type": "code",
   "execution_count": null,
   "metadata": {},
   "outputs": [],
   "source": [
    "pipes.append({'PIPE_NAME': 'pipe_bm25_ranker_monot5_3b',\n",
    "              'PIPE_OBJECT': pipe_bm25_ranker_monot5_3b,\n",
    "              'RETRIEVER_TYPE': 'bm25',  # or 'sts'\n",
    "              'RETRIEVER_MODEL_NAME': '', # or nome_modelo_embedding_model_sts_rufimelo,\n",
    "              'RANKER_MODEL_NAME': nome_modelo_monot5_3b+'-tokens-extra'})\n",
    "              #'RANKER_MODEL_NAME': nome_modelo_monot5_3b})"
   ]
  },
  {
   "cell_type": "code",
   "execution_count": null,
   "metadata": {},
   "outputs": [
    {
     "name": "stdout",
     "output_type": "stream",
     "text": [
      "Parâmetros usados: {}\n",
      "Consulta: A transferência de documentos da entidade para local impróprio ao armazenamento, causando a perda de informações ou inviabilizando seu manuseio, de forma a impedir a atuação do TCU, é causa de responsabilização do gestor que a ordenou.\n",
      "Qtd documentos retornados: 10\n",
      "Primeiro docto:\n",
      "<Document: id=1101364, content='O termo é \"Evidência documental\".\n",
      "Evidência documental tem definição: \"Evidência de auditoria obtida...'>\n",
      "\n",
      "Último (10):\n",
      "<Document: id=1102005, content='O termo é \"Plano de contratações\".\n",
      "Plano de contratações tem definição: \"É o documento no qual a org...'>\n",
      "Seguem os nomes dos termos recuperados em ordem de score\n",
      "0 : ['Evidência documental', -50.622467041015625]\n",
      "1 : ['Competência do TCU', -51.267578125]\n",
      "2 : ['Processo administrativo de responsabilização', -51.291893005371094]\n",
      "3 : ['Ofício de requisição', -52.43625259399414]\n",
      "4 : ['Julgamento de contas', -55.70490264892578]\n",
      "5 : ['Teletrabalho', -58.83453369140625]\n",
      "6 : ['Nexo de causalidade', -58.900569915771484]\n",
      "7 : ['Papéis de trabalho', -62.03596496582031]\n",
      "8 : ['Matriz de fiscalização', -67.89950561523438]\n",
      "9 : ['Plano de contratações', -70.26956176757812]\n"
     ]
    }
   ],
   "source": [
    "doctos_retornados_ranker = pipe_bm25_ranker_monot5_3b.run(query=parm_query)\n",
    "util_search.detail_document_found(doctos_retornados_ranker)"
   ]
  },
  {
   "cell_type": "code",
   "execution_count": null,
   "metadata": {},
   "outputs": [
    {
     "name": "stdout",
     "output_type": "stream",
     "text": [
      "Parâmetros usados: {}\n",
      "Consulta: A transferência de documentos da entidade para local impróprio ao armazenamento, causando a perda de informações ou inviabilizando seu manuseio, de forma a impedir a atuação do TCU, é causa de responsabilização do gestor que a ordenou.\n",
      "Qtd documentos retornados: 10\n",
      "Primeiro docto:\n",
      "<Document: id=1104189, content='O termo é \"Processo administrativo de responsabilização\". Processo administrativo de responsabilizaç...'>\n",
      "\n",
      "Último (10):\n",
      "<Document: id=1102005, content='O termo é \"Plano de contratações\".\n",
      "Plano de contratações tem definição: \"É o documento no qual a org...'>\n",
      "Seguem os nomes dos termos recuperados em ordem de score\n",
      "0 : ['Processo administrativo de responsabilização', -1.0603076219558716]\n",
      "1 : ['Competência do TCU', -1.4214444160461426]\n",
      "2 : ['Evidência documental', -1.9571717977523804]\n",
      "3 : ['Ofício de requisição', -2.266594648361206]\n",
      "4 : ['Julgamento de contas', -2.5948143005371094]\n",
      "5 : ['Nexo de causalidade', -3.0983963012695312]\n",
      "6 : ['Teletrabalho', -3.176138401031494]\n",
      "7 : ['Papéis de trabalho', -3.9197187423706055]\n",
      "8 : ['Matriz de fiscalização', -4.795485973358154]\n",
      "9 : ['Plano de contratações', -5.823603630065918]\n"
     ]
    }
   ],
   "source": [
    "doctos_retornados_ranker = pipe_bm25_ranker_monot5_3b.run(query=parm_query)\n",
    "util_search.detail_document_found(doctos_retornados_ranker)"
   ]
  },
  {
   "attachments": {},
   "cell_type": "markdown",
   "metadata": {},
   "source": [
    "### pipe_bm25_ranker_minilm"
   ]
  },
  {
   "cell_type": "code",
   "execution_count": null,
   "metadata": {},
   "outputs": [],
   "source": [
    "pipe_bm25_ranker_minilm = util_search.return_pipeline_bm25_reranker(index, 'MINILM', nome_caminho_modelo_minilm, parm_limit_query_size=350)"
   ]
  },
  {
   "cell_type": "code",
   "execution_count": null,
   "metadata": {},
   "outputs": [],
   "source": [
    "pipes.append({'PIPE_NAME': 'pipe_bm25_ranker_minilm',\n",
    "              'PIPE_OBJECT': pipe_bm25_ranker_minilm,\n",
    "              'RETRIEVER_TYPE': 'bm25',  # or 'sts'\n",
    "              'RETRIEVER_MODEL_NAME': '', # or nome_modelo_embedding_model_sts_rufimelo,\n",
    "              'RANKER_MODEL_NAME': nome_modelo_ranking_minilm})"
   ]
  },
  {
   "cell_type": "code",
   "execution_count": null,
   "metadata": {},
   "outputs": [
    {
     "name": "stdout",
     "output_type": "stream",
     "text": [
      "Parâmetros usados: {}\n",
      "Consulta: A transferência de documentos da entidade para local impróprio ao armazenamento, causando a perda de informações ou inviabilizando seu manuseio, de forma a impedir a atuação do TCU, é causa de responsabilização do gestor que a ordenou.\n",
      "Qtd documentos retornados: 10\n",
      "Primeiro docto:\n",
      "<Document: id=5095, content='O termo é \"Competência do TCU\". Competência do TCU tem definição: \"São as seguintes as competências ...'>\n",
      "\n",
      "Último (10):\n",
      "<Document: id=4495, content='O termo é \"Nexo de causalidade\".\n",
      "Nexo de causalidade tem definição: \"Elemento que evidencia se a con...'>\n",
      "Seguem os nomes dos termos recuperados em ordem de score\n",
      "0 : ['Competência do TCU', 0.0014646538766101003]\n",
      "1 : ['Processo administrativo de responsabilização', 0.0004114470211789012]\n",
      "2 : ['Evidência documental', 0.00033812460605986416]\n",
      "3 : ['Plano de contratações', 0.0002457168884575367]\n",
      "4 : ['Julgamento de contas', 0.00022130725847091526]\n",
      "5 : ['Teletrabalho', 0.00016929447883740067]\n",
      "6 : ['Ofício de requisição', 0.0001542003737995401]\n",
      "7 : ['Papéis de trabalho', 8.805856487015262e-05]\n",
      "8 : ['Matriz de fiscalização', 7.702181028435007e-05]\n",
      "9 : ['Nexo de causalidade', 7.497824117308483e-05]\n"
     ]
    }
   ],
   "source": [
    "doctos_retornados_ranker = pipe_bm25_ranker_minilm.run(query=parm_query)\n",
    "util_search.detail_document_found(doctos_retornados_ranker)"
   ]
  },
  {
   "attachments": {},
   "cell_type": "markdown",
   "metadata": {},
   "source": [
    "## First stage = Sentence Similarity"
   ]
  },
  {
   "attachments": {},
   "cell_type": "markdown",
   "metadata": {},
   "source": [
    "### pipe_sts_ranker_minilm"
   ]
  },
  {
   "cell_type": "code",
   "execution_count": null,
   "metadata": {},
   "outputs": [],
   "source": [
    "pipe_sts_ranker_minilm = util_search.return_pipeline_sts_reranker(index, 'MINILM', parm_path_model_ranker=nome_caminho_modelo_minilm, parm_path_model_sts=nome_caminho_modelo_sts, parm_limit_query_size=350)"
   ]
  },
  {
   "cell_type": "code",
   "execution_count": null,
   "metadata": {},
   "outputs": [],
   "source": [
    "pipes.append({'PIPE_NAME': 'pipe_sts_ranker_minilm',\n",
    "              'PIPE_OBJECT': pipe_sts_ranker_minilm,\n",
    "              'RETRIEVER_TYPE': 'sts',  # in ['sts', 'bm25']\n",
    "              'RETRIEVER_MODEL_NAME': nome_modelo_embedding_model_sts, # or nome_modelo_embedding_model_sts_rufimelo,\n",
    "              'RANKER_MODEL_NAME': nome_modelo_ranking_minilm})"
   ]
  },
  {
   "cell_type": "code",
   "execution_count": null,
   "metadata": {},
   "outputs": [
    {
     "name": "stdout",
     "output_type": "stream",
     "text": [
      "Parâmetros usados: {}\n",
      "Consulta: A transferência de documentos da entidade para local impróprio ao armazenamento, causando a perda de informações ou inviabilizando seu manuseio, de forma a impedir a atuação do TCU, é causa de responsabilização do gestor que a ordenou.\n",
      "Qtd documentos retornados: 10\n",
      "Primeiro docto:\n",
      "<Document: id=1110487, content='O termo é \"Vazamento de dados\".\n",
      "Vazamento de dados tem definição: \"Transmissão não-autorizada de dad...'>\n",
      "\n",
      "Último (10):\n",
      "<Document: id=15939, content='O termo é \"Erro de procedimento\".\n",
      "Erro de procedimento tem definição: \"É um vício de forma, extrínse...'>\n",
      "Seguem os nomes dos termos recuperados em ordem de score\n",
      "0 : ['Vazamento de dados', 0.0024509401991963387]\n",
      "1 : ['Termo de sigilo', 0.0007997120846994221]\n",
      "2 : ['Trancamento das contas', 0.0002845456183422357]\n",
      "3 : ['Risco de controle', 0.00022979704954195768]\n",
      "4 : ['Revisão de ofício', 0.00013715452223550528]\n",
      "5 : ['Responsabilidade perante o controle externo', 0.00013104191748425364]\n",
      "6 : ['Anulação', 0.00013015586591791362]\n",
      "7 : ['Afastamento de responsável', 0.00012832522043026984]\n",
      "8 : ['Ato vinculado', 8.117296965792775e-05]\n",
      "9 : ['Erro de procedimento', 6.451882654801011e-05]\n"
     ]
    }
   ],
   "source": [
    "doctos_retornados_ranker = pipe_sts_ranker_minilm.run(query=parm_query)\n",
    "util_search.detail_document_found(doctos_retornados_ranker)"
   ]
  },
  {
   "attachments": {},
   "cell_type": "markdown",
   "metadata": {},
   "source": [
    "### pipe_sts_ranker_monot5_3b"
   ]
  },
  {
   "cell_type": "code",
   "execution_count": null,
   "metadata": {},
   "outputs": [],
   "source": [
    "pipe_sts_ranker_monot5_3b = util_search.return_pipeline_sts_reranker(index, 'MONOT5', parm_path_model_ranker=nome_caminho_modelo_monot5_3b, parm_path_model_sts=nome_caminho_modelo_sts, parm_limit_query_size=350)"
   ]
  },
  {
   "cell_type": "code",
   "execution_count": null,
   "metadata": {},
   "outputs": [],
   "source": [
    "pipes.append({'PIPE_NAME': 'pipe_sts_ranker_monot5_3b',\n",
    "              'PIPE_OBJECT': pipe_sts_ranker_monot5_3b,\n",
    "              'RETRIEVER_TYPE': 'sts',  # in ['sts', 'bm25']\n",
    "              'RETRIEVER_MODEL_NAME': nome_modelo_embedding_model_sts, # or nome_modelo_embedding_model_sts_rufimelo,\n",
    "              'RANKER_MODEL_NAME': nome_modelo_monot5_3b})"
   ]
  },
  {
   "cell_type": "code",
   "execution_count": null,
   "metadata": {},
   "outputs": [
    {
     "name": "stdout",
     "output_type": "stream",
     "text": [
      "Parâmetros usados: {}\n",
      "Consulta: A transferência de documentos da entidade para local impróprio ao armazenamento, causando a perda de informações ou inviabilizando seu manuseio, de forma a impedir a atuação do TCU, é causa de responsabilização do gestor que a ordenou.\n",
      "Qtd documentos retornados: 10\n",
      "Primeiro docto:\n",
      "<Document: id=5098, content='O termo é \"Responsabilidade perante o controle externo\".\n",
      "Responsabilidade perante o controle externo...'>\n",
      "\n",
      "Último (10):\n",
      "<Document: id=83, content='O termo é \"Anulação\". Anulação tem definição: \"É o ato ou a decisão, de caráter judicial ou administ...'>\n",
      "Seguem os nomes dos termos recuperados em ordem de score\n",
      "0 : ['Responsabilidade perante o controle externo', -0.29301929473876953]\n",
      "1 : ['Termo de sigilo', -0.6637465357780457]\n",
      "2 : ['Afastamento de responsável', -0.8156272172927856]\n",
      "3 : ['Revisão de ofício', -0.9923231601715088]\n",
      "4 : ['Trancamento das contas', -1.1499707698822021]\n",
      "5 : ['Erro de procedimento', -2.8979315757751465]\n",
      "6 : ['Vazamento de dados', -2.988812208175659]\n",
      "7 : ['Risco de controle', -3.4774656295776367]\n",
      "8 : ['Ato vinculado', -4.7654876708984375]\n",
      "9 : ['Anulação', -5.362386703491211]\n"
     ]
    }
   ],
   "source": [
    "doctos_retornados_ranker = pipe_sts_ranker_monot5_3b.run(query=parm_query)\n",
    "util_search.detail_document_found(doctos_retornados_ranker)"
   ]
  },
  {
   "attachments": {},
   "cell_type": "markdown",
   "metadata": {},
   "source": [
    "# Experiments"
   ]
  },
  {
   "cell_type": "code",
   "execution_count": null,
   "metadata": {},
   "outputs": [],
   "source": []
  },
  {
   "attachments": {},
   "cell_type": "markdown",
   "metadata": {},
   "source": [
    "## Rodar monoT5_3b sts_multihop pipe "
   ]
  },
  {
   "cell_type": "code",
   "execution_count": 104,
   "metadata": {},
   "outputs": [
    {
     "data": {
      "text/plain": [
       "[{'PIPE_NAME': 'pipe_sts_multihop_ranker_monot5_3b',\n",
       "  'PIPE_OBJECT': <haystack.pipelines.base.Pipeline at 0x7f425949f5d0>,\n",
       "  'RETRIEVER_TYPE': 'sts_multihop',\n",
       "  'RETRIEVER_MODEL_NAME': 'rufimelo/Legal-BERTimbau-sts-large-ma-v3',\n",
       "  'RANKER_MODEL_NAME': 'unicamp-dl/mt5-3B-mmarco-en-pt'}]"
      ]
     },
     "execution_count": 104,
     "metadata": {},
     "output_type": "execute_result"
    }
   ],
   "source": [
    "pipes"
   ]
  },
  {
   "cell_type": "code",
   "execution_count": 117,
   "metadata": {},
   "outputs": [],
   "source": [
    "grid_experiment = {'CRITERIA' : [\"area\", \"theme\", \"subtheme\",\"extra\"],\n",
    "             'TOPK_RETRIEVER' : [300],\n",
    "             'TOPK_RANKER' : [0],\n",
    "             'PIPE': pipes,\n",
    "             'DONE': [False]\n",
    "}"
   ]
  },
  {
   "cell_type": "code",
   "execution_count": 118,
   "metadata": {},
   "outputs": [],
   "source": [
    "list_experiment = [dict(zip(grid_experiment.keys(), values)) for values in product(*grid_experiment.values())]\n"
   ]
  },
  {
   "cell_type": "code",
   "execution_count": 119,
   "metadata": {},
   "outputs": [
    {
     "name": "stdout",
     "output_type": "stream",
     "text": [
      "4\n"
     ]
    },
    {
     "data": {
      "text/plain": [
       "62"
      ]
     },
     "execution_count": 119,
     "metadata": {},
     "output_type": "execute_result"
    }
   ],
   "source": [
    "print(len(list_experiment))\n",
    "gc.collect()"
   ]
  },
  {
   "cell_type": "code",
   "execution_count": 120,
   "metadata": {},
   "outputs": [
    {
     "data": {
      "text/plain": [
       "<module 'util.util_search' from '/home/borela/fontes/ind-ir/code/util/util_search.py'>"
      ]
     },
     "execution_count": 120,
     "metadata": {},
     "output_type": "execute_result"
    }
   ],
   "source": [
    "import importlib\n",
    "importlib.reload(util_search)"
   ]
  },
  {
   "cell_type": "code",
   "execution_count": 121,
   "metadata": {},
   "outputs": [
    {
     "name": "stdout",
     "output_type": "stream",
     "text": [
      "===0/4===>  2023-Jun-16 21:05:20 experiment: {'CRITERIA': 'area', 'TOPK_RETRIEVER': 300, 'TOPK_RANKER': 0, 'PIPE': {'PIPE_NAME': 'pipe_sts_multihop_ranker_monot5_3b', 'PIPE_OBJECT': <haystack.pipelines.base.Pipeline object at 0x7f425949f5d0>, 'RETRIEVER_TYPE': 'sts_multihop', 'RETRIEVER_MODEL_NAME': 'rufimelo/Legal-BERTimbau-sts-large-ma-v3', 'RANKER_MODEL_NAME': 'unicamp-dl/mt5-3B-mmarco-en-pt'}, 'DONE': False}\n"
     ]
    },
    {
     "name": "stderr",
     "output_type": "stream",
     "text": [
      " 99%|█████████▉| 99/100 [01:13<00:00,  1.34it/s]\n"
     ]
    },
    {
     "name": "stdout",
     "output_type": "stream",
     "text": [
      "RANK1_MEAN: 3.63\n",
      "NDCG_MEAN: 62.094\n",
      "TIME_SPENT_MEAN: 0.74\n",
      "===1/4===>  2023-Jun-16 21:06:35 experiment: {'CRITERIA': 'theme', 'TOPK_RETRIEVER': 300, 'TOPK_RANKER': 0, 'PIPE': {'PIPE_NAME': 'pipe_sts_multihop_ranker_monot5_3b', 'PIPE_OBJECT': <haystack.pipelines.base.Pipeline object at 0x7f425949f5d0>, 'RETRIEVER_TYPE': 'sts_multihop', 'RETRIEVER_MODEL_NAME': 'rufimelo/Legal-BERTimbau-sts-large-ma-v3', 'RANKER_MODEL_NAME': 'unicamp-dl/mt5-3B-mmarco-en-pt'}, 'DONE': False}\n"
     ]
    },
    {
     "name": "stderr",
     "output_type": "stream",
     "text": [
      " 52%|█████▏    | 52/100 [18:14<16:50, 21.05s/it]\n"
     ]
    },
    {
     "ename": "KeyboardInterrupt",
     "evalue": "",
     "output_type": "error",
     "traceback": [
      "\u001b[0;31m---------------------------------------------------------------------------\u001b[0m",
      "\u001b[0;31mKeyboardInterrupt\u001b[0m                         Traceback (most recent call last)",
      "\u001b[0;32m<timed exec>\u001b[0m in \u001b[0;36m<module>\u001b[0;34m\u001b[0m\n",
      "\u001b[0;32m~/fontes/ind-ir/code/util/util_search.py\u001b[0m in \u001b[0;36mexperiment_run\u001b[0;34m(parm_df, parm_experiment, parm_limit_query, parm_ndcg_position, parm_print)\u001b[0m\n\u001b[1;32m    331\u001b[0m         \u001b[0mresult_search_one_query\u001b[0m\u001b[0;34m[\u001b[0m\u001b[0;34m'COUNT_DOCTO_RELEVANT'\u001b[0m\u001b[0;34m]\u001b[0m \u001b[0;34m=\u001b[0m \u001b[0mlen\u001b[0m\u001b[0;34m(\u001b[0m\u001b[0mrow_query\u001b[0m\u001b[0;34m[\u001b[0m\u001b[0;34m'RELEVANCE_DICT'\u001b[0m\u001b[0;34m]\u001b[0m\u001b[0;34m)\u001b[0m\u001b[0;34m\u001b[0m\u001b[0;34m\u001b[0m\u001b[0m\n\u001b[1;32m    332\u001b[0m         \u001b[0mtime_start_search_query\u001b[0m \u001b[0;34m=\u001b[0m \u001b[0mtime\u001b[0m\u001b[0;34m.\u001b[0m\u001b[0mtime\u001b[0m\u001b[0;34m(\u001b[0m\u001b[0;34m)\u001b[0m\u001b[0;34m\u001b[0m\u001b[0;34m\u001b[0m\u001b[0m\n\u001b[0;32m--> 333\u001b[0;31m         \u001b[0mlist_id_doc_returned\u001b[0m \u001b[0;34m=\u001b[0m \u001b[0msearch_docto_for_experiment\u001b[0m\u001b[0;34m(\u001b[0m\u001b[0mparm_experiment\u001b[0m\u001b[0;34m=\u001b[0m\u001b[0mparm_experiment\u001b[0m\u001b[0;34m,\u001b[0m  \u001b[0mquery_data\u001b[0m\u001b[0;34m=\u001b[0m\u001b[0mrow_query\u001b[0m\u001b[0;34m)\u001b[0m\u001b[0;34m\u001b[0m\u001b[0;34m\u001b[0m\u001b[0m\n\u001b[0m\u001b[1;32m    334\u001b[0m         \u001b[0mresult_search_one_query\u001b[0m\u001b[0;34m[\u001b[0m\u001b[0;34m'TIME_SPENT'\u001b[0m\u001b[0;34m]\u001b[0m \u001b[0;34m=\u001b[0m \u001b[0mround\u001b[0m\u001b[0;34m(\u001b[0m\u001b[0;34m(\u001b[0m\u001b[0mtime\u001b[0m\u001b[0;34m.\u001b[0m\u001b[0mtime\u001b[0m\u001b[0;34m(\u001b[0m\u001b[0;34m)\u001b[0m \u001b[0;34m-\u001b[0m \u001b[0mtime_start_search_query\u001b[0m\u001b[0;34m)\u001b[0m\u001b[0;34m,\u001b[0m\u001b[0;36m4\u001b[0m\u001b[0;34m)\u001b[0m\u001b[0;34m\u001b[0m\u001b[0;34m\u001b[0m\u001b[0m\n\u001b[1;32m    335\u001b[0m         \u001b[0mdict_ground_truth\u001b[0m \u001b[0;34m=\u001b[0m \u001b[0mcalculate_ground_truth\u001b[0m\u001b[0;34m(\u001b[0m\u001b[0mparm_criteria\u001b[0m\u001b[0;34m=\u001b[0m\u001b[0mparm_experiment\u001b[0m\u001b[0;34m[\u001b[0m\u001b[0;34m'CRITERIA'\u001b[0m\u001b[0;34m]\u001b[0m\u001b[0;34m,\u001b[0m \u001b[0mparm_dict\u001b[0m\u001b[0;34m=\u001b[0m\u001b[0mrow_query\u001b[0m\u001b[0;34m[\u001b[0m\u001b[0;34m'RELEVANCE_DICT'\u001b[0m\u001b[0;34m]\u001b[0m\u001b[0;34m)\u001b[0m\u001b[0;34m\u001b[0m\u001b[0;34m\u001b[0m\u001b[0m\n",
      "\u001b[0;32m~/fontes/ind-ir/code/util/util_search.py\u001b[0m in \u001b[0;36msearch_docto_for_experiment\u001b[0;34m(parm_experiment, query_data)\u001b[0m\n\u001b[1;32m    264\u001b[0m     \u001b[0;31m# print(f\"search_parameter: {search_parameter} \")\u001b[0m\u001b[0;34m\u001b[0m\u001b[0;34m\u001b[0m\u001b[0;34m\u001b[0m\u001b[0m\n\u001b[1;32m    265\u001b[0m     \u001b[0msearch_text\u001b[0m \u001b[0;34m=\u001b[0m  \u001b[0mquery_data\u001b[0m\u001b[0;34m[\u001b[0m\u001b[0;34m'TEXT'\u001b[0m\u001b[0;34m]\u001b[0m\u001b[0;34m[\u001b[0m\u001b[0;34m:\u001b[0m\u001b[0mlimit_size_text_first_stage\u001b[0m\u001b[0;34m]\u001b[0m\u001b[0;34m\u001b[0m\u001b[0;34m\u001b[0m\u001b[0m\n\u001b[0;32m--> 266\u001b[0;31m     \u001b[0mdocto_found\u001b[0m \u001b[0;34m=\u001b[0m \u001b[0mparm_experiment\u001b[0m\u001b[0;34m[\u001b[0m\u001b[0;34m'PIPE'\u001b[0m\u001b[0;34m]\u001b[0m\u001b[0;34m[\u001b[0m\u001b[0;34m'PIPE_OBJECT'\u001b[0m\u001b[0;34m]\u001b[0m\u001b[0;34m.\u001b[0m\u001b[0mrun\u001b[0m\u001b[0;34m(\u001b[0m\u001b[0mquery\u001b[0m\u001b[0;34m=\u001b[0m\u001b[0msearch_text\u001b[0m\u001b[0;34m,\u001b[0m \u001b[0mparams\u001b[0m\u001b[0;34m=\u001b[0m\u001b[0msearch_parameter\u001b[0m\u001b[0;34m)\u001b[0m\u001b[0;34m\u001b[0m\u001b[0;34m\u001b[0m\u001b[0m\n\u001b[0m\u001b[1;32m    267\u001b[0m     \u001b[0;32mif\u001b[0m \u001b[0;34m'documents'\u001b[0m \u001b[0;32min\u001b[0m \u001b[0mdocto_found\u001b[0m\u001b[0;34m:\u001b[0m \u001b[0;31m# search with ranker\u001b[0m\u001b[0;34m\u001b[0m\u001b[0;34m\u001b[0m\u001b[0m\n\u001b[1;32m    268\u001b[0m         \u001b[0;32mif\u001b[0m \u001b[0mlen\u001b[0m\u001b[0;34m(\u001b[0m\u001b[0mdocto_found\u001b[0m\u001b[0;34m[\u001b[0m\u001b[0;34m'documents'\u001b[0m\u001b[0;34m]\u001b[0m\u001b[0;34m)\u001b[0m \u001b[0;34m>\u001b[0m \u001b[0;36m0\u001b[0m\u001b[0;34m:\u001b[0m\u001b[0;34m\u001b[0m\u001b[0;34m\u001b[0m\u001b[0m\n",
      "\u001b[0;32m~/miniconda3/envs/relevar-busca/lib/python3.7/site-packages/haystack/pipelines/base.py\u001b[0m in \u001b[0;36mrun\u001b[0;34m(self, query, file_paths, labels, documents, meta, params, debug)\u001b[0m\n\u001b[1;32m    528\u001b[0m                 \u001b[0;32mtry\u001b[0m\u001b[0;34m:\u001b[0m\u001b[0;34m\u001b[0m\u001b[0;34m\u001b[0m\u001b[0m\n\u001b[1;32m    529\u001b[0m                     \u001b[0mlogger\u001b[0m\u001b[0;34m.\u001b[0m\u001b[0mdebug\u001b[0m\u001b[0;34m(\u001b[0m\u001b[0;34m\"Running node '%s` with input: %s\"\u001b[0m\u001b[0;34m,\u001b[0m \u001b[0mnode_id\u001b[0m\u001b[0;34m,\u001b[0m \u001b[0mnode_input\u001b[0m\u001b[0;34m)\u001b[0m\u001b[0;34m\u001b[0m\u001b[0;34m\u001b[0m\u001b[0m\n\u001b[0;32m--> 530\u001b[0;31m                     \u001b[0mnode_output\u001b[0m\u001b[0;34m,\u001b[0m \u001b[0mstream_id\u001b[0m \u001b[0;34m=\u001b[0m \u001b[0mself\u001b[0m\u001b[0;34m.\u001b[0m\u001b[0m_run_node\u001b[0m\u001b[0;34m(\u001b[0m\u001b[0mnode_id\u001b[0m\u001b[0;34m,\u001b[0m \u001b[0mnode_input\u001b[0m\u001b[0;34m)\u001b[0m\u001b[0;34m\u001b[0m\u001b[0;34m\u001b[0m\u001b[0m\n\u001b[0m\u001b[1;32m    531\u001b[0m                 \u001b[0;32mexcept\u001b[0m \u001b[0mException\u001b[0m \u001b[0;32mas\u001b[0m \u001b[0me\u001b[0m\u001b[0;34m:\u001b[0m\u001b[0;34m\u001b[0m\u001b[0;34m\u001b[0m\u001b[0m\n\u001b[1;32m    532\u001b[0m                     \u001b[0;31m# The input might be a really large object with thousands of embeddings.\u001b[0m\u001b[0;34m\u001b[0m\u001b[0;34m\u001b[0m\u001b[0;34m\u001b[0m\u001b[0m\n",
      "\u001b[0;32m~/miniconda3/envs/relevar-busca/lib/python3.7/site-packages/haystack/pipelines/base.py\u001b[0m in \u001b[0;36m_run_node\u001b[0;34m(self, node_id, node_input)\u001b[0m\n\u001b[1;32m    455\u001b[0m \u001b[0;34m\u001b[0m\u001b[0m\n\u001b[1;32m    456\u001b[0m     \u001b[0;32mdef\u001b[0m \u001b[0m_run_node\u001b[0m\u001b[0;34m(\u001b[0m\u001b[0mself\u001b[0m\u001b[0;34m,\u001b[0m \u001b[0mnode_id\u001b[0m\u001b[0;34m:\u001b[0m \u001b[0mstr\u001b[0m\u001b[0;34m,\u001b[0m \u001b[0mnode_input\u001b[0m\u001b[0;34m:\u001b[0m \u001b[0mDict\u001b[0m\u001b[0;34m[\u001b[0m\u001b[0mstr\u001b[0m\u001b[0;34m,\u001b[0m \u001b[0mAny\u001b[0m\u001b[0;34m]\u001b[0m\u001b[0;34m)\u001b[0m \u001b[0;34m->\u001b[0m \u001b[0mTuple\u001b[0m\u001b[0;34m[\u001b[0m\u001b[0mDict\u001b[0m\u001b[0;34m,\u001b[0m \u001b[0mstr\u001b[0m\u001b[0;34m]\u001b[0m\u001b[0;34m:\u001b[0m\u001b[0;34m\u001b[0m\u001b[0;34m\u001b[0m\u001b[0m\n\u001b[0;32m--> 457\u001b[0;31m         \u001b[0;32mreturn\u001b[0m \u001b[0mself\u001b[0m\u001b[0;34m.\u001b[0m\u001b[0mgraph\u001b[0m\u001b[0;34m.\u001b[0m\u001b[0mnodes\u001b[0m\u001b[0;34m[\u001b[0m\u001b[0mnode_id\u001b[0m\u001b[0;34m]\u001b[0m\u001b[0;34m[\u001b[0m\u001b[0;34m\"component\"\u001b[0m\u001b[0;34m]\u001b[0m\u001b[0;34m.\u001b[0m\u001b[0m_dispatch_run\u001b[0m\u001b[0;34m(\u001b[0m\u001b[0;34m**\u001b[0m\u001b[0mnode_input\u001b[0m\u001b[0;34m)\u001b[0m\u001b[0;34m\u001b[0m\u001b[0;34m\u001b[0m\u001b[0m\n\u001b[0m\u001b[1;32m    458\u001b[0m \u001b[0;34m\u001b[0m\u001b[0m\n\u001b[1;32m    459\u001b[0m     def run(  # type: ignore\n",
      "\u001b[0;32m~/miniconda3/envs/relevar-busca/lib/python3.7/site-packages/haystack/nodes/base.py\u001b[0m in \u001b[0;36m_dispatch_run\u001b[0;34m(self, **kwargs)\u001b[0m\n\u001b[1;32m    199\u001b[0m         \u001b[0mmethod\u001b[0m \u001b[0;32mwith\u001b[0m \u001b[0mthe\u001b[0m \u001b[0mcorrect\u001b[0m \u001b[0mrun\u001b[0m \u001b[0mmethod\u001b[0m\u001b[0;34m.\u001b[0m\u001b[0;34m\u001b[0m\u001b[0;34m\u001b[0m\u001b[0m\n\u001b[1;32m    200\u001b[0m         \"\"\"\n\u001b[0;32m--> 201\u001b[0;31m         \u001b[0;32mreturn\u001b[0m \u001b[0mself\u001b[0m\u001b[0;34m.\u001b[0m\u001b[0m_dispatch_run_general\u001b[0m\u001b[0;34m(\u001b[0m\u001b[0mself\u001b[0m\u001b[0;34m.\u001b[0m\u001b[0mrun\u001b[0m\u001b[0;34m,\u001b[0m \u001b[0;34m**\u001b[0m\u001b[0mkwargs\u001b[0m\u001b[0;34m)\u001b[0m\u001b[0;34m\u001b[0m\u001b[0;34m\u001b[0m\u001b[0m\n\u001b[0m\u001b[1;32m    202\u001b[0m \u001b[0;34m\u001b[0m\u001b[0m\n\u001b[1;32m    203\u001b[0m     \u001b[0;32mdef\u001b[0m \u001b[0m_dispatch_run_batch\u001b[0m\u001b[0;34m(\u001b[0m\u001b[0mself\u001b[0m\u001b[0;34m,\u001b[0m \u001b[0;34m**\u001b[0m\u001b[0mkwargs\u001b[0m\u001b[0;34m)\u001b[0m\u001b[0;34m:\u001b[0m\u001b[0;34m\u001b[0m\u001b[0;34m\u001b[0m\u001b[0m\n",
      "\u001b[0;32m~/miniconda3/envs/relevar-busca/lib/python3.7/site-packages/haystack/nodes/base.py\u001b[0m in \u001b[0;36m_dispatch_run_general\u001b[0;34m(self, run_method, **kwargs)\u001b[0m\n\u001b[1;32m    243\u001b[0m                 \u001b[0mrun_inputs\u001b[0m\u001b[0;34m[\u001b[0m\u001b[0mkey\u001b[0m\u001b[0;34m]\u001b[0m \u001b[0;34m=\u001b[0m \u001b[0mvalue\u001b[0m\u001b[0;34m\u001b[0m\u001b[0;34m\u001b[0m\u001b[0m\n\u001b[1;32m    244\u001b[0m \u001b[0;34m\u001b[0m\u001b[0m\n\u001b[0;32m--> 245\u001b[0;31m         \u001b[0moutput\u001b[0m\u001b[0;34m,\u001b[0m \u001b[0mstream\u001b[0m \u001b[0;34m=\u001b[0m \u001b[0mrun_method\u001b[0m\u001b[0;34m(\u001b[0m\u001b[0;34m**\u001b[0m\u001b[0mrun_inputs\u001b[0m\u001b[0;34m,\u001b[0m \u001b[0;34m**\u001b[0m\u001b[0mrun_params\u001b[0m\u001b[0;34m)\u001b[0m\u001b[0;34m\u001b[0m\u001b[0;34m\u001b[0m\u001b[0m\n\u001b[0m\u001b[1;32m    246\u001b[0m \u001b[0;34m\u001b[0m\u001b[0m\n\u001b[1;32m    247\u001b[0m         \u001b[0;31m# Collect debug information\u001b[0m\u001b[0;34m\u001b[0m\u001b[0;34m\u001b[0m\u001b[0;34m\u001b[0m\u001b[0m\n",
      "\u001b[0;32m~/miniconda3/envs/relevar-busca/lib/python3.7/site-packages/haystack/nodes/ranker/base.py\u001b[0m in \u001b[0;36mrun\u001b[0;34m(self, query, documents, top_k)\u001b[0m\n\u001b[1;32m     37\u001b[0m         \u001b[0;32mif\u001b[0m \u001b[0mdocuments\u001b[0m\u001b[0;34m:\u001b[0m\u001b[0;34m\u001b[0m\u001b[0;34m\u001b[0m\u001b[0m\n\u001b[1;32m     38\u001b[0m             \u001b[0mpredict\u001b[0m \u001b[0;34m=\u001b[0m \u001b[0mself\u001b[0m\u001b[0;34m.\u001b[0m\u001b[0mtiming\u001b[0m\u001b[0;34m(\u001b[0m\u001b[0mself\u001b[0m\u001b[0;34m.\u001b[0m\u001b[0mpredict\u001b[0m\u001b[0;34m,\u001b[0m \u001b[0;34m\"query_time\"\u001b[0m\u001b[0;34m)\u001b[0m\u001b[0;34m\u001b[0m\u001b[0;34m\u001b[0m\u001b[0m\n\u001b[0;32m---> 39\u001b[0;31m             \u001b[0mresults\u001b[0m \u001b[0;34m=\u001b[0m \u001b[0mpredict\u001b[0m\u001b[0;34m(\u001b[0m\u001b[0mquery\u001b[0m\u001b[0;34m=\u001b[0m\u001b[0mquery\u001b[0m\u001b[0;34m,\u001b[0m \u001b[0mdocuments\u001b[0m\u001b[0;34m=\u001b[0m\u001b[0mdocuments\u001b[0m\u001b[0;34m,\u001b[0m \u001b[0mtop_k\u001b[0m\u001b[0;34m=\u001b[0m\u001b[0mtop_k\u001b[0m\u001b[0;34m)\u001b[0m\u001b[0;34m\u001b[0m\u001b[0;34m\u001b[0m\u001b[0m\n\u001b[0m\u001b[1;32m     40\u001b[0m         \u001b[0;32melse\u001b[0m\u001b[0;34m:\u001b[0m\u001b[0;34m\u001b[0m\u001b[0;34m\u001b[0m\u001b[0m\n\u001b[1;32m     41\u001b[0m             \u001b[0mresults\u001b[0m \u001b[0;34m=\u001b[0m \u001b[0;34m[\u001b[0m\u001b[0;34m]\u001b[0m\u001b[0;34m\u001b[0m\u001b[0;34m\u001b[0m\u001b[0m\n",
      "\u001b[0;32m~/miniconda3/envs/relevar-busca/lib/python3.7/site-packages/haystack/nodes/ranker/base.py\u001b[0m in \u001b[0;36mwrapper\u001b[0;34m(*args, **kwargs)\u001b[0m\n\u001b[1;32m     74\u001b[0m                 \u001b[0mself\u001b[0m\u001b[0;34m.\u001b[0m\u001b[0m__dict__\u001b[0m\u001b[0;34m[\u001b[0m\u001b[0mattr_name\u001b[0m\u001b[0;34m]\u001b[0m \u001b[0;34m=\u001b[0m \u001b[0;36m0\u001b[0m\u001b[0;34m\u001b[0m\u001b[0;34m\u001b[0m\u001b[0m\n\u001b[1;32m     75\u001b[0m             \u001b[0mtic\u001b[0m \u001b[0;34m=\u001b[0m \u001b[0mperf_counter\u001b[0m\u001b[0;34m(\u001b[0m\u001b[0;34m)\u001b[0m\u001b[0;34m\u001b[0m\u001b[0;34m\u001b[0m\u001b[0m\n\u001b[0;32m---> 76\u001b[0;31m             \u001b[0mret\u001b[0m \u001b[0;34m=\u001b[0m \u001b[0mfn\u001b[0m\u001b[0;34m(\u001b[0m\u001b[0;34m*\u001b[0m\u001b[0margs\u001b[0m\u001b[0;34m,\u001b[0m \u001b[0;34m**\u001b[0m\u001b[0mkwargs\u001b[0m\u001b[0;34m)\u001b[0m\u001b[0;34m\u001b[0m\u001b[0;34m\u001b[0m\u001b[0m\n\u001b[0m\u001b[1;32m     77\u001b[0m             \u001b[0mtoc\u001b[0m \u001b[0;34m=\u001b[0m \u001b[0mperf_counter\u001b[0m\u001b[0;34m(\u001b[0m\u001b[0;34m)\u001b[0m\u001b[0;34m\u001b[0m\u001b[0;34m\u001b[0m\u001b[0m\n\u001b[1;32m     78\u001b[0m             \u001b[0mself\u001b[0m\u001b[0;34m.\u001b[0m\u001b[0m__dict__\u001b[0m\u001b[0;34m[\u001b[0m\u001b[0mattr_name\u001b[0m\u001b[0;34m]\u001b[0m \u001b[0;34m+=\u001b[0m \u001b[0mtoc\u001b[0m \u001b[0;34m-\u001b[0m \u001b[0mtic\u001b[0m\u001b[0;34m\u001b[0m\u001b[0;34m\u001b[0m\u001b[0m\n",
      "\u001b[0;32m~/miniconda3/envs/relevar-busca/lib/python3.7/site-packages/haystack/nodes/ranker/monot5_limit.py\u001b[0m in \u001b[0;36mpredict\u001b[0;34m(self, query, documents, top_k)\u001b[0m\n\u001b[1;32m    402\u001b[0m \u001b[0;34m\u001b[0m\u001b[0m\n\u001b[1;32m    403\u001b[0m         \"\"\"Sorts a list of texts\n\u001b[0;32m--> 404\u001b[0;31m         \"\"\"\n\u001b[0m\u001b[1;32m    405\u001b[0m         \u001b[0;32mif\u001b[0m \u001b[0mtop_k\u001b[0m \u001b[0;34m==\u001b[0m \u001b[0;36m0\u001b[0m\u001b[0;34m:\u001b[0m\u001b[0;34m\u001b[0m\u001b[0;34m\u001b[0m\u001b[0m\n\u001b[1;32m    406\u001b[0m             \u001b[0;32mreturn\u001b[0m \u001b[0msorted\u001b[0m\u001b[0;34m(\u001b[0m\u001b[0mself\u001b[0m\u001b[0;34m.\u001b[0m\u001b[0mrescore\u001b[0m\u001b[0;34m(\u001b[0m\u001b[0mquery_obj\u001b[0m\u001b[0;34m,\u001b[0m \u001b[0mdocuments_limited_size\u001b[0m\u001b[0;34m)\u001b[0m\u001b[0;34m,\u001b[0m \u001b[0mkey\u001b[0m\u001b[0;34m=\u001b[0m\u001b[0;32mlambda\u001b[0m \u001b[0mx\u001b[0m\u001b[0;34m:\u001b[0m \u001b[0mx\u001b[0m\u001b[0;34m.\u001b[0m\u001b[0mscore\u001b[0m\u001b[0;34m,\u001b[0m \u001b[0mreverse\u001b[0m\u001b[0;34m=\u001b[0m\u001b[0;32mTrue\u001b[0m\u001b[0;34m)\u001b[0m\u001b[0;34m\u001b[0m\u001b[0;34m\u001b[0m\u001b[0m\n",
      "\u001b[0;32m~/miniconda3/envs/relevar-busca/lib/python3.7/site-packages/haystack/nodes/ranker/monot5_limit.py\u001b[0m in \u001b[0;36mrescore\u001b[0;34m(self, query, texts)\u001b[0m\n\u001b[1;32m    344\u001b[0m                 _, batch_scores = greedy_decode(self.transformer_model,\n\u001b[1;32m    345\u001b[0m                                                 \u001b[0minput_ids\u001b[0m\u001b[0;34m,\u001b[0m\u001b[0;34m\u001b[0m\u001b[0;34m\u001b[0m\u001b[0m\n\u001b[0;32m--> 346\u001b[0;31m                                                 \u001b[0mlength\u001b[0m\u001b[0;34m=\u001b[0m\u001b[0;36m1\u001b[0m\u001b[0;34m,\u001b[0m\u001b[0;34m\u001b[0m\u001b[0;34m\u001b[0m\u001b[0m\n\u001b[0m\u001b[1;32m    347\u001b[0m                                                 \u001b[0mattention_mask\u001b[0m\u001b[0;34m=\u001b[0m\u001b[0mattn_mask\u001b[0m\u001b[0;34m,\u001b[0m\u001b[0;34m\u001b[0m\u001b[0;34m\u001b[0m\u001b[0m\n\u001b[1;32m    348\u001b[0m                                                 return_last_logits=True)\n",
      "\u001b[0;32m~/miniconda3/envs/relevar-busca/lib/python3.7/site-packages/torch/autograd/grad_mode.py\u001b[0m in \u001b[0;36mdecorate_context\u001b[0;34m(*args, **kwargs)\u001b[0m\n\u001b[1;32m     26\u001b[0m         \u001b[0;32mdef\u001b[0m \u001b[0mdecorate_context\u001b[0m\u001b[0;34m(\u001b[0m\u001b[0;34m*\u001b[0m\u001b[0margs\u001b[0m\u001b[0;34m,\u001b[0m \u001b[0;34m**\u001b[0m\u001b[0mkwargs\u001b[0m\u001b[0;34m)\u001b[0m\u001b[0;34m:\u001b[0m\u001b[0;34m\u001b[0m\u001b[0;34m\u001b[0m\u001b[0m\n\u001b[1;32m     27\u001b[0m             \u001b[0;32mwith\u001b[0m \u001b[0mself\u001b[0m\u001b[0;34m.\u001b[0m\u001b[0m__class__\u001b[0m\u001b[0;34m(\u001b[0m\u001b[0;34m)\u001b[0m\u001b[0;34m:\u001b[0m\u001b[0;34m\u001b[0m\u001b[0;34m\u001b[0m\u001b[0m\n\u001b[0;32m---> 28\u001b[0;31m                 \u001b[0;32mreturn\u001b[0m \u001b[0mfunc\u001b[0m\u001b[0;34m(\u001b[0m\u001b[0;34m*\u001b[0m\u001b[0margs\u001b[0m\u001b[0;34m,\u001b[0m \u001b[0;34m**\u001b[0m\u001b[0mkwargs\u001b[0m\u001b[0;34m)\u001b[0m\u001b[0;34m\u001b[0m\u001b[0;34m\u001b[0m\u001b[0m\n\u001b[0m\u001b[1;32m     29\u001b[0m         \u001b[0;32mreturn\u001b[0m \u001b[0mcast\u001b[0m\u001b[0;34m(\u001b[0m\u001b[0mF\u001b[0m\u001b[0;34m,\u001b[0m \u001b[0mdecorate_context\u001b[0m\u001b[0;34m)\u001b[0m\u001b[0;34m\u001b[0m\u001b[0;34m\u001b[0m\u001b[0m\n\u001b[1;32m     30\u001b[0m \u001b[0;34m\u001b[0m\u001b[0m\n",
      "\u001b[0;32m~/miniconda3/envs/relevar-busca/lib/python3.7/site-packages/haystack/nodes/ranker/monot5_limit.py\u001b[0m in \u001b[0;36mgreedy_decode\u001b[0;34m(model, input_ids, length, attention_mask, return_last_logits)\u001b[0m\n\u001b[1;32m    179\u001b[0m             \u001b[0mattention_mask\u001b[0m\u001b[0;34m=\u001b[0m\u001b[0mattention_mask\u001b[0m\u001b[0;34m,\u001b[0m\u001b[0;34m\u001b[0m\u001b[0;34m\u001b[0m\u001b[0m\n\u001b[1;32m    180\u001b[0m             use_cache=True)\n\u001b[0;32m--> 181\u001b[0;31m         \u001b[0moutputs\u001b[0m \u001b[0;34m=\u001b[0m \u001b[0mmodel\u001b[0m\u001b[0;34m(\u001b[0m\u001b[0;34m**\u001b[0m\u001b[0mmodel_inputs\u001b[0m\u001b[0;34m)\u001b[0m  \u001b[0;31m# (batch_size, cur_len, vocab_size)\u001b[0m\u001b[0;34m\u001b[0m\u001b[0;34m\u001b[0m\u001b[0m\n\u001b[0m\u001b[1;32m    182\u001b[0m         \u001b[0mnext_token_logits\u001b[0m \u001b[0;34m=\u001b[0m \u001b[0moutputs\u001b[0m\u001b[0;34m[\u001b[0m\u001b[0;36m0\u001b[0m\u001b[0;34m]\u001b[0m\u001b[0;34m[\u001b[0m\u001b[0;34m:\u001b[0m\u001b[0;34m,\u001b[0m \u001b[0;34m-\u001b[0m\u001b[0;36m1\u001b[0m\u001b[0;34m,\u001b[0m \u001b[0;34m:\u001b[0m\u001b[0;34m]\u001b[0m  \u001b[0;31m# (batch_size, vocab_size)\u001b[0m\u001b[0;34m\u001b[0m\u001b[0;34m\u001b[0m\u001b[0m\n\u001b[1;32m    183\u001b[0m         decode_ids = torch.cat([decode_ids,\n",
      "\u001b[0;32m~/miniconda3/envs/relevar-busca/lib/python3.7/site-packages/torch/nn/modules/module.py\u001b[0m in \u001b[0;36m_call_impl\u001b[0;34m(self, *input, **kwargs)\u001b[0m\n\u001b[1;32m   1100\u001b[0m         if not (self._backward_hooks or self._forward_hooks or self._forward_pre_hooks or _global_backward_hooks\n\u001b[1;32m   1101\u001b[0m                 or _global_forward_hooks or _global_forward_pre_hooks):\n\u001b[0;32m-> 1102\u001b[0;31m             \u001b[0;32mreturn\u001b[0m \u001b[0mforward_call\u001b[0m\u001b[0;34m(\u001b[0m\u001b[0;34m*\u001b[0m\u001b[0minput\u001b[0m\u001b[0;34m,\u001b[0m \u001b[0;34m**\u001b[0m\u001b[0mkwargs\u001b[0m\u001b[0;34m)\u001b[0m\u001b[0;34m\u001b[0m\u001b[0;34m\u001b[0m\u001b[0m\n\u001b[0m\u001b[1;32m   1103\u001b[0m         \u001b[0;31m# Do not call functions when jit is used\u001b[0m\u001b[0;34m\u001b[0m\u001b[0;34m\u001b[0m\u001b[0;34m\u001b[0m\u001b[0m\n\u001b[1;32m   1104\u001b[0m         \u001b[0mfull_backward_hooks\u001b[0m\u001b[0;34m,\u001b[0m \u001b[0mnon_full_backward_hooks\u001b[0m \u001b[0;34m=\u001b[0m \u001b[0;34m[\u001b[0m\u001b[0;34m]\u001b[0m\u001b[0;34m,\u001b[0m \u001b[0;34m[\u001b[0m\u001b[0;34m]\u001b[0m\u001b[0;34m\u001b[0m\u001b[0;34m\u001b[0m\u001b[0m\n",
      "\u001b[0;32m~/miniconda3/envs/relevar-busca/lib/python3.7/site-packages/transformers/models/t5/modeling_t5.py\u001b[0m in \u001b[0;36mforward\u001b[0;34m(self, input_ids, attention_mask, decoder_input_ids, decoder_attention_mask, head_mask, decoder_head_mask, cross_attn_head_mask, encoder_outputs, past_key_values, inputs_embeds, decoder_inputs_embeds, labels, use_cache, output_attentions, output_hidden_states, return_dict)\u001b[0m\n\u001b[1;32m   1658\u001b[0m             \u001b[0moutput_attentions\u001b[0m\u001b[0;34m=\u001b[0m\u001b[0moutput_attentions\u001b[0m\u001b[0;34m,\u001b[0m\u001b[0;34m\u001b[0m\u001b[0;34m\u001b[0m\u001b[0m\n\u001b[1;32m   1659\u001b[0m             \u001b[0moutput_hidden_states\u001b[0m\u001b[0;34m=\u001b[0m\u001b[0moutput_hidden_states\u001b[0m\u001b[0;34m,\u001b[0m\u001b[0;34m\u001b[0m\u001b[0;34m\u001b[0m\u001b[0m\n\u001b[0;32m-> 1660\u001b[0;31m             \u001b[0mreturn_dict\u001b[0m\u001b[0;34m=\u001b[0m\u001b[0mreturn_dict\u001b[0m\u001b[0;34m,\u001b[0m\u001b[0;34m\u001b[0m\u001b[0;34m\u001b[0m\u001b[0m\n\u001b[0m\u001b[1;32m   1661\u001b[0m         )\n\u001b[1;32m   1662\u001b[0m \u001b[0;34m\u001b[0m\u001b[0m\n",
      "\u001b[0;32m~/miniconda3/envs/relevar-busca/lib/python3.7/site-packages/torch/nn/modules/module.py\u001b[0m in \u001b[0;36m_call_impl\u001b[0;34m(self, *input, **kwargs)\u001b[0m\n\u001b[1;32m   1100\u001b[0m         if not (self._backward_hooks or self._forward_hooks or self._forward_pre_hooks or _global_backward_hooks\n\u001b[1;32m   1101\u001b[0m                 or _global_forward_hooks or _global_forward_pre_hooks):\n\u001b[0;32m-> 1102\u001b[0;31m             \u001b[0;32mreturn\u001b[0m \u001b[0mforward_call\u001b[0m\u001b[0;34m(\u001b[0m\u001b[0;34m*\u001b[0m\u001b[0minput\u001b[0m\u001b[0;34m,\u001b[0m \u001b[0;34m**\u001b[0m\u001b[0mkwargs\u001b[0m\u001b[0;34m)\u001b[0m\u001b[0;34m\u001b[0m\u001b[0;34m\u001b[0m\u001b[0m\n\u001b[0m\u001b[1;32m   1103\u001b[0m         \u001b[0;31m# Do not call functions when jit is used\u001b[0m\u001b[0;34m\u001b[0m\u001b[0;34m\u001b[0m\u001b[0;34m\u001b[0m\u001b[0m\n\u001b[1;32m   1104\u001b[0m         \u001b[0mfull_backward_hooks\u001b[0m\u001b[0;34m,\u001b[0m \u001b[0mnon_full_backward_hooks\u001b[0m \u001b[0;34m=\u001b[0m \u001b[0;34m[\u001b[0m\u001b[0;34m]\u001b[0m\u001b[0;34m,\u001b[0m \u001b[0;34m[\u001b[0m\u001b[0;34m]\u001b[0m\u001b[0;34m\u001b[0m\u001b[0;34m\u001b[0m\u001b[0m\n",
      "\u001b[0;32m~/miniconda3/envs/relevar-busca/lib/python3.7/site-packages/transformers/models/t5/modeling_t5.py\u001b[0m in \u001b[0;36mforward\u001b[0;34m(self, input_ids, attention_mask, encoder_hidden_states, encoder_attention_mask, inputs_embeds, head_mask, cross_attn_head_mask, past_key_values, use_cache, output_attentions, output_hidden_states, return_dict)\u001b[0m\n\u001b[1;32m   1049\u001b[0m                     \u001b[0mpast_key_value\u001b[0m\u001b[0;34m=\u001b[0m\u001b[0mpast_key_value\u001b[0m\u001b[0;34m,\u001b[0m\u001b[0;34m\u001b[0m\u001b[0;34m\u001b[0m\u001b[0m\n\u001b[1;32m   1050\u001b[0m                     \u001b[0muse_cache\u001b[0m\u001b[0;34m=\u001b[0m\u001b[0muse_cache\u001b[0m\u001b[0;34m,\u001b[0m\u001b[0;34m\u001b[0m\u001b[0;34m\u001b[0m\u001b[0m\n\u001b[0;32m-> 1051\u001b[0;31m                     \u001b[0moutput_attentions\u001b[0m\u001b[0;34m=\u001b[0m\u001b[0moutput_attentions\u001b[0m\u001b[0;34m,\u001b[0m\u001b[0;34m\u001b[0m\u001b[0;34m\u001b[0m\u001b[0m\n\u001b[0m\u001b[1;32m   1052\u001b[0m                 )\n\u001b[1;32m   1053\u001b[0m \u001b[0;34m\u001b[0m\u001b[0m\n",
      "\u001b[0;32m~/miniconda3/envs/relevar-busca/lib/python3.7/site-packages/torch/nn/modules/module.py\u001b[0m in \u001b[0;36m_call_impl\u001b[0;34m(self, *input, **kwargs)\u001b[0m\n\u001b[1;32m   1100\u001b[0m         if not (self._backward_hooks or self._forward_hooks or self._forward_pre_hooks or _global_backward_hooks\n\u001b[1;32m   1101\u001b[0m                 or _global_forward_hooks or _global_forward_pre_hooks):\n\u001b[0;32m-> 1102\u001b[0;31m             \u001b[0;32mreturn\u001b[0m \u001b[0mforward_call\u001b[0m\u001b[0;34m(\u001b[0m\u001b[0;34m*\u001b[0m\u001b[0minput\u001b[0m\u001b[0;34m,\u001b[0m \u001b[0;34m**\u001b[0m\u001b[0mkwargs\u001b[0m\u001b[0;34m)\u001b[0m\u001b[0;34m\u001b[0m\u001b[0;34m\u001b[0m\u001b[0m\n\u001b[0m\u001b[1;32m   1103\u001b[0m         \u001b[0;31m# Do not call functions when jit is used\u001b[0m\u001b[0;34m\u001b[0m\u001b[0;34m\u001b[0m\u001b[0;34m\u001b[0m\u001b[0m\n\u001b[1;32m   1104\u001b[0m         \u001b[0mfull_backward_hooks\u001b[0m\u001b[0;34m,\u001b[0m \u001b[0mnon_full_backward_hooks\u001b[0m \u001b[0;34m=\u001b[0m \u001b[0;34m[\u001b[0m\u001b[0;34m]\u001b[0m\u001b[0;34m,\u001b[0m \u001b[0;34m[\u001b[0m\u001b[0;34m]\u001b[0m\u001b[0;34m\u001b[0m\u001b[0;34m\u001b[0m\u001b[0m\n",
      "\u001b[0;32m~/miniconda3/envs/relevar-busca/lib/python3.7/site-packages/transformers/models/t5/modeling_t5.py\u001b[0m in \u001b[0;36mforward\u001b[0;34m(self, hidden_states, attention_mask, position_bias, encoder_hidden_states, encoder_attention_mask, encoder_decoder_position_bias, layer_head_mask, cross_attn_layer_head_mask, past_key_value, use_cache, output_attentions, return_dict)\u001b[0m\n\u001b[1;32m    706\u001b[0m                 \u001b[0mquery_length\u001b[0m\u001b[0;34m=\u001b[0m\u001b[0mquery_length\u001b[0m\u001b[0;34m,\u001b[0m\u001b[0;34m\u001b[0m\u001b[0;34m\u001b[0m\u001b[0m\n\u001b[1;32m    707\u001b[0m                 \u001b[0muse_cache\u001b[0m\u001b[0;34m=\u001b[0m\u001b[0muse_cache\u001b[0m\u001b[0;34m,\u001b[0m\u001b[0;34m\u001b[0m\u001b[0;34m\u001b[0m\u001b[0m\n\u001b[0;32m--> 708\u001b[0;31m                 \u001b[0moutput_attentions\u001b[0m\u001b[0;34m=\u001b[0m\u001b[0moutput_attentions\u001b[0m\u001b[0;34m,\u001b[0m\u001b[0;34m\u001b[0m\u001b[0;34m\u001b[0m\u001b[0m\n\u001b[0m\u001b[1;32m    709\u001b[0m             )\n\u001b[1;32m    710\u001b[0m             \u001b[0mhidden_states\u001b[0m \u001b[0;34m=\u001b[0m \u001b[0mcross_attention_outputs\u001b[0m\u001b[0;34m[\u001b[0m\u001b[0;36m0\u001b[0m\u001b[0;34m]\u001b[0m\u001b[0;34m\u001b[0m\u001b[0;34m\u001b[0m\u001b[0m\n",
      "\u001b[0;32m~/miniconda3/envs/relevar-busca/lib/python3.7/site-packages/torch/nn/modules/module.py\u001b[0m in \u001b[0;36m_call_impl\u001b[0;34m(self, *input, **kwargs)\u001b[0m\n\u001b[1;32m   1100\u001b[0m         if not (self._backward_hooks or self._forward_hooks or self._forward_pre_hooks or _global_backward_hooks\n\u001b[1;32m   1101\u001b[0m                 or _global_forward_hooks or _global_forward_pre_hooks):\n\u001b[0;32m-> 1102\u001b[0;31m             \u001b[0;32mreturn\u001b[0m \u001b[0mforward_call\u001b[0m\u001b[0;34m(\u001b[0m\u001b[0;34m*\u001b[0m\u001b[0minput\u001b[0m\u001b[0;34m,\u001b[0m \u001b[0;34m**\u001b[0m\u001b[0mkwargs\u001b[0m\u001b[0;34m)\u001b[0m\u001b[0;34m\u001b[0m\u001b[0;34m\u001b[0m\u001b[0m\n\u001b[0m\u001b[1;32m   1103\u001b[0m         \u001b[0;31m# Do not call functions when jit is used\u001b[0m\u001b[0;34m\u001b[0m\u001b[0;34m\u001b[0m\u001b[0;34m\u001b[0m\u001b[0m\n\u001b[1;32m   1104\u001b[0m         \u001b[0mfull_backward_hooks\u001b[0m\u001b[0;34m,\u001b[0m \u001b[0mnon_full_backward_hooks\u001b[0m \u001b[0;34m=\u001b[0m \u001b[0;34m[\u001b[0m\u001b[0;34m]\u001b[0m\u001b[0;34m,\u001b[0m \u001b[0;34m[\u001b[0m\u001b[0;34m]\u001b[0m\u001b[0;34m\u001b[0m\u001b[0;34m\u001b[0m\u001b[0m\n",
      "\u001b[0;32m~/miniconda3/envs/relevar-busca/lib/python3.7/site-packages/transformers/models/t5/modeling_t5.py\u001b[0m in \u001b[0;36mforward\u001b[0;34m(self, hidden_states, key_value_states, attention_mask, position_bias, layer_head_mask, past_key_value, use_cache, query_length, output_attentions)\u001b[0m\n\u001b[1;32m    620\u001b[0m             \u001b[0muse_cache\u001b[0m\u001b[0;34m=\u001b[0m\u001b[0muse_cache\u001b[0m\u001b[0;34m,\u001b[0m\u001b[0;34m\u001b[0m\u001b[0;34m\u001b[0m\u001b[0m\n\u001b[1;32m    621\u001b[0m             \u001b[0mquery_length\u001b[0m\u001b[0;34m=\u001b[0m\u001b[0mquery_length\u001b[0m\u001b[0;34m,\u001b[0m\u001b[0;34m\u001b[0m\u001b[0;34m\u001b[0m\u001b[0m\n\u001b[0;32m--> 622\u001b[0;31m             \u001b[0moutput_attentions\u001b[0m\u001b[0;34m=\u001b[0m\u001b[0moutput_attentions\u001b[0m\u001b[0;34m,\u001b[0m\u001b[0;34m\u001b[0m\u001b[0;34m\u001b[0m\u001b[0m\n\u001b[0m\u001b[1;32m    623\u001b[0m         )\n\u001b[1;32m    624\u001b[0m         \u001b[0mlayer_output\u001b[0m \u001b[0;34m=\u001b[0m \u001b[0mhidden_states\u001b[0m \u001b[0;34m+\u001b[0m \u001b[0mself\u001b[0m\u001b[0;34m.\u001b[0m\u001b[0mdropout\u001b[0m\u001b[0;34m(\u001b[0m\u001b[0mattention_output\u001b[0m\u001b[0;34m[\u001b[0m\u001b[0;36m0\u001b[0m\u001b[0;34m]\u001b[0m\u001b[0;34m)\u001b[0m\u001b[0;34m\u001b[0m\u001b[0;34m\u001b[0m\u001b[0m\n",
      "\u001b[0;32m~/miniconda3/envs/relevar-busca/lib/python3.7/site-packages/torch/nn/modules/module.py\u001b[0m in \u001b[0;36m_call_impl\u001b[0;34m(self, *input, **kwargs)\u001b[0m\n\u001b[1;32m   1100\u001b[0m         if not (self._backward_hooks or self._forward_hooks or self._forward_pre_hooks or _global_backward_hooks\n\u001b[1;32m   1101\u001b[0m                 or _global_forward_hooks or _global_forward_pre_hooks):\n\u001b[0;32m-> 1102\u001b[0;31m             \u001b[0;32mreturn\u001b[0m \u001b[0mforward_call\u001b[0m\u001b[0;34m(\u001b[0m\u001b[0;34m*\u001b[0m\u001b[0minput\u001b[0m\u001b[0;34m,\u001b[0m \u001b[0;34m**\u001b[0m\u001b[0mkwargs\u001b[0m\u001b[0;34m)\u001b[0m\u001b[0;34m\u001b[0m\u001b[0;34m\u001b[0m\u001b[0m\n\u001b[0m\u001b[1;32m   1103\u001b[0m         \u001b[0;31m# Do not call functions when jit is used\u001b[0m\u001b[0;34m\u001b[0m\u001b[0;34m\u001b[0m\u001b[0;34m\u001b[0m\u001b[0m\n\u001b[1;32m   1104\u001b[0m         \u001b[0mfull_backward_hooks\u001b[0m\u001b[0;34m,\u001b[0m \u001b[0mnon_full_backward_hooks\u001b[0m \u001b[0;34m=\u001b[0m \u001b[0;34m[\u001b[0m\u001b[0;34m]\u001b[0m\u001b[0;34m,\u001b[0m \u001b[0;34m[\u001b[0m\u001b[0;34m]\u001b[0m\u001b[0;34m\u001b[0m\u001b[0;34m\u001b[0m\u001b[0m\n",
      "\u001b[0;32m~/miniconda3/envs/relevar-busca/lib/python3.7/site-packages/transformers/models/t5/modeling_t5.py\u001b[0m in \u001b[0;36mforward\u001b[0;34m(self, hidden_states, mask, key_value_states, position_bias, past_key_value, layer_head_mask, query_length, use_cache, output_attentions)\u001b[0m\n\u001b[1;32m    496\u001b[0m \u001b[0;34m\u001b[0m\u001b[0m\n\u001b[1;32m    497\u001b[0m         \u001b[0;31m# get query states\u001b[0m\u001b[0;34m\u001b[0m\u001b[0;34m\u001b[0m\u001b[0;34m\u001b[0m\u001b[0m\n\u001b[0;32m--> 498\u001b[0;31m         \u001b[0mquery_states\u001b[0m \u001b[0;34m=\u001b[0m \u001b[0mshape\u001b[0m\u001b[0;34m(\u001b[0m\u001b[0mself\u001b[0m\u001b[0;34m.\u001b[0m\u001b[0mq\u001b[0m\u001b[0;34m(\u001b[0m\u001b[0mhidden_states\u001b[0m\u001b[0;34m)\u001b[0m\u001b[0;34m)\u001b[0m  \u001b[0;31m# (batch_size, n_heads, seq_length, dim_per_head)\u001b[0m\u001b[0;34m\u001b[0m\u001b[0;34m\u001b[0m\u001b[0m\n\u001b[0m\u001b[1;32m    499\u001b[0m \u001b[0;34m\u001b[0m\u001b[0m\n\u001b[1;32m    500\u001b[0m         \u001b[0;31m# get key/value states\u001b[0m\u001b[0;34m\u001b[0m\u001b[0;34m\u001b[0m\u001b[0;34m\u001b[0m\u001b[0m\n",
      "\u001b[0;32m~/miniconda3/envs/relevar-busca/lib/python3.7/site-packages/torch/nn/modules/module.py\u001b[0m in \u001b[0;36m_call_impl\u001b[0;34m(self, *input, **kwargs)\u001b[0m\n\u001b[1;32m   1100\u001b[0m         if not (self._backward_hooks or self._forward_hooks or self._forward_pre_hooks or _global_backward_hooks\n\u001b[1;32m   1101\u001b[0m                 or _global_forward_hooks or _global_forward_pre_hooks):\n\u001b[0;32m-> 1102\u001b[0;31m             \u001b[0;32mreturn\u001b[0m \u001b[0mforward_call\u001b[0m\u001b[0;34m(\u001b[0m\u001b[0;34m*\u001b[0m\u001b[0minput\u001b[0m\u001b[0;34m,\u001b[0m \u001b[0;34m**\u001b[0m\u001b[0mkwargs\u001b[0m\u001b[0;34m)\u001b[0m\u001b[0;34m\u001b[0m\u001b[0;34m\u001b[0m\u001b[0m\n\u001b[0m\u001b[1;32m   1103\u001b[0m         \u001b[0;31m# Do not call functions when jit is used\u001b[0m\u001b[0;34m\u001b[0m\u001b[0;34m\u001b[0m\u001b[0;34m\u001b[0m\u001b[0m\n\u001b[1;32m   1104\u001b[0m         \u001b[0mfull_backward_hooks\u001b[0m\u001b[0;34m,\u001b[0m \u001b[0mnon_full_backward_hooks\u001b[0m \u001b[0;34m=\u001b[0m \u001b[0;34m[\u001b[0m\u001b[0;34m]\u001b[0m\u001b[0;34m,\u001b[0m \u001b[0;34m[\u001b[0m\u001b[0;34m]\u001b[0m\u001b[0;34m\u001b[0m\u001b[0;34m\u001b[0m\u001b[0m\n",
      "\u001b[0;32m~/miniconda3/envs/relevar-busca/lib/python3.7/site-packages/torch/nn/modules/linear.py\u001b[0m in \u001b[0;36mforward\u001b[0;34m(self, input)\u001b[0m\n\u001b[1;32m    101\u001b[0m \u001b[0;34m\u001b[0m\u001b[0m\n\u001b[1;32m    102\u001b[0m     \u001b[0;32mdef\u001b[0m \u001b[0mforward\u001b[0m\u001b[0;34m(\u001b[0m\u001b[0mself\u001b[0m\u001b[0;34m,\u001b[0m \u001b[0minput\u001b[0m\u001b[0;34m:\u001b[0m \u001b[0mTensor\u001b[0m\u001b[0;34m)\u001b[0m \u001b[0;34m->\u001b[0m \u001b[0mTensor\u001b[0m\u001b[0;34m:\u001b[0m\u001b[0;34m\u001b[0m\u001b[0;34m\u001b[0m\u001b[0m\n\u001b[0;32m--> 103\u001b[0;31m         \u001b[0;32mreturn\u001b[0m \u001b[0mF\u001b[0m\u001b[0;34m.\u001b[0m\u001b[0mlinear\u001b[0m\u001b[0;34m(\u001b[0m\u001b[0minput\u001b[0m\u001b[0;34m,\u001b[0m \u001b[0mself\u001b[0m\u001b[0;34m.\u001b[0m\u001b[0mweight\u001b[0m\u001b[0;34m,\u001b[0m \u001b[0mself\u001b[0m\u001b[0;34m.\u001b[0m\u001b[0mbias\u001b[0m\u001b[0;34m)\u001b[0m\u001b[0;34m\u001b[0m\u001b[0;34m\u001b[0m\u001b[0m\n\u001b[0m\u001b[1;32m    104\u001b[0m \u001b[0;34m\u001b[0m\u001b[0m\n\u001b[1;32m    105\u001b[0m     \u001b[0;32mdef\u001b[0m \u001b[0mextra_repr\u001b[0m\u001b[0;34m(\u001b[0m\u001b[0mself\u001b[0m\u001b[0;34m)\u001b[0m \u001b[0;34m->\u001b[0m \u001b[0mstr\u001b[0m\u001b[0;34m:\u001b[0m\u001b[0;34m\u001b[0m\u001b[0;34m\u001b[0m\u001b[0m\n",
      "\u001b[0;32m~/miniconda3/envs/relevar-busca/lib/python3.7/site-packages/torch/nn/functional.py\u001b[0m in \u001b[0;36mlinear\u001b[0;34m(input, weight, bias)\u001b[0m\n\u001b[1;32m   1846\u001b[0m     \u001b[0;32mif\u001b[0m \u001b[0mhas_torch_function_variadic\u001b[0m\u001b[0;34m(\u001b[0m\u001b[0minput\u001b[0m\u001b[0;34m,\u001b[0m \u001b[0mweight\u001b[0m\u001b[0;34m,\u001b[0m \u001b[0mbias\u001b[0m\u001b[0;34m)\u001b[0m\u001b[0;34m:\u001b[0m\u001b[0;34m\u001b[0m\u001b[0;34m\u001b[0m\u001b[0m\n\u001b[1;32m   1847\u001b[0m         \u001b[0;32mreturn\u001b[0m \u001b[0mhandle_torch_function\u001b[0m\u001b[0;34m(\u001b[0m\u001b[0mlinear\u001b[0m\u001b[0;34m,\u001b[0m \u001b[0;34m(\u001b[0m\u001b[0minput\u001b[0m\u001b[0;34m,\u001b[0m \u001b[0mweight\u001b[0m\u001b[0;34m,\u001b[0m \u001b[0mbias\u001b[0m\u001b[0;34m)\u001b[0m\u001b[0;34m,\u001b[0m \u001b[0minput\u001b[0m\u001b[0;34m,\u001b[0m \u001b[0mweight\u001b[0m\u001b[0;34m,\u001b[0m \u001b[0mbias\u001b[0m\u001b[0;34m=\u001b[0m\u001b[0mbias\u001b[0m\u001b[0;34m)\u001b[0m\u001b[0;34m\u001b[0m\u001b[0;34m\u001b[0m\u001b[0m\n\u001b[0;32m-> 1848\u001b[0;31m     \u001b[0;32mreturn\u001b[0m \u001b[0mtorch\u001b[0m\u001b[0;34m.\u001b[0m\u001b[0m_C\u001b[0m\u001b[0;34m.\u001b[0m\u001b[0m_nn\u001b[0m\u001b[0;34m.\u001b[0m\u001b[0mlinear\u001b[0m\u001b[0;34m(\u001b[0m\u001b[0minput\u001b[0m\u001b[0;34m,\u001b[0m \u001b[0mweight\u001b[0m\u001b[0;34m,\u001b[0m \u001b[0mbias\u001b[0m\u001b[0;34m)\u001b[0m\u001b[0;34m\u001b[0m\u001b[0;34m\u001b[0m\u001b[0m\n\u001b[0m\u001b[1;32m   1849\u001b[0m \u001b[0;34m\u001b[0m\u001b[0m\n\u001b[1;32m   1850\u001b[0m \u001b[0;34m\u001b[0m\u001b[0m\n",
      "\u001b[0;31mKeyboardInterrupt\u001b[0m: "
     ]
    }
   ],
   "source": [
    "%%time\n",
    "# colocar pequeno só para testes, depois voltar para 9999999 (número maior do que o número de termos a pesquisar)\n",
    "limit_query = 100 # 9999999\n",
    "for cnt, experiment in enumerate(list_experiment):\n",
    "    if not experiment['DONE']:\n",
    "        list_result_experiment = [] # por experiment\n",
    "        # no caso de normas segecex, bastaria 224 para qtd5 e 891 para qtd1\n",
    "        print(f\"==={cnt}/{len(list_experiment)}===>  {time.strftime('%Y-%b-%d %H:%M:%S')} experiment: {experiment}\")\n",
    "        result_run = util_search.experiment_run(parm_df=df_search_data, \n",
    "                                                parm_experiment=experiment,\n",
    "                                                parm_ndcg_position=12,\n",
    "                                                parm_limit_query=limit_query,\n",
    "                                                parm_print=True)\n",
    "        list_result_experiment.append(result_run)\n",
    "        # print(f\"qtd_encontrado sim:{result_run['qtd_encontrado']}, não:{result_run['qtd_nao_encontrado']} ({result_run['percent_nao_encontrado']}%)\")\n",
    "        experiment['DONE'] = True\n",
    "        util_search.add_experiment_result(parm_list_result=list_result_experiment, parm_dataset='juris_tcu_index')\n",
    "\n"
   ]
  },
  {
   "attachments": {},
   "cell_type": "markdown",
   "metadata": {},
   "source": [
    "## Rodar monoT5_3b join pipe "
   ]
  },
  {
   "cell_type": "code",
   "execution_count": null,
   "metadata": {},
   "outputs": [
    {
     "data": {
      "text/plain": [
       "[{'PIPE_NAME': 'pipe_join_ranker_monot5_3b',\n",
       "  'PIPE_OBJECT': <haystack.pipelines.base.Pipeline at 0x7fb44f0d1610>,\n",
       "  'RETRIEVER_TYPE': 'join',\n",
       "  'RETRIEVER_MODEL_NAME': 'rufimelo/Legal-BERTimbau-sts-large-ma-v3',\n",
       "  'RANKER_MODEL_NAME': '/home/borela/fontes/relevar-busca/modelo/unicamp-dl/mt5-3B-mmarco-en-pt'}]"
      ]
     },
     "execution_count": 44,
     "metadata": {},
     "output_type": "execute_result"
    }
   ],
   "source": [
    "pipes"
   ]
  },
  {
   "cell_type": "code",
   "execution_count": null,
   "metadata": {},
   "outputs": [],
   "source": [
    "grid_experiment = {'CRITERIA' : ['total'],\n",
    "             'TOPK_RETRIEVER' : [100],\n",
    "             'TOPK_RANKER' : [100],\n",
    "             'PIPE': pipes,\n",
    "             'DONE': [False]\n",
    "}"
   ]
  },
  {
   "cell_type": "code",
   "execution_count": null,
   "metadata": {},
   "outputs": [],
   "source": [
    "list_experiment = [dict(zip(grid_experiment.keys(), values)) for values in product(*grid_experiment.values())]\n"
   ]
  },
  {
   "cell_type": "code",
   "execution_count": null,
   "metadata": {},
   "outputs": [
    {
     "name": "stdout",
     "output_type": "stream",
     "text": [
      "1\n"
     ]
    },
    {
     "data": {
      "text/plain": [
       "71"
      ]
     },
     "execution_count": 50,
     "metadata": {},
     "output_type": "execute_result"
    }
   ],
   "source": [
    "print(len(list_experiment))\n",
    "gc.collect()"
   ]
  },
  {
   "cell_type": "code",
   "execution_count": null,
   "metadata": {},
   "outputs": [
    {
     "data": {
      "text/plain": [
       "[{'CRITERIA': 'total',\n",
       "  'TOPK_RETRIEVER': 100,\n",
       "  'TOPK_RANKER': 100,\n",
       "  'PIPE': {'PIPE_NAME': 'pipe_join_ranker_monot5_3b',\n",
       "   'PIPE_OBJECT': <haystack.pipelines.base.Pipeline at 0x7fb44f0d1610>,\n",
       "   'RETRIEVER_TYPE': 'join',\n",
       "   'RETRIEVER_MODEL_NAME': 'rufimelo/Legal-BERTimbau-sts-large-ma-v3',\n",
       "   'RANKER_MODEL_NAME': '/home/borela/fontes/relevar-busca/modelo/unicamp-dl/mt5-3B-mmarco-en-pt'},\n",
       "  'DONE': False}]"
      ]
     },
     "execution_count": 52,
     "metadata": {},
     "output_type": "execute_result"
    }
   ],
   "source": [
    "list_experiment"
   ]
  },
  {
   "cell_type": "code",
   "execution_count": null,
   "metadata": {},
   "outputs": [
    {
     "data": {
      "text/plain": [
       "<module 'util.util_search' from '/home/borela/fontes/ind-ir/code/util/util_search.py'>"
      ]
     },
     "execution_count": 56,
     "metadata": {},
     "output_type": "execute_result"
    }
   ],
   "source": [
    "import importlib\n",
    "importlib.reload(util_search)"
   ]
  },
  {
   "cell_type": "code",
   "execution_count": null,
   "metadata": {},
   "outputs": [
    {
     "name": "stdout",
     "output_type": "stream",
     "text": [
      "===0/1===>  2023-Jun-16 13:17:25 experiment: {'CRITERIA': 'total', 'TOPK_RETRIEVER': 100, 'TOPK_RANKER': 100, 'PIPE': {'PIPE_NAME': 'pipe_join_ranker_monot5_3b', 'PIPE_OBJECT': <haystack.pipelines.base.Pipeline object at 0x7fb44f0d1610>, 'RETRIEVER_TYPE': 'join', 'RETRIEVER_MODEL_NAME': 'rufimelo/Legal-BERTimbau-sts-large-ma-v3', 'RANKER_MODEL_NAME': '/home/borela/fontes/relevar-busca/modelo/unicamp-dl/mt5-3B-mmarco-en-pt'}, 'DONE': False}\n"
     ]
    },
    {
     "name": "stderr",
     "output_type": "stream",
     "text": [
      " 99%|█████████▉| 99/100 [40:30<00:24, 24.55s/it]\n"
     ]
    },
    {
     "name": "stdout",
     "output_type": "stream",
     "text": [
      "RANK1_MEAN: 7.5\n",
      "NDCG_MEAN: 37.202\n",
      "TIME_SPENT_MEAN: 24.303\n",
      "CPU times: user 23min 2s, sys: 17min 9s, total: 40min 12s\n",
      "Wall time: 40min 30s\n"
     ]
    }
   ],
   "source": [
    "%%time\n",
    "# colocar pequeno só para testes, depois voltar para 9999999 (número maior do que o número de termos a pesquisar)\n",
    "limit_query = 100 # 9999999\n",
    "for cnt, experiment in enumerate(list_experiment):\n",
    "    if not experiment['DONE']:\n",
    "        list_result_experiment = [] # por experiment\n",
    "        # no caso de normas segecex, bastaria 224 para qtd5 e 891 para qtd1\n",
    "        print(f\"==={cnt}/{len(list_experiment)}===>  {time.strftime('%Y-%b-%d %H:%M:%S')} experiment: {experiment}\")\n",
    "        result_run = util_search.experiment_run(parm_df=df_search_data, \n",
    "                                                parm_experiment=experiment,\n",
    "                                                parm_ndcg_position=12,\n",
    "                                                parm_limit_query=limit_query,\n",
    "                                                parm_print=True)\n",
    "        list_result_experiment.append(result_run)\n",
    "        # print(f\"qtd_encontrado sim:{result_run['qtd_encontrado']}, não:{result_run['qtd_nao_encontrado']} ({result_run['percent_nao_encontrado']}%)\")\n",
    "        experiment['DONE'] = True\n",
    "        util_search.add_experiment_result(parm_list_result=list_result_experiment, parm_dataset='juris_tcu_index')\n",
    "\n"
   ]
  },
  {
   "cell_type": "code",
   "execution_count": null,
   "metadata": {},
   "outputs": [],
   "source": []
  },
  {
   "attachments": {},
   "cell_type": "markdown",
   "metadata": {},
   "source": [
    "## Rodar monoT5_3b: bm25 com mais tokens positivas e negativas"
   ]
  },
  {
   "attachments": {},
   "cell_type": "markdown",
   "metadata": {},
   "source": [
    "### topk_ranker 100"
   ]
  },
  {
   "cell_type": "code",
   "execution_count": null,
   "metadata": {},
   "outputs": [
    {
     "data": {
      "text/plain": [
       "[{'PIPE_NAME': 'pipe_bm25_ranker_monot5_3b',\n",
       "  'PIPE_OBJECT': <haystack.pipelines.base.Pipeline at 0x7fe8f7cef650>,\n",
       "  'RETRIEVER_TYPE': 'bm25',\n",
       "  'RETRIEVER_MODEL_NAME': '',\n",
       "  'RANKER_MODEL_NAME': 'unicamp-dl/mt5-3B-mmarco-en-pt-tokens-extra'}]"
      ]
     },
     "execution_count": 44,
     "metadata": {},
     "output_type": "execute_result"
    }
   ],
   "source": [
    "pipes"
   ]
  },
  {
   "cell_type": "code",
   "execution_count": null,
   "metadata": {},
   "outputs": [],
   "source": [
    "grid_experiment = {'CRITERIA' : ['total'],\n",
    "             'TOPK_RETRIEVER' : [100],\n",
    "             'TOPK_RANKER' : [0],\n",
    "             'PIPE': pipes,\n",
    "             'DONE': [False]\n",
    "}"
   ]
  },
  {
   "cell_type": "code",
   "execution_count": null,
   "metadata": {},
   "outputs": [],
   "source": [
    "list_experiment = [dict(zip(grid_experiment.keys(), values)) for values in product(*grid_experiment.values())]\n"
   ]
  },
  {
   "cell_type": "code",
   "execution_count": null,
   "metadata": {},
   "outputs": [
    {
     "name": "stdout",
     "output_type": "stream",
     "text": [
      "1\n"
     ]
    },
    {
     "data": {
      "text/plain": [
       "100"
      ]
     },
     "execution_count": 47,
     "metadata": {},
     "output_type": "execute_result"
    }
   ],
   "source": [
    "print(len(list_experiment))\n",
    "gc.collect()"
   ]
  },
  {
   "cell_type": "code",
   "execution_count": null,
   "metadata": {},
   "outputs": [
    {
     "name": "stdout",
     "output_type": "stream",
     "text": [
      "dict_idcg_relevance_fixed {1: 1.0, 2: 1.6309297535714575, 3: 2.1309297535714578, 4: 2.5616063116448506, 5: 2.9484591188793923, 6: 3.3046663059874146, 7: 3.637999639320748, 8: 3.953464516106477, 9: 4.254494511770458, 10: 4.543559338088346, 11: 4.8225022837394755, 12: 5.092740438166795, 13: 5.355389973203989, 14: 5.611347998013804}\n"
     ]
    },
    {
     "data": {
      "text/plain": [
       "<module 'util.util_search' from '/home/borela/fontes/ind-ir/code/util/util_search.py'>"
      ]
     },
     "metadata": {},
     "output_type": "display_data"
    }
   ],
   "source": [
    "import importlib\n",
    "importlib.reload(util_search)"
   ]
  },
  {
   "cell_type": "code",
   "execution_count": null,
   "metadata": {},
   "outputs": [
    {
     "name": "stdout",
     "output_type": "stream",
     "text": [
      "===0/1===>  2023-Jun-15 13:18:57 experiment: {'CRITERIA': 'total', 'TOPK_RETRIEVER': 100, 'TOPK_RANKER': 100, 'PIPE': {'PIPE_NAME': 'pipe_bm25_ranker_monot5_3b', 'PIPE_OBJECT': <haystack.pipelines.base.Pipeline object at 0x7fe8f7cef650>, 'RETRIEVER_TYPE': 'bm25', 'RETRIEVER_MODEL_NAME': '', 'RANKER_MODEL_NAME': 'unicamp-dl/mt5-3B-mmarco-en-pt-tokens-extra'}, 'DONE': False}\n"
     ]
    },
    {
     "name": "stderr",
     "output_type": "stream",
     "text": [
      " 99%|█████████▉| 99/100 [11:33<00:07,  7.01s/it]\n"
     ]
    },
    {
     "name": "stdout",
     "output_type": "stream",
     "text": [
      "RANK1_MEAN: 6.99\n",
      "NDCG_MEAN: 30.581\n",
      "TIME_SPENT_MEAN: 6.936\n",
      "CPU times: user 6min 49s, sys: 4min 33s, total: 11min 22s\n",
      "Wall time: 11min 33s\n"
     ]
    }
   ],
   "source": [
    "%%time\n",
    "# colocar pequeno só para testes, depois voltar para 9999999 (número maior do que o número de termos a pesquisar)\n",
    "limit_query = 100 # 9999999\n",
    "for cnt, experiment in enumerate(list_experiment):\n",
    "    if not experiment['DONE']:\n",
    "        list_result_experiment = [] # por experiment\n",
    "        # no caso de normas segecex, bastaria 224 para qtd5 e 891 para qtd1\n",
    "        print(f\"==={cnt}/{len(list_experiment)}===>  {time.strftime('%Y-%b-%d %H:%M:%S')} experiment: {experiment}\")\n",
    "        result_run = util_search.experiment_run(parm_df=df_search_data, \n",
    "                                                parm_experiment=experiment,\n",
    "                                                parm_ndcg_position=12,\n",
    "                                                parm_limit_query=limit_query,\n",
    "                                                parm_print=True)\n",
    "        list_result_experiment.append(result_run)\n",
    "        # print(f\"qtd_encontrado sim:{result_run['qtd_encontrado']}, não:{result_run['qtd_nao_encontrado']} ({result_run['percent_nao_encontrado']}%)\")\n",
    "        experiment['DONE'] = True\n",
    "        util_search.add_experiment_result(parm_list_result=list_result_experiment, parm_dataset='juris_tcu_index')\n",
    "\n"
   ]
  },
  {
   "attachments": {},
   "cell_type": "markdown",
   "metadata": {},
   "source": [
    "## Rodar monoT5_3b: bm25 com mais tokens positivas"
   ]
  },
  {
   "attachments": {},
   "cell_type": "markdown",
   "metadata": {},
   "source": [
    "### topk_ranker 100"
   ]
  },
  {
   "cell_type": "code",
   "execution_count": null,
   "metadata": {},
   "outputs": [
    {
     "data": {
      "text/plain": [
       "[{'PIPE_NAME': 'pipe_bm25_ranker_monot5_3b',\n",
       "  'PIPE_OBJECT': <haystack.pipelines.base.Pipeline at 0x7f94008b4390>,\n",
       "  'RETRIEVER_TYPE': 'bm25',\n",
       "  'RETRIEVER_MODEL_NAME': '',\n",
       "  'RANKER_MODEL_NAME': 'unicamp-dl/mt5-3B-mmarco-en-pt-3tokens-yes'}]"
      ]
     },
     "execution_count": 50,
     "metadata": {},
     "output_type": "execute_result"
    }
   ],
   "source": [
    "pipes"
   ]
  },
  {
   "cell_type": "code",
   "execution_count": null,
   "metadata": {},
   "outputs": [],
   "source": [
    "grid_experiment = {'CRITERIA' : ['total'],\n",
    "             'TOPK_RETRIEVER' : [100],\n",
    "             'TOPK_RANKER' : [100],\n",
    "             'PIPE': pipes,\n",
    "             'DONE': [False]\n",
    "}"
   ]
  },
  {
   "cell_type": "code",
   "execution_count": null,
   "metadata": {},
   "outputs": [],
   "source": [
    "list_experiment = [dict(zip(grid_experiment.keys(), values)) for values in product(*grid_experiment.values())]\n"
   ]
  },
  {
   "cell_type": "code",
   "execution_count": null,
   "metadata": {},
   "outputs": [
    {
     "name": "stdout",
     "output_type": "stream",
     "text": [
      "1\n"
     ]
    },
    {
     "data": {
      "text/plain": [
       "79"
      ]
     },
     "execution_count": 54,
     "metadata": {},
     "output_type": "execute_result"
    }
   ],
   "source": [
    "print(len(list_experiment))\n",
    "gc.collect()"
   ]
  },
  {
   "cell_type": "code",
   "execution_count": null,
   "metadata": {},
   "outputs": [
    {
     "name": "stdout",
     "output_type": "stream",
     "text": [
      "dict_idcg_relevance_fixed {1: 1.0, 2: 1.6309297535714575, 3: 2.1309297535714578, 4: 2.5616063116448506, 5: 2.9484591188793923, 6: 3.3046663059874146, 7: 3.637999639320748, 8: 3.953464516106477, 9: 4.254494511770458, 10: 4.543559338088346, 11: 4.8225022837394755, 12: 5.092740438166795, 13: 5.355389973203989, 14: 5.611347998013804}\n"
     ]
    },
    {
     "data": {
      "text/plain": [
       "<module 'util.util_search' from '/home/borela/fontes/ind-ir/code/util/util_search.py'>"
      ]
     },
     "metadata": {},
     "output_type": "display_data"
    }
   ],
   "source": [
    "import importlib\n",
    "importlib.reload(util_search)"
   ]
  },
  {
   "cell_type": "code",
   "execution_count": null,
   "metadata": {},
   "outputs": [
    {
     "name": "stdout",
     "output_type": "stream",
     "text": [
      "===0/1===>  2023-Jun-14 15:21:36 experiment: {'CRITERIA': 'total', 'TOPK_RETRIEVER': 100, 'TOPK_RANKER': 100, 'PIPE': {'PIPE_NAME': 'pipe_bm25_ranker_monot5_3b', 'PIPE_OBJECT': <haystack.pipelines.base.Pipeline object at 0x7f94008b4390>, 'RETRIEVER_TYPE': 'bm25', 'RETRIEVER_MODEL_NAME': '', 'RANKER_MODEL_NAME': 'unicamp-dl/mt5-3B-mmarco-en-pt-3tokens-yes'}, 'DONE': False}\n"
     ]
    },
    {
     "name": "stderr",
     "output_type": "stream",
     "text": [
      " 99%|█████████▉| 99/100 [11:45<00:07,  7.13s/it]\n"
     ]
    },
    {
     "name": "stdout",
     "output_type": "stream",
     "text": [
      "RANK1_MEAN: 8.6\n",
      "NDCG_MEAN: 27.555\n",
      "TIME_SPENT_MEAN: 7.057\n",
      "CPU times: user 6min 43s, sys: 4min 48s, total: 11min 31s\n",
      "Wall time: 11min 46s\n"
     ]
    }
   ],
   "source": [
    "%%time\n",
    "# colocar pequeno só para testes, depois voltar para 9999999 (número maior do que o número de termos a pesquisar)\n",
    "limit_query = 100 # 9999999\n",
    "for cnt, experiment in enumerate(list_experiment):\n",
    "    if not experiment['DONE']:\n",
    "        list_result_experiment = [] # por experiment\n",
    "        # no caso de normas segecex, bastaria 224 para qtd5 e 891 para qtd1\n",
    "        print(f\"==={cnt}/{len(list_experiment)}===>  {time.strftime('%Y-%b-%d %H:%M:%S')} experiment: {experiment}\")\n",
    "        result_run = util_search.experiment_run(parm_df=df_search_data, \n",
    "                                                parm_experiment=experiment,\n",
    "                                                parm_ndcg_position=12,\n",
    "                                                parm_limit_query=limit_query,\n",
    "                                                parm_print=True)\n",
    "        list_result_experiment.append(result_run)\n",
    "        # print(f\"qtd_encontrado sim:{result_run['qtd_encontrado']}, não:{result_run['qtd_nao_encontrado']} ({result_run['percent_nao_encontrado']}%)\")\n",
    "        experiment['DONE'] = True\n",
    "        util_search.add_experiment_result(parm_list_result=list_result_experiment, parm_dataset='juris_tcu_index')\n",
    "\n"
   ]
  },
  {
   "attachments": {},
   "cell_type": "markdown",
   "metadata": {},
   "source": [
    "## Rodar monoT5_3b: bm25"
   ]
  },
  {
   "attachments": {},
   "cell_type": "markdown",
   "metadata": {},
   "source": [
    "### topk_ranker 100"
   ]
  },
  {
   "cell_type": "code",
   "execution_count": null,
   "metadata": {},
   "outputs": [
    {
     "data": {
      "text/plain": [
       "[{'PIPE_NAME': 'pipe_bm25_ranker_monot5_3b',\n",
       "  'PIPE_OBJECT': <haystack.pipelines.base.Pipeline at 0x7fd807582b50>,\n",
       "  'RETRIEVER_TYPE': 'bm25',\n",
       "  'RETRIEVER_MODEL_NAME': '',\n",
       "  'RANKER_MODEL_NAME': 'unicamp-dl/mt5-3B-mmarco-en-pt'}]"
      ]
     },
     "execution_count": 40,
     "metadata": {},
     "output_type": "execute_result"
    }
   ],
   "source": [
    "pipes"
   ]
  },
  {
   "cell_type": "code",
   "execution_count": null,
   "metadata": {},
   "outputs": [],
   "source": [
    "grid_experiment = {'CRITERIA' : ['total', 'total_gte_5'],\n",
    "             'TOPK_RETRIEVER' : [300, 200, 100],\n",
    "             'TOPK_RANKER' : [100],\n",
    "             'PIPE': pipes,\n",
    "             'DONE': [False]\n",
    "}"
   ]
  },
  {
   "cell_type": "code",
   "execution_count": null,
   "metadata": {},
   "outputs": [],
   "source": [
    "list_experiment = [dict(zip(grid_experiment.keys(), values)) for values in product(*grid_experiment.values())]\n"
   ]
  },
  {
   "cell_type": "code",
   "execution_count": null,
   "metadata": {},
   "outputs": [
    {
     "name": "stdout",
     "output_type": "stream",
     "text": [
      "6\n"
     ]
    },
    {
     "data": {
      "text/plain": [
       "103"
      ]
     },
     "execution_count": 84,
     "metadata": {},
     "output_type": "execute_result"
    }
   ],
   "source": [
    "print(len(list_experiment))\n",
    "gc.collect()"
   ]
  },
  {
   "cell_type": "code",
   "execution_count": null,
   "metadata": {},
   "outputs": [
    {
     "name": "stdout",
     "output_type": "stream",
     "text": [
      "dict_idcg_relevance_fixed {1: 1.0, 2: 1.6309297535714575, 3: 2.1309297535714578, 4: 2.5616063116448506, 5: 2.9484591188793923, 6: 3.3046663059874146, 7: 3.637999639320748, 8: 3.953464516106477, 9: 4.254494511770458, 10: 4.543559338088346, 11: 4.8225022837394755, 12: 5.092740438166795, 13: 5.355389973203989, 14: 5.611347998013804}\n"
     ]
    },
    {
     "data": {
      "text/plain": [
       "<module 'util.util_search' from '/home/borela/fontes/ind-ir/code/util/util_search.py'>"
      ]
     },
     "execution_count": 87,
     "metadata": {},
     "output_type": "execute_result"
    }
   ],
   "source": [
    "import importlib\n",
    "importlib.reload(util_search)"
   ]
  },
  {
   "cell_type": "code",
   "execution_count": null,
   "metadata": {},
   "outputs": [
    {
     "name": "stdout",
     "output_type": "stream",
     "text": [
      "===0/6===>  2023-Jun-11 19:44:36 experiment: {'CRITERIA': 'total', 'TOPK_RETRIEVER': 300, 'TOPK_RANKER': 100, 'PIPE': {'PIPE_NAME': 'pipe_bm25_ranker_monot5_3b', 'PIPE_OBJECT': <haystack.pipelines.base.Pipeline object at 0x7fd807582b50>, 'RETRIEVER_TYPE': 'bm25', 'RETRIEVER_MODEL_NAME': '', 'RANKER_MODEL_NAME': 'unicamp-dl/mt5-3B-mmarco-en-pt'}, 'DONE': False}\n"
     ]
    },
    {
     "name": "stderr",
     "output_type": "stream",
     "text": [
      " 99%|█████████▉| 99/100 [35:03<00:21, 21.25s/it]\n"
     ]
    },
    {
     "name": "stdout",
     "output_type": "stream",
     "text": [
      "RANK1_MEAN: 4.1\n",
      "NDCG_MEAN: 39.937\n",
      "TIME_SPENT_MEAN: 21.039\n",
      "===1/6===>  2023-Jun-11 20:19:40 experiment: {'CRITERIA': 'total', 'TOPK_RETRIEVER': 200, 'TOPK_RANKER': 100, 'PIPE': {'PIPE_NAME': 'pipe_bm25_ranker_monot5_3b', 'PIPE_OBJECT': <haystack.pipelines.base.Pipeline object at 0x7fd807582b50>, 'RETRIEVER_TYPE': 'bm25', 'RETRIEVER_MODEL_NAME': '', 'RANKER_MODEL_NAME': 'unicamp-dl/mt5-3B-mmarco-en-pt'}, 'DONE': False}\n"
     ]
    },
    {
     "name": "stderr",
     "output_type": "stream",
     "text": [
      " 99%|█████████▉| 99/100 [23:58<00:14, 14.53s/it]\n"
     ]
    },
    {
     "name": "stdout",
     "output_type": "stream",
     "text": [
      "RANK1_MEAN: 3.52\n",
      "NDCG_MEAN: 38.97\n",
      "TIME_SPENT_MEAN: 14.389\n",
      "===2/6===>  2023-Jun-11 20:43:39 experiment: {'CRITERIA': 'total', 'TOPK_RETRIEVER': 100, 'TOPK_RANKER': 100, 'PIPE': {'PIPE_NAME': 'pipe_bm25_ranker_monot5_3b', 'PIPE_OBJECT': <haystack.pipelines.base.Pipeline object at 0x7fd807582b50>, 'RETRIEVER_TYPE': 'bm25', 'RETRIEVER_MODEL_NAME': '', 'RANKER_MODEL_NAME': 'unicamp-dl/mt5-3B-mmarco-en-pt'}, 'DONE': False}\n"
     ]
    },
    {
     "name": "stderr",
     "output_type": "stream",
     "text": [
      " 99%|█████████▉| 99/100 [12:00<00:07,  7.28s/it]\n"
     ]
    },
    {
     "name": "stdout",
     "output_type": "stream",
     "text": [
      "RANK1_MEAN: 2.87\n",
      "NDCG_MEAN: 38.851\n",
      "TIME_SPENT_MEAN: 7.206\n",
      "===3/6===>  2023-Jun-11 20:55:40 experiment: {'CRITERIA': 'total_gte_5', 'TOPK_RETRIEVER': 300, 'TOPK_RANKER': 100, 'PIPE': {'PIPE_NAME': 'pipe_bm25_ranker_monot5_3b', 'PIPE_OBJECT': <haystack.pipelines.base.Pipeline object at 0x7fd807582b50>, 'RETRIEVER_TYPE': 'bm25', 'RETRIEVER_MODEL_NAME': '', 'RANKER_MODEL_NAME': 'unicamp-dl/mt5-3B-mmarco-en-pt'}, 'DONE': False}\n"
     ]
    },
    {
     "name": "stderr",
     "output_type": "stream",
     "text": [
      " 99%|█████████▉| 99/100 [35:48<00:21, 21.70s/it]\n"
     ]
    },
    {
     "name": "stdout",
     "output_type": "stream",
     "text": [
      "RANK1_MEAN: 3.16\n",
      "NDCG_MEAN: 39.915\n",
      "TIME_SPENT_MEAN: 21.487\n",
      "===4/6===>  2023-Jun-11 21:31:28 experiment: {'CRITERIA': 'total_gte_5', 'TOPK_RETRIEVER': 200, 'TOPK_RANKER': 100, 'PIPE': {'PIPE_NAME': 'pipe_bm25_ranker_monot5_3b', 'PIPE_OBJECT': <haystack.pipelines.base.Pipeline object at 0x7fd807582b50>, 'RETRIEVER_TYPE': 'bm25', 'RETRIEVER_MODEL_NAME': '', 'RANKER_MODEL_NAME': 'unicamp-dl/mt5-3B-mmarco-en-pt'}, 'DONE': False}\n"
     ]
    },
    {
     "name": "stderr",
     "output_type": "stream",
     "text": [
      " 99%|█████████▉| 99/100 [24:01<00:14, 14.56s/it]\n"
     ]
    },
    {
     "name": "stdout",
     "output_type": "stream",
     "text": [
      "RANK1_MEAN: 2.81\n",
      "NDCG_MEAN: 40.249\n",
      "TIME_SPENT_MEAN: 14.419\n",
      "===5/6===>  2023-Jun-11 21:55:31 experiment: {'CRITERIA': 'total_gte_5', 'TOPK_RETRIEVER': 100, 'TOPK_RANKER': 100, 'PIPE': {'PIPE_NAME': 'pipe_bm25_ranker_monot5_3b', 'PIPE_OBJECT': <haystack.pipelines.base.Pipeline object at 0x7fd807582b50>, 'RETRIEVER_TYPE': 'bm25', 'RETRIEVER_MODEL_NAME': '', 'RANKER_MODEL_NAME': 'unicamp-dl/mt5-3B-mmarco-en-pt'}, 'DONE': False}\n"
     ]
    },
    {
     "name": "stderr",
     "output_type": "stream",
     "text": [
      " 99%|█████████▉| 99/100 [12:06<00:07,  7.33s/it]"
     ]
    },
    {
     "name": "stdout",
     "output_type": "stream",
     "text": [
      "RANK1_MEAN: 2.82\n",
      "NDCG_MEAN: 39.205\n",
      "TIME_SPENT_MEAN: 7.26\n",
      "CPU times: user 1h 26min 8s, sys: 55min 59s, total: 2h 22min 7s\n",
      "Wall time: 2h 23min 1s\n"
     ]
    },
    {
     "name": "stderr",
     "output_type": "stream",
     "text": [
      "\n"
     ]
    }
   ],
   "source": [
    "%%time\n",
    "# colocar pequeno só para testes, depois voltar para 9999999 (número maior do que o número de termos a pesquisar)\n",
    "limit_query = 100 # 9999999\n",
    "for cnt, experiment in enumerate(list_experiment):\n",
    "    if not experiment['DONE']:\n",
    "        list_result_experiment = [] # por experiment\n",
    "        # no caso de normas segecex, bastaria 224 para qtd5 e 891 para qtd1\n",
    "        print(f\"==={cnt}/{len(list_experiment)}===>  {time.strftime('%Y-%b-%d %H:%M:%S')} experiment: {experiment}\")\n",
    "        result_run = util_search.experiment_run(parm_df=df_search_data, \n",
    "                                                parm_experiment=experiment,\n",
    "                                                parm_ndcg_position=12,\n",
    "                                                parm_limit_query=limit_query,\n",
    "                                                parm_print=True)\n",
    "        list_result_experiment.append(result_run)\n",
    "        # print(f\"qtd_encontrado sim:{result_run['qtd_encontrado']}, não:{result_run['qtd_nao_encontrado']} ({result_run['percent_nao_encontrado']}%)\")\n",
    "        experiment['DONE'] = True\n",
    "        util_search.add_experiment_result(parm_list_result=list_result_experiment, parm_dataset='juris_tcu_index')\n",
    "\n"
   ]
  },
  {
   "attachments": {},
   "cell_type": "markdown",
   "metadata": {},
   "source": [
    "### topk_ranker 50"
   ]
  },
  {
   "cell_type": "code",
   "execution_count": null,
   "metadata": {},
   "outputs": [
    {
     "data": {
      "text/plain": [
       "[{'PIPE_NAME': 'pipe_bm25_ranker_monot5_3b',\n",
       "  'PIPE_OBJECT': <haystack.pipelines.base.Pipeline at 0x7f3ff38305d0>,\n",
       "  'RETRIEVER_TYPE': 'bm25',\n",
       "  'RETRIEVER_MODEL_NAME': '',\n",
       "  'RANKER_MODEL_NAME': 'unicamp-dl/mt5-3B-mmarco-en-pt'}]"
      ]
     },
     "execution_count": 42,
     "metadata": {},
     "output_type": "execute_result"
    }
   ],
   "source": [
    "pipes"
   ]
  },
  {
   "cell_type": "code",
   "execution_count": null,
   "metadata": {},
   "outputs": [],
   "source": [
    "grid_experiment = {\n",
    "             'CRITERIA' : ['total', 'total_gte_5'],\n",
    "             'TOPK_RETRIEVER' : [400, 300, 200, 100],\n",
    "             'TOPK_RANKER' : [50],\n",
    "             'DONE': [False],\n",
    "             'PIPE': pipes,\n",
    "}"
   ]
  },
  {
   "cell_type": "code",
   "execution_count": null,
   "metadata": {},
   "outputs": [],
   "source": [
    "list_experiment = [dict(zip(grid_experiment.keys(), values)) for values in product(*grid_experiment.values())]\n"
   ]
  },
  {
   "cell_type": "code",
   "execution_count": null,
   "metadata": {},
   "outputs": [
    {
     "name": "stdout",
     "output_type": "stream",
     "text": [
      "8\n"
     ]
    },
    {
     "data": {
      "text/plain": [
       "114"
      ]
     },
     "execution_count": 46,
     "metadata": {},
     "output_type": "execute_result"
    }
   ],
   "source": [
    "print(len(list_experiment))\n",
    "gc.collect()"
   ]
  },
  {
   "cell_type": "code",
   "execution_count": null,
   "metadata": {},
   "outputs": [
    {
     "name": "stdout",
     "output_type": "stream",
     "text": [
      "dict_idcg_relevance_fixed {1: 1.0, 2: 1.6309297535714575, 3: 2.1309297535714578, 4: 2.5616063116448506, 5: 2.9484591188793923, 6: 3.3046663059874146, 7: 3.637999639320748, 8: 3.953464516106477, 9: 4.254494511770458, 10: 4.543559338088346, 11: 4.8225022837394755, 12: 5.092740438166795, 13: 5.355389973203989, 14: 5.611347998013804}\n"
     ]
    },
    {
     "data": {
      "text/plain": [
       "<module 'util.util_search' from '/home/borela/fontes/ind-ir/code/util/util_search.py'>"
      ]
     },
     "metadata": {},
     "output_type": "display_data"
    }
   ],
   "source": [
    "import importlib\n",
    "importlib.reload(util_search)"
   ]
  },
  {
   "cell_type": "code",
   "execution_count": null,
   "metadata": {},
   "outputs": [
    {
     "name": "stdout",
     "output_type": "stream",
     "text": [
      "===0/8===>  2023-Jun-12 11:37:50 experiment: {'CRITERIA': 'total', 'TOPK_RETRIEVER': 400, 'TOPK_RANKER': 50, 'DONE': False, 'PIPE': {'PIPE_NAME': 'pipe_bm25_ranker_monot5_3b', 'PIPE_OBJECT': <haystack.pipelines.base.Pipeline object at 0x7f3ff38305d0>, 'RETRIEVER_TYPE': 'bm25', 'RETRIEVER_MODEL_NAME': '', 'RANKER_MODEL_NAME': 'unicamp-dl/mt5-3B-mmarco-en-pt'}}\n"
     ]
    },
    {
     "name": "stderr",
     "output_type": "stream",
     "text": [
      " 99%|█████████▉| 99/100 [46:28<00:28, 28.17s/it]\n"
     ]
    },
    {
     "name": "stdout",
     "output_type": "stream",
     "text": [
      "RANK1_MEAN: 3.57\n",
      "NDCG_MEAN: 39.843\n",
      "TIME_SPENT_MEAN: 27.889\n",
      "===1/8===>  2023-Jun-12 12:24:19 experiment: {'CRITERIA': 'total', 'TOPK_RETRIEVER': 300, 'TOPK_RANKER': 50, 'DONE': False, 'PIPE': {'PIPE_NAME': 'pipe_bm25_ranker_monot5_3b', 'PIPE_OBJECT': <haystack.pipelines.base.Pipeline object at 0x7f3ff38305d0>, 'RETRIEVER_TYPE': 'bm25', 'RETRIEVER_MODEL_NAME': '', 'RANKER_MODEL_NAME': 'unicamp-dl/mt5-3B-mmarco-en-pt'}}\n"
     ]
    },
    {
     "name": "stderr",
     "output_type": "stream",
     "text": [
      " 99%|█████████▉| 99/100 [35:27<00:21, 21.49s/it]\n"
     ]
    },
    {
     "name": "stdout",
     "output_type": "stream",
     "text": [
      "RANK1_MEAN: 4.1\n",
      "NDCG_MEAN: 39.937\n",
      "TIME_SPENT_MEAN: 21.274\n",
      "===2/8===>  2023-Jun-12 12:59:47 experiment: {'CRITERIA': 'total', 'TOPK_RETRIEVER': 200, 'TOPK_RANKER': 50, 'DONE': False, 'PIPE': {'PIPE_NAME': 'pipe_bm25_ranker_monot5_3b', 'PIPE_OBJECT': <haystack.pipelines.base.Pipeline object at 0x7f3ff38305d0>, 'RETRIEVER_TYPE': 'bm25', 'RETRIEVER_MODEL_NAME': '', 'RANKER_MODEL_NAME': 'unicamp-dl/mt5-3B-mmarco-en-pt'}}\n"
     ]
    },
    {
     "name": "stderr",
     "output_type": "stream",
     "text": [
      " 99%|█████████▉| 99/100 [23:48<00:14, 14.43s/it]\n"
     ]
    },
    {
     "name": "stdout",
     "output_type": "stream",
     "text": [
      "RANK1_MEAN: 3.52\n",
      "NDCG_MEAN: 38.97\n",
      "TIME_SPENT_MEAN: 14.286\n",
      "===3/8===>  2023-Jun-12 13:23:36 experiment: {'CRITERIA': 'total', 'TOPK_RETRIEVER': 100, 'TOPK_RANKER': 50, 'DONE': False, 'PIPE': {'PIPE_NAME': 'pipe_bm25_ranker_monot5_3b', 'PIPE_OBJECT': <haystack.pipelines.base.Pipeline object at 0x7f3ff38305d0>, 'RETRIEVER_TYPE': 'bm25', 'RETRIEVER_MODEL_NAME': '', 'RANKER_MODEL_NAME': 'unicamp-dl/mt5-3B-mmarco-en-pt'}}\n"
     ]
    },
    {
     "name": "stderr",
     "output_type": "stream",
     "text": [
      " 99%|█████████▉| 99/100 [11:57<00:07,  7.24s/it]\n"
     ]
    },
    {
     "name": "stdout",
     "output_type": "stream",
     "text": [
      "RANK1_MEAN: 2.87\n",
      "NDCG_MEAN: 38.851\n",
      "TIME_SPENT_MEAN: 7.172\n",
      "===4/8===>  2023-Jun-12 13:35:33 experiment: {'CRITERIA': 'total_gte_5', 'TOPK_RETRIEVER': 400, 'TOPK_RANKER': 50, 'DONE': False, 'PIPE': {'PIPE_NAME': 'pipe_bm25_ranker_monot5_3b', 'PIPE_OBJECT': <haystack.pipelines.base.Pipeline object at 0x7f3ff38305d0>, 'RETRIEVER_TYPE': 'bm25', 'RETRIEVER_MODEL_NAME': '', 'RANKER_MODEL_NAME': 'unicamp-dl/mt5-3B-mmarco-en-pt'}}\n"
     ]
    },
    {
     "name": "stderr",
     "output_type": "stream",
     "text": [
      " 99%|█████████▉| 99/100 [47:07<00:28, 28.56s/it]\n"
     ]
    },
    {
     "name": "stdout",
     "output_type": "stream",
     "text": [
      "RANK1_MEAN: 3.6\n",
      "NDCG_MEAN: 39.936\n",
      "TIME_SPENT_MEAN: 28.278\n",
      "===5/8===>  2023-Jun-12 14:22:41 experiment: {'CRITERIA': 'total_gte_5', 'TOPK_RETRIEVER': 300, 'TOPK_RANKER': 50, 'DONE': False, 'PIPE': {'PIPE_NAME': 'pipe_bm25_ranker_monot5_3b', 'PIPE_OBJECT': <haystack.pipelines.base.Pipeline object at 0x7f3ff38305d0>, 'RETRIEVER_TYPE': 'bm25', 'RETRIEVER_MODEL_NAME': '', 'RANKER_MODEL_NAME': 'unicamp-dl/mt5-3B-mmarco-en-pt'}}\n"
     ]
    },
    {
     "name": "stderr",
     "output_type": "stream",
     "text": [
      " 99%|█████████▉| 99/100 [35:29<00:21, 21.51s/it]\n"
     ]
    },
    {
     "name": "stdout",
     "output_type": "stream",
     "text": [
      "RANK1_MEAN: 3.16\n",
      "NDCG_MEAN: 39.915\n",
      "TIME_SPENT_MEAN: 21.299\n",
      "===6/8===>  2023-Jun-12 14:58:12 experiment: {'CRITERIA': 'total_gte_5', 'TOPK_RETRIEVER': 200, 'TOPK_RANKER': 50, 'DONE': False, 'PIPE': {'PIPE_NAME': 'pipe_bm25_ranker_monot5_3b', 'PIPE_OBJECT': <haystack.pipelines.base.Pipeline object at 0x7f3ff38305d0>, 'RETRIEVER_TYPE': 'bm25', 'RETRIEVER_MODEL_NAME': '', 'RANKER_MODEL_NAME': 'unicamp-dl/mt5-3B-mmarco-en-pt'}}\n"
     ]
    },
    {
     "name": "stderr",
     "output_type": "stream",
     "text": [
      " 99%|█████████▉| 99/100 [23:48<00:14, 14.43s/it]\n"
     ]
    },
    {
     "name": "stdout",
     "output_type": "stream",
     "text": [
      "RANK1_MEAN: 2.81\n",
      "NDCG_MEAN: 40.249\n",
      "TIME_SPENT_MEAN: 14.283\n",
      "===7/8===>  2023-Jun-12 15:22:00 experiment: {'CRITERIA': 'total_gte_5', 'TOPK_RETRIEVER': 100, 'TOPK_RANKER': 50, 'DONE': False, 'PIPE': {'PIPE_NAME': 'pipe_bm25_ranker_monot5_3b', 'PIPE_OBJECT': <haystack.pipelines.base.Pipeline object at 0x7f3ff38305d0>, 'RETRIEVER_TYPE': 'bm25', 'RETRIEVER_MODEL_NAME': '', 'RANKER_MODEL_NAME': 'unicamp-dl/mt5-3B-mmarco-en-pt'}}\n"
     ]
    },
    {
     "name": "stderr",
     "output_type": "stream",
     "text": [
      " 99%|█████████▉| 99/100 [11:59<00:07,  7.27s/it]\n"
     ]
    },
    {
     "name": "stdout",
     "output_type": "stream",
     "text": [
      "RANK1_MEAN: 2.82\n",
      "NDCG_MEAN: 39.205\n",
      "TIME_SPENT_MEAN: 7.197\n",
      "CPU times: user 2h 20min 58s, sys: 1h 33min 51s, total: 3h 54min 50s\n",
      "Wall time: 3h 56min 9s\n"
     ]
    }
   ],
   "source": [
    "%%time\n",
    "# colocar pequeno só para testes, depois voltar para 9999999 (número maior do que o número de termos a pesquisar)\n",
    "limit_query = 100 # 9999999\n",
    "for cnt, experiment in enumerate(list_experiment):\n",
    "    if not experiment['DONE']:\n",
    "        list_result_experiment = [] # por experiment\n",
    "        # no caso de normas segecex, bastaria 224 para qtd5 e 891 para qtd1\n",
    "        print(f\"==={cnt}/{len(list_experiment)}===>  {time.strftime('%Y-%b-%d %H:%M:%S')} experiment: {experiment}\")\n",
    "        result_run = util_search.experiment_run(parm_df=df_search_data, \n",
    "                                                parm_experiment=experiment,\n",
    "                                                parm_ndcg_position=12,\n",
    "                                                parm_limit_query=limit_query,\n",
    "                                                parm_print=True)\n",
    "        list_result_experiment.append(result_run)\n",
    "        # print(f\"qtd_encontrado sim:{result_run['qtd_encontrado']}, não:{result_run['qtd_nao_encontrado']} ({result_run['percent_nao_encontrado']}%)\")\n",
    "        experiment['DONE'] = True\n",
    "        util_search.add_experiment_result(parm_list_result=list_result_experiment, parm_dataset='juris_tcu_index')\n",
    "\n"
   ]
  },
  {
   "attachments": {},
   "cell_type": "markdown",
   "metadata": {},
   "source": [
    "## Rodar mono5-3b:sts"
   ]
  },
  {
   "attachments": {},
   "cell_type": "markdown",
   "metadata": {},
   "source": [
    "### topk_ranker 100"
   ]
  },
  {
   "cell_type": "code",
   "execution_count": null,
   "metadata": {},
   "outputs": [
    {
     "data": {
      "text/plain": [
       "[{'PIPE_NAME': 'pipe_sts_ranker_monot5_3b',\n",
       "  'PIPE_OBJECT': <haystack.pipelines.base.Pipeline at 0x7f45196091d0>,\n",
       "  'RETRIEVER_TYPE': 'sts',\n",
       "  'RETRIEVER_MODEL_NAME': 'rufimelo/Legal-BERTimbau-sts-large-ma-v3',\n",
       "  'RANKER_MODEL_NAME': 'unicamp-dl/mt5-3B-mmarco-en-pt'}]"
      ]
     },
     "execution_count": 44,
     "metadata": {},
     "output_type": "execute_result"
    }
   ],
   "source": [
    "pipes"
   ]
  },
  {
   "cell_type": "code",
   "execution_count": null,
   "metadata": {},
   "outputs": [],
   "source": [
    "grid_experiment = {'CRITERIA' : ['total', 'total_gte_5'],\n",
    "             'TOPK_RETRIEVER' : [300, 200, 100],\n",
    "             'TOPK_RANKER' : [100],\n",
    "             'PIPE': pipes,\n",
    "             'DONE': [False]\n",
    "}"
   ]
  },
  {
   "cell_type": "code",
   "execution_count": null,
   "metadata": {},
   "outputs": [],
   "source": [
    "list_experiment = [dict(zip(grid_experiment.keys(), values)) for values in product(*grid_experiment.values())]\n"
   ]
  },
  {
   "cell_type": "code",
   "execution_count": null,
   "metadata": {},
   "outputs": [
    {
     "name": "stdout",
     "output_type": "stream",
     "text": [
      "6\n"
     ]
    },
    {
     "data": {
      "text/plain": [
       "110"
      ]
     },
     "execution_count": 47,
     "metadata": {},
     "output_type": "execute_result"
    }
   ],
   "source": [
    "print(len(list_experiment))\n",
    "gc.collect()"
   ]
  },
  {
   "cell_type": "code",
   "execution_count": null,
   "metadata": {},
   "outputs": [
    {
     "name": "stdout",
     "output_type": "stream",
     "text": [
      "dict_idcg_relevance_fixed {1: 1.0, 2: 1.6309297535714575, 3: 2.1309297535714578, 4: 2.5616063116448506, 5: 2.9484591188793923, 6: 3.3046663059874146, 7: 3.637999639320748, 8: 3.953464516106477, 9: 4.254494511770458, 10: 4.543559338088346, 11: 4.8225022837394755, 12: 5.092740438166795, 13: 5.355389973203989, 14: 5.611347998013804}\n"
     ]
    },
    {
     "data": {
      "text/plain": [
       "<module 'util.util_search' from '/home/borela/fontes/ind-ir/code/util/util_search.py'>"
      ]
     },
     "execution_count": 49,
     "metadata": {},
     "output_type": "execute_result"
    }
   ],
   "source": [
    "import importlib\n",
    "importlib.reload(util_search)"
   ]
  },
  {
   "cell_type": "code",
   "execution_count": null,
   "metadata": {},
   "outputs": [
    {
     "name": "stdout",
     "output_type": "stream",
     "text": [
      "===0/6===>  2023-Jun-12 07:11:01 experiment: {'CRITERIA': 'total', 'TOPK_RETRIEVER': 300, 'TOPK_RANKER': 100, 'PIPE': {'PIPE_NAME': 'pipe_sts_ranker_monot5_3b', 'PIPE_OBJECT': <haystack.pipelines.base.Pipeline object at 0x7f45196091d0>, 'RETRIEVER_TYPE': 'sts', 'RETRIEVER_MODEL_NAME': 'rufimelo/Legal-BERTimbau-sts-large-ma-v3', 'RANKER_MODEL_NAME': 'unicamp-dl/mt5-3B-mmarco-en-pt'}, 'DONE': False}\n"
     ]
    },
    {
     "name": "stderr",
     "output_type": "stream",
     "text": [
      " 99%|█████████▉| 99/100 [33:37<00:20, 20.38s/it]\n"
     ]
    },
    {
     "name": "stdout",
     "output_type": "stream",
     "text": [
      "RANK1_MEAN: 3.81\n",
      "NDCG_MEAN: 36.022\n",
      "TIME_SPENT_MEAN: 20.177\n",
      "===1/6===>  2023-Jun-12 07:44:39 experiment: {'CRITERIA': 'total', 'TOPK_RETRIEVER': 200, 'TOPK_RANKER': 100, 'PIPE': {'PIPE_NAME': 'pipe_sts_ranker_monot5_3b', 'PIPE_OBJECT': <haystack.pipelines.base.Pipeline object at 0x7f45196091d0>, 'RETRIEVER_TYPE': 'sts', 'RETRIEVER_MODEL_NAME': 'rufimelo/Legal-BERTimbau-sts-large-ma-v3', 'RANKER_MODEL_NAME': 'unicamp-dl/mt5-3B-mmarco-en-pt'}, 'DONE': False}\n"
     ]
    },
    {
     "name": "stderr",
     "output_type": "stream",
     "text": [
      " 99%|█████████▉| 99/100 [23:00<00:13, 13.94s/it]\n"
     ]
    },
    {
     "name": "stdout",
     "output_type": "stream",
     "text": [
      "RANK1_MEAN: 3.859\n",
      "NDCG_MEAN: 35.575\n",
      "TIME_SPENT_MEAN: 13.801\n",
      "===2/6===>  2023-Jun-12 08:07:39 experiment: {'CRITERIA': 'total', 'TOPK_RETRIEVER': 100, 'TOPK_RANKER': 100, 'PIPE': {'PIPE_NAME': 'pipe_sts_ranker_monot5_3b', 'PIPE_OBJECT': <haystack.pipelines.base.Pipeline object at 0x7f45196091d0>, 'RETRIEVER_TYPE': 'sts', 'RETRIEVER_MODEL_NAME': 'rufimelo/Legal-BERTimbau-sts-large-ma-v3', 'RANKER_MODEL_NAME': 'unicamp-dl/mt5-3B-mmarco-en-pt'}, 'DONE': False}\n"
     ]
    },
    {
     "name": "stderr",
     "output_type": "stream",
     "text": [
      " 99%|█████████▉| 99/100 [11:39<00:07,  7.07s/it]\n"
     ]
    },
    {
     "name": "stdout",
     "output_type": "stream",
     "text": [
      "RANK1_MEAN: 3.547\n",
      "NDCG_MEAN: 32.427\n",
      "TIME_SPENT_MEAN: 6.998\n",
      "===3/6===>  2023-Jun-12 08:19:19 experiment: {'CRITERIA': 'total_gte_5', 'TOPK_RETRIEVER': 300, 'TOPK_RANKER': 100, 'PIPE': {'PIPE_NAME': 'pipe_sts_ranker_monot5_3b', 'PIPE_OBJECT': <haystack.pipelines.base.Pipeline object at 0x7f45196091d0>, 'RETRIEVER_TYPE': 'sts', 'RETRIEVER_MODEL_NAME': 'rufimelo/Legal-BERTimbau-sts-large-ma-v3', 'RANKER_MODEL_NAME': 'unicamp-dl/mt5-3B-mmarco-en-pt'}, 'DONE': False}\n"
     ]
    },
    {
     "name": "stderr",
     "output_type": "stream",
     "text": [
      " 99%|█████████▉| 99/100 [34:37<00:20, 20.98s/it]\n"
     ]
    },
    {
     "name": "stdout",
     "output_type": "stream",
     "text": [
      "RANK1_MEAN: 3.54\n",
      "NDCG_MEAN: 36.67\n",
      "TIME_SPENT_MEAN: 20.773\n",
      "===4/6===>  2023-Jun-12 08:53:57 experiment: {'CRITERIA': 'total_gte_5', 'TOPK_RETRIEVER': 200, 'TOPK_RANKER': 100, 'PIPE': {'PIPE_NAME': 'pipe_sts_ranker_monot5_3b', 'PIPE_OBJECT': <haystack.pipelines.base.Pipeline object at 0x7f45196091d0>, 'RETRIEVER_TYPE': 'sts', 'RETRIEVER_MODEL_NAME': 'rufimelo/Legal-BERTimbau-sts-large-ma-v3', 'RANKER_MODEL_NAME': 'unicamp-dl/mt5-3B-mmarco-en-pt'}, 'DONE': False}\n"
     ]
    },
    {
     "name": "stderr",
     "output_type": "stream",
     "text": [
      " 99%|█████████▉| 99/100 [23:14<00:14, 14.09s/it]\n"
     ]
    },
    {
     "name": "stdout",
     "output_type": "stream",
     "text": [
      "RANK1_MEAN: 3.33\n",
      "NDCG_MEAN: 36.033\n",
      "TIME_SPENT_MEAN: 13.947\n",
      "===5/6===>  2023-Jun-12 09:17:11 experiment: {'CRITERIA': 'total_gte_5', 'TOPK_RETRIEVER': 100, 'TOPK_RANKER': 100, 'PIPE': {'PIPE_NAME': 'pipe_sts_ranker_monot5_3b', 'PIPE_OBJECT': <haystack.pipelines.base.Pipeline object at 0x7f45196091d0>, 'RETRIEVER_TYPE': 'sts', 'RETRIEVER_MODEL_NAME': 'rufimelo/Legal-BERTimbau-sts-large-ma-v3', 'RANKER_MODEL_NAME': 'unicamp-dl/mt5-3B-mmarco-en-pt'}, 'DONE': False}\n"
     ]
    },
    {
     "name": "stderr",
     "output_type": "stream",
     "text": [
      " 99%|█████████▉| 99/100 [11:45<00:07,  7.12s/it]"
     ]
    },
    {
     "name": "stdout",
     "output_type": "stream",
     "text": [
      "RANK1_MEAN: 2.646\n",
      "NDCG_MEAN: 35.36\n",
      "TIME_SPENT_MEAN: 7.05\n",
      "CPU times: user 1h 19min 45s, sys: 57min 19s, total: 2h 17min 5s\n",
      "Wall time: 2h 17min 55s\n"
     ]
    },
    {
     "name": "stderr",
     "output_type": "stream",
     "text": [
      "\n"
     ]
    }
   ],
   "source": [
    "%%time\n",
    "# colocar pequeno só para testes, depois voltar para 9999999 (número maior do que o número de termos a pesquisar)\n",
    "limit_query = 100 # 9999999\n",
    "for cnt, experiment in enumerate(list_experiment):\n",
    "    if not experiment['DONE']:\n",
    "        list_result_experiment = [] # por experiment\n",
    "        # no caso de normas segecex, bastaria 224 para qtd5 e 891 para qtd1\n",
    "        print(f\"==={cnt}/{len(list_experiment)}===>  {time.strftime('%Y-%b-%d %H:%M:%S')} experiment: {experiment}\")\n",
    "        result_run = util_search.experiment_run(parm_df=df_search_data, \n",
    "                                                parm_experiment=experiment,\n",
    "                                                parm_ndcg_position=12,\n",
    "                                                parm_limit_query=limit_query,\n",
    "                                                parm_print=True)\n",
    "        list_result_experiment.append(result_run)\n",
    "        # print(f\"qtd_encontrado sim:{result_run['qtd_encontrado']}, não:{result_run['qtd_nao_encontrado']} ({result_run['percent_nao_encontrado']}%)\")\n",
    "        experiment['DONE'] = True\n",
    "        util_search.add_experiment_result(parm_list_result=list_result_experiment, parm_dataset='juris_tcu_index')\n",
    "\n"
   ]
  },
  {
   "attachments": {},
   "cell_type": "markdown",
   "metadata": {},
   "source": [
    "### topk_ranker 50"
   ]
  },
  {
   "cell_type": "code",
   "execution_count": null,
   "metadata": {},
   "outputs": [
    {
     "data": {
      "text/plain": [
       "[{'PIPE_NAME': 'pipe_sts_ranker_monot5_3b',\n",
       "  'PIPE_OBJECT': <haystack.pipelines.base.Pipeline at 0x7f9037d80290>,\n",
       "  'RETRIEVER_TYPE': 'sts',\n",
       "  'RETRIEVER_MODEL_NAME': 'rufimelo/Legal-BERTimbau-sts-large-ma-v3',\n",
       "  'RANKER_MODEL_NAME': 'unicamp-dl/mt5-3B-mmarco-en-pt'}]"
      ]
     },
     "execution_count": 45,
     "metadata": {},
     "output_type": "execute_result"
    }
   ],
   "source": [
    "pipes"
   ]
  },
  {
   "cell_type": "code",
   "execution_count": null,
   "metadata": {},
   "outputs": [],
   "source": [
    "grid_experiment = {\n",
    "             'CRITERIA' : ['total', 'total_gte_5'],\n",
    "             'TOPK_RETRIEVER' : [400, 300, 200, 100],\n",
    "             'TOPK_RANKER' : [50],\n",
    "             'DONE': [False],\n",
    "             'PIPE': pipes,\n",
    "}"
   ]
  },
  {
   "cell_type": "code",
   "execution_count": null,
   "metadata": {},
   "outputs": [],
   "source": [
    "list_experiment = [dict(zip(grid_experiment.keys(), values)) for values in product(*grid_experiment.values())]\n"
   ]
  },
  {
   "cell_type": "code",
   "execution_count": null,
   "metadata": {},
   "outputs": [
    {
     "name": "stdout",
     "output_type": "stream",
     "text": [
      "8\n"
     ]
    },
    {
     "data": {
      "text/plain": [
       "101"
      ]
     },
     "execution_count": 48,
     "metadata": {},
     "output_type": "execute_result"
    }
   ],
   "source": [
    "print(len(list_experiment))\n",
    "gc.collect()"
   ]
  },
  {
   "cell_type": "code",
   "execution_count": null,
   "metadata": {},
   "outputs": [
    {
     "name": "stdout",
     "output_type": "stream",
     "text": [
      "dict_idcg_relevance_fixed {1: 1.0, 2: 1.6309297535714575, 3: 2.1309297535714578, 4: 2.5616063116448506, 5: 2.9484591188793923, 6: 3.3046663059874146, 7: 3.637999639320748, 8: 3.953464516106477, 9: 4.254494511770458, 10: 4.543559338088346, 11: 4.8225022837394755, 12: 5.092740438166795, 13: 5.355389973203989, 14: 5.611347998013804}\n"
     ]
    },
    {
     "data": {
      "text/plain": [
       "<module 'util.util_search' from '/home/borela/fontes/ind-ir/code/util/util_search.py'>"
      ]
     },
     "metadata": {},
     "output_type": "display_data"
    }
   ],
   "source": [
    "import importlib\n",
    "importlib.reload(util_search)"
   ]
  },
  {
   "cell_type": "code",
   "execution_count": null,
   "metadata": {},
   "outputs": [
    {
     "name": "stdout",
     "output_type": "stream",
     "text": [
      "===0/8===>  2023-Jun-12 17:05:59 experiment: {'CRITERIA': 'total', 'TOPK_RETRIEVER': 400, 'TOPK_RANKER': 50, 'DONE': False, 'PIPE': {'PIPE_NAME': 'pipe_sts_ranker_monot5_3b', 'PIPE_OBJECT': <haystack.pipelines.base.Pipeline object at 0x7f9037d80290>, 'RETRIEVER_TYPE': 'sts', 'RETRIEVER_MODEL_NAME': 'rufimelo/Legal-BERTimbau-sts-large-ma-v3', 'RANKER_MODEL_NAME': 'unicamp-dl/mt5-3B-mmarco-en-pt'}}\n"
     ]
    },
    {
     "name": "stderr",
     "output_type": "stream",
     "text": [
      " 99%|█████████▉| 99/100 [44:46<00:27, 27.13s/it]\n"
     ]
    },
    {
     "name": "stdout",
     "output_type": "stream",
     "text": [
      "RANK1_MEAN: 3.87\n",
      "NDCG_MEAN: 36.152\n",
      "TIME_SPENT_MEAN: 26.863\n",
      "===1/8===>  2023-Jun-12 17:50:46 experiment: {'CRITERIA': 'total', 'TOPK_RETRIEVER': 300, 'TOPK_RANKER': 50, 'DONE': False, 'PIPE': {'PIPE_NAME': 'pipe_sts_ranker_monot5_3b', 'PIPE_OBJECT': <haystack.pipelines.base.Pipeline object at 0x7f9037d80290>, 'RETRIEVER_TYPE': 'sts', 'RETRIEVER_MODEL_NAME': 'rufimelo/Legal-BERTimbau-sts-large-ma-v3', 'RANKER_MODEL_NAME': 'unicamp-dl/mt5-3B-mmarco-en-pt'}}\n"
     ]
    },
    {
     "name": "stderr",
     "output_type": "stream",
     "text": [
      " 99%|█████████▉| 99/100 [34:07<00:20, 20.68s/it]\n"
     ]
    },
    {
     "name": "stdout",
     "output_type": "stream",
     "text": [
      "RANK1_MEAN: 3.81\n",
      "NDCG_MEAN: 36.022\n",
      "TIME_SPENT_MEAN: 20.474\n",
      "===2/8===>  2023-Jun-12 18:24:53 experiment: {'CRITERIA': 'total', 'TOPK_RETRIEVER': 200, 'TOPK_RANKER': 50, 'DONE': False, 'PIPE': {'PIPE_NAME': 'pipe_sts_ranker_monot5_3b', 'PIPE_OBJECT': <haystack.pipelines.base.Pipeline object at 0x7f9037d80290>, 'RETRIEVER_TYPE': 'sts', 'RETRIEVER_MODEL_NAME': 'rufimelo/Legal-BERTimbau-sts-large-ma-v3', 'RANKER_MODEL_NAME': 'unicamp-dl/mt5-3B-mmarco-en-pt'}}\n"
     ]
    },
    {
     "name": "stderr",
     "output_type": "stream",
     "text": [
      " 99%|█████████▉| 99/100 [22:53<00:13, 13.88s/it]\n"
     ]
    },
    {
     "name": "stdout",
     "output_type": "stream",
     "text": [
      "RANK1_MEAN: 3.859\n",
      "NDCG_MEAN: 35.575\n",
      "TIME_SPENT_MEAN: 13.738\n",
      "===3/8===>  2023-Jun-12 18:47:48 experiment: {'CRITERIA': 'total', 'TOPK_RETRIEVER': 100, 'TOPK_RANKER': 50, 'DONE': False, 'PIPE': {'PIPE_NAME': 'pipe_sts_ranker_monot5_3b', 'PIPE_OBJECT': <haystack.pipelines.base.Pipeline object at 0x7f9037d80290>, 'RETRIEVER_TYPE': 'sts', 'RETRIEVER_MODEL_NAME': 'rufimelo/Legal-BERTimbau-sts-large-ma-v3', 'RANKER_MODEL_NAME': 'unicamp-dl/mt5-3B-mmarco-en-pt'}}\n"
     ]
    },
    {
     "name": "stderr",
     "output_type": "stream",
     "text": [
      " 99%|█████████▉| 99/100 [11:35<00:07,  7.02s/it]\n"
     ]
    },
    {
     "name": "stdout",
     "output_type": "stream",
     "text": [
      "RANK1_MEAN: 3.547\n",
      "NDCG_MEAN: 32.427\n",
      "TIME_SPENT_MEAN: 6.953\n",
      "===4/8===>  2023-Jun-12 18:59:23 experiment: {'CRITERIA': 'total_gte_5', 'TOPK_RETRIEVER': 400, 'TOPK_RANKER': 50, 'DONE': False, 'PIPE': {'PIPE_NAME': 'pipe_sts_ranker_monot5_3b', 'PIPE_OBJECT': <haystack.pipelines.base.Pipeline object at 0x7f9037d80290>, 'RETRIEVER_TYPE': 'sts', 'RETRIEVER_MODEL_NAME': 'rufimelo/Legal-BERTimbau-sts-large-ma-v3', 'RANKER_MODEL_NAME': 'unicamp-dl/mt5-3B-mmarco-en-pt'}}\n"
     ]
    },
    {
     "name": "stderr",
     "output_type": "stream",
     "text": [
      " 99%|█████████▉| 99/100 [45:39<00:27, 27.67s/it]\n"
     ]
    },
    {
     "name": "stdout",
     "output_type": "stream",
     "text": [
      "RANK1_MEAN: 4.25\n",
      "NDCG_MEAN: 35.842\n",
      "TIME_SPENT_MEAN: 27.392\n",
      "===5/8===>  2023-Jun-12 19:45:03 experiment: {'CRITERIA': 'total_gte_5', 'TOPK_RETRIEVER': 300, 'TOPK_RANKER': 50, 'DONE': False, 'PIPE': {'PIPE_NAME': 'pipe_sts_ranker_monot5_3b', 'PIPE_OBJECT': <haystack.pipelines.base.Pipeline object at 0x7f9037d80290>, 'RETRIEVER_TYPE': 'sts', 'RETRIEVER_MODEL_NAME': 'rufimelo/Legal-BERTimbau-sts-large-ma-v3', 'RANKER_MODEL_NAME': 'unicamp-dl/mt5-3B-mmarco-en-pt'}}\n"
     ]
    },
    {
     "name": "stderr",
     "output_type": "stream",
     "text": [
      " 99%|█████████▉| 99/100 [34:37<00:20, 20.98s/it]\n"
     ]
    },
    {
     "name": "stdout",
     "output_type": "stream",
     "text": [
      "RANK1_MEAN: 3.54\n",
      "NDCG_MEAN: 36.67\n",
      "TIME_SPENT_MEAN: 20.772\n",
      "===6/8===>  2023-Jun-12 20:19:40 experiment: {'CRITERIA': 'total_gte_5', 'TOPK_RETRIEVER': 200, 'TOPK_RANKER': 50, 'DONE': False, 'PIPE': {'PIPE_NAME': 'pipe_sts_ranker_monot5_3b', 'PIPE_OBJECT': <haystack.pipelines.base.Pipeline object at 0x7f9037d80290>, 'RETRIEVER_TYPE': 'sts', 'RETRIEVER_MODEL_NAME': 'rufimelo/Legal-BERTimbau-sts-large-ma-v3', 'RANKER_MODEL_NAME': 'unicamp-dl/mt5-3B-mmarco-en-pt'}}\n"
     ]
    },
    {
     "name": "stderr",
     "output_type": "stream",
     "text": [
      " 99%|█████████▉| 99/100 [23:12<00:14, 14.06s/it]\n"
     ]
    },
    {
     "name": "stdout",
     "output_type": "stream",
     "text": [
      "RANK1_MEAN: 3.33\n",
      "NDCG_MEAN: 36.033\n",
      "TIME_SPENT_MEAN: 13.921\n",
      "===7/8===>  2023-Jun-12 20:42:53 experiment: {'CRITERIA': 'total_gte_5', 'TOPK_RETRIEVER': 100, 'TOPK_RANKER': 50, 'DONE': False, 'PIPE': {'PIPE_NAME': 'pipe_sts_ranker_monot5_3b', 'PIPE_OBJECT': <haystack.pipelines.base.Pipeline object at 0x7f9037d80290>, 'RETRIEVER_TYPE': 'sts', 'RETRIEVER_MODEL_NAME': 'rufimelo/Legal-BERTimbau-sts-large-ma-v3', 'RANKER_MODEL_NAME': 'unicamp-dl/mt5-3B-mmarco-en-pt'}}\n"
     ]
    },
    {
     "name": "stderr",
     "output_type": "stream",
     "text": [
      " 99%|█████████▉| 99/100 [11:42<00:07,  7.10s/it]\n"
     ]
    },
    {
     "name": "stdout",
     "output_type": "stream",
     "text": [
      "RANK1_MEAN: 2.646\n",
      "NDCG_MEAN: 35.36\n",
      "TIME_SPENT_MEAN: 7.024\n",
      "CPU times: user 2h 8min 33s, sys: 1h 38min 43s, total: 3h 47min 16s\n",
      "Wall time: 3h 48min 36s\n"
     ]
    }
   ],
   "source": [
    "%%time\n",
    "# colocar pequeno só para testes, depois voltar para 9999999 (número maior do que o número de termos a pesquisar)\n",
    "limit_query = 100 # 9999999\n",
    "for cnt, experiment in enumerate(list_experiment):\n",
    "    if not experiment['DONE']:\n",
    "        list_result_experiment = [] # por experiment\n",
    "        # no caso de normas segecex, bastaria 224 para qtd5 e 891 para qtd1\n",
    "        print(f\"==={cnt}/{len(list_experiment)}===>  {time.strftime('%Y-%b-%d %H:%M:%S')} experiment: {experiment}\")\n",
    "        result_run = util_search.experiment_run(parm_df=df_search_data, \n",
    "                                                parm_experiment=experiment,\n",
    "                                                parm_ndcg_position=12,\n",
    "                                                parm_limit_query=limit_query,\n",
    "                                                parm_print=True)\n",
    "        list_result_experiment.append(result_run)\n",
    "        # print(f\"qtd_encontrado sim:{result_run['qtd_encontrado']}, não:{result_run['qtd_nao_encontrado']} ({result_run['percent_nao_encontrado']}%)\")\n",
    "        experiment['DONE'] = True\n",
    "        util_search.add_experiment_result(parm_list_result=list_result_experiment, parm_dataset='juris_tcu_index')\n"
   ]
  },
  {
   "attachments": {},
   "cell_type": "markdown",
   "metadata": {},
   "source": [
    "## Rodar minilm: bm25 e sts"
   ]
  },
  {
   "cell_type": "code",
   "execution_count": null,
   "metadata": {},
   "outputs": [
    {
     "data": {
      "text/plain": [
       "[{'PIPE_NAME': 'pipe_bm25_ranker_minilm',\n",
       "  'PIPE_OBJECT': <haystack.pipelines.base.Pipeline at 0x7f25f350d3d0>,\n",
       "  'RETRIEVER_TYPE': 'bm25',\n",
       "  'RETRIEVER_MODEL_NAME': '',\n",
       "  'RANKER_MODEL_NAME': 'unicamp-dl/mMiniLM-L6-v2-pt-v2'},\n",
       " {'PIPE_NAME': 'pipe_sts_ranker_minilm',\n",
       "  'PIPE_OBJECT': <haystack.pipelines.base.Pipeline at 0x7f25f1badf10>,\n",
       "  'RETRIEVER_TYPE': 'sts',\n",
       "  'RETRIEVER_MODEL_NAME': 'rufimelo/Legal-BERTimbau-sts-large-ma-v3',\n",
       "  'RANKER_MODEL_NAME': 'unicamp-dl/mMiniLM-L6-v2-pt-v2'}]"
      ]
     },
     "execution_count": 46,
     "metadata": {},
     "output_type": "execute_result"
    }
   ],
   "source": [
    "pipes"
   ]
  },
  {
   "cell_type": "code",
   "execution_count": null,
   "metadata": {},
   "outputs": [],
   "source": [
    "grid_experiment = {'CRITERIA' : ['total', 'total_gte_5'],\n",
    "             'TOPK_RETRIEVER' : [300, 200, 100],\n",
    "             'TOPK_RANKER' : [100],\n",
    "             'PIPE': pipes,\n",
    "             'DONE': [False]\n",
    "}"
   ]
  },
  {
   "cell_type": "code",
   "execution_count": null,
   "metadata": {},
   "outputs": [],
   "source": [
    "list_experiment = [dict(zip(grid_experiment.keys(), values)) for values in product(*grid_experiment.values())]\n"
   ]
  },
  {
   "cell_type": "code",
   "execution_count": null,
   "metadata": {},
   "outputs": [
    {
     "name": "stdout",
     "output_type": "stream",
     "text": [
      "12\n"
     ]
    },
    {
     "data": {
      "text/plain": [
       "63"
      ]
     },
     "execution_count": 58,
     "metadata": {},
     "output_type": "execute_result"
    }
   ],
   "source": [
    "print(len(list_experiment))\n",
    "gc.collect()"
   ]
  },
  {
   "cell_type": "code",
   "execution_count": null,
   "metadata": {},
   "outputs": [
    {
     "data": {
      "text/plain": [
       "<module 'util.util_search' from '/home/borela/fontes/ind-ir/code/util/util_search.py'>"
      ]
     },
     "execution_count": 59,
     "metadata": {},
     "output_type": "execute_result"
    }
   ],
   "source": [
    "import importlib\n",
    "importlib.reload(util_search)"
   ]
  },
  {
   "cell_type": "code",
   "execution_count": null,
   "metadata": {},
   "outputs": [
    {
     "name": "stdout",
     "output_type": "stream",
     "text": [
      "===0/12===>  2023-Jun-12 10:02:16 experiment: {'CRITERIA': 'total', 'TOPK_RETRIEVER': 300, 'TOPK_RANKER': 100, 'PIPE': {'PIPE_NAME': 'pipe_bm25_ranker_minilm', 'PIPE_OBJECT': <haystack.pipelines.base.Pipeline object at 0x7f25f350d3d0>, 'RETRIEVER_TYPE': 'bm25', 'RETRIEVER_MODEL_NAME': '', 'RANKER_MODEL_NAME': 'unicamp-dl/mMiniLM-L6-v2-pt-v2'}, 'DONE': False}\n"
     ]
    },
    {
     "name": "stderr",
     "output_type": "stream",
     "text": [
      " 99%|█████████▉| 99/100 [01:20<00:00,  1.23it/s]\n"
     ]
    },
    {
     "name": "stdout",
     "output_type": "stream",
     "text": [
      "RANK1_MEAN: 8.626\n",
      "NDCG_MEAN: 24.26\n",
      "TIME_SPENT_MEAN: 0.807\n",
      "===1/12===>  2023-Jun-12 10:03:37 experiment: {'CRITERIA': 'total', 'TOPK_RETRIEVER': 300, 'TOPK_RANKER': 100, 'PIPE': {'PIPE_NAME': 'pipe_sts_ranker_minilm', 'PIPE_OBJECT': <haystack.pipelines.base.Pipeline object at 0x7f25f1badf10>, 'RETRIEVER_TYPE': 'sts', 'RETRIEVER_MODEL_NAME': 'rufimelo/Legal-BERTimbau-sts-large-ma-v3', 'RANKER_MODEL_NAME': 'unicamp-dl/mMiniLM-L6-v2-pt-v2'}, 'DONE': False}\n"
     ]
    },
    {
     "name": "stderr",
     "output_type": "stream",
     "text": [
      " 99%|█████████▉| 99/100 [01:20<00:00,  1.23it/s]\n"
     ]
    },
    {
     "name": "stdout",
     "output_type": "stream",
     "text": [
      "RANK1_MEAN: 8.505\n",
      "NDCG_MEAN: 22.769\n",
      "TIME_SPENT_MEAN: 0.807\n",
      "===2/12===>  2023-Jun-12 10:04:57 experiment: {'CRITERIA': 'total', 'TOPK_RETRIEVER': 200, 'TOPK_RANKER': 100, 'PIPE': {'PIPE_NAME': 'pipe_bm25_ranker_minilm', 'PIPE_OBJECT': <haystack.pipelines.base.Pipeline object at 0x7f25f350d3d0>, 'RETRIEVER_TYPE': 'bm25', 'RETRIEVER_MODEL_NAME': '', 'RANKER_MODEL_NAME': 'unicamp-dl/mMiniLM-L6-v2-pt-v2'}, 'DONE': False}\n"
     ]
    },
    {
     "name": "stderr",
     "output_type": "stream",
     "text": [
      " 99%|█████████▉| 99/100 [00:54<00:00,  1.82it/s]\n"
     ]
    },
    {
     "name": "stdout",
     "output_type": "stream",
     "text": [
      "RANK1_MEAN: 8.808\n",
      "NDCG_MEAN: 24.414\n",
      "TIME_SPENT_MEAN: 0.545\n",
      "===3/12===>  2023-Jun-12 10:05:52 experiment: {'CRITERIA': 'total', 'TOPK_RETRIEVER': 200, 'TOPK_RANKER': 100, 'PIPE': {'PIPE_NAME': 'pipe_sts_ranker_minilm', 'PIPE_OBJECT': <haystack.pipelines.base.Pipeline object at 0x7f25f1badf10>, 'RETRIEVER_TYPE': 'sts', 'RETRIEVER_MODEL_NAME': 'rufimelo/Legal-BERTimbau-sts-large-ma-v3', 'RANKER_MODEL_NAME': 'unicamp-dl/mMiniLM-L6-v2-pt-v2'}, 'DONE': False}\n"
     ]
    },
    {
     "name": "stderr",
     "output_type": "stream",
     "text": [
      " 99%|█████████▉| 99/100 [00:55<00:00,  1.80it/s]\n"
     ]
    },
    {
     "name": "stdout",
     "output_type": "stream",
     "text": [
      "RANK1_MEAN: 8.866\n",
      "NDCG_MEAN: 22.796\n",
      "TIME_SPENT_MEAN: 0.55\n",
      "===4/12===>  2023-Jun-12 10:06:47 experiment: {'CRITERIA': 'total', 'TOPK_RETRIEVER': 100, 'TOPK_RANKER': 100, 'PIPE': {'PIPE_NAME': 'pipe_bm25_ranker_minilm', 'PIPE_OBJECT': <haystack.pipelines.base.Pipeline object at 0x7f25f350d3d0>, 'RETRIEVER_TYPE': 'bm25', 'RETRIEVER_MODEL_NAME': '', 'RANKER_MODEL_NAME': 'unicamp-dl/mMiniLM-L6-v2-pt-v2'}, 'DONE': False}\n"
     ]
    },
    {
     "name": "stderr",
     "output_type": "stream",
     "text": [
      " 99%|█████████▉| 99/100 [00:28<00:00,  3.53it/s]\n"
     ]
    },
    {
     "name": "stdout",
     "output_type": "stream",
     "text": [
      "RANK1_MEAN: 8.68\n",
      "NDCG_MEAN: 24.616\n",
      "TIME_SPENT_MEAN: 0.28\n",
      "===5/12===>  2023-Jun-12 10:07:16 experiment: {'CRITERIA': 'total', 'TOPK_RETRIEVER': 100, 'TOPK_RANKER': 100, 'PIPE': {'PIPE_NAME': 'pipe_sts_ranker_minilm', 'PIPE_OBJECT': <haystack.pipelines.base.Pipeline object at 0x7f25f1badf10>, 'RETRIEVER_TYPE': 'sts', 'RETRIEVER_MODEL_NAME': 'rufimelo/Legal-BERTimbau-sts-large-ma-v3', 'RANKER_MODEL_NAME': 'unicamp-dl/mMiniLM-L6-v2-pt-v2'}, 'DONE': False}\n"
     ]
    },
    {
     "name": "stderr",
     "output_type": "stream",
     "text": [
      " 99%|█████████▉| 99/100 [00:29<00:00,  3.37it/s]\n"
     ]
    },
    {
     "name": "stdout",
     "output_type": "stream",
     "text": [
      "RANK1_MEAN: 8.432\n",
      "NDCG_MEAN: 21.228\n",
      "TIME_SPENT_MEAN: 0.294\n",
      "===6/12===>  2023-Jun-12 10:07:45 experiment: {'CRITERIA': 'total_gte_5', 'TOPK_RETRIEVER': 300, 'TOPK_RANKER': 100, 'PIPE': {'PIPE_NAME': 'pipe_bm25_ranker_minilm', 'PIPE_OBJECT': <haystack.pipelines.base.Pipeline object at 0x7f25f350d3d0>, 'RETRIEVER_TYPE': 'bm25', 'RETRIEVER_MODEL_NAME': '', 'RANKER_MODEL_NAME': 'unicamp-dl/mMiniLM-L6-v2-pt-v2'}, 'DONE': False}\n"
     ]
    },
    {
     "name": "stderr",
     "output_type": "stream",
     "text": [
      " 99%|█████████▉| 99/100 [01:21<00:00,  1.21it/s]\n"
     ]
    },
    {
     "name": "stdout",
     "output_type": "stream",
     "text": [
      "RANK1_MEAN: 6.33\n",
      "NDCG_MEAN: 24.784\n",
      "TIME_SPENT_MEAN: 0.816\n",
      "===7/12===>  2023-Jun-12 10:09:07 experiment: {'CRITERIA': 'total_gte_5', 'TOPK_RETRIEVER': 300, 'TOPK_RANKER': 100, 'PIPE': {'PIPE_NAME': 'pipe_sts_ranker_minilm', 'PIPE_OBJECT': <haystack.pipelines.base.Pipeline object at 0x7f25f1badf10>, 'RETRIEVER_TYPE': 'sts', 'RETRIEVER_MODEL_NAME': 'rufimelo/Legal-BERTimbau-sts-large-ma-v3', 'RANKER_MODEL_NAME': 'unicamp-dl/mMiniLM-L6-v2-pt-v2'}, 'DONE': False}\n"
     ]
    },
    {
     "name": "stderr",
     "output_type": "stream",
     "text": [
      " 99%|█████████▉| 99/100 [01:21<00:00,  1.22it/s]\n"
     ]
    },
    {
     "name": "stdout",
     "output_type": "stream",
     "text": [
      "RANK1_MEAN: 7.639\n",
      "NDCG_MEAN: 24.093\n",
      "TIME_SPENT_MEAN: 0.811\n",
      "===8/12===>  2023-Jun-12 10:10:28 experiment: {'CRITERIA': 'total_gte_5', 'TOPK_RETRIEVER': 200, 'TOPK_RANKER': 100, 'PIPE': {'PIPE_NAME': 'pipe_bm25_ranker_minilm', 'PIPE_OBJECT': <haystack.pipelines.base.Pipeline object at 0x7f25f350d3d0>, 'RETRIEVER_TYPE': 'bm25', 'RETRIEVER_MODEL_NAME': '', 'RANKER_MODEL_NAME': 'unicamp-dl/mMiniLM-L6-v2-pt-v2'}, 'DONE': False}\n"
     ]
    },
    {
     "name": "stderr",
     "output_type": "stream",
     "text": [
      " 99%|█████████▉| 99/100 [00:54<00:00,  1.80it/s]\n"
     ]
    },
    {
     "name": "stdout",
     "output_type": "stream",
     "text": [
      "RANK1_MEAN: 7.58\n",
      "NDCG_MEAN: 24.989\n",
      "TIME_SPENT_MEAN: 0.549\n",
      "===9/12===>  2023-Jun-12 10:11:23 experiment: {'CRITERIA': 'total_gte_5', 'TOPK_RETRIEVER': 200, 'TOPK_RANKER': 100, 'PIPE': {'PIPE_NAME': 'pipe_sts_ranker_minilm', 'PIPE_OBJECT': <haystack.pipelines.base.Pipeline object at 0x7f25f1badf10>, 'RETRIEVER_TYPE': 'sts', 'RETRIEVER_MODEL_NAME': 'rufimelo/Legal-BERTimbau-sts-large-ma-v3', 'RANKER_MODEL_NAME': 'unicamp-dl/mMiniLM-L6-v2-pt-v2'}, 'DONE': False}\n"
     ]
    },
    {
     "name": "stderr",
     "output_type": "stream",
     "text": [
      " 99%|█████████▉| 99/100 [00:55<00:00,  1.79it/s]\n"
     ]
    },
    {
     "name": "stdout",
     "output_type": "stream",
     "text": [
      "RANK1_MEAN: 8.475\n",
      "NDCG_MEAN: 23.86\n",
      "TIME_SPENT_MEAN: 0.552\n",
      "===10/12===>  2023-Jun-12 10:12:19 experiment: {'CRITERIA': 'total_gte_5', 'TOPK_RETRIEVER': 100, 'TOPK_RANKER': 100, 'PIPE': {'PIPE_NAME': 'pipe_bm25_ranker_minilm', 'PIPE_OBJECT': <haystack.pipelines.base.Pipeline object at 0x7f25f350d3d0>, 'RETRIEVER_TYPE': 'bm25', 'RETRIEVER_MODEL_NAME': '', 'RANKER_MODEL_NAME': 'unicamp-dl/mMiniLM-L6-v2-pt-v2'}, 'DONE': False}\n"
     ]
    },
    {
     "name": "stderr",
     "output_type": "stream",
     "text": [
      " 99%|█████████▉| 99/100 [00:28<00:00,  3.52it/s]\n"
     ]
    },
    {
     "name": "stdout",
     "output_type": "stream",
     "text": [
      "RANK1_MEAN: 7.04\n",
      "NDCG_MEAN: 25.979\n",
      "TIME_SPENT_MEAN: 0.281\n",
      "===11/12===>  2023-Jun-12 10:12:47 experiment: {'CRITERIA': 'total_gte_5', 'TOPK_RETRIEVER': 100, 'TOPK_RANKER': 100, 'PIPE': {'PIPE_NAME': 'pipe_sts_ranker_minilm', 'PIPE_OBJECT': <haystack.pipelines.base.Pipeline object at 0x7f25f1badf10>, 'RETRIEVER_TYPE': 'sts', 'RETRIEVER_MODEL_NAME': 'rufimelo/Legal-BERTimbau-sts-large-ma-v3', 'RANKER_MODEL_NAME': 'unicamp-dl/mMiniLM-L6-v2-pt-v2'}, 'DONE': False}\n"
     ]
    },
    {
     "name": "stderr",
     "output_type": "stream",
     "text": [
      " 99%|█████████▉| 99/100 [00:29<00:00,  3.41it/s]\n"
     ]
    },
    {
     "name": "stdout",
     "output_type": "stream",
     "text": [
      "RANK1_MEAN: 5.865\n",
      "NDCG_MEAN: 23.582\n",
      "TIME_SPENT_MEAN: 0.29\n",
      "CPU times: user 12min 22s, sys: 3.99 s, total: 12min 26s\n",
      "Wall time: 11min\n"
     ]
    }
   ],
   "source": [
    "%%time\n",
    "# colocar pequeno só para testes, depois voltar para 9999999 (número maior do que o número de termos a pesquisar)\n",
    "limit_query = 100 # 9999999\n",
    "for cnt, experiment in enumerate(list_experiment):\n",
    "    if not experiment['DONE']:\n",
    "        list_result_experiment = [] # por experiment\n",
    "        # no caso de normas segecex, bastaria 224 para qtd5 e 891 para qtd1\n",
    "        print(f\"==={cnt}/{len(list_experiment)}===>  {time.strftime('%Y-%b-%d %H:%M:%S')} experiment: {experiment}\")\n",
    "        result_run = util_search.experiment_run(parm_df=df_search_data, \n",
    "                                                parm_experiment=experiment,\n",
    "                                                parm_ndcg_position=12,\n",
    "                                                parm_limit_query=limit_query,\n",
    "                                                parm_print=True)\n",
    "        list_result_experiment.append(result_run)\n",
    "        # print(f\"qtd_encontrado sim:{result_run['qtd_encontrado']}, não:{result_run['qtd_nao_encontrado']} ({result_run['percent_nao_encontrado']}%)\")\n",
    "        experiment['DONE'] = True\n",
    "        util_search.add_experiment_result(parm_list_result=list_result_experiment, parm_dataset='juris_tcu_index')\n",
    "\n"
   ]
  },
  {
   "cell_type": "code",
   "execution_count": null,
   "metadata": {},
   "outputs": [
    {
     "data": {
      "text/plain": [
       "[{'PIPE_NAME': 'pipe_bm25_ranker_minilm',\n",
       "  'PIPE_OBJECT': <haystack.pipelines.base.Pipeline at 0x7f25f350d3d0>,\n",
       "  'RETRIEVER_TYPE': 'bm25',\n",
       "  'RETRIEVER_MODEL_NAME': '',\n",
       "  'RANKER_MODEL_NAME': 'unicamp-dl/mMiniLM-L6-v2-pt-v2'},\n",
       " {'PIPE_NAME': 'pipe_sts_ranker_minilm',\n",
       "  'PIPE_OBJECT': <haystack.pipelines.base.Pipeline at 0x7f25f1badf10>,\n",
       "  'RETRIEVER_TYPE': 'sts',\n",
       "  'RETRIEVER_MODEL_NAME': 'rufimelo/Legal-BERTimbau-sts-large-ma-v3',\n",
       "  'RANKER_MODEL_NAME': 'unicamp-dl/mMiniLM-L6-v2-pt-v2'}]"
      ]
     },
     "execution_count": 61,
     "metadata": {},
     "output_type": "execute_result"
    }
   ],
   "source": [
    "pipes"
   ]
  },
  {
   "cell_type": "code",
   "execution_count": null,
   "metadata": {},
   "outputs": [],
   "source": [
    "grid_experiment = {'CRITERIA' : ['total', 'total_gte_5'],\n",
    "             'TOPK_RETRIEVER' : [400, 300, 200, 100],\n",
    "             'TOPK_RANKER' : [200, 50],\n",
    "             'PIPE': pipes,\n",
    "             'DONE': [False]\n",
    "}"
   ]
  },
  {
   "cell_type": "code",
   "execution_count": null,
   "metadata": {},
   "outputs": [],
   "source": [
    "list_experiment = [dict(zip(grid_experiment.keys(), values)) for values in product(*grid_experiment.values())]\n"
   ]
  },
  {
   "cell_type": "code",
   "execution_count": null,
   "metadata": {},
   "outputs": [
    {
     "name": "stdout",
     "output_type": "stream",
     "text": [
      "32\n"
     ]
    },
    {
     "data": {
      "text/plain": [
       "84"
      ]
     },
     "execution_count": 64,
     "metadata": {},
     "output_type": "execute_result"
    }
   ],
   "source": [
    "print(len(list_experiment))\n",
    "gc.collect()"
   ]
  },
  {
   "cell_type": "code",
   "execution_count": null,
   "metadata": {},
   "outputs": [
    {
     "data": {
      "text/plain": [
       "<module 'util.util_search' from '/home/borela/fontes/ind-ir/code/util/util_search.py'>"
      ]
     },
     "execution_count": 65,
     "metadata": {},
     "output_type": "execute_result"
    }
   ],
   "source": [
    "import importlib\n",
    "importlib.reload(util_search)"
   ]
  },
  {
   "cell_type": "code",
   "execution_count": null,
   "metadata": {},
   "outputs": [
    {
     "name": "stdout",
     "output_type": "stream",
     "text": [
      "===0/32===>  2023-Jun-12 10:13:17 experiment: {'CRITERIA': 'total', 'TOPK_RETRIEVER': 400, 'TOPK_RANKER': 200, 'PIPE': {'PIPE_NAME': 'pipe_bm25_ranker_minilm', 'PIPE_OBJECT': <haystack.pipelines.base.Pipeline object at 0x7f25f350d3d0>, 'RETRIEVER_TYPE': 'bm25', 'RETRIEVER_MODEL_NAME': '', 'RANKER_MODEL_NAME': 'unicamp-dl/mMiniLM-L6-v2-pt-v2'}, 'DONE': False}\n"
     ]
    },
    {
     "name": "stderr",
     "output_type": "stream",
     "text": [
      " 99%|█████████▉| 99/100 [01:48<00:01,  1.10s/it]\n"
     ]
    },
    {
     "name": "stdout",
     "output_type": "stream",
     "text": [
      "RANK1_MEAN: 11.13\n",
      "NDCG_MEAN: 24.237\n",
      "TIME_SPENT_MEAN: 1.085\n",
      "===1/32===>  2023-Jun-12 10:15:06 experiment: {'CRITERIA': 'total', 'TOPK_RETRIEVER': 400, 'TOPK_RANKER': 200, 'PIPE': {'PIPE_NAME': 'pipe_sts_ranker_minilm', 'PIPE_OBJECT': <haystack.pipelines.base.Pipeline object at 0x7f25f1badf10>, 'RETRIEVER_TYPE': 'sts', 'RETRIEVER_MODEL_NAME': 'rufimelo/Legal-BERTimbau-sts-large-ma-v3', 'RANKER_MODEL_NAME': 'unicamp-dl/mMiniLM-L6-v2-pt-v2'}, 'DONE': False}\n"
     ]
    },
    {
     "name": "stderr",
     "output_type": "stream",
     "text": [
      " 99%|█████████▉| 99/100 [01:47<00:01,  1.09s/it]\n"
     ]
    },
    {
     "name": "stdout",
     "output_type": "stream",
     "text": [
      "RANK1_MEAN: 11.848\n",
      "NDCG_MEAN: 23.229\n",
      "TIME_SPENT_MEAN: 1.075\n",
      "===2/32===>  2023-Jun-12 10:16:53 experiment: {'CRITERIA': 'total', 'TOPK_RETRIEVER': 400, 'TOPK_RANKER': 50, 'PIPE': {'PIPE_NAME': 'pipe_bm25_ranker_minilm', 'PIPE_OBJECT': <haystack.pipelines.base.Pipeline object at 0x7f25f350d3d0>, 'RETRIEVER_TYPE': 'bm25', 'RETRIEVER_MODEL_NAME': '', 'RANKER_MODEL_NAME': 'unicamp-dl/mMiniLM-L6-v2-pt-v2'}, 'DONE': False}\n"
     ]
    },
    {
     "name": "stderr",
     "output_type": "stream",
     "text": [
      " 99%|█████████▉| 99/100 [01:47<00:01,  1.09s/it]\n"
     ]
    },
    {
     "name": "stdout",
     "output_type": "stream",
     "text": [
      "RANK1_MEAN: 6.295\n",
      "NDCG_MEAN: 24.237\n",
      "TIME_SPENT_MEAN: 1.076\n",
      "===3/32===>  2023-Jun-12 10:18:41 experiment: {'CRITERIA': 'total', 'TOPK_RETRIEVER': 400, 'TOPK_RANKER': 50, 'PIPE': {'PIPE_NAME': 'pipe_sts_ranker_minilm', 'PIPE_OBJECT': <haystack.pipelines.base.Pipeline object at 0x7f25f1badf10>, 'RETRIEVER_TYPE': 'sts', 'RETRIEVER_MODEL_NAME': 'rufimelo/Legal-BERTimbau-sts-large-ma-v3', 'RANKER_MODEL_NAME': 'unicamp-dl/mMiniLM-L6-v2-pt-v2'}, 'DONE': False}\n"
     ]
    },
    {
     "name": "stderr",
     "output_type": "stream",
     "text": [
      " 99%|█████████▉| 99/100 [01:47<00:01,  1.08s/it]\n"
     ]
    },
    {
     "name": "stdout",
     "output_type": "stream",
     "text": [
      "RANK1_MEAN: 5.839\n",
      "NDCG_MEAN: 23.229\n",
      "TIME_SPENT_MEAN: 1.071\n",
      "===4/32===>  2023-Jun-12 10:20:29 experiment: {'CRITERIA': 'total', 'TOPK_RETRIEVER': 300, 'TOPK_RANKER': 200, 'PIPE': {'PIPE_NAME': 'pipe_bm25_ranker_minilm', 'PIPE_OBJECT': <haystack.pipelines.base.Pipeline object at 0x7f25f350d3d0>, 'RETRIEVER_TYPE': 'bm25', 'RETRIEVER_MODEL_NAME': '', 'RANKER_MODEL_NAME': 'unicamp-dl/mMiniLM-L6-v2-pt-v2'}, 'DONE': False}\n"
     ]
    },
    {
     "name": "stderr",
     "output_type": "stream",
     "text": [
      " 99%|█████████▉| 99/100 [01:21<00:00,  1.22it/s]\n"
     ]
    },
    {
     "name": "stdout",
     "output_type": "stream",
     "text": [
      "RANK1_MEAN: 9.73\n",
      "NDCG_MEAN: 24.26\n",
      "TIME_SPENT_MEAN: 0.815\n",
      "===5/32===>  2023-Jun-12 10:21:50 experiment: {'CRITERIA': 'total', 'TOPK_RETRIEVER': 300, 'TOPK_RANKER': 200, 'PIPE': {'PIPE_NAME': 'pipe_sts_ranker_minilm', 'PIPE_OBJECT': <haystack.pipelines.base.Pipeline object at 0x7f25f1badf10>, 'RETRIEVER_TYPE': 'sts', 'RETRIEVER_MODEL_NAME': 'rufimelo/Legal-BERTimbau-sts-large-ma-v3', 'RANKER_MODEL_NAME': 'unicamp-dl/mMiniLM-L6-v2-pt-v2'}, 'DONE': False}\n"
     ]
    },
    {
     "name": "stderr",
     "output_type": "stream",
     "text": [
      " 99%|█████████▉| 99/100 [01:21<00:00,  1.22it/s]\n"
     ]
    },
    {
     "name": "stdout",
     "output_type": "stream",
     "text": [
      "RANK1_MEAN: 12.58\n",
      "NDCG_MEAN: 22.769\n",
      "TIME_SPENT_MEAN: 0.815\n",
      "===6/32===>  2023-Jun-12 10:23:12 experiment: {'CRITERIA': 'total', 'TOPK_RETRIEVER': 300, 'TOPK_RANKER': 50, 'PIPE': {'PIPE_NAME': 'pipe_bm25_ranker_minilm', 'PIPE_OBJECT': <haystack.pipelines.base.Pipeline object at 0x7f25f350d3d0>, 'RETRIEVER_TYPE': 'bm25', 'RETRIEVER_MODEL_NAME': '', 'RANKER_MODEL_NAME': 'unicamp-dl/mMiniLM-L6-v2-pt-v2'}, 'DONE': False}\n"
     ]
    },
    {
     "name": "stderr",
     "output_type": "stream",
     "text": [
      " 99%|█████████▉| 99/100 [01:21<00:00,  1.22it/s]\n"
     ]
    },
    {
     "name": "stdout",
     "output_type": "stream",
     "text": [
      "RANK1_MEAN: 6.396\n",
      "NDCG_MEAN: 24.26\n",
      "TIME_SPENT_MEAN: 0.811\n",
      "===7/32===>  2023-Jun-12 10:24:33 experiment: {'CRITERIA': 'total', 'TOPK_RETRIEVER': 300, 'TOPK_RANKER': 50, 'PIPE': {'PIPE_NAME': 'pipe_sts_ranker_minilm', 'PIPE_OBJECT': <haystack.pipelines.base.Pipeline object at 0x7f25f1badf10>, 'RETRIEVER_TYPE': 'sts', 'RETRIEVER_MODEL_NAME': 'rufimelo/Legal-BERTimbau-sts-large-ma-v3', 'RANKER_MODEL_NAME': 'unicamp-dl/mMiniLM-L6-v2-pt-v2'}, 'DONE': False}\n"
     ]
    },
    {
     "name": "stderr",
     "output_type": "stream",
     "text": [
      " 99%|█████████▉| 99/100 [01:20<00:00,  1.22it/s]\n"
     ]
    },
    {
     "name": "stdout",
     "output_type": "stream",
     "text": [
      "RANK1_MEAN: 5.699\n",
      "NDCG_MEAN: 22.769\n",
      "TIME_SPENT_MEAN: 0.81\n",
      "===8/32===>  2023-Jun-12 10:25:54 experiment: {'CRITERIA': 'total', 'TOPK_RETRIEVER': 200, 'TOPK_RANKER': 200, 'PIPE': {'PIPE_NAME': 'pipe_bm25_ranker_minilm', 'PIPE_OBJECT': <haystack.pipelines.base.Pipeline object at 0x7f25f350d3d0>, 'RETRIEVER_TYPE': 'bm25', 'RETRIEVER_MODEL_NAME': '', 'RANKER_MODEL_NAME': 'unicamp-dl/mMiniLM-L6-v2-pt-v2'}, 'DONE': False}\n"
     ]
    },
    {
     "name": "stderr",
     "output_type": "stream",
     "text": [
      " 99%|█████████▉| 99/100 [00:54<00:00,  1.81it/s]\n"
     ]
    },
    {
     "name": "stdout",
     "output_type": "stream",
     "text": [
      "RANK1_MEAN: 9.98\n",
      "NDCG_MEAN: 24.414\n",
      "TIME_SPENT_MEAN: 0.547\n",
      "===9/32===>  2023-Jun-12 10:26:49 experiment: {'CRITERIA': 'total', 'TOPK_RETRIEVER': 200, 'TOPK_RANKER': 200, 'PIPE': {'PIPE_NAME': 'pipe_sts_ranker_minilm', 'PIPE_OBJECT': <haystack.pipelines.base.Pipeline object at 0x7f25f1badf10>, 'RETRIEVER_TYPE': 'sts', 'RETRIEVER_MODEL_NAME': 'rufimelo/Legal-BERTimbau-sts-large-ma-v3', 'RANKER_MODEL_NAME': 'unicamp-dl/mMiniLM-L6-v2-pt-v2'}, 'DONE': False}\n"
     ]
    },
    {
     "name": "stderr",
     "output_type": "stream",
     "text": [
      " 99%|█████████▉| 99/100 [00:55<00:00,  1.78it/s]\n"
     ]
    },
    {
     "name": "stdout",
     "output_type": "stream",
     "text": [
      "RANK1_MEAN: 11.465\n",
      "NDCG_MEAN: 22.796\n",
      "TIME_SPENT_MEAN: 0.555\n",
      "===10/32===>  2023-Jun-12 10:27:45 experiment: {'CRITERIA': 'total', 'TOPK_RETRIEVER': 200, 'TOPK_RANKER': 50, 'PIPE': {'PIPE_NAME': 'pipe_bm25_ranker_minilm', 'PIPE_OBJECT': <haystack.pipelines.base.Pipeline object at 0x7f25f350d3d0>, 'RETRIEVER_TYPE': 'bm25', 'RETRIEVER_MODEL_NAME': '', 'RANKER_MODEL_NAME': 'unicamp-dl/mMiniLM-L6-v2-pt-v2'}, 'DONE': False}\n"
     ]
    },
    {
     "name": "stderr",
     "output_type": "stream",
     "text": [
      " 99%|█████████▉| 99/100 [00:54<00:00,  1.82it/s]\n"
     ]
    },
    {
     "name": "stdout",
     "output_type": "stream",
     "text": [
      "RANK1_MEAN: 5.29\n",
      "NDCG_MEAN: 24.414\n",
      "TIME_SPENT_MEAN: 0.545\n",
      "===11/32===>  2023-Jun-12 10:28:40 experiment: {'CRITERIA': 'total', 'TOPK_RETRIEVER': 200, 'TOPK_RANKER': 50, 'PIPE': {'PIPE_NAME': 'pipe_sts_ranker_minilm', 'PIPE_OBJECT': <haystack.pipelines.base.Pipeline object at 0x7f25f1badf10>, 'RETRIEVER_TYPE': 'sts', 'RETRIEVER_MODEL_NAME': 'rufimelo/Legal-BERTimbau-sts-large-ma-v3', 'RANKER_MODEL_NAME': 'unicamp-dl/mMiniLM-L6-v2-pt-v2'}, 'DONE': False}\n"
     ]
    },
    {
     "name": "stderr",
     "output_type": "stream",
     "text": [
      " 99%|█████████▉| 99/100 [00:55<00:00,  1.80it/s]\n"
     ]
    },
    {
     "name": "stdout",
     "output_type": "stream",
     "text": [
      "RANK1_MEAN: 5.772\n",
      "NDCG_MEAN: 22.796\n",
      "TIME_SPENT_MEAN: 0.55\n",
      "===12/32===>  2023-Jun-12 10:29:35 experiment: {'CRITERIA': 'total', 'TOPK_RETRIEVER': 100, 'TOPK_RANKER': 200, 'PIPE': {'PIPE_NAME': 'pipe_bm25_ranker_minilm', 'PIPE_OBJECT': <haystack.pipelines.base.Pipeline object at 0x7f25f350d3d0>, 'RETRIEVER_TYPE': 'bm25', 'RETRIEVER_MODEL_NAME': '', 'RANKER_MODEL_NAME': 'unicamp-dl/mMiniLM-L6-v2-pt-v2'}, 'DONE': False}\n"
     ]
    },
    {
     "name": "stderr",
     "output_type": "stream",
     "text": [
      " 99%|█████████▉| 99/100 [00:27<00:00,  3.55it/s]\n"
     ]
    },
    {
     "name": "stdout",
     "output_type": "stream",
     "text": [
      "RANK1_MEAN: 8.68\n",
      "NDCG_MEAN: 24.616\n",
      "TIME_SPENT_MEAN: 0.279\n",
      "===13/32===>  2023-Jun-12 10:30:03 experiment: {'CRITERIA': 'total', 'TOPK_RETRIEVER': 100, 'TOPK_RANKER': 200, 'PIPE': {'PIPE_NAME': 'pipe_sts_ranker_minilm', 'PIPE_OBJECT': <haystack.pipelines.base.Pipeline object at 0x7f25f1badf10>, 'RETRIEVER_TYPE': 'sts', 'RETRIEVER_MODEL_NAME': 'rufimelo/Legal-BERTimbau-sts-large-ma-v3', 'RANKER_MODEL_NAME': 'unicamp-dl/mMiniLM-L6-v2-pt-v2'}, 'DONE': False}\n"
     ]
    },
    {
     "name": "stderr",
     "output_type": "stream",
     "text": [
      " 99%|█████████▉| 99/100 [00:29<00:00,  3.40it/s]\n"
     ]
    },
    {
     "name": "stdout",
     "output_type": "stream",
     "text": [
      "RANK1_MEAN: 8.432\n",
      "NDCG_MEAN: 21.228\n",
      "TIME_SPENT_MEAN: 0.291\n",
      "===14/32===>  2023-Jun-12 10:30:33 experiment: {'CRITERIA': 'total', 'TOPK_RETRIEVER': 100, 'TOPK_RANKER': 50, 'PIPE': {'PIPE_NAME': 'pipe_bm25_ranker_minilm', 'PIPE_OBJECT': <haystack.pipelines.base.Pipeline object at 0x7f25f350d3d0>, 'RETRIEVER_TYPE': 'bm25', 'RETRIEVER_MODEL_NAME': '', 'RANKER_MODEL_NAME': 'unicamp-dl/mMiniLM-L6-v2-pt-v2'}, 'DONE': False}\n"
     ]
    },
    {
     "name": "stderr",
     "output_type": "stream",
     "text": [
      " 99%|█████████▉| 99/100 [00:27<00:00,  3.56it/s]\n"
     ]
    },
    {
     "name": "stdout",
     "output_type": "stream",
     "text": [
      "RANK1_MEAN: 6.208\n",
      "NDCG_MEAN: 24.616\n",
      "TIME_SPENT_MEAN: 0.278\n",
      "===15/32===>  2023-Jun-12 10:31:01 experiment: {'CRITERIA': 'total', 'TOPK_RETRIEVER': 100, 'TOPK_RANKER': 50, 'PIPE': {'PIPE_NAME': 'pipe_sts_ranker_minilm', 'PIPE_OBJECT': <haystack.pipelines.base.Pipeline object at 0x7f25f1badf10>, 'RETRIEVER_TYPE': 'sts', 'RETRIEVER_MODEL_NAME': 'rufimelo/Legal-BERTimbau-sts-large-ma-v3', 'RANKER_MODEL_NAME': 'unicamp-dl/mMiniLM-L6-v2-pt-v2'}, 'DONE': False}\n"
     ]
    },
    {
     "name": "stderr",
     "output_type": "stream",
     "text": [
      " 99%|█████████▉| 99/100 [00:28<00:00,  3.43it/s]\n"
     ]
    },
    {
     "name": "stdout",
     "output_type": "stream",
     "text": [
      "RANK1_MEAN: 6.283\n",
      "NDCG_MEAN: 21.228\n",
      "TIME_SPENT_MEAN: 0.289\n",
      "===16/32===>  2023-Jun-12 10:31:30 experiment: {'CRITERIA': 'total_gte_5', 'TOPK_RETRIEVER': 400, 'TOPK_RANKER': 200, 'PIPE': {'PIPE_NAME': 'pipe_bm25_ranker_minilm', 'PIPE_OBJECT': <haystack.pipelines.base.Pipeline object at 0x7f25f350d3d0>, 'RETRIEVER_TYPE': 'bm25', 'RETRIEVER_MODEL_NAME': '', 'RANKER_MODEL_NAME': 'unicamp-dl/mMiniLM-L6-v2-pt-v2'}, 'DONE': False}\n"
     ]
    },
    {
     "name": "stderr",
     "output_type": "stream",
     "text": [
      " 99%|█████████▉| 99/100 [01:48<00:01,  1.09s/it]\n"
     ]
    },
    {
     "name": "stdout",
     "output_type": "stream",
     "text": [
      "RANK1_MEAN: 9.79\n",
      "NDCG_MEAN: 24.712\n",
      "TIME_SPENT_MEAN: 1.084\n",
      "===17/32===>  2023-Jun-12 10:33:18 experiment: {'CRITERIA': 'total_gte_5', 'TOPK_RETRIEVER': 400, 'TOPK_RANKER': 200, 'PIPE': {'PIPE_NAME': 'pipe_sts_ranker_minilm', 'PIPE_OBJECT': <haystack.pipelines.base.Pipeline object at 0x7f25f1badf10>, 'RETRIEVER_TYPE': 'sts', 'RETRIEVER_MODEL_NAME': 'rufimelo/Legal-BERTimbau-sts-large-ma-v3', 'RANKER_MODEL_NAME': 'unicamp-dl/mMiniLM-L6-v2-pt-v2'}, 'DONE': False}\n"
     ]
    },
    {
     "name": "stderr",
     "output_type": "stream",
     "text": [
      " 99%|█████████▉| 99/100 [01:47<00:01,  1.08s/it]\n"
     ]
    },
    {
     "name": "stdout",
     "output_type": "stream",
     "text": [
      "RANK1_MEAN: 11.182\n",
      "NDCG_MEAN: 23.659\n",
      "TIME_SPENT_MEAN: 1.073\n",
      "===18/32===>  2023-Jun-12 10:35:06 experiment: {'CRITERIA': 'total_gte_5', 'TOPK_RETRIEVER': 400, 'TOPK_RANKER': 50, 'PIPE': {'PIPE_NAME': 'pipe_bm25_ranker_minilm', 'PIPE_OBJECT': <haystack.pipelines.base.Pipeline object at 0x7f25f350d3d0>, 'RETRIEVER_TYPE': 'bm25', 'RETRIEVER_MODEL_NAME': '', 'RANKER_MODEL_NAME': 'unicamp-dl/mMiniLM-L6-v2-pt-v2'}, 'DONE': False}\n"
     ]
    },
    {
     "name": "stderr",
     "output_type": "stream",
     "text": [
      " 99%|█████████▉| 99/100 [01:47<00:01,  1.09s/it]\n"
     ]
    },
    {
     "name": "stdout",
     "output_type": "stream",
     "text": [
      "RANK1_MEAN: 5.396\n",
      "NDCG_MEAN: 24.712\n",
      "TIME_SPENT_MEAN: 1.079\n",
      "===19/32===>  2023-Jun-12 10:36:54 experiment: {'CRITERIA': 'total_gte_5', 'TOPK_RETRIEVER': 400, 'TOPK_RANKER': 50, 'PIPE': {'PIPE_NAME': 'pipe_sts_ranker_minilm', 'PIPE_OBJECT': <haystack.pipelines.base.Pipeline object at 0x7f25f1badf10>, 'RETRIEVER_TYPE': 'sts', 'RETRIEVER_MODEL_NAME': 'rufimelo/Legal-BERTimbau-sts-large-ma-v3', 'RANKER_MODEL_NAME': 'unicamp-dl/mMiniLM-L6-v2-pt-v2'}, 'DONE': False}\n"
     ]
    },
    {
     "name": "stderr",
     "output_type": "stream",
     "text": [
      " 99%|█████████▉| 99/100 [01:47<00:01,  1.08s/it]\n"
     ]
    },
    {
     "name": "stdout",
     "output_type": "stream",
     "text": [
      "RANK1_MEAN: 5.84\n",
      "NDCG_MEAN: 23.659\n",
      "TIME_SPENT_MEAN: 1.071\n",
      "===20/32===>  2023-Jun-12 10:38:41 experiment: {'CRITERIA': 'total_gte_5', 'TOPK_RETRIEVER': 300, 'TOPK_RANKER': 200, 'PIPE': {'PIPE_NAME': 'pipe_bm25_ranker_minilm', 'PIPE_OBJECT': <haystack.pipelines.base.Pipeline object at 0x7f25f350d3d0>, 'RETRIEVER_TYPE': 'bm25', 'RETRIEVER_MODEL_NAME': '', 'RANKER_MODEL_NAME': 'unicamp-dl/mMiniLM-L6-v2-pt-v2'}, 'DONE': False}\n"
     ]
    },
    {
     "name": "stderr",
     "output_type": "stream",
     "text": [
      " 99%|█████████▉| 99/100 [01:21<00:00,  1.21it/s]\n"
     ]
    },
    {
     "name": "stdout",
     "output_type": "stream",
     "text": [
      "RANK1_MEAN: 9.38\n",
      "NDCG_MEAN: 24.784\n",
      "TIME_SPENT_MEAN: 0.816\n",
      "===21/32===>  2023-Jun-12 10:40:03 experiment: {'CRITERIA': 'total_gte_5', 'TOPK_RETRIEVER': 300, 'TOPK_RANKER': 200, 'PIPE': {'PIPE_NAME': 'pipe_sts_ranker_minilm', 'PIPE_OBJECT': <haystack.pipelines.base.Pipeline object at 0x7f25f1badf10>, 'RETRIEVER_TYPE': 'sts', 'RETRIEVER_MODEL_NAME': 'rufimelo/Legal-BERTimbau-sts-large-ma-v3', 'RANKER_MODEL_NAME': 'unicamp-dl/mMiniLM-L6-v2-pt-v2'}, 'DONE': False}\n"
     ]
    },
    {
     "name": "stderr",
     "output_type": "stream",
     "text": [
      " 99%|█████████▉| 99/100 [01:21<00:00,  1.21it/s]\n"
     ]
    },
    {
     "name": "stdout",
     "output_type": "stream",
     "text": [
      "RANK1_MEAN: 11.51\n",
      "NDCG_MEAN: 24.093\n",
      "TIME_SPENT_MEAN: 0.815\n",
      "===22/32===>  2023-Jun-12 10:41:25 experiment: {'CRITERIA': 'total_gte_5', 'TOPK_RETRIEVER': 300, 'TOPK_RANKER': 50, 'PIPE': {'PIPE_NAME': 'pipe_bm25_ranker_minilm', 'PIPE_OBJECT': <haystack.pipelines.base.Pipeline object at 0x7f25f350d3d0>, 'RETRIEVER_TYPE': 'bm25', 'RETRIEVER_MODEL_NAME': '', 'RANKER_MODEL_NAME': 'unicamp-dl/mMiniLM-L6-v2-pt-v2'}, 'DONE': False}\n"
     ]
    },
    {
     "name": "stderr",
     "output_type": "stream",
     "text": [
      " 99%|█████████▉| 99/100 [01:21<00:00,  1.22it/s]\n"
     ]
    },
    {
     "name": "stdout",
     "output_type": "stream",
     "text": [
      "RANK1_MEAN: 5.615\n",
      "NDCG_MEAN: 24.784\n",
      "TIME_SPENT_MEAN: 0.812\n",
      "===23/32===>  2023-Jun-12 10:42:46 experiment: {'CRITERIA': 'total_gte_5', 'TOPK_RETRIEVER': 300, 'TOPK_RANKER': 50, 'PIPE': {'PIPE_NAME': 'pipe_sts_ranker_minilm', 'PIPE_OBJECT': <haystack.pipelines.base.Pipeline object at 0x7f25f1badf10>, 'RETRIEVER_TYPE': 'sts', 'RETRIEVER_MODEL_NAME': 'rufimelo/Legal-BERTimbau-sts-large-ma-v3', 'RANKER_MODEL_NAME': 'unicamp-dl/mMiniLM-L6-v2-pt-v2'}, 'DONE': False}\n"
     ]
    },
    {
     "name": "stderr",
     "output_type": "stream",
     "text": [
      " 99%|█████████▉| 99/100 [01:20<00:00,  1.22it/s]\n"
     ]
    },
    {
     "name": "stdout",
     "output_type": "stream",
     "text": [
      "RANK1_MEAN: 4.72\n",
      "NDCG_MEAN: 24.093\n",
      "TIME_SPENT_MEAN: 0.81\n",
      "===24/32===>  2023-Jun-12 10:44:08 experiment: {'CRITERIA': 'total_gte_5', 'TOPK_RETRIEVER': 200, 'TOPK_RANKER': 200, 'PIPE': {'PIPE_NAME': 'pipe_bm25_ranker_minilm', 'PIPE_OBJECT': <haystack.pipelines.base.Pipeline object at 0x7f25f350d3d0>, 'RETRIEVER_TYPE': 'bm25', 'RETRIEVER_MODEL_NAME': '', 'RANKER_MODEL_NAME': 'unicamp-dl/mMiniLM-L6-v2-pt-v2'}, 'DONE': False}\n"
     ]
    },
    {
     "name": "stderr",
     "output_type": "stream",
     "text": [
      " 99%|█████████▉| 99/100 [00:55<00:00,  1.79it/s]\n"
     ]
    },
    {
     "name": "stdout",
     "output_type": "stream",
     "text": [
      "RANK1_MEAN: 7.58\n",
      "NDCG_MEAN: 24.989\n",
      "TIME_SPENT_MEAN: 0.553\n",
      "===25/32===>  2023-Jun-12 10:45:03 experiment: {'CRITERIA': 'total_gte_5', 'TOPK_RETRIEVER': 200, 'TOPK_RANKER': 200, 'PIPE': {'PIPE_NAME': 'pipe_sts_ranker_minilm', 'PIPE_OBJECT': <haystack.pipelines.base.Pipeline object at 0x7f25f1badf10>, 'RETRIEVER_TYPE': 'sts', 'RETRIEVER_MODEL_NAME': 'rufimelo/Legal-BERTimbau-sts-large-ma-v3', 'RANKER_MODEL_NAME': 'unicamp-dl/mMiniLM-L6-v2-pt-v2'}, 'DONE': False}\n"
     ]
    },
    {
     "name": "stderr",
     "output_type": "stream",
     "text": [
      " 99%|█████████▉| 99/100 [00:55<00:00,  1.79it/s]\n"
     ]
    },
    {
     "name": "stdout",
     "output_type": "stream",
     "text": [
      "RANK1_MEAN: 9.6\n",
      "NDCG_MEAN: 23.86\n",
      "TIME_SPENT_MEAN: 0.555\n",
      "===26/32===>  2023-Jun-12 10:45:59 experiment: {'CRITERIA': 'total_gte_5', 'TOPK_RETRIEVER': 200, 'TOPK_RANKER': 50, 'PIPE': {'PIPE_NAME': 'pipe_bm25_ranker_minilm', 'PIPE_OBJECT': <haystack.pipelines.base.Pipeline object at 0x7f25f350d3d0>, 'RETRIEVER_TYPE': 'bm25', 'RETRIEVER_MODEL_NAME': '', 'RANKER_MODEL_NAME': 'unicamp-dl/mMiniLM-L6-v2-pt-v2'}, 'DONE': False}\n"
     ]
    },
    {
     "name": "stderr",
     "output_type": "stream",
     "text": [
      " 99%|█████████▉| 99/100 [00:54<00:00,  1.81it/s]\n"
     ]
    },
    {
     "name": "stdout",
     "output_type": "stream",
     "text": [
      "RANK1_MEAN: 4.99\n",
      "NDCG_MEAN: 24.989\n",
      "TIME_SPENT_MEAN: 0.548\n",
      "===27/32===>  2023-Jun-12 10:46:54 experiment: {'CRITERIA': 'total_gte_5', 'TOPK_RETRIEVER': 200, 'TOPK_RANKER': 50, 'PIPE': {'PIPE_NAME': 'pipe_sts_ranker_minilm', 'PIPE_OBJECT': <haystack.pipelines.base.Pipeline object at 0x7f25f1badf10>, 'RETRIEVER_TYPE': 'sts', 'RETRIEVER_MODEL_NAME': 'rufimelo/Legal-BERTimbau-sts-large-ma-v3', 'RANKER_MODEL_NAME': 'unicamp-dl/mMiniLM-L6-v2-pt-v2'}, 'DONE': False}\n"
     ]
    },
    {
     "name": "stderr",
     "output_type": "stream",
     "text": [
      " 99%|█████████▉| 99/100 [00:55<00:00,  1.80it/s]\n"
     ]
    },
    {
     "name": "stdout",
     "output_type": "stream",
     "text": [
      "RANK1_MEAN: 5.117\n",
      "NDCG_MEAN: 23.86\n",
      "TIME_SPENT_MEAN: 0.551\n",
      "===28/32===>  2023-Jun-12 10:47:49 experiment: {'CRITERIA': 'total_gte_5', 'TOPK_RETRIEVER': 100, 'TOPK_RANKER': 200, 'PIPE': {'PIPE_NAME': 'pipe_bm25_ranker_minilm', 'PIPE_OBJECT': <haystack.pipelines.base.Pipeline object at 0x7f25f350d3d0>, 'RETRIEVER_TYPE': 'bm25', 'RETRIEVER_MODEL_NAME': '', 'RANKER_MODEL_NAME': 'unicamp-dl/mMiniLM-L6-v2-pt-v2'}, 'DONE': False}\n"
     ]
    },
    {
     "name": "stderr",
     "output_type": "stream",
     "text": [
      " 99%|█████████▉| 99/100 [00:28<00:00,  3.51it/s]\n"
     ]
    },
    {
     "name": "stdout",
     "output_type": "stream",
     "text": [
      "RANK1_MEAN: 7.04\n",
      "NDCG_MEAN: 25.979\n",
      "TIME_SPENT_MEAN: 0.282\n",
      "===29/32===>  2023-Jun-12 10:48:18 experiment: {'CRITERIA': 'total_gte_5', 'TOPK_RETRIEVER': 100, 'TOPK_RANKER': 200, 'PIPE': {'PIPE_NAME': 'pipe_sts_ranker_minilm', 'PIPE_OBJECT': <haystack.pipelines.base.Pipeline object at 0x7f25f1badf10>, 'RETRIEVER_TYPE': 'sts', 'RETRIEVER_MODEL_NAME': 'rufimelo/Legal-BERTimbau-sts-large-ma-v3', 'RANKER_MODEL_NAME': 'unicamp-dl/mMiniLM-L6-v2-pt-v2'}, 'DONE': False}\n"
     ]
    },
    {
     "name": "stderr",
     "output_type": "stream",
     "text": [
      " 99%|█████████▉| 99/100 [00:29<00:00,  3.40it/s]\n"
     ]
    },
    {
     "name": "stdout",
     "output_type": "stream",
     "text": [
      "RANK1_MEAN: 5.865\n",
      "NDCG_MEAN: 23.582\n",
      "TIME_SPENT_MEAN: 0.291\n",
      "===30/32===>  2023-Jun-12 10:48:47 experiment: {'CRITERIA': 'total_gte_5', 'TOPK_RETRIEVER': 100, 'TOPK_RANKER': 50, 'PIPE': {'PIPE_NAME': 'pipe_bm25_ranker_minilm', 'PIPE_OBJECT': <haystack.pipelines.base.Pipeline object at 0x7f25f350d3d0>, 'RETRIEVER_TYPE': 'bm25', 'RETRIEVER_MODEL_NAME': '', 'RANKER_MODEL_NAME': 'unicamp-dl/mMiniLM-L6-v2-pt-v2'}, 'DONE': False}\n"
     ]
    },
    {
     "name": "stderr",
     "output_type": "stream",
     "text": [
      " 99%|█████████▉| 99/100 [00:27<00:00,  3.54it/s]\n"
     ]
    },
    {
     "name": "stdout",
     "output_type": "stream",
     "text": [
      "RANK1_MEAN: 5.867\n",
      "NDCG_MEAN: 25.979\n",
      "TIME_SPENT_MEAN: 0.279\n",
      "===31/32===>  2023-Jun-12 10:49:15 experiment: {'CRITERIA': 'total_gte_5', 'TOPK_RETRIEVER': 100, 'TOPK_RANKER': 50, 'PIPE': {'PIPE_NAME': 'pipe_sts_ranker_minilm', 'PIPE_OBJECT': <haystack.pipelines.base.Pipeline object at 0x7f25f1badf10>, 'RETRIEVER_TYPE': 'sts', 'RETRIEVER_MODEL_NAME': 'rufimelo/Legal-BERTimbau-sts-large-ma-v3', 'RANKER_MODEL_NAME': 'unicamp-dl/mMiniLM-L6-v2-pt-v2'}, 'DONE': False}\n"
     ]
    },
    {
     "name": "stderr",
     "output_type": "stream",
     "text": [
      " 99%|█████████▉| 99/100 [00:28<00:00,  3.43it/s]\n"
     ]
    },
    {
     "name": "stdout",
     "output_type": "stream",
     "text": [
      "RANK1_MEAN: 5.305\n",
      "NDCG_MEAN: 23.582\n",
      "TIME_SPENT_MEAN: 0.289\n",
      "CPU times: user 40min 58s, sys: 10.7 s, total: 41min 9s\n",
      "Wall time: 36min 27s\n"
     ]
    }
   ],
   "source": [
    "%%time\n",
    "# colocar pequeno só para testes, depois voltar para 9999999 (número maior do que o número de termos a pesquisar)\n",
    "limit_query = 100 # 9999999\n",
    "for cnt, experiment in enumerate(list_experiment):\n",
    "    if not experiment['DONE']:\n",
    "        list_result_experiment = [] # por experiment\n",
    "        # no caso de normas segecex, bastaria 224 para qtd5 e 891 para qtd1\n",
    "        print(f\"==={cnt}/{len(list_experiment)}===>  {time.strftime('%Y-%b-%d %H:%M:%S')} experiment: {experiment}\")\n",
    "        result_run = util_search.experiment_run(parm_df=df_search_data, \n",
    "                                                parm_experiment=experiment,\n",
    "                                                parm_ndcg_position=12,\n",
    "                                                parm_limit_query=limit_query,\n",
    "                                                parm_print=True)\n",
    "        list_result_experiment.append(result_run)\n",
    "        # print(f\"qtd_encontrado sim:{result_run['qtd_encontrado']}, não:{result_run['qtd_nao_encontrado']} ({result_run['percent_nao_encontrado']}%)\")\n",
    "        experiment['DONE'] = True\n",
    "        util_search.add_experiment_result(parm_list_result=list_result_experiment, parm_dataset='juris_tcu_index')\n",
    "\n"
   ]
  },
  {
   "cell_type": "code",
   "execution_count": null,
   "metadata": {},
   "outputs": [],
   "source": []
  }
 ],
 "metadata": {
  "kernelspec": {
   "display_name": "relevar-busca",
   "language": "python",
   "name": "python3"
  },
  "language_info": {
   "codemirror_mode": {
    "name": "ipython",
    "version": 3
   },
   "file_extension": ".py",
   "mimetype": "text/x-python",
   "name": "python",
   "nbconvert_exporter": "python",
   "pygments_lexer": "ipython3",
   "version": "3.7.13"
  },
  "orig_nbformat": 4,
  "vscode": {
   "interpreter": {
    "hash": "45978bf3509deeb93161d1472b16f82a40245d44c2beae6c63ad8f9bb3f69171"
   }
  }
 },
 "nbformat": 4,
 "nbformat_minor": 2
}
