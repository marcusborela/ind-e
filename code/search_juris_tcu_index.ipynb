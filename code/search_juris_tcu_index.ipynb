{
 "cells": [
  {
   "attachments": {},
   "cell_type": "markdown",
   "id": "998a4011",
   "metadata": {},
   "source": [
    "# Imports and preparation"
   ]
  },
  {
   "cell_type": "code",
   "execution_count": 2,
   "metadata": {},
   "outputs": [],
   "source": [
    "import os"
   ]
  },
  {
   "cell_type": "code",
   "execution_count": 3,
   "metadata": {},
   "outputs": [],
   "source": [
    "import numpy as np"
   ]
  },
  {
   "cell_type": "code",
   "execution_count": 4,
   "id": "37d4165c",
   "metadata": {},
   "outputs": [],
   "source": [
    "import pandas as pd"
   ]
  },
  {
   "cell_type": "code",
   "execution_count": 5,
   "metadata": {},
   "outputs": [],
   "source": [
    "from tqdm import tqdm"
   ]
  },
  {
   "cell_type": "code",
   "execution_count": 6,
   "metadata": {},
   "outputs": [],
   "source": [
    "import time, gc"
   ]
  },
  {
   "cell_type": "code",
   "execution_count": 7,
   "metadata": {},
   "outputs": [],
   "source": [
    "import importlib"
   ]
  },
  {
   "cell_type": "code",
   "execution_count": 8,
   "metadata": {},
   "outputs": [],
   "source": [
    "from itertools import product\n"
   ]
  },
  {
   "cell_type": "code",
   "execution_count": 9,
   "metadata": {},
   "outputs": [
    {
     "name": "stderr",
     "output_type": "stream",
     "text": [
      "OpenAI tiktoken module is not available for Python < 3.8,Linux ARM64 and AARCH64. Falling back to GPT2TokenizerFast.\n",
      "WARNING:haystack.nodes.answer_generator.openai:OpenAI tiktoken module is not available for Python < 3.8,Linux ARM64 and AARCH64. Falling back to GPT2TokenizerFast.\n"
     ]
    }
   ],
   "source": [
    "from util import util_elastic"
   ]
  },
  {
   "cell_type": "code",
   "execution_count": 10,
   "metadata": {},
   "outputs": [],
   "source": [
    "from util import util_pipeline"
   ]
  },
  {
   "cell_type": "code",
   "execution_count": 11,
   "metadata": {},
   "outputs": [],
   "source": [
    "from util import util_experiment"
   ]
  },
  {
   "cell_type": "code",
   "execution_count": 12,
   "id": "f911fcf2",
   "metadata": {},
   "outputs": [],
   "source": [
    "# Para ter repetibilidade nos resultados\n",
    "random_state = 1\n",
    "\n",
    "# Tratar valores infinitos (+ e -) como np.NaN\n",
    "pd.options.mode.use_inf_as_na = True\n",
    "\n",
    "# IMPORTANTE para tornar figuras interativas\n",
    "# %matplotlib notebook\n",
    "\n",
    "# Tamanho padrão das figuras\n",
    "figsize=(10,6)\n",
    "\n",
    "pd.set_option('display.max_row', 1000)\n",
    "\n",
    "pd.set_option('display.max_columns', 50)\n",
    "\n",
    "pd.set_option('display.column_space', 40)\n",
    "pd.set_option('display.max_colwidth', 100)\n",
    "pd.set_option('display.width', 200)\n"
   ]
  },
  {
   "cell_type": "code",
   "execution_count": 13,
   "id": "6e05b9a6",
   "metadata": {},
   "outputs": [],
   "source": [
    "PATH_QUERY = '../data/juris_tcu_index/query.csv'\n",
    "PATH_QREL =  '../data/juris_tcu_index/qrel.csv'"
   ]
  },
  {
   "attachments": {},
   "cell_type": "markdown",
   "metadata": {},
   "source": [
    "# Data load"
   ]
  },
  {
   "attachments": {},
   "cell_type": "markdown",
   "metadata": {},
   "source": [
    "## Query data load"
   ]
  },
  {
   "cell_type": "code",
   "execution_count": 14,
   "id": "1cf03f22",
   "metadata": {},
   "outputs": [],
   "source": [
    "df_query = pd.read_csv(PATH_QUERY)"
   ]
  },
  {
   "cell_type": "code",
   "execution_count": 15,
   "metadata": {},
   "outputs": [
    {
     "data": {
      "text/plain": [
       "(16045, 11)"
      ]
     },
     "execution_count": 15,
     "metadata": {},
     "output_type": "execute_result"
    }
   ],
   "source": [
    "df_query.shape"
   ]
  },
  {
   "cell_type": "code",
   "execution_count": 16,
   "metadata": {},
   "outputs": [
    {
     "data": {
      "text/html": [
       "<div>\n",
       "<style scoped>\n",
       "    .dataframe tbody tr th:only-of-type {\n",
       "        vertical-align: middle;\n",
       "    }\n",
       "\n",
       "    .dataframe tbody tr th {\n",
       "        vertical-align: top;\n",
       "    }\n",
       "\n",
       "    .dataframe thead th {\n",
       "        text-align: right;\n",
       "    }\n",
       "</style>\n",
       "<table border=\"1\" class=\"dataframe\">\n",
       "  <thead>\n",
       "    <tr style=\"text-align: right;\">\n",
       "      <th></th>\n",
       "      <th>ID</th>\n",
       "      <th>TEXT</th>\n",
       "      <th>REFERENCE_LIST</th>\n",
       "      <th>PARADIGMATIC</th>\n",
       "      <th>AREA_NAME</th>\n",
       "      <th>AREA_ID_DESCRIPTOR</th>\n",
       "      <th>NORMATIVE_PROCESS_TYPE</th>\n",
       "      <th>NORMATIVE_IDENTIFICATION</th>\n",
       "      <th>NORMATIVE_DATE</th>\n",
       "      <th>NORMATIVE_AUTHOR_TYPE</th>\n",
       "      <th>NORMATIVE_AUTHOR_NAME</th>\n",
       "    </tr>\n",
       "  </thead>\n",
       "  <tbody>\n",
       "    <tr>\n",
       "      <th>5618</th>\n",
       "      <td>2845</td>\n",
       "      <td>Em regra, o pregão é a modalidade de licitação adequada para a concessão remunerada de uso de be...</td>\n",
       "      <td>NaN</td>\n",
       "      <td>NaN</td>\n",
       "      <td>Licitação</td>\n",
       "      <td>932</td>\n",
       "      <td>REPRESENTAÇÃO</td>\n",
       "      <td>Acórdão 478/2016 - Plenário</td>\n",
       "      <td>2016-03-02</td>\n",
       "      <td>RELATOR</td>\n",
       "      <td>MARCOS BEMQUERER</td>\n",
       "    </tr>\n",
       "  </tbody>\n",
       "</table>\n",
       "</div>"
      ],
      "text/plain": [
       "        ID                                                                                                 TEXT REFERENCE_LIST PARADIGMATIC  AREA_NAME  AREA_ID_DESCRIPTOR NORMATIVE_PROCESS_TYPE  \\\n",
       "5618  2845  Em regra, o pregão é a modalidade de licitação adequada para a concessão remunerada de uso de be...            NaN          NaN  Licitação                 932          REPRESENTAÇÃO   \n",
       "\n",
       "         NORMATIVE_IDENTIFICATION NORMATIVE_DATE NORMATIVE_AUTHOR_TYPE NORMATIVE_AUTHOR_NAME  \n",
       "5618  Acórdão 478/2016 - Plenário     2016-03-02               RELATOR      MARCOS BEMQUERER  "
      ]
     },
     "execution_count": 16,
     "metadata": {},
     "output_type": "execute_result"
    }
   ],
   "source": [
    "df_query[df_query['ID']==2845]"
   ]
  },
  {
   "cell_type": "code",
   "execution_count": 17,
   "id": "a75dd812",
   "metadata": {},
   "outputs": [
    {
     "data": {
      "text/html": [
       "<div>\n",
       "<style scoped>\n",
       "    .dataframe tbody tr th:only-of-type {\n",
       "        vertical-align: middle;\n",
       "    }\n",
       "\n",
       "    .dataframe tbody tr th {\n",
       "        vertical-align: top;\n",
       "    }\n",
       "\n",
       "    .dataframe thead th {\n",
       "        text-align: right;\n",
       "    }\n",
       "</style>\n",
       "<table border=\"1\" class=\"dataframe\">\n",
       "  <thead>\n",
       "    <tr style=\"text-align: right;\">\n",
       "      <th></th>\n",
       "      <th>ID</th>\n",
       "      <th>TEXT</th>\n",
       "      <th>REFERENCE_LIST</th>\n",
       "      <th>PARADIGMATIC</th>\n",
       "      <th>AREA_NAME</th>\n",
       "      <th>AREA_ID_DESCRIPTOR</th>\n",
       "      <th>NORMATIVE_PROCESS_TYPE</th>\n",
       "      <th>NORMATIVE_IDENTIFICATION</th>\n",
       "      <th>NORMATIVE_DATE</th>\n",
       "      <th>NORMATIVE_AUTHOR_TYPE</th>\n",
       "      <th>NORMATIVE_AUTHOR_NAME</th>\n",
       "    </tr>\n",
       "  </thead>\n",
       "  <tbody>\n",
       "    <tr>\n",
       "      <th>0</th>\n",
       "      <td>13568</td>\n",
       "      <td>É ilegal a contagem de tempo ficto de serviço prestado sob a égide da Lei 3.313/1957, proporcion...</td>\n",
       "      <td>Lei Complementar 51/1985 || Lei Ordinária 3313/1957</td>\n",
       "      <td>NaN</td>\n",
       "      <td>Pessoal</td>\n",
       "      <td>1131</td>\n",
       "      <td>APOSENTADORIA</td>\n",
       "      <td>Acórdão 168/2014 - Segunda Câmara</td>\n",
       "      <td>2014-01-28</td>\n",
       "      <td>RELATOR</td>\n",
       "      <td>JOSÉ JORGE</td>\n",
       "    </tr>\n",
       "    <tr>\n",
       "      <th>1</th>\n",
       "      <td>11614</td>\n",
       "      <td>SÚMULA TCU 283: Para fim de habilitação, a Administração Pública não deve exigir dos licitantes ...</td>\n",
       "      <td>NaN</td>\n",
       "      <td>SUMULA</td>\n",
       "      <td>Licitação</td>\n",
       "      <td>932</td>\n",
       "      <td>ADMINISTRATIVO</td>\n",
       "      <td>Acórdão 1613/2013 - Plenário</td>\n",
       "      <td>2013-06-26</td>\n",
       "      <td>RELATOR</td>\n",
       "      <td>JOSÉ JORGE</td>\n",
       "    </tr>\n",
       "    <tr>\n",
       "      <th>2</th>\n",
       "      <td>21087</td>\n",
       "      <td>A contratação de serviços por preços superiores às referências legais (Sinapi e Sicro) deve ser,...</td>\n",
       "      <td>NaN</td>\n",
       "      <td>NaN</td>\n",
       "      <td>Licitação</td>\n",
       "      <td>932</td>\n",
       "      <td>PRESTAÇÃO DE CONTAS</td>\n",
       "      <td>Acórdão 3936/2013 - Segunda Câmara</td>\n",
       "      <td>2013-07-09</td>\n",
       "      <td>RELATOR</td>\n",
       "      <td>ANA ARRAES</td>\n",
       "    </tr>\n",
       "    <tr>\n",
       "      <th>3</th>\n",
       "      <td>35016</td>\n",
       "      <td>Não se aplica, excepcionalmente, multa aos gestores por grave infração à norma legal se a irregu...</td>\n",
       "      <td>NaN</td>\n",
       "      <td>NaN</td>\n",
       "      <td>Responsabilidade</td>\n",
       "      <td>775</td>\n",
       "      <td>REPRESENTAÇÃO</td>\n",
       "      <td>Acórdão 3231/2011 - Plenário</td>\n",
       "      <td>2011-12-07</td>\n",
       "      <td>RELATOR</td>\n",
       "      <td>AROLDO CEDRAZ</td>\n",
       "    </tr>\n",
       "    <tr>\n",
       "      <th>4</th>\n",
       "      <td>29370</td>\n",
       "      <td>Em contratatações de TI, não cabe aceitar propostas de preço com incidência de encargos majorado...</td>\n",
       "      <td>NaN</td>\n",
       "      <td>NaN</td>\n",
       "      <td>Licitação</td>\n",
       "      <td>932</td>\n",
       "      <td>REPRESENTAÇÃO</td>\n",
       "      <td>Acórdão 3231/2011 - Plenário</td>\n",
       "      <td>2011-12-07</td>\n",
       "      <td>RELATOR</td>\n",
       "      <td>AROLDO CEDRAZ</td>\n",
       "    </tr>\n",
       "  </tbody>\n",
       "</table>\n",
       "</div>"
      ],
      "text/plain": [
       "      ID                                                                                                 TEXT                                       REFERENCE_LIST PARADIGMATIC         AREA_NAME  \\\n",
       "0  13568  É ilegal a contagem de tempo ficto de serviço prestado sob a égide da Lei 3.313/1957, proporcion...  Lei Complementar 51/1985 || Lei Ordinária 3313/1957          NaN           Pessoal   \n",
       "1  11614  SÚMULA TCU 283: Para fim de habilitação, a Administração Pública não deve exigir dos licitantes ...                                                  NaN       SUMULA         Licitação   \n",
       "2  21087  A contratação de serviços por preços superiores às referências legais (Sinapi e Sicro) deve ser,...                                                  NaN          NaN         Licitação   \n",
       "3  35016  Não se aplica, excepcionalmente, multa aos gestores por grave infração à norma legal se a irregu...                                                  NaN          NaN  Responsabilidade   \n",
       "4  29370  Em contratatações de TI, não cabe aceitar propostas de preço com incidência de encargos majorado...                                                  NaN          NaN         Licitação   \n",
       "\n",
       "   AREA_ID_DESCRIPTOR NORMATIVE_PROCESS_TYPE            NORMATIVE_IDENTIFICATION NORMATIVE_DATE NORMATIVE_AUTHOR_TYPE NORMATIVE_AUTHOR_NAME  \n",
       "0                1131          APOSENTADORIA   Acórdão 168/2014 - Segunda Câmara     2014-01-28               RELATOR            JOSÉ JORGE  \n",
       "1                 932         ADMINISTRATIVO        Acórdão 1613/2013 - Plenário     2013-06-26               RELATOR            JOSÉ JORGE  \n",
       "2                 932    PRESTAÇÃO DE CONTAS  Acórdão 3936/2013 - Segunda Câmara     2013-07-09               RELATOR            ANA ARRAES  \n",
       "3                 775          REPRESENTAÇÃO        Acórdão 3231/2011 - Plenário     2011-12-07               RELATOR         AROLDO CEDRAZ  \n",
       "4                 932          REPRESENTAÇÃO        Acórdão 3231/2011 - Plenário     2011-12-07               RELATOR         AROLDO CEDRAZ  "
      ]
     },
     "execution_count": 17,
     "metadata": {},
     "output_type": "execute_result"
    }
   ],
   "source": [
    "df_query.head()"
   ]
  },
  {
   "attachments": {},
   "cell_type": "markdown",
   "metadata": {},
   "source": [
    "## Qrel data load"
   ]
  },
  {
   "cell_type": "code",
   "execution_count": 18,
   "id": "1cf03f22",
   "metadata": {},
   "outputs": [],
   "source": [
    "df_qrel = pd.read_csv(PATH_QREL)"
   ]
  },
  {
   "cell_type": "code",
   "execution_count": 19,
   "metadata": {},
   "outputs": [
    {
     "data": {
      "text/plain": [
       "(94809, 3)"
      ]
     },
     "execution_count": 19,
     "metadata": {},
     "output_type": "execute_result"
    }
   ],
   "source": [
    "df_qrel.shape"
   ]
  },
  {
   "cell_type": "code",
   "execution_count": 20,
   "id": "a75dd812",
   "metadata": {},
   "outputs": [
    {
     "data": {
      "text/html": [
       "<div>\n",
       "<style scoped>\n",
       "    .dataframe tbody tr th:only-of-type {\n",
       "        vertical-align: middle;\n",
       "    }\n",
       "\n",
       "    .dataframe tbody tr th {\n",
       "        vertical-align: top;\n",
       "    }\n",
       "\n",
       "    .dataframe thead th {\n",
       "        text-align: right;\n",
       "    }\n",
       "</style>\n",
       "<table border=\"1\" class=\"dataframe\">\n",
       "  <thead>\n",
       "    <tr style=\"text-align: right;\">\n",
       "      <th></th>\n",
       "      <th>ID_QUERY</th>\n",
       "      <th>ID_DOCTO</th>\n",
       "      <th>TYPE</th>\n",
       "    </tr>\n",
       "  </thead>\n",
       "  <tbody>\n",
       "    <tr>\n",
       "      <th>0</th>\n",
       "      <td>158</td>\n",
       "      <td>15147</td>\n",
       "      <td>INDEXACAO_EXTRA</td>\n",
       "    </tr>\n",
       "    <tr>\n",
       "      <th>1</th>\n",
       "      <td>37</td>\n",
       "      <td>15147</td>\n",
       "      <td>INDEXACAO_EXTRA</td>\n",
       "    </tr>\n",
       "    <tr>\n",
       "      <th>2</th>\n",
       "      <td>178</td>\n",
       "      <td>15147</td>\n",
       "      <td>INDEXACAO_EXTRA</td>\n",
       "    </tr>\n",
       "    <tr>\n",
       "      <th>3</th>\n",
       "      <td>14564</td>\n",
       "      <td>15147</td>\n",
       "      <td>INDEXACAO_EXTRA</td>\n",
       "    </tr>\n",
       "    <tr>\n",
       "      <th>4</th>\n",
       "      <td>9219</td>\n",
       "      <td>15147</td>\n",
       "      <td>INDEXACAO_EXTRA</td>\n",
       "    </tr>\n",
       "  </tbody>\n",
       "</table>\n",
       "</div>"
      ],
      "text/plain": [
       "   ID_QUERY  ID_DOCTO             TYPE\n",
       "0       158     15147  INDEXACAO_EXTRA\n",
       "1        37     15147  INDEXACAO_EXTRA\n",
       "2       178     15147  INDEXACAO_EXTRA\n",
       "3     14564     15147  INDEXACAO_EXTRA\n",
       "4      9219     15147  INDEXACAO_EXTRA"
      ]
     },
     "execution_count": 20,
     "metadata": {},
     "output_type": "execute_result"
    }
   ],
   "source": [
    "df_qrel.head()"
   ]
  },
  {
   "cell_type": "code",
   "execution_count": 21,
   "metadata": {},
   "outputs": [
    {
     "data": {
      "text/plain": [
       "94809"
      ]
     },
     "execution_count": 21,
     "metadata": {},
     "output_type": "execute_result"
    }
   ],
   "source": [
    "df_qrel.shape[0]"
   ]
  },
  {
   "cell_type": "code",
   "execution_count": 22,
   "metadata": {},
   "outputs": [],
   "source": [
    "df_search_data = df_query.merge(df_qrel, how='left', left_on='ID', right_on='ID_QUERY').drop('ID_QUERY', axis=1)"
   ]
  },
  {
   "cell_type": "code",
   "execution_count": 23,
   "metadata": {},
   "outputs": [
    {
     "data": {
      "text/plain": [
       "94809"
      ]
     },
     "execution_count": 23,
     "metadata": {},
     "output_type": "execute_result"
    }
   ],
   "source": [
    "df_search_data.shape[0]\n"
   ]
  },
  {
   "cell_type": "code",
   "execution_count": 24,
   "metadata": {},
   "outputs": [],
   "source": [
    "# Agrupar os dados pelo ID e criar a coluna 'RELEVANCE_LIST' com a lista de tuplas\n",
    "# df_new = df_search_data.groupby('ID').apply(lambda x: list(zip(x['ID_DOCTO'], x['TYPE']))).reset_index(name='RELEVANCE_LIST')\n",
    "# df_new['RELEVANCE_LIST'] = df_new['RELEVANCE_LIST'].apply(lambda x: sorted(x, key=lambda tup: ('AREA', 'TEMA', 'SUBTEMA', 'INDEXACAO_EXTRA').index(tup[1])))\n",
    "df_new = df_search_data.groupby('ID').apply(lambda x: dict(zip(x['ID_DOCTO'], x['TYPE']))).reset_index(name='RELEVANCE_DICT')\n"
   ]
  },
  {
   "cell_type": "code",
   "execution_count": 25,
   "metadata": {},
   "outputs": [
    {
     "data": {
      "text/html": [
       "<div>\n",
       "<style scoped>\n",
       "    .dataframe tbody tr th:only-of-type {\n",
       "        vertical-align: middle;\n",
       "    }\n",
       "\n",
       "    .dataframe tbody tr th {\n",
       "        vertical-align: top;\n",
       "    }\n",
       "\n",
       "    .dataframe thead th {\n",
       "        text-align: right;\n",
       "    }\n",
       "</style>\n",
       "<table border=\"1\" class=\"dataframe\">\n",
       "  <thead>\n",
       "    <tr style=\"text-align: right;\">\n",
       "      <th></th>\n",
       "      <th>ID</th>\n",
       "      <th>RELEVANCE_DICT</th>\n",
       "    </tr>\n",
       "  </thead>\n",
       "  <tbody>\n",
       "    <tr>\n",
       "      <th>0</th>\n",
       "      <td>5</td>\n",
       "      <td>{1298: 'INDEXACAO_EXTRA', 15340: 'INDEXACAO_EXTRA', 15961: 'INDEXACAO_EXTRA', 1131: 'AREA', 5106...</td>\n",
       "    </tr>\n",
       "    <tr>\n",
       "      <th>1</th>\n",
       "      <td>6</td>\n",
       "      <td>{207: 'INDEXACAO_EXTRA', 15961: 'INDEXACAO_EXTRA', 1131: 'AREA', 5106: 'SUBTEMA', 1113: 'TEMA'}</td>\n",
       "    </tr>\n",
       "    <tr>\n",
       "      <th>2</th>\n",
       "      <td>7</td>\n",
       "      <td>{108: 'INDEXACAO_EXTRA', 1526: 'TEMA', 1727: 'SUBTEMA', 223: 'INDEXACAO_EXTRA', 650: 'INDEXACAO_...</td>\n",
       "    </tr>\n",
       "    <tr>\n",
       "      <th>3</th>\n",
       "      <td>8</td>\n",
       "      <td>{887: 'SUBTEMA', 92: 'TEMA', 1131: 'AREA', 1100820: 'INDEXACAO_EXTRA'}</td>\n",
       "    </tr>\n",
       "    <tr>\n",
       "      <th>4</th>\n",
       "      <td>9</td>\n",
       "      <td>{1215: 'INDEXACAO_EXTRA', 14715: 'SUBTEMA', 46: 'TEMA', 1480: 'INDEXACAO_EXTRA', 5095: 'AREA'}</td>\n",
       "    </tr>\n",
       "  </tbody>\n",
       "</table>\n",
       "</div>"
      ],
      "text/plain": [
       "   ID                                                                                       RELEVANCE_DICT\n",
       "0   5  {1298: 'INDEXACAO_EXTRA', 15340: 'INDEXACAO_EXTRA', 15961: 'INDEXACAO_EXTRA', 1131: 'AREA', 5106...\n",
       "1   6      {207: 'INDEXACAO_EXTRA', 15961: 'INDEXACAO_EXTRA', 1131: 'AREA', 5106: 'SUBTEMA', 1113: 'TEMA'}\n",
       "2   7  {108: 'INDEXACAO_EXTRA', 1526: 'TEMA', 1727: 'SUBTEMA', 223: 'INDEXACAO_EXTRA', 650: 'INDEXACAO_...\n",
       "3   8                               {887: 'SUBTEMA', 92: 'TEMA', 1131: 'AREA', 1100820: 'INDEXACAO_EXTRA'}\n",
       "4   9       {1215: 'INDEXACAO_EXTRA', 14715: 'SUBTEMA', 46: 'TEMA', 1480: 'INDEXACAO_EXTRA', 5095: 'AREA'}"
      ]
     },
     "execution_count": 25,
     "metadata": {},
     "output_type": "execute_result"
    }
   ],
   "source": [
    "df_new.head()"
   ]
  },
  {
   "cell_type": "code",
   "execution_count": 26,
   "metadata": {},
   "outputs": [],
   "source": [
    "# Unir o resultado com as demais colunas únicas\n",
    "df_new = pd.merge(df_new, df_search_data.drop_duplicates('ID'), on='ID', how='left')"
   ]
  },
  {
   "cell_type": "code",
   "execution_count": 27,
   "metadata": {},
   "outputs": [],
   "source": [
    "\n",
    "# Selecionar as colunas desejadas\n",
    "df_search_data = df_new[['ID', 'TEXT', 'REFERENCE_LIST', 'PARADIGMATIC', 'AREA_NAME', 'AREA_ID_DESCRIPTOR', 'NORMATIVE_PROCESS_TYPE', 'NORMATIVE_IDENTIFICATION', 'NORMATIVE_DATE', 'NORMATIVE_AUTHOR_TYPE', 'NORMATIVE_AUTHOR_NAME', 'RELEVANCE_DICT']]\n"
   ]
  },
  {
   "cell_type": "code",
   "execution_count": 28,
   "metadata": {},
   "outputs": [
    {
     "data": {
      "text/plain": [
       "(16045, 12)"
      ]
     },
     "execution_count": 28,
     "metadata": {},
     "output_type": "execute_result"
    }
   ],
   "source": [
    "df_search_data.shape"
   ]
  },
  {
   "cell_type": "code",
   "execution_count": 29,
   "id": "60e55155",
   "metadata": {},
   "outputs": [],
   "source": [
    "df_search_data = df_search_data.reset_index()"
   ]
  },
  {
   "cell_type": "code",
   "execution_count": 30,
   "metadata": {},
   "outputs": [
    {
     "data": {
      "text/html": [
       "<div>\n",
       "<style scoped>\n",
       "    .dataframe tbody tr th:only-of-type {\n",
       "        vertical-align: middle;\n",
       "    }\n",
       "\n",
       "    .dataframe tbody tr th {\n",
       "        vertical-align: top;\n",
       "    }\n",
       "\n",
       "    .dataframe thead th {\n",
       "        text-align: right;\n",
       "    }\n",
       "</style>\n",
       "<table border=\"1\" class=\"dataframe\">\n",
       "  <thead>\n",
       "    <tr style=\"text-align: right;\">\n",
       "      <th></th>\n",
       "      <th>index</th>\n",
       "      <th>ID</th>\n",
       "      <th>TEXT</th>\n",
       "      <th>REFERENCE_LIST</th>\n",
       "      <th>PARADIGMATIC</th>\n",
       "      <th>AREA_NAME</th>\n",
       "      <th>AREA_ID_DESCRIPTOR</th>\n",
       "      <th>NORMATIVE_PROCESS_TYPE</th>\n",
       "      <th>NORMATIVE_IDENTIFICATION</th>\n",
       "      <th>NORMATIVE_DATE</th>\n",
       "      <th>NORMATIVE_AUTHOR_TYPE</th>\n",
       "      <th>NORMATIVE_AUTHOR_NAME</th>\n",
       "      <th>RELEVANCE_DICT</th>\n",
       "    </tr>\n",
       "  </thead>\n",
       "  <tbody>\n",
       "    <tr>\n",
       "      <th>0</th>\n",
       "      <td>0</td>\n",
       "      <td>5</td>\n",
       "      <td>SÚMULA TCU 1: Não se compreendem como vencimento, para efeito de concessão da pensão especial co...</td>\n",
       "      <td>Lei Ordinária 3738/1960 || Lei Ordinária 1711/1952, art. 184</td>\n",
       "      <td>SUMULA</td>\n",
       "      <td>Pessoal</td>\n",
       "      <td>1131</td>\n",
       "      <td>NaN</td>\n",
       "      <td>Ata 88/1973 - Plenário</td>\n",
       "      <td>1973-12-04</td>\n",
       "      <td>RELATOR</td>\n",
       "      <td>OCTÁVIO GALLOTTI</td>\n",
       "      <td>{1298: 'INDEXACAO_EXTRA', 15340: 'INDEXACAO_EXTRA', 15961: 'INDEXACAO_EXTRA', 1131: 'AREA', 5106...</td>\n",
       "    </tr>\n",
       "    <tr>\n",
       "      <th>1</th>\n",
       "      <td>1</td>\n",
       "      <td>6</td>\n",
       "      <td>SÚMULA TCU 2: Configura-se como vencimento, para efeito da concessão da pensão especial com fund...</td>\n",
       "      <td>Lei Ordinária 3738/1960</td>\n",
       "      <td>SUMULA</td>\n",
       "      <td>Pessoal</td>\n",
       "      <td>1131</td>\n",
       "      <td>NaN</td>\n",
       "      <td>Ata 88/1973 - Plenário</td>\n",
       "      <td>1973-12-04</td>\n",
       "      <td>RELATOR</td>\n",
       "      <td>OCTÁVIO GALLOTTI</td>\n",
       "      <td>{207: 'INDEXACAO_EXTRA', 15961: 'INDEXACAO_EXTRA', 1131: 'AREA', 5106: 'SUBTEMA', 1113: 'TEMA'}</td>\n",
       "    </tr>\n",
       "    <tr>\n",
       "      <th>2</th>\n",
       "      <td>2</td>\n",
       "      <td>7</td>\n",
       "      <td>SÚMULA TCU 3: O arquivamento é a solução indicada para as hipóteses em que as contas de responsá...</td>\n",
       "      <td>NaN</td>\n",
       "      <td>SUMULA</td>\n",
       "      <td>Direito processual</td>\n",
       "      <td>5288</td>\n",
       "      <td>NaN</td>\n",
       "      <td>Ata 88/1973 - Plenário</td>\n",
       "      <td>1973-12-04</td>\n",
       "      <td>RELATOR</td>\n",
       "      <td>OCTÁVIO GALLOTTI</td>\n",
       "      <td>{108: 'INDEXACAO_EXTRA', 1526: 'TEMA', 1727: 'SUBTEMA', 223: 'INDEXACAO_EXTRA', 650: 'INDEXACAO_...</td>\n",
       "    </tr>\n",
       "    <tr>\n",
       "      <th>3</th>\n",
       "      <td>3</td>\n",
       "      <td>8</td>\n",
       "      <td>SÚMULA TCU 4: A reclassificação de cargos não aproveita ao servidor aposentado, a menos que lei ...</td>\n",
       "      <td>NaN</td>\n",
       "      <td>SUMULA</td>\n",
       "      <td>Pessoal</td>\n",
       "      <td>1131</td>\n",
       "      <td>NaN</td>\n",
       "      <td>Ata 88/1973 - Plenário</td>\n",
       "      <td>1973-12-04</td>\n",
       "      <td>RELATOR</td>\n",
       "      <td>OCTÁVIO GALLOTTI</td>\n",
       "      <td>{887: 'SUBTEMA', 92: 'TEMA', 1131: 'AREA', 1100820: 'INDEXACAO_EXTRA'}</td>\n",
       "    </tr>\n",
       "    <tr>\n",
       "      <th>4</th>\n",
       "      <td>4</td>\n",
       "      <td>9</td>\n",
       "      <td>SÚMULA TCU 5 (REVOGADA): As sociedades de economia mista, salvo disposição expressa em lei, não ...</td>\n",
       "      <td>NaN</td>\n",
       "      <td>SUMULA</td>\n",
       "      <td>Competência do TCU</td>\n",
       "      <td>5095</td>\n",
       "      <td>NaN</td>\n",
       "      <td>AC 2082/2007-PL</td>\n",
       "      <td>2007-10-03</td>\n",
       "      <td>RELATOR</td>\n",
       "      <td>UBIRATAN AGUIAR</td>\n",
       "      <td>{1215: 'INDEXACAO_EXTRA', 14715: 'SUBTEMA', 46: 'TEMA', 1480: 'INDEXACAO_EXTRA', 5095: 'AREA'}</td>\n",
       "    </tr>\n",
       "  </tbody>\n",
       "</table>\n",
       "</div>"
      ],
      "text/plain": [
       "   index  ID                                                                                                 TEXT                                                REFERENCE_LIST PARADIGMATIC  \\\n",
       "0      0   5  SÚMULA TCU 1: Não se compreendem como vencimento, para efeito de concessão da pensão especial co...  Lei Ordinária 3738/1960 || Lei Ordinária 1711/1952, art. 184       SUMULA   \n",
       "1      1   6  SÚMULA TCU 2: Configura-se como vencimento, para efeito da concessão da pensão especial com fund...                                       Lei Ordinária 3738/1960       SUMULA   \n",
       "2      2   7  SÚMULA TCU 3: O arquivamento é a solução indicada para as hipóteses em que as contas de responsá...                                                           NaN       SUMULA   \n",
       "3      3   8  SÚMULA TCU 4: A reclassificação de cargos não aproveita ao servidor aposentado, a menos que lei ...                                                           NaN       SUMULA   \n",
       "4      4   9  SÚMULA TCU 5 (REVOGADA): As sociedades de economia mista, salvo disposição expressa em lei, não ...                                                           NaN       SUMULA   \n",
       "\n",
       "            AREA_NAME  AREA_ID_DESCRIPTOR NORMATIVE_PROCESS_TYPE NORMATIVE_IDENTIFICATION NORMATIVE_DATE NORMATIVE_AUTHOR_TYPE NORMATIVE_AUTHOR_NAME  \\\n",
       "0             Pessoal                1131                    NaN   Ata 88/1973 - Plenário     1973-12-04               RELATOR      OCTÁVIO GALLOTTI   \n",
       "1             Pessoal                1131                    NaN   Ata 88/1973 - Plenário     1973-12-04               RELATOR      OCTÁVIO GALLOTTI   \n",
       "2  Direito processual                5288                    NaN   Ata 88/1973 - Plenário     1973-12-04               RELATOR      OCTÁVIO GALLOTTI   \n",
       "3             Pessoal                1131                    NaN   Ata 88/1973 - Plenário     1973-12-04               RELATOR      OCTÁVIO GALLOTTI   \n",
       "4  Competência do TCU                5095                    NaN          AC 2082/2007-PL     2007-10-03               RELATOR       UBIRATAN AGUIAR   \n",
       "\n",
       "                                                                                        RELEVANCE_DICT  \n",
       "0  {1298: 'INDEXACAO_EXTRA', 15340: 'INDEXACAO_EXTRA', 15961: 'INDEXACAO_EXTRA', 1131: 'AREA', 5106...  \n",
       "1      {207: 'INDEXACAO_EXTRA', 15961: 'INDEXACAO_EXTRA', 1131: 'AREA', 5106: 'SUBTEMA', 1113: 'TEMA'}  \n",
       "2  {108: 'INDEXACAO_EXTRA', 1526: 'TEMA', 1727: 'SUBTEMA', 223: 'INDEXACAO_EXTRA', 650: 'INDEXACAO_...  \n",
       "3                               {887: 'SUBTEMA', 92: 'TEMA', 1131: 'AREA', 1100820: 'INDEXACAO_EXTRA'}  \n",
       "4       {1215: 'INDEXACAO_EXTRA', 14715: 'SUBTEMA', 46: 'TEMA', 1480: 'INDEXACAO_EXTRA', 5095: 'AREA'}  "
      ]
     },
     "execution_count": 30,
     "metadata": {},
     "output_type": "execute_result"
    }
   ],
   "source": [
    "df_search_data.head()"
   ]
  },
  {
   "cell_type": "code",
   "execution_count": 31,
   "metadata": {},
   "outputs": [],
   "source": [
    "del df_new"
   ]
  },
  {
   "attachments": {},
   "cell_type": "markdown",
   "metadata": {},
   "source": [
    "# Create reference to index (elastic search)"
   ]
  },
  {
   "attachments": {},
   "cell_type": "markdown",
   "metadata": {},
   "source": [
    "Documentation https://docs.haystack.deepset.ai/docs\n",
    "https://haystack.deepset.ai/tutorials/09_dpr_training \n"
   ]
  },
  {
   "cell_type": "code",
   "execution_count": 32,
   "metadata": {},
   "outputs": [
    {
     "name": "stdout",
     "output_type": "stream",
     "text": [
      "Index: indir_juris_tcu_index\n",
      "{'health': 'yellow', 'status': 'open', 'index': 'indir_juris_tcu_index', 'uuid': 'Pl89T40dSwORJnIuYF1t9A', 'pri': '1', 'rep': '1', 'docs.count': '13255', 'docs.deleted': '13255', 'store.size': '289.1mb', 'pri.store.size': '289.1mb'}\n",
      "\n"
     ]
    }
   ],
   "source": [
    "index_dict = util_elastic.return_indexes('indir', parm_print=True)"
   ]
  },
  {
   "cell_type": "code",
   "execution_count": 33,
   "metadata": {},
   "outputs": [
    {
     "data": {
      "text/plain": [
       "{'indir_juris_tcu_index': {'health': 'yellow',\n",
       "  'status': 'open',\n",
       "  'index': 'indir_juris_tcu_index',\n",
       "  'uuid': 'Pl89T40dSwORJnIuYF1t9A',\n",
       "  'pri': '1',\n",
       "  'rep': '1',\n",
       "  'docs.count': '13255',\n",
       "  'docs.deleted': '13255',\n",
       "  'store.size': '289.1mb',\n",
       "  'pri.store.size': '289.1mb'}}"
      ]
     },
     "execution_count": 33,
     "metadata": {},
     "output_type": "execute_result"
    }
   ],
   "source": [
    "index_dict"
   ]
  },
  {
   "cell_type": "code",
   "execution_count": 34,
   "metadata": {},
   "outputs": [],
   "source": [
    "INDEX_NAME = 'indir_juris_tcu_index'"
   ]
  },
  {
   "cell_type": "code",
   "execution_count": 35,
   "metadata": {},
   "outputs": [
    {
     "name": "stdout",
     "output_type": "stream",
     "text": [
      "\n",
      "Qtd de documentos 13255\n",
      "\n",
      "Qtd de embeddings 13255\n",
      "\n",
      "Documento.id=1: <Document: id=1, content='O termo é \"Abandono de cargo\".\n",
      "Abandono de cargo tem definição: \"Configura abandono de cargo a ausên...'>\n"
     ]
    }
   ],
   "source": [
    "index = util_elastic.return_index(parm_index_name=INDEX_NAME)"
   ]
  },
  {
   "attachments": {},
   "cell_type": "markdown",
   "metadata": {},
   "source": [
    "# Pipelines creation"
   ]
  },
  {
   "cell_type": "code",
   "execution_count": 36,
   "metadata": {},
   "outputs": [],
   "source": [
    "pipes = []"
   ]
  },
  {
   "cell_type": "code",
   "execution_count": 37,
   "metadata": {},
   "outputs": [],
   "source": [
    "# Test query\n",
    "# parm_query = \"trata-se de uma denúncia contra o prefeito de Manhuaçu por não haver pago os funcionários da área de limpeza urbana\"\n",
    "parm_query = \"A transferência de documentos da entidade para local impróprio ao armazenamento, causando a perda de informações ou inviabilizando seu manuseio, de forma a impedir a atuação do TCU, é causa de responsabilização do gestor que a ordenou.\""
   ]
  },
  {
   "cell_type": "code",
   "execution_count": 38,
   "metadata": {},
   "outputs": [],
   "source": [
    "nome_modelo_monot5_3b = 'unicamp-dl/mt5-3B-mmarco-en-pt'\n",
    "# \"A mono-ptT5 reranker model (850 mb) pretrained in the BrWac corpus, finetuned for 100k steps on Portuguese translated version of MS MARCO passage dataset. The portuguese dataset was translated using Google Translate.\")\n",
    "nome_caminho_modelo_monot5_3b = \"/home/borela/fontes/relevar-busca/modelo/\" + nome_modelo_monot5_3b\n",
    "assert os.path.exists(nome_caminho_modelo_monot5_3b), f\"Path para {nome_caminho_modelo_monot5_3b} não existe!\""
   ]
  },
  {
   "cell_type": "code",
   "execution_count": 39,
   "metadata": {},
   "outputs": [],
   "source": [
    "nome_modelo_ranking_minilm = 'unicamp-dl/mMiniLM-L6-v2-pt-v2'\n",
    "nome_caminho_modelo_minilm = \"/home/borela/fontes/relevar-busca/modelo/\" + nome_modelo_ranking_minilm\n",
    "assert os.path.exists(nome_caminho_modelo_minilm), f\"Path para {nome_caminho_modelo_minilm} não existe!\""
   ]
  },
  {
   "cell_type": "code",
   "execution_count": 40,
   "metadata": {},
   "outputs": [],
   "source": [
    "nome_modelo_embedding_model_sts = \"rufimelo/Legal-BERTimbau-sts-large-ma-v3\"\n",
    "nome_caminho_modelo_sts = \"/home/borela/fontes/relevar-busca/modelo/\" + nome_modelo_embedding_model_sts\n",
    "assert os.path.exists(nome_caminho_modelo_sts), f\"Path para {nome_caminho_modelo_sts} não existe!\"\n"
   ]
  },
  {
   "cell_type": "code",
   "execution_count": 41,
   "metadata": {},
   "outputs": [
    {
     "ename": "Exception",
     "evalue": "Stop execution - create only desired pipelines in code below ",
     "output_type": "error",
     "traceback": [
      "\u001b[0;31m---------------------------------------------------------------------------\u001b[0m",
      "\u001b[0;31mException\u001b[0m                                 Traceback (most recent call last)",
      "\u001b[0;32m/tmp/ipykernel_708017/2302163279.py\u001b[0m in \u001b[0;36m<module>\u001b[0;34m\u001b[0m\n\u001b[0;32m----> 1\u001b[0;31m \u001b[0;32mraise\u001b[0m \u001b[0mException\u001b[0m \u001b[0;34m(\u001b[0m\u001b[0;34m'Stop execution - create only desired pipelines in code below '\u001b[0m\u001b[0;34m)\u001b[0m\u001b[0;34m\u001b[0m\u001b[0;34m\u001b[0m\u001b[0m\n\u001b[0m",
      "\u001b[0;31mException\u001b[0m: Stop execution - create only desired pipelines in code below "
     ]
    }
   ],
   "source": [
    "raise Exception ('Stop execution - create only desired pipelines in code below ')"
   ]
  },
  {
   "attachments": {},
   "cell_type": "markdown",
   "metadata": {},
   "source": [
    "## Only retrievers"
   ]
  },
  {
   "cell_type": "code",
   "execution_count": null,
   "metadata": {},
   "outputs": [],
   "source": [
    "importlib.reload(util_pipeline)"
   ]
  },
  {
   "attachments": {},
   "cell_type": "markdown",
   "metadata": {},
   "source": [
    "### sts_multihop"
   ]
  },
  {
   "cell_type": "code",
   "execution_count": 43,
   "metadata": {},
   "outputs": [
    {
     "name": "stdout",
     "output_type": "stream",
     "text": [
      "CPU times: user 3.39 s, sys: 715 ms, total: 4.11 s\n",
      "Wall time: 2.16 s\n"
     ]
    }
   ],
   "source": [
    "%%time\n",
    "pipe_sts_multihop = util_pipeline.return_pipeline_sts_multihop(index, parm_path_model=nome_caminho_modelo_sts)"
   ]
  },
  {
   "cell_type": "code",
   "execution_count": 44,
   "metadata": {},
   "outputs": [],
   "source": [
    "pipes.append({'PIPE_NAME': 'pipe_sts_multihop',\n",
    "              'PIPE_OBJECT': pipe_sts_multihop,\n",
    "              'RETRIEVER_TYPE': 'sts_multihop',  # in ['sts', 'bm25']\n",
    "              'RETRIEVER_MODEL_NAME': nome_modelo_embedding_model_sts, # or nome_modelo_embedding_model_sts_rufimelo,\n",
    "              'RANKER_MODEL_NAME': ''})"
   ]
  },
  {
   "cell_type": "code",
   "execution_count": 47,
   "metadata": {},
   "outputs": [
    {
     "name": "stdout",
     "output_type": "stream",
     "text": [
      "Parâmetros usados: {'Retriever': {'top_k': 300}}\n",
      "Consulta: A transferência de documentos da entidade para local impróprio ao armazenamento, causando a perda de informações ou inviabilizando seu manuseio, de forma a impedir a atuação do TCU, é causa de responsabilização do gestor que a ordenou.\n",
      "Qtd documentos retornados: 300\n",
      "Primeiro docto:\n",
      "<Document: id=2577, content='O termo é \"Afastamento de responsável\".\n",
      "Afastamento de responsável tem definição: \"No início ou no c...'>\n",
      "\n",
      "Último (300):\n",
      "<Document: id=2550, content='O termo é \"Declaração de nulidade\".\n",
      "Declaração de nulidade tem definição: \"Declaração que torna o co...'>\n",
      "Seguem os nomes dos termos recuperados em ordem de score\n",
      "0 : ['Afastamento de responsável', 0.9930839884285582]\n",
      "1 : ['Rescisão unilateral', 0.9748706914060489]\n",
      "2 : ['Afastamento preventivo', 0.9741557736812957]\n",
      "3 : ['Perda de objeto', 0.9725962719359168]\n",
      "4 : ['Abandono de cargo', 0.9696305808093489]\n",
      "5 : ['Responsabilidade perante o controle externo', 0.9692663708644913]\n",
      "6 : ['Excludente de responsabilidade', 0.9687883274904563]\n",
      "7 : ['Dispensa sem justa causa', 0.9681823105576527]\n",
      "8 : ['Descarte de documentos', 0.9664597032403718]\n",
      "9 : ['Destituição de função', 0.9663881863234739]\n",
      "10 : ['Arquivamento', 0.9650402024103759]\n",
      "11 : ['Expulsão de estrangeiro', 0.9649607308894933]\n",
      "12 : ['Trancamento das contas', 0.9646853808657104]\n",
      "13 : ['Anulação', 0.9641800137270689]\n",
      "14 : ['Ato precário', 0.9639390672390818]\n",
      "15 : ['Preclusão temporal', 0.9636725883461041]\n",
      "16 : ['Decisão terminativa', 0.9620771568531108]\n",
      "17 : ['Atos de pessoal', 0.9609826149159687]\n",
      "18 : ['Processo administrativo disciplinar', 0.9608461294898473]\n",
      "19 : ['Contas irregulares', 0.960790374975503]\n",
      "20 : ['Desfazimento de bens permanentes', 0.9607845730403285]\n",
      "21 : ['Exclusão de acesso', 0.9605946149526053]\n",
      "22 : ['Negativa de registro', 0.9604734597962636]\n",
      "23 : ['Dispensa arbitrária', 0.9583899892226]\n",
      "24 : ['Ciência (Controle externo)', 0.9580335777941639]\n",
      "25 : ['Afastamento de pessoal', 0.9579483807175388]\n",
      "26 : ['Demissão de pessoal', 0.9575770216285534]\n",
      "27 : ['Revogação', 0.9575380061545622]\n",
      "28 : ['Dissolução de empresa', 0.9570041858596294]\n",
      "29 : ['Princípio da motivação', 0.9566980435461419]\n",
      "30 : ['Dispensa com justa causa', 0.9564133798780595]\n",
      "31 : ['Ato de ofício', 0.9563213678624256]\n",
      "32 : ['Demissão de servidor', 0.9560197120609917]\n",
      "33 : ['Aviso prévio', 0.9552976545109074]\n",
      "34 : ['Desvio de função', 0.9549993617864077]\n",
      "35 : ['Ilícito administrativo', 0.9540219688230777]\n",
      "36 : ['Processo modificador', 0.9538438162925188]\n",
      "37 : ['Processo de controle externo', 0.9534003553534076]\n",
      "38 : ['Contas iliquidáveis', 0.9533478576416983]\n",
      "39 : ['Abuso de poder', 0.952866149279673]\n",
      "40 : ['Rescisão contratual', 0.9526561002421039]\n",
      "41 : ['Determinação', 0.9522163619848079]\n",
      "42 : ['Preclusão', 0.9518459061075061]\n",
      "43 : ['Impeachment', 0.9516816880784442]\n",
      "44 : ['Vazamento de dados', 0.9515021740299701]\n",
      "45 : ['Medida Cautelar inaudita altera pars', 0.951377289633948]\n",
      "46 : ['Exceção de coisa julgada', 0.9512418509968635]\n",
      "47 : ['Caducidade da concessão', 0.9509720906402177]\n",
      "48 : ['Afastamento', 0.9508883324695274]\n",
      "49 : ['Indício de irregularidade grave', 0.9506915405691604]\n",
      "50 : ['Obrigação de resultado', 0.9506775693065309]\n",
      "51 : ['Princípio da ampla defesa', 0.9506209426079751]\n",
      "52 : ['Afastamento para exercício de mandato eletivo', 0.950591737266558]\n",
      "53 : ['Remoção de pessoal', 0.9504782353160299]\n",
      "54 : ['Exoneração de pessoal', 0.950429684261479]\n",
      "55 : ['Decesso remuneratório', 0.9499043444161936]\n",
      "56 : ['Erro de execução', 0.9498522596130125]\n",
      "57 : ['Preclusão consumativa', 0.9491847523206469]\n",
      "58 : ['Decadência', 0.9490604567865645]\n",
      "59 : ['Anulação de empenho', 0.9489927316312505]\n",
      "60 : ['Aposentadoria compulsória', 0.9487812699095419]\n",
      "61 : ['Processo apartado', 0.948730512564796]\n",
      "62 : ['Erro de procedimento', 0.9486512672616599]\n",
      "63 : ['Deportação', 0.948078040124372]\n",
      "64 : ['Ação de controle externo', 0.9476747843879454]\n",
      "65 : ['Renúncia', 0.9472555322435076]\n",
      "66 : ['Desaposentação', 0.9470115337290849]\n",
      "67 : ['Direito ao esquecimento', 0.9467558849639838]\n",
      "68 : ['Custo não renovável', 0.9466454818045339]\n",
      "69 : ['Tutela antecipada', 0.9463083006456102]\n",
      "70 : ['Medida cautelar', 0.9461692194897398]\n",
      "71 : ['Destituição de cargo', 0.945688641616802]\n",
      "72 : ['Pena disciplinar', 0.9456636230708965]\n",
      "73 : ['Suspensão temporária', 0.9454837562413523]\n",
      "74 : ['Auto de infração', 0.9453167701755276]\n",
      "75 : ['Tempo em estoque', 0.9452950550652395]\n",
      "76 : ['Princípio da autotutela', 0.9451294433865175]\n",
      "77 : ['Abandono de emprego', 0.945026358770448]\n",
      "78 : ['Exclusão', 0.9446358899071396]\n",
      "79 : ['Controle externo', 0.9444946180184273]\n",
      "80 : ['Extravio', 0.9441342563881083]\n",
      "81 : ['Processo de execução', 0.943865018886969]\n",
      "82 : ['Decisão preliminar', 0.9438484856378389]\n",
      "83 : ['Excludente de ilicitude', 0.9438031547018063]\n",
      "84 : ['Afastamento para estudo ou missão no exterior', 0.9436987363416601]\n",
      "85 : ['Reunião de encerramento', 0.9436856645828283]\n",
      "86 : ['Rescisão judicial', 0.9436468576026761]\n",
      "87 : ['Gestão documental', 0.9435179233021419]\n",
      "88 : ['Irregularidade grave', 0.9432754905561532]\n",
      "89 : ['Risco de controle', 0.943202891655092]\n",
      "90 : ['Cassação de disponibilidade', 0.943126289913147]\n",
      "91 : ['Controle posterior', 0.9430888919173948]\n",
      "92 : ['Sócio remisso', 0.9430428236297762]\n",
      "93 : ['Função de Assessoramento Superior', 0.9426230060236993]\n",
      "94 : ['Cassação de aposentadoria', 0.9425153364539083]\n",
      "95 : ['Reversão de pessoal', 0.94220616498087]\n",
      "96 : ['Sanção administrativa', 0.942143238816106]\n",
      "97 : ['Relatório de monitoramento', 0.9420093276265253]\n",
      "98 : ['Alcance', 0.9420045201971569]\n",
      "99 : ['Extrato de entrevista', 0.9419397473534288]\n",
      "100 : ['Razões de justificativa', 0.941898224279124]\n",
      "101 : ['Cancelamento', 0.9417916359368756]\n",
      "102 : ['Contagem de tempo de serviço', 0.9416659707114732]\n",
      "103 : ['Garantia contratual', 0.9414678486802204]\n",
      "104 : ['Subtração', 0.9414135455246073]\n",
      "105 : ['Afastamento para participação em Programa de Pós-Graduação', 0.9412585913454313]\n",
      "106 : ['Desacato', 0.9412152836446895]\n",
      "107 : ['Rescisão trabalhista', 0.9411663536625494]\n",
      "108 : ['Evacuação da população', 0.9410280477398281]\n",
      "109 : ['Decisão interlocutória', 0.9408805378395507]\n",
      "110 : ['Processo judicial', 0.9403960349068452]\n",
      "111 : ['Omissão', 0.9402324353669965]\n",
      "112 : ['Concessão em caráter precário', 0.940156807781515]\n",
      "113 : ['Recurso administrativo', 0.9400658800599423]\n",
      "114 : ['Trânsito em julgado', 0.9399593614663062]\n",
      "115 : ['Exceção de pré-executividade', 0.9399157782585748]\n",
      "116 : ['Demissão voluntária', 0.9397991098076609]\n",
      "117 : ['Recebimento definitivo', 0.9397227991289107]\n",
      "118 : ['Indenização', 0.9393939380318067]\n",
      "119 : ['Recurso de reconsideração', 0.9393666044431632]\n",
      "120 : ['Defesa de responsável', 0.9391810012148251]\n",
      "121 : ['Erro material', 0.9389918879281072]\n",
      "122 : ['Ação preventiva', 0.938865908865595]\n",
      "123 : ['Ação rescisória', 0.9387672269317752]\n",
      "124 : ['Contrato de supervisão', 0.9383412188136857]\n",
      "125 : ['Acordo extrajudicial', 0.9382923115568033]\n",
      "126 : ['Negligência', 0.9380378741063565]\n",
      "127 : ['Desvio de objeto', 0.937885359178251]\n",
      "128 : ['Coerção', 0.9376987940731616]\n",
      "129 : ['Excesso de poder', 0.9376070119884522]\n",
      "130 : ['Desaforamento', 0.9375462612917738]\n",
      "131 : ['Impedimento', 0.9374787739158508]\n",
      "132 : ['Impropriedade', 0.9374117465224161]\n",
      "133 : ['Evasão escolar', 0.9373119316853378]\n",
      "134 : ['Desprovimento', 0.9371338347701162]\n",
      "135 : ['Auditoria preventiva', 0.9371216384663831]\n",
      "136 : ['Princípio da finalidade', 0.9369337609786829]\n",
      "137 : ['Diferimento (Direito)', 0.9368972933043725]\n",
      "138 : ['Prisão temporária', 0.9366119085769298]\n",
      "139 : ['Notificação', 0.9364406481815949]\n",
      "140 : ['Execução da despesa', 0.9364140972898027]\n",
      "141 : ['Recebimento provisório', 0.9363818770633856]\n",
      "142 : ['Tomada de contas', 0.9362982479628167]\n",
      "143 : ['Falta funcional', 0.9362839319425142]\n",
      "144 : ['Sonegação de informação', 0.9361032930150246]\n",
      "145 : ['Vício processual', 0.9360092609463783]\n",
      "146 : ['Extrato de contrato', 0.9360008750050914]\n",
      "147 : ['Revisão de ofício', 0.9358834842893132]\n",
      "148 : ['Tempo de inatividade', 0.9358358233598048]\n",
      "149 : ['Estado de exceção', 0.935831679982884]\n",
      "150 : ['Cessão de pessoal', 0.935817146169348]\n",
      "151 : ['Encampação', 0.9357052172934271]\n",
      "152 : ['Invalidez permanente', 0.9355681550795771]\n",
      "153 : ['Incapacidade jurídica', 0.935501814880512]\n",
      "154 : ['Tomada de contas especial', 0.9354755024429682]\n",
      "155 : ['Administração contratada', 0.9354697075363827]\n",
      "156 : ['Poder discricionário', 0.9354203104457277]\n",
      "157 : ['Ato omissivo', 0.9352650667149456]\n",
      "158 : ['Ação cautelar', 0.9352396940171527]\n",
      "159 : ['Erro de direito', 0.9352122520238958]\n",
      "160 : ['Ação corretiva', 0.9350531421357698]\n",
      "161 : ['Desarquivamento', 0.9350101936915588]\n",
      "162 : ['Rescisão amigável', 0.9348367953588615]\n",
      "163 : ['Risco de auditoria', 0.934653683748004]\n",
      "164 : ['Incapacidade', 0.9345512454781533]\n",
      "165 : ['Evicção', 0.9345391948992178]\n",
      "166 : ['Distorção não corrigida', 0.9345283659695628]\n",
      "167 : ['Ato protelatório', 0.9344324236110761]\n",
      "168 : ['Abandono escolar', 0.9343172061392796]\n",
      "169 : ['Paralisação', 0.9342335112536638]\n",
      "170 : ['Auxílio-reclusão', 0.9342083158526763]\n",
      "171 : ['Preclusão lógica', 0.9341856938032369]\n",
      "172 : ['Conduta omissiva', 0.934176593766562]\n",
      "173 : ['Irregularidade', 0.9341592512700099]\n",
      "174 : ['Revisão criminal', 0.9341199997339027]\n",
      "175 : ['Administrador provisório', 0.9340135791089196]\n",
      "176 : ['Controle compensatório', 0.9339029247905026]\n",
      "177 : ['Princípio da non reformatio in pejus', 0.9338936649500605]\n",
      "178 : ['Citação', 0.9338280090001873]\n",
      "179 : ['Contestação', 0.9336819036769036]\n",
      "180 : ['Pedido de reexame', 0.9336298099546121]\n",
      "181 : ['Correição parcial', 0.933437956512513]\n",
      "182 : ['Auditoria sem papel', 0.9333560825522424]\n",
      "183 : ['Risco de detecção', 0.9332995181965731]\n",
      "184 : ['Embargos de declaração', 0.9332928569742991]\n",
      "185 : ['Indício de irregularidade', 0.9332363051004994]\n",
      "186 : ['Prescrição', 0.933219542751346]\n",
      "187 : ['Abuso de direito', 0.9329860848695286]\n",
      "188 : ['Representação administrativa', 0.9329209064503583]\n",
      "189 : ['Efeito suspensivo', 0.9329041957953766]\n",
      "190 : ['Derrogação', 0.9328730172836445]\n",
      "191 : ['Curador especial', 0.9325900448396693]\n",
      "192 : ['Ofício de requisição', 0.9325472834824717]\n",
      "193 : ['Responsabilidade civil', 0.9325331289642702]\n",
      "194 : ['Desaparecimento', 0.9325277180650576]\n",
      "195 : ['Pedido de reconsideração', 0.9323797062211973]\n",
      "196 : ['Contas regulares com ressalva', 0.9321320763332352]\n",
      "197 : ['Prevaricação', 0.9320646714284133]\n",
      "198 : ['Encerrar', 0.9320290768789962]\n",
      "199 : ['Competência superveniente', 0.9317728829093163]\n",
      "200 : ['Erro de julgamento', 0.9314033035154865]\n",
      "201 : ['Rol de inelegíveis', 0.9311324218565812]\n",
      "202 : ['Princípio da segregação de funções', 0.9309826038037394]\n",
      "203 : ['Modulação de efeitos', 0.930885452769265]\n",
      "204 : ['Quitação', 0.9308623519522501]\n",
      "205 : ['Audiência', 0.930792233595942]\n",
      "206 : ['Advertência (Licitação)', 0.9307903654491108]\n",
      "207 : ['Recurso de revisão', 0.9306924479284809]\n",
      "208 : ['Infração', 0.9306527674499231]\n",
      "209 : ['Desapropriação judicial', 0.9306374703367478]\n",
      "210 : ['Encaminhamento das contas', 0.930468672388354]\n",
      "211 : ['Caso negativo', 0.9304603260477395]\n",
      "212 : ['Decisão rescindenda', 0.930407185362164]\n",
      "213 : ['Sobrestamento de processo', 0.9302978085055764]\n",
      "214 : ['Erro acidental', 0.9301570309773419]\n",
      "215 : ['Condenação civil', 0.9301147269637645]\n",
      "216 : ['Controle incidental', 0.9298962022053742]\n",
      "217 : ['Controle abstrato', 0.9298508169058634]\n",
      "218 : ['Periculum in mora reverso', 0.9297581361994394]\n",
      "219 : ['Construção participativa de deliberações', 0.9297289379397513]\n",
      "220 : ['Exame do desempenho', 0.9297224696936269]\n",
      "221 : ['Omissão no dever de prestar contas', 0.9296833871693714]\n",
      "222 : ['Ação inibitória', 0.929589062048194]\n",
      "223 : ['Excludente de culpabilidade', 0.9292400540186413]\n",
      "224 : ['Reexecução', 0.929201842011011]\n",
      "225 : ['Falta grave', 0.929148931989595]\n",
      "226 : ['Despesas de exercícios anteriores', 0.9288144407706419]\n",
      "227 : ['Período de trânsito', 0.9287719812144342]\n",
      "228 : ['Ataque externo', 0.92859938960508]\n",
      "229 : ['Ressarcimento administrativo', 0.9285552194913663]\n",
      "230 : ['Controle repressivo', 0.9284039483930326]\n",
      "231 : ['Conduta irregular', 0.9283929800583376]\n",
      "232 : ['Distanciamento social ', 0.9283764249082831]\n",
      "233 : ['Fase externa', 0.9282984552275516]\n",
      "234 : ['Verba indenizatória', 0.9282047482441077]\n",
      "235 : ['Benefício das ações de controle externo', 0.9281857533284571]\n",
      "236 : ['Livre exoneração', 0.9280540612196406]\n",
      "237 : ['Substituição de pessoal', 0.9280141227045536]\n",
      "238 : ['Desafetação', 0.927945752373276]\n",
      "239 : ['Trajetória de controle externo', 0.9275237178243594]\n",
      "240 : ['Dispensa', 0.927383903292129]\n",
      "241 : ['Responsabilidade objetiva', 0.9273066904060103]\n",
      "242 : ['Estabilidade', 0.9271924843891822]\n",
      "243 : ['Afastamento para servir a outro órgão ou entidade', 0.9268865615420242]\n",
      "244 : ['Culpa in vigilando', 0.9268591786029914]\n",
      "245 : ['Alegação de defesa', 0.9267955649524767]\n",
      "246 : ['Desmobilização', 0.926653233416122]\n",
      "247 : ['Falsidade documental', 0.9265054721812327]\n",
      "248 : ['Desestatização', 0.926462085101764]\n",
      "249 : ['Apreciação conclusiva', 0.9263469986901954]\n",
      "250 : ['Sigilo de correspondência', 0.926246640302686]\n",
      "251 : ['Inexecução', 0.9261906717638859]\n",
      "252 : ['Controle de segurança', 0.9261207758610802]\n",
      "253 : ['Documento sigiloso', 0.9258752485095326]\n",
      "254 : ['Declaração de inidoneidade', 0.9258200508733748]\n",
      "255 : ['Prevenção de perda de dados', 0.9255832480412837]\n",
      "256 : ['Pagamento indevido', 0.9255371549361735]\n",
      "257 : ['Riscos fiscais', 0.9255098587573884]\n",
      "258 : ['Renovação de contrato', 0.9254486156927831]\n",
      "259 : ['Imperícia', 0.9254199783446573]\n",
      "260 : ['Benefício efetivo', 0.9253943686835662]\n",
      "261 : ['Disponibilidade de pessoal', 0.9253086452577504]\n",
      "262 : ['Arguição de suspeição', 0.9251649716136089]\n",
      "263 : ['Erro judiciário', 0.9251636561427911]\n",
      "264 : ['Cadastro Integrado de Condenações por Ilícitos Administrativos', 0.9251446140534989]\n",
      "265 : ['Produção de prova', 0.9250980633734536]\n",
      "266 : ['Inviabilidade', 0.9249939208602727]\n",
      "267 : ['Tratamento de artefatos maliciosos', 0.9249887865664286]\n",
      "268 : ['Suspensão de pagamento', 0.9249520738965226]\n",
      "269 : ['Procedimento alternativo de auditoria', 0.9249324963133042]\n",
      "270 : ['Excesso de exação', 0.9247317989786851]\n",
      "271 : ['Cronograma de desembolso', 0.9246783265125317]\n",
      "272 : ['Nulidade absoluta', 0.9246520648919998]\n",
      "273 : ['Serviços não contínuos', 0.9245580253637039]\n",
      "274 : ['Ato disciplinar', 0.9245032529828513]\n",
      "275 : ['Decurso de prazo', 0.9244572438983552]\n",
      "276 : ['Posse (Pessoal)', 0.9244318196490182]\n",
      "277 : ['Ressarcimento', 0.9243852813137805]\n",
      "278 : ['Administração da justiça', 0.9243642395890357]\n",
      "279 : ['Falecimento de responsável', 0.9243487169984749]\n",
      "280 : ['Culpabilidade', 0.9242359156569214]\n",
      "281 : ['Confisco', 0.9241802979584273]\n",
      "282 : ['Informação reservada', 0.9241638996993318]\n",
      "283 : ['Desclassificação', 0.9241539470318474]\n",
      "284 : ['Indício de irregularidade grave com recomendação de paralisação', 0.9241185422672243]\n",
      "285 : ['Taxa tolerável de desvio', 0.9241153866512042]\n",
      "286 : ['Preparo (Direito)', 0.924062213946603]\n",
      "287 : ['Observação', 0.9240224172864854]\n",
      "288 : ['Reembolso', 0.9239438908902561]\n",
      "289 : ['Aposentado', 0.9239096615657405]\n",
      "290 : ['Decisão', 0.9239054434225252]\n",
      "291 : ['Medida administrativa', 0.9238917329751096]\n",
      "292 : ['Licença sem remuneração', 0.9237913316152498]\n",
      "293 : ['Efeito ex tunc', 0.9237403457168853]\n",
      "294 : ['Cargo em comissão', 0.9236965884057176]\n",
      "295 : ['Ato discricionário', 0.9236914431189058]\n",
      "296 : ['Incidente de segurança da informação', 0.9236666285008434]\n",
      "297 : ['Tabela de temporalidade', 0.9236444864868449]\n",
      "298 : ['Exação', 0.9235967271296159]\n",
      "299 : ['Declaração de nulidade', 0.9235252132805586]\n",
      "CPU times: user 73.4 ms, sys: 517 µs, total: 73.9 ms\n",
      "Wall time: 343 ms\n"
     ]
    }
   ],
   "source": [
    "%%time\n",
    "doctos_retornados_ranker = pipe_sts_multihop.run(query=parm_query, \n",
    " params={\"Retriever\": {\"top_k\": 300}})\n",
    "util_pipeline.detail_document_found(doctos_retornados_ranker)"
   ]
  },
  {
   "attachments": {},
   "cell_type": "markdown",
   "metadata": {},
   "source": [
    "### sts"
   ]
  },
  {
   "cell_type": "code",
   "execution_count": 48,
   "metadata": {},
   "outputs": [
    {
     "name": "stdout",
     "output_type": "stream",
     "text": [
      "CPU times: user 3.09 s, sys: 638 ms, total: 3.72 s\n",
      "Wall time: 2.12 s\n"
     ]
    }
   ],
   "source": [
    "%%time\n",
    "pipe_sts = util_pipeline.return_pipeline_sts(index, parm_path_model=nome_caminho_modelo_sts)"
   ]
  },
  {
   "cell_type": "code",
   "execution_count": 49,
   "metadata": {},
   "outputs": [],
   "source": [
    "pipes.append({'PIPE_NAME': 'pipe_sts',\n",
    "              'PIPE_OBJECT': pipe_sts,\n",
    "              'RETRIEVER_TYPE': 'sts',  # in ['sts', 'bm25']\n",
    "              'RETRIEVER_MODEL_NAME': nome_modelo_embedding_model_sts, # or nome_modelo_embedding_model_sts_rufimelo,\n",
    "              'RANKER_MODEL_NAME': ''})"
   ]
  },
  {
   "cell_type": "code",
   "execution_count": 50,
   "metadata": {},
   "outputs": [
    {
     "name": "stdout",
     "output_type": "stream",
     "text": [
      "Parâmetros usados: {'Retriever': {'top_k': 300}}\n",
      "Consulta: A transferência de documentos da entidade para local impróprio ao armazenamento, causando a perda de informações ou inviabilizando seu manuseio, de forma a impedir a atuação do TCU, é causa de responsabilização do gestor que a ordenou.\n",
      "Qtd documentos retornados: 300\n",
      "Primeiro docto:\n",
      "<Document: id=2577, content='O termo é \"Afastamento de responsável\".\n",
      "Afastamento de responsável tem definição: \"No início ou no c...'>\n",
      "\n",
      "Último (300):\n",
      "<Document: id=1103641, content='O termo é \"Falta grave\".\n",
      "Falta grave tem nota de escopo: \"Está prevista em várias normatizações que ...'>\n",
      "Seguem os nomes dos termos recuperados em ordem de score\n",
      "0 : ['Afastamento de responsável', 0.9546168861748239]\n",
      "1 : ['Risco de controle', 0.943127201770828]\n",
      "2 : ['Vazamento de dados', 0.942404112002669]\n",
      "3 : ['Trancamento das contas', 0.9341491636096659]\n",
      "4 : ['Revisão de ofício', 0.9297291992714615]\n",
      "5 : ['Responsabilidade perante o controle externo', 0.9294792178601551]\n",
      "6 : ['Erro de procedimento', 0.9280039678494807]\n",
      "7 : ['Ato vinculado', 0.9275481833601299]\n",
      "8 : ['Termo de sigilo', 0.925026523026082]\n",
      "9 : ['Anulação', 0.924645376239448]\n",
      "10 : ['Atos de pessoal', 0.9229926926844242]\n",
      "11 : ['Coerção', 0.9227992114198242]\n",
      "12 : ['Negativa de registro', 0.9204877064695078]\n",
      "13 : ['Arquivamento', 0.9201357577046293]\n",
      "14 : ['Risco de auditoria', 0.9197051023576104]\n",
      "15 : ['Excludente de responsabilidade', 0.9187524462466974]\n",
      "16 : ['Irregularidade grave', 0.918724225445055]\n",
      "17 : ['Culpa in vigilando', 0.9179964511667835]\n",
      "18 : ['Distorção não corrigida', 0.9176569068704307]\n",
      "19 : ['Falta funcional', 0.917581312596116]\n",
      "20 : ['Conduta omissiva', 0.9174512184120178]\n",
      "21 : ['Sonegação de informação', 0.9166281377332632]\n",
      "22 : ['Accountability pública', 0.9164846598474962]\n",
      "23 : ['Omissão no dever de prestar contas', 0.9163486999360333]\n",
      "24 : ['Técnico de Finanças e Controle', 0.9162536001883685]\n",
      "25 : ['Contas irregulares', 0.91591697358619]\n",
      "26 : ['Representação administrativa', 0.9157843391848023]\n",
      "27 : ['Determinação', 0.9154213050633756]\n",
      "28 : ['Omissão', 0.914843089259514]\n",
      "29 : ['Documento sigiloso', 0.9144377332307788]\n",
      "30 : ['Conduta irregular', 0.9121719028713356]\n",
      "31 : ['Responsabilização', 0.9120798881002934]\n",
      "32 : ['Perda de objeto', 0.9116852764037447]\n",
      "33 : ['Inércia da Administração', 0.9109246871807424]\n",
      "34 : ['Guardar', 0.9108891410687013]\n",
      "35 : ['Infração', 0.91083449847398]\n",
      "36 : ['Indício de irregularidade grave', 0.9102057720038609]\n",
      "37 : ['Erro', 0.9100136002740455]\n",
      "38 : ['Princípio da segregação de funções', 0.9095418748158737]\n",
      "39 : ['Ofício de requisição', 0.909148240500324]\n",
      "40 : ['Rescisão unilateral', 0.9089078431783219]\n",
      "41 : ['Destituição de função', 0.908477643199189]\n",
      "42 : ['Ilícito administrativo', 0.9074259415814175]\n",
      "43 : ['Abandono de cargo', 0.90734232360891]\n",
      "44 : ['Irregularidade', 0.9069319944204945]\n",
      "45 : ['Desvio de função', 0.9064174477067363]\n",
      "46 : ['Ato de ofício', 0.9063242684408868]\n",
      "47 : ['Encaminhamento das contas', 0.9062184287363109]\n",
      "48 : ['Impropriedade', 0.9054761710268394]\n",
      "49 : ['Negação de serviço ', 0.9052805044569255]\n",
      "50 : ['Erro material', 0.904281403618174]\n",
      "51 : ['Administração contratada', 0.9042628789145661]\n",
      "52 : ['Dispensa com justa causa', 0.904032003866883]\n",
      "53 : ['Abuso de poder', 0.9038543499171754]\n",
      "54 : ['Controle interno', 0.903039446022782]\n",
      "55 : ['Indício de irregularidade grave com recomendação de paralisação', 0.9030113358814664]\n",
      "56 : ['Exclusão de acesso', 0.9027978646639047]\n",
      "57 : ['Informação secreta', 0.9027869826392471]\n",
      "58 : ['Preservação de evidência', 0.9026390021809562]\n",
      "59 : ['Interceptação telefônica', 0.9021654374380413]\n",
      "60 : ['Ato precário', 0.9019401359581602]\n",
      "61 : ['Processo administrativo disciplinar', 0.9016751040483828]\n",
      "62 : ['Canal de denúncias', 0.9016675679366696]\n",
      "63 : ['Ofício de comunicação de fiscalização', 0.9012543354903404]\n",
      "64 : ['Negligência', 0.9007426841986789]\n",
      "65 : ['Esclarecimento de responsáveis', 0.9006446529418302]\n",
      "66 : ['Preclusão temporal', 0.9003842202189747]\n",
      "67 : ['Auto de infração', 0.8989822458097059]\n",
      "68 : ['Prevenção de perda de dados', 0.8989408274705474]\n",
      "69 : ['Risco organizacional', 0.8988620365537214]\n",
      "70 : ['Obra paralisada', 0.8985173346730585]\n",
      "71 : ['Ato omissivo', 0.8985014675683317]\n",
      "72 : ['Custodiante da informação', 0.8978160882754852]\n",
      "73 : ['Disciplinar', 0.8971729313523576]\n",
      "74 : ['Ação de controle externo', 0.8971592770076936]\n",
      "75 : ['Erro acidental', 0.8971240266177964]\n",
      "76 : ['Mandado de injunção', 0.8963537977015371]\n",
      "77 : ['Corregedor', 0.895996597445735]\n",
      "78 : ['Informação reservada', 0.8959172688400449]\n",
      "79 : ['Excesso de poder', 0.8957690021134883]\n",
      "80 : ['Responsável técnico', 0.8955219751540908]\n",
      "81 : ['Abuso de autoridade', 0.895337701038353]\n",
      "82 : ['Construção participativa de deliberações', 0.8952738686379877]\n",
      "83 : ['Controlar', 0.8952649612394795]\n",
      "84 : ['Fiscalização tributária', 0.8947175176625644]\n",
      "85 : ['Locaute', 0.8943973808039647]\n",
      "86 : ['Sigilo fiscal', 0.8942432325789107]\n",
      "87 : ['Posse (Pessoal)', 0.8942414356922531]\n",
      "88 : ['Risco de detecção', 0.8939729246725233]\n",
      "89 : ['Nota técnica', 0.893956715288326]\n",
      "90 : ['Auditoria interna', 0.8935160473418704]\n",
      "91 : ['Poder discricionário', 0.8932054761040064]\n",
      "92 : ['Informação confidencial', 0.8931451749861812]\n",
      "93 : ['Gestão documental', 0.8930782552993651]\n",
      "94 : ['Deficiência material', 0.8929623713140746]\n",
      "95 : ['Tomada de contas', 0.8929463127174061]\n",
      "96 : ['Auditor interno', 0.8929196392918227]\n",
      "97 : ['Informação ultrassecreta', 0.8928700054238224]\n",
      "98 : ['Termo de responsabilidade', 0.8928465681441121]\n",
      "99 : ['Afastamento preventivo', 0.8926737584628649]\n",
      "100 : ['Ônus da prova', 0.892653445620245]\n",
      "101 : ['Cadeia de custódia', 0.8924779629880478]\n",
      "102 : ['Unidade técnica', 0.8923502681561225]\n",
      "103 : ['Excesso de exação', 0.8920802307901559]\n",
      "104 : ['Alerta', 0.8916925059377225]\n",
      "105 : ['Padronizar', 0.891552679820399]\n",
      "106 : ['Ato ilegítimo', 0.8913915918179613]\n",
      "107 : ['Gestor público', 0.89129619461555]\n",
      "108 : ['Observação', 0.8908999713377532]\n",
      "109 : ['Contrato de gestão', 0.8904383046315232]\n",
      "110 : ['Dispensa sem justa causa', 0.8902638469350985]\n",
      "111 : ['Evidência documental', 0.8902362941583799]\n",
      "112 : ['Obra atrasada', 0.8899351639707355]\n",
      "113 : ['Exame do desempenho', 0.8896121983363724]\n",
      "114 : ['Incidente de segurança da informação', 0.8895088471288116]\n",
      "115 : ['Razões de justificativa', 0.8894857485429668]\n",
      "116 : ['Interagir', 0.8894850604351289]\n",
      "117 : ['Auditoria sem papel', 0.88938613048452]\n",
      "118 : ['Segredo de justiça', 0.8893650757436812]\n",
      "119 : ['Ato protelatório', 0.8889060194192306]\n",
      "120 : ['Requisitos de segurança de software', 0.8888653270311738]\n",
      "121 : ['Princípio da autotutela', 0.8888441855478292]\n",
      "122 : ['Estrito cumprimento do dever legal', 0.8886838305228552]\n",
      "123 : ['Backdoor', 0.8886696834787372]\n",
      "124 : ['Diferimento (Direito)', 0.8885370403403602]\n",
      "125 : ['Pagamento indevido', 0.8884966260352596]\n",
      "126 : ['Decisão terminativa', 0.8884106039502037]\n",
      "127 : ['Erro de execução', 0.8879234087656943]\n",
      "128 : ['Política de segurança da informação', 0.8879072862530459]\n",
      "129 : ['Expulsão de estrangeiro', 0.8878141938744958]\n",
      "130 : ['Tempo em estoque', 0.8875335132164757]\n",
      "131 : ['Indício de irregularidade', 0.8873668095639772]\n",
      "132 : ['Direito ao esquecimento', 0.8873388213811285]\n",
      "133 : ['Reexecução', 0.8873164264633627]\n",
      "134 : ['Suspensão temporária', 0.8873080273673001]\n",
      "135 : ['Cobrança executiva', 0.8872189033069293]\n",
      "136 : ['Taxa tolerável de desvio', 0.8869612886517366]\n",
      "137 : ['Ciência (Controle externo)', 0.8869327111263778]\n",
      "138 : ['Produção de prova', 0.8862712673568761]\n",
      "139 : ['Princípio da hierarquia', 0.8860376183573635]\n",
      "140 : ['Contas iliquidáveis', 0.8860044943775252]\n",
      "141 : ['Matriz de responsabilização', 0.8859524687632678]\n",
      "142 : ['Medida Cautelar inaudita altera pars', 0.8858203419477869]\n",
      "143 : ['e-TCU', 0.8858172064877099]\n",
      "144 : ['Tomada de contas especial', 0.8857868594504611]\n",
      "145 : ['Regulamentar', 0.8856907141465555]\n",
      "146 : ['Exame documental', 0.8856842344555383]\n",
      "147 : ['Ato disciplinar', 0.8854317840978764]\n",
      "148 : ['Princípio da finalidade', 0.8848204981105547]\n",
      "149 : ['Controle repressivo', 0.8846113091371016]\n",
      "150 : ['Racionalizar', 0.8845950783561711]\n",
      "151 : ['Dissolução de empresa', 0.8841957285893534]\n",
      "152 : ['Revogação', 0.8837930216955766]\n",
      "153 : ['Preposto', 0.8836741416459395]\n",
      "154 : ['Abuso de direito', 0.8836604693259263]\n",
      "155 : ['Concessão em caráter precário', 0.8831414343895423]\n",
      "156 : ['Controle externo', 0.8829529578325156]\n",
      "157 : ['Desacato', 0.8827081135828957]\n",
      "158 : ['Tabela de temporalidade', 0.8826137607642695]\n",
      "159 : ['Integridade da informação', 0.8825871312213979]\n",
      "160 : ['Pena disciplinar', 0.882470915426364]\n",
      "161 : ['Fiscalização operacional', 0.8823257390871542]\n",
      "162 : ['Trabalho de asseguração limitada', 0.8821342509989321]\n",
      "163 : ['Tomar', 0.8821200058954419]\n",
      "164 : ['Limitação de dados', 0.8820668595412051]\n",
      "165 : ['Auditoria de pessoal', 0.8820444923472616]\n",
      "166 : ['Recebimento definitivo', 0.8818586506815174]\n",
      "167 : ['Aviso prévio', 0.8817477538898413]\n",
      "168 : ['Apropriação indevida de ativos', 0.8816266443211408]\n",
      "169 : ['Office of the Auditor General Tuvalu', 0.8813681065242074]\n",
      "170 : ['Administrar', 0.8813343300111998]\n",
      "171 : ['Observar', 0.8812789938456433]\n",
      "172 : ['Descarte de documentos', 0.8809821622885883]\n",
      "173 : ['Cartão de crédito corporativo', 0.8807620056599681]\n",
      "174 : ['Controle administrativo', 0.8807277647938219]\n",
      "175 : ['Backup', 0.8802855479205107]\n",
      "176 : ['Dirigir', 0.8802181918807137]\n",
      "177 : ['Ação de controle', 0.8800831705050414]\n",
      "178 : ['Token', 0.8800639614817107]\n",
      "179 : ['Terceiro', 0.8799094539213558]\n",
      "180 : ['Demissão de servidor', 0.8799041703806523]\n",
      "181 : ['Atualizar', 0.8797402810339251]\n",
      "182 : ['Fiscalização', 0.8793293944608881]\n",
      "183 : ['Plano de classificação de documentos', 0.8792799388275423]\n",
      "184 : ['Ordenação de despesa', 0.879230359524795]\n",
      "185 : ['Responsabilidade', 0.8792283420079042]\n",
      "186 : ['Deficiência significativa', 0.8791739642881625]\n",
      "187 : ['Contabilidade de responsabilidade', 0.878811580749008]\n",
      "188 : ['Decisão preliminar', 0.8787036530329609]\n",
      "189 : ['Monitorar', 0.878408854425763]\n",
      "190 : ['Defesa de responsável', 0.8783811887690922]\n",
      "191 : ['Processo modificador', 0.8782308021906321]\n",
      "192 : ['Arbitrariedade', 0.878191763168563]\n",
      "193 : ['Risco operacional', 0.8781473632396871]\n",
      "194 : ['Procuração', 0.8781335589765744]\n",
      "195 : ['Inobservância', 0.8781330239005047]\n",
      "196 : ['Ato de expediente', 0.8780371055961635]\n",
      "197 : ['Obrigação de resultado', 0.8780268247801725]\n",
      "198 : ['Efeito ex tunc', 0.8779769093825521]\n",
      "199 : ['Ato de império', 0.8779766951154783]\n",
      "200 : ['Consulta', 0.8779754095062319]\n",
      "201 : ['Erro de direito', 0.8779250473031819]\n",
      "202 : ['Documentação', 0.877470874238956]\n",
      "203 : ['Cnep', 0.8769280711255428]\n",
      "204 : ['Ocasionar', 0.876893854739788]\n",
      "205 : ['Unidade Apresentadora de Contas', 0.8767817577346254]\n",
      "206 : ['Controladoria', 0.8767598248491981]\n",
      "207 : ['Intempestividade', 0.8767165975214943]\n",
      "208 : ['Denunciado', 0.8765265671397175]\n",
      "209 : ['Estrutura de relatório financeiro', 0.8765159604294075]\n",
      "210 : ['Inexatidão material', 0.8763815771123583]\n",
      "211 : ['Tombamento', 0.8763389944091544]\n",
      "212 : ['Unidade responsável por agir', 0.8763029030223748]\n",
      "213 : ['Achado de auditoria', 0.8759804979240396]\n",
      "214 : ['Trabalho de revisão', 0.8758274536901092]\n",
      "215 : ['Quebra de sigilo telefônico', 0.8757304128420083]\n",
      "216 : ['Desfazimento de bens permanentes', 0.8755923548851777]\n",
      "217 : ['Assinatura digital', 0.8754315935378889]\n",
      "218 : ['Evento de segurança', 0.8754296306044894]\n",
      "219 : ['Relatório de monitoramento', 0.8753358150905861]\n",
      "220 : ['Controle de acesso físico', 0.8753095140623849]\n",
      "221 : ['Impeachment', 0.8750853805666758]\n",
      "222 : ['Ato discricionário', 0.8750323551072308]\n",
      "223 : ['Infração disciplinar', 0.8741507410306083]\n",
      "224 : ['Princípio da motivação', 0.8739541296563651]\n",
      "225 : ['Causa do achado', 0.873823975227287]\n",
      "226 : ['Contingenciamento', 0.8738213290682935]\n",
      "227 : ['Comentário de gestor', 0.8737974012251556]\n",
      "228 : ['Jogo de cronograma', 0.8737904537048704]\n",
      "229 : ['Desvio de finalidade', 0.8736717439417618]\n",
      "230 : ['Alcance', 0.8734416654233763]\n",
      "231 : ['Relatório de atividades', 0.873206689361985]\n",
      "232 : ['Risco inerente', 0.8730194599811062]\n",
      "233 : ['Fiscal', 0.8729331886053502]\n",
      "234 : ['Cadirreg', 0.8729111137206335]\n",
      "235 : ['Autuação de processo', 0.8729062323992856]\n",
      "236 : ['Sigilo de correspondência', 0.8728454243383941]\n",
      "237 : ['Registrar', 0.8727582745982677]\n",
      "238 : ['Controle posterior', 0.872650738176177]\n",
      "239 : ['Extrato de entrevista', 0.8724051580178847]\n",
      "240 : ['Representação', 0.8723376862677332]\n",
      "241 : ['Equipe de auditoria', 0.8720624740901113]\n",
      "242 : ['Vício processual', 0.8720032189720924]\n",
      "243 : ['Reunião de encerramento', 0.8719076472986421]\n",
      "244 : ['Notificação', 0.8718925691068722]\n",
      "245 : ['Risco de distorção relevante', 0.8717872029135438]\n",
      "246 : ['Indexação documentária', 0.8717866440411262]\n",
      "247 : ['Responsabilidade técnica', 0.8717561264531207]\n",
      "248 : ['Investigar', 0.8717011120797181]\n",
      "249 : ['Declaração de inidoneidade', 0.8716292947664025]\n",
      "250 : ['Estratégia', 0.8715421059209044]\n",
      "251 : ['Desvio de objeto', 0.8714130768626233]\n",
      "252 : ['Denunciante', 0.8712903296565911]\n",
      "253 : ['Monitoramento eletrônico', 0.8712341353156513]\n",
      "254 : ['Princípio da non reformatio in pejus', 0.8711463810050809]\n",
      "255 : ['Risco não resultante de amostragem', 0.8711382987629079]\n",
      "256 : ['Confisco', 0.8710331903014847]\n",
      "257 : ['Inspeção', 0.8708775272292804]\n",
      "258 : ['Processo administrativo de responsabilização', 0.8708433386175098]\n",
      "259 : ['Controle migratório', 0.8707759509946608]\n",
      "260 : ['Tendenciosidade da Administração', 0.8706873678227967]\n",
      "261 : ['Informação requerida', 0.8706735185136949]\n",
      "262 : ['Impedimento', 0.8704812994575385]\n",
      "263 : ['Arquivo corrente', 0.8704089008445534]\n",
      "264 : ['Período de trânsito', 0.8704019072546824]\n",
      "265 : ['Afastamento para exercício de mandato eletivo', 0.8703285680224035]\n",
      "266 : ['Competência exclusiva', 0.8702189447057667]\n",
      "267 : ['Encerrar', 0.8700891238116385]\n",
      "268 : ['Controle de segurança', 0.8700684371812674]\n",
      "269 : ['CEPIM', 0.8700673066835656]\n",
      "270 : ['Unidade de Serviço Técnico', 0.8698675295404266]\n",
      "271 : ['Deportação', 0.869851567788533]\n",
      "272 : ['Denúncia', 0.8696972983291681]\n",
      "273 : ['HTTPS', 0.8695402643359984]\n",
      "274 : ['Controle de acesso', 0.8694144078180848]\n",
      "275 : ['Execução da despesa', 0.8693729626869552]\n",
      "276 : ['Redação oficial', 0.8692962881331051]\n",
      "277 : ['Processo apartado', 0.869283107619306]\n",
      "278 : ['Unidade responsável técnica', 0.8692817440534261]\n",
      "279 : ['Tornar', 0.8691776228503979]\n",
      "280 : ['Substituir', 0.8690527209777948]\n",
      "281 : ['Programa de trabalho resumido', 0.868997404213968]\n",
      "282 : ['Execução trabalhista', 0.868993761261651]\n",
      "283 : ['Inabilitação de responsável', 0.8689885243669714]\n",
      "284 : ['Fiscalizar', 0.8686625768533842]\n",
      "285 : ['Cessão de pessoal', 0.868599815781819]\n",
      "286 : ['Auditoria financeira e orçamentária', 0.8685493602566638]\n",
      "287 : ['Cobrança judicial', 0.8685316626835191]\n",
      "288 : ['Quitação ao responsável', 0.8683420005723177]\n",
      "289 : ['Conta vinculada', 0.8682805963484391]\n",
      "290 : ['Expedir', 0.8682534884341618]\n",
      "291 : ['Responsabilidade civil', 0.8680356528759158]\n",
      "292 : ['Incapacidade jurídica', 0.8678683203455174]\n",
      "293 : ['Siconv', 0.8677876844475567]\n",
      "294 : ['Fraude processual', 0.8676818654657366]\n",
      "295 : ['Risco do trabalho de asseguração', 0.86762215282653]\n",
      "296 : ['Administrador provisório', 0.8672457833170932]\n",
      "297 : ['Fiscalização ambiental', 0.8672105494142818]\n",
      "298 : ['Recebimento provisório', 0.8671557253802006]\n",
      "299 : ['Falta grave', 0.8670712634916201]\n",
      "CPU times: user 502 ms, sys: 48.5 ms, total: 550 ms\n",
      "Wall time: 684 ms\n"
     ]
    }
   ],
   "source": [
    "%%time\n",
    "doctos_retornados_ranker = pipe_sts.run(query=parm_query, \n",
    " params={\"Retriever\": {\"top_k\": 300}})\n",
    "util_pipeline.detail_document_found(doctos_retornados_ranker)"
   ]
  },
  {
   "attachments": {},
   "cell_type": "markdown",
   "metadata": {},
   "source": [
    "### bm25"
   ]
  },
  {
   "cell_type": "code",
   "execution_count": 51,
   "metadata": {},
   "outputs": [
    {
     "name": "stdout",
     "output_type": "stream",
     "text": [
      "CPU times: user 231 µs, sys: 40 µs, total: 271 µs\n",
      "Wall time: 275 µs\n"
     ]
    }
   ],
   "source": [
    "%%time\n",
    "pipe_bm25 = util_pipeline.return_pipeline_bm25(index)"
   ]
  },
  {
   "cell_type": "code",
   "execution_count": 52,
   "metadata": {},
   "outputs": [],
   "source": [
    "pipes.append({'PIPE_NAME': 'pipe_bm25',\n",
    "              'PIPE_OBJECT': pipe_bm25,\n",
    "              'RETRIEVER_TYPE': 'bm25', \n",
    "              'RETRIEVER_MODEL_NAME': '', # or nome_modelo_embedding_model_sts_rufimelo,\n",
    "              'RANKER_MODEL_NAME': ''})"
   ]
  },
  {
   "cell_type": "code",
   "execution_count": 53,
   "metadata": {},
   "outputs": [
    {
     "name": "stdout",
     "output_type": "stream",
     "text": [
      "Parâmetros usados: {'Retriever': {'top_k': 300}}\n",
      "Consulta: A transferência de documentos da entidade para local impróprio ao armazenamento, causando a perda de informações ou inviabilizando seu manuseio, de forma a impedir a atuação do TCU, é causa de responsabilização do gestor que a ordenou.\n",
      "Qtd documentos retornados: 300\n",
      "Primeiro docto:\n",
      "<Document: id=1102005, content='O termo é \"Plano de contratações\".\n",
      "Plano de contratações tem definição: \"É o documento no qual a org...'>\n",
      "\n",
      "Último (300):\n",
      "<Document: id=15626, content='O termo é \"Adiantamento de férias\".\n",
      "Adiantamento de férias tem definição: \"Pagamento adiantado de 70...'>\n",
      "Seguem os nomes dos termos recuperados em ordem de score\n",
      "0 : ['Plano de contratações', 0.9856940203493179]\n",
      "1 : ['Competência do TCU', 0.9849874794705751]\n",
      "2 : ['Teletrabalho', 0.9823437136689326]\n",
      "3 : ['Nexo de causalidade', 0.982157658932855]\n",
      "4 : ['Processo administrativo de responsabilização', 0.9816688772992885]\n",
      "5 : ['Ofício de requisição', 0.9810189097165355]\n",
      "6 : ['Evidência documental', 0.9808667929710004]\n",
      "7 : ['Papéis de trabalho', 0.9800804158626235]\n",
      "8 : ['Julgamento de contas', 0.9780553040802098]\n",
      "9 : ['Matriz de fiscalização', 0.9778889174161483]\n",
      "10 : ['Ofício de comunicação de fiscalização', 0.9759793956838178]\n",
      "11 : ['Responsável', 0.9749983023194281]\n",
      "12 : ['Matriz de responsabilização', 0.9749010355369913]\n",
      "13 : ['Gestão documental', 0.9743820450691008]\n",
      "14 : ['Produzir', 0.9743022341175737]\n",
      "15 : ['Documento novo', 0.9732741034881348]\n",
      "16 : ['Examinar', 0.9732180433625631]\n",
      "17 : ['Phishing', 0.9724266621478431]\n",
      "18 : ['Sistema Nacional de Emprego', 0.9714378186803478]\n",
      "19 : ['Gestor da informação', 0.9712187264447482]\n",
      "20 : ['Controle de segunda ordem', 0.970873867075394]\n",
      "21 : ['Prevenção de perda de dados', 0.9708709826011247]\n",
      "22 : ['Causa do achado', 0.9706906037482294]\n",
      "23 : ['Dispensa com justa causa', 0.9703435091562371]\n",
      "24 : ['Estratégia digital', 0.9701236836186766]\n",
      "25 : ['Ministério Público junto ao TCU', 0.9700605069151323]\n",
      "26 : ['Confirmação externa', 0.9696596610660471]\n",
      "27 : ['Cobrança executiva', 0.9693038531578911]\n",
      "28 : ['Matriz padrão', 0.9687832056065442]\n",
      "29 : ['Penhor', 0.968162361915448]\n",
      "30 : ['Entidade filantrópica', 0.9676888116115662]\n",
      "31 : ['Honorários de êxito', 0.9676524124501663]\n",
      "32 : ['HTTPS', 0.9675901238174784]\n",
      "33 : ['Petição inicial', 0.9675488332671434]\n",
      "34 : ['Afastamento para servir a outro órgão ou entidade', 0.9669174085223711]\n",
      "35 : ['Disseminar', 0.966905218875126]\n",
      "36 : ['Informação ultrassecreta', 0.9661478094940132]\n",
      "37 : ['Análise estática', 0.9660281341139809]\n",
      "38 : ['Casemg', 0.9659682605598531]\n",
      "39 : ['Gestor', 0.9655142819406799]\n",
      "40 : ['Representação', 0.9652363938568079]\n",
      "41 : ['Avaliação de controles internos', 0.9647662571738366]\n",
      "42 : ['Backdoor', 0.9645546613332472]\n",
      "43 : ['Contabilidade', 0.9644534384224346]\n",
      "44 : ['Transferência de carteira', 0.9641922679960047]\n",
      "45 : ['Ação corretiva', 0.9639161834711785]\n",
      "46 : ['Evicção', 0.9637212483345161]\n",
      "47 : ['Termo de sigilo', 0.9636935302860635]\n",
      "48 : ['Ouvidoria', 0.9634448837100252]\n",
      "49 : ['Fiscalização', 0.9630165470706724]\n",
      "50 : ['Informação reservada', 0.9624400470946145]\n",
      "51 : ['Cláusula uniforme', 0.9623910930365567]\n",
      "52 : ['Informação secreta', 0.9621803509722351]\n",
      "53 : ['Assessoria jurídica', 0.9621278198086929]\n",
      "54 : ['Armazenamento de dados', 0.9619242734842146]\n",
      "55 : ['Atividade crítica', 0.9618874014709465]\n",
      "56 : ['Serviço público prestado integralmente sob a forma digital', 0.961419871078294]\n",
      "57 : ['Ocasionar', 0.9612147237380495]\n",
      "58 : ['Desapropriação judicial', 0.9606843032921187]\n",
      "59 : ['Hipoteca', 0.9605545000176207]\n",
      "60 : ['Concreto convencional', 0.9599764270606329]\n",
      "61 : ['Serviço público prestado parcialmente sob a forma digital', 0.959819704683328]\n",
      "62 : ['Transferências da União', 0.9596240778000634]\n",
      "63 : ['França', 0.9595603559566676]\n",
      "64 : ['Escola Superior do Tribunal de Contas da União', 0.9595120266901677]\n",
      "65 : ['Contrafação', 0.9593783462230799]\n",
      "66 : ['Jurisdição', 0.9591404375498186]\n",
      "67 : ['Capacidade operacional', 0.958941512088949]\n",
      "68 : ['Efeito do achado', 0.958929442662271]\n",
      "69 : ['Reforma (Pessoal)', 0.9587878563381154]\n",
      "70 : ['Substituição tributária', 0.9587698194957366]\n",
      "71 : ['Inspeção sanitária', 0.9586252476007018]\n",
      "72 : ['Gestor máximo', 0.9585643370920641]\n",
      "73 : ['Matriz de planejamento', 0.9584372944150586]\n",
      "74 : ['Líbano', 0.958258830519573]\n",
      "75 : ['Aviso prévio', 0.9582448386813825]\n",
      "76 : ['Risco inerente', 0.9580101570198128]\n",
      "77 : ['Disciplinar', 0.9578823118848461]\n",
      "78 : ['Embargos', 0.9577779502140308]\n",
      "79 : ['Transferência de risco', 0.9577449798461105]\n",
      "80 : ['Requerer', 0.9573839012529318]\n",
      "81 : ['Princípio da irrenunciabilidade', 0.9572732115283369]\n",
      "82 : ['Organização comunitária', 0.9571137609318326]\n",
      "83 : ['Gerenciamento de riscos corporativos', 0.9570734706181723]\n",
      "84 : ['Atos de pessoal', 0.956994767315047]\n",
      "85 : ['Memorial', 0.9569755794888811]\n",
      "86 : ['Adicional de embarque e desembarque', 0.9566770300646551]\n",
      "87 : ['Serviço público passível de ser prestado sob a forma digital', 0.9565799269322078]\n",
      "88 : ['Cessão de pessoal', 0.9564698462213936]\n",
      "89 : ['Protocolo internacional', 0.9562298872578011]\n",
      "90 : ['Instruir', 0.9562261516103134]\n",
      "91 : ['Princípio da vedação ao enriquecimento sem causa', 0.9562196161116222]\n",
      "92 : ['Ação ao portador', 0.9561756905836348]\n",
      "93 : ['Diligência', 0.9559883455743694]\n",
      "94 : ['Ocupação', 0.9559661195591604]\n",
      "95 : ['Sonegação', 0.9558004268104576]\n",
      "96 : ['Índice de preços', 0.955620310570976]\n",
      "97 : ['Responsabilização', 0.9552557484685231]\n",
      "98 : ['Exame sumário', 0.9551943519221134]\n",
      "99 : ['Administrar', 0.9550002696368254]\n",
      "100 : ['Exceção de coisa julgada', 0.9546906630484467]\n",
      "101 : ['Sala-cofre', 0.954663706675542]\n",
      "102 : ['Fé pública', 0.9546371085351776]\n",
      "103 : ['Defesa de responsável', 0.954434797149484]\n",
      "104 : ['Negativa de registro', 0.9543958586464986]\n",
      "105 : ['Transferências voluntárias', 0.9543952656228274]\n",
      "106 : ['Férias vencidas', 0.9543769272308118]\n",
      "107 : ['Usucapião', 0.9541828786539923]\n",
      "108 : ['Cadastro Específico do INSS', 0.9539315737563044]\n",
      "109 : ['Integridade da informação', 0.9537947632847696]\n",
      "110 : ['Oposição (Direito)', 0.9537884387830428]\n",
      "111 : ['Bibliografia', 0.9535005048958634]\n",
      "112 : ['Desapropriação de imóveis', 0.9534084517088282]\n",
      "113 : ['Falsidade documental', 0.9532337115403431]\n",
      "114 : ['Exame documental', 0.9532323518558644]\n",
      "115 : ['Indagação escrita', 0.9532204474391387]\n",
      "116 : ['Vazamento de dados', 0.9532191375544353]\n",
      "117 : ['Desapropriação por interesse social', 0.9529404738204769]\n",
      "118 : ['Cartilha', 0.9529244784147565]\n",
      "119 : ['PDV', 0.9527896159468343]\n",
      "120 : ['Hora extra judicial', 0.9526206145297323]\n",
      "121 : ['Teletrabalho total', 0.952438712791075]\n",
      "122 : ['Alterar', 0.9521879560550494]\n",
      "123 : ['Ação preventiva', 0.9521186006001536]\n",
      "124 : ['Pagamento', 0.952067549539992]\n",
      "125 : ['Relatório de monitoramento', 0.9520259247382503]\n",
      "126 : ['Conteúdo local', 0.9516418276452496]\n",
      "127 : ['Negação de serviço ', 0.9513441115227851]\n",
      "128 : ['Instituto Serzedello Corrêa', 0.9513190285991512]\n",
      "129 : ['Pessoa com deficiência auditiva', 0.9512463381425789]\n",
      "130 : ['Revisão criminal', 0.9512376185753313]\n",
      "131 : ['Gestor substituto', 0.9512010428976136]\n",
      "132 : ['Decidir', 0.9510838676229583]\n",
      "133 : ['Notória especialização', 0.9508446206146226]\n",
      "134 : ['Processamento de dados', 0.9508190655415143]\n",
      "135 : ['Contrato de eficiência', 0.9506934331990565]\n",
      "136 : ['Manual', 0.9506929820210926]\n",
      "137 : ['Vistoria', 0.9506726573755878]\n",
      "138 : ['Iniciação esportiva', 0.950648952843144]\n",
      "139 : ['Trabalho de asseguração limitada', 0.9505972321259649]\n",
      "140 : ['Férias proporcionais', 0.9504084260451396]\n",
      "141 : ['Sonegação fiscal', 0.9503938896187064]\n",
      "142 : ['Auxiliar', 0.9501660781675729]\n",
      "143 : ['Doença endêmica', 0.9500992715662937]\n",
      "144 : ['Monitorar', 0.9496506992165659]\n",
      "145 : ['Catálogo de dados', 0.9495461163908799]\n",
      "146 : ['Regulamentar', 0.9494834514624517]\n",
      "147 : ['Design thinking', 0.9494216312426811]\n",
      "148 : ['Execução da despesa', 0.9491180166197143]\n",
      "149 : ['Vício construtivo', 0.9489875156833851]\n",
      "150 : ['Competência municipal', 0.9488773972277561]\n",
      "151 : ['Vaticano', 0.9488735588102937]\n",
      "152 : ['Tráfico de pessoas', 0.9488664633872584]\n",
      "153 : ['Receita de capital', 0.948814851041406]\n",
      "154 : ['Acidente do trabalho', 0.948698357457523]\n",
      "155 : ['Acidente aeronáutico', 0.9486544699838375]\n",
      "156 : ['Alienação de carteira', 0.9483206609550829]\n",
      "157 : ['Observação', 0.9482731203435723]\n",
      "158 : ['Representante comercial', 0.9482626714382877]\n",
      "159 : ['Observação direta', 0.9482163938903369]\n",
      "160 : ['Transferência documental', 0.9478818941123205]\n",
      "161 : ['Processo', 0.9477889775840668]\n",
      "162 : ['Nascente', 0.9477773906863531]\n",
      "163 : ['Gestão da informação', 0.9477671379990322]\n",
      "164 : ['Fundo de Arrendamento Residencial', 0.9477664634948768]\n",
      "165 : ['Acordo de leniência', 0.947705823526987]\n",
      "166 : ['Critério de auditoria', 0.9476027492395825]\n",
      "167 : ['Administração local (Obra pública)', 0.947550472328789]\n",
      "168 : ['Atualizar', 0.9475397363988394]\n",
      "169 : ['Plano de classificação de documentos', 0.9474563131821079]\n",
      "170 : ['Grupo de trabalho', 0.9472949200165242]\n",
      "171 : ['Arquivamento', 0.9470648504614808]\n",
      "172 : ['Abuso de direito', 0.9470261344101354]\n",
      "173 : ['Fato do príncipe', 0.946919269788652]\n",
      "174 : ['Lista tríplice', 0.9468305230457471]\n",
      "175 : ['Divulgar', 0.9468042066602871]\n",
      "176 : ['Auditoria preditiva', 0.9467271065876272]\n",
      "177 : ['Estação aduaneira', 0.9467071308367723]\n",
      "178 : ['Comunicação processual', 0.9466010806392038]\n",
      "179 : ['Objetivos de auditoria específicos', 0.9465132621594332]\n",
      "180 : ['Gestor público', 0.9463959102597824]\n",
      "181 : ['Exploração florestal', 0.9463439382795479]\n",
      "182 : ['Garantia-Safra', 0.9462469666877098]\n",
      "183 : ['Linguagem simples', 0.9462395591880861]\n",
      "184 : ['Amazônia Legal', 0.946238573568358]\n",
      "185 : ['Curso de formação', 0.9460879362258858]\n",
      "186 : ['Medidas de compensação', 0.9459612257464103]\n",
      "187 : ['Contrato de gestão', 0.945842405404049]\n",
      "188 : ['Recomendação', 0.9457420778641263]\n",
      "189 : ['Transferência de pessoal', 0.9456910363032587]\n",
      "190 : ['EIV', 0.9456141705274614]\n",
      "191 : ['Tomada de contas', 0.9455927982320501]\n",
      "192 : ['Acidente em serviço', 0.9455205728684019]\n",
      "193 : ['Alienação de ação', 0.9454150585824564]\n",
      "194 : ['Previdência complementar', 0.9452697816372956]\n",
      "195 : ['Organização social', 0.9452282690190462]\n",
      "196 : ['Entidade fechada de autogestão', 0.9451978386613131]\n",
      "197 : ['Absorção', 0.945073563621328]\n",
      "198 : ['Alerta', 0.9450732067422655]\n",
      "199 : ['Unidade de Serviço Técnico', 0.9449041514024998]\n",
      "200 : ['Panamá', 0.944627789553269]\n",
      "201 : ['Retribuição', 0.9444825132618436]\n",
      "202 : ['Engenharia social', 0.9440445753866711]\n",
      "203 : ['Acordo de Basileia', 0.9439213670810462]\n",
      "204 : ['Resolução', 0.9438239555340553]\n",
      "205 : ['Enriquecimento ilícito', 0.9438090814892776]\n",
      "206 : ['Gestão do conhecimento', 0.9436404294317969]\n",
      "207 : ['Sugerir', 0.9433986978795029]\n",
      "208 : ['Chamamento ao processo', 0.9432752631516569]\n",
      "209 : ['Contingenciamento', 0.9431609375495982]\n",
      "210 : ['Teste de desenho e implementação', 0.9431464950673065]\n",
      "211 : ['Adware', 0.942922434002684]\n",
      "212 : ['Sistematizar', 0.9428679238283205]\n",
      "213 : ['Risco de auditoria', 0.9426348359445397]\n",
      "214 : ['Entidade paraestatal', 0.9425957885105752]\n",
      "215 : ['Contar', 0.9423875547951661]\n",
      "216 : ['Relatório de gestão', 0.9423734165613866]\n",
      "217 : ['Ministério do Planejamento e Coordenação-Geral (1967-1974)', 0.9423500674328352]\n",
      "218 : ['Constituir', 0.9423106001944959]\n",
      "219 : ['Fundamentação jurídica', 0.942118118513158]\n",
      "220 : ['Competência internacional', 0.941950848277206]\n",
      "221 : ['Risco financeiro', 0.9419262786575268]\n",
      "222 : ['Conselho de administração', 0.9418189372156143]\n",
      "223 : ['Medida cautelar', 0.9416420298468251]\n",
      "224 : ['Aproveitamento de licitação', 0.9416021972781073]\n",
      "225 : ['Requisitar', 0.9413699172083094]\n",
      "226 : ['Plano diretor (Administração Pública)', 0.9413405754609037]\n",
      "227 : ['Seguradora', 0.9412457763792318]\n",
      "228 : ['Instrumento de dívida', 0.9412281255905783]\n",
      "229 : ['Contrato de cessão onerosa', 0.9412062159371607]\n",
      "230 : ['Arguição de suspeição', 0.9411700565724124]\n",
      "231 : ['Trustless', 0.9410366071473026]\n",
      "232 : ['Fiscalização ambiental', 0.9410364406869488]\n",
      "233 : ['Centro Regional de Treinamento da ESAF', 0.9409612110483264]\n",
      "234 : ['Descentralização de crédito', 0.9409226453197336]\n",
      "235 : ['Perfil profissiográfico previdenciário', 0.9409095879190511]\n",
      "236 : ['Transferência de recursos', 0.9407685083880832]\n",
      "237 : ['CCHA', 0.9407125794387768]\n",
      "238 : ['Sonegação de informação', 0.9406980699741313]\n",
      "239 : ['Competência originária', 0.9406712525273354]\n",
      "240 : ['Poder discricionário', 0.9406451774525466]\n",
      "241 : ['Achado de auditoria', 0.9404731778001857]\n",
      "242 : ['Teletrabalho parcial', 0.9404730308436441]\n",
      "243 : ['Plano de auditoria', 0.9404706305053607]\n",
      "244 : ['Internet', 0.9404654866180263]\n",
      "245 : ['Fornecedor', 0.9403633415787027]\n",
      "246 : ['Contestação', 0.9403486398783729]\n",
      "247 : ['Executar', 0.9402446426507072]\n",
      "248 : ['Consultoria jurídica', 0.9401208321866461]\n",
      "249 : ['Desestatização', 0.9400136649374491]\n",
      "250 : ['Unidade Apresentadora de Contas', 0.9400110992332351]\n",
      "251 : ['Fundação (Direito)', 0.9398976898772841]\n",
      "252 : ['Termo de cooperação', 0.9397079213171605]\n",
      "253 : ['Transferências fundo a fundo', 0.9396320058976525]\n",
      "254 : ['Rede de Controle da Gestão Pública', 0.9396203339407657]\n",
      "255 : ['Emigração', 0.9395197940377877]\n",
      "256 : ['Direito à educação', 0.9393354984669462]\n",
      "257 : ['Supervisão de auditoria', 0.9392844275418835]\n",
      "258 : ['Cessão de uso', 0.9392399081271063]\n",
      "259 : ['Licitação de maior retorno econômico', 0.9390265010438349]\n",
      "260 : ['Delegação de competência', 0.9388474962778554]\n",
      "261 : ['Marco Civil da Internet', 0.9388431327538225]\n",
      "262 : ['Coordenar', 0.9386323617708945]\n",
      "263 : ['Projeto pedagógico', 0.9386195297493839]\n",
      "264 : ['Pesquisa', 0.938616836290699]\n",
      "265 : ['Tunísia', 0.9386130767866766]\n",
      "266 : ['Período de trânsito', 0.9386107936112036]\n",
      "267 : ['Princípio da ampla defesa', 0.9385856662371125]\n",
      "268 : ['Beneficiário instituído', 0.9385283084364224]\n",
      "269 : ['Eficiência', 0.938389822462763]\n",
      "270 : ['Certificado de Registro de Veículos', 0.9381626190214504]\n",
      "271 : ['Responsabilidade perante o controle externo', 0.9381470840792238]\n",
      "272 : ['Promover', 0.9381045510443038]\n",
      "273 : ['Urbanização', 0.9380304920974517]\n",
      "274 : ['Abono de faltas', 0.9380158855063895]\n",
      "275 : ['Renúncia', 0.9380073380696953]\n",
      "276 : ['Execução trabalhista', 0.937965711736422]\n",
      "277 : ['Modelagem da Informação da Construção', 0.9378117843653694]\n",
      "278 : ['Classificação orçamentária', 0.9377967504720488]\n",
      "279 : ['Tabela de temporalidade', 0.9377943441508756]\n",
      "280 : ['Concurso de preferência', 0.9377493518238906]\n",
      "281 : ['Suframa', 0.9377173835739546]\n",
      "282 : ['Subconcessão', 0.9376902496354892]\n",
      "283 : ['Embaixada', 0.9375964665130915]\n",
      "284 : ['Código de ética do servidor', 0.9375914784064174]\n",
      "285 : ['Quarentena', 0.9375280487468838]\n",
      "286 : ['Transferência especial', 0.9374911766002683]\n",
      "287 : ['Avaliar', 0.9374758432356273]\n",
      "288 : ['Avaliação de desempenho', 0.9374497911812236]\n",
      "289 : ['Web semântica', 0.9374081308267975]\n",
      "290 : ['Juízo de mérito', 0.9372710528738277]\n",
      "291 : ['Fisioterapeuta', 0.9372628359065353]\n",
      "292 : ['Pnate', 0.9372513392867732]\n",
      "293 : ['Competência organizacional', 0.9371869248254611]\n",
      "294 : ['Processo conexo', 0.937158618281384]\n",
      "295 : ['Gestão de risco', 0.9371521398121866]\n",
      "296 : ['Turista', 0.937048900932802]\n",
      "297 : ['Tabela de dispersão', 0.9370305457152351]\n",
      "298 : ['Austrália', 0.9369616894812856]\n",
      "299 : ['Adiantamento de férias', 0.9367079088805352]\n",
      "CPU times: user 19.6 ms, sys: 3.92 ms, total: 23.5 ms\n",
      "Wall time: 200 ms\n"
     ]
    }
   ],
   "source": [
    "%%time\n",
    "doctos_retornados_ranker = pipe_bm25.run(query=parm_query, \n",
    " params={\"Retriever\": {\"top_k\": 300}})\n",
    "util_pipeline.detail_document_found(doctos_retornados_ranker)"
   ]
  },
  {
   "attachments": {},
   "cell_type": "markdown",
   "metadata": {},
   "source": [
    "### Join"
   ]
  },
  {
   "cell_type": "code",
   "execution_count": 54,
   "metadata": {},
   "outputs": [
    {
     "name": "stdout",
     "output_type": "stream",
     "text": [
      "CPU times: user 2.94 s, sys: 295 ms, total: 3.23 s\n",
      "Wall time: 1.7 s\n"
     ]
    }
   ],
   "source": [
    "%%time\n",
    "pipe_join = util_pipeline.return_pipeline_join(index, parm_path_model_sts=nome_caminho_modelo_sts)"
   ]
  },
  {
   "cell_type": "code",
   "execution_count": 55,
   "metadata": {},
   "outputs": [],
   "source": [
    "pipes.append({'PIPE_NAME': 'pipe_join',\n",
    "              'PIPE_OBJECT': pipe_join,\n",
    "              'RETRIEVER_TYPE': 'join',  # in ['sts', 'bm25']\n",
    "              'RETRIEVER_MODEL_NAME': nome_modelo_embedding_model_sts, # or nome_modelo_embedding_model_sts_rufimelo,\n",
    "              'RANKER_MODEL_NAME': ''})"
   ]
  },
  {
   "cell_type": "code",
   "execution_count": 56,
   "metadata": {},
   "outputs": [
    {
     "name": "stdout",
     "output_type": "stream",
     "text": [
      "Parâmetros usados: {'Bm25Retriever': {'top_k': 300}, 'StsRetriever': {'top_k': 100}}\n",
      "Consulta: A transferência de documentos da entidade para local impróprio ao armazenamento, causando a perda de informações ou inviabilizando seu manuseio, de forma a impedir a atuação do TCU, é causa de responsabilização do gestor que a ordenou.\n",
      "Qtd documentos retornados: 379\n",
      "Primeiro docto:\n",
      "<Document: id=1102005, content='O termo é \"Plano de contratações\".\n",
      "Plano de contratações tem definição: \"É o documento no qual a org...'>\n",
      "\n",
      "Último (379):\n",
      "<Document: id=2992, content='O termo é \"Afastamento preventivo\".\n",
      "Afastamento preventivo tem definição: \"Art. 147.  Como medida ca...'>\n",
      "Seguem os nomes dos termos recuperados em ordem de score\n",
      "0 : ['Plano de contratações', 0.9856940203493179]\n",
      "1 : ['Competência do TCU', 0.9849874794705751]\n",
      "2 : ['Teletrabalho', 0.9823437136689326]\n",
      "3 : ['Nexo de causalidade', 0.982157658932855]\n",
      "4 : ['Processo administrativo de responsabilização', 0.9816688772992885]\n",
      "5 : ['Evidência documental', 0.9808667929710004]\n",
      "6 : ['Papéis de trabalho', 0.9800804158626235]\n",
      "7 : ['Julgamento de contas', 0.9780553040802098]\n",
      "8 : ['Matriz de fiscalização', 0.9778889174161483]\n",
      "9 : ['Responsável', 0.9749983023194281]\n",
      "10 : ['Matriz de responsabilização', 0.9749010355369913]\n",
      "11 : ['Produzir', 0.9743022341175737]\n",
      "12 : ['Documento novo', 0.9732741034881348]\n",
      "13 : ['Examinar', 0.9732180433625631]\n",
      "14 : ['Phishing', 0.9724266621478431]\n",
      "15 : ['Sistema Nacional de Emprego', 0.9714378186803478]\n",
      "16 : ['Gestor da informação', 0.9712187264447482]\n",
      "17 : ['Controle de segunda ordem', 0.970873867075394]\n",
      "18 : ['Causa do achado', 0.9706906037482294]\n",
      "19 : ['Estratégia digital', 0.9701236836186766]\n",
      "20 : ['Ministério Público junto ao TCU', 0.9700605069151323]\n",
      "21 : ['Confirmação externa', 0.9696596610660471]\n",
      "22 : ['Cobrança executiva', 0.9693038531578911]\n",
      "23 : ['Matriz padrão', 0.9687832056065442]\n",
      "24 : ['Penhor', 0.968162361915448]\n",
      "25 : ['Entidade filantrópica', 0.9676888116115662]\n",
      "26 : ['Honorários de êxito', 0.9676524124501663]\n",
      "27 : ['HTTPS', 0.9675901238174784]\n",
      "28 : ['Petição inicial', 0.9675488332671434]\n",
      "29 : ['Afastamento para servir a outro órgão ou entidade', 0.9669174085223711]\n",
      "30 : ['Disseminar', 0.966905218875126]\n",
      "31 : ['Análise estática', 0.9660281341139809]\n",
      "32 : ['Casemg', 0.9659682605598531]\n",
      "33 : ['Gestor', 0.9655142819406799]\n",
      "34 : ['Representação', 0.9652363938568079]\n",
      "35 : ['Avaliação de controles internos', 0.9647662571738366]\n",
      "36 : ['Backdoor', 0.9645546613332472]\n",
      "37 : ['Contabilidade', 0.9644534384224346]\n",
      "38 : ['Transferência de carteira', 0.9641922679960047]\n",
      "39 : ['Ação corretiva', 0.9639161834711785]\n",
      "40 : ['Evicção', 0.9637212483345161]\n",
      "41 : ['Ouvidoria', 0.9634448837100252]\n",
      "42 : ['Fiscalização', 0.9630165470706724]\n",
      "43 : ['Cláusula uniforme', 0.9623910930365567]\n",
      "44 : ['Assessoria jurídica', 0.9621278198086929]\n",
      "45 : ['Armazenamento de dados', 0.9619242734842146]\n",
      "46 : ['Atividade crítica', 0.9618874014709465]\n",
      "47 : ['Serviço público prestado integralmente sob a forma digital', 0.961419871078294]\n",
      "48 : ['Ocasionar', 0.9612147237380495]\n",
      "49 : ['Desapropriação judicial', 0.9606843032921187]\n",
      "50 : ['Hipoteca', 0.9605545000176207]\n",
      "51 : ['Concreto convencional', 0.9599764270606329]\n",
      "52 : ['Serviço público prestado parcialmente sob a forma digital', 0.959819704683328]\n",
      "53 : ['Transferências da União', 0.9596240778000634]\n",
      "54 : ['França', 0.9595603559566676]\n",
      "55 : ['Escola Superior do Tribunal de Contas da União', 0.9595120266901677]\n",
      "56 : ['Contrafação', 0.9593783462230799]\n",
      "57 : ['Jurisdição', 0.9591404375498186]\n",
      "58 : ['Capacidade operacional', 0.958941512088949]\n",
      "59 : ['Efeito do achado', 0.958929442662271]\n",
      "60 : ['Reforma (Pessoal)', 0.9587878563381154]\n",
      "61 : ['Substituição tributária', 0.9587698194957366]\n",
      "62 : ['Inspeção sanitária', 0.9586252476007018]\n",
      "63 : ['Gestor máximo', 0.9585643370920641]\n",
      "64 : ['Matriz de planejamento', 0.9584372944150586]\n",
      "65 : ['Líbano', 0.958258830519573]\n",
      "66 : ['Aviso prévio', 0.9582448386813825]\n",
      "67 : ['Risco inerente', 0.9580101570198128]\n",
      "68 : ['Embargos', 0.9577779502140308]\n",
      "69 : ['Transferência de risco', 0.9577449798461105]\n",
      "70 : ['Requerer', 0.9573839012529318]\n",
      "71 : ['Princípio da irrenunciabilidade', 0.9572732115283369]\n",
      "72 : ['Organização comunitária', 0.9571137609318326]\n",
      "73 : ['Gerenciamento de riscos corporativos', 0.9570734706181723]\n",
      "74 : ['Memorial', 0.9569755794888811]\n",
      "75 : ['Adicional de embarque e desembarque', 0.9566770300646551]\n",
      "76 : ['Serviço público passível de ser prestado sob a forma digital', 0.9565799269322078]\n",
      "77 : ['Cessão de pessoal', 0.9564698462213936]\n",
      "78 : ['Protocolo internacional', 0.9562298872578011]\n",
      "79 : ['Instruir', 0.9562261516103134]\n",
      "80 : ['Princípio da vedação ao enriquecimento sem causa', 0.9562196161116222]\n",
      "81 : ['Ação ao portador', 0.9561756905836348]\n",
      "82 : ['Diligência', 0.9559883455743694]\n",
      "83 : ['Ocupação', 0.9559661195591604]\n",
      "84 : ['Sonegação', 0.9558004268104576]\n",
      "85 : ['Índice de preços', 0.955620310570976]\n",
      "86 : ['Exame sumário', 0.9551943519221134]\n",
      "87 : ['Administrar', 0.9550002696368254]\n",
      "88 : ['Exceção de coisa julgada', 0.9546906630484467]\n",
      "89 : ['Sala-cofre', 0.954663706675542]\n",
      "90 : ['Fé pública', 0.9546371085351776]\n",
      "91 : ['Afastamento de responsável', 0.9546168861748239]\n",
      "92 : ['Defesa de responsável', 0.954434797149484]\n",
      "93 : ['Transferências voluntárias', 0.9543952656228274]\n",
      "94 : ['Férias vencidas', 0.9543769272308118]\n",
      "95 : ['Usucapião', 0.9541828786539923]\n",
      "96 : ['Cadastro Específico do INSS', 0.9539315737563044]\n",
      "97 : ['Integridade da informação', 0.9537947632847696]\n",
      "98 : ['Oposição (Direito)', 0.9537884387830428]\n",
      "99 : ['Bibliografia', 0.9535005048958634]\n",
      "100 : ['Desapropriação de imóveis', 0.9534084517088282]\n",
      "101 : ['Falsidade documental', 0.9532337115403431]\n",
      "102 : ['Exame documental', 0.9532323518558644]\n",
      "103 : ['Indagação escrita', 0.9532204474391387]\n",
      "104 : ['Desapropriação por interesse social', 0.9529404738204769]\n",
      "105 : ['Cartilha', 0.9529244784147565]\n",
      "106 : ['PDV', 0.9527896159468343]\n",
      "107 : ['Hora extra judicial', 0.9526206145297323]\n",
      "108 : ['Teletrabalho total', 0.952438712791075]\n",
      "109 : ['Alterar', 0.9521879560550494]\n",
      "110 : ['Ação preventiva', 0.9521186006001536]\n",
      "111 : ['Pagamento', 0.952067549539992]\n",
      "112 : ['Relatório de monitoramento', 0.9520259247382503]\n",
      "113 : ['Conteúdo local', 0.9516418276452496]\n",
      "114 : ['Instituto Serzedello Corrêa', 0.9513190285991512]\n",
      "115 : ['Pessoa com deficiência auditiva', 0.9512463381425789]\n",
      "116 : ['Revisão criminal', 0.9512376185753313]\n",
      "117 : ['Gestor substituto', 0.9512010428976136]\n",
      "118 : ['Decidir', 0.9510838676229583]\n",
      "119 : ['Notória especialização', 0.9508446206146226]\n",
      "120 : ['Processamento de dados', 0.9508190655415143]\n",
      "121 : ['Contrato de eficiência', 0.9506934331990565]\n",
      "122 : ['Manual', 0.9506929820210926]\n",
      "123 : ['Vistoria', 0.9506726573755878]\n",
      "124 : ['Iniciação esportiva', 0.950648952843144]\n",
      "125 : ['Trabalho de asseguração limitada', 0.9505972321259649]\n",
      "126 : ['Férias proporcionais', 0.9504084260451396]\n",
      "127 : ['Sonegação fiscal', 0.9503938896187064]\n",
      "128 : ['Auxiliar', 0.9501660781675729]\n",
      "129 : ['Doença endêmica', 0.9500992715662937]\n",
      "130 : ['Monitorar', 0.9496506992165659]\n",
      "131 : ['Catálogo de dados', 0.9495461163908799]\n",
      "132 : ['Regulamentar', 0.9494834514624517]\n",
      "133 : ['Design thinking', 0.9494216312426811]\n",
      "134 : ['Execução da despesa', 0.9491180166197143]\n",
      "135 : ['Vício construtivo', 0.9489875156833851]\n",
      "136 : ['Competência municipal', 0.9488773972277561]\n",
      "137 : ['Vaticano', 0.9488735588102937]\n",
      "138 : ['Tráfico de pessoas', 0.9488664633872584]\n",
      "139 : ['Receita de capital', 0.948814851041406]\n",
      "140 : ['Acidente do trabalho', 0.948698357457523]\n",
      "141 : ['Acidente aeronáutico', 0.9486544699838375]\n",
      "142 : ['Alienação de carteira', 0.9483206609550829]\n",
      "143 : ['Observação', 0.9482731203435723]\n",
      "144 : ['Representante comercial', 0.9482626714382877]\n",
      "145 : ['Observação direta', 0.9482163938903369]\n",
      "146 : ['Transferência documental', 0.9478818941123205]\n",
      "147 : ['Processo', 0.9477889775840668]\n",
      "148 : ['Nascente', 0.9477773906863531]\n",
      "149 : ['Gestão da informação', 0.9477671379990322]\n",
      "150 : ['Fundo de Arrendamento Residencial', 0.9477664634948768]\n",
      "151 : ['Acordo de leniência', 0.947705823526987]\n",
      "152 : ['Critério de auditoria', 0.9476027492395825]\n",
      "153 : ['Administração local (Obra pública)', 0.947550472328789]\n",
      "154 : ['Atualizar', 0.9475397363988394]\n",
      "155 : ['Plano de classificação de documentos', 0.9474563131821079]\n",
      "156 : ['Grupo de trabalho', 0.9472949200165242]\n",
      "157 : ['Abuso de direito', 0.9470261344101354]\n",
      "158 : ['Fato do príncipe', 0.946919269788652]\n",
      "159 : ['Lista tríplice', 0.9468305230457471]\n",
      "160 : ['Divulgar', 0.9468042066602871]\n",
      "161 : ['Auditoria preditiva', 0.9467271065876272]\n",
      "162 : ['Estação aduaneira', 0.9467071308367723]\n",
      "163 : ['Comunicação processual', 0.9466010806392038]\n",
      "164 : ['Objetivos de auditoria específicos', 0.9465132621594332]\n",
      "165 : ['Gestor público', 0.9463959102597824]\n",
      "166 : ['Exploração florestal', 0.9463439382795479]\n",
      "167 : ['Garantia-Safra', 0.9462469666877098]\n",
      "168 : ['Linguagem simples', 0.9462395591880861]\n",
      "169 : ['Amazônia Legal', 0.946238573568358]\n",
      "170 : ['Curso de formação', 0.9460879362258858]\n",
      "171 : ['Medidas de compensação', 0.9459612257464103]\n",
      "172 : ['Contrato de gestão', 0.945842405404049]\n",
      "173 : ['Recomendação', 0.9457420778641263]\n",
      "174 : ['Transferência de pessoal', 0.9456910363032587]\n",
      "175 : ['EIV', 0.9456141705274614]\n",
      "176 : ['Acidente em serviço', 0.9455205728684019]\n",
      "177 : ['Alienação de ação', 0.9454150585824564]\n",
      "178 : ['Previdência complementar', 0.9452697816372956]\n",
      "179 : ['Organização social', 0.9452282690190462]\n",
      "180 : ['Entidade fechada de autogestão', 0.9451978386613131]\n",
      "181 : ['Absorção', 0.945073563621328]\n",
      "182 : ['Alerta', 0.9450732067422655]\n",
      "183 : ['Unidade de Serviço Técnico', 0.9449041514024998]\n",
      "184 : ['Panamá', 0.944627789553269]\n",
      "185 : ['Retribuição', 0.9444825132618436]\n",
      "186 : ['Engenharia social', 0.9440445753866711]\n",
      "187 : ['Acordo de Basileia', 0.9439213670810462]\n",
      "188 : ['Resolução', 0.9438239555340553]\n",
      "189 : ['Enriquecimento ilícito', 0.9438090814892776]\n",
      "190 : ['Gestão do conhecimento', 0.9436404294317969]\n",
      "191 : ['Sugerir', 0.9433986978795029]\n",
      "192 : ['Chamamento ao processo', 0.9432752631516569]\n",
      "193 : ['Contingenciamento', 0.9431609375495982]\n",
      "194 : ['Teste de desenho e implementação', 0.9431464950673065]\n",
      "195 : ['Risco de controle', 0.943127201770828]\n",
      "196 : ['Adware', 0.942922434002684]\n",
      "197 : ['Sistematizar', 0.9428679238283205]\n",
      "198 : ['Entidade paraestatal', 0.9425957885105752]\n",
      "199 : ['Vazamento de dados', 0.942404112002669]\n",
      "200 : ['Contar', 0.9423875547951661]\n",
      "201 : ['Relatório de gestão', 0.9423734165613866]\n",
      "202 : ['Ministério do Planejamento e Coordenação-Geral (1967-1974)', 0.9423500674328352]\n",
      "203 : ['Constituir', 0.9423106001944959]\n",
      "204 : ['Fundamentação jurídica', 0.942118118513158]\n",
      "205 : ['Competência internacional', 0.941950848277206]\n",
      "206 : ['Risco financeiro', 0.9419262786575268]\n",
      "207 : ['Conselho de administração', 0.9418189372156143]\n",
      "208 : ['Medida cautelar', 0.9416420298468251]\n",
      "209 : ['Aproveitamento de licitação', 0.9416021972781073]\n",
      "210 : ['Requisitar', 0.9413699172083094]\n",
      "211 : ['Plano diretor (Administração Pública)', 0.9413405754609037]\n",
      "212 : ['Seguradora', 0.9412457763792318]\n",
      "213 : ['Instrumento de dívida', 0.9412281255905783]\n",
      "214 : ['Contrato de cessão onerosa', 0.9412062159371607]\n",
      "215 : ['Arguição de suspeição', 0.9411700565724124]\n",
      "216 : ['Trustless', 0.9410366071473026]\n",
      "217 : ['Fiscalização ambiental', 0.9410364406869488]\n",
      "218 : ['Centro Regional de Treinamento da ESAF', 0.9409612110483264]\n",
      "219 : ['Descentralização de crédito', 0.9409226453197336]\n",
      "220 : ['Perfil profissiográfico previdenciário', 0.9409095879190511]\n",
      "221 : ['Transferência de recursos', 0.9407685083880832]\n",
      "222 : ['CCHA', 0.9407125794387768]\n",
      "223 : ['Competência originária', 0.9406712525273354]\n",
      "224 : ['Achado de auditoria', 0.9404731778001857]\n",
      "225 : ['Teletrabalho parcial', 0.9404730308436441]\n",
      "226 : ['Plano de auditoria', 0.9404706305053607]\n",
      "227 : ['Internet', 0.9404654866180263]\n",
      "228 : ['Fornecedor', 0.9403633415787027]\n",
      "229 : ['Contestação', 0.9403486398783729]\n",
      "230 : ['Executar', 0.9402446426507072]\n",
      "231 : ['Consultoria jurídica', 0.9401208321866461]\n",
      "232 : ['Desestatização', 0.9400136649374491]\n",
      "233 : ['Unidade Apresentadora de Contas', 0.9400110992332351]\n",
      "234 : ['Fundação (Direito)', 0.9398976898772841]\n",
      "235 : ['Termo de cooperação', 0.9397079213171605]\n",
      "236 : ['Transferências fundo a fundo', 0.9396320058976525]\n",
      "237 : ['Rede de Controle da Gestão Pública', 0.9396203339407657]\n",
      "238 : ['Emigração', 0.9395197940377877]\n",
      "239 : ['Direito à educação', 0.9393354984669462]\n",
      "240 : ['Supervisão de auditoria', 0.9392844275418835]\n",
      "241 : ['Cessão de uso', 0.9392399081271063]\n",
      "242 : ['Licitação de maior retorno econômico', 0.9390265010438349]\n",
      "243 : ['Delegação de competência', 0.9388474962778554]\n",
      "244 : ['Marco Civil da Internet', 0.9388431327538225]\n",
      "245 : ['Coordenar', 0.9386323617708945]\n",
      "246 : ['Projeto pedagógico', 0.9386195297493839]\n",
      "247 : ['Pesquisa', 0.938616836290699]\n",
      "248 : ['Tunísia', 0.9386130767866766]\n",
      "249 : ['Período de trânsito', 0.9386107936112036]\n",
      "250 : ['Princípio da ampla defesa', 0.9385856662371125]\n",
      "251 : ['Beneficiário instituído', 0.9385283084364224]\n",
      "252 : ['Eficiência', 0.938389822462763]\n",
      "253 : ['Certificado de Registro de Veículos', 0.9381626190214504]\n",
      "254 : ['Promover', 0.9381045510443038]\n",
      "255 : ['Urbanização', 0.9380304920974517]\n",
      "256 : ['Abono de faltas', 0.9380158855063895]\n",
      "257 : ['Renúncia', 0.9380073380696953]\n",
      "258 : ['Execução trabalhista', 0.937965711736422]\n",
      "259 : ['Modelagem da Informação da Construção', 0.9378117843653694]\n",
      "260 : ['Classificação orçamentária', 0.9377967504720488]\n",
      "261 : ['Tabela de temporalidade', 0.9377943441508756]\n",
      "262 : ['Concurso de preferência', 0.9377493518238906]\n",
      "263 : ['Suframa', 0.9377173835739546]\n",
      "264 : ['Subconcessão', 0.9376902496354892]\n",
      "265 : ['Embaixada', 0.9375964665130915]\n",
      "266 : ['Código de ética do servidor', 0.9375914784064174]\n",
      "267 : ['Quarentena', 0.9375280487468838]\n",
      "268 : ['Transferência especial', 0.9374911766002683]\n",
      "269 : ['Avaliar', 0.9374758432356273]\n",
      "270 : ['Avaliação de desempenho', 0.9374497911812236]\n",
      "271 : ['Web semântica', 0.9374081308267975]\n",
      "272 : ['Juízo de mérito', 0.9372710528738277]\n",
      "273 : ['Fisioterapeuta', 0.9372628359065353]\n",
      "274 : ['Pnate', 0.9372513392867732]\n",
      "275 : ['Competência organizacional', 0.9371869248254611]\n",
      "276 : ['Processo conexo', 0.937158618281384]\n",
      "277 : ['Gestão de risco', 0.9371521398121866]\n",
      "278 : ['Turista', 0.937048900932802]\n",
      "279 : ['Tabela de dispersão', 0.9370305457152351]\n",
      "280 : ['Austrália', 0.9369616894812856]\n",
      "281 : ['Adiantamento de férias', 0.9367079088805352]\n",
      "282 : ['Trancamento das contas', 0.9341491636096659]\n",
      "283 : ['Revisão de ofício', 0.9297291992714615]\n",
      "284 : ['Responsabilidade perante o controle externo', 0.9294792178601551]\n",
      "285 : ['Erro de procedimento', 0.9280039678494807]\n",
      "286 : ['Ato vinculado', 0.9275481833601299]\n",
      "287 : ['Termo de sigilo', 0.925026523026082]\n",
      "288 : ['Anulação', 0.924645376239448]\n",
      "289 : ['Atos de pessoal', 0.9229926926844242]\n",
      "290 : ['Coerção', 0.9227992114198242]\n",
      "291 : ['Negativa de registro', 0.9204877064695078]\n",
      "292 : ['Arquivamento', 0.9201357577046293]\n",
      "293 : ['Risco de auditoria', 0.9197051023576104]\n",
      "294 : ['Excludente de responsabilidade', 0.9187524462466974]\n",
      "295 : ['Irregularidade grave', 0.918724225445055]\n",
      "296 : ['Culpa in vigilando', 0.9179964511667835]\n",
      "297 : ['Distorção não corrigida', 0.9176569068704307]\n",
      "298 : ['Falta funcional', 0.917581312596116]\n",
      "299 : ['Conduta omissiva', 0.9174512184120178]\n",
      "300 : ['Sonegação de informação', 0.9166281377332632]\n",
      "301 : ['Accountability pública', 0.9164846598474962]\n",
      "302 : ['Omissão no dever de prestar contas', 0.9163486999360333]\n",
      "303 : ['Técnico de Finanças e Controle', 0.9162536001883685]\n",
      "304 : ['Contas irregulares', 0.91591697358619]\n",
      "305 : ['Representação administrativa', 0.9157843391848023]\n",
      "306 : ['Determinação', 0.9154213050633756]\n",
      "307 : ['Omissão', 0.914843089259514]\n",
      "308 : ['Documento sigiloso', 0.9144377332307788]\n",
      "309 : ['Conduta irregular', 0.9121719028713356]\n",
      "310 : ['Responsabilização', 0.9120798881002934]\n",
      "311 : ['Perda de objeto', 0.9116852764037447]\n",
      "312 : ['Inércia da Administração', 0.9109246871807424]\n",
      "313 : ['Guardar', 0.9108891410687013]\n",
      "314 : ['Infração', 0.91083449847398]\n",
      "315 : ['Indício de irregularidade grave', 0.9102057720038609]\n",
      "316 : ['Erro', 0.9100136002740455]\n",
      "317 : ['Princípio da segregação de funções', 0.9095418748158737]\n",
      "318 : ['Ofício de requisição', 0.909148240500324]\n",
      "319 : ['Rescisão unilateral', 0.9089078431783219]\n",
      "320 : ['Destituição de função', 0.908477643199189]\n",
      "321 : ['Ilícito administrativo', 0.9074259415814175]\n",
      "322 : ['Abandono de cargo', 0.90734232360891]\n",
      "323 : ['Irregularidade', 0.9069319944204945]\n",
      "324 : ['Desvio de função', 0.9064174477067363]\n",
      "325 : ['Ato de ofício', 0.9063242684408868]\n",
      "326 : ['Encaminhamento das contas', 0.9062184287363109]\n",
      "327 : ['Impropriedade', 0.9054761710268394]\n",
      "328 : ['Negação de serviço ', 0.9052805044569255]\n",
      "329 : ['Erro material', 0.904281403618174]\n",
      "330 : ['Administração contratada', 0.9042628789145661]\n",
      "331 : ['Dispensa com justa causa', 0.904032003866883]\n",
      "332 : ['Abuso de poder', 0.9038543499171754]\n",
      "333 : ['Controle interno', 0.903039446022782]\n",
      "334 : ['Indício de irregularidade grave com recomendação de paralisação', 0.9030113358814664]\n",
      "335 : ['Exclusão de acesso', 0.9027978646639047]\n",
      "336 : ['Informação secreta', 0.9027869826392471]\n",
      "337 : ['Preservação de evidência', 0.9026390021809562]\n",
      "338 : ['Interceptação telefônica', 0.9021654374380413]\n",
      "339 : ['Ato precário', 0.9019401359581602]\n",
      "340 : ['Processo administrativo disciplinar', 0.9016751040483828]\n",
      "341 : ['Canal de denúncias', 0.9016675679366696]\n",
      "342 : ['Ofício de comunicação de fiscalização', 0.9012543354903404]\n",
      "343 : ['Negligência', 0.9007426841986789]\n",
      "344 : ['Esclarecimento de responsáveis', 0.9006446529418302]\n",
      "345 : ['Preclusão temporal', 0.9003842202189747]\n",
      "346 : ['Auto de infração', 0.8989822458097059]\n",
      "347 : ['Prevenção de perda de dados', 0.8989408274705474]\n",
      "348 : ['Risco organizacional', 0.8988620365537214]\n",
      "349 : ['Obra paralisada', 0.8985173346730585]\n",
      "350 : ['Ato omissivo', 0.8985014675683317]\n",
      "351 : ['Custodiante da informação', 0.8978160882754852]\n",
      "352 : ['Disciplinar', 0.8971729313523576]\n",
      "353 : ['Ação de controle externo', 0.8971592770076936]\n",
      "354 : ['Erro acidental', 0.8971240266177964]\n",
      "355 : ['Mandado de injunção', 0.8963537977015371]\n",
      "356 : ['Corregedor', 0.895996597445735]\n",
      "357 : ['Informação reservada', 0.8959172688400449]\n",
      "358 : ['Excesso de poder', 0.8957690021134883]\n",
      "359 : ['Responsável técnico', 0.8955219751540908]\n",
      "360 : ['Abuso de autoridade', 0.895337701038353]\n",
      "361 : ['Construção participativa de deliberações', 0.8952738686379877]\n",
      "362 : ['Controlar', 0.8952649612394795]\n",
      "363 : ['Fiscalização tributária', 0.8947175176625644]\n",
      "364 : ['Locaute', 0.8943973808039647]\n",
      "365 : ['Sigilo fiscal', 0.8942432325789107]\n",
      "366 : ['Posse (Pessoal)', 0.8942414356922531]\n",
      "367 : ['Risco de detecção', 0.8939729246725233]\n",
      "368 : ['Nota técnica', 0.893956715288326]\n",
      "369 : ['Auditoria interna', 0.8935160473418704]\n",
      "370 : ['Poder discricionário', 0.8932054761040064]\n",
      "371 : ['Informação confidencial', 0.8931451749861812]\n",
      "372 : ['Gestão documental', 0.8930782552993651]\n",
      "373 : ['Deficiência material', 0.8929623713140746]\n",
      "374 : ['Tomada de contas', 0.8929463127174061]\n",
      "375 : ['Auditor interno', 0.8929196392918227]\n",
      "376 : ['Informação ultrassecreta', 0.8928700054238224]\n",
      "377 : ['Termo de responsabilidade', 0.8928465681441121]\n",
      "378 : ['Afastamento preventivo', 0.8926737584628649]\n",
      "CPU times: user 508 ms, sys: 68.4 ms, total: 576 ms\n",
      "Wall time: 761 ms\n"
     ]
    }
   ],
   "source": [
    "%%time\n",
    "doctos_retornados_ranker = pipe_join.run(query=parm_query, \n",
    " params={\"Bm25Retriever\": {\"top_k\": 300}, \"StsRetriever\": {\"top_k\": 100}})\n",
    "util_pipeline.detail_document_found(doctos_retornados_ranker)"
   ]
  },
  {
   "cell_type": "code",
   "execution_count": null,
   "metadata": {},
   "outputs": [],
   "source": []
  },
  {
   "attachments": {},
   "cell_type": "markdown",
   "metadata": {},
   "source": [
    "## With rankers"
   ]
  },
  {
   "attachments": {},
   "cell_type": "markdown",
   "metadata": {},
   "source": [
    "### First stage = sts_multihop"
   ]
  },
  {
   "cell_type": "code",
   "execution_count": null,
   "metadata": {},
   "outputs": [
    {
     "data": {
      "text/plain": [
       "<module 'util.util_search' from '/home/borela/fontes/ind-ir/code/util/util_search.py'>"
      ]
     },
     "execution_count": 40,
     "metadata": {},
     "output_type": "execute_result"
    }
   ],
   "source": [
    "import importlib\n",
    "importlib.reload(util_experiment)"
   ]
  },
  {
   "cell_type": "code",
   "execution_count": null,
   "metadata": {},
   "outputs": [
    {
     "name": "stdout",
     "output_type": "stream",
     "text": [
      "CPU times: user 38.9 s, sys: 17 s, total: 56 s\n",
      "Wall time: 2min 16s\n"
     ]
    }
   ],
   "source": [
    "%%time\n",
    "pipe_sts_multihop_ranker_monot5_3b = util_pipeline.return_pipeline_sts_multihop_reranker(index, 'MONOT5', \n",
    "parm_path_model_ranker=nome_caminho_modelo_monot5_3b, parm_path_model_sts=nome_caminho_modelo_sts, parm_limit_query_size=350)"
   ]
  },
  {
   "cell_type": "code",
   "execution_count": null,
   "metadata": {},
   "outputs": [],
   "source": [
    "pipes.append({'PIPE_NAME': 'pipe_sts_multihop_ranker_monot5_3b',\n",
    "              'PIPE_OBJECT': pipe_sts_multihop_ranker_monot5_3b,\n",
    "              'RETRIEVER_TYPE': 'sts_multihop',  # in ['sts', 'bm25']\n",
    "              'RETRIEVER_MODEL_NAME': nome_modelo_embedding_model_sts, # or nome_modelo_embedding_model_sts_rufimelo,\n",
    "              'RANKER_MODEL_NAME': nome_modelo_monot5_3b})"
   ]
  },
  {
   "cell_type": "code",
   "execution_count": null,
   "metadata": {},
   "outputs": [
    {
     "name": "stdout",
     "output_type": "stream",
     "text": [
      "Parâmetros usados: {'Retriever': {'filters': {'class': ['Termo']}}}\n",
      "Consulta: A transferência de documentos da entidade para local impróprio ao armazenamento, causando a perda de informações ou inviabilizando seu manuseio, de forma a impedir a atuação do TCU, é causa de responsabilização do gestor que a ordenou.\n",
      "Qtd documentos retornados: 10\n",
      "Primeiro docto:\n",
      "<Document: id=5098, content='O termo é \"Responsabilidade perante o controle externo\".\n",
      "Responsabilidade perante o controle externo...'>\n",
      "\n",
      "Último (10):\n",
      "<Document: id=5450, content='O termo é \"Dispensa sem justa causa\".\n",
      "Dispensa sem justa causa tem definição: \"Art. 477.  Na extinçã...'>\n",
      "Seguem os nomes dos termos recuperados em ordem de score\n",
      "0 : ['Responsabilidade perante o controle externo', -0.29318735003471375]\n",
      "1 : ['Afastamento de responsável', -0.8160551190376282]\n",
      "2 : ['Descarte de documentos', -1.4474653005599976]\n",
      "3 : ['Excludente de responsabilidade', -2.6080782413482666]\n",
      "4 : ['Perda de objeto', -2.8628034591674805]\n",
      "5 : ['Afastamento preventivo', -5.166513919830322]\n",
      "6 : ['Abandono de cargo', -5.237979888916016]\n",
      "7 : ['Rescisão unilateral', -5.300616264343262]\n",
      "8 : ['Destituição de função', -5.859151363372803]\n",
      "9 : ['Dispensa sem justa causa', -6.185722351074219]\n",
      "CPU times: user 776 ms, sys: 292 ms, total: 1.07 s\n",
      "Wall time: 1.09 s\n"
     ]
    }
   ],
   "source": [
    "%%time\n",
    "doctos_retornados_ranker = pipe_sts_multihop_ranker_monot5_3b.run(query=parm_query, params= {'Retriever': {'filters':{'class':['Termo']}}}) \n",
    "util_pipeline.detail_document_found(doctos_retornados_ranker)"
   ]
  },
  {
   "attachments": {},
   "cell_type": "markdown",
   "metadata": {},
   "source": [
    "### First stage = Join"
   ]
  },
  {
   "cell_type": "code",
   "execution_count": null,
   "metadata": {},
   "outputs": [
    {
     "data": {
      "text/plain": [
       "<module 'util.util_search' from '/home/borela/fontes/ind-ir/code/util/util_search.py'>"
      ]
     },
     "execution_count": 41,
     "metadata": {},
     "output_type": "execute_result"
    }
   ],
   "source": [
    "import importlib\n",
    "importlib.reload(util_experiment)"
   ]
  },
  {
   "cell_type": "code",
   "execution_count": null,
   "metadata": {},
   "outputs": [
    {
     "name": "stdout",
     "output_type": "stream",
     "text": [
      "CPU times: user 38.6 s, sys: 7.72 s, total: 46.4 s\n",
      "Wall time: 36 s\n"
     ]
    }
   ],
   "source": [
    "%%time\n",
    "pipe_join_ranker_monot5_3b = util_pipeline.return_pipeline_join_reranker(index, 'MONOT5', \n",
    "parm_path_model_ranker=nome_caminho_modelo_monot5_3b, parm_path_model_sts=nome_caminho_modelo_sts, parm_limit_query_size=350)"
   ]
  },
  {
   "attachments": {},
   "cell_type": "markdown",
   "metadata": {},
   "source": [
    "imprimir o pipe"
   ]
  },
  {
   "cell_type": "code",
   "execution_count": null,
   "metadata": {},
   "outputs": [],
   "source": [
    "from pathlib import Path"
   ]
  },
  {
   "cell_type": "code",
   "execution_count": null,
   "metadata": {},
   "outputs": [],
   "source": [
    "pipe_join_ranker_monot5_3b.draw(Path(\"pipe_join_ranker_monot5_3b.png\"))\t "
   ]
  },
  {
   "cell_type": "code",
   "execution_count": null,
   "metadata": {},
   "outputs": [],
   "source": [
    "pipe_join_ranker_monot5_3b.save_to_yaml(Path(\"pipe_join_ranker_monot5_3b.yahml\"), return_defaults = True)\n"
   ]
  },
  {
   "cell_type": "code",
   "execution_count": null,
   "metadata": {},
   "outputs": [],
   "source": [
    "pipe_join_ranker_monot5_3b.get_config(return_defaults=True)\n"
   ]
  },
  {
   "cell_type": "code",
   "execution_count": null,
   "metadata": {},
   "outputs": [],
   "source": [
    "pipes.append({'PIPE_NAME': 'pipe_join_ranker_monot5_3b',\n",
    "              'PIPE_OBJECT': pipe_join_ranker_monot5_3b,\n",
    "              'RETRIEVER_TYPE': 'join',  # in ['sts', 'bm25']\n",
    "              'RETRIEVER_MODEL_NAME': nome_modelo_embedding_model_sts, # or nome_modelo_embedding_model_sts_rufimelo,\n",
    "              'RANKER_MODEL_NAME': nome_modelo_monot5_3b})"
   ]
  },
  {
   "cell_type": "code",
   "execution_count": null,
   "metadata": {},
   "outputs": [
    {
     "ename": "ValueError",
     "evalue": "No node(s) or global parameter(s) named Retriever found in pipeline.",
     "output_type": "error",
     "traceback": [
      "\u001b[0;31m---------------------------------------------------------------------------\u001b[0m",
      "\u001b[0;31mValueError\u001b[0m                                Traceback (most recent call last)",
      "\u001b[0;32m<timed exec>\u001b[0m in \u001b[0;36m<module>\u001b[0;34m\u001b[0m\n",
      "\u001b[0;32m~/miniconda3/envs/relevar-busca/lib/python3.7/site-packages/haystack/pipelines/base.py\u001b[0m in \u001b[0;36mrun\u001b[0;34m(self, query, file_paths, labels, documents, meta, params, debug)\u001b[0m\n\u001b[1;32m    484\u001b[0m         \"\"\"\n\u001b[1;32m    485\u001b[0m         \u001b[0;31m# validate the node names\u001b[0m\u001b[0;34m\u001b[0m\u001b[0;34m\u001b[0m\u001b[0;34m\u001b[0m\u001b[0m\n\u001b[0;32m--> 486\u001b[0;31m         \u001b[0mself\u001b[0m\u001b[0;34m.\u001b[0m\u001b[0m_validate_node_names_in_params\u001b[0m\u001b[0;34m(\u001b[0m\u001b[0mparams\u001b[0m\u001b[0;34m=\u001b[0m\u001b[0mparams\u001b[0m\u001b[0;34m)\u001b[0m\u001b[0;34m\u001b[0m\u001b[0;34m\u001b[0m\u001b[0m\n\u001b[0m\u001b[1;32m    487\u001b[0m \u001b[0;34m\u001b[0m\u001b[0m\n\u001b[1;32m    488\u001b[0m         \u001b[0mroot_node\u001b[0m \u001b[0;34m=\u001b[0m \u001b[0mself\u001b[0m\u001b[0;34m.\u001b[0m\u001b[0mroot_node\u001b[0m\u001b[0;34m\u001b[0m\u001b[0;34m\u001b[0m\u001b[0m\n",
      "\u001b[0;32m~/miniconda3/envs/relevar-busca/lib/python3.7/site-packages/haystack/pipelines/base.py\u001b[0m in \u001b[0;36m_validate_node_names_in_params\u001b[0;34m(self, params)\u001b[0m\n\u001b[1;32m   2169\u001b[0m                 \u001b[0;32mif\u001b[0m \u001b[0minvalid_keys\u001b[0m\u001b[0;34m:\u001b[0m\u001b[0;34m\u001b[0m\u001b[0;34m\u001b[0m\u001b[0m\n\u001b[1;32m   2170\u001b[0m                     raise ValueError(\n\u001b[0;32m-> 2171\u001b[0;31m                         \u001b[0;34mf\"No node(s) or global parameter(s) named {', '.join(invalid_keys)} found in pipeline.\"\u001b[0m\u001b[0;34m\u001b[0m\u001b[0;34m\u001b[0m\u001b[0m\n\u001b[0m\u001b[1;32m   2172\u001b[0m                     )\n\u001b[1;32m   2173\u001b[0m \u001b[0;34m\u001b[0m\u001b[0m\n",
      "\u001b[0;31mValueError\u001b[0m: No node(s) or global parameter(s) named Retriever found in pipeline."
     ]
    }
   ],
   "source": [
    "%%time\n",
    "doctos_retornados_ranker = pipe_join_ranker_monot5_3b.run(query=parm_query, \n",
    " params={\"Bm25Retriever\": {\"top_k\": 300}, \"StsRetriever\": {\"top_k\": 100}, \"Ranker\": {\"top_k\": 10}})\n",
    "util_pipeline.detail_document_found(doctos_retornados_ranker)"
   ]
  },
  {
   "attachments": {},
   "cell_type": "markdown",
   "metadata": {},
   "source": [
    "### First stage = BM25"
   ]
  },
  {
   "attachments": {},
   "cell_type": "markdown",
   "metadata": {},
   "source": [
    "#### pipe_bm25_ranker_monot5_3b"
   ]
  },
  {
   "cell_type": "code",
   "execution_count": null,
   "metadata": {},
   "outputs": [
    {
     "name": "stdout",
     "output_type": "stream",
     "text": [
      "CPU times: user 35.1 s, sys: 8.62 s, total: 43.8 s\n",
      "Wall time: 36.5 s\n"
     ]
    }
   ],
   "source": [
    "%%time\n",
    "pipe_bm25_ranker_monot5_3b = util_pipeline.return_pipeline_bm25_reranker(index, 'MONOT5', nome_caminho_modelo_monot5_3b, parm_limit_query_size=350)"
   ]
  },
  {
   "cell_type": "code",
   "execution_count": null,
   "metadata": {},
   "outputs": [],
   "source": [
    "pipes.append({'PIPE_NAME': 'pipe_bm25_ranker_monot5_3b',\n",
    "              'PIPE_OBJECT': pipe_bm25_ranker_monot5_3b,\n",
    "              'RETRIEVER_TYPE': 'bm25',  # or 'sts'\n",
    "              'RETRIEVER_MODEL_NAME': '', # or nome_modelo_embedding_model_sts_rufimelo,\n",
    "              'RANKER_MODEL_NAME': nome_modelo_monot5_3b})\n",
    "              #'RANKER_MODEL_NAME': nome_modelo_monot5_3b})"
   ]
  },
  {
   "cell_type": "code",
   "execution_count": null,
   "metadata": {},
   "outputs": [
    {
     "name": "stdout",
     "output_type": "stream",
     "text": [
      "Parâmetros usados: {}\n",
      "Consulta: A transferência de documentos da entidade para local impróprio ao armazenamento, causando a perda de informações ou inviabilizando seu manuseio, de forma a impedir a atuação do TCU, é causa de responsabilização do gestor que a ordenou.\n",
      "Qtd documentos retornados: 10\n",
      "Primeiro docto:\n",
      "<Document: id=1104189, content='O termo é \"Processo administrativo de responsabilização\". Processo administrativo de responsabilizaç...'>\n",
      "\n",
      "Último (10):\n",
      "<Document: id=1102005, content='O termo é \"Plano de contratações\".\n",
      "Plano de contratações tem definição: \"É o documento no qual a org...'>\n",
      "Seguem os nomes dos termos recuperados em ordem de score\n",
      "0 : ['Processo administrativo de responsabilização', -1.0603076219558716]\n",
      "1 : ['Competência do TCU', -1.4214444160461426]\n",
      "2 : ['Evidência documental', -1.9571717977523804]\n",
      "3 : ['Ofício de requisição', -2.266594648361206]\n",
      "4 : ['Julgamento de contas', -2.5948143005371094]\n",
      "5 : ['Nexo de causalidade', -3.0983963012695312]\n",
      "6 : ['Teletrabalho', -3.176138401031494]\n",
      "7 : ['Papéis de trabalho', -3.9197187423706055]\n",
      "8 : ['Matriz de fiscalização', -4.795485973358154]\n",
      "9 : ['Plano de contratações', -5.823603630065918]\n"
     ]
    }
   ],
   "source": [
    "doctos_retornados_ranker = pipe_bm25_ranker_monot5_3b.run(query=parm_query)\n",
    "util_pipeline.detail_document_found(doctos_retornados_ranker)"
   ]
  },
  {
   "attachments": {},
   "cell_type": "markdown",
   "metadata": {},
   "source": [
    "#### pipe_bm25_ranker_minilm"
   ]
  },
  {
   "cell_type": "code",
   "execution_count": null,
   "metadata": {},
   "outputs": [],
   "source": [
    "pipe_bm25_ranker_minilm = util_pipeline.return_pipeline_bm25_reranker(index, 'MINILM', nome_caminho_modelo_minilm, parm_limit_query_size=350)"
   ]
  },
  {
   "cell_type": "code",
   "execution_count": null,
   "metadata": {},
   "outputs": [],
   "source": [
    "pipes.append({'PIPE_NAME': 'pipe_bm25_ranker_minilm',\n",
    "              'PIPE_OBJECT': pipe_bm25_ranker_minilm,\n",
    "              'RETRIEVER_TYPE': 'bm25',  # or 'sts'\n",
    "              'RETRIEVER_MODEL_NAME': '', # or nome_modelo_embedding_model_sts_rufimelo,\n",
    "              'RANKER_MODEL_NAME': nome_modelo_ranking_minilm})"
   ]
  },
  {
   "cell_type": "code",
   "execution_count": null,
   "metadata": {},
   "outputs": [
    {
     "name": "stdout",
     "output_type": "stream",
     "text": [
      "Parâmetros usados: {}\n",
      "Consulta: A transferência de documentos da entidade para local impróprio ao armazenamento, causando a perda de informações ou inviabilizando seu manuseio, de forma a impedir a atuação do TCU, é causa de responsabilização do gestor que a ordenou.\n",
      "Qtd documentos retornados: 10\n",
      "Primeiro docto:\n",
      "<Document: id=5095, content='O termo é \"Competência do TCU\". Competência do TCU tem definição: \"São as seguintes as competências ...'>\n",
      "\n",
      "Último (10):\n",
      "<Document: id=4495, content='O termo é \"Nexo de causalidade\".\n",
      "Nexo de causalidade tem definição: \"Elemento que evidencia se a con...'>\n",
      "Seguem os nomes dos termos recuperados em ordem de score\n",
      "0 : ['Competência do TCU', 0.0014646538766101003]\n",
      "1 : ['Processo administrativo de responsabilização', 0.0004114470211789012]\n",
      "2 : ['Evidência documental', 0.00033812460605986416]\n",
      "3 : ['Plano de contratações', 0.0002457168884575367]\n",
      "4 : ['Julgamento de contas', 0.00022130725847091526]\n",
      "5 : ['Teletrabalho', 0.00016929447883740067]\n",
      "6 : ['Ofício de requisição', 0.0001542003737995401]\n",
      "7 : ['Papéis de trabalho', 8.805856487015262e-05]\n",
      "8 : ['Matriz de fiscalização', 7.702181028435007e-05]\n",
      "9 : ['Nexo de causalidade', 7.497824117308483e-05]\n"
     ]
    }
   ],
   "source": [
    "doctos_retornados_ranker = pipe_bm25_ranker_minilm.run(query=parm_query)\n",
    "util_pipeline.detail_document_found(doctos_retornados_ranker)"
   ]
  },
  {
   "attachments": {},
   "cell_type": "markdown",
   "metadata": {},
   "source": [
    "### First stage = Sentence Similarity"
   ]
  },
  {
   "attachments": {},
   "cell_type": "markdown",
   "metadata": {},
   "source": [
    "#### pipe_sts_ranker_minilm"
   ]
  },
  {
   "cell_type": "code",
   "execution_count": null,
   "metadata": {},
   "outputs": [],
   "source": [
    "pipe_sts_ranker_minilm = util_pipeline.return_pipeline_sts_reranker(index, 'MINILM', parm_path_model_ranker=nome_caminho_modelo_minilm, parm_path_model_sts=nome_caminho_modelo_sts, parm_limit_query_size=350)"
   ]
  },
  {
   "cell_type": "code",
   "execution_count": null,
   "metadata": {},
   "outputs": [],
   "source": [
    "pipes.append({'PIPE_NAME': 'pipe_sts_ranker_minilm',\n",
    "              'PIPE_OBJECT': pipe_sts_ranker_minilm,\n",
    "              'RETRIEVER_TYPE': 'sts',  # in ['sts', 'bm25']\n",
    "              'RETRIEVER_MODEL_NAME': nome_modelo_embedding_model_sts, # or nome_modelo_embedding_model_sts_rufimelo,\n",
    "              'RANKER_MODEL_NAME': nome_modelo_ranking_minilm})"
   ]
  },
  {
   "cell_type": "code",
   "execution_count": null,
   "metadata": {},
   "outputs": [
    {
     "name": "stdout",
     "output_type": "stream",
     "text": [
      "Parâmetros usados: {}\n",
      "Consulta: A transferência de documentos da entidade para local impróprio ao armazenamento, causando a perda de informações ou inviabilizando seu manuseio, de forma a impedir a atuação do TCU, é causa de responsabilização do gestor que a ordenou.\n",
      "Qtd documentos retornados: 10\n",
      "Primeiro docto:\n",
      "<Document: id=1110487, content='O termo é \"Vazamento de dados\".\n",
      "Vazamento de dados tem definição: \"Transmissão não-autorizada de dad...'>\n",
      "\n",
      "Último (10):\n",
      "<Document: id=15939, content='O termo é \"Erro de procedimento\".\n",
      "Erro de procedimento tem definição: \"É um vício de forma, extrínse...'>\n",
      "Seguem os nomes dos termos recuperados em ordem de score\n",
      "0 : ['Vazamento de dados', 0.0024509401991963387]\n",
      "1 : ['Termo de sigilo', 0.0007997120846994221]\n",
      "2 : ['Trancamento das contas', 0.0002845456183422357]\n",
      "3 : ['Risco de controle', 0.00022979704954195768]\n",
      "4 : ['Revisão de ofício', 0.00013715452223550528]\n",
      "5 : ['Responsabilidade perante o controle externo', 0.00013104191748425364]\n",
      "6 : ['Anulação', 0.00013015586591791362]\n",
      "7 : ['Afastamento de responsável', 0.00012832522043026984]\n",
      "8 : ['Ato vinculado', 8.117296965792775e-05]\n",
      "9 : ['Erro de procedimento', 6.451882654801011e-05]\n"
     ]
    }
   ],
   "source": [
    "doctos_retornados_ranker = pipe_sts_ranker_minilm.run(query=parm_query)\n",
    "util_pipeline.detail_document_found(doctos_retornados_ranker)"
   ]
  },
  {
   "attachments": {},
   "cell_type": "markdown",
   "metadata": {},
   "source": [
    "#### pipe_sts_ranker_monot5_3b"
   ]
  },
  {
   "cell_type": "code",
   "execution_count": null,
   "metadata": {},
   "outputs": [],
   "source": [
    "pipe_sts_ranker_monot5_3b = util_pipeline.return_pipeline_sts_reranker(index, 'MONOT5', parm_path_model_ranker=nome_caminho_modelo_monot5_3b, parm_path_model_sts=nome_caminho_modelo_sts, parm_limit_query_size=350)"
   ]
  },
  {
   "cell_type": "code",
   "execution_count": null,
   "metadata": {},
   "outputs": [],
   "source": [
    "pipes.append({'PIPE_NAME': 'pipe_sts_ranker_monot5_3b',\n",
    "              'PIPE_OBJECT': pipe_sts_ranker_monot5_3b,\n",
    "              'RETRIEVER_TYPE': 'sts',  # in ['sts', 'bm25']\n",
    "              'RETRIEVER_MODEL_NAME': nome_modelo_embedding_model_sts, # or nome_modelo_embedding_model_sts_rufimelo,\n",
    "              'RANKER_MODEL_NAME': nome_modelo_monot5_3b})"
   ]
  },
  {
   "cell_type": "code",
   "execution_count": null,
   "metadata": {},
   "outputs": [
    {
     "name": "stdout",
     "output_type": "stream",
     "text": [
      "Parâmetros usados: {}\n",
      "Consulta: A transferência de documentos da entidade para local impróprio ao armazenamento, causando a perda de informações ou inviabilizando seu manuseio, de forma a impedir a atuação do TCU, é causa de responsabilização do gestor que a ordenou.\n",
      "Qtd documentos retornados: 10\n",
      "Primeiro docto:\n",
      "<Document: id=5098, content='O termo é \"Responsabilidade perante o controle externo\".\n",
      "Responsabilidade perante o controle externo...'>\n",
      "\n",
      "Último (10):\n",
      "<Document: id=83, content='O termo é \"Anulação\". Anulação tem definição: \"É o ato ou a decisão, de caráter judicial ou administ...'>\n",
      "Seguem os nomes dos termos recuperados em ordem de score\n",
      "0 : ['Responsabilidade perante o controle externo', -0.29301929473876953]\n",
      "1 : ['Termo de sigilo', -0.6637465357780457]\n",
      "2 : ['Afastamento de responsável', -0.8156272172927856]\n",
      "3 : ['Revisão de ofício', -0.9923231601715088]\n",
      "4 : ['Trancamento das contas', -1.1499707698822021]\n",
      "5 : ['Erro de procedimento', -2.8979315757751465]\n",
      "6 : ['Vazamento de dados', -2.988812208175659]\n",
      "7 : ['Risco de controle', -3.4774656295776367]\n",
      "8 : ['Ato vinculado', -4.7654876708984375]\n",
      "9 : ['Anulação', -5.362386703491211]\n"
     ]
    }
   ],
   "source": [
    "doctos_retornados_ranker = pipe_sts_ranker_monot5_3b.run(query=parm_query)\n",
    "util_pipeline.detail_document_found(doctos_retornados_ranker)"
   ]
  },
  {
   "attachments": {},
   "cell_type": "markdown",
   "metadata": {},
   "source": [
    "# Experiments"
   ]
  },
  {
   "attachments": {},
   "cell_type": "markdown",
   "metadata": {},
   "source": [
    "todo:\n",
    "criar índice para enunciados e caderno com pipes para o Léo\n",
    "\n",
    "executar como script para liberar gpu"
   ]
  },
  {
   "attachments": {},
   "cell_type": "markdown",
   "metadata": {},
   "source": [
    "falta 'CRITERIA': 'extra' e pipe_bm25_ranker_monot5_3b'"
   ]
  },
  {
   "attachments": {},
   "cell_type": "markdown",
   "metadata": {},
   "source": [
    "rodar por critérios\n",
    "sem ranker (com área)\n",
    "\tbm25\n",
    "\tsts\n",
    "\tmultihop\n",
    "\n",
    "com ranker (sem área)\n",
    "\tmultihop\n",
    "\tbm25\n",
    "\tsts\n",
    "\tjoin\n"
   ]
  },
  {
   "attachments": {},
   "cell_type": "markdown",
   "metadata": {},
   "source": [
    "## Without ranker"
   ]
  },
  {
   "cell_type": "code",
   "execution_count": 57,
   "metadata": {},
   "outputs": [
    {
     "data": {
      "text/plain": [
       "[{'PIPE_NAME': 'pipe_sts_multihop',\n",
       "  'PIPE_OBJECT': <haystack.pipelines.standard_pipelines.DocumentSearchPipeline at 0x7f15c18a9e90>,\n",
       "  'RETRIEVER_TYPE': 'sts_multihop',\n",
       "  'RETRIEVER_MODEL_NAME': 'rufimelo/Legal-BERTimbau-sts-large-ma-v3',\n",
       "  'RANKER_MODEL_NAME': ''},\n",
       " {'PIPE_NAME': 'pipe_sts',\n",
       "  'PIPE_OBJECT': <haystack.pipelines.standard_pipelines.DocumentSearchPipeline at 0x7f15b8920750>,\n",
       "  'RETRIEVER_TYPE': 'sts',\n",
       "  'RETRIEVER_MODEL_NAME': 'rufimelo/Legal-BERTimbau-sts-large-ma-v3',\n",
       "  'RANKER_MODEL_NAME': ''},\n",
       " {'PIPE_NAME': 'pipe_bm25',\n",
       "  'PIPE_OBJECT': <haystack.pipelines.standard_pipelines.DocumentSearchPipeline at 0x7f15b88c4250>,\n",
       "  'RETRIEVER_TYPE': 'bm25',\n",
       "  'RETRIEVER_MODEL_NAME': '',\n",
       "  'RANKER_MODEL_NAME': ''},\n",
       " {'PIPE_NAME': 'pipe_join',\n",
       "  'PIPE_OBJECT': <haystack.pipelines.base.Pipeline at 0x7f15b85f9810>,\n",
       "  'RETRIEVER_TYPE': 'join',\n",
       "  'RETRIEVER_MODEL_NAME': 'rufimelo/Legal-BERTimbau-sts-large-ma-v3',\n",
       "  'RANKER_MODEL_NAME': ''}]"
      ]
     },
     "execution_count": 57,
     "metadata": {},
     "output_type": "execute_result"
    }
   ],
   "source": [
    "pipes"
   ]
  },
  {
   "cell_type": "code",
   "execution_count": 58,
   "metadata": {},
   "outputs": [],
   "source": [
    "grid_experiment = {'CRITERIA' : [\"area\", \"theme\", \"subtheme\", \"extra\", \"total\", \"total_gte_5\"],\n",
    "             'TOPK_RETRIEVER' : [300],\n",
    "             'TOPK_RANKER' : [0],\n",
    "             'PIPE': pipes,\n",
    "             'DONE': [False]\n",
    "}"
   ]
  },
  {
   "cell_type": "code",
   "execution_count": 59,
   "metadata": {},
   "outputs": [],
   "source": [
    "list_experiment = [dict(zip(grid_experiment.keys(), values)) for values in product(*grid_experiment.values())]\n"
   ]
  },
  {
   "cell_type": "code",
   "execution_count": 60,
   "metadata": {},
   "outputs": [
    {
     "name": "stdout",
     "output_type": "stream",
     "text": [
      "24\n"
     ]
    },
    {
     "data": {
      "text/plain": [
       "102"
      ]
     },
     "execution_count": 60,
     "metadata": {},
     "output_type": "execute_result"
    }
   ],
   "source": [
    "print(len(list_experiment))\n",
    "gc.collect()"
   ]
  },
  {
   "cell_type": "code",
   "execution_count": 61,
   "metadata": {},
   "outputs": [
    {
     "data": {
      "text/plain": [
       "<module 'util.util_experiment' from '/home/borela/fontes/ind-ir/code/util/util_experiment.py'>"
      ]
     },
     "execution_count": 61,
     "metadata": {},
     "output_type": "execute_result"
    }
   ],
   "source": [
    "importlib.reload(util_experiment)"
   ]
  },
  {
   "cell_type": "code",
   "execution_count": 62,
   "metadata": {},
   "outputs": [
    {
     "name": "stdout",
     "output_type": "stream",
     "text": [
      "===0/24===>  2023-Jun-17 12:07:34 experiment: {'CRITERIA': 'area', 'TOPK_RETRIEVER': 300, 'TOPK_RANKER': 0, 'PIPE': {'PIPE_NAME': 'pipe_sts_multihop', 'PIPE_OBJECT': <haystack.pipelines.standard_pipelines.DocumentSearchPipeline object at 0x7f15c18a9e90>, 'RETRIEVER_TYPE': 'sts_multihop', 'RETRIEVER_MODEL_NAME': 'rufimelo/Legal-BERTimbau-sts-large-ma-v3', 'RANKER_MODEL_NAME': ''}, 'DONE': False}\n"
     ]
    },
    {
     "name": "stderr",
     "output_type": "stream",
     "text": [
      " 99%|█████████▉| 99/100 [00:05<00:00, 18.38it/s]\n"
     ]
    },
    {
     "name": "stdout",
     "output_type": "stream",
     "text": [
      "RANK1_MEAN: 4.37\n",
      "NDCG_MEAN: 57.681\n",
      "TIME_SPENT_MEAN: 0.054\n",
      "===1/24===>  2023-Jun-17 12:07:40 experiment: {'CRITERIA': 'area', 'TOPK_RETRIEVER': 300, 'TOPK_RANKER': 0, 'PIPE': {'PIPE_NAME': 'pipe_sts', 'PIPE_OBJECT': <haystack.pipelines.standard_pipelines.DocumentSearchPipeline object at 0x7f15b8920750>, 'RETRIEVER_TYPE': 'sts', 'RETRIEVER_MODEL_NAME': 'rufimelo/Legal-BERTimbau-sts-large-ma-v3', 'RANKER_MODEL_NAME': ''}, 'DONE': False}\n"
     ]
    },
    {
     "name": "stderr",
     "output_type": "stream",
     "text": [
      " 99%|█████████▉| 99/100 [00:02<00:00, 39.73it/s]\n"
     ]
    },
    {
     "name": "stdout",
     "output_type": "stream",
     "text": [
      "RANK1_MEAN: 3.62\n",
      "NDCG_MEAN: 61.063\n",
      "TIME_SPENT_MEAN: 0.025\n",
      "===2/24===>  2023-Jun-17 12:07:43 experiment: {'CRITERIA': 'area', 'TOPK_RETRIEVER': 300, 'TOPK_RANKER': 0, 'PIPE': {'PIPE_NAME': 'pipe_bm25', 'PIPE_OBJECT': <haystack.pipelines.standard_pipelines.DocumentSearchPipeline object at 0x7f15b88c4250>, 'RETRIEVER_TYPE': 'bm25', 'RETRIEVER_MODEL_NAME': '', 'RANKER_MODEL_NAME': ''}, 'DONE': False}\n"
     ]
    },
    {
     "name": "stderr",
     "output_type": "stream",
     "text": [
      " 99%|█████████▉| 99/100 [00:01<00:00, 93.58it/s]\n"
     ]
    },
    {
     "name": "stdout",
     "output_type": "stream",
     "text": [
      "RANK1_MEAN: 5.59\n",
      "NDCG_MEAN: 49.052\n",
      "TIME_SPENT_MEAN: 0.011\n",
      "===3/24===>  2023-Jun-17 12:07:44 experiment: {'CRITERIA': 'area', 'TOPK_RETRIEVER': 300, 'TOPK_RANKER': 0, 'PIPE': {'PIPE_NAME': 'pipe_join', 'PIPE_OBJECT': <haystack.pipelines.base.Pipeline object at 0x7f15b85f9810>, 'RETRIEVER_TYPE': 'join', 'RETRIEVER_MODEL_NAME': 'rufimelo/Legal-BERTimbau-sts-large-ma-v3', 'RANKER_MODEL_NAME': ''}, 'DONE': False}\n"
     ]
    },
    {
     "name": "stderr",
     "output_type": "stream",
     "text": [
      " 99%|█████████▉| 99/100 [00:20<00:00,  4.75it/s]\n"
     ]
    },
    {
     "name": "stdout",
     "output_type": "stream",
     "text": [
      "RANK1_MEAN: 139.857\n",
      "NDCG_MEAN: 1.866\n",
      "TIME_SPENT_MEAN: 0.208\n",
      "===4/24===>  2023-Jun-17 12:08:05 experiment: {'CRITERIA': 'theme', 'TOPK_RETRIEVER': 300, 'TOPK_RANKER': 0, 'PIPE': {'PIPE_NAME': 'pipe_sts_multihop', 'PIPE_OBJECT': <haystack.pipelines.standard_pipelines.DocumentSearchPipeline object at 0x7f15c18a9e90>, 'RETRIEVER_TYPE': 'sts_multihop', 'RETRIEVER_MODEL_NAME': 'rufimelo/Legal-BERTimbau-sts-large-ma-v3', 'RANKER_MODEL_NAME': ''}, 'DONE': False}\n"
     ]
    },
    {
     "name": "stderr",
     "output_type": "stream",
     "text": [
      " 99%|█████████▉| 99/100 [00:29<00:00,  3.34it/s]\n"
     ]
    },
    {
     "name": "stdout",
     "output_type": "stream",
     "text": [
      "RANK1_MEAN: 64.729\n",
      "NDCG_MEAN: 15.113\n",
      "TIME_SPENT_MEAN: 0.296\n",
      "===5/24===>  2023-Jun-17 12:08:35 experiment: {'CRITERIA': 'theme', 'TOPK_RETRIEVER': 300, 'TOPK_RANKER': 0, 'PIPE': {'PIPE_NAME': 'pipe_sts', 'PIPE_OBJECT': <haystack.pipelines.standard_pipelines.DocumentSearchPipeline object at 0x7f15b8920750>, 'RETRIEVER_TYPE': 'sts', 'RETRIEVER_MODEL_NAME': 'rufimelo/Legal-BERTimbau-sts-large-ma-v3', 'RANKER_MODEL_NAME': ''}, 'DONE': False}\n"
     ]
    },
    {
     "name": "stderr",
     "output_type": "stream",
     "text": [
      "  0%|          | 0/100 [00:00<?, ?it/s]"
     ]
    }
   ],
   "source": [
    "%%time\n",
    "# colocar pequeno só para testes, depois voltar para 9999999 (número maior do que o número de termos a pesquisar)\n",
    "limit_query = 100 # 9999999\n",
    "for cnt, experiment in enumerate(list_experiment):\n",
    "    if not experiment['DONE']:\n",
    "        list_result_experiment = [] # por experiment\n",
    "        # no caso de normas segecex, bastaria 224 para qtd5 e 891 para qtd1\n",
    "        print(f\"==={cnt}/{len(list_experiment)}===>  {time.strftime('%Y-%b-%d %H:%M:%S')} experiment: {experiment}\")\n",
    "        result_run = util_experiment.experiment_run(parm_df=df_search_data, \n",
    "                                                parm_experiment=experiment,\n",
    "                                                parm_ndcg_position=12,\n",
    "                                                parm_limit_query=limit_query,\n",
    "                                                parm_print=True)\n",
    "        list_result_experiment.append(result_run)\n",
    "        # print(f\"qtd_encontrado sim:{result_run['qtd_encontrado']}, não:{result_run['qtd_nao_encontrado']} ({result_run['percent_nao_encontrado']}%)\")\n",
    "        experiment['DONE'] = True\n",
    "        util_experiment.add_experiment_result(parm_list_result=list_result_experiment, parm_dataset='juris_tcu_index')\n",
    "\n"
   ]
  },
  {
   "attachments": {},
   "cell_type": "markdown",
   "metadata": {},
   "source": [
    "## Rodar monoT5_3b sts_multihop pipe "
   ]
  },
  {
   "cell_type": "code",
   "execution_count": null,
   "metadata": {},
   "outputs": [
    {
     "data": {
      "text/plain": [
       "[{'PIPE_NAME': 'pipe_bm25_ranker_monot5_3b',\n",
       "  'PIPE_OBJECT': <haystack.pipelines.base.Pipeline at 0x7f34c0480450>,\n",
       "  'RETRIEVER_TYPE': 'bm25',\n",
       "  'RETRIEVER_MODEL_NAME': '',\n",
       "  'RANKER_MODEL_NAME': 'unicamp-dl/mt5-3B-mmarco-en-pt-tokens-extra'}]"
      ]
     },
     "execution_count": 45,
     "metadata": {},
     "output_type": "execute_result"
    }
   ],
   "source": [
    "pipes"
   ]
  },
  {
   "cell_type": "code",
   "execution_count": null,
   "metadata": {},
   "outputs": [],
   "source": [
    "grid_experiment = {'CRITERIA' : [\"area\", \"theme\", \"subtheme\", \"extra\"],\n",
    "             'TOPK_RETRIEVER' : [300],\n",
    "             'TOPK_RANKER' : [0],\n",
    "             'PIPE': pipes,\n",
    "             'DONE': [False]\n",
    "}"
   ]
  },
  {
   "cell_type": "code",
   "execution_count": null,
   "metadata": {},
   "outputs": [],
   "source": [
    "list_experiment = [dict(zip(grid_experiment.keys(), values)) for values in product(*grid_experiment.values())]\n"
   ]
  },
  {
   "cell_type": "code",
   "execution_count": null,
   "metadata": {},
   "outputs": [
    {
     "name": "stdout",
     "output_type": "stream",
     "text": [
      "4\n"
     ]
    },
    {
     "data": {
      "text/plain": [
       "113"
      ]
     },
     "execution_count": 48,
     "metadata": {},
     "output_type": "execute_result"
    }
   ],
   "source": [
    "print(len(list_experiment))\n",
    "gc.collect()"
   ]
  },
  {
   "cell_type": "code",
   "execution_count": null,
   "metadata": {},
   "outputs": [
    {
     "data": {
      "text/plain": [
       "<module 'util.util_experiment' from '/home/borela/fontes/ind-ir/code/util/util_experiment.py'>"
      ]
     },
     "execution_count": 49,
     "metadata": {},
     "output_type": "execute_result"
    }
   ],
   "source": [
    "importlib.reload(util_experiment)"
   ]
  },
  {
   "cell_type": "code",
   "execution_count": null,
   "metadata": {},
   "outputs": [
    {
     "name": "stdout",
     "output_type": "stream",
     "text": [
      "===0/4===>  2023-Jun-17 10:28:12 experiment: {'CRITERIA': 'area', 'TOPK_RETRIEVER': 300, 'TOPK_RANKER': 0, 'PIPE': {'PIPE_NAME': 'pipe_bm25_ranker_monot5_3b', 'PIPE_OBJECT': <haystack.pipelines.base.Pipeline object at 0x7f34c0480450>, 'RETRIEVER_TYPE': 'bm25', 'RETRIEVER_MODEL_NAME': '', 'RANKER_MODEL_NAME': 'unicamp-dl/mt5-3B-mmarco-en-pt-tokens-extra'}, 'DONE': False}\n"
     ]
    },
    {
     "name": "stderr",
     "output_type": "stream",
     "text": [
      " 99%|█████████▉| 99/100 [01:10<00:00,  1.41it/s]\n"
     ]
    },
    {
     "name": "stdout",
     "output_type": "stream",
     "text": [
      "RANK1_MEAN: 3.75\n",
      "NDCG_MEAN: 62.094\n",
      "TIME_SPENT_MEAN: 0.703\n",
      "===1/4===>  2023-Jun-17 10:29:23 experiment: {'CRITERIA': 'theme', 'TOPK_RETRIEVER': 300, 'TOPK_RANKER': 0, 'PIPE': {'PIPE_NAME': 'pipe_bm25_ranker_monot5_3b', 'PIPE_OBJECT': <haystack.pipelines.base.Pipeline object at 0x7f34c0480450>, 'RETRIEVER_TYPE': 'bm25', 'RETRIEVER_MODEL_NAME': '', 'RANKER_MODEL_NAME': 'unicamp-dl/mt5-3B-mmarco-en-pt-tokens-extra'}, 'DONE': False}\n"
     ]
    },
    {
     "name": "stderr",
     "output_type": "stream",
     "text": [
      " 99%|█████████▉| 99/100 [34:20<00:20, 20.82s/it]\n"
     ]
    },
    {
     "name": "stdout",
     "output_type": "stream",
     "text": [
      "RANK1_MEAN: 26.969\n",
      "NDCG_MEAN: 53.772\n",
      "TIME_SPENT_MEAN: 20.609\n",
      "===2/4===>  2023-Jun-17 11:03:44 experiment: {'CRITERIA': 'subtheme', 'TOPK_RETRIEVER': 300, 'TOPK_RANKER': 0, 'PIPE': {'PIPE_NAME': 'pipe_bm25_ranker_monot5_3b', 'PIPE_OBJECT': <haystack.pipelines.base.Pipeline object at 0x7f34c0480450>, 'RETRIEVER_TYPE': 'bm25', 'RETRIEVER_MODEL_NAME': '', 'RANKER_MODEL_NAME': 'unicamp-dl/mt5-3B-mmarco-en-pt-tokens-extra'}, 'DONE': False}\n"
     ]
    },
    {
     "name": "stderr",
     "output_type": "stream",
     "text": [
      " 99%|█████████▉| 99/100 [34:42<00:21, 21.04s/it]\n"
     ]
    },
    {
     "name": "stdout",
     "output_type": "stream",
     "text": [
      "RANK1_MEAN: 24.391\n",
      "NDCG_MEAN: 35.315\n",
      "TIME_SPENT_MEAN: 20.826\n",
      "===3/4===>  2023-Jun-17 11:38:27 experiment: {'CRITERIA': 'extra', 'TOPK_RETRIEVER': 300, 'TOPK_RANKER': 0, 'PIPE': {'PIPE_NAME': 'pipe_bm25_ranker_monot5_3b', 'PIPE_OBJECT': <haystack.pipelines.base.Pipeline object at 0x7f34c0480450>, 'RETRIEVER_TYPE': 'bm25', 'RETRIEVER_MODEL_NAME': '', 'RANKER_MODEL_NAME': 'unicamp-dl/mt5-3B-mmarco-en-pt-tokens-extra'}, 'DONE': False}\n"
     ]
    },
    {
     "name": "stderr",
     "output_type": "stream",
     "text": [
      " 67%|██████▋   | 67/100 [23:26<11:32, 20.99s/it]\n"
     ]
    },
    {
     "ename": "KeyboardInterrupt",
     "evalue": "",
     "output_type": "error",
     "traceback": [
      "\u001b[0;31m---------------------------------------------------------------------------\u001b[0m",
      "\u001b[0;31mKeyboardInterrupt\u001b[0m                         Traceback (most recent call last)",
      "\u001b[0;32m<timed exec>\u001b[0m in \u001b[0;36m<module>\u001b[0;34m\u001b[0m\n",
      "\u001b[0;32m~/fontes/ind-ir/code/util/util_experiment.py\u001b[0m in \u001b[0;36mexperiment_run\u001b[0;34m(parm_df, parm_experiment, parm_limit_query, parm_ndcg_position, parm_print)\u001b[0m\n\u001b[1;32m    192\u001b[0m             \u001b[0;32mcontinue\u001b[0m \u001b[0;31m# pode não haver ground truth dependendo do critério, por exemplo, não haver indexação extra\u001b[0m\u001b[0;34m\u001b[0m\u001b[0;34m\u001b[0m\u001b[0m\n\u001b[1;32m    193\u001b[0m         \u001b[0mtime_start_search_query\u001b[0m \u001b[0;34m=\u001b[0m \u001b[0mtime\u001b[0m\u001b[0;34m.\u001b[0m\u001b[0mtime\u001b[0m\u001b[0;34m(\u001b[0m\u001b[0;34m)\u001b[0m\u001b[0;34m\u001b[0m\u001b[0;34m\u001b[0m\u001b[0m\n\u001b[0;32m--> 194\u001b[0;31m         \u001b[0mlist_id_doc_returned\u001b[0m \u001b[0;34m=\u001b[0m \u001b[0msearch_docto_for_experiment\u001b[0m\u001b[0;34m(\u001b[0m\u001b[0mparm_experiment\u001b[0m\u001b[0;34m=\u001b[0m\u001b[0mparm_experiment\u001b[0m\u001b[0;34m,\u001b[0m  \u001b[0mquery_data\u001b[0m\u001b[0;34m=\u001b[0m\u001b[0mrow_query\u001b[0m\u001b[0;34m)\u001b[0m\u001b[0;34m\u001b[0m\u001b[0;34m\u001b[0m\u001b[0m\n\u001b[0m\u001b[1;32m    195\u001b[0m         \u001b[0mresult_search_one_query\u001b[0m\u001b[0;34m[\u001b[0m\u001b[0;34m'TIME_SPENT'\u001b[0m\u001b[0;34m]\u001b[0m \u001b[0;34m=\u001b[0m \u001b[0mround\u001b[0m\u001b[0;34m(\u001b[0m\u001b[0;34m(\u001b[0m\u001b[0mtime\u001b[0m\u001b[0;34m.\u001b[0m\u001b[0mtime\u001b[0m\u001b[0;34m(\u001b[0m\u001b[0;34m)\u001b[0m \u001b[0;34m-\u001b[0m \u001b[0mtime_start_search_query\u001b[0m\u001b[0;34m)\u001b[0m\u001b[0;34m,\u001b[0m\u001b[0;36m4\u001b[0m\u001b[0;34m)\u001b[0m\u001b[0;34m\u001b[0m\u001b[0;34m\u001b[0m\u001b[0m\n\u001b[1;32m    196\u001b[0m         \u001b[0mresult_search_one_query\u001b[0m\u001b[0;34m[\u001b[0m\u001b[0;34m'NDCG'\u001b[0m\u001b[0;34m]\u001b[0m \u001b[0;34m=\u001b[0m \u001b[0mround\u001b[0m\u001b[0;34m(\u001b[0m\u001b[0;36m100\u001b[0m\u001b[0;34m*\u001b[0m\u001b[0mcalculate_ndcg_query_result\u001b[0m\u001b[0;34m(\u001b[0m\u001b[0mlist_id_doc_returned\u001b[0m\u001b[0;34m,\u001b[0m \u001b[0mdict_ground_truth\u001b[0m\u001b[0;34m,\u001b[0m \u001b[0mparm_ndcg_position\u001b[0m\u001b[0;34m)\u001b[0m\u001b[0;34m,\u001b[0m\u001b[0;36m2\u001b[0m\u001b[0;34m)\u001b[0m\u001b[0;34m\u001b[0m\u001b[0;34m\u001b[0m\u001b[0m\n",
      "\u001b[0;32m~/fontes/ind-ir/code/util/util_experiment.py\u001b[0m in \u001b[0;36msearch_docto_for_experiment\u001b[0;34m(parm_experiment, query_data)\u001b[0m\n\u001b[1;32m    123\u001b[0m     \u001b[0;31m# print(f\"search_parameter: {search_parameter} \")\u001b[0m\u001b[0;34m\u001b[0m\u001b[0;34m\u001b[0m\u001b[0;34m\u001b[0m\u001b[0m\n\u001b[1;32m    124\u001b[0m     \u001b[0msearch_text\u001b[0m \u001b[0;34m=\u001b[0m  \u001b[0mquery_data\u001b[0m\u001b[0;34m[\u001b[0m\u001b[0;34m'TEXT'\u001b[0m\u001b[0;34m]\u001b[0m\u001b[0;34m[\u001b[0m\u001b[0;34m:\u001b[0m\u001b[0mlimit_size_text_first_stage\u001b[0m\u001b[0;34m]\u001b[0m\u001b[0;34m\u001b[0m\u001b[0;34m\u001b[0m\u001b[0m\n\u001b[0;32m--> 125\u001b[0;31m     \u001b[0mdocto_found\u001b[0m \u001b[0;34m=\u001b[0m \u001b[0mparm_experiment\u001b[0m\u001b[0;34m[\u001b[0m\u001b[0;34m'PIPE'\u001b[0m\u001b[0;34m]\u001b[0m\u001b[0;34m[\u001b[0m\u001b[0;34m'PIPE_OBJECT'\u001b[0m\u001b[0;34m]\u001b[0m\u001b[0;34m.\u001b[0m\u001b[0mrun\u001b[0m\u001b[0;34m(\u001b[0m\u001b[0mquery\u001b[0m\u001b[0;34m=\u001b[0m\u001b[0msearch_text\u001b[0m\u001b[0;34m,\u001b[0m \u001b[0mparams\u001b[0m\u001b[0;34m=\u001b[0m\u001b[0msearch_parameter\u001b[0m\u001b[0;34m)\u001b[0m\u001b[0;34m\u001b[0m\u001b[0;34m\u001b[0m\u001b[0m\n\u001b[0m\u001b[1;32m    126\u001b[0m     \u001b[0;32mif\u001b[0m \u001b[0;34m'documents'\u001b[0m \u001b[0;32min\u001b[0m \u001b[0mdocto_found\u001b[0m\u001b[0;34m:\u001b[0m \u001b[0;31m# search with ranker\u001b[0m\u001b[0;34m\u001b[0m\u001b[0;34m\u001b[0m\u001b[0m\n\u001b[1;32m    127\u001b[0m         \u001b[0;32mif\u001b[0m \u001b[0mlen\u001b[0m\u001b[0;34m(\u001b[0m\u001b[0mdocto_found\u001b[0m\u001b[0;34m[\u001b[0m\u001b[0;34m'documents'\u001b[0m\u001b[0;34m]\u001b[0m\u001b[0;34m)\u001b[0m \u001b[0;34m>\u001b[0m \u001b[0;36m0\u001b[0m\u001b[0;34m:\u001b[0m\u001b[0;34m\u001b[0m\u001b[0;34m\u001b[0m\u001b[0m\n",
      "\u001b[0;32m~/miniconda3/envs/relevar-busca/lib/python3.7/site-packages/haystack/pipelines/base.py\u001b[0m in \u001b[0;36mrun\u001b[0;34m(self, query, file_paths, labels, documents, meta, params, debug)\u001b[0m\n\u001b[1;32m    528\u001b[0m                 \u001b[0;32mtry\u001b[0m\u001b[0;34m:\u001b[0m\u001b[0;34m\u001b[0m\u001b[0;34m\u001b[0m\u001b[0m\n\u001b[1;32m    529\u001b[0m                     \u001b[0mlogger\u001b[0m\u001b[0;34m.\u001b[0m\u001b[0mdebug\u001b[0m\u001b[0;34m(\u001b[0m\u001b[0;34m\"Running node '%s` with input: %s\"\u001b[0m\u001b[0;34m,\u001b[0m \u001b[0mnode_id\u001b[0m\u001b[0;34m,\u001b[0m \u001b[0mnode_input\u001b[0m\u001b[0;34m)\u001b[0m\u001b[0;34m\u001b[0m\u001b[0;34m\u001b[0m\u001b[0m\n\u001b[0;32m--> 530\u001b[0;31m                     \u001b[0mnode_output\u001b[0m\u001b[0;34m,\u001b[0m \u001b[0mstream_id\u001b[0m \u001b[0;34m=\u001b[0m \u001b[0mself\u001b[0m\u001b[0;34m.\u001b[0m\u001b[0m_run_node\u001b[0m\u001b[0;34m(\u001b[0m\u001b[0mnode_id\u001b[0m\u001b[0;34m,\u001b[0m \u001b[0mnode_input\u001b[0m\u001b[0;34m)\u001b[0m\u001b[0;34m\u001b[0m\u001b[0;34m\u001b[0m\u001b[0m\n\u001b[0m\u001b[1;32m    531\u001b[0m                 \u001b[0;32mexcept\u001b[0m \u001b[0mException\u001b[0m \u001b[0;32mas\u001b[0m \u001b[0me\u001b[0m\u001b[0;34m:\u001b[0m\u001b[0;34m\u001b[0m\u001b[0;34m\u001b[0m\u001b[0m\n\u001b[1;32m    532\u001b[0m                     \u001b[0;31m# The input might be a really large object with thousands of embeddings.\u001b[0m\u001b[0;34m\u001b[0m\u001b[0;34m\u001b[0m\u001b[0;34m\u001b[0m\u001b[0m\n",
      "\u001b[0;32m~/miniconda3/envs/relevar-busca/lib/python3.7/site-packages/haystack/pipelines/base.py\u001b[0m in \u001b[0;36m_run_node\u001b[0;34m(self, node_id, node_input)\u001b[0m\n\u001b[1;32m    455\u001b[0m \u001b[0;34m\u001b[0m\u001b[0m\n\u001b[1;32m    456\u001b[0m     \u001b[0;32mdef\u001b[0m \u001b[0m_run_node\u001b[0m\u001b[0;34m(\u001b[0m\u001b[0mself\u001b[0m\u001b[0;34m,\u001b[0m \u001b[0mnode_id\u001b[0m\u001b[0;34m:\u001b[0m \u001b[0mstr\u001b[0m\u001b[0;34m,\u001b[0m \u001b[0mnode_input\u001b[0m\u001b[0;34m:\u001b[0m \u001b[0mDict\u001b[0m\u001b[0;34m[\u001b[0m\u001b[0mstr\u001b[0m\u001b[0;34m,\u001b[0m \u001b[0mAny\u001b[0m\u001b[0;34m]\u001b[0m\u001b[0;34m)\u001b[0m \u001b[0;34m->\u001b[0m \u001b[0mTuple\u001b[0m\u001b[0;34m[\u001b[0m\u001b[0mDict\u001b[0m\u001b[0;34m,\u001b[0m \u001b[0mstr\u001b[0m\u001b[0;34m]\u001b[0m\u001b[0;34m:\u001b[0m\u001b[0;34m\u001b[0m\u001b[0;34m\u001b[0m\u001b[0m\n\u001b[0;32m--> 457\u001b[0;31m         \u001b[0;32mreturn\u001b[0m \u001b[0mself\u001b[0m\u001b[0;34m.\u001b[0m\u001b[0mgraph\u001b[0m\u001b[0;34m.\u001b[0m\u001b[0mnodes\u001b[0m\u001b[0;34m[\u001b[0m\u001b[0mnode_id\u001b[0m\u001b[0;34m]\u001b[0m\u001b[0;34m[\u001b[0m\u001b[0;34m\"component\"\u001b[0m\u001b[0;34m]\u001b[0m\u001b[0;34m.\u001b[0m\u001b[0m_dispatch_run\u001b[0m\u001b[0;34m(\u001b[0m\u001b[0;34m**\u001b[0m\u001b[0mnode_input\u001b[0m\u001b[0;34m)\u001b[0m\u001b[0;34m\u001b[0m\u001b[0;34m\u001b[0m\u001b[0m\n\u001b[0m\u001b[1;32m    458\u001b[0m \u001b[0;34m\u001b[0m\u001b[0m\n\u001b[1;32m    459\u001b[0m     def run(  # type: ignore\n",
      "\u001b[0;32m~/miniconda3/envs/relevar-busca/lib/python3.7/site-packages/haystack/nodes/base.py\u001b[0m in \u001b[0;36m_dispatch_run\u001b[0;34m(self, **kwargs)\u001b[0m\n\u001b[1;32m    199\u001b[0m         \u001b[0mmethod\u001b[0m \u001b[0;32mwith\u001b[0m \u001b[0mthe\u001b[0m \u001b[0mcorrect\u001b[0m \u001b[0mrun\u001b[0m \u001b[0mmethod\u001b[0m\u001b[0;34m.\u001b[0m\u001b[0;34m\u001b[0m\u001b[0;34m\u001b[0m\u001b[0m\n\u001b[1;32m    200\u001b[0m         \"\"\"\n\u001b[0;32m--> 201\u001b[0;31m         \u001b[0;32mreturn\u001b[0m \u001b[0mself\u001b[0m\u001b[0;34m.\u001b[0m\u001b[0m_dispatch_run_general\u001b[0m\u001b[0;34m(\u001b[0m\u001b[0mself\u001b[0m\u001b[0;34m.\u001b[0m\u001b[0mrun\u001b[0m\u001b[0;34m,\u001b[0m \u001b[0;34m**\u001b[0m\u001b[0mkwargs\u001b[0m\u001b[0;34m)\u001b[0m\u001b[0;34m\u001b[0m\u001b[0;34m\u001b[0m\u001b[0m\n\u001b[0m\u001b[1;32m    202\u001b[0m \u001b[0;34m\u001b[0m\u001b[0m\n\u001b[1;32m    203\u001b[0m     \u001b[0;32mdef\u001b[0m \u001b[0m_dispatch_run_batch\u001b[0m\u001b[0;34m(\u001b[0m\u001b[0mself\u001b[0m\u001b[0;34m,\u001b[0m \u001b[0;34m**\u001b[0m\u001b[0mkwargs\u001b[0m\u001b[0;34m)\u001b[0m\u001b[0;34m:\u001b[0m\u001b[0;34m\u001b[0m\u001b[0;34m\u001b[0m\u001b[0m\n",
      "\u001b[0;32m~/miniconda3/envs/relevar-busca/lib/python3.7/site-packages/haystack/nodes/base.py\u001b[0m in \u001b[0;36m_dispatch_run_general\u001b[0;34m(self, run_method, **kwargs)\u001b[0m\n\u001b[1;32m    243\u001b[0m                 \u001b[0mrun_inputs\u001b[0m\u001b[0;34m[\u001b[0m\u001b[0mkey\u001b[0m\u001b[0;34m]\u001b[0m \u001b[0;34m=\u001b[0m \u001b[0mvalue\u001b[0m\u001b[0;34m\u001b[0m\u001b[0;34m\u001b[0m\u001b[0m\n\u001b[1;32m    244\u001b[0m \u001b[0;34m\u001b[0m\u001b[0m\n\u001b[0;32m--> 245\u001b[0;31m         \u001b[0moutput\u001b[0m\u001b[0;34m,\u001b[0m \u001b[0mstream\u001b[0m \u001b[0;34m=\u001b[0m \u001b[0mrun_method\u001b[0m\u001b[0;34m(\u001b[0m\u001b[0;34m**\u001b[0m\u001b[0mrun_inputs\u001b[0m\u001b[0;34m,\u001b[0m \u001b[0;34m**\u001b[0m\u001b[0mrun_params\u001b[0m\u001b[0;34m)\u001b[0m\u001b[0;34m\u001b[0m\u001b[0;34m\u001b[0m\u001b[0m\n\u001b[0m\u001b[1;32m    246\u001b[0m \u001b[0;34m\u001b[0m\u001b[0m\n\u001b[1;32m    247\u001b[0m         \u001b[0;31m# Collect debug information\u001b[0m\u001b[0;34m\u001b[0m\u001b[0;34m\u001b[0m\u001b[0;34m\u001b[0m\u001b[0m\n",
      "\u001b[0;32m~/miniconda3/envs/relevar-busca/lib/python3.7/site-packages/haystack/nodes/ranker/base.py\u001b[0m in \u001b[0;36mrun\u001b[0;34m(self, query, documents, top_k)\u001b[0m\n\u001b[1;32m     37\u001b[0m         \u001b[0;32mif\u001b[0m \u001b[0mdocuments\u001b[0m\u001b[0;34m:\u001b[0m\u001b[0;34m\u001b[0m\u001b[0;34m\u001b[0m\u001b[0m\n\u001b[1;32m     38\u001b[0m             \u001b[0mpredict\u001b[0m \u001b[0;34m=\u001b[0m \u001b[0mself\u001b[0m\u001b[0;34m.\u001b[0m\u001b[0mtiming\u001b[0m\u001b[0;34m(\u001b[0m\u001b[0mself\u001b[0m\u001b[0;34m.\u001b[0m\u001b[0mpredict\u001b[0m\u001b[0;34m,\u001b[0m \u001b[0;34m\"query_time\"\u001b[0m\u001b[0;34m)\u001b[0m\u001b[0;34m\u001b[0m\u001b[0;34m\u001b[0m\u001b[0m\n\u001b[0;32m---> 39\u001b[0;31m             \u001b[0mresults\u001b[0m \u001b[0;34m=\u001b[0m \u001b[0mpredict\u001b[0m\u001b[0;34m(\u001b[0m\u001b[0mquery\u001b[0m\u001b[0;34m=\u001b[0m\u001b[0mquery\u001b[0m\u001b[0;34m,\u001b[0m \u001b[0mdocuments\u001b[0m\u001b[0;34m=\u001b[0m\u001b[0mdocuments\u001b[0m\u001b[0;34m,\u001b[0m \u001b[0mtop_k\u001b[0m\u001b[0;34m=\u001b[0m\u001b[0mtop_k\u001b[0m\u001b[0;34m)\u001b[0m\u001b[0;34m\u001b[0m\u001b[0;34m\u001b[0m\u001b[0m\n\u001b[0m\u001b[1;32m     40\u001b[0m         \u001b[0;32melse\u001b[0m\u001b[0;34m:\u001b[0m\u001b[0;34m\u001b[0m\u001b[0;34m\u001b[0m\u001b[0m\n\u001b[1;32m     41\u001b[0m             \u001b[0mresults\u001b[0m \u001b[0;34m=\u001b[0m \u001b[0;34m[\u001b[0m\u001b[0;34m]\u001b[0m\u001b[0;34m\u001b[0m\u001b[0;34m\u001b[0m\u001b[0m\n",
      "\u001b[0;32m~/miniconda3/envs/relevar-busca/lib/python3.7/site-packages/haystack/nodes/ranker/base.py\u001b[0m in \u001b[0;36mwrapper\u001b[0;34m(*args, **kwargs)\u001b[0m\n\u001b[1;32m     74\u001b[0m                 \u001b[0mself\u001b[0m\u001b[0;34m.\u001b[0m\u001b[0m__dict__\u001b[0m\u001b[0;34m[\u001b[0m\u001b[0mattr_name\u001b[0m\u001b[0;34m]\u001b[0m \u001b[0;34m=\u001b[0m \u001b[0;36m0\u001b[0m\u001b[0;34m\u001b[0m\u001b[0;34m\u001b[0m\u001b[0m\n\u001b[1;32m     75\u001b[0m             \u001b[0mtic\u001b[0m \u001b[0;34m=\u001b[0m \u001b[0mperf_counter\u001b[0m\u001b[0;34m(\u001b[0m\u001b[0;34m)\u001b[0m\u001b[0;34m\u001b[0m\u001b[0;34m\u001b[0m\u001b[0m\n\u001b[0;32m---> 76\u001b[0;31m             \u001b[0mret\u001b[0m \u001b[0;34m=\u001b[0m \u001b[0mfn\u001b[0m\u001b[0;34m(\u001b[0m\u001b[0;34m*\u001b[0m\u001b[0margs\u001b[0m\u001b[0;34m,\u001b[0m \u001b[0;34m**\u001b[0m\u001b[0mkwargs\u001b[0m\u001b[0;34m)\u001b[0m\u001b[0;34m\u001b[0m\u001b[0;34m\u001b[0m\u001b[0m\n\u001b[0m\u001b[1;32m     77\u001b[0m             \u001b[0mtoc\u001b[0m \u001b[0;34m=\u001b[0m \u001b[0mperf_counter\u001b[0m\u001b[0;34m(\u001b[0m\u001b[0;34m)\u001b[0m\u001b[0;34m\u001b[0m\u001b[0;34m\u001b[0m\u001b[0m\n\u001b[1;32m     78\u001b[0m             \u001b[0mself\u001b[0m\u001b[0;34m.\u001b[0m\u001b[0m__dict__\u001b[0m\u001b[0;34m[\u001b[0m\u001b[0mattr_name\u001b[0m\u001b[0;34m]\u001b[0m \u001b[0;34m+=\u001b[0m \u001b[0mtoc\u001b[0m \u001b[0;34m-\u001b[0m \u001b[0mtic\u001b[0m\u001b[0;34m\u001b[0m\u001b[0;34m\u001b[0m\u001b[0m\n",
      "\u001b[0;32m~/miniconda3/envs/relevar-busca/lib/python3.7/site-packages/haystack/nodes/ranker/monot5_limit.py\u001b[0m in \u001b[0;36mpredict\u001b[0;34m(self, query, documents, top_k)\u001b[0m\n\u001b[1;32m    404\u001b[0m         \"\"\"\n\u001b[1;32m    405\u001b[0m         \u001b[0;32mif\u001b[0m \u001b[0mtop_k\u001b[0m \u001b[0;34m==\u001b[0m \u001b[0;36m0\u001b[0m\u001b[0;34m:\u001b[0m\u001b[0;34m\u001b[0m\u001b[0;34m\u001b[0m\u001b[0m\n\u001b[0;32m--> 406\u001b[0;31m             \u001b[0;32mreturn\u001b[0m \u001b[0msorted\u001b[0m\u001b[0;34m(\u001b[0m\u001b[0mself\u001b[0m\u001b[0;34m.\u001b[0m\u001b[0mrescore\u001b[0m\u001b[0;34m(\u001b[0m\u001b[0mquery_obj\u001b[0m\u001b[0;34m,\u001b[0m \u001b[0mdocuments_limited_size\u001b[0m\u001b[0;34m)\u001b[0m\u001b[0;34m,\u001b[0m \u001b[0mkey\u001b[0m\u001b[0;34m=\u001b[0m\u001b[0;32mlambda\u001b[0m \u001b[0mx\u001b[0m\u001b[0;34m:\u001b[0m \u001b[0mx\u001b[0m\u001b[0;34m.\u001b[0m\u001b[0mscore\u001b[0m\u001b[0;34m,\u001b[0m \u001b[0mreverse\u001b[0m\u001b[0;34m=\u001b[0m\u001b[0;32mTrue\u001b[0m\u001b[0;34m)\u001b[0m\u001b[0;34m\u001b[0m\u001b[0;34m\u001b[0m\u001b[0m\n\u001b[0m\u001b[1;32m    407\u001b[0m         \u001b[0;32melse\u001b[0m\u001b[0;34m:\u001b[0m\u001b[0;34m\u001b[0m\u001b[0;34m\u001b[0m\u001b[0m\n\u001b[1;32m    408\u001b[0m             \u001b[0;32mreturn\u001b[0m \u001b[0msorted\u001b[0m\u001b[0;34m(\u001b[0m\u001b[0mself\u001b[0m\u001b[0;34m.\u001b[0m\u001b[0mrescore\u001b[0m\u001b[0;34m(\u001b[0m\u001b[0mquery_obj\u001b[0m\u001b[0;34m,\u001b[0m \u001b[0mdocuments_limited_size\u001b[0m\u001b[0;34m)\u001b[0m\u001b[0;34m,\u001b[0m \u001b[0mkey\u001b[0m\u001b[0;34m=\u001b[0m\u001b[0;32mlambda\u001b[0m \u001b[0mx\u001b[0m\u001b[0;34m:\u001b[0m \u001b[0mx\u001b[0m\u001b[0;34m.\u001b[0m\u001b[0mscore\u001b[0m\u001b[0;34m,\u001b[0m \u001b[0mreverse\u001b[0m\u001b[0;34m=\u001b[0m\u001b[0;32mTrue\u001b[0m\u001b[0;34m)\u001b[0m\u001b[0;34m[\u001b[0m\u001b[0;34m:\u001b[0m\u001b[0mtop_k\u001b[0m\u001b[0;34m]\u001b[0m\u001b[0;34m\u001b[0m\u001b[0;34m\u001b[0m\u001b[0m\n",
      "\u001b[0;32m~/miniconda3/envs/relevar-busca/lib/python3.7/site-packages/haystack/nodes/ranker/monot5_limit.py\u001b[0m in \u001b[0;36mrescore\u001b[0;34m(self, query, texts)\u001b[0m\n\u001b[1;32m    346\u001b[0m                                                 \u001b[0mlength\u001b[0m\u001b[0;34m=\u001b[0m\u001b[0;36m1\u001b[0m\u001b[0;34m,\u001b[0m\u001b[0;34m\u001b[0m\u001b[0;34m\u001b[0m\u001b[0m\n\u001b[1;32m    347\u001b[0m                                                 \u001b[0mattention_mask\u001b[0m\u001b[0;34m=\u001b[0m\u001b[0mattn_mask\u001b[0m\u001b[0;34m,\u001b[0m\u001b[0;34m\u001b[0m\u001b[0;34m\u001b[0m\u001b[0m\n\u001b[0;32m--> 348\u001b[0;31m                                                 return_last_logits=True)\n\u001b[0m\u001b[1;32m    349\u001b[0m \u001b[0;34m\u001b[0m\u001b[0m\n\u001b[1;32m    350\u001b[0m                 \u001b[0mbatch_scores\u001b[0m \u001b[0;34m=\u001b[0m \u001b[0mbatch_scores\u001b[0m\u001b[0;34m[\u001b[0m\u001b[0;34m:\u001b[0m\u001b[0;34m,\u001b[0m \u001b[0;34m[\u001b[0m\u001b[0mself\u001b[0m\u001b[0;34m.\u001b[0m\u001b[0mtoken_false_id\u001b[0m\u001b[0;34m,\u001b[0m \u001b[0mself\u001b[0m\u001b[0;34m.\u001b[0m\u001b[0mtoken_true_id\u001b[0m\u001b[0;34m]\u001b[0m\u001b[0;34m]\u001b[0m\u001b[0;34m\u001b[0m\u001b[0;34m\u001b[0m\u001b[0m\n",
      "\u001b[0;32m~/miniconda3/envs/relevar-busca/lib/python3.7/site-packages/torch/autograd/grad_mode.py\u001b[0m in \u001b[0;36mdecorate_context\u001b[0;34m(*args, **kwargs)\u001b[0m\n\u001b[1;32m     26\u001b[0m         \u001b[0;32mdef\u001b[0m \u001b[0mdecorate_context\u001b[0m\u001b[0;34m(\u001b[0m\u001b[0;34m*\u001b[0m\u001b[0margs\u001b[0m\u001b[0;34m,\u001b[0m \u001b[0;34m**\u001b[0m\u001b[0mkwargs\u001b[0m\u001b[0;34m)\u001b[0m\u001b[0;34m:\u001b[0m\u001b[0;34m\u001b[0m\u001b[0;34m\u001b[0m\u001b[0m\n\u001b[1;32m     27\u001b[0m             \u001b[0;32mwith\u001b[0m \u001b[0mself\u001b[0m\u001b[0;34m.\u001b[0m\u001b[0m__class__\u001b[0m\u001b[0;34m(\u001b[0m\u001b[0;34m)\u001b[0m\u001b[0;34m:\u001b[0m\u001b[0;34m\u001b[0m\u001b[0;34m\u001b[0m\u001b[0m\n\u001b[0;32m---> 28\u001b[0;31m                 \u001b[0;32mreturn\u001b[0m \u001b[0mfunc\u001b[0m\u001b[0;34m(\u001b[0m\u001b[0;34m*\u001b[0m\u001b[0margs\u001b[0m\u001b[0;34m,\u001b[0m \u001b[0;34m**\u001b[0m\u001b[0mkwargs\u001b[0m\u001b[0;34m)\u001b[0m\u001b[0;34m\u001b[0m\u001b[0;34m\u001b[0m\u001b[0m\n\u001b[0m\u001b[1;32m     29\u001b[0m         \u001b[0;32mreturn\u001b[0m \u001b[0mcast\u001b[0m\u001b[0;34m(\u001b[0m\u001b[0mF\u001b[0m\u001b[0;34m,\u001b[0m \u001b[0mdecorate_context\u001b[0m\u001b[0;34m)\u001b[0m\u001b[0;34m\u001b[0m\u001b[0;34m\u001b[0m\u001b[0m\n\u001b[1;32m     30\u001b[0m \u001b[0;34m\u001b[0m\u001b[0m\n",
      "\u001b[0;32m~/miniconda3/envs/relevar-busca/lib/python3.7/site-packages/haystack/nodes/ranker/monot5_limit.py\u001b[0m in \u001b[0;36mgreedy_decode\u001b[0;34m(model, input_ids, length, attention_mask, return_last_logits)\u001b[0m\n\u001b[1;32m    179\u001b[0m             \u001b[0mattention_mask\u001b[0m\u001b[0;34m=\u001b[0m\u001b[0mattention_mask\u001b[0m\u001b[0;34m,\u001b[0m\u001b[0;34m\u001b[0m\u001b[0;34m\u001b[0m\u001b[0m\n\u001b[1;32m    180\u001b[0m             use_cache=True)\n\u001b[0;32m--> 181\u001b[0;31m         \u001b[0moutputs\u001b[0m \u001b[0;34m=\u001b[0m \u001b[0mmodel\u001b[0m\u001b[0;34m(\u001b[0m\u001b[0;34m**\u001b[0m\u001b[0mmodel_inputs\u001b[0m\u001b[0;34m)\u001b[0m  \u001b[0;31m# (batch_size, cur_len, vocab_size)\u001b[0m\u001b[0;34m\u001b[0m\u001b[0;34m\u001b[0m\u001b[0m\n\u001b[0m\u001b[1;32m    182\u001b[0m         \u001b[0mnext_token_logits\u001b[0m \u001b[0;34m=\u001b[0m \u001b[0moutputs\u001b[0m\u001b[0;34m[\u001b[0m\u001b[0;36m0\u001b[0m\u001b[0;34m]\u001b[0m\u001b[0;34m[\u001b[0m\u001b[0;34m:\u001b[0m\u001b[0;34m,\u001b[0m \u001b[0;34m-\u001b[0m\u001b[0;36m1\u001b[0m\u001b[0;34m,\u001b[0m \u001b[0;34m:\u001b[0m\u001b[0;34m]\u001b[0m  \u001b[0;31m# (batch_size, vocab_size)\u001b[0m\u001b[0;34m\u001b[0m\u001b[0;34m\u001b[0m\u001b[0m\n\u001b[1;32m    183\u001b[0m         decode_ids = torch.cat([decode_ids,\n",
      "\u001b[0;32m~/miniconda3/envs/relevar-busca/lib/python3.7/site-packages/torch/nn/modules/module.py\u001b[0m in \u001b[0;36m_call_impl\u001b[0;34m(self, *input, **kwargs)\u001b[0m\n\u001b[1;32m   1100\u001b[0m         if not (self._backward_hooks or self._forward_hooks or self._forward_pre_hooks or _global_backward_hooks\n\u001b[1;32m   1101\u001b[0m                 or _global_forward_hooks or _global_forward_pre_hooks):\n\u001b[0;32m-> 1102\u001b[0;31m             \u001b[0;32mreturn\u001b[0m \u001b[0mforward_call\u001b[0m\u001b[0;34m(\u001b[0m\u001b[0;34m*\u001b[0m\u001b[0minput\u001b[0m\u001b[0;34m,\u001b[0m \u001b[0;34m**\u001b[0m\u001b[0mkwargs\u001b[0m\u001b[0;34m)\u001b[0m\u001b[0;34m\u001b[0m\u001b[0;34m\u001b[0m\u001b[0m\n\u001b[0m\u001b[1;32m   1103\u001b[0m         \u001b[0;31m# Do not call functions when jit is used\u001b[0m\u001b[0;34m\u001b[0m\u001b[0;34m\u001b[0m\u001b[0;34m\u001b[0m\u001b[0m\n\u001b[1;32m   1104\u001b[0m         \u001b[0mfull_backward_hooks\u001b[0m\u001b[0;34m,\u001b[0m \u001b[0mnon_full_backward_hooks\u001b[0m \u001b[0;34m=\u001b[0m \u001b[0;34m[\u001b[0m\u001b[0;34m]\u001b[0m\u001b[0;34m,\u001b[0m \u001b[0;34m[\u001b[0m\u001b[0;34m]\u001b[0m\u001b[0;34m\u001b[0m\u001b[0;34m\u001b[0m\u001b[0m\n",
      "\u001b[0;32m~/miniconda3/envs/relevar-busca/lib/python3.7/site-packages/transformers/models/t5/modeling_t5.py\u001b[0m in \u001b[0;36mforward\u001b[0;34m(self, input_ids, attention_mask, decoder_input_ids, decoder_attention_mask, head_mask, decoder_head_mask, cross_attn_head_mask, encoder_outputs, past_key_values, inputs_embeds, decoder_inputs_embeds, labels, use_cache, output_attentions, output_hidden_states, return_dict)\u001b[0m\n\u001b[1;32m   1658\u001b[0m             \u001b[0moutput_attentions\u001b[0m\u001b[0;34m=\u001b[0m\u001b[0moutput_attentions\u001b[0m\u001b[0;34m,\u001b[0m\u001b[0;34m\u001b[0m\u001b[0;34m\u001b[0m\u001b[0m\n\u001b[1;32m   1659\u001b[0m             \u001b[0moutput_hidden_states\u001b[0m\u001b[0;34m=\u001b[0m\u001b[0moutput_hidden_states\u001b[0m\u001b[0;34m,\u001b[0m\u001b[0;34m\u001b[0m\u001b[0;34m\u001b[0m\u001b[0m\n\u001b[0;32m-> 1660\u001b[0;31m             \u001b[0mreturn_dict\u001b[0m\u001b[0;34m=\u001b[0m\u001b[0mreturn_dict\u001b[0m\u001b[0;34m,\u001b[0m\u001b[0;34m\u001b[0m\u001b[0;34m\u001b[0m\u001b[0m\n\u001b[0m\u001b[1;32m   1661\u001b[0m         )\n\u001b[1;32m   1662\u001b[0m \u001b[0;34m\u001b[0m\u001b[0m\n",
      "\u001b[0;32m~/miniconda3/envs/relevar-busca/lib/python3.7/site-packages/torch/nn/modules/module.py\u001b[0m in \u001b[0;36m_call_impl\u001b[0;34m(self, *input, **kwargs)\u001b[0m\n\u001b[1;32m   1100\u001b[0m         if not (self._backward_hooks or self._forward_hooks or self._forward_pre_hooks or _global_backward_hooks\n\u001b[1;32m   1101\u001b[0m                 or _global_forward_hooks or _global_forward_pre_hooks):\n\u001b[0;32m-> 1102\u001b[0;31m             \u001b[0;32mreturn\u001b[0m \u001b[0mforward_call\u001b[0m\u001b[0;34m(\u001b[0m\u001b[0;34m*\u001b[0m\u001b[0minput\u001b[0m\u001b[0;34m,\u001b[0m \u001b[0;34m**\u001b[0m\u001b[0mkwargs\u001b[0m\u001b[0;34m)\u001b[0m\u001b[0;34m\u001b[0m\u001b[0;34m\u001b[0m\u001b[0m\n\u001b[0m\u001b[1;32m   1103\u001b[0m         \u001b[0;31m# Do not call functions when jit is used\u001b[0m\u001b[0;34m\u001b[0m\u001b[0;34m\u001b[0m\u001b[0;34m\u001b[0m\u001b[0m\n\u001b[1;32m   1104\u001b[0m         \u001b[0mfull_backward_hooks\u001b[0m\u001b[0;34m,\u001b[0m \u001b[0mnon_full_backward_hooks\u001b[0m \u001b[0;34m=\u001b[0m \u001b[0;34m[\u001b[0m\u001b[0;34m]\u001b[0m\u001b[0;34m,\u001b[0m \u001b[0;34m[\u001b[0m\u001b[0;34m]\u001b[0m\u001b[0;34m\u001b[0m\u001b[0;34m\u001b[0m\u001b[0m\n",
      "\u001b[0;32m~/miniconda3/envs/relevar-busca/lib/python3.7/site-packages/transformers/models/t5/modeling_t5.py\u001b[0m in \u001b[0;36mforward\u001b[0;34m(self, input_ids, attention_mask, encoder_hidden_states, encoder_attention_mask, inputs_embeds, head_mask, cross_attn_head_mask, past_key_values, use_cache, output_attentions, output_hidden_states, return_dict)\u001b[0m\n\u001b[1;32m   1049\u001b[0m                     \u001b[0mpast_key_value\u001b[0m\u001b[0;34m=\u001b[0m\u001b[0mpast_key_value\u001b[0m\u001b[0;34m,\u001b[0m\u001b[0;34m\u001b[0m\u001b[0;34m\u001b[0m\u001b[0m\n\u001b[1;32m   1050\u001b[0m                     \u001b[0muse_cache\u001b[0m\u001b[0;34m=\u001b[0m\u001b[0muse_cache\u001b[0m\u001b[0;34m,\u001b[0m\u001b[0;34m\u001b[0m\u001b[0;34m\u001b[0m\u001b[0m\n\u001b[0;32m-> 1051\u001b[0;31m                     \u001b[0moutput_attentions\u001b[0m\u001b[0;34m=\u001b[0m\u001b[0moutput_attentions\u001b[0m\u001b[0;34m,\u001b[0m\u001b[0;34m\u001b[0m\u001b[0;34m\u001b[0m\u001b[0m\n\u001b[0m\u001b[1;32m   1052\u001b[0m                 )\n\u001b[1;32m   1053\u001b[0m \u001b[0;34m\u001b[0m\u001b[0m\n",
      "\u001b[0;32m~/miniconda3/envs/relevar-busca/lib/python3.7/site-packages/torch/nn/modules/module.py\u001b[0m in \u001b[0;36m_call_impl\u001b[0;34m(self, *input, **kwargs)\u001b[0m\n\u001b[1;32m   1100\u001b[0m         if not (self._backward_hooks or self._forward_hooks or self._forward_pre_hooks or _global_backward_hooks\n\u001b[1;32m   1101\u001b[0m                 or _global_forward_hooks or _global_forward_pre_hooks):\n\u001b[0;32m-> 1102\u001b[0;31m             \u001b[0;32mreturn\u001b[0m \u001b[0mforward_call\u001b[0m\u001b[0;34m(\u001b[0m\u001b[0;34m*\u001b[0m\u001b[0minput\u001b[0m\u001b[0;34m,\u001b[0m \u001b[0;34m**\u001b[0m\u001b[0mkwargs\u001b[0m\u001b[0;34m)\u001b[0m\u001b[0;34m\u001b[0m\u001b[0;34m\u001b[0m\u001b[0m\n\u001b[0m\u001b[1;32m   1103\u001b[0m         \u001b[0;31m# Do not call functions when jit is used\u001b[0m\u001b[0;34m\u001b[0m\u001b[0;34m\u001b[0m\u001b[0;34m\u001b[0m\u001b[0m\n\u001b[1;32m   1104\u001b[0m         \u001b[0mfull_backward_hooks\u001b[0m\u001b[0;34m,\u001b[0m \u001b[0mnon_full_backward_hooks\u001b[0m \u001b[0;34m=\u001b[0m \u001b[0;34m[\u001b[0m\u001b[0;34m]\u001b[0m\u001b[0;34m,\u001b[0m \u001b[0;34m[\u001b[0m\u001b[0;34m]\u001b[0m\u001b[0;34m\u001b[0m\u001b[0;34m\u001b[0m\u001b[0m\n",
      "\u001b[0;32m~/miniconda3/envs/relevar-busca/lib/python3.7/site-packages/transformers/models/t5/modeling_t5.py\u001b[0m in \u001b[0;36mforward\u001b[0;34m(self, hidden_states, attention_mask, position_bias, encoder_hidden_states, encoder_attention_mask, encoder_decoder_position_bias, layer_head_mask, cross_attn_layer_head_mask, past_key_value, use_cache, output_attentions, return_dict)\u001b[0m\n\u001b[1;32m    678\u001b[0m             \u001b[0mpast_key_value\u001b[0m\u001b[0;34m=\u001b[0m\u001b[0mself_attn_past_key_value\u001b[0m\u001b[0;34m,\u001b[0m\u001b[0;34m\u001b[0m\u001b[0;34m\u001b[0m\u001b[0m\n\u001b[1;32m    679\u001b[0m             \u001b[0muse_cache\u001b[0m\u001b[0;34m=\u001b[0m\u001b[0muse_cache\u001b[0m\u001b[0;34m,\u001b[0m\u001b[0;34m\u001b[0m\u001b[0;34m\u001b[0m\u001b[0m\n\u001b[0;32m--> 680\u001b[0;31m             \u001b[0moutput_attentions\u001b[0m\u001b[0;34m=\u001b[0m\u001b[0moutput_attentions\u001b[0m\u001b[0;34m,\u001b[0m\u001b[0;34m\u001b[0m\u001b[0;34m\u001b[0m\u001b[0m\n\u001b[0m\u001b[1;32m    681\u001b[0m         )\n\u001b[1;32m    682\u001b[0m         \u001b[0mhidden_states\u001b[0m\u001b[0;34m,\u001b[0m \u001b[0mpresent_key_value_state\u001b[0m \u001b[0;34m=\u001b[0m \u001b[0mself_attention_outputs\u001b[0m\u001b[0;34m[\u001b[0m\u001b[0;34m:\u001b[0m\u001b[0;36m2\u001b[0m\u001b[0;34m]\u001b[0m\u001b[0;34m\u001b[0m\u001b[0;34m\u001b[0m\u001b[0m\n",
      "\u001b[0;32m~/miniconda3/envs/relevar-busca/lib/python3.7/site-packages/torch/nn/modules/module.py\u001b[0m in \u001b[0;36m_call_impl\u001b[0;34m(self, *input, **kwargs)\u001b[0m\n\u001b[1;32m   1100\u001b[0m         if not (self._backward_hooks or self._forward_hooks or self._forward_pre_hooks or _global_backward_hooks\n\u001b[1;32m   1101\u001b[0m                 or _global_forward_hooks or _global_forward_pre_hooks):\n\u001b[0;32m-> 1102\u001b[0;31m             \u001b[0;32mreturn\u001b[0m \u001b[0mforward_call\u001b[0m\u001b[0;34m(\u001b[0m\u001b[0;34m*\u001b[0m\u001b[0minput\u001b[0m\u001b[0;34m,\u001b[0m \u001b[0;34m**\u001b[0m\u001b[0mkwargs\u001b[0m\u001b[0;34m)\u001b[0m\u001b[0;34m\u001b[0m\u001b[0;34m\u001b[0m\u001b[0m\n\u001b[0m\u001b[1;32m   1103\u001b[0m         \u001b[0;31m# Do not call functions when jit is used\u001b[0m\u001b[0;34m\u001b[0m\u001b[0;34m\u001b[0m\u001b[0;34m\u001b[0m\u001b[0m\n\u001b[1;32m   1104\u001b[0m         \u001b[0mfull_backward_hooks\u001b[0m\u001b[0;34m,\u001b[0m \u001b[0mnon_full_backward_hooks\u001b[0m \u001b[0;34m=\u001b[0m \u001b[0;34m[\u001b[0m\u001b[0;34m]\u001b[0m\u001b[0;34m,\u001b[0m \u001b[0;34m[\u001b[0m\u001b[0;34m]\u001b[0m\u001b[0;34m\u001b[0m\u001b[0;34m\u001b[0m\u001b[0m\n",
      "\u001b[0;32m~/miniconda3/envs/relevar-busca/lib/python3.7/site-packages/transformers/models/t5/modeling_t5.py\u001b[0m in \u001b[0;36mforward\u001b[0;34m(self, hidden_states, attention_mask, position_bias, layer_head_mask, past_key_value, use_cache, output_attentions)\u001b[0m\n\u001b[1;32m    584\u001b[0m             \u001b[0mpast_key_value\u001b[0m\u001b[0;34m=\u001b[0m\u001b[0mpast_key_value\u001b[0m\u001b[0;34m,\u001b[0m\u001b[0;34m\u001b[0m\u001b[0;34m\u001b[0m\u001b[0m\n\u001b[1;32m    585\u001b[0m             \u001b[0muse_cache\u001b[0m\u001b[0;34m=\u001b[0m\u001b[0muse_cache\u001b[0m\u001b[0;34m,\u001b[0m\u001b[0;34m\u001b[0m\u001b[0;34m\u001b[0m\u001b[0m\n\u001b[0;32m--> 586\u001b[0;31m             \u001b[0moutput_attentions\u001b[0m\u001b[0;34m=\u001b[0m\u001b[0moutput_attentions\u001b[0m\u001b[0;34m,\u001b[0m\u001b[0;34m\u001b[0m\u001b[0;34m\u001b[0m\u001b[0m\n\u001b[0m\u001b[1;32m    587\u001b[0m         )\n\u001b[1;32m    588\u001b[0m         \u001b[0mhidden_states\u001b[0m \u001b[0;34m=\u001b[0m \u001b[0mhidden_states\u001b[0m \u001b[0;34m+\u001b[0m \u001b[0mself\u001b[0m\u001b[0;34m.\u001b[0m\u001b[0mdropout\u001b[0m\u001b[0;34m(\u001b[0m\u001b[0mattention_output\u001b[0m\u001b[0;34m[\u001b[0m\u001b[0;36m0\u001b[0m\u001b[0;34m]\u001b[0m\u001b[0;34m)\u001b[0m\u001b[0;34m\u001b[0m\u001b[0;34m\u001b[0m\u001b[0m\n",
      "\u001b[0;32m~/miniconda3/envs/relevar-busca/lib/python3.7/site-packages/torch/nn/modules/module.py\u001b[0m in \u001b[0;36m_call_impl\u001b[0;34m(self, *input, **kwargs)\u001b[0m\n\u001b[1;32m   1100\u001b[0m         if not (self._backward_hooks or self._forward_hooks or self._forward_pre_hooks or _global_backward_hooks\n\u001b[1;32m   1101\u001b[0m                 or _global_forward_hooks or _global_forward_pre_hooks):\n\u001b[0;32m-> 1102\u001b[0;31m             \u001b[0;32mreturn\u001b[0m \u001b[0mforward_call\u001b[0m\u001b[0;34m(\u001b[0m\u001b[0;34m*\u001b[0m\u001b[0minput\u001b[0m\u001b[0;34m,\u001b[0m \u001b[0;34m**\u001b[0m\u001b[0mkwargs\u001b[0m\u001b[0;34m)\u001b[0m\u001b[0;34m\u001b[0m\u001b[0;34m\u001b[0m\u001b[0m\n\u001b[0m\u001b[1;32m   1103\u001b[0m         \u001b[0;31m# Do not call functions when jit is used\u001b[0m\u001b[0;34m\u001b[0m\u001b[0;34m\u001b[0m\u001b[0;34m\u001b[0m\u001b[0m\n\u001b[1;32m   1104\u001b[0m         \u001b[0mfull_backward_hooks\u001b[0m\u001b[0;34m,\u001b[0m \u001b[0mnon_full_backward_hooks\u001b[0m \u001b[0;34m=\u001b[0m \u001b[0;34m[\u001b[0m\u001b[0;34m]\u001b[0m\u001b[0;34m,\u001b[0m \u001b[0;34m[\u001b[0m\u001b[0;34m]\u001b[0m\u001b[0;34m\u001b[0m\u001b[0;34m\u001b[0m\u001b[0m\n",
      "\u001b[0;32m~/miniconda3/envs/relevar-busca/lib/python3.7/site-packages/transformers/models/t5/modeling_t5.py\u001b[0m in \u001b[0;36mforward\u001b[0;34m(self, hidden_states, mask, key_value_states, position_bias, past_key_value, layer_head_mask, query_length, use_cache, output_attentions)\u001b[0m\n\u001b[1;32m    503\u001b[0m         )\n\u001b[1;32m    504\u001b[0m         value_states = project(\n\u001b[0;32m--> 505\u001b[0;31m             \u001b[0mhidden_states\u001b[0m\u001b[0;34m,\u001b[0m \u001b[0mself\u001b[0m\u001b[0;34m.\u001b[0m\u001b[0mv\u001b[0m\u001b[0;34m,\u001b[0m \u001b[0mkey_value_states\u001b[0m\u001b[0;34m,\u001b[0m \u001b[0mpast_key_value\u001b[0m\u001b[0;34m[\u001b[0m\u001b[0;36m1\u001b[0m\u001b[0;34m]\u001b[0m \u001b[0;32mif\u001b[0m \u001b[0mpast_key_value\u001b[0m \u001b[0;32mis\u001b[0m \u001b[0;32mnot\u001b[0m \u001b[0;32mNone\u001b[0m \u001b[0;32melse\u001b[0m \u001b[0;32mNone\u001b[0m\u001b[0;34m\u001b[0m\u001b[0;34m\u001b[0m\u001b[0m\n\u001b[0m\u001b[1;32m    506\u001b[0m         )\n\u001b[1;32m    507\u001b[0m \u001b[0;34m\u001b[0m\u001b[0m\n",
      "\u001b[0;32m~/miniconda3/envs/relevar-busca/lib/python3.7/site-packages/transformers/models/t5/modeling_t5.py\u001b[0m in \u001b[0;36mproject\u001b[0;34m(hidden_states, proj_layer, key_value_states, past_key_value)\u001b[0m\n\u001b[1;32m    479\u001b[0m                 \u001b[0;31m# self-attn\u001b[0m\u001b[0;34m\u001b[0m\u001b[0;34m\u001b[0m\u001b[0;34m\u001b[0m\u001b[0m\n\u001b[1;32m    480\u001b[0m                 \u001b[0;31m# (batch_size, n_heads, seq_length, dim_per_head)\u001b[0m\u001b[0;34m\u001b[0m\u001b[0;34m\u001b[0m\u001b[0;34m\u001b[0m\u001b[0m\n\u001b[0;32m--> 481\u001b[0;31m                 \u001b[0mhidden_states\u001b[0m \u001b[0;34m=\u001b[0m \u001b[0mshape\u001b[0m\u001b[0;34m(\u001b[0m\u001b[0mproj_layer\u001b[0m\u001b[0;34m(\u001b[0m\u001b[0mhidden_states\u001b[0m\u001b[0;34m)\u001b[0m\u001b[0;34m)\u001b[0m\u001b[0;34m\u001b[0m\u001b[0;34m\u001b[0m\u001b[0m\n\u001b[0m\u001b[1;32m    482\u001b[0m             \u001b[0;32melif\u001b[0m \u001b[0mpast_key_value\u001b[0m \u001b[0;32mis\u001b[0m \u001b[0;32mNone\u001b[0m\u001b[0;34m:\u001b[0m\u001b[0;34m\u001b[0m\u001b[0;34m\u001b[0m\u001b[0m\n\u001b[1;32m    483\u001b[0m                 \u001b[0;31m# cross-attn\u001b[0m\u001b[0;34m\u001b[0m\u001b[0;34m\u001b[0m\u001b[0;34m\u001b[0m\u001b[0m\n",
      "\u001b[0;32m~/miniconda3/envs/relevar-busca/lib/python3.7/site-packages/torch/nn/modules/module.py\u001b[0m in \u001b[0;36m_call_impl\u001b[0;34m(self, *input, **kwargs)\u001b[0m\n\u001b[1;32m   1100\u001b[0m         if not (self._backward_hooks or self._forward_hooks or self._forward_pre_hooks or _global_backward_hooks\n\u001b[1;32m   1101\u001b[0m                 or _global_forward_hooks or _global_forward_pre_hooks):\n\u001b[0;32m-> 1102\u001b[0;31m             \u001b[0;32mreturn\u001b[0m \u001b[0mforward_call\u001b[0m\u001b[0;34m(\u001b[0m\u001b[0;34m*\u001b[0m\u001b[0minput\u001b[0m\u001b[0;34m,\u001b[0m \u001b[0;34m**\u001b[0m\u001b[0mkwargs\u001b[0m\u001b[0;34m)\u001b[0m\u001b[0;34m\u001b[0m\u001b[0;34m\u001b[0m\u001b[0m\n\u001b[0m\u001b[1;32m   1103\u001b[0m         \u001b[0;31m# Do not call functions when jit is used\u001b[0m\u001b[0;34m\u001b[0m\u001b[0;34m\u001b[0m\u001b[0;34m\u001b[0m\u001b[0m\n\u001b[1;32m   1104\u001b[0m         \u001b[0mfull_backward_hooks\u001b[0m\u001b[0;34m,\u001b[0m \u001b[0mnon_full_backward_hooks\u001b[0m \u001b[0;34m=\u001b[0m \u001b[0;34m[\u001b[0m\u001b[0;34m]\u001b[0m\u001b[0;34m,\u001b[0m \u001b[0;34m[\u001b[0m\u001b[0;34m]\u001b[0m\u001b[0;34m\u001b[0m\u001b[0;34m\u001b[0m\u001b[0m\n",
      "\u001b[0;32m~/miniconda3/envs/relevar-busca/lib/python3.7/site-packages/torch/nn/modules/linear.py\u001b[0m in \u001b[0;36mforward\u001b[0;34m(self, input)\u001b[0m\n\u001b[1;32m    101\u001b[0m \u001b[0;34m\u001b[0m\u001b[0m\n\u001b[1;32m    102\u001b[0m     \u001b[0;32mdef\u001b[0m \u001b[0mforward\u001b[0m\u001b[0;34m(\u001b[0m\u001b[0mself\u001b[0m\u001b[0;34m,\u001b[0m \u001b[0minput\u001b[0m\u001b[0;34m:\u001b[0m \u001b[0mTensor\u001b[0m\u001b[0;34m)\u001b[0m \u001b[0;34m->\u001b[0m \u001b[0mTensor\u001b[0m\u001b[0;34m:\u001b[0m\u001b[0;34m\u001b[0m\u001b[0;34m\u001b[0m\u001b[0m\n\u001b[0;32m--> 103\u001b[0;31m         \u001b[0;32mreturn\u001b[0m \u001b[0mF\u001b[0m\u001b[0;34m.\u001b[0m\u001b[0mlinear\u001b[0m\u001b[0;34m(\u001b[0m\u001b[0minput\u001b[0m\u001b[0;34m,\u001b[0m \u001b[0mself\u001b[0m\u001b[0;34m.\u001b[0m\u001b[0mweight\u001b[0m\u001b[0;34m,\u001b[0m \u001b[0mself\u001b[0m\u001b[0;34m.\u001b[0m\u001b[0mbias\u001b[0m\u001b[0;34m)\u001b[0m\u001b[0;34m\u001b[0m\u001b[0;34m\u001b[0m\u001b[0m\n\u001b[0m\u001b[1;32m    104\u001b[0m \u001b[0;34m\u001b[0m\u001b[0m\n\u001b[1;32m    105\u001b[0m     \u001b[0;32mdef\u001b[0m \u001b[0mextra_repr\u001b[0m\u001b[0;34m(\u001b[0m\u001b[0mself\u001b[0m\u001b[0;34m)\u001b[0m \u001b[0;34m->\u001b[0m \u001b[0mstr\u001b[0m\u001b[0;34m:\u001b[0m\u001b[0;34m\u001b[0m\u001b[0;34m\u001b[0m\u001b[0m\n",
      "\u001b[0;32m~/miniconda3/envs/relevar-busca/lib/python3.7/site-packages/torch/nn/functional.py\u001b[0m in \u001b[0;36mlinear\u001b[0;34m(input, weight, bias)\u001b[0m\n\u001b[1;32m   1846\u001b[0m     \u001b[0;32mif\u001b[0m \u001b[0mhas_torch_function_variadic\u001b[0m\u001b[0;34m(\u001b[0m\u001b[0minput\u001b[0m\u001b[0;34m,\u001b[0m \u001b[0mweight\u001b[0m\u001b[0;34m,\u001b[0m \u001b[0mbias\u001b[0m\u001b[0;34m)\u001b[0m\u001b[0;34m:\u001b[0m\u001b[0;34m\u001b[0m\u001b[0;34m\u001b[0m\u001b[0m\n\u001b[1;32m   1847\u001b[0m         \u001b[0;32mreturn\u001b[0m \u001b[0mhandle_torch_function\u001b[0m\u001b[0;34m(\u001b[0m\u001b[0mlinear\u001b[0m\u001b[0;34m,\u001b[0m \u001b[0;34m(\u001b[0m\u001b[0minput\u001b[0m\u001b[0;34m,\u001b[0m \u001b[0mweight\u001b[0m\u001b[0;34m,\u001b[0m \u001b[0mbias\u001b[0m\u001b[0;34m)\u001b[0m\u001b[0;34m,\u001b[0m \u001b[0minput\u001b[0m\u001b[0;34m,\u001b[0m \u001b[0mweight\u001b[0m\u001b[0;34m,\u001b[0m \u001b[0mbias\u001b[0m\u001b[0;34m=\u001b[0m\u001b[0mbias\u001b[0m\u001b[0;34m)\u001b[0m\u001b[0;34m\u001b[0m\u001b[0;34m\u001b[0m\u001b[0m\n\u001b[0;32m-> 1848\u001b[0;31m     \u001b[0;32mreturn\u001b[0m \u001b[0mtorch\u001b[0m\u001b[0;34m.\u001b[0m\u001b[0m_C\u001b[0m\u001b[0;34m.\u001b[0m\u001b[0m_nn\u001b[0m\u001b[0;34m.\u001b[0m\u001b[0mlinear\u001b[0m\u001b[0;34m(\u001b[0m\u001b[0minput\u001b[0m\u001b[0;34m,\u001b[0m \u001b[0mweight\u001b[0m\u001b[0;34m,\u001b[0m \u001b[0mbias\u001b[0m\u001b[0;34m)\u001b[0m\u001b[0;34m\u001b[0m\u001b[0;34m\u001b[0m\u001b[0m\n\u001b[0m\u001b[1;32m   1849\u001b[0m \u001b[0;34m\u001b[0m\u001b[0m\n\u001b[1;32m   1850\u001b[0m \u001b[0;34m\u001b[0m\u001b[0m\n",
      "\u001b[0;31mKeyboardInterrupt\u001b[0m: "
     ]
    }
   ],
   "source": [
    "%%time\n",
    "# colocar pequeno só para testes, depois voltar para 9999999 (número maior do que o número de termos a pesquisar)\n",
    "limit_query = 100 # 9999999\n",
    "for cnt, experiment in enumerate(list_experiment):\n",
    "    if not experiment['DONE']:\n",
    "        list_result_experiment = [] # por experiment\n",
    "        # no caso de normas segecex, bastaria 224 para qtd5 e 891 para qtd1\n",
    "        print(f\"==={cnt}/{len(list_experiment)}===>  {time.strftime('%Y-%b-%d %H:%M:%S')} experiment: {experiment}\")\n",
    "        result_run = util_experiment.experiment_run(parm_df=df_search_data, \n",
    "                                                parm_experiment=experiment,\n",
    "                                                parm_ndcg_position=12,\n",
    "                                                parm_limit_query=limit_query,\n",
    "                                                parm_print=True)\n",
    "        list_result_experiment.append(result_run)\n",
    "        # print(f\"qtd_encontrado sim:{result_run['qtd_encontrado']}, não:{result_run['qtd_nao_encontrado']} ({result_run['percent_nao_encontrado']}%)\")\n",
    "        experiment['DONE'] = True\n",
    "        util_experiment.add_experiment_result(parm_list_result=list_result_experiment, parm_dataset='juris_tcu_index')\n",
    "\n"
   ]
  },
  {
   "cell_type": "code",
   "execution_count": null,
   "metadata": {},
   "outputs": [],
   "source": []
  }
 ],
 "metadata": {
  "kernelspec": {
   "display_name": "relevar-busca",
   "language": "python",
   "name": "python3"
  },
  "language_info": {
   "codemirror_mode": {
    "name": "ipython",
    "version": 3
   },
   "file_extension": ".py",
   "mimetype": "text/x-python",
   "name": "python",
   "nbconvert_exporter": "python",
   "pygments_lexer": "ipython3",
   "version": "3.7.13"
  },
  "orig_nbformat": 4,
  "vscode": {
   "interpreter": {
    "hash": "45978bf3509deeb93161d1472b16f82a40245d44c2beae6c63ad8f9bb3f69171"
   }
  }
 },
 "nbformat": 4,
 "nbformat_minor": 2
}
