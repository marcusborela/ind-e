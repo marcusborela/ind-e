{
 "cells": [
  {
   "attachments": {},
   "cell_type": "markdown",
   "id": "998a4011",
   "metadata": {},
   "source": [
    "# Imports and preparation"
   ]
  },
  {
   "cell_type": "code",
   "execution_count": 1,
   "metadata": {},
   "outputs": [],
   "source": [
    "import os"
   ]
  },
  {
   "cell_type": "code",
   "execution_count": 2,
   "metadata": {},
   "outputs": [],
   "source": [
    "import numpy as np"
   ]
  },
  {
   "cell_type": "code",
   "execution_count": 3,
   "id": "37d4165c",
   "metadata": {},
   "outputs": [],
   "source": [
    "import pandas as pd"
   ]
  },
  {
   "cell_type": "code",
   "execution_count": 4,
   "metadata": {},
   "outputs": [],
   "source": [
    "from tqdm import tqdm"
   ]
  },
  {
   "cell_type": "code",
   "execution_count": 5,
   "metadata": {},
   "outputs": [],
   "source": [
    "import time, gc"
   ]
  },
  {
   "cell_type": "code",
   "execution_count": 6,
   "metadata": {},
   "outputs": [],
   "source": [
    "import importlib"
   ]
  },
  {
   "cell_type": "code",
   "execution_count": 7,
   "metadata": {},
   "outputs": [],
   "source": [
    "from itertools import product\n"
   ]
  },
  {
   "cell_type": "code",
   "execution_count": 8,
   "metadata": {},
   "outputs": [
    {
     "name": "stderr",
     "output_type": "stream",
     "text": [
      "OpenAI tiktoken module is not available for Python < 3.8,Linux ARM64 and AARCH64. Falling back to GPT2TokenizerFast.\n",
      "WARNING:haystack.nodes.answer_generator.openai:OpenAI tiktoken module is not available for Python < 3.8,Linux ARM64 and AARCH64. Falling back to GPT2TokenizerFast.\n"
     ]
    }
   ],
   "source": [
    "from util import util_elastic"
   ]
  },
  {
   "cell_type": "code",
   "execution_count": 9,
   "metadata": {},
   "outputs": [],
   "source": [
    "from util import util_pipeline_v2 as util_pipeline"
   ]
  },
  {
   "cell_type": "code",
   "execution_count": 10,
   "metadata": {},
   "outputs": [],
   "source": [
    "from util import util_experiment_juris_tcu_index  as util_experiment"
   ]
  },
  {
   "cell_type": "code",
   "execution_count": 11,
   "id": "f911fcf2",
   "metadata": {},
   "outputs": [],
   "source": [
    "# Para ter repetibilidade nos resultados\n",
    "random_state = 1\n",
    "\n",
    "# Tratar valores infinitos (+ e -) como np.NaN\n",
    "pd.options.mode.use_inf_as_na = True\n",
    "\n",
    "# IMPORTANTE para tornar figuras interativas\n",
    "# %matplotlib notebook\n",
    "\n",
    "# Tamanho padrão das figuras\n",
    "figsize=(10,6)\n",
    "\n",
    "pd.set_option('display.max_row', 1000)\n",
    "\n",
    "pd.set_option('display.max_columns', 50)\n",
    "\n",
    "pd.set_option('display.column_space', 40)\n",
    "pd.set_option('display.max_colwidth', 100)\n",
    "pd.set_option('display.width', 200)\n"
   ]
  },
  {
   "cell_type": "code",
   "execution_count": 12,
   "id": "6e05b9a6",
   "metadata": {},
   "outputs": [],
   "source": [
    "PATH_QUERY = '../data/juris_tcu_index/query.csv'\n",
    "PATH_QREL =  '../data/juris_tcu_index/qrel.csv'"
   ]
  },
  {
   "attachments": {},
   "cell_type": "markdown",
   "metadata": {},
   "source": [
    "# Data load"
   ]
  },
  {
   "attachments": {},
   "cell_type": "markdown",
   "metadata": {},
   "source": [
    "## Query data load"
   ]
  },
  {
   "cell_type": "code",
   "execution_count": 13,
   "id": "1cf03f22",
   "metadata": {},
   "outputs": [],
   "source": [
    "df_query = pd.read_csv(PATH_QUERY)"
   ]
  },
  {
   "cell_type": "code",
   "execution_count": 14,
   "metadata": {},
   "outputs": [
    {
     "data": {
      "text/plain": [
       "(16045, 11)"
      ]
     },
     "execution_count": 14,
     "metadata": {},
     "output_type": "execute_result"
    }
   ],
   "source": [
    "df_query.shape"
   ]
  },
  {
   "cell_type": "code",
   "execution_count": 15,
   "metadata": {},
   "outputs": [
    {
     "data": {
      "text/html": [
       "<div>\n",
       "<style scoped>\n",
       "    .dataframe tbody tr th:only-of-type {\n",
       "        vertical-align: middle;\n",
       "    }\n",
       "\n",
       "    .dataframe tbody tr th {\n",
       "        vertical-align: top;\n",
       "    }\n",
       "\n",
       "    .dataframe thead th {\n",
       "        text-align: right;\n",
       "    }\n",
       "</style>\n",
       "<table border=\"1\" class=\"dataframe\">\n",
       "  <thead>\n",
       "    <tr style=\"text-align: right;\">\n",
       "      <th></th>\n",
       "      <th>ID</th>\n",
       "      <th>TEXT</th>\n",
       "      <th>REFERENCE_LIST</th>\n",
       "      <th>PARADIGMATIC</th>\n",
       "      <th>AREA_NAME</th>\n",
       "      <th>AREA_ID_DESCRIPTOR</th>\n",
       "      <th>NORMATIVE_PROCESS_TYPE</th>\n",
       "      <th>NORMATIVE_IDENTIFICATION</th>\n",
       "      <th>NORMATIVE_DATE</th>\n",
       "      <th>NORMATIVE_AUTHOR_TYPE</th>\n",
       "      <th>NORMATIVE_AUTHOR_NAME</th>\n",
       "    </tr>\n",
       "  </thead>\n",
       "  <tbody>\n",
       "    <tr>\n",
       "      <th>5618</th>\n",
       "      <td>2845</td>\n",
       "      <td>Em regra, o pregão é a modalidade de licitação adequada para a concessão remunerada de uso de be...</td>\n",
       "      <td>NaN</td>\n",
       "      <td>NaN</td>\n",
       "      <td>Licitação</td>\n",
       "      <td>932</td>\n",
       "      <td>REPRESENTAÇÃO</td>\n",
       "      <td>Acórdão 478/2016 - Plenário</td>\n",
       "      <td>2016-03-02</td>\n",
       "      <td>RELATOR</td>\n",
       "      <td>MARCOS BEMQUERER</td>\n",
       "    </tr>\n",
       "  </tbody>\n",
       "</table>\n",
       "</div>"
      ],
      "text/plain": [
       "        ID                                                                                                 TEXT REFERENCE_LIST PARADIGMATIC  AREA_NAME  AREA_ID_DESCRIPTOR NORMATIVE_PROCESS_TYPE  \\\n",
       "5618  2845  Em regra, o pregão é a modalidade de licitação adequada para a concessão remunerada de uso de be...            NaN          NaN  Licitação                 932          REPRESENTAÇÃO   \n",
       "\n",
       "         NORMATIVE_IDENTIFICATION NORMATIVE_DATE NORMATIVE_AUTHOR_TYPE NORMATIVE_AUTHOR_NAME  \n",
       "5618  Acórdão 478/2016 - Plenário     2016-03-02               RELATOR      MARCOS BEMQUERER  "
      ]
     },
     "execution_count": 15,
     "metadata": {},
     "output_type": "execute_result"
    }
   ],
   "source": [
    "df_query[df_query['ID']==2845]"
   ]
  },
  {
   "cell_type": "code",
   "execution_count": 16,
   "id": "a75dd812",
   "metadata": {},
   "outputs": [
    {
     "data": {
      "text/html": [
       "<div>\n",
       "<style scoped>\n",
       "    .dataframe tbody tr th:only-of-type {\n",
       "        vertical-align: middle;\n",
       "    }\n",
       "\n",
       "    .dataframe tbody tr th {\n",
       "        vertical-align: top;\n",
       "    }\n",
       "\n",
       "    .dataframe thead th {\n",
       "        text-align: right;\n",
       "    }\n",
       "</style>\n",
       "<table border=\"1\" class=\"dataframe\">\n",
       "  <thead>\n",
       "    <tr style=\"text-align: right;\">\n",
       "      <th></th>\n",
       "      <th>ID</th>\n",
       "      <th>TEXT</th>\n",
       "      <th>REFERENCE_LIST</th>\n",
       "      <th>PARADIGMATIC</th>\n",
       "      <th>AREA_NAME</th>\n",
       "      <th>AREA_ID_DESCRIPTOR</th>\n",
       "      <th>NORMATIVE_PROCESS_TYPE</th>\n",
       "      <th>NORMATIVE_IDENTIFICATION</th>\n",
       "      <th>NORMATIVE_DATE</th>\n",
       "      <th>NORMATIVE_AUTHOR_TYPE</th>\n",
       "      <th>NORMATIVE_AUTHOR_NAME</th>\n",
       "    </tr>\n",
       "  </thead>\n",
       "  <tbody>\n",
       "    <tr>\n",
       "      <th>0</th>\n",
       "      <td>13568</td>\n",
       "      <td>É ilegal a contagem de tempo ficto de serviço prestado sob a égide da Lei 3.313/1957, proporcion...</td>\n",
       "      <td>Lei Complementar 51/1985 || Lei Ordinária 3313/1957</td>\n",
       "      <td>NaN</td>\n",
       "      <td>Pessoal</td>\n",
       "      <td>1131</td>\n",
       "      <td>APOSENTADORIA</td>\n",
       "      <td>Acórdão 168/2014 - Segunda Câmara</td>\n",
       "      <td>2014-01-28</td>\n",
       "      <td>RELATOR</td>\n",
       "      <td>JOSÉ JORGE</td>\n",
       "    </tr>\n",
       "    <tr>\n",
       "      <th>1</th>\n",
       "      <td>11614</td>\n",
       "      <td>SÚMULA TCU 283: Para fim de habilitação, a Administração Pública não deve exigir dos licitantes ...</td>\n",
       "      <td>NaN</td>\n",
       "      <td>SUMULA</td>\n",
       "      <td>Licitação</td>\n",
       "      <td>932</td>\n",
       "      <td>ADMINISTRATIVO</td>\n",
       "      <td>Acórdão 1613/2013 - Plenário</td>\n",
       "      <td>2013-06-26</td>\n",
       "      <td>RELATOR</td>\n",
       "      <td>JOSÉ JORGE</td>\n",
       "    </tr>\n",
       "    <tr>\n",
       "      <th>2</th>\n",
       "      <td>21087</td>\n",
       "      <td>A contratação de serviços por preços superiores às referências legais (Sinapi e Sicro) deve ser,...</td>\n",
       "      <td>NaN</td>\n",
       "      <td>NaN</td>\n",
       "      <td>Licitação</td>\n",
       "      <td>932</td>\n",
       "      <td>PRESTAÇÃO DE CONTAS</td>\n",
       "      <td>Acórdão 3936/2013 - Segunda Câmara</td>\n",
       "      <td>2013-07-09</td>\n",
       "      <td>RELATOR</td>\n",
       "      <td>ANA ARRAES</td>\n",
       "    </tr>\n",
       "    <tr>\n",
       "      <th>3</th>\n",
       "      <td>35016</td>\n",
       "      <td>Não se aplica, excepcionalmente, multa aos gestores por grave infração à norma legal se a irregu...</td>\n",
       "      <td>NaN</td>\n",
       "      <td>NaN</td>\n",
       "      <td>Responsabilidade</td>\n",
       "      <td>775</td>\n",
       "      <td>REPRESENTAÇÃO</td>\n",
       "      <td>Acórdão 3231/2011 - Plenário</td>\n",
       "      <td>2011-12-07</td>\n",
       "      <td>RELATOR</td>\n",
       "      <td>AROLDO CEDRAZ</td>\n",
       "    </tr>\n",
       "    <tr>\n",
       "      <th>4</th>\n",
       "      <td>29370</td>\n",
       "      <td>Em contratatações de TI, não cabe aceitar propostas de preço com incidência de encargos majorado...</td>\n",
       "      <td>NaN</td>\n",
       "      <td>NaN</td>\n",
       "      <td>Licitação</td>\n",
       "      <td>932</td>\n",
       "      <td>REPRESENTAÇÃO</td>\n",
       "      <td>Acórdão 3231/2011 - Plenário</td>\n",
       "      <td>2011-12-07</td>\n",
       "      <td>RELATOR</td>\n",
       "      <td>AROLDO CEDRAZ</td>\n",
       "    </tr>\n",
       "  </tbody>\n",
       "</table>\n",
       "</div>"
      ],
      "text/plain": [
       "      ID                                                                                                 TEXT                                       REFERENCE_LIST PARADIGMATIC         AREA_NAME  \\\n",
       "0  13568  É ilegal a contagem de tempo ficto de serviço prestado sob a égide da Lei 3.313/1957, proporcion...  Lei Complementar 51/1985 || Lei Ordinária 3313/1957          NaN           Pessoal   \n",
       "1  11614  SÚMULA TCU 283: Para fim de habilitação, a Administração Pública não deve exigir dos licitantes ...                                                  NaN       SUMULA         Licitação   \n",
       "2  21087  A contratação de serviços por preços superiores às referências legais (Sinapi e Sicro) deve ser,...                                                  NaN          NaN         Licitação   \n",
       "3  35016  Não se aplica, excepcionalmente, multa aos gestores por grave infração à norma legal se a irregu...                                                  NaN          NaN  Responsabilidade   \n",
       "4  29370  Em contratatações de TI, não cabe aceitar propostas de preço com incidência de encargos majorado...                                                  NaN          NaN         Licitação   \n",
       "\n",
       "   AREA_ID_DESCRIPTOR NORMATIVE_PROCESS_TYPE            NORMATIVE_IDENTIFICATION NORMATIVE_DATE NORMATIVE_AUTHOR_TYPE NORMATIVE_AUTHOR_NAME  \n",
       "0                1131          APOSENTADORIA   Acórdão 168/2014 - Segunda Câmara     2014-01-28               RELATOR            JOSÉ JORGE  \n",
       "1                 932         ADMINISTRATIVO        Acórdão 1613/2013 - Plenário     2013-06-26               RELATOR            JOSÉ JORGE  \n",
       "2                 932    PRESTAÇÃO DE CONTAS  Acórdão 3936/2013 - Segunda Câmara     2013-07-09               RELATOR            ANA ARRAES  \n",
       "3                 775          REPRESENTAÇÃO        Acórdão 3231/2011 - Plenário     2011-12-07               RELATOR         AROLDO CEDRAZ  \n",
       "4                 932          REPRESENTAÇÃO        Acórdão 3231/2011 - Plenário     2011-12-07               RELATOR         AROLDO CEDRAZ  "
      ]
     },
     "execution_count": 16,
     "metadata": {},
     "output_type": "execute_result"
    }
   ],
   "source": [
    "df_query.head()"
   ]
  },
  {
   "attachments": {},
   "cell_type": "markdown",
   "metadata": {},
   "source": [
    "## Qrel data load"
   ]
  },
  {
   "cell_type": "code",
   "execution_count": 17,
   "id": "1cf03f22",
   "metadata": {},
   "outputs": [],
   "source": [
    "df_qrel = pd.read_csv(PATH_QREL)"
   ]
  },
  {
   "cell_type": "code",
   "execution_count": 18,
   "metadata": {},
   "outputs": [
    {
     "data": {
      "text/plain": [
       "(94809, 3)"
      ]
     },
     "execution_count": 18,
     "metadata": {},
     "output_type": "execute_result"
    }
   ],
   "source": [
    "df_qrel.shape"
   ]
  },
  {
   "cell_type": "code",
   "execution_count": 19,
   "id": "a75dd812",
   "metadata": {},
   "outputs": [
    {
     "data": {
      "text/html": [
       "<div>\n",
       "<style scoped>\n",
       "    .dataframe tbody tr th:only-of-type {\n",
       "        vertical-align: middle;\n",
       "    }\n",
       "\n",
       "    .dataframe tbody tr th {\n",
       "        vertical-align: top;\n",
       "    }\n",
       "\n",
       "    .dataframe thead th {\n",
       "        text-align: right;\n",
       "    }\n",
       "</style>\n",
       "<table border=\"1\" class=\"dataframe\">\n",
       "  <thead>\n",
       "    <tr style=\"text-align: right;\">\n",
       "      <th></th>\n",
       "      <th>QUERY_ID</th>\n",
       "      <th>DOC_ID</th>\n",
       "      <th>TYPE</th>\n",
       "    </tr>\n",
       "  </thead>\n",
       "  <tbody>\n",
       "    <tr>\n",
       "      <th>0</th>\n",
       "      <td>158</td>\n",
       "      <td>15147</td>\n",
       "      <td>INDEXACAO_EXTRA</td>\n",
       "    </tr>\n",
       "    <tr>\n",
       "      <th>1</th>\n",
       "      <td>37</td>\n",
       "      <td>15147</td>\n",
       "      <td>INDEXACAO_EXTRA</td>\n",
       "    </tr>\n",
       "    <tr>\n",
       "      <th>2</th>\n",
       "      <td>178</td>\n",
       "      <td>15147</td>\n",
       "      <td>INDEXACAO_EXTRA</td>\n",
       "    </tr>\n",
       "    <tr>\n",
       "      <th>3</th>\n",
       "      <td>14564</td>\n",
       "      <td>15147</td>\n",
       "      <td>INDEXACAO_EXTRA</td>\n",
       "    </tr>\n",
       "    <tr>\n",
       "      <th>4</th>\n",
       "      <td>9219</td>\n",
       "      <td>15147</td>\n",
       "      <td>INDEXACAO_EXTRA</td>\n",
       "    </tr>\n",
       "  </tbody>\n",
       "</table>\n",
       "</div>"
      ],
      "text/plain": [
       "   QUERY_ID  DOC_ID             TYPE\n",
       "0       158   15147  INDEXACAO_EXTRA\n",
       "1        37   15147  INDEXACAO_EXTRA\n",
       "2       178   15147  INDEXACAO_EXTRA\n",
       "3     14564   15147  INDEXACAO_EXTRA\n",
       "4      9219   15147  INDEXACAO_EXTRA"
      ]
     },
     "execution_count": 19,
     "metadata": {},
     "output_type": "execute_result"
    }
   ],
   "source": [
    "df_qrel.head()"
   ]
  },
  {
   "cell_type": "code",
   "execution_count": 20,
   "metadata": {},
   "outputs": [
    {
     "data": {
      "text/plain": [
       "94809"
      ]
     },
     "execution_count": 20,
     "metadata": {},
     "output_type": "execute_result"
    }
   ],
   "source": [
    "df_qrel.shape[0]"
   ]
  },
  {
   "cell_type": "code",
   "execution_count": 21,
   "metadata": {},
   "outputs": [],
   "source": [
    "df_search_data = df_query.merge(df_qrel, how='left', left_on='ID', right_on='QUERY_ID').drop('QUERY_ID', axis=1)"
   ]
  },
  {
   "cell_type": "code",
   "execution_count": 22,
   "metadata": {},
   "outputs": [
    {
     "data": {
      "text/plain": [
       "94809"
      ]
     },
     "execution_count": 22,
     "metadata": {},
     "output_type": "execute_result"
    }
   ],
   "source": [
    "df_search_data.shape[0]\n"
   ]
  },
  {
   "cell_type": "code",
   "execution_count": 23,
   "metadata": {},
   "outputs": [],
   "source": [
    "# Agrupar os dados pelo ID e criar a coluna 'RELEVANCE_LIST' com a lista de tuplas\n",
    "# df_new = df_search_data.groupby('ID').apply(lambda x: list(zip(x['DOC_ID'], x['TYPE']))).reset_index(name='RELEVANCE_LIST')\n",
    "# df_new['RELEVANCE_LIST'] = df_new['RELEVANCE_LIST'].apply(lambda x: sorted(x, key=lambda tup: ('AREA', 'TEMA', 'SUBTEMA', 'INDEXACAO_EXTRA').index(tup[1])))\n",
    "df_new = df_search_data.groupby('ID').apply(lambda x: dict(zip(x['DOC_ID'], x['TYPE']))).reset_index(name='RELEVANCE_DICT')\n"
   ]
  },
  {
   "cell_type": "code",
   "execution_count": 24,
   "metadata": {},
   "outputs": [
    {
     "data": {
      "text/html": [
       "<div>\n",
       "<style scoped>\n",
       "    .dataframe tbody tr th:only-of-type {\n",
       "        vertical-align: middle;\n",
       "    }\n",
       "\n",
       "    .dataframe tbody tr th {\n",
       "        vertical-align: top;\n",
       "    }\n",
       "\n",
       "    .dataframe thead th {\n",
       "        text-align: right;\n",
       "    }\n",
       "</style>\n",
       "<table border=\"1\" class=\"dataframe\">\n",
       "  <thead>\n",
       "    <tr style=\"text-align: right;\">\n",
       "      <th></th>\n",
       "      <th>ID</th>\n",
       "      <th>RELEVANCE_DICT</th>\n",
       "    </tr>\n",
       "  </thead>\n",
       "  <tbody>\n",
       "    <tr>\n",
       "      <th>0</th>\n",
       "      <td>5</td>\n",
       "      <td>{1298: 'INDEXACAO_EXTRA', 15340: 'INDEXACAO_EXTRA', 15961: 'INDEXACAO_EXTRA', 1131: 'AREA', 5106...</td>\n",
       "    </tr>\n",
       "    <tr>\n",
       "      <th>1</th>\n",
       "      <td>6</td>\n",
       "      <td>{207: 'INDEXACAO_EXTRA', 15961: 'INDEXACAO_EXTRA', 1131: 'AREA', 5106: 'SUBTEMA', 1113: 'TEMA'}</td>\n",
       "    </tr>\n",
       "    <tr>\n",
       "      <th>2</th>\n",
       "      <td>7</td>\n",
       "      <td>{108: 'INDEXACAO_EXTRA', 1526: 'TEMA', 1727: 'SUBTEMA', 223: 'INDEXACAO_EXTRA', 650: 'INDEXACAO_...</td>\n",
       "    </tr>\n",
       "    <tr>\n",
       "      <th>3</th>\n",
       "      <td>8</td>\n",
       "      <td>{887: 'SUBTEMA', 92: 'TEMA', 1131: 'AREA', 1100820: 'INDEXACAO_EXTRA'}</td>\n",
       "    </tr>\n",
       "    <tr>\n",
       "      <th>4</th>\n",
       "      <td>9</td>\n",
       "      <td>{1215: 'INDEXACAO_EXTRA', 14715: 'SUBTEMA', 46: 'TEMA', 1480: 'INDEXACAO_EXTRA', 5095: 'AREA'}</td>\n",
       "    </tr>\n",
       "  </tbody>\n",
       "</table>\n",
       "</div>"
      ],
      "text/plain": [
       "   ID                                                                                       RELEVANCE_DICT\n",
       "0   5  {1298: 'INDEXACAO_EXTRA', 15340: 'INDEXACAO_EXTRA', 15961: 'INDEXACAO_EXTRA', 1131: 'AREA', 5106...\n",
       "1   6      {207: 'INDEXACAO_EXTRA', 15961: 'INDEXACAO_EXTRA', 1131: 'AREA', 5106: 'SUBTEMA', 1113: 'TEMA'}\n",
       "2   7  {108: 'INDEXACAO_EXTRA', 1526: 'TEMA', 1727: 'SUBTEMA', 223: 'INDEXACAO_EXTRA', 650: 'INDEXACAO_...\n",
       "3   8                               {887: 'SUBTEMA', 92: 'TEMA', 1131: 'AREA', 1100820: 'INDEXACAO_EXTRA'}\n",
       "4   9       {1215: 'INDEXACAO_EXTRA', 14715: 'SUBTEMA', 46: 'TEMA', 1480: 'INDEXACAO_EXTRA', 5095: 'AREA'}"
      ]
     },
     "execution_count": 24,
     "metadata": {},
     "output_type": "execute_result"
    }
   ],
   "source": [
    "df_new.head()"
   ]
  },
  {
   "cell_type": "code",
   "execution_count": 25,
   "metadata": {},
   "outputs": [],
   "source": [
    "# Unir o resultado com as demais colunas únicas\n",
    "df_new = pd.merge(df_new, df_search_data.drop_duplicates('ID'), on='ID', how='left')"
   ]
  },
  {
   "cell_type": "code",
   "execution_count": 26,
   "metadata": {},
   "outputs": [],
   "source": [
    "\n",
    "# Selecionar as colunas desejadas\n",
    "df_search_data = df_new[['ID', 'TEXT', 'REFERENCE_LIST', 'PARADIGMATIC', 'AREA_NAME', 'AREA_ID_DESCRIPTOR', 'NORMATIVE_PROCESS_TYPE', 'NORMATIVE_IDENTIFICATION', 'NORMATIVE_DATE', 'NORMATIVE_AUTHOR_TYPE', 'NORMATIVE_AUTHOR_NAME', 'RELEVANCE_DICT']]\n"
   ]
  },
  {
   "cell_type": "code",
   "execution_count": 27,
   "metadata": {},
   "outputs": [
    {
     "data": {
      "text/plain": [
       "(16045, 12)"
      ]
     },
     "execution_count": 27,
     "metadata": {},
     "output_type": "execute_result"
    }
   ],
   "source": [
    "df_search_data.shape"
   ]
  },
  {
   "cell_type": "code",
   "execution_count": 28,
   "id": "60e55155",
   "metadata": {},
   "outputs": [],
   "source": [
    "df_search_data = df_search_data.reset_index()"
   ]
  },
  {
   "cell_type": "code",
   "execution_count": 29,
   "metadata": {},
   "outputs": [
    {
     "data": {
      "text/html": [
       "<div>\n",
       "<style scoped>\n",
       "    .dataframe tbody tr th:only-of-type {\n",
       "        vertical-align: middle;\n",
       "    }\n",
       "\n",
       "    .dataframe tbody tr th {\n",
       "        vertical-align: top;\n",
       "    }\n",
       "\n",
       "    .dataframe thead th {\n",
       "        text-align: right;\n",
       "    }\n",
       "</style>\n",
       "<table border=\"1\" class=\"dataframe\">\n",
       "  <thead>\n",
       "    <tr style=\"text-align: right;\">\n",
       "      <th></th>\n",
       "      <th>index</th>\n",
       "      <th>ID</th>\n",
       "      <th>TEXT</th>\n",
       "      <th>REFERENCE_LIST</th>\n",
       "      <th>PARADIGMATIC</th>\n",
       "      <th>AREA_NAME</th>\n",
       "      <th>AREA_ID_DESCRIPTOR</th>\n",
       "      <th>NORMATIVE_PROCESS_TYPE</th>\n",
       "      <th>NORMATIVE_IDENTIFICATION</th>\n",
       "      <th>NORMATIVE_DATE</th>\n",
       "      <th>NORMATIVE_AUTHOR_TYPE</th>\n",
       "      <th>NORMATIVE_AUTHOR_NAME</th>\n",
       "      <th>RELEVANCE_DICT</th>\n",
       "    </tr>\n",
       "  </thead>\n",
       "  <tbody>\n",
       "    <tr>\n",
       "      <th>0</th>\n",
       "      <td>0</td>\n",
       "      <td>5</td>\n",
       "      <td>SÚMULA TCU 1: Não se compreendem como vencimento, para efeito de concessão da pensão especial co...</td>\n",
       "      <td>Lei Ordinária 3738/1960 || Lei Ordinária 1711/1952, art. 184</td>\n",
       "      <td>SUMULA</td>\n",
       "      <td>Pessoal</td>\n",
       "      <td>1131</td>\n",
       "      <td>NaN</td>\n",
       "      <td>Ata 88/1973 - Plenário</td>\n",
       "      <td>1973-12-04</td>\n",
       "      <td>RELATOR</td>\n",
       "      <td>OCTÁVIO GALLOTTI</td>\n",
       "      <td>{1298: 'INDEXACAO_EXTRA', 15340: 'INDEXACAO_EXTRA', 15961: 'INDEXACAO_EXTRA', 1131: 'AREA', 5106...</td>\n",
       "    </tr>\n",
       "    <tr>\n",
       "      <th>1</th>\n",
       "      <td>1</td>\n",
       "      <td>6</td>\n",
       "      <td>SÚMULA TCU 2: Configura-se como vencimento, para efeito da concessão da pensão especial com fund...</td>\n",
       "      <td>Lei Ordinária 3738/1960</td>\n",
       "      <td>SUMULA</td>\n",
       "      <td>Pessoal</td>\n",
       "      <td>1131</td>\n",
       "      <td>NaN</td>\n",
       "      <td>Ata 88/1973 - Plenário</td>\n",
       "      <td>1973-12-04</td>\n",
       "      <td>RELATOR</td>\n",
       "      <td>OCTÁVIO GALLOTTI</td>\n",
       "      <td>{207: 'INDEXACAO_EXTRA', 15961: 'INDEXACAO_EXTRA', 1131: 'AREA', 5106: 'SUBTEMA', 1113: 'TEMA'}</td>\n",
       "    </tr>\n",
       "    <tr>\n",
       "      <th>2</th>\n",
       "      <td>2</td>\n",
       "      <td>7</td>\n",
       "      <td>SÚMULA TCU 3: O arquivamento é a solução indicada para as hipóteses em que as contas de responsá...</td>\n",
       "      <td>NaN</td>\n",
       "      <td>SUMULA</td>\n",
       "      <td>Direito processual</td>\n",
       "      <td>5288</td>\n",
       "      <td>NaN</td>\n",
       "      <td>Ata 88/1973 - Plenário</td>\n",
       "      <td>1973-12-04</td>\n",
       "      <td>RELATOR</td>\n",
       "      <td>OCTÁVIO GALLOTTI</td>\n",
       "      <td>{108: 'INDEXACAO_EXTRA', 1526: 'TEMA', 1727: 'SUBTEMA', 223: 'INDEXACAO_EXTRA', 650: 'INDEXACAO_...</td>\n",
       "    </tr>\n",
       "    <tr>\n",
       "      <th>3</th>\n",
       "      <td>3</td>\n",
       "      <td>8</td>\n",
       "      <td>SÚMULA TCU 4: A reclassificação de cargos não aproveita ao servidor aposentado, a menos que lei ...</td>\n",
       "      <td>NaN</td>\n",
       "      <td>SUMULA</td>\n",
       "      <td>Pessoal</td>\n",
       "      <td>1131</td>\n",
       "      <td>NaN</td>\n",
       "      <td>Ata 88/1973 - Plenário</td>\n",
       "      <td>1973-12-04</td>\n",
       "      <td>RELATOR</td>\n",
       "      <td>OCTÁVIO GALLOTTI</td>\n",
       "      <td>{887: 'SUBTEMA', 92: 'TEMA', 1131: 'AREA', 1100820: 'INDEXACAO_EXTRA'}</td>\n",
       "    </tr>\n",
       "    <tr>\n",
       "      <th>4</th>\n",
       "      <td>4</td>\n",
       "      <td>9</td>\n",
       "      <td>SÚMULA TCU 5 (REVOGADA): As sociedades de economia mista, salvo disposição expressa em lei, não ...</td>\n",
       "      <td>NaN</td>\n",
       "      <td>SUMULA</td>\n",
       "      <td>Competência do TCU</td>\n",
       "      <td>5095</td>\n",
       "      <td>NaN</td>\n",
       "      <td>AC 2082/2007-PL</td>\n",
       "      <td>2007-10-03</td>\n",
       "      <td>RELATOR</td>\n",
       "      <td>UBIRATAN AGUIAR</td>\n",
       "      <td>{1215: 'INDEXACAO_EXTRA', 14715: 'SUBTEMA', 46: 'TEMA', 1480: 'INDEXACAO_EXTRA', 5095: 'AREA'}</td>\n",
       "    </tr>\n",
       "  </tbody>\n",
       "</table>\n",
       "</div>"
      ],
      "text/plain": [
       "   index  ID                                                                                                 TEXT                                                REFERENCE_LIST PARADIGMATIC  \\\n",
       "0      0   5  SÚMULA TCU 1: Não se compreendem como vencimento, para efeito de concessão da pensão especial co...  Lei Ordinária 3738/1960 || Lei Ordinária 1711/1952, art. 184       SUMULA   \n",
       "1      1   6  SÚMULA TCU 2: Configura-se como vencimento, para efeito da concessão da pensão especial com fund...                                       Lei Ordinária 3738/1960       SUMULA   \n",
       "2      2   7  SÚMULA TCU 3: O arquivamento é a solução indicada para as hipóteses em que as contas de responsá...                                                           NaN       SUMULA   \n",
       "3      3   8  SÚMULA TCU 4: A reclassificação de cargos não aproveita ao servidor aposentado, a menos que lei ...                                                           NaN       SUMULA   \n",
       "4      4   9  SÚMULA TCU 5 (REVOGADA): As sociedades de economia mista, salvo disposição expressa em lei, não ...                                                           NaN       SUMULA   \n",
       "\n",
       "            AREA_NAME  AREA_ID_DESCRIPTOR NORMATIVE_PROCESS_TYPE NORMATIVE_IDENTIFICATION NORMATIVE_DATE NORMATIVE_AUTHOR_TYPE NORMATIVE_AUTHOR_NAME  \\\n",
       "0             Pessoal                1131                    NaN   Ata 88/1973 - Plenário     1973-12-04               RELATOR      OCTÁVIO GALLOTTI   \n",
       "1             Pessoal                1131                    NaN   Ata 88/1973 - Plenário     1973-12-04               RELATOR      OCTÁVIO GALLOTTI   \n",
       "2  Direito processual                5288                    NaN   Ata 88/1973 - Plenário     1973-12-04               RELATOR      OCTÁVIO GALLOTTI   \n",
       "3             Pessoal                1131                    NaN   Ata 88/1973 - Plenário     1973-12-04               RELATOR      OCTÁVIO GALLOTTI   \n",
       "4  Competência do TCU                5095                    NaN          AC 2082/2007-PL     2007-10-03               RELATOR       UBIRATAN AGUIAR   \n",
       "\n",
       "                                                                                        RELEVANCE_DICT  \n",
       "0  {1298: 'INDEXACAO_EXTRA', 15340: 'INDEXACAO_EXTRA', 15961: 'INDEXACAO_EXTRA', 1131: 'AREA', 5106...  \n",
       "1      {207: 'INDEXACAO_EXTRA', 15961: 'INDEXACAO_EXTRA', 1131: 'AREA', 5106: 'SUBTEMA', 1113: 'TEMA'}  \n",
       "2  {108: 'INDEXACAO_EXTRA', 1526: 'TEMA', 1727: 'SUBTEMA', 223: 'INDEXACAO_EXTRA', 650: 'INDEXACAO_...  \n",
       "3                               {887: 'SUBTEMA', 92: 'TEMA', 1131: 'AREA', 1100820: 'INDEXACAO_EXTRA'}  \n",
       "4       {1215: 'INDEXACAO_EXTRA', 14715: 'SUBTEMA', 46: 'TEMA', 1480: 'INDEXACAO_EXTRA', 5095: 'AREA'}  "
      ]
     },
     "execution_count": 29,
     "metadata": {},
     "output_type": "execute_result"
    }
   ],
   "source": [
    "df_search_data.head()"
   ]
  },
  {
   "cell_type": "code",
   "execution_count": 30,
   "metadata": {},
   "outputs": [],
   "source": [
    "del df_new"
   ]
  },
  {
   "attachments": {},
   "cell_type": "markdown",
   "metadata": {},
   "source": [
    "# Create reference to index (elastic search)"
   ]
  },
  {
   "attachments": {},
   "cell_type": "markdown",
   "metadata": {},
   "source": [
    "Documentation https://docs.haystack.deepset.ai/docs\n",
    "https://haystack.deepset.ai/tutorials/09_dpr_training \n"
   ]
  },
  {
   "cell_type": "code",
   "execution_count": 31,
   "metadata": {},
   "outputs": [
    {
     "name": "stdout",
     "output_type": "stream",
     "text": [
      "Index: indir_juris_tcu\n",
      "{'health': 'yellow', 'status': 'open', 'index': 'indir_juris_tcu', 'uuid': 'RD_aAWppQH6vjNxKUdL_0w', 'pri': '1', 'rep': '1', 'docs.count': '16045', 'docs.deleted': '16045', 'store.size': '334.9mb', 'pri.store.size': '334.9mb'}\n",
      "\n",
      "Index: indir_juris_tcu_term\n",
      "{'health': 'yellow', 'status': 'open', 'index': 'indir_juris_tcu_term', 'uuid': 'S5WlNGiqSXC-79WaqfsddA', 'pri': '1', 'rep': '1', 'docs.count': '16045', 'docs.deleted': '16045', 'store.size': '337.5mb', 'pri.store.size': '337.5mb'}\n",
      "\n",
      "Index: indir_juris_tcu_synonym_related_term\n",
      "{'health': 'yellow', 'status': 'open', 'index': 'indir_juris_tcu_synonym_related_term', 'uuid': 'OJIJ0P2XQo-s4NRuaT4W_w', 'pri': '1', 'rep': '1', 'docs.count': '16045', 'docs.deleted': '3045', 'store.size': '348.4mb', 'pri.store.size': '348.4mb'}\n",
      "\n",
      "Index: indir_juris_tcu_related_term\n",
      "{'health': 'yellow', 'status': 'open', 'index': 'indir_juris_tcu_related_term', 'uuid': 'i9nzlBQrREyEC7MGT79GBQ', 'pri': '1', 'rep': '1', 'docs.count': '16045', 'docs.deleted': '3651', 'store.size': '346.3mb', 'pri.store.size': '346.3mb'}\n",
      "\n",
      "Index: indir_juris_tcu_synonym\n",
      "{'health': 'yellow', 'status': 'open', 'index': 'indir_juris_tcu_synonym', 'uuid': 'nuMe_BWiQNG3r0lHCaeGeg', 'pri': '1', 'rep': '1', 'docs.count': '16045', 'docs.deleted': '5638', 'store.size': '334.5mb', 'pri.store.size': '334.5mb'}\n",
      "\n",
      "Index: indir_juris_tcu_index\n",
      "{'health': 'yellow', 'status': 'open', 'index': 'indir_juris_tcu_index', 'uuid': 'fGjzBrQzRUWTZ6KlnbfLqw', 'pri': '1', 'rep': '1', 'docs.count': '13255', 'docs.deleted': '2755', 'store.size': '281.7mb', 'pri.store.size': '281.7mb'}\n",
      "\n"
     ]
    }
   ],
   "source": [
    "index_dict = util_elastic.return_indexes('indir', parm_print=True)"
   ]
  },
  {
   "cell_type": "code",
   "execution_count": 32,
   "metadata": {},
   "outputs": [
    {
     "data": {
      "text/plain": [
       "{'indir_juris_tcu': {'health': 'yellow',\n",
       "  'status': 'open',\n",
       "  'index': 'indir_juris_tcu',\n",
       "  'uuid': 'RD_aAWppQH6vjNxKUdL_0w',\n",
       "  'pri': '1',\n",
       "  'rep': '1',\n",
       "  'docs.count': '16045',\n",
       "  'docs.deleted': '16045',\n",
       "  'store.size': '334.9mb',\n",
       "  'pri.store.size': '334.9mb'},\n",
       " 'indir_juris_tcu_term': {'health': 'yellow',\n",
       "  'status': 'open',\n",
       "  'index': 'indir_juris_tcu_term',\n",
       "  'uuid': 'S5WlNGiqSXC-79WaqfsddA',\n",
       "  'pri': '1',\n",
       "  'rep': '1',\n",
       "  'docs.count': '16045',\n",
       "  'docs.deleted': '16045',\n",
       "  'store.size': '337.5mb',\n",
       "  'pri.store.size': '337.5mb'},\n",
       " 'indir_juris_tcu_synonym_related_term': {'health': 'yellow',\n",
       "  'status': 'open',\n",
       "  'index': 'indir_juris_tcu_synonym_related_term',\n",
       "  'uuid': 'OJIJ0P2XQo-s4NRuaT4W_w',\n",
       "  'pri': '1',\n",
       "  'rep': '1',\n",
       "  'docs.count': '16045',\n",
       "  'docs.deleted': '3045',\n",
       "  'store.size': '348.4mb',\n",
       "  'pri.store.size': '348.4mb'},\n",
       " 'indir_juris_tcu_related_term': {'health': 'yellow',\n",
       "  'status': 'open',\n",
       "  'index': 'indir_juris_tcu_related_term',\n",
       "  'uuid': 'i9nzlBQrREyEC7MGT79GBQ',\n",
       "  'pri': '1',\n",
       "  'rep': '1',\n",
       "  'docs.count': '16045',\n",
       "  'docs.deleted': '3651',\n",
       "  'store.size': '346.3mb',\n",
       "  'pri.store.size': '346.3mb'},\n",
       " 'indir_juris_tcu_synonym': {'health': 'yellow',\n",
       "  'status': 'open',\n",
       "  'index': 'indir_juris_tcu_synonym',\n",
       "  'uuid': 'nuMe_BWiQNG3r0lHCaeGeg',\n",
       "  'pri': '1',\n",
       "  'rep': '1',\n",
       "  'docs.count': '16045',\n",
       "  'docs.deleted': '5638',\n",
       "  'store.size': '334.5mb',\n",
       "  'pri.store.size': '334.5mb'},\n",
       " 'indir_juris_tcu_index': {'health': 'yellow',\n",
       "  'status': 'open',\n",
       "  'index': 'indir_juris_tcu_index',\n",
       "  'uuid': 'fGjzBrQzRUWTZ6KlnbfLqw',\n",
       "  'pri': '1',\n",
       "  'rep': '1',\n",
       "  'docs.count': '13255',\n",
       "  'docs.deleted': '2755',\n",
       "  'store.size': '281.7mb',\n",
       "  'pri.store.size': '281.7mb'}}"
      ]
     },
     "execution_count": 32,
     "metadata": {},
     "output_type": "execute_result"
    }
   ],
   "source": [
    "index_dict"
   ]
  },
  {
   "cell_type": "code",
   "execution_count": 33,
   "metadata": {},
   "outputs": [],
   "source": [
    "INDEX_NAME = 'indir_juris_tcu_index'"
   ]
  },
  {
   "cell_type": "code",
   "execution_count": 34,
   "metadata": {},
   "outputs": [
    {
     "name": "stdout",
     "output_type": "stream",
     "text": [
      "\n",
      "Qtd de documentos 13255\n",
      "\n",
      "Qtd de embeddings 13255\n",
      "\n",
      "Documento.id=5: <Document: id=5, content='O termo é \"Abono de permanência em serviço\".\n",
      "Abono de permanência em serviço tem definição: \"O abono...'>\n"
     ]
    }
   ],
   "source": [
    "index = util_elastic.return_index(parm_index_name=INDEX_NAME)"
   ]
  },
  {
   "attachments": {},
   "cell_type": "markdown",
   "metadata": {},
   "source": [
    "# Pipelines creation"
   ]
  },
  {
   "cell_type": "code",
   "execution_count": 35,
   "metadata": {},
   "outputs": [],
   "source": [
    "pipes = []"
   ]
  },
  {
   "cell_type": "code",
   "execution_count": 38,
   "metadata": {},
   "outputs": [],
   "source": [
    "# Test query\n",
    "# parm_query = \"trata-se de uma denúncia contra o prefeito de Manhuaçu por não haver pago os funcionários da área de limpeza urbana\"\n",
    "parm_query = \"A transferência de documentos da entidade para local impróprio ao armazenamento, causando a perda de informações ou inviabilizando seu manuseio, de forma a impedir a atuação do TCU, é causa de responsabilização do gestor que a ordenou.\""
   ]
  },
  {
   "cell_type": "code",
   "execution_count": 39,
   "metadata": {},
   "outputs": [
    {
     "ename": "Exception",
     "evalue": "Stop execution - create only desired pipelines in code below ",
     "output_type": "error",
     "traceback": [
      "\u001b[0;31m---------------------------------------------------------------------------\u001b[0m",
      "\u001b[0;31mException\u001b[0m                                 Traceback (most recent call last)",
      "\u001b[0;32m/tmp/ipykernel_1176393/2302163279.py\u001b[0m in \u001b[0;36m<module>\u001b[0;34m\u001b[0m\n\u001b[0;32m----> 1\u001b[0;31m \u001b[0;32mraise\u001b[0m \u001b[0mException\u001b[0m \u001b[0;34m(\u001b[0m\u001b[0;34m'Stop execution - create only desired pipelines in code below '\u001b[0m\u001b[0;34m)\u001b[0m\u001b[0;34m\u001b[0m\u001b[0;34m\u001b[0m\u001b[0m\n\u001b[0m",
      "\u001b[0;31mException\u001b[0m: Stop execution - create only desired pipelines in code below "
     ]
    }
   ],
   "source": [
    "raise Exception ('Stop execution - create only desired pipelines in code below ')"
   ]
  },
  {
   "cell_type": "code",
   "execution_count": 40,
   "metadata": {},
   "outputs": [
    {
     "data": {
      "text/plain": [
       "[]"
      ]
     },
     "execution_count": 40,
     "metadata": {},
     "output_type": "execute_result"
    }
   ],
   "source": [
    "pipes"
   ]
  },
  {
   "attachments": {},
   "cell_type": "markdown",
   "metadata": {},
   "source": [
    "## Only retrievers"
   ]
  },
  {
   "attachments": {},
   "cell_type": "markdown",
   "metadata": {},
   "source": [
    "### join"
   ]
  },
  {
   "cell_type": "markdown",
   "metadata": {},
   "source": [
    "#### sts + bm25"
   ]
  },
  {
   "cell_type": "code",
   "execution_count": null,
   "metadata": {},
   "outputs": [
    {
     "name": "stdout",
     "output_type": "stream",
     "text": [
      "CPU times: user 3.01 s, sys: 568 ms, total: 3.58 s\n",
      "Wall time: 1.98 s\n"
     ]
    }
   ],
   "source": [
    "%%time\n",
    "pipe_join_sts_bm25 = util_pipeline.return_pipeline_join_bm25_sts(index)"
   ]
  },
  {
   "cell_type": "code",
   "execution_count": null,
   "metadata": {},
   "outputs": [],
   "source": [
    "pipes.append({'PIPE_NAME': 'pipe_join_sts_bm25',\n",
    "              'PIPE_OBJECT': pipe_join_sts_bm25,\n",
    "              'RETRIEVER_TYPE': 'join_sts_bm25',  # in ['sts', 'bm25']\n",
    "              'RETRIEVER_MODEL_NAME': util_pipeline.nome_modelo_embedding_model_sts, # or nome_modelo_embedding_model_sts_rufimelo,\n",
    "              'RANKER_MODEL_NAME': ''})"
   ]
  },
  {
   "cell_type": "code",
   "execution_count": null,
   "metadata": {},
   "outputs": [
    {
     "name": "stdout",
     "output_type": "stream",
     "text": [
      "Parâmetros usados: {'Bm25Retriever': {'top_k': 300}, 'StsRetriever': {'top_k': 300}}\n",
      "Consulta: A transferência de documentos da entidade para local impróprio ao armazenamento, causando a perda de informações ou inviabilizando seu manuseio, de forma a impedir a atuação do TCU, é causa de responsabilização do gestor que a ordenou.\n",
      "Qtd documentos retornados: 542\n",
      "Primeiro docto:\n",
      "<Document: id=1102005, content='O termo é \"Plano de contratações\".\n",
      "Plano de contratações tem definição: \"É o documento no qual a org...'>\n",
      "\n",
      "Último (542):\n",
      "<Document: id=1103641, content='O termo é \"Falta grave\".\n",
      "Falta grave tem nota de escopo: \"Está prevista em várias normatizações que ...'>\n",
      "Seguem os nomes dos termos recuperados em ordem de score\n",
      "0 : ['Plano de contratações', '1102005', 0.981894035831847]\n",
      "1 : ['Competência do TCU', '5095', 0.981022770821533]\n",
      "2 : ['Nexo de causalidade', '4495', 0.9782476752974565]\n",
      "3 : ['Teletrabalho', '5949', 0.977450618284214]\n",
      "4 : ['Papéis de trabalho', '15181', 0.976140477988525]\n",
      "5 : ['Julgamento de contas', '874', 0.9732691705914434]\n",
      "6 : ['Matriz de fiscalização', '6627', 0.972325706163406]\n",
      "7 : ['Responsável', '2651', 0.9697077916173754]\n",
      "8 : ['Documento novo', '4689', 0.9683358468267826]\n",
      "9 : ['Examinar', '1113910', 0.9674270789213479]\n",
      "10 : ['Produzir', '1113970', 0.967161440121055]\n",
      "CPU times: user 529 ms, sys: 35.4 ms, total: 564 ms\n",
      "Wall time: 823 ms\n"
     ]
    }
   ],
   "source": [
    "%%time\n",
    "doctos_retornados_ranker = pipe_join_sts_bm25.run(query=parm_query, \n",
    " params={\"Bm25Retriever\": {\"top_k\": 300}, \"StsRetriever\": {\"top_k\": 300}})\n",
    "util_pipeline.detail_document_found(doctos_retornados_ranker)"
   ]
  },
  {
   "attachments": {},
   "cell_type": "markdown",
   "metadata": {},
   "source": [
    "#### sts_multihop + bm25"
   ]
  },
  {
   "cell_type": "code",
   "execution_count": null,
   "metadata": {},
   "outputs": [
    {
     "name": "stdout",
     "output_type": "stream",
     "text": [
      "CPU times: user 3.36 s, sys: 674 ms, total: 4.04 s\n",
      "Wall time: 2.12 s\n"
     ]
    }
   ],
   "source": [
    "%%time\n",
    "pipe_join_sts_multihop_bm25 = util_pipeline.return_pipeline_join_bm25_sts_multihop(index)"
   ]
  },
  {
   "cell_type": "code",
   "execution_count": null,
   "metadata": {},
   "outputs": [],
   "source": [
    "pipes.append({'PIPE_NAME': 'pipe_join_sts_multihop_bm25',\n",
    "              'PIPE_OBJECT': pipe_join_sts_multihop_bm25,\n",
    "              'RETRIEVER_TYPE': 'join_sts_multihop_bm25',  # in ['sts', 'bm25']\n",
    "              'RETRIEVER_MODEL_NAME': util_pipeline.nome_modelo_embedding_model_sts, # or nome_modelo_embedding_model_sts_rufimelo,\n",
    "              'RANKER_MODEL_NAME': ''})"
   ]
  },
  {
   "cell_type": "code",
   "execution_count": null,
   "metadata": {},
   "outputs": [
    {
     "name": "stdout",
     "output_type": "stream",
     "text": [
      "Parâmetros usados: {'Bm25Retriever': {'top_k': 150}, 'StsRetriever': {'top_k': 150}}\n",
      "Consulta: A transferência de documentos da entidade para local impróprio ao armazenamento, causando a perda de informações ou inviabilizando seu manuseio, de forma a impedir a atuação do TCU, é causa de responsabilização do gestor que a ordenou.\n",
      "Qtd documentos retornados: 289\n",
      "Primeiro docto:\n",
      "<Document: id=2577, content='O termo é \"Afastamento de responsável\".\n",
      "Afastamento de responsável tem definição: \"No início ou no c...'>\n",
      "\n",
      "Último (289):\n",
      "<Document: id=1102397, content='O termo é \"Estado de exceção\".\n",
      "Estado de exceção tem nota de escopo: \"Situação oposta ao Estado demo...'>\n",
      "Seguem os nomes dos termos recuperados em ordem de score\n",
      "0 : ['Afastamento de responsável', 0.9930839884285582]\n",
      "1 : ['Plano de contratações', 0.9856940203493179]\n",
      "2 : ['Competência do TCU', 0.9849874794705751]\n",
      "3 : ['Teletrabalho', 0.9823437136689326]\n",
      "4 : ['Nexo de causalidade', 0.982157658932855]\n",
      "5 : ['Processo administrativo de responsabilização', 0.9816688772992885]\n",
      "6 : ['Ofício de requisição', 0.9810189097165355]\n",
      "7 : ['Evidência documental', 0.9808667929710004]\n",
      "8 : ['Papéis de trabalho', 0.9800804158626235]\n",
      "9 : ['Julgamento de contas', 0.9780553040802098]\n",
      "10 : ['Matriz de fiscalização', 0.9778889174161483]\n",
      "11 : ['Ofício de comunicação de fiscalização', 0.9759793956838178]\n",
      "12 : ['Responsável', 0.9749983023194281]\n",
      "13 : ['Matriz de responsabilização', 0.9749010355369913]\n",
      "14 : ['Rescisão unilateral', 0.9748706914060489]\n",
      "15 : ['Produzir', 0.9743022341175737]\n",
      "16 : ['Afastamento preventivo', 0.9741557736812957]\n",
      "17 : ['Documento novo', 0.9732741034881348]\n",
      "18 : ['Examinar', 0.9732180433625631]\n",
      "19 : ['Perda de objeto', 0.9725962719359168]\n",
      "20 : ['Phishing', 0.9724266621478431]\n",
      "21 : ['Sistema Nacional de Emprego', 0.9714378186803478]\n",
      "22 : ['Gestor da informação', 0.9712187264447482]\n",
      "23 : ['Controle de segunda ordem', 0.970873867075394]\n",
      "24 : ['Prevenção de perda de dados', 0.9708709826011247]\n",
      "25 : ['Causa do achado', 0.9706906037482294]\n",
      "26 : ['Estratégia digital', 0.9701236836186766]\n",
      "27 : ['Ministério Público junto ao TCU', 0.9700605069151323]\n",
      "28 : ['Confirmação externa', 0.9696596610660471]\n",
      "29 : ['Abandono de cargo', 0.9696305808093489]\n",
      "30 : ['Cobrança executiva', 0.9693038531578911]\n",
      "31 : ['Responsabilidade perante o controle externo', 0.9692663708644913]\n",
      "32 : ['Excludente de responsabilidade', 0.9687883274904563]\n",
      "33 : ['Matriz padrão', 0.9687832056065442]\n",
      "34 : ['Dispensa sem justa causa', 0.9681823105576527]\n",
      "35 : ['Penhor', 0.968162361915448]\n",
      "36 : ['Entidade filantrópica', 0.9676888116115662]\n",
      "37 : ['Honorários de êxito', 0.9676524124501663]\n",
      "38 : ['HTTPS', 0.9675901238174784]\n",
      "39 : ['Petição inicial', 0.9675488332671434]\n",
      "40 : ['Afastamento para servir a outro órgão ou entidade', 0.9669174085223711]\n",
      "41 : ['Disseminar', 0.966905218875126]\n",
      "42 : ['Descarte de documentos', 0.9664597032403718]\n",
      "43 : ['Destituição de função', 0.9663881863234739]\n",
      "44 : ['Informação ultrassecreta', 0.9661478094940132]\n",
      "45 : ['Análise estática', 0.9660281341139809]\n",
      "46 : ['Casemg', 0.9659682605598531]\n",
      "47 : ['Gestor', 0.9655142819406799]\n",
      "48 : ['Representação', 0.9652363938568079]\n",
      "49 : ['Arquivamento', 0.9650402024103759]\n",
      "50 : ['Expulsão de estrangeiro', 0.9649607308894933]\n",
      "51 : ['Avaliação de controles internos', 0.9647662571738366]\n",
      "52 : ['Trancamento das contas', 0.9646853808657104]\n",
      "53 : ['Backdoor', 0.9645546613332472]\n",
      "54 : ['Contabilidade', 0.9644534384224346]\n",
      "55 : ['Transferência de carteira', 0.9641922679960047]\n",
      "56 : ['Anulação', 0.9641800137270689]\n",
      "57 : ['Ato precário', 0.9639390672390818]\n",
      "58 : ['Ação corretiva', 0.9639161834711785]\n",
      "59 : ['Evicção', 0.9637212483345161]\n",
      "60 : ['Termo de sigilo', 0.9636935302860635]\n",
      "61 : ['Preclusão temporal', 0.9636725883461041]\n",
      "62 : ['Ouvidoria', 0.9634448837100252]\n",
      "63 : ['Fiscalização', 0.9630165470706724]\n",
      "64 : ['Informação reservada', 0.9624400470946145]\n",
      "65 : ['Cláusula uniforme', 0.9623910930365567]\n",
      "66 : ['Informação secreta', 0.9621803509722351]\n",
      "67 : ['Assessoria jurídica', 0.9621278198086929]\n",
      "68 : ['Decisão terminativa', 0.9620771568531108]\n",
      "69 : ['Armazenamento de dados', 0.9619242734842146]\n",
      "70 : ['Atividade crítica', 0.9618874014709465]\n",
      "71 : ['Serviço público prestado integralmente sob a forma digital', 0.961419871078294]\n",
      "72 : ['Ocasionar', 0.9612147237380495]\n",
      "73 : ['Atos de pessoal', 0.9609826149159687]\n",
      "74 : ['Processo administrativo disciplinar', 0.9608461294898473]\n",
      "75 : ['Contas irregulares', 0.960790374975503]\n",
      "76 : ['Desfazimento de bens permanentes', 0.9607845730403285]\n",
      "77 : ['Desapropriação judicial', 0.9606843032921187]\n",
      "78 : ['Exclusão de acesso', 0.9605946149526053]\n",
      "79 : ['Hipoteca', 0.9605545000176207]\n",
      "80 : ['Negativa de registro', 0.9604734597962636]\n",
      "81 : ['Concreto convencional', 0.9599764270606329]\n",
      "82 : ['Serviço público prestado parcialmente sob a forma digital', 0.959819704683328]\n",
      "83 : ['Transferências da União', 0.9596240778000634]\n",
      "84 : ['França', 0.9595603559566676]\n",
      "85 : ['Escola Superior do Tribunal de Contas da União', 0.9595120266901677]\n",
      "86 : ['Contrafação', 0.9593783462230799]\n",
      "87 : ['Jurisdição', 0.9591404375498186]\n",
      "88 : ['Capacidade operacional', 0.958941512088949]\n",
      "89 : ['Efeito do achado', 0.958929442662271]\n",
      "90 : ['Reforma (Pessoal)', 0.9587878563381154]\n",
      "91 : ['Substituição tributária', 0.9587698194957366]\n",
      "92 : ['Inspeção sanitária', 0.9586252476007018]\n",
      "93 : ['Gestor máximo', 0.9585643370920641]\n",
      "94 : ['Matriz de planejamento', 0.9584372944150586]\n",
      "95 : ['Dispensa arbitrária', 0.9583899892226]\n",
      "96 : ['Líbano', 0.958258830519573]\n",
      "97 : ['Ciência (Controle externo)', 0.9580335777941639]\n",
      "98 : ['Risco inerente', 0.9580101570198128]\n",
      "99 : ['Afastamento de pessoal', 0.9579483807175388]\n",
      "100 : ['Disciplinar', 0.9578823118848461]\n",
      "101 : ['Embargos', 0.9577779502140308]\n",
      "102 : ['Transferência de risco', 0.9577449798461105]\n",
      "103 : ['Demissão de pessoal', 0.9575770216285534]\n",
      "104 : ['Revogação', 0.9575380061545622]\n",
      "105 : ['Requerer', 0.9573839012529318]\n",
      "106 : ['Princípio da irrenunciabilidade', 0.9572732115283369]\n",
      "107 : ['Organização comunitária', 0.9571137609318326]\n",
      "108 : ['Gerenciamento de riscos corporativos', 0.9570734706181723]\n",
      "109 : ['Dissolução de empresa', 0.9570041858596294]\n",
      "110 : ['Memorial', 0.9569755794888811]\n",
      "111 : ['Princípio da motivação', 0.9566980435461419]\n",
      "112 : ['Adicional de embarque e desembarque', 0.9566770300646551]\n",
      "113 : ['Serviço público passível de ser prestado sob a forma digital', 0.9565799269322078]\n",
      "114 : ['Cessão de pessoal', 0.9564698462213936]\n",
      "115 : ['Dispensa com justa causa', 0.9564133798780595]\n",
      "116 : ['Ato de ofício', 0.9563213678624256]\n",
      "117 : ['Protocolo internacional', 0.9562298872578011]\n",
      "118 : ['Instruir', 0.9562261516103134]\n",
      "119 : ['Princípio da vedação ao enriquecimento sem causa', 0.9562196161116222]\n",
      "120 : ['Ação ao portador', 0.9561756905836348]\n",
      "121 : ['Demissão de servidor', 0.9560197120609917]\n",
      "122 : ['Diligência', 0.9559883455743694]\n",
      "123 : ['Ocupação', 0.9559661195591604]\n",
      "124 : ['Sonegação', 0.9558004268104576]\n",
      "125 : ['Índice de preços', 0.955620310570976]\n",
      "126 : ['Aviso prévio', 0.9552976545109074]\n",
      "127 : ['Responsabilização', 0.9552557484685231]\n",
      "128 : ['Exame sumário', 0.9551943519221134]\n",
      "129 : ['Administrar', 0.9550002696368254]\n",
      "130 : ['Desvio de função', 0.9549993617864077]\n",
      "131 : ['Sala-cofre', 0.954663706675542]\n",
      "132 : ['Fé pública', 0.9546371085351776]\n",
      "133 : ['Transferências voluntárias', 0.9543952656228274]\n",
      "134 : ['Férias vencidas', 0.9543769272308118]\n",
      "135 : ['Usucapião', 0.9541828786539923]\n",
      "136 : ['Ilícito administrativo', 0.9540219688230777]\n",
      "137 : ['Cadastro Específico do INSS', 0.9539315737563044]\n",
      "138 : ['Processo modificador', 0.9538438162925188]\n",
      "139 : ['Integridade da informação', 0.9537947632847696]\n",
      "140 : ['Oposição (Direito)', 0.9537884387830428]\n",
      "141 : ['Bibliografia', 0.9535005048958634]\n",
      "142 : ['Desapropriação de imóveis', 0.9534084517088282]\n",
      "143 : ['Processo de controle externo', 0.9534003553534076]\n",
      "144 : ['Contas iliquidáveis', 0.9533478576416983]\n",
      "145 : ['Falsidade documental', 0.9532337115403431]\n",
      "146 : ['Exame documental', 0.9532323518558644]\n",
      "147 : ['Indagação escrita', 0.9532204474391387]\n",
      "148 : ['Desapropriação por interesse social', 0.9529404738204769]\n",
      "149 : ['Cartilha', 0.9529244784147565]\n",
      "150 : ['Abuso de poder', 0.952866149279673]\n",
      "151 : ['PDV', 0.9527896159468343]\n",
      "152 : ['Rescisão contratual', 0.9526561002421039]\n",
      "153 : ['Hora extra judicial', 0.9526206145297323]\n",
      "154 : ['Teletrabalho total', 0.952438712791075]\n",
      "155 : ['Determinação', 0.9522163619848079]\n",
      "156 : ['Alterar', 0.9521879560550494]\n",
      "157 : ['Pagamento', 0.952067549539992]\n",
      "158 : ['Preclusão', 0.9518459061075061]\n",
      "159 : ['Impeachment', 0.9516816880784442]\n",
      "160 : ['Conteúdo local', 0.9516418276452496]\n",
      "161 : ['Vazamento de dados', 0.9515021740299701]\n",
      "162 : ['Medida Cautelar inaudita altera pars', 0.951377289633948]\n",
      "163 : ['Negação de serviço ', 0.9513441115227851]\n",
      "164 : ['Instituto Serzedello Corrêa', 0.9513190285991512]\n",
      "165 : ['Pessoa com deficiência auditiva', 0.9512463381425789]\n",
      "166 : ['Exceção de coisa julgada', 0.9512418509968635]\n",
      "167 : ['Revisão criminal', 0.9512376185753313]\n",
      "168 : ['Gestor substituto', 0.9512010428976136]\n",
      "169 : ['Decidir', 0.9510838676229583]\n",
      "170 : ['Caducidade da concessão', 0.9509720906402177]\n",
      "171 : ['Afastamento', 0.9508883324695274]\n",
      "172 : ['Notória especialização', 0.9508446206146226]\n",
      "173 : ['Processamento de dados', 0.9508190655415143]\n",
      "174 : ['Contrato de eficiência', 0.9506934331990565]\n",
      "175 : ['Manual', 0.9506929820210926]\n",
      "176 : ['Indício de irregularidade grave', 0.9506915405691604]\n",
      "177 : ['Obrigação de resultado', 0.9506775693065309]\n",
      "178 : ['Vistoria', 0.9506726573755878]\n",
      "179 : ['Iniciação esportiva', 0.950648952843144]\n",
      "180 : ['Princípio da ampla defesa', 0.9506209426079751]\n",
      "181 : ['Trabalho de asseguração limitada', 0.9505972321259649]\n",
      "182 : ['Afastamento para exercício de mandato eletivo', 0.950591737266558]\n",
      "183 : ['Remoção de pessoal', 0.9504782353160299]\n",
      "184 : ['Exoneração de pessoal', 0.950429684261479]\n",
      "185 : ['Férias proporcionais', 0.9504084260451396]\n",
      "186 : ['Sonegação fiscal', 0.9503938896187064]\n",
      "187 : ['Auxiliar', 0.9501660781675729]\n",
      "188 : ['Doença endêmica', 0.9500992715662937]\n",
      "189 : ['Decesso remuneratório', 0.9499043444161936]\n",
      "190 : ['Erro de execução', 0.9498522596130125]\n",
      "191 : ['Monitorar', 0.9496506992165659]\n",
      "192 : ['Catálogo de dados', 0.9495461163908799]\n",
      "193 : ['Regulamentar', 0.9494834514624517]\n",
      "194 : ['Design thinking', 0.9494216312426811]\n",
      "195 : ['Preclusão consumativa', 0.9491847523206469]\n",
      "196 : ['Decadência', 0.9490604567865645]\n",
      "197 : ['Anulação de empenho', 0.9489927316312505]\n",
      "198 : ['Vício construtivo', 0.9489875156833851]\n",
      "199 : ['Aposentadoria compulsória', 0.9487812699095419]\n",
      "200 : ['Processo apartado', 0.948730512564796]\n",
      "201 : ['Erro de procedimento', 0.9486512672616599]\n",
      "202 : ['Deportação', 0.948078040124372]\n",
      "203 : ['Ação de controle externo', 0.9476747843879454]\n",
      "204 : ['Renúncia', 0.9472555322435076]\n",
      "205 : ['Desaposentação', 0.9470115337290849]\n",
      "206 : ['Direito ao esquecimento', 0.9467558849639838]\n",
      "207 : ['Custo não renovável', 0.9466454818045339]\n",
      "208 : ['Tutela antecipada', 0.9463083006456102]\n",
      "209 : ['Medida cautelar', 0.9461692194897398]\n",
      "210 : ['Destituição de cargo', 0.945688641616802]\n",
      "211 : ['Pena disciplinar', 0.9456636230708965]\n",
      "212 : ['Suspensão temporária', 0.9454837562413523]\n",
      "213 : ['Auto de infração', 0.9453167701755276]\n",
      "214 : ['Tempo em estoque', 0.9452950550652395]\n",
      "215 : ['Princípio da autotutela', 0.9451294433865175]\n",
      "216 : ['Abandono de emprego', 0.945026358770448]\n",
      "217 : ['Exclusão', 0.9446358899071396]\n",
      "218 : ['Controle externo', 0.9444946180184273]\n",
      "219 : ['Extravio', 0.9441342563881083]\n",
      "220 : ['Processo de execução', 0.943865018886969]\n",
      "221 : ['Decisão preliminar', 0.9438484856378389]\n",
      "222 : ['Excludente de ilicitude', 0.9438031547018063]\n",
      "223 : ['Afastamento para estudo ou missão no exterior', 0.9436987363416601]\n",
      "224 : ['Reunião de encerramento', 0.9436856645828283]\n",
      "225 : ['Rescisão judicial', 0.9436468576026761]\n",
      "226 : ['Gestão documental', 0.9435179233021419]\n",
      "227 : ['Irregularidade grave', 0.9432754905561532]\n",
      "228 : ['Risco de controle', 0.943202891655092]\n",
      "229 : ['Cassação de disponibilidade', 0.943126289913147]\n",
      "230 : ['Controle posterior', 0.9430888919173948]\n",
      "231 : ['Sócio remisso', 0.9430428236297762]\n",
      "232 : ['Função de Assessoramento Superior', 0.9426230060236993]\n",
      "233 : ['Cassação de aposentadoria', 0.9425153364539083]\n",
      "234 : ['Reversão de pessoal', 0.94220616498087]\n",
      "235 : ['Sanção administrativa', 0.942143238816106]\n",
      "236 : ['Relatório de monitoramento', 0.9420093276265253]\n",
      "237 : ['Alcance', 0.9420045201971569]\n",
      "238 : ['Extrato de entrevista', 0.9419397473534288]\n",
      "239 : ['Razões de justificativa', 0.941898224279124]\n",
      "240 : ['Cancelamento', 0.9417916359368756]\n",
      "241 : ['Contagem de tempo de serviço', 0.9416659707114732]\n",
      "242 : ['Garantia contratual', 0.9414678486802204]\n",
      "243 : ['Subtração', 0.9414135455246073]\n",
      "244 : ['Afastamento para participação em Programa de Pós-Graduação', 0.9412585913454313]\n",
      "245 : ['Desacato', 0.9412152836446895]\n",
      "246 : ['Rescisão trabalhista', 0.9411663536625494]\n",
      "247 : ['Evacuação da população', 0.9410280477398281]\n",
      "248 : ['Decisão interlocutória', 0.9408805378395507]\n",
      "249 : ['Processo judicial', 0.9403960349068452]\n",
      "250 : ['Omissão', 0.9402324353669965]\n",
      "251 : ['Concessão em caráter precário', 0.940156807781515]\n",
      "252 : ['Recurso administrativo', 0.9400658800599423]\n",
      "253 : ['Trânsito em julgado', 0.9399593614663062]\n",
      "254 : ['Exceção de pré-executividade', 0.9399157782585748]\n",
      "255 : ['Demissão voluntária', 0.9397991098076609]\n",
      "256 : ['Recebimento definitivo', 0.9397227991289107]\n",
      "257 : ['Indenização', 0.9393939380318067]\n",
      "258 : ['Recurso de reconsideração', 0.9393666044431632]\n",
      "259 : ['Defesa de responsável', 0.9391810012148251]\n",
      "260 : ['Erro material', 0.9389918879281072]\n",
      "261 : ['Ação preventiva', 0.938865908865595]\n",
      "262 : ['Ação rescisória', 0.9387672269317752]\n",
      "263 : ['Contrato de supervisão', 0.9383412188136857]\n",
      "264 : ['Acordo extrajudicial', 0.9382923115568033]\n",
      "265 : ['Negligência', 0.9380378741063565]\n",
      "266 : ['Desvio de objeto', 0.937885359178251]\n",
      "267 : ['Coerção', 0.9376987940731616]\n",
      "268 : ['Excesso de poder', 0.9376070119884522]\n",
      "269 : ['Desaforamento', 0.9375462612917738]\n",
      "270 : ['Impedimento', 0.9374787739158508]\n",
      "271 : ['Impropriedade', 0.9374117465224161]\n",
      "272 : ['Evasão escolar', 0.9373119316853378]\n",
      "273 : ['Desprovimento', 0.9371338347701162]\n",
      "274 : ['Auditoria preventiva', 0.9371216384663831]\n",
      "275 : ['Princípio da finalidade', 0.9369337609786829]\n",
      "276 : ['Diferimento (Direito)', 0.9368972933043725]\n",
      "277 : ['Prisão temporária', 0.9366119085769298]\n",
      "278 : ['Notificação', 0.9364406481815949]\n",
      "279 : ['Execução da despesa', 0.9364140972898027]\n",
      "280 : ['Recebimento provisório', 0.9363818770633856]\n",
      "281 : ['Tomada de contas', 0.9362982479628167]\n",
      "282 : ['Falta funcional', 0.9362839319425142]\n",
      "283 : ['Sonegação de informação', 0.9361032930150246]\n",
      "284 : ['Vício processual', 0.9360092609463783]\n",
      "285 : ['Extrato de contrato', 0.9360008750050914]\n",
      "286 : ['Revisão de ofício', 0.9358834842893132]\n",
      "287 : ['Tempo de inatividade', 0.9358358233598048]\n",
      "288 : ['Estado de exceção', 0.935831679982884]\n",
      "CPU times: user 3 s, sys: 1.05 s, total: 4.05 s\n",
      "Wall time: 4.27 s\n"
     ]
    }
   ],
   "source": [
    "%%time\n",
    "doctos_retornados_ranker = pipe_join_sts_multihop_bm25.run(query=parm_query, \n",
    " params={\"Bm25Retriever\": {\"top_k\": 150}, \"StsRetriever\": {\"top_k\": 150}})\n",
    "util_pipeline.detail_document_found(doctos_retornados_ranker)"
   ]
  },
  {
   "attachments": {},
   "cell_type": "markdown",
   "metadata": {},
   "source": [
    "### sts_multihop"
   ]
  },
  {
   "cell_type": "code",
   "execution_count": null,
   "metadata": {},
   "outputs": [
    {
     "name": "stdout",
     "output_type": "stream",
     "text": [
      "CPU times: user 3.39 s, sys: 715 ms, total: 4.11 s\n",
      "Wall time: 2.16 s\n"
     ]
    }
   ],
   "source": [
    "%%time\n",
    "pipe_sts_multihop = util_pipeline.return_pipeline_sts_multihop(index)"
   ]
  },
  {
   "cell_type": "code",
   "execution_count": null,
   "metadata": {},
   "outputs": [],
   "source": [
    "pipes.append({'PIPE_NAME': 'pipe_sts_multihop',\n",
    "              'PIPE_OBJECT': pipe_sts_multihop,\n",
    "              'RETRIEVER_TYPE': 'sts_multihop',  # in ['sts', 'bm25']\n",
    "              'RETRIEVER_MODEL_NAME': util_pipeline.nome_modelo_embedding_model_sts, # or nome_modelo_embedding_model_sts_rufimelo,\n",
    "              'RANKER_MODEL_NAME': ''})"
   ]
  },
  {
   "cell_type": "code",
   "execution_count": null,
   "metadata": {},
   "outputs": [
    {
     "name": "stdout",
     "output_type": "stream",
     "text": [
      "Parâmetros usados: {'Retriever': {'top_k': 300}}\n",
      "Consulta: A transferência de documentos da entidade para local impróprio ao armazenamento, causando a perda de informações ou inviabilizando seu manuseio, de forma a impedir a atuação do TCU, é causa de responsabilização do gestor que a ordenou.\n",
      "Qtd documentos retornados: 300\n",
      "Primeiro docto:\n",
      "<Document: id=2577, content='O termo é \"Afastamento de responsável\".\n",
      "Afastamento de responsável tem definição: \"No início ou no c...'>\n",
      "\n",
      "Último (300):\n",
      "<Document: id=2550, content='O termo é \"Declaração de nulidade\".\n",
      "Declaração de nulidade tem definição: \"Declaração que torna o co...'>\n",
      "Seguem os nomes dos termos recuperados em ordem de score\n",
      "0 : ['Afastamento de responsável', 0.9930839884285582]\n",
      "1 : ['Rescisão unilateral', 0.9748706914060489]\n",
      "2 : ['Afastamento preventivo', 0.9741557736812957]\n",
      "3 : ['Perda de objeto', 0.9725962719359168]\n",
      "4 : ['Abandono de cargo', 0.9696305808093489]\n",
      "5 : ['Responsabilidade perante o controle externo', 0.9692663708644913]\n",
      "6 : ['Excludente de responsabilidade', 0.9687883274904563]\n",
      "7 : ['Dispensa sem justa causa', 0.9681823105576527]\n",
      "8 : ['Descarte de documentos', 0.9664597032403718]\n",
      "9 : ['Destituição de função', 0.9663881863234739]\n",
      "10 : ['Arquivamento', 0.9650402024103759]\n",
      "11 : ['Expulsão de estrangeiro', 0.9649607308894933]\n",
      "12 : ['Trancamento das contas', 0.9646853808657104]\n",
      "13 : ['Anulação', 0.9641800137270689]\n",
      "14 : ['Ato precário', 0.9639390672390818]\n",
      "15 : ['Preclusão temporal', 0.9636725883461041]\n",
      "16 : ['Decisão terminativa', 0.9620771568531108]\n",
      "17 : ['Atos de pessoal', 0.9609826149159687]\n",
      "18 : ['Processo administrativo disciplinar', 0.9608461294898473]\n",
      "19 : ['Contas irregulares', 0.960790374975503]\n",
      "20 : ['Desfazimento de bens permanentes', 0.9607845730403285]\n",
      "21 : ['Exclusão de acesso', 0.9605946149526053]\n",
      "22 : ['Negativa de registro', 0.9604734597962636]\n",
      "23 : ['Dispensa arbitrária', 0.9583899892226]\n",
      "24 : ['Ciência (Controle externo)', 0.9580335777941639]\n",
      "25 : ['Afastamento de pessoal', 0.9579483807175388]\n",
      "26 : ['Demissão de pessoal', 0.9575770216285534]\n",
      "27 : ['Revogação', 0.9575380061545622]\n",
      "28 : ['Dissolução de empresa', 0.9570041858596294]\n",
      "29 : ['Princípio da motivação', 0.9566980435461419]\n",
      "30 : ['Dispensa com justa causa', 0.9564133798780595]\n",
      "31 : ['Ato de ofício', 0.9563213678624256]\n",
      "32 : ['Demissão de servidor', 0.9560197120609917]\n",
      "33 : ['Aviso prévio', 0.9552976545109074]\n",
      "34 : ['Desvio de função', 0.9549993617864077]\n",
      "35 : ['Ilícito administrativo', 0.9540219688230777]\n",
      "36 : ['Processo modificador', 0.9538438162925188]\n",
      "37 : ['Processo de controle externo', 0.9534003553534076]\n",
      "38 : ['Contas iliquidáveis', 0.9533478576416983]\n",
      "39 : ['Abuso de poder', 0.952866149279673]\n",
      "40 : ['Rescisão contratual', 0.9526561002421039]\n",
      "41 : ['Determinação', 0.9522163619848079]\n",
      "42 : ['Preclusão', 0.9518459061075061]\n",
      "43 : ['Impeachment', 0.9516816880784442]\n",
      "44 : ['Vazamento de dados', 0.9515021740299701]\n",
      "45 : ['Medida Cautelar inaudita altera pars', 0.951377289633948]\n",
      "46 : ['Exceção de coisa julgada', 0.9512418509968635]\n",
      "47 : ['Caducidade da concessão', 0.9509720906402177]\n",
      "48 : ['Afastamento', 0.9508883324695274]\n",
      "49 : ['Indício de irregularidade grave', 0.9506915405691604]\n",
      "50 : ['Obrigação de resultado', 0.9506775693065309]\n",
      "51 : ['Princípio da ampla defesa', 0.9506209426079751]\n",
      "52 : ['Afastamento para exercício de mandato eletivo', 0.950591737266558]\n",
      "53 : ['Remoção de pessoal', 0.9504782353160299]\n",
      "54 : ['Exoneração de pessoal', 0.950429684261479]\n",
      "55 : ['Decesso remuneratório', 0.9499043444161936]\n",
      "56 : ['Erro de execução', 0.9498522596130125]\n",
      "57 : ['Preclusão consumativa', 0.9491847523206469]\n",
      "58 : ['Decadência', 0.9490604567865645]\n",
      "59 : ['Anulação de empenho', 0.9489927316312505]\n",
      "60 : ['Aposentadoria compulsória', 0.9487812699095419]\n",
      "61 : ['Processo apartado', 0.948730512564796]\n",
      "62 : ['Erro de procedimento', 0.9486512672616599]\n",
      "63 : ['Deportação', 0.948078040124372]\n",
      "64 : ['Ação de controle externo', 0.9476747843879454]\n",
      "65 : ['Renúncia', 0.9472555322435076]\n",
      "66 : ['Desaposentação', 0.9470115337290849]\n",
      "67 : ['Direito ao esquecimento', 0.9467558849639838]\n",
      "68 : ['Custo não renovável', 0.9466454818045339]\n",
      "69 : ['Tutela antecipada', 0.9463083006456102]\n",
      "70 : ['Medida cautelar', 0.9461692194897398]\n",
      "71 : ['Destituição de cargo', 0.945688641616802]\n",
      "72 : ['Pena disciplinar', 0.9456636230708965]\n",
      "73 : ['Suspensão temporária', 0.9454837562413523]\n",
      "74 : ['Auto de infração', 0.9453167701755276]\n",
      "75 : ['Tempo em estoque', 0.9452950550652395]\n",
      "76 : ['Princípio da autotutela', 0.9451294433865175]\n",
      "77 : ['Abandono de emprego', 0.945026358770448]\n",
      "78 : ['Exclusão', 0.9446358899071396]\n",
      "79 : ['Controle externo', 0.9444946180184273]\n",
      "80 : ['Extravio', 0.9441342563881083]\n",
      "81 : ['Processo de execução', 0.943865018886969]\n",
      "82 : ['Decisão preliminar', 0.9438484856378389]\n",
      "83 : ['Excludente de ilicitude', 0.9438031547018063]\n",
      "84 : ['Afastamento para estudo ou missão no exterior', 0.9436987363416601]\n",
      "85 : ['Reunião de encerramento', 0.9436856645828283]\n",
      "86 : ['Rescisão judicial', 0.9436468576026761]\n",
      "87 : ['Gestão documental', 0.9435179233021419]\n",
      "88 : ['Irregularidade grave', 0.9432754905561532]\n",
      "89 : ['Risco de controle', 0.943202891655092]\n",
      "90 : ['Cassação de disponibilidade', 0.943126289913147]\n",
      "91 : ['Controle posterior', 0.9430888919173948]\n",
      "92 : ['Sócio remisso', 0.9430428236297762]\n",
      "93 : ['Função de Assessoramento Superior', 0.9426230060236993]\n",
      "94 : ['Cassação de aposentadoria', 0.9425153364539083]\n",
      "95 : ['Reversão de pessoal', 0.94220616498087]\n",
      "96 : ['Sanção administrativa', 0.942143238816106]\n",
      "97 : ['Relatório de monitoramento', 0.9420093276265253]\n",
      "98 : ['Alcance', 0.9420045201971569]\n",
      "99 : ['Extrato de entrevista', 0.9419397473534288]\n",
      "100 : ['Razões de justificativa', 0.941898224279124]\n",
      "101 : ['Cancelamento', 0.9417916359368756]\n",
      "102 : ['Contagem de tempo de serviço', 0.9416659707114732]\n",
      "103 : ['Garantia contratual', 0.9414678486802204]\n",
      "104 : ['Subtração', 0.9414135455246073]\n",
      "105 : ['Afastamento para participação em Programa de Pós-Graduação', 0.9412585913454313]\n",
      "106 : ['Desacato', 0.9412152836446895]\n",
      "107 : ['Rescisão trabalhista', 0.9411663536625494]\n",
      "108 : ['Evacuação da população', 0.9410280477398281]\n",
      "109 : ['Decisão interlocutória', 0.9408805378395507]\n",
      "110 : ['Processo judicial', 0.9403960349068452]\n",
      "111 : ['Omissão', 0.9402324353669965]\n",
      "112 : ['Concessão em caráter precário', 0.940156807781515]\n",
      "113 : ['Recurso administrativo', 0.9400658800599423]\n",
      "114 : ['Trânsito em julgado', 0.9399593614663062]\n",
      "115 : ['Exceção de pré-executividade', 0.9399157782585748]\n",
      "116 : ['Demissão voluntária', 0.9397991098076609]\n",
      "117 : ['Recebimento definitivo', 0.9397227991289107]\n",
      "118 : ['Indenização', 0.9393939380318067]\n",
      "119 : ['Recurso de reconsideração', 0.9393666044431632]\n",
      "120 : ['Defesa de responsável', 0.9391810012148251]\n",
      "121 : ['Erro material', 0.9389918879281072]\n",
      "122 : ['Ação preventiva', 0.938865908865595]\n",
      "123 : ['Ação rescisória', 0.9387672269317752]\n",
      "124 : ['Contrato de supervisão', 0.9383412188136857]\n",
      "125 : ['Acordo extrajudicial', 0.9382923115568033]\n",
      "126 : ['Negligência', 0.9380378741063565]\n",
      "127 : ['Desvio de objeto', 0.937885359178251]\n",
      "128 : ['Coerção', 0.9376987940731616]\n",
      "129 : ['Excesso de poder', 0.9376070119884522]\n",
      "130 : ['Desaforamento', 0.9375462612917738]\n",
      "131 : ['Impedimento', 0.9374787739158508]\n",
      "132 : ['Impropriedade', 0.9374117465224161]\n",
      "133 : ['Evasão escolar', 0.9373119316853378]\n",
      "134 : ['Desprovimento', 0.9371338347701162]\n",
      "135 : ['Auditoria preventiva', 0.9371216384663831]\n",
      "136 : ['Princípio da finalidade', 0.9369337609786829]\n",
      "137 : ['Diferimento (Direito)', 0.9368972933043725]\n",
      "138 : ['Prisão temporária', 0.9366119085769298]\n",
      "139 : ['Notificação', 0.9364406481815949]\n",
      "140 : ['Execução da despesa', 0.9364140972898027]\n",
      "141 : ['Recebimento provisório', 0.9363818770633856]\n",
      "142 : ['Tomada de contas', 0.9362982479628167]\n",
      "143 : ['Falta funcional', 0.9362839319425142]\n",
      "144 : ['Sonegação de informação', 0.9361032930150246]\n",
      "145 : ['Vício processual', 0.9360092609463783]\n",
      "146 : ['Extrato de contrato', 0.9360008750050914]\n",
      "147 : ['Revisão de ofício', 0.9358834842893132]\n",
      "148 : ['Tempo de inatividade', 0.9358358233598048]\n",
      "149 : ['Estado de exceção', 0.935831679982884]\n",
      "150 : ['Cessão de pessoal', 0.935817146169348]\n",
      "151 : ['Encampação', 0.9357052172934271]\n",
      "152 : ['Invalidez permanente', 0.9355681550795771]\n",
      "153 : ['Incapacidade jurídica', 0.935501814880512]\n",
      "154 : ['Tomada de contas especial', 0.9354755024429682]\n",
      "155 : ['Administração contratada', 0.9354697075363827]\n",
      "156 : ['Poder discricionário', 0.9354203104457277]\n",
      "157 : ['Ato omissivo', 0.9352650667149456]\n",
      "158 : ['Ação cautelar', 0.9352396940171527]\n",
      "159 : ['Erro de direito', 0.9352122520238958]\n",
      "160 : ['Ação corretiva', 0.9350531421357698]\n",
      "161 : ['Desarquivamento', 0.9350101936915588]\n",
      "162 : ['Rescisão amigável', 0.9348367953588615]\n",
      "163 : ['Risco de auditoria', 0.934653683748004]\n",
      "164 : ['Incapacidade', 0.9345512454781533]\n",
      "165 : ['Evicção', 0.9345391948992178]\n",
      "166 : ['Distorção não corrigida', 0.9345283659695628]\n",
      "167 : ['Ato protelatório', 0.9344324236110761]\n",
      "168 : ['Abandono escolar', 0.9343172061392796]\n",
      "169 : ['Paralisação', 0.9342335112536638]\n",
      "170 : ['Auxílio-reclusão', 0.9342083158526763]\n",
      "171 : ['Preclusão lógica', 0.9341856938032369]\n",
      "172 : ['Conduta omissiva', 0.934176593766562]\n",
      "173 : ['Irregularidade', 0.9341592512700099]\n",
      "174 : ['Revisão criminal', 0.9341199997339027]\n",
      "175 : ['Administrador provisório', 0.9340135791089196]\n",
      "176 : ['Controle compensatório', 0.9339029247905026]\n",
      "177 : ['Princípio da non reformatio in pejus', 0.9338936649500605]\n",
      "178 : ['Citação', 0.9338280090001873]\n",
      "179 : ['Contestação', 0.9336819036769036]\n",
      "180 : ['Pedido de reexame', 0.9336298099546121]\n",
      "181 : ['Correição parcial', 0.933437956512513]\n",
      "182 : ['Auditoria sem papel', 0.9333560825522424]\n",
      "183 : ['Risco de detecção', 0.9332995181965731]\n",
      "184 : ['Embargos de declaração', 0.9332928569742991]\n",
      "185 : ['Indício de irregularidade', 0.9332363051004994]\n",
      "186 : ['Prescrição', 0.933219542751346]\n",
      "187 : ['Abuso de direito', 0.9329860848695286]\n",
      "188 : ['Representação administrativa', 0.9329209064503583]\n",
      "189 : ['Efeito suspensivo', 0.9329041957953766]\n",
      "190 : ['Derrogação', 0.9328730172836445]\n",
      "191 : ['Curador especial', 0.9325900448396693]\n",
      "192 : ['Ofício de requisição', 0.9325472834824717]\n",
      "193 : ['Responsabilidade civil', 0.9325331289642702]\n",
      "194 : ['Desaparecimento', 0.9325277180650576]\n",
      "195 : ['Pedido de reconsideração', 0.9323797062211973]\n",
      "196 : ['Contas regulares com ressalva', 0.9321320763332352]\n",
      "197 : ['Prevaricação', 0.9320646714284133]\n",
      "198 : ['Encerrar', 0.9320290768789962]\n",
      "199 : ['Competência superveniente', 0.9317728829093163]\n",
      "200 : ['Erro de julgamento', 0.9314033035154865]\n",
      "201 : ['Rol de inelegíveis', 0.9311324218565812]\n",
      "202 : ['Princípio da segregação de funções', 0.9309826038037394]\n",
      "203 : ['Modulação de efeitos', 0.930885452769265]\n",
      "204 : ['Quitação', 0.9308623519522501]\n",
      "205 : ['Audiência', 0.930792233595942]\n",
      "206 : ['Advertência (Licitação)', 0.9307903654491108]\n",
      "207 : ['Recurso de revisão', 0.9306924479284809]\n",
      "208 : ['Infração', 0.9306527674499231]\n",
      "209 : ['Desapropriação judicial', 0.9306374703367478]\n",
      "210 : ['Encaminhamento das contas', 0.930468672388354]\n",
      "211 : ['Caso negativo', 0.9304603260477395]\n",
      "212 : ['Decisão rescindenda', 0.930407185362164]\n",
      "213 : ['Sobrestamento de processo', 0.9302978085055764]\n",
      "214 : ['Erro acidental', 0.9301570309773419]\n",
      "215 : ['Condenação civil', 0.9301147269637645]\n",
      "216 : ['Controle incidental', 0.9298962022053742]\n",
      "217 : ['Controle abstrato', 0.9298508169058634]\n",
      "218 : ['Periculum in mora reverso', 0.9297581361994394]\n",
      "219 : ['Construção participativa de deliberações', 0.9297289379397513]\n",
      "220 : ['Exame do desempenho', 0.9297224696936269]\n",
      "221 : ['Omissão no dever de prestar contas', 0.9296833871693714]\n",
      "222 : ['Ação inibitória', 0.929589062048194]\n",
      "223 : ['Excludente de culpabilidade', 0.9292400540186413]\n",
      "224 : ['Reexecução', 0.929201842011011]\n",
      "225 : ['Falta grave', 0.929148931989595]\n",
      "226 : ['Despesas de exercícios anteriores', 0.9288144407706419]\n",
      "227 : ['Período de trânsito', 0.9287719812144342]\n",
      "228 : ['Ataque externo', 0.92859938960508]\n",
      "229 : ['Ressarcimento administrativo', 0.9285552194913663]\n",
      "230 : ['Controle repressivo', 0.9284039483930326]\n",
      "231 : ['Conduta irregular', 0.9283929800583376]\n",
      "232 : ['Distanciamento social ', 0.9283764249082831]\n",
      "233 : ['Fase externa', 0.9282984552275516]\n",
      "234 : ['Verba indenizatória', 0.9282047482441077]\n",
      "235 : ['Benefício das ações de controle externo', 0.9281857533284571]\n",
      "236 : ['Livre exoneração', 0.9280540612196406]\n",
      "237 : ['Substituição de pessoal', 0.9280141227045536]\n",
      "238 : ['Desafetação', 0.927945752373276]\n",
      "239 : ['Trajetória de controle externo', 0.9275237178243594]\n",
      "240 : ['Dispensa', 0.927383903292129]\n",
      "241 : ['Responsabilidade objetiva', 0.9273066904060103]\n",
      "242 : ['Estabilidade', 0.9271924843891822]\n",
      "243 : ['Afastamento para servir a outro órgão ou entidade', 0.9268865615420242]\n",
      "244 : ['Culpa in vigilando', 0.9268591786029914]\n",
      "245 : ['Alegação de defesa', 0.9267955649524767]\n",
      "246 : ['Desmobilização', 0.926653233416122]\n",
      "247 : ['Falsidade documental', 0.9265054721812327]\n",
      "248 : ['Desestatização', 0.926462085101764]\n",
      "249 : ['Apreciação conclusiva', 0.9263469986901954]\n",
      "250 : ['Sigilo de correspondência', 0.926246640302686]\n",
      "251 : ['Inexecução', 0.9261906717638859]\n",
      "252 : ['Controle de segurança', 0.9261207758610802]\n",
      "253 : ['Documento sigiloso', 0.9258752485095326]\n",
      "254 : ['Declaração de inidoneidade', 0.9258200508733748]\n",
      "255 : ['Prevenção de perda de dados', 0.9255832480412837]\n",
      "256 : ['Pagamento indevido', 0.9255371549361735]\n",
      "257 : ['Riscos fiscais', 0.9255098587573884]\n",
      "258 : ['Renovação de contrato', 0.9254486156927831]\n",
      "259 : ['Imperícia', 0.9254199783446573]\n",
      "260 : ['Benefício efetivo', 0.9253943686835662]\n",
      "261 : ['Disponibilidade de pessoal', 0.9253086452577504]\n",
      "262 : ['Arguição de suspeição', 0.9251649716136089]\n",
      "263 : ['Erro judiciário', 0.9251636561427911]\n",
      "264 : ['Cadastro Integrado de Condenações por Ilícitos Administrativos', 0.9251446140534989]\n",
      "265 : ['Produção de prova', 0.9250980633734536]\n",
      "266 : ['Inviabilidade', 0.9249939208602727]\n",
      "267 : ['Tratamento de artefatos maliciosos', 0.9249887865664286]\n",
      "268 : ['Suspensão de pagamento', 0.9249520738965226]\n",
      "269 : ['Procedimento alternativo de auditoria', 0.9249324963133042]\n",
      "270 : ['Excesso de exação', 0.9247317989786851]\n",
      "271 : ['Cronograma de desembolso', 0.9246783265125317]\n",
      "272 : ['Nulidade absoluta', 0.9246520648919998]\n",
      "273 : ['Serviços não contínuos', 0.9245580253637039]\n",
      "274 : ['Ato disciplinar', 0.9245032529828513]\n",
      "275 : ['Decurso de prazo', 0.9244572438983552]\n",
      "276 : ['Posse (Pessoal)', 0.9244318196490182]\n",
      "277 : ['Ressarcimento', 0.9243852813137805]\n",
      "278 : ['Administração da justiça', 0.9243642395890357]\n",
      "279 : ['Falecimento de responsável', 0.9243487169984749]\n",
      "280 : ['Culpabilidade', 0.9242359156569214]\n",
      "281 : ['Confisco', 0.9241802979584273]\n",
      "282 : ['Informação reservada', 0.9241638996993318]\n",
      "283 : ['Desclassificação', 0.9241539470318474]\n",
      "284 : ['Indício de irregularidade grave com recomendação de paralisação', 0.9241185422672243]\n",
      "285 : ['Taxa tolerável de desvio', 0.9241153866512042]\n",
      "286 : ['Preparo (Direito)', 0.924062213946603]\n",
      "287 : ['Observação', 0.9240224172864854]\n",
      "288 : ['Reembolso', 0.9239438908902561]\n",
      "289 : ['Aposentado', 0.9239096615657405]\n",
      "290 : ['Decisão', 0.9239054434225252]\n",
      "291 : ['Medida administrativa', 0.9238917329751096]\n",
      "292 : ['Licença sem remuneração', 0.9237913316152498]\n",
      "293 : ['Efeito ex tunc', 0.9237403457168853]\n",
      "294 : ['Cargo em comissão', 0.9236965884057176]\n",
      "295 : ['Ato discricionário', 0.9236914431189058]\n",
      "296 : ['Incidente de segurança da informação', 0.9236666285008434]\n",
      "297 : ['Tabela de temporalidade', 0.9236444864868449]\n",
      "298 : ['Exação', 0.9235967271296159]\n",
      "299 : ['Declaração de nulidade', 0.9235252132805586]\n",
      "CPU times: user 73.4 ms, sys: 517 µs, total: 73.9 ms\n",
      "Wall time: 343 ms\n"
     ]
    }
   ],
   "source": [
    "%%time\n",
    "doctos_retornados_ranker = pipe_sts_multihop.run(query=parm_query, \n",
    " params={\"Retriever\": {\"top_k\": 300}})\n",
    "util_pipeline.detail_document_found(doctos_retornados_ranker)"
   ]
  },
  {
   "attachments": {},
   "cell_type": "markdown",
   "metadata": {},
   "source": [
    "### sts"
   ]
  },
  {
   "cell_type": "code",
   "execution_count": null,
   "metadata": {},
   "outputs": [
    {
     "name": "stdout",
     "output_type": "stream",
     "text": [
      "CPU times: user 3.39 s, sys: 656 ms, total: 4.05 s\n",
      "Wall time: 2.1 s\n"
     ]
    }
   ],
   "source": [
    "%%time\n",
    "pipe_sts = util_pipeline.return_pipeline_sts(index)"
   ]
  },
  {
   "cell_type": "code",
   "execution_count": null,
   "metadata": {},
   "outputs": [],
   "source": [
    "pipes.append({'PIPE_NAME': 'pipe_sts',\n",
    "              'PIPE_OBJECT': pipe_sts,\n",
    "              'RETRIEVER_TYPE': 'sts',  # in ['sts', 'bm25']\n",
    "              'RETRIEVER_MODEL_NAME': util_pipeline.nome_modelo_embedding_model_sts, # or nome_modelo_embedding_model_sts_rufimelo,\n",
    "              'RANKER_MODEL_NAME': ''})"
   ]
  },
  {
   "cell_type": "code",
   "execution_count": null,
   "metadata": {},
   "outputs": [
    {
     "name": "stdout",
     "output_type": "stream",
     "text": [
      "Parâmetros usados: {'Retriever': {'top_k': 300}}\n",
      "Consulta: A transferência de documentos da entidade para local impróprio ao armazenamento, causando a perda de informações ou inviabilizando seu manuseio, de forma a impedir a atuação do TCU, é causa de responsabilização do gestor que a ordenou.\n",
      "Qtd documentos retornados: 300\n",
      "Primeiro docto:\n",
      "<Document: id=2577, content='O termo é \"Afastamento de responsável\".\n",
      "Afastamento de responsável tem definição: \"No início ou no c...'>\n",
      "\n",
      "Último (300):\n",
      "<Document: id=1103641, content='O termo é \"Falta grave\".\n",
      "Falta grave tem nota de escopo: \"Está prevista em várias normatizações que ...'>\n",
      "Seguem os nomes dos termos recuperados em ordem de score\n",
      "0 : ['Afastamento de responsável', '2577', 0.9546168861748239]\n",
      "1 : ['Risco de controle', '1101311', 0.943127201770828]\n",
      "2 : ['Vazamento de dados', '1110487', 0.942404112002669]\n",
      "3 : ['Trancamento das contas', '2663', 0.9341491636096659]\n",
      "4 : ['Revisão de ofício', '15291', 0.9297291992714615]\n",
      "5 : ['Responsabilidade perante o controle externo', '5098', 0.9294792178601551]\n",
      "6 : ['Erro de procedimento', '15939', 0.9280039678494807]\n",
      "7 : ['Ato vinculado', '6397', 0.9275481833601299]\n",
      "8 : ['Termo de sigilo', '1000057', 0.925026523026082]\n",
      "9 : ['Anulação', '83', 0.924645376239448]\n",
      "10 : ['Atos de pessoal', '1102044', 0.9229926926844242]\n",
      "CPU times: user 2.93 s, sys: 1.01 s, total: 3.93 s\n",
      "Wall time: 4.05 s\n"
     ]
    }
   ],
   "source": [
    "%%time\n",
    "doctos_retornados_ranker = pipe_sts.run(query=parm_query, \n",
    " params={\"Retriever\": {\"top_k\": 300}})\n",
    "util_pipeline.detail_document_found(doctos_retornados_ranker)"
   ]
  },
  {
   "attachments": {},
   "cell_type": "markdown",
   "metadata": {},
   "source": [
    "### bm25"
   ]
  },
  {
   "cell_type": "code",
   "execution_count": null,
   "metadata": {},
   "outputs": [
    {
     "name": "stdout",
     "output_type": "stream",
     "text": [
      "CPU times: user 268 µs, sys: 0 ns, total: 268 µs\n",
      "Wall time: 273 µs\n"
     ]
    }
   ],
   "source": [
    "%%time\n",
    "pipe_bm25 = util_pipeline.return_pipeline_bm25(index)"
   ]
  },
  {
   "cell_type": "code",
   "execution_count": null,
   "metadata": {},
   "outputs": [],
   "source": [
    "pipes.append({'PIPE_NAME': 'pipe_bm25',\n",
    "              'PIPE_OBJECT': pipe_bm25,\n",
    "              'RETRIEVER_TYPE': 'bm25', \n",
    "              'RETRIEVER_MODEL_NAME': '', # or nome_modelo_embedding_model_sts_rufimelo,\n",
    "              'RANKER_MODEL_NAME': ''})"
   ]
  },
  {
   "cell_type": "code",
   "execution_count": null,
   "metadata": {},
   "outputs": [
    {
     "name": "stdout",
     "output_type": "stream",
     "text": [
      "Parâmetros usados: {'Retriever': {'top_k': 300}}\n",
      "Consulta: A transferência de documentos da entidade para local impróprio ao armazenamento, causando a perda de informações ou inviabilizando seu manuseio, de forma a impedir a atuação do TCU, é causa de responsabilização do gestor que a ordenou.\n",
      "Qtd documentos retornados: 300\n",
      "Primeiro docto:\n",
      "<Document: id=1102005, content='O termo é \"Plano de contratações\".\n",
      "Plano de contratações tem definição: \"É o documento no qual a org...'>\n",
      "\n",
      "Último (300):\n",
      "<Document: id=6150, content='O termo é \"Gestão de risco\".\n",
      "Gestão de risco tem definição: \"Identificar, analisar e eliminar, se po...'>\n",
      "Seguem os nomes dos termos recuperados em ordem de score\n",
      "0 : ['Plano de contratações', '1102005', 0.981894035831847]\n",
      "1 : ['Competência do TCU', '5095', 0.981022770821533]\n",
      "2 : ['Nexo de causalidade', '4495', 0.9782476752974565]\n",
      "3 : ['Teletrabalho', '5949', 0.977450618284214]\n",
      "4 : ['Evidência documental', '1101364', 0.9766837588293696]\n",
      "5 : ['Processo administrativo de responsabilização', '1104189', 0.976454696921547]\n",
      "6 : ['Papéis de trabalho', '15181', 0.976140477988525]\n",
      "7 : ['Ofício de requisição', '1101404', 0.975916648171194]\n",
      "8 : ['Julgamento de contas', '874', 0.9732691705914434]\n",
      "9 : ['Matriz de fiscalização', '6627', 0.972325706163406]\n",
      "10 : ['Gestão documental', '6136', 0.9697733602941567]\n",
      "CPU times: user 10.4 ms, sys: 405 µs, total: 10.8 ms\n",
      "Wall time: 139 ms\n"
     ]
    }
   ],
   "source": [
    "%%time\n",
    "doctos_retornados_ranker = pipe_bm25.run(query=parm_query, \n",
    " params={\"Retriever\": {\"top_k\": 300}})\n",
    "util_pipeline.detail_document_found(doctos_retornados_ranker)"
   ]
  },
  {
   "cell_type": "code",
   "execution_count": null,
   "metadata": {},
   "outputs": [],
   "source": []
  },
  {
   "attachments": {},
   "cell_type": "markdown",
   "metadata": {},
   "source": [
    "## With rankers"
   ]
  },
  {
   "cell_type": "code",
   "execution_count": 41,
   "metadata": {},
   "outputs": [],
   "source": [
    "ranker_type = 'PTT5_INDIR_5200' # 'MINILM_INDIR' # 'MT5_3B' # 'MT5_TRAINED_LIM50_800' # 'MINILM_TRAINED_19000'"
   ]
  },
  {
   "cell_type": "code",
   "execution_count": 42,
   "metadata": {},
   "outputs": [
    {
     "data": {
      "text/plain": [
       "<module 'util.util_pipeline_v2' from '/home/borela/fontes/ind-ir/code/util/util_pipeline_v2.py'>"
      ]
     },
     "execution_count": 42,
     "metadata": {},
     "output_type": "execute_result"
    }
   ],
   "source": [
    "importlib.reload(util_pipeline)"
   ]
  },
  {
   "attachments": {},
   "cell_type": "markdown",
   "metadata": {},
   "source": [
    "### First stage = sts_multihop"
   ]
  },
  {
   "cell_type": "code",
   "execution_count": null,
   "metadata": {},
   "outputs": [
    {
     "data": {
      "text/plain": [
       "<module 'util.util_search' from '/home/borela/fontes/ind-ir/code/util/util_search.py'>"
      ]
     },
     "execution_count": 40,
     "metadata": {},
     "output_type": "execute_result"
    }
   ],
   "source": [
    "importlib.reload(util_experiment)"
   ]
  },
  {
   "cell_type": "code",
   "execution_count": null,
   "metadata": {},
   "outputs": [
    {
     "name": "stdout",
     "output_type": "stream",
     "text": [
      "CPU times: user 39.1 s, sys: 7.6 s, total: 46.7 s\n",
      "Wall time: 36.4 s\n"
     ]
    }
   ],
   "source": [
    "%%time\n",
    "pipe_sts_multihop_ranker_monot5_3b = util_pipeline.return_pipeline_sts_multihop_reranker(index, 'MONOT5', parm_limit_query_size=350)"
   ]
  },
  {
   "cell_type": "code",
   "execution_count": null,
   "metadata": {},
   "outputs": [],
   "source": [
    "pipes.append({'PIPE_NAME': 'pipe_sts_multihop_ranker_monot5_3b',\n",
    "              'PIPE_OBJECT': pipe_sts_multihop_ranker_monot5_3b,\n",
    "              'RETRIEVER_TYPE': 'sts_multihop',  # in ['sts', 'bm25']\n",
    "              'RETRIEVER_MODEL_NAME': util_pipeline.nome_modelo_embedding_model_sts, # or nome_modelo_embedding_model_sts_rufimelo,\n",
    "              'RANKER_MODEL_NAME': util_pipeline.nome_modelo_monot5_3b})"
   ]
  },
  {
   "cell_type": "code",
   "execution_count": null,
   "metadata": {},
   "outputs": [
    {
     "name": "stdout",
     "output_type": "stream",
     "text": [
      "Parâmetros usados: {'Retriever': {'filters': {'class': ['Termo']}}}\n",
      "Consulta: A transferência de documentos da entidade para local impróprio ao armazenamento, causando a perda de informações ou inviabilizando seu manuseio, de forma a impedir a atuação do TCU, é causa de responsabilização do gestor que a ordenou.\n",
      "Qtd documentos retornados: 10\n",
      "Primeiro docto:\n",
      "<Document: id=5098, content='O termo é \"Responsabilidade perante o controle externo\".\n",
      "Responsabilidade perante o controle externo...'>\n",
      "\n",
      "Último (10):\n",
      "<Document: id=5450, content='O termo é \"Dispensa sem justa causa\".\n",
      "Dispensa sem justa causa tem definição: \"Art. 477.  Na extinçã...'>\n",
      "Seguem os nomes dos termos recuperados em ordem de score\n",
      "0 : ['Responsabilidade perante o controle externo', -0.29318735003471375]\n",
      "1 : ['Afastamento de responsável', -0.8160551190376282]\n",
      "2 : ['Descarte de documentos', -1.4474653005599976]\n",
      "3 : ['Excludente de responsabilidade', -2.6080782413482666]\n",
      "4 : ['Perda de objeto', -2.8628034591674805]\n",
      "5 : ['Afastamento preventivo', -5.166513919830322]\n",
      "6 : ['Abandono de cargo', -5.237979888916016]\n",
      "7 : ['Rescisão unilateral', -5.300616264343262]\n",
      "8 : ['Destituição de função', -5.859151363372803]\n",
      "9 : ['Dispensa sem justa causa', -6.185722351074219]\n",
      "CPU times: user 788 ms, sys: 299 ms, total: 1.09 s\n",
      "Wall time: 1.17 s\n"
     ]
    }
   ],
   "source": [
    "%%time\n",
    "doctos_retornados_ranker = pipe_sts_multihop_ranker_monot5_3b.run(query=parm_query, params= {'Retriever': {'filters':{'class':['Termo']}}}) \n",
    "util_pipeline.detail_document_found(doctos_retornados_ranker)"
   ]
  },
  {
   "attachments": {},
   "cell_type": "markdown",
   "metadata": {},
   "source": [
    "### First stage = Join bm25 + sts"
   ]
  },
  {
   "cell_type": "code",
   "execution_count": null,
   "metadata": {},
   "outputs": [
    {
     "data": {
      "text/plain": [
       "<module 'util.util_experiment_juris_tcu_index' from '/home/borela/fontes/ind-ir/code/util/util_experiment_juris_tcu_index.py'>"
      ]
     },
     "execution_count": 40,
     "metadata": {},
     "output_type": "execute_result"
    }
   ],
   "source": [
    "import importlib\n",
    "importlib.reload(util_experiment)"
   ]
  },
  {
   "cell_type": "code",
   "execution_count": null,
   "metadata": {},
   "outputs": [
    {
     "name": "stdout",
     "output_type": "stream",
     "text": [
      "Loading MINILM_TRAINED_49200 with limit_query_size=350\n",
      "CPU times: user 10.3 s, sys: 2.04 s, total: 12.3 s\n",
      "Wall time: 6.77 s\n"
     ]
    }
   ],
   "source": [
    "%%time\n",
    "pipe_join_bm25_sts_reranker = util_pipeline.return_pipeline_join_bm25_sts_reranker(index, ranker_type, parm_limit_query_size=350)"
   ]
  },
  {
   "cell_type": "code",
   "execution_count": null,
   "metadata": {},
   "outputs": [],
   "source": [
    "pipes.append({'PIPE_NAME': 'pipe_join_bm25_sts_reranker',\n",
    "              'PIPE_OBJECT': pipe_join_bm25_sts_reranker,\n",
    "              'RETRIEVER_TYPE': 'join_sts_bm25',  \n",
    "              'RETRIEVER_MODEL_NAME': '', \n",
    "              'RANKER_MODEL_NAME': util_pipeline.return_ranker_name(ranker_type)})"
   ]
  },
  {
   "cell_type": "code",
   "execution_count": null,
   "metadata": {},
   "outputs": [],
   "source": [
    "%%time\n",
    "doctos_retornados_ranker = pipe_join_bm25_sts_reranker.run(query=parm_query, \n",
    " params={\"Bm25Retriever\": {\"top_k\": 300}, \"StsRetriever\": {\"top_k\": 300}, \"Ranker\": {\"top_k\": 10}})\n",
    "util_pipeline.detail_document_found(doctos_retornados_ranker)"
   ]
  },
  {
   "attachments": {},
   "cell_type": "markdown",
   "metadata": {},
   "source": [
    "### First stage = BM25"
   ]
  },
  {
   "cell_type": "code",
   "execution_count": 43,
   "metadata": {},
   "outputs": [
    {
     "name": "stdout",
     "output_type": "stream",
     "text": [
      "Loading PTT5_INDIR_5200 with limit_query_size=350\n",
      "CPU times: user 7.97 s, sys: 1.55 s, total: 9.52 s\n",
      "Wall time: 6.51 s\n"
     ]
    }
   ],
   "source": [
    "%%time\n",
    "pipe_bm25_ranker = util_pipeline.return_pipeline_bm25_reranker(index, ranker_type, parm_limit_query_size=350)"
   ]
  },
  {
   "cell_type": "code",
   "execution_count": 44,
   "metadata": {},
   "outputs": [],
   "source": [
    "pipes.append({'PIPE_NAME': 'pipe_bm25_ranker',\n",
    "              'PIPE_OBJECT': pipe_bm25_ranker,\n",
    "              'RETRIEVER_TYPE': 'bm25',  \n",
    "              'RETRIEVER_MODEL_NAME': '', \n",
    "              'RANKER_MODEL_NAME': util_pipeline.return_ranker_name(ranker_type)})"
   ]
  },
  {
   "cell_type": "code",
   "execution_count": 45,
   "metadata": {},
   "outputs": [
    {
     "name": "stdout",
     "output_type": "stream",
     "text": [
      "Parâmetros usados: {}\n",
      "Consulta: A transferência de documentos da entidade para local impróprio ao armazenamento, causando a perda de informações ou inviabilizando seu manuseio, de forma a impedir a atuação do TCU, é causa de responsabilização do gestor que a ordenou.\n",
      "Qtd documentos retornados: 10\n",
      "Seguem os nomes dos termos recuperados em ordem de score\n",
      "0 : ['Competência do TCU', '5095', -0.13800208270549774]\n",
      "1 : ['Nexo de causalidade', '4495', -0.18137602508068085]\n",
      "2 : ['Papéis de trabalho', '15181', -1.0923926830291748]\n",
      "3 : ['Evidência documental', '1101364', -1.6396220922470093]\n",
      "4 : ['Julgamento de contas', '874', -3.0505428314208984]\n",
      "5 : ['Processo administrativo de responsabilização', '1104189', -3.3401060104370117]\n",
      "6 : ['Ofício de requisição', '1101404', -3.5084125995635986]\n",
      "7 : ['Matriz de fiscalização', '6627', -3.9182260036468506]\n",
      "8 : ['Teletrabalho', '5949', -5.3566412925720215]\n",
      "9 : ['Plano de contratações', '1102005', -8.301259994506836]\n"
     ]
    }
   ],
   "source": [
    "doctos_retornados_ranker = pipe_bm25_ranker.run(query=parm_query)\n",
    "util_pipeline.detail_document_found(doctos_retornados_ranker)"
   ]
  },
  {
   "attachments": {},
   "cell_type": "markdown",
   "metadata": {},
   "source": [
    "### First stage = Sentence Similarity"
   ]
  },
  {
   "cell_type": "code",
   "execution_count": null,
   "metadata": {},
   "outputs": [
    {
     "name": "stdout",
     "output_type": "stream",
     "text": [
      "CPU times: user 3.18 s, sys: 538 ms, total: 3.72 s\n",
      "Wall time: 1.97 s\n"
     ]
    }
   ],
   "source": [
    "%%time\n",
    "pipe_sts_ranker = util_pipeline.return_pipeline_sts_reranker(index, ranker_type, parm_limit_query_size=350)"
   ]
  },
  {
   "cell_type": "code",
   "execution_count": null,
   "metadata": {},
   "outputs": [],
   "source": [
    "pipes.append({'PIPE_NAME': 'pipe_sts_ranker',\n",
    "              'PIPE_OBJECT': pipe_sts_ranker,\n",
    "              'RETRIEVER_TYPE': 'sts',  \n",
    "              'RETRIEVER_MODEL_NAME': '', \n",
    "              'RANKER_MODEL_NAME': util_pipeline.return_ranker_name(ranker_type)})"
   ]
  },
  {
   "cell_type": "code",
   "execution_count": null,
   "metadata": {},
   "outputs": [
    {
     "name": "stdout",
     "output_type": "stream",
     "text": [
      "Parâmetros usados: {}\n",
      "Consulta: A transferência de documentos da entidade para local impróprio ao armazenamento, causando a perda de informações ou inviabilizando seu manuseio, de forma a impedir a atuação do TCU, é causa de responsabilização do gestor que a ordenou.\n",
      "Qtd documentos retornados: 10\n",
      "Primeiro docto:\n",
      "<Document: id=6397, content='O termo é \"Ato vinculado\".\n",
      "Ato vinculado tem definição: \"São aqueles praticados sem liberdade subjet...'>\n",
      "\n",
      "Último (10):\n",
      "<Document: id=2577, content='O termo é \"Afastamento de responsável\".\n",
      "Afastamento de responsável tem definição: \"No início ou no c...'>\n",
      "Seguem os nomes dos termos recuperados em ordem de score\n",
      "0 : ['Ato vinculado', '6397', -0.13649512827396393]\n",
      "1 : ['Anulação', '83', -0.6348891854286194]\n",
      "2 : ['Vazamento de dados', '1110487', -0.6923255920410156]\n",
      "3 : ['Revisão de ofício', '15291', -0.9530811905860901]\n",
      "4 : ['Risco de controle', '1101311', -1.4396014213562012]\n",
      "5 : ['Erro de procedimento', '15939', -1.492534875869751]\n",
      "6 : ['Termo de sigilo', '1000057', -1.8838099241256714]\n",
      "7 : ['Responsabilidade perante o controle externo', '5098', -2.329918622970581]\n",
      "8 : ['Trancamento das contas', '2663', -2.547696352005005]\n",
      "9 : ['Afastamento de responsável', '2577', -2.7181313037872314]\n"
     ]
    }
   ],
   "source": [
    "doctos_retornados_ranker = pipe_sts_ranker.run(query=parm_query)\n",
    "util_pipeline.detail_document_found(doctos_retornados_ranker)"
   ]
  },
  {
   "cell_type": "code",
   "execution_count": null,
   "metadata": {},
   "outputs": [],
   "source": []
  },
  {
   "attachments": {},
   "cell_type": "markdown",
   "metadata": {},
   "source": [
    "## Impressão de pipe"
   ]
  },
  {
   "cell_type": "code",
   "execution_count": null,
   "metadata": {},
   "outputs": [
    {
     "name": "stdout",
     "output_type": "stream",
     "text": [
      "huggingface/tokenizers: The current process just got forked, after parallelism has already been used. Disabling parallelism to avoid deadlocks...\n",
      "To disable this warning, you can either:\n",
      "\t- Avoid using `tokenizers` before the fork if possible\n",
      "\t- Explicitly set the environment variable TOKENIZERS_PARALLELISM=(true | false)\n",
      "huggingface/tokenizers: The current process just got forked, after parallelism has already been used. Disabling parallelism to avoid deadlocks...\n",
      "To disable this warning, you can either:\n",
      "\t- Avoid using `tokenizers` before the fork if possible\n",
      "\t- Explicitly set the environment variable TOKENIZERS_PARALLELISM=(true | false)\n"
     ]
    },
    {
     "data": {
      "image/png": "[encoded data removed]",
      "text/plain": [
       "<Figure size 432x288 with 1 Axes>"
      ]
     },
     "metadata": {
      "needs_background": "light"
     },
     "output_type": "display_data"
    }
   ],
   "source": [
    "util_pipeline.imprime_pipe(pipe_join_sts_multihop_bm25)"
   ]
  },
  {
   "attachments": {},
   "cell_type": "markdown",
   "metadata": {},
   "source": [
    "# Experiments"
   ]
  },
  {
   "cell_type": "code",
   "execution_count": null,
   "metadata": {},
   "outputs": [],
   "source": [
    "# del pipes[1]"
   ]
  },
  {
   "cell_type": "code",
   "execution_count": 46,
   "metadata": {},
   "outputs": [
    {
     "data": {
      "text/plain": [
       "[{'PIPE_NAME': 'pipe_bm25_ranker',\n",
       "  'PIPE_OBJECT': <haystack.pipelines.base.Pipeline at 0x7f1ea346f510>,\n",
       "  'RETRIEVER_TYPE': 'bm25',\n",
       "  'RETRIEVER_MODEL_NAME': '',\n",
       "  'RANKER_MODEL_NAME': 'unicamp-dl/ptt5-base-pt-msmarco-100k-v2-indir-5200'}]"
      ]
     },
     "execution_count": 46,
     "metadata": {},
     "output_type": "execute_result"
    }
   ],
   "source": [
    "pipes"
   ]
  },
  {
   "cell_type": "code",
   "execution_count": 47,
   "metadata": {},
   "outputs": [],
   "source": [
    "grid_experiment = { 'CRITERIA' : [\"area\", \"theme\", \"subtheme\", \"extra\", \"total\", \"total_gte_5\"],\n",
    "     # 'CRITERIA' : [\"area\", \"theme\", \"subtheme\", \"extra\", \"total\"],\n",
    "             'TOPK_RETRIEVER' : [300],\n",
    "             'TOPK_RANKER' : [0],\n",
    "             'PIPE': pipes,\n",
    "             'DONE': [False]\n",
    "}"
   ]
  },
  {
   "cell_type": "code",
   "execution_count": 48,
   "metadata": {},
   "outputs": [],
   "source": [
    "list_experiment = [dict(zip(grid_experiment.keys(), values)) for values in product(*grid_experiment.values())]\n"
   ]
  },
  {
   "cell_type": "code",
   "execution_count": 49,
   "metadata": {},
   "outputs": [
    {
     "name": "stdout",
     "output_type": "stream",
     "text": [
      "6\n"
     ]
    },
    {
     "data": {
      "text/plain": [
       "92"
      ]
     },
     "execution_count": 49,
     "metadata": {},
     "output_type": "execute_result"
    }
   ],
   "source": [
    "print(len(list_experiment))\n",
    "gc.collect()"
   ]
  },
  {
   "cell_type": "code",
   "execution_count": 50,
   "metadata": {},
   "outputs": [
    {
     "data": {
      "text/plain": [
       "<module 'util.util_experiment_juris_tcu_index' from '/home/borela/fontes/ind-ir/code/util/util_experiment_juris_tcu_index.py'>"
      ]
     },
     "execution_count": 50,
     "metadata": {},
     "output_type": "execute_result"
    }
   ],
   "source": [
    "importlib.reload(util_experiment)"
   ]
  },
  {
   "cell_type": "code",
   "execution_count": 51,
   "metadata": {},
   "outputs": [
    {
     "name": "stdout",
     "output_type": "stream",
     "text": [
      "===0/6===>  2023-Jun-27 21:19:08 experiment: {'CRITERIA': 'area', 'TOPK_RETRIEVER': 300, 'TOPK_RANKER': 0, 'PIPE': {'PIPE_NAME': 'pipe_bm25_ranker', 'PIPE_OBJECT': <haystack.pipelines.base.Pipeline object at 0x7f1ea346f510>, 'RETRIEVER_TYPE': 'bm25', 'RETRIEVER_MODEL_NAME': '', 'RANKER_MODEL_NAME': 'unicamp-dl/ptt5-base-pt-msmarco-100k-v2-indir-5200'}, 'DONE': False}\n",
      "Experimento envolverá 100 registros, queries selecionadas para validação\n"
     ]
    },
    {
     "name": "stderr",
     "output_type": "stream",
     "text": [
      "100%|██████████| 100/100 [00:15<00:00,  6.34it/s]\n"
     ]
    },
    {
     "name": "stdout",
     "output_type": "stream",
     "text": [
      "RANK1_MEAN: 1.6\n",
      "NDCG_MEAN: 85.662\n",
      "TIME_SPENT_MEAN: 0.158\n",
      "COUNT_QUERY_RUN: 100\n",
      "COUNT_QUERY_WITHOUT_RESULT: 0\n",
      "COUNT_QUERY_NOT_FOUND: 0\n",
      "===1/6===>  2023-Jun-27 21:19:24 experiment: {'CRITERIA': 'theme', 'TOPK_RETRIEVER': 300, 'TOPK_RANKER': 0, 'PIPE': {'PIPE_NAME': 'pipe_bm25_ranker', 'PIPE_OBJECT': <haystack.pipelines.base.Pipeline object at 0x7f1ea346f510>, 'RETRIEVER_TYPE': 'bm25', 'RETRIEVER_MODEL_NAME': '', 'RANKER_MODEL_NAME': 'unicamp-dl/ptt5-base-pt-msmarco-100k-v2-indir-5200'}, 'DONE': False}\n",
      "Experimento envolverá 100 registros, queries selecionadas para validação\n"
     ]
    },
    {
     "name": "stderr",
     "output_type": "stream",
     "text": [
      "100%|██████████| 100/100 [05:57<00:00,  3.57s/it]\n"
     ]
    },
    {
     "name": "stdout",
     "output_type": "stream",
     "text": [
      "RANK1_MEAN: 5.854\n",
      "NDCG_MEAN: 60.771\n",
      "TIME_SPENT_MEAN: 3.573\n",
      "COUNT_QUERY_RUN: 100\n",
      "COUNT_QUERY_WITHOUT_RESULT: 0\n",
      "COUNT_QUERY_NOT_FOUND: 4\n",
      "===2/6===>  2023-Jun-27 21:25:23 experiment: {'CRITERIA': 'subtheme', 'TOPK_RETRIEVER': 300, 'TOPK_RANKER': 0, 'PIPE': {'PIPE_NAME': 'pipe_bm25_ranker', 'PIPE_OBJECT': <haystack.pipelines.base.Pipeline object at 0x7f1ea346f510>, 'RETRIEVER_TYPE': 'bm25', 'RETRIEVER_MODEL_NAME': '', 'RANKER_MODEL_NAME': 'unicamp-dl/ptt5-base-pt-msmarco-100k-v2-indir-5200'}, 'DONE': False}\n",
      "Experimento envolverá 100 registros, queries selecionadas para validação\n"
     ]
    },
    {
     "name": "stderr",
     "output_type": "stream",
     "text": [
      " 32%|███▏      | 32/100 [01:22<02:54,  2.57s/it]"
     ]
    }
   ],
   "source": [
    "%%time\n",
    "# colocar pequeno só para testes, depois voltar para 9999999 (número maior do que o número de termos a pesquisar)\n",
    "limit_query = 100 #  9999999 # 100 # \n",
    "for cnt, experiment in enumerate(list_experiment):\n",
    "    if not experiment['DONE']:\n",
    "        list_result_experiment = [] # por experiment\n",
    "        # no caso de normas segecex, bastaria 224 para qtd5 e 891 para qtd1\n",
    "        print(f\"==={cnt}/{len(list_experiment)}===>  {time.strftime('%Y-%b-%d %H:%M:%S')} experiment: {experiment}\")\n",
    "        result_run = util_experiment.experiment_run(parm_df=df_search_data, \n",
    "                                                parm_experiment=experiment,\n",
    "                                                parm_ndcg_position=12,\n",
    "                                                parm_limit_query=limit_query,\n",
    "                                                parm_print=True)\n",
    "        list_result_experiment.append(result_run)\n",
    "        # print(f\"qtd_encontrado sim:{result_run['qtd_encontrado']}, não:{result_run['qtd_nao_encontrado']} ({result_run['percent_nao_encontrado']}%)\")\n",
    "        experiment['DONE'] = True\n",
    "        util_experiment.add_experiment_result(parm_list_result=list_result_experiment, parm_dataset='juris_tcu_index')\n",
    "\n"
   ]
  },
  {
   "attachments": {},
   "cell_type": "markdown",
   "metadata": {},
   "source": []
  },
  {
   "cell_type": "code",
   "execution_count": null,
   "metadata": {},
   "outputs": [],
   "source": []
  },
  {
   "cell_type": "code",
   "execution_count": null,
   "metadata": {},
   "outputs": [
    {
     "name": "stdout",
     "output_type": "stream",
     "text": [
      "===0/6===>  2023-Jun-27 12:56:46 experiment: {'CRITERIA': 'area', 'TOPK_RETRIEVER': 300, 'TOPK_RANKER': 0, 'PIPE': {'PIPE_NAME': 'pipe_bm25_ranker', 'PIPE_OBJECT': <haystack.pipelines.base.Pipeline object at 0x7fbf26095ad0>, 'RETRIEVER_TYPE': 'bm25', 'RETRIEVER_MODEL_NAME': '', 'RANKER_MODEL_NAME': 'unicamp-dl/mMiniLM-L6-v2-pt-v2-indir'}, 'DONE': False}\n",
      "Experimento envolverá 100 registros, queries selecionadas para validação\n"
     ]
    },
    {
     "name": "stderr",
     "output_type": "stream",
     "text": [
      "100%|██████████| 100/100 [00:03<00:00, 28.33it/s]\n"
     ]
    },
    {
     "name": "stdout",
     "output_type": "stream",
     "text": [
      "RANK1_MEAN: 2.34\n",
      "NDCG_MEAN: 74.187\n",
      "TIME_SPENT_MEAN: 0.035\n",
      "COUNT_QUERY_RUN: 100\n",
      "COUNT_QUERY_WITHOUT_RESULT: 0\n",
      "COUNT_QUERY_NOT_FOUND: 0\n",
      "===1/6===>  2023-Jun-27 12:56:51 experiment: {'CRITERIA': 'theme', 'TOPK_RETRIEVER': 300, 'TOPK_RANKER': 0, 'PIPE': {'PIPE_NAME': 'pipe_bm25_ranker', 'PIPE_OBJECT': <haystack.pipelines.base.Pipeline object at 0x7fbf26095ad0>, 'RETRIEVER_TYPE': 'bm25', 'RETRIEVER_MODEL_NAME': '', 'RANKER_MODEL_NAME': 'unicamp-dl/mMiniLM-L6-v2-pt-v2-indir'}, 'DONE': False}\n",
      "Experimento envolverá 100 registros, queries selecionadas para validação\n"
     ]
    },
    {
     "name": "stderr",
     "output_type": "stream",
     "text": [
      "100%|██████████| 100/100 [01:17<00:00,  1.29it/s]\n"
     ]
    },
    {
     "name": "stdout",
     "output_type": "stream",
     "text": [
      "RANK1_MEAN: 15.896\n",
      "NDCG_MEAN: 48.585\n",
      "TIME_SPENT_MEAN: 0.774\n",
      "COUNT_QUERY_RUN: 100\n",
      "COUNT_QUERY_WITHOUT_RESULT: 0\n",
      "COUNT_QUERY_NOT_FOUND: 4\n",
      "===2/6===>  2023-Jun-27 12:58:09 experiment: {'CRITERIA': 'subtheme', 'TOPK_RETRIEVER': 300, 'TOPK_RANKER': 0, 'PIPE': {'PIPE_NAME': 'pipe_bm25_ranker', 'PIPE_OBJECT': <haystack.pipelines.base.Pipeline object at 0x7fbf26095ad0>, 'RETRIEVER_TYPE': 'bm25', 'RETRIEVER_MODEL_NAME': '', 'RANKER_MODEL_NAME': 'unicamp-dl/mMiniLM-L6-v2-pt-v2-indir'}, 'DONE': False}\n",
      "Experimento envolverá 100 registros, queries selecionadas para validação\n"
     ]
    },
    {
     "name": "stderr",
     "output_type": "stream",
     "text": [
      "100%|██████████| 100/100 [01:20<00:00,  1.25it/s]\n"
     ]
    },
    {
     "name": "stdout",
     "output_type": "stream",
     "text": [
      "RANK1_MEAN: 14.362\n",
      "NDCG_MEAN: 29.203\n",
      "TIME_SPENT_MEAN: 0.801\n",
      "COUNT_QUERY_RUN: 100\n",
      "COUNT_QUERY_WITHOUT_RESULT: 0\n",
      "COUNT_QUERY_NOT_FOUND: 31\n",
      "===3/6===>  2023-Jun-27 12:59:30 experiment: {'CRITERIA': 'extra', 'TOPK_RETRIEVER': 300, 'TOPK_RANKER': 0, 'PIPE': {'PIPE_NAME': 'pipe_bm25_ranker', 'PIPE_OBJECT': <haystack.pipelines.base.Pipeline object at 0x7fbf26095ad0>, 'RETRIEVER_TYPE': 'bm25', 'RETRIEVER_MODEL_NAME': '', 'RANKER_MODEL_NAME': 'unicamp-dl/mMiniLM-L6-v2-pt-v2-indir'}, 'DONE': False}\n",
      "Experimento envolverá 100 registros, queries selecionadas para validação\n"
     ]
    },
    {
     "name": "stderr",
     "output_type": "stream",
     "text": [
      " 14%|█▍        | 14/100 [00:12<01:14,  1.15it/s]\n"
     ]
    },
    {
     "ename": "KeyboardInterrupt",
     "evalue": "",
     "output_type": "error",
     "traceback": [
      "\u001b[0;31m---------------------------------------------------------------------------\u001b[0m",
      "\u001b[0;31mKeyboardInterrupt\u001b[0m                         Traceback (most recent call last)",
      "\u001b[0;32m<timed exec>\u001b[0m in \u001b[0;36m<module>\u001b[0;34m\u001b[0m\n",
      "\u001b[0;32m~/fontes/ind-ir/code/util/util_experiment_juris_tcu_index.py\u001b[0m in \u001b[0;36mexperiment_run\u001b[0;34m(parm_df, parm_experiment, parm_limit_query, parm_ndcg_position, parm_print)\u001b[0m\n\u001b[1;32m    206\u001b[0m         \u001b[0mresult_search_one_query\u001b[0m\u001b[0;34m[\u001b[0m\u001b[0;34m'QUERY_ID'\u001b[0m\u001b[0;34m]\u001b[0m \u001b[0;34m=\u001b[0m \u001b[0mrow_query\u001b[0m\u001b[0;34m[\u001b[0m\u001b[0;34m'ID'\u001b[0m\u001b[0;34m]\u001b[0m\u001b[0;34m\u001b[0m\u001b[0;34m\u001b[0m\u001b[0m\n\u001b[1;32m    207\u001b[0m         \u001b[0mtime_start_search_query\u001b[0m \u001b[0;34m=\u001b[0m \u001b[0mtime\u001b[0m\u001b[0;34m.\u001b[0m\u001b[0mtime\u001b[0m\u001b[0;34m(\u001b[0m\u001b[0;34m)\u001b[0m\u001b[0;34m\u001b[0m\u001b[0;34m\u001b[0m\u001b[0m\n\u001b[0;32m--> 208\u001b[0;31m         \u001b[0mlist_id_doc_returned\u001b[0m \u001b[0;34m=\u001b[0m \u001b[0msearch_docto_for_experiment\u001b[0m\u001b[0;34m(\u001b[0m\u001b[0mparm_experiment\u001b[0m\u001b[0;34m=\u001b[0m\u001b[0mparm_experiment\u001b[0m\u001b[0;34m,\u001b[0m  \u001b[0mquery_data\u001b[0m\u001b[0;34m=\u001b[0m\u001b[0mrow_query\u001b[0m\u001b[0;34m)\u001b[0m\u001b[0;34m\u001b[0m\u001b[0;34m\u001b[0m\u001b[0m\n\u001b[0m\u001b[1;32m    209\u001b[0m         \u001b[0mresult_search_one_query\u001b[0m\u001b[0;34m[\u001b[0m\u001b[0;34m'TIME_SPENT'\u001b[0m\u001b[0;34m]\u001b[0m \u001b[0;34m=\u001b[0m \u001b[0mround\u001b[0m\u001b[0;34m(\u001b[0m\u001b[0;34m(\u001b[0m\u001b[0mtime\u001b[0m\u001b[0;34m.\u001b[0m\u001b[0mtime\u001b[0m\u001b[0;34m(\u001b[0m\u001b[0;34m)\u001b[0m \u001b[0;34m-\u001b[0m \u001b[0mtime_start_search_query\u001b[0m\u001b[0;34m)\u001b[0m\u001b[0;34m,\u001b[0m\u001b[0;36m4\u001b[0m\u001b[0;34m)\u001b[0m\u001b[0;34m\u001b[0m\u001b[0;34m\u001b[0m\u001b[0m\n\u001b[1;32m    210\u001b[0m         \u001b[0;32mif\u001b[0m \u001b[0mlist_id_doc_returned\u001b[0m \u001b[0;32mis\u001b[0m \u001b[0;32mNone\u001b[0m \u001b[0;32mor\u001b[0m \u001b[0mlen\u001b[0m\u001b[0;34m(\u001b[0m\u001b[0mlist_id_doc_returned\u001b[0m\u001b[0;34m)\u001b[0m \u001b[0;34m==\u001b[0m \u001b[0;36m0\u001b[0m\u001b[0;34m:\u001b[0m\u001b[0;34m\u001b[0m\u001b[0;34m\u001b[0m\u001b[0m\n",
      "\u001b[0;32m~/fontes/ind-ir/code/util/util_experiment_juris_tcu_index.py\u001b[0m in \u001b[0;36msearch_docto_for_experiment\u001b[0;34m(parm_experiment, query_data)\u001b[0m\n\u001b[1;32m    125\u001b[0m     \u001b[0;31m# print(f\"search_parameter: {search_parameter} \")\u001b[0m\u001b[0;34m\u001b[0m\u001b[0;34m\u001b[0m\u001b[0;34m\u001b[0m\u001b[0m\n\u001b[1;32m    126\u001b[0m     \u001b[0msearch_text\u001b[0m \u001b[0;34m=\u001b[0m  \u001b[0mquery_data\u001b[0m\u001b[0;34m[\u001b[0m\u001b[0;34m'TEXT'\u001b[0m\u001b[0;34m]\u001b[0m\u001b[0;34m[\u001b[0m\u001b[0;34m:\u001b[0m\u001b[0mlimit_size_text_first_stage\u001b[0m\u001b[0;34m]\u001b[0m\u001b[0;34m\u001b[0m\u001b[0;34m\u001b[0m\u001b[0m\n\u001b[0;32m--> 127\u001b[0;31m     \u001b[0mdocto_found\u001b[0m \u001b[0;34m=\u001b[0m \u001b[0mparm_experiment\u001b[0m\u001b[0;34m[\u001b[0m\u001b[0;34m'PIPE'\u001b[0m\u001b[0;34m]\u001b[0m\u001b[0;34m[\u001b[0m\u001b[0;34m'PIPE_OBJECT'\u001b[0m\u001b[0;34m]\u001b[0m\u001b[0;34m.\u001b[0m\u001b[0mrun\u001b[0m\u001b[0;34m(\u001b[0m\u001b[0mquery\u001b[0m\u001b[0;34m=\u001b[0m\u001b[0msearch_text\u001b[0m\u001b[0;34m,\u001b[0m \u001b[0mparams\u001b[0m\u001b[0;34m=\u001b[0m\u001b[0msearch_parameter\u001b[0m\u001b[0;34m)\u001b[0m\u001b[0;34m\u001b[0m\u001b[0;34m\u001b[0m\u001b[0m\n\u001b[0m\u001b[1;32m    128\u001b[0m     \u001b[0;32mif\u001b[0m \u001b[0;34m'documents'\u001b[0m \u001b[0;32min\u001b[0m \u001b[0mdocto_found\u001b[0m\u001b[0;34m:\u001b[0m \u001b[0;31m# search with pipe\u001b[0m\u001b[0;34m\u001b[0m\u001b[0;34m\u001b[0m\u001b[0m\n\u001b[1;32m    129\u001b[0m         \u001b[0;32mif\u001b[0m \u001b[0mlen\u001b[0m\u001b[0;34m(\u001b[0m\u001b[0mdocto_found\u001b[0m\u001b[0;34m[\u001b[0m\u001b[0;34m'documents'\u001b[0m\u001b[0;34m]\u001b[0m\u001b[0;34m)\u001b[0m \u001b[0;34m>\u001b[0m \u001b[0;36m0\u001b[0m\u001b[0;34m:\u001b[0m\u001b[0;34m\u001b[0m\u001b[0;34m\u001b[0m\u001b[0m\n",
      "\u001b[0;32m~/miniconda3/envs/relevar-busca/lib/python3.7/site-packages/haystack/pipelines/base.py\u001b[0m in \u001b[0;36mrun\u001b[0;34m(self, query, file_paths, labels, documents, meta, params, debug)\u001b[0m\n\u001b[1;32m    528\u001b[0m                 \u001b[0;32mtry\u001b[0m\u001b[0;34m:\u001b[0m\u001b[0;34m\u001b[0m\u001b[0;34m\u001b[0m\u001b[0m\n\u001b[1;32m    529\u001b[0m                     \u001b[0mlogger\u001b[0m\u001b[0;34m.\u001b[0m\u001b[0mdebug\u001b[0m\u001b[0;34m(\u001b[0m\u001b[0;34m\"Running node '%s` with input: %s\"\u001b[0m\u001b[0;34m,\u001b[0m \u001b[0mnode_id\u001b[0m\u001b[0;34m,\u001b[0m \u001b[0mnode_input\u001b[0m\u001b[0;34m)\u001b[0m\u001b[0;34m\u001b[0m\u001b[0;34m\u001b[0m\u001b[0m\n\u001b[0;32m--> 530\u001b[0;31m                     \u001b[0mnode_output\u001b[0m\u001b[0;34m,\u001b[0m \u001b[0mstream_id\u001b[0m \u001b[0;34m=\u001b[0m \u001b[0mself\u001b[0m\u001b[0;34m.\u001b[0m\u001b[0m_run_node\u001b[0m\u001b[0;34m(\u001b[0m\u001b[0mnode_id\u001b[0m\u001b[0;34m,\u001b[0m \u001b[0mnode_input\u001b[0m\u001b[0;34m)\u001b[0m\u001b[0;34m\u001b[0m\u001b[0;34m\u001b[0m\u001b[0m\n\u001b[0m\u001b[1;32m    531\u001b[0m                 \u001b[0;32mexcept\u001b[0m \u001b[0mException\u001b[0m \u001b[0;32mas\u001b[0m \u001b[0me\u001b[0m\u001b[0;34m:\u001b[0m\u001b[0;34m\u001b[0m\u001b[0;34m\u001b[0m\u001b[0m\n\u001b[1;32m    532\u001b[0m                     \u001b[0;31m# The input might be a really large object with thousands of embeddings.\u001b[0m\u001b[0;34m\u001b[0m\u001b[0;34m\u001b[0m\u001b[0;34m\u001b[0m\u001b[0m\n",
      "\u001b[0;32m~/miniconda3/envs/relevar-busca/lib/python3.7/site-packages/haystack/pipelines/base.py\u001b[0m in \u001b[0;36m_run_node\u001b[0;34m(self, node_id, node_input)\u001b[0m\n\u001b[1;32m    455\u001b[0m \u001b[0;34m\u001b[0m\u001b[0m\n\u001b[1;32m    456\u001b[0m     \u001b[0;32mdef\u001b[0m \u001b[0m_run_node\u001b[0m\u001b[0;34m(\u001b[0m\u001b[0mself\u001b[0m\u001b[0;34m,\u001b[0m \u001b[0mnode_id\u001b[0m\u001b[0;34m:\u001b[0m \u001b[0mstr\u001b[0m\u001b[0;34m,\u001b[0m \u001b[0mnode_input\u001b[0m\u001b[0;34m:\u001b[0m \u001b[0mDict\u001b[0m\u001b[0;34m[\u001b[0m\u001b[0mstr\u001b[0m\u001b[0;34m,\u001b[0m \u001b[0mAny\u001b[0m\u001b[0;34m]\u001b[0m\u001b[0;34m)\u001b[0m \u001b[0;34m->\u001b[0m \u001b[0mTuple\u001b[0m\u001b[0;34m[\u001b[0m\u001b[0mDict\u001b[0m\u001b[0;34m,\u001b[0m \u001b[0mstr\u001b[0m\u001b[0;34m]\u001b[0m\u001b[0;34m:\u001b[0m\u001b[0;34m\u001b[0m\u001b[0;34m\u001b[0m\u001b[0m\n\u001b[0;32m--> 457\u001b[0;31m         \u001b[0;32mreturn\u001b[0m \u001b[0mself\u001b[0m\u001b[0;34m.\u001b[0m\u001b[0mgraph\u001b[0m\u001b[0;34m.\u001b[0m\u001b[0mnodes\u001b[0m\u001b[0;34m[\u001b[0m\u001b[0mnode_id\u001b[0m\u001b[0;34m]\u001b[0m\u001b[0;34m[\u001b[0m\u001b[0;34m\"component\"\u001b[0m\u001b[0;34m]\u001b[0m\u001b[0;34m.\u001b[0m\u001b[0m_dispatch_run\u001b[0m\u001b[0;34m(\u001b[0m\u001b[0;34m**\u001b[0m\u001b[0mnode_input\u001b[0m\u001b[0;34m)\u001b[0m\u001b[0;34m\u001b[0m\u001b[0;34m\u001b[0m\u001b[0m\n\u001b[0m\u001b[1;32m    458\u001b[0m \u001b[0;34m\u001b[0m\u001b[0m\n\u001b[1;32m    459\u001b[0m     def run(  # type: ignore\n",
      "\u001b[0;32m~/miniconda3/envs/relevar-busca/lib/python3.7/site-packages/haystack/nodes/base.py\u001b[0m in \u001b[0;36m_dispatch_run\u001b[0;34m(self, **kwargs)\u001b[0m\n\u001b[1;32m    199\u001b[0m         \u001b[0mmethod\u001b[0m \u001b[0;32mwith\u001b[0m \u001b[0mthe\u001b[0m \u001b[0mcorrect\u001b[0m \u001b[0mrun\u001b[0m \u001b[0mmethod\u001b[0m\u001b[0;34m.\u001b[0m\u001b[0;34m\u001b[0m\u001b[0;34m\u001b[0m\u001b[0m\n\u001b[1;32m    200\u001b[0m         \"\"\"\n\u001b[0;32m--> 201\u001b[0;31m         \u001b[0;32mreturn\u001b[0m \u001b[0mself\u001b[0m\u001b[0;34m.\u001b[0m\u001b[0m_dispatch_run_general\u001b[0m\u001b[0;34m(\u001b[0m\u001b[0mself\u001b[0m\u001b[0;34m.\u001b[0m\u001b[0mrun\u001b[0m\u001b[0;34m,\u001b[0m \u001b[0;34m**\u001b[0m\u001b[0mkwargs\u001b[0m\u001b[0;34m)\u001b[0m\u001b[0;34m\u001b[0m\u001b[0;34m\u001b[0m\u001b[0m\n\u001b[0m\u001b[1;32m    202\u001b[0m \u001b[0;34m\u001b[0m\u001b[0m\n\u001b[1;32m    203\u001b[0m     \u001b[0;32mdef\u001b[0m \u001b[0m_dispatch_run_batch\u001b[0m\u001b[0;34m(\u001b[0m\u001b[0mself\u001b[0m\u001b[0;34m,\u001b[0m \u001b[0;34m**\u001b[0m\u001b[0mkwargs\u001b[0m\u001b[0;34m)\u001b[0m\u001b[0;34m:\u001b[0m\u001b[0;34m\u001b[0m\u001b[0;34m\u001b[0m\u001b[0m\n",
      "\u001b[0;32m~/miniconda3/envs/relevar-busca/lib/python3.7/site-packages/haystack/nodes/base.py\u001b[0m in \u001b[0;36m_dispatch_run_general\u001b[0;34m(self, run_method, **kwargs)\u001b[0m\n\u001b[1;32m    243\u001b[0m                 \u001b[0mrun_inputs\u001b[0m\u001b[0;34m[\u001b[0m\u001b[0mkey\u001b[0m\u001b[0;34m]\u001b[0m \u001b[0;34m=\u001b[0m \u001b[0mvalue\u001b[0m\u001b[0;34m\u001b[0m\u001b[0;34m\u001b[0m\u001b[0m\n\u001b[1;32m    244\u001b[0m \u001b[0;34m\u001b[0m\u001b[0m\n\u001b[0;32m--> 245\u001b[0;31m         \u001b[0moutput\u001b[0m\u001b[0;34m,\u001b[0m \u001b[0mstream\u001b[0m \u001b[0;34m=\u001b[0m \u001b[0mrun_method\u001b[0m\u001b[0;34m(\u001b[0m\u001b[0;34m**\u001b[0m\u001b[0mrun_inputs\u001b[0m\u001b[0;34m,\u001b[0m \u001b[0;34m**\u001b[0m\u001b[0mrun_params\u001b[0m\u001b[0;34m)\u001b[0m\u001b[0;34m\u001b[0m\u001b[0;34m\u001b[0m\u001b[0m\n\u001b[0m\u001b[1;32m    246\u001b[0m \u001b[0;34m\u001b[0m\u001b[0m\n\u001b[1;32m    247\u001b[0m         \u001b[0;31m# Collect debug information\u001b[0m\u001b[0;34m\u001b[0m\u001b[0;34m\u001b[0m\u001b[0;34m\u001b[0m\u001b[0m\n",
      "\u001b[0;32m~/miniconda3/envs/relevar-busca/lib/python3.7/site-packages/haystack/nodes/ranker/base.py\u001b[0m in \u001b[0;36mrun\u001b[0;34m(self, query, documents, top_k)\u001b[0m\n\u001b[1;32m     37\u001b[0m         \u001b[0;32mif\u001b[0m \u001b[0mdocuments\u001b[0m\u001b[0;34m:\u001b[0m\u001b[0;34m\u001b[0m\u001b[0;34m\u001b[0m\u001b[0m\n\u001b[1;32m     38\u001b[0m             \u001b[0mpredict\u001b[0m \u001b[0;34m=\u001b[0m \u001b[0mself\u001b[0m\u001b[0;34m.\u001b[0m\u001b[0mtiming\u001b[0m\u001b[0;34m(\u001b[0m\u001b[0mself\u001b[0m\u001b[0;34m.\u001b[0m\u001b[0mpredict\u001b[0m\u001b[0;34m,\u001b[0m \u001b[0;34m\"query_time\"\u001b[0m\u001b[0;34m)\u001b[0m\u001b[0;34m\u001b[0m\u001b[0;34m\u001b[0m\u001b[0m\n\u001b[0;32m---> 39\u001b[0;31m             \u001b[0mresults\u001b[0m \u001b[0;34m=\u001b[0m \u001b[0mpredict\u001b[0m\u001b[0;34m(\u001b[0m\u001b[0mquery\u001b[0m\u001b[0;34m=\u001b[0m\u001b[0mquery\u001b[0m\u001b[0;34m,\u001b[0m \u001b[0mdocuments\u001b[0m\u001b[0;34m=\u001b[0m\u001b[0mdocuments\u001b[0m\u001b[0;34m,\u001b[0m \u001b[0mtop_k\u001b[0m\u001b[0;34m=\u001b[0m\u001b[0mtop_k\u001b[0m\u001b[0;34m)\u001b[0m\u001b[0;34m\u001b[0m\u001b[0;34m\u001b[0m\u001b[0m\n\u001b[0m\u001b[1;32m     40\u001b[0m         \u001b[0;32melse\u001b[0m\u001b[0;34m:\u001b[0m\u001b[0;34m\u001b[0m\u001b[0;34m\u001b[0m\u001b[0m\n\u001b[1;32m     41\u001b[0m             \u001b[0mresults\u001b[0m \u001b[0;34m=\u001b[0m \u001b[0;34m[\u001b[0m\u001b[0;34m]\u001b[0m\u001b[0;34m\u001b[0m\u001b[0;34m\u001b[0m\u001b[0m\n",
      "\u001b[0;32m~/miniconda3/envs/relevar-busca/lib/python3.7/site-packages/haystack/nodes/ranker/base.py\u001b[0m in \u001b[0;36mwrapper\u001b[0;34m(*args, **kwargs)\u001b[0m\n\u001b[1;32m     74\u001b[0m                 \u001b[0mself\u001b[0m\u001b[0;34m.\u001b[0m\u001b[0m__dict__\u001b[0m\u001b[0;34m[\u001b[0m\u001b[0mattr_name\u001b[0m\u001b[0;34m]\u001b[0m \u001b[0;34m=\u001b[0m \u001b[0;36m0\u001b[0m\u001b[0;34m\u001b[0m\u001b[0;34m\u001b[0m\u001b[0m\n\u001b[1;32m     75\u001b[0m             \u001b[0mtic\u001b[0m \u001b[0;34m=\u001b[0m \u001b[0mperf_counter\u001b[0m\u001b[0;34m(\u001b[0m\u001b[0;34m)\u001b[0m\u001b[0;34m\u001b[0m\u001b[0;34m\u001b[0m\u001b[0m\n\u001b[0;32m---> 76\u001b[0;31m             \u001b[0mret\u001b[0m \u001b[0;34m=\u001b[0m \u001b[0mfn\u001b[0m\u001b[0;34m(\u001b[0m\u001b[0;34m*\u001b[0m\u001b[0margs\u001b[0m\u001b[0;34m,\u001b[0m \u001b[0;34m**\u001b[0m\u001b[0mkwargs\u001b[0m\u001b[0;34m)\u001b[0m\u001b[0;34m\u001b[0m\u001b[0;34m\u001b[0m\u001b[0m\n\u001b[0m\u001b[1;32m     77\u001b[0m             \u001b[0mtoc\u001b[0m \u001b[0;34m=\u001b[0m \u001b[0mperf_counter\u001b[0m\u001b[0;34m(\u001b[0m\u001b[0;34m)\u001b[0m\u001b[0;34m\u001b[0m\u001b[0;34m\u001b[0m\u001b[0m\n\u001b[1;32m     78\u001b[0m             \u001b[0mself\u001b[0m\u001b[0;34m.\u001b[0m\u001b[0m__dict__\u001b[0m\u001b[0;34m[\u001b[0m\u001b[0mattr_name\u001b[0m\u001b[0;34m]\u001b[0m \u001b[0;34m+=\u001b[0m \u001b[0mtoc\u001b[0m \u001b[0;34m-\u001b[0m \u001b[0mtic\u001b[0m\u001b[0;34m\u001b[0m\u001b[0;34m\u001b[0m\u001b[0m\n",
      "\u001b[0;32m~/miniconda3/envs/relevar-busca/lib/python3.7/site-packages/haystack/nodes/ranker/sentence_transformers_limit.py\u001b[0m in \u001b[0;36mpredict\u001b[0;34m(self, query, documents, top_k)\u001b[0m\n\u001b[1;32m    213\u001b[0m             \u001b[0;31m# assume the last element in logits represents the `has_answer` label\u001b[0m\u001b[0;34m\u001b[0m\u001b[0;34m\u001b[0m\u001b[0;34m\u001b[0m\u001b[0m\n\u001b[1;32m    214\u001b[0m             \u001b[0msimilarity_document_tuple\u001b[0m\u001b[0;34m[\u001b[0m\u001b[0;36m0\u001b[0m\u001b[0;34m]\u001b[0m\u001b[0;34m[\u001b[0m\u001b[0;34m-\u001b[0m\u001b[0;36m1\u001b[0m\u001b[0;34m]\u001b[0m \u001b[0;32mif\u001b[0m \u001b[0mlogits_dim\u001b[0m \u001b[0;34m>=\u001b[0m \u001b[0;36m2\u001b[0m \u001b[0;32melse\u001b[0m \u001b[0msimilarity_document_tuple\u001b[0m\u001b[0;34m[\u001b[0m\u001b[0;36m0\u001b[0m\u001b[0;34m]\u001b[0m\u001b[0;34m,\u001b[0m\u001b[0;34m\u001b[0m\u001b[0;34m\u001b[0m\u001b[0m\n\u001b[0;32m--> 215\u001b[0;31m             \u001b[0mreverse\u001b[0m\u001b[0;34m=\u001b[0m\u001b[0;32mTrue\u001b[0m\u001b[0;34m,\u001b[0m\u001b[0;34m\u001b[0m\u001b[0;34m\u001b[0m\u001b[0m\n\u001b[0m\u001b[1;32m    216\u001b[0m         )\n\u001b[1;32m    217\u001b[0m \u001b[0;34m\u001b[0m\u001b[0m\n",
      "\u001b[0;31mKeyboardInterrupt\u001b[0m: "
     ]
    }
   ],
   "source": [
    "%%time\n",
    "# colocar pequeno só para testes, depois voltar para 9999999 (número maior do que o número de termos a pesquisar)\n",
    "limit_query = 100 #  9999999 # 100 # \n",
    "for cnt, experiment in enumerate(list_experiment):\n",
    "    if not experiment['DONE']:\n",
    "        list_result_experiment = [] # por experiment\n",
    "        # no caso de normas segecex, bastaria 224 para qtd5 e 891 para qtd1\n",
    "        print(f\"==={cnt}/{len(list_experiment)}===>  {time.strftime('%Y-%b-%d %H:%M:%S')} experiment: {experiment}\")\n",
    "        result_run = util_experiment.experiment_run(parm_df=df_search_data, \n",
    "                                                parm_experiment=experiment,\n",
    "                                                parm_ndcg_position=12,\n",
    "                                                parm_limit_query=limit_query,\n",
    "                                                parm_print=True)\n",
    "        list_result_experiment.append(result_run)\n",
    "        # print(f\"qtd_encontrado sim:{result_run['qtd_encontrado']}, não:{result_run['qtd_nao_encontrado']} ({result_run['percent_nao_encontrado']}%)\")\n",
    "        experiment['DONE'] = True\n",
    "        util_experiment.add_experiment_result(parm_list_result=list_result_experiment, parm_dataset='juris_tcu_index')\n",
    "\n"
   ]
  },
  {
   "cell_type": "code",
   "execution_count": null,
   "metadata": {},
   "outputs": [],
   "source": []
  },
  {
   "cell_type": "code",
   "execution_count": null,
   "metadata": {},
   "outputs": [
    {
     "name": "stdout",
     "output_type": "stream",
     "text": [
      "===0/6===>  2023-Jun-27 08:15:48 experiment: {'CRITERIA': 'area', 'TOPK_RETRIEVER': 300, 'TOPK_RANKER': 0, 'PIPE': {'PIPE_NAME': 'pipe_bm25_ranker', 'PIPE_OBJECT': <haystack.pipelines.base.Pipeline object at 0x7fa376cc86d0>, 'RETRIEVER_TYPE': 'bm25', 'RETRIEVER_MODEL_NAME': '', 'RANKER_MODEL_NAME': 'unicamp-dl/mMiniLM-L6-v2-pt-v2-49200'}, 'DONE': False}\n",
      "Experimento envolverá 100 registros, queries selecionadas para validação\n"
     ]
    },
    {
     "name": "stderr",
     "output_type": "stream",
     "text": [
      "100%|██████████| 100/100 [00:03<00:00, 28.43it/s]\n"
     ]
    },
    {
     "name": "stdout",
     "output_type": "stream",
     "text": [
      "RANK1_MEAN: 2.34\n",
      "NDCG_MEAN: 74.187\n",
      "TIME_SPENT_MEAN: 0.035\n",
      "COUNT_QUERY_RUN: 100\n",
      "COUNT_QUERY_WITHOUT_RESULT: 0\n",
      "COUNT_QUERY_NOT_FOUND: 0\n",
      "===1/6===>  2023-Jun-27 08:15:53 experiment: {'CRITERIA': 'theme', 'TOPK_RETRIEVER': 300, 'TOPK_RANKER': 0, 'PIPE': {'PIPE_NAME': 'pipe_bm25_ranker', 'PIPE_OBJECT': <haystack.pipelines.base.Pipeline object at 0x7fa376cc86d0>, 'RETRIEVER_TYPE': 'bm25', 'RETRIEVER_MODEL_NAME': '', 'RANKER_MODEL_NAME': 'unicamp-dl/mMiniLM-L6-v2-pt-v2-49200'}, 'DONE': False}\n",
      "Experimento envolverá 100 registros, queries selecionadas para validação\n"
     ]
    },
    {
     "name": "stderr",
     "output_type": "stream",
     "text": [
      "100%|██████████| 100/100 [01:17<00:00,  1.29it/s]\n"
     ]
    },
    {
     "name": "stdout",
     "output_type": "stream",
     "text": [
      "RANK1_MEAN: 15.896\n",
      "NDCG_MEAN: 48.585\n",
      "TIME_SPENT_MEAN: 0.775\n",
      "COUNT_QUERY_RUN: 100\n",
      "COUNT_QUERY_WITHOUT_RESULT: 0\n",
      "COUNT_QUERY_NOT_FOUND: 4\n",
      "===2/6===>  2023-Jun-27 08:17:11 experiment: {'CRITERIA': 'subtheme', 'TOPK_RETRIEVER': 300, 'TOPK_RANKER': 0, 'PIPE': {'PIPE_NAME': 'pipe_bm25_ranker', 'PIPE_OBJECT': <haystack.pipelines.base.Pipeline object at 0x7fa376cc86d0>, 'RETRIEVER_TYPE': 'bm25', 'RETRIEVER_MODEL_NAME': '', 'RANKER_MODEL_NAME': 'unicamp-dl/mMiniLM-L6-v2-pt-v2-49200'}, 'DONE': False}\n",
      "Experimento envolverá 100 registros, queries selecionadas para validação\n"
     ]
    },
    {
     "name": "stderr",
     "output_type": "stream",
     "text": [
      "100%|██████████| 100/100 [01:19<00:00,  1.25it/s]\n"
     ]
    },
    {
     "name": "stdout",
     "output_type": "stream",
     "text": [
      "RANK1_MEAN: 14.362\n",
      "NDCG_MEAN: 29.203\n",
      "TIME_SPENT_MEAN: 0.799\n",
      "COUNT_QUERY_RUN: 100\n",
      "COUNT_QUERY_WITHOUT_RESULT: 0\n",
      "COUNT_QUERY_NOT_FOUND: 31\n",
      "===3/6===>  2023-Jun-27 08:18:32 experiment: {'CRITERIA': 'extra', 'TOPK_RETRIEVER': 300, 'TOPK_RANKER': 0, 'PIPE': {'PIPE_NAME': 'pipe_bm25_ranker', 'PIPE_OBJECT': <haystack.pipelines.base.Pipeline object at 0x7fa376cc86d0>, 'RETRIEVER_TYPE': 'bm25', 'RETRIEVER_MODEL_NAME': '', 'RANKER_MODEL_NAME': 'unicamp-dl/mMiniLM-L6-v2-pt-v2-49200'}, 'DONE': False}\n",
      "Experimento envolverá 100 registros, queries selecionadas para validação\n"
     ]
    },
    {
     "name": "stderr",
     "output_type": "stream",
     "text": [
      "100%|██████████| 100/100 [01:20<00:00,  1.24it/s]\n"
     ]
    },
    {
     "name": "stdout",
     "output_type": "stream",
     "text": [
      "RANK1_MEAN: 6.453\n",
      "NDCG_MEAN: 33.854\n",
      "TIME_SPENT_MEAN: 0.809\n",
      "COUNT_QUERY_RUN: 100\n",
      "COUNT_QUERY_WITHOUT_RESULT: 0\n",
      "COUNT_QUERY_NOT_FOUND: 14\n",
      "===4/6===>  2023-Jun-27 08:19:53 experiment: {'CRITERIA': 'total', 'TOPK_RETRIEVER': 300, 'TOPK_RANKER': 0, 'PIPE': {'PIPE_NAME': 'pipe_bm25_ranker', 'PIPE_OBJECT': <haystack.pipelines.base.Pipeline object at 0x7fa376cc86d0>, 'RETRIEVER_TYPE': 'bm25', 'RETRIEVER_MODEL_NAME': '', 'RANKER_MODEL_NAME': 'unicamp-dl/mMiniLM-L6-v2-pt-v2-49200'}, 'DONE': False}\n",
      "Experimento envolverá 100 registros, queries selecionadas para validação\n"
     ]
    },
    {
     "name": "stderr",
     "output_type": "stream",
     "text": [
      "100%|██████████| 100/100 [01:20<00:00,  1.24it/s]\n"
     ]
    },
    {
     "name": "stdout",
     "output_type": "stream",
     "text": [
      "RANK1_MEAN: 2.364\n",
      "NDCG_MEAN: 43.711\n",
      "TIME_SPENT_MEAN: 0.805\n",
      "COUNT_QUERY_RUN: 100\n",
      "COUNT_QUERY_WITHOUT_RESULT: 0\n",
      "COUNT_QUERY_NOT_FOUND: 1\n",
      "===5/6===>  2023-Jun-27 08:21:15 experiment: {'CRITERIA': 'total_gte_5', 'TOPK_RETRIEVER': 300, 'TOPK_RANKER': 0, 'PIPE': {'PIPE_NAME': 'pipe_bm25_ranker', 'PIPE_OBJECT': <haystack.pipelines.base.Pipeline object at 0x7fa376cc86d0>, 'RETRIEVER_TYPE': 'bm25', 'RETRIEVER_MODEL_NAME': '', 'RANKER_MODEL_NAME': 'unicamp-dl/mMiniLM-L6-v2-pt-v2-49200'}, 'DONE': False}\n",
      "Experimento envolverá 100 registros, queries selecionadas para validação\n"
     ]
    },
    {
     "name": "stderr",
     "output_type": "stream",
     "text": [
      "100%|██████████| 100/100 [01:20<00:00,  1.24it/s]\n"
     ]
    },
    {
     "name": "stdout",
     "output_type": "stream",
     "text": [
      "RANK1_MEAN: 2.455\n",
      "NDCG_MEAN: 43.492\n",
      "TIME_SPENT_MEAN: 0.806\n",
      "COUNT_QUERY_RUN: 100\n",
      "COUNT_QUERY_WITHOUT_RESULT: 0\n",
      "COUNT_QUERY_NOT_FOUND: 1\n",
      "CPU times: user 7min 30s, sys: 2.24 s, total: 7min 33s\n",
      "Wall time: 6min 48s\n"
     ]
    }
   ],
   "source": [
    "%%time\n",
    "# colocar pequeno só para testes, depois voltar para 9999999 (número maior do que o número de termos a pesquisar)\n",
    "limit_query = 100 #  9999999 # 100 # \n",
    "for cnt, experiment in enumerate(list_experiment):\n",
    "    if not experiment['DONE']:\n",
    "        list_result_experiment = [] # por experiment\n",
    "        # no caso de normas segecex, bastaria 224 para qtd5 e 891 para qtd1\n",
    "        print(f\"==={cnt}/{len(list_experiment)}===>  {time.strftime('%Y-%b-%d %H:%M:%S')} experiment: {experiment}\")\n",
    "        result_run = util_experiment.experiment_run(parm_df=df_search_data, \n",
    "                                                parm_experiment=experiment,\n",
    "                                                parm_ndcg_position=12,\n",
    "                                                parm_limit_query=limit_query,\n",
    "                                                parm_print=True)\n",
    "        list_result_experiment.append(result_run)\n",
    "        # print(f\"qtd_encontrado sim:{result_run['qtd_encontrado']}, não:{result_run['qtd_nao_encontrado']} ({result_run['percent_nao_encontrado']}%)\")\n",
    "        experiment['DONE'] = True\n",
    "        util_experiment.add_experiment_result(parm_list_result=list_result_experiment, parm_dataset='juris_tcu_index')\n",
    "\n"
   ]
  },
  {
   "attachments": {},
   "cell_type": "markdown",
   "metadata": {},
   "source": [
    "mt5-3B + join só para total_gt5"
   ]
  },
  {
   "cell_type": "code",
   "execution_count": null,
   "metadata": {},
   "outputs": [],
   "source": []
  },
  {
   "cell_type": "code",
   "execution_count": null,
   "metadata": {},
   "outputs": [
    {
     "name": "stdout",
     "output_type": "stream",
     "text": [
      "===0/18===>  2023-Jun-25 11:47:44 experiment: {'CRITERIA': 'area', 'TOPK_RETRIEVER': 300, 'TOPK_RANKER': 0, 'PIPE': {'PIPE_NAME': 'pipe_join_bm25_sts_reranker', 'PIPE_OBJECT': <haystack.pipelines.base.Pipeline object at 0x7fd36a672ed0>, 'RETRIEVER_TYPE': 'join_sts_bm25', 'RETRIEVER_MODEL_NAME': '', 'RANKER_MODEL_NAME': 'unicamp-dl/ptt5-base-pt-msmarco-100k-v2-7600'}, 'DONE': False}\n",
      "Experimento envolverá 100 registros, queries selecionadas para validação\n"
     ]
    },
    {
     "name": "stderr",
     "output_type": "stream",
     "text": [
      "100%|██████████| 100/100 [00:13<00:00,  7.46it/s]\n"
     ]
    },
    {
     "name": "stdout",
     "output_type": "stream",
     "text": [
      "RANK1_MEAN: 1.54\n",
      "NDCG_MEAN: 86.214\n",
      "TIME_SPENT_MEAN: 0.134\n",
      "COUNT_QUERY_RUN: 100\n",
      "COUNT_QUERY_WITHOUT_RESULT: 0\n",
      "COUNT_QUERY_NOT_FOUND: 0\n",
      "===1/18===>  2023-Jun-25 11:47:58 experiment: {'CRITERIA': 'area', 'TOPK_RETRIEVER': 300, 'TOPK_RANKER': 0, 'PIPE': {'PIPE_NAME': 'pipe_bm25_ranker', 'PIPE_OBJECT': <haystack.pipelines.base.Pipeline object at 0x7fd36a105ad0>, 'RETRIEVER_TYPE': 'bm25', 'RETRIEVER_MODEL_NAME': '', 'RANKER_MODEL_NAME': 'unicamp-dl/ptt5-base-pt-msmarco-100k-v2-7600'}, 'DONE': False}\n",
      "Experimento envolverá 100 registros, queries selecionadas para validação\n"
     ]
    },
    {
     "name": "stderr",
     "output_type": "stream",
     "text": [
      "100%|██████████| 100/100 [00:11<00:00,  9.05it/s]\n"
     ]
    },
    {
     "name": "stdout",
     "output_type": "stream",
     "text": [
      "RANK1_MEAN: 1.54\n",
      "NDCG_MEAN: 86.214\n",
      "TIME_SPENT_MEAN: 0.11\n",
      "COUNT_QUERY_RUN: 100\n",
      "COUNT_QUERY_WITHOUT_RESULT: 0\n",
      "COUNT_QUERY_NOT_FOUND: 0\n",
      "===2/18===>  2023-Jun-25 11:48:10 experiment: {'CRITERIA': 'area', 'TOPK_RETRIEVER': 300, 'TOPK_RANKER': 0, 'PIPE': {'PIPE_NAME': 'pipe_sts_ranker', 'PIPE_OBJECT': <haystack.pipelines.base.Pipeline object at 0x7fd3619278d0>, 'RETRIEVER_TYPE': 'sts', 'RETRIEVER_MODEL_NAME': '', 'RANKER_MODEL_NAME': 'unicamp-dl/ptt5-base-pt-msmarco-100k-v2-7600'}, 'DONE': False}\n",
      "Experimento envolverá 100 registros, queries selecionadas para validação\n"
     ]
    },
    {
     "name": "stderr",
     "output_type": "stream",
     "text": [
      "100%|██████████| 100/100 [00:12<00:00,  7.87it/s]\n"
     ]
    },
    {
     "name": "stdout",
     "output_type": "stream",
     "text": [
      "RANK1_MEAN: 1.54\n",
      "NDCG_MEAN: 86.214\n",
      "TIME_SPENT_MEAN: 0.127\n",
      "COUNT_QUERY_RUN: 100\n",
      "COUNT_QUERY_WITHOUT_RESULT: 0\n",
      "COUNT_QUERY_NOT_FOUND: 0\n",
      "===3/18===>  2023-Jun-25 11:48:23 experiment: {'CRITERIA': 'theme', 'TOPK_RETRIEVER': 300, 'TOPK_RANKER': 0, 'PIPE': {'PIPE_NAME': 'pipe_join_bm25_sts_reranker', 'PIPE_OBJECT': <haystack.pipelines.base.Pipeline object at 0x7fd36a672ed0>, 'RETRIEVER_TYPE': 'join_sts_bm25', 'RETRIEVER_MODEL_NAME': '', 'RANKER_MODEL_NAME': 'unicamp-dl/ptt5-base-pt-msmarco-100k-v2-7600'}, 'DONE': False}\n",
      "Experimento envolverá 100 registros, queries selecionadas para validação\n"
     ]
    },
    {
     "name": "stderr",
     "output_type": "stream",
     "text": [
      "100%|██████████| 100/100 [03:19<00:00,  1.99s/it]\n"
     ]
    },
    {
     "name": "stdout",
     "output_type": "stream",
     "text": [
      "RANK1_MEAN: 18.76\n",
      "NDCG_MEAN: 28.968\n",
      "TIME_SPENT_MEAN: 1.992\n",
      "COUNT_QUERY_RUN: 100\n",
      "COUNT_QUERY_WITHOUT_RESULT: 0\n",
      "COUNT_QUERY_NOT_FOUND: 4\n",
      "===4/18===>  2023-Jun-25 11:51:43 experiment: {'CRITERIA': 'theme', 'TOPK_RETRIEVER': 300, 'TOPK_RANKER': 0, 'PIPE': {'PIPE_NAME': 'pipe_bm25_ranker', 'PIPE_OBJECT': <haystack.pipelines.base.Pipeline object at 0x7fd36a105ad0>, 'RETRIEVER_TYPE': 'bm25', 'RETRIEVER_MODEL_NAME': '', 'RANKER_MODEL_NAME': 'unicamp-dl/ptt5-base-pt-msmarco-100k-v2-7600'}, 'DONE': False}\n",
      "Experimento envolverá 100 registros, queries selecionadas para validação\n"
     ]
    },
    {
     "name": "stderr",
     "output_type": "stream",
     "text": [
      "100%|██████████| 100/100 [04:15<00:00,  2.55s/it]\n"
     ]
    },
    {
     "name": "stdout",
     "output_type": "stream",
     "text": [
      "RANK1_MEAN: 31.052\n",
      "NDCG_MEAN: 22.649\n",
      "TIME_SPENT_MEAN: 2.553\n",
      "COUNT_QUERY_RUN: 100\n",
      "COUNT_QUERY_WITHOUT_RESULT: 0\n",
      "COUNT_QUERY_NOT_FOUND: 4\n",
      "===5/18===>  2023-Jun-25 11:55:59 experiment: {'CRITERIA': 'theme', 'TOPK_RETRIEVER': 300, 'TOPK_RANKER': 0, 'PIPE': {'PIPE_NAME': 'pipe_sts_ranker', 'PIPE_OBJECT': <haystack.pipelines.base.Pipeline object at 0x7fd3619278d0>, 'RETRIEVER_TYPE': 'sts', 'RETRIEVER_MODEL_NAME': '', 'RANKER_MODEL_NAME': 'unicamp-dl/ptt5-base-pt-msmarco-100k-v2-7600'}, 'DONE': False}\n",
      "Experimento envolverá 100 registros, queries selecionadas para validação\n"
     ]
    },
    {
     "name": "stderr",
     "output_type": "stream",
     "text": [
      "100%|██████████| 100/100 [04:16<00:00,  2.56s/it]\n"
     ]
    },
    {
     "name": "stdout",
     "output_type": "stream",
     "text": [
      "RANK1_MEAN: 33.969\n",
      "NDCG_MEAN: 19.691\n",
      "TIME_SPENT_MEAN: 2.563\n",
      "COUNT_QUERY_RUN: 100\n",
      "COUNT_QUERY_WITHOUT_RESULT: 0\n",
      "COUNT_QUERY_NOT_FOUND: 2\n",
      "===6/18===>  2023-Jun-25 12:00:16 experiment: {'CRITERIA': 'subtheme', 'TOPK_RETRIEVER': 300, 'TOPK_RANKER': 0, 'PIPE': {'PIPE_NAME': 'pipe_join_bm25_sts_reranker', 'PIPE_OBJECT': <haystack.pipelines.base.Pipeline object at 0x7fd36a672ed0>, 'RETRIEVER_TYPE': 'join_sts_bm25', 'RETRIEVER_MODEL_NAME': '', 'RANKER_MODEL_NAME': 'unicamp-dl/ptt5-base-pt-msmarco-100k-v2-7600'}, 'DONE': False}\n",
      "Experimento envolverá 100 registros, queries selecionadas para validação\n"
     ]
    },
    {
     "name": "stderr",
     "output_type": "stream",
     "text": [
      "100%|██████████| 100/100 [03:30<00:00,  2.10s/it]\n"
     ]
    },
    {
     "name": "stdout",
     "output_type": "stream",
     "text": [
      "RANK1_MEAN: 21.775\n",
      "NDCG_MEAN: 16.606\n",
      "TIME_SPENT_MEAN: 2.102\n",
      "COUNT_QUERY_RUN: 100\n",
      "COUNT_QUERY_WITHOUT_RESULT: 0\n",
      "COUNT_QUERY_NOT_FOUND: 29\n",
      "===7/18===>  2023-Jun-25 12:03:47 experiment: {'CRITERIA': 'subtheme', 'TOPK_RETRIEVER': 300, 'TOPK_RANKER': 0, 'PIPE': {'PIPE_NAME': 'pipe_bm25_ranker', 'PIPE_OBJECT': <haystack.pipelines.base.Pipeline object at 0x7fd36a105ad0>, 'RETRIEVER_TYPE': 'bm25', 'RETRIEVER_MODEL_NAME': '', 'RANKER_MODEL_NAME': 'unicamp-dl/ptt5-base-pt-msmarco-100k-v2-7600'}, 'DONE': False}\n",
      "Experimento envolverá 100 registros, queries selecionadas para validação\n"
     ]
    },
    {
     "name": "stderr",
     "output_type": "stream",
     "text": [
      "100%|██████████| 100/100 [04:17<00:00,  2.57s/it]\n"
     ]
    },
    {
     "name": "stdout",
     "output_type": "stream",
     "text": [
      "RANK1_MEAN: 24.087\n",
      "NDCG_MEAN: 15.02\n",
      "TIME_SPENT_MEAN: 2.571\n",
      "COUNT_QUERY_RUN: 100\n",
      "COUNT_QUERY_WITHOUT_RESULT: 0\n",
      "COUNT_QUERY_NOT_FOUND: 31\n",
      "===8/18===>  2023-Jun-25 12:08:05 experiment: {'CRITERIA': 'subtheme', 'TOPK_RETRIEVER': 300, 'TOPK_RANKER': 0, 'PIPE': {'PIPE_NAME': 'pipe_sts_ranker', 'PIPE_OBJECT': <haystack.pipelines.base.Pipeline object at 0x7fd3619278d0>, 'RETRIEVER_TYPE': 'sts', 'RETRIEVER_MODEL_NAME': '', 'RANKER_MODEL_NAME': 'unicamp-dl/ptt5-base-pt-msmarco-100k-v2-7600'}, 'DONE': False}\n",
      "Experimento envolverá 100 registros, queries selecionadas para validação\n"
     ]
    },
    {
     "name": "stderr",
     "output_type": "stream",
     "text": [
      "100%|██████████| 100/100 [04:02<00:00,  2.43s/it]\n"
     ]
    },
    {
     "name": "stdout",
     "output_type": "stream",
     "text": [
      "RANK1_MEAN: 36.905\n",
      "NDCG_MEAN: 7.937\n",
      "TIME_SPENT_MEAN: 2.425\n",
      "COUNT_QUERY_RUN: 100\n",
      "COUNT_QUERY_WITHOUT_RESULT: 0\n",
      "COUNT_QUERY_NOT_FOUND: 26\n",
      "===9/18===>  2023-Jun-25 12:12:08 experiment: {'CRITERIA': 'extra', 'TOPK_RETRIEVER': 300, 'TOPK_RANKER': 0, 'PIPE': {'PIPE_NAME': 'pipe_join_bm25_sts_reranker', 'PIPE_OBJECT': <haystack.pipelines.base.Pipeline object at 0x7fd36a672ed0>, 'RETRIEVER_TYPE': 'join_sts_bm25', 'RETRIEVER_MODEL_NAME': '', 'RANKER_MODEL_NAME': 'unicamp-dl/ptt5-base-pt-msmarco-100k-v2-7600'}, 'DONE': False}\n",
      "Experimento envolverá 100 registros, queries selecionadas para validação\n"
     ]
    },
    {
     "name": "stderr",
     "output_type": "stream",
     "text": [
      "100%|██████████| 100/100 [03:46<00:00,  2.26s/it]\n"
     ]
    },
    {
     "name": "stdout",
     "output_type": "stream",
     "text": [
      "RANK1_MEAN: 15.157\n",
      "NDCG_MEAN: 19.1\n",
      "TIME_SPENT_MEAN: 2.26\n",
      "COUNT_QUERY_RUN: 100\n",
      "COUNT_QUERY_WITHOUT_RESULT: 0\n",
      "COUNT_QUERY_NOT_FOUND: 17\n",
      "===10/18===>  2023-Jun-25 12:15:54 experiment: {'CRITERIA': 'extra', 'TOPK_RETRIEVER': 300, 'TOPK_RANKER': 0, 'PIPE': {'PIPE_NAME': 'pipe_bm25_ranker', 'PIPE_OBJECT': <haystack.pipelines.base.Pipeline object at 0x7fd36a105ad0>, 'RETRIEVER_TYPE': 'bm25', 'RETRIEVER_MODEL_NAME': '', 'RANKER_MODEL_NAME': 'unicamp-dl/ptt5-base-pt-msmarco-100k-v2-7600'}, 'DONE': False}\n",
      "Experimento envolverá 100 registros, queries selecionadas para validação\n"
     ]
    },
    {
     "name": "stderr",
     "output_type": "stream",
     "text": [
      "100%|██████████| 100/100 [04:22<00:00,  2.62s/it]\n"
     ]
    },
    {
     "name": "stdout",
     "output_type": "stream",
     "text": [
      "RANK1_MEAN: 16.547\n",
      "NDCG_MEAN: 17.664\n",
      "TIME_SPENT_MEAN: 2.625\n",
      "COUNT_QUERY_RUN: 100\n",
      "COUNT_QUERY_WITHOUT_RESULT: 0\n",
      "COUNT_QUERY_NOT_FOUND: 14\n",
      "===11/18===>  2023-Jun-25 12:20:18 experiment: {'CRITERIA': 'extra', 'TOPK_RETRIEVER': 300, 'TOPK_RANKER': 0, 'PIPE': {'PIPE_NAME': 'pipe_sts_ranker', 'PIPE_OBJECT': <haystack.pipelines.base.Pipeline object at 0x7fd3619278d0>, 'RETRIEVER_TYPE': 'sts', 'RETRIEVER_MODEL_NAME': '', 'RANKER_MODEL_NAME': 'unicamp-dl/ptt5-base-pt-msmarco-100k-v2-7600'}, 'DONE': False}\n",
      "Experimento envolverá 100 registros, queries selecionadas para validação\n"
     ]
    },
    {
     "name": "stderr",
     "output_type": "stream",
     "text": [
      "100%|██████████| 100/100 [04:03<00:00,  2.43s/it]\n"
     ]
    },
    {
     "name": "stdout",
     "output_type": "stream",
     "text": [
      "RANK1_MEAN: 23.722\n",
      "NDCG_MEAN: 11.797\n",
      "TIME_SPENT_MEAN: 2.431\n",
      "COUNT_QUERY_RUN: 100\n",
      "COUNT_QUERY_WITHOUT_RESULT: 0\n",
      "COUNT_QUERY_NOT_FOUND: 21\n",
      "===12/18===>  2023-Jun-25 12:24:21 experiment: {'CRITERIA': 'total', 'TOPK_RETRIEVER': 300, 'TOPK_RANKER': 0, 'PIPE': {'PIPE_NAME': 'pipe_join_bm25_sts_reranker', 'PIPE_OBJECT': <haystack.pipelines.base.Pipeline object at 0x7fd36a672ed0>, 'RETRIEVER_TYPE': 'join_sts_bm25', 'RETRIEVER_MODEL_NAME': '', 'RANKER_MODEL_NAME': 'unicamp-dl/ptt5-base-pt-msmarco-100k-v2-7600'}, 'DONE': False}\n",
      "Experimento envolverá 100 registros, queries selecionadas para validação\n"
     ]
    },
    {
     "name": "stderr",
     "output_type": "stream",
     "text": [
      "100%|██████████| 100/100 [03:46<00:00,  2.27s/it]\n"
     ]
    },
    {
     "name": "stdout",
     "output_type": "stream",
     "text": [
      "RANK1_MEAN: 3.212\n",
      "NDCG_MEAN: 40.503\n",
      "TIME_SPENT_MEAN: 2.266\n",
      "COUNT_QUERY_RUN: 100\n",
      "COUNT_QUERY_WITHOUT_RESULT: 0\n",
      "COUNT_QUERY_NOT_FOUND: 1\n",
      "===13/18===>  2023-Jun-25 12:28:08 experiment: {'CRITERIA': 'total', 'TOPK_RETRIEVER': 300, 'TOPK_RANKER': 0, 'PIPE': {'PIPE_NAME': 'pipe_bm25_ranker', 'PIPE_OBJECT': <haystack.pipelines.base.Pipeline object at 0x7fd36a105ad0>, 'RETRIEVER_TYPE': 'bm25', 'RETRIEVER_MODEL_NAME': '', 'RANKER_MODEL_NAME': 'unicamp-dl/ptt5-base-pt-msmarco-100k-v2-7600'}, 'DONE': False}\n",
      "Experimento envolverá 100 registros, queries selecionadas para validação\n"
     ]
    },
    {
     "name": "stderr",
     "output_type": "stream",
     "text": [
      "100%|██████████| 100/100 [04:25<00:00,  2.65s/it]\n"
     ]
    },
    {
     "name": "stdout",
     "output_type": "stream",
     "text": [
      "RANK1_MEAN: 5.273\n",
      "NDCG_MEAN: 36.22\n",
      "TIME_SPENT_MEAN: 2.654\n",
      "COUNT_QUERY_RUN: 100\n",
      "COUNT_QUERY_WITHOUT_RESULT: 0\n",
      "COUNT_QUERY_NOT_FOUND: 1\n",
      "===14/18===>  2023-Jun-25 12:32:35 experiment: {'CRITERIA': 'total', 'TOPK_RETRIEVER': 300, 'TOPK_RANKER': 0, 'PIPE': {'PIPE_NAME': 'pipe_sts_ranker', 'PIPE_OBJECT': <haystack.pipelines.base.Pipeline object at 0x7fd3619278d0>, 'RETRIEVER_TYPE': 'sts', 'RETRIEVER_MODEL_NAME': '', 'RANKER_MODEL_NAME': 'unicamp-dl/ptt5-base-pt-msmarco-100k-v2-7600'}, 'DONE': False}\n",
      "Experimento envolverá 100 registros, queries selecionadas para validação\n"
     ]
    },
    {
     "name": "stderr",
     "output_type": "stream",
     "text": [
      "100%|██████████| 100/100 [04:04<00:00,  2.44s/it]\n"
     ]
    },
    {
     "name": "stdout",
     "output_type": "stream",
     "text": [
      "RANK1_MEAN: 5.89\n",
      "NDCG_MEAN: 27.996\n",
      "TIME_SPENT_MEAN: 2.442\n",
      "COUNT_QUERY_RUN: 100\n",
      "COUNT_QUERY_WITHOUT_RESULT: 0\n",
      "COUNT_QUERY_NOT_FOUND: 0\n",
      "===15/18===>  2023-Jun-25 12:36:39 experiment: {'CRITERIA': 'total_gte_5', 'TOPK_RETRIEVER': 300, 'TOPK_RANKER': 0, 'PIPE': {'PIPE_NAME': 'pipe_join_bm25_sts_reranker', 'PIPE_OBJECT': <haystack.pipelines.base.Pipeline object at 0x7fd36a672ed0>, 'RETRIEVER_TYPE': 'join_sts_bm25', 'RETRIEVER_MODEL_NAME': '', 'RANKER_MODEL_NAME': 'unicamp-dl/ptt5-base-pt-msmarco-100k-v2-7600'}, 'DONE': False}\n",
      "Experimento envolverá 100 registros, queries selecionadas para validação\n"
     ]
    },
    {
     "name": "stderr",
     "output_type": "stream",
     "text": [
      "100%|██████████| 100/100 [03:42<00:00,  2.23s/it]\n"
     ]
    },
    {
     "name": "stdout",
     "output_type": "stream",
     "text": [
      "RANK1_MEAN: 4.707\n",
      "NDCG_MEAN: 33.0\n",
      "TIME_SPENT_MEAN: 2.228\n",
      "COUNT_QUERY_RUN: 100\n",
      "COUNT_QUERY_WITHOUT_RESULT: 0\n",
      "COUNT_QUERY_NOT_FOUND: 1\n",
      "===16/18===>  2023-Jun-25 12:40:23 experiment: {'CRITERIA': 'total_gte_5', 'TOPK_RETRIEVER': 300, 'TOPK_RANKER': 0, 'PIPE': {'PIPE_NAME': 'pipe_bm25_ranker', 'PIPE_OBJECT': <haystack.pipelines.base.Pipeline object at 0x7fd36a105ad0>, 'RETRIEVER_TYPE': 'bm25', 'RETRIEVER_MODEL_NAME': '', 'RANKER_MODEL_NAME': 'unicamp-dl/ptt5-base-pt-msmarco-100k-v2-7600'}, 'DONE': False}\n",
      "Experimento envolverá 100 registros, queries selecionadas para validação\n"
     ]
    },
    {
     "name": "stderr",
     "output_type": "stream",
     "text": [
      "100%|██████████| 100/100 [04:26<00:00,  2.66s/it]\n"
     ]
    },
    {
     "name": "stdout",
     "output_type": "stream",
     "text": [
      "RANK1_MEAN: 6.02\n",
      "NDCG_MEAN: 30.353\n",
      "TIME_SPENT_MEAN: 2.663\n",
      "COUNT_QUERY_RUN: 100\n",
      "COUNT_QUERY_WITHOUT_RESULT: 0\n",
      "COUNT_QUERY_NOT_FOUND: 1\n",
      "===17/18===>  2023-Jun-25 12:44:50 experiment: {'CRITERIA': 'total_gte_5', 'TOPK_RETRIEVER': 300, 'TOPK_RANKER': 0, 'PIPE': {'PIPE_NAME': 'pipe_sts_ranker', 'PIPE_OBJECT': <haystack.pipelines.base.Pipeline object at 0x7fd3619278d0>, 'RETRIEVER_TYPE': 'sts', 'RETRIEVER_MODEL_NAME': '', 'RANKER_MODEL_NAME': 'unicamp-dl/ptt5-base-pt-msmarco-100k-v2-7600'}, 'DONE': False}\n",
      "Experimento envolverá 100 registros, queries selecionadas para validação\n"
     ]
    },
    {
     "name": "stderr",
     "output_type": "stream",
     "text": [
      "100%|██████████| 100/100 [04:09<00:00,  2.50s/it]\n"
     ]
    },
    {
     "name": "stdout",
     "output_type": "stream",
     "text": [
      "RANK1_MEAN: 7.85\n",
      "NDCG_MEAN: 22.708\n",
      "TIME_SPENT_MEAN: 2.498\n",
      "COUNT_QUERY_RUN: 100\n",
      "COUNT_QUERY_WITHOUT_RESULT: 0\n",
      "COUNT_QUERY_NOT_FOUND: 0\n",
      "CPU times: user 58min 8s, sys: 1.06 s, total: 58min 9s\n",
      "Wall time: 1h 1min 15s\n"
     ]
    }
   ],
   "source": [
    "%%time\n",
    "# colocar pequeno só para testes, depois voltar para 9999999 (número maior do que o número de termos a pesquisar)\n",
    "limit_query = 100 #  9999999 # 100 # \n",
    "for cnt, experiment in enumerate(list_experiment):\n",
    "    if not experiment['DONE']:\n",
    "        list_result_experiment = [] # por experiment\n",
    "        # no caso de normas segecex, bastaria 224 para qtd5 e 891 para qtd1\n",
    "        print(f\"==={cnt}/{len(list_experiment)}===>  {time.strftime('%Y-%b-%d %H:%M:%S')} experiment: {experiment}\")\n",
    "        result_run = util_experiment.experiment_run(parm_df=df_search_data, \n",
    "                                                parm_experiment=experiment,\n",
    "                                                parm_ndcg_position=12,\n",
    "                                                parm_limit_query=limit_query,\n",
    "                                                parm_print=True)\n",
    "        list_result_experiment.append(result_run)\n",
    "        # print(f\"qtd_encontrado sim:{result_run['qtd_encontrado']}, não:{result_run['qtd_nao_encontrado']} ({result_run['percent_nao_encontrado']}%)\")\n",
    "        experiment['DONE'] = True\n",
    "        util_experiment.add_experiment_result(parm_list_result=list_result_experiment, parm_dataset='juris_tcu_index')\n",
    "\n"
   ]
  },
  {
   "attachments": {},
   "cell_type": "markdown",
   "metadata": {},
   "source": [
    "Free resources: "
   ]
  },
  {
   "cell_type": "code",
   "execution_count": null,
   "metadata": {},
   "outputs": [
    {
     "ename": "",
     "evalue": "",
     "output_type": "error",
     "traceback": [
      "\u001b[1;31mThe Kernel crashed while executing code in the the current cell or a previous cell. Please review the code in the cell(s) to identify a possible cause of the failure. Click <a href='https://aka.ms/vscodeJupyterKernelCrash'>here</a> for more info. View Jupyter <a href='command:jupyter.viewOutput'>log</a> for further details."
     ]
    }
   ],
   "source": [
    "quit()"
   ]
  },
  {
   "cell_type": "code",
   "execution_count": null,
   "metadata": {},
   "outputs": [],
   "source": []
  }
 ],
 "metadata": {
  "kernelspec": {
   "display_name": "relevar-busca",
   "language": "python",
   "name": "python3"
  },
  "language_info": {
   "codemirror_mode": {
    "name": "ipython",
    "version": 3
   },
   "file_extension": ".py",
   "mimetype": "text/x-python",
   "name": "python",
   "nbconvert_exporter": "python",
   "pygments_lexer": "ipython3",
   "version": "3.7.13"
  },
  "orig_nbformat": 4,
  "vscode": {
   "interpreter": {
    "hash": "45978bf3509deeb93161d1472b16f82a40245d44c2beae6c63ad8f9bb3f69171"
   }
  }
 },
 "nbformat": 4,
 "nbformat_minor": 2
}
