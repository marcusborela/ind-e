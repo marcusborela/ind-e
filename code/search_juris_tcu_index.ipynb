{
 "cells": [
  {
   "attachments": {},
   "cell_type": "markdown",
   "id": "998a4011",
   "metadata": {},
   "source": [
    "# Imports and preparation"
   ]
  },
  {
   "cell_type": "code",
   "execution_count": 1,
   "metadata": {},
   "outputs": [],
   "source": [
    "import os"
   ]
  },
  {
   "cell_type": "code",
   "execution_count": 2,
   "metadata": {},
   "outputs": [],
   "source": [
    "import numpy as np"
   ]
  },
  {
   "cell_type": "code",
   "execution_count": 3,
   "id": "37d4165c",
   "metadata": {},
   "outputs": [],
   "source": [
    "import pandas as pd"
   ]
  },
  {
   "cell_type": "code",
   "execution_count": 4,
   "metadata": {},
   "outputs": [],
   "source": [
    "from tqdm import tqdm"
   ]
  },
  {
   "cell_type": "code",
   "execution_count": 5,
   "metadata": {},
   "outputs": [],
   "source": [
    "import time, gc"
   ]
  },
  {
   "cell_type": "code",
   "execution_count": 6,
   "metadata": {},
   "outputs": [],
   "source": [
    "import importlib"
   ]
  },
  {
   "cell_type": "code",
   "execution_count": 7,
   "metadata": {},
   "outputs": [],
   "source": [
    "from itertools import product\n"
   ]
  },
  {
   "cell_type": "code",
   "execution_count": 8,
   "metadata": {},
   "outputs": [
    {
     "name": "stderr",
     "output_type": "stream",
     "text": [
      "OpenAI tiktoken module is not available for Python < 3.8,Linux ARM64 and AARCH64. Falling back to GPT2TokenizerFast.\n",
      "WARNING:haystack.nodes.answer_generator.openai:OpenAI tiktoken module is not available for Python < 3.8,Linux ARM64 and AARCH64. Falling back to GPT2TokenizerFast.\n"
     ]
    }
   ],
   "source": [
    "from util import util_elastic"
   ]
  },
  {
   "cell_type": "code",
   "execution_count": 9,
   "metadata": {},
   "outputs": [],
   "source": [
    "from util import util_pipeline"
   ]
  },
  {
   "cell_type": "code",
   "execution_count": 10,
   "metadata": {},
   "outputs": [],
   "source": [
    "from util import util_experiment"
   ]
  },
  {
   "cell_type": "code",
   "execution_count": 11,
   "id": "f911fcf2",
   "metadata": {},
   "outputs": [],
   "source": [
    "# Para ter repetibilidade nos resultados\n",
    "random_state = 1\n",
    "\n",
    "# Tratar valores infinitos (+ e -) como np.NaN\n",
    "pd.options.mode.use_inf_as_na = True\n",
    "\n",
    "# IMPORTANTE para tornar figuras interativas\n",
    "# %matplotlib notebook\n",
    "\n",
    "# Tamanho padrão das figuras\n",
    "figsize=(10,6)\n",
    "\n",
    "pd.set_option('display.max_row', 1000)\n",
    "\n",
    "pd.set_option('display.max_columns', 50)\n",
    "\n",
    "pd.set_option('display.column_space', 40)\n",
    "pd.set_option('display.max_colwidth', 100)\n",
    "pd.set_option('display.width', 200)\n"
   ]
  },
  {
   "cell_type": "code",
   "execution_count": 12,
   "id": "6e05b9a6",
   "metadata": {},
   "outputs": [],
   "source": [
    "PATH_QUERY = '../data/juris_tcu_index/query.csv'\n",
    "PATH_QREL =  '../data/juris_tcu_index/qrel.csv'"
   ]
  },
  {
   "attachments": {},
   "cell_type": "markdown",
   "metadata": {},
   "source": [
    "# Data load"
   ]
  },
  {
   "attachments": {},
   "cell_type": "markdown",
   "metadata": {},
   "source": [
    "## Query data load"
   ]
  },
  {
   "cell_type": "code",
   "execution_count": 13,
   "id": "1cf03f22",
   "metadata": {},
   "outputs": [],
   "source": [
    "df_query = pd.read_csv(PATH_QUERY)"
   ]
  },
  {
   "cell_type": "code",
   "execution_count": 14,
   "metadata": {},
   "outputs": [
    {
     "data": {
      "text/plain": [
       "(16045, 11)"
      ]
     },
     "execution_count": 14,
     "metadata": {},
     "output_type": "execute_result"
    }
   ],
   "source": [
    "df_query.shape"
   ]
  },
  {
   "cell_type": "code",
   "execution_count": 15,
   "metadata": {},
   "outputs": [
    {
     "data": {
      "text/html": [
       "<div>\n",
       "<style scoped>\n",
       "    .dataframe tbody tr th:only-of-type {\n",
       "        vertical-align: middle;\n",
       "    }\n",
       "\n",
       "    .dataframe tbody tr th {\n",
       "        vertical-align: top;\n",
       "    }\n",
       "\n",
       "    .dataframe thead th {\n",
       "        text-align: right;\n",
       "    }\n",
       "</style>\n",
       "<table border=\"1\" class=\"dataframe\">\n",
       "  <thead>\n",
       "    <tr style=\"text-align: right;\">\n",
       "      <th></th>\n",
       "      <th>ID</th>\n",
       "      <th>TEXT</th>\n",
       "      <th>REFERENCE_LIST</th>\n",
       "      <th>PARADIGMATIC</th>\n",
       "      <th>AREA_NAME</th>\n",
       "      <th>AREA_ID_DESCRIPTOR</th>\n",
       "      <th>NORMATIVE_PROCESS_TYPE</th>\n",
       "      <th>NORMATIVE_IDENTIFICATION</th>\n",
       "      <th>NORMATIVE_DATE</th>\n",
       "      <th>NORMATIVE_AUTHOR_TYPE</th>\n",
       "      <th>NORMATIVE_AUTHOR_NAME</th>\n",
       "    </tr>\n",
       "  </thead>\n",
       "  <tbody>\n",
       "    <tr>\n",
       "      <th>5618</th>\n",
       "      <td>2845</td>\n",
       "      <td>Em regra, o pregão é a modalidade de licitação adequada para a concessão remunerada de uso de be...</td>\n",
       "      <td>NaN</td>\n",
       "      <td>NaN</td>\n",
       "      <td>Licitação</td>\n",
       "      <td>932</td>\n",
       "      <td>REPRESENTAÇÃO</td>\n",
       "      <td>Acórdão 478/2016 - Plenário</td>\n",
       "      <td>2016-03-02</td>\n",
       "      <td>RELATOR</td>\n",
       "      <td>MARCOS BEMQUERER</td>\n",
       "    </tr>\n",
       "  </tbody>\n",
       "</table>\n",
       "</div>"
      ],
      "text/plain": [
       "        ID                                                                                                 TEXT REFERENCE_LIST PARADIGMATIC  AREA_NAME  AREA_ID_DESCRIPTOR NORMATIVE_PROCESS_TYPE  \\\n",
       "5618  2845  Em regra, o pregão é a modalidade de licitação adequada para a concessão remunerada de uso de be...            NaN          NaN  Licitação                 932          REPRESENTAÇÃO   \n",
       "\n",
       "         NORMATIVE_IDENTIFICATION NORMATIVE_DATE NORMATIVE_AUTHOR_TYPE NORMATIVE_AUTHOR_NAME  \n",
       "5618  Acórdão 478/2016 - Plenário     2016-03-02               RELATOR      MARCOS BEMQUERER  "
      ]
     },
     "execution_count": 15,
     "metadata": {},
     "output_type": "execute_result"
    }
   ],
   "source": [
    "df_query[df_query['ID']==2845]"
   ]
  },
  {
   "cell_type": "code",
   "execution_count": 16,
   "id": "a75dd812",
   "metadata": {},
   "outputs": [
    {
     "data": {
      "text/html": [
       "<div>\n",
       "<style scoped>\n",
       "    .dataframe tbody tr th:only-of-type {\n",
       "        vertical-align: middle;\n",
       "    }\n",
       "\n",
       "    .dataframe tbody tr th {\n",
       "        vertical-align: top;\n",
       "    }\n",
       "\n",
       "    .dataframe thead th {\n",
       "        text-align: right;\n",
       "    }\n",
       "</style>\n",
       "<table border=\"1\" class=\"dataframe\">\n",
       "  <thead>\n",
       "    <tr style=\"text-align: right;\">\n",
       "      <th></th>\n",
       "      <th>ID</th>\n",
       "      <th>TEXT</th>\n",
       "      <th>REFERENCE_LIST</th>\n",
       "      <th>PARADIGMATIC</th>\n",
       "      <th>AREA_NAME</th>\n",
       "      <th>AREA_ID_DESCRIPTOR</th>\n",
       "      <th>NORMATIVE_PROCESS_TYPE</th>\n",
       "      <th>NORMATIVE_IDENTIFICATION</th>\n",
       "      <th>NORMATIVE_DATE</th>\n",
       "      <th>NORMATIVE_AUTHOR_TYPE</th>\n",
       "      <th>NORMATIVE_AUTHOR_NAME</th>\n",
       "    </tr>\n",
       "  </thead>\n",
       "  <tbody>\n",
       "    <tr>\n",
       "      <th>0</th>\n",
       "      <td>13568</td>\n",
       "      <td>É ilegal a contagem de tempo ficto de serviço prestado sob a égide da Lei 3.313/1957, proporcion...</td>\n",
       "      <td>Lei Complementar 51/1985 || Lei Ordinária 3313/1957</td>\n",
       "      <td>NaN</td>\n",
       "      <td>Pessoal</td>\n",
       "      <td>1131</td>\n",
       "      <td>APOSENTADORIA</td>\n",
       "      <td>Acórdão 168/2014 - Segunda Câmara</td>\n",
       "      <td>2014-01-28</td>\n",
       "      <td>RELATOR</td>\n",
       "      <td>JOSÉ JORGE</td>\n",
       "    </tr>\n",
       "    <tr>\n",
       "      <th>1</th>\n",
       "      <td>11614</td>\n",
       "      <td>SÚMULA TCU 283: Para fim de habilitação, a Administração Pública não deve exigir dos licitantes ...</td>\n",
       "      <td>NaN</td>\n",
       "      <td>SUMULA</td>\n",
       "      <td>Licitação</td>\n",
       "      <td>932</td>\n",
       "      <td>ADMINISTRATIVO</td>\n",
       "      <td>Acórdão 1613/2013 - Plenário</td>\n",
       "      <td>2013-06-26</td>\n",
       "      <td>RELATOR</td>\n",
       "      <td>JOSÉ JORGE</td>\n",
       "    </tr>\n",
       "    <tr>\n",
       "      <th>2</th>\n",
       "      <td>21087</td>\n",
       "      <td>A contratação de serviços por preços superiores às referências legais (Sinapi e Sicro) deve ser,...</td>\n",
       "      <td>NaN</td>\n",
       "      <td>NaN</td>\n",
       "      <td>Licitação</td>\n",
       "      <td>932</td>\n",
       "      <td>PRESTAÇÃO DE CONTAS</td>\n",
       "      <td>Acórdão 3936/2013 - Segunda Câmara</td>\n",
       "      <td>2013-07-09</td>\n",
       "      <td>RELATOR</td>\n",
       "      <td>ANA ARRAES</td>\n",
       "    </tr>\n",
       "    <tr>\n",
       "      <th>3</th>\n",
       "      <td>35016</td>\n",
       "      <td>Não se aplica, excepcionalmente, multa aos gestores por grave infração à norma legal se a irregu...</td>\n",
       "      <td>NaN</td>\n",
       "      <td>NaN</td>\n",
       "      <td>Responsabilidade</td>\n",
       "      <td>775</td>\n",
       "      <td>REPRESENTAÇÃO</td>\n",
       "      <td>Acórdão 3231/2011 - Plenário</td>\n",
       "      <td>2011-12-07</td>\n",
       "      <td>RELATOR</td>\n",
       "      <td>AROLDO CEDRAZ</td>\n",
       "    </tr>\n",
       "    <tr>\n",
       "      <th>4</th>\n",
       "      <td>29370</td>\n",
       "      <td>Em contratatações de TI, não cabe aceitar propostas de preço com incidência de encargos majorado...</td>\n",
       "      <td>NaN</td>\n",
       "      <td>NaN</td>\n",
       "      <td>Licitação</td>\n",
       "      <td>932</td>\n",
       "      <td>REPRESENTAÇÃO</td>\n",
       "      <td>Acórdão 3231/2011 - Plenário</td>\n",
       "      <td>2011-12-07</td>\n",
       "      <td>RELATOR</td>\n",
       "      <td>AROLDO CEDRAZ</td>\n",
       "    </tr>\n",
       "  </tbody>\n",
       "</table>\n",
       "</div>"
      ],
      "text/plain": [
       "      ID                                                                                                 TEXT                                       REFERENCE_LIST PARADIGMATIC         AREA_NAME  \\\n",
       "0  13568  É ilegal a contagem de tempo ficto de serviço prestado sob a égide da Lei 3.313/1957, proporcion...  Lei Complementar 51/1985 || Lei Ordinária 3313/1957          NaN           Pessoal   \n",
       "1  11614  SÚMULA TCU 283: Para fim de habilitação, a Administração Pública não deve exigir dos licitantes ...                                                  NaN       SUMULA         Licitação   \n",
       "2  21087  A contratação de serviços por preços superiores às referências legais (Sinapi e Sicro) deve ser,...                                                  NaN          NaN         Licitação   \n",
       "3  35016  Não se aplica, excepcionalmente, multa aos gestores por grave infração à norma legal se a irregu...                                                  NaN          NaN  Responsabilidade   \n",
       "4  29370  Em contratatações de TI, não cabe aceitar propostas de preço com incidência de encargos majorado...                                                  NaN          NaN         Licitação   \n",
       "\n",
       "   AREA_ID_DESCRIPTOR NORMATIVE_PROCESS_TYPE            NORMATIVE_IDENTIFICATION NORMATIVE_DATE NORMATIVE_AUTHOR_TYPE NORMATIVE_AUTHOR_NAME  \n",
       "0                1131          APOSENTADORIA   Acórdão 168/2014 - Segunda Câmara     2014-01-28               RELATOR            JOSÉ JORGE  \n",
       "1                 932         ADMINISTRATIVO        Acórdão 1613/2013 - Plenário     2013-06-26               RELATOR            JOSÉ JORGE  \n",
       "2                 932    PRESTAÇÃO DE CONTAS  Acórdão 3936/2013 - Segunda Câmara     2013-07-09               RELATOR            ANA ARRAES  \n",
       "3                 775          REPRESENTAÇÃO        Acórdão 3231/2011 - Plenário     2011-12-07               RELATOR         AROLDO CEDRAZ  \n",
       "4                 932          REPRESENTAÇÃO        Acórdão 3231/2011 - Plenário     2011-12-07               RELATOR         AROLDO CEDRAZ  "
      ]
     },
     "execution_count": 16,
     "metadata": {},
     "output_type": "execute_result"
    }
   ],
   "source": [
    "df_query.head()"
   ]
  },
  {
   "attachments": {},
   "cell_type": "markdown",
   "metadata": {},
   "source": [
    "## Qrel data load"
   ]
  },
  {
   "cell_type": "code",
   "execution_count": 17,
   "id": "1cf03f22",
   "metadata": {},
   "outputs": [],
   "source": [
    "df_qrel = pd.read_csv(PATH_QREL)"
   ]
  },
  {
   "cell_type": "code",
   "execution_count": 18,
   "metadata": {},
   "outputs": [
    {
     "data": {
      "text/plain": [
       "(94809, 3)"
      ]
     },
     "execution_count": 18,
     "metadata": {},
     "output_type": "execute_result"
    }
   ],
   "source": [
    "df_qrel.shape"
   ]
  },
  {
   "cell_type": "code",
   "execution_count": 19,
   "id": "a75dd812",
   "metadata": {},
   "outputs": [
    {
     "data": {
      "text/html": [
       "<div>\n",
       "<style scoped>\n",
       "    .dataframe tbody tr th:only-of-type {\n",
       "        vertical-align: middle;\n",
       "    }\n",
       "\n",
       "    .dataframe tbody tr th {\n",
       "        vertical-align: top;\n",
       "    }\n",
       "\n",
       "    .dataframe thead th {\n",
       "        text-align: right;\n",
       "    }\n",
       "</style>\n",
       "<table border=\"1\" class=\"dataframe\">\n",
       "  <thead>\n",
       "    <tr style=\"text-align: right;\">\n",
       "      <th></th>\n",
       "      <th>ID_QUERY</th>\n",
       "      <th>ID_DOCTO</th>\n",
       "      <th>TYPE</th>\n",
       "    </tr>\n",
       "  </thead>\n",
       "  <tbody>\n",
       "    <tr>\n",
       "      <th>0</th>\n",
       "      <td>158</td>\n",
       "      <td>15147</td>\n",
       "      <td>INDEXACAO_EXTRA</td>\n",
       "    </tr>\n",
       "    <tr>\n",
       "      <th>1</th>\n",
       "      <td>37</td>\n",
       "      <td>15147</td>\n",
       "      <td>INDEXACAO_EXTRA</td>\n",
       "    </tr>\n",
       "    <tr>\n",
       "      <th>2</th>\n",
       "      <td>178</td>\n",
       "      <td>15147</td>\n",
       "      <td>INDEXACAO_EXTRA</td>\n",
       "    </tr>\n",
       "    <tr>\n",
       "      <th>3</th>\n",
       "      <td>14564</td>\n",
       "      <td>15147</td>\n",
       "      <td>INDEXACAO_EXTRA</td>\n",
       "    </tr>\n",
       "    <tr>\n",
       "      <th>4</th>\n",
       "      <td>9219</td>\n",
       "      <td>15147</td>\n",
       "      <td>INDEXACAO_EXTRA</td>\n",
       "    </tr>\n",
       "  </tbody>\n",
       "</table>\n",
       "</div>"
      ],
      "text/plain": [
       "   ID_QUERY  ID_DOCTO             TYPE\n",
       "0       158     15147  INDEXACAO_EXTRA\n",
       "1        37     15147  INDEXACAO_EXTRA\n",
       "2       178     15147  INDEXACAO_EXTRA\n",
       "3     14564     15147  INDEXACAO_EXTRA\n",
       "4      9219     15147  INDEXACAO_EXTRA"
      ]
     },
     "execution_count": 19,
     "metadata": {},
     "output_type": "execute_result"
    }
   ],
   "source": [
    "df_qrel.head()"
   ]
  },
  {
   "cell_type": "code",
   "execution_count": 20,
   "metadata": {},
   "outputs": [
    {
     "data": {
      "text/plain": [
       "94809"
      ]
     },
     "execution_count": 20,
     "metadata": {},
     "output_type": "execute_result"
    }
   ],
   "source": [
    "df_qrel.shape[0]"
   ]
  },
  {
   "cell_type": "code",
   "execution_count": 21,
   "metadata": {},
   "outputs": [],
   "source": [
    "df_search_data = df_query.merge(df_qrel, how='left', left_on='ID', right_on='ID_QUERY').drop('ID_QUERY', axis=1)"
   ]
  },
  {
   "cell_type": "code",
   "execution_count": 22,
   "metadata": {},
   "outputs": [
    {
     "data": {
      "text/plain": [
       "94809"
      ]
     },
     "execution_count": 22,
     "metadata": {},
     "output_type": "execute_result"
    }
   ],
   "source": [
    "df_search_data.shape[0]\n"
   ]
  },
  {
   "cell_type": "code",
   "execution_count": 23,
   "metadata": {},
   "outputs": [],
   "source": [
    "# Agrupar os dados pelo ID e criar a coluna 'RELEVANCE_LIST' com a lista de tuplas\n",
    "# df_new = df_search_data.groupby('ID').apply(lambda x: list(zip(x['ID_DOCTO'], x['TYPE']))).reset_index(name='RELEVANCE_LIST')\n",
    "# df_new['RELEVANCE_LIST'] = df_new['RELEVANCE_LIST'].apply(lambda x: sorted(x, key=lambda tup: ('AREA', 'TEMA', 'SUBTEMA', 'INDEXACAO_EXTRA').index(tup[1])))\n",
    "df_new = df_search_data.groupby('ID').apply(lambda x: dict(zip(x['ID_DOCTO'], x['TYPE']))).reset_index(name='RELEVANCE_DICT')\n"
   ]
  },
  {
   "cell_type": "code",
   "execution_count": 24,
   "metadata": {},
   "outputs": [
    {
     "data": {
      "text/html": [
       "<div>\n",
       "<style scoped>\n",
       "    .dataframe tbody tr th:only-of-type {\n",
       "        vertical-align: middle;\n",
       "    }\n",
       "\n",
       "    .dataframe tbody tr th {\n",
       "        vertical-align: top;\n",
       "    }\n",
       "\n",
       "    .dataframe thead th {\n",
       "        text-align: right;\n",
       "    }\n",
       "</style>\n",
       "<table border=\"1\" class=\"dataframe\">\n",
       "  <thead>\n",
       "    <tr style=\"text-align: right;\">\n",
       "      <th></th>\n",
       "      <th>ID</th>\n",
       "      <th>RELEVANCE_DICT</th>\n",
       "    </tr>\n",
       "  </thead>\n",
       "  <tbody>\n",
       "    <tr>\n",
       "      <th>0</th>\n",
       "      <td>5</td>\n",
       "      <td>{1298: 'INDEXACAO_EXTRA', 15340: 'INDEXACAO_EXTRA', 15961: 'INDEXACAO_EXTRA', 1131: 'AREA', 5106...</td>\n",
       "    </tr>\n",
       "    <tr>\n",
       "      <th>1</th>\n",
       "      <td>6</td>\n",
       "      <td>{207: 'INDEXACAO_EXTRA', 15961: 'INDEXACAO_EXTRA', 1131: 'AREA', 5106: 'SUBTEMA', 1113: 'TEMA'}</td>\n",
       "    </tr>\n",
       "    <tr>\n",
       "      <th>2</th>\n",
       "      <td>7</td>\n",
       "      <td>{108: 'INDEXACAO_EXTRA', 1526: 'TEMA', 1727: 'SUBTEMA', 223: 'INDEXACAO_EXTRA', 650: 'INDEXACAO_...</td>\n",
       "    </tr>\n",
       "    <tr>\n",
       "      <th>3</th>\n",
       "      <td>8</td>\n",
       "      <td>{887: 'SUBTEMA', 92: 'TEMA', 1131: 'AREA', 1100820: 'INDEXACAO_EXTRA'}</td>\n",
       "    </tr>\n",
       "    <tr>\n",
       "      <th>4</th>\n",
       "      <td>9</td>\n",
       "      <td>{1215: 'INDEXACAO_EXTRA', 14715: 'SUBTEMA', 46: 'TEMA', 1480: 'INDEXACAO_EXTRA', 5095: 'AREA'}</td>\n",
       "    </tr>\n",
       "  </tbody>\n",
       "</table>\n",
       "</div>"
      ],
      "text/plain": [
       "   ID                                                                                       RELEVANCE_DICT\n",
       "0   5  {1298: 'INDEXACAO_EXTRA', 15340: 'INDEXACAO_EXTRA', 15961: 'INDEXACAO_EXTRA', 1131: 'AREA', 5106...\n",
       "1   6      {207: 'INDEXACAO_EXTRA', 15961: 'INDEXACAO_EXTRA', 1131: 'AREA', 5106: 'SUBTEMA', 1113: 'TEMA'}\n",
       "2   7  {108: 'INDEXACAO_EXTRA', 1526: 'TEMA', 1727: 'SUBTEMA', 223: 'INDEXACAO_EXTRA', 650: 'INDEXACAO_...\n",
       "3   8                               {887: 'SUBTEMA', 92: 'TEMA', 1131: 'AREA', 1100820: 'INDEXACAO_EXTRA'}\n",
       "4   9       {1215: 'INDEXACAO_EXTRA', 14715: 'SUBTEMA', 46: 'TEMA', 1480: 'INDEXACAO_EXTRA', 5095: 'AREA'}"
      ]
     },
     "execution_count": 24,
     "metadata": {},
     "output_type": "execute_result"
    }
   ],
   "source": [
    "df_new.head()"
   ]
  },
  {
   "cell_type": "code",
   "execution_count": 25,
   "metadata": {},
   "outputs": [],
   "source": [
    "# Unir o resultado com as demais colunas únicas\n",
    "df_new = pd.merge(df_new, df_search_data.drop_duplicates('ID'), on='ID', how='left')"
   ]
  },
  {
   "cell_type": "code",
   "execution_count": 26,
   "metadata": {},
   "outputs": [],
   "source": [
    "\n",
    "# Selecionar as colunas desejadas\n",
    "df_search_data = df_new[['ID', 'TEXT', 'REFERENCE_LIST', 'PARADIGMATIC', 'AREA_NAME', 'AREA_ID_DESCRIPTOR', 'NORMATIVE_PROCESS_TYPE', 'NORMATIVE_IDENTIFICATION', 'NORMATIVE_DATE', 'NORMATIVE_AUTHOR_TYPE', 'NORMATIVE_AUTHOR_NAME', 'RELEVANCE_DICT']]\n"
   ]
  },
  {
   "cell_type": "code",
   "execution_count": 27,
   "metadata": {},
   "outputs": [
    {
     "data": {
      "text/plain": [
       "(16045, 12)"
      ]
     },
     "execution_count": 27,
     "metadata": {},
     "output_type": "execute_result"
    }
   ],
   "source": [
    "df_search_data.shape"
   ]
  },
  {
   "cell_type": "code",
   "execution_count": 28,
   "id": "60e55155",
   "metadata": {},
   "outputs": [],
   "source": [
    "df_search_data = df_search_data.reset_index()"
   ]
  },
  {
   "cell_type": "code",
   "execution_count": 29,
   "metadata": {},
   "outputs": [
    {
     "data": {
      "text/html": [
       "<div>\n",
       "<style scoped>\n",
       "    .dataframe tbody tr th:only-of-type {\n",
       "        vertical-align: middle;\n",
       "    }\n",
       "\n",
       "    .dataframe tbody tr th {\n",
       "        vertical-align: top;\n",
       "    }\n",
       "\n",
       "    .dataframe thead th {\n",
       "        text-align: right;\n",
       "    }\n",
       "</style>\n",
       "<table border=\"1\" class=\"dataframe\">\n",
       "  <thead>\n",
       "    <tr style=\"text-align: right;\">\n",
       "      <th></th>\n",
       "      <th>index</th>\n",
       "      <th>ID</th>\n",
       "      <th>TEXT</th>\n",
       "      <th>REFERENCE_LIST</th>\n",
       "      <th>PARADIGMATIC</th>\n",
       "      <th>AREA_NAME</th>\n",
       "      <th>AREA_ID_DESCRIPTOR</th>\n",
       "      <th>NORMATIVE_PROCESS_TYPE</th>\n",
       "      <th>NORMATIVE_IDENTIFICATION</th>\n",
       "      <th>NORMATIVE_DATE</th>\n",
       "      <th>NORMATIVE_AUTHOR_TYPE</th>\n",
       "      <th>NORMATIVE_AUTHOR_NAME</th>\n",
       "      <th>RELEVANCE_DICT</th>\n",
       "    </tr>\n",
       "  </thead>\n",
       "  <tbody>\n",
       "    <tr>\n",
       "      <th>0</th>\n",
       "      <td>0</td>\n",
       "      <td>5</td>\n",
       "      <td>SÚMULA TCU 1: Não se compreendem como vencimento, para efeito de concessão da pensão especial co...</td>\n",
       "      <td>Lei Ordinária 3738/1960 || Lei Ordinária 1711/1952, art. 184</td>\n",
       "      <td>SUMULA</td>\n",
       "      <td>Pessoal</td>\n",
       "      <td>1131</td>\n",
       "      <td>NaN</td>\n",
       "      <td>Ata 88/1973 - Plenário</td>\n",
       "      <td>1973-12-04</td>\n",
       "      <td>RELATOR</td>\n",
       "      <td>OCTÁVIO GALLOTTI</td>\n",
       "      <td>{1298: 'INDEXACAO_EXTRA', 15340: 'INDEXACAO_EXTRA', 15961: 'INDEXACAO_EXTRA', 1131: 'AREA', 5106...</td>\n",
       "    </tr>\n",
       "    <tr>\n",
       "      <th>1</th>\n",
       "      <td>1</td>\n",
       "      <td>6</td>\n",
       "      <td>SÚMULA TCU 2: Configura-se como vencimento, para efeito da concessão da pensão especial com fund...</td>\n",
       "      <td>Lei Ordinária 3738/1960</td>\n",
       "      <td>SUMULA</td>\n",
       "      <td>Pessoal</td>\n",
       "      <td>1131</td>\n",
       "      <td>NaN</td>\n",
       "      <td>Ata 88/1973 - Plenário</td>\n",
       "      <td>1973-12-04</td>\n",
       "      <td>RELATOR</td>\n",
       "      <td>OCTÁVIO GALLOTTI</td>\n",
       "      <td>{207: 'INDEXACAO_EXTRA', 15961: 'INDEXACAO_EXTRA', 1131: 'AREA', 5106: 'SUBTEMA', 1113: 'TEMA'}</td>\n",
       "    </tr>\n",
       "    <tr>\n",
       "      <th>2</th>\n",
       "      <td>2</td>\n",
       "      <td>7</td>\n",
       "      <td>SÚMULA TCU 3: O arquivamento é a solução indicada para as hipóteses em que as contas de responsá...</td>\n",
       "      <td>NaN</td>\n",
       "      <td>SUMULA</td>\n",
       "      <td>Direito processual</td>\n",
       "      <td>5288</td>\n",
       "      <td>NaN</td>\n",
       "      <td>Ata 88/1973 - Plenário</td>\n",
       "      <td>1973-12-04</td>\n",
       "      <td>RELATOR</td>\n",
       "      <td>OCTÁVIO GALLOTTI</td>\n",
       "      <td>{108: 'INDEXACAO_EXTRA', 1526: 'TEMA', 1727: 'SUBTEMA', 223: 'INDEXACAO_EXTRA', 650: 'INDEXACAO_...</td>\n",
       "    </tr>\n",
       "    <tr>\n",
       "      <th>3</th>\n",
       "      <td>3</td>\n",
       "      <td>8</td>\n",
       "      <td>SÚMULA TCU 4: A reclassificação de cargos não aproveita ao servidor aposentado, a menos que lei ...</td>\n",
       "      <td>NaN</td>\n",
       "      <td>SUMULA</td>\n",
       "      <td>Pessoal</td>\n",
       "      <td>1131</td>\n",
       "      <td>NaN</td>\n",
       "      <td>Ata 88/1973 - Plenário</td>\n",
       "      <td>1973-12-04</td>\n",
       "      <td>RELATOR</td>\n",
       "      <td>OCTÁVIO GALLOTTI</td>\n",
       "      <td>{887: 'SUBTEMA', 92: 'TEMA', 1131: 'AREA', 1100820: 'INDEXACAO_EXTRA'}</td>\n",
       "    </tr>\n",
       "    <tr>\n",
       "      <th>4</th>\n",
       "      <td>4</td>\n",
       "      <td>9</td>\n",
       "      <td>SÚMULA TCU 5 (REVOGADA): As sociedades de economia mista, salvo disposição expressa em lei, não ...</td>\n",
       "      <td>NaN</td>\n",
       "      <td>SUMULA</td>\n",
       "      <td>Competência do TCU</td>\n",
       "      <td>5095</td>\n",
       "      <td>NaN</td>\n",
       "      <td>AC 2082/2007-PL</td>\n",
       "      <td>2007-10-03</td>\n",
       "      <td>RELATOR</td>\n",
       "      <td>UBIRATAN AGUIAR</td>\n",
       "      <td>{1215: 'INDEXACAO_EXTRA', 14715: 'SUBTEMA', 46: 'TEMA', 1480: 'INDEXACAO_EXTRA', 5095: 'AREA'}</td>\n",
       "    </tr>\n",
       "  </tbody>\n",
       "</table>\n",
       "</div>"
      ],
      "text/plain": [
       "   index  ID                                                                                                 TEXT                                                REFERENCE_LIST PARADIGMATIC  \\\n",
       "0      0   5  SÚMULA TCU 1: Não se compreendem como vencimento, para efeito de concessão da pensão especial co...  Lei Ordinária 3738/1960 || Lei Ordinária 1711/1952, art. 184       SUMULA   \n",
       "1      1   6  SÚMULA TCU 2: Configura-se como vencimento, para efeito da concessão da pensão especial com fund...                                       Lei Ordinária 3738/1960       SUMULA   \n",
       "2      2   7  SÚMULA TCU 3: O arquivamento é a solução indicada para as hipóteses em que as contas de responsá...                                                           NaN       SUMULA   \n",
       "3      3   8  SÚMULA TCU 4: A reclassificação de cargos não aproveita ao servidor aposentado, a menos que lei ...                                                           NaN       SUMULA   \n",
       "4      4   9  SÚMULA TCU 5 (REVOGADA): As sociedades de economia mista, salvo disposição expressa em lei, não ...                                                           NaN       SUMULA   \n",
       "\n",
       "            AREA_NAME  AREA_ID_DESCRIPTOR NORMATIVE_PROCESS_TYPE NORMATIVE_IDENTIFICATION NORMATIVE_DATE NORMATIVE_AUTHOR_TYPE NORMATIVE_AUTHOR_NAME  \\\n",
       "0             Pessoal                1131                    NaN   Ata 88/1973 - Plenário     1973-12-04               RELATOR      OCTÁVIO GALLOTTI   \n",
       "1             Pessoal                1131                    NaN   Ata 88/1973 - Plenário     1973-12-04               RELATOR      OCTÁVIO GALLOTTI   \n",
       "2  Direito processual                5288                    NaN   Ata 88/1973 - Plenário     1973-12-04               RELATOR      OCTÁVIO GALLOTTI   \n",
       "3             Pessoal                1131                    NaN   Ata 88/1973 - Plenário     1973-12-04               RELATOR      OCTÁVIO GALLOTTI   \n",
       "4  Competência do TCU                5095                    NaN          AC 2082/2007-PL     2007-10-03               RELATOR       UBIRATAN AGUIAR   \n",
       "\n",
       "                                                                                        RELEVANCE_DICT  \n",
       "0  {1298: 'INDEXACAO_EXTRA', 15340: 'INDEXACAO_EXTRA', 15961: 'INDEXACAO_EXTRA', 1131: 'AREA', 5106...  \n",
       "1      {207: 'INDEXACAO_EXTRA', 15961: 'INDEXACAO_EXTRA', 1131: 'AREA', 5106: 'SUBTEMA', 1113: 'TEMA'}  \n",
       "2  {108: 'INDEXACAO_EXTRA', 1526: 'TEMA', 1727: 'SUBTEMA', 223: 'INDEXACAO_EXTRA', 650: 'INDEXACAO_...  \n",
       "3                               {887: 'SUBTEMA', 92: 'TEMA', 1131: 'AREA', 1100820: 'INDEXACAO_EXTRA'}  \n",
       "4       {1215: 'INDEXACAO_EXTRA', 14715: 'SUBTEMA', 46: 'TEMA', 1480: 'INDEXACAO_EXTRA', 5095: 'AREA'}  "
      ]
     },
     "execution_count": 29,
     "metadata": {},
     "output_type": "execute_result"
    }
   ],
   "source": [
    "df_search_data.head()"
   ]
  },
  {
   "cell_type": "code",
   "execution_count": 30,
   "metadata": {},
   "outputs": [],
   "source": [
    "del df_new"
   ]
  },
  {
   "attachments": {},
   "cell_type": "markdown",
   "metadata": {},
   "source": [
    "# Create reference to index (elastic search)"
   ]
  },
  {
   "attachments": {},
   "cell_type": "markdown",
   "metadata": {},
   "source": [
    "Documentation https://docs.haystack.deepset.ai/docs\n",
    "https://haystack.deepset.ai/tutorials/09_dpr_training \n"
   ]
  },
  {
   "cell_type": "code",
   "execution_count": 31,
   "metadata": {},
   "outputs": [
    {
     "name": "stdout",
     "output_type": "stream",
     "text": [
      "Index: indir_juris_tcu\n",
      "{'health': 'yellow', 'status': 'open', 'index': 'indir_juris_tcu', 'uuid': 'RD_aAWppQH6vjNxKUdL_0w', 'pri': '1', 'rep': '1', 'docs.count': '16045', 'docs.deleted': '16045', 'store.size': '334.9mb', 'pri.store.size': '334.9mb'}\n",
      "\n",
      "Index: indir_juris_tcu_index\n",
      "{'health': 'yellow', 'status': 'open', 'index': 'indir_juris_tcu_index', 'uuid': 'fGjzBrQzRUWTZ6KlnbfLqw', 'pri': '1', 'rep': '1', 'docs.count': '13255', 'docs.deleted': '2755', 'store.size': '281.7mb', 'pri.store.size': '281.7mb'}\n",
      "\n"
     ]
    }
   ],
   "source": [
    "index_dict = util_elastic.return_indexes('indir', parm_print=True)"
   ]
  },
  {
   "cell_type": "code",
   "execution_count": 32,
   "metadata": {},
   "outputs": [
    {
     "data": {
      "text/plain": [
       "{'indir_juris_tcu': {'health': 'yellow',\n",
       "  'status': 'open',\n",
       "  'index': 'indir_juris_tcu',\n",
       "  'uuid': 'RD_aAWppQH6vjNxKUdL_0w',\n",
       "  'pri': '1',\n",
       "  'rep': '1',\n",
       "  'docs.count': '16045',\n",
       "  'docs.deleted': '16045',\n",
       "  'store.size': '334.9mb',\n",
       "  'pri.store.size': '334.9mb'},\n",
       " 'indir_juris_tcu_index': {'health': 'yellow',\n",
       "  'status': 'open',\n",
       "  'index': 'indir_juris_tcu_index',\n",
       "  'uuid': 'fGjzBrQzRUWTZ6KlnbfLqw',\n",
       "  'pri': '1',\n",
       "  'rep': '1',\n",
       "  'docs.count': '13255',\n",
       "  'docs.deleted': '2755',\n",
       "  'store.size': '281.7mb',\n",
       "  'pri.store.size': '281.7mb'}}"
      ]
     },
     "execution_count": 32,
     "metadata": {},
     "output_type": "execute_result"
    }
   ],
   "source": [
    "index_dict"
   ]
  },
  {
   "cell_type": "code",
   "execution_count": 33,
   "metadata": {},
   "outputs": [],
   "source": [
    "INDEX_NAME = 'indir_juris_tcu_index'"
   ]
  },
  {
   "cell_type": "code",
   "execution_count": 34,
   "metadata": {},
   "outputs": [
    {
     "name": "stdout",
     "output_type": "stream",
     "text": [
      "\n",
      "Qtd de documentos 13255\n",
      "\n",
      "Qtd de embeddings 13255\n",
      "\n",
      "Documento.id=5: <Document: id=5, content='O termo é \"Abono de permanência em serviço\".\n",
      "Abono de permanência em serviço tem definição: \"O abono...'>\n"
     ]
    }
   ],
   "source": [
    "index = util_elastic.return_index(parm_index_name=INDEX_NAME)"
   ]
  },
  {
   "attachments": {},
   "cell_type": "markdown",
   "metadata": {},
   "source": [
    "# Pipelines creation"
   ]
  },
  {
   "cell_type": "code",
   "execution_count": 35,
   "metadata": {},
   "outputs": [],
   "source": [
    "pipes = []"
   ]
  },
  {
   "cell_type": "code",
   "execution_count": 36,
   "metadata": {},
   "outputs": [],
   "source": [
    "# Test query\n",
    "# parm_query = \"trata-se de uma denúncia contra o prefeito de Manhuaçu por não haver pago os funcionários da área de limpeza urbana\"\n",
    "parm_query = \"A transferência de documentos da entidade para local impróprio ao armazenamento, causando a perda de informações ou inviabilizando seu manuseio, de forma a impedir a atuação do TCU, é causa de responsabilização do gestor que a ordenou.\""
   ]
  },
  {
   "cell_type": "code",
   "execution_count": 37,
   "metadata": {},
   "outputs": [
    {
     "ename": "Exception",
     "evalue": "Stop execution - create only desired pipelines in code below ",
     "output_type": "error",
     "traceback": [
      "\u001b[0;31m---------------------------------------------------------------------------\u001b[0m",
      "\u001b[0;31mException\u001b[0m                                 Traceback (most recent call last)",
      "\u001b[0;32m/tmp/ipykernel_762633/2302163279.py\u001b[0m in \u001b[0;36m<module>\u001b[0;34m\u001b[0m\n\u001b[0;32m----> 1\u001b[0;31m \u001b[0;32mraise\u001b[0m \u001b[0mException\u001b[0m \u001b[0;34m(\u001b[0m\u001b[0;34m'Stop execution - create only desired pipelines in code below '\u001b[0m\u001b[0;34m)\u001b[0m\u001b[0;34m\u001b[0m\u001b[0;34m\u001b[0m\u001b[0m\n\u001b[0m",
      "\u001b[0;31mException\u001b[0m: Stop execution - create only desired pipelines in code below "
     ]
    }
   ],
   "source": [
    "raise Exception ('Stop execution - create only desired pipelines in code below ')"
   ]
  },
  {
   "attachments": {},
   "cell_type": "markdown",
   "metadata": {},
   "source": [
    "## Only retrievers"
   ]
  },
  {
   "attachments": {},
   "cell_type": "markdown",
   "metadata": {},
   "source": [
    "### join"
   ]
  },
  {
   "cell_type": "markdown",
   "metadata": {},
   "source": [
    "#### sts + bm25"
   ]
  },
  {
   "cell_type": "code",
   "execution_count": null,
   "metadata": {},
   "outputs": [
    {
     "name": "stdout",
     "output_type": "stream",
     "text": [
      "CPU times: user 3.52 s, sys: 778 ms, total: 4.3 s\n",
      "Wall time: 2.66 s\n"
     ]
    }
   ],
   "source": [
    "%%time\n",
    "pipe_join_sts_bm25 = util_pipeline.return_pipeline_join_bm25_sts(index)"
   ]
  },
  {
   "cell_type": "code",
   "execution_count": null,
   "metadata": {},
   "outputs": [],
   "source": [
    "pipes.append({'PIPE_NAME': 'pipe_join_sts_bm25',\n",
    "              'PIPE_OBJECT': pipe_join_sts_bm25,\n",
    "              'RETRIEVER_TYPE': 'join_sts_bm25',  # in ['sts', 'bm25']\n",
    "              'RETRIEVER_MODEL_NAME': util_pipeline.nome_modelo_embedding_model_sts, # or nome_modelo_embedding_model_sts_rufimelo,\n",
    "              'RANKER_MODEL_NAME': ''})"
   ]
  },
  {
   "cell_type": "code",
   "execution_count": null,
   "metadata": {},
   "outputs": [
    {
     "name": "stdout",
     "output_type": "stream",
     "text": [
      "Parâmetros usados: {'Bm25Retriever': {'top_k': 300}, 'StsRetriever': {'top_k': 300}}\n",
      "Consulta: A transferência de documentos da entidade para local impróprio ao armazenamento, causando a perda de informações ou inviabilizando seu manuseio, de forma a impedir a atuação do TCU, é causa de responsabilização do gestor que a ordenou.\n",
      "Qtd documentos retornados: 542\n",
      "Primeiro docto:\n",
      "<Document: id=1102005, content='O termo é \"Plano de contratações\".\n",
      "Plano de contratações tem definição: \"É o documento no qual a org...'>\n",
      "\n",
      "Último (542):\n",
      "<Document: id=1103641, content='O termo é \"Falta grave\".\n",
      "Falta grave tem nota de escopo: \"Está prevista em várias normatizações que ...'>\n",
      "Seguem os nomes dos termos recuperados em ordem de score\n",
      "0 : ['Plano de contratações', '1102005', 0.981894035831847]\n",
      "1 : ['Competência do TCU', '5095', 0.981022770821533]\n",
      "2 : ['Nexo de causalidade', '4495', 0.9782476752974565]\n",
      "3 : ['Teletrabalho', '5949', 0.977450618284214]\n",
      "4 : ['Papéis de trabalho', '15181', 0.976140477988525]\n",
      "5 : ['Julgamento de contas', '874', 0.9732691705914434]\n",
      "6 : ['Matriz de fiscalização', '6627', 0.972325706163406]\n",
      "7 : ['Responsável', '2651', 0.9697077916173754]\n",
      "8 : ['Documento novo', '4689', 0.9683358468267826]\n",
      "9 : ['Examinar', '1113910', 0.9674270789213479]\n",
      "10 : ['Produzir', '1113970', 0.967161440121055]\n",
      "CPU times: user 3.03 s, sys: 1.02 s, total: 4.05 s\n",
      "Wall time: 4.34 s\n"
     ]
    }
   ],
   "source": [
    "%%time\n",
    "doctos_retornados_ranker = pipe_join_sts_bm25.run(query=parm_query, \n",
    " params={\"Bm25Retriever\": {\"top_k\": 300}, \"StsRetriever\": {\"top_k\": 300}})\n",
    "util_pipeline.detail_document_found(doctos_retornados_ranker)"
   ]
  },
  {
   "attachments": {},
   "cell_type": "markdown",
   "metadata": {},
   "source": [
    "#### sts_multihop + bm25"
   ]
  },
  {
   "cell_type": "code",
   "execution_count": null,
   "metadata": {},
   "outputs": [
    {
     "name": "stdout",
     "output_type": "stream",
     "text": [
      "CPU times: user 3.36 s, sys: 674 ms, total: 4.04 s\n",
      "Wall time: 2.12 s\n"
     ]
    }
   ],
   "source": [
    "%%time\n",
    "pipe_join_sts_multihop_bm25 = util_pipeline.return_pipeline_join_bm25_sts_multihop(index)"
   ]
  },
  {
   "cell_type": "code",
   "execution_count": null,
   "metadata": {},
   "outputs": [],
   "source": [
    "pipes.append({'PIPE_NAME': 'pipe_join_sts_multihop_bm25',\n",
    "              'PIPE_OBJECT': pipe_join_sts_multihop_bm25,\n",
    "              'RETRIEVER_TYPE': 'join_sts_multihop_bm25',  # in ['sts', 'bm25']\n",
    "              'RETRIEVER_MODEL_NAME': util_pipeline.nome_modelo_embedding_model_sts, # or nome_modelo_embedding_model_sts_rufimelo,\n",
    "              'RANKER_MODEL_NAME': ''})"
   ]
  },
  {
   "cell_type": "code",
   "execution_count": null,
   "metadata": {},
   "outputs": [
    {
     "name": "stdout",
     "output_type": "stream",
     "text": [
      "Parâmetros usados: {'Bm25Retriever': {'top_k': 150}, 'StsRetriever': {'top_k': 150}}\n",
      "Consulta: A transferência de documentos da entidade para local impróprio ao armazenamento, causando a perda de informações ou inviabilizando seu manuseio, de forma a impedir a atuação do TCU, é causa de responsabilização do gestor que a ordenou.\n",
      "Qtd documentos retornados: 289\n",
      "Primeiro docto:\n",
      "<Document: id=2577, content='O termo é \"Afastamento de responsável\".\n",
      "Afastamento de responsável tem definição: \"No início ou no c...'>\n",
      "\n",
      "Último (289):\n",
      "<Document: id=1102397, content='O termo é \"Estado de exceção\".\n",
      "Estado de exceção tem nota de escopo: \"Situação oposta ao Estado demo...'>\n",
      "Seguem os nomes dos termos recuperados em ordem de score\n",
      "0 : ['Afastamento de responsável', 0.9930839884285582]\n",
      "1 : ['Plano de contratações', 0.9856940203493179]\n",
      "2 : ['Competência do TCU', 0.9849874794705751]\n",
      "3 : ['Teletrabalho', 0.9823437136689326]\n",
      "4 : ['Nexo de causalidade', 0.982157658932855]\n",
      "5 : ['Processo administrativo de responsabilização', 0.9816688772992885]\n",
      "6 : ['Ofício de requisição', 0.9810189097165355]\n",
      "7 : ['Evidência documental', 0.9808667929710004]\n",
      "8 : ['Papéis de trabalho', 0.9800804158626235]\n",
      "9 : ['Julgamento de contas', 0.9780553040802098]\n",
      "10 : ['Matriz de fiscalização', 0.9778889174161483]\n",
      "11 : ['Ofício de comunicação de fiscalização', 0.9759793956838178]\n",
      "12 : ['Responsável', 0.9749983023194281]\n",
      "13 : ['Matriz de responsabilização', 0.9749010355369913]\n",
      "14 : ['Rescisão unilateral', 0.9748706914060489]\n",
      "15 : ['Produzir', 0.9743022341175737]\n",
      "16 : ['Afastamento preventivo', 0.9741557736812957]\n",
      "17 : ['Documento novo', 0.9732741034881348]\n",
      "18 : ['Examinar', 0.9732180433625631]\n",
      "19 : ['Perda de objeto', 0.9725962719359168]\n",
      "20 : ['Phishing', 0.9724266621478431]\n",
      "21 : ['Sistema Nacional de Emprego', 0.9714378186803478]\n",
      "22 : ['Gestor da informação', 0.9712187264447482]\n",
      "23 : ['Controle de segunda ordem', 0.970873867075394]\n",
      "24 : ['Prevenção de perda de dados', 0.9708709826011247]\n",
      "25 : ['Causa do achado', 0.9706906037482294]\n",
      "26 : ['Estratégia digital', 0.9701236836186766]\n",
      "27 : ['Ministério Público junto ao TCU', 0.9700605069151323]\n",
      "28 : ['Confirmação externa', 0.9696596610660471]\n",
      "29 : ['Abandono de cargo', 0.9696305808093489]\n",
      "30 : ['Cobrança executiva', 0.9693038531578911]\n",
      "31 : ['Responsabilidade perante o controle externo', 0.9692663708644913]\n",
      "32 : ['Excludente de responsabilidade', 0.9687883274904563]\n",
      "33 : ['Matriz padrão', 0.9687832056065442]\n",
      "34 : ['Dispensa sem justa causa', 0.9681823105576527]\n",
      "35 : ['Penhor', 0.968162361915448]\n",
      "36 : ['Entidade filantrópica', 0.9676888116115662]\n",
      "37 : ['Honorários de êxito', 0.9676524124501663]\n",
      "38 : ['HTTPS', 0.9675901238174784]\n",
      "39 : ['Petição inicial', 0.9675488332671434]\n",
      "40 : ['Afastamento para servir a outro órgão ou entidade', 0.9669174085223711]\n",
      "41 : ['Disseminar', 0.966905218875126]\n",
      "42 : ['Descarte de documentos', 0.9664597032403718]\n",
      "43 : ['Destituição de função', 0.9663881863234739]\n",
      "44 : ['Informação ultrassecreta', 0.9661478094940132]\n",
      "45 : ['Análise estática', 0.9660281341139809]\n",
      "46 : ['Casemg', 0.9659682605598531]\n",
      "47 : ['Gestor', 0.9655142819406799]\n",
      "48 : ['Representação', 0.9652363938568079]\n",
      "49 : ['Arquivamento', 0.9650402024103759]\n",
      "50 : ['Expulsão de estrangeiro', 0.9649607308894933]\n",
      "51 : ['Avaliação de controles internos', 0.9647662571738366]\n",
      "52 : ['Trancamento das contas', 0.9646853808657104]\n",
      "53 : ['Backdoor', 0.9645546613332472]\n",
      "54 : ['Contabilidade', 0.9644534384224346]\n",
      "55 : ['Transferência de carteira', 0.9641922679960047]\n",
      "56 : ['Anulação', 0.9641800137270689]\n",
      "57 : ['Ato precário', 0.9639390672390818]\n",
      "58 : ['Ação corretiva', 0.9639161834711785]\n",
      "59 : ['Evicção', 0.9637212483345161]\n",
      "60 : ['Termo de sigilo', 0.9636935302860635]\n",
      "61 : ['Preclusão temporal', 0.9636725883461041]\n",
      "62 : ['Ouvidoria', 0.9634448837100252]\n",
      "63 : ['Fiscalização', 0.9630165470706724]\n",
      "64 : ['Informação reservada', 0.9624400470946145]\n",
      "65 : ['Cláusula uniforme', 0.9623910930365567]\n",
      "66 : ['Informação secreta', 0.9621803509722351]\n",
      "67 : ['Assessoria jurídica', 0.9621278198086929]\n",
      "68 : ['Decisão terminativa', 0.9620771568531108]\n",
      "69 : ['Armazenamento de dados', 0.9619242734842146]\n",
      "70 : ['Atividade crítica', 0.9618874014709465]\n",
      "71 : ['Serviço público prestado integralmente sob a forma digital', 0.961419871078294]\n",
      "72 : ['Ocasionar', 0.9612147237380495]\n",
      "73 : ['Atos de pessoal', 0.9609826149159687]\n",
      "74 : ['Processo administrativo disciplinar', 0.9608461294898473]\n",
      "75 : ['Contas irregulares', 0.960790374975503]\n",
      "76 : ['Desfazimento de bens permanentes', 0.9607845730403285]\n",
      "77 : ['Desapropriação judicial', 0.9606843032921187]\n",
      "78 : ['Exclusão de acesso', 0.9605946149526053]\n",
      "79 : ['Hipoteca', 0.9605545000176207]\n",
      "80 : ['Negativa de registro', 0.9604734597962636]\n",
      "81 : ['Concreto convencional', 0.9599764270606329]\n",
      "82 : ['Serviço público prestado parcialmente sob a forma digital', 0.959819704683328]\n",
      "83 : ['Transferências da União', 0.9596240778000634]\n",
      "84 : ['França', 0.9595603559566676]\n",
      "85 : ['Escola Superior do Tribunal de Contas da União', 0.9595120266901677]\n",
      "86 : ['Contrafação', 0.9593783462230799]\n",
      "87 : ['Jurisdição', 0.9591404375498186]\n",
      "88 : ['Capacidade operacional', 0.958941512088949]\n",
      "89 : ['Efeito do achado', 0.958929442662271]\n",
      "90 : ['Reforma (Pessoal)', 0.9587878563381154]\n",
      "91 : ['Substituição tributária', 0.9587698194957366]\n",
      "92 : ['Inspeção sanitária', 0.9586252476007018]\n",
      "93 : ['Gestor máximo', 0.9585643370920641]\n",
      "94 : ['Matriz de planejamento', 0.9584372944150586]\n",
      "95 : ['Dispensa arbitrária', 0.9583899892226]\n",
      "96 : ['Líbano', 0.958258830519573]\n",
      "97 : ['Ciência (Controle externo)', 0.9580335777941639]\n",
      "98 : ['Risco inerente', 0.9580101570198128]\n",
      "99 : ['Afastamento de pessoal', 0.9579483807175388]\n",
      "100 : ['Disciplinar', 0.9578823118848461]\n",
      "101 : ['Embargos', 0.9577779502140308]\n",
      "102 : ['Transferência de risco', 0.9577449798461105]\n",
      "103 : ['Demissão de pessoal', 0.9575770216285534]\n",
      "104 : ['Revogação', 0.9575380061545622]\n",
      "105 : ['Requerer', 0.9573839012529318]\n",
      "106 : ['Princípio da irrenunciabilidade', 0.9572732115283369]\n",
      "107 : ['Organização comunitária', 0.9571137609318326]\n",
      "108 : ['Gerenciamento de riscos corporativos', 0.9570734706181723]\n",
      "109 : ['Dissolução de empresa', 0.9570041858596294]\n",
      "110 : ['Memorial', 0.9569755794888811]\n",
      "111 : ['Princípio da motivação', 0.9566980435461419]\n",
      "112 : ['Adicional de embarque e desembarque', 0.9566770300646551]\n",
      "113 : ['Serviço público passível de ser prestado sob a forma digital', 0.9565799269322078]\n",
      "114 : ['Cessão de pessoal', 0.9564698462213936]\n",
      "115 : ['Dispensa com justa causa', 0.9564133798780595]\n",
      "116 : ['Ato de ofício', 0.9563213678624256]\n",
      "117 : ['Protocolo internacional', 0.9562298872578011]\n",
      "118 : ['Instruir', 0.9562261516103134]\n",
      "119 : ['Princípio da vedação ao enriquecimento sem causa', 0.9562196161116222]\n",
      "120 : ['Ação ao portador', 0.9561756905836348]\n",
      "121 : ['Demissão de servidor', 0.9560197120609917]\n",
      "122 : ['Diligência', 0.9559883455743694]\n",
      "123 : ['Ocupação', 0.9559661195591604]\n",
      "124 : ['Sonegação', 0.9558004268104576]\n",
      "125 : ['Índice de preços', 0.955620310570976]\n",
      "126 : ['Aviso prévio', 0.9552976545109074]\n",
      "127 : ['Responsabilização', 0.9552557484685231]\n",
      "128 : ['Exame sumário', 0.9551943519221134]\n",
      "129 : ['Administrar', 0.9550002696368254]\n",
      "130 : ['Desvio de função', 0.9549993617864077]\n",
      "131 : ['Sala-cofre', 0.954663706675542]\n",
      "132 : ['Fé pública', 0.9546371085351776]\n",
      "133 : ['Transferências voluntárias', 0.9543952656228274]\n",
      "134 : ['Férias vencidas', 0.9543769272308118]\n",
      "135 : ['Usucapião', 0.9541828786539923]\n",
      "136 : ['Ilícito administrativo', 0.9540219688230777]\n",
      "137 : ['Cadastro Específico do INSS', 0.9539315737563044]\n",
      "138 : ['Processo modificador', 0.9538438162925188]\n",
      "139 : ['Integridade da informação', 0.9537947632847696]\n",
      "140 : ['Oposição (Direito)', 0.9537884387830428]\n",
      "141 : ['Bibliografia', 0.9535005048958634]\n",
      "142 : ['Desapropriação de imóveis', 0.9534084517088282]\n",
      "143 : ['Processo de controle externo', 0.9534003553534076]\n",
      "144 : ['Contas iliquidáveis', 0.9533478576416983]\n",
      "145 : ['Falsidade documental', 0.9532337115403431]\n",
      "146 : ['Exame documental', 0.9532323518558644]\n",
      "147 : ['Indagação escrita', 0.9532204474391387]\n",
      "148 : ['Desapropriação por interesse social', 0.9529404738204769]\n",
      "149 : ['Cartilha', 0.9529244784147565]\n",
      "150 : ['Abuso de poder', 0.952866149279673]\n",
      "151 : ['PDV', 0.9527896159468343]\n",
      "152 : ['Rescisão contratual', 0.9526561002421039]\n",
      "153 : ['Hora extra judicial', 0.9526206145297323]\n",
      "154 : ['Teletrabalho total', 0.952438712791075]\n",
      "155 : ['Determinação', 0.9522163619848079]\n",
      "156 : ['Alterar', 0.9521879560550494]\n",
      "157 : ['Pagamento', 0.952067549539992]\n",
      "158 : ['Preclusão', 0.9518459061075061]\n",
      "159 : ['Impeachment', 0.9516816880784442]\n",
      "160 : ['Conteúdo local', 0.9516418276452496]\n",
      "161 : ['Vazamento de dados', 0.9515021740299701]\n",
      "162 : ['Medida Cautelar inaudita altera pars', 0.951377289633948]\n",
      "163 : ['Negação de serviço ', 0.9513441115227851]\n",
      "164 : ['Instituto Serzedello Corrêa', 0.9513190285991512]\n",
      "165 : ['Pessoa com deficiência auditiva', 0.9512463381425789]\n",
      "166 : ['Exceção de coisa julgada', 0.9512418509968635]\n",
      "167 : ['Revisão criminal', 0.9512376185753313]\n",
      "168 : ['Gestor substituto', 0.9512010428976136]\n",
      "169 : ['Decidir', 0.9510838676229583]\n",
      "170 : ['Caducidade da concessão', 0.9509720906402177]\n",
      "171 : ['Afastamento', 0.9508883324695274]\n",
      "172 : ['Notória especialização', 0.9508446206146226]\n",
      "173 : ['Processamento de dados', 0.9508190655415143]\n",
      "174 : ['Contrato de eficiência', 0.9506934331990565]\n",
      "175 : ['Manual', 0.9506929820210926]\n",
      "176 : ['Indício de irregularidade grave', 0.9506915405691604]\n",
      "177 : ['Obrigação de resultado', 0.9506775693065309]\n",
      "178 : ['Vistoria', 0.9506726573755878]\n",
      "179 : ['Iniciação esportiva', 0.950648952843144]\n",
      "180 : ['Princípio da ampla defesa', 0.9506209426079751]\n",
      "181 : ['Trabalho de asseguração limitada', 0.9505972321259649]\n",
      "182 : ['Afastamento para exercício de mandato eletivo', 0.950591737266558]\n",
      "183 : ['Remoção de pessoal', 0.9504782353160299]\n",
      "184 : ['Exoneração de pessoal', 0.950429684261479]\n",
      "185 : ['Férias proporcionais', 0.9504084260451396]\n",
      "186 : ['Sonegação fiscal', 0.9503938896187064]\n",
      "187 : ['Auxiliar', 0.9501660781675729]\n",
      "188 : ['Doença endêmica', 0.9500992715662937]\n",
      "189 : ['Decesso remuneratório', 0.9499043444161936]\n",
      "190 : ['Erro de execução', 0.9498522596130125]\n",
      "191 : ['Monitorar', 0.9496506992165659]\n",
      "192 : ['Catálogo de dados', 0.9495461163908799]\n",
      "193 : ['Regulamentar', 0.9494834514624517]\n",
      "194 : ['Design thinking', 0.9494216312426811]\n",
      "195 : ['Preclusão consumativa', 0.9491847523206469]\n",
      "196 : ['Decadência', 0.9490604567865645]\n",
      "197 : ['Anulação de empenho', 0.9489927316312505]\n",
      "198 : ['Vício construtivo', 0.9489875156833851]\n",
      "199 : ['Aposentadoria compulsória', 0.9487812699095419]\n",
      "200 : ['Processo apartado', 0.948730512564796]\n",
      "201 : ['Erro de procedimento', 0.9486512672616599]\n",
      "202 : ['Deportação', 0.948078040124372]\n",
      "203 : ['Ação de controle externo', 0.9476747843879454]\n",
      "204 : ['Renúncia', 0.9472555322435076]\n",
      "205 : ['Desaposentação', 0.9470115337290849]\n",
      "206 : ['Direito ao esquecimento', 0.9467558849639838]\n",
      "207 : ['Custo não renovável', 0.9466454818045339]\n",
      "208 : ['Tutela antecipada', 0.9463083006456102]\n",
      "209 : ['Medida cautelar', 0.9461692194897398]\n",
      "210 : ['Destituição de cargo', 0.945688641616802]\n",
      "211 : ['Pena disciplinar', 0.9456636230708965]\n",
      "212 : ['Suspensão temporária', 0.9454837562413523]\n",
      "213 : ['Auto de infração', 0.9453167701755276]\n",
      "214 : ['Tempo em estoque', 0.9452950550652395]\n",
      "215 : ['Princípio da autotutela', 0.9451294433865175]\n",
      "216 : ['Abandono de emprego', 0.945026358770448]\n",
      "217 : ['Exclusão', 0.9446358899071396]\n",
      "218 : ['Controle externo', 0.9444946180184273]\n",
      "219 : ['Extravio', 0.9441342563881083]\n",
      "220 : ['Processo de execução', 0.943865018886969]\n",
      "221 : ['Decisão preliminar', 0.9438484856378389]\n",
      "222 : ['Excludente de ilicitude', 0.9438031547018063]\n",
      "223 : ['Afastamento para estudo ou missão no exterior', 0.9436987363416601]\n",
      "224 : ['Reunião de encerramento', 0.9436856645828283]\n",
      "225 : ['Rescisão judicial', 0.9436468576026761]\n",
      "226 : ['Gestão documental', 0.9435179233021419]\n",
      "227 : ['Irregularidade grave', 0.9432754905561532]\n",
      "228 : ['Risco de controle', 0.943202891655092]\n",
      "229 : ['Cassação de disponibilidade', 0.943126289913147]\n",
      "230 : ['Controle posterior', 0.9430888919173948]\n",
      "231 : ['Sócio remisso', 0.9430428236297762]\n",
      "232 : ['Função de Assessoramento Superior', 0.9426230060236993]\n",
      "233 : ['Cassação de aposentadoria', 0.9425153364539083]\n",
      "234 : ['Reversão de pessoal', 0.94220616498087]\n",
      "235 : ['Sanção administrativa', 0.942143238816106]\n",
      "236 : ['Relatório de monitoramento', 0.9420093276265253]\n",
      "237 : ['Alcance', 0.9420045201971569]\n",
      "238 : ['Extrato de entrevista', 0.9419397473534288]\n",
      "239 : ['Razões de justificativa', 0.941898224279124]\n",
      "240 : ['Cancelamento', 0.9417916359368756]\n",
      "241 : ['Contagem de tempo de serviço', 0.9416659707114732]\n",
      "242 : ['Garantia contratual', 0.9414678486802204]\n",
      "243 : ['Subtração', 0.9414135455246073]\n",
      "244 : ['Afastamento para participação em Programa de Pós-Graduação', 0.9412585913454313]\n",
      "245 : ['Desacato', 0.9412152836446895]\n",
      "246 : ['Rescisão trabalhista', 0.9411663536625494]\n",
      "247 : ['Evacuação da população', 0.9410280477398281]\n",
      "248 : ['Decisão interlocutória', 0.9408805378395507]\n",
      "249 : ['Processo judicial', 0.9403960349068452]\n",
      "250 : ['Omissão', 0.9402324353669965]\n",
      "251 : ['Concessão em caráter precário', 0.940156807781515]\n",
      "252 : ['Recurso administrativo', 0.9400658800599423]\n",
      "253 : ['Trânsito em julgado', 0.9399593614663062]\n",
      "254 : ['Exceção de pré-executividade', 0.9399157782585748]\n",
      "255 : ['Demissão voluntária', 0.9397991098076609]\n",
      "256 : ['Recebimento definitivo', 0.9397227991289107]\n",
      "257 : ['Indenização', 0.9393939380318067]\n",
      "258 : ['Recurso de reconsideração', 0.9393666044431632]\n",
      "259 : ['Defesa de responsável', 0.9391810012148251]\n",
      "260 : ['Erro material', 0.9389918879281072]\n",
      "261 : ['Ação preventiva', 0.938865908865595]\n",
      "262 : ['Ação rescisória', 0.9387672269317752]\n",
      "263 : ['Contrato de supervisão', 0.9383412188136857]\n",
      "264 : ['Acordo extrajudicial', 0.9382923115568033]\n",
      "265 : ['Negligência', 0.9380378741063565]\n",
      "266 : ['Desvio de objeto', 0.937885359178251]\n",
      "267 : ['Coerção', 0.9376987940731616]\n",
      "268 : ['Excesso de poder', 0.9376070119884522]\n",
      "269 : ['Desaforamento', 0.9375462612917738]\n",
      "270 : ['Impedimento', 0.9374787739158508]\n",
      "271 : ['Impropriedade', 0.9374117465224161]\n",
      "272 : ['Evasão escolar', 0.9373119316853378]\n",
      "273 : ['Desprovimento', 0.9371338347701162]\n",
      "274 : ['Auditoria preventiva', 0.9371216384663831]\n",
      "275 : ['Princípio da finalidade', 0.9369337609786829]\n",
      "276 : ['Diferimento (Direito)', 0.9368972933043725]\n",
      "277 : ['Prisão temporária', 0.9366119085769298]\n",
      "278 : ['Notificação', 0.9364406481815949]\n",
      "279 : ['Execução da despesa', 0.9364140972898027]\n",
      "280 : ['Recebimento provisório', 0.9363818770633856]\n",
      "281 : ['Tomada de contas', 0.9362982479628167]\n",
      "282 : ['Falta funcional', 0.9362839319425142]\n",
      "283 : ['Sonegação de informação', 0.9361032930150246]\n",
      "284 : ['Vício processual', 0.9360092609463783]\n",
      "285 : ['Extrato de contrato', 0.9360008750050914]\n",
      "286 : ['Revisão de ofício', 0.9358834842893132]\n",
      "287 : ['Tempo de inatividade', 0.9358358233598048]\n",
      "288 : ['Estado de exceção', 0.935831679982884]\n",
      "CPU times: user 3 s, sys: 1.05 s, total: 4.05 s\n",
      "Wall time: 4.27 s\n"
     ]
    }
   ],
   "source": [
    "%%time\n",
    "doctos_retornados_ranker = pipe_join_sts_multihop_bm25.run(query=parm_query, \n",
    " params={\"Bm25Retriever\": {\"top_k\": 150}, \"StsRetriever\": {\"top_k\": 150}})\n",
    "util_pipeline.detail_document_found(doctos_retornados_ranker)"
   ]
  },
  {
   "attachments": {},
   "cell_type": "markdown",
   "metadata": {},
   "source": [
    "### sts_multihop"
   ]
  },
  {
   "cell_type": "code",
   "execution_count": null,
   "metadata": {},
   "outputs": [
    {
     "name": "stdout",
     "output_type": "stream",
     "text": [
      "CPU times: user 3.39 s, sys: 715 ms, total: 4.11 s\n",
      "Wall time: 2.16 s\n"
     ]
    }
   ],
   "source": [
    "%%time\n",
    "pipe_sts_multihop = util_pipeline.return_pipeline_sts_multihop(index)"
   ]
  },
  {
   "cell_type": "code",
   "execution_count": null,
   "metadata": {},
   "outputs": [],
   "source": [
    "pipes.append({'PIPE_NAME': 'pipe_sts_multihop',\n",
    "              'PIPE_OBJECT': pipe_sts_multihop,\n",
    "              'RETRIEVER_TYPE': 'sts_multihop',  # in ['sts', 'bm25']\n",
    "              'RETRIEVER_MODEL_NAME': util_pipeline.nome_modelo_embedding_model_sts, # or nome_modelo_embedding_model_sts_rufimelo,\n",
    "              'RANKER_MODEL_NAME': ''})"
   ]
  },
  {
   "cell_type": "code",
   "execution_count": null,
   "metadata": {},
   "outputs": [
    {
     "name": "stdout",
     "output_type": "stream",
     "text": [
      "Parâmetros usados: {'Retriever': {'top_k': 300}}\n",
      "Consulta: A transferência de documentos da entidade para local impróprio ao armazenamento, causando a perda de informações ou inviabilizando seu manuseio, de forma a impedir a atuação do TCU, é causa de responsabilização do gestor que a ordenou.\n",
      "Qtd documentos retornados: 300\n",
      "Primeiro docto:\n",
      "<Document: id=2577, content='O termo é \"Afastamento de responsável\".\n",
      "Afastamento de responsável tem definição: \"No início ou no c...'>\n",
      "\n",
      "Último (300):\n",
      "<Document: id=2550, content='O termo é \"Declaração de nulidade\".\n",
      "Declaração de nulidade tem definição: \"Declaração que torna o co...'>\n",
      "Seguem os nomes dos termos recuperados em ordem de score\n",
      "0 : ['Afastamento de responsável', 0.9930839884285582]\n",
      "1 : ['Rescisão unilateral', 0.9748706914060489]\n",
      "2 : ['Afastamento preventivo', 0.9741557736812957]\n",
      "3 : ['Perda de objeto', 0.9725962719359168]\n",
      "4 : ['Abandono de cargo', 0.9696305808093489]\n",
      "5 : ['Responsabilidade perante o controle externo', 0.9692663708644913]\n",
      "6 : ['Excludente de responsabilidade', 0.9687883274904563]\n",
      "7 : ['Dispensa sem justa causa', 0.9681823105576527]\n",
      "8 : ['Descarte de documentos', 0.9664597032403718]\n",
      "9 : ['Destituição de função', 0.9663881863234739]\n",
      "10 : ['Arquivamento', 0.9650402024103759]\n",
      "11 : ['Expulsão de estrangeiro', 0.9649607308894933]\n",
      "12 : ['Trancamento das contas', 0.9646853808657104]\n",
      "13 : ['Anulação', 0.9641800137270689]\n",
      "14 : ['Ato precário', 0.9639390672390818]\n",
      "15 : ['Preclusão temporal', 0.9636725883461041]\n",
      "16 : ['Decisão terminativa', 0.9620771568531108]\n",
      "17 : ['Atos de pessoal', 0.9609826149159687]\n",
      "18 : ['Processo administrativo disciplinar', 0.9608461294898473]\n",
      "19 : ['Contas irregulares', 0.960790374975503]\n",
      "20 : ['Desfazimento de bens permanentes', 0.9607845730403285]\n",
      "21 : ['Exclusão de acesso', 0.9605946149526053]\n",
      "22 : ['Negativa de registro', 0.9604734597962636]\n",
      "23 : ['Dispensa arbitrária', 0.9583899892226]\n",
      "24 : ['Ciência (Controle externo)', 0.9580335777941639]\n",
      "25 : ['Afastamento de pessoal', 0.9579483807175388]\n",
      "26 : ['Demissão de pessoal', 0.9575770216285534]\n",
      "27 : ['Revogação', 0.9575380061545622]\n",
      "28 : ['Dissolução de empresa', 0.9570041858596294]\n",
      "29 : ['Princípio da motivação', 0.9566980435461419]\n",
      "30 : ['Dispensa com justa causa', 0.9564133798780595]\n",
      "31 : ['Ato de ofício', 0.9563213678624256]\n",
      "32 : ['Demissão de servidor', 0.9560197120609917]\n",
      "33 : ['Aviso prévio', 0.9552976545109074]\n",
      "34 : ['Desvio de função', 0.9549993617864077]\n",
      "35 : ['Ilícito administrativo', 0.9540219688230777]\n",
      "36 : ['Processo modificador', 0.9538438162925188]\n",
      "37 : ['Processo de controle externo', 0.9534003553534076]\n",
      "38 : ['Contas iliquidáveis', 0.9533478576416983]\n",
      "39 : ['Abuso de poder', 0.952866149279673]\n",
      "40 : ['Rescisão contratual', 0.9526561002421039]\n",
      "41 : ['Determinação', 0.9522163619848079]\n",
      "42 : ['Preclusão', 0.9518459061075061]\n",
      "43 : ['Impeachment', 0.9516816880784442]\n",
      "44 : ['Vazamento de dados', 0.9515021740299701]\n",
      "45 : ['Medida Cautelar inaudita altera pars', 0.951377289633948]\n",
      "46 : ['Exceção de coisa julgada', 0.9512418509968635]\n",
      "47 : ['Caducidade da concessão', 0.9509720906402177]\n",
      "48 : ['Afastamento', 0.9508883324695274]\n",
      "49 : ['Indício de irregularidade grave', 0.9506915405691604]\n",
      "50 : ['Obrigação de resultado', 0.9506775693065309]\n",
      "51 : ['Princípio da ampla defesa', 0.9506209426079751]\n",
      "52 : ['Afastamento para exercício de mandato eletivo', 0.950591737266558]\n",
      "53 : ['Remoção de pessoal', 0.9504782353160299]\n",
      "54 : ['Exoneração de pessoal', 0.950429684261479]\n",
      "55 : ['Decesso remuneratório', 0.9499043444161936]\n",
      "56 : ['Erro de execução', 0.9498522596130125]\n",
      "57 : ['Preclusão consumativa', 0.9491847523206469]\n",
      "58 : ['Decadência', 0.9490604567865645]\n",
      "59 : ['Anulação de empenho', 0.9489927316312505]\n",
      "60 : ['Aposentadoria compulsória', 0.9487812699095419]\n",
      "61 : ['Processo apartado', 0.948730512564796]\n",
      "62 : ['Erro de procedimento', 0.9486512672616599]\n",
      "63 : ['Deportação', 0.948078040124372]\n",
      "64 : ['Ação de controle externo', 0.9476747843879454]\n",
      "65 : ['Renúncia', 0.9472555322435076]\n",
      "66 : ['Desaposentação', 0.9470115337290849]\n",
      "67 : ['Direito ao esquecimento', 0.9467558849639838]\n",
      "68 : ['Custo não renovável', 0.9466454818045339]\n",
      "69 : ['Tutela antecipada', 0.9463083006456102]\n",
      "70 : ['Medida cautelar', 0.9461692194897398]\n",
      "71 : ['Destituição de cargo', 0.945688641616802]\n",
      "72 : ['Pena disciplinar', 0.9456636230708965]\n",
      "73 : ['Suspensão temporária', 0.9454837562413523]\n",
      "74 : ['Auto de infração', 0.9453167701755276]\n",
      "75 : ['Tempo em estoque', 0.9452950550652395]\n",
      "76 : ['Princípio da autotutela', 0.9451294433865175]\n",
      "77 : ['Abandono de emprego', 0.945026358770448]\n",
      "78 : ['Exclusão', 0.9446358899071396]\n",
      "79 : ['Controle externo', 0.9444946180184273]\n",
      "80 : ['Extravio', 0.9441342563881083]\n",
      "81 : ['Processo de execução', 0.943865018886969]\n",
      "82 : ['Decisão preliminar', 0.9438484856378389]\n",
      "83 : ['Excludente de ilicitude', 0.9438031547018063]\n",
      "84 : ['Afastamento para estudo ou missão no exterior', 0.9436987363416601]\n",
      "85 : ['Reunião de encerramento', 0.9436856645828283]\n",
      "86 : ['Rescisão judicial', 0.9436468576026761]\n",
      "87 : ['Gestão documental', 0.9435179233021419]\n",
      "88 : ['Irregularidade grave', 0.9432754905561532]\n",
      "89 : ['Risco de controle', 0.943202891655092]\n",
      "90 : ['Cassação de disponibilidade', 0.943126289913147]\n",
      "91 : ['Controle posterior', 0.9430888919173948]\n",
      "92 : ['Sócio remisso', 0.9430428236297762]\n",
      "93 : ['Função de Assessoramento Superior', 0.9426230060236993]\n",
      "94 : ['Cassação de aposentadoria', 0.9425153364539083]\n",
      "95 : ['Reversão de pessoal', 0.94220616498087]\n",
      "96 : ['Sanção administrativa', 0.942143238816106]\n",
      "97 : ['Relatório de monitoramento', 0.9420093276265253]\n",
      "98 : ['Alcance', 0.9420045201971569]\n",
      "99 : ['Extrato de entrevista', 0.9419397473534288]\n",
      "100 : ['Razões de justificativa', 0.941898224279124]\n",
      "101 : ['Cancelamento', 0.9417916359368756]\n",
      "102 : ['Contagem de tempo de serviço', 0.9416659707114732]\n",
      "103 : ['Garantia contratual', 0.9414678486802204]\n",
      "104 : ['Subtração', 0.9414135455246073]\n",
      "105 : ['Afastamento para participação em Programa de Pós-Graduação', 0.9412585913454313]\n",
      "106 : ['Desacato', 0.9412152836446895]\n",
      "107 : ['Rescisão trabalhista', 0.9411663536625494]\n",
      "108 : ['Evacuação da população', 0.9410280477398281]\n",
      "109 : ['Decisão interlocutória', 0.9408805378395507]\n",
      "110 : ['Processo judicial', 0.9403960349068452]\n",
      "111 : ['Omissão', 0.9402324353669965]\n",
      "112 : ['Concessão em caráter precário', 0.940156807781515]\n",
      "113 : ['Recurso administrativo', 0.9400658800599423]\n",
      "114 : ['Trânsito em julgado', 0.9399593614663062]\n",
      "115 : ['Exceção de pré-executividade', 0.9399157782585748]\n",
      "116 : ['Demissão voluntária', 0.9397991098076609]\n",
      "117 : ['Recebimento definitivo', 0.9397227991289107]\n",
      "118 : ['Indenização', 0.9393939380318067]\n",
      "119 : ['Recurso de reconsideração', 0.9393666044431632]\n",
      "120 : ['Defesa de responsável', 0.9391810012148251]\n",
      "121 : ['Erro material', 0.9389918879281072]\n",
      "122 : ['Ação preventiva', 0.938865908865595]\n",
      "123 : ['Ação rescisória', 0.9387672269317752]\n",
      "124 : ['Contrato de supervisão', 0.9383412188136857]\n",
      "125 : ['Acordo extrajudicial', 0.9382923115568033]\n",
      "126 : ['Negligência', 0.9380378741063565]\n",
      "127 : ['Desvio de objeto', 0.937885359178251]\n",
      "128 : ['Coerção', 0.9376987940731616]\n",
      "129 : ['Excesso de poder', 0.9376070119884522]\n",
      "130 : ['Desaforamento', 0.9375462612917738]\n",
      "131 : ['Impedimento', 0.9374787739158508]\n",
      "132 : ['Impropriedade', 0.9374117465224161]\n",
      "133 : ['Evasão escolar', 0.9373119316853378]\n",
      "134 : ['Desprovimento', 0.9371338347701162]\n",
      "135 : ['Auditoria preventiva', 0.9371216384663831]\n",
      "136 : ['Princípio da finalidade', 0.9369337609786829]\n",
      "137 : ['Diferimento (Direito)', 0.9368972933043725]\n",
      "138 : ['Prisão temporária', 0.9366119085769298]\n",
      "139 : ['Notificação', 0.9364406481815949]\n",
      "140 : ['Execução da despesa', 0.9364140972898027]\n",
      "141 : ['Recebimento provisório', 0.9363818770633856]\n",
      "142 : ['Tomada de contas', 0.9362982479628167]\n",
      "143 : ['Falta funcional', 0.9362839319425142]\n",
      "144 : ['Sonegação de informação', 0.9361032930150246]\n",
      "145 : ['Vício processual', 0.9360092609463783]\n",
      "146 : ['Extrato de contrato', 0.9360008750050914]\n",
      "147 : ['Revisão de ofício', 0.9358834842893132]\n",
      "148 : ['Tempo de inatividade', 0.9358358233598048]\n",
      "149 : ['Estado de exceção', 0.935831679982884]\n",
      "150 : ['Cessão de pessoal', 0.935817146169348]\n",
      "151 : ['Encampação', 0.9357052172934271]\n",
      "152 : ['Invalidez permanente', 0.9355681550795771]\n",
      "153 : ['Incapacidade jurídica', 0.935501814880512]\n",
      "154 : ['Tomada de contas especial', 0.9354755024429682]\n",
      "155 : ['Administração contratada', 0.9354697075363827]\n",
      "156 : ['Poder discricionário', 0.9354203104457277]\n",
      "157 : ['Ato omissivo', 0.9352650667149456]\n",
      "158 : ['Ação cautelar', 0.9352396940171527]\n",
      "159 : ['Erro de direito', 0.9352122520238958]\n",
      "160 : ['Ação corretiva', 0.9350531421357698]\n",
      "161 : ['Desarquivamento', 0.9350101936915588]\n",
      "162 : ['Rescisão amigável', 0.9348367953588615]\n",
      "163 : ['Risco de auditoria', 0.934653683748004]\n",
      "164 : ['Incapacidade', 0.9345512454781533]\n",
      "165 : ['Evicção', 0.9345391948992178]\n",
      "166 : ['Distorção não corrigida', 0.9345283659695628]\n",
      "167 : ['Ato protelatório', 0.9344324236110761]\n",
      "168 : ['Abandono escolar', 0.9343172061392796]\n",
      "169 : ['Paralisação', 0.9342335112536638]\n",
      "170 : ['Auxílio-reclusão', 0.9342083158526763]\n",
      "171 : ['Preclusão lógica', 0.9341856938032369]\n",
      "172 : ['Conduta omissiva', 0.934176593766562]\n",
      "173 : ['Irregularidade', 0.9341592512700099]\n",
      "174 : ['Revisão criminal', 0.9341199997339027]\n",
      "175 : ['Administrador provisório', 0.9340135791089196]\n",
      "176 : ['Controle compensatório', 0.9339029247905026]\n",
      "177 : ['Princípio da non reformatio in pejus', 0.9338936649500605]\n",
      "178 : ['Citação', 0.9338280090001873]\n",
      "179 : ['Contestação', 0.9336819036769036]\n",
      "180 : ['Pedido de reexame', 0.9336298099546121]\n",
      "181 : ['Correição parcial', 0.933437956512513]\n",
      "182 : ['Auditoria sem papel', 0.9333560825522424]\n",
      "183 : ['Risco de detecção', 0.9332995181965731]\n",
      "184 : ['Embargos de declaração', 0.9332928569742991]\n",
      "185 : ['Indício de irregularidade', 0.9332363051004994]\n",
      "186 : ['Prescrição', 0.933219542751346]\n",
      "187 : ['Abuso de direito', 0.9329860848695286]\n",
      "188 : ['Representação administrativa', 0.9329209064503583]\n",
      "189 : ['Efeito suspensivo', 0.9329041957953766]\n",
      "190 : ['Derrogação', 0.9328730172836445]\n",
      "191 : ['Curador especial', 0.9325900448396693]\n",
      "192 : ['Ofício de requisição', 0.9325472834824717]\n",
      "193 : ['Responsabilidade civil', 0.9325331289642702]\n",
      "194 : ['Desaparecimento', 0.9325277180650576]\n",
      "195 : ['Pedido de reconsideração', 0.9323797062211973]\n",
      "196 : ['Contas regulares com ressalva', 0.9321320763332352]\n",
      "197 : ['Prevaricação', 0.9320646714284133]\n",
      "198 : ['Encerrar', 0.9320290768789962]\n",
      "199 : ['Competência superveniente', 0.9317728829093163]\n",
      "200 : ['Erro de julgamento', 0.9314033035154865]\n",
      "201 : ['Rol de inelegíveis', 0.9311324218565812]\n",
      "202 : ['Princípio da segregação de funções', 0.9309826038037394]\n",
      "203 : ['Modulação de efeitos', 0.930885452769265]\n",
      "204 : ['Quitação', 0.9308623519522501]\n",
      "205 : ['Audiência', 0.930792233595942]\n",
      "206 : ['Advertência (Licitação)', 0.9307903654491108]\n",
      "207 : ['Recurso de revisão', 0.9306924479284809]\n",
      "208 : ['Infração', 0.9306527674499231]\n",
      "209 : ['Desapropriação judicial', 0.9306374703367478]\n",
      "210 : ['Encaminhamento das contas', 0.930468672388354]\n",
      "211 : ['Caso negativo', 0.9304603260477395]\n",
      "212 : ['Decisão rescindenda', 0.930407185362164]\n",
      "213 : ['Sobrestamento de processo', 0.9302978085055764]\n",
      "214 : ['Erro acidental', 0.9301570309773419]\n",
      "215 : ['Condenação civil', 0.9301147269637645]\n",
      "216 : ['Controle incidental', 0.9298962022053742]\n",
      "217 : ['Controle abstrato', 0.9298508169058634]\n",
      "218 : ['Periculum in mora reverso', 0.9297581361994394]\n",
      "219 : ['Construção participativa de deliberações', 0.9297289379397513]\n",
      "220 : ['Exame do desempenho', 0.9297224696936269]\n",
      "221 : ['Omissão no dever de prestar contas', 0.9296833871693714]\n",
      "222 : ['Ação inibitória', 0.929589062048194]\n",
      "223 : ['Excludente de culpabilidade', 0.9292400540186413]\n",
      "224 : ['Reexecução', 0.929201842011011]\n",
      "225 : ['Falta grave', 0.929148931989595]\n",
      "226 : ['Despesas de exercícios anteriores', 0.9288144407706419]\n",
      "227 : ['Período de trânsito', 0.9287719812144342]\n",
      "228 : ['Ataque externo', 0.92859938960508]\n",
      "229 : ['Ressarcimento administrativo', 0.9285552194913663]\n",
      "230 : ['Controle repressivo', 0.9284039483930326]\n",
      "231 : ['Conduta irregular', 0.9283929800583376]\n",
      "232 : ['Distanciamento social ', 0.9283764249082831]\n",
      "233 : ['Fase externa', 0.9282984552275516]\n",
      "234 : ['Verba indenizatória', 0.9282047482441077]\n",
      "235 : ['Benefício das ações de controle externo', 0.9281857533284571]\n",
      "236 : ['Livre exoneração', 0.9280540612196406]\n",
      "237 : ['Substituição de pessoal', 0.9280141227045536]\n",
      "238 : ['Desafetação', 0.927945752373276]\n",
      "239 : ['Trajetória de controle externo', 0.9275237178243594]\n",
      "240 : ['Dispensa', 0.927383903292129]\n",
      "241 : ['Responsabilidade objetiva', 0.9273066904060103]\n",
      "242 : ['Estabilidade', 0.9271924843891822]\n",
      "243 : ['Afastamento para servir a outro órgão ou entidade', 0.9268865615420242]\n",
      "244 : ['Culpa in vigilando', 0.9268591786029914]\n",
      "245 : ['Alegação de defesa', 0.9267955649524767]\n",
      "246 : ['Desmobilização', 0.926653233416122]\n",
      "247 : ['Falsidade documental', 0.9265054721812327]\n",
      "248 : ['Desestatização', 0.926462085101764]\n",
      "249 : ['Apreciação conclusiva', 0.9263469986901954]\n",
      "250 : ['Sigilo de correspondência', 0.926246640302686]\n",
      "251 : ['Inexecução', 0.9261906717638859]\n",
      "252 : ['Controle de segurança', 0.9261207758610802]\n",
      "253 : ['Documento sigiloso', 0.9258752485095326]\n",
      "254 : ['Declaração de inidoneidade', 0.9258200508733748]\n",
      "255 : ['Prevenção de perda de dados', 0.9255832480412837]\n",
      "256 : ['Pagamento indevido', 0.9255371549361735]\n",
      "257 : ['Riscos fiscais', 0.9255098587573884]\n",
      "258 : ['Renovação de contrato', 0.9254486156927831]\n",
      "259 : ['Imperícia', 0.9254199783446573]\n",
      "260 : ['Benefício efetivo', 0.9253943686835662]\n",
      "261 : ['Disponibilidade de pessoal', 0.9253086452577504]\n",
      "262 : ['Arguição de suspeição', 0.9251649716136089]\n",
      "263 : ['Erro judiciário', 0.9251636561427911]\n",
      "264 : ['Cadastro Integrado de Condenações por Ilícitos Administrativos', 0.9251446140534989]\n",
      "265 : ['Produção de prova', 0.9250980633734536]\n",
      "266 : ['Inviabilidade', 0.9249939208602727]\n",
      "267 : ['Tratamento de artefatos maliciosos', 0.9249887865664286]\n",
      "268 : ['Suspensão de pagamento', 0.9249520738965226]\n",
      "269 : ['Procedimento alternativo de auditoria', 0.9249324963133042]\n",
      "270 : ['Excesso de exação', 0.9247317989786851]\n",
      "271 : ['Cronograma de desembolso', 0.9246783265125317]\n",
      "272 : ['Nulidade absoluta', 0.9246520648919998]\n",
      "273 : ['Serviços não contínuos', 0.9245580253637039]\n",
      "274 : ['Ato disciplinar', 0.9245032529828513]\n",
      "275 : ['Decurso de prazo', 0.9244572438983552]\n",
      "276 : ['Posse (Pessoal)', 0.9244318196490182]\n",
      "277 : ['Ressarcimento', 0.9243852813137805]\n",
      "278 : ['Administração da justiça', 0.9243642395890357]\n",
      "279 : ['Falecimento de responsável', 0.9243487169984749]\n",
      "280 : ['Culpabilidade', 0.9242359156569214]\n",
      "281 : ['Confisco', 0.9241802979584273]\n",
      "282 : ['Informação reservada', 0.9241638996993318]\n",
      "283 : ['Desclassificação', 0.9241539470318474]\n",
      "284 : ['Indício de irregularidade grave com recomendação de paralisação', 0.9241185422672243]\n",
      "285 : ['Taxa tolerável de desvio', 0.9241153866512042]\n",
      "286 : ['Preparo (Direito)', 0.924062213946603]\n",
      "287 : ['Observação', 0.9240224172864854]\n",
      "288 : ['Reembolso', 0.9239438908902561]\n",
      "289 : ['Aposentado', 0.9239096615657405]\n",
      "290 : ['Decisão', 0.9239054434225252]\n",
      "291 : ['Medida administrativa', 0.9238917329751096]\n",
      "292 : ['Licença sem remuneração', 0.9237913316152498]\n",
      "293 : ['Efeito ex tunc', 0.9237403457168853]\n",
      "294 : ['Cargo em comissão', 0.9236965884057176]\n",
      "295 : ['Ato discricionário', 0.9236914431189058]\n",
      "296 : ['Incidente de segurança da informação', 0.9236666285008434]\n",
      "297 : ['Tabela de temporalidade', 0.9236444864868449]\n",
      "298 : ['Exação', 0.9235967271296159]\n",
      "299 : ['Declaração de nulidade', 0.9235252132805586]\n",
      "CPU times: user 73.4 ms, sys: 517 µs, total: 73.9 ms\n",
      "Wall time: 343 ms\n"
     ]
    }
   ],
   "source": [
    "%%time\n",
    "doctos_retornados_ranker = pipe_sts_multihop.run(query=parm_query, \n",
    " params={\"Retriever\": {\"top_k\": 300}})\n",
    "util_pipeline.detail_document_found(doctos_retornados_ranker)"
   ]
  },
  {
   "attachments": {},
   "cell_type": "markdown",
   "metadata": {},
   "source": [
    "### sts"
   ]
  },
  {
   "cell_type": "code",
   "execution_count": null,
   "metadata": {},
   "outputs": [
    {
     "name": "stdout",
     "output_type": "stream",
     "text": [
      "CPU times: user 3.09 s, sys: 638 ms, total: 3.72 s\n",
      "Wall time: 2.12 s\n"
     ]
    }
   ],
   "source": [
    "%%time\n",
    "pipe_sts = util_pipeline.return_pipeline_sts(index)"
   ]
  },
  {
   "cell_type": "code",
   "execution_count": null,
   "metadata": {},
   "outputs": [],
   "source": [
    "pipes.append({'PIPE_NAME': 'pipe_sts',\n",
    "              'PIPE_OBJECT': pipe_sts,\n",
    "              'RETRIEVER_TYPE': 'sts',  # in ['sts', 'bm25']\n",
    "              'RETRIEVER_MODEL_NAME': util_pipeline.nome_modelo_embedding_model_sts, # or nome_modelo_embedding_model_sts_rufimelo,\n",
    "              'RANKER_MODEL_NAME': ''})"
   ]
  },
  {
   "cell_type": "code",
   "execution_count": null,
   "metadata": {},
   "outputs": [
    {
     "name": "stdout",
     "output_type": "stream",
     "text": [
      "Parâmetros usados: {'Retriever': {'top_k': 300}}\n",
      "Consulta: A transferência de documentos da entidade para local impróprio ao armazenamento, causando a perda de informações ou inviabilizando seu manuseio, de forma a impedir a atuação do TCU, é causa de responsabilização do gestor que a ordenou.\n",
      "Qtd documentos retornados: 300\n",
      "Primeiro docto:\n",
      "<Document: id=2577, content='O termo é \"Afastamento de responsável\".\n",
      "Afastamento de responsável tem definição: \"No início ou no c...'>\n",
      "\n",
      "Último (300):\n",
      "<Document: id=1103641, content='O termo é \"Falta grave\".\n",
      "Falta grave tem nota de escopo: \"Está prevista em várias normatizações que ...'>\n",
      "Seguem os nomes dos termos recuperados em ordem de score\n",
      "0 : ['Afastamento de responsável', 0.9546168861748239]\n",
      "1 : ['Risco de controle', 0.943127201770828]\n",
      "2 : ['Vazamento de dados', 0.942404112002669]\n",
      "3 : ['Trancamento das contas', 0.9341491636096659]\n",
      "4 : ['Revisão de ofício', 0.9297291992714615]\n",
      "5 : ['Responsabilidade perante o controle externo', 0.9294792178601551]\n",
      "6 : ['Erro de procedimento', 0.9280039678494807]\n",
      "7 : ['Ato vinculado', 0.9275481833601299]\n",
      "8 : ['Termo de sigilo', 0.925026523026082]\n",
      "9 : ['Anulação', 0.924645376239448]\n",
      "10 : ['Atos de pessoal', 0.9229926926844242]\n",
      "11 : ['Coerção', 0.9227992114198242]\n",
      "12 : ['Negativa de registro', 0.9204877064695078]\n",
      "13 : ['Arquivamento', 0.9201357577046293]\n",
      "14 : ['Risco de auditoria', 0.9197051023576104]\n",
      "15 : ['Excludente de responsabilidade', 0.9187524462466974]\n",
      "16 : ['Irregularidade grave', 0.918724225445055]\n",
      "17 : ['Culpa in vigilando', 0.9179964511667835]\n",
      "18 : ['Distorção não corrigida', 0.9176569068704307]\n",
      "19 : ['Falta funcional', 0.917581312596116]\n",
      "20 : ['Conduta omissiva', 0.9174512184120178]\n",
      "21 : ['Sonegação de informação', 0.9166281377332632]\n",
      "22 : ['Accountability pública', 0.9164846598474962]\n",
      "23 : ['Omissão no dever de prestar contas', 0.9163486999360333]\n",
      "24 : ['Técnico de Finanças e Controle', 0.9162536001883685]\n",
      "25 : ['Contas irregulares', 0.91591697358619]\n",
      "26 : ['Representação administrativa', 0.9157843391848023]\n",
      "27 : ['Determinação', 0.9154213050633756]\n",
      "28 : ['Omissão', 0.914843089259514]\n",
      "29 : ['Documento sigiloso', 0.9144377332307788]\n",
      "30 : ['Conduta irregular', 0.9121719028713356]\n",
      "31 : ['Responsabilização', 0.9120798881002934]\n",
      "32 : ['Perda de objeto', 0.9116852764037447]\n",
      "33 : ['Inércia da Administração', 0.9109246871807424]\n",
      "34 : ['Guardar', 0.9108891410687013]\n",
      "35 : ['Infração', 0.91083449847398]\n",
      "36 : ['Indício de irregularidade grave', 0.9102057720038609]\n",
      "37 : ['Erro', 0.9100136002740455]\n",
      "38 : ['Princípio da segregação de funções', 0.9095418748158737]\n",
      "39 : ['Ofício de requisição', 0.909148240500324]\n",
      "40 : ['Rescisão unilateral', 0.9089078431783219]\n",
      "41 : ['Destituição de função', 0.908477643199189]\n",
      "42 : ['Ilícito administrativo', 0.9074259415814175]\n",
      "43 : ['Abandono de cargo', 0.90734232360891]\n",
      "44 : ['Irregularidade', 0.9069319944204945]\n",
      "45 : ['Desvio de função', 0.9064174477067363]\n",
      "46 : ['Ato de ofício', 0.9063242684408868]\n",
      "47 : ['Encaminhamento das contas', 0.9062184287363109]\n",
      "48 : ['Impropriedade', 0.9054761710268394]\n",
      "49 : ['Negação de serviço ', 0.9052805044569255]\n",
      "50 : ['Erro material', 0.904281403618174]\n",
      "51 : ['Administração contratada', 0.9042628789145661]\n",
      "52 : ['Dispensa com justa causa', 0.904032003866883]\n",
      "53 : ['Abuso de poder', 0.9038543499171754]\n",
      "54 : ['Controle interno', 0.903039446022782]\n",
      "55 : ['Indício de irregularidade grave com recomendação de paralisação', 0.9030113358814664]\n",
      "56 : ['Exclusão de acesso', 0.9027978646639047]\n",
      "57 : ['Informação secreta', 0.9027869826392471]\n",
      "58 : ['Preservação de evidência', 0.9026390021809562]\n",
      "59 : ['Interceptação telefônica', 0.9021654374380413]\n",
      "60 : ['Ato precário', 0.9019401359581602]\n",
      "61 : ['Processo administrativo disciplinar', 0.9016751040483828]\n",
      "62 : ['Canal de denúncias', 0.9016675679366696]\n",
      "63 : ['Ofício de comunicação de fiscalização', 0.9012543354903404]\n",
      "64 : ['Negligência', 0.9007426841986789]\n",
      "65 : ['Esclarecimento de responsáveis', 0.9006446529418302]\n",
      "66 : ['Preclusão temporal', 0.9003842202189747]\n",
      "67 : ['Auto de infração', 0.8989822458097059]\n",
      "68 : ['Prevenção de perda de dados', 0.8989408274705474]\n",
      "69 : ['Risco organizacional', 0.8988620365537214]\n",
      "70 : ['Obra paralisada', 0.8985173346730585]\n",
      "71 : ['Ato omissivo', 0.8985014675683317]\n",
      "72 : ['Custodiante da informação', 0.8978160882754852]\n",
      "73 : ['Disciplinar', 0.8971729313523576]\n",
      "74 : ['Ação de controle externo', 0.8971592770076936]\n",
      "75 : ['Erro acidental', 0.8971240266177964]\n",
      "76 : ['Mandado de injunção', 0.8963537977015371]\n",
      "77 : ['Corregedor', 0.895996597445735]\n",
      "78 : ['Informação reservada', 0.8959172688400449]\n",
      "79 : ['Excesso de poder', 0.8957690021134883]\n",
      "80 : ['Responsável técnico', 0.8955219751540908]\n",
      "81 : ['Abuso de autoridade', 0.895337701038353]\n",
      "82 : ['Construção participativa de deliberações', 0.8952738686379877]\n",
      "83 : ['Controlar', 0.8952649612394795]\n",
      "84 : ['Fiscalização tributária', 0.8947175176625644]\n",
      "85 : ['Locaute', 0.8943973808039647]\n",
      "86 : ['Sigilo fiscal', 0.8942432325789107]\n",
      "87 : ['Posse (Pessoal)', 0.8942414356922531]\n",
      "88 : ['Risco de detecção', 0.8939729246725233]\n",
      "89 : ['Nota técnica', 0.893956715288326]\n",
      "90 : ['Auditoria interna', 0.8935160473418704]\n",
      "91 : ['Poder discricionário', 0.8932054761040064]\n",
      "92 : ['Informação confidencial', 0.8931451749861812]\n",
      "93 : ['Gestão documental', 0.8930782552993651]\n",
      "94 : ['Deficiência material', 0.8929623713140746]\n",
      "95 : ['Tomada de contas', 0.8929463127174061]\n",
      "96 : ['Auditor interno', 0.8929196392918227]\n",
      "97 : ['Informação ultrassecreta', 0.8928700054238224]\n",
      "98 : ['Termo de responsabilidade', 0.8928465681441121]\n",
      "99 : ['Afastamento preventivo', 0.8926737584628649]\n",
      "100 : ['Ônus da prova', 0.892653445620245]\n",
      "101 : ['Cadeia de custódia', 0.8924779629880478]\n",
      "102 : ['Unidade técnica', 0.8923502681561225]\n",
      "103 : ['Excesso de exação', 0.8920802307901559]\n",
      "104 : ['Alerta', 0.8916925059377225]\n",
      "105 : ['Padronizar', 0.891552679820399]\n",
      "106 : ['Ato ilegítimo', 0.8913915918179613]\n",
      "107 : ['Gestor público', 0.89129619461555]\n",
      "108 : ['Observação', 0.8908999713377532]\n",
      "109 : ['Contrato de gestão', 0.8904383046315232]\n",
      "110 : ['Dispensa sem justa causa', 0.8902638469350985]\n",
      "111 : ['Evidência documental', 0.8902362941583799]\n",
      "112 : ['Obra atrasada', 0.8899351639707355]\n",
      "113 : ['Exame do desempenho', 0.8896121983363724]\n",
      "114 : ['Incidente de segurança da informação', 0.8895088471288116]\n",
      "115 : ['Razões de justificativa', 0.8894857485429668]\n",
      "116 : ['Interagir', 0.8894850604351289]\n",
      "117 : ['Auditoria sem papel', 0.88938613048452]\n",
      "118 : ['Segredo de justiça', 0.8893650757436812]\n",
      "119 : ['Ato protelatório', 0.8889060194192306]\n",
      "120 : ['Requisitos de segurança de software', 0.8888653270311738]\n",
      "121 : ['Princípio da autotutela', 0.8888441855478292]\n",
      "122 : ['Estrito cumprimento do dever legal', 0.8886838305228552]\n",
      "123 : ['Backdoor', 0.8886696834787372]\n",
      "124 : ['Diferimento (Direito)', 0.8885370403403602]\n",
      "125 : ['Pagamento indevido', 0.8884966260352596]\n",
      "126 : ['Decisão terminativa', 0.8884106039502037]\n",
      "127 : ['Erro de execução', 0.8879234087656943]\n",
      "128 : ['Política de segurança da informação', 0.8879072862530459]\n",
      "129 : ['Expulsão de estrangeiro', 0.8878141938744958]\n",
      "130 : ['Tempo em estoque', 0.8875335132164757]\n",
      "131 : ['Indício de irregularidade', 0.8873668095639772]\n",
      "132 : ['Direito ao esquecimento', 0.8873388213811285]\n",
      "133 : ['Reexecução', 0.8873164264633627]\n",
      "134 : ['Suspensão temporária', 0.8873080273673001]\n",
      "135 : ['Cobrança executiva', 0.8872189033069293]\n",
      "136 : ['Taxa tolerável de desvio', 0.8869612886517366]\n",
      "137 : ['Ciência (Controle externo)', 0.8869327111263778]\n",
      "138 : ['Produção de prova', 0.8862712673568761]\n",
      "139 : ['Princípio da hierarquia', 0.8860376183573635]\n",
      "140 : ['Contas iliquidáveis', 0.8860044943775252]\n",
      "141 : ['Matriz de responsabilização', 0.8859524687632678]\n",
      "142 : ['Medida Cautelar inaudita altera pars', 0.8858203419477869]\n",
      "143 : ['e-TCU', 0.8858172064877099]\n",
      "144 : ['Tomada de contas especial', 0.8857868594504611]\n",
      "145 : ['Regulamentar', 0.8856907141465555]\n",
      "146 : ['Exame documental', 0.8856842344555383]\n",
      "147 : ['Ato disciplinar', 0.8854317840978764]\n",
      "148 : ['Princípio da finalidade', 0.8848204981105547]\n",
      "149 : ['Controle repressivo', 0.8846113091371016]\n",
      "150 : ['Racionalizar', 0.8845950783561711]\n",
      "151 : ['Dissolução de empresa', 0.8841957285893534]\n",
      "152 : ['Revogação', 0.8837930216955766]\n",
      "153 : ['Preposto', 0.8836741416459395]\n",
      "154 : ['Abuso de direito', 0.8836604693259263]\n",
      "155 : ['Concessão em caráter precário', 0.8831414343895423]\n",
      "156 : ['Controle externo', 0.8829529578325156]\n",
      "157 : ['Desacato', 0.8827081135828957]\n",
      "158 : ['Tabela de temporalidade', 0.8826137607642695]\n",
      "159 : ['Integridade da informação', 0.8825871312213979]\n",
      "160 : ['Pena disciplinar', 0.882470915426364]\n",
      "161 : ['Fiscalização operacional', 0.8823257390871542]\n",
      "162 : ['Trabalho de asseguração limitada', 0.8821342509989321]\n",
      "163 : ['Tomar', 0.8821200058954419]\n",
      "164 : ['Limitação de dados', 0.8820668595412051]\n",
      "165 : ['Auditoria de pessoal', 0.8820444923472616]\n",
      "166 : ['Recebimento definitivo', 0.8818586506815174]\n",
      "167 : ['Aviso prévio', 0.8817477538898413]\n",
      "168 : ['Apropriação indevida de ativos', 0.8816266443211408]\n",
      "169 : ['Office of the Auditor General Tuvalu', 0.8813681065242074]\n",
      "170 : ['Administrar', 0.8813343300111998]\n",
      "171 : ['Observar', 0.8812789938456433]\n",
      "172 : ['Descarte de documentos', 0.8809821622885883]\n",
      "173 : ['Cartão de crédito corporativo', 0.8807620056599681]\n",
      "174 : ['Controle administrativo', 0.8807277647938219]\n",
      "175 : ['Backup', 0.8802855479205107]\n",
      "176 : ['Dirigir', 0.8802181918807137]\n",
      "177 : ['Ação de controle', 0.8800831705050414]\n",
      "178 : ['Token', 0.8800639614817107]\n",
      "179 : ['Terceiro', 0.8799094539213558]\n",
      "180 : ['Demissão de servidor', 0.8799041703806523]\n",
      "181 : ['Atualizar', 0.8797402810339251]\n",
      "182 : ['Fiscalização', 0.8793293944608881]\n",
      "183 : ['Plano de classificação de documentos', 0.8792799388275423]\n",
      "184 : ['Ordenação de despesa', 0.879230359524795]\n",
      "185 : ['Responsabilidade', 0.8792283420079042]\n",
      "186 : ['Deficiência significativa', 0.8791739642881625]\n",
      "187 : ['Contabilidade de responsabilidade', 0.878811580749008]\n",
      "188 : ['Decisão preliminar', 0.8787036530329609]\n",
      "189 : ['Monitorar', 0.878408854425763]\n",
      "190 : ['Defesa de responsável', 0.8783811887690922]\n",
      "191 : ['Processo modificador', 0.8782308021906321]\n",
      "192 : ['Arbitrariedade', 0.878191763168563]\n",
      "193 : ['Risco operacional', 0.8781473632396871]\n",
      "194 : ['Procuração', 0.8781335589765744]\n",
      "195 : ['Inobservância', 0.8781330239005047]\n",
      "196 : ['Ato de expediente', 0.8780371055961635]\n",
      "197 : ['Obrigação de resultado', 0.8780268247801725]\n",
      "198 : ['Efeito ex tunc', 0.8779769093825521]\n",
      "199 : ['Ato de império', 0.8779766951154783]\n",
      "200 : ['Consulta', 0.8779754095062319]\n",
      "201 : ['Erro de direito', 0.8779250473031819]\n",
      "202 : ['Documentação', 0.877470874238956]\n",
      "203 : ['Cnep', 0.8769280711255428]\n",
      "204 : ['Ocasionar', 0.876893854739788]\n",
      "205 : ['Unidade Apresentadora de Contas', 0.8767817577346254]\n",
      "206 : ['Controladoria', 0.8767598248491981]\n",
      "207 : ['Intempestividade', 0.8767165975214943]\n",
      "208 : ['Denunciado', 0.8765265671397175]\n",
      "209 : ['Estrutura de relatório financeiro', 0.8765159604294075]\n",
      "210 : ['Inexatidão material', 0.8763815771123583]\n",
      "211 : ['Tombamento', 0.8763389944091544]\n",
      "212 : ['Unidade responsável por agir', 0.8763029030223748]\n",
      "213 : ['Achado de auditoria', 0.8759804979240396]\n",
      "214 : ['Trabalho de revisão', 0.8758274536901092]\n",
      "215 : ['Quebra de sigilo telefônico', 0.8757304128420083]\n",
      "216 : ['Desfazimento de bens permanentes', 0.8755923548851777]\n",
      "217 : ['Assinatura digital', 0.8754315935378889]\n",
      "218 : ['Evento de segurança', 0.8754296306044894]\n",
      "219 : ['Relatório de monitoramento', 0.8753358150905861]\n",
      "220 : ['Controle de acesso físico', 0.8753095140623849]\n",
      "221 : ['Impeachment', 0.8750853805666758]\n",
      "222 : ['Ato discricionário', 0.8750323551072308]\n",
      "223 : ['Infração disciplinar', 0.8741507410306083]\n",
      "224 : ['Princípio da motivação', 0.8739541296563651]\n",
      "225 : ['Causa do achado', 0.873823975227287]\n",
      "226 : ['Contingenciamento', 0.8738213290682935]\n",
      "227 : ['Comentário de gestor', 0.8737974012251556]\n",
      "228 : ['Jogo de cronograma', 0.8737904537048704]\n",
      "229 : ['Desvio de finalidade', 0.8736717439417618]\n",
      "230 : ['Alcance', 0.8734416654233763]\n",
      "231 : ['Relatório de atividades', 0.873206689361985]\n",
      "232 : ['Risco inerente', 0.8730194599811062]\n",
      "233 : ['Fiscal', 0.8729331886053502]\n",
      "234 : ['Cadirreg', 0.8729111137206335]\n",
      "235 : ['Autuação de processo', 0.8729062323992856]\n",
      "236 : ['Sigilo de correspondência', 0.8728454243383941]\n",
      "237 : ['Registrar', 0.8727582745982677]\n",
      "238 : ['Controle posterior', 0.872650738176177]\n",
      "239 : ['Extrato de entrevista', 0.8724051580178847]\n",
      "240 : ['Representação', 0.8723376862677332]\n",
      "241 : ['Equipe de auditoria', 0.8720624740901113]\n",
      "242 : ['Vício processual', 0.8720032189720924]\n",
      "243 : ['Reunião de encerramento', 0.8719076472986421]\n",
      "244 : ['Notificação', 0.8718925691068722]\n",
      "245 : ['Risco de distorção relevante', 0.8717872029135438]\n",
      "246 : ['Indexação documentária', 0.8717866440411262]\n",
      "247 : ['Responsabilidade técnica', 0.8717561264531207]\n",
      "248 : ['Investigar', 0.8717011120797181]\n",
      "249 : ['Declaração de inidoneidade', 0.8716292947664025]\n",
      "250 : ['Estratégia', 0.8715421059209044]\n",
      "251 : ['Desvio de objeto', 0.8714130768626233]\n",
      "252 : ['Denunciante', 0.8712903296565911]\n",
      "253 : ['Monitoramento eletrônico', 0.8712341353156513]\n",
      "254 : ['Princípio da non reformatio in pejus', 0.8711463810050809]\n",
      "255 : ['Risco não resultante de amostragem', 0.8711382987629079]\n",
      "256 : ['Confisco', 0.8710331903014847]\n",
      "257 : ['Inspeção', 0.8708775272292804]\n",
      "258 : ['Processo administrativo de responsabilização', 0.8708433386175098]\n",
      "259 : ['Controle migratório', 0.8707759509946608]\n",
      "260 : ['Tendenciosidade da Administração', 0.8706873678227967]\n",
      "261 : ['Informação requerida', 0.8706735185136949]\n",
      "262 : ['Impedimento', 0.8704812994575385]\n",
      "263 : ['Arquivo corrente', 0.8704089008445534]\n",
      "264 : ['Período de trânsito', 0.8704019072546824]\n",
      "265 : ['Afastamento para exercício de mandato eletivo', 0.8703285680224035]\n",
      "266 : ['Competência exclusiva', 0.8702189447057667]\n",
      "267 : ['Encerrar', 0.8700891238116385]\n",
      "268 : ['Controle de segurança', 0.8700684371812674]\n",
      "269 : ['CEPIM', 0.8700673066835656]\n",
      "270 : ['Unidade de Serviço Técnico', 0.8698675295404266]\n",
      "271 : ['Deportação', 0.869851567788533]\n",
      "272 : ['Denúncia', 0.8696972983291681]\n",
      "273 : ['HTTPS', 0.8695402643359984]\n",
      "274 : ['Controle de acesso', 0.8694144078180848]\n",
      "275 : ['Execução da despesa', 0.8693729626869552]\n",
      "276 : ['Redação oficial', 0.8692962881331051]\n",
      "277 : ['Processo apartado', 0.869283107619306]\n",
      "278 : ['Unidade responsável técnica', 0.8692817440534261]\n",
      "279 : ['Tornar', 0.8691776228503979]\n",
      "280 : ['Substituir', 0.8690527209777948]\n",
      "281 : ['Programa de trabalho resumido', 0.868997404213968]\n",
      "282 : ['Execução trabalhista', 0.868993761261651]\n",
      "283 : ['Inabilitação de responsável', 0.8689885243669714]\n",
      "284 : ['Fiscalizar', 0.8686625768533842]\n",
      "285 : ['Cessão de pessoal', 0.868599815781819]\n",
      "286 : ['Auditoria financeira e orçamentária', 0.8685493602566638]\n",
      "287 : ['Cobrança judicial', 0.8685316626835191]\n",
      "288 : ['Quitação ao responsável', 0.8683420005723177]\n",
      "289 : ['Conta vinculada', 0.8682805963484391]\n",
      "290 : ['Expedir', 0.8682534884341618]\n",
      "291 : ['Responsabilidade civil', 0.8680356528759158]\n",
      "292 : ['Incapacidade jurídica', 0.8678683203455174]\n",
      "293 : ['Siconv', 0.8677876844475567]\n",
      "294 : ['Fraude processual', 0.8676818654657366]\n",
      "295 : ['Risco do trabalho de asseguração', 0.86762215282653]\n",
      "296 : ['Administrador provisório', 0.8672457833170932]\n",
      "297 : ['Fiscalização ambiental', 0.8672105494142818]\n",
      "298 : ['Recebimento provisório', 0.8671557253802006]\n",
      "299 : ['Falta grave', 0.8670712634916201]\n",
      "CPU times: user 502 ms, sys: 48.5 ms, total: 550 ms\n",
      "Wall time: 684 ms\n"
     ]
    }
   ],
   "source": [
    "%%time\n",
    "doctos_retornados_ranker = pipe_sts.run(query=parm_query, \n",
    " params={\"Retriever\": {\"top_k\": 300}})\n",
    "util_pipeline.detail_document_found(doctos_retornados_ranker)"
   ]
  },
  {
   "attachments": {},
   "cell_type": "markdown",
   "metadata": {},
   "source": [
    "### bm25"
   ]
  },
  {
   "cell_type": "code",
   "execution_count": 38,
   "metadata": {},
   "outputs": [
    {
     "name": "stdout",
     "output_type": "stream",
     "text": [
      "CPU times: user 616 µs, sys: 47 µs, total: 663 µs\n",
      "Wall time: 662 µs\n"
     ]
    }
   ],
   "source": [
    "%%time\n",
    "pipe_bm25 = util_pipeline.return_pipeline_bm25(index)"
   ]
  },
  {
   "cell_type": "code",
   "execution_count": 39,
   "metadata": {},
   "outputs": [],
   "source": [
    "pipes.append({'PIPE_NAME': 'pipe_bm25',\n",
    "              'PIPE_OBJECT': pipe_bm25,\n",
    "              'RETRIEVER_TYPE': 'bm25', \n",
    "              'RETRIEVER_MODEL_NAME': '', # or nome_modelo_embedding_model_sts_rufimelo,\n",
    "              'RANKER_MODEL_NAME': ''})"
   ]
  },
  {
   "cell_type": "code",
   "execution_count": 40,
   "metadata": {},
   "outputs": [
    {
     "name": "stdout",
     "output_type": "stream",
     "text": [
      "Parâmetros usados: {'Retriever': {'top_k': 300}}\n",
      "Consulta: A transferência de documentos da entidade para local impróprio ao armazenamento, causando a perda de informações ou inviabilizando seu manuseio, de forma a impedir a atuação do TCU, é causa de responsabilização do gestor que a ordenou.\n",
      "Qtd documentos retornados: 300\n",
      "Primeiro docto:\n",
      "<Document: id=1102005, content='O termo é \"Plano de contratações\".\n",
      "Plano de contratações tem definição: \"É o documento no qual a org...'>\n",
      "\n",
      "Último (300):\n",
      "<Document: id=6150, content='O termo é \"Gestão de risco\".\n",
      "Gestão de risco tem definição: \"Identificar, analisar e eliminar, se po...'>\n",
      "Seguem os nomes dos termos recuperados em ordem de score\n",
      "0 : ['Plano de contratações', '1102005', 0.981894035831847]\n",
      "1 : ['Competência do TCU', '5095', 0.981022770821533]\n",
      "2 : ['Nexo de causalidade', '4495', 0.9782476752974565]\n",
      "3 : ['Teletrabalho', '5949', 0.977450618284214]\n",
      "4 : ['Evidência documental', '1101364', 0.9766837588293696]\n",
      "5 : ['Processo administrativo de responsabilização', '1104189', 0.976454696921547]\n",
      "6 : ['Papéis de trabalho', '15181', 0.976140477988525]\n",
      "7 : ['Ofício de requisição', '1101404', 0.975916648171194]\n",
      "8 : ['Julgamento de contas', '874', 0.9732691705914434]\n",
      "9 : ['Matriz de fiscalização', '6627', 0.972325706163406]\n",
      "10 : ['Gestão documental', '6136', 0.9697733602941567]\n",
      "CPU times: user 10.2 ms, sys: 173 µs, total: 10.4 ms\n",
      "Wall time: 133 ms\n"
     ]
    }
   ],
   "source": [
    "%%time\n",
    "doctos_retornados_ranker = pipe_bm25.run(query=parm_query, \n",
    " params={\"Retriever\": {\"top_k\": 300}})\n",
    "util_pipeline.detail_document_found(doctos_retornados_ranker)"
   ]
  },
  {
   "cell_type": "code",
   "execution_count": null,
   "metadata": {},
   "outputs": [],
   "source": []
  },
  {
   "attachments": {},
   "cell_type": "markdown",
   "metadata": {},
   "source": [
    "## With rankers"
   ]
  },
  {
   "cell_type": "code",
   "execution_count": null,
   "metadata": {},
   "outputs": [],
   "source": [
    "importlib.reload(util_pipeline)"
   ]
  },
  {
   "attachments": {},
   "cell_type": "markdown",
   "metadata": {},
   "source": [
    "### First stage = sts_multihop"
   ]
  },
  {
   "cell_type": "code",
   "execution_count": null,
   "metadata": {},
   "outputs": [
    {
     "data": {
      "text/plain": [
       "<module 'util.util_search' from '/home/borela/fontes/ind-ir/code/util/util_search.py'>"
      ]
     },
     "execution_count": 40,
     "metadata": {},
     "output_type": "execute_result"
    }
   ],
   "source": [
    "importlib.reload(util_experiment)"
   ]
  },
  {
   "cell_type": "code",
   "execution_count": null,
   "metadata": {},
   "outputs": [
    {
     "name": "stdout",
     "output_type": "stream",
     "text": [
      "CPU times: user 39.1 s, sys: 7.6 s, total: 46.7 s\n",
      "Wall time: 36.4 s\n"
     ]
    }
   ],
   "source": [
    "%%time\n",
    "pipe_sts_multihop_ranker_monot5_3b = util_pipeline.return_pipeline_sts_multihop_reranker(index, 'MONOT5', parm_limit_query_size=350)"
   ]
  },
  {
   "cell_type": "code",
   "execution_count": null,
   "metadata": {},
   "outputs": [],
   "source": [
    "pipes.append({'PIPE_NAME': 'pipe_sts_multihop_ranker_monot5_3b',\n",
    "              'PIPE_OBJECT': pipe_sts_multihop_ranker_monot5_3b,\n",
    "              'RETRIEVER_TYPE': 'sts_multihop',  # in ['sts', 'bm25']\n",
    "              'RETRIEVER_MODEL_NAME': util_pipeline.nome_modelo_embedding_model_sts, # or nome_modelo_embedding_model_sts_rufimelo,\n",
    "              'RANKER_MODEL_NAME': util_pipeline.nome_modelo_monot5_3b})"
   ]
  },
  {
   "cell_type": "code",
   "execution_count": null,
   "metadata": {},
   "outputs": [
    {
     "name": "stdout",
     "output_type": "stream",
     "text": [
      "Parâmetros usados: {'Retriever': {'filters': {'class': ['Termo']}}}\n",
      "Consulta: A transferência de documentos da entidade para local impróprio ao armazenamento, causando a perda de informações ou inviabilizando seu manuseio, de forma a impedir a atuação do TCU, é causa de responsabilização do gestor que a ordenou.\n",
      "Qtd documentos retornados: 10\n",
      "Primeiro docto:\n",
      "<Document: id=5098, content='O termo é \"Responsabilidade perante o controle externo\".\n",
      "Responsabilidade perante o controle externo...'>\n",
      "\n",
      "Último (10):\n",
      "<Document: id=5450, content='O termo é \"Dispensa sem justa causa\".\n",
      "Dispensa sem justa causa tem definição: \"Art. 477.  Na extinçã...'>\n",
      "Seguem os nomes dos termos recuperados em ordem de score\n",
      "0 : ['Responsabilidade perante o controle externo', -0.29318735003471375]\n",
      "1 : ['Afastamento de responsável', -0.8160551190376282]\n",
      "2 : ['Descarte de documentos', -1.4474653005599976]\n",
      "3 : ['Excludente de responsabilidade', -2.6080782413482666]\n",
      "4 : ['Perda de objeto', -2.8628034591674805]\n",
      "5 : ['Afastamento preventivo', -5.166513919830322]\n",
      "6 : ['Abandono de cargo', -5.237979888916016]\n",
      "7 : ['Rescisão unilateral', -5.300616264343262]\n",
      "8 : ['Destituição de função', -5.859151363372803]\n",
      "9 : ['Dispensa sem justa causa', -6.185722351074219]\n",
      "CPU times: user 788 ms, sys: 299 ms, total: 1.09 s\n",
      "Wall time: 1.17 s\n"
     ]
    }
   ],
   "source": [
    "%%time\n",
    "doctos_retornados_ranker = pipe_sts_multihop_ranker_monot5_3b.run(query=parm_query, params= {'Retriever': {'filters':{'class':['Termo']}}}) \n",
    "util_pipeline.detail_document_found(doctos_retornados_ranker)"
   ]
  },
  {
   "attachments": {},
   "cell_type": "markdown",
   "metadata": {},
   "source": [
    "### First stage = Join"
   ]
  },
  {
   "attachments": {},
   "cell_type": "markdown",
   "metadata": {},
   "source": [
    "#### bm25 + sts"
   ]
  },
  {
   "cell_type": "code",
   "execution_count": null,
   "metadata": {},
   "outputs": [
    {
     "data": {
      "text/plain": [
       "<module 'util.util_experiment' from '/home/borela/fontes/ind-ir/code/util/util_experiment.py'>"
      ]
     },
     "execution_count": 38,
     "metadata": {},
     "output_type": "execute_result"
    }
   ],
   "source": [
    "import importlib\n",
    "importlib.reload(util_experiment)"
   ]
  },
  {
   "cell_type": "code",
   "execution_count": null,
   "metadata": {},
   "outputs": [
    {
     "name": "stdout",
     "output_type": "stream",
     "text": [
      "CPU times: user 37.6 s, sys: 11.3 s, total: 48.9 s\n",
      "Wall time: 1min 22s\n"
     ]
    }
   ],
   "source": [
    "%%time\n",
    "pipe_join_ranker_monot5_3b = util_pipeline.return_pipeline_join_bm25_sts_reranker(index, 'MONOT5', parm_limit_query_size=350)"
   ]
  },
  {
   "cell_type": "code",
   "execution_count": null,
   "metadata": {},
   "outputs": [],
   "source": [
    "pipes.append({'PIPE_NAME': 'pipe_join_ranker_monot5_3b',\n",
    "              'PIPE_OBJECT': pipe_join_ranker_monot5_3b,\n",
    "              'RETRIEVER_TYPE': 'join_sts_bm25',  # in ['sts', 'bm25']\n",
    "              'RETRIEVER_MODEL_NAME': util_pipeline.nome_modelo_embedding_model_sts, # or nome_modelo_embedding_model_sts_rufimelo,\n",
    "              'RANKER_MODEL_NAME': util_pipeline.nome_modelo_monot5_3b})"
   ]
  },
  {
   "cell_type": "code",
   "execution_count": null,
   "metadata": {},
   "outputs": [
    {
     "name": "stdout",
     "output_type": "stream",
     "text": [
      "Parâmetros usados: {'Bm25Retriever': {'top_k': 300}, 'StsRetriever': {'top_k': 300}, 'Ranker': {'top_k': 10}}\n",
      "Consulta: A transferência de documentos da entidade para local impróprio ao armazenamento, causando a perda de informações ou inviabilizando seu manuseio, de forma a impedir a atuação do TCU, é causa de responsabilização do gestor que a ordenou.\n",
      "Qtd documentos retornados: 10\n",
      "Primeiro docto:\n",
      "<Document: id=5098, content='O termo é \"Responsabilidade perante o controle externo\".\n",
      "Responsabilidade perante o controle externo...'>\n",
      "\n",
      "Último (10):\n",
      "<Document: id=1525, content='O termo é \"Tomada de contas\". Tomada de contas tem definição: \"Levantamento organizado por serviço d...'>\n",
      "Seguem os nomes dos termos recuperados em ordem de score\n",
      "0 : ['Responsabilidade perante o controle externo', '5098', -0.29322895407676697]\n",
      "1 : ['Achado de auditoria', '2700', -0.5342227220535278]\n",
      "2 : ['Termo de sigilo', '1000057', -0.6638156771659851]\n",
      "3 : ['Encaminhamento das contas', '1739', -0.7583333253860474]\n",
      "4 : ['Afastamento de responsável', '2577', -0.8161255121231079]\n",
      "5 : ['Revisão de ofício', '15291', -0.9922728538513184]\n",
      "6 : ['Coordenar', '1113789', -1.0411049127578735]\n",
      "7 : ['Processo administrativo de responsabilização', '1104189', -1.0604159832000732]\n",
      "8 : ['Trancamento das contas', '2663', -1.1503021717071533]\n",
      "9 : ['Tomada de contas', '1525', -1.180816650390625]\n",
      "CPU times: user 21.6 s, sys: 13.4 s, total: 35 s\n",
      "Wall time: 35.3 s\n"
     ]
    }
   ],
   "source": [
    "%%time\n",
    "doctos_retornados_ranker = pipe_join_ranker_monot5_3b.run(query=parm_query, \n",
    " params={\"Bm25Retriever\": {\"top_k\": 300}, \"StsRetriever\": {\"top_k\": 300}, \"Ranker\": {\"top_k\": 10}})\n",
    "util_pipeline.detail_document_found(doctos_retornados_ranker)"
   ]
  },
  {
   "attachments": {},
   "cell_type": "markdown",
   "metadata": {},
   "source": [
    "#### bm25 + sts_multihop"
   ]
  },
  {
   "cell_type": "code",
   "execution_count": null,
   "metadata": {},
   "outputs": [
    {
     "data": {
      "text/plain": [
       "<module 'util.util_pipeline' from '/home/borela/fontes/ind-ir/code/util/util_pipeline.py'>"
      ]
     },
     "execution_count": 50,
     "metadata": {},
     "output_type": "execute_result"
    }
   ],
   "source": [
    "import importlib\n",
    "importlib.reload(util_pipeline)"
   ]
  },
  {
   "cell_type": "code",
   "execution_count": null,
   "metadata": {},
   "outputs": [
    {
     "name": "stdout",
     "output_type": "stream",
     "text": [
      "CPU times: user 39.4 s, sys: 7.46 s, total: 46.9 s\n",
      "Wall time: 36.4 s\n"
     ]
    }
   ],
   "source": [
    "%%time\n",
    "pipe_join_multihop_ranker_monot5_3b = util_pipeline.return_pipeline_join_bm25_sts_multihop_reranker(index, 'MONOT5', parm_limit_query_size=350)"
   ]
  },
  {
   "cell_type": "code",
   "execution_count": null,
   "metadata": {},
   "outputs": [],
   "source": [
    "pipes.append({'PIPE_NAME': 'pipe_join_multihop_ranker_monot5_3b',\n",
    "              'PIPE_OBJECT': pipe_join_multihop_ranker_monot5_3b,\n",
    "              'RETRIEVER_TYPE': 'join_sts_multihop_bm25',  # in ['sts', 'bm25']\n",
    "              'RETRIEVER_MODEL_NAME': util_pipeline.nome_modelo_embedding_model_sts, # or nome_modelo_embedding_model_sts_rufimelo,\n",
    "              'RANKER_MODEL_NAME': util_pipeline.nome_modelo_monot5_3b})"
   ]
  },
  {
   "cell_type": "code",
   "execution_count": null,
   "metadata": {},
   "outputs": [
    {
     "name": "stdout",
     "output_type": "stream",
     "text": [
      "Parâmetros usados: {'Bm25Retriever': {'top_k': 150}, 'StsRetriever': {'top_k': 150}, 'Ranker': {'top_k': 10}}\n",
      "Consulta: A transferência de documentos da entidade para local impróprio ao armazenamento, causando a perda de informações ou inviabilizando seu manuseio, de forma a impedir a atuação do TCU, é causa de responsabilização do gestor que a ordenou.\n",
      "Qtd documentos retornados: 10\n",
      "Primeiro docto:\n",
      "<Document: id=5098, content='O termo é \"Responsabilidade perante o controle externo\".\n",
      "Responsabilidade perante o controle externo...'>\n",
      "\n",
      "Último (10):\n",
      "<Document: id=6130, content='O termo é \"Informação reservada\". Informação reservada tem definição: \"Informação imprescindível à s...'>\n",
      "Seguem os nomes dos termos recuperados em ordem de score\n",
      "0 : ['Responsabilidade perante o controle externo', -0.29319456219673157]\n",
      "1 : ['Termo de sigilo', -0.663377583026886]\n",
      "2 : ['Afastamento de responsável', -0.8160808086395264]\n",
      "3 : ['Revisão de ofício', -0.9920899271965027]\n",
      "4 : ['Processo administrativo de responsabilização', -1.0604159832000732]\n",
      "5 : ['Trancamento das contas', -1.149297833442688]\n",
      "6 : ['Tomada de contas', -1.1803910732269287]\n",
      "7 : ['Omissão', -1.1926681995391846]\n",
      "8 : ['Responsabilização', -1.2005455493927002]\n",
      "9 : ['Informação reservada', -1.3376038074493408]\n",
      "0 : ['Responsabilidade perante o controle externo', -0.29319456219673157]\n",
      "1 : ['Termo de sigilo', -0.663377583026886]\n",
      "2 : ['Afastamento de responsável', -0.8160808086395264]\n",
      "3 : ['Revisão de ofício', -0.9920899271965027]\n",
      "4 : ['Processo administrativo de responsabilização', -1.0604159832000732]\n",
      "5 : ['Trancamento das contas', -1.149297833442688]\n",
      "6 : ['Tomada de contas', -1.1803910732269287]\n",
      "7 : ['Omissão', -1.1926681995391846]\n",
      "8 : ['Responsabilização', -1.2005455493927002]\n",
      "9 : ['Informação reservada', -1.3376038074493408]\n",
      "CPU times: user 11.7 s, sys: 7.79 s, total: 19.5 s\n",
      "Wall time: 19.8 s\n"
     ]
    }
   ],
   "source": [
    "%%time\n",
    "doctos_retornados_ranker = pipe_join_multihop_ranker_monot5_3b.run(query=parm_query, \n",
    " params={\"Bm25Retriever\": {\"top_k\": 150}, \"StsRetriever\": {\"top_k\": 150}, \"Ranker\": {\"top_k\": 10}})\n",
    "util_pipeline.detail_document_found(doctos_retornados_ranker)"
   ]
  },
  {
   "attachments": {},
   "cell_type": "markdown",
   "metadata": {},
   "source": [
    "### First stage = BM25"
   ]
  },
  {
   "attachments": {},
   "cell_type": "markdown",
   "metadata": {},
   "source": [
    "#### pipe_bm25_ranker_monot5_3b"
   ]
  },
  {
   "cell_type": "code",
   "execution_count": null,
   "metadata": {},
   "outputs": [
    {
     "name": "stdout",
     "output_type": "stream",
     "text": [
      "CPU times: user 35.2 s, sys: 8.64 s, total: 43.8 s\n",
      "Wall time: 36.7 s\n"
     ]
    }
   ],
   "source": [
    "%%time\n",
    "pipe_bm25_ranker_monot5_3b = util_pipeline.return_pipeline_bm25_reranker(index, 'MONOT5', parm_limit_query_size=350)"
   ]
  },
  {
   "cell_type": "code",
   "execution_count": null,
   "metadata": {},
   "outputs": [],
   "source": [
    "pipes.append({'PIPE_NAME': 'pipe_bm25_ranker_monot5_3b',\n",
    "              'PIPE_OBJECT': pipe_bm25_ranker_monot5_3b,\n",
    "              'RETRIEVER_TYPE': 'bm25',  # or 'sts'\n",
    "              'RETRIEVER_MODEL_NAME': '', # or nome_modelo_embedding_model_sts_rufimelo,\n",
    "              'RANKER_MODEL_NAME': util_pipeline.nome_modelo_monot5_3b})"
   ]
  },
  {
   "cell_type": "code",
   "execution_count": null,
   "metadata": {},
   "outputs": [
    {
     "name": "stdout",
     "output_type": "stream",
     "text": [
      "Parâmetros usados: {}\n",
      "Consulta: A transferência de documentos da entidade para local impróprio ao armazenamento, causando a perda de informações ou inviabilizando seu manuseio, de forma a impedir a atuação do TCU, é causa de responsabilização do gestor que a ordenou.\n",
      "Qtd documentos retornados: 10\n",
      "Primeiro docto:\n",
      "<Document: id=1104189, content='O termo é \"Processo administrativo de responsabilização\". Processo administrativo de responsabilizaç...'>\n",
      "\n",
      "Último (10):\n",
      "<Document: id=1102005, content='O termo é \"Plano de contratações\".\n",
      "Plano de contratações tem definição: \"É o documento no qual a org...'>\n",
      "Seguem os nomes dos termos recuperados em ordem de score\n",
      "0 : ['Processo administrativo de responsabilização', -1.0603076219558716]\n",
      "1 : ['Competência do TCU', -1.4214444160461426]\n",
      "2 : ['Evidência documental', -1.9571717977523804]\n",
      "3 : ['Ofício de requisição', -2.266594648361206]\n",
      "4 : ['Julgamento de contas', -2.5948143005371094]\n",
      "5 : ['Nexo de causalidade', -3.0983963012695312]\n",
      "6 : ['Teletrabalho', -3.176138401031494]\n",
      "7 : ['Papéis de trabalho', -3.9197187423706055]\n",
      "8 : ['Matriz de fiscalização', -4.795485973358154]\n",
      "9 : ['Plano de contratações', -5.823603630065918]\n"
     ]
    }
   ],
   "source": [
    "doctos_retornados_ranker = pipe_bm25_ranker_monot5_3b.run(query=parm_query)\n",
    "util_pipeline.detail_document_found(doctos_retornados_ranker)"
   ]
  },
  {
   "attachments": {},
   "cell_type": "markdown",
   "metadata": {},
   "source": [
    "#### pipe_bm25_ranker_minilm"
   ]
  },
  {
   "cell_type": "code",
   "execution_count": null,
   "metadata": {},
   "outputs": [],
   "source": [
    "pipe_bm25_ranker_minilm = util_pipeline.return_pipeline_bm25_reranker(index, 'MINILM', parm_limit_query_size=350)"
   ]
  },
  {
   "cell_type": "code",
   "execution_count": null,
   "metadata": {},
   "outputs": [],
   "source": [
    "pipes.append({'PIPE_NAME': 'pipe_bm25_ranker_minilm',\n",
    "              'PIPE_OBJECT': pipe_bm25_ranker_minilm,\n",
    "              'RETRIEVER_TYPE': 'bm25',  # or 'sts'\n",
    "              'RETRIEVER_MODEL_NAME': '', # or nome_modelo_embedding_model_sts_rufimelo,\n",
    "              'RANKER_MODEL_NAME': util_pipeline.nome_modelo_ranking_minilm})"
   ]
  },
  {
   "cell_type": "code",
   "execution_count": null,
   "metadata": {},
   "outputs": [
    {
     "name": "stdout",
     "output_type": "stream",
     "text": [
      "Parâmetros usados: {}\n",
      "Consulta: A transferência de documentos da entidade para local impróprio ao armazenamento, causando a perda de informações ou inviabilizando seu manuseio, de forma a impedir a atuação do TCU, é causa de responsabilização do gestor que a ordenou.\n",
      "Qtd documentos retornados: 10\n",
      "Primeiro docto:\n",
      "<Document: id=5095, content='O termo é \"Competência do TCU\". Competência do TCU tem definição: \"São as seguintes as competências ...'>\n",
      "\n",
      "Último (10):\n",
      "<Document: id=4495, content='O termo é \"Nexo de causalidade\".\n",
      "Nexo de causalidade tem definição: \"Elemento que evidencia se a con...'>\n",
      "Seguem os nomes dos termos recuperados em ordem de score\n",
      "0 : ['Competência do TCU', 0.0014646538766101003]\n",
      "1 : ['Processo administrativo de responsabilização', 0.0004114470211789012]\n",
      "2 : ['Evidência documental', 0.00033812460605986416]\n",
      "3 : ['Plano de contratações', 0.0002457168884575367]\n",
      "4 : ['Julgamento de contas', 0.00022130725847091526]\n",
      "5 : ['Teletrabalho', 0.00016929447883740067]\n",
      "6 : ['Ofício de requisição', 0.0001542003737995401]\n",
      "7 : ['Papéis de trabalho', 8.805856487015262e-05]\n",
      "8 : ['Matriz de fiscalização', 7.702181028435007e-05]\n",
      "9 : ['Nexo de causalidade', 7.497824117308483e-05]\n"
     ]
    }
   ],
   "source": [
    "doctos_retornados_ranker = pipe_bm25_ranker_minilm.run(query=parm_query)\n",
    "util_pipeline.detail_document_found(doctos_retornados_ranker)"
   ]
  },
  {
   "attachments": {},
   "cell_type": "markdown",
   "metadata": {},
   "source": [
    "### First stage = Sentence Similarity"
   ]
  },
  {
   "attachments": {},
   "cell_type": "markdown",
   "metadata": {},
   "source": [
    "#### pipe_sts_ranker_minilm"
   ]
  },
  {
   "cell_type": "code",
   "execution_count": null,
   "metadata": {},
   "outputs": [
    {
     "ename": "NameError",
     "evalue": "name 'parm_path_model_ranker' is not defined",
     "output_type": "error",
     "traceback": [
      "\u001b[0;31m---------------------------------------------------------------------------\u001b[0m",
      "\u001b[0;31mNameError\u001b[0m                                 Traceback (most recent call last)",
      "\u001b[0;32m/tmp/ipykernel_715053/2308968693.py\u001b[0m in \u001b[0;36m<module>\u001b[0;34m\u001b[0m\n\u001b[0;32m----> 1\u001b[0;31m \u001b[0mpipe_sts_ranker_minilm\u001b[0m \u001b[0;34m=\u001b[0m \u001b[0mutil_pipeline\u001b[0m\u001b[0;34m.\u001b[0m\u001b[0mreturn_pipeline_sts_reranker\u001b[0m\u001b[0;34m(\u001b[0m\u001b[0mindex\u001b[0m\u001b[0;34m,\u001b[0m \u001b[0;34m'MINILM'\u001b[0m\u001b[0;34m,\u001b[0m \u001b[0mparm_limit_query_size\u001b[0m\u001b[0;34m=\u001b[0m\u001b[0;36m350\u001b[0m\u001b[0;34m)\u001b[0m\u001b[0;34m\u001b[0m\u001b[0;34m\u001b[0m\u001b[0m\n\u001b[0m",
      "\u001b[0;32m~/fontes/ind-ir/code/util/util_pipeline.py\u001b[0m in \u001b[0;36mreturn_pipeline_sts_reranker\u001b[0;34m(parm_index, parm_ranker_type, parm_limit_query_size)\u001b[0m\n\u001b[1;32m    106\u001b[0m                                         name=\"Ranker\", inputs=[\"Retriever\"])  # \"Retriever\" é o nome do nó anterior\n\u001b[1;32m    107\u001b[0m     \u001b[0;32melif\u001b[0m \u001b[0mparm_ranker_type\u001b[0m \u001b[0;34m==\u001b[0m \u001b[0;34m'MINILM'\u001b[0m\u001b[0;34m:\u001b[0m\u001b[0;34m\u001b[0m\u001b[0;34m\u001b[0m\u001b[0m\n\u001b[0;32m--> 108\u001b[0;31m         pipe_sts_ranker.add_node(component=return_ranker_minilm(),\n\u001b[0m\u001b[1;32m    109\u001b[0m                                         name=\"Ranker\", inputs=[\"Retriever\"])  # \"Retriever\" é o nome do nó anterior\n\u001b[1;32m    110\u001b[0m     \u001b[0;32melse\u001b[0m\u001b[0;34m:\u001b[0m\u001b[0;34m\u001b[0m\u001b[0;34m\u001b[0m\u001b[0m\n",
      "\u001b[0;32m~/fontes/ind-ir/code/util/util_pipeline.py\u001b[0m in \u001b[0;36mreturn_ranker_minilm\u001b[0;34m(parm_limit_query_size)\u001b[0m\n\u001b[1;32m     21\u001b[0m         \u001b[0;32mraise\u001b[0m \u001b[0mException\u001b[0m \u001b[0;34m(\u001b[0m\u001b[0;34mf\"Invalid parm_limit_query_size {parm_limit_query_size}. Precisa mudar singleton!\"\u001b[0m\u001b[0;34m)\u001b[0m\u001b[0;34m\u001b[0m\u001b[0;34m\u001b[0m\u001b[0m\n\u001b[1;32m     22\u001b[0m     \u001b[0;32mif\u001b[0m \u001b[0mranker_minilm\u001b[0m \u001b[0;32mis\u001b[0m \u001b[0;32mNone\u001b[0m\u001b[0;34m:\u001b[0m\u001b[0;34m\u001b[0m\u001b[0;34m\u001b[0m\u001b[0m\n\u001b[0;32m---> 23\u001b[0;31m         \u001b[0mranker_minilm\u001b[0m \u001b[0;34m=\u001b[0m \u001b[0mSentenceTransformersRankerLimit\u001b[0m\u001b[0;34m(\u001b[0m\u001b[0mmodel_name_or_path\u001b[0m\u001b[0;34m=\u001b[0m\u001b[0mparm_path_model_ranker\u001b[0m\u001b[0;34m,\u001b[0m \u001b[0mlimit_query_size\u001b[0m\u001b[0;34m=\u001b[0m\u001b[0mparm_limit_query_size\u001b[0m\u001b[0;34m)\u001b[0m\u001b[0;34m\u001b[0m\u001b[0;34m\u001b[0m\u001b[0m\n\u001b[0m\u001b[1;32m     24\u001b[0m     \u001b[0;32mreturn\u001b[0m \u001b[0mranker_minilm\u001b[0m\u001b[0;34m\u001b[0m\u001b[0;34m\u001b[0m\u001b[0m\n\u001b[1;32m     25\u001b[0m \u001b[0;34m\u001b[0m\u001b[0m\n",
      "\u001b[0;31mNameError\u001b[0m: name 'parm_path_model_ranker' is not defined"
     ]
    }
   ],
   "source": [
    "pipe_sts_ranker_minilm = util_pipeline.return_pipeline_sts_reranker(index, 'MINILM', parm_limit_query_size=350)"
   ]
  },
  {
   "cell_type": "code",
   "execution_count": null,
   "metadata": {},
   "outputs": [],
   "source": [
    "pipes.append({'PIPE_NAME': 'pipe_sts_ranker_minilm',\n",
    "              'PIPE_OBJECT': pipe_sts_ranker_minilm,\n",
    "              'RETRIEVER_TYPE': 'sts',  # in ['sts', 'bm25']\n",
    "              'RETRIEVER_MODEL_NAME': util_pipeline.nome_modelo_embedding_model_sts, # or nome_modelo_embedding_model_sts_rufimelo,\n",
    "              'RANKER_MODEL_NAME': util_pipeline.nome_modelo_ranking_minilm})"
   ]
  },
  {
   "cell_type": "code",
   "execution_count": null,
   "metadata": {},
   "outputs": [
    {
     "name": "stdout",
     "output_type": "stream",
     "text": [
      "Parâmetros usados: {}\n",
      "Consulta: A transferência de documentos da entidade para local impróprio ao armazenamento, causando a perda de informações ou inviabilizando seu manuseio, de forma a impedir a atuação do TCU, é causa de responsabilização do gestor que a ordenou.\n",
      "Qtd documentos retornados: 10\n",
      "Primeiro docto:\n",
      "<Document: id=1110487, content='O termo é \"Vazamento de dados\".\n",
      "Vazamento de dados tem definição: \"Transmissão não-autorizada de dad...'>\n",
      "\n",
      "Último (10):\n",
      "<Document: id=15939, content='O termo é \"Erro de procedimento\".\n",
      "Erro de procedimento tem definição: \"É um vício de forma, extrínse...'>\n",
      "Seguem os nomes dos termos recuperados em ordem de score\n",
      "0 : ['Vazamento de dados', 0.0024509401991963387]\n",
      "1 : ['Termo de sigilo', 0.0007997120846994221]\n",
      "2 : ['Trancamento das contas', 0.0002845456183422357]\n",
      "3 : ['Risco de controle', 0.00022979704954195768]\n",
      "4 : ['Revisão de ofício', 0.00013715452223550528]\n",
      "5 : ['Responsabilidade perante o controle externo', 0.00013104191748425364]\n",
      "6 : ['Anulação', 0.00013015586591791362]\n",
      "7 : ['Afastamento de responsável', 0.00012832522043026984]\n",
      "8 : ['Ato vinculado', 8.117296965792775e-05]\n",
      "9 : ['Erro de procedimento', 6.451882654801011e-05]\n"
     ]
    }
   ],
   "source": [
    "doctos_retornados_ranker = pipe_sts_ranker_minilm.run(query=parm_query)\n",
    "util_pipeline.detail_document_found(doctos_retornados_ranker)"
   ]
  },
  {
   "attachments": {},
   "cell_type": "markdown",
   "metadata": {},
   "source": [
    "#### pipe_sts_ranker_monot5_3b"
   ]
  },
  {
   "cell_type": "code",
   "execution_count": null,
   "metadata": {},
   "outputs": [],
   "source": [
    "pipe_sts_ranker_monot5_3b = util_pipeline.return_pipeline_sts_reranker(index, 'MONOT5', parm_limit_query_size=350)"
   ]
  },
  {
   "cell_type": "code",
   "execution_count": null,
   "metadata": {},
   "outputs": [],
   "source": [
    "pipes.append({'PIPE_NAME': 'pipe_sts_ranker_monot5_3b',\n",
    "              'PIPE_OBJECT': pipe_sts_ranker_monot5_3b,\n",
    "              'RETRIEVER_TYPE': 'sts',  # in ['sts', 'bm25']\n",
    "              'RETRIEVER_MODEL_NAME': util_pipeline.nome_modelo_embedding_model_sts, # or nome_modelo_embedding_model_sts_rufimelo,\n",
    "              'RANKER_MODEL_NAME': util_pipeline.nome_modelo_monot5_3b})"
   ]
  },
  {
   "cell_type": "code",
   "execution_count": null,
   "metadata": {},
   "outputs": [
    {
     "name": "stdout",
     "output_type": "stream",
     "text": [
      "Parâmetros usados: {}\n",
      "Consulta: A transferência de documentos da entidade para local impróprio ao armazenamento, causando a perda de informações ou inviabilizando seu manuseio, de forma a impedir a atuação do TCU, é causa de responsabilização do gestor que a ordenou.\n",
      "Qtd documentos retornados: 10\n",
      "Primeiro docto:\n",
      "<Document: id=5098, content='O termo é \"Responsabilidade perante o controle externo\".\n",
      "Responsabilidade perante o controle externo...'>\n",
      "\n",
      "Último (10):\n",
      "<Document: id=83, content='O termo é \"Anulação\". Anulação tem definição: \"É o ato ou a decisão, de caráter judicial ou administ...'>\n",
      "Seguem os nomes dos termos recuperados em ordem de score\n",
      "0 : ['Responsabilidade perante o controle externo', -0.29301929473876953]\n",
      "1 : ['Termo de sigilo', -0.6637465357780457]\n",
      "2 : ['Afastamento de responsável', -0.8156272172927856]\n",
      "3 : ['Revisão de ofício', -0.9923231601715088]\n",
      "4 : ['Trancamento das contas', -1.1499707698822021]\n",
      "5 : ['Erro de procedimento', -2.8979315757751465]\n",
      "6 : ['Vazamento de dados', -2.988812208175659]\n",
      "7 : ['Risco de controle', -3.4774656295776367]\n",
      "8 : ['Ato vinculado', -4.7654876708984375]\n",
      "9 : ['Anulação', -5.362386703491211]\n"
     ]
    }
   ],
   "source": [
    "doctos_retornados_ranker = pipe_sts_ranker_monot5_3b.run(query=parm_query)\n",
    "util_pipeline.detail_document_found(doctos_retornados_ranker)"
   ]
  },
  {
   "attachments": {},
   "cell_type": "markdown",
   "metadata": {},
   "source": [
    "## Impressão de pipe"
   ]
  },
  {
   "cell_type": "code",
   "execution_count": null,
   "metadata": {},
   "outputs": [
    {
     "name": "stdout",
     "output_type": "stream",
     "text": [
      "huggingface/tokenizers: The current process just got forked, after parallelism has already been used. Disabling parallelism to avoid deadlocks...\n",
      "To disable this warning, you can either:\n",
      "\t- Avoid using `tokenizers` before the fork if possible\n",
      "\t- Explicitly set the environment variable TOKENIZERS_PARALLELISM=(true | false)\n",
      "huggingface/tokenizers: The current process just got forked, after parallelism has already been used. Disabling parallelism to avoid deadlocks...\n",
      "To disable this warning, you can either:\n",
      "\t- Avoid using `tokenizers` before the fork if possible\n",
      "\t- Explicitly set the environment variable TOKENIZERS_PARALLELISM=(true | false)\n"
     ]
    },
    {
     "data": {
      "image/png": "[encoded data removed]",
      "text/plain": [
       "<Figure size 432x288 with 1 Axes>"
      ]
     },
     "metadata": {
      "needs_background": "light"
     },
     "output_type": "display_data"
    }
   ],
   "source": [
    "util_pipeline.imprime_pipe(pipe_join_sts_multihop_bm25)"
   ]
  },
  {
   "attachments": {},
   "cell_type": "markdown",
   "metadata": {},
   "source": [
    "# Experiments"
   ]
  },
  {
   "cell_type": "code",
   "execution_count": 41,
   "metadata": {},
   "outputs": [
    {
     "data": {
      "text/plain": [
       "[{'PIPE_NAME': 'pipe_bm25',\n",
       "  'PIPE_OBJECT': <haystack.pipelines.standard_pipelines.DocumentSearchPipeline at 0x7f1d07d64410>,\n",
       "  'RETRIEVER_TYPE': 'bm25',\n",
       "  'RETRIEVER_MODEL_NAME': '',\n",
       "  'RANKER_MODEL_NAME': ''}]"
      ]
     },
     "execution_count": 41,
     "metadata": {},
     "output_type": "execute_result"
    }
   ],
   "source": [
    "pipes"
   ]
  },
  {
   "cell_type": "code",
   "execution_count": 46,
   "metadata": {},
   "outputs": [],
   "source": [
    "grid_experiment = {'CRITERIA' : [\"area\", \"theme\", \"subtheme\", \"extra\", \"total\", \"total_gte_5\"],\n",
    "             'TOPK_RETRIEVER' : [300],\n",
    "             'TOPK_RANKER' : [0],\n",
    "             'PIPE': pipes,\n",
    "             'DONE': [False]\n",
    "}"
   ]
  },
  {
   "cell_type": "code",
   "execution_count": 47,
   "metadata": {},
   "outputs": [],
   "source": [
    "list_experiment = [dict(zip(grid_experiment.keys(), values)) for values in product(*grid_experiment.values())]\n"
   ]
  },
  {
   "cell_type": "code",
   "execution_count": 48,
   "metadata": {},
   "outputs": [
    {
     "name": "stdout",
     "output_type": "stream",
     "text": [
      "6\n"
     ]
    },
    {
     "data": {
      "text/plain": [
       "63"
      ]
     },
     "execution_count": 48,
     "metadata": {},
     "output_type": "execute_result"
    }
   ],
   "source": [
    "print(len(list_experiment))\n",
    "gc.collect()"
   ]
  },
  {
   "cell_type": "code",
   "execution_count": 49,
   "metadata": {},
   "outputs": [
    {
     "data": {
      "text/plain": [
       "<module 'util.util_experiment' from '/home/borela/fontes/ind-ir/code/util/util_experiment.py'>"
      ]
     },
     "execution_count": 49,
     "metadata": {},
     "output_type": "execute_result"
    }
   ],
   "source": [
    "importlib.reload(util_experiment)"
   ]
  },
  {
   "cell_type": "code",
   "execution_count": 50,
   "metadata": {},
   "outputs": [
    {
     "name": "stdout",
     "output_type": "stream",
     "text": [
      "===0/6===>  2023-Jun-20 12:38:45 experiment: {'CRITERIA': 'area', 'TOPK_RETRIEVER': 300, 'TOPK_RANKER': 0, 'PIPE': {'PIPE_NAME': 'pipe_bm25', 'PIPE_OBJECT': <haystack.pipelines.standard_pipelines.DocumentSearchPipeline object at 0x7f1d07d64410>, 'RETRIEVER_TYPE': 'bm25', 'RETRIEVER_MODEL_NAME': '', 'RANKER_MODEL_NAME': ''}, 'DONE': False}\n"
     ]
    },
    {
     "name": "stderr",
     "output_type": "stream",
     "text": [
      "  0%|          | 0/16045 [00:00<?, ?it/s]"
     ]
    }
   ],
   "source": [
    "%%time\n",
    "# colocar pequeno só para testes, depois voltar para 9999999 (número maior do que o número de termos a pesquisar)\n",
    "limit_query = 9999999 # 100 # \n",
    "for cnt, experiment in enumerate(list_experiment):\n",
    "    if not experiment['DONE']:\n",
    "        list_result_experiment = [] # por experiment\n",
    "        # no caso de normas segecex, bastaria 224 para qtd5 e 891 para qtd1\n",
    "        print(f\"==={cnt}/{len(list_experiment)}===>  {time.strftime('%Y-%b-%d %H:%M:%S')} experiment: {experiment}\")\n",
    "        result_run = util_experiment.experiment_run(parm_df=df_search_data, \n",
    "                                                parm_experiment=experiment,\n",
    "                                                parm_ndcg_position=12,\n",
    "                                                parm_limit_query=limit_query,\n",
    "                                                parm_print=True)\n",
    "        list_result_experiment.append(result_run)\n",
    "        # print(f\"qtd_encontrado sim:{result_run['qtd_encontrado']}, não:{result_run['qtd_nao_encontrado']} ({result_run['percent_nao_encontrado']}%)\")\n",
    "        experiment['DONE'] = True\n",
    "        util_experiment.add_experiment_result(parm_list_result=list_result_experiment, parm_dataset='juris_tcu_index')\n",
    "\n"
   ]
  },
  {
   "cell_type": "code",
   "execution_count": null,
   "metadata": {},
   "outputs": [],
   "source": []
  },
  {
   "cell_type": "markdown",
   "metadata": {},
   "source": []
  },
  {
   "attachments": {},
   "cell_type": "markdown",
   "metadata": {},
   "source": [
    "join_sts_bm25\n"
   ]
  },
  {
   "attachments": {},
   "cell_type": "markdown",
   "metadata": {},
   "source": [
    "Free resources: "
   ]
  },
  {
   "cell_type": "code",
   "execution_count": null,
   "metadata": {},
   "outputs": [
    {
     "ename": "",
     "evalue": "",
     "output_type": "error",
     "traceback": [
      "\u001b[1;31mThe Kernel crashed while executing code in the the current cell or a previous cell. Please review the code in the cell(s) to identify a possible cause of the failure. Click <a href='https://aka.ms/vscodeJupyterKernelCrash'>here</a> for more info. View Jupyter <a href='command:jupyter.viewOutput'>log</a> for further details."
     ]
    }
   ],
   "source": [
    "quit()"
   ]
  },
  {
   "cell_type": "code",
   "execution_count": null,
   "metadata": {},
   "outputs": [],
   "source": []
  }
 ],
 "metadata": {
  "kernelspec": {
   "display_name": "relevar-busca",
   "language": "python",
   "name": "python3"
  },
  "language_info": {
   "codemirror_mode": {
    "name": "ipython",
    "version": 3
   },
   "file_extension": ".py",
   "mimetype": "text/x-python",
   "name": "python",
   "nbconvert_exporter": "python",
   "pygments_lexer": "ipython3",
   "version": "3.7.13"
  },
  "orig_nbformat": 4,
  "vscode": {
   "interpreter": {
    "hash": "45978bf3509deeb93161d1472b16f82a40245d44c2beae6c63ad8f9bb3f69171"
   }
  }
 },
 "nbformat": 4,
 "nbformat_minor": 2
}
