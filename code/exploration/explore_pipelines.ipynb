{
 "cells": [
  {
   "attachments": {},
   "cell_type": "markdown",
   "metadata": {},
   "source": [
    "just experimetns/trials"
   ]
  },
  {
   "attachments": {},
   "cell_type": "markdown",
   "id": "998a4011",
   "metadata": {},
   "source": [
    "# Imports and preparation"
   ]
  },
  {
   "attachments": {},
   "cell_type": "markdown",
   "metadata": {},
   "source": [
    "def count_parameters(model):\n",
    "    \"\"\"\n",
    "    Conta o número de parâmetros treináveis em um modelo PyTorch.\n",
    "\n",
    "    Args:\n",
    "        model (torch.nn.Module): O modelo PyTorch a ser avaliado.\n",
    "\n",
    "    Returns:\n",
    "        int: O número de parâmetros treináveis do modelo.\n",
    "\n",
    "    \"\"\"\n",
    "    # Retorna a soma do número de elementos em cada tensor de parâmetro que requer gradiente.\n",
    "    # A propriedade \"requires_grad\" é definida como True para todos os tensores de parâmetro que\n",
    "    # precisam ser treinados, enquanto que para aqueles que não precisam, ela é definida como False.\n",
    "    return sum(p.numel() for p in model.parameters() if p.requires_grad)"
   ]
  },
  {
   "cell_type": "code",
   "execution_count": null,
   "metadata": {},
   "outputs": [],
   "source": [
    "import torch"
   ]
  },
  {
   "cell_type": "code",
   "execution_count": null,
   "metadata": {},
   "outputs": [],
   "source": []
  },
  {
   "cell_type": "code",
   "execution_count": null,
   "metadata": {},
   "outputs": [],
   "source": []
  },
  {
   "cell_type": "code",
   "execution_count": null,
   "metadata": {},
   "outputs": [],
   "source": []
  },
  {
   "cell_type": "code",
   "execution_count": 1,
   "metadata": {},
   "outputs": [
    {
     "name": "stderr",
     "output_type": "stream",
     "text": [
      "OpenAI tiktoken module is not available for Python < 3.8,Linux ARM64 and AARCH64. Falling back to GPT2TokenizerFast.\n",
      "WARNING:haystack.nodes.answer_generator.openai:OpenAI tiktoken module is not available for Python < 3.8,Linux ARM64 and AARCH64. Falling back to GPT2TokenizerFast.\n"
     ]
    }
   ],
   "source": [
    "from haystack.nodes import PromptNode\n"
   ]
  },
  {
   "cell_type": "code",
   "execution_count": null,
   "metadata": {},
   "outputs": [],
   "source": [
    "# Initialize the node:\n",
    "prompt_node = PromptNode()\n"
   ]
  },
  {
   "cell_type": "code",
   "execution_count": null,
   "metadata": {},
   "outputs": [],
   "source": [
    "# Run a prompt\n",
    "prompt_node(\"What is the capital of Germany?\")\n",
    "\n",
    "# Here's the output:\n",
    "['berlin']"
   ]
  },
  {
   "cell_type": "code",
   "execution_count": null,
   "metadata": {},
   "outputs": [],
   "source": []
  },
  {
   "cell_type": "code",
   "execution_count": null,
   "metadata": {},
   "outputs": [],
   "source": []
  },
  {
   "cell_type": "code",
   "execution_count": null,
   "metadata": {},
   "outputs": [],
   "source": []
  },
  {
   "cell_type": "code",
   "execution_count": 1,
   "metadata": {},
   "outputs": [],
   "source": [
    "import os"
   ]
  },
  {
   "cell_type": "code",
   "execution_count": 2,
   "metadata": {},
   "outputs": [],
   "source": [
    "import numpy as np"
   ]
  },
  {
   "cell_type": "code",
   "execution_count": 3,
   "id": "37d4165c",
   "metadata": {},
   "outputs": [],
   "source": [
    "import pandas as pd"
   ]
  },
  {
   "cell_type": "code",
   "execution_count": 4,
   "metadata": {},
   "outputs": [],
   "source": [
    "from tqdm import tqdm"
   ]
  },
  {
   "cell_type": "code",
   "execution_count": 30,
   "metadata": {},
   "outputs": [],
   "source": [
    "import time, gc"
   ]
  },
  {
   "cell_type": "code",
   "execution_count": 6,
   "metadata": {},
   "outputs": [],
   "source": [
    "from util import util_elastic"
   ]
  },
  {
   "cell_type": "code",
   "execution_count": 7,
   "metadata": {},
   "outputs": [],
   "source": [
    "from util import util_search"
   ]
  },
  {
   "cell_type": "code",
   "execution_count": 48,
   "metadata": {},
   "outputs": [],
   "source": [
    "from haystack.nodes import SentenceTransformersRankerLimit\n",
    "from haystack.nodes import MonoT5RankerLimit "
   ]
  },
  {
   "cell_type": "code",
   "execution_count": 10,
   "id": "f911fcf2",
   "metadata": {},
   "outputs": [],
   "source": [
    "# Para ter repetibilidade nos resultados\n",
    "random_state = 1\n",
    "\n",
    "# Tratar valores infinitos (+ e -) como np.NaN\n",
    "pd.options.mode.use_inf_as_na = True\n",
    "\n",
    "# IMPORTANTE para tornar figuras interativas\n",
    "# %matplotlib notebook\n",
    "\n",
    "# Tamanho padrão das figuras\n",
    "figsize=(10,6)\n",
    "\n",
    "pd.set_option('display.max_row', 1000)\n",
    "\n",
    "pd.set_option('display.max_columns', 50)\n",
    "\n",
    "pd.set_option('display.column_space', 40)\n",
    "pd.set_option('display.max_colwidth', 100)\n",
    "pd.set_option('display.width', 200)\n"
   ]
  },
  {
   "cell_type": "code",
   "execution_count": 11,
   "id": "6e05b9a6",
   "metadata": {},
   "outputs": [],
   "source": [
    "PATH_QUERY = '../data/juris_tcu_index/query.csv'\n",
    "PATH_QREL =  '../data/juris_tcu_index/qrel.csv'"
   ]
  },
  {
   "cell_type": "code",
   "execution_count": 12,
   "metadata": {},
   "outputs": [],
   "source": [
    "PATH_SEARCH_EXPERIMENT =  '../data/search/juris_tcu_index/search_experiment.csv'\n",
    "PATH_SEARCH_RESULT =  '../data/search/juris_tcu_index/search_experiment_result.csv'"
   ]
  },
  {
   "attachments": {},
   "cell_type": "markdown",
   "metadata": {},
   "source": [
    "# Create reference to index (elastic search)"
   ]
  },
  {
   "attachments": {},
   "cell_type": "markdown",
   "metadata": {},
   "source": [
    "Documentation https://docs.haystack.deepset.ai/docs\n",
    "https://haystack.deepset.ai/tutorials/09_dpr_training \n"
   ]
  },
  {
   "cell_type": "code",
   "execution_count": 13,
   "metadata": {},
   "outputs": [
    {
     "name": "stdout",
     "output_type": "stream",
     "text": [
      "Index: indir_juris_tcu_index\n",
      "{'health': 'yellow', 'status': 'open', 'index': 'indir_juris_tcu_index', 'uuid': 'pkdKp2wmTAOM0HyrusfENQ', 'pri': '1', 'rep': '1', 'docs.count': '13252', 'docs.deleted': '0', 'store.size': '276.4mb', 'pri.store.size': '276.4mb'}\n",
      "\n",
      "There are no index with name indir%\n"
     ]
    }
   ],
   "source": [
    "index_dict = util_elastic.return_indexes('indir', parm_print=True)"
   ]
  },
  {
   "cell_type": "code",
   "execution_count": 16,
   "metadata": {},
   "outputs": [],
   "source": [
    "INDEX_NAME = 'indir_juris_tcu_index'"
   ]
  },
  {
   "cell_type": "code",
   "execution_count": 19,
   "metadata": {},
   "outputs": [
    {
     "name": "stdout",
     "output_type": "stream",
     "text": [
      "\n",
      "Qtd de documentos 13252\n",
      "\n",
      "Qtd de embeddings 13252\n",
      "\n",
      "Documento.id=1: <Document: id=1, content='O termo é \"Abandono de cargo\".\n",
      "Abandono de cargo tem definição: \"Configura abandono de cargo a ausên...'>\n"
     ]
    }
   ],
   "source": [
    "index = util_elastic.return_index(parm_index_name=INDEX_NAME)"
   ]
  },
  {
   "cell_type": "markdown",
   "metadata": {},
   "source": [
    "# Load search pipelines"
   ]
  },
  {
   "cell_type": "code",
   "execution_count": 34,
   "metadata": {},
   "outputs": [],
   "source": [
    "# Test query\n",
    "parm_query = \"trata-se de uma denúncia contra o prefeito de Manhuaçu por não haver pago os funcionários da área de limpeza urbana\"\n",
    "parm_query = \"A transferência de documentos da entidade para local impróprio ao armazenamento, causando a perda de informações ou inviabilizando seu manuseio, de forma a impedir a atuação do TCU, é causa de responsabilização do gestor que a ordenou.\""
   ]
  },
  {
   "cell_type": "code",
   "execution_count": 32,
   "metadata": {},
   "outputs": [],
   "source": [
    "# defining retriever BM25\n",
    "pipeline_bm25 = util_elastic.return_pipeline_bm25(index)\n"
   ]
  },
  {
   "cell_type": "code",
   "execution_count": 37,
   "metadata": {},
   "outputs": [
    {
     "name": "stdout",
     "output_type": "stream",
     "text": [
      "Parâmetros usados: {'Retriever': {'top_k': 10, 'filters': {'class': ['Termo']}}}\n",
      "Consulta: A transferência de documentos da entidade para local impróprio ao armazenamento, causando a perda de informações ou inviabilizando seu manuseio, de forma a impedir a atuação do TCU, é causa de responsabilização do gestor que a ordenou.\n",
      "Qtd documentos retornados: 10\n",
      "Primeiro docto:\n",
      "<Document: id=1102005, content='O termo é \"Plano de contratações\".\n",
      "Plano de contratações tem definição: \"É o documento no qual a org...'>\n",
      "\n",
      "Último (10):\n",
      "<Document: id=6627, content='O termo é \"Matriz de fiscalização\".\n",
      "Matriz de fiscalização tem definição: \"Uma matriz de fiscalizaçã...'>\n",
      "Seguem os nomes dos termos recuperados em ordem de score\n",
      "0 : ['Plano de contratações', 0.9857202004884205]\n",
      "1 : ['Competência do TCU', 0.9850136948440441]\n",
      "2 : ['Teletrabalho', 0.9823720344893851]\n",
      "3 : ['Nexo de causalidade', 0.9818282753435749]\n",
      "4 : ['Processo administrativo de responsabilização', 0.9816628569708713]\n",
      "5 : ['Ofício de requisição', 0.9810424600107858]\n",
      "6 : ['Evidência documental', 0.9808839221817429]\n",
      "7 : ['Papéis de trabalho', 0.9800902480922153]\n",
      "8 : ['Julgamento de contas', 0.9780776387591876]\n",
      "9 : ['Matriz de fiscalização', 0.9778753129743464]\n"
     ]
    }
   ],
   "source": [
    "doc_search_return = pipeline_bm25.run(\n",
    "    query=parm_query,\n",
    "    params={\n",
    "        \"Retriever\": {\n",
    "            \"top_k\": 10,\n",
    "            \"filters\":{\"class\": [\"Termo\"]}\n",
    "        }})\n",
    "util_search.detail_document_found(doc_search_return)\n"
   ]
  },
  {
   "cell_type": "code",
   "execution_count": 41,
   "metadata": {},
   "outputs": [],
   "source": [
    "## defining retriever STS (sentence similarity)\n",
    "nome_modelo_embedding_model_sts_rufimelo = \"rufimelo/Legal-BERTimbau-sts-large-ma-v3\"\n",
    "# requer Embedding dimensions of the model (1024) don't match the embedding dimensions of the document store (768). Initiate ElasticsearchDocumentStore again with arg embedding_dim=1024.\n",
    "# nome_modelo = \"unicamp-dl/ptt5-base-pt-msmarco-100k-v2\"\n",
    "# nome_modelo = \"pierreguillou/bert-base-cased-squad-v1.1-portuguese\"\n",
    "nome_caminho_modelo = \"/home/borela/fontes/relevar-busca/modelo/\" + nome_modelo_embedding_model_sts_rufimelo\n",
    "assert os.path.exists(nome_caminho_modelo), f\"Path para {nome_caminho_modelo} não existe!\""
   ]
  },
  {
   "cell_type": "code",
   "execution_count": 43,
   "metadata": {},
   "outputs": [],
   "source": [
    "pipeline_sts = util_elastic.return_pipeline_sts(index, nome_caminho_modelo)"
   ]
  },
  {
   "cell_type": "code",
   "execution_count": 44,
   "metadata": {},
   "outputs": [
    {
     "name": "stdout",
     "output_type": "stream",
     "text": [
      "Parâmetros usados: {'Retriever': {'top_k': 10, 'filters': {'class': ['Termo']}}}\n",
      "Consulta: A transferência de documentos da entidade para local impróprio ao armazenamento, causando a perda de informações ou inviabilizando seu manuseio, de forma a impedir a atuação do TCU, é causa de responsabilização do gestor que a ordenou.\n",
      "Qtd documentos retornados: 10\n",
      "Primeiro docto:\n",
      "<Document: id=2577, content='O termo é \"Afastamento de responsável\".\n",
      "Afastamento de responsável tem definição: \"No início ou no c...'>\n",
      "\n",
      "Último (10):\n",
      "<Document: id=83, content='O termo é \"Anulação\".\n",
      "Anulação tem definição: \"É o ato ou a decisão, de caráter judicial ou administ...'>\n",
      "Seguem os nomes dos termos recuperados em ordem de score\n",
      "0 : ['Afastamento de responsável', 0.9546168861748239]\n",
      "1 : ['Risco de controle', 0.9431321899255821]\n",
      "2 : ['Vazamento de dados', 0.942404112002669]\n",
      "3 : ['Trancamento das contas', 0.9341491636096659]\n",
      "4 : ['Revisão de ofício', 0.9297291992714615]\n",
      "5 : ['Responsabilidade perante o controle externo', 0.9294792178601551]\n",
      "6 : ['Erro de procedimento', 0.9279971526664028]\n",
      "7 : ['Ato vinculado', 0.9275548361310705]\n",
      "8 : ['Termo de sigilo', 0.925027979414632]\n",
      "9 : ['Anulação', 0.924645376239448]\n"
     ]
    }
   ],
   "source": [
    "doc_search_return = pipeline_sts.run(\n",
    "    query=parm_query,\n",
    "    params={\n",
    "        \"Retriever\": {\n",
    "            \"top_k\": 10,\n",
    "            \"filters\":{\"class\": [\"Termo\"]}\n",
    "        }})\n",
    "util_search.detail_document_found(doc_search_return)\n"
   ]
  },
  {
   "cell_type": "markdown",
   "metadata": {},
   "source": [
    "## Reranking - minilm_pt\n"
   ]
  },
  {
   "cell_type": "markdown",
   "metadata": {},
   "source": [
    "mMiniLM-L6-v2-pt-msmarco-v2 is a multilingual miniLM-based model finetuned on a Portuguese translated version of MS MARCO passage dataset. In the v2 version, the Portuguese dataset was translated using Google Translate. Further information about the dataset or the translation method can be found on our mMARCO: A Multilingual Version of MS MARCO Passage Ranking Dataset and mMARCO repository.\n"
   ]
  },
  {
   "cell_type": "code",
   "execution_count": 67,
   "metadata": {},
   "outputs": [],
   "source": [
    "nome_modelo_ranking_pt = 'unicamp-dl/mMiniLM-L6-v2-pt-v2'\n",
    "nome_caminho_modelo_minilm = \"/home/borela/fontes/relevar-busca/modelo/\" + nome_modelo_ranking_pt\n",
    "assert os.path.exists(nome_caminho_modelo_minilm), f\"Path para {nome_caminho_modelo_minilm} não existe!\""
   ]
  },
  {
   "cell_type": "code",
   "execution_count": 56,
   "metadata": {},
   "outputs": [],
   "source": [
    "#ranker_minilm_pt = SentenceTransformersRanker(model_name_or_path=nome_caminho_modelo)\n",
    "ranker_minilm_pt = SentenceTransformersRankerLimit(model_name_or_path=nome_caminho_modelo_minilm, limit_query_size=350)"
   ]
  },
  {
   "cell_type": "code",
   "execution_count": 50,
   "metadata": {},
   "outputs": [
    {
     "name": "stdout",
     "output_type": "stream",
     "text": [
      "<Document: id=1110487, content='O termo é \"Vazamento de dados\".\n",
      "Vazamento de dados tem definição: \"Transmissão não-autorizada de dad...'> Vazamento de dados\n",
      "1110487 0.0024509401991963387 Vazamento de dados\n",
      "1000057 0.0007997120846994221 Termo de sigilo\n",
      "2663 0.0002845456183422357 Trancamento das contas\n",
      "1101311 0.00022979704954195768 Risco de controle\n",
      "15291 0.00013715452223550528 Revisão de ofício\n"
     ]
    }
   ],
   "source": [
    "doctos_retornados_ranker = ranker_minilm_pt.predict(query=parm_query,documents = doc_search_return['documents'], top_k=5)\n",
    "print(doctos_retornados_ranker[0],  doctos_retornados_ranker[0].meta['name'])\n",
    "util_search.detail_document_found(doctos_retornados_ranker)"
   ]
  },
  {
   "attachments": {},
   "cell_type": "markdown",
   "metadata": {},
   "source": [
    "## Reranking - monot5_3b\n"
   ]
  },
  {
   "cell_type": "code",
   "execution_count": 59,
   "metadata": {},
   "outputs": [],
   "source": [
    "nome_modelo_monot5_multilingual = 'unicamp-dl/ptt5-base-pt-msmarco-100k-v2'\n",
    "# \"A mono-ptT5 reranker model (850 mb) pretrained in the BrWac corpus, finetuned for 100k steps on Portuguese translated version of MS MARCO passage dataset. The portuguese dataset was translated using Google Translate.\")\n",
    "nome_caminho_modelo_monot5_3b = \"/home/borela/fontes/relevar-busca/modelo/\" + nome_modelo_monot5_multilingual\n",
    "assert os.path.exists(nome_caminho_modelo_monot5_3b), f\"Path para {nome_caminho_modelo_monot5_3b} não existe!\""
   ]
  },
  {
   "cell_type": "code",
   "execution_count": 53,
   "metadata": {},
   "outputs": [],
   "source": [
    "ranker_monot5_multilingual = MonoT5RankerLimit(model_name_or_path=nome_caminho_modelo_monot5_3b, limit_query_size=350)"
   ]
  },
  {
   "cell_type": "code",
   "execution_count": 57,
   "metadata": {},
   "outputs": [
    {
     "name": "stdout",
     "output_type": "stream",
     "text": [
      "<Document: id=2663, content='O termo é \"Trancamento das contas\".\n",
      "Trancamento das contas tem definição: \"O Tribunal ordenará o tra...'> Trancamento das contas\n",
      "2663 -6.416285991668701 Trancamento das contas\n",
      "2577 -6.9923858642578125 Afastamento de responsável\n",
      "1000057 -8.37442398071289 Termo de sigilo\n",
      "5098 -8.556228637695312 Responsabilidade perante o controle externo\n",
      "15291 -9.356241226196289 Revisão de ofício\n",
      "1110487 -9.744372367858887 Vazamento de dados\n",
      "6397 -9.853102684020996 Ato vinculado\n",
      "1101311 -10.173725128173828 Risco de controle\n",
      "15939 -10.493630409240723 Erro de procedimento\n",
      "83 -11.372177124023438 Anulação\n"
     ]
    }
   ],
   "source": [
    "doctos_retornados_ranker = ranker_monot5_multilingual.predict(query=parm_query,documents = doc_search_return['documents'], top_k=5)\n",
    "print(doctos_retornados_ranker[0],  doctos_retornados_ranker[0].meta['name'])\n",
    "util_search.detail_document_found(doctos_retornados_ranker)"
   ]
  },
  {
   "cell_type": "code",
   "execution_count": null,
   "metadata": {},
   "outputs": [],
   "source": []
  },
  {
   "cell_type": "code",
   "execution_count": null,
   "metadata": {},
   "outputs": [],
   "source": []
  },
  {
   "attachments": {},
   "cell_type": "markdown",
   "metadata": {},
   "source": [
    "## Criar pipelines"
   ]
  },
  {
   "cell_type": "code",
   "execution_count": 61,
   "metadata": {},
   "outputs": [
    {
     "data": {
      "text/plain": [
       "<module 'util.util_elastic' from '/home/borela/fontes/ind-ir/code/util/util_elastic.py'>"
      ]
     },
     "execution_count": 61,
     "metadata": {},
     "output_type": "execute_result"
    }
   ],
   "source": [
    "import importlib\n",
    "importlib.reload(util_elastic)"
   ]
  },
  {
   "cell_type": "code",
   "execution_count": 62,
   "metadata": {},
   "outputs": [],
   "source": [
    "pipe_bm25_ranker_monot5_3b = util_elastic.return_pipeline_bm25_reranker(index, 'MONOT5', nome_caminho_modelo_monot5_3b)"
   ]
  },
  {
   "cell_type": "code",
   "execution_count": 64,
   "metadata": {},
   "outputs": [
    {
     "name": "stdout",
     "output_type": "stream",
     "text": [
      "Parâmetros usados: {}\n",
      "Consulta: A transferência de documentos da entidade para local impróprio ao armazenamento, causando a perda de informações ou inviabilizando seu manuseio, de forma a impedir a atuação do TCU, é causa de responsabilização do gestor que a ordenou.\n",
      "Qtd documentos retornados: 10\n",
      "Primeiro docto:\n",
      "<Document: id=1101404, content='O termo é \"Ofício de requisição\".\n",
      "Ofício de requisição tem definição: \"Documento assinado por coorde...'>\n",
      "\n",
      "Último (10):\n",
      "<Document: id=5949, content='O termo é \"Teletrabalho\".\n",
      "Teletrabalho tem definição: \"Todo e qualquer trabalho realizado a distânci...'>\n",
      "Seguem os nomes dos termos recuperados em ordem de score\n",
      "0 : ['Ofício de requisição', -4.997889041900635]\n",
      "1 : ['Julgamento de contas', -8.07536506652832]\n",
      "2 : ['Evidência documental', -8.139838218688965]\n",
      "3 : ['Processo administrativo de responsabilização', -9.24802017211914]\n",
      "4 : ['Nexo de causalidade', -9.401777267456055]\n",
      "5 : ['Competência do TCU', -9.931207656860352]\n",
      "6 : ['Papéis de trabalho', -10.423628807067871]\n",
      "7 : ['Matriz de fiscalização', -10.89758586883545]\n",
      "8 : ['Plano de contratações', -11.944403648376465]\n",
      "9 : ['Teletrabalho', -11.972269058227539]\n"
     ]
    }
   ],
   "source": [
    "doctos_retornados_ranker = pipe_bm25_ranker_monot5_3b.run(query=parm_query)\n",
    "util_search.detail_document_found(doctos_retornados_ranker)"
   ]
  },
  {
   "cell_type": "code",
   "execution_count": 68,
   "metadata": {},
   "outputs": [
    {
     "data": {
      "text/plain": [
       "<module 'util.util_elastic' from '/home/borela/fontes/ind-ir/code/util/util_elastic.py'>"
      ]
     },
     "execution_count": 68,
     "metadata": {},
     "output_type": "execute_result"
    }
   ],
   "source": [
    "import importlib\n",
    "importlib.reload(util_elastic)"
   ]
  },
  {
   "cell_type": "code",
   "execution_count": 69,
   "metadata": {},
   "outputs": [],
   "source": [
    "pipe_bm25_ranker_minilm = util_elastic.return_pipeline_bm25_reranker(index, 'MINILM', nome_caminho_modelo_minilm)"
   ]
  },
  {
   "cell_type": "code",
   "execution_count": 71,
   "metadata": {},
   "outputs": [
    {
     "name": "stdout",
     "output_type": "stream",
     "text": [
      "Parâmetros usados: {}\n",
      "Consulta: A transferência de documentos da entidade para local impróprio ao armazenamento, causando a perda de informações ou inviabilizando seu manuseio, de forma a impedir a atuação do TCU, é causa de responsabilização do gestor que a ordenou.\n",
      "Qtd documentos retornados: 10\n",
      "Primeiro docto:\n",
      "<Document: id=5095, content='O termo é \"Competência do TCU\". Competência do TCU tem definição: \"São as seguintes as competências ...'>\n",
      "\n",
      "Último (10):\n",
      "<Document: id=4495, content='O termo é \"Nexo de causalidade\".\n",
      "Nexo de causalidade tem definição: \"Elemento que evidencia se a con...'>\n",
      "Seguem os nomes dos termos recuperados em ordem de score\n",
      "0 : ['Competência do TCU', 0.0014646538766101003]\n",
      "1 : ['Processo administrativo de responsabilização', 0.0004114470211789012]\n",
      "2 : ['Evidência documental', 0.00033812460605986416]\n",
      "3 : ['Plano de contratações', 0.0002457168884575367]\n",
      "4 : ['Julgamento de contas', 0.00022130725847091526]\n",
      "5 : ['Teletrabalho', 0.00016929447883740067]\n",
      "6 : ['Ofício de requisição', 0.0001542003737995401]\n",
      "7 : ['Papéis de trabalho', 8.805856487015262e-05]\n",
      "8 : ['Matriz de fiscalização', 7.702181028435007e-05]\n",
      "9 : ['Nexo de causalidade', 7.497824117308483e-05]\n"
     ]
    }
   ],
   "source": [
    "doctos_retornados_ranker = pipe_bm25_ranker_minilm.run(query=parm_query)\n",
    "util_search.detail_document_found(doctos_retornados_ranker)"
   ]
  }
 ],
 "metadata": {
  "kernelspec": {
   "display_name": "Python (relevar-busca)",
   "language": "python",
   "name": "relevar-busca"
  },
  "language_info": {
   "codemirror_mode": {
    "name": "ipython",
    "version": 3
   },
   "file_extension": ".py",
   "mimetype": "text/x-python",
   "name": "python",
   "nbconvert_exporter": "python",
   "pygments_lexer": "ipython3",
   "version": "3.7.13 (default, Mar 29 2022, 02:18:16) \n[GCC 7.5.0]"
  },
  "orig_nbformat": 4,
  "vscode": {
   "interpreter": {
    "hash": "45978bf3509deeb93161d1472b16f82a40245d44c2beae6c63ad8f9bb3f69171"
   }
  }
 },
 "nbformat": 4,
 "nbformat_minor": 2
}
